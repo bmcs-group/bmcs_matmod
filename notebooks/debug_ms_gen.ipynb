{
 "cells": [
  {
   "cell_type": "code",
   "execution_count": 1,
   "id": "1c5f195e-0310-4dee-807d-916d1e11cf33",
   "metadata": {},
   "outputs": [],
   "source": [
    "%matplotlib widget\n",
    "from bmcs_matmod.ms1.ms_generic import MSGeneric\n",
    "from bmcs_matmod.slide.vslide_35 import Slide34 as VCoNTIM\n",
    "from bmcs_matmod.slide.slide_explorer import SlideExplorer\n",
    "import matplotlib.pylab as plt\n",
    "import numpy as np\n",
    "np.seterr(divide='ignore', invalid='ignore');"
   ]
  },
  {
   "cell_type": "code",
   "execution_count": 2,
   "id": "57e29744-a3e4-4b71-8113-c6afdd85e9f2",
   "metadata": {},
   "outputs": [],
   "source": [
    "material_params = dict(\n",
    "    E_T=1000, gamma_T=0, K_T=0, S_T=0.001, c_T=1, bartau=3, \n",
    "    E_N=100, \n",
    "    S_N=0.001,\n",
    "    #S_N=0.005, \n",
    "    c_N = 1, m = 0.01, f_t=3, f_c=20, f_c0=10, eta=0.0, # 0.5\n",
    ")"
   ]
  },
  {
   "cell_type": "code",
   "execution_count": 3,
   "id": "d765336e-64b9-42c2-9f11-940fd7fbe5fb",
   "metadata": {},
   "outputs": [],
   "source": [
    "mp_microplane = dict(K_T=300, gamma_T=3000, bartau=2, f_t=2, eta=0, c_T=1, S_T=0.001, c_N=0.3, S_N = 0.001 );"
   ]
  },
  {
   "cell_type": "markdown",
   "id": "e8348df9-48f4-495a-865a-c34c054ba1e9",
   "metadata": {},
   "source": [
    "# Slide 32"
   ]
  },
  {
   "cell_type": "code",
   "execution_count": 4,
   "id": "2e659352-0faf-4826-9c52-ee0f0b975baf",
   "metadata": {},
   "outputs": [],
   "source": [
    "se_pull = SlideExplorer(n_steps=40, k_max=2)\n",
    "se_pull.slide_model.trait_set(debug_level=0, **material_params)\n",
    "#se_pull.slide_model.trait_set(debug_level=5, **mp_microplane)\n",
    "se_pull.trait_set(s_x_1 = 0, s_y_1 = 0, w_1 = 0.046);\n",
    "se_pull.run()\n",
    "#se_pull.interact()"
   ]
  },
  {
   "cell_type": "code",
   "execution_count": 5,
   "id": "87d03587-c192-492a-b702-da14b7d021c3",
   "metadata": {},
   "outputs": [
    {
     "data": {
      "application/vnd.jupyter.widget-view+json": {
       "model_id": "d0e05be3b26e4788a35a331cfff6c5e2",
       "version_major": 2,
       "version_minor": 0
      },
      "text/plain": [
       "Canvas(toolbar=Toolbar(toolitems=[('Home', 'Reset original view', 'home', 'home'), ('Back', 'Back to previous …"
      ]
     },
     "metadata": {},
     "output_type": "display_data"
    },
    {
     "data": {
      "text/plain": [
       "[<matplotlib.lines.Line2D at 0x7f4d03c7d940>]"
      ]
     },
     "execution_count": 5,
     "metadata": {},
     "output_type": "execute_result"
    }
   ],
   "source": [
    "fig, ax = plt.subplots(1,1)\n",
    "ax.plot(se_pull.w_t, se_pull.Sig_t[:, 2])"
   ]
  },
  {
   "cell_type": "markdown",
   "id": "5b341172-8312-4d40-a6b5-a5a54532f58d",
   "metadata": {},
   "source": [
    "# Vectorized Coupled Normal Tangential Interface Model"
   ]
  },
  {
   "cell_type": "code",
   "execution_count": 6,
   "id": "e4352878-a571-4df3-8f1b-6191e396bebd",
   "metadata": {},
   "outputs": [],
   "source": [
    "mic = VCoNTIM(debug_level=0, k_max=3, **material_params)"
   ]
  },
  {
   "cell_type": "code",
   "execution_count": 7,
   "id": "5d39beb0-819f-4f08-8cfc-9eb5d064a2bf",
   "metadata": {},
   "outputs": [],
   "source": [
    "n_eps = len(se_pull.w_t)\n",
    "eps11_range = np.linspace(1e-9, 0.046, n_eps)\n",
    "eps_range = np.zeros((n_eps, 4)) + 1e-9\n",
    "eps_range[:, 0] = se_pull.w_t"
   ]
  },
  {
   "cell_type": "code",
   "execution_count": 8,
   "id": "4663c28e-cecf-459c-b64c-4b806b812cdd",
   "metadata": {},
   "outputs": [],
   "source": [
    "state_vars = { \n",
    "    var: np.zeros((1,) + shape)\n",
    "    for var, shape in mic.state_var_shapes.items()\n",
    "}"
   ]
  },
  {
   "cell_type": "code",
   "execution_count": 9,
   "id": "f58010b2-427c-4c17-9e23-f9fafecae9f3",
   "metadata": {},
   "outputs": [
    {
     "name": "stdout",
     "output_type": "stream",
     "text": [
      "============= INCREMENT 0\n",
      "============= INCREMENT 1\n",
      "============= INCREMENT 2\n",
      "============= INCREMENT 3\n",
      "============= INCREMENT 4\n",
      "============= INCREMENT 5\n",
      "============= INCREMENT 6\n",
      "============= INCREMENT 7\n",
      "============= INCREMENT 8\n",
      "============= INCREMENT 9\n",
      "============= INCREMENT 10\n",
      "============= INCREMENT 11\n",
      "============= INCREMENT 12\n",
      "============= INCREMENT 13\n",
      "============= INCREMENT 14\n",
      "============= INCREMENT 15\n",
      "============= INCREMENT 16\n",
      "============= INCREMENT 17\n",
      "============= INCREMENT 18\n",
      "============= INCREMENT 19\n",
      "============= INCREMENT 20\n",
      "============= INCREMENT 21\n",
      "============= INCREMENT 22\n",
      "============= INCREMENT 23\n",
      "============= INCREMENT 24\n",
      "============= INCREMENT 25\n",
      "============= INCREMENT 26\n",
      "============= INCREMENT 27\n",
      "============= INCREMENT 28\n",
      "============= INCREMENT 29\n",
      "============= INCREMENT 30\n",
      "============= INCREMENT 31\n",
      "============= INCREMENT 32\n",
      "============= INCREMENT 33\n",
      "============= INCREMENT 34\n",
      "============= INCREMENT 35\n",
      "============= INCREMENT 36\n",
      "============= INCREMENT 37\n",
      "============= INCREMENT 38\n",
      "============= INCREMENT 39\n",
      "============= INCREMENT 40\n"
     ]
    }
   ],
   "source": [
    "sig_range = []\n",
    "Eps_t = []\n",
    "for i, eps_ab in enumerate(eps_range):\n",
    "    print('============= INCREMENT', i)\n",
    "    sig_ab, D_range = mic.get_corr_pred(eps_ab[np.newaxis,...], 1, **state_vars)\n",
    "    sig_range.append(sig_ab[0,...])"
   ]
  },
  {
   "cell_type": "code",
   "execution_count": 10,
   "id": "3e3419aa-fb79-486a-9443-b9b039385741",
   "metadata": {},
   "outputs": [
    {
     "data": {
      "application/vnd.jupyter.widget-view+json": {
       "model_id": "77615c9bd62a48c0bc6a60f298a1e5a3",
       "version_major": 2,
       "version_minor": 0
      },
      "text/plain": [
       "Canvas(toolbar=Toolbar(toolitems=[('Home', 'Reset original view', 'home', 'home'), ('Back', 'Back to previous …"
      ]
     },
     "metadata": {},
     "output_type": "display_data"
    },
    {
     "data": {
      "text/plain": [
       "[<matplotlib.lines.Line2D at 0x7f4d03bcd7c0>]"
      ]
     },
     "execution_count": 10,
     "metadata": {},
     "output_type": "execute_result"
    }
   ],
   "source": [
    "fig, ax = plt.subplots(1,1)\n",
    "sig11_range = np.array(sig_range)\n",
    "ax.plot(eps11_range[:len(sig11_range)], sig11_range[...,0])"
   ]
  },
  {
   "cell_type": "markdown",
   "id": "b1be8b96-9869-473c-af2c-21dd7ca519f7",
   "metadata": {},
   "source": [
    "### Slide 32 Model"
   ]
  },
  {
   "cell_type": "code",
   "execution_count": 11,
   "id": "ddfdd619-4065-4b02-b7e6-ddcfabd9a8e0",
   "metadata": {},
   "outputs": [],
   "source": [
    "u_N, u_T_x, u_T_y, u_T_z = 0.046000001, 1e-09, 1e-09, 1e-09\n",
    "Eps_k = np.array([ 1.31926147e-09, 1.31926147e-09, 4.50000100e-03, -6.81818485e-04, \n",
    "                  1.31926147e-09, 1.31926147e-09, 4.54545556e-15, 2.70511439e-01], dtype=np.float_)\n",
    "Sig_k = np.array([-3.19261469e-07, -3.19261469e-07,  2.18846568e+00, -0.00000000e+00,\n",
    "                  0.00000000e+00,  0.00000000e+00,  1.01927886e-16,  4.50000000e-02], dtype=np.float_)"
   ]
  },
  {
   "cell_type": "code",
   "execution_count": 12,
   "id": "2645c874-33c4-473e-8f5a-bb5f659f8417",
   "metadata": {},
   "outputs": [
    {
     "data": {
      "text/plain": [
       "array([ 1.31926147e-09,  1.31926147e-09,  4.50000100e-03, -6.81818485e-04,\n",
       "        1.31926147e-09,  1.31926147e-09,  4.54545556e-15,  2.70511439e-01])"
      ]
     },
     "execution_count": 12,
     "metadata": {},
     "output_type": "execute_result"
    }
   ],
   "source": [
    "Eps_k"
   ]
  },
  {
   "cell_type": "code",
   "execution_count": 13,
   "id": "9e3b8a52-d9ea-47f2-b1f4-9bf843665ef3",
   "metadata": {},
   "outputs": [
    {
     "data": {
      "text/plain": [
       "(array([1.1385]),\n",
       " array([[-134.35440285]]),\n",
       " array([-3.19261470e-07, -3.19261470e-07,  3.02737753e+00, -0.00000000e+00,\n",
       "         0.00000000e+00,  0.00000000e+00,  1.01927886e-16,  8.61125000e-02]))"
      ]
     },
     "execution_count": 13,
     "metadata": {},
     "output_type": "execute_result"
    }
   ],
   "source": [
    "se_pull.slide_model.get_f_df(u_T_x, u_T_y, u_N, Sig_k, Eps_k)"
   ]
  },
  {
   "cell_type": "markdown",
   "id": "37e92efc-8a82-4786-b000-99fee80a60aa",
   "metadata": {},
   "source": [
    "### Slide Vectorized"
   ]
  },
  {
   "cell_type": "code",
   "execution_count": 14,
   "id": "297cb6d1-51c4-4330-a5ce-211d1668c0eb",
   "metadata": {},
   "outputs": [],
   "source": [
    "u_N_n1 = np.array([0.046])\n",
    "u_Tx_n1 = np.array([1.e-09])\n",
    "u_Ty_n1 = np.array([1.e-09])\n",
    "u_Tz_n1 = np.array([1.e-09])\n",
    "Eps_k = np.array(\n",
    "[[ 4.50000100e-03],\n",
    " [ 1.31926147e-09],\n",
    " [ 1.31926147e-09],\n",
    " [ 1.31926147e-09],\n",
    " [-6.81818485e-04],\n",
    " [ 1.31926147e-09],\n",
    " [ 1.31926147e-09],\n",
    " [ 1.31926147e-09],\n",
    " [ 4.54545556e-15],\n",
    " [ 2.70511439e-01]])\n",
    "Sig_k = np.array( \n",
    "[[ 2.18846568e+00],\n",
    " [-3.19261469e-07],\n",
    " [-3.19261469e-07],\n",
    " [-3.19261469e-07],\n",
    " [-0.00000000e+00],\n",
    " [ 0.00000000e+00],\n",
    " [ 0.00000000e+00],\n",
    " [ 0.00000000e+00],\n",
    " [ 1.01927886e-16],\n",
    " [ 4.50000000e-02]])"
   ]
  },
  {
   "cell_type": "code",
   "execution_count": 15,
   "id": "0407f111-6ab9-40ff-8883-d10419ca64ab",
   "metadata": {},
   "outputs": [
    {
     "data": {
      "text/plain": [
       "(array([[1.1384999]]),\n",
       " array([[[-134.35440285]]]),\n",
       " array([[ 3.02737746e+00],\n",
       "        [-3.19261470e-07],\n",
       "        [-3.19261470e-07],\n",
       "        [-3.19261470e-07],\n",
       "        [-0.00000000e+00],\n",
       "        [ 0.00000000e+00],\n",
       "        [ 0.00000000e+00],\n",
       "        [ 0.00000000e+00],\n",
       "        [ 1.52891829e-16],\n",
       "        [ 8.61124959e-02]]))"
      ]
     },
     "execution_count": 15,
     "metadata": {},
     "output_type": "execute_result"
    }
   ],
   "source": [
    "mic.debug_level = 0\n",
    "mic.get_f_df(u_N_n1, u_Tx_n1, u_Ty_n1, u_Tz_n1, Sig_k, Eps_k)"
   ]
  },
  {
   "cell_type": "code",
   "execution_count": 16,
   "id": "2358750b-4b40-4a2c-a9c1-7e50cbac75ae",
   "metadata": {},
   "outputs": [
    {
     "data": {
      "text/plain": [
       "(array([[2.66202786]]),\n",
       " array([[[-134.35440285]]]),\n",
       " array([[ 4.14999990e+00],\n",
       "        [-3.19261470e-07],\n",
       "        [-3.19261470e-07],\n",
       "        [-3.19261470e-07],\n",
       "        [-0.00000000e+00],\n",
       "        [ 0.00000000e+00],\n",
       "        [ 0.00000000e+00],\n",
       "        [ 0.00000000e+00],\n",
       "        [ 1.52891829e-16],\n",
       "        [ 0.00000000e+00]]))"
      ]
     },
     "execution_count": 16,
     "metadata": {},
     "output_type": "execute_result"
    }
   ],
   "source": [
    "mic.get_f_df(u_N_n1, u_Tx_n1, u_Ty_n1, u_Tz_n1, np.zeros_like(Eps_k), Eps_k)"
   ]
  },
  {
   "cell_type": "code",
   "execution_count": 17,
   "id": "f8df7195-6b24-4eec-80b6-064eb5eec199",
   "metadata": {},
   "outputs": [
    {
     "data": {
      "text/latex": [
       "$\\displaystyle \\left[\\begin{matrix}- E_{N} \\left(- 2 w + 2 w^{\\pi}\\right) \\left(- \\frac{\\omega_{N} \\left(\\begin{cases} 0 & \\text{for}\\: \\sigma^{\\pi} \\leq 0 \\\\1 & \\text{otherwise} \\end{cases}\\right)}{2} + \\frac{1}{2}\\right) & - E_{T} \\left(1 - \\omega_{T}\\right) \\left(s^{\\pi}_x - s_{x}\\right) & - E_{T} \\left(1 - \\omega_{T}\\right) \\left(s^{\\pi}_y - s_{y}\\right) & - E_{T} \\left(1 - \\omega_{T}\\right) \\left(s^{\\pi}_z - s_{z}\\right) & K_{T} z & \\alpha_{x} \\gamma_{T} & \\alpha_{y} \\gamma_{T} & \\alpha_{z} \\gamma_{T} & \\frac{E_{T} \\left(- s^{\\pi}_x + s_{x}\\right)^{2}}{2} + \\frac{E_{T} \\left(- s^{\\pi}_y + s_{y}\\right)^{2}}{2} + \\frac{E_{T} \\left(- s^{\\pi}_z + s_{z}\\right)^{2}}{2} & \\frac{E_{N} \\left(w - w^{\\pi}\\right)^{2} \\left(\\begin{cases} 0 & \\text{for}\\: \\sigma^{\\pi} \\leq 0 \\\\1 & \\text{otherwise} \\end{cases}\\right)}{2}\\end{matrix}\\right]$"
      ],
      "text/plain": [
       "Matrix([[-E_N*(-2*w + 2*w^{\\pi})*(-omega_N*Piecewise((0, \\sigma^\\pi <= 0), (1, True))/2 + 1/2), -E_T*(1 - omega_T)*(s^{\\pi}_x - s_x), -E_T*(1 - omega_T)*(s^{\\pi}_y - s_y), -E_T*(1 - omega_T)*(s^{\\pi}_z - s_z), K_T*z, alpha_x*gamma_T, alpha_y*gamma_T, alpha_z*gamma_T, E_T*(-s^{\\pi}_x + s_x)**2/2 + E_T*(-s^{\\pi}_y + s_y)**2/2 + E_T*(-s^{\\pi}_z + s_z)**2/2, E_N*(w - w^{\\pi})**2*Piecewise((0, \\sigma^\\pi <= 0), (1, True))/2]])"
      ]
     },
     "execution_count": 17,
     "metadata": {},
     "output_type": "execute_result"
    }
   ],
   "source": [
    "mic.symb.Sig_"
   ]
  },
  {
   "cell_type": "code",
   "execution_count": 18,
   "id": "7eaf53e9-ca7a-4f09-9aa3-b230af2f4f61",
   "metadata": {},
   "outputs": [
    {
     "data": {
      "text/plain": [
       "array([[[ 3.02737746e+00],\n",
       "        [-3.19261470e-07],\n",
       "        [-3.19261470e-07],\n",
       "        [-3.19261470e-07],\n",
       "        [-0.00000000e+00],\n",
       "        [ 0.00000000e+00],\n",
       "        [ 0.00000000e+00],\n",
       "        [ 0.00000000e+00],\n",
       "        [ 1.52891829e-16],\n",
       "        [ 8.61124959e-02]]])"
      ]
     },
     "execution_count": 18,
     "metadata": {},
     "output_type": "execute_result"
    }
   ],
   "source": [
    "mic.symb.get_Sig_(u_N_n1, u_Tx_n1, u_Ty_n1, u_Tz_n1, Sig_k, Eps_k)"
   ]
  },
  {
   "cell_type": "code",
   "execution_count": 19,
   "id": "4ccc13af-87e8-4d96-aa74-21b99f13851a",
   "metadata": {},
   "outputs": [
    {
     "data": {
      "text/plain": [
       "array([[[ 4.14999990e+00],\n",
       "        [-3.19261470e-07],\n",
       "        [-3.19261470e-07],\n",
       "        [-3.19261470e-07],\n",
       "        [-0.00000000e+00],\n",
       "        [ 0.00000000e+00],\n",
       "        [ 0.00000000e+00],\n",
       "        [ 0.00000000e+00],\n",
       "        [ 1.52891829e-16],\n",
       "        [ 0.00000000e+00]]])"
      ]
     },
     "execution_count": 19,
     "metadata": {},
     "output_type": "execute_result"
    }
   ],
   "source": [
    "mic.symb.get_Sig_(u_N_n1, u_Tx_n1, u_Ty_n1, u_Tz_n1, np.zeros_like(Eps_k), Eps_k)"
   ]
  },
  {
   "cell_type": "markdown",
   "id": "c1143535-2d2e-4f5b-9451-f6c5aa78b5aa",
   "metadata": {},
   "source": [
    "# Microplane Generic"
   ]
  },
  {
   "cell_type": "code",
   "execution_count": 20,
   "id": "8f7520dd-e255-4bed-ab74-448c93d61043",
   "metadata": {},
   "outputs": [],
   "source": [
    "mp_microplane1 = {'E_T': 1000,\n",
    " 'gamma_T': 0,\n",
    " 'K_T': 0,\n",
    " 'S_T': 0.001,\n",
    " 'c_T': 1,\n",
    " 'bartau': 3,\n",
    " 'E_N': 100,\n",
    " 'S_N': 0.001,\n",
    " 'c_N': 1,\n",
    " 'm': 0.01,\n",
    " 'f_t': 3,\n",
    " 'f_c': 20,\n",
    " 'f_c0': 10,\n",
    " 'eta': 0.0}"
   ]
  },
  {
   "cell_type": "code",
   "execution_count": 21,
   "id": "d9530875-ee5e-4456-9ed9-5bec403fa87e",
   "metadata": {},
   "outputs": [],
   "source": [
    "mpl = MSGeneric(E=34000, nu=0.18)\n",
    "mpl.mic.trait_set(debug=False, **mp_microplane1);\n",
    "eps_max = mpl.eps_max\n",
    "n_eps = 200\n",
    "eps11_range = np.linspace(1e-9, 0.8, n_eps)\n",
    "eps_range = np.zeros((n_eps, 3, 3))\n",
    "eps_range[:, 0, 0] = eps11_range\n",
    "state_vars = { \n",
    "    var: np.zeros((1,) + shape)\n",
    "    for var, shape in mpl.state_var_shapes.items()\n",
    "}\n",
    "sig_range = []\n",
    "for eps_ab in eps_range:\n",
    "    sig_ab, D_range = mpl.get_corr_pred(eps_ab[np.newaxis,...], 1, **state_vars)\n",
    "    sig_range.append(sig_ab[0,...])"
   ]
  },
  {
   "cell_type": "code",
   "execution_count": 22,
   "id": "534741c4-05ee-437b-8b6e-2d5f4f000d19",
   "metadata": {},
   "outputs": [
    {
     "data": {
      "text/plain": [
       "array([[ 98.90353629,   0.        ,   0.        ],\n",
       "       [  0.        , 182.52372958,   0.        ],\n",
       "       [  0.        ,   0.        , 182.52372958]])"
      ]
     },
     "execution_count": 22,
     "metadata": {},
     "output_type": "execute_result"
    }
   ],
   "source": [
    "sig_range[-1]"
   ]
  },
  {
   "cell_type": "code",
   "execution_count": 23,
   "id": "2a123f80-6b0c-4f2b-a214-5608a4413a68",
   "metadata": {},
   "outputs": [
    {
     "data": {
      "application/vnd.jupyter.widget-view+json": {
       "model_id": "ae8d9379854d4fc6b8e29e447cc42a3e",
       "version_major": 2,
       "version_minor": 0
      },
      "text/plain": [
       "Canvas(toolbar=Toolbar(toolitems=[('Home', 'Reset original view', 'home', 'home'), ('Back', 'Back to previous …"
      ]
     },
     "metadata": {},
     "output_type": "display_data"
    },
    {
     "data": {
      "text/plain": [
       "[<matplotlib.lines.Line2D at 0x7f4d0be7cd00>]"
      ]
     },
     "execution_count": 23,
     "metadata": {},
     "output_type": "execute_result"
    }
   ],
   "source": [
    "fig, ax = plt.subplots(1,1)\n",
    "sig11_range = np.array(sig_range)\n",
    "ax.plot(eps11_range[:len(sig11_range)], sig11_range[...,0,0])"
   ]
  },
  {
   "cell_type": "code",
   "execution_count": 36,
   "id": "b3bd95ef-f15b-4774-b355-031954b462a5",
   "metadata": {},
   "outputs": [],
   "source": [
    "mp_microplane = dict(K_T=300, gamma_T=3000, bartau=2, f_t=2, eta=1, c_T=0.1, S_T=0.00000001, c_N=3, S_N = 0.00000001 );"
   ]
  },
  {
   "cell_type": "code",
   "execution_count": 53,
   "id": "75f7fc5d-f619-4493-9f23-563508431dff",
   "metadata": {},
   "outputs": [],
   "source": [
    "mpl = MSGeneric(E = 28000, nu=0.22)\n",
    "mpl.mic.trait_set(debug=False, **mp_microplane);\n",
    "eps_max = mpl.eps_max\n",
    "n_eps = 300\n",
    "eps11_range = np.linspace(1e-9, 0.002, n_eps)\n",
    "eps_range = np.zeros((n_eps, 3, 3))\n",
    "eps_range[:, 0, 0] = eps11_range\n",
    "state_vars = { \n",
    "    var: np.zeros((1,) + shape)\n",
    "    for var, shape in mpl.state_var_shapes.items()\n",
    "}"
   ]
  },
  {
   "cell_type": "code",
   "execution_count": 54,
   "id": "ba643254-14bc-42a9-b0d9-fb35f9a42cc3",
   "metadata": {},
   "outputs": [],
   "source": [
    "sig_range = []\n",
    "for eps_ab in eps_range:\n",
    "#    print(eps_ab)\n",
    "    sig_ab, D_range = mpl.get_corr_pred(eps_ab[np.newaxis,...], 1, **state_vars)\n",
    "    sig_range.append(sig_ab[0,...])"
   ]
  },
  {
   "cell_type": "code",
   "execution_count": 55,
   "id": "df36f6ec-ff04-4774-b372-ad234de75f09",
   "metadata": {},
   "outputs": [
    {
     "data": {
      "application/vnd.jupyter.widget-view+json": {
       "model_id": "f926556d5caa4b999c41d6e2fd349afb",
       "version_major": 2,
       "version_minor": 0
      },
      "text/plain": [
       "Canvas(toolbar=Toolbar(toolitems=[('Home', 'Reset original view', 'home', 'home'), ('Back', 'Back to previous …"
      ]
     },
     "metadata": {},
     "output_type": "display_data"
    },
    {
     "data": {
      "text/plain": [
       "[<matplotlib.lines.Line2D at 0x7f4d03b6fd00>]"
      ]
     },
     "execution_count": 55,
     "metadata": {},
     "output_type": "execute_result"
    }
   ],
   "source": [
    "fig, ax = plt.subplots(1,1)\n",
    "sig11_range = np.array(sig_range)\n",
    "ax.plot(eps11_range[:len(sig11_range)], sig11_range[...,0,0])"
   ]
  },
  {
   "cell_type": "code",
   "execution_count": 28,
   "id": "8851ba6f-1df7-4249-b4bd-42df36d24905",
   "metadata": {},
   "outputs": [
    {
     "data": {
      "text/plain": [
       "array([[[0.82557785, 0.        , 0.        ],\n",
       "        [0.        , 0.61081015, 0.        ],\n",
       "        [0.        , 0.        , 0.61081015]],\n",
       "\n",
       "       [[0.82384882, 0.        , 0.        ],\n",
       "        [0.        , 0.61022592, 0.        ],\n",
       "        [0.        , 0.        , 0.61022592]],\n",
       "\n",
       "       [[0.82213508, 0.        , 0.        ],\n",
       "        [0.        , 0.60966052, 0.        ],\n",
       "        [0.        , 0.        , 0.60966052]],\n",
       "\n",
       "       [[0.82043659, 0.        , 0.        ],\n",
       "        [0.        , 0.60911399, 0.        ],\n",
       "        [0.        , 0.        , 0.60911399]],\n",
       "\n",
       "       [[0.81875328, 0.        , 0.        ],\n",
       "        [0.        , 0.60858635, 0.        ],\n",
       "        [0.        , 0.        , 0.60858635]],\n",
       "\n",
       "       [[0.81708512, 0.        , 0.        ],\n",
       "        [0.        , 0.60807761, 0.        ],\n",
       "        [0.        , 0.        , 0.60807761]],\n",
       "\n",
       "       [[0.81543204, 0.        , 0.        ],\n",
       "        [0.        , 0.60758776, 0.        ],\n",
       "        [0.        , 0.        , 0.60758776]],\n",
       "\n",
       "       [[0.81379401, 0.        , 0.        ],\n",
       "        [0.        , 0.60711682, 0.        ],\n",
       "        [0.        , 0.        , 0.60711682]],\n",
       "\n",
       "       [[0.81217097, 0.        , 0.        ],\n",
       "        [0.        , 0.60666476, 0.        ],\n",
       "        [0.        , 0.        , 0.60666476]],\n",
       "\n",
       "       [[0.81056288, 0.        , 0.        ],\n",
       "        [0.        , 0.60623158, 0.        ],\n",
       "        [0.        , 0.        , 0.60623158]]])"
      ]
     },
     "execution_count": 28,
     "metadata": {},
     "output_type": "execute_result"
    }
   ],
   "source": [
    "sig11_range[-10:]"
   ]
  },
  {
   "cell_type": "code",
   "execution_count": 29,
   "id": "e909a43a-f88e-4419-bab1-045bcc151be0",
   "metadata": {},
   "outputs": [
    {
     "data": {
      "text/latex": [
       "$\\displaystyle \\left[\\begin{matrix}- E_{N} \\left(- 2 w + 2 w^{\\pi}\\right) \\left(- \\frac{\\omega_{N} \\left(\\begin{cases} 0 & \\text{for}\\: \\sigma^{\\pi} \\leq 0 \\\\1 & \\text{otherwise} \\end{cases}\\right)}{2} + \\frac{1}{2}\\right) & - E_{T} \\left(1 - \\omega_{T}\\right) \\left(s^{\\pi}_x - s_{x}\\right) & - E_{T} \\left(1 - \\omega_{T}\\right) \\left(s^{\\pi}_y - s_{y}\\right) & - E_{T} \\left(1 - \\omega_{T}\\right) \\left(s^{\\pi}_z - s_{z}\\right) & K_{T} z & \\alpha_{x} \\gamma_{T} & \\alpha_{y} \\gamma_{T} & \\alpha_{z} \\gamma_{T} & \\frac{E_{T} \\left(- s^{\\pi}_x + s_{x}\\right)^{2}}{2} + \\frac{E_{T} \\left(- s^{\\pi}_y + s_{y}\\right)^{2}}{2} + \\frac{E_{T} \\left(- s^{\\pi}_z + s_{z}\\right)^{2}}{2} & \\frac{E_{N} \\left(w - w^{\\pi}\\right)^{2} \\left(\\begin{cases} 0 & \\text{for}\\: \\sigma^{\\pi} \\leq 0 \\\\1 & \\text{otherwise} \\end{cases}\\right)}{2}\\end{matrix}\\right]$"
      ],
      "text/plain": [
       "Matrix([[-E_N*(-2*w + 2*w^{\\pi})*(-omega_N*Piecewise((0, \\sigma^\\pi <= 0), (1, True))/2 + 1/2), -E_T*(1 - omega_T)*(s^{\\pi}_x - s_x), -E_T*(1 - omega_T)*(s^{\\pi}_y - s_y), -E_T*(1 - omega_T)*(s^{\\pi}_z - s_z), K_T*z, alpha_x*gamma_T, alpha_y*gamma_T, alpha_z*gamma_T, E_T*(-s^{\\pi}_x + s_x)**2/2 + E_T*(-s^{\\pi}_y + s_y)**2/2 + E_T*(-s^{\\pi}_z + s_z)**2/2, E_N*(w - w^{\\pi})**2*Piecewise((0, \\sigma^\\pi <= 0), (1, True))/2]])"
      ]
     },
     "execution_count": 29,
     "metadata": {},
     "output_type": "execute_result"
    }
   ],
   "source": [
    "mpl.mic.symb.Sig_"
   ]
  },
  {
   "cell_type": "code",
   "execution_count": null,
   "id": "c0fe8620-8489-44f8-933c-3edd80b1e866",
   "metadata": {},
   "outputs": [],
   "source": []
  }
 ],
 "metadata": {
  "kernelspec": {
   "display_name": "bmcs_env",
   "language": "python",
   "name": "bmcs_env"
  },
  "language_info": {
   "codemirror_mode": {
    "name": "ipython",
    "version": 3
   },
   "file_extension": ".py",
   "mimetype": "text/x-python",
   "name": "python",
   "nbconvert_exporter": "python",
   "pygments_lexer": "ipython3",
   "version": "3.8.8"
  }
 },
 "nbformat": 4,
 "nbformat_minor": 5
}
