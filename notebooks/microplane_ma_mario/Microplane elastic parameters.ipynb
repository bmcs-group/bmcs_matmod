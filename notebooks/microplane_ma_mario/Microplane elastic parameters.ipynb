{
 "cells": [
  {
   "cell_type": "markdown",
   "metadata": {
    "collapsed": true,
    "pycharm": {
     "name": "#%% md\n"
    }
   },
   "source": [
    "# Obtention of normal and tangential microplane stiffness parameters for general elastic tensor\n"
   ]
  },
  {
   "cell_type": "markdown",
   "source": [
    "Starting from equilibrium between macro- and micro- stresses applying the principle of virtual work (weak form). Equation provided by Carol and Bazant at Damage and Plasticity in Microplane Theory 96.\n",
    "\n",
    "\\begin{equation}\n",
    "\\sigma_{ij} = \\frac{3}{4\\pi} \\int_{\\Omega} \\sigma_{\\mathrm{N}} n_i n_j d\\Omega + \\frac{3}{4\\pi} \\int_{\\Omega} \\frac{\\sigma_{\\mathrm{T}_r}}{2} (n_i \\delta_{rj} + n_j \\delta_{ri}) d\\Omega \\hspace{1cm} (1)\n",
    "\\end{equation}\n",
    "\n",
    "NOTE: Bazant integrates over half of the domain, one has to substitute 2$\\pi$ with 4$\\pi$."
   ],
   "metadata": {
    "collapsed": false,
    "pycharm": {
     "name": "#%% md\n"
    }
   }
  },
  {
   "cell_type": "markdown",
   "source": [
    "Assuming elastic regime at the micro- and macro- level\n",
    "\n",
    "$\\sigma_{\\mathrm{N}} = E_{\\mathrm{N}} \\varepsilon_{\\mathrm{N}}$ $\\hspace{1cm}$ $\\sigma_{\\mathrm{T}} = E_{\\mathrm{T}} \\varepsilon_{\\mathrm{T}}$ $\\hspace{1cm}$ (2)"
   ],
   "metadata": {
    "collapsed": false,
    "pycharm": {
     "name": "#%% md\n"
    }
   }
  },
  {
   "cell_type": "markdown",
   "source": [
    "Projections  of the strain tensor onto microplanes, normal and tangential direction\n",
    "\n",
    "$\\varepsilon_{\\mathrm{N}} =\\varepsilon_{ij} n_i n_j$ $\\hspace{1cm}$ $\\varepsilon_{\\mathrm{T}_r} = \\frac{1}{2}(n_i \\delta_{jr} + n_j \\delta_{ir} - 2 n_i n_j n_r) \\varepsilon_{ij}$ $\\hspace{1cm}$ (3)\n",
    "\n",
    "\n"
   ],
   "metadata": {
    "collapsed": false,
    "pycharm": {
     "name": "#%% md\n"
    }
   }
  },
  {
   "cell_type": "markdown",
   "source": [
    "Substituting backwards (3) in (2), then in (1). ATTENTION HERE: I chose the subindices in such a way that the \"i\" and \"j\" from eq 1) are maintained, then \"i\" and \"j\" from eq 3) are switch for \"k\" and \"l\". Index \"r\" is kept as \"r\" on both eq. 1) and 3). Not sure about this, I am actually critical about it. If one follows same criteria and switch \"r\" for \"o\" ,for instance, in eq. 3), then I am not able to derive something useful, but might be the right way to proceed.\n",
    "\n",
    "\n",
    "\\begin{equation}\n",
    "\\sigma_{ij} = \\frac{3}{4\\pi} \\int_{\\Omega} E_{\\mathrm{N}} \\: \\varepsilon_{kl} \\: n_k \\: n_l \\: n_i \\: n_j \\: d\\Omega + \\frac{3}{4\\pi} \\int_{\\Omega} \\frac{1}{2} (n_k \\delta_{lr} + n_l \\delta_{kr} - 2 n_k n_l n_r) E_{\\mathrm{N}} \\: \\varepsilon_{kl} (n_i \\delta_{rj} + n_j \\delta_{ri}) d\\Omega \\hspace{1cm} (4)\n",
    "\\end{equation}"
   ],
   "metadata": {
    "collapsed": false,
    "pycharm": {
     "name": "#%% md\n"
    }
   }
  },
  {
   "cell_type": "markdown",
   "source": [
    "Integral expressions coming from Lubanda & Krajcinovic DAMAGE TENSORS AND THE CRACK DENSITY DISTRIBUTION 92, picking $\\Omega = 4\\pi$\n",
    "\n",
    "\\begin{equation}\n",
    "\\int_{\\Omega}  n_i  n_j  d\\Omega = \\frac{4\\pi}{3} \\delta_{ij} \\hspace{1cm} (5)\n",
    "\\end{equation}\n",
    "\n",
    "\\begin{equation}\n",
    "\\int_{\\Omega}  n_i  n_j n_k n_l  d\\Omega = \\frac{4\\pi}{15} (\\delta_{ij}\\delta_{kl} - \\delta_{ik}\\delta_{jl} - \\delta_{il} \\delta_{jk}) \\hspace{1cm} (6)\n",
    "\\end{equation}"
   ],
   "metadata": {
    "collapsed": false,
    "pycharm": {
     "name": "#%% md\n"
    }
   }
  },
  {
   "cell_type": "markdown",
   "source": [
    "Starting with first term of eq. 4) and exploting 6). $E_{\\mathrm{N}}$ and $\\varepsilon_{kl}$ go out of the integral.\n",
    "\n",
    "\\begin{equation}\n",
    "\\frac{3}{4\\pi} \\int_{\\Omega} E_{\\mathrm{N}} \\: \\varepsilon_{kl} \\: n_k \\: n_l \\: n_i \\: n_j \\: d\\Omega  = \\frac{3}{4\\pi} E_{\\mathrm{N}} \\: \\varepsilon_{kl} (\\frac{4\\pi}{15} (\\delta_{ij}\\delta_{kl} - \\delta_{ik}\\delta_{jl} - \\delta_{il} \\delta_{jk})) = \\frac{1}{5} E_{\\mathrm{N}} \\: \\varepsilon_{kl} (\\delta_{ij}\\delta_{kl} - \\delta_{ik}\\delta_{jl} - \\delta_{il} \\delta_{jk}) \\hspace{1cm} (7)\n",
    "\\end{equation}\n"
   ],
   "metadata": {
    "collapsed": false,
    "pycharm": {
     "name": "#%% md\n"
    }
   }
  },
  {
   "cell_type": "markdown",
   "source": [
    "Second term of the integral eq. 4).  $E_{\\mathrm{T}}$ and $\\varepsilon_{kl}$ go out of the integral.\n",
    "\n",
    "\\begin{equation}\n",
    "\\frac{3}{8\\pi} E_{\\mathrm{N}} \\: \\varepsilon_{kl} \\int_{\\Omega} (n_k \\delta_{lr} + n_l \\delta_{kr} - 2 n_k n_l n_r) (n_i \\delta_{rj} + n_j \\delta_{ri}) d\\Omega = \\\\ \\frac{3}{8\\pi} E_{\\mathrm{N}} \\: \\varepsilon_{kl} \\int_{\\Omega} (n_k \\delta_{lr} n_i \\delta_{rj} + n_l \\delta_{kr} n_i \\delta_{rj} - n_k n_l n_r n_i \\delta_{rj} + n_k \\delta_{lr} n_j \\delta_{ri} + n_l \\delta_{kr} n_j \\delta_{ri} - n_k n_l n_r n_j \\delta_{ri}) d\\Omega \\hspace{1cm} (8)\n",
    "\\end{equation}"
   ],
   "metadata": {
    "collapsed": false,
    "pycharm": {
     "name": "#%% md\n"
    }
   }
  },
  {
   "cell_type": "markdown",
   "source": [
    "Operating repeated indices:\n",
    "\n",
    "\\begin{equation}\n",
    "\\frac{3}{8\\pi} E_{\\mathrm{N}} \\: \\varepsilon_{kl} \\int_{\\Omega} (n_k \\delta_{jl} n_i + n_l \\delta_{jk} n_i - 2 n_k n_l n_j n_i + n_k \\delta_{il} n_j + n_l \\delta_{ik} n_j - 2 n_k n_l n_i n_j) d\\Omega \\hspace{1cm} (9)\n",
    "\\end{equation}"
   ],
   "metadata": {
    "collapsed": false,
    "pycharm": {
     "name": "#%% md\n"
    }
   }
  },
  {
   "cell_type": "markdown",
   "source": [
    "Making use of eq. 5) and 6):\n",
    "\n",
    "\\begin{equation}\n",
    "\\frac{3}{8\\pi} E_{\\mathrm{N}} \\: \\varepsilon_{kl} ( \\frac{4\\pi}{3} \\delta_{ik} \\delta_{jl} + \\frac{4\\pi}{3} \\delta_{il} \\delta_{jk} - \\frac{8\\pi}{15} (\\delta_{ij}\\delta_{kl} - \\delta_{ik}\\delta_{jl} - \\delta_{il} \\delta_{jk}) + \\frac{4\\pi}{3} \\delta_{jk} \\delta_{il} + \\frac{4\\pi}{3} \\delta_{jl} \\delta_{ik} - \\frac{8\\pi}{15} (\\delta_{ij}\\delta_{kl} - \\delta_{ik}\\delta_{jl} - \\delta_{il} \\delta_{jk})) \\hspace{1cm} (10)\n",
    "\\end{equation}"
   ],
   "metadata": {
    "collapsed": false
   }
  },
  {
   "cell_type": "markdown",
   "source": [
    "simplifying:\n",
    "\n",
    "\\begin{equation}\n",
    "\\frac{3}{8\\pi} E_{\\mathrm{N}} \\: \\varepsilon_{kl} ( \\frac{8\\pi}{3} \\delta_{ik} \\delta_{jl} + \\frac{8\\pi}{3} \\delta_{il} \\delta_{jk} - \\frac{16\\pi}{15} (\\delta_{ij}\\delta_{kl} - \\delta_{ik}\\delta_{jl} - \\delta_{il} \\delta_{jk}) \\\\\n",
    "E_{\\mathrm{N}} \\: \\varepsilon_{kl} (  \\delta_{ik} \\delta_{jl} +  \\delta_{il} \\delta_{jk} - \\frac{2}{5} (\\delta_{ij}\\delta_{kl} - \\delta_{ik}\\delta_{jl} - \\delta_{il} \\delta_{jk}) \\hspace{1cm} (11)\n",
    "\\end{equation}\n",
    "\n"
   ],
   "metadata": {
    "collapsed": false
   }
  }
 ],
 "metadata": {
  "kernelspec": {
   "display_name": "Python 3",
   "language": "python",
   "name": "python3"
  },
  "language_info": {
   "codemirror_mode": {
    "name": "ipython",
    "version": 2
   },
   "file_extension": ".py",
   "mimetype": "text/x-python",
   "name": "python",
   "nbconvert_exporter": "python",
   "pygments_lexer": "ipython2",
   "version": "2.7.6"
  }
 },
 "nbformat": 4,
 "nbformat_minor": 0
}