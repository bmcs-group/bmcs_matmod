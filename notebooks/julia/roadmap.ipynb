{
 "cells": [
  {
   "cell_type": "markdown",
   "id": "4b1152e9-e7b0-4da5-8c71-8394105f9697",
   "metadata": {},
   "source": [
    "# Planying around with Julia"
   ]
  },
  {
   "cell_type": "markdown",
   "id": "c48708e0-3ca0-4184-a31b-7cd4715f03fa",
   "metadata": {},
   "source": [
    "# Language"
   ]
  },
  {
   "cell_type": "markdown",
   "id": "cf0c11a9-b340-45fe-b255-88c209f40aec",
   "metadata": {},
   "source": [
    " - Dispatching on types\n",
    " - No methods\n",
    " - Sugar syntax flavours, e.g. symbols "
   ]
  },
  {
   "cell_type": "markdown",
   "id": "f2e2425b-cec4-4736-b9e9-95a1510c6275",
   "metadata": {},
   "source": [
    "# Multidimensional arrays"
   ]
  },
  {
   "cell_type": "markdown",
   "id": "2a07a8b2-22b8-4758-961a-458ec9769f94",
   "metadata": {},
   "source": [
    "# Indexing, slicing"
   ]
  },
  {
   "cell_type": "markdown",
   "id": "3b5de9b3-6fdc-4a7a-9c56-1a0f6ad015b9",
   "metadata": {},
   "source": [
    "# Computer algebra"
   ]
  },
  {
   "cell_type": "markdown",
   "id": "ccaf9fa5-43fd-499f-98ef-73797dc2474f",
   "metadata": {},
   "source": [
    "## Symbolics.jl"
   ]
  },
  {
   "cell_type": "markdown",
   "id": "c67608e4-9b04-4128-86a3-a47053de8b10",
   "metadata": {},
   "source": [
    "## SymPy.jl"
   ]
  },
  {
   "cell_type": "markdown",
   "id": "6f34b230-0927-4f1f-b885-8f7c32129e8b",
   "metadata": {},
   "source": [
    "# Code generation"
   ]
  },
  {
   "cell_type": "markdown",
   "id": "465186dd-83b8-48b8-b119-e53d8159f7e0",
   "metadata": {},
   "source": [
    "# Interactivity"
   ]
  },
  {
   "cell_type": "code",
   "execution_count": null,
   "id": "1007deea-db8e-4418-ac7c-ee81607147ed",
   "metadata": {},
   "outputs": [],
   "source": []
  }
 ],
 "metadata": {
  "kernelspec": {
   "display_name": "Julia 1.7.1",
   "language": "julia",
   "name": "julia-1.4"
  },
  "language_info": {
   "file_extension": ".jl",
   "mimetype": "application/julia",
   "name": "julia",
   "version": "1.7.3"
  }
 },
 "nbformat": 4,
 "nbformat_minor": 5
}
