{
 "cells": [
  {
   "cell_type": "markdown",
   "id": "f9e3128f",
   "metadata": {},
   "source": [
    "# GSM Widget Framework Demo\n",
    "\n",
    "Interactive exploration of GSM model structures using preconfigured definitions."
   ]
  },
  {
   "cell_type": "code",
   "execution_count": 5,
   "id": "30f19dcc",
   "metadata": {},
   "outputs": [],
   "source": [
    "# Import necessary modules\n",
    "import sys\n",
    "import os\n",
    "\n",
    "# Add the project root to the path  \n",
    "sys.path.insert(0, os.path.join(os.getcwd(), '..'))\n",
    "\n",
    "from bmcs_matmod.gsm_lagrange.gsm_widgets import GSMDefWidget, create_gsm_widget\n",
    "from bmcs_matmod.gsm_lagrange.models import GSM1D_ED, GSM1D_EP, GSM1D_VE"
   ]
  },
  {
   "cell_type": "markdown",
   "id": "7ed7f05e",
   "metadata": {},
   "source": [
    "## GSM1D_ED Model (Elastic-Damage)\n",
    "\n",
    "Explore the elastic-damage model with tree-based navigation."
   ]
  },
  {
   "cell_type": "code",
   "execution_count": 6,
   "id": "80feb012",
   "metadata": {},
   "outputs": [
    {
     "data": {
      "application/vnd.jupyter.widget-view+json": {
       "model_id": "0588c32969f5474a9f0516fe820dd830",
       "version_major": 2,
       "version_minor": 0
      },
      "text/plain": [
       "VBox(children=(HTML(value='<h2>🔬 GSM Model Explorer: GSM1D_ED</h2>'), HBox(children=(Tree(layout=Layout(border…"
      ]
     },
     "metadata": {},
     "output_type": "display_data"
    }
   ],
   "source": [
    "# Create widget for the ED model\n",
    "ed_widget = create_gsm_widget(GSM1D_ED)\n",
    "ed_widget.display()"
   ]
  },
  {
   "cell_type": "markdown",
   "id": "5d0db07e",
   "metadata": {},
   "source": [
    "## GSM1D_EP Model (Elastic-Plastic)\n",
    "\n",
    "Compare with the elastic-plastic model structure."
   ]
  },
  {
   "cell_type": "code",
   "execution_count": 7,
   "id": "31ff3362",
   "metadata": {},
   "outputs": [
    {
     "data": {
      "application/vnd.jupyter.widget-view+json": {
       "model_id": "5c619c03c73d4467973b012a30a1bbb2",
       "version_major": 2,
       "version_minor": 0
      },
      "text/plain": [
       "VBox(children=(HTML(value='<h2>🔬 GSM Model Explorer: GSM1D_EP</h2>'), HBox(children=(Tree(layout=Layout(border…"
      ]
     },
     "metadata": {},
     "output_type": "display_data"
    }
   ],
   "source": [
    "# Create widget for the EP model\n",
    "ep_widget = create_gsm_widget(GSM1D_EP)\n",
    "ep_widget.display()"
   ]
  },
  {
   "cell_type": "markdown",
   "id": "d640a63a",
   "metadata": {},
   "source": [
    "## GSM1D_VE Model (Viscoelastic)\n",
    "\n",
    "Examine the viscoelastic model configuration."
   ]
  },
  {
   "cell_type": "code",
   "execution_count": 8,
   "id": "bb1d617f",
   "metadata": {},
   "outputs": [
    {
     "data": {
      "application/vnd.jupyter.widget-view+json": {
       "model_id": "72c1d65d152446439cd20e20c3c3c2d9",
       "version_major": 2,
       "version_minor": 0
      },
      "text/plain": [
       "VBox(children=(HTML(value='<h2>🔬 GSM Model Explorer: GSM1D_VE</h2>'), HBox(children=(Tree(layout=Layout(border…"
      ]
     },
     "metadata": {},
     "output_type": "display_data"
    }
   ],
   "source": [
    "# Create widget for the VE model  \n",
    "ve_widget = create_gsm_widget(GSM1D_VE)\n",
    "ve_widget.display()"
   ]
  }
 ],
 "metadata": {
  "kernelspec": {
   "display_name": "icc_env",
   "language": "python",
   "name": "python3"
  },
  "language_info": {
   "codemirror_mode": {
    "name": "ipython",
    "version": 3
   },
   "file_extension": ".py",
   "mimetype": "text/x-python",
   "name": "python",
   "nbconvert_exporter": "python",
   "pygments_lexer": "ipython3",
   "version": "3.13.2"
  }
 },
 "nbformat": 4,
 "nbformat_minor": 5
}
