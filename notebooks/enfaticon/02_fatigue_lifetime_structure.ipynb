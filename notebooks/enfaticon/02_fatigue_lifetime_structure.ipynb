{
 "cells": [
  {
   "cell_type": "markdown",
   "id": "7a6ab67f-9f94-42e2-9902-f01d12e9eae4",
   "metadata": {},
   "source": [
    "# Simulation of fatigue-induced stress structural redistribution"
   ]
  },
  {
   "cell_type": "markdown",
   "id": "eee68689-7139-44e6-b0ee-f3243f6b0e8b",
   "metadata": {},
   "source": [
    "Given the relation\n",
    "$$\n",
    "\\varepsilon^\\max = f(S^\\max, S^\\min, n)\n",
    "$$"
   ]
  },
  {
   "cell_type": "markdown",
   "id": "2d0e82a1-b136-41cb-8934-35a7dab78cb1",
   "metadata": {},
   "source": [
    "and the relation\n",
    "$$\n",
    "\\omega = g(S^\\max, S^\\min, n)\n",
    "$$"
   ]
  },
  {
   "cell_type": "markdown",
   "id": "65707052-fd61-4977-9319-57906e7a517d",
   "metadata": {},
   "source": [
    "The shape of the fatigue creep curve is represented by a non-descending curve for \n",
    "a given pair of values $S^\\max$ and $S^\\min$\n",
    "$$\n",
    "\\varepsilon^\\max(S^\\max, S^\\min, n_1) \\leq \\varepsilon^\\max(S^\\max, S^\\min, n_2), \\; \\forall S^\\max, S^\\min \\in (0, 1), S^\\max > S^\\min , n_1 < n_2 \n",
    "$$"
   ]
  },
  {
   "cell_type": "markdown",
   "id": "81494122-1cee-49e9-b4e7-1b4ad884b00c",
   "metadata": {},
   "source": [
    "The level of effective damage corresponding to the load cycle $n$ and the loading range $S^\\max, S^\\min$ is also non-descending\n",
    "$$\n",
    "   \\omega(S^\\max, S^\\min, n_1) \\leq \\omega(S^\\max, S^\\min, n_2), \\forall S^\\max, S^\\min \\in (0,1), S^\\max > S^\\min, n_1 < n_2\n",
    "$$"
   ]
  },
  {
   "cell_type": "markdown",
   "id": "250ec07a-0c2e-48b8-8744-6cfa1c9916bd",
   "metadata": {},
   "source": [
    "In vectorial form\n",
    "\\begin{align}\n",
    "  \\left[\n",
    "  \\begin{array}{c}\n",
    "  \\varepsilon^\\max \\\\\n",
    "  \\omega\n",
    "  \\end{array}\n",
    "  \\right] = \n",
    "  \\left[\n",
    "  \\begin{array}{c}\n",
    "  f(S^\\max, S^\\min) \\\\\n",
    "  g(S^\\max, S^\\min)\n",
    "  \\end{array}\n",
    "  \\right]\n",
    "\\end{align}"
   ]
  },
  {
   "cell_type": "markdown",
   "id": "1925bb07-b9d3-4714-9fde-66b1bdbe10b3",
   "metadata": {},
   "source": [
    "$$\n",
    "\\varepsilon_M(n) = f_M( S_N, n )\n",
    "$$"
   ]
  },
  {
   "cell_type": "markdown",
   "id": "929505a0-9642-42e5-bb71-baba5a750308",
   "metadata": {},
   "source": [
    "$$\n",
    "S_N(n) = f_N^{-1}(\\varepsilon_M, n)\n",
    "$$"
   ]
  },
  {
   "cell_type": "markdown",
   "id": "2f0fb0c3-a7b9-4f50-a04d-638f88c075e3",
   "metadata": {},
   "source": [
    "Given a loading cycle $n$, the task is to estalish an inverse relation\n",
    "$$\n",
    "  E^\\mathrm{hys} = \\frac{S^\\max - S^\\min}{\\varepsilon^\\max - \\varepsilon^\\min}\n",
    "$$"
   ]
  },
  {
   "cell_type": "markdown",
   "id": "60134994-1d67-45ed-a165-eb65a52d35c7",
   "metadata": {},
   "source": [
    "Consider the load range representation \n",
    "$$\n",
    "S^{M} = [S^\\max, S^\\min] \n",
    "$$\n",
    "and\n",
    "$$\n",
    "\\varepsilon^{M} = [\\varepsilon^\\max, \\varepsilon^\\min] \n",
    "$$"
   ]
  },
  {
   "cell_type": "markdown",
   "id": "c27674dc-ac4e-4c25-b23d-8ae1ed626109",
   "metadata": {},
   "source": [
    "Given a difference operator\n",
    "$$\n",
    "  \\Delta^M = (-1)^{M} = [-1, 1]\n",
    "$$\n",
    "The effective stiffness of a hysteretic loop is given as\n",
    "$$\n",
    "  E^\\mathrm{hys} = \\frac{\\Delta^M S^M}{ \\Delta^N \\varepsilon^N}\n",
    "$$"
   ]
  },
  {
   "cell_type": "code",
   "execution_count": null,
   "id": "ebfdcb7c-aba3-40ba-82c7-5c1f03028334",
   "metadata": {},
   "outputs": [],
   "source": []
  }
 ],
 "metadata": {
  "kernelspec": {
   "display_name": "bmcs_env2",
   "language": "python",
   "name": "bmcs_env2"
  },
  "language_info": {
   "codemirror_mode": {
    "name": "ipython",
    "version": 3
   },
   "file_extension": ".py",
   "mimetype": "text/x-python",
   "name": "python",
   "nbconvert_exporter": "python",
   "pygments_lexer": "ipython3"
  }
 },
 "nbformat": 4,
 "nbformat_minor": 5
}
