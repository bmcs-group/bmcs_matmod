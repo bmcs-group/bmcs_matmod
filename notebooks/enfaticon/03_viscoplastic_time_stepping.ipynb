{
 "cells": [
  {
   "cell_type": "markdown",
   "metadata": {},
   "source": [
    "# Rate depedent 1D SLIDE model"
   ]
  },
  {
   "cell_type": "code",
   "execution_count": null,
   "metadata": {},
   "outputs": [],
   "source": [
    "%matplotlib widget\n",
    "import matplotlib.pyplot as plt\n",
    "import numpy as np"
   ]
  },
  {
   "cell_type": "markdown",
   "metadata": {},
   "source": [
    "### Model implementation (single material point)"
   ]
  },
  {
   "cell_type": "code",
   "execution_count": null,
   "metadata": {},
   "outputs": [],
   "source": [
    "def get_bond_slip(s_arr, t_arr, tau_pi_bar, K, gamma, E_b, S, c, r, m, sigma_n, eta):\n",
    "\n",
    "    # arrays to store the values\n",
    "    tau_arr = np.zeros_like(s_arr)\n",
    "    alpha_arr = np.zeros_like(s_arr)\n",
    "    z_arr = np.zeros_like(s_arr)\n",
    "    w_arr = np.zeros_like(s_arr)\n",
    "    s_pi_arr = np.zeros_like(s_arr)\n",
    "    s_vp_arr = np.zeros_like(s_arr)\n",
    "    tau_infty_arr = np.zeros_like(s_arr)\n",
    "    tau_vp_arr = np.zeros_like(s_arr)\n",
    "    f = np.zeros_like(s_arr)\n",
    "    s_i1, w_i1, s_pi_i1, alpha_i1, z_i1, tau_i1, s_vp_i1, tau_infty, tau_vp = (\n",
    "        0, 0, 0, 0, 0, 0, 0, 0, 0\n",
    "    )\n",
    "\n",
    "    dt_arr = t_arr[1:] - t_arr[:-1]\n",
    "    ds_dt_arr = (s_arr[1:] - s_arr[:-1]) / dt_arr\n",
    "\n",
    "    for i, ds_dt in enumerate(ds_dt_arr):\n",
    "        s_i, w_i, s_pi_i, s_vp_i, alpha_i, z_i, tau_i = (\n",
    "            s_arr[i], w_arr[i], s_pi_arr[i], s_vp_arr[i],\n",
    "            alpha_arr[i], z_arr[i], tau_arr[i]\n",
    "        )\n",
    "        dt = dt_arr[i]\n",
    "        i1 = i+1\n",
    "        ds_i1 = ds_dt * dt\n",
    "        s_i1 = s_i + ds_i1\n",
    "        tau_trial = (1 - w_i) * E_b * (s_i1 - s_vp_i)\n",
    "        \n",
    "        # Threshold\n",
    "        f_pi_i1 = np.fabs(tau_trial/(1. - w_i) - gamma * alpha_i) - tau_pi_bar - K * z_i + m * sigma_n\n",
    "\n",
    "        if f_pi_i1 > 1e-6:\n",
    "            # Return mapping\n",
    "            delta_lambda = f_pi_i1 / (E_b / (1. - w_i) + gamma + K)\n",
    "            # update all the state variables\n",
    "            s_vp_i1 = s_vp_i + delta_lambda * np.sign(tau_trial/(1. - w_i) - gamma * alpha_i) / (1 - w_i)\n",
    "            Y_i1 = 0.5 * E_b * (s_i1 - s_vp_i) ** 2\n",
    "            w_i1 = w_i + ((1. - w_i) ** c) * (delta_lambda * (Y_i1 / S) ** r)  * (1 - sigma_n / (0.5 * tau_pi_bar)) \n",
    "            alpha_infty = alpha_i +  delta_lambda * np.sign(tau_trial/(1. - w_i) - gamma * alpha_i)\n",
    "            z_infty = z_i + delta_lambda\n",
    "            tau_infty = E_b * (1. - w_i1) * (s_i1 - s_vp_i1)\n",
    "                        \n",
    "            # perform viscoplastic regularization\n",
    "            relax_t = eta / (E_b + K + gamma)\n",
    "            \n",
    "            dt_tau = dt / relax_t\n",
    "            tau_vp = tau_i + E_b * ds_i1\n",
    "            tau_i1 = (tau_vp + dt_tau * tau_infty)/(1 + dt_tau)\n",
    "            z_i1 = (z_i + dt_tau * z_infty)/(1 + dt_tau) \n",
    "            alpha_i1 = (alpha_i + dt_tau * alpha_infty)/(1 + dt_tau) \n",
    "            s_vp_i1 = s_i1 - tau_i1/E_b\n",
    "\n",
    "        i1 = i+1\n",
    "        w_arr[i1] = w_i\n",
    "        alpha_arr[i1] = alpha_i1\n",
    "        z_arr[i1] = z_i1\n",
    "        s_pi_arr[i1] = s_pi_i1\n",
    "        s_vp_arr[i1] = s_vp_i1\n",
    "        tau_infty_arr[i1] = tau_infty\n",
    "        tau_vp_arr[i1] = tau_vp\n",
    "        tau_arr[i1] = tau_i1\n",
    "\n",
    "    return s_arr, tau_arr, w_arr, s_pi_arr, s_vp_arr, tau_infty_arr, tau_vp_arr\n"
   ]
  },
  {
   "cell_type": "markdown",
   "metadata": {},
   "source": [
    "### Apply loading"
   ]
  },
  {
   "cell_type": "code",
   "execution_count": null,
   "metadata": {},
   "outputs": [],
   "source": [
    "# Define the loading values\n",
    "\n",
    "number_of_cycles = 2\n",
    "#maximum_slip = 0.5\n",
    "maximum_slip = 50\n",
    "maximum_time = 10\n",
    "\n",
    "number_of_increments_1 = 100\n",
    "number_of_increments_2 = 100\n",
    "number_of_increments_3 = 100\n",
    "\n",
    "\n",
    "# Construction of the loading history\n",
    "s_levels = np.linspace(0, maximum_slip, 2 * number_of_cycles )\n",
    "s_levels[0] = 0\n",
    "s_levels.reshape(-1, 2)[:, 0] *= -1\n",
    "s_history = s_levels.flatten()\n",
    "\n",
    "\n",
    "# slip array as input\n",
    "s_arr_1 = np.hstack([np.linspace(s_history[i], s_history[i + 1], number_of_increments_1)\n",
    "                     for i in range(len(s_levels) - 1)])\n",
    "t_arr_1 = np.linspace(0, maximum_time, len(s_arr_1))\n",
    "s_arr_2 = np.hstack([np.linspace(s_history[i], s_history[i + 1], number_of_increments_2)\n",
    "                     for i in range(len(s_levels) - 1)])\n",
    "t_arr_2 = np.linspace(0, maximum_time, len(s_arr_2))\n",
    "s_arr_3 = np.hstack([np.linspace(s_history[i], s_history[i + 1], number_of_increments_3)\n",
    "                     for i in range(len(s_levels) - 1)])\n",
    "t_arr_3 = np.linspace(0, maximum_time, len(s_arr_3))\n",
    "\n"
   ]
  },
  {
   "cell_type": "code",
   "execution_count": null,
   "metadata": {},
   "outputs": [],
   "source": [
    "\n",
    "# material parameters\n",
    "tau_pi_bar=1\n",
    "K=0\n",
    "gamma=0\n",
    "E_b=10\n",
    "S=100000.0005\n",
    "c=1\n",
    "r=1.0\n",
    "m=0.0\n",
    "sigma_n=0\n",
    "eta = 1\n",
    "\n",
    "dt_1 = 1./number_of_increments_1\n",
    "dt_2 = 1./number_of_increments_2\n",
    "dt_3 = 1./number_of_increments_3\n",
    "\n",
    "eta_1, eta_2, eta_3 = 0.1, 1, 10\n",
    "s_arr_1,  tau_arr_1, w_arr_1, s_pi_arr_1, s_vis_arr_1, tau_infty_1, tau_vp_1 = get_bond_slip(\n",
    "    s_arr_1, t_arr_1, tau_pi_bar=tau_pi_bar, K=K, gamma=gamma, E_b=E_b, S=S, c=c, r=r, \n",
    "    m=m, sigma_n=sigma_n, eta=eta_1)\n",
    "\n",
    "s_arr_2,  tau_arr_2, w_arr_2, s_pi_arr_2, s_vis_arr_2, tau_infty_2, tau_vp_2 = get_bond_slip(\n",
    "    s_arr_2, t_arr_2, tau_pi_bar=tau_pi_bar, K=K, gamma=gamma, E_b=E_b, S=S, c=c, r=r, \n",
    "    m=m, sigma_n=sigma_n, eta=eta_2)\n",
    "\n",
    "s_arr_3,  tau_arr_3, w_arr_3, s_pi_arr_3, s_vis_arr_3, tau_infty_2, tau_vp_3 = get_bond_slip(\n",
    "    s_arr_3, t_arr_3, tau_pi_bar=tau_pi_bar, K=K, gamma=gamma, E_b=E_b, S=S, c=c, r=r, \n",
    "    m=m, sigma_n=sigma_n, eta=eta_3)"
   ]
  },
  {
   "cell_type": "markdown",
   "metadata": {},
   "source": [
    "### Plotting"
   ]
  },
  {
   "cell_type": "code",
   "execution_count": null,
   "metadata": {},
   "outputs": [],
   "source": [
    "%matplotlib widget\n",
    "import matplotlib.pylab as plt\n",
    "fig, ((ax1,  ax2), (ax3,  ax4)) = plt.subplots(2,2, tight_layout=True, figsize=(7,7))\n",
    "fig.canvas.header_visible=False\n",
    "\n",
    "ax1.plot(s_arr_1, tau_arr_1, 'k', linewidth=1, label=\"eta = {}\".format(eta_1))\n",
    "ax1.plot(s_arr_2, tau_arr_2, 'r', linewidth=1, label=\"eta = {}\".format(eta_2))\n",
    "ax1.plot(s_arr_3, tau_arr_3, 'g', linewidth=1, label=\"eta = {}\".format(eta_3))\n",
    "ax1.axhline(y=0, color='k', linewidth=1, alpha=0.5)\n",
    "ax1.axvline(x=0, color='k', linewidth=1, alpha=0.5)\n",
    "plt.title('stress-slip')\n",
    "plt.xlabel('Slip (mm)')\n",
    "plt.ylabel('Stress (MPa)')\n",
    "ax1.legend(loc=4)\n",
    "\n",
    "ax2.plot(s_arr_1, s_vis_arr_1, 'k', linewidth=1, label=\"eta = {}\".format(eta_1))\n",
    "ax2.plot(s_arr_2, s_vis_arr_2, 'r', linewidth=1, label=\"eta = {}\".format(eta_2))\n",
    "ax2.plot(s_arr_3, s_vis_arr_3, 'g', linewidth=1, label=\"eta = {}\".format(eta_3))\n",
    "ax2.axhline(y=0, color='k', linewidth=1, alpha=0.5)\n",
    "ax2.axvline(x=0, color='k', linewidth=1, alpha=0.5)\n",
    "plt.title('Evolution of viscoplastic strain')\n",
    "plt.xlabel('Slip(mm)')\n",
    "plt.ylabel('viscoplastic strain')\n",
    "ax2.legend()\n",
    "\n",
    "ax3.plot(s_arr_1, w_arr_1, 'k', linewidth=1, label=\"eta = {}\".format(eta_1))\n",
    "ax3.plot(s_arr_2, w_arr_2, 'r', linewidth=1, label=\"eta = {}\".format(eta_2))\n",
    "ax3.plot(s_arr_3, w_arr_3, 'g', linewidth=1, label=\"eta = {}\".format(eta_3))\n",
    "ax3.axhline(y=0, color='k', linewidth=1, alpha=0.5)\n",
    "ax3.axvline(x=0, color='k', linewidth=1, alpha=0.5)\n",
    "plt.title('Damage evolution')\n",
    "plt.xlabel('Slip(mm)')\n",
    "plt.ylabel('damage')\n",
    "ax3.legend()\n",
    "\n",
    "ax4.plot(t_arr_1, s_arr_1, 'k', linewidth=1, label=\"eta = {}\".format(eta_1))\n",
    "ax4.plot(t_arr_2, s_arr_2, 'r', linewidth=1, label=\"eta = {}\".format(eta_2))\n",
    "ax4.plot(t_arr_3, s_arr_3, 'g', linewidth=1, label=\"eta = {}\".format(eta_3))\n",
    "ax4.axhline(y=0, color='k', linewidth=1, alpha=0.5)\n",
    "ax4.axvline(x=0, color='k', linewidth=1, alpha=0.5)\n",
    "plt.title('Damage evolution')\n",
    "plt.xlabel('Slip(mm)')\n",
    "plt.ylabel('damage')\n",
    "ax4.legend()"
   ]
  },
  {
   "cell_type": "markdown",
   "metadata": {},
   "source": [
    "## Relaxation test\n",
    "\n",
    "Reproduce the analytical solution of step loading with the decay of stress towards the time-independent solution"
   ]
  },
  {
   "cell_type": "code",
   "execution_count": null,
   "metadata": {},
   "outputs": [],
   "source": [
    "# material parameters\n",
    "tau_pi_bar=1\n",
    "K=0\n",
    "gamma=0.5\n",
    "E_b=10\n",
    "S=100000.0005\n",
    "c=1\n",
    "r=1.0\n",
    "m=0.0\n",
    "sigma_n=0\n",
    "eta = 1"
   ]
  },
  {
   "cell_type": "code",
   "execution_count": null,
   "metadata": {},
   "outputs": [],
   "source": [
    "import sympy as sp\n",
    "from cymbol import Cymbol\n",
    "s_1 = Cymbol('s_1', codename='s_1')\n",
    "t_1 = Cymbol('t_1', codename='t_1')\n",
    "t = Cymbol('t')\n",
    "fn_s_t = sp.Piecewise(\n",
    "    (t * s_1, t < t_1),\n",
    "    (s_1, True)\n",
    ")\n",
    "get_s_t = sp.lambdify((t, s_1, t_1), fn_s_t)"
   ]
  },
  {
   "cell_type": "code",
   "execution_count": null,
   "metadata": {},
   "outputs": [],
   "source": [
    "s_1 = 0.12\n",
    "t_1 = 0.01\n",
    "t_max = 1\n",
    "n_t = 1000\n",
    "t_arr = np.linspace(0, t_max, n_t+1)\n",
    "s_arr = get_s_t(t_arr, s_1, t_1)"
   ]
  },
  {
   "cell_type": "code",
   "execution_count": null,
   "metadata": {},
   "outputs": [],
   "source": [
    "s_arr_1, tau_arr_1, w_arr_1, s_pi_arr_1, s_vis_arr_1, tau_infty_1, tau_vp_1 = get_bond_slip(s_arr, t_arr, tau_pi_bar=tau_pi_bar, K=K,\n",
    "              gamma=gamma, E_b=E_b, S=S, c=c, r=r, m=m, sigma_n=sigma_n, eta=eta)"
   ]
  },
  {
   "cell_type": "code",
   "execution_count": null,
   "metadata": {},
   "outputs": [],
   "source": [
    "tau_infty_1.shape"
   ]
  },
  {
   "cell_type": "code",
   "execution_count": null,
   "metadata": {},
   "outputs": [],
   "source": [
    "fig, (ax, ax_s_time) = plt.subplots(1,2)\n",
    "ax.plot(t_arr, tau_arr_1)\n",
    "ax_s_time.plot(t_arr, tau_infty_1)\n",
    "# ax_s_time = ax.twinx()\n",
    "# ax_s_time.plot(t_arr, s_arr, color='green')"
   ]
  },
  {
   "cell_type": "code",
   "execution_count": null,
   "metadata": {},
   "outputs": [],
   "source": []
  }
 ],
 "metadata": {
  "kernelspec": {
   "display_name": "bmcs_env2",
   "language": "python",
   "name": "python3"
  },
  "language_info": {
   "codemirror_mode": {
    "name": "ipython",
    "version": 3
   },
   "file_extension": ".py",
   "mimetype": "text/x-python",
   "name": "python",
   "nbconvert_exporter": "python",
   "pygments_lexer": "ipython3"
  }
 },
 "nbformat": 4,
 "nbformat_minor": 2
}
