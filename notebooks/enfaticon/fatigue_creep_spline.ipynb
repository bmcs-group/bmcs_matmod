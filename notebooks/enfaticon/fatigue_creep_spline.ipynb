{
 "cells": [
  {
   "cell_type": "markdown",
   "metadata": {},
   "source": [
    "# Interpolation "
   ]
  },
  {
   "cell_type": "markdown",
   "metadata": {},
   "source": [
    "$$\n",
    "\\varepsilon = \\int_0^\\varepsilon \\alpha(x - y) \\varepsilon(x) dy \n",
    "$$"
   ]
  },
  {
   "cell_type": "code",
   "execution_count": null,
   "metadata": {},
   "outputs": [],
   "source": [
    "import matplotlib.pyplot as plt\n",
    "import numpy as np\n",
    "rng = np.random.default_rng()\n",
    "x = np.linspace(-3, 3, 5000)\n",
    "\n",
    "z_J = np.exp(-x**2) + 0.1 * rng.standard_normal(5000)\n",
    "\n",
    "x_J = x\n",
    "x_M = x\n",
    "RR = 0.2\n",
    "\n",
    "x_M = x_J if x_M is None else x_M\n",
    "alpha_r_MJ = np.exp(-((x_J[None, ...] - \n",
    "                            x_M[..., None]) ** 2 \n",
    "                        / (2 * RR ** 2)))\n",
    "a_M = np.trapz(alpha_r_MJ, x_J, axis=-1)\n",
    "alpha_r_MJ /= a_M[..., None]\n",
    "z_MJ = np.einsum('MJ,J...->MJ...', alpha_r_MJ, z_J)\n",
    "z_M = np.trapz(z_MJ, x_J, axis=-1)\n",
    "z_M"
   ]
  },
  {
   "cell_type": "markdown",
   "metadata": {},
   "source": [
    "# Now construct the spline"
   ]
  },
  {
   "cell_type": "code",
   "execution_count": null,
   "metadata": {},
   "outputs": [],
   "source": [
    "from scipy.interpolate import CubicSpline\n",
    "\n",
    "spl = CubicSpline(x_M, z_M, bc_type='natural')\n",
    "\n",
    "xs = np.linspace(-3, 3, 1000)\n",
    "\n",
    "plt.plot(x_J, z_J, 'o', color='red', lw=4, alpha=0.8)\n",
    "\n",
    "plt.plot(xs, spl(xs), 'b', lw=1)\n",
    "\n"
   ]
  },
  {
   "cell_type": "code",
   "execution_count": null,
   "metadata": {},
   "outputs": [],
   "source": [
    "dz_poly = spl.derivative()\n",
    "plt.plot(x_M, spl(x_M, 1))"
   ]
  },
  {
   "cell_type": "code",
   "execution_count": null,
   "metadata": {},
   "outputs": [],
   "source": [
    "plt.plot(x_J, z_J)\n",
    "plt.plot(x_M, z_M)"
   ]
  },
  {
   "cell_type": "code",
   "execution_count": null,
   "metadata": {},
   "outputs": [],
   "source": []
  },
  {
   "cell_type": "code",
   "execution_count": null,
   "metadata": {},
   "outputs": [],
   "source": [
    "def get_z_MN_ironed(x_J, z_J, RR, x_M=None):\n",
    "    \"\"\"\n",
    "    Calculates the ironed z-coordinate field \n",
    "    with radial averaging.\n",
    "\n",
    "    Args:\n",
    "        x_JK: Array of x-coordinates.\n",
    "        y_JK: Array of y-coordinates.\n",
    "        z_JK: Array of z-coordinates.\n",
    "        RR: Radial averaging parameter.\n",
    "\n",
    "    Returns:\n",
    "        Ironed z-coordinate field \n",
    "        with radial averaging.\n",
    "    \"\"\"\n",
    "    x_M = x_J if x_M is None else x_M\n",
    "    alpha_r_MJ = np.exp(-((x_J[None, ...] - \n",
    "                                x_M[..., None]) ** 2 \n",
    "                            / (2 * RR ** 2)))\n",
    "    a_M = np.trapz(alpha_r_MJ, x_J, axis=-1)\n",
    "    alpha_r_MJ /= a_M[..., None]\n",
    "    z_MJ = np.einsum('MJ,J...->MJ...', alpha_r_MJ, z_J)\n",
    "    return np.trapz(z_MJ, x_J, axis=-1)\n"
   ]
  },
  {
   "cell_type": "markdown",
   "metadata": {},
   "source": [
    "## Numpy index tricks - broadcasting and index summation rule"
   ]
  },
  {
   "cell_type": "code",
   "execution_count": null,
   "metadata": {},
   "outputs": [],
   "source": [
    "import numpy as np\n",
    "a = np.linspace(0,10,11)\n",
    "a"
   ]
  },
  {
   "cell_type": "code",
   "execution_count": null,
   "metadata": {},
   "outputs": [],
   "source": [
    "sig = np.linspace(0,3,9).reshape(3,3)\n",
    "eps = np.linspace(3,6,9).reshape(3,3)\n",
    "sig"
   ]
  },
  {
   "cell_type": "code",
   "execution_count": null,
   "metadata": {},
   "outputs": [],
   "source": [
    "np.einsum('ij,kj->ik', sig, eps)"
   ]
  },
  {
   "cell_type": "code",
   "execution_count": null,
   "metadata": {},
   "outputs": [],
   "source": [
    "DELTA = np.identity(3)\n",
    "\n",
    "EPS = np.zeros((3, 3, 3), dtype='f')\n",
    "EPS[(0, 1, 2), (1, 2, 0), (2, 0, 1)] = 1\n",
    "EPS[(2, 1, 0), (1, 0, 2), (0, 2, 1)] = -1"
   ]
  },
  {
   "cell_type": "code",
   "execution_count": null,
   "metadata": {},
   "outputs": [],
   "source": [
    "EPS # Levi-Civita symbol\n",
    "EPS"
   ]
  },
  {
   "cell_type": "code",
   "execution_count": null,
   "metadata": {},
   "outputs": [],
   "source": [
    "u = np.array([1,2,3])\n",
    "v = np.array([4,3,-3])"
   ]
  },
  {
   "cell_type": "code",
   "execution_count": null,
   "metadata": {},
   "outputs": [],
   "source": [
    "np.einsum('ijk,...j,...k->...i',EPS,u,v)"
   ]
  },
  {
   "cell_type": "code",
   "execution_count": null,
   "metadata": {},
   "outputs": [],
   "source": []
  },
  {
   "cell_type": "code",
   "execution_count": null,
   "metadata": {},
   "outputs": [],
   "source": []
  }
 ],
 "metadata": {
  "kernelspec": {
   "display_name": "bmcs_env2",
   "language": "python",
   "name": "python3"
  },
  "language_info": {
   "codemirror_mode": {
    "name": "ipython",
    "version": 3
   },
   "file_extension": ".py",
   "mimetype": "text/x-python",
   "name": "python",
   "nbconvert_exporter": "python",
   "pygments_lexer": "ipython3"
  }
 },
 "nbformat": 4,
 "nbformat_minor": 2
}
