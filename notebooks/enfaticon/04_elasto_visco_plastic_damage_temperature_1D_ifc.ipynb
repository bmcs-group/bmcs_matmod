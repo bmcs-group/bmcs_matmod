{
 "cells": [
  {
   "cell_type": "markdown",
   "metadata": {},
   "source": [
    "# Elasto-visco-plastic damage model with temperature evolution- 1D interface\n",
    "\n",
    "**Authors:** RC, MA, MV, AB<br>\n",
    "**Date Created:** 20/02/2024  (AB)<br>\n",
    "**Last Modified:** 28/02/2024 (AB)<br>\n",
    "**Description:** Pilot implementation of the coupled elasto-visco-plastic damage model of an interface able to capture fatigue and creep in a consistent way with extension to capture temperature evolution."
   ]
  },
  {
   "cell_type": "code",
   "execution_count": null,
   "metadata": {},
   "outputs": [],
   "source": [
    "%matplotlib widget\n",
    "import matplotlib.pyplot as plt\n",
    "import numpy as np\n",
    "import sympy as sp"
   ]
  },
  {
   "cell_type": "markdown",
   "metadata": {},
   "source": [
    "Model formulation focusing on the new added terms related to temperature\n",
    "\n",
    "Helmholtz free energy:\n",
    "\\begin{equation} \\label{eq:helmhltz_free_enrg}\n",
    "\\rho \\psi (s, s^\\mathrm{vp}, \\omega, \\alpha, z, T) = \\frac{1}{2} (1 - \\omega)  E_\\mathrm{b}  (s - s^\\mathrm{vp})^2 + \\frac{1}{2} \\gamma \\alpha ^2 + \\frac{1}{2} K z^2 + g_1(T) \n",
    "\\end{equation}\n",
    "\n",
    "With \n",
    "\\begin{equation}\n",
    " g_1(T)  = \\frac{ C_v \\cdot T^2}{2 T_0}\n",
    "\\end{equation}\n",
    "\n",
    "where $T$ is the temperature, $C_v$ is the specific heat, and $T_0$ is the intitial temperature.\n",
    "\n",
    "Thermodynamic forces:\n",
    "\n",
    "The entropy can be given as \n",
    "\\begin{equation} \n",
    " \\bar{S} = \\frac{\\partial \\rho  \\psi}{\\partial T} = {g_1}^{'}(T) = \\dfrac{C_v  \\cdot T}{T_0} \n",
    "\\end{equation}\n",
    "\n",
    "The threshold function remains unchanged\n",
    "\n",
    "\\begin{equation} \\label{eq:flow_potential}\n",
    "\\phi = f(\\tilde{\\tau}^{\\pi}, X, Z) + \\frac{S (1-\\omega)^c  }{(r+1)} \\left(\\frac{Y}{S}\\right) ^{r+1} \\cdot g_2 (T) + g_3 (\\bar{S}),\n",
    "\\end{equation}\n",
    "\n",
    "\n",
    "where $g_2 (T)$ is a function introducing amplication factor on the damage evolution depending on temperature $T$ and controlld with material parameter $\\bar{T}$\n",
    "\\begin{equation} \n",
    " g_2 (T)  =  \\left( 1 + \\bar{T} \\sqrt{T}  \\right) \n",
    "\\end{equation}\n",
    "\n",
    "and $g_3 (\\bar{S})$ is the term allows to obtain the temperature evolution in similar way to damage evolution\n",
    "\\begin{equation} \n",
    " g_3 (\\bar{S})  = \\frac{\\bar{S}}{S_\\mathrm{t}} \n",
    "\\end{equation}\n",
    "\n",
    "$S_\\mathrm{t}$ is a material paramter.\n",
    "\n",
    "The temperature evolution can be written as\n",
    "\\begin{equation}\n",
    "\\dot{T} = \\frac{\\partial \\phi}{\\partial \\bar{S}} = \\dot{\\lambda} \\cdot \\frac{1}{S_\\mathrm{t}}\n",
    "\\end{equation}\n",
    "\n",
    "\n"
   ]
  },
  {
   "cell_type": "code",
   "execution_count": null,
   "metadata": {},
   "outputs": [],
   "source": []
  },
  {
   "cell_type": "markdown",
   "metadata": {},
   "source": [
    "## State update method\n",
    "\n",
    "This is a function `get_state_n1` to calculate the next state of a viscoplastic model. The function takes as input the variables `s_n, ds, dt, Eps_n, tau_pi_bar, K, gamma, E_b, S, c, r, m, sigma_n, eta, S_t, T_bar` and returns the next state.\n",
    "\n",
    "Function input parameters:\n",
    "\n",
    "- `s_n`: current scalar variable representing the state at the current time step,\n",
    "- `ds`:  change in the state variable in the current time step,\n",
    "- `dt`: time step,\n",
    "- `Eps_n`: list of internal variables at the current time step,\n",
    "- `tau_pi_bar, K, gamma, E_b, S, c, r, m, sigma_n, eta, S_t, T_bar`: material parameters. \n",
    "\n",
    "Steps of the function:\n",
    "\n",
    "1. The function first calculates the trial stress (`tau_trial`) and the trial yield function (`f_trial`).\n",
    "2. If the yield condition is satisfied (`f_trial > 1e-12`), the algorithm performs a return mapping:\n",
    "     - It first calculates the consistency parameter `delta_lambda`.\n",
    "     - Then, it updates the state variables considering plastic deformation – `s_vp_n1`, `Y_n1`, `w_p`, `alpha_p`, `z_p`, `tau_p`.\n",
    "3. This implementation includes a regularization using a visco-plastic approach, where the interpretation could be seen as a mechanism to capture the transient effects of the visco-plastic processes. The function calculates the relaxed time `relax_t` which substantially depends on the effective stiffness and not on the initial stiffness.\n",
    "4. The overshoot stress is calculated considering the effective stiffness and not the initial stiffness.\n",
    "5. The internal state variables `tau_vp_n1`, `z_vp_n1` and `alpha_vp_n1` are updated with regularization.\n",
    "     - The function also considers the regularization of damage `w_vp_n1`, which theoretically could be interpreted as changes in the microstructure.\n",
    "6. If the yield condition is not satisfied, the algorithm treats the response as elastic and simply returns the same internal variables that were input.\n",
    "\n",
    "Please note that this function assumes a perfect coupling between damage and viscoplasticity: the visco-plastic parameters are the same as the ones for plasticity and are affected by damage in a similar way. Changes in the parameters can be made to reflect different coupling behaviors, if necessary."
   ]
  },
  {
   "cell_type": "code",
   "execution_count": null,
   "metadata": {},
   "outputs": [],
   "source": [
    "import numpy as np\n",
    "\n",
    "\n",
    "def get_state_n1(s_n, ds, dt, Eps_n, tau_pi_bar, K, gamma, E_b, S, c, r, m, sigma_n, eta, S_t, T_bar):\n",
    "    w_vp_n, s_vp_n, z_vp_n, alpha_vp_n, tau_vp_n, temp_vp_n = Eps_n\n",
    "\n",
    "    # Here I made relaxation time independent of damage (to be further discussed)\n",
    "    relax_t = eta / (E_b + K + gamma)\n",
    "\n",
    "    s_n1 = s_n + ds\n",
    "    tau_trial = (1 - w_vp_n) * E_b * (s_n1 - s_vp_n)\n",
    "    f_trial = np.abs(tau_trial / (1 - w_vp_n) - gamma * alpha_vp_n) - tau_pi_bar - K * z_vp_n + m * sigma_n\n",
    "\n",
    "    if f_trial > 1e-12:  # plastic\n",
    "\n",
    "        # Return mapping\n",
    "        delta_lambda = f_trial / (E_b / (1 - w_vp_n) + gamma + K)\n",
    "        # update all the state variables\n",
    "        s_vp_n1 = (s_vp_n + delta_lambda * \n",
    "                   np.sign(tau_trial/(1. - w_vp_n) - gamma * alpha_vp_n) / (1 - w_vp_n))\n",
    "        \n",
    "        # Evolution of temperature\n",
    "        temp_p_n1 =  temp_vp_n + (delta_lambda*(1./S_t))\n",
    "        # prepare the term introducing the effect of temperature on damage evoultion\n",
    "        temp_eff = (1 + T_bar * np.sqrt(temp_p_n1))\n",
    "        \n",
    "        Y_n1 = 0.5 * E_b * (s_n1 - s_vp_n) ** 2\n",
    "        w_p = w_vp_n + ((1 - w_vp_n) ** c) * (delta_lambda * (Y_n1 / S) ** r)  * (1 - sigma_n / (0.5 * tau_pi_bar)) * temp_eff\n",
    "        alpha_p = alpha_vp_n +  delta_lambda * np.sign(tau_trial/(1 - w_vp_n) - gamma * alpha_vp_n)\n",
    "        z_p = z_vp_n + delta_lambda\n",
    "        tau_p = E_b * (1. - w_p) * (s_n1 - s_vp_n1)\n",
    "    \n",
    "        # visco-plastic regularization\n",
    "\n",
    "        dt_tau = dt / relax_t\n",
    "        # Another modification has been done here to calculate the \n",
    "        # overshoot stress considering the effective stiffness and \n",
    "        # not the initial stiffness\n",
    "        tau_vp_n_ds = tau_vp_n + (1 - w_p) * E_b * ds\n",
    "        tau_vp_n1 = (tau_vp_n_ds + dt_tau * tau_p)/(1 + dt_tau)\n",
    "        z_vp_n1 = (z_vp_n + dt_tau * z_p)/(1 + dt_tau) \n",
    "        alpha_vp_n1 = (alpha_vp_n + dt_tau * alpha_p)/(1 + dt_tau) \n",
    "\n",
    "        # Does it make sense to regularize the damage as well?\n",
    "        # what would be the interpretation in terms of changes in the \n",
    "        # microstructure?\n",
    "        # w_vp_n1 = (w_vp_n + dt_tau * w_p)/(1 + dt_tau) \n",
    "        w_vp_n1 = w_p\n",
    "        \n",
    "        # Here I am using the effective stiffness to calculate the viscoplastic strain which I think it is necessary. \n",
    "        s_vp_n1 = s_n1 - tau_vp_n1/((1 - w_p)*E_b)\n",
    "        \n",
    "        # Similar to damage (no viscoplastic regularization?)\n",
    "        temp_vp_n1 =  temp_p_n1 \n",
    "\n",
    "\n",
    "        return w_vp_n1, s_vp_n1, z_vp_n1, alpha_vp_n1, tau_vp_n1, temp_vp_n1\n",
    "\n",
    "    else:  # elastic\n",
    "        return w_vp_n, s_vp_n, z_vp_n, alpha_vp_n, tau_trial, temp_vp_n\n"
   ]
  },
  {
   "cell_type": "markdown",
   "metadata": {},
   "source": [
    "## Time-stepping algorithm\n",
    "\n",
    "Time integration loop for a viscoplastic model based on the backward Euler scheme.\n",
    "\n",
    "The `time_stepping` function simulates the material response to some load over a series of time steps. Each time step represents a change in internal state, and with each new time step, the function updates the accumulated values of the considered variables.\n",
    "\n",
    "Inputs to the function are:\n",
    "\n",
    "- `s_max`: the maximum stress state to be reached in the simulation,\n",
    "- `n_steps`: the number of increments used to reach `s_max`,\n",
    "- `dt`: the time step length.\n",
    "\n",
    "Steps of the function:\n",
    "\n",
    "1. This function firstly creates an empty list for every variable it is going to update through the simulation. These lists store the value of each of these variables at every time step.\n",
    "\n",
    "2. It then begins a loop over `n_steps`, wherein it calculates the increment of strain (`ds`) at each step and gets the values of the viscoplastic variables at the next state (`Eps_n1`).\n",
    "\n",
    "3. `Eps_n1` is then used to update the previously empty lists that store the values of these variables (the state variables, stress, and damage).\n",
    "\n",
    "4. Finally, once all steps are over, the function returns these lists (i.e., the full history of each variable) along with the time steps (`t_arr`).\n",
    "\n",
    "This function allows us to simulate the material response under a load gradually applied over time until it reaches `s_max`. Furthermore, since viscoplasticity is considered, the function is effective in simulating cases where creep or relaxation happen over the series of time steps.\n",
    "\n",
    "Remember that in line with our previous assumptions in `get_state_n1`, in the `time_stepping` function we consider a perfect coupling between the damage and viscoplastic responses with the same parameters for both responses."
   ]
  },
  {
   "cell_type": "code",
   "execution_count": null,
   "metadata": {},
   "outputs": [],
   "source": [
    "\n",
    "def time_stepping(s_arr, t_arr, **material_params):\n",
    "    ds_arr = np.diff(s_arr,)\n",
    "    dt_arr = np.diff(t_arr)\n",
    "    Eps_arr = np.zeros((len(s_arr), 6))\n",
    "\n",
    "    for n, dt in enumerate(dt_arr):\n",
    "        ds = ds_arr[n]\n",
    "        s_n = s_arr[n]\n",
    "        Eps_arr[n+1] = get_state_n1(s_n, ds, dt, Eps_arr[n], **material_params)\n",
    "\n",
    "    return s_arr, t_arr, Eps_arr.T"
   ]
  },
  {
   "cell_type": "markdown",
   "metadata": {},
   "source": [
    "# Auxiliary methods\n",
    "\n",
    "Plotting functions for the verification studies below\n",
    "\n",
    "## Load functions"
   ]
  },
  {
   "cell_type": "markdown",
   "metadata": {},
   "source": [
    "### Step load function\n",
    "\n",
    "This code defines a symbolic step function `fn_s_t` using the Sympy Python library. Symbols (`s_1`, `t`, and `t_1`) are first defined, which represent slip, time, and a specific time point respectively.\n",
    "\n",
    "The `Piecewise` function is then used to define `fn_s_t`, which is a step function of the input time `t`. This function behaves as follows:\n",
    "- If `t` (the time) is less than `t_1` (a specific time point), the function output is a straight line with the slope `s_1 / t_1`. This part represents the linear increasing phase of slip, the slope `s_1 / t_1` is the rate at which slip increases per unit time.\n",
    "- If `t` (the time) is equal to or greater than `t_1`, the function output is a constant value `s_1`. This part represents the constant phase of slip after the loading reaches its peak value `s_1`.\n",
    "\n",
    "Then, `sp.lambdify` is used to convert the symbolic function `fn_s_t` into a lambda function `get_step_loading` that can be used with numerical computation. The lambda function takes inputs of time `t`, maximum slip `s_1` and specific point of time `t_1`.\n",
    "\n",
    "Finally, `fn_s_t` is printed out.\n",
    "\n",
    "In general, this block of code is handy for modelling situations where a value increases linearly over time until a specific point, before staying constant."
   ]
  },
  {
   "cell_type": "code",
   "execution_count": null,
   "metadata": {},
   "outputs": [],
   "source": [
    "s_1 = sp.Symbol('s_1')\n",
    "t_1 = sp.Symbol('t_1')\n",
    "t = sp.Symbol('t')\n",
    "fn_s_t = sp.Piecewise((t * s_1/t_1, t < t_1),(s_1, True)\n",
    ")\n",
    "get_step_loading = sp.lambdify((t, s_1, t_1), fn_s_t)\n",
    "fn_s_t"
   ]
  },
  {
   "cell_type": "markdown",
   "metadata": {},
   "source": [
    "### Cyclic loading function \n",
    "\n",
    "`get_cyclic_load` is a function that simulates a loading history for a cyclic load. The function accepts the maximum slip `max_s`, total simulating time `max_t`, the number of loading cycles `n_cycles`, and the number of increments `n_incr`.\n",
    "\n",
    "In the function:\n",
    "\n",
    "1. `np.tile(np.array([-1, 1]), n_cycles)` generates an array that alternates between -1 and 1 for `n_cycles` times. This represents the loading and unloading actions.\n",
    "2. It then multiplies this array by `np.linspace(0, max_s, 2 * n_cycles)`, which simply creates an array of `2 * n_cycles` evenly-spaced values from 0 to `max_s`. This construct results in a loading history (`s_arr`) that progressively increases in absolute magnitude each cycle, from 0 to `max_s`.\n",
    "3. Subsequently, `s_arr` is interpolated over a new set of time points. `np.linspace(0, max_t, n_incr * len(s_arr))` creates a list of evenly spaced time points over the total time with more time intervals. The interpolation refines the loading history `s_arr` to higher resolution.\n",
    "\n",
    "The function also generates a time array (`t_arr`) with the same length as the interpolated `s_arr`. This array represents the simulation time points.\n",
    "\n",
    "Finally, the function returns the loading history (`s_arr`) and the time array (`t_arr`), which could be used for analysis or simulation."
   ]
  },
  {
   "cell_type": "code",
   "execution_count": null,
   "metadata": {},
   "outputs": [],
   "source": [
    "def get_cyclic_load(max_s, max_t, n_cycles, n_incr):\n",
    "    # Generating loading history\n",
    "    s_arr = np.tile(np.array([-1, 1]), n_cycles) * np.linspace(0, max_s, 2 * n_cycles)\n",
    "    s_arr = np.interp(np.linspace(0, max_t, n_incr * len(s_arr)), np.linspace(0, max_t, len(s_arr)), s_arr)\n",
    "\n",
    "    # time array as input\n",
    "    t_arr = np.linspace(0, max_t, len(s_arr))\n",
    "    return s_arr, t_arr"
   ]
  },
  {
   "cell_type": "markdown",
   "metadata": {},
   "source": [
    "### Plotting response\n",
    "\n",
    "The function `plot_response` is used for visualizing the simulation results. This function accepts four arguments: `param_name`, `s_arr` (array of slip), `t_arr` (array of companion timestamps), and `response_values` (dictionary containing responses).\n",
    "\n",
    "Four subplots are generated using this function:\n",
    "1. **Loading scenario**: This plot displays how slip changes with time for different values of the parameter specified by `param_name`. This information is overlaid with the viscoplastic stress (`tau_vp`) change over time.\n",
    "2. **Stress-Slip relation**: This plot illustrates how viscoplastic stress (`tau_vp`) changes with slip for different parameter values.\n",
    "3. **Evolution of viscoplastic slip**: This plot displays how viscoplastic slip (`s_vp`) evolves with total slip for different parameter values.\n",
    "4. **Damage evolution**: This shows how the scalar damage variable (`w`) evolves with slip over time for different parameter values.\n",
    "\n",
    "Each subplot includes a legend depicting the parameter name and its corresponding value, and zero lines for easy reference."
   ]
  },
  {
   "cell_type": "code",
   "execution_count": null,
   "metadata": {},
   "outputs": [],
   "source": [
    "def plot_response(param_name, response_values):\n",
    "    fig, ((ax1,  ax2), (ax3,  ax4)) = plt.subplots(2,2, tight_layout=True, figsize=(7,7))\n",
    "    fig.canvas.header_visible = False\n",
    "    ax1_twin = ax1.twinx()\n",
    "\n",
    "    for (param, rv), color in zip(response_values.items(), ['black', 'red', 'green']):\n",
    "        s_arr, t_arr, rp = rv\n",
    "        w, s_vp, z_vp, alpha_vp, tau_vp, temp_vp = rp\n",
    "        ax1.plot(t_arr, s_arr, color=color, linewidth=1, label=\"{} = {}\".format(param_name, param))  # Loading scenario\n",
    "        ax1_twin.plot(t_arr, tau_vp, linestyle='dashed', color=color, linewidth=1)\n",
    "        ax2.plot(s_arr, tau_vp, color=color, linewidth=1, label=\"{} = {}\".format(param_name, param))    # Stress-slip relation\n",
    "        ax3.plot(t_arr, temp_vp, color=color, linewidth=1, label=\"{} = {}\".format(param_name, param))      # Evolution of temp\n",
    "        ax4.plot(s_arr, w, color=color, linewidth=1, label=\"{} = {}\".format(param_name, param))         # Damage evolution\n",
    "\n",
    "    ax1.axhline(y=0, color='k', linewidth=1, alpha=0.5)\n",
    "    ax1.axvline(x=0, color='k', linewidth=1, alpha=0.5)\n",
    "    ax1.set_title('loading scenario')\n",
    "    ax1.set_xlabel('time [s]')\n",
    "    ax1.set_ylabel('slip [mm]')\n",
    "    ax1.legend()\n",
    "\n",
    "    ax2.axhline(y=0, color='k', linewidth=1, alpha=0.5)\n",
    "    ax2.axvline(x=0, color='k', linewidth=1, alpha=0.5)\n",
    "    ax2.set_title('stress-slip')\n",
    "    ax2.set_xlabel('slip [mm]')\n",
    "    ax2.set_ylabel('stress [MPa]')\n",
    "    ax2.legend()\n",
    "\n",
    "    ax3.axhline(y=0, color='k', linewidth=1, alpha=0.5)\n",
    "    ax3.axvline(x=0, color='k', linewidth=1, alpha=0.5)\n",
    "    ax3.set_title('evolution of temperature')\n",
    "    ax3.set_xlabel('time [sec]')\n",
    "    ax3.set_ylabel('temperature [$^{\\circ}$C]')\n",
    "    ax3.legend()\n",
    "\n",
    "    ax4.axhline(y=0, color='k', linewidth=1, alpha=0.5)\n",
    "    ax4.axvline(x=0, color='k', linewidth=1, alpha=0.5)\n",
    "    ax4.set_title('damage evolution')\n",
    "    ax4.set_xlabel('slip [mm]')\n",
    "    ax4.set_ylabel('damage [-]')\n",
    "    ax4.legend()"
   ]
  },
  {
   "cell_type": "markdown",
   "metadata": {},
   "source": [
    "# Verification studies"
   ]
  },
  {
   "cell_type": "markdown",
   "metadata": {},
   "source": [
    "Run elementary verification studies for \n",
    " - a monotonically increasing slip loading\n",
    " - step loading representing the relaxation test\n",
    " - cyclic loading with an increasing amplitude"
   ]
  },
  {
   "cell_type": "markdown",
   "metadata": {},
   "source": [
    "## Load rate test\n",
    "\n",
    "Test the effect of the loading rate with constant value of $\\eta$ and vary the loading rate $\\dot{s}$."
   ]
  },
  {
   "cell_type": "markdown",
   "metadata": {},
   "source": [
    "The code block is performing a simulation of a system response under various rates of slip (`dot_s`).\n",
    "\n",
    "`t_max` and `n_t` specify the maximum time and number of time points for the simulation. `t_arr` is an array of linearly distributed time points from 0 to `t_max`.\n",
    "\n",
    "For each value of the slip rate (`dot_s`), it calculates a slip (`s_arr`) at each time point in `t_arr` by multiplying the entire `t_arr` with `dot_s`.\n",
    "\n",
    "Then, for each slip rate, the code stores the simulation result in the dictionary `response_values` by calling the `time_stepping` function with `s_arr`, `t_arr`, and some parameters."
   ]
  },
  {
   "cell_type": "code",
   "execution_count": null,
   "metadata": {},
   "outputs": [],
   "source": [
    "s_max, n_t = 50, 1000\n",
    "response_values = {}\n",
    "for dot_s in 0.01, 0.1, 1:\n",
    "    t_max = s_max / dot_s\n",
    "    t_arr = np.linspace(0, t_max, n_t)\n",
    "    s_arr = dot_s * t_arr\n",
    "    response_values[dot_s] = time_stepping(\n",
    "        s_arr, t_arr, tau_pi_bar=1, K=0, gamma=0, E_b=100, S=50, c=1, r=1, \n",
    "        m=0, sigma_n=0, eta=10, S_t = 1e+3, T_bar =0)\n",
    "\n",
    "plot_response(r'$\\dot{s}$', response_values)"
   ]
  },
  {
   "cell_type": "markdown",
   "metadata": {},
   "source": [
    "## Relaxation test\n",
    "\n",
    "Reproduce the analytical solution of step loading with the decay of stress towards the time-independent solution"
   ]
  },
  {
   "cell_type": "code",
   "execution_count": null,
   "metadata": {},
   "outputs": [],
   "source": [
    "t_max, n_t = 6, 100\n",
    "t_arr = np.linspace(0, t_max, n_t+1)\n",
    "s_arr = get_step_loading(t_arr, s_1=0.12, t_1=1)"
   ]
  },
  {
   "cell_type": "code",
   "execution_count": null,
   "metadata": {},
   "outputs": [],
   "source": [
    "response_values = {}\n",
    "for eta in [1, 10, 100]:\n",
    "    response_values[eta] = time_stepping(\n",
    "        s_arr, t_arr, tau_pi_bar=1, K=0, gamma=0, \n",
    "        E_b=100, S=1e+1, c=2, r=1, \n",
    "        m=0, sigma_n=0, eta=eta, S_t = 1e+3, \n",
    "        T_bar =0)\n",
    "\n",
    "plot_response('eta', response_values)"
   ]
  },
  {
   "cell_type": "markdown",
   "metadata": {},
   "source": [
    "## Cyclic loading test\n",
    "\n",
    "Test the effect of viscosity for a cyclic loading with increasing amplitude"
   ]
  },
  {
   "cell_type": "markdown",
   "metadata": {},
   "source": [
    "### Parametric study of viscosity parameter $\\eta$"
   ]
  },
  {
   "cell_type": "code",
   "execution_count": null,
   "metadata": {},
   "outputs": [],
   "source": [
    "s_arr, t_arr = get_cyclic_load(\n",
    "    n_cycles = 3, max_s = 50, max_t = 10, n_incr = 100\n",
    ")\n",
    "response_values = {}\n",
    "for eta in 0.1, 2, 10:\n",
    "    response_values[eta] = time_stepping(\n",
    "        s_arr, t_arr, tau_pi_bar=1, K=0, gamma=0, E_b=100, S=1e+5, c=1, r=1, \n",
    "        m=0, sigma_n=0, eta=eta, S_t = 1e+3, T_bar =0)\n",
    "    \n",
    "plot_response(r'$eta$', response_values)"
   ]
  },
  {
   "cell_type": "markdown",
   "metadata": {},
   "source": [
    "### Parametric study of loading rate influence on temperature evolution"
   ]
  },
  {
   "cell_type": "code",
   "execution_count": null,
   "metadata": {},
   "outputs": [],
   "source": [
    "response_values = {}\n",
    "for dot_s in 0.05, 0.1, 1:\n",
    "    max_s = 10\n",
    "    s_arr, t_arr = get_cyclic_load(\n",
    "    n_cycles = 15, max_s = 10, max_t = max_s/dot_s, n_incr = 100)\n",
    "    \n",
    "    response_values[dot_s] = time_stepping(\n",
    "        s_arr, t_arr, tau_pi_bar=1, K=0, gamma=0, E_b=100, S=1e+5, c=1, r=1, \n",
    "        m=0, sigma_n=0, eta=eta, S_t = 2e+2, T_bar =0)\n",
    "    \n",
    "plot_response(r'$\\dot{s}$', response_values)"
   ]
  },
  {
   "cell_type": "markdown",
   "metadata": {},
   "source": [
    "### Parametric study of the parameter T_bar (controling the influence od temperature on damage evolution)"
   ]
  },
  {
   "cell_type": "code",
   "execution_count": null,
   "metadata": {},
   "outputs": [],
   "source": [
    "response_values = {}\n",
    "for T_bar in 0, 1 ,10:\n",
    "    max_s = 10\n",
    "    dot_s = 1\n",
    "    s_arr, t_arr = get_cyclic_load(\n",
    "    n_cycles = 10, max_s = 3, max_t = max_s/dot_s, n_incr = 100)\n",
    "    response_values[T_bar] = time_stepping(\n",
    "        s_arr, t_arr, tau_pi_bar=1, K=0, gamma=0, E_b=100, S=1e+5, c=1, r=1, \n",
    "        m=0, sigma_n=0, eta=eta, S_t = 5e+2, T_bar =T_bar)\n",
    "    \n",
    "plot_response(r'$\\bar{T}$', response_values)"
   ]
  },
  {
   "cell_type": "code",
   "execution_count": null,
   "metadata": {},
   "outputs": [],
   "source": []
  },
  {
   "cell_type": "code",
   "execution_count": null,
   "metadata": {},
   "outputs": [],
   "source": []
  },
  {
   "cell_type": "code",
   "execution_count": null,
   "metadata": {},
   "outputs": [],
   "source": []
  },
  {
   "cell_type": "code",
   "execution_count": null,
   "metadata": {},
   "outputs": [],
   "source": []
  }
 ],
 "metadata": {
  "kernelspec": {
   "display_name": "Python 3 (ipykernel)",
   "language": "python",
   "name": "python3"
  },
  "language_info": {
   "codemirror_mode": {
    "name": "ipython",
    "version": 3
   },
   "file_extension": ".py",
   "mimetype": "text/x-python",
   "name": "python",
   "nbconvert_exporter": "python",
   "pygments_lexer": "ipython3"
  }
 },
 "nbformat": 4,
 "nbformat_minor": 4
}
