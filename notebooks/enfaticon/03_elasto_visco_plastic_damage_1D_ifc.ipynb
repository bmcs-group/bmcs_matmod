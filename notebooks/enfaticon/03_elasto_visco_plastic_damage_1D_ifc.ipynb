{
 "cells": [
  {
   "cell_type": "markdown",
   "metadata": {},
   "source": [
    "# Elasto-visco-plastic damage model - 1D interface\n",
    "\n",
    "**Authors:** RC, MA, MV, AB\n",
    "\n",
    "**Description:** Pilot implementation of the coupled elasto-visco-plastic damage model of an interface able to capture fatigue and creep in a consistent way."
   ]
  },
  {
   "cell_type": "code",
   "execution_count": null,
   "metadata": {},
   "outputs": [],
   "source": [
    "%matplotlib widget\n",
    "import matplotlib.pyplot as plt\n",
    "import numpy as np\n",
    "import sympy as sp"
   ]
  },
  {
   "cell_type": "markdown",
   "metadata": {},
   "source": [
    "## State update method\n",
    "\n",
    "This is a function `get_state_n1` to calculate the next state of a viscoplastic model. The function takes as input the variables `s_n, ds, dt, Eps_n, tau_pi_bar, K, gamma, E_b, S, c, r, m, sigma_n, eta` and returns the next state.\n",
    "\n",
    "Function input parameters:\n",
    "\n",
    "- `s_n`: current scalar variable representing the state at the current time step,\n",
    "- `ds`:  change in the state variable in the current time step,\n",
    "- `dt`: time step,\n",
    "- `Eps_n`: list of internal variables at the current time step,\n",
    "- `tau_pi_bar, K, gamma, E_b, S, c, r, m, sigma_n, eta`: material parameters. \n",
    "\n",
    "Steps of the function:\n",
    "\n",
    "1. The function first calculates the trial stress (`tau_trial`) and the trial yield function (`f_trial`).\n",
    "2. If the yield condition is satisfied (`f_trial > 1e-12`), the algorithm performs a return mapping:\n",
    "     - It first calculates the consistency parameter `delta_lambda`.\n",
    "     - Then, it updates the state variables considering plastic deformation – `s_vp_n1`, `Y_n1`, `w_p`, `alpha_p`, `z_p`, `tau_p`.\n",
    "3. This implementation includes a regularization using a visco-plastic approach, where the interpretation could be seen as a mechanism to capture the transient effects of the visco-plastic processes. The function calculates the relaxed time `relax_t` which substantially depends on the effective stiffness and not on the initial stiffness.\n",
    "4. The overshoot stress is calculated considering the effective stiffness and not the initial stiffness.\n",
    "5. The internal state variables `tau_vp_n1`, `z_vp_n1` and `alpha_vp_n1` are updated with regularization.\n",
    "     - The function also considers the regularization of damage `w_vp_n1`, which theoretically could be interpreted as changes in the microstructure.\n",
    "6. If the yield condition is not satisfied, the algorithm treats the response as elastic and simply returns the same internal variables that were input.\n",
    "\n",
    "Please note that this function assumes a perfect coupling between damage and viscoplasticity: the visco-plastic parameters are the same as the ones for plasticity and are affected by damage in a similar way. Changes in the parameters can be made to reflect different coupling behaviors, if necessary."
   ]
  },
  {
   "cell_type": "code",
   "execution_count": null,
   "metadata": {},
   "outputs": [],
   "source": [
    "import numpy as np\n",
    "\n",
    "def get_state_n1(s_n, ds, dt, Eps_n, tau_pi_bar, K, gamma, E_b, S, c, r, m, sigma_n, eta):\n",
    "    w_vp_n, s_vp_n, z_vp_n, alpha_vp_n, tau_vp_n = Eps_n\n",
    "\n",
    "    s_n1 = s_n + ds\n",
    "    tau_trial = (1 - w_vp_n) * E_b * (s_n1 - s_vp_n)\n",
    "    f_trial = np.abs(tau_trial / (1 - w_vp_n) - gamma * alpha_vp_n) - tau_pi_bar - K * z_vp_n + m * sigma_n\n",
    "\n",
    "    if f_trial > 1e-12:  # plastic\n",
    "\n",
    "        # Return mapping\n",
    "        delta_lambda = f_trial / (E_b / (1 - w_vp_n) + gamma + K)\n",
    "        # update all the state variables\n",
    "        s_vp_n1 = (s_vp_n + delta_lambda * \n",
    "                   np.sign(tau_trial/(1. - w_vp_n) - gamma * alpha_vp_n) / (1 - w_vp_n))\n",
    "        Y_n1 = 0.5 * E_b * (s_n1 - s_vp_n) ** 2\n",
    "        w_p = w_vp_n + ((1 - w_vp_n) ** c) * (delta_lambda * (Y_n1 / S) ** r)  * (1 - sigma_n / (0.5 * tau_pi_bar)) \n",
    "        alpha_p = alpha_vp_n +  delta_lambda * np.sign(tau_trial/(1 - w_vp_n) - gamma * alpha_vp_n)\n",
    "        z_p = z_vp_n + delta_lambda\n",
    "        tau_p = E_b * (1. - w_p) * (s_n1 - s_vp_n1)\n",
    "    \n",
    "        # visco-plastic regularization\n",
    "        # In the context of damage-plasticity, the fundamental question is\n",
    "        # if the relaxation time depends on damage. I think this is a consistent\n",
    "        # assumption. The relaxation time i.e. the time needed to relax\n",
    "        # a unit of stress must depend on the effective stiffness and not \n",
    "        # on the initial stiffness. \n",
    "        relax_t = eta / ((1 - w_p)*E_b + K + gamma)\n",
    "        \n",
    "        dt_tau = dt / relax_t\n",
    "        # Another modification has been done here to calculate the \n",
    "        # overshoot stress considering the effective stiffness and \n",
    "        # not the initial stiffness\n",
    "        tau_vp_n_ds = tau_vp_n + (1 - w_p) * E_b * ds\n",
    "        tau_vp_n1 = (tau_vp_n_ds + dt_tau * tau_p)/(1 + dt_tau)\n",
    "        z_vp_n1 = (z_vp_n + dt_tau * z_p)/(1 + dt_tau) \n",
    "        alpha_vp_n1 = (alpha_vp_n + dt_tau * alpha_p)/(1 + dt_tau) \n",
    "        # Does it make sense to regularize the damage as well?\n",
    "        # what would be the interpretation in terms of changes in the \n",
    "        # microstructure?\n",
    "        # w_vp_n1 = (w_vp_n + dt_tau * w_p)/(1 + dt_tau) \n",
    "        w_vp_n1 = w_p \n",
    "        s_vp_n1 = s_n1 - tau_vp_n1/E_b\n",
    "\n",
    "        return w_vp_n1, s_vp_n1, z_vp_n1, alpha_vp_n1, tau_vp_n1\n",
    "\n",
    "    else:  # elastic\n",
    "        return w_vp_n, s_vp_n, z_vp_n, alpha_vp_n, tau_trial\n"
   ]
  },
  {
   "cell_type": "markdown",
   "metadata": {},
   "source": [
    "## Time-stepping algorithm\n",
    "\n",
    "Time integration loop for a viscoplastic model based on the backward Euler scheme.\n",
    "\n",
    "The `time_stepping` function simulates the material response to some load over a series of time steps. Each time step represents a change in internal state, and with each new time step, the function updates the accumulated values of the considered variables.\n",
    "\n",
    "Inputs to the function are:\n",
    "\n",
    "- `s_max`: the maximum stress state to be reached in the simulation,\n",
    "- `n_steps`: the number of increments used to reach `s_max`,\n",
    "- `dt`: the time step length.\n",
    "\n",
    "Steps of the function:\n",
    "\n",
    "1. This function firstly creates an empty list for every variable it is going to update through the simulation. These lists store the value of each of these variables at every time step.\n",
    "\n",
    "2. It then begins a loop over `n_steps`, wherein it calculates the increment of strain (`ds`) at each step and gets the values of the viscoplastic variables at the next state (`Eps_n1`).\n",
    "\n",
    "3. `Eps_n1` is then used to update the previously empty lists that store the values of these variables (the state variables, stress, and damage).\n",
    "\n",
    "4. Finally, once all steps are over, the function returns these lists (i.e., the full history of each variable) along with the time steps (`t_arr`).\n",
    "\n",
    "This function allows us to simulate the material response under a load gradually applied over time until it reaches `s_max`. Furthermore, since viscoplasticity is considered, the function is effective in simulating cases where creep or relaxation happen over the series of time steps.\n",
    "\n",
    "Remember that in line with our previous assumptions in `get_state_n1`, in the `time_stepping` function we consider a perfect coupling between the damage and viscoplastic responses with the same parameters for both responses."
   ]
  },
  {
   "cell_type": "code",
   "execution_count": null,
   "metadata": {},
   "outputs": [],
   "source": [
    "\n",
    "def time_stepping(s_arr, t_arr, **material_params):\n",
    "    ds_arr = np.diff(s_arr,)\n",
    "    dt_arr = np.diff(t_arr)\n",
    "    Eps_arr = np.zeros((len(s_arr), 5))\n",
    "\n",
    "    for n, dt in enumerate(dt_arr):\n",
    "        ds = ds_arr[n]\n",
    "        s_n = s_arr[n]\n",
    "        Eps_arr[n+1] = get_state_n1(s_n, ds, dt, Eps_arr[n], **material_params)\n",
    "\n",
    "    return Eps_arr.T"
   ]
  },
  {
   "cell_type": "markdown",
   "metadata": {},
   "source": [
    "# Auxiliary methods\n",
    "\n",
    "Plotting functions for the verification studies below\n",
    "\n",
    "## Load functions"
   ]
  },
  {
   "cell_type": "markdown",
   "metadata": {},
   "source": [
    "### Step load function\n",
    "\n",
    "This code defines a symbolic step function `fn_s_t` using the Sympy Python library. Symbols (`s_1`, `t`, and `t_1`) are first defined, which represent slip, time, and a specific time point respectively.\n",
    "\n",
    "The `Piecewise` function is then used to define `fn_s_t`, which is a step function of the input time `t`. This function behaves as follows:\n",
    "- If `t` (the time) is less than `t_1` (a specific time point), the function output is a straight line with the slope `s_1 / t_1`. This part represents the linear increasing phase of slip, the slope `s_1 / t_1` is the rate at which slip increases per unit time.\n",
    "- If `t` (the time) is equal to or greater than `t_1`, the function output is a constant value `s_1`. This part represents the constant phase of slip after the loading reaches its peak value `s_1`.\n",
    "\n",
    "Then, `sp.lambdify` is used to convert the symbolic function `fn_s_t` into a lambda function `get_step_loading` that can be used with numerical computation. The lambda function takes inputs of time `t`, maximum slip `s_1` and specific point of time `t_1`.\n",
    "\n",
    "Finally, `fn_s_t` is printed out.\n",
    "\n",
    "In general, this block of code is handy for modelling situations where a value increases linearly over time until a specific point, before staying constant."
   ]
  },
  {
   "cell_type": "code",
   "execution_count": null,
   "metadata": {},
   "outputs": [],
   "source": [
    "s_1 = sp.Symbol('s_1')\n",
    "t_1 = sp.Symbol('t_1')\n",
    "t = sp.Symbol('t')\n",
    "fn_s_t = sp.Piecewise((t * s_1/t_1, t < t_1),(s_1, True)\n",
    ")\n",
    "get_step_loading = sp.lambdify((t, s_1, t_1), fn_s_t)\n",
    "fn_s_t"
   ]
  },
  {
   "cell_type": "markdown",
   "metadata": {},
   "source": [
    "### Cyclic loading function \n",
    "\n",
    "`get_cyclic_load` is a function that simulates a loading history for a cyclic load. The function accepts the maximum slip `max_s`, total simulating time `max_t`, the number of loading cycles `n_cycles`, and the number of increments `n_incr`.\n",
    "\n",
    "In the function:\n",
    "\n",
    "1. `np.tile(np.array([-1, 1]), n_cycles)` generates an array that alternates between -1 and 1 for `n_cycles` times. This represents the loading and unloading actions.\n",
    "2. It then multiplies this array by `np.linspace(0, max_s, 2 * n_cycles)`, which simply creates an array of `2 * n_cycles` evenly-spaced values from 0 to `max_s`. This construct results in a loading history (`s_arr`) that progressively increases in absolute magnitude each cycle, from 0 to `max_s`.\n",
    "3. Subsequently, `s_arr` is interpolated over a new set of time points. `np.linspace(0, max_t, n_incr * len(s_arr))` creates a list of evenly spaced time points over the total time with more time intervals. The interpolation refines the loading history `s_arr` to higher resolution.\n",
    "\n",
    "The function also generates a time array (`t_arr`) with the same length as the interpolated `s_arr`. This array represents the simulation time points.\n",
    "\n",
    "Finally, the function returns the loading history (`s_arr`) and the time array (`t_arr`), which could be used for analysis or simulation."
   ]
  },
  {
   "cell_type": "code",
   "execution_count": null,
   "metadata": {},
   "outputs": [],
   "source": [
    "def get_cyclic_load(max_s, max_t, n_cycles, n_incr):\n",
    "    # Generating loading history\n",
    "    s_arr = np.tile(np.array([-1, 1]), n_cycles) * np.linspace(0, max_s, 2 * n_cycles)\n",
    "    s_arr = np.interp(np.linspace(0, max_t, n_incr * len(s_arr)), np.linspace(0, max_t, len(s_arr)), s_arr)\n",
    "\n",
    "    # time array as input\n",
    "    t_arr = np.linspace(0, max_t, len(s_arr))\n",
    "    return s_arr, t_arr"
   ]
  },
  {
   "cell_type": "markdown",
   "metadata": {},
   "source": [
    "### Plotting response\n",
    "\n",
    "The function `plot_response` is used for visualizing the simulation results. This function accepts four arguments: `param_name`, `s_arr` (array of slip), `t_arr` (array of companion timestamps), and `response_values` (dictionary containing responses).\n",
    "\n",
    "Four subplots are generated using this function:\n",
    "1. **Loading scenario**: This plot displays how slip changes with time for different values of the parameter specified by `param_name`. This information is overlaid with the viscoplastic stress (`tau_vp`) change over time.\n",
    "2. **Stress-Slip relation**: This plot illustrates how viscoplastic stress (`tau_vp`) changes with slip for different parameter values.\n",
    "3. **Evolution of viscoplastic slip**: This plot displays how viscoplastic slip (`s_vp`) evolves with total slip for different parameter values.\n",
    "4. **Damage evolution**: This shows how the scalar damage variable (`w`) evolves with slip over time for different parameter values.\n",
    "\n",
    "Each subplot includes a legend depicting the parameter name and its corresponding value, and zero lines for easy reference."
   ]
  },
  {
   "cell_type": "code",
   "execution_count": null,
   "metadata": {},
   "outputs": [],
   "source": [
    "def plot_response(param_name, s_arr, t_arr, response_values):\n",
    "    fig, ((ax1,  ax2), (ax3,  ax4)) = plt.subplots(2,2, tight_layout=True, figsize=(7,7))\n",
    "    fig.canvas.header_visible = False\n",
    "    ax1_twin = ax1.twinx()\n",
    "\n",
    "    for (param, rp), color in zip(response_values.items(), ['black', 'red', 'green']):\n",
    "        w, s_vp, z_vp, alpha_vp, tau_vp = rp\n",
    "        ax1.plot(t_arr, s_arr, color=color, linewidth=1, label=\"{} = {}\".format(param_name, param))  # Loading scenario\n",
    "        ax1_twin.plot(t_arr, tau_vp, linestyle='dashed', color=color, linewidth=1)\n",
    "        ax2.plot(s_arr, tau_vp, color=color, linewidth=1, label=\"{} = {}\".format(param_name, param))    # Stress-slip relation\n",
    "        ax3.plot(s_arr, s_vp, color=color, linewidth=1, label=\"{} = {}\".format(param_name, param))      # Evolution of viscoplastic slip\n",
    "        ax4.plot(s_arr, w, color=color, linewidth=1, label=\"{} = {}\".format(param_name, param))         # Damage evolution\n",
    "\n",
    "    ax1.axhline(y=0, color='k', linewidth=1, alpha=0.5)\n",
    "    ax1.axvline(x=0, color='k', linewidth=1, alpha=0.5)\n",
    "    ax1.set_title('loading scenario')\n",
    "    ax1.set_xlabel('time [s]')\n",
    "    ax1.set_ylabel('slip [mm]')\n",
    "    ax1.legend()\n",
    "\n",
    "    ax2.axhline(y=0, color='k', linewidth=1, alpha=0.5)\n",
    "    ax2.axvline(x=0, color='k', linewidth=1, alpha=0.5)\n",
    "    ax2.set_title('stress-slip')\n",
    "    ax2.set_xlabel('slip [mm]')\n",
    "    ax2.set_ylabel('stress [MPa]')\n",
    "    ax2.legend()\n",
    "\n",
    "    ax3.axhline(y=0, color='k', linewidth=1, alpha=0.5)\n",
    "    ax3.axvline(x=0, color='k', linewidth=1, alpha=0.5)\n",
    "    ax3.set_title('evolution of viscoplastic slip')\n",
    "    ax3.set_xlabel('slip [mm]')\n",
    "    ax3.set_ylabel('viscoplastic slip [mm]')\n",
    "    ax3.legend()\n",
    "\n",
    "    ax4.axhline(y=0, color='k', linewidth=1, alpha=0.5)\n",
    "    ax4.axvline(x=0, color='k', linewidth=1, alpha=0.5)\n",
    "    ax4.set_title('damage evolution')\n",
    "    ax4.set_xlabel('slip [mm]')\n",
    "    ax4.set_ylabel('damage [-]')\n",
    "    ax4.legend()"
   ]
  },
  {
   "cell_type": "markdown",
   "metadata": {},
   "source": [
    "# Verification studies"
   ]
  },
  {
   "cell_type": "markdown",
   "metadata": {},
   "source": [
    "Run elementary verification studies for \n",
    " - a monotonically increasing slip loading\n",
    " - step loading representing the relaxation test\n",
    " - cyclic loading with an increasing amplitude"
   ]
  },
  {
   "cell_type": "markdown",
   "metadata": {},
   "source": [
    "## Load rate test\n",
    "\n",
    "Test the effect of the loading rate with constant value of $\\eta$ and vary the loading rate $\\dot{s}$."
   ]
  },
  {
   "cell_type": "markdown",
   "metadata": {},
   "source": [
    "The code block is performing a simulation of a system response under various rates of slip (`dot_s`).\n",
    "\n",
    "`t_max` and `n_t` specify the maximum time and number of time points for the simulation. `t_arr` is an array of linearly distributed time points from 0 to `t_max`.\n",
    "\n",
    "For each value of the slip rate (`dot_s`), it calculates a slip (`s_arr`) at each time point in `t_arr` by multiplying the entire `t_arr` with `dot_s`.\n",
    "\n",
    "Then, for each slip rate, the code stores the simulation result in the dictionary `response_values` by calling the `time_stepping` function with `s_arr`, `t_arr`, and some parameters."
   ]
  },
  {
   "cell_type": "code",
   "execution_count": null,
   "metadata": {},
   "outputs": [],
   "source": [
    "t_max, n_t = 20, 1000\n",
    "t_arr = np.linspace(0, t_max, n_t)\n",
    "response_values = {}\n",
    "for dot_s in 0.01, 0.1, 1:\n",
    "    s_arr = dot_s * t_arr\n",
    "    response_values[dot_s] = time_stepping(\n",
    "        s_arr, t_arr, tau_pi_bar=1, K=0, gamma=0, E_b=100, S=50, c=1, r=1, \n",
    "        m=0, sigma_n=0, eta=10)\n",
    "\n",
    "plot_response(r'$\\dot{s}$', s_arr, t_arr, response_values)"
   ]
  },
  {
   "cell_type": "markdown",
   "metadata": {},
   "source": [
    "**Remark**: Note the effect of coupling between damage and viscoplasticity. The damage increases during the overshoot stress for the largest value of viscosity $\\eta = 1$.\n",
    "At the time $t=20$ s, the damage reaches the value $\\omega = 0.65."
   ]
  },
  {
   "cell_type": "markdown",
   "metadata": {},
   "source": [
    "## Relaxation test\n",
    "\n",
    "Reproduce the analytical solution of step loading with the decay of stress towards the time-independent solution\n"
   ]
  },
  {
   "cell_type": "code",
   "execution_count": null,
   "metadata": {},
   "outputs": [],
   "source": [
    "t_max, n_t = 6, 100\n",
    "t_arr = np.linspace(0, t_max, n_t+1)\n",
    "s_arr = get_step_loading(t_arr, s_1=0.12, t_1=1)"
   ]
  },
  {
   "cell_type": "code",
   "execution_count": null,
   "metadata": {},
   "outputs": [],
   "source": [
    "response_values = {}\n",
    "for eta in 1, 10, 100:\n",
    "    response_values[eta] = time_stepping(\n",
    "        s_arr, t_arr, tau_pi_bar=1, K=0, gamma=0, E_b=100, S=1e+1, c=2, r=1, \n",
    "        m=0, sigma_n=0, eta=eta)\n",
    "\n",
    "plot_response('eta', s_arr, t_arr, response_values)"
   ]
  },
  {
   "cell_type": "markdown",
   "metadata": {},
   "source": [
    "**Remark:** Also here, damage effect is visible. Note that all three viscosity parameters induce full relaxation of the stress towards the rate-independent limit value."
   ]
  },
  {
   "cell_type": "markdown",
   "metadata": {},
   "source": [
    "## Cyclic loading test\n",
    "\n",
    "Test the effect of viscosity for a cyclic loading with increasing amplitude"
   ]
  },
  {
   "cell_type": "markdown",
   "metadata": {},
   "source": [
    "### Parametric study of viscosity parameter $\\eta$"
   ]
  },
  {
   "cell_type": "code",
   "execution_count": null,
   "metadata": {},
   "outputs": [],
   "source": [
    "s_arr, t_arr = get_cyclic_load(\n",
    "    n_cycles = 3, max_s = 50, max_t = 10, n_incr = 100\n",
    ")\n",
    "response_values = {}\n",
    "for eta in 0.1, 1, 2:\n",
    "    response_values[eta] = time_stepping(\n",
    "        s_arr, t_arr, tau_pi_bar=1, K=0, gamma=0, E_b=100, S=1e+5, c=1, r=1, \n",
    "        m=0, sigma_n=0, eta=eta)"
   ]
  },
  {
   "cell_type": "code",
   "execution_count": null,
   "metadata": {},
   "outputs": [],
   "source": [
    "plot_response('eta', s_arr, t_arr, response_values)"
   ]
  },
  {
   "cell_type": "markdown",
   "metadata": {},
   "source": [
    "**Remark:** As in previous examples, the combined effect of viscosity and damage is visible for high value of $\\eta$."
   ]
  },
  {
   "cell_type": "markdown",
   "metadata": {},
   "source": [
    "# Further considerations\n",
    "\n",
    " - Collect arguments to justify the coupling of viscoplasticity and damage that is shown in this model formulation. What are the consequences for the microstructural interpretation of the simulated phenomenology\n",
    " - The remaining question is if a controllable coupling between damage and viscoplasticity is needed. The first idea to this is if yes, the coupling should be a part of the thermodynamic potential with an explicit split between plastic and viscoplastic deformation. Probably, this is not necessary. "
   ]
  },
  {
   "cell_type": "markdown",
   "metadata": {},
   "source": []
  }
 ],
 "metadata": {
  "kernelspec": {
   "display_name": "bmcs_env2",
   "language": "python",
   "name": "python3"
  },
  "language_info": {
   "codemirror_mode": {
    "name": "ipython",
    "version": 3
   },
   "file_extension": ".py",
   "mimetype": "text/x-python",
   "name": "python",
   "nbconvert_exporter": "python",
   "pygments_lexer": "ipython3"
  }
 },
 "nbformat": 4,
 "nbformat_minor": 2
}
