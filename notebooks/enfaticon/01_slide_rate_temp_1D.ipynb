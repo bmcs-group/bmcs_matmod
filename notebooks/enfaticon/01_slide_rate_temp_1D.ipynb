{
 "cells": [
  {
   "cell_type": "code",
   "execution_count": null,
   "metadata": {
    "pycharm": {
     "is_executing": true
    },
    "tags": []
   },
   "outputs": [],
   "source": [
    "%matplotlib widget\n",
    "import sympy as sp\n",
    "import numpy as np\n",
    "import matplotlib.pylab as plt\n",
    "sp.init_printing()"
   ]
  },
  {
   "cell_type": "markdown",
   "metadata": {},
   "source": [
    "## Driving force of plastic sliding\n",
    "\n",
    "In the context of plasticity, the thermodynamic force associated with plastic sliding is known as the \"driving force for plastic deformation.\" This force is related to the change in free energy associated with plastic deformation, and it represents the thermodynamic driving force that causes the material to deform plastically.\n",
    "\n",
    "The driving force for plastic deformation is related to the flow stress, which is the stress required to initiate plastic deformation in a material. In thermodynamic terms, the flow stress is related to the Helmholtz free energy of the material, and the driving force for plastic deformation is related to the change in Helmholtz free energy associated with plastic deformation.\n",
    "\n",
    "The driving force for plastic deformation is influenced by a number of factors, including the temperature, the strain rate, and the microstructure of the material. In general, materials with a higher driving force for plastic deformation will be more prone to plastic deformation and will exhibit a lower yield strength.\n",
    "\n",
    "The concept of the driving force for plastic deformation is useful in understanding the behavior of materials under load, and it plays an important role in the design of materials and structures that are subjected to mechanical stresses."
   ]
  },
  {
   "cell_type": "markdown",
   "metadata": {
    "jupyter": {
     "outputs_hidden": false
    }
   },
   "source": [
    "The heat balance equation for sliding problem\n",
    "$$\n",
    "\\rho C_\\mathrm{v} \\dot{T}\n",
    "=\n",
    "r\n",
    "+\n",
    "\\frac{\\partial (\\kappa \\partial T) }{\\partial^2 x}\n",
    "+\n",
    "\\left(\n",
    "\\tau \\dot{s} \n",
    "+ \n",
    "\\rho T \\frac{ \\partial^2 \\Psi}{\\partial T \\partial \\boldsymbol{\\mathcal{E}}} \n",
    "\\dot{\\boldsymbol{\\mathcal{E}}}\n",
    "-\n",
    "\\rho \\frac{ \\partial \\Psi}{ \\partial \\boldsymbol{\\mathcal{E}}} \\dot{\\boldsymbol{\\mathcal{E}}}\n",
    "\\right)\n",
    "$$"
   ]
  },
  {
   "cell_type": "code",
   "execution_count": null,
   "metadata": {},
   "outputs": [],
   "source": []
  }
 ],
 "metadata": {
  "kernelspec": {
   "display_name": "Python 3 (ipykernel)",
   "language": "python",
   "name": "python3"
  },
  "language_info": {
   "codemirror_mode": {
    "name": "ipython",
    "version": 3
   },
   "file_extension": ".py",
   "mimetype": "text/x-python",
   "name": "python",
   "nbconvert_exporter": "python",
   "pygments_lexer": "ipython3"
  }
 },
 "nbformat": 4,
 "nbformat_minor": 4
}
