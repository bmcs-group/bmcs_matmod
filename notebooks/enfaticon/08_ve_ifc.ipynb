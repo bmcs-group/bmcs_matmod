{
 "cells": [
  {
   "cell_type": "markdown",
   "metadata": {},
   "source": [
    "# Derivation of thermo-visco-elastic model"
   ]
  },
  {
   "cell_type": "code",
   "execution_count": null,
   "metadata": {},
   "outputs": [],
   "source": [
    "%matplotlib widget \n",
    "import sympy as sp # CAS used for symbolic derivations \n",
    "sp.init_printing()\n",
    "from cymbol import Cymbol\n",
    "import matplotlib.pyplot as plt # plotting package\n",
    "from matplotlib import cm # color maps for plotting\n",
    "import numpy as np # array based numerical package \n",
    "np.seterr(divide='ignore', invalid='ignore') # suppress warnings on division by zero"
   ]
  },
  {
   "cell_type": "markdown",
   "metadata": {},
   "source": [
    "### Material parameters"
   ]
  },
  {
   "cell_type": "code",
   "execution_count": null,
   "metadata": {},
   "outputs": [],
   "source": [
    "E_T = Cymbol(r'E_{\\mathrm{T}}', codename='E_T_', real=True, nonnegative=True)\n",
    "\n",
    "eta_T = Cymbol(r'\\eta_{\\mathrm{T}}', codename='eta_T_', real=True, nonnegative=True)\n",
    "\n",
    "alpha_T = Cymbol(r'\\alpha_T', codename='alpha_T_', real=True, nonnegative=True)\n",
    "# temperature \n",
    "C_v = Cymbol(r'C_{\\mathrm{v}}', codename='C_v_', real=True, nonnegative=True)\n",
    "T_0 = Cymbol(r'T_0', codename='T_0_', real=True, nonnegative=True)"
   ]
  },
  {
   "cell_type": "code",
   "execution_count": null,
   "metadata": {},
   "outputs": [],
   "source": [
    "sp_vars = (E_T, eta_T, C_v, T_0, alpha_T)\n",
    "sp_vars"
   ]
  },
  {
   "cell_type": "markdown",
   "metadata": {},
   "source": [
    "### State variables"
   ]
  },
  {
   "cell_type": "code",
   "execution_count": null,
   "metadata": {},
   "outputs": [],
   "source": [
    "T = Cymbol(r'T', codename='T_', real=True)\n",
    "u_T = Cymbol(r'u_{\\mathrm{T}x}', codename='u_Tx_', real=True)"
   ]
  },
  {
   "cell_type": "code",
   "execution_count": null,
   "metadata": {},
   "outputs": [],
   "source": [
    "import numpy as np\n",
    "import matplotlib.pyplot as plt\n",
    "\n",
    "# Define the parameters for the Prony series\n",
    "G0 = 1.0\n",
    "G = np.array([0.1, 0.2, 0.3, 0.4])\n",
    "tau = np.array([0.001, 0.5, 1.0, 20.0])\n",
    "\n",
    "# Define the time range\n",
    "t = np.linspace(0, 50, 100)\n",
    "\n",
    "# Calculate the Prony series\n",
    "G_t = G0 - np.sum(G[:, None] * np.exp(-t / tau[:, None]), axis=0)\n",
    "\n",
    "# Plot the result\n",
    "plt.plot(t, G_t)\n",
    "plt.xlabel('Time')\n",
    "plt.ylabel('G(t)')\n",
    "plt.title('Prony Series')\n",
    "plt.grid(True)\n",
    "plt.show()"
   ]
  },
  {
   "cell_type": "code",
   "execution_count": null,
   "metadata": {},
   "outputs": [],
   "source": [
    "import numpy as np\n",
    "import matplotlib.pyplot as plt\n",
    "from sympy import symbols, \\\n",
    "    exp, lambdify, init_printing, integrate, oo\n",
    "init_printing()\n",
    "\n",
    "# Define the parameters for the Prony series\n",
    "G0 = 1.0\n",
    "G = [0.1, 0.2, 0.3, 0.4]\n",
    "tau = [0.001, 0.5, 1.0, 20.0]\n",
    "\n",
    "# Define symbols\n",
    "t = symbols('t')\n",
    "t_s = symbols('t_s')\n",
    "\n",
    "# Define the Prony series using sympy\n",
    "G_t_expr = G0 - sum([G[i]*exp(-t/tau[i]) for i in range(len(G))])\n",
    "\n",
    "# Print symbolic expression\n",
    "print(G_t_expr)\n",
    "\n",
    "# Lambdify the Prony series\n",
    "G_t = lambdify(t, G_t_expr, modules=['numpy'])\n",
    "\n",
    "# Time range\n",
    "t_values = np.linspace(0, 50, 100)\n",
    "\n",
    "# Calculate the Prony series\n",
    "G_t_values = G_t(t_values)\n",
    "\n",
    "# Plot the result\n",
    "plt.plot(t_values, G_t_values)\n",
    "plt.xlabel('Time')\n",
    "plt.ylabel('G(t)')\n",
    "plt.title('Prony Series')\n",
    "plt.grid(True)\n",
    "plt.show()\n",
    "\n",
    "# Example of symbolic integral\n",
    "integral_expr = integrate(G_t_expr.subs(t, t-t_s), (t_s, 0, t))\n",
    "\n",
    "# Print integral expression\n",
    "print(integral_expr)"
   ]
  },
  {
   "cell_type": "code",
   "execution_count": null,
   "metadata": {},
   "outputs": [],
   "source": []
  },
  {
   "cell_type": "code",
   "execution_count": null,
   "metadata": {},
   "outputs": [],
   "source": []
  },
  {
   "cell_type": "code",
   "execution_count": null,
   "metadata": {},
   "outputs": [],
   "source": []
  },
  {
   "cell_type": "code",
   "execution_count": null,
   "metadata": {},
   "outputs": [],
   "source": []
  },
  {
   "cell_type": "code",
   "execution_count": null,
   "metadata": {},
   "outputs": [],
   "source": []
  }
 ],
 "metadata": {
  "kernelspec": {
   "display_name": "bmcs_env2",
   "language": "python",
   "name": "python3"
  },
  "language_info": {
   "codemirror_mode": {
    "name": "ipython",
    "version": 3
   },
   "file_extension": ".py",
   "mimetype": "text/x-python",
   "name": "python",
   "nbconvert_exporter": "python",
   "pygments_lexer": "ipython3"
  }
 },
 "nbformat": 4,
 "nbformat_minor": 2
}
