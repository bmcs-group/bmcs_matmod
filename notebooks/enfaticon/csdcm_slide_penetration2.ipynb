{
 "cells": [
  {
   "cell_type": "markdown",
   "metadata": {
    "slideshow": {
     "slide_type": "slide"
    }
   },
   "source": [
    "# **Derivation of the fatigue interface model with penetration penalty**\n",
    "\n",
    "**Coupled sliding-decohesion-compression model for consistent description of monotonic and fatigue behavior of material interfaces (CMAME 2022)**\n",
    "\n",
    "Chudoba, R., Vořechovský, M., Aguilar, M., Baktheer, A."
   ]
  },
  {
   "cell_type": "markdown",
   "metadata": {},
   "source": [
    "<div style=\"background-color:lightblue;text-align:center\"> \n",
    "To execute the code in a cell, press [Shift+Enter]. By executing the cells one-by-one starting from top and reading the annotation of the steps between executable cells, you will be able to follow the abstract thermodynamic derivation leading to an executable simulation code.\n",
    "</div>"
   ]
  },
  {
   "cell_type": "markdown",
   "metadata": {},
   "source": [
    "The abstract implementation of the return mapping algorithm for general \n",
    "damage-plasticity modes. The basic ingredients of of a thermodynamically based model\n",
    "are introduced as\n",
    "\n",
    " - Vector of state variables $\\boldsymbol{\\mathcal{E}}$\n",
    " - Vector of thermodynamic streses $\\boldsymbol{\\mathcal{S}}$\n",
    " - Helmholtz free energy $\\psi(\\boldsymbol{\\mathcal{E}})$\n",
    " - Threshold on thermodynamical forces  $f(\\boldsymbol{\\mathcal{S}},\\boldsymbol{\\mathcal{E}})$ / Yield condition\n",
    " - Flow potential $\\varphi(\\boldsymbol{\\mathcal{S}},\\boldsymbol{\\mathcal{E}})$\n",
    "\n",
    "Based on the symbolic formulation using the `sympy` package, the time-stepping algorithm\n",
    "is generated automatically by requiring the consistency condition to hold for each \n",
    "prescribed load increment."
   ]
  },
  {
   "cell_type": "markdown",
   "metadata": {},
   "source": [
    "**Scientific computing in Python**: The Jupyter notebook is executed in a `Python environment` that can be automatically installed using the `conda` package manager. The list of required package is specified [here](../environment.yml). In the subsequent derivation and demonstration, following three packages are used:\n",
    " 1. Computer algebra is implemented using the `sympy` package ([https://www.sympy.org](https://www.sympy.org)).\n",
    " 2. The derived expressions are transformed to an executable Python code in terms of `numpy` - a multi-dimensional array package ([https://www.numpy.org](https://www.numpy.org)). \n",
    " 3. Plotting of simulation results is done using the `matplotlib` package ([https://www.matplotlib.org](https://www.matplotlib.org)). "
   ]
  },
  {
   "cell_type": "code",
   "execution_count": null,
   "metadata": {
    "slideshow": {
     "slide_type": "slide"
    }
   },
   "outputs": [],
   "source": [
    "%matplotlib widget \n",
    "import sympy as sp # CAS used for symbolic derivations \n",
    "sp.init_printing()\n",
    "import matplotlib.pyplot as plt # plotting package\n",
    "from matplotlib import cm # color maps for plotting\n",
    "from sympy.utilities.codegen import codegen # code generation package\n",
    "import numpy as np # array based numerical package \n",
    "np.seterr(divide='ignore', invalid='ignore') # suppress warnings on division by zero\n",
    "from cymbol import Cymbol, ccode # Symbol class \n",
    "from sympy import Heaviside"
   ]
  },
  {
   "cell_type": "markdown",
   "metadata": {},
   "source": [
    "**From expressions to executable code**: The transformation of the algebraic expressions, vectors and matrices into an executable code is done in two ways. For direct quantitative demonstration of the derived algorithm, the executable `Python` code is obtained using the `numpy.lambdify` method. To show how to transform the code into executable `C` code, at the end of the notebook, the `sympy` subpackage `codegen` is applied. To enable both pretty printing of symbolic expressions and `C` language naming of the variables, the standard `sympy` class called `sympy.Symbol` is overloaded by an own subclass named `Cymbol` that makes it possible to provide the attribute named `codename` for the `C` code generator autonomosly. "
   ]
  },
  {
   "cell_type": "markdown",
   "metadata": {},
   "source": [
    "**Heaviside and Dirac delta functions**: Starting with `sympy` 1.9, Heaviside function can be correctly handled\n",
    "in the `lambdified` code. However, `DiracDelta` function is still not available in the printer. Therefore, a dummy\n",
    "`get_dirac_delta` is added here as a workaround."
   ]
  },
  {
   "cell_type": "code",
   "execution_count": null,
   "metadata": {},
   "outputs": [],
   "source": [
    "H = Heaviside\n",
    "def get_dirac_delta(x):\n",
    "    return 0\n",
    "numpy_dirac =[{'DiracDelta': get_dirac_delta }, 'numpy']"
   ]
  },
  {
   "cell_type": "markdown",
   "metadata": {},
   "source": [
    "&nbsp;<font color='blue'>\n",
    "**Naming conventions:**\n",
    " - Python language convention using lowercase letters separated by underscores is used for the variable and function names.\n",
    " - Variables with trailing underscore (e.g. `f_`, or `Sig_`) denote `sympy` expressions. \n",
    " - Variables denoting `sympy` symbols (e.g. `Sig` have no underscore at the end and have a name which is close to the mathematical symbol\n",
    " - Mathematical symbols defined as string in `Cymbol(r'\\tau^{\\pi}')` use `latex` syntax to introduce Greek symbols, super and subindexes. This makes the pretty printing of expression possible."
   ]
  },
  {
   "cell_type": "markdown",
   "metadata": {},
   "source": [
    "# **1 Symbolic derivation of thermodynamic potentials**"
   ]
  },
  {
   "cell_type": "markdown",
   "metadata": {},
   "source": [
    "**Include the notebook with the derived threshold function**\n",
    "\n",
    "The derivation of the continuous and smooth threshold function combining the elliptical capps in the tension and compression with the linear part in the tangential direction is derived in a separate notebook. \n",
    "To prepare the symbols for all material parameters, we include the derivation here using the `%run` command. The `%%capture` magic command is used to supress any printing and plotting done in the executed notebook.  \n",
    "[threshold_function.ipynb](threshold_function.ipynb)"
   ]
  },
  {
   "cell_type": "code",
   "execution_count": null,
   "metadata": {},
   "outputs": [],
   "source": [
    "%%capture\n",
    "%run threshold_function.ipynb"
   ]
  },
  {
   "cell_type": "markdown",
   "metadata": {},
   "source": [
    "## **1.1 Free energy potential, state variables and thermodynamic forces**"
   ]
  },
  {
   "cell_type": "markdown",
   "metadata": {
    "slideshow": {
     "slide_type": "slide"
    }
   },
   "source": [
    "### Material parameters"
   ]
  },
  {
   "cell_type": "code",
   "execution_count": null,
   "metadata": {
    "slideshow": {
     "slide_type": "fragment"
    }
   },
   "outputs": [],
   "source": [
    "E_T = Cymbol(r'E_{\\mathrm{T}}', codename='E_T_', real=True, nonnegative=True)\n",
    "gamma_T = Cymbol(r'\\gamma_{\\mathrm{T}}', codename='gamma_T_', real=True)\n",
    "K_T = Cymbol(r'K_{\\mathrm{T}}', codename='K_T_', real=True)\n",
    "S_T = Cymbol(r'S_{\\mathrm{T}}', codename='S_T_', real=True, nonnegative=True)\n",
    "r_T = Cymbol(r'r_{\\mathrm{T}}', codename='r_T_', real=True, nonnegative=True)\n",
    "c_T = Cymbol(r'c_{\\mathrm{T}}', codename='c_T_', real=True, nonnegative=True)\n",
    "\n",
    "E_N = Cymbol(r'E_{\\mathrm{N}}', codename='E_N_', real=True, nonnegative=True)\n",
    "gamma_N = Cymbol(r'\\gamma_{\\mathrm{N}}', codename='gamma_N_', real=True)\n",
    "S_N = Cymbol(r'S_{\\mathrm{N}}', codename='S_N_', real=True, nonnegative=True)\n",
    "r_N = Cymbol(r'r_{\\mathrm{N}}', codename='r_N_', real=True, nonnegative=True)\n",
    "c_N = Cymbol(r'c_{\\mathrm{N}}', codename='c_N_', real=True, nonnegative=True)\n",
    "\n",
    "eta = Cymbol('eta', codename='eta_', real=True, nonnegative=True)"
   ]
  },
  {
   "cell_type": "code",
   "execution_count": null,
   "metadata": {},
   "outputs": [],
   "source": [
    "u_0_N = Cymbol(r'u^0_\\mathrm{N}', codename='u_0_N_', real=True, nonpositive=True)\n",
    "zeta_E_N = Cymbol(r'\\zeta^E_\\mathrm{N}', codename='zeta_E_N_', real=True, nonpositive=True)"
   ]
  },
  {
   "cell_type": "code",
   "execution_count": null,
   "metadata": {},
   "outputs": [],
   "source": [
    "sp_vars = (E_T, gamma_T, K_T, S_T, c_T, f_s, E_N, gamma_N, S_N, c_N, m, f_t, f_c, f_c0, \n",
    "           r_N, r_T, eta,\n",
    "           zeta_E_N, u_0_N)\n",
    "sp_vars"
   ]
  },
  {
   "cell_type": "markdown",
   "metadata": {
    "slideshow": {
     "slide_type": "slide"
    }
   },
   "source": [
    "### State variables"
   ]
  },
  {
   "cell_type": "code",
   "execution_count": null,
   "metadata": {
    "slideshow": {
     "slide_type": "fragment"
    }
   },
   "outputs": [],
   "source": [
    "u_Tx = Cymbol(r'u_{\\mathrm{T}x}', codename='u_Tx_', real=True)\n",
    "u_Ty = Cymbol(r',u_{\\mathrm{T}y}', codename='u_Ty_', real=True)\n",
    "u_p_Tx = Cymbol(r'u^{\\mathrm{p}}_{\\mathrm{T}x}', codename='u_p_Tx_', real=True)\n",
    "u_p_Ty = Cymbol(r'u^{\\mathrm{p}}_{\\mathrm{T}y}', codename='u_p_Ty_', real=True)\n",
    "omega_T = Cymbol(r'\\omega_{\\mathrm{T}}', codename='omega_T_', real=True, nonnegative=True)\n",
    "alpha_Tx = Cymbol(r'\\alpha_{\\mathrm{T}x}', codename='alpha_Tx_', real=True)\n",
    "alpha_Ty = Cymbol(r'\\alpha_{\\mathrm{T}y}', codename='alpha_Ty_', real=True)\n",
    "z_T = Cymbol(r'z_\\mathrm{T}', codename='z_T_', real=True)\n",
    "u_N = Cymbol(r'u_\\mathrm{N}', codename='u_N_', real=True)\n",
    "omega_N = Cymbol(r'\\omega_\\mathrm{N}', codename='omega_N_', real=True, nonnegative=True)\n",
    "u_p_N = Cymbol(r'u^{\\mathrm{p}}_\\mathrm{N}', codename='u_p_N_', real=True)"
   ]
  },
  {
   "cell_type": "code",
   "execution_count": null,
   "metadata": {
    "slideshow": {
     "slide_type": "fragment"
    }
   },
   "outputs": [],
   "source": [
    "Eps = sp.Matrix([u_p_Tx, u_p_Ty, u_p_N, z_T, alpha_Tx, alpha_Ty, omega_T, omega_N])\n",
    "Eps.T"
   ]
  },
  {
   "cell_type": "markdown",
   "metadata": {},
   "source": [
    "### Penetration stiffness function"
   ]
  },
  {
   "cell_type": "code",
   "execution_count": null,
   "metadata": {},
   "outputs": [],
   "source": [
    "fn_sin = (1-sp.sin( ((u_N/u_0_N+sp.Rational(1,2))*sp.pi)  ))/2\n",
    "sp.simplify(fn_sin)"
   ]
  },
  {
   "cell_type": "code",
   "execution_count": null,
   "metadata": {},
   "outputs": [],
   "source": [
    "fn_tr = (Heaviside(-u_N) * Heaviside(u_N - u_0_N) * fn_sin * (zeta_E_N-1) + \n",
    "          (zeta_E_N-1) * Heaviside(-(u_N - u_0_N))\n",
    "         ) + 1\n",
    "sp.simplify(fn_tr)"
   ]
  },
  {
   "cell_type": "code",
   "execution_count": null,
   "metadata": {},
   "outputs": [],
   "source": [
    "get_dfn_transition = sp.lambdify((u_N, u_0_N, zeta_E_N), sp.simplify(fn_tr))"
   ]
  },
  {
   "cell_type": "code",
   "execution_count": null,
   "metadata": {},
   "outputs": [],
   "source": [
    "fig, ax = plt.subplots(1,1)\n",
    "u_N_range = np.linspace(-0.3, 0.1, 50)\n",
    "dfn_tr_range = get_dfn_transition(u_N_range, -0.1, 20)\n",
    "ax.plot(u_N_range, dfn_tr_range);"
   ]
  },
  {
   "cell_type": "markdown",
   "metadata": {
    "slideshow": {
     "slide_type": "slide"
    }
   },
   "source": [
    "### Helmholtz free energy"
   ]
  },
  {
   "cell_type": "markdown",
   "metadata": {
    "slideshow": {
     "slide_type": "fragment"
    }
   },
   "source": [
    "The starting point in the thermodynamical representation of a process is a potential function of time dependent state variables. To describe the evolution of the state correctly describing the energy dissipation of the system the gradient of the potential function with respect to the state variables provides the generalized forces. The forces are constrained to characterize specific material properties, e.g. strength, hardening."
   ]
  },
  {
   "cell_type": "code",
   "execution_count": null,
   "metadata": {
    "slideshow": {
     "slide_type": "fragment"
    }
   },
   "outputs": [],
   "source": [
    "sigma_Tx = Cymbol(r'\\sigma_{\\mathrm{T}x}', codename='sigma_Tx_', real=True)\n",
    "sigma_Ty = Cymbol(r'\\sigma_{\\mathrm{T}y}', codename='sigma_Ty_', real=True)\n",
    "sigma_p_Tx = Cymbol(r'\\sigma^\\mathrm{p}_{\\mathrm{T}x}', codename='sigma_p_Tx_', real=True)\n",
    "sigma_p_Ty = Cymbol(r'\\sigma^\\mathrm{p}_{\\mathrm{T}y}', codename='sigma_p_Ty_', real=True)\n",
    "X_Tx = Cymbol(r'X_{\\mathrm{T}x}', codename='X_Tx_', real=True)\n",
    "X_Ty = Cymbol(r'X_{\\mathrm{T}y}', codename='X_Ty_', real=True)\n",
    "Z_T = Cymbol(r'Z_\\mathrm{T}', codename='Z_T_', real=True, nonnegative=True)\n",
    "Y_T = Cymbol(r'Y_\\mathrm{T}', codename='Y_T_', real=True, nonnegative=True)\n",
    "sigma_N = Cymbol(r'\\sigma_\\mathrm{N}', codename='sigma_N_', real=True)\n",
    "sigma_p_N = Cymbol(r'\\sigma^{\\mathrm{p}}_\\mathrm{N}', codename='sigma_p_N_', real=True)\n",
    "Y_N = Cymbol(r'Y_\\mathrm{N}', codename='Y_N_', real=True, nonnegative=True)"
   ]
  },
  {
   "cell_type": "code",
   "execution_count": null,
   "metadata": {
    "slideshow": {
     "slide_type": "fragment"
    }
   },
   "outputs": [],
   "source": [
    "rho_psi_T_ = sp.Rational(1, 2) * ( \n",
    "    (1-omega_T)*E_T*(u_Tx-u_p_Tx)**2 + \n",
    "    (1-omega_T)*E_T*(u_Ty-u_p_Ty)**2 + \n",
    "    K_T * z_T**2 + \n",
    "    gamma_T * alpha_Tx**2 +\n",
    "    gamma_T * alpha_Ty**2\n",
    ")\n",
    "\n",
    "rho_psi_N_ = sp.Rational(1, 2) * (\n",
    "    (1 - H(sigma_p_N) * omega_N) * E_N * fn_tr * (u_N - u_p_N)**2\n",
    ")"
   ]
  },
  {
   "cell_type": "code",
   "execution_count": null,
   "metadata": {},
   "outputs": [],
   "source": [
    "rho_psi_ = rho_psi_T_ + rho_psi_N_\n",
    "rho_psi_"
   ]
  },
  {
   "cell_type": "markdown",
   "metadata": {
    "slideshow": {
     "slide_type": "slide"
    }
   },
   "source": [
    "### Thermodynamic forces"
   ]
  },
  {
   "cell_type": "code",
   "execution_count": null,
   "metadata": {
    "slideshow": {
     "slide_type": "fragment"
    }
   },
   "outputs": [],
   "source": [
    "Sig = sp.Matrix([sigma_p_Tx, sigma_p_Ty, sigma_p_N, Z_T, X_Tx, X_Ty, Y_T, Y_N])\n",
    "Sig.T"
   ]
  },
  {
   "cell_type": "markdown",
   "metadata": {
    "slideshow": {
     "slide_type": "slide"
    }
   },
   "source": [
    "The introduce the thermodynamic forces we have to differentiate Hemholtz free energy\n",
    "with respect to the kinematic state variables\n",
    "\\begin{align}\n",
    "\\frac{\\partial \\rho \\psi }{\\partial \\boldsymbol{\\mathcal{E}}}\n",
    "\\end{align}"
   ]
  },
  {
   "cell_type": "code",
   "execution_count": null,
   "metadata": {
    "slideshow": {
     "slide_type": "fragment"
    }
   },
   "outputs": [],
   "source": [
    "d_rho_psi_ = sp.Matrix([rho_psi_.diff(eps) for eps in Eps])\n",
    "d_rho_psi_"
   ]
  },
  {
   "cell_type": "markdown",
   "metadata": {
    "slideshow": {
     "slide_type": "fragment"
    }
   },
   "source": [
    "To obtain consistent signs of the Helmholtz derivatives we define a sign switch operator so that all generalized forces are defined as positive for the respective conjugate state variable $\\boldsymbol{\\Upsilon}$. "
   ]
  },
  {
   "cell_type": "code",
   "execution_count": null,
   "metadata": {
    "slideshow": {
     "slide_type": "fragment"
    }
   },
   "outputs": [],
   "source": [
    "Sig_signs = sp.diag(-1, -1, -1, 1, 1, 1, -1, -1)"
   ]
  },
  {
   "cell_type": "markdown",
   "metadata": {
    "slideshow": {
     "slide_type": "slide"
    }
   },
   "source": [
    "The constitutive laws between generalized force and kinematic variables then read\n",
    "\\begin{align}\n",
    "\\boldsymbol{\\mathcal{S}} = \\boldsymbol{\\Upsilon}\\frac{\\rho \\psi}{\\partial\\boldsymbol{\\mathcal{E}}} \n",
    "\\end{align}"
   ]
  },
  {
   "cell_type": "code",
   "execution_count": null,
   "metadata": {
    "slideshow": {
     "slide_type": "fragment"
    }
   },
   "outputs": [],
   "source": [
    "Sig_ = Sig_signs * d_rho_psi_\n",
    "Sig_"
   ]
  },
  {
   "cell_type": "markdown",
   "metadata": {
    "slideshow": {
     "slide_type": "fragment"
    }
   },
   "source": [
    "**Executable code for** $\\boldsymbol{\\mathcal{S}}(s,\\boldsymbol{\\mathcal{E}})$\n",
    "\n",
    "Generate the executable code in `Python` and `C` languages."
   ]
  },
  {
   "cell_type": "code",
   "execution_count": null,
   "metadata": {},
   "outputs": [],
   "source": [
    "get_Sig = sp.lambdify( \n",
    "    (u_Tx, u_Ty, u_N, Sig, Eps) + sp_vars + ('**kw',), Sig_.T, numpy_dirac\n",
    ")\n",
    "get_Sig_C = ccode('get_Sig',Sig_,'SLIDE3_4')"
   ]
  },
  {
   "cell_type": "markdown",
   "metadata": {
    "slideshow": {
     "slide_type": "slide"
    }
   },
   "source": [
    "To derive the time stepping procedure we will need also the matrix of derivatives of the generalized stresses $\\boldsymbol{\\mathcal{S}}$ with respect to the kinematic variables $\\boldsymbol{\\mathcal{E}}$ \n",
    "\\begin{align}\n",
    "\\frac{\\partial \\boldsymbol{S}}{\\partial \\boldsymbol{E}}\n",
    "\\end{align}"
   ]
  },
  {
   "cell_type": "code",
   "execution_count": null,
   "metadata": {
    "slideshow": {
     "slide_type": "fragment"
    }
   },
   "outputs": [],
   "source": [
    "dSig_dEps_ = sp.Matrix([\n",
    "    Sig_.T.diff(eps) for eps in Eps \n",
    "]).T\n",
    "dSig_dEps_"
   ]
  },
  {
   "cell_type": "markdown",
   "metadata": {
    "slideshow": {
     "slide_type": "fragment"
    }
   },
   "source": [
    "**Executable Python code generation** $\\displaystyle \\frac{\\partial }{\\partial \\boldsymbol{\\mathcal{E}}}  \\boldsymbol{\\mathcal{S}}(s,\\boldsymbol{\\mathcal{E}})$"
   ]
  },
  {
   "cell_type": "code",
   "execution_count": null,
   "metadata": {
    "slideshow": {
     "slide_type": "fragment"
    }
   },
   "outputs": [],
   "source": [
    "get_dSig_dEps = sp.lambdify(\n",
    "    (u_Tx, u_Ty, u_N, Sig, Eps) + sp_vars + ('**kw',), dSig_dEps_, numpy_dirac\n",
    ")\n",
    "get_dSig_dEps_C = ccode('get_dSig_dEps', dSig_dEps_, 'SLIDE3_4')"
   ]
  },
  {
   "cell_type": "markdown",
   "metadata": {
    "slideshow": {
     "slide_type": "slide"
    }
   },
   "source": [
    "## **1.2 Threshold function**"
   ]
  },
  {
   "cell_type": "markdown",
   "metadata": {
    "slideshow": {
     "slide_type": "fragment"
    }
   },
   "source": [
    "To keep the framework general for different stress norms and hardening definitions let us first introduce a general function for effective stress. Note that the observable stress $\\tau$ is identical with the plastic stress $\\tau_\\pi$ due to the performed sign switch in the definition of the thermodynamic forces."
   ]
  },
  {
   "cell_type": "code",
   "execution_count": null,
   "metadata": {
    "slideshow": {
     "slide_type": "fragment"
    }
   },
   "outputs": [],
   "source": [
    "sigma_eff_Tx = sp.Function(r'\\sigma^{\\mathrm{eff}}_{\\mathrm{T}x}')(sigma_p_Tx, omega_T)\n",
    "sigma_eff_Ty = sp.Function(r'\\sigma^{\\mathrm{eff}}_{\\mathrm{T}y}')(sigma_p_Ty, omega_T)\n",
    "sigma_eff_N = sp.Function(r'\\sigma^{\\mathrm{eff}}_{\\mathrm{N}}')(sigma_p_N, omega_N)\n",
    "q_Tx = sp.Function(r'q_Tx')(sigma_eff_Tx,X_Tx)\n",
    "q_Ty = sp.Function(r'q_Ty')(sigma_eff_Ty,X_Ty)\n",
    "q_N = sp.Function(r'q_N')(sigma_eff_N)\n",
    "sigma_eff_Tx, sigma_eff_Ty, sigma_eff_N"
   ]
  },
  {
   "cell_type": "markdown",
   "metadata": {
    "slideshow": {
     "slide_type": "slide"
    }
   },
   "source": [
    "The stress norm is defined using the stress offset $X$, i.e. the kinematic hardening stress representing the shift of the origin of the yield locus.  "
   ]
  },
  {
   "cell_type": "code",
   "execution_count": null,
   "metadata": {
    "slideshow": {
     "slide_type": "fragment"
    }
   },
   "outputs": [],
   "source": [
    "norm_q_T = sp.sqrt(q_Tx*q_Tx + q_Ty*q_Ty)\n",
    "norm_q_T"
   ]
  },
  {
   "cell_type": "markdown",
   "metadata": {
    "slideshow": {
     "slide_type": "slide"
    }
   },
   "source": [
    "Let us now introduce the back stress $X$ by defining the substitution for $Q = \\tau^\\mathrm{eff} - X$"
   ]
  },
  {
   "cell_type": "code",
   "execution_count": null,
   "metadata": {
    "slideshow": {
     "slide_type": "fragment"
    }
   },
   "outputs": [],
   "source": [
    "subs_q_T = {q_Tx: (sigma_eff_Tx - X_Tx), q_Ty: (sigma_eff_Ty - X_Ty)}\n",
    "subs_q_T"
   ]
  },
  {
   "cell_type": "code",
   "execution_count": null,
   "metadata": {},
   "outputs": [],
   "source": [
    "subs_q_N = {q_N: sigma_eff_N}\n",
    "subs_q_N"
   ]
  },
  {
   "cell_type": "markdown",
   "metadata": {
    "slideshow": {
     "slide_type": "fragment"
    }
   },
   "source": [
    "Further substitution rule introduces the effective stress as a function of damage as"
   ]
  },
  {
   "cell_type": "code",
   "execution_count": null,
   "metadata": {
    "slideshow": {
     "slide_type": "fragment"
    }
   },
   "outputs": [],
   "source": [
    "subs_sigma_eff = {sigma_eff_Tx: sigma_p_Tx / (1-omega_T),\n",
    "                  sigma_eff_Ty: sigma_p_Ty / (1-omega_T),\n",
    "                  sigma_eff_N: sigma_p_N / (1-H(sigma_p_N)*omega_N)\n",
    "                 }\n",
    "subs_sigma_eff"
   ]
  },
  {
   "cell_type": "markdown",
   "metadata": {
    "slideshow": {
     "slide_type": "slide"
    }
   },
   "source": [
    "After substitutions the yield function reads"
   ]
  },
  {
   "cell_type": "markdown",
   "metadata": {},
   "source": [
    "**Smooth yield function**"
   ]
  },
  {
   "cell_type": "code",
   "execution_count": null,
   "metadata": {},
   "outputs": [],
   "source": [
    "f_ = (f_solved_\n",
    "      .subs({x: q_N, y: norm_q_T})\n",
    "      .subs(subs_q_T)\n",
    "      .subs(subs_q_N)\n",
    "      .subs(subs_sigma_eff)\n",
    "      .subs(f_s, (f_s+Z_T))\n",
    "     )\n",
    "f_"
   ]
  },
  {
   "cell_type": "markdown",
   "metadata": {
    "slideshow": {
     "slide_type": "fragment"
    }
   },
   "source": [
    "**Executable code generation** $f(\\boldsymbol{\\mathcal{E}}, \\boldsymbol{\\mathcal{S}})$\n",
    "\n",
    "Note that this is a function of both the forces and kinematic state variables"
   ]
  },
  {
   "cell_type": "code",
   "execution_count": null,
   "metadata": {
    "slideshow": {
     "slide_type": "fragment"
    }
   },
   "outputs": [],
   "source": [
    "get_f = sp.lambdify(\n",
    "    (Eps, Sig) + sp_vars + ('**kw',), f_, numpy_dirac\n",
    ")\n",
    "get_f_C = ccode('get_f', f_, 'SLIDE3_4')"
   ]
  },
  {
   "cell_type": "markdown",
   "metadata": {
    "slideshow": {
     "slide_type": "slide"
    }
   },
   "source": [
    "The derivative of $f$ required for time-stepping $\\frac{\\partial f}{\\partial \\boldsymbol{\\mathcal{S}}}$ is obtained as"
   ]
  },
  {
   "cell_type": "code",
   "execution_count": null,
   "metadata": {
    "slideshow": {
     "slide_type": "fragment"
    }
   },
   "outputs": [],
   "source": [
    "df_dSig_ = f_.diff(Sig)\n",
    "# df_dSig_.T"
   ]
  },
  {
   "cell_type": "markdown",
   "metadata": {
    "slideshow": {
     "slide_type": "fragment"
    }
   },
   "source": [
    "**Executable code generation** $\\displaystyle \\frac{\\partial f}{\\partial \\boldsymbol{\\mathcal{S}}}(\\boldsymbol{\\mathcal{E}}, \\boldsymbol{\\mathcal{S})}$"
   ]
  },
  {
   "cell_type": "code",
   "execution_count": null,
   "metadata": {
    "slideshow": {
     "slide_type": "fragment"
    }
   },
   "outputs": [],
   "source": [
    "get_df_dSig = sp.lambdify(\n",
    "    (Eps, Sig) + sp_vars + ('**kw',), df_dSig_, numpy_dirac\n",
    ")\n",
    "get_df_dSig_C = ccode('get_df_dSig', df_dSig_, 'SLIDE1_3')"
   ]
  },
  {
   "cell_type": "markdown",
   "metadata": {
    "slideshow": {
     "slide_type": "slide"
    }
   },
   "source": [
    "Due to the direct dependency of $f$ on $\\boldsymbol{\\mathcal{E}}$ also the term $\\displaystyle\\frac{\\partial^\\mathrm{dir} f}{\\partial^\\mathrm{dir} \\boldsymbol{\\mathcal{E}}}$ must be provided for numerical evaluation of derivatives"
   ]
  },
  {
   "cell_type": "code",
   "execution_count": null,
   "metadata": {
    "slideshow": {
     "slide_type": "fragment"
    }
   },
   "outputs": [],
   "source": [
    "ddf_dEps_ = f_.diff(Eps)\n",
    "#ddf_dEps_.T"
   ]
  },
  {
   "cell_type": "markdown",
   "metadata": {
    "slideshow": {
     "slide_type": "slide"
    }
   },
   "source": [
    "**Executable Python code generation** $\\displaystyle\\frac{\\partial }{\\partial \\boldsymbol{\\mathcal{E}}} f(\\boldsymbol{\\mathcal{E}}, \\boldsymbol{\\mathcal{S})}$"
   ]
  },
  {
   "cell_type": "code",
   "execution_count": null,
   "metadata": {
    "slideshow": {
     "slide_type": "fragment"
    }
   },
   "outputs": [],
   "source": [
    "get_ddf_dEps = sp.lambdify(\n",
    "    (Eps, Sig) + sp_vars + ('**kw',), ddf_dEps_, numpy_dirac\n",
    ")\n",
    "get_ddf_dEps_C = ccode('get_df_dEps', ddf_dEps_, 'SLIDE1_3')"
   ]
  },
  {
   "cell_type": "code",
   "execution_count": null,
   "metadata": {},
   "outputs": [],
   "source": [
    "material_params = dict(\n",
    "    E_T_=1, gamma_T_=0.2, K_T_=0.1, S_T_=0.6, c_T_=1, f_s_=1, gamma_N_=2,\n",
    "    E_N_=1, S_N_=0.6, c_N_=1, m_=0.2, f_t_=1, f_c_=20, \n",
    "    f_c0_=10, eta_=0, zeta_ = 0, chi_ = 0, r_N_=1, r_T_=1,\n",
    "    zeta_E_N_=0, u_0_N_=-0.1\n",
    ")\n",
    "sig_p_range, tau_p_range = np.mgrid[-22:3:500j, -5:5:500j]"
   ]
  },
  {
   "cell_type": "code",
   "execution_count": null,
   "metadata": {},
   "outputs": [],
   "source": [
    "Eps_f = np.zeros((len(Eps),)+sig_p_range.shape,dtype=np.float_)\n",
    "Sig_f = np.zeros((len(Eps),)+sig_p_range.shape,dtype=np.float_)\n",
    "#Sig_f[1] = sig_p_range\n",
    "Sig_f[2] = sig_p_range\n",
    "Sig_f[0] = tau_p_range\n",
    "f_f = get_f(Eps_f, Sig_f, **material_params)"
   ]
  },
  {
   "cell_type": "code",
   "execution_count": null,
   "metadata": {},
   "outputs": [],
   "source": [
    "fig = plt.figure(figsize=(8, 5), tight_layout=True)\n",
    "ax = fig.add_subplot(1, 1, 1) # , projection='3d')\n",
    "ax.contour(sig_p_range, tau_p_range, f_f);\n",
    "ax.axis('equal');"
   ]
  },
  {
   "cell_type": "markdown",
   "metadata": {
    "slideshow": {
     "slide_type": "slide"
    }
   },
   "source": [
    "## **1.3 Flow potential**\n",
    "For non-associative flow rule let us define an extension to be added to the threshold function "
   ]
  },
  {
   "cell_type": "code",
   "execution_count": null,
   "metadata": {},
   "outputs": [],
   "source": [
    "S_NT = sp.sqrt(S_N*S_T)\n",
    "c_NT = sp.sqrt(c_N*c_T)\n",
    "r_NT = sp.sqrt(r_N*r_T)\n",
    "omega_NT = 1 - sp.sqrt((1-omega_N)*(1-omega_T))\n",
    "phi_N = (1 - omega_N)**c_N * S_N / (r_N+1) * (Y_N / S_N)**(r_N+1) \n",
    "phi_T = (1 - omega_T)**c_T * S_T / (r_T+1) * (Y_T / S_T)**(r_T+1) \n",
    "phi_NT = (1 - omega_NT)**c_NT * S_NT / (r_NT+1) * ((Y_N + Y_T)/(S_NT))**(r_NT+1)"
   ]
  },
  {
   "cell_type": "code",
   "execution_count": null,
   "metadata": {},
   "outputs": [],
   "source": [
    "phi_ext_ = ((1 - eta)*(phi_N + phi_T) + eta*phi_NT)\n",
    "d_phi_ext_ = sp.simplify(phi_ext_.diff(Sig))"
   ]
  },
  {
   "cell_type": "markdown",
   "metadata": {
    "slideshow": {
     "slide_type": "fragment"
    }
   },
   "source": [
    "The flow potential $\\varphi(\\boldsymbol{\\mathcal{E}}, \\boldsymbol{\\mathcal{S}})$ reads"
   ]
  },
  {
   "cell_type": "code",
   "execution_count": null,
   "metadata": {
    "slideshow": {
     "slide_type": "fragment"
    }
   },
   "outputs": [],
   "source": [
    "phi_ = f_ + phi_ext_  # phi_T_ext + phi_N_ext"
   ]
  },
  {
   "cell_type": "markdown",
   "metadata": {
    "slideshow": {
     "slide_type": "slide"
    }
   },
   "source": [
    "and the corresponding directions of flow given as a product of the sign operator $\\Upsilon$ and of the derivatives with respect to state variables \n",
    "$\\boldsymbol{\\Upsilon} \\, \\partial_{\\boldsymbol{\\mathcal{S}}} \\varphi$\n",
    "This renders following flow direction vector\n",
    "\\begin{align}\n",
    "\\boldsymbol{\\Phi} = - \\Upsilon \\frac{\\partial \\varphi}{\\partial \\boldsymbol{\\mathcal{S}}} \n",
    "\\end{align}"
   ]
  },
  {
   "cell_type": "code",
   "execution_count": null,
   "metadata": {},
   "outputs": [],
   "source": [
    "Phi_ = -Sig_signs * (f_.diff(Sig) + sp.simplify(phi_ext_.diff(Sig)))"
   ]
  },
  {
   "cell_type": "markdown",
   "metadata": {
    "slideshow": {
     "slide_type": "fragment"
    }
   },
   "source": [
    "**Executable code generation** $\\boldsymbol{\\Phi}(\\boldsymbol{\\mathcal{E}}, \\boldsymbol{\\mathcal{S})}$"
   ]
  },
  {
   "cell_type": "code",
   "execution_count": null,
   "metadata": {
    "slideshow": {
     "slide_type": "fragment"
    }
   },
   "outputs": [],
   "source": [
    "get_Phi = sp.lambdify(\n",
    "    (Eps, Sig) + sp_vars + ('**kw',), Phi_, numpy_dirac\n",
    ")\n",
    "get_Phi_C = ccode('get_Phi', Phi_, 'SLIDE1_3')"
   ]
  },
  {
   "cell_type": "markdown",
   "metadata": {
    "slideshow": {
     "slide_type": "slide"
    }
   },
   "source": [
    "# **2 Time integration scheme**"
   ]
  },
  {
   "cell_type": "markdown",
   "metadata": {
    "slideshow": {
     "slide_type": "slide"
    }
   },
   "source": [
    "## Discrete yield condition\n",
    "In a continuous case we consistency condition to explicitly glue the state onto the yield surface \n",
    "\\begin{align}\n",
    "\\dot{f}(\\boldsymbol{\\mathcal{S}}(s, \\boldsymbol{\\mathcal{E}(\\lambda)}), \\boldsymbol{\\mathcal{E}(\\lambda)} ) &= 0 \\end{align}\n",
    "In discrete case, we relax this requirement. Indeed, by taking $f(s_{n+1}; \\boldsymbol{\\mathcal{E}_n}) $ as a first trial value we can obtain positive values.\n",
    "\n",
    "&nbsp;<font color=\"green\">\n",
    "**We allow for \"trial\" states which lie beyond the admissible domain $f \\le 0$ during iteration. This allows us to construct a \"return mapping\" algorithm that iteratively approaches an admissible state on the yield surface.**</font>"
   ]
  },
  {
   "cell_type": "markdown",
   "metadata": {
    "slideshow": {
     "slide_type": "fragment"
    }
   },
   "source": [
    "Given an inadmissible trial state $k$ with the yield condition $f_k > 0$, let us introduce a linearized approximation of its change along the plastic multiplier $\\lambda$ around the state $k$. \n",
    "\\begin{align}\n",
    " f_{k+1} &= f_{k} + \\left. \\frac{\\partial f}{\\partial \\lambda} \\right|_k \\Delta \\lambda\n",
    "\\end{align}\n",
    "In this form, we can search for an admissible state $f_{n+1} = 0$ by iterating over $k$.\n",
    "Note that in initial iteration $k = 0$ the state from previous step is reused, i.e. \n",
    "$f(s_{n+1}; \\boldsymbol{\\mathcal{E}_n}) $."
   ]
  },
  {
   "attachments": {
    "image.png": {
     "image/png": "[encoded data removed]"
    }
   },
   "cell_type": "markdown",
   "metadata": {
    "slideshow": {
     "slide_type": "slide"
    }
   },
   "source": [
    "In the linearized form, we can transform the yield condition to a recurrent formula\n",
    "\\begin{align}\n",
    "\\left. \\frac{\\mathrm{d} f}{\\mathrm{d} \\lambda}\\right|_k \\Delta \\lambda &= -f_k,\n",
    "\\hspace{1cm} f_k \\rightarrow 0 \\; \\;\\mathrm{for}\\;\\; k = 1\\ldots\\infty\n",
    "\\end{align}\n",
    "This resembles the Newton method for iterative solution of a nonlinear equation. However, we need to consider the fact that the level of inadmissibility $f$ changes between iterations. \n",
    "![image.png](attachment:image.png)\n",
    "Note that the predictor is negative and $\\Delta \\lambda > 0$. In every step, the plastic multiplier is updated:\n",
    "\\begin{align}\n",
    "\\lambda_{k+1} &= \\lambda_k + \\Delta \\lambda, \\, \\lambda_0 = 0 \\nonumber \\\\ \\nonumber\n",
    "\\end{align}"
   ]
  },
  {
   "cell_type": "markdown",
   "metadata": {
    "slideshow": {
     "slide_type": "fragment"
    }
   },
   "source": [
    "Two more questions must addressed to define a general numerical algorithm for plasticity:\n",
    "<font color=\"brown\">\n",
    " * **Update of state variables $\\boldsymbol{\\mathcal{E}}_{k+1}$ in each iteration**\n",
    " * **Expression of the predictor $\\mathrm{d} f / \\mathrm{d} \\lambda$ in terms of the state variables**\n",
    "</font>"
   ]
  },
  {
   "cell_type": "markdown",
   "metadata": {
    "slideshow": {
     "slide_type": "slide"
    }
   },
   "source": [
    "## State update\n",
    "In every iteration step the state variables $\\boldsymbol{\\mathcal{E}}$ must be updated using the discrete evolution equations, i.e. \n",
    "\\begin{align}\n",
    "\\boldsymbol{\\mathcal{E}}_{k+1} &= \n",
    "\\boldsymbol{\\mathcal{E}}_k + \\lambda_{k+1} \n",
    "\\boldsymbol{\\Phi}_k\n",
    "\\label{eq:discrete_evolution}\n",
    "\\end{align}\n",
    "Which is used in the calculation of the threshold function in the next step. Note that $\\boldsymbol{\\Phi}_k$ is evaluated in the state $k$ and not $k+1$."
   ]
  },
  {
   "cell_type": "markdown",
   "metadata": {
    "slideshow": {
     "slide_type": "fragment"
    }
   },
   "source": [
    "To reach an admissible state let us linearize the threshold function at an interim state $k$ as\n",
    "\\begin{align}\n",
    "f_{k+1} = \n",
    "f_k \n",
    " +\n",
    "\\left.\n",
    "\\frac\n",
    "{\\partial f}\n",
    "{\\partial \\lambda}\n",
    "\\right|_k\n",
    "\\Delta \\lambda\n",
    "\\end{align}"
   ]
  },
  {
   "cell_type": "markdown",
   "metadata": {
    "slideshow": {
     "slide_type": "fragment"
    }
   },
   "source": [
    "## Predictor\n",
    "\\begin{align}\n",
    "\\left.\n",
    "\\frac{\\partial f}{\\partial{\\lambda}}  \n",
    "\\right|_k \n",
    "&=\n",
    "\\left.\n",
    "\\frac{\\partial f}{\\partial{\\boldsymbol{ \\mathcal{E}}}}  \n",
    "\\right|_k \n",
    "\\left.\n",
    "\\frac{\\partial {\\boldsymbol{ \\mathcal{E}}}}{\\partial \\lambda}\n",
    "\\right|_k =\n",
    "\\left.\n",
    "\\frac{\\partial f}{\\partial{\\boldsymbol{ \\mathcal{E}}}}  \n",
    "\\right|_k \n",
    "\\boldsymbol{\\Phi}_k \\\\\n",
    "\\left.\n",
    "\\frac{\\partial f}{\\partial{\\boldsymbol{ \\mathcal{E}}}}  \n",
    "\\right|_k \n",
    "&=\n",
    "\\left. \\frac{\\partial f}{ \\partial \\boldsymbol{\\mathcal{S}}}\\right|_{k}\n",
    "\\left. \\frac{\\partial \\boldsymbol{\\mathcal{S}}}{\\partial \\boldsymbol{\\mathcal{E}}}\\right|_{k}\n",
    "+\n",
    "\\left. \\frac{\\partial^{\\mathrm{dir}} f}{ \\partial^{\\mathrm{dir}} \\boldsymbol{\\mathcal{E}}}\\right|_{k}\n",
    "\\label{eq:df_dlambda}\n",
    "\\end{align}"
   ]
  },
  {
   "cell_type": "markdown",
   "metadata": {
    "slideshow": {
     "slide_type": "slide"
    }
   },
   "source": [
    "**Remark 1:** The derivative $\\partial^\\mathrm{dir}$ denotes the direct derivative with respect to $\\boldsymbol{\\mathcal{E}}$"
   ]
  },
  {
   "cell_type": "markdown",
   "metadata": {
    "slideshow": {
     "slide_type": "fragment"
    }
   },
   "source": [
    "**Remark 2:** Note that $\\displaystyle \\frac{\\partial \\boldsymbol{\\mathcal{E}}}{\\partial \\lambda}$ in equation $\\eqref{eq:df_dlambda}$ can be obtained from the evolution equations $\\eqref{eq:discrete_evolution}$\n",
    "\\begin{align}\n",
    "\\boldsymbol{\\mathcal{E}}_k = \\boldsymbol{\\mathcal{E}}_n + \\lambda \\, \\boldsymbol{\\Phi}_k\\; \\implies\n",
    "\\left.\n",
    "\\frac{\\partial {\\boldsymbol{ \\mathcal{E}}}}{\\partial \\lambda}\n",
    "\\right|_k = \n",
    "\\boldsymbol{\\Phi}_k\n",
    "\\end{align}"
   ]
  },
  {
   "cell_type": "markdown",
   "metadata": {
    "slideshow": {
     "slide_type": "subslide"
    }
   },
   "source": [
    "Thus, by rewriting the linearized equation as a recurrence formula, the iteration algorithm is obtained\n",
    "\\begin{align}\n",
    "&\n",
    "\\left.\n",
    "\\frac{\\partial f}{\\partial{\\lambda}}  \n",
    "\\right|_k \n",
    "\\Delta \\lambda\n",
    "= - f^{(k)}\\\\\n",
    "& \\lambda_{k+1} = \\lambda_{k} + \\Delta \\lambda \\\\\n",
    "& \\boldsymbol{\\mathcal{E}}_{k+1} = \\boldsymbol{\\mathcal{E}}_{k} + \n",
    " \\lambda_{k} \\, \n",
    "\\frac{\\partial {\\boldsymbol{ \\mathcal{E}}}}{\\partial \\lambda}\n",
    " \\\\\n",
    "&k = k + 1\n",
    "\\end{align}"
   ]
  },
  {
   "cell_type": "markdown",
   "metadata": {
    "slideshow": {
     "slide_type": "subslide"
    }
   },
   "source": [
    "## Implementation concept\n",
    "The gradient operators needed for the time-stepping scheme have been derived above and are now available for the implementation of the numerical algorithm both in `Python` and `C89` languages\n",
    "\n",
    "<table style=\"width:50%\">\n",
    "<tr>\n",
    "<th>Symbol</th>\n",
    "<th>Python</th>\n",
    "<th>C89</th>\n",
    "</tr>\n",
    "<tr>\n",
    "<td>$\\mathcal{S}(s, \\boldsymbol{\\mathcal{E}}) $  \n",
    "</td>\n",
    "<td>get_Sig</td>\n",
    "<td>get_Sig_C</td>\n",
    "</tr>\n",
    "<tr>\n",
    "<td>$\\partial_\\boldsymbol{\\mathcal{E}}  \\boldsymbol{\\mathcal{S}}(s, \\boldsymbol{\\mathcal{E}}) $</td>\n",
    "<td>get_dSig_dEps</td>\n",
    "<td>get_dSig_dEps_C</td>\n",
    "</tr>\n",
    "<tr>\n",
    "<td>$ f(\\boldsymbol{\\mathcal{S}}, \\boldsymbol{\\mathcal{E}})$</td>\n",
    "<td>get_f</td>\n",
    "<td>get_f_C</td>\n",
    "</tr>\n",
    "<tr>\n",
    "<td>$\\partial_\\boldsymbol{\\mathcal{S}} f(\\boldsymbol{\\mathcal{S}}, \\boldsymbol{\\mathcal{E}}) $  \n",
    "</td>\n",
    "<td>get_df_dSig</td>\n",
    "<td>get_df_dSig_C</td>\n",
    "</tr>\n",
    "<tr>\n",
    "<td>$\\partial_\\boldsymbol{\\mathcal{E}} f(\\boldsymbol{\\mathcal{S}}, \\boldsymbol{\\mathcal{E}}) $</td>\n",
    "<td>get_df_dEps</td>\n",
    "<td>get_df_dEps_C</td>\n",
    "</tr>\n",
    "<tr>\n",
    "<td>$\\partial_\\boldsymbol{\\mathcal{S}} \\varphi(\\boldsymbol{\\mathcal{S}}, \\boldsymbol{\\mathcal{E}}) $</td>\n",
    "<td>get_Phi</td>\n",
    "<td>get_Phi_C</td>\n",
    "</tr>\n",
    "</table>"
   ]
  },
  {
   "cell_type": "markdown",
   "metadata": {
    "slideshow": {
     "slide_type": "subslide"
    }
   },
   "source": [
    "**Threshold and its derivatives:** To avoid repeated calculation of the same expressions, let us put the evaluation of $f$ and $\\partial_\\lambda f$ into a single procedure. The iteration loop can be constructed in such a way that the predictor for the next step is calculated along with the residuum. In case that the residuum is below the required tolerance, the overhead for an extra calculated derivative is negligible or, with some care, can be even reused in the next time step.  "
   ]
  },
  {
   "cell_type": "code",
   "execution_count": null,
   "metadata": {
    "code_folding": [],
    "slideshow": {
     "slide_type": "fragment"
    }
   },
   "outputs": [],
   "source": [
    "def get_f_df(u_Tx_n1, u_Ty_n1, u_N_n1, Sig_n, Eps_k, **kw):\n",
    "    Sig_k = get_Sig(u_Tx_n1, u_Ty_n1, u_N_n1, Sig_n, Eps_k, **kw)[0]\n",
    "    dSig_dEps_k = get_dSig_dEps(u_Tx_n1, u_Ty_n1, u_N_n1, Sig_n, Eps_k, **kw)\n",
    "    f_k = np.array([get_f(Eps_k, Sig_k, **kw)])\n",
    "    if f_k < -1e-1: # elastic step - should be fraction of current strength\n",
    "        return f_k, np.array([[0]]), Sig_k\n",
    "    df_dSig_k = get_df_dSig(Eps_k, Sig_k, **kw)\n",
    "    ddf_dEps_k = get_ddf_dEps(Eps_k, Sig_k, **kw)\n",
    "    df_dEps_k = np.einsum(\n",
    "        'ik,ji->jk', df_dSig_k, dSig_dEps_k) + ddf_dEps_k\n",
    "    Phi_k = get_Phi(Eps_k, Sig_k, **kw)\n",
    "    dEps_dlambda_k = Phi_k\n",
    "    df_dlambda = np.einsum(\n",
    "        'ki,kj->ij', df_dEps_k, dEps_dlambda_k)\n",
    "    df_k = df_dlambda\n",
    "    return f_k, df_k, Sig_k"
   ]
  },
  {
   "cell_type": "code",
   "execution_count": null,
   "metadata": {},
   "outputs": [],
   "source": [
    "Eps_0 = np.zeros((len(Eps),), dtype=np.float_)\n",
    "material_params = dict(\n",
    "    E_T_=1, gamma_T_=1, K_T_=1, S_T_=1, c_T_=1, f_s_=1, \n",
    "    E_N_=1, gamma_N_=1, S_N_=0.5, c_N_=1, m_=0.05, \n",
    "    f_t_=1, f_c_=-20, f_c0_=-10, r_N_=2, r_T_=2, eta_=0.1, zeta_=0, chi_=1,\n",
    "    zeta_E_N_=0, u_0_N_=-0.1\n",
    ")\n",
    "Sig_k = get_Sig(1.1, 0, 0, Eps_0, Eps_0, **material_params)"
   ]
  },
  {
   "cell_type": "code",
   "execution_count": null,
   "metadata": {},
   "outputs": [],
   "source": [
    "get_f_df(1.1, 0, 0, Eps_0, Eps_0, **material_params)"
   ]
  },
  {
   "cell_type": "markdown",
   "metadata": {
    "slideshow": {
     "slide_type": "subslide"
    }
   },
   "source": [
    "**Evolution equations:** The update of state variables for an updated $\\lambda_k$ is performed using this procedure."
   ]
  },
  {
   "cell_type": "code",
   "execution_count": null,
   "metadata": {
    "slideshow": {
     "slide_type": "fragment"
    }
   },
   "outputs": [],
   "source": [
    "def get_Eps_k1(u_Tx_n1, u_Ty_n1, u_N_n1, Eps_n, lam_k, Sig_n, Eps_k, **kw):\n",
    "    Sig_k = get_Sig(u_Tx_n1, u_Ty_n1, u_N_n1, Sig_n, Eps_k, **kw)[0]\n",
    "    Phi_k = get_Phi(Eps_k, Sig_k, **kw)\n",
    "    Eps_k1 = Eps_n + lam_k * Phi_k[:,0]\n",
    "    return Eps_k1"
   ]
  },
  {
   "cell_type": "markdown",
   "metadata": {
    "slideshow": {
     "slide_type": "subslide"
    }
   },
   "source": [
    "**Return mapping iteration:** This function represents a user subroutine in a finite element code or in a lattice model. The input is $s_{n+1}$ and the state variables representing the state in the previous solved step $\\boldsymbol{\\mathcal{E}}_n$. The procedure returns the stresses and state variables of $\\boldsymbol{\\mathcal{S}}_{n+1}$ and $\\boldsymbol{\\mathcal{E}}_{n+1}$"
   ]
  },
  {
   "cell_type": "code",
   "execution_count": null,
   "metadata": {},
   "outputs": [],
   "source": [
    "def get_material_model(u_Tx_n1, u_Ty_n1, u_N_n1, Sig_n, Eps_n, k_max, **kw):\n",
    "    Eps_k = np.copy(Eps_n)\n",
    "    Sig_k = np.copy(Sig_n)\n",
    "    lam_k = 0\n",
    "    f_k, df_k, Sig_k = get_f_df(u_Tx_n1, u_Ty_n1, u_N_n1, Sig_k, Eps_k, **kw)\n",
    "    f_k_norm = np.linalg.norm(f_k)\n",
    "    f_k_trial = f_k[0]\n",
    "    dlam = 0\n",
    "    k = 0\n",
    "    while k < k_max:\n",
    "        if (f_k_trial < 0 or f_k_norm < 1e-6) and np.fabs(dlam) < 1e-3:\n",
    "            return Eps_k, Sig_k, k+1\n",
    "        dlam = np.linalg.solve(df_k, -f_k)\n",
    "        lam_k += dlam\n",
    "        Eps_k = get_Eps_k1(u_Tx_n1, u_Ty_n1, u_N_n1, Eps_n, lam_k, Sig_k, Eps_k, **kw)\n",
    "        f_k, df_k, Sig_k = get_f_df(u_Tx_n1, u_Ty_n1, u_N_n1, Sig_k, Eps_k, **kw)\n",
    "        f_k_norm = np.linalg.norm(f_k)\n",
    "        k += 1\n",
    "    else:\n",
    "        raise ValueError('no convergence')"
   ]
  },
  {
   "cell_type": "code",
   "execution_count": null,
   "metadata": {},
   "outputs": [],
   "source": [
    "Eps_0 = np.zeros((len(Eps),), dtype=np.float_)\n",
    "material_params = dict(\n",
    "    E_T_=1, gamma_T_=1, K_T_=1, S_T_=1, c_T_=1, f_s_=1, \n",
    "    E_N_=1, gamma_N_=1, S_N_=0.5, c_N_=1, m_=0.05, \n",
    "    f_t_=1, f_c_=20, f_c0_=10, r_N_=1, r_T_=1, eta_=0, zeta_=0, chi_=1,\n",
    "    zeta_E_N_=0, u_0_N_=-0.1\n",
    ")\n",
    "get_material_model(0, 1.1, 0, Eps_0, Eps_0, 50, **material_params) "
   ]
  },
  {
   "cell_type": "markdown",
   "metadata": {},
   "source": [
    "**Loop over the time increments** for a single material point. This loop emulates the  finite-element spatial integration or a lattice-assembly algorithm.  "
   ]
  },
  {
   "cell_type": "code",
   "execution_count": null,
   "metadata": {
    "slideshow": {
     "slide_type": "subslide"
    }
   },
   "outputs": [],
   "source": [
    "def get_response(u_max=[3,0,0], n_steps = 10, k_max=20, get_load_fn=lambda t: t, **kw):\n",
    "    Eps_n1 = np.zeros((len(Eps),), dtype=np.float_)\n",
    "    Sig_n1 = np.zeros_like(Eps_n1)\n",
    "    Sig_record = []\n",
    "    Eps_record = []\n",
    "    iter_record = []\n",
    "    t_arr = np.linspace(0,1,n_steps+1)\n",
    "    u_Tx_max, u_Ty_max, u_N_max = u_max \n",
    "    u_Tx_t = u_Tx_max * get_load_fn(t_arr)# + 1e-9 # @todo: check the reason for 1e-9\n",
    "    u_Ty_t = u_Ty_max * get_load_fn(t_arr)# + 1e-9\n",
    "    u_N_t = u_N_max * get_load_fn(t_arr)# + 1e-9\n",
    "    for u_Tx_n1, u_Ty_n1, u_N_n1 in zip(u_Tx_t, u_Ty_t, u_N_t):\n",
    "        Eps_n1, Sig_n1, k = get_material_model(u_Tx_n1, u_Ty_n1, u_N_n1, Sig_n1, Eps_n1, k_max, **kw)\n",
    "        Sig_record.append(Sig_n1)\n",
    "        Eps_record.append(Eps_n1)\n",
    "        iter_record.append(k)\n",
    "    Sig_arr = np.array(Sig_record, dtype=np.float_)\n",
    "    Eps_arr = np.array(Eps_record, dtype=np.float_)\n",
    "    iter_arr = np.array(iter_record,dtype=np.int_)\n",
    "    return t_arr, u_Tx_t, u_Ty_t, u_N_t, Eps_arr, Sig_arr, iter_arr"
   ]
  },
  {
   "cell_type": "markdown",
   "metadata": {},
   "source": [
    "Test the `get_response` by imposing a proportional displacement load \n",
    "$\\boldsymbol{u} = [1.1, 0, 0.1]$ mm. The calculation is performed in three steps. The dictionary of `material_params` is specified as follows."
   ]
  },
  {
   "cell_type": "code",
   "execution_count": null,
   "metadata": {
    "slideshow": {
     "slide_type": "slide"
    }
   },
   "outputs": [],
   "source": [
    "material_params = dict(\n",
    "    E_T_=1, gamma_T_=5, K_T_=5, S_T_=0.6, c_T_=1, f_s_=1, \n",
    "    E_N_=1, gamma_N_=1.0, S_N_=0.6, c_N_=1, m_=0.01, \n",
    "    f_t_=1, f_c_=20, f_c0_=10, r_N_=1, r_T_=1, eta_=0.5, zeta_=0, chi_=1,\n",
    "    zeta_E_N_=0, u_0_N_=-0.1\n",
    ")"
   ]
  },
  {
   "cell_type": "code",
   "execution_count": null,
   "metadata": {},
   "outputs": [],
   "source": [
    "t_arr, u_Tx_t, u_Ty_t, u_N_t, Eps_arr, Sigma_arr, iter_arr = get_response(\n",
    "    u_max=[0,0,0.1], n_steps=3, k_max=50, **material_params\n",
    ")"
   ]
  },
  {
   "cell_type": "code",
   "execution_count": null,
   "metadata": {},
   "outputs": [],
   "source": [
    "u_Tx_t"
   ]
  },
  {
   "cell_type": "code",
   "execution_count": null,
   "metadata": {},
   "outputs": [],
   "source": [
    "iter_arr"
   ]
  },
  {
   "cell_type": "markdown",
   "metadata": {},
   "source": [
    "# **3 Examples**"
   ]
  },
  {
   "cell_type": "markdown",
   "metadata": {
    "slideshow": {
     "slide_type": "slide"
    }
   },
   "source": [
    "## **3.1 Support functions**\n",
    "To run some examples, let us define some infrastructure including a more complex loading history and postprocessing"
   ]
  },
  {
   "cell_type": "markdown",
   "metadata": {
    "slideshow": {
     "slide_type": "slide"
    }
   },
   "source": [
    "### Loading history\n",
    "This implementation uses the symbolic machinery which is not necessary a simpler data point based implementation with `numpy.interp1d` would be better ... later "
   ]
  },
  {
   "cell_type": "code",
   "execution_count": null,
   "metadata": {
    "slideshow": {
     "slide_type": "subslide"
    }
   },
   "outputs": [],
   "source": [
    "%matplotlib\n",
    "t, theta = sp.symbols(r't, \\theta')\n",
    "n_cycles = 3\n",
    "A = 2\n",
    "ups = np.array([((theta-2*cycle)*A+(1-A), theta-2*cycle<=1) \n",
    "                for cycle in range(n_cycles)])\n",
    "downs = np.array([((1-(theta-(2*cycle+1)))*A+(1-A),(theta-(2*cycle+1))<=1) \n",
    "                  for cycle in range(n_cycles)])\n",
    "ups[0,0] = theta\n",
    "updowns = np.einsum('ijk->jik',np.array([ups, downs])).reshape(-1,2)\n",
    "load_fn = sp.Piecewise(*updowns).subs(theta,t*n_cycles)\n",
    "get_load_fn = sp.lambdify(t, load_fn,'numpy')\n",
    "t_arr = np.linspace(0,1,600)\n",
    "plt.plot(t_arr, get_load_fn(t_arr));"
   ]
  },
  {
   "cell_type": "markdown",
   "metadata": {
    "slideshow": {
     "slide_type": "slide"
    }
   },
   "source": [
    "### Plotting functions\n",
    "To simplify postprocessing examples, here are two aggregate plotting functions, one for the state and force variables, the other one for the evaluation of energies"
   ]
  },
  {
   "cell_type": "code",
   "execution_count": null,
   "metadata": {
    "slideshow": {
     "slide_type": "subslide"
    }
   },
   "outputs": [],
   "source": [
    "def plot_Sig_Eps(s_x_t, Sig_arr, Eps_arr, iter_arr, \n",
    "                 ax1, ax11, ax2, ax22, ax3, ax33, ax4, ax44):\n",
    "    colors = ['blue','red', 'green', 'black', 'magenta' ]\n",
    "    u_Tx_pi_, u_Ty_pi_, u_N_pi_, z_, alpha_Tx_, alpha_Ty_, omega_T_, omega_N_ = Eps_arr.T\n",
    "    tau_x_pi_, tau_y_pi_, sig_pi_, Z_, X_x_, X_y_, Y_T_, Y_N_ = Sig_arr.T\n",
    "    n_step = len(u_Tx_pi_)\n",
    "    ax1.plot(s_x_t, tau_x_pi_, color='black', \n",
    "             label='n_steps = %g' % n_step)\n",
    "    ax1.set_xlabel('$s$'); ax1.set_ylabel(r'$\\tau$')\n",
    "    ax1.legend()\n",
    "    ax11.plot(s_x_t, iter_arr, '-.')\n",
    "    ax2.plot(s_x_t, omega_T_, color='red', \n",
    "             label='n_steps = %g' % n_step)\n",
    "    ax2.set_xlabel('$s$'); ax2.set_ylabel(r'$\\omega$')\n",
    "    ax2.plot(s_x_t, omega_N_, color='green', )\n",
    "    ax22.plot(s_x_t, Y_T_, '-.', color='red', \n",
    "            label='n_steps = %g' % n_step)\n",
    "    ax22.set_ylabel('$Y$')\n",
    "    ax3.plot(s_x_t, z_, color='green', \n",
    "             label='n_steps = %g' % n_step)\n",
    "    ax3.set_xlabel('$s$'); ax3.set_ylabel(r'$z$')\n",
    "    ax33.plot(s_x_t, Z_, '-.', color='green')\n",
    "    ax33.set_ylabel(r'$Z$')\n",
    "    ax4.plot(s_x_t, alpha_Tx_, color='blue', \n",
    "             label='n_steps = %g' % n_step)\n",
    "    ax4.set_xlabel('$s$'); ax4.set_ylabel(r'$\\alpha$')\n",
    "    ax44.plot(s_x_t, X_x_, '-.', color='blue')\n",
    "    ax44.set_ylabel(r'$X$')"
   ]
  },
  {
   "cell_type": "code",
   "execution_count": null,
   "metadata": {
    "slideshow": {
     "slide_type": "subslide"
    }
   },
   "outputs": [],
   "source": [
    "colors = dict( # color associations\n",
    "    stored_energy = 'darkgreen', # recoverable\n",
    "    free_energy_kin = 'darkcyan', # freedom - sky\n",
    "    free_energy_iso = 'darkslateblue', # freedom - sky\n",
    "    plastic_diss_s = 'darkorange', # fire - heat\n",
    "    plastic_diss_w = 'red', # fire - heat\n",
    "    damage_diss_s = 'darkgray', # ruined\n",
    "    damage_diss_w = 'black'  # ruined\n",
    ")\n",
    "\n",
    "from scipy.integrate import cumtrapz\n",
    "def plot_work(ax, t_arr, s_x_t, s_y_t, w_t, Eps_arr, Sig_arr):\n",
    "    \"\"\"Plot input work and stored energy on top of the dissipated energy.\n",
    "    \"\"\"\n",
    "    W_arr = (\n",
    "            cumtrapz(Sig_arr[:, 0], s_x_t, initial=0) +\n",
    "            cumtrapz(Sig_arr[:, 1], s_y_t, initial=0) +\n",
    "            cumtrapz(Sig_arr[:, 2], w_t, initial=0)\n",
    "    )\n",
    "\n",
    "    s_x_el_t = (s_x_t - Eps_arr[:, 0])\n",
    "    s_y_el_t = (s_y_t - Eps_arr[:, 1])\n",
    "    w_el_t = (w_t - Eps_arr[:, 2])\n",
    "    U_arr = (\n",
    "            Sig_arr[:, 0] * s_x_el_t / 2.0 +\n",
    "            Sig_arr[:, 1] * s_y_el_t / 2.0 +\n",
    "            Sig_arr[:, 2] * w_el_t / 2.0\n",
    "    )\n",
    "    G_arr = W_arr - U_arr\n",
    "    ax.plot(t_arr, W_arr, lw=0.5, color='black', label=r'$W$ - Input work')\n",
    "    ax.plot(t_arr, G_arr, '--', color='black', lw = 0.5, label=r'$W^\\mathrm{inel}$ - Inelastic work')\n",
    "    ax.fill_between(t_arr, W_arr, G_arr,\n",
    "                    color=colors['stored_energy'], alpha=0.2)\n",
    "    ax.set_xlabel('$t$ [-]');\n",
    "    ax.set_ylabel(r'$E$ [Nmm]')\n",
    "    ax.legend()\n",
    "    \n",
    "def plot_dissipation(ax, t_arr, Eps_arr, Sig_arr, ax_i=None):\n",
    "    \"\"\"Stapled and absolute plots of energy dissipation.\n",
    "    \"\"\"\n",
    "    E_i = cumtrapz(Sig_arr, Eps_arr, initial=0, axis=0)\n",
    "    E_T_x_pi_, E_T_y_pi_, E_N_pi_, E_z_, E_alpha_x_, E_alpha_y_, E_omega_T_, E_omega_N_ = E_i.T\n",
    "    E_plastic_work_T = E_T_x_pi_ + E_T_y_pi_\n",
    "    E_plastic_work_N = E_N_pi_\n",
    "    E_plastic_work = E_plastic_work_T + E_plastic_work_N\n",
    "    E_iso_free_energy = E_z_\n",
    "    E_kin_free_energy = E_alpha_x_ + E_alpha_y_\n",
    "    E_plastic_diss_T = E_plastic_work_T - E_iso_free_energy - E_kin_free_energy\n",
    "    E_plastic_diss_N = E_plastic_work_N\n",
    "    E_plastic_diss = E_plastic_diss_T + E_plastic_diss_N\n",
    "    E_damage_diss = E_omega_T_ + E_omega_N_\n",
    "    \n",
    "    if not ax_i is None: \n",
    "        ax_i.plot(t_arr, E_damage_diss, color='gray', lw=2,\n",
    "                  label=r'damage diss.: $Y\\dot{\\omega}$')\n",
    "        ax_i.plot(t_arr, E_plastic_work, color='red', lw=2,\n",
    "                  label=r'plastic work: $\\sigma \\dot{\\varepsilon}^\\pi$')\n",
    "        ax_i.plot(t_arr, E_plastic_diss, color='red', lw=2, \n",
    "                  label=r'apparent pl. diss.: $\\sigma \\dot{\\varepsilon}^\\pi - X\\dot{\\alpha} - Z\\dot{z}$')\n",
    "        ax_i.plot(t_arr, -E_iso_free_energy, '-.', color='royalblue', lw=2,\n",
    "                  label=r'iso. diss.: $Z\\dot{z}$')\n",
    "        ax_i.plot(t_arr, -E_kin_free_energy, '-.', color='blue', lw=2,\n",
    "                  label=r'free energy: $X\\dot{\\alpha}$')\n",
    "        ax_i.legend()\n",
    "        ax_i.set_xlabel('$t$ [-]');\n",
    "        ax_i.set_ylabel(r'$E$ [Nmm]')\n",
    "        \n",
    "    # stapled plot\n",
    "    E_level = 0\n",
    "    # E_damage_diss\n",
    "    ax.plot(t_arr, E_damage_diss + E_level, color='black', lw=1)\n",
    "    ax.fill_between(t_arr, E_omega_N_ + E_level, E_level, color='black',\n",
    "                    hatch='|');\n",
    "    E_d_level = E_level + E_omega_N_\n",
    "    ax.fill_between(t_arr, E_omega_T_ + E_d_level, E_d_level, color='gray',\n",
    "                    alpha=0.3);\n",
    "    E_level = E_damage_diss\n",
    "    # E_plastic_work:\n",
    "    ax.plot(t_arr, E_plastic_work + E_level, lw=0.5, color='black')\n",
    "    # ax.fill_between(self.t_arr, E_plastic_work + E_level, E_level, color='red', alpha=0.3)\n",
    "    ax.fill_between(t_arr, E_plastic_work_N + E_level, E_level, color='orange',\n",
    "                    alpha=0.3);\n",
    "    E_p_level = E_level + E_plastic_work_N\n",
    "    ax.fill_between(t_arr, E_plastic_work_T + E_p_level, E_p_level, color='red',\n",
    "                    alpha=0.3);\n",
    "    # E_plastic_diss:\n",
    "    ax.plot(t_arr, E_plastic_diss + E_level, lw=.4, color='black')\n",
    "    ax.fill_between(t_arr, E_plastic_diss_N + E_level, E_level, color='red',\n",
    "                    hatch='-');\n",
    "    E_d_level = E_level + E_plastic_diss_N\n",
    "    ax.fill_between(t_arr, E_plastic_diss_T + E_d_level, E_d_level, color='red',\n",
    "                    alpha=0.3);\n",
    "    E_level += E_plastic_diss\n",
    "    # E_iso_free_energy\n",
    "    ax.plot(t_arr, E_iso_free_energy + E_level, '-.', lw=0.5, color='black')\n",
    "    ax.fill_between(t_arr, E_iso_free_energy + E_level, E_level, color='royalblue',\n",
    "                    hatch='|')\n",
    "    E_level += E_iso_free_energy\n",
    "    # E_kin_free_energy:\n",
    "    ax.plot(t_arr, E_kin_free_energy + E_level, '-.', color='black', lw=0.5)\n",
    "    ax.fill_between(t_arr, E_kin_free_energy + E_level, E_level, color='royalblue', alpha=0.2);\n",
    "    \n",
    "def plot_energy_breakdown(ax, ax_i, t_arr, s_x_t, s_y_t, w_t, Eps_arr, Sig_arr):\n",
    "    \"\"\"Plot the stapled and absolute breakdown of energies\n",
    "    \"\"\"\n",
    "    plot_work(ax, t_arr, s_x_t, s_y_t, w_t, Eps_arr, Sig_arr)\n",
    "    plot_dissipation(ax, t_arr, Eps_arr, Sig_arr, ax_i)"
   ]
  },
  {
   "cell_type": "markdown",
   "metadata": {},
   "source": [
    "## **3.2 Interactive application**"
   ]
  },
  {
   "cell_type": "markdown",
   "metadata": {},
   "source": [
    "To play around with the model, execute the cells below. Then, control displacements can be changed using the input sliders below. The corresponding response is recalculated immediately with 10 load increments inserted between the last and new displacement state. This implementation uses the package `ipywidgets` that includes interactive user widgets in into the jupyter notebook."
   ]
  },
  {
   "cell_type": "code",
   "execution_count": null,
   "metadata": {},
   "outputs": [],
   "source": [
    "def init():\n",
    "    '''Initialize the state variables'''\n",
    "    global Eps_record, Sig_record, iter_record\n",
    "    global t_arr, s_x_t, s_y_t, w_t, s_x_0, s_y_0, w_0, t0, Eps_n1, Sig_n1\n",
    "    s_x_0, s_y_0 , w_0 = 0, 0, 0\n",
    "    t0 = 0\n",
    "    Sig_record = []\n",
    "    Eps_record = []\n",
    "    iter_record = []\n",
    "    t_arr = []\n",
    "    s_x_t, s_y_t, w_t = [], [], []\n",
    "    Eps_n1 = np.zeros((len(Eps),), dtype=np.float_)\n",
    "    Sig_n1 = np.zeros((len(Eps),), dtype=np.float_)\n",
    "\n",
    "def get_response_i(s_x_1, s_y_1, w_1, n_steps = 10, k_max=300, **kw):\n",
    "    '''Calculate the response for the next prescribed control displacement in n_steps'''\n",
    "    global Eps_record, Sig_record, iter_record\n",
    "    global t_arr, s_x_t, s_y_t, w_t, s_x_0, s_y_0, w_0, t0, Eps_n1, Sig_n1\n",
    "    t1 = t0 + n_steps+1\n",
    "    ti_arr = np.linspace(t0, t1, n_steps+1 )\n",
    "    si_x_t = np.linspace(s_x_0,s_x_1,n_steps+1)\n",
    "    si_y_t = np.linspace(s_y_0,s_y_1,n_steps+1)\n",
    "    wi_t = np.linspace(w_0,w_1,n_steps+1)\n",
    "    for s_x_n1, s_y_n1, w_n1 in zip(si_x_t, si_y_t, wi_t):\n",
    "        Eps_n1, Sig_n1, k = get_material_model(s_x_n1, s_y_n1, w_n1, Sig_n1, Eps_n1, k_max, **kw)\n",
    "        Sig_record.append(Sig_n1)\n",
    "        Eps_record.append(Eps_n1)\n",
    "        iter_record.append(k)\n",
    "    t_arr = np.hstack([t_arr, ti_arr])\n",
    "    s_x_t = np.hstack([s_x_t, si_x_t])\n",
    "    s_y_t = np.hstack([s_y_t, si_y_t])\n",
    "    w_t = np.hstack([w_t, wi_t])\n",
    "    t0 = t1\n",
    "    s_x_0, s_y_0, w_0 = s_x_1, s_y_1, w_1\n",
    "    return\n",
    "\n",
    "import ipywidgets as ipw\n",
    "\n",
    "def plot3d_Sig_Eps(ax3d, s_x_t, s_y_t, Sig_arr, Eps_arr):\n",
    "    tau_x, tau_y = Sig_arr.T[:2,...]\n",
    "    tau = np.sqrt( tau_x**2 + tau_y**2 )\n",
    "    ax3d.plot3D(s_x_t, s_y_t, tau, color='orange', lw=3)\n",
    "    \n",
    "def plot_sig_w(ax, w_t, Sig_arr, Eps_arr):\n",
    "    sig_t = Sig_arr.T[2,...]\n",
    "    ax.plot(w_t, sig_t, color='orange', lw=3)\n",
    "\n",
    "fig = plt.figure(figsize=(10,3), tight_layout=True)\n",
    "ax_tau = fig.add_subplot(1, 3, 1, projection='3d')\n",
    "ax_sig = fig.add_subplot(1, 3, 2)\n",
    "ax2 = fig.add_subplot(1, 3, 3)\n",
    "ax_iter = ax2.twinx()\n",
    "def update(s_x_1, s_y_1, w_1):\n",
    "    global Eps_record, Sig_record, iter_record\n",
    "    global t_arr, s_x_t, s_y_t, w_t, s_x_0, s_y_0, w_0, t0, Eps_n\n",
    "    global kwargs\n",
    "    get_response_i(s_x_1, s_y_1, w_1, **kwargs)\n",
    "    Sig_arr = np.array(Sig_record, dtype=np.float_)\n",
    "    Eps_arr = np.array(Eps_record, dtype=np.float_)\n",
    "    iter_arr = np.array(iter_record,dtype=np.int_)\n",
    "    ax_tau.clear()\n",
    "    ax_sig.clear()\n",
    "    ax2.clear()\n",
    "    ax_iter.clear()\n",
    "    plot3d_Sig_Eps(ax_tau, s_x_t, s_y_t, Sig_arr, Eps_arr)\n",
    "    ax_tau.plot(s_x_t, s_y_t, 0, color='red')\n",
    "    ax_tau.set_xlabel(r'$s_x$ [mm]');ax_tau.set_ylabel(r'$s_y$ [mm]');\n",
    "    ax_tau.set_zlabel(r'$\\| \\tau \\| = \\sqrt{\\tau_x^2 + \\tau_y^2}$ [MPa]');\n",
    "\n",
    "    plot_sig_w(ax_sig, w_t, Sig_arr, Eps_arr)\n",
    "    ax_sig.set_xlabel(r'$w$ [mm]');ax_sig.set_ylabel(r'$\\sigma$ [MPa]');\n",
    "\n",
    "    plot_work(ax2, t_arr, s_x_t, s_y_t, w_t, Eps_arr, Sig_arr)\n",
    "    plot_dissipation(ax2, t_arr, Eps_arr, Sig_arr)\n",
    "    ax_iter.plot(t_arr, iter_arr)\n",
    "    ax_iter.set_ylabel(r'$n_\\mathrm{iter}$')\n",
    "\n",
    "s_x_1_slider = ipw.FloatSlider(description='s_x',value=0,min=-4, max=+4, step=0.1,\n",
    "                               continuous_update=False)\n",
    "s_y_1_slider = ipw.FloatSlider(description='s_y',value=0,min=-4, max=+4, step=0.1,\n",
    "                               continuous_update=False)\n",
    "w_1_slider = ipw.FloatSlider(description='w', value=0,min=-4, max=+4, step=0.1,\n",
    "                               continuous_update=False)\n",
    "\n",
    "def reset(**kwargs_):\n",
    "    global kwargs\n",
    "    kwargs = kwargs_\n",
    "    init()\n",
    "    s_x_1_slider.value = 0\n",
    "    s_y_1_slider.value = 0\n",
    "    w_1_slider.value = 0\n",
    "\n",
    "n_steps = 20\n",
    "\n",
    "kwargs_ranges = [\n",
    "    ('E_T_', 1, 0.5, 100),\n",
    "    ('S_T_', 0.6, 0.00001, 100),\n",
    "    ('c_T_', 1, 0.0001, 10),\n",
    "    ('r_T_', 1, 0.001, 10),\n",
    "    ('gamma_T_', 0, -20, 20),\n",
    "    ('K_T_', 0, -20, 20),\n",
    "    ('f_s_', 1, 0.5, 20),\n",
    "    ('E_N_',1, 0.5, 100), \n",
    "    ('S_N_', 0.6, 0.0001, 100), \n",
    "    ('c_N_', 1, 0.0001,10), \n",
    "    ('m_', 0.1, 0.0001, 0.4), \n",
    "    ('r_N_', 1, 0.001, 10),\n",
    "    ('gamma_N_', 0, -20, 20),\n",
    "    ('f_t_', 1, 0.1, 10), \n",
    "    ('f_c_', 10, 1, 200), \n",
    "    ('f_c0_', 5, 1, 100), \n",
    "    ('eta_', 0, 0, 1),\n",
    "    ('zeta_E_N_', 1, 1, 100),\n",
    "    ('u_0_N_', -0.1, -0.1, -0.01)\n",
    "]\n",
    "\n",
    "kwargs = {key: val for (key, val, _, _) in kwargs_ranges}\n",
    "\n",
    "kwargs_sliders = {\n",
    "    name : ipw.FloatSlider(description=name, value=val, \n",
    "                            min=minval, max=maxval, step=(maxval-minval) / n_steps,\n",
    "                           continuous_update=False)\n",
    "    for name, val, minval, maxval in kwargs_ranges\n",
    "}\n",
    "\n",
    "slip_sliders = {'s_x_1': s_x_1_slider, \n",
    "                's_y_1': s_y_1_slider,\n",
    "                'w_1': w_1_slider}\n",
    "\n",
    "def slider_layout(out1, out2):\n",
    "    layout = ipw.Layout(grid_template_columns='1fr 1fr')\n",
    "    slider_list = tuple(kwargs_sliders.values())\n",
    "    grid = ipw.GridBox(slider_list, layout=layout)\n",
    "    slip_slider_list = tuple(slip_sliders.values())\n",
    "    hbox = ipw.HBox(slip_slider_list)\n",
    "    box = ipw.VBox([hbox, grid, out1, out2])\n",
    "    display(box)\n",
    "    \n",
    "init()\n",
    "out1 = ipw.interactive_output(update, slip_sliders)\n",
    "out2 = ipw.interactive_output(reset, kwargs_sliders);\n",
    "slider_layout(out1, out2)"
   ]
  },
  {
   "cell_type": "markdown",
   "metadata": {
    "slideshow": {
     "slide_type": "slide"
    }
   },
   "source": [
    "## **3.3 Monotonic load**\n",
    "\n",
    "The implemented model is executed using the function `get_response` with the parameters specifying the contol displacements. To verify the stability of the time-stepping scheme, the simulation is rung with different numbers of steps, i.e. 200 and 500."
   ]
  },
  {
   "cell_type": "code",
   "execution_count": null,
   "metadata": {},
   "outputs": [],
   "source": [
    "E_T_x_ = 100\n",
    "E_T_y_ = 100\n",
    "u_T_0_ = 0.1\n",
    "S_T_ = E_T_x_ * u_T_0_**2\n",
    "material_params = dict(\n",
    "    E_T_=1, gamma_T_=0, K_T_=0, S_T_=S_T_, c_T_=1, f_s_=1,\n",
    "    E_N_=2, gamma_N_=0, S_N_=0.6, c_N_=1, m_=0.01, f_t_=2, f_c_=20, \n",
    "    f_c0_=10, r_N_=1, r_T_=1, eta_=0, zeta_=0, zeta_E_N_=0, u_0_N_=-0.1\n",
    ")"
   ]
  },
  {
   "cell_type": "code",
   "execution_count": null,
   "metadata": {
    "slideshow": {
     "slide_type": "fragment"
    }
   },
   "outputs": [],
   "source": [
    "fig, ((ax1,ax2),(ax3,ax4)) = plt.subplots(2,2,figsize=(10,5), tight_layout=True)\n",
    "ax11 = ax1.twinx()\n",
    "ax22 = ax2.twinx()\n",
    "ax33 = ax3.twinx()\n",
    "ax44 = ax4.twinx()\n",
    "axes = ax1, ax11, ax2, ax22, ax3, ax33, ax4, ax44\n",
    "for n_steps in [20, 200]: # 20, 40, 200, 2000]:\n",
    "    t_arr, s_x_t, s_y_t, w_t, Eps_arr, Sig_arr, iter_arr = get_response(\n",
    "        u_max=[3, 0, 0.1], n_steps=n_steps, k_max=100, **material_params\n",
    "    )\n",
    "    plot_Sig_Eps(s_x_t, Sig_arr, Eps_arr, iter_arr, ax1, ax11, ax2, ax22, ax3, ax33, ax4, ax44)"
   ]
  },
  {
   "cell_type": "code",
   "execution_count": null,
   "metadata": {
    "slideshow": {
     "slide_type": "subslide"
    }
   },
   "outputs": [],
   "source": [
    "fig, (ax, ax2) = plt.subplots(1,2,figsize=(10, 5))\n",
    "plot_energy_breakdown(ax, ax2, t_arr, s_x_t, s_y_t, w_t, Eps_arr, Sig_arr)"
   ]
  },
  {
   "cell_type": "markdown",
   "metadata": {
    "slideshow": {
     "slide_type": "slide"
    }
   },
   "source": [
    "## **3.4 Cyclic loading**"
   ]
  },
  {
   "cell_type": "code",
   "execution_count": null,
   "metadata": {
    "slideshow": {
     "slide_type": "fragment"
    }
   },
   "outputs": [],
   "source": [
    "fig, ((ax1,ax2),(ax3,ax4)) = plt.subplots(2,2,figsize=(10,6), tight_layout=True)\n",
    "ax11 = ax1.twinx()\n",
    "ax22 = ax2.twinx()\n",
    "ax33 = ax3.twinx()\n",
    "ax44 = ax4.twinx()\n",
    "axes = ax1, ax11, ax2, ax22, ax3, ax33, ax4, ax44\n",
    "t_arr, s_x_t, s_y_t, w_t, Eps_arr, Sig_arr, iter_arr = get_response(\n",
    "    u_max=[3,0,0], n_steps=50, k_max=100, get_load_fn=get_load_fn, **material_params\n",
    ")\n",
    "plot_Sig_Eps(s_x_t, Sig_arr, Eps_arr, iter_arr, ax1, ax11, ax2, ax22, ax3, ax33, ax4, ax44)"
   ]
  },
  {
   "cell_type": "code",
   "execution_count": null,
   "metadata": {
    "slideshow": {
     "slide_type": "subslide"
    }
   },
   "outputs": [],
   "source": [
    "fig, (ax, ax2) = plt.subplots(1,2,figsize=(10, 5))\n",
    "plot_energy_breakdown(ax, ax2, t_arr, s_x_t, s_y_t, w_t, Eps_arr, Sig_arr)"
   ]
  },
  {
   "cell_type": "markdown",
   "metadata": {
    "slideshow": {
     "slide_type": "slide"
    }
   },
   "source": [
    "# **4 Code generation**\n",
    "See the docs for the code generation, the latexified  sympy symbols \n",
    "must be substituted such that they can act as standard C variable names.\n",
    "The issue with this substitution might have been partially fixed by the substitution\n",
    "code defined by this code.\n",
    "\n",
    "The methods \n",
    " * `get_f_df()`, and \n",
    " * `get_Eps_n1` must be rewritten in C.\n",
    " \n",
    "**How to transform `einsum` to C?**\n",
    "\n",
    "The state arrays `Eps` and `Sig` must be prepared by the callee, i.e. the function to be \n",
    "called from at a level of material point in a finite-element or lattice code.\n",
    "All the state variable matrices are flattened in the generated C code so that index access operators must be constructed with the correct convention, i.e. \n",
    "`i * n_row + j` or `i + n_col * j`. \n",
    "\n",
    "Let us consider the line\n",
    "```Python\n",
    "df_dEps_k = np.einsum('ik,ji->jk', df_dSig_k, dSig_dEps_k) + ddf_dEps_k\n",
    "````\n",
    "\n",
    "To transform this systematically into the C loop it is proposed define\n",
    "index directives specifying the size of the first dimension. Then, the \n",
    "indexes from the `einsum` call can be systematically transferred to the \n",
    "multi-loop running over the indexes and respecting their order. No more \n",
    "thinking needed. The index operators below are prepared for arrays with \n",
    "2, 3, and 4 dimensions.\n",
    "```C\n",
    "#define IJ(N_I,I,J) (N_I * J + I)\n",
    "#define IJK(N_I,N_J,I,J,K) (N_I * IJ(N_J,J,K) + I)\n",
    "#define IJKL(N_I,N_J,N_K,I,J,K,L) (N_I * IJK(N_J,N_K,J,K,L) + I)\n",
    "````\n",
    "to perform the matrix multiplication\n",
    "```C\n",
    "int k=0;\n",
    "for(int i=0;i<N_I;i++)\n",
    "    for(int j=0;j<N_J;j++)\n",
    "        df_dEps_1[IJ(N_J,j,k)] += df_dSig_k[IJ(N_I(i,k)] * dSig_dEps_k[IJ(N_J,j,i)]\n",
    "    df_dEps[IJ(N_I,i,k)] = df_dEps_1[IJ(N_J,j,k)] + ddSig_dEps(IJ(N_I,i,k)];\n",
    "````\n",
    "\n",
    "The whole material model is represented by the material method\n",
    "that mimics the internal par of the `get_response` function defined above\n",
    "\n",
    " 1. Call `get_f_df()` to get the trial state\n",
    " 2. Start the return mapping iteration loop\n",
    " 3. If admissibility criterion fulfilled - admissible state found - return stress\n",
    " 4. Evaluate delta of plastic multiplier and update it\n",
    " 5. Update state variables using evolution equations `get_Eps_n1`\n",
    " 6. Evaluate the residuum using `get_f_df()` and continuum with point 3.\n",
    " "
   ]
  },
  {
   "cell_type": "code",
   "execution_count": null,
   "metadata": {},
   "outputs": [],
   "source": [
    "C_code = get_Sig_C, get_dSig_dEps_C, get_f_C, get_df_dSig_C, get_ddf_dEps_C, get_Phi_C "
   ]
  },
  {
   "cell_type": "code",
   "execution_count": null,
   "metadata": {},
   "outputs": [],
   "source": [
    "import os\n",
    "import os.path as osp\n",
    "\n",
    "code_dirname = 'sympy_codegen'\n",
    "code_fname = 'SLIDE_3_4'\n",
    "\n",
    "home_dir = osp.expanduser('~')\n",
    "code_dir = osp.join(home_dir, code_dirname)\n",
    "if not osp.exists(code_dir):\n",
    "    os.makedirs(code_dir)\n",
    "\n",
    "code_file = osp.join(code_dir, code_fname)\n",
    "\n",
    "h_file = code_file + '.h'\n",
    "c_file = code_file + '.c'\n",
    "print(f'code_written to files {h_file} and {c_file}')\n",
    "\n",
    "h_f = open(h_file,'w') \n",
    "c_f = open(c_file,'w')\n",
    "\n",
    "if True:\n",
    "    for function_C in C_code:\n",
    "        h_f.write(function_C[1][1])\n",
    "        c_f.write(function_C[0][1])\n",
    "h_f.close()\n",
    "c_f.close()"
   ]
  },
  {
   "cell_type": "markdown",
   "metadata": {},
   "source": [
    "## Print the source code\n",
    "\n",
    "Choose either `h_file` or `c_file` to see the generated code"
   ]
  },
  {
   "cell_type": "code",
   "execution_count": null,
   "metadata": {},
   "outputs": [],
   "source": [
    "code_file = open(c_file, 'r')\n",
    "print(code_file.read())"
   ]
  },
  {
   "cell_type": "code",
   "execution_count": null,
   "metadata": {},
   "outputs": [],
   "source": []
  }
 ],
 "metadata": {
  "kernelspec": {
   "display_name": "bmcs_env2",
   "language": "python",
   "name": "bmcs_env2"
  },
  "language_info": {
   "codemirror_mode": {
    "name": "ipython",
    "version": 3
   },
   "file_extension": ".py",
   "mimetype": "text/x-python",
   "name": "python",
   "nbconvert_exporter": "python",
   "pygments_lexer": "ipython3"
  },
  "toc": {
   "base_numbering": 1,
   "nav_menu": {},
   "number_sections": true,
   "sideBar": true,
   "skip_h1_title": false,
   "title_cell": "Table of Contents",
   "title_sidebar": "Contents",
   "toc_cell": false,
   "toc_position": {
    "height": "calc(100% - 180px)",
    "left": "10px",
    "top": "150px",
    "width": "218.667px"
   },
   "toc_section_display": true,
   "toc_window_display": false
  }
 },
 "nbformat": 4,
 "nbformat_minor": 4
}
