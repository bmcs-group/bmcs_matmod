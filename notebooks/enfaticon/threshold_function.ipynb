{
 "cells": [
  {
   "cell_type": "markdown",
   "metadata": {},
   "source": [
    "# **Derivation of the threshold function**"
   ]
  },
  {
   "cell_type": "markdown",
   "metadata": {},
   "source": [
    "![image.png](f_smooth.png)"
   ]
  },
  {
   "cell_type": "code",
   "execution_count": null,
   "metadata": {},
   "outputs": [],
   "source": [
    "# import dill\n",
    "# dill.settings['recurse'] = True"
   ]
  },
  {
   "cell_type": "code",
   "execution_count": null,
   "metadata": {},
   "outputs": [],
   "source": [
    "%matplotlib widget\n",
    "import sympy as sp\n",
    "import numpy as np\n",
    "import matplotlib.pylab as plt\n",
    "from mpl_toolkits.mplot3d import Axes3D\n",
    "import ipywidgets as ipw\n",
    "sp.init_printing()\n",
    "from cymbol import Cymbol, ccode"
   ]
  },
  {
   "cell_type": "markdown",
   "metadata": {},
   "source": [
    "# Variables\n",
    "\n",
    "**Stress variables**\n",
    "\n",
    "$x$ corresponds to $\\sigma_N$ and $y$ corresponds to $\\sigma_T$"
   ]
  },
  {
   "cell_type": "code",
   "execution_count": null,
   "metadata": {},
   "outputs": [],
   "source": [
    "x, y = sp.symbols('x, y')"
   ]
  },
  {
   "cell_type": "markdown",
   "metadata": {},
   "source": [
    "**Unknown parameters of the ellipse cap function**"
   ]
  },
  {
   "cell_type": "code",
   "execution_count": null,
   "metadata": {},
   "outputs": [],
   "source": [
    "x_c = sp.symbols('x_c')  # center point of an ellipse\n",
    "a = sp.symbols('a', nonnegative=True)\n",
    "b = sp.symbols('b', nonnegative=True)\n",
    "c = sp.symbols('c', positive=True)"
   ]
  },
  {
   "cell_type": "markdown",
   "metadata": {},
   "source": [
    "**Material parameters**"
   ]
  },
  {
   "cell_type": "code",
   "execution_count": null,
   "metadata": {},
   "outputs": [],
   "source": [
    "x_0 = sp.symbols('x_0')\n",
    "x_bar, y_bar = sp.symbols(r'\\bar{x}, \\bar{y}', nonnegative=True )\n",
    "m = Cymbol(r'm', codename='m_', real=True, nonnegative=True)"
   ]
  },
  {
   "cell_type": "markdown",
   "metadata": {},
   "source": [
    "# Mid part of the threshold function"
   ]
  },
  {
   "cell_type": "markdown",
   "metadata": {},
   "source": [
    "The linear part of the thresshold function is introduced as\n",
    "\\begin{align}\n",
    "f_\\mathrm{lin} :=\n",
    "|y| - \\bar{y} + m(x - x_0)\n",
    "\\end{align}\n",
    "where $x_0$ denotes the reference position at which $y = \\pm \\bar{y}$"
   ]
  },
  {
   "cell_type": "code",
   "execution_count": null,
   "metadata": {},
   "outputs": [],
   "source": [
    "f_mid_ = sp.sqrt(y**2) - (y_bar - m * (x-x_0))\n",
    "#get_f_mid = sp.lambdify((x, y, y_bar, m), f_mid_)\n",
    "f_mid_"
   ]
  },
  {
   "cell_type": "markdown",
   "metadata": {},
   "source": [
    "# Cap function\n",
    "\n",
    "It is introduced in form of an ellipse centered at the position ($x_c, 0$), i.e.\n",
    "\\begin{align}\n",
    "f_\\mathrm{ell} := \\sqrt{\\dfrac{y^2}{b^2} + \\dfrac{(x - x_0 - x_\\mathrm{c})^2}{a^2}} - c\n",
    "\\end{align}\n",
    "The parameters $a, b, c$ and $x_\\mathrm{c}$ are determined based on the compatibility and continuity conditions along the transition between $f_\\mathrm{lin}$ and $f_\\mathrm{ell}$."
   ]
  },
  {
   "cell_type": "code",
   "execution_count": null,
   "metadata": {},
   "outputs": [],
   "source": [
    "f_cap_ = sp.sqrt((x-x_0-x_c)**2/a**2 + y**2/b**2) - c\n",
    "f_cap_"
   ]
  },
  {
   "cell_type": "markdown",
   "metadata": {},
   "source": [
    "Construct the derivatives"
   ]
  },
  {
   "cell_type": "code",
   "execution_count": null,
   "metadata": {},
   "outputs": [],
   "source": [
    "df_cap_dx_ = f_cap_.diff(x)\n",
    "df_cap_dy_ = f_cap_.diff(y)"
   ]
  },
  {
   "cell_type": "markdown",
   "metadata": {},
   "source": [
    "# Compatibility and smoothness conditions specified in the figure above"
   ]
  },
  {
   "cell_type": "markdown",
   "metadata": {},
   "source": [
    "\\begin{align}\n",
    "\\left. f_\\mathrm{ell} \\right|_{x = \\bar{x}, y = 0} &= 0 \\\\\n",
    "\\left. f_\\mathrm{ell} \\right|_{x=x_0, y=\\bar{y}} &= 0 \\\\\n",
    "\\left.\n",
    "\\dfrac{f_{\\mathrm{ell},x}}{f_{\\mathrm{ell},y}\n",
    "}\n",
    "\\right|_{x=x_\\mathrm{c}, y=\\bar{y}}\n",
    "&= -m\n",
    "\\end{align}"
   ]
  },
  {
   "cell_type": "code",
   "execution_count": null,
   "metadata": {},
   "outputs": [],
   "source": [
    "eq1 = sp.Eq(f_cap_.subs({x: x_bar, y: 0}), 0)\n",
    "eq2 = sp.Eq(f_cap_.subs({x: x_0, y: y_bar}), 0)\n",
    "eq3 = sp.Eq((-df_cap_dx_ / df_cap_dy_).subs({x: x_0, y: y_bar}), -m)\n",
    "eq1, eq2, eq3"
   ]
  },
  {
   "cell_type": "markdown",
   "metadata": {},
   "source": [
    "Solve for $a, b$ and $x_c$"
   ]
  },
  {
   "cell_type": "code",
   "execution_count": null,
   "metadata": {},
   "outputs": [],
   "source": [
    "abx_subs = sp.solve({eq1, eq2, eq3},{a, b, x_c})[0]\n",
    "abx_subs"
   ]
  },
  {
   "cell_type": "markdown",
   "metadata": {},
   "source": [
    "# Continuity between $f_\\mathrm{mid}$ and $f_\\mathrm{cap}$\n"
   ]
  },
  {
   "cell_type": "markdown",
   "metadata": {},
   "source": [
    "**Require an identical value for**\n",
    "\\begin{align}\n",
    "f_\\mathrm{mid}(x_c, 0) = f_\\mathrm{cap}(x_c,0)\n",
    "\\end{align}"
   ]
  },
  {
   "cell_type": "code",
   "execution_count": null,
   "metadata": {},
   "outputs": [],
   "source": [
    "f_mid_c_ = f_mid_.subs({x: abx_subs[x_c]+x_0,y:0})\n",
    "f_cap_abx_ = f_cap_.subs(abx_subs)\n",
    "f_cap_abxc_ = f_cap_abx_.subs({x: abx_subs[x_c]+x_0,y:0})\n",
    "eq4 = sp.Eq(f_cap_abxc_, f_mid_c_)\n",
    "eq4"
   ]
  },
  {
   "cell_type": "markdown",
   "metadata": {},
   "source": [
    "Which can be used to express $c$"
   ]
  },
  {
   "cell_type": "code",
   "execution_count": null,
   "metadata": {},
   "outputs": [],
   "source": [
    "c_solved = sp.solve(eq4, c)[0]\n",
    "sp.simplify(c_solved)"
   ]
  },
  {
   "cell_type": "code",
   "execution_count": null,
   "metadata": {},
   "outputs": [],
   "source": [
    "abx_subs[x_c]"
   ]
  },
  {
   "cell_type": "code",
   "execution_count": null,
   "metadata": {},
   "outputs": [],
   "source": [
    "x_hat = sp.symbols(r'\\hat{x}', nonnegative=True)"
   ]
  },
  {
   "cell_type": "code",
   "execution_count": null,
   "metadata": {},
   "outputs": [],
   "source": [
    "c_paper = y_bar + (m**2 * (x_hat) **2)/(2*m*(x_hat) + y_bar)\n",
    "sp.simplify(c_paper.subs(x_hat, x_0 - x_bar) - c_solved)"
   ]
  },
  {
   "cell_type": "code",
   "execution_count": null,
   "metadata": {},
   "outputs": [],
   "source": [
    "a_solved = abx_subs[a]\n",
    "sp.simplify(a_solved)"
   ]
  },
  {
   "cell_type": "code",
   "execution_count": null,
   "metadata": {},
   "outputs": [],
   "source": [
    "x_hat_ = (x_bar - x_0)"
   ]
  },
  {
   "cell_type": "markdown",
   "metadata": {},
   "source": [
    "$$\n",
    "-\\frac{\\bar{y} - m \\hat{x} } {\\bar{y} - 2m\\hat{x}} \\cdot \\frac{\\hat{x}}{c}\n",
    "$$"
   ]
  },
  {
   "cell_type": "code",
   "execution_count": null,
   "metadata": {},
   "outputs": [],
   "source": [
    "a_paper = - (-m*x_hat_ + y_bar)/((-2*m*x_hat_ + y_bar)) * x_hat_ / c\n",
    "a_paper"
   ]
  },
  {
   "cell_type": "code",
   "execution_count": null,
   "metadata": {},
   "outputs": [],
   "source": [
    "sp.simplify(a_paper - a_solved)"
   ]
  },
  {
   "cell_type": "code",
   "execution_count": null,
   "metadata": {},
   "outputs": [],
   "source": [
    "b_solved = abx_subs[b]\n",
    "sp.simplify(b_solved)"
   ]
  },
  {
   "cell_type": "code",
   "execution_count": null,
   "metadata": {},
   "outputs": [],
   "source": [
    "b_paper = (sp.sqrt(y_bar)/c * \n",
    "           (-m * x_hat_ + y_bar)/(sp.sqrt((-2*m*x_hat_ + y_bar))))\n",
    "b_paper"
   ]
  },
  {
   "cell_type": "markdown",
   "metadata": {},
   "source": [
    "$$\n",
    "\\frac{\\bar{y} - m \\hat{x}}{\\sqrt{\\bar{y} - 2m \\hat{x}}} \\cdot\n",
    "\\frac{\\sqrt{y}}{c}\n",
    "$$"
   ]
  },
  {
   "cell_type": "code",
   "execution_count": null,
   "metadata": {},
   "outputs": [],
   "source": [
    "sp.simplify(b_paper**2 - b_solved**2)"
   ]
  },
  {
   "cell_type": "code",
   "execution_count": null,
   "metadata": {},
   "outputs": [],
   "source": [
    "x_c_solved = abx_subs[x_c]\n",
    "sp.simplify(x_c_solved)"
   ]
  },
  {
   "cell_type": "code",
   "execution_count": null,
   "metadata": {},
   "outputs": [],
   "source": [
    "x_c_paper = -(m*x_hat**2)/(2*m*x_hat + y_bar)\n",
    "sp.simplify(x_c_paper.subs(x_hat, x_0 - x_bar) - x_c_solved)"
   ]
  },
  {
   "cell_type": "markdown",
   "metadata": {},
   "source": [
    "Substitute back the $f_\\mathrm{cap}$ to obtain its resolved form"
   ]
  },
  {
   "cell_type": "code",
   "execution_count": null,
   "metadata": {},
   "outputs": [],
   "source": [
    "f_cap_solved_1 = f_cap_abx_.subs(c, c_solved)\n",
    "f_cap_solved_1"
   ]
  },
  {
   "cell_type": "code",
   "execution_count": null,
   "metadata": {},
   "outputs": [],
   "source": [
    "f_cap_solved_ = f_cap_solved_1 # dill.loads(dill.dumps(f_cap_solved_1))"
   ]
  },
  {
   "cell_type": "code",
   "execution_count": null,
   "metadata": {},
   "outputs": [],
   "source": [
    "f_cap_solved_"
   ]
  },
  {
   "cell_type": "code",
   "execution_count": null,
   "metadata": {},
   "outputs": [],
   "source": [
    "x_bar, y_bar = sp.symbols(r'\\bar{x}, \\bar{y}', nonnegative=True )\n"
   ]
  },
  {
   "cell_type": "markdown",
   "metadata": {},
   "source": [
    "# Test the results"
   ]
  },
  {
   "cell_type": "code",
   "execution_count": null,
   "metadata": {},
   "outputs": [],
   "source": [
    "_x_0=-3\n",
    "_x_bar=-5\n",
    "_y_bar=3\n",
    "_m=.3"
   ]
  },
  {
   "cell_type": "markdown",
   "metadata": {},
   "source": [
    "The value in the denominator must not be equal to 0"
   ]
  },
  {
   "cell_type": "code",
   "execution_count": null,
   "metadata": {},
   "outputs": [],
   "source": [
    "m_limit_ = sp.solve(2*x_bar * m + y_bar, m)[0]\n",
    "_m_limit = m_limit_.subs({x_bar: _x_bar, y_bar: _y_bar})\n",
    "_m_limit"
   ]
  },
  {
   "cell_type": "code",
   "execution_count": null,
   "metadata": {},
   "outputs": [],
   "source": [
    "if _m < _m_limit * sp.sign(_x_bar - _x_0):\n",
    "    print('Take care')"
   ]
  },
  {
   "cell_type": "markdown",
   "metadata": {},
   "source": [
    "Test the obtained position of $x_c$"
   ]
  },
  {
   "cell_type": "code",
   "execution_count": null,
   "metadata": {},
   "outputs": [],
   "source": [
    "x_c_ = abx_subs[x_c]\n",
    "x_c_"
   ]
  },
  {
   "cell_type": "code",
   "execution_count": null,
   "metadata": {},
   "outputs": [],
   "source": [
    "get_x_c = sp.lambdify((x_bar, y_bar, m, x_0), x_c_, 'numpy' )\n",
    "_x_c = get_x_c(_x_bar, _y_bar, _m, _x_0)\n",
    "_x_c"
   ]
  },
  {
   "cell_type": "markdown",
   "metadata": {},
   "source": [
    "# Domain separation for $f_\\mathrm{cap}$ and $f_\\mathrm{mid}$\n",
    "\n",
    "Define the transition between cap and mid domains by defining a connection \n",
    "line between [$x_c$,0]-[0,$\\bar{\\tau}$]. "
   ]
  },
  {
   "cell_type": "code",
   "execution_count": null,
   "metadata": {},
   "outputs": [],
   "source": [
    "(-y_bar / (x_c) * (x - x_0 -x_c))"
   ]
  },
  {
   "cell_type": "code",
   "execution_count": null,
   "metadata": {},
   "outputs": [],
   "source": [
    "y_trans_ = (-y_bar / (x_c) * (x - x_0 - x_c)).subs(x_c, x_c_)\n",
    "f_cap_domain_ = sp.sign(x_bar-x_0) * sp.sign(-m) * (sp.Abs(y) - y_trans_) > 0"
   ]
  },
  {
   "cell_type": "code",
   "execution_count": null,
   "metadata": {},
   "outputs": [],
   "source": [
    "x_trans = np.linspace(_x_c, _x_0, 10)\n",
    "get_y_trans = sp.lambdify((x, x_bar, y_bar, m, x_0), y_trans_)\n",
    "y_trans = get_y_trans(x_trans, _x_bar, _y_bar, _m, _x_0)\n",
    "x_trans, y_trans"
   ]
  },
  {
   "cell_type": "code",
   "execution_count": null,
   "metadata": {},
   "outputs": [],
   "source": [
    "get_y_trans(_x_c, _x_bar, _y_bar, _m, _x_0)"
   ]
  },
  {
   "cell_type": "markdown",
   "metadata": {},
   "source": [
    "# Composed smooth level set function $f_\\mathrm{full}(x,y)$"
   ]
  },
  {
   "cell_type": "code",
   "execution_count": null,
   "metadata": {},
   "outputs": [],
   "source": [
    "f_full_ = sp.Piecewise(\n",
    "    (f_cap_solved_, f_cap_domain_),\n",
    "    (f_mid_, True)\n",
    ")\n",
    "get_f_full_lambdified = sp.lambdify((x, y, x_bar, y_bar, m, x_0), f_full_, 'numpy')"
   ]
  },
  {
   "cell_type": "markdown",
   "metadata": {},
   "source": [
    "# Composed level set function with two caps"
   ]
  },
  {
   "cell_type": "code",
   "execution_count": null,
   "metadata": {},
   "outputs": [],
   "source": [
    "f_t = Cymbol(r'f_\\mathrm{t}', codename='f_t_')\n",
    "f_c = Cymbol(r'f_\\mathrm{c}', codename='f_c_')\n",
    "f_c0 = Cymbol(r'f_\\mathrm{c0}', codename='f_c0_')\n",
    "f_s = Cymbol(r'f_\\mathrm{s}', codename='f_s_')"
   ]
  },
  {
   "cell_type": "code",
   "execution_count": null,
   "metadata": {},
   "outputs": [],
   "source": [
    "subs_tension = {x_0: 0, x_bar: f_t, y_bar: f_s}\n",
    "subs_shear = {y_bar: f_s, x_0: 0}\n",
    "subs_compression = {x_0: -f_c0, x_bar: -f_c,  y_bar: f_s-m*(-f_c0) }"
   ]
  },
  {
   "cell_type": "code",
   "execution_count": null,
   "metadata": {},
   "outputs": [],
   "source": [
    "f_solved_ = sp.Piecewise(\n",
    "    (f_cap_solved_.subs(subs_tension), f_cap_domain_.subs(subs_tension)),\n",
    "    (f_cap_solved_.subs(subs_compression), f_cap_domain_.subs(subs_compression)),\n",
    "    (f_mid_.subs(subs_shear), True)\n",
    ")\n",
    "f_solved_"
   ]
  },
  {
   "cell_type": "code",
   "execution_count": null,
   "metadata": {},
   "outputs": [],
   "source": [
    "get_f_solved_lambdified = sp.lambdify((x, y, f_t, f_c, f_c0, f_s, m), f_solved_, 'numpy')\n",
    "get_f_solved = get_f_solved_lambdified # dill.loads(dill.dumps(get_f_solved_lambdified))"
   ]
  },
  {
   "cell_type": "code",
   "execution_count": null,
   "metadata": {},
   "outputs": [],
   "source": [
    "# f_file = open('f.dill', 'wb')\n",
    "# dill.dump(get_f_solved_lambdified, f_file)\n",
    "# f_file.close()"
   ]
  },
  {
   "cell_type": "code",
   "execution_count": null,
   "metadata": {},
   "outputs": [],
   "source": [
    "# f_file = open('f.dill', 'rb')\n",
    "# get_f_solved = dill.load(f_file)\n",
    "# f_file.close()"
   ]
  },
  {
   "cell_type": "code",
   "execution_count": null,
   "metadata": {},
   "outputs": [],
   "source": [
    "X_a, Y_a = np.mgrid[-100:20:210j,-30:30:210j]\n",
    "mp = {'f_t_': 5, 'f_c_': 80, 'f_c0_': 70, 'f_s_': 5, 'm_': 0.1}\n",
    "Z_a = get_f_solved(X_a,Y_a,**mp)"
   ]
  },
  {
   "cell_type": "code",
   "execution_count": null,
   "metadata": {},
   "outputs": [],
   "source": [
    "fig = plt.figure(figsize=(8,4))\n",
    "ax = fig.add_subplot(1, 1, 1)\n",
    "ax.contour(X_a,Y_a,Z_a, levels=8)\n",
    "ax.plot([_x_0], [_y_bar], marker='o')\n",
    "ax.plot([_x_bar], [0], marker='o', color='red')\n",
    "ax.plot([_x_c+_x_0], [0], marker='o', color='green')\n",
    "ax.set_aspect('equal')"
   ]
  },
  {
   "cell_type": "code",
   "execution_count": null,
   "metadata": {},
   "outputs": [],
   "source": []
  },
  {
   "cell_type": "code",
   "execution_count": null,
   "metadata": {},
   "outputs": [],
   "source": []
  },
  {
   "cell_type": "code",
   "execution_count": null,
   "metadata": {},
   "outputs": [],
   "source": []
  }
 ],
 "metadata": {
  "kernelspec": {
   "display_name": "bmcs_env",
   "language": "python",
   "name": "bmcs_env"
  },
  "language_info": {
   "codemirror_mode": {
    "name": "ipython",
    "version": 3
   },
   "file_extension": ".py",
   "mimetype": "text/x-python",
   "name": "python",
   "nbconvert_exporter": "python",
   "pygments_lexer": "ipython3"
  },
  "toc": {
   "base_numbering": 1,
   "nav_menu": {},
   "number_sections": true,
   "sideBar": true,
   "skip_h1_title": true,
   "title_cell": "Table of Contents",
   "title_sidebar": "Contents",
   "toc_cell": false,
   "toc_position": {},
   "toc_section_display": true,
   "toc_window_display": false
  }
 },
 "nbformat": 4,
 "nbformat_minor": 4
}
