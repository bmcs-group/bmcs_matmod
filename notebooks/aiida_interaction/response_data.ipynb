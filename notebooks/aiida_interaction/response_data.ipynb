{
 "cells": [
  {
   "cell_type": "markdown",
   "id": "c0cff593",
   "metadata": {},
   "source": [
    "# ResponseDataWidget Demonstration\n",
    "\n",
    "This notebook demonstrates the usage of the `ResponseDataWidget` class for interactive visualization of response data from material simulations.\n",
    "\n",
    "The widget allows selecting various variables for plotting on the X and Y axes, including:\n",
    "\n",
    "- Time (t)\n",
    "- Primary variables (strain, stress)\n",
    "- Internal variables (damage, plastic strain, etc.)\n",
    "- Conjugate thermodynamic forces\n",
    "\n",
    "We'll use a GSM1D_ED (1D Elastic Damage) model to create some response data and then visualize it with our widget."
   ]
  },
  {
   "cell_type": "code",
   "execution_count": 1,
   "id": "1a929d0d",
   "metadata": {},
   "outputs": [
    {
     "ename": "ModuleNotFoundError",
     "evalue": "No module named 'bmcs_matmod.gsm_lagrange.core.response_data_widget'",
     "output_type": "error",
     "traceback": [
      "\u001b[0;31m---------------------------------------------------------------------------\u001b[0m",
      "\u001b[0;31mModuleNotFoundError\u001b[0m                       Traceback (most recent call last)",
      "Cell \u001b[0;32mIn[1], line 13\u001b[0m\n\u001b[1;32m     10\u001b[0m \u001b[38;5;28;01mfrom\u001b[39;00m\u001b[38;5;250m \u001b[39m\u001b[38;5;21;01mbmcs_matmod\u001b[39;00m\u001b[38;5;21;01m.\u001b[39;00m\u001b[38;5;21;01mgsm_lagrange\u001b[39;00m\u001b[38;5;21;01m.\u001b[39;00m\u001b[38;5;21;01mcore\u001b[39;00m\u001b[38;5;21;01m.\u001b[39;00m\u001b[38;5;21;01mgsm_model\u001b[39;00m\u001b[38;5;250m \u001b[39m\u001b[38;5;28;01mimport\u001b[39;00m GSMModel\n\u001b[1;32m     12\u001b[0m \u001b[38;5;66;03m# Import the ResponseDataWidget\u001b[39;00m\n\u001b[0;32m---> 13\u001b[0m \u001b[38;5;28;01mfrom\u001b[39;00m\u001b[38;5;250m \u001b[39m\u001b[38;5;21;01mbmcs_matmod\u001b[39;00m\u001b[38;5;21;01m.\u001b[39;00m\u001b[38;5;21;01mgsm_lagrange\u001b[39;00m\u001b[38;5;21;01m.\u001b[39;00m\u001b[38;5;21;01mcore\u001b[39;00m\u001b[38;5;21;01m.\u001b[39;00m\u001b[38;5;21;01mresponse_data_widget\u001b[39;00m\u001b[38;5;250m \u001b[39m\u001b[38;5;28;01mimport\u001b[39;00m ResponseDataWidget\n\u001b[1;32m     15\u001b[0m \u001b[38;5;66;03m# Import the specific model we'll use for demonstration\u001b[39;00m\n\u001b[1;32m     16\u001b[0m \u001b[38;5;28;01mfrom\u001b[39;00m\u001b[38;5;250m \u001b[39m\u001b[38;5;21;01mbmcs_matmod\u001b[39;00m\u001b[38;5;21;01m.\u001b[39;00m\u001b[38;5;21;01mgsm_lagrange\u001b[39;00m\u001b[38;5;21;01m.\u001b[39;00m\u001b[38;5;21;01mmodels\u001b[39;00m\u001b[38;5;21;01m.\u001b[39;00m\u001b[38;5;21;01mgsm1d_ed\u001b[39;00m\u001b[38;5;250m \u001b[39m\u001b[38;5;28;01mimport\u001b[39;00m GSM1D_ED\n",
      "\u001b[0;31mModuleNotFoundError\u001b[0m: No module named 'bmcs_matmod.gsm_lagrange.core.response_data_widget'"
     ]
    }
   ],
   "source": [
    "# Import necessary libraries\n",
    "import numpy as np\n",
    "import matplotlib.pyplot as plt\n",
    "import sympy as sp\n",
    "import traits.api as tr\n",
    "import bmcs_utils.api as bu\n",
    "import ipywidgets as widgets\n",
    "\n",
    "# Import the GSM framework\n",
    "from bmcs_matmod.gsm_lagrange.core.gsm_model import GSMModel\n",
    "\n",
    "# Import the ResponseDataWidget\n",
    "from bmcs_matmod.gsm_lagrange.core.response_data_widget import ResponseDataWidget\n",
    "\n",
    "# Import the specific model we'll use for demonstration\n",
    "from bmcs_matmod.gsm_lagrange.models.gsm1d_ed import GSM1D_ED\n",
    "\n",
    "# For nicer plot display\n",
    "plt.rcParams['figure.figsize'] = (10, 6)\n",
    "plt.rcParams['font.size'] = 12\n",
    "plt.rcParams['lines.linewidth'] = 2\n",
    "try:\n",
    "    plt.style.use('bmcs')\n",
    "except:\n",
    "    pass\n",
    "\n",
    "# For LaTeX rendering in plots\n",
    "plt.rcParams['text.usetex'] = False"
   ]
  },
  {
   "cell_type": "markdown",
   "id": "410089aa",
   "metadata": {},
   "source": [
    "## 1. Create a Material Model\n",
    "\n",
    "First, let's create a material model with specific parameters. We'll use the elastic-damage model (GSM1D_ED) for demonstration."
   ]
  },
  {
   "cell_type": "code",
   "execution_count": null,
   "id": "af565839",
   "metadata": {},
   "outputs": [],
   "source": [
    "# Create a material model from the GSM1D_ED symbolic model\n",
    "ed_material = GSMModel(GSM1D_ED)\n",
    "\n",
    "# Set parameters to customize the model using set_params\n",
    "ed_material.set_params(\n",
    "    E=20000.0,    # Young's modulus (MPa)\n",
    "    S=1,          # Damage threshold strain\n",
    "    c=1,          # ratio\n",
    "    eps_0=0.0     # Initial inelastic strain\n",
    ")\n",
    "\n",
    "# Display model parameters\n",
    "print(\"Model parameters:\")\n",
    "for param_sym, name in ed_material.trait_model_params.items():\n",
    "    value = getattr(ed_material, name)\n",
    "    print(f\"  {name} = {value} ({param_sym})\")"
   ]
  },
  {
   "cell_type": "markdown",
   "id": "08e9fd90",
   "metadata": {},
   "source": [
    "## 2. Generate Response Data\n",
    "\n",
    "Now, let's generate response data by simulating a monotonic tensile test. This will create a `ResponseData` object containing the time history of all variables."
   ]
  },
  {
   "cell_type": "code",
   "execution_count": null,
   "id": "3920400e",
   "metadata": {},
   "outputs": [],
   "source": [
    "# Define a monotonic tensile strain history\n",
    "n_steps = 1000\n",
    "strain_max = 0.13  # Maximum strain\n",
    "strain = np.linspace(0, strain_max, n_steps)\n",
    "time = np.linspace(0, 1.0, n_steps)\n",
    "\n",
    "# Run the simulation with our material model\n",
    "rd = ed_material.get_F_response(strain, time)\n",
    "\n",
    "# Display information about the response data\n",
    "print(f\"Time steps: {len(rd.t_t)}\")\n",
    "print(f\"Primary variables:\\n  strain shape: {rd.eps_t.shape}\\n  stress shape: {rd.sig_t.shape}\")\n",
    "print(f\"Internal variables: {list(rd.Eps_t.keys())}\")\n",
    "print(f\"Conjugate forces: {list(rd.Sig_t.keys())}\")"
   ]
  },
  {
   "cell_type": "markdown",
   "id": "2cdb3c79",
   "metadata": {},
   "source": [
    "## 3. Traditional Static Plotting\n",
    "\n",
    "Let's first look at how we would traditionally plot some of this data using matplotlib directly."
   ]
  },
  {
   "cell_type": "code",
   "execution_count": null,
   "id": "72606404",
   "metadata": {},
   "outputs": [],
   "source": [
    "# Extract and reshape for easier plotting\n",
    "eps = rd.eps_t[:, 0]\n",
    "sig = rd.sig_t[:, 0]\n",
    "omega = rd.Eps_t['omega_a'][:, 0, 0]  # Internal damage variable\n",
    "\n",
    "# Plot the stress-strain curve\n",
    "fig, (ax1, ax2) = plt.subplots(1, 2, figsize=(16, 6))\n",
    "\n",
    "# Stress-strain curve\n",
    "ax1.plot(eps, sig, 'b-', linewidth=2)\n",
    "ax1.set_xlabel('Strain $\\\\varepsilon$')\n",
    "ax1.set_ylabel('Stress $\\\\sigma$ (MPa)')\n",
    "ax1.set_title('Stress-Strain Curve (Tensile Test)')\n",
    "ax1.grid(True)\n",
    "\n",
    "# Evolution of internal variable (omega - damage)\n",
    "ax2.plot(eps, omega, 'g-', linewidth=2)\n",
    "ax2.set_xlabel('Strain $\\\\varepsilon$')\n",
    "ax2.set_ylabel('Damage variable $\\\\omega$')\n",
    "ax2.set_title('Evolution of Damage Variable')\n",
    "ax2.grid(True)\n",
    "\n",
    "plt.tight_layout()"
   ]
  },
  {
   "cell_type": "markdown",
   "id": "410845b8",
   "metadata": {},
   "source": [
    "## 4. Interactive Plotting with ResponseDataWidget\n",
    "\n",
    "Now, let's use our `ResponseDataWidget` to plot the same data interactively. This widget allows us to select any variable for the x and y axes."
   ]
  },
  {
   "cell_type": "code",
   "execution_count": null,
   "id": "8894821b",
   "metadata": {},
   "outputs": [],
   "source": [
    "# Create the widget with our response data\n",
    "widget = ResponseDataWidget(response_data=rd)\n",
    "\n",
    "# Display the widget\n",
    "widget.get_widget()"
   ]
  },
  {
   "cell_type": "markdown",
   "id": "85e964e9",
   "metadata": {},
   "source": [
    "## 5. Exploring Different Relationships\n",
    "\n",
    "With the interactive widget above, you can now explore different relationships between variables by selecting different options for the X and Y axes. Try exploring relationships like:\n",
    "\n",
    "- Stress vs. Strain (standard stress-strain curve)\n",
    "- Damage vs. Strain (evolution of damage during loading)\n",
    "- Stress vs. Damage (relationship between stress and damage)\n",
    "- Time vs. any variable (evolution over time)\n",
    "\n",
    "This interactive exploration helps in understanding the material behavior better without having to create multiple static plots.\n",
    "\n",
    "```python\n",
    "# Set matplotlib backend\n",
    "%matplotlib inline\n",
    "\n",
    "# Create the widget with simple initialization steps\n",
    "widget = ResponseDataWidget()\n",
    "\n",
    "# Set the response data\n",
    "widget.response_data = rd\n",
    "\n",
    "# Get the widget\n",
    "w = widget.get_widget()\n",
    "\n",
    "# Display the widget\n",
    "display(w)\n",
    "\n",
    "# Now that widget is displayed, directly update dropdown values\n",
    "# to make sure they're set correctly and trigger updates\n",
    "widget.x_dropdown.value = 'eps_t_0'\n",
    "widget.y_dropdown.value = 'sig_t_0'\n",
    "```"
   ]
  },
  {
   "cell_type": "code",
   "execution_count": null,
   "id": "5b3a17d1",
   "metadata": {},
   "outputs": [],
   "source": [
    "# DEBUGGING CELL: Direct visualization to check if the data and plotting work\n",
    "import matplotlib.pyplot as plt\n",
    "\n",
    "plt.figure(figsize=(10, 6))\n",
    "eps = rd.eps_t[:, 0]\n",
    "sig = rd.sig_t[:, 0]\n",
    "\n",
    "print(f\"eps shape: {eps.shape}, sig shape: {sig.shape}\")\n",
    "print(f\"eps min/max: {eps.min()}/{eps.max()}\")\n",
    "print(f\"sig min/max: {sig.min()}/{sig.max()}\")\n",
    "\n",
    "plt.plot(eps, sig, 'r-', linewidth=2)\n",
    "plt.xlabel('Strain ε[0]')\n",
    "plt.ylabel('Stress σ[0]')\n",
    "plt.title('Direct Matplotlib Plot (Debug)')\n",
    "plt.grid(True)\n",
    "plt.show()\n",
    "\n",
    "# Try another direct approach with our widget's figure\n",
    "plt.figure(widget.fig.number)\n",
    "plt.clf()\n",
    "plt.plot(eps, sig, 'g-', linewidth=2)\n",
    "plt.xlabel('Strain')\n",
    "plt.ylabel('Stress')\n",
    "plt.title('Another test using widget figure')\n",
    "plt.grid(True)\n",
    "plt.show()"
   ]
  },
  {
   "cell_type": "code",
   "execution_count": null,
   "id": "f1175359",
   "metadata": {},
   "outputs": [],
   "source": [
    "# Activate matplotlib for the notebook\n",
    "%matplotlib inline\n",
    "\n",
    "# Create a simple direct plot as a sanity check\n",
    "plt.figure(figsize=(10, 6))\n",
    "eps = rd.eps_t[:, 0]\n",
    "sig = rd.sig_t[:, 0]\n",
    "plt.plot(eps, sig, 'b-', linewidth=2)\n",
    "plt.xlabel('Strain ε[0]')\n",
    "plt.ylabel('Stress σ[0]')\n",
    "plt.title('Direct Plot (no widget)')\n",
    "plt.grid(True)\n",
    "plt.show()"
   ]
  },
  {
   "cell_type": "markdown",
   "id": "811d94c0",
   "metadata": {},
   "source": [
    "## 6. Creating a Response Data Widget From Scratch\n",
    "\n",
    "If you want to create your own response data widget with more customization, you can do so as follows:"
   ]
  },
  {
   "cell_type": "code",
   "execution_count": null,
   "id": "79bdd627",
   "metadata": {},
   "outputs": [],
   "source": [
    "# Create a custom response data widget\n",
    "custom_widget = ResponseDataWidget()\n",
    "\n",
    "# Get the widget interface (this initializes the figure/axes)\n",
    "custom_w = custom_widget.get_widget()\n",
    "\n",
    "# Set specific default selections for this widget\n",
    "custom_widget.x_var = 'eps_t_0'  # Strain as x-axis\n",
    "custom_widget.y_var = 'Eps_t_omega_a_0'  # Damage as y-axis (if available)\n",
    "\n",
    "# Now assign the response data\n",
    "custom_widget.response_data = rd\n",
    "\n",
    "# Force a plot update\n",
    "custom_widget.update_plot()\n",
    "\n",
    "# Display the widget\n",
    "custom_w"
   ]
  }
 ],
 "metadata": {
  "kernelspec": {
   "display_name": "icc_env",
   "language": "python",
   "name": "python3"
  },
  "language_info": {
   "codemirror_mode": {
    "name": "ipython",
    "version": 3
   },
   "file_extension": ".py",
   "mimetype": "text/x-python",
   "name": "python",
   "nbconvert_exporter": "python",
   "pygments_lexer": "ipython3",
   "version": "3.13.2"
  }
 },
 "nbformat": 4,
 "nbformat_minor": 5
}
