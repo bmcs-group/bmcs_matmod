{
 "cells": [
  {
   "cell_type": "markdown",
   "metadata": {
    "collapsed": true,
    "pycharm": {
     "name": "#%% md\n"
    }
   },
   "source": [
    "# Derivation of normal and tangential microplane stiffness parameters for general elastic tensor\n"
   ]
  },
  {
   "cell_type": "markdown",
   "metadata": {
    "pycharm": {
     "name": "#%% md\n"
    }
   },
   "source": [
    "Starting from equilibrium between macro- and micro- stresses applying the principle of virtual work (weak form). Equation provided by Carol and Bazant at Damage and Plasticity in Microplane Theory 96.\n",
    "\n",
    "\\begin{equation}\n",
    "\\sigma_{ij} = \\frac{3}{4\\pi} \\int_{\\Omega} \\sigma_{\\mathrm{N}} n_i n_j d\\Omega + \\frac{3}{4\\pi} \\int_{\\Omega} \\frac{\\sigma_{\\mathrm{T}_r}}{2} (n_i \\delta_{rj} + n_j \\delta_{ri}) d\\Omega \\hspace{1cm}\n",
    "\\label{eq:sigma_ij}\n",
    "\\end{equation}\n",
    "\n",
    "NOTE: Bazant integrates over half of the domain, one has to substitute 2$\\pi$ with 4$\\pi$."
   ]
  },
  {
   "cell_type": "markdown",
   "metadata": {
    "pycharm": {
     "name": "#%% md\n"
    }
   },
   "source": [
    "Assuming elastic regime at the micro- and macro- level\n",
    "\\begin{align}\n",
    "\\label{eq:sigma_NT}\n",
    "\\sigma_{\\mathrm{N}} &= E_{\\mathrm{N}} \\varepsilon_{\\mathrm{N}}\\\\\n",
    "\\nonumber\n",
    "\\sigma_{\\mathrm{T}} &= E_{\\mathrm{T}} \\varepsilon_{\\mathrm{T}}\n",
    "\\end{align}"
   ]
  },
  {
   "cell_type": "markdown",
   "metadata": {
    "pycharm": {
     "name": "#%% md\n"
    }
   },
   "source": [
    "Projections  of the strain tensor onto microplanes, normal and tangential direction\n",
    "\\begin{align}\n",
    "\\label{eq:epsilon_NT}\n",
    "\\varepsilon_{\\mathrm{N}} &= \\varepsilon_{ij} n_i n_j \\\\\n",
    "\\varepsilon_{\\mathrm{T}_r} &= \\frac{1}{2}(n_i \\delta_{jr} + n_j \\delta_{ir} - 2 n_i n_j n_r) \\varepsilon_{ij} \\nonumber\n",
    "\\end{align}"
   ]
  },
  {
   "cell_type": "markdown",
   "metadata": {
    "pycharm": {
     "name": "#%% md\n"
    }
   },
   "source": [
    "Substituting backwards (\\ref{eq:epsilon_NT}) in (\\ref{eq:sigma_NT}), then in (\\ref{eq:sigma_ij}).\n",
    "\n",
    "**ATTENTION:** I chose the subindices in such a way that the $i$ and $j$ from (\\ref{eq:sigma_ij}) are maintained, then the indexes $i$ and $j$ from (\\ref{eq:epsilon_NT}) are substituted with $k$ and $l$. Index $r$ is kept as $r$ in both (\\ref{eq:sigma_ij}) and (\\ref{eq:epsilon_NT}). Not sure about this, I am actually critical about it. If one follows same criteria and substitutes $r$ with $o$ ,for instance, in (\\ref{eq:epsilon_NT}), then I am not able to derive something useful, but might be the right way to proceed.\n",
    "\n",
    "\\begin{align}\n",
    "\\sigma_{ij} &= \\frac{3}{4\\pi} \\int_{\\Omega} E_{\\mathrm{N}} \\: \\varepsilon_{kl} \\: n_k \\: n_l \\: n_i \\: n_j \\: d\\Omega \\\\ &+ \\frac{3}{4\\pi} \\int_{\\Omega} \\frac{1}{4} (n_k \\delta_{lr} + n_l \\delta_{kr} - 2 n_k n_l n_r) E_{\\mathrm{T}} \\: \\varepsilon_{kl} (n_i \\delta_{rj} + n_j \\delta_{ri}) d\\Omega \\hspace{1cm}\n",
    "\\nonumber\n",
    "\\end{align}"
   ]
  },
  {
   "cell_type": "markdown",
   "metadata": {},
   "source": [
    "**Remark**: [rch] I'd say that it is correct to keep $r$ representing the microplane index synchronous within this substitution. $r$ must contract - meaning the multiplication of the respective stress and strain vectors within a single microplane. Using $o$ would expand the dimensions and this would really make no sense. I think what you did is correct!"
   ]
  },
  {
   "cell_type": "markdown",
   "metadata": {
    "pycharm": {
     "name": "#%% md\n"
    }
   },
   "source": [
    "Integral expressions coming from Lubanda & Krajcinovic DAMAGE TENSORS AND THE CRACK DENSITY DISTRIBUTION 92, picking $\\Omega = 4\\pi$\n",
    "\n",
    "\\begin{equation}\n",
    "\\label{eq:N_ij}\n",
    "\\int_{\\Omega}  n_i  n_j  d\\Omega = \\frac{4\\pi}{3} \\delta_{ij} \\hspace{1cm} \n",
    "\\end{equation}\n",
    "\n",
    "\\begin{equation}\n",
    "\\label{eq:N_ijkl}\n",
    "\\int_{\\Omega}  n_i  n_j n_k n_l  d\\Omega = \\frac{4\\pi}{15} (\\delta_{ij}\\delta_{kl} + \\delta_{ik}\\delta_{jl} + \\delta_{il} \\delta_{jk}) \\hspace{1cm}\n",
    "\\end{equation}"
   ]
  },
  {
   "cell_type": "markdown",
   "metadata": {
    "pycharm": {
     "name": "#%% md\n"
    }
   },
   "source": [
    "Starting with first term of eq. 4) and exploting 6). $E_{\\mathrm{N}}$ and $\\varepsilon_{kl}$ go out of the integral.\n",
    "\n",
    "\\begin{equation}\n",
    "\\frac{3}{4\\pi} \\int_{\\Omega} E_{\\mathrm{N}} \\: \\varepsilon_{kl} \\: n_k \\: n_l \\: n_i \\: n_j \\: d\\Omega = \\\\\n",
    "\\frac{3}{4\\pi} E_{\\mathrm{N}} \\: \\varepsilon_{kl} (\\frac{4\\pi}{15} (\\delta_{ij}\\delta_{kl} + \\delta_{ik}\\delta_{jl} + \\delta_{il} \\delta_{jk})) = \\\\\n",
    "\\frac{1}{5} E_{\\mathrm{N}} \\: \\varepsilon_{kl} (\\delta_{ij}\\delta_{kl} + \\delta_{ik}\\delta_{jl} + \\delta_{il} \\delta_{jk}) \\hspace{1cm} (7)\n",
    "\\end{equation}\n"
   ]
  },
  {
   "cell_type": "markdown",
   "metadata": {
    "pycharm": {
     "name": "#%% md\n"
    }
   },
   "source": [
    "Second term of the integral eq. 4).  $E_{\\mathrm{T}}$ and $\\varepsilon_{kl}$ go out of the integral.\n",
    "\n",
    "\\begin{equation}\n",
    "\\frac{3}{16\\pi} E_{\\mathrm{T}} \\: \\varepsilon_{kl} \\int_{\\Omega} (n_k \\delta_{lr} + n_l \\delta_{kr} - 2 n_k n_l n_r) (n_i \\delta_{rj} + n_j \\delta_{ri}) d\\Omega = \\\\\n",
    "\\frac{3}{16\\pi} E_{\\mathrm{T}} \\: \\varepsilon_{kl} \\int_{\\Omega} (n_k \\delta_{lr} n_i \\delta_{rj} + n_l \\delta_{kr} n_i \\delta_{rj} - n_k n_l n_r n_i \\delta_{rj} + n_k \\delta_{lr} n_j \\delta_{ri} + n_l \\delta_{kr} n_j \\delta_{ri} - n_k n_l n_r n_j \\delta_{ri}) d\\Omega \\hspace{1cm} (8)\n",
    "\\end{equation}"
   ]
  },
  {
   "cell_type": "markdown",
   "metadata": {
    "pycharm": {
     "name": "#%% md\n"
    }
   },
   "source": [
    "Operating repeated indices:\n",
    "\n",
    "\\begin{equation}\n",
    "\\frac{3}{16\\pi} E_{\\mathrm{T}} \\: \\varepsilon_{kl} \\int_{\\Omega} (n_k \\delta_{jl} n_i + n_l \\delta_{jk} n_i - 2 n_k n_l n_j n_i + n_k \\delta_{il} n_j + n_l \\delta_{ik} n_j - 2 n_k n_l n_i n_j) d\\Omega \\hspace{1cm} (9)\n",
    "\\end{equation}"
   ]
  },
  {
   "cell_type": "markdown",
   "metadata": {},
   "source": [
    "Making use of eq. 5) and 6):\n",
    "\n",
    "\\begin{equation}\n",
    "\\frac{3}{16\\pi} E_{\\mathrm{T}} \\: \\varepsilon_{kl} ( \\frac{4\\pi}{3} \\delta_{ik} \\delta_{jl} + \\frac{4\\pi}{3} \\delta_{il} \\delta_{jk} - \\frac{8\\pi}{15} (\\delta_{ij}\\delta_{kl} + \\delta_{ik}\\delta_{jl} + \\delta_{il} \\delta_{jk}) + \\frac{4\\pi}{3} \\delta_{jk} \\delta_{il} + \\frac{4\\pi}{3} \\delta_{jl} \\delta_{ik} - \\frac{8\\pi}{15} (\\delta_{ij}\\delta_{kl} + \\delta_{ik}\\delta_{jl} + \\delta_{il} \\delta_{jk})) \\hspace{1cm} (10)\n",
    "\\end{equation}"
   ]
  },
  {
   "cell_type": "markdown",
   "metadata": {},
   "source": [
    "simplifying:\n",
    "\n",
    "\\begin{equation}\n",
    "\\frac{3}{16\\pi} E_{\\mathrm{T}} \\: \\varepsilon_{kl} ( \\frac{8\\pi}{3} \\delta_{ik} \\delta_{jl} + \\frac{8\\pi}{3} \\delta_{il} \\delta_{jk} - \\frac{16\\pi}{15} (\\delta_{ij}\\delta_{kl} + \\delta_{ik}\\delta_{jl} + \\delta_{il} \\delta_{jk}) \\\\\n",
    "E_{\\mathrm{T}} \\: \\varepsilon_{kl} ( \\frac{1}{2}  \\delta_{ik} \\delta_{jl} +  \\frac{1}{2} \\delta_{il} \\delta_{jk} - \\frac{1}{5} (\\delta_{ij}\\delta_{kl} + \\delta_{ik}\\delta_{jl} + \\delta_{il} \\delta_{jk}) \\\\\n",
    "E_{\\mathrm{T}} \\: \\varepsilon_{kl} (  \\frac{3}{10}  \\delta_{ik} \\delta_{jl} + \\frac{3}{10} \\delta_{il} \\delta_{jk} - \\frac{1}{5} \\delta_{ij}\\delta_{kl} )\\hspace{1cm} (11) \\\\\n",
    "\\end{equation}\n"
   ]
  },
  {
   "cell_type": "markdown",
   "metadata": {
    "pycharm": {
     "name": "#%% md\n"
    }
   },
   "source": [
    "(11) + (7), equating with definition 3D isotropic elastic stiffness tensor\n",
    "\n",
    "\\begin{equation}\n",
    "\\sigma_{ij} = \\frac{1}{5} E_{\\mathrm{N}}(\\delta_{ij}\\delta_{kl} + \\delta_{ik}\\delta_{jl} + \\delta_{il} \\delta_{jk})\\varepsilon_{kl} + E_{\\mathrm{T}} (  \\frac{3}{10}  \\delta_{ik} \\delta_{jl} + \\frac{3}{10} \\delta_{il} \\delta_{jk} - \\frac{1}{5} \\delta_{ij}\\delta_{kl} ) \\varepsilon_{kl} = \\\\\n",
    "(\\lambda \\delta_{ij} \\delta_{kl} + \\mu (\\delta_{ik} \\delta_{jl} + \\delta_{il} \\delta_{jk}))\\varepsilon_{kl}  \\hspace{1cm} (12)\n",
    "\\end{equation}"
   ]
  },
  {
   "cell_type": "markdown",
   "metadata": {
    "pycharm": {
     "name": "#%% md\n"
    }
   },
   "source": [
    "By parts:\n",
    "\n",
    "\\begin{equation}\n",
    "\\frac{1}{5} E_{\\mathrm{N}}\\delta_{ij}\\delta_{kl} - \\frac{1}{5} E_{\\mathrm{T}}   \\delta_{ij} \\delta_{kl} = \\lambda \\delta_{ij} \\delta_{kl} \\\\\n",
    "\\frac{1}{5} E_{\\mathrm{N}} - \\frac{1}{5} E_{\\mathrm{T}} = \\frac{E \\nu}{(1-2\\nu)(1+\\nu)} \\hspace{1cm} (13)\n",
    "\\end{equation}"
   ]
  },
  {
   "cell_type": "markdown",
   "metadata": {},
   "source": [
    "By parts:\n",
    "\n",
    "\\begin{equation}\n",
    "\\frac{3}{10} E_{\\mathrm{T}}   \\delta_{ik} \\delta_{jl} + \\frac{1}{5} E_{\\mathrm{N}}\\delta_{ik}\\delta_{jl} = \\lambda \\delta_{ij} \\delta_{kl} \\\\\n",
    "\\frac{1}{5} E_{\\mathrm{N}} + \\frac{3}{10} E_{\\mathrm{T}} = \\frac{E}{2(1+\\nu)} \\hspace{1cm} (14)\n",
    "\\end{equation}"
   ]
  },
  {
   "cell_type": "markdown",
   "metadata": {
    "pycharm": {
     "name": "#%% md\n"
    }
   },
   "source": [
    "Introducing 13) in 14)\n",
    "\n",
    "\\begin{equation}\n",
    "\\frac{3}{10} E_{\\mathrm{T}} + \\frac{1}{5} E_{\\mathrm{T}} + \\frac{E \\nu}{(1-2\\nu)(1+\\nu)} = \\frac{E}{2(1+\\nu)} \\\\\n",
    "\\frac{1}{2} E_{\\mathrm{T}}  = \\frac{E}{2(1+\\nu)} - \\frac{E \\nu}{(1-2\\nu)(1+\\nu)} \\\\\n",
    "\\frac{1}{2} E_{\\mathrm{T}}  = \\frac{E(1-2\\nu)-2E \\nu}{2(1+\\nu)(1-2\\nu)} \\\\\n",
    "E_{\\mathrm{T}}  = \\frac{E(1-4\\nu)}{(1+\\nu)(1-2\\nu)}   \\hspace{1cm} (15)\n",
    "\\end{equation}"
   ]
  },
  {
   "cell_type": "markdown",
   "source": [
    "Introducing 15) in 13)\n",
    "\n",
    "\\begin{equation}\n",
    "\\frac{1}{5} E_{\\mathrm{N}} - \\frac{1}{5} \\frac{E(1-4\\nu)}{(1+\\nu)(1-2\\nu)}   = \\frac{E \\nu}{(1-2\\nu)(1+\\nu)} \\\\\n",
    "E_{\\mathrm{N}}  = \\frac{5E \\nu}{(1-2\\nu)(1+\\nu)} + \\frac{E(1-4\\nu)}{(1+\\nu)(1-2\\nu)} \\\\\n",
    "E_{\\mathrm{N}}  = \\frac{5E \\nu + E(1-4\\nu)}{(1-2\\nu)(1+\\nu)} \\\\\n",
    "E_{\\mathrm{N}}  = \\frac{5E \\nu + E - 4E\\nu}{(1-2\\nu)(1+\\nu)} \\\\\n",
    "E_{\\mathrm{N}}  = \\frac{E(1 + \\nu)}{(1-2\\nu)(1+\\nu)} \\\\\n",
    "E_{\\mathrm{N}}  = \\frac{E}{(1-2\\nu)} \\hspace{1cm} (16)\n",
    "\\end{equation}"
   ],
   "metadata": {
    "collapsed": false
   }
  },
  {
   "cell_type": "markdown",
   "source": [
    "## 2D Case\n",
    "\n",
    "Starting from equilibrium between macro- and micro- stresses applying the principle of virtual work (weak form). Equation provided by Carol and Bazant at Damage and Plasticity in Microplane Theory 96.\n",
    "\n",
    "\\begin{equation}\n",
    "\\sigma_{ij} = \\frac{1}{\\pi} \\int_{\\Omega} \\sigma_{\\mathrm{N}} n_i n_j d\\Omega + \\frac{1}{\\pi} \\int_{\\Omega} \\frac{\\sigma_{\\mathrm{T}_r}}{2} (n_i \\delta_{rj} + n_j \\delta_{ri}) d\\Omega \\hspace{1cm}\n",
    "\\end{equation}"
   ],
   "metadata": {
    "collapsed": false
   }
  },
  {
   "cell_type": "markdown",
   "source": [
    "\\begin{align}\n",
    "\\sigma_{ij} = \\frac{1}{\\pi} \\int_{\\Omega} E_{\\mathrm{N}} \\: \\varepsilon_{kl} \\: n_k \\: n_l \\: n_i \\: n_j \\: d\\Omega + \\frac{1}{\\pi} \\int_{\\Omega} \\frac{1}{4} (n_k \\delta_{lr} + n_l \\delta_{kr} - 2 n_k n_l n_r) E_{\\mathrm{N}} \\: \\varepsilon_{kl} (n_i \\delta_{rj} + n_j \\delta_{ri}) d\\Omega\n",
    "\\end{align}\n",
    "\n"
   ],
   "metadata": {
    "collapsed": false,
    "pycharm": {
     "name": "#%% md\n"
    }
   }
  },
  {
   "cell_type": "markdown",
   "source": [
    "Integral expressions coming from Lubanda & Krajcinovic DAMAGE TENSORS AND THE CRACK DENSITY DISTRIBUTION 92, picking $\\Omega = 4\\pi$\n",
    "\n",
    "\\begin{equation}\n",
    "\\int_{\\Omega}  n_i  n_j  d\\Omega = \\pi \\delta_{ij} \\hspace{1cm}\n",
    "\\end{equation}\n",
    "\n",
    "\\begin{equation}\n",
    "\\int_{\\Omega}  n_i  n_j n_k n_l  d\\Omega = \\frac{\\pi}{5} (\\delta_{ij}\\delta_{kl} + \\delta_{ik}\\delta_{jl} + \\delta_{il} \\delta_{jk}) \\hspace{1cm}\n",
    "\\end{equation}"
   ],
   "metadata": {
    "collapsed": false
   }
  },
  {
   "cell_type": "markdown",
   "source": [
    "Starting with first term . $E_{\\mathrm{N}}$ and $\\varepsilon_{kl}$ go out of the integral.\n",
    "\n",
    "\\begin{equation}\n",
    "\\frac{1}{\\pi} \\int_{\\Omega} E_{\\mathrm{N}} \\: \\varepsilon_{kl} \\: n_k \\: n_l \\: n_i \\: n_j \\: d\\Omega = \\\\\n",
    "\\frac{1}{\\pi} E_{\\mathrm{N}} \\: \\varepsilon_{kl} (\\frac{\\pi}{5} (\\delta_{ij}\\delta_{kl} + \\delta_{ik}\\delta_{jl} + \\delta_{il} \\delta_{jk})) = \\\\\n",
    "\\frac{1}{5} E_{\\mathrm{N}} \\: \\varepsilon_{kl} (\\delta_{ij}\\delta_{kl} + \\delta_{ik}\\delta_{jl} + \\delta_{il} \\delta_{jk}) \\hspace{1cm} (7)\n",
    "\\end{equation}"
   ],
   "metadata": {
    "collapsed": false
   }
  },
  {
   "cell_type": "markdown",
   "source": [
    "Second term of the integral eq. 4).  $E_{\\mathrm{T}}$ and $\\varepsilon_{kl}$ go out of the integral.\n",
    "\n",
    "\\begin{equation}\n",
    "\\frac{1}{4\\pi} E_{\\mathrm{T}} \\: \\varepsilon_{kl} \\int_{\\Omega} (n_k \\delta_{lr} + n_l \\delta_{kr} - 2 n_k n_l n_r) (n_i \\delta_{rj} + n_j \\delta_{ri}) d\\Omega = \\\\\n",
    "\\frac{1}{4\\pi} E_{\\mathrm{T}} \\: \\varepsilon_{kl} \\int_{\\Omega} (n_k \\delta_{lr} n_i \\delta_{rj} + n_l \\delta_{kr} n_i \\delta_{rj} - n_k n_l n_r n_i \\delta_{rj} + n_k \\delta_{lr} n_j \\delta_{ri} + n_l \\delta_{kr} n_j \\delta_{ri} - n_k n_l n_r n_j \\delta_{ri}) d\\Omega \\hspace{1cm} (8)\n",
    "\\end{equation}"
   ],
   "metadata": {
    "collapsed": false
   }
  },
  {
   "cell_type": "markdown",
   "source": [
    "Operating repeated indices:\n",
    "\n",
    "\\begin{equation}\n",
    "\\frac{1}{4\\pi} E_{\\mathrm{T}} \\: \\varepsilon_{kl} \\int_{\\Omega} (n_k \\delta_{jl} n_i + n_l \\delta_{jk} n_i - 2 n_k n_l n_j n_i + n_k \\delta_{il} n_j + n_l \\delta_{ik} n_j - 2 n_k n_l n_i n_j) d\\Omega \\hspace{1cm} (9)\n",
    "\\end{equation}"
   ],
   "metadata": {
    "collapsed": false
   }
  },
  {
   "cell_type": "markdown",
   "source": [
    "Making use of eq. 5) and 6):\n",
    "\n",
    "\\begin{equation}\n",
    "\\frac{1}{4\\pi} E_{\\mathrm{T}} \\: \\varepsilon_{kl} ( \\pi \\delta_{ik} \\delta_{jl} + \\pi \\delta_{il} \\delta_{jk} - \\frac{2\\pi}{5} (\\delta_{ij}\\delta_{kl} + \\delta_{ik}\\delta_{jl} + \\delta_{il} \\delta_{jk}) + \\pi \\delta_{jk} \\delta_{il} + \\pi \\delta_{jl} \\delta_{ik} - \\frac{2\\pi}{5} (\\delta_{ij}\\delta_{kl} + \\delta_{ik}\\delta_{jl} + \\delta_{il} \\delta_{jk})) \\hspace{1cm} (10)\n",
    "\\end{equation}"
   ],
   "metadata": {
    "collapsed": false
   }
  },
  {
   "cell_type": "markdown",
   "source": [
    "simplifying:\n",
    "\n",
    "\\begin{equation}\n",
    "\\frac{1}{4\\pi} E_{\\mathrm{T}} \\: \\varepsilon_{kl} ( 2\\pi \\delta_{ik} \\delta_{jl} + 2\\pi \\delta_{il} \\delta_{jk} - \\frac{4\\pi}{5} (\\delta_{ij}\\delta_{kl} + \\delta_{ik}\\delta_{jl} + \\delta_{il} \\delta_{jk}) \\\\\n",
    "E_{\\mathrm{T}} \\: \\varepsilon_{kl} ( \\frac{1}{2}  \\delta_{ik} \\delta_{jl} +  \\frac{1}{2} \\delta_{il} \\delta_{jk} - \\frac{1}{5} (\\delta_{ij}\\delta_{kl} + \\delta_{ik}\\delta_{jl} + \\delta_{il} \\delta_{jk}) \\\\\n",
    "E_{\\mathrm{T}} \\: \\varepsilon_{kl} (  \\frac{3}{10}  \\delta_{ik} \\delta_{jl} + \\frac{3}{10} \\delta_{il} \\delta_{jk} - \\frac{1}{5} \\delta_{ij}\\delta_{kl} )\\hspace{1cm} (11) \\\\\n",
    "\\end{equation}"
   ],
   "metadata": {
    "collapsed": false
   }
  },
  {
   "cell_type": "markdown",
   "source": [
    "(11) + (7), equating with definition 2D isotropic elastic stiffness tensor - plain stress\n",
    "\n",
    "\\begin{equation}\n",
    "\\sigma_{ij} = \\frac{1}{5} E_{\\mathrm{N}}(\\delta_{ij}\\delta_{kl} + \\delta_{ik}\\delta_{jl} + \\delta_{il} \\delta_{jk})\\varepsilon_{kl} + E_{\\mathrm{T}} (  \\frac{3}{10}  \\delta_{ik} \\delta_{jl} + \\frac{3}{10} \\delta_{il} \\delta_{jk} - \\frac{1}{5} \\delta_{ij}\\delta_{kl} ) \\varepsilon_{kl} = \\\\\n",
    "(\\frac{E \\nu}{1-\\nu^2} \\delta_{ij} \\delta_{kl} + \\frac{E }{2(1+\\nu)} (\\delta_{ik} \\delta_{jl} + \\delta_{il} \\delta_{jk}))\\varepsilon_{kl}  \\hspace{1cm} (17)\n",
    "\\end{equation}\n",
    "\n",
    "\n"
   ],
   "metadata": {
    "collapsed": false
   }
  },
  {
   "cell_type": "markdown",
   "source": [
    "\\begin{equation}\n",
    "\\frac{1}{5} E_{\\mathrm{N}} - \\frac{1}{5} E_{\\mathrm{T}} = \\frac{E \\nu}{1-\\nu^2} \\\\\n",
    "\\frac{1}{5} E_{\\mathrm{N}} + \\frac{3}{10} E_{\\mathrm{T}} = \\frac{E }{2(1+\\nu)} \\hspace{1cm} (18)\n",
    "\\end{equation}\n"
   ],
   "metadata": {
    "collapsed": false
   }
  },
  {
   "cell_type": "markdown",
   "source": [
    "\\begin{equation}\n",
    "\\frac{1}{5} E_{\\mathrm{T}} + \\frac{E \\nu}{1-\\nu^2} + \\frac{3}{10} E_{\\mathrm{T}} = \\frac{E }{2(1+\\nu)} \\\\\n",
    "\\frac{1}{2} E_{\\mathrm{T}} = \\frac{E }{2(1+\\nu)} - \\frac{E \\nu}{(1+\\nu)(1-\\nu)} \\\\\n",
    "\\frac{1}{2} E_{\\mathrm{T}} = \\frac{E(1-\\nu) -2E \\nu }{2(1+\\nu)(1-\\nu)} \\\\\n",
    " E_{\\mathrm{T}} = \\frac{E(1-3\\nu) }{(1+\\nu)(1-\\nu)} \\hspace{1cm} (19)\n",
    "\\end{equation}\n"
   ],
   "metadata": {
    "collapsed": false
   }
  },
  {
   "cell_type": "markdown",
   "source": [
    "\\begin{equation}\n",
    "\\frac{1}{5} E_{\\mathrm{N}} = \\frac{E \\nu}{1-\\nu^2} + \\frac{E(1-3\\nu) }{5(1-\\nu^2)} \\\\\n",
    "E_{\\mathrm{N}} = \\frac{5 E \\nu + E(1-3\\nu)}{(1-\\nu^2)}  \\\\\n",
    "E_{\\mathrm{N}} = \\frac{E(1+2\\nu)}{(1-\\nu^2)} \\hspace{1cm} (20)\n",
    "\\end{equation}\n",
    "\n",
    "Applying implemented beta_ijkl integration scheme - integrating E_N, E_T over all microplanes - not getting macroscopic elastic stiffness tensor. Check\n",
    "\n"
   ],
   "metadata": {
    "collapsed": false
   }
  },
  {
   "cell_type": "markdown",
   "source": [],
   "metadata": {
    "collapsed": false,
    "pycharm": {
     "name": "#%% md\n"
    }
   }
  },
  {
   "cell_type": "markdown",
   "source": [],
   "metadata": {
    "collapsed": false
   }
  },
  {
   "cell_type": "code",
   "execution_count": null,
   "outputs": [],
   "source": [],
   "metadata": {
    "collapsed": false,
    "pycharm": {
     "name": "#%%\n"
    }
   }
  },
  {
   "cell_type": "markdown",
   "metadata": {
    "pycharm": {
     "name": "#%% md\n"
    }
   },
   "source": []
  },
  {
   "cell_type": "code",
   "execution_count": null,
   "metadata": {},
   "outputs": [],
   "source": []
  }
 ],
 "metadata": {
  "kernelspec": {
   "name": "pycharm-9e2b7b8c",
   "language": "python",
   "display_name": "PyCharm (bmcs_matmod)"
  },
  "language_info": {
   "codemirror_mode": {
    "name": "ipython",
    "version": 3
   },
   "file_extension": ".py",
   "mimetype": "text/x-python",
   "name": "python",
   "nbconvert_exporter": "python",
   "pygments_lexer": "ipython3",
   "version": "3.7.6"
  },
  "toc": {
   "base_numbering": 1,
   "nav_menu": {},
   "number_sections": true,
   "sideBar": true,
   "skip_h1_title": true,
   "title_cell": "Table of Contents",
   "title_sidebar": "Contents",
   "toc_cell": false,
   "toc_position": {
    "height": "calc(100% - 180px)",
    "left": "10px",
    "top": "150px",
    "width": "165px"
   },
   "toc_section_display": true,
   "toc_window_display": true
  }
 },
 "nbformat": 4,
 "nbformat_minor": 1
}