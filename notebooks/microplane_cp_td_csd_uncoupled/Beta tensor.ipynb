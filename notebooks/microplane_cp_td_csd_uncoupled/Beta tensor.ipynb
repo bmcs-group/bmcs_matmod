{
 "cells": [
  {
   "cell_type": "markdown",
   "metadata": {
    "collapsed": true,
    "pycharm": {
     "name": "#%% md\n"
    }
   },
   "source": [
    "# Derivation of macroscopic 4th order intergrity tensor $\\beta$ in terms of microplanes integrity variables\n"
   ]
  },
  {
   "cell_type": "markdown",
   "metadata": {
    "pycharm": {
     "name": "#%% md\n"
    }
   },
   "source": [
    "Thermodynamic derivation\n",
    "\n",
    "\\begin{equation}\n",
    "\\psi^{mac} = \\frac{3}{2\\pi} \\int_{\\Omega} \\psi^{mic} d\\Omega \n",
    "\\label{eq:psi_mac_mic}\n",
    "\\end{equation}\n",
    "\n"
   ]
  },
  {
   "cell_type": "markdown",
   "metadata": {
    "pycharm": {
     "name": "#%% md\n"
    }
   },
   "source": [
    "\n",
    "\\begin{equation}\n",
    "\\sigma_{ij} = \\frac{\\partial(\\rho_0\\psi^{mac})}{\\partial\\varepsilon_{ij}} = \\frac{3}{2\\pi} \\int_{\\Omega} \\frac{\\partial(\\rho_0\\psi^{mic})}{\\partial\\varepsilon_{ij}} d\\Omega  = \\frac{3}{2\\pi} \\int_{\\Omega} \\frac{\\partial(\\rho_0\\psi^{mic}_\\mathrm{N})}{\\partial\\varepsilon_{ij}} d\\Omega  + \\frac{3}{2\\pi} \\int_{\\Omega} \\frac{\\partial(\\rho_0\\psi^{mic}_\\mathrm{T})}{\\partial\\varepsilon_{ij}} d\\Omega\n",
    "\\label{eq:sigma_psi_mac}\n",
    "\\end{equation}\n",
    "\n"
   ]
  },
  {
   "cell_type": "markdown",
   "metadata": {
    "pycharm": {
     "name": "#%% md\n"
    }
   },
   "source": [
    "Applying the chain rule on the right handside\n",
    "\\begin{equation}\n",
    "\\frac{3}{2\\pi} \\int_{\\Omega} \\frac{\\partial(\\rho_0\\psi^{mic}_\\mathrm{N})}{\\partial\\varepsilon_{ij}} d\\Omega  + \\frac{3}{2\\pi} \\int_{\\Omega} \\frac{\\partial(\\rho_0\\psi^{mic}_\\mathrm{T})}{\\partial\\varepsilon_{ij}} d\\Omega = \\frac{3}{2\\pi} \\int_{\\Omega} \n",
    "\\frac{\\partial(\\rho_0\\psi^{mic}_\\mathrm{N})}{\\partial\\varepsilon_\\mathrm{N}} \\frac{\\partial\\varepsilon_\\mathrm{N}} {\\partial\\varepsilon_{ij}} d\\Omega  + \\frac{3}{2\\pi} \\int_{\\Omega} \\frac{\\partial(\\rho_0\\psi^{mic}_\\mathrm{T})}{\\partial\\varepsilon_{\\mathrm{T}_r}} \\frac{\\partial\\varepsilon_{\\mathrm{T}_r}} {\\partial\\varepsilon_{ij}} d\\Omega\n",
    "\\end{equation}\n",
    "\n"
   ]
  },
  {
   "cell_type": "markdown",
   "metadata": {
    "pycharm": {
     "name": "#%% md\n"
    }
   },
   "source": [
    "Applying the kinematic constraint\n",
    "\\begin{equation}\n",
    "\\frac{3}{2\\pi} \\int_{\\Omega} \\frac{\\partial(\\rho_0\\psi^{mic}_\\mathrm{N})}{\\partial\\varepsilon_\\mathrm{N}} \\frac{\\partial\\varepsilon_\\mathrm{N}} {\\partial\\varepsilon_{ij}} d\\Omega  + \\frac{3}{2\\pi} \\int_{\\Omega} \\frac{\\partial(\\rho_0\\psi^{mic}_\\mathrm{T})}{\\partial\\varepsilon_{\\mathrm{T}_r}} \\frac{\\partial\\varepsilon_{\\mathrm{T}_r}} {\\partial\\varepsilon_{ij}} d\\Omega = \n",
    "\\frac{3}{2\\pi} \\int_{\\Omega} \\frac{\\partial(\\rho_0\\psi^{mic}_\\mathrm{N})}{\\partial\\varepsilon_\\mathrm{N}} N_{ij} d\\Omega  + \\frac{3}{2\\pi} \\int_{\\Omega} \\frac{\\partial(\\rho_0\\psi^{mic}_\\mathrm{T})}{\\partial\\varepsilon_{\\mathrm{T}_r}} T_{rij} d\\Omega\n",
    "\\end{equation}\n",
    "\n"
   ]
  },
  {
   "cell_type": "markdown",
   "metadata": {
    "pycharm": {
     "name": "#%% md\n"
    }
   },
   "source": [
    "\\begin{equation}\n",
    "\\frac{3}{2\\pi} \\int_{\\Omega} \\frac{\\partial(\\rho_0\\psi^{mic}_\\mathrm{N})}{\\partial\\varepsilon_\\mathrm{N}} N_{ij} d\\Omega  + \\frac{3}{2\\pi} \\int_{\\Omega} \\frac{\\partial(\\rho_0\\psi^{mic}_\\mathrm{T})}{\\partial\\varepsilon_{\\mathrm{T}_r}} T_{rij} d\\Omega = \n",
    "\\frac{3}{2\\pi} \\int_{\\Omega} \\sigma_\\mathrm{N} N_{ij} d\\Omega  + \\frac{3}{2\\pi} \\int_{\\Omega} \\sigma_{\\mathrm{T}_r} T_{rij} d\\Omega \n",
    "\\end{equation}\n",
    "\n"
   ]
  },
  {
   "cell_type": "markdown",
   "metadata": {
    "pycharm": {
     "name": "#%% md\n"
    }
   },
   "source": [
    "So that remains: \n",
    "\n",
    "\\begin{equation}\n",
    "\\sigma_{ij}=\n",
    "\\frac{3}{2\\pi} \\int_{\\Omega} \\sigma_\\mathrm{N} N_{ij} d\\Omega  + \\frac{3}{2\\pi} \\int_{\\Omega} \\sigma_{\\mathrm{T}_r} T_{rij} d\\Omega \n",
    "\\label{eq:sigma_mac_sigma_mic}\n",
    "\\end{equation}\n",
    "\n"
   ]
  },
  {
   "cell_type": "markdown",
   "metadata": {
    "pycharm": {
     "name": "#%% md\n"
    }
   },
   "source": [
    "with:\n",
    "\n",
    "\\begin{equation}\n",
    "N_{ij}= n_i n_j\\\\\n",
    "T_{rij}= \\frac{1}{2}(n_i \\delta_{jr} + n_j \\delta_{ir} - 2 n_i n_j n_r)\n",
    "\\end{equation}\n",
    "\n"
   ]
  },
  {
   "cell_type": "markdown",
   "metadata": {
    "pycharm": {
     "name": "#%% md\n"
    }
   },
   "source": [
    "Applying principle of energy equivalence: \n",
    "\n",
    "\\begin{equation}\n",
    "\\sigma_{ij}= \\beta_{ijkl} \\tilde{\\sigma}_{kl} =\n",
    "\\frac{3}{2\\pi} \\int_{\\Omega} \\beta_\\mathrm{N} \\tilde{\\sigma}_\\mathrm{N} N_{ij} d\\Omega  + \\frac{3}{2\\pi} \\int_{\\Omega} \\beta_\\mathrm{T} \\tilde{\\sigma}_{\\mathrm{T}_r} T_{rij} d\\Omega \n",
    "\\label{eq:sigma_mac_sigma_mic}\n",
    "\\end{equation}"
   ]
  },
  {
   "cell_type": "markdown",
   "metadata": {
    "pycharm": {
     "name": "#%% md\n"
    }
   },
   "source": [
    "\\begin{equation}\n",
    "\\beta_{ijkl} \\tilde{\\sigma}_{kl} = \\beta_{ijkl} C_{klij} \\beta_{klij} \\varepsilon_{kl} = \n",
    "\\frac{3}{2\\pi} \\int_{\\Omega} \\beta_\\mathrm{N} E_\\mathrm{N} \\beta_\\mathrm{N} \\varepsilon_\\mathrm{N} N_{ij} d\\Omega  + \\frac{3}{2\\pi} \\int_{\\Omega} \\beta_\\mathrm{T} E_\\mathrm{T} \\beta_\\mathrm{T}\\varepsilon_{\\mathrm{T}_r} T_{rij} d\\Omega \n",
    "\\label{eq:sigma_mac_sigma_mic}\n",
    "\\end{equation}"
   ]
  },
  {
   "cell_type": "markdown",
   "metadata": {
    "pycharm": {
     "name": "#%% md\n"
    }
   },
   "source": [
    "Applying the kinematic constraint on the righthandside: \n",
    "\n",
    "\\begin{equation}\n",
    "\\frac{3}{2\\pi} \\int_{\\Omega} \\beta_\\mathrm{N} E_\\mathrm{N} \\beta_\\mathrm{N} \\varepsilon_{kl} n_k n_l N_{ij} d\\Omega  + \n",
    "\\frac{3}{2\\pi} \\int_{\\Omega} \\beta_\\mathrm{T} E_\\mathrm{T} \\beta_\\mathrm{T} \\frac{1}{2} (n_k \\delta_{lr} + n_l \\delta_{kr} - 2 n_k n_l n_r) T_{rij} d\\Omega \n",
    "\\end{equation}\n",
    "\n"
   ]
  },
  {
   "cell_type": "markdown",
   "metadata": {
    "pycharm": {
     "name": "#%% md\n"
    }
   },
   "source": [
    "\\begin{equation}\n",
    "\\frac{3}{2\\pi} \\int_{\\Omega} \\beta_\\mathrm{N} E_\\mathrm{N} \\beta_\\mathrm{N} \\varepsilon_{kl} n_k n_l n_i n_j d\\Omega  + \n",
    "\\frac{3}{2\\pi} \\int_{\\Omega} \\beta_\\mathrm{T} E_\\mathrm{T} \\beta_\\mathrm{T} \\varepsilon_{kl} \\frac{1}{4}(n_k \\delta_{lr} + n_l \\delta_{kr} - 2 n_k n_l n_r)(n_i \\delta_{jr} + n_j \\delta_{ir} - 2 n_i n_j n_r) d\\Omega \n",
    "\\end{equation}\n",
    "\n"
   ]
  },
  {
   "cell_type": "markdown",
   "metadata": {
    "pycharm": {
     "name": "#%% md\n"
    }
   },
   "source": [
    "\\begin{equation}\n",
    "\\beta_{ijkl} C_{klij} \\beta_{klij} = \\frac{3}{2\\pi} \\int_{\\Omega} \\beta_\\mathrm{N} E_\\mathrm{N} \\beta_\\mathrm{N} n_k n_l n_i n_j d\\Omega  + \n",
    "\\frac{3}{2\\pi} \\int_{\\Omega} \\beta_\\mathrm{T} E_\\mathrm{T} \\beta_\\mathrm{T} \\frac{1}{4}(n_k \\delta_{lr} + n_l \\delta_{kr} - 2 n_k n_l n_r)(n_i \\delta_{jr} + n_j \\delta_{ir} - 2 n_i n_j n_r) d\\Omega \n",
    "\\end{equation}\n",
    "\n"
   ]
  },
  {
   "cell_type": "markdown",
   "metadata": {
    "pycharm": {
     "name": "#%% md\n"
    }
   },
   "source": [
    "First term of rigghthandside:\n",
    "\n",
    "\\begin{equation}\n",
    "\\frac{3}{2\\pi} \\int_{\\Omega} \\beta_\\mathrm{N} E_\\mathrm{N} \\beta_\\mathrm{N} n_k n_l n_i n_j d\\Omega \n",
    "\\end{equation}\n",
    "\n"
   ]
  },
  {
   "cell_type": "markdown",
   "metadata": {
    "pycharm": {
     "name": "#%% md\n"
    }
   },
   "source": [
    "Working with effective strains, might simplify later steps:\n",
    "\n",
    "\\begin{equation}\n",
    "\\beta_{ijkl} C_{klij} \\tilde{\\varepsilon}_{ij} = \n",
    "\\frac{3}{2\\pi} \\int_{\\Omega} \\beta_\\mathrm{N} E_\\mathrm{N} \\tilde{\\varepsilon}_\\mathrm{N} N_{ij} d\\Omega  + \\frac{3}{2\\pi} \\int_{\\Omega} \\beta_\\mathrm{T} E_\\mathrm{T} \\tilde{\\varepsilon}_{\\mathrm{T}_r} T_{rij} d\\Omega \n",
    "\\end{equation}\n",
    "\n"
   ]
  },
  {
   "cell_type": "markdown",
   "metadata": {
    "pycharm": {
     "name": "#%% md\n"
    }
   },
   "source": [
    "\n",
    "\\begin{equation}\n",
    "\\frac{3}{2\\pi} \\int_{\\Omega} \\beta_\\mathrm{N} E_\\mathrm{N} \\tilde{\\varepsilon}_{kl} n_k n_l n_i n_j d\\Omega  + \n",
    "\\frac{3}{2\\pi} \\int_{\\Omega} \\beta_\\mathrm{T} E_\\mathrm{T}\\tilde{\\varepsilon}_{kl} \\frac{1}{4}(n_k \\delta_{lr} + n_l \\delta_{kr} - 2 n_k n_l n_r)(n_i \\delta_{jr} + n_j \\delta_{ir} - 2 n_i n_j n_r) d\\Omega \n",
    "\\end{equation}\n",
    "\n"
   ]
  },
  {
   "cell_type": "markdown",
   "metadata": {
    "pycharm": {
     "name": "#%% md\n"
    }
   },
   "source": [
    "Can not simplfy this, wrong perpective"
   ]
  },
  {
   "cell_type": "markdown",
   "metadata": {
    "pycharm": {
     "name": "#%% md\n"
    }
   },
   "source": [
    "Can be proven how this is correct, from Carol and Bazant, Damage and plasticity in microplane theory, eq 4.\n",
    "\n",
    "\\begin{equation}\n",
    "\\varepsilon_{ij} = \\frac{3}{2\\pi} \\int_{\\Omega} \\varepsilon_{\\mathrm{N}} n_i n_j d\\Omega + \\frac{3}{2\\pi} \\int_{\\Omega} \\frac{\\varepsilon_{\\mathrm{T}_r}}{2} (n_i \\delta_{rj} + n_j \\delta_{ri}) d\\Omega \\hspace{1cm}\n",
    "\\label{eq:epsilon_ij}\n",
    "\\end{equation}\n",
    "\n"
   ]
  },
  {
   "cell_type": "markdown",
   "metadata": {
    "pycharm": {
     "name": "#%% md\n"
    }
   },
   "source": [
    "Applying principle of energy equivalence:\n",
    "\n",
    "\n",
    "\\begin{equation}\n",
    "\\beta_{klij} \\tilde{\\varepsilon}_{kl} = \n",
    "\\frac{3}{2\\pi} \\int_{\\Omega} \\beta_\\mathrm{N} \\tilde{\\varepsilon}_{\\mathrm{N}} n_i n_j d\\Omega  + \n",
    "\\frac{3}{2\\pi} \\int_{\\Omega} \\beta_\\mathrm{T} \\tilde{\\varepsilon}_{\\mathrm{T}} (n_i \\delta_{rj} + n_j \\delta_{ri}) d\\Omega \n",
    "\\end{equation}\n",
    "\n"
   ]
  },
  {
   "cell_type": "markdown",
   "metadata": {
    "pycharm": {
     "name": "#%% md\n"
    }
   },
   "source": [
    "Applying kinematic constraint: \n",
    "\n",
    "\n",
    "\\begin{equation}\n",
    "\\beta_{klij} \\tilde{\\varepsilon}_{kl} = \n",
    "\\frac{3}{2\\pi} \\int_{\\Omega} \\beta_\\mathrm{N} \\tilde{\\varepsilon}_{kl} n_k n_l n_i n_j d\\Omega  + \n",
    "\\frac{3}{2\\pi} \\int_{\\Omega} \\beta_\\mathrm{T} \\tilde{\\varepsilon}_{kl} \\frac{1}{4}(n_k \\delta_{lr} + n_l \\delta_{kr} - 2 n_k n_l n_r)(n_i \\delta_{rj} + n_j \\delta_{ri}) d\\Omega \n",
    "\\end{equation}\n",
    "\n"
   ]
  },
  {
   "cell_type": "markdown",
   "metadata": {
    "pycharm": {
     "name": "#%% md\n"
    }
   },
   "source": [
    "Simplifying: \n",
    "\n",
    "\n",
    "\\begin{equation}\n",
    "\\beta_{klij}  = \n",
    "\\frac{3}{2\\pi} \\int_{\\Omega} \\beta_\\mathrm{N}  n_k n_l n_i n_j d\\Omega  + \n",
    "\\frac{3}{2\\pi} \\int_{\\Omega} \\beta_\\mathrm{T}  \\frac{1}{4}(n_k \\delta_{lr} + n_l \\delta_{kr} - 2 n_k n_l n_r)(n_i \\delta_{rj} + n_j \\delta_{ri}) d\\Omega \n",
    "\\end{equation}\n",
    "\n"
   ]
  },
  {
   "cell_type": "markdown",
   "metadata": {
    "pycharm": {
     "name": "#%% md\n"
    }
   },
   "source": [
    "\\begin{equation}\n",
    "\\beta_{klij}  = \n",
    "\\frac{3}{2\\pi} \\int_{\\Omega} \\beta_\\mathrm{N}  n_k n_l n_i n_j d\\Omega  + \n",
    "\\frac{3}{2\\pi} \\int_{\\Omega} \\beta_\\mathrm{T}  \\frac{1}{4}(n_k n_i \\delta_{lj} + n_k n_j \\delta_{li} + n_l n_i \\delta_{kj} + n_l n_i \\delta_{ki} - 4 n_k n_l n_j n_i) d\\Omega \n",
    "\\end{equation}\n",
    "\n",
    "## This can be evaluated numerically following analog process, as for E_T, E_N"
   ]
  },
  {
   "cell_type": "markdown",
   "metadata": {
    "pycharm": {
     "name": "#%% md\n"
    }
   },
   "source": [
    "## Beta tensor for V,D,T split"
   ]
  },
  {
   "cell_type": "markdown",
   "metadata": {
    "pycharm": {
     "name": "#%% md\n"
    }
   },
   "source": [
    "\\begin{equation}\n",
    "\\varepsilon_{\\mathrm{N}} = \\varepsilon_{\\mathrm{V}} +\\varepsilon_{\\mathrm{D}}\n",
    "\\end{equation}\n",
    "\n"
   ]
  },
  {
   "cell_type": "markdown",
   "metadata": {
    "pycharm": {
     "name": "#%% md\n"
    }
   },
   "source": [
    "Kinematic constraint\n",
    "\n",
    "\\begin{equation}\n",
    "\\varepsilon_{\\mathrm{V}} = \\frac{\\delta_{ij}}{3}\\varepsilon_{ij} \n",
    "\\end{equation}\n",
    "\n"
   ]
  },
  {
   "cell_type": "markdown",
   "metadata": {
    "pycharm": {
     "name": "#%% md\n"
    }
   },
   "source": [
    "\\begin{equation}\n",
    "\\varepsilon_{\\mathrm{D}} = \\left( n_i n_j - \\frac{\\delta_{ij}}{3} \\right) \\varepsilon_{ij} \n",
    "\\end{equation}\n",
    "\n"
   ]
  },
  {
   "cell_type": "markdown",
   "metadata": {
    "pycharm": {
     "name": "#%% md\n"
    }
   },
   "source": [
    "\\begin{equation}\n",
    "\\varepsilon_{ij} = \\frac{3}{2\\pi} \\int_{\\Omega} (\\varepsilon_{\\mathrm{V}} +\\varepsilon_{\\mathrm{D}}) n_i n_j d\\Omega + \\frac{3}{2\\pi} \\int_{\\Omega} \\frac{\\varepsilon_{\\mathrm{T}_r}}{2} (n_i \\delta_{rj} + n_j \\delta_{ri}) d\\Omega \\hspace{1cm}\n",
    "\\end{equation}\n",
    "\n"
   ]
  },
  {
   "cell_type": "markdown",
   "metadata": {
    "pycharm": {
     "name": "#%% md\n"
    }
   },
   "source": [
    "\\begin{equation}\n",
    "\\beta_{klij} \\tilde{\\varepsilon}_{kl}  = \\frac{3}{2\\pi} \\int_{\\Omega} (\\beta_\\mathrm{V} \\tilde{\\varepsilon}_{\\mathrm{V}} +\\beta_\\mathrm{D} \\tilde{\\varepsilon}_{\\mathrm{D}}) n_i n_j d\\Omega + \\frac{3}{2\\pi} \\int_{\\Omega} \\frac{\\varepsilon_{\\mathrm{T}_r}}{2} (n_i \\delta_{rj} + n_j \\delta_{ri}) d\\Omega \\hspace{1cm}\n",
    "\\end{equation}\n",
    "\n"
   ]
  },
  {
   "cell_type": "markdown",
   "metadata": {
    "pycharm": {
     "name": "#%% md\n"
    }
   },
   "source": [
    "Considering first integral term\n",
    "\n",
    "\\begin{equation}\n",
    "\\frac{3}{2\\pi} \\int_{\\Omega} (\\beta_\\mathrm{V} \\tilde{\\varepsilon}_{\\mathrm{V}} +\\beta_\\mathrm{D} \\tilde{\\varepsilon}_{\\mathrm{D}}) n_i n_j d\\Omega = \n",
    "\\frac{3}{2\\pi} \\int_{\\Omega} \\beta_\\mathrm{V} \\frac{\\delta_{kl}}{3} \\tilde{\\varepsilon}_{kl} n_i n_j + \n",
    "\\frac{3}{2\\pi} \\int_{\\Omega} \\beta_\\mathrm{D}  \\left( n_k n_l - \\frac{\\delta_{kl}}{3} \\right) \\tilde{\\varepsilon}_{kl} n_i n_j d\\Omega = \n",
    "\\end{equation}\n",
    "\n"
   ]
  },
  {
   "cell_type": "markdown",
   "metadata": {
    "pycharm": {
     "name": "#%% md\n"
    }
   },
   "source": [
    "\n",
    "\\begin{equation}\n",
    "\\frac{\\beta_\\mathrm{V}}{3} \\delta_{kl} \\delta_{ij} \\tilde{\\varepsilon}_{kl} + \n",
    "\\frac{3}{2\\pi} \\int_{\\Omega} \\beta_\\mathrm{D}  \\left( n_k n_l - \\frac{\\delta_{kl}}{3} \\right) \\tilde{\\varepsilon}_{kl} n_i n_j d\\Omega\n",
    "\\end{equation}\n",
    "\n"
   ]
  },
  {
   "cell_type": "markdown",
   "metadata": {
    "pycharm": {
     "name": "#%% md\n"
    }
   },
   "source": [
    "Second term integram, equivalent as for T,N\n",
    "\\begin{equation}\n",
    "\\frac{3}{2\\pi} \\int_{\\Omega} \\frac{\\varepsilon_{\\mathrm{T}_r}}{2} (n_i \\delta_{rj} + n_j \\delta_{ri}) d\\Omega = \n",
    "\\frac{3}{2\\pi} \\int_{\\Omega} \\beta_\\mathrm{T} \\tilde{\\varepsilon}_{kl} \\frac{1}{4}(n_k n_i \\delta_{lj} + n_k n_j \\delta_{li} + n_l n_i \\delta_{kj} + n_l n_i \\delta_{ki} - 4 n_k n_l n_j n_i) d\\Omega \n",
    "\\end{equation}\n",
    "\n"
   ]
  },
  {
   "cell_type": "markdown",
   "metadata": {
    "pycharm": {
     "name": "#%% md\n"
    }
   },
   "source": [
    "Then:\n",
    "\n",
    "\\begin{equation}\n",
    "\\beta_{klij} =\n",
    "\\frac{\\beta_\\mathrm{V}}{3} \\delta_{kl} \\delta_{ij} + \n",
    "\\frac{3}{2\\pi} \\int_{\\Omega} \\beta_\\mathrm{D}  \\left( n_k n_l - \\frac{\\delta_{kl}}{3} \\right) n_i n_j d\\Omega +\n",
    "\\frac{3}{2\\pi} \\int_{\\Omega} \\beta_\\mathrm{T} \\frac{1}{4}(n_k n_i \\delta_{lj} + n_k n_j \\delta_{li} + n_l n_i \\delta_{kj} + n_l n_i \\delta_{ki} - 4 n_k n_l n_j n_i) d\\Omega \n",
    "\\end{equation}\n",
    "\n"
   ]
  },
  {
   "cell_type": "markdown",
   "metadata": {
    "pycharm": {
     "name": "#%% md\n"
    }
   },
   "source": [
    "## After here derivation from paper for E_T and E_N, just for copy-paste\n",
    "PvW\n",
    "\n",
    "\\begin{equation}\n",
    "\\varepsilon_{ij} = \\frac{3}{4\\pi} \\int_{\\Omega} \\varepsilon_{\\mathrm{N}} n_i n_j d\\Omega + \\frac{3}{4\\pi} \\int_{\\Omega} \\frac{\\varepsilon_{\\mathrm{T}_r}}{2} (n_i \\delta_{rj} + n_j \\delta_{ri}) d\\Omega \\hspace{1cm}\n",
    "\\label{eq:epsilon_ij}\n",
    "\\end{equation}\n",
    "\n",
    "NOTE: Bazant integrates over half of the domain, one has to substitute 2$\\pi$ with 4$\\pi$."
   ]
  },
  {
   "cell_type": "markdown",
   "metadata": {
    "pycharm": {
     "name": "#%% md\n"
    }
   },
   "source": [
    "Definition of\n",
    "\\begin{align}\n",
    "\\label{eq:sigma_NT}\n",
    "\\sigma_{\\mathrm{N}} &= E_{\\mathrm{N}} \\varepsilon_{\\mathrm{N}}\\\\\n",
    "\\nonumber\n",
    "\\sigma_{\\mathrm{T}} &= E_{\\mathrm{T}} \\varepsilon_{\\mathrm{T}}\n",
    "\\end{align}"
   ]
  },
  {
   "cell_type": "markdown",
   "metadata": {
    "pycharm": {
     "name": "#%% md\n"
    }
   },
   "source": [
    "Projections  of the strain tensor onto microplanes, normal and tangential direction\n",
    "\\begin{align}\n",
    "\\label{eq:epsilon_NT}\n",
    "\\varepsilon_{\\mathrm{N}} &= \\varepsilon_{ij} n_i n_j \\\\\n",
    "\\varepsilon_{\\mathrm{T}_r} &= \\frac{1}{2}(n_i \\delta_{jr} + n_j \\delta_{ir} - 2 n_i n_j n_r) \\varepsilon_{ij} \\nonumber\n",
    "\\end{align}"
   ]
  },
  {
   "cell_type": "markdown",
   "metadata": {
    "pycharm": {
     "name": "#%% md\n"
    }
   },
   "source": [
    "Substituting backwards (\\ref{eq:epsilon_NT}) in (\\ref{eq:sigma_NT}), then in (\\ref{eq:sigma_ij}).\n",
    "\n",
    "**ATTENTION:** I chose the subindices in such a way that the $i$ and $j$ from (\\ref{eq:sigma_ij}) are maintained, then the indexes $i$ and $j$ from (\\ref{eq:epsilon_NT}) are substituted with $k$ and $l$. Index $r$ is kept as $r$ in both (\\ref{eq:sigma_ij}) and (\\ref{eq:epsilon_NT}). Not sure about this, I am actually critical about it. If one follows same criteria and substitutes $r$ with $o$ ,for instance, in (\\ref{eq:epsilon_NT}), then I am not able to derive something useful, but might be the right way to proceed.\n",
    "\n",
    "\\begin{align}\n",
    "\\sigma_{ij} &= \\frac{3}{4\\pi} \\int_{\\Omega} E_{\\mathrm{N}} \\: \\varepsilon_{kl} \\: n_k \\: n_l \\: n_i \\: n_j \\: d\\Omega \\\\ &+ \\frac{3}{4\\pi} \\int_{\\Omega} \\frac{1}{4} (n_k \\delta_{lr} + n_l \\delta_{kr} - 2 n_k n_l n_r) E_{\\mathrm{T}} \\: \\varepsilon_{kl} (n_i \\delta_{rj} + n_j \\delta_{ri}) d\\Omega \\hspace{1cm}\n",
    "\\nonumber\n",
    "\\end{align}"
   ]
  },
  {
   "cell_type": "markdown",
   "metadata": {},
   "source": [
    "**Remark**: [rch] I'd say that it is correct to keep $r$ representing the microplane index synchronous within this substitution. $r$ must contract - meaning the multiplication of the respective stress and strain vectors within a single microplane. Using $o$ would expand the dimensions and this would really make no sense. I think what you did is correct!"
   ]
  },
  {
   "cell_type": "markdown",
   "metadata": {
    "pycharm": {
     "name": "#%% md\n"
    }
   },
   "source": [
    "Integral expressions coming from Lubanda & Krajcinovic DAMAGE TENSORS AND THE CRACK DENSITY DISTRIBUTION 92, picking $\\Omega = 4\\pi$\n",
    "\n",
    "\\begin{equation}\n",
    "\\label{eq:N_ij}\n",
    "\\int_{\\Omega}  n_i  n_j  d\\Omega = \\frac{4\\pi}{3} \\delta_{ij} \\hspace{1cm} \n",
    "\\end{equation}\n",
    "\n",
    "\\begin{equation}\n",
    "\\label{eq:N_ijkl}\n",
    "\\int_{\\Omega}  n_i  n_j n_k n_l  d\\Omega = \\frac{4\\pi}{15} (\\delta_{ij}\\delta_{kl} + \\delta_{ik}\\delta_{jl} + \\delta_{il} \\delta_{jk}) \\hspace{1cm}\n",
    "\\end{equation}"
   ]
  },
  {
   "cell_type": "markdown",
   "metadata": {
    "pycharm": {
     "name": "#%% md\n"
    }
   },
   "source": [
    "Starting with first term of eq. 4) and exploting 6). $E_{\\mathrm{N}}$ and $\\varepsilon_{kl}$ go out of the integral.\n",
    "\n",
    "\\begin{equation}\n",
    "\\frac{3}{4\\pi} \\int_{\\Omega} E_{\\mathrm{N}} \\: \\varepsilon_{kl} \\: n_k \\: n_l \\: n_i \\: n_j \\: d\\Omega = \\\\\n",
    "\\frac{3}{4\\pi} E_{\\mathrm{N}} \\: \\varepsilon_{kl} (\\frac{4\\pi}{15} (\\delta_{ij}\\delta_{kl} + \\delta_{ik}\\delta_{jl} + \\delta_{il} \\delta_{jk})) = \\\\\n",
    "\\frac{1}{5} E_{\\mathrm{N}} \\: \\varepsilon_{kl} (\\delta_{ij}\\delta_{kl} + \\delta_{ik}\\delta_{jl} + \\delta_{il} \\delta_{jk}) \\hspace{1cm} (7)\n",
    "\\end{equation}\n"
   ]
  },
  {
   "cell_type": "markdown",
   "metadata": {
    "pycharm": {
     "name": "#%% md\n"
    }
   },
   "source": [
    "Second term of the integral eq. 4).  $E_{\\mathrm{T}}$ and $\\varepsilon_{kl}$ go out of the integral.\n",
    "\n",
    "\\begin{equation}\n",
    "\\frac{3}{16\\pi} E_{\\mathrm{T}} \\: \\varepsilon_{kl} \\int_{\\Omega} (n_k \\delta_{lr} + n_l \\delta_{kr} - 2 n_k n_l n_r) (n_i \\delta_{rj} + n_j \\delta_{ri}) d\\Omega = \\\\\n",
    "\\frac{3}{16\\pi} E_{\\mathrm{T}} \\: \\varepsilon_{kl} \\int_{\\Omega} (n_k \\delta_{lr} n_i \\delta_{rj} + n_l \\delta_{kr} n_i \\delta_{rj} - n_k n_l n_r n_i \\delta_{rj} + n_k \\delta_{lr} n_j \\delta_{ri} + n_l \\delta_{kr} n_j \\delta_{ri} - n_k n_l n_r n_j \\delta_{ri}) d\\Omega \\hspace{1cm} (8)\n",
    "\\end{equation}"
   ]
  },
  {
   "cell_type": "markdown",
   "metadata": {
    "pycharm": {
     "name": "#%% md\n"
    }
   },
   "source": [
    "Operating repeated indices:\n",
    "\n",
    "\\begin{equation}\n",
    "\\frac{3}{16\\pi} E_{\\mathrm{T}} \\: \\varepsilon_{kl} \\int_{\\Omega} (n_k \\delta_{jl} n_i + n_l \\delta_{jk} n_i - 2 n_k n_l n_j n_i + n_k \\delta_{il} n_j + n_l \\delta_{ik} n_j - 2 n_k n_l n_i n_j) d\\Omega \\hspace{1cm} (9)\n",
    "\\end{equation}"
   ]
  },
  {
   "cell_type": "markdown",
   "metadata": {},
   "source": [
    "Making use of eq. 5) and 6):\n",
    "\n",
    "\\begin{equation}\n",
    "\\frac{3}{16\\pi} E_{\\mathrm{T}} \\: \\varepsilon_{kl} ( \\frac{4\\pi}{3} \\delta_{ik} \\delta_{jl} + \\frac{4\\pi}{3} \\delta_{il} \\delta_{jk} - \\frac{8\\pi}{15} (\\delta_{ij}\\delta_{kl} + \\delta_{ik}\\delta_{jl} + \\delta_{il} \\delta_{jk}) + \\frac{4\\pi}{3} \\delta_{jk} \\delta_{il} + \\frac{4\\pi}{3} \\delta_{jl} \\delta_{ik} - \\frac{8\\pi}{15} (\\delta_{ij}\\delta_{kl} + \\delta_{ik}\\delta_{jl} + \\delta_{il} \\delta_{jk})) \\hspace{1cm} (10)\n",
    "\\end{equation}"
   ]
  },
  {
   "cell_type": "markdown",
   "metadata": {},
   "source": [
    "simplifying:\n",
    "\n",
    "\\begin{equation}\n",
    "\\frac{3}{16\\pi} E_{\\mathrm{T}} \\: \\varepsilon_{kl} ( \\frac{8\\pi}{3} \\delta_{ik} \\delta_{jl} + \\frac{8\\pi}{3} \\delta_{il} \\delta_{jk} - \\frac{16\\pi}{15} (\\delta_{ij}\\delta_{kl} + \\delta_{ik}\\delta_{jl} + \\delta_{il} \\delta_{jk}) \\\\\n",
    "E_{\\mathrm{T}} \\: \\varepsilon_{kl} ( \\frac{1}{2}  \\delta_{ik} \\delta_{jl} +  \\frac{1}{2} \\delta_{il} \\delta_{jk} - \\frac{1}{5} (\\delta_{ij}\\delta_{kl} + \\delta_{ik}\\delta_{jl} + \\delta_{il} \\delta_{jk}) \\\\\n",
    "E_{\\mathrm{T}} \\: \\varepsilon_{kl} (  \\frac{3}{10}  \\delta_{ik} \\delta_{jl} + \\frac{3}{10} \\delta_{il} \\delta_{jk} - \\frac{1}{5} \\delta_{ij}\\delta_{kl} )\\hspace{1cm} (11) \\\\\n",
    "\\end{equation}\n"
   ]
  },
  {
   "cell_type": "markdown",
   "metadata": {
    "pycharm": {
     "name": "#%% md\n"
    }
   },
   "source": [
    "(11) + (7), equating with definition 3D isotropic elastic stiffness tensor\n",
    "\n",
    "\\begin{equation}\n",
    "\\sigma_{ij} = \\frac{1}{5} E_{\\mathrm{N}}(\\delta_{ij}\\delta_{kl} + \\delta_{ik}\\delta_{jl} + \\delta_{il} \\delta_{jk})\\varepsilon_{kl} + E_{\\mathrm{T}} (  \\frac{3}{10}  \\delta_{ik} \\delta_{jl} + \\frac{3}{10} \\delta_{il} \\delta_{jk} - \\frac{1}{5} \\delta_{ij}\\delta_{kl} ) \\varepsilon_{kl} = \\\\\n",
    "(\\lambda \\delta_{ij} \\delta_{kl} + \\mu (\\delta_{ik} \\delta_{jl} + \\delta_{il} \\delta_{jk}))\\varepsilon_{kl}  \\hspace{1cm} (12)\n",
    "\\end{equation}"
   ]
  },
  {
   "cell_type": "markdown",
   "metadata": {
    "pycharm": {
     "name": "#%% md\n"
    }
   },
   "source": [
    "By parts:\n",
    "\n",
    "\\begin{equation}\n",
    "\\frac{1}{5} E_{\\mathrm{N}}\\delta_{ij}\\delta_{kl} - \\frac{1}{5} E_{\\mathrm{T}}   \\delta_{ij} \\delta_{kl} = \\lambda \\delta_{ij} \\delta_{kl} \\\\\n",
    "\\frac{1}{5} E_{\\mathrm{N}} - \\frac{1}{5} E_{\\mathrm{T}} = \\frac{E \\nu}{(1-2\\nu)(1+\\nu)} \\hspace{1cm} (13)\n",
    "\\end{equation}"
   ]
  },
  {
   "cell_type": "markdown",
   "metadata": {},
   "source": [
    "By parts:\n",
    "\n",
    "\\begin{equation}\n",
    "\\frac{3}{10} E_{\\mathrm{T}}   \\delta_{ik} \\delta_{jl} + \\frac{1}{5} E_{\\mathrm{N}}\\delta_{ik}\\delta_{jl} = \\lambda \\delta_{ij} \\delta_{kl} \\\\\n",
    "\\frac{1}{5} E_{\\mathrm{N}} + \\frac{3}{10} E_{\\mathrm{T}} = \\frac{E}{2(1+\\nu)} \\hspace{1cm} (14)\n",
    "\\end{equation}"
   ]
  },
  {
   "cell_type": "markdown",
   "metadata": {
    "pycharm": {
     "name": "#%% md\n"
    }
   },
   "source": [
    "Introducing 13) in 14)\n",
    "\n",
    "\\begin{equation}\n",
    "\\frac{3}{10} E_{\\mathrm{T}} + \\frac{1}{5} E_{\\mathrm{T}} + \\frac{E \\nu}{(1-2\\nu)(1+\\nu)} = \\frac{E}{2(1+\\nu)} \\\\\n",
    "\\frac{1}{2} E_{\\mathrm{T}}  = \\frac{E}{2(1+\\nu)} - \\frac{E \\nu}{(1-2\\nu)(1+\\nu)} \\\\\n",
    "\\frac{1}{2} E_{\\mathrm{T}}  = \\frac{E(1-2\\nu)-2E \\nu}{2(1+\\nu)(1-2\\nu)} \\\\\n",
    "E_{\\mathrm{T}}  = \\frac{E(1-4\\nu)}{(1+\\nu)(1-2\\nu)}   \\hspace{1cm} (15)\n",
    "\\end{equation}"
   ]
  },
  {
   "cell_type": "markdown",
   "metadata": {},
   "source": [
    "Introducing 15) in 13)\n",
    "\n",
    "\\begin{equation}\n",
    "\\frac{1}{5} E_{\\mathrm{N}} - \\frac{1}{5} \\frac{E(1-4\\nu)}{(1+\\nu)(1-2\\nu)}   = \\frac{E \\nu}{(1-2\\nu)(1+\\nu)} \\\\\n",
    "E_{\\mathrm{N}}  = \\frac{5E \\nu}{(1-2\\nu)(1+\\nu)} + \\frac{E(1-4\\nu)}{(1+\\nu)(1-2\\nu)} \\\\\n",
    "E_{\\mathrm{N}}  = \\frac{5E \\nu + E(1-4\\nu)}{(1-2\\nu)(1+\\nu)} \\\\\n",
    "E_{\\mathrm{N}}  = \\frac{5E \\nu + E - 4E\\nu}{(1-2\\nu)(1+\\nu)} \\\\\n",
    "E_{\\mathrm{N}}  = \\frac{E(1 + \\nu)}{(1-2\\nu)(1+\\nu)} \\\\\n",
    "E_{\\mathrm{N}}  = \\frac{E}{(1-2\\nu)} \\hspace{1cm} (16)\n",
    "\\end{equation}"
   ]
  },
  {
   "cell_type": "markdown",
   "metadata": {},
   "source": [
    "## 2D Case\n",
    "\n",
    "Starting from equilibrium between macro- and micro- stresses applying the principle of virtual work (weak form). Equation provided by Carol and Bazant at Damage and Plasticity in Microplane Theory 96.\n",
    "\n",
    "\\begin{equation}\n",
    "\\sigma_{ij} = \\frac{1}{\\pi} \\int_{\\Omega} \\sigma_{\\mathrm{N}} n_i n_j d\\Omega + \\frac{1}{\\pi} \\int_{\\Omega} \\frac{\\sigma_{\\mathrm{T}_r}}{2} (n_i \\delta_{rj} + n_j \\delta_{ri}) d\\Omega \\hspace{1cm}\n",
    "\\end{equation}"
   ]
  },
  {
   "cell_type": "markdown",
   "metadata": {
    "pycharm": {
     "name": "#%% md\n"
    }
   },
   "source": [
    "\\begin{align}\n",
    "\\sigma_{ij} = \\frac{1}{\\pi} \\int_{\\Omega} E_{\\mathrm{N}} \\: \\varepsilon_{kl} \\: n_k \\: n_l \\: n_i \\: n_j \\: d\\Omega + \\frac{1}{\\pi} \\int_{\\Omega} \\frac{1}{4} (n_k \\delta_{lr} + n_l \\delta_{kr} - 2 n_k n_l n_r) E_{\\mathrm{N}} \\: \\varepsilon_{kl} (n_i \\delta_{rj} + n_j \\delta_{ri}) d\\Omega\n",
    "\\end{align}\n",
    "\n"
   ]
  },
  {
   "cell_type": "markdown",
   "metadata": {},
   "source": [
    "Integral expressions coming from Lubanda & Krajcinovic DAMAGE TENSORS AND THE CRACK DENSITY DISTRIBUTION 92, picking $\\Omega = 4\\pi$\n",
    "\n",
    "\\begin{equation}\n",
    "\\int_{\\Omega}  n_i  n_j  d\\Omega = \\pi \\delta_{ij} \\hspace{1cm}\n",
    "\\end{equation}\n",
    "\n",
    "\\begin{equation}\n",
    "\\int_{\\Omega}  n_i  n_j n_k n_l  d\\Omega = \\frac{\\pi}{5} (\\delta_{ij}\\delta_{kl} + \\delta_{ik}\\delta_{jl} + \\delta_{il} \\delta_{jk}) \\hspace{1cm}\n",
    "\\end{equation}"
   ]
  },
  {
   "cell_type": "markdown",
   "metadata": {},
   "source": [
    "Starting with first term . $E_{\\mathrm{N}}$ and $\\varepsilon_{kl}$ go out of the integral.\n",
    "\n",
    "\\begin{equation}\n",
    "\\frac{1}{\\pi} \\int_{\\Omega} E_{\\mathrm{N}} \\: \\varepsilon_{kl} \\: n_k \\: n_l \\: n_i \\: n_j \\: d\\Omega = \\\\\n",
    "\\frac{1}{\\pi} E_{\\mathrm{N}} \\: \\varepsilon_{kl} (\\frac{\\pi}{5} (\\delta_{ij}\\delta_{kl} + \\delta_{ik}\\delta_{jl} + \\delta_{il} \\delta_{jk})) = \\\\\n",
    "\\frac{1}{5} E_{\\mathrm{N}} \\: \\varepsilon_{kl} (\\delta_{ij}\\delta_{kl} + \\delta_{ik}\\delta_{jl} + \\delta_{il} \\delta_{jk}) \\hspace{1cm} (7)\n",
    "\\end{equation}"
   ]
  },
  {
   "cell_type": "markdown",
   "metadata": {},
   "source": [
    "Second term of the integral eq. 4).  $E_{\\mathrm{T}}$ and $\\varepsilon_{kl}$ go out of the integral.\n",
    "\n",
    "\\begin{equation}\n",
    "\\frac{1}{4\\pi} E_{\\mathrm{T}} \\: \\varepsilon_{kl} \\int_{\\Omega} (n_k \\delta_{lr} + n_l \\delta_{kr} - 2 n_k n_l n_r) (n_i \\delta_{rj} + n_j \\delta_{ri}) d\\Omega = \\\\\n",
    "\\frac{1}{4\\pi} E_{\\mathrm{T}} \\: \\varepsilon_{kl} \\int_{\\Omega} (n_k \\delta_{lr} n_i \\delta_{rj} + n_l \\delta_{kr} n_i \\delta_{rj} - n_k n_l n_r n_i \\delta_{rj} + n_k \\delta_{lr} n_j \\delta_{ri} + n_l \\delta_{kr} n_j \\delta_{ri} - n_k n_l n_r n_j \\delta_{ri}) d\\Omega \\hspace{1cm} (8)\n",
    "\\end{equation}"
   ]
  },
  {
   "cell_type": "markdown",
   "metadata": {},
   "source": [
    "Operating repeated indices:\n",
    "\n",
    "\\begin{equation}\n",
    "\\frac{1}{4\\pi} E_{\\mathrm{T}} \\: \\varepsilon_{kl} \\int_{\\Omega} (n_k \\delta_{jl} n_i + n_l \\delta_{jk} n_i - 2 n_k n_l n_j n_i + n_k \\delta_{il} n_j + n_l \\delta_{ik} n_j - 2 n_k n_l n_i n_j) d\\Omega \\hspace{1cm} (9)\n",
    "\\end{equation}"
   ]
  },
  {
   "cell_type": "markdown",
   "metadata": {},
   "source": [
    "Making use of eq. 5) and 6):\n",
    "\n",
    "\\begin{equation}\n",
    "\\frac{1}{4\\pi} E_{\\mathrm{T}} \\: \\varepsilon_{kl} ( \\pi \\delta_{ik} \\delta_{jl} + \\pi \\delta_{il} \\delta_{jk} - \\frac{2\\pi}{5} (\\delta_{ij}\\delta_{kl} + \\delta_{ik}\\delta_{jl} + \\delta_{il} \\delta_{jk}) + \\pi \\delta_{jk} \\delta_{il} + \\pi \\delta_{jl} \\delta_{ik} - \\frac{2\\pi}{5} (\\delta_{ij}\\delta_{kl} + \\delta_{ik}\\delta_{jl} + \\delta_{il} \\delta_{jk})) \\hspace{1cm} (10)\n",
    "\\end{equation}"
   ]
  },
  {
   "cell_type": "markdown",
   "metadata": {},
   "source": [
    "simplifying:\n",
    "\n",
    "\\begin{equation}\n",
    "\\frac{1}{4\\pi} E_{\\mathrm{T}} \\: \\varepsilon_{kl} ( 2\\pi \\delta_{ik} \\delta_{jl} + 2\\pi \\delta_{il} \\delta_{jk} - \\frac{4\\pi}{5} (\\delta_{ij}\\delta_{kl} + \\delta_{ik}\\delta_{jl} + \\delta_{il} \\delta_{jk}) \\\\\n",
    "E_{\\mathrm{T}} \\: \\varepsilon_{kl} ( \\frac{1}{2}  \\delta_{ik} \\delta_{jl} +  \\frac{1}{2} \\delta_{il} \\delta_{jk} - \\frac{1}{5} (\\delta_{ij}\\delta_{kl} + \\delta_{ik}\\delta_{jl} + \\delta_{il} \\delta_{jk}) \\\\\n",
    "E_{\\mathrm{T}} \\: \\varepsilon_{kl} (  \\frac{3}{10}  \\delta_{ik} \\delta_{jl} + \\frac{3}{10} \\delta_{il} \\delta_{jk} - \\frac{1}{5} \\delta_{ij}\\delta_{kl} )\\hspace{1cm} (11) \\\\\n",
    "\\end{equation}"
   ]
  },
  {
   "cell_type": "markdown",
   "metadata": {},
   "source": [
    "(11) + (7), equating with definition 2D isotropic elastic stiffness tensor - plain stress\n",
    "\n",
    "\\begin{equation}\n",
    "\\sigma_{ij} = \\frac{1}{5} E_{\\mathrm{N}}(\\delta_{ij}\\delta_{kl} + \\delta_{ik}\\delta_{jl} + \\delta_{il} \\delta_{jk})\\varepsilon_{kl} + E_{\\mathrm{T}} (  \\frac{3}{10}  \\delta_{ik} \\delta_{jl} + \\frac{3}{10} \\delta_{il} \\delta_{jk} - \\frac{1}{5} \\delta_{ij}\\delta_{kl} ) \\varepsilon_{kl} = \\\\\n",
    "(\\frac{E \\nu}{1-\\nu^2} \\delta_{ij} \\delta_{kl} + \\frac{E }{2(1+\\nu)} (\\delta_{ik} \\delta_{jl} + \\delta_{il} \\delta_{jk}))\\varepsilon_{kl}  \\hspace{1cm} (17)\n",
    "\\end{equation}\n",
    "\n",
    "\n"
   ]
  },
  {
   "cell_type": "markdown",
   "metadata": {},
   "source": [
    "\\begin{equation}\n",
    "\\frac{1}{5} E_{\\mathrm{N}} - \\frac{1}{5} E_{\\mathrm{T}} = \\frac{E \\nu}{1-\\nu^2} \\\\\n",
    "\\frac{1}{5} E_{\\mathrm{N}} + \\frac{3}{10} E_{\\mathrm{T}} = \\frac{E }{2(1+\\nu)} \\hspace{1cm} (18)\n",
    "\\end{equation}\n"
   ]
  },
  {
   "cell_type": "markdown",
   "metadata": {},
   "source": [
    "\\begin{equation}\n",
    "\\frac{1}{5} E_{\\mathrm{T}} + \\frac{E \\nu}{1-\\nu^2} + \\frac{3}{10} E_{\\mathrm{T}} = \\frac{E }{2(1+\\nu)} \\\\\n",
    "\\frac{1}{2} E_{\\mathrm{T}} = \\frac{E }{2(1+\\nu)} - \\frac{E \\nu}{(1+\\nu)(1-\\nu)} \\\\\n",
    "\\frac{1}{2} E_{\\mathrm{T}} = \\frac{E(1-\\nu) -2E \\nu }{2(1+\\nu)(1-\\nu)} \\\\\n",
    " E_{\\mathrm{T}} = \\frac{E(1-3\\nu) }{(1+\\nu)(1-\\nu)} \\hspace{1cm} (19)\n",
    "\\end{equation}\n"
   ]
  },
  {
   "cell_type": "markdown",
   "metadata": {},
   "source": [
    "\\begin{equation}\n",
    "\\frac{1}{5} E_{\\mathrm{N}} = \\frac{E \\nu}{1-\\nu^2} + \\frac{E(1-3\\nu) }{5(1-\\nu^2)} \\\\\n",
    "E_{\\mathrm{N}} = \\frac{5 E \\nu + E(1-3\\nu)}{(1-\\nu^2)}  \\\\\n",
    "E_{\\mathrm{N}} = \\frac{E(1+2\\nu)}{(1-\\nu^2)} \\hspace{1cm} (20)\n",
    "\\end{equation}\n",
    "\n",
    "Applying implemented beta_ijkl integration scheme - integrating E_N, E_T over all microplanes - not getting macroscopic elastic stiffness tensor. Check\n",
    "\n"
   ]
  },
  {
   "cell_type": "markdown",
   "metadata": {
    "pycharm": {
     "name": "#%% md\n"
    }
   },
   "source": []
  },
  {
   "cell_type": "markdown",
   "metadata": {},
   "source": []
  },
  {
   "cell_type": "code",
   "execution_count": 0,
   "metadata": {
    "pycharm": {
     "name": "#%%\n"
    }
   },
   "outputs": [],
   "source": []
  },
  {
   "cell_type": "markdown",
   "metadata": {
    "pycharm": {
     "name": "#%% md\n"
    }
   },
   "source": []
  },
  {
   "cell_type": "code",
   "execution_count": 0,
   "metadata": {},
   "outputs": [],
   "source": []
  }
 ],
 "metadata": {
  "kernelspec": {
   "display_name": "Python [conda env:bmcs_env]",
   "language": "python",
   "name": "conda-env-bmcs_env-py"
  },
  "language_info": {
   "codemirror_mode": {
    "name": "ipython",
    "version": 3
   },
   "file_extension": ".py",
   "mimetype": "text/x-python",
   "name": "python",
   "nbconvert_exporter": "python",
   "pygments_lexer": "ipython3",
   "version": "3.9.1"
  },
  "toc": {
   "base_numbering": 1,
   "nav_menu": {},
   "number_sections": true,
   "sideBar": true,
   "skip_h1_title": true,
   "title_cell": "Table of Contents",
   "title_sidebar": "Contents",
   "toc_cell": false,
   "toc_position": {
    "height": "calc(100% - 180px)",
    "left": "10px",
    "top": "150px",
    "width": "165px"
   },
   "toc_section_display": true,
   "toc_window_display": true
  }
 },
 "nbformat": 4,
 "nbformat_minor": 1
}
