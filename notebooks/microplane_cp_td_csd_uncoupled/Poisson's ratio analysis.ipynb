{
 "cells": [
  {
   "cell_type": "code",
   "execution_count": 48,
   "metadata": {},
   "outputs": [],
   "source": [
    "import numpy as np\n"
   ]
  },
  {
   "cell_type": "markdown",
   "metadata": {
    "pycharm": {
     "name": "#%% md\n"
    }
   },
   "source": [
    "## Definition of elastic tensor, \\nu > 0.25"
   ]
  },
  {
   "cell_type": "code",
   "execution_count": 49,
   "metadata": {},
   "outputs": [],
   "source": [
    "E = 1.\n",
    "nu = 0.4\n",
    "\n",
    "la = E * nu / ((1. + nu) * (1. - 2. * nu))\n",
    "mu = E / (2. + 2. * nu)\n",
    "\n",
    "delta = np.identity(3)\n",
    "\n",
    "D_abef = (np.einsum(',ij,kl->ijkl', la, delta, delta) +\n",
    "          np.einsum(',ik,jl->ijkl', mu, delta, delta) +\n",
    "          np.einsum(',il,jk->ijkl', mu, delta, delta))"
   ]
  },
  {
   "cell_type": "markdown",
   "metadata": {
    "pycharm": {
     "name": "#%% md\n"
    }
   },
   "source": [
    "## Definition of strain and stress tensor, uniaxial compression"
   ]
  },
  {
   "cell_type": "code",
   "execution_count": 50,
   "metadata": {},
   "outputs": [
    {
     "name": "stdout",
     "output_type": "stream",
     "text": [
      "\\epsilon = [[-1.   0.   0. ]\n",
      " [ 0.   0.4  0. ]\n",
      " [ 0.   0.   0.4]]\n",
      "\\sigma = [[-1.00000000e+00  0.00000000e+00  0.00000000e+00]\n",
      " [ 0.00000000e+00 -1.11022302e-16  0.00000000e+00]\n",
      " [ 0.00000000e+00  0.00000000e+00 -1.11022302e-16]]\n"
     ]
    }
   ],
   "source": [
    "eps = np.array([[-1, 0, 0],[0, 0.4, 0],[0, 0, 0.4]])\n",
    "\n",
    "sigma = np.einsum('ijkl,kl->ij',D_abef,eps)\n",
    "\n",
    "print('\\epsilon =' ,eps)\n",
    "print('\\sigma =' ,sigma)"
   ]
  },
  {
   "cell_type": "markdown",
   "source": [
    "## Kinematic constrain"
   ],
   "metadata": {
    "collapsed": false
   }
  },
  {
   "cell_type": "markdown",
   "source": [
    "\\begin{align}\n",
    "\\varepsilon_{\\mathrm{N}} &= \\varepsilon_{ij} n_i n_j\\\\\n",
    "\\nonumber\n",
    "\\varepsilon_{\\mathrm{T}_r} &= \\frac{1}{2}\n",
    "\\left(n_i \\delta_{jr} + n_j \\delta_{ir} - 2 n_i n_j n_r\\right) \\,  \\varepsilon_{ij}\n",
    "\\end{align}"
   ],
   "metadata": {
    "collapsed": false
   }
  },
  {
   "cell_type": "code",
   "execution_count": null,
   "outputs": [],
   "source": [
    "n = np.array([.250562787, -.935113132, .250562787])\n",
    "\n",
    "eps_N = np.einsum('ij,i,j->',eps,n,n)\n",
    "eps_T = 0.5 * np.einsum('i,jr,ij->r',n,delta,eps) + 0.5 * np.einsum('j,ir,ij->r',n,delta,eps)\\\n",
    "        - np.einsum('i,j,r,ij->r',n,n,n,eps)\n",
    "print('\\epsilon_N = ',eps_N)\n",
    "print('\\epsilon_T = ',eps_T)"
   ],
   "metadata": {
    "collapsed": false,
    "pycharm": {
     "name": "#%%\n"
    }
   }
  },
  {
   "cell_type": "markdown",
   "source": [
    "## Static constrain"
   ],
   "metadata": {
    "collapsed": false
   }
  },
  {
   "cell_type": "markdown",
   "source": [
    "\\begin{align}\n",
    "\\sigma_{\\mathrm{N}} &= \\sigma_{ij} n_i n_j\\\\\n",
    "\\nonumber\n",
    "\\sigma_{\\mathrm{T}_r} &= \\frac{1}{2}\n",
    "\\left(n_i \\delta_{jr} + n_j \\delta_{ir} - 2 n_i n_j n_r\\right) \\,  \\sigma_{ij}\n",
    "\\end{align}"
   ],
   "metadata": {
    "collapsed": false
   }
  },
  {
   "cell_type": "code",
   "execution_count": null,
   "outputs": [],
   "source": [
    "sigma_N_static = np.einsum('ij,i,j->',sigma,n,n)\n",
    "sigma_T_statin = 0.5 * np.einsum('i,jr,ij->r',n,delta,sigma) + 0.5 * np.einsum('j,ir,ij->r',n,delta,sigma)\\\n",
    "        - np.einsum('i,j,r,ij->r',n,n,n,sigma)\n",
    "print('\\sigma_N_static =' ,sigma_N_static)\n",
    "print('\\sigma_T_static =',sigma_T_statin)\n",
    "\n"
   ],
   "metadata": {
    "collapsed": false,
    "pycharm": {
     "name": "#%%\n"
    }
   }
  },
  {
   "cell_type": "markdown",
   "source": [
    "## Applying microplane material law"
   ],
   "metadata": {
    "collapsed": false
   }
  },
  {
   "cell_type": "code",
   "execution_count": null,
   "outputs": [],
   "source": [
    "E_N = E / (1.0 - 2.0 * nu)\n",
    "E_T = (E * (1.0 - 4.0 * nu)) / ((1.0 + nu) * (1.0 - 2.0 * nu))\n",
    "\n",
    "sigma_N = E_N * eps_N\n",
    "sigma_T = E_T * eps_T\n",
    "\n",
    "print('\\sigma_N_micro =' ,sigma_N)\n",
    "print('\\sigma_T_micro =' ,sigma_T)"
   ],
   "metadata": {
    "collapsed": false,
    "pycharm": {
     "name": "#%%\n"
    }
   }
  },
  {
   "cell_type": "markdown",
   "source": [
    "## We are getting microplane stress vector going in the opposite direction of strain vector \n",
    "## What happens if we integrate the microplane stresses?"
   ],
   "metadata": {
    "collapsed": false
   }
  },
  {
   "cell_type": "markdown",
   "source": [
    "From PVW or integrating microplane free energy, same result. By: Carol, Bazant, Jirasek\n",
    "\n",
    "\\begin{equation}\n",
    "\\sigma_{ij} = \\frac{3}{4\\pi} \\int_{\\Omega} \\sigma_{\\mathrm{N}} n_i n_j d\\Omega + \\frac{3}{4\\pi} \\int_{\\Omega} \\frac{\\sigma_{\\mathrm{T}_r}}{2} (n_i \\delta_{rj} + n_j \\delta_{ri}) d\\Omega \\hspace{1cm}\n",
    "\\label{eq:sigma_ij}\n",
    "\\end{equation}"
   ],
   "metadata": {
    "collapsed": false
   }
  },
  {
   "cell_type": "markdown",
   "source": [
    "## 28 microplanes hemisphere, weights factors and normals, Bazant"
   ],
   "metadata": {
    "collapsed": false
   }
  },
  {
   "cell_type": "code",
   "execution_count": null,
   "outputs": [],
   "source": [
    "MPW = np.array([.0160714276, .0160714276, .0160714276, .0160714276, .0204744730,\n",
    "                      .0204744730, .0204744730, .0204744730, .0204744730, .0204744730,\n",
    "                      .0204744730, .0204744730, .0204744730, .0204744730, .0204744730,\n",
    "                      .0204744730, .0158350505, .0158350505, .0158350505, .0158350505,\n",
    "                      .0158350505, .0158350505, .0158350505, .0158350505, .0158350505,\n",
    "                      .0158350505, .0158350505, .0158350505]) * 6.0\n",
    "\n",
    "MPN = np.array([[.577350259, .577350259, .577350259],\n",
    "                      [.577350259, .577350259, -.577350259],\n",
    "                      [.577350259, -.577350259, .577350259],\n",
    "                      [.577350259, -.577350259, -.577350259],\n",
    "                      [.935113132, .250562787, .250562787],\n",
    "                      [.935113132, .250562787, -.250562787],\n",
    "                      [.935113132, -.250562787, .250562787],\n",
    "                      [.935113132, -.250562787, -.250562787],\n",
    "                      [.250562787, .935113132, .250562787],\n",
    "                      [.250562787, .935113132, -.250562787],\n",
    "                      [.250562787, -.935113132, .250562787],\n",
    "                      [.250562787, -.935113132, -.250562787],\n",
    "                      [.250562787, .250562787, .935113132],\n",
    "                      [.250562787, .250562787, -.935113132],\n",
    "                      [.250562787, -.250562787, .935113132],\n",
    "                      [.250562787, -.250562787, -.935113132],\n",
    "                      [.186156720, .694746614, .694746614],\n",
    "                      [.186156720, .694746614, -.694746614],\n",
    "                      [.186156720, -.694746614, .694746614],\n",
    "                      [.186156720, -.694746614, -.694746614],\n",
    "                      [.694746614, .186156720, .694746614],\n",
    "                      [.694746614, .186156720, -.694746614],\n",
    "                      [.694746614, -.186156720, .694746614],\n",
    "                      [.694746614, -.186156720, -.694746614],\n",
    "                      [.694746614, .694746614, .186156720],\n",
    "                      [.694746614, .694746614, -.186156720],\n",
    "                      [.694746614, -.694746614, .186156720],\n",
    "                      [.694746614, -.694746614, -.186156720]])"
   ],
   "metadata": {
    "collapsed": false,
    "pycharm": {
     "name": "#%%\n"
    }
   }
  },
  {
   "cell_type": "markdown",
   "source": [
    "## 2 order N tensor, 3rd order T tensor"
   ],
   "metadata": {
    "collapsed": false
   }
  },
  {
   "cell_type": "code",
   "execution_count": null,
   "outputs": [],
   "source": [
    "MPTT_ijr = 0.5 * (np.einsum('ni,jr -> nijr', MPN, delta) +\n",
    "                   np.einsum('nj,ir -> njir', MPN, delta) - 2 *\n",
    "                   np.einsum('ni,nj,nr -> nijr', MPN, MPN, MPN))\n",
    "\n",
    "MPNN = np.einsum('ni,nj->nij', MPN, MPN)\n",
    "\n"
   ],
   "metadata": {
    "collapsed": false,
    "pycharm": {
     "name": "#%%\n"
    }
   }
  },
  {
   "cell_type": "markdown",
   "source": [
    "## Applying kinematic constraint"
   ],
   "metadata": {
    "collapsed": false
   }
  },
  {
   "cell_type": "code",
   "execution_count": null,
   "outputs": [],
   "source": [
    "eps_N_Emn = np.einsum('nij,...ij->...n', MPNN, eps) \n",
    "\n",
    "eps_T_Emna = np.einsum('nija,...ij->...na', MPTT_ijr, eps)\n",
    "\n",
    "print('\\epsilon_N = ',eps_N_Emn[10])\n",
    "print('\\epsilon_T = ',eps_T_Emna[10])"
   ],
   "metadata": {
    "collapsed": false,
    "pycharm": {
     "name": "#%%\n"
    }
   }
  },
  {
   "cell_type": "markdown",
   "source": [
    "## Microplane material law"
   ],
   "metadata": {
    "collapsed": false
   }
  },
  {
   "cell_type": "code",
   "execution_count": null,
   "outputs": [],
   "source": [
    "sigma_N_Emn = E_N * eps_N_Emn\n",
    "sigma_T_Emna = E_T * eps_T_Emna\n",
    "\n",
    "print('\\sigma_N_micro =' ,sigma_N_Emn[10])\n",
    "print('\\sigma_T_micro =' ,sigma_T_Emna[10])"
   ],
   "metadata": {
    "collapsed": false,
    "pycharm": {
     "name": "#%%\n"
    }
   }
  },
  {
   "cell_type": "markdown",
   "source": [
    "## Numerical integration of microplane stresses"
   ],
   "metadata": {
    "collapsed": false
   }
  },
  {
   "cell_type": "code",
   "execution_count": null,
   "outputs": [],
   "source": [
    "sigma_int = np.einsum('n,...n,na,nb->...ab', MPW, sigma_N_Emn, MPN, MPN) + \\\n",
    "            0.5 * (np.einsum('n,...nf,na,fb->...ab', MPW, sigma_T_Emna, MPN, delta) +\n",
    "                   np.einsum('n,...nf,nb,fa->...ab', MPW, sigma_T_Emna, MPN, delta))\n",
    "\n",
    "print('integrated \\sigma = ',sigma_int)\n",
    "print('original \\sigma = ',sigma)"
   ],
   "metadata": {
    "collapsed": false,
    "pycharm": {
     "name": "#%%\n"
    }
   }
  },
  {
   "cell_type": "markdown",
   "metadata": {},
   "source": [
    "sigma_int = np.einsum('n,...n,na,nb->...ab', MPW, sigma_N_Emn, MPN, MPN) + \\\n",
    "            0.5 * (np.einsum('n,...nf,na,fb->...ab', MPW, sigma_T_Emna, MPN, delta) +\n",
    "                   np.einsum('n,...nf,nb,fa->...ab', MPW, sigma_T_Emna, MPN, delta))\n",
    "\n",
    "print('integrated \\sigma = ',sigma_int)\n",
    "print('original \\sigma = ',sigma)"
   ]
  },
  {
   "cell_type": "markdown",
   "metadata": {},
   "source": [
    "\\begin{align}\n",
    "\\varepsilon_{\\mathrm{N}} &= \\varepsilon_{ij} n_i n_j\\\\\n",
    "\\nonumber\n",
    "\\varepsilon_{\\mathrm{T}_r} &= \\frac{1}{2}\n",
    "\\left(n_i \\delta_{jr} + n_j \\delta_{ir} - 2 n_i n_j n_r\\right) \\,  \\varepsilon_{ij}\n",
    "\\end{align}"
   ]
  },
  {
   "cell_type": "code",
   "execution_count": 51,
   "metadata": {},
   "outputs": [
    {
     "name": "stdout",
     "output_type": "stream",
     "text": [
      "\\epsilon_N =  0.3121056017180153\n",
      "\\epsilon_T =  [-0.32876484 -0.08219121  0.02202307]\n"
     ]
    }
   ],
   "source": [
    "n = np.array([.250562787, -.935113132, .250562787])\n",
    "\n",
    "eps_N = np.einsum('ij,i,j->',eps,n,n)\n",
    "eps_T = 0.5 * np.einsum('i,jr,ij->r',n,delta,eps) + 0.5 * np.einsum('j,ir,ij->r',n,delta,eps)\\\n",
    "        - np.einsum('i,j,r,ij->r',n,n,n,eps)\n",
    "print('\\epsilon_N = ',eps_N)\n",
    "print('\\epsilon_T = ',eps_T)"
   ]
  },
  {
   "cell_type": "markdown",
   "metadata": {},
   "source": [
    "## Static constrain"
   ]
  },
  {
   "cell_type": "markdown",
   "metadata": {},
   "source": [
    "\\begin{align}\n",
    "\\sigma_{\\mathrm{N}} &= \\sigma_{ij} n_i n_j\\\\\n",
    "\\nonumber\n",
    "\\sigma_{\\mathrm{T}_r} &= \\frac{1}{2}\n",
    "\\left(n_i \\delta_{jr} + n_j \\delta_{ir} - 2 n_i n_j n_r\\right) \\,  \\sigma_{ij}\n",
    "\\end{align}"
   ]
  },
  {
   "cell_type": "code",
   "execution_count": 52,
   "metadata": {},
   "outputs": [
    {
     "name": "stdout",
     "output_type": "stream",
     "text": [
      "\\sigma_N_static = -0.06278171022920749\n",
      "\\sigma_T_static = [-0.23483203 -0.058708    0.01573076]\n"
     ]
    }
   ],
   "source": [
    "sigma_N_static = np.einsum('ij,i,j->',sigma,n,n)\n",
    "sigma_T_statin = 0.5 * np.einsum('i,jr,ij->r',n,delta,sigma) + 0.5 * np.einsum('j,ir,ij->r',n,delta,sigma)\\\n",
    "        - np.einsum('i,j,r,ij->r',n,n,n,sigma)\n",
    "print('\\sigma_N_static =' ,sigma_N_static)\n",
    "print('\\sigma_T_static =',sigma_T_statin)\n",
    "\n"
   ]
  },
  {
   "cell_type": "markdown",
   "metadata": {},
   "source": [
    "## Applying microplane material law"
   ]
  },
  {
   "cell_type": "code",
   "execution_count": 53,
   "metadata": {},
   "outputs": [
    {
     "name": "stdout",
     "output_type": "stream",
     "text": [
      "\\sigma_N_micro = 1.5605280085900768\n",
      "\\sigma_T_micro = [ 0.70449608  0.17612401 -0.04719228]\n"
     ]
    }
   ],
   "source": [
    "E_N = E / (1.0 - 2.0 * nu)\n",
    "E_T = (E * (1.0 - 4.0 * nu)) / ((1.0 + nu) * (1.0 - 2.0 * nu))\n",
    "\n",
    "sigma_N = E_N * eps_N\n",
    "sigma_T = E_T * eps_T\n",
    "\n",
    "print('\\sigma_N_micro =' ,sigma_N)\n",
    "print('\\sigma_T_micro =' ,sigma_T)"
   ]
  },
  {
   "cell_type": "markdown",
   "metadata": {},
   "source": [
    "## We are getting microplane stress vector going in the opposite direction of strain vector \n",
    "## What happens if we integrate the microplane stresses?"
   ]
  },
  {
   "cell_type": "markdown",
   "metadata": {},
   "source": [
    "From PVW or integrating microplane free energy, same result. By: Carol, Bazant, Jirasek\n",
    "\n",
    "\\begin{equation}\n",
    "\\sigma_{ij} = \\frac{3}{4\\pi} \\int_{\\Omega} \\sigma_{\\mathrm{N}} n_i n_j d\\Omega + \\frac{3}{4\\pi} \\int_{\\Omega} \\frac{\\sigma_{\\mathrm{T}_r}}{2} (n_i \\delta_{rj} + n_j \\delta_{ri}) d\\Omega \\hspace{1cm}\n",
    "\\label{eq:sigma_ij}\n",
    "\\end{equation}"
   ]
  },
  {
   "cell_type": "markdown",
   "metadata": {},
   "source": [
    "## 28 microplanes hemisphere, weights factors and normals, Bazant"
   ]
  },
  {
   "cell_type": "code",
   "execution_count": 54,
   "metadata": {},
   "outputs": [],
   "source": [
    "MPW = np.array([.0160714276, .0160714276, .0160714276, .0160714276, .0204744730,\n",
    "                      .0204744730, .0204744730, .0204744730, .0204744730, .0204744730,\n",
    "                      .0204744730, .0204744730, .0204744730, .0204744730, .0204744730,\n",
    "                      .0204744730, .0158350505, .0158350505, .0158350505, .0158350505,\n",
    "                      .0158350505, .0158350505, .0158350505, .0158350505, .0158350505,\n",
    "                      .0158350505, .0158350505, .0158350505]) * 6.0\n",
    "\n",
    "MPN = np.array([[.577350259, .577350259, .577350259],\n",
    "                      [.577350259, .577350259, -.577350259],\n",
    "                      [.577350259, -.577350259, .577350259],\n",
    "                      [.577350259, -.577350259, -.577350259],\n",
    "                      [.935113132, .250562787, .250562787],\n",
    "                      [.935113132, .250562787, -.250562787],\n",
    "                      [.935113132, -.250562787, .250562787],\n",
    "                      [.935113132, -.250562787, -.250562787],\n",
    "                      [.250562787, .935113132, .250562787],\n",
    "                      [.250562787, .935113132, -.250562787],\n",
    "                      [.250562787, -.935113132, .250562787],\n",
    "                      [.250562787, -.935113132, -.250562787],\n",
    "                      [.250562787, .250562787, .935113132],\n",
    "                      [.250562787, .250562787, -.935113132],\n",
    "                      [.250562787, -.250562787, .935113132],\n",
    "                      [.250562787, -.250562787, -.935113132],\n",
    "                      [.186156720, .694746614, .694746614],\n",
    "                      [.186156720, .694746614, -.694746614],\n",
    "                      [.186156720, -.694746614, .694746614],\n",
    "                      [.186156720, -.694746614, -.694746614],\n",
    "                      [.694746614, .186156720, .694746614],\n",
    "                      [.694746614, .186156720, -.694746614],\n",
    "                      [.694746614, -.186156720, .694746614],\n",
    "                      [.694746614, -.186156720, -.694746614],\n",
    "                      [.694746614, .694746614, .186156720],\n",
    "                      [.694746614, .694746614, -.186156720],\n",
    "                      [.694746614, -.694746614, .186156720],\n",
    "                      [.694746614, -.694746614, -.186156720]])"
   ]
  },
  {
   "cell_type": "markdown",
   "metadata": {},
   "source": [
    "## 2 order N tensor, 3rd order T tensor"
   ]
  },
  {
   "cell_type": "code",
   "execution_count": 55,
   "metadata": {},
   "outputs": [],
   "source": [
    "MPTT_ijr = 0.5 * (np.einsum('ni,jr -> nijr', MPN, delta) +\n",
    "                   np.einsum('nj,ir -> njir', MPN, delta) - 2 *\n",
    "                   np.einsum('ni,nj,nr -> nijr', MPN, MPN, MPN))\n",
    "\n",
    "MPNN = np.einsum('ni,nj->nij', MPN, MPN)\n",
    "\n"
   ]
  },
  {
   "cell_type": "markdown",
   "metadata": {},
   "source": [
    "## Applying kinematic constraint"
   ]
  },
  {
   "cell_type": "code",
   "execution_count": 56,
   "metadata": {},
   "outputs": [
    {
     "name": "stdout",
     "output_type": "stream",
     "text": [
      "\\epsilon_N =  0.3121056017180154\n",
      "\\epsilon_T =  [-0.32876484 -0.08219121  0.02202307]\n"
     ]
    }
   ],
   "source": [
    "eps_N_Emn = np.einsum('nij,...ij->...n', MPNN, eps) \n",
    "\n",
    "eps_T_Emna = np.einsum('nija,...ij->...na', MPTT_ijr, eps)\n",
    "\n",
    "print('\\epsilon_N = ',eps_N_Emn[10])\n",
    "print('\\epsilon_T = ',eps_T_Emna[10])"
   ]
  },
  {
   "cell_type": "markdown",
   "metadata": {},
   "source": [
    "## Microplane material law"
   ]
  },
  {
   "cell_type": "code",
   "execution_count": 57,
   "metadata": {},
   "outputs": [
    {
     "name": "stdout",
     "output_type": "stream",
     "text": [
      "\\sigma_N_micro = 1.5605280085900772\n",
      "\\sigma_T_micro = [ 0.70449608  0.17612401 -0.04719228]\n"
     ]
    }
   ],
   "source": [
    "sigma_N_Emn = E_N * eps_N_Emn\n",
    "sigma_T_Emna = E_T * eps_T_Emna\n",
    "\n",
    "print('\\sigma_N_micro =' ,sigma_N_Emn[10])\n",
    "print('\\sigma_T_micro =' ,sigma_T_Emna[10])"
   ]
  },
  {
   "cell_type": "markdown",
   "metadata": {},
   "source": [
    "## Numerical integration of microplane stresses"
   ]
  },
  {
   "cell_type": "code",
   "execution_count": 58,
   "metadata": {},
   "outputs": [
    {
     "name": "stdout",
     "output_type": "stream",
     "text": [
      "integrated \\sigma =  [[-1.00000026e+00  0.00000000e+00  0.00000000e+00]\n",
      " [ 0.00000000e+00  1.31586186e-07  0.00000000e+00]\n",
      " [ 0.00000000e+00  0.00000000e+00  1.31586186e-07]]\n",
      "original \\sigma =  [[-1.00000000e+00  0.00000000e+00  0.00000000e+00]\n",
      " [ 0.00000000e+00 -1.11022302e-16  0.00000000e+00]\n",
      " [ 0.00000000e+00  0.00000000e+00 -1.11022302e-16]]\n"
     ]
    }
   ],
   "source": [
    "sigma_int = np.einsum('n,...n,na,nb->...ab', MPW, sigma_N_Emn, MPN, MPN) + \\\n",
    "            0.5 * (np.einsum('n,...nf,na,fb->...ab', MPW, sigma_T_Emna, MPN, delta) +\n",
    "                   np.einsum('n,...nf,nb,fa->...ab', MPW, sigma_T_Emna, MPN, delta))\n",
    "\n",
    "print('integrated \\sigma = ',sigma_int)\n",
    "print('original \\sigma = ',sigma)"
   ]
  }
 ],
 "metadata": {
  "kernelspec": {
   "display_name": "Python [conda env:root] *",
   "language": "python",
   "name": "conda-root-py"
  },
  "language_info": {
   "codemirror_mode": {
    "name": "ipython",
    "version": 3
   },
   "file_extension": ".py",
   "mimetype": "text/x-python",
   "name": "python",
   "nbconvert_exporter": "python",
   "pygments_lexer": "ipython3",
   "version": "3.8.3"
  }
 },
 "nbformat": 4,
 "nbformat_minor": 1
}