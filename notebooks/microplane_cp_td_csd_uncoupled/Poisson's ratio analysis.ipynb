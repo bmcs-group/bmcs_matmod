{
 "cells": [
  {
   "cell_type": "code",
   "execution_count": 1,
   "metadata": {},
   "outputs": [],
   "source": [
    "import numpy as np"
   ]
  },
  {
   "cell_type": "markdown",
   "metadata": {
    "pycharm": {
     "name": "#%% md\n"
    }
   },
   "source": [
    "## Definition of elastic tensor with $\\nu > 0.25$"
   ]
  },
  {
   "cell_type": "code",
   "execution_count": 2,
   "metadata": {},
   "outputs": [],
   "source": [
    "E = 1.\n",
    "nu = 0.4\n",
    "\n",
    "la = E * nu / ((1. + nu) * (1. - 2. * nu))\n",
    "mu = E / (2. + 2. * nu)\n",
    "\n",
    "delta = np.identity(3)\n",
    "\n",
    "D_abef = (np.einsum(',ij,kl->ijkl', la, delta, delta) +\n",
    "          np.einsum(',ik,jl->ijkl', mu, delta, delta) +\n",
    "          np.einsum(',il,jk->ijkl', mu, delta, delta))"
   ]
  },
  {
   "cell_type": "markdown",
   "metadata": {
    "pycharm": {
     "name": "#%% md\n"
    }
   },
   "source": [
    "## Definition of strain and stress tensor, uniaxial compression"
   ]
  },
  {
   "cell_type": "code",
   "execution_count": 3,
   "metadata": {},
   "outputs": [
    {
     "name": "stdout",
     "output_type": "stream",
     "text": [
      "\\epsilon = [[-1.   0.   0. ]\n",
      " [ 0.   0.4  0. ]\n",
      " [ 0.   0.   0.4]]\n",
      "\\sigma = [[-1.00000000e+00  0.00000000e+00  0.00000000e+00]\n",
      " [ 0.00000000e+00 -1.11022302e-16  0.00000000e+00]\n",
      " [ 0.00000000e+00  0.00000000e+00 -1.11022302e-16]]\n"
     ]
    }
   ],
   "source": [
    "eps = np.array([[-1, 0, 0],[0, 0.4, 0],[0, 0, 0.4]])\n",
    "\n",
    "sigma = np.einsum('ijkl,kl->ij',D_abef,eps)\n",
    "\n",
    "print('\\epsilon =' ,eps)\n",
    "print('\\sigma =' ,sigma)"
   ]
  },
  {
   "cell_type": "markdown",
   "metadata": {},
   "source": [
    "## Kinematic constraint"
   ]
  },
  {
   "cell_type": "markdown",
   "metadata": {},
   "source": [
    "\\begin{align}\n",
    "\\varepsilon_{\\mathrm{N}} &= \\varepsilon_{ij} n_i n_j\\\\\n",
    "\\nonumber\n",
    "\\varepsilon_{\\mathrm{T}_r} &= \\frac{1}{2}\n",
    "\\left(n_i \\delta_{jr} + n_j \\delta_{ir} - 2 n_i n_j n_r\\right) \\,  \\varepsilon_{ij}\n",
    "\\end{align}"
   ]
  },
  {
   "cell_type": "code",
   "execution_count": 4,
   "metadata": {
    "pycharm": {
     "name": "#%%\n"
    }
   },
   "outputs": [
    {
     "name": "stdout",
     "output_type": "stream",
     "text": [
      "\\epsilon_N =  0.3121056017180153\n",
      "\\epsilon_T =  [-0.32876484 -0.08219121  0.02202307]\n"
     ]
    }
   ],
   "source": [
    "n = np.array([.250562787, -.935113132, .250562787])\n",
    "\n",
    "eps_N = np.einsum('ij,i,j->',eps,n,n)\n",
    "eps_T = 0.5 * np.einsum('i,jr,ij->r',n,delta,eps) + 0.5 * np.einsum('j,ir,ij->r',n,delta,eps)\\\n",
    "        - np.einsum('i,j,r,ij->r',n,n,n,eps)\n",
    "print('\\epsilon_N = ',eps_N)\n",
    "print('\\epsilon_T = ',eps_T)"
   ]
  },
  {
   "cell_type": "markdown",
   "metadata": {},
   "source": [
    "## Static constraint"
   ]
  },
  {
   "cell_type": "markdown",
   "metadata": {},
   "source": [
    "\\begin{align}\n",
    "\\sigma_{\\mathrm{N}} &= \\sigma_{ij} n_i n_j\\\\\n",
    "\\nonumber\n",
    "\\sigma_{\\mathrm{T}_r} &= \\frac{1}{2}\n",
    "\\left(n_i \\delta_{jr} + n_j \\delta_{ir} - 2 n_i n_j n_r\\right) \\,  \\sigma_{ij}\n",
    "\\end{align}"
   ]
  },
  {
   "cell_type": "code",
   "execution_count": 5,
   "metadata": {
    "pycharm": {
     "name": "#%%\n"
    }
   },
   "outputs": [
    {
     "name": "stdout",
     "output_type": "stream",
     "text": [
      "\\sigma_N_static = -0.06278171022920749\n",
      "\\sigma_T_static = [-0.23483203 -0.058708    0.01573076]\n"
     ]
    }
   ],
   "source": [
    "sigma_N_static = np.einsum('ij,i,j->',sigma,n,n)\n",
    "sigma_T_statin = 0.5 * np.einsum('i,jr,ij->r',n,delta,sigma) + 0.5 * np.einsum('j,ir,ij->r',n,delta,sigma)\\\n",
    "        - np.einsum('i,j,r,ij->r',n,n,n,sigma)\n",
    "print('\\sigma_N_static =' ,sigma_N_static)\n",
    "print('\\sigma_T_static =',sigma_T_statin)"
   ]
  },
  {
   "cell_type": "markdown",
   "metadata": {},
   "source": [
    "## Applying microplane material law"
   ]
  },
  {
   "cell_type": "code",
   "execution_count": 6,
   "metadata": {
    "pycharm": {
     "name": "#%%\n"
    }
   },
   "outputs": [
    {
     "name": "stdout",
     "output_type": "stream",
     "text": [
      "\\sigma_N_micro = 1.5605280085900768\n",
      "\\sigma_T_micro = [ 0.70449608  0.17612401 -0.04719228]\n"
     ]
    }
   ],
   "source": [
    "E_N = E / (1.0 - 2.0 * nu)\n",
    "E_T = (E * (1.0 - 4.0 * nu)) / ((1.0 + nu) * (1.0 - 2.0 * nu))\n",
    "\n",
    "sigma_N = E_N * eps_N\n",
    "sigma_T = E_T * eps_T\n",
    "\n",
    "print('\\sigma_N_micro =' ,sigma_N)\n",
    "print('\\sigma_T_micro =' ,sigma_T)"
   ]
  },
  {
   "cell_type": "markdown",
   "metadata": {},
   "source": [
    "## We are getting microplane stress vector going in the opposite direction of strain vector \n",
    "## What happens if we integrate the microplane stresses?"
   ]
  },
  {
   "cell_type": "markdown",
   "metadata": {},
   "source": [
    "From PVW or integrating microplane free energy, same result. By: Carol, Bazant, Jirasek\n",
    "\n",
    "\\begin{equation}\n",
    "\\sigma_{ij} = \\frac{3}{4\\pi} \\int_{\\Omega} \\sigma_{\\mathrm{N}} n_i n_j d\\Omega + \\frac{3}{4\\pi} \\int_{\\Omega} \\frac{\\sigma_{\\mathrm{T}_r}}{2} (n_i \\delta_{rj} + n_j \\delta_{ri}) d\\Omega \\hspace{1cm}\n",
    "\\label{eq:sigma_ij}\n",
    "\\end{equation}"
   ]
  },
  {
   "cell_type": "markdown",
   "metadata": {},
   "source": [
    "## 28 microplanes hemisphere, weights factors and normals, Bazant"
   ]
  },
  {
   "cell_type": "code",
   "execution_count": 7,
   "metadata": {
    "pycharm": {
     "name": "#%%\n"
    }
   },
   "outputs": [],
   "source": [
    "MPW = np.array([.0160714276, .0160714276, .0160714276, .0160714276, .0204744730,\n",
    "                      .0204744730, .0204744730, .0204744730, .0204744730, .0204744730,\n",
    "                      .0204744730, .0204744730, .0204744730, .0204744730, .0204744730,\n",
    "                      .0204744730, .0158350505, .0158350505, .0158350505, .0158350505,\n",
    "                      .0158350505, .0158350505, .0158350505, .0158350505, .0158350505,\n",
    "                      .0158350505, .0158350505, .0158350505]) * 6.0\n",
    "\n",
    "MPN = np.array([[.577350259, .577350259, .577350259],\n",
    "                      [.577350259, .577350259, -.577350259],\n",
    "                      [.577350259, -.577350259, .577350259],\n",
    "                      [.577350259, -.577350259, -.577350259],\n",
    "                      [.935113132, .250562787, .250562787],\n",
    "                      [.935113132, .250562787, -.250562787],\n",
    "                      [.935113132, -.250562787, .250562787],\n",
    "                      [.935113132, -.250562787, -.250562787],\n",
    "                      [.250562787, .935113132, .250562787],\n",
    "                      [.250562787, .935113132, -.250562787],\n",
    "                      [.250562787, -.935113132, .250562787],\n",
    "                      [.250562787, -.935113132, -.250562787],\n",
    "                      [.250562787, .250562787, .935113132],\n",
    "                      [.250562787, .250562787, -.935113132],\n",
    "                      [.250562787, -.250562787, .935113132],\n",
    "                      [.250562787, -.250562787, -.935113132],\n",
    "                      [.186156720, .694746614, .694746614],\n",
    "                      [.186156720, .694746614, -.694746614],\n",
    "                      [.186156720, -.694746614, .694746614],\n",
    "                      [.186156720, -.694746614, -.694746614],\n",
    "                      [.694746614, .186156720, .694746614],\n",
    "                      [.694746614, .186156720, -.694746614],\n",
    "                      [.694746614, -.186156720, .694746614],\n",
    "                      [.694746614, -.186156720, -.694746614],\n",
    "                      [.694746614, .694746614, .186156720],\n",
    "                      [.694746614, .694746614, -.186156720],\n",
    "                      [.694746614, -.694746614, .186156720],\n",
    "                      [.694746614, -.694746614, -.186156720]])"
   ]
  },
  {
   "cell_type": "markdown",
   "metadata": {},
   "source": [
    "## 2 order N tensor, 3rd order T tensor"
   ]
  },
  {
   "cell_type": "code",
   "execution_count": 8,
   "metadata": {
    "pycharm": {
     "name": "#%%\n"
    }
   },
   "outputs": [],
   "source": [
    "MPTT_ijr = 0.5 * (np.einsum('ni,jr -> nijr', MPN, delta) +\n",
    "                  np.einsum('nj,ir -> njir', MPN, delta) - 2 *\n",
    "                  np.einsum('ni,nj,nr -> nijr', MPN, MPN, MPN))\n",
    "\n",
    "MPNN = np.einsum('ni,nj->nij', MPN, MPN)\n",
    "\n"
   ]
  },
  {
   "cell_type": "markdown",
   "metadata": {},
   "source": [
    "## Applying kinematic constraint"
   ]
  },
  {
   "cell_type": "code",
   "execution_count": 9,
   "metadata": {
    "pycharm": {
     "name": "#%%\n"
    }
   },
   "outputs": [
    {
     "name": "stdout",
     "output_type": "stream",
     "text": [
      "\\epsilon_N =  0.3121056017180154\n",
      "\\epsilon_T =  [-0.32876484 -0.08219121  0.02202307]\n"
     ]
    }
   ],
   "source": [
    "eps_N_Emn = np.einsum('nij,...ij->...n', MPNN, eps) \n",
    "\n",
    "eps_T_Emna = np.einsum('nija,...ij->...na', MPTT_ijr, eps)\n",
    "\n",
    "print('\\epsilon_N = ',eps_N_Emn[10])\n",
    "print('\\epsilon_T = ',eps_T_Emna[10])"
   ]
  },
  {
   "cell_type": "markdown",
   "metadata": {},
   "source": [
    "## Microplane material law"
   ]
  },
  {
   "cell_type": "code",
   "execution_count": 10,
   "metadata": {
    "pycharm": {
     "name": "#%%\n"
    }
   },
   "outputs": [
    {
     "name": "stdout",
     "output_type": "stream",
     "text": [
      "\\sigma_N_micro = 1.5605280085900772\n",
      "\\sigma_T_micro = [ 0.70449608  0.17612401 -0.04719228]\n"
     ]
    }
   ],
   "source": [
    "sigma_N_Emn = E_N * eps_N_Emn\n",
    "sigma_T_Emna = E_T * eps_T_Emna\n",
    "\n",
    "print('\\sigma_N_micro =' ,sigma_N_Emn[10])\n",
    "print('\\sigma_T_micro =' ,sigma_T_Emna[10])"
   ]
  },
  {
   "cell_type": "markdown",
   "metadata": {},
   "source": [
    "## Numerical integration of microplane stresses"
   ]
  },
  {
   "cell_type": "code",
   "execution_count": 11,
   "metadata": {
    "pycharm": {
     "name": "#%%\n"
    }
   },
   "outputs": [
    {
     "name": "stdout",
     "output_type": "stream",
     "text": [
      "integrated \\sigma =  [[-1.00000026e+00  0.00000000e+00  0.00000000e+00]\n",
      " [ 0.00000000e+00  1.31586186e-07  0.00000000e+00]\n",
      " [ 0.00000000e+00  0.00000000e+00  1.31586186e-07]]\n",
      "original \\sigma =  [[-1.00000000e+00  0.00000000e+00  0.00000000e+00]\n",
      " [ 0.00000000e+00 -1.11022302e-16  0.00000000e+00]\n",
      " [ 0.00000000e+00  0.00000000e+00 -1.11022302e-16]]\n"
     ]
    }
   ],
   "source": [
    "sigma_int = np.einsum('n,...n,na,nb->...ab', MPW, sigma_N_Emn, MPN, MPN) + \\\n",
    "            0.5 * (np.einsum('n,...nf,na,fb->...ab', MPW, sigma_T_Emna, MPN, delta) +\n",
    "                   np.einsum('n,...nf,nb,fa->...ab', MPW, sigma_T_Emna, MPN, delta))\n",
    "\n",
    "print('integrated \\sigma = ',sigma_int)\n",
    "print('original \\sigma = ',sigma)"
   ]
  },
  {
   "cell_type": "markdown",
   "metadata": {},
   "source": [
    "\\begin{align}\n",
    "\\varepsilon_{\\mathrm{N}} &= \\varepsilon_{ij} n_i n_j\\\\\n",
    "\\nonumber\n",
    "\\varepsilon_{\\mathrm{T}_r} &= \\frac{1}{2}\n",
    "\\left(n_i \\delta_{jr} + n_j \\delta_{ir} - 2 n_i n_j n_r\\right) \\,  \\varepsilon_{ij}\n",
    "\\end{align}"
   ]
  },
  {
   "cell_type": "code",
   "execution_count": 12,
   "metadata": {},
   "outputs": [
    {
     "name": "stdout",
     "output_type": "stream",
     "text": [
      "\\epsilon_N =  0.3121056017180153\n",
      "\\epsilon_T =  [-0.32876484 -0.08219121  0.02202307]\n"
     ]
    }
   ],
   "source": [
    "n = np.array([.250562787, -.935113132, .250562787])\n",
    "\n",
    "eps_N = np.einsum('ij,i,j->',eps,n,n)\n",
    "eps_T = 0.5 * np.einsum('i,jr,ij->r',n,delta,eps) + 0.5 * np.einsum('j,ir,ij->r',n,delta,eps)\\\n",
    "        - np.einsum('i,j,r,ij->r',n,n,n,eps)\n",
    "print('\\epsilon_N = ',eps_N)\n",
    "print('\\epsilon_T = ',eps_T)"
   ]
  },
  {
   "cell_type": "markdown",
   "metadata": {},
   "source": [
    "## Static constraint"
   ]
  },
  {
   "cell_type": "markdown",
   "metadata": {},
   "source": [
    "\\begin{align}\n",
    "\\sigma_{\\mathrm{N}} &= \\sigma_{ij} n_i n_j\\\\\n",
    "\\nonumber\n",
    "\\sigma_{\\mathrm{T}_r} &= \\frac{1}{2}\n",
    "\\left(n_i \\delta_{jr} + n_j \\delta_{ir} - 2 n_i n_j n_r\\right) \\,  \\sigma_{ij}\n",
    "\\end{align}"
   ]
  },
  {
   "cell_type": "code",
   "execution_count": 22,
   "metadata": {},
   "outputs": [
    {
     "name": "stdout",
     "output_type": "stream",
     "text": [
      "\\sigma_N_static = -0.06278171022920749\n",
      "\\sigma_T_static = [-0.23483203 -0.058708    0.01573076]\n"
     ]
    }
   ],
   "source": [
    "sigma_N_static = np.einsum('ij,i,j->',sigma,n,n)\n",
    "sigma_T_statin = 0.5 * np.einsum('i,jr,ij->r',n,delta,sigma) + 0.5 * np.einsum('j,ir,ij->r',n,delta,sigma)\\\n",
    "        - np.einsum('i,j,r,ij->r',n,n,n,sigma)\n",
    "print('\\sigma_N_static =' ,sigma_N_static)\n",
    "print('\\sigma_T_static =',sigma_T_statin)\n",
    "\n"
   ]
  },
  {
   "cell_type": "markdown",
   "metadata": {},
   "source": [
    "## Applying microplane material law"
   ]
  },
  {
   "cell_type": "code",
   "execution_count": 23,
   "metadata": {},
   "outputs": [
    {
     "name": "stdout",
     "output_type": "stream",
     "text": [
      "\\sigma_N_micro = 1.5605280085900768\n",
      "\\sigma_T_micro = [ 0.70449608  0.17612401 -0.04719228]\n"
     ]
    }
   ],
   "source": [
    "E_N = E / (1.0 - 2.0 * nu)\n",
    "E_T = (E * (1.0 - 4.0 * nu)) / ((1.0 + nu) * (1.0 - 2.0 * nu))\n",
    "\n",
    "sigma_N = E_N * eps_N\n",
    "sigma_T = E_T * eps_T\n",
    "\n",
    "print('\\sigma_N_micro =' ,sigma_N)\n",
    "print('\\sigma_T_micro =' ,sigma_T)"
   ]
  },
  {
   "cell_type": "markdown",
   "metadata": {},
   "source": [
    "## We are getting microplane stress vector going in the opposite direction of strain vector \n",
    "## What happens if we integrate the microplane stresses?"
   ]
  },
  {
   "cell_type": "markdown",
   "metadata": {},
   "source": [
    "From PVW or integrating microplane free energy, same result. By: Carol, Bazant, Jirasek\n",
    "\n",
    "\\begin{equation}\n",
    "\\sigma_{ij} = \\frac{3}{4\\pi} \\int_{\\Omega} \\sigma_{\\mathrm{N}} n_i n_j d\\Omega \n",
    " + \\frac{3}{4\\pi} \\int_{\\Omega} \\frac{\\sigma_{\\mathrm{T}_r}}{2} (n_i \\delta_{rj} + n_j \\delta_{ri}) d\\Omega \\hspace{1cm}\n",
    "\\label{eq:sigma_ij}\n",
    "\\end{equation}"
   ]
  },
  {
   "cell_type": "markdown",
   "metadata": {},
   "source": [
    "## 28 microplanes hemisphere, weights factors and normals, Bazant"
   ]
  },
  {
   "cell_type": "code",
   "execution_count": 24,
   "metadata": {},
   "outputs": [],
   "source": [
    "MPW = np.array([.0160714276, .0160714276, .0160714276, .0160714276, .0204744730,\n",
    "                      .0204744730, .0204744730, .0204744730, .0204744730, .0204744730,\n",
    "                      .0204744730, .0204744730, .0204744730, .0204744730, .0204744730,\n",
    "                      .0204744730, .0158350505, .0158350505, .0158350505, .0158350505,\n",
    "                      .0158350505, .0158350505, .0158350505, .0158350505, .0158350505,\n",
    "                      .0158350505, .0158350505, .0158350505]) * 6.0\n",
    "\n",
    "MPN = np.array([[.577350259, .577350259, .577350259],\n",
    "                      [.577350259, .577350259, -.577350259],\n",
    "                      [.577350259, -.577350259, .577350259],\n",
    "                      [.577350259, -.577350259, -.577350259],\n",
    "                      [.935113132, .250562787, .250562787],\n",
    "                      [.935113132, .250562787, -.250562787],\n",
    "                      [.935113132, -.250562787, .250562787],\n",
    "                      [.935113132, -.250562787, -.250562787],\n",
    "                      [.250562787, .935113132, .250562787],\n",
    "                      [.250562787, .935113132, -.250562787],\n",
    "                      [.250562787, -.935113132, .250562787],\n",
    "                      [.250562787, -.935113132, -.250562787],\n",
    "                      [.250562787, .250562787, .935113132],\n",
    "                      [.250562787, .250562787, -.935113132],\n",
    "                      [.250562787, -.250562787, .935113132],\n",
    "                      [.250562787, -.250562787, -.935113132],\n",
    "                      [.186156720, .694746614, .694746614],\n",
    "                      [.186156720, .694746614, -.694746614],\n",
    "                      [.186156720, -.694746614, .694746614],\n",
    "                      [.186156720, -.694746614, -.694746614],\n",
    "                      [.694746614, .186156720, .694746614],\n",
    "                      [.694746614, .186156720, -.694746614],\n",
    "                      [.694746614, -.186156720, .694746614],\n",
    "                      [.694746614, -.186156720, -.694746614],\n",
    "                      [.694746614, .694746614, .186156720],\n",
    "                      [.694746614, .694746614, -.186156720],\n",
    "                      [.694746614, -.694746614, .186156720],\n",
    "                      [.694746614, -.694746614, -.186156720]])"
   ]
  },
  {
   "cell_type": "markdown",
   "metadata": {},
   "source": [
    "## 2 order N tensor, 3rd order T tensor"
   ]
  },
  {
   "cell_type": "code",
   "execution_count": 25,
   "metadata": {},
   "outputs": [],
   "source": [
    "MPTT_ijr = 0.5 * (np.einsum('ni,jr -> nijr', MPN, delta) +\n",
    "                   np.einsum('nj,ir -> njir', MPN, delta) - 2 *\n",
    "                   np.einsum('ni,nj,nr -> nijr', MPN, MPN, MPN))\n",
    "\n",
    "MPNN = np.einsum('ni,nj->nij', MPN, MPN)"
   ]
  },
  {
   "cell_type": "markdown",
   "metadata": {},
   "source": [
    "## Applying kinematic constraint"
   ]
  },
  {
   "cell_type": "code",
   "execution_count": 26,
   "metadata": {},
   "outputs": [
    {
     "name": "stdout",
     "output_type": "stream",
     "text": [
      "\\epsilon_N =  0.3121056017180154\n",
      "\\epsilon_T =  [-0.32876484 -0.08219121  0.02202307]\n"
     ]
    }
   ],
   "source": [
    "eps_N_Emn = np.einsum('nij,...ij->...n', MPNN, eps) \n",
    "eps_T_Emna = np.einsum('nija,...ij->...na', MPTT_ijr, eps)\n",
    "\n",
    "print('\\epsilon_N = ',eps_N_Emn[10])\n",
    "print('\\epsilon_T = ',eps_T_Emna[10])"
   ]
  },
  {
   "cell_type": "markdown",
   "metadata": {},
   "source": [
    "## Microplane material law"
   ]
  },
  {
   "cell_type": "code",
   "execution_count": 27,
   "metadata": {},
   "outputs": [
    {
     "name": "stdout",
     "output_type": "stream",
     "text": [
      "\\sigma_N_micro = 1.5605280085900772\n",
      "\\sigma_T_micro = [ 0.70449608  0.17612401 -0.04719228]\n"
     ]
    }
   ],
   "source": [
    "sigma_N_Emn = E_N * eps_N_Emn\n",
    "sigma_T_Emna = E_T * eps_T_Emna\n",
    "\n",
    "print('\\sigma_N_micro =' ,sigma_N_Emn[10])\n",
    "print('\\sigma_T_micro =' ,sigma_T_Emna[10])"
   ]
  },
  {
   "cell_type": "markdown",
   "metadata": {},
   "source": [
    "## Numerical integration of microplane stresses"
   ]
  },
  {
   "cell_type": "code",
   "execution_count": 28,
   "metadata": {},
   "outputs": [
    {
     "name": "stdout",
     "output_type": "stream",
     "text": [
      "integrated \\sigma =  [[-1.00000026e+00  0.00000000e+00  0.00000000e+00]\n",
      " [ 0.00000000e+00  1.31586186e-07  0.00000000e+00]\n",
      " [ 0.00000000e+00  0.00000000e+00  1.31586186e-07]]\n",
      "original \\sigma =  [[-1.00000000e+00  0.00000000e+00  0.00000000e+00]\n",
      " [ 0.00000000e+00 -1.11022302e-16  0.00000000e+00]\n",
      " [ 0.00000000e+00  0.00000000e+00 -1.11022302e-16]]\n"
     ]
    }
   ],
   "source": [
    "sigma_int = np.einsum('n,...n,na,nb->...ab', MPW, sigma_N_Emn, MPN, MPN) + \\\n",
    "            0.5 * (np.einsum('n,...nf,na,fb->...ab', MPW, sigma_T_Emna, MPN, delta) +\n",
    "                   np.einsum('n,...nf,nb,fa->...ab', MPW, sigma_T_Emna, MPN, delta))\n",
    "\n",
    "print('integrated \\sigma = ',sigma_int)\n",
    "print('original \\sigma = ',sigma)"
   ]
  },
  {
   "cell_type": "code",
   "execution_count": null,
   "metadata": {},
   "outputs": [],
   "source": []
  },
  {
   "cell_type": "markdown",
   "metadata": {},
   "source": [
    "## Analyze the Lame parameters"
   ]
  },
  {
   "cell_type": "code",
   "execution_count": 29,
   "metadata": {},
   "outputs": [],
   "source": [
    "import sympy as sp"
   ]
  },
  {
   "cell_type": "code",
   "execution_count": 30,
   "metadata": {},
   "outputs": [],
   "source": [
    "E_, nu_, lambda_, mu_ = sp.symbols('E, nu, lambda, mu')"
   ]
  },
  {
   "cell_type": "code",
   "execution_count": 31,
   "metadata": {},
   "outputs": [],
   "source": [
    "eq_lambda = sp.Eq(lambda_, E_*nu_/ ((1+nu_)*(1-2*nu_)))"
   ]
  },
  {
   "cell_type": "code",
   "execution_count": 32,
   "metadata": {},
   "outputs": [],
   "source": [
    "eq_mu = sp.Eq(mu_, E_ / (2*(1+nu_)))"
   ]
  },
  {
   "cell_type": "code",
   "execution_count": 33,
   "metadata": {},
   "outputs": [
    {
     "data": {
      "text/latex": [
       "$\\displaystyle \\lambda = \\frac{E \\nu}{\\left(1 - 2 \\nu\\right) \\left(\\nu + 1\\right)}$"
      ],
      "text/plain": [
       "Eq(lambda, E*nu/((1 - 2*nu)*(nu + 1)))"
      ]
     },
     "execution_count": 33,
     "metadata": {},
     "output_type": "execute_result"
    }
   ],
   "source": [
    "eq_lambda"
   ]
  },
  {
   "cell_type": "code",
   "execution_count": 34,
   "metadata": {},
   "outputs": [
    {
     "data": {
      "text/plain": [
       "[-sqrt(2)*I/2, sqrt(2)*I/2]"
      ]
     },
     "execution_count": 34,
     "metadata": {},
     "output_type": "execute_result"
    }
   ],
   "source": [
    "sp.solve((E_*nu_/ ((1+nu_)*(1-2*nu_))).diff(nu_),nu_)"
   ]
  },
  {
   "cell_type": "code",
   "execution_count": 35,
   "metadata": {},
   "outputs": [
    {
     "data": {
      "text/latex": [
       "$\\displaystyle \\mu = \\frac{E}{2 \\nu + 2}$"
      ],
      "text/plain": [
       "Eq(mu, E/(2*nu + 2))"
      ]
     },
     "execution_count": 35,
     "metadata": {},
     "output_type": "execute_result"
    }
   ],
   "source": [
    "eq_mu"
   ]
  },
  {
   "cell_type": "markdown",
   "metadata": {
    "pycharm": {
     "name": "#%% md\n"
    }
   },
   "source": [
    "## Verification of macroscopic plastic strain tensor recovery\n",
    "\n",
    "The decomposition of the elastic and inelastic terms in the homogenization procedure of the type\n",
    "\\begin{align}\n",
    "\\boldsymbol{\\sigma} = \\boldsymbol{\\beta}:\\boldsymbol{C}^{\\mathrm{e}}:\\boldsymbol{\\beta}^{\\mathrm{T}}:(\\boldsymbol{\\varepsilon} - \\boldsymbol{\\varepsilon}^\\mathrm{p}). \n",
    "\\end{align}"
   ]
  },
  {
   "cell_type": "markdown",
   "metadata": {},
   "source": [
    "poses the question, if the homogenization of plastic microplane strains $\\varepsilon_N^\\mathrm{p,mic}$ and $\\varepsilon_{Tr}^{\\mathrm{p,mic}}$ correctly reproduces the macroscopic plastic strain $\\varepsilon^p_{ij}$. The particular question is, if the resulting tensor preserves all symmetries. The motivation of this question is related to the MDM [Jirasek] which does not implicitly render  symmetric tensor and requires a subsequent symmetrization."
   ]
  },
  {
   "cell_type": "markdown",
   "metadata": {},
   "source": [
    "The hemisphere integration of microplane strain contributions is given as "
   ]
  },
  {
   "cell_type": "markdown",
   "metadata": {
    "pycharm": {
     "name": "#%%\n"
    }
   },
   "source": [
    "\\begin{align} \\label{eq:plastic_strain_tensor} \n",
    "\\varepsilon^{p}_{ij} &= \\frac{3}{2 \\pi} \\int_{\\Omega}  \\varepsilon^{p,\\mathrm{mic}}_\\mathrm{N}  n_i n_j  \\, d \\Omega + \\frac{3}{2 \\pi} \\int_{\\Omega} \\frac{\\varepsilon^{\\mathrm{p,mic}}_{\\mathrm{T}r}}{2} (n_i  \\delta_{rj} + n_j \\delta_{ri}) \\, d \\Omega.\n",
    "\\end{align}"
   ]
  },
  {
   "cell_type": "markdown",
   "metadata": {},
   "source": [
    "The kinematic constraint is used to obtain the microplane strain from the tensor representation."
   ]
  },
  {
   "cell_type": "markdown",
   "metadata": {},
   "source": [
    "\\begin{align}\n",
    "\\label{eq:epsilon_NT}\n",
    "\\varepsilon_{\\mathrm{N}}^{p,\\mathrm{mic}} &= \\varepsilon_{ij}^{p} n_i n_j, \\\\\n",
    "\\varepsilon_{\\mathrm{T}_r}^{p,\\mathrm{mic}} &= \\frac{1}{2}\n",
    "\\left(n_i \\delta_{jr} + n_j \\delta_{ir} - 2 n_i n_j n_r\\right)  \\varepsilon_{ij}^p. \\nonumber\n",
    "\\end{align}"
   ]
  },
  {
   "cell_type": "markdown",
   "metadata": {},
   "source": [
    "Substituting the projections to the integral we get"
   ]
  },
  {
   "cell_type": "markdown",
   "metadata": {},
   "source": [
    "\\begin{align} \\label{eq:plastic_strain_tensor2} \n",
    "\\varepsilon_{ij}^p &= \n",
    "\\varepsilon_{kl}^p\n",
    "\\left[\n",
    "\\frac{3}{2 \\pi} \\int_{\\Omega}  n_i n_j n_k n_l  \\, d \\Omega \n",
    "+ \n",
    "\\frac{3}{8 \\pi} \\int_{\\Omega} \n",
    "\\left(n_i \\delta_{jr} + n_j \\delta_{ir} - 2 n_i n_j n_r\\right) (n_i  \\delta_{rj} + n_j \\delta_{ri}) \\, d \\Omega.\n",
    "\\right]\n",
    "\\end{align}"
   ]
  },
  {
   "cell_type": "markdown",
   "metadata": {},
   "source": [
    "After rearranging terms, the equivalence is obtained"
   ]
  },
  {
   "cell_type": "markdown",
   "metadata": {},
   "source": [
    "\\begin{align} \\label{eq:plastic_strain_tensor3} \n",
    "\\varepsilon_{ij}^p &= \n",
    "\\varepsilon_{kl}^p\n",
    "\\left[\n",
    "\\frac{1}{5} \n",
    "\\left(\\delta_{ij}\\delta_{kl} + \\delta_{ik}\\delta_{jl} + \\delta_{il} \\delta_{jk}\n",
    "\\right)\n",
    "+ \n",
    "\\left(\\frac{3}{10} \\delta_{ik} \\delta_{jl} + \\frac{3}{10} \\delta_{il} \\delta_{jk} - \\frac{1}{5} \\delta_{ij}\\delta_{kl}\n",
    "\\right)\\right] \\\\ \\nonumber\n",
    "&= \n",
    "\\frac{1}{2}\\left[ \\delta_{ik} \\delta_{jl} +  \\delta_{il} \\delta_{jk}\n",
    "\\right]\n",
    "\\varepsilon_{kl}^p\n",
    "\\end{align}\n"
   ]
  },
  {
   "cell_type": "markdown",
   "metadata": {},
   "source": [
    "Note that the obtained term represents a symmetrization operator which has been explicitly used by Jirasek for microplane damage model. In his version, only normal strains were considered $\\varepsilon_N$ and the symmetrization has been added as a correction of the lack of symmetry involved in the homogenization procedure. If the full decomposition into $\\varepsilon_N$ and $\\varepsilon_{Tr}$ is employed, a symmetric tensor is obtained implicitly."
   ]
  },
  {
   "cell_type": "markdown",
   "metadata": {},
   "source": [
    "## Sympy tensor package\n",
    "\n",
    "Does the package provide a framework for symbolic verification of the above concepts, or even a code generator?"
   ]
  },
  {
   "cell_type": "code",
   "execution_count": 36,
   "metadata": {
    "pycharm": {
     "name": "#%%\n"
    }
   },
   "outputs": [],
   "source": [
    "from sympy.tensor.tensor import TensorIndexType, TensorHead, TensorSymmetry\n",
    "Lorentz = TensorIndexType('Lorentz', dummy_name='L')\n",
    "asym2 = TensorSymmetry.fully_symmetric(-2)\n",
    "A = TensorHead('A', [Lorentz, Lorentz], asym2)"
   ]
  },
  {
   "cell_type": "code",
   "execution_count": 37,
   "metadata": {
    "pycharm": {
     "name": "#%%\n"
    }
   },
   "outputs": [
    {
     "data": {
      "text/latex": [
       "$\\displaystyle TensorHead\\left(A, \\left( TensorIndexType\\left(Lorentz, L, dim_{L}, dim_{L}, 1, metric\\right), \\  TensorIndexType\\left(Lorentz, L, dim_{L}, dim_{L}, 1, metric\\right)\\right), TensorSymmetry\\left(\\left( 0\\right), \\left( \\left( 0\\; 1\\right)\\left( 2\\; 3\\right)\\right)\\right)\\right)$"
      ],
      "text/plain": [
       "A(Lorentz,Lorentz)"
      ]
     },
     "execution_count": 37,
     "metadata": {},
     "output_type": "execute_result"
    }
   ],
   "source": [
    "A"
   ]
  },
  {
   "cell_type": "code",
   "execution_count": null,
   "metadata": {},
   "outputs": [],
   "source": []
  },
  {
   "cell_type": "code",
   "execution_count": null,
   "metadata": {},
   "outputs": [],
   "source": []
  }
 ],
 "metadata": {
  "kernelspec": {
   "display_name": "bmcs_env",
   "language": "python",
   "name": "bmcs_env"
  },
  "language_info": {
   "codemirror_mode": {
    "name": "ipython",
    "version": 3
   },
   "file_extension": ".py",
   "mimetype": "text/x-python",
   "name": "python",
   "nbconvert_exporter": "python",
   "pygments_lexer": "ipython3",
   "version": "3.9.0"
  },
  "toc": {
   "base_numbering": 1,
   "nav_menu": {},
   "number_sections": true,
   "sideBar": true,
   "skip_h1_title": true,
   "title_cell": "Table of Contents",
   "title_sidebar": "Contents",
   "toc_cell": false,
   "toc_position": {},
   "toc_section_display": true,
   "toc_window_display": true
  }
 },
 "nbformat": 4,
 "nbformat_minor": 1
}
