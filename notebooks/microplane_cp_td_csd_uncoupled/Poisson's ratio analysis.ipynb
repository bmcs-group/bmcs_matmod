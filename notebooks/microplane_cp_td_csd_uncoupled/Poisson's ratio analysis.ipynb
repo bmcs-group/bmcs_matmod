{
 "cells": [
  {
   "cell_type": "code",
   "execution_count": 34,
   "metadata": {},
   "outputs": [],
   "source": [
    "import numpy as np"
   ]
  },
  {
   "cell_type": "markdown",
   "metadata": {
    "pycharm": {
     "name": "#%% md\n"
    }
   },
   "source": [
    "## Definition of elastic tensor, \\nu > 0.25"
   ]
  },
  {
   "cell_type": "code",
   "execution_count": 35,
   "metadata": {},
   "outputs": [],
   "source": [
    "E = 1.\n",
    "nu = 0.4\n",
    "\n",
    "la = E * nu / ((1. + nu) * (1. - 2. * nu))\n",
    "mu = E / (2. + 2. * nu)\n",
    "\n",
    "delta = np.identity(3)\n",
    "\n",
    "D_abef = (np.einsum(',ij,kl->ijkl', la, delta, delta) +\n",
    "          np.einsum(',ik,jl->ijkl', mu, delta, delta) +\n",
    "          np.einsum(',il,jk->ijkl', mu, delta, delta))"
   ]
  },
  {
   "cell_type": "markdown",
   "metadata": {
    "pycharm": {
     "name": "#%% md\n"
    }
   },
   "source": [
    "## Definition of strain and stress tensor, uniaxial compression"
   ]
  },
  {
   "cell_type": "code",
   "execution_count": 36,
   "metadata": {},
   "outputs": [
    {
     "name": "stdout",
     "output_type": "stream",
     "text": [
      "\\epsilon = [[-1.   0.   0. ]\n",
      " [ 0.   0.4  0. ]\n",
      " [ 0.   0.   0.4]]\n",
      "\\sigma = [[-1.00000000e+00  0.00000000e+00  0.00000000e+00]\n",
      " [ 0.00000000e+00 -1.11022302e-16  0.00000000e+00]\n",
      " [ 0.00000000e+00  0.00000000e+00 -1.11022302e-16]]\n"
     ]
    }
   ],
   "source": [
    "eps = np.array([[-1, 0, 0],[0, 0.4, 0],[0, 0, 0.4]])\n",
    "\n",
    "sigma = np.einsum('ijkl,kl->ij',D_abef,eps)\n",
    "\n",
    "print('\\epsilon =' ,eps)\n",
    "print('\\sigma =' ,sigma)"
   ]
  },
  {
   "cell_type": "markdown",
   "metadata": {},
   "source": [
    "## Kinematic constrain"
   ]
  },
  {
   "cell_type": "markdown",
   "metadata": {},
   "source": [
    "\\begin{align}\n",
    "\\varepsilon_{\\mathrm{N}} &= \\varepsilon_{ij} n_i n_j\\\\\n",
    "\\nonumber\n",
    "\\varepsilon_{\\mathrm{T}_r} &= \\frac{1}{2}\n",
    "\\left(n_i \\delta_{jr} + n_j \\delta_{ir} - 2 n_i n_j n_r\\right) \\,  \\varepsilon_{ij}\n",
    "\\end{align}"
   ]
  },
  {
   "cell_type": "code",
   "execution_count": 37,
   "metadata": {
    "pycharm": {
     "name": "#%%\n"
    }
   },
   "outputs": [
    {
     "name": "stdout",
     "output_type": "stream",
     "text": [
      "\\epsilon_N =  0.3121056017180153\n",
      "\\epsilon_T =  [-0.32876484 -0.08219121  0.02202307]\n"
     ]
    }
   ],
   "source": [
    "n = np.array([.250562787, -.935113132, .250562787])\n",
    "\n",
    "eps_N = np.einsum('ij,i,j->',eps,n,n)\n",
    "eps_T = 0.5 * np.einsum('i,jr,ij->r',n,delta,eps) + 0.5 * np.einsum('j,ir,ij->r',n,delta,eps)\\\n",
    "        - np.einsum('i,j,r,ij->r',n,n,n,eps)\n",
    "print('\\epsilon_N = ',eps_N)\n",
    "print('\\epsilon_T = ',eps_T)"
   ]
  },
  {
   "cell_type": "markdown",
   "metadata": {},
   "source": [
    "## Static constrain"
   ]
  },
  {
   "cell_type": "markdown",
   "metadata": {},
   "source": [
    "\\begin{align}\n",
    "\\sigma_{\\mathrm{N}} &= \\sigma_{ij} n_i n_j\\\\\n",
    "\\nonumber\n",
    "\\sigma_{\\mathrm{T}_r} &= \\frac{1}{2}\n",
    "\\left(n_i \\delta_{jr} + n_j \\delta_{ir} - 2 n_i n_j n_r\\right) \\,  \\sigma_{ij}\n",
    "\\end{align}"
   ]
  },
  {
   "cell_type": "code",
   "execution_count": 38,
   "metadata": {
    "pycharm": {
     "name": "#%%\n"
    }
   },
   "outputs": [
    {
     "name": "stdout",
     "output_type": "stream",
     "text": [
      "\\sigma_N_static = -0.06278171022920749\n",
      "\\sigma_T_static = [-0.23483203 -0.058708    0.01573076]\n"
     ]
    }
   ],
   "source": [
    "sigma_N_static = np.einsum('ij,i,j->',sigma,n,n)\n",
    "sigma_T_statin = 0.5 * np.einsum('i,jr,ij->r',n,delta,sigma) + 0.5 * np.einsum('j,ir,ij->r',n,delta,sigma)\\\n",
    "        - np.einsum('i,j,r,ij->r',n,n,n,sigma)\n",
    "print('\\sigma_N_static =' ,sigma_N_static)\n",
    "print('\\sigma_T_static =',sigma_T_statin)\n",
    "\n"
   ]
  },
  {
   "cell_type": "markdown",
   "metadata": {},
   "source": [
    "## Applying microplane material law"
   ]
  },
  {
   "cell_type": "code",
   "execution_count": 39,
   "metadata": {
    "pycharm": {
     "name": "#%%\n"
    }
   },
   "outputs": [
    {
     "name": "stdout",
     "output_type": "stream",
     "text": [
      "\\sigma_N_micro = 1.5605280085900768\n",
      "\\sigma_T_micro = [ 0.70449608  0.17612401 -0.04719228]\n"
     ]
    }
   ],
   "source": [
    "E_N = E / (1.0 - 2.0 * nu)\n",
    "E_T = (E * (1.0 - 4.0 * nu)) / ((1.0 + nu) * (1.0 - 2.0 * nu))\n",
    "\n",
    "sigma_N = E_N * eps_N\n",
    "sigma_T = E_T * eps_T\n",
    "\n",
    "print('\\sigma_N_micro =' ,sigma_N)\n",
    "print('\\sigma_T_micro =' ,sigma_T)"
   ]
  },
  {
   "cell_type": "markdown",
   "metadata": {},
   "source": [
    "## We are getting microplane stress vector going in the opposite direction of strain vector \n",
    "## What happens if we integrate the microplane stresses?"
   ]
  },
  {
   "cell_type": "markdown",
   "metadata": {},
   "source": [
    "From PVW or integrating microplane free energy, same result. By: Carol, Bazant, Jirasek\n",
    "\n",
    "\\begin{equation}\n",
    "\\sigma_{ij} = \\frac{3}{4\\pi} \\int_{\\Omega} \\sigma_{\\mathrm{N}} n_i n_j d\\Omega + \\frac{3}{4\\pi} \\int_{\\Omega} \\frac{\\sigma_{\\mathrm{T}_r}}{2} (n_i \\delta_{rj} + n_j \\delta_{ri}) d\\Omega \\hspace{1cm}\n",
    "\\label{eq:sigma_ij}\n",
    "\\end{equation}"
   ]
  },
  {
   "cell_type": "markdown",
   "metadata": {},
   "source": [
    "## 28 microplanes hemisphere, weights factors and normals, Bazant"
   ]
  },
  {
   "cell_type": "code",
   "execution_count": 40,
   "metadata": {
    "pycharm": {
     "name": "#%%\n"
    }
   },
   "outputs": [],
   "source": [
    "MPW = np.array([.0160714276, .0160714276, .0160714276, .0160714276, .0204744730,\n",
    "                      .0204744730, .0204744730, .0204744730, .0204744730, .0204744730,\n",
    "                      .0204744730, .0204744730, .0204744730, .0204744730, .0204744730,\n",
    "                      .0204744730, .0158350505, .0158350505, .0158350505, .0158350505,\n",
    "                      .0158350505, .0158350505, .0158350505, .0158350505, .0158350505,\n",
    "                      .0158350505, .0158350505, .0158350505]) * 6.0\n",
    "\n",
    "MPN = np.array([[.577350259, .577350259, .577350259],\n",
    "                      [.577350259, .577350259, -.577350259],\n",
    "                      [.577350259, -.577350259, .577350259],\n",
    "                      [.577350259, -.577350259, -.577350259],\n",
    "                      [.935113132, .250562787, .250562787],\n",
    "                      [.935113132, .250562787, -.250562787],\n",
    "                      [.935113132, -.250562787, .250562787],\n",
    "                      [.935113132, -.250562787, -.250562787],\n",
    "                      [.250562787, .935113132, .250562787],\n",
    "                      [.250562787, .935113132, -.250562787],\n",
    "                      [.250562787, -.935113132, .250562787],\n",
    "                      [.250562787, -.935113132, -.250562787],\n",
    "                      [.250562787, .250562787, .935113132],\n",
    "                      [.250562787, .250562787, -.935113132],\n",
    "                      [.250562787, -.250562787, .935113132],\n",
    "                      [.250562787, -.250562787, -.935113132],\n",
    "                      [.186156720, .694746614, .694746614],\n",
    "                      [.186156720, .694746614, -.694746614],\n",
    "                      [.186156720, -.694746614, .694746614],\n",
    "                      [.186156720, -.694746614, -.694746614],\n",
    "                      [.694746614, .186156720, .694746614],\n",
    "                      [.694746614, .186156720, -.694746614],\n",
    "                      [.694746614, -.186156720, .694746614],\n",
    "                      [.694746614, -.186156720, -.694746614],\n",
    "                      [.694746614, .694746614, .186156720],\n",
    "                      [.694746614, .694746614, -.186156720],\n",
    "                      [.694746614, -.694746614, .186156720],\n",
    "                      [.694746614, -.694746614, -.186156720]])"
   ]
  },
  {
   "cell_type": "markdown",
   "metadata": {},
   "source": [
    "## 2 order N tensor, 3rd order T tensor"
   ]
  },
  {
   "cell_type": "code",
   "execution_count": 41,
   "metadata": {
    "pycharm": {
     "name": "#%%\n"
    }
   },
   "outputs": [],
   "source": [
    "MPTT_ijr = 0.5 * (np.einsum('ni,jr -> nijr', MPN, delta) +\n",
    "                   np.einsum('nj,ir -> njir', MPN, delta) - 2 *\n",
    "                   np.einsum('ni,nj,nr -> nijr', MPN, MPN, MPN))\n",
    "\n",
    "MPNN = np.einsum('ni,nj->nij', MPN, MPN)\n",
    "\n"
   ]
  },
  {
   "cell_type": "markdown",
   "metadata": {},
   "source": [
    "## Applying kinematic constraint"
   ]
  },
  {
   "cell_type": "code",
   "execution_count": 42,
   "metadata": {
    "pycharm": {
     "name": "#%%\n"
    }
   },
   "outputs": [
    {
     "name": "stdout",
     "output_type": "stream",
     "text": [
      "\\epsilon_N =  0.3121056017180154\n",
      "\\epsilon_T =  [-0.32876484 -0.08219121  0.02202307]\n"
     ]
    }
   ],
   "source": [
    "eps_N_Emn = np.einsum('nij,...ij->...n', MPNN, eps) \n",
    "\n",
    "eps_T_Emna = np.einsum('nija,...ij->...na', MPTT_ijr, eps)\n",
    "\n",
    "print('\\epsilon_N = ',eps_N_Emn[10])\n",
    "print('\\epsilon_T = ',eps_T_Emna[10])"
   ]
  },
  {
   "cell_type": "markdown",
   "metadata": {},
   "source": [
    "## Microplane material law"
   ]
  },
  {
   "cell_type": "code",
   "execution_count": 43,
   "metadata": {
    "pycharm": {
     "name": "#%%\n"
    }
   },
   "outputs": [
    {
     "name": "stdout",
     "output_type": "stream",
     "text": [
      "\\sigma_N_micro = 1.5605280085900772\n",
      "\\sigma_T_micro = [ 0.70449608  0.17612401 -0.04719228]\n"
     ]
    }
   ],
   "source": [
    "sigma_N_Emn = E_N * eps_N_Emn\n",
    "sigma_T_Emna = E_T * eps_T_Emna\n",
    "\n",
    "print('\\sigma_N_micro =' ,sigma_N_Emn[10])\n",
    "print('\\sigma_T_micro =' ,sigma_T_Emna[10])"
   ]
  },
  {
   "cell_type": "markdown",
   "metadata": {},
   "source": [
    "## Numerical integration of microplane stresses"
   ]
  },
  {
   "cell_type": "code",
   "execution_count": 44,
   "metadata": {
    "pycharm": {
     "name": "#%%\n"
    }
   },
   "outputs": [
    {
     "name": "stdout",
     "output_type": "stream",
     "text": [
      "integrated \\sigma =  [[-1.00000026e+00  0.00000000e+00  0.00000000e+00]\n",
      " [ 0.00000000e+00  1.31586186e-07  0.00000000e+00]\n",
      " [ 0.00000000e+00  0.00000000e+00  1.31586186e-07]]\n",
      "original \\sigma =  [[-1.00000000e+00  0.00000000e+00  0.00000000e+00]\n",
      " [ 0.00000000e+00 -1.11022302e-16  0.00000000e+00]\n",
      " [ 0.00000000e+00  0.00000000e+00 -1.11022302e-16]]\n"
     ]
    }
   ],
   "source": [
    "sigma_int = np.einsum('n,...n,na,nb->...ab', MPW, sigma_N_Emn, MPN, MPN) + \\\n",
    "            0.5 * (np.einsum('n,...nf,na,fb->...ab', MPW, sigma_T_Emna, MPN, delta) +\n",
    "                   np.einsum('n,...nf,nb,fa->...ab', MPW, sigma_T_Emna, MPN, delta))\n",
    "\n",
    "print('integrated \\sigma = ',sigma_int)\n",
    "print('original \\sigma = ',sigma)"
   ]
  },
  {
   "cell_type": "code",
   "metadata": {
    "pycharm": {
     "name": "#%%\n"
    }
   },
   "source": [
    "sigma_int = np.einsum('n,...n,na,nb->...ab', MPW, sigma_N_Emn, MPN, MPN) + \\\n",
    "            0.5 * (np.einsum('n,...nf,na,fb->...ab', MPW, sigma_T_Emna, MPN, delta) +\n",
    "                   np.einsum('n,...nf,nb,fa->...ab', MPW, sigma_T_Emna, MPN, delta))\n",
    "\n",
    "print('integrated \\sigma = ',sigma_int)\n",
    "print('original \\sigma = ',sigma)"
   ],
   "execution_count": 45,
   "outputs": [
    {
     "name": "stdout",
     "output_type": "stream",
     "text": [
      "integrated \\sigma =  [[-1.00000026e+00  0.00000000e+00  0.00000000e+00]\n",
      " [ 0.00000000e+00  1.31586186e-07  0.00000000e+00]\n",
      " [ 0.00000000e+00  0.00000000e+00  1.31586186e-07]]\n",
      "original \\sigma =  [[-1.00000000e+00  0.00000000e+00  0.00000000e+00]\n",
      " [ 0.00000000e+00 -1.11022302e-16  0.00000000e+00]\n",
      " [ 0.00000000e+00  0.00000000e+00 -1.11022302e-16]]\n"
     ]
    }
   ]
  },
  {
   "cell_type": "markdown",
   "metadata": {},
   "source": [
    "\\begin{align}\n",
    "\\varepsilon_{\\mathrm{N}} &= \\varepsilon_{ij} n_i n_j\\\\\n",
    "\\nonumber\n",
    "\\varepsilon_{\\mathrm{T}_r} &= \\frac{1}{2}\n",
    "\\left(n_i \\delta_{jr} + n_j \\delta_{ir} - 2 n_i n_j n_r\\right) \\,  \\varepsilon_{ij}\n",
    "\\end{align}"
   ]
  },
  {
   "cell_type": "code",
   "execution_count": 46,
   "metadata": {},
   "outputs": [
    {
     "name": "stdout",
     "output_type": "stream",
     "text": [
      "\\epsilon_N =  0.3121056017180153\n",
      "\\epsilon_T =  [-0.32876484 -0.08219121  0.02202307]\n"
     ]
    }
   ],
   "source": [
    "n = np.array([.250562787, -.935113132, .250562787])\n",
    "\n",
    "eps_N = np.einsum('ij,i,j->',eps,n,n)\n",
    "eps_T = 0.5 * np.einsum('i,jr,ij->r',n,delta,eps) + 0.5 * np.einsum('j,ir,ij->r',n,delta,eps)\\\n",
    "        - np.einsum('i,j,r,ij->r',n,n,n,eps)\n",
    "print('\\epsilon_N = ',eps_N)\n",
    "print('\\epsilon_T = ',eps_T)"
   ]
  },
  {
   "cell_type": "markdown",
   "metadata": {},
   "source": [
    "## Static constrain"
   ]
  },
  {
   "cell_type": "markdown",
   "metadata": {},
   "source": [
    "\\begin{align}\n",
    "\\sigma_{\\mathrm{N}} &= \\sigma_{ij} n_i n_j\\\\\n",
    "\\nonumber\n",
    "\\sigma_{\\mathrm{T}_r} &= \\frac{1}{2}\n",
    "\\left(n_i \\delta_{jr} + n_j \\delta_{ir} - 2 n_i n_j n_r\\right) \\,  \\sigma_{ij}\n",
    "\\end{align}"
   ]
  },
  {
   "cell_type": "code",
   "execution_count": 47,
   "metadata": {},
   "outputs": [
    {
     "name": "stdout",
     "output_type": "stream",
     "text": [
      "\\sigma_N_static = -0.06278171022920749\n",
      "\\sigma_T_static = [-0.23483203 -0.058708    0.01573076]\n"
     ]
    }
   ],
   "source": [
    "sigma_N_static = np.einsum('ij,i,j->',sigma,n,n)\n",
    "sigma_T_statin = 0.5 * np.einsum('i,jr,ij->r',n,delta,sigma) + 0.5 * np.einsum('j,ir,ij->r',n,delta,sigma)\\\n",
    "        - np.einsum('i,j,r,ij->r',n,n,n,sigma)\n",
    "print('\\sigma_N_static =' ,sigma_N_static)\n",
    "print('\\sigma_T_static =',sigma_T_statin)\n",
    "\n"
   ]
  },
  {
   "cell_type": "markdown",
   "metadata": {},
   "source": [
    "## Applying microplane material law"
   ]
  },
  {
   "cell_type": "code",
   "execution_count": 48,
   "metadata": {},
   "outputs": [
    {
     "name": "stdout",
     "output_type": "stream",
     "text": [
      "\\sigma_N_micro = 1.5605280085900768\n",
      "\\sigma_T_micro = [ 0.70449608  0.17612401 -0.04719228]\n"
     ]
    }
   ],
   "source": [
    "E_N = E / (1.0 - 2.0 * nu)\n",
    "E_T = (E * (1.0 - 4.0 * nu)) / ((1.0 + nu) * (1.0 - 2.0 * nu))\n",
    "\n",
    "sigma_N = E_N * eps_N\n",
    "sigma_T = E_T * eps_T\n",
    "\n",
    "print('\\sigma_N_micro =' ,sigma_N)\n",
    "print('\\sigma_T_micro =' ,sigma_T)"
   ]
  },
  {
   "cell_type": "markdown",
   "metadata": {},
   "source": [
    "## We are getting microplane stress vector going in the opposite direction of strain vector \n",
    "## What happens if we integrate the microplane stresses?"
   ]
  },
  {
   "cell_type": "markdown",
   "metadata": {},
   "source": [
    "From PVW or integrating microplane free energy, same result. By: Carol, Bazant, Jirasek\n",
    "\n",
    "\\begin{equation}\n",
    "\\sigma_{ij} = \\frac{3}{4\\pi} \\int_{\\Omega} \\sigma_{\\mathrm{N}} n_i n_j d\\Omega + \\frac{3}{4\\pi} \\int_{\\Omega} \\frac{\\sigma_{\\mathrm{T}_r}}{2} (n_i \\delta_{rj} + n_j \\delta_{ri}) d\\Omega \\hspace{1cm}\n",
    "\\label{eq:sigma_ij}\n",
    "\\end{equation}"
   ]
  },
  {
   "cell_type": "markdown",
   "metadata": {},
   "source": [
    "## 28 microplanes hemisphere, weights factors and normals, Bazant"
   ]
  },
  {
   "cell_type": "code",
   "execution_count": 49,
   "metadata": {},
   "outputs": [],
   "source": [
    "MPW = np.array([.0160714276, .0160714276, .0160714276, .0160714276, .0204744730,\n",
    "                      .0204744730, .0204744730, .0204744730, .0204744730, .0204744730,\n",
    "                      .0204744730, .0204744730, .0204744730, .0204744730, .0204744730,\n",
    "                      .0204744730, .0158350505, .0158350505, .0158350505, .0158350505,\n",
    "                      .0158350505, .0158350505, .0158350505, .0158350505, .0158350505,\n",
    "                      .0158350505, .0158350505, .0158350505]) * 6.0\n",
    "\n",
    "MPN = np.array([[.577350259, .577350259, .577350259],\n",
    "                      [.577350259, .577350259, -.577350259],\n",
    "                      [.577350259, -.577350259, .577350259],\n",
    "                      [.577350259, -.577350259, -.577350259],\n",
    "                      [.935113132, .250562787, .250562787],\n",
    "                      [.935113132, .250562787, -.250562787],\n",
    "                      [.935113132, -.250562787, .250562787],\n",
    "                      [.935113132, -.250562787, -.250562787],\n",
    "                      [.250562787, .935113132, .250562787],\n",
    "                      [.250562787, .935113132, -.250562787],\n",
    "                      [.250562787, -.935113132, .250562787],\n",
    "                      [.250562787, -.935113132, -.250562787],\n",
    "                      [.250562787, .250562787, .935113132],\n",
    "                      [.250562787, .250562787, -.935113132],\n",
    "                      [.250562787, -.250562787, .935113132],\n",
    "                      [.250562787, -.250562787, -.935113132],\n",
    "                      [.186156720, .694746614, .694746614],\n",
    "                      [.186156720, .694746614, -.694746614],\n",
    "                      [.186156720, -.694746614, .694746614],\n",
    "                      [.186156720, -.694746614, -.694746614],\n",
    "                      [.694746614, .186156720, .694746614],\n",
    "                      [.694746614, .186156720, -.694746614],\n",
    "                      [.694746614, -.186156720, .694746614],\n",
    "                      [.694746614, -.186156720, -.694746614],\n",
    "                      [.694746614, .694746614, .186156720],\n",
    "                      [.694746614, .694746614, -.186156720],\n",
    "                      [.694746614, -.694746614, .186156720],\n",
    "                      [.694746614, -.694746614, -.186156720]])"
   ]
  },
  {
   "cell_type": "markdown",
   "metadata": {},
   "source": [
    "## 2 order N tensor, 3rd order T tensor"
   ]
  },
  {
   "cell_type": "code",
   "execution_count": 50,
   "metadata": {},
   "outputs": [],
   "source": [
    "MPTT_ijr = 0.5 * (np.einsum('ni,jr -> nijr', MPN, delta) +\n",
    "                   np.einsum('nj,ir -> njir', MPN, delta) - 2 *\n",
    "                   np.einsum('ni,nj,nr -> nijr', MPN, MPN, MPN))\n",
    "\n",
    "MPNN = np.einsum('ni,nj->nij', MPN, MPN)\n",
    "\n"
   ]
  },
  {
   "cell_type": "markdown",
   "metadata": {},
   "source": [
    "## Applying kinematic constraint"
   ]
  },
  {
   "cell_type": "code",
   "execution_count": 51,
   "metadata": {},
   "outputs": [
    {
     "name": "stdout",
     "output_type": "stream",
     "text": [
      "\\epsilon_N =  0.3121056017180154\n",
      "\\epsilon_T =  [-0.32876484 -0.08219121  0.02202307]\n"
     ]
    }
   ],
   "source": [
    "eps_N_Emn = np.einsum('nij,...ij->...n', MPNN, eps) \n",
    "\n",
    "eps_T_Emna = np.einsum('nija,...ij->...na', MPTT_ijr, eps)\n",
    "\n",
    "print('\\epsilon_N = ',eps_N_Emn[10])\n",
    "print('\\epsilon_T = ',eps_T_Emna[10])"
   ]
  },
  {
   "cell_type": "markdown",
   "metadata": {},
   "source": [
    "## Microplane material law"
   ]
  },
  {
   "cell_type": "code",
   "execution_count": 52,
   "metadata": {},
   "outputs": [
    {
     "name": "stdout",
     "output_type": "stream",
     "text": [
      "\\sigma_N_micro = 1.5605280085900772\n",
      "\\sigma_T_micro = [ 0.70449608  0.17612401 -0.04719228]\n"
     ]
    }
   ],
   "source": [
    "sigma_N_Emn = E_N * eps_N_Emn\n",
    "sigma_T_Emna = E_T * eps_T_Emna\n",
    "\n",
    "print('\\sigma_N_micro =' ,sigma_N_Emn[10])\n",
    "print('\\sigma_T_micro =' ,sigma_T_Emna[10])"
   ]
  },
  {
   "cell_type": "markdown",
   "metadata": {},
   "source": [
    "## Numerical integration of microplane stresses"
   ]
  },
  {
   "cell_type": "code",
   "execution_count": 53,
   "metadata": {},
   "outputs": [
    {
     "name": "stdout",
     "output_type": "stream",
     "text": [
      "integrated \\sigma =  [[-1.00000026e+00  0.00000000e+00  0.00000000e+00]\n",
      " [ 0.00000000e+00  1.31586186e-07  0.00000000e+00]\n",
      " [ 0.00000000e+00  0.00000000e+00  1.31586186e-07]]\n",
      "original \\sigma =  [[-1.00000000e+00  0.00000000e+00  0.00000000e+00]\n",
      " [ 0.00000000e+00 -1.11022302e-16  0.00000000e+00]\n",
      " [ 0.00000000e+00  0.00000000e+00 -1.11022302e-16]]\n"
     ]
    }
   ],
   "source": [
    "sigma_int = np.einsum('n,...n,na,nb->...ab', MPW, sigma_N_Emn, MPN, MPN) + \\\n",
    "            0.5 * (np.einsum('n,...nf,na,fb->...ab', MPW, sigma_T_Emna, MPN, delta) +\n",
    "                   np.einsum('n,...nf,nb,fa->...ab', MPW, sigma_T_Emna, MPN, delta))\n",
    "\n",
    "print('integrated \\sigma = ',sigma_int)\n",
    "print('original \\sigma = ',sigma)"
   ]
  },
  {
   "cell_type": "code",
   "execution_count": 53,
   "metadata": {},
   "outputs": [],
   "source": []
  },
  {
   "cell_type": "markdown",
   "metadata": {},
   "source": [
    "## Analyze the Lame parameters"
   ]
  },
  {
   "cell_type": "code",
   "execution_count": 54,
   "metadata": {},
   "outputs": [],
   "source": [
    "import sympy as sp"
   ]
  },
  {
   "cell_type": "code",
   "execution_count": 55,
   "metadata": {},
   "outputs": [],
   "source": [
    "E_, nu_, lambda_, mu_ = sp.symbols('E, nu, lambda, mu')"
   ]
  },
  {
   "cell_type": "code",
   "execution_count": 56,
   "metadata": {},
   "outputs": [],
   "source": [
    "eq_lambda = sp.Eq(lambda_, E_*nu_/ ((1+nu_)*(1-2*nu_)))"
   ]
  },
  {
   "cell_type": "code",
   "execution_count": 57,
   "metadata": {},
   "outputs": [],
   "source": [
    "eq_mu = sp.Eq(mu_, E_ / (2*(1+nu_)))"
   ]
  },
  {
   "cell_type": "code",
   "execution_count": 58,
   "metadata": {},
   "outputs": [
    {
     "data": {
      "text/plain": "Eq(lambda, E*nu/((1 - 2*nu)*(nu + 1)))",
      "text/latex": "$\\displaystyle \\lambda = \\frac{E \\nu}{\\left(1 - 2 \\nu\\right) \\left(\\nu + 1\\right)}$"
     },
     "execution_count": 58,
     "metadata": {},
     "output_type": "execute_result"
    }
   ],
   "source": [
    "eq_lambda"
   ]
  },
  {
   "cell_type": "code",
   "execution_count": 59,
   "metadata": {},
   "outputs": [
    {
     "data": {
      "text/plain": "[-sqrt(2)*I/2, sqrt(2)*I/2]"
     },
     "execution_count": 59,
     "metadata": {},
     "output_type": "execute_result"
    }
   ],
   "source": [
    "sp.solve((E_*nu_/ ((1+nu_)*(1-2*nu_))).diff(nu_),nu_)"
   ]
  },
  {
   "cell_type": "code",
   "execution_count": 60,
   "metadata": {},
   "outputs": [
    {
     "data": {
      "text/plain": "Eq(mu, E/(2*nu + 2))",
      "text/latex": "$\\displaystyle \\mu = \\frac{E}{2 \\nu + 2}$"
     },
     "execution_count": 60,
     "metadata": {},
     "output_type": "execute_result"
    }
   ],
   "source": [
    "eq_mu"
   ]
  },
  {
   "cell_type": "markdown",
   "metadata": {
    "pycharm": {
     "name": "#%% md\n"
    }
   },
   "source": [
    "# Tensorial representaion using sympy\n",
    "\n"
   ]
  },
  {
   "cell_type": "code",
   "execution_count": 61,
   "outputs": [
    {
     "name": "stdout",
     "output_type": "stream",
     "text": [
      "x\n"
     ]
    }
   ],
   "source": [
    "print('x')"
   ],
   "metadata": {
    "collapsed": false,
    "pycharm": {
     "name": "#%%\n"
    }
   }
  },
  {
   "cell_type": "code",
   "execution_count": 62,
   "outputs": [],
   "source": [
    "from sympy.tensor.tensor import TensorIndexType, TensorHead, TensorSymmetry\n",
    "Lorentz = TensorIndexType('Lorentz', dummy_name='L')\n",
    "asym2 = TensorSymmetry.fully_symmetric(-2)\n",
    "A = TensorHead('A', [Lorentz, Lorentz], asym2)"
   ],
   "metadata": {
    "collapsed": false,
    "pycharm": {
     "name": "#%%\n"
    }
   }
  },
  {
   "cell_type": "code",
   "execution_count": 33,
   "outputs": [
    {
     "data": {
      "text/plain": "A(Lorentz,Lorentz)",
      "text/latex": "$\\displaystyle TensorHead\\left(A, \\left( TensorIndexType\\left(Lorentz, L, dim_{L}, dim_{L}, 1, metric\\right), \\  TensorIndexType\\left(Lorentz, L, dim_{L}, dim_{L}, 1, metric\\right)\\right), TensorSymmetry\\left(\\left( 0\\right), \\left( \\left( 0\\; 1\\right)\\left( 2\\; 3\\right)\\right)\\right)\\right)$"
     },
     "execution_count": 33,
     "metadata": {},
     "output_type": "execute_result"
    }
   ],
   "source": [
    "A"
   ],
   "metadata": {
    "collapsed": false,
    "pycharm": {
     "name": "#%%\n"
    }
   }
  },
  {
   "cell_type": "code",
   "execution_count": null,
   "outputs": [],
   "source": [],
   "metadata": {
    "collapsed": false,
    "pycharm": {
     "name": "#%%\n"
    }
   }
  }
 ],
 "metadata": {
  "kernelspec": {
   "display_name": "bmcs_env",
   "language": "python",
   "name": "bmcs_env"
  },
  "language_info": {
   "codemirror_mode": {
    "name": "ipython",
    "version": 3
   },
   "file_extension": ".py",
   "mimetype": "text/x-python",
   "name": "python",
   "nbconvert_exporter": "python",
   "pygments_lexer": "ipython3",
   "version": "3.9.0"
  },
  "toc": {
   "base_numbering": 1,
   "nav_menu": {},
   "number_sections": true,
   "sideBar": true,
   "skip_h1_title": false,
   "title_cell": "Table of Contents",
   "title_sidebar": "Contents",
   "toc_cell": false,
   "toc_position": {},
   "toc_section_display": true,
   "toc_window_display": true
  }
 },
 "nbformat": 4,
 "nbformat_minor": 1
}