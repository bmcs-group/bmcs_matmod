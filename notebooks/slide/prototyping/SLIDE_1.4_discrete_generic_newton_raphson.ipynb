{
 "cells": [
  {
   "cell_type": "markdown",
   "metadata": {},
   "source": [
    "# Damage-plasticity model with generic time stepping\n",
    "This notebook is a work in progress on an abstract and general implementation of time integration algorithm for general damage-plasticity modes. It serves for the development of a package that can be configured by specifying the ingredients of thermodynamically based model\n",
    "\n",
    " - Vector of state variables $\\boldsymbol{\\mathcal{E}}$\n",
    " - Vector of thermodynamic streses $\\boldsymbol{\\mathcal{S}}$\n",
    " - Helmholtz free energy $\\rho \\psi(\\boldsymbol{\\mathcal{S}})$\n",
    " - Threshold on thermodynamical forces  $f(\\boldsymbol{\\mathcal{S}},\\boldsymbol{\\mathcal{E}})$ / Yield condition\n",
    " - Flow potential $\\varphi(\\boldsymbol{\\mathcal{S}},\\boldsymbol{\\mathcal{E}})$\n",
    "\n",
    "as symbolic equations using the sympy package. The time-stepping algorithm gets generated automatically within the thermodynamically framework. The derived  evolution equations and return-mapping to the yield surface is performed using Newton-Raphson scheme.  "
   ]
  },
  {
   "cell_type": "code",
   "execution_count": null,
   "metadata": {},
   "outputs": [],
   "source": [
    "import sympy as sp\n",
    "sp.init_printing()\n",
    "%matplotlib inline\n",
    "import matplotlib.pyplot as plt\n",
    "import numpy as np"
   ]
  },
  {
   "cell_type": "markdown",
   "metadata": {},
   "source": [
    "## Material parameters"
   ]
  },
  {
   "cell_type": "code",
   "execution_count": null,
   "metadata": {},
   "outputs": [],
   "source": [
    "E_b = sp.Symbol('E_b', real=True, nonnegative=True)\n",
    "gamma = sp.Symbol('gamma', real=True, nonnegative=True)\n",
    "K = sp.Symbol('K', real=True)\n",
    "S = sp.Symbol('S', real=True)\n",
    "r = sp.Symbol('r', real=True)\n",
    "c = sp.Symbol('c', real=True)\n",
    "tau_bar = sp.Symbol(r'\\bar{\\tau}', real=True, nonnegative=True)"
   ]
  },
  {
   "cell_type": "code",
   "execution_count": null,
   "metadata": {},
   "outputs": [],
   "source": [
    "material_params = {\n",
    "    E_b:1, gamma:0.2, K:0.1, S:0.005, r:0.001, c:1, \n",
    "    tau_bar:1, \n",
    "}"
   ]
  },
  {
   "cell_type": "code",
   "execution_count": null,
   "metadata": {},
   "outputs": [],
   "source": [
    "material_params = {\n",
    "    E_b:1, \n",
    "    gamma: 0.6, \n",
    "    K:1, \n",
    "    S:0.6, \n",
    "    r:0.001, \n",
    "    c:1, \n",
    "    tau_bar:1, \n",
    "}"
   ]
  },
  {
   "cell_type": "code",
   "execution_count": null,
   "metadata": {},
   "outputs": [],
   "source": [
    "py_vars = ('E_b', 'gamma', 'K', 'S', 'r', 'c', 'tau_bar')\n",
    "map_py2sp = {py_var : globals()[py_var] for py_var in py_vars}\n",
    "sp_vars = tuple(map_py2sp[py_var] for py_var in py_vars)"
   ]
  },
  {
   "cell_type": "markdown",
   "metadata": {},
   "source": [
    "## State variables"
   ]
  },
  {
   "cell_type": "code",
   "execution_count": null,
   "metadata": {},
   "outputs": [],
   "source": [
    "s = sp.Symbol('s', real=True)\n",
    "omega = sp.Symbol('omega', real=True, nonnegative=True)\n",
    "omega.is_nonnegative\n",
    "s_pi = sp.Symbol(r's_pi', real=True)\n",
    "alpha = sp.Symbol('alpha', real=True)\n",
    "z = sp.Symbol('z', real=True)"
   ]
  },
  {
   "cell_type": "code",
   "execution_count": null,
   "metadata": {},
   "outputs": [],
   "source": [
    "Eps = sp.Matrix([s_pi, z, alpha, omega])"
   ]
  },
  {
   "cell_type": "markdown",
   "metadata": {},
   "source": [
    "## Helmholtz potential"
   ]
  },
  {
   "cell_type": "markdown",
   "metadata": {},
   "source": [
    "The starting point in the thermodynamical representation of a process is a potential function of time dependent state variables. To describe the evolution of the state correctly describing the energy dissipation of the system the gradient of the potential function with respect to the state variables provides the generalized forces. The forces are constrained to characterize specific material properties, e.g. strength, hardening."
   ]
  },
  {
   "cell_type": "code",
   "execution_count": null,
   "metadata": {},
   "outputs": [],
   "source": [
    "rho_psi = sp.Rational(1,2)* ( \n",
    "    (1-omega)*\n",
    "    E_b*(s-s_pi)**2 + K * z**2 + gamma * alpha**2\n",
    ")\n",
    "rho_psi"
   ]
  },
  {
   "cell_type": "markdown",
   "metadata": {},
   "source": [
    "## Thermodynamic forces"
   ]
  },
  {
   "cell_type": "code",
   "execution_count": null,
   "metadata": {},
   "outputs": [],
   "source": [
    "tau = sp.Symbol('tau', real=True)\n",
    "tau_pi = sp.Symbol(r'tau_pi', real=True)\n",
    "X = sp.Symbol('X', real=True)\n",
    "Z = sp.Symbol('Z', real=True, nonnegative=True)\n",
    "Y = sp.Symbol('Y', real=True)\n",
    "Sig = sp.Matrix([tau_pi, Z, X, Y])"
   ]
  },
  {
   "cell_type": "code",
   "execution_count": null,
   "metadata": {},
   "outputs": [],
   "source": [
    "grad_rho_psi = sp.Matrix([rho_psi.diff(eps) for eps in Eps])"
   ]
  },
  {
   "cell_type": "code",
   "execution_count": null,
   "metadata": {},
   "outputs": [],
   "source": [
    "Sig_signs = sp.diag(1,-1,-1,1)"
   ]
  },
  {
   "cell_type": "code",
   "execution_count": null,
   "metadata": {},
   "outputs": [],
   "source": [
    "subs_Sigma = {\n",
    "  var: val for var,val in zip(Sig, -Sig_signs*grad_rho_psi)\n",
    "}\n",
    "subs_Sigma"
   ]
  },
  {
   "cell_type": "code",
   "execution_count": null,
   "metadata": {},
   "outputs": [],
   "source": [
    "tau_ = rho_psi.diff(s)\n",
    "tau_"
   ]
  },
  {
   "cell_type": "code",
   "execution_count": null,
   "metadata": {},
   "outputs": [],
   "source": [
    "Sig_ = -Sig_signs * grad_rho_psi\n",
    "Sig_"
   ]
  },
  {
   "cell_type": "code",
   "execution_count": null,
   "metadata": {},
   "outputs": [],
   "source": [
    "get_Sig = sp.lambdify(\n",
    "    (s, Eps) + sp_vars, Sig_.T, 'numpy'\n",
    ")"
   ]
  },
  {
   "cell_type": "code",
   "execution_count": null,
   "metadata": {},
   "outputs": [],
   "source": [
    "dSig_dEps_ = sp.Matrix([ \n",
    "    Sig_.T.diff(eps_i) for eps_i in Eps \n",
    "] ).T\n",
    "dSig_dEps_"
   ]
  },
  {
   "cell_type": "code",
   "execution_count": null,
   "metadata": {},
   "outputs": [],
   "source": [
    "get_dSig_dEps = sp.lambdify(\n",
    "    (s, Eps) + sp_vars, dSig_dEps_,\n",
    ")"
   ]
  },
  {
   "cell_type": "markdown",
   "metadata": {},
   "source": [
    "## Threshold function"
   ]
  },
  {
   "cell_type": "markdown",
   "metadata": {},
   "source": [
    "Define effective stresses as a function of the apparent stress and damage.  Note that $\\tau_\\pi = \\tau$."
   ]
  },
  {
   "cell_type": "code",
   "execution_count": null,
   "metadata": {},
   "outputs": [],
   "source": [
    "tau_eff = sp.Function(r'\\tau^{\\mathrm{eff}}')(tau_pi, omega)\n",
    "Q = sp.Function('Q')(tau_eff,X)\n",
    "tau_eff"
   ]
  },
  {
   "cell_type": "markdown",
   "metadata": {},
   "source": [
    "The stress norm is defined using the stress offset $X$, i.e. the kinematic hardening stress representing the shift of the origin of the yield locus.  "
   ]
  },
  {
   "cell_type": "code",
   "execution_count": null,
   "metadata": {},
   "outputs": [],
   "source": [
    "norm_Q = sp.sqrt(Q*Q)"
   ]
  },
  {
   "cell_type": "markdown",
   "metadata": {},
   "source": [
    "General form of the yield condition then reads"
   ]
  },
  {
   "cell_type": "code",
   "execution_count": null,
   "metadata": {},
   "outputs": [],
   "source": [
    "f = norm_Q - Z - tau_bar\n",
    "f"
   ]
  },
  {
   "cell_type": "code",
   "execution_count": null,
   "metadata": {},
   "outputs": [],
   "source": [
    "subs_Q = {Q: tau_eff - X}\n",
    "subs_Q"
   ]
  },
  {
   "cell_type": "code",
   "execution_count": null,
   "metadata": {},
   "outputs": [],
   "source": [
    "tau_pi, tau"
   ]
  },
  {
   "cell_type": "code",
   "execution_count": null,
   "metadata": {},
   "outputs": [],
   "source": [
    "subs_tau_eff = {tau_eff: tau_pi / (1-omega)}"
   ]
  },
  {
   "cell_type": "code",
   "execution_count": null,
   "metadata": {},
   "outputs": [],
   "source": [
    "f_ = f.subs(subs_Q).subs(subs_tau_eff)\n",
    "f_"
   ]
  },
  {
   "cell_type": "code",
   "execution_count": null,
   "metadata": {},
   "outputs": [],
   "source": [
    "get_f = sp.lambdify(\n",
    "    (Eps, Sig) + sp_vars, f_, 'numpy'\n",
    ")"
   ]
  },
  {
   "cell_type": "code",
   "execution_count": null,
   "metadata": {},
   "outputs": [],
   "source": [
    "df_dSig_ = f_.diff(Sig)\n",
    "get_df_dSig = sp.lambdify(\n",
    "    (Eps, Sig) + sp_vars, df_dSig_, 'numpy'\n",
    ")"
   ]
  },
  {
   "cell_type": "code",
   "execution_count": null,
   "metadata": {},
   "outputs": [],
   "source": [
    "ddf_dEps_ = f_.diff(Eps)\n",
    "get_ddf_dEps = sp.lambdify(\n",
    "    (Eps, Sig) + sp_vars, ddf_dEps_, 'numpy'\n",
    ")"
   ]
  },
  {
   "cell_type": "markdown",
   "metadata": {},
   "source": [
    "## Flow potential"
   ]
  },
  {
   "cell_type": "markdown",
   "metadata": {},
   "source": [
    "**Question:** If the flow potential is extended additively, it might be possible to reflect it in the iterative scheme to avoid repeated calculation of terms shared for derivatives and $f$ and of $\\varphi$."
   ]
  },
  {
   "cell_type": "code",
   "execution_count": null,
   "metadata": {},
   "outputs": [],
   "source": [
    "phi_ext = sp.Function('\\phi')(Y,omega)"
   ]
  },
  {
   "cell_type": "code",
   "execution_count": null,
   "metadata": {},
   "outputs": [],
   "source": [
    "phi_ext_ = S * (1-omega)**c / (r+1) * (Y/S)**(r+1)"
   ]
  },
  {
   "cell_type": "code",
   "execution_count": null,
   "metadata": {},
   "outputs": [],
   "source": [
    "phi = f + phi_ext\n",
    "phi"
   ]
  },
  {
   "cell_type": "code",
   "execution_count": null,
   "metadata": {},
   "outputs": [],
   "source": [
    "dphi_dSig_ = phi.diff(Sig)\n",
    "dphi_dSig_"
   ]
  },
  {
   "cell_type": "code",
   "execution_count": null,
   "metadata": {},
   "outputs": [],
   "source": [
    "subs_tau_eff"
   ]
  },
  {
   "cell_type": "code",
   "execution_count": null,
   "metadata": {},
   "outputs": [],
   "source": [
    "Phi_ = Sig_signs * dphi_dSig_.subs(subs_Q).subs(subs_tau_eff).subs(phi_ext,phi_ext_).doit()\n",
    "sp.simplify(Phi_)"
   ]
  },
  {
   "cell_type": "code",
   "execution_count": null,
   "metadata": {},
   "outputs": [],
   "source": [
    "get_Phi = sp.lambdify(\n",
    "    (Eps, Sig) + sp_vars, Phi_, 'numpy'\n",
    ")"
   ]
  },
  {
   "cell_type": "code",
   "execution_count": null,
   "metadata": {},
   "outputs": [],
   "source": [
    "dPhi_dSig_ = sp.Matrix([ \n",
    "    Phi_.T.diff(sig_i) \n",
    "    for sig_i in Sig \n",
    "] ).T\n",
    "sp.simplify(dPhi_dSig_)"
   ]
  },
  {
   "cell_type": "code",
   "execution_count": null,
   "metadata": {},
   "outputs": [],
   "source": [
    "get_dPhi_dSig = sp.lambdify(\n",
    "    (Eps, Sig) + sp_vars, sp.simplify(dPhi_dSig_), 'numpy'\n",
    ")"
   ]
  },
  {
   "cell_type": "code",
   "execution_count": null,
   "metadata": {},
   "outputs": [],
   "source": [
    "ddPhi_dEps_ = sp.Matrix([ \n",
    "    Phi_.T.diff(eta_i) \n",
    "    for eta_i in Eps \n",
    "] ).T\n",
    "sp.simplify(ddPhi_dEps_)"
   ]
  },
  {
   "cell_type": "code",
   "execution_count": null,
   "metadata": {},
   "outputs": [],
   "source": [
    "get_ddPhi_dEps = sp.lambdify(\n",
    "    (Eps, Sig) + sp_vars, sp.simplify(ddPhi_dEps_), 'numpy'\n",
    ")"
   ]
  },
  {
   "cell_type": "markdown",
   "metadata": {},
   "source": [
    "\\begin{align}\n",
    "\\boldsymbol{\\Phi} = - \\boldsymbol{\\Upsilon} \\frac{\\partial \\varphi}{\\partial \\boldsymbol{\\mathcal{S}}}\n",
    "\\end{align}"
   ]
  },
  {
   "cell_type": "markdown",
   "metadata": {},
   "source": [
    "\\begin{align}\n",
    "f(\\boldsymbol{\\mathcal{E}}_{n+1};  \\lambda) &= 0 \\\\\n",
    "\\boldsymbol{\\mathcal{E}}_{n+1} &= \n",
    "\\boldsymbol{\\mathcal{E}}_{n} + \\lambda \\, \\boldsymbol{\\Phi}_{n+1}\n",
    "\\label{eq:discrete_evolution}\n",
    "\\end{align}"
   ]
  },
  {
   "cell_type": "markdown",
   "metadata": {},
   "source": [
    "# Time integration scheme"
   ]
  },
  {
   "cell_type": "markdown",
   "metadata": {},
   "source": [
    "Let us consider an inadmissible trial state $k$ and express the evolution equations and threshold functions both in implicit form\n",
    "\n",
    "\\begin{align}\n",
    "f(\\boldsymbol{\\mathcal{E}}_{k}; \\lambda_k ) & = 0 \\\\\n",
    "\\boldsymbol{\\mathcal{F}}(\\boldsymbol{\\mathcal{E}}_{k}; \\lambda_k ) &= \n",
    "\\boldsymbol{\\mathcal{E}}_{k} - \\boldsymbol{\\mathcal{E}}_{n} - \\lambda_k \\, \\boldsymbol{\\Phi}_{k} = 0\n",
    "\\end{align}"
   ]
  },
  {
   "cell_type": "markdown",
   "metadata": {},
   "source": [
    "The evolution equations can be expanded using the Taylor series to obtain the approximation at an intermediate state of iteration $k$\n",
    "\\begin{align}\n",
    "f_{k+1}\n",
    "& =\n",
    "f_{k} \n",
    "+\n",
    "\\left.\n",
    "\\frac{\\partial f}{\\partial \\lambda}\n",
    "\\right|_k\n",
    "\\Delta \\lambda +\n",
    "\\left.\n",
    "\\frac{\\partial f}{\\partial \\boldsymbol{\\mathcal{E}}}\n",
    "\\right|_k\n",
    "\\Delta \\boldsymbol{\\mathcal{E}} \n",
    "\\\\\n",
    "\\boldsymbol{\\mathcal{F}}_{k+1}\n",
    "& =\n",
    "\\boldsymbol{\\mathcal{F}}_{k} \n",
    "+\n",
    "\\left.\n",
    "\\frac{\\partial \\boldsymbol{\\mathcal{F}}}{\\partial \\lambda}  \n",
    "\\right|_k\n",
    "\\Delta \\lambda +\n",
    "\\left.\n",
    "\\frac{\\partial \\boldsymbol{\\mathcal{F}}}{\\partial{\\boldsymbol{ \\mathcal{E}}}}  \n",
    "\\right|_k \n",
    "\\Delta {\\boldsymbol{\\mathcal{E}}}\n",
    "\\end{align}"
   ]
  },
  {
   "cell_type": "markdown",
   "metadata": {},
   "source": [
    "To reach an admissible state let us linearize the threshold function at an interim state $j$ as\n",
    "\\begin{align}\n",
    "\\left.\n",
    "\\frac{\\partial f}{\\partial{\\boldsymbol{ \\mathcal{E}}}}  \n",
    "\\right|_k \n",
    "&=\n",
    "\\left. \\frac{\\partial f}{ \\partial \\boldsymbol{\\mathcal{S}}}\\right|_{k}\n",
    "\\left. \\frac{\\partial \\boldsymbol{\\mathcal{S}}}{\\partial \\boldsymbol{\\mathcal{E}}}\\right|_{k}\n",
    "+\n",
    "\\left. \\frac{\\partial^{\\mathrm{dir}} f}{ \\partial^{\\mathrm{dir}} \\boldsymbol{\\mathcal{E}}}\\right|_{k}\n",
    "\\label{eq:df_dEps}\n",
    "\\\\\n",
    "\\left.\n",
    "\\frac{\\partial f}{\\partial{\\lambda}}  \n",
    "\\right|_k \n",
    "&=\n",
    "\\left.\n",
    "\\frac{\\partial f}{\\partial{\\boldsymbol{ \\mathcal{E}}}}  \n",
    "\\right|_k \n",
    "\\left.\n",
    "\\frac{\\partial {\\boldsymbol{ \\mathcal{E}}}}{\\partial \\lambda}\n",
    "\\right|_k =\n",
    "\\left.\n",
    "\\frac{\\partial f}{\\partial{\\boldsymbol{ \\mathcal{E}}}}  \n",
    "\\right|_k \n",
    "\\boldsymbol{\\Phi}_k \n",
    "\\label{eq:df_dlambda}\n",
    "\\\\\n",
    "\\left.\n",
    "\\frac{\\partial \\boldsymbol{\\mathcal{F}}}{\\partial{\\boldsymbol{ \\mathcal{E}}}}  \n",
    "\\right|_k \n",
    "&=\n",
    "I - \\lambda_{k} \\left. \\frac{\\partial \\boldsymbol{\\Phi}}{\\partial \\boldsymbol{\\mathcal{E}}}\\right|_{k}\n",
    "\\label{eq:dF_dEps}\n",
    "\\\\\n",
    "\\left.\n",
    "\\frac{\\partial \\boldsymbol{\\mathcal{F}}}{\\partial{\\lambda}}  \n",
    "\\right|_k \n",
    "&= -\\boldsymbol{\\Phi}_{k}\n",
    "\\label{eq:dF_dlambda}\n",
    "\\end{align}"
   ]
  },
  {
   "cell_type": "markdown",
   "metadata": {},
   "source": [
    "**Remark 3:** The derivative $\\partial^\\mathrm{dir}$ denotes the direct derivative"
   ]
  },
  {
   "cell_type": "markdown",
   "metadata": {},
   "source": [
    "**Remark 2:** Note that $\\displaystyle \\frac{\\partial \\boldsymbol{\\mathcal{E}}}{\\partial \\lambda}$ in equation $\\eqref{eq:df_dlambda}$ can be obtained from the evolution equations $\\eqref{eq:discrete_evolution}$\n",
    "\\begin{align}\n",
    "\\boldsymbol{\\mathcal{E}}_k = \\boldsymbol{\\mathcal{E}}_n + \\lambda \\, \\boldsymbol{\\Phi}_k\\; \\implies\n",
    "\\left.\n",
    "\\frac{\\partial {\\boldsymbol{ \\mathcal{E}}}}{\\partial \\lambda}\n",
    "\\right|_k = \n",
    "\\boldsymbol{\\Phi}_k\n",
    "\\end{align}"
   ]
  },
  {
   "cell_type": "markdown",
   "metadata": {},
   "source": [
    "**Remark 3:** The derivative of the compass with respect to the kinematic state variables in equation $\\eqref{eq:dF_dEps}$ can be resolved to\n",
    "\\begin{align}\n",
    "\\left. \\frac{\\partial \\boldsymbol{\\Phi}}{\\partial \\boldsymbol{\\mathcal{E}}} \\right|_k \n",
    "&=\n",
    "\\left. \\frac{\\partial \\boldsymbol{\\Phi}}{\\partial \\boldsymbol{\\mathcal{S}}} \\right|_k \n",
    "\\left. \\frac{\\partial \\boldsymbol{\\mathcal{S}}}{\\partial \\boldsymbol{\\mathcal{E}}} \\right|_k \n",
    "+\n",
    "\\left. \\frac{\\partial^\\mathrm{dir} \\boldsymbol{\\Phi}}{\\partial^\\mathrm{dir} \\boldsymbol{\\mathcal{E}}} \\right|_k \n",
    "\\end{align}"
   ]
  },
  {
   "cell_type": "markdown",
   "metadata": {},
   "source": [
    "we can assemble a system of recurrent equations as follows\n",
    "\\begin{align}\n",
    "& \\left[\n",
    "\\begin{array}{cc}\n",
    "\\displaystyle\n",
    "\\left.\n",
    "\\frac{\\partial f}{\\partial{\\lambda}}  \n",
    "\\right|_k \n",
    "&\n",
    "\\displaystyle\n",
    "\\left.\n",
    "\\frac{\\partial f}{\\partial{\\boldsymbol{ \\mathcal{E}}}}  \n",
    "\\right|_k \n",
    "\\\\\n",
    "\\displaystyle\n",
    "\\left.\n",
    "\\frac{\\partial \\boldsymbol{\\mathcal{F}}}{\\partial{\\lambda}}  \n",
    "\\right|_k \n",
    "&\n",
    "\\displaystyle\n",
    "\\left.\n",
    "\\frac{\\partial \\boldsymbol{\\mathcal{F}}}{\\partial{\\boldsymbol{ \\mathcal{E}}}}  \n",
    "\\right|_k \n",
    "\\end{array}\n",
    "\\right]\n",
    "\\left[\n",
    "\\begin{array}{c}\n",
    "\\Delta \\lambda\n",
    "\\\\\n",
    "\\Delta {\\boldsymbol{\\mathcal{E}}}\n",
    "\\end{array}\n",
    "\\right] =\n",
    " - \\left[\n",
    "\\begin{array}{c}\n",
    "f_k \\\\\n",
    "\\boldsymbol{\\mathcal{F}}_k \n",
    "\\end{array}\n",
    "\\right] \\\\\n",
    "& \\lambda_{k+1} = \\lambda_{k} + \\Delta \\lambda \\\\\n",
    "& \\boldsymbol{\\mathcal{E}}_{k+1} = \n",
    "\\boldsymbol{\\mathcal{E}}_{k} + \\Delta \\boldsymbol{\\mathcal{E}} \\\\\n",
    "&k = k + 1\n",
    "\\end{align}"
   ]
  },
  {
   "cell_type": "markdown",
   "metadata": {},
   "source": [
    "Let's try to assemble the Jacobian from the ingredients of the material model "
   ]
  },
  {
   "cell_type": "markdown",
   "metadata": {},
   "source": [
    "## Implementation concept\n",
    "The gradient operators needed for the time-stepping scheme have been derived above and are now available for the implementation of the numerical algorithm both in `Python` and `C89` languages\n",
    "\n",
    "<table style=\"width:50%\">\n",
    "<tr>\n",
    "<th>Symbol</th>\n",
    "<th>Python</th>\n",
    "<th>C89</th>\n",
    "</tr>\n",
    "<tr>\n",
    "<td>$\\mathcal{S}(\\boldsymbol{\\varepsilon}, \\boldsymbol{\\mathcal{E}}) $  \n",
    "</td>\n",
    "<td>get_Sig</td>\n",
    "<td>get_Sig_C</td>\n",
    "</tr>\n",
    "<tr>\n",
    "<td>\n",
    "    $\\displaystyle\\frac{\\partial \\boldsymbol{\\mathcal{S}}}{\\partial \\boldsymbol{\\mathcal{E}}}\n",
    "    (\\boldsymbol{\\boldsymbol{\\varepsilon}, \\mathcal{E}}) $</td>\n",
    "<td>get_dSig_dEps</td>\n",
    "<td>get_dSig_dEps_C</td>\n",
    "</tr>\n",
    "<tr>\n",
    "<td>$ f(\\boldsymbol{\\mathcal{S}}, \\boldsymbol{\\mathcal{E}})$</td>\n",
    "<td>get_f</td>\n",
    "<td>get_f_C</td>\n",
    "</tr>\n",
    "<tr>\n",
    "<td>\n",
    "    $\\displaystyle\\frac{\\partial f}{\\partial \\boldsymbol{\\mathcal{S}}}\n",
    "    (\\boldsymbol{\\mathcal{S}},\\boldsymbol{\\mathcal{E}}) $\n",
    "    </td>\n",
    "<td>get_df_dSig</td>\n",
    "<td>get_df_dSig_C</td>\n",
    "</tr>\n",
    "<tr>\n",
    "<td>\n",
    "$\\displaystyle\\frac{\\partial^\\mathrm{dir} f}{\\partial^\\mathrm{dir} \\boldsymbol{\\mathcal{E}}}\n",
    "    (\\boldsymbol{\\mathcal{S}},\\boldsymbol{\\mathcal{E}}) $\n",
    "<td>get_ddf_dEps</td>\n",
    "<td>get_ddf_dEps_C</td>\n",
    "</tr>\n",
    "<tr>\n",
    "<td>\n",
    "    $\\boldsymbol{\\Phi}(\\boldsymbol{\\mathcal{S}}, \\boldsymbol{\\mathcal{E}}) $</td>\n",
    "<td>get_Phi</td>\n",
    "<td>get_Phi_C</td>\n",
    "</tr>\n",
    "<tr>\n",
    "<td>$\\displaystyle\\frac{\\partial \\boldsymbol{\\Phi}}{\\partial \\boldsymbol{\\mathcal{S}}}(\\boldsymbol{\\mathcal{S}}, \\boldsymbol{\\mathcal{E}}) $</td>\n",
    "<td>get_dPhi_dSig</td>\n",
    "<td>get_dPhi_dSig_C</td>\n",
    "</tr>\n",
    "<tr>\n",
    "<td>$\\displaystyle\\frac{\\partial^\\mathrm{dir} \\boldsymbol{\\Phi}}{\\partial^\\mathrm{dir} \\boldsymbol{\\mathcal{E}}}(\\boldsymbol{\\mathcal{S}}, \\boldsymbol{\\mathcal{E}}) $</td>\n",
    "<td>get_ddPhi_dEps</td>\n",
    "<td>get_ddPhi_dEps_C</td>\n",
    "</tr>\n",
    "</table>"
   ]
  },
  {
   "cell_type": "code",
   "execution_count": null,
   "metadata": {},
   "outputs": [],
   "source": [
    "def get_f_df_k(s_n1, Eps_n, lam_k, Eps_k, *margs):\n",
    "    # Generalized stresses\n",
    "    Sig_k = get_Sig(s_n1, Eps_k, *margs)[0]\n",
    "    dSig_dEps_k = get_dSig_dEps(s_n1, Eps_k, *margs)\n",
    "    # Threshold value\n",
    "    f_k = np.array([get_f(Eps_k, Sig_k, *margs)])\n",
    "    #print('f_k', f_k)\n",
    "    df_dSig_k = get_df_dSig(Eps_k, Sig_k, *margs)\n",
    "    ddf_dEps_k = get_ddf_dEps(Eps_k, Sig_k, *margs)\n",
    "    df_dEps_k = np.einsum('ik,ij->kj', df_dSig_k, dSig_dEps_k) + ddf_dEps_k.T\n",
    "    # Flow potential\n",
    "    Phi_k = get_Phi(Eps_k, Sig_k, *margs)\n",
    "    print('Eps_k', Eps_k, 'Sig_k', Sig_k)\n",
    "    print(*margs)\n",
    "    print('Phi_k', Phi_k)\n",
    "    F_k = Eps_k[:,None] - Eps_n[:,None] - lam_k * Phi_k\n",
    "    dPhi_dSig_k = get_dPhi_dSig(Eps_k, Sig_k, *margs)\n",
    "    ddPhi_dEps_k = get_ddPhi_dEps(Eps_k, Sig_k, *margs)\n",
    "    dPhi_dEps_k = np.einsum('ik,kj->ij', dPhi_dSig_k, dSig_dEps_k) + ddPhi_dEps_k\n",
    "    # Predictor matrix\n",
    "    df_dlambda_k = np.einsum('ik,kj->ij', df_dEps_k, Phi_k)\n",
    "    dF_dEps_k = np.identity(len(Eps)) - lam_k * dPhi_dEps_k\n",
    "    dF_dlambda_k = -Phi_k\n",
    "    # Residuum value and derivative\n",
    "    R_k = np.block([[f_k],\n",
    "                    [F_k]])\n",
    "    dR_k = np.block([[df_dlambda_k, df_dEps_k],\n",
    "                     [dF_dlambda_k, dF_dEps_k]])\n",
    "    if False:\n",
    "        print('Sig_k', Sig_k)\n",
    "        print('dSig_dEps_k', dSig_dEps_k)\n",
    "        print('f_k', f_k)\n",
    "        print('df_dSig_k', df_dSig_k)\n",
    "        print('ddf_dEps_k', ddf_dEps_k)\n",
    "        print('df_dEps_k', df_dEps_k)\n",
    "        print('Phi_k', Phi_k)\n",
    "        print('dPhi_dSig_k', dPhi_dSig_k)\n",
    "        print('ddPhi_dEps_k', ddPhi_dEps_k)\n",
    "        print('dPhi_dEps_k', dPhi_dEps_k)\n",
    "        print('df_dlambda_k', df_dlambda_k)\n",
    "        print('dF_dEps_k', dF_dEps_k)\n",
    "        print('dF_dlambda_k', dF_dlambda_k)\n",
    "    return R_k, dR_k, Sig_k"
   ]
  },
  {
   "cell_type": "code",
   "execution_count": null,
   "metadata": {},
   "outputs": [],
   "source": [
    "margs = [material_params[map_py2sp[name]] for name in py_vars]\n",
    "margs"
   ]
  },
  {
   "cell_type": "code",
   "execution_count": null,
   "metadata": {},
   "outputs": [],
   "source": [
    "if True: # debugging get_f_df_k\n",
    "    Eps_n = np.zeros((len(Eps),), dtype=np.float_)\n",
    "    get_f_df_k(3, Eps_n, 0, Eps_n+0.4, *margs)"
   ]
  },
  {
   "cell_type": "code",
   "execution_count": null,
   "metadata": {},
   "outputs": [],
   "source": [
    "def get_response(margs, s_max=1.3, n_steps = 10, k_max=20, get_load_fn=lambda t: t):\n",
    "    Eps_n = np.zeros((len(Eps),), dtype=np.float_)\n",
    "    Eps_k = np.copy(Eps_n)\n",
    "    Sig_record = []\n",
    "    Eps_record = []\n",
    "    iter_record = []\n",
    "    t_arr = np.linspace(0,1,n_steps+1)\n",
    "    s_t = s_max * get_load_fn(t_arr)\n",
    "    for s_n1 in s_t:\n",
    "        print('s_n1', s_n1)\n",
    "        lam_k = 0\n",
    "        f_k, df_k, Sig_k = get_f_df_k(s_n1, Eps_n, lam_k, Eps_k, *margs)\n",
    "        f_k_norm = np.linalg.norm(f_k)\n",
    "        f_k_trial = f_k[0]\n",
    "        k = 0\n",
    "        while k < k_max:\n",
    "            print('R_k', f_k, f_k_norm)\n",
    "            if f_k_trial < 0 or f_k_norm < 1e-3:\n",
    "                Eps_n[...] = Eps_k[...]\n",
    "                Sig_record.append(Sig_k)\n",
    "                Eps_record.append(np.copy(Eps_k))\n",
    "                iter_record.append(k+1)\n",
    "                break\n",
    "            print('dR_k', df_k)\n",
    "            dU = np.linalg.solve(df_k, -f_k)\n",
    "            print('U_k', dU)\n",
    "            #np.nan_to_num(U, copy=False)\n",
    "            lam_k += dU[0,0]\n",
    "            Eps_k += dU[1:,0]\n",
    "            f_k, df_k, Sig_k = get_f_df_k(s_n1, Eps_n, lam_k, Eps_k, *margs)\n",
    "            f_k_norm = np.linalg.norm(f_k)\n",
    "            k += 1\n",
    "        else:\n",
    "            print('no convergence')\n",
    "    Sig_arr = np.array(Sig_record, dtype=np.float_)\n",
    "    Eps_arr = np.array(Eps_record, dtype=np.float_)\n",
    "    iter_arr = np.array(iter_record,dtype=np.int_)\n",
    "    return t_arr, s_t, Eps_arr, Sig_arr, iter_arr"
   ]
  },
  {
   "cell_type": "code",
   "execution_count": null,
   "metadata": {},
   "outputs": [],
   "source": [
    "t_arr, s_t, Eps_arr, Sigma_arr, iter_arr = get_response(\n",
    "    margs=margs, s_max=1.1, n_steps=1, k_max=10\n",
    ")"
   ]
  },
  {
   "cell_type": "code",
   "execution_count": null,
   "metadata": {},
   "outputs": [],
   "source": [
    "t_arr, s_t, Eps_arr, Sigma_arr, iter_arr = get_response(\n",
    "    margs=margs, s_max=1.1, n_steps=1, k_max=1\n",
    ")\n",
    "fig, ((ax1,ax2),(ax3,ax4)) = plt.subplots(2,2,figsize=(12, 10))\n",
    "colors = ['blue','red', 'green', 'black', 'magenta' ]\n",
    "ax1.plot(s_t, Sigma_arr[:,0], color='red');\n",
    "ax2.plot(t_arr, iter_arr, color='green');"
   ]
  },
  {
   "cell_type": "code",
   "execution_count": null,
   "metadata": {},
   "outputs": [],
   "source": [
    "def plot_Sigma_Eta(Sigma, Eta):\n",
    "    fig, ((ax1,ax2),(ax3,ax4)) = plt.subplots(2,2,figsize=(10,6))\n",
    "    colors = ['blue','red', 'green', 'black', 'magenta' ]\n",
    "    s_pi_, z_, alpha_, omega_ = Eta_arr.T\n",
    "    sig_pi_, Z_, X_, Y_ = Sigma_arr.T\n",
    "    ax1.plot(s_t, sig_pi_, color='black', \n",
    "             label='n_steps = %g' % n_step)\n",
    "    ax1.set_xlabel('$s$'); ax1.set_ylabel(r'$\\tau$')\n",
    "    ax1.legend()\n",
    "    ax11 = ax1.twinx()\n",
    "    ax11.plot(s_t, iter_arr, '-.')\n",
    "    ax2.plot(t_arr, omega_, color='red', \n",
    "             label='n_steps = %g' % n_step)\n",
    "    ax2.set_xlabel('$s$'); ax2.set_ylabel(r'$\\omega$')\n",
    "    ax22 = ax2.twinx()\n",
    "    ax22.plot(t_arr, Y_, '-.', color='red', \n",
    "             label='n_steps = %g' % n_step)\n",
    "    ax22.set_ylabel('$Y$')\n",
    "    ax3.plot(t_arr, z_, color='green', \n",
    "             label='n_steps = %g' % n_step)\n",
    "    ax3.set_xlabel('$s$'); ax3.set_ylabel(r'$z$')\n",
    "    ax33 = ax3.twinx()\n",
    "    ax33.plot(t_arr, Z_, '-.', color='green')\n",
    "    ax33.set_ylabel(r'$Z$')\n",
    "    ax4.plot(t_arr, alpha_, color='blue', \n",
    "             label='n_steps = %g' % n_step)\n",
    "    ax4.set_xlabel('$s$'); ax4.set_ylabel(r'$Z$')\n",
    "    ax44 = ax4.twinx()\n",
    "    ax44.plot(t_arr, X_, '-.', color='blue')\n",
    "    plt.show()"
   ]
  },
  {
   "cell_type": "markdown",
   "metadata": {},
   "source": [
    "## Load history"
   ]
  },
  {
   "cell_type": "code",
   "execution_count": null,
   "metadata": {},
   "outputs": [],
   "source": [
    "t = sp.symbols('t')\n",
    "load_fn = sp.Piecewise(\n",
    "    (2*t, t < 0.5),\n",
    "    (1-2*(t-0.5), t < 0.75),\n",
    "    (0.5+2*(t-0.75), t < 1),\n",
    "    (1-2*(t-1), t < 1.25),\n",
    "    (0.5+2*(t-1.25), t >= 1.25)\n",
    ")\n",
    "get_load_fn = sp.lambdify(\n",
    "    t, load_fn\n",
    ")\n",
    "t_arr = np.linspace(0,1.5,100)\n",
    "s_t = get_load_fn( np.linspace(1e-9,1.5,100))\n",
    "plt.plot( t_arr, s_t);"
   ]
  },
  {
   "cell_type": "code",
   "execution_count": null,
   "metadata": {},
   "outputs": [],
   "source": [
    "t_arr, s_t, Eta_arr, Sigma_arr, iter_arr = get_response(\n",
    "    n_steps=100, get_load_fn=get_load_fn)\n",
    "fig, ((ax1,ax2),(ax3,ax4)) = plt.subplots(2,2,figsize=(12, 10))\n",
    "colors = ['blue','red', 'green', 'black', 'magenta' ]\n",
    "ax1.plot(s_t, Sigma_arr[:,0], color='red');\n",
    "ax2.plot(t_arr, iter_arr, color='green');"
   ]
  }
 ],
 "metadata": {
  "kernelspec": {
   "display_name": "Python 3",
   "language": "python",
   "name": "python3"
  },
  "language_info": {
   "codemirror_mode": {
    "name": "ipython",
    "version": 3
   },
   "file_extension": ".py",
   "mimetype": "text/x-python",
   "name": "python",
   "nbconvert_exporter": "python",
   "pygments_lexer": "ipython3",
   "version": "3.7.6"
  },
  "toc": {
   "base_numbering": 1,
   "nav_menu": {},
   "number_sections": true,
   "sideBar": true,
   "skip_h1_title": false,
   "title_cell": "Table of Contents",
   "title_sidebar": "Contents",
   "toc_cell": false,
   "toc_position": {
    "height": "calc(100% - 180px)",
    "left": "10px",
    "top": "150px",
    "width": "165px"
   },
   "toc_section_display": true,
   "toc_window_display": false
  }
 },
 "nbformat": 4,
 "nbformat_minor": 2
}