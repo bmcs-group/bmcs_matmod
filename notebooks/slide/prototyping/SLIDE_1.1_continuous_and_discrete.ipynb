{
 "cells": [
  {
   "cell_type": "markdown",
   "metadata": {},
   "source": [
    "# Slide model with nonlinear return mapping\n",
    "\n",
    "Analytical description of the damage plasticity case.\n",
    "The goal is to express the damage energy dissipation in a closed form"
   ]
  },
  {
   "cell_type": "code",
   "execution_count": null,
   "metadata": {},
   "outputs": [],
   "source": [
    "%matplotlib widget\n",
    "import sympy as sp\n",
    "sp.init_printing()\n",
    "import matplotlib.pyplot as plt\n",
    "import numpy as np"
   ]
  },
  {
   "cell_type": "markdown",
   "metadata": {},
   "source": [
    "## Material parameters"
   ]
  },
  {
   "cell_type": "code",
   "execution_count": null,
   "metadata": {},
   "outputs": [],
   "source": [
    "E_b = sp.Symbol('E_b', real=True, nonnegative=True)\n",
    "gamma = sp.Symbol('gamma', real=True, nonnegative=True)\n",
    "K = sp.Symbol('K', real=True)\n",
    "S = sp.Symbol('S', real=True)\n",
    "r = sp.Symbol('r', real=True)\n",
    "c = sp.Symbol('c', real=True)\n",
    "tau_bar = sp.Symbol(r'\\bar{\\tau}', real=True, nonnegative=True)\n",
    "m = sp.Symbol('m', real=True)"
   ]
  },
  {
   "cell_type": "markdown",
   "metadata": {},
   "source": [
    "## Control parameter"
   ]
  },
  {
   "cell_type": "code",
   "execution_count": null,
   "metadata": {},
   "outputs": [],
   "source": [
    "sigma_N = sp.Symbol('sigma_N', real=True)"
   ]
  },
  {
   "cell_type": "markdown",
   "metadata": {},
   "source": [
    "## State variables"
   ]
  },
  {
   "cell_type": "code",
   "execution_count": null,
   "metadata": {},
   "outputs": [],
   "source": [
    "s = sp.Symbol('s', real=True)\n",
    "omega = sp.Symbol('omega', real=True, nonnegative=True)\n",
    "omega.is_nonnegative\n",
    "s_pi = sp.Symbol(r's_pi', real=True)\n",
    "alpha = sp.Symbol('alpha', real=True)\n",
    "z = sp.Symbol('z', real=True)\n",
    "Eps = sp.Matrix([s_pi, alpha, z, omega])\n",
    "Eps"
   ]
  },
  {
   "cell_type": "code",
   "execution_count": null,
   "metadata": {},
   "outputs": [],
   "source": [
    "dot_lambda = sp.Symbol(r'\\dot{\\lambda}', real=True, nonnegative=True)"
   ]
  },
  {
   "cell_type": "code",
   "execution_count": null,
   "metadata": {},
   "outputs": [],
   "source": [
    "rho_psi = sp.Rational(1,2)* ( (1-omega)*E_b*(s-s_pi)**2 + gamma * alpha**2 + K * z**2)\n",
    "rho_psi"
   ]
  },
  {
   "cell_type": "markdown",
   "metadata": {},
   "source": [
    "## Thermodynamic forces"
   ]
  },
  {
   "cell_type": "code",
   "execution_count": null,
   "metadata": {},
   "outputs": [],
   "source": [
    "tau = sp.Symbol('tau', real=True)\n",
    "tau_pi = sp.Symbol(r'tau_pi', real=True)\n",
    "X = sp.Symbol('X', real=True)\n",
    "Z = sp.Symbol('Z', real=True, nonnegative=True)\n",
    "Y = sp.Symbol('Y', real=True)\n",
    "Sig = [tau_pi, X, Z, Y] "
   ]
  },
  {
   "cell_type": "markdown",
   "metadata": {},
   "source": [
    "## Threshold "
   ]
  },
  {
   "cell_type": "markdown",
   "metadata": {},
   "source": [
    "Define effective stresses as a function of the apparent stress and damage.  Note that $\\tau_\\pi = \\tau$."
   ]
  },
  {
   "cell_type": "code",
   "execution_count": null,
   "metadata": {},
   "outputs": [],
   "source": [
    "tau_eff = sp.Function(r'\\tau^{\\mathrm{eff}}')(tau_pi, omega)\n",
    "Q = sp.Function('Q')(tau_eff,X)\n",
    "tau_eff"
   ]
  },
  {
   "cell_type": "code",
   "execution_count": null,
   "metadata": {},
   "outputs": [],
   "source": [
    "norm_Q = sp.sqrt(Q*Q)\n",
    "sp.simplify(norm_Q.subs(Q,tau_eff-X))"
   ]
  },
  {
   "cell_type": "code",
   "execution_count": null,
   "metadata": {},
   "outputs": [],
   "source": [
    "f = norm_Q - Z - tau_bar + m * sigma_N \n",
    "f"
   ]
  },
  {
   "cell_type": "code",
   "execution_count": null,
   "metadata": {},
   "outputs": [],
   "source": [
    "subs_Q = {Q: tau_eff - X}"
   ]
  },
  {
   "cell_type": "code",
   "execution_count": null,
   "metadata": {},
   "outputs": [],
   "source": [
    "subs_tau_eff = {tau_eff: tau_pi / (1-omega)}"
   ]
  },
  {
   "cell_type": "code",
   "execution_count": null,
   "metadata": {},
   "outputs": [],
   "source": [
    "f_Sig = f.subs(subs_Q).subs(subs_tau_eff)\n",
    "f_Sig"
   ]
  },
  {
   "cell_type": "code",
   "execution_count": null,
   "metadata": {},
   "outputs": [],
   "source": [
    "grad_f = sp.Matrix([ f.diff(sig_) for sig_ in  Sig ])"
   ]
  },
  {
   "cell_type": "code",
   "execution_count": null,
   "metadata": {},
   "outputs": [],
   "source": [
    "grad_f_Sig = grad_f.subs(subs_Q).subs(subs_tau_eff).doit()\n",
    "grad_f_Sig"
   ]
  },
  {
   "cell_type": "markdown",
   "metadata": {},
   "source": [
    "**Plot the threshold function**: for changing damage $\\omega \\in (0,1)$. "
   ]
  },
  {
   "cell_type": "code",
   "execution_count": null,
   "metadata": {
    "hide_input": true
   },
   "outputs": [],
   "source": [
    "def anim_levelset(get_f,\n",
    "                  xrange=(-30,30), yrange=(-30, 30), zrange=(-30,30), trange=(0,1),\n",
    "                  labels=['x','y','z'] ):\n",
    "    xmin, xmax = xrange\n",
    "    ymin, ymax = yrange\n",
    "    zmin, zmax = zrange\n",
    "    tmin, tmax = trange\n",
    "    grid_args = np.mgrid[xmin:xmax:80j, ymin:ymax:80j, zmin:zmax:80j]\n",
    "    f_args = tuple(grid_args)+(0.00001,)\n",
    "    f_val = get_f(*f_args)\n",
    "    contour = mlab.contour3d(\n",
    "        *tuple(grid_args) + (f_val,),\n",
    "        contours=[0.0], color=(1, 0, 0)\n",
    "    )\n",
    "    xl, yl, zl = labels\n",
    "    mlab.axes(xlabel=xl, ylabel=yl, zlabel=zl)\n",
    "    @mlab.animate\n",
    "    def anim():\n",
    "        for omega_val in np.linspace(tmin,tmax,100):\n",
    "            contour.mlab_source.scalars = get_f(*tuple(grid_args)+(omega_val,))\n",
    "            yield\n",
    "\n",
    "    anim()\n",
    "    mlab.show()"
   ]
  },
  {
   "cell_type": "code",
   "execution_count": null,
   "metadata": {
    "hide_input": true
   },
   "outputs": [],
   "source": [
    "if False:\n",
    "    subs_f_TF_data = ({m:0, tau_bar:10})\n",
    "    get_f = sp.lambdify(\n",
    "        (tau_pi, X, Z, omega), \n",
    "        f_TF.subs(subs_f_TF_data), 'numpy')\n",
    "    anim_levelset(get_f)"
   ]
  },
  {
   "cell_type": "markdown",
   "metadata": {},
   "source": [
    "## Flow potential"
   ]
  },
  {
   "cell_type": "code",
   "execution_count": null,
   "metadata": {},
   "outputs": [],
   "source": [
    "Phi = sp.Function('\\Phi')(Y,omega)"
   ]
  },
  {
   "cell_type": "code",
   "execution_count": null,
   "metadata": {},
   "outputs": [],
   "source": [
    "subs_Phi = {Phi: S* (1-omega)**c / (r+1) * (Y/S)**(r+1)}\n",
    "subs_Phi = {Phi: (1-omega)**c / (r+1) * (Y/S)**(r+1)}\n",
    "subs_Phi"
   ]
  },
  {
   "cell_type": "code",
   "execution_count": null,
   "metadata": {},
   "outputs": [],
   "source": [
    "phi = f + Phi\n",
    "phi"
   ]
  },
  {
   "cell_type": "code",
   "execution_count": null,
   "metadata": {},
   "outputs": [],
   "source": [
    "phi_Sig = phi.subs(subs_Q).subs(subs_tau_eff).subs(subs_Phi)"
   ]
  },
  {
   "cell_type": "code",
   "execution_count": null,
   "metadata": {
    "hide_input": true
   },
   "outputs": [],
   "source": [
    "if False:\n",
    "    subs_psi_data = {tau_bar:10, m:0, S:5, r:1, c:1, Z:0}\n",
    "    get_psi = sp.lambdify(\n",
    "        [tau_pi, X, Y, omega],\n",
    "        psi_TF.subs(subs_psi_data), 'numpy')\n",
    "    anim_levelset(get_psi, zrange=(-10,10))"
   ]
  },
  {
   "cell_type": "code",
   "execution_count": null,
   "metadata": {},
   "outputs": [],
   "source": [
    "signs_ij = sp.diag(1,-1,-1,1)\n",
    "grad_phi = sp.Matrix([phi.diff(sig_) for sig_ in Sig])\n",
    "grad_phi_Sig = grad_phi.subs(subs_Q).subs(subs_tau_eff).subs(subs_Phi).doit()\n",
    "grad_phi_Sig"
   ]
  },
  {
   "cell_type": "code",
   "execution_count": null,
   "metadata": {},
   "outputs": [],
   "source": [
    "subs_d_phi_Sig = {var: val for var, val in zip(Sig, grad_phi_Sig)}"
   ]
  },
  {
   "cell_type": "code",
   "execution_count": null,
   "metadata": {
    "hide_input": true
   },
   "outputs": [],
   "source": [
    "def anim_quiver3d(get_f, get_grad_f,\n",
    "                  xrange=(-30,30), yrange=(-30, 30), zrange=(-30,30), trange=(0,1),\n",
    "                  labels=['x','y','z'] ):\n",
    "    xmin, xmax = xrange\n",
    "    ymin, ymax = yrange\n",
    "    zmin, zmax = zrange\n",
    "    tmin, tmax = trange\n",
    "    grid_args = np.mgrid[xmin:xmax:20j, ymin:ymax:20j, zmin:zmax:20j]\n",
    "    f_args = tuple(grid_args)+(tmin,)\n",
    "    f_val = get_f(*f_args)\n",
    "    f_contour = mlab.contour3d(\n",
    "        *tuple(grid_args) + (f_val,),\n",
    "        contours=[0.0], color=(0, 1, 0)\n",
    "    )\n",
    "    x, y, z = grid_args\n",
    "    psi_val = get_grad_f(*f_args)\n",
    "    u, v, w = psi_val[(0,1,3),0]\n",
    "    quiver = mlab.quiver3d(x,y,z,u,v,w)\n",
    "\n",
    "    xl, yl, zl = labels \n",
    "    mlab.axes(xlabel=xl, ylabel=yl, zlabel=zl)\n",
    "    @mlab.animate\n",
    "    def anim():\n",
    "        for omega_val in np.linspace(tmin,tmax,100):\n",
    "            f_args = tuple(grid_args)+(omega_val,)\n",
    "            f_contour.mlab_source.scalars = get_f(*f_args)\n",
    "            psi_val = get_grad_f(*f_args)\n",
    "            u, v, w = psi_val[(0,1,3),0]\n",
    "            quiver.mlab_source.u = u\n",
    "            quiver.mlab_source.v = v\n",
    "            quiver.mlab_source.w = w\n",
    "            yield\n",
    "\n",
    "    anim()\n",
    "    mlab.show()"
   ]
  },
  {
   "cell_type": "code",
   "execution_count": null,
   "metadata": {
    "hide_input": true
   },
   "outputs": [],
   "source": [
    "if False:\n",
    "    subs_psi_data = {tau_bar:10, m:0, S:5, r:1, c:1, Z:0}\n",
    "    get_psi = sp.lambdify(\n",
    "        (tau_pi, X, Y, omega), \n",
    "        psi_TF.subs(subs_psi_data), 'numpy')\n",
    "    get_grad_psi = sp.lambdify(\n",
    "        [tau_pi, X, Y, omega], \n",
    "        grad_psi_TF.subs(subs_psi_data), 'numpy')\n",
    "    anim_quiver3d(get_psi, get_grad_psi, \n",
    "                  xrange=(-30,30), yrange=(-30,30), zrange=(-5,5))"
   ]
  },
  {
   "cell_type": "markdown",
   "metadata": {},
   "source": [
    "## Thermodynamic forces"
   ]
  },
  {
   "cell_type": "code",
   "execution_count": null,
   "metadata": {},
   "outputs": [],
   "source": [
    "rho_psi"
   ]
  },
  {
   "cell_type": "code",
   "execution_count": null,
   "metadata": {},
   "outputs": [],
   "source": [
    "signs_ij"
   ]
  },
  {
   "cell_type": "code",
   "execution_count": null,
   "metadata": {},
   "outputs": [],
   "source": [
    "grad_rho_psi = sp.Matrix([rho_psi.diff(eps_) for eps_ in Eps])\n",
    "subs_Sig_Eps = {\n",
    "  var: val for var,val in zip(Sig,-signs_ij*grad_rho_psi)\n",
    "}\n",
    "subs_Sig_Eps"
   ]
  },
  {
   "cell_type": "code",
   "execution_count": null,
   "metadata": {},
   "outputs": [],
   "source": [
    "Sig_Eps = -signs_ij * grad_rho_psi\n",
    "Sig_Eps"
   ]
  },
  {
   "cell_type": "code",
   "execution_count": null,
   "metadata": {},
   "outputs": [],
   "source": [
    "f_Eps = f_Sig.subs(subs_Sig_Eps)\n",
    "f_Eps"
   ]
  },
  {
   "cell_type": "markdown",
   "metadata": {},
   "source": [
    "Flow potential expressed in terms of the kinematic state variables"
   ]
  },
  {
   "cell_type": "code",
   "execution_count": null,
   "metadata": {},
   "outputs": [],
   "source": [
    "phi_Eps = phi_Sig.subs(subs_Sig_Eps)\n",
    "phi_Eps"
   ]
  },
  {
   "cell_type": "code",
   "execution_count": null,
   "metadata": {
    "hide_input": true
   },
   "outputs": [],
   "source": [
    "if False:\n",
    "    subs_psi_SV_data = {K:1, S:10, r:0.1, c:3, m:0, E_b:1, s:0, gamma:1, tau_bar:1}\n",
    "    get_psi_SV = sp.lambdify(\n",
    "        (s_pi, alpha, z, omega), \n",
    "        psi_SV.subs(subs_psi_SV_data), 'numpy')\n",
    "    grad_psi_SV = grad_psi_TF.subs(subs_TF)\n",
    "    get_grad_psi_SV = sp.lambdify(\n",
    "        (s_pi, alpha, z, omega), \n",
    "        grad_psi_SV.subs(subs_psi_SV_data), 'numpy')\n",
    "    anim_quiver3d(get_psi_SV, get_grad_psi_SV, \n",
    "                  xrange=(-3,3), yrange=(-3,3), zrange=(-3,3),\n",
    "                  trange=(0,0.1))"
   ]
  },
  {
   "cell_type": "markdown",
   "metadata": {},
   "source": [
    "## Evolution equations"
   ]
  },
  {
   "cell_type": "markdown",
   "metadata": {},
   "source": [
    "**Rates of state variables:**"
   ]
  },
  {
   "cell_type": "code",
   "execution_count": null,
   "metadata": {},
   "outputs": [],
   "source": [
    "dot_s, t = sp.symbols(r'\\dot{s}, t')"
   ]
  },
  {
   "cell_type": "code",
   "execution_count": null,
   "metadata": {},
   "outputs": [],
   "source": [
    "s_t = sp.Function(r's')(t)\n",
    "s_pi_t = sp.Function(r's_pi')(t)\n",
    "alpha_t = sp.Function(r'alpha')(t)\n",
    "z_t = sp.Function(r'z')(t)\n",
    "omega_t = sp.Function(r'omega')(t)"
   ]
  },
  {
   "cell_type": "code",
   "execution_count": null,
   "metadata": {},
   "outputs": [],
   "source": [
    "def var_timify( var ):\n",
    "    return sp.Function(var.name+'_t')(t)\n",
    "def var_dotify( var ):\n",
    "    return sp.Symbol(r'\\dot{%s}' % var)"
   ]
  },
  {
   "cell_type": "code",
   "execution_count": null,
   "metadata": {},
   "outputs": [],
   "source": [
    "subs_Eps_t = {\n",
    "    var_timify(var) : var for var in Eps\n",
    "}\n",
    "subs_Eps_t"
   ]
  },
  {
   "cell_type": "code",
   "execution_count": null,
   "metadata": {},
   "outputs": [],
   "source": [
    "dot_Eps_t = dot_lambda * grad_phi_Sig.subs(subs_Sig_Eps)\n",
    "subs_dot_Eps_t = {\n",
    "    var_timify(var).diff(t): sp.simplify(val) \n",
    "    for var, val in zip(Eps, dot_Eps_t)\n",
    "}\n",
    "dot_Eps_t, Eps"
   ]
  },
  {
   "cell_type": "markdown",
   "metadata": {},
   "source": [
    "## Rates of thermodynamic forces"
   ]
  },
  {
   "cell_type": "code",
   "execution_count": null,
   "metadata": {},
   "outputs": [],
   "source": [
    "subs_timify = {var: var_timify(var)\n",
    "              for var in list(Eps) + [s]}\n",
    "subs_untimify = {var_timify(var): var\n",
    "              for var in list(Eps)}\n",
    "subs_timify, subs_untimify"
   ]
  },
  {
   "cell_type": "code",
   "execution_count": null,
   "metadata": {},
   "outputs": [],
   "source": [
    "dot_s = sp.Symbol(r'\\dot{s}')\n",
    "subs_s_untimify = {var_timify(s):s, var_timify(s).diff(t): dot_s} "
   ]
  },
  {
   "cell_type": "markdown",
   "metadata": {},
   "source": [
    "Resolve the chain derivatives"
   ]
  },
  {
   "cell_type": "code",
   "execution_count": null,
   "metadata": {},
   "outputs": [],
   "source": [
    "dot_Sig = sp.Matrix([\n",
    "    subs_Sig_Eps[sig_].subs(subs_timify).diff(t)\n",
    "    for sig_ in Sig ])\n",
    "dot_Sig"
   ]
  },
  {
   "cell_type": "markdown",
   "metadata": {},
   "source": [
    "Split this to individual callable functions"
   ]
  },
  {
   "cell_type": "code",
   "execution_count": null,
   "metadata": {},
   "outputs": [],
   "source": [
    "dot_Sig_Eps = sp.Matrix([\n",
    "    subs_Sig_Eps[sig_].subs(subs_timify).diff(t).subs(\n",
    "        subs_dot_Eps_t).subs(subs_untimify).subs(subs_s_untimify)\n",
    "    for sig_ in Sig ])\n",
    "dot_Sig_Eps"
   ]
  },
  {
   "cell_type": "markdown",
   "metadata": {},
   "source": [
    "## Consistency condition"
   ]
  },
  {
   "cell_type": "code",
   "execution_count": null,
   "metadata": {},
   "outputs": [],
   "source": [
    "dot_f = sp.simplify((grad_f_Sig.subs(subs_Sig_Eps).T * dot_Sig_Eps)[0,0])\n",
    "dot_f"
   ]
  },
  {
   "cell_type": "markdown",
   "metadata": {},
   "source": [
    "## Return mapping expression"
   ]
  },
  {
   "cell_type": "code",
   "execution_count": null,
   "metadata": {},
   "outputs": [],
   "source": [
    "dot_lambda_solved = sp.solve(dot_f, dot_lambda)[0]\n",
    "sp.simplify(dot_lambda_solved)"
   ]
  },
  {
   "cell_type": "code",
   "execution_count": null,
   "metadata": {},
   "outputs": [],
   "source": [
    "data_dict = {E_b: 1, K:0, gamma:0, r:1, c:1} #              gamma:1, K:1, S:1, r:1, c:1, m:1, tau_bar:1, sigma_N : 0}\n",
    "dot_lambda_solved.subs(data_dict)"
   ]
  },
  {
   "cell_type": "code",
   "execution_count": null,
   "metadata": {},
   "outputs": [],
   "source": [
    "sp.simplify(dot_Sig_Eps.subs(dot_lambda, dot_lambda_solved).subs(data_dict))"
   ]
  },
  {
   "cell_type": "markdown",
   "metadata": {},
   "source": [
    "## Test of consistency recovery"
   ]
  },
  {
   "cell_type": "code",
   "execution_count": null,
   "metadata": {},
   "outputs": [],
   "source": [
    "data_dict = {E_b:1, gamma:1, K:1, S:1, r:1, c:1, m:1, tau_bar:1, sigma_N : 0}"
   ]
  },
  {
   "cell_type": "code",
   "execution_count": null,
   "metadata": {},
   "outputs": [],
   "source": [
    "state_dict = {s:5, alpha:0, z:0, s_pi:1, omega:sp.Rational(1,2) }"
   ]
  },
  {
   "cell_type": "code",
   "execution_count": null,
   "metadata": {},
   "outputs": [],
   "source": [
    "dot_lambda_test = dot_lambda_solved.subs(data_dict).subs(state_dict)\n",
    "dot_lambda_test"
   ]
  },
  {
   "cell_type": "code",
   "execution_count": null,
   "metadata": {},
   "outputs": [],
   "source": [
    "sp.simplify(dot_f.subs(data_dict).subs(state_dict).subs(dot_lambda, dot_lambda_test))"
   ]
  },
  {
   "cell_type": "markdown",
   "metadata": {},
   "source": [
    "# Closed form solution for monotonic damage load"
   ]
  },
  {
   "cell_type": "code",
   "execution_count": null,
   "metadata": {},
   "outputs": [],
   "source": [
    "data_dict = {K:0, gamma:0, r:0, c:1} #              gamma:1, K:1, S:1, r:1, c:1, m:1, tau_bar:1, sigma_N : 0}\n",
    "dot_lambda_omega_p = dot_lambda_solved.subs(data_dict)\n",
    "sp.simplify(dot_lambda_omega_p)"
   ]
  },
  {
   "cell_type": "code",
   "execution_count": null,
   "metadata": {},
   "outputs": [],
   "source": [
    "dot_Eps_t[-1].subs(r,0).subs(c,1)"
   ]
  },
  {
   "cell_type": "code",
   "execution_count": null,
   "metadata": {},
   "outputs": [],
   "source": [
    "dot_lambda_omega_p"
   ]
  },
  {
   "cell_type": "code",
   "execution_count": null,
   "metadata": {},
   "outputs": [],
   "source": [
    "dot_omega_s = dot_Eps_t[-1].subs(dot_lambda, dot_lambda_omega_p).subs(data_dict)\n",
    "sp.simplify(dot_omega_s)"
   ]
  },
  {
   "cell_type": "code",
   "execution_count": null,
   "metadata": {},
   "outputs": [],
   "source": [
    "dot_s_p = dot_Eps_t[0].subs(dot_lambda, dot_lambda_omega_p).subs(data_dict)\n",
    "sp.simplify(dot_s_p)"
   ]
  },
  {
   "cell_type": "code",
   "execution_count": null,
   "metadata": {},
   "outputs": [],
   "source": [
    "D_omega = sp.simplify(Y.subs(subs_Sig_Eps) * ( dot_omega_s ))\n",
    "D_omega"
   ]
  },
  {
   "cell_type": "code",
   "execution_count": null,
   "metadata": {},
   "outputs": [],
   "source": [
    "dot_omega_s_0 = dot_omega_s.subs(sp.Abs(E_b*s-E_b*s_pi),E_b*s-E_b*s_pi)\n",
    "dot_s_pi_0 = dot_s_p.subs(sp.Abs(2*s-2*s_pi),2*s-2*s_pi).subs(sp.Abs(E_b*s-E_b*s_pi),E_b*s-E_b*s_pi)\n",
    "dot_s_pi_0"
   ]
  },
  {
   "cell_type": "code",
   "execution_count": null,
   "metadata": {},
   "outputs": [],
   "source": [
    "omega_fn = sp.Function('omega')\n",
    "s_pi_fn = sp.Function('s_pi')\n",
    "subs_Eps_s = {omega: omega_fn(s), s_pi: s_pi_fn(s)}\n",
    "omega_evol_law = sp.Eq(sp.Derivative(omega_fn(s), s), dot_omega_s_0.subs(subs_Eps_s))\n",
    "s_pi_evol_law = sp.Eq(sp.Derivative(s_pi_fn(s), s), dot_s_pi_0.subs(subs_Eps_s))"
   ]
  },
  {
   "cell_type": "code",
   "execution_count": null,
   "metadata": {},
   "outputs": [],
   "source": [
    "omega_evol_ode = omega_evol_law.subs(dot_s,1)"
   ]
  },
  {
   "cell_type": "code",
   "execution_count": null,
   "metadata": {},
   "outputs": [],
   "source": [
    "s_pi_evol_ode = s_pi_evol_law.subs(dot_s,1)\n",
    "omega_evol_ode"
   ]
  },
  {
   "cell_type": "code",
   "execution_count": null,
   "metadata": {},
   "outputs": [],
   "source": [
    "from sympy.solvers.ode.systems import dsolve_system"
   ]
  },
  {
   "cell_type": "code",
   "execution_count": null,
   "metadata": {},
   "outputs": [],
   "source": [
    "omega_s_pi = dsolve_system([omega_evol_ode, s_pi_evol_ode],\n",
    "                          funcs=[omega_fn(s), s_pi_fn(s)], t=s)"
   ]
  },
  {
   "cell_type": "code",
   "execution_count": null,
   "metadata": {},
   "outputs": [],
   "source": [
    "omega_s_eq"
   ]
  },
  {
   "cell_type": "markdown",
   "metadata": {},
   "source": [
    "# Time integration scheme"
   ]
  },
  {
   "cell_type": "code",
   "execution_count": null,
   "metadata": {},
   "outputs": [],
   "source": [
    "material_params = {\n",
    "    E_b:1, gamma:0.2, K:0.1, S:0.005, r:0.001, c:1, \n",
    "    tau_bar:1, \n",
    "    m:0 \n",
    "}"
   ]
  },
  {
   "cell_type": "code",
   "execution_count": null,
   "metadata": {},
   "outputs": [],
   "source": [
    "material_params = {\n",
    "    E_b:1, \n",
    "    gamma: 0.6, \n",
    "    K:1, \n",
    "    S:0.6, \n",
    "    r:0.001, \n",
    "    c:1, \n",
    "    tau_bar:1, \n",
    "    m:0 \n",
    "}"
   ]
  },
  {
   "cell_type": "markdown",
   "metadata": {},
   "source": [
    "## Discrete evolution equations"
   ]
  },
  {
   "cell_type": "code",
   "execution_count": null,
   "metadata": {},
   "outputs": [],
   "source": [
    "s_pi_k, z_k, alpha_k = sp.symbols(\n",
    "    r's_pi_k, z_k, alpha_k', real=True)\n",
    "omega_k, omega_k1 = sp.symbols(\n",
    "    r'omega_k, omega_k1', real=True, nonnegative=True)\n",
    "s_pi_k1, z_k1, alpha_k1 = sp.symbols(\n",
    "    r's_pi_k1, z_k1, alpha_k1', real=True)\n",
    "dlambda_ = sp.Symbol('lambda_Delta', nonnegative=True)\n",
    "subs_state_k = {s_pi: s_pi_k, alpha: alpha_k, omega: omega_k, z: z_k }\n",
    "subs_state_k1 = {s_pi: s_pi_k1, alpha: alpha_k1, omega: omega_k1, z: z_k1 }"
   ]
  },
  {
   "cell_type": "code",
   "execution_count": null,
   "metadata": {},
   "outputs": [],
   "source": [
    "SV_k = sp.Matrix([sv.subs(subs_state_k) for sv in SV])\n",
    "SV_k1 = sp.Matrix([sv.subs(subs_state_k1) for sv in SV])\n",
    "SV_rates = dlambda_ * signs_ij * grad_psi_TF.subs(subs_TF).subs(subs_state_k1)\n",
    "SV_k1_ =  SV_k + SV_rates\n",
    "subs_SV_k1_ = {\n",
    "    sv: expr for sv, expr in zip(SV, list(SV_k1_))\n",
    "}\n",
    "get_SV_k1_ = sp.lambdify(\n",
    "    (s, dlambda_, SV_k, SV_k1), SV_k1_.subs(material_params), 'numpy'\n",
    ")"
   ]
  },
  {
   "cell_type": "code",
   "execution_count": null,
   "metadata": {},
   "outputs": [],
   "source": [
    "S_TF_SV = signs_ij*TF_SV\n",
    "S_TF_SV = -grad_rho_phi\n",
    "get_TF_k = sp.lambdify(\n",
    "    (s, SV_k), \n",
    "    S_TF_SV.subs({sv: val for sv, val in zip(SV,list(SV_k)) }).subs(material_params),\n",
    "    'numpy'\n",
    ")"
   ]
  },
  {
   "cell_type": "code",
   "execution_count": null,
   "metadata": {},
   "outputs": [],
   "source": [
    "f_SV_k1_ = f_SV.subs(subs_SV_k1_)\n",
    "get_f_SV_k1_ = sp.lambdify(\n",
    "    (s, dlambda_, SV_k, SV_k1), f_SV_k1_.subs(material_params), 'numpy'\n",
    ")"
   ]
  },
  {
   "cell_type": "code",
   "execution_count": null,
   "metadata": {},
   "outputs": [],
   "source": [
    "d_f_SV_k1_ = f_SV_k1_.diff(dlambda_)\n",
    "get_d_f_SV_k1_ = sp.lambdify(\n",
    "    (s, dlambda_, SV_k, SV_k1), d_f_SV_k1_.subs(material_params), 'numpy'\n",
    ")"
   ]
  },
  {
   "cell_type": "code",
   "execution_count": null,
   "metadata": {},
   "outputs": [],
   "source": [
    "subs_SV_k1_ = {\n",
    "    sv: expr for sv, expr in zip(SV, list(SV_k1_))\n",
    "}"
   ]
  },
  {
   "cell_type": "code",
   "execution_count": null,
   "metadata": {},
   "outputs": [],
   "source": [
    "SV"
   ]
  },
  {
   "cell_type": "code",
   "execution_count": null,
   "metadata": {},
   "outputs": [],
   "source": [
    "TF_diag_k1 = sp.diag(*TF).subs(subs_TF).subs(subs_state_k1)"
   ]
  },
  {
   "cell_type": "code",
   "execution_count": null,
   "metadata": {},
   "outputs": [],
   "source": [
    "dE_k = sp.simplify(\n",
    "    (TF_diag_k1 * SV_rates))\n",
    "dE_k"
   ]
  },
  {
   "cell_type": "code",
   "execution_count": null,
   "metadata": {},
   "outputs": [],
   "source": [
    "get_dE_k = sp.lambdify(\n",
    "    (s, dlambda_, SV_k1), dE_k.subs(material_params), 'numpy'\n",
    ")"
   ]
  },
  {
   "cell_type": "code",
   "execution_count": null,
   "metadata": {},
   "outputs": [],
   "source": [
    "sv_k = np.array([0.1,0.05,1,0.1], dtype=np.float_)\n",
    "get_dE_k(1e-6,0.1,sv_k)"
   ]
  },
  {
   "cell_type": "code",
   "execution_count": null,
   "metadata": {},
   "outputs": [],
   "source": [
    "U_k = tau_pi*(s - s_pi) / 2\n",
    "U_k_ = U_k.subs(subs_TF).subs(subs_state_k1)"
   ]
  },
  {
   "cell_type": "code",
   "execution_count": null,
   "metadata": {},
   "outputs": [],
   "source": [
    "get_U_k = sp.lambdify(\n",
    "    (s, SV_k1), U_k_.subs(material_params), 'numpy'\n",
    ")"
   ]
  },
  {
   "cell_type": "code",
   "execution_count": null,
   "metadata": {},
   "outputs": [],
   "source": [
    "t_ = sp.symbols('t')\n",
    "s\n",
    "load_fn = sp.Piecewise(\n",
    "    (2*t, t < 0.5),\n",
    "    (1-2*(t-0.5), t < 0.75),\n",
    "    (0.5+2*(t-0.75), t < 1),\n",
    "    (1-2*(t-1), t < 1.25),\n",
    "    (0.5+2*(t-1.25), t >= 1.25)\n",
    ")\n",
    "get_load_fn = sp.lambdify(\n",
    "    t, load_fn\n",
    ")\n",
    "#get_load_fn = lambda t: t\n",
    "t_arr = np.linspace(0,1.5,100)\n",
    "s_t = get_load_fn( np.linspace(1e-9,1.5,100))\n",
    "plt.plot( t_arr, s_t);"
   ]
  },
  {
   "cell_type": "code",
   "execution_count": null,
   "metadata": {},
   "outputs": [],
   "source": [
    "def get_response(s_max=12.6,n_steps=20):\n",
    "    sv_n, sv_k, E_n = [\n",
    "        np.zeros((len(SV),), dtype=np.float_)\n",
    "                for _ in range(3)\n",
    "                      ]\n",
    "    U_n = 0\n",
    "    E_record, U_record, sv_record, tf_record = [], [], [], []\n",
    "    dlambda0 = 0\n",
    "    k, k_max = 0, 2000\n",
    "    t_arr = np.linspace(0,1.5,n_steps+1)\n",
    "    s_t = s_max*get_load_fn(t_arr) + 1e-9\n",
    "    for s_n in s_t: \n",
    "#        print('s_n',s_n)\n",
    "        f0 = get_f_SV_k1_(s_n,dlambda0,sv_n,sv_k)\n",
    "        norm_f0 = f0\n",
    "#        print('\\ns_n: %g, norm_f0: %g' % (s_n,norm_f0))\n",
    "        k = 0\n",
    "        while k < k_max:\n",
    "            if norm_f0 < 1e-10:\n",
    "                sv_n = np.copy(sv_k)\n",
    "                tf_n = get_TF_k(s_n,sv_n).flatten()\n",
    "                dE_n = get_dE_k(s_n, dlambda0, sv_n)\n",
    "                U_n = get_U_k(s_n, sv_n)\n",
    "                E_n[:] += dE_n[:,0]\n",
    "                dlambda0 = 0\n",
    "                sv_record.append(sv_n)\n",
    "                tf_record.append(tf_n)\n",
    "                E_record.append(np.copy(E_n))\n",
    "                U_record.append(U_n)\n",
    "                break\n",
    "            df0 = get_d_f_SV_k1_(s_n,dlambda0,sv_n,sv_k)\n",
    "            dlambda0 -= f0/df0\n",
    "#            print('k: %g, dlambda: %g'%(k, dlambda0))\n",
    "            sv_k = get_SV_k1_(s_n,dlambda0,sv_n,sv_k).flatten()\n",
    "            f0 = get_f_SV_k1_(s_n,dlambda0,sv_n,sv_k)\n",
    "            norm_f0 = np.fabs(f0)\n",
    "            k +=1\n",
    "        else:\n",
    "            print('no convergence')\n",
    "    return (t_arr, \n",
    "            s_t, \n",
    "            np.array(sv_record,dtype=np.float_),\n",
    "            np.array(tf_record,dtype=np.float_),\n",
    "            np.array(E_record,dtype=np.float_),\n",
    "            np.array(U_record,dtype=np.float_))"
   ]
  },
  {
   "cell_type": "code",
   "execution_count": null,
   "metadata": {},
   "outputs": [],
   "source": [
    "from scipy.integrate import cumtrapz"
   ]
  },
  {
   "cell_type": "code",
   "execution_count": null,
   "metadata": {},
   "outputs": [],
   "source": [
    "fig, ((ax1,ax2),(ax3,ax4),(ax5,ax6)) = plt.subplots(3,2,figsize=(10,10))\n",
    "colors = ['blue','red', 'green', 'black', 'magenta' ]\n",
    "n_step = 100 # np.arange(1,2)*10\n",
    "s_max = 4\n",
    "t_arr, s_t, sv_arr, tf_arr, E_arr, U_arr = get_response(s_max,n_step)\n",
    "s_pi_, z_, alpha_, omega_ = sv_arr.T\n",
    "sig_pi_, Z_, X_, Y_ = tf_arr.T\n",
    "ax1.plot(s_t, sig_pi_, color='black', \n",
    "         label='n_steps = %g' % n_step)\n",
    "ax1.set_xlabel('$s$'); ax1.set_ylabel(r'$\\tau$')\n",
    "ax1.legend()\n",
    "ax2.plot(t_arr, omega_, color='red', \n",
    "         label='n_steps = %g' % n_step)\n",
    "ax2.set_xlabel('$s$'); ax2.set_ylabel(r'$\\omega$')\n",
    "ax22 = ax2.twinx()\n",
    "ax22.plot(t_arr, Y_, '-.', color='red', \n",
    "         label='n_steps = %g' % n_step)\n",
    "ax22.set_ylabel('$Y$')\n",
    "ax3.plot(t_arr, z_, color='green', \n",
    "         label='n_steps = %g' % n_step)\n",
    "ax3.set_xlabel('$s$'); ax3.set_ylabel(r'$z$')\n",
    "ax33 = ax3.twinx()\n",
    "ax33.plot(t_arr, Z_, '-.', color='green')\n",
    "ax33.set_ylabel(r'$Z$')\n",
    "ax4.plot(t_arr, alpha_, color='blue', \n",
    "         label='n_steps = %g' % n_step)\n",
    "ax4.set_xlabel('$s$'); ax4.set_ylabel(r'$Z$')\n",
    "ax44 = ax4.twinx()\n",
    "ax44.plot(t_arr, X_, '-.', color='blue')\n",
    "plt.show()"
   ]
  },
  {
   "cell_type": "code",
   "execution_count": null,
   "metadata": {},
   "outputs": [],
   "source": [
    "xsigns_ij = np.array(signs_ij).astype(np.float_)"
   ]
  },
  {
   "cell_type": "code",
   "execution_count": null,
   "metadata": {},
   "outputs": [],
   "source": [
    "fig, ((ax1,ax2),(ax3,ax4)) = plt.subplots(2,2,figsize=(12, 10))\n",
    "colors = ['blue','red', 'green', 'black', 'magenta' ]\n",
    "n_step = 100 # np.arange(1,2)*10\n",
    "s_max = 4\n",
    "t_arr, s_t, sv_arr, tf_arr, E_arr, U_arr = get_response(s_max,n_step)\n",
    "W_arr = cumtrapz(tf_arr[:,0], s_t, initial=0)\n",
    "ax1.plot(t_arr, W_arr, color='red')\n",
    "ax1.plot(t_arr, U_arr, color='green')\n",
    "ax1.plot(t_arr, W_arr - U_arr, color='orange')\n",
    "ax1.set_xlabel('$s$'); ax1.set_ylabel(r'$E$')\n",
    "ax2.plot(t_arr, W_arr - U_arr, color='orange')\n",
    "for E_, c_ in zip(E_arr.T, colors):\n",
    "    ax2.plot(t_arr, E_, color=c_, \n",
    "             label=r'E_{s^\\pi} = %g' % n_step)\n",
    "    ax2.fill_between(t_arr, E_, 0, color=c_, \n",
    "             alpha=0.1)\n",
    "ax2.plot(t_arr, E_arr[:,0] + E_arr[:,3], color='magenta', lw=1)\n",
    "W2_arr = cumtrapz(tf_arr[:,0], s_t, initial=0)\n",
    "U2_arr = tf_arr[:,0] * (s_t-sv_arr[:,0]) / 2.0\n",
    "ax3.plot(t_arr, W2_arr, color='red')\n",
    "ax3.plot(t_arr, U2_arr, color='green')\n",
    "ax3.plot(t_arr, W2_arr - U2_arr, color='orange')\n",
    "ax3.set_xlabel('$s$'); ax3.set_ylabel(r'$E$')\n",
    "E_i = cumtrapz(tf_arr, sv_arr, initial=0, axis=0)\n",
    "E_si = np.einsum('ii,ki->ki', xsigns_ij, E_i)\n",
    "for E_, c_ in zip(E_si.T, colors):\n",
    "    ax4.plot(t_arr, E_, color=c_, \n",
    "             label=r'E_{s^\\pi} = %g' % n_step)\n",
    "    ax4.fill_between(t_arr, E_, 0, color=c_, \n",
    "             alpha=0.1)\n",
    "ax4.plot(t_arr, E_i[:,0] + E_i[:,3], color='magenta', lw=1)"
   ]
  },
  {
   "cell_type": "code",
   "execution_count": null,
   "metadata": {},
   "outputs": [],
   "source": [
    "fig, ((ax1,ax2),(ax3,ax4)) = plt.subplots(2,2,figsize=(12, 10))\n",
    "colors = ['blue','red', 'green', 'black', 'magenta' ]\n",
    "n_step = 100 # np.arange(1,2)*10\n",
    "s_max = 4\n",
    "t_arr, s_t, sv_arr, tf_arr, E_arr, U_arr = get_response(s_max,n_step)\n",
    "ax1.plot(t_arr, E_i[:,0] + E_i[:,3], color='blue');\n",
    "ax1.plot(t_arr, np.sum(E_i, axis=-1), color='red');"
   ]
  },
  {
   "cell_type": "code",
   "execution_count": null,
   "metadata": {},
   "outputs": [],
   "source": []
  },
  {
   "cell_type": "code",
   "execution_count": null,
   "metadata": {},
   "outputs": [],
   "source": []
  },
  {
   "cell_type": "code",
   "execution_count": null,
   "metadata": {},
   "outputs": [],
   "source": []
  }
 ],
 "metadata": {
  "kernelspec": {
   "display_name": "Python 3",
   "language": "python",
   "name": "python3"
  },
  "language_info": {
   "codemirror_mode": {
    "name": "ipython",
    "version": 3
   },
   "file_extension": ".py",
   "mimetype": "text/x-python",
   "name": "python",
   "nbconvert_exporter": "python",
   "pygments_lexer": "ipython3",
   "version": "3.9.1"
  },
  "toc": {
   "base_numbering": 1,
   "nav_menu": {},
   "number_sections": true,
   "sideBar": true,
   "skip_h1_title": false,
   "title_cell": "Table of Contents",
   "title_sidebar": "Contents",
   "toc_cell": false,
   "toc_position": {
    "height": "calc(100% - 180px)",
    "left": "10px",
    "top": "150px",
    "width": "165px"
   },
   "toc_section_display": true,
   "toc_window_display": true
  }
 },
 "nbformat": 4,
 "nbformat_minor": 4
}
