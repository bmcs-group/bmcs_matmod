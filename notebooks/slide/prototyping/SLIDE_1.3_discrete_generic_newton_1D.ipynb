{
 "cells": [
  {
   "cell_type": "markdown",
   "metadata": {
    "slideshow": {
     "slide_type": "slide"
    }
   },
   "source": [
    "# Damage-plasticity model with generic time stepping\n",
    "This notebook is a work in progress on an abstract and general implementation of time integration algorithm for general damage-plasticity modes. It serves for the development of a package that can be configured by specifying the ingredients of thermodynamically based model\n",
    "\n",
    " - Vector of state variables $\\boldsymbol{\\mathcal{E}}$\n",
    " - Vector of thermodynamic streses $\\boldsymbol{\\mathcal{S}}$\n",
    " - Helmholtz free energy $\\psi(\\boldsymbol{\\mathcal{E}})$\n",
    " - Threshold on thermodynamical forces  $f(\\boldsymbol{\\mathcal{S}},\\boldsymbol{\\mathcal{E}})$ / Yield condition\n",
    " - Flow potential $\\varphi(\\boldsymbol{\\mathcal{S}},\\boldsymbol{\\mathcal{E}})$\n",
    "\n",
    "as symbolic equations using the sympy package. The time-stepping algorithm gets generated automatically within the thermodynamically framework. The derived  evolution equations and return-mapping to the yield surface is performed using Newton-Raphson scheme.  "
   ]
  },
  {
   "cell_type": "code",
   "execution_count": 1,
   "metadata": {
    "slideshow": {
     "slide_type": "slide"
    }
   },
   "outputs": [],
   "source": [
    "import sympy as sp\n",
    "sp.init_printing()\n",
    "%matplotlib inline\n",
    "import matplotlib.pyplot as plt\n",
    "import numpy as np"
   ]
  },
  {
   "cell_type": "markdown",
   "metadata": {
    "slideshow": {
     "slide_type": "slide"
    }
   },
   "source": [
    "**Code generation** The derivation is adopted for the purpose of code generation both in Python and C utilizing the `codegen` package provided in `sympy`. The expressions that are part of the time stepping algorithm are transformed to an executable code directly at the place where they are derived. At the end of the notebook the C code can be exported to external files and applied in external tools. "
   ]
  },
  {
   "cell_type": "code",
   "execution_count": 2,
   "metadata": {
    "slideshow": {
     "slide_type": "fragment"
    }
   },
   "outputs": [],
   "source": [
    "from sympy.utilities.codegen import codegen\n",
    "import re\n",
    "def _print_Symbol(self, expr):\n",
    "    CodePrinter = sp.printing.codeprinter.CodePrinter\n",
    "    name = super(CodePrinter, self)._print_Symbol(expr)\n",
    "    return re.sub(r'[\\\\\\{\\}]', '', name)\n",
    "sp.printing.codeprinter.CodePrinter._print_Symbol = _print_Symbol"
   ]
  },
  {
   "cell_type": "markdown",
   "metadata": {
    "slideshow": {
     "slide_type": "slide"
    }
   },
   "source": [
    "## TODO\n",
    " - The current implementation uses the threshold function linearized along $\\lambda$ to represent the consistency condition. As the next step include the fully linearized set of evolution equations and threshold functions. This might be important for SLIDE 3.x, 2D and 3D problems (von Mises, Drucker-Prager). In the current one-dimensional problem it probably has no effect - this feature will be included in SLIDE-core notebook which should be able to generate all the other problems by configuring the thermodynamic inputs symbolically.  \n",
    " - Put the derived get_methods into a class and let the predictor-corrector implementation just access them. With this, the iteration scheme becomes completely generic. Any kind of model can be implemented then using the thermodynamic framework."
   ]
  },
  {
   "cell_type": "markdown",
   "metadata": {},
   "source": [
    "&nbsp;<font color='blue'>\n",
    "**Naming conventions:**\n",
    " - Variables with trailing underscore (e.g. `f_`, or `Sig_`) denote `sympy` expressions. \n",
    " - Variables denoting `sympy` symbols (e.g. `Sig` have no underscore at the end and have an the name which is close to the mathematical symbol\n",
    " - Mathematical symbols defined as string in `sp.symbols(r'\\tau^{\\pi}')` use `latex` syntax to introduce Greek symbols, super and subindexes. This makes the pretty printing of expression possible.\n",
    " - In an implemented algorithm at the end of the notebook, the Python variables containing the numerical values of the material parameters $E_b$, $\\tau_\\mathrm{Y}$, etc. are denoted with a leading underscore `_E_b` and `_tau_Y` to avoid name collisions within the notebook\n",
    "</font>"
   ]
  },
  {
   "cell_type": "markdown",
   "metadata": {
    "slideshow": {
     "slide_type": "slide"
    }
   },
   "source": [
    "## Material parameters"
   ]
  },
  {
   "cell_type": "code",
   "execution_count": 3,
   "metadata": {
    "slideshow": {
     "slide_type": "fragment"
    }
   },
   "outputs": [],
   "source": [
    "E_b = sp.Symbol('E_b', real=True, nonnegative=True)\n",
    "gamma = sp.Symbol('gamma', real=True, nonnegative=True)\n",
    "K = sp.Symbol('K', real=True)\n",
    "S = sp.Symbol('S', real=True)\n",
    "r = sp.Symbol('r', real=True)\n",
    "c = sp.Symbol('c', real=True)\n",
    "tau_bar = sp.Symbol(r'\\bar{\\tau}', real=True, nonnegative=True)"
   ]
  },
  {
   "cell_type": "code",
   "execution_count": 4,
   "metadata": {},
   "outputs": [],
   "source": [
    "py_vars = ('E_b', 'gamma', 'K', 'S', 'r', 'c', 'tau_bar')\n",
    "map_py2sp = {py_var : globals()[py_var] for py_var in py_vars}\n",
    "sp_vars = tuple(map_py2sp[py_var] for py_var in py_vars)"
   ]
  },
  {
   "cell_type": "markdown",
   "metadata": {
    "slideshow": {
     "slide_type": "slide"
    }
   },
   "source": [
    "## State variables"
   ]
  },
  {
   "cell_type": "code",
   "execution_count": 5,
   "metadata": {
    "slideshow": {
     "slide_type": "fragment"
    }
   },
   "outputs": [],
   "source": [
    "s = sp.Symbol('s', real=True)\n",
    "omega = sp.Symbol('omega', real=True, nonnegative=True)\n",
    "omega.is_nonnegative\n",
    "s_pi = sp.Symbol(r's_pi', real=True)\n",
    "alpha = sp.Symbol('alpha', real=True)\n",
    "z = sp.Symbol('z', real=True)"
   ]
  },
  {
   "cell_type": "code",
   "execution_count": 6,
   "metadata": {
    "slideshow": {
     "slide_type": "fragment"
    }
   },
   "outputs": [
    {
     "data": {
      "image/png": "[encoded data removed]",
      "text/latex": [
       "$\\displaystyle \\left[\\begin{matrix}s_{\\pi} & z & \\alpha & \\omega\\end{matrix}\\right]$"
      ],
      "text/plain": [
       "[sₚᵢ  z  α  ω]"
      ]
     },
     "execution_count": 6,
     "metadata": {},
     "output_type": "execute_result"
    }
   ],
   "source": [
    "Eps = sp.Matrix([s_pi, z, alpha, omega])\n",
    "Eps.T"
   ]
  },
  {
   "cell_type": "markdown",
   "metadata": {
    "slideshow": {
     "slide_type": "slide"
    }
   },
   "source": [
    "## Helmholtz free energy"
   ]
  },
  {
   "cell_type": "markdown",
   "metadata": {
    "slideshow": {
     "slide_type": "fragment"
    }
   },
   "source": [
    "The starting point in the thermodynamical representation of a process is a potential function of time dependent state variables. To describe the evolution of the state correctly describing the energy dissipation of the system the gradient of the potential function with respect to the state variables provides the generalized forces. The forces are constrained to characterize specific material properties, e.g. strength, hardening."
   ]
  },
  {
   "cell_type": "code",
   "execution_count": 7,
   "metadata": {
    "slideshow": {
     "slide_type": "fragment"
    }
   },
   "outputs": [
    {
     "data": {
      "image/png": "[encoded data removed]",
      "text/latex": [
       "$\\displaystyle \\frac{E_{b} \\left(1 - \\omega\\right) \\left(s - s_{\\pi}\\right)^{2}}{2} + \\frac{K z^{2}}{2} + \\frac{\\alpha^{2} \\gamma}{2}$"
      ],
      "text/plain": [
       "                     2      2    2  \n",
       "E_b⋅(1 - ω)⋅(s - sₚᵢ)    K⋅z    α ⋅γ\n",
       "────────────────────── + ──── + ────\n",
       "          2               2      2  "
      ]
     },
     "execution_count": 7,
     "metadata": {},
     "output_type": "execute_result"
    }
   ],
   "source": [
    "rho_psi_ = sp.Rational(1,2)* ( \n",
    "    (1-omega)*E_b*(s-s_pi)**2 + K * z**2 + gamma * alpha**2\n",
    ")\n",
    "rho_psi_"
   ]
  },
  {
   "cell_type": "markdown",
   "metadata": {
    "slideshow": {
     "slide_type": "slide"
    }
   },
   "source": [
    "## Thermodynamic forces"
   ]
  },
  {
   "cell_type": "code",
   "execution_count": 8,
   "metadata": {
    "slideshow": {
     "slide_type": "fragment"
    }
   },
   "outputs": [],
   "source": [
    "tau = sp.Symbol('tau', real=True)\n",
    "tau_pi = sp.Symbol(r'tau_pi', real=True)\n",
    "X = sp.Symbol('X', real=True)\n",
    "Z = sp.Symbol('Z', real=True, nonnegative=True)\n",
    "Y = sp.Symbol('Y', real=True)"
   ]
  },
  {
   "cell_type": "code",
   "execution_count": 9,
   "metadata": {
    "slideshow": {
     "slide_type": "fragment"
    }
   },
   "outputs": [
    {
     "data": {
      "image/png": "[encoded data removed]",
      "text/latex": [
       "$\\displaystyle \\left[\\begin{matrix}\\tau_{\\pi} & Z & X & Y\\end{matrix}\\right]$"
      ],
      "text/plain": [
       "[τₚᵢ  Z  X  Y]"
      ]
     },
     "execution_count": 9,
     "metadata": {},
     "output_type": "execute_result"
    }
   ],
   "source": [
    "Sig = sp.Matrix([tau_pi, Z, X, Y])\n",
    "Sig.T"
   ]
  },
  {
   "cell_type": "markdown",
   "metadata": {
    "slideshow": {
     "slide_type": "slide"
    }
   },
   "source": [
    "The introduce the thermodynamic forces we have to differentiate Hemholtz free energy\n",
    "with respect to the kinematic state variables\n",
    "\\begin{align}\n",
    "\\frac{\\partial \\rho \\psi }{\\partial \\boldsymbol{\\mathcal{E}}}\n",
    "\\end{align}"
   ]
  },
  {
   "cell_type": "code",
   "execution_count": 10,
   "metadata": {
    "slideshow": {
     "slide_type": "fragment"
    }
   },
   "outputs": [
    {
     "data": {
      "image/png": "[encoded data removed]",
      "text/latex": [
       "$\\displaystyle \\left[\\begin{matrix}\\frac{E_{b} \\left(1 - \\omega\\right) \\left(- 2 s + 2 s_{\\pi}\\right)}{2}\\\\K z\\\\\\alpha \\gamma\\\\- \\frac{E_{b} \\left(s - s_{\\pi}\\right)^{2}}{2}\\end{matrix}\\right]$"
      ],
      "text/plain": [
       "⎡E_b⋅(1 - ω)⋅(-2⋅s + 2⋅sₚᵢ)⎤\n",
       "⎢──────────────────────────⎥\n",
       "⎢            2             ⎥\n",
       "⎢                          ⎥\n",
       "⎢           K⋅z            ⎥\n",
       "⎢                          ⎥\n",
       "⎢           α⋅γ            ⎥\n",
       "⎢                          ⎥\n",
       "⎢                   2      ⎥\n",
       "⎢     -E_b⋅(s - sₚᵢ)       ⎥\n",
       "⎢     ────────────────     ⎥\n",
       "⎣            2             ⎦"
      ]
     },
     "execution_count": 10,
     "metadata": {},
     "output_type": "execute_result"
    }
   ],
   "source": [
    "d_rho_psi_ = sp.Matrix([rho_psi_.diff(eps) for eps in Eps])\n",
    "d_rho_psi_"
   ]
  },
  {
   "cell_type": "markdown",
   "metadata": {
    "slideshow": {
     "slide_type": "fragment"
    }
   },
   "source": [
    "To obtain consistent signs of the Helmholtz derivatives we define a sign switch operator so that all generalized forces are defined as positive for the respective conjugate state variable $\\boldsymbol{\\Upsilon}$. "
   ]
  },
  {
   "cell_type": "code",
   "execution_count": 11,
   "metadata": {
    "slideshow": {
     "slide_type": "fragment"
    }
   },
   "outputs": [],
   "source": [
    "Sig_signs = sp.diag(-1,1,1,-1)"
   ]
  },
  {
   "cell_type": "markdown",
   "metadata": {
    "slideshow": {
     "slide_type": "slide"
    }
   },
   "source": [
    "The constitutive laws between generalized force and kinematic variables then read\n",
    "\\begin{align}\n",
    "\\boldsymbol{\\mathcal{S}} = \\boldsymbol{\\Upsilon}\\frac{\\rho \\psi}{\\partial\\boldsymbol{\\mathcal{E}}} \n",
    "\\end{align}"
   ]
  },
  {
   "cell_type": "code",
   "execution_count": 12,
   "metadata": {
    "slideshow": {
     "slide_type": "fragment"
    }
   },
   "outputs": [
    {
     "data": {
      "image/png": "[encoded data removed]",
      "text/latex": [
       "$\\displaystyle \\left[\\begin{matrix}- \\frac{E_{b} \\left(1 - \\omega\\right) \\left(- 2 s + 2 s_{\\pi}\\right)}{2} & K z & \\alpha \\gamma & \\frac{E_{b} \\left(s - s_{\\pi}\\right)^{2}}{2}\\end{matrix}\\right]$"
      ],
      "text/plain": [
       "⎡                                                     2⎤\n",
       "⎢-E_b⋅(1 - ω)⋅(-2⋅s + 2⋅sₚᵢ)             E_b⋅(s - sₚᵢ) ⎥\n",
       "⎢────────────────────────────  K⋅z  α⋅γ  ──────────────⎥\n",
       "⎣             2                                2       ⎦"
      ]
     },
     "execution_count": 12,
     "metadata": {},
     "output_type": "execute_result"
    }
   ],
   "source": [
    "Sig_ = Sig_signs * d_rho_psi_\n",
    "Sig_.T"
   ]
  },
  {
   "cell_type": "markdown",
   "metadata": {
    "slideshow": {
     "slide_type": "fragment"
    }
   },
   "source": [
    "**Executable code for** $\\boldsymbol{\\mathcal{S}}(s,\\boldsymbol{\\mathcal{E}})$"
   ]
  },
  {
   "cell_type": "code",
   "execution_count": 13,
   "metadata": {},
   "outputs": [],
   "source": [
    "get_Sig = sp.lambdify( \n",
    "    (s, Eps) + sp_vars, Sig_.T, 'numpy'\n",
    ")\n",
    "get_Sig_C = codegen(('Sig', Sig_), 'C89', 'SLIDE1_3')"
   ]
  },
  {
   "cell_type": "markdown",
   "metadata": {
    "slideshow": {
     "slide_type": "slide"
    }
   },
   "source": [
    "To derive the time stepping procedure we will need also the matrix of derivatives of the generalized stresses $\\boldsymbol{\\mathcal{S}}$ with respect to the kinematic variables $\\boldsymbol{\\mathcal{E}}$ \n",
    "\\begin{align}\n",
    "\\frac{\\partial \\boldsymbol{S}}{\\partial \\boldsymbol{E}}\n",
    "\\end{align}"
   ]
  },
  {
   "cell_type": "code",
   "execution_count": 14,
   "metadata": {
    "slideshow": {
     "slide_type": "fragment"
    }
   },
   "outputs": [
    {
     "data": {
      "image/png": "[encoded data removed]",
      "text/latex": [
       "$\\displaystyle \\left[\\begin{matrix}- E_{b} \\left(1 - \\omega\\right) & 0 & 0 & \\frac{E_{b} \\left(- 2 s + 2 s_{\\pi}\\right)}{2}\\\\0 & K & 0 & 0\\\\0 & 0 & \\gamma & 0\\\\\\frac{E_{b} \\left(- 2 s + 2 s_{\\pi}\\right)}{2} & 0 & 0 & 0\\end{matrix}\\right]$"
      ],
      "text/plain": [
       "⎡                          E_b⋅(-2⋅s + 2⋅sₚᵢ)⎤\n",
       "⎢   -E_b⋅(1 - ω)     0  0  ──────────────────⎥\n",
       "⎢                                  2         ⎥\n",
       "⎢                                            ⎥\n",
       "⎢        0           K  0          0         ⎥\n",
       "⎢                                            ⎥\n",
       "⎢        0           0  γ          0         ⎥\n",
       "⎢                                            ⎥\n",
       "⎢E_b⋅(-2⋅s + 2⋅sₚᵢ)                          ⎥\n",
       "⎢──────────────────  0  0          0         ⎥\n",
       "⎣        2                                   ⎦"
      ]
     },
     "execution_count": 14,
     "metadata": {},
     "output_type": "execute_result"
    }
   ],
   "source": [
    "dSig_dEps_ = sp.Matrix([ \n",
    "    Sig_.T.diff(eps) for eps in Eps \n",
    "] ).T\n",
    "dSig_dEps_"
   ]
  },
  {
   "cell_type": "markdown",
   "metadata": {
    "slideshow": {
     "slide_type": "fragment"
    }
   },
   "source": [
    "**Executable Python code generation** $\\displaystyle \\frac{\\partial }{\\partial \\boldsymbol{\\mathcal{E}}}  \\boldsymbol{\\mathcal{S}}(s,\\boldsymbol{\\mathcal{E}})$"
   ]
  },
  {
   "cell_type": "code",
   "execution_count": 15,
   "metadata": {
    "slideshow": {
     "slide_type": "fragment"
    }
   },
   "outputs": [],
   "source": [
    "get_dSig_dEps = sp.lambdify(\n",
    "    (s, Eps) + sp_vars, dSig_dEps_, 'numpy'\n",
    ")\n",
    "get_dSig_dEps_C = codegen(('dSig_dEps', dSig_dEps_), 'C89', 'SLIDE1_3')"
   ]
  },
  {
   "cell_type": "markdown",
   "metadata": {
    "slideshow": {
     "slide_type": "slide"
    }
   },
   "source": [
    "## Threshold function"
   ]
  },
  {
   "cell_type": "markdown",
   "metadata": {
    "slideshow": {
     "slide_type": "fragment"
    }
   },
   "source": [
    "To keep the framework general for different stress norms and hardening definitions let us first introduce a general function for effective stress. Note that the observable stress $\\tau$ is identical with the plastic stress $\\tau_\\pi$ due to the performed sign switch in the definition of the thermodynamic forces."
   ]
  },
  {
   "cell_type": "code",
   "execution_count": 16,
   "metadata": {
    "slideshow": {
     "slide_type": "fragment"
    }
   },
   "outputs": [
    {
     "data": {
      "image/png": "[encoded data removed]",
      "text/latex": [
       "$\\displaystyle \\tau^{\\mathrm{eff}}{\\left(\\tau_{\\pi},\\omega \\right)}$"
      ],
      "text/plain": [
       "\\tau__{\\mathrm{eff}}(τₚᵢ, ω)"
      ]
     },
     "execution_count": 16,
     "metadata": {},
     "output_type": "execute_result"
    }
   ],
   "source": [
    "tau_eff = sp.Function(r'\\tau^{\\mathrm{eff}}')(tau_pi, omega)\n",
    "Q = sp.Function('Q')(tau_eff,X)\n",
    "tau_eff"
   ]
  },
  {
   "cell_type": "markdown",
   "metadata": {
    "slideshow": {
     "slide_type": "slide"
    }
   },
   "source": [
    "The stress norm is defined using the stress offset $X$, i.e. the kinematic hardening stress representing the shift of the origin of the yield locus.  "
   ]
  },
  {
   "cell_type": "code",
   "execution_count": 17,
   "metadata": {
    "slideshow": {
     "slide_type": "fragment"
    }
   },
   "outputs": [],
   "source": [
    "norm_Q = sp.sqrt(Q*Q)"
   ]
  },
  {
   "cell_type": "markdown",
   "metadata": {
    "slideshow": {
     "slide_type": "fragment"
    }
   },
   "source": [
    "General form of the yield condition then reads"
   ]
  },
  {
   "cell_type": "code",
   "execution_count": 18,
   "metadata": {
    "slideshow": {
     "slide_type": "fragment"
    }
   },
   "outputs": [
    {
     "data": {
      "image/png": "[encoded data removed]",
      "text/latex": [
       "$\\displaystyle - Z - \\bar{\\tau} + \\sqrt{Q^{2}{\\left(\\tau^{\\mathrm{eff}}{\\left(\\tau_{\\pi},\\omega \\right)},X \\right)}}$"
      ],
      "text/plain": [
       "                     _____________________________________\n",
       "                    ╱  2                                  \n",
       "-Z - \\bar{\\tau} + ╲╱  Q (\\tau__{\\mathrm{eff}}(τₚᵢ, ω), X) "
      ]
     },
     "execution_count": 18,
     "metadata": {},
     "output_type": "execute_result"
    }
   ],
   "source": [
    "f = norm_Q - Z - tau_bar\n",
    "f"
   ]
  },
  {
   "cell_type": "markdown",
   "metadata": {
    "slideshow": {
     "slide_type": "slide"
    }
   },
   "source": [
    "Let us now introduce the back stress $X$ by defining the substitution for $Q = \\tau^\\mathrm{eff} - X$"
   ]
  },
  {
   "cell_type": "code",
   "execution_count": 19,
   "metadata": {
    "slideshow": {
     "slide_type": "fragment"
    }
   },
   "outputs": [
    {
     "data": {
      "image/png": "[encoded data removed]",
      "text/latex": [
       "$\\displaystyle \\left\\{ Q{\\left(\\tau^{\\mathrm{eff}}{\\left(\\tau_{\\pi},\\omega \\right)},X \\right)} : - X + \\tau^{\\mathrm{eff}}{\\left(\\tau_{\\pi},\\omega \\right)}\\right\\}$"
      ],
      "text/plain": [
       "{Q(\\tau__{\\mathrm{eff}}(τₚᵢ, ω), X): -X + \\tau__{\\mathrm{eff}}(τₚᵢ, ω)}"
      ]
     },
     "execution_count": 19,
     "metadata": {},
     "output_type": "execute_result"
    }
   ],
   "source": [
    "subs_Q = {Q: tau_eff - X}\n",
    "subs_Q"
   ]
  },
  {
   "cell_type": "markdown",
   "metadata": {
    "slideshow": {
     "slide_type": "fragment"
    }
   },
   "source": [
    "Further substitution rule introduces the effective stress as a function of damage as"
   ]
  },
  {
   "cell_type": "code",
   "execution_count": 20,
   "metadata": {
    "slideshow": {
     "slide_type": "fragment"
    }
   },
   "outputs": [
    {
     "data": {
      "image/png": "[encoded data removed]",
      "text/latex": [
       "$\\displaystyle \\left\\{ \\tau^{\\mathrm{eff}}{\\left(\\tau_{\\pi},\\omega \\right)} : \\frac{\\tau_{\\pi}}{1 - \\omega}\\right\\}$"
      ],
      "text/plain": [
       "⎧                               τₚᵢ ⎫\n",
       "⎨\\tau__{\\mathrm{eff}}(τₚᵢ, ω): ─────⎬\n",
       "⎩                              1 - ω⎭"
      ]
     },
     "execution_count": 20,
     "metadata": {},
     "output_type": "execute_result"
    }
   ],
   "source": [
    "subs_tau_eff = {tau_eff: tau_pi / (1-omega)}\n",
    "subs_tau_eff"
   ]
  },
  {
   "cell_type": "markdown",
   "metadata": {
    "slideshow": {
     "slide_type": "slide"
    }
   },
   "source": [
    "After substitutions the yield function reads"
   ]
  },
  {
   "cell_type": "code",
   "execution_count": 21,
   "metadata": {
    "slideshow": {
     "slide_type": "fragment"
    }
   },
   "outputs": [
    {
     "data": {
      "image/png": "[encoded data removed]",
      "text/latex": [
       "$\\displaystyle - Z - \\bar{\\tau} + \\sqrt{\\left(- X + \\frac{\\tau_{\\pi}}{1 - \\omega}\\right)^{2}}$"
      ],
      "text/plain": [
       "                       _______________\n",
       "                      ╱             2 \n",
       "                     ╱  ⎛      τₚᵢ ⎞  \n",
       "-Z - \\bar{\\tau} +   ╱   ⎜-X + ─────⎟  \n",
       "                  ╲╱    ⎝     1 - ω⎠  "
      ]
     },
     "execution_count": 21,
     "metadata": {},
     "output_type": "execute_result"
    }
   ],
   "source": [
    "f_ = f.subs(subs_Q).subs(subs_tau_eff)\n",
    "f_"
   ]
  },
  {
   "cell_type": "markdown",
   "metadata": {
    "slideshow": {
     "slide_type": "fragment"
    }
   },
   "source": [
    "**Executable code generation** $f(\\boldsymbol{\\mathcal{E}}, \\boldsymbol{\\mathcal{S}})$\n",
    "\n",
    "Note that this is a function of both the forces and kinematic state variables"
   ]
  },
  {
   "cell_type": "code",
   "execution_count": 38,
   "metadata": {
    "slideshow": {
     "slide_type": "fragment"
    }
   },
   "outputs": [],
   "source": [
    "get_f = sp.lambdify(\n",
    "    (Eps, Sig) + sp_vars, f_, 'numpy'\n",
    ")\n",
    "get_f_C = codegen(('f', f_), 'C89', 'SLIDE1_3')"
   ]
  },
  {
   "cell_type": "markdown",
   "metadata": {
    "slideshow": {
     "slide_type": "slide"
    }
   },
   "source": [
    "The derivative of $f$ required for time-stepping $\\frac{\\partial f}{\\partial \\boldsymbol{\\mathcal{S}}}$ is obtained as"
   ]
  },
  {
   "cell_type": "code",
   "execution_count": 39,
   "metadata": {
    "slideshow": {
     "slide_type": "fragment"
    }
   },
   "outputs": [
    {
     "data": {
      "image/png": "[encoded data removed]",
      "text/latex": [
       "$\\displaystyle \\left[\\begin{matrix}\\frac{\\left|{\\frac{X \\left(\\omega - 1\\right) + \\tau_{\\pi}}{\\omega - 1}}\\right|}{X \\left(\\omega - 1\\right) + \\tau_{\\pi}} & -1 & \\frac{\\left(\\omega - 1\\right) \\left|{\\frac{X \\left(\\omega - 1\\right) + \\tau_{\\pi}}{\\omega - 1}}\\right|}{X \\left(\\omega - 1\\right) + \\tau_{\\pi}} & 0\\end{matrix}\\right]$"
      ],
      "text/plain": [
       "⎡│X⋅(ω - 1) + τₚᵢ│              │X⋅(ω - 1) + τₚᵢ│   ⎤\n",
       "⎢│───────────────│      (ω - 1)⋅│───────────────│   ⎥\n",
       "⎢│     ω - 1     │              │     ω - 1     │   ⎥\n",
       "⎢─────────────────  -1  ─────────────────────────  0⎥\n",
       "⎣ X⋅(ω - 1) + τₚᵢ            X⋅(ω - 1) + τₚᵢ        ⎦"
      ]
     },
     "execution_count": 39,
     "metadata": {},
     "output_type": "execute_result"
    }
   ],
   "source": [
    "df_dSig_ = f_.diff(Sig)\n",
    "sp.simplify(df_dSig_).T"
   ]
  },
  {
   "cell_type": "markdown",
   "metadata": {
    "slideshow": {
     "slide_type": "fragment"
    }
   },
   "source": [
    "**Executable code generation** $\\displaystyle \\frac{\\partial f}{\\partial \\boldsymbol{\\mathcal{S}}}(\\boldsymbol{\\mathcal{E}}, \\boldsymbol{\\mathcal{S})}$"
   ]
  },
  {
   "cell_type": "code",
   "execution_count": 40,
   "metadata": {
    "slideshow": {
     "slide_type": "fragment"
    }
   },
   "outputs": [],
   "source": [
    "get_df_dSig = sp.lambdify(\n",
    "    (Eps, Sig) + sp_vars, df_dSig_, 'numpy'\n",
    ")\n",
    "get_df_dSig_C = codegen(('df_dSig', df_dSig_), 'C89', 'SLIDE1_3')"
   ]
  },
  {
   "cell_type": "markdown",
   "metadata": {
    "slideshow": {
     "slide_type": "slide"
    }
   },
   "source": [
    "Due to the direct dependency of $f$ on $\\boldsymbol{\\mathcal{E}}$ also the term $\\displaystyle\\frac{\\partial^\\mathrm{dir} f}{\\partial^\\mathrm{dir} \\boldsymbol{\\mathcal{E}}}$ must be provided for numerical evaluation of derivatives"
   ]
  },
  {
   "cell_type": "code",
   "execution_count": 41,
   "metadata": {
    "slideshow": {
     "slide_type": "fragment"
    }
   },
   "outputs": [
    {
     "data": {
      "image/png": "[encoded data removed]",
      "text/latex": [
       "$\\displaystyle \\left[\\begin{matrix}0 & 0 & 0 & \\frac{\\tau_{\\pi} \\sqrt{\\left(- X + \\frac{\\tau_{\\pi}}{1 - \\omega}\\right)^{2}}}{\\left(1 - \\omega\\right)^{2} \\left(- X + \\frac{\\tau_{\\pi}}{1 - \\omega}\\right)}\\end{matrix}\\right]$"
      ],
      "text/plain": [
       "⎡                  _______________⎤\n",
       "⎢                 ╱             2 ⎥\n",
       "⎢                ╱  ⎛      τₚᵢ ⎞  ⎥\n",
       "⎢         τₚᵢ⋅  ╱   ⎜-X + ─────⎟  ⎥\n",
       "⎢             ╲╱    ⎝     1 - ω⎠  ⎥\n",
       "⎢0  0  0  ────────────────────────⎥\n",
       "⎢                 2 ⎛      τₚᵢ ⎞  ⎥\n",
       "⎢          (1 - ω) ⋅⎜-X + ─────⎟  ⎥\n",
       "⎣                   ⎝     1 - ω⎠  ⎦"
      ]
     },
     "execution_count": 41,
     "metadata": {},
     "output_type": "execute_result"
    }
   ],
   "source": [
    "ddf_dEps_ = f_.diff(Eps)\n",
    "ddf_dEps_.T"
   ]
  },
  {
   "cell_type": "markdown",
   "metadata": {
    "slideshow": {
     "slide_type": "slide"
    }
   },
   "source": [
    "**Executable Python code generation** $\\displaystyle\\frac{\\partial }{\\partial \\boldsymbol{\\mathcal{E}}} f(\\boldsymbol{\\mathcal{E}}, \\boldsymbol{\\mathcal{S})}$"
   ]
  },
  {
   "cell_type": "code",
   "execution_count": 42,
   "metadata": {
    "slideshow": {
     "slide_type": "fragment"
    }
   },
   "outputs": [],
   "source": [
    "get_ddf_dEps = sp.lambdify(\n",
    "    (Eps, Sig) + sp_vars, ddf_dEps_, 'numpy'\n",
    ")\n",
    "get_ddf_dEps_C = codegen(('df_dEps', ddf_dEps_), 'C89', 'SLIDE1_3')"
   ]
  },
  {
   "cell_type": "markdown",
   "metadata": {
    "slideshow": {
     "slide_type": "slide"
    }
   },
   "source": [
    "## Flow potential\n",
    "For non-associative flow rule let us define an extension to be added to the threshold function "
   ]
  },
  {
   "cell_type": "code",
   "execution_count": 43,
   "metadata": {
    "slideshow": {
     "slide_type": "fragment"
    }
   },
   "outputs": [],
   "source": [
    "phi_ext = S* (1-omega)**c / (r+1) * (Y/S)**(r+1) "
   ]
  },
  {
   "cell_type": "markdown",
   "metadata": {
    "slideshow": {
     "slide_type": "fragment"
    }
   },
   "source": [
    "The flow potential $\\varphi(\\boldsymbol{\\mathcal{E}}, \\boldsymbol{\\mathcal{S}})$ reads"
   ]
  },
  {
   "cell_type": "code",
   "execution_count": 44,
   "metadata": {
    "scrolled": true,
    "slideshow": {
     "slide_type": "fragment"
    }
   },
   "outputs": [
    {
     "data": {
      "image/png": "[encoded data removed]",
      "text/latex": [
       "$\\displaystyle \\frac{S \\left(\\frac{Y}{S}\\right)^{r + 1} \\left(1 - \\omega\\right)^{c}}{r + 1} - Z - \\bar{\\tau} + \\sqrt{\\left(- X + \\frac{\\tau_{\\pi}}{1 - \\omega}\\right)^{2}}$"
      ],
      "text/plain": [
       "     r + 1                                                 \n",
       "  ⎛Y⎞             c                         _______________\n",
       "S⋅⎜─⎟     ⋅(1 - ω)                         ╱             2 \n",
       "  ⎝S⎠                                     ╱  ⎛      τₚᵢ ⎞  \n",
       "─────────────────── - Z - \\bar{\\tau} +   ╱   ⎜-X + ─────⎟  \n",
       "       r + 1                           ╲╱    ⎝     1 - ω⎠  "
      ]
     },
     "execution_count": 44,
     "metadata": {},
     "output_type": "execute_result"
    }
   ],
   "source": [
    "phi_ = f_ + phi_ext\n",
    "phi_"
   ]
  },
  {
   "cell_type": "markdown",
   "metadata": {
    "slideshow": {
     "slide_type": "slide"
    }
   },
   "source": [
    "and the corresponding directions of flow given as a product of the sign operator $\\Upsilon$ and of the derivatives with respect to state variables \n",
    "$\\boldsymbol{\\Upsilon} \\, \\partial_{\\boldsymbol{\\mathcal{S}}} \\varphi$\n",
    "This renders following flow direction vector\n",
    "\\begin{align}\n",
    "\\boldsymbol{\\Phi} = - \\Upsilon \\frac{\\partial \\varphi}{\\partial \\boldsymbol{\\mathcal{S}}} \n",
    "\\end{align}"
   ]
  },
  {
   "cell_type": "code",
   "execution_count": 45,
   "metadata": {
    "slideshow": {
     "slide_type": "fragment"
    }
   },
   "outputs": [
    {
     "data": {
      "image/png": "[encoded data removed]",
      "text/latex": [
       "$\\displaystyle \\left[\\begin{matrix}\\frac{\\left|{\\frac{X \\left(\\omega - 1\\right) + \\tau_{\\pi}}{\\omega - 1}}\\right|}{X \\left(\\omega - 1\\right) + \\tau_{\\pi}} & 1 & - \\frac{\\left(\\omega - 1\\right) \\left|{\\frac{X \\left(\\omega - 1\\right) + \\tau_{\\pi}}{\\omega - 1}}\\right|}{X \\left(\\omega - 1\\right) + \\tau_{\\pi}} & \\left(\\frac{Y}{S}\\right)^{r} \\left(1 - \\omega\\right)^{c}\\end{matrix}\\right]$"
      ],
      "text/plain": [
       "⎡│X⋅(ω - 1) + τₚᵢ│              │X⋅(ω - 1) + τₚᵢ│                ⎤\n",
       "⎢│───────────────│     -(ω - 1)⋅│───────────────│      r         ⎥\n",
       "⎢│     ω - 1     │              │     ω - 1     │   ⎛Y⎞         c⎥\n",
       "⎢─────────────────  1  ───────────────────────────  ⎜─⎟ ⋅(1 - ω) ⎥\n",
       "⎣ X⋅(ω - 1) + τₚᵢ            X⋅(ω - 1) + τₚᵢ        ⎝S⎠          ⎦"
      ]
     },
     "execution_count": 45,
     "metadata": {},
     "output_type": "execute_result"
    }
   ],
   "source": [
    "Phi_ = -Sig_signs * phi_.diff(Sig)\n",
    "sp.simplify(Phi_.T)"
   ]
  },
  {
   "cell_type": "markdown",
   "metadata": {
    "slideshow": {
     "slide_type": "fragment"
    }
   },
   "source": [
    "**Executable code generation** $\\boldsymbol{\\Phi}(\\boldsymbol{\\mathcal{E}}, \\boldsymbol{\\mathcal{S})}$"
   ]
  },
  {
   "cell_type": "code",
   "execution_count": 46,
   "metadata": {
    "slideshow": {
     "slide_type": "fragment"
    }
   },
   "outputs": [],
   "source": [
    "get_Phi = sp.lambdify(\n",
    "    (Eps, Sig) + sp_vars, Phi_, 'numpy'\n",
    ")\n",
    "get_Phi_C = codegen(('dPhi', Phi_), 'C89', 'SLIDE1_3')"
   ]
  },
  {
   "cell_type": "markdown",
   "metadata": {
    "slideshow": {
     "slide_type": "slide"
    }
   },
   "source": [
    "# Time integration scheme"
   ]
  },
  {
   "cell_type": "markdown",
   "metadata": {
    "slideshow": {
     "slide_type": "slide"
    }
   },
   "source": [
    "## Discrete yield condition\n",
    "In a continuous case we consistency condition to explicitly glue the state onto the yield surface \n",
    "\\begin{align}\n",
    "\\dot{f}(\\boldsymbol{\\mathcal{S}}(s, \\boldsymbol{\\mathcal{E}(\\lambda)}), \\boldsymbol{\\mathcal{E}(\\lambda)} ) &= 0 \\end{align}\n",
    "In discrete case, we relax this requirement. Indeed, by taking $f(s_{n+1}; \\boldsymbol{\\mathcal{E}_n}) $ as a first trial value we can obtain positive values.\n",
    "\n",
    "&nbsp;<font color=\"green\">\n",
    "**We allow for \"trial\" states which lie beyond the admissible domain $f \\le 0$ during iteration. This allows us to construct a \"return mapping\" algorithm that iteratively approaches an admissible state on the yield surface.**</font>"
   ]
  },
  {
   "cell_type": "markdown",
   "metadata": {
    "slideshow": {
     "slide_type": "fragment"
    }
   },
   "source": [
    "Given an inadmissible trial state $k$ with the yield condition $f_k > 0$, let us introduce a linearized approximation of its change along the plastic multiplier $\\lambda$ around the state $k$. \n",
    "\\begin{align}\n",
    " f_{k+1} &= f_{k} + \\left. \\frac{\\partial f}{\\partial \\lambda} \\right|_k \\Delta \\lambda\n",
    "\\end{align}\n",
    "In this form, we can search for an admissible state $f_{n+1} = 0$ by iterating over $k$.\n",
    "Note that in initial iteration $k = 0$ the state from previous step is reused, i.e. \n",
    "$f(s_{n+1}; \\boldsymbol{\\mathcal{E}_n}) $."
   ]
  },
  {
   "attachments": {
    "image.png": {
     "image/png": "[encoded data removed]"
    }
   },
   "cell_type": "markdown",
   "metadata": {
    "slideshow": {
     "slide_type": "slide"
    }
   },
   "source": [
    "In the linearized form, we can transform the yield condition to a recurrent formula\n",
    "\\begin{align}\n",
    "\\left. \\frac{\\mathrm{d} f}{\\mathrm{d} \\lambda}\\right|_k \\Delta \\lambda &= -f_k,\n",
    "\\hspace{1cm} f_k \\rightarrow 0 \\; \\;\\mathrm{for}\\;\\; k = 1\\ldots\\infty\n",
    "\\end{align}\n",
    "This resembles the Newton method for iterative solution of a nonlinear equation. However, we need to consider the fact that the level of inadmissibility $f$ changes between iterations. \n",
    "![image.png](attachment:image.png)\n",
    "Note that the predictor is negative and $\\Delta \\lambda > 0$. In every step, the plastic multiplier is updated:\n",
    "\\begin{align}\n",
    "\\lambda_{k+1} &= \\lambda_k + \\Delta \\lambda, \\, \\lambda_0 = 0 \\nonumber \\\\ \\nonumber\n",
    "\\end{align}"
   ]
  },
  {
   "cell_type": "markdown",
   "metadata": {
    "slideshow": {
     "slide_type": "fragment"
    }
   },
   "source": [
    "Two more questions must addressed to define a general numerical algorithm for plasticity:\n",
    "<font color=\"brown\">\n",
    " * **Update of state variables $\\boldsymbol{\\mathcal{E}}_{k+1}$ in each iteration**\n",
    " * **Expression of the predictor $\\mathrm{d} f / \\mathrm{d} \\lambda$ in terms of the state variables**\n",
    "</font>"
   ]
  },
  {
   "cell_type": "markdown",
   "metadata": {
    "slideshow": {
     "slide_type": "slide"
    }
   },
   "source": [
    "## State update\n",
    "In every iteration step the state variables $\\boldsymbol{\\mathcal{E}}$ must be updated using the discrete evolution equations, i.e. \n",
    "\\begin{align}\n",
    "\\boldsymbol{\\mathcal{E}}_{k+1} &= \n",
    "\\boldsymbol{\\mathcal{E}}_k + \\lambda_{k+1} \n",
    "\\boldsymbol{\\Phi}_k\n",
    "\\label{eq:discrete_evolution}\n",
    "\\end{align}\n",
    "Which is used in the calculation of the threshold function in the next step. Note that $\\boldsymbol{\\Phi}_k$ is evaluated in the state $k$ and not $k+1$."
   ]
  },
  {
   "cell_type": "markdown",
   "metadata": {
    "slideshow": {
     "slide_type": "fragment"
    }
   },
   "source": [
    "To reach an admissible state let us linearize the threshold function at an interim state $k$ as\n",
    "\\begin{align}\n",
    "f_{k+1} = \n",
    "f_k \n",
    " +\n",
    "\\left.\n",
    "\\frac\n",
    "{\\partial f}\n",
    "{\\partial \\lambda}\n",
    "\\right|_k\n",
    "\\Delta \\lambda\n",
    "\\end{align}"
   ]
  },
  {
   "cell_type": "markdown",
   "metadata": {
    "slideshow": {
     "slide_type": "fragment"
    }
   },
   "source": [
    "## Predictor\n",
    "\\begin{align}\n",
    "\\left.\n",
    "\\frac{\\partial f}{\\partial{\\lambda}}  \n",
    "\\right|_k \n",
    "&=\n",
    "\\left.\n",
    "\\frac{\\partial f}{\\partial{\\boldsymbol{ \\mathcal{E}}}}  \n",
    "\\right|_k \n",
    "\\left.\n",
    "\\frac{\\partial {\\boldsymbol{ \\mathcal{E}}}}{\\partial \\lambda}\n",
    "\\right|_k =\n",
    "\\left.\n",
    "\\frac{\\partial f}{\\partial{\\boldsymbol{ \\mathcal{E}}}}  \n",
    "\\right|_k \n",
    "\\boldsymbol{\\Phi}_k \\\\\n",
    "\\left.\n",
    "\\frac{\\partial f}{\\partial{\\boldsymbol{ \\mathcal{E}}}}  \n",
    "\\right|_k \n",
    "&=\n",
    "\\left. \\frac{\\partial f}{ \\partial \\boldsymbol{\\mathcal{S}}}\\right|_{k}\n",
    "\\left. \\frac{\\partial \\boldsymbol{\\mathcal{S}}}{\\partial \\boldsymbol{\\mathcal{E}}}\\right|_{k}\n",
    "+\n",
    "\\left. \\frac{\\partial^{\\mathrm{dir}} f}{ \\partial^{\\mathrm{dir}} \\boldsymbol{\\mathcal{E}}}\\right|_{k}\n",
    "\\label{eq:df_dlambda}\n",
    "\\end{align}"
   ]
  },
  {
   "cell_type": "markdown",
   "metadata": {
    "slideshow": {
     "slide_type": "slide"
    }
   },
   "source": [
    "**Remark 1:** The derivative $\\partial^\\mathrm{dir}$ denotes the direct derivative with respect to $\\boldsymbol{\\mathcal{E}}$"
   ]
  },
  {
   "cell_type": "markdown",
   "metadata": {
    "slideshow": {
     "slide_type": "fragment"
    }
   },
   "source": [
    "**Remark 2:** Note that $\\displaystyle \\frac{\\partial \\boldsymbol{\\mathcal{E}}}{\\partial \\lambda}$ in equation $\\eqref{eq:df_dlambda}$ can be obtained from the evolution equations $\\eqref{eq:discrete_evolution}$\n",
    "\\begin{align}\n",
    "\\boldsymbol{\\mathcal{E}}_k = \\boldsymbol{\\mathcal{E}}_n + \\lambda \\, \\boldsymbol{\\Phi}_k\\; \\implies\n",
    "\\left.\n",
    "\\frac{\\partial {\\boldsymbol{ \\mathcal{E}}}}{\\partial \\lambda}\n",
    "\\right|_k = \n",
    "\\boldsymbol{\\Phi}_k\n",
    "\\end{align}"
   ]
  },
  {
   "cell_type": "markdown",
   "metadata": {
    "slideshow": {
     "slide_type": "subslide"
    }
   },
   "source": [
    "Thus, by rewriting the linearized equation as a recurrence formula, the iteration algorithm is obtained\n",
    "\\begin{align}\n",
    "&\n",
    "\\left.\n",
    "\\frac{\\partial f}{\\partial{\\lambda}}  \n",
    "\\right|_k \n",
    "\\Delta \\lambda\n",
    "= - f^{(k)}\\\\\n",
    "& \\lambda_{k+1} = \\lambda_{k} + \\Delta \\lambda \\\\\n",
    "& \\boldsymbol{\\mathcal{E}}_{k+1} = \\boldsymbol{\\mathcal{E}}_{k} + \n",
    " \\lambda_{k} \\, \n",
    "\\frac{\\partial {\\boldsymbol{ \\mathcal{E}}}}{\\partial \\lambda}\n",
    " \\\\\n",
    "&k = k + 1\n",
    "\\end{align}"
   ]
  },
  {
   "cell_type": "markdown",
   "metadata": {
    "slideshow": {
     "slide_type": "subslide"
    }
   },
   "source": [
    "## Implementation concept\n",
    "The gradient operators needed for the time-stepping scheme have been derived above and are now available for the implementation of the numerical algorithm both in `Python` and `C89` languages\n",
    "\n",
    "<table style=\"width:50%\">\n",
    "<tr>\n",
    "<th>Symbol</th>\n",
    "<th>Python</th>\n",
    "<th>C89</th>\n",
    "</tr>\n",
    "<tr>\n",
    "<td>$\\mathcal{S}(s, \\boldsymbol{\\mathcal{E}}) $  \n",
    "</td>\n",
    "<td>get_Sig</td>\n",
    "<td>get_Sig_C</td>\n",
    "</tr>\n",
    "<tr>\n",
    "<td>$\\partial_\\boldsymbol{\\mathcal{E}}  \\boldsymbol{\\mathcal{S}}(s, \\boldsymbol{\\mathcal{E}}) $</td>\n",
    "<td>get_dSig_dEps</td>\n",
    "<td>get_dSig_dEps_C</td>\n",
    "</tr>\n",
    "<tr>\n",
    "<td>$ f(\\boldsymbol{\\mathcal{S}}, \\boldsymbol{\\mathcal{E}})$</td>\n",
    "<td>get_f</td>\n",
    "<td>get_f_C</td>\n",
    "</tr>\n",
    "<tr>\n",
    "<td>$\\partial_\\boldsymbol{\\mathcal{S}} f(\\boldsymbol{\\mathcal{S}}, \\boldsymbol{\\mathcal{E}}) $  \n",
    "</td>\n",
    "<td>get_df_dSig</td>\n",
    "<td>get_df_dSig_C</td>\n",
    "</tr>\n",
    "<tr>\n",
    "<td>$\\partial_\\boldsymbol{\\mathcal{E}} f(\\boldsymbol{\\mathcal{S}}, \\boldsymbol{\\mathcal{E}}) $</td>\n",
    "<td>get_df_dEps</td>\n",
    "<td>get_df_dEps_C</td>\n",
    "</tr>\n",
    "<tr>\n",
    "<td>$\\partial_\\boldsymbol{\\mathcal{S}} \\varphi(\\boldsymbol{\\mathcal{S}}, \\boldsymbol{\\mathcal{E}}) $</td>\n",
    "<td>get_dphi_dSig</td>\n",
    "<td>get_dphi_dSig_C</td>\n",
    "</tr>\n",
    "</table>"
   ]
  },
  {
   "cell_type": "markdown",
   "metadata": {
    "slideshow": {
     "slide_type": "subslide"
    }
   },
   "source": [
    "To avoid repeated calculation of the same expressions, let us put the evaluation of $f$ and $\\partial_\\lambda f$ into a single procedure. The iteration loop can be constructed in such a way that the predictor for the next step is calculated along with the residuum. In case that the residuum is below the required tolerance, the overhead for an extra calculated derivative is negligible or, with some care, can be even reused in the next time step.  "
   ]
  },
  {
   "cell_type": "code",
   "execution_count": 47,
   "metadata": {
    "slideshow": {
     "slide_type": "fragment"
    }
   },
   "outputs": [],
   "source": [
    "def get_f_df(s_n1, Eps_k, *margs):\n",
    "    Sig_k = get_Sig(s_n1, Eps_k, *margs)[0]\n",
    "    dSig_dEps_k = get_dSig_dEps(s_n1, Eps_k, *margs)\n",
    "    f_k = np.array([get_f(Eps_k, Sig_k, *margs)])\n",
    "    df_dSig_k = get_df_dSig(Eps_k, Sig_k, *margs)\n",
    "    ddf_dEps_k = get_ddf_dEps(Eps_k, Sig_k, *margs)\n",
    "    df_dEps_k = np.einsum(\n",
    "        'ik,ji->jk', df_dSig_k, dSig_dEps_k) + ddf_dEps_k\n",
    "    Phi_k = get_Phi(Eps_k, Sig_k, *margs)\n",
    "    dEps_dlambda_k = Phi_k\n",
    "    df_dlambda = np.einsum(\n",
    "        'ki,kj->ij', df_dEps_k, dEps_dlambda_k)\n",
    "    df_k = df_dlambda\n",
    "    return f_k, df_k, Sig_k"
   ]
  },
  {
   "cell_type": "markdown",
   "metadata": {
    "slideshow": {
     "slide_type": "subslide"
    }
   },
   "source": [
    "The update of state variables for an updated $\\lambda_\\Delta$ is performed using this procedure. This can be still improved. However, as the following sheet will consider all the variables within a common vector of unknowns $\\boldsymbol{\\sigma}$ and $\\lambda_\\Delta$ let us keep the evolution update separate also in the algorithm below. "
   ]
  },
  {
   "cell_type": "code",
   "execution_count": 48,
   "metadata": {
    "slideshow": {
     "slide_type": "fragment"
    }
   },
   "outputs": [],
   "source": [
    "def get_Eps_k1(s_n1, Eps_n, lam_k, Eps_k, *margs):\n",
    "    Sig_k = get_Sig(s_n1, Eps_k, *margs)[0]\n",
    "    Phi_k = get_Phi(Eps_k, Sig_k, *margs)\n",
    "    Eps_k1 = Eps_n + lam_k * Phi_k[:,0]\n",
    "    return Eps_k1"
   ]
  },
  {
   "cell_type": "markdown",
   "metadata": {
    "slideshow": {
     "slide_type": "subslide"
    }
   },
   "source": [
    "The double loop over the time increments and over the return mapping iteration. The inner loop represents the material point level in a standard finite element calculation. The input is the maximum slip value, the number of time steps, the maximum number of iterations and a load function which can define cyclic loading as shown below. The procedure returns the record of $\\boldsymbol{\\mathcal{E}}(t)$ and $\\boldsymbol{\\mathcal{S}}(t)$"
   ]
  },
  {
   "cell_type": "code",
   "execution_count": 49,
   "metadata": {
    "slideshow": {
     "slide_type": "subslide"
    }
   },
   "outputs": [],
   "source": [
    "def get_response(margs, s_max=3, n_steps = 10, k_max=20, get_load_fn=lambda t: t):\n",
    "    Eps_n = np.zeros((len(Eps),), dtype=np.float_)\n",
    "    Eps_k = np.copy(Eps_n)\n",
    "    Sig_record = []\n",
    "    Eps_record = []\n",
    "    iter_record = []\n",
    "    t_arr = np.linspace(0,1,n_steps+1)\n",
    "    s_t = s_max * get_load_fn(t_arr) + 1e-9\n",
    "    for s_n1 in s_t:\n",
    "        lam_k = 0\n",
    "        f_k, df_k, Sig_k = get_f_df(s_n1, Eps_k, *margs)\n",
    "        f_k_norm = np.linalg.norm(f_k)\n",
    "        f_k_trial = f_k[0]\n",
    "        k = 0\n",
    "        while k < k_max:\n",
    "            if f_k_trial < 0 or f_k_norm < 1e-6:\n",
    "                Eps_n[...] = Eps_k[...]\n",
    "                Sig_record.append(Sig_k)\n",
    "                Eps_record.append(np.copy(Eps_k))\n",
    "                iter_record.append(k+1)\n",
    "                break\n",
    "            dlam = np.linalg.solve(df_k, -f_k)\n",
    "            lam_k += dlam\n",
    "            Eps_k = get_Eps_k1(s_n1, Eps_n, lam_k, Eps_k, *margs)\n",
    "            f_k, df_k, Sig_k = get_f_df(s_n1, Eps_k, *margs)\n",
    "            f_k_norm = np.linalg.norm(f_k)\n",
    "            k += 1\n",
    "        else:\n",
    "            print('no convergence')\n",
    "    Sig_arr = np.array(Sig_record, dtype=np.float_)\n",
    "    Eps_arr = np.array(Eps_record, dtype=np.float_)\n",
    "    iter_arr = np.array(iter_record,dtype=np.int_)\n",
    "    return t_arr, s_t, Eps_arr, Sig_arr, iter_arr"
   ]
  },
  {
   "cell_type": "code",
   "execution_count": 50,
   "metadata": {
    "slideshow": {
     "slide_type": "slide"
    }
   },
   "outputs": [],
   "source": [
    "material_params = {\n",
    "    E_b:1, gamma:0.2, K:0.1, S:0.005, r:0.001, c:1, tau_bar:1, \n",
    "}\n",
    "material_params = {\n",
    "    E_b:1, gamma: 0.6, K:1, S:0.6, r:0.001, c:1, tau_bar:1, \n",
    "}"
   ]
  },
  {
   "cell_type": "code",
   "execution_count": 51,
   "metadata": {
    "scrolled": true
   },
   "outputs": [
    {
     "data": {
      "image/png": "[encoded data removed]",
      "text/latex": [
       "$\\displaystyle \\left[ 1, \\  0.6, \\  1, \\  0.6, \\  0.001, \\  1, \\  1\\right]$"
      ],
      "text/plain": [
       "[1, 0.6, 1, 0.6, 0.001, 1, 1]"
      ]
     },
     "execution_count": 51,
     "metadata": {},
     "output_type": "execute_result"
    }
   ],
   "source": [
    "margs = [material_params[map_py2sp[name]] for name in py_vars]\n",
    "margs"
   ]
  },
  {
   "cell_type": "code",
   "execution_count": 52,
   "metadata": {
    "scrolled": false
   },
   "outputs": [],
   "source": [
    "t_arr, s_t, Eps_arr, Sigma_arr, iter_arr = get_response(\n",
    "    margs=margs, s_max=1.1, n_steps=1, k_max=5\n",
    ")"
   ]
  },
  {
   "cell_type": "markdown",
   "metadata": {
    "slideshow": {
     "slide_type": "slide"
    }
   },
   "source": [
    "# Support functions\n",
    "To run some examples, let us define some infrastructure including a more complex loading history and postprocessing"
   ]
  },
  {
   "cell_type": "markdown",
   "metadata": {
    "slideshow": {
     "slide_type": "slide"
    }
   },
   "source": [
    "## Loading history\n",
    "This implementation uses the symbolic machinery which is not necessary a simpler data point based implementation with `numpy.interp1d` would be better ... later "
   ]
  },
  {
   "cell_type": "code",
   "execution_count": 53,
   "metadata": {
    "slideshow": {
     "slide_type": "subslide"
    }
   },
   "outputs": [
    {
     "data": {
      "image/png": "[encoded data removed]",
      "text/plain": [
       "<Figure size 432x288 with 1 Axes>"
      ]
     },
     "metadata": {
      "needs_background": "light"
     },
     "output_type": "display_data"
    }
   ],
   "source": [
    "t, theta = sp.symbols(r't, \\theta')\n",
    "n_cycles = 5\n",
    "A = 2\n",
    "ups = np.array([((theta-2*cycle)*A+(1-A), theta-2*cycle<=1) \n",
    "                for cycle in range(n_cycles)])\n",
    "downs = np.array([((1-(theta-(2*cycle+1)))*A+(1-A),(theta-(2*cycle+1))<=1) \n",
    "                  for cycle in range(n_cycles)])\n",
    "ups[0,0] = theta\n",
    "updowns = np.einsum('ijk->jik',np.array([ups, downs])).reshape(-1,2)\n",
    "load_fn = sp.Piecewise(*updowns).subs(theta,t*n_cycles)\n",
    "get_load_fn = sp.lambdify(t, load_fn,'numpy')\n",
    "t_arr = np.linspace(0,1,600)\n",
    "plt.plot(t_arr, get_load_fn(t_arr));"
   ]
  },
  {
   "cell_type": "markdown",
   "metadata": {
    "slideshow": {
     "slide_type": "slide"
    }
   },
   "source": [
    "## Plotting functions\n",
    "To simplify postprocessing examples, here are two aggregate plotting functions, one for the state and force variables, the other one for the evaluation of energies"
   ]
  },
  {
   "cell_type": "code",
   "execution_count": 54,
   "metadata": {
    "slideshow": {
     "slide_type": "subslide"
    }
   },
   "outputs": [],
   "source": [
    "def plot_Sig_Eps(Sig_arr, Eps_arr, ax1, ax2, ax3, ax4):\n",
    "    colors = ['blue','red', 'green', 'black', 'magenta' ]\n",
    "    s_pi_, z_, alpha_, omega_ = Eps_arr.T\n",
    "    sig_pi_, Z_, X_, Y_ = Sig_arr.T\n",
    "    n_step = len(s_pi_)\n",
    "    ax1.plot(s_t, sig_pi_, color='black', \n",
    "             label='n_steps = %g' % n_step)\n",
    "    ax1.set_xlabel('$s$'); ax1.set_ylabel(r'$\\tau$')\n",
    "    ax1.legend()\n",
    "    ax11 = ax1.twinx()\n",
    "    ax11.plot(s_t, iter_arr, '-.')\n",
    "    ax2.plot(t_arr, omega_, color='red', \n",
    "             label='n_steps = %g' % n_step)\n",
    "    ax2.set_xlabel('$s$'); ax2.set_ylabel(r'$\\omega$')\n",
    "    ax22 = ax2.twinx()\n",
    "    ax22.plot(t_arr, Y_, '-.', color='red', \n",
    "             label='n_steps = %g' % n_step)\n",
    "    ax22.set_ylabel('$Y$')\n",
    "    ax3.plot(t_arr, z_, color='green', \n",
    "             label='n_steps = %g' % n_step)\n",
    "    ax3.set_xlabel('$s$'); ax3.set_ylabel(r'$z$')\n",
    "    ax33 = ax3.twinx()\n",
    "    ax33.plot(t_arr, Z_, '-.', color='green')\n",
    "    ax33.set_ylabel(r'$Z$')\n",
    "    ax4.plot(t_arr, alpha_, color='blue', \n",
    "             label='n_steps = %g' % n_step)\n",
    "    ax4.set_xlabel('$s$'); ax4.set_ylabel(r'$Z$')\n",
    "    ax44 = ax4.twinx()\n",
    "    ax44.plot(t_arr, X_, '-.', color='blue')"
   ]
  },
  {
   "cell_type": "code",
   "execution_count": 55,
   "metadata": {
    "slideshow": {
     "slide_type": "subslide"
    }
   },
   "outputs": [],
   "source": [
    "from scipy.integrate import cumtrapz\n",
    "def plot_work(ax, Eps_arr, Sig_arr):\n",
    "    W_arr = cumtrapz(Sig_arr[:,0], s_t, initial=0)\n",
    "    U_arr = Sig_arr[:,0] * (s_t-Eps_arr[:,0]) / 2.0\n",
    "    G_arr = W_arr - U_arr\n",
    "    ax.plot(t_arr, W_arr, lw=2, color='black', label=r'$W$')\n",
    "    ax.plot(t_arr, G_arr, color='black', label=r'$G$')\n",
    "    ax.fill_between(t_arr, W_arr, G_arr, color='green', alpha=0.2)\n",
    "    ax.set_xlabel('$s$'); ax3.set_ylabel(r'$E$')\n",
    "    ax.legend()"
   ]
  },
  {
   "cell_type": "code",
   "execution_count": 56,
   "metadata": {
    "slideshow": {
     "slide_type": "subslide"
    }
   },
   "outputs": [],
   "source": [
    "def plot_dissipation(ax, Eps_arr, Sig_arr):    \n",
    "    colors = ['blue','red', 'green', 'black', 'magenta' ]\n",
    "    E_i = cumtrapz(Sig_arr, Eps_arr, initial=0, axis=0)\n",
    "    c = 'black'\n",
    "    ax.plot(t_arr, E_i[:,0], '-.', lw=1, color=c)\n",
    "    ax.fill_between(t_arr, E_i[:,0], 0, color=c, alpha=0.1)\n",
    "    c = 'black'\n",
    "    ax.plot(t_arr, E_i[:,0] + E_i[:,3], color=c, lw=1)\n",
    "    ax.fill_between(t_arr, E_i[:,0] + E_i[:,3], E_i[:,0], \n",
    "                    color=c, alpha=0.2);\n",
    "    c = 'blue'\n",
    "    ax.plot(t_arr, E_i[:,1], '-.', lw=1, color='black')\n",
    "    ax.fill_between(t_arr, E_i[:,1], 0, color=c, alpha=0.1)\n",
    "    c = 'blue'\n",
    "    ax.plot(t_arr, E_i[:,1] + E_i[:,2], color='black', lw=1)\n",
    "    ax.fill_between(t_arr, E_i[:,1] + E_i[:,2], E_i[:,1], \n",
    "                    color=c, alpha=0.3);"
   ]
  },
  {
   "cell_type": "markdown",
   "metadata": {
    "slideshow": {
     "slide_type": "slide"
    }
   },
   "source": [
    "# Examples"
   ]
  },
  {
   "cell_type": "markdown",
   "metadata": {
    "slideshow": {
     "slide_type": "slide"
    }
   },
   "source": [
    "## Monotonic load \n",
    "Let's first run the example with different size of the time step to see if there is any difference"
   ]
  },
  {
   "cell_type": "code",
   "execution_count": 57,
   "metadata": {
    "scrolled": false,
    "slideshow": {
     "slide_type": "fragment"
    }
   },
   "outputs": [
    {
     "data": {
      "image/png": "[encoded data removed]",
      "text/plain": [
       "<Figure size 720x432 with 20 Axes>"
      ]
     },
     "metadata": {
      "needs_background": "light"
     },
     "output_type": "display_data"
    }
   ],
   "source": [
    "fig, ((ax1,ax2),(ax3,ax4)) = plt.subplots(2,2,figsize=(10,6))\n",
    "for n_steps in [20, 40, 200, 2000]:\n",
    "    t_arr, s_t, Eps_arr, Sig_arr, iter_arr = get_response(\n",
    "        margs=margs, s_max=8, n_steps=n_steps, k_max=10\n",
    "    )\n",
    "    plot_Sig_Eps(Sig_arr, Eps_arr, ax1, ax2, ax3, ax4)"
   ]
  },
  {
   "cell_type": "code",
   "execution_count": 58,
   "metadata": {
    "scrolled": true,
    "slideshow": {
     "slide_type": "subslide"
    }
   },
   "outputs": [
    {
     "data": {
      "image/png": "[encoded data removed]",
      "text/plain": [
       "<Figure size 648x360 with 1 Axes>"
      ]
     },
     "metadata": {
      "needs_background": "light"
     },
     "output_type": "display_data"
    }
   ],
   "source": [
    "fig, ax = plt.subplots(1,1,figsize=(9, 5))\n",
    "plot_work(ax, Eps_arr, Sig_arr)\n",
    "plot_dissipation(ax, Eps_arr, Sig_arr)"
   ]
  },
  {
   "cell_type": "markdown",
   "metadata": {
    "slideshow": {
     "slide_type": "slide"
    }
   },
   "source": [
    "## Cyclic loading"
   ]
  },
  {
   "cell_type": "code",
   "execution_count": 59,
   "metadata": {
    "slideshow": {
     "slide_type": "fragment"
    }
   },
   "outputs": [
    {
     "data": {
      "image/png": "[encoded data removed]",
      "text/plain": [
       "<Figure size 720x432 with 8 Axes>"
      ]
     },
     "metadata": {
      "needs_background": "light"
     },
     "output_type": "display_data"
    }
   ],
   "source": [
    "fig, ((ax1,ax2),(ax3,ax4)) = plt.subplots(2,2,figsize=(10,6))\n",
    "t_arr, s_t, Eps_arr, Sig_arr, iter_arr = get_response(\n",
    "    margs, s_max=2, n_steps=20000, k_max=20, get_load_fn=get_load_fn\n",
    ")\n",
    "plot_Sig_Eps(Sig_arr, Eps_arr, ax1, ax2, ax3, ax4)"
   ]
  },
  {
   "cell_type": "code",
   "execution_count": 60,
   "metadata": {
    "slideshow": {
     "slide_type": "subslide"
    }
   },
   "outputs": [
    {
     "data": {
      "image/png": "[encoded data removed]",
      "text/plain": [
       "<Figure size 648x360 with 1 Axes>"
      ]
     },
     "metadata": {
      "needs_background": "light"
     },
     "output_type": "display_data"
    }
   ],
   "source": [
    "fig, ax = plt.subplots(1,1,figsize=(9, 5))\n",
    "plot_work(ax, Eps_arr, Sig_arr)\n",
    "plot_dissipation(ax, Eps_arr, Sig_arr)"
   ]
  },
  {
   "cell_type": "markdown",
   "metadata": {
    "slideshow": {
     "slide_type": "slide"
    }
   },
   "source": [
    "# Code generation\n",
    "See the docs for the code generation, the latexified  sympy symbols \n",
    "must be substituted such that they can act as standard C variable names.\n",
    "The methods `get_f_df()` and `get_Eps_n1` must be paraphrased in C.\n",
    "The state arrays `Eps` and `Sig` must be prepared by the callee.\n",
    "All the matrices are flattened in C code so that index access operators \n",
    "must be constructed with the correct convention, i.e. \n",
    "`i * n_row + j` or `i + n_col * j`. \n",
    "\n",
    "The whole material model is represented by the material method\n",
    "that mimics the internal par of the `get_response` function defined above\n",
    "\n",
    " 1. Call `get_f_df()` to get the trial state\n",
    " 2. Start the return mapping iteration loop\n",
    " 3. If admissibility criterion fulfilled - admissible state found - return stress\n",
    " 4. Evaluate delta of plastic multiplier and update it\n",
    " 5. Update state variables using evolution equations `get_Eps_n1`\n",
    " 6. Evaluate the residuum using `get_f_df()` and continuum with point 3.\n",
    " "
   ]
  },
  {
   "cell_type": "code",
   "execution_count": 76,
   "metadata": {
    "slideshow": {
     "slide_type": "fragment"
    }
   },
   "outputs": [
    {
     "name": "stdout",
     "output_type": "stream",
     "text": [
      "/******************************************************************************\n",
      " *                      Code generated with sympy 1.5.1                       *\n",
      " *                                                                            *\n",
      " *              See http://www.sympy.org/ for more information.               *\n",
      " *                                                                            *\n",
      " *                       This file is part of 'project'                       *\n",
      " ******************************************************************************/\n",
      "#include \"SLIDE1_3.h\"\n",
      "#include <math.h>\n",
      "\n",
      "double f(double X, double Z, double bartau, double omega, double tau_pi) {\n",
      "\n",
      "   double f_result;\n",
      "   f_result = -Z - bartau + sqrt(pow(-X + tau_pi/(1 - omega), 2));\n",
      "   return f_result;\n",
      "\n",
      "}\n",
      "\n"
     ]
    }
   ],
   "source": [
    "print(get_f_C[0][1])"
   ]
  },
  {
   "cell_type": "code",
   "execution_count": 77,
   "metadata": {},
   "outputs": [
    {
     "name": "stdout",
     "output_type": "stream",
     "text": [
      "/******************************************************************************\n",
      " *                      Code generated with sympy 1.5.1                       *\n",
      " *                                                                            *\n",
      " *              See http://www.sympy.org/ for more information.               *\n",
      " *                                                                            *\n",
      " *                       This file is part of 'project'                       *\n",
      " ******************************************************************************/\n",
      "#include \"SLIDE1_3.h\"\n",
      "#include <math.h>\n",
      "\n",
      "void dSig_dEps(double E_b, double K, double gamma, double omega, double s, double s_pi, double *out_6209896088754829193) {\n",
      "\n",
      "   out_6209896088754829193[0] = -E_b*(1 - omega);\n",
      "   out_6209896088754829193[1] = 0;\n",
      "   out_6209896088754829193[2] = 0;\n",
      "   out_6209896088754829193[3] = (1.0/2.0)*E_b*(-2*s + 2*s_pi);\n",
      "   out_6209896088754829193[4] = 0;\n",
      "   out_6209896088754829193[5] = K;\n",
      "   out_6209896088754829193[6] = 0;\n",
      "   out_6209896088754829193[7] = 0;\n",
      "   out_6209896088754829193[8] = 0;\n",
      "   out_6209896088754829193[9] = 0;\n",
      "   out_6209896088754829193[10] = gamma;\n",
      "   out_6209896088754829193[11] = 0;\n",
      "   out_6209896088754829193[12] = (1.0/2.0)*E_b*(-2*s + 2*s_pi);\n",
      "   out_6209896088754829193[13] = 0;\n",
      "   out_6209896088754829193[14] = 0;\n",
      "   out_6209896088754829193[15] = 0;\n",
      "\n",
      "}\n",
      "\n"
     ]
    }
   ],
   "source": [
    "print(get_dSig_dEps_C[0][1])"
   ]
  },
  {
   "cell_type": "code",
   "execution_count": 75,
   "metadata": {},
   "outputs": [
    {
     "name": "stdout",
     "output_type": "stream",
     "text": [
      "/******************************************************************************\n",
      " *                      Code generated with sympy 1.5.1                       *\n",
      " *                                                                            *\n",
      " *              See http://www.sympy.org/ for more information.               *\n",
      " *                                                                            *\n",
      " *                       This file is part of 'project'                       *\n",
      " ******************************************************************************/\n",
      "#include \"SLIDE1_3.h\"\n",
      "#include <math.h>\n",
      "\n",
      "double f(double X, double Z, double bartau, double omega, double tau_pi) {\n",
      "\n",
      "   double f_result;\n",
      "   f_result = -Z - bartau + sqrt(pow(-X + tau_pi/(1 - omega), 2));\n",
      "   return f_result;\n",
      "\n",
      "}\n",
      "\n"
     ]
    }
   ],
   "source": [
    "print(get_f_C[0][1])"
   ]
  },
  {
   "cell_type": "code",
   "execution_count": 73,
   "metadata": {},
   "outputs": [
    {
     "name": "stdout",
     "output_type": "stream",
     "text": [
      "/******************************************************************************\n",
      " *                      Code generated with sympy 1.5.1                       *\n",
      " *                                                                            *\n",
      " *              See http://www.sympy.org/ for more information.               *\n",
      " *                                                                            *\n",
      " *                       This file is part of 'project'                       *\n",
      " ******************************************************************************/\n",
      "#include \"SLIDE1_3.h\"\n",
      "#include <math.h>\n",
      "\n",
      "void df_dSig(double X, double omega, double tau_pi, double *out_5150037501156110656) {\n",
      "\n",
      "   out_5150037501156110656[0] = sqrt(pow(-X + tau_pi/(1 - omega), 2))/((1 - omega)*(-X + tau_pi/(1 - omega)));\n",
      "   out_5150037501156110656[1] = -1;\n",
      "   out_5150037501156110656[2] = (X - tau_pi/(1 - omega))*sqrt(pow(-X + tau_pi/(1 - omega), 2))/pow(-X + tau_pi/(1 - omega), 2);\n",
      "   out_5150037501156110656[3] = 0;\n",
      "\n",
      "}\n",
      "\n"
     ]
    }
   ],
   "source": [
    "print(get_df_dSig_C[0][1])"
   ]
  },
  {
   "cell_type": "code",
   "execution_count": null,
   "metadata": {},
   "outputs": [],
   "source": []
  }
 ],
 "metadata": {
  "celltoolbar": "Slideshow",
  "kernelspec": {
   "display_name": "Python 3",
   "language": "python",
   "name": "python3"
  },
  "language_info": {
   "codemirror_mode": {
    "name": "ipython",
    "version": 3
   },
   "file_extension": ".py",
   "mimetype": "text/x-python",
   "name": "python",
   "nbconvert_exporter": "python",
   "pygments_lexer": "ipython3",
   "version": "3.9.1"
  },
  "toc": {
   "base_numbering": 1,
   "nav_menu": {},
   "number_sections": true,
   "sideBar": true,
   "skip_h1_title": false,
   "title_cell": "Table of Contents",
   "title_sidebar": "Contents",
   "toc_cell": false,
   "toc_position": {
    "height": "calc(100% - 180px)",
    "left": "10px",
    "top": "150px",
    "width": "165px"
   },
   "toc_section_display": true,
   "toc_window_display": false
  }
 },
 "nbformat": 4,
 "nbformat_minor": 2
}
