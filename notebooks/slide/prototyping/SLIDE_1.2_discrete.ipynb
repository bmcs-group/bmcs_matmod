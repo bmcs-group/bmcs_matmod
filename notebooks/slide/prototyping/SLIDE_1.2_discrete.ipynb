{
 "cells": [
  {
   "cell_type": "markdown",
   "metadata": {},
   "source": [
    "# Discrete return mapping - symbolic"
   ]
  },
  {
   "cell_type": "code",
   "execution_count": null,
   "metadata": {},
   "outputs": [],
   "source": [
    "import sympy as sp\n",
    "sp.init_printing()\n",
    "%matplotlib inline\n",
    "import matplotlib.pyplot as plt\n",
    "import numpy as np"
   ]
  },
  {
   "cell_type": "markdown",
   "metadata": {},
   "source": [
    "## Material parameters"
   ]
  },
  {
   "cell_type": "code",
   "execution_count": null,
   "metadata": {},
   "outputs": [],
   "source": [
    "E_b = sp.Symbol('E_b', real=True, nonnegative=True)\n",
    "gamma = sp.Symbol('gamma', real=True, nonnegative=True)\n",
    "K = sp.Symbol('K', real=True)\n",
    "S = sp.Symbol('S', real=True)\n",
    "r = sp.Symbol('r', real=True)\n",
    "c = sp.Symbol('c', real=True)\n",
    "tau_bar = sp.Symbol(r'\\bar{\\tau}', real=True, nonnegative=True)\n",
    "m = sp.Symbol('m', real=True)"
   ]
  },
  {
   "cell_type": "code",
   "execution_count": null,
   "metadata": {},
   "outputs": [],
   "source": [
    "material_params = {\n",
    "    E_b:1, gamma:0., K:0., S:0.005, r:0.001, c:1, \n",
    "    tau_bar:1, \n",
    "    m:0 \n",
    "}"
   ]
  },
  {
   "cell_type": "code",
   "execution_count": null,
   "metadata": {},
   "outputs": [],
   "source": [
    "material_params = {\n",
    "    E_b:1, \n",
    "    gamma: 0.6, \n",
    "    K:1, \n",
    "    S:0.6, \n",
    "    r:0.001, \n",
    "    c:1, \n",
    "    tau_bar:1, \n",
    "}"
   ]
  },
  {
   "cell_type": "markdown",
   "metadata": {},
   "source": [
    "## State variables"
   ]
  },
  {
   "cell_type": "code",
   "execution_count": null,
   "metadata": {},
   "outputs": [],
   "source": [
    "s = sp.Symbol('s', real=True)\n",
    "omega = sp.Symbol('omega', real=True, nonnegative=True)\n",
    "omega.is_nonnegative\n",
    "s_pi = sp.Symbol(r's_pi', real=True)\n",
    "alpha = sp.Symbol('alpha', real=True)\n",
    "z = sp.Symbol('z', real=True)\n",
    "Eta = sp.Matrix([s_pi, z, alpha, omega])\n",
    "Eta"
   ]
  },
  {
   "cell_type": "markdown",
   "metadata": {},
   "source": [
    "## Helmholtz potential"
   ]
  },
  {
   "cell_type": "code",
   "execution_count": null,
   "metadata": {},
   "outputs": [],
   "source": [
    "rho_psi = sp.Rational(1,2)* ( \n",
    "    (1-omega)*E_b*(s-s_pi)**2 + gamma * alpha**2 + K * z**2\n",
    ")\n",
    "rho_psi"
   ]
  },
  {
   "cell_type": "markdown",
   "metadata": {},
   "source": [
    "## Thermodynamic forces"
   ]
  },
  {
   "cell_type": "code",
   "execution_count": null,
   "metadata": {},
   "outputs": [],
   "source": [
    "tau = sp.Symbol('tau', real=True)\n",
    "tau_pi = sp.Symbol(r'tau_pi', real=True)\n",
    "X = sp.Symbol('X', real=True)\n",
    "Z = sp.Symbol('Z', real=True, nonnegative=True)\n",
    "Y = sp.Symbol('Y', real=True)\n",
    "Sigma = sp.Matrix([tau_pi, Z, X, Y])"
   ]
  },
  {
   "cell_type": "code",
   "execution_count": null,
   "metadata": {},
   "outputs": [],
   "source": [
    "grad_rho_psi = sp.Matrix([rho_psi.diff(eta) for eta in Eta])"
   ]
  },
  {
   "cell_type": "code",
   "execution_count": null,
   "metadata": {},
   "outputs": [],
   "source": [
    "Sigma_signs = sp.diag(1,-1,-1,1)"
   ]
  },
  {
   "cell_type": "code",
   "execution_count": null,
   "metadata": {},
   "outputs": [],
   "source": [
    "subs_Sigma_Eta = {\n",
    "  var: val for var,val in zip(Sigma,-Sigma_signs*grad_rho_psi)\n",
    "}\n",
    "subs_Sigma_Eta"
   ]
  },
  {
   "cell_type": "code",
   "execution_count": null,
   "metadata": {},
   "outputs": [],
   "source": [
    "Sigma_Eta = -Sigma_signs*grad_rho_psi\n",
    "Sigma_Eta"
   ]
  },
  {
   "cell_type": "code",
   "execution_count": null,
   "metadata": {},
   "outputs": [],
   "source": [
    "get_Sigma = sp.lambdify(\n",
    "    (s, Eta), Sigma_Eta.subs(material_params), 'numpy'\n",
    ")"
   ]
  },
  {
   "cell_type": "markdown",
   "metadata": {},
   "source": [
    "## Threshold "
   ]
  },
  {
   "cell_type": "markdown",
   "metadata": {},
   "source": [
    "Define effective stresses as a function of the apparent stress and damage.  Note that $\\tau_\\pi = \\tau$."
   ]
  },
  {
   "cell_type": "code",
   "execution_count": null,
   "metadata": {},
   "outputs": [],
   "source": [
    "tau = sp.symbols(r'\\tau')\n",
    "tau_eff = sp.Function(r'\\tau^{\\mathrm{eff}}')(tau_pi, omega)\n",
    "Q = sp.Function('Q')(tau_eff,X)\n",
    "tau_eff"
   ]
  },
  {
   "cell_type": "code",
   "execution_count": null,
   "metadata": {},
   "outputs": [],
   "source": [
    "norm_Q = sp.sqrt(Q*Q)"
   ]
  },
  {
   "cell_type": "code",
   "execution_count": null,
   "metadata": {},
   "outputs": [],
   "source": [
    "f = norm_Q - Z - tau_bar\n",
    "f"
   ]
  },
  {
   "cell_type": "code",
   "execution_count": null,
   "metadata": {},
   "outputs": [],
   "source": [
    "subs_Q = {Q: tau_eff - X}"
   ]
  },
  {
   "cell_type": "code",
   "execution_count": null,
   "metadata": {},
   "outputs": [],
   "source": [
    "subs_tau_eff = {tau_eff: tau_pi / (1-omega)}"
   ]
  },
  {
   "cell_type": "code",
   "execution_count": null,
   "metadata": {},
   "outputs": [],
   "source": [
    "f_Sigma = f.subs(subs_Q).subs(subs_tau_eff)\n",
    "f_Sigma"
   ]
  },
  {
   "cell_type": "code",
   "execution_count": null,
   "metadata": {},
   "outputs": [],
   "source": [
    "get_f_Sigma = sp.lambdify(\n",
    "    (Eta, Sigma), f_Sigma.subs(material_params), 'numpy'\n",
    ")"
   ]
  },
  {
   "cell_type": "code",
   "execution_count": null,
   "metadata": {},
   "outputs": [],
   "source": [
    "f_Eta = f_Sigma.subs(subs_Sigma_Eta)\n",
    "f_Eta"
   ]
  },
  {
   "cell_type": "markdown",
   "metadata": {},
   "source": [
    "**Normal directions to the yield surface:**\n",
    "Define a generic operator getting the gradient from the specified stress norm, back stress an hardening stresses"
   ]
  },
  {
   "cell_type": "code",
   "execution_count": null,
   "metadata": {},
   "outputs": [],
   "source": [
    "grad_f = f.diff(Sigma)\n",
    "grad_f"
   ]
  },
  {
   "cell_type": "markdown",
   "metadata": {},
   "source": [
    "**Stress normal directions:** with substituted stress norm and effective stress including damage"
   ]
  },
  {
   "cell_type": "code",
   "execution_count": null,
   "metadata": {},
   "outputs": [],
   "source": [
    "grad_f_Sigma = grad_f.subs(subs_Q).subs(subs_tau_eff).doit()\n",
    "grad_f_Sigma"
   ]
  },
  {
   "cell_type": "code",
   "execution_count": null,
   "metadata": {},
   "outputs": [],
   "source": [
    "get_grad_f = sp.lambdify(\n",
    "    (Sigma, Eta), grad_f_Sigma, 'numpy'\n",
    ")"
   ]
  },
  {
   "cell_type": "markdown",
   "metadata": {},
   "source": [
    "**Plot the threshold function**: for changing damage $\\omega \\in (0,1)$. "
   ]
  },
  {
   "cell_type": "code",
   "execution_count": null,
   "metadata": {
    "hide_input": true
   },
   "outputs": [],
   "source": [
    "def anim_levelset(get_f,\n",
    "                  xrange=(-30,30), yrange=(-30, 30), zrange=(-30,30), trange=(0,1),\n",
    "                  labels=['x','y','z'] ):\n",
    "    xmin, xmax = xrange\n",
    "    ymin, ymax = yrange\n",
    "    zmin, zmax = zrange\n",
    "    tmin, tmax = trange\n",
    "    grid_args = np.mgrid[xmin:xmax:80j, ymin:ymax:80j, zmin:zmax:80j]\n",
    "    f_args = tuple(grid_args)+(0.00001,)\n",
    "    f_val = get_f(*f_args)\n",
    "    contour = mlab.contour3d(\n",
    "        *tuple(grid_args) + (f_val,),\n",
    "        contours=[0.0], color=(1, 0, 0)\n",
    "    )\n",
    "    xl, yl, zl = labels\n",
    "    mlab.axes(xlabel=xl, ylabel=yl, zlabel=zl)\n",
    "    @mlab.animate\n",
    "    def anim():\n",
    "        for omega_val in np.linspace(tmin,tmax,100):\n",
    "            contour.mlab_source.scalars = get_f(*tuple(grid_args)+(omega_val,))\n",
    "            yield\n",
    "\n",
    "    anim()\n",
    "    mlab.show()"
   ]
  },
  {
   "cell_type": "code",
   "execution_count": null,
   "metadata": {
    "hide_input": true
   },
   "outputs": [],
   "source": [
    "if False:\n",
    "    subs_f_TF_data = ({m:0, tau_bar:10})\n",
    "    get_f = sp.lambdify(\n",
    "        (tau_pi, X, Z, omega), \n",
    "        f_TF.subs(subs_f_TF_data), 'numpy')\n",
    "    anim_levelset(get_f)"
   ]
  },
  {
   "cell_type": "markdown",
   "metadata": {},
   "source": [
    "## Flow potential"
   ]
  },
  {
   "cell_type": "code",
   "execution_count": null,
   "metadata": {},
   "outputs": [],
   "source": [
    "Phi = sp.Function('\\phi')(Y,omega)"
   ]
  },
  {
   "cell_type": "code",
   "execution_count": null,
   "metadata": {},
   "outputs": [],
   "source": [
    "subs_Phi = {Phi: S* (1-omega)**c / (r+1) * (Y/S)**(r+1)}"
   ]
  },
  {
   "cell_type": "code",
   "execution_count": null,
   "metadata": {},
   "outputs": [],
   "source": [
    "phi = f + Phi\n",
    "phi"
   ]
  },
  {
   "cell_type": "code",
   "execution_count": null,
   "metadata": {},
   "outputs": [],
   "source": [
    "d_phi = phi.diff(Sigma)\n",
    "d_phi"
   ]
  },
  {
   "cell_type": "code",
   "execution_count": null,
   "metadata": {},
   "outputs": [],
   "source": [
    "subs_tau_eff"
   ]
  },
  {
   "cell_type": "code",
   "execution_count": null,
   "metadata": {},
   "outputs": [],
   "source": [
    "d_phi_Sigma = Sigma_signs * d_phi.subs(subs_Q).subs(subs_tau_eff).subs(subs_Phi).doit()\n",
    "sp.simplify(d_phi_Sigma)"
   ]
  },
  {
   "cell_type": "markdown",
   "metadata": {},
   "source": [
    "# Time integration scheme"
   ]
  },
  {
   "cell_type": "markdown",
   "metadata": {},
   "source": [
    "## Time function for nonuniform load"
   ]
  },
  {
   "cell_type": "code",
   "execution_count": null,
   "metadata": {},
   "outputs": [],
   "source": [
    "t, theta = sp.symbols(r't, \\theta')\n",
    "n_cycles = 5\n",
    "A = 2\n",
    "ups = np.array([((theta-2*cycle)*A+(1-A), theta-2*cycle<=1) \n",
    "                for cycle in range(n_cycles)])\n",
    "downs = np.array([((1-(theta-(2*cycle+1)))*A+(1-A),(theta-(2*cycle+1))<=1) \n",
    "                  for cycle in range(n_cycles)])\n",
    "ups[0,0] = theta\n",
    "updowns = np.einsum('ijk->jik',np.array([ups, downs])).reshape(-1,2)\n",
    "load_fn = sp.Piecewise(*updowns).subs(theta,t*n_cycles)"
   ]
  },
  {
   "cell_type": "code",
   "execution_count": null,
   "metadata": {},
   "outputs": [],
   "source": [
    "get_load_fn = sp.lambdify(t, load_fn,'numpy')\n",
    "t_arr = np.linspace(0,1,600)\n",
    "plt.plot(t_arr, get_load_fn(t_arr));"
   ]
  },
  {
   "cell_type": "markdown",
   "metadata": {},
   "source": [
    "## Symbolic implementation"
   ]
  },
  {
   "cell_type": "code",
   "execution_count": null,
   "metadata": {},
   "outputs": [],
   "source": [
    "s_pi_k, z_k, alpha_k = sp.symbols(r's_pi_k, z_k, alpha_k', real=True)\n",
    "s_pi_k1, z_k1, alpha_k1 = sp.symbols(r's_pi_k1, z_k1, alpha_k1', real=True)\n",
    "omega_k, omega_k1 = sp.symbols(r'omega_k, omega_k1', real=True, nonnegative=True)\n",
    "dlambda_ = sp.Symbol('lambda_Delta', nonnegative=True)"
   ]
  },
  {
   "cell_type": "code",
   "execution_count": null,
   "metadata": {},
   "outputs": [],
   "source": [
    "subs_Eta_k = {s_pi: s_pi_k, alpha: alpha_k, omega: omega_k, z: z_k }\n",
    "subs_Eta_k1 = {s_pi: s_pi_k1, alpha: alpha_k1, omega: omega_k1, z: z_k1 }"
   ]
  },
  {
   "cell_type": "code",
   "execution_count": null,
   "metadata": {},
   "outputs": [],
   "source": [
    "Eta_k = sp.Matrix([sv.subs(subs_Eta_k) for sv in Eta])\n",
    "Eta_k1 = sp.Matrix([sv.subs(subs_Eta_k1) for sv in Eta])"
   ]
  },
  {
   "cell_type": "code",
   "execution_count": null,
   "metadata": {},
   "outputs": [],
   "source": [
    "Eta_rates = dlambda_ * d_phi_Sigma.subs(subs_Sigma_Eta).subs(subs_Eta_k1)"
   ]
  },
  {
   "cell_type": "code",
   "execution_count": null,
   "metadata": {},
   "outputs": [],
   "source": [
    "Eta_k1_ =  Eta_k + Eta_rates\n",
    "get_Eta_k1_ = sp.lambdify(\n",
    "    (s, dlambda_, Eta_k, Eta_k1), Eta_k1_.subs(material_params), 'numpy'\n",
    ")"
   ]
  },
  {
   "cell_type": "code",
   "execution_count": null,
   "metadata": {},
   "outputs": [],
   "source": [
    "subs_Eta_k1_ = {eta: expr for eta, expr in zip(Eta, list(Eta_k1_))}"
   ]
  },
  {
   "cell_type": "code",
   "execution_count": null,
   "metadata": {},
   "outputs": [],
   "source": [
    "f_Eta_k1_ = f_Eta.subs(subs_Eta_k1_)\n",
    "get_f_Eta_k1_ = sp.lambdify(\n",
    "    (s, dlambda_, Eta_k, Eta_k1), f_Eta_k1_.subs(material_params), 'numpy'\n",
    ")"
   ]
  },
  {
   "cell_type": "code",
   "execution_count": null,
   "metadata": {},
   "outputs": [],
   "source": [
    "d_f_Eta_k1_ = f_Eta_k1_.diff(dlambda_)\n",
    "get_d_f_Eta_k1_ = sp.lambdify(\n",
    "    (s, dlambda_, Eta_k, Eta_k1), d_f_Eta_k1_.subs(material_params), 'numpy'\n",
    ")"
   ]
  },
  {
   "cell_type": "markdown",
   "metadata": {},
   "source": [
    "To define a generic return mapping we need to construct the  derivatives of the flow rule $f$ with respect to $\\lambda$. The dependency of $\\varphi$ on $\\lambda$ is intermediated via thermodynamic forces $\\tau$ and state variables $\\eta$.   \n",
    "\\begin{align}\n",
    "f(\\tau(\\eta(\\lambda)), \\eta(\\lambda))\n",
    "\\end{align}\n",
    "To reflect all dependencies, we need to apply both the composition of derivatives and the chain rule. Let us first recall that the composition rule renders the derivative with respect to $\\eta$ of the form\n",
    "\\begin{align}\n",
    "\\partial_\\eta f(\\tau(\\eta), \\eta)\n",
    " &=\n",
    "\\partial_\\tau f(\\tau, \\eta) \\, \\partial_\\eta  \\tau(\\eta) + \\partial_\\eta f(\\tau, \\eta)\n",
    "\\end{align}\n",
    "By expanding the derivatives of $\\eta$ with respect to $\\lambda$ we obtain\n",
    "\\begin{align}\n",
    "\\partial_\\lambda f(\\tau(\\eta(\\lambda)), \\eta(\\lambda))\n",
    " &=\n",
    "\\partial_\\tau f(\\tau, \\eta) \\, \\partial_\\eta  \\tau(\\eta) \\partial_\\lambda \\eta + \\partial_\\eta f(\\tau, \\eta) \\partial_\\lambda \\eta\n",
    "\\end{align}\n",
    "and after collecting terms\n",
    "\\begin{align}\n",
    "\\partial_\\lambda f(\\tau(\\eta(\\lambda)), \\eta(\\lambda))\n",
    " &=\n",
    "[\n",
    "\\partial_\\tau f(\\tau, \\eta) \\, \\partial_\\eta  \\tau(\\eta)  + \\partial_\\eta f(\\tau, \\eta)\n",
    "] \\,\n",
    "\\partial_\\lambda  \\eta\n",
    "\\end{align}"
   ]
  },
  {
   "cell_type": "code",
   "execution_count": null,
   "metadata": {},
   "outputs": [],
   "source": [
    "d_f_Sigma = f_Sigma.diff(Sigma)\n",
    "d_Sigma_Eta = sp.Matrix([Sigma_Eta.T.diff(eta) for eta in Eta]).T\n",
    "d_f_Eta = f_Sigma.diff(Eta)\n",
    "d_f_Sigma_Eta = d_f_Sigma.T * d_Sigma_Eta + d_f_Eta.T\n",
    "d_Eta_lambda = d_phi_Sigma\n",
    "d_f_lambda = (d_f_Sigma_Eta * d_Eta_lambda)[0]"
   ]
  },
  {
   "cell_type": "markdown",
   "metadata": {},
   "source": [
    "**Verification:** To check the result, let us substitute for $\\tau$, then for $\\eta^{j}$ and evaluate the derivative  "
   ]
  },
  {
   "cell_type": "code",
   "execution_count": null,
   "metadata": {},
   "outputs": [],
   "source": [
    "d_f_lambda_expanded = d_f_lambda.subs(subs_Sigma_Eta).subs(subs_Eta_k1_)\n",
    "get_d_f_lambda_expanded = sp.lambdify(\n",
    "    (s, dlambda_, Eta_k, Eta_k1), \n",
    "    d_f_lambda_expanded.subs(material_params), 'numpy'\n",
    ")"
   ]
  },
  {
   "cell_type": "code",
   "execution_count": null,
   "metadata": {},
   "outputs": [],
   "source": [
    "Eta_0 = np.zeros((len(Eta),))\n",
    "get_d_f_lambda_expanded(1.1, 0, Eta_0, Eta_0 )"
   ]
  },
  {
   "cell_type": "markdown",
   "metadata": {},
   "source": [
    "Compare this value with the derived decomposed derivatives"
   ]
  },
  {
   "cell_type": "code",
   "execution_count": null,
   "metadata": {},
   "outputs": [],
   "source": [
    "d_Eta_lambda = d_phi_Sigma\n",
    "d_f_lambda = (d_f_Sigma_Eta * d_Eta_lambda)[0]\n",
    "get_d_f_lambda = sp.lambdify(\n",
    "    (s, Sigma, Eta), d_f_lambda.subs(material_params), 'numpy'\n",
    ")\n",
    "Eta_0 = np.zeros((len(Eta),))\n",
    "Sigma_0 = get_Sigma(1.1, Eta_0)\n",
    "get_d_f_lambda(1.1, Sigma_0, Eta_0)"
   ]
  },
  {
   "cell_type": "markdown",
   "metadata": {},
   "source": [
    "## Incremental fully implicit return mapping"
   ]
  },
  {
   "cell_type": "code",
   "execution_count": null,
   "metadata": {},
   "outputs": [],
   "source": [
    "def get_response( s_max=12.6, n_steps=2000, k_max=200, get_load_fn=lambda t: t):\n",
    "    Eta_n, Eta_k = [np.zeros((len(Eta),), dtype=np.float_)for _ in range(2)]\n",
    "    Eta_record, Sigma_record = [], []\n",
    "    dlambda0 = 0\n",
    "    k_max = 200\n",
    "    t_arr = np.linspace(0,1.0,n_steps+1)\n",
    "    s_t = s_max*get_load_fn(t_arr) + 1e-9\n",
    "    for s_n in s_t: \n",
    "        f0 = get_f_Eta_k1_(s_n,dlambda0,Eta_n,Eta_k)\n",
    "        norm_f0 = f0\n",
    "        k = 0\n",
    "        while k < k_max:\n",
    "            if norm_f0 < 1e-3:\n",
    "                Eta_n = np.copy(Eta_k)\n",
    "                Sigma_n = get_Sigma(s_n,Eta_n).flatten()\n",
    "                dlambda0 = 0\n",
    "                Eta_record.append(Eta_n)\n",
    "                Sigma_record.append(Sigma_n)\n",
    "                break\n",
    "            df0 = get_d_f_Eta_k1_(s_n,dlambda0,Eta_n, Eta_k)\n",
    "            dlam = -f0/df0\n",
    "            dlambda0 += dlam\n",
    "            Eta_k = get_Eta_k1_(s_n, dlambda0, Eta_n, Eta_k).flatten()\n",
    "            f0 = get_f_Eta_k1_(s_n, dlambda0, Eta_n, Eta_k)\n",
    "            norm_f0 = np.fabs(f0)\n",
    "            k +=1\n",
    "        else:\n",
    "            print('no convergence')\n",
    "    return (t_arr, \n",
    "            s_t, \n",
    "            np.array(Eta_record,dtype=np.float_),\n",
    "            np.array(Sigma_record,dtype=np.float_))"
   ]
  },
  {
   "cell_type": "code",
   "execution_count": null,
   "metadata": {},
   "outputs": [],
   "source": [
    "def plot_Eta_Sigma(Eta, Sigma):\n",
    "    fig, ((ax1,ax2),(ax3,ax4)) = plt.subplots(2,2,figsize=(10,6))\n",
    "    s_pi_, z_, alpha_, omega_ = Eta.T\n",
    "    sig_pi_, Z_, X_, Y_ = Sigma.T\n",
    "    n_steps = len(s_pi_)\n",
    "    ax1.plot(s_t, sig_pi_, color='black', \n",
    "             label='n_steps = %g' % n_steps)\n",
    "    ax1.set_xlabel('$s$'); ax1.set_ylabel(r'$\\tau$')\n",
    "    ax1.legend()\n",
    "    ax2.plot(t_arr, omega_, color='red', \n",
    "             label='n_steps = %g' % n_steps)\n",
    "    ax2.set_xlabel('$s$'); ax2.set_ylabel(r'$\\omega$')\n",
    "    ax22 = ax2.twinx()\n",
    "    ax22.plot(t_arr, Y_, '-.', color='red', \n",
    "             label='n_steps = %g' % n_steps)\n",
    "    ax22.set_ylabel('$Y$')\n",
    "    ax3.plot(t_arr, z_, color='green', \n",
    "             label='n_steps = %g' % n_steps)\n",
    "    ax3.set_xlabel('$s$'); ax3.set_ylabel(r'$z$')\n",
    "    ax33 = ax3.twinx()\n",
    "    ax33.plot(t_arr, Z_, '-.', color='green')\n",
    "    ax33.set_ylabel(r'$Z$')\n",
    "    ax4.plot(t_arr, alpha_, color='blue', \n",
    "             label='n_steps = %g' % n_steps)\n",
    "    ax4.set_xlabel('$s$'); ax4.set_ylabel(r'$Z$')\n",
    "    ax44 = ax4.twinx()\n",
    "    ax44.plot(t_arr, X_, '-.', color='blue')"
   ]
  },
  {
   "cell_type": "code",
   "execution_count": null,
   "metadata": {},
   "outputs": [],
   "source": [
    "t_arr, s_t, Eta_arr, Sigma_arr = get_response(\n",
    "    s_max=4, n_steps=20, k_max=50)\n",
    "plot_Eta_Sigma(Eta_arr, Sigma_arr)"
   ]
  },
  {
   "cell_type": "code",
   "execution_count": null,
   "metadata": {},
   "outputs": [],
   "source": [
    "s_max = 2\n",
    "t_arr, s_t, Eta_arr, Sigma_arr = get_response(\n",
    "    s_max,20000,get_load_fn=get_load_fn)\n",
    "plot_Eta_Sigma(Eta_arr, Sigma_arr)"
   ]
  },
  {
   "cell_type": "code",
   "execution_count": null,
   "metadata": {},
   "outputs": [],
   "source": [
    "from scipy.integrate import cumtrapz"
   ]
  },
  {
   "cell_type": "code",
   "execution_count": null,
   "metadata": {},
   "outputs": [],
   "source": [
    "def plot_work(ax, Eta_arr, Sigma_arr):\n",
    "    W_arr = cumtrapz(Sigma_arr[:,0], s_t, initial=0)\n",
    "    U_arr = Sigma_arr[:,0] * (s_t-Eta_arr[:,0]) / 2.0\n",
    "    G_arr = W_arr - U_arr\n",
    "    ax.plot(t_arr, W_arr, lw=2, color='black', label=r'$W$')\n",
    "    ax.plot(t_arr, G_arr, color='black', label=r'$G$')\n",
    "    ax.fill_between(t_arr, W_arr, G_arr, color='green', alpha=0.2)\n",
    "    ax.set_xlabel('$s$'); ax.set_ylabel(r'$E$')\n",
    "    ax.legend()"
   ]
  },
  {
   "cell_type": "code",
   "execution_count": null,
   "metadata": {},
   "outputs": [],
   "source": [
    "sigma_signs = np.einsum('ii->i',np.array(Sigma_signs))\n",
    "def plot_dissipation(ax, Eta_arr, Sigma_arr):    \n",
    "    colors = ['blue','red', 'green', 'black', 'magenta' ]\n",
    "    E_i = cumtrapz(Sigma_arr, Eta_arr, initial=0, axis=0)\n",
    "    c = 'black'\n",
    "    ax.plot(t_arr, E_i[:,0], '-.', lw=1, color=c)\n",
    "    ax.fill_between(t_arr, E_i[:,0], 0, color=c, alpha=0.1)\n",
    "    c = 'black'\n",
    "    ax.plot(t_arr, E_i[:,0] + E_i[:,3], color=c, lw=1)\n",
    "    ax.fill_between(t_arr, E_i[:,0] + E_i[:,3], E_i[:,0], \n",
    "                    color=c, alpha=0.2);\n",
    "    c = 'blue'\n",
    "    ax.plot(t_arr, E_i[:,1], '-.', lw=1, color='black')\n",
    "    ax.fill_between(t_arr, E_i[:,1], 0, color=c, alpha=0.1)\n",
    "    c = 'blue'\n",
    "    ax.plot(t_arr, E_i[:,1] + E_i[:,2], color='black', lw=1)\n",
    "    ax.fill_between(t_arr, E_i[:,1] + E_i[:,2], E_i[:,1], \n",
    "                    color=c, alpha=0.3);"
   ]
  },
  {
   "cell_type": "code",
   "execution_count": null,
   "metadata": {},
   "outputs": [],
   "source": [
    "fig, ax = plt.subplots(1,1,figsize=(9, 5))\n",
    "plot_work(ax, Eta_arr, Sigma_arr)\n",
    "plot_dissipation(ax, Eta_arr, Sigma_arr)"
   ]
  },
  {
   "cell_type": "code",
   "execution_count": null,
   "metadata": {},
   "outputs": [],
   "source": []
  },
  {
   "cell_type": "code",
   "execution_count": null,
   "metadata": {},
   "outputs": [],
   "source": []
  }
 ],
 "metadata": {
  "kernelspec": {
   "display_name": "Python 3",
   "language": "python",
   "name": "python3"
  },
  "language_info": {
   "codemirror_mode": {
    "name": "ipython",
    "version": 3
   },
   "file_extension": ".py",
   "mimetype": "text/x-python",
   "name": "python",
   "nbconvert_exporter": "python",
   "pygments_lexer": "ipython3"
  },
  "toc": {
   "base_numbering": 1,
   "nav_menu": {},
   "number_sections": true,
   "sideBar": true,
   "skip_h1_title": false,
   "title_cell": "Table of Contents",
   "title_sidebar": "Contents",
   "toc_cell": false,
   "toc_position": {
    "height": "calc(100% - 180px)",
    "left": "10px",
    "top": "150px",
    "width": "165px"
   },
   "toc_section_display": true,
   "toc_window_display": true
  }
 },
 "nbformat": 4,
 "nbformat_minor": 4
}
