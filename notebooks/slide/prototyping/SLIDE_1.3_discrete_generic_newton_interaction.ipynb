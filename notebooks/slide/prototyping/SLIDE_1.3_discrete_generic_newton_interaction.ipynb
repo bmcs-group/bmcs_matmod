{
 "cells": [
  {
   "cell_type": "markdown",
   "metadata": {
    "slideshow": {
     "slide_type": "slide"
    }
   },
   "source": [
    "# Damage-plasticity model with generic time stepping\n",
    "This notebook is a work in progress on an abstract and general implementation of time integration algorithm for general damage-plasticity modes. It serves for the development of a package that can be configured by specifying the ingredients of thermodynamically based model\n",
    "\n",
    " - Vector of state variables $\\boldsymbol{\\mathcal{E}}$\n",
    " - Vector of thermodynamic streses $\\boldsymbol{\\mathcal{S}}$\n",
    " - Helmholtz free energy $\\psi(\\boldsymbol{\\mathcal{E}})$\n",
    " - Threshold on thermodynamical forces  $f(\\boldsymbol{\\mathcal{S}},\\boldsymbol{\\mathcal{E}})$ / Yield condition\n",
    " - Flow potential $\\varphi(\\boldsymbol{\\mathcal{S}},\\boldsymbol{\\mathcal{E}})$\n",
    "\n",
    "as symbolic equations using the sympy package. The time-stepping algorithm gets generated automatically within the thermodynamically framework. The derived  evolution equations and return-mapping to the yield surface is performed using Newton-Raphson scheme.  "
   ]
  },
  {
   "cell_type": "code",
   "execution_count": null,
   "metadata": {
    "slideshow": {
     "slide_type": "slide"
    }
   },
   "outputs": [],
   "source": [
    "%matplotlib notebook\n",
    "import sympy as sp\n",
    "sp.init_printing()\n",
    "import matplotlib.pyplot as plt\n",
    "import numpy as np"
   ]
  },
  {
   "cell_type": "markdown",
   "metadata": {
    "slideshow": {
     "slide_type": "slide"
    }
   },
   "source": [
    "**Code generation** The derivation is adopted for the purpose of code generation both in Python and C utilizing the `codegen` package provided in `sympy`. The expressions that are part of the time stepping algorithm are transformed to an executable code directly at the place where they are derived. At the end of the notebook the C code can be exported to external files and applied in external tools. "
   ]
  },
  {
   "cell_type": "code",
   "execution_count": null,
   "metadata": {
    "slideshow": {
     "slide_type": "fragment"
    }
   },
   "outputs": [],
   "source": [
    "from sympy.utilities.codegen import codegen"
   ]
  },
  {
   "cell_type": "markdown",
   "metadata": {
    "slideshow": {
     "slide_type": "slide"
    }
   },
   "source": [
    "## TODO\n",
    " - The current implementation uses the threshold function linearized along $\\lambda$ to represent the consistency condition. As the next step include the fully linearized set of evolution equations and threshold functions. This might be important for SLIDE 3.x, 2D and 3D problems (von Mises, Drucker-Prager). In the current one-dimensional problem it probably has no effect - this feature will be included in SLIDE-core notebook which should be able to generate all the other problems by configuring the thermodynamic inputs symbolically.  \n",
    " - flow direction is now matched with the gradient of the flow potential - that is multiplied by the signs $\\Upsilon$. This is a short cut that confuses - introduce a new symbol for $\\Upsilon \\partial_\\boldsymbol{\\mathcal{S}} \\varphi$ to give the Python and C code a more consistent name.\n",
    " - Clearer naming convention for expressions like `dphi_dEps` improve to distinguish the derivative operator and the call parameters in the generated functions. \n",
    " - Put the derived get_methods into a class and let the predictor-corrector implementation just access them. With this, the iteration scheme becomes completely generic. Any kind of model can be implemented then using the thermodynamic framework."
   ]
  },
  {
   "cell_type": "markdown",
   "metadata": {
    "slideshow": {
     "slide_type": "slide"
    }
   },
   "source": [
    "## Material parameters"
   ]
  },
  {
   "cell_type": "code",
   "execution_count": null,
   "metadata": {
    "slideshow": {
     "slide_type": "fragment"
    }
   },
   "outputs": [],
   "source": [
    "E_b = sp.Symbol('E_b', real=True, nonnegative=True)\n",
    "gamma = sp.Symbol('gamma', real=True, nonnegative=True)\n",
    "K = sp.Symbol('K', real=True)\n",
    "S = sp.Symbol('S', real=True)\n",
    "r = sp.Symbol('r', real=True)\n",
    "c = sp.Symbol('c', real=True)\n",
    "tau_bar = sp.Symbol(r'\\bar{\\tau}', real=True, nonnegative=True)"
   ]
  },
  {
   "cell_type": "code",
   "execution_count": null,
   "metadata": {},
   "outputs": [],
   "source": [
    "py_vars = ('E_b', 'K', 'S', 'r', 'c', 'tau_bar')\n",
    "map_py2sp = {py_var : globals()[py_var] for py_var in py_vars}\n",
    "sp_vars = tuple(map_py2sp[py_var] for py_var in py_vars)"
   ]
  },
  {
   "cell_type": "markdown",
   "metadata": {
    "slideshow": {
     "slide_type": "slide"
    }
   },
   "source": [
    "## State variables"
   ]
  },
  {
   "cell_type": "code",
   "execution_count": null,
   "metadata": {
    "slideshow": {
     "slide_type": "fragment"
    }
   },
   "outputs": [],
   "source": [
    "s = sp.Symbol('s', real=True)\n",
    "omega = sp.Symbol('omega', real=True, nonnegative=True)\n",
    "omega.is_nonnegative\n",
    "s_pi = sp.Symbol(r's_pi', real=True)\n",
    "alpha = sp.Symbol('alpha', real=True)\n",
    "z = sp.Symbol('z', real=True)"
   ]
  },
  {
   "cell_type": "code",
   "execution_count": null,
   "metadata": {
    "slideshow": {
     "slide_type": "fragment"
    }
   },
   "outputs": [],
   "source": [
    "Eps = sp.Matrix([s_pi, z, omega])\n",
    "Eps.T"
   ]
  },
  {
   "cell_type": "markdown",
   "metadata": {
    "slideshow": {
     "slide_type": "slide"
    }
   },
   "source": [
    "## Helmholtz free energy"
   ]
  },
  {
   "cell_type": "markdown",
   "metadata": {
    "slideshow": {
     "slide_type": "fragment"
    }
   },
   "source": [
    "The starting point in the thermodynamical representation of a process is a potential function of time dependent state variables. To describe the evolution of the state correctly describing the energy dissipation of the system the gradient of the potential function with respect to the state variables provides the generalized forces. The forces are constrained to characterize specific material properties, e.g. strength, hardening."
   ]
  },
  {
   "cell_type": "code",
   "execution_count": null,
   "metadata": {
    "slideshow": {
     "slide_type": "fragment"
    }
   },
   "outputs": [],
   "source": [
    "rho_psi = sp.Rational(1,2)* ( \n",
    "    (1-omega)*\n",
    "    E_b*(s-s_pi)**2 + K * z**2\n",
    ")\n",
    "rho_psi"
   ]
  },
  {
   "cell_type": "markdown",
   "metadata": {
    "slideshow": {
     "slide_type": "slide"
    }
   },
   "source": [
    "## Thermodynamic forces"
   ]
  },
  {
   "cell_type": "code",
   "execution_count": null,
   "metadata": {
    "slideshow": {
     "slide_type": "fragment"
    }
   },
   "outputs": [],
   "source": [
    "tau = sp.Symbol('tau', real=True)\n",
    "tau_pi = sp.Symbol(r'tau_pi', real=True)\n",
    "Z = sp.Symbol('Z', real=True, nonnegative=True)\n",
    "Y = sp.Symbol('Y', real=True)"
   ]
  },
  {
   "cell_type": "code",
   "execution_count": null,
   "metadata": {
    "slideshow": {
     "slide_type": "fragment"
    }
   },
   "outputs": [],
   "source": [
    "Sig = sp.Matrix([tau_pi, Z, Y])\n",
    "Sig.T"
   ]
  },
  {
   "cell_type": "markdown",
   "metadata": {
    "slideshow": {
     "slide_type": "slide"
    }
   },
   "source": [
    "The introduce the thermodynamic forces we have to differentiate Hemholtz free energy\n",
    "with respect to the kinematic state variables\n",
    "\\begin{align}\n",
    " \\partial_\\boldsymbol{\\mathcal{E}} (\\rho \\psi)\n",
    "\\end{align}"
   ]
  },
  {
   "cell_type": "code",
   "execution_count": null,
   "metadata": {
    "slideshow": {
     "slide_type": "fragment"
    }
   },
   "outputs": [],
   "source": [
    "d_rho_psi_Eps = sp.Matrix([rho_psi.diff(eps) for eps in Eps])"
   ]
  },
  {
   "cell_type": "markdown",
   "metadata": {
    "slideshow": {
     "slide_type": "fragment"
    }
   },
   "source": [
    "To obtain consistent signs of the Helmholtz derivatives we define a sign switch operator so that all generalized forces are defined as positive for the respective conjugate state variable $\\boldsymbol{\\Upsilon}$. "
   ]
  },
  {
   "cell_type": "code",
   "execution_count": null,
   "metadata": {
    "slideshow": {
     "slide_type": "fragment"
    }
   },
   "outputs": [],
   "source": [
    "Sig_signs = sp.diag(-1,1,-1)"
   ]
  },
  {
   "cell_type": "markdown",
   "metadata": {
    "slideshow": {
     "slide_type": "slide"
    }
   },
   "source": [
    "The constitutive laws between generalized force and kinematic variables then read\n",
    "\\begin{align}\n",
    "\\boldsymbol{\\mathcal{S}} = \\boldsymbol{\\Upsilon} \\, \\partial_\\boldsymbol{\\mathcal{E}} (\\rho \\psi) \\\n",
    "\\end{align}"
   ]
  },
  {
   "cell_type": "code",
   "execution_count": null,
   "metadata": {
    "slideshow": {
     "slide_type": "fragment"
    }
   },
   "outputs": [],
   "source": [
    "Sig_Eps = Sig_signs * d_rho_psi_Eps\n",
    "Sig_Eps.T"
   ]
  },
  {
   "cell_type": "markdown",
   "metadata": {
    "slideshow": {
     "slide_type": "fragment"
    }
   },
   "source": [
    "**Executable code for** $\\boldsymbol{\\mathcal{S}}(s,\\boldsymbol{\\mathcal{E}})$"
   ]
  },
  {
   "cell_type": "code",
   "execution_count": null,
   "metadata": {},
   "outputs": [],
   "source": [
    "get_Sig_Eps = sp.lambdify(\n",
    "    (s, Eps) + sp_vars, Sig_Eps.T, 'numpy'\n",
    ")"
   ]
  },
  {
   "cell_type": "markdown",
   "metadata": {
    "slideshow": {
     "slide_type": "slide"
    }
   },
   "source": [
    "To derive the time stepping procedure we will need also the matrix of derivatives of the generalized stresses $\\boldsymbol{\\mathcal{S}}$ with respect to the kinematic variables $\\boldsymbol{\\mathcal{E}}$ \n",
    "\\begin{align}\n",
    " \\partial_\\boldsymbol{\\mathcal{E}} \\boldsymbol{\\mathcal{S}}\n",
    "\\end{align}"
   ]
  },
  {
   "cell_type": "code",
   "execution_count": null,
   "metadata": {
    "slideshow": {
     "slide_type": "fragment"
    }
   },
   "outputs": [],
   "source": [
    "dSig_dEps = sp.Matrix([ \n",
    "    Sig_Eps.T.diff(eps) for eps in Eps \n",
    "] ).T\n",
    "dSig_dEps"
   ]
  },
  {
   "cell_type": "markdown",
   "metadata": {
    "slideshow": {
     "slide_type": "fragment"
    }
   },
   "source": [
    "**Executable Python code generation** $\\partial_\\boldsymbol{\\mathcal{E}} \\boldsymbol{\\mathcal{S}}(s,\\boldsymbol{\\mathcal{E}})$"
   ]
  },
  {
   "cell_type": "code",
   "execution_count": null,
   "metadata": {
    "slideshow": {
     "slide_type": "fragment"
    }
   },
   "outputs": [],
   "source": [
    "get_dSig_dEps = sp.lambdify(\n",
    "    (s, Eps) + sp_vars, dSig_dEps, 'numpy'\n",
    ")\n",
    "get_dSig_dEps_C = codegen(('dSig_dEps', dSig_dEps), 'C89', 'SLIDE1_3')"
   ]
  },
  {
   "cell_type": "markdown",
   "metadata": {
    "slideshow": {
     "slide_type": "slide"
    }
   },
   "source": [
    "## Threshold function"
   ]
  },
  {
   "cell_type": "markdown",
   "metadata": {
    "slideshow": {
     "slide_type": "fragment"
    }
   },
   "source": [
    "To keep the framework general for different stress norms and hardening definitions let us first introduce a general function for effective stress. Note that the observable stress $\\tau$ is identical with the plastic stress $\\tau_\\pi$ due to the performed sign switch in the definition of the thermodynamic forces."
   ]
  },
  {
   "cell_type": "code",
   "execution_count": null,
   "metadata": {
    "slideshow": {
     "slide_type": "fragment"
    }
   },
   "outputs": [],
   "source": [
    "tau_eff = sp.Function(r'\\tau^{\\mathrm{eff}}')(tau_pi, omega)\n",
    "Q = sp.Function('Q')(tau_eff)\n",
    "tau_eff"
   ]
  },
  {
   "cell_type": "markdown",
   "metadata": {
    "slideshow": {
     "slide_type": "slide"
    }
   },
   "source": [
    "The stress norm is defined using the stress offset $X$, i.e. the kinematic hardening stress representing the shift of the origin of the yield locus.  "
   ]
  },
  {
   "cell_type": "code",
   "execution_count": null,
   "metadata": {
    "slideshow": {
     "slide_type": "fragment"
    }
   },
   "outputs": [],
   "source": [
    "norm_Q = sp.sqrt(Q*Q)"
   ]
  },
  {
   "cell_type": "markdown",
   "metadata": {
    "slideshow": {
     "slide_type": "fragment"
    }
   },
   "source": [
    "General form of the yield condition then reads"
   ]
  },
  {
   "cell_type": "code",
   "execution_count": null,
   "metadata": {
    "slideshow": {
     "slide_type": "fragment"
    }
   },
   "outputs": [],
   "source": [
    "f = norm_Q - Z - tau_bar\n",
    "f"
   ]
  },
  {
   "cell_type": "markdown",
   "metadata": {
    "slideshow": {
     "slide_type": "slide"
    }
   },
   "source": [
    "Let us now introduce the back stress $X$ by defining the substitution for $Q = \\tau^\\mathrm{eff} - X$"
   ]
  },
  {
   "cell_type": "code",
   "execution_count": null,
   "metadata": {
    "slideshow": {
     "slide_type": "fragment"
    }
   },
   "outputs": [],
   "source": [
    "subs_Q = {Q: tau_eff}\n",
    "subs_Q"
   ]
  },
  {
   "cell_type": "markdown",
   "metadata": {
    "slideshow": {
     "slide_type": "fragment"
    }
   },
   "source": [
    "Further substitution rule introduces the effective stress as a function of damage as"
   ]
  },
  {
   "cell_type": "code",
   "execution_count": null,
   "metadata": {
    "slideshow": {
     "slide_type": "fragment"
    }
   },
   "outputs": [],
   "source": [
    "subs_tau_eff = {tau_eff: tau_pi / (1-omega)}\n",
    "subs_tau_eff"
   ]
  },
  {
   "cell_type": "markdown",
   "metadata": {
    "slideshow": {
     "slide_type": "slide"
    }
   },
   "source": [
    "After substitutions the yield function reads"
   ]
  },
  {
   "cell_type": "code",
   "execution_count": null,
   "metadata": {
    "slideshow": {
     "slide_type": "fragment"
    }
   },
   "outputs": [],
   "source": [
    "f_Sig = f.subs(subs_Q).subs(subs_tau_eff)\n",
    "f_Sig"
   ]
  },
  {
   "cell_type": "markdown",
   "metadata": {
    "slideshow": {
     "slide_type": "fragment"
    }
   },
   "source": [
    "**Executable code generation** $f(\\boldsymbol{\\mathcal{E}}, \\boldsymbol{\\mathcal{S}})$\n",
    "\n",
    "Note that this is a function of both the forces and kinematic state variables"
   ]
  },
  {
   "cell_type": "code",
   "execution_count": null,
   "metadata": {
    "slideshow": {
     "slide_type": "fragment"
    }
   },
   "outputs": [],
   "source": [
    "get_f_Sig = sp.lambdify(\n",
    "    (Eps, Sig) + sp_vars, f_Sig, 'numpy'\n",
    ")\n",
    "get_f_Sig_C = codegen(('f_Sigma', f_Sig), 'C89', 'SLIDE1_3')"
   ]
  },
  {
   "cell_type": "markdown",
   "metadata": {
    "slideshow": {
     "slide_type": "slide"
    }
   },
   "source": [
    "The derivative of $f$ required for time-stepping $\\partial_\\boldsymbol{\\mathcal{S}} f$ is obtained as"
   ]
  },
  {
   "cell_type": "code",
   "execution_count": null,
   "metadata": {
    "slideshow": {
     "slide_type": "fragment"
    }
   },
   "outputs": [],
   "source": [
    "df_dSig = f_Sig.diff(Sig)\n",
    "sp.simplify(df_dSig).T"
   ]
  },
  {
   "cell_type": "markdown",
   "metadata": {
    "slideshow": {
     "slide_type": "fragment"
    }
   },
   "source": [
    "**Executable code generation** $\\partial_\\boldsymbol{\\mathcal{S}}f(\\boldsymbol{\\mathcal{E}}, \\boldsymbol{\\mathcal{S})}$"
   ]
  },
  {
   "cell_type": "code",
   "execution_count": null,
   "metadata": {
    "slideshow": {
     "slide_type": "fragment"
    }
   },
   "outputs": [],
   "source": [
    "get_df_dSig = sp.lambdify(\n",
    "    (Eps, Sig) + sp_vars, df_dSig, 'numpy'\n",
    ")\n",
    "get_df_dSig_C = codegen(('df_dSig', df_dSig), 'C89', 'SLIDE1_3')"
   ]
  },
  {
   "cell_type": "markdown",
   "metadata": {
    "slideshow": {
     "slide_type": "slide"
    }
   },
   "source": [
    "Due to the direct dependency of $f$ on $\\boldsymbol{\\mathcal{E}}$ also the term $\\partial_\\boldsymbol{\\mathcal{E}} f$ must be provided for numerical evaluation of derivatives"
   ]
  },
  {
   "cell_type": "code",
   "execution_count": null,
   "metadata": {
    "slideshow": {
     "slide_type": "fragment"
    }
   },
   "outputs": [],
   "source": [
    "df_dEps = f_Sig.diff(Eps)\n",
    "df_dEps.T"
   ]
  },
  {
   "cell_type": "markdown",
   "metadata": {
    "slideshow": {
     "slide_type": "slide"
    }
   },
   "source": [
    "**Executable Python code generation** $\\partial_\\boldsymbol{\\mathcal{E}}f(\\boldsymbol{\\mathcal{E}}, \\boldsymbol{\\mathcal{S})}$"
   ]
  },
  {
   "cell_type": "code",
   "execution_count": null,
   "metadata": {
    "slideshow": {
     "slide_type": "fragment"
    }
   },
   "outputs": [],
   "source": [
    "get_df_dEps = sp.lambdify(\n",
    "    (Eps, Sig) + sp_vars, df_dEps, 'numpy'\n",
    ")\n",
    "get_df_dEps_C = codegen(('df_dEps', df_dEps), 'C89', 'SLIDE1_3')"
   ]
  },
  {
   "cell_type": "markdown",
   "metadata": {
    "slideshow": {
     "slide_type": "slide"
    }
   },
   "source": [
    "## Flow potential\n",
    "For non-associative flow rule let us define an extension to be added to the threshold function "
   ]
  },
  {
   "cell_type": "code",
   "execution_count": null,
   "metadata": {
    "slideshow": {
     "slide_type": "fragment"
    }
   },
   "outputs": [],
   "source": [
    "phi_ext = S* (1-omega)**c / (r+1) * (Y/S)**(r+1)"
   ]
  },
  {
   "cell_type": "markdown",
   "metadata": {
    "slideshow": {
     "slide_type": "fragment"
    }
   },
   "source": [
    "The flow potential $\\varphi(\\boldsymbol{\\mathcal{E}}, \\boldsymbol{\\mathcal{S}})$ reads"
   ]
  },
  {
   "cell_type": "code",
   "execution_count": null,
   "metadata": {
    "slideshow": {
     "slide_type": "fragment"
    }
   },
   "outputs": [],
   "source": [
    "phi = f_Sig + phi_ext\n",
    "phi"
   ]
  },
  {
   "cell_type": "markdown",
   "metadata": {
    "slideshow": {
     "slide_type": "slide"
    }
   },
   "source": [
    "and the corresponding directions of flow given as a product of the sign operator $\\Upsilon$ and of the derivatives with respect to state variables \n",
    "$\\boldsymbol{\\Upsilon} \\, \\partial_{\\boldsymbol{\\mathcal{S}}} \\varphi$\n",
    "This renders following flow direction vector\n",
    "\\begin{align}\n",
    "\\nabla_\\mathcal{S} \\varphi = - \\Upsilon \\partial_{\\boldsymbol{\\mathcal{S}}} \\varphi\n",
    "\\end{align}"
   ]
  },
  {
   "cell_type": "code",
   "execution_count": null,
   "metadata": {
    "slideshow": {
     "slide_type": "fragment"
    }
   },
   "outputs": [],
   "source": [
    "dphi_dSig = -Sig_signs * phi.diff(Sig)\n",
    "sp.simplify(dphi_dSig.T)"
   ]
  },
  {
   "cell_type": "markdown",
   "metadata": {
    "slideshow": {
     "slide_type": "fragment"
    }
   },
   "source": [
    "**Executable code generation** $\\partial_\\boldsymbol{\\mathcal{S}}\\varphi(\\boldsymbol{\\mathcal{E}}, \\boldsymbol{\\mathcal{S})}$"
   ]
  },
  {
   "cell_type": "code",
   "execution_count": null,
   "metadata": {
    "slideshow": {
     "slide_type": "fragment"
    }
   },
   "outputs": [],
   "source": [
    "get_dphi_dSig = sp.lambdify(\n",
    "    (Eps, Sig) + sp_vars, dphi_dSig, 'numpy'\n",
    ")\n",
    "get_dphi_dSig_C = codegen(('dphi_dSig', dphi_dSig), 'C89', 'SLIDE1_3')"
   ]
  },
  {
   "cell_type": "markdown",
   "metadata": {
    "slideshow": {
     "slide_type": "slide"
    }
   },
   "source": [
    "# Time integration scheme"
   ]
  },
  {
   "cell_type": "markdown",
   "metadata": {
    "slideshow": {
     "slide_type": "fragment"
    }
   },
   "source": [
    "## Summary of the backward Euler scheme\n",
    "The derived expressions can be now plugged-in into a generic return mapping algorithm that efficiently identifies a state that satisfies the discrete consistency condition. The general structure of an implicit integration scheme reads\n",
    "\\begin{align}\n",
    "\\boldsymbol{\\mathcal{E}}_{n+1} &= \\boldsymbol{\\mathcal{E}}_{n} +  \n",
    "\\lambda_\\Delta \\, \\nabla_\\mathcal{S} \\varphi_{n+1} \\\\\n",
    "f(\\boldsymbol{\\mathcal{E}}_{n+1};  \\lambda_\\Delta) &= 0\n",
    "\\end{align}\n",
    "To reach an admissible state let us linearize the threshold function at an interim state $j$ as\n",
    "\\begin{align}\n",
    "f(\\boldsymbol{\\mathcal{E}}_{n+1}; \\lambda_\\Delta )\n",
    "& \\approx\n",
    "\\left. f \\right|_{\\mathcal{E}_{n+1},\\lambda_\\Delta} \n",
    " + \n",
    "\\left. \\partial_\\lambda f \\right|_{\\mathcal{E}_{n+1},\\lambda_\\Delta}\n",
    "\\Delta \\lambda\n",
    "\\end{align}"
   ]
  },
  {
   "cell_type": "markdown",
   "metadata": {
    "slideshow": {
     "slide_type": "subslide"
    }
   },
   "source": [
    "To define a generic return mapping we need to construct the  derivatives of the flow rule $f$ with respect to $\\lambda$. The dependency of $f$ on $\\lambda$ is intermediated via thermodynamic forces $\\sigma$ and state variables $\\boldsymbol{\\mathcal{E}}$\n",
    "\\begin{align}\n",
    "f(\\boldsymbol{\\mathcal{S}}(\\boldsymbol{\\mathcal{E}}(\\lambda)), \\boldsymbol{\\mathcal{E}}(\\lambda)).\n",
    "\\end{align}\n",
    "To correctly resolve the dependencies in the derivative $\\partial_\\lambda f_\\boldsymbol{\\mathcal{S}}$, we need to apply rules for composition and chaining of derivatives. Let us start with the composition rule rendering the derivative with respect to $\\boldsymbol{\\mathcal{E}}$ in the form\n",
    "\\begin{align}\n",
    "\\partial_\\boldsymbol{\\mathcal{E}} f(\\boldsymbol{\\mathcal{S}}(\\boldsymbol{\\mathcal{E}}), \\boldsymbol{\\mathcal{E}})\n",
    " &=\n",
    "\\partial_\\boldsymbol{\\mathcal{S}} f(\\boldsymbol{\\mathcal{S}}, \\boldsymbol{\\mathcal{E}}) \\, \\partial_\\boldsymbol{\\mathcal{E}}  \\boldsymbol{\\mathcal{S}}(\\boldsymbol{\\mathcal{E}}) + \\partial_\\boldsymbol{\\mathcal{E}} f(\\boldsymbol{\\mathcal{S}}, \\boldsymbol{\\mathcal{E}}).\n",
    "\\end{align}\n",
    "By expanding the derivatives of $\\boldsymbol{\\mathcal{E}}$ with respect to $\\lambda_\\Delta$ that will be abbreviate in index position as $\\lambda$ for brevity we obtain\n",
    "\\begin{align}\n",
    "\\partial_\\lambda f(\\boldsymbol{\\mathcal{S}}(\\boldsymbol{\\mathcal{E}}(\\lambda)), \\boldsymbol{\\mathcal{E}}(\\lambda))\n",
    " &=\n",
    "\\partial_\\boldsymbol{\\mathcal{S}} f(\\boldsymbol{\\mathcal{S}}, \\boldsymbol{\\mathcal{E}}) \\, \\partial_\\boldsymbol{\\mathcal{E}}  \\boldsymbol{\\mathcal{S}}(\\boldsymbol{\\mathcal{E}}) \\, \\partial_\\lambda \\boldsymbol{\\mathcal{E}} + \\partial_\\boldsymbol{\\mathcal{E}} f(\\boldsymbol{\\mathcal{S}}, \\boldsymbol{\\mathcal{E}}) \\, \\partial_\\lambda \\boldsymbol{\\mathcal{E}}\n",
    "\\end{align}\n",
    "and after collecting terms\n",
    "\\begin{align}\n",
    "\\partial_\\lambda f(\\boldsymbol{\\mathcal{S}}(\\boldsymbol{\\mathcal{E}}(\\lambda)), \\boldsymbol{\\mathcal{E}}(\\lambda))\n",
    " &=\n",
    "[\n",
    "\\partial_\\boldsymbol{\\mathcal{S}} f(\\boldsymbol{\\mathcal{S}}, \\boldsymbol{\\mathcal{E}}) \\, \\partial_\\boldsymbol{\\mathcal{E}}  \\boldsymbol{\\mathcal{S}}(\\boldsymbol{\\mathcal{E}})  + \\partial_\\boldsymbol{\\mathcal{E}} f(\\boldsymbol{\\mathcal{S}}, \\boldsymbol{\\mathcal{E}})\n",
    "] \\,\n",
    "\\partial_\\lambda  \\boldsymbol{\\mathcal{E}}\n",
    "\\end{align}"
   ]
  },
  {
   "cell_type": "markdown",
   "metadata": {
    "slideshow": {
     "slide_type": "subslide"
    }
   },
   "source": [
    "The last term $\\partial_\\lambda \\boldsymbol{\\mathcal{E}}$ can be obtained from the evolution equations\n",
    "\\begin{align}\n",
    "\\boldsymbol{\\mathcal{E}} = \\dot{\\lambda} \\, \\nabla_\\mathcal{S} \\varphi \\; \\implies\n",
    "\\partial_\\lambda \\boldsymbol{\\mathcal{E}} = \n",
    " \\nabla_\\mathcal{S} \\varphi\n",
    "\\end{align}\n",
    "Thus, by rewriting the linearized equation as a recurrence formula, the iteration algorithm is obtained\n",
    "\\begin{align}\n",
    "&\n",
    "\\left[\n",
    "\\partial_\\boldsymbol{\\mathcal{S}} f^{(k)} \\,\n",
    "\\partial_\\boldsymbol{\\mathcal{E}}  \\boldsymbol{\\mathcal{S}}^{(k)} +\n",
    "\\partial_\\boldsymbol{\\mathcal{E}} f^{(k)}\n",
    "\\right] \\,\n",
    "\\nabla_\\mathcal{S} \\varphi^{(k)}\n",
    "\\Delta \\lambda\n",
    "= - f^{(k)}\\\\\n",
    "& \\boldsymbol{\\mathcal{E}}^{(k+1)} = \\boldsymbol{\\mathcal{E}}^{(k)} + \n",
    " \\lambda_\\Delta \\, \\nabla_\\mathcal{S} \\varphi_{n+1}\n",
    " \\\\\n",
    "&\\lambda_{\\Delta}^{(k+1)} = \\lambda_{\\Delta}^{(k)} + \\Delta \\lambda \\\\\n",
    "&k = k + 1\n",
    "\\end{align}"
   ]
  },
  {
   "cell_type": "markdown",
   "metadata": {
    "slideshow": {
     "slide_type": "subslide"
    }
   },
   "source": [
    "## Implementation concept\n",
    "The gradient operators needed for the time-stepping scheme have been derived above and are now available for the implementation of the numerical algorithm both in `Python` and `C89` languages\n",
    "\n",
    "<table style=\"width:50%\">\n",
    "<tr>\n",
    "<th>Symbol</th>\n",
    "<th>Python</th>\n",
    "<th>C89</th>\n",
    "</tr>\n",
    "<tr>\n",
    "<td>$\\mathcal{S}(\\boldsymbol{\\mathcal{E}}) $  \n",
    "</td>\n",
    "<td>get_Sig</td>\n",
    "<td>get_Sig_C</td>\n",
    "</tr>\n",
    "<tr>\n",
    "<td>$\\partial_\\boldsymbol{\\mathcal{E}}  \\boldsymbol{\\mathcal{S}}(\\boldsymbol{\\mathcal{E}}) $</td>\n",
    "<td>get_dSig_dEps</td>\n",
    "<td>get_dSig_dEps_C</td>\n",
    "</tr>\n",
    "<tr>\n",
    "<td>$ f(\\boldsymbol{\\mathcal{S}}, \\boldsymbol{\\mathcal{E}})$</td>\n",
    "<td>get_f</td>\n",
    "<td>get_f_C</td>\n",
    "</tr>\n",
    "<tr>\n",
    "<td>$\\partial_\\boldsymbol{\\mathcal{S}} f(\\boldsymbol{\\mathcal{S}}, \\boldsymbol{\\mathcal{E}}) $  \n",
    "</td>\n",
    "<td>get_df_dSig</td>\n",
    "<td>get_df_dSig_C</td>\n",
    "</tr>\n",
    "<tr>\n",
    "<td>$\\partial_\\boldsymbol{\\mathcal{E}} f(\\boldsymbol{\\mathcal{S}}, \\boldsymbol{\\mathcal{E}}) $</td>\n",
    "<td>get_df_dEps</td>\n",
    "<td>get_df_dEps_C</td>\n",
    "</tr>\n",
    "<tr>\n",
    "<td>$\\partial_\\boldsymbol{\\mathcal{S}} \\varphi(\\boldsymbol{\\mathcal{S}}, \\boldsymbol{\\mathcal{E}}) $</td>\n",
    "<td>get_dphi_dSig</td>\n",
    "<td>get_dphi_dSig_C</td>\n",
    "</tr>\n",
    "</table>"
   ]
  },
  {
   "cell_type": "markdown",
   "metadata": {
    "slideshow": {
     "slide_type": "subslide"
    }
   },
   "source": [
    "To avoid repeated calculation of the same expressions, let us put the evaluation of $f$ and $\\partial_\\lambda f$ into a single procedure. The iteration loop can be constructed in such a way that the predictor for the next step is calculated along with the residuum. In case that the residuum is below the required tolerance, the overhead for an extra calculated derivative is negligible or, with some care, can be even reused in the next time step.  "
   ]
  },
  {
   "cell_type": "code",
   "execution_count": null,
   "metadata": {
    "slideshow": {
     "slide_type": "fragment"
    }
   },
   "outputs": [],
   "source": [
    "def get_f_df(s_n1, Eps_k, *margs):\n",
    "    Sig_k = get_Sig_Eps(s_n1, Eps_k, *margs)[0]\n",
    "    f_k = np.array([get_f_Sig(Eps_k, Sig_k, *margs)])\n",
    "    df_dSig_k = get_df_dSig(Eps_k, Sig_k, *margs)\n",
    "    df_dEps_k = get_df_dEps(Eps_k, Sig_k, *margs)\n",
    "    dphi_dSig_k = get_dphi_dSig(Eps_k, Sig_k, *margs)\n",
    "    dSig_dEps_k = get_dSig_dEps(s_n1, Eps_k, *margs)\n",
    "    df_dSigEps_k = np.einsum(\n",
    "        'ik,ji->jk', df_dSig_k, dSig_dEps_k) + df_dEps_k\n",
    "    dEps_dlambda_k = dphi_dSig_k\n",
    "    df_dlambda = np.einsum(\n",
    "        'ki,kj->ij', df_dSigEps_k, dEps_dlambda_k)\n",
    "    df_k = df_dlambda\n",
    "    return f_k, df_k, Sig_k"
   ]
  },
  {
   "cell_type": "markdown",
   "metadata": {
    "slideshow": {
     "slide_type": "subslide"
    }
   },
   "source": [
    "The update of state variables for an updated $\\lambda_\\Delta$ is performed using this procedure. This can be still improved. However, as the following sheet will consider all the variables within a common vector of unknowns $\\boldsymbol{\\sigma}$ and $\\lambda_\\Delta$ let us keep the evolution update separate also in the algorithm below. "
   ]
  },
  {
   "cell_type": "code",
   "execution_count": null,
   "metadata": {
    "slideshow": {
     "slide_type": "fragment"
    }
   },
   "outputs": [],
   "source": [
    "def get_Eps_k1(s_n1, Eps_n, lam_k, Eps_k, *margs):\n",
    "    Sig_k = get_Sig_Eps(s_n1, Eps_k, *margs)[0]\n",
    "    dphi_dSig_k = get_dphi_dSig(Eps_k, Sig_k, *margs)\n",
    "    Eps_k1 = Eps_n + lam_k * dphi_dSig_k[:,0]\n",
    "    return Eps_k1"
   ]
  },
  {
   "cell_type": "markdown",
   "metadata": {
    "slideshow": {
     "slide_type": "subslide"
    }
   },
   "source": [
    "The double loop over the time increments and over the return mapping iteration. The inner loop represents the material point level in a standard finite element calculation. The input is the maximum slip value, the number of time steps, the maximum number of iterations and a load function which can define cyclic loading as shown below. The procedure returns the record of $\\boldsymbol{\\mathcal{E}}(t)$ and $\\boldsymbol{\\mathcal{S}}(t)$"
   ]
  },
  {
   "cell_type": "code",
   "execution_count": null,
   "metadata": {
    "slideshow": {
     "slide_type": "subslide"
    }
   },
   "outputs": [],
   "source": [
    "def get_response(margs, s_max=3, n_steps = 10, k_max=20, get_load_fn=lambda t: t):\n",
    "    Eps_n = np.zeros((len(Eps),), dtype=np.float_)\n",
    "    Eps_k = np.copy(Eps_n)\n",
    "    Sig_record = []\n",
    "    Eps_record = []\n",
    "    iter_record = []\n",
    "    t_arr = np.linspace(0,1,n_steps+1)\n",
    "    s_t = s_max * get_load_fn(t_arr) + 1e-9\n",
    "    for s_n1 in s_t:\n",
    "        lam_k = 0\n",
    "        f_k, df_k, Sig_k = get_f_df(s_n1, Eps_k, *margs)\n",
    "        f_k_norm = np.linalg.norm(f_k)\n",
    "        f_k_trial = f_k[-1]\n",
    "        k = 0\n",
    "        while k < k_max:\n",
    "            if f_k_trial < 0 or f_k_norm < 1e-6:\n",
    "                Eps_n[...] = Eps_k[...]\n",
    "                Sig_record.append(Sig_k)\n",
    "                Eps_record.append(np.copy(Eps_k))\n",
    "                iter_record.append(k+1)\n",
    "                break\n",
    "            dlam = np.linalg.solve(df_k, -f_k)\n",
    "            lam_k += dlam\n",
    "            Eps_k = get_Eps_k1(s_n1, Eps_n, lam_k, Eps_k, *margs)\n",
    "            f_k, df_k, Sig_k = get_f_df(s_n1, Eps_k, *margs)\n",
    "            f_k_norm = np.linalg.norm(f_k)\n",
    "            k += 1\n",
    "        else:\n",
    "            print('no convergence')\n",
    "    Sig_arr = np.array(Sig_record, dtype=np.float_)\n",
    "    Eps_arr = np.array(Eps_record, dtype=np.float_)\n",
    "    iter_arr = np.array(iter_record,dtype=np.int_)\n",
    "    return t_arr, s_t, Eps_arr, Sig_arr, iter_arr"
   ]
  },
  {
   "cell_type": "markdown",
   "metadata": {
    "slideshow": {
     "slide_type": "slide"
    }
   },
   "source": [
    "# Support functions\n",
    "To run some examples, let us define some infrastructure including a more complex loading history and postprocessing"
   ]
  },
  {
   "cell_type": "markdown",
   "metadata": {
    "slideshow": {
     "slide_type": "slide"
    }
   },
   "source": [
    "## Loading history\n",
    "This implementation uses the symbolic machinery which is not necessary a simpler data point based implementation with `numpy.interp1d` would be better ... later "
   ]
  },
  {
   "cell_type": "code",
   "execution_count": null,
   "metadata": {
    "slideshow": {
     "slide_type": "subslide"
    }
   },
   "outputs": [],
   "source": [
    "t, theta = sp.symbols(r't, \\theta')\n",
    "n_cycles = 5\n",
    "A = 2\n",
    "ups = np.array([((theta-2*cycle)*A+(1-A), theta-2*cycle<=1) \n",
    "                for cycle in range(n_cycles)])\n",
    "downs = np.array([((1-(theta-(2*cycle+1)))*A+(1-A),(theta-(2*cycle+1))<=1) \n",
    "                  for cycle in range(n_cycles)])\n",
    "ups[0,0] = theta\n",
    "updowns = np.einsum('ijk->jik',np.array([ups, downs])).reshape(-1,2)\n",
    "load_fn = sp.Piecewise(*updowns).subs(theta,t*n_cycles)\n",
    "get_load_fn = sp.lambdify(t, load_fn,'numpy')\n",
    "t_arr = np.linspace(0,1,600)\n",
    "plt.plot(t_arr, get_load_fn(t_arr));"
   ]
  },
  {
   "cell_type": "markdown",
   "metadata": {
    "slideshow": {
     "slide_type": "slide"
    }
   },
   "source": [
    "## Plotting functions\n",
    "To simplify postprocessing examples, here are two aggregate plotting functions, one for the state and force variables, the other one for the evaluation of energies"
   ]
  },
  {
   "cell_type": "code",
   "execution_count": null,
   "metadata": {
    "slideshow": {
     "slide_type": "subslide"
    }
   },
   "outputs": [],
   "source": [
    "def plot_Sig_Eps(t_arr, s_t, Sig_arr, Eps_arr, iter_arr, ax1, ax2, ax3, ax4):\n",
    "    colors = ['blue','red', 'green', 'black', 'magenta' ]\n",
    "    s_pi_, z_, omega_ = Eps_arr.T\n",
    "    sig_pi_, Z_, Y_ = Sig_arr.T\n",
    "    n_step = len(s_pi_)\n",
    "    ax1.plot(s_t, sig_pi_, color='black', \n",
    "             label='n_steps = %g' % n_step)\n",
    "    ax1.set_xlabel('$s$'); ax1.set_ylabel(r'$\\tau$')\n",
    "    ax1.legend()\n",
    "    ax11 = ax1.twinx()\n",
    "    ax11.plot(s_t, iter_arr, '-.')\n",
    "    ax2.plot(t_arr, omega_, color='red', \n",
    "             label='n_steps = %g' % n_step)\n",
    "    ax2.set_xlabel('$s$'); ax2.set_ylabel(r'$\\omega$')\n",
    "    ax22 = ax2.twinx()\n",
    "    ax22.plot(t_arr, Y_, '-.', color='red', \n",
    "             label='n_steps = %g' % n_step)\n",
    "    ax22.set_ylabel('$Y$')\n",
    "    ax3.plot(t_arr, z_, color='green', \n",
    "             label='n_steps = %g' % n_step)\n",
    "    ax3.set_xlabel('$s$'); ax3.set_ylabel(r'$z$')\n",
    "    ax33 = ax3.twinx()\n",
    "    ax33.plot(t_arr, Z_, '-.', color='green')\n",
    "    ax33.set_ylabel(r'$Z$')"
   ]
  },
  {
   "cell_type": "code",
   "execution_count": null,
   "metadata": {
    "slideshow": {
     "slide_type": "subslide"
    }
   },
   "outputs": [],
   "source": [
    "from scipy.integrate import cumtrapz\n",
    "def plot_work(ax, t_arr, s_t, Eps_arr, Sig_arr):\n",
    "    W_arr = cumtrapz(Sig_arr[:,0], s_t, initial=0)\n",
    "    U_arr = Sig_arr[:,0] * (s_t-Eps_arr[:,0]) / 2.0\n",
    "    G_arr = W_arr - U_arr\n",
    "    ax.plot(t_arr, W_arr, lw=2, color='black', label=r'$W$')\n",
    "    ax.plot(t_arr, G_arr, color='black', label=r'$G$')\n",
    "    ax.fill_between(t_arr, W_arr, G_arr, color='green', alpha=0.2)\n",
    "    ax.set_xlabel('$s$'); ax3.set_ylabel(r'$E$')\n",
    "    ax.legend()"
   ]
  },
  {
   "cell_type": "code",
   "execution_count": null,
   "metadata": {
    "slideshow": {
     "slide_type": "subslide"
    }
   },
   "outputs": [],
   "source": [
    "def plot_dissipation(ax, t_arr, s_t, Eps_arr, Sig_arr):    \n",
    "    colors = ['blue','red', 'green', 'black', 'magenta' ]\n",
    "    E_i = cumtrapz(Sig_arr, Eps_arr, initial=0, axis=0)\n",
    "    c = 'black'\n",
    "    ax.plot(t_arr, E_i[:,0], '-.', lw=1, color=c)\n",
    "    ax.fill_between(t_arr, E_i[:,0], 0, color=c, alpha=0.1)\n",
    "    c = 'black'\n",
    "    ax.plot(t_arr, E_i[:,0] + E_i[:,2], color=c, lw=1)\n",
    "    ax.fill_between(t_arr, E_i[:,0] + E_i[:,2], E_i[:,0], \n",
    "                    color=c, alpha=0.2);\n",
    "    c = 'blue'\n",
    "    ax.plot(t_arr, E_i[:,1], '-.', lw=1, color='black')\n",
    "    ax.fill_between(t_arr, E_i[:,1], 0, color=c, alpha=0.1)\n",
    "    c = 'blue'"
   ]
  },
  {
   "cell_type": "markdown",
   "metadata": {
    "slideshow": {
     "slide_type": "slide"
    }
   },
   "source": [
    "# Examples"
   ]
  },
  {
   "cell_type": "code",
   "execution_count": null,
   "metadata": {},
   "outputs": [],
   "source": [
    "material_params = {\n",
    "    E_b:1, K:0.1, S:0.005, r:0.001, c:1, tau_bar:1, \n",
    "}\n",
    "material_params = {\n",
    "    E_b:1, K:1, S:0.6, r:0.001, c:1, tau_bar:1, \n",
    "}"
   ]
  },
  {
   "cell_type": "markdown",
   "metadata": {
    "slideshow": {
     "slide_type": "slide"
    }
   },
   "source": [
    "## Monotonic load \n",
    "Let's first run the example with different size of the time step to see if there is any difference"
   ]
  },
  {
   "cell_type": "code",
   "execution_count": null,
   "metadata": {},
   "outputs": [],
   "source": [
    "margs = [material_params[map_py2sp[name]] for name in py_vars]\n",
    "margs"
   ]
  },
  {
   "cell_type": "code",
   "execution_count": null,
   "metadata": {
    "slideshow": {
     "slide_type": "fragment"
    }
   },
   "outputs": [],
   "source": [
    "fig, ((ax1,ax2),(ax3,ax4)) = plt.subplots(2,2,figsize=(10,6))\n",
    "for n_steps in [20]:\n",
    "    t_arr, s_t, Eps_arr, Sig_arr, iter_arr = get_response(\n",
    "        margs=margs, s_max=8, n_steps=n_steps, k_max=10\n",
    "    )\n",
    "    plot_Sig_Eps(t_arr, s_t, Sig_arr, Eps_arr, iter_arr, ax1, ax2, ax3, ax4)"
   ]
  },
  {
   "cell_type": "code",
   "execution_count": null,
   "metadata": {
    "slideshow": {
     "slide_type": "subslide"
    }
   },
   "outputs": [],
   "source": [
    "fig, ax = plt.subplots(1,1,figsize=(9, 5))\n",
    "plot_work(ax, t_arr, s_t, Eps_arr, Sig_arr)\n",
    "plot_dissipation(ax, t_arr, s_t, Eps_arr, Sig_arr)"
   ]
  },
  {
   "cell_type": "markdown",
   "metadata": {
    "slideshow": {
     "slide_type": "slide"
    }
   },
   "source": [
    "## Cyclic loading"
   ]
  },
  {
   "cell_type": "code",
   "execution_count": null,
   "metadata": {
    "slideshow": {
     "slide_type": "fragment"
    }
   },
   "outputs": [],
   "source": [
    "fig, ((ax1,ax2),(ax3,ax4)) = plt.subplots(2,2,figsize=(10,6))\n",
    "t_arr, s_t, Eps_arr, Sig_arr, iter_arr = get_response(\n",
    "    margs, s_max=2, n_steps=20000, k_max=20, get_load_fn=get_load_fn\n",
    ")\n",
    "plot_Sig_Eps(t_arr, s_t, Sig_arr, Eps_arr, iter_arr, ax1, ax2, ax3, ax4)"
   ]
  },
  {
   "cell_type": "code",
   "execution_count": null,
   "metadata": {
    "slideshow": {
     "slide_type": "subslide"
    }
   },
   "outputs": [],
   "source": [
    "fig, ax = plt.subplots(1,1,figsize=(9, 5))\n",
    "plot_work(ax, t_arr, s_t, Eps_arr, Sig_arr)\n",
    "plot_dissipation(ax, t_arr, s_t, Eps_arr, Sig_arr)"
   ]
  },
  {
   "cell_type": "markdown",
   "metadata": {},
   "source": [
    "# Interactive application"
   ]
  },
  {
   "cell_type": "code",
   "execution_count": null,
   "metadata": {},
   "outputs": [],
   "source": [
    "def init():\n",
    "    global Eps_record, Sig_record, iter_record, t_arr, s_t, s0, t0, Eps_n\n",
    "    s0 = 0\n",
    "    t0 = 0\n",
    "    Sig_record = []\n",
    "    Eps_record = []\n",
    "    iter_record = []\n",
    "    t_arr = []\n",
    "    s_t = []\n",
    "    Eps_n = np.zeros((len(Eps),), dtype=np.float_)\n",
    "\n",
    "def get_response_i(s1, margs, n_steps = 60, k_max=20):\n",
    "    global Eps_record, Sig_record, iter_record, t_arr, s_t, s0, t0, Eps_n\n",
    "    Eps_k = np.copy(Eps_n)\n",
    "    t1 = t0+n_steps+1\n",
    "    ti_arr = np.linspace(t0, t1, n_steps+1 )\n",
    "    si_t = np.linspace(s0,s1,n_steps+1)\n",
    "    for s_n1 in si_t:\n",
    "        lam_k = 0\n",
    "        f_k, df_k, Sig_k = get_f_df(s_n1, Eps_k, *margs)\n",
    "        f_k_norm = np.linalg.norm(f_k)\n",
    "        f_k_trial = f_k[-1]\n",
    "        k = 0\n",
    "        while k < k_max:\n",
    "            if f_k_trial < 0 or f_k_norm < 1e-6:\n",
    "                Eps_n[...] = Eps_k[...]\n",
    "                Sig_record.append(Sig_k)\n",
    "                Eps_record.append(np.copy(Eps_k))\n",
    "                iter_record.append(k+1)\n",
    "                break\n",
    "            dlam = np.linalg.solve(df_k, -f_k)\n",
    "            lam_k += dlam\n",
    "            Eps_k = get_Eps_k1(s_n1, Eps_n, lam_k, Eps_k, *margs)\n",
    "            f_k, df_k, Sig_k = get_f_df(s_n1, Eps_k, *margs)\n",
    "            f_k_norm = np.linalg.norm(f_k)\n",
    "            k += 1\n",
    "        else:\n",
    "            print('no convergence')\n",
    "    t_arr = np.hstack([t_arr, ti_arr])\n",
    "    s_t = np.hstack([s_t, si_t])\n",
    "    t0 = t1\n",
    "    s0 = s1\n",
    "    return\n",
    "\n",
    "import ipywidgets as ipw\n",
    "fig, ((ax1,ax2)) = plt.subplots(1,2,figsize=(10,4), tight_layout=True)\n",
    "ax11 = ax1.twinx(); ax22 = ax2.twinx()\n",
    "axes = ax1, ax11, ax2, ax22\n",
    "def update(s1):\n",
    "    global Eps_record, Sig_record, iter_record, t_arr, s_t, s0, t0, Eps_n, axes\n",
    "    global margs\n",
    "    get_response_i(s1, margs)\n",
    "    Sig_arr = np.array(Sig_record, dtype=np.float_)\n",
    "    Eps_arr = np.array(Eps_record, dtype=np.float_)\n",
    "    iter_arr = np.array(iter_record,dtype=np.int_)\n",
    "    for ax in axes:\n",
    "        if ax:\n",
    "            ax.clear()\n",
    "    plot_Sig_Eps(t_arr, s_t, Sig_arr, Eps_arr, iter_arr, *axes)\n",
    "    \n",
    "init()\n",
    "\n",
    "s1_slider = ipw.FloatSlider(value=0,min=-4, max=+4, step=0.1,\n",
    "                                         continuous_update=False)\n",
    "\n",
    "ipw.interact(update, s1 = s1_slider);\n",
    "\n",
    "def reset(**material_params):\n",
    "    global margs\n",
    "    init()\n",
    "    s1_slider.value = 0\n",
    "    margs = [material_params[name] for name in py_vars]\n",
    "\n",
    "n_steps = 20\n",
    "margs_sliders = {\n",
    "    name : ipw.FloatSlider(description=name, value=val, \n",
    "                            min=minval, max=maxval, step=(maxval-minval) / n_steps,\n",
    "                           continuous_update=False)\n",
    "    for name, val, minval, maxval in [('E_b', 50, 0.5, 100),\n",
    "                                      ('S', 10, 1, 100),\n",
    "                                      ('r', 1, 0.1, 10),\n",
    "                                      ('c', 1, 0.1, 10),\n",
    "                                     ('K', 1, -20, 20),\n",
    "                                     ('tau_bar', 1, 0.5, 20)]\n",
    "}\n",
    "\n",
    "ipw.interact(reset, **margs_sliders);"
   ]
  },
  {
   "cell_type": "markdown",
   "metadata": {
    "slideshow": {
     "slide_type": "slide"
    }
   },
   "source": [
    "# Code generation\n",
    "See the docs for the code generation, the latexified  sympy symbols \n",
    "must be substituted such that they can act as standard C variable names"
   ]
  },
  {
   "cell_type": "code",
   "execution_count": null,
   "metadata": {},
   "outputs": [],
   "source": []
  },
  {
   "cell_type": "code",
   "execution_count": null,
   "metadata": {
    "slideshow": {
     "slide_type": "fragment"
    }
   },
   "outputs": [],
   "source": [
    "print(get_f_Sig_C[0][1])"
   ]
  },
  {
   "cell_type": "code",
   "execution_count": null,
   "metadata": {},
   "outputs": [],
   "source": []
  }
 ],
 "metadata": {
  "kernelspec": {
   "display_name": "Python 3 (ipykernel)",
   "language": "python",
   "name": "python3"
  },
  "language_info": {
   "codemirror_mode": {
    "name": "ipython",
    "version": 3
   },
   "file_extension": ".py",
   "mimetype": "text/x-python",
   "name": "python",
   "nbconvert_exporter": "python",
   "pygments_lexer": "ipython3"
  },
  "toc": {
   "base_numbering": 1,
   "nav_menu": {},
   "number_sections": true,
   "sideBar": true,
   "skip_h1_title": false,
   "title_cell": "Table of Contents",
   "title_sidebar": "Contents",
   "toc_cell": false,
   "toc_position": {
    "height": "calc(100% - 180px)",
    "left": "10px",
    "top": "150px",
    "width": "165px"
   },
   "toc_section_display": true,
   "toc_window_display": false
  }
 },
 "nbformat": 4,
 "nbformat_minor": 4
}
