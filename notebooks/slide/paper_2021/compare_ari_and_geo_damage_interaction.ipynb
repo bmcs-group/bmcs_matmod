{
 "cells": [
  {
   "cell_type": "markdown",
   "id": "perceived-gibraltar",
   "metadata": {},
   "source": [
    "# Question:\n",
    "\n",
    "Is there a difference in interaction evolution for arithmetic and geometric \n",
    "means of $c_N, c_T$ and of $S_N$ and $S_T$\n",
    "\n",
    "TODO: currently both versions of $phi$ are derived during the class instantiation.\n",
    "This takes time. This will be changed to perform the derivation on demand - only \n",
    "upon access to the function."
   ]
  },
  {
   "cell_type": "code",
   "execution_count": null,
   "id": "molecular-intake",
   "metadata": {},
   "outputs": [],
   "source": [
    "%matplotlib widget\n",
    "from bmcs_matmod.slide.slide_explorer import SlideExplorer\n",
    "from bmcs_matmod.slide.slide_32 import Slide23Expr\n",
    "import numpy as np"
   ]
  },
  {
   "cell_type": "code",
   "execution_count": null,
   "id": "middle-phoenix",
   "metadata": {},
   "outputs": [],
   "source": [
    "%%capture\n",
    "material_params = dict(\n",
    "    E_s=100, gamma_s=50, K_s=50, S_s=0.2, c_s=1, bartau=5, \n",
    "    E_w=100, S_w=0.05, c_w=2, m = 0.05, f_t=5, f_c=20, f_c0=10, eta=1\n",
    ")\n",
    "eta_range = np.linspace(0,1,3)\n",
    "se_T_list, se_N_list = [], []\n",
    "for omega_interact in ['arithmetic','geometric']:\n",
    "    for eta in eta_range:\n",
    "        material_params['eta'] = eta\n",
    "        se1 = SlideExplorer(n_steps=50, k_max=50)\n",
    "        se1.slide_model.trait_set(**material_params)\n",
    "        Slide23Expr.damage_interaction = omega_interact\n",
    "        se1.slide_model.damage_interaction = omega_interact\n",
    "        se1.trait_set(s_x_1 = 1, s_y_1 = 0, w_1 = 0);\n",
    "        se1.run()\n",
    "        se_T_list.append(se1)\n",
    "        se2 = SlideExplorer(n_steps=200, k_max=50)\n",
    "        se2.slide_model.trait_set(**material_params)\n",
    "        se2.slide_model.damage_interaction = omega_interact\n",
    "        se2.trait_set(s_x_1 = 0, s_y_1 = 0, w_1 = 1);\n",
    "        se2.run()\n",
    "        se_N_list.append(se2)"
   ]
  },
  {
   "cell_type": "code",
   "execution_count": null,
   "id": "unique-relay",
   "metadata": {},
   "outputs": [],
   "source": [
    "import matplotlib.pylab as plt\n",
    "_, (ax_T, ax_N) = plt.subplots(1,2,figsize=(8,4))\n",
    "ax_T.plot([0,1],[0,1],'--',color='black')\n",
    "ax_N.plot([0,1],[0,1],'--',color='black')\n",
    "for se_T, se_N in zip(se_T_list, se_N_list):\n",
    "    s_x_pi_, s_y_pi_, w_pi_, z_, alpha_x_, alpha_y_, omega_T_, omega_N_ = se_N.Eps_arr.T\n",
    "#    ax_T.plot(omega_T_,omega_N_)\n",
    "    se_T.inel_state_evolution.plot_omega_NT(ax_T)\n",
    "    se_N.inel_state_evolution.plot_omega_NT(ax_N)"
   ]
  },
  {
   "cell_type": "code",
   "execution_count": null,
   "id": "opened-colon",
   "metadata": {},
   "outputs": [],
   "source": [
    "se_T_list[0].inel_state_evolution.interact()"
   ]
  },
  {
   "cell_type": "code",
   "execution_count": null,
   "id": "upper-event",
   "metadata": {},
   "outputs": [],
   "source": []
  }
 ],
 "metadata": {
  "kernelspec": {
   "display_name": "bmcs_env",
   "language": "python",
   "name": "bmcs_env"
  },
  "language_info": {
   "codemirror_mode": {
    "name": "ipython",
    "version": 3
   },
   "file_extension": ".py",
   "mimetype": "text/x-python",
   "name": "python",
   "nbconvert_exporter": "python",
   "pygments_lexer": "ipython3"
  },
  "toc": {
   "base_numbering": 1,
   "nav_menu": {},
   "number_sections": true,
   "sideBar": true,
   "skip_h1_title": false,
   "title_cell": "Table of Contents",
   "title_sidebar": "Contents",
   "toc_cell": false,
   "toc_position": {},
   "toc_section_display": true,
   "toc_window_display": true
  }
 },
 "nbformat": 4,
 "nbformat_minor": 5
}
