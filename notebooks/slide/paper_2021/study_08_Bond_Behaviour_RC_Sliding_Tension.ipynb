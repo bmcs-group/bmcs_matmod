{
 "cells": [
  {
   "cell_type": "markdown",
   "metadata": {},
   "source": [
    "# Study 08: Bond behavior RC tension & sliding"
   ]
  },
  {
   "cell_type": "code",
   "execution_count": 3,
   "metadata": {},
   "outputs": [],
   "source": [
    "%matplotlib widget"
   ]
  },
  {
   "cell_type": "code",
   "execution_count": 4,
   "metadata": {},
   "outputs": [],
   "source": [
    "import bmcs_utils"
   ]
  },
  {
   "cell_type": "code",
   "execution_count": 5,
   "metadata": {},
   "outputs": [],
   "source": [
    "import numpy as np\n",
    "import copy"
   ]
  },
  {
   "cell_type": "code",
   "execution_count": 6,
   "metadata": {},
   "outputs": [],
   "source": [
    "from ibvpy.tfunction import TimeFunction, TFSelector, TFCyclicSin, TFCyclicNonsymmetricConstant"
   ]
  },
  {
   "cell_type": "code",
   "execution_count": 7,
   "metadata": {},
   "outputs": [],
   "source": [
    "from bmcs_matmod.slide.slide_explorer import SlideExplorer\n",
    "import bmcs_utils.api as bu"
   ]
  },
  {
   "cell_type": "markdown",
   "metadata": {},
   "source": [
    "## Tension = 0.0  $f_t$"
   ]
  },
  {
   "cell_type": "code",
   "execution_count": 89,
   "metadata": {},
   "outputs": [],
   "source": [
    "%%capture\n",
    "import numpy as np\n",
    "\n",
    "# Isotropic hardening\n",
    "material_params_1 = dict(\n",
    "    E_T= 88, gamma_T= 8., K_T = 8.000, S_T = 0.004, c_T = 3., bartau = 1.0, \n",
    "    E_N= 533, S_N = 0.001, c_N = 1, m = 0.0001, f_t= 0.5, f_c = 5, f_c0 = 2.5, eta=0.1)\n",
    "   \n",
    "se1 = SlideExplorer(n_steps=2000, k_max=50)\n",
    "se1.slide_model.trait_set(**material_params_1)\n",
    "se1.trait_set(s_x_1 = 3.0, s_y_1 = 0, w_1 = 0.);\n",
    "se1.run()\n",
    "\n"
   ]
  },
  {
   "cell_type": "code",
   "execution_count": 90,
   "metadata": {},
   "outputs": [
    {
     "data": {
      "application/vnd.jupyter.widget-view+json": {
       "model_id": "c5a82c78ce684bdf818deaa69a6ff150",
       "version_major": 2,
       "version_minor": 0
      },
      "text/plain": [
       "Canvas(toolbar=Toolbar(toolitems=[('Home', 'Reset original view', 'home', 'home'), ('Back', 'Back to previous …"
      ]
     },
     "metadata": {},
     "output_type": "display_data"
    },
    {
     "data": {
      "text/plain": [
       "Text(0, 0.5, '$\\\\sigma_N$')"
      ]
     },
     "execution_count": 90,
     "metadata": {},
     "output_type": "execute_result"
    }
   ],
   "source": [
    "import matplotlib.pylab as plt\n",
    "fig, ((ax_1,  ax_2, ax_3), (ax_4, ax_5, ax_6)) = plt.subplots(2,3, tight_layout=True, figsize=(9,4))\n",
    "fig.canvas.header_visible=False\n",
    "\n",
    "s_x_pi_1, s_y_pi_1, w_pi_1, z_1, alpha_x_1, alpha_y_1, omega_T_1, omega_N_1 = se1.Eps_arr.T\n",
    "tau_x_pi_1, tau_y_pi_1, sig_pi_1, Z_1, X_x_1, X_y_1, Y_T_1, Y_N_1 = se1.Sig_arr.T\n",
    "\n",
    "w_1 = se1.w_t\n",
    "s_x_1 = se1.s_x_t.T\n",
    "s_y_1 = se1.s_y_t.T\n",
    "t = np.linspace(0, 1, len(tau_x_pi_1))\n",
    "    \n",
    "ax_1.plot(t, s_x_1)\n",
    "ax_1.set_xlabel('$time$')\n",
    "ax_1.set_ylabel('$s_x$')\n",
    "    \n",
    "ax_2.plot(s_x_1, omega_T_1)\n",
    "ax_2.set_xlabel('$s_x$')\n",
    "ax_2.set_ylabel('$\\omega_T$')\n",
    "\n",
    "ax_3.plot(s_x_1, omega_N_1)\n",
    "ax_3.set_xlabel('$s_x$')\n",
    "ax_3.set_ylabel('$\\omega_N$')\n",
    "\n",
    "ax_4.plot(t, w_1)\n",
    "ax_4.set_xlabel('$time$')\n",
    "ax_4.set_ylabel('$w_1$')\n",
    "\n",
    "ax_5.plot(s_x_1, tau_x_pi_1)\n",
    "ax_5.set_xlabel('$s_x$')\n",
    "ax_5.set_ylabel('$\\sigma_T$')\n",
    "\n",
    "ax_6.plot(s_x_1, sig_pi_1)\n",
    "ax_6.set_xlabel('$s_x$')\n",
    "ax_6.set_ylabel('$\\sigma_N$')\n",
    "\n",
    "    \n",
    "#fig.savefig('Study_05_Energy_dissipation_stress.pdf')   "
   ]
  },
  {
   "cell_type": "markdown",
   "metadata": {},
   "source": [
    "## Tension = 0.1  $f_t$"
   ]
  },
  {
   "cell_type": "code",
   "execution_count": 134,
   "metadata": {},
   "outputs": [],
   "source": [
    "%%capture\n",
    "import numpy as np\n",
    "\n",
    "# Isotropic hardening\n",
    "material_params_2 = dict(\n",
    "    E_T= 88, gamma_T= 20.0, K_T = 20.000, S_T = 0.001, c_T = 1., bartau = 1.0, \n",
    "    E_N= 800, S_N = 0.5, c_N = 1, m = 0.1, f_t= 1, f_c = 5, f_c0 = 2.5, eta=0.)\n",
    "   \n",
    "se2 = SlideExplorer(n_steps=10000, k_max=50)\n",
    "se2.slide_model.trait_set(**material_params_2)\n",
    "se2.trait_set(s_x_1 = 0.0, s_y_1 = 0, w_1 = 0.1 * 3.3 / material_params_2['E_N']);\n",
    "se2.run()\n",
    "se2.trait_set(s_x_1 = 3.0, s_y_1 = 0, w_1 = 100 * 0.1 * 3.3 / material_params_2['E_N']);\n",
    "se2.run()\n",
    "\n",
    "\n"
   ]
  },
  {
   "cell_type": "code",
   "execution_count": 135,
   "metadata": {
    "scrolled": false
   },
   "outputs": [
    {
     "data": {
      "application/vnd.jupyter.widget-view+json": {
       "model_id": "fd58f5504d894b1fba53c88842c25b59",
       "version_major": 2,
       "version_minor": 0
      },
      "text/plain": [
       "Canvas(toolbar=Toolbar(toolitems=[('Home', 'Reset original view', 'home', 'home'), ('Back', 'Back to previous …"
      ]
     },
     "metadata": {},
     "output_type": "display_data"
    },
    {
     "data": {
      "text/plain": [
       "Text(0, 0.5, '$\\\\sigma_N$')"
      ]
     },
     "execution_count": 135,
     "metadata": {},
     "output_type": "execute_result"
    }
   ],
   "source": [
    "import matplotlib.pylab as plt\n",
    "fig, ((ax_1,  ax_2, ax_3), (ax_4, ax_5, ax_6)) = plt.subplots(2,3, tight_layout=True, figsize=(9,4))\n",
    "fig.canvas.header_visible=False\n",
    "\n",
    "s_x_pi_2, s_y_pi_2, w_pi_2, z_2, alpha_x_2, alpha_y_2, omega_T_2, omega_N_2 = se2.Eps_arr.T\n",
    "tau_x_pi_2, tau_y_pi_2, sig_pi_2, Z_2, X_x_2, X_y_2, Y_T_2, Y_N_2 = se2.Sig_arr.T\n",
    "\n",
    "w_2 = se2.w_t\n",
    "s_x_2 = se2.s_x_t.T\n",
    "s_y_2 = se2.s_y_t.T\n",
    "t = np.linspace(0, 1, len(tau_x_pi_2))\n",
    "    \n",
    "ax_1.plot(t, s_x_2)\n",
    "ax_1.set_xlabel('$time$')\n",
    "ax_1.set_ylabel('$s_x$')\n",
    "    \n",
    "ax_2.plot(t, omega_T_2)\n",
    "ax_2.set_xlabel('$s_x$')\n",
    "ax_2.set_ylabel('$\\omega_T$')\n",
    "\n",
    "ax_3.plot(t, omega_N_2)\n",
    "ax_3.set_xlabel('$s_x$')\n",
    "ax_3.set_ylabel('$\\omega_N$')\n",
    "\n",
    "ax_4.plot(t, w_2)\n",
    "ax_4.set_xlabel('$time$')\n",
    "ax_4.set_ylabel('$w_1$')\n",
    "\n",
    "ax_5.plot(s_x_2, tau_x_pi_2)\n",
    "ax_5.set_xlabel('$s_x$')\n",
    "ax_5.set_ylabel('$\\sigma_T$')\n",
    "\n",
    "ax_6.plot(s_x_2, sig_pi_2)\n",
    "ax_6.set_xlabel('$s_x$')\n",
    "ax_6.set_ylabel('$\\sigma_N$')\n",
    "\n",
    "    \n",
    "#fig.savefig('Study_05_Energy_dissipation_stress.pdf')   "
   ]
  },
  {
   "cell_type": "markdown",
   "metadata": {},
   "source": [
    "## Tension = 0.2  $f_t$"
   ]
  },
  {
   "cell_type": "code",
   "execution_count": 97,
   "metadata": {},
   "outputs": [],
   "source": [
    "%%capture\n",
    "import numpy as np\n",
    "\n",
    "# Isotropic hardening\n",
    "material_params_3 = dict(\n",
    "    E_T= 88, gamma_T= 4., K_T = 4.000, S_T = 0.01, c_T = 4., bartau = 1.0, \n",
    "    E_N= 533, S_N = 0.001, c_N = 1, m = 0.00, f_t= 0.9, f_c = 3, f_c0 = 1.8, eta=0.1)\n",
    "\n",
    "   \n",
    "se3 = SlideExplorer(n_steps=200, k_max=50)\n",
    "se3.slide_model.trait_set(**material_params_3)\n",
    "se3.trait_set(s_x_1 = 3.0, s_y_1 = 0, w_1 = 5 * 150 * 0.2 * 3.3 / 53333.33);\n",
    "se3.run()\n",
    "\n"
   ]
  },
  {
   "cell_type": "code",
   "execution_count": 98,
   "metadata": {
    "scrolled": false
   },
   "outputs": [
    {
     "data": {
      "application/vnd.jupyter.widget-view+json": {
       "model_id": "9ff02c7c682d4708898b569b4f4c39fa",
       "version_major": 2,
       "version_minor": 0
      },
      "text/plain": [
       "Canvas(toolbar=Toolbar(toolitems=[('Home', 'Reset original view', 'home', 'home'), ('Back', 'Back to previous …"
      ]
     },
     "metadata": {},
     "output_type": "display_data"
    },
    {
     "data": {
      "text/plain": [
       "Text(0, 0.5, '$\\\\sigma_N$')"
      ]
     },
     "execution_count": 98,
     "metadata": {},
     "output_type": "execute_result"
    }
   ],
   "source": [
    "import matplotlib.pylab as plt\n",
    "fig, ((ax_1,  ax_2, ax_3), (ax_4, ax_5, ax_6)) = plt.subplots(2,3, tight_layout=True, figsize=(9,4))\n",
    "fig.canvas.header_visible=False\n",
    "\n",
    "s_x_pi_3, s_y_pi_3, w_pi_3, z_3, alpha_x_3, alpha_y_3, omega_T_3, omega_N_3 = se3.Eps_arr.T\n",
    "tau_x_pi_3, tau_y_pi_3, sig_pi_3, Z_3, X_x_3, X_y_3, Y_T_3, Y_N_3 = se3.Sig_arr.T\n",
    "\n",
    "w_3 = se3.w_t\n",
    "s_x_3 = se3.s_x_t.T\n",
    "s_y_3 = se3.s_y_t.T\n",
    "t = np.linspace(0, 1, len(tau_x_pi_3))\n",
    "    \n",
    "ax_1.plot(t, s_x_3)\n",
    "ax_1.set_xlabel('$time$')\n",
    "ax_1.set_ylabel('$s_x$')\n",
    "    \n",
    "ax_2.plot(s_x_3, omega_T_3)\n",
    "ax_2.set_xlabel('$s_x$')\n",
    "ax_2.set_ylabel('$\\omega_T$')\n",
    "\n",
    "ax_3.plot(s_x_3, omega_N_3)\n",
    "ax_3.set_xlabel('$s_x$')\n",
    "ax_3.set_ylabel('$\\omega_N$')\n",
    "\n",
    "ax_4.plot(t, w_3)\n",
    "ax_4.set_xlabel('$time$')\n",
    "ax_4.set_ylabel('$w_1$')\n",
    "\n",
    "ax_5.plot(s_x_3, tau_x_pi_3)\n",
    "ax_5.set_xlabel('$s_x$')\n",
    "ax_5.set_ylabel('$\\sigma_T$')\n",
    "\n",
    "ax_6.plot(w_3, sig_pi_3)\n",
    "ax_6.set_xlabel('$s_x$')\n",
    "ax_6.set_ylabel('$\\sigma_N$')\n",
    "\n",
    "    \n",
    "#fig.savefig('Study_05_Energy_dissipation_stress.pdf')   "
   ]
  },
  {
   "cell_type": "markdown",
   "metadata": {},
   "source": [
    "## Tension = 0.3  $f_t$"
   ]
  },
  {
   "cell_type": "code",
   "execution_count": null,
   "metadata": {},
   "outputs": [],
   "source": [
    "%%capture\n",
    "import numpy as np\n",
    "\n",
    "# Isotropic hardening\n",
    "material_params_4 = dict(\n",
    "    E_T= 88, gamma_T= 4., K_T = 4.000, S_T=0.003, c_T=4., bartau= 1.0, \n",
    "    E_N= 533, S_N=0.005, c_N = 1, m = 0.001, f_t= 0.3, f_c= 3, f_c0= 1.8, eta=0.4)\n",
    "\n",
    "   \n",
    "se4 = SlideExplorer(n_steps=6000, k_max=50)\n",
    "se4.slide_model.trait_set(**material_params_4)\n",
    "se4.trait_set(s_x_1 = 3.0, s_y_1 = 0, w_1 = 150 * 0.3 * 3.3 / 53333.33);\n",
    "se4.run()\n",
    "\n"
   ]
  },
  {
   "cell_type": "code",
   "execution_count": null,
   "metadata": {
    "scrolled": false
   },
   "outputs": [],
   "source": [
    "import matplotlib.pylab as plt\n",
    "fig, ((ax_1,  ax_2, ax_3), (ax_4, ax_5, ax_6)) = plt.subplots(2,3, tight_layout=True, figsize=(9,4))\n",
    "fig.canvas.header_visible=False\n",
    "\n",
    "s_x_pi_4, s_y_pi_4, w_pi_4, z_4, alpha_x_4, alpha_y_4, omega_T_4, omega_N_4 = se4.Eps_arr.T\n",
    "tau_x_pi_4, tau_y_pi_4, sig_pi_4, Z_4, X_x_4, X_y_4, Y_T_4, Y_N_4 = se4.Sig_arr.T\n",
    "\n",
    "w_4 = se4.w_t\n",
    "s_x_4 = se4.s_x_t.T\n",
    "s_y_4 = se4.s_y_t.T\n",
    "t = np.linspace(0, 1, len(tau_x_pi_4))\n",
    "    \n",
    "ax_1.plot(t, s_x_4)\n",
    "ax_1.set_xlabel('$time$')\n",
    "ax_1.set_ylabel('$s_x$')\n",
    "    \n",
    "ax_2.plot(s_x_4, omega_T_4)\n",
    "ax_2.set_xlabel('$s_x$')\n",
    "ax_2.set_ylabel('$\\omega_T$')\n",
    "\n",
    "ax_3.plot(s_x_4, omega_N_4)\n",
    "ax_3.set_xlabel('$s_x$')\n",
    "ax_3.set_ylabel('$\\omega_N$')\n",
    "\n",
    "ax_4.plot(t, w_4)\n",
    "ax_4.set_xlabel('$time$')\n",
    "ax_4.set_ylabel('$w_1$')\n",
    "\n",
    "ax_5.plot(s_x_4, tau_x_pi_4)\n",
    "ax_5.set_xlabel('$s_x$')\n",
    "ax_5.set_ylabel('$\\sigma_T$')\n",
    "\n",
    "ax_6.plot(s_x_4, sig_pi_4)\n",
    "ax_6.set_xlabel('$s_x$')\n",
    "ax_6.set_ylabel('$\\sigma_N$')\n",
    "\n",
    "    \n",
    "#fig.savefig('Study_05_Energy_dissipation_stress.pdf')   "
   ]
  },
  {
   "cell_type": "code",
   "execution_count": null,
   "metadata": {},
   "outputs": [],
   "source": []
  },
  {
   "cell_type": "code",
   "execution_count": null,
   "metadata": {},
   "outputs": [],
   "source": []
  }
 ],
 "metadata": {
  "kernelspec": {
   "display_name": "Python [conda env:bmcs_env]",
   "language": "python",
   "name": "conda-env-bmcs_env-py"
  },
  "language_info": {
   "codemirror_mode": {
    "name": "ipython",
    "version": 3
   },
   "file_extension": ".py",
   "mimetype": "text/x-python",
   "name": "python",
   "nbconvert_exporter": "python",
   "pygments_lexer": "ipython3",
   "version": "3.9.1"
  }
 },
 "nbformat": 4,
 "nbformat_minor": 5
}
