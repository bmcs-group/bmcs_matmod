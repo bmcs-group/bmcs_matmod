{
 "cells": [
  {
   "cell_type": "markdown",
   "id": "dbc9a6d4-2a8f-4333-b64e-762210c2e134",
   "metadata": {},
   "source": [
    "# Study force-controlled single facet"
   ]
  },
  {
   "cell_type": "code",
   "execution_count": 1,
   "id": "9d61e064-7bd0-4ed3-a41e-421658cc56fe",
   "metadata": {},
   "outputs": [],
   "source": [
    "%matplotlib widget\n",
    "import time\n",
    "from bmcs_expsim.utils.mlab_decorators import decorate_figure\n",
    "from mayavi import mlab\n",
    "import numpy as np\n",
    "np.seterr(divide='ignore', invalid='ignore') \n",
    "import warnings\n",
    "import matplotlib.pylab as plt"
   ]
  },
  {
   "cell_type": "code",
   "execution_count": 2,
   "id": "8eb03d30-e482-4561-8c3a-56d275d35ac9",
   "metadata": {},
   "outputs": [],
   "source": [
    "from ibvpy.api import TStepBC, TFCyclicNonsymmetricConstant, TFBilinear\n",
    "from ibvpy.bcond import BCSlice, BCDof\n",
    "from ibvpy.xmodel.xdomain_fe_grid import XDomainFEGrid\n",
    "from ibvpy.xmodel.xdomain_interface import XDomainFEInterface"
   ]
  },
  {
   "cell_type": "code",
   "execution_count": 3,
   "id": "386f2e9e-8822-4b39-a723-3f755ea493ec",
   "metadata": {},
   "outputs": [],
   "source": [
    "from ibvpy.fets import FETS2D4Q\n",
    "from ibvpy.fets import FETS3D8H\n",
    "from ibvpy.fets.fets1D5 import FETS1D52ULRH"
   ]
  },
  {
   "cell_type": "code",
   "execution_count": 4,
   "id": "eb9547e9-5164-437c-8f5f-af5a5e79ae22",
   "metadata": {},
   "outputs": [],
   "source": [
    "from bmcs_matmod.slide.vslide_34 import Slide34\n",
    "from ibvpy.tmodel.mats3D.mats3D_elastic.vmats3D_elastic import \\\n",
    "    MATS3DElastic\n",
    "from ibvpy.tmodel.mats2D.mats2D_elastic.vmats2D_elastic import \\\n",
    "    MATS2DElastic\n",
    "from bmcs_utils.api import Model\n",
    "from bmcs_matmod.slide.slide_explorer import SlideExplorer"
   ]
  },
  {
   "cell_type": "code",
   "execution_count": 5,
   "id": "0d4c0ca3-88ba-454e-932a-2e40c38beef9",
   "metadata": {},
   "outputs": [],
   "source": [
    "from ibvpy.tmodel.viz3d_scalar_field import \\\n",
    "    Vis3DStateField, Viz3DScalarField\n",
    "from ibvpy.tmodel.viz3d_tensor_field import \\\n",
    "    Vis3DTensorField, Viz3DTensorField"
   ]
  },
  {
   "cell_type": "markdown",
   "id": "f40e09fd-7e89-4e20-8b09-9acc1e28f218",
   "metadata": {},
   "source": [
    "# Monotonic loading"
   ]
  },
  {
   "cell_type": "code",
   "execution_count": 6,
   "id": "33cd4393-8ece-47e0-accb-a62afce7f353",
   "metadata": {},
   "outputs": [],
   "source": [
    "n_e = 1\n",
    "L_x = 1.0\n",
    "\n",
    "xd_lower = XDomainFEGrid(coord_min=(0, -1),\n",
    "                          coord_max=(1, 0),\n",
    "                          shape=(1, 1),\n",
    "                          fets=FETS2D4Q())\n",
    "xd_upper = XDomainFEGrid(coord_min=(0, 0),\n",
    "                          coord_max=(1, 1),\n",
    "                          shape=(1, 1),\n",
    "                          fets=FETS2D4Q())\n",
    "\n",
    "m_1 = MATS2DElastic(E=40000, nu=0.2)\n",
    "m_1 = MATS2DElastic(E=40000, nu=0.2)\n",
    "\n",
    "xd12 = XDomainFEInterface(\n",
    "    I=xd_lower.mesh.I[-1, :],\n",
    "    J=xd_upper.mesh.I[0, :],\n",
    "    fets=FETS1D52ULRH()\n",
    ")\n",
    "\n",
    "material_params = dict(\n",
    "     E_T=100, gamma_T=200, K_T=0, S_T=0.05, c_T=3, bartau=3, \n",
    "     E_N=100, S_N=0.05, c_N = 3, m = 0.15, f_t=5, f_c=80, f_c0 = 40, eta=0.2)\n",
    "\n",
    "\n",
    "bond_m = Slide34(**material_params)\n",
    "\n",
    "m = TStepBC(\n",
    "    domains=[\n",
    "        (xd_lower, m_1),\n",
    "        (xd_upper, m_1),\n",
    "        (xd12, bond_m),\n",
    "    ],\n",
    ")\n",
    "\n",
    "\n",
    "load_dim = 0 # \n",
    "fixed_dim = 1 # 0 - x, 1 - y\n",
    "\n",
    "upper_control_slice = BCSlice(slice=xd_upper.mesh[:, :, :, :],\n",
    "                          var='u', dims=[load_dim], value=0)\n",
    "upper_control_dofs = upper_control_slice.dofs\n",
    "upper_control = [BCDof(var='u', dof=dof, value = -0.4) \n",
    "                 for dof in upper_control_dofs ]\n",
    "\n",
    "upper_compression_slice = BCSlice(slice=xd_upper.mesh[:, :, :, :],\n",
    "         var='u', dims=[fixed_dim], value=0)\n",
    "upper_compression_dofs = upper_compression_slice.dofs\n",
    "upper_compression = [BCDof(var='u', dof=dof, value = 0.0) \n",
    "                 for dof in upper_compression_dofs ]\n",
    "\n",
    "lower_fixed = BCSlice(slice=xd_lower.mesh[:, :, :, :],\n",
    "         var='u', dims=[0,1], value=0)\n",
    "\n",
    "bc1 = upper_control + upper_compression + [lower_fixed]\n",
    "\n",
    "m.bc=bc1\n",
    "m.hist.vis_record = {\n",
    "    'strain': Vis3DTensorField(var='eps_ab'),\n",
    "}\n",
    "s = m.sim\n",
    "s.tloop.verbose = False # set false to avoid the prints during each increment\n",
    "s.tloop.k_max = 50\n",
    "s.tline.step = 0.01\n",
    "s.reset()\n",
    "s.run()\n"
   ]
  },
  {
   "cell_type": "code",
   "execution_count": 7,
   "id": "910eb912-6e57-458c-aadc-6deb991e8fed",
   "metadata": {},
   "outputs": [],
   "source": [
    "se1 = SlideExplorer(n_steps=100, k_max=50)\n",
    "se1.slide_model.trait_set(**material_params)\n",
    "se1.trait_set(s_x_1 = 0.4, s_y_1 = 0, w_1 = 0);\n",
    "se1.run()"
   ]
  },
  {
   "cell_type": "code",
   "execution_count": 8,
   "id": "d815a38c-32fd-435e-aede-96068f1ce064",
   "metadata": {},
   "outputs": [
    {
     "data": {
      "application/vnd.jupyter.widget-view+json": {
       "model_id": "68fa1881de8d41279c186f8a7cc1a437",
       "version_major": 2,
       "version_minor": 0
      },
      "text/plain": [
       "VBox(children=(HBox(children=(VBox(children=(Tree(layout=Layout(align_items='stretch', border='solid 1px black…"
      ]
     },
     "metadata": {},
     "output_type": "display_data"
    }
   ],
   "source": [
    "se1.interact()"
   ]
  },
  {
   "cell_type": "code",
   "execution_count": 9,
   "id": "5a04ab99-41ad-405c-960f-f963d507e5c4",
   "metadata": {},
   "outputs": [
    {
     "data": {
      "application/vnd.jupyter.widget-view+json": {
       "model_id": "8e8e2d44fd314344b76ffdf0761b95fd",
       "version_major": 2,
       "version_minor": 0
      },
      "text/plain": [
       "Canvas(toolbar=Toolbar(toolitems=[('Home', 'Reset original view', 'home', 'home'), ('Back', 'Back to previous …"
      ]
     },
     "metadata": {},
     "output_type": "display_data"
    }
   ],
   "source": [
    "import matplotlib.pylab as plt\n",
    "\n",
    "tau_x_pi_1, tau_y_pi_1, sig_pi_1, Z_1, X_x_1, X_y_1, Y_T_1, Y_N_1 = se1.Sig_arr.T\n",
    "s_x_pi_, s_y_pi_, w_pi_, z_, alpha_x_, alpha_y_, omega_T_, omega_N_ = se1.Eps_arr.T\n",
    "\n",
    "n_step_1 = len(tau_x_pi_1)\n",
    "\n",
    "w_1 = se1.w_t\n",
    "s_x_1 = se1.s_x_t.T\n",
    "   \n",
    "F_to = m.hist.F_t\n",
    "U_to = m.hist.U_t\n",
    "F_l_t = np.sum(F_to[:, upper_control_dofs], axis=-1)\n",
    "U_r_t = np.average(U_to[:, upper_control_dofs], axis=-1)\n",
    "\n",
    "states_t = [states_t[2] for states_t in m.hist.state_vars]\n",
    "var_names = states_t[0].keys()\n",
    "EpsSig_t = {\n",
    "    var_name: np.array([ state_dict[var_name] for state_dict in states_t ]) \n",
    "    for var_name in var_names \n",
    "}\n",
    "\n",
    "time = m.hist.t\n",
    "\n",
    "fig, ((ax1,  ax2, ax3,  ax4)) =  plt.subplots(1,4, figsize=(14, 4))\n",
    "fig.canvas.header_visible=False\n",
    "\n",
    "ax1.plot(U_r_t, EpsSig_t['tau_pi_x'][:,0,0], label='FE')\n",
    "ax1.plot(U_r_t, tau_x_pi_1, label='Material Point')\n",
    "ax1.set_xlabel('u_x')\n",
    "ax1.set_ylabel('$\\sigma_T$')\n",
    "ax1.legend()\n",
    "\n",
    "ax2.plot(U_r_t, EpsSig_t['sig_pi'][:,0,0])\n",
    "ax2.plot(U_r_t, sig_pi_1)\n",
    "ax2.set_xlabel('u_x')\n",
    "ax2.set_ylabel('$\\sigma_N$')\n",
    "\n",
    "ax3.plot(U_r_t, EpsSig_t['omega_T'][:,0,0])\n",
    "ax3.plot(U_r_t, omega_T_)\n",
    "ax3.set_xlabel('s_x')\n",
    "ax3.set_ylabel('$\\omega_T$')\n",
    "\n",
    "\n",
    "ax4.plot(U_r_t, EpsSig_t['omega_N'][:,0,0])\n",
    "ax4.plot(U_r_t, omega_N_)\n",
    "ax4.set_xlabel('s_x')\n",
    "ax4.set_ylabel('$\\omega_N$')\n",
    "\n",
    "fig.tight_layout()\n",
    "\n",
    "\n",
    "#fname= 'ElsevierFont.pdf'\n",
    "#plt.savefig(fname, bbox_inches='tight', pad_inches=0.01/2.54, dpi=300)\n",
    "##get the link to the PDF\n",
    "#from IPython.display import FileLink\n",
    "#FileLink(fname)\n",
    "#p#lt.plot()"
   ]
  },
  {
   "cell_type": "code",
   "execution_count": 10,
   "id": "8a82d83f-0794-450a-9363-773f9a1a6e74",
   "metadata": {},
   "outputs": [],
   "source": [
    "se2 = SlideExplorer(n_steps=50, k_max=50)\n",
    "se2.slide_model.trait_set(**material_params)\n",
    "se2.trait_set(s_x_1 = 0.0, s_y_1 = 0, w_1 = -material_params['f_c'] / material_params['E_N'] * 0.5);\n",
    "se2.run()\n",
    "se2.trait_set(s_x_1 = 0.4, s_y_1 = 0, w_1 = -material_params['f_c'] / material_params['E_N'] * 0.5);\n",
    "se2.run()"
   ]
  },
  {
   "cell_type": "code",
   "execution_count": 11,
   "id": "225fbe0f-d4b5-43f2-b306-b87efb8a28cf",
   "metadata": {},
   "outputs": [
    {
     "data": {
      "application/vnd.jupyter.widget-view+json": {
       "model_id": "d90bc24f48184507bf2ddcc2a96a1de6",
       "version_major": 2,
       "version_minor": 0
      },
      "text/plain": [
       "VBox(children=(HBox(children=(VBox(children=(Tree(layout=Layout(align_items='stretch', border='solid 1px black…"
      ]
     },
     "metadata": {},
     "output_type": "display_data"
    }
   ],
   "source": [
    "se2.interact()"
   ]
  },
  {
   "cell_type": "code",
   "execution_count": 12,
   "id": "6de70bfc-6c30-4bb7-b9c0-817292a670ed",
   "metadata": {},
   "outputs": [],
   "source": [
    "tf_first = TFBilinear(loading_ratio=1.0, time_ratio=0.5)\n",
    "tf_second = TFBilinear(loading_ratio=0.00, time_ratio=0.5)"
   ]
  },
  {
   "cell_type": "markdown",
   "id": "5d6770e3-5156-4afd-9501-bcc8a5274fb2",
   "metadata": {},
   "source": [
    "# Pre-crompression (DC) and then monotonic loading (DC)"
   ]
  },
  {
   "cell_type": "code",
   "execution_count": 13,
   "id": "689e4fb9-77aa-44ab-b9af-0916b8f84b3d",
   "metadata": {},
   "outputs": [],
   "source": [
    "n_e = 1\n",
    "L_x = 1.0\n",
    "\n",
    "xd_lower = XDomainFEGrid(coord_min=(0, -1),\n",
    "                          coord_max=(1, 0),\n",
    "                          shape=(1, 1),\n",
    "                          fets=FETS2D4Q())\n",
    "xd_upper = XDomainFEGrid(coord_min=(0, 0),\n",
    "                          coord_max=(1, 1),\n",
    "                          shape=(1, 1),\n",
    "                          fets=FETS2D4Q())\n",
    "\n",
    "m_1 = MATS2DElastic(E=40000, nu=0.2)\n",
    "m_2 = MATS2DElastic(E=40000, nu=0.2)\n",
    "\n",
    "xd12 = XDomainFEInterface(\n",
    "    I=xd_lower.mesh.I[-1, :],\n",
    "    J=xd_upper.mesh.I[0, :],\n",
    "    fets=FETS1D52ULRH()\n",
    ")\n",
    "\n",
    "material_params = dict(\n",
    "     E_T=100, gamma_T=200, K_T=0, S_T=0.05, c_T=3, bartau=3, \n",
    "     E_N=100, S_N=0.05, c_N = 3, m = 0.15, f_t=5, f_c=80, f_c0 = 40, eta=0.2)\n",
    "\n",
    "\n",
    "bond_m = Slide34(**material_params)\n",
    "\n",
    "m1 = TStepBC(\n",
    "    domains=[\n",
    "        (xd_lower, m_1),\n",
    "        (xd_upper, m_1),\n",
    "        (xd12, bond_m),\n",
    "    ],\n",
    ")\n",
    "    \n",
    "load_dim = 0 # \n",
    "fixed_dim = 1 # 0 - x, 1 - y\n",
    "\n",
    "upper_control_slice = BCSlice(slice=xd_upper.mesh[:, :, :, :],\n",
    "                          var='u', dims=[load_dim], value=0)\n",
    "upper_control_dofs = upper_control_slice.dofs\n",
    "upper_control = [BCDof(var='u', dof=dof, value = -0.4, time_function=tf_second) \n",
    "                 for dof in upper_control_dofs ]\n",
    "\n",
    "F = -40 / len(upper_control_dofs)\n",
    "\n",
    "upper_compression_slice = BCSlice(slice=xd_upper.mesh[:, :, :, :],\n",
    "         var='u', dims=[fixed_dim], value=0)\n",
    "upper_compression_dofs = upper_compression_slice.dofs\n",
    "max_w = -material_params['f_c'] / material_params['E_N'] * 0.5\n",
    "upper_compression = [BCDof(var='u', dof=dof, value = max_w, time_function=tf_first) \n",
    "                 for dof in upper_compression_dofs ]\n",
    "\n",
    "lower_fixed = BCSlice(slice=xd_lower.mesh[:, :, :, :],\n",
    "         var='u', dims=[0,1], value=0)\n",
    "\n",
    "bc1 = upper_control + upper_compression + [lower_fixed]\n",
    "\n",
    "m1.bc=bc1\n",
    "m1.hist.vis_record = {\n",
    "    'strain': Vis3DTensorField(var='eps_ab'),\n",
    "}\n",
    "s1 = m1.sim\n",
    "s1.tloop.verbose = False # set false to avoid the prints during each increment\n",
    "s1.tloop.k_max = 50\n",
    "s1.tline.step = 0.01\n",
    "s1.reset()\n",
    "s1.run()"
   ]
  },
  {
   "cell_type": "markdown",
   "id": "df48cf71-f433-474e-8fde-48f47e757749",
   "metadata": {},
   "source": [
    "# Pre-crompression (FC) and then monotonic loading (DC)"
   ]
  },
  {
   "cell_type": "code",
   "execution_count": 14,
   "id": "f2565621-1445-4c11-88cd-ba3f6ed709da",
   "metadata": {},
   "outputs": [],
   "source": [
    "n_e = 1\n",
    "L_x = 1.0\n",
    "\n",
    "xd_lower = XDomainFEGrid(coord_min=(0, -1),\n",
    "                          coord_max=(1, 0),\n",
    "                          shape=(1, 1),\n",
    "                          fets=FETS2D4Q())\n",
    "xd_upper = XDomainFEGrid(coord_min=(0, 0),\n",
    "                          coord_max=(1, 1),\n",
    "                          shape=(1, 1),\n",
    "                          fets=FETS2D4Q())\n",
    "\n",
    "m_1 = MATS2DElastic(E=40000, nu=0.2)\n",
    "m_2 = MATS2DElastic(E=40000, nu=0.2)\n",
    "\n",
    "xd12 = XDomainFEInterface(\n",
    "    I=xd_lower.mesh.I[-1, :],\n",
    "    J=xd_upper.mesh.I[0, :],\n",
    "    fets=FETS1D52ULRH()\n",
    ")\n",
    "\n",
    "material_params = dict(\n",
    "     E_T=100, gamma_T=200, K_T=0, S_T=0.05, c_T=3, bartau=3, \n",
    "     E_N=100, S_N=0.05, c_N = 3, m = 0.15, f_t=5, f_c=80, f_c0 = 40, eta=0.2)\n",
    "\n",
    "\n",
    "bond_m = Slide34(**material_params)\n",
    "\n",
    "m2 = TStepBC(\n",
    "    domains=[\n",
    "        (xd_lower, m_1),\n",
    "        (xd_upper, m_1),\n",
    "        (xd12, bond_m),\n",
    "    ],\n",
    ")\n",
    "    \n",
    "load_dim = 0 # \n",
    "fixed_dim = 1 # 0 - x, 1 - y\n",
    "\n",
    "upper_control_slice = BCSlice(slice=xd_upper.mesh[:, :, :, :],\n",
    "                          var='u', dims=[load_dim], value=0)\n",
    "upper_control_dofs = upper_control_slice.dofs\n",
    "upper_control = [BCDof(var='u', dof=dof, value = -0.4, time_function=tf_second) \n",
    "                 for dof in upper_control_dofs ]\n",
    "\n",
    "F = -40 / len(upper_control_dofs)\n",
    "\n",
    "upper_compression_slice = BCSlice(slice=xd_upper.mesh[:, :, :, :],\n",
    "         var='u', dims=[fixed_dim], value=0)\n",
    "upper_compression_dofs = upper_compression_slice.dofs\n",
    "upper_compression = [BCDof(var='f', dof=dof, value = F, time_function=tf_first) \n",
    "                 for dof in upper_compression_dofs ]\n",
    "\n",
    "lower_fixed = BCSlice(slice=xd_lower.mesh[:, :, :, :],\n",
    "         var='u', dims=[0,1], value=0)\n",
    "\n",
    "bc1 = upper_control + upper_compression + [lower_fixed]\n",
    "\n",
    "m2.bc=bc1\n",
    "m2.hist.vis_record = {\n",
    "    'strain': Vis3DTensorField(var='eps_ab'),\n",
    "}\n",
    "s2 = m2.sim\n",
    "s2.tloop.verbose = False # set false to avoid the prints during each increment\n",
    "s2.tloop.k_max = 50\n",
    "s2.tline.step = 0.01\n",
    "s2.reset()\n",
    "s2.run()"
   ]
  },
  {
   "cell_type": "code",
   "execution_count": 18,
   "id": "adc393d7-bc78-42ba-8e5f-d8a6a8b02380",
   "metadata": {},
   "outputs": [
    {
     "name": "stdout",
     "output_type": "stream",
     "text": [
      "\n"
     ]
    },
    {
     "ename": "StopIteration",
     "evalue": "Warning: convergence not reached in 200 iterations",
     "output_type": "error",
     "traceback": [
      "\u001b[0;31m---------------------------------------------------------------------------\u001b[0m",
      "\u001b[0;31mStopIteration\u001b[0m                             Traceback (most recent call last)",
      "\u001b[0;32m<ipython-input-18-a0dffb33fd4a>\u001b[0m in \u001b[0;36m<module>\u001b[0;34m\u001b[0m\n\u001b[1;32m     75\u001b[0m \u001b[0ms3\u001b[0m\u001b[0;34m.\u001b[0m\u001b[0mtline\u001b[0m\u001b[0;34m.\u001b[0m\u001b[0mstep\u001b[0m \u001b[0;34m=\u001b[0m \u001b[0;36m0.008\u001b[0m\u001b[0;34m\u001b[0m\u001b[0;34m\u001b[0m\u001b[0m\n\u001b[1;32m     76\u001b[0m \u001b[0ms3\u001b[0m\u001b[0;34m.\u001b[0m\u001b[0mreset\u001b[0m\u001b[0;34m(\u001b[0m\u001b[0;34m)\u001b[0m\u001b[0;34m\u001b[0m\u001b[0;34m\u001b[0m\u001b[0m\n\u001b[0;32m---> 77\u001b[0;31m \u001b[0ms3\u001b[0m\u001b[0;34m.\u001b[0m\u001b[0mrun\u001b[0m\u001b[0;34m(\u001b[0m\u001b[0;34m)\u001b[0m\u001b[0;34m\u001b[0m\u001b[0;34m\u001b[0m\u001b[0m\n\u001b[0m",
      "\u001b[0;32m~/PycharmProjects/bmcs_ibvpy/ibvpy/sim/sim_base.py\u001b[0m in \u001b[0;36mrun\u001b[0;34m(self)\u001b[0m\n\u001b[1;32m     57\u001b[0m         r'''Run a thread if it does not exist - do nothing otherwise\n\u001b[1;32m     58\u001b[0m         '''\n\u001b[0;32m---> 59\u001b[0;31m         \u001b[0mself\u001b[0m\u001b[0;34m.\u001b[0m\u001b[0mtloop\u001b[0m\u001b[0;34m(\u001b[0m\u001b[0;34m)\u001b[0m\u001b[0;34m\u001b[0m\u001b[0;34m\u001b[0m\u001b[0m\n\u001b[0m\u001b[1;32m     60\u001b[0m         \u001b[0;32mreturn\u001b[0m\u001b[0;34m\u001b[0m\u001b[0;34m\u001b[0m\u001b[0m\n\u001b[1;32m     61\u001b[0m \u001b[0;34m\u001b[0m\u001b[0m\n",
      "\u001b[0;32m~/PycharmProjects/bmcs_ibvpy/ibvpy/sim/tloop.py\u001b[0m in \u001b[0;36m__call__\u001b[0;34m(self)\u001b[0m\n\u001b[1;32m     63\u001b[0m     \u001b[0;32mdef\u001b[0m \u001b[0m__call__\u001b[0m\u001b[0;34m(\u001b[0m\u001b[0mself\u001b[0m\u001b[0;34m)\u001b[0m\u001b[0;34m:\u001b[0m\u001b[0;34m\u001b[0m\u001b[0;34m\u001b[0m\u001b[0m\n\u001b[1;32m     64\u001b[0m         \u001b[0mself\u001b[0m\u001b[0;34m.\u001b[0m\u001b[0minit\u001b[0m\u001b[0;34m(\u001b[0m\u001b[0;34m)\u001b[0m\u001b[0;34m\u001b[0m\u001b[0;34m\u001b[0m\u001b[0m\n\u001b[0;32m---> 65\u001b[0;31m         \u001b[0;32mreturn\u001b[0m \u001b[0mself\u001b[0m\u001b[0;34m.\u001b[0m\u001b[0meval\u001b[0m\u001b[0;34m(\u001b[0m\u001b[0;34m)\u001b[0m\u001b[0;34m\u001b[0m\u001b[0;34m\u001b[0m\u001b[0m\n\u001b[0m",
      "\u001b[0;32m~/PycharmProjects/bmcs_ibvpy/ibvpy/sim/tloop_implicit.py\u001b[0m in \u001b[0;36meval\u001b[0;34m(self)\u001b[0m\n\u001b[1;32m     50\u001b[0m                     \u001b[0mself\u001b[0m\u001b[0;34m.\u001b[0m\u001b[0mrestart\u001b[0m \u001b[0;34m=\u001b[0m \u001b[0;32mTrue\u001b[0m\u001b[0;34m\u001b[0m\u001b[0;34m\u001b[0m\u001b[0m\n\u001b[1;32m     51\u001b[0m                     \u001b[0mprint\u001b[0m\u001b[0;34m(\u001b[0m\u001b[0;34m''\u001b[0m\u001b[0;34m)\u001b[0m\u001b[0;34m\u001b[0m\u001b[0;34m\u001b[0m\u001b[0m\n\u001b[0;32m---> 52\u001b[0;31m                     raise StopIteration('Warning: '\n\u001b[0m\u001b[1;32m     53\u001b[0m                                         'convergence not reached in %g iterations' % k)\n\u001b[1;32m     54\u001b[0m                 \u001b[0;32mreturn\u001b[0m\u001b[0;34m\u001b[0m\u001b[0;34m\u001b[0m\u001b[0m\n",
      "\u001b[0;31mStopIteration\u001b[0m: Warning: convergence not reached in 200 iterations"
     ]
    }
   ],
   "source": [
    "n_e = 1\n",
    "L_x = 1.0\n",
    "\n",
    "xd_lower = XDomainFEGrid(coord_min=(0, -1),\n",
    "                          coord_max=(1, 0),\n",
    "                          shape=(1, 1),\n",
    "                          fets=FETS2D4Q())\n",
    "xd_upper = XDomainFEGrid(coord_min=(0, 0),\n",
    "                          coord_max=(1, 1),\n",
    "                          shape=(1, 1),\n",
    "                          fets=FETS2D4Q())\n",
    "\n",
    "m_1 = MATS2DElastic(E=40000, nu=0.2)\n",
    "m_2 = MATS2DElastic(E=40000, nu=0.2)\n",
    "\n",
    "xd12 = XDomainFEInterface(\n",
    "    I=xd_lower.mesh.I[-1, :],\n",
    "    J=xd_upper.mesh.I[0, :],\n",
    "    fets=FETS1D52ULRH()\n",
    ")\n",
    "\n",
    "material_params = dict(\n",
    "     E_T=100, gamma_T=200, K_T=0, S_T=0.05, c_T=3, bartau=3, \n",
    "     E_N=100, S_N=0.05, c_N = 3, m = 0.15, f_t=5, f_c=80, f_c0 = 40, eta=0.2)\n",
    "\n",
    "\n",
    "bond_m = Slide34(**material_params)\n",
    "\n",
    "m3 = TStepBC(\n",
    "    domains=[\n",
    "        (xd_lower, m_1),\n",
    "        (xd_upper, m_1),\n",
    "        (xd12, bond_m),\n",
    "    ],\n",
    ")\n",
    "\n",
    "load_dim = 0 # \n",
    "fixed_dim = 1 # 0 - x, 1 - y\n",
    "\n",
    "upper_slide_slice = BCSlice(slice=xd_upper.mesh[:, :, :, :],\n",
    "                          var='u', dims=[load_dim], value=0)\n",
    "upper_slide_dofs = upper_slide_slice.dofs\n",
    "tau = -10.5 / len(upper_slide_dofs) # \n",
    "upper_slide = [BCDof(var='f', dof=dof, value = tau, time_function=tf_second) \n",
    "                 for dof in upper_slide_dofs ]\n",
    "\n",
    "upper_compression_slice = BCSlice(slice=xd_upper.mesh[:, :, :, :],\n",
    "         var='u', dims=[fixed_dim], value=0)\n",
    "upper_compression_dofs = upper_compression_slice.dofs\n",
    "F = -60 / len(upper_compression_dofs)\n",
    "upper_compression = [BCDof(var='f', dof=dof, value = F, time_function=tf_first) \n",
    "                 for dof in upper_compression_dofs ]\n",
    "n_compression_dofs = len(upper_slide_dofs)\n",
    "\n",
    "# this sets the horizontal DOFs on the right side of the upper part equal to avoid tilting\n",
    "\n",
    "upper_sym = BCDof( var = 'u',\n",
    "           value = 0,\n",
    "           dof = upper_slide_dofs[0],\n",
    "           link_dofs = [upper_slide_dofs[1]],\n",
    "           link_coeffs = [1] )\n",
    "\n",
    "lower_fixed = BCSlice(slice=xd_lower.mesh[:, :, :, :],\n",
    "         var='u', dims=[0,1], value=0)\n",
    "\n",
    "bc1 = upper_slide + upper_compression + [lower_fixed] + [upper_sym]\n",
    "\n",
    "m3.bc=bc1\n",
    "m3.hist.vis_record = {\n",
    "    'strain': Vis3DTensorField(var='eps_ab'),\n",
    "}\n",
    "s3 = m3.sim\n",
    "s3.tloop.verbose = False # set false to avoid the prints during each increment\n",
    "s3.tloop.k_max = 200\n",
    "s3.tline.step = 0.008\n",
    "s3.reset()\n",
    "s3.run()\n"
   ]
  },
  {
   "cell_type": "code",
   "execution_count": 20,
   "id": "7b2d371d-c90d-4547-a638-3e9c0bc0a519",
   "metadata": {},
   "outputs": [
    {
     "data": {
      "application/vnd.jupyter.widget-view+json": {
       "model_id": "979878d7eed248f4821a959b78bdf551",
       "version_major": 2,
       "version_minor": 0
      },
      "text/plain": [
       "Canvas(toolbar=Toolbar(toolitems=[('Home', 'Reset original view', 'home', 'home'), ('Back', 'Back to previous …"
      ]
     },
     "metadata": {},
     "output_type": "display_data"
    }
   ],
   "source": [
    "import matplotlib.pylab as plt\n",
    "\n",
    "tau_x_pi_2, tau_y_pi_2, sig_pi_2, Z_2, X_x_2, X_y_2, Y_T_2, Y_N_2 = se2.Sig_arr.T\n",
    "s_x_pi_2, s_y_pi_2, w_pi_2, z_2, alpha_x_2, alpha_y_2, omega_T_2, omega_N_2 = se2.Eps_arr.T\n",
    "\n",
    "w_2 = se2.w_t\n",
    "s_x_2 = se2.s_x_t.T\n",
    "\n",
    "fig, ((ax1,  ax2, ax3,  ax4)) =  plt.subplots(1,4, figsize=(14, 4))\n",
    "fig.canvas.header_visible=False\n",
    "\n",
    "for i, mx in enumerate([m2, m3]):\n",
    "    F_to_2 = mx.hist.F_t\n",
    "    U_to_2 = mx.hist.U_t\n",
    "    F_l_t_2 = np.sum(F_to_2[:, upper_control_dofs], axis=-1)\n",
    "    s_FE_t = np.average(U_to_2[:, upper_control_dofs], axis=-1)\n",
    "    w_FE_t = np.average(U_to_2[:, upper_compression_dofs], axis=-1)\n",
    "\n",
    "    states_t_2 = [states_t[2] for states_t in mx.hist.state_vars]\n",
    "    var_names_2 = states_t_2[0].keys()\n",
    "    EpsSig_t_2 = {\n",
    "        var_name: np.array([ state_dict[var_name] for state_dict in states_t_2 ]) \n",
    "        for var_name in var_names_2\n",
    "    }\n",
    "\n",
    "    time = mx.hist.t\n",
    "\n",
    "    ax1.plot(-s_FE_t, EpsSig_t_2['tau_pi_x'][:,0,0], label='FE %d' % (i+1), lw=3)\n",
    "    ax2.plot(w_FE_t, EpsSig_t_2['sig_pi'][:,0,0], lw=3)\n",
    "    ax3.plot(s_FE_t, EpsSig_t_2['omega_T'][:,0,0])\n",
    "    ax4.plot(w_FE_t, EpsSig_t_2['omega_N'][:,0,0])\n",
    "\n",
    "ax1.plot(s_x_2, tau_x_pi_2, label='Material Point')\n",
    "ax1.set_xlabel('s_x')\n",
    "ax1.set_ylabel('$\\sigma_T$')\n",
    "ax1.legend()\n",
    "\n",
    "ax2.plot(w_2, sig_pi_2)\n",
    "ax2.set_xlabel('w')\n",
    "ax2.set_ylabel('$\\sigma_N$')\n",
    "\n",
    "ax3.plot(-s_x_2, omega_T_2)\n",
    "ax3.set_xlabel('s_x')\n",
    "ax3.set_ylabel('$\\omega_T$')\n",
    "\n",
    "ax4.plot(-s_x_2, omega_N_2)\n",
    "ax4.set_xlabel('s_x')\n",
    "ax4.set_ylabel('$\\omega_N$')\n",
    "\n",
    "fig.tight_layout()\n",
    "\n",
    "#fname= 'ElsevierFont.pdf'\n",
    "#plt.savefig(fname, bbox_inches='tight', pad_inches=0.01/2.54, dpi=300)\n",
    "##get the link to the PDF\n",
    "#from IPython.display import FileLink\n",
    "#FileLink(fname)\n",
    "#p#lt.plot()"
   ]
  },
  {
   "cell_type": "code",
   "execution_count": 19,
   "id": "6bb365b4-4e36-49fe-a1d7-d3c39e0aece6",
   "metadata": {},
   "outputs": [],
   "source": [
    "if False:\n",
    "    mlab.options.backend = 'envisage'\n",
    "    mlab.options.offscreen = False # 'envisage'\n",
    "    f_strain = mlab.figure()\n",
    "    scene = mlab.get_engine().scenes[-1]\n",
    "    scene.name = 'strain'\n",
    "    strain_viz = Viz3DTensorField(vis3d=mx.hist['strain'])\n",
    "    strain_viz.setup()\n",
    "    strain_viz.warp_vector.filter.scale_factor = 0.1\n",
    "    strain_viz.plot(s.tstep.t_n)\n",
    "    mlab.show()"
   ]
  },
  {
   "cell_type": "code",
   "execution_count": null,
   "id": "45627934-b566-4b59-b725-7c8f25bd96f1",
   "metadata": {},
   "outputs": [],
   "source": []
  }
 ],
 "metadata": {
  "kernelspec": {
   "display_name": "bmcs_env",
   "language": "python",
   "name": "bmcs_env"
  },
  "language_info": {
   "codemirror_mode": {
    "name": "ipython",
    "version": 3
   },
   "file_extension": ".py",
   "mimetype": "text/x-python",
   "name": "python",
   "nbconvert_exporter": "python",
   "pygments_lexer": "ipython3",
   "version": "3.8.8"
  }
 },
 "nbformat": 4,
 "nbformat_minor": 5
}
