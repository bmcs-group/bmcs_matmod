{
 "cells": [
  {
   "cell_type": "markdown",
   "id": "missing-volunteer",
   "metadata": {},
   "source": [
    "# Study_01: Decohesion-sliding interactive behavior\n"
   ]
  },
  {
   "cell_type": "code",
   "execution_count": 1,
   "id": "equivalent-waters",
   "metadata": {},
   "outputs": [],
   "source": [
    "%matplotlib widget"
   ]
  },
  {
   "cell_type": "code",
   "execution_count": 2,
   "id": "touched-survey",
   "metadata": {},
   "outputs": [],
   "source": [
    "import bmcs_utils"
   ]
  },
  {
   "cell_type": "code",
   "execution_count": 3,
   "id": "running-springfield",
   "metadata": {},
   "outputs": [],
   "source": [
    "from bmcs_matmod.slide.slide_explorer import SlideExplorer\n",
    "import bmcs_utils.api as bu"
   ]
  },
  {
   "cell_type": "code",
   "execution_count": 4,
   "id": "thick-fishing",
   "metadata": {},
   "outputs": [],
   "source": [
    "%%capture\n",
    "import numpy as np\n",
    "material_params = dict(\n",
    "    E_T=80, gamma_T=0, K_T=0, S_T=0.1, c_T=1, bartau=5, \n",
    "    E_N=100, S_N=0.05, c_N = 1, m = 0.2, f_t=5, f_c=20, f_c0=10, eta=0.0)\n",
    "\n",
    "se_list = []\n",
    "\n",
    "\n",
    "eps = 0.5\n",
    "\n",
    "se1 = SlideExplorer(n_steps=200, k_max=50)\n",
    "se1.slide_model.trait_set(**material_params)\n",
    "se1.trait_set(s_x_1 = 1 * eps , s_y_1 = 0, w_1 = 0 * eps);\n",
    "se1.run()\n",
    "se_list.append(se1)\n",
    "\n",
    "\n",
    "se2 = SlideExplorer(n_steps=200, k_max=50)\n",
    "se2.slide_model.trait_set(**material_params)\n",
    "se2.trait_set(s_x_1 = 1 * eps , s_y_1 = 0, w_1 = 1 * eps);\n",
    "se2.run()\n",
    "se_list.append(se2)\n",
    "\n",
    "\n",
    "se3 = SlideExplorer(n_steps=200, k_max=50)\n",
    "se3.slide_model.trait_set(**material_params)\n",
    "se3.trait_set(s_x_1 = 0 * eps , s_y_1 = 0, w_1 = 1 * eps);\n",
    "se3.run()\n",
    "se_list.append(se3)\n",
    "    \n",
    "      \n",
    "se4 = SlideExplorer(n_steps=200, k_max=50)\n",
    "se4.slide_model.trait_set(**material_params)\n",
    "se4.trait_set(s_x_1 = 1 * eps , s_y_1 = 0, w_1 = -1 * eps);\n",
    "se4.run()\n",
    "se_list.append(se4)\n",
    "\n",
    "\n",
    "se5 = SlideExplorer(n_steps=200, k_max=50)\n",
    "se5.slide_model.trait_set(**material_params)\n",
    "se5.trait_set(s_x_1 = 0 * eps , s_y_1 = 0, w_1 = -1 * eps);\n",
    "se5.run()\n",
    "se_list.append(se5)\n"
   ]
  },
  {
   "cell_type": "code",
   "execution_count": 5,
   "id": "every-contents",
   "metadata": {},
   "outputs": [
    {
     "data": {
      "application/vnd.jupyter.widget-view+json": {
       "model_id": "222184f35fa84d608076a5f61190fae4",
       "version_major": 2,
       "version_minor": 0
      },
      "text/plain": [
       "Canvas(toolbar=Toolbar(toolitems=[('Home', 'Reset original view', 'home', 'home'), ('Back', 'Back to previous …"
      ]
     },
     "metadata": {},
     "output_type": "display_data"
    }
   ],
   "source": [
    "import matplotlib.pylab as plt\n",
    "fig, ((ax_1, ax_2, ax_3), (ax_4, ax_5, ax_6),(ax_7, ax_8, ax_9) ) = plt.subplots(3,3, tight_layout=True, figsize=(9,8))\n",
    "fig.canvas.header_visible=False\n",
    "\n",
    "\n",
    "for se in se_list:\n",
    "    s_x_pi_, s_y_pi_, w_pi_, z_, alpha_x_, alpha_y_, omega_T_, omega_N_ = se.Eps_arr.T\n",
    "    tau_x_pi_, tau_y_pi_, sig_pi_, Z_, X_x_, X_y_, Y_T_, Y_N_ = se.Sig_arr.T\n",
    "    \n",
    "    \n",
    "    w_1 = se.w_t\n",
    "    s_x_1 = se.s_x_t.T\n",
    "    number_iter = se.iter_t\n",
    "    t = np.linspace(0, 1, len(tau_x_pi_))\n",
    "    \n",
    "    ax_1.plot( s_x_1, w_1 )\n",
    "    ax_1.set_xlabel('$s_x$')\n",
    "    ax_1.set_ylabel('$w$')\n",
    "\n",
    "    \n",
    "    ax_2.plot(w_1, sig_pi_)\n",
    "    ax_2.set_xlabel('$w$')\n",
    "    ax_2.set_ylabel('$\\sigma_N$')\n",
    "    \n",
    "    ax_3.plot(s_x_1 , tau_x_pi_)\n",
    "    ax_3.set_xlabel('$s_x$')\n",
    "    ax_3.set_ylabel('$\\sigma_T$')\n",
    "    \n",
    "    \n",
    "    ax_4.plot( t, number_iter )\n",
    "    ax_4.set_xlabel('$time$')\n",
    "    ax_4.set_ylabel('$number~of~iterations$')\n",
    "    \n",
    "    ax_5.plot(w_1, omega_N_)\n",
    "    ax_5.set_xlabel('$w$')\n",
    "    ax_5.set_ylabel('$\\omega_N$')\n",
    "    ax_5.set_ylim(0,1)\n",
    "\n",
    "    ax_6.plot(s_x_1, omega_T_)\n",
    "    ax_6.set_xlabel('$s_x$')\n",
    "    ax_6.set_ylabel('$\\omega_T$')\n",
    "    ax_6.set_ylim(0,1)\n",
    "    \n",
    "    \n",
    "    ax_8.plot(w_1, w_pi_)\n",
    "    ax_8.set_xlabel('$w$')\n",
    "    ax_8.set_ylabel('$w^P$')\n",
    "    \n",
    "    \n",
    "    ax_9.plot(s_x_1, s_x_pi_)\n",
    "    ax_9.set_xlabel('$s_x$')\n",
    "    ax_9.set_ylabel('$s_x^{P}$')\n",
    "    \n",
    "#fig.savefig('Study_01_decohesion_sliding_interaction.pdf')   "
   ]
  },
  {
   "cell_type": "code",
   "execution_count": null,
   "id": "matched-bradley",
   "metadata": {},
   "outputs": [],
   "source": []
  },
  {
   "cell_type": "code",
   "execution_count": null,
   "id": "stock-bandwidth",
   "metadata": {},
   "outputs": [],
   "source": []
  },
  {
   "cell_type": "code",
   "execution_count": null,
   "id": "sized-accounting",
   "metadata": {},
   "outputs": [],
   "source": []
  }
 ],
 "metadata": {
  "kernelspec": {
   "display_name": "bmcs_env",
   "language": "python",
   "name": "bmcs_env"
  },
  "language_info": {
   "codemirror_mode": {
    "name": "ipython",
    "version": 3
   },
   "file_extension": ".py",
   "mimetype": "text/x-python",
   "name": "python",
   "nbconvert_exporter": "python",
   "pygments_lexer": "ipython3",
   "version": "3.9.4"
  }
 },
 "nbformat": 4,
 "nbformat_minor": 5
}
