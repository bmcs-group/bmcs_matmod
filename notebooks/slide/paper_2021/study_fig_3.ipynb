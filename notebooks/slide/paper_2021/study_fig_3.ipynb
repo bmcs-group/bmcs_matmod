{
 "cells": [
  {
   "cell_type": "markdown",
   "id": "8149893d",
   "metadata": {},
   "source": [
    "# Plot the yield surface in 3D"
   ]
  },
  {
   "cell_type": "code",
   "execution_count": 1,
   "id": "194ff23b",
   "metadata": {},
   "outputs": [],
   "source": [
    "%matplotlib widget\n",
    "from bmcs_matmod.slide.vslide_34 import Slide34\n",
    "from bmcs_matmod.slide.slide_explorer import SlideExplorer\n",
    "import bmcs_matmod.slide.vslide_34 as slide_34\n",
    "import numpy as np\n",
    "from mayavi import mlab\n",
    "from bmcs_matmod.slide.f_double_cap import FDoubleCap\n",
    "import matplotlib.pylab as plt"
   ]
  },
  {
   "cell_type": "code",
   "execution_count": 12,
   "id": "738c3de1",
   "metadata": {},
   "outputs": [],
   "source": [
    "material_params = dict(\n",
    "    E_T=1, gamma_T=0, K_T=0, S_T=10000, c_T=1, tau_bar=1,\n",
    "    E_N=1, S_N=10000, c_N = 1, m = 0.2, f_t=1, f_c=5, f_c0=4, eta=0\n",
    ")\n",
    "fdc = FDoubleCap(**material_params)"
   ]
  },
  {
   "cell_type": "code",
   "execution_count": 13,
   "id": "1f58c0a6",
   "metadata": {},
   "outputs": [],
   "source": [
    "min_sig, max_sig = -6,2\n",
    "min_tau, max_tau = -4,4\n",
    "X1_a, Y1_a, Z1_a = np.mgrid[min_sig:max_sig:210j, 0:max_tau:210j, min_tau:max_tau:210j]\n",
    "YZ1_a = np.sqrt(Y1_a**2 + Z1_a**2)\n",
    "f1_a = fdc.symb.get_f_solved(X1_a, YZ1_a)"
   ]
  },
  {
   "cell_type": "code",
   "execution_count": 14,
   "id": "d829252a",
   "metadata": {},
   "outputs": [],
   "source": [
    "X2_a, Y2_a, Z2_a = np.mgrid[min_sig:max_sig:210j, min_tau:max_tau:210j, min_tau:max_tau:210j]\n",
    "YZ2_a = np.sqrt(Y2_a**2 + Z2_a**2)\n",
    "f2_a = fdc.symb.get_f_solved(X2_a, YZ2_a)"
   ]
  },
  {
   "cell_type": "code",
   "execution_count": 15,
   "id": "12f6102a",
   "metadata": {},
   "outputs": [],
   "source": [
    "mlab.options.backend = 'envisage'\n",
    "mlab.figure(bgcolor=(1,1,1),fgcolor=(0,0,0))\n",
    "mlab.contour3d(X1_a, Y1_a, Z1_a, f1_a, contours=[0], opacity=1)\n",
    "mlab.contour3d(X2_a, Y2_a, Z2_a, f2_a, contours=[0], opacity=0.3)\n",
    "xx = np.linspace(-6,2,2)\n",
    "yy = np.linspace(-2,2,2)\n",
    "zz = np.linspace(-2,2,2)\n",
    "xy = xz = yx = yz = zx = zy = np.zeros_like(xx)\n",
    "mlab.plot3d(yx,yy,yz,line_width=0.01,tube_radius=0.01)\n",
    "mlab.plot3d(zx,zy,zz,line_width=0.01,tube_radius=0.01)\n",
    "mlab.plot3d(xx,xy,xz,line_width=0.01,tube_radius=0.01)\n",
    "mlab.show()"
   ]
  },
  {
   "cell_type": "code",
   "execution_count": null,
   "id": "f29de718-4f40-49ef-b465-87704f6e0603",
   "metadata": {},
   "outputs": [],
   "source": []
  }
 ],
 "metadata": {
  "kernelspec": {
   "display_name": "bmcs_env",
   "language": "python",
   "name": "bmcs_env"
  },
  "language_info": {
   "codemirror_mode": {
    "name": "ipython",
    "version": 3
   },
   "file_extension": ".py",
   "mimetype": "text/x-python",
   "name": "python",
   "nbconvert_exporter": "python",
   "pygments_lexer": "ipython3",
   "version": "3.8.8"
  },
  "toc": {
   "base_numbering": 1,
   "nav_menu": {},
   "number_sections": true,
   "sideBar": true,
   "skip_h1_title": false,
   "title_cell": "Table of Contents",
   "title_sidebar": "Contents",
   "toc_cell": false,
   "toc_position": {},
   "toc_section_display": true,
   "toc_window_display": false
  }
 },
 "nbformat": 4,
 "nbformat_minor": 5
}
