{
 "cells": [
  {
   "cell_type": "markdown",
   "metadata": {},
   "source": [
    "# Demo notebook for slide 3.3"
   ]
  },
  {
   "cell_type": "code",
   "execution_count": null,
   "metadata": {},
   "outputs": [],
   "source": [
    "%matplotlib widget\n",
    "from bmcs_matmod.slide.slide_explorer import SlideExplorer\n",
    "import bmcs_utils.api as bu"
   ]
  },
  {
   "cell_type": "markdown",
   "metadata": {},
   "source": [
    "# Interactive case"
   ]
  },
  {
   "cell_type": "markdown",
   "metadata": {},
   "source": [
    "Study the model behavior for interactively before approaching\n",
    "a prefabricated parametric studies. "
   ]
  },
  {
   "cell_type": "code",
   "execution_count": null,
   "metadata": {
    "hide_input": true
   },
   "outputs": [],
   "source": [
    "material_params = dict(\n",
    "    E_T=30000, gamma_T=0, K_T=0, S_T=20, c_T=.3, bartau=3, \n",
    "    E_N=30000, S_N=20, c_N =.3, m = 0.1, f_t=3, f_c=20, f_c0=10, eta=0, r=1\n",
    ")"
   ]
  },
  {
   "cell_type": "code",
   "execution_count": null,
   "metadata": {
    "hide_input": true
   },
   "outputs": [],
   "source": [
    "%%capture\n",
    "se = SlideExplorer(n_steps=400, k_max=50)\n",
    "se.slide_model.trait_set(**material_params)\n",
    "# se.trait_set(s_x_1 = 4, s_y_1 = 0, w_1 = 0);\n",
    "# se.run()\n",
    "#se.trait_set(s_x_1 = 10, s_y_1 = 0, w_1 = 1e-8);\n",
    "se.trait_set(s_x_1 = 0.001, s_y_1 = 0, w_1 = 0)\n",
    "#se.run()"
   ]
  },
  {
   "cell_type": "code",
   "execution_count": null,
   "metadata": {},
   "outputs": [],
   "source": [
    "se.energy_dissipation.show_iter = False\n",
    "se.inel_state_evolution.t_max=1.0\n",
    "bu.AppWindow(se, figsize=(7,5), tight_layout=True).interact()"
   ]
  },
  {
   "cell_type": "markdown",
   "metadata": {
    "pycharm": {
     "name": "#%% md\n"
    }
   },
   "source": [
    "# Damage evolution for equal parameters N T"
   ]
  },
  {
   "cell_type": "code",
   "execution_count": null,
   "metadata": {},
   "outputs": [],
   "source": [
    "%%capture\n",
    "import numpy as np\n",
    "material_params = dict(\n",
    "    E_T=1, gamma_T=0, K_T=0, S_T=5, c_T=1, bartau=3, \n",
    "    E_N=1, S_N=5, c_N=1, m = 0.01, f_t=3, f_c=20, f_c0=10, eta=1, r=1\n",
    ")\n",
    "eta_range = np.linspace(0,1,3)\n",
    "se_T_list, se_N_list = [], []\n",
    "for eta in eta_range:\n",
    "    material_params['eta'] = eta\n",
    "    se1 = SlideExplorer(n_steps=40, k_max=50)\n",
    "    se1.slide_model.trait_set(**material_params)\n",
    "    se1.trait_set(s_x_1 = 20, s_y_1 = 0, w_1 = 0.001);\n",
    "    se1.run()\n",
    "    se_T_list.append(se1)\n",
    "    se2 = SlideExplorer(n_steps=40, k_max=50)\n",
    "    se2.slide_model.trait_set(**material_params)\n",
    "    se2.trait_set(s_x_1 = 0, s_y_1 = 0, w_1 = 20);\n",
    "    se2.run()\n",
    "    se_N_list.append(se2)"
   ]
  },
  {
   "cell_type": "code",
   "execution_count": null,
   "metadata": {},
   "outputs": [],
   "source": [
    "import matplotlib.pylab as plt\n",
    "_, (ax_T, ax_N) = plt.subplots(1,2,figsize=(8,4))\n",
    "ax_T.plot([0,1],[0,1],'--',color='black')\n",
    "ax_N.plot([0,1],[0,1],'--',color='black')\n",
    "for se_T, se_N in zip(se_T_list, se_N_list):\n",
    "    s_x_pi_, s_y_pi_, w_pi_, z_, alpha_x_, alpha_y_, omega_T_, omega_N_ = se_N.Eps_arr.T\n",
    "    #ax_T.plot(omega_T_,omega_N_)\n",
    "    se_T.inel_state_evolution.plot_omega_NT(ax_T)\n",
    "    se_N.inel_state_evolution.plot_omega_NT(ax_N)"
   ]
  },
  {
   "cell_type": "code",
   "execution_count": null,
   "metadata": {},
   "outputs": [],
   "source": [
    "se_N_list[0].inel_state_evolution.interact()"
   ]
  },
  {
   "cell_type": "markdown",
   "metadata": {},
   "source": [
    "# Damage evolution for non-equal N-T parameters"
   ]
  },
  {
   "cell_type": "code",
   "execution_count": null,
   "metadata": {},
   "outputs": [],
   "source": [
    "%%capture\n",
    "import numpy as np\n",
    "material_params = dict(\n",
    "    E_s=1, gamma_s=0, K_s=0, S_s=10, c_s=2, bartau=3, \n",
    "    E_w=1, S_w=1, c_w=1, m = 0.05, f_t=3, f_c=20, f_c0=10, eta=1\n",
    ")\n",
    "eta_range = np.linspace(0,1,3)\n",
    "se_T_list, se_N_list = [], []\n",
    "for eta in eta_range:\n",
    "    material_params['eta'] = eta\n",
    "    se1 = SlideExplorer(n_steps=100, k_max=50)\n",
    "    se1.slide_model.trait_set(**material_params)\n",
    "    se1.trait_set(s_x_1 = 20, s_y_1 = 0, w_1 = 0);\n",
    "    se1.run()\n",
    "    se_T_list.append(se1)\n",
    "    se2 = SlideExplorer(n_steps=200, k_max=50)\n",
    "    se2.slide_model.trait_set(**material_params)\n",
    "    se2.trait_set(s_x_1 = 0, s_y_1 = 0, w_1 = 20);\n",
    "    se2.run()\n",
    "    se_N_list.append(se2)"
   ]
  },
  {
   "cell_type": "code",
   "execution_count": null,
   "metadata": {},
   "outputs": [],
   "source": [
    "import matplotlib.pylab as plt\n",
    "_, (ax_T, ax_N) = plt.subplots(1,2,figsize=(8,4))\n",
    "ax_T.plot([0,1],[0,1],'--',color='black')\n",
    "ax_N.plot([0,1],[0,1],'--',color='black')\n",
    "for se_T, se_N in zip(se_T_list, se_N_list):\n",
    "    s_x_pi_, s_y_pi_, w_pi_, z_, alpha_x_, alpha_y_, omega_T_, omega_N_ = se_N.Eps_arr.T\n",
    "    #ax_T.plot(omega_T_,omega_N_)\n",
    "    se_T.inel_state_evolution.plot_omega_NT(ax_T)\n",
    "    se_N.inel_state_evolution.plot_omega_NT(ax_N)"
   ]
  },
  {
   "cell_type": "code",
   "execution_count": null,
   "metadata": {},
   "outputs": [],
   "source": [
    "se_N_list[1].inel_state_evolution.interact()"
   ]
  },
  {
   "cell_type": "markdown",
   "metadata": {},
   "source": [
    "# Reproduce the diagrams from the paper"
   ]
  },
  {
   "cell_type": "code",
   "execution_count": null,
   "metadata": {},
   "outputs": [],
   "source": [
    "%%capture\n",
    "from bmcs_matmod.slide.slide_explorer import SlideExplorer\n",
    "from bmcs_matmod.slide.slide_32 import Slide23Expr\n",
    "import numpy as np\n",
    "material_params = dict(\n",
    "    E_s=100, gamma_s=50, K_s=50, S_s=0.2, c_s=1, bartau=5, \n",
    "    E_w=100, S_w=0.05, c_w=2, m = 0.05, f_t=5, f_c=20, f_c0=10, eta=1\n",
    ")\n",
    "eta_range = np.linspace(0,1,3)\n",
    "se_T_list, se_N_list = [], []\n",
    "for omega_interact in ['arithmetic','geometric']:\n",
    "    for eta in eta_range:\n",
    "        material_params['eta'] = eta\n",
    "        se1 = SlideExplorer(n_steps=50, k_max=50)\n",
    "        se1.slide_model.trait_set(**material_params)\n",
    "        Slide23Expr.damage_interaction = omega_interact\n",
    "        se1.slide_model.damage_interaction = omega_interact\n",
    "        se1.trait_set(s_x_1 = 1, s_y_1 = 0, w_1 = 0);\n",
    "        se1.run()\n",
    "        se_T_list.append(se1)\n",
    "        se2 = SlideExplorer(n_steps=200, k_max=50)\n",
    "        se2.slide_model.trait_set(**material_params)\n",
    "        se2.slide_model.damage_interaction = omega_interact\n",
    "        se2.trait_set(s_x_1 = 0, s_y_1 = 0, w_1 = 1);\n",
    "        se2.run()\n",
    "        se_N_list.append(se2)"
   ]
  },
  {
   "cell_type": "code",
   "execution_count": null,
   "metadata": {},
   "outputs": [],
   "source": [
    "import matplotlib.pylab as plt\n",
    "_, (ax_T, ax_N) = plt.subplots(1,2,figsize=(8,4))\n",
    "ax_T.plot([0,1],[0,1],'--',color='black')\n",
    "ax_N.plot([0,1],[0,1],'--',color='black')\n",
    "for se_T, se_N in zip(se_T_list, se_N_list):\n",
    "    s_x_pi_, s_y_pi_, w_pi_, z_, alpha_x_, alpha_y_, omega_T_, omega_N_ = se_N.Eps_arr.T\n",
    "#    ax_T.plot(omega_T_,omega_N_)\n",
    "    se_T.inel_state_evolution.plot_omega_NT(ax_T)\n",
    "    se_N.inel_state_evolution.plot_omega_NT(ax_N)"
   ]
  },
  {
   "cell_type": "code",
   "execution_count": null,
   "metadata": {},
   "outputs": [],
   "source": [
    "se_T_list[0].inel_state_evolution.interact()"
   ]
  },
  {
   "cell_type": "code",
   "execution_count": null,
   "metadata": {},
   "outputs": [],
   "source": []
  },
  {
   "cell_type": "code",
   "execution_count": null,
   "metadata": {},
   "outputs": [],
   "source": []
  }
 ],
 "metadata": {
  "kernelspec": {
   "display_name": "bmcs_env",
   "language": "python",
   "name": "bmcs_env"
  },
  "language_info": {
   "codemirror_mode": {
    "name": "ipython",
    "version": 3
   },
   "file_extension": ".py",
   "mimetype": "text/x-python",
   "name": "python",
   "nbconvert_exporter": "python",
   "pygments_lexer": "ipython3"
  },
  "toc": {
   "base_numbering": 1,
   "nav_menu": {},
   "number_sections": true,
   "sideBar": true,
   "skip_h1_title": false,
   "title_cell": "Table of Contents",
   "title_sidebar": "Contents",
   "toc_cell": false,
   "toc_position": {},
   "toc_section_display": true,
   "toc_window_display": false
  }
 },
 "nbformat": 4,
 "nbformat_minor": 1
}
