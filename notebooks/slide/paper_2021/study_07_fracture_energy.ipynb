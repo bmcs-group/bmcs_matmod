{
 "cells": [
  {
   "cell_type": "markdown",
   "id": "80f8f723-6890-4951-bfff-13e91ff6fb10",
   "metadata": {},
   "source": [
    "# **Fracture energy for mode 1 and mode 2**"
   ]
  },
  {
   "cell_type": "code",
   "execution_count": null,
   "id": "934eeeed-4860-4d35-a369-30e59a4802c6",
   "metadata": {},
   "outputs": [],
   "source": [
    "%matplotlib widget\n",
    "import bmcs_utils\n",
    "from ibvpy.tfunction import TimeFunction, TFSelector, TFCyclicSin\n",
    "from bmcs_matmod.slide.slide_explorer import SlideExplorer\n",
    "import bmcs_utils.api as bu"
   ]
  },
  {
   "cell_type": "markdown",
   "id": "3181c463-b470-499a-bef7-28f3a446be81",
   "metadata": {},
   "source": [
    "## 1 Pull off loading"
   ]
  },
  {
   "cell_type": "code",
   "execution_count": null,
   "id": "38ff463b-b21a-48cb-9ada-745c70fd74f3",
   "metadata": {},
   "outputs": [],
   "source": [
    "material_params = dict(\n",
    "    E_T=1, gamma_T=0, K_T=0, S_T=5, c_T=1, bartau=3, \n",
    "    E_N=1, S_N=1, c_N = 1, m = 0.01, f_t=3, f_c=20, f_c0=10, eta=0.0 # 0.5\n",
    ")"
   ]
  },
  {
   "cell_type": "code",
   "execution_count": null,
   "id": "41cc1a23-1015-4a39-9078-870f4f73910f",
   "metadata": {},
   "outputs": [],
   "source": [
    "se_N = SlideExplorer(n_steps=2000, k_max=50)\n",
    "se_N.slide_model.trait_set(**material_params)\n",
    "se_N.trait_set(s_x_1 = 0, s_y_1 = 0, w_1 = 50);\n",
    "se_N.run()\n",
    "se_N.energy_dissipation.show_iter = False\n",
    "se_N.interact()"
   ]
  },
  {
   "cell_type": "code",
   "execution_count": null,
   "id": "4ca09ef0-1efe-4078-b483-e69a1665bcbf",
   "metadata": {},
   "outputs": [],
   "source": [
    "diss_N = se_N.energy_dissipation.mechanisms.damage_diss[-1], se_N.energy_dissipation.mechanisms.plastic_diss[-1]\n",
    "diss_N"
   ]
  },
  {
   "cell_type": "markdown",
   "id": "2c51f7fc-0c6b-4889-95e0-d471059bf99e",
   "metadata": {},
   "source": [
    "# Sliding loading"
   ]
  },
  {
   "cell_type": "code",
   "execution_count": null,
   "id": "286bf891-e8d1-4113-b376-9f466f4bfe72",
   "metadata": {},
   "outputs": [],
   "source": [
    "se_T = SlideExplorer(n_steps=2000, k_max=50)\n",
    "se_T.slide_model.trait_set(**material_params)\n",
    "se_T.trait_set(s_x_1 = 50, s_y_1 = 0, w_1 = 0);\n",
    "se_T.run()\n",
    "se_T.energy_dissipation.show_iter = False\n",
    "se_T.interact()"
   ]
  },
  {
   "cell_type": "code",
   "execution_count": null,
   "id": "7d2013b1-ff1c-4bb3-9157-6ebe8f0aed5d",
   "metadata": {},
   "outputs": [],
   "source": [
    "diss_T = se_T.energy_dissipation.mechanisms.damage_diss[-1], se_T.energy_dissipation.mechanisms.plastic_diss[-1]\n",
    "diss_T"
   ]
  },
  {
   "cell_type": "markdown",
   "id": "a061dd3a-57d2-48d2-a20b-f71b1ff5f4ed",
   "metadata": {},
   "source": [
    "# Pull off - Parametric study of energy dissipation"
   ]
  },
  {
   "cell_type": "markdown",
   "id": "68d0bb77-1826-4dfd-bb7d-0cddbe8de88f",
   "metadata": {},
   "source": [
    "Evaluate energy required to produce a stress-free interface in the normal direction"
   ]
  },
  {
   "cell_type": "code",
   "execution_count": null,
   "id": "5d310e2f-9554-49e8-a56b-e7f94064f618",
   "metadata": {},
   "outputs": [],
   "source": [
    "import numpy as np\n",
    "se_N = SlideExplorer(n_steps=2000, k_max=50)\n",
    "se_N.slide_model.trait_set(**material_params)\n",
    "se_N.energy_dissipation.show_iter = False\n",
    "S_N_range = np.linspace(-0.001, 1, 5)\n",
    "c_N_range = np.linspace(-0.001, 1, 5)\n",
    "S_N_grid, c_N_grid = np.meshgrid(S_N_range, c_N_range)\n",
    "damage_diss_grid = np.zeros_like(S_N_grid)\n",
    "plastic_diss_grid = np.zeros_like(S_N_grid)\n",
    "resid_stress_grid = np.zeros_like(S_N_grid)\n",
    "for i, S_N in enumerate(S_N_range):\n",
    "    for j, c_N in enumerate(c_N_range):\n",
    "        print('evaluating', S_N, c_N)\n",
    "        se_N.slide_model.S_N = S_N\n",
    "        se_N.slide_model.c_N = c_N\n",
    "        se_N.reset()\n",
    "        se_N.trait_set(s_x_1 = 0, s_y_1 = 0, w_1 = 50);\n",
    "        se_N.run()\n",
    "        damage_diss_grid[i,j] = se_N.energy_dissipation.mechanisms.damage_diss[-1]\n",
    "        plastic_diss_grid[i,j] = se_N.energy_dissipation.mechanisms.plastic_diss[-1]\n",
    "        resid_stress_grid[i,j] = se_N.Sig_arr[-1,0] / np.max(se_N.Sig_arr[:,0])"
   ]
  },
  {
   "cell_type": "code",
   "execution_count": null,
   "id": "a5bd6a15-b543-44a7-adf0-a98860eb1f47",
   "metadata": {},
   "outputs": [],
   "source": [
    "import matplotlib.pylab as plt\n",
    "fig = plt.figure()\n",
    "ax = plt.axes(projection='3d')\n",
    "ax.plot_surface(S_N_grid, c_N_grid, damage_diss_grid, color='gray', label='damage', alpha=0.4)\n",
    "ax.scatter(S_N_grid, c_N_grid, damage_diss_grid, marker='H')\n",
    "ax.plot_surface(S_N_grid, c_N_grid, plastic_diss_grid, color='red', label='plastic', alpha=0.5)\n",
    "ax.scatter(S_N_grid, c_N_grid, plastic_diss_grid, marker='H')\n",
    "ax.set_xlabel('S_N'); ax.set_ylabel('c_N');"
   ]
  },
  {
   "cell_type": "code",
   "execution_count": null,
   "id": "e3b536de-3614-4bcf-996b-be4f3f2b8f66",
   "metadata": {},
   "outputs": [],
   "source": [
    "resid_stress_grid"
   ]
  },
  {
   "cell_type": "code",
   "execution_count": null,
   "id": "01f1afc2-d09c-427b-8b80-be66389399d5",
   "metadata": {},
   "outputs": [],
   "source": [
    "se_N.interact()"
   ]
  },
  {
   "cell_type": "code",
   "execution_count": null,
   "id": "78ca467c-f9ab-4548-8a23-d69ed5296fe7",
   "metadata": {},
   "outputs": [],
   "source": [
    "se_N.interact()"
   ]
  },
  {
   "cell_type": "code",
   "execution_count": null,
   "id": "a09fa082-ce8c-4672-b16a-7ff22e7f2541",
   "metadata": {},
   "outputs": [],
   "source": []
  }
 ],
 "metadata": {
  "kernelspec": {
   "display_name": "bmcs_env",
   "language": "python",
   "name": "bmcs_env"
  },
  "language_info": {
   "codemirror_mode": {
    "name": "ipython",
    "version": 3
   },
   "file_extension": ".py",
   "mimetype": "text/x-python",
   "name": "python",
   "nbconvert_exporter": "python",
   "pygments_lexer": "ipython3"
  }
 },
 "nbformat": 4,
 "nbformat_minor": 5
}
