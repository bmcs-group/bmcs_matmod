{
 "cells": [
  {
   "cell_type": "markdown",
   "id": "80f8f723-6890-4951-bfff-13e91ff6fb10",
   "metadata": {},
   "source": [
    "# **Fracture energy for mode 1 and mode 2**"
   ]
  },
  {
   "cell_type": "code",
   "execution_count": 1,
   "id": "934eeeed-4860-4d35-a369-30e59a4802c6",
   "metadata": {},
   "outputs": [],
   "source": [
    "%matplotlib widget\n",
    "import bmcs_utils\n",
    "from ibvpy.tfunction import TimeFunction, TFSelector, TFCyclicSin\n",
    "from bmcs_matmod.slide.slide_explorer import SlideExplorer\n",
    "import bmcs_utils.api as bu"
   ]
  },
  {
   "cell_type": "markdown",
   "id": "3181c463-b470-499a-bef7-28f3a446be81",
   "metadata": {},
   "source": [
    "## 1 Pull off loading"
   ]
  },
  {
   "cell_type": "code",
   "execution_count": 2,
   "id": "38ff463b-b21a-48cb-9ada-745c70fd74f3",
   "metadata": {},
   "outputs": [],
   "source": [
    "material_params = dict(\n",
    "    E_T=1, gamma_T=0, K_T=0, S_T=5, c_T=1, bartau=3, \n",
    "    E_N=1, S_N=1, c_N = 1, m = 0.01, f_t=3, f_c=20, f_c0=10, eta=0.0 # 0.5\n",
    ")"
   ]
  },
  {
   "cell_type": "code",
   "execution_count": 3,
   "id": "41cc1a23-1015-4a39-9078-870f4f73910f",
   "metadata": {},
   "outputs": [
    {
     "data": {
      "application/vnd.jupyter.widget-view+json": {
       "model_id": "e6efff4959554b2da20bb30dfa2b6748",
       "version_major": 2,
       "version_minor": 0
      },
      "text/plain": [
       "VBox(children=(HBox(children=(VBox(children=(Tree(layout=Layout(align_items='stretch', border='solid 1px black…"
      ]
     },
     "metadata": {},
     "output_type": "display_data"
    }
   ],
   "source": [
    "se_N = SlideExplorer(n_steps=2000, k_max=50)\n",
    "se_N.slide_model.trait_set(**material_params)\n",
    "se_N.trait_set(s_x_1 = 0, s_y_1 = 0, w_1 = 50);\n",
    "se_N.run()\n",
    "se_N.energy_dissipation.show_iter = False\n",
    "se_N.interact()"
   ]
  },
  {
   "cell_type": "code",
   "execution_count": 4,
   "id": "4ca09ef0-1efe-4078-b483-e69a1665bcbf",
   "metadata": {},
   "outputs": [
    {
     "data": {
      "text/plain": [
       "(4.479437182100187, 3.4215093777180186)"
      ]
     },
     "execution_count": 4,
     "metadata": {},
     "output_type": "execute_result"
    }
   ],
   "source": [
    "diss_N = se_N.energy_dissipation.mechanisms.damage_diss[-1], se_N.energy_dissipation.mechanisms.plastic_diss[-1]\n",
    "diss_N"
   ]
  },
  {
   "cell_type": "markdown",
   "id": "2c51f7fc-0c6b-4889-95e0-d471059bf99e",
   "metadata": {},
   "source": [
    "# Sliding loading"
   ]
  },
  {
   "cell_type": "code",
   "execution_count": 5,
   "id": "286bf891-e8d1-4113-b376-9f466f4bfe72",
   "metadata": {},
   "outputs": [
    {
     "data": {
      "application/vnd.jupyter.widget-view+json": {
       "model_id": "87d6b87324df4aa694da231508a885a8",
       "version_major": 2,
       "version_minor": 0
      },
      "text/plain": [
       "VBox(children=(HBox(children=(VBox(children=(Tree(layout=Layout(align_items='stretch', border='solid 1px black…"
      ]
     },
     "metadata": {},
     "output_type": "display_data"
    }
   ],
   "source": [
    "se_T = SlideExplorer(n_steps=2000, k_max=50)\n",
    "se_T.slide_model.trait_set(**material_params)\n",
    "se_T.trait_set(s_x_1 = 50, s_y_1 = 0, w_1 = 0);\n",
    "se_T.run()\n",
    "se_T.energy_dissipation.show_iter = False\n",
    "se_T.interact()"
   ]
  },
  {
   "cell_type": "code",
   "execution_count": 6,
   "id": "7d2013b1-ff1c-4bb3-9157-6ebe8f0aed5d",
   "metadata": {},
   "outputs": [
    {
     "data": {
      "text/plain": [
       "(4.398257395714287, 12.338747930789028)"
      ]
     },
     "execution_count": 6,
     "metadata": {},
     "output_type": "execute_result"
    }
   ],
   "source": [
    "diss_T = se_T.energy_dissipation.mechanisms.damage_diss[-1], se_T.energy_dissipation.mechanisms.plastic_diss[-1]\n",
    "diss_T"
   ]
  },
  {
   "cell_type": "markdown",
   "id": "a061dd3a-57d2-48d2-a20b-f71b1ff5f4ed",
   "metadata": {},
   "source": [
    "# Pull off - Parametric study of energy dissipation"
   ]
  },
  {
   "cell_type": "markdown",
   "id": "68d0bb77-1826-4dfd-bb7d-0cddbe8de88f",
   "metadata": {},
   "source": [
    "Evaluate energy required to produce a stress-free interface in the normal direction"
   ]
  },
  {
   "cell_type": "code",
   "execution_count": 10,
   "id": "5d310e2f-9554-49e8-a56b-e7f94064f618",
   "metadata": {},
   "outputs": [
    {
     "name": "stdout",
     "output_type": "stream",
     "text": [
      "evaluating -0.001 -0.001\n"
     ]
    },
    {
     "ename": "ConvergenceError",
     "evalue": "no convergence for step for state [1e-09, 1e-09, 3.025000001]",
     "output_type": "error",
     "traceback": [
      "\u001b[0;31m---------------------------------------------------------------------------\u001b[0m",
      "\u001b[0;31mConvergenceError\u001b[0m                          Traceback (most recent call last)",
      "\u001b[0;32m<ipython-input-10-ba8938c11812>\u001b[0m in \u001b[0;36m<module>\u001b[0;34m\u001b[0m\n\u001b[1;32m     16\u001b[0m         \u001b[0mse_N\u001b[0m\u001b[0;34m.\u001b[0m\u001b[0mreset\u001b[0m\u001b[0;34m(\u001b[0m\u001b[0;34m)\u001b[0m\u001b[0;34m\u001b[0m\u001b[0;34m\u001b[0m\u001b[0m\n\u001b[1;32m     17\u001b[0m         \u001b[0mse_N\u001b[0m\u001b[0;34m.\u001b[0m\u001b[0mtrait_set\u001b[0m\u001b[0;34m(\u001b[0m\u001b[0ms_x_1\u001b[0m \u001b[0;34m=\u001b[0m \u001b[0;36m0\u001b[0m\u001b[0;34m,\u001b[0m \u001b[0ms_y_1\u001b[0m \u001b[0;34m=\u001b[0m \u001b[0;36m0\u001b[0m\u001b[0;34m,\u001b[0m \u001b[0mw_1\u001b[0m \u001b[0;34m=\u001b[0m \u001b[0;36m50\u001b[0m\u001b[0;34m)\u001b[0m\u001b[0;34m;\u001b[0m\u001b[0;34m\u001b[0m\u001b[0;34m\u001b[0m\u001b[0m\n\u001b[0;32m---> 18\u001b[0;31m         \u001b[0mse_N\u001b[0m\u001b[0;34m.\u001b[0m\u001b[0mrun\u001b[0m\u001b[0;34m(\u001b[0m\u001b[0;34m)\u001b[0m\u001b[0;34m\u001b[0m\u001b[0;34m\u001b[0m\u001b[0m\n\u001b[0m\u001b[1;32m     19\u001b[0m         \u001b[0mdamage_diss_grid\u001b[0m\u001b[0;34m[\u001b[0m\u001b[0mi\u001b[0m\u001b[0;34m,\u001b[0m\u001b[0mj\u001b[0m\u001b[0;34m]\u001b[0m \u001b[0;34m=\u001b[0m \u001b[0mse_N\u001b[0m\u001b[0;34m.\u001b[0m\u001b[0menergy_dissipation\u001b[0m\u001b[0;34m.\u001b[0m\u001b[0mmechanisms\u001b[0m\u001b[0;34m.\u001b[0m\u001b[0mdamage_diss\u001b[0m\u001b[0;34m[\u001b[0m\u001b[0;34m-\u001b[0m\u001b[0;36m1\u001b[0m\u001b[0;34m]\u001b[0m\u001b[0;34m\u001b[0m\u001b[0;34m\u001b[0m\u001b[0m\n\u001b[1;32m     20\u001b[0m         \u001b[0mplastic_diss_grid\u001b[0m\u001b[0;34m[\u001b[0m\u001b[0mi\u001b[0m\u001b[0;34m,\u001b[0m\u001b[0mj\u001b[0m\u001b[0;34m]\u001b[0m \u001b[0;34m=\u001b[0m \u001b[0mse_N\u001b[0m\u001b[0;34m.\u001b[0m\u001b[0menergy_dissipation\u001b[0m\u001b[0;34m.\u001b[0m\u001b[0mmechanisms\u001b[0m\u001b[0;34m.\u001b[0m\u001b[0mplastic_diss\u001b[0m\u001b[0;34m[\u001b[0m\u001b[0;34m-\u001b[0m\u001b[0;36m1\u001b[0m\u001b[0;34m]\u001b[0m\u001b[0;34m\u001b[0m\u001b[0;34m\u001b[0m\u001b[0m\n",
      "\u001b[0;32m~/PycharmProjects/bmcs_matmod/bmcs_matmod/slide/slide_explorer.py\u001b[0m in \u001b[0;36mrun\u001b[0;34m(self, update_progress)\u001b[0m\n\u001b[1;32m    165\u001b[0m     \u001b[0;32mdef\u001b[0m \u001b[0mrun\u001b[0m\u001b[0;34m(\u001b[0m\u001b[0mself\u001b[0m\u001b[0;34m,\u001b[0m \u001b[0mupdate_progress\u001b[0m\u001b[0;34m=\u001b[0m\u001b[0;32mlambda\u001b[0m \u001b[0mt\u001b[0m\u001b[0;34m:\u001b[0m \u001b[0mt\u001b[0m\u001b[0;34m)\u001b[0m\u001b[0;34m:\u001b[0m\u001b[0;34m\u001b[0m\u001b[0;34m\u001b[0m\u001b[0m\n\u001b[1;32m    166\u001b[0m         \u001b[0;32mtry\u001b[0m\u001b[0;34m:\u001b[0m\u001b[0;34m\u001b[0m\u001b[0;34m\u001b[0m\u001b[0m\n\u001b[0;32m--> 167\u001b[0;31m             \u001b[0mself\u001b[0m\u001b[0;34m.\u001b[0m\u001b[0mget_response_i\u001b[0m\u001b[0;34m(\u001b[0m\u001b[0mupdate_progress\u001b[0m\u001b[0;34m)\u001b[0m\u001b[0;34m\u001b[0m\u001b[0;34m\u001b[0m\u001b[0m\n\u001b[0m\u001b[1;32m    168\u001b[0m         \u001b[0;32mexcept\u001b[0m \u001b[0mValueError\u001b[0m\u001b[0;34m:\u001b[0m\u001b[0;34m\u001b[0m\u001b[0;34m\u001b[0m\u001b[0m\n\u001b[1;32m    169\u001b[0m             \u001b[0mprint\u001b[0m\u001b[0;34m(\u001b[0m\u001b[0;34m'No convergence reached'\u001b[0m\u001b[0;34m)\u001b[0m\u001b[0;34m\u001b[0m\u001b[0;34m\u001b[0m\u001b[0m\n",
      "\u001b[0;32m~/PycharmProjects/bmcs_matmod/bmcs_matmod/slide/slide_explorer.py\u001b[0m in \u001b[0;36mget_response_i\u001b[0;34m(self, update_progress)\u001b[0m\n\u001b[1;32m    126\u001b[0m         \u001b[0mwi_t\u001b[0m \u001b[0;34m=\u001b[0m \u001b[0mself\u001b[0m\u001b[0;34m.\u001b[0m\u001b[0mw_0\u001b[0m \u001b[0;34m+\u001b[0m \u001b[0mtf_w\u001b[0m \u001b[0;34m*\u001b[0m \u001b[0;34m(\u001b[0m\u001b[0mself\u001b[0m\u001b[0;34m.\u001b[0m\u001b[0mw_1\u001b[0m \u001b[0;34m-\u001b[0m \u001b[0mself\u001b[0m\u001b[0;34m.\u001b[0m\u001b[0mw_0\u001b[0m\u001b[0;34m)\u001b[0m \u001b[0;34m+\u001b[0m \u001b[0;36m1e-9\u001b[0m\u001b[0;34m\u001b[0m\u001b[0;34m\u001b[0m\u001b[0m\n\u001b[1;32m    127\u001b[0m         \u001b[0;32mfor\u001b[0m \u001b[0mt\u001b[0m\u001b[0;34m,\u001b[0m \u001b[0ms_x_n1\u001b[0m\u001b[0;34m,\u001b[0m \u001b[0ms_y_n1\u001b[0m\u001b[0;34m,\u001b[0m \u001b[0mw_n1\u001b[0m \u001b[0;32min\u001b[0m \u001b[0mzip\u001b[0m\u001b[0;34m(\u001b[0m\u001b[0mt_i\u001b[0m\u001b[0;34m,\u001b[0m \u001b[0msi_x_t\u001b[0m\u001b[0;34m,\u001b[0m \u001b[0msi_y_t\u001b[0m\u001b[0;34m,\u001b[0m \u001b[0mwi_t\u001b[0m\u001b[0;34m)\u001b[0m\u001b[0;34m:\u001b[0m\u001b[0;34m\u001b[0m\u001b[0;34m\u001b[0m\u001b[0m\n\u001b[0;32m--> 128\u001b[0;31m             try: self.Eps_n1, self.Sig_n1, k = self.slide_model.get_sig_n1(\n\u001b[0m\u001b[1;32m    129\u001b[0m                     \u001b[0ms_x_n1\u001b[0m\u001b[0;34m,\u001b[0m \u001b[0ms_y_n1\u001b[0m\u001b[0;34m,\u001b[0m \u001b[0mw_n1\u001b[0m\u001b[0;34m,\u001b[0m \u001b[0mself\u001b[0m\u001b[0;34m.\u001b[0m\u001b[0mSig_n1\u001b[0m\u001b[0;34m,\u001b[0m \u001b[0mself\u001b[0m\u001b[0;34m.\u001b[0m\u001b[0mEps_n1\u001b[0m\u001b[0;34m,\u001b[0m \u001b[0mself\u001b[0m\u001b[0;34m.\u001b[0m\u001b[0mk_max\u001b[0m\u001b[0;34m\u001b[0m\u001b[0;34m\u001b[0m\u001b[0m\n\u001b[1;32m    130\u001b[0m                 )\n",
      "\u001b[0;32m~/PycharmProjects/bmcs_matmod/bmcs_matmod/slide/slide_32.py\u001b[0m in \u001b[0;36mget_sig_n1\u001b[0;34m(self, s_x_n1, s_y_n1, w_n1, Sig_n, Eps_n, k_max)\u001b[0m\n\u001b[1;32m    450\u001b[0m             \u001b[0mk\u001b[0m \u001b[0;34m+=\u001b[0m \u001b[0;36m1\u001b[0m\u001b[0;34m\u001b[0m\u001b[0;34m\u001b[0m\u001b[0m\n\u001b[1;32m    451\u001b[0m         \u001b[0;32melse\u001b[0m\u001b[0;34m:\u001b[0m\u001b[0;34m\u001b[0m\u001b[0;34m\u001b[0m\u001b[0m\n\u001b[0;32m--> 452\u001b[0;31m             \u001b[0;32mraise\u001b[0m \u001b[0mConvergenceError\u001b[0m\u001b[0;34m(\u001b[0m\u001b[0;34m'no convergence for step'\u001b[0m\u001b[0;34m,\u001b[0m \u001b[0;34m[\u001b[0m\u001b[0ms_x_n1\u001b[0m\u001b[0;34m,\u001b[0m \u001b[0ms_y_n1\u001b[0m\u001b[0;34m,\u001b[0m \u001b[0mw_n1\u001b[0m\u001b[0;34m]\u001b[0m\u001b[0;34m)\u001b[0m\u001b[0;34m\u001b[0m\u001b[0;34m\u001b[0m\u001b[0m\n\u001b[0m\u001b[1;32m    453\u001b[0m \u001b[0;34m\u001b[0m\u001b[0m\n\u001b[1;32m    454\u001b[0m     \u001b[0mEps_names\u001b[0m \u001b[0;34m=\u001b[0m \u001b[0mtr\u001b[0m\u001b[0;34m.\u001b[0m\u001b[0mProperty\u001b[0m\u001b[0;34m\u001b[0m\u001b[0;34m\u001b[0m\u001b[0m\n",
      "\u001b[0;31mConvergenceError\u001b[0m: no convergence for step for state [1e-09, 1e-09, 3.025000001]"
     ]
    }
   ],
   "source": [
    "import numpy as np\n",
    "se_N = SlideExplorer(n_steps=2000, k_max=500)\n",
    "se_N.slide_model.trait_set(**material_params)\n",
    "se_N.energy_dissipation.show_iter = False\n",
    "S_N_range = np.linspace(-0.001, 1, 5)\n",
    "c_N_range = np.linspace(-0.001, 1, 5)\n",
    "S_N_grid, c_N_grid = np.meshgrid(S_N_range, c_N_range)\n",
    "damage_diss_grid = np.zeros_like(S_N_grid)\n",
    "plastic_diss_grid = np.zeros_like(S_N_grid)\n",
    "resid_stress_grid = np.zeros_like(S_N_grid)\n",
    "for i, S_N in enumerate(S_N_range):\n",
    "    for j, c_N in enumerate(c_N_range):\n",
    "        print('evaluating', S_N, c_N)\n",
    "        se_N.slide_model.S_N = S_N\n",
    "        se_N.slide_model.c_N = c_N\n",
    "        se_N.reset()\n",
    "        se_N.trait_set(s_x_1 = 0, s_y_1 = 0, w_1 = 50);\n",
    "        se_N.run()\n",
    "        damage_diss_grid[i,j] = se_N.energy_dissipation.mechanisms.damage_diss[-1]\n",
    "        plastic_diss_grid[i,j] = se_N.energy_dissipation.mechanisms.plastic_diss[-1]\n",
    "        resid_stress_grid[i,j] = se_N.Sig_arr[-1,0] / np.max(se_N.Sig_arr[:,0])"
   ]
  },
  {
   "cell_type": "code",
   "execution_count": null,
   "id": "a5bd6a15-b543-44a7-adf0-a98860eb1f47",
   "metadata": {},
   "outputs": [],
   "source": [
    "import matplotlib.pylab as plt\n",
    "fig = plt.figure()\n",
    "ax = plt.axes(projection='3d')\n",
    "ax.plot_surface(S_N_grid, c_N_grid, damage_diss_grid, color='gray', label='damage', alpha=0.4)\n",
    "ax.scatter(S_N_grid, c_N_grid, damage_diss_grid, marker='H')\n",
    "ax.plot_surface(S_N_grid, c_N_grid, plastic_diss_grid, color='red', label='plastic', alpha=0.5)\n",
    "ax.scatter(S_N_grid, c_N_grid, plastic_diss_grid, marker='H')\n",
    "ax.set_xlabel('S_N'); ax.set_ylabel('c_N');"
   ]
  },
  {
   "cell_type": "code",
   "execution_count": 9,
   "id": "e3b536de-3614-4bcf-996b-be4f3f2b8f66",
   "metadata": {},
   "outputs": [
    {
     "data": {
      "text/plain": [
       "array([[7.14738966e-11, 2.30803786e-10, 5.31162780e-10, 9.93673213e-10,\n",
       "        1.62149891e-09],\n",
       "       [7.86455754e-11, 2.49230544e-10, 5.66373404e-10, 1.04998662e-09,\n",
       "        1.70174849e-09],\n",
       "       [8.61434474e-11, 2.68149504e-10, 6.02087396e-10, 1.10660844e-09,\n",
       "        1.78190891e-09],\n",
       "       [9.39653199e-11, 2.87548480e-10, 6.38285691e-10, 1.16352264e-09,\n",
       "        1.86198023e-09],\n",
       "       [1.02109012e-10, 3.07415969e-10, 6.74950576e-10, 1.22071451e-09,\n",
       "        1.94196252e-09]])"
      ]
     },
     "execution_count": 9,
     "metadata": {},
     "output_type": "execute_result"
    }
   ],
   "source": [
    "resid_stress_grid"
   ]
  },
  {
   "cell_type": "code",
   "execution_count": null,
   "id": "01f1afc2-d09c-427b-8b80-be66389399d5",
   "metadata": {},
   "outputs": [],
   "source": [
    "se_N.interact()"
   ]
  },
  {
   "cell_type": "code",
   "execution_count": 10,
   "id": "78ca467c-f9ab-4548-8a23-d69ed5296fe7",
   "metadata": {},
   "outputs": [
    {
     "data": {
      "application/vnd.jupyter.widget-view+json": {
       "model_id": "57b26aa2419b4f7bb4710c37ec175ae5",
       "version_major": 2,
       "version_minor": 0
      },
      "text/plain": [
       "VBox(children=(HBox(children=(VBox(children=(Tree(layout=Layout(align_items='stretch', border='solid 1px black…"
      ]
     },
     "metadata": {},
     "output_type": "display_data"
    }
   ],
   "source": [
    "se_N.interact()"
   ]
  },
  {
   "cell_type": "code",
   "execution_count": null,
   "id": "a09fa082-ce8c-4672-b16a-7ff22e7f2541",
   "metadata": {},
   "outputs": [],
   "source": []
  }
 ],
 "metadata": {
  "kernelspec": {
   "display_name": "bmcs_env",
   "language": "python",
   "name": "bmcs_env"
  },
  "language_info": {
   "codemirror_mode": {
    "name": "ipython",
    "version": 3
   },
   "file_extension": ".py",
   "mimetype": "text/x-python",
   "name": "python",
   "nbconvert_exporter": "python",
   "pygments_lexer": "ipython3",
   "version": "3.8.8"
  }
 },
 "nbformat": 4,
 "nbformat_minor": 5
}
