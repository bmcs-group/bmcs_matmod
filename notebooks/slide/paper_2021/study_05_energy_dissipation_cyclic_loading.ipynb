{
 "cells": [
  {
   "cell_type": "markdown",
   "id": "burning-martial",
   "metadata": {},
   "source": [
    "# Study 05: energy dissipation cyclic loading"
   ]
  },
  {
   "cell_type": "code",
   "execution_count": null,
   "id": "varying-basket",
   "metadata": {},
   "outputs": [],
   "source": [
    "%matplotlib widget"
   ]
  },
  {
   "cell_type": "code",
   "execution_count": null,
   "id": "personalized-basin",
   "metadata": {},
   "outputs": [],
   "source": [
    "import bmcs_utils"
   ]
  },
  {
   "cell_type": "code",
   "execution_count": null,
   "id": "light-plaintiff",
   "metadata": {},
   "outputs": [],
   "source": [
    "from ibvpy.tfunction import TimeFunction, TFSelector, TFCyclicSin, TFCyclicNonsymmetricConstant"
   ]
  },
  {
   "cell_type": "code",
   "execution_count": null,
   "id": "former-astronomy",
   "metadata": {},
   "outputs": [],
   "source": [
    "from bmcs_matmod.slide.slide_explorer import SlideExplorer\n",
    "import bmcs_utils.api as bu"
   ]
  },
  {
   "cell_type": "markdown",
   "id": "abandoned-disclosure",
   "metadata": {},
   "source": [
    "## 1. Isotropic hardening"
   ]
  },
  {
   "cell_type": "code",
   "execution_count": null,
   "id": "former-checklist",
   "metadata": {},
   "outputs": [],
   "source": [
    "%%capture\n",
    "import numpy as np\n",
    "\n",
    "# Isotropic hardening\n",
    "material_params_1 = dict(\n",
    "    E_T=100, gamma_T=0, K_T=10, S_T=1000000.05, c_T=1, bartau=5, \n",
    "    E_N=100, S_N=1000000.05, c_N = 1, m = 0.00001, f_t=5, f_c=20, f_c0=10, eta=0.0)\n",
    "\n",
    "   \n",
    "se1 = SlideExplorer(n_steps=500, k_max=50)\n",
    "se1.slide_model.trait_set(**material_params_1)\n",
    "se1.tf_s_x = TFCyclicNonsymmetricConstant(number_of_cycles = 3, unloading_ratio = -1, t_max = 1)\n",
    "se1.trait_set(s_x_1 = 0.2, s_y_1 = 0, w_1 = 0);\n",
    "se1.run()\n",
    "\n"
   ]
  },
  {
   "cell_type": "code",
   "execution_count": null,
   "id": "historical-alliance",
   "metadata": {},
   "outputs": [],
   "source": [
    "import matplotlib.pylab as plt\n",
    "fig, (ax_1,  ax_2) = plt.subplots(1,2, tight_layout=True, figsize=(9,4))\n",
    "fig.canvas.header_visible=False\n",
    "\n",
    "tau_x_pi_1, tau_y_pi_1, sig_pi_1, Z_1, X_x_1, X_y_1, Y_T_1, Y_N_1 = se1.Sig_arr.T\n",
    "\n",
    "w_1 = se1.w_t\n",
    "s_x_1 = se1.s_x_t.T\n",
    "t = np.linspace(0, 1, len(tau_x_pi_1))\n",
    "    \n",
    "ax_1.plot(t, s_x_1)\n",
    "ax_1.set_xlabel('$time$')\n",
    "ax_1.set_ylabel('$s_x$')\n",
    "    \n",
    "ax_2.plot(s_x_1, tau_x_pi_1)\n",
    "ax_2.set_xlabel('$s_x$')\n",
    "ax_2.set_ylabel('$\\sigma_T$')\n",
    "\n",
    "    \n",
    "#fig.savefig('Study_05_Energy_dissipation_stress.pdf')       "
   ]
  },
  {
   "cell_type": "code",
   "execution_count": null,
   "id": "modular-appreciation",
   "metadata": {},
   "outputs": [],
   "source": [
    "import matplotlib.pylab as plt\n",
    "fig, (ax_1, ax_2) = plt.subplots(1,2, tight_layout=True, figsize=(9,4))\n",
    "fig.canvas.header_visible=False\n",
    "    \n",
    "se1.energy_dissipation.plot_energy(ax_1, ax_2)"
   ]
  },
  {
   "cell_type": "code",
   "execution_count": null,
   "id": "roman-enzyme",
   "metadata": {},
   "outputs": [],
   "source": []
  },
  {
   "cell_type": "markdown",
   "id": "complete-aging",
   "metadata": {},
   "source": [
    "## 2. Kinematic hardening"
   ]
  },
  {
   "cell_type": "code",
   "execution_count": null,
   "id": "coupled-submission",
   "metadata": {},
   "outputs": [],
   "source": [
    "%%capture\n",
    "import numpy as np\n",
    "\n",
    "\n",
    "# Kimeatic hardening\n",
    "material_params_2 = dict(\n",
    "    E_T=100, gamma_T=100, K_T=0, S_T=1000000.05, c_T=1, bartau=5, \n",
    "    E_N=100, S_N=1000000.05, c_N = 1, m = 0.00001, f_t=5, f_c=20, f_c0=10, eta=0.0)\n",
    "\n",
    "\n",
    "\n",
    "se2 = SlideExplorer(n_steps=500, k_max=50)\n",
    "se2.slide_model.trait_set(**material_params_2)\n",
    "se2.tf_s_x = TFCyclicNonsymmetricConstant(number_of_cycles = 3, unloading_ratio = -1, t_max = 1)\n",
    "se2.trait_set(s_x_1 = 0.2, s_y_1 = 0, w_1 = 0);\n",
    "se2.run()\n"
   ]
  },
  {
   "cell_type": "code",
   "execution_count": null,
   "id": "heavy-miracle",
   "metadata": {},
   "outputs": [],
   "source": [
    "import matplotlib.pylab as plt\n",
    "fig, (ax_1,  ax_2) = plt.subplots(1,2, tight_layout=True, figsize=(9,4))\n",
    "fig.canvas.header_visible=False\n",
    "\n",
    "tau_x_pi_2, tau_y_pi_2, sig_pi_2, Z_2, X_x_2, X_y_2, Y_T_2, Y_N_2 = se2.Sig_arr.T\n",
    "\n",
    "w_2 = se2.w_t\n",
    "s_x_2 = se2.s_x_t.T\n",
    "t = np.linspace(0, 1, len(tau_x_pi_2))\n",
    "    \n",
    "ax_1.plot(t, s_x_2)\n",
    "ax_1.set_xlabel('$time$')\n",
    "ax_1.set_ylabel('$s_x$')\n",
    "    \n",
    "ax_2.plot(s_x_2, tau_x_pi_2)\n",
    "ax_2.set_xlabel('$s_x$')\n",
    "ax_2.set_ylabel('$\\sigma_T$')"
   ]
  },
  {
   "cell_type": "code",
   "execution_count": null,
   "id": "noble-french",
   "metadata": {},
   "outputs": [],
   "source": [
    "import matplotlib.pylab as plt\n",
    "fig, (ax_1, ax_2) = plt.subplots(1,2, tight_layout=True, figsize=(9,4))\n",
    "fig.canvas.header_visible=False\n",
    "   \n",
    "se2.energy_dissipation.plot_energy(ax_1, ax_2)"
   ]
  },
  {
   "cell_type": "code",
   "execution_count": null,
   "id": "contemporary-panel",
   "metadata": {},
   "outputs": [],
   "source": []
  },
  {
   "cell_type": "markdown",
   "id": "residential-original",
   "metadata": {},
   "source": [
    "## 3. Combined isotropic + kinematic hardening"
   ]
  },
  {
   "cell_type": "code",
   "execution_count": null,
   "id": "bound-encounter",
   "metadata": {},
   "outputs": [],
   "source": [
    "%%capture\n",
    "import numpy as np\n",
    "\n",
    "\n",
    "# combined isotropic + Kimeatic hardening\n",
    "material_params_3 = dict(\n",
    "    E_T=100, gamma_T=100, K_T=10, S_T=1000000.05, c_T=1, bartau=5, \n",
    "    E_N=100, S_N=1000000.05, c_N = 1, m = 0.00001, f_t=5, f_c=20, f_c0=10, eta=0.0)\n",
    "\n",
    "\n",
    "se3 = SlideExplorer(n_steps=500, k_max=50)\n",
    "se3.slide_model.trait_set(**material_params_3)\n",
    "se3.tf_s_x = TFCyclicNonsymmetricConstant(number_of_cycles = 3, unloading_ratio = -1, t_max = 1)\n",
    "se3.trait_set(s_x_1 = 0.2, s_y_1 = 0, w_1 = 0);\n",
    "se3.run()\n"
   ]
  },
  {
   "cell_type": "code",
   "execution_count": null,
   "id": "closing-bristol",
   "metadata": {},
   "outputs": [],
   "source": [
    "import matplotlib.pylab as plt\n",
    "fig, (ax_1,  ax_2) = plt.subplots(1,2, tight_layout=True, figsize=(9,4))\n",
    "fig.canvas.header_visible=False\n",
    "\n",
    "tau_x_pi_3, tau_y_pi_3, sig_pi_3, Z_3, X_x_3, X_y_3, Y_T_3, Y_N_3 = se3.Sig_arr.T\n",
    "\n",
    "w_3 = se3.w_t\n",
    "s_x_3 = se3.s_x_t.T\n",
    "t = np.linspace(0, 1, len(tau_x_pi_2))\n",
    "    \n",
    "ax_1.plot(t, s_x_3)\n",
    "ax_1.set_xlabel('$time$')\n",
    "ax_1.set_ylabel('$s_x$')\n",
    "    \n",
    "ax_2.plot(s_x_3, tau_x_pi_3)\n",
    "ax_2.set_xlabel('$s_x$')\n",
    "ax_2.set_ylabel('$\\sigma_T$')"
   ]
  },
  {
   "cell_type": "code",
   "execution_count": null,
   "id": "spatial-player",
   "metadata": {},
   "outputs": [],
   "source": [
    "import matplotlib.pylab as plt\n",
    "fig, (ax_1, ax_2) = plt.subplots(1,2, tight_layout=True, figsize=(9,4))\n",
    "fig.canvas.header_visible=False\n",
    "    \n",
    "se3.energy_dissipation.plot_energy(ax_1, ax_2)"
   ]
  },
  {
   "cell_type": "code",
   "execution_count": null,
   "id": "exciting-ghost",
   "metadata": {},
   "outputs": [],
   "source": []
  },
  {
   "cell_type": "markdown",
   "id": "unable-hobby",
   "metadata": {},
   "source": [
    "## 4. Combined isotropic + Kimeatic hardening with damage"
   ]
  },
  {
   "cell_type": "code",
   "execution_count": null,
   "id": "distinct-interaction",
   "metadata": {},
   "outputs": [],
   "source": [
    "%%capture\n",
    "import numpy as np\n",
    "\n",
    "# combined isotropic + Kimeatic hardening with damage\n",
    "material_params_4 = dict(\n",
    "    E_T=100, gamma_T=100, K_T=10, S_T=0.2, c_T=1, bartau=5, \n",
    "    E_N=100, S_N=0.2, c_N = 1, m = 0.00001, f_t=5, f_c=20, f_c0=10, eta=0.0)\n",
    "\n",
    "se4 = SlideExplorer(n_steps=500, k_max=50)\n",
    "se4.slide_model.trait_set(**material_params_4)\n",
    "se4.tf_s_x = TFCyclicNonsymmetricConstant(number_of_cycles = 3, unloading_ratio = -1, t_max = 1)\n",
    "se4.trait_set(s_x_1 = 0.2, s_y_1 = 0, w_1 = 0);\n",
    "se4.run()"
   ]
  },
  {
   "cell_type": "code",
   "execution_count": null,
   "id": "alleged-sugar",
   "metadata": {},
   "outputs": [],
   "source": [
    "import matplotlib.pylab as plt\n",
    "fig, (ax_1,  ax_2) = plt.subplots(1,2, tight_layout=True, figsize=(9,4))\n",
    "fig.canvas.header_visible=False\n",
    "\n",
    "tau_x_pi_4, tau_y_pi_4, sig_pi_4, Z_4, X_x_4, X_y_4, Y_T_4, Y_N_4 = se4.Sig_arr.T\n",
    "\n",
    "w_4 = se4.w_t\n",
    "s_x_4 = se4.s_x_t.T\n",
    "t = np.linspace(0, 1, len(tau_x_pi_2))\n",
    "    \n",
    "ax_1.plot(t, s_x_4)\n",
    "ax_1.set_xlabel('$time$')\n",
    "ax_1.set_ylabel('$s_x$')\n",
    "    \n",
    "ax_2.plot(s_x_4, tau_x_pi_4)\n",
    "ax_2.set_xlabel('$s_x$')\n",
    "ax_2.set_ylabel('$\\sigma_T$');"
   ]
  },
  {
   "cell_type": "code",
   "execution_count": null,
   "id": "c17693a6-a853-4f3b-a4f0-3687280bdc07",
   "metadata": {},
   "outputs": [],
   "source": [
    "se4.energy_dissipation.interact()"
   ]
  },
  {
   "cell_type": "code",
   "execution_count": null,
   "id": "comparable-basics",
   "metadata": {},
   "outputs": [],
   "source": [
    "import matplotlib.pylab as plt\n",
    "fig, (ax_1, ax_2) = plt.subplots(1,2, tight_layout=True, figsize=(9,4))\n",
    "fig.canvas.header_visible=False\n",
    "\n",
    "se4.energy_dissipation.plot_energy(ax_1, ax_2)"
   ]
  },
  {
   "cell_type": "code",
   "execution_count": null,
   "id": "hungry-costs",
   "metadata": {},
   "outputs": [],
   "source": []
  },
  {
   "cell_type": "code",
   "execution_count": null,
   "id": "fallen-compound",
   "metadata": {},
   "outputs": [],
   "source": []
  },
  {
   "cell_type": "code",
   "execution_count": null,
   "id": "brilliant-andorra",
   "metadata": {},
   "outputs": [],
   "source": []
  }
 ],
 "metadata": {
  "kernelspec": {
   "display_name": "bmcs_env",
   "language": "python",
   "name": "bmcs_env"
  },
  "language_info": {
   "codemirror_mode": {
    "name": "ipython",
    "version": 3
   },
   "file_extension": ".py",
   "mimetype": "text/x-python",
   "name": "python",
   "nbconvert_exporter": "python",
   "pygments_lexer": "ipython3"
  }
 },
 "nbformat": 4,
 "nbformat_minor": 5
}
