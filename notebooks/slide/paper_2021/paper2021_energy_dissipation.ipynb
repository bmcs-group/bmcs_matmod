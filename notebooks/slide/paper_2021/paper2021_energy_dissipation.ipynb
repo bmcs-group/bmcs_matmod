{
 "cells": [
  {
   "cell_type": "code",
   "execution_count": 1,
   "id": "c4e6943a-9fd6-43ce-bb24-f079592827b4",
   "metadata": {},
   "outputs": [],
   "source": [
    "%matplotlib widget"
   ]
  },
  {
   "cell_type": "code",
   "execution_count": 2,
   "id": "1eac3d8b-49a8-43b8-9faf-8712ea9f1925",
   "metadata": {},
   "outputs": [],
   "source": [
    "from bmcs_matmod.slide.slide_explorer import SlideExplorer"
   ]
  },
  {
   "cell_type": "code",
   "execution_count": 3,
   "id": "84690a3e-2c2a-4589-9ba4-61caf494c398",
   "metadata": {},
   "outputs": [],
   "source": [
    "se = SlideExplorer()"
   ]
  },
  {
   "cell_type": "code",
   "execution_count": 4,
   "id": "54fe9b87-04df-4d9a-8442-03ba185e6282",
   "metadata": {},
   "outputs": [],
   "source": [
    "material_params = dict(\n",
    "    E_T=1, gamma_T=1, K_T=1, S_T=5, c_T=1, bartau=3, \n",
    "    E_N=1, S_N=5, c_N = 1, m = 0.01, f_t=3, f_c=20, f_c0=10, eta=0.5\n",
    ")"
   ]
  },
  {
   "cell_type": "code",
   "execution_count": 11,
   "id": "c72167fe-db3b-425a-b289-7ce7891bcdf5",
   "metadata": {},
   "outputs": [],
   "source": [
    "#%%capture\n",
    "se = SlideExplorer(n_steps=200, k_max=50)\n",
    "se.slide_model.trait_set(**material_params)\n",
    "se.trait_set(s_x_1 = 5, s_y_1 = 0, w_1 = 0);\n",
    "se.run()\n",
    "se.trait_set(s_x_1 = -5, s_y_1 = 4, w_1 = 0);\n",
    "se.run()\n",
    "se.trait_set(s_x_1 = 5, s_y_1 = 0, w_1 = 0);\n",
    "se.run()\n",
    "se.trait_set(s_x_1 = -5, s_y_1 = 0, w_1 = 0);\n",
    "se.run()\n",
    "se.trait_set(s_x_1 = 5, s_y_1 = 0, w_1 = 0);\n",
    "se.run()\n",
    "se.trait_set(s_x_1 = -5, s_y_1 = 0, w_1 = 0);\n",
    "se.run()"
   ]
  },
  {
   "cell_type": "code",
   "execution_count": 12,
   "id": "4a4a0ef6-8777-49cd-96dd-5435a8bffde3",
   "metadata": {},
   "outputs": [
    {
     "data": {
      "application/vnd.jupyter.widget-view+json": {
       "model_id": "a2ce5c5cadea4e699392ffc9648f515d",
       "version_major": 2,
       "version_minor": 0
      },
      "text/plain": [
       "VBox(children=(HBox(children=(VBox(children=(Tree(layout=Layout(align_items='stretch', border='solid 1px black…"
      ]
     },
     "metadata": {},
     "output_type": "display_data"
    }
   ],
   "source": [
    "se.energy_dissipation.show_iter = False\n",
    "se.inel_state_evolution.t_max=3.0\n",
    "se.interact()"
   ]
  },
  {
   "cell_type": "code",
   "execution_count": null,
   "id": "25819eb3-748f-4c9c-87fd-937267a3f7f6",
   "metadata": {},
   "outputs": [],
   "source": []
  }
 ],
 "metadata": {
  "kernelspec": {
   "display_name": "bmcs_env",
   "language": "python",
   "name": "bmcs_env"
  },
  "language_info": {
   "codemirror_mode": {
    "name": "ipython",
    "version": 3
   },
   "file_extension": ".py",
   "mimetype": "text/x-python",
   "name": "python",
   "nbconvert_exporter": "python",
   "pygments_lexer": "ipython3",
   "version": "3.8.8"
  }
 },
 "nbformat": 4,
 "nbformat_minor": 5
}
