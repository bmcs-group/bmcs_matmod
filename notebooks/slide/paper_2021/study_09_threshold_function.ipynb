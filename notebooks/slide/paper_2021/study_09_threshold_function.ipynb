{
 "cells": [
  {
   "cell_type": "markdown",
   "id": "80f8f723-6890-4951-bfff-13e91ff6fb10",
   "metadata": {},
   "source": [
    "# **Threshold function evolution**"
   ]
  },
  {
   "cell_type": "code",
   "execution_count": 1,
   "id": "934eeeed-4860-4d35-a369-30e59a4802c6",
   "metadata": {},
   "outputs": [],
   "source": [
    "%matplotlib widget\n",
    "import bmcs_utils\n",
    "from ibvpy.tfunction import TimeFunction, TFSelector, TFCyclicSin\n",
    "from bmcs_matmod.slide.slide_explorer import SlideExplorer\n",
    "import bmcs_utils.api as bu"
   ]
  },
  {
   "cell_type": "code",
   "execution_count": 2,
   "id": "0eef3990-e3a6-46f6-981b-935e9c254fde",
   "metadata": {},
   "outputs": [],
   "source": [
    "material_params = dict(\n",
    "    E_T=1, gamma_T=0, K_T=0, S_T=5, c_T=1, bartau=3, \n",
    "    E_N=1, S_N=1, c_N = 1, m = 0.1, f_t=3, f_c=20, f_c0=10, eta=1.0\n",
    ")"
   ]
  },
  {
   "cell_type": "code",
   "execution_count": 3,
   "id": "ddf0aafa-f1aa-4e13-9c71-ae30884fb9f5",
   "metadata": {},
   "outputs": [],
   "source": [
    "%%capture\n",
    "se_N = SlideExplorer(n_steps=500, k_max=50)\n",
    "se_N.slide_model.trait_set(**material_params)\n",
    "se_N.trait_set(s_x_1 = 4, s_y_1 = 0, w_1 = 0);\n",
    "se_N.run()\n",
    "se_N.trait_set(s_x_1 = 0, s_y_1 = 0, w_1 = 0);\n",
    "se_N.run()\n",
    "se_N.trait_set(s_x_1 = 0, s_y_1 = 0, w_1 = 6);\n",
    "se_N.run()\n",
    "se_N.energy_dissipation.show_iter = False"
   ]
  },
  {
   "cell_type": "code",
   "execution_count": 4,
   "id": "6b69a785-71ba-47f7-b6fa-f59acecf8533",
   "metadata": {},
   "outputs": [
    {
     "data": {
      "application/vnd.jupyter.widget-view+json": {
       "model_id": "74642475439d4bdb9a3042cd9fbf6719",
       "version_major": 2,
       "version_minor": 0
      },
      "text/plain": [
       "VBox(children=(HBox(children=(VBox(children=(Tree(layout=Layout(align_items='stretch', border='solid 1px black…"
      ]
     },
     "metadata": {},
     "output_type": "display_data"
    }
   ],
   "source": [
    "se_N.interact()"
   ]
  },
  {
   "cell_type": "code",
   "execution_count": 6,
   "id": "25b6cdf5-922e-4176-9448-b7d98158b3e5",
   "metadata": {},
   "outputs": [
    {
     "data": {
      "application/vnd.jupyter.widget-view+json": {
       "model_id": "37bb7cf1a10d4baba5d0e93b120f0b58",
       "version_major": 2,
       "version_minor": 0
      },
      "text/plain": [
       "Canvas(toolbar=Toolbar(toolitems=[('Home', 'Reset original view', 'home', 'home'), ('Back', 'Back to previous …"
      ]
     },
     "metadata": {},
     "output_type": "display_data"
    }
   ],
   "source": [
    "import matplotlib.pylab as plt\n",
    "fig, ax = plt.subplots(1,1)\n",
    "idx = 200\n",
    "se_N.slide_model.plot_f_state(ax, se_N.Eps_t[idx], se_N.Sig_t[idx], color='red')\n",
    "idx = 1000\n",
    "se_N.slide_model.plot_f_state(ax, se_N.Eps_t[idx], se_N.Sig_t[idx], color='red')"
   ]
  }
 ],
 "metadata": {
  "kernelspec": {
   "display_name": "bmcs_env",
   "language": "python",
   "name": "bmcs_env"
  },
  "language_info": {
   "codemirror_mode": {
    "name": "ipython",
    "version": 3
   },
   "file_extension": ".py",
   "mimetype": "text/x-python",
   "name": "python",
   "nbconvert_exporter": "python",
   "pygments_lexer": "ipython3",
   "version": "3.8.8"
  },
  "toc": {
   "base_numbering": 1,
   "nav_menu": {},
   "number_sections": true,
   "sideBar": true,
   "skip_h1_title": false,
   "title_cell": "Table of Contents",
   "title_sidebar": "Contents",
   "toc_cell": false,
   "toc_position": {},
   "toc_section_display": true,
   "toc_window_display": true
  }
 },
 "nbformat": 4,
 "nbformat_minor": 5
}
