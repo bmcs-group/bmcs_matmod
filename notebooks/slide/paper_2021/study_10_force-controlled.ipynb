{
 "cells": [
  {
   "cell_type": "markdown",
   "id": "dbc9a6d4-2a8f-4333-b64e-762210c2e134",
   "metadata": {},
   "source": [
    "# Study force-controlled single facet"
   ]
  },
  {
   "cell_type": "markdown",
   "id": "f03856d8-e347-42ec-8039-85a4cd049e94",
   "metadata": {},
   "source": [
    "TODO\n",
    " - Section 1 - costruct a displacement controlled model and show the load displacement curve for\n",
    "   sliding\n",
    " - Section 2 - with the identified "
   ]
  },
  {
   "cell_type": "code",
   "execution_count": 1,
   "id": "9d61e064-7bd0-4ed3-a41e-421658cc56fe",
   "metadata": {},
   "outputs": [],
   "source": [
    "%matplotlib widget\n",
    "import time\n",
    "from bmcs_expsim.utils.mlab_decorators import decorate_figure\n",
    "from mayavi import mlab\n",
    "import numpy as np\n",
    "np.seterr(divide='ignore', invalid='ignore') \n",
    "import warnings\n",
    "import matplotlib.pylab as plt"
   ]
  },
  {
   "cell_type": "code",
   "execution_count": 2,
   "id": "8eb03d30-e482-4561-8c3a-56d275d35ac9",
   "metadata": {},
   "outputs": [],
   "source": [
    "from ibvpy.api import TStepBC, TFCyclicNonsymmetricConstant, TFBilinear\n",
    "from ibvpy.bcond import BCSlice, BCDof\n",
    "from ibvpy.xmodel.xdomain_fe_grid import XDomainFEGrid\n",
    "from ibvpy.xmodel.xdomain_interface import XDomainFEInterface"
   ]
  },
  {
   "cell_type": "code",
   "execution_count": 3,
   "id": "386f2e9e-8822-4b39-a723-3f755ea493ec",
   "metadata": {},
   "outputs": [],
   "source": [
    "from ibvpy.fets import FETS2D4Q\n",
    "from ibvpy.fets import FETS3D8H\n",
    "from ibvpy.fets.fets1D5 import FETS1D52ULRH"
   ]
  },
  {
   "cell_type": "code",
   "execution_count": 4,
   "id": "eb9547e9-5164-437c-8f5f-af5a5e79ae22",
   "metadata": {},
   "outputs": [],
   "source": [
    "from bmcs_matmod.slide.vslide_34 import Slide34\n",
    "from ibvpy.tmodel.mats3D.mats3D_elastic.vmats3D_elastic import \\\n",
    "    MATS3DElastic\n",
    "from ibvpy.tmodel.mats2D.mats2D_elastic.vmats2D_elastic import \\\n",
    "    MATS2DElastic\n",
    "from bmcs_utils.api import Model"
   ]
  },
  {
   "cell_type": "code",
   "execution_count": 5,
   "id": "0d4c0ca3-88ba-454e-932a-2e40c38beef9",
   "metadata": {},
   "outputs": [],
   "source": [
    "from ibvpy.tmodel.viz3d_scalar_field import \\\n",
    "    Vis3DStateField, Viz3DScalarField\n",
    "from ibvpy.tmodel.viz3d_tensor_field import \\\n",
    "    Vis3DTensorField, Viz3DTensorField"
   ]
  },
  {
   "cell_type": "code",
   "execution_count": 6,
   "id": "18b930d9-22ac-4eb2-9d00-3337234b9f7e",
   "metadata": {},
   "outputs": [],
   "source": [
    "# plt.rcParams['text.usetex']=True\n",
    "# #plt.rc('text.latex', preamble=r'\\usepackage[bitstream-charter]{mathdesign}')\n",
    "# plt.rcParams['font.size'] = 7\n",
    "\n",
    "# # Times, Palatino, New Century Schoolbook, Bookman, Computer Modern Roman\n",
    "# plt.rc('font',**{'family':'serif','serif':['Computer Modern Roman']}) \n",
    "\n",
    "# import matplotlib\n",
    "# matplotlib.use('pgf')\n",
    "# plt.rcParams[\"pgf.texsystem\"] = \"xelatex\"\n",
    "# plt.rcParams[\"pgf.rcfonts\"] = False\n",
    "\n",
    "# preamble = r'''\\usepackage[utf8]{inputenc} %unicode support\n",
    "# \\usepackage[czech]{babel}\n",
    "# \\usepackage[T1]{fontenc}\n",
    "# \\DeclareMathAlphabet{\\pazocal}{OMS}{zplm}{m}{n}\n",
    "# \\usepackage{calrsfs}\n",
    "# \\usepackage{amsmath}\n",
    "# \\usepackage{bm}\n",
    "# \\usepackage[bitstream-charter]{mathdesign}\n",
    "# %\\usepackage{xcolor}\n",
    "# '''\n",
    "# plt.rc('text.latex', preamble=preamble)\n",
    "# plt.rcParams[\"pgf.preamble\"] = preamble"
   ]
  },
  {
   "cell_type": "code",
   "execution_count": 8,
   "id": "33cd4393-8ece-47e0-accb-a62afce7f353",
   "metadata": {},
   "outputs": [],
   "source": [
    "compression_range = np.array(np.linspace(0,-30,3))\n",
    "\n",
    "m_list = []\n",
    "\n",
    "for compression in compression_range: # compression_range:\n",
    "\n",
    "    n_e = 1\n",
    "    L_x = 1.0\n",
    "    \n",
    "    xd_lower = XDomainFEGrid(coord_min=(0, -1),\n",
    "                              coord_max=(1, 0),\n",
    "                              shape=(1, 1),\n",
    "                              fets=FETS2D4Q())\n",
    "    xd_upper = XDomainFEGrid(coord_min=(0, 0),\n",
    "                              coord_max=(1, 1),\n",
    "                              shape=(1, 1),\n",
    "                              fets=FETS2D4Q())\n",
    "    \n",
    "    m1 = MATS2DElastic(E=40000, nu=0.2)\n",
    "    m2 = MATS2DElastic(E=40000, nu=0.2)\n",
    "\n",
    "    xd12 = XDomainFEInterface(\n",
    "        I=xd_lower.mesh.I[-1, :],\n",
    "        J=xd_upper.mesh.I[0, :],\n",
    "        fets=FETS1D52ULRH()\n",
    "    )\n",
    "    \n",
    "    material_params = dict(\n",
    "         E_T=100, gamma_T=200, K_T=0, S_T=0.05, c_T=3, bartau=3, \n",
    "         E_N=100, S_N=0.05, c_N = 3, m = 0.15, f_t=5, f_c=80, f_c0 = 40, eta=0.2)\n",
    "    \n",
    "#    material_params = dict(\n",
    "#    E_T=10000, gamma_T=4000, K_T=0, S_T=0.0001, c_T=2, bartau=5, \n",
    "#    E_N=20000, S_N=10000000.5, c_N = 1, m = 0.008, f_t=5, f_c=150, f_c0=100, eta=0.0\n",
    "#    )\n",
    "    \n",
    "    bond_m = Slide34(**material_params)\n",
    "    \n",
    "    m = TStepBC(\n",
    "        domains=[\n",
    "            (xd_lower, m1),\n",
    "            (xd_upper, m2),\n",
    "            (xd12, bond_m),\n",
    "        ],\n",
    "    )\n",
    "    \n",
    "    tf_force = TFBilinear(loading_ratio=0.99, time_ratio=0.5)\n",
    "    tf_disp = TFBilinear(loading_ratio=0.00, time_ratio=0.5)\n",
    "    \n",
    "    load_dim = 0 # \n",
    "    fixed_dim = 1 # 0 - x, 1 - y\n",
    "    \n",
    "    upper_control_slice = BCSlice(slice=xd_upper.mesh[:, :, :, :],\n",
    "                              var='u', dims=[load_dim], value=0)\n",
    "    upper_control_dofs = upper_control_slice.dofs\n",
    "    upper_control = [BCDof(var='u', dof=dof, value=0.4 , time_function=tf_disp) \n",
    "                     for dof in upper_control_dofs ]\n",
    "    \n",
    "    F = compression / len(upper_control_dofs)\n",
    "\n",
    "    upper_compression_slice = BCSlice(slice=xd_upper.mesh[:, :, :, :],\n",
    "             var='u', dims=[fixed_dim], value=0)\n",
    "    upper_compression_dofs = upper_compression_slice.dofs\n",
    "    upper_compression = [BCDof(var='f', dof=dof, value = F , time_function=tf_force ) \n",
    "                     for dof in upper_compression_dofs ]\n",
    "    lower_fixed = BCSlice(slice=xd_lower.mesh[:, :, :, :],\n",
    "             var='u', dims=[0,1], value=0)\n",
    "    bc1 = upper_control + upper_compression + [lower_fixed]\n",
    "\n",
    "    m.bc=bc1\n",
    "    m.hist.vis_record = {\n",
    "        'strain': Vis3DTensorField(var='eps_ab'),\n",
    "    }\n",
    "    s = m.sim\n",
    "    s.tloop.verbose = False # set false to avoid the prints during each increment\n",
    "    s.tloop.k_max = 50\n",
    "    s.tline.step = 0.01\n",
    "    s.reset()\n",
    "    s.run()\n",
    "    m_list.append(m)"
   ]
  },
  {
   "cell_type": "code",
   "execution_count": 9,
   "id": "5a04ab99-41ad-405c-960f-f963d507e5c4",
   "metadata": {},
   "outputs": [
    {
     "data": {
      "application/vnd.jupyter.widget-view+json": {
       "model_id": "e423d5603c714827857015d324e7e740",
       "version_major": 2,
       "version_minor": 0
      },
      "text/plain": [
       "Canvas(toolbar=Toolbar(toolitems=[('Home', 'Reset original view', 'home', 'home'), ('Back', 'Back to previous …"
      ]
     },
     "metadata": {},
     "output_type": "display_data"
    }
   ],
   "source": [
    "import matplotlib.pylab as plt\n",
    "fig, ((ax1,  ax2, ax3,  ax4)) =  plt.subplots(1,4, figsize=(16/2.54, 6/2.54)) #, constrained_layout=False)\n",
    "fig.canvas.header_visible=False\n",
    "fig.tight_layout()\n",
    "\n",
    "max_F = []\n",
    "\n",
    "for i in range(len(m_list)):\n",
    "    \n",
    "    m = m_list[i]\n",
    "    F_to = m.hist.F_t\n",
    "    U_to = m.hist.U_t\n",
    "    F_l_t = np.sum(F_to[:, upper_control_dofs], axis=-1)\n",
    "    U_r_t = np.average(U_to[:, upper_control_dofs], axis=-1)\n",
    "    \n",
    "    states_t = [states_t[2] for states_t in m.hist.state_vars]\n",
    "    var_names = states_t[0].keys()\n",
    "    EpsSig_t = {\n",
    "        var_name: np.array([ state_dict[var_name] for state_dict in states_t ]) \n",
    "        for var_name in var_names \n",
    "    }\n",
    "    \n",
    "    time = np.arange(len(F_l_t))\n",
    "    \n",
    "    ax1.plot(time/time[-1], EpsSig_t['tau_pi_x'][:,0,0], label=str(compression_range[i] ))\n",
    "    ax1.set_xlabel('time')\n",
    "    ax1.set_ylabel('$\\sigma_T$')\n",
    "    ax1.legend()\n",
    "\n",
    "    ax2.plot(time/time[-1], -EpsSig_t['sig_pi'][:,0,0])\n",
    "    ax2.set_xlabel('time')\n",
    "    ax2.set_ylabel('$\\sigma_N$')\n",
    "    \n",
    "    ax3.plot(U_r_t, -EpsSig_t['omega_T'][:,0,0])\n",
    "    ax3.set_xlabel('s_x')\n",
    "    ax3.set_ylabel('$\\omega_T$')\n",
    "    \n",
    "    \n",
    "    ax4.plot(U_r_t, -EpsSig_t['omega_N'][:,0,0])\n",
    "    ax4.set_xlabel('s_x')\n",
    "    ax4.set_ylabel('$\\omega_N$')\n",
    "    \n",
    "    max_F.append(max(abs( -EpsSig_t['tau_pi_x'][:,0,0])))\n",
    "\n",
    "#fname= 'ElsevierFont.pdf'\n",
    "#plt.savefig(fname, bbox_inches='tight', pad_inches=0.01/2.54, dpi=300)\n",
    "##get the link to the PDF\n",
    "#from IPython.display import FileLink\n",
    "#FileLink(fname)\n",
    "#p#lt.plot()"
   ]
  },
  {
   "cell_type": "code",
   "execution_count": 12,
   "id": "5d597259-0537-4033-869e-a82fd27fbe5d",
   "metadata": {},
   "outputs": [
    {
     "data": {
      "application/vnd.jupyter.widget-view+json": {
       "model_id": "4634e24e8a7841fd8aaddb913cd8eabd",
       "version_major": 2,
       "version_minor": 0
      },
      "text/plain": [
       "VBox(children=(HBox(children=(VBox(children=(Tree(layout=Layout(align_items='stretch', border='solid 1px black…"
      ]
     },
     "metadata": {},
     "output_type": "display_data"
    }
   ],
   "source": [
    "number_of_cycles=1\n",
    "shift_cycles=1\n",
    "\n",
    "tf_cyclic = TFCyclicNonsymmetricConstant(number_of_cycles=number_of_cycles, unloading_ratio=0.05, shift_cycles=shift_cycles)\n",
    "tf_confinement = TFBilinear(loading_ratio=0.99, time_ratio=1/(number_of_cycles+shift_cycles))\n",
    "tf_cyclic.interact()"
   ]
  },
  {
   "cell_type": "code",
   "execution_count": 16,
   "id": "dd565b6b-df17-4399-80b9-ba1ea7648967",
   "metadata": {},
   "outputs": [],
   "source": [
    "m = m_list[1]\n",
    "if False:\n",
    "    mlab.options.backend = 'envisage'\n",
    "    mlab.options.offscreen = False # 'envisage'\n",
    "    f_strain = mlab.figure()\n",
    "    scene = mlab.get_engine().scenes[-1]\n",
    "    scene.name = 'strain'\n",
    "    strain_viz = Viz3DTensorField(vis3d=m.hist['strain'])\n",
    "    strain_viz.setup()\n",
    "    strain_viz.warp_vector.filter.scale_factor = 0.1\n",
    "    strain_viz.plot(s.tstep.t_n)\n",
    "    mlab.show()"
   ]
  },
  {
   "cell_type": "code",
   "execution_count": 17,
   "id": "cda48497-4141-4109-8683-bed738f5a543",
   "metadata": {},
   "outputs": [
    {
     "data": {
      "text/plain": [
       "[10.174369740579188, 10.775699740336076, 6.108358949452149]"
      ]
     },
     "execution_count": 17,
     "metadata": {},
     "output_type": "execute_result"
    }
   ],
   "source": [
    "max_F"
   ]
  },
  {
   "cell_type": "code",
   "execution_count": 26,
   "id": "bdc23e0b-f4d9-4fb7-97f8-e77112d2959f",
   "metadata": {},
   "outputs": [
    {
     "name": "stdout",
     "output_type": "stream",
     "text": [
      "t:\t 0.00(0), \n",
      "\t 0.01(0), \n",
      "\t 0.02(0), \n",
      "\t 0.03(0), \n",
      "\t 0.04(0), \n",
      "\t 0.05(0), \n",
      "\t 0.06(0), \n",
      "\t 0.07(0), \n",
      "\t 0.08(0), \n",
      "\t 0.09(0), \n",
      "\t 0.10(0), \n",
      "\t 0.11(0), \n",
      "\t 0.12(0), \n",
      "\t 0.13(0), \n",
      "\t 0.14(0), \n",
      "\t 0.15(0), \n",
      "\t 0.16(0), \n",
      "\t 0.17(0), \n",
      "\t 0.18(0), \n",
      "\t 0.19(0), \n",
      "\t 0.20(0), \n",
      "\t 0.21(0), \n",
      "\t 0.22(0), \n",
      "\t 0.23(0), \n",
      "\t 0.24(0), \n",
      "\t 0.25(0), \n",
      "\t 0.26(0), \n",
      "\t 0.27(0), \n",
      "\t 0.28(0), \n",
      "\t 0.29(0), \n",
      "\t 0.30(0), \n",
      "\t 0.31(0), \n",
      "\t 0.32(0), \n",
      "\t 0.33(0), \n",
      "\t 0.34(0), \n",
      "\t 0.35(0), \n",
      "\t 0.36(0), \n",
      "\t 0.37(0), \n",
      "\t 0.38(0), \n",
      "\t 0.39(0), \n",
      "\t 0.40(0), \n",
      "\t 0.41(0), \n",
      "\t 0.42(0), \n",
      "\t 0.43(0), \n",
      "\t 0.44(0), \n",
      "\t 0.45(0), \n",
      "\t 0.46(0), \n",
      "\t 0.47(0), \n",
      "\t 0.48(0), \n",
      "\t 0.49(0), \n",
      "\t 0.50(0), \n",
      "\t 0.51(1), \n",
      "\t 0.52(1), \n",
      "\t 0.53(1), \n",
      "\t 0.54(1), \n",
      "\t 0.55(1), \n",
      "\t 0.56(1), \n",
      "\t 0.57(1), \n",
      "\t 0.58(1), \n",
      "\t 0.59(1), \n",
      "\t 0.60(1), \n",
      "\t 0.61(7), \n",
      "\t 0.62(8), \n",
      "\t 0.63(8), \n",
      "\t 0.64(8), \n",
      "\t 0.65(8), \n",
      "\t 0.66(8), \n",
      "\t 0.67(9), \n",
      "\t 0.68(9), \n",
      "\t 0.69(9), \n",
      "\t 0.70(9), \n",
      "\t 0.71(10), \n",
      "\t 0.72(10), \n",
      "\t 0.73(10), \n",
      "\t 0.74(11), \n",
      "\t 0.75(12), \n",
      "\t 0.76(1), \n",
      "\t 0.77(1), \n",
      "\t 0.78(1), \n",
      "\t 0.79(1), \n",
      "\t 0.80(1), \n",
      "\t 0.81(1), \n",
      "\t 0.82(1), \n",
      "\t 0.83(1), \n",
      "\t 0.84(1), \n",
      "\t 0.85(1), \n",
      "\t 0.86(1), \n",
      "\t 0.87(1), \n",
      "\t 0.88(1), \n",
      "\t 0.89(1), \n",
      "\t 0.90(1), \n",
      "\t 0.91(1), \n",
      "\t 0.92(1), \n",
      "\t 0.93(1), \n",
      "\t 0.94(1), \n",
      "\t 0.95(1), \n",
      "\t 0.96(7), \n",
      "\t 0.97(8), \n",
      "\t 0.98(8), \n",
      "\t 0.99(8), \n",
      "\t 1.00(18), \n",
      "\n",
      "t:\t 0.00(0), \n",
      "\t 0.01(1), \n",
      "\t 0.02(1), \n",
      "\t 0.03(1), \n",
      "\t 0.04(1), \n",
      "\t 0.05(8), \n",
      "\t 0.06(10), \n",
      "\t 0.07(11), \n",
      "\t 0.08(12), \n",
      "\t 0.09(15), \n",
      "\t 0.10(23), \n",
      "\t 0.11"
     ]
    },
    {
     "ename": "RuntimeError",
     "evalue": "Factor is exactly singular",
     "output_type": "error",
     "traceback": [
      "\u001b[1;31m---------------------------------------------------------------------------\u001b[0m",
      "\u001b[1;31mRuntimeError\u001b[0m                              Traceback (most recent call last)",
      "\u001b[1;32m<ipython-input-26-2fa461c266a0>\u001b[0m in \u001b[0;36m<module>\u001b[1;34m\u001b[0m\n\u001b[0;32m     82\u001b[0m     \u001b[0ms\u001b[0m\u001b[1;33m.\u001b[0m\u001b[0mtline\u001b[0m\u001b[1;33m.\u001b[0m\u001b[0mstep\u001b[0m \u001b[1;33m=\u001b[0m \u001b[1;36m0.01\u001b[0m\u001b[1;33m\u001b[0m\u001b[1;33m\u001b[0m\u001b[0m\n\u001b[0;32m     83\u001b[0m     \u001b[0ms\u001b[0m\u001b[1;33m.\u001b[0m\u001b[0mreset\u001b[0m\u001b[1;33m(\u001b[0m\u001b[1;33m)\u001b[0m\u001b[1;33m\u001b[0m\u001b[1;33m\u001b[0m\u001b[0m\n\u001b[1;32m---> 84\u001b[1;33m     \u001b[0ms\u001b[0m\u001b[1;33m.\u001b[0m\u001b[0mrun\u001b[0m\u001b[1;33m(\u001b[0m\u001b[1;33m)\u001b[0m\u001b[1;33m\u001b[0m\u001b[1;33m\u001b[0m\u001b[0m\n\u001b[0m\u001b[0;32m     85\u001b[0m     \u001b[0mm_list_cyclic\u001b[0m\u001b[1;33m.\u001b[0m\u001b[0mappend\u001b[0m\u001b[1;33m(\u001b[0m\u001b[0mm\u001b[0m\u001b[1;33m)\u001b[0m\u001b[1;33m\u001b[0m\u001b[1;33m\u001b[0m\u001b[0m\n",
      "\u001b[1;32mc:\\users\\marag\\pycharmprojects\\bmcs_ibvpy\\ibvpy\\sim\\sim_base.py\u001b[0m in \u001b[0;36mrun\u001b[1;34m(self)\u001b[0m\n\u001b[0;32m     57\u001b[0m         r'''Run a thread if it does not exist - do nothing otherwise\n\u001b[0;32m     58\u001b[0m         '''\n\u001b[1;32m---> 59\u001b[1;33m         \u001b[0mself\u001b[0m\u001b[1;33m.\u001b[0m\u001b[0mtloop\u001b[0m\u001b[1;33m(\u001b[0m\u001b[1;33m)\u001b[0m\u001b[1;33m\u001b[0m\u001b[1;33m\u001b[0m\u001b[0m\n\u001b[0m\u001b[0;32m     60\u001b[0m         \u001b[1;32mreturn\u001b[0m\u001b[1;33m\u001b[0m\u001b[1;33m\u001b[0m\u001b[0m\n\u001b[0;32m     61\u001b[0m \u001b[1;33m\u001b[0m\u001b[0m\n",
      "\u001b[1;32mc:\\users\\marag\\pycharmprojects\\bmcs_ibvpy\\ibvpy\\sim\\tloop.py\u001b[0m in \u001b[0;36m__call__\u001b[1;34m(self)\u001b[0m\n\u001b[0;32m     63\u001b[0m     \u001b[1;32mdef\u001b[0m \u001b[0m__call__\u001b[0m\u001b[1;33m(\u001b[0m\u001b[0mself\u001b[0m\u001b[1;33m)\u001b[0m\u001b[1;33m:\u001b[0m\u001b[1;33m\u001b[0m\u001b[1;33m\u001b[0m\u001b[0m\n\u001b[0;32m     64\u001b[0m         \u001b[0mself\u001b[0m\u001b[1;33m.\u001b[0m\u001b[0minit\u001b[0m\u001b[1;33m(\u001b[0m\u001b[1;33m)\u001b[0m\u001b[1;33m\u001b[0m\u001b[1;33m\u001b[0m\u001b[0m\n\u001b[1;32m---> 65\u001b[1;33m         \u001b[1;32mreturn\u001b[0m \u001b[0mself\u001b[0m\u001b[1;33m.\u001b[0m\u001b[0meval\u001b[0m\u001b[1;33m(\u001b[0m\u001b[1;33m)\u001b[0m\u001b[1;33m\u001b[0m\u001b[1;33m\u001b[0m\u001b[0m\n\u001b[0m",
      "\u001b[1;32mc:\\users\\marag\\pycharmprojects\\bmcs_ibvpy\\ibvpy\\sim\\tloop_implicit.py\u001b[0m in \u001b[0;36meval\u001b[1;34m(self)\u001b[0m\n\u001b[0;32m     43\u001b[0m                     \u001b[0mself\u001b[0m\u001b[1;33m.\u001b[0m\u001b[0mtstep\u001b[0m\u001b[1;33m.\u001b[0m\u001b[0mmake_iter\u001b[0m\u001b[1;33m(\u001b[0m\u001b[1;33m)\u001b[0m\u001b[1;33m\u001b[0m\u001b[1;33m\u001b[0m\u001b[0m\n\u001b[0;32m     44\u001b[0m                 \u001b[1;32mexcept\u001b[0m \u001b[0mRuntimeError\u001b[0m \u001b[1;32mas\u001b[0m \u001b[0me\u001b[0m\u001b[1;33m:\u001b[0m\u001b[1;33m\u001b[0m\u001b[1;33m\u001b[0m\u001b[0m\n\u001b[1;32m---> 45\u001b[1;33m                     \u001b[1;32mraise\u001b[0m\u001b[1;33m(\u001b[0m\u001b[0me\u001b[0m\u001b[1;33m)\u001b[0m\u001b[1;33m\u001b[0m\u001b[1;33m\u001b[0m\u001b[0m\n\u001b[0m\u001b[0;32m     46\u001b[0m                 \u001b[0mk\u001b[0m \u001b[1;33m+=\u001b[0m \u001b[1;36m1\u001b[0m\u001b[1;33m\u001b[0m\u001b[1;33m\u001b[0m\u001b[0m\n\u001b[0;32m     47\u001b[0m             \u001b[1;32melse\u001b[0m\u001b[1;33m:\u001b[0m  \u001b[1;31m# handle unfinished iteration loop\u001b[0m\u001b[1;33m\u001b[0m\u001b[1;33m\u001b[0m\u001b[0m\n",
      "\u001b[1;32mc:\\users\\marag\\pycharmprojects\\bmcs_ibvpy\\ibvpy\\sim\\tloop_implicit.py\u001b[0m in \u001b[0;36meval\u001b[1;34m(self)\u001b[0m\n\u001b[0;32m     41\u001b[0m                     \u001b[1;32mbreak\u001b[0m\u001b[1;33m\u001b[0m\u001b[1;33m\u001b[0m\u001b[0m\n\u001b[0;32m     42\u001b[0m                 \u001b[1;32mtry\u001b[0m\u001b[1;33m:\u001b[0m\u001b[1;33m\u001b[0m\u001b[1;33m\u001b[0m\u001b[0m\n\u001b[1;32m---> 43\u001b[1;33m                     \u001b[0mself\u001b[0m\u001b[1;33m.\u001b[0m\u001b[0mtstep\u001b[0m\u001b[1;33m.\u001b[0m\u001b[0mmake_iter\u001b[0m\u001b[1;33m(\u001b[0m\u001b[1;33m)\u001b[0m\u001b[1;33m\u001b[0m\u001b[1;33m\u001b[0m\u001b[0m\n\u001b[0m\u001b[0;32m     44\u001b[0m                 \u001b[1;32mexcept\u001b[0m \u001b[0mRuntimeError\u001b[0m \u001b[1;32mas\u001b[0m \u001b[0me\u001b[0m\u001b[1;33m:\u001b[0m\u001b[1;33m\u001b[0m\u001b[1;33m\u001b[0m\u001b[0m\n\u001b[0;32m     45\u001b[0m                     \u001b[1;32mraise\u001b[0m\u001b[1;33m(\u001b[0m\u001b[0me\u001b[0m\u001b[1;33m)\u001b[0m\u001b[1;33m\u001b[0m\u001b[1;33m\u001b[0m\u001b[0m\n",
      "\u001b[1;32mc:\\users\\marag\\pycharmprojects\\bmcs_ibvpy\\ibvpy\\sim\\tstep_bc.py\u001b[0m in \u001b[0;36mmake_iter\u001b[1;34m(self)\u001b[0m\n\u001b[0;32m    147\u001b[0m         '''Perform a single iteration\n\u001b[0;32m    148\u001b[0m         '''\n\u001b[1;32m--> 149\u001b[1;33m         \u001b[0md_U_k\u001b[0m\u001b[1;33m,\u001b[0m \u001b[0mpos_def\u001b[0m \u001b[1;33m=\u001b[0m \u001b[0mself\u001b[0m\u001b[1;33m.\u001b[0m\u001b[0mK\u001b[0m\u001b[1;33m.\u001b[0m\u001b[0msolve\u001b[0m\u001b[1;33m(\u001b[0m\u001b[0mcheck_pos_def\u001b[0m\u001b[1;33m=\u001b[0m\u001b[1;32mTrue\u001b[0m\u001b[1;33m)\u001b[0m\u001b[1;33m\u001b[0m\u001b[1;33m\u001b[0m\u001b[0m\n\u001b[0m\u001b[0;32m    150\u001b[0m         \u001b[1;32mif\u001b[0m \u001b[0mself\u001b[0m\u001b[1;33m.\u001b[0m\u001b[0mdebug\u001b[0m\u001b[1;33m:\u001b[0m\u001b[1;33m\u001b[0m\u001b[1;33m\u001b[0m\u001b[0m\n\u001b[0;32m    151\u001b[0m             \u001b[0mprint\u001b[0m\u001b[1;33m(\u001b[0m\u001b[1;34m'positive definite'\u001b[0m\u001b[1;33m,\u001b[0m \u001b[0mpos_def\u001b[0m\u001b[1;33m)\u001b[0m\u001b[1;33m\u001b[0m\u001b[1;33m\u001b[0m\u001b[0m\n",
      "\u001b[1;32mc:\\users\\marag\\pycharmprojects\\bmcs_ibvpy\\ibvpy\\mathkit\\linalg\\sys_mtx_assembly.py\u001b[0m in \u001b[0;36msolve\u001b[1;34m(self, rhs, matrix_type, check_pos_def)\u001b[0m\n\u001b[0;32m    267\u001b[0m \u001b[1;33m\u001b[0m\u001b[0m\n\u001b[0;32m    268\u001b[0m         \u001b[0mmtx\u001b[0m \u001b[1;33m=\u001b[0m \u001b[0mself\u001b[0m\u001b[1;33m.\u001b[0m\u001b[0mmatrix_type_\u001b[0m\u001b[1;33m(\u001b[0m\u001b[0massemb\u001b[0m\u001b[1;33m=\u001b[0m\u001b[0mself\u001b[0m\u001b[1;33m)\u001b[0m\u001b[1;33m\u001b[0m\u001b[1;33m\u001b[0m\u001b[0m\n\u001b[1;32m--> 269\u001b[1;33m         \u001b[1;32mreturn\u001b[0m \u001b[0mmtx\u001b[0m\u001b[1;33m.\u001b[0m\u001b[0msolve\u001b[0m\u001b[1;33m(\u001b[0m\u001b[0mself\u001b[0m\u001b[1;33m.\u001b[0m\u001b[0m_rhs\u001b[0m\u001b[1;33m,\u001b[0m \u001b[0mcheck_pos_def\u001b[0m\u001b[1;33m)\u001b[0m\u001b[1;33m\u001b[0m\u001b[1;33m\u001b[0m\u001b[0m\n\u001b[0m\u001b[0;32m    270\u001b[0m \u001b[1;33m\u001b[0m\u001b[0m\n\u001b[0;32m    271\u001b[0m     \u001b[1;32mdef\u001b[0m \u001b[0mreset\u001b[0m\u001b[1;33m(\u001b[0m\u001b[0mself\u001b[0m\u001b[1;33m)\u001b[0m\u001b[1;33m:\u001b[0m\u001b[1;33m\u001b[0m\u001b[1;33m\u001b[0m\u001b[0m\n",
      "\u001b[1;32mc:\\users\\marag\\pycharmprojects\\bmcs_ibvpy\\ibvpy\\mathkit\\linalg\\coo_mtx.py\u001b[0m in \u001b[0;36msolve\u001b[1;34m(self, rhs, check_pos_dev)\u001b[0m\n\u001b[0;32m     77\u001b[0m         \u001b[0mpos_def\u001b[0m \u001b[1;33m=\u001b[0m \u001b[1;32mTrue\u001b[0m\u001b[1;33m\u001b[0m\u001b[1;33m\u001b[0m\u001b[0m\n\u001b[0;32m     78\u001b[0m         \u001b[1;32mif\u001b[0m \u001b[0mcheck_pos_dev\u001b[0m\u001b[1;33m:\u001b[0m\u001b[1;33m\u001b[0m\u001b[1;33m\u001b[0m\u001b[0m\n\u001b[1;32m---> 79\u001b[1;33m             \u001b[0mevals_small\u001b[0m\u001b[1;33m,\u001b[0m \u001b[0mevecs_small\u001b[0m \u001b[1;33m=\u001b[0m \u001b[0meigsh\u001b[0m\u001b[1;33m(\u001b[0m\u001b[0mmtx_csr\u001b[0m\u001b[1;33m,\u001b[0m \u001b[1;36m3\u001b[0m\u001b[1;33m,\u001b[0m \u001b[0msigma\u001b[0m\u001b[1;33m=\u001b[0m\u001b[1;36m0\u001b[0m\u001b[1;33m,\u001b[0m \u001b[0mwhich\u001b[0m\u001b[1;33m=\u001b[0m\u001b[1;34m'LM'\u001b[0m\u001b[1;33m)\u001b[0m\u001b[1;33m\u001b[0m\u001b[1;33m\u001b[0m\u001b[0m\n\u001b[0m\u001b[0;32m     80\u001b[0m             \u001b[0mmin_eval\u001b[0m \u001b[1;33m=\u001b[0m \u001b[0mnp\u001b[0m\u001b[1;33m.\u001b[0m\u001b[0mmin\u001b[0m\u001b[1;33m(\u001b[0m\u001b[0mevals_small\u001b[0m\u001b[1;33m)\u001b[0m\u001b[1;33m\u001b[0m\u001b[1;33m\u001b[0m\u001b[0m\n\u001b[0;32m     81\u001b[0m             \u001b[0mpos_def\u001b[0m \u001b[1;33m=\u001b[0m \u001b[0mmin_eval\u001b[0m \u001b[1;33m>\u001b[0m \u001b[1;36m1e-10\u001b[0m\u001b[1;33m\u001b[0m\u001b[1;33m\u001b[0m\u001b[0m\n",
      "\u001b[1;32m~\\miniconda3\\envs\\bmcs_env\\lib\\site-packages\\scipy\\sparse\\linalg\\eigen\\arpack\\arpack.py\u001b[0m in \u001b[0;36meigsh\u001b[1;34m(A, k, M, sigma, which, v0, ncv, maxiter, tol, return_eigenvectors, Minv, OPinv, mode)\u001b[0m\n\u001b[0;32m   1642\u001b[0m             \u001b[0mmatvec\u001b[0m \u001b[1;33m=\u001b[0m \u001b[1;32mNone\u001b[0m\u001b[1;33m\u001b[0m\u001b[1;33m\u001b[0m\u001b[0m\n\u001b[0;32m   1643\u001b[0m             \u001b[1;32mif\u001b[0m \u001b[0mOPinv\u001b[0m \u001b[1;32mis\u001b[0m \u001b[1;32mNone\u001b[0m\u001b[1;33m:\u001b[0m\u001b[1;33m\u001b[0m\u001b[1;33m\u001b[0m\u001b[0m\n\u001b[1;32m-> 1644\u001b[1;33m                 Minv_matvec = get_OPinv_matvec(A, M, sigma,\n\u001b[0m\u001b[0;32m   1645\u001b[0m                                                hermitian=True, tol=tol)\n\u001b[0;32m   1646\u001b[0m             \u001b[1;32melse\u001b[0m\u001b[1;33m:\u001b[0m\u001b[1;33m\u001b[0m\u001b[1;33m\u001b[0m\u001b[0m\n",
      "\u001b[1;32m~\\miniconda3\\envs\\bmcs_env\\lib\\site-packages\\scipy\\sparse\\linalg\\eigen\\arpack\\arpack.py\u001b[0m in \u001b[0;36mget_OPinv_matvec\u001b[1;34m(A, M, sigma, hermitian, tol)\u001b[0m\n\u001b[0;32m   1056\u001b[0m \u001b[1;32mdef\u001b[0m \u001b[0mget_OPinv_matvec\u001b[0m\u001b[1;33m(\u001b[0m\u001b[0mA\u001b[0m\u001b[1;33m,\u001b[0m \u001b[0mM\u001b[0m\u001b[1;33m,\u001b[0m \u001b[0msigma\u001b[0m\u001b[1;33m,\u001b[0m \u001b[0mhermitian\u001b[0m\u001b[1;33m=\u001b[0m\u001b[1;32mFalse\u001b[0m\u001b[1;33m,\u001b[0m \u001b[0mtol\u001b[0m\u001b[1;33m=\u001b[0m\u001b[1;36m0\u001b[0m\u001b[1;33m)\u001b[0m\u001b[1;33m:\u001b[0m\u001b[1;33m\u001b[0m\u001b[1;33m\u001b[0m\u001b[0m\n\u001b[0;32m   1057\u001b[0m     \u001b[1;32mif\u001b[0m \u001b[0msigma\u001b[0m \u001b[1;33m==\u001b[0m \u001b[1;36m0\u001b[0m\u001b[1;33m:\u001b[0m\u001b[1;33m\u001b[0m\u001b[1;33m\u001b[0m\u001b[0m\n\u001b[1;32m-> 1058\u001b[1;33m         \u001b[1;32mreturn\u001b[0m \u001b[0mget_inv_matvec\u001b[0m\u001b[1;33m(\u001b[0m\u001b[0mA\u001b[0m\u001b[1;33m,\u001b[0m \u001b[0mhermitian\u001b[0m\u001b[1;33m=\u001b[0m\u001b[0mhermitian\u001b[0m\u001b[1;33m,\u001b[0m \u001b[0mtol\u001b[0m\u001b[1;33m=\u001b[0m\u001b[0mtol\u001b[0m\u001b[1;33m)\u001b[0m\u001b[1;33m\u001b[0m\u001b[1;33m\u001b[0m\u001b[0m\n\u001b[0m\u001b[0;32m   1059\u001b[0m \u001b[1;33m\u001b[0m\u001b[0m\n\u001b[0;32m   1060\u001b[0m     \u001b[1;32mif\u001b[0m \u001b[0mM\u001b[0m \u001b[1;32mis\u001b[0m \u001b[1;32mNone\u001b[0m\u001b[1;33m:\u001b[0m\u001b[1;33m\u001b[0m\u001b[1;33m\u001b[0m\u001b[0m\n",
      "\u001b[1;32m~\\miniconda3\\envs\\bmcs_env\\lib\\site-packages\\scipy\\sparse\\linalg\\eigen\\arpack\\arpack.py\u001b[0m in \u001b[0;36mget_inv_matvec\u001b[1;34m(M, hermitian, tol)\u001b[0m\n\u001b[0;32m   1049\u001b[0m     \u001b[1;32melif\u001b[0m \u001b[0misspmatrix\u001b[0m\u001b[1;33m(\u001b[0m\u001b[0mM\u001b[0m\u001b[1;33m)\u001b[0m \u001b[1;32mor\u001b[0m \u001b[0mis_pydata_spmatrix\u001b[0m\u001b[1;33m(\u001b[0m\u001b[0mM\u001b[0m\u001b[1;33m)\u001b[0m\u001b[1;33m:\u001b[0m\u001b[1;33m\u001b[0m\u001b[1;33m\u001b[0m\u001b[0m\n\u001b[0;32m   1050\u001b[0m         \u001b[0mM\u001b[0m \u001b[1;33m=\u001b[0m \u001b[0m_fast_spmatrix_to_csc\u001b[0m\u001b[1;33m(\u001b[0m\u001b[0mM\u001b[0m\u001b[1;33m,\u001b[0m \u001b[0mhermitian\u001b[0m\u001b[1;33m=\u001b[0m\u001b[0mhermitian\u001b[0m\u001b[1;33m)\u001b[0m\u001b[1;33m\u001b[0m\u001b[1;33m\u001b[0m\u001b[0m\n\u001b[1;32m-> 1051\u001b[1;33m         \u001b[1;32mreturn\u001b[0m \u001b[0mSpLuInv\u001b[0m\u001b[1;33m(\u001b[0m\u001b[0mM\u001b[0m\u001b[1;33m)\u001b[0m\u001b[1;33m.\u001b[0m\u001b[0mmatvec\u001b[0m\u001b[1;33m\u001b[0m\u001b[1;33m\u001b[0m\u001b[0m\n\u001b[0m\u001b[0;32m   1052\u001b[0m     \u001b[1;32melse\u001b[0m\u001b[1;33m:\u001b[0m\u001b[1;33m\u001b[0m\u001b[1;33m\u001b[0m\u001b[0m\n\u001b[0;32m   1053\u001b[0m         \u001b[1;32mreturn\u001b[0m \u001b[0mIterInv\u001b[0m\u001b[1;33m(\u001b[0m\u001b[0mM\u001b[0m\u001b[1;33m,\u001b[0m \u001b[0mtol\u001b[0m\u001b[1;33m=\u001b[0m\u001b[0mtol\u001b[0m\u001b[1;33m)\u001b[0m\u001b[1;33m.\u001b[0m\u001b[0mmatvec\u001b[0m\u001b[1;33m\u001b[0m\u001b[1;33m\u001b[0m\u001b[0m\n",
      "\u001b[1;32m~\\miniconda3\\envs\\bmcs_env\\lib\\site-packages\\scipy\\sparse\\linalg\\eigen\\arpack\\arpack.py\u001b[0m in \u001b[0;36m__init__\u001b[1;34m(self, M)\u001b[0m\n\u001b[0;32m    911\u001b[0m     \"\"\"\n\u001b[0;32m    912\u001b[0m     \u001b[1;32mdef\u001b[0m \u001b[0m__init__\u001b[0m\u001b[1;33m(\u001b[0m\u001b[0mself\u001b[0m\u001b[1;33m,\u001b[0m \u001b[0mM\u001b[0m\u001b[1;33m)\u001b[0m\u001b[1;33m:\u001b[0m\u001b[1;33m\u001b[0m\u001b[1;33m\u001b[0m\u001b[0m\n\u001b[1;32m--> 913\u001b[1;33m         \u001b[0mself\u001b[0m\u001b[1;33m.\u001b[0m\u001b[0mM_lu\u001b[0m \u001b[1;33m=\u001b[0m \u001b[0msplu\u001b[0m\u001b[1;33m(\u001b[0m\u001b[0mM\u001b[0m\u001b[1;33m)\u001b[0m\u001b[1;33m\u001b[0m\u001b[1;33m\u001b[0m\u001b[0m\n\u001b[0m\u001b[0;32m    914\u001b[0m         \u001b[0mself\u001b[0m\u001b[1;33m.\u001b[0m\u001b[0mshape\u001b[0m \u001b[1;33m=\u001b[0m \u001b[0mM\u001b[0m\u001b[1;33m.\u001b[0m\u001b[0mshape\u001b[0m\u001b[1;33m\u001b[0m\u001b[1;33m\u001b[0m\u001b[0m\n\u001b[0;32m    915\u001b[0m         \u001b[0mself\u001b[0m\u001b[1;33m.\u001b[0m\u001b[0mdtype\u001b[0m \u001b[1;33m=\u001b[0m \u001b[0mM\u001b[0m\u001b[1;33m.\u001b[0m\u001b[0mdtype\u001b[0m\u001b[1;33m\u001b[0m\u001b[1;33m\u001b[0m\u001b[0m\n",
      "\u001b[1;32m~\\miniconda3\\envs\\bmcs_env\\lib\\site-packages\\scipy\\sparse\\linalg\\dsolve\\linsolve.py\u001b[0m in \u001b[0;36msplu\u001b[1;34m(A, permc_spec, diag_pivot_thresh, relax, panel_size, options)\u001b[0m\n\u001b[0;32m    335\u001b[0m         \u001b[0m_options\u001b[0m\u001b[1;33m[\u001b[0m\u001b[1;34m\"SymmetricMode\"\u001b[0m\u001b[1;33m]\u001b[0m \u001b[1;33m=\u001b[0m \u001b[1;32mTrue\u001b[0m\u001b[1;33m\u001b[0m\u001b[1;33m\u001b[0m\u001b[0m\n\u001b[0;32m    336\u001b[0m \u001b[1;33m\u001b[0m\u001b[0m\n\u001b[1;32m--> 337\u001b[1;33m     return _superlu.gstrf(N, A.nnz, A.data, A.indices, A.indptr,\n\u001b[0m\u001b[0;32m    338\u001b[0m                           \u001b[0mcsc_construct_func\u001b[0m\u001b[1;33m=\u001b[0m\u001b[0mcsc_construct_func\u001b[0m\u001b[1;33m,\u001b[0m\u001b[1;33m\u001b[0m\u001b[1;33m\u001b[0m\u001b[0m\n\u001b[0;32m    339\u001b[0m                           ilu=False, options=_options)\n",
      "\u001b[1;31mRuntimeError\u001b[0m: Factor is exactly singular"
     ]
    }
   ],
   "source": [
    "compression_range = np.array(np.linspace(0,-80,3))\n",
    "\n",
    "m_list_cyclic = []\n",
    "max_F = [10.174369740579188, 10.775699740336076, 6.108358949452149]\n",
    "\n",
    "for i in range(len(max_F)):\n",
    "\n",
    "    n_e = 1\n",
    "    L_x = 1.0\n",
    "    \n",
    "    xd_lower = XDomainFEGrid(coord_min=(0, -1),\n",
    "                              coord_max=(1, 0),\n",
    "                              shape=(1, 1),\n",
    "                              fets=FETS2D4Q())\n",
    "    xd_upper = XDomainFEGrid(coord_min=(0, 0),\n",
    "                              coord_max=(1, 1),\n",
    "                              shape=(1, 1),\n",
    "                              fets=FETS2D4Q())\n",
    "    \n",
    "    m1 = MATS2DElastic(E=40000, nu=0.2)\n",
    "    m2 = MATS2DElastic(E=40000, nu=0.2)\n",
    "\n",
    "    xd12 = XDomainFEInterface(\n",
    "        I=xd_lower.mesh.I[-1, :],\n",
    "        J=xd_upper.mesh.I[0, :],\n",
    "        fets=FETS1D52ULRH()\n",
    "    )\n",
    "    \n",
    "    material_params = dict(\n",
    "    E_T=100, gamma_T=200, K_T=0, S_T=0.05, c_T=3, bartau=3, \n",
    "    E_N=100, S_N=0.05, c_N = 3, m = 0.15, f_t=5, f_c=80, f_c0 = 40, eta=0.2)\n",
    "    \n",
    "    bond_m = Slide34(**material_params)\n",
    "    \n",
    "    m = TStepBC(\n",
    "        domains=[\n",
    "            (xd_lower, m1),\n",
    "            (xd_upper, m2),\n",
    "            (xd12, bond_m),\n",
    "        ],\n",
    "    )\n",
    "    number_of_cycles=1\n",
    "    shift_cycles=1\n",
    "    \n",
    "    tf_cyclic = TFCyclicNonsymmetricConstant(number_of_cycles=number_of_cycles, unloading_ratio=0.05, shift_cycles=shift_cycles)\n",
    "    #tf_cyclic = TFBilinear(loading_ratio=0.01, time_ratio=0.5)\n",
    "    tf_confinement = TFBilinear(loading_ratio=1, time_ratio=1/(number_of_cycles+shift_cycles))\n",
    "    \n",
    "    load_dim = 0 # \n",
    "    fixed_dim = 1 # 0 - x, 1 - y\n",
    "    \n",
    "    \n",
    "    upper_control_slice = BCSlice(slice=xd_upper.mesh[:, :, :, :],\n",
    "                              var='u', dims=[load_dim], value=0)\n",
    "    upper_control_dofs = upper_control_slice.dofs\n",
    "    \n",
    "    F_tau = -0.7 * max_F[i] / len(upper_control_dofs)\n",
    "    \n",
    "    upper_control = [BCDof(var='f', dof=dof, value=F_tau , time_function=tf_cyclic) \n",
    "                     for dof in upper_control_dofs ]\n",
    "    \n",
    "    F = compression_range[i] / len(upper_control_dofs)\n",
    "\n",
    "    upper_compression_slice = BCSlice(slice=xd_upper.mesh[:, :, :, :],\n",
    "             var='u', dims=[fixed_dim], value=0)\n",
    "    upper_compression_dofs = upper_compression_slice.dofs\n",
    "    upper_compression = [BCDof(var='f', dof=dof, value = F , time_function=tf_confinement) \n",
    "                     for dof in upper_compression_dofs ]\n",
    "    \n",
    "    lower_fixed = BCSlice(slice=xd_lower.mesh[:, :, :, :],\n",
    "             var='u', dims=[0,1], value=0)\n",
    "    \n",
    "    bc1 = upper_control + upper_compression + [lower_fixed]\n",
    "\n",
    "    m.bc=bc1\n",
    "    m.hist.vis_record = {\n",
    "        'strain': Vis3DTensorField(var='eps_ab'),\n",
    "    }\n",
    "    s = m.sim\n",
    "    s.tloop.verbose = True # set false to avoid the prints during each increment\n",
    "    s.tloop.k_max = 50\n",
    "    s.tline.step = 0.01\n",
    "    s.reset()\n",
    "    s.run()\n",
    "    m_list_cyclic.append(m)"
   ]
  },
  {
   "cell_type": "code",
   "execution_count": 28,
   "id": "fd3b9f85-cc46-4999-841e-905d4e89ac86",
   "metadata": {},
   "outputs": [
    {
     "data": {
      "application/vnd.jupyter.widget-view+json": {
       "model_id": "12b7a98c420f490eb274190d892639d4",
       "version_major": 2,
       "version_minor": 0
      },
      "text/plain": [
       "Canvas(toolbar=Toolbar(toolitems=[('Home', 'Reset original view', 'home', 'home'), ('Back', 'Back to previous …"
      ]
     },
     "metadata": {},
     "output_type": "display_data"
    }
   ],
   "source": [
    "import matplotlib.pylab as plt\n",
    "fig, ((ax1,  ax2, ax3,  ax4)) =  plt.subplots(1,4, figsize=(16/2.54, 6/2.54)) #, constrained_layout=False)\n",
    "fig.canvas.header_visible=False\n",
    "fig.tight_layout()\n",
    "\n",
    "for i in range(len(m_list_cyclic)):\n",
    "    m = m_list_cyclic[i]\n",
    "    F_to = m.hist.F_t\n",
    "    U_to = m.hist.U_t\n",
    "    upper_control_dofs = [bc.dof for bc in upper_control]\n",
    "    F_l_t = np.sum(F_to[:, upper_control_dofs], axis=-1)\n",
    "    U_r_t = np.average(U_to[:, upper_control_dofs], axis=-1)\n",
    "    \n",
    "    states_t = [states_t[2] for states_t in m.hist.state_vars]\n",
    "    var_names = states_t[0].keys()\n",
    "    EpsSig_t = {\n",
    "        var_name: np.array([ state_dict[var_name] for state_dict in states_t ]) \n",
    "        for var_name in var_names \n",
    "    }\n",
    "    time = np.arange(len(F_l_t))\n",
    "    \n",
    "    ax1.plot(U_r_t, EpsSig_t['tau_pi_x'][:,0,0], label=str(compression_range[i]))\n",
    "    ax1.set_xlabel('s_x')\n",
    "    ax1.set_ylabel('$\\sigma_T$')\n",
    "    ax1.legend()\n",
    "    \n",
    "    ax2.plot(time, EpsSig_t['sig_pi'][:,0,0])\n",
    "    ax2.set_xlabel('s_x')\n",
    "    ax2.set_ylabel('$\\sigma_N$')\n",
    "    \n",
    "    ax3.plot(U_r_t, -EpsSig_t['omega_T'][:,0,0])\n",
    "    ax3.set_xlabel('s_x')\n",
    "    ax3.set_ylabel('$\\omega_T$')\n",
    "    \n",
    "    \n",
    "    ax4.plot(U_r_t, -EpsSig_t['omega_N'][:,0,0])\n",
    "    ax4.set_xlabel('s_x')\n",
    "    ax4.set_ylabel('$\\omega_N$')\n",
    "    \n",
    "    #max_F.append(max(abs( -EpsSig_t['tau_pi_x'][:,0,0])))\n",
    "    \n",
    "#fname= 'ElsevierFont.pdf'\n",
    "#plt.savefig(fname, bbox_inches='tight', pad_inches=0.01/2.54, dpi=300)\n",
    "#\n",
    "## get the #link to the PDF\n",
    "#from IPython.display import FileLink\n",
    "#FileLink(fname)"
   ]
  },
  {
   "cell_type": "code",
   "execution_count": 29,
   "id": "e67f2e09-42fa-41cc-aa31-82f7790dd592",
   "metadata": {},
   "outputs": [
    {
     "data": {
      "application/vnd.jupyter.widget-view+json": {
       "model_id": "02e47838e8ad4a5b8925627d80b81116",
       "version_major": 2,
       "version_minor": 0
      },
      "text/plain": [
       "VBox(children=(HBox(children=(VBox(children=(Tree(layout=Layout(align_items='stretch', border='solid 1px black…"
      ]
     },
     "metadata": {},
     "output_type": "display_data"
    }
   ],
   "source": [
    "tf_cyclic.interact()"
   ]
  },
  {
   "cell_type": "code",
   "execution_count": 13,
   "id": "17221dc2-81fb-410c-82ab-9951e3a5ae42",
   "metadata": {},
   "outputs": [],
   "source": [
    "m1 = m_list_cyclic[0]"
   ]
  },
  {
   "cell_type": "code",
   "execution_count": 14,
   "id": "8c997604-4a98-401f-8a0b-114f74d20704",
   "metadata": {},
   "outputs": [],
   "source": [
    "if True:\n",
    "    mlab.options.backend = 'envisage'\n",
    "    mlab.options.offscreen = False # 'envisage'\n",
    "    f_strain = mlab.figure()\n",
    "    scene = mlab.get_engine().scenes[-1]\n",
    "    scene.name = 'strain'\n",
    "    strain_viz = Viz3DTensorField(vis3d=m.hist['strain'])\n",
    "    strain_viz.setup()\n",
    "    strain_viz.warp_vector.filter.scale_factor = 0.1\n",
    "    strain_viz.plot(s.tstep.t_n)\n",
    "    mlab.show()"
   ]
  },
  {
   "cell_type": "code",
   "execution_count": 39,
   "id": "218191b4-3a7e-4599-af44-5e2c19a5f42c",
   "metadata": {},
   "outputs": [
    {
     "data": {
      "text/plain": [
       "dict_keys(['w_pi', 's_pi_x', 's_pi_y', 'z', 'alpha_x', 'alpha_y', 'omega_T', 'omega_N', 'sig_pi', 'tau_pi_x', 'tau_pi_y', 'Z', 'X_x', 'X_y', 'Y_T', 'Y_N'])"
      ]
     },
     "execution_count": 39,
     "metadata": {},
     "output_type": "execute_result"
    }
   ],
   "source": [
    "var_names"
   ]
  },
  {
   "cell_type": "code",
   "execution_count": 16,
   "id": "d9e4cc50-c44e-4bdd-ba8a-b7253b0153dc",
   "metadata": {},
   "outputs": [
    {
     "data": {
      "application/vnd.jupyter.widget-view+json": {
       "model_id": "85a268e729534f99b90851e8a6978771",
       "version_major": 2,
       "version_minor": 0
      },
      "text/plain": [
       "VBox(children=(HBox(children=(VBox(children=(Tree(layout=Layout(align_items='stretch', border='solid 1px black…"
      ]
     },
     "metadata": {},
     "output_type": "display_data"
    }
   ],
   "source": [
    "tf_disp.interact()"
   ]
  },
  {
   "cell_type": "code",
   "execution_count": null,
   "id": "2a0f031b-8dcd-4729-b59a-c0d4526fd23d",
   "metadata": {},
   "outputs": [],
   "source": []
  }
 ],
 "metadata": {
  "kernelspec": {
   "display_name": "bmcs_env",
   "language": "python",
   "name": "bmcs_env"
  },
  "language_info": {
   "codemirror_mode": {
    "name": "ipython",
    "version": 3
   },
   "file_extension": ".py",
   "mimetype": "text/x-python",
   "name": "python",
   "nbconvert_exporter": "python",
   "pygments_lexer": "ipython3",
   "version": "3.9.5"
  }
 },
 "nbformat": 4,
 "nbformat_minor": 5
}
