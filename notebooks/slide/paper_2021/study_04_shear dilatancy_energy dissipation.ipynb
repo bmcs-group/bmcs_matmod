{
 "cells": [
  {
   "cell_type": "markdown",
   "id": "weird-custom",
   "metadata": {},
   "source": [
    "# Study_04: Shear dilatancy"
   ]
  },
  {
   "cell_type": "code",
   "execution_count": null,
   "id": "serious-classics",
   "metadata": {},
   "outputs": [],
   "source": [
    "%matplotlib widget"
   ]
  },
  {
   "cell_type": "code",
   "execution_count": null,
   "id": "whole-symposium",
   "metadata": {},
   "outputs": [],
   "source": [
    "import bmcs_utils"
   ]
  },
  {
   "cell_type": "code",
   "execution_count": null,
   "id": "voluntary-kruger",
   "metadata": {},
   "outputs": [],
   "source": [
    "from bmcs_matmod.slide.slide_explorer import SlideExplorer\n",
    "import bmcs_utils.api as bu"
   ]
  },
  {
   "cell_type": "code",
   "execution_count": null,
   "id": "governmental-princeton",
   "metadata": {},
   "outputs": [],
   "source": [
    "%%capture\n",
    "import numpy as np\n",
    "material_params = dict(\n",
    "    E_T=100, gamma_T=50, K_T=30, S_T=0.2, c_T=1, bartau=5, \n",
    "    E_N=100, S_N=0.05, c_N = 1, m = 0.001, f_t=5, f_c=20, f_c0=10, eta=0.0)\n",
    "\n",
    "m_range = np.linspace(0, 0.1, 3)\n",
    "se_T_list = []\n",
    "\n",
    "\n",
    "for m in m_range:\n",
    "    material_params['m'] = m\n",
    "    se1 = SlideExplorer(n_steps=200, k_max=50)\n",
    "    se1.slide_model.trait_set(**material_params)\n",
    "    se1.trait_set(s_x_1 = 2, s_y_1 = 0, w_1 = 0);\n",
    "    se1.run()\n",
    "    se_T_list.append(se1)\n"
   ]
  },
  {
   "cell_type": "code",
   "execution_count": null,
   "id": "concrete-living",
   "metadata": {},
   "outputs": [],
   "source": [
    "import matplotlib.pylab as plt\n",
    "fig, ((ax_1,  ax_2), (ax_3,  ax_4)) = plt.subplots(2,2, tight_layout=True, figsize=(8,7))\n",
    "fig.canvas.header_visible=False\n",
    "\n",
    "for se_T in se_T_list:\n",
    "    tau_x_pi_1, tau_y_pi_1, sig_pi_1, Z_1, X_x_1, X_y_1, Y_T_1, Y_N_1 = se_T.Sig_arr.T\n",
    "    s_x_pi_, s_y_pi_, w_pi_, z_, alpha_x_, alpha_y_, omega_T_, omega_N_ = se_T.Eps_arr.T\n",
    "    \n",
    "    n_step_1 = len(tau_x_pi_1)\n",
    "    w_1 = np.linspace(0, se1.w_1, n_step_1)\n",
    "    s_x_1 = se_T.s_x_t.T\n",
    "    t = np.linspace(0, 1, n_step_1)\n",
    "    \n",
    "    number_iter = se_T.iter_t\n",
    "    \n",
    "    ax_1.plot(s_x_1, tau_x_pi_1)\n",
    "    ax_1.set_xlabel('$s_x$')\n",
    "    ax_1.set_ylabel('$\\sigma_T$')\n",
    "    \n",
    "    ax_2.plot(t, sig_pi_1)\n",
    "    ax_2.set_xlabel('$time$')\n",
    "    ax_2.set_ylabel('$\\sigma_N$')\n",
    "    \n",
    "    ax_3.plot(t, omega_T_)\n",
    "    ax_3.plot(t, omega_N_)\n",
    "    ax_3.set_xlabel('$time$')\n",
    "    ax_3.set_ylabel('$\\omega_T$')\n",
    "    \n",
    "    ax_4.plot(t,  number_iter)\n",
    "    ax_4.set_xlabel('$time$')\n",
    "    ax_4.set_ylabel('$number~of~iterations$')\n",
    "    ax_4.set_ylim(0,3)\n",
    "    \n",
    "    \n",
    "#fig.savefig('Study_04_shear_delatancy.pdf')    "
   ]
  },
  {
   "cell_type": "code",
   "execution_count": null,
   "id": "modern-employment",
   "metadata": {},
   "outputs": [],
   "source": [
    "import matplotlib.pylab as plt\n",
    "fig, (ax_1, ax_2) = plt.subplots(1,2, tight_layout=True, figsize=(9,4))\n",
    "fig.canvas.header_visible=False\n",
    "    \n",
    "se_T.energy_dissipation.plot_energy(ax_1, ax_2)\n",
    "\n",
    "#fig.savefig('Study_04_energy_dissipation.pdf')  "
   ]
  },
  {
   "cell_type": "code",
   "execution_count": null,
   "id": "revised-arkansas",
   "metadata": {},
   "outputs": [],
   "source": []
  },
  {
   "cell_type": "code",
   "execution_count": null,
   "id": "relative-liechtenstein",
   "metadata": {},
   "outputs": [],
   "source": []
  }
 ],
 "metadata": {
  "kernelspec": {
   "display_name": "bmcs_env",
   "language": "python",
   "name": "bmcs_env"
  },
  "language_info": {
   "codemirror_mode": {
    "name": "ipython",
    "version": 3
   },
   "file_extension": ".py",
   "mimetype": "text/x-python",
   "name": "python",
   "nbconvert_exporter": "python",
   "pygments_lexer": "ipython3"
  }
 },
 "nbformat": 4,
 "nbformat_minor": 5
}
