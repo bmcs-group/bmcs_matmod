{
 "cells": [
  {
   "cell_type": "markdown",
   "metadata": {},
   "source": [
    "# Study 06: Cumulative damage under cyclic loading"
   ]
  },
  {
   "cell_type": "code",
   "execution_count": 1,
   "metadata": {},
   "outputs": [],
   "source": [
    "%matplotlib widget"
   ]
  },
  {
   "cell_type": "code",
   "execution_count": 2,
   "metadata": {},
   "outputs": [],
   "source": [
    "import bmcs_utils"
   ]
  },
  {
   "cell_type": "code",
   "execution_count": 3,
   "metadata": {},
   "outputs": [],
   "source": [
    "from ibvpy.tfunction import TimeFunction, TFSelector, TFCyclicSin, TFCyclicNonsymmetricConstant"
   ]
  },
  {
   "cell_type": "code",
   "execution_count": 4,
   "metadata": {},
   "outputs": [],
   "source": [
    "from bmcs_matmod.slide.slide_explorer import SlideExplorer\n",
    "import bmcs_utils.api as bu"
   ]
  },
  {
   "cell_type": "code",
   "execution_count": 5,
   "metadata": {},
   "outputs": [],
   "source": [
    "%%capture\n",
    "import numpy as np\n",
    "material_params = dict(\n",
    "    E_T=100, gamma_T=200, K_T=0, S_T=0.05, c_T=3, bartau=5, \n",
    "    E_N=100, S_N=0.05, c_N = 3, m = 0.0001, f_t=5, f_c=20, f_c0=10, eta=0.2)\n",
    "\n",
    "\n",
    "se_T_list = []\n",
    "\n",
    "\n",
    "\n",
    "# Monotonic \n",
    "se1 = SlideExplorer(n_steps=100, k_max=50)\n",
    "se1.slide_model.trait_set(**material_params)\n",
    "se1.trait_set(s_x_1 = 0.5, s_y_1 = 0, w_1 = 0);\n",
    "se1.run()\n",
    "se_T_list.append(se1)\n",
    "\n",
    "\n",
    "# Cyclic\n",
    "s_x_range = np.array([0.15, 0.30])\n",
    "for s_x in s_x_range:\n",
    "    \n",
    "    se2 = SlideExplorer(n_steps=3000, k_max=50)\n",
    "    se2.slide_model.trait_set(**material_params)\n",
    "    se2.tf_s_x = TFCyclicNonsymmetricConstant(number_of_cycles = 25, unloading_ratio = ((0.2 * s_x_range[0]) /s_x ), t_max = 1)\n",
    "    se2.trait_set(s_x_1 = s_x, s_y_1 = 0, w_1 = 0);\n",
    "    se2.run()\n",
    "    se_T_list.append(se2)\n",
    "\n"
   ]
  },
  {
   "cell_type": "code",
   "execution_count": 6,
   "metadata": {},
   "outputs": [
    {
     "data": {
      "application/vnd.jupyter.widget-view+json": {
       "model_id": "1f2b1e74936b4c6784c063a8948ef31c",
       "version_major": 2,
       "version_minor": 0
      },
      "text/plain": [
       "Canvas(toolbar=Toolbar(toolitems=[('Home', 'Reset original view', 'home', 'home'), ('Back', 'Back to previous …"
      ]
     },
     "metadata": {},
     "output_type": "display_data"
    }
   ],
   "source": [
    "import matplotlib.pylab as plt\n",
    "fig, ((ax_1,  ax_2), (ax_3,  ax_4), (ax_5,  ax_6)) = plt.subplots(3,2, tight_layout=True, figsize=(8,11))\n",
    "fig.canvas.header_visible=False\n",
    "\n",
    "for se_T in se_T_list:\n",
    "    tau_x_pi_1, tau_y_pi_1, sig_pi_1, Z_1, X_x_1, X_y_1, Y_T_1, Y_N_1 = se_T.Sig_arr.T\n",
    "    s_x_pi_, s_y_pi_, w_pi_, z_, alpha_x_, alpha_y_, omega_T_, omega_N_ = se_T.Eps_arr.T\n",
    "    \n",
    "    n_step_1 = len(tau_x_pi_1)\n",
    "    \n",
    "    w_1 = se_T.w_t\n",
    "    s_x_1 = se_T.s_x_t.T\n",
    "    t = np.linspace(0, 1, n_step_1)\n",
    "    \n",
    "    \n",
    "    ax_1.plot(s_x_1, tau_x_pi_1)\n",
    "    ax_1.set_xlabel('$s_x$')\n",
    "    ax_1.set_ylabel('$\\sigma_T$')\n",
    "    \n",
    "    ax_2.plot(s_x_1, omega_T_)\n",
    "    ax_2.set_xlabel('$s_x$')\n",
    "    ax_2.set_ylabel('$\\omega_T$')\n",
    "    ax_2.set_ylim(0,1)\n",
    "    \n",
    "    ax_3.plot(t, tau_x_pi_1)\n",
    "    ax_3.set_xlabel('$time$')\n",
    "    ax_3.set_ylabel('$\\sigma_T$')\n",
    "    \n",
    "    ax_4.plot(t, s_x_pi_)\n",
    "    ax_4.set_xlabel('$time$')\n",
    "    ax_4.set_ylabel('$s_x^{\\pi}$')\n",
    "    \n",
    "    ax_5.plot(t, omega_T_)\n",
    "    ax_5.set_xlabel('$time$')\n",
    "    ax_5.set_ylabel('$\\omega_T$')\n",
    "    ax_5.set_ylim(0,1)\n",
    "    \n",
    "    ax_6.plot(t, omega_N_)\n",
    "    ax_6.set_xlabel('$time$')\n",
    "    ax_6.set_ylabel('$\\omega_N$')\n",
    "    ax_6.set_ylim(0,1)\n",
    "    \n",
    "# fig.savefig('Study_06_cumulative_damage.pdf')       "
   ]
  },
  {
   "cell_type": "markdown",
   "metadata": {},
   "source": [
    "## Compression - Sliding"
   ]
  },
  {
   "cell_type": "code",
   "execution_count": 7,
   "metadata": {},
   "outputs": [],
   "source": [
    "%%capture\n",
    "import numpy as np\n",
    "material_params = dict(\n",
    "    E_T=100, gamma_T=200, K_T=0, S_T=0.05, c_T=3, bartau=5, \n",
    "    E_N=100, S_N=0.05, c_N = 3, m = 0.05, f_t=5, f_c=20, f_c0=10, eta=0.2)\n",
    "\n",
    "\n",
    "se_T_list = []\n",
    "\n",
    "\n",
    "\n",
    "# # Monotonic \n",
    "# se1 = SlideExplorer(n_steps=100, k_max=50)\n",
    "# se1.slide_model.trait_set(**material_params)\n",
    "# se1.trait_set(s_x_1 = 0.0, s_y_1 = 0, w_1 = -2);\n",
    "# se1.run()\n",
    "# se_T_list.append(se1)\n",
    "\n",
    "\n",
    "# Cyclic\n",
    "w_1_range = np.array([-0.04, -0.2])\n",
    "for w_1_ in w_1_range:\n",
    "    \n",
    "    se2 = SlideExplorer(n_steps=3000, k_max=50)\n",
    "    se2.slide_model.trait_set(**material_params)\n",
    "    se2.trait_set(s_x_1 = 0.0, s_y_1 = 0, w_1 = w_1_);\n",
    "    se2.run()\n",
    "    se2.tf_s_x = TFCyclicNonsymmetricConstant(number_of_cycles = 25, unloading_ratio = 0.2 , t_max = 1)\n",
    "    se2.trait_set(s_x_1 = 0.15, s_y_1 = 0, w_1 = w_1_);\n",
    "    se2.run()\n",
    "    se_T_list.append(se2)\n",
    "    "
   ]
  },
  {
   "cell_type": "code",
   "execution_count": 8,
   "metadata": {},
   "outputs": [
    {
     "data": {
      "application/vnd.jupyter.widget-view+json": {
       "model_id": "c63e6367d04c49dcb39912f2c06f1069",
       "version_major": 2,
       "version_minor": 0
      },
      "text/plain": [
       "Canvas(toolbar=Toolbar(toolitems=[('Home', 'Reset original view', 'home', 'home'), ('Back', 'Back to previous …"
      ]
     },
     "metadata": {},
     "output_type": "display_data"
    }
   ],
   "source": [
    "import matplotlib.pylab as plt\n",
    "\n",
    "fig, ((ax_1,  ax_2), (ax_3,  ax_4), (ax_5,  ax_6)) = plt.subplots(3,2, tight_layout=True, figsize=(8,11))\n",
    "fig.canvas.header_visible=False\n",
    "\n",
    "for se_T in se_T_list:\n",
    "    tau_x_pi_1, tau_y_pi_1, sig_pi_1, Z_1, X_x_1, X_y_1, Y_T_1, Y_N_1 = se_T.Sig_arr.T\n",
    "    s_x_pi_, s_y_pi_, w_pi_, z_, alpha_x_, alpha_y_, omega_T_, omega_N_ = se_T.Eps_arr.T\n",
    "    \n",
    "    n_step_1 = len(tau_x_pi_1)\n",
    "    \n",
    "    w_1 = se_T.w_t\n",
    "    s_x_1 = se_T.s_x_t.T\n",
    "    t = np.linspace(0, 1, n_step_1)\n",
    "    \n",
    "    \n",
    "    ax_1.plot(s_x_1, tau_x_pi_1)\n",
    "    ax_1.set_xlabel('$s_x$')\n",
    "    ax_1.set_ylabel('$\\sigma_T$')\n",
    "    \n",
    "    ax_2.plot(s_x_1, sig_pi_1)\n",
    "    ax_2.set_xlabel('$s_x$')\n",
    "    ax_2.set_ylabel('$\\sigma_N$')\n",
    "#     ax_2.set_ylim(0,1)\n",
    "    \n",
    "    ax_3.plot(t, omega_T_)\n",
    "    ax_3.set_xlabel('$time$')\n",
    "    ax_3.set_ylabel('$\\omega_T$')\n",
    "    \n",
    "    ax_4.plot(t, omega_N_)\n",
    "    ax_4.set_xlabel('$time$')\n",
    "    ax_4.set_ylabel('$\\omega_N$')\n",
    "    \n",
    "    ax_5.plot(t, omega_T_)\n",
    "    ax_5.set_xlabel('$time$')\n",
    "    ax_5.set_ylabel('$s_x^{p}$')\n",
    "    ax_5.set_ylim(0,1)\n",
    "    \n",
    "    ax_6.plot(t,  w_pi_)\n",
    "    ax_6.set_xlabel('$time$')\n",
    "    ax_6.set_ylabel('$w^{p}$')\n",
    "#     ax_6.set_ylim(0,1)\n",
    "    \n",
    "# fig.savefig('Study_061_cumulative_damage.pdf')   "
   ]
  },
  {
   "cell_type": "code",
   "execution_count": null,
   "metadata": {},
   "outputs": [],
   "source": []
  }
 ],
 "metadata": {
  "kernelspec": {
   "display_name": "Python [conda env:bmcs_env]",
   "language": "python",
   "name": "conda-env-bmcs_env-py"
  },
  "language_info": {
   "codemirror_mode": {
    "name": "ipython",
    "version": 3
   },
   "file_extension": ".py",
   "mimetype": "text/x-python",
   "name": "python",
   "nbconvert_exporter": "python",
   "pygments_lexer": "ipython3",
   "version": "3.9.1"
  }
 },
 "nbformat": 4,
 "nbformat_minor": 5
}
