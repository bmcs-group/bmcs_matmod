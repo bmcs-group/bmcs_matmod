{
 "cells": [
  {
   "cell_type": "markdown",
   "metadata": {},
   "source": [
    "# Define the flow potential"
   ]
  },
  {
   "cell_type": "code",
   "execution_count": 1,
   "metadata": {},
   "outputs": [],
   "source": [
    "import sympy as sp\n",
    "sp.init_printing()"
   ]
  },
  {
   "cell_type": "markdown",
   "metadata": {},
   "source": [
    "## Logic behind the flow potential extension\n",
    "\n",
    "To account for a broad range of applications we propose\n",
    "an extension of the flow potential with an adjustable \n",
    "level of interaction between the damage in the normal\n",
    "and tangential directions. Recall that the evolution equations\n",
    "are defined as\n",
    "\\begin{align}\n",
    " \\dot{\\omega}_\\mathrm{N} &= \\lambda \\frac{\\partial \\varphi}{ \\partial {\\omega}_\\mathrm{N} } \\\\\n",
    " \\dot{\\omega}_\\mathrm{T} &= \\lambda \\frac{\\partial \\varphi}{ \\partial {\\omega}_\\mathrm{T} }\n",
    "\\end{align}\n",
    "If the damage due to normal direction directly affects the tangential version we assume\n",
    "that also the opposite affect is the same. The respective derivatives of the potential must be equal, i.e.\n",
    "\\begin{align}\n",
    "\\frac{\\partial \\varphi}{ \\partial {\\omega}_\\mathrm{N} } = \\frac{\\partial \\varphi}{ \\partial {\\omega}_\\mathrm{T} }\n",
    "\\end{align}"
   ]
  },
  {
   "cell_type": "code",
   "execution_count": 4,
   "metadata": {},
   "outputs": [
    {
     "data": {
      "image/png": "[encoded data removed]",
      "text/latex": [
       "$\\displaystyle \\frac{Y_{N} \\left(Y_{N} + Y_{T} \\eta\\right)}{2 S_{N} - \\eta \\left(S_{N} - S_{T}\\right)} + \\frac{Y_{T} \\left(Y_{N} \\eta + Y_{T}\\right)}{2 S_{T} + \\eta \\left(S_{N} - S_{T}\\right)}$"
      ],
      "text/plain": [
       "  Y_N⋅(Y_N + Y_T⋅η)       Y_T⋅(Y_N⋅η + Y_T)  \n",
       "───────────────────── + ─────────────────────\n",
       "2⋅S_N - η⋅(S_N - S_T)   2⋅S_T + η⋅(S_N - S_T)"
      ]
     },
     "execution_count": 4,
     "metadata": {},
     "output_type": "execute_result"
    }
   ],
   "source": [
    "S_N, S_T, eta = sp.symbols('S_N, S_T, eta')\n",
    "Y_N, Y_T = sp.symbols('Y_N, Y_T')\n",
    "omega_N, omega_T = sp.symbols('omega_N, omega_T')\n",
    "c_N, c_T = sp.symbols('c_N, c_T')\n",
    "phi_N_ext = (  # (1-omega_N)**c_N * (\n",
    "    (1*Y_N*(Y_N + eta * Y_T)) /\n",
    "    (2*(S_N - eta * (S_N - (S_N + S_T)/2)))\n",
    ")\n",
    "phi_T_ext = (  # (1-omega_T)**c_T * (\n",
    "    (1*Y_T*(Y_T + eta * Y_N)) /\n",
    "    (2*(S_T - eta * (S_T - (S_N + S_T)/2)))\n",
    ")\n",
    "phi_ext = sp.simplify(phi_N_ext) + sp.simplify(phi_T_ext)\n",
    "phi_ext"
   ]
  },
  {
   "cell_type": "code",
   "execution_count": 5,
   "metadata": {},
   "outputs": [
    {
     "data": {
      "image/png": "[encoded data removed]",
      "text/latex": [
       "$\\displaystyle \\frac{Y_{N} \\left(Y_{N} + Y_{T}\\right)}{S_{N} + S_{T}} + \\frac{Y_{T} \\left(Y_{N} + Y_{T}\\right)}{S_{N} + S_{T}}$"
      ],
      "text/plain": [
       "Y_N⋅(Y_N + Y_T)   Y_T⋅(Y_N + Y_T)\n",
       "─────────────── + ───────────────\n",
       "   S_N + S_T         S_N + S_T   "
      ]
     },
     "execution_count": 5,
     "metadata": {},
     "output_type": "execute_result"
    }
   ],
   "source": [
    "phi_ext.subs(eta,1)"
   ]
  },
  {
   "cell_type": "code",
   "execution_count": 6,
   "metadata": {},
   "outputs": [
    {
     "data": {
      "image/png": "[encoded data removed]",
      "text/latex": [
       "$\\displaystyle \\frac{2 \\left(Y_{N} + Y_{T}\\right)}{S_{N} + S_{T}}$"
      ],
      "text/plain": [
       "2⋅(Y_N + Y_T)\n",
       "─────────────\n",
       "  S_N + S_T  "
      ]
     },
     "execution_count": 6,
     "metadata": {},
     "output_type": "execute_result"
    }
   ],
   "source": [
    "sp.simplify(phi_ext.diff(Y_N).subs(eta,1))"
   ]
  },
  {
   "cell_type": "code",
   "execution_count": 7,
   "metadata": {},
   "outputs": [
    {
     "data": {
      "image/png": "[encoded data removed]",
      "text/latex": [
       "$\\displaystyle \\frac{2 \\left(Y_{N} + Y_{T}\\right)}{S_{N} + S_{T}}$"
      ],
      "text/plain": [
       "2⋅(Y_N + Y_T)\n",
       "─────────────\n",
       "  S_N + S_T  "
      ]
     },
     "execution_count": 7,
     "metadata": {},
     "output_type": "execute_result"
    }
   ],
   "source": [
    "sp.simplify(phi_ext.diff(Y_T).subs(eta,1))"
   ]
  },
  {
   "cell_type": "code",
   "execution_count": 8,
   "metadata": {},
   "outputs": [
    {
     "data": {
      "image/png": "[encoded data removed]",
      "text/latex": [
       "$\\displaystyle \\frac{Y_{N}}{S_{N}}$"
      ],
      "text/plain": [
       "Y_N\n",
       "───\n",
       "S_N"
      ]
     },
     "execution_count": 8,
     "metadata": {},
     "output_type": "execute_result"
    }
   ],
   "source": [
    "sp.simplify(phi_ext.diff(Y_N).subs(eta,0))"
   ]
  },
  {
   "cell_type": "markdown",
   "metadata": {},
   "source": [
    "## Backward derivation of the potential from desired flow direction"
   ]
  },
  {
   "cell_type": "markdown",
   "metadata": {},
   "source": [
    "Find a potential function \n",
    "\\begin{align}\n",
    "\\varphi = a Y_\\mathrm{N}^2 + \\eta b Y_\\mathrm{N}(Y_\\mathrm{N} + Y_\\mathrm{T})+ c Y_\\mathrm{T}^2 + \\eta d \n",
    "Y_\\mathrm{T}(Y_\\mathrm{T} + Y_\\mathrm{N})\n",
    "\\end{align}\n",
    "which fulfills\n",
    "\\begin{align}\n",
    "\\left. \\frac{\\partial \\varphi}{\\partial Y_\\mathrm{N}}\\right|_{\\eta=0} &= \n",
    "(1 - \\omega_\\mathrm{N})^{c_\\mathrm{N}} \\frac{Y_\\mathrm{N}}{S_\\mathrm{N}} \\\\\n",
    "\\left. \\frac{\\partial \\varphi}{\\partial Y_\\mathrm{T}}\\right|_{\\eta=0} &= \n",
    "(1 - \\omega_\\mathrm{T})^{c_\\mathrm{T}} \\frac{Y_\\mathrm{T}}{S_\\mathrm{T}} \\\\\n",
    "\\left. \\frac{\\partial \\varphi}{\\partial Y_\\mathrm{N}}\\right|_{\\eta=1} = \n",
    "\\left. \\frac{\\partial \\varphi}{\\partial Y_\\mathrm{T}}\\right|_{\\eta=1} &= \n",
    "\\left(1 - \\frac{1}{2}(\\omega_\\mathrm{N} + \\omega_\\mathrm{T})\\right)^{\\frac{c_\\mathrm{N}+c_\\mathrm{T}}{2}} \n",
    "\\frac{Y_\\mathrm{N} + Y_\\mathrm{T}}{S_\\mathrm{N} + S_\\mathrm{T}}\n",
    "\\end{align}"
   ]
  },
  {
   "cell_type": "code",
   "execution_count": 10,
   "metadata": {},
   "outputs": [],
   "source": [
    "a, b, c, d = sp.symbols('a,b,c,d')\n",
    "H = lambda x: sp.Piecewise( (0, x <=0 ), (1, True) )\n",
    "H_switch, sig_pi = sp.symbols(r'H(\\sigma^{\\pi}), \\sigma^\\pi', real=True)\n",
    "phi_ext = a * Y_N**2 + b * eta * Y_N*(Y_N + Y_T) + c * Y_T**2 + d * eta * Y_T*(Y_T+Y_N)"
   ]
  },
  {
   "cell_type": "code",
   "execution_count": 11,
   "metadata": {},
   "outputs": [
    {
     "data": {
      "image/png": "[encoded data removed]",
      "text/latex": [
       "$\\displaystyle \\left( 2 Y_{N} a, \\  \\frac{H(\\sigma^{\\pi}) \\left(1 - \\omega_{N}\\right)^{c_{N}}}{2 S_{N}}\\right)$"
      ],
      "text/plain": [
       "⎛                                   c_N⎞\n",
       "⎜         H(\\sigma__{\\pi})⋅(1 - ω_N)   ⎟\n",
       "⎜2⋅Y_N⋅a, ─────────────────────────────⎟\n",
       "⎝                     2⋅S_N            ⎠"
      ]
     },
     "execution_count": 11,
     "metadata": {},
     "output_type": "execute_result"
    }
   ],
   "source": [
    "d_phi_N_0 = phi_ext.diff(Y_N).subs(eta,0)\n",
    "a_solved = sp.solve(sp.Eq(d_phi_N_0, (1 - omega_N)**c_N * Y_N / S_N * H_switch ), a )[0]\n",
    "#a_solved = sp.solve( sp.Eq( d_phi_N_0, (1 - omega_N)**c_N * Y_N / S_N ), a )[0]\n",
    "d_phi_N_0, a_solved"
   ]
  },
  {
   "cell_type": "code",
   "execution_count": 12,
   "metadata": {},
   "outputs": [
    {
     "data": {
      "image/png": "[encoded data removed]",
      "text/latex": [
       "$\\displaystyle \\left( 2 Y_{T} c, \\  \\frac{\\left(1 - \\omega_{T}\\right)^{c_{T}}}{2 S_{T}}\\right)$"
      ],
      "text/plain": [
       "⎛                  c_T⎞\n",
       "⎜         (1 - ω_T)   ⎟\n",
       "⎜2⋅Y_T⋅c, ────────────⎟\n",
       "⎝            2⋅S_T    ⎠"
      ]
     },
     "execution_count": 12,
     "metadata": {},
     "output_type": "execute_result"
    }
   ],
   "source": [
    "d_phi_T_0 = phi_ext.diff(Y_T).subs(eta,0)\n",
    "c_solved = sp.solve( sp.Eq( d_phi_T_0, (1 - omega_T)**c_T * Y_T / S_T ), c )[0]\n",
    "d_phi_T_0, c_solved"
   ]
  },
  {
   "cell_type": "code",
   "execution_count": 13,
   "metadata": {},
   "outputs": [
    {
     "data": {
      "image/png": "[encoded data removed]",
      "text/latex": [
       "$\\displaystyle \\frac{H(\\sigma^{\\pi}) Y_{N}^{2} \\left(1 - \\omega_{N}\\right)^{c_{N}}}{2 S_{N}} + Y_{N} b \\eta \\left(Y_{N} + Y_{T}\\right) + Y_{T} d \\eta \\left(Y_{N} + Y_{T}\\right) + \\frac{Y_{T}^{2} \\left(1 - \\omega_{T}\\right)^{c_{T}}}{2 S_{T}}$"
      ],
      "text/plain": [
       "                    2          c_N                                            \n",
       "H(\\sigma__{\\pi})⋅Y_N ⋅(1 - ω_N)                                               \n",
       "────────────────────────────────── + Y_N⋅b⋅η⋅(Y_N + Y_T) + Y_T⋅d⋅η⋅(Y_N + Y_T)\n",
       "              2⋅S_N                                                           \n",
       "\n",
       "      2          c_T\n",
       "   Y_T ⋅(1 - ω_T)   \n",
       " + ─────────────────\n",
       "         2⋅S_T      "
      ]
     },
     "execution_count": 13,
     "metadata": {},
     "output_type": "execute_result"
    }
   ],
   "source": [
    "phi_ext_ac = phi_ext.subs({a: a_solved, c: c_solved})\n",
    "phi_ext_ac"
   ]
  },
  {
   "cell_type": "code",
   "execution_count": 14,
   "metadata": {},
   "outputs": [
    {
     "data": {
      "image/png": "[encoded data removed]",
      "text/latex": [
       "$\\displaystyle \\frac{H(\\sigma^{\\pi}) Y_{N} \\left(1 - \\omega_{N}\\right)^{c_{N}}}{S_{N}} + Y_{N} b + Y_{T} d + b \\left(Y_{N} + Y_{T}\\right)$"
      ],
      "text/plain": [
       "                              c_N                                \n",
       "H(\\sigma__{\\pi})⋅Y_N⋅(1 - ω_N)                                   \n",
       "───────────────────────────────── + Y_N⋅b + Y_T⋅d + b⋅(Y_N + Y_T)\n",
       "               S_N                                               "
      ]
     },
     "execution_count": 14,
     "metadata": {},
     "output_type": "execute_result"
    }
   ],
   "source": [
    "d_phi_N_1 = phi_ext_ac.diff(Y_N).subs(eta,1)\n",
    "d_phi_N_1"
   ]
  },
  {
   "cell_type": "code",
   "execution_count": 15,
   "metadata": {},
   "outputs": [
    {
     "data": {
      "image/png": "[encoded data removed]",
      "text/latex": [
       "$\\displaystyle Y_{N} b + Y_{T} d + d \\left(Y_{N} + Y_{T}\\right) + \\frac{Y_{T} \\left(1 - \\omega_{T}\\right)^{c_{T}}}{S_{T}}$"
      ],
      "text/plain": [
       "                                             c_T\n",
       "                                Y_T⋅(1 - ω_T)   \n",
       "Y_N⋅b + Y_T⋅d + d⋅(Y_N + Y_T) + ────────────────\n",
       "                                      S_T       "
      ]
     },
     "execution_count": 15,
     "metadata": {},
     "output_type": "execute_result"
    }
   ],
   "source": [
    "d_phi_T_1 = phi_ext_ac.diff(Y_T).subs(eta,1)\n",
    "d_phi_T_1"
   ]
  },
  {
   "cell_type": "code",
   "execution_count": 16,
   "metadata": {},
   "outputs": [
    {
     "data": {
      "image/png": "[encoded data removed]",
      "text/latex": [
       "$\\displaystyle \\frac{\\left(Y_{N} + Y_{T}\\right) \\left(- \\frac{\\omega_{N}}{2} - \\frac{\\omega_{T}}{2} + 1\\right)^{\\frac{c_{N}}{2} + \\frac{c_{T}}{2}}}{S_{N} + S_{T}}$"
      ],
      "text/plain": [
       "                             c_N   c_T\n",
       "                             ─── + ───\n",
       "                              2     2 \n",
       "            ⎛  ω_N   ω_T    ⎞         \n",
       "(Y_N + Y_T)⋅⎜- ─── - ─── + 1⎟         \n",
       "            ⎝   2     2     ⎠         \n",
       "──────────────────────────────────────\n",
       "              S_N + S_T               "
      ]
     },
     "execution_count": 16,
     "metadata": {},
     "output_type": "execute_result"
    }
   ],
   "source": [
    "d_phi_1_req = (1 - (omega_N + omega_T)/2)**((c_N+c_T)/2) * (Y_N + Y_T) / (S_N + S_T) \n",
    "d_phi_1_req"
   ]
  },
  {
   "cell_type": "code",
   "execution_count": 17,
   "metadata": {},
   "outputs": [
    {
     "data": {
      "image/png": "[encoded data removed]",
      "text/latex": [
       "$\\displaystyle \\frac{2^{- \\frac{c_{N}}{2} - \\frac{c_{T}}{2} - 1} \\left(- 2^{\\frac{c_{N}}{2} + \\frac{c_{T}}{2}} H(\\sigma^{\\pi}) S_{N} S_{T} Y_{N}^{2} \\left(1 - \\omega_{N}\\right)^{c_{N}} - 2^{\\frac{c_{N}}{2} + \\frac{c_{T}}{2}} H(\\sigma^{\\pi}) S_{T}^{2} Y_{N}^{2} \\left(1 - \\omega_{N}\\right)^{c_{N}} + 2^{\\frac{c_{N}}{2} + \\frac{c_{T}}{2}} S_{N}^{2} Y_{T}^{2} \\left(1 - \\omega_{T}\\right)^{c_{T}} + 2^{\\frac{c_{N}}{2} + \\frac{c_{T}}{2}} S_{N} S_{T} Y_{T}^{2} \\left(1 - \\omega_{T}\\right)^{c_{T}} - 2^{\\frac{c_{N}}{2} + \\frac{c_{T}}{2} + 1} H(\\sigma^{\\pi}) S_{N} S_{T} Y_{N} Y_{T} \\left(1 - \\omega_{N}\\right)^{c_{N}} - 2^{\\frac{c_{N}}{2} + \\frac{c_{T}}{2} + 1} H(\\sigma^{\\pi}) S_{T}^{2} Y_{N} Y_{T} \\left(1 - \\omega_{N}\\right)^{c_{N}} + S_{N} S_{T} Y_{N}^{2} \\left(- \\omega_{N} - \\omega_{T} + 2\\right)^{\\frac{c_{N}}{2} + \\frac{c_{T}}{2}} + 2 S_{N} S_{T} Y_{N} Y_{T} \\left(- \\omega_{N} - \\omega_{T} + 2\\right)^{\\frac{c_{N}}{2} + \\frac{c_{T}}{2}} + S_{N} S_{T} Y_{T}^{2} \\left(- \\omega_{N} - \\omega_{T} + 2\\right)^{\\frac{c_{N}}{2} + \\frac{c_{T}}{2}}\\right)}{S_{N} S_{T} \\left(S_{N} Y_{N}^{2} + 2 S_{N} Y_{N} Y_{T} + S_{N} Y_{T}^{2} + S_{T} Y_{N}^{2} + 2 S_{T} Y_{N} Y_{T} + S_{T} Y_{T}^{2}\\right)}$"
      ],
      "text/plain": [
       "   c_N   c_T     ⎛   c_N   c_T                                               c\n",
       " - ─── - ─── - 1 ⎜   ─── + ───                                               ─\n",
       "    2     2      ⎜    2     2                              2          c_N     \n",
       "2               ⋅⎝- 2         ⋅H(\\sigma__{\\pi})⋅S_N⋅S_T⋅Y_N ⋅(1 - ω_N)    - 2 \n",
       "──────────────────────────────────────────────────────────────────────────────\n",
       "                                                                              \n",
       "                                                                              \n",
       "\n",
       "_N   c_T                                            c_N   c_T                 \n",
       "── + ───                                            ─── + ───                 \n",
       "2     2                      2    2          c_N     2     2     2    2       \n",
       "        ⋅H(\\sigma__{\\pi})⋅S_T ⋅Y_N ⋅(1 - ω_N)    + 2         ⋅S_N ⋅Y_T ⋅(1 - ω\n",
       "──────────────────────────────────────────────────────────────────────────────\n",
       "                                                                              \n",
       "                                                                              \n",
       "\n",
       "          c_N   c_T                              c_N   c_T                    \n",
       "          ─── + ───                              ─── + ─── + 1                \n",
       "   c_T     2     2             2          c_T     2     2                     \n",
       "_T)    + 2         ⋅S_N⋅S_T⋅Y_T ⋅(1 - ω_T)    - 2             ⋅H(\\sigma__{\\pi}\n",
       "──────────────────────────────────────────────────────────────────────────────\n",
       "                                     ⎛       2                          2     \n",
       "                             S_N⋅S_T⋅⎝S_N⋅Y_N  + 2⋅S_N⋅Y_N⋅Y_T + S_N⋅Y_T  + S_\n",
       "\n",
       "                                  c_N   c_T                                   \n",
       "                                  ─── + ─── + 1                               \n",
       "                           c_N     2     2                          2         \n",
       ")⋅S_N⋅S_T⋅Y_N⋅Y_T⋅(1 - ω_N)    - 2             ⋅H(\\sigma__{\\pi})⋅S_T ⋅Y_N⋅Y_T⋅\n",
       "──────────────────────────────────────────────────────────────────────────────\n",
       "     2                          2⎞                                            \n",
       "T⋅Y_N  + 2⋅S_T⋅Y_N⋅Y_T + S_T⋅Y_T ⎠                                            \n",
       "\n",
       "                                            c_N   c_T                         \n",
       "                                            ─── + ───                         \n",
       "         c_N              2                  2     2                          \n",
       "(1 - ω_N)    + S_N⋅S_T⋅Y_N ⋅(-ω_N - ω_T + 2)          + 2⋅S_N⋅S_T⋅Y_N⋅Y_T⋅(-ω_\n",
       "──────────────────────────────────────────────────────────────────────────────\n",
       "                                                                              \n",
       "                                                                              \n",
       "\n",
       "            c_N   c_T                                c_N   c_T⎞\n",
       "            ─── + ───                                ─── + ───⎟\n",
       "             2     2               2                  2     2 ⎟\n",
       "N - ω_T + 2)          + S_N⋅S_T⋅Y_T ⋅(-ω_N - ω_T + 2)         ⎠\n",
       "───────────────────────────────────────────────────────────────\n",
       "                                                               \n",
       "                                                               "
      ]
     },
     "execution_count": 17,
     "metadata": {},
     "output_type": "execute_result"
    }
   ],
   "source": [
    "bd_solved = sp.solve({sp.Eq(d_phi_N_1, d_phi_1_req), sp.Eq(d_phi_T_1, d_phi_1_req)},[b,d])\n",
    "sp.simplify(bd_solved[b])"
   ]
  },
  {
   "cell_type": "code",
   "execution_count": 18,
   "metadata": {},
   "outputs": [
    {
     "data": {
      "image/png": "[encoded data removed]",
      "text/latex": [
       "$\\displaystyle \\frac{- H(\\sigma^{\\pi}) S_{N} S_{T} Y_{N}^{2} \\eta \\left(1 - \\omega_{N}\\right)^{c_{N}} + H(\\sigma^{\\pi}) S_{N} S_{T} Y_{N}^{2} \\left(1 - \\omega_{N}\\right)^{c_{N}} - H(\\sigma^{\\pi}) S_{T}^{2} Y_{N}^{2} \\eta \\left(1 - \\omega_{N}\\right)^{c_{N}} + H(\\sigma^{\\pi}) S_{T}^{2} Y_{N}^{2} \\left(1 - \\omega_{N}\\right)^{c_{N}} - S_{N}^{2} Y_{T}^{2} \\eta \\left(1 - \\omega_{T}\\right)^{c_{T}} + S_{N}^{2} Y_{T}^{2} \\left(1 - \\omega_{T}\\right)^{c_{T}} - S_{N} S_{T} Y_{T}^{2} \\eta \\left(1 - \\omega_{T}\\right)^{c_{T}} + S_{N} S_{T} Y_{T}^{2} \\left(1 - \\omega_{T}\\right)^{c_{T}} + 2^{- \\frac{c_{N}}{2}} \\cdot 2^{- \\frac{c_{T}}{2}} S_{N} S_{T} Y_{N}^{2} \\eta \\left(- \\omega_{N} - \\omega_{T} + 2\\right)^{\\frac{c_{N}}{2}} \\left(- \\omega_{N} - \\omega_{T} + 2\\right)^{\\frac{c_{T}}{2}} + 2 \\cdot 2^{- \\frac{c_{N}}{2}} \\cdot 2^{- \\frac{c_{T}}{2}} S_{N} S_{T} Y_{N} Y_{T} \\eta \\left(- \\omega_{N} - \\omega_{T} + 2\\right)^{\\frac{c_{N}}{2}} \\left(- \\omega_{N} - \\omega_{T} + 2\\right)^{\\frac{c_{T}}{2}} + 2^{- \\frac{c_{N}}{2}} \\cdot 2^{- \\frac{c_{T}}{2}} S_{N} S_{T} Y_{T}^{2} \\eta \\left(- \\omega_{N} - \\omega_{T} + 2\\right)^{\\frac{c_{N}}{2}} \\left(- \\omega_{N} - \\omega_{T} + 2\\right)^{\\frac{c_{T}}{2}}}{2 S_{N} S_{T} \\left(S_{N} + S_{T}\\right)}$"
      ],
      "text/plain": [
       "                                                                              \n",
       "                                                                              \n",
       "                              2            c_N                               2\n",
       "- H(\\sigma__{\\pi})⋅S_N⋅S_T⋅Y_N ⋅η⋅(1 - ω_N)    + H(\\sigma__{\\pi})⋅S_N⋅S_T⋅Y_N \n",
       "──────────────────────────────────────────────────────────────────────────────\n",
       "                                                                              \n",
       "\n",
       "                                                                              \n",
       "                                                                              \n",
       "          c_N                       2    2            c_N                     \n",
       "⋅(1 - ω_N)    - H(\\sigma__{\\pi})⋅S_T ⋅Y_N ⋅η⋅(1 - ω_N)    + H(\\sigma__{\\pi})⋅S\n",
       "──────────────────────────────────────────────────────────────────────────────\n",
       "                                                                              \n",
       "\n",
       "                                                                              \n",
       "                                                                              \n",
       "  2    2          c_N      2    2            c_T      2    2          c_T     \n",
       "_T ⋅Y_N ⋅(1 - ω_N)    - S_N ⋅Y_T ⋅η⋅(1 - ω_T)    + S_N ⋅Y_T ⋅(1 - ω_T)    - S_\n",
       "──────────────────────────────────────────────────────────────────────────────\n",
       "                                                                              \n",
       "\n",
       "                                                         -c_N   -c_T          \n",
       "                                                         ─────  ─────         \n",
       "         2            c_T              2          c_T      2      2           \n",
       "N⋅S_T⋅Y_T ⋅η⋅(1 - ω_T)    + S_N⋅S_T⋅Y_T ⋅(1 - ω_T)    + 2     ⋅2     ⋅S_N⋅S_T⋅\n",
       "──────────────────────────────────────────────────────────────────────────────\n",
       "        2⋅S_N⋅S_T⋅(S_N + S_T)                                                 \n",
       "\n",
       "                       c_N                 c_T      -c_N   -c_T               \n",
       "                       ───                 ───      ─────  ─────              \n",
       "   2                    2                   2         2      2                \n",
       "Y_N ⋅η⋅(-ω_N - ω_T + 2)   ⋅(-ω_N - ω_T + 2)    + 2⋅2     ⋅2     ⋅S_N⋅S_T⋅Y_N⋅Y\n",
       "──────────────────────────────────────────────────────────────────────────────\n",
       "                                                                              \n",
       "\n",
       "                     c_N                 c_T    -c_N   -c_T                   \n",
       "                     ───                 ───    ─────  ─────                  \n",
       "                      2                   2       2      2              2     \n",
       "_T⋅η⋅(-ω_N - ω_T + 2)   ⋅(-ω_N - ω_T + 2)    + 2     ⋅2     ⋅S_N⋅S_T⋅Y_T ⋅η⋅(-\n",
       "──────────────────────────────────────────────────────────────────────────────\n",
       "                                                                              \n",
       "\n",
       "              c_N                 c_T\n",
       "              ───                 ───\n",
       "               2                   2 \n",
       "ω_N - ω_T + 2)   ⋅(-ω_N - ω_T + 2)   \n",
       "─────────────────────────────────────\n",
       "                                     "
      ]
     },
     "execution_count": 18,
     "metadata": {},
     "output_type": "execute_result"
    }
   ],
   "source": [
    "phi_abcd = phi_ext_ac.subs(bd_solved)\n",
    "sp.simplify(phi_abcd)"
   ]
  },
  {
   "cell_type": "code",
   "execution_count": 19,
   "metadata": {},
   "outputs": [
    {
     "data": {
      "image/png": "[encoded data removed]",
      "text/latex": [
       "$\\displaystyle \\frac{2^{- \\frac{c_{N}}{2}} \\cdot 2^{- \\frac{c_{T}}{2}} \\left(Y_{N} + Y_{T}\\right) \\left(- \\omega_{N} - \\omega_{T} + 2\\right)^{\\frac{c_{N}}{2}} \\left(- \\omega_{N} - \\omega_{T} + 2\\right)^{\\frac{c_{T}}{2}}}{S_{N} + S_{T}}$"
      ],
      "text/plain": [
       " -c_N   -c_T                              c_N                 c_T\n",
       " ─────  ─────                             ───                 ───\n",
       "   2      2                                2                   2 \n",
       "2     ⋅2     ⋅(Y_N + Y_T)⋅(-ω_N - ω_T + 2)   ⋅(-ω_N - ω_T + 2)   \n",
       "─────────────────────────────────────────────────────────────────\n",
       "                            S_N + S_T                            "
      ]
     },
     "execution_count": 19,
     "metadata": {},
     "output_type": "execute_result"
    }
   ],
   "source": [
    "sp.simplify(phi_abcd.diff(Y_T).subs(eta,1))"
   ]
  },
  {
   "cell_type": "code",
   "execution_count": 20,
   "metadata": {},
   "outputs": [
    {
     "data": {
      "image/png": "[encoded data removed]",
      "text/latex": [
       "$\\displaystyle \\frac{H(\\sigma^{\\pi}) S_{N} Y_{N} \\left(1 - \\omega_{N}\\right)^{c_{N}} + H(\\sigma^{\\pi}) S_{T} Y_{N} \\left(1 - \\omega_{N}\\right)^{c_{N}} + 2^{- \\frac{c_{N}}{2}} \\cdot 2^{- \\frac{c_{T}}{2}} S_{N} Y_{N} \\left(- \\omega_{N} - \\omega_{T} + 2\\right)^{\\frac{c_{N}}{2}} \\left(- \\omega_{N} - \\omega_{T} + 2\\right)^{\\frac{c_{T}}{2}} + 2^{- \\frac{c_{N}}{2}} \\cdot 2^{- \\frac{c_{T}}{2}} S_{N} Y_{T} \\left(- \\omega_{N} - \\omega_{T} + 2\\right)^{\\frac{c_{N}}{2}} \\left(- \\omega_{N} - \\omega_{T} + 2\\right)^{\\frac{c_{T}}{2}}}{2 S_{N} \\left(S_{N} + S_{T}\\right)}$"
      ],
      "text/plain": [
       "                                                                              \n",
       "                                                                              \n",
       "                                  c_N                                     c_N \n",
       "H(\\sigma__{\\pi})⋅S_N⋅Y_N⋅(1 - ω_N)    + H(\\sigma__{\\pi})⋅S_T⋅Y_N⋅(1 - ω_N)    \n",
       "──────────────────────────────────────────────────────────────────────────────\n",
       "                                                                              \n",
       "\n",
       "   -c_N   -c_T                          c_N                 c_T    -c_N   -c_T\n",
       "   ─────  ─────                         ───                 ───    ─────  ────\n",
       "     2      2                            2                   2       2      2 \n",
       "+ 2     ⋅2     ⋅S_N⋅Y_N⋅(-ω_N - ω_T + 2)   ⋅(-ω_N - ω_T + 2)    + 2     ⋅2    \n",
       "──────────────────────────────────────────────────────────────────────────────\n",
       "                2⋅S_N⋅(S_N + S_T)                                             \n",
       "\n",
       "                          c_N                 c_T\n",
       "─                         ───                 ───\n",
       "                           2                   2 \n",
       " ⋅S_N⋅Y_T⋅(-ω_N - ω_T + 2)   ⋅(-ω_N - ω_T + 2)   \n",
       "─────────────────────────────────────────────────\n",
       "                                                 "
      ]
     },
     "execution_count": 20,
     "metadata": {},
     "output_type": "execute_result"
    }
   ],
   "source": [
    "sp.simplify(phi_abcd.diff(Y_N).subs(eta,sp.Rational(1,2)))"
   ]
  },
  {
   "cell_type": "markdown",
   "metadata": {},
   "source": [
    "# Geometric mean "
   ]
  },
  {
   "cell_type": "code",
   "execution_count": 21,
   "metadata": {},
   "outputs": [
    {
     "data": {
      "image/png": "[encoded data removed]",
      "text/latex": [
       "$\\displaystyle Y_{N}^{2} a + Y_{N} b \\eta \\left(Y_{N} + Y_{T}\\right) + Y_{T}^{2} c + Y_{T} d \\eta \\left(Y_{N} + Y_{T}\\right)$"
      ],
      "text/plain": [
       "   2                              2                        \n",
       "Y_N ⋅a + Y_N⋅b⋅η⋅(Y_N + Y_T) + Y_T ⋅c + Y_T⋅d⋅η⋅(Y_N + Y_T)"
      ]
     },
     "execution_count": 21,
     "metadata": {},
     "output_type": "execute_result"
    }
   ],
   "source": [
    "a,b,c,d = sp.symbols('a,b,c,d')\n",
    "H = lambda x: sp.Piecewise( (0, x <=0 ), (1, True) )\n",
    "H_switch, sig_pi = sp.symbols(r'H(\\sigma^{\\pi}), \\sigma^\\pi', real=True)\n",
    "phi2_ext = a * Y_N**2 + b * eta * Y_N*(Y_N+Y_T) + c * Y_T**2 + d * eta * Y_T*(Y_N+Y_T)\n",
    "phi2_ext"
   ]
  },
  {
   "cell_type": "code",
   "execution_count": 22,
   "metadata": {},
   "outputs": [
    {
     "data": {
      "image/png": "[encoded data removed]",
      "text/latex": [
       "$\\displaystyle \\left( 2 Y_{N} a, \\  \\frac{H(\\sigma^{\\pi}) \\left(1 - \\omega_{N}\\right)^{c_{N}}}{2 S_{N}}\\right)$"
      ],
      "text/plain": [
       "⎛                                   c_N⎞\n",
       "⎜         H(\\sigma__{\\pi})⋅(1 - ω_N)   ⎟\n",
       "⎜2⋅Y_N⋅a, ─────────────────────────────⎟\n",
       "⎝                     2⋅S_N            ⎠"
      ]
     },
     "execution_count": 22,
     "metadata": {},
     "output_type": "execute_result"
    }
   ],
   "source": [
    "d_phi2_N_0 = phi2_ext.diff(Y_N).subs(eta,0)\n",
    "a2_solved = sp.solve( sp.Eq( d_phi2_N_0, (1 - omega_N)**c_N * Y_N / S_N * H_switch ), a )[0]\n",
    "#a_solved = sp.solve( sp.Eq( d_phi_N_0, (1 - omega_N)**c_N * Y_N / S_N ), a )[0]\n",
    "d_phi2_N_0, a2_solved"
   ]
  },
  {
   "cell_type": "code",
   "execution_count": 23,
   "metadata": {},
   "outputs": [
    {
     "data": {
      "image/png": "[encoded data removed]",
      "text/latex": [
       "$\\displaystyle \\left( 2 Y_{T} c, \\  \\frac{\\left(1 - \\omega_{T}\\right)^{c_{T}}}{2 S_{T}}\\right)$"
      ],
      "text/plain": [
       "⎛                  c_T⎞\n",
       "⎜         (1 - ω_T)   ⎟\n",
       "⎜2⋅Y_T⋅c, ────────────⎟\n",
       "⎝            2⋅S_T    ⎠"
      ]
     },
     "execution_count": 23,
     "metadata": {},
     "output_type": "execute_result"
    }
   ],
   "source": [
    "d_phi2_T_0 = phi2_ext.diff(Y_T).subs(eta,0)\n",
    "c2_solved = sp.solve( sp.Eq( d_phi2_T_0, (1 - omega_T)**c_T * Y_T / S_T ), c )[0]\n",
    "d_phi2_T_0, c2_solved"
   ]
  },
  {
   "cell_type": "code",
   "execution_count": 24,
   "metadata": {},
   "outputs": [
    {
     "data": {
      "image/png": "[encoded data removed]",
      "text/latex": [
       "$\\displaystyle \\frac{H(\\sigma^{\\pi}) Y_{N}^{2} \\left(1 - \\omega_{N}\\right)^{c_{N}}}{2 S_{N}} + Y_{N} b \\eta \\left(Y_{N} + Y_{T}\\right) + Y_{T} d \\eta \\left(Y_{N} + Y_{T}\\right) + \\frac{Y_{T}^{2} \\left(1 - \\omega_{T}\\right)^{c_{T}}}{2 S_{T}}$"
      ],
      "text/plain": [
       "                    2          c_N                                            \n",
       "H(\\sigma__{\\pi})⋅Y_N ⋅(1 - ω_N)                                               \n",
       "────────────────────────────────── + Y_N⋅b⋅η⋅(Y_N + Y_T) + Y_T⋅d⋅η⋅(Y_N + Y_T)\n",
       "              2⋅S_N                                                           \n",
       "\n",
       "      2          c_T\n",
       "   Y_T ⋅(1 - ω_T)   \n",
       " + ─────────────────\n",
       "         2⋅S_T      "
      ]
     },
     "execution_count": 24,
     "metadata": {},
     "output_type": "execute_result"
    }
   ],
   "source": [
    "phi2_ext_ac = phi2_ext.subs({a: a2_solved, c: c2_solved})\n",
    "phi2_ext_ac"
   ]
  },
  {
   "cell_type": "code",
   "execution_count": 25,
   "metadata": {},
   "outputs": [
    {
     "data": {
      "image/png": "[encoded data removed]",
      "text/latex": [
       "$\\displaystyle \\frac{H(\\sigma^{\\pi}) Y_{N} \\left(1 - \\omega_{N}\\right)^{c_{N}}}{S_{N}} + Y_{N} b + Y_{T} d + b \\left(Y_{N} + Y_{T}\\right)$"
      ],
      "text/plain": [
       "                              c_N                                \n",
       "H(\\sigma__{\\pi})⋅Y_N⋅(1 - ω_N)                                   \n",
       "───────────────────────────────── + Y_N⋅b + Y_T⋅d + b⋅(Y_N + Y_T)\n",
       "               S_N                                               "
      ]
     },
     "execution_count": 25,
     "metadata": {},
     "output_type": "execute_result"
    }
   ],
   "source": [
    "d_phi2_N_1 = phi2_ext_ac.diff(Y_N).subs(eta,1)\n",
    "d_phi2_N_1"
   ]
  },
  {
   "cell_type": "code",
   "execution_count": 26,
   "metadata": {},
   "outputs": [
    {
     "data": {
      "image/png": "[encoded data removed]",
      "text/latex": [
       "$\\displaystyle Y_{N} b + Y_{T} d + d \\left(Y_{N} + Y_{T}\\right) + \\frac{Y_{T} \\left(1 - \\omega_{T}\\right)^{c_{T}}}{S_{T}}$"
      ],
      "text/plain": [
       "                                             c_T\n",
       "                                Y_T⋅(1 - ω_T)   \n",
       "Y_N⋅b + Y_T⋅d + d⋅(Y_N + Y_T) + ────────────────\n",
       "                                      S_T       "
      ]
     },
     "execution_count": 26,
     "metadata": {},
     "output_type": "execute_result"
    }
   ],
   "source": [
    "d_phi2_T_1 = phi2_ext_ac.diff(Y_T).subs(eta,1)\n",
    "d_phi2_T_1"
   ]
  },
  {
   "cell_type": "code",
   "execution_count": 27,
   "metadata": {},
   "outputs": [
    {
     "data": {
      "image/png": "[encoded data removed]",
      "text/latex": [
       "$\\displaystyle \\frac{\\left(1 - \\sqrt{\\omega_{N} \\omega_{T}}\\right)^{\\sqrt{c_{N} c_{T}}} \\left(Y_{N} + Y_{T}\\right)}{2 \\sqrt{S_{N} S_{T}}}$"
      ],
      "text/plain": [
       "                   _________            \n",
       "                 ╲╱ c_N⋅c_T             \n",
       "⎛      _________⎞                       \n",
       "⎝1 - ╲╱ ω_N⋅ω_T ⎠           ⋅(Y_N + Y_T)\n",
       "────────────────────────────────────────\n",
       "                 _________              \n",
       "             2⋅╲╱ S_N⋅S_T               "
      ]
     },
     "execution_count": 27,
     "metadata": {},
     "output_type": "execute_result"
    }
   ],
   "source": [
    "c_NT = sp.sqrt(c_N*c_T)\n",
    "S_NT = sp.sqrt(S_N*S_T)\n",
    "d_phi_2_req = (1 - sp.sqrt(omega_N*omega_T))**(c_NT) * (Y_N+Y_T) / (2*S_NT) \n",
    "d_phi_2_req"
   ]
  },
  {
   "cell_type": "code",
   "execution_count": 28,
   "metadata": {},
   "outputs": [
    {
     "data": {
      "image/png": "[encoded data removed]",
      "text/latex": [
       "$\\displaystyle \\frac{- 2 H(\\sigma^{\\pi}) S_{N} S_{T}^{2} Y_{N}^{2} \\left(1 - \\omega_{N}\\right)^{c_{N}} - 4 H(\\sigma^{\\pi}) S_{N} S_{T}^{2} Y_{N} Y_{T} \\left(1 - \\omega_{N}\\right)^{c_{N}} + 2 S_{N}^{2} S_{T} Y_{T}^{2} \\left(1 - \\omega_{T}\\right)^{c_{T}} + Y_{N}^{2} \\left(S_{N} S_{T}\\right)^{\\frac{3}{2}} \\left(1 - \\sqrt{\\omega_{N} \\omega_{T}}\\right)^{\\sqrt{c_{N} c_{T}}} + 2 Y_{N} Y_{T} \\left(S_{N} S_{T}\\right)^{\\frac{3}{2}} \\left(1 - \\sqrt{\\omega_{N} \\omega_{T}}\\right)^{\\sqrt{c_{N} c_{T}}} + Y_{T}^{2} \\left(S_{N} S_{T}\\right)^{\\frac{3}{2}} \\left(1 - \\sqrt{\\omega_{N} \\omega_{T}}\\right)^{\\sqrt{c_{N} c_{T}}}}{4 S_{N}^{2} S_{T}^{2} \\left(Y_{N}^{2} + 2 Y_{N} Y_{T} + Y_{T}^{2}\\right)}$"
      ],
      "text/plain": [
       "                                                                              \n",
       "                                                                              \n",
       "                            2    2          c_N                             2 \n",
       "- 2⋅H(\\sigma__{\\pi})⋅S_N⋅S_T ⋅Y_N ⋅(1 - ω_N)    - 4⋅H(\\sigma__{\\pi})⋅S_N⋅S_T ⋅\n",
       "──────────────────────────────────────────────────────────────────────────────\n",
       "                                                                              \n",
       "                                                                              \n",
       "\n",
       "                                                                              \n",
       "                                                                              \n",
       "                 c_N        2        2          c_T      2          3/2 ⎛     \n",
       "Y_N⋅Y_T⋅(1 - ω_N)    + 2⋅S_N ⋅S_T⋅Y_T ⋅(1 - ω_T)    + Y_N ⋅(S_N⋅S_T)   ⋅⎝1 - ╲\n",
       "──────────────────────────────────────────────────────────────────────────────\n",
       "                                                 2    2 ⎛   2                 \n",
       "                                            4⋅S_N ⋅S_T ⋅⎝Y_N  + 2⋅Y_N⋅Y_T + Y_\n",
       "\n",
       "             _________                                             _________  \n",
       "           ╲╱ c_N⋅c_T                                            ╲╱ c_N⋅c_T   \n",
       " _________⎞                                 3/2 ⎛      _________⎞             \n",
       "╱ ω_N⋅ω_T ⎠            + 2⋅Y_N⋅Y_T⋅(S_N⋅S_T)   ⋅⎝1 - ╲╱ ω_N⋅ω_T ⎠            +\n",
       "──────────────────────────────────────────────────────────────────────────────\n",
       " 2⎞                                                                           \n",
       "T ⎠                                                                           \n",
       "\n",
       "                                      _________\n",
       "                                    ╲╱ c_N⋅c_T \n",
       "    2          3/2 ⎛      _________⎞           \n",
       " Y_T ⋅(S_N⋅S_T)   ⋅⎝1 - ╲╱ ω_N⋅ω_T ⎠           \n",
       "───────────────────────────────────────────────\n",
       "                                               \n",
       "                                               "
      ]
     },
     "execution_count": 28,
     "metadata": {},
     "output_type": "execute_result"
    }
   ],
   "source": [
    "bd2_solved = sp.solve({sp.Eq(d_phi2_N_1, d_phi_2_req), sp.Eq(d_phi2_T_1, d_phi_2_req)},[b,d])\n",
    "sp.simplify(bd2_solved[b])"
   ]
  },
  {
   "cell_type": "code",
   "execution_count": 29,
   "metadata": {},
   "outputs": [
    {
     "data": {
      "image/png": "[encoded data removed]",
      "text/latex": [
       "$\\displaystyle \\frac{H(\\sigma^{\\pi}) Y_{N}^{2} \\left(1 - \\omega_{N}\\right)^{c_{N}}}{2 S_{N}} + \\frac{Y_{T}^{2} \\left(1 - \\omega_{T}\\right)^{c_{T}}}{2 S_{T}}$"
      ],
      "text/plain": [
       "                    2          c_N      2          c_T\n",
       "H(\\sigma__{\\pi})⋅Y_N ⋅(1 - ω_N)      Y_T ⋅(1 - ω_T)   \n",
       "────────────────────────────────── + ─────────────────\n",
       "              2⋅S_N                        2⋅S_T      "
      ]
     },
     "execution_count": 29,
     "metadata": {},
     "output_type": "execute_result"
    }
   ],
   "source": [
    "phi2_abcd = phi2_ext_ac.subs(bd2_solved)\n",
    "sp.simplify(phi2_abcd).subs(eta,0)"
   ]
  },
  {
   "cell_type": "code",
   "execution_count": 30,
   "metadata": {},
   "outputs": [
    {
     "data": {
      "image/png": "[encoded data removed]",
      "text/latex": [
       "$\\displaystyle \\frac{Y_{T} \\left(1 - \\omega_{T}\\right)^{c_{T}}}{S_{T}}$"
      ],
      "text/plain": [
       "             c_T\n",
       "Y_T⋅(1 - ω_T)   \n",
       "────────────────\n",
       "      S_T       "
      ]
     },
     "execution_count": 30,
     "metadata": {},
     "output_type": "execute_result"
    }
   ],
   "source": [
    "omega_T_solved_0 = sp.simplify(phi2_abcd.diff(Y_T).subs(eta,0))\n",
    "omega_T_solved_0"
   ]
  },
  {
   "cell_type": "code",
   "execution_count": 31,
   "metadata": {},
   "outputs": [
    {
     "data": {
      "image/png": "[encoded data removed]",
      "text/latex": [
       "$\\displaystyle \\frac{H(\\sigma^{\\pi}) Y_{N} \\left(1 - \\omega_{N}\\right)^{c_{N}}}{S_{N}}$"
      ],
      "text/plain": [
       "                              c_N\n",
       "H(\\sigma__{\\pi})⋅Y_N⋅(1 - ω_N)   \n",
       "─────────────────────────────────\n",
       "               S_N               "
      ]
     },
     "execution_count": 31,
     "metadata": {},
     "output_type": "execute_result"
    }
   ],
   "source": [
    "omega_N_solved_0 = sp.simplify(phi2_abcd.diff(Y_N).subs(eta,0))\n",
    "omega_N_solved_0"
   ]
  },
  {
   "cell_type": "code",
   "execution_count": 32,
   "metadata": {},
   "outputs": [
    {
     "data": {
      "image/png": "[encoded data removed]",
      "text/latex": [
       "$\\displaystyle \\frac{\\left(S_{N} S_{T}\\right)^{\\frac{3}{2}} \\left(1 - \\sqrt{\\omega_{N} \\omega_{T}}\\right)^{\\sqrt{c_{N} c_{T}}} \\left(Y_{N} + Y_{T}\\right)}{2 S_{N}^{2} S_{T}^{2}}$"
      ],
      "text/plain": [
       "                                _________            \n",
       "                              ╲╱ c_N⋅c_T             \n",
       "         3/2 ⎛      _________⎞                       \n",
       "(S_N⋅S_T)   ⋅⎝1 - ╲╱ ω_N⋅ω_T ⎠           ⋅(Y_N + Y_T)\n",
       "─────────────────────────────────────────────────────\n",
       "                          2    2                     \n",
       "                     2⋅S_N ⋅S_T                      "
      ]
     },
     "execution_count": 32,
     "metadata": {},
     "output_type": "execute_result"
    }
   ],
   "source": [
    "omega_N_solved_1 = sp.simplify(phi2_abcd.diff(Y_N).subs(eta,1))\n",
    "omega_N_solved_1"
   ]
  },
  {
   "cell_type": "code",
   "execution_count": 33,
   "metadata": {},
   "outputs": [
    {
     "data": {
      "image/png": "[encoded data removed]",
      "text/latex": [
       "$\\displaystyle \\frac{\\left(S_{N} S_{T}\\right)^{\\frac{3}{2}} \\left(1 - \\sqrt{\\omega_{N} \\omega_{T}}\\right)^{\\sqrt{c_{N} c_{T}}} \\left(Y_{N} + Y_{T}\\right)}{2 S_{N}^{2} S_{T}^{2}}$"
      ],
      "text/plain": [
       "                                _________            \n",
       "                              ╲╱ c_N⋅c_T             \n",
       "         3/2 ⎛      _________⎞                       \n",
       "(S_N⋅S_T)   ⋅⎝1 - ╲╱ ω_N⋅ω_T ⎠           ⋅(Y_N + Y_T)\n",
       "─────────────────────────────────────────────────────\n",
       "                          2    2                     \n",
       "                     2⋅S_N ⋅S_T                      "
      ]
     },
     "execution_count": 33,
     "metadata": {},
     "output_type": "execute_result"
    }
   ],
   "source": [
    "omega_T_solved_1 = sp.simplify(phi2_abcd.diff(Y_T).subs(eta,1))\n",
    "omega_T_solved_1"
   ]
  },
  {
   "cell_type": "markdown",
   "metadata": {},
   "source": [
    "**Archived compact version:** derived by Mirek for the case of dropped fundamental damage terms $(1 - \\omega_\\mathrm{N})^{c_\\mathrm{N}}$ and $(1 - \\omega_\\mathrm{T})^{c_\\mathrm{T}}$"
   ]
  },
  {
   "cell_type": "code",
   "execution_count": 34,
   "metadata": {},
   "outputs": [
    {
     "data": {
      "image/png": "[encoded data removed]",
      "text/latex": [
       "$\\displaystyle \\frac{S_{N} S_{T} \\left(Y_{N}^{2} + 2 Y_{N} Y_{T} \\eta + Y_{T}^{2}\\right) + \\left(1 - \\eta\\right) \\left(S_{N}^{2} Y_{T}^{2} + S_{T}^{2} Y_{N}^{2}\\right)}{2 S_{N} S_{T} \\left(S_{N} + S_{T}\\right)}$"
      ],
      "text/plain": [
       "        ⎛   2                    2⎞           ⎛   2    2      2    2⎞\n",
       "S_N⋅S_T⋅⎝Y_N  + 2⋅Y_N⋅Y_T⋅η + Y_T ⎠ + (1 - η)⋅⎝S_N ⋅Y_T  + S_T ⋅Y_N ⎠\n",
       "─────────────────────────────────────────────────────────────────────\n",
       "                        2⋅S_N⋅S_T⋅(S_N + S_T)                        "
      ]
     },
     "execution_count": 34,
     "metadata": {},
     "output_type": "execute_result"
    }
   ],
   "source": [
    "phi_simplified = (\n",
    "    (( 1 - eta ) * ( Y_T**2 * S_N**2 + Y_N**2 * S_T**2 ) +\n",
    "    S_N * S_T * ( Y_T**2 + Y_N**2 + 2 * Y_T * Y_N * eta )) /\n",
    "    (2* S_N * S_T * ( S_N + S_T ))\n",
    ")\n",
    "phi_simplified"
   ]
  },
  {
   "cell_type": "markdown",
   "metadata": {},
   "source": [
    "# Scaling of phi between coupled and uncoupled cases"
   ]
  },
  {
   "cell_type": "code",
   "execution_count": 35,
   "metadata": {},
   "outputs": [],
   "source": [
    "def avg(var1, var2):\n",
    "    return (var1 + var2) / 2\n",
    "r = sp.symbols(r'r', positive=True)\n",
    "c_NT = avg(c_N, c_T)\n",
    "S_NT = avg(S_N, S_T)\n",
    "omega_NT = avg(omega_N, omega_T)\n",
    "Y_NT = avg(Y_N, Y_T)\n",
    "phi_N = (1 - omega_N)**(c_N) * S_N/(r+1) * (Y_N/S_N)**(r+1) # * H_switch\n",
    "phi_T = (1 - omega_T)**(c_T) * S_T/(r+1) * (Y_T/S_T)**(r+1)\n",
    "phi_NT  = (1 - omega_NT)**(c_NT) * 2*S_NT/(r+1) * (Y_NT/S_NT)**(r+1)\n",
    "phi_ = (1 - eta) * (phi_N + phi_T) + eta * phi_NT"
   ]
  },
  {
   "cell_type": "code",
   "execution_count": 36,
   "metadata": {},
   "outputs": [
    {
     "data": {
      "image/png": "[encoded data removed]",
      "text/latex": [
       "$\\displaystyle \\frac{Y_{T} \\left(1 - \\omega_{T}\\right)^{c_{T}}}{S_{T}}$"
      ],
      "text/plain": [
       "             c_T\n",
       "Y_T⋅(1 - ω_T)   \n",
       "────────────────\n",
       "      S_T       "
      ]
     },
     "execution_count": 36,
     "metadata": {},
     "output_type": "execute_result"
    }
   ],
   "source": [
    "sp.simplify(phi_).subs(r,1).subs(eta,0).diff(Y_T)"
   ]
  },
  {
   "cell_type": "code",
   "execution_count": 37,
   "metadata": {},
   "outputs": [
    {
     "data": {
      "image/png": "[encoded data removed]",
      "text/latex": [
       "$\\displaystyle \\frac{Y_{N} \\left(1 - \\omega_{N}\\right)^{c_{N}}}{S_{N}}$"
      ],
      "text/plain": [
       "             c_N\n",
       "Y_N⋅(1 - ω_N)   \n",
       "────────────────\n",
       "      S_N       "
      ]
     },
     "execution_count": 37,
     "metadata": {},
     "output_type": "execute_result"
    }
   ],
   "source": [
    "sp.simplify(phi_).subs(r,1).subs(eta,0).diff(Y_N)"
   ]
  },
  {
   "cell_type": "code",
   "execution_count": null,
   "metadata": {},
   "outputs": [],
   "source": []
  },
  {
   "cell_type": "markdown",
   "metadata": {},
   "source": [
    "# Derivation of potential from a damage function"
   ]
  },
  {
   "cell_type": "code",
   "execution_count": 38,
   "metadata": {},
   "outputs": [],
   "source": [
    "A_d, Y_N, R_N, lambda_N = sp.symbols('A_d, Y_N, R_N, lambda_N')\n",
    "dot_Y_N, dot_R_N = sp.symbols(r'\\dot{Y}_N, \\dot{R}_N')\n",
    "E_N , eps_N = sp.symbols(r'E_N, \\epsilon_N')\n",
    "dot_eps_N = sp.symbols(r'\\dot{\\epsilon}_N')\n",
    "r_N, dot_r_N = sp.symbols(r'r_N, \\dot{r}_N')\n",
    "f_N = sp.Function('f_N')(r_N)\n",
    "omega_N = sp.symbols(r'\\omega_N')\n",
    "dot_omega_N = sp.symbols(r'\\dot{\\omega}_N')"
   ]
  },
  {
   "cell_type": "code",
   "execution_count": 39,
   "metadata": {},
   "outputs": [
    {
     "data": {
      "image/png": "[encoded data removed]",
      "text/latex": [
       "$\\displaystyle E_{N} \\epsilon_{N}^{2} \\left(\\frac{1}{2} - \\frac{\\omega_{N}}{2}\\right) + \\operatorname{f_{N}}{\\left(r_{N} \\right)}$"
      ],
      "text/plain": [
       "              2 ⎛1   \\omega_N⎞           \n",
       "E_N⋅\\epsilon_N ⋅⎜─ - ────────⎟ + f_N(r_N)\n",
       "                ⎝2      2    ⎠           "
      ]
     },
     "execution_count": 39,
     "metadata": {},
     "output_type": "execute_result"
    }
   ],
   "source": [
    "psi_omega = sp.Rational(1,2)*(1 - omega_N)*E_N*eps_N**2 + f_N\n",
    "psi_omega"
   ]
  },
  {
   "cell_type": "code",
   "execution_count": 40,
   "metadata": {},
   "outputs": [
    {
     "data": {
      "image/png": "[encoded data removed]",
      "text/latex": [
       "$\\displaystyle \\frac{E_{N} \\epsilon_{N}^{2}}{2}$"
      ],
      "text/plain": [
       "              2\n",
       "E_N⋅\\epsilon_N \n",
       "───────────────\n",
       "       2       "
      ]
     },
     "execution_count": 40,
     "metadata": {},
     "output_type": "execute_result"
    }
   ],
   "source": [
    "sigma_N_ = psi_omega.diff(eps_N)\n",
    "Y_N_ = -psi_omega.diff(omega_N)\n",
    "R_N_ = psi_omega.diff(r_N)\n",
    "Y_N_"
   ]
  },
  {
   "cell_type": "code",
   "execution_count": 41,
   "metadata": {},
   "outputs": [
    {
     "data": {
      "image/png": "[encoded data removed]",
      "text/latex": [
       "$\\displaystyle \\dot{r}_N \\frac{d^{2}}{d r_{N}^{2}} \\operatorname{f_{N}}{\\left(r_{N} \\right)}$"
      ],
      "text/plain": [
       "             2           \n",
       "            d            \n",
       "\\dot{r}_N⋅─────(f_N(r_N))\n",
       "              2          \n",
       "          dr_N           "
      ]
     },
     "execution_count": 41,
     "metadata": {},
     "output_type": "execute_result"
    }
   ],
   "source": [
    "dot_R_N_ = R_N_.diff(r_N) * dot_r_N\n",
    "dot_R_N_"
   ]
  },
  {
   "cell_type": "code",
   "execution_count": 42,
   "metadata": {},
   "outputs": [
    {
     "data": {
      "image/png": "[encoded data removed]",
      "text/latex": [
       "$\\displaystyle E_{N} \\dot{\\epsilon}_N \\epsilon_{N}$"
      ],
      "text/plain": [
       "E_N⋅\\dot{\\epsilon}_N⋅\\epsilon_N"
      ]
     },
     "execution_count": 42,
     "metadata": {},
     "output_type": "execute_result"
    }
   ],
   "source": [
    "dot_Y_N_ = Y_N_.diff(eps_N) * dot_eps_N + Y_N_.diff(omega_N) * dot_omega_N\n",
    "dot_Y_N_"
   ]
  },
  {
   "cell_type": "code",
   "execution_count": 43,
   "metadata": {},
   "outputs": [],
   "source": [
    "f_omega = Y_N - R_N"
   ]
  },
  {
   "cell_type": "code",
   "execution_count": 44,
   "metadata": {},
   "outputs": [
    {
     "data": {
      "image/png": "[encoded data removed]",
      "text/latex": [
       "$\\displaystyle - R_{N} + Y_{N}$"
      ],
      "text/plain": [
       "-R_N + Y_N"
      ]
     },
     "execution_count": 44,
     "metadata": {},
     "output_type": "execute_result"
    }
   ],
   "source": [
    "f_omega"
   ]
  },
  {
   "cell_type": "code",
   "execution_count": 45,
   "metadata": {},
   "outputs": [
    {
     "data": {
      "image/png": "[encoded data removed]",
      "text/latex": [
       "$\\displaystyle - \\lambda_{N}$"
      ],
      "text/plain": [
       "-λ_N"
      ]
     },
     "execution_count": 45,
     "metadata": {},
     "output_type": "execute_result"
    }
   ],
   "source": [
    "dot_r_N_ = lambda_N * f_omega.diff(R_N)\n",
    "dot_r_N_"
   ]
  },
  {
   "cell_type": "code",
   "execution_count": 46,
   "metadata": {},
   "outputs": [
    {
     "data": {
      "image/png": "[encoded data removed]",
      "text/latex": [
       "$\\displaystyle \\lambda_{N}$"
      ],
      "text/plain": [
       "λ_N"
      ]
     },
     "execution_count": 46,
     "metadata": {},
     "output_type": "execute_result"
    }
   ],
   "source": [
    "dot_omega_N_ = lambda_N * f_omega.diff(Y_N)\n",
    "dot_omega_N_"
   ]
  },
  {
   "cell_type": "code",
   "execution_count": 47,
   "metadata": {},
   "outputs": [],
   "source": [
    "dot_f_omega_ = f_omega.diff(Y_N) * dot_Y_N_ + f_omega.diff(R_N) * dot_R_N_"
   ]
  },
  {
   "cell_type": "code",
   "execution_count": 48,
   "metadata": {},
   "outputs": [
    {
     "data": {
      "image/png": "[encoded data removed]",
      "text/latex": [
       "$\\displaystyle E_{N} \\dot{\\epsilon}_N \\epsilon_{N} - \\dot{r}_N \\frac{d^{2}}{d r_{N}^{2}} \\operatorname{f_{N}}{\\left(r_{N} \\right)}$"
      ],
      "text/plain": [
       "                                               2           \n",
       "                                              d            \n",
       "E_N⋅\\dot{\\epsilon}_N⋅\\epsilon_N - \\dot{r}_N⋅─────(f_N(r_N))\n",
       "                                                2          \n",
       "                                            dr_N           "
      ]
     },
     "execution_count": 48,
     "metadata": {},
     "output_type": "execute_result"
    }
   ],
   "source": [
    "dot_f_omega_"
   ]
  },
  {
   "cell_type": "code",
   "execution_count": 49,
   "metadata": {},
   "outputs": [],
   "source": [
    "dot_f_omega_lambda_ = dot_f_omega_.subs(dot_r_N, dot_r_N_)"
   ]
  },
  {
   "cell_type": "code",
   "execution_count": 50,
   "metadata": {},
   "outputs": [],
   "source": [
    "lambda_N_solved = sp.solve(dot_f_omega_lambda_, lambda_N)[0]"
   ]
  },
  {
   "cell_type": "code",
   "execution_count": 51,
   "metadata": {},
   "outputs": [
    {
     "data": {
      "image/png": "[encoded data removed]",
      "text/latex": [
       "$\\displaystyle - \\frac{E_{N} \\dot{\\epsilon}_N \\epsilon_{N}}{\\frac{d^{2}}{d r_{N}^{2}} \\operatorname{f_{N}}{\\left(r_{N} \\right)}}$"
      ],
      "text/plain": [
       "-E_N⋅\\dot{\\epsilon}_N⋅\\epsilon_N \n",
       "─────────────────────────────────\n",
       "            2                    \n",
       "           d                     \n",
       "         ─────(f_N(r_N))         \n",
       "             2                   \n",
       "         dr_N                    "
      ]
     },
     "execution_count": 51,
     "metadata": {},
     "output_type": "execute_result"
    }
   ],
   "source": [
    "lambda_N_solved"
   ]
  },
  {
   "cell_type": "code",
   "execution_count": 52,
   "metadata": {},
   "outputs": [
    {
     "data": {
      "image/png": "[encoded data removed]",
      "text/latex": [
       "$\\displaystyle - \\frac{E_{N} \\dot{\\epsilon}_N \\epsilon_{N}}{\\frac{d^{2}}{d r_{N}^{2}} \\operatorname{f_{N}}{\\left(r_{N} \\right)}}$"
      ],
      "text/plain": [
       "-E_N⋅\\dot{\\epsilon}_N⋅\\epsilon_N \n",
       "─────────────────────────────────\n",
       "            2                    \n",
       "           d                     \n",
       "         ─────(f_N(r_N))         \n",
       "             2                   \n",
       "         dr_N                    "
      ]
     },
     "execution_count": 52,
     "metadata": {},
     "output_type": "execute_result"
    }
   ],
   "source": [
    "dot_omega_N_solved = dot_omega_N_.subs(lambda_N, lambda_N_solved)\n",
    "dot_omega_N_solved"
   ]
  },
  {
   "cell_type": "markdown",
   "metadata": {},
   "source": [
    "# Damage function from MS1 - N"
   ]
  },
  {
   "cell_type": "markdown",
   "metadata": {},
   "source": [
    "**reference [74]**"
   ]
  },
  {
   "cell_type": "code",
   "execution_count": 53,
   "metadata": {},
   "outputs": [],
   "source": [
    "omega_N_paper = 1 - 1 / (1 + A_d * Y_N_) "
   ]
  },
  {
   "cell_type": "code",
   "execution_count": 54,
   "metadata": {},
   "outputs": [
    {
     "data": {
      "image/png": "[encoded data removed]",
      "text/latex": [
       "$\\displaystyle 1 - \\frac{1}{\\frac{A_{d} E_{N} \\epsilon_{N}^{2}}{2} + 1}$"
      ],
      "text/plain": [
       "               1           \n",
       "1 - ───────────────────────\n",
       "                      2    \n",
       "    A_d⋅E_N⋅\\epsilon_N     \n",
       "    ─────────────────── + 1\n",
       "             2             "
      ]
     },
     "execution_count": 54,
     "metadata": {},
     "output_type": "execute_result"
    }
   ],
   "source": [
    "omega_N_paper"
   ]
  },
  {
   "cell_type": "code",
   "execution_count": 55,
   "metadata": {},
   "outputs": [
    {
     "data": {
      "image/png": "[encoded data removed]",
      "text/latex": [
       "$\\displaystyle \\frac{A_{d} E_{N} \\dot{\\epsilon}_N \\epsilon_{N}}{\\left(\\frac{A_{d} E_{N} \\epsilon_{N}^{2}}{2} + 1\\right)^{2}}$"
      ],
      "text/plain": [
       "A_d⋅E_N⋅\\dot{\\epsilon}_N⋅\\epsilon_N\n",
       "───────────────────────────────────\n",
       "                              2    \n",
       "     ⎛                  2    ⎞     \n",
       "     ⎜A_d⋅E_N⋅\\epsilon_N     ⎟     \n",
       "     ⎜─────────────────── + 1⎟     \n",
       "     ⎝         2             ⎠     "
      ]
     },
     "execution_count": 55,
     "metadata": {},
     "output_type": "execute_result"
    }
   ],
   "source": [
    "dot_omega_N_paper = omega_N_paper.diff(eps_N) * dot_eps_N\n",
    "dot_omega_N_paper"
   ]
  },
  {
   "cell_type": "markdown",
   "metadata": {},
   "source": [
    "**from potential**"
   ]
  },
  {
   "cell_type": "code",
   "execution_count": 56,
   "metadata": {},
   "outputs": [
    {
     "data": {
      "image/png": "[encoded data removed]",
      "text/latex": [
       "$\\displaystyle - \\frac{r_{N}}{A_{d} \\left(r_{N} + 1\\right)}$"
      ],
      "text/plain": [
       "    -r_N     \n",
       "─────────────\n",
       "A_d⋅(r_N + 1)"
      ]
     },
     "execution_count": 56,
     "metadata": {},
     "output_type": "execute_result"
    }
   ],
   "source": [
    "f_prime_r_N = 1 / A_d * -r_N / (1 + r_N)\n",
    "f_prime_r_N"
   ]
  },
  {
   "cell_type": "code",
   "execution_count": 57,
   "metadata": {},
   "outputs": [
    {
     "data": {
      "image/png": "[encoded data removed]",
      "text/latex": [
       "$\\displaystyle \\frac{r_{N}}{A_{d} \\left(r_{N} + 1\\right)^{2}} - \\frac{1}{A_{d} \\left(r_{N} + 1\\right)}$"
      ],
      "text/plain": [
       "     r_N               1      \n",
       "────────────── - ─────────────\n",
       "             2   A_d⋅(r_N + 1)\n",
       "A_d⋅(r_N + 1)                 "
      ]
     },
     "execution_count": 57,
     "metadata": {},
     "output_type": "execute_result"
    }
   ],
   "source": [
    "f_prime_r_N.diff(r_N)"
   ]
  },
  {
   "cell_type": "code",
   "execution_count": 58,
   "metadata": {},
   "outputs": [
    {
     "data": {
      "image/png": "[encoded data removed]",
      "text/latex": [
       "$\\displaystyle A_{d} E_{N} \\dot{\\epsilon}_N \\epsilon_{N} \\left(r_{N} + 1\\right)^{2}$"
      ],
      "text/plain": [
       "                                             2\n",
       "A_d⋅E_N⋅\\dot{\\epsilon}_N⋅\\epsilon_N⋅(r_N + 1) "
      ]
     },
     "execution_count": 58,
     "metadata": {},
     "output_type": "execute_result"
    }
   ],
   "source": [
    "dot_omega_N_potential = sp.simplify(- E_N * eps_N * dot_eps_N / f_prime_r_N.diff(r_N))\n",
    "dot_omega_N_potential"
   ]
  },
  {
   "cell_type": "code",
   "execution_count": 59,
   "metadata": {},
   "outputs": [
    {
     "data": {
      "image/png": "[encoded data removed]",
      "text/latex": [
       "$\\displaystyle \\left[ - \\frac{A_{d} E_{N} \\epsilon_{N}^{2} + 4}{A_{d} E_{N} \\epsilon_{N}^{2} + 2}, \\  - \\frac{A_{d} E_{N} \\epsilon_{N}^{2}}{A_{d} E_{N} \\epsilon_{N}^{2} + 2}\\right]$"
      ],
      "text/plain": [
       "⎡ ⎛                  2    ⎞                       2  ⎤\n",
       "⎢-⎝A_d⋅E_N⋅\\epsilon_N  + 4⎠    -A_d⋅E_N⋅\\epsilon_N   ⎥\n",
       "⎢───────────────────────────, ───────────────────────⎥\n",
       "⎢                    2                          2    ⎥\n",
       "⎣  A_d⋅E_N⋅\\epsilon_N  + 2    A_d⋅E_N⋅\\epsilon_N  + 2⎦"
      ]
     },
     "execution_count": 59,
     "metadata": {},
     "output_type": "execute_result"
    }
   ],
   "source": [
    "r_N_solved = sp.solve( sp.Eq( dot_omega_N_paper, dot_omega_N_potential ), r_N )\n",
    "r_N_solved"
   ]
  },
  {
   "cell_type": "code",
   "execution_count": 60,
   "metadata": {},
   "outputs": [
    {
     "data": {
      "image/png": "[encoded data removed]",
      "text/latex": [
       "$\\displaystyle \\frac{4 A_{d} E_{N} \\dot{\\epsilon}_N \\epsilon_{N}}{\\left(A_{d} E_{N} \\epsilon_{N}^{2} + 2\\right)^{2}}$"
      ],
      "text/plain": [
       "4⋅A_d⋅E_N⋅\\dot{\\epsilon}_N⋅\\epsilon_N\n",
       "─────────────────────────────────────\n",
       "                               2     \n",
       "      ⎛                  2    ⎞      \n",
       "      ⎝A_d⋅E_N⋅\\epsilon_N  + 2⎠      "
      ]
     },
     "execution_count": 60,
     "metadata": {},
     "output_type": "execute_result"
    }
   ],
   "source": [
    "dot_omega_N_potential_solved = sp.simplify(dot_omega_N_potential.subs(r_N, r_N_solved[1]))\n",
    "dot_omega_N_potential_solved"
   ]
  },
  {
   "cell_type": "code",
   "execution_count": 61,
   "metadata": {},
   "outputs": [
    {
     "data": {
      "image/png": "[encoded data removed]",
      "text/latex": [
       "$\\displaystyle \\frac{4 A_{d} E_{N} \\dot{\\epsilon}_N \\epsilon_{N}}{\\left(A_{d} E_{N} \\epsilon_{N}^{2} + 2\\right)^{2}}$"
      ],
      "text/plain": [
       "4⋅A_d⋅E_N⋅\\dot{\\epsilon}_N⋅\\epsilon_N\n",
       "─────────────────────────────────────\n",
       "                               2     \n",
       "      ⎛                  2    ⎞      \n",
       "      ⎝A_d⋅E_N⋅\\epsilon_N  + 2⎠      "
      ]
     },
     "execution_count": 61,
     "metadata": {},
     "output_type": "execute_result"
    }
   ],
   "source": [
    "sp.simplify(dot_omega_N_paper)"
   ]
  },
  {
   "cell_type": "code",
   "execution_count": null,
   "metadata": {},
   "outputs": [],
   "source": []
  }
 ],
 "metadata": {
  "kernelspec": {
   "display_name": "bmcs_env",
   "language": "python",
   "name": "bmcs_env"
  },
  "language_info": {
   "codemirror_mode": {
    "name": "ipython",
    "version": 3
   },
   "file_extension": ".py",
   "mimetype": "text/x-python",
   "name": "python",
   "nbconvert_exporter": "python",
   "pygments_lexer": "ipython3",
   "version": "3.8.8"
  },
  "toc": {
   "base_numbering": 1,
   "nav_menu": {},
   "number_sections": true,
   "sideBar": true,
   "skip_h1_title": true,
   "title_cell": "Table of Contents",
   "title_sidebar": "Contents",
   "toc_cell": false,
   "toc_position": {},
   "toc_section_display": true,
   "toc_window_display": false
  }
 },
 "nbformat": 4,
 "nbformat_minor": 4
}
