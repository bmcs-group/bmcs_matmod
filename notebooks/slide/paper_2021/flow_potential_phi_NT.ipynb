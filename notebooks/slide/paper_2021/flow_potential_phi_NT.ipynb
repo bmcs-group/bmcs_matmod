{
 "cells": [
  {
   "cell_type": "markdown",
   "metadata": {},
   "source": [
    "# Define the flow potential"
   ]
  },
  {
   "cell_type": "code",
   "execution_count": null,
   "metadata": {},
   "outputs": [],
   "source": [
    "import sympy as sp\n",
    "sp.init_printing()"
   ]
  },
  {
   "cell_type": "markdown",
   "metadata": {},
   "source": [
    "## Logic behind the flow potential extension\n",
    "\n",
    "To account for a broad range of applications we propose\n",
    "an extension of the flow potential with an adjustable \n",
    "level of interaction between the damage in the normal\n",
    "and tangential directions. Recall that the evolution equations\n",
    "are defined as\n",
    "\\begin{align}\n",
    " \\dot{\\omega}_\\mathrm{N} &= \\lambda \\frac{\\partial \\varphi}{ \\partial {\\omega}_\\mathrm{N} } \\\\\n",
    " \\dot{\\omega}_\\mathrm{T} &= \\lambda \\frac{\\partial \\varphi}{ \\partial {\\omega}_\\mathrm{T} }\n",
    "\\end{align}\n",
    "If the damage due to normal direction directly affects the tangential version we assume\n",
    "that also the opposite affect is the same. The respective derivatives of the potential must be equal, i.e.\n",
    "\\begin{align}\n",
    "\\frac{\\partial \\varphi}{ \\partial {\\omega}_\\mathrm{N} } = \\frac{\\partial \\varphi}{ \\partial {\\omega}_\\mathrm{T} }\n",
    "\\end{align}"
   ]
  },
  {
   "cell_type": "code",
   "execution_count": null,
   "metadata": {},
   "outputs": [],
   "source": [
    "S_N, S_T, eta = sp.symbols('S_N, S_T, eta')\n",
    "Y_N, Y_T = sp.symbols('Y_N, Y_T')\n",
    "omega_N, omega_T = sp.symbols('omega_N, omega_T')\n",
    "c_N, c_T = sp.symbols('c_N, c_T')\n",
    "phi_N_ext = (  # (1-omega_N)**c_N * (\n",
    "    (1*Y_N*(Y_N + eta * Y_T)) /\n",
    "    (2*(S_N - eta * (S_N - (S_N + S_T)/2)))\n",
    ")\n",
    "phi_T_ext = (  # (1-omega_T)**c_T * (\n",
    "    (1*Y_T*(Y_T + eta * Y_N)) /\n",
    "    (2*(S_T - eta * (S_T - (S_N + S_T)/2)))\n",
    ")\n",
    "phi_ext = sp.simplify(phi_N_ext) + sp.simplify(phi_T_ext)\n",
    "phi_ext"
   ]
  },
  {
   "cell_type": "code",
   "execution_count": null,
   "metadata": {},
   "outputs": [],
   "source": [
    "phi_ext.subs(eta,1)"
   ]
  },
  {
   "cell_type": "code",
   "execution_count": null,
   "metadata": {},
   "outputs": [],
   "source": [
    "sp.simplify(phi_ext.diff(Y_N).subs(eta,1))"
   ]
  },
  {
   "cell_type": "code",
   "execution_count": null,
   "metadata": {},
   "outputs": [],
   "source": [
    "sp.simplify(phi_ext.diff(Y_T).subs(eta,1))"
   ]
  },
  {
   "cell_type": "code",
   "execution_count": null,
   "metadata": {},
   "outputs": [],
   "source": [
    "sp.simplify(phi_ext.diff(Y_N).subs(eta,0))"
   ]
  },
  {
   "cell_type": "markdown",
   "metadata": {},
   "source": [
    "## Backward derivation of the potential from desired flow direction"
   ]
  },
  {
   "cell_type": "markdown",
   "metadata": {},
   "source": [
    "Find a potential function \n",
    "\\begin{align}\n",
    "\\varphi = a Y_\\mathrm{N}^2 + \\eta b Y_\\mathrm{N}(Y_\\mathrm{N} + Y_\\mathrm{T})+ c Y_\\mathrm{T}^2 + \\eta d \n",
    "Y_\\mathrm{T}(Y_\\mathrm{T} + Y_\\mathrm{N})\n",
    "\\end{align}\n",
    "which fulfills\n",
    "\\begin{align}\n",
    "\\left. \\frac{\\partial \\varphi}{\\partial Y_\\mathrm{N}}\\right|_{\\eta=0} &= \n",
    "(1 - \\omega_\\mathrm{N})^{c_\\mathrm{N}} \\frac{Y_\\mathrm{N}}{S_\\mathrm{N}} \\\\\n",
    "\\left. \\frac{\\partial \\varphi}{\\partial Y_\\mathrm{T}}\\right|_{\\eta=0} &= \n",
    "(1 - \\omega_\\mathrm{T})^{c_\\mathrm{T}} \\frac{Y_\\mathrm{T}}{S_\\mathrm{T}} \\\\\n",
    "\\left. \\frac{\\partial \\varphi}{\\partial Y_\\mathrm{N}}\\right|_{\\eta=1} = \n",
    "\\left. \\frac{\\partial \\varphi}{\\partial Y_\\mathrm{T}}\\right|_{\\eta=1} &= \n",
    "\\left(1 - \\frac{1}{2}(\\omega_\\mathrm{N} + \\omega_\\mathrm{T})\\right)^{\\frac{c_\\mathrm{N}+c_\\mathrm{T}}{2}} \n",
    "\\frac{Y_\\mathrm{N} + Y_\\mathrm{T}}{S_\\mathrm{N} + S_\\mathrm{T}}\n",
    "\\end{align}"
   ]
  },
  {
   "cell_type": "code",
   "execution_count": null,
   "metadata": {},
   "outputs": [],
   "source": [
    "a, b, c, d = sp.symbols('a,b,c,d')\n",
    "H = lambda x: sp.Piecewise( (0, x <=0 ), (1, True) )\n",
    "H_switch, sig_pi = sp.symbols(r'H(\\sigma^{\\pi}), \\sigma^\\pi', real=True)\n",
    "phi_ext = a * Y_N**2 + b * eta * Y_N*(Y_N + Y_T) + c * Y_T**2 + d * eta * Y_T*(Y_T+Y_N)"
   ]
  },
  {
   "cell_type": "code",
   "execution_count": null,
   "metadata": {},
   "outputs": [],
   "source": [
    "d_phi_N_0 = phi_ext.diff(Y_N).subs(eta,0)\n",
    "a_solved = sp.solve(sp.Eq(d_phi_N_0, (1 - omega_N)**c_N * Y_N / S_N * H_switch ), a )[0]\n",
    "#a_solved = sp.solve( sp.Eq( d_phi_N_0, (1 - omega_N)**c_N * Y_N / S_N ), a )[0]\n",
    "d_phi_N_0, a_solved"
   ]
  },
  {
   "cell_type": "code",
   "execution_count": null,
   "metadata": {},
   "outputs": [],
   "source": [
    "d_phi_T_0 = phi_ext.diff(Y_T).subs(eta,0)\n",
    "c_solved = sp.solve( sp.Eq( d_phi_T_0, (1 - omega_T)**c_T * Y_T / S_T ), c )[0]\n",
    "d_phi_T_0, c_solved"
   ]
  },
  {
   "cell_type": "code",
   "execution_count": null,
   "metadata": {},
   "outputs": [],
   "source": [
    "phi_ext_ac = phi_ext.subs({a: a_solved, c: c_solved})\n",
    "phi_ext_ac"
   ]
  },
  {
   "cell_type": "code",
   "execution_count": null,
   "metadata": {},
   "outputs": [],
   "source": [
    "d_phi_N_1 = phi_ext_ac.diff(Y_N).subs(eta,1)\n",
    "d_phi_N_1"
   ]
  },
  {
   "cell_type": "code",
   "execution_count": null,
   "metadata": {},
   "outputs": [],
   "source": [
    "d_phi_T_1 = phi_ext_ac.diff(Y_T).subs(eta,1)\n",
    "d_phi_T_1"
   ]
  },
  {
   "cell_type": "code",
   "execution_count": null,
   "metadata": {},
   "outputs": [],
   "source": [
    "d_phi_1_req = (1 - (omega_N + omega_T)/2)**((c_N+c_T)/2) * (Y_N + Y_T) / (S_N + S_T) \n",
    "d_phi_1_req"
   ]
  },
  {
   "cell_type": "code",
   "execution_count": null,
   "metadata": {},
   "outputs": [],
   "source": [
    "bd_solved = sp.solve({sp.Eq(d_phi_N_1, d_phi_1_req), sp.Eq(d_phi_T_1, d_phi_1_req)},[b,d])\n",
    "sp.simplify(bd_solved[b])"
   ]
  },
  {
   "cell_type": "code",
   "execution_count": null,
   "metadata": {},
   "outputs": [],
   "source": [
    "phi_abcd = phi_ext_ac.subs(bd_solved)\n",
    "sp.simplify(phi_abcd)"
   ]
  },
  {
   "cell_type": "code",
   "execution_count": null,
   "metadata": {},
   "outputs": [],
   "source": [
    "sp.simplify(phi_abcd.diff(Y_T).subs(eta,1))"
   ]
  },
  {
   "cell_type": "code",
   "execution_count": null,
   "metadata": {},
   "outputs": [],
   "source": [
    "sp.simplify(phi_abcd.diff(Y_N).subs(eta,sp.Rational(1,2)))"
   ]
  },
  {
   "cell_type": "markdown",
   "metadata": {},
   "source": [
    "# Geometric mean "
   ]
  },
  {
   "cell_type": "code",
   "execution_count": null,
   "metadata": {},
   "outputs": [],
   "source": [
    "a,b,c,d = sp.symbols('a,b,c,d')\n",
    "H = lambda x: sp.Piecewise( (0, x <=0 ), (1, True) )\n",
    "H_switch, sig_pi = sp.symbols(r'H(\\sigma^{\\pi}), \\sigma^\\pi', real=True)\n",
    "phi2_ext = a * Y_N**2 + b * eta * Y_N*(Y_N+Y_T) + c * Y_T**2 + d * eta * Y_T*(Y_N+Y_T)\n",
    "phi2_ext"
   ]
  },
  {
   "cell_type": "code",
   "execution_count": null,
   "metadata": {},
   "outputs": [],
   "source": [
    "d_phi2_N_0 = phi2_ext.diff(Y_N).subs(eta,0)\n",
    "a2_solved = sp.solve( sp.Eq( d_phi2_N_0, (1 - omega_N)**c_N * Y_N / S_N * H_switch ), a )[0]\n",
    "#a_solved = sp.solve( sp.Eq( d_phi_N_0, (1 - omega_N)**c_N * Y_N / S_N ), a )[0]\n",
    "d_phi2_N_0, a2_solved"
   ]
  },
  {
   "cell_type": "code",
   "execution_count": null,
   "metadata": {},
   "outputs": [],
   "source": [
    "d_phi2_T_0 = phi2_ext.diff(Y_T).subs(eta,0)\n",
    "c2_solved = sp.solve( sp.Eq( d_phi2_T_0, (1 - omega_T)**c_T * Y_T / S_T ), c )[0]\n",
    "d_phi2_T_0, c2_solved"
   ]
  },
  {
   "cell_type": "code",
   "execution_count": null,
   "metadata": {},
   "outputs": [],
   "source": [
    "phi2_ext_ac = phi2_ext.subs({a: a2_solved, c: c2_solved})\n",
    "phi2_ext_ac"
   ]
  },
  {
   "cell_type": "code",
   "execution_count": null,
   "metadata": {},
   "outputs": [],
   "source": [
    "d_phi2_N_1 = phi2_ext_ac.diff(Y_N).subs(eta,1)\n",
    "d_phi2_N_1"
   ]
  },
  {
   "cell_type": "code",
   "execution_count": null,
   "metadata": {},
   "outputs": [],
   "source": [
    "d_phi2_T_1 = phi2_ext_ac.diff(Y_T).subs(eta,1)\n",
    "d_phi2_T_1"
   ]
  },
  {
   "cell_type": "code",
   "execution_count": null,
   "metadata": {},
   "outputs": [],
   "source": [
    "c_NT = sp.sqrt(c_N*c_T)\n",
    "S_NT = sp.sqrt(S_N*S_T)\n",
    "d_phi_2_req = (1 - sp.sqrt(omega_N*omega_T))**(c_NT) * (Y_N+Y_T) / (2*S_NT) \n",
    "d_phi_2_req"
   ]
  },
  {
   "cell_type": "code",
   "execution_count": null,
   "metadata": {},
   "outputs": [],
   "source": [
    "bd2_solved = sp.solve({sp.Eq(d_phi2_N_1, d_phi_2_req), sp.Eq(d_phi2_T_1, d_phi_2_req)},[b,d])\n",
    "sp.simplify(bd2_solved[b])"
   ]
  },
  {
   "cell_type": "code",
   "execution_count": null,
   "metadata": {},
   "outputs": [],
   "source": [
    "phi2_abcd = phi2_ext_ac.subs(bd2_solved)\n",
    "sp.simplify(phi2_abcd).subs(eta,0)"
   ]
  },
  {
   "cell_type": "code",
   "execution_count": null,
   "metadata": {},
   "outputs": [],
   "source": [
    "omega_T_solved_0 = sp.simplify(phi2_abcd.diff(Y_T).subs(eta,0))\n",
    "omega_T_solved_0"
   ]
  },
  {
   "cell_type": "code",
   "execution_count": null,
   "metadata": {},
   "outputs": [],
   "source": [
    "omega_N_solved_0 = sp.simplify(phi2_abcd.diff(Y_N).subs(eta,0))\n",
    "omega_N_solved_0"
   ]
  },
  {
   "cell_type": "code",
   "execution_count": null,
   "metadata": {},
   "outputs": [],
   "source": [
    "omega_N_solved_1 = sp.simplify(phi2_abcd.diff(Y_N).subs(eta,1))\n",
    "omega_N_solved_1"
   ]
  },
  {
   "cell_type": "code",
   "execution_count": null,
   "metadata": {},
   "outputs": [],
   "source": [
    "omega_T_solved_1 = sp.simplify(phi2_abcd.diff(Y_T).subs(eta,1))\n",
    "omega_T_solved_1"
   ]
  },
  {
   "cell_type": "markdown",
   "metadata": {},
   "source": [
    "**Archived compact version:** derived by Mirek for the case of dropped fundamental damage terms $(1 - \\omega_\\mathrm{N})^{c_\\mathrm{N}}$ and $(1 - \\omega_\\mathrm{T})^{c_\\mathrm{T}}$"
   ]
  },
  {
   "cell_type": "code",
   "execution_count": null,
   "metadata": {},
   "outputs": [],
   "source": [
    "phi_simplified = (\n",
    "    (( 1 - eta ) * ( Y_T**2 * S_N**2 + Y_N**2 * S_T**2 ) +\n",
    "    S_N * S_T * ( Y_T**2 + Y_N**2 + 2 * Y_T * Y_N * eta )) /\n",
    "    (2* S_N * S_T * ( S_N + S_T ))\n",
    ")\n",
    "phi_simplified"
   ]
  },
  {
   "cell_type": "markdown",
   "metadata": {},
   "source": [
    "# Scaling of phi between coupled and uncoupled cases"
   ]
  },
  {
   "cell_type": "code",
   "execution_count": null,
   "metadata": {},
   "outputs": [],
   "source": [
    "def avg(var1, var2):\n",
    "    return (var1 + var2) / 2\n",
    "r = sp.symbols(r'r', positive=True)\n",
    "c_NT = avg(c_N, c_T)\n",
    "S_NT = avg(S_N, S_T)\n",
    "omega_NT = avg(omega_N, omega_T)\n",
    "Y_NT = avg(Y_N, Y_T)\n",
    "phi_N = (1 - omega_N)**(c_N) * S_N/(r+1) * (Y_N/S_N)**(r+1) # * H_switch\n",
    "phi_T = (1 - omega_T)**(c_T) * S_T/(r+1) * (Y_T/S_T)**(r+1)\n",
    "phi_NT  = (1 - omega_NT)**(c_NT) * 2*S_NT/(r+1) * (Y_NT/S_NT)**(r+1)\n",
    "phi_ = (1 - eta) * (phi_N + phi_T) + eta * phi_NT"
   ]
  },
  {
   "cell_type": "code",
   "execution_count": null,
   "metadata": {},
   "outputs": [],
   "source": [
    "sp.simplify(phi_).subs(r,1).subs(eta,0).diff(Y_T)"
   ]
  },
  {
   "cell_type": "code",
   "execution_count": null,
   "metadata": {},
   "outputs": [],
   "source": [
    "sp.simplify(phi_).subs(r,1).subs(eta,0).diff(Y_N)"
   ]
  },
  {
   "cell_type": "code",
   "execution_count": null,
   "metadata": {},
   "outputs": [],
   "source": []
  },
  {
   "cell_type": "markdown",
   "metadata": {},
   "source": [
    "# Derivation of potential from a damage function"
   ]
  },
  {
   "cell_type": "code",
   "execution_count": null,
   "metadata": {},
   "outputs": [],
   "source": [
    "A_d, Y_N, R_N, lambda_N = sp.symbols('A_d, Y_N, R_N, lambda_N')\n",
    "dot_Y_N, dot_R_N = sp.symbols(r'\\dot{Y}_N, \\dot{R}_N')\n",
    "E_N , eps_N = sp.symbols(r'E_N, \\epsilon_N')\n",
    "dot_eps_N = sp.symbols(r'\\dot{\\epsilon}_N')\n",
    "r_N, dot_r_N = sp.symbols(r'r_N, \\dot{r}_N')\n",
    "f_N = sp.Function('f_N')(r_N)\n",
    "omega_N = sp.symbols(r'\\omega_N')\n",
    "dot_omega_N = sp.symbols(r'\\dot{\\omega}_N')"
   ]
  },
  {
   "cell_type": "code",
   "execution_count": null,
   "metadata": {},
   "outputs": [],
   "source": [
    "psi_omega = sp.Rational(1,2)*(1 - omega_N)*E_N*eps_N**2 + f_N\n",
    "psi_omega"
   ]
  },
  {
   "cell_type": "code",
   "execution_count": null,
   "metadata": {},
   "outputs": [],
   "source": [
    "sigma_N_ = psi_omega.diff(eps_N)\n",
    "Y_N_ = -psi_omega.diff(omega_N)\n",
    "R_N_ = psi_omega.diff(r_N)\n",
    "Y_N_"
   ]
  },
  {
   "cell_type": "code",
   "execution_count": null,
   "metadata": {},
   "outputs": [],
   "source": [
    "dot_R_N_ = R_N_.diff(r_N) * dot_r_N\n",
    "dot_R_N_"
   ]
  },
  {
   "cell_type": "code",
   "execution_count": null,
   "metadata": {},
   "outputs": [],
   "source": [
    "dot_Y_N_ = Y_N_.diff(eps_N) * dot_eps_N + Y_N_.diff(omega_N) * dot_omega_N\n",
    "dot_Y_N_"
   ]
  },
  {
   "cell_type": "code",
   "execution_count": null,
   "metadata": {},
   "outputs": [],
   "source": [
    "f_omega = Y_N - R_N"
   ]
  },
  {
   "cell_type": "code",
   "execution_count": null,
   "metadata": {},
   "outputs": [],
   "source": [
    "f_omega"
   ]
  },
  {
   "cell_type": "code",
   "execution_count": null,
   "metadata": {},
   "outputs": [],
   "source": [
    "dot_r_N_ = lambda_N * f_omega.diff(R_N)\n",
    "dot_r_N_"
   ]
  },
  {
   "cell_type": "code",
   "execution_count": null,
   "metadata": {},
   "outputs": [],
   "source": [
    "dot_omega_N_ = lambda_N * f_omega.diff(Y_N)\n",
    "dot_omega_N_"
   ]
  },
  {
   "cell_type": "code",
   "execution_count": null,
   "metadata": {},
   "outputs": [],
   "source": [
    "dot_f_omega_ = f_omega.diff(Y_N) * dot_Y_N_ + f_omega.diff(R_N) * dot_R_N_"
   ]
  },
  {
   "cell_type": "code",
   "execution_count": null,
   "metadata": {},
   "outputs": [],
   "source": [
    "dot_f_omega_"
   ]
  },
  {
   "cell_type": "code",
   "execution_count": null,
   "metadata": {},
   "outputs": [],
   "source": [
    "dot_f_omega_lambda_ = dot_f_omega_.subs(dot_r_N, dot_r_N_)"
   ]
  },
  {
   "cell_type": "code",
   "execution_count": null,
   "metadata": {},
   "outputs": [],
   "source": [
    "lambda_N_solved = sp.solve(dot_f_omega_lambda_, lambda_N)[0]"
   ]
  },
  {
   "cell_type": "code",
   "execution_count": null,
   "metadata": {},
   "outputs": [],
   "source": [
    "lambda_N_solved"
   ]
  },
  {
   "cell_type": "code",
   "execution_count": null,
   "metadata": {},
   "outputs": [],
   "source": [
    "dot_omega_N_solved = dot_omega_N_.subs(lambda_N, lambda_N_solved)\n",
    "dot_omega_N_solved"
   ]
  },
  {
   "cell_type": "markdown",
   "metadata": {},
   "source": [
    "# Damage function from MS1 - N"
   ]
  },
  {
   "cell_type": "markdown",
   "metadata": {},
   "source": [
    "**reference [74]**"
   ]
  },
  {
   "cell_type": "code",
   "execution_count": null,
   "metadata": {},
   "outputs": [],
   "source": [
    "omega_N_paper = 1 - 1 / (1 + A_d * Y_N_) "
   ]
  },
  {
   "cell_type": "code",
   "execution_count": null,
   "metadata": {},
   "outputs": [],
   "source": [
    "omega_N_paper"
   ]
  },
  {
   "cell_type": "code",
   "execution_count": null,
   "metadata": {},
   "outputs": [],
   "source": [
    "dot_omega_N_paper = omega_N_paper.diff(eps_N) * dot_eps_N\n",
    "dot_omega_N_paper"
   ]
  },
  {
   "cell_type": "markdown",
   "metadata": {},
   "source": [
    "**from potential**"
   ]
  },
  {
   "cell_type": "code",
   "execution_count": null,
   "metadata": {},
   "outputs": [],
   "source": [
    "f_prime_r_N = 1 / A_d * -r_N / (1 + r_N)\n",
    "f_prime_r_N"
   ]
  },
  {
   "cell_type": "code",
   "execution_count": null,
   "metadata": {},
   "outputs": [],
   "source": [
    "f_prime_r_N.diff(r_N)"
   ]
  },
  {
   "cell_type": "code",
   "execution_count": null,
   "metadata": {},
   "outputs": [],
   "source": [
    "dot_omega_N_potential = sp.simplify(- E_N * eps_N * dot_eps_N / f_prime_r_N.diff(r_N))\n",
    "dot_omega_N_potential"
   ]
  },
  {
   "cell_type": "code",
   "execution_count": null,
   "metadata": {},
   "outputs": [],
   "source": [
    "r_N_solved = sp.solve( sp.Eq( dot_omega_N_paper, dot_omega_N_potential ), r_N )\n",
    "r_N_solved"
   ]
  },
  {
   "cell_type": "code",
   "execution_count": null,
   "metadata": {},
   "outputs": [],
   "source": [
    "dot_omega_N_potential_solved = sp.simplify(dot_omega_N_potential.subs(r_N, r_N_solved[1]))\n",
    "dot_omega_N_potential_solved"
   ]
  },
  {
   "cell_type": "code",
   "execution_count": null,
   "metadata": {},
   "outputs": [],
   "source": [
    "sp.simplify(dot_omega_N_paper)"
   ]
  },
  {
   "cell_type": "code",
   "execution_count": null,
   "metadata": {},
   "outputs": [],
   "source": []
  }
 ],
 "metadata": {
  "kernelspec": {
   "display_name": "bmcs_env",
   "language": "python",
   "name": "bmcs_env"
  },
  "language_info": {
   "codemirror_mode": {
    "name": "ipython",
    "version": 3
   },
   "file_extension": ".py",
   "mimetype": "text/x-python",
   "name": "python",
   "nbconvert_exporter": "python",
   "pygments_lexer": "ipython3"
  },
  "toc": {
   "base_numbering": 1,
   "nav_menu": {},
   "number_sections": true,
   "sideBar": true,
   "skip_h1_title": true,
   "title_cell": "Table of Contents",
   "title_sidebar": "Contents",
   "toc_cell": false,
   "toc_position": {},
   "toc_section_display": true,
   "toc_window_display": false
  }
 },
 "nbformat": 4,
 "nbformat_minor": 4
}
