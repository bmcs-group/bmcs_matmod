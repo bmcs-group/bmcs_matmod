{
 "cells": [
  {
   "cell_type": "markdown",
   "metadata": {},
   "source": [
    "# Damage function formulation within a thermodynamic material model\n",
    "\n",
    "The notebook shows how to construct a damage function as an evolution law within a time-stepping inelastic algorithm which\n",
    " - implicitly approaches the value 1 in a limit\n",
    " - has a desirebed algebraic shape with specified material parameters\n",
    " - can support self-regularization in terms of a fracture energy parameter\n",
    "   which controls the integral of the stress-strain response. "
   ]
  },
  {
   "cell_type": "code",
   "execution_count": 141,
   "metadata": {},
   "outputs": [],
   "source": [
    "%matplotlib widget\n",
    "import sympy as sp\n",
    "import numpy as np\n",
    "import matplotlib.pylab as plt\n",
    "sp.init_printing()"
   ]
  },
  {
   "cell_type": "markdown",
   "metadata": {},
   "source": [
    "# Self-regularized softening function"
   ]
  },
  {
   "cell_type": "markdown",
   "metadata": {},
   "source": [
    "Let us consider a softening function of the form\n",
    "\\begin{align}\n",
    "f(w) = c_1 exp( - c_2 w )\n",
    "\\end{align}\n",
    "This is function should describe the decay of stress starting from the material tensile strength and continuously deminishing to zero.\n",
    "The variable $w$ represents the crack opening and the parameters $c_1$ and $c_2$ are the material parameters."
   ]
  },
  {
   "cell_type": "code",
   "execution_count": 195,
   "metadata": {},
   "outputs": [],
   "source": [
    "w = sp.symbols('w')\n",
    "c_1 = sp.symbols('c_1')\n",
    "c_2 = sp.symbols('c_2')"
   ]
  },
  {
   "cell_type": "code",
   "execution_count": 196,
   "metadata": {},
   "outputs": [
    {
     "data": {
      "image/png": "[encoded data removed]",
      "text/latex": [
       "$\\displaystyle c_{1} e^{- c_{2} w}$"
      ],
      "text/plain": [
       "    -c₂⋅w\n",
       "c₁⋅ℯ     "
      ]
     },
     "execution_count": 196,
     "metadata": {},
     "output_type": "execute_result"
    }
   ],
   "source": [
    "f_w = c_1 * sp.exp(-c_2*w)\n",
    "f_w"
   ]
  },
  {
   "cell_type": "markdown",
   "metadata": {},
   "source": [
    "Let us plot the function to verify its shape for the material parameters set to the value 1"
   ]
  },
  {
   "cell_type": "code",
   "execution_count": 197,
   "metadata": {},
   "outputs": [
    {
     "data": {
      "application/vnd.jupyter.widget-view+json": {
       "model_id": "f3daf5e8dfcd473d89401cb6f8a39a91",
       "version_major": 2,
       "version_minor": 0
      },
      "text/plain": [
       "Canvas(toolbar=Toolbar(toolitems=[('Home', 'Reset original view', 'home', 'home'), ('Back', 'Back to previous …"
      ]
     },
     "metadata": {},
     "output_type": "display_data"
    }
   ],
   "source": [
    "w_arr = np.linspace(0.01,10,100)\n",
    "fig, ax = plt.subplots(1,1,figsize=(5,3), tight_layout=True)\n",
    "ax.plot(w_arr, sp.lambdify((w, c_1, c_2), f_w)(w_arr,1,1));"
   ]
  },
  {
   "cell_type": "markdown",
   "metadata": {},
   "source": [
    "The function can be already used in this form. The question is however, how to set the material parameters $c_1$ and $c_2$. They can be directly associated to a particular type of material parameters - namely, to the tensile strength $f_\\mathrm{t}$ and fracture energy $G_\\mathrm{f}$ "
   ]
  },
  {
   "cell_type": "code",
   "execution_count": 145,
   "metadata": {},
   "outputs": [],
   "source": [
    "f_t, G_f = sp.symbols('f_t, G_f', positive=True)"
   ]
  },
  {
   "cell_type": "markdown",
   "metadata": {},
   "source": [
    "Softening starts at the level of the material strength so that we can set $f(w = 0) = f_\\mathrm{t}$  to obtain the equation"
   ]
  },
  {
   "cell_type": "code",
   "execution_count": 146,
   "metadata": {},
   "outputs": [
    {
     "data": {
      "image/png": "[encoded data removed]",
      "text/latex": [
       "$\\displaystyle c_{1} - f_{t}$"
      ],
      "text/plain": [
       "c₁ - fₜ"
      ]
     },
     "execution_count": 146,
     "metadata": {},
     "output_type": "execute_result"
    }
   ],
   "source": [
    "Eq1 = f.subs({'w':0}) - f_t\n",
    "Eq1"
   ]
  },
  {
   "cell_type": "markdown",
   "metadata": {},
   "source": [
    "By solving for the $c_1$ we obtain the first substitution for our softening function."
   ]
  },
  {
   "cell_type": "code",
   "execution_count": 147,
   "metadata": {},
   "outputs": [
    {
     "data": {
      "image/png": "[encoded data removed]",
      "text/latex": [
       "$\\displaystyle \\left\\{ c_{1} : f_{t}\\right\\}$"
      ],
      "text/plain": [
       "{c₁: fₜ}"
      ]
     },
     "execution_count": 147,
     "metadata": {},
     "output_type": "execute_result"
    }
   ],
   "source": [
    "c_1_subs = sp.solve({Eq1}, c_1)\n",
    "c_1_subs"
   ]
  },
  {
   "cell_type": "markdown",
   "metadata": {},
   "source": [
    "Thus, if $w_0 = 0$, $c_1$ is equivalent to the tensile strength $f_\\mathrm{t}$\n",
    "\n",
    "The second possible mechanical interpretation is provided by the statement that softening directly represents the energy dissipation of a unit crack area. Thus, for large $w \\rightarrow \\infty$ it is equivalent to the energy producing a stress-free crack. This is the meaning of fracture energy.\n",
    "\n",
    "We can thus obtain the fracture energy represented by the softening function by evaluating its integral in the range $w \\in (0, \\infty)$. "
   ]
  },
  {
   "cell_type": "code",
   "execution_count": 148,
   "metadata": {},
   "outputs": [
    {
     "data": {
      "image/png": "[encoded data removed]",
      "text/latex": [
       "$\\displaystyle \\begin{cases} - \\frac{f_{t} e^{- c_{2} w}}{c_{2}} & \\text{for}\\: c_{2} \\neq 0 \\\\f_{t} w & \\text{otherwise} \\end{cases}$"
      ],
      "text/plain": [
       "⎧     -c₂⋅w             \n",
       "⎪-fₜ⋅ℯ                  \n",
       "⎪───────────  for c₂ ≠ 0\n",
       "⎨     c₂                \n",
       "⎪                       \n",
       "⎪   fₜ⋅w      otherwise \n",
       "⎩                       "
      ]
     },
     "execution_count": 148,
     "metadata": {},
     "output_type": "execute_result"
    }
   ],
   "source": [
    "int_f_w = sp.integrate(f.subs(c_1_subs), w)\n",
    "int_f_w"
   ]
  },
  {
   "cell_type": "markdown",
   "metadata": {},
   "source": [
    "As $c_2 > 0$, only the second term matters.\n",
    "The determinate integral\n",
    "\\begin{align}\n",
    "\\left[ - \\frac{f_\\mathrm{t}}{c_2} \n",
    "\\exp(-c_2 w) \\right]_0^{\\infty}\n",
    "\\end{align}\n",
    "is zero for $w = \\infty$, so that the value in $w = 0$ delivers the result of the integral\n",
    "\\begin{align}\n",
    "\\frac{f_\\mathrm{t}}{c_2} \n",
    "\\end{align}\n",
    "\n",
    "This integral is equal to the fracture energy $G_\\mathrm{f}$."
   ]
  },
  {
   "cell_type": "code",
   "execution_count": 149,
   "metadata": {},
   "outputs": [],
   "source": [
    "E_0 = sp.symbols('E_0', positive=True ) "
   ]
  },
  {
   "cell_type": "code",
   "execution_count": 150,
   "metadata": {},
   "outputs": [
    {
     "data": {
      "image/png": "[encoded data removed]",
      "text/latex": [
       "$\\displaystyle - G_{f} + \\frac{f_{t}}{c_{2}}$"
      ],
      "text/plain": [
       "       fₜ\n",
       "-G_f + ──\n",
       "       c₂"
      ]
     },
     "execution_count": 150,
     "metadata": {},
     "output_type": "execute_result"
    }
   ],
   "source": [
    "Eq2 = -int_f_w.args[0][0].subs({'w':0}) - G_f\n",
    "Eq2"
   ]
  },
  {
   "cell_type": "markdown",
   "metadata": {},
   "source": [
    "and the value of $c_2$ delivers the second substitution for the softening function"
   ]
  },
  {
   "cell_type": "code",
   "execution_count": 151,
   "metadata": {},
   "outputs": [
    {
     "data": {
      "image/png": "[encoded data removed]",
      "text/latex": [
       "$\\displaystyle \\left\\{ c_{2} : \\frac{f_{t}}{G_{f}}\\right\\}$"
      ],
      "text/plain": [
       "⎧     fₜ⎫\n",
       "⎨c₂: ───⎬\n",
       "⎩    G_f⎭"
      ]
     },
     "execution_count": 151,
     "metadata": {},
     "output_type": "execute_result"
    }
   ],
   "source": [
    "c_2_subs = sp.solve({Eq2}, c_2)\n",
    "c_2_subs"
   ]
  },
  {
   "cell_type": "markdown",
   "metadata": {},
   "source": [
    "The softening function with strength and fracture energy as a parameter now obtains the form"
   ]
  },
  {
   "cell_type": "code",
   "execution_count": 152,
   "metadata": {},
   "outputs": [
    {
     "data": {
      "image/png": "[encoded data removed]",
      "text/latex": [
       "$\\displaystyle f_{t} e^{- \\frac{f_{t} w}{G_{f}}}$"
      ],
      "text/plain": [
       "    -fₜ⋅w \n",
       "    ──────\n",
       "     G_f  \n",
       "fₜ⋅ℯ      "
      ]
     },
     "execution_count": 152,
     "metadata": {},
     "output_type": "execute_result"
    }
   ],
   "source": [
    "f_w = f.subs(c_1_subs).subs(c_2_subs)\n",
    "sp.simplify(f_w)"
   ]
  },
  {
   "cell_type": "markdown",
   "metadata": {},
   "source": [
    "Verify that the fracture energy is recovered at $w$ in infinity"
   ]
  },
  {
   "cell_type": "code",
   "execution_count": 153,
   "metadata": {},
   "outputs": [
    {
     "data": {
      "image/png": "[encoded data removed]",
      "text/latex": [
       "$\\displaystyle G_{f}$"
      ],
      "text/plain": [
       "G_f"
      ]
     },
     "execution_count": 153,
     "metadata": {},
     "output_type": "execute_result"
    }
   ],
   "source": [
    "sp.integrate(f_w, (w,0,sp.oo))"
   ]
  },
  {
   "cell_type": "markdown",
   "metadata": {},
   "source": [
    "## Autoregularized damage function"
   ]
  },
  {
   "cell_type": "code",
   "execution_count": 176,
   "metadata": {},
   "outputs": [],
   "source": [
    "from sympy import Function, dsolve, Eq, Derivative, sin, cos, symbols\n",
    "from sympy.abc import x\n",
    "u = sp.symbols(r'u') \n",
    "omega = Function('omega')\n",
    "E_ = sp.symbols(r'E', positive=True)\n",
    "S_ = sp.symbols(r'S', positive=True)\n",
    "c_ = sp.symbols(r'c', positive=True)\n",
    "G_ = sp.symbols(r'G_f', positive=True)\n",
    "C_2 = sp.symbols(r'C_2', positive=True)"
   ]
  },
  {
   "cell_type": "code",
   "execution_count": 177,
   "metadata": {},
   "outputs": [],
   "source": [
    "Y = sp.Rational(1,2) * E_ * u * u\n",
    "#Y = 1"
   ]
  },
  {
   "cell_type": "code",
   "execution_count": 181,
   "metadata": {},
   "outputs": [],
   "source": [
    "dot_omega_u = (1 - omega(u)) * C_2 * Y"
   ]
  },
  {
   "cell_type": "code",
   "execution_count": 182,
   "metadata": {},
   "outputs": [
    {
     "data": {
      "image/png": "[encoded data removed]",
      "text/latex": [
       "$\\displaystyle - \\frac{C_{2} E u^{2} \\left(1 - \\omega{\\left(u \\right)}\\right)}{2} + \\frac{d}{d u} \\omega{\\left(u \\right)}$"
      ],
      "text/plain": [
       "        2                      \n",
       "  C₂⋅E⋅u ⋅(1 - ω(u))   d       \n",
       "- ────────────────── + ──(ω(u))\n",
       "          2            du      "
      ]
     },
     "execution_count": 182,
     "metadata": {},
     "output_type": "execute_result"
    }
   ],
   "source": [
    "omega_evol_law = Derivative(omega(u), u) - dot_omega_u\n",
    "omega_evol_law"
   ]
  },
  {
   "cell_type": "code",
   "execution_count": 183,
   "metadata": {},
   "outputs": [
    {
     "data": {
      "image/png": "[encoded data removed]",
      "text/latex": [
       "$\\displaystyle \\omega{\\left(u \\right)} = C_{1} e^{- \\frac{C_{2} E u^{3}}{6}} + 1$"
      ],
      "text/plain": [
       "                  3     \n",
       "           -C₂⋅E⋅u      \n",
       "           ─────────    \n",
       "               6        \n",
       "ω(u) = C₁⋅ℯ          + 1"
      ]
     },
     "execution_count": 183,
     "metadata": {},
     "output_type": "execute_result"
    }
   ],
   "source": [
    "omega_u_eq = dsolve(omega_evol_law, omega(u))\n",
    "omega_u_eq"
   ]
  },
  {
   "cell_type": "code",
   "execution_count": 184,
   "metadata": {},
   "outputs": [
    {
     "data": {
      "image/png": "[encoded data removed]",
      "text/latex": [
       "$\\displaystyle C_{1} e^{- \\frac{C_{2} E u^{3}}{6}} + 1$"
      ],
      "text/plain": [
       "           3     \n",
       "    -C₂⋅E⋅u      \n",
       "    ─────────    \n",
       "        6        \n",
       "C₁⋅ℯ          + 1"
      ]
     },
     "execution_count": 184,
     "metadata": {},
     "output_type": "execute_result"
    }
   ],
   "source": [
    "omega_u = omega_u_eq.args[1]\n",
    "omega_u"
   ]
  },
  {
   "cell_type": "code",
   "execution_count": 185,
   "metadata": {},
   "outputs": [
    {
     "data": {
      "image/png": "[encoded data removed]",
      "text/latex": [
       "$\\displaystyle -1$"
      ],
      "text/plain": [
       "-1"
      ]
     },
     "execution_count": 185,
     "metadata": {},
     "output_type": "execute_result"
    }
   ],
   "source": [
    "C1_solved = sp.solve(omega_u.subs(u,0), 'C1')[0]\n",
    "C1_solved"
   ]
  },
  {
   "cell_type": "code",
   "execution_count": 186,
   "metadata": {},
   "outputs": [
    {
     "data": {
      "image/png": "[encoded data removed]",
      "text/latex": [
       "$\\displaystyle 1 - e^{- \\frac{C_{2} E u^{3}}{6}}$"
      ],
      "text/plain": [
       "            3 \n",
       "     -C₂⋅E⋅u  \n",
       "     ─────────\n",
       "         6    \n",
       "1 - ℯ         "
      ]
     },
     "execution_count": 186,
     "metadata": {},
     "output_type": "execute_result"
    }
   ],
   "source": [
    "omega_u_C2 = omega_u.subs('C1', C1_solved)\n",
    "omega_u_C2"
   ]
  },
  {
   "cell_type": "code",
   "execution_count": 187,
   "metadata": {},
   "outputs": [],
   "source": [
    "f_u_C2 = (1-omega_u_C2) * E_ * u"
   ]
  },
  {
   "cell_type": "code",
   "execution_count": 188,
   "metadata": {},
   "outputs": [
    {
     "data": {
      "image/png": "[encoded data removed]",
      "text/latex": [
       "$\\displaystyle E u e^{- \\frac{C_{2} E u^{3}}{6}}$"
      ],
      "text/plain": [
       "            3 \n",
       "     -C₂⋅E⋅u  \n",
       "     ─────────\n",
       "         6    \n",
       "E⋅u⋅ℯ         "
      ]
     },
     "execution_count": 188,
     "metadata": {},
     "output_type": "execute_result"
    }
   ],
   "source": [
    "f_u_C2"
   ]
  },
  {
   "cell_type": "code",
   "execution_count": 189,
   "metadata": {},
   "outputs": [
    {
     "data": {
      "image/png": "[encoded data removed]",
      "text/latex": [
       "$\\displaystyle \\frac{6^{\\frac{2}{3}} \\sqrt[3]{E} \\Gamma\\left(\\frac{2}{3}\\right)}{3 C_{2}^{\\frac{2}{3}}}$"
      ],
      "text/plain": [
       " 2/3 3 ___       \n",
       "6   ⋅╲╱ E ⋅Γ(2/3)\n",
       "─────────────────\n",
       "         2/3     \n",
       "     3⋅C₂        "
      ]
     },
     "execution_count": 189,
     "metadata": {},
     "output_type": "execute_result"
    }
   ],
   "source": [
    "int_f_u_C2 = sp.integrate(f_u_C2, (u,0,sp.oo))\n",
    "int_f_u_C2"
   ]
  },
  {
   "cell_type": "code",
   "execution_count": 190,
   "metadata": {},
   "outputs": [
    {
     "data": {
      "image/png": "[encoded data removed]",
      "text/latex": [
       "$\\displaystyle \\frac{2 \\sqrt{3} \\sqrt{E} \\Gamma^{\\frac{3}{2}}\\left(\\frac{2}{3}\\right)}{3 G_{f}^{\\frac{3}{2}}}$"
      ],
      "text/plain": [
       "         3/2     \n",
       "2⋅√3⋅√E⋅Γ   (2/3)\n",
       "─────────────────\n",
       "          3/2    \n",
       "     3⋅G_f       "
      ]
     },
     "execution_count": 190,
     "metadata": {},
     "output_type": "execute_result"
    }
   ],
   "source": [
    "C2_solved = sp.solve(sp.Eq( G_, int_f_u_C2 ),  C_2)[0]\n",
    "sp.simplify(C2_solved)"
   ]
  },
  {
   "cell_type": "code",
   "execution_count": 191,
   "metadata": {},
   "outputs": [],
   "source": [
    "omega_u_solved = omega_u_C2.subs(C_2, C_2_solved)\n",
    "f_u_solved = f_u_C2.subs(C_2, C_2_solved)"
   ]
  },
  {
   "cell_type": "code",
   "execution_count": 192,
   "metadata": {},
   "outputs": [],
   "source": [
    "get_omega_u = sp.lambdify((u, E_, G_), omega_u_solved)\n",
    "get_f_u = sp.lambdify((u, E_, G_), f_u_solved)"
   ]
  },
  {
   "cell_type": "code",
   "execution_count": 193,
   "metadata": {},
   "outputs": [
    {
     "data": {
      "application/vnd.jupyter.widget-view+json": {
       "model_id": "165e07092ee24c629a03f771ae5d8169",
       "version_major": 2,
       "version_minor": 0
      },
      "text/plain": [
       "Canvas(toolbar=Toolbar(toolitems=[('Home', 'Reset original view', 'home', 'home'), ('Back', 'Back to previous …"
      ]
     },
     "metadata": {},
     "output_type": "display_data"
    },
    {
     "data": {
      "text/plain": [
       "<matplotlib.legend.Legend at 0x7ff3cd97f310>"
      ]
     },
     "execution_count": 193,
     "metadata": {},
     "output_type": "execute_result"
    }
   ],
   "source": [
    "_, ax = plt.subplots(1,1)\n",
    "ax2 = ax.twinx()\n",
    "u_range = np.linspace(0,10,100)\n",
    "ax.plot(u_range, get_f_u(u_range,1,0.1), label='f(u)')\n",
    "ax2.plot(u_range, get_omega_u(u_range,1,0.1), color='red');\n",
    "ax.legend()"
   ]
  },
  {
   "cell_type": "code",
   "execution_count": 194,
   "metadata": {},
   "outputs": [
    {
     "data": {
      "image/png": "[encoded data removed]",
      "text/latex": [
       "$\\displaystyle \\frac{\\sqrt{3} E^{\\frac{3}{2}} u^{2} \\left(1 - \\omega{\\left(u \\right)}\\right) \\Gamma^{\\frac{3}{2}}\\left(\\frac{2}{3}\\right)}{3 G_{f}^{\\frac{3}{2}}}$"
      ],
      "text/plain": [
       "    3/2  2             3/2     \n",
       "√3⋅E   ⋅u ⋅(1 - ω(u))⋅Γ   (2/3)\n",
       "───────────────────────────────\n",
       "                 3/2           \n",
       "            3⋅G_f              "
      ]
     },
     "execution_count": 194,
     "metadata": {},
     "output_type": "execute_result"
    }
   ],
   "source": [
    "dot_omega_u.subs(C_2, C_2_solved)"
   ]
  },
  {
   "cell_type": "code",
   "execution_count": null,
   "metadata": {},
   "outputs": [],
   "source": []
  }
 ],
 "metadata": {
  "kernelspec": {
   "display_name": "bmcs_env",
   "language": "python",
   "name": "bmcs_env"
  },
  "language_info": {
   "codemirror_mode": {
    "name": "ipython",
    "version": 3
   },
   "file_extension": ".py",
   "mimetype": "text/x-python",
   "name": "python",
   "nbconvert_exporter": "python",
   "pygments_lexer": "ipython3",
   "version": "3.9.1"
  }
 },
 "nbformat": 4,
 "nbformat_minor": 4
}
