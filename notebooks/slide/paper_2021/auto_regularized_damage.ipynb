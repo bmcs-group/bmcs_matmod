{
 "cells": [
  {
   "cell_type": "markdown",
   "metadata": {},
   "source": [
    "# Damage function formulation within a thermodynamic material model\n",
    "\n",
    "The notebook shows how to construct a damage function as an evolution law within a time-stepping inelastic algorithm which\n",
    " - implicitly approaches the value 1 in a limit\n",
    " - has a desirebed algebraic shape with specified material parameters\n",
    " - can support self-regularization in terms of a fracture energy parameter\n",
    "   which controls the integral of the stress-strain response. "
   ]
  },
  {
   "cell_type": "code",
   "execution_count": null,
   "metadata": {},
   "outputs": [],
   "source": [
    "%matplotlib widget\n",
    "import sympy as sp\n",
    "import numpy as np\n",
    "import matplotlib.pylab as plt\n",
    "sp.init_printing()"
   ]
  },
  {
   "cell_type": "markdown",
   "metadata": {},
   "source": [
    "# Self-regularized softening function"
   ]
  },
  {
   "cell_type": "markdown",
   "metadata": {},
   "source": [
    "Let us consider a softening function of the form\n",
    "\\begin{align}\n",
    "f(w) = c_1 exp( - c_2 w )\n",
    "\\end{align}\n",
    "This is function should describe the decay of stress starting from the material tensile strength and continuously deminishing to zero.\n",
    "The variable $w$ represents the crack opening and the parameters $c_1$ and $c_2$ are the material parameters."
   ]
  },
  {
   "cell_type": "code",
   "execution_count": null,
   "metadata": {},
   "outputs": [],
   "source": [
    "w = sp.symbols('w')\n",
    "c_1 = sp.symbols('c_1')\n",
    "c_2 = sp.symbols('c_2')"
   ]
  },
  {
   "cell_type": "code",
   "execution_count": null,
   "metadata": {},
   "outputs": [],
   "source": [
    "f_w = c_1 * sp.exp(-c_2*w)\n",
    "f_w"
   ]
  },
  {
   "cell_type": "markdown",
   "metadata": {},
   "source": [
    "Let us plot the function to verify its shape for the material parameters set to the value 1"
   ]
  },
  {
   "cell_type": "code",
   "execution_count": null,
   "metadata": {},
   "outputs": [],
   "source": [
    "w_arr = np.linspace(0.01,10,100)\n",
    "fig, ax = plt.subplots(1,1,figsize=(5,3), tight_layout=True)\n",
    "ax.plot(w_arr, sp.lambdify((w, c_1, c_2), f_w)(w_arr,1,1));"
   ]
  },
  {
   "cell_type": "markdown",
   "metadata": {},
   "source": [
    "The function can be already used in this form. The question is however, how to set the material parameters $c_1$ and $c_2$. They can be directly associated to a particular type of material parameters - namely, to the tensile strength $f_\\mathrm{t}$ and fracture energy $G_\\mathrm{f}$ "
   ]
  },
  {
   "cell_type": "code",
   "execution_count": null,
   "metadata": {},
   "outputs": [],
   "source": [
    "f_t, G_f = sp.symbols('f_t, G_f', positive=True)"
   ]
  },
  {
   "cell_type": "markdown",
   "metadata": {},
   "source": [
    "Softening starts at the level of the material strength so that we can set $f(w = 0) = f_\\mathrm{t}$  to obtain the equation"
   ]
  },
  {
   "cell_type": "code",
   "execution_count": null,
   "metadata": {},
   "outputs": [],
   "source": [
    "Eq1 = sp.Eq( f_w.subs({'w':0}), f_t)\n",
    "Eq1"
   ]
  },
  {
   "cell_type": "markdown",
   "metadata": {},
   "source": [
    "By solving for the $c_1$ we obtain the first substitution for our softening function."
   ]
  },
  {
   "cell_type": "code",
   "execution_count": null,
   "metadata": {},
   "outputs": [],
   "source": [
    "c_1_subs = sp.solve({Eq1}, c_1)\n",
    "c_1_subs"
   ]
  },
  {
   "cell_type": "markdown",
   "metadata": {},
   "source": [
    "Thus, if $w_0 = 0$, $c_1$ is equivalent to the tensile strength $f_\\mathrm{t}$\n",
    "\n",
    "The second possible mechanical interpretation is provided by the statement that softening directly represents the energy dissipation of a unit crack area. Thus, for large $w \\rightarrow \\infty$ it is equivalent to the energy producing a stress-free crack. This is the meaning of fracture energy.\n",
    "\n",
    "We can thus obtain the fracture energy represented by the softening function by evaluating its integral in the range $w \\in (0, \\infty)$. "
   ]
  },
  {
   "cell_type": "code",
   "execution_count": null,
   "metadata": {},
   "outputs": [],
   "source": [
    "int_f_w = sp.integrate(f_w.subs(c_1_subs), w)\n",
    "int_f_w"
   ]
  },
  {
   "cell_type": "markdown",
   "metadata": {},
   "source": [
    "As $c_2 > 0$, only the second term matters.\n",
    "The determinate integral\n",
    "\\begin{align}\n",
    "\\left[ - \\frac{f_\\mathrm{t}}{c_2} \n",
    "\\exp(-c_2 w) \\right]_0^{\\infty}\n",
    "\\end{align}\n",
    "is zero for $w = \\infty$, so that the value in $w = 0$ delivers the result of the integral\n",
    "\\begin{align}\n",
    "\\frac{f_\\mathrm{t}}{c_2} \n",
    "\\end{align}\n",
    "\n",
    "This integral is equal to the fracture energy $G_\\mathrm{f}$."
   ]
  },
  {
   "cell_type": "code",
   "execution_count": null,
   "metadata": {},
   "outputs": [],
   "source": [
    "Eq2 = sp.Eq(-int_f_w.args[0][0].subs({'w':0}), G_f)\n",
    "Eq2"
   ]
  },
  {
   "cell_type": "markdown",
   "metadata": {},
   "source": [
    "and the value of $c_2$ delivers the second substitution for the softening function"
   ]
  },
  {
   "cell_type": "code",
   "execution_count": null,
   "metadata": {},
   "outputs": [],
   "source": [
    "c_2_subs = sp.solve({Eq2}, c_2)\n",
    "c_2_subs"
   ]
  },
  {
   "cell_type": "markdown",
   "metadata": {},
   "source": [
    "The softening function with strength and fracture energy as a parameter now obtains the form"
   ]
  },
  {
   "cell_type": "code",
   "execution_count": null,
   "metadata": {},
   "outputs": [],
   "source": [
    "f_w_solved = f_w.subs(c_1_subs).subs(c_2_subs)\n",
    "sp.simplify(f_w_solved)"
   ]
  },
  {
   "cell_type": "markdown",
   "metadata": {},
   "source": [
    "Verify that the fracture energy is recovered at $w$ in infinity"
   ]
  },
  {
   "cell_type": "code",
   "execution_count": null,
   "metadata": {},
   "outputs": [],
   "source": [
    "sp.integrate(f_w_solved, (w,0,sp.oo))"
   ]
  },
  {
   "cell_type": "markdown",
   "metadata": {},
   "source": [
    "The above derivation consideres a purely inelastic range \n",
    "and "
   ]
  },
  {
   "cell_type": "markdown",
   "metadata": {},
   "source": [
    "# Self regularized damage function"
   ]
  },
  {
   "cell_type": "code",
   "execution_count": null,
   "metadata": {},
   "outputs": [],
   "source": [
    "r = sp.symbols(r'r', positive=True)\n",
    "E_ = sp.symbols(r'E', positive=True)\n",
    "u = sp.symbols(r'u')\n",
    "omega = sp.Function(r'omega')\n",
    "G_ = sp.symbols(r'G_f', positive=True)\n",
    "C2 = sp.symbols(r'C_2', positive=True)\n",
    "C3 = sp.symbols(r'C_3', positive=True)\n",
    "c = sp.symbols(r'c', positive=True)"
   ]
  },
  {
   "cell_type": "code",
   "execution_count": null,
   "metadata": {},
   "outputs": [],
   "source": [
    "Y = sp.Rational(1,2) * E_ * u**2  # N/m^2 m^2 - N"
   ]
  },
  {
   "cell_type": "markdown",
   "metadata": {},
   "source": [
    "Inclusion of Y in the damage function is \n",
    "necessary to recover the G_F via \\int Y \\dot{omega} and \\int \\sigma u "
   ]
  },
  {
   "cell_type": "code",
   "execution_count": null,
   "metadata": {},
   "outputs": [],
   "source": [
    "lam = sp.symbols(r'\\lambda', positive=True)"
   ]
  },
  {
   "cell_type": "code",
   "execution_count": null,
   "metadata": {},
   "outputs": [],
   "source": [
    "dot_omega_u_r = ((1 - omega(u))**(1) * ((C2 * Y)**r)) # lambda N^r m^2\n",
    "dot_omega_u = dot_omega_u_r.subs(r,1) # 1/m = m * C2 * N    !  C2 = 1/(Nm^2)\n",
    "dot_omega_u"
   ]
  },
  {
   "cell_type": "code",
   "execution_count": null,
   "metadata": {},
   "outputs": [],
   "source": [
    "omega_evol_law = sp.Derivative(omega(u), u) - dot_omega_u\n",
    "omega_evol_law"
   ]
  },
  {
   "cell_type": "code",
   "execution_count": null,
   "metadata": {},
   "outputs": [],
   "source": [
    "omega_u_eq = sp.dsolve(omega_evol_law, omega(u))\n",
    "omega_u_eq"
   ]
  },
  {
   "cell_type": "code",
   "execution_count": null,
   "metadata": {},
   "outputs": [],
   "source": [
    "omega_u = omega_u_eq.args[1]\n",
    "omega_u"
   ]
  },
  {
   "cell_type": "code",
   "execution_count": null,
   "metadata": {},
   "outputs": [],
   "source": [
    "C1_solved = sp.solve(omega_u.subs(u,0), 'C1')[0] # check the elastic range\n",
    "C1_solved"
   ]
  },
  {
   "cell_type": "code",
   "execution_count": null,
   "metadata": {},
   "outputs": [],
   "source": [
    "omega_u_C2 = omega_u.subs('C1', C1_solved)\n",
    "omega_u_C2"
   ]
  },
  {
   "cell_type": "code",
   "execution_count": null,
   "metadata": {},
   "outputs": [],
   "source": [
    "dot_omega_u_C2 = dot_omega_u.subs(omega(u), omega_u_C2)\n",
    "dot_omega_u_C2"
   ]
  },
  {
   "cell_type": "code",
   "execution_count": null,
   "metadata": {},
   "outputs": [],
   "source": [
    "dot_G = Y * dot_omega_u_C2\n",
    "dot_G   # Nm/m = Y "
   ]
  },
  {
   "cell_type": "code",
   "execution_count": null,
   "metadata": {},
   "outputs": [],
   "source": [
    "G_F = sp.integrate(dot_G, (u,0,sp.oo))\n",
    "G_F # N/m^2 * (1/sqrt(m))^2 = N / m "
   ]
  },
  {
   "cell_type": "code",
   "execution_count": null,
   "metadata": {},
   "outputs": [],
   "source": [
    "C2_solved = sp.solve(sp.Eq( G_, G_F ),  C2)[0]\n",
    "sp.simplify(C2_solved)      # sqrt(N/m^2 / N/m)  = 1 / sqrt(m)"
   ]
  },
  {
   "cell_type": "code",
   "execution_count": null,
   "metadata": {},
   "outputs": [],
   "source": [
    "omega_u_solved = omega_u_C2.subs(C2, C2_solved)\n",
    "sp.simplify(omega_u_solved) "
   ]
  },
  {
   "cell_type": "code",
   "execution_count": null,
   "metadata": {},
   "outputs": [],
   "source": [
    "sigma_u = ( 1 - omega_u_solved ) * E_ * u\n",
    "sigma_u"
   ]
  },
  {
   "cell_type": "code",
   "execution_count": null,
   "metadata": {},
   "outputs": [],
   "source": [
    "sp.integrate(sigma_u, (u,0,sp.oo))"
   ]
  },
  {
   "cell_type": "code",
   "execution_count": null,
   "metadata": {},
   "outputs": [],
   "source": [
    "u_argmax = sp.solve(sigma_u.diff(u),u)[0]"
   ]
  },
  {
   "cell_type": "code",
   "execution_count": null,
   "metadata": {},
   "outputs": [],
   "source": [
    "sig_max = sp.simplify(sigma_u.subs(u, u_argmax))"
   ]
  },
  {
   "cell_type": "code",
   "execution_count": null,
   "metadata": {},
   "outputs": [],
   "source": [
    "sig_max"
   ]
  },
  {
   "cell_type": "code",
   "execution_count": null,
   "metadata": {},
   "outputs": [],
   "source": [
    "psi_u_norm = sp.simplify((1 - omega_u_solved) / sig_max)\n",
    "omega_u_norm = sp.simplify(1 - psi_u_norm)"
   ]
  },
  {
   "cell_type": "code",
   "execution_count": null,
   "metadata": {},
   "outputs": [],
   "source": [
    "omega_u_norm"
   ]
  },
  {
   "cell_type": "code",
   "execution_count": null,
   "metadata": {},
   "outputs": [],
   "source": [
    "get_sigma_u_ = sp.lambdify((u, E_, G_), sigma_u)\n",
    "get_omega_u_ = sp.lambdify((u, E_, G_), omega_u_solved)\n",
    "get_sig_u_norm_ = sp.lambdify((u, E_, G_), (1 - omega_u_norm) * E_ *u )"
   ]
  },
  {
   "cell_type": "code",
   "execution_count": null,
   "metadata": {},
   "outputs": [],
   "source": [
    "_, ax = plt.subplots(1,1)\n",
    "ax2 = ax.twinx()\n",
    "u_range = np.linspace(0,20,200)\n",
    "w_range = u_range\n",
    "E_value, G_value = 10000, 40000\n",
    "# ax.plot(u_range, get_sigma_u_(u_range,E_value,G_value), label='f(u)')\n",
    "# ax2.plot(u_range, get_omega_u_(u_range,E_value,G_value), color='red');\n",
    "ax2.plot(u_range, get_sig_u_norm_(u_range,E_value,G_value), color='red');\n",
    "ax.legend();"
   ]
  },
  {
   "cell_type": "code",
   "execution_count": null,
   "metadata": {},
   "outputs": [],
   "source": [
    "w = sp.symbols(r'w')\n",
    "w_0 = sp.symbols(r'w_0', positive=True)"
   ]
  },
  {
   "cell_type": "code",
   "execution_count": null,
   "metadata": {},
   "outputs": [],
   "source": [
    "omega_w = sp.Piecewise( (0, w < w_0),\n",
    "                        (omega_u_solved.subs(u, w-w_0), True))"
   ]
  },
  {
   "cell_type": "code",
   "execution_count": null,
   "metadata": {},
   "outputs": [],
   "source": [
    "sigma_w = ( 1 - omega_w ) * E_ * w\n",
    "sigma_w"
   ]
  },
  {
   "cell_type": "code",
   "execution_count": null,
   "metadata": {},
   "outputs": [],
   "source": [
    "sp.integrate(sigma_w, (w,w_0,sp.oo))"
   ]
  },
  {
   "cell_type": "code",
   "execution_count": null,
   "metadata": {},
   "outputs": [],
   "source": [
    "get_sigma_w_ = sp.lambdify((w, w_0, E_, G_), sigma_w)\n",
    "get_omega_w_ = sp.lambdify((w, w_0, E_, G_), omega_w)"
   ]
  },
  {
   "cell_type": "code",
   "execution_count": null,
   "metadata": {},
   "outputs": [],
   "source": [
    "_, ax = plt.subplots(1,1)\n",
    "ax2 = ax.twinx()\n",
    "w_range = np.linspace(0,20,100)\n",
    "w_0_value, E_value, G_value = 2.5, 1000, 40000\n",
    "ax.plot(w_range, get_sigma_w_(w_range, w_0_value, E_value,G_value), label='f(u)')\n",
    "ax2.plot(w_range, get_omega_w_(w_range, w_0_value, E_value,G_value), color='red');\n",
    "ax.legend();"
   ]
  },
  {
   "cell_type": "code",
   "execution_count": null,
   "metadata": {},
   "outputs": [],
   "source": [
    "omega_w_C2 = sp.Piecewise((0, w < w_0),\n",
    "                               (omega_u_C2.subs(u, w-w_0), True))\n",
    "omega_w_C2"
   ]
  },
  {
   "cell_type": "code",
   "execution_count": null,
   "metadata": {},
   "outputs": [],
   "source": [
    "dot_omega_w_C2 = sp.Piecewise((0, w < w_0),\n",
    "                               (dot_omega_u_C2.subs(u, w-w_0), True))\n",
    "dot_omega_w_C2"
   ]
  },
  {
   "cell_type": "code",
   "execution_count": null,
   "metadata": {},
   "outputs": [],
   "source": [
    "Y_w = Y.subs(u, w-w_0)\n",
    "Y_w"
   ]
  },
  {
   "cell_type": "code",
   "execution_count": null,
   "metadata": {},
   "outputs": [],
   "source": [
    "dot_G_w = Y_w * dot_omega_w_C2\n",
    "dot_G_w"
   ]
  },
  {
   "cell_type": "code",
   "execution_count": null,
   "metadata": {},
   "outputs": [],
   "source": [
    "G_F_w_Y = sp.integrate(dot_G_w, (w,0,sp.oo)) # - Y_0\n",
    "G_F_w_Y"
   ]
  },
  {
   "cell_type": "code",
   "execution_count": null,
   "metadata": {},
   "outputs": [],
   "source": [
    "C2_Y_solved = sp.solve(sp.Eq( G_, G_F_w_Y ),  C2)[0]\n",
    "sp.simplify(C2_Y_solved)"
   ]
  },
  {
   "cell_type": "code",
   "execution_count": null,
   "metadata": {},
   "outputs": [],
   "source": [
    "omega_w_Y_solved = omega_w_C2.subs(C2, C2_Y_solved)\n",
    "sp.simplify(omega_w_Y_solved)"
   ]
  },
  {
   "cell_type": "code",
   "execution_count": null,
   "metadata": {},
   "outputs": [],
   "source": [
    "sigma_w_Y = ( 1 - omega_w_Y_solved ) * E_ * w\n",
    "sigma_w_Y"
   ]
  },
  {
   "cell_type": "code",
   "execution_count": null,
   "metadata": {},
   "outputs": [],
   "source": [
    "sp.simplify(sp.integrate(sigma_w_Y, (w,0,sp.oo)))"
   ]
  },
  {
   "cell_type": "markdown",
   "metadata": {},
   "source": [
    "**Conclusion:** After including elastic behavior, there is a discrepancy between $\\int Y\\dot{\\omega} \\, \\mathrm{d}u$ and $\\int \\sigma(u)\\, \\mathrm{d}u$"
   ]
  },
  {
   "cell_type": "markdown",
   "metadata": {},
   "source": [
    "# Derive the the fracture energy on a $\\sigma, w$ scale "
   ]
  },
  {
   "cell_type": "code",
   "execution_count": null,
   "metadata": {},
   "outputs": [],
   "source": [
    "sigma_w_C2 = ( 1 - omega_w_C2 ) * E_ * w\n",
    "sigma_w_C2"
   ]
  },
  {
   "cell_type": "code",
   "execution_count": null,
   "metadata": {},
   "outputs": [],
   "source": [
    "G_F_w_sig = sp.integrate( sigma_w_C2, (w,0,sp.oo))\n",
    "G_F_w_sig"
   ]
  },
  {
   "cell_type": "code",
   "execution_count": null,
   "metadata": {},
   "outputs": [],
   "source": [
    "C2_sig_solved = sp.solve(sp.Eq( G_, G_F_w_sig ),  C2)[1]\n",
    "C2_sig_solved"
   ]
  },
  {
   "cell_type": "code",
   "execution_count": null,
   "metadata": {},
   "outputs": [],
   "source": [
    "sigma_w_Gf = sigma_w_C2.subs(C2, C2_sig_solved)\n",
    "sigma_w_Gf"
   ]
  },
  {
   "cell_type": "code",
   "execution_count": null,
   "metadata": {},
   "outputs": [],
   "source": [
    "w_argmax = sp.solve(sigma_w_Gf.diff(w), w)[0].args[0].args[0]\n",
    "w_argmax"
   ]
  },
  {
   "cell_type": "code",
   "execution_count": null,
   "metadata": {},
   "outputs": [],
   "source": [
    "sigma_max = sigma_w_Gf.subs(w, w_argmax)\n",
    "sigma_max"
   ]
  },
  {
   "cell_type": "code",
   "execution_count": null,
   "metadata": {},
   "outputs": [],
   "source": [
    "get_sigma_w_Gf = sp.lambdify((w, w_0, E_, G_), sigma_w_Gf)\n",
    "get_w_argmax = sp.lambdify((w_0, E_, G_), w_argmax)\n",
    "get_sigma_max = sp.lambdify((w_0, E_, G_), sigma_max)"
   ]
  },
  {
   "cell_type": "code",
   "execution_count": null,
   "metadata": {},
   "outputs": [],
   "source": [
    "_, ax = plt.subplots(1,1)\n",
    "ax2 = ax.twinx()\n",
    "w_range = np.linspace(0,200,100)\n",
    "w_0_value, E_value, G_value = 1.5, 1000, 400000\n",
    "ax.plot(w_range, get_sigma_w_Gf(w_range, w_0_value, E_value, G_value), label='f(u)')\n",
    "w_00 = get_w_argmax(w_0_value, E_value, G_value)\n",
    "sigma_00 = get_sigma_max(w_0_value, E_value, G_value)\n",
    "ax.plot([w_00], [sigma_00], marker='o', color='green')\n",
    "ax.plot([w_0_value], [get_sigma_w_Gf(w_0_value, w_0_value, E_value, G_value )], marker='o', color='red')\n",
    "#ax2.plot(w_range, get_omega_w_(w_range, w_0_value, E_value,G_value), color='red');\n",
    "ax.legend();"
   ]
  },
  {
   "cell_type": "markdown",
   "metadata": {},
   "source": [
    "# Isolating damage energy dissipation"
   ]
  },
  {
   "cell_type": "code",
   "execution_count": null,
   "metadata": {},
   "outputs": [],
   "source": [
    "from sympy import Function, dsolve, Eq, Derivative, symbols\n",
    "u_p = sp.symbols(r'u_p')\n",
    "Y = sp.symbols(r'Y')\n",
    "sigma = sp.symbols(r'\\sigma')\n",
    "lambda_ = sp.symbols(r'\\lambda', nonnegative=True)\n",
    "sigma_eff = sp.symbols(r'\\sigma_\\mathrm{eff}')\n",
    "bar_sigma = sp.symbols(r'\\bar{\\sigma}')\n",
    "#f_0 = sp.symbols(r'f_0', positive=True)\n",
    "omega_u = Function('omega')\n",
    "omega_ = sp.symbols(r'omega', positive=True)\n",
    "#S_ = sp.symbols(r'S', positive=True)\n",
    "c_ = sp.symbols(r'c', positive=True)"
   ]
  },
  {
   "cell_type": "code",
   "execution_count": null,
   "metadata": {},
   "outputs": [],
   "source": [
    "psi_rho = sp.simplify(sp.Rational(1,2) * (1 - omega_) * E_ * (u - u_p)**2)\n",
    "psi_rho"
   ]
  },
  {
   "cell_type": "code",
   "execution_count": null,
   "metadata": {},
   "outputs": [],
   "source": [
    "sigma_ = sp.simplify(psi_rho.diff(u))\n",
    "sigma_p_ = sigma_\n",
    "sigma_"
   ]
  },
  {
   "cell_type": "code",
   "execution_count": null,
   "metadata": {},
   "outputs": [],
   "source": [
    "sigma_eff_ = sp.simplify(sigma / (1 - omega_))\n",
    "sigma_eff_"
   ]
  },
  {
   "cell_type": "code",
   "execution_count": null,
   "metadata": {},
   "outputs": [],
   "source": [
    "Y_ = -sp.simplify(psi_rho.diff(omega_))\n",
    "Y_"
   ]
  },
  {
   "cell_type": "code",
   "execution_count": null,
   "metadata": {},
   "outputs": [],
   "source": [
    "f_ = sp.sqrt(sigma_eff**2) - bar_sigma\n",
    "#f_ = sp.Abs(sigma_eff) - bar_sigma\n",
    "f_"
   ]
  },
  {
   "cell_type": "code",
   "execution_count": null,
   "metadata": {},
   "outputs": [],
   "source": [
    "phi_ = f_ + sp.Rational(1,2) * (1 - omega_) * C2 * Y**2\n",
    "phi_"
   ]
  },
  {
   "cell_type": "code",
   "execution_count": null,
   "metadata": {},
   "outputs": [],
   "source": [
    "dot_omega_= lambda_ * sp.simplify(phi_.diff(Y))\n",
    "dot_omega_"
   ]
  },
  {
   "cell_type": "code",
   "execution_count": null,
   "metadata": {},
   "outputs": [],
   "source": [
    "dot_u_p_ = -lambda_ * sp.simplify(phi_.diff(sigma_eff)) * sigma_eff_.diff(sigma)\n",
    "sp.simplify(dot_u_p_)"
   ]
  },
  {
   "cell_type": "code",
   "execution_count": null,
   "metadata": {},
   "outputs": [],
   "source": [
    "f_Sig_ = f_.subs(sigma_eff, sigma_eff_)\n",
    "f_Sig_"
   ]
  },
  {
   "cell_type": "code",
   "execution_count": null,
   "metadata": {},
   "outputs": [],
   "source": [
    "dot_f_Sig_ = sp.simplify(f_Sig_.diff(sigma))\n",
    "dot_f_Sig_"
   ]
  },
  {
   "cell_type": "markdown",
   "metadata": {},
   "source": [
    "## Further steps\n",
    "\\begin{align}\n",
    " \\dot{f} = \\frac{\\partial f}{\\partial \\sigma} \\dot{\\sigma} = \n",
    " \\frac{\\partial f}{\\partial \\sigma_\\mathrm{eff}} \\frac{\\partial \\sigma_\\mathrm{eff}}{\\partial \\sigma} \\dot{\\sigma}\n",
    "\\end{align}"
   ]
  },
  {
   "cell_type": "markdown",
   "metadata": {},
   "source": [
    " * substitute the constitutive law and the evolution equation and solve\n",
    " for $\\lambda$\n",
    " * substituted $\\lambda$ into $\\dot{\\omega}$\n",
    " * evaluate energy dissipation $ Y \\dot{\\omega} $\n",
    " * integrate it for $u$\n",
    " * set the result equal to $G_\\mathrm{F}$ and resolve $C_2$ for it."
   ]
  },
  {
   "cell_type": "markdown",
   "metadata": {},
   "source": [
    "**Note:** this is probably not realistic to achieve. If the solution is not possible, provide a solver to obtain $C_2$ rendering a required $G_\\mathrm{F}$ numerically "
   ]
  },
  {
   "cell_type": "markdown",
   "metadata": {},
   "source": [
    "# Convert the damage function to a softening function"
   ]
  },
  {
   "cell_type": "code",
   "execution_count": null,
   "metadata": {},
   "outputs": [],
   "source": [
    "f_w = f_0 * (1 - omega_u.subs(u,w))\n",
    "f_w"
   ]
  },
  {
   "cell_type": "code",
   "execution_count": null,
   "metadata": {},
   "outputs": [],
   "source": [
    "C1_solved = sp.solve(sp.Eq(f_w.subs(w,0), f_0), 'C1')[0]\n",
    "C1_solved"
   ]
  },
  {
   "cell_type": "code",
   "execution_count": null,
   "metadata": {},
   "outputs": [],
   "source": [
    "f_w_C2 = f_w.subs('C1', C1_solved)\n",
    "f_w_C2"
   ]
  },
  {
   "cell_type": "code",
   "execution_count": null,
   "metadata": {},
   "outputs": [],
   "source": [
    "int_f_w_C2 = sp.integrate(f_w_C2, (w,0,sp.oo))\n",
    "int_f_w_C2"
   ]
  },
  {
   "cell_type": "code",
   "execution_count": null,
   "metadata": {},
   "outputs": [],
   "source": [
    "C2_solved = sp.solve(sp.Eq( G_, int_f_w_C2 ),  C2)[0]\n",
    "sp.simplify(C2_solved)"
   ]
  },
  {
   "cell_type": "code",
   "execution_count": null,
   "metadata": {},
   "outputs": [],
   "source": [
    "f_w_solved = f_w_C2.subs(C2, C2_solved)\n",
    "f_w_solved"
   ]
  },
  {
   "cell_type": "code",
   "execution_count": null,
   "metadata": {},
   "outputs": [],
   "source": [
    "#get_omega_u = sp.lambdify((u, f_0, G_), omega_u_solved)\n",
    "get_f_w = sp.lambdify((w, f_0, G_), f_w_solved)"
   ]
  },
  {
   "cell_type": "code",
   "execution_count": null,
   "metadata": {},
   "outputs": [],
   "source": [
    "_, ax = plt.subplots(1,1)\n",
    "ax2 = ax.twinx()\n",
    "w_range = np.linspace(0,10,100)\n",
    "ax.plot(w_range, get_f_w(w_range,1,2), label='f(u)')\n",
    "#ax2.plot(u_range, get_omega_u(u_range,1,10), color='red');\n",
    "ax.legend()"
   ]
  },
  {
   "cell_type": "code",
   "execution_count": null,
   "metadata": {},
   "outputs": [],
   "source": [
    "dot_omega_u.subs(C2, C2_solved)"
   ]
  },
  {
   "cell_type": "code",
   "execution_count": null,
   "metadata": {},
   "outputs": [],
   "source": []
  }
 ],
 "metadata": {
  "kernelspec": {
   "display_name": "bmcs_env",
   "language": "python",
   "name": "bmcs_env"
  },
  "language_info": {
   "codemirror_mode": {
    "name": "ipython",
    "version": 3
   },
   "file_extension": ".py",
   "mimetype": "text/x-python",
   "name": "python",
   "nbconvert_exporter": "python",
   "pygments_lexer": "ipython3",
   "version": "3.9.1"
  }
 },
 "nbformat": 4,
 "nbformat_minor": 4
}
