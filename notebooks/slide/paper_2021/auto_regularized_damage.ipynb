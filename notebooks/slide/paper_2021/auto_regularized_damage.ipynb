{
 "cells": [
  {
   "cell_type": "markdown",
   "metadata": {},
   "source": [
    "# Damage function formulation within a thermodynamic material model\n",
    "\n",
    "The notebook shows how to construct a damage function as an evolution law within a time-stepping inelastic algorithm which\n",
    " - implicitly approaches the value 1 in a limit\n",
    " - has a desirebed algebraic shape with specified material parameters\n",
    " - can support self-regularization in terms of a fracture energy parameter\n",
    "   which controls the integral of the stress-strain response. "
   ]
  },
  {
   "cell_type": "code",
   "execution_count": 1,
   "metadata": {},
   "outputs": [],
   "source": [
    "%matplotlib widget\n",
    "import sympy as sp\n",
    "import numpy as np\n",
    "import matplotlib.pylab as plt\n",
    "sp.init_printing()"
   ]
  },
  {
   "cell_type": "markdown",
   "metadata": {},
   "source": [
    "# Self-regularized softening function"
   ]
  },
  {
   "cell_type": "markdown",
   "metadata": {},
   "source": [
    "Let us consider a softening function of the form\n",
    "\\begin{align}\n",
    "f(w) = c_1 exp( - c_2 w )\n",
    "\\end{align}\n",
    "This is function should describe the decay of stress starting from the material tensile strength and continuously deminishing to zero.\n",
    "The variable $w$ represents the crack opening and the parameters $c_1$ and $c_2$ are the material parameters."
   ]
  },
  {
   "cell_type": "code",
   "execution_count": 2,
   "metadata": {},
   "outputs": [],
   "source": [
    "w = sp.symbols('w')\n",
    "c_1 = sp.symbols('c_1')\n",
    "c_2 = sp.symbols('c_2')"
   ]
  },
  {
   "cell_type": "code",
   "execution_count": 3,
   "metadata": {},
   "outputs": [
    {
     "data": {
      "image/png": "[encoded data removed]",
      "text/latex": [
       "$\\displaystyle c_{1} e^{- c_{2} w}$"
      ],
      "text/plain": [
       "    -c₂⋅w\n",
       "c₁⋅ℯ     "
      ]
     },
     "execution_count": 3,
     "metadata": {},
     "output_type": "execute_result"
    }
   ],
   "source": [
    "f_w = c_1 * sp.exp(-c_2*w)\n",
    "f_w"
   ]
  },
  {
   "cell_type": "markdown",
   "metadata": {},
   "source": [
    "Let us plot the function to verify its shape for the material parameters set to the value 1"
   ]
  },
  {
   "cell_type": "code",
   "execution_count": 4,
   "metadata": {},
   "outputs": [
    {
     "data": {
      "application/vnd.jupyter.widget-view+json": {
       "model_id": "ad01adeb99694fbfa08a2311c3aace17",
       "version_major": 2,
       "version_minor": 0
      },
      "text/plain": [
       "Canvas(toolbar=Toolbar(toolitems=[('Home', 'Reset original view', 'home', 'home'), ('Back', 'Back to previous …"
      ]
     },
     "metadata": {},
     "output_type": "display_data"
    }
   ],
   "source": [
    "w_arr = np.linspace(0.01,10,100)\n",
    "fig, ax = plt.subplots(1,1,figsize=(5,3), tight_layout=True)\n",
    "ax.plot(w_arr, sp.lambdify((w, c_1, c_2), f_w)(w_arr,1,1));"
   ]
  },
  {
   "cell_type": "markdown",
   "metadata": {},
   "source": [
    "The function can be already used in this form. The question is however, how to set the material parameters $c_1$ and $c_2$. They can be directly associated to a particular type of material parameters - namely, to the tensile strength $f_\\mathrm{t}$ and fracture energy $G_\\mathrm{f}$ "
   ]
  },
  {
   "cell_type": "code",
   "execution_count": 5,
   "metadata": {},
   "outputs": [],
   "source": [
    "f_t, G_f = sp.symbols('f_t, G_f', positive=True)"
   ]
  },
  {
   "cell_type": "markdown",
   "metadata": {},
   "source": [
    "Softening starts at the level of the material strength so that we can set $f(w = 0) = f_\\mathrm{t}$  to obtain the equation"
   ]
  },
  {
   "cell_type": "code",
   "execution_count": 6,
   "metadata": {},
   "outputs": [
    {
     "data": {
      "image/png": "[encoded data removed]",
      "text/latex": [
       "$\\displaystyle c_{1} = f_{t}$"
      ],
      "text/plain": [
       "c₁ = fₜ"
      ]
     },
     "execution_count": 6,
     "metadata": {},
     "output_type": "execute_result"
    }
   ],
   "source": [
    "Eq1 = sp.Eq( f_w.subs({'w':0}), f_t)\n",
    "Eq1"
   ]
  },
  {
   "cell_type": "markdown",
   "metadata": {},
   "source": [
    "By solving for the $c_1$ we obtain the first substitution for our softening function."
   ]
  },
  {
   "cell_type": "code",
   "execution_count": 7,
   "metadata": {},
   "outputs": [
    {
     "data": {
      "image/png": "[encoded data removed]",
      "text/latex": [
       "$\\displaystyle \\left\\{ c_{1} : f_{t}\\right\\}$"
      ],
      "text/plain": [
       "{c₁: fₜ}"
      ]
     },
     "execution_count": 7,
     "metadata": {},
     "output_type": "execute_result"
    }
   ],
   "source": [
    "c_1_subs = sp.solve({Eq1}, c_1)\n",
    "c_1_subs"
   ]
  },
  {
   "cell_type": "markdown",
   "metadata": {},
   "source": [
    "Thus, if $w_0 = 0$, $c_1$ is equivalent to the tensile strength $f_\\mathrm{t}$\n",
    "\n",
    "The second possible mechanical interpretation is provided by the statement that softening directly represents the energy dissipation of a unit crack area. Thus, for large $w \\rightarrow \\infty$ it is equivalent to the energy producing a stress-free crack. This is the meaning of fracture energy.\n",
    "\n",
    "We can thus obtain the fracture energy represented by the softening function by evaluating its integral in the range $w \\in (0, \\infty)$. "
   ]
  },
  {
   "cell_type": "code",
   "execution_count": 8,
   "metadata": {},
   "outputs": [
    {
     "data": {
      "image/png": "[encoded data removed]",
      "text/latex": [
       "$\\displaystyle \\begin{cases} - \\frac{f_{t} e^{- c_{2} w}}{c_{2}} & \\text{for}\\: c_{2} \\neq 0 \\\\f_{t} w & \\text{otherwise} \\end{cases}$"
      ],
      "text/plain": [
       "⎧     -c₂⋅w             \n",
       "⎪-fₜ⋅ℯ                  \n",
       "⎪───────────  for c₂ ≠ 0\n",
       "⎨     c₂                \n",
       "⎪                       \n",
       "⎪   fₜ⋅w      otherwise \n",
       "⎩                       "
      ]
     },
     "execution_count": 8,
     "metadata": {},
     "output_type": "execute_result"
    }
   ],
   "source": [
    "int_f_w = sp.integrate(f_w.subs(c_1_subs), w)\n",
    "int_f_w"
   ]
  },
  {
   "cell_type": "markdown",
   "metadata": {},
   "source": [
    "As $c_2 > 0$, only the second term matters.\n",
    "The determinate integral\n",
    "\\begin{align}\n",
    "\\left[ - \\frac{f_\\mathrm{t}}{c_2} \n",
    "\\exp(-c_2 w) \\right]_0^{\\infty}\n",
    "\\end{align}\n",
    "is zero for $w = \\infty$, so that the value in $w = 0$ delivers the result of the integral\n",
    "\\begin{align}\n",
    "\\frac{f_\\mathrm{t}}{c_2} \n",
    "\\end{align}\n",
    "\n",
    "This integral is equal to the fracture energy $G_\\mathrm{f}$."
   ]
  },
  {
   "cell_type": "code",
   "execution_count": 9,
   "metadata": {},
   "outputs": [
    {
     "data": {
      "image/png": "[encoded data removed]",
      "text/latex": [
       "$\\displaystyle \\frac{f_{t}}{c_{2}} = G_{f}$"
      ],
      "text/plain": [
       "fₜ      \n",
       "── = G_f\n",
       "c₂      "
      ]
     },
     "execution_count": 9,
     "metadata": {},
     "output_type": "execute_result"
    }
   ],
   "source": [
    "Eq2 = sp.Eq(-int_f_w.args[0][0].subs({'w':0}), G_f)\n",
    "Eq2"
   ]
  },
  {
   "cell_type": "markdown",
   "metadata": {},
   "source": [
    "and the value of $c_2$ delivers the second substitution for the softening function"
   ]
  },
  {
   "cell_type": "code",
   "execution_count": 10,
   "metadata": {},
   "outputs": [
    {
     "data": {
      "image/png": "[encoded data removed]",
      "text/latex": [
       "$\\displaystyle \\left\\{ c_{2} : \\frac{f_{t}}{G_{f}}\\right\\}$"
      ],
      "text/plain": [
       "⎧     fₜ⎫\n",
       "⎨c₂: ───⎬\n",
       "⎩    G_f⎭"
      ]
     },
     "execution_count": 10,
     "metadata": {},
     "output_type": "execute_result"
    }
   ],
   "source": [
    "c_2_subs = sp.solve({Eq2}, c_2)\n",
    "c_2_subs"
   ]
  },
  {
   "cell_type": "markdown",
   "metadata": {},
   "source": [
    "The softening function with strength and fracture energy as a parameter now obtains the form"
   ]
  },
  {
   "cell_type": "code",
   "execution_count": 11,
   "metadata": {},
   "outputs": [
    {
     "data": {
      "image/png": "[encoded data removed]",
      "text/latex": [
       "$\\displaystyle f_{t} e^{- \\frac{f_{t} w}{G_{f}}}$"
      ],
      "text/plain": [
       "    -fₜ⋅w \n",
       "    ──────\n",
       "     G_f  \n",
       "fₜ⋅ℯ      "
      ]
     },
     "execution_count": 11,
     "metadata": {},
     "output_type": "execute_result"
    }
   ],
   "source": [
    "f_w_solved = f_w.subs(c_1_subs).subs(c_2_subs)\n",
    "sp.simplify(f_w_solved)"
   ]
  },
  {
   "cell_type": "markdown",
   "metadata": {},
   "source": [
    "Verify that the fracture energy is recovered at $w$ in infinity"
   ]
  },
  {
   "cell_type": "code",
   "execution_count": 12,
   "metadata": {},
   "outputs": [
    {
     "data": {
      "image/png": "[encoded data removed]",
      "text/latex": [
       "$\\displaystyle G_{f}$"
      ],
      "text/plain": [
       "G_f"
      ]
     },
     "execution_count": 12,
     "metadata": {},
     "output_type": "execute_result"
    }
   ],
   "source": [
    "sp.integrate(f_w_solved, (w,0,sp.oo))"
   ]
  },
  {
   "cell_type": "markdown",
   "metadata": {},
   "source": [
    "The above derivation consideres a purely inelastic range \n",
    "and "
   ]
  },
  {
   "cell_type": "markdown",
   "metadata": {},
   "source": [
    "# Self regularized damage function"
   ]
  },
  {
   "cell_type": "code",
   "execution_count": 328,
   "metadata": {},
   "outputs": [],
   "source": [
    "r = sp.symbols(r'r', positive=True)\n",
    "E_ = sp.symbols(r'E', positive=True)\n",
    "u = sp.symbols(r'u')\n",
    "omega = sp.Function(r'omega')\n",
    "G_ = sp.symbols(r'G_f', positive=True)\n",
    "C2 = sp.symbols(r'C_2', positive=True)\n",
    "C3 = sp.symbols(r'C_3', positive=True)\n",
    "c = sp.symbols(r'c', positive=True)"
   ]
  },
  {
   "cell_type": "code",
   "execution_count": 329,
   "metadata": {},
   "outputs": [],
   "source": [
    "Y = sp.Rational(1,2) * E_ * u**2  # N/m^2 m^2 - N"
   ]
  },
  {
   "cell_type": "markdown",
   "metadata": {},
   "source": [
    "Inclusion of Y in the damage function is \n",
    "necessary to recover the G_F via \\int Y \\dot{omega} and \\int \\sigma u "
   ]
  },
  {
   "cell_type": "code",
   "execution_count": 330,
   "metadata": {},
   "outputs": [],
   "source": [
    "lam = sp.symbols(r'\\lambda', positive=True)"
   ]
  },
  {
   "cell_type": "code",
   "execution_count": 355,
   "metadata": {},
   "outputs": [
    {
     "data": {
      "image/png": "[encoded data removed]",
      "text/latex": [
       "$\\displaystyle \\frac{C_{2} E u^{2} \\left(1 - \\omega{\\left(u \\right)}\\right)}{2}$"
      ],
      "text/plain": [
       "      2           \n",
       "C₂⋅E⋅u ⋅(1 - ω(u))\n",
       "──────────────────\n",
       "        2         "
      ]
     },
     "execution_count": 355,
     "metadata": {},
     "output_type": "execute_result"
    }
   ],
   "source": [
    "dot_omega_u_r = ((1 - omega(u))**(1) * ((C2 * Y)**r)) # lambda N^r m^2\n",
    "dot_omega_u = dot_omega_u_r.subs(r,1) # 1/m = m * C2 * N    !  C2 = 1/(Nm^2)\n",
    "dot_omega_u"
   ]
  },
  {
   "cell_type": "code",
   "execution_count": 356,
   "metadata": {},
   "outputs": [
    {
     "data": {
      "image/png": "[encoded data removed]",
      "text/latex": [
       "$\\displaystyle - \\frac{C_{2} E u^{2} \\left(1 - \\omega{\\left(u \\right)}\\right)}{2} + \\frac{d}{d u} \\omega{\\left(u \\right)}$"
      ],
      "text/plain": [
       "        2                      \n",
       "  C₂⋅E⋅u ⋅(1 - ω(u))   d       \n",
       "- ────────────────── + ──(ω(u))\n",
       "          2            du      "
      ]
     },
     "execution_count": 356,
     "metadata": {},
     "output_type": "execute_result"
    }
   ],
   "source": [
    "omega_evol_law = sp.Derivative(omega(u), u) - dot_omega_u\n",
    "omega_evol_law"
   ]
  },
  {
   "cell_type": "code",
   "execution_count": 357,
   "metadata": {},
   "outputs": [
    {
     "data": {
      "image/png": "[encoded data removed]",
      "text/latex": [
       "$\\displaystyle \\omega{\\left(u \\right)} = C_{1} e^{- \\frac{C_{2} E u^{3}}{6}} + 1$"
      ],
      "text/plain": [
       "                  3     \n",
       "           -C₂⋅E⋅u      \n",
       "           ─────────    \n",
       "               6        \n",
       "ω(u) = C₁⋅ℯ          + 1"
      ]
     },
     "execution_count": 357,
     "metadata": {},
     "output_type": "execute_result"
    }
   ],
   "source": [
    "omega_u_eq = sp.dsolve(omega_evol_law, omega(u))\n",
    "omega_u_eq"
   ]
  },
  {
   "cell_type": "code",
   "execution_count": 358,
   "metadata": {},
   "outputs": [
    {
     "data": {
      "image/png": "[encoded data removed]",
      "text/latex": [
       "$\\displaystyle C_{1} e^{- \\frac{C_{2} E u^{3}}{6}} + 1$"
      ],
      "text/plain": [
       "           3     \n",
       "    -C₂⋅E⋅u      \n",
       "    ─────────    \n",
       "        6        \n",
       "C₁⋅ℯ          + 1"
      ]
     },
     "execution_count": 358,
     "metadata": {},
     "output_type": "execute_result"
    }
   ],
   "source": [
    "omega_u = omega_u_eq.args[1]\n",
    "omega_u"
   ]
  },
  {
   "cell_type": "code",
   "execution_count": 359,
   "metadata": {},
   "outputs": [
    {
     "data": {
      "image/png": "[encoded data removed]",
      "text/latex": [
       "$\\displaystyle -1$"
      ],
      "text/plain": [
       "-1"
      ]
     },
     "execution_count": 359,
     "metadata": {},
     "output_type": "execute_result"
    }
   ],
   "source": [
    "C1_solved = sp.solve(omega_u.subs(u,0), 'C1')[0] # check the elastic range\n",
    "C1_solved"
   ]
  },
  {
   "cell_type": "code",
   "execution_count": 360,
   "metadata": {},
   "outputs": [
    {
     "data": {
      "image/png": "[encoded data removed]",
      "text/latex": [
       "$\\displaystyle 1 - e^{- \\frac{C_{2} E u^{3}}{6}}$"
      ],
      "text/plain": [
       "            3 \n",
       "     -C₂⋅E⋅u  \n",
       "     ─────────\n",
       "         6    \n",
       "1 - ℯ         "
      ]
     },
     "execution_count": 360,
     "metadata": {},
     "output_type": "execute_result"
    }
   ],
   "source": [
    "omega_u_C2 = omega_u.subs('C1', C1_solved)\n",
    "omega_u_C2"
   ]
  },
  {
   "cell_type": "code",
   "execution_count": 362,
   "metadata": {},
   "outputs": [
    {
     "data": {
      "image/png": "[encoded data removed]",
      "text/latex": [
       "$\\displaystyle \\frac{C_{2} E u^{2} e^{- \\frac{C_{2} E u^{3}}{6}}}{2}$"
      ],
      "text/plain": [
       "                3 \n",
       "         -C₂⋅E⋅u  \n",
       "         ─────────\n",
       "      2      6    \n",
       "C₂⋅E⋅u ⋅ℯ         \n",
       "──────────────────\n",
       "        2         "
      ]
     },
     "execution_count": 362,
     "metadata": {},
     "output_type": "execute_result"
    }
   ],
   "source": [
    "dot_omega_u_C2 = dot_omega_u.subs(omega(u), omega_u_C2)\n",
    "dot_omega_u_C2"
   ]
  },
  {
   "cell_type": "code",
   "execution_count": 363,
   "metadata": {},
   "outputs": [
    {
     "data": {
      "image/png": "[encoded data removed]",
      "text/latex": [
       "$\\displaystyle \\frac{C_{2} E^{2} u^{4} e^{- \\frac{C_{2} E u^{3}}{6}}}{4}$"
      ],
      "text/plain": [
       "                 3 \n",
       "          -C₂⋅E⋅u  \n",
       "          ─────────\n",
       "    2  4      6    \n",
       "C₂⋅E ⋅u ⋅ℯ         \n",
       "───────────────────\n",
       "         4         "
      ]
     },
     "execution_count": 363,
     "metadata": {},
     "output_type": "execute_result"
    }
   ],
   "source": [
    "dot_G = Y * dot_omega_u_C2\n",
    "dot_G   # Nm/m = Y "
   ]
  },
  {
   "cell_type": "code",
   "execution_count": 364,
   "metadata": {},
   "outputs": [
    {
     "data": {
      "image/png": "[encoded data removed]",
      "text/latex": [
       "$\\displaystyle \\frac{6^{\\frac{2}{3}} \\sqrt[3]{E} \\Gamma\\left(\\frac{2}{3}\\right)}{3 C_{2}^{\\frac{2}{3}}}$"
      ],
      "text/plain": [
       " 2/3 3 ___       \n",
       "6   ⋅╲╱ E ⋅Γ(2/3)\n",
       "─────────────────\n",
       "         2/3     \n",
       "     3⋅C₂        "
      ]
     },
     "execution_count": 364,
     "metadata": {},
     "output_type": "execute_result"
    }
   ],
   "source": [
    "G_F = sp.integrate(dot_G, (u,0,sp.oo))\n",
    "G_F # N/m^2 * (1/sqrt(m))^2 = N / m "
   ]
  },
  {
   "cell_type": "code",
   "execution_count": 365,
   "metadata": {},
   "outputs": [
    {
     "data": {
      "image/png": "[encoded data removed]",
      "text/latex": [
       "$\\displaystyle \\frac{2 \\sqrt{3} \\sqrt{E} \\Gamma^{\\frac{3}{2}}\\left(\\frac{2}{3}\\right)}{3 G_{f}^{\\frac{3}{2}}}$"
      ],
      "text/plain": [
       "         3/2     \n",
       "2⋅√3⋅√E⋅Γ   (2/3)\n",
       "─────────────────\n",
       "          3/2    \n",
       "     3⋅G_f       "
      ]
     },
     "execution_count": 365,
     "metadata": {},
     "output_type": "execute_result"
    }
   ],
   "source": [
    "C2_solved = sp.solve(sp.Eq( G_, G_F ),  C2)[0]\n",
    "sp.simplify(C2_solved)      # sqrt(N/m^2 / N/m)  = 1 / sqrt(m)"
   ]
  },
  {
   "cell_type": "code",
   "execution_count": 292,
   "metadata": {},
   "outputs": [
    {
     "data": {
      "image/png": "[encoded data removed]",
      "text/latex": [
       "$\\displaystyle 1 - e^{- \\frac{\\sqrt{3} E^{\\frac{3}{2}} u^{3} \\Gamma^{\\frac{3}{2}}\\left(\\frac{2}{3}\\right)}{9 G_{f}^{\\frac{3}{2}}}}$"
      ],
      "text/plain": [
       "          3/2  3  3/2      \n",
       "     -√3⋅E   ⋅u ⋅Γ   (2/3) \n",
       "     ──────────────────────\n",
       "                 3/2       \n",
       "            9⋅G_f          \n",
       "1 - ℯ                      "
      ]
     },
     "execution_count": 292,
     "metadata": {},
     "output_type": "execute_result"
    }
   ],
   "source": [
    "omega_u_solved = omega_u_C2.subs(C2, C2_solved)\n",
    "sp.simplify(omega_u_solved) "
   ]
  },
  {
   "cell_type": "code",
   "execution_count": 293,
   "metadata": {},
   "outputs": [
    {
     "data": {
      "image/png": "[encoded data removed]",
      "text/latex": [
       "$\\displaystyle E u e^{- \\frac{\\sqrt{3} E^{\\frac{3}{2}} u^{3} \\Gamma^{\\frac{3}{2}}\\left(\\frac{2}{3}\\right)}{9 G_{f}^{\\frac{3}{2}}}}$"
      ],
      "text/plain": [
       "          3/2  3  3/2      \n",
       "     -√3⋅E   ⋅u ⋅Γ   (2/3) \n",
       "     ──────────────────────\n",
       "                 3/2       \n",
       "            9⋅G_f          \n",
       "E⋅u⋅ℯ                      "
      ]
     },
     "execution_count": 293,
     "metadata": {},
     "output_type": "execute_result"
    }
   ],
   "source": [
    "sigma_u = ( 1 - omega_u_solved ) * E_ * u\n",
    "sigma_u"
   ]
  },
  {
   "cell_type": "code",
   "execution_count": 294,
   "metadata": {},
   "outputs": [
    {
     "data": {
      "image/png": "[encoded data removed]",
      "text/latex": [
       "$\\displaystyle G_{f}$"
      ],
      "text/plain": [
       "G_f"
      ]
     },
     "execution_count": 294,
     "metadata": {},
     "output_type": "execute_result"
    }
   ],
   "source": [
    "sp.integrate(sigma_u, (u,0,sp.oo))"
   ]
  },
  {
   "cell_type": "code",
   "execution_count": 295,
   "metadata": {},
   "outputs": [],
   "source": [
    "u_argmax = sp.solve(sigma_u.diff(u),u)[0]"
   ]
  },
  {
   "cell_type": "code",
   "execution_count": 296,
   "metadata": {},
   "outputs": [],
   "source": [
    "sig_max = sp.simplify(sigma_u.subs(u, u_argmax))"
   ]
  },
  {
   "cell_type": "code",
   "execution_count": 297,
   "metadata": {},
   "outputs": [
    {
     "data": {
      "image/png": "[encoded data removed]",
      "text/latex": [
       "$\\displaystyle \\frac{\\sqrt[6]{3} \\sqrt{E} \\sqrt{G_{f}}}{e^{\\frac{1}{3}} \\sqrt{\\Gamma\\left(\\frac{2}{3}\\right)}}$"
      ],
      "text/plain": [
       "6 ___      _____  -1/3\n",
       "╲╱ 3 ⋅√E⋅╲╱ G_f ⋅ℯ    \n",
       "──────────────────────\n",
       "        ________      \n",
       "      ╲╱ Γ(2/3)       "
      ]
     },
     "execution_count": 297,
     "metadata": {},
     "output_type": "execute_result"
    }
   ],
   "source": [
    "sig_max"
   ]
  },
  {
   "cell_type": "code",
   "execution_count": 319,
   "metadata": {},
   "outputs": [],
   "source": [
    "psi_u_norm = sp.simplify((1 - omega_u_solved) / sig_max)\n",
    "omega_u_norm = sp.simplify(1 - psi_u_norm)"
   ]
  },
  {
   "cell_type": "code",
   "execution_count": 325,
   "metadata": {},
   "outputs": [
    {
     "data": {
      "image/png": "[encoded data removed]",
      "text/latex": [
       "$\\displaystyle 1 - \\frac{3^{\\frac{5}{6}} e^{- \\frac{\\sqrt{3} E^{\\frac{3}{2}} u^{3} \\Gamma^{\\frac{3}{2}}\\left(\\frac{2}{3}\\right)}{9 G_{f}^{\\frac{3}{2}}} + \\frac{1}{3}} \\sqrt{\\Gamma\\left(\\frac{2}{3}\\right)}}{3 \\sqrt{E} \\sqrt{G_{f}}}$"
      ],
      "text/plain": [
       "                3/2  3  3/2                    \n",
       "            √3⋅E   ⋅u ⋅Γ   (2/3)   1           \n",
       "          - ──────────────────── + ─           \n",
       "                       3/2         3           \n",
       "     5/6          9⋅G_f                ________\n",
       "    3   ⋅ℯ                          ⋅╲╱ Γ(2/3) \n",
       "1 - ───────────────────────────────────────────\n",
       "                           _____               \n",
       "                    3⋅√E⋅╲╱ G_f                "
      ]
     },
     "execution_count": 325,
     "metadata": {},
     "output_type": "execute_result"
    }
   ],
   "source": [
    "omega_u_norm"
   ]
  },
  {
   "cell_type": "code",
   "execution_count": 326,
   "metadata": {},
   "outputs": [],
   "source": [
    "get_sigma_u_ = sp.lambdify((u, E_, G_), sigma_u)\n",
    "get_omega_u_ = sp.lambdify((u, E_, G_), omega_u_solved)\n",
    "get_sig_u_norm_ = sp.lambdify((u, E_, G_), (1 - omega_u_norm) * E_ *u )"
   ]
  },
  {
   "cell_type": "code",
   "execution_count": 327,
   "metadata": {},
   "outputs": [
    {
     "data": {
      "application/vnd.jupyter.widget-view+json": {
       "model_id": "236c4545f3bf4549ac652766cc07f222",
       "version_major": 2,
       "version_minor": 0
      },
      "text/plain": [
       "Canvas(toolbar=Toolbar(toolitems=[('Home', 'Reset original view', 'home', 'home'), ('Back', 'Back to previous …"
      ]
     },
     "metadata": {},
     "output_type": "display_data"
    },
    {
     "name": "stderr",
     "output_type": "stream",
     "text": [
      "No handles with labels found to put in legend.\n"
     ]
    }
   ],
   "source": [
    "_, ax = plt.subplots(1,1)\n",
    "ax2 = ax.twinx()\n",
    "u_range = np.linspace(0,20,200)\n",
    "w_range = u_range\n",
    "E_value, G_value = 10000, 40000\n",
    "# ax.plot(u_range, get_sigma_u_(u_range,E_value,G_value), label='f(u)')\n",
    "# ax2.plot(u_range, get_omega_u_(u_range,E_value,G_value), color='red');\n",
    "ax2.plot(u_range, get_sig_u_norm_(u_range,E_value,G_value), color='red');\n",
    "ax.legend();"
   ]
  },
  {
   "cell_type": "code",
   "execution_count": 324,
   "metadata": {},
   "outputs": [],
   "source": [
    "w = sp.symbols(r'w')\n",
    "w_0 = sp.symbols(r'w_0', positive=True)"
   ]
  },
  {
   "cell_type": "code",
   "execution_count": 79,
   "metadata": {},
   "outputs": [],
   "source": [
    "omega_w = sp.Piecewise( (0, w < w_0),\n",
    "                        (omega_u_solved.subs(u, w-w_0), True))"
   ]
  },
  {
   "cell_type": "code",
   "execution_count": 80,
   "metadata": {},
   "outputs": [
    {
     "data": {
      "image/png": "[encoded data removed]",
      "text/latex": [
       "$\\displaystyle E w \\left(1 - \\begin{cases} 0 & \\text{for}\\: w < w_{0} \\\\1 - e^{- \\frac{0.843005468666242 E^{0.6} \\left(w - w_{0}\\right) \\left(\\left(w - w_{0}\\right)^{2}\\right)^{0.1}}{G_{f}^{\\frac{3}{5}}}} & \\text{otherwise} \\end{cases}\\right)$"
      ],
      "text/plain": [
       "    ⎛    ⎛⎧                          0                            for w < w₀⎞⎞\n",
       "    ⎜    ⎜⎪                                                                 ⎟⎟\n",
       "    ⎜    ⎜⎪                                                 0.1             ⎟⎟\n",
       "    ⎜    ⎜⎪                         0.6          ⎛        2⎞                ⎟⎟\n",
       "E⋅w⋅⎜1 - ⎜⎨     -0.843005468666242⋅E   ⋅(w - w₀)⋅⎝(w - w₀) ⎠                ⎟⎟\n",
       "    ⎜    ⎜⎪     ────────────────────────────────────────────────            ⎟⎟\n",
       "    ⎜    ⎜⎪                             3/5                                 ⎟⎟\n",
       "    ⎜    ⎜⎪                          G_f                                    ⎟⎟\n",
       "    ⎝    ⎝⎩1 - ℯ                                                  otherwise ⎠⎠"
      ]
     },
     "execution_count": 80,
     "metadata": {},
     "output_type": "execute_result"
    }
   ],
   "source": [
    "sigma_w = ( 1 - omega_w ) * E_ * w\n",
    "sigma_w"
   ]
  },
  {
   "cell_type": "code",
   "execution_count": 81,
   "metadata": {},
   "outputs": [
    {
     "data": {
      "image/png": "[encoded data removed]",
      "text/latex": [
       "$\\displaystyle \\int\\limits_{w_{0}}^{\\infty} \\begin{cases} E w & \\text{for}\\: w < w_{0} \\\\E w e^{- \\frac{0.843005468666242 E^{0.6} \\left(w - w_{0}\\right) \\left(\\left(w - w_{0}\\right)^{2}\\right)^{0.1}}{G_{f}^{\\frac{3}{5}}}} & \\text{otherwise} \\end{cases}\\, dw$"
      ],
      "text/plain": [
       "∞                                                                       \n",
       "⌠                                                                       \n",
       "⎮  ⎧                         E⋅w                           for w < w₀   \n",
       "⎮  ⎪                                                                    \n",
       "⎮  ⎪                                                 0.1                \n",
       "⎮  ⎪                         0.6          ⎛        2⎞                   \n",
       "⎮  ⎨     -0.843005468666242⋅E   ⋅(w - w₀)⋅⎝(w - w₀) ⎠                 dw\n",
       "⎮  ⎪     ────────────────────────────────────────────────               \n",
       "⎮  ⎪                             3/5                                    \n",
       "⎮  ⎪                          G_f                                       \n",
       "⎮  ⎩E⋅w⋅ℯ                                                  otherwise    \n",
       "⌡                                                                       \n",
       "w₀                                                                      "
      ]
     },
     "execution_count": 81,
     "metadata": {},
     "output_type": "execute_result"
    }
   ],
   "source": [
    "sp.integrate(sigma_w, (w,w_0,sp.oo))"
   ]
  },
  {
   "cell_type": "code",
   "execution_count": 82,
   "metadata": {},
   "outputs": [],
   "source": [
    "get_sigma_w_ = sp.lambdify((w, w_0, E_, G_), sigma_w)\n",
    "get_omega_w_ = sp.lambdify((w, w_0, E_, G_), omega_w)"
   ]
  },
  {
   "cell_type": "code",
   "execution_count": 83,
   "metadata": {},
   "outputs": [
    {
     "data": {
      "application/vnd.jupyter.widget-view+json": {
       "model_id": "083ea4122a8e459a90b1842a97e094d9",
       "version_major": 2,
       "version_minor": 0
      },
      "text/plain": [
       "Canvas(toolbar=Toolbar(toolitems=[('Home', 'Reset original view', 'home', 'home'), ('Back', 'Back to previous …"
      ]
     },
     "metadata": {},
     "output_type": "display_data"
    }
   ],
   "source": [
    "_, ax = plt.subplots(1,1)\n",
    "ax2 = ax.twinx()\n",
    "w_range = np.linspace(0,20,100)\n",
    "w_0_value, E_value, G_value = 2.5, 1000, 40000\n",
    "ax.plot(w_range, get_sigma_w_(w_range, w_0_value, E_value,G_value), label='f(u)')\n",
    "ax2.plot(w_range, get_omega_w_(w_range, w_0_value, E_value,G_value), color='red');\n",
    "ax.legend();"
   ]
  },
  {
   "cell_type": "code",
   "execution_count": 84,
   "metadata": {},
   "outputs": [
    {
     "data": {
      "image/png": "[encoded data removed]",
      "text/latex": [
       "$\\displaystyle \\begin{cases} 0 & \\text{for}\\: w < w_{0} \\\\1 - e^{- 0.77752749294734 C_{2} E^{0.1} \\left(w - w_{0}\\right) \\left(\\left(w - w_{0}\\right)^{2}\\right)^{0.1}} & \\text{otherwise} \\end{cases}$"
      ],
      "text/plain": [
       "⎧                          0                             for w < w₀\n",
       "⎪                                                                  \n",
       "⎪                                                   0.1            \n",
       "⎨                           0.1          ⎛        2⎞               \n",
       "⎪     -0.77752749294734⋅C₂⋅E   ⋅(w - w₀)⋅⎝(w - w₀) ⎠               \n",
       "⎪1 - ℯ                                                   otherwise \n",
       "⎩                                                                  "
      ]
     },
     "execution_count": 84,
     "metadata": {},
     "output_type": "execute_result"
    }
   ],
   "source": [
    "omega_w_C2 = sp.Piecewise((0, w < w_0),\n",
    "                               (omega_u_C2.subs(u, w-w_0), True))\n",
    "omega_w_C2"
   ]
  },
  {
   "cell_type": "code",
   "execution_count": 85,
   "metadata": {},
   "outputs": [
    {
     "data": {
      "image/png": "[encoded data removed]",
      "text/latex": [
       "$\\displaystyle \\begin{cases} 0 & \\text{for}\\: w < w_{0} \\\\0.933032991536807 C_{2} E^{0.1} \\left(\\left(w - w_{0}\\right)^{2}\\right)^{0.1} e^{- 0.77752749294734 C_{2} E^{0.1} \\left(w - w_{0}\\right) \\left(\\left(w - w_{0}\\right)^{2}\\right)^{0.1}} & \\text{otherwise} \\end{cases}$"
      ],
      "text/plain": [
       "⎧                                             0                               \n",
       "⎪                                                                             \n",
       "⎪                                                                             \n",
       "⎨                                     0.1                        0.1          \n",
       "⎪                      0.1 ⎛        2⎞     -0.77752749294734⋅C₂⋅E   ⋅(w - w₀)⋅\n",
       "⎪0.933032991536807⋅C₂⋅E   ⋅⎝(w - w₀) ⎠   ⋅ℯ                                   \n",
       "⎩                                                                             \n",
       "\n",
       "                for w < w₀\n",
       "                          \n",
       "           0.1            \n",
       "⎛        2⎞               \n",
       "⎝(w - w₀) ⎠               \n",
       "                otherwise \n",
       "                          "
      ]
     },
     "execution_count": 85,
     "metadata": {},
     "output_type": "execute_result"
    }
   ],
   "source": [
    "dot_omega_w_C2 = sp.Piecewise((0, w < w_0),\n",
    "                               (dot_omega_u_C2.subs(u, w-w_0), True))\n",
    "dot_omega_w_C2"
   ]
  },
  {
   "cell_type": "code",
   "execution_count": 86,
   "metadata": {},
   "outputs": [
    {
     "data": {
      "image/png": "[encoded data removed]",
      "text/latex": [
       "$\\displaystyle \\frac{E \\left(w - w_{0}\\right)^{2}}{2}$"
      ],
      "text/plain": [
       "          2\n",
       "E⋅(w - w₀) \n",
       "───────────\n",
       "     2     "
      ]
     },
     "execution_count": 86,
     "metadata": {},
     "output_type": "execute_result"
    }
   ],
   "source": [
    "Y_w = Y.subs(u, w-w_0)\n",
    "Y_w"
   ]
  },
  {
   "cell_type": "code",
   "execution_count": 87,
   "metadata": {},
   "outputs": [
    {
     "data": {
      "image/png": "[encoded data removed]",
      "text/latex": [
       "$\\displaystyle \\frac{E \\left(w - w_{0}\\right)^{2} \\left(\\begin{cases} 0 & \\text{for}\\: w < w_{0} \\\\0.933032991536807 C_{2} E^{0.1} \\left(\\left(w - w_{0}\\right)^{2}\\right)^{0.1} e^{- 0.77752749294734 C_{2} E^{0.1} \\left(w - w_{0}\\right) \\left(\\left(w - w_{0}\\right)^{2}\\right)^{0.1}} & \\text{otherwise} \\end{cases}\\right)}{2}$"
      ],
      "text/plain": [
       "            ⎛⎧                                             0                  \n",
       "            ⎜⎪                                                                \n",
       "          2 ⎜⎪                                                                \n",
       "E⋅(w - w₀) ⋅⎜⎨                                     0.1                        \n",
       "            ⎜⎪                      0.1 ⎛        2⎞     -0.77752749294734⋅C₂⋅E\n",
       "            ⎜⎪0.933032991536807⋅C₂⋅E   ⋅⎝(w - w₀) ⎠   ⋅ℯ                      \n",
       "            ⎝⎩                                                                \n",
       "──────────────────────────────────────────────────────────────────────────────\n",
       "                                                          2                   \n",
       "\n",
       "                             for w < w₀⎞\n",
       "                                       ⎟\n",
       "                        0.1            ⎟\n",
       "0.1          ⎛        2⎞               ⎟\n",
       "   ⋅(w - w₀)⋅⎝(w - w₀) ⎠               ⎟\n",
       "                             otherwise ⎟\n",
       "                                       ⎠\n",
       "────────────────────────────────────────\n",
       "                                        "
      ]
     },
     "execution_count": 87,
     "metadata": {},
     "output_type": "execute_result"
    }
   ],
   "source": [
    "dot_G_w = Y_w * dot_omega_w_C2\n",
    "dot_G_w"
   ]
  },
  {
   "cell_type": "code",
   "execution_count": 88,
   "metadata": {},
   "outputs": [
    {
     "data": {
      "image/png": "[encoded data removed]",
      "text/latex": [
       "$\\displaystyle \\int\\limits_{0}^{\\infty} \\begin{cases} 0 & \\text{for}\\: w < w_{0} \\\\0.466516495768404 C_{2} E^{1.1} \\left(w - w_{0}\\right)^{2} \\left(\\left(w - w_{0}\\right)^{2}\\right)^{0.1} e^{- 0.77752749294734 C_{2} E^{0.1} \\left(w - w_{0}\\right) \\left(\\left(w - w_{0}\\right)^{2}\\right)^{0.1}} & \\text{otherwise} \\end{cases}\\, dw$"
      ],
      "text/plain": [
       "∞                                                                             \n",
       "⌠                                                                             \n",
       "⎮ ⎧                                                  0                        \n",
       "⎮ ⎪                                                                           \n",
       "⎮ ⎪                                                                           \n",
       "⎮ ⎨                                               0.1                        0\n",
       "⎮ ⎪                      1.1         2 ⎛        2⎞     -0.77752749294734⋅C₂⋅E \n",
       "⎮ ⎪0.466516495768404⋅C₂⋅E   ⋅(w - w₀) ⋅⎝(w - w₀) ⎠   ⋅ℯ                       \n",
       "⎮ ⎩                                                                           \n",
       "⌡                                                                             \n",
       "0                                                                             \n",
       "\n",
       "                                         \n",
       "                                         \n",
       "                            for w < w₀   \n",
       "                                         \n",
       "                       0.1               \n",
       ".1          ⎛        2⎞                dw\n",
       "  ⋅(w - w₀)⋅⎝(w - w₀) ⎠                  \n",
       "                            otherwise    \n",
       "                                         \n",
       "                                         \n",
       "                                         "
      ]
     },
     "execution_count": 88,
     "metadata": {},
     "output_type": "execute_result"
    }
   ],
   "source": [
    "G_F_w_Y = sp.integrate(dot_G_w, (w,0,sp.oo)) # - Y_0\n",
    "G_F_w_Y"
   ]
  },
  {
   "cell_type": "code",
   "execution_count": 89,
   "metadata": {},
   "outputs": [
    {
     "ename": "IndexError",
     "evalue": "list index out of range",
     "output_type": "error",
     "traceback": [
      "\u001b[0;31m---------------------------------------------------------------------------\u001b[0m",
      "\u001b[0;31mIndexError\u001b[0m                                Traceback (most recent call last)",
      "\u001b[0;32m<ipython-input-89-c681f331acd2>\u001b[0m in \u001b[0;36m<module>\u001b[0;34m\u001b[0m\n\u001b[0;32m----> 1\u001b[0;31m \u001b[0mC2_Y_solved\u001b[0m \u001b[0;34m=\u001b[0m \u001b[0msp\u001b[0m\u001b[0;34m.\u001b[0m\u001b[0msolve\u001b[0m\u001b[0;34m(\u001b[0m\u001b[0msp\u001b[0m\u001b[0;34m.\u001b[0m\u001b[0mEq\u001b[0m\u001b[0;34m(\u001b[0m \u001b[0mG_\u001b[0m\u001b[0;34m,\u001b[0m \u001b[0mG_F_w_Y\u001b[0m \u001b[0;34m)\u001b[0m\u001b[0;34m,\u001b[0m  \u001b[0mC2\u001b[0m\u001b[0;34m)\u001b[0m\u001b[0;34m[\u001b[0m\u001b[0;36m0\u001b[0m\u001b[0;34m]\u001b[0m\u001b[0;34m\u001b[0m\u001b[0;34m\u001b[0m\u001b[0m\n\u001b[0m\u001b[1;32m      2\u001b[0m \u001b[0msp\u001b[0m\u001b[0;34m.\u001b[0m\u001b[0msimplify\u001b[0m\u001b[0;34m(\u001b[0m\u001b[0mC2_Y_solved\u001b[0m\u001b[0;34m)\u001b[0m\u001b[0;34m\u001b[0m\u001b[0;34m\u001b[0m\u001b[0m\n",
      "\u001b[0;31mIndexError\u001b[0m: list index out of range"
     ]
    }
   ],
   "source": [
    "C2_Y_solved = sp.solve(sp.Eq( G_, G_F_w_Y ),  C2)[0]\n",
    "sp.simplify(C2_Y_solved)"
   ]
  },
  {
   "cell_type": "code",
   "execution_count": null,
   "metadata": {},
   "outputs": [],
   "source": [
    "omega_w_Y_solved = omega_w_C2.subs(C2, C2_Y_solved)\n",
    "sp.simplify(omega_w_Y_solved)"
   ]
  },
  {
   "cell_type": "code",
   "execution_count": 90,
   "metadata": {},
   "outputs": [
    {
     "data": {
      "image/png": "[encoded data removed]",
      "text/latex": [
       "$\\displaystyle E w \\left(1 - \\begin{cases} 0 & \\text{for}\\: w < w_{0} \\\\1 - e^{- \\frac{\\sqrt{E} \\left(w - w_{0}\\right)}{\\sqrt{G_{f}}}} & \\text{otherwise} \\end{cases}\\right)$"
      ],
      "text/plain": [
       "    ⎛    ⎛⎧        0           for w < w₀⎞⎞\n",
       "    ⎜    ⎜⎪                              ⎟⎟\n",
       "    ⎜    ⎜⎪     -√E⋅(w - w₀)             ⎟⎟\n",
       "E⋅w⋅⎜1 - ⎜⎨     ─────────────            ⎟⎟\n",
       "    ⎜    ⎜⎪          _____               ⎟⎟\n",
       "    ⎜    ⎜⎪        ╲╱ G_f                ⎟⎟\n",
       "    ⎝    ⎝⎩1 - ℯ               otherwise ⎠⎠"
      ]
     },
     "execution_count": 90,
     "metadata": {},
     "output_type": "execute_result"
    }
   ],
   "source": [
    "sigma_w_Y = ( 1 - omega_w_Y_solved ) * E_ * w\n",
    "sigma_w_Y"
   ]
  },
  {
   "cell_type": "code",
   "execution_count": 91,
   "metadata": {},
   "outputs": [
    {
     "data": {
      "image/png": "[encoded data removed]",
      "text/latex": [
       "$\\displaystyle \\sqrt{E} \\sqrt{G_{f}} w_{0} + \\frac{E w_{0}^{2}}{2} + G_{f}$"
      ],
      "text/plain": [
       "                    2      \n",
       "     _____      E⋅w₀       \n",
       "√E⋅╲╱ G_f ⋅w₀ + ───── + G_f\n",
       "                  2        "
      ]
     },
     "execution_count": 91,
     "metadata": {},
     "output_type": "execute_result"
    }
   ],
   "source": [
    "sp.simplify(sp.integrate(sigma_w_Y, (w,0,sp.oo)))"
   ]
  },
  {
   "cell_type": "markdown",
   "metadata": {},
   "source": [
    "**Conclusion:** After including elastic behavior, there is a discrepancy between $\\int Y\\dot{\\omega} \\, \\mathrm{d}u$ and $\\int \\sigma(u)\\, \\mathrm{d}u$"
   ]
  },
  {
   "cell_type": "markdown",
   "metadata": {},
   "source": [
    "# Derive the the fracture energy on a $\\sigma, w$ scale "
   ]
  },
  {
   "cell_type": "code",
   "execution_count": 92,
   "metadata": {},
   "outputs": [
    {
     "data": {
      "image/png": "[encoded data removed]",
      "text/latex": [
       "$\\displaystyle E w \\left(1 - \\begin{cases} 0 & \\text{for}\\: w < w_{0} \\\\1 - e^{- 0.77752749294734 C_{2} E^{0.1} \\left(w - w_{0}\\right) \\left(\\left(w - w_{0}\\right)^{2}\\right)^{0.1}} & \\text{otherwise} \\end{cases}\\right)$"
      ],
      "text/plain": [
       "    ⎛    ⎛⎧                          0                             for w < w₀⎞\n",
       "    ⎜    ⎜⎪                                                                  ⎟\n",
       "    ⎜    ⎜⎪                                                   0.1            ⎟\n",
       "E⋅w⋅⎜1 - ⎜⎨                           0.1          ⎛        2⎞               ⎟\n",
       "    ⎜    ⎜⎪     -0.77752749294734⋅C₂⋅E   ⋅(w - w₀)⋅⎝(w - w₀) ⎠               ⎟\n",
       "    ⎜    ⎜⎪1 - ℯ                                                   otherwise ⎟\n",
       "    ⎝    ⎝⎩                                                                  ⎠\n",
       "\n",
       "⎞\n",
       "⎟\n",
       "⎟\n",
       "⎟\n",
       "⎟\n",
       "⎟\n",
       "⎠"
      ]
     },
     "execution_count": 92,
     "metadata": {},
     "output_type": "execute_result"
    }
   ],
   "source": [
    "sigma_w_C2 = ( 1 - omega_w_C2 ) * E_ * w\n",
    "sigma_w_C2"
   ]
  },
  {
   "cell_type": "code",
   "execution_count": 93,
   "metadata": {},
   "outputs": [
    {
     "data": {
      "image/png": "[encoded data removed]",
      "text/latex": [
       "$\\displaystyle \\int\\limits_{0}^{\\infty} \\begin{cases} E w & \\text{for}\\: w < w_{0} \\\\E w e^{- 0.77752749294734 C_{2} E^{0.1} \\left(w - w_{0}\\right) \\left(\\left(w - w_{0}\\right)^{2}\\right)^{0.1}} & \\text{otherwise} \\end{cases}\\, dw$"
      ],
      "text/plain": [
       "∞                                                                       \n",
       "⌠                                                                       \n",
       "⎮ ⎧                         E⋅w                            for w < w₀   \n",
       "⎮ ⎪                                                                     \n",
       "⎮ ⎪                                                   0.1               \n",
       "⎮ ⎨                           0.1          ⎛        2⎞                dw\n",
       "⎮ ⎪     -0.77752749294734⋅C₂⋅E   ⋅(w - w₀)⋅⎝(w - w₀) ⎠                  \n",
       "⎮ ⎪E⋅w⋅ℯ                                                   otherwise    \n",
       "⎮ ⎩                                                                     \n",
       "⌡                                                                       \n",
       "0                                                                       "
      ]
     },
     "execution_count": 93,
     "metadata": {},
     "output_type": "execute_result"
    }
   ],
   "source": [
    "G_F_w_sig = sp.integrate( sigma_w_C2, (w,0,sp.oo))\n",
    "G_F_w_sig"
   ]
  },
  {
   "cell_type": "code",
   "execution_count": 94,
   "metadata": {},
   "outputs": [
    {
     "ename": "IndexError",
     "evalue": "list index out of range",
     "output_type": "error",
     "traceback": [
      "\u001b[0;31m---------------------------------------------------------------------------\u001b[0m",
      "\u001b[0;31mIndexError\u001b[0m                                Traceback (most recent call last)",
      "\u001b[0;32m<ipython-input-94-9bbc00c796ce>\u001b[0m in \u001b[0;36m<module>\u001b[0;34m\u001b[0m\n\u001b[0;32m----> 1\u001b[0;31m \u001b[0mC2_sig_solved\u001b[0m \u001b[0;34m=\u001b[0m \u001b[0msp\u001b[0m\u001b[0;34m.\u001b[0m\u001b[0msolve\u001b[0m\u001b[0;34m(\u001b[0m\u001b[0msp\u001b[0m\u001b[0;34m.\u001b[0m\u001b[0mEq\u001b[0m\u001b[0;34m(\u001b[0m \u001b[0mG_\u001b[0m\u001b[0;34m,\u001b[0m \u001b[0mG_F_w_sig\u001b[0m \u001b[0;34m)\u001b[0m\u001b[0;34m,\u001b[0m  \u001b[0mC2\u001b[0m\u001b[0;34m)\u001b[0m\u001b[0;34m[\u001b[0m\u001b[0;36m1\u001b[0m\u001b[0;34m]\u001b[0m\u001b[0;34m\u001b[0m\u001b[0;34m\u001b[0m\u001b[0m\n\u001b[0m\u001b[1;32m      2\u001b[0m \u001b[0mC2_sig_solved\u001b[0m\u001b[0;34m\u001b[0m\u001b[0;34m\u001b[0m\u001b[0m\n",
      "\u001b[0;31mIndexError\u001b[0m: list index out of range"
     ]
    }
   ],
   "source": [
    "C2_sig_solved = sp.solve(sp.Eq( G_, G_F_w_sig ),  C2)[1]\n",
    "C2_sig_solved"
   ]
  },
  {
   "cell_type": "code",
   "execution_count": null,
   "metadata": {},
   "outputs": [],
   "source": [
    "sigma_w_Gf = sigma_w_C2.subs(C2, C2_sig_solved)\n",
    "sigma_w_Gf"
   ]
  },
  {
   "cell_type": "code",
   "execution_count": null,
   "metadata": {},
   "outputs": [],
   "source": [
    "w_argmax = sp.solve(sigma_w_Gf.diff(w), w)[0].args[0].args[0]\n",
    "w_argmax"
   ]
  },
  {
   "cell_type": "code",
   "execution_count": null,
   "metadata": {},
   "outputs": [],
   "source": [
    "sigma_max = sigma_w_Gf.subs(w, w_argmax)\n",
    "sigma_max"
   ]
  },
  {
   "cell_type": "code",
   "execution_count": null,
   "metadata": {},
   "outputs": [],
   "source": [
    "get_sigma_w_Gf = sp.lambdify((w, w_0, E_, G_), sigma_w_Gf)\n",
    "get_w_argmax = sp.lambdify((w_0, E_, G_), w_argmax)\n",
    "get_sigma_max = sp.lambdify((w_0, E_, G_), sigma_max)"
   ]
  },
  {
   "cell_type": "code",
   "execution_count": null,
   "metadata": {},
   "outputs": [],
   "source": [
    "_, ax = plt.subplots(1,1)\n",
    "ax2 = ax.twinx()\n",
    "w_range = np.linspace(0,200,100)\n",
    "w_0_value, E_value, G_value = 1.5, 1000, 400000\n",
    "ax.plot(w_range, get_sigma_w_Gf(w_range, w_0_value, E_value, G_value), label='f(u)')\n",
    "w_00 = get_w_argmax(w_0_value, E_value, G_value)\n",
    "sigma_00 = get_sigma_max(w_0_value, E_value, G_value)\n",
    "ax.plot([w_00], [sigma_00], marker='o', color='green')\n",
    "ax.plot([w_0_value], [get_sigma_w_Gf(w_0_value, w_0_value, E_value, G_value )], marker='o', color='red')\n",
    "#ax2.plot(w_range, get_omega_w_(w_range, w_0_value, E_value,G_value), color='red');\n",
    "ax.legend();"
   ]
  },
  {
   "cell_type": "markdown",
   "metadata": {},
   "source": [
    "# Isolating damage energy dissipation"
   ]
  },
  {
   "cell_type": "code",
   "execution_count": 375,
   "metadata": {},
   "outputs": [],
   "source": [
    "from sympy import Function, dsolve, Eq, Derivative, symbols\n",
    "u_p = sp.symbols(r'u_p')\n",
    "Y = sp.symbols(r'Y')\n",
    "sigma = sp.symbols(r'\\sigma')\n",
    "lambda_ = sp.symbols(r'\\lambda', nonnegative=True)\n",
    "sigma_eff = sp.symbols(r'\\sigma_\\mathrm{eff}')\n",
    "bar_sigma = sp.symbols(r'\\bar{\\sigma}')\n",
    "#f_0 = sp.symbols(r'f_0', positive=True)\n",
    "omega_u = Function('omega')\n",
    "omega_ = sp.symbols(r'omega', positive=True)\n",
    "#S_ = sp.symbols(r'S', positive=True)\n",
    "c_ = sp.symbols(r'c', positive=True)"
   ]
  },
  {
   "cell_type": "code",
   "execution_count": 376,
   "metadata": {},
   "outputs": [
    {
     "data": {
      "image/png": "[encoded data removed]",
      "text/latex": [
       "$\\displaystyle - \\frac{E \\left(\\omega - 1\\right) \\left(u - u_{p}\\right)^{2}}{2}$"
      ],
      "text/plain": [
       "                   2 \n",
       "-E⋅(ω - 1)⋅(u - uₚ)  \n",
       "─────────────────────\n",
       "          2          "
      ]
     },
     "execution_count": 376,
     "metadata": {},
     "output_type": "execute_result"
    }
   ],
   "source": [
    "psi_rho = sp.simplify(sp.Rational(1,2) * (1 - omega_) * E_ * (u - u_p)**2)\n",
    "psi_rho"
   ]
  },
  {
   "cell_type": "code",
   "execution_count": 377,
   "metadata": {},
   "outputs": [
    {
     "data": {
      "image/png": "[encoded data removed]",
      "text/latex": [
       "$\\displaystyle - E \\left(\\omega - 1\\right) \\left(u - u_{p}\\right)$"
      ],
      "text/plain": [
       "-E⋅(ω - 1)⋅(u - uₚ)"
      ]
     },
     "execution_count": 377,
     "metadata": {},
     "output_type": "execute_result"
    }
   ],
   "source": [
    "sigma_ = sp.simplify(psi_rho.diff(u))\n",
    "sigma_p_ = sigma_\n",
    "sigma_"
   ]
  },
  {
   "cell_type": "code",
   "execution_count": 378,
   "metadata": {},
   "outputs": [
    {
     "data": {
      "image/png": "[encoded data removed]",
      "text/latex": [
       "$\\displaystyle - \\frac{\\sigma}{\\omega - 1}$"
      ],
      "text/plain": [
       "-\\sigma \n",
       "────────\n",
       " ω - 1  "
      ]
     },
     "execution_count": 378,
     "metadata": {},
     "output_type": "execute_result"
    }
   ],
   "source": [
    "sigma_eff_ = sp.simplify(sigma / (1 - omega_))\n",
    "sigma_eff_"
   ]
  },
  {
   "cell_type": "code",
   "execution_count": 379,
   "metadata": {},
   "outputs": [
    {
     "data": {
      "image/png": "[encoded data removed]",
      "text/latex": [
       "$\\displaystyle \\frac{E \\left(u - u_{p}\\right)^{2}}{2}$"
      ],
      "text/plain": [
       "          2\n",
       "E⋅(u - uₚ) \n",
       "───────────\n",
       "     2     "
      ]
     },
     "execution_count": 379,
     "metadata": {},
     "output_type": "execute_result"
    }
   ],
   "source": [
    "Y_ = -sp.simplify(psi_rho.diff(omega_))\n",
    "Y_"
   ]
  },
  {
   "cell_type": "code",
   "execution_count": 380,
   "metadata": {},
   "outputs": [
    {
     "data": {
      "image/png": "[encoded data removed]",
      "text/latex": [
       "$\\displaystyle - \\bar{\\sigma} + \\sqrt{\\sigma_\\mathrm{eff}^{2}}$"
      ],
      "text/plain": [
       "                   ______________________\n",
       "                  ╱                    2 \n",
       "-\\bar{\\sigma} + ╲╱  \\sigma_\\mathrm{eff}  "
      ]
     },
     "execution_count": 380,
     "metadata": {},
     "output_type": "execute_result"
    }
   ],
   "source": [
    "f_ = sp.sqrt(sigma_eff**2) - bar_sigma\n",
    "#f_ = sp.Abs(sigma_eff) - bar_sigma\n",
    "f_"
   ]
  },
  {
   "cell_type": "code",
   "execution_count": 381,
   "metadata": {},
   "outputs": [
    {
     "data": {
      "image/png": "[encoded data removed]",
      "text/latex": [
       "$\\displaystyle C_{2} Y^{2} \\left(\\frac{1}{2} - \\frac{\\omega}{2}\\right) - \\bar{\\sigma} + \\sqrt{\\sigma_\\mathrm{eff}^{2}}$"
      ],
      "text/plain": [
       "                                  ______________________\n",
       "    2 ⎛1   ω⎞                    ╱                    2 \n",
       "C₂⋅Y ⋅⎜─ - ─⎟ - \\bar{\\sigma} + ╲╱  \\sigma_\\mathrm{eff}  \n",
       "      ⎝2   2⎠                                           "
      ]
     },
     "execution_count": 381,
     "metadata": {},
     "output_type": "execute_result"
    }
   ],
   "source": [
    "phi_ = f_ + sp.Rational(1,2) * (1 - omega_) * C2 * Y**2\n",
    "phi_"
   ]
  },
  {
   "cell_type": "code",
   "execution_count": 382,
   "metadata": {},
   "outputs": [
    {
     "data": {
      "image/png": "[encoded data removed]",
      "text/latex": [
       "$\\displaystyle C_{2} Y \\lambda \\left(1 - \\omega\\right)$"
      ],
      "text/plain": [
       "C₂⋅Y⋅\\lambda⋅(1 - ω)"
      ]
     },
     "execution_count": 382,
     "metadata": {},
     "output_type": "execute_result"
    }
   ],
   "source": [
    "dot_omega_= lambda_ * sp.simplify(phi_.diff(Y))\n",
    "dot_omega_"
   ]
  },
  {
   "cell_type": "code",
   "execution_count": 383,
   "metadata": {},
   "outputs": [
    {
     "data": {
      "image/png": "[encoded data removed]",
      "text/latex": [
       "$\\displaystyle \\frac{\\lambda \\sqrt{\\sigma_\\mathrm{eff}^{2}}}{\\sigma_\\mathrm{eff} \\left(\\omega - 1\\right)}$"
      ],
      "text/plain": [
       "           ______________________\n",
       "          ╱                    2 \n",
       "\\lambda⋅╲╱  \\sigma_\\mathrm{eff}  \n",
       "─────────────────────────────────\n",
       "   \\sigma_\\mathrm{eff}⋅(ω - 1)   "
      ]
     },
     "execution_count": 383,
     "metadata": {},
     "output_type": "execute_result"
    }
   ],
   "source": [
    "dot_u_p_ = -lambda_ * sp.simplify(phi_.diff(sigma_eff)) * sigma_eff_.diff(sigma)\n",
    "sp.simplify(dot_u_p_)"
   ]
  },
  {
   "cell_type": "code",
   "execution_count": 384,
   "metadata": {},
   "outputs": [
    {
     "data": {
      "image/png": "[encoded data removed]",
      "text/latex": [
       "$\\displaystyle - \\bar{\\sigma} + \\sqrt{\\frac{\\sigma^{2}}{\\left(\\omega - 1\\right)^{2}}}$"
      ],
      "text/plain": [
       "                      __________\n",
       "                     ╱       2  \n",
       "                    ╱  \\sigma   \n",
       "-\\bar{\\sigma} +    ╱   ──────── \n",
       "                  ╱           2 \n",
       "                ╲╱     (ω - 1)  "
      ]
     },
     "execution_count": 384,
     "metadata": {},
     "output_type": "execute_result"
    }
   ],
   "source": [
    "f_Sig_ = f_.subs(sigma_eff, sigma_eff_)\n",
    "f_Sig_"
   ]
  },
  {
   "cell_type": "code",
   "execution_count": 385,
   "metadata": {},
   "outputs": [
    {
     "data": {
      "image/png": "[encoded data removed]",
      "text/latex": [
       "$\\displaystyle \\frac{\\sqrt{\\frac{\\sigma^{2}}{\\left(\\omega - 1\\right)^{2}}}}{\\sigma}$"
      ],
      "text/plain": [
       "      __________\n",
       "     ╱       2  \n",
       "    ╱  \\sigma   \n",
       "   ╱   ──────── \n",
       "  ╱           2 \n",
       "╲╱     (ω - 1)  \n",
       "────────────────\n",
       "     \\sigma     "
      ]
     },
     "execution_count": 385,
     "metadata": {},
     "output_type": "execute_result"
    }
   ],
   "source": [
    "dot_f_Sig_ = sp.simplify(f_Sig_.diff(sigma))\n",
    "dot_f_Sig_"
   ]
  },
  {
   "cell_type": "markdown",
   "metadata": {},
   "source": [
    "## Further steps\n",
    "\\begin{align}\n",
    " \\dot{f} = \\frac{\\partial f}{\\partial \\sigma} \\dot{\\sigma} = \n",
    " \\frac{\\partial f}{\\partial \\sigma_\\mathrm{eff}} \\frac{\\partial \\sigma_\\mathrm{eff}}{\\partial \\sigma} \\dot{\\sigma}\n",
    "\\end{align}"
   ]
  },
  {
   "cell_type": "markdown",
   "metadata": {},
   "source": [
    " * substitute the constitutive law and the evolution equation and solve\n",
    " for $\\lambda$\n",
    " * substituted $\\lambda$ into $\\dot{\\omega}$\n",
    " * evaluate energy dissipation $ Y \\dot{\\omega} $\n",
    " * integrate it for $u$\n",
    " * set the result equal to $G_\\mathrm{F}$ and resolve $C_2$ for it."
   ]
  },
  {
   "cell_type": "markdown",
   "metadata": {},
   "source": [
    "**Note:** this is probably not realistic to achieve. If the solution is not possible, provide a solver to obtain $C_2$ rendering a required $G_\\mathrm{F}$ numerically "
   ]
  },
  {
   "cell_type": "markdown",
   "metadata": {},
   "source": [
    "# Convert the damage function to a softening function"
   ]
  },
  {
   "cell_type": "code",
   "execution_count": 83,
   "metadata": {},
   "outputs": [
    {
     "data": {
      "image/png": "[encoded data removed]",
      "text/latex": [
       "$\\displaystyle - C_{1} f_{0} e^{- \\frac{C_{2} E w^{2}}{2}}$"
      ],
      "text/plain": [
       "               2 \n",
       "        -C₂⋅E⋅w  \n",
       "        ─────────\n",
       "            2    \n",
       "-C₁⋅f₀⋅ℯ         "
      ]
     },
     "execution_count": 83,
     "metadata": {},
     "output_type": "execute_result"
    }
   ],
   "source": [
    "f_w = f_0 * (1 - omega_u.subs(u,w))\n",
    "f_w"
   ]
  },
  {
   "cell_type": "code",
   "execution_count": 84,
   "metadata": {},
   "outputs": [
    {
     "data": {
      "image/png": "[encoded data removed]",
      "text/latex": [
       "$\\displaystyle -1$"
      ],
      "text/plain": [
       "-1"
      ]
     },
     "execution_count": 84,
     "metadata": {},
     "output_type": "execute_result"
    }
   ],
   "source": [
    "C1_solved = sp.solve(sp.Eq(f_w.subs(w,0), f_0), 'C1')[0]\n",
    "C1_solved"
   ]
  },
  {
   "cell_type": "code",
   "execution_count": 85,
   "metadata": {},
   "outputs": [
    {
     "data": {
      "image/png": "[encoded data removed]",
      "text/latex": [
       "$\\displaystyle f_{0} e^{- \\frac{C_{2} E w^{2}}{2}}$"
      ],
      "text/plain": [
       "           2 \n",
       "    -C₂⋅E⋅w  \n",
       "    ─────────\n",
       "        2    \n",
       "f₀⋅ℯ         "
      ]
     },
     "execution_count": 85,
     "metadata": {},
     "output_type": "execute_result"
    }
   ],
   "source": [
    "f_w_C2 = f_w.subs('C1', C1_solved)\n",
    "f_w_C2"
   ]
  },
  {
   "cell_type": "code",
   "execution_count": 86,
   "metadata": {},
   "outputs": [
    {
     "data": {
      "image/png": "[encoded data removed]",
      "text/latex": [
       "$\\displaystyle \\frac{\\sqrt{2} \\sqrt{\\pi} f_{0}}{2 \\sqrt{C_{2}} \\sqrt{E}}$"
      ],
      "text/plain": [
       "  √2⋅√π⋅f₀ \n",
       "───────────\n",
       "    ____   \n",
       "2⋅╲╱ C₂ ⋅√E"
      ]
     },
     "execution_count": 86,
     "metadata": {},
     "output_type": "execute_result"
    }
   ],
   "source": [
    "int_f_w_C2 = sp.integrate(f_w_C2, (w,0,sp.oo))\n",
    "int_f_w_C2"
   ]
  },
  {
   "cell_type": "code",
   "execution_count": 87,
   "metadata": {},
   "outputs": [
    {
     "data": {
      "image/png": "[encoded data removed]",
      "text/latex": [
       "$\\displaystyle \\frac{\\pi f_{0}^{2}}{2 E G_{f}^{2}}$"
      ],
      "text/plain": [
       "     2  \n",
       " π⋅f₀   \n",
       "────────\n",
       "       2\n",
       "2⋅E⋅G_f "
      ]
     },
     "execution_count": 87,
     "metadata": {},
     "output_type": "execute_result"
    }
   ],
   "source": [
    "C2_solved = sp.solve(sp.Eq( G_, int_f_w_C2 ),  C2)[0]\n",
    "sp.simplify(C2_solved)"
   ]
  },
  {
   "cell_type": "code",
   "execution_count": 89,
   "metadata": {},
   "outputs": [
    {
     "data": {
      "image/png": "[encoded data removed]",
      "text/latex": [
       "$\\displaystyle f_{0} e^{- \\frac{\\pi f_{0}^{2} w^{2}}{4 G_{f}^{2}}}$"
      ],
      "text/plain": [
       "         2  2 \n",
       "    -π⋅f₀ ⋅w  \n",
       "    ──────────\n",
       "           2  \n",
       "      4⋅G_f   \n",
       "f₀⋅ℯ          "
      ]
     },
     "execution_count": 89,
     "metadata": {},
     "output_type": "execute_result"
    }
   ],
   "source": [
    "f_w_solved = f_w_C2.subs(C2, C2_solved)\n",
    "f_w_solved"
   ]
  },
  {
   "cell_type": "code",
   "execution_count": 90,
   "metadata": {},
   "outputs": [],
   "source": [
    "#get_omega_u = sp.lambdify((u, f_0, G_), omega_u_solved)\n",
    "get_f_w = sp.lambdify((w, f_0, G_), f_w_solved)"
   ]
  },
  {
   "cell_type": "code",
   "execution_count": 91,
   "metadata": {},
   "outputs": [
    {
     "data": {
      "application/vnd.jupyter.widget-view+json": {
       "model_id": "699507bd77ef48f7824a37625c46a1e5",
       "version_major": 2,
       "version_minor": 0
      },
      "text/plain": [
       "Canvas(toolbar=Toolbar(toolitems=[('Home', 'Reset original view', 'home', 'home'), ('Back', 'Back to previous …"
      ]
     },
     "metadata": {},
     "output_type": "display_data"
    },
    {
     "data": {
      "text/plain": [
       "<matplotlib.legend.Legend at 0x7fe8d0cca4f0>"
      ]
     },
     "execution_count": 91,
     "metadata": {},
     "output_type": "execute_result"
    }
   ],
   "source": [
    "_, ax = plt.subplots(1,1)\n",
    "ax2 = ax.twinx()\n",
    "w_range = np.linspace(0,10,100)\n",
    "ax.plot(w_range, get_f_w(w_range,1,2), label='f(u)')\n",
    "#ax2.plot(u_range, get_omega_u(u_range,1,10), color='red');\n",
    "ax.legend()"
   ]
  },
  {
   "cell_type": "code",
   "execution_count": 92,
   "metadata": {},
   "outputs": [
    {
     "data": {
      "image/png": "[encoded data removed]",
      "text/latex": [
       "$\\displaystyle \\frac{\\pi f_{0}^{2} u \\left(1 - \\omega{\\left(u \\right)}\\right)}{2 G_{f}^{2}}$"
      ],
      "text/plain": [
       "    2             \n",
       "π⋅f₀ ⋅u⋅(1 - ω(u))\n",
       "──────────────────\n",
       "           2      \n",
       "      2⋅G_f       "
      ]
     },
     "execution_count": 92,
     "metadata": {},
     "output_type": "execute_result"
    }
   ],
   "source": [
    "dot_omega_u.subs(C2, C2_solved)"
   ]
  },
  {
   "cell_type": "code",
   "execution_count": null,
   "metadata": {},
   "outputs": [],
   "source": []
  }
 ],
 "metadata": {
  "kernelspec": {
   "display_name": "bmcs_env",
   "language": "python",
   "name": "bmcs_env"
  },
  "language_info": {
   "codemirror_mode": {
    "name": "ipython",
    "version": 3
   },
   "file_extension": ".py",
   "mimetype": "text/x-python",
   "name": "python",
   "nbconvert_exporter": "python",
   "pygments_lexer": "ipython3",
   "version": "3.9.1"
  }
 },
 "nbformat": 4,
 "nbformat_minor": 4
}
