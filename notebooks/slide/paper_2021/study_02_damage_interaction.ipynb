{
 "cells": [
  {
   "cell_type": "markdown",
   "id": "matched-covering",
   "metadata": {},
   "source": [
    "# Study_02: Damage interaction"
   ]
  },
  {
   "cell_type": "code",
   "execution_count": 1,
   "id": "public-slide",
   "metadata": {},
   "outputs": [],
   "source": [
    "%matplotlib widget"
   ]
  },
  {
   "cell_type": "code",
   "execution_count": 2,
   "id": "absent-polyester",
   "metadata": {},
   "outputs": [],
   "source": [
    "import bmcs_utils"
   ]
  },
  {
   "cell_type": "code",
   "execution_count": 3,
   "id": "pleased-optics",
   "metadata": {},
   "outputs": [],
   "source": [
    "from bmcs_matmod.slide.slide_explorer import SlideExplorer\n",
    "import bmcs_utils.api as bu"
   ]
  },
  {
   "cell_type": "markdown",
   "id": "resistant-genesis",
   "metadata": {},
   "source": [
    "### Case 1: symetric behavior for both decohesion and sliding"
   ]
  },
  {
   "cell_type": "code",
   "execution_count": 4,
   "id": "instrumental-equality",
   "metadata": {},
   "outputs": [],
   "source": [
    "%%capture\n",
    "import numpy as np\n",
    "material_params = dict(\n",
    "    E_T=1, gamma_T=0, K_T=0, S_T=20, c_T=1, bartau=3, \n",
    "    E_N=1, S_N=20, c_N = 1, m = 0.001, f_t=3, f_c=20, f_c0=10, eta=0.5)\n",
    "\n",
    "eta_range = np.linspace(0,1,5)\n",
    "se_N_list = []\n",
    "se_T_list = []\n",
    "\n",
    "for eta in eta_range:\n",
    "    material_params['eta'] = eta\n",
    "    \n",
    "    se1 = SlideExplorer(n_steps=300, k_max=50)\n",
    "    se1.slide_model.trait_set(**material_params)\n",
    "    se1.trait_set(s_x_1 = 0, s_y_1 = 0, w_1 = 30);\n",
    "    se1.run()\n",
    "    se_N_list.append(se1)\n",
    "    \n",
    "    \n",
    "    se2 = SlideExplorer(n_steps=300, k_max=50)\n",
    "    se2.slide_model.trait_set(**material_params)\n",
    "    se2.trait_set(s_x_1 = 30, s_y_1 = 0, w_1 = 0);\n",
    "    se2.run()\n",
    "    se_T_list.append(se2)\n",
    "    \n",
    "    "
   ]
  },
  {
   "cell_type": "code",
   "execution_count": 5,
   "id": "empirical-recommendation",
   "metadata": {},
   "outputs": [
    {
     "data": {
      "application/vnd.jupyter.widget-view+json": {
       "model_id": "ac8f59c8364b4d1785a877f67dd9a32b",
       "version_major": 2,
       "version_minor": 0
      },
      "text/plain": [
       "Canvas(toolbar=Toolbar(toolitems=[('Home', 'Reset original view', 'home', 'home'), ('Back', 'Back to previous …"
      ]
     },
     "metadata": {},
     "output_type": "display_data"
    }
   ],
   "source": [
    "import matplotlib.pylab as plt\n",
    "fig, (ax_N,  ax_T) = plt.subplots(1,2, tight_layout=True, figsize=(8,4))\n",
    "fig.canvas.header_visible=False\n",
    "\n",
    "for se_N, se_T in zip(se_N_list, se_T_list):\n",
    "    tau_x_pi_1, tau_y_pi_1, sig_pi_1, Z_1, X_x_1, X_y_1, Y_T_1, Y_N_1 = se_N.Sig_arr.T\n",
    "    tau_x_pi_2, tau_y_pi_2, sig_pi_2, Z_2, X_x_2, X_y_2, Y_T_2, Y_N_2 = se_T.Sig_arr.T\n",
    "    \n",
    "    \n",
    "    n_step_1 = len(tau_x_pi_1)\n",
    "    n_step_2 = len(tau_x_pi_2)\n",
    "    \n",
    "    w_1 = np.linspace(0, se1.w_1, n_step_1)\n",
    "    s_x_2 = np.linspace(0, se2.s_x_1, n_step_2)\n",
    "    \n",
    "    #print(w_1)\n",
    "    \n",
    "    \n",
    "    idx_1= np.argwhere(w_1 == 5.0)\n",
    "    idx_2= np.argwhere(w_1 == 10.0)\n",
    "    idx_3= np.argwhere(w_1 == 15.0)\n",
    "    idx_4= np.argwhere(w_1 == 20.0)\n",
    "    idx_5= np.argwhere(w_1 == 25.0)\n",
    "    idx_6= np.argwhere(w_1 == 30.0)\n",
    "    \n",
    "    ax_N.plot(w_1, sig_pi_1)\n",
    "    ax_N.scatter(np.array([w_1[idx_1], w_1[idx_2],  w_1[idx_3],  w_1[idx_4],  w_1[idx_5],   w_1[idx_6]]),\n",
    "                 np.array([sig_pi_1[idx_1],  sig_pi_1[idx_2], sig_pi_1[idx_3], sig_pi_1[idx_4], sig_pi_1[idx_5], sig_pi_1[idx_6] ]),\n",
    "                 color=\"black\")\n",
    "    ax_T.scatter(np.array([s_x_2[idx_1], s_x_2[idx_2],  s_x_2[idx_3],  s_x_2[idx_4],  s_x_2[idx_5],  s_x_2[idx_6]]),\n",
    "                 np.array([tau_x_pi_2[idx_1],  tau_x_pi_2[idx_2], tau_x_pi_2[idx_3], tau_x_pi_2[idx_4], tau_x_pi_2[idx_5], tau_x_pi_2[idx_6]  ]),\n",
    "                 color=\"black\")\n",
    "    ax_N.set_xlabel('$w$')\n",
    "    ax_N.set_ylabel('$\\sigma_N$')\n",
    "    \n",
    "    ax_T.plot(s_x_2, tau_x_pi_2)\n",
    "    ax_T.set_xlabel('$s_x$')\n",
    "    ax_T.set_ylabel('$\\sigma_T$')\n",
    "    \n",
    " \n",
    "#fig.savefig('Study_02_stress_NT_symetric.pdf')"
   ]
  },
  {
   "cell_type": "code",
   "execution_count": 6,
   "id": "local-community",
   "metadata": {},
   "outputs": [
    {
     "data": {
      "application/vnd.jupyter.widget-view+json": {
       "model_id": "07b86800af8648ff9c82f4d2067dec08",
       "version_major": 2,
       "version_minor": 0
      },
      "text/plain": [
       "Canvas(toolbar=Toolbar(toolitems=[('Home', 'Reset original view', 'home', 'home'), ('Back', 'Back to previous …"
      ]
     },
     "metadata": {},
     "output_type": "display_data"
    }
   ],
   "source": [
    "import matplotlib.pylab as plt\n",
    "fig, (ax_N_2,  ax_T_2) = plt.subplots(1,2, tight_layout=True, figsize=(8,4))\n",
    "fig.canvas.header_visible=False\n",
    "\n",
    "ax_N_2.plot([0,1],[0,1],'--',color='black')\n",
    "ax_T_2.plot([0,1],[0,1],'--',color='black')\n",
    "\n",
    "\n",
    "for se_N, se_T in zip(se_N_list, se_T_list):\n",
    "    s_x_pi_1, s_y_pi_1, w_pi_1, z_1, alpha_x_1, alpha_y_1, omega_T_1, omega_N_1 = se_N.Eps_arr.T\n",
    "    s_x_pi_2, s_y_pi_2, w_pi_2, z_2, alpha_x_2, alpha_y_2, omega_T_2, omega_N_2 = se_T.Eps_arr.T\n",
    "   \n",
    "    \n",
    "    se_N.inel_state_evolution.plot_omega_NT(ax_N_2)\n",
    "    se_T.inel_state_evolution.plot_omega_NT(ax_T_2)\n",
    "    \n",
    "    \n",
    "    ax_N_2.scatter(np.array([omega_N_1[idx_1], omega_N_1[idx_2],  omega_N_1[idx_3],  omega_N_1[idx_4],  omega_N_1[idx_5],  omega_N_1[idx_6]]),\n",
    "                 np.array([omega_T_1[idx_1],  omega_T_1[idx_2], omega_T_1[idx_3], omega_T_1[idx_4], omega_T_1[idx_5], omega_T_1[idx_6] ]),\n",
    "                 color=\"black\")\n",
    "    ax_T_2.scatter(np.array([omega_N_2[idx_1], omega_N_2[idx_2],  omega_N_2[idx_3],  omega_N_2[idx_4],  omega_N_2[idx_5],  omega_N_2[idx_6]]),\n",
    "                 np.array([omega_T_2[idx_1],  omega_T_2[idx_2], omega_T_2[idx_3], omega_T_2[idx_4], omega_T_2[idx_5], omega_T_2[idx_6]  ]),\n",
    "                 color=\"black\")\n",
    "    \n",
    "    \n",
    "    \n",
    "    \n",
    "#fig.savefig('Study_02_damage_NT_symetric.pdf')    "
   ]
  },
  {
   "cell_type": "code",
   "execution_count": null,
   "id": "supreme-poland",
   "metadata": {},
   "outputs": [],
   "source": []
  },
  {
   "cell_type": "markdown",
   "id": "covered-national",
   "metadata": {},
   "source": [
    "### Case 2: unsymetric behavior for decohesion and sliding"
   ]
  },
  {
   "cell_type": "code",
   "execution_count": 7,
   "id": "brilliant-diagnosis",
   "metadata": {},
   "outputs": [],
   "source": [
    "%%capture\n",
    "import numpy as np\n",
    "material_params = dict(\n",
    "    E_T=1, gamma_T=0, K_T=0, S_T=200, c_T=1, bartau=3, \n",
    "    E_N=1, S_N=20, c_N = 1, m = 0.001, f_t=3, f_c=20, f_c0=10, eta=0.5)\n",
    "\n",
    "eta_range = np.linspace(0,1,5)\n",
    "se_N_list = []\n",
    "se_T_list = []\n",
    "\n",
    "for eta in eta_range:\n",
    "    material_params['eta'] = eta\n",
    "    \n",
    "    se1 = SlideExplorer(n_steps=300, k_max=50)\n",
    "    se1.slide_model.trait_set(**material_params)\n",
    "    se1.trait_set(s_x_1 = 0, s_y_1 = 0, w_1 = 30);\n",
    "    se1.run()\n",
    "    se_N_list.append(se1)\n",
    "    \n",
    "    \n",
    "    se2 = SlideExplorer(n_steps=300, k_max=50)\n",
    "    se2.slide_model.trait_set(**material_params)\n",
    "    se2.trait_set(s_x_1 = 30, s_y_1 = 0, w_1 = 0);\n",
    "    se2.run()\n",
    "    se_T_list.append(se2)\n",
    "    \n",
    "    "
   ]
  },
  {
   "cell_type": "code",
   "execution_count": 8,
   "id": "extensive-haven",
   "metadata": {},
   "outputs": [
    {
     "data": {
      "application/vnd.jupyter.widget-view+json": {
       "model_id": "10adcac21f30485ea73a1db268128532",
       "version_major": 2,
       "version_minor": 0
      },
      "text/plain": [
       "Canvas(toolbar=Toolbar(toolitems=[('Home', 'Reset original view', 'home', 'home'), ('Back', 'Back to previous …"
      ]
     },
     "metadata": {},
     "output_type": "display_data"
    }
   ],
   "source": [
    "import matplotlib.pylab as plt\n",
    "fig, (ax_N,  ax_T) = plt.subplots(1,2, tight_layout=True, figsize=(8,4))\n",
    "fig.canvas.header_visible=False\n",
    "\n",
    "for se_N, se_T in zip(se_N_list, se_T_list):\n",
    "    tau_x_pi_1, tau_y_pi_1, sig_pi_1, Z_1, X_x_1, X_y_1, Y_T_1, Y_N_1 = se_N.Sig_arr.T\n",
    "    tau_x_pi_2, tau_y_pi_2, sig_pi_2, Z_2, X_x_2, X_y_2, Y_T_2, Y_N_2 = se_T.Sig_arr.T\n",
    "    \n",
    "    \n",
    "    n_step_1 = len(tau_x_pi_1)\n",
    "    n_step_2 = len(tau_x_pi_2)\n",
    "    \n",
    "    w_1 = np.linspace(0, se1.w_1, n_step_1)\n",
    "    s_x_2 = np.linspace(0, se2.s_x_1, n_step_2)\n",
    "    \n",
    "    \n",
    "    idx_1= np.argwhere(w_1 == 5.0)\n",
    "    idx_2= np.argwhere(w_1 == 10.0)\n",
    "    idx_3= np.argwhere(w_1 == 15.0)\n",
    "    idx_4= np.argwhere(w_1 == 20.0)\n",
    "    idx_5= np.argwhere(w_1 == 25.0)\n",
    "    idx_6= np.argwhere(w_1 == 30.0)\n",
    "    \n",
    "    ax_N.plot(w_1, sig_pi_1)\n",
    "    ax_N.scatter(np.array([w_1[idx_1], w_1[idx_2],  w_1[idx_3],  w_1[idx_4],  w_1[idx_5],  w_1[idx_6]]),\n",
    "                 np.array([sig_pi_1[idx_1],  sig_pi_1[idx_2], sig_pi_1[idx_3], sig_pi_1[idx_4], sig_pi_1[idx_5], sig_pi_1[idx_6] ]),\n",
    "                 color=\"black\")\n",
    "    ax_T.scatter(np.array([s_x_2[idx_1], s_x_2[idx_2],  s_x_2[idx_3],  s_x_2[idx_4],  s_x_2[idx_5],  s_x_2[idx_6]]),\n",
    "                 np.array([tau_x_pi_2[idx_1],  tau_x_pi_2[idx_2], tau_x_pi_2[idx_3], tau_x_pi_2[idx_4], tau_x_pi_2[idx_5], tau_x_pi_2[idx_6]  ]),\n",
    "                 color=\"black\")\n",
    "    ax_N.set_xlabel('$w$')\n",
    "    ax_N.set_ylabel('$\\sigma_N$')\n",
    "    \n",
    "    ax_T.plot(s_x_2, tau_x_pi_2)\n",
    "    ax_T.set_xlabel('$s_x$')\n",
    "    ax_T.set_ylabel('$\\sigma_T$')\n",
    "    \n",
    "      \n",
    "#fig.savefig('Study_02_stress_NT_unsymetric.pdf')    "
   ]
  },
  {
   "cell_type": "code",
   "execution_count": 9,
   "id": "photographic-medicaid",
   "metadata": {},
   "outputs": [
    {
     "data": {
      "application/vnd.jupyter.widget-view+json": {
       "model_id": "9267131f1fd74dcfb4b1b30af2ef9895",
       "version_major": 2,
       "version_minor": 0
      },
      "text/plain": [
       "Canvas(toolbar=Toolbar(toolitems=[('Home', 'Reset original view', 'home', 'home'), ('Back', 'Back to previous …"
      ]
     },
     "metadata": {},
     "output_type": "display_data"
    }
   ],
   "source": [
    "import matplotlib.pylab as plt\n",
    "fig, (ax_N_2,  ax_T_2) = plt.subplots(1,2, tight_layout=True, figsize=(8,4))\n",
    "fig.canvas.header_visible=False\n",
    "\n",
    "ax_N_2.plot([0,1],[0,1],'--',color='black')\n",
    "ax_T_2.plot([0,1],[0,1],'--',color='black')\n",
    "\n",
    "\n",
    "for se_N, se_T in zip(se_N_list, se_T_list):\n",
    "    s_x_pi_1, s_y_pi_1, w_pi_1, z_1, alpha_x_1, alpha_y_1, omega_T_1, omega_N_1 = se_N.Eps_arr.T\n",
    "    s_x_pi_2, s_y_pi_2, w_pi_2, z_2, alpha_x_2, alpha_y_2, omega_T_2, omega_N_2 = se_T.Eps_arr.T\n",
    "   \n",
    "    \n",
    "    se_N.inel_state_evolution.plot_omega_NT(ax_N_2)\n",
    "    se_T.inel_state_evolution.plot_omega_NT(ax_T_2)\n",
    "    \n",
    "    \n",
    "    ax_N_2.scatter(np.array([omega_N_1[idx_1], omega_N_1[idx_2],  omega_N_1[idx_3],\n",
    "                             omega_N_1[idx_4],  omega_N_1[idx_5],  omega_N_1[idx_6]]),\n",
    "                 np.array([omega_T_1[idx_1],  omega_T_1[idx_2], omega_T_1[idx_3],\n",
    "                           omega_T_1[idx_4], omega_T_1[idx_5], omega_T_1[idx_6] ]),\n",
    "                 color=\"black\")\n",
    "    ax_T_2.scatter(np.array([omega_N_2[idx_1], omega_N_2[idx_2],  omega_N_2[idx_3],\n",
    "                             omega_N_2[idx_4],  omega_N_2[idx_5],  omega_N_2[idx_6]]),\n",
    "                 np.array([omega_T_2[idx_1],  omega_T_2[idx_2], omega_T_2[idx_3],\n",
    "                           omega_T_2[idx_4], omega_T_2[idx_5], omega_T_2[idx_6]  ]),\n",
    "                 color=\"black\")\n",
    "    \n",
    "    \n",
    "#fig.savefig('Study_02_damage_NT_unsymetric.pdf')      "
   ]
  },
  {
   "cell_type": "code",
   "execution_count": null,
   "id": "catholic-church",
   "metadata": {},
   "outputs": [],
   "source": []
  },
  {
   "cell_type": "code",
   "execution_count": null,
   "id": "liberal-alliance",
   "metadata": {},
   "outputs": [],
   "source": []
  }
 ],
 "metadata": {
  "kernelspec": {
   "display_name": "bmcs_env",
   "language": "python",
   "name": "bmcs_env"
  },
  "language_info": {
   "codemirror_mode": {
    "name": "ipython",
    "version": 3
   },
   "file_extension": ".py",
   "mimetype": "text/x-python",
   "name": "python",
   "nbconvert_exporter": "python",
   "pygments_lexer": "ipython3",
   "version": "3.9.4"
  }
 },
 "nbformat": 4,
 "nbformat_minor": 5
}
