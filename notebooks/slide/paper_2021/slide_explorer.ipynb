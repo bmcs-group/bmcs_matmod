{
 "cells": [
  {
   "cell_type": "markdown",
   "metadata": {},
   "source": [
    "# Demo notebook for slide 3.3"
   ]
  },
  {
   "cell_type": "code",
   "execution_count": 1,
   "metadata": {},
   "outputs": [],
   "source": [
    "%matplotlib widget"
   ]
  },
  {
   "cell_type": "code",
   "execution_count": 2,
   "metadata": {},
   "outputs": [],
   "source": [
    "import bmcs_utils"
   ]
  },
  {
   "cell_type": "code",
   "execution_count": 3,
   "metadata": {},
   "outputs": [],
   "source": [
    "from bmcs_matmod.slide.slide_explorer import SlideExplorer\n",
    "import bmcs_utils.api as bu"
   ]
  },
  {
   "cell_type": "code",
   "execution_count": 4,
   "metadata": {},
   "outputs": [],
   "source": [
    "se = SlideExplorer()"
   ]
  },
  {
   "cell_type": "code",
   "execution_count": 5,
   "metadata": {},
   "outputs": [
    {
     "name": "stdout",
     "output_type": "stream",
     "text": [
      "generated code_file /home/rch/sympy_codegen/SLIDE33_3D\n"
     ]
    }
   ],
   "source": [
    "sm = se.slide_model.C_codegen()"
   ]
  },
  {
   "cell_type": "markdown",
   "metadata": {},
   "source": [
    "Parameters for elementary convergence studies - no physical relevance"
   ]
  },
  {
   "cell_type": "markdown",
   "metadata": {},
   "source": [
    "Parameters rendering a stress-strain response comparable with a `MARS` model - example concrete"
   ]
  },
  {
   "cell_type": "markdown",
   "metadata": {},
   "source": [
    "# Debugging LDM implementation"
   ]
  },
  {
   "cell_type": "code",
   "execution_count": 30,
   "metadata": {},
   "outputs": [],
   "source": [
    "material_params = dict(\n",
    "    E_T=1, gamma_T=1, K_T=1, S_T=5, c_T=1, bartau=3, \n",
    "    E_N=1, S_N=5, c_N = 1, m = 0.01, f_t=3, f_c=20, f_c0=10, eta=1\n",
    ")"
   ]
  },
  {
   "cell_type": "markdown",
   "metadata": {},
   "source": [
    "Critical step size - step smaller than the elastic range in tension."
   ]
  },
  {
   "cell_type": "code",
   "execution_count": 31,
   "metadata": {
    "scrolled": false
   },
   "outputs": [],
   "source": [
    "#%%capture\n",
    "se = SlideExplorer(n_steps=200, k_max=50)\n",
    "se.slide_model.trait_set(**material_params)\n",
    "# se.trait_set(s_x_1 = 5, s_y_1 = 0.1, w_1 = 0);\n",
    "# se.run()\n",
    "# se.trait_set(s_x_1 = 2, s_y_1 = 1, w_1 = 0);\n",
    "# se.run()\n",
    "se.trait_set(s_x_1 = 10, s_y_1 = 0, w_1 = 10);\n",
    "se.run()"
   ]
  },
  {
   "cell_type": "code",
   "execution_count": 32,
   "metadata": {},
   "outputs": [
    {
     "data": {
      "application/vnd.jupyter.widget-view+json": {
       "model_id": "860bb29858cc4df29f4b5808987a6d88",
       "version_major": 2,
       "version_minor": 0
      },
      "text/plain": [
       "VBox(children=(Output(), Tab(children=(VBox(children=(GridBox(children=(SelectionSlider(continuous_update=Fals…"
      ]
     },
     "metadata": {},
     "output_type": "display_data"
    }
   ],
   "source": [
    "se.energy_dissipation.show_iter = False\n",
    "se.inel_state_evolution.t_max=3.0\n",
    "bu.InteractiveWindow([se.inel_state_evolution, se, se.energy_dissipation, \n",
    "                      se.slide_model], figsize=(9,4), tight_layout=False).interact()"
   ]
  },
  {
   "cell_type": "code",
   "execution_count": 15,
   "metadata": {},
   "outputs": [],
   "source": [
    "%%capture\n",
    "import numpy as np\n",
    "material_params = dict(\n",
    "    E_s=1, gamma_s=1, K_s=1, S_s=0.1, c_s=1, bartau=3, \n",
    "    E_w=1, S_w=0.5, c_w = 1, m = 1e-9, f_t=3, f_c=20, f_c0=10, eta=1\n",
    ")\n",
    "material_params = dict(\n",
    "    E_s=1, gamma_s=0, K_s=1, S_s=5, c_s=1, bartau=3, \n",
    "    E_w=1, S_w=5, c_w=1, m = 0.2, f_t=3, f_c=20, f_c0=10, eta=1\n",
    ")\n",
    "eta_range = np.linspace(0,1,5)\n",
    "se_T_list = []\n",
    "se_N_list = []\n",
    "#for m in [1e-9, 0.05]:\n",
    "for eta in [0,1]: #eta_range:\n",
    "    material_params['eta'] = eta\n",
    "    se1 = SlideExplorer(n_steps=100, k_max=50)\n",
    "    se1.slide_model.trait_set(**material_params)\n",
    "#     se1.trait_set(s_x_1 = 0, s_y_1 = 0, w_1 = 0.8);\n",
    "#     se1.run()\n",
    "    se1.trait_set(s_x_1 = 20, s_y_1 = 0, w_1 = 0);\n",
    "    se1.run()\n",
    "    se_T_list.append(se1)\n",
    "    se2 = SlideExplorer(n_steps=200, k_max=50)\n",
    "    se2.slide_model.trait_set(**material_params)\n",
    "    se2.trait_set(s_x_1 = 0, s_y_1 = 0, w_1 = 20);\n",
    "    se2.run()\n",
    "    se_N_list.append(se2)"
   ]
  },
  {
   "cell_type": "code",
   "execution_count": 16,
   "metadata": {},
   "outputs": [
    {
     "data": {
      "application/vnd.jupyter.widget-view+json": {
       "model_id": "6c5fb98523424922b784901f57edb174",
       "version_major": 2,
       "version_minor": 0
      },
      "text/plain": [
       "Canvas(toolbar=Toolbar(toolitems=[('Home', 'Reset original view', 'home', 'home'), ('Back', 'Back to previous …"
      ]
     },
     "metadata": {},
     "output_type": "display_data"
    }
   ],
   "source": [
    "import matplotlib.pylab as plt\n",
    "_, (ax_T, ax_N) = plt.subplots(1,2)\n",
    "ax_T.plot([0,1],[0,1],'--',color='black')\n",
    "ax_N.plot([0,1],[0,1],'--',color='black')\n",
    "for se_T, se_N in zip(se_T_list, se_N_list):\n",
    "    s_x_pi_, s_y_pi_, w_pi_, z_, alpha_x_, alpha_y_, omega_T_, omega_N_ = se_N.Eps_arr.T\n",
    "    #ax_T.plot(omega_T_,omega_N_)\n",
    "    se_T.inel_state_evolution.plot_omega_NT(ax_T)\n",
    "    se_N.inel_state_evolution.plot_omega_NT(ax_N)"
   ]
  },
  {
   "cell_type": "code",
   "execution_count": 7,
   "metadata": {},
   "outputs": [
    {
     "data": {
      "application/vnd.jupyter.widget-view+json": {
       "model_id": "db87dbb45e3a49fb8b29dda85e6a1bbd",
       "version_major": 2,
       "version_minor": 0
      },
      "text/plain": [
       "VBox(children=(Output(), Tab(children=(VBox(children=(GridBox(children=(SelectionSlider(continuous_update=Fals…"
      ]
     },
     "metadata": {},
     "output_type": "display_data"
    }
   ],
   "source": [
    "se_T_list[0].inel_state_evolution.interact()"
   ]
  },
  {
   "cell_type": "code",
   "execution_count": 15,
   "metadata": {},
   "outputs": [],
   "source": [
    "import sympy as sp\n",
    "S_N, S_T, eta = sp.symbols('S_N, S_T, eta')\n",
    "Y_N, Y_T = sp.symbols('Y_N, Y_T')\n",
    "omega_N, omega_T = sp.symbols('omega_N, omega_T')\n",
    "c_N, c_T = sp.symbols('c_N, c_T')\n",
    "\n",
    "phi_N_ext = ( # (1-omega_N)**c_N * (\n",
    "    (Y_N**2 + eta * (Y_T * Y_N)) /\n",
    "    (2*(S_N - eta * (S_N - sp.sqrt(S_N * S_T))))\n",
    ")\n",
    "phi_T_ext = ( # (1-omega_T)**c_T * (\n",
    "    (Y_T**2 + eta * (Y_T * Y_N)) /\n",
    "    (2*(S_T - eta * (S_T - sp.sqrt(S_N * S_T))))\n",
    ")\n",
    "phi_ext = phi_N_ext + phi_T_ext"
   ]
  },
  {
   "cell_type": "code",
   "execution_count": 16,
   "metadata": {},
   "outputs": [
    {
     "data": {
      "text/latex": [
       "$\\displaystyle \\frac{Y_{N} + Y_{T}}{\\sqrt{S_{N} S_{T}}}$"
      ],
      "text/plain": [
       "(Y_N + Y_T)/sqrt(S_N*S_T)"
      ]
     },
     "execution_count": 16,
     "metadata": {},
     "output_type": "execute_result"
    }
   ],
   "source": [
    "sp.simplify(phi_ext.diff(Y_N).subs(eta,1))"
   ]
  },
  {
   "cell_type": "code",
   "execution_count": 17,
   "metadata": {},
   "outputs": [
    {
     "data": {
      "text/latex": [
       "$\\displaystyle \\frac{Y_{N} + Y_{T}}{\\sqrt{S_{N} S_{T}}}$"
      ],
      "text/plain": [
       "(Y_N + Y_T)/sqrt(S_N*S_T)"
      ]
     },
     "execution_count": 17,
     "metadata": {},
     "output_type": "execute_result"
    }
   ],
   "source": [
    "sp.simplify(phi_ext.diff(Y_T).subs(eta,1))"
   ]
  },
  {
   "cell_type": "code",
   "execution_count": 18,
   "metadata": {},
   "outputs": [
    {
     "data": {
      "text/latex": [
       "$\\displaystyle \\frac{Y_{N} \\left(S_{T} - \\eta \\left(S_{T} - \\sqrt{S_{N} S_{T}}\\right)\\right) \\left(Y_{N} + Y_{T} \\eta\\right) + Y_{T} \\left(S_{N} - \\eta \\left(S_{N} - \\sqrt{S_{N} S_{T}}\\right)\\right) \\left(Y_{N} \\eta + Y_{T}\\right)}{2 \\left(S_{N} - \\eta \\left(S_{N} - \\sqrt{S_{N} S_{T}}\\right)\\right) \\left(S_{T} - \\eta \\left(S_{T} - \\sqrt{S_{N} S_{T}}\\right)\\right)}$"
      ],
      "text/plain": [
       "(Y_N*(S_T - eta*(S_T - sqrt(S_N*S_T)))*(Y_N + Y_T*eta) + Y_T*(S_N - eta*(S_N - sqrt(S_N*S_T)))*(Y_N*eta + Y_T))/(2*(S_N - eta*(S_N - sqrt(S_N*S_T)))*(S_T - eta*(S_T - sqrt(S_N*S_T))))"
      ]
     },
     "execution_count": 18,
     "metadata": {},
     "output_type": "execute_result"
    }
   ],
   "source": [
    "sp.simplify(phi_ext)"
   ]
  },
  {
   "cell_type": "code",
   "execution_count": 19,
   "metadata": {},
   "outputs": [
    {
     "data": {
      "application/vnd.jupyter.widget-view+json": {
       "model_id": "734aa3e8e1d3459c8ed5d53ace5026da",
       "version_major": 2,
       "version_minor": 0
      },
      "text/plain": [
       "Canvas(toolbar=Toolbar(toolitems=[('Home', 'Reset original view', 'home', 'home'), ('Back', 'Back to previous …"
      ]
     },
     "metadata": {},
     "output_type": "display_data"
    },
    {
     "data": {
      "text/plain": [
       "[<matplotlib.lines.Line2D at 0x7fbe81147e50>]"
      ]
     },
     "execution_count": 19,
     "metadata": {},
     "output_type": "execute_result"
    }
   ],
   "source": [
    "import sympy as sp\n",
    "E_, K_ = sp.symbols('E, K')\n",
    "get_EK = sp.lambdify( (E_,K_) , E_*K_ / (E_+K_) - E_ )\n",
    "_, ax_EK = plt.subplots(1,1)\n",
    "K_r = np.linspace(1,100,100)\n",
    "ax_EK.plot(K_r, get_EK(1,K_r))"
   ]
  },
  {
   "cell_type": "code",
   "execution_count": null,
   "metadata": {},
   "outputs": [],
   "source": []
  },
  {
   "cell_type": "markdown",
   "metadata": {},
   "source": [
    "# Debugging support\n",
    "\n",
    "You can access the values of the state variables and of the the associated \n",
    "thermodynamic forces by accessing the `Sig_t` and `Eps_t` arrays.\n",
    "Each row represents the time step and each column a state variable.\n",
    "The order of state variables corresponds to the order in the symbolic \n",
    "object `se.slide_model.symb`"
   ]
  },
  {
   "cell_type": "code",
   "execution_count": 20,
   "metadata": {},
   "outputs": [
    {
     "data": {
      "text/plain": [
       "(array([0.52889125, 0.26444562, 7.21840139, 0.09666555, 0.48317516,\n",
       "        0.24158758, 0.20656806, 0.87711233]),\n",
       " array([1.16722467, 0.58361234, 0.34182419, 0.09666555, 0.48317516,\n",
       "        0.24158758, 1.3526006 , 3.86864542]))"
      ]
     },
     "execution_count": 20,
     "metadata": {},
     "output_type": "execute_result"
    }
   ],
   "source": [
    "se.Eps_t[-1,:], se.Sig_t[-1,:]"
   ]
  },
  {
   "cell_type": "code",
   "execution_count": 9,
   "metadata": {},
   "outputs": [
    {
     "data": {
      "text/plain": [
       "array([0.02977746, 0.00921506, 0.06386352, 0.39270458, 0.48264735,\n",
       "       0.14935572, 0.12763515, 0.50000445])"
      ]
     },
     "execution_count": 9,
     "metadata": {},
     "output_type": "execute_result"
    }
   ],
   "source": [
    "se.Sig_arr[-1,:]"
   ]
  },
  {
   "cell_type": "code",
   "execution_count": null,
   "metadata": {},
   "outputs": [],
   "source": []
  },
  {
   "cell_type": "code",
   "execution_count": null,
   "metadata": {},
   "outputs": [],
   "source": []
  }
 ],
 "metadata": {
  "kernelspec": {
   "display_name": "bmcs_env",
   "language": "python",
   "name": "bmcs_env"
  },
  "language_info": {
   "codemirror_mode": {
    "name": "ipython",
    "version": 3
   },
   "file_extension": ".py",
   "mimetype": "text/x-python",
   "name": "python",
   "nbconvert_exporter": "python",
   "pygments_lexer": "ipython3",
   "version": "3.9.1"
  },
  "toc": {
   "base_numbering": 1,
   "nav_menu": {},
   "number_sections": true,
   "sideBar": true,
   "skip_h1_title": false,
   "title_cell": "Table of Contents",
   "title_sidebar": "Contents",
   "toc_cell": false,
   "toc_position": {},
   "toc_section_display": true,
   "toc_window_display": false
  }
 },
 "nbformat": 4,
 "nbformat_minor": 4
}
