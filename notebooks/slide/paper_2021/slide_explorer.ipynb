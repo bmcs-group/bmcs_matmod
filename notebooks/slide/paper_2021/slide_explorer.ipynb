{
 "cells": [
  {
   "cell_type": "markdown",
   "metadata": {},
   "source": [
    "# Demo notebook for slide 3.4"
   ]
  },
  {
   "cell_type": "code",
   "execution_count": 1,
   "metadata": {},
   "outputs": [],
   "source": [
    "%matplotlib widget"
   ]
  },
  {
   "cell_type": "code",
   "execution_count": 2,
   "metadata": {},
   "outputs": [],
   "source": [
    "import bmcs_utils\n",
    "from ibvpy.tfunction import TimeFunction, TFSelector, TFCyclicSin\n",
    "from bmcs_matmod.slide.slide_explorer import SlideExplorer\n",
    "import bmcs_utils.api as bu"
   ]
  },
  {
   "cell_type": "code",
   "execution_count": 11,
   "metadata": {},
   "outputs": [],
   "source": [
    "material_params = dict(\n",
    "    E_T=1000, gamma_T=0, K_T=0, S_T=0.001, c_T=1, bartau=3, \n",
    "    E_N=100, S_N=0.001, c_N = 1, m = 0.01, f_t=3, f_c=20, f_c0=10, eta=0.0 # 0.5\n",
    ")"
   ]
  },
  {
   "cell_type": "markdown",
   "metadata": {},
   "source": [
    "# Study #1 - monotonic pull "
   ]
  },
  {
   "cell_type": "code",
   "execution_count": 14,
   "metadata": {},
   "outputs": [
    {
     "data": {
      "application/vnd.jupyter.widget-view+json": {
       "model_id": "401a03bfd61c458fb365a26f32670eba",
       "version_major": 2,
       "version_minor": 0
      },
      "text/plain": [
       "VBox(children=(HBox(children=(VBox(children=(Tree(layout=Layout(align_items='stretch', border='solid 1px black…"
      ]
     },
     "metadata": {},
     "output_type": "display_data"
    }
   ],
   "source": [
    "se_pull = SlideExplorer(n_steps=100, k_max=50)\n",
    "se_pull.slide_model.trait_set(**material_params)\n",
    "se_pull.trait_set(s_x_1 = 0, s_y_1 = 0, w_1 = 0.1);\n",
    "se_pull.run()\n",
    "se_pull.interact()"
   ]
  },
  {
   "cell_type": "markdown",
   "metadata": {},
   "source": [
    "# Study #2 - monotonic push"
   ]
  },
  {
   "cell_type": "code",
   "execution_count": 17,
   "metadata": {},
   "outputs": [
    {
     "data": {
      "application/vnd.jupyter.widget-view+json": {
       "model_id": "10f336b52ecf472fa59ea6874dd4ef00",
       "version_major": 2,
       "version_minor": 0
      },
      "text/plain": [
       "VBox(children=(HBox(children=(VBox(children=(Tree(layout=Layout(align_items='stretch', border='solid 1px black…"
      ]
     },
     "metadata": {},
     "output_type": "display_data"
    }
   ],
   "source": [
    "se_push = SlideExplorer(n_steps=250, k_max=50)\n",
    "se_push.slide_model.trait_set(**material_params)\n",
    "se_push.trait_set(s_x_1 = 0, s_y_1 = 0, w_1 = -0.5);\n",
    "se_push.run()\n",
    "se_push.energy_dissipation.show_iter = False\n",
    "se_push.interact()"
   ]
  },
  {
   "cell_type": "markdown",
   "metadata": {},
   "source": [
    "# Study #3 - monotonic slide"
   ]
  },
  {
   "cell_type": "code",
   "execution_count": 18,
   "metadata": {},
   "outputs": [
    {
     "data": {
      "application/vnd.jupyter.widget-view+json": {
       "model_id": "9b9274d6c8e74f799261b86dc481aab5",
       "version_major": 2,
       "version_minor": 0
      },
      "text/plain": [
       "VBox(children=(HBox(children=(VBox(children=(Tree(layout=Layout(align_items='stretch', border='solid 1px black…"
      ]
     },
     "metadata": {},
     "output_type": "display_data"
    }
   ],
   "source": [
    "se_slide = SlideExplorer(n_steps=100, k_max=50)\n",
    "se_slide.slide_model.trait_set(**material_params)\n",
    "se_slide.trait_set(s_x_1 = 0.5, s_y_1 = 0, w_1 = 0);\n",
    "se_slide.run()\n",
    "se_slide.energy_dissipation.show_iter = False\n",
    "se_slide.interact()"
   ]
  },
  {
   "cell_type": "markdown",
   "metadata": {},
   "source": [
    "# Study #4 - simultaneously pull off and circularly slide "
   ]
  },
  {
   "cell_type": "code",
   "execution_count": 3,
   "metadata": {},
   "outputs": [],
   "source": [
    "material_params = dict(\n",
    "    E_T=1, gamma_T=1, K_T=0, S_T=5, c_T=1, bartau=3, \n",
    "    E_N=1, S_N=0.5, c_N = 1, m = 0.01, f_t=3, f_c=20, f_c0=10, eta=0.0 # 0.5\n",
    ")"
   ]
  },
  {
   "cell_type": "code",
   "execution_count": 4,
   "metadata": {},
   "outputs": [
    {
     "data": {
      "application/vnd.jupyter.widget-view+json": {
       "model_id": "c602cbb154df4793897ab445e06f385c",
       "version_major": 2,
       "version_minor": 0
      },
      "text/plain": [
       "VBox(children=(HBox(children=(VBox(children=(Tree(layout=Layout(align_items='stretch', border='solid 1px black…"
      ]
     },
     "metadata": {},
     "output_type": "display_data"
    }
   ],
   "source": [
    "se = SlideExplorer(n_steps=2000, k_max=50)\n",
    "se.slide_model.trait_set(**material_params)\n",
    "n_cycles=3\n",
    "se.tf_s_x = TFCyclicSin(number_of_cycles = n_cycles, t_max = 1)\n",
    "se.tf_s_y = TFCyclicSin(number_of_cycles = n_cycles, t_max = 1, phase_shift=0.25)\n",
    "#se.tf_w = TFCyclicSin(number_of_cycles = n_cycles, t_max = 1)\n",
    "se.trait_set(s_x_1 = 4.1, s_y_1 = 8.1, w_1 = 3);\n",
    "se.run()\n",
    "se.energy_dissipation.show_iter = False\n",
    "se.interact()"
   ]
  },
  {
   "cell_type": "markdown",
   "metadata": {},
   "source": [
    "# Study #5 - push first and then cyclically slide in $x$ direction"
   ]
  },
  {
   "cell_type": "code",
   "execution_count": 7,
   "metadata": {},
   "outputs": [],
   "source": [
    "material_params = dict(\n",
    "    E_T=1, gamma_T=100, K_T=0, S_T=5, c_T=1, bartau=3, \n",
    "    E_N=1, S_N=5, c_N = 1, m = 0.01, f_t=3, f_c=20, f_c0=10, eta=1.0 # 0.5\n",
    ")"
   ]
  },
  {
   "cell_type": "code",
   "execution_count": 8,
   "metadata": {},
   "outputs": [
    {
     "data": {
      "application/vnd.jupyter.widget-view+json": {
       "model_id": "1e0fcccf9a04484c888027dacb19aa24",
       "version_major": 2,
       "version_minor": 0
      },
      "text/plain": [
       "VBox(children=(HBox(children=(VBox(children=(Tree(layout=Layout(align_items='stretch', border='solid 1px black…"
      ]
     },
     "metadata": {},
     "output_type": "display_data"
    }
   ],
   "source": [
    "se = SlideExplorer(n_steps=2000, k_max=50)\n",
    "se.slide_model.trait_set(**material_params)\n",
    "n_cycles=3\n",
    "se.tf_s_x = TFCyclicSin(number_of_cycles = n_cycles, t_max = 1)\n",
    "se.tf_s_y = TFCyclicSin(number_of_cycles = n_cycles, t_max = 1, phase_shift=0.25)\n",
    "#se.tf_w = TFCyclicSin(number_of_cycles = n_cycles, t_max = 1)\n",
    "se.slide_model.trait_set(**material_params)\n",
    "se.trait_set(s_x_1 = 0, s_y_1 = 0, w_1 = -25);\n",
    "se.run()\n",
    "se.trait_set(s_x_1 = 6.1, s_y_1 = 6.1, w_1 = -25);\n",
    "se.run()\n",
    "se.interact()"
   ]
  },
  {
   "cell_type": "markdown",
   "metadata": {},
   "source": [
    "# Study #6 - effect of $\\eta$"
   ]
  },
  {
   "cell_type": "code",
   "execution_count": 7,
   "metadata": {},
   "outputs": [],
   "source": [
    "import numpy as np\n",
    "material_params = dict(\n",
    "    E_T=1, gamma_T=0, K_T=1, S_T=5, c_T=1, bartau=3, \n",
    "    E_N=1, S_N=5, c_N = 1, m = 0.01, f_t=3, f_c=20, f_c0=10, eta=0.5\n",
    ")\n",
    "eta_range = np.linspace(0,1,5)\n",
    "se_T_list = []\n",
    "se_N_list = []\n",
    "#for m in [1e-9, 0.05]:\n",
    "for eta in eta_range:\n",
    "    material_params['eta'] = eta\n",
    "    se1 = SlideExplorer(n_steps=100, k_max=50)\n",
    "    se1.slide_model.trait_set(**material_params)\n",
    "#     se1.trait_set(s_x_1 = 0, s_y_1 = 0, w_1 = 0.8);\n",
    "#     se1.run()\n",
    "    se1.trait_set(s_x_1 = 20, s_y_1 = 0, w_1 = 0);\n",
    "    se1.run()\n",
    "    se_T_list.append(se1)\n",
    "    se2 = SlideExplorer(n_steps=200, k_max=50)\n",
    "    se2.slide_model.trait_set(**material_params)\n",
    "    se2.trait_set(s_x_1 = 0, s_y_1 = 0, w_1 = 20);\n",
    "    se2.run()\n",
    "    se_N_list.append(se2)"
   ]
  },
  {
   "cell_type": "code",
   "execution_count": 8,
   "metadata": {},
   "outputs": [
    {
     "data": {
      "application/vnd.jupyter.widget-view+json": {
       "model_id": "35fa14b4f70f4b84a84fcd9ffb000ecc",
       "version_major": 2,
       "version_minor": 0
      },
      "text/plain": [
       "Canvas(toolbar=Toolbar(toolitems=[('Home', 'Reset original view', 'home', 'home'), ('Back', 'Back to previous …"
      ]
     },
     "metadata": {},
     "output_type": "display_data"
    }
   ],
   "source": [
    "import matplotlib.pylab as plt\n",
    "fig, (ax_T, ax_N) = plt.subplots(1,2, tight_layout=True, figsize=(10,4))\n",
    "fig.canvas.header_visible=False\n",
    "ax_T.plot([0,1],[0,1],'--',color='black')\n",
    "ax_N.plot([0,1],[0,1],'--',color='black')\n",
    "for se_T, se_N in zip(se_T_list, se_N_list):\n",
    "    s_x_pi_, s_y_pi_, w_pi_, z_, alpha_x_, alpha_y_, omega_T_, omega_N_ = se_N.Eps_arr.T\n",
    "    #ax_T.plot(omega_T_,omega_N_)\n",
    "    se_T.inel_state_evolution.plot_omega_NT(ax_T)\n",
    "    se_N.inel_state_evolution.plot_omega_NT(ax_N)"
   ]
  },
  {
   "cell_type": "code",
   "execution_count": null,
   "metadata": {},
   "outputs": [],
   "source": [
    "fig.savefig('myfig.pdf')"
   ]
  },
  {
   "cell_type": "code",
   "execution_count": null,
   "metadata": {},
   "outputs": [],
   "source": [
    "se_T_list[1].inel_state_evolution.interact()"
   ]
  },
  {
   "cell_type": "code",
   "execution_count": null,
   "metadata": {},
   "outputs": [],
   "source": [
    "import sympy as sp\n",
    "S_N, S_T, eta = sp.symbols('S_N, S_T, eta')\n",
    "Y_N, Y_T = sp.symbols('Y_N, Y_T')\n",
    "omega_N, omega_T = sp.symbols('omega_N, omega_T')\n",
    "c_N, c_T = sp.symbols('c_N, c_T')\n",
    "\n",
    "phi_N_ext = ( # (1-omega_N)**c_N * (\n",
    "    (Y_N**2 + eta * (Y_T * Y_N)) /\n",
    "    (2*(S_N - eta * (S_N - sp.sqrt(S_N * S_T))))\n",
    ")\n",
    "phi_T_ext = ( # (1-omega_T)**c_T * (\n",
    "    (Y_T**2 + eta * (Y_T * Y_N)) /\n",
    "    (2*(S_T - eta * (S_T - sp.sqrt(S_N * S_T))))\n",
    ")\n",
    "phi_ext = phi_N_ext + phi_T_ext"
   ]
  },
  {
   "cell_type": "code",
   "execution_count": null,
   "metadata": {},
   "outputs": [],
   "source": [
    "sp.simplify(phi_ext.diff(Y_N).subs(eta,1))"
   ]
  },
  {
   "cell_type": "code",
   "execution_count": null,
   "metadata": {},
   "outputs": [],
   "source": [
    "sp.simplify(phi_ext.diff(Y_T).subs(eta,1))"
   ]
  },
  {
   "cell_type": "code",
   "execution_count": null,
   "metadata": {},
   "outputs": [],
   "source": [
    "sp.simplify(phi_ext)"
   ]
  },
  {
   "cell_type": "code",
   "execution_count": null,
   "metadata": {},
   "outputs": [],
   "source": [
    "import sympy as sp\n",
    "E_, K_ = sp.symbols('E, K')\n",
    "get_EK = sp.lambdify( (E_,K_) , E_*K_ / (E_+K_) - E_ )\n",
    "_, ax_EK = plt.subplots(1,1)\n",
    "K_r = np.linspace(1,100,100)\n",
    "ax_EK.plot(K_r, get_EK(1,K_r))"
   ]
  },
  {
   "cell_type": "code",
   "execution_count": null,
   "metadata": {},
   "outputs": [],
   "source": []
  },
  {
   "cell_type": "markdown",
   "metadata": {},
   "source": [
    "# Debugging support\n",
    "\n",
    "You can access the values of the state variables and of the the associated \n",
    "thermodynamic forces by accessing the `Sig_t` and `Eps_t` arrays.\n",
    "Each row represents the time step and each column a state variable.\n",
    "The order of state variables corresponds to the order in the symbolic \n",
    "object `se.slide_model.symb`"
   ]
  },
  {
   "cell_type": "code",
   "execution_count": null,
   "metadata": {},
   "outputs": [],
   "source": [
    "se.Eps_t[-1,:], se.Sig_t[-1,:]"
   ]
  },
  {
   "cell_type": "code",
   "execution_count": null,
   "metadata": {},
   "outputs": [],
   "source": [
    "se.Sig_arr[-1,:]"
   ]
  },
  {
   "cell_type": "code",
   "execution_count": null,
   "metadata": {},
   "outputs": [],
   "source": []
  },
  {
   "cell_type": "code",
   "execution_count": null,
   "metadata": {},
   "outputs": [],
   "source": []
  }
 ],
 "metadata": {
  "kernelspec": {
   "display_name": "bmcs_env",
   "language": "python",
   "name": "bmcs_env"
  },
  "language_info": {
   "codemirror_mode": {
    "name": "ipython",
    "version": 3
   },
   "file_extension": ".py",
   "mimetype": "text/x-python",
   "name": "python",
   "nbconvert_exporter": "python",
   "pygments_lexer": "ipython3",
   "version": "3.8.8"
  },
  "toc": {
   "base_numbering": 1,
   "nav_menu": {},
   "number_sections": true,
   "sideBar": true,
   "skip_h1_title": false,
   "title_cell": "Table of Contents",
   "title_sidebar": "Contents",
   "toc_cell": false,
   "toc_position": {},
   "toc_section_display": true,
   "toc_window_display": false
  }
 },
 "nbformat": 4,
 "nbformat_minor": 4
}
