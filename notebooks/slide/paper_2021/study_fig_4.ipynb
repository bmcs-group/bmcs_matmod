{
 "cells": [
  {
   "cell_type": "code",
   "execution_count": 1,
   "id": "ed4c64cc",
   "metadata": {},
   "outputs": [],
   "source": [
    "%matplotlib widget\n",
    "from bmcs_matmod.slide.vslide_34 import Slide34\n",
    "from bmcs_matmod.slide.slide_explorer import SlideExplorer\n",
    "import bmcs_matmod.slide.vslide_34 as slide_34\n",
    "import numpy as np\n",
    "from mayavi import mlab\n",
    "from bmcs_matmod.slide.f_double_cap import FDoubleCap\n",
    "import matplotlib.pylab as plt"
   ]
  },
  {
   "cell_type": "markdown",
   "id": "0bd06873",
   "metadata": {},
   "source": [
    "# Test the return mapping for a large step beyond elastic limit"
   ]
  },
  {
   "cell_type": "markdown",
   "id": "d026905c",
   "metadata": {},
   "source": [
    "Return mapping includes also the evaluation of damage due to sliding and opening. Even though the threshold function is linear in the normal direction to the yield locus in stress space, it is nonlinear with respect to the other stress variables, i.e. $Y_\\mathrm{N}, Y_\\mathrm{T}$. Therefore, several iterations are required during when the step induces a high amount of damage. Following example demonstrates this for a relatively large step.\n",
    "Would it make sense to visualize the threshold function in terms of f and lambda?"
   ]
  },
  {
   "cell_type": "code",
   "execution_count": 2,
   "id": "21861c38",
   "metadata": {},
   "outputs": [],
   "source": [
    "material_params = dict(\n",
    "    E_T=1, gamma_T=0, K_T=0, S_T=10000, c_T=1, bartau=1,\n",
    "    E_N=1, S_N=10000, c_N = 1, m = 0.1, f_t=1, f_c=20, f_c0=10, eta=0\n",
    ")"
   ]
  },
  {
   "cell_type": "code",
   "execution_count": 3,
   "id": "6cbd4d37",
   "metadata": {},
   "outputs": [],
   "source": [
    "se = SlideExplorer(n_steps=40, k_max=50)\n",
    "se.slide_model.trait_set(**material_params);\n",
    "se.slide_model.f_lambda_recording=True # show the iteration"
   ]
  },
  {
   "cell_type": "code",
   "execution_count": 4,
   "id": "1443bfa0",
   "metadata": {},
   "outputs": [
    {
     "data": {
      "application/vnd.jupyter.widget-view+json": {
       "model_id": "b1c2327b7dea4f93858b97c363163127",
       "version_major": 2,
       "version_minor": 0
      },
      "text/plain": [
       "VBox(children=(HBox(children=(VBox(children=(Tree(layout=Layout(align_items='stretch', border='solid 1px black…"
      ]
     },
     "metadata": {},
     "output_type": "display_data"
    }
   ],
   "source": [
    "se.trait_set(s_x_1 = 4, s_y_1 = 0, w_1 = -20);\n",
    "se.run()\n",
    "# se.trait_set(s_x_1 = 2, s_y_1 = 0, w_1 = 1);\n",
    "# se.run()\n",
    "se.interact()"
   ]
  },
  {
   "cell_type": "code",
   "execution_count": 5,
   "id": "f9a57e2c",
   "metadata": {},
   "outputs": [
    {
     "data": {
      "application/vnd.jupyter.widget-view+json": {
       "model_id": "3effa4654d1845a7b6378843c19bec3c",
       "version_major": 2,
       "version_minor": 0
      },
      "text/plain": [
       "Canvas(toolbar=Toolbar(toolitems=[('Home', 'Reset original view', 'home', 'home'), ('Back', 'Back to previous …"
      ]
     },
     "metadata": {},
     "output_type": "display_data"
    }
   ],
   "source": [
    "fig, ax = plt.subplots(1,1)\n",
    "se.slide_model.lam_max = 0.8\n",
    "lam_lines = np.array(se.slide_model.lam_list)\n",
    "f_lines = np.array(se.slide_model.f_list)\n",
    "ax.plot(lam_lines.T, f_lines.T)\n",
    "ax.plot([lam_lines.T[0],lam_lines.T[-1]],[0,0], color='black', lw=0.2);"
   ]
  },
  {
   "cell_type": "code",
   "execution_count": 6,
   "id": "f90343d6",
   "metadata": {},
   "outputs": [],
   "source": [
    "s = Slide34(**material_params, k_max=50)\n",
    "fdc = FDoubleCap(tau_bar=1,**material_params)"
   ]
  },
  {
   "cell_type": "code",
   "execution_count": 7,
   "id": "08ec1475",
   "metadata": {},
   "outputs": [],
   "source": [
    "delta_f = 2 * s.f_t\n",
    "min_sig = -s.f_c - delta_f\n",
    "max_sig = s.f_t + delta_f\n",
    "max_tau = s.bartau + s.m * s.f_c0 + delta_f\n",
    "min_tau = -max_tau"
   ]
  },
  {
   "cell_type": "code",
   "execution_count": 19,
   "id": "3f0b184e",
   "metadata": {},
   "outputs": [
    {
     "data": {
      "text/plain": [
       "(array([-4.,  4., -4.,  4.]), array([-22., -22.,   3.,   3.]))"
      ]
     },
     "execution_count": 19,
     "metadata": {},
     "output_type": "execute_result"
    }
   ],
   "source": [
    "min_w = min_sig / s.E_N\n",
    "max_w = max_sig / s.E_N\n",
    "min_s = min_tau / s.E_T\n",
    "max_s = max_tau / s.E_T\n",
    "s_range = np.linspace(min_s, max_s, 2)\n",
    "w_range = np.linspace(min_w, max_w, 2)\n",
    "s_grid, w_grid  = np.meshgrid(s_range,w_range)\n",
    "s_x_n1 = np.hstack([s_grid[:,(0,-1)].flatten(), s_grid[(0,-1),1:-1].flatten()])\n",
    "s_y_n1 = np.zeros_like(s_x_n1)\n",
    "w_n1 = np.hstack([w_grid[:,(0,-1)].flatten(), w_grid[(0,-1),1:-1].flatten()])\n",
    "s_x_n1, w_n1"
   ]
  },
  {
   "cell_type": "code",
   "execution_count": 9,
   "id": "4b888b42",
   "metadata": {},
   "outputs": [],
   "source": [
    "discr_shape = (len(w_n1),)\n",
    "#discr_shape = (2,)\n",
    "\n",
    "state = {\n",
    "    var_name: np.zeros(discr_shape + var_shape, dtype=np.float_)\n",
    "    for var_name, var_shape in\n",
    "    s.state_var_shapes.items()\n",
    "}"
   ]
  },
  {
   "cell_type": "code",
   "execution_count": 10,
   "id": "9099dbdf",
   "metadata": {},
   "outputs": [
    {
     "data": {
      "text/plain": [
       "array([[ -4.        ,   0.        , -22.        ],\n",
       "       [  4.        ,   0.        , -22.        ],\n",
       "       [ -4.        ,   0.        , -13.66666667],\n",
       "       [  4.        ,   0.        , -13.66666667],\n",
       "       [ -4.        ,   0.        ,  -5.33333333],\n",
       "       [  4.        ,   0.        ,  -5.33333333],\n",
       "       [ -4.        ,   0.        ,   3.        ],\n",
       "       [  4.        ,   0.        ,   3.        ],\n",
       "       [ -1.33333333,   0.        , -22.        ],\n",
       "       [  1.33333333,   0.        , -22.        ],\n",
       "       [ -1.33333333,   0.        ,   3.        ],\n",
       "       [  1.33333333,   0.        ,   3.        ]])"
      ]
     },
     "execution_count": 10,
     "metadata": {},
     "output_type": "execute_result"
    }
   ],
   "source": [
    "eps_Ema = np.c_[s_x_n1, s_y_n1, w_n1] \n",
    "eps_Ema"
   ]
  },
  {
   "cell_type": "code",
   "execution_count": 35,
   "id": "b27152fc-899f-41db-a00b-aafab8c9834b",
   "metadata": {},
   "outputs": [],
   "source": [
    "slide = Slide34(**material_params)\n",
    "discr_shape = (1,)\n",
    "state = {\n",
    "    var_name: np.zeros(discr_shape + var_shape, dtype=np.float_)\n",
    "    for var_name, var_shape in\n",
    "    slide.state_var_shapes.items()\n",
    "}"
   ]
  },
  {
   "cell_type": "code",
   "execution_count": null,
   "id": "f557feae-0163-4de9-97b7-9ae558770eec",
   "metadata": {},
   "outputs": [],
   "source": [
    "slide.get_"
   ]
  },
  {
   "cell_type": "code",
   "execution_count": 11,
   "id": "f2af2c36-1bc1-43e7-b476-6200fadf372c",
   "metadata": {},
   "outputs": [],
   "source": [
    "se2 = SlideExplorer(n_steps=40, k_max=50)\n",
    "se2.slide_model.trait_set(**material_params);"
   ]
  },
  {
   "cell_type": "code",
   "execution_count": 20,
   "id": "91cc3750-a329-4140-acca-dacc05437b75",
   "metadata": {},
   "outputs": [
    {
     "data": {
      "text/plain": [
       "array([-4.,  4., -4.,  4.])"
      ]
     },
     "execution_count": 20,
     "metadata": {},
     "output_type": "execute_result"
    }
   ],
   "source": [
    "se2.Eps_n1\n",
    "s_x_n1"
   ]
  },
  {
   "cell_type": "code",
   "execution_count": 29,
   "id": "7c32b340-71e0-418d-830f-95e07acc151c",
   "metadata": {},
   "outputs": [
    {
     "data": {
      "text/plain": [
       "(array([2.86101751]),\n",
       " array([[-0.80317829]]),\n",
       " array([ -4.,  -0., -22.,   0.,   0.,   0.,   8.,   0.]))"
      ]
     },
     "execution_count": 29,
     "metadata": {},
     "output_type": "execute_result"
    }
   ],
   "source": [
    "se2.slide_model.get_f_df(s_x_n1[0], s_y_n1[0], w_n1[0], \n",
    "                         se2.Eps_n1, se2.Sig_n1 )"
   ]
  },
  {
   "cell_type": "code",
   "execution_count": 30,
   "id": "23a443d8-1029-4764-a531-00914b5f785d",
   "metadata": {},
   "outputs": [
    {
     "data": {
      "text/plain": [
       "(8,)"
      ]
     },
     "execution_count": 30,
     "metadata": {},
     "output_type": "execute_result"
    }
   ],
   "source": [
    "se2.Eps_n1.shape"
   ]
  },
  {
   "cell_type": "code",
   "execution_count": 31,
   "id": "0ebcb2c9",
   "metadata": {},
   "outputs": [],
   "source": [
    "# eps_Ema = np.zeros(discr_shape+(3,), dtype=np.float_) + 1e-9\n",
    "# eps_Ema[0,0] = 1.1\n",
    "# eps_Ema[0,2] = 0.4\n",
    "# s.k_max = 3\n",
    "# sig_Ema, D_Emab = s.get_corr_pred(eps_Ema, 1, **state)\n",
    "# sig_Ema"
   ]
  },
  {
   "cell_type": "markdown",
   "id": "e173f657",
   "metadata": {},
   "source": [
    "# Plot the yield surface in 2D"
   ]
  },
  {
   "cell_type": "code",
   "execution_count": 32,
   "id": "e5adcfb8",
   "metadata": {},
   "outputs": [],
   "source": [
    "%matplotlib widget\n",
    "from bmcs_matmod.slide.vslide_34 import Slide34\n",
    "from bmcs_matmod.slide.slide_explorer import SlideExplorer\n",
    "import bmcs_matmod.slide.vslide_34 as slide_34\n",
    "import numpy as np\n",
    "from mayavi import mlab\n",
    "from bmcs_matmod.slide.f_double_cap import FDoubleCap\n",
    "import matplotlib.pylab as plt"
   ]
  },
  {
   "cell_type": "code",
   "execution_count": 33,
   "id": "ab1e8065",
   "metadata": {},
   "outputs": [],
   "source": [
    "material_params = dict(\n",
    "    E_T=1, gamma_T=0, K_T=0, S_T=10000, c_T=1, bartau=1,\n",
    "    E_N=1, S_N=10000, c_N = 1, m = 0.1, f_t=1, f_c=20, f_c0=10, eta=0\n",
    ")"
   ]
  },
  {
   "cell_type": "code",
   "execution_count": 14,
   "id": "644b32cd",
   "metadata": {},
   "outputs": [],
   "source": [
    "fdc = FDoubleCap(tau_bar=1,**material_params)\n",
    "min_sig, max_sig = -30, 10\n",
    "min_tau, max_tau = -10,10"
   ]
  },
  {
   "cell_type": "code",
   "execution_count": 15,
   "id": "f76c4532",
   "metadata": {},
   "outputs": [],
   "source": [
    "X_a, Y_a = np.mgrid[min_sig:max_sig:210j, min_tau:max_tau:210j]\n",
    "Z_a = fdc.symb.get_f_solved(X_a, Y_a)\n",
    "Z_0 = np.zeros_like(Z_a)"
   ]
  },
  {
   "cell_type": "code",
   "execution_count": 16,
   "id": "a0c0aa62",
   "metadata": {},
   "outputs": [
    {
     "name": "stdout",
     "output_type": "stream",
     "text": [
      "Notebook initialized with ipy backend.\n"
     ]
    }
   ],
   "source": [
    "mlab.init_notebook('ipy')"
   ]
  },
  {
   "cell_type": "code",
   "execution_count": 17,
   "id": "f07dfa5a",
   "metadata": {},
   "outputs": [
    {
     "name": "stdout",
     "output_type": "stream",
     "text": [
      "Warning: the range of your scalar values differs by more than a factor 100 than the range of the grid values and you did not specify a warp_scale. You could try warp_scale=\"auto\".\n"
     ]
    },
    {
     "data": {
      "application/vnd.jupyter.widget-view+json": {
       "model_id": "5350a756a6674da6b099ae594b9720fb",
       "version_major": 2,
       "version_minor": 0
      },
      "text/plain": [
       "Image(value=b'\\x89PNG\\r\\n\\x1a\\n\\x00\\x00\\x00\\rIHDR\\x00\\x00\\x01\\x90\\x00\\x00\\x01^\\x08\\x02\\x00\\x00\\x00$?\\xde_\\x00\\…"
      ]
     },
     "metadata": {},
     "output_type": "display_data"
    }
   ],
   "source": [
    "mlab.clf()\n",
    "mlab.figure(bgcolor=(1,1,1))\n",
    "mlab.surf(X_a, Y_a, Z_a, colormap='cool')\n",
    "mlab.surf(X_a, Y_a, Z_0, color=(.8,.8,.8))"
   ]
  },
  {
   "cell_type": "code",
   "execution_count": 18,
   "id": "003d586c",
   "metadata": {},
   "outputs": [],
   "source": [
    "mlab.show()"
   ]
  },
  {
   "cell_type": "markdown",
   "id": "b2e2fc81",
   "metadata": {},
   "source": [
    "# Plot the yield surface in 3D"
   ]
  },
  {
   "cell_type": "code",
   "execution_count": 19,
   "id": "d91e0a97",
   "metadata": {},
   "outputs": [],
   "source": [
    "%matplotlib widget\n",
    "from bmcs_matmod.slide.vslide_34 import Slide34\n",
    "from bmcs_matmod.slide.slide_explorer import SlideExplorer\n",
    "import bmcs_matmod.slide.vslide_34 as slide_34\n",
    "import numpy as np\n",
    "from mayavi import mlab\n",
    "from bmcs_matmod.slide.f_double_cap import FDoubleCap\n",
    "import matplotlib.pylab as plt"
   ]
  },
  {
   "cell_type": "code",
   "execution_count": 20,
   "id": "4ecdf112",
   "metadata": {},
   "outputs": [],
   "source": [
    "material_params = dict(\n",
    "    E_T=1, gamma_T=0, K_T=0, S_T=10000, c_T=1, bartau=3,\n",
    "    E_N=1, S_N=10000, c_N = 1, m = 0.2, f_t=1, f_c=5, f_c0=4, eta=0\n",
    ")\n",
    "fdc = FDoubleCap(tau_bar=1,**material_params)"
   ]
  },
  {
   "cell_type": "code",
   "execution_count": 21,
   "id": "1f58c0a6",
   "metadata": {},
   "outputs": [],
   "source": [
    "min_sig, max_sig = -12, 5\n",
    "min_tau, max_tau = -8,8\n",
    "X1_a, Y1_a, Z1_a = np.mgrid[min_sig:max_sig:210j, 0:max_tau:210j, min_tau:max_tau:210j]\n",
    "YZ1_a = np.sqrt(Y1_a**2 + Z1_a**2)\n",
    "f1_a = fdc.symb.get_f_solved(X1_a, YZ1_a)"
   ]
  },
  {
   "cell_type": "code",
   "execution_count": 22,
   "id": "d829252a",
   "metadata": {},
   "outputs": [],
   "source": [
    "X2_a, Y2_a, Z2_a = np.mgrid[min_sig:max_sig:210j, min_tau:max_tau:210j, min_tau:max_tau:210j]\n",
    "YZ2_a = np.sqrt(Y2_a**2 + Z2_a**2)\n",
    "f2_a = fdc.symb.get_f_solved(X2_a, YZ2_a)"
   ]
  },
  {
   "cell_type": "code",
   "execution_count": 23,
   "id": "12f6102a",
   "metadata": {},
   "outputs": [],
   "source": [
    "mlab.options.backend = 'envisage'\n",
    "mlab.figure(bgcolor=(1,1,1))\n",
    "mlab.contour3d(X1_a, Y1_a, Z1_a, f1_a, contours=[0], opacity=1)\n",
    "mlab.contour3d(X2_a, Y2_a, Z2_a, f2_a, contours=[0], opacity=0.3)\n",
    "mlab.show()"
   ]
  },
  {
   "cell_type": "code",
   "execution_count": null,
   "id": "5303cdf7",
   "metadata": {},
   "outputs": [],
   "source": []
  }
 ],
 "metadata": {
  "kernelspec": {
   "display_name": "bmcs_env",
   "language": "python",
   "name": "bmcs_env"
  },
  "language_info": {
   "codemirror_mode": {
    "name": "ipython",
    "version": 3
   },
   "file_extension": ".py",
   "mimetype": "text/x-python",
   "name": "python",
   "nbconvert_exporter": "python",
   "pygments_lexer": "ipython3",
   "version": "3.8.8"
  },
  "toc": {
   "base_numbering": 1,
   "nav_menu": {},
   "number_sections": true,
   "sideBar": true,
   "skip_h1_title": false,
   "title_cell": "Table of Contents",
   "title_sidebar": "Contents",
   "toc_cell": false,
   "toc_position": {},
   "toc_section_display": true,
   "toc_window_display": false
  }
 },
 "nbformat": 4,
 "nbformat_minor": 5
}
