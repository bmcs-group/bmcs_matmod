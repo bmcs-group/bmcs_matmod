{
 "cells": [
  {
   "cell_type": "code",
   "execution_count": 1,
   "id": "ed4c64cc",
   "metadata": {},
   "outputs": [],
   "source": [
    "%matplotlib widget\n",
    "from bmcs_matmod.slide.vslide_34 import Slide34\n",
    "from bmcs_matmod.slide.slide_explorer import SlideExplorer\n",
    "import bmcs_matmod.slide.vslide_34 as slide_34\n",
    "import numpy as np\n",
    "np.seterr(divide='ignore', invalid='ignore')\n",
    "from mayavi import mlab\n",
    "from bmcs_matmod.slide.f_double_cap import FDoubleCap\n",
    "import matplotlib.pylab as plt"
   ]
  },
  {
   "cell_type": "markdown",
   "id": "0bd06873",
   "metadata": {},
   "source": [
    "# Test the return mapping for a large step beyond elastic limit"
   ]
  },
  {
   "cell_type": "markdown",
   "id": "d026905c",
   "metadata": {},
   "source": [
    "Return mapping includes also the evaluation of damage due to sliding and opening. Even though the threshold function is linear in the normal direction to the yield locus in stress space, it is nonlinear with respect to the other stress variables, i.e. $Y_\\mathrm{N}, Y_\\mathrm{T}$. Therefore, several iterations are required during when the step induces a high amount of damage. Following example demonstrates this for a relatively large step.\n",
    "Would it make sense to visualize the threshold function in terms of f and lambda?"
   ]
  },
  {
   "cell_type": "code",
   "execution_count": 2,
   "id": "21861c38",
   "metadata": {},
   "outputs": [],
   "source": [
    "material_params = dict(\n",
    "    E_T=1, gamma_T=0, K_T=-0.1, S_T=10000, c_T=1, bartau=1,\n",
    "    E_N=1, S_N=10000, c_N = 1, m = 0.1, f_t=1, f_c=10, f_c0=8, eta=0\n",
    ")"
   ]
  },
  {
   "cell_type": "code",
   "execution_count": 3,
   "id": "6cbd4d37",
   "metadata": {},
   "outputs": [],
   "source": [
    "se = SlideExplorer(n_steps=2, k_max=50)\n",
    "se.slide_model.trait_set(**material_params);\n",
    "se.slide_model.f_lambda_recording=True # show the iteration"
   ]
  },
  {
   "cell_type": "code",
   "execution_count": 4,
   "id": "1443bfa0",
   "metadata": {},
   "outputs": [
    {
     "data": {
      "application/vnd.jupyter.widget-view+json": {
       "model_id": "706c47f7374243968d24f88f33b0255a",
       "version_major": 2,
       "version_minor": 0
      },
      "text/plain": [
       "VBox(children=(HBox(children=(VBox(children=(Tree(layout=Layout(align_items='stretch', border='solid 1px black…"
      ]
     },
     "metadata": {},
     "output_type": "display_data"
    }
   ],
   "source": [
    "#se.trait_set(s_x_1 = 0.75, s_y_1 = 0, w_1 = -13);\n",
    "#se.run()\n",
    "se.trait_set(s_x_1 = 1, s_y_1 = 0, w_1 = 1);\n",
    "se.run()\n",
    "se.interact()"
   ]
  },
  {
   "cell_type": "code",
   "execution_count": 5,
   "id": "f9a57e2c",
   "metadata": {},
   "outputs": [
    {
     "data": {
      "application/vnd.jupyter.widget-view+json": {
       "model_id": "16661b7533754de6a91c64782b862061",
       "version_major": 2,
       "version_minor": 0
      },
      "text/plain": [
       "Canvas(toolbar=Toolbar(toolitems=[('Home', 'Reset original view', 'home', 'home'), ('Back', 'Back to previous …"
      ]
     },
     "metadata": {},
     "output_type": "display_data"
    },
    {
     "data": {
      "text/plain": [
       "Text(0, 0.5, '$f$ [MPa]')"
      ]
     },
     "execution_count": 5,
     "metadata": {},
     "output_type": "execute_result"
    }
   ],
   "source": [
    "fig, ax = plt.subplots(1,1)\n",
    "se.slide_model.lam_max = 0.8\n",
    "lam_lines = np.array(se.slide_model.lam_list)\n",
    "f_lines = np.array(se.slide_model.f_list)\n",
    "ax.plot(lam_lines.T[:,0], f_lines.T[:,0], color='black')\n",
    "ax.plot(lam_lines.T[:,1], f_lines.T[:,1], color='blue')\n",
    "ax.plot(lam_lines.T[:,2], f_lines.T[:,2], color='red')\n",
    "ax.plot(lam_lines.T[:,3], f_lines.T[:,3], color='yellow')\n",
    "ax.plot(lam_lines.T[:,4], f_lines.T[:,4], color='orange')\n",
    "ax.plot([lam_lines.T[0],lam_lines.T[-1]],[0,0], color='black', lw=0.2);\n",
    "ax.set_xlim(0,0.6)\n",
    "ax.set_ylim(-0.5,0.5)\n",
    "ax.set_xlabel(r'$\\lambda$ [-]');ax.set_ylabel(r'$f$ [MPa]')"
   ]
  },
  {
   "cell_type": "markdown",
   "id": "86b62f00-228f-4b4a-8c5a-350f106c41cc",
   "metadata": {},
   "source": [
    "# Manual return mapping to construct its visualization"
   ]
  },
  {
   "cell_type": "code",
   "execution_count": 6,
   "id": "f4dad05d-a97a-429e-a985-3fc54e967c50",
   "metadata": {},
   "outputs": [],
   "source": [
    "material_params = dict(\n",
    "    E_T=1, gamma_T=0, K_T=0, S_T=10000, c_T=1, bartau=1,\n",
    "    E_N=1, S_N=10000, c_N = 1, m = 0.1, f_t=1, f_c=10, f_c0=8, eta=0\n",
    ")"
   ]
  },
  {
   "cell_type": "code",
   "execution_count": 39,
   "id": "51c31c73-fda0-433d-a681-35161acaa8f3",
   "metadata": {},
   "outputs": [],
   "source": [
    "material_params = dict(\n",
    "    E_T=1, gamma_T=0, K_T=0, S_T=10000, c_T=1, bartau=1,\n",
    "    E_N=1, S_N=10000, c_N = 1, m = 0.2, f_t=2, f_c=15, f_c0=9, eta=0\n",
    ")"
   ]
  },
  {
   "cell_type": "code",
   "execution_count": 40,
   "id": "f90343d6",
   "metadata": {},
   "outputs": [],
   "source": [
    "s = Slide34(**material_params, k_max=50)\n",
    "fdc = FDoubleCap(tau_bar=1,**material_params)"
   ]
  },
  {
   "cell_type": "code",
   "execution_count": 41,
   "id": "08ec1475",
   "metadata": {},
   "outputs": [],
   "source": [
    "delta_f = 1 * s.f_t\n",
    "min_sig = -s.f_c - delta_f\n",
    "max_sig = s.f_t + delta_f\n",
    "max_tau = s.bartau + s.m * s.f_c0 + delta_f\n",
    "min_tau = -max_tau"
   ]
  },
  {
   "cell_type": "code",
   "execution_count": 42,
   "id": "3f0b184e",
   "metadata": {},
   "outputs": [],
   "source": [
    "min_w = min_sig / s.E_N\n",
    "max_w = max_sig / s.E_N\n",
    "min_s = min_tau / s.E_T\n",
    "max_s = max_tau / s.E_T\n",
    "s_range = np.linspace(min_s, max_s, 9)\n",
    "w_range = np.linspace(min_w, max_w, 30)\n",
    "s_grid, w_grid  = np.meshgrid(s_range,w_range)\n",
    "s_x_n1 = np.hstack([s_grid[:,(0,-1)].flatten(), s_grid[(0,-1),1:-1].flatten()])\n",
    "s_y_n1 = np.zeros_like(s_x_n1)\n",
    "w_n1 = np.hstack([w_grid[:,(0,-1)].flatten(), w_grid[(0,-1),1:-1].flatten()])\n",
    "#s_x_n1, w_n1"
   ]
  },
  {
   "cell_type": "code",
   "execution_count": 43,
   "id": "4b888b42",
   "metadata": {},
   "outputs": [],
   "source": [
    "discr_shape = (len(w_n1),)\n",
    "#discr_shape = (2,)\n",
    "\n",
    "state = {\n",
    "    var_name: np.zeros(discr_shape + var_shape, dtype=np.float_)\n",
    "    for var_name, var_shape in\n",
    "    s.state_var_shapes.items()\n",
    "}"
   ]
  },
  {
   "cell_type": "code",
   "execution_count": 44,
   "id": "9099dbdf",
   "metadata": {},
   "outputs": [],
   "source": [
    "eps_Ema = np.c_[w_n1, s_x_n1, s_y_n1] \n",
    "#eps_Ema"
   ]
  },
  {
   "cell_type": "code",
   "execution_count": 45,
   "id": "b27152fc-899f-41db-a00b-aafab8c9834b",
   "metadata": {},
   "outputs": [],
   "source": [
    "slide = Slide34(**material_params)\n",
    "discr_shape = (1,)\n",
    "state = {\n",
    "    var_name: np.zeros(discr_shape + var_shape, dtype=np.float_)\n",
    "    for var_name, var_shape in\n",
    "    slide.state_var_shapes.items()\n",
    "}"
   ]
  },
  {
   "cell_type": "code",
   "execution_count": 46,
   "id": "cb77db1f-632e-4b40-a6c1-5d86a993fa9a",
   "metadata": {},
   "outputs": [],
   "source": [
    "eps_aEm = np.einsum('...a->a...',eps_Ema)\n",
    "select_idx = (0, 1, 2)\n",
    "w_n1, s_x_n1, s_y_n1 = eps_aEm\n",
    "#s_x_n1, w_n1"
   ]
  },
  {
   "cell_type": "code",
   "execution_count": 47,
   "id": "f6de922b-3410-44c2-aad2-5c1f1579400d",
   "metadata": {},
   "outputs": [],
   "source": [
    "ONES = np.ones_like(s_x_n1, dtype=np.float_)\n",
    "ZEROS = np.zeros_like(s_x_n1, dtype=np.float_)"
   ]
  },
  {
   "cell_type": "code",
   "execution_count": 48,
   "id": "8c2d453f-83b3-47bd-a56e-65756c49cf71",
   "metadata": {},
   "outputs": [],
   "source": [
    "# Transform state to Eps_k and Sig_k\n",
    "Eps_n = np.array([ state[eps_name] for eps_name in slide.Eps_names], dtype=np.float_)\n",
    "Eps_k = np.copy(Eps_n)\n",
    "Sig_k = np.zeros_like(Eps_k)"
   ]
  },
  {
   "cell_type": "code",
   "execution_count": 49,
   "id": "f557feae-0163-4de9-97b7-9ae558770eec",
   "metadata": {},
   "outputs": [
    {
     "name": "stderr",
     "output_type": "stream",
     "text": [
      "<lambdifygenerated-37>:4: VisibleDeprecationWarning: Creating an ndarray from ragged nested sequences (which is a list-or-tuple of lists-or-tuples-or ndarrays with different lengths or shapes) is deprecated. If you meant to do this, you must specify 'dtype=object' when creating the ndarray.\n",
      "  return (array([[-E_N*(-2*w + 2*w_pi)*(-1/2*omega_N*select([less_equal(sig_pi, 0),True], [0,1], default=nan) + 1/2), -E_T*(1 - omega_T)*(s_pi_x - s_x), -E_T*(1 - omega_T)*(s_pi_y - s_y), K_T*z, alpha_x*gamma_T, alpha_y*gamma_T, (1/2)*E_T*(-s_pi_x + s_x)**2 + (1/2)*E_T*(-s_pi_y + s_y)**2, (1/2)*E_N*(w - w_pi)**2*select([less_equal(sig_pi, 0),True], [0,1], default=nan)]]))\n"
     ]
    }
   ],
   "source": [
    "Sig_k = slide.symb.get_Sig_(w_n1, s_x_n1, s_y_n1, Sig_k, Eps_k)[0]\n",
    "#Sig_k"
   ]
  },
  {
   "cell_type": "code",
   "execution_count": 50,
   "id": "b9d9c605-f3d3-4723-a6e5-1a91d1a52ef5",
   "metadata": {},
   "outputs": [],
   "source": [
    "dSig_dEps_k = slide.symb.get_dSig_dEps_(w_n1, s_x_n1, s_y_n1, Sig_k, Eps_k, ZEROS, ONES)"
   ]
  },
  {
   "cell_type": "code",
   "execution_count": 51,
   "id": "d44ebbda-87d2-4752-92cd-b89c000a38ed",
   "metadata": {},
   "outputs": [],
   "source": [
    "H_sig_pi = slide.symb.get_H_sig_pi_(Sig_k)"
   ]
  },
  {
   "cell_type": "code",
   "execution_count": 52,
   "id": "a74ba4e8-2c8b-4629-8bce-42884f6d729a",
   "metadata": {},
   "outputs": [],
   "source": [
    "f_k = np.array([slide.symb.get_f_(Eps_k, Sig_k, H_sig_pi)])\n",
    "#f_k"
   ]
  },
  {
   "cell_type": "code",
   "execution_count": 53,
   "id": "4e48874f-6e7a-4d0d-a409-cbe5b2912426",
   "metadata": {},
   "outputs": [],
   "source": [
    "df_dSig_k = slide.symb.get_df_dSig_(Eps_k, Sig_k, H_sig_pi, ZEROS, ONES)\n",
    "#df_dSig_k"
   ]
  },
  {
   "cell_type": "code",
   "execution_count": 54,
   "id": "c661ba0f-4ccc-4639-9ba3-a67eef3a3c92",
   "metadata": {},
   "outputs": [],
   "source": [
    "ddf_dEps_k = slide.symb.get_ddf_dEps_(Eps_k, Sig_k, H_sig_pi, ZEROS, ONES)"
   ]
  },
  {
   "cell_type": "code",
   "execution_count": 55,
   "id": "c78238fd-6505-4a04-915d-d3bcc6ee7150",
   "metadata": {},
   "outputs": [],
   "source": [
    "df_dEps_k = np.einsum('ik...,ji...->jk...', df_dSig_k, dSig_dEps_k) + ddf_dEps_k"
   ]
  },
  {
   "cell_type": "code",
   "execution_count": 56,
   "id": "6f58fc2f-ac2b-46e6-bddd-6d1c7eae8203",
   "metadata": {},
   "outputs": [],
   "source": [
    "Phi_k = slide.get_Phi_(Eps_k, Sig_k, H_sig_pi, ZEROS, ONES)"
   ]
  },
  {
   "cell_type": "code",
   "execution_count": 57,
   "id": "00b9057c-124f-4f85-8db5-b39b936519a1",
   "metadata": {},
   "outputs": [],
   "source": [
    "dEps_dlambda_k = Phi_k"
   ]
  },
  {
   "cell_type": "code",
   "execution_count": 58,
   "id": "ff047d74-a37f-4189-8b20-56193e41e97f",
   "metadata": {},
   "outputs": [],
   "source": [
    "df_dlambda = np.einsum(\n",
    "            'ki...,kj...->ij...', df_dEps_k, dEps_dlambda_k)"
   ]
  },
  {
   "cell_type": "code",
   "execution_count": 59,
   "id": "a0e18a69-723d-4868-b2f4-d15c6ee90e45",
   "metadata": {},
   "outputs": [],
   "source": [
    "df_k = df_dlambda"
   ]
  },
  {
   "cell_type": "code",
   "execution_count": 60,
   "id": "a25a49f2-1830-441e-9a9e-ae35f77425d8",
   "metadata": {},
   "outputs": [],
   "source": [
    "dlam_k = -f_k / df_k\n",
    "#dlam_k"
   ]
  },
  {
   "cell_type": "code",
   "execution_count": 61,
   "id": "c06cfbf2-f6c7-4c95-bd7b-6fb94a7035e6",
   "metadata": {},
   "outputs": [],
   "source": [
    "Eps_k1 = slide.get_Eps_k1(w_n1, s_x_n1, s_y_n1, Eps_n, dlam_k, Sig_k, Eps_k)[0]\n",
    "#Eps_k1.shape"
   ]
  },
  {
   "cell_type": "code",
   "execution_count": 62,
   "id": "5b72afb5-1f26-48ff-b673-e776eb90906b",
   "metadata": {},
   "outputs": [],
   "source": [
    "Sig_k1 = slide.symb.get_Sig_(w_n1, s_x_n1, s_y_n1, Sig_k, Eps_k1)[0]\n",
    "#Sig_k1"
   ]
  },
  {
   "cell_type": "code",
   "execution_count": 63,
   "id": "8c0ff9c7-6732-4864-b227-f15eac17230d",
   "metadata": {},
   "outputs": [],
   "source": [
    "dSig_dEps_k1 = slide.symb.get_dSig_dEps_(w_n1, s_x_n1, s_y_n1, Sig_k1, Eps_k1, ZEROS, ONES)"
   ]
  },
  {
   "cell_type": "code",
   "execution_count": 64,
   "id": "dfbef81f-8f70-4be3-8230-8347e9236262",
   "metadata": {},
   "outputs": [],
   "source": [
    "H_sig_pi_k1 = slide.symb.get_H_sig_pi_(Sig_k1)"
   ]
  },
  {
   "cell_type": "code",
   "execution_count": 65,
   "id": "71fbf651-697d-4737-b9cb-cedc9968885b",
   "metadata": {},
   "outputs": [],
   "source": [
    "f_k1 = np.array([slide.symb.get_f_(Eps_k1, Sig_k1, H_sig_pi_k1)])\n",
    "#f_k1"
   ]
  },
  {
   "cell_type": "code",
   "execution_count": 66,
   "id": "dbe1ddb1-3429-44e7-9786-d2d78bc1dd15",
   "metadata": {},
   "outputs": [],
   "source": [
    "sig_ma_k = np.c_[Sig_k[0], Sig_k[1], f_k[0]].T\n",
    "#sig_ma_k"
   ]
  },
  {
   "cell_type": "code",
   "execution_count": 67,
   "id": "fe3c62b7-4efd-4d69-b1f3-6071742e8179",
   "metadata": {},
   "outputs": [],
   "source": [
    "sig_ma_k1 = np.hstack([Sig_k1[:2,:].T, f_k1[0][:,np.newaxis]]).T\n",
    "#sig_ma_k1"
   ]
  },
  {
   "cell_type": "code",
   "execution_count": 68,
   "id": "7cbdf000-08cf-4340-be7d-aacd3fcb5593",
   "metadata": {},
   "outputs": [],
   "source": [
    "vec_ma_k1 = sig_ma_k1 - sig_ma_k\n",
    "#vec_ma_k1"
   ]
  },
  {
   "cell_type": "code",
   "execution_count": 69,
   "id": "18f7569d-943c-4b5f-a127-71607b8aed6b",
   "metadata": {},
   "outputs": [],
   "source": [
    "X_a, Y_a = np.mgrid[min_sig:max_sig:210j, min_tau:max_tau:210j]\n",
    "Z_a = fdc.symb.get_f_solved(X_a, Y_a)\n",
    "Z_0 = np.zeros_like(Z_a)"
   ]
  },
  {
   "cell_type": "code",
   "execution_count": 71,
   "id": "70674e8f-9e41-48a2-b949-7ac5a40ffbd3",
   "metadata": {},
   "outputs": [],
   "source": [
    "mlab.options.backend = 'envisage'\n",
    "mlab.figure(bgcolor=(1,1,1),fgcolor=(0,0,0))\n",
    "surf = mlab.surf(X_a, Y_a, Z_a, colormap='summer')\n",
    "surf.actor.property.opacity = 0.7829\n",
    "mlab.surf(X_a, Y_a, Z_0, color=(.8,.8,.8))\n",
    "vectors = mlab.quiver3d(sig_ma_k[0],sig_ma_k[1],sig_ma_k[2],\n",
    "             vec_ma_k1[0],vec_ma_k1[1],vec_ma_k1[2])\n",
    "vectors.glyph.glyph_source.glyph_source.filled = True\n",
    "vectors.glyph.color_mode = 'no_coloring'\n",
    "vectors.actor.property.ambient_color = (1.0, 0.6666666666666666, 0.0)\n",
    "vectors.actor.property.diffuse_color = (1.0, 0.6666666666666666, 0.0)\n",
    "vectors.actor.property.emissive_factor = np.array([1., 1., 1.])\n",
    "vectors.actor.property.specular_color = (1.0, 0.6666666666666666, 0.0)\n",
    "#vectors.actor.property.color = (1.0, 0.6666666666666666, 0.0)\n",
    "vectors.actor.property.color = (0.0, 0.3333333333333333, 1.0)\n",
    "vectors.glyph.glyph_source.glyph_source = vectors.glyph.glyph_source.glyph_dict['cone_source']\n",
    "vectors.glyph.glyph.range = np.array([0.        , 3.41082282])\n",
    "vectors.glyph.glyph_source.glyph_source.radius = 0.03\n",
    "vectors.glyph.glyph.scale_factor = 4\n",
    "xx = np.linspace(min_sig,max_sig,2)\n",
    "yy = np.linspace(min_tau,max_tau,2)\n",
    "zz = np.linspace(-1,1,2)\n",
    "xy = xz = yx = yz = zx = zy = np.zeros_like(xx)\n",
    "mlab.plot3d(yx,yy,yz,line_width=0.01,tube_radius=0.01)\n",
    "mlab.plot3d(zx,zy,zz,line_width=0.01,tube_radius=0.01)\n",
    "mlab.plot3d(xx,xy,xz,line_width=0.01,tube_radius=0.01)\n",
    "mlab.show()"
   ]
  },
  {
   "cell_type": "code",
   "execution_count": null,
   "id": "5303cdf7",
   "metadata": {},
   "outputs": [],
   "source": []
  },
  {
   "cell_type": "code",
   "execution_count": null,
   "id": "c79b7da5-f67a-48c1-ab78-bd6cbd6da90a",
   "metadata": {},
   "outputs": [],
   "source": []
  },
  {
   "cell_type": "code",
   "execution_count": null,
   "id": "b3ca55a5-e879-49b1-b8d1-6bb9c5fe14d2",
   "metadata": {},
   "outputs": [],
   "source": []
  },
  {
   "cell_type": "code",
   "execution_count": null,
   "id": "31122f23-5dcb-4d5c-950f-bcc618958832",
   "metadata": {},
   "outputs": [],
   "source": []
  }
 ],
 "metadata": {
  "kernelspec": {
   "display_name": "bmcs_env",
   "language": "python",
   "name": "bmcs_env"
  },
  "language_info": {
   "codemirror_mode": {
    "name": "ipython",
    "version": 3
   },
   "file_extension": ".py",
   "mimetype": "text/x-python",
   "name": "python",
   "nbconvert_exporter": "python",
   "pygments_lexer": "ipython3",
   "version": "3.8.8"
  },
  "toc": {
   "base_numbering": 1,
   "nav_menu": {},
   "number_sections": true,
   "sideBar": true,
   "skip_h1_title": false,
   "title_cell": "Table of Contents",
   "title_sidebar": "Contents",
   "toc_cell": false,
   "toc_position": {},
   "toc_section_display": true,
   "toc_window_display": false
  }
 },
 "nbformat": 4,
 "nbformat_minor": 5
}
