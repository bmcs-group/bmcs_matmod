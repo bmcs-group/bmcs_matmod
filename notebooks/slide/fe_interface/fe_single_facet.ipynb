{
 "cells": [
  {
   "cell_type": "markdown",
   "id": "dbc9a6d4-2a8f-4333-b64e-762210c2e134",
   "metadata": {},
   "source": [
    "# Single facet simulation"
   ]
  },
  {
   "cell_type": "code",
   "execution_count": 1,
   "id": "9d61e064-7bd0-4ed3-a41e-421658cc56fe",
   "metadata": {},
   "outputs": [],
   "source": [
    "%matplotlib widget\n",
    "import time\n",
    "from bmcs_expsim.utils.mlab_decorators import decorate_figure\n",
    "from mayavi import mlab\n",
    "import numpy as np\n",
    "np.seterr(divide='ignore', invalid='ignore') \n",
    "import warnings\n",
    "import matplotlib.pylab as plt"
   ]
  },
  {
   "cell_type": "code",
   "execution_count": 2,
   "id": "8eb03d30-e482-4561-8c3a-56d275d35ac9",
   "metadata": {},
   "outputs": [],
   "source": [
    "from ibvpy.api import TStepBC, TFCyclicNonsymmetricConstant\n",
    "from ibvpy.bcond import BCSlice, BCDof\n",
    "from ibvpy.xmodel.xdomain_fe_grid import XDomainFEGrid\n",
    "from ibvpy.xmodel.xdomain_interface import XDomainFEInterface"
   ]
  },
  {
   "cell_type": "code",
   "execution_count": 3,
   "id": "386f2e9e-8822-4b39-a723-3f755ea493ec",
   "metadata": {},
   "outputs": [],
   "source": [
    "from ibvpy.fets import FETS2D4Q\n",
    "from ibvpy.fets import FETS3D8H\n",
    "from ibvpy.fets.fets1D5 import FETS1D52ULRH"
   ]
  },
  {
   "cell_type": "code",
   "execution_count": 4,
   "id": "eb9547e9-5164-437c-8f5f-af5a5e79ae22",
   "metadata": {},
   "outputs": [],
   "source": [
    "from bmcs_matmod.slide.vslide_34 import Slide34\n",
    "from ibvpy.tmodel.mats3D.mats3D_elastic.vmats3D_elastic import \\\n",
    "    MATS3DElastic\n",
    "from ibvpy.tmodel.mats2D.mats2D_elastic.vmats2D_elastic import \\\n",
    "    MATS2DElastic\n",
    "from bmcs_utils.api import Model"
   ]
  },
  {
   "cell_type": "code",
   "execution_count": 5,
   "id": "0d4c0ca3-88ba-454e-932a-2e40c38beef9",
   "metadata": {},
   "outputs": [],
   "source": [
    "from ibvpy.tmodel.viz3d_scalar_field import \\\n",
    "    Vis3DStateField, Viz3DScalarField\n",
    "from ibvpy.tmodel.viz3d_tensor_field import \\\n",
    "    Vis3DTensorField, Viz3DTensorField"
   ]
  },
  {
   "cell_type": "code",
   "execution_count": 138,
   "id": "1795c631-93ea-4387-9c1e-2f5a66071ad0",
   "metadata": {},
   "outputs": [],
   "source": [
    "n_e = 1\n",
    "L_x = 1.0\n",
    "xd_left = XDomainFEGrid(coord_min=(-1, 0),\n",
    "                          coord_max=(0, 1),\n",
    "                          shape=(1, 1),\n",
    "                          fets=FETS2D4Q())\n",
    "xd_right = XDomainFEGrid(coord_min=(0, 0),\n",
    "                          coord_max=(1, 1),\n",
    "                          shape=(1, 1),\n",
    "                          fets=FETS2D4Q())"
   ]
  },
  {
   "cell_type": "code",
   "execution_count": 139,
   "id": "1a9bc7c9-e8c9-4189-8409-79fc3a7e84d7",
   "metadata": {},
   "outputs": [],
   "source": [
    "m1 = MATS2DElastic(E=28000, nu=0.3)\n",
    "m2 = MATS2DElastic(E=28000, nu=0.3)\n",
    "\n",
    "xd12 = XDomainFEInterface(\n",
    "    I=xd_left.mesh.I[-1, :],\n",
    "    J=xd_right.mesh.I[0, :],\n",
    "    fets=FETS1D52ULRH()\n",
    ")"
   ]
  },
  {
   "cell_type": "code",
   "execution_count": 140,
   "id": "fe2b66b8-9725-4402-86fe-d6aa0591bc6f",
   "metadata": {},
   "outputs": [],
   "source": [
    "material_params = dict(\n",
    "    E_T=10000, gamma_T=4000, K_T=0, S_T=0.01, c_T=2, bartau=5, \n",
    "    E_N=25000, S_N=0.05, c_N = 1, m = 0.008, f_t=5, f_c=150, f_c0=100, eta=0.0 # 0.5\n",
    ")\n",
    "bond_m = Slide34(**material_params)"
   ]
  },
  {
   "cell_type": "code",
   "execution_count": 168,
   "id": "81af23bf-38a9-4075-bdda-69d237d1a8ef",
   "metadata": {},
   "outputs": [],
   "source": [
    "m = TStepBC(\n",
    "    domains=[\n",
    "        (xd_left, m1),\n",
    "        (xd_right, m2),\n",
    "        (xd12, bond_m),\n",
    "    ],\n",
    ")"
   ]
  },
  {
   "cell_type": "markdown",
   "id": "53a225b2-0acc-4241-bee7-9eb1341a3b63",
   "metadata": {},
   "source": [
    "Note that the enumeration of `dofs` within a serialized `fe_domain` is done \n",
    "only after the domains have been registered within the `TStepBC`. Therefore,\n",
    "final numbers of `dofs` are available only here and not before constructing `TStepBC`.\n",
    "Whan manipulating the `dofs` individually - like here - when we want to \n",
    "construct nodal loads, the boundary conditions must be constructed once\n",
    "the subdomains `xd_left`, `xd_right` and `xd12`  have been registered within the `TStepBC`."
   ]
  },
  {
   "cell_type": "markdown",
   "id": "87ee55d2-0271-4bcf-b9dd-10dd71dab289",
   "metadata": {},
   "source": [
    "Since `BCSlice` cannot be used currently with the \n",
    "natural boundary conditions we need to apply the nodal load to the individual degrees of  \n",
    "freedom. To get them, let us misuse BCSlice as a quick access to the dofs. This can be \n",
    "done also directly by accessing the `mesh` object @RC - TODO"
   ]
  },
  {
   "cell_type": "code",
   "execution_count": 169,
   "id": "889e6357-04b7-4f3e-918c-acd1fda9b41d",
   "metadata": {},
   "outputs": [
    {
     "data": {
      "text/plain": [
       "[8, 10, 12, 14]"
      ]
     },
     "execution_count": 169,
     "metadata": {},
     "output_type": "execute_result"
    }
   ],
   "source": [
    "right_control_slice = BCSlice(slice=xd_right.mesh[:, :, :, :],\n",
    "                              var='u', dims=[0], value=0)\n",
    "right_control_dofs = [bc.dof for bc in right_control]\n",
    "right_control_dofs"
   ]
  },
  {
   "cell_type": "markdown",
   "id": "f4e0c951-2c2f-4297-9630-b72feddb0ecb",
   "metadata": {},
   "source": [
    "Control boundary conditions are now defined as nodal values. Define the time function with on unloading cycle."
   ]
  },
  {
   "cell_type": "code",
   "execution_count": 170,
   "id": "6269147c-1a53-42ca-aacb-b2615bdec8db",
   "metadata": {},
   "outputs": [],
   "source": [
    "tf = TFCyclicNonsymmetricConstant(number_of_cycles=2)"
   ]
  },
  {
   "cell_type": "markdown",
   "id": "05c5bf8a-12ab-4eb5-bd2c-8e356141230c",
   "metadata": {},
   "source": [
    "To find out subcritical value of force, run first a displacement control simulation, find out the maximum value.\n",
    "Then divide the obtained peak load with the number of control degrees of freedom, i.e. 4 in our case."
   ]
  },
  {
   "cell_type": "code",
   "execution_count": 171,
   "id": "cc6f44b3-0841-4be7-bff6-9cd9f4fd9c73",
   "metadata": {},
   "outputs": [],
   "source": [
    "disp_control = False\n",
    "if disp_control:\n",
    "    right_control = [BCDof(var='u', dof=dof, value=0.02, time_function=tf ) for dof in right_control_slice.dofs ]\n",
    "else:\n",
    "    F_max = 50 / len(right_control_dofs)\n",
    "    right_control = [BCDof(var='f', dof=dof, value=F_max, time_function=tf ) for dof in right_control_slice.dofs ]"
   ]
  },
  {
   "cell_type": "markdown",
   "id": "dd6641c2-1e9a-409a-b9f5-2ffc2b7df975",
   "metadata": {},
   "source": [
    "Fix the remaining boundary conditions"
   ]
  },
  {
   "cell_type": "code",
   "execution_count": 172,
   "id": "6f028f69-422c-42e2-b19c-464dfcaaac2f",
   "metadata": {},
   "outputs": [],
   "source": [
    "right_fixed = BCSlice(slice=xd_right.mesh[:, :, :, :],\n",
    "                 var='u', dims=[1], value=0)\n",
    "left_fixed = BCSlice(slice=xd_left.mesh[:, :, :, :],\n",
    "                 var='u', dims=[0,1], value=0)\n",
    "bc1 = right_control + [right_fixed, left_fixed]"
   ]
  },
  {
   "cell_type": "code",
   "execution_count": 173,
   "id": "0d6e4ab0-caa9-490e-a728-c5f6737ae386",
   "metadata": {},
   "outputs": [],
   "source": [
    "m.bc=bc1"
   ]
  },
  {
   "cell_type": "code",
   "execution_count": 174,
   "id": "5e733cc6-094f-4705-a287-8af566f108d1",
   "metadata": {},
   "outputs": [],
   "source": [
    "m.hist.vis_record = {\n",
    "    'strain': Vis3DTensorField(var='eps_ab'),\n",
    "}\n",
    "s = m.sim\n",
    "s.tloop.verbose = True # set false to avoid the prints during each increment\n",
    "s.tloop.k_max = 50\n",
    "s.tline.step = 0.005"
   ]
  },
  {
   "cell_type": "code",
   "execution_count": 175,
   "id": "f29b9cf1-affa-44da-ba25-9c75a13e7495",
   "metadata": {},
   "outputs": [
    {
     "name": "stdout",
     "output_type": "stream",
     "text": [
      "t:\t 0.00(0), \n",
      "\t 0.01(1), \n",
      "\t 0.01(1), \n",
      "\t 0.01(1), \n",
      "\t 0.02(1), \n",
      "\t 0.03(1), \n",
      "\t 0.03(27), \n",
      "\t 0.04(27), \n",
      "\t 0.04(27), \n",
      "\t 0.04(27), \n",
      "\t 0.05(27), \n",
      "\t 0.05(27), \n",
      "\t 0.06(27), \n",
      "\t 0.06(27), \n",
      "\t 0.07(27), \n",
      "\t 0.07(27), \n",
      "\t 0.08(27), \n",
      "\t 0.09(27), \n",
      "\t 0.09(27), \n",
      "\t 0.10(27), \n",
      "\t 0.10(27), \n",
      "\t 0.11(28), \n",
      "\t 0.11(28), \n",
      "\t 0.12(28), \n",
      "\t 0.12(28), \n",
      "\t 0.13(28), \n",
      "\t 0.13(28), \n",
      "\t 0.14(28), \n",
      "\t 0.14(28), \n",
      "\t 0.15(29), \n",
      "\t 0.15(29), \n",
      "\t 0.16(29), \n",
      "\t 0.16(29), \n",
      "\t 0.17(29), \n",
      "\t 0.17(30), \n",
      "\t 0.18(30), \n",
      "\t 0.18(30), \n",
      "\t 0.19(31), \n",
      "\t 0.19(31), \n",
      "\t 0.20(31), \n",
      "\t 0.20(32), \n",
      "\t 0.21(32), \n",
      "\t 0.21(33), \n",
      "\t 0.22(33), \n",
      "\t 0.22(34), \n",
      "\t 0.23(34), \n",
      "\t 0.23(35), \n",
      "\t 0.24(36), \n",
      "\t 0.24(37), \n",
      "\t 0.25(38), \n",
      "\t 0.25(39), \n",
      "\t 0.26(1), \n",
      "\t 0.26(1), \n",
      "\t 0.27(1), \n",
      "\t 0.27(1), \n",
      "\t 0.28(1), \n",
      "\t 0.28(1), \n",
      "\t 0.29(1), \n",
      "\t 0.29(1), \n",
      "\t 0.30(1), \n",
      "\t 0.30(1), \n",
      "\t 0.31(1), \n",
      "\t 0.31(1), \n",
      "\t 0.32(1), \n",
      "\t 0.32(1), \n",
      "\t 0.33(1), \n",
      "\t 0.33(1), \n",
      "\t 0.34(1), \n",
      "\t 0.34(1), \n",
      "\t 0.35(21), \n",
      "\t 0.35(24), \n",
      "\t 0.36(24), \n",
      "\t 0.36(24), \n",
      "\t 0.37(24), \n",
      "\t 0.37(24), \n",
      "\t 0.38(25), \n",
      "\t 0.38(25), \n",
      "\t 0.39(25), \n",
      "\t 0.39(25), \n",
      "\t 0.40(25), \n",
      "\t 0.40(25), \n",
      "\t 0.41(25), \n",
      "\t 0.41(25), \n",
      "\t 0.42(25), \n",
      "\t 0.42(25), \n",
      "\t 0.43(25), \n",
      "\t 0.43(25), \n",
      "\t 0.44(26), \n",
      "\t 0.44(26), \n",
      "\t 0.45(26), \n",
      "\t 0.45(26), \n",
      "\t 0.46(26), \n",
      "\t 0.46(26), \n",
      "\t 0.47(26), \n",
      "\t 0.47(26), \n",
      "\t 0.48(26), \n",
      "\t 0.48(26), \n",
      "\t 0.49(26), \n",
      "\t 0.49(26), \n",
      "\t 0.50(26), \n",
      "\t 0.50(26), \n",
      "\t 0.51(1), \n",
      "\t 0.51(1), \n",
      "\t 0.52(1), \n",
      "\t 0.52(1), \n",
      "\t 0.53(1), \n",
      "\t 0.53(1), \n",
      "\t 0.54(1), \n",
      "\t 0.54(1), \n",
      "\t 0.55(1), \n",
      "\t 0.55(1), \n",
      "\t 0.56(1), \n",
      "\t 0.56(1), \n",
      "\t 0.57(1), \n",
      "\t 0.57(1), \n",
      "\t 0.58(1), \n",
      "\t 0.58(1), \n",
      "\t 0.59(1), \n",
      "\t 0.59(1), \n",
      "\t 0.60(28), \n",
      "\t 0.60(30), \n",
      "\t 0.61(30), \n",
      "\t 0.61(30), \n",
      "\t 0.62(30), \n",
      "\t 0.62(30), \n",
      "\t 0.63(30), \n",
      "\t 0.63(31), \n",
      "\t 0.64(31), \n",
      "\t 0.64(31), \n",
      "\t 0.65(31), \n",
      "\t 0.65(31), \n",
      "\t 0.66(32), \n",
      "\t 0.66(32), \n",
      "\t 0.67(32), \n",
      "\t 0.67(32), \n",
      "\t 0.68(33), \n",
      "\t 0.68(33), \n",
      "\t 0.69(33), \n",
      "\t 0.69(33), \n",
      "\t 0.70(34), \n",
      "\t 0.70(34), \n",
      "\t 0.71(35), \n",
      "\t 0.71(35), \n",
      "\t 0.72(35), \n",
      "\t 0.72(36), \n",
      "\t 0.73(36), \n",
      "\t 0.73(37), \n",
      "\t 0.74(37), \n",
      "\t 0.74(38), \n",
      "\t 0.75(38), \n",
      "\t 0.75(39), \n",
      "\t 0.76(1), \n",
      "\t 0.76(1), \n",
      "\t 0.77(1), \n",
      "\t 0.77(1), \n",
      "\t 0.78(1), \n",
      "\t 0.78(1), \n",
      "\t 0.79(1), \n",
      "\t 0.79(1), \n",
      "\t 0.80(1), \n",
      "\t 0.80(1), \n",
      "\t 0.81(1), \n",
      "\t 0.81(1), \n",
      "\t 0.82(1), \n",
      "\t 0.82(1), \n",
      "\t 0.83(1), \n",
      "\t 0.83(1), \n",
      "\t 0.84(1), \n",
      "\t 0.84(24), \n",
      "\t 0.85(25), \n",
      "\t 0.85(25), \n",
      "\t 0.86(26), \n",
      "\t 0.86(26), \n",
      "\t 0.87(26), \n",
      "\t 0.87(26), \n",
      "\t 0.88(26), \n",
      "\t 0.88(26), \n",
      "\t 0.89(26), \n",
      "\t 0.89(26), \n",
      "\t 0.90(27), \n",
      "\t 0.90(27), \n",
      "\t 0.91(27), \n",
      "\t 0.91(27), \n",
      "\t 0.92(27), \n",
      "\t 0.92(27), \n",
      "\t 0.93(27), \n",
      "\t 0.93(27), \n",
      "\t 0.94(27), \n",
      "\t 0.94(27), \n",
      "\t 0.95(27), \n",
      "\t 0.95(28), \n",
      "\t 0.96(28), \n",
      "\t 0.96(28), \n",
      "\t 0.97(28), \n",
      "\t 0.97(28), \n",
      "\t 0.98(28), \n",
      "\t 0.98(28), \n",
      "\t 0.99(28), \n",
      "\t 0.99(28), \n",
      "\t 1.00(28), \n",
      "\t 1.00"
     ]
    },
    {
     "ename": "RuntimeError",
     "evalue": "Factor is exactly singular",
     "output_type": "error",
     "traceback": [
      "\u001b[0;31m---------------------------------------------------------------------------\u001b[0m",
      "\u001b[0;31mRuntimeError\u001b[0m                              Traceback (most recent call last)",
      "\u001b[0;32m<ipython-input-175-370febf66049>\u001b[0m in \u001b[0;36m<module>\u001b[0;34m\u001b[0m\n\u001b[1;32m      1\u001b[0m \u001b[0ms\u001b[0m\u001b[0;34m.\u001b[0m\u001b[0mreset\u001b[0m\u001b[0;34m(\u001b[0m\u001b[0;34m)\u001b[0m\u001b[0;34m\u001b[0m\u001b[0;34m\u001b[0m\u001b[0m\n\u001b[0;32m----> 2\u001b[0;31m \u001b[0ms\u001b[0m\u001b[0;34m.\u001b[0m\u001b[0mrun\u001b[0m\u001b[0;34m(\u001b[0m\u001b[0;34m)\u001b[0m\u001b[0;34m\u001b[0m\u001b[0;34m\u001b[0m\u001b[0m\n\u001b[0m",
      "\u001b[0;32m~/PycharmProjects/bmcs_ibvpy/ibvpy/sim/sim_base.py\u001b[0m in \u001b[0;36mrun\u001b[0;34m(self)\u001b[0m\n\u001b[1;32m     57\u001b[0m         r'''Run a thread if it does not exist - do nothing otherwise\n\u001b[1;32m     58\u001b[0m         '''\n\u001b[0;32m---> 59\u001b[0;31m         \u001b[0mself\u001b[0m\u001b[0;34m.\u001b[0m\u001b[0mtloop\u001b[0m\u001b[0;34m(\u001b[0m\u001b[0;34m)\u001b[0m\u001b[0;34m\u001b[0m\u001b[0;34m\u001b[0m\u001b[0m\n\u001b[0m\u001b[1;32m     60\u001b[0m         \u001b[0;32mreturn\u001b[0m\u001b[0;34m\u001b[0m\u001b[0;34m\u001b[0m\u001b[0m\n\u001b[1;32m     61\u001b[0m \u001b[0;34m\u001b[0m\u001b[0m\n",
      "\u001b[0;32m~/PycharmProjects/bmcs_ibvpy/ibvpy/sim/tloop.py\u001b[0m in \u001b[0;36m__call__\u001b[0;34m(self)\u001b[0m\n\u001b[1;32m     63\u001b[0m     \u001b[0;32mdef\u001b[0m \u001b[0m__call__\u001b[0m\u001b[0;34m(\u001b[0m\u001b[0mself\u001b[0m\u001b[0;34m)\u001b[0m\u001b[0;34m:\u001b[0m\u001b[0;34m\u001b[0m\u001b[0;34m\u001b[0m\u001b[0m\n\u001b[1;32m     64\u001b[0m         \u001b[0mself\u001b[0m\u001b[0;34m.\u001b[0m\u001b[0minit\u001b[0m\u001b[0;34m(\u001b[0m\u001b[0;34m)\u001b[0m\u001b[0;34m\u001b[0m\u001b[0;34m\u001b[0m\u001b[0m\n\u001b[0;32m---> 65\u001b[0;31m         \u001b[0;32mreturn\u001b[0m \u001b[0mself\u001b[0m\u001b[0;34m.\u001b[0m\u001b[0meval\u001b[0m\u001b[0;34m(\u001b[0m\u001b[0;34m)\u001b[0m\u001b[0;34m\u001b[0m\u001b[0;34m\u001b[0m\u001b[0m\n\u001b[0m",
      "\u001b[0;32m~/PycharmProjects/bmcs_ibvpy/ibvpy/sim/tloop_implicit.py\u001b[0m in \u001b[0;36meval\u001b[0;34m(self)\u001b[0m\n\u001b[1;32m     43\u001b[0m                     \u001b[0mself\u001b[0m\u001b[0;34m.\u001b[0m\u001b[0mtstep\u001b[0m\u001b[0;34m.\u001b[0m\u001b[0mmake_iter\u001b[0m\u001b[0;34m(\u001b[0m\u001b[0;34m)\u001b[0m\u001b[0;34m\u001b[0m\u001b[0;34m\u001b[0m\u001b[0m\n\u001b[1;32m     44\u001b[0m                 \u001b[0;32mexcept\u001b[0m \u001b[0mRuntimeError\u001b[0m \u001b[0;32mas\u001b[0m \u001b[0me\u001b[0m\u001b[0;34m:\u001b[0m\u001b[0;34m\u001b[0m\u001b[0;34m\u001b[0m\u001b[0m\n\u001b[0;32m---> 45\u001b[0;31m                     \u001b[0;32mraise\u001b[0m\u001b[0;34m(\u001b[0m\u001b[0me\u001b[0m\u001b[0;34m)\u001b[0m\u001b[0;34m\u001b[0m\u001b[0;34m\u001b[0m\u001b[0m\n\u001b[0m\u001b[1;32m     46\u001b[0m                 \u001b[0mk\u001b[0m \u001b[0;34m+=\u001b[0m \u001b[0;36m1\u001b[0m\u001b[0;34m\u001b[0m\u001b[0;34m\u001b[0m\u001b[0m\n\u001b[1;32m     47\u001b[0m             \u001b[0;32melse\u001b[0m\u001b[0;34m:\u001b[0m  \u001b[0;31m# handle unfinished iteration loop\u001b[0m\u001b[0;34m\u001b[0m\u001b[0;34m\u001b[0m\u001b[0m\n",
      "\u001b[0;32m~/PycharmProjects/bmcs_ibvpy/ibvpy/sim/tloop_implicit.py\u001b[0m in \u001b[0;36meval\u001b[0;34m(self)\u001b[0m\n\u001b[1;32m     41\u001b[0m                     \u001b[0;32mbreak\u001b[0m\u001b[0;34m\u001b[0m\u001b[0;34m\u001b[0m\u001b[0m\n\u001b[1;32m     42\u001b[0m                 \u001b[0;32mtry\u001b[0m\u001b[0;34m:\u001b[0m\u001b[0;34m\u001b[0m\u001b[0;34m\u001b[0m\u001b[0m\n\u001b[0;32m---> 43\u001b[0;31m                     \u001b[0mself\u001b[0m\u001b[0;34m.\u001b[0m\u001b[0mtstep\u001b[0m\u001b[0;34m.\u001b[0m\u001b[0mmake_iter\u001b[0m\u001b[0;34m(\u001b[0m\u001b[0;34m)\u001b[0m\u001b[0;34m\u001b[0m\u001b[0;34m\u001b[0m\u001b[0m\n\u001b[0m\u001b[1;32m     44\u001b[0m                 \u001b[0;32mexcept\u001b[0m \u001b[0mRuntimeError\u001b[0m \u001b[0;32mas\u001b[0m \u001b[0me\u001b[0m\u001b[0;34m:\u001b[0m\u001b[0;34m\u001b[0m\u001b[0;34m\u001b[0m\u001b[0m\n\u001b[1;32m     45\u001b[0m                     \u001b[0;32mraise\u001b[0m\u001b[0;34m(\u001b[0m\u001b[0me\u001b[0m\u001b[0;34m)\u001b[0m\u001b[0;34m\u001b[0m\u001b[0;34m\u001b[0m\u001b[0m\n",
      "\u001b[0;32m~/PycharmProjects/bmcs_ibvpy/ibvpy/sim/tstep_bc.py\u001b[0m in \u001b[0;36mmake_iter\u001b[0;34m(self)\u001b[0m\n\u001b[1;32m    147\u001b[0m         '''Perform a single iteration\n\u001b[1;32m    148\u001b[0m         '''\n\u001b[0;32m--> 149\u001b[0;31m         \u001b[0md_U_k\u001b[0m\u001b[0;34m,\u001b[0m \u001b[0mpos_def\u001b[0m \u001b[0;34m=\u001b[0m \u001b[0mself\u001b[0m\u001b[0;34m.\u001b[0m\u001b[0mK\u001b[0m\u001b[0;34m.\u001b[0m\u001b[0msolve\u001b[0m\u001b[0;34m(\u001b[0m\u001b[0mcheck_pos_def\u001b[0m\u001b[0;34m=\u001b[0m\u001b[0;32mTrue\u001b[0m\u001b[0;34m)\u001b[0m\u001b[0;34m\u001b[0m\u001b[0;34m\u001b[0m\u001b[0m\n\u001b[0m\u001b[1;32m    150\u001b[0m         \u001b[0;32mif\u001b[0m \u001b[0mself\u001b[0m\u001b[0;34m.\u001b[0m\u001b[0mdebug\u001b[0m\u001b[0;34m:\u001b[0m\u001b[0;34m\u001b[0m\u001b[0;34m\u001b[0m\u001b[0m\n\u001b[1;32m    151\u001b[0m             \u001b[0mprint\u001b[0m\u001b[0;34m(\u001b[0m\u001b[0;34m'positive definite'\u001b[0m\u001b[0;34m,\u001b[0m \u001b[0mpos_def\u001b[0m\u001b[0;34m)\u001b[0m\u001b[0;34m\u001b[0m\u001b[0;34m\u001b[0m\u001b[0m\n",
      "\u001b[0;32m~/PycharmProjects/bmcs_ibvpy/ibvpy/mathkit/linalg/sys_mtx_assembly.py\u001b[0m in \u001b[0;36msolve\u001b[0;34m(self, rhs, matrix_type, check_pos_def)\u001b[0m\n\u001b[1;32m    267\u001b[0m \u001b[0;34m\u001b[0m\u001b[0m\n\u001b[1;32m    268\u001b[0m         \u001b[0mmtx\u001b[0m \u001b[0;34m=\u001b[0m \u001b[0mself\u001b[0m\u001b[0;34m.\u001b[0m\u001b[0mmatrix_type_\u001b[0m\u001b[0;34m(\u001b[0m\u001b[0massemb\u001b[0m\u001b[0;34m=\u001b[0m\u001b[0mself\u001b[0m\u001b[0;34m)\u001b[0m\u001b[0;34m\u001b[0m\u001b[0;34m\u001b[0m\u001b[0m\n\u001b[0;32m--> 269\u001b[0;31m         \u001b[0;32mreturn\u001b[0m \u001b[0mmtx\u001b[0m\u001b[0;34m.\u001b[0m\u001b[0msolve\u001b[0m\u001b[0;34m(\u001b[0m\u001b[0mself\u001b[0m\u001b[0;34m.\u001b[0m\u001b[0m_rhs\u001b[0m\u001b[0;34m,\u001b[0m \u001b[0mcheck_pos_def\u001b[0m\u001b[0;34m)\u001b[0m\u001b[0;34m\u001b[0m\u001b[0;34m\u001b[0m\u001b[0m\n\u001b[0m\u001b[1;32m    270\u001b[0m \u001b[0;34m\u001b[0m\u001b[0m\n\u001b[1;32m    271\u001b[0m     \u001b[0;32mdef\u001b[0m \u001b[0mreset\u001b[0m\u001b[0;34m(\u001b[0m\u001b[0mself\u001b[0m\u001b[0;34m)\u001b[0m\u001b[0;34m:\u001b[0m\u001b[0;34m\u001b[0m\u001b[0;34m\u001b[0m\u001b[0m\n",
      "\u001b[0;32m~/PycharmProjects/bmcs_ibvpy/ibvpy/mathkit/linalg/coo_mtx.py\u001b[0m in \u001b[0;36msolve\u001b[0;34m(self, rhs, check_pos_dev)\u001b[0m\n\u001b[1;32m     77\u001b[0m         \u001b[0mpos_def\u001b[0m \u001b[0;34m=\u001b[0m \u001b[0;32mTrue\u001b[0m\u001b[0;34m\u001b[0m\u001b[0;34m\u001b[0m\u001b[0m\n\u001b[1;32m     78\u001b[0m         \u001b[0;32mif\u001b[0m \u001b[0mcheck_pos_dev\u001b[0m\u001b[0;34m:\u001b[0m\u001b[0;34m\u001b[0m\u001b[0;34m\u001b[0m\u001b[0m\n\u001b[0;32m---> 79\u001b[0;31m             \u001b[0mevals_small\u001b[0m\u001b[0;34m,\u001b[0m \u001b[0mevecs_small\u001b[0m \u001b[0;34m=\u001b[0m \u001b[0meigsh\u001b[0m\u001b[0;34m(\u001b[0m\u001b[0mmtx_csr\u001b[0m\u001b[0;34m,\u001b[0m \u001b[0;36m3\u001b[0m\u001b[0;34m,\u001b[0m \u001b[0msigma\u001b[0m\u001b[0;34m=\u001b[0m\u001b[0;36m0\u001b[0m\u001b[0;34m,\u001b[0m \u001b[0mwhich\u001b[0m\u001b[0;34m=\u001b[0m\u001b[0;34m'LM'\u001b[0m\u001b[0;34m)\u001b[0m\u001b[0;34m\u001b[0m\u001b[0;34m\u001b[0m\u001b[0m\n\u001b[0m\u001b[1;32m     80\u001b[0m             \u001b[0mmin_eval\u001b[0m \u001b[0;34m=\u001b[0m \u001b[0mnp\u001b[0m\u001b[0;34m.\u001b[0m\u001b[0mmin\u001b[0m\u001b[0;34m(\u001b[0m\u001b[0mevals_small\u001b[0m\u001b[0;34m)\u001b[0m\u001b[0;34m\u001b[0m\u001b[0;34m\u001b[0m\u001b[0m\n\u001b[1;32m     81\u001b[0m             \u001b[0mpos_def\u001b[0m \u001b[0;34m=\u001b[0m \u001b[0mmin_eval\u001b[0m \u001b[0;34m>\u001b[0m \u001b[0;36m1e-10\u001b[0m\u001b[0;34m\u001b[0m\u001b[0;34m\u001b[0m\u001b[0m\n",
      "\u001b[0;32m~/miniconda3/envs/bmcs_env/lib/python3.8/site-packages/scipy/sparse/linalg/eigen/arpack/arpack.py\u001b[0m in \u001b[0;36meigsh\u001b[0;34m(A, k, M, sigma, which, v0, ncv, maxiter, tol, return_eigenvectors, Minv, OPinv, mode)\u001b[0m\n\u001b[1;32m   1642\u001b[0m             \u001b[0mmatvec\u001b[0m \u001b[0;34m=\u001b[0m \u001b[0;32mNone\u001b[0m\u001b[0;34m\u001b[0m\u001b[0;34m\u001b[0m\u001b[0m\n\u001b[1;32m   1643\u001b[0m             \u001b[0;32mif\u001b[0m \u001b[0mOPinv\u001b[0m \u001b[0;32mis\u001b[0m \u001b[0;32mNone\u001b[0m\u001b[0;34m:\u001b[0m\u001b[0;34m\u001b[0m\u001b[0;34m\u001b[0m\u001b[0m\n\u001b[0;32m-> 1644\u001b[0;31m                 Minv_matvec = get_OPinv_matvec(A, M, sigma,\n\u001b[0m\u001b[1;32m   1645\u001b[0m                                                hermitian=True, tol=tol)\n\u001b[1;32m   1646\u001b[0m             \u001b[0;32melse\u001b[0m\u001b[0;34m:\u001b[0m\u001b[0;34m\u001b[0m\u001b[0;34m\u001b[0m\u001b[0m\n",
      "\u001b[0;32m~/miniconda3/envs/bmcs_env/lib/python3.8/site-packages/scipy/sparse/linalg/eigen/arpack/arpack.py\u001b[0m in \u001b[0;36mget_OPinv_matvec\u001b[0;34m(A, M, sigma, hermitian, tol)\u001b[0m\n\u001b[1;32m   1056\u001b[0m \u001b[0;32mdef\u001b[0m \u001b[0mget_OPinv_matvec\u001b[0m\u001b[0;34m(\u001b[0m\u001b[0mA\u001b[0m\u001b[0;34m,\u001b[0m \u001b[0mM\u001b[0m\u001b[0;34m,\u001b[0m \u001b[0msigma\u001b[0m\u001b[0;34m,\u001b[0m \u001b[0mhermitian\u001b[0m\u001b[0;34m=\u001b[0m\u001b[0;32mFalse\u001b[0m\u001b[0;34m,\u001b[0m \u001b[0mtol\u001b[0m\u001b[0;34m=\u001b[0m\u001b[0;36m0\u001b[0m\u001b[0;34m)\u001b[0m\u001b[0;34m:\u001b[0m\u001b[0;34m\u001b[0m\u001b[0;34m\u001b[0m\u001b[0m\n\u001b[1;32m   1057\u001b[0m     \u001b[0;32mif\u001b[0m \u001b[0msigma\u001b[0m \u001b[0;34m==\u001b[0m \u001b[0;36m0\u001b[0m\u001b[0;34m:\u001b[0m\u001b[0;34m\u001b[0m\u001b[0;34m\u001b[0m\u001b[0m\n\u001b[0;32m-> 1058\u001b[0;31m         \u001b[0;32mreturn\u001b[0m \u001b[0mget_inv_matvec\u001b[0m\u001b[0;34m(\u001b[0m\u001b[0mA\u001b[0m\u001b[0;34m,\u001b[0m \u001b[0mhermitian\u001b[0m\u001b[0;34m=\u001b[0m\u001b[0mhermitian\u001b[0m\u001b[0;34m,\u001b[0m \u001b[0mtol\u001b[0m\u001b[0;34m=\u001b[0m\u001b[0mtol\u001b[0m\u001b[0;34m)\u001b[0m\u001b[0;34m\u001b[0m\u001b[0;34m\u001b[0m\u001b[0m\n\u001b[0m\u001b[1;32m   1059\u001b[0m \u001b[0;34m\u001b[0m\u001b[0m\n\u001b[1;32m   1060\u001b[0m     \u001b[0;32mif\u001b[0m \u001b[0mM\u001b[0m \u001b[0;32mis\u001b[0m \u001b[0;32mNone\u001b[0m\u001b[0;34m:\u001b[0m\u001b[0;34m\u001b[0m\u001b[0;34m\u001b[0m\u001b[0m\n",
      "\u001b[0;32m~/miniconda3/envs/bmcs_env/lib/python3.8/site-packages/scipy/sparse/linalg/eigen/arpack/arpack.py\u001b[0m in \u001b[0;36mget_inv_matvec\u001b[0;34m(M, hermitian, tol)\u001b[0m\n\u001b[1;32m   1049\u001b[0m     \u001b[0;32melif\u001b[0m \u001b[0misspmatrix\u001b[0m\u001b[0;34m(\u001b[0m\u001b[0mM\u001b[0m\u001b[0;34m)\u001b[0m \u001b[0;32mor\u001b[0m \u001b[0mis_pydata_spmatrix\u001b[0m\u001b[0;34m(\u001b[0m\u001b[0mM\u001b[0m\u001b[0;34m)\u001b[0m\u001b[0;34m:\u001b[0m\u001b[0;34m\u001b[0m\u001b[0;34m\u001b[0m\u001b[0m\n\u001b[1;32m   1050\u001b[0m         \u001b[0mM\u001b[0m \u001b[0;34m=\u001b[0m \u001b[0m_fast_spmatrix_to_csc\u001b[0m\u001b[0;34m(\u001b[0m\u001b[0mM\u001b[0m\u001b[0;34m,\u001b[0m \u001b[0mhermitian\u001b[0m\u001b[0;34m=\u001b[0m\u001b[0mhermitian\u001b[0m\u001b[0;34m)\u001b[0m\u001b[0;34m\u001b[0m\u001b[0;34m\u001b[0m\u001b[0m\n\u001b[0;32m-> 1051\u001b[0;31m         \u001b[0;32mreturn\u001b[0m \u001b[0mSpLuInv\u001b[0m\u001b[0;34m(\u001b[0m\u001b[0mM\u001b[0m\u001b[0;34m)\u001b[0m\u001b[0;34m.\u001b[0m\u001b[0mmatvec\u001b[0m\u001b[0;34m\u001b[0m\u001b[0;34m\u001b[0m\u001b[0m\n\u001b[0m\u001b[1;32m   1052\u001b[0m     \u001b[0;32melse\u001b[0m\u001b[0;34m:\u001b[0m\u001b[0;34m\u001b[0m\u001b[0;34m\u001b[0m\u001b[0m\n\u001b[1;32m   1053\u001b[0m         \u001b[0;32mreturn\u001b[0m \u001b[0mIterInv\u001b[0m\u001b[0;34m(\u001b[0m\u001b[0mM\u001b[0m\u001b[0;34m,\u001b[0m \u001b[0mtol\u001b[0m\u001b[0;34m=\u001b[0m\u001b[0mtol\u001b[0m\u001b[0;34m)\u001b[0m\u001b[0;34m.\u001b[0m\u001b[0mmatvec\u001b[0m\u001b[0;34m\u001b[0m\u001b[0;34m\u001b[0m\u001b[0m\n",
      "\u001b[0;32m~/miniconda3/envs/bmcs_env/lib/python3.8/site-packages/scipy/sparse/linalg/eigen/arpack/arpack.py\u001b[0m in \u001b[0;36m__init__\u001b[0;34m(self, M)\u001b[0m\n\u001b[1;32m    911\u001b[0m     \"\"\"\n\u001b[1;32m    912\u001b[0m     \u001b[0;32mdef\u001b[0m \u001b[0m__init__\u001b[0m\u001b[0;34m(\u001b[0m\u001b[0mself\u001b[0m\u001b[0;34m,\u001b[0m \u001b[0mM\u001b[0m\u001b[0;34m)\u001b[0m\u001b[0;34m:\u001b[0m\u001b[0;34m\u001b[0m\u001b[0;34m\u001b[0m\u001b[0m\n\u001b[0;32m--> 913\u001b[0;31m         \u001b[0mself\u001b[0m\u001b[0;34m.\u001b[0m\u001b[0mM_lu\u001b[0m \u001b[0;34m=\u001b[0m \u001b[0msplu\u001b[0m\u001b[0;34m(\u001b[0m\u001b[0mM\u001b[0m\u001b[0;34m)\u001b[0m\u001b[0;34m\u001b[0m\u001b[0;34m\u001b[0m\u001b[0m\n\u001b[0m\u001b[1;32m    914\u001b[0m         \u001b[0mself\u001b[0m\u001b[0;34m.\u001b[0m\u001b[0mshape\u001b[0m \u001b[0;34m=\u001b[0m \u001b[0mM\u001b[0m\u001b[0;34m.\u001b[0m\u001b[0mshape\u001b[0m\u001b[0;34m\u001b[0m\u001b[0;34m\u001b[0m\u001b[0m\n\u001b[1;32m    915\u001b[0m         \u001b[0mself\u001b[0m\u001b[0;34m.\u001b[0m\u001b[0mdtype\u001b[0m \u001b[0;34m=\u001b[0m \u001b[0mM\u001b[0m\u001b[0;34m.\u001b[0m\u001b[0mdtype\u001b[0m\u001b[0;34m\u001b[0m\u001b[0;34m\u001b[0m\u001b[0m\n",
      "\u001b[0;32m~/miniconda3/envs/bmcs_env/lib/python3.8/site-packages/scipy/sparse/linalg/dsolve/linsolve.py\u001b[0m in \u001b[0;36msplu\u001b[0;34m(A, permc_spec, diag_pivot_thresh, relax, panel_size, options)\u001b[0m\n\u001b[1;32m    335\u001b[0m         \u001b[0m_options\u001b[0m\u001b[0;34m[\u001b[0m\u001b[0;34m\"SymmetricMode\"\u001b[0m\u001b[0;34m]\u001b[0m \u001b[0;34m=\u001b[0m \u001b[0;32mTrue\u001b[0m\u001b[0;34m\u001b[0m\u001b[0;34m\u001b[0m\u001b[0m\n\u001b[1;32m    336\u001b[0m \u001b[0;34m\u001b[0m\u001b[0m\n\u001b[0;32m--> 337\u001b[0;31m     return _superlu.gstrf(N, A.nnz, A.data, A.indices, A.indptr,\n\u001b[0m\u001b[1;32m    338\u001b[0m                           \u001b[0mcsc_construct_func\u001b[0m\u001b[0;34m=\u001b[0m\u001b[0mcsc_construct_func\u001b[0m\u001b[0;34m,\u001b[0m\u001b[0;34m\u001b[0m\u001b[0;34m\u001b[0m\u001b[0m\n\u001b[1;32m    339\u001b[0m                           ilu=False, options=_options)\n",
      "\u001b[0;31mRuntimeError\u001b[0m: Factor is exactly singular"
     ]
    }
   ],
   "source": [
    "s.reset()\n",
    "s.run()"
   ]
  },
  {
   "cell_type": "code",
   "execution_count": 176,
   "id": "67618caf-92c0-4484-809a-9ce26c740666",
   "metadata": {},
   "outputs": [
    {
     "data": {
      "application/vnd.jupyter.widget-view+json": {
       "model_id": "d0cddb13640d48638428b9adaf97f52c",
       "version_major": 2,
       "version_minor": 0
      },
      "text/plain": [
       "Canvas(toolbar=Toolbar(toolitems=[('Home', 'Reset original view', 'home', 'home'), ('Back', 'Back to previous …"
      ]
     },
     "metadata": {},
     "output_type": "display_data"
    },
    {
     "data": {
      "text/plain": [
       "[<matplotlib.lines.Line2D at 0x7fd9155c1bb0>]"
      ]
     },
     "execution_count": 176,
     "metadata": {},
     "output_type": "execute_result"
    }
   ],
   "source": [
    "F_to = m.hist.F_t\n",
    "U_to = m.hist.U_t\n",
    "right_control_dofs = [bc.dof for bc in right_control]\n",
    "F_l_t = np.sum(F_to[:, right_control_dofs], axis=-1)\n",
    "U_r_t = np.average(U_to[:, right_control_dofs], axis=-1)\n",
    "_, ax = plt.subplots(1,1)\n",
    "ax.plot(U_r_t, F_l_t)"
   ]
  },
  {
   "cell_type": "code",
   "execution_count": 18,
   "id": "fb0591bc-a4b2-4421-81d3-34fa70acfef5",
   "metadata": {},
   "outputs": [],
   "source": [
    "if False:\n",
    "    mlab.options.backend = 'envisage'\n",
    "    mlab.options.offscreen = False # 'envisage'\n",
    "    f_strain = mlab.figure()\n",
    "    scene = mlab.get_engine().scenes[-1]\n",
    "    scene.name = 'strain'\n",
    "    strain_viz = Viz3DTensorField(vis3d=m.hist['strain'])\n",
    "    strain_viz.setup()\n",
    "    strain_viz.warp_vector.filter.scale_factor = 0.1\n",
    "    strain_viz.plot(s.tstep.t_n)\n",
    "    mlab.show()"
   ]
  },
  {
   "cell_type": "code",
   "execution_count": 14,
   "id": "5bd2a5ed-fe0b-4f47-9931-c8b7d2d01090",
   "metadata": {},
   "outputs": [
    {
     "data": {
      "text/plain": [
       "{'w_pi': array([[8.73010605e-05, 8.73010605e-05]]),\n",
       " 's_pi_x': array([[-0.01612612, -0.01612612]]),\n",
       " 's_pi_y': array([[0., 0.]]),\n",
       " 'z': array([[0.00873011, 0.00873011]]),\n",
       " 'alpha_x': array([[-0.00873011, -0.00873011]]),\n",
       " 'alpha_y': array([[0., 0.]]),\n",
       " 'omega_T': array([[0.73568455, 0.73568455]]),\n",
       " 'omega_N': array([[0., 0.]]),\n",
       " 'sig_pi': array([[0., 0.]]),\n",
       " 'tau_pi_x': array([[0., 0.]]),\n",
       " 'tau_pi_y': array([[0., 0.]]),\n",
       " 'Z': array([[0., 0.]]),\n",
       " 'X_x': array([[0., 0.]]),\n",
       " 'X_y': array([[0., 0.]]),\n",
       " 'Y_T': array([[0., 0.]]),\n",
       " 'Y_N': array([[0., 0.]])}"
      ]
     },
     "execution_count": 14,
     "metadata": {},
     "output_type": "execute_result"
    }
   ],
   "source": [
    "m.fe_domain[2].state_n"
   ]
  },
  {
   "cell_type": "code",
   "execution_count": null,
   "id": "452fbc51-57de-4cb1-acb3-6ea684eeea78",
   "metadata": {},
   "outputs": [],
   "source": []
  }
 ],
 "metadata": {
  "kernelspec": {
   "display_name": "bmcs_env",
   "language": "python",
   "name": "bmcs_env"
  },
  "language_info": {
   "codemirror_mode": {
    "name": "ipython",
    "version": 3
   },
   "file_extension": ".py",
   "mimetype": "text/x-python",
   "name": "python",
   "nbconvert_exporter": "python",
   "pygments_lexer": "ipython3",
   "version": "3.8.8"
  }
 },
 "nbformat": 4,
 "nbformat_minor": 5
}
