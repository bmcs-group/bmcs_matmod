{
 "cells": [
  {
   "cell_type": "markdown",
   "id": "dbc9a6d4-2a8f-4333-b64e-762210c2e134",
   "metadata": {},
   "source": [
    "# Single facet simulation"
   ]
  },
  {
   "cell_type": "markdown",
   "id": "f03856d8-e347-42ec-8039-85a4cd049e94",
   "metadata": {},
   "source": [
    "TODO\n",
    " - Section 1 - costruct a displacement controlled model and show the load displacement curve for\n",
    "   sliding\n",
    " - Section 2 - with the identified "
   ]
  },
  {
   "cell_type": "code",
   "execution_count": 1,
   "id": "9d61e064-7bd0-4ed3-a41e-421658cc56fe",
   "metadata": {},
   "outputs": [],
   "source": [
    "%matplotlib widget\n",
    "import time\n",
    "from bmcs_expsim.utils.mlab_decorators import decorate_figure\n",
    "from mayavi import mlab\n",
    "import numpy as np\n",
    "np.seterr(divide='ignore', invalid='ignore') \n",
    "import warnings\n",
    "import matplotlib.pylab as plt"
   ]
  },
  {
   "cell_type": "code",
   "execution_count": 2,
   "id": "8eb03d30-e482-4561-8c3a-56d275d35ac9",
   "metadata": {},
   "outputs": [],
   "source": [
    "from ibvpy.api import TStepBC, TFCyclicNonsymmetricConstant\n",
    "from ibvpy.bcond import BCSlice, BCDof\n",
    "from ibvpy.xmodel.xdomain_fe_grid import XDomainFEGrid\n",
    "from ibvpy.xmodel.xdomain_interface import XDomainFEInterface"
   ]
  },
  {
   "cell_type": "code",
   "execution_count": 3,
   "id": "386f2e9e-8822-4b39-a723-3f755ea493ec",
   "metadata": {},
   "outputs": [],
   "source": [
    "from ibvpy.fets import FETS2D4Q\n",
    "from ibvpy.fets import FETS3D8H\n",
    "from ibvpy.fets.fets1D5 import FETS1D52ULRH"
   ]
  },
  {
   "cell_type": "code",
   "execution_count": 4,
   "id": "eb9547e9-5164-437c-8f5f-af5a5e79ae22",
   "metadata": {},
   "outputs": [],
   "source": [
    "from bmcs_matmod.slide.vslide_34 import Slide34\n",
    "from ibvpy.tmodel.mats3D.mats3D_elastic.vmats3D_elastic import \\\n",
    "    MATS3DElastic\n",
    "from ibvpy.tmodel.mats2D.mats2D_elastic.vmats2D_elastic import \\\n",
    "    MATS2DElastic\n",
    "from bmcs_utils.api import Model"
   ]
  },
  {
   "cell_type": "code",
   "execution_count": 5,
   "id": "0d4c0ca3-88ba-454e-932a-2e40c38beef9",
   "metadata": {},
   "outputs": [],
   "source": [
    "from ibvpy.tmodel.viz3d_scalar_field import \\\n",
    "    Vis3DStateField, Viz3DScalarField\n",
    "from ibvpy.tmodel.viz3d_tensor_field import \\\n",
    "    Vis3DTensorField, Viz3DTensorField"
   ]
  },
  {
   "cell_type": "code",
   "execution_count": 6,
   "id": "1795c631-93ea-4387-9c1e-2f5a66071ad0",
   "metadata": {},
   "outputs": [
    {
     "data": {
      "text/plain": [
       "(slice(None, None, None), slice(None, None, None))"
      ]
     },
     "execution_count": 6,
     "metadata": {},
     "output_type": "execute_result"
    }
   ],
   "source": [
    "n_e = 1\n",
    "L_x = 1.0\n",
    "xd_left = XDomainFEGrid(coord_min=(-1, 0),\n",
    "                          coord_max=(0, 1),\n",
    "                          shape=(1, 1),\n",
    "                          fets=FETS2D4Q())\n",
    "xd_right = XDomainFEGrid(coord_min=(0, 0),\n",
    "                          coord_max=(1, 1),\n",
    "                          shape=(1, 1),\n",
    "                          fets=FETS2D4Q())\n",
    "xd_left.mesh.I[:, :]"
   ]
  },
  {
   "cell_type": "code",
   "execution_count": 7,
   "id": "1a9bc7c9-e8c9-4189-8409-79fc3a7e84d7",
   "metadata": {},
   "outputs": [],
   "source": [
    "m1 = MATS2DElastic(E=28000, nu=0.3)\n",
    "m2 = MATS2DElastic(E=28000, nu=0.3)\n",
    "\n",
    "xd12 = XDomainFEInterface(\n",
    "    I=xd_left.mesh.I[-1, :],\n",
    "    J=xd_right.mesh.I[0, :],\n",
    "    fets=FETS1D52ULRH()\n",
    ")"
   ]
  },
  {
   "cell_type": "code",
   "execution_count": 8,
   "id": "fe2b66b8-9725-4402-86fe-d6aa0591bc6f",
   "metadata": {},
   "outputs": [],
   "source": [
    "material_params = dict(\n",
    "    E_T=10000, gamma_T=4000, K_T=0, S_T=0.01, c_T=2, bartau=5, \n",
    "    E_N=25000, S_N=0.05, c_N = 1, m = 0.008, f_t=5, f_c=150, f_c0=100, eta=0.0 # 0.5\n",
    ")\n",
    "bond_m = Slide34(**material_params)"
   ]
  },
  {
   "cell_type": "code",
   "execution_count": 9,
   "id": "81af23bf-38a9-4075-bdda-69d237d1a8ef",
   "metadata": {},
   "outputs": [],
   "source": [
    "m = TStepBC(\n",
    "    domains=[\n",
    "        (xd_left, m1),\n",
    "        (xd_right, m2),\n",
    "        (xd12, bond_m),\n",
    "    ],\n",
    ")"
   ]
  },
  {
   "cell_type": "markdown",
   "id": "53a225b2-0acc-4241-bee7-9eb1341a3b63",
   "metadata": {},
   "source": [
    "Note that the enumeration of `dofs` within a serialized `fe_domain` is done \n",
    "only after the domains have been registered within the `TStepBC`. Therefore,\n",
    "final numbers of `dofs` are available only here and not before constructing `TStepBC`.\n",
    "Whan manipulating the `dofs` individually - like here - when we want to \n",
    "construct nodal loads, the boundary conditions must be constructed once\n",
    "the subdomains `xd_left`, `xd_right` and `xd12`  have been registered within the `TStepBC`."
   ]
  },
  {
   "cell_type": "markdown",
   "id": "87ee55d2-0271-4bcf-b9dd-10dd71dab289",
   "metadata": {},
   "source": [
    "Since `BCSlice` cannot be used currently with the \n",
    "natural boundary conditions we need to apply the nodal load to the individual degrees of freedom. To get them, let us misuse BCSlice as a quick access to the dofs. This can be \n",
    "done also directly by accessing the `mesh` object @RC - TODO"
   ]
  },
  {
   "cell_type": "markdown",
   "id": "f4e0c951-2c2f-4297-9630-b72feddb0ecb",
   "metadata": {},
   "source": [
    "Control boundary conditions are now defined as nodal values. Define the time function with on unloading cycle."
   ]
  },
  {
   "cell_type": "code",
   "execution_count": 10,
   "id": "6269147c-1a53-42ca-aacb-b2615bdec8db",
   "metadata": {},
   "outputs": [
    {
     "data": {
      "application/vnd.jupyter.widget-view+json": {
       "model_id": "4e82c30243994fa78d57ccc9f2e51823",
       "version_major": 2,
       "version_minor": 0
      },
      "text/plain": [
       "VBox(children=(HBox(children=(VBox(children=(Tree(layout=Layout(align_items='stretch', border='solid 1px black…"
      ]
     },
     "metadata": {},
     "output_type": "display_data"
    }
   ],
   "source": [
    "tf = TFCyclicNonsymmetricConstant(number_of_cycles=2, unloading_ratio=0.2)\n",
    "tf.interact()"
   ]
  },
  {
   "cell_type": "markdown",
   "id": "05c5bf8a-12ab-4eb5-bd2c-8e356141230c",
   "metadata": {},
   "source": [
    "To find out subcritical value of force, run first a displacement control simulation, find out the maximum value.\n",
    "Then divide the obtained peak load with the number of control degrees of freedom, i.e. 4 in our case."
   ]
  },
  {
   "cell_type": "code",
   "execution_count": 11,
   "id": "889e6357-04b7-4f3e-918c-acd1fda9b41d",
   "metadata": {},
   "outputs": [
    {
     "data": {
      "text/plain": [
       "array([ 9, 11, 13, 15])"
      ]
     },
     "execution_count": 11,
     "metadata": {},
     "output_type": "execute_result"
    }
   ],
   "source": [
    "load_dim = 1 # \n",
    "fixed_dim = 0 # 0 - x, 1 - y\n",
    "right_control_slice = BCSlice(slice=xd_right.mesh[:, :, :, :],\n",
    "                              var='u', dims=[load_dim], value=0)\n",
    "right_control_dofs = right_control_slice.dofs\n",
    "right_control_dofs"
   ]
  },
  {
   "cell_type": "code",
   "execution_count": 12,
   "id": "cc6f44b3-0841-4be7-bff6-9cd9f4fd9c73",
   "metadata": {},
   "outputs": [],
   "source": [
    "disp_control = True\n",
    "if disp_control:\n",
    "    right_control = [BCDof(var='u', dof=dof, value=0.001, time_function=tf ) \n",
    "                     for dof in right_control_dofs ]\n",
    "else:\n",
    "    F_max = 50 / len(right_control_dofs)\n",
    "    right_control = [BCDof(var='f', dof=dof, value=F_max, time_function=tf ) \n",
    "                     for dof in right_control_dofs ]"
   ]
  },
  {
   "cell_type": "markdown",
   "id": "dd6641c2-1e9a-409a-b9f5-2ffc2b7df975",
   "metadata": {},
   "source": [
    "Fix the remaining boundary conditions"
   ]
  },
  {
   "cell_type": "code",
   "execution_count": 13,
   "id": "6f028f69-422c-42e2-b19c-464dfcaaac2f",
   "metadata": {},
   "outputs": [],
   "source": [
    "right_fixed = BCSlice(slice=xd_right.mesh[:, :, :, :],\n",
    "                 var='u', dims=[fixed_dim], value=0)\n",
    "left_fixed = BCSlice(slice=xd_left.mesh[:, :, :, :],\n",
    "                 var='u', dims=[0,1], value=0)\n",
    "bc1 = right_control + [right_fixed, left_fixed]"
   ]
  },
  {
   "cell_type": "code",
   "execution_count": 14,
   "id": "0d6e4ab0-caa9-490e-a728-c5f6737ae386",
   "metadata": {},
   "outputs": [],
   "source": [
    "m.bc=bc1"
   ]
  },
  {
   "cell_type": "code",
   "execution_count": 15,
   "id": "5e733cc6-094f-4705-a287-8af566f108d1",
   "metadata": {},
   "outputs": [],
   "source": [
    "m.hist.vis_record = {\n",
    "    'strain': Vis3DTensorField(var='eps_ab'),\n",
    "}\n",
    "s = m.sim\n",
    "s.tloop.verbose = True # set false to avoid the prints during each increment\n",
    "s.tloop.k_max = 50\n",
    "s.tline.step = 1"
   ]
  },
  {
   "cell_type": "code",
   "execution_count": 16,
   "id": "f29b9cf1-affa-44da-ba25-9c75a13e7495",
   "metadata": {},
   "outputs": [
    {
     "name": "stdout",
     "output_type": "stream",
     "text": [
      "t:\t 0.00(0), \n",
      "\t 1.00(1), \n",
      "\n"
     ]
    }
   ],
   "source": [
    "s.reset()\n",
    "s.run()"
   ]
  },
  {
   "cell_type": "code",
   "execution_count": 17,
   "id": "67618caf-92c0-4484-809a-9ce26c740666",
   "metadata": {},
   "outputs": [
    {
     "data": {
      "application/vnd.jupyter.widget-view+json": {
       "model_id": "5de5b47403d84dfeaa6faa1a0860f239",
       "version_major": 2,
       "version_minor": 0
      },
      "text/plain": [
       "Canvas(toolbar=Toolbar(toolitems=[('Home', 'Reset original view', 'home', 'home'), ('Back', 'Back to previous …"
      ]
     },
     "metadata": {},
     "output_type": "display_data"
    },
    {
     "data": {
      "text/plain": [
       "[<matplotlib.lines.Line2D at 0x7f8debca5760>]"
      ]
     },
     "execution_count": 17,
     "metadata": {},
     "output_type": "execute_result"
    }
   ],
   "source": [
    "F_to = m.hist.F_t\n",
    "U_to = m.hist.U_t\n",
    "right_control_dofs = [bc.dof for bc in right_control]\n",
    "F_l_t = np.sum(F_to[:, right_control_dofs], axis=-1)\n",
    "U_r_t = np.average(U_to[:, right_control_dofs], axis=-1)\n",
    "_, ax = plt.subplots(1,1)\n",
    "ax.plot(U_r_t, F_l_t)"
   ]
  },
  {
   "cell_type": "code",
   "execution_count": 18,
   "id": "fb0591bc-a4b2-4421-81d3-34fa70acfef5",
   "metadata": {},
   "outputs": [],
   "source": [
    "if False:\n",
    "    mlab.options.backend = 'envisage'\n",
    "    mlab.options.offscreen = False # 'envisage'\n",
    "    f_strain = mlab.figure()\n",
    "    scene = mlab.get_engine().scenes[-1]\n",
    "    scene.name = 'strain'\n",
    "    strain_viz = Viz3DTensorField(vis3d=m.hist['strain'])\n",
    "    strain_viz.setup()\n",
    "    strain_viz.warp_vector.filter.scale_factor = 0.1\n",
    "    strain_viz.plot(s.tstep.t_n)\n",
    "    mlab.show()"
   ]
  },
  {
   "cell_type": "code",
   "execution_count": 19,
   "id": "5bd2a5ed-fe0b-4f47-9931-c8b7d2d01090",
   "metadata": {},
   "outputs": [
    {
     "data": {
      "text/plain": [
       "[[{},\n",
       "  {},\n",
       "  {'w_pi': array([[0., 0.]]),\n",
       "   's_pi_x': array([[0., 0.]]),\n",
       "   's_pi_y': array([[0., 0.]]),\n",
       "   'z': array([[0., 0.]]),\n",
       "   'alpha_x': array([[0., 0.]]),\n",
       "   'alpha_y': array([[0., 0.]]),\n",
       "   'omega_T': array([[0., 0.]]),\n",
       "   'omega_N': array([[0., 0.]]),\n",
       "   'sig_pi': array([[-0., -0.]]),\n",
       "   'tau_pi_x': array([[-0., -0.]]),\n",
       "   'tau_pi_y': array([[-0., -0.]]),\n",
       "   'Z': array([[0., 0.]]),\n",
       "   'X_x': array([[0., 0.]]),\n",
       "   'X_y': array([[0., 0.]]),\n",
       "   'Y_T': array([[0., 0.]]),\n",
       "   'Y_N': array([[0., 0.]])}],\n",
       " [{},\n",
       "  {},\n",
       "  {'w_pi': array([[0., 0.]]),\n",
       "   's_pi_x': array([[0., 0.]]),\n",
       "   's_pi_y': array([[0., 0.]]),\n",
       "   'z': array([[0., 0.]]),\n",
       "   'alpha_x': array([[0., 0.]]),\n",
       "   'alpha_y': array([[0., 0.]]),\n",
       "   'omega_T': array([[0., 0.]]),\n",
       "   'omega_N': array([[0., 0.]]),\n",
       "   'sig_pi': array([[5., 5.]]),\n",
       "   'tau_pi_x': array([[-0., -0.]]),\n",
       "   'tau_pi_y': array([[-0., -0.]]),\n",
       "   'Z': array([[0., 0.]]),\n",
       "   'X_x': array([[0., 0.]]),\n",
       "   'X_y': array([[0., 0.]]),\n",
       "   'Y_T': array([[0., 0.]]),\n",
       "   'Y_N': array([[0., 0.]])}]]"
      ]
     },
     "execution_count": 19,
     "metadata": {},
     "output_type": "execute_result"
    }
   ],
   "source": [
    "m.hist.state_vars"
   ]
  },
  {
   "cell_type": "code",
   "execution_count": null,
   "id": "452fbc51-57de-4cb1-acb3-6ea684eeea78",
   "metadata": {},
   "outputs": [],
   "source": []
  }
 ],
 "metadata": {
  "kernelspec": {
   "display_name": "bmcs_env",
   "language": "python",
   "name": "bmcs_env"
  },
  "language_info": {
   "codemirror_mode": {
    "name": "ipython",
    "version": 3
   },
   "file_extension": ".py",
   "mimetype": "text/x-python",
   "name": "python",
   "nbconvert_exporter": "python",
   "pygments_lexer": "ipython3",
   "version": "3.8.8"
  }
 },
 "nbformat": 4,
 "nbformat_minor": 5
}
