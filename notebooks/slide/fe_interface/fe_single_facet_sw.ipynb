{
 "cells": [
  {
   "cell_type": "markdown",
   "id": "dbc9a6d4-2a8f-4333-b64e-762210c2e134",
   "metadata": {},
   "source": [
    "# Single facet simulation"
   ]
  },
  {
   "cell_type": "markdown",
   "id": "f03856d8-e347-42ec-8039-85a4cd049e94",
   "metadata": {},
   "source": [
    "TODO\n",
    " - Section 1 - costruct a displacement controlled model and show the load displacement curve for\n",
    "   sliding\n",
    " - Section 2 - with the identified "
   ]
  },
  {
   "cell_type": "code",
   "execution_count": null,
   "id": "9d61e064-7bd0-4ed3-a41e-421658cc56fe",
   "metadata": {},
   "outputs": [],
   "source": [
    "%matplotlib widget\n",
    "import time\n",
    "#from bmcs_expsim.utils.mlab_decorators import decorate_figure\n",
    "#from mayavi import mlab\n",
    "import numpy as np\n",
    "np.seterr(divide='ignore', invalid='ignore') \n",
    "import warnings\n",
    "import matplotlib.pylab as plt"
   ]
  },
  {
   "cell_type": "code",
   "execution_count": null,
   "id": "8eb03d30-e482-4561-8c3a-56d275d35ac9",
   "metadata": {},
   "outputs": [],
   "source": [
    "from ibvpy.api import TStepBC, TFCyclicNonsymmetricConstant\n",
    "from ibvpy.bcond import BCSlice, BCDof\n",
    "from ibvpy.xmodel.xdomain_fe_grid import XDomainFEGrid\n",
    "from ibvpy.xmodel.xdomain_interface import XDomainFEInterface"
   ]
  },
  {
   "cell_type": "code",
   "execution_count": null,
   "id": "386f2e9e-8822-4b39-a723-3f755ea493ec",
   "metadata": {},
   "outputs": [],
   "source": [
    "from ibvpy.fets import FETS2D4Q\n",
    "from ibvpy.fets import FETS3D8H\n",
    "from ibvpy.fets.fets1D5 import FETS1D52ULRH"
   ]
  },
  {
   "cell_type": "code",
   "execution_count": null,
   "id": "eb9547e9-5164-437c-8f5f-af5a5e79ae22",
   "metadata": {},
   "outputs": [],
   "source": [
    "from bmcs_matmod.slide.vslide_34 import Slide34\n",
    "from ibvpy.tmodel.mats3D.mats3D_elastic.vmats3D_elastic import \\\n",
    "    MATS3DElastic\n",
    "from ibvpy.tmodel.mats2D.mats2D_elastic.vmats2D_elastic import \\\n",
    "    MATS2DElastic\n",
    "from bmcs_utils.api import Model"
   ]
  },
  {
   "cell_type": "code",
   "execution_count": null,
   "id": "0d4c0ca3-88ba-454e-932a-2e40c38beef9",
   "metadata": {},
   "outputs": [],
   "source": [
    "# from ibvpy.tmodel.viz3d_scalar_field import \\\n",
    "#     Vis3DStateField, Viz3DScalarField\n",
    "# from ibvpy.tmodel.viz3d_tensor_field import \\\n",
    "#     Vis3DTensorField, Viz3DTensorField"
   ]
  },
  {
   "cell_type": "code",
   "execution_count": null,
   "id": "1795c631-93ea-4387-9c1e-2f5a66071ad0",
   "metadata": {},
   "outputs": [],
   "source": [
    "n_e = 1\n",
    "L_x = 1.0\n",
    "xd_inner = XDomainFEGrid(coord_min=(0, -1),\n",
    "                          coord_max=(1, 0),\n",
    "                          shape=(1, 1),\n",
    "                          fets=FETS2D4Q())\n",
    "xd_outer = XDomainFEGrid(coord_min=(0, 0),\n",
    "                          coord_max=(1, 1),\n",
    "                          shape=(1, 1),\n",
    "                          fets=FETS2D4Q())\n",
    "xd_inner.mesh.I[-1, :]"
   ]
  },
  {
   "cell_type": "code",
   "execution_count": null,
   "id": "1a9bc7c9-e8c9-4189-8409-79fc3a7e84d7",
   "metadata": {},
   "outputs": [],
   "source": [
    "m1 = MATS2DElastic(E=28000, nu=0.3)\n",
    "m2 = MATS2DElastic(E=28000, nu=0.3)\n",
    "\n",
    "xd12 = XDomainFEInterface(\n",
    "    I=xd_inner.mesh.I[-1, :],\n",
    "    J=xd_outer.mesh.I[0, :],\n",
    "    fets=FETS1D52ULRH()\n",
    ")"
   ]
  },
  {
   "cell_type": "code",
   "execution_count": null,
   "id": "fe2b66b8-9725-4402-86fe-d6aa0591bc6f",
   "metadata": {},
   "outputs": [],
   "source": [
    "material_params = dict(\n",
    "    E_T=10000, gamma_T=4000, K_T=0, S_T=0.01, c_T=2, bartau=5, \n",
    "    E_N=25000, S_N=0.05, c_N = 1, m = 0.008, f_t=5, f_c=150, f_c0=100, eta=0.0 # 0.5\n",
    ")\n",
    "bond_m = Slide34(**material_params)"
   ]
  },
  {
   "cell_type": "code",
   "execution_count": null,
   "id": "81af23bf-38a9-4075-bdda-69d237d1a8ef",
   "metadata": {},
   "outputs": [],
   "source": [
    "m = TStepBC(\n",
    "    domains=[\n",
    "        (xd_inner, m1),\n",
    "        (xd_outer, m2),\n",
    "        (xd12, bond_m),\n",
    "    ],\n",
    ")"
   ]
  },
  {
   "cell_type": "markdown",
   "id": "53a225b2-0acc-4241-bee7-9eb1341a3b63",
   "metadata": {},
   "source": [
    "Note that the enumeration of `dofs` within a serialized `fe_domain` is done \n",
    "only after the domains have been registered within the `TStepBC`. Therefore,\n",
    "final numbers of `dofs` are available only here and not before constructing `TStepBC`.\n",
    "Whan manipulating the `dofs` individually - like here - when we want to \n",
    "construct nodal loads, the boundary conditions must be constructed once\n",
    "the subdomains `xd_left`, `xd_right` and `xd12`  have been registered within the `TStepBC`."
   ]
  },
  {
   "cell_type": "markdown",
   "id": "87ee55d2-0271-4bcf-b9dd-10dd71dab289",
   "metadata": {},
   "source": [
    "Since `BCSlice` cannot be used currently with the \n",
    "natural boundary conditions we need to apply the nodal load to the individual degrees of freedom. To get them, let us misuse BCSlice as a quick access to the dofs. This can be \n",
    "done also directly by accessing the `mesh` object @RC - TODO"
   ]
  },
  {
   "cell_type": "markdown",
   "id": "f4e0c951-2c2f-4297-9630-b72feddb0ecb",
   "metadata": {},
   "source": [
    "Control boundary conditions are now defined as nodal values. Define the time function with on unloading cycle."
   ]
  },
  {
   "cell_type": "code",
   "execution_count": null,
   "id": "6269147c-1a53-42ca-aacb-b2615bdec8db",
   "metadata": {},
   "outputs": [],
   "source": [
    "tf = TFCyclicNonsymmetricConstant(number_of_cycles=2, unloading_ratio=0.2)\n",
    "tf.interact()"
   ]
  },
  {
   "cell_type": "markdown",
   "id": "05c5bf8a-12ab-4eb5-bd2c-8e356141230c",
   "metadata": {},
   "source": [
    "To find out subcritical value of force, run first a displacement control simulation, find out the maximum value.\n",
    "Then divide the obtained peak load with the number of control degrees of freedom, i.e. 4 in our case."
   ]
  },
  {
   "cell_type": "code",
   "execution_count": null,
   "id": "889e6357-04b7-4f3e-918c-acd1fda9b41d",
   "metadata": {},
   "outputs": [],
   "source": [
    "load_dim = 0 # \n",
    "fixed_dim = 1 # 0 - x, 1 - y\n",
    "right_control_slice = BCSlice(slice=xd_outer.mesh[:, :, :, :],\n",
    "                              var='u', dims=[load_dim], value=0)\n",
    "right_control_dofs = right_control_slice.dofs\n",
    "right_control_dofs"
   ]
  },
  {
   "cell_type": "code",
   "execution_count": null,
   "id": "cc6f44b3-0841-4be7-bff6-9cd9f4fd9c73",
   "metadata": {},
   "outputs": [],
   "source": [
    "disp_control = True\n",
    "if disp_control:\n",
    "    right_control = [BCDof(var='u', dof=dof, value=0.4 ) \n",
    "                     for dof in right_control_dofs ]\n",
    "else:\n",
    "    F_max = 45 / len(right_control_dofs)\n",
    "    right_control = [BCDof(var='f', dof=dof, value=F_max, time_function=tf ) \n",
    "                     for dof in right_control_dofs ]"
   ]
  },
  {
   "cell_type": "markdown",
   "id": "dd6641c2-1e9a-409a-b9f5-2ffc2b7df975",
   "metadata": {},
   "source": [
    "Fix the remaining boundary conditions"
   ]
  },
  {
   "cell_type": "code",
   "execution_count": null,
   "id": "6f028f69-422c-42e2-b19c-464dfcaaac2f",
   "metadata": {},
   "outputs": [],
   "source": [
    "right_fixed = BCSlice(slice=xd_outer.mesh[:, :, :, :],\n",
    "                 var='u', dims=[fixed_dim], value=0.0)\n",
    "left_fixed = BCSlice(slice=xd_inner.mesh[:, :, :, :],\n",
    "                 var='u', dims=[0,1], value=0)\n",
    "bc1 = right_control + [right_fixed, left_fixed]"
   ]
  },
  {
   "cell_type": "code",
   "execution_count": null,
   "id": "0d6e4ab0-caa9-490e-a728-c5f6737ae386",
   "metadata": {},
   "outputs": [],
   "source": [
    "m.bc=bc1"
   ]
  },
  {
   "cell_type": "code",
   "execution_count": null,
   "id": "5e733cc6-094f-4705-a287-8af566f108d1",
   "metadata": {},
   "outputs": [],
   "source": [
    "# m.hist.vis_record = {\n",
    "#     'strain': Vis3DTensorField(var='eps_ab'),\n",
    "# }\n",
    "s = m.sim\n",
    "s.tloop.verbose = True # set false to avoid the prints during each increment\n",
    "s.tloop.k_max = 50\n",
    "s.tline.step = 0.01"
   ]
  },
  {
   "cell_type": "code",
   "execution_count": null,
   "id": "f29b9cf1-affa-44da-ba25-9c75a13e7495",
   "metadata": {},
   "outputs": [],
   "source": [
    "s.reset()\n",
    "s.run()"
   ]
  },
  {
   "cell_type": "code",
   "execution_count": null,
   "id": "c80074b4-3e55-4a84-a74e-d680f693c2c8",
   "metadata": {},
   "outputs": [],
   "source": [
    "F_to = m.hist.F_t\n",
    "U_to = m.hist.U_t\n",
    "right_control_dofs = [bc.dof for bc in right_control]\n",
    "F_l_t = np.sum(F_to[:, right_control_dofs], axis=-1)\n",
    "U_r_t = np.average(U_to[:, right_control_dofs], axis=-1)\n",
    "_, ax = plt.subplots(1,1)\n",
    "ax.plot(U_r_t, F_l_t)"
   ]
  },
  {
   "cell_type": "code",
   "execution_count": null,
   "id": "fb0591bc-a4b2-4421-81d3-34fa70acfef5",
   "metadata": {},
   "outputs": [],
   "source": [
    "if False:\n",
    "    mlab.options.backend = 'envisage'\n",
    "    mlab.options.offscreen = False # 'envisage'\n",
    "    f_strain = mlab.figure()\n",
    "    scene = mlab.get_engine().scenes[-1]\n",
    "    scene.name = 'strain'\n",
    "    strain_viz = Viz3DTensorField(vis3d=m.hist['strain'])\n",
    "    strain_viz.setup()\n",
    "    strain_viz.warp_vector.filter.scale_factor = 0.1\n",
    "    strain_viz.plot(s.tstep.t_n)\n",
    "    mlab.show()"
   ]
  },
  {
   "cell_type": "code",
   "execution_count": null,
   "id": "597e5c4f-f75f-40b9-b191-c71287d7b241",
   "metadata": {},
   "outputs": [],
   "source": [
    "states_t = [states_t[2] for states_t in m.hist.state_vars]\n",
    "var_names = states_t[0].keys()\n",
    "EpsSig_t = {\n",
    "    var_name: np.array([ state_dict[var_name] for state_dict in states_t ]) \n",
    "    for var_name in var_names \n",
    "}"
   ]
  },
  {
   "cell_type": "code",
   "execution_count": null,
   "id": "718fd483-a073-4617-b5d5-12c9e1693f7e",
   "metadata": {},
   "outputs": [],
   "source": [
    "%matplotlib widget\n",
    "_, (ax1) = plt.subplots(1,1)\n",
    "ax2 = ax1.twinx()\n",
    "ax1.plot(-EpsSig_t['s_pi_x'][:,0,0], -EpsSig_t['sig_pi'][:,0,0], label='confinement')\n",
    "ax1.plot(-EpsSig_t['s_pi_x'][:,0,0], -EpsSig_t['tau_pi_x'][:,0,0], label='shear')\n",
    "ax2.plot(-EpsSig_t['s_pi_x'][:,0,0], EpsSig_t['omega_T'][:,0,0], label='tangential damage', \n",
    "         color='black', linestyle='dashed')\n",
    "ax1.legend(loc=5), ax2.legend(loc=4)"
   ]
  },
  {
   "cell_type": "code",
   "execution_count": null,
   "id": "d7c28bcf-fb4d-4484-bafb-2858a0ae336d",
   "metadata": {},
   "outputs": [],
   "source": [
    "#state_arr_t['w_pi'].shape"
   ]
  },
  {
   "cell_type": "code",
   "execution_count": null,
   "id": "2c81d4e6-7b75-4c1e-a507-15dbca66d912",
   "metadata": {},
   "outputs": [],
   "source": [
    "[ states_t for key in states_t[0].keys()]"
   ]
  },
  {
   "cell_type": "code",
   "execution_count": null,
   "id": "5bd2a5ed-fe0b-4f47-9931-c8b7d2d01090",
   "metadata": {},
   "outputs": [],
   "source": [
    "w_pi, s_pi_x, s_pi_y, z, alpha_x, alpha_y, omega_T, omega_N, sig_pi, tau_pi_x, tau_pi_y, \\\n",
    "Z, X_x, X_y, Y_T, Y_N = np.zeros((16, len(U_r_t)))\n",
    "\n",
    "for i in range(len(m.hist.state_vars)): \n",
    "    w_pi[i] = m.hist.state_vars[i][2]['w_pi'][0,0]\n",
    "    s_pi_x[i] = m.hist.state_vars[i][2]['s_pi_x'][0,0]\n",
    "    s_pi_y[i] = m.hist.state_vars[i][2]['s_pi_y'][0,0]\n",
    "    z[i] = m.hist.state_vars[i][2]['z'][0,0]\n",
    "    alpha_x[i] = m.hist.state_vars[i][2]['alpha_x'][0,0]\n",
    "    omega_T[i] = m.hist.state_vars[i][2]['omega_T'][0,0]\n",
    "    omega_N[i] = m.hist.state_vars[i][2]['omega_N'][0,0]\n",
    "    sig_pi[i] = m.hist.state_vars[i][2]['sig_pi'][0,0]\n",
    "    tau_pi_x[i] = m.hist.state_vars[i][2]['tau_pi_x'][0,0]\n",
    "    tau_pi_y[i] = m.hist.state_vars[i][2]['tau_pi_y'][0,0]\n",
    "    Z[i] = m.hist.state_vars[i][2]['Z'][0,0]\n",
    "    X_x[i] = m.hist.state_vars[i][2]['X_x'][0,0]\n",
    "    X_y[i] = m.hist.state_vars[i][2]['X_y'][0,0]\n",
    "    Y_T[i] = m.hist.state_vars[i][2]['Y_T'][0,0]\n",
    "    Y_N[i] = m.hist.state_vars[i][2]['Y_N'][0,0]\n",
    "    \n",
    "_, (ax1) = plt.subplots(1,1)\n",
    "ax1.plot(U_r_t, np.abs(sig_pi), label='confinement')\n",
    "ax1.plot(U_r_t, np.abs(tau_pi_x), label='shear')\n",
    "#ax2.plot(U_r_t, omega_T, label='tangential damage')\n",
    "plt.legend()\n",
    "\n"
   ]
  },
  {
   "cell_type": "code",
   "execution_count": null,
   "id": "452fbc51-57de-4cb1-acb3-6ea684eeea78",
   "metadata": {},
   "outputs": [],
   "source": [
    "#m.hist.state_vars"
   ]
  },
  {
   "cell_type": "code",
   "execution_count": null,
   "id": "a49f7f41-2a81-49d8-ae39-e12bed469aff",
   "metadata": {},
   "outputs": [],
   "source": [
    "sigma_N"
   ]
  },
  {
   "cell_type": "code",
   "execution_count": null,
   "id": "33cd4393-8ece-47e0-accb-a62afce7f353",
   "metadata": {},
   "outputs": [],
   "source": []
  }
 ],
 "metadata": {
  "kernelspec": {
   "display_name": "mayavi_env",
   "language": "python",
   "name": "python3"
  },
  "language_info": {
   "codemirror_mode": {
    "name": "ipython",
    "version": 3
   },
   "file_extension": ".py",
   "mimetype": "text/x-python",
   "name": "python",
   "nbconvert_exporter": "python",
   "pygments_lexer": "ipython3"
  }
 },
 "nbformat": 4,
 "nbformat_minor": 5
}
