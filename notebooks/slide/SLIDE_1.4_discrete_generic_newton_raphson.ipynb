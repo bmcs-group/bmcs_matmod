{
 "cells": [
  {
   "cell_type": "markdown",
   "metadata": {},
   "source": [
    "# Damage-plasticity model with generic time stepping\n",
    "This notebook is a work in progress on an abstract and general implementation of time integration algorithm for general damage-plasticity modes. It serves for the development of a package that can be configured by specifying the ingredients of thermodynamically based model\n",
    "\n",
    " - Vector of state variables $\\boldsymbol{\\mathcal{E}}$\n",
    " - Vector of thermodynamic streses $\\boldsymbol{\\mathcal{S}}$\n",
    " - Helmholtz free energy $\\rho \\psi(\\boldsymbol{\\mathcal{S}})$\n",
    " - Threshold on thermodynamical forces  $f(\\boldsymbol{\\mathcal{S}},\\boldsymbol{\\mathcal{E}})$ / Yield condition\n",
    " - Flow potential $\\varphi(\\boldsymbol{\\mathcal{S}},\\boldsymbol{\\mathcal{E}})$\n",
    "\n",
    "as symbolic equations using the sympy package. The time-stepping algorithm gets generated automatically within the thermodynamically framework. The derived  evolution equations and return-mapping to the yield surface is performed using Newton-Raphson scheme.  "
   ]
  },
  {
   "cell_type": "code",
   "execution_count": 1,
   "metadata": {},
   "outputs": [],
   "source": [
    "import sympy as sp\n",
    "sp.init_printing()\n",
    "%matplotlib inline\n",
    "import matplotlib.pyplot as plt\n",
    "import numpy as np"
   ]
  },
  {
   "cell_type": "markdown",
   "metadata": {},
   "source": [
    "## Material parameters"
   ]
  },
  {
   "cell_type": "code",
   "execution_count": 2,
   "metadata": {},
   "outputs": [],
   "source": [
    "E_b = sp.Symbol('E_b', real=True, nonnegative=True)\n",
    "gamma = sp.Symbol('gamma', real=True, nonnegative=True)\n",
    "K = sp.Symbol('K', real=True)\n",
    "S = sp.Symbol('S', real=True)\n",
    "r = sp.Symbol('r', real=True)\n",
    "c = sp.Symbol('c', real=True)\n",
    "tau_bar = sp.Symbol(r'\\bar{\\tau}', real=True, nonnegative=True)"
   ]
  },
  {
   "cell_type": "code",
   "execution_count": 3,
   "metadata": {},
   "outputs": [],
   "source": [
    "material_params = {\n",
    "    E_b:1, gamma:0.2, K:0.1, S:0.005, r:0.001, c:1, \n",
    "    tau_bar:1, \n",
    "}"
   ]
  },
  {
   "cell_type": "code",
   "execution_count": 4,
   "metadata": {},
   "outputs": [],
   "source": [
    "material_params = {\n",
    "    E_b:1, \n",
    "    gamma: 0.6, \n",
    "    K:1, \n",
    "    S:0.6, \n",
    "    r:0.001, \n",
    "    c:1, \n",
    "    tau_bar:1, \n",
    "}"
   ]
  },
  {
   "cell_type": "code",
   "execution_count": 5,
   "metadata": {},
   "outputs": [],
   "source": [
    "py_vars = ('E_b', 'gamma', 'K', 'S', 'r', 'c', 'tau_bar')\n",
    "map_py2sp = {py_var : globals()[py_var] for py_var in py_vars}\n",
    "sp_vars = tuple(map_py2sp[py_var] for py_var in py_vars)"
   ]
  },
  {
   "cell_type": "markdown",
   "metadata": {},
   "source": [
    "## State variables"
   ]
  },
  {
   "cell_type": "code",
   "execution_count": 6,
   "metadata": {},
   "outputs": [],
   "source": [
    "s = sp.Symbol('s', real=True)\n",
    "omega = sp.Symbol('omega', real=True, nonnegative=True)\n",
    "omega.is_nonnegative\n",
    "s_pi = sp.Symbol(r's_pi', real=True)\n",
    "alpha = sp.Symbol('alpha', real=True)\n",
    "z = sp.Symbol('z', real=True)"
   ]
  },
  {
   "cell_type": "code",
   "execution_count": 7,
   "metadata": {},
   "outputs": [],
   "source": [
    "Eps = sp.Matrix([s_pi, z, alpha, omega])"
   ]
  },
  {
   "cell_type": "markdown",
   "metadata": {},
   "source": [
    "## Helmholtz potential"
   ]
  },
  {
   "cell_type": "markdown",
   "metadata": {},
   "source": [
    "The starting point in the thermodynamical representation of a process is a potential function of time dependent state variables. To describe the evolution of the state correctly describing the energy dissipation of the system the gradient of the potential function with respect to the state variables provides the generalized forces. The forces are constrained to characterize specific material properties, e.g. strength, hardening."
   ]
  },
  {
   "cell_type": "code",
   "execution_count": 8,
   "metadata": {},
   "outputs": [
    {
     "data": {
      "image/png": "[encoded data removed]",
      "text/latex": [
       "$\\displaystyle \\frac{E_{b} \\left(1 - \\omega\\right) \\left(s - s_{\\pi}\\right)^{2}}{2} + \\frac{K z^{2}}{2} + \\frac{\\alpha^{2} \\gamma}{2}$"
      ],
      "text/plain": [
       "                     2      2    2  \n",
       "E_b⋅(1 - ω)⋅(s - sₚᵢ)    K⋅z    α ⋅γ\n",
       "────────────────────── + ──── + ────\n",
       "          2               2      2  "
      ]
     },
     "execution_count": 8,
     "metadata": {},
     "output_type": "execute_result"
    }
   ],
   "source": [
    "rho_psi = sp.Rational(1,2)* ( \n",
    "    (1-omega)*\n",
    "    E_b*(s-s_pi)**2 + K * z**2 + gamma * alpha**2\n",
    ")\n",
    "rho_psi"
   ]
  },
  {
   "cell_type": "markdown",
   "metadata": {},
   "source": [
    "## Thermodynamic forces"
   ]
  },
  {
   "cell_type": "code",
   "execution_count": 9,
   "metadata": {},
   "outputs": [],
   "source": [
    "tau = sp.Symbol('tau', real=True)\n",
    "tau_pi = sp.Symbol(r'tau_pi', real=True)\n",
    "X = sp.Symbol('X', real=True)\n",
    "Z = sp.Symbol('Z', real=True, nonnegative=True)\n",
    "Y = sp.Symbol('Y', real=True)\n",
    "Sig = sp.Matrix([tau_pi, Z, X, Y])"
   ]
  },
  {
   "cell_type": "code",
   "execution_count": 10,
   "metadata": {},
   "outputs": [],
   "source": [
    "grad_rho_psi = sp.Matrix([rho_psi.diff(eps) for eps in Eps])"
   ]
  },
  {
   "cell_type": "code",
   "execution_count": 11,
   "metadata": {},
   "outputs": [],
   "source": [
    "Sig_signs = sp.diag(1,-1,-1,1)"
   ]
  },
  {
   "cell_type": "code",
   "execution_count": 12,
   "metadata": {},
   "outputs": [
    {
     "data": {
      "image/png": "[encoded data removed]",
      "text/latex": [
       "$\\displaystyle \\left\\{ X : \\alpha \\gamma, \\  Y : \\frac{E_{b} \\left(s - s_{\\pi}\\right)^{2}}{2}, \\  Z : K z, \\  \\tau_{\\pi} : - \\frac{E_{b} \\left(1 - \\omega\\right) \\left(- 2 s + 2 s_{\\pi}\\right)}{2}\\right\\}$"
      ],
      "text/plain": [
       "⎧                        2                                           ⎫\n",
       "⎪           E_b⋅(s - sₚᵢ)                -E_b⋅(1 - ω)⋅(-2⋅s + 2⋅sₚᵢ) ⎪\n",
       "⎨X: α⋅γ, Y: ──────────────, Z: K⋅z, τₚᵢ: ────────────────────────────⎬\n",
       "⎪                 2                                   2              ⎪\n",
       "⎩                                                                    ⎭"
      ]
     },
     "execution_count": 12,
     "metadata": {},
     "output_type": "execute_result"
    }
   ],
   "source": [
    "subs_Sigma = {\n",
    "  var: val for var,val in zip(Sig, -Sig_signs*grad_rho_psi)\n",
    "}\n",
    "subs_Sigma"
   ]
  },
  {
   "cell_type": "code",
   "execution_count": 13,
   "metadata": {},
   "outputs": [
    {
     "data": {
      "image/png": "[encoded data removed]",
      "text/latex": [
       "$\\displaystyle \\frac{E_{b} \\left(1 - \\omega\\right) \\left(2 s - 2 s_{\\pi}\\right)}{2}$"
      ],
      "text/plain": [
       "E_b⋅(1 - ω)⋅(2⋅s - 2⋅sₚᵢ)\n",
       "─────────────────────────\n",
       "            2            "
      ]
     },
     "execution_count": 13,
     "metadata": {},
     "output_type": "execute_result"
    }
   ],
   "source": [
    "tau_ = rho_psi.diff(s)\n",
    "tau_"
   ]
  },
  {
   "cell_type": "code",
   "execution_count": 14,
   "metadata": {},
   "outputs": [
    {
     "data": {
      "image/png": "[encoded data removed]",
      "text/latex": [
       "$\\displaystyle \\left[\\begin{matrix}- \\frac{E_{b} \\left(1 - \\omega\\right) \\left(- 2 s + 2 s_{\\pi}\\right)}{2}\\\\K z\\\\\\alpha \\gamma\\\\\\frac{E_{b} \\left(s - s_{\\pi}\\right)^{2}}{2}\\end{matrix}\\right]$"
      ],
      "text/plain": [
       "⎡-E_b⋅(1 - ω)⋅(-2⋅s + 2⋅sₚᵢ) ⎤\n",
       "⎢────────────────────────────⎥\n",
       "⎢             2              ⎥\n",
       "⎢                            ⎥\n",
       "⎢            K⋅z             ⎥\n",
       "⎢                            ⎥\n",
       "⎢            α⋅γ             ⎥\n",
       "⎢                            ⎥\n",
       "⎢                    2       ⎥\n",
       "⎢       E_b⋅(s - sₚᵢ)        ⎥\n",
       "⎢       ──────────────       ⎥\n",
       "⎣             2              ⎦"
      ]
     },
     "execution_count": 14,
     "metadata": {},
     "output_type": "execute_result"
    }
   ],
   "source": [
    "Sig_ = -Sig_signs * grad_rho_psi\n",
    "Sig_"
   ]
  },
  {
   "cell_type": "code",
   "execution_count": 15,
   "metadata": {},
   "outputs": [],
   "source": [
    "get_Sig = sp.lambdify(\n",
    "    (s, Eps) + sp_vars, Sig_.T, 'numpy'\n",
    ")"
   ]
  },
  {
   "cell_type": "code",
   "execution_count": 16,
   "metadata": {},
   "outputs": [
    {
     "data": {
      "image/png": "[encoded data removed]",
      "text/latex": [
       "$\\displaystyle \\left[\\begin{matrix}- E_{b} \\left(1 - \\omega\\right) & 0 & 0 & \\frac{E_{b} \\left(- 2 s + 2 s_{\\pi}\\right)}{2}\\\\0 & K & 0 & 0\\\\0 & 0 & \\gamma & 0\\\\\\frac{E_{b} \\left(- 2 s + 2 s_{\\pi}\\right)}{2} & 0 & 0 & 0\\end{matrix}\\right]$"
      ],
      "text/plain": [
       "⎡                          E_b⋅(-2⋅s + 2⋅sₚᵢ)⎤\n",
       "⎢   -E_b⋅(1 - ω)     0  0  ──────────────────⎥\n",
       "⎢                                  2         ⎥\n",
       "⎢                                            ⎥\n",
       "⎢        0           K  0          0         ⎥\n",
       "⎢                                            ⎥\n",
       "⎢        0           0  γ          0         ⎥\n",
       "⎢                                            ⎥\n",
       "⎢E_b⋅(-2⋅s + 2⋅sₚᵢ)                          ⎥\n",
       "⎢──────────────────  0  0          0         ⎥\n",
       "⎣        2                                   ⎦"
      ]
     },
     "execution_count": 16,
     "metadata": {},
     "output_type": "execute_result"
    }
   ],
   "source": [
    "dSig_dEps_ = sp.Matrix([ \n",
    "    Sig_.T.diff(eps_i) for eps_i in Eps \n",
    "] ).T\n",
    "dSig_dEps_"
   ]
  },
  {
   "cell_type": "code",
   "execution_count": 17,
   "metadata": {},
   "outputs": [],
   "source": [
    "get_dSig_dEps = sp.lambdify(\n",
    "    (s, Eps) + sp_vars, dSig_dEps_,\n",
    ")"
   ]
  },
  {
   "cell_type": "markdown",
   "metadata": {},
   "source": [
    "## Threshold function"
   ]
  },
  {
   "cell_type": "markdown",
   "metadata": {},
   "source": [
    "Define effective stresses as a function of the apparent stress and damage.  Note that $\\tau_\\pi = \\tau$."
   ]
  },
  {
   "cell_type": "code",
   "execution_count": 18,
   "metadata": {},
   "outputs": [
    {
     "data": {
      "image/png": "[encoded data removed]",
      "text/latex": [
       "$\\displaystyle \\tau^{\\mathrm{eff}}{\\left(\\tau_{\\pi},\\omega \\right)}$"
      ],
      "text/plain": [
       "\\tau__{\\mathrm{eff}}(τₚᵢ, ω)"
      ]
     },
     "execution_count": 18,
     "metadata": {},
     "output_type": "execute_result"
    }
   ],
   "source": [
    "tau_eff = sp.Function(r'\\tau^{\\mathrm{eff}}')(tau_pi, omega)\n",
    "Q = sp.Function('Q')(tau_eff,X)\n",
    "tau_eff"
   ]
  },
  {
   "cell_type": "markdown",
   "metadata": {},
   "source": [
    "The stress norm is defined using the stress offset $X$, i.e. the kinematic hardening stress representing the shift of the origin of the yield locus.  "
   ]
  },
  {
   "cell_type": "code",
   "execution_count": 19,
   "metadata": {},
   "outputs": [],
   "source": [
    "norm_Q = sp.sqrt(Q*Q)"
   ]
  },
  {
   "cell_type": "markdown",
   "metadata": {},
   "source": [
    "General form of the yield condition then reads"
   ]
  },
  {
   "cell_type": "code",
   "execution_count": 20,
   "metadata": {},
   "outputs": [
    {
     "data": {
      "image/png": "[encoded data removed]",
      "text/latex": [
       "$\\displaystyle - Z - \\bar{\\tau} + \\sqrt{Q^{2}{\\left(\\tau^{\\mathrm{eff}}{\\left(\\tau_{\\pi},\\omega \\right)},X \\right)}}$"
      ],
      "text/plain": [
       "                     _____________________________________\n",
       "                    ╱  2                                  \n",
       "-Z - \\bar{\\tau} + ╲╱  Q (\\tau__{\\mathrm{eff}}(τₚᵢ, ω), X) "
      ]
     },
     "execution_count": 20,
     "metadata": {},
     "output_type": "execute_result"
    }
   ],
   "source": [
    "f = norm_Q - Z - tau_bar\n",
    "f"
   ]
  },
  {
   "cell_type": "code",
   "execution_count": 21,
   "metadata": {},
   "outputs": [
    {
     "data": {
      "image/png": "[encoded data removed]",
      "text/latex": [
       "$\\displaystyle \\left\\{ Q{\\left(\\tau^{\\mathrm{eff}}{\\left(\\tau_{\\pi},\\omega \\right)},X \\right)} : - X + \\tau^{\\mathrm{eff}}{\\left(\\tau_{\\pi},\\omega \\right)}\\right\\}$"
      ],
      "text/plain": [
       "{Q(\\tau__{\\mathrm{eff}}(τₚᵢ, ω), X): -X + \\tau__{\\mathrm{eff}}(τₚᵢ, ω)}"
      ]
     },
     "execution_count": 21,
     "metadata": {},
     "output_type": "execute_result"
    }
   ],
   "source": [
    "subs_Q = {Q: tau_eff - X}\n",
    "subs_Q"
   ]
  },
  {
   "cell_type": "code",
   "execution_count": 22,
   "metadata": {},
   "outputs": [
    {
     "data": {
      "image/png": "[encoded data removed]",
      "text/latex": [
       "$\\displaystyle \\left( \\tau_{\\pi}, \\  \\tau\\right)$"
      ],
      "text/plain": [
       "(τₚᵢ, τ)"
      ]
     },
     "execution_count": 22,
     "metadata": {},
     "output_type": "execute_result"
    }
   ],
   "source": [
    "tau_pi, tau"
   ]
  },
  {
   "cell_type": "code",
   "execution_count": 23,
   "metadata": {},
   "outputs": [],
   "source": [
    "subs_tau_eff = {tau_eff: tau_pi / (1-omega)}"
   ]
  },
  {
   "cell_type": "code",
   "execution_count": 24,
   "metadata": {},
   "outputs": [
    {
     "data": {
      "image/png": "[encoded data removed]",
      "text/latex": [
       "$\\displaystyle - Z - \\bar{\\tau} + \\sqrt{\\left(- X + \\frac{\\tau_{\\pi}}{1 - \\omega}\\right)^{2}}$"
      ],
      "text/plain": [
       "                       _______________\n",
       "                      ╱             2 \n",
       "                     ╱  ⎛      τₚᵢ ⎞  \n",
       "-Z - \\bar{\\tau} +   ╱   ⎜-X + ─────⎟  \n",
       "                  ╲╱    ⎝     1 - ω⎠  "
      ]
     },
     "execution_count": 24,
     "metadata": {},
     "output_type": "execute_result"
    }
   ],
   "source": [
    "f_ = f.subs(subs_Q).subs(subs_tau_eff)\n",
    "f_"
   ]
  },
  {
   "cell_type": "code",
   "execution_count": 25,
   "metadata": {},
   "outputs": [],
   "source": [
    "get_f = sp.lambdify(\n",
    "    (Eps, Sig) + sp_vars, f_, 'numpy'\n",
    ")"
   ]
  },
  {
   "cell_type": "code",
   "execution_count": 26,
   "metadata": {},
   "outputs": [],
   "source": [
    "df_dSig_ = f_.diff(Sig)\n",
    "get_df_dSig = sp.lambdify(\n",
    "    (Eps, Sig) + sp_vars, df_dSig_, 'numpy'\n",
    ")"
   ]
  },
  {
   "cell_type": "code",
   "execution_count": 27,
   "metadata": {},
   "outputs": [],
   "source": [
    "ddf_dEps_ = f_.diff(Eps)\n",
    "get_ddf_dEps = sp.lambdify(\n",
    "    (Eps, Sig) + sp_vars, ddf_dEps_, 'numpy'\n",
    ")"
   ]
  },
  {
   "cell_type": "markdown",
   "metadata": {},
   "source": [
    "## Flow potential"
   ]
  },
  {
   "cell_type": "markdown",
   "metadata": {},
   "source": [
    "**Question:** If the flow potential is extended additively, it might be possible to reflect it in the iterative scheme to avoid repeated calculation of terms shared for derivatives and $f$ and of $\\varphi$."
   ]
  },
  {
   "cell_type": "code",
   "execution_count": 28,
   "metadata": {},
   "outputs": [],
   "source": [
    "phi_ext = sp.Function('\\phi')(Y,omega)"
   ]
  },
  {
   "cell_type": "code",
   "execution_count": 29,
   "metadata": {},
   "outputs": [],
   "source": [
    "phi_ext_ = S * (1-omega)**c / (r+1) * (Y/S)**(r+1)"
   ]
  },
  {
   "cell_type": "code",
   "execution_count": 30,
   "metadata": {},
   "outputs": [
    {
     "data": {
      "image/png": "[encoded data removed]",
      "text/latex": [
       "$\\displaystyle - Z - \\bar{\\tau} + \\sqrt{Q^{2}{\\left(\\tau^{\\mathrm{eff}}{\\left(\\tau_{\\pi},\\omega \\right)},X \\right)}} + \\phi{\\left(Y,\\omega \\right)}$"
      ],
      "text/plain": [
       "                     _____________________________________             \n",
       "                    ╱  2                                               \n",
       "-Z - \\bar{\\tau} + ╲╱  Q (\\tau__{\\mathrm{eff}}(τₚᵢ, ω), X)  + \\phi(Y, ω)"
      ]
     },
     "execution_count": 30,
     "metadata": {},
     "output_type": "execute_result"
    }
   ],
   "source": [
    "phi = f + phi_ext\n",
    "phi"
   ]
  },
  {
   "cell_type": "code",
   "execution_count": 31,
   "metadata": {},
   "outputs": [
    {
     "data": {
      "image/png": "[encoded data removed]",
      "text/latex": [
       "$\\displaystyle \\left[\\begin{matrix}\\frac{\\sqrt{Q^{2}{\\left(\\tau^{\\mathrm{eff}}{\\left(\\tau_{\\pi},\\omega \\right)},X \\right)}} \\frac{\\partial}{\\partial \\tau^{\\mathrm{eff}}{\\left(\\tau_{\\pi},\\omega \\right)}} Q{\\left(\\tau^{\\mathrm{eff}}{\\left(\\tau_{\\pi},\\omega \\right)},X \\right)} \\frac{\\partial}{\\partial \\tau_{\\pi}} \\tau^{\\mathrm{eff}}{\\left(\\tau_{\\pi},\\omega \\right)}}{Q{\\left(\\tau^{\\mathrm{eff}}{\\left(\\tau_{\\pi},\\omega \\right)},X \\right)}}\\\\-1\\\\\\frac{\\sqrt{Q^{2}{\\left(\\tau^{\\mathrm{eff}}{\\left(\\tau_{\\pi},\\omega \\right)},X \\right)}} \\frac{\\partial}{\\partial X} Q{\\left(\\tau^{\\mathrm{eff}}{\\left(\\tau_{\\pi},\\omega \\right)},X \\right)}}{Q{\\left(\\tau^{\\mathrm{eff}}{\\left(\\tau_{\\pi},\\omega \\right)},X \\right)}}\\\\\\frac{\\partial}{\\partial Y} \\phi{\\left(Y,\\omega \\right)}\\end{matrix}\\right]$"
      ],
      "text/plain": [
       "⎡   _____________________________________                                     \n",
       "⎢  ╱  2                                                 ∂                     \n",
       "⎢╲╱  Q (\\tau__{\\mathrm{eff}}(τₚᵢ, ω), X) ⋅─────────────────────────────(Q(\\tau\n",
       "⎢                                         ∂\\tau__{\\mathrm{eff}}(τₚᵢ, ω)       \n",
       "⎢─────────────────────────────────────────────────────────────────────────────\n",
       "⎢                                                      Q(\\tau__{\\mathrm{eff}}(\n",
       "⎢                                                                             \n",
       "⎢                                                                     -1      \n",
       "⎢                                                                             \n",
       "⎢                                  _____________________________________      \n",
       "⎢                                 ╱  2                                   ∂    \n",
       "⎢                               ╲╱  Q (\\tau__{\\mathrm{eff}}(τₚᵢ, ω), X) ⋅──(Q(\n",
       "⎢                                                                        ∂X   \n",
       "⎢                               ──────────────────────────────────────────────\n",
       "⎢                                                      Q(\\tau__{\\mathrm{eff}}(\n",
       "⎢                                                                             \n",
       "⎢                                                               ∂             \n",
       "⎢                                                               ──(\\phi(Y, ω))\n",
       "⎣                                                               ∂Y            \n",
       "\n",
       "                                                                ⎤\n",
       "                               ∂                                ⎥\n",
       "__{\\mathrm{eff}}(τₚᵢ, ω), X))⋅────(\\tau__{\\mathrm{eff}}(τₚᵢ, ω))⎥\n",
       "                              ∂τₚᵢ                              ⎥\n",
       "────────────────────────────────────────────────────────────────⎥\n",
       "τₚᵢ, ω), X)                                                     ⎥\n",
       "                                                                ⎥\n",
       "                                                                ⎥\n",
       "                                                                ⎥\n",
       "                                                                ⎥\n",
       "                                                                ⎥\n",
       "\\tau__{\\mathrm{eff}}(τₚᵢ, ω), X))                               ⎥\n",
       "                                                                ⎥\n",
       "─────────────────────────────────                               ⎥\n",
       "τₚᵢ, ω), X)                                                     ⎥\n",
       "                                                                ⎥\n",
       "                                                                ⎥\n",
       "                                                                ⎥\n",
       "                                                                ⎦"
      ]
     },
     "execution_count": 31,
     "metadata": {},
     "output_type": "execute_result"
    }
   ],
   "source": [
    "dphi_dSig_ = phi.diff(Sig)\n",
    "dphi_dSig_"
   ]
  },
  {
   "cell_type": "code",
   "execution_count": 32,
   "metadata": {},
   "outputs": [
    {
     "data": {
      "image/png": "[encoded data removed]",
      "text/latex": [
       "$\\displaystyle \\left\\{ \\tau^{\\mathrm{eff}}{\\left(\\tau_{\\pi},\\omega \\right)} : \\frac{\\tau_{\\pi}}{1 - \\omega}\\right\\}$"
      ],
      "text/plain": [
       "⎧                               τₚᵢ ⎫\n",
       "⎨\\tau__{\\mathrm{eff}}(τₚᵢ, ω): ─────⎬\n",
       "⎩                              1 - ω⎭"
      ]
     },
     "execution_count": 32,
     "metadata": {},
     "output_type": "execute_result"
    }
   ],
   "source": [
    "subs_tau_eff"
   ]
  },
  {
   "cell_type": "code",
   "execution_count": 37,
   "metadata": {},
   "outputs": [
    {
     "data": {
      "image/png": "[encoded data removed]",
      "text/latex": [
       "$\\displaystyle \\left[\\begin{matrix}\\frac{\\left|{\\frac{X \\left(\\omega - 1\\right) + \\tau_{\\pi}}{\\omega - 1}}\\right|}{X \\left(\\omega - 1\\right) + \\tau_{\\pi}}\\\\1\\\\- \\frac{\\left(\\omega - 1\\right) \\left|{\\frac{X \\left(\\omega - 1\\right) + \\tau_{\\pi}}{\\omega - 1}}\\right|}{X \\left(\\omega - 1\\right) + \\tau_{\\pi}}\\\\\\left(\\frac{Y}{S}\\right)^{r} \\left(1 - \\omega\\right)^{c}\\end{matrix}\\right]$"
      ],
      "text/plain": [
       "⎡     │X⋅(ω - 1) + τₚᵢ│     ⎤\n",
       "⎢     │───────────────│     ⎥\n",
       "⎢     │     ω - 1     │     ⎥\n",
       "⎢     ─────────────────     ⎥\n",
       "⎢      X⋅(ω - 1) + τₚᵢ      ⎥\n",
       "⎢                           ⎥\n",
       "⎢             1             ⎥\n",
       "⎢                           ⎥\n",
       "⎢         │X⋅(ω - 1) + τₚᵢ│ ⎥\n",
       "⎢-(ω - 1)⋅│───────────────│ ⎥\n",
       "⎢         │     ω - 1     │ ⎥\n",
       "⎢───────────────────────────⎥\n",
       "⎢      X⋅(ω - 1) + τₚᵢ      ⎥\n",
       "⎢                           ⎥\n",
       "⎢          r                ⎥\n",
       "⎢       ⎛Y⎞         c       ⎥\n",
       "⎢       ⎜─⎟ ⋅(1 - ω)        ⎥\n",
       "⎣       ⎝S⎠                 ⎦"
      ]
     },
     "execution_count": 37,
     "metadata": {},
     "output_type": "execute_result"
    }
   ],
   "source": [
    "Phi_ = Sig_signs * dphi_dSig_.subs(subs_Q).subs(subs_tau_eff).subs(phi_ext,phi_ext_).doit()\n",
    "sp.simplify(Phi_)"
   ]
  },
  {
   "cell_type": "code",
   "execution_count": 38,
   "metadata": {},
   "outputs": [],
   "source": [
    "get_Phi = sp.lambdify(\n",
    "    (Eps, Sig) + sp_vars, Phi_, 'numpy'\n",
    ")"
   ]
  },
  {
   "cell_type": "code",
   "execution_count": 39,
   "metadata": {},
   "outputs": [
    {
     "data": {
      "image/png": "[encoded data removed]",
      "text/latex": [
       "$\\displaystyle \\left[\\begin{matrix}0 & 0 & 0 & 0\\\\0 & 0 & 0 & 0\\\\0 & 0 & 0 & 0\\\\0 & 0 & 0 & \\frac{r \\left(\\frac{Y}{S}\\right)^{r} \\left(1 - \\omega\\right)^{c}}{Y}\\end{matrix}\\right]$"
      ],
      "text/plain": [
       "⎡0  0  0         0       ⎤\n",
       "⎢                        ⎥\n",
       "⎢0  0  0         0       ⎥\n",
       "⎢                        ⎥\n",
       "⎢0  0  0         0       ⎥\n",
       "⎢                        ⎥\n",
       "⎢              r         ⎥\n",
       "⎢           ⎛Y⎞         c⎥\n",
       "⎢         r⋅⎜─⎟ ⋅(1 - ω) ⎥\n",
       "⎢           ⎝S⎠          ⎥\n",
       "⎢0  0  0  ───────────────⎥\n",
       "⎣                Y       ⎦"
      ]
     },
     "execution_count": 39,
     "metadata": {},
     "output_type": "execute_result"
    }
   ],
   "source": [
    "dPhi_dSig_ = sp.Matrix([ \n",
    "    Phi_.T.diff(sig_i) \n",
    "    for sig_i in Sig \n",
    "] ).T\n",
    "sp.simplify(dPhi_dSig_)"
   ]
  },
  {
   "cell_type": "code",
   "execution_count": 40,
   "metadata": {},
   "outputs": [],
   "source": [
    "get_dPhi_dSig = sp.lambdify(\n",
    "    (Eps, Sig) + sp_vars, sp.simplify(dPhi_dSig_), 'numpy'\n",
    ")"
   ]
  },
  {
   "cell_type": "code",
   "execution_count": 41,
   "metadata": {
    "scrolled": false
   },
   "outputs": [
    {
     "data": {
      "image/png": "[encoded data removed]",
      "text/latex": [
       "$\\displaystyle \\left[\\begin{matrix}0 & 0 & 0 & - \\frac{\\left|{\\frac{X \\left(\\omega - 1\\right) + \\tau_{\\pi}}{\\omega - 1}}\\right|}{\\left(\\omega - 1\\right) \\left(X \\left(\\omega - 1\\right) + \\tau_{\\pi}\\right)}\\\\0 & 0 & 0 & 0\\\\0 & 0 & 0 & 0\\\\0 & 0 & 0 & - c \\left(\\frac{Y}{S}\\right)^{r} \\left(1 - \\omega\\right)^{c - 1}\\end{matrix}\\right]$"
      ],
      "text/plain": [
       "⎡             │X⋅(ω - 1) + τₚᵢ│    ⎤\n",
       "⎢            -│───────────────│    ⎥\n",
       "⎢             │     ω - 1     │    ⎥\n",
       "⎢0  0  0  ─────────────────────────⎥\n",
       "⎢         (ω - 1)⋅(X⋅(ω - 1) + τₚᵢ)⎥\n",
       "⎢                                  ⎥\n",
       "⎢0  0  0              0            ⎥\n",
       "⎢                                  ⎥\n",
       "⎢0  0  0              0            ⎥\n",
       "⎢                                  ⎥\n",
       "⎢                 r                ⎥\n",
       "⎢              ⎛Y⎞         c - 1   ⎥\n",
       "⎢0  0  0    -c⋅⎜─⎟ ⋅(1 - ω)        ⎥\n",
       "⎣              ⎝S⎠                 ⎦"
      ]
     },
     "execution_count": 41,
     "metadata": {},
     "output_type": "execute_result"
    }
   ],
   "source": [
    "ddPhi_dEps_ = sp.Matrix([ \n",
    "    Phi_.T.diff(eta_i) \n",
    "    for eta_i in Eps \n",
    "] ).T\n",
    "sp.simplify(ddPhi_dEps_)"
   ]
  },
  {
   "cell_type": "code",
   "execution_count": 42,
   "metadata": {},
   "outputs": [],
   "source": [
    "get_ddPhi_dEps = sp.lambdify(\n",
    "    (Eps, Sig) + sp_vars, sp.simplify(ddPhi_dEps_), 'numpy'\n",
    ")"
   ]
  },
  {
   "cell_type": "markdown",
   "metadata": {},
   "source": [
    "\\begin{align}\n",
    "\\boldsymbol{\\Phi} = - \\boldsymbol{\\Upsilon} \\frac{\\partial \\varphi}{\\partial \\boldsymbol{\\mathcal{S}}}\n",
    "\\end{align}"
   ]
  },
  {
   "cell_type": "markdown",
   "metadata": {},
   "source": [
    "\\begin{align}\n",
    "f(\\boldsymbol{\\mathcal{E}}_{n+1};  \\lambda) &= 0 \\\\\n",
    "\\boldsymbol{\\mathcal{E}}_{n+1} &= \n",
    "\\boldsymbol{\\mathcal{E}}_{n} + \\lambda \\, \\boldsymbol{\\Phi}_{n+1}\n",
    "\\label{eq:discrete_evolution}\n",
    "\\end{align}"
   ]
  },
  {
   "cell_type": "markdown",
   "metadata": {},
   "source": [
    "# Time integration scheme"
   ]
  },
  {
   "cell_type": "markdown",
   "metadata": {},
   "source": [
    "Let us consider an inadmissible trial state $k$ and express the evolution equations and threshold functions both in implicit form\n",
    "\n",
    "\\begin{align}\n",
    "f(\\boldsymbol{\\mathcal{E}}_{k}; \\lambda_k ) & = 0 \\\\\n",
    "\\boldsymbol{\\mathcal{F}}(\\boldsymbol{\\mathcal{E}}_{k}; \\lambda_k ) &= \n",
    "\\boldsymbol{\\mathcal{E}}_{k} - \\boldsymbol{\\mathcal{E}}_{n} - \\lambda_k \\, \\boldsymbol{\\Phi}_{k} = 0\n",
    "\\end{align}"
   ]
  },
  {
   "cell_type": "markdown",
   "metadata": {},
   "source": [
    "The evolution equations can be expanded using the Taylor series to obtain the approximation at an intermediate state of iteration $k$\n",
    "\\begin{align}\n",
    "f_{k+1}\n",
    "& =\n",
    "f_{k} \n",
    "+\n",
    "\\left.\n",
    "\\frac{\\partial f}{\\partial \\lambda}\n",
    "\\right|_k\n",
    "\\Delta \\lambda +\n",
    "\\left.\n",
    "\\frac{\\partial f}{\\partial \\boldsymbol{\\mathcal{E}}}\n",
    "\\right|_k\n",
    "\\Delta \\boldsymbol{\\mathcal{E}} \n",
    "\\\\\n",
    "\\boldsymbol{\\mathcal{F}}_{k+1}\n",
    "& =\n",
    "\\boldsymbol{\\mathcal{F}}_{k} \n",
    "+\n",
    "\\left.\n",
    "\\frac{\\partial \\boldsymbol{\\mathcal{F}}}{\\partial \\lambda}  \n",
    "\\right|_k\n",
    "\\Delta \\lambda +\n",
    "\\left.\n",
    "\\frac{\\partial \\boldsymbol{\\mathcal{F}}}{\\partial{\\boldsymbol{ \\mathcal{E}}}}  \n",
    "\\right|_k \n",
    "\\Delta {\\boldsymbol{\\mathcal{E}}}\n",
    "\\end{align}"
   ]
  },
  {
   "cell_type": "markdown",
   "metadata": {},
   "source": [
    "To reach an admissible state let us linearize the threshold function at an interim state $j$ as\n",
    "\\begin{align}\n",
    "\\left.\n",
    "\\frac{\\partial f}{\\partial{\\boldsymbol{ \\mathcal{E}}}}  \n",
    "\\right|_k \n",
    "&=\n",
    "\\left. \\frac{\\partial f}{ \\partial \\boldsymbol{\\mathcal{S}}}\\right|_{k}\n",
    "\\left. \\frac{\\partial \\boldsymbol{\\mathcal{S}}}{\\partial \\boldsymbol{\\mathcal{E}}}\\right|_{k}\n",
    "+\n",
    "\\left. \\frac{\\partial^{\\mathrm{dir}} f}{ \\partial^{\\mathrm{dir}} \\boldsymbol{\\mathcal{E}}}\\right|_{k}\n",
    "\\label{eq:df_dEps}\n",
    "\\\\\n",
    "\\left.\n",
    "\\frac{\\partial f}{\\partial{\\lambda}}  \n",
    "\\right|_k \n",
    "&=\n",
    "\\left.\n",
    "\\frac{\\partial f}{\\partial{\\boldsymbol{ \\mathcal{E}}}}  \n",
    "\\right|_k \n",
    "\\left.\n",
    "\\frac{\\partial {\\boldsymbol{ \\mathcal{E}}}}{\\partial \\lambda}\n",
    "\\right|_k =\n",
    "\\left.\n",
    "\\frac{\\partial f}{\\partial{\\boldsymbol{ \\mathcal{E}}}}  \n",
    "\\right|_k \n",
    "\\boldsymbol{\\Phi}_k \n",
    "\\label{eq:df_dlambda}\n",
    "\\\\\n",
    "\\left.\n",
    "\\frac{\\partial \\boldsymbol{\\mathcal{F}}}{\\partial{\\boldsymbol{ \\mathcal{E}}}}  \n",
    "\\right|_k \n",
    "&=\n",
    "I - \\lambda_{k} \\left. \\frac{\\partial \\boldsymbol{\\Phi}}{\\partial \\boldsymbol{\\mathcal{E}}}\\right|_{k}\n",
    "\\label{eq:dF_dEps}\n",
    "\\\\\n",
    "\\left.\n",
    "\\frac{\\partial \\boldsymbol{\\mathcal{F}}}{\\partial{\\lambda}}  \n",
    "\\right|_k \n",
    "&= -\\boldsymbol{\\Phi}_{k}\n",
    "\\label{eq:dF_dlambda}\n",
    "\\end{align}"
   ]
  },
  {
   "cell_type": "markdown",
   "metadata": {},
   "source": [
    "**Remark 3:** The derivative $\\partial^\\mathrm{dir}$ denotes the direct derivative"
   ]
  },
  {
   "cell_type": "markdown",
   "metadata": {},
   "source": [
    "**Remark 2:** Note that $\\displaystyle \\frac{\\partial \\boldsymbol{\\mathcal{E}}}{\\partial \\lambda}$ in equation $\\eqref{eq:df_dlambda}$ can be obtained from the evolution equations $\\eqref{eq:discrete_evolution}$\n",
    "\\begin{align}\n",
    "\\boldsymbol{\\mathcal{E}}_k = \\boldsymbol{\\mathcal{E}}_n + \\lambda \\, \\boldsymbol{\\Phi}_k\\; \\implies\n",
    "\\left.\n",
    "\\frac{\\partial {\\boldsymbol{ \\mathcal{E}}}}{\\partial \\lambda}\n",
    "\\right|_k = \n",
    "\\boldsymbol{\\Phi}_k\n",
    "\\end{align}"
   ]
  },
  {
   "cell_type": "markdown",
   "metadata": {},
   "source": [
    "**Remark 3:** The derivative of the compass with respect to the kinematic state variables in equation $\\eqref{eq:dF_dEps}$ can be resolved to\n",
    "\\begin{align}\n",
    "\\left. \\frac{\\partial \\boldsymbol{\\Phi}}{\\partial \\boldsymbol{\\mathcal{E}}} \\right|_k \n",
    "&=\n",
    "\\left. \\frac{\\partial \\boldsymbol{\\Phi}}{\\partial \\boldsymbol{\\mathcal{S}}} \\right|_k \n",
    "\\left. \\frac{\\partial \\boldsymbol{\\mathcal{S}}}{\\partial \\boldsymbol{\\mathcal{E}}} \\right|_k \n",
    "+\n",
    "\\left. \\frac{\\partial^\\mathrm{dir} \\boldsymbol{\\Phi}}{\\partial^\\mathrm{dir} \\boldsymbol{\\mathcal{E}}} \\right|_k \n",
    "\\end{align}"
   ]
  },
  {
   "cell_type": "markdown",
   "metadata": {},
   "source": [
    "we can assemble a system of recurrent equations as follows\n",
    "\\begin{align}\n",
    "& \\left[\n",
    "\\begin{array}{cc}\n",
    "\\displaystyle\n",
    "\\left.\n",
    "\\frac{\\partial f}{\\partial{\\lambda}}  \n",
    "\\right|_k \n",
    "&\n",
    "\\displaystyle\n",
    "\\left.\n",
    "\\frac{\\partial f}{\\partial{\\boldsymbol{ \\mathcal{E}}}}  \n",
    "\\right|_k \n",
    "\\\\\n",
    "\\displaystyle\n",
    "\\left.\n",
    "\\frac{\\partial \\boldsymbol{\\mathcal{F}}}{\\partial{\\lambda}}  \n",
    "\\right|_k \n",
    "&\n",
    "\\displaystyle\n",
    "\\left.\n",
    "\\frac{\\partial \\boldsymbol{\\mathcal{F}}}{\\partial{\\boldsymbol{ \\mathcal{E}}}}  \n",
    "\\right|_k \n",
    "\\end{array}\n",
    "\\right]\n",
    "\\left[\n",
    "\\begin{array}{c}\n",
    "\\Delta \\lambda\n",
    "\\\\\n",
    "\\Delta {\\boldsymbol{\\mathcal{E}}}\n",
    "\\end{array}\n",
    "\\right] =\n",
    " - \\left[\n",
    "\\begin{array}{c}\n",
    "f_k \\\\\n",
    "\\boldsymbol{\\mathcal{F}}_k \n",
    "\\end{array}\n",
    "\\right] \\\\\n",
    "& \\lambda_{k+1} = \\lambda_{k} + \\Delta \\lambda \\\\\n",
    "& \\boldsymbol{\\mathcal{E}}_{k+1} = \n",
    "\\boldsymbol{\\mathcal{E}}_{k} + \\Delta \\boldsymbol{\\mathcal{E}} \\\\\n",
    "&k = k + 1\n",
    "\\end{align}"
   ]
  },
  {
   "cell_type": "markdown",
   "metadata": {},
   "source": [
    "Let's try to assemble the Jacobian from the ingredients of the material model "
   ]
  },
  {
   "cell_type": "markdown",
   "metadata": {},
   "source": [
    "## Implementation concept\n",
    "The gradient operators needed for the time-stepping scheme have been derived above and are now available for the implementation of the numerical algorithm both in `Python` and `C89` languages\n",
    "\n",
    "<table style=\"width:50%\">\n",
    "<tr>\n",
    "<th>Symbol</th>\n",
    "<th>Python</th>\n",
    "<th>C89</th>\n",
    "</tr>\n",
    "<tr>\n",
    "<td>$\\mathcal{S}(\\boldsymbol{\\varepsilon}, \\boldsymbol{\\mathcal{E}}) $  \n",
    "</td>\n",
    "<td>get_Sig</td>\n",
    "<td>get_Sig_C</td>\n",
    "</tr>\n",
    "<tr>\n",
    "<td>\n",
    "    $\\displaystyle\\frac{\\partial \\boldsymbol{\\mathcal{S}}}{\\partial \\boldsymbol{\\mathcal{E}}}\n",
    "    (\\boldsymbol{\\boldsymbol{\\varepsilon}, \\mathcal{E}}) $</td>\n",
    "<td>get_dSig_dEps</td>\n",
    "<td>get_dSig_dEps_C</td>\n",
    "</tr>\n",
    "<tr>\n",
    "<td>$ f(\\boldsymbol{\\mathcal{S}}, \\boldsymbol{\\mathcal{E}})$</td>\n",
    "<td>get_f</td>\n",
    "<td>get_f_C</td>\n",
    "</tr>\n",
    "<tr>\n",
    "<td>\n",
    "    $\\displaystyle\\frac{\\partial f}{\\partial \\boldsymbol{\\mathcal{S}}}\n",
    "    (\\boldsymbol{\\mathcal{S}},\\boldsymbol{\\mathcal{E}}) $\n",
    "    </td>\n",
    "<td>get_df_dSig</td>\n",
    "<td>get_df_dSig_C</td>\n",
    "</tr>\n",
    "<tr>\n",
    "<td>\n",
    "$\\displaystyle\\frac{\\partial^\\mathrm{dir} f}{\\partial^\\mathrm{dir} \\boldsymbol{\\mathcal{E}}}\n",
    "    (\\boldsymbol{\\mathcal{S}},\\boldsymbol{\\mathcal{E}}) $\n",
    "<td>get_ddf_dEps</td>\n",
    "<td>get_ddf_dEps_C</td>\n",
    "</tr>\n",
    "<tr>\n",
    "<td>\n",
    "    $\\boldsymbol{\\Phi}(\\boldsymbol{\\mathcal{S}}, \\boldsymbol{\\mathcal{E}}) $</td>\n",
    "<td>get_Phi</td>\n",
    "<td>get_Phi_C</td>\n",
    "</tr>\n",
    "<tr>\n",
    "<td>$\\displaystyle\\frac{\\partial \\boldsymbol{\\Phi}}{\\partial \\boldsymbol{\\mathcal{S}}}(\\boldsymbol{\\mathcal{S}}, \\boldsymbol{\\mathcal{E}}) $</td>\n",
    "<td>get_dPhi_dSig</td>\n",
    "<td>get_dPhi_dSig_C</td>\n",
    "</tr>\n",
    "<tr>\n",
    "<td>$\\displaystyle\\frac{\\partial^\\mathrm{dir} \\boldsymbol{\\Phi}}{\\partial^\\mathrm{dir} \\boldsymbol{\\mathcal{E}}}(\\boldsymbol{\\mathcal{S}}, \\boldsymbol{\\mathcal{E}}) $</td>\n",
    "<td>get_ddPhi_dEps</td>\n",
    "<td>get_ddPhi_dEps_C</td>\n",
    "</tr>\n",
    "</table>"
   ]
  },
  {
   "cell_type": "code",
   "execution_count": 53,
   "metadata": {},
   "outputs": [],
   "source": [
    "def get_f_df_k(s_n1, Eps_n, lam_k, Eps_k, *margs):\n",
    "    # Generalized stresses\n",
    "    Sig_k = get_Sig(s_n1, Eps_k, *margs)[0]\n",
    "    dSig_dEps_k = get_dSig_dEps(s_n1, Eps_k, *margs)\n",
    "    # Threshold value\n",
    "    f_k = np.array([get_f(Eps_k, Sig_k, *margs)])\n",
    "    #print('f_k', f_k)\n",
    "    df_dSig_k = get_df_dSig(Eps_k, Sig_k, *margs)\n",
    "    ddf_dEps_k = get_ddf_dEps(Eps_k, Sig_k, *margs)\n",
    "    df_dEps_k = np.einsum('ik,ij->kj', df_dSig_k, dSig_dEps_k) + ddf_dEps_k.T\n",
    "    # Flow potential\n",
    "    Phi_k = get_Phi(Eps_k, Sig_k, *margs)\n",
    "    print('Eps_k', Eps_k, 'Sig_k', Sig_k)\n",
    "    print(*margs)\n",
    "    print('Phi_k', Phi_k)\n",
    "    F_k = Eps_k[:,None] - Eps_n[:,None] - lam_k * Phi_k\n",
    "    dPhi_dSig_k = get_dPhi_dSig(Eps_k, Sig_k, *margs)\n",
    "    ddPhi_dEps_k = get_ddPhi_dEps(Eps_k, Sig_k, *margs)\n",
    "    dPhi_dEps_k = np.einsum('ik,kj->ij', dPhi_dSig_k, dSig_dEps_k) + ddPhi_dEps_k\n",
    "    # Predictor matrix\n",
    "    df_dlambda_k = np.einsum('ik,kj->ij', df_dEps_k, Phi_k)\n",
    "    dF_dEps_k = np.identity(len(Eps)) - lam_k * dPhi_dEps_k\n",
    "    dF_dlambda_k = -Phi_k\n",
    "    # Residuum value and derivative\n",
    "    R_k = np.block([[f_k],\n",
    "                    [F_k]])\n",
    "    dR_k = np.block([[df_dlambda_k, df_dEps_k],\n",
    "                     [dF_dlambda_k, dF_dEps_k]])\n",
    "    if False:\n",
    "        print('Sig_k', Sig_k)\n",
    "        print('dSig_dEps_k', dSig_dEps_k)\n",
    "        print('f_k', f_k)\n",
    "        print('df_dSig_k', df_dSig_k)\n",
    "        print('ddf_dEps_k', ddf_dEps_k)\n",
    "        print('df_dEps_k', df_dEps_k)\n",
    "        print('Phi_k', Phi_k)\n",
    "        print('dPhi_dSig_k', dPhi_dSig_k)\n",
    "        print('ddPhi_dEps_k', ddPhi_dEps_k)\n",
    "        print('dPhi_dEps_k', dPhi_dEps_k)\n",
    "        print('df_dlambda_k', df_dlambda_k)\n",
    "        print('dF_dEps_k', dF_dEps_k)\n",
    "        print('dF_dlambda_k', dF_dlambda_k)\n",
    "    return R_k, dR_k, Sig_k"
   ]
  },
  {
   "cell_type": "code",
   "execution_count": 54,
   "metadata": {},
   "outputs": [
    {
     "data": {
      "image/png": "[encoded data removed]",
      "text/latex": [
       "$\\displaystyle \\left[ 1, \\  0.6, \\  1, \\  0.6, \\  0.001, \\  1, \\  1\\right]$"
      ],
      "text/plain": [
       "[1, 0.6, 1, 0.6, 0.001, 1, 1]"
      ]
     },
     "execution_count": 54,
     "metadata": {},
     "output_type": "execute_result"
    }
   ],
   "source": [
    "margs = [material_params[map_py2sp[name]] for name in py_vars]\n",
    "margs"
   ]
  },
  {
   "cell_type": "code",
   "execution_count": 55,
   "metadata": {},
   "outputs": [
    {
     "name": "stdout",
     "output_type": "stream",
     "text": [
      "Eps_k [0.4 0.4 0.4 0.4] Sig_k [1.56 0.4  0.24 3.38]\n",
      "1 0.6 1 0.6 0.001 1 1\n",
      "Phi_k [[1.66666667]\n",
      " [1.        ]\n",
      " [1.        ]\n",
      " [0.60103812]]\n"
     ]
    }
   ],
   "source": [
    "if True: # debugging get_f_df_k\n",
    "    Eps_n = np.zeros((len(Eps),), dtype=np.float_)\n",
    "    get_f_df_k(3, Eps_n, 0, Eps_n+0.4, *margs)"
   ]
  },
  {
   "cell_type": "code",
   "execution_count": 58,
   "metadata": {},
   "outputs": [],
   "source": [
    "def get_response(margs, s_max=1.3, n_steps = 10, k_max=20, get_load_fn=lambda t: t):\n",
    "    Eps_n = np.zeros((len(Eps),), dtype=np.float_)\n",
    "    Eps_k = np.copy(Eps_n)\n",
    "    Sig_record = []\n",
    "    Eps_record = []\n",
    "    iter_record = []\n",
    "    t_arr = np.linspace(0,1,n_steps+1)\n",
    "    s_t = s_max * get_load_fn(t_arr)\n",
    "    for s_n1 in s_t:\n",
    "        print('s_n1', s_n1)\n",
    "        lam_k = 0\n",
    "        f_k, df_k, Sig_k = get_f_df_k(s_n1, Eps_n, lam_k, Eps_k, *margs)\n",
    "        f_k_norm = np.linalg.norm(f_k)\n",
    "        f_k_trial = f_k[0]\n",
    "        k = 0\n",
    "        while k < k_max:\n",
    "            print('R_k', f_k, f_k_norm)\n",
    "            if f_k_trial < 0 or f_k_norm < 1e-3:\n",
    "                Eps_n[...] = Eps_k[...]\n",
    "                Sig_record.append(Sig_k)\n",
    "                Eps_record.append(np.copy(Eps_k))\n",
    "                iter_record.append(k+1)\n",
    "                break\n",
    "            print('dR_k', df_k)\n",
    "            dU = np.linalg.solve(df_k, -f_k)\n",
    "            print('U_k', dU)\n",
    "            #np.nan_to_num(U, copy=False)\n",
    "            lam_k += dU[0,0]\n",
    "            Eps_k += dU[1:,0]\n",
    "            f_k, df_k, Sig_k = get_f_df_k(s_n1, Eps_n, lam_k, Eps_k, *margs)\n",
    "            f_k_norm = np.linalg.norm(f_k)\n",
    "            k += 1\n",
    "        else:\n",
    "            print('no convergence')\n",
    "    Sig_arr = np.array(Sig_record, dtype=np.float_)\n",
    "    Eps_arr = np.array(Eps_record, dtype=np.float_)\n",
    "    iter_arr = np.array(iter_record,dtype=np.int_)\n",
    "    return t_arr, s_t, Eps_arr, Sig_arr, iter_arr"
   ]
  },
  {
   "cell_type": "code",
   "execution_count": 60,
   "metadata": {
    "scrolled": false
   },
   "outputs": [
    {
     "name": "stdout",
     "output_type": "stream",
     "text": [
      "s_n1 0.0\n",
      "Eps_k [0. 0. 0. 0.] Sig_k [-0.  0.  0.  0.]\n",
      "1 0.6 1 0.6 0.001 1 1\n",
      "Phi_k [[nan]\n",
      " [ 1.]\n",
      " [nan]\n",
      " [nan]]\n",
      "R_k [[-1.]\n",
      " [nan]\n",
      " [ 0.]\n",
      " [nan]\n",
      " [nan]] nan\n",
      "s_n1 1.1\n",
      "Eps_k [0. 0. 0. 0.] Sig_k [1.1   0.    0.    0.605]\n",
      "1 0.6 1 0.6 0.001 1 1\n",
      "Phi_k [[1.       ]\n",
      " [1.       ]\n",
      " [1.       ]\n",
      " [1.0000083]]\n",
      "R_k [[0.1]\n",
      " [0. ]\n",
      " [0. ]\n",
      " [0. ]\n",
      " [0. ]] 0.10000000000000009\n",
      "dR_k [[-2.6       -1.        -1.        -0.6        0.       ]\n",
      " [-1.         1.         0.         0.         0.       ]\n",
      " [-1.         0.         1.         0.         0.       ]\n",
      " [-1.         0.         0.         1.         0.       ]\n",
      " [-1.0000083  0.         0.         0.         1.       ]]\n",
      "U_k [[0.01923077]\n",
      " [0.01923077]\n",
      " [0.01923077]\n",
      " [0.01923077]\n",
      " [0.01923093]]\n",
      "Eps_k [0.01923077 0.01923077 0.01923077 0.01923093] Sig_k [1.05998503 0.01923077 0.01153846 0.58403107]\n",
      "1 0.6 1 0.6 0.001 1 1\n",
      "Phi_k [[1.01960801]\n",
      " [1.        ]\n",
      " [1.        ]\n",
      " [0.98074261]]\n",
      "R_k [[ 5.00000000e-02]\n",
      " [-3.77077097e-04]\n",
      " [ 3.46944695e-18]\n",
      " [ 0.00000000e+00]\n",
      " [ 3.70493923e-04]] 0.05000279445075577\n",
      "dR_k [[-2.61960801e+00 -1.00000000e+00 -1.00000000e+00 -6.00000000e-01\n",
      "  -2.22044605e-16]\n",
      " [-1.01960801e+00  1.00000000e+00  0.00000000e+00  0.00000000e+00\n",
      "  -1.99923172e-02]\n",
      " [-1.00000000e+00  0.00000000e+00  1.00000000e+00  0.00000000e+00\n",
      "   0.00000000e+00]\n",
      " [-1.00000000e+00  0.00000000e+00  0.00000000e+00  1.00000000e+00\n",
      "   0.00000000e+00]\n",
      " [-9.80742615e-01  3.49018724e-05  0.00000000e+00  0.00000000e+00\n",
      "   1.01923025e+00]]\n",
      "U_k [[0.00943817]\n",
      " [0.01017461]\n",
      " [0.00943817]\n",
      " [0.00943817]\n",
      " [0.00871792]]\n",
      "Eps_k [0.02940538 0.02866894 0.02866894 0.02794885] Sig_k [1.04067273 0.02866894 0.01720137 0.57308643]\n",
      "1 0.6 1 0.6 0.001 1 1\n",
      "Phi_k [[1.02875245]\n",
      " [1.        ]\n",
      " [1.        ]\n",
      " [0.97200654]]\n",
      "R_k [[ 2.47243157e-02]\n",
      " [-8.78699628e-05]\n",
      " [ 0.00000000e+00]\n",
      " [ 0.00000000e+00]\n",
      " [ 8.24511061e-05]] 0.024724609339135183\n",
      "dR_k [[-2.62875245e+00 -1.00000000e+00 -1.00000000e+00 -6.00000000e-01\n",
      "   0.00000000e+00]\n",
      " [-1.02875245e+00  1.00000000e+00  0.00000000e+00  0.00000000e+00\n",
      "  -3.03412484e-02]\n",
      " [-1.00000000e+00  0.00000000e+00  1.00000000e+00  0.00000000e+00\n",
      "   0.00000000e+00]\n",
      " [-1.00000000e+00  0.00000000e+00  0.00000000e+00  1.00000000e+00\n",
      "   0.00000000e+00]\n",
      " [-9.72006539e-01  5.20577994e-05  0.00000000e+00  0.00000000e+00\n",
      "   1.02866763e+00]]\n",
      "U_k [[0.004661  ]\n",
      " [0.00501408]\n",
      " [0.004661  ]\n",
      " [0.004661  ]\n",
      " [0.00432386]]\n",
      "Eps_k [0.03441946 0.03332995 0.03332995 0.03227271] Sig_k [1.03119137 0.03332995 0.01999797 0.56773095]\n",
      "1 0.6 1 0.6 0.001 1 1\n",
      "Phi_k [[1.03334897]\n",
      " [1.        ]\n",
      " [1.        ]\n",
      " [0.96767379]]\n",
      "R_k [[ 1.22526272e-02]\n",
      " [-2.20105889e-05]\n",
      " [ 0.00000000e+00]\n",
      " [ 0.00000000e+00]\n",
      " [ 2.01944019e-05]] 0.012252663633470861\n",
      "dR_k [[-2.63334897e+00 -1.00000000e+00 -1.00000000e+00 -6.00000000e-01\n",
      "   0.00000000e+00]\n",
      " [-1.03334897e+00  1.00000000e+00  0.00000000e+00  0.00000000e+00\n",
      "  -3.55900547e-02]\n",
      " [-1.00000000e+00  0.00000000e+00  1.00000000e+00  0.00000000e+00\n",
      "   0.00000000e+00]\n",
      " [-1.00000000e+00  0.00000000e+00  0.00000000e+00  1.00000000e+00\n",
      "   0.00000000e+00]\n",
      " [-9.67673792e-01  6.05351083e-05  0.00000000e+00  0.00000000e+00\n",
      "   1.03332811e+00]]\n",
      "U_k [[0.00230778]\n",
      " [0.00248297]\n",
      " [0.00230778]\n",
      " [0.00230778]\n",
      " [0.00214147]]\n",
      "Eps_k [0.03690243 0.03563773 0.03563773 0.03441418] Sig_k [1.02651194 0.03563773 0.02138264 0.56508822]\n",
      "1 0.6 1 0.6 0.001 1 1\n",
      "Phi_k [[1.03564072]\n",
      " [1.        ]\n",
      " [1.        ]\n",
      " [0.96552794]]\n",
      "R_k [[ 6.07720086e-03]\n",
      " [-5.45789488e-06]\n",
      " [ 0.00000000e+00]\n",
      " [ 0.00000000e+00]\n",
      " [ 4.95200746e-06]] 0.006077205330699577\n",
      "dR_k [[-2.63564072e+00 -1.00000000e+00 -1.00000000e+00 -6.00000000e-01\n",
      "  -2.22044605e-16]\n",
      " [-1.03564072e+00  1.00000000e+00  0.00000000e+00  0.00000000e+00\n",
      "  -3.82233101e-02]\n",
      " [-1.00000000e+00  0.00000000e+00  1.00000000e+00  0.00000000e+00\n",
      "   0.00000000e+00]\n",
      " [-1.00000000e+00  0.00000000e+00  0.00000000e+00  1.00000000e+00\n",
      "   0.00000000e+00]\n",
      " [-9.65527939e-01  6.47338995e-05  0.00000000e+00  0.00000000e+00\n",
      "   1.03563560e+00]]\n",
      "U_k [[0.00114415]\n",
      " [0.00123098]\n",
      " [0.00114415]\n",
      " [0.00114415]\n",
      " [0.00106184]]\n",
      "Eps_k [0.03813341 0.03678189 0.03678189 0.03547602] Sig_k [1.0241958  0.03678189 0.02206913 0.56378033]\n",
      "1 0.6 1 0.6 0.001 1 1\n",
      "Phi_k [[1.03678086]\n",
      " [1.        ]\n",
      " [1.        ]\n",
      " [0.96446393]]\n",
      "R_k [[ 3.01557794e-03]\n",
      " [-1.34917004e-06]\n",
      " [ 0.00000000e+00]\n",
      " [ 0.00000000e+00]\n",
      " [ 1.21735212e-06]] 0.0030155784871519925\n",
      "dR_k [[-2.63678086e+00 -1.00000000e+00 -1.00000000e+00 -6.00000000e-01\n",
      "   2.22044605e-16]\n",
      " [-1.03678086e+00  1.00000000e+00  0.00000000e+00  0.00000000e+00\n",
      "  -3.95373836e-02]\n",
      " [-1.00000000e+00  0.00000000e+00  1.00000000e+00  0.00000000e+00\n",
      "   0.00000000e+00]\n",
      " [-1.00000000e+00  0.00000000e+00  0.00000000e+00  1.00000000e+00\n",
      "   0.00000000e+00]\n",
      " [-9.64463927e-01  6.68159292e-05  0.00000000e+00  0.00000000e+00\n",
      "   1.03677960e+00]]\n",
      "U_k [[0.00056762]\n",
      " [0.00061068]\n",
      " [0.00056762]\n",
      " [0.00056762]\n",
      " [0.00052682]]\n",
      "Eps_k [0.03874409 0.03734951 0.03734951 0.03600284] Sig_k [1.02304769 0.03734951 0.02240971 0.56313206]\n",
      "1 0.6 1 0.6 0.001 1 1\n",
      "Phi_k [[1.03734745]\n",
      " [1.        ]\n",
      " [1.        ]\n",
      " [0.96393603]]\n",
      "R_k [[ 1.49669987e-03]\n",
      " [-3.32995408e-07]\n",
      " [ 0.00000000e+00]\n",
      " [ 0.00000000e+00]\n",
      " [ 2.99635079e-07]] 0.0014966999399594163\n",
      "dR_k [[-2.63734745e+00 -1.00000000e+00 -1.00000000e+00 -6.00000000e-01\n",
      "   0.00000000e+00]\n",
      " [-1.03734745e+00  1.00000000e+00  0.00000000e+00  0.00000000e+00\n",
      "  -4.01914236e-02]\n",
      " [-1.00000000e+00  0.00000000e+00  1.00000000e+00  0.00000000e+00\n",
      "   0.00000000e+00]\n",
      " [-1.00000000e+00  0.00000000e+00  0.00000000e+00  1.00000000e+00\n",
      "   0.00000000e+00]\n",
      " [-9.63936032e-01  6.78489274e-05  0.00000000e+00  0.00000000e+00\n",
      "   1.03734714e+00]]\n",
      "U_k [[0.0002817 ]\n",
      " [0.00030306]\n",
      " [0.0002817 ]\n",
      " [0.0002817 ]\n",
      " [0.00026145]]\n",
      "Eps_k [0.03904714 0.0376312  0.0376312  0.03626429] Sig_k [1.02247816 0.0376312  0.02257872 0.56281048]\n",
      "1 0.6 1 0.6 0.001 1 1\n",
      "Phi_k [[1.03762887]\n",
      " [1.        ]\n",
      " [1.        ]\n",
      " [0.96367405]]\n",
      "R_k [[ 7.42929376e-04]\n",
      " [-8.21261303e-08]\n",
      " [ 0.00000000e+00]\n",
      " [ 0.00000000e+00]\n",
      " [ 7.37976248e-08]] 0.0007429293842551249\n"
     ]
    }
   ],
   "source": [
    "t_arr, s_t, Eps_arr, Sigma_arr, iter_arr = get_response(\n",
    "    margs=margs, s_max=1.1, n_steps=1, k_max=10\n",
    ")"
   ]
  },
  {
   "cell_type": "code",
   "execution_count": 364,
   "metadata": {
    "scrolled": false
   },
   "outputs": [
    {
     "name": "stdout",
     "output_type": "stream",
     "text": [
      "s_n1 1e-09\n",
      "Eps_k [0. 0. 0. 0.] Sig_k [1.e-09 0.e+00 0.e+00 5.e-19]\n",
      "1 0.6 1 0.6 0.001 1 1\n",
      "Phi_k [[1.        ]\n",
      " [1.        ]\n",
      " [1.        ]\n",
      " [0.95922573]]\n",
      "s_n1 1.1000000010000002\n",
      "Eps_k [0. 0. 0. 0.] Sig_k [1.1   0.    0.    0.605]\n",
      "1 0.6 1 0.6 0.001 1 1\n",
      "Phi_k [[1.       ]\n",
      " [1.       ]\n",
      " [1.       ]\n",
      " [1.0000083]]\n",
      "R_k [[0.1]\n",
      " [0. ]\n",
      " [0. ]\n",
      " [0. ]\n",
      " [0. ]]\n",
      "dR_k [[-2.6       -0.        -0.        -0.         0.       ]\n",
      " [-1.         1.         0.         0.         0.       ]\n",
      " [-1.         0.         1.         0.         0.       ]\n",
      " [-1.         0.         0.         1.         0.       ]\n",
      " [-1.0000083  0.         0.         0.         1.       ]]\n",
      "U_k [[0.03846154]\n",
      " [0.03846154]\n",
      " [0.03846154]\n",
      " [0.03846154]\n",
      " [0.03846186]]\n",
      "Eps_k [0.03846154 0.03846154 0.03846154 0.03846186] Sig_k [1.02070972 0.03846154 0.02307692 0.56343195]\n",
      "1 0.6 1 0.6 0.001 1 1\n",
      "Phi_k [[1.04000035]\n",
      " [1.        ]\n",
      " [1.        ]\n",
      " [0.96147768]]\n",
      "no convergence\n"
     ]
    },
    {
     "ename": "ValueError",
     "evalue": "x and y must have same first dimension, but have shapes (2,) and (1,)",
     "output_type": "error",
     "traceback": [
      "\u001b[0;31m---------------------------------------------------------------------------\u001b[0m",
      "\u001b[0;31mValueError\u001b[0m                                Traceback (most recent call last)",
      "\u001b[0;32m<ipython-input-364-77195cfe258e>\u001b[0m in \u001b[0;36m<module>\u001b[0;34m\u001b[0m\n\u001b[1;32m      4\u001b[0m \u001b[0mfig\u001b[0m\u001b[0;34m,\u001b[0m \u001b[0;34m(\u001b[0m\u001b[0;34m(\u001b[0m\u001b[0max1\u001b[0m\u001b[0;34m,\u001b[0m\u001b[0max2\u001b[0m\u001b[0;34m)\u001b[0m\u001b[0;34m,\u001b[0m\u001b[0;34m(\u001b[0m\u001b[0max3\u001b[0m\u001b[0;34m,\u001b[0m\u001b[0max4\u001b[0m\u001b[0;34m)\u001b[0m\u001b[0;34m)\u001b[0m \u001b[0;34m=\u001b[0m \u001b[0mplt\u001b[0m\u001b[0;34m.\u001b[0m\u001b[0msubplots\u001b[0m\u001b[0;34m(\u001b[0m\u001b[0;36m2\u001b[0m\u001b[0;34m,\u001b[0m\u001b[0;36m2\u001b[0m\u001b[0;34m,\u001b[0m\u001b[0mfigsize\u001b[0m\u001b[0;34m=\u001b[0m\u001b[0;34m(\u001b[0m\u001b[0;36m12\u001b[0m\u001b[0;34m,\u001b[0m \u001b[0;36m10\u001b[0m\u001b[0;34m)\u001b[0m\u001b[0;34m)\u001b[0m\u001b[0;34m\u001b[0m\u001b[0;34m\u001b[0m\u001b[0m\n\u001b[1;32m      5\u001b[0m \u001b[0mcolors\u001b[0m \u001b[0;34m=\u001b[0m \u001b[0;34m[\u001b[0m\u001b[0;34m'blue'\u001b[0m\u001b[0;34m,\u001b[0m\u001b[0;34m'red'\u001b[0m\u001b[0;34m,\u001b[0m \u001b[0;34m'green'\u001b[0m\u001b[0;34m,\u001b[0m \u001b[0;34m'black'\u001b[0m\u001b[0;34m,\u001b[0m \u001b[0;34m'magenta'\u001b[0m \u001b[0;34m]\u001b[0m\u001b[0;34m\u001b[0m\u001b[0;34m\u001b[0m\u001b[0m\n\u001b[0;32m----> 6\u001b[0;31m \u001b[0max1\u001b[0m\u001b[0;34m.\u001b[0m\u001b[0mplot\u001b[0m\u001b[0;34m(\u001b[0m\u001b[0ms_t\u001b[0m\u001b[0;34m,\u001b[0m \u001b[0mSigma_arr\u001b[0m\u001b[0;34m[\u001b[0m\u001b[0;34m:\u001b[0m\u001b[0;34m,\u001b[0m\u001b[0;36m0\u001b[0m\u001b[0;34m]\u001b[0m\u001b[0;34m,\u001b[0m \u001b[0mcolor\u001b[0m\u001b[0;34m=\u001b[0m\u001b[0;34m'red'\u001b[0m\u001b[0;34m)\u001b[0m\u001b[0;34m;\u001b[0m\u001b[0;34m\u001b[0m\u001b[0;34m\u001b[0m\u001b[0m\n\u001b[0m\u001b[1;32m      7\u001b[0m \u001b[0max2\u001b[0m\u001b[0;34m.\u001b[0m\u001b[0mplot\u001b[0m\u001b[0;34m(\u001b[0m\u001b[0mt_arr\u001b[0m\u001b[0;34m,\u001b[0m \u001b[0miter_arr\u001b[0m\u001b[0;34m,\u001b[0m \u001b[0mcolor\u001b[0m\u001b[0;34m=\u001b[0m\u001b[0;34m'green'\u001b[0m\u001b[0;34m)\u001b[0m\u001b[0;34m;\u001b[0m\u001b[0;34m\u001b[0m\u001b[0;34m\u001b[0m\u001b[0m\n",
      "\u001b[0;32m~/miniconda3/lib/python3.7/site-packages/matplotlib/axes/_axes.py\u001b[0m in \u001b[0;36mplot\u001b[0;34m(self, scalex, scaley, data, *args, **kwargs)\u001b[0m\n\u001b[1;32m   1644\u001b[0m         \"\"\"\n\u001b[1;32m   1645\u001b[0m         \u001b[0mkwargs\u001b[0m \u001b[0;34m=\u001b[0m \u001b[0mcbook\u001b[0m\u001b[0;34m.\u001b[0m\u001b[0mnormalize_kwargs\u001b[0m\u001b[0;34m(\u001b[0m\u001b[0mkwargs\u001b[0m\u001b[0;34m,\u001b[0m \u001b[0mmlines\u001b[0m\u001b[0;34m.\u001b[0m\u001b[0mLine2D\u001b[0m\u001b[0;34m)\u001b[0m\u001b[0;34m\u001b[0m\u001b[0;34m\u001b[0m\u001b[0m\n\u001b[0;32m-> 1646\u001b[0;31m         \u001b[0mlines\u001b[0m \u001b[0;34m=\u001b[0m \u001b[0;34m[\u001b[0m\u001b[0;34m*\u001b[0m\u001b[0mself\u001b[0m\u001b[0;34m.\u001b[0m\u001b[0m_get_lines\u001b[0m\u001b[0;34m(\u001b[0m\u001b[0;34m*\u001b[0m\u001b[0margs\u001b[0m\u001b[0;34m,\u001b[0m \u001b[0mdata\u001b[0m\u001b[0;34m=\u001b[0m\u001b[0mdata\u001b[0m\u001b[0;34m,\u001b[0m \u001b[0;34m**\u001b[0m\u001b[0mkwargs\u001b[0m\u001b[0;34m)\u001b[0m\u001b[0;34m]\u001b[0m\u001b[0;34m\u001b[0m\u001b[0;34m\u001b[0m\u001b[0m\n\u001b[0m\u001b[1;32m   1647\u001b[0m         \u001b[0;32mfor\u001b[0m \u001b[0mline\u001b[0m \u001b[0;32min\u001b[0m \u001b[0mlines\u001b[0m\u001b[0;34m:\u001b[0m\u001b[0;34m\u001b[0m\u001b[0;34m\u001b[0m\u001b[0m\n\u001b[1;32m   1648\u001b[0m             \u001b[0mself\u001b[0m\u001b[0;34m.\u001b[0m\u001b[0madd_line\u001b[0m\u001b[0;34m(\u001b[0m\u001b[0mline\u001b[0m\u001b[0;34m)\u001b[0m\u001b[0;34m\u001b[0m\u001b[0;34m\u001b[0m\u001b[0m\n",
      "\u001b[0;32m~/miniconda3/lib/python3.7/site-packages/matplotlib/axes/_base.py\u001b[0m in \u001b[0;36m__call__\u001b[0;34m(self, *args, **kwargs)\u001b[0m\n\u001b[1;32m    214\u001b[0m                 \u001b[0mthis\u001b[0m \u001b[0;34m+=\u001b[0m \u001b[0margs\u001b[0m\u001b[0;34m[\u001b[0m\u001b[0;36m0\u001b[0m\u001b[0;34m]\u001b[0m\u001b[0;34m,\u001b[0m\u001b[0;34m\u001b[0m\u001b[0;34m\u001b[0m\u001b[0m\n\u001b[1;32m    215\u001b[0m                 \u001b[0margs\u001b[0m \u001b[0;34m=\u001b[0m \u001b[0margs\u001b[0m\u001b[0;34m[\u001b[0m\u001b[0;36m1\u001b[0m\u001b[0;34m:\u001b[0m\u001b[0;34m]\u001b[0m\u001b[0;34m\u001b[0m\u001b[0;34m\u001b[0m\u001b[0m\n\u001b[0;32m--> 216\u001b[0;31m             \u001b[0;32myield\u001b[0m \u001b[0;32mfrom\u001b[0m \u001b[0mself\u001b[0m\u001b[0;34m.\u001b[0m\u001b[0m_plot_args\u001b[0m\u001b[0;34m(\u001b[0m\u001b[0mthis\u001b[0m\u001b[0;34m,\u001b[0m \u001b[0mkwargs\u001b[0m\u001b[0;34m)\u001b[0m\u001b[0;34m\u001b[0m\u001b[0;34m\u001b[0m\u001b[0m\n\u001b[0m\u001b[1;32m    217\u001b[0m \u001b[0;34m\u001b[0m\u001b[0m\n\u001b[1;32m    218\u001b[0m     \u001b[0;32mdef\u001b[0m \u001b[0mget_next_color\u001b[0m\u001b[0;34m(\u001b[0m\u001b[0mself\u001b[0m\u001b[0;34m)\u001b[0m\u001b[0;34m:\u001b[0m\u001b[0;34m\u001b[0m\u001b[0;34m\u001b[0m\u001b[0m\n",
      "\u001b[0;32m~/miniconda3/lib/python3.7/site-packages/matplotlib/axes/_base.py\u001b[0m in \u001b[0;36m_plot_args\u001b[0;34m(self, tup, kwargs)\u001b[0m\n\u001b[1;32m    340\u001b[0m \u001b[0;34m\u001b[0m\u001b[0m\n\u001b[1;32m    341\u001b[0m         \u001b[0;32mif\u001b[0m \u001b[0mx\u001b[0m\u001b[0;34m.\u001b[0m\u001b[0mshape\u001b[0m\u001b[0;34m[\u001b[0m\u001b[0;36m0\u001b[0m\u001b[0;34m]\u001b[0m \u001b[0;34m!=\u001b[0m \u001b[0my\u001b[0m\u001b[0;34m.\u001b[0m\u001b[0mshape\u001b[0m\u001b[0;34m[\u001b[0m\u001b[0;36m0\u001b[0m\u001b[0;34m]\u001b[0m\u001b[0;34m:\u001b[0m\u001b[0;34m\u001b[0m\u001b[0;34m\u001b[0m\u001b[0m\n\u001b[0;32m--> 342\u001b[0;31m             raise ValueError(f\"x and y must have same first dimension, but \"\n\u001b[0m\u001b[1;32m    343\u001b[0m                              f\"have shapes {x.shape} and {y.shape}\")\n\u001b[1;32m    344\u001b[0m         \u001b[0;32mif\u001b[0m \u001b[0mx\u001b[0m\u001b[0;34m.\u001b[0m\u001b[0mndim\u001b[0m \u001b[0;34m>\u001b[0m \u001b[0;36m2\u001b[0m \u001b[0;32mor\u001b[0m \u001b[0my\u001b[0m\u001b[0;34m.\u001b[0m\u001b[0mndim\u001b[0m \u001b[0;34m>\u001b[0m \u001b[0;36m2\u001b[0m\u001b[0;34m:\u001b[0m\u001b[0;34m\u001b[0m\u001b[0;34m\u001b[0m\u001b[0m\n",
      "\u001b[0;31mValueError\u001b[0m: x and y must have same first dimension, but have shapes (2,) and (1,)"
     ]
    },
    {
     "data": {
      "image/png": "[encoded data removed]",
      "text/plain": [
       "<Figure size 864x720 with 4 Axes>"
      ]
     },
     "metadata": {
      "needs_background": "light"
     },
     "output_type": "display_data"
    }
   ],
   "source": [
    "t_arr, s_t, Eps_arr, Sigma_arr, iter_arr = get_response(\n",
    "    margs=margs, s_max=1.1, n_steps=1, k_max=1\n",
    ")\n",
    "fig, ((ax1,ax2),(ax3,ax4)) = plt.subplots(2,2,figsize=(12, 10))\n",
    "colors = ['blue','red', 'green', 'black', 'magenta' ]\n",
    "ax1.plot(s_t, Sigma_arr[:,0], color='red');\n",
    "ax2.plot(t_arr, iter_arr, color='green');"
   ]
  },
  {
   "cell_type": "code",
   "execution_count": 69,
   "metadata": {},
   "outputs": [],
   "source": [
    "def plot_Sigma_Eta(Sigma, Eta):\n",
    "    fig, ((ax1,ax2),(ax3,ax4)) = plt.subplots(2,2,figsize=(10,6))\n",
    "    colors = ['blue','red', 'green', 'black', 'magenta' ]\n",
    "    s_pi_, z_, alpha_, omega_ = Eta_arr.T\n",
    "    sig_pi_, Z_, X_, Y_ = Sigma_arr.T\n",
    "    ax1.plot(s_t, sig_pi_, color='black', \n",
    "             label='n_steps = %g' % n_step)\n",
    "    ax1.set_xlabel('$s$'); ax1.set_ylabel(r'$\\tau$')\n",
    "    ax1.legend()\n",
    "    ax11 = ax1.twinx()\n",
    "    ax11.plot(s_t, iter_arr, '-.')\n",
    "    ax2.plot(t_arr, omega_, color='red', \n",
    "             label='n_steps = %g' % n_step)\n",
    "    ax2.set_xlabel('$s$'); ax2.set_ylabel(r'$\\omega$')\n",
    "    ax22 = ax2.twinx()\n",
    "    ax22.plot(t_arr, Y_, '-.', color='red', \n",
    "             label='n_steps = %g' % n_step)\n",
    "    ax22.set_ylabel('$Y$')\n",
    "    ax3.plot(t_arr, z_, color='green', \n",
    "             label='n_steps = %g' % n_step)\n",
    "    ax3.set_xlabel('$s$'); ax3.set_ylabel(r'$z$')\n",
    "    ax33 = ax3.twinx()\n",
    "    ax33.plot(t_arr, Z_, '-.', color='green')\n",
    "    ax33.set_ylabel(r'$Z$')\n",
    "    ax4.plot(t_arr, alpha_, color='blue', \n",
    "             label='n_steps = %g' % n_step)\n",
    "    ax4.set_xlabel('$s$'); ax4.set_ylabel(r'$Z$')\n",
    "    ax44 = ax4.twinx()\n",
    "    ax44.plot(t_arr, X_, '-.', color='blue')\n",
    "    plt.show()"
   ]
  },
  {
   "cell_type": "markdown",
   "metadata": {},
   "source": [
    "## Load history"
   ]
  },
  {
   "cell_type": "code",
   "execution_count": null,
   "metadata": {
    "scrolled": true
   },
   "outputs": [],
   "source": [
    "t = sp.symbols('t')\n",
    "load_fn = sp.Piecewise(\n",
    "    (2*t, t < 0.5),\n",
    "    (1-2*(t-0.5), t < 0.75),\n",
    "    (0.5+2*(t-0.75), t < 1),\n",
    "    (1-2*(t-1), t < 1.25),\n",
    "    (0.5+2*(t-1.25), t >= 1.25)\n",
    ")\n",
    "get_load_fn = sp.lambdify(\n",
    "    t, load_fn\n",
    ")\n",
    "t_arr = np.linspace(0,1.5,100)\n",
    "s_t = get_load_fn( np.linspace(1e-9,1.5,100))\n",
    "plt.plot( t_arr, s_t);"
   ]
  },
  {
   "cell_type": "code",
   "execution_count": null,
   "metadata": {
    "scrolled": false
   },
   "outputs": [],
   "source": [
    "t_arr, s_t, Eta_arr, Sigma_arr, iter_arr = get_response(\n",
    "    n_steps=100, get_load_fn=get_load_fn)\n",
    "fig, ((ax1,ax2),(ax3,ax4)) = plt.subplots(2,2,figsize=(12, 10))\n",
    "colors = ['blue','red', 'green', 'black', 'magenta' ]\n",
    "ax1.plot(s_t, Sigma_arr[:,0], color='red');\n",
    "ax2.plot(t_arr, iter_arr, color='green');"
   ]
  }
 ],
 "metadata": {
  "kernelspec": {
   "display_name": "Python 3",
   "language": "python",
   "name": "python3"
  },
  "language_info": {
   "codemirror_mode": {
    "name": "ipython",
    "version": 3
   },
   "file_extension": ".py",
   "mimetype": "text/x-python",
   "name": "python",
   "nbconvert_exporter": "python",
   "pygments_lexer": "ipython3",
   "version": "3.7.6"
  },
  "toc": {
   "base_numbering": 1,
   "nav_menu": {},
   "number_sections": true,
   "sideBar": true,
   "skip_h1_title": false,
   "title_cell": "Table of Contents",
   "title_sidebar": "Contents",
   "toc_cell": false,
   "toc_position": {
    "height": "calc(100% - 180px)",
    "left": "10px",
    "top": "150px",
    "width": "165px"
   },
   "toc_section_display": true,
   "toc_window_display": false
  }
 },
 "nbformat": 4,
 "nbformat_minor": 2
}
