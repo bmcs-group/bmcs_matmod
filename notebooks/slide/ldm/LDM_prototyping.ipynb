{
 "cells": [
  {
   "cell_type": "code",
   "execution_count": null,
   "id": "3232e126",
   "metadata": {
    "pycharm": {
     "is_executing": true
    }
   },
   "outputs": [],
   "source": [
    "%matplotlib widget\n",
    "import ldm\n",
    "import matplotlib.pylab as plt\n",
    "# from mayavi import mlab"
   ]
  },
  {
   "cell_type": "code",
   "execution_count": null,
   "id": "1857b4d8",
   "metadata": {},
   "outputs": [],
   "source": [
    "#X_Ia, I_Li, fixed_dofs, control_dofs, w_max = ldm.test01_couple()\n",
    "X_Ia, I_Li, fixed_dofs, control_dofs, w_max = ldm.test05_lattice()\n",
    "#X_Ia, I_Li, fixed_dofs, control_dofs, w_max = ldm.test04_mgrid()"
   ]
  },
  {
   "cell_type": "code",
   "execution_count": null,
   "id": "18136cf7",
   "metadata": {},
   "outputs": [],
   "source": [
    "I_Li"
   ]
  },
  {
   "cell_type": "code",
   "execution_count": null,
   "id": "655a60a4",
   "metadata": {},
   "outputs": [],
   "source": [
    "tes = ldm.LatticeTessellation(\n",
    "    X_Ia=X_Ia,\n",
    "    I_Li=I_Li\n",
    ")"
   ]
  },
  {
   "cell_type": "code",
   "execution_count": null,
   "id": "33ce0034",
   "metadata": {},
   "outputs": [],
   "source": [
    "ldm_model = ldm.LDMModel(\n",
    "    lattice_tessellation=tes,\n",
    "    mats='elastic',\n",
    "    fixed_dofs=fixed_dofs,\n",
    "    control_dofs=control_dofs,\n",
    "    w_max=-0.01\n",
    ")"
   ]
  },
  {
   "cell_type": "code",
   "execution_count": null,
   "id": "9da3f910-1146-4b40-8f82-f944792e2cc7",
   "metadata": {},
   "outputs": [],
   "source": [
    "material_params = dict(\n",
    "    E_T=1000, gamma_T=100, K_T=0, S_T=0.0005, c_T=1, bartau=3, \n",
    "    E_N=1000, S_N=0.001, c_N = 1, m = 0.01, f_t=3, f_c=20, f_c0=10, eta=0.0 # 0.5\n",
    ")"
   ]
  },
  {
   "cell_type": "code",
   "execution_count": null,
   "id": "accc06bf-cba1-4c0b-947b-301a150404ee",
   "metadata": {},
   "outputs": [],
   "source": [
    "#ldm_model.mats_.trait_set(**material_params);"
   ]
  },
  {
   "cell_type": "code",
   "execution_count": null,
   "id": "12c510d2-86ca-4615-9381-63a3db58045a",
   "metadata": {},
   "outputs": [],
   "source": [
    "ldm_model.domains[0][1];"
   ]
  },
  {
   "cell_type": "code",
   "execution_count": null,
   "id": "7f24571c",
   "metadata": {},
   "outputs": [],
   "source": [
    "ldm_model.hist.vis_record = {\n",
    "    'Pw': ldm.LatticeRecord(),\n",
    "    'eps':  ldm.Vis3DLattice(var='eps')\n",
    "}"
   ]
  },
  {
   "cell_type": "code",
   "execution_count": null,
   "id": "a401feb3",
   "metadata": {},
   "outputs": [],
   "source": [
    "s = ldm_model.sim\n",
    "s.tloop.verbose = True\n",
    "s.tloop.k_max = 1000\n",
    "s.tline.step = 0.5\n",
    "s.tstep.fe_domain.serialized_subdomains"
   ]
  },
  {
   "cell_type": "code",
   "execution_count": null,
   "id": "8d832f34",
   "metadata": {},
   "outputs": [],
   "source": [
    "s.run()"
   ]
  },
  {
   "cell_type": "code",
   "execution_count": null,
   "id": "8f50de69",
   "metadata": {},
   "outputs": [],
   "source": [
    "import numpy as np\n",
    "X_Ia = np.array(ldm_model.fe_domain[0].xmodel.X_Ia, dtype=np.float32)\n",
    "I_Li = np.array(ldm_model.fe_domain[0].xmodel.I_Li, dtype=np.int_)"
   ]
  },
  {
   "cell_type": "code",
   "execution_count": null,
   "id": "9580e8b0",
   "metadata": {},
   "outputs": [],
   "source": [
    "import numpy as np\n",
    "import k3d\n",
    "# k3d.points(X_Ia,point_size=0.02,\n",
    "#             shader='3d', color=0x3f6bc5)\n",
    "k3d.lines(X_Ia, I_Li,\n",
    "              shader='mesh', width=0.0025,\n",
    "              color=0xc6884b,\n",
    "              model_matrix=(1.0, 0.0, 0.0, 0.0,\n",
    "                            0.0, 0.0, 1.0, 0.0,\n",
    "                            0.0, 1.0, 0.0, 0.0,\n",
    "                            0.0, 0.0, 0.0, 1.0))\n"
   ]
  },
  {
   "cell_type": "code",
   "execution_count": null,
   "id": "ea98c8c9",
   "metadata": {},
   "outputs": [],
   "source": [
    "_, ax = plt.subplots(1,1)\n",
    "P, w = ldm_model.hist['Pw'].Pw\n",
    "ax.plot(w, P)"
   ]
  },
  {
   "cell_type": "code",
   "execution_count": null,
   "id": "993c76bf",
   "metadata": {},
   "outputs": [],
   "source": [
    "# mlab.options.backend = 'envisage'\n",
    "# mlab.options.offscreen = False # 'envisage'\n",
    "# f_strain = mlab.figure()\n",
    "# scene = mlab.get_engine().scenes[-1]\n",
    "# scene.name = 'strain'\n",
    "# strain_viz = ldm.Viz3DLattice(vis3d=ldm_model.hist['eps'])\n",
    "# strain_viz.setup()\n",
    "# strain_viz.warp_vector.filter.scale_factor = 0.1\n",
    "# strain_viz.plot(s.tstep.t_n)\n",
    "# mlab.show()"
   ]
  },
  {
   "cell_type": "code",
   "execution_count": null,
   "id": "5bca44e9-0282-40b6-b1dc-afc36c416656",
   "metadata": {},
   "outputs": [],
   "source": []
  }
 ],
 "metadata": {
  "kernelspec": {
   "display_name": "bmcs_env2",
   "language": "python",
   "name": "python3"
  },
  "language_info": {
   "codemirror_mode": {
    "name": "ipython",
    "version": 3
   },
   "file_extension": ".py",
   "mimetype": "text/x-python",
   "name": "python",
   "nbconvert_exporter": "python",
   "pygments_lexer": "ipython3"
  },
  "toc": {
   "base_numbering": 1,
   "nav_menu": {},
   "number_sections": true,
   "sideBar": true,
   "skip_h1_title": false,
   "title_cell": "Table of Contents",
   "title_sidebar": "Contents",
   "toc_cell": false,
   "toc_position": {},
   "toc_section_display": true,
   "toc_window_display": false
  }
 },
 "nbformat": 4,
 "nbformat_minor": 5
}
