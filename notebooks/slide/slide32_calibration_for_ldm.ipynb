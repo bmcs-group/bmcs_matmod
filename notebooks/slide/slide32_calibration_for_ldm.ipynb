{
 "cells": [
  {
   "cell_type": "markdown",
   "metadata": {},
   "source": [
    "# Calibration of for LDM"
   ]
  },
  {
   "cell_type": "code",
   "execution_count": null,
   "metadata": {},
   "outputs": [],
   "source": [
    "%matplotlib widget"
   ]
  },
  {
   "cell_type": "code",
   "execution_count": null,
   "metadata": {},
   "outputs": [],
   "source": [
    "from bmcs_matmod.slide.slide_explorer import SlideExplorer\n",
    "import bmcs_utils.api as bu"
   ]
  },
  {
   "cell_type": "markdown",
   "metadata": {},
   "source": [
    "## Determine the time step size"
   ]
  },
  {
   "cell_type": "code",
   "execution_count": null,
   "metadata": {},
   "outputs": [],
   "source": [
    "def get_step_cr(**kw):\n",
    "    f_t, E_w = kw['f_t'], kw['E_w']\n",
    "    bartau, E_s = kw['bartau'], kw['E_s']\n",
    "    w_cr = f_t / E_w\n",
    "    s_cr = bartau / E_s\n",
    "    return w_cr, s_cr"
   ]
  },
  {
   "cell_type": "markdown",
   "metadata": {},
   "source": [
    "## Material parameters\n",
    "\n",
    "Define the parameters that are close to the original MARS setup\n",
    "and test if the stress-slip/opening response is comparable.\n",
    "Also see if the dissipated energies are in a realistic range."
   ]
  },
  {
   "cell_type": "code",
   "execution_count": null,
   "metadata": {},
   "outputs": [],
   "source": [
    "E_w = 60000\n",
    "alpha = 0.3\n",
    "E_s = alpha * E_w\n",
    "f_t = 2\n",
    "material_params = dict(\n",
    "    E_s=E_s, gamma_s=0, K_s=0, S_s=0.000005, c_s=.1, bartau=6, \n",
    "    E_w=E_w, S_w=0.0000000065, c_w = 0.001, m = 0.01, f_t=2, f_c=50, f_c0=20, eta=0\n",
    ")"
   ]
  },
  {
   "cell_type": "markdown",
   "metadata": {},
   "source": [
    "@MV - parameters that lead to interrupted iteration"
   ]
  },
  {
   "cell_type": "code",
   "execution_count": null,
   "metadata": {},
   "outputs": [],
   "source": [
    "E_w = 80000\n",
    "alpha = 0.3\n",
    "E_s = alpha * E_w\n",
    "\n",
    "f_t = 4.4\n",
    "material_params = dict(\n",
    "    E_s=E_s, gamma_s=10, K_s=10, S_s=0.000048, c_s1=0.1, bartau=3*f_t,\n",
    "    E_w=E_w, S_w=0.00000065, c_w = 0.001, m = 0.1, f_t=f_t, f_c=50, f_c0=40, eta=1\n",
    ")\n",
    "\n",
    "w_cr, s_cr = get_step_cr(**material_params)\n",
    "w_max = w_cr * 35\n",
    "s_max = s_cr * 3\n",
    "w_cr, w_max, s_cr, 20*s_max"
   ]
  },
  {
   "cell_type": "markdown",
   "metadata": {},
   "source": [
    "Define the algorithmic parameters, like the step size and maximum value so that the \n",
    "transition between elastic and inelastic range is crossed with a small step\n",
    "\n",
    "@todo: define a time function that adapts the step size based on this transition."
   ]
  },
  {
   "cell_type": "code",
   "execution_count": null,
   "metadata": {},
   "outputs": [],
   "source": [
    "n_steps = 1000\n",
    "# Too much:\n",
    "calib_mtx = [\n",
    "#     [0, 0, w_max],\n",
    "#    [0, 0, 0.008],\n",
    "     [20*s_max, 0, 0],\n",
    "#     [s_max, 0, w_max],\n",
    "#     [s_max, s_max, w_max]\n",
    "]"
   ]
  },
  {
   "cell_type": "code",
   "execution_count": null,
   "metadata": {},
   "outputs": [],
   "source": [
    "se = SlideExplorer(n_steps=n_steps, k_max=100)\n",
    "se.slide_model.trait_set(**material_params);"
   ]
  },
  {
   "cell_type": "markdown",
   "metadata": {},
   "source": [
    "Elementary loading combined scenarios "
   ]
  },
  {
   "cell_type": "code",
   "execution_count": null,
   "metadata": {},
   "outputs": [],
   "source": [
    "%%capture\n",
    "for s_x_1, s_y_1, w_1 in calib_mtx:\n",
    "    print('running', s_cr, s_x_1, s_y_1, w_1)\n",
    "    se.reset()\n",
    "    se.trait_set(s_x_1=s_x_1, s_y_1=s_y_1, w_1=w_1, n_steps=n_steps);\n",
    "    se.run()"
   ]
  },
  {
   "cell_type": "code",
   "execution_count": null,
   "metadata": {},
   "outputs": [],
   "source": [
    "bu.InteractiveWindow([se, se.energy_dissipation, se.inel_state_evolution, \n",
    "                      se.slide_model], figsize=(9,4), tight_layout=False).interact()"
   ]
  },
  {
   "cell_type": "markdown",
   "metadata": {},
   "source": [
    "@todo: define scenarios with unloading to distinguish the plastic and damage dissipation\n",
    "in response to normal and tangential loading"
   ]
  },
  {
   "cell_type": "code",
   "execution_count": null,
   "metadata": {},
   "outputs": [],
   "source": []
  }
 ],
 "metadata": {
  "kernelspec": {
   "display_name": "bmcs_env",
   "language": "python",
   "name": "bmcs_env"
  },
  "language_info": {
   "codemirror_mode": {
    "name": "ipython",
    "version": 3
   },
   "file_extension": ".py",
   "mimetype": "text/x-python",
   "name": "python",
   "nbconvert_exporter": "python",
   "pygments_lexer": "ipython3",
   "version": "3.9.0"
  },
  "toc": {
   "base_numbering": 1,
   "nav_menu": {},
   "number_sections": true,
   "sideBar": true,
   "skip_h1_title": false,
   "title_cell": "Table of Contents",
   "title_sidebar": "Contents",
   "toc_cell": false,
   "toc_position": {},
   "toc_section_display": true,
   "toc_window_display": false
  }
 },
 "nbformat": 4,
 "nbformat_minor": 4
}
