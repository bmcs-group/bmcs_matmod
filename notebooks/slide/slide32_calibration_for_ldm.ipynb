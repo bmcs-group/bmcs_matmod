{
 "cells": [
  {
   "cell_type": "markdown",
   "metadata": {},
   "source": [
    "# Calibration of for LDM"
   ]
  },
  {
   "cell_type": "code",
   "execution_count": null,
   "metadata": {},
   "outputs": [],
   "source": [
    "%matplotlib widget"
   ]
  },
  {
   "cell_type": "code",
   "execution_count": null,
   "metadata": {},
   "outputs": [],
   "source": [
    "from bmcs_matmod.slide.slide_explorer import SlideExplorer\n",
    "import bmcs_utils.api as bu"
   ]
  },
  {
   "cell_type": "code",
   "execution_count": null,
   "metadata": {},
   "outputs": [],
   "source": [
    "def get_step_cr(**kw):\n",
    "    f_t, E_w = kw['f_t'], kw['E_w']\n",
    "    bartau, E_s = kw['bartau'], kw['E_s']\n",
    "    w_cr = f_t / E_w\n",
    "    s_cr = bartau / E_s\n",
    "    return w_cr, s_cr"
   ]
  },
  {
   "cell_type": "code",
   "execution_count": null,
   "metadata": {},
   "outputs": [],
   "source": [
    "material_params = dict(\n",
    "    E_s=1, gamma_s=1, K_s=1, S_s=0.5, c_s=1, bartau=1, \n",
    "    E_w=1, S_w=0.5, c_w = 1, m = 0.05, f_t=1, f_c=-20, f_c0=-10, eta=0.0\n",
    ")\n"
   ]
  },
  {
   "cell_type": "code",
   "execution_count": null,
   "metadata": {},
   "outputs": [],
   "source": [
    "E_w = 18000\n",
    "alpha = 0.9\n",
    "E_s = alpha * E_w\n",
    "E_gamma = 0 * E_s\n",
    "E_K = 0\n",
    "material_params = dict(\n",
    "    E_s=E_s, gamma_s=E_gamma, K_s=E_K, S_s=0.0001, c_s=0.1, bartau=4, \n",
    "    E_w=E_w, S_w=0.000015, c_w = 0.1, m = 0.01, f_t=4, f_c=-100, f_c0=-20, eta=1\n",
    ")"
   ]
  },
  {
   "cell_type": "code",
   "execution_count": null,
   "metadata": {},
   "outputs": [],
   "source": [
    "w_cr, s_cr = get_step_cr(**material_params)\n",
    "w_max = w_cr * 50\n",
    "s_max = s_cr * 50\n",
    "n_steps = 1000\n",
    "w_cr, w_max, s_cr, s_max"
   ]
  },
  {
   "cell_type": "code",
   "execution_count": null,
   "metadata": {},
   "outputs": [],
   "source": [
    "se = SlideExplorer(n_steps=n_steps, k_max=10)\n",
    "se.slide_model.trait_set(**material_params);"
   ]
  },
  {
   "cell_type": "code",
   "execution_count": null,
   "metadata": {},
   "outputs": [],
   "source": [
    "calib_mtx = [\n",
    "    [0, 0, w_max],\n",
    "    [s_max, 0, 0],\n",
    "    [s_max, 0, w_max],\n",
    "    [s_max, s_max, w_max]\n",
    "]"
   ]
  },
  {
   "cell_type": "code",
   "execution_count": null,
   "metadata": {},
   "outputs": [],
   "source": [
    "#%%capture\n",
    "for s_x_1, s_y_1, w_1 in calib_mtx:\n",
    "    print('running', s_x_1, s_y_1, w_1)\n",
    "    se.reset()\n",
    "    se.trait_set(s_x_1=s_x_1, s_y_1=s_y_1, w_1=w_1);\n",
    "    se.run()\n",
    "    bu.InteractiveWindow([se, se.energy_dissipation, se.inel_state_evolution, \n",
    "                          se.slide_model], figsize=(9,4), tight_layout=False).interact()"
   ]
  },
  {
   "cell_type": "code",
   "execution_count": null,
   "metadata": {},
   "outputs": [],
   "source": []
  },
  {
   "cell_type": "code",
   "execution_count": null,
   "metadata": {},
   "outputs": [],
   "source": [
    "#%%capture\n",
    "se.reset()\n",
    "se.trait_set(s_x_1 = s_max, s_y_1 = 0, w_1 = 0);\n",
    "se.run()"
   ]
  },
  {
   "cell_type": "code",
   "execution_count": null,
   "metadata": {},
   "outputs": [],
   "source": [
    "bu.InteractiveWindow([se, se.energy_dissipation, se.inel_state_evolution, \n",
    "                      se.slide_model], figsize=(9,4), tight_layout=False).interact()"
   ]
  },
  {
   "cell_type": "code",
   "execution_count": null,
   "metadata": {},
   "outputs": [],
   "source": [
    "#%%capture\n",
    "se.reset()\n",
    "se.trait_set(s_x_1 = s_max, s_y_1 = s_max, w_1 = w_max);\n",
    "se.run()"
   ]
  },
  {
   "cell_type": "code",
   "execution_count": null,
   "metadata": {},
   "outputs": [],
   "source": [
    "bu.InteractiveWindow([se, se.energy_dissipation, se.inel_state_evolution, \n",
    "                      se.slide_model], figsize=(9,4), tight_layout=False).interact()"
   ]
  },
  {
   "cell_type": "code",
   "execution_count": null,
   "metadata": {},
   "outputs": [],
   "source": []
  },
  {
   "cell_type": "code",
   "execution_count": null,
   "metadata": {},
   "outputs": [],
   "source": []
  }
 ],
 "metadata": {
  "kernelspec": {
   "display_name": "bmcs_env",
   "language": "python",
   "name": "bmcs_env"
  },
  "language_info": {
   "codemirror_mode": {
    "name": "ipython",
    "version": 3
   },
   "file_extension": ".py",
   "mimetype": "text/x-python",
   "name": "python",
   "nbconvert_exporter": "python",
   "pygments_lexer": "ipython3",
   "version": "3.9.0"
  },
  "toc": {
   "base_numbering": 1,
   "nav_menu": {},
   "number_sections": true,
   "sideBar": true,
   "skip_h1_title": false,
   "title_cell": "Table of Contents",
   "title_sidebar": "Contents",
   "toc_cell": false,
   "toc_position": {},
   "toc_section_display": true,
   "toc_window_display": false
  }
 },
 "nbformat": 4,
 "nbformat_minor": 4
}
