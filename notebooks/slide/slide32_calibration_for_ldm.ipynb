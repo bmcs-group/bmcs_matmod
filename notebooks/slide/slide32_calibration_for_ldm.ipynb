{
 "cells": [
  {
   "cell_type": "markdown",
   "metadata": {},
   "source": [
    "# Calibration of for LDM"
   ]
  },
  {
   "cell_type": "code",
   "execution_count": 8,
   "metadata": {},
   "outputs": [],
   "source": [
    "%matplotlib widget"
   ]
  },
  {
   "cell_type": "code",
   "execution_count": 2,
   "metadata": {},
   "outputs": [],
   "source": [
    "from bmcs_matmod.slide.slide_explorer import SlideExplorer\n",
    "import bmcs_utils.api as bu"
   ]
  },
  {
   "cell_type": "code",
   "execution_count": 3,
   "metadata": {},
   "outputs": [],
   "source": [
    "def get_step_cr(**kw):\n",
    "    f_t = kw['f_t']\n",
    "    E_w = kw['E_w']\n",
    "    return f_t/E_w"
   ]
  },
  {
   "cell_type": "code",
   "execution_count": 4,
   "metadata": {},
   "outputs": [],
   "source": [
    "E_w = 35000\n",
    "alpha = 0.9\n",
    "E_s = alpha * E_w\n",
    "material_params = dict(\n",
    "    E_s=E_s, gamma_s=E_s, K_s=E_s, S_s=0.01, c_s=1, bartau=4, \n",
    "    E_w=E_w, S_w=0.000015, c_w = 0.1, m = 0.01, f_t=4, f_c=-100, f_c0=-20, eta=0.1\n",
    ")\n",
    "\n",
    "# material_params = dict(\n",
    "#     E_s=1, gamma_s=1, K_s=1, S_s=0.5, c_s=1, bartau=1, \n",
    "#     E_w=1, S_w=0.5, c_w = 1, m = 0.05, f_t=1, f_c=-20, f_c0=-10, eta=0.0\n",
    "# )"
   ]
  },
  {
   "cell_type": "code",
   "execution_count": 5,
   "metadata": {},
   "outputs": [
    {
     "data": {
      "text/plain": [
       "875"
      ]
     },
     "execution_count": 5,
     "metadata": {},
     "output_type": "execute_result"
    }
   ],
   "source": [
    "d_w = get_step_cr(**material_params)\n",
    "w_max = 0.1\n",
    "n_steps = int(w_max / d_w)\n",
    "n_steps"
   ]
  },
  {
   "cell_type": "code",
   "execution_count": 6,
   "metadata": {
    "scrolled": false
   },
   "outputs": [
    {
     "data": {
      "application/vnd.jupyter.widget-view+json": {
       "model_id": "de6c937baae64d4a8fba430f1d1577a7",
       "version_major": 2,
       "version_minor": 0
      },
      "text/plain": [
       "VBox(children=(Output(), Tab(children=(VBox(children=(HBox(children=(Button(description='run', layout=Layout(h…"
      ]
     },
     "metadata": {},
     "output_type": "display_data"
    }
   ],
   "source": [
    "se = SlideExplorer(n_steps=n_steps*4, k_max=50)\n",
    "se.slide_model.trait_set(**material_params)\n",
    "se.trait_set(s_x_1 = 0, s_y_1 = 0, w_1 = w_max);\n",
    "se.run()\n",
    "bu.InteractiveWindow([se, se.energy_dissipation, se.inel_state_evolution, \n",
    "                      se.slide_model], figsize=(9,4), tight_layout=False).interact()"
   ]
  },
  {
   "cell_type": "code",
   "execution_count": 7,
   "metadata": {},
   "outputs": [
    {
     "name": "stdout",
     "output_type": "stream",
     "text": [
      "No convergence reached\n"
     ]
    },
    {
     "name": "stderr",
     "output_type": "stream",
     "text": [
      "<lambdifygenerated-8>:4: RuntimeWarning: invalid value encountered in double_scalars\n",
      "  return (array([[select([less((abs(sqrt((-X_x + tau_pi_x/(1 - omega_s))**2 + (-X_y + tau_pi_y/(1 - omega_s))**2)) - (Z + bartau)*(sigma_pi/(1 - omega_w) + f_t**2*m/(Z + bartau - 2*f_t*m))*(Z + bartau - 2*f_t*m)/(f_t**2*m))*sign(f_t)*sign(m), 0),less((abs(sqrt((-X_x + tau_pi_x/(1 - omega_s))**2 + (-X_y + tau_pi_y/(1 - omega_s))**2)) - (Z + bartau + f_c0*m)*(sigma_pi/(1 - omega_w) + f_c0 + m*(f_c**2 - 2*f_c*f_c0 + f_c0**2)/(Z + bartau + 2*f_c*m - f_c0*m))*(Z + bartau + 2*f_c*m - f_c0*m)/(m*(f_c**2 - 2*f_c*f_c0 + f_c0**2)))*sign(m)*sign(-f_c + f_c0), 0),True], [(-X_x + tau_pi_x/(1 - omega_s))*(f_t**2*m**2 - 2*f_t*m*(Z + bartau) + (Z + bartau)**2)**2/((1 - omega_s)*(Z + bartau)*sqrt(((-X_x + tau_pi_x/(1 - omega_s))**2 + (-X_y + tau_pi_y/(1 - omega_s))**2)*(f_t**2*m**2 - 2*f_t*m*(Z + bartau) + (Z + bartau)**2)**2/((Z + bartau)*(-Z - bartau + f_t*m)**2*(Z + bartau - 2*f_t*m)) + (sigma_pi/(1 - omega_w) + f_t**2*m/(Z + bartau - 2*f_t*m))**2*(f_t**2*m**2 - 2*f_t*m*(Z + bartau) + (Z + bartau)**2)**2/(f_t**2*(Z + bartau - f_t*m)**2))*(-Z - bartau + f_t*m)**2*(Z + bartau - 2*f_t*m)),(-X_x + tau_pi_x/(1 - omega_s))*(f_c**2*m**2 - 2*f_c*f_c0*m**2 + 2*f_c*m*(Z + bartau + f_c0*m) + f_c0**2*m**2 - 2*f_c0*m*(Z + bartau + f_c0*m) + (Z + bartau + f_c0*m)**2)**2/((1 - omega_s)*sqrt(((-X_x + tau_pi_x/(1 - omega_s))**2 + (-X_y + tau_pi_y/(1 - omega_s))**2)*(f_c**2*m**2 - 2*f_c*f_c0*m**2 + 2*f_c*m*(Z + bartau + f_c0*m) + f_c0**2*m**2 - 2*f_c0*m*(Z + bartau + f_c0*m) + (Z + bartau + f_c0*m)**2)**2/((-Z - bartau - f_c*m)**2*(Z + bartau + f_c0*m)*(Z + bartau + 2*f_c*m - f_c0*m)) + (sigma_pi/(1 - omega_w) + f_c0 + m*(f_c**2 - 2*f_c*f_c0 + f_c0**2)/(Z + bartau + 2*f_c*m - f_c0*m))**2*(f_c**2*m**2 - 2*f_c*f_c0*m**2 + 2*f_c*m*(Z + bartau + f_c0*m) + f_c0**2*m**2 - 2*f_c0*m*(Z + bartau + f_c0*m) + (Z + bartau + f_c0*m)**2)**2/((f_c - f_c0)**2*(Z + bartau + f_c*m)**2))*(-Z - bartau - f_c*m)**2*(Z + bartau + f_c0*m)*(Z + bartau + 2*f_c*m - f_c0*m)),(-X_x + tau_pi_x/(1 - omega_s))/((1 - omega_s)*sqrt((-X_x + tau_pi_x/(1 - omega_s))**2 + (-X_y + tau_pi_y/(1 - omega_s))**2))], default=nan)], [select([less((abs(sqrt((-X_x + tau_pi_x/(1 - omega_s))**2 + (-X_y + tau_pi_y/(1 - omega_s))**2)) - (Z + bartau)*(sigma_pi/(1 - omega_w) + f_t**2*m/(Z + bartau - 2*f_t*m))*(Z + bartau - 2*f_t*m)/(f_t**2*m))*sign(f_t)*sign(m), 0),less((abs(sqrt((-X_x + tau_pi_x/(1 - omega_s))**2 + (-X_y + tau_pi_y/(1 - omega_s))**2)) - (Z + bartau + f_c0*m)*(sigma_pi/(1 - omega_w) + f_c0 + m*(f_c**2 - 2*f_c*f_c0 + f_c0**2)/(Z + bartau + 2*f_c*m - f_c0*m))*(Z + bartau + 2*f_c*m - f_c0*m)/(m*(f_c**2 - 2*f_c*f_c0 + f_c0**2)))*sign(m)*sign(-f_c + f_c0), 0),True], [(-X_y + tau_pi_y/(1 - omega_s))*(f_t**2*m**2 - 2*f_t*m*(Z + bartau) + (Z + bartau)**2)**2/((1 - omega_s)*(Z + bartau)*sqrt(((-X_x + tau_pi_x/(1 - omega_s))**2 + (-X_y + tau_pi_y/(1 - omega_s))**2)*(f_t**2*m**2 - 2*f_t*m*(Z + bartau) + (Z + bartau)**2)**2/((Z + bartau)*(-Z - bartau + f_t*m)**2*(Z + bartau - 2*f_t*m)) + (sigma_pi/(1 - omega_w) + f_t**2*m/(Z + bartau - 2*f_t*m))**2*(f_t**2*m**2 - 2*f_t*m*(Z + bartau) + (Z + bartau)**2)**2/(f_t**2*(Z + bartau - f_t*m)**2))*(-Z - bartau + f_t*m)**2*(Z + bartau - 2*f_t*m)),(-X_y + tau_pi_y/(1 - omega_s))*(f_c**2*m**2 - 2*f_c*f_c0*m**2 + 2*f_c*m*(Z + bartau + f_c0*m) + f_c0**2*m**2 - 2*f_c0*m*(Z + bartau + f_c0*m) + (Z + bartau + f_c0*m)**2)**2/((1 - omega_s)*sqrt(((-X_x + tau_pi_x/(1 - omega_s))**2 + (-X_y + tau_pi_y/(1 - omega_s))**2)*(f_c**2*m**2 - 2*f_c*f_c0*m**2 + 2*f_c*m*(Z + bartau + f_c0*m) + f_c0**2*m**2 - 2*f_c0*m*(Z + bartau + f_c0*m) + (Z + bartau + f_c0*m)**2)**2/((-Z - bartau - f_c*m)**2*(Z + bartau + f_c0*m)*(Z + bartau + 2*f_c*m - f_c0*m)) + (sigma_pi/(1 - omega_w) + f_c0 + m*(f_c**2 - 2*f_c*f_c0 + f_c0**2)/(Z + bartau + 2*f_c*m - f_c0*m))**2*(f_c**2*m**2 - 2*f_c*f_c0*m**2 + 2*f_c*m*(Z + bartau + f_c0*m) + f_c0**2*m**2 - 2*f_c0*m*(Z + bartau + f_c0*m) + (Z + bartau + f_c0*m)**2)**2/((f_c - f_c0)**2*(Z + bartau + f_c*m)**2))*(-Z - bartau - f_c*m)**2*(Z + bartau + f_c0*m)*(Z + bartau + 2*f_c*m - f_c0*m)),(-X_y + tau_pi_y/(1 - omega_s))/((1 - omega_s)*sqrt((-X_x + tau_pi_x/(1 - omega_s))**2 + (-X_y + tau_pi_y/(1 - omega_s))**2))], default=nan)], [select([less((abs(sqrt((-X_x + tau_pi_x/(1 - omega_s))**2 + (-X_y + tau_pi_y/(1 - omega_s))**2)) - (Z + bartau)*(sigma_pi/(1 - omega_w) + f_t**2*m/(Z + bartau - 2*f_t*m))*(Z + bartau - 2*f_t*m)/(f_t**2*m))*sign(f_t)*sign(m), 0),less((abs(sqrt((-X_x + tau_pi_x/(1 - omega_s))**2 + (-X_y + tau_pi_y/(1 - omega_s))**2)) - (Z + bartau + f_c0*m)*(sigma_pi/(1 - omega_w) + f_c0 + m*(f_c**2 - 2*f_c*f_c0 + f_c0**2)/(Z + bartau + 2*f_c*m - f_c0*m))*(Z + bartau + 2*f_c*m - f_c0*m)/(m*(f_c**2 - 2*f_c*f_c0 + f_c0**2)))*sign(m)*sign(-f_c + f_c0), 0),True], [(sigma_pi/(1 - omega_w) + f_t**2*m/(Z + bartau - 2*f_t*m))*(f_t**2*m**2 - 2*f_t*m*(Z + bartau) + (Z + bartau)**2)**2/(f_t**2*(1 - omega_w)*sqrt(((-X_x + tau_pi_x/(1 - omega_s))**2 + (-X_y + tau_pi_y/(1 - omega_s))**2)*(f_t**2*m**2 - 2*f_t*m*(Z + bartau) + (Z + bartau)**2)**2/((Z + bartau)*(-Z - bartau + f_t*m)**2*(Z + bartau - 2*f_t*m)) + (sigma_pi/(1 - omega_w) + f_t**2*m/(Z + bartau - 2*f_t*m))**2*(f_t**2*m**2 - 2*f_t*m*(Z + bartau) + (Z + bartau)**2)**2/(f_t**2*(Z + bartau - f_t*m)**2))*(Z + bartau - f_t*m)**2),(sigma_pi/(1 - omega_w) + f_c0 + m*(f_c**2 - 2*f_c*f_c0 + f_c0**2)/(Z + bartau + 2*f_c*m - f_c0*m))*(f_c**2*m**2 - 2*f_c*f_c0*m**2 + 2*f_c*m*(Z + bartau + f_c0*m) + f_c0**2*m**2 - 2*f_c0*m*(Z + bartau + f_c0*m) + (Z + bartau + f_c0*m)**2)**2/((1 - omega_w)*(f_c - f_c0)**2*sqrt(((-X_x + tau_pi_x/(1 - omega_s))**2 + (-X_y + tau_pi_y/(1 - omega_s))**2)*(f_c**2*m**2 - 2*f_c*f_c0*m**2 + 2*f_c*m*(Z + bartau + f_c0*m) + f_c0**2*m**2 - 2*f_c0*m*(Z + bartau + f_c0*m) + (Z + bartau + f_c0*m)**2)**2/((-Z - bartau - f_c*m)**2*(Z + bartau + f_c0*m)*(Z + bartau + 2*f_c*m - f_c0*m)) + (sigma_pi/(1 - omega_w) + f_c0 + m*(f_c**2 - 2*f_c*f_c0 + f_c0**2)/(Z + bartau + 2*f_c*m - f_c0*m))**2*(f_c**2*m**2 - 2*f_c*f_c0*m**2 + 2*f_c*m*(Z + bartau + f_c0*m) + f_c0**2*m**2 - 2*f_c0*m*(Z + bartau + f_c0*m) + (Z + bartau + f_c0*m)**2)**2/((f_c - f_c0)**2*(Z + bartau + f_c*m)**2))*(Z + bartau + f_c*m)**2),m/(1 - omega_w)], default=nan)], [-select([less((abs(sqrt((-X_x + tau_pi_x/(1 - omega_s))**2 + (-X_y + tau_pi_y/(1 - omega_s))**2)) - (Z + bartau)*(sigma_pi/(1 - omega_w) + f_t**2*m/(Z + bartau - 2*f_t*m))*(Z + bartau - 2*f_t*m)/(f_t**2*m))*sign(f_t)*sign(m), 0),less((abs(sqrt((-X_x + tau_pi_x/(1 - omega_s))**2 + (-X_y + tau_pi_y/(1 - omega_s))**2)) - (Z + bartau + f_c0*m)*(sigma_pi/(1 - omega_w) + f_c0 + m*(f_c**2 - 2*f_c*f_c0 + f_c0**2)/(Z + bartau + 2*f_c*m - f_c0*m))*(Z + bartau + 2*f_c*m - f_c0*m)/(m*(f_c**2 - 2*f_c*f_c0 + f_c0**2)))*sign(m)*sign(-f_c + f_c0), 0),True], [-(2*Z + 2*bartau - 2*f_t*m)/(Z + bartau - 2*f_t*m) + (f_t**2*m**2 - 2*f_t*m*(Z + bartau) + (Z + bartau)**2)/(Z + bartau - 2*f_t*m)**2 + (-m*(sigma_pi/(1 - omega_w) + f_t**2*m/(Z + bartau - 2*f_t*m))*(f_t**2*m**2 - 2*f_t*m*(Z + bartau) + (Z + bartau)**2)**2/((Z + bartau - 2*f_t*m)**2*(Z + bartau - f_t*m)**2) + (1/2)*((-X_x + tau_pi_x/(1 - omega_s))**2 + (-X_y + tau_pi_y/(1 - omega_s))**2)*(4*Z + 4*bartau - 4*f_t*m)*(f_t**2*m**2 - 2*f_t*m*(Z + bartau) + (Z + bartau)**2)/((Z + bartau)*(-Z - bartau + f_t*m)**2*(Z + bartau - 2*f_t*m)) - 1/2*((-X_x + tau_pi_x/(1 - omega_s))**2 + (-X_y + tau_pi_y/(1 - omega_s))**2)*(f_t**2*m**2 - 2*f_t*m*(Z + bartau) + (Z + bartau)**2)**2/((Z + bartau)*(-Z - bartau + f_t*m)**2*(Z + bartau - 2*f_t*m)**2) + ((-X_x + tau_pi_x/(1 - omega_s))**2 + (-X_y + tau_pi_y/(1 - omega_s))**2)*(f_t**2*m**2 - 2*f_t*m*(Z + bartau) + (Z + bartau)**2)**2/((Z + bartau)*(-Z - bartau + f_t*m)**3*(Z + bartau - 2*f_t*m)) - 1/2*((-X_x + tau_pi_x/(1 - omega_s))**2 + (-X_y + tau_pi_y/(1 - omega_s))**2)*(f_t**2*m**2 - 2*f_t*m*(Z + bartau) + (Z + bartau)**2)**2/((Z + bartau)**2*(-Z - bartau + f_t*m)**2*(Z + bartau - 2*f_t*m)) + (1/2)*(sigma_pi/(1 - omega_w) + f_t**2*m/(Z + bartau - 2*f_t*m))**2*(4*Z + 4*bartau - 4*f_t*m)*(f_t**2*m**2 - 2*f_t*m*(Z + bartau) + (Z + bartau)**2)/(f_t**2*(Z + bartau - f_t*m)**2) - (sigma_pi/(1 - omega_w) + f_t**2*m/(Z + bartau - 2*f_t*m))**2*(f_t**2*m**2 - 2*f_t*m*(Z + bartau) + (Z + bartau)**2)**2/(f_t**2*(Z + bartau - f_t*m)**3))/sqrt(((-X_x + tau_pi_x/(1 - omega_s))**2 + (-X_y + tau_pi_y/(1 - omega_s))**2)*(f_t**2*m**2 - 2*f_t*m*(Z + bartau) + (Z + bartau)**2)**2/((Z + bartau)*(-Z - bartau + f_t*m)**2*(Z + bartau - 2*f_t*m)) + (sigma_pi/(1 - omega_w) + f_t**2*m/(Z + bartau - 2*f_t*m))**2*(f_t**2*m**2 - 2*f_t*m*(Z + bartau) + (Z + bartau)**2)**2/(f_t**2*(Z + bartau - f_t*m)**2)),-(2*Z + 2*bartau + 2*f_c*m)/(Z + bartau + 2*f_c*m - f_c0*m) + (f_c**2*m**2 - 2*f_c*f_c0*m**2 + 2*f_c*m*(Z + bartau + f_c0*m) + f_c0**2*m**2 - 2*f_c0*m*(Z + bartau + f_c0*m) + (Z + bartau + f_c0*m)**2)/(Z + bartau + 2*f_c*m - f_c0*m)**2 + (-m*(f_c**2 - 2*f_c*f_c0 + f_c0**2)*(sigma_pi/(1 - omega_w) + f_c0 + m*(f_c**2 - 2*f_c*f_c0 + f_c0**2)/(Z + bartau + 2*f_c*m - f_c0*m))*(f_c**2*m**2 - 2*f_c*f_c0*m**2 + 2*f_c*m*(Z + bartau + f_c0*m) + f_c0**2*m**2 - 2*f_c0*m*(Z + bartau + f_c0*m) + (Z + bartau + f_c0*m)**2)**2/((f_c - f_c0)**2*(Z + bartau + f_c*m)**2*(Z + bartau + 2*f_c*m - f_c0*m)**2) + (1/2)*((-X_x + tau_pi_x/(1 - omega_s))**2 + (-X_y + tau_pi_y/(1 - omega_s))**2)*(4*Z + 4*bartau + 4*f_c*m)*(f_c**2*m**2 - 2*f_c*f_c0*m**2 + 2*f_c*m*(Z + bartau + f_c0*m) + f_c0**2*m**2 - 2*f_c0*m*(Z + bartau + f_c0*m) + (Z + bartau + f_c0*m)**2)/((-Z - bartau - f_c*m)**2*(Z + bartau + f_c0*m)*(Z + bartau + 2*f_c*m - f_c0*m)) - 1/2*((-X_x + tau_pi_x/(1 - omega_s))**2 + (-X_y + tau_pi_y/(1 - omega_s))**2)*(f_c**2*m**2 - 2*f_c*f_c0*m**2 + 2*f_c*m*(Z + bartau + f_c0*m) + f_c0**2*m**2 - 2*f_c0*m*(Z + bartau + f_c0*m) + (Z + bartau + f_c0*m)**2)**2/((-Z - bartau - f_c*m)**2*(Z + bartau + f_c0*m)*(Z + bartau + 2*f_c*m - f_c0*m)**2) - 1/2*((-X_x + tau_pi_x/(1 - omega_s))**2 + (-X_y + tau_pi_y/(1 - omega_s))**2)*(f_c**2*m**2 - 2*f_c*f_c0*m**2 + 2*f_c*m*(Z + bartau + f_c0*m) + f_c0**2*m**2 - 2*f_c0*m*(Z + bartau + f_c0*m) + (Z + bartau + f_c0*m)**2)**2/((-Z - bartau - f_c*m)**2*(Z + bartau + f_c0*m)**2*(Z + bartau + 2*f_c*m - f_c0*m)) + ((-X_x + tau_pi_x/(1 - omega_s))**2 + (-X_y + tau_pi_y/(1 - omega_s))**2)*(f_c**2*m**2 - 2*f_c*f_c0*m**2 + 2*f_c*m*(Z + bartau + f_c0*m) + f_c0**2*m**2 - 2*f_c0*m*(Z + bartau + f_c0*m) + (Z + bartau + f_c0*m)**2)**2/((-Z - bartau - f_c*m)**3*(Z + bartau + f_c0*m)*(Z + bartau + 2*f_c*m - f_c0*m)) + (1/2)*(4*Z + 4*bartau + 4*f_c*m)*(sigma_pi/(1 - omega_w) + f_c0 + m*(f_c**2 - 2*f_c*f_c0 + f_c0**2)/(Z + bartau + 2*f_c*m - f_c0*m))**2*(f_c**2*m**2 - 2*f_c*f_c0*m**2 + 2*f_c*m*(Z + bartau + f_c0*m) + f_c0**2*m**2 - 2*f_c0*m*(Z + bartau + f_c0*m) + (Z + bartau + f_c0*m)**2)/((f_c - f_c0)**2*(Z + bartau + f_c*m)**2) - (sigma_pi/(1 - omega_w) + f_c0 + m*(f_c**2 - 2*f_c*f_c0 + f_c0**2)/(Z + bartau + 2*f_c*m - f_c0*m))**2*(f_c**2*m**2 - 2*f_c*f_c0*m**2 + 2*f_c*m*(Z + bartau + f_c0*m) + f_c0**2*m**2 - 2*f_c0*m*(Z + bartau + f_c0*m) + (Z + bartau + f_c0*m)**2)**2/((f_c - f_c0)**2*(Z + bartau + f_c*m)**3))/sqrt(((-X_x + tau_pi_x/(1 - omega_s))**2 + (-X_y + tau_pi_y/(1 - omega_s))**2)*(f_c**2*m**2 - 2*f_c*f_c0*m**2 + 2*f_c*m*(Z + bartau + f_c0*m) + f_c0**2*m**2 - 2*f_c0*m*(Z + bartau + f_c0*m) + (Z + bartau + f_c0*m)**2)**2/((-Z - bartau - f_c*m)**2*(Z + bartau + f_c0*m)*(Z + bartau + 2*f_c*m - f_c0*m)) + (sigma_pi/(1 - omega_w) + f_c0 + m*(f_c**2 - 2*f_c*f_c0 + f_c0**2)/(Z + bartau + 2*f_c*m - f_c0*m))**2*(f_c**2*m**2 - 2*f_c*f_c0*m**2 + 2*f_c*m*(Z + bartau + f_c0*m) + f_c0**2*m**2 - 2*f_c0*m*(Z + bartau + f_c0*m) + (Z + bartau + f_c0*m)**2)**2/((f_c - f_c0)**2*(Z + bartau + f_c*m)**2)),-1], default=nan)], [-select([less((abs(sqrt((-X_x + tau_pi_x/(1 - omega_s))**2 + (-X_y + tau_pi_y/(1 - omega_s))**2)) - (Z + bartau)*(sigma_pi/(1 - omega_w) + f_t**2*m/(Z + bartau - 2*f_t*m))*(Z + bartau - 2*f_t*m)/(f_t**2*m))*sign(f_t)*sign(m), 0),less((abs(sqrt((-X_x + tau_pi_x/(1 - omega_s))**2 + (-X_y + tau_pi_y/(1 - omega_s))**2)) - (Z + bartau + f_c0*m)*(sigma_pi/(1 - omega_w) + f_c0 + m*(f_c**2 - 2*f_c*f_c0 + f_c0**2)/(Z + bartau + 2*f_c*m - f_c0*m))*(Z + bartau + 2*f_c*m - f_c0*m)/(m*(f_c**2 - 2*f_c*f_c0 + f_c0**2)))*sign(m)*sign(-f_c + f_c0), 0),True], [(1/2)*(2*X_x - 2*tau_pi_x/(1 - omega_s))*(f_t**2*m**2 - 2*f_t*m*(Z + bartau) + (Z + bartau)**2)**2/((Z + bartau)*sqrt(((-X_x + tau_pi_x/(1 - omega_s))**2 + (-X_y + tau_pi_y/(1 - omega_s))**2)*(f_t**2*m**2 - 2*f_t*m*(Z + bartau) + (Z + bartau)**2)**2/((Z + bartau)*(-Z - bartau + f_t*m)**2*(Z + bartau - 2*f_t*m)) + (sigma_pi/(1 - omega_w) + f_t**2*m/(Z + bartau - 2*f_t*m))**2*(f_t**2*m**2 - 2*f_t*m*(Z + bartau) + (Z + bartau)**2)**2/(f_t**2*(Z + bartau - f_t*m)**2))*(-Z - bartau + f_t*m)**2*(Z + bartau - 2*f_t*m)),(1/2)*(2*X_x - 2*tau_pi_x/(1 - omega_s))*(f_c**2*m**2 - 2*f_c*f_c0*m**2 + 2*f_c*m*(Z + bartau + f_c0*m) + f_c0**2*m**2 - 2*f_c0*m*(Z + bartau + f_c0*m) + (Z + bartau + f_c0*m)**2)**2/(sqrt(((-X_x + tau_pi_x/(1 - omega_s))**2 + (-X_y + tau_pi_y/(1 - omega_s))**2)*(f_c**2*m**2 - 2*f_c*f_c0*m**2 + 2*f_c*m*(Z + bartau + f_c0*m) + f_c0**2*m**2 - 2*f_c0*m*(Z + bartau + f_c0*m) + (Z + bartau + f_c0*m)**2)**2/((-Z - bartau - f_c*m)**2*(Z + bartau + f_c0*m)*(Z + bartau + 2*f_c*m - f_c0*m)) + (sigma_pi/(1 - omega_w) + f_c0 + m*(f_c**2 - 2*f_c*f_c0 + f_c0**2)/(Z + bartau + 2*f_c*m - f_c0*m))**2*(f_c**2*m**2 - 2*f_c*f_c0*m**2 + 2*f_c*m*(Z + bartau + f_c0*m) + f_c0**2*m**2 - 2*f_c0*m*(Z + bartau + f_c0*m) + (Z + bartau + f_c0*m)**2)**2/((f_c - f_c0)**2*(Z + bartau + f_c*m)**2))*(-Z - bartau - f_c*m)**2*(Z + bartau + f_c0*m)*(Z + bartau + 2*f_c*m - f_c0*m)),(X_x - tau_pi_x/(1 - omega_s))/sqrt((-X_x + tau_pi_x/(1 - omega_s))**2 + (-X_y + tau_pi_y/(1 - omega_s))**2)], default=nan)], [-select([less((abs(sqrt((-X_x + tau_pi_x/(1 - omega_s))**2 + (-X_y + tau_pi_y/(1 - omega_s))**2)) - (Z + bartau)*(sigma_pi/(1 - omega_w) + f_t**2*m/(Z + bartau - 2*f_t*m))*(Z + bartau - 2*f_t*m)/(f_t**2*m))*sign(f_t)*sign(m), 0),less((abs(sqrt((-X_x + tau_pi_x/(1 - omega_s))**2 + (-X_y + tau_pi_y/(1 - omega_s))**2)) - (Z + bartau + f_c0*m)*(sigma_pi/(1 - omega_w) + f_c0 + m*(f_c**2 - 2*f_c*f_c0 + f_c0**2)/(Z + bartau + 2*f_c*m - f_c0*m))*(Z + bartau + 2*f_c*m - f_c0*m)/(m*(f_c**2 - 2*f_c*f_c0 + f_c0**2)))*sign(m)*sign(-f_c + f_c0), 0),True], [(1/2)*(2*X_y - 2*tau_pi_y/(1 - omega_s))*(f_t**2*m**2 - 2*f_t*m*(Z + bartau) + (Z + bartau)**2)**2/((Z + bartau)*sqrt(((-X_x + tau_pi_x/(1 - omega_s))**2 + (-X_y + tau_pi_y/(1 - omega_s))**2)*(f_t**2*m**2 - 2*f_t*m*(Z + bartau) + (Z + bartau)**2)**2/((Z + bartau)*(-Z - bartau + f_t*m)**2*(Z + bartau - 2*f_t*m)) + (sigma_pi/(1 - omega_w) + f_t**2*m/(Z + bartau - 2*f_t*m))**2*(f_t**2*m**2 - 2*f_t*m*(Z + bartau) + (Z + bartau)**2)**2/(f_t**2*(Z + bartau - f_t*m)**2))*(-Z - bartau + f_t*m)**2*(Z + bartau - 2*f_t*m)),(1/2)*(2*X_y - 2*tau_pi_y/(1 - omega_s))*(f_c**2*m**2 - 2*f_c*f_c0*m**2 + 2*f_c*m*(Z + bartau + f_c0*m) + f_c0**2*m**2 - 2*f_c0*m*(Z + bartau + f_c0*m) + (Z + bartau + f_c0*m)**2)**2/(sqrt(((-X_x + tau_pi_x/(1 - omega_s))**2 + (-X_y + tau_pi_y/(1 - omega_s))**2)*(f_c**2*m**2 - 2*f_c*f_c0*m**2 + 2*f_c*m*(Z + bartau + f_c0*m) + f_c0**2*m**2 - 2*f_c0*m*(Z + bartau + f_c0*m) + (Z + bartau + f_c0*m)**2)**2/((-Z - bartau - f_c*m)**2*(Z + bartau + f_c0*m)*(Z + bartau + 2*f_c*m - f_c0*m)) + (sigma_pi/(1 - omega_w) + f_c0 + m*(f_c**2 - 2*f_c*f_c0 + f_c0**2)/(Z + bartau + 2*f_c*m - f_c0*m))**2*(f_c**2*m**2 - 2*f_c*f_c0*m**2 + 2*f_c*m*(Z + bartau + f_c0*m) + f_c0**2*m**2 - 2*f_c0*m*(Z + bartau + f_c0*m) + (Z + bartau + f_c0*m)**2)**2/((f_c - f_c0)**2*(Z + bartau + f_c*m)**2))*(-Z - bartau - f_c*m)**2*(Z + bartau + f_c0*m)*(Z + bartau + 2*f_c*m - f_c0*m)),(X_y - tau_pi_y/(1 - omega_s))/sqrt((-X_x + tau_pi_x/(1 - omega_s))**2 + (-X_y + tau_pi_y/(1 - omega_s))**2)], default=nan)], [(1 - omega_s)**c_s*(2*Y_s/S_s + Y_w*eta/S_s) + Y_w*eta*(1 - omega_w)**c_w/S_w], [(1 - omega_w)**c_w*(Y_s*eta/S_w + 2*Y_w/S_w) + Y_s*eta*(1 - omega_s)**c_s/S_s]]))\n"
     ]
    },
    {
     "data": {
      "application/vnd.jupyter.widget-view+json": {
       "model_id": "6b967b08e62e4172a2bb96cbe6740a70",
       "version_major": 2,
       "version_minor": 0
      },
      "text/plain": [
       "VBox(children=(Output(), Tab(children=(VBox(children=(HBox(children=(Button(description='run', layout=Layout(h…"
      ]
     },
     "metadata": {},
     "output_type": "display_data"
    }
   ],
   "source": [
    "se.trait_set(s_x_1 = 0.1, s_y_1 = 0, w_1 = 0);\n",
    "se.run()\n",
    "bu.InteractiveWindow([se, se.energy_dissipation, se.inel_state_evolution, \n",
    "                      se.slide_model], figsize=(9,4), tight_layout=False).interact()"
   ]
  },
  {
   "cell_type": "code",
   "execution_count": null,
   "metadata": {},
   "outputs": [],
   "source": []
  }
 ],
 "metadata": {
  "kernelspec": {
   "display_name": "bmcs_env",
   "language": "python",
   "name": "bmcs_env"
  },
  "language_info": {
   "codemirror_mode": {
    "name": "ipython",
    "version": 3
   },
   "file_extension": ".py",
   "mimetype": "text/x-python",
   "name": "python",
   "nbconvert_exporter": "python",
   "pygments_lexer": "ipython3",
   "version": "3.9.0"
  },
  "toc": {
   "base_numbering": 1,
   "nav_menu": {},
   "number_sections": true,
   "sideBar": true,
   "skip_h1_title": false,
   "title_cell": "Table of Contents",
   "title_sidebar": "Contents",
   "toc_cell": false,
   "toc_position": {},
   "toc_section_display": true,
   "toc_window_display": false
  }
 },
 "nbformat": 4,
 "nbformat_minor": 4
}
