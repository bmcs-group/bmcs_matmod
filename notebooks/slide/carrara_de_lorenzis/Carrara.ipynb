{
 "cells": [
  {
   "cell_type": "markdown",
   "id": "110a45f5-75e6-479d-a68c-53b72287bc20",
   "metadata": {},
   "source": [
    "# Model by Carrara, de Lorenzis"
   ]
  },
  {
   "cell_type": "code",
   "execution_count": null,
   "id": "6d5436eb-bf68-47e3-98ed-e2420c7ee835",
   "metadata": {},
   "outputs": [],
   "source": [
    "import sympy as sp\n",
    "sp.init_printing()"
   ]
  },
  {
   "cell_type": "code",
   "execution_count": null,
   "id": "a2061cd5-d746-48a1-96a0-5e6b0a63678e",
   "metadata": {},
   "outputs": [],
   "source": [
    "eta, tau, s, s_pl, omega, tau_y0, R, h = sp.symbols('eta, tau, s, s_pl, omega, tau_y0, R, h')"
   ]
  },
  {
   "cell_type": "code",
   "execution_count": null,
   "id": "4bfea7b0-d143-4323-83a7-c0033186614d",
   "metadata": {},
   "outputs": [],
   "source": [
    "q_ = (1-omega)/2*(tau_y0 + R)\n",
    "q_"
   ]
  },
  {
   "cell_type": "code",
   "execution_count": null,
   "id": "b0ba59a1-c79b-4891-ab1a-46cc33c10d45",
   "metadata": {},
   "outputs": [],
   "source": [
    "eta_ = tau - q_ * h * (s - s_pl)\n",
    "eta_"
   ]
  },
  {
   "cell_type": "code",
   "execution_count": null,
   "id": "0ebb93ae-b2f3-4a2d-b03d-bc77ffa6dd7e",
   "metadata": {},
   "outputs": [],
   "source": [
    "F_ = eta_ - (1-omega)/2*(tau_y0+R) * h * (s - s_pl)\n",
    "sp.simplify(F_)"
   ]
  },
  {
   "cell_type": "code",
   "execution_count": null,
   "id": "4038a6f2-3ff2-4546-b663-1eafddbf38d7",
   "metadata": {},
   "outputs": [],
   "source": []
  }
 ],
 "metadata": {
  "kernelspec": {
   "display_name": "bmcs_env",
   "language": "python",
   "name": "bmcs_env"
  },
  "language_info": {
   "codemirror_mode": {
    "name": "ipython",
    "version": 3
   },
   "file_extension": ".py",
   "mimetype": "text/x-python",
   "name": "python",
   "nbconvert_exporter": "python",
   "pygments_lexer": "ipython3"
  }
 },
 "nbformat": 4,
 "nbformat_minor": 5
}
