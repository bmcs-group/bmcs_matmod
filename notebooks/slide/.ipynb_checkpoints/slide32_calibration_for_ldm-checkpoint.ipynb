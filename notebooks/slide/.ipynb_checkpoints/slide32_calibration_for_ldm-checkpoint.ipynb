{
 "cells": [
  {
   "cell_type": "markdown",
   "metadata": {},
   "source": [
    "# Calibration of for LDM"
   ]
  },
  {
   "cell_type": "code",
   "execution_count": null,
   "metadata": {},
   "outputs": [],
   "source": [
    "%matplotlib widget"
   ]
  },
  {
   "cell_type": "code",
   "execution_count": null,
   "metadata": {},
   "outputs": [],
   "source": [
    "from bmcs_matmod.slide.slide_explorer import SlideExplorer\n",
    "import bmcs_utils.api as bu"
   ]
  },
  {
   "cell_type": "code",
   "execution_count": null,
   "metadata": {},
   "outputs": [],
   "source": [
    "def get_step_cr(**kw):\n",
    "    f_t = kw['f_t']\n",
    "    E_w = kw['E_w']\n",
    "    return f_t/E_w"
   ]
  },
  {
   "cell_type": "code",
   "execution_count": null,
   "metadata": {},
   "outputs": [],
   "source": [
    "E_w = 35000\n",
    "alpha = 0.9\n",
    "E_s = alpha * E_w\n",
    "material_params = dict(\n",
    "    E_s=E_s, gamma_s=E_s, K_s=E_s, S_s=0.01, c_s=1, bartau=4, \n",
    "    E_w=E_w, S_w=0.000015, c_w = 0.1, m = 0.01, f_t=4, f_c=-100, f_c0=-20, eta=0.1\n",
    ")\n",
    "\n",
    "# material_params = dict(\n",
    "#     E_s=1, gamma_s=1, K_s=1, S_s=0.5, c_s=1, bartau=1, \n",
    "#     E_w=1, S_w=0.5, c_w = 1, m = 0.05, f_t=1, f_c=-20, f_c0=-10, eta=0.0\n",
    "# )"
   ]
  },
  {
   "cell_type": "code",
   "execution_count": null,
   "metadata": {},
   "outputs": [],
   "source": [
    "d_w = get_step_cr(**material_params)\n",
    "w_max = 0.1\n",
    "n_steps = int(w_max / d_w)\n",
    "n_steps"
   ]
  },
  {
   "cell_type": "code",
   "execution_count": null,
   "metadata": {},
   "outputs": [],
   "source": [
    "se = SlideExplorer(n_steps=n_steps*4, k_max=50)\n",
    "se.slide_model.trait_set(**material_params)\n",
    "se.trait_set(s_x_1 = 0, s_y_1 = 0, w_1 = w_max);\n",
    "se.run()\n",
    "bu.InteractiveWindow([se, se.energy_dissipation, se.inel_state_evolution, \n",
    "                      se.slide_model], figsize=(9,4), tight_layout=False).interact()"
   ]
  },
  {
   "cell_type": "code",
   "execution_count": null,
   "metadata": {},
   "outputs": [],
   "source": [
    "se.trait_set(s_x_1 = 0.1, s_y_1 = 0, w_1 = 0);\n",
    "se.run()\n",
    "bu.InteractiveWindow([se, se.energy_dissipation, se.inel_state_evolution, \n",
    "                      se.slide_model], figsize=(9,4), tight_layout=False).interact()"
   ]
  },
  {
   "cell_type": "code",
   "execution_count": null,
   "metadata": {},
   "outputs": [],
   "source": []
  }
 ],
 "metadata": {
  "kernelspec": {
   "display_name": "bmcs_env",
   "language": "python",
   "name": "bmcs_env"
  },
  "language_info": {
   "codemirror_mode": {
    "name": "ipython",
    "version": 3
   },
   "file_extension": ".py",
   "mimetype": "text/x-python",
   "name": "python",
   "nbconvert_exporter": "python",
   "pygments_lexer": "ipython3",
   "version": "3.9.0"
  },
  "toc": {
   "base_numbering": 1,
   "nav_menu": {},
   "number_sections": true,
   "sideBar": true,
   "skip_h1_title": false,
   "title_cell": "Table of Contents",
   "title_sidebar": "Contents",
   "toc_cell": false,
   "toc_position": {},
   "toc_section_display": true,
   "toc_window_display": false
  }
 },
 "nbformat": 4,
 "nbformat_minor": 4
}
