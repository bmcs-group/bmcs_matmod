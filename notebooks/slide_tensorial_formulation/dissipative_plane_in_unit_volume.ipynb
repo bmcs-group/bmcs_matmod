{
 "cells": [
  {
   "cell_type": "markdown",
   "id": "7fe163db-9193-44c1-9033-f79a48775c99",
   "metadata": {},
   "source": [
    "# **Dissipative plane in a unit cube**"
   ]
  },
  {
   "cell_type": "markdown",
   "id": "a1af772b-a50e-4b71-873e-6713eda2ec74",
   "metadata": {},
   "source": [
    "Test the elementary load cases - tension, compression and sliding"
   ]
  },
  {
   "cell_type": "code",
   "execution_count": null,
   "id": "d7b4549e-c36b-4c4c-96d2-8a71c0b9aae8",
   "metadata": {},
   "outputs": [],
   "source": [
    "%matplotlib widget\n",
    "import matplotlib.pylab as plt\n",
    "from ibvpy.bcond import BCSlice\n",
    "from ibvpy.fets import FETS3D8H\n",
    "from ibvpy.tmodel.mats3D import MATS3DElastic\n",
    "from bmcs_matmod.ms1.ms1 import MS13D\n",
    "import bmcs_matmod.ms1.concrete_material_db as mp_db\n",
    "from ibvpy.tmodel.viz3d_scalar_field import \\\n",
    "    Vis3DStateField, Viz3DScalarField\n",
    "from ibvpy.tmodel.viz3d_tensor_field import \\\n",
    "    Vis3DTensorField, Viz3DTensorField\n",
    "from ibvpy.sim.tstep_bc import TStepBC\n",
    "from ibvpy.xmodel.xdomain_fe_grid import XDomainFEGrid\n",
    "\n",
    "import numpy as np\n",
    "np.seterr(divide='ignore', invalid='ignore') \n",
    "from bmcs_matmod.slide.vslide_34_ij import MATS3DSlideStrain, Slide34"
   ]
  },
  {
   "cell_type": "code",
   "execution_count": null,
   "id": "7cb132cd-a320-4e73-8f54-08247dc74488",
   "metadata": {},
   "outputs": [],
   "source": [
    "from bmcs_matmod.slide.vslide_34_ij import MATS3DSlideStrain\n",
    "class Debugging(MATS3DSlideStrain):\n",
    "    def get_corr_pred(self, eps_Emab_n1, tn1, **state):\n",
    "        r'''\n",
    "        Corrector predictor computation.\n",
    "        '''\n",
    "        n_i = self.n_a\n",
    "        eps_ij = eps_Emab_n1\n",
    "        eps_N = np.einsum('...ij,...i,...j->...', eps_ij, n_i, n_i)\n",
    "        #\n",
    "        # Change #1\n",
    "        # Instead of concatenation I reuse the eps_NT_Ema - in-place assuming that the first eps_NT_Ema[...,0] is zero \n",
    "        # Check if it is true\n",
    "        #\n",
    "        # eps_T = self.get_eps_T(eps_ij, n_i)\n",
    "        # eps_T = np.sqrt(np.einsum('...i,...i->...',eps_T, eps_T))\n",
    "        eps_NT_Ema = self.get_eps_T(eps_ij, n_i)\n",
    "        eps_NT_Ema[..., 0] = eps_N\n",
    "        # print(eps_N.shape, eps_T)\n",
    "        # eps_NT_Ema = np.concatenate([np.transpose(eps_N), np.transpose(eps_T)], axis=-1)\n",
    "        # print('eps_NT_Ema', eps_NT_Ema.shape)\n",
    "        # print(self.state_var_shapes)\n",
    "        se = self.slide_displ_\n",
    "        sig_NT_Ema, D_Emab = se.get_corr_pred(eps_NT_Ema, tn1, **state)\n",
    "        eps_N_p, eps_T_p_x, eps_T_p_y = state['w_pi'], state['s_pi_x'], state['s_pi_y']\n",
    "        eps_T = self.get_eps_T(eps_ij, n_i)\n",
    "        eps_T_p_i = self.get_eps_T_p(eps_T_p_x, eps_T)\n",
    "        omega_N_Em, omega_T_Em = state['omega_N'], state['omega_T']\n",
    "        phi_Emab = np.zeros_like(eps_Emab_n1)\n",
    "        phi_Emab[..., 0, 0] = np.sqrt(1 - omega_N_Em)\n",
    "        phi_Emab[..., 1, 1] = np.sqrt(1 - omega_T_Em)\n",
    "        phi_Emab[..., 2, 2] = np.sqrt(1 - omega_T_Em)\n",
    "        beta_Emijkl = np.einsum('...ik,...lj->...ijkl', phi_Emab, phi_Emab)\n",
    "        eps_ij_p = (np.einsum('i,...j->...ij', n_i, eps_T_p_i) +\n",
    "                    np.einsum('...i,j->...ij', eps_T_p_i, n_i) +\n",
    "                    np.einsum('...,i,j->...ij', eps_N_p, n_i, n_i)\n",
    "                   )\n",
    "        D_abef = self.D_abef\n",
    "        D_Emabcd = np.einsum('...ijkl,klrs,...rstu->...ijtu', beta_Emijkl, D_abef, beta_Emijkl)\n",
    "        sigma_Emab = np.einsum('...ijkl,...kl->...ij', D_Emabcd, (eps_Emab_n1 - eps_ij_p))\n",
    "        return sigma_Emab, D_Emabcd"
   ]
  },
  {
   "cell_type": "code",
   "execution_count": null,
   "id": "1c69aa1e-26ff-41b1-8a4a-92e10fea2d02",
   "metadata": {},
   "outputs": [],
   "source": [
    "size = 1\n",
    "n_e = 1\n",
    "xmodel = XDomainFEGrid(coord_min=(0, 0, 0),\n",
    "                       coord_max=(size ,size, size),\n",
    "                       shape=(n_e, n_e, n_e),\n",
    "                     integ_factor=1,\n",
    "                     fets=FETS3D8H())\n",
    "E = 34000\n",
    "u_N_f = 0.1\n",
    "u_T_f = 0.6\n",
    "S_N = 1/(E * u_N_f**2)\n",
    "S_T = 1/(E * u_T_f**2)\n",
    "material_params =  dict(\n",
    "     gamma_T=5, K_T=0, S_T=100, c_T=6, bartau=3, \n",
    "     S_N=100, c_N = 3, m = 0.05, f_t=3, f_c=60, f_c0 = 40, eta=0.)\n",
    "bond_m = Slide34(**material_params)\n",
    "m_inelastic = Debugging(slide_displ=bond_m, E=34000, nu=0.2, n_a=[1, 0, 0])\n",
    "m_elastic = MATS3DElastic(E=34000, nu=0.2)\n",
    "m = TStepBC(\n",
    "    domains=[(xmodel, m_inelastic),\n",
    "             ]\n",
    ")"
   ]
  },
  {
   "cell_type": "code",
   "execution_count": null,
   "id": "3441d305-2e4d-47e5-9354-0369f3be1b72",
   "metadata": {},
   "outputs": [],
   "source": [
    "w_max = 0.01 * size\n",
    "#w_max = -1\n",
    "bc_l_x = BCSlice(slice=xmodel.mesh[0, :, :, 0, :, :],\n",
    "                  var='u', dims=[0], value=0.0)\n",
    "bc_r_x = BCSlice(slice=xmodel.mesh[-1, :, :, -1, :, :],\n",
    "                 var='u', dims=[1], value=w_max)\n",
    "bc_xy_z0 = BCSlice(slice=xmodel.mesh[:, :, 0, :, :, 0],\n",
    "                  var='u', dims=[2], value=0)\n",
    "bc_xz_y0 = BCSlice(slice=xmodel.mesh[:, 0, :, :, 0, :],\n",
    "                 var='u', dims=[1], value=0)"
   ]
  },
  {
   "cell_type": "code",
   "execution_count": null,
   "id": "6fc51bc5-d017-4159-b314-0ebb0fbb1244",
   "metadata": {},
   "outputs": [],
   "source": [
    "bc1 = [bc_l_x, bc_r_x, bc_xy_z0, bc_xz_y0]"
   ]
  },
  {
   "cell_type": "code",
   "execution_count": null,
   "id": "8f82d59d-6086-4e8d-a3f1-888760fb57ef",
   "metadata": {},
   "outputs": [],
   "source": [
    "m.bc=bc1\n",
    "m.hist.vis_record = {\n",
    "#    'strain': Vis3DTensorField(var='eps_ab'),\n",
    "    'stress': Vis3DTensorField(var='sig_ab'),\n",
    "    #        'kinematic hardening': Vis3DStateField(var='z_a')\n",
    "}\n",
    "\n",
    "s = m.sim\n",
    "s.tloop.verbose = True\n",
    "s.tloop.k_max = 1000\n",
    "s.tline.step = 0.1\n",
    "# Accessing the following property - ensures serialization\n",
    "s.tstep.fe_domain.serialized_subdomains\n",
    "s.reset()\n",
    "s.run()"
   ]
  },
  {
   "cell_type": "code",
   "execution_count": null,
   "id": "d56ee948-9c9e-4625-b179-b3ad0c1e6e5b",
   "metadata": {},
   "outputs": [],
   "source": [
    "U_last = m.hist.U_t[-1]\n",
    "F_last = m.hist.U_t[-1]\n",
    "U_t = np.average(m.hist.U_t[:, bc_r_x.dofs], axis=-1)\n",
    "F_t = np.sum(m.hist.F_t[:, bc_r_x.dofs], axis=-1)\n",
    "fig, ax = plt.subplots(1, 1)\n",
    "ax.plot(U_t, F_t)"
   ]
  },
  {
   "cell_type": "code",
   "execution_count": null,
   "id": "891c9e49-6522-4eae-8fac-4f8659405677",
   "metadata": {},
   "outputs": [],
   "source": [
    "if False:\n",
    "    from mayavi import mlab\n",
    "    mlab.options.backend = 'envisage'\n",
    "    mlab.options.offscreen = False # 'envisage'\n",
    "    f_strain = mlab.figure()\n",
    "    scene = mlab.get_engine().scenes[-1]\n",
    "    scene.name = 'stress'\n",
    "    strain_viz = Viz3DTensorField(vis3d=m.hist['stress'])\n",
    "    strain_viz.setup()\n",
    "    strain_viz.warp_vector.filter.scale_factor = 0.1\n",
    "    strain_viz.plot(s.tstep.t_n)\n",
    "    mlab.show()"
   ]
  },
  {
   "cell_type": "code",
   "execution_count": null,
   "id": "524804f9-5ac5-46bf-9adc-c57919299642",
   "metadata": {},
   "outputs": [],
   "source": []
  }
 ],
 "metadata": {
  "kernelspec": {
   "display_name": "bmcs_env",
   "language": "python",
   "name": "bmcs_env"
  },
  "language_info": {
   "codemirror_mode": {
    "name": "ipython",
    "version": 3
   },
   "file_extension": ".py",
   "mimetype": "text/x-python",
   "name": "python",
   "nbconvert_exporter": "python",
   "pygments_lexer": "ipython3"
  }
 },
 "nbformat": 4,
 "nbformat_minor": 5
}
