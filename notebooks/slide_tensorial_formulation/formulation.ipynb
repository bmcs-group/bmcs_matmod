{
 "cells": [
  {
   "cell_type": "markdown",
   "id": "c9b1a703-90dc-4390-9d8c-2455c3d5370b",
   "metadata": {},
   "source": [
    "# Formulation of a directional damage-plasticity model"
   ]
  },
  {
   "cell_type": "code",
   "execution_count": 1,
   "id": "c775a0bd-f04d-4e38-be6a-b2feec8fcb1d",
   "metadata": {},
   "outputs": [],
   "source": [
    "%matplotlib widget\n",
    "import numpy as np\n",
    "import bmcs_utils\n",
    "from bmcs_matmod.slide.slide_explorer import SlideExplorer\n",
    "import bmcs_utils.api as bu\n",
    "from bmcs_matmod.time_fn.time_function import TimeFunction\n",
    "import matplotlib.pylab as plt"
   ]
  },
  {
   "cell_type": "markdown",
   "id": "39f27117-5d4d-493c-bc97-63cee57550a1",
   "metadata": {},
   "source": [
    "## Helmholtz free energy function"
   ]
  },
  {
   "cell_type": "markdown",
   "id": "6ce45a61-7938-43b0-8d5c-dd9faab032b0",
   "metadata": {},
   "source": [
    "The Helmholtz free energy function must have a shape like the following:"
   ]
  },
  {
   "cell_type": "markdown",
   "id": "94cd0c5f-6548-4906-ae1b-91b629dc5a21",
   "metadata": {},
   "source": [
    "$$\n",
    "\\rho {\\psi}(\\varepsilon_{ij},\\varepsilon_{ij}^p,\\omega_\\mathrm{N}, \\omega_\\mathrm{T})\n",
    "= \\frac{1}{2} \\varepsilon_{ij} D_{ijkl} \\varepsilon_{kl}\n",
    "-\n",
    " \\frac{1}{2} \\varepsilon_{kl} n_k n_l E n_i n_j \\varepsilon_{ij}\n",
    "+\n",
    " \\frac{1}{2} (\\varepsilon_{kl} - \\varepsilon_{kl}^p) n_k n_l n_i n_j (1 - \\omega_\\mathrm{N}) D_{ijkl} n_k n_l n_i n_j (\\varepsilon_{ij} - \\varepsilon_{ij}^p) \n",
    "- \n",
    " \\frac{1}{16} (n_j \\delta_{ki} + n_k \\delta_{ji} - 2n_j n_k n_i) \\varepsilon_{jk} n_j  D_{ijkl} (n_i \\delta_{jk} + n_j \\delta_{ik} - 2n_i n_j n_k) \\varepsilon_{ij} n_l\n",
    "+\n",
    " \\frac{1}{16} (n_j \\delta_{ki} + n_k \\delta_{ji} - 2n_j n_k n_i) (\\varepsilon_{jk} - \\varepsilon_{jk}^p) n_j (1 - \\omega_\\mathrm{T}) D_{ijkl} (n_i \\delta_{jk} + n_j \\delta_{ik} - 2n_i n_j n_k) (\\varepsilon_{ij} - \\varepsilon_{ij}^p) n_l\n",
    "$$"
   ]
  },
  {
   "cell_type": "markdown",
   "id": "9da82429-1a7d-4917-9d97-f567d2562a78",
   "metadata": {},
   "source": [
    "The displayed formulation presents two problems: \n",
    "- The result of $\\varepsilon_{kl} n_k n_l n_i n_j D_{ijkl} n_k n_l n_i n_j$ does not cancel the stress normal to the plane defined by the normal vector $n_i$. In this case $\\varepsilon_\\mathrm{N} = \\varepsilon_{kl} n_k n_l$ and $E_\\mathrm{N} =D_{ijkl} n_k n_l n_i n_j$. The problem is that $E_\\mathrm{N} \\varepsilon_\\mathrm{N} \\neq \\sigma_{11} $\n",
    "- For the tangential component this Helmholtz free energy function is not delivering simetric tangential part of the stress tensor"
   ]
  },
  {
   "cell_type": "markdown",
   "id": "63fd09b7-18bd-45a0-b828-38f6e6c65298",
   "metadata": {},
   "source": [
    "Actual state of the desirable expression for the stress tensor"
   ]
  },
  {
   "cell_type": "markdown",
   "id": "db9c37ff-cb53-47d2-a499-2ce25cfa3702",
   "metadata": {},
   "source": [
    "$$\n",
    " \\sigma_{ij} = \\frac{\\partial \\rho \\psi}{ \\partial \\varepsilon_{ij} }\n",
    "$$"
   ]
  },
  {
   "cell_type": "markdown",
   "id": "71b3fb49-b05e-47a5-9dee-3b9bb93f3597",
   "metadata": {},
   "source": [
    "$$\n",
    "\\sigma_{ij} =     \n",
    "D_{ijkl} \\varepsilon_{kl} \n",
    "- \n",
    "\\varepsilon_\\mathrm{N} n_{i} n_{j} E_\\mathrm{N}\n",
    "+ \n",
    "(\\varepsilon_\\mathrm{N} - \\varepsilon_\\mathrm{N}^p) n_{i} n_{j} (1 - \\omega_\\mathrm{N}) E_\\mathrm{N}\n",
    "-\n",
    "(\\varepsilon_{\\mathrm{T}_i} n_j + n_i \\varepsilon_{\\mathrm{T}_j})  E_\\mathrm{T}\n",
    "+\n",
    " ((\\varepsilon_{\\mathrm{T}_i} n_j + n_i \\varepsilon_{\\mathrm{T}_j} ) - (\\varepsilon_{\\mathrm{T}_i}^p n_j + n_i \\varepsilon_{\\mathrm{T}_j}^p ))  (1 - \\omega_\\mathrm{T}) E_\\mathrm{T}\n",
    "$$"
   ]
  },
  {
   "cell_type": "markdown",
   "id": "2bb6856c-f233-456c-b166-7ffe28192e31",
   "metadata": {},
   "source": [
    "with $$ \\varepsilon_{\\mathrm{N}} = \\varepsilon_{ij} n_i n_j, \\\\ E_\\mathrm{N} = E , \\\\ \\varepsilon_{\\mathrm{T}_k} = \\frac{1}{2}\\left[n_i \\delta_{jk} + n_j \\delta_{ik} - 2 n_i n_j n_k \\right] \\varepsilon_{ij}, \\\\  E_\\mathrm{T} = D_{ijkl} \\frac{1}{2}\\left[n_i \\delta_{jk} + n_j \\delta_{ik} - 2 n_i n_j n_k \\right] n_l\n",
    "$$"
   ]
  },
  {
   "cell_type": "markdown",
   "id": "da777242-6351-4b67-9b36-7bdc0c3e2ec7",
   "metadata": {},
   "source": [
    "**TODO** : \n",
    "\n",
    "- solve the issues with the Helmholtz free energy function\n",
    "\n",
    "- compute algorithmic tangent operator"
   ]
  },
  {
   "cell_type": "markdown",
   "id": "ac214d50-a8a2-4432-b8dd-72ee4bfff898",
   "metadata": {},
   "source": [
    "With the presented expression for the stress tensor and extracting the desired strain components from the strain tensor, it is possible to couple the SLIDE machinery to the model and obtain a tensorial material model out of it."
   ]
  },
  {
   "cell_type": "markdown",
   "id": "18f27b4f-dd6a-4d2a-b1c3-852dcf5c5d10",
   "metadata": {},
   "source": [
    "## Implementation on a strain-driven simulation"
   ]
  },
  {
   "cell_type": "markdown",
   "id": "73ad880f-597a-42c5-a71e-a27a32e889a6",
   "metadata": {},
   "source": [
    "The strategy consists on creating three loading scenarios, where the strain tensor can be \"artificially created\". The three loading cases are:\n",
    "- Uniaxial tension\n",
    "- Uniaxial compression\n",
    "- Pure shear"
   ]
  },
  {
   "cell_type": "markdown",
   "id": "89a324cd-497d-4602-946e-4da6a1f9804d",
   "metadata": {},
   "source": [
    "Since several expresions are going to be the same for all the studied cases:"
   ]
  },
  {
   "cell_type": "code",
   "execution_count": 2,
   "id": "60c6a5e0-716b-453f-9d8f-4589d7342cc7",
   "metadata": {},
   "outputs": [],
   "source": [
    "def get_eps_N(eps_ij, n_i):\n",
    "    eps_N = np.einsum('...ij,...i,...j->...', eps_ij, n_i, n_i)\n",
    "    return eps_N"
   ]
  },
  {
   "cell_type": "code",
   "execution_count": 3,
   "id": "d4502f3c-62a2-4b08-beb1-d04f7b15046a",
   "metadata": {},
   "outputs": [],
   "source": [
    "def get_eps_T(eps_ij, n_i):\n",
    "    delta_ij = np.identity(3)\n",
    "    eps_T = 0.5*(np.einsum('...i,...jk,...ij->...k',n_i,delta_ij,eps_ij) \n",
    "                 + np.einsum('...j,...ik,...ij->...k',n_i,delta_ij,eps_ij) \n",
    "                 - 2*np.einsum('...i,...j,...k,...ij->...k',n_i,n_i,n_i,eps_ij))\n",
    "    return eps_T"
   ]
  },
  {
   "cell_type": "code",
   "execution_count": 4,
   "id": "351dd180-133c-49af-8c83-7cbc6b54f8e3",
   "metadata": {},
   "outputs": [],
   "source": [
    "def get_eps_T_p(eps_T_p, eps_T):\n",
    "    director_vector = eps_T[-1] / np.linalg.norm(eps_T[-1])\n",
    "    eps_T_p = np.einsum('...,...i->...i',eps_T_p, director_vector) \n",
    "    return eps_T_p"
   ]
  },
  {
   "cell_type": "code",
   "execution_count": 5,
   "id": "7fb3eb2e-664e-4351-a82d-88a1b78f8fd6",
   "metadata": {},
   "outputs": [],
   "source": [
    "def get_D_ijkl(E,nu):\n",
    "    delta_ij = np.identity(3)\n",
    "    la = E * nu / ((1. + nu) * (1. - 2. * nu))\n",
    "    mu = E / (2. + 2.* nu)\n",
    "    D_ijkl = (np.einsum(',ij,kl->ijkl', la, delta_ij, delta_ij) +\n",
    "              np.einsum(',ik,jl->ijkl', mu, delta_ij, delta_ij) +\n",
    "              np.einsum(',il,jk->ijkl', mu, delta_ij, delta_ij))\n",
    "    return D_ijkl"
   ]
  },
  {
   "cell_type": "code",
   "execution_count": 6,
   "id": "d227d3ec-be6c-4089-9e79-b8d25801ebe3",
   "metadata": {},
   "outputs": [],
   "source": [
    "def get_E_T(E,nu,n_i):\n",
    "    delta_ij = np.identity(3)\n",
    "    D_ijkl = get_D_ijkl(E,nu)\n",
    "    operator = 0.5*(np.einsum('i,jk,l->ijkl',n_i,delta_ij,n_i) \n",
    "                 + np.einsum('j,ik,l->jikl',n_i,delta_ij,n_i) \n",
    "                 - 2*np.einsum('i,j,k,l->ijkl',n_i,n_i,n_i,n_i))\n",
    "    E_T = np.einsum('ijkl,ijkl->', D_ijkl, operator)\n",
    "    return E_T"
   ]
  },
  {
   "cell_type": "code",
   "execution_count": 7,
   "id": "150d4a18-f612-4bcc-a126-e1b98f08bd17",
   "metadata": {},
   "outputs": [],
   "source": [
    "def get_sigma(E, nu, n_i, eps_ij, eps_N_p, omega_N, eps_T_p, omega_T):\n",
    "    \n",
    "    eps_N = get_eps_N(eps_ij, n_i)\n",
    "    eps_T = get_eps_T(eps_ij, n_i)\n",
    "    D_ijkl = get_D_ijkl(E,nu)\n",
    "    E_T = get_E_T(E,nu,n_i) \n",
    "    sigma_ij = (np.einsum( '...ijkl,...kl->...ij',D_ijkl, eps_ij) \n",
    "                - np.einsum( '...,...i,...j->...ij', eps_N, n_i, n_i) * E \n",
    "                + np.einsum( '...,...i,...j,...->...ij', (eps_N - eps_N_p) , n_i, n_i, (1-omega_N)* E)\n",
    "                - E_T*(np.einsum('...i,...j->...ij', n_i, eps_T) + np.einsum('...i,...j->...ij', eps_T, n_i))\n",
    "                + (np.einsum('...,...i,...j->...ij', (1 - omega_T)*E_T, n_i, (eps_T - eps_T_p)) + np.einsum('...,...i,...j->...ij', (1 - omega_T)*E_T, (eps_T - eps_T_p), n_i)) \n",
    "               )  \n",
    "    return sigma_ij"
   ]
  },
  {
   "cell_type": "markdown",
   "id": "26a927c1-4730-48a1-8086-177bd6229e8a",
   "metadata": {
    "tags": []
   },
   "source": [
    "### Uniaxial tension - strain controlled"
   ]
  },
  {
   "cell_type": "markdown",
   "id": "7d8e402e-bd2f-40f7-ac65-1f6548c21c04",
   "metadata": {},
   "source": [
    "Constructing the strain tensor in n steps and getting stress tensor via SLIDE model"
   ]
  },
  {
   "cell_type": "code",
   "execution_count": 10,
   "id": "7ed62297-0cb9-4b1c-8ccc-7a47b4bf6f26",
   "metadata": {},
   "outputs": [],
   "source": [
    "E = 1\n",
    "nu = 0.2"
   ]
  },
  {
   "cell_type": "code",
   "execution_count": 11,
   "id": "6c14fbf9-91bd-4e72-80ad-75f2ca109012",
   "metadata": {},
   "outputs": [],
   "source": [
    "n_steps = 100\n",
    "eps_ij = np.zeros((n_steps,3,3))\n",
    "eps11 = np.linspace(0,1,n_steps)\n",
    "#eps22 = eps33 = np.linspace(0,-0.2,n_steps)\n",
    "eps22 = eps33 = -nu*eps11\n",
    "eps_ij[:,0,0] = eps11\n",
    "eps_ij[:,1,1] = eps22\n",
    "eps_ij[:,2,2] = eps33"
   ]
  },
  {
   "cell_type": "code",
   "execution_count": 12,
   "id": "dd971c8f-bdcf-49b4-8dfb-b60c17980607",
   "metadata": {},
   "outputs": [],
   "source": [
    "n_i = [1,0,0] "
   ]
  },
  {
   "cell_type": "code",
   "execution_count": 13,
   "id": "3940a19e-7a50-490d-89a4-13698b739ba3",
   "metadata": {},
   "outputs": [],
   "source": [
    "material_params = dict(\n",
    "    E_T=get_E_T(E,nu,n_i), gamma_T=0, K_T=0, S_T=0.05, c_T=3, bartau=0.2, \n",
    "    E_N=E, S_N=0.0001, c_N = 1, m = 0.1, f_t=0.1, f_c=2, f_c0=1, eta=0.0)\n",
    "\n",
    "se1 = SlideExplorer( n_steps=n_steps-1, k_max=50)\n",
    "se1.slide_model.trait_set(**material_params)\n",
    "se1.trait_set(s_x_1 =  0.0, s_y_1 = 0, w_1 = eps11[-1]);\n",
    "se1.run()"
   ]
  },
  {
   "cell_type": "code",
   "execution_count": 14,
   "id": "cc5f82fc-6645-40b3-9d43-8206c7beae92",
   "metadata": {},
   "outputs": [
    {
     "name": "stderr",
     "output_type": "stream",
     "text": [
      "C:\\Users\\marag\\AppData\\Local\\Temp/ipykernel_15156/2029371827.py:2: RuntimeWarning: invalid value encountered in true_divide\n",
      "  director_vector = eps_T[-1] / np.linalg.norm(eps_T[-1])\n"
     ]
    }
   ],
   "source": [
    "sigma_T, tau_y_pi_, sig_N, Z_, X_x_, X_y_, Y_T_, Y_N_ = se1.Sig_arr.T\n",
    "eps_T_p, s_y_pi_, eps_N_p, z_, alpha_x_, alpha_y_, omega_T, omega_N = se1.Eps_arr.T\n",
    "eps_T = get_eps_T(eps_ij, n_i)\n",
    "eps_T_p = get_eps_T_p(eps_T_p, eps_T)"
   ]
  },
  {
   "cell_type": "code",
   "execution_count": 17,
   "id": "ed3107cd-5dc8-4898-86d3-d05feff6831e",
   "metadata": {
    "tags": []
   },
   "outputs": [],
   "source": [
    "sigma_ij = get_sigma(E, nu, n_i, eps_ij, eps_N_p, omega_N, eps_T_p, omega_T)"
   ]
  },
  {
   "cell_type": "code",
   "execution_count": 18,
   "id": "0d572c8a-a961-4d76-9629-cede6317d784",
   "metadata": {},
   "outputs": [
    {
     "data": {
      "text/plain": [
       "[<matplotlib.lines.Line2D at 0x22ab827d9d0>]"
      ]
     },
     "execution_count": 18,
     "metadata": {},
     "output_type": "execute_result"
    },
    {
     "data": {
      "application/vnd.jupyter.widget-view+json": {
       "model_id": "5d40f13128834aa39ce68c8f4121e1ea",
       "version_major": 2,
       "version_minor": 0
      },
      "text/html": [
       "\n",
       "            <div style=\"display: inline-block;\">\n",
       "                <div class=\"jupyter-widgets widget-label\" style=\"text-align: center;\">\n",
       "                    Figure\n",
       "                </div>\n",
       "                <img src='data:image/png;base64,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' width=900.0/>\n",
       "            </div>\n",
       "        "
      ],
      "text/plain": [
       "Canvas(toolbar=Toolbar(toolitems=[('Home', 'Reset original view', 'home', 'home'), ('Back', 'Back to previous …"
      ]
     },
     "metadata": {},
     "output_type": "display_data"
    }
   ],
   "source": [
    "fig, ((ax_1, ax_2, ax_3)) = plt.subplots(1,3, tight_layout=True, figsize=(9,6))\n",
    "\n",
    "ax_1.plot(eps_ij[:,0,0] , sigma_ij[:,0,0])\n",
    "ax_1.plot(eps_ij[:,0,0] , sig_N)\n",
    "\n",
    "ax_2.plot(eps_ij[:,0,0] , omega_N)\n",
    "\n",
    "ax_3.plot(eps_ij[:,0,0] , eps_N_p)"
   ]
  },
  {
   "cell_type": "markdown",
   "id": "6ab2a767-2ad5-4204-a078-4cdc66d98982",
   "metadata": {
    "tags": []
   },
   "source": [
    "### Uniaxial compression - strain controlled"
   ]
  },
  {
   "cell_type": "markdown",
   "id": "fd98bc96-f020-4a4f-8e63-71a4ce3f37e8",
   "metadata": {},
   "source": [
    "Constructing the strain tensor in n steps and getting stress tensor via SLIDE model"
   ]
  },
  {
   "cell_type": "code",
   "execution_count": 19,
   "id": "6ab1abdd-24c1-4417-ae5c-d25023d37766",
   "metadata": {},
   "outputs": [],
   "source": [
    "n_i = [1,0,0] "
   ]
  },
  {
   "cell_type": "code",
   "execution_count": 20,
   "id": "d27dffd3-1225-451a-8a8e-b1652ca0fd26",
   "metadata": {
    "tags": []
   },
   "outputs": [],
   "source": [
    "E = 1\n",
    "nu = 0.2"
   ]
  },
  {
   "cell_type": "code",
   "execution_count": 21,
   "id": "676ad1da-7122-429e-b596-169f19dc4050",
   "metadata": {},
   "outputs": [],
   "source": [
    "n_steps =100\n",
    "strain = -3\n",
    "eps_ij = np.zeros((n_steps,3,3))\n",
    "eps11 = np.linspace(0,strain,n_steps)\n",
    "eps22 = eps33 = np.linspace(0,-nu*strain,n_steps)\n",
    "eps_ij[:,0,0] = eps11\n",
    "eps_ij[:,1,1] = eps22\n",
    "eps_ij[:,2,2] = eps33"
   ]
  },
  {
   "cell_type": "code",
   "execution_count": 22,
   "id": "91c48be7-8f80-4937-ab77-3b7328d4ab6d",
   "metadata": {},
   "outputs": [],
   "source": [
    "material_params = dict(\n",
    "    E_T=get_E_T(E,nu,n_i), gamma_T=0, K_T=0, S_T=0.05, c_T=3, bartau=0.2, \n",
    "    E_N=E, S_N=0.0001, c_N = 1, m = 0.1, f_t=0.1, f_c=2, f_c0=1, eta=0.0)\n",
    "\n",
    "se1 = SlideExplorer( n_steps=n_steps-1, k_max=50)\n",
    "se1.slide_model.trait_set(**material_params)\n",
    "se1.trait_set(s_x_1 =  0.0, s_y_1 = 0, w_1 = eps11[-1]);\n",
    "se1.run()"
   ]
  },
  {
   "cell_type": "code",
   "execution_count": 23,
   "id": "56a8d744-f0cc-428c-af31-993084f0664b",
   "metadata": {},
   "outputs": [
    {
     "name": "stderr",
     "output_type": "stream",
     "text": [
      "C:\\Users\\marag\\AppData\\Local\\Temp/ipykernel_15156/2029371827.py:2: RuntimeWarning: invalid value encountered in true_divide\n",
      "  director_vector = eps_T[-1] / np.linalg.norm(eps_T[-1])\n"
     ]
    }
   ],
   "source": [
    "sigma_T, tau_y_pi_, sig_N, Z_, X_x_, X_y_, Y_T_, Y_N_ = se1.Sig_arr.T\n",
    "eps_T_p, s_y_pi_, eps_N_p, z_, alpha_x_, alpha_y_, omega_T, omega_N = se1.Eps_arr.T\n",
    "eps_T = get_eps_T(eps_ij, n_i)\n",
    "eps_T_p = get_eps_T_p(eps_T_p, eps_T)"
   ]
  },
  {
   "cell_type": "code",
   "execution_count": 24,
   "id": "f360cea9-7ab6-4784-8195-33243c3d82e1",
   "metadata": {
    "tags": []
   },
   "outputs": [],
   "source": [
    "sigma_ij = get_sigma(E, nu, n_i, eps_ij, eps_N_p, omega_N, eps_T_p, omega_T)"
   ]
  },
  {
   "cell_type": "code",
   "execution_count": 25,
   "id": "dbf886c1-d5be-4df5-9a76-f3695ad3d8c7",
   "metadata": {},
   "outputs": [
    {
     "data": {
      "text/plain": [
       "[<matplotlib.lines.Line2D at 0x22ab8868df0>]"
      ]
     },
     "execution_count": 25,
     "metadata": {},
     "output_type": "execute_result"
    },
    {
     "data": {
      "application/vnd.jupyter.widget-view+json": {
       "model_id": "8ecdff6b75254672b6e3f86101d4d8c9",
       "version_major": 2,
       "version_minor": 0
      },
      "text/html": [
       "\n",
       "            <div style=\"display: inline-block;\">\n",
       "                <div class=\"jupyter-widgets widget-label\" style=\"text-align: center;\">\n",
       "                    Figure\n",
       "                </div>\n",
       "                <img src='data:image/png;base64,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' width=900.0/>\n",
       "            </div>\n",
       "        "
      ],
      "text/plain": [
       "Canvas(toolbar=Toolbar(toolitems=[('Home', 'Reset original view', 'home', 'home'), ('Back', 'Back to previous …"
      ]
     },
     "metadata": {},
     "output_type": "display_data"
    }
   ],
   "source": [
    "fig, ((ax_1, ax_2, ax_3)) = plt.subplots(1,3, tight_layout=True, figsize=(9,6))\n",
    "\n",
    "ax_1.plot(eps_ij[:,0,0] , sigma_ij[:,0,0])\n",
    "ax_1.plot(eps_ij[:,0,0] , sig_N)\n",
    "\n",
    "ax_2.plot(eps_ij[:,0,0] , omega_N)\n",
    "\n",
    "ax_3.plot(eps_ij[:,0,0] , eps_N_p)"
   ]
  },
  {
   "cell_type": "markdown",
   "id": "412f24a2-6a30-4711-8eed-8c4f991be3f5",
   "metadata": {
    "tags": []
   },
   "source": [
    "### Pure shear - strain controlled"
   ]
  },
  {
   "cell_type": "markdown",
   "id": "1de3221e-1965-442a-868e-f1e3ae0f23d2",
   "metadata": {},
   "source": [
    "Constructing the strain tensor in n steps and getting stress tensor via SLIDE model"
   ]
  },
  {
   "cell_type": "code",
   "execution_count": 26,
   "id": "e5a910c0-7c87-43a8-824b-8b0aa93e9f19",
   "metadata": {},
   "outputs": [],
   "source": [
    "n_i = [1,0,0] "
   ]
  },
  {
   "cell_type": "code",
   "execution_count": 27,
   "id": "c87fa0f3-dcb6-44af-baa9-dd00b4a55e6f",
   "metadata": {
    "tags": []
   },
   "outputs": [],
   "source": [
    "E = 1\n",
    "nu = 0.2"
   ]
  },
  {
   "cell_type": "code",
   "execution_count": 28,
   "id": "386386b3-b9bc-4175-8d1b-65375155defa",
   "metadata": {},
   "outputs": [],
   "source": [
    "n_steps =100\n",
    "strain = 5\n",
    "eps_ij = np.zeros((n_steps,3,3))\n",
    "eps13= eps31 = np.linspace(0,strain,n_steps)\n",
    "eps_ij[:,0,2] = eps13\n",
    "eps_ij[:,2,0] = eps31"
   ]
  },
  {
   "cell_type": "code",
   "execution_count": 29,
   "id": "cdaa8508-a35d-4e35-aeaf-297865024c8d",
   "metadata": {},
   "outputs": [],
   "source": [
    "material_params = dict(\n",
    "    E_T=get_E_T(E,nu,n_i), gamma_T=10, K_T=0, S_T=0.05, c_T=1, bartau=0.2, \n",
    "    E_N=E, S_N=0.0001, c_N = 1, m = 0.1, f_t=0.1, f_c=2, f_c0=1, eta=0.0)\n",
    "\n",
    "se1 = SlideExplorer( n_steps=n_steps-1, k_max=50)\n",
    "se1.slide_model.trait_set(**material_params)\n",
    "se1.trait_set(s_x_1 = strain, s_y_1 = 0, w_1 = 0);\n",
    "se1.run()"
   ]
  },
  {
   "cell_type": "code",
   "execution_count": 30,
   "id": "bfa2ac91-e555-4a8e-93bd-17caeed3809b",
   "metadata": {},
   "outputs": [],
   "source": [
    "sigma_T, tau_y_pi_, sig_N, Z_, X_x_, X_y_, Y_T_, Y_N_ = se1.Sig_arr.T\n",
    "eps_T_p, s_y_pi_, eps_N_p, z_, alpha_x_, alpha_y_, omega_T, omega_N = se1.Eps_arr.T\n",
    "eps_T = get_eps_T(eps_ij, n_i)\n",
    "eps_T_p_i = get_eps_T_p(eps_T_p, eps_T)"
   ]
  },
  {
   "cell_type": "code",
   "execution_count": 31,
   "id": "b49b3e1e-e22a-4838-897b-d8e1888f97d4",
   "metadata": {
    "tags": []
   },
   "outputs": [],
   "source": [
    "sigma_ij = get_sigma(E, nu, n_i, eps_ij, eps_N_p, omega_N, eps_T_p_i, omega_T)"
   ]
  },
  {
   "cell_type": "code",
   "execution_count": 32,
   "id": "ac2329d8-edb5-4d9c-86f3-ae9fb3ee1fdb",
   "metadata": {},
   "outputs": [
    {
     "data": {
      "text/plain": [
       "[<matplotlib.lines.Line2D at 0x22ab8dc9af0>]"
      ]
     },
     "execution_count": 32,
     "metadata": {},
     "output_type": "execute_result"
    },
    {
     "data": {
      "application/vnd.jupyter.widget-view+json": {
       "model_id": "5f5516fd33da4fec98307efa2ad54759",
       "version_major": 2,
       "version_minor": 0
      },
      "text/html": [
       "\n",
       "            <div style=\"display: inline-block;\">\n",
       "                <div class=\"jupyter-widgets widget-label\" style=\"text-align: center;\">\n",
       "                    Figure\n",
       "                </div>\n",
       "                <img src='data:image/png;base64,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' width=900.0/>\n",
       "            </div>\n",
       "        "
      ],
      "text/plain": [
       "Canvas(toolbar=Toolbar(toolitems=[('Home', 'Reset original view', 'home', 'home'), ('Back', 'Back to previous …"
      ]
     },
     "metadata": {},
     "output_type": "display_data"
    }
   ],
   "source": [
    "fig, ((ax_1, ax_2, ax_3)) = plt.subplots(1,3, tight_layout=True, figsize=(9,6))\n",
    "\n",
    "ax_1.plot(eps_ij[:,0,2] , sigma_ij[:,0,2])\n",
    "ax_1.plot(eps_ij[:,0,2] , sigma_T)\n",
    "\n",
    "\n",
    "ax_2.plot(eps_ij[:,0,2] , omega_T)\n",
    "\n",
    "ax_3.plot(eps_ij[:,0,2] , eps_T_p)"
   ]
  },
  {
   "cell_type": "markdown",
   "id": "1f788ef4-1f07-41d8-a482-612f4641aad5",
   "metadata": {},
   "source": [
    "Trying to obtain damage tensor $\\beta_{ijkl} = \\phi_{ik} \\phi_{jl}^T$"
   ]
  },
  {
   "cell_type": "markdown",
   "id": "c9829a99-e1c3-46d7-8aed-f19ff622e94c",
   "metadata": {},
   "source": [
    "$\\phi_{ij} = \\begin{bmatrix}\n",
    "\\sqrt{1-\\omega_{\\mathrm{N}}} & 0 & 0\\\\\n",
    "0 & \\sqrt{1-\\omega_{\\mathrm{T}_y}} & 0\\\\\n",
    "0 & 0 & \\sqrt{1-\\omega_{\\mathrm{T}_z}}\n",
    "\\end{bmatrix}$"
   ]
  },
  {
   "cell_type": "code",
   "execution_count": 33,
   "id": "6ab51a99-d772-4544-af3d-1f9794182b3c",
   "metadata": {},
   "outputs": [],
   "source": [
    "phi_ij = np.zeros_like(eps_ij)\n",
    "phi_ij[:,1,1] = 0.\n",
    "phi_ij[:,2,2] = np.sqrt(1-omega_T)\n",
    "phi_ij[:,0,0] = np.sqrt(1-omega_N)"
   ]
  },
  {
   "cell_type": "code",
   "execution_count": 34,
   "id": "4bffb284-4d31-455f-8bce-1e6bb4a37188",
   "metadata": {},
   "outputs": [],
   "source": [
    "beta_ijkl = np.einsum('...ik,...jl->...ijkl',phi_ij,np.transpose(phi_ij,(0,2,1)))"
   ]
  },
  {
   "cell_type": "code",
   "execution_count": 35,
   "id": "c09c9535-cbd0-4826-b2e6-7dd8ef85b39d",
   "metadata": {},
   "outputs": [
    {
     "data": {
      "text/plain": [
       "0.020342384075648683"
      ]
     },
     "execution_count": 35,
     "metadata": {},
     "output_type": "execute_result"
    }
   ],
   "source": [
    "eps_ij_p = (np.einsum('...i,...j->...ij', n_i, eps_T_p_i) + np.einsum('...i,...j->...ij', eps_T_p_i, n_i)) + np.einsum( '...,...i,...j->...ij', eps_N_p, n_i, n_i)\n",
    "eps_N_p[-1]"
   ]
  },
  {
   "cell_type": "code",
   "execution_count": 36,
   "id": "6c35b5d0-c153-4256-b3cc-1e3870472dfe",
   "metadata": {},
   "outputs": [],
   "source": [
    "E_T = get_E_T(E,nu,n_i) "
   ]
  },
  {
   "cell_type": "code",
   "execution_count": 37,
   "id": "43a361f5-749d-48dc-993d-314f795cf9f2",
   "metadata": {
    "tags": []
   },
   "outputs": [],
   "source": [
    "sigma_ij_2 = np.einsum('...ijkl,...klrs,...rstu,...tu->...ij',beta_ijkl,get_D_ijkl(E,nu),beta_ijkl,(eps_ij-eps_ij_p))"
   ]
  },
  {
   "cell_type": "code",
   "execution_count": 38,
   "id": "1210d685-5ce6-485c-ba16-0f4154858e2e",
   "metadata": {},
   "outputs": [
    {
     "data": {
      "text/plain": [
       "[<matplotlib.lines.Line2D at 0x22ab7b97a60>]"
      ]
     },
     "execution_count": 38,
     "metadata": {},
     "output_type": "execute_result"
    },
    {
     "data": {
      "application/vnd.jupyter.widget-view+json": {
       "model_id": "ef5d10f87a7d498b823303a40cb3aace",
       "version_major": 2,
       "version_minor": 0
      },
      "text/html": [
       "\n",
       "            <div style=\"display: inline-block;\">\n",
       "                <div class=\"jupyter-widgets widget-label\" style=\"text-align: center;\">\n",
       "                    Figure\n",
       "                </div>\n",
       "                <img src='data:image/png;base64,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' width=900.0/>\n",
       "            </div>\n",
       "        "
      ],
      "text/plain": [
       "Canvas(toolbar=Toolbar(toolitems=[('Home', 'Reset original view', 'home', 'home'), ('Back', 'Back to previous …"
      ]
     },
     "metadata": {},
     "output_type": "display_data"
    }
   ],
   "source": [
    "fig, ((ax_1, ax_2, ax_3)) = plt.subplots(1,3, tight_layout=True, figsize=(9,6))\n",
    "\n",
    "ax_1.plot(eps_ij[:,0,2] , sigma_ij[:,0,2])\n",
    "ax_1.plot(eps_ij[:,0,2] , sigma_ij_2[:,0,2])\n",
    "\n",
    "\n",
    "ax_2.plot(eps_ij[:,0,2] , omega_T)\n",
    "\n",
    "ax_3.plot(eps_ij[:,0,2] , eps_T_p)"
   ]
  },
  {
   "cell_type": "markdown",
   "id": "473c00b3-abfe-4e12-9e34-d57c3841b159",
   "metadata": {},
   "source": [
    "## Implementation on a stress-driven simulation"
   ]
  },
  {
   "cell_type": "code",
   "execution_count": null,
   "id": "077fcd1e-584c-4be7-9606-b2b9e08e0e63",
   "metadata": {},
   "outputs": [],
   "source": []
  },
  {
   "cell_type": "code",
   "execution_count": null,
   "id": "3948812f-b858-4f74-a322-28c1d65b1d75",
   "metadata": {},
   "outputs": [],
   "source": []
  },
  {
   "cell_type": "code",
   "execution_count": null,
   "id": "86f2494c-7810-4f63-80cc-622683086133",
   "metadata": {},
   "outputs": [],
   "source": []
  },
  {
   "cell_type": "code",
   "execution_count": 27,
   "id": "a4112440-851f-49f6-8b58-f412c39cd4a1",
   "metadata": {},
   "outputs": [],
   "source": [
    "import traits.api as tr\n",
    "\n",
    "class MATS3DSlide():\n",
    "    # -------------------------------------------------------------------------\n",
    "    # Cached elasticity tensors\n",
    "    # -------------------------------------------------------------------------\n",
    "\n",
    "    E = tr.Float(1,\n",
    "                 label=\"E\",\n",
    "                 desc=\"Young's Modulus\",\n",
    "                 auto_set=False,\n",
    "                 input=True)\n",
    "\n",
    "    nu = tr.Float(0.2,\n",
    "                  label='nu',\n",
    "                  desc=\"Poison ratio\",\n",
    "                  auto_set=False,\n",
    "                  input=True)\n",
    "    \n",
    "    def get_D_ijkl(self,E,nu):\n",
    "        delta_ij = np.identity(3)\n",
    "        la = E * nu / ((1. + nu) * (1. - 2. * nu))\n",
    "        mu = E / (2. + 2.* nu)\n",
    "        D_ijkl = (np.einsum(',ij,kl->ijkl', la, delta_ij, delta_ij) +\n",
    "                  np.einsum(',ik,jl->ijkl', mu, delta_ij, delta_ij) +\n",
    "                  np.einsum(',il,jk->ijkl', mu, delta_ij, delta_ij))\n",
    "        return D_ijkl\n",
    "    \n",
    "    def get_eps_N(self,eps_ij, n_i):\n",
    "        eps_N = np.einsum('...ij,...i,...j->...', eps_ij, n_i, n_i)\n",
    "        return eps_N\n",
    "\n",
    "    def get_eps_T(self,eps_ij, n_i):\n",
    "        delta_ij = np.identity(3)\n",
    "        eps_T = 0.5*(np.einsum('...i,...jk,...ij->...k',n_i,delta_ij,eps_ij) \n",
    "                     + np.einsum('...j,...ik,...ij->...k',n_i,delta_ij,eps_ij) \n",
    "                     - 2*np.einsum('...i,...j,...k,...ij->...k',n_i,n_i,n_i,eps_ij))\n",
    "        return eps_T\n",
    "\n",
    "    def get_eps_T_p(self,eps_T_p, eps_T):\n",
    "        director_vector = [0,0,1]\n",
    "        eps_T_p = np.einsum('...,...i->...i',eps_T_p, director_vector) \n",
    "        return eps_T_p\n",
    "    \n",
    "    def get_E_T(self,E,nu,n_i):\n",
    "        delta_ij = np.identity(3)\n",
    "        D_ijkl = self.get_D_ijkl(E,nu)\n",
    "        operator = 0.5*(np.einsum('i,jk,l->ijkl',n_i,delta_ij,n_i) \n",
    "                     + np.einsum('j,ik,l->jikl',n_i,delta_ij,n_i) \n",
    "                     - 2*np.einsum('i,j,k,l->ijkl',n_i,n_i,n_i,n_i))\n",
    "        E_T = np.einsum('ijkl,ijkl->', D_ijkl, operator)\n",
    "        return E_T\n",
    "\n",
    "    # -------------------------------------------------------------------------\n",
    "    # Evaluation - get the corrector and predictor\n",
    "    # -------------------------------------------------------------------------\n",
    "\n",
    "    def get_corr_pred(self, eps_ij, n_i, se1):\n",
    "        \n",
    "        E = 1\n",
    "        nu= 0.2\n",
    "        \n",
    "        eps_N = np.einsum('...ij,...i,...j->...', eps_ij, n_i, n_i)\n",
    "        eps_T = self.get_eps_T(eps_ij, n_i)\n",
    "        \n",
    "        material_params = dict(\n",
    "            E_T=self.get_E_T(E,nu,n_i), gamma_T=10, K_T=0, S_T=0.05, c_T=1, bartau=0.2, \n",
    "            E_N=E, S_N=0.0001, c_N = 1, m = 0.1, f_t=0.1, f_c=2, f_c0=1, eta=0.0)\n",
    "\n",
    "        se1 = SlideExplorer( n_steps=1, k_max=50)\n",
    "        se1.slide_model.trait_set(**material_params)\n",
    "        se1.trait_set(s_x_1 = np.linalg.norm(eps_T), s_y_1 = 0, w_1 = eps_N);\n",
    "        se1.run()\n",
    "        \n",
    "        sigma_T, tau_y_pi_, sig_N, Z_, X_x_, X_y_, Y_T_, Y_N_ = se1.Sig_arr.T\n",
    "        eps_T_p, s_y_pi_, eps_N_p, z_, alpha_x_, alpha_y_, omega_T, omega_N = se1.Eps_arr.T\n",
    "        eps_T = self.get_eps_T(eps_ij, n_i)\n",
    "        eps_T_p_i = self.get_eps_T_p(eps_T_p[-1], eps_T)\n",
    "        \n",
    "        phi_ij = np.zeros_like(eps_ij)\n",
    "        phi_ij[1,1] = 0.\n",
    "        phi_ij[2,2] = np.sqrt(1-omega_T[-1])\n",
    "        phi_ij[0,0] = np.sqrt(1-omega_N[-1])\n",
    "\n",
    "        beta_ijkl = np.einsum('...ik,...jl->...ijkl',phi_ij,np.transpose(phi_ij,(1,0)))\n",
    "\n",
    "        eps_ij_p = (np.einsum('...i,...j->...ij', n_i, eps_T_p_i) + np.einsum('...i,...j->...ij', eps_T_p_i, n_i)) + np.einsum( '...,...i,...j->...ij', eps_N_p[-1], n_i, n_i)\n",
    "        \n",
    "        delta_ij = np.identity(3)\n",
    "        \n",
    "        la = E * nu / ((1. + nu) * (1. - 2. * nu))\n",
    "        mu = E / (2. + 2.* nu)\n",
    "        D_abef = (np.einsum(',ij,kl->ijkl', la, delta_ij, delta_ij) +\n",
    "                  np.einsum(',ik,jl->ijkl', mu, delta_ij, delta_ij) +\n",
    "                  np.einsum(',il,jk->ijkl', mu, delta_ij, delta_ij))\n",
    "    \n",
    "\n",
    "        D_ijkl = np.einsum('ijkl,klrs,rstu->ijtu',beta_ijkl,D_abef,beta_ijkl)\n",
    "\n",
    "        sigma_ij = np.einsum('...ijkl,...kl->...ij',D_ijkl,(eps_ij-eps_ij_p))\n",
    "        \n",
    "\n",
    "        return D_ijkl, sigma_ij, eps_ij_p, se1\n",
    "\n",
    "    # -----------------------------------------------\n",
    "    # number of microplanes - currently fixed for 3D\n",
    "    # -----------------------------------------------\n",
    "    \n",
    "    def _get_lame_params(self):\n",
    "        la = self.E * self.nu / ((1. + self.nu) * (1. - 2. * self.nu))\n",
    "        # second Lame parameter (shear modulus)\n",
    "        mu = self.E / (2. + 2. * self.nu)\n",
    "        return la, mu\n",
    "\n",
    "    D_abef = tr.Property(tr.Array, depends_on='+input')\n",
    "\n",
    "    @tr.cached_property\n",
    "    def _get_D_abef(self):\n",
    "        la = self._get_lame_params()[0]\n",
    "        mu = self._get_lame_params()[1]\n",
    "        delta = np.identity(3)\n",
    "        D_abef = (np.einsum(',ij,kl->ijkl', la, delta, delta) +\n",
    "                  np.einsum(',ik,jl->ijkl', mu, delta, delta) +\n",
    "                  np.einsum(',il,jk->ijkl', mu, delta, delta))\n",
    "\n",
    "        return D_abef"
   ]
  },
  {
   "cell_type": "code",
   "execution_count": 31,
   "id": "b7a3d805-ccae-4fc0-b3fe-bb4825eb2de1",
   "metadata": {},
   "outputs": [],
   "source": [
    "DELTA = np.identity(3)\n",
    "\n",
    "EPS = np.zeros((3, 3, 3), dtype='f')\n",
    "EPS[(0, 1, 2), (1, 2, 0), (2, 0, 1)] = 1\n",
    "EPS[(2, 1, 0), (1, 0, 2), (0, 2, 1)] = -1\n",
    "\n",
    "\n",
    "DD = np.hstack([DELTA, np.zeros_like(DELTA)])\n",
    "EEPS = np.hstack([np.zeros_like(EPS), EPS])\n",
    "\n",
    "GAMMA = np.einsum(\n",
    "    'ik,jk->kij', DD, DD\n",
    ") + np.einsum(\n",
    "    'ikj->kij', np.fabs(EEPS)\n",
    ")\n",
    "\n",
    "\n",
    "def get_eps_ab(eps_O): return np.einsum(\n",
    "    'Oab,...O->...ab', GAMMA, eps_O\n",
    ")[np.newaxis, ...]\n",
    "\n",
    "\n",
    "GAMMA_inv = np.einsum(\n",
    "    'aO,bO->Oab', DD, DD\n",
    ") + 0.5 * np.einsum(\n",
    "    'aOb->Oab', np.fabs(EEPS)\n",
    ")\n",
    "\n",
    "\n",
    "def get_sig_O(sig_ab): return np.einsum(\n",
    "    'Oab,...ab->...O', GAMMA_inv, sig_ab\n",
    ")[0, ...]\n",
    "\n",
    "\n",
    "GG = np.einsum(\n",
    "    'Oab,Pcd->OPabcd', GAMMA_inv, GAMMA_inv\n",
    ")\n",
    "\n",
    "\n",
    "def get_K_OP(D_abcd):\n",
    "    return np.einsum(\n",
    "        'OPabcd,abcd->OP', GG, D_abcd\n",
    "    )\n",
    "\n",
    "def get_UF_t(F, n_t):\n",
    "\n",
    "    material_params = dict(\n",
    "            E_T=1, gamma_T=10, K_T=0, S_T=0.05, c_T=1, bartau=0.2, \n",
    "            E_N=1, S_N=0.0001, c_N = 1, m = 0.1, f_t=0.1, f_c=2, f_c0=1, eta=0.0)\n",
    "\n",
    "    se = SlideExplorer(n_steps=1, k_max=50)\n",
    "    se.slide_model.trait_set(**material_params)\n",
    "    se.trait_set(s_x_1 =0, s_y_1 = 0, w_1 = 0);\n",
    "    se.run()\n",
    "    n_i = [1,0,0]\n",
    "    \n",
    "    D = np.zeros((3, 3, 3, 3))\n",
    "    D = D[np.newaxis, :, :, :, :]\n",
    "\n",
    "    # total number of DOFs\n",
    "    n_O = 6\n",
    "    # Global vectors\n",
    "    F_ext = np.zeros((n_O,), np.float_)\n",
    "    F_O = np.zeros((n_O,), np.float_)\n",
    "    U_k_O = np.zeros((n_O,), dtype=np.float_)\n",
    "    U_P = np.zeros((n_O,), np.float_)\n",
    "    eps_aux = get_eps_ab(U_k_O)\n",
    "    # Setup the system matrix with displacement constraints\n",
    "    # Time stepping parameters\n",
    "    t_aux, t_n1, t_max, t_step = 0, 0, len(F), 1 / n_t\n",
    "    # Iteration parameters\n",
    "    k_max, R_acc = 1000, 1e-3\n",
    "    # Record solutions\n",
    "    U_t_list, F_t_list, U_P_list = [np.copy(U_k_O)], [np.copy(F_O)], [np.copy(U_P)]\n",
    "\n",
    "    # Load increment loop\n",
    "    while t_n1 <= t_max - 1:\n",
    "\n",
    "        F_ext[0] = F[t_n1]\n",
    "        F_ext[1] = 0. * F[t_n1]\n",
    "        F_ext[2] = 0. * F[t_n1]\n",
    "\n",
    "        k = 0\n",
    "        # Equilibrium iteration loop\n",
    "        while k < k_max:\n",
    "            # Transform the primary vector to field\n",
    "            eps_ab = get_eps_ab(U_k_O).reshape(3, 3)\n",
    "            # Stress and material stiffness\n",
    "\n",
    "            D_abcd, sig_ab, eps_p_Emab, se1 = m.get_corr_pred(\n",
    "                eps_ab, n_i, se\n",
    "            )\n",
    "            # Internal force\n",
    "            F_O = get_sig_O(sig_ab.reshape(1,3,3)).reshape(6,)\n",
    "            # Residuum\n",
    "            R_O = F_ext - F_O\n",
    "            # System matrix\n",
    "            K_OP = get_K_OP(D_abcd)\n",
    "            # Convergence criterion\n",
    "            R_norm = np.linalg.norm(R_O)\n",
    "            delta_U_O = np.linalg.solve(K_OP, R_O)\n",
    "            U_k_O += delta_U_O\n",
    "            if R_norm < R_acc:\n",
    "                # Convergence reached\n",
    "                break\n",
    "            # Next iteration\n",
    "            k += 1\n",
    "\n",
    "        else:\n",
    "            print('no convergence')\n",
    "\n",
    "            break\n",
    "\n",
    "        # Update states variables after convergence\n",
    "        int_var = m._x_get_state_variables(eps_ab, int_var, eps_aux)\n",
    "\n",
    "        \n",
    "        t_n1 += 1\n",
    "\n",
    "    U_t, F_t = np.array(U_t_list), np.array(F_t_list)\n",
    "    return U_t, F_t"
   ]
  },
  {
   "cell_type": "code",
   "execution_count": 32,
   "id": "b356bad5-9dbd-4f62-9e37-34cd82e1f957",
   "metadata": {},
   "outputs": [
    {
     "ename": "LinAlgError",
     "evalue": "Singular matrix",
     "output_type": "error",
     "traceback": [
      "\u001b[1;31m---------------------------------------------------------------------------\u001b[0m",
      "\u001b[1;31mLinAlgError\u001b[0m                               Traceback (most recent call last)",
      "\u001b[1;32m~\\AppData\\Local\\Temp/ipykernel_9032/1975758946.py\u001b[0m in \u001b[0;36m<module>\u001b[1;34m\u001b[0m\n\u001b[0;32m      6\u001b[0m \u001b[0mload\u001b[0m \u001b[1;33m=\u001b[0m \u001b[0mnp\u001b[0m\u001b[1;33m.\u001b[0m\u001b[0mlinspace\u001b[0m\u001b[1;33m(\u001b[0m\u001b[1;36m0\u001b[0m\u001b[1;33m,\u001b[0m\u001b[1;36m0.07\u001b[0m\u001b[1;33m,\u001b[0m\u001b[0mt_steps_cycle\u001b[0m\u001b[1;33m)\u001b[0m\u001b[1;33m\u001b[0m\u001b[1;33m\u001b[0m\u001b[0m\n\u001b[0;32m      7\u001b[0m \u001b[1;33m\u001b[0m\u001b[0m\n\u001b[1;32m----> 8\u001b[1;33m U, F = get_UF_t(\n\u001b[0m\u001b[0;32m      9\u001b[0m     load, t_steps_cycle)\n",
      "\u001b[1;32m~\\AppData\\Local\\Temp/ipykernel_9032/1045226274.py\u001b[0m in \u001b[0;36mget_UF_t\u001b[1;34m(F, n_t)\u001b[0m\n\u001b[0;32m     99\u001b[0m             \u001b[1;31m# Convergence criterion\u001b[0m\u001b[1;33m\u001b[0m\u001b[1;33m\u001b[0m\u001b[0m\n\u001b[0;32m    100\u001b[0m             \u001b[0mR_norm\u001b[0m \u001b[1;33m=\u001b[0m \u001b[0mnp\u001b[0m\u001b[1;33m.\u001b[0m\u001b[0mlinalg\u001b[0m\u001b[1;33m.\u001b[0m\u001b[0mnorm\u001b[0m\u001b[1;33m(\u001b[0m\u001b[0mR_O\u001b[0m\u001b[1;33m)\u001b[0m\u001b[1;33m\u001b[0m\u001b[1;33m\u001b[0m\u001b[0m\n\u001b[1;32m--> 101\u001b[1;33m             \u001b[0mdelta_U_O\u001b[0m \u001b[1;33m=\u001b[0m \u001b[0mnp\u001b[0m\u001b[1;33m.\u001b[0m\u001b[0mlinalg\u001b[0m\u001b[1;33m.\u001b[0m\u001b[0msolve\u001b[0m\u001b[1;33m(\u001b[0m\u001b[0mK_OP\u001b[0m\u001b[1;33m,\u001b[0m \u001b[0mR_O\u001b[0m\u001b[1;33m)\u001b[0m\u001b[1;33m\u001b[0m\u001b[1;33m\u001b[0m\u001b[0m\n\u001b[0m\u001b[0;32m    102\u001b[0m             \u001b[0mU_k_O\u001b[0m \u001b[1;33m+=\u001b[0m \u001b[0mdelta_U_O\u001b[0m\u001b[1;33m\u001b[0m\u001b[1;33m\u001b[0m\u001b[0m\n\u001b[0;32m    103\u001b[0m             \u001b[1;32mif\u001b[0m \u001b[0mR_norm\u001b[0m \u001b[1;33m<\u001b[0m \u001b[0mR_acc\u001b[0m\u001b[1;33m:\u001b[0m\u001b[1;33m\u001b[0m\u001b[1;33m\u001b[0m\u001b[0m\n",
      "\u001b[1;32m<__array_function__ internals>\u001b[0m in \u001b[0;36msolve\u001b[1;34m(*args, **kwargs)\u001b[0m\n",
      "\u001b[1;32m~\\miniconda3\\envs\\bmcs_env\\lib\\site-packages\\numpy\\linalg\\linalg.py\u001b[0m in \u001b[0;36msolve\u001b[1;34m(a, b)\u001b[0m\n\u001b[0;32m    391\u001b[0m     \u001b[0msignature\u001b[0m \u001b[1;33m=\u001b[0m \u001b[1;34m'DD->D'\u001b[0m \u001b[1;32mif\u001b[0m \u001b[0misComplexType\u001b[0m\u001b[1;33m(\u001b[0m\u001b[0mt\u001b[0m\u001b[1;33m)\u001b[0m \u001b[1;32melse\u001b[0m \u001b[1;34m'dd->d'\u001b[0m\u001b[1;33m\u001b[0m\u001b[1;33m\u001b[0m\u001b[0m\n\u001b[0;32m    392\u001b[0m     \u001b[0mextobj\u001b[0m \u001b[1;33m=\u001b[0m \u001b[0mget_linalg_error_extobj\u001b[0m\u001b[1;33m(\u001b[0m\u001b[0m_raise_linalgerror_singular\u001b[0m\u001b[1;33m)\u001b[0m\u001b[1;33m\u001b[0m\u001b[1;33m\u001b[0m\u001b[0m\n\u001b[1;32m--> 393\u001b[1;33m     \u001b[0mr\u001b[0m \u001b[1;33m=\u001b[0m \u001b[0mgufunc\u001b[0m\u001b[1;33m(\u001b[0m\u001b[0ma\u001b[0m\u001b[1;33m,\u001b[0m \u001b[0mb\u001b[0m\u001b[1;33m,\u001b[0m \u001b[0msignature\u001b[0m\u001b[1;33m=\u001b[0m\u001b[0msignature\u001b[0m\u001b[1;33m,\u001b[0m \u001b[0mextobj\u001b[0m\u001b[1;33m=\u001b[0m\u001b[0mextobj\u001b[0m\u001b[1;33m)\u001b[0m\u001b[1;33m\u001b[0m\u001b[1;33m\u001b[0m\u001b[0m\n\u001b[0m\u001b[0;32m    394\u001b[0m \u001b[1;33m\u001b[0m\u001b[0m\n\u001b[0;32m    395\u001b[0m     \u001b[1;32mreturn\u001b[0m \u001b[0mwrap\u001b[0m\u001b[1;33m(\u001b[0m\u001b[0mr\u001b[0m\u001b[1;33m.\u001b[0m\u001b[0mastype\u001b[0m\u001b[1;33m(\u001b[0m\u001b[0mresult_t\u001b[0m\u001b[1;33m,\u001b[0m \u001b[0mcopy\u001b[0m\u001b[1;33m=\u001b[0m\u001b[1;32mFalse\u001b[0m\u001b[1;33m)\u001b[0m\u001b[1;33m)\u001b[0m\u001b[1;33m\u001b[0m\u001b[1;33m\u001b[0m\u001b[0m\n",
      "\u001b[1;32m~\\miniconda3\\envs\\bmcs_env\\lib\\site-packages\\numpy\\linalg\\linalg.py\u001b[0m in \u001b[0;36m_raise_linalgerror_singular\u001b[1;34m(err, flag)\u001b[0m\n\u001b[0;32m     86\u001b[0m \u001b[1;33m\u001b[0m\u001b[0m\n\u001b[0;32m     87\u001b[0m \u001b[1;32mdef\u001b[0m \u001b[0m_raise_linalgerror_singular\u001b[0m\u001b[1;33m(\u001b[0m\u001b[0merr\u001b[0m\u001b[1;33m,\u001b[0m \u001b[0mflag\u001b[0m\u001b[1;33m)\u001b[0m\u001b[1;33m:\u001b[0m\u001b[1;33m\u001b[0m\u001b[1;33m\u001b[0m\u001b[0m\n\u001b[1;32m---> 88\u001b[1;33m     \u001b[1;32mraise\u001b[0m \u001b[0mLinAlgError\u001b[0m\u001b[1;33m(\u001b[0m\u001b[1;34m\"Singular matrix\"\u001b[0m\u001b[1;33m)\u001b[0m\u001b[1;33m\u001b[0m\u001b[1;33m\u001b[0m\u001b[0m\n\u001b[0m\u001b[0;32m     89\u001b[0m \u001b[1;33m\u001b[0m\u001b[0m\n\u001b[0;32m     90\u001b[0m \u001b[1;32mdef\u001b[0m \u001b[0m_raise_linalgerror_nonposdef\u001b[0m\u001b[1;33m(\u001b[0m\u001b[0merr\u001b[0m\u001b[1;33m,\u001b[0m \u001b[0mflag\u001b[0m\u001b[1;33m)\u001b[0m\u001b[1;33m:\u001b[0m\u001b[1;33m\u001b[0m\u001b[1;33m\u001b[0m\u001b[0m\n",
      "\u001b[1;31mLinAlgError\u001b[0m: Singular matrix"
     ]
    }
   ],
   "source": [
    "m = MATS3DSlide()\n",
    "t_steps_cycle = 100\n",
    "\n",
    "\n",
    "\n",
    "load = np.linspace(0,0.07,t_steps_cycle)\n",
    "\n",
    "U, F = get_UF_t(\n",
    "    load, t_steps_cycle)"
   ]
  },
  {
   "cell_type": "markdown",
   "id": "271ec77f-6d90-473a-adba-990e05729310",
   "metadata": {},
   "source": [
    "## Checking the tensors"
   ]
  },
  {
   "cell_type": "code",
   "execution_count": 43,
   "id": "0d639215-08e2-4a1b-8c66-ae58bdbef7ea",
   "metadata": {},
   "outputs": [
    {
     "data": {
      "text/plain": [
       "array([[ 1. ,  0. ,  1. ],\n",
       "       [ 0. , -0.2,  0. ],\n",
       "       [ 1. ,  0. , -0.2]])"
      ]
     },
     "execution_count": 43,
     "metadata": {},
     "output_type": "execute_result"
    }
   ],
   "source": [
    "eps_ab = np.zeros((3,3))\n",
    "eps_ab[0,0] = 1\n",
    "eps_ab[1,1] = eps_ab[2,2] = -0.2\n",
    "eps_ab[0,2] = eps_ab[2,0] = 1\n",
    "eps_ab"
   ]
  },
  {
   "cell_type": "code",
   "execution_count": 44,
   "id": "775708c2-8ba6-42ae-b72d-7da84ba124a7",
   "metadata": {},
   "outputs": [],
   "source": [
    "n_a = [1,0,0]"
   ]
  },
  {
   "cell_type": "code",
   "execution_count": 45,
   "id": "517df9d3-5d30-4e56-82fb-f8ec586bbba3",
   "metadata": {},
   "outputs": [],
   "source": [
    "eps_Na = get_eps_N(eps_ab, n_a)\n",
    "eps_Ta = get_eps_T(eps_ab, n_a)"
   ]
  },
  {
   "cell_type": "code",
   "execution_count": 46,
   "id": "85539c55-49ea-45ea-a91f-fcd4627fe353",
   "metadata": {},
   "outputs": [
    {
     "data": {
      "text/plain": [
       "array([[1., 0., 1.],\n",
       "       [0., 0., 0.],\n",
       "       [1., 0., 0.]])"
      ]
     },
     "execution_count": 46,
     "metadata": {},
     "output_type": "execute_result"
    }
   ],
   "source": [
    "eps_ab_2 = (np.einsum('...i,...j->...ij', n_a, eps_Ta) + np.einsum('...i,...j->...ij', eps_Ta, n_a)) + np.einsum( '...,...i,...j->...ij', eps_Na, n_a, n_a)\n",
    "eps_ab_2"
   ]
  }
 ],
 "metadata": {
  "kernelspec": {
   "display_name": "bmcs_env",
   "language": "python",
   "name": "bmcs_env"
  },
  "language_info": {
   "codemirror_mode": {
    "name": "ipython",
    "version": 3
   },
   "file_extension": ".py",
   "mimetype": "text/x-python",
   "name": "python",
   "nbconvert_exporter": "python",
   "pygments_lexer": "ipython3",
   "version": "3.9.7"
  }
 },
 "nbformat": 4,
 "nbformat_minor": 5
}
