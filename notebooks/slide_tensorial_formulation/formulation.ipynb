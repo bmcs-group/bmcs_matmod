{
 "cells": [
  {
   "cell_type": "markdown",
   "id": "c9b1a703-90dc-4390-9d8c-2455c3d5370b",
   "metadata": {},
   "source": [
    "# Formulation of a directional damage-plasticity model"
   ]
  },
  {
   "cell_type": "code",
   "execution_count": 2,
   "id": "c775a0bd-f04d-4e38-be6a-b2feec8fcb1d",
   "metadata": {},
   "outputs": [],
   "source": [
    "%matplotlib widget\n",
    "import numpy as np\n",
    "import bmcs_utils\n",
    "from bmcs_matmod.slide.slide_explorer import SlideExplorer\n",
    "import bmcs_utils.api as bu\n",
    "from bmcs_matmod.time_fn.time_function import TimeFunction\n",
    "import matplotlib.pylab as plt"
   ]
  },
  {
   "cell_type": "markdown",
   "id": "39f27117-5d4d-493c-bc97-63cee57550a1",
   "metadata": {},
   "source": [
    "## Helmholtz free energy function"
   ]
  },
  {
   "cell_type": "markdown",
   "id": "6ce45a61-7938-43b0-8d5c-dd9faab032b0",
   "metadata": {},
   "source": [
    "The Helmholtz free energy function must have a shape like the following:"
   ]
  },
  {
   "cell_type": "markdown",
   "id": "94cd0c5f-6548-4906-ae1b-91b629dc5a21",
   "metadata": {},
   "source": [
    "$$\n",
    "\\rho {\\psi}(\\varepsilon_{ij},\\varepsilon_{ij}^p,\\omega_\\mathrm{N}, \\omega_\\mathrm{T})\n",
    "= \\frac{1}{2} \\varepsilon_{ij} D_{ijkl} \\varepsilon_{kl}\n",
    "-\n",
    " \\frac{1}{2} \\varepsilon_{kl} n_k n_l E n_i n_j \\varepsilon_{ij}\n",
    "+\n",
    " \\frac{1}{2} (\\varepsilon_{kl} - \\varepsilon_{kl}^p) n_k n_l n_i n_j (1 - \\omega_\\mathrm{N}) D_{ijkl} n_k n_l n_i n_j (\\varepsilon_{ij} - \\varepsilon_{ij}^p) \n",
    "- \n",
    " \\frac{1}{16} (n_j \\delta_{ki} + n_k \\delta_{ji} - 2n_j n_k n_i) \\varepsilon_{jk} n_j  D_{ijkl} (n_i \\delta_{jk} + n_j \\delta_{ik} - 2n_i n_j n_k) \\varepsilon_{ij} n_l\n",
    "+\n",
    " \\frac{1}{16} (n_j \\delta_{ki} + n_k \\delta_{ji} - 2n_j n_k n_i) (\\varepsilon_{jk} - \\varepsilon_{jk}^p) n_j (1 - \\omega_\\mathrm{T}) D_{ijkl} (n_i \\delta_{jk} + n_j \\delta_{ik} - 2n_i n_j n_k) (\\varepsilon_{ij} - \\varepsilon_{ij}^p) n_l\n",
    "$$"
   ]
  },
  {
   "cell_type": "markdown",
   "id": "9da82429-1a7d-4917-9d97-f567d2562a78",
   "metadata": {},
   "source": [
    "The displayed formulation presents two problems: \n",
    "- The result of $\\varepsilon_{kl} n_k n_l n_i n_j D_{ijkl} n_k n_l n_i n_j$ does not cancel the stress normal to the plane defined by the normal vector $n_i$. In this case $\\varepsilon_\\mathrm{N} = \\varepsilon_{kl} n_k n_l$ and $E_\\mathrm{N} =D_{ijkl} n_k n_l n_i n_j$. The problem is that $E_\\mathrm{N} \\varepsilon_\\mathrm{N} \\neq \\sigma_{11} $\n",
    "- For the tangential component this Helmholtz free energy function is not delivering simetric tangential part of the stress tensor"
   ]
  },
  {
   "cell_type": "markdown",
   "id": "63fd09b7-18bd-45a0-b828-38f6e6c65298",
   "metadata": {},
   "source": [
    "Actual state of the desirable expression for the stress tensor"
   ]
  },
  {
   "cell_type": "markdown",
   "id": "db9c37ff-cb53-47d2-a499-2ce25cfa3702",
   "metadata": {},
   "source": [
    "$$\n",
    " \\sigma_{ij} = \\frac{\\partial \\rho \\psi}{ \\partial \\varepsilon_{ij} }\n",
    "$$"
   ]
  },
  {
   "cell_type": "markdown",
   "id": "71b3fb49-b05e-47a5-9dee-3b9bb93f3597",
   "metadata": {},
   "source": [
    "$$\n",
    "\\sigma_{ij} =     \n",
    "D_{ijkl} \\varepsilon_{kl} \n",
    "- \n",
    "\\varepsilon_\\mathrm{N} n_{i} n_{j} E_\\mathrm{N}\n",
    "+ \n",
    "(\\varepsilon_\\mathrm{N} - \\varepsilon_\\mathrm{N}^p) n_{i} n_{j} (1 - \\omega_\\mathrm{N}) E_\\mathrm{N}\n",
    "-\n",
    "(\\varepsilon_{\\mathrm{T}_i} n_j + n_i \\varepsilon_{\\mathrm{T}_j})  E_\\mathrm{T}\n",
    "+\n",
    " ((\\varepsilon_{\\mathrm{T}_i} n_j + n_i \\varepsilon_{\\mathrm{T}_j} ) - (\\varepsilon_{\\mathrm{T}_i}^p n_j + n_i \\varepsilon_{\\mathrm{T}_j}^p ))  (1 - \\omega_\\mathrm{T}) E_\\mathrm{T}\n",
    "$$"
   ]
  },
  {
   "cell_type": "markdown",
   "id": "2bb6856c-f233-456c-b166-7ffe28192e31",
   "metadata": {},
   "source": [
    "with $$ \\varepsilon_{\\mathrm{N}} = \\varepsilon_{ij} n_i n_j, \\\\ E_\\mathrm{N} = E , \\\\ \\varepsilon_{\\mathrm{T}_k} = \\frac{1}{2}\\left[n_i \\delta_{jk} + n_j \\delta_{ik} - 2 n_i n_j n_k \\right] \\varepsilon_{ij}, \\\\  E_\\mathrm{T} = D_{ijkl} \\frac{1}{2}\\left[n_i \\delta_{jk} + n_j \\delta_{ik} - 2 n_i n_j n_k \\right] n_l\n",
    "$$"
   ]
  },
  {
   "cell_type": "markdown",
   "id": "da777242-6351-4b67-9b36-7bdc0c3e2ec7",
   "metadata": {},
   "source": [
    "**TODO** : \n",
    "\n",
    "- solve the issues with the Helmholtz free energy function\n",
    "\n",
    "- compute algorithmic tangent operator"
   ]
  },
  {
   "cell_type": "markdown",
   "id": "ac214d50-a8a2-4432-b8dd-72ee4bfff898",
   "metadata": {},
   "source": [
    "With the presented expression for the stress tensor and extracting the desired strain components from the strain tensor, it is possible to couple the SLIDE machinery to the model and obtain a tensorial material model out of it."
   ]
  },
  {
   "cell_type": "markdown",
   "id": "18f27b4f-dd6a-4d2a-b1c3-852dcf5c5d10",
   "metadata": {},
   "source": [
    "## Implementation on a strain-driven simulation"
   ]
  },
  {
   "cell_type": "markdown",
   "id": "73ad880f-597a-42c5-a71e-a27a32e889a6",
   "metadata": {},
   "source": [
    "The strategy consists on creating three loading scenarios, where the strain tensor can be \"artificially created\". The three loading cases are:\n",
    "- Uniaxial tension\n",
    "- Uniaxial compression\n",
    "- Pure shear"
   ]
  },
  {
   "cell_type": "markdown",
   "id": "89a324cd-497d-4602-946e-4da6a1f9804d",
   "metadata": {},
   "source": [
    "Since several expresions are going to be the same for all the studied cases:"
   ]
  },
  {
   "cell_type": "code",
   "execution_count": 3,
   "id": "60c6a5e0-716b-453f-9d8f-4589d7342cc7",
   "metadata": {},
   "outputs": [],
   "source": [
    "def get_eps_N(eps_ij, n_i):\n",
    "    eps_N = np.einsum('...ij,...i,...j->...', eps_ij, n_i, n_i)\n",
    "    return eps_N"
   ]
  },
  {
   "cell_type": "code",
   "execution_count": 4,
   "id": "d4502f3c-62a2-4b08-beb1-d04f7b15046a",
   "metadata": {},
   "outputs": [],
   "source": [
    "def get_eps_T(eps_ij, n_i):\n",
    "    delta_ij = np.identity(3)\n",
    "    eps_T = 0.5*(np.einsum('...i,...jk,...ij->...k',n_i,delta_ij,eps_ij) \n",
    "                 + np.einsum('...j,...ik,...ij->...k',n_i,delta_ij,eps_ij) \n",
    "                 - 2*np.einsum('...i,...j,...k,...ij->...k',n_i,n_i,n_i,eps_ij))\n",
    "    return eps_T"
   ]
  },
  {
   "cell_type": "code",
   "execution_count": 5,
   "id": "351dd180-133c-49af-8c83-7cbc6b54f8e3",
   "metadata": {},
   "outputs": [],
   "source": [
    "def get_eps_T_p(eps_T_p, eps_T):\n",
    "    director_vector = eps_T[-1] / np.linalg.norm(eps_T[-1])\n",
    "    eps_T_p = np.einsum('...,...i->...i',eps_T_p, director_vector) \n",
    "    return eps_T_p"
   ]
  },
  {
   "cell_type": "code",
   "execution_count": 6,
   "id": "7fb3eb2e-664e-4351-a82d-88a1b78f8fd6",
   "metadata": {},
   "outputs": [],
   "source": [
    "def get_D_ijkl(E,nu):\n",
    "    delta_ij = np.identity(3)\n",
    "    la = E * nu / ((1. + nu) * (1. - 2. * nu))\n",
    "    mu = E / (2. + 2.* nu)\n",
    "    D_ijkl = (np.einsum(',ij,kl->ijkl', la, delta_ij, delta_ij) +\n",
    "              np.einsum(',ik,jl->ijkl', mu, delta_ij, delta_ij) +\n",
    "              np.einsum(',il,jk->ijkl', mu, delta_ij, delta_ij))\n",
    "    return D_ijkl"
   ]
  },
  {
   "cell_type": "code",
   "execution_count": 7,
   "id": "d227d3ec-be6c-4089-9e79-b8d25801ebe3",
   "metadata": {},
   "outputs": [],
   "source": [
    "def get_E_T(E,nu,n_i):\n",
    "    delta_ij = np.identity(3)\n",
    "    D_ijkl = get_D_ijkl(E,nu)\n",
    "    operator = 0.5*(np.einsum('i,jk,l->ijkl',n_i,delta_ij,n_i) \n",
    "                 + np.einsum('j,ik,l->jikl',n_i,delta_ij,n_i) \n",
    "                 - 2*np.einsum('i,j,k,l->ijkl',n_i,n_i,n_i,n_i))\n",
    "    E_T = np.einsum('ijkl,ijkl->', D_ijkl, operator)\n",
    "    return E_T"
   ]
  },
  {
   "cell_type": "code",
   "execution_count": 8,
   "id": "150d4a18-f612-4bcc-a126-e1b98f08bd17",
   "metadata": {},
   "outputs": [],
   "source": [
    "def get_sigma(E, nu, n_i, eps_ij, eps_N_p, omega_N, eps_T_p, omega_T):\n",
    "    \n",
    "    eps_N = get_eps_N(eps_ij, n_i)\n",
    "    eps_T = get_eps_T(eps_ij, n_i)\n",
    "    D_ijkl = get_D_ijkl(E,nu)\n",
    "    E_T = get_E_T(E,nu,n_i) \n",
    "    sigma_ij = (np.einsum( '...ijkl,...kl->...ij',D_ijkl, eps_ij) \n",
    "                - np.einsum( '...,...i,...j->...ij', eps_N, n_i, n_i) * E \n",
    "                + np.einsum( '...,...i,...j,...->...ij', (eps_N - eps_N_p) , n_i, n_i, (1-omega_N)* E)\n",
    "                - E_T*(np.einsum('...i,...j->...ij', n_i, eps_T) + np.einsum('...i,...j->...ij', eps_T, n_i))\n",
    "                + (np.einsum('...,...i,...j->...ij', (1 - omega_T)*E_T, n_i, (eps_T - eps_T_p)) + np.einsum('...,...i,...j->...ij', (1 - omega_T)*E_T, (eps_T - eps_T_p), n_i)) \n",
    "               )  \n",
    "    return sigma_ij"
   ]
  },
  {
   "cell_type": "markdown",
   "id": "26a927c1-4730-48a1-8086-177bd6229e8a",
   "metadata": {
    "tags": []
   },
   "source": [
    "### Uniaxial tension - strain controlled"
   ]
  },
  {
   "cell_type": "markdown",
   "id": "7d8e402e-bd2f-40f7-ac65-1f6548c21c04",
   "metadata": {},
   "source": [
    "Constructing the strain tensor in n steps and getting stress tensor via SLIDE model"
   ]
  },
  {
   "cell_type": "code",
   "execution_count": 9,
   "id": "7ed62297-0cb9-4b1c-8ccc-7a47b4bf6f26",
   "metadata": {},
   "outputs": [],
   "source": [
    "E = 1\n",
    "nu = 0.2"
   ]
  },
  {
   "cell_type": "code",
   "execution_count": 10,
   "id": "6c14fbf9-91bd-4e72-80ad-75f2ca109012",
   "metadata": {},
   "outputs": [],
   "source": [
    "n_steps = 100\n",
    "eps_ij = np.zeros((n_steps,3,3))\n",
    "eps11 = np.linspace(0,1,n_steps)\n",
    "#eps22 = eps33 = np.linspace(0,-0.2,n_steps)\n",
    "eps22 = eps33 = -nu*eps11\n",
    "eps_ij[:,0,0] = eps11\n",
    "eps_ij[:,1,1] = eps22\n",
    "eps_ij[:,2,2] = eps33"
   ]
  },
  {
   "cell_type": "code",
   "execution_count": 11,
   "id": "dd971c8f-bdcf-49b4-8dfb-b60c17980607",
   "metadata": {},
   "outputs": [],
   "source": [
    "n_i = [1,0,0] "
   ]
  },
  {
   "cell_type": "code",
   "execution_count": 12,
   "id": "3940a19e-7a50-490d-89a4-13698b739ba3",
   "metadata": {},
   "outputs": [],
   "source": [
    "material_params = dict(\n",
    "    E_T=get_E_T(E,nu,n_i), gamma_T=0, K_T=0, S_T=0.05, c_T=3, bartau=0.2, \n",
    "    E_N=E, S_N=0.0001, c_N = 1, m = 0.1, f_t=0.1, f_c=2, f_c0=1, eta=0.0)\n",
    "\n",
    "se1 = SlideExplorer( n_steps=n_steps-1, k_max=50)\n",
    "se1.slide_model.trait_set(**material_params)\n",
    "se1.trait_set(s_x_1 =  0.0, s_y_1 = 0, w_1 = eps11[-1]);\n",
    "se1.run()"
   ]
  },
  {
   "cell_type": "code",
   "execution_count": 13,
   "id": "cc5f82fc-6645-40b3-9d43-8206c7beae92",
   "metadata": {},
   "outputs": [
    {
     "name": "stderr",
     "output_type": "stream",
     "text": [
      "<ipython-input-5-8a35cffcf756>:2: RuntimeWarning: invalid value encountered in true_divide\n",
      "  director_vector = eps_T[-1] / np.linalg.norm(eps_T[-1])\n"
     ]
    }
   ],
   "source": [
    "sigma_T, tau_y_pi_, sig_N, Z_, X_x_, X_y_, Y_T_, Y_N_ = se1.Sig_arr.T\n",
    "eps_T_p, s_y_pi_, eps_N_p, z_, alpha_x_, alpha_y_, omega_T, omega_N = se1.Eps_arr.T\n",
    "eps_T = get_eps_T(eps_ij, n_i)\n",
    "eps_T_p = get_eps_T_p(eps_T_p, eps_T)"
   ]
  },
  {
   "cell_type": "code",
   "execution_count": 14,
   "id": "ed3107cd-5dc8-4898-86d3-d05feff6831e",
   "metadata": {
    "tags": []
   },
   "outputs": [],
   "source": [
    "sigma_ij = get_sigma(E, nu, n_i, eps_ij, eps_N_p, omega_N, eps_T_p, omega_T)"
   ]
  },
  {
   "cell_type": "code",
   "execution_count": 15,
   "id": "0d572c8a-a961-4d76-9629-cede6317d784",
   "metadata": {},
   "outputs": [
    {
     "data": {
      "application/vnd.jupyter.widget-view+json": {
       "model_id": "533bd827bf354807b7679313bfc15fa4",
       "version_major": 2,
       "version_minor": 0
      },
      "text/plain": [
       "Canvas(toolbar=Toolbar(toolitems=[('Home', 'Reset original view', 'home', 'home'), ('Back', 'Back to previous …"
      ]
     },
     "metadata": {},
     "output_type": "display_data"
    },
    {
     "data": {
      "text/plain": [
       "[<matplotlib.lines.Line2D at 0x7f8ee5945e50>]"
      ]
     },
     "execution_count": 15,
     "metadata": {},
     "output_type": "execute_result"
    }
   ],
   "source": [
    "fig, ((ax_1, ax_2, ax_3)) = plt.subplots(1,3, tight_layout=True, figsize=(9,6))\n",
    "\n",
    "ax_1.plot(eps_ij[:,0,0] , sigma_ij[:,0,0])\n",
    "ax_1.plot(eps_ij[:,0,0] , sig_N)\n",
    "\n",
    "ax_2.plot(eps_ij[:,0,0] , omega_N)\n",
    "\n",
    "ax_3.plot(eps_ij[:,0,0] , eps_N_p)"
   ]
  },
  {
   "cell_type": "markdown",
   "id": "6ab2a767-2ad5-4204-a078-4cdc66d98982",
   "metadata": {
    "tags": []
   },
   "source": [
    "### Uniaxial compression - strain controlled"
   ]
  },
  {
   "cell_type": "markdown",
   "id": "fd98bc96-f020-4a4f-8e63-71a4ce3f37e8",
   "metadata": {},
   "source": [
    "Constructing the strain tensor in n steps and getting stress tensor via SLIDE model"
   ]
  },
  {
   "cell_type": "code",
   "execution_count": 16,
   "id": "6ab1abdd-24c1-4417-ae5c-d25023d37766",
   "metadata": {},
   "outputs": [],
   "source": [
    "n_i = [1,0,0] "
   ]
  },
  {
   "cell_type": "code",
   "execution_count": 17,
   "id": "d27dffd3-1225-451a-8a8e-b1652ca0fd26",
   "metadata": {
    "tags": []
   },
   "outputs": [],
   "source": [
    "E = 1\n",
    "nu = 0.2"
   ]
  },
  {
   "cell_type": "code",
   "execution_count": 18,
   "id": "676ad1da-7122-429e-b596-169f19dc4050",
   "metadata": {},
   "outputs": [],
   "source": [
    "n_steps =100\n",
    "strain = -3\n",
    "eps_ij = np.zeros((n_steps,3,3))\n",
    "eps11 = np.linspace(0,strain,n_steps)\n",
    "eps22 = eps33 = np.linspace(0,-nu*strain,n_steps)\n",
    "eps_ij[:,0,0] = eps11\n",
    "eps_ij[:,1,1] = eps22\n",
    "eps_ij[:,2,2] = eps33"
   ]
  },
  {
   "cell_type": "code",
   "execution_count": 19,
   "id": "91c48be7-8f80-4937-ab77-3b7328d4ab6d",
   "metadata": {},
   "outputs": [],
   "source": [
    "material_params = dict(\n",
    "    E_T=get_E_T(E,nu,n_i), gamma_T=0, K_T=0, S_T=0.05, c_T=3, bartau=0.2, \n",
    "    E_N=E, S_N=0.0001, c_N = 1, m = 0.1, f_t=0.1, f_c=2, f_c0=1, eta=0.0)\n",
    "\n",
    "se1 = SlideExplorer( n_steps=n_steps-1, k_max=50)\n",
    "se1.slide_model.trait_set(**material_params)\n",
    "se1.trait_set(s_x_1 =  0.0, s_y_1 = 0, w_1 = eps11[-1]);\n",
    "se1.run()"
   ]
  },
  {
   "cell_type": "code",
   "execution_count": 20,
   "id": "56a8d744-f0cc-428c-af31-993084f0664b",
   "metadata": {},
   "outputs": [
    {
     "name": "stderr",
     "output_type": "stream",
     "text": [
      "<ipython-input-5-8a35cffcf756>:2: RuntimeWarning: invalid value encountered in true_divide\n",
      "  director_vector = eps_T[-1] / np.linalg.norm(eps_T[-1])\n"
     ]
    }
   ],
   "source": [
    "sigma_T, tau_y_pi_, sig_N, Z_, X_x_, X_y_, Y_T_, Y_N_ = se1.Sig_arr.T\n",
    "eps_T_p, s_y_pi_, eps_N_p, z_, alpha_x_, alpha_y_, omega_T, omega_N = se1.Eps_arr.T\n",
    "eps_T = get_eps_T(eps_ij, n_i)\n",
    "eps_T_p = get_eps_T_p(eps_T_p, eps_T)"
   ]
  },
  {
   "cell_type": "code",
   "execution_count": 21,
   "id": "f360cea9-7ab6-4784-8195-33243c3d82e1",
   "metadata": {
    "tags": []
   },
   "outputs": [],
   "source": [
    "sigma_ij = get_sigma(E, nu, n_i, eps_ij, eps_N_p, omega_N, eps_T_p, omega_T)"
   ]
  },
  {
   "cell_type": "code",
   "execution_count": 22,
   "id": "dbf886c1-d5be-4df5-9a76-f3695ad3d8c7",
   "metadata": {},
   "outputs": [
    {
     "data": {
      "application/vnd.jupyter.widget-view+json": {
       "model_id": "eb20242dd900430381b322a2ad1aa58d",
       "version_major": 2,
       "version_minor": 0
      },
      "text/plain": [
       "Canvas(toolbar=Toolbar(toolitems=[('Home', 'Reset original view', 'home', 'home'), ('Back', 'Back to previous …"
      ]
     },
     "metadata": {},
     "output_type": "display_data"
    },
    {
     "data": {
      "text/plain": [
       "[<matplotlib.lines.Line2D at 0x7f8ee4ee8f40>]"
      ]
     },
     "execution_count": 22,
     "metadata": {},
     "output_type": "execute_result"
    }
   ],
   "source": [
    "fig, ((ax_1, ax_2, ax_3)) = plt.subplots(1,3, tight_layout=True, figsize=(9,6))\n",
    "\n",
    "ax_1.plot(eps_ij[:,0,0] , sigma_ij[:,0,0])\n",
    "ax_1.plot(eps_ij[:,0,0] , sig_N)\n",
    "\n",
    "ax_2.plot(eps_ij[:,0,0] , omega_N)\n",
    "\n",
    "ax_3.plot(eps_ij[:,0,0] , eps_N_p)"
   ]
  },
  {
   "cell_type": "markdown",
   "id": "412f24a2-6a30-4711-8eed-8c4f991be3f5",
   "metadata": {
    "tags": []
   },
   "source": [
    "### Pure shear - strain controlled"
   ]
  },
  {
   "cell_type": "markdown",
   "id": "1de3221e-1965-442a-868e-f1e3ae0f23d2",
   "metadata": {},
   "source": [
    "Constructing the strain tensor in n steps and getting stress tensor via SLIDE model"
   ]
  },
  {
   "cell_type": "code",
   "execution_count": 23,
   "id": "e5a910c0-7c87-43a8-824b-8b0aa93e9f19",
   "metadata": {},
   "outputs": [],
   "source": [
    "n_i = [1,0,0] "
   ]
  },
  {
   "cell_type": "code",
   "execution_count": 24,
   "id": "c87fa0f3-dcb6-44af-baa9-dd00b4a55e6f",
   "metadata": {
    "tags": []
   },
   "outputs": [],
   "source": [
    "E = 1\n",
    "nu = 0.2"
   ]
  },
  {
   "cell_type": "code",
   "execution_count": 25,
   "id": "386386b3-b9bc-4175-8d1b-65375155defa",
   "metadata": {},
   "outputs": [],
   "source": [
    "n_steps =100\n",
    "strain = 5\n",
    "eps_ij = np.zeros((n_steps,3,3))\n",
    "eps13= eps31 = np.linspace(0,strain,n_steps)\n",
    "eps_ij[:,0,2] = eps13\n",
    "eps_ij[:,2,0] = eps31"
   ]
  },
  {
   "cell_type": "code",
   "execution_count": 26,
   "id": "cdaa8508-a35d-4e35-aeaf-297865024c8d",
   "metadata": {},
   "outputs": [],
   "source": [
    "material_params = dict(\n",
    "    E_T=get_E_T(E,nu,n_i), gamma_T=10, K_T=0, S_T=0.05, c_T=1, bartau=0.2, \n",
    "    E_N=E, S_N=0.0001, c_N = 1, m = 0.1, f_t=0.1, f_c=2, f_c0=1, eta=0.0)\n",
    "\n",
    "se1 = SlideExplorer( n_steps=n_steps-1, k_max=50)\n",
    "se1.slide_model.trait_set(**material_params)\n",
    "se1.trait_set(s_x_1 = strain, s_y_1 = 0, w_1 = 0);\n",
    "se1.run()"
   ]
  },
  {
   "cell_type": "code",
   "execution_count": 27,
   "id": "bfa2ac91-e555-4a8e-93bd-17caeed3809b",
   "metadata": {},
   "outputs": [],
   "source": [
    "sigma_T, tau_y_pi_, sig_N, Z_, X_x_, X_y_, Y_T_, Y_N_ = se1.Sig_arr.T\n",
    "eps_T_p, s_y_pi_, eps_N_p, z_, alpha_x_, alpha_y_, omega_T, omega_N = se1.Eps_arr.T\n",
    "eps_T = get_eps_T(eps_ij, n_i)\n",
    "eps_T_p_i = get_eps_T_p(eps_T_p, eps_T)"
   ]
  },
  {
   "cell_type": "code",
   "execution_count": 28,
   "id": "b49b3e1e-e22a-4838-897b-d8e1888f97d4",
   "metadata": {
    "tags": []
   },
   "outputs": [],
   "source": [
    "sigma_ij = get_sigma(E, nu, n_i, eps_ij, eps_N_p, omega_N, eps_T_p_i, omega_T)"
   ]
  },
  {
   "cell_type": "code",
   "execution_count": 29,
   "id": "ac2329d8-edb5-4d9c-86f3-ae9fb3ee1fdb",
   "metadata": {},
   "outputs": [
    {
     "data": {
      "application/vnd.jupyter.widget-view+json": {
       "model_id": "63054068453c4a5f8ea72c06f4bcceb7",
       "version_major": 2,
       "version_minor": 0
      },
      "text/plain": [
       "Canvas(toolbar=Toolbar(toolitems=[('Home', 'Reset original view', 'home', 'home'), ('Back', 'Back to previous …"
      ]
     },
     "metadata": {},
     "output_type": "display_data"
    },
    {
     "data": {
      "text/plain": [
       "[<matplotlib.lines.Line2D at 0x7f8ee4d8d8b0>]"
      ]
     },
     "execution_count": 29,
     "metadata": {},
     "output_type": "execute_result"
    }
   ],
   "source": [
    "fig, ((ax_1, ax_2, ax_3)) = plt.subplots(1,3, tight_layout=True, figsize=(9,6))\n",
    "\n",
    "ax_1.plot(eps_ij[:,0,2] , sigma_ij[:,0,2])\n",
    "ax_1.plot(eps_ij[:,0,2] , sigma_T)\n",
    "\n",
    "\n",
    "ax_2.plot(eps_ij[:,0,2] , omega_T)\n",
    "\n",
    "ax_3.plot(eps_ij[:,0,2] , eps_T_p)"
   ]
  },
  {
   "cell_type": "markdown",
   "id": "1f788ef4-1f07-41d8-a482-612f4641aad5",
   "metadata": {},
   "source": [
    "Trying to obtain damage tensor $\\beta_{ijkl} = \\phi_{ik} \\phi_{jl}^T$"
   ]
  },
  {
   "cell_type": "markdown",
   "id": "c9829a99-e1c3-46d7-8aed-f19ff622e94c",
   "metadata": {},
   "source": [
    "$\\phi_{ij} = \\begin{bmatrix}\n",
    "\\sqrt{1-\\omega_{\\mathrm{N}}} & 0 & 0\\\\\n",
    "0 & \\sqrt{1-\\omega_{\\mathrm{T}_y}} & 0\\\\\n",
    "0 & 0 & \\sqrt{1-\\omega_{\\mathrm{T}_z}}\n",
    "\\end{bmatrix}$"
   ]
  },
  {
   "cell_type": "code",
   "execution_count": 30,
   "id": "6ab51a99-d772-4544-af3d-1f9794182b3c",
   "metadata": {},
   "outputs": [],
   "source": [
    "phi_ij = np.zeros_like(eps_ij)\n",
    "phi_ij[:,1,1] = 0.\n",
    "phi_ij[:,2,2] = np.sqrt(1-omega_T)\n",
    "phi_ij[:,0,0] = np.sqrt(1-omega_N)"
   ]
  },
  {
   "cell_type": "code",
   "execution_count": 31,
   "id": "4bffb284-4d31-455f-8bce-1e6bb4a37188",
   "metadata": {},
   "outputs": [],
   "source": [
    "beta_ijkl = np.einsum('...ik,...jl->...ijkl',phi_ij,np.transpose(phi_ij,(0,2,1)))"
   ]
  },
  {
   "cell_type": "code",
   "execution_count": 32,
   "id": "c09c9535-cbd0-4826-b2e6-7dd8ef85b39d",
   "metadata": {},
   "outputs": [
    {
     "data": {
      "text/plain": [
       "0.020342384075648683"
      ]
     },
     "execution_count": 32,
     "metadata": {},
     "output_type": "execute_result"
    }
   ],
   "source": [
    "eps_ij_p = (np.einsum('...i,...j->...ij', n_i, eps_T_p_i) + np.einsum('...i,...j->...ij', eps_T_p_i, n_i)) + np.einsum( '...,...i,...j->...ij', eps_N_p, n_i, n_i)\n",
    "eps_N_p[-1]"
   ]
  },
  {
   "cell_type": "code",
   "execution_count": 33,
   "id": "6c35b5d0-c153-4256-b3cc-1e3870472dfe",
   "metadata": {},
   "outputs": [],
   "source": [
    "E_T = get_E_T(E,nu,n_i) "
   ]
  },
  {
   "cell_type": "code",
   "execution_count": 34,
   "id": "43a361f5-749d-48dc-993d-314f795cf9f2",
   "metadata": {
    "tags": []
   },
   "outputs": [],
   "source": [
    "sigma_ij_2 = np.einsum('...ijkl,...klrs,...rstu,...tu->...ij',beta_ijkl,get_D_ijkl(E,nu),beta_ijkl,(eps_ij-eps_ij_p))"
   ]
  },
  {
   "cell_type": "code",
   "execution_count": 35,
   "id": "1210d685-5ce6-485c-ba16-0f4154858e2e",
   "metadata": {},
   "outputs": [
    {
     "data": {
      "application/vnd.jupyter.widget-view+json": {
       "model_id": "ff879a2692bf4b7f802d45247f665032",
       "version_major": 2,
       "version_minor": 0
      },
      "text/plain": [
       "Canvas(toolbar=Toolbar(toolitems=[('Home', 'Reset original view', 'home', 'home'), ('Back', 'Back to previous …"
      ]
     },
     "metadata": {},
     "output_type": "display_data"
    },
    {
     "data": {
      "text/plain": [
       "[<matplotlib.lines.Line2D at 0x7f8ee4c854c0>]"
      ]
     },
     "execution_count": 35,
     "metadata": {},
     "output_type": "execute_result"
    }
   ],
   "source": [
    "fig, ((ax_1, ax_2, ax_3)) = plt.subplots(1,3, tight_layout=True, figsize=(9,6))\n",
    "\n",
    "ax_1.plot(eps_ij[:,0,2] , sigma_ij[:,0,2])\n",
    "ax_1.plot(eps_ij[:,0,2] , sigma_ij_2[:,0,2])\n",
    "\n",
    "\n",
    "ax_2.plot(eps_ij[:,0,2] , omega_T)\n",
    "\n",
    "ax_3.plot(eps_ij[:,0,2] , eps_T_p)"
   ]
  },
  {
   "cell_type": "markdown",
   "id": "473c00b3-abfe-4e12-9e34-d57c3841b159",
   "metadata": {},
   "source": [
    "## Implementation on a stress-driven simulation"
   ]
  },
  {
   "cell_type": "code",
   "execution_count": null,
   "id": "077fcd1e-584c-4be7-9606-b2b9e08e0e63",
   "metadata": {},
   "outputs": [],
   "source": []
  },
  {
   "cell_type": "code",
   "execution_count": null,
   "id": "3948812f-b858-4f74-a322-28c1d65b1d75",
   "metadata": {},
   "outputs": [],
   "source": []
  },
  {
   "cell_type": "code",
   "execution_count": null,
   "id": "86f2494c-7810-4f63-80cc-622683086133",
   "metadata": {},
   "outputs": [],
   "source": []
  },
  {
   "cell_type": "code",
   "execution_count": 36,
   "id": "a4112440-851f-49f6-8b58-f412c39cd4a1",
   "metadata": {},
   "outputs": [],
   "source": [
    "import traits.api as tr\n",
    "import copy\n",
    "\n",
    "class MATS3DSlide():\n",
    "    # -------------------------------------------------------------------------\n",
    "    # Cached elasticity tensors\n",
    "    # -------------------------------------------------------------------------\n",
    "\n",
    "    E = tr.Float(1,\n",
    "                 label=\"E\",\n",
    "                 desc=\"Young's Modulus\",\n",
    "                 auto_set=False,\n",
    "                 input=True)\n",
    "\n",
    "    nu = tr.Float(0.2,\n",
    "                  label='nu',\n",
    "                  desc=\"Poison ratio\",\n",
    "                  auto_set=False,\n",
    "                  input=True)\n",
    "    \n",
    "    def get_D_ijkl(self,E,nu):\n",
    "        delta_ij = np.identity(3)\n",
    "        la = E * nu / ((1. + nu) * (1. - 2. * nu))\n",
    "        mu = E / (2. + 2.* nu)\n",
    "        D_ijkl = (np.einsum(',ij,kl->ijkl', la, delta_ij, delta_ij) +\n",
    "                  np.einsum(',ik,jl->ijkl', mu, delta_ij, delta_ij) +\n",
    "                  np.einsum(',il,jk->ijkl', mu, delta_ij, delta_ij))\n",
    "        return D_ijkl\n",
    "    \n",
    "    def get_eps_N(self,eps_ij, n_i):\n",
    "        eps_N = np.einsum('...ij,...i,...j->...', eps_ij, n_i, n_i)\n",
    "        return eps_N\n",
    "\n",
    "    def get_eps_T(self,eps_ij, n_i):\n",
    "        delta_ij = np.identity(3)\n",
    "        eps_T = 0.5*(np.einsum('...i,...jk,...ij->...k',n_i,delta_ij,eps_ij) \n",
    "                     + np.einsum('...j,...ik,...ij->...k',n_i,delta_ij,eps_ij) \n",
    "                     - 2*np.einsum('...i,...j,...k,...ij->...k',n_i,n_i,n_i,eps_ij))\n",
    "        return eps_T\n",
    "\n",
    "    def get_eps_T_p(self,eps_T_p, eps_T):\n",
    "        director_vector = [0,0,1]\n",
    "        eps_T_p = np.einsum('...,...i->...i',eps_T_p, director_vector) \n",
    "        return eps_T_p\n",
    "    \n",
    "    def get_E_T(self,E,nu,n_i):\n",
    "        delta_ij = np.identity(3)\n",
    "        D_ijkl = self.get_D_ijkl(E,nu)\n",
    "        operator = 0.5*(np.einsum('i,jk,l->ijkl',n_i,delta_ij,n_i) \n",
    "                     + np.einsum('j,ik,l->jikl',n_i,delta_ij,n_i) \n",
    "                     - 2*np.einsum('i,j,k,l->ijkl',n_i,n_i,n_i,n_i))\n",
    "        E_T = np.einsum('ijkl,ijkl->', D_ijkl, operator)\n",
    "        return E_T\n",
    "\n",
    "    # -------------------------------------------------------------------------\n",
    "    # Evaluation - get the corrector and predictor\n",
    "    # -------------------------------------------------------------------------\n",
    "\n",
    "    def get_corr_pred(self, eps_ij, n_i, se1):\n",
    "        \n",
    "        E = 1\n",
    "        nu= 0.2\n",
    "        \n",
    "        eps_N = np.einsum('...ij,...i,...j->...', eps_ij, n_i, n_i)\n",
    "        eps_T = self.get_eps_T(eps_ij, n_i)\n",
    "        \n",
    "        material_params = dict(\n",
    "            E_T=self.get_E_T(E,nu,n_i), gamma_T=10, K_T=0, S_T=0.05, c_T=1, bartau=0.2, \n",
    "            E_N=E, S_N=0.0001, c_N = 1, m = 0.1, f_t=0.1, f_c=2, f_c0=1, eta=0.0)\n",
    "\n",
    "        se1 = SlideExplorer( n_steps=1, k_max=50)\n",
    "        se1.slide_model.trait_set(**material_params)\n",
    "        se1.trait_set(s_x_1 = np.linalg.norm(eps_T), s_y_1 = 0, w_1 = eps_N);\n",
    "        se1.run()\n",
    "        \n",
    "        sigma_T, tau_y_pi_, sig_N, Z_, X_x_, X_y_, Y_T_, Y_N_ = se1.Sig_arr.T\n",
    "        eps_T_p, s_y_pi_, eps_N_p, z_, alpha_x_, alpha_y_, omega_T, omega_N = se1.Eps_arr.T\n",
    "        eps_T = self.get_eps_T(eps_ij, n_i)\n",
    "        eps_T_p_i = self.get_eps_T_p(eps_T_p[-1], eps_T)\n",
    "        \n",
    "        phi_ij = np.zeros_like(eps_ij)\n",
    "        phi_ij[1,1] = 0.\n",
    "        phi_ij[2,2] = np.sqrt(1-omega_T[-1])\n",
    "        phi_ij[0,0] = np.sqrt(1-omega_N[-1])\n",
    "\n",
    "        beta_ijkl = np.einsum('...ik,...jl->...ijkl',phi_ij,np.transpose(phi_ij,(1,0)))\n",
    "\n",
    "        eps_ij_p = (np.einsum('...i,...j->...ij', n_i, eps_T_p_i) + np.einsum('...i,...j->...ij', eps_T_p_i, n_i)) + np.einsum( '...,...i,...j->...ij', eps_N_p[-1], n_i, n_i)\n",
    "        \n",
    "        delta_ij = np.identity(3)\n",
    "        \n",
    "        la = E * nu / ((1. + nu) * (1. - 2. * nu))\n",
    "        mu = E / (2. + 2.* nu)\n",
    "        D_abef = (np.einsum(',ij,kl->ijkl', la, delta_ij, delta_ij) +\n",
    "                  np.einsum(',ik,jl->ijkl', mu, delta_ij, delta_ij) +\n",
    "                  np.einsum(',il,jk->ijkl', mu, delta_ij, delta_ij))\n",
    "    \n",
    "\n",
    "        D_ijkl = np.einsum('ijkl,klrs,rstu->ijtu',beta_ijkl,D_abef,beta_ijkl)\n",
    "\n",
    "        sigma_ij = np.einsum('...ijkl,...kl->...ij',D_ijkl,(eps_ij-eps_ij_p))\n",
    "        \n",
    "\n",
    "        return D_ijkl, sigma_ij, eps_ij_p, se1\n",
    "\n",
    "    # -----------------------------------------------\n",
    "    # number of microplanes - currently fixed for 3D\n",
    "    # -----------------------------------------------\n",
    "    \n",
    "    def _get_lame_params(self):\n",
    "        la = self.E * self.nu / ((1. + self.nu) * (1. - 2. * self.nu))\n",
    "        # second Lame parameter (shear modulus)\n",
    "        mu = self.E / (2. + 2. * self.nu)\n",
    "        return la, mu\n",
    "\n",
    "    D_abef = tr.Property(tr.Array, depends_on='+input')\n",
    "\n",
    "    @tr.cached_property\n",
    "    def _get_D_abef(self):\n",
    "        la = self._get_lame_params()[0]\n",
    "        mu = self._get_lame_params()[1]\n",
    "        delta = np.identity(3)\n",
    "        D_abef = (np.einsum(',ij,kl->ijkl', la, delta, delta) +\n",
    "                  np.einsum(',ik,jl->ijkl', mu, delta, delta) +\n",
    "                  np.einsum(',il,jk->ijkl', mu, delta, delta))\n",
    "\n",
    "        return D_abef"
   ]
  },
  {
   "cell_type": "code",
   "execution_count": 37,
   "id": "b7a3d805-ccae-4fc0-b3fe-bb4825eb2de1",
   "metadata": {},
   "outputs": [],
   "source": [
    "DELTA = np.identity(3)\n",
    "\n",
    "EPS = np.zeros((3, 3, 3), dtype='f')\n",
    "EPS[(0, 1, 2), (1, 2, 0), (2, 0, 1)] = 1\n",
    "EPS[(2, 1, 0), (1, 0, 2), (0, 2, 1)] = -1\n",
    "\n",
    "\n",
    "DD = np.hstack([DELTA, np.zeros_like(DELTA)])\n",
    "EEPS = np.hstack([np.zeros_like(EPS), EPS])\n",
    "\n",
    "GAMMA = np.einsum(\n",
    "    'ik,jk->kij', DD, DD\n",
    ") + np.einsum(\n",
    "    'ikj->kij', np.fabs(EEPS)\n",
    ")\n",
    "\n",
    "\n",
    "def get_eps_ab(eps_O): return np.einsum(\n",
    "    'Oab,...O->...ab', GAMMA, eps_O\n",
    ")[np.newaxis, ...]\n",
    "\n",
    "\n",
    "GAMMA_inv = np.einsum(\n",
    "    'aO,bO->Oab', DD, DD\n",
    ") + 0.5 * np.einsum(\n",
    "    'aOb->Oab', np.fabs(EEPS)\n",
    ")\n",
    "\n",
    "\n",
    "def get_sig_O(sig_ab): return np.einsum(\n",
    "    'Oab,...ab->...O', GAMMA_inv, sig_ab\n",
    ")[0, ...]\n",
    "\n",
    "\n",
    "GG = np.einsum(\n",
    "    'Oab,Pcd->OPabcd', GAMMA_inv, GAMMA_inv\n",
    ")\n",
    "\n",
    "\n",
    "def get_K_OP(D_abcd):\n",
    "    return np.einsum(\n",
    "        'OPabcd,abcd->OP', GG, D_abcd\n",
    "    )\n",
    "\n",
    "def get_UF_t(F, n_t):\n",
    "\n",
    "    material_params = dict(\n",
    "            E_T=1, gamma_T=10, K_T=0, S_T=0.05, c_T=1, bartau=0.2, \n",
    "            E_N=1, S_N=0.0001, c_N = 1, m = 0.1, f_t=0.1, f_c=2, f_c0=1, eta=0.0)\n",
    "\n",
    "    se = SlideExplorer(n_steps=1, k_max=50)\n",
    "    se.slide_model.trait_set(**material_params)\n",
    "    se.trait_set(s_x_1 =0, s_y_1 = 0, w_1 = 0);\n",
    "    se.run()\n",
    "    n_i = [1,0,0]\n",
    "    \n",
    "    D = np.zeros((3, 3, 3, 3))\n",
    "    D = D[np.newaxis, :, :, :, :]\n",
    "\n",
    "    # total number of DOFs\n",
    "    n_O = 6\n",
    "    # Global vectors\n",
    "    F_ext = np.zeros((n_O,), np.float_)\n",
    "    F_O = np.zeros((n_O,), np.float_)\n",
    "    U_k_O = np.zeros((n_O,), dtype=np.float_)\n",
    "    U_P = np.zeros((n_O,), np.float_)\n",
    "    eps_aux = get_eps_ab(U_k_O)\n",
    "    # Setup the system matrix with displacement constraints\n",
    "    # Time stepping parameters\n",
    "    t_aux, t_n1, t_max, t_step = 0, 0, len(F), 1 / n_t\n",
    "    # Iteration parameters\n",
    "    k_max, R_acc = 1000, 1e-3\n",
    "    # Record solutions\n",
    "    U_t_list, F_t_list, U_P_list = [np.copy(U_k_O)], [np.copy(F_O)], [np.copy(U_P)]\n",
    "\n",
    "    # Load increment loop\n",
    "    while t_n1 <= t_max - 1:\n",
    "\n",
    "        F_ext[0] = F[t_n1]\n",
    "        F_ext[1] = 0. * F[t_n1]\n",
    "        F_ext[2] = 0. * F[t_n1]\n",
    "\n",
    "        k = 0\n",
    "        # Equilibrium iteration loop\n",
    "        while k < k_max:\n",
    "            # Transform the primary vector to field\n",
    "            eps_ab = get_eps_ab(U_k_O).reshape(3, 3)\n",
    "            # Stress and material stiffness\n",
    "\n",
    "            D_abcd, sig_ab, eps_p_Emab, se1 = m.get_corr_pred(\n",
    "                eps_ab, n_i, se\n",
    "            )\n",
    "            # Internal force\n",
    "            F_O = get_sig_O(sig_ab.reshape(1,3,3)).reshape(6,)\n",
    "            # Residuum\n",
    "            R_O = F_ext - F_O\n",
    "            # System matrix\n",
    "            K_OP = get_K_OP(D_abcd)\n",
    "            # Convergence criterion\n",
    "            R_norm = np.linalg.norm(R_O)\n",
    "            if R_norm < R_acc:\n",
    "                # Convergence reached\n",
    "                break\n",
    "            else:\n",
    "                delta_U_O = np.linalg.solve(K_OP, R_O)\n",
    "                U_k_O += delta_U_O\n",
    "                # Next iteration\n",
    "                k += 1\n",
    "\n",
    "        else:\n",
    "            print('no convergence')\n",
    "\n",
    "            break\n",
    "\n",
    "        # Update states variables after convergence\n",
    "            se = copy.deepcopy(se1)\n",
    "\n",
    "\n",
    "            t_n1 += 1\n",
    "\n",
    "    U_t, F_t = np.array(U_t_list), np.array(F_t_list)\n",
    "    return U_t, F_t"
   ]
  },
  {
   "cell_type": "code",
   "execution_count": null,
   "id": "b356bad5-9dbd-4f62-9e37-34cd82e1f957",
   "metadata": {},
   "outputs": [],
   "source": [
    "m = MATS3DSlide()\n",
    "t_steps_cycle = 100\n",
    "\n",
    "\n",
    "\n",
    "load = np.linspace(0,0.07,t_steps_cycle)\n",
    "\n",
    "U, F = get_UF_t(\n",
    "    load, t_steps_cycle)"
   ]
  },
  {
   "cell_type": "markdown",
   "id": "271ec77f-6d90-473a-adba-990e05729310",
   "metadata": {},
   "source": [
    "## Checking the tensors"
   ]
  },
  {
   "cell_type": "code",
   "execution_count": null,
   "id": "0d639215-08e2-4a1b-8c66-ae58bdbef7ea",
   "metadata": {},
   "outputs": [],
   "source": [
    "eps_ab = np.zeros((3,3))\n",
    "eps_ab[0,0] = 1\n",
    "eps_ab[1,1] = eps_ab[2,2] = -0.2\n",
    "eps_ab[0,2] = eps_ab[2,0] = 1\n",
    "eps_ab"
   ]
  },
  {
   "cell_type": "code",
   "execution_count": null,
   "id": "775708c2-8ba6-42ae-b72d-7da84ba124a7",
   "metadata": {},
   "outputs": [],
   "source": [
    "n_a = [1,0,0]"
   ]
  },
  {
   "cell_type": "code",
   "execution_count": null,
   "id": "517df9d3-5d30-4e56-82fb-f8ec586bbba3",
   "metadata": {},
   "outputs": [],
   "source": [
    "eps_Na = get_eps_N(eps_ab, n_a)\n",
    "eps_Ta = get_eps_T(eps_ab, n_a)"
   ]
  },
  {
   "cell_type": "code",
   "execution_count": null,
   "id": "85539c55-49ea-45ea-a91f-fcd4627fe353",
   "metadata": {},
   "outputs": [],
   "source": [
    "eps_ab_2 = (np.einsum('...i,...j->...ij', n_a, eps_Ta) + np.einsum('...i,...j->...ij', eps_Ta, n_a)) + np.einsum( '...,...i,...j->...ij', eps_Na, n_a, n_a)\n",
    "eps_ab_2"
   ]
  },
  {
   "cell_type": "code",
   "execution_count": null,
   "id": "73413c22-e0d0-4058-8ce2-fb7037860447",
   "metadata": {},
   "outputs": [],
   "source": []
  }
 ],
 "metadata": {
  "kernelspec": {
   "display_name": "bmcs_env",
   "language": "python",
   "name": "bmcs_env"
  },
  "language_info": {
   "codemirror_mode": {
    "name": "ipython",
    "version": 3
   },
   "file_extension": ".py",
   "mimetype": "text/x-python",
   "name": "python",
   "nbconvert_exporter": "python",
   "pygments_lexer": "ipython3",
   "version": "3.8.8"
  }
 },
 "nbformat": 4,
 "nbformat_minor": 5
}
