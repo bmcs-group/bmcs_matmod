{
 "cells": [
  {
   "cell_type": "markdown",
   "id": "c9b1a703-90dc-4390-9d8c-2455c3d5370b",
   "metadata": {},
   "source": [
    "# Formulation of a directional damage-plasticity model"
   ]
  },
  {
   "cell_type": "code",
   "execution_count": 1,
   "id": "c775a0bd-f04d-4e38-be6a-b2feec8fcb1d",
   "metadata": {},
   "outputs": [],
   "source": [
    "%matplotlib widget\n",
    "import numpy as np\n",
    "import bmcs_utils\n",
    "from bmcs_matmod.slide.slide_explorer import SlideExplorer\n",
    "import bmcs_utils.api as bu\n",
    "from bmcs_matmod.time_fn.time_function import TimeFunction\n",
    "import matplotlib.pylab as plt"
   ]
  },
  {
   "cell_type": "markdown",
   "id": "39f27117-5d4d-493c-bc97-63cee57550a1",
   "metadata": {},
   "source": [
    "## Helmholtz free energy function"
   ]
  },
  {
   "cell_type": "markdown",
   "id": "6ce45a61-7938-43b0-8d5c-dd9faab032b0",
   "metadata": {},
   "source": [
    "The Helmholtz free energy function must have a shape like the following:"
   ]
  },
  {
   "cell_type": "markdown",
   "id": "94cd0c5f-6548-4906-ae1b-91b629dc5a21",
   "metadata": {},
   "source": [
    "$$\n",
    "\\rho {\\psi}(\\varepsilon_{ij},\\varepsilon_{ij}^p,\\omega_\\mathrm{N}, \\omega_\\mathrm{T})\n",
    "= \\frac{1}{2} \\varepsilon_{ij} D_{ijkl} \\varepsilon_{kl}\n",
    "-\n",
    " \\frac{1}{2} \\varepsilon_{kl} n_k n_l E n_i n_j \\varepsilon_{ij}\n",
    "+\n",
    " \\frac{1}{2} (\\varepsilon_{kl} - \\varepsilon_{kl}^p) n_k n_l n_i n_j (1 - \\omega_\\mathrm{N}) D_{ijkl} n_k n_l n_i n_j (\\varepsilon_{ij} - \\varepsilon_{ij}^p) \n",
    "- \n",
    " \\frac{1}{16} (n_j \\delta_{ki} + n_k \\delta_{ji} - 2n_j n_k n_i) \\varepsilon_{jk} n_j  D_{ijkl} (n_i \\delta_{jk} + n_j \\delta_{ik} - 2n_i n_j n_k) \\varepsilon_{ij} n_l\n",
    "+\n",
    " \\frac{1}{16} (n_j \\delta_{ki} + n_k \\delta_{ji} - 2n_j n_k n_i) (\\varepsilon_{jk} - \\varepsilon_{jk}^p) n_j (1 - \\omega_\\mathrm{T}) D_{ijkl} (n_i \\delta_{jk} + n_j \\delta_{ik} - 2n_i n_j n_k) (\\varepsilon_{ij} - \\varepsilon_{ij}^p) n_l\n",
    "$$"
   ]
  },
  {
   "cell_type": "markdown",
   "id": "9da82429-1a7d-4917-9d97-f567d2562a78",
   "metadata": {},
   "source": [
    "The displayed formulation presents two problems: \n",
    "- The result of $\\varepsilon_{kl} n_k n_l n_i n_j D_{ijkl} n_k n_l n_i n_j$ does not cancel the stress normal to the plane defined by the normal vector $n_i$. In this case $\\varepsilon_\\mathrm{N} = \\varepsilon_{kl} n_k n_l$ and $E_\\mathrm{N} =D_{ijkl} n_k n_l n_i n_j$. The problem is that $E_\\mathrm{N} \\varepsilon_\\mathrm{N} \\neq \\sigma_{11} $\n",
    "- For the tangential component this Helmholtz free energy function is not delivering simetric tangential part of the stress tensor"
   ]
  },
  {
   "cell_type": "markdown",
   "id": "63fd09b7-18bd-45a0-b828-38f6e6c65298",
   "metadata": {},
   "source": [
    "Actual state of the desirable expression for the stress tensor"
   ]
  },
  {
   "cell_type": "markdown",
   "id": "db9c37ff-cb53-47d2-a499-2ce25cfa3702",
   "metadata": {},
   "source": [
    "$$\n",
    " \\sigma_{ij} = \\frac{\\partial \\rho \\psi}{ \\partial \\varepsilon_{ij} }\n",
    "$$"
   ]
  },
  {
   "cell_type": "markdown",
   "id": "71b3fb49-b05e-47a5-9dee-3b9bb93f3597",
   "metadata": {},
   "source": [
    "$$\n",
    "\\sigma_{ij} =     \n",
    "D_{ijkl} \\varepsilon_{kl} \n",
    "- \n",
    "\\varepsilon_\\mathrm{N} n_{i} n_{j} E_\\mathrm{N}\n",
    "+ \n",
    "(\\varepsilon_\\mathrm{N} - \\varepsilon_\\mathrm{N}^p) n_{i} n_{j} (1 - \\omega_\\mathrm{N}) E_\\mathrm{N}\n",
    "-\n",
    "(\\varepsilon_{\\mathrm{T}_i} n_j + n_i \\varepsilon_{\\mathrm{T}_j})  E_\\mathrm{T}\n",
    "+\n",
    " ((\\varepsilon_{\\mathrm{T}_i} n_j + n_i \\varepsilon_{\\mathrm{T}_j} ) - (\\varepsilon_{\\mathrm{T}_i}^p n_j + n_i \\varepsilon_{\\mathrm{T}_j}^p ))  (1 - \\omega_\\mathrm{T}) E_\\mathrm{T}\n",
    "$$"
   ]
  },
  {
   "cell_type": "markdown",
   "id": "2bb6856c-f233-456c-b166-7ffe28192e31",
   "metadata": {},
   "source": [
    "with $$ \\varepsilon_{\\mathrm{N}} = \\varepsilon_{ij} n_i n_j, \\\\ E_\\mathrm{N} = E , \\\\ \\varepsilon_{\\mathrm{T}_k} = \\frac{1}{2}\\left[n_i \\delta_{jk} + n_j \\delta_{ik} - 2 n_i n_j n_k \\right] \\varepsilon_{ij}, \\\\  E_\\mathrm{T} = D_{ijkl} \\frac{1}{2}\\left[n_i \\delta_{jk} + n_j \\delta_{ik} - 2 n_i n_j n_k \\right] n_l\n",
    "$$"
   ]
  },
  {
   "cell_type": "markdown",
   "id": "da777242-6351-4b67-9b36-7bdc0c3e2ec7",
   "metadata": {},
   "source": [
    "**TODO** : \n",
    "\n",
    "- solve the issues with the Helmholtz free energy function\n",
    "\n",
    "- compute algorithmic tangent operator"
   ]
  },
  {
   "cell_type": "markdown",
   "id": "ac214d50-a8a2-4432-b8dd-72ee4bfff898",
   "metadata": {},
   "source": [
    "With the presented expression for the stress tensor and extracting the desired strain components from the strain tensor, it is possible to couple the SLIDE machinery to the model and obtain a tensorial material model out of it."
   ]
  },
  {
   "cell_type": "markdown",
   "id": "18f27b4f-dd6a-4d2a-b1c3-852dcf5c5d10",
   "metadata": {},
   "source": [
    "## Implementation on a strain-driven simulation"
   ]
  },
  {
   "cell_type": "markdown",
   "id": "73ad880f-597a-42c5-a71e-a27a32e889a6",
   "metadata": {},
   "source": [
    "The strategy consists on creating three loading scenarios, where the strain tensor can be \"artificially created\". The three loading cases are:\n",
    "- Uniaxial tension\n",
    "- Uniaxial compression\n",
    "- Pure shear"
   ]
  },
  {
   "cell_type": "markdown",
   "id": "89a324cd-497d-4602-946e-4da6a1f9804d",
   "metadata": {},
   "source": [
    "Since several expresions are going to be the same for all the studied cases:"
   ]
  },
  {
   "cell_type": "code",
   "execution_count": 7,
   "id": "60c6a5e0-716b-453f-9d8f-4589d7342cc7",
   "metadata": {},
   "outputs": [],
   "source": [
    "def get_eps_N(eps_ij, n_i):\n",
    "    eps_N = np.einsum('...ij,...i,...j->...', eps_ij, n_i, n_i)\n",
    "    return eps_N"
   ]
  },
  {
   "cell_type": "code",
   "execution_count": 8,
   "id": "d4502f3c-62a2-4b08-beb1-d04f7b15046a",
   "metadata": {},
   "outputs": [],
   "source": [
    "def get_eps_T(eps_ij, n_i):\n",
    "    delta_ij = np.identity(3)\n",
    "    eps_T = 0.5*(np.einsum('...i,...jk,...ij->...k',n_i,delta_ij,eps_ij) \n",
    "                 + np.einsum('...j,...ik,...ij->...k',n_i,delta_ij,eps_ij) \n",
    "                 - 2*np.einsum('...i,...j,...k,...ij->...k',n_i,n_i,n_i,eps_ij))\n",
    "    return eps_T"
   ]
  },
  {
   "cell_type": "code",
   "execution_count": 9,
   "id": "351dd180-133c-49af-8c83-7cbc6b54f8e3",
   "metadata": {},
   "outputs": [],
   "source": [
    "def get_eps_T_p(eps_T_p, eps_T):\n",
    "    director_vector = eps_T[-1] / np.linalg.norm(eps_T[-1])\n",
    "    eps_T_p = np.einsum('...,...i->...i',eps_T_p, director_vector) \n",
    "    return eps_T_p"
   ]
  },
  {
   "cell_type": "code",
   "execution_count": 10,
   "id": "7fb3eb2e-664e-4351-a82d-88a1b78f8fd6",
   "metadata": {},
   "outputs": [],
   "source": [
    "def get_D_ijkl(E,nu):\n",
    "    delta_ij = np.identity(3)\n",
    "    la = E * nu / ((1. + nu) * (1. - 2. * nu))\n",
    "    mu = E / (2. + 2.* nu)\n",
    "    D_ijkl = (np.einsum(',ij,kl->ijkl', la, delta_ij, delta_ij) +\n",
    "              np.einsum(',ik,jl->ijkl', mu, delta_ij, delta_ij) +\n",
    "              np.einsum(',il,jk->ijkl', mu, delta_ij, delta_ij))\n",
    "    return D_ijkl"
   ]
  },
  {
   "cell_type": "code",
   "execution_count": 11,
   "id": "d227d3ec-be6c-4089-9e79-b8d25801ebe3",
   "metadata": {},
   "outputs": [],
   "source": [
    "def get_E_T(E,nu,n_i):\n",
    "    delta_ij = np.identity(3)\n",
    "    D_ijkl = get_D_ijkl(E,nu)\n",
    "    operator = 0.5*(np.einsum('i,jk,l->ijkl',n_i,delta_ij,n_i) \n",
    "                 + np.einsum('j,ik,l->jikl',n_i,delta_ij,n_i) \n",
    "                 - 2*np.einsum('i,j,k,l->ijkl',n_i,n_i,n_i,n_i))\n",
    "    E_T = np.einsum('ijkl,ijkl->', D_ijkl, operator)\n",
    "    return E_T"
   ]
  },
  {
   "cell_type": "code",
   "execution_count": 12,
   "id": "150d4a18-f612-4bcc-a126-e1b98f08bd17",
   "metadata": {},
   "outputs": [],
   "source": [
    "def get_sigma(E, nu, n_i, eps_ij, eps_N_p, omega_N, eps_T_p, omega_T):\n",
    "    \n",
    "    eps_N = get_eps_N(eps_ij, n_i)\n",
    "    eps_T = get_eps_T(eps_ij, n_i)\n",
    "    D_ijkl = get_D_ijkl(E,nu)\n",
    "    E_T = get_E_T(E,nu,n_i) \n",
    "    sigma_ij = (np.einsum( '...ijkl,...kl->...ij',D_ijkl, eps_ij) \n",
    "                - np.einsum( '...,...i,...j->...ij', eps_N, n_i, n_i) * E \n",
    "                + np.einsum( '...,...i,...j,...->...ij', (eps_N - eps_N_p) , n_i, n_i, (1-omega_N)* E)\n",
    "                - E_T*(np.einsum('...i,...j->...ij', n_i, eps_T) + np.einsum('...i,...j->...ij', eps_T, n_i))\n",
    "                + (np.einsum('...,...i,...j->...ij', (1 - omega_T)*E_T, n_i, (eps_T - eps_T_p)) + np.einsum('...,...i,...j->...ij', (1 - omega_T)*E_T, (eps_T - eps_T_p), n_i)) \n",
    "               )  \n",
    "    return sigma_ij"
   ]
  },
  {
   "cell_type": "markdown",
   "id": "26a927c1-4730-48a1-8086-177bd6229e8a",
   "metadata": {
    "tags": []
   },
   "source": [
    "### Uniaxial tension - strain controlled"
   ]
  },
  {
   "cell_type": "markdown",
   "id": "7d8e402e-bd2f-40f7-ac65-1f6548c21c04",
   "metadata": {},
   "source": [
    "Constructing the strain tensor in n steps and getting stress tensor via SLIDE model"
   ]
  },
  {
   "cell_type": "code",
   "execution_count": 9,
   "id": "7ed62297-0cb9-4b1c-8ccc-7a47b4bf6f26",
   "metadata": {},
   "outputs": [],
   "source": [
    "E = 1\n",
    "nu = 0.2"
   ]
  },
  {
   "cell_type": "code",
   "execution_count": 10,
   "id": "6c14fbf9-91bd-4e72-80ad-75f2ca109012",
   "metadata": {},
   "outputs": [],
   "source": [
    "n_steps = 100\n",
    "eps_ij = np.zeros((n_steps,3,3))\n",
    "eps11 = np.linspace(0,1,n_steps)\n",
    "#eps22 = eps33 = np.linspace(0,-0.2,n_steps)\n",
    "eps22 = eps33 = -nu*eps11\n",
    "eps_ij[:,0,0] = eps11\n",
    "eps_ij[:,1,1] = eps22\n",
    "eps_ij[:,2,2] = eps33"
   ]
  },
  {
   "cell_type": "code",
   "execution_count": 11,
   "id": "dd971c8f-bdcf-49b4-8dfb-b60c17980607",
   "metadata": {},
   "outputs": [],
   "source": [
    "n_i = [1,0,0] "
   ]
  },
  {
   "cell_type": "code",
   "execution_count": 12,
   "id": "3940a19e-7a50-490d-89a4-13698b739ba3",
   "metadata": {},
   "outputs": [],
   "source": [
    "material_params = dict(\n",
    "    E_T=get_E_T(E,nu,n_i), gamma_T=0, K_T=0, S_T=0.05, c_T=3, bartau=0.2, \n",
    "    E_N=E, S_N=0.0001, c_N = 1, m = 0.1, f_t=0.1, f_c=2, f_c0=1, eta=0.0)\n",
    "\n",
    "se1 = SlideExplorer( n_steps=n_steps-1, k_max=50)\n",
    "se1.slide_model.trait_set(**material_params)\n",
    "se1.trait_set(s_x_1 =  0.0, s_y_1 = 0, w_1 = eps11[-1]);\n",
    "se1.run()"
   ]
  },
  {
   "cell_type": "code",
   "execution_count": 13,
   "id": "cc5f82fc-6645-40b3-9d43-8206c7beae92",
   "metadata": {},
   "outputs": [
    {
     "name": "stderr",
     "output_type": "stream",
     "text": [
      "<ipython-input-5-8a35cffcf756>:2: RuntimeWarning: invalid value encountered in true_divide\n",
      "  director_vector = eps_T[-1] / np.linalg.norm(eps_T[-1])\n"
     ]
    }
   ],
   "source": [
    "sigma_T, tau_y_pi_, sig_N, Z_, X_x_, X_y_, Y_T_, Y_N_ = se1.Sig_arr.T\n",
    "eps_T_p, s_y_pi_, eps_N_p, z_, alpha_x_, alpha_y_, omega_T, omega_N = se1.Eps_arr.T\n",
    "eps_T = get_eps_T(eps_ij, n_i)\n",
    "eps_T_p = get_eps_T_p(eps_T_p, eps_T)"
   ]
  },
  {
   "cell_type": "code",
   "execution_count": 14,
   "id": "ed3107cd-5dc8-4898-86d3-d05feff6831e",
   "metadata": {
    "tags": []
   },
   "outputs": [],
   "source": [
    "sigma_ij = get_sigma(E, nu, n_i, eps_ij, eps_N_p, omega_N, eps_T_p, omega_T)"
   ]
  },
  {
   "cell_type": "code",
   "execution_count": 15,
   "id": "0d572c8a-a961-4d76-9629-cede6317d784",
   "metadata": {},
   "outputs": [
    {
     "data": {
      "application/vnd.jupyter.widget-view+json": {
       "model_id": "533bd827bf354807b7679313bfc15fa4",
       "version_major": 2,
       "version_minor": 0
      },
      "text/plain": [
       "Canvas(toolbar=Toolbar(toolitems=[('Home', 'Reset original view', 'home', 'home'), ('Back', 'Back to previous …"
      ]
     },
     "metadata": {},
     "output_type": "display_data"
    },
    {
     "data": {
      "text/plain": [
       "[<matplotlib.lines.Line2D at 0x7f8ee5945e50>]"
      ]
     },
     "execution_count": 15,
     "metadata": {},
     "output_type": "execute_result"
    }
   ],
   "source": [
    "fig, ((ax_1, ax_2, ax_3)) = plt.subplots(1,3, tight_layout=True, figsize=(9,6))\n",
    "\n",
    "ax_1.plot(eps_ij[:,0,0] , sigma_ij[:,0,0])\n",
    "ax_1.plot(eps_ij[:,0,0] , sig_N)\n",
    "\n",
    "ax_2.plot(eps_ij[:,0,0] , omega_N)\n",
    "\n",
    "ax_3.plot(eps_ij[:,0,0] , eps_N_p)"
   ]
  },
  {
   "cell_type": "markdown",
   "id": "6ab2a767-2ad5-4204-a078-4cdc66d98982",
   "metadata": {
    "tags": []
   },
   "source": [
    "### Uniaxial compression - strain controlled"
   ]
  },
  {
   "cell_type": "markdown",
   "id": "fd98bc96-f020-4a4f-8e63-71a4ce3f37e8",
   "metadata": {},
   "source": [
    "Constructing the strain tensor in n steps and getting stress tensor via SLIDE model"
   ]
  },
  {
   "cell_type": "code",
   "execution_count": 16,
   "id": "6ab1abdd-24c1-4417-ae5c-d25023d37766",
   "metadata": {},
   "outputs": [],
   "source": [
    "n_i = [1,0,0] "
   ]
  },
  {
   "cell_type": "code",
   "execution_count": 17,
   "id": "d27dffd3-1225-451a-8a8e-b1652ca0fd26",
   "metadata": {
    "tags": []
   },
   "outputs": [],
   "source": [
    "E = 1\n",
    "nu = 0.2"
   ]
  },
  {
   "cell_type": "code",
   "execution_count": 18,
   "id": "676ad1da-7122-429e-b596-169f19dc4050",
   "metadata": {},
   "outputs": [],
   "source": [
    "n_steps =100\n",
    "strain = -3\n",
    "eps_ij = np.zeros((n_steps,3,3))\n",
    "eps11 = np.linspace(0,strain,n_steps)\n",
    "eps22 = eps33 = np.linspace(0,-nu*strain,n_steps)\n",
    "eps_ij[:,0,0] = eps11\n",
    "eps_ij[:,1,1] = eps22\n",
    "eps_ij[:,2,2] = eps33"
   ]
  },
  {
   "cell_type": "code",
   "execution_count": 19,
   "id": "91c48be7-8f80-4937-ab77-3b7328d4ab6d",
   "metadata": {},
   "outputs": [],
   "source": [
    "material_params = dict(\n",
    "    E_T=get_E_T(E,nu,n_i), gamma_T=0, K_T=0, S_T=0.05, c_T=3, bartau=0.2, \n",
    "    E_N=E, S_N=0.0001, c_N = 1, m = 0.1, f_t=0.1, f_c=2, f_c0=1, eta=0.0)\n",
    "\n",
    "se1 = SlideExplorer( n_steps=n_steps-1, k_max=50)\n",
    "se1.slide_model.trait_set(**material_params)\n",
    "se1.trait_set(s_x_1 =  0.0, s_y_1 = 0, w_1 = eps11[-1]);\n",
    "se1.run()"
   ]
  },
  {
   "cell_type": "code",
   "execution_count": 20,
   "id": "56a8d744-f0cc-428c-af31-993084f0664b",
   "metadata": {},
   "outputs": [
    {
     "name": "stderr",
     "output_type": "stream",
     "text": [
      "<ipython-input-5-8a35cffcf756>:2: RuntimeWarning: invalid value encountered in true_divide\n",
      "  director_vector = eps_T[-1] / np.linalg.norm(eps_T[-1])\n"
     ]
    }
   ],
   "source": [
    "sigma_T, tau_y_pi_, sig_N, Z_, X_x_, X_y_, Y_T_, Y_N_ = se1.Sig_arr.T\n",
    "eps_T_p, s_y_pi_, eps_N_p, z_, alpha_x_, alpha_y_, omega_T, omega_N = se1.Eps_arr.T\n",
    "eps_T = get_eps_T(eps_ij, n_i)\n",
    "eps_T_p = get_eps_T_p(eps_T_p, eps_T)"
   ]
  },
  {
   "cell_type": "code",
   "execution_count": 21,
   "id": "f360cea9-7ab6-4784-8195-33243c3d82e1",
   "metadata": {
    "tags": []
   },
   "outputs": [],
   "source": [
    "sigma_ij = get_sigma(E, nu, n_i, eps_ij, eps_N_p, omega_N, eps_T_p, omega_T)"
   ]
  },
  {
   "cell_type": "code",
   "execution_count": 22,
   "id": "dbf886c1-d5be-4df5-9a76-f3695ad3d8c7",
   "metadata": {},
   "outputs": [
    {
     "data": {
      "application/vnd.jupyter.widget-view+json": {
       "model_id": "eb20242dd900430381b322a2ad1aa58d",
       "version_major": 2,
       "version_minor": 0
      },
      "text/plain": [
       "Canvas(toolbar=Toolbar(toolitems=[('Home', 'Reset original view', 'home', 'home'), ('Back', 'Back to previous …"
      ]
     },
     "metadata": {},
     "output_type": "display_data"
    },
    {
     "data": {
      "text/plain": [
       "[<matplotlib.lines.Line2D at 0x7f8ee4ee8f40>]"
      ]
     },
     "execution_count": 22,
     "metadata": {},
     "output_type": "execute_result"
    }
   ],
   "source": [
    "fig, ((ax_1, ax_2, ax_3)) = plt.subplots(1,3, tight_layout=True, figsize=(9,6))\n",
    "\n",
    "ax_1.plot(eps_ij[:,0,0] , sigma_ij[:,0,0])\n",
    "ax_1.plot(eps_ij[:,0,0] , sig_N)\n",
    "\n",
    "ax_2.plot(eps_ij[:,0,0] , omega_N)\n",
    "\n",
    "ax_3.plot(eps_ij[:,0,0] , eps_N_p)"
   ]
  },
  {
   "cell_type": "markdown",
   "id": "412f24a2-6a30-4711-8eed-8c4f991be3f5",
   "metadata": {
    "tags": []
   },
   "source": [
    "### Pure shear - strain controlled"
   ]
  },
  {
   "cell_type": "markdown",
   "id": "1de3221e-1965-442a-868e-f1e3ae0f23d2",
   "metadata": {},
   "source": [
    "Constructing the strain tensor in n steps and getting stress tensor via SLIDE model"
   ]
  },
  {
   "cell_type": "code",
   "execution_count": 13,
   "id": "e5a910c0-7c87-43a8-824b-8b0aa93e9f19",
   "metadata": {},
   "outputs": [],
   "source": [
    "n_i = [1,0,0] "
   ]
  },
  {
   "cell_type": "code",
   "execution_count": 14,
   "id": "c87fa0f3-dcb6-44af-baa9-dd00b4a55e6f",
   "metadata": {
    "tags": []
   },
   "outputs": [],
   "source": [
    "E = 1\n",
    "nu = 0.2"
   ]
  },
  {
   "cell_type": "code",
   "execution_count": 15,
   "id": "386386b3-b9bc-4175-8d1b-65375155defa",
   "metadata": {},
   "outputs": [],
   "source": [
    "n_steps =100\n",
    "strain = 5\n",
    "eps_ij = np.zeros((n_steps,3,3))\n",
    "eps13= eps31 = np.linspace(0,strain,n_steps)\n",
    "eps_ij[:,0,2] = eps13\n",
    "eps_ij[:,2,0] = eps31"
   ]
  },
  {
   "cell_type": "code",
   "execution_count": 16,
   "id": "cdaa8508-a35d-4e35-aeaf-297865024c8d",
   "metadata": {},
   "outputs": [],
   "source": [
    "material_params = dict(\n",
    "    E_T=get_E_T(E,nu,n_i), gamma_T=10, K_T=0, S_T=0.05, c_T=1, bartau=0.2, \n",
    "    E_N=E, S_N=0.0001, c_N = 1, m = 0.1, f_t=0.1, f_c=2, f_c0=1, eta=0.0)\n",
    "\n",
    "se1 = SlideExplorer( n_steps=n_steps-1, k_max=50)\n",
    "se1.slide_model.trait_set(**material_params)\n",
    "se1.trait_set(s_x_1 = strain, s_y_1 = 0, w_1 = 0);\n",
    "se1.run()"
   ]
  },
  {
   "cell_type": "code",
   "execution_count": 17,
   "id": "bfa2ac91-e555-4a8e-93bd-17caeed3809b",
   "metadata": {},
   "outputs": [],
   "source": [
    "sigma_T, tau_y_pi_, sig_N, Z_, X_x_, X_y_, Y_T_, Y_N_ = se1.Sig_arr.T\n",
    "eps_T_p, s_y_pi_, eps_N_p, z_, alpha_x_, alpha_y_, omega_T, omega_N = se1.Eps_arr.T\n",
    "eps_T = get_eps_T(eps_ij, n_i)\n",
    "eps_T_p_i = get_eps_T_p(eps_T_p, eps_T)"
   ]
  },
  {
   "cell_type": "code",
   "execution_count": 18,
   "id": "b49b3e1e-e22a-4838-897b-d8e1888f97d4",
   "metadata": {
    "tags": []
   },
   "outputs": [],
   "source": [
    "sigma_ij = get_sigma(E, nu, n_i, eps_ij, eps_N_p, omega_N, eps_T_p_i, omega_T)"
   ]
  },
  {
   "cell_type": "code",
   "execution_count": 19,
   "id": "ac2329d8-edb5-4d9c-86f3-ae9fb3ee1fdb",
   "metadata": {},
   "outputs": [
    {
     "data": {
      "text/plain": [
       "[<matplotlib.lines.Line2D at 0x28569b71280>]"
      ]
     },
     "execution_count": 19,
     "metadata": {},
     "output_type": "execute_result"
    },
    {
     "data": {
      "application/vnd.jupyter.widget-view+json": {
       "model_id": "578c1d83752745b79a0d4b4f72c519c4",
       "version_major": 2,
       "version_minor": 0
      },
      "text/html": [
       "\n",
       "            <div style=\"display: inline-block;\">\n",
       "                <div class=\"jupyter-widgets widget-label\" style=\"text-align: center;\">\n",
       "                    Figure\n",
       "                </div>\n",
       "                <img src='data:image/png;base64,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' width=900.0/>\n",
       "            </div>\n",
       "        "
      ],
      "text/plain": [
       "Canvas(toolbar=Toolbar(toolitems=[('Home', 'Reset original view', 'home', 'home'), ('Back', 'Back to previous …"
      ]
     },
     "metadata": {},
     "output_type": "display_data"
    }
   ],
   "source": [
    "fig, ((ax_1, ax_2, ax_3)) = plt.subplots(1,3, tight_layout=True, figsize=(9,6))\n",
    "\n",
    "ax_1.plot(eps_ij[:,0,2] , sigma_ij[:,0,2])\n",
    "ax_1.plot(eps_ij[:,0,2] , sigma_T)\n",
    "\n",
    "\n",
    "ax_2.plot(eps_ij[:,0,2] , omega_T)\n",
    "\n",
    "ax_3.plot(eps_ij[:,0,2] , eps_T_p)"
   ]
  },
  {
   "cell_type": "markdown",
   "id": "1f788ef4-1f07-41d8-a482-612f4641aad5",
   "metadata": {},
   "source": [
    "Trying to obtain damage tensor $\\beta_{ijkl} = \\phi_{ik} \\phi_{jl}^T$"
   ]
  },
  {
   "cell_type": "markdown",
   "id": "c9829a99-e1c3-46d7-8aed-f19ff622e94c",
   "metadata": {},
   "source": [
    "$\\phi_{ij} = \\begin{bmatrix}\n",
    "\\sqrt{1-\\omega_{\\mathrm{N}}} & 0 & 0\\\\\n",
    "0 & \\sqrt{1-\\omega_{\\mathrm{T}_y}} & 0\\\\\n",
    "0 & 0 & \\sqrt{1-\\omega_{\\mathrm{T}_z}}\n",
    "\\end{bmatrix}$"
   ]
  },
  {
   "cell_type": "code",
   "execution_count": 26,
   "id": "6ab51a99-d772-4544-af3d-1f9794182b3c",
   "metadata": {},
   "outputs": [],
   "source": [
    "phi_ij = np.zeros_like(eps_ij)\n",
    "phi_ij[:,1,1] = 1.\n",
    "phi_ij[:,2,2] = np.sqrt(1-omega_T)\n",
    "phi_ij[:,0,0] = np.sqrt(1-omega_N)"
   ]
  },
  {
   "cell_type": "code",
   "execution_count": 27,
   "id": "4bffb284-4d31-455f-8bce-1e6bb4a37188",
   "metadata": {},
   "outputs": [],
   "source": [
    "beta_ijkl = np.einsum('...ik,...jl->...ijkl',phi_ij,np.transpose(phi_ij,(0,2,1)))"
   ]
  },
  {
   "cell_type": "code",
   "execution_count": 28,
   "id": "c09c9535-cbd0-4826-b2e6-7dd8ef85b39d",
   "metadata": {},
   "outputs": [
    {
     "data": {
      "text/plain": [
       "0.020342384075648683"
      ]
     },
     "execution_count": 28,
     "metadata": {},
     "output_type": "execute_result"
    }
   ],
   "source": [
    "eps_ij_p = (np.einsum('...i,...j->...ij', n_i, eps_T_p_i) + np.einsum('...i,...j->...ij', eps_T_p_i, n_i)) + np.einsum( '...,...i,...j->...ij', eps_N_p, n_i, n_i)\n",
    "eps_N_p[-1]"
   ]
  },
  {
   "cell_type": "code",
   "execution_count": 29,
   "id": "6c35b5d0-c153-4256-b3cc-1e3870472dfe",
   "metadata": {},
   "outputs": [],
   "source": [
    "E_T = get_E_T(E,nu,n_i) "
   ]
  },
  {
   "cell_type": "code",
   "execution_count": 30,
   "id": "43a361f5-749d-48dc-993d-314f795cf9f2",
   "metadata": {
    "tags": []
   },
   "outputs": [],
   "source": [
    "sigma_ij_2 = np.einsum('...ijkl,...klrs,...rstu,...tu->...ij',beta_ijkl,get_D_ijkl(E,nu),beta_ijkl,(eps_ij-eps_ij_p))"
   ]
  },
  {
   "cell_type": "code",
   "execution_count": 31,
   "id": "1210d685-5ce6-485c-ba16-0f4154858e2e",
   "metadata": {},
   "outputs": [
    {
     "data": {
      "text/plain": [
       "[<matplotlib.lines.Line2D at 0x28569d6e0a0>]"
      ]
     },
     "execution_count": 31,
     "metadata": {},
     "output_type": "execute_result"
    },
    {
     "data": {
      "application/vnd.jupyter.widget-view+json": {
       "model_id": "69ae1ea6995f4854a830fa0f1d301fd3",
       "version_major": 2,
       "version_minor": 0
      },
      "text/html": [
       "\n",
       "            <div style=\"display: inline-block;\">\n",
       "                <div class=\"jupyter-widgets widget-label\" style=\"text-align: center;\">\n",
       "                    Figure\n",
       "                </div>\n",
       "                <img src='data:image/png;base64,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' width=900.0/>\n",
       "            </div>\n",
       "        "
      ],
      "text/plain": [
       "Canvas(toolbar=Toolbar(toolitems=[('Home', 'Reset original view', 'home', 'home'), ('Back', 'Back to previous …"
      ]
     },
     "metadata": {},
     "output_type": "display_data"
    }
   ],
   "source": [
    "fig, ((ax_1, ax_2, ax_3)) = plt.subplots(1,3, tight_layout=True, figsize=(9,6))\n",
    "\n",
    "ax_1.plot(eps_ij[:,0,2] , sigma_ij[:,0,2])\n",
    "ax_1.plot(eps_ij[:,0,2] , sigma_ij_2[:,0,2])\n",
    "\n",
    "\n",
    "ax_2.plot(eps_ij[:,0,2] , omega_T)\n",
    "\n",
    "ax_3.plot(eps_ij[:,0,2] , eps_T_p)"
   ]
  },
  {
   "cell_type": "markdown",
   "id": "473c00b3-abfe-4e12-9e34-d57c3841b159",
   "metadata": {},
   "source": [
    "## Implementation on a stress-driven simulation"
   ]
  },
  {
   "cell_type": "code",
   "execution_count": 43,
   "id": "a4112440-851f-49f6-8b58-f412c39cd4a1",
   "metadata": {},
   "outputs": [],
   "source": [
    "import traits.api as tr\n",
    "import copy\n",
    "\n",
    "class MATS3DSlide():\n",
    "    # -------------------------------------------------------------------------\n",
    "    # Cached elasticity tensors\n",
    "    # -------------------------------------------------------------------------\n",
    "\n",
    "    E = tr.Float(1,\n",
    "                 label=\"E\",\n",
    "                 desc=\"Young's Modulus\",\n",
    "                 auto_set=False,\n",
    "                 input=True)\n",
    "\n",
    "    nu = tr.Float(0.2,\n",
    "                  label='nu',\n",
    "                  desc=\"Poison ratio\",\n",
    "                  auto_set=False,\n",
    "                  input=True)\n",
    "    \n",
    "    def get_D_ijkl(self,E,nu):\n",
    "        delta_ij = np.identity(3)\n",
    "        la = E * nu / ((1. + nu) * (1. - 2. * nu))\n",
    "        mu = E / (2. + 2.* nu)\n",
    "        D_ijkl = (np.einsum(',ij,kl->ijkl', la, delta_ij, delta_ij) +\n",
    "                  np.einsum(',ik,jl->ijkl', mu, delta_ij, delta_ij) +\n",
    "                  np.einsum(',il,jk->ijkl', mu, delta_ij, delta_ij))\n",
    "        return D_ijkl\n",
    "    \n",
    "    def get_eps_N(self,eps_ij, n_i):\n",
    "        eps_N = np.einsum('...ij,...i,...j->...', eps_ij, n_i, n_i)\n",
    "        return eps_N\n",
    "\n",
    "    def get_eps_T(self,eps_ij, n_i):\n",
    "        delta_ij = np.identity(3)\n",
    "        eps_T = 0.5*(np.einsum('...i,...jk,...ij->...k',n_i,delta_ij,eps_ij) \n",
    "                     + np.einsum('...j,...ik,...ij->...k',n_i,delta_ij,eps_ij) \n",
    "                     - 2*np.einsum('...i,...j,...k,...ij->...k',n_i,n_i,n_i,eps_ij))\n",
    "        return eps_T\n",
    "\n",
    "    def get_eps_T_p(self,eps_T_p, eps_T):\n",
    "        director_vector = [0,0,1]\n",
    "        eps_T_p = np.einsum('...,...i->...i',eps_T_p, director_vector) \n",
    "        return eps_T_p\n",
    "    \n",
    "    def get_E_T(self,E,nu,n_i):\n",
    "        delta_ij = np.identity(3)\n",
    "        D_ijkl = self.get_D_ijkl(E,nu)\n",
    "        operator = 0.5*(np.einsum('i,jk,l->ijkl',n_i,delta_ij,n_i) \n",
    "                     + np.einsum('j,ik,l->jikl',n_i,delta_ij,n_i) \n",
    "                     - 2*np.einsum('i,j,k,l->ijkl',n_i,n_i,n_i,n_i))\n",
    "        E_T = np.einsum('ijkl,ijkl->', D_ijkl, operator)\n",
    "        return E_T\n",
    "\n",
    "    # -------------------------------------------------------------------------\n",
    "    # Evaluation - get the corrector and predictor\n",
    "    # -------------------------------------------------------------------------\n",
    "\n",
    "    def get_corr_pred(self, eps_ij, n_i, se1):\n",
    "        \n",
    "        E = 1\n",
    "        nu= 0.2\n",
    "        \n",
    "        eps_N = np.einsum('...ij,...i,...j->...', eps_ij, n_i, n_i)\n",
    "        eps_T = self.get_eps_T(eps_ij, n_i)\n",
    "        \n",
    "        material_params = dict(\n",
    "            E_T=self.get_E_T(E,nu,n_i), gamma_T=10, K_T=0, S_T=0.05, c_T=1, bartau=3, \n",
    "            E_N=E, S_N=0.0001, c_N = 1, m = 0.1, f_t=2, f_c=60, f_c0=40, eta=0.0)\n",
    "\n",
    "        se1 = SlideExplorer( n_steps=1, k_max=50)\n",
    "        se1.slide_model.trait_set(**material_params)\n",
    "        se1.trait_set(s_x_1 = np.linalg.norm(eps_T), s_y_1 = 0, w_1 = eps_N);\n",
    "        se1.run()\n",
    "        se = self.slide_displ\n",
    "        sig_NT_Ema, D_Emab = se.get_corr_pred(eps_NT_Ema, tn1, **state)\n",
    "        \n",
    "        sigma_T, tau_y_pi_, sig_N, Z_, X_x_, X_y_, Y_T_, Y_N_ = se1.Sig_arr.T\n",
    "        eps_T_p, s_y_pi_, eps_N_p, z_, alpha_x_, alpha_y_, omega_T, omega_N = se1.Eps_arr.T\n",
    "        eps_T = self.get_eps_T(eps_ij, n_i)\n",
    "        eps_T_p_i = self.get_eps_T_p(eps_T_p[-1], eps_T)\n",
    "        \n",
    "        phi_ij = np.zeros_like(eps_ij)\n",
    "        phi_ij[1,1] = 1.\n",
    "        phi_ij[2,2] = np.sqrt(1-omega_T[-1])\n",
    "        phi_ij[0,0] = np.sqrt(1-omega_N[-1])\n",
    "\n",
    "        beta_ijkl = np.einsum('...ik,...jl->...ijkl',phi_ij,np.transpose(phi_ij,(1,0)))\n",
    "\n",
    "        eps_ij_p = (np.einsum('...i,...j->...ij', n_i, eps_T_p_i) + np.einsum('...i,...j->...ij', eps_T_p_i, n_i)) + np.einsum( '...,...i,...j->...ij', eps_N_p[-1], n_i, n_i)\n",
    "        \n",
    "        delta_ij = np.identity(3)\n",
    "        \n",
    "        la = E * nu / ((1. + nu) * (1. - 2. * nu))\n",
    "        mu = E / (2. + 2.* nu)\n",
    "        D_abef = (np.einsum(',ij,kl->ijkl', la, delta_ij, delta_ij) +\n",
    "                  np.einsum(',ik,jl->ijkl', mu, delta_ij, delta_ij) +\n",
    "                  np.einsum(',il,jk->ijkl', mu, delta_ij, delta_ij))\n",
    "    \n",
    "\n",
    "        D_ijkl = np.einsum('ijkl,klrs,rstu->ijtu',beta_ijkl,D_abef,beta_ijkl)\n",
    "\n",
    "        sigma_ij = np.einsum('...ijkl,...kl->...ij',D_abef,eps_ij)\n",
    "        \n",
    "\n",
    "        return D_abef, sigma_ij, eps_ij_p, se1\n",
    "\n",
    "    # -----------------------------------------------\n",
    "    # number of microplanes - currently fixed for 3D\n",
    "    # -----------------------------------------------\n",
    "    \n",
    "    def _get_lame_params(self):\n",
    "        la = self.E * self.nu / ((1. + self.nu) * (1. - 2. * self.nu))\n",
    "        # second Lame parameter (shear modulus)\n",
    "        mu = self.E / (2. + 2. * self.nu)\n",
    "        return la, mu\n",
    "\n",
    "    D_abef = tr.Property(tr.Array, depends_on='+input')\n",
    "\n",
    "    @tr.cached_property\n",
    "    def _get_D_abef(self):\n",
    "        la = self._get_lame_params()[0]\n",
    "        mu = self._get_lame_params()[1]\n",
    "        delta = np.identity(3)\n",
    "        D_abef = (np.einsum(',ij,kl->ijkl', la, delta, delta) +\n",
    "                  np.einsum(',ik,jl->ijkl', mu, delta, delta) +\n",
    "                  np.einsum(',il,jk->ijkl', mu, delta, delta))\n",
    "\n",
    "        return D_abef"
   ]
  },
  {
   "cell_type": "code",
   "execution_count": 54,
   "id": "b7a3d805-ccae-4fc0-b3fe-bb4825eb2de1",
   "metadata": {},
   "outputs": [],
   "source": [
    "DELTA = np.identity(3)\n",
    "\n",
    "EPS = np.zeros((3, 3, 3), dtype='f')\n",
    "EPS[(0, 1, 2), (1, 2, 0), (2, 0, 1)] = 1\n",
    "EPS[(2, 1, 0), (1, 0, 2), (0, 2, 1)] = -1\n",
    "\n",
    "\n",
    "DD = np.hstack([DELTA, np.zeros_like(DELTA)])\n",
    "EEPS = np.hstack([np.zeros_like(EPS), EPS])\n",
    "\n",
    "GAMMA = np.einsum(\n",
    "    'ik,jk->kij', DD, DD\n",
    ") + np.einsum(\n",
    "    'ikj->kij', np.fabs(EEPS)\n",
    ")\n",
    "\n",
    "\n",
    "def get_eps_ab(eps_O): return np.einsum(\n",
    "    'Oab,...O->...ab', GAMMA, eps_O\n",
    ")[np.newaxis, ...]\n",
    "\n",
    "\n",
    "GAMMA_inv = np.einsum(\n",
    "    'aO,bO->Oab', DD, DD\n",
    ") + 0.5 * np.einsum(\n",
    "    'aOb->Oab', np.fabs(EEPS)\n",
    ")\n",
    "\n",
    "\n",
    "def get_sig_O(sig_ab): return np.einsum(\n",
    "    'Oab,...ab->...O', GAMMA_inv, sig_ab\n",
    ")[0, ...]\n",
    "\n",
    "\n",
    "GG = np.einsum(\n",
    "    'Oab,Pcd->OPabcd', GAMMA_inv, GAMMA_inv\n",
    ")\n",
    "\n",
    "\n",
    "def get_K_OP(D_abcd):\n",
    "    return np.einsum(\n",
    "        'OPabcd,abcd->OP', GG, D_abcd\n",
    "    )\n",
    "\n",
    "def get_UF_t(F, n_t):\n",
    "    n_i = [1,0,0]\n",
    "\n",
    "    material_params = dict(\n",
    "            E_T=m.get_E_T(E,nu,n_i), gamma_T=10, K_T=0, S_T=0.05, c_T=1, bartau=3, \n",
    "            E_N=1, S_N=0.0001, c_N = 1, m = 0.1, f_t=2, f_c=60, f_c0=40, eta=0.0)\n",
    "\n",
    "    se = SlideExplorer(n_steps=1, k_max=50)\n",
    "    se.slide_model.trait_set(**material_params)\n",
    "    se.trait_set(s_x_1 =0, s_y_1 = 0, w_1 = 0);\n",
    "    se.run()\n",
    "    \n",
    "    \n",
    "    D = np.zeros((3, 3, 3, 3))\n",
    "    D = D[np.newaxis, :, :, :, :]\n",
    "\n",
    "    # total number of DOFs\n",
    "    n_O = 6\n",
    "    # Global vectors\n",
    "    F_ext = np.zeros((n_O,), np.float_)\n",
    "    F_O = np.zeros((n_O,), np.float_)\n",
    "    U_k_O = np.zeros((n_O,), dtype=np.float_)\n",
    "    U_P = np.zeros((n_O,), np.float_)\n",
    "    eps_aux = get_eps_ab(U_k_O)\n",
    "    # Setup the system matrix with displacement constraints\n",
    "    # Time stepping parameters\n",
    "    t_aux, t_n1, t_max, t_step = 0, 0, len(F), 1 / n_t\n",
    "    # Iteration parameters\n",
    "    k_max, R_acc = 1000, 1e-3\n",
    "    # Record solutions\n",
    "    U_t_list, F_t_list, U_P_list = [np.copy(U_k_O)], [np.copy(F_O)], [np.copy(U_P)]\n",
    "\n",
    "    # Load increment loop\n",
    "    while t_n1 <= t_max - 1:\n",
    "\n",
    "        F_ext[0] = F[t_n1]\n",
    "        F_ext[1] = 0. * F[t_n1]\n",
    "        F_ext[2] = 0. * F[t_n1]\n",
    "\n",
    "        k = 0\n",
    "        # Equilibrium iteration loop\n",
    "        while k < k_max:\n",
    "            # Transform the primary vector to field\n",
    "            eps_ab = get_eps_ab(U_k_O).reshape(3, 3)\n",
    "            # Stress and material stiffness\n",
    "\n",
    "            D_abcd, sig_ab, eps_p_Emab, se1 = m.get_corr_pred(\n",
    "                eps_ab, n_i, se\n",
    "            )\n",
    "            # Internal force\n",
    "            F_O = get_sig_O(sig_ab.reshape(1,3,3)).reshape(6,)\n",
    "            # Residuum\n",
    "            R_O = F_ext - F_O\n",
    "            # System matrix\n",
    "            K_OP = get_K_OP(D_abcd)\n",
    "            # Convergence criterion\n",
    "            R_norm = np.linalg.norm(R_O)\n",
    "            if R_norm < R_acc:\n",
    "                # Convergence reached\n",
    "                break\n",
    "            \n",
    "            delta_U_O = np.linalg.solve(K_OP, R_O)\n",
    "            U_k_O += delta_U_O\n",
    "            # Next iteration\n",
    "            k += 1\n",
    "\n",
    "        else:\n",
    "            print('no convergence')\n",
    "\n",
    "            break\n",
    "\n",
    "        # Update states variables after convergence\n",
    "        se = copy.deepcopy(se1)\n",
    "        U_t_list.append(np.copy(U_k_O))\n",
    "        F_t_list.append(copy.deepcopy(F_O))\n",
    "\n",
    "        t_n1 += 1\n",
    "\n",
    "    U_t, F_t = np.array(U_t_list), np.array(F_t_list)\n",
    "    return U_t, F_t"
   ]
  },
  {
   "cell_type": "code",
   "execution_count": 55,
   "id": "b356bad5-9dbd-4f62-9e37-34cd82e1f957",
   "metadata": {},
   "outputs": [],
   "source": [
    "m = MATS3DSlide()\n",
    "t_steps_cycle = 10\n",
    "\n",
    "\n",
    "\n",
    "load = np.linspace(0,0.07,t_steps_cycle)\n",
    "\n",
    "U, F = get_UF_t(\n",
    "    load, t_steps_cycle)"
   ]
  },
  {
   "cell_type": "code",
   "execution_count": 56,
   "id": "d064b6a2-abc1-40ac-a295-78e82e2ab15a",
   "metadata": {},
   "outputs": [
    {
     "data": {
      "text/plain": [
       "array([[ 0.00000000e+00,  0.00000000e+00,  0.00000000e+00,\n",
       "         0.00000000e+00,  0.00000000e+00,  0.00000000e+00],\n",
       "       [ 0.00000000e+00,  0.00000000e+00,  0.00000000e+00,\n",
       "         0.00000000e+00,  0.00000000e+00,  0.00000000e+00],\n",
       "       [ 7.77777778e-03, -1.62630326e-19, -2.16840434e-19,\n",
       "         0.00000000e+00,  0.00000000e+00,  0.00000000e+00],\n",
       "       [ 1.55555556e-02,  7.58941521e-19,  8.67361738e-19,\n",
       "         0.00000000e+00,  0.00000000e+00,  0.00000000e+00],\n",
       "       [ 2.33333333e-02, -2.16840434e-19, -8.67361738e-19,\n",
       "         0.00000000e+00,  0.00000000e+00,  0.00000000e+00],\n",
       "       [ 3.11111111e-02,  1.51788304e-18,  1.73472348e-18,\n",
       "         0.00000000e+00,  0.00000000e+00,  0.00000000e+00],\n",
       "       [ 3.88888889e-02, -1.73472348e-18, -1.73472348e-18,\n",
       "         0.00000000e+00,  0.00000000e+00,  0.00000000e+00],\n",
       "       [ 4.66666667e-02,  0.00000000e+00,  0.00000000e+00,\n",
       "         0.00000000e+00,  0.00000000e+00,  0.00000000e+00],\n",
       "       [ 5.44444444e-02, -4.33680869e-19,  0.00000000e+00,\n",
       "         0.00000000e+00,  0.00000000e+00,  0.00000000e+00],\n",
       "       [ 6.22222222e-02,  2.16840434e-18,  0.00000000e+00,\n",
       "         0.00000000e+00,  0.00000000e+00,  0.00000000e+00],\n",
       "       [ 7.00000000e-02, -8.67361738e-19,  0.00000000e+00,\n",
       "         0.00000000e+00,  0.00000000e+00,  0.00000000e+00]])"
      ]
     },
     "execution_count": 56,
     "metadata": {},
     "output_type": "execute_result"
    }
   ],
   "source": [
    "F"
   ]
  },
  {
   "cell_type": "code",
   "execution_count": 54,
   "id": "eab30a3e-4d72-483e-9af1-f7d8a05a4897",
   "metadata": {},
   "outputs": [],
   "source": [
    "DELTA = np.identity(3)\n",
    "\n",
    "EPS = np.zeros((3, 3, 3), dtype='f')\n",
    "EPS[(0, 1, 2), (1, 2, 0), (2, 0, 1)] = 1\n",
    "EPS[(2, 1, 0), (1, 0, 2), (0, 2, 1)] = -1\n",
    "\n",
    "\n",
    "DD = np.hstack([DELTA, np.zeros_like(DELTA)])\n",
    "EEPS = np.hstack([np.zeros_like(EPS), EPS])\n",
    "\n",
    "GAMMA = np.einsum(\n",
    "    'ik,jk->kij', DD, DD\n",
    ") + np.einsum(\n",
    "    'ikj->kij', np.fabs(EEPS)\n",
    ")\n",
    "\n",
    "\n",
    "def get_eps_ab(eps_O): return np.einsum(\n",
    "    'Oab,...O->...ab', GAMMA, eps_O\n",
    ")[np.newaxis, ...]\n",
    "\n",
    "\n",
    "GAMMA_inv = np.einsum(\n",
    "    'aO,bO->Oab', DD, DD\n",
    ") + 0.5 * np.einsum(\n",
    "    'aOb->Oab', np.fabs(EEPS)\n",
    ")\n",
    "\n",
    "\n",
    "def get_sig_O(sig_ab): return np.einsum(\n",
    "    'Oab,...ab->...O', GAMMA_inv, sig_ab\n",
    ")[0, ...]\n",
    "\n",
    "\n",
    "GG = np.einsum(\n",
    "    'Oab,Pcd->OPabcd', GAMMA_inv, GAMMA_inv\n",
    ")\n",
    "\n",
    "\n",
    "def get_K_OP(D_abcd):\n",
    "    return np.einsum(\n",
    "        'OPabcd,abcd->OP', GG, D_abcd\n",
    "    )\n",
    "\n",
    "def get_UF_t_dc(time_function, n_t):\n",
    "    n_i = [1,0,0]\n",
    "\n",
    "    material_params = dict(\n",
    "            E_T=m.get_E_T(E,nu,n_i), gamma_T=10, K_T=0, S_T=0.05, c_T=1, bartau=3, \n",
    "            E_N=1, S_N=0.0001, c_N = 1, m = 0.1, f_t=2, f_c=60, f_c0=40, eta=0.0)\n",
    "\n",
    "    se = SlideExplorer(n_steps=1, k_max=50)\n",
    "    se.slide_model.trait_set(**material_params)\n",
    "    se.trait_set(s_x_1 =0, s_y_1 = 0, w_1 = 0);\n",
    "    se.run()\n",
    "    \n",
    "    \n",
    "    D = np.zeros((3, 3, 3, 3))\n",
    "    D = D[np.newaxis, :, :, :, :]\n",
    "\n",
    "    # total number of DOFs\n",
    "    n_O = 6\n",
    "    # Global vectors\n",
    "    F_ext = np.zeros((n_O,), np.float_)\n",
    "    F_O = np.zeros((n_O,), np.float_)\n",
    "    U_k_O = np.zeros((n_O,), dtype=np.float_)\n",
    "    U_P = np.zeros((n_O,), np.float_)\n",
    "    eps_aux = get_eps_ab(U_k_O)\n",
    "    # Setup the system matrix with displacement constraints\n",
    "    # Time stepping parameters\n",
    "    t_aux, t_n1, t_max, t_step = 0, 0, len(F), 1 / n_t\n",
    "    # Iteration parameters\n",
    "    k_max, R_acc = 1000, 1e-3\n",
    "    # Record solutions\n",
    "    U_t_list, F_t_list, U_P_list = [np.copy(U_k_O)], [np.copy(F_O)], [np.copy(U_P)]\n",
    "    \n",
    "    CONTROL = 0\n",
    "    FREE = slice(1, None)  # This means all except the first index, i.e. [1:]\n",
    "\n",
    "\n",
    "    # Load increment loop\n",
    "    while t_n1 <= t_max - 1:\n",
    "\n",
    "        delta_U = time_function[t_n1] - time_function[t_n]\n",
    "\n",
    "        k = 0\n",
    "        # Equilibrium iteration loop\n",
    "        while k < k_max:\n",
    "            # Transform the primary vector to field\n",
    "            eps_ab = get_eps_ab(U_k_O).reshape(3, 3)\n",
    "            # Stress and material stiffness\n",
    "\n",
    "            D_abcd, sig_ab, eps_p_Emab, se1 = m.get_corr_pred(\n",
    "                eps_ab, n_i, se\n",
    "            )\n",
    "            # Internal force\n",
    "            F_O = get_sig_O(sig_ab.reshape(1,3,3)).reshape(6,)\n",
    "            # Residuum\n",
    "            R_O = F_ext - F_O\n",
    "            # System matrix\n",
    "            K_OP = get_K_OP(D_abcd)\n",
    "            # Convergence criterion\n",
    "            KU = K_OP[:, CONTROL] * delta_U\n",
    "            # Residuum\n",
    "            R_O = F_ext - F_O - KU\n",
    "            # Convergence criterion\n",
    "            R_norm = np.linalg.norm(R_O[FREE])\n",
    "            if R_norm < R_acc:\n",
    "                # Convergence reached\n",
    "                break\n",
    "            \n",
    "            delta_U_O = np.linalg.solve(K_OP[FREE, FREE], R_O[FREE])\n",
    "            U_k_O[FREE] += delta_U_O\n",
    "            # Update control displacement\n",
    "            U_k_O[CONTROL] += delta_U\n",
    "            # Note - control displacement nonzero only in the first iteration.\n",
    "            delta_U = 0\n",
    "            k += 1\n",
    "        else:\n",
    "            print('no convergence')\n",
    "\n",
    "            break\n",
    "\n",
    "        # Update states variables after convergence\n",
    "        se = copy.deepcopy(se1)\n",
    "        U_t_list.append(np.copy(U_k_O))\n",
    "        F_t_list.append(copy.deepcopy(F_O))\n",
    "\n",
    "        t_n1 += 1\n",
    "\n",
    "    U_t, F_t = np.array(U_t_list), np.array(F_t_list)\n",
    "    return U_t, F_t"
   ]
  },
  {
   "cell_type": "code",
   "execution_count": null,
   "id": "9e0bf548-753d-4241-925b-01ea34edcc46",
   "metadata": {},
   "outputs": [],
   "source": [
    "m = MATS3DSlide()\n",
    "t_steps_cycle = 10\n",
    "\n",
    "load = np.linspace(0,0.007,t_steps_cycle)\n",
    "\n",
    "U, F = get_UF_t_dc(\n",
    "    load, t_steps_cycle)"
   ]
  },
  {
   "cell_type": "markdown",
   "id": "271ec77f-6d90-473a-adba-990e05729310",
   "metadata": {},
   "source": [
    "## Checking the tensors"
   ]
  },
  {
   "cell_type": "code",
   "execution_count": null,
   "id": "0d639215-08e2-4a1b-8c66-ae58bdbef7ea",
   "metadata": {},
   "outputs": [],
   "source": [
    "eps_ab = np.zeros((3,3))\n",
    "eps_ab[0,0] = 1\n",
    "eps_ab[1,1] = eps_ab[2,2] = -0.2\n",
    "eps_ab[0,2] = eps_ab[2,0] = 1\n",
    "eps_ab"
   ]
  },
  {
   "cell_type": "code",
   "execution_count": null,
   "id": "775708c2-8ba6-42ae-b72d-7da84ba124a7",
   "metadata": {},
   "outputs": [],
   "source": [
    "n_a = [1,0,0]"
   ]
  },
  {
   "cell_type": "code",
   "execution_count": null,
   "id": "517df9d3-5d30-4e56-82fb-f8ec586bbba3",
   "metadata": {},
   "outputs": [],
   "source": [
    "eps_Na = get_eps_N(eps_ab, n_a)\n",
    "eps_Ta = get_eps_T(eps_ab, n_a)"
   ]
  },
  {
   "cell_type": "code",
   "execution_count": null,
   "id": "85539c55-49ea-45ea-a91f-fcd4627fe353",
   "metadata": {},
   "outputs": [],
   "source": [
    "eps_ab_2 = (np.einsum('...i,...j->...ij', n_a, eps_Ta) + np.einsum('...i,...j->...ij', eps_Ta, n_a)) + np.einsum( '...,...i,...j->...ij', eps_Na, n_a, n_a)\n",
    "eps_ab_2"
   ]
  },
  {
   "cell_type": "code",
   "execution_count": null,
   "id": "73413c22-e0d0-4058-8ce2-fb7037860447",
   "metadata": {},
   "outputs": [],
   "source": []
  }
 ],
 "metadata": {
  "kernelspec": {
   "display_name": "bmcs_env",
   "language": "python",
   "name": "bmcs_env"
  },
  "language_info": {
   "codemirror_mode": {
    "name": "ipython",
    "version": 3
   },
   "file_extension": ".py",
   "mimetype": "text/x-python",
   "name": "python",
   "nbconvert_exporter": "python",
   "pygments_lexer": "ipython3",
   "version": "3.9.7"
  }
 },
 "nbformat": 4,
 "nbformat_minor": 5
}
