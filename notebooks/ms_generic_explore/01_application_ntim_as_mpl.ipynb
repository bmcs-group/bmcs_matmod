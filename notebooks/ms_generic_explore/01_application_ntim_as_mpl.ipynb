{
 "cells": [
  {
   "cell_type": "markdown",
   "id": "cde07660-d97e-4e46-b50d-55a9ddebfd84",
   "metadata": {},
   "source": [
    "# **Integration of NTIM into Microplane homogenization**"
   ]
  },
  {
   "cell_type": "markdown",
   "id": "bf250b01-6e90-4fc2-81a2-8d897b3242a8",
   "metadata": {},
   "source": [
    "Verify the implementation of the interface model by comparing the single-point version \n",
    "with the vectorized version used in FE models."
   ]
  },
  {
   "cell_type": "code",
   "execution_count": null,
   "id": "d0eda2a4-8d80-4442-91ea-29409d873d64",
   "metadata": {},
   "outputs": [],
   "source": [
    "%matplotlib widget\n",
    "from bmcs_matmod.msx import MSX\n",
    "from bmcs_matmod.ntim import VCoNTIM, VUNTIM\n",
    "from bmcs_matmod.slide.slide_explorer import SlideExplorer\n",
    "import matplotlib.pylab as plt\n",
    "import numpy as np\n",
    "np.seterr(divide='ignore', invalid='ignore');"
   ]
  },
  {
   "cell_type": "code",
   "execution_count": null,
   "id": "cc82e83d-75da-4f9f-8557-19eff8f8c318",
   "metadata": {},
   "outputs": [],
   "source": [
    "material_params = dict(\n",
    "    E_T=1000, gamma_T=0, K_T=0, S_T=0.001, c_T=1, bartau=3, \n",
    "    E_N=100, \n",
    "    S_N=0.001,\n",
    "    #S_N=0.005, \n",
    "    c_N = 1, m = 0.01, f_t=3, f_c=20, f_c0=10, eta=0.0, # 0.5\n",
    ")"
   ]
  },
  {
   "cell_type": "code",
   "execution_count": null,
   "id": "6d7bf586-e022-4b2d-820e-0b4570bb35c6",
   "metadata": {},
   "outputs": [],
   "source": [
    "mp_microplane = dict(K_T=300, gamma_T=3000, bartau=2, f_t=2, eta=0, c_T=1, S_T=0.001, c_N=0.3, S_N = 0.001 );"
   ]
  },
  {
   "cell_type": "markdown",
   "id": "d4a70e89-749f-4209-9eb2-8c1106dda996",
   "metadata": {},
   "source": [
    "## Scalar implementation of Coupled NT interface model (CoNTIM)"
   ]
  },
  {
   "cell_type": "code",
   "execution_count": null,
   "id": "b41c5aa2-fc12-4d64-9055-8cbbd53ff100",
   "metadata": {},
   "outputs": [],
   "source": [
    "se_pull = SlideExplorer(n_steps=40, k_max=2)\n",
    "se_pull.slide_model.trait_set(debug_level=0, **material_params)\n",
    "#se_pull.slide_model.trait_set(debug_level=5, **mp_microplane)\n",
    "se_pull.trait_set(s_x_1 = 0, s_y_1 = 0, w_1 = 0.046);\n",
    "se_pull.run()\n",
    "#se_pull.interact()"
   ]
  },
  {
   "cell_type": "code",
   "execution_count": null,
   "id": "da7708ee-1224-406f-ae49-782782287528",
   "metadata": {},
   "outputs": [],
   "source": [
    "%matplotlib widget\n",
    "fig, ax = plt.subplots(1,1)\n",
    "ax.plot(se_pull.w_t, se_pull.Sig_t[:, 2]);"
   ]
  },
  {
   "cell_type": "markdown",
   "id": "63088ce5-9d69-4663-b202-697fc5d0bcb8",
   "metadata": {},
   "source": [
    "# Vectorized Coupled Normal Tangential Interface Model"
   ]
  },
  {
   "cell_type": "code",
   "execution_count": null,
   "id": "293adb44-847f-4894-ab78-dd7639a2d8c3",
   "metadata": {},
   "outputs": [],
   "source": [
    "mic = VCoNTIM(debug_level=0, k_max=3, **material_params)"
   ]
  },
  {
   "cell_type": "code",
   "execution_count": null,
   "id": "050fc411-ea67-4234-96d2-ab1fb420f96f",
   "metadata": {},
   "outputs": [],
   "source": [
    "n_eps = len(se_pull.w_t)\n",
    "eps11_range = np.linspace(1e-9, 0.046, n_eps)\n",
    "eps_range = np.zeros((n_eps, 4)) + 1e-9\n",
    "eps_range[:, 0] = se_pull.w_t"
   ]
  },
  {
   "cell_type": "code",
   "execution_count": null,
   "id": "560fbd06-10b6-461f-8e63-fae251acca63",
   "metadata": {},
   "outputs": [],
   "source": [
    "state_vars = { \n",
    "    var: np.zeros((1,) + shape)\n",
    "    for var, shape in mic.state_var_shapes.items()\n",
    "}"
   ]
  },
  {
   "cell_type": "code",
   "execution_count": null,
   "id": "58d0d04e-5701-42f9-b734-0e983b37f5d4",
   "metadata": {},
   "outputs": [],
   "source": [
    "sig_range = []\n",
    "Eps_t = []\n",
    "for i, eps_ab in enumerate(eps_range):\n",
    "    sig_ab, D_range = mic.get_corr_pred(eps_ab[np.newaxis,...], 1, **state_vars)\n",
    "    sig_range.append(sig_ab[0,...])"
   ]
  },
  {
   "cell_type": "code",
   "execution_count": null,
   "id": "dc9427e9-bb5b-4d6d-a65f-16cb540a52b0",
   "metadata": {},
   "outputs": [],
   "source": [
    "fig, ax = plt.subplots(1,1)\n",
    "sig11_range = np.array(sig_range)\n",
    "ax.plot(eps11_range[:len(sig11_range)], sig11_range[...,0])"
   ]
  },
  {
   "cell_type": "code",
   "execution_count": null,
   "id": "291c03b6-bb3f-4a28-a457-ec2c22553a17",
   "metadata": {},
   "outputs": [],
   "source": [
    "#mic.interact()"
   ]
  }
 ],
 "metadata": {
  "kernelspec": {
   "display_name": "bmcs_env",
   "language": "python",
   "name": "bmcs_env"
  },
  "language_info": {
   "codemirror_mode": {
    "name": "ipython",
    "version": 3
   },
   "file_extension": ".py",
   "mimetype": "text/x-python",
   "name": "python",
   "nbconvert_exporter": "python",
   "pygments_lexer": "ipython3"
  }
 },
 "nbformat": 4,
 "nbformat_minor": 5
}
