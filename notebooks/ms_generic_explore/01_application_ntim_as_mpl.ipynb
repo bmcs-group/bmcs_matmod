{
 "cells": [
  {
   "cell_type": "markdown",
   "id": "cde07660-d97e-4e46-b50d-55a9ddebfd84",
   "metadata": {},
   "source": [
    "# **Integration of NTIM into Microplane homogenization**"
   ]
  },
  {
   "cell_type": "code",
   "execution_count": 2,
   "id": "d0eda2a4-8d80-4442-91ea-29409d873d64",
   "metadata": {},
   "outputs": [],
   "source": [
    "%matplotlib widget\n",
    "from bmcs_matmod.msx import MSX\n",
    "from bmcs_matmod.ntim import VCoNTIM, VUNTIM\n",
    "from bmcs_matmod.slide.slide_explorer import SlideExplorer\n",
    "import matplotlib.pylab as plt\n",
    "import numpy as np\n",
    "np.seterr(divide='ignore', invalid='ignore');"
   ]
  },
  {
   "cell_type": "code",
   "execution_count": 3,
   "id": "cc82e83d-75da-4f9f-8557-19eff8f8c318",
   "metadata": {},
   "outputs": [],
   "source": [
    "material_params = dict(\n",
    "    E_T=1000, gamma_T=0, K_T=0, S_T=0.001, c_T=1, bartau=3, \n",
    "    E_N=100, \n",
    "    S_N=0.001,\n",
    "    #S_N=0.005, \n",
    "    c_N = 1, m = 0.01, f_t=3, f_c=20, f_c0=10, eta=0.0, # 0.5\n",
    ")"
   ]
  },
  {
   "cell_type": "code",
   "execution_count": 4,
   "id": "6d7bf586-e022-4b2d-820e-0b4570bb35c6",
   "metadata": {},
   "outputs": [],
   "source": [
    "mp_microplane = dict(K_T=300, gamma_T=3000, bartau=2, f_t=2, eta=0, c_T=1, S_T=0.001, c_N=0.3, S_N = 0.001 );"
   ]
  },
  {
   "cell_type": "markdown",
   "id": "d4a70e89-749f-4209-9eb2-8c1106dda996",
   "metadata": {},
   "source": [
    "## Scalar implementation of Coupled NT interface model (CoNTIM)"
   ]
  },
  {
   "cell_type": "code",
   "execution_count": 5,
   "id": "b41c5aa2-fc12-4d64-9055-8cbbd53ff100",
   "metadata": {},
   "outputs": [],
   "source": [
    "se_pull = SlideExplorer(n_steps=40, k_max=2)\n",
    "se_pull.slide_model.trait_set(debug_level=0, **material_params)\n",
    "#se_pull.slide_model.trait_set(debug_level=5, **mp_microplane)\n",
    "se_pull.trait_set(s_x_1 = 0, s_y_1 = 0, w_1 = 0.046);\n",
    "se_pull.run()\n",
    "#se_pull.interact()"
   ]
  },
  {
   "cell_type": "code",
   "execution_count": 6,
   "id": "da7708ee-1224-406f-ae49-782782287528",
   "metadata": {},
   "outputs": [
    {
     "data": {
      "application/vnd.jupyter.widget-view+json": {
       "model_id": "fbc6a99250224d008c1bc26a66113646",
       "version_major": 2,
       "version_minor": 0
      },
      "text/plain": [
       "Canvas(toolbar=Toolbar(toolitems=[('Home', 'Reset original view', 'home', 'home'), ('Back', 'Back to previous …"
      ]
     },
     "metadata": {},
     "output_type": "display_data"
    }
   ],
   "source": [
    "fig, ax = plt.subplots(1,1)\n",
    "ax.plot(se_pull.w_t, se_pull.Sig_t[:, 2]);"
   ]
  },
  {
   "cell_type": "markdown",
   "id": "63088ce5-9d69-4663-b202-697fc5d0bcb8",
   "metadata": {},
   "source": [
    "# Vectorized Coupled Normal Tangential Interface Model"
   ]
  },
  {
   "cell_type": "code",
   "execution_count": 7,
   "id": "293adb44-847f-4894-ab78-dd7639a2d8c3",
   "metadata": {},
   "outputs": [],
   "source": [
    "mic = VCoNTIM(debug_level=0, k_max=3, **material_params)"
   ]
  },
  {
   "cell_type": "code",
   "execution_count": 8,
   "id": "050fc411-ea67-4234-96d2-ab1fb420f96f",
   "metadata": {},
   "outputs": [],
   "source": [
    "n_eps = len(se_pull.w_t)\n",
    "eps11_range = np.linspace(1e-9, 0.046, n_eps)\n",
    "eps_range = np.zeros((n_eps, 4)) + 1e-9\n",
    "eps_range[:, 0] = se_pull.w_t"
   ]
  },
  {
   "cell_type": "code",
   "execution_count": 9,
   "id": "560fbd06-10b6-461f-8e63-fae251acca63",
   "metadata": {},
   "outputs": [],
   "source": [
    "state_vars = { \n",
    "    var: np.zeros((1,) + shape)\n",
    "    for var, shape in mic.state_var_shapes.items()\n",
    "}"
   ]
  },
  {
   "cell_type": "code",
   "execution_count": 10,
   "id": "58d0d04e-5701-42f9-b734-0e983b37f5d4",
   "metadata": {},
   "outputs": [],
   "source": [
    "sig_range = []\n",
    "Eps_t = []\n",
    "for i, eps_ab in enumerate(eps_range):\n",
    "    sig_ab, D_range = mic.get_corr_pred(eps_ab[np.newaxis,...], 1, **state_vars)\n",
    "    sig_range.append(sig_ab[0,...])"
   ]
  },
  {
   "cell_type": "code",
   "execution_count": 11,
   "id": "dc9427e9-bb5b-4d6d-a65f-16cb540a52b0",
   "metadata": {},
   "outputs": [
    {
     "data": {
      "application/vnd.jupyter.widget-view+json": {
       "model_id": "1cf441cd77cf41fdb6a3ffd9c9245fc8",
       "version_major": 2,
       "version_minor": 0
      },
      "text/plain": [
       "Canvas(toolbar=Toolbar(toolitems=[('Home', 'Reset original view', 'home', 'home'), ('Back', 'Back to previous …"
      ]
     },
     "metadata": {},
     "output_type": "display_data"
    },
    {
     "data": {
      "text/plain": [
       "[<matplotlib.lines.Line2D at 0x7f190cd82760>]"
      ]
     },
     "execution_count": 11,
     "metadata": {},
     "output_type": "execute_result"
    }
   ],
   "source": [
    "fig, ax = plt.subplots(1,1)\n",
    "sig11_range = np.array(sig_range)\n",
    "ax.plot(eps11_range[:len(sig11_range)], sig11_range[...,0])"
   ]
  },
  {
   "cell_type": "code",
   "execution_count": 12,
   "id": "291c03b6-bb3f-4a28-a457-ec2c22553a17",
   "metadata": {},
   "outputs": [],
   "source": [
    "#mic.interact()"
   ]
  },
  {
   "cell_type": "markdown",
   "id": "a380d0bd-3e44-4b0c-8a63-86d304f9e469",
   "metadata": {},
   "source": [
    "### Slide 32 Model"
   ]
  },
  {
   "cell_type": "code",
   "execution_count": 13,
   "id": "913addae-93fd-4be2-a2ff-008516d7406f",
   "metadata": {},
   "outputs": [],
   "source": [
    "u_N, u_T_x, u_T_y, u_T_z = 0.046000001, 1e-09, 1e-09, 1e-09\n",
    "Eps_k = np.array([ 1.31926147e-09, 1.31926147e-09, 4.50000100e-03, -6.81818485e-04, \n",
    "                  1.31926147e-09, 1.31926147e-09, 4.54545556e-15, 2.70511439e-01], dtype=np.float_)\n",
    "Sig_k = np.array([-3.19261469e-07, -3.19261469e-07,  2.18846568e+00, -0.00000000e+00,\n",
    "                  0.00000000e+00,  0.00000000e+00,  1.01927886e-16,  4.50000000e-02], dtype=np.float_)"
   ]
  },
  {
   "cell_type": "code",
   "execution_count": 14,
   "id": "88536b95-901c-4ccc-b657-8559502b646b",
   "metadata": {},
   "outputs": [
    {
     "data": {
      "text/plain": [
       "array([ 1.31926147e-09,  1.31926147e-09,  4.50000100e-03, -6.81818485e-04,\n",
       "        1.31926147e-09,  1.31926147e-09,  4.54545556e-15,  2.70511439e-01])"
      ]
     },
     "execution_count": 14,
     "metadata": {},
     "output_type": "execute_result"
    }
   ],
   "source": [
    "Eps_k"
   ]
  },
  {
   "cell_type": "code",
   "execution_count": 15,
   "id": "e6dd5bea-37b3-4328-8d0d-b1eb448acab4",
   "metadata": {},
   "outputs": [
    {
     "data": {
      "text/plain": [
       "(array([1.1385]),\n",
       " array([[-134.35440285]]),\n",
       " array([-3.19261470e-07, -3.19261470e-07,  3.02737753e+00, -0.00000000e+00,\n",
       "         0.00000000e+00,  0.00000000e+00,  1.01927886e-16,  8.61125000e-02]))"
      ]
     },
     "execution_count": 15,
     "metadata": {},
     "output_type": "execute_result"
    }
   ],
   "source": [
    "se_pull.slide_model.get_f_df(u_T_x, u_T_y, u_N, Sig_k, Eps_k)"
   ]
  },
  {
   "cell_type": "markdown",
   "id": "6d0c67e7-42fa-483a-b910-922d84756ea4",
   "metadata": {},
   "source": [
    "### Slide Vectorized"
   ]
  },
  {
   "cell_type": "code",
   "execution_count": 16,
   "id": "f3371f4d-2276-4f39-a297-c3517a8e61ca",
   "metadata": {},
   "outputs": [],
   "source": [
    "u_N_n1 = np.array([0.046])\n",
    "u_Tx_n1 = np.array([1.e-09])\n",
    "u_Ty_n1 = np.array([1.e-09])\n",
    "u_Tz_n1 = np.array([1.e-09])\n",
    "Eps_k = np.array(\n",
    "[[ 4.50000100e-03],\n",
    " [ 1.31926147e-09],\n",
    " [ 1.31926147e-09],\n",
    " [ 1.31926147e-09],\n",
    " [-6.81818485e-04],\n",
    " [ 1.31926147e-09],\n",
    " [ 1.31926147e-09],\n",
    " [ 1.31926147e-09],\n",
    " [ 4.54545556e-15],\n",
    " [ 2.70511439e-01]])\n",
    "Sig_k = np.array( \n",
    "[[ 2.18846568e+00],\n",
    " [-3.19261469e-07],\n",
    " [-3.19261469e-07],\n",
    " [-3.19261469e-07],\n",
    " [-0.00000000e+00],\n",
    " [ 0.00000000e+00],\n",
    " [ 0.00000000e+00],\n",
    " [ 0.00000000e+00],\n",
    " [ 1.01927886e-16],\n",
    " [ 4.50000000e-02]])"
   ]
  },
  {
   "cell_type": "code",
   "execution_count": 17,
   "id": "716d412a-b6e1-4f00-90e5-433be04189d9",
   "metadata": {},
   "outputs": [
    {
     "data": {
      "text/plain": [
       "(array([[1.1384999]]),\n",
       " array([[[-134.35440285]]]),\n",
       " array([[ 3.02737746e+00],\n",
       "        [-3.19261470e-07],\n",
       "        [-3.19261470e-07],\n",
       "        [-3.19261470e-07],\n",
       "        [-0.00000000e+00],\n",
       "        [ 0.00000000e+00],\n",
       "        [ 0.00000000e+00],\n",
       "        [ 0.00000000e+00],\n",
       "        [ 1.52891829e-16],\n",
       "        [ 8.61124959e-02]]))"
      ]
     },
     "execution_count": 17,
     "metadata": {},
     "output_type": "execute_result"
    }
   ],
   "source": [
    "mic.debug_level = 0\n",
    "mic.get_f_df(u_N_n1, u_Tx_n1, u_Ty_n1, u_Tz_n1, Sig_k, Eps_k)"
   ]
  },
  {
   "cell_type": "code",
   "execution_count": 18,
   "id": "502c9f2a-66cb-4099-9cd0-1f72361f2666",
   "metadata": {},
   "outputs": [
    {
     "data": {
      "text/plain": [
       "(array([[2.66202786]]),\n",
       " array([[[-134.35440285]]]),\n",
       " array([[ 4.14999990e+00],\n",
       "        [-3.19261470e-07],\n",
       "        [-3.19261470e-07],\n",
       "        [-3.19261470e-07],\n",
       "        [-0.00000000e+00],\n",
       "        [ 0.00000000e+00],\n",
       "        [ 0.00000000e+00],\n",
       "        [ 0.00000000e+00],\n",
       "        [ 1.52891829e-16],\n",
       "        [ 0.00000000e+00]]))"
      ]
     },
     "execution_count": 18,
     "metadata": {},
     "output_type": "execute_result"
    }
   ],
   "source": [
    "mic.get_f_df(u_N_n1, u_Tx_n1, u_Ty_n1, u_Tz_n1, np.zeros_like(Eps_k), Eps_k)"
   ]
  },
  {
   "cell_type": "code",
   "execution_count": 19,
   "id": "989f53ea-f970-46e8-8bac-2a3a43c01975",
   "metadata": {},
   "outputs": [
    {
     "data": {
      "text/latex": [
       "$\\displaystyle \\left[\\begin{matrix}- E_{N} \\left(- 2 w + 2 w^{\\pi}\\right) \\left(- \\frac{\\omega_{N} \\left(\\begin{cases} 0 & \\text{for}\\: \\sigma^{\\pi} \\leq 0 \\\\1 & \\text{otherwise} \\end{cases}\\right)}{2} + \\frac{1}{2}\\right) & - E_{T} \\left(1 - \\omega_{T}\\right) \\left(s^{\\pi}_x - s_{x}\\right) & - E_{T} \\left(1 - \\omega_{T}\\right) \\left(s^{\\pi}_y - s_{y}\\right) & - E_{T} \\left(1 - \\omega_{T}\\right) \\left(s^{\\pi}_z - s_{z}\\right) & K_{T} z & \\alpha_{x} \\gamma_{T} & \\alpha_{y} \\gamma_{T} & \\alpha_{z} \\gamma_{T} & \\frac{E_{T} \\left(- s^{\\pi}_x + s_{x}\\right)^{2}}{2} + \\frac{E_{T} \\left(- s^{\\pi}_y + s_{y}\\right)^{2}}{2} + \\frac{E_{T} \\left(- s^{\\pi}_z + s_{z}\\right)^{2}}{2} & \\frac{E_{N} \\left(w - w^{\\pi}\\right)^{2} \\left(\\begin{cases} 0 & \\text{for}\\: \\sigma^{\\pi} \\leq 0 \\\\1 & \\text{otherwise} \\end{cases}\\right)}{2}\\end{matrix}\\right]$"
      ],
      "text/plain": [
       "Matrix([[-E_N*(-2*w + 2*w^{\\pi})*(-omega_N*Piecewise((0, \\sigma^\\pi <= 0), (1, True))/2 + 1/2), -E_T*(1 - omega_T)*(s^{\\pi}_x - s_x), -E_T*(1 - omega_T)*(s^{\\pi}_y - s_y), -E_T*(1 - omega_T)*(s^{\\pi}_z - s_z), K_T*z, alpha_x*gamma_T, alpha_y*gamma_T, alpha_z*gamma_T, E_T*(-s^{\\pi}_x + s_x)**2/2 + E_T*(-s^{\\pi}_y + s_y)**2/2 + E_T*(-s^{\\pi}_z + s_z)**2/2, E_N*(w - w^{\\pi})**2*Piecewise((0, \\sigma^\\pi <= 0), (1, True))/2]])"
      ]
     },
     "execution_count": 19,
     "metadata": {},
     "output_type": "execute_result"
    }
   ],
   "source": [
    "mic.symb.Sig_"
   ]
  },
  {
   "cell_type": "code",
   "execution_count": 20,
   "id": "e650c9ee-a187-4361-a997-4ca641ab844a",
   "metadata": {},
   "outputs": [
    {
     "data": {
      "text/plain": [
       "array([[[ 3.02737746e+00],\n",
       "        [-3.19261470e-07],\n",
       "        [-3.19261470e-07],\n",
       "        [-3.19261470e-07],\n",
       "        [-0.00000000e+00],\n",
       "        [ 0.00000000e+00],\n",
       "        [ 0.00000000e+00],\n",
       "        [ 0.00000000e+00],\n",
       "        [ 1.52891829e-16],\n",
       "        [ 8.61124959e-02]]])"
      ]
     },
     "execution_count": 20,
     "metadata": {},
     "output_type": "execute_result"
    }
   ],
   "source": [
    "mic.symb.get_Sig_(u_N_n1, u_Tx_n1, u_Ty_n1, u_Tz_n1, Sig_k, Eps_k)"
   ]
  },
  {
   "cell_type": "code",
   "execution_count": 21,
   "id": "b42e3cc7-aaab-484e-aaeb-21a35af1b95c",
   "metadata": {},
   "outputs": [
    {
     "data": {
      "text/plain": [
       "array([[[ 4.14999990e+00],\n",
       "        [-3.19261470e-07],\n",
       "        [-3.19261470e-07],\n",
       "        [-3.19261470e-07],\n",
       "        [-0.00000000e+00],\n",
       "        [ 0.00000000e+00],\n",
       "        [ 0.00000000e+00],\n",
       "        [ 0.00000000e+00],\n",
       "        [ 1.52891829e-16],\n",
       "        [ 0.00000000e+00]]])"
      ]
     },
     "execution_count": 21,
     "metadata": {},
     "output_type": "execute_result"
    }
   ],
   "source": [
    "mic.symb.get_Sig_(u_N_n1, u_Tx_n1, u_Ty_n1, u_Tz_n1, np.zeros_like(Eps_k), Eps_k)"
   ]
  },
  {
   "cell_type": "code",
   "execution_count": null,
   "id": "11629a5d-cc3a-40e5-bda7-6c8a898dae83",
   "metadata": {},
   "outputs": [],
   "source": []
  },
  {
   "cell_type": "code",
   "execution_count": null,
   "id": "1cd8d3ea-67f3-4d69-86f9-df1500dfecfb",
   "metadata": {},
   "outputs": [],
   "source": []
  }
 ],
 "metadata": {
  "kernelspec": {
   "display_name": "bmcs_env",
   "language": "python",
   "name": "bmcs_env"
  },
  "language_info": {
   "codemirror_mode": {
    "name": "ipython",
    "version": 3
   },
   "file_extension": ".py",
   "mimetype": "text/x-python",
   "name": "python",
   "nbconvert_exporter": "python",
   "pygments_lexer": "ipython3",
   "version": "3.9.0"
  }
 },
 "nbformat": 4,
 "nbformat_minor": 5
}
