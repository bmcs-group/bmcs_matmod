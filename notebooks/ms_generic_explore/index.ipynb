{
 "cells": [
  {
   "cell_type": "markdown",
   "id": "dd57990a-6ba1-4e9c-b100-e1da29efd44c",
   "metadata": {},
   "source": [
    "# **Development of the generic microplane framework**"
   ]
  },
  {
   "cell_type": "markdown",
   "id": "e503cba2-a98d-4d8a-8473-fb18a54d5a30",
   "metadata": {},
   "source": [
    "This directory is used to manage the development of the generic framework for the microplane \n",
    "models. The ambition is to provide framework with plugins representing\n",
    "\n",
    " - NT interface model used to capture the behavior of a microplane\n",
    " - Homogenization scheme - either double or single equivalence\n",
    " - Integration scheme defined by an array of microplanes and integration weight factors"
   ]
  },
  {
   "cell_type": "markdown",
   "id": "09f6aa84-2c1c-441d-83e4-e104162e1108",
   "metadata": {
    "jp-MarkdownHeadingCollapsed": true,
    "tags": []
   },
   "source": [
    "## 1. NT interface model\n",
    "\n",
    "The goal is to provide more flexibility into the microplane framework which can \n",
    "capture mechanical and physical irreversible processes at the level of an oriented\n",
    "plane embedded in the bulk material. An example of such a plane is the CoNTIM \n",
    "(Coupled normal-tangential interface model) that captures the damage and plasticity\n",
    "processes projected onto the plane in a consistent way.\n",
    "\n",
    "The demonstration and verification of the model for the purpose of microplane \n",
    "framework is provided [here](01_application_ntim_as_mpl.ipynb)"
   ]
  },
  {
   "cell_type": "markdown",
   "id": "792564c9-3fd8-42d9-8b11-d0899bd49df3",
   "metadata": {},
   "source": [
    "## 2. Microplane with uncoupled interface model model\n",
    "\n",
    "The application of **UNTIM** within the integration scheme is provided \n",
    "[here](02_msx_vuntim.ipynb)."
   ]
  },
  {
   "cell_type": "markdown",
   "id": "f786e615-af46-4df3-ab36-efc13865db93",
   "metadata": {},
   "source": [
    "## 3. Microplane with coupled interface model model\n",
    "\n",
    "The application of **CoNTIM** within the integration scheme is provided \n",
    "[here](03_msx_vcontim.ipynb)."
   ]
  },
  {
   "cell_type": "code",
   "execution_count": null,
   "id": "5737ae8a-4796-44b0-9c8b-b938f11ea6cd",
   "metadata": {},
   "outputs": [],
   "source": []
  }
 ],
 "metadata": {
  "kernelspec": {
   "display_name": "bmcs_env",
   "language": "python",
   "name": "bmcs_env"
  },
  "language_info": {
   "codemirror_mode": {
    "name": "ipython",
    "version": 3
   },
   "file_extension": ".py",
   "mimetype": "text/x-python",
   "name": "python",
   "nbconvert_exporter": "python",
   "pygments_lexer": "ipython3",
   "version": "3.9.0"
  }
 },
 "nbformat": 4,
 "nbformat_minor": 5
}
