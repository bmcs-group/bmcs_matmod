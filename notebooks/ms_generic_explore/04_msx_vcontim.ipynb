{
 "cells": [
  {
   "cell_type": "markdown",
   "id": "c1143535-2d2e-4f5b-9451-f6c5aa78b5aa",
   "metadata": {},
   "source": [
    "# **Microplane Generic Verification**"
   ]
  },
  {
   "cell_type": "markdown",
   "id": "2d5112ec-31eb-4d77-8bc0-f1b4ad43fb4f",
   "metadata": {},
   "source": [
    "This sheets shows the application of the microplane integration\n",
    "on an example of VCoNTIM (vectorized implementation of the Coupled NT Interface Model."
   ]
  },
  {
   "cell_type": "markdown",
   "id": "2889894e-83be-493c-92ef-5220446a668a",
   "metadata": {},
   "source": [
    "## Ideal plasticity, uncoupled damage "
   ]
  },
  {
   "cell_type": "code",
   "execution_count": null,
   "id": "107b0240-ce14-400f-9f41-ed5620c51958",
   "metadata": {},
   "outputs": [],
   "source": [
    "%matplotlib widget\n",
    "from bmcs_matmod.msx import MSX\n",
    "from bmcs_matmod.ntim import VCoNTIM, VUNTIM, ReturnMappingError\n",
    "from bmcs_matmod.slide.slide_explorer import SlideExplorer\n",
    "import matplotlib.pylab as plt\n",
    "import numpy as np\n",
    "np.seterr(divide='ignore', invalid='ignore');"
   ]
  },
  {
   "cell_type": "code",
   "execution_count": null,
   "id": "8f7520dd-e255-4bed-ab74-448c93d61043",
   "metadata": {},
   "outputs": [],
   "source": [
    "mp_microplane1 = {\n",
    " 'E_T': 1000,\n",
    " 'gamma_T': 0,\n",
    " 'K_T': 0,\n",
    " 'S_T': 0.001,\n",
    " 'c_T': 1,\n",
    " 'bartau': 3,\n",
    " 'E_N': 100,\n",
    " 'S_N': 0.001,\n",
    " 'c_N': 1,\n",
    " 'm': 0.01,\n",
    " 'f_t': 3,\n",
    " 'f_c': 20,\n",
    " 'f_c0': 10,\n",
    " 'eta': 0.0}"
   ]
  },
  {
   "cell_type": "code",
   "execution_count": null,
   "id": "d9530875-ee5e-4456-9ed9-5bec403fa87e",
   "metadata": {},
   "outputs": [],
   "source": [
    "mpl = MSX(E=34000, mic='contim', nu=0.18)\n",
    "mpl.mic_.trait_set(debug=False, **mp_microplane1);\n",
    "eps_max = mpl.eps_max\n",
    "n_eps = 300\n",
    "eps11_range = np.linspace(1e-9, 1, n_eps)\n",
    "eps_range = np.zeros((n_eps, 3, 3))\n",
    "eps_range[:, 0, 0] = eps11_range\n",
    "state_vars = { \n",
    "    var: np.zeros((1,) + shape)\n",
    "    for var, shape in mpl.state_var_shapes.items()\n",
    "}\n",
    "sig_range = []\n",
    "for eps_ab in eps_range:\n",
    "    try:\n",
    "        sig_ab, D_range = mpl.get_corr_pred(eps_ab[np.newaxis,...], 1, **state_vars)\n",
    "    except ReturnMappingError:\n",
    "        break\n",
    "    sig_range.append(sig_ab[0,...])"
   ]
  },
  {
   "cell_type": "code",
   "execution_count": null,
   "id": "534741c4-05ee-437b-8b6e-2d5f4f000d19",
   "metadata": {},
   "outputs": [],
   "source": [
    "sig_range[-1]"
   ]
  },
  {
   "cell_type": "code",
   "execution_count": null,
   "id": "2a123f80-6b0c-4f2b-a214-5608a4413a68",
   "metadata": {},
   "outputs": [],
   "source": [
    "fig, ax = plt.subplots(1,1)\n",
    "sig11_range = np.array(sig_range)\n",
    "ax.plot(eps11_range[:len(sig11_range)], sig11_range[...,0,0], '-o')"
   ]
  },
  {
   "cell_type": "markdown",
   "id": "ca72f8fc-b4ac-4dda-be89-f21845cbf9f7",
   "metadata": {},
   "source": [
    "## Realistic bulk stiffness, hardening and coupled brittle NT damage"
   ]
  },
  {
   "cell_type": "code",
   "execution_count": null,
   "id": "b3bd95ef-f15b-4774-b355-031954b462a5",
   "metadata": {},
   "outputs": [],
   "source": [
    "mp_microplane = dict(K_T=300, gamma_T=3000, bartau=2, f_t=2, eta=1, \n",
    "                     c_T=0.1, S_T=0.00000001, c_N=3, S_N = 0.00000001 );"
   ]
  },
  {
   "cell_type": "code",
   "execution_count": null,
   "id": "75f7fc5d-f619-4493-9f23-563508431dff",
   "metadata": {},
   "outputs": [],
   "source": [
    "mpl = MSX(E = 28000, nu=0.22, eps_max=0.001)\n",
    "mpl.mic_.trait_set(debug=False, **mp_microplane);\n",
    "eps_max = mpl.eps_max\n",
    "n_eps = 50\n",
    "eps11_range = np.linspace(1e-9, eps_max, n_eps)\n",
    "eps_range = np.zeros((n_eps, 3, 3))\n",
    "eps_range[:, 0, 0] = eps11_range\n",
    "state_vars = { \n",
    "    var: np.zeros((1,) + shape)\n",
    "    for var, shape in mpl.state_var_shapes.items()\n",
    "}"
   ]
  },
  {
   "cell_type": "code",
   "execution_count": null,
   "id": "ba643254-14bc-42a9-b0d9-fb35f9a42cc3",
   "metadata": {},
   "outputs": [],
   "source": [
    "sig_range = []\n",
    "for eps_ab in eps_range:\n",
    "    sig_ab, D_range = mpl.get_corr_pred(eps_ab[np.newaxis,...], 1, **state_vars)\n",
    "    sig_range.append(sig_ab[0,...])"
   ]
  },
  {
   "cell_type": "code",
   "execution_count": null,
   "id": "df36f6ec-ff04-4774-b372-ad234de75f09",
   "metadata": {},
   "outputs": [],
   "source": [
    "fig, ax = plt.subplots(1,1)\n",
    "sig11_range = np.array(sig_range)\n",
    "ax.plot(eps11_range[:len(sig11_range)], sig11_range[...,0,0], 'o-')"
   ]
  },
  {
   "cell_type": "code",
   "execution_count": null,
   "id": "727c3293-a6b9-4c03-a9fb-6e0d7e3e4e06",
   "metadata": {},
   "outputs": [],
   "source": [
    "mpl.interact()"
   ]
  },
  {
   "cell_type": "code",
   "execution_count": null,
   "id": "b42dcc6d-fab2-4f90-839b-4ca5217efc98",
   "metadata": {},
   "outputs": [],
   "source": [
    "from ibvpy.api import XDomainSinglePoint, MATS3DScalarDamage, TStepBC, BCDof\n",
    "xmodel = XDomainSinglePoint()\n",
    "m = TStepBC(\n",
    "    domains=[(xmodel, mpl),],\n",
    "    bc=[BCDof(\n",
    "            var='u', dof=0, value=0.001,\n",
    "        )]\n",
    ")\n",
    "m.sim.tline.trait_set(step=0.01)\n",
    "m.sim.reset()\n",
    "m.sim.run()"
   ]
  },
  {
   "cell_type": "code",
   "execution_count": null,
   "id": "217fc829-bac0-4c09-a04c-508ced8399ec",
   "metadata": {},
   "outputs": [],
   "source": [
    "%matplotlib widget\n",
    "import matplotlib.pylab as plt\n",
    "_, (ax, ax_nu) = plt.subplots(1,2)\n",
    "ax.plot(m.hist.U_t[:,0], m.hist.F_t[:,0])\n",
    "ax.plot(m.hist.U_t[:,2], m.hist.F_t[:,0])\n",
    "ax_nu.plot(m.hist.U_t[:,0], -m.hist.U_t[:,1] / m.hist.U_t[:,0])"
   ]
  },
  {
   "cell_type": "markdown",
   "id": "be8350d5-9b0f-47b1-a731-ee385b0b1389",
   "metadata": {},
   "source": [
    "## Application of interact method"
   ]
  },
  {
   "cell_type": "code",
   "execution_count": null,
   "id": "83f63e78-3bbd-4515-9b2f-895b2b51c826",
   "metadata": {},
   "outputs": [],
   "source": [
    "%matplotlib widget\n",
    "from bmcs_matmod.msx import MSX\n",
    "import numpy as np\n",
    "np.seterr(divide='ignore', invalid='ignore');"
   ]
  },
  {
   "cell_type": "markdown",
   "id": "1c5a1009-b3a6-4898-8398-f978165b7406",
   "metadata": {},
   "source": [
    "The example below demonstrate a case with ideally plastic response which delivers\n",
    "several peaks in the response. At the same time, it can be used to demonstrate that \n",
    "$\\nu \\leq 0.25$ leads does not deliver any solution upon return mapping due to a square root overflow.\n",
    "\n",
    "Once $E_\\mathrm{T}$ becomes negative, the return mapping algorithm cannot work properly.\n",
    "Is there some thermodynamically admissible interpretation of this case in the interface?\n",
    "This can be posed in two questions:\n",
    " - is it posssible to obtain a positive dissipation of an interface even for negative\n",
    "   value of $E_\\mathrm{T}$?\n",
    " - if yes, is it allowed to reach an inelastic domain in the tangential direction?"
   ]
  },
  {
   "cell_type": "code",
   "execution_count": null,
   "id": "c0fe8620-8489-44f8-933c-3edd80b1e866",
   "metadata": {},
   "outputs": [],
   "source": [
    "mp_microplane = {\n",
    " 'gamma_T': 1000,\n",
    " 'K_T': 1000,\n",
    " 'S_T': 0.000000001,\n",
    " 'c_T': 1,\n",
    " 'bartau': 3,\n",
    " 'S_N': 0.000000001,\n",
    " 'c_N': 1,\n",
    " 'm': 0.01,\n",
    " 'f_t': 3,\n",
    " 'f_c': 20,\n",
    " 'f_c0': 10,\n",
    " 'eta': 1.0}\n",
    "mpl = MSX(E = 28000, nu=0.2, eps_max=0.0001, n_eps=30, double_pvw=False)\n",
    "mpl.mic_.trait_set(debug=False, **mp_microplane);\n",
    "mpl.interact()"
   ]
  },
  {
   "cell_type": "code",
   "execution_count": null,
   "id": "1d8b7ee9-8374-4d86-a382-5d55aa5d5c1e",
   "metadata": {},
   "outputs": [],
   "source": []
  }
 ],
 "metadata": {
  "kernelspec": {
   "display_name": "bmcs_env",
   "language": "python",
   "name": "bmcs_env"
  },
  "language_info": {
   "codemirror_mode": {
    "name": "ipython",
    "version": 3
   },
   "file_extension": ".py",
   "mimetype": "text/x-python",
   "name": "python",
   "nbconvert_exporter": "python",
   "pygments_lexer": "ipython3"
  }
 },
 "nbformat": 4,
 "nbformat_minor": 5
}
