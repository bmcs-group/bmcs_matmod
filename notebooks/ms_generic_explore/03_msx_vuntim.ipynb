{
 "cells": [
  {
   "cell_type": "markdown",
   "id": "c1143535-2d2e-4f5b-9451-f6c5aa78b5aa",
   "metadata": {},
   "source": [
    "# **Microplane MS1 - uncoupled N-T interface**"
   ]
  },
  {
   "cell_type": "markdown",
   "id": "2d5112ec-31eb-4d77-8bc0-f1b4ad43fb4f",
   "metadata": {},
   "source": [
    "This sheets shows the application of the microplane integration\n",
    "on an example of VUNTIM (vectorized implementation of the uncoupled NT Interface Model."
   ]
  },
  {
   "cell_type": "code",
   "execution_count": null,
   "id": "83f63e78-3bbd-4515-9b2f-895b2b51c826",
   "metadata": {},
   "outputs": [],
   "source": [
    "%matplotlib widget\n",
    "from bmcs_matmod.msx import MSX\n",
    "import matplotlib.pylab as plt\n",
    "import numpy as np\n",
    "np.seterr(divide='ignore', invalid='ignore');"
   ]
  },
  {
   "cell_type": "markdown",
   "id": "1c5a1009-b3a6-4898-8398-f978165b7406",
   "metadata": {},
   "source": [
    "The example below demonstrate a case with ideally plastic response which delivers\n",
    "several peaks in the response. At the same time, it can be used to demonstrate that \n",
    "$\\nu \\leq 0.25$ leads does not deliver any solution upon return mapping due to a square root overflow.\n",
    "\n",
    "Once $E_\\mathrm{T}$ becomes negative, the return mapping algorithm cannot work properly.\n",
    "Is there some thermodynamically admissible interpretation of this case in the interface?\n",
    "This can be posed in two questions:\n",
    " - is it posssible to obtain a positive dissipation of an interface even for negative\n",
    "   value of $E_\\mathrm{T}$?\n",
    " - if yes, is it allowed to reach an inelastic domain in the tangential direction?"
   ]
  },
  {
   "cell_type": "code",
   "execution_count": null,
   "id": "d72b4f8d-0ea8-47a6-8306-850bc599475b",
   "metadata": {},
   "outputs": [],
   "source": [
    "E = 37000\n",
    "nu = 0.2\n",
    "mp = dict(          \n",
    "Ad = 800,\n",
    "eps_0  = 0.00007,\n",
    "sig_0  = 25,\n",
    "K_N = 14000,\n",
    "gamma_N = 8000,\n",
    "sig_T_0  = 2.2,\n",
    "K_T  = 1200,\n",
    "gamma_T  = 65000,\n",
    "S_T  = 0.0027,\n",
    "c_T  = 8.7,\n",
    "r_T  = 9.2,\n",
    "a  = 0.001,\n",
    "e_T  = 7.5)"
   ]
  },
  {
   "cell_type": "code",
   "execution_count": null,
   "id": "c0fe8620-8489-44f8-933c-3edd80b1e866",
   "metadata": {},
   "outputs": [],
   "source": [
    "%matplotlib widget\n",
    "mpl = MSX()\n",
    "mpl.trait_set(E=E, nu=nu, \n",
    "          mic='untim', eps_max=0.01, n_eps=30, double_pvw=True)\n",
    "mpl.mic_.trait_set(**mp)\n",
    "mpl.mic_.eps_max = 0.02\n",
    "mpl.interact()"
   ]
  },
  {
   "cell_type": "code",
   "execution_count": null,
   "id": "1d8b7ee9-8374-4d86-a382-5d55aa5d5c1e",
   "metadata": {},
   "outputs": [],
   "source": []
  },
  {
   "cell_type": "code",
   "execution_count": null,
   "id": "2dfdf46c-cbfe-4f7e-982c-7540b5d476ef",
   "metadata": {},
   "outputs": [],
   "source": [
    "from ibvpy.api import XDomainSinglePoint, MATS3DScalarDamage, TStepBC, BCDof\n",
    "xmodel = XDomainSinglePoint()\n",
    "m = TStepBC(\n",
    "    domains=[(xmodel, mpl),],\n",
    "    bc=[BCDof(\n",
    "            var='u', dof=0, value=-0.01,\n",
    "        )]\n",
    ")"
   ]
  },
  {
   "cell_type": "code",
   "execution_count": null,
   "id": "6d4273cf-9d56-41e0-8924-dadd1ef263f4",
   "metadata": {},
   "outputs": [],
   "source": [
    "xmodel.map_U_to_field(np.array([0,0,0,0,0,1]))"
   ]
  },
  {
   "cell_type": "code",
   "execution_count": null,
   "id": "c8c0ddc5-e393-43f0-8fb3-38238b684f2b",
   "metadata": {},
   "outputs": [],
   "source": [
    "sdomain, msx = m.domains[0]\n",
    "# mpl.get_corr_pred(**m.fe_domain[0].state_n)"
   ]
  },
  {
   "cell_type": "code",
   "execution_count": null,
   "id": "db0ae460-f111-49e9-8e55-55cd43dfc463",
   "metadata": {},
   "outputs": [],
   "source": [
    "m.sim.tline.trait_set(step=0.001)\n",
    "m.sim.reset()\n",
    "m.sim.run()"
   ]
  },
  {
   "cell_type": "code",
   "execution_count": null,
   "id": "bd25090f-46f0-4915-86b1-1823a4b4b916",
   "metadata": {},
   "outputs": [],
   "source": [
    "%matplotlib widget\n",
    "import matplotlib.pylab as plt\n",
    "_, (ax, ax_nu) = plt.subplots(1,2)\n",
    "ax.plot(m.hist.U_t[:,0], m.hist.F_t[:,0])\n",
    "ax.plot(m.hist.U_t[:,2], m.hist.F_t[:,0])\n",
    "ax_nu.plot(m.hist.U_t[:,0], -m.hist.U_t[:,1] / m.hist.U_t[:,0])"
   ]
  },
  {
   "cell_type": "code",
   "execution_count": null,
   "id": "1ed28361-96eb-446f-b5ad-7422c451c3ea",
   "metadata": {},
   "outputs": [],
   "source": []
  }
 ],
 "metadata": {
  "kernelspec": {
   "display_name": "bmcs_env",
   "language": "python",
   "name": "bmcs_env"
  },
  "language_info": {
   "codemirror_mode": {
    "name": "ipython",
    "version": 3
   },
   "file_extension": ".py",
   "mimetype": "text/x-python",
   "name": "python",
   "nbconvert_exporter": "python",
   "pygments_lexer": "ipython3"
  }
 },
 "nbformat": 4,
 "nbformat_minor": 5
}
