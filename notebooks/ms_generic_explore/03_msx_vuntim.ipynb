{
 "cells": [
  {
   "cell_type": "markdown",
   "id": "c1143535-2d2e-4f5b-9451-f6c5aa78b5aa",
   "metadata": {},
   "source": [
    "# **Microplane MS1 - uncoupled N-T interface**"
   ]
  },
  {
   "cell_type": "markdown",
   "id": "2d5112ec-31eb-4d77-8bc0-f1b4ad43fb4f",
   "metadata": {},
   "source": [
    "This sheets shows the application of the microplane integration\n",
    "on an example of VUNTIM (vectorized implementation of the uncoupled NT Interface Model."
   ]
  },
  {
   "cell_type": "code",
   "execution_count": 23,
   "id": "83f63e78-3bbd-4515-9b2f-895b2b51c826",
   "metadata": {},
   "outputs": [],
   "source": [
    "%matplotlib widget\n",
    "from bmcs_matmod.msx import MSX\n",
    "import matplotlib.pylab as plt\n",
    "import numpy as np\n",
    "np.seterr(divide='ignore', invalid='ignore');\n",
    "from bmcs_matmod.msx.energy_dissipation import EnergyDissipation\n",
    "from ibvpy.tfunction import TimeFunction, TFSelector, TFCyclicSin, TFCyclicNonsymmetricConstant\n",
    "from ibvpy.api import TStepBC, TFCyclicNonsymmetricConstant, TFBilinear\n",
    "\n"
   ]
  },
  {
   "cell_type": "markdown",
   "id": "1c5a1009-b3a6-4898-8398-f978165b7406",
   "metadata": {},
   "source": [
    "The example below demonstrate a case with ideally plastic response which delivers\n",
    "several peaks in the response. At the same time, it can be used to demonstrate that \n",
    "$\\nu \\leq 0.25$ leads does not deliver any solution upon return mapping due to a square root overflow.\n",
    "\n",
    "Once $E_\\mathrm{T}$ becomes negative, the return mapping algorithm cannot work properly.\n",
    "Is there some thermodynamically admissible interpretation of this case in the interface?\n",
    "This can be posed in two questions:\n",
    " - is it posssible to obtain a positive dissipation of an interface even for negative\n",
    "   value of $E_\\mathrm{T}$?\n",
    " - if yes, is it allowed to reach an inelastic domain in the tangential direction?"
   ]
  },
  {
   "cell_type": "code",
   "execution_count": 2,
   "id": "da0dc068-3d6d-4a1e-b40e-80f61ca4867a",
   "metadata": {},
   "outputs": [],
   "source": [
    "E = 37000\n",
    "nu = 0.2\n",
    "mp = dict(          \n",
    "Ad = 800,\n",
    "eps_0  = 0.00007,\n",
    "sig_0  = 25,\n",
    "K_N = 14000,\n",
    "gamma_N = 8000,\n",
    "sig_T_0  = 2.2,\n",
    "K_T  = 1200,\n",
    "gamma_T  = 65000,\n",
    "S_T  = 0.0027,\n",
    "c_T  = 8.7,\n",
    "r_T  = 9.2,\n",
    "a  = 0.001,\n",
    "e_T  = 7.5)"
   ]
  },
  {
   "cell_type": "code",
   "execution_count": 3,
   "id": "c0fe8620-8489-44f8-933c-3edd80b1e866",
   "metadata": {},
   "outputs": [
    {
     "data": {
      "application/vnd.jupyter.widget-view+json": {
       "model_id": "dc9ce33d987948c0920156ed5796f49a",
       "version_major": 2,
       "version_minor": 0
      },
      "text/plain": [
       "VBox(children=(HBox(children=(VBox(children=(Tree(layout=Layout(align_items='stretch', border='solid 1px black…"
      ]
     },
     "metadata": {},
     "output_type": "display_data"
    }
   ],
   "source": [
    "%matplotlib widget\n",
    "mpl = MSX()\n",
    "mpl.trait_set(E=E, nu=nu, \n",
    "          mic='untim', eps_max=0.01, n_eps=30, double_pvw=True)\n",
    "mpl.mic_.trait_set(**mp)\n",
    "mpl.mic_.eps_max = 0.02\n",
    "mpl.interact()"
   ]
  },
  {
   "cell_type": "code",
   "execution_count": 24,
   "id": "90684747-107c-4b37-a966-5d4c5ee3c2bd",
   "metadata": {},
   "outputs": [],
   "source": [
    "tf_precrompression = TFBilinear(loading_ratio = 1.0, time_ratio=0.1)\n",
    "tf_sliding = TFBilinear(loading_ratio = 0.0, time_ratio=0.1)"
   ]
  },
  {
   "cell_type": "code",
   "execution_count": 32,
   "id": "2dfdf46c-cbfe-4f7e-982c-7540b5d476ef",
   "metadata": {},
   "outputs": [],
   "source": [
    "from ibvpy.api import XDomainSinglePoint, MATS3DScalarDamage, TStepBC, BCDof\n",
    "xmodel = XDomainSinglePoint()\n",
    "m = TStepBC(\n",
    "    domains=[(xmodel, mpl),],\n",
    "    bc=[BCDof(\n",
    "            var='u', dof=3, value=-0.01,\n",
    "         time_function=tf_sliding) , BCDof(\n",
    "            var='f', dof=0, value=-10,\n",
    "         time_function=tf_precrompression)]\n",
    ")"
   ]
  },
  {
   "cell_type": "code",
   "execution_count": 34,
   "id": "c4d7bd95-f4a2-4b8d-87c0-142bf4ff87c5",
   "metadata": {},
   "outputs": [],
   "source": [
    "m.sim.tline.trait_set(step=0.001)\n",
    "m.sim.reset()\n",
    "m.sim.run()"
   ]
  },
  {
   "cell_type": "code",
   "execution_count": 35,
   "id": "c493c6ca-0454-4bfb-8935-9aa9fc52bd58",
   "metadata": {},
   "outputs": [],
   "source": [
    "sig_ab = m.fe_domain[0].xmodel.map_U_to_field(m.hist.F_t).squeeze()\n",
    "eps_ab = m.fe_domain[0].xmodel.map_U_to_field(m.hist.U_t).squeeze()"
   ]
  },
  {
   "cell_type": "code",
   "execution_count": 36,
   "id": "bd25090f-46f0-4915-86b1-1823a4b4b916",
   "metadata": {},
   "outputs": [
    {
     "data": {
      "application/vnd.jupyter.widget-view+json": {
       "model_id": "59e33a73de13470fbc88cba7502f687c",
       "version_major": 2,
       "version_minor": 0
      },
      "text/plain": [
       "Canvas(toolbar=Toolbar(toolitems=[('Home', 'Reset original view', 'home', 'home'), ('Back', 'Back to previous …"
      ]
     },
     "metadata": {},
     "output_type": "display_data"
    },
    {
     "data": {
      "text/plain": [
       "[<matplotlib.lines.Line2D at 0x28e63d1c730>]"
      ]
     },
     "execution_count": 36,
     "metadata": {},
     "output_type": "execute_result"
    }
   ],
   "source": [
    "%matplotlib widget\n",
    "import matplotlib.pylab as plt\n",
    "_, (ax, ax_nu) = plt.subplots(1,2)\n",
    "ax.plot(m.hist.U_t[:,3], m.hist.F_t[:,0])\n",
    "ax.plot(m.hist.U_t[:,3], m.hist.F_t[:,1])\n",
    "ax.plot(m.hist.U_t[:,3], m.hist.F_t[:,2])\n",
    "ax.plot(m.hist.U_t[:,3], m.hist.F_t[:,3])\n",
    "ax.plot(m.hist.U_t[:,3], m.hist.F_t[:,4])\n",
    "ax.plot(m.hist.U_t[:,3], m.hist.F_t[:,5])\n",
    "ax_nu.plot(m.hist.U_t[:,3], -m.hist.U_t[:,1] / m.hist.U_t[:,0])"
   ]
  },
  {
   "cell_type": "code",
   "execution_count": 37,
   "id": "a654e894-6eff-4849-8e8d-f259704dd638",
   "metadata": {},
   "outputs": [
    {
     "data": {
      "text/plain": [
       "(101, 3, 3)"
      ]
     },
     "execution_count": 37,
     "metadata": {},
     "output_type": "execute_result"
    }
   ],
   "source": [
    "eps_ab.shape"
   ]
  },
  {
   "cell_type": "code",
   "execution_count": 38,
   "id": "1ed28361-96eb-446f-b5ad-7422c451c3ea",
   "metadata": {},
   "outputs": [
    {
     "data": {
      "application/vnd.jupyter.widget-view+json": {
       "model_id": "dfc9af0b20984522b99c9e5de75c0f36",
       "version_major": 2,
       "version_minor": 0
      },
      "text/plain": [
       "Canvas(toolbar=Toolbar(toolitems=[('Home', 'Reset original view', 'home', 'home'), ('Back', 'Back to previous …"
      ]
     },
     "metadata": {},
     "output_type": "display_data"
    }
   ],
   "source": [
    "energydissipation = EnergyDissipation()\n",
    "fig = energydissipation.plot_energy_dissp(m,mpl.mic_, eps_ab, sig_ab)"
   ]
  },
  {
   "cell_type": "code",
   "execution_count": null,
   "id": "87c8bfde-e281-48bd-80be-6cf8bad2e67a",
   "metadata": {},
   "outputs": [],
   "source": []
  }
 ],
 "metadata": {
  "kernelspec": {
   "display_name": "bmcs_env",
   "language": "python",
   "name": "bmcs_env"
  },
  "language_info": {
   "codemirror_mode": {
    "name": "ipython",
    "version": 3
   },
   "file_extension": ".py",
   "mimetype": "text/x-python",
   "name": "python",
   "nbconvert_exporter": "python",
   "pygments_lexer": "ipython3",
   "version": "3.8.12"
  }
 },
 "nbformat": 4,
 "nbformat_minor": 5
}