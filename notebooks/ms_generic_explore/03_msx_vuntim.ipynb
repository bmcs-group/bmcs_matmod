{
 "cells": [
  {
   "cell_type": "markdown",
   "id": "c1143535-2d2e-4f5b-9451-f6c5aa78b5aa",
   "metadata": {},
   "source": [
    "# **Microplane MS1 - uncoupled N-T interface**"
   ]
  },
  {
   "cell_type": "markdown",
   "id": "2d5112ec-31eb-4d77-8bc0-f1b4ad43fb4f",
   "metadata": {},
   "source": [
    "This sheets shows the application of the microplane integration\n",
    "on an example of VUNTIM (vectorized implementation of the uncoupled NT Interface Model."
   ]
  },
  {
   "cell_type": "code",
   "execution_count": 4,
   "id": "83f63e78-3bbd-4515-9b2f-895b2b51c826",
   "metadata": {},
   "outputs": [],
   "source": [
    "%matplotlib widget\n",
    "from bmcs_matmod.msx import MSX\n",
    "import matplotlib.pylab as plt\n",
    "import numpy as np\n",
    "np.seterr(divide='ignore', invalid='ignore');"
   ]
  },
  {
   "cell_type": "markdown",
   "id": "1c5a1009-b3a6-4898-8398-f978165b7406",
   "metadata": {},
   "source": [
    "The example below demonstrate a case with ideally plastic response which delivers\n",
    "several peaks in the response. At the same time, it can be used to demonstrate that \n",
    "$\\nu \\leq 0.25$ leads does not deliver any solution upon return mapping due to a square root overflow.\n",
    "\n",
    "Once $E_\\mathrm{T}$ becomes negative, the return mapping algorithm cannot work properly.\n",
    "Is there some thermodynamically admissible interpretation of this case in the interface?\n",
    "This can be posed in two questions:\n",
    " - is it posssible to obtain a positive dissipation of an interface even for negative\n",
    "   value of $E_\\mathrm{T}$?\n",
    " - if yes, is it allowed to reach an inelastic domain in the tangential direction?"
   ]
  },
  {
   "cell_type": "code",
   "execution_count": 5,
   "id": "c0fe8620-8489-44f8-933c-3edd80b1e866",
   "metadata": {},
   "outputs": [
    {
     "data": {
      "application/vnd.jupyter.widget-view+json": {
       "model_id": "e09b1f4024234b039157ddc8216e881f",
       "version_major": 2,
       "version_minor": 0
      },
      "text/plain": [
       "VBox(children=(HBox(children=(VBox(children=(Tree(layout=Layout(align_items='stretch', border='solid 1px black…"
      ]
     },
     "metadata": {},
     "output_type": "display_data"
    }
   ],
   "source": [
    "mpl = MSX(E=28000, nu=0.2, \n",
    "          mic='untim', eps_max=0.01, n_eps=30, double_pvw=True)\n",
    "mpl.interact()"
   ]
  },
  {
   "cell_type": "code",
   "execution_count": null,
   "id": "1d8b7ee9-8374-4d86-a382-5d55aa5d5c1e",
   "metadata": {},
   "outputs": [],
   "source": []
  },
  {
   "cell_type": "code",
   "execution_count": null,
   "id": "2dfdf46c-cbfe-4f7e-982c-7540b5d476ef",
   "metadata": {},
   "outputs": [],
   "source": []
  }
 ],
 "metadata": {
  "kernelspec": {
   "display_name": "bmcs_env",
   "language": "python",
   "name": "bmcs_env"
  },
  "language_info": {
   "codemirror_mode": {
    "name": "ipython",
    "version": 3
   },
   "file_extension": ".py",
   "mimetype": "text/x-python",
   "name": "python",
   "nbconvert_exporter": "python",
   "pygments_lexer": "ipython3",
   "version": "3.9.0"
  }
 },
 "nbformat": 4,
 "nbformat_minor": 5
}
