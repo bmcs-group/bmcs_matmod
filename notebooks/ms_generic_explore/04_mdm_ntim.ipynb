{
 "cells": [
  {
   "cell_type": "markdown",
   "id": "f2c0b82e-3f18-4630-a28f-ac5ca0018728",
   "metadata": {},
   "source": [
    "# **Microplane damage model**"
   ]
  },
  {
   "cell_type": "code",
   "execution_count": 6,
   "id": "cc05e15e-c270-4533-8796-8af40945dd34",
   "metadata": {},
   "outputs": [],
   "source": [
    "%matplotlib widget\n",
    "from bmcs_matmod.msx import MSX\n",
    "from bmcs_matmod.ntim import VDNTIM\n",
    "import matplotlib.pylab as plt\n",
    "import numpy as np\n",
    "np.seterr(divide='ignore', invalid='ignore');"
   ]
  },
  {
   "cell_type": "code",
   "execution_count": 2,
   "id": "0c5b8979-a18b-4f3d-8a14-5ab752ee1a87",
   "metadata": {},
   "outputs": [],
   "source": [
    "vd = VDNTIM(E_T=10000, E_N=10000, eps_max=0.001)"
   ]
  },
  {
   "cell_type": "code",
   "execution_count": 3,
   "id": "548b755b-883a-4d85-8d4b-995760e4ff59",
   "metadata": {},
   "outputs": [
    {
     "data": {
      "application/vnd.jupyter.widget-view+json": {
       "model_id": "23243d4eb78c477c98e63c3e8e8d9ee6",
       "version_major": 2,
       "version_minor": 0
      },
      "text/plain": [
       "VBox(children=(HBox(children=(VBox(children=(Tree(layout=Layout(align_items='stretch', border='solid 1px black…"
      ]
     },
     "metadata": {},
     "output_type": "display_data"
    }
   ],
   "source": [
    "vd.interact()"
   ]
  },
  {
   "cell_type": "code",
   "execution_count": null,
   "id": "32126437-ecf4-47a6-997a-a8029332182d",
   "metadata": {},
   "outputs": [],
   "source": []
  },
  {
   "cell_type": "code",
   "execution_count": 4,
   "id": "19848f60-9caa-4816-a8be-e41a8c097e92",
   "metadata": {},
   "outputs": [],
   "source": [
    "mpl = MSX(E=34000, mic='dntim', nu=0.18)"
   ]
  },
  {
   "cell_type": "code",
   "execution_count": 5,
   "id": "1e892264-fbfd-440c-95ed-1e9281728ed7",
   "metadata": {},
   "outputs": [
    {
     "data": {
      "application/vnd.jupyter.widget-view+json": {
       "model_id": "d3a3fc01c08d40c7b18f45e2075f0857",
       "version_major": 2,
       "version_minor": 0
      },
      "text/plain": [
       "VBox(children=(HBox(children=(VBox(children=(Tree(layout=Layout(align_items='stretch', border='solid 1px black…"
      ]
     },
     "metadata": {},
     "output_type": "display_data"
    }
   ],
   "source": [
    "mpl.interact()"
   ]
  },
  {
   "cell_type": "code",
   "execution_count": null,
   "id": "3779b464-0173-448d-88f1-387c48806061",
   "metadata": {},
   "outputs": [],
   "source": []
  }
 ],
 "metadata": {
  "kernelspec": {
   "display_name": "bmcs_env",
   "language": "python",
   "name": "bmcs_env"
  },
  "language_info": {
   "codemirror_mode": {
    "name": "ipython",
    "version": 3
   },
   "file_extension": ".py",
   "mimetype": "text/x-python",
   "name": "python",
   "nbconvert_exporter": "python",
   "pygments_lexer": "ipython3",
   "version": "3.9.0"
  }
 },
 "nbformat": 4,
 "nbformat_minor": 5
}
