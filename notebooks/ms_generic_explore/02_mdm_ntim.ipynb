{
 "cells": [
  {
   "cell_type": "markdown",
   "id": "f2c0b82e-3f18-4630-a28f-ac5ca0018728",
   "metadata": {},
   "source": [
    "# **Microplane damage model**"
   ]
  },
  {
   "cell_type": "code",
   "execution_count": 1,
   "id": "cc05e15e-c270-4533-8796-8af40945dd34",
   "metadata": {},
   "outputs": [],
   "source": [
    "%matplotlib widget\n",
    "from bmcs_matmod.msx import MSX\n",
    "from bmcs_matmod.ntim import VDNTIM\n",
    "import matplotlib.pylab as plt\n",
    "import numpy as np\n",
    "np.seterr(divide='ignore', invalid='ignore');"
   ]
  },
  {
   "cell_type": "markdown",
   "id": "55fdf03c-a6be-4177-8036-ce592611aa3b",
   "metadata": {},
   "source": [
    "Choose the damage model with damage governed by equivalent microplane strain "
   ]
  },
  {
   "cell_type": "code",
   "execution_count": 15,
   "id": "19848f60-9caa-4816-a8be-e41a8c097e92",
   "metadata": {},
   "outputs": [],
   "source": [
    "mpl = MSX(E=34000, mic='dntim', nu=0.18, n_eps=10, eps_max=0.001)\n",
    "mpl.mic_.trait_set(eps_max=0.001);"
   ]
  },
  {
   "cell_type": "code",
   "execution_count": 17,
   "id": "ac052a00-aec0-432c-8a8f-7a1656373d12",
   "metadata": {},
   "outputs": [
    {
     "data": {
      "application/vnd.jupyter.widget-view+json": {
       "model_id": "47f6abf42471471a844b9c8fc65fc20d",
       "version_major": 2,
       "version_minor": 0
      },
      "text/plain": [
       "VBox(children=(HBox(children=(VBox(children=(Tree(layout=Layout(align_items='stretch', border='solid 1px black…"
      ]
     },
     "metadata": {},
     "output_type": "display_data"
    }
   ],
   "source": [
    "mpl.interact()"
   ]
  },
  {
   "cell_type": "markdown",
   "id": "6178ad54-18fb-4231-96a2-f58c994ebeb7",
   "metadata": {},
   "source": [
    "# How is the stress-strain curve obtained?\n",
    "\n",
    "The update_plot function runs"
   ]
  },
  {
   "cell_type": "code",
   "execution_count": 7,
   "id": "3779b464-0173-448d-88f1-387c48806061",
   "metadata": {},
   "outputs": [],
   "source": [
    "from ibvpy.api import XDomainSinglePoint, MATS3DScalarDamage, TStepBC, BCDof"
   ]
  },
  {
   "cell_type": "code",
   "execution_count": 8,
   "id": "bf4abe4d-fae3-4fe2-bfa6-a3f30693303f",
   "metadata": {},
   "outputs": [],
   "source": [
    "xmodel = XDomainSinglePoint()\n",
    "m_inelastic = MATS3DScalarDamage()\n",
    "m = TStepBC(\n",
    "    domains=[(xmodel, m_inelastic),],\n",
    "    bc=[BCDof(\n",
    "            var='u', dof=0, value=0.0001,\n",
    "        )]\n",
    ")"
   ]
  },
  {
   "cell_type": "code",
   "execution_count": 13,
   "id": "6bf48a05-4d8b-47f1-b995-70043e89ecfe",
   "metadata": {},
   "outputs": [
    {
     "data": {
      "text/latex": [
       "\n",
       "        \\begin{array}{lrrl}\\hline\n",
       "        \\textrm{min} & \\textrm{0.0} & & \\textrm{None}  \\\\\n",
       "                \\textrm{max} & \\textrm{1.0} & & \\textrm{None}  \\\\\n",
       "                \\textrm{step} & \\textrm{1.0} & & \\textrm{None}  \\\\\n",
       "                \\hline\n",
       "        \\hline\n",
       "        \\end{array}\n",
       "        "
      ],
      "text/plain": [
       "<ibvpy.sim.tline.TLine at 0x7fb14bd4ca40>"
      ]
     },
     "execution_count": 13,
     "metadata": {},
     "output_type": "execute_result"
    }
   ],
   "source": [
    "m.sim.tline.trait_set(step=1)"
   ]
  },
  {
   "cell_type": "code",
   "execution_count": 14,
   "id": "57874faf-238c-4eae-bd96-dcc074071c03",
   "metadata": {},
   "outputs": [],
   "source": [
    "m.sim.reset()\n",
    "m.sim.run()"
   ]
  },
  {
   "cell_type": "code",
   "execution_count": 15,
   "id": "7858bbe5-fa6c-4125-9d35-1b5d5244e126",
   "metadata": {},
   "outputs": [
    {
     "data": {
      "text/plain": [
       "(2, 6)"
      ]
     },
     "execution_count": 15,
     "metadata": {},
     "output_type": "execute_result"
    }
   ],
   "source": [
    "m.hist.F_t.shape"
   ]
  },
  {
   "cell_type": "code",
   "execution_count": null,
   "id": "55cc15cc-efca-4c81-9a57-17f2d86517b6",
   "metadata": {},
   "outputs": [],
   "source": []
  }
 ],
 "metadata": {
  "kernelspec": {
   "display_name": "bmcs_env",
   "language": "python",
   "name": "bmcs_env"
  },
  "language_info": {
   "codemirror_mode": {
    "name": "ipython",
    "version": 3
   },
   "file_extension": ".py",
   "mimetype": "text/x-python",
   "name": "python",
   "nbconvert_exporter": "python",
   "pygments_lexer": "ipython3",
   "version": "3.9.0"
  }
 },
 "nbformat": 4,
 "nbformat_minor": 5
}
