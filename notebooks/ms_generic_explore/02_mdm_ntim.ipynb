{
 "cells": [
  {
   "cell_type": "markdown",
   "id": "f2c0b82e-3f18-4630-a28f-ac5ca0018728",
   "metadata": {},
   "source": [
    "# **Microplane damage model**"
   ]
  },
  {
   "cell_type": "code",
   "execution_count": null,
   "id": "cc05e15e-c270-4533-8796-8af40945dd34",
   "metadata": {},
   "outputs": [],
   "source": [
    "%matplotlib widget\n",
    "from bmcs_matmod.msx import MSX\n",
    "from bmcs_matmod.ntim import VDNTIM\n",
    "import matplotlib.pylab as plt\n",
    "import numpy as np\n",
    "np.seterr(divide='ignore', invalid='ignore');"
   ]
  },
  {
   "cell_type": "markdown",
   "id": "55fdf03c-a6be-4177-8036-ce592611aa3b",
   "metadata": {},
   "source": [
    "Choose the damage model with damage governed by equivalent microplane strain "
   ]
  },
  {
   "cell_type": "code",
   "execution_count": null,
   "id": "19848f60-9caa-4816-a8be-e41a8c097e92",
   "metadata": {},
   "outputs": [],
   "source": [
    "mpl = MSX(E=34000, mic='dntim', nu=0.18, n_eps=10, eps_max=0.001)\n",
    "mpl.mic_.trait_set(eps_max=0.001, epsilon_t=0.0003);"
   ]
  },
  {
   "cell_type": "code",
   "execution_count": null,
   "id": "ac052a00-aec0-432c-8a8f-7a1656373d12",
   "metadata": {},
   "outputs": [],
   "source": [
    "mpl.interact()"
   ]
  },
  {
   "cell_type": "markdown",
   "id": "6178ad54-18fb-4231-96a2-f58c994ebeb7",
   "metadata": {},
   "source": [
    "# How is the stress-strain curve obtained?\n",
    "\n",
    "The update_plot function runs"
   ]
  },
  {
   "cell_type": "code",
   "execution_count": null,
   "id": "bf4abe4d-fae3-4fe2-bfa6-a3f30693303f",
   "metadata": {},
   "outputs": [],
   "source": [
    "from ibvpy.api import XDomainSinglePoint, MATS3DScalarDamage, TStepBC, BCDof\n",
    "xmodel = XDomainSinglePoint()\n",
    "m = TStepBC(\n",
    "    domains=[(xmodel, mpl),],\n",
    "    bc=[BCDof(\n",
    "            var='u', dof=0, value=0.001,\n",
    "        )]\n",
    ")\n",
    "m.sim.tline.trait_set(step=0.01)\n",
    "m.sim.reset()\n",
    "m.sim.run()"
   ]
  },
  {
   "cell_type": "code",
   "execution_count": null,
   "id": "7858bbe5-fa6c-4125-9d35-1b5d5244e126",
   "metadata": {},
   "outputs": [],
   "source": [
    "%matplotlib widget\n",
    "import matplotlib.pylab as plt\n",
    "_, (ax, ax_nu) = plt.subplots(1,2)\n",
    "ax.plot(m.hist.U_t[:,0], m.hist.F_t[:,0])\n",
    "ax.plot(m.hist.U_t[:,2], m.hist.F_t[:,0])\n",
    "ax_nu.plot(m.hist.U_t[:,0], -m.hist.U_t[:,1] / m.hist.U_t[:,0])"
   ]
  },
  {
   "cell_type": "code",
   "execution_count": null,
   "id": "55cc15cc-efca-4c81-9a57-17f2d86517b6",
   "metadata": {},
   "outputs": [],
   "source": []
  }
 ],
 "metadata": {
  "kernelspec": {
   "display_name": "bmcs_env",
   "language": "python",
   "name": "bmcs_env"
  },
  "language_info": {
   "codemirror_mode": {
    "name": "ipython",
    "version": 3
   },
   "file_extension": ".py",
   "mimetype": "text/x-python",
   "name": "python",
   "nbconvert_exporter": "python",
   "pygments_lexer": "ipython3"
  }
 },
 "nbformat": 4,
 "nbformat_minor": 5
}
