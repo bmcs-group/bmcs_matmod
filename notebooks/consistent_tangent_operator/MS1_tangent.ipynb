{
 "cells": [
  {
   "cell_type": "code",
   "execution_count": null,
   "id": "6b010c7f-5feb-425a-a153-6ab77c0eb186",
   "metadata": {},
   "outputs": [],
   "source": [
    "%matplotlib widget\n",
    "import sympy as sp\n",
    "import numpy as np\n",
    "import matplotlib.pylab as plt\n",
    "from mpl_toolkits.mplot3d import Axes3D\n",
    "# import ipyvolume as ipv\n",
    "import ipywidgets as ipw\n",
    "sp.init_printing()"
   ]
  },
  {
   "cell_type": "code",
   "execution_count": null,
   "id": "302c1ba8-3ef8-468b-9bff-96004cfbcd31",
   "metadata": {},
   "outputs": [],
   "source": [
    "# H = lambda x: sp.Piecewise( (0, x <=0 ), (1, True) )\n",
    "# x = sp.symbols('x')\n",
    "# sign = lambda x: sp.Piecewise( (-1, x <= 0 ), (1, True) )\n",
    "# sign(-2)"
   ]
  },
  {
   "cell_type": "code",
   "execution_count": null,
   "id": "3a668e93-abfb-4273-b350-5035bed0faf2",
   "metadata": {},
   "outputs": [],
   "source": [
    "sign = lambda x: 2*sp.Heaviside(x) - 1"
   ]
  },
  {
   "cell_type": "code",
   "execution_count": null,
   "id": "3b9fbd97-57c5-4a58-9789-a0e16e17985f",
   "metadata": {},
   "outputs": [],
   "source": [
    "sign(1)"
   ]
  },
  {
   "cell_type": "markdown",
   "id": "74df86e2-a648-4db3-b562-bcfeaccc0af7",
   "metadata": {},
   "source": [
    "## Tangential direction"
   ]
  },
  {
   "cell_type": "code",
   "execution_count": null,
   "id": "548bc935-147e-4a03-8816-5c1fafdc6211",
   "metadata": {},
   "outputs": [],
   "source": [
    "sigma_t_n1 = sp.symbols('\\sigma_{\\mathrm{T}_{n+1}}')\n",
    "sigma_t_n1_trial = sp.symbols('\\overline{\\sigma}_{\\mathrm{T}_{n+1}}')\n",
    "omega_t_n1 = sp.symbols('\\omega_{\\mathrm{T}_{n+1}}')\n",
    "epsilon_p_t_n1 = sp.symbols('\\epsilon^p_{\\mathrm{T}_{n+1}}')\n",
    "epsilon_p_t_n = sp.symbols('\\epsilon^p_{\\mathrm{T}_{n}}')\n",
    "epsilon_t_n1 = sp.symbols('\\epsilon_{\\mathrm{T}_{n+1}}')\n",
    "epsilon_t_n = sp.symbols('\\epsilon_{\\mathrm{T}_{n}}')\n",
    "E_t = sp.symbols('E_{\\mathrm{T}}', nonnegative=True)\n",
    "gamma = sp.symbols('\\gamma')\n",
    "alpha_n = sp.symbols('alpha_n')\n",
    "K = sp.symbols('K')\n",
    "p = sp.symbols('p', nonnegative=True)\n",
    "z_n = sp.symbols('z_n')"
   ]
  },
  {
   "cell_type": "code",
   "execution_count": null,
   "id": "7262a682-3617-48a9-8df2-a1266a0d8821",
   "metadata": {},
   "outputs": [],
   "source": [
    "omega_t_n = sp.symbols('\\omega_{\\mathrm{T}_{n}}')\n",
    "delta_lambda = sp.symbols('\\Delta\\lambda')\n",
    "c = sp.symbols('c', nonnegative=True)\n",
    "sigma_bar = sp.symbols('\\overline{\\sigma_{\\mathrm{T}}}', nonnegative=True)\n",
    "sigma_n_n = sp.symbols('\\sigma_{\\mathrm{N}_{n}}')\n",
    "Y_t_n1 = sp.symbols('Y_{\\mathrm{T}_{n+1}}')\n",
    "S = sp.symbols('S', nonnegative=True)\n",
    "m = sp.symbols('m', nonnegative=True)\n",
    "r = sp.symbols('r', nonnegative=True)"
   ]
  },
  {
   "cell_type": "code",
   "execution_count": null,
   "id": "07d70add-7e07-4b29-a742-0de140e58e6a",
   "metadata": {},
   "outputs": [],
   "source": [
    "sigma_t_n1_trial_ = E_t * (epsilon_t_n1 - epsilon_p_t_n)\n",
    "sigma_t_n1_trial_"
   ]
  },
  {
   "cell_type": "code",
   "execution_count": null,
   "id": "9003ac70-390e-4a84-8d3a-7afdb781c607",
   "metadata": {},
   "outputs": [],
   "source": [
    "# delta_lambda_ = (abs(E_t * (epsilon_t_n1 - epsilon_p_t_n) - gamma * alpha_n ) - K * z_n - sigma_bar + m * sigma_n_n ) / \\\n",
    "# (E_t / (1 - omega_t_n) + gamma + K)\n",
    "# delta_lambda_ \n",
    "\n",
    "# delta_lambda_ = (E_t * (epsilon_t_n1 - epsilon_t_n) * (sigma_t_n1_trial_ - gamma * alpha_n)/\n",
    "#                  sp.Abs(sigma_t_n1_trial_ - gamma * alpha_n)) / (E_t / (1 - omega_t_n) + gamma + K)\n",
    "\n",
    "delta_lambda_ = (E_t * (epsilon_t_n1 - epsilon_t_n) * sign(sigma_t_n1_trial_ - gamma * alpha_n) /\n",
    "                 (E_t / (1 - omega_t_n) + gamma + K))\n",
    "# delta_lambda_ = sp.simplify(delta_lambda_)\n",
    "delta_lambda_ "
   ]
  },
  {
   "cell_type": "code",
   "execution_count": null,
   "id": "9e7c88c0-c968-4e44-869a-6861912ffe57",
   "metadata": {},
   "outputs": [],
   "source": [
    "epsilon_p_t_n1_ = epsilon_p_t_n + (delta_lambda_ / (1 - omega_t_n)) * sign(sigma_t_n1_trial_ - gamma * alpha_n)\n",
    "# epsilon_p_t_n1_ = sp.simplify(epsilon_p_t_n1_)\n",
    "epsilon_p_t_n1_"
   ]
  },
  {
   "cell_type": "code",
   "execution_count": null,
   "id": "d9c8f3b5-ff0f-42c3-83ad-3a3df43630a5",
   "metadata": {},
   "outputs": [],
   "source": [
    "Y_t_n1_ = sp.Rational(1,2) * E_t * (epsilon_t_n1 - epsilon_p_t_n)**2\n",
    "# sp.simplify(Y_t_n1_)"
   ]
  },
  {
   "cell_type": "code",
   "execution_count": null,
   "id": "c11ffdba-5c61-4552-a8fd-2ebbbce63f4a",
   "metadata": {},
   "outputs": [],
   "source": [
    "omega_t_n1_ = omega_t_n + delta_lambda_ * (1 - omega_t_n) ** c * (sigma_bar/(sigma_bar - m*sigma_n_n))**p * (Y_t_n1_/S)**r\n",
    "omega_t_n1_"
   ]
  },
  {
   "cell_type": "code",
   "execution_count": null,
   "id": "53c9e79e-e4e9-4b9e-9998-4624e59e4c32",
   "metadata": {},
   "outputs": [],
   "source": [
    "sigma_t_n1_ = (1 - omega_t_n1_) * E_t * (epsilon_t_n1 - epsilon_p_t_n1_)\n",
    "sigma_t_n1_"
   ]
  },
  {
   "cell_type": "code",
   "execution_count": null,
   "id": "3dcd3be0-55ec-4dba-9d91-fee32e31f5f5",
   "metadata": {},
   "outputs": [],
   "source": [
    "c_T = sigma_t_n1_.diff(epsilon_t_n1)"
   ]
  },
  {
   "cell_type": "code",
   "execution_count": null,
   "id": "fe1e5d73-55d7-4cb4-8718-9ddb0d716b40",
   "metadata": {
    "tags": []
   },
   "outputs": [],
   "source": [
    "c_T"
   ]
  },
  {
   "cell_type": "markdown",
   "id": "2d8c1a7c-5af5-4d5c-a006-604fc1bbee7f",
   "metadata": {},
   "source": []
  },
  {
   "cell_type": "markdown",
   "id": "3f60c6d9-d88f-49cf-a44d-1c6e8da64467",
   "metadata": {
    "tags": []
   },
   "source": [
    "## Normal direction"
   ]
  },
  {
   "cell_type": "code",
   "execution_count": null,
   "id": "482c6a3c-fe4b-4939-8fe2-1b4d96015edc",
   "metadata": {},
   "outputs": [],
   "source": [
    "sigma_N_n1 = sp.symbols('\\sigma_{\\mathrm{N}_{n+1}}')\n",
    "sigma_N_n1_trial = sp.symbols('\\overline{\\sigma}_{\\mathrm{N}_{n+1}}')\n",
    "omega_N_n1 = sp.symbols('\\omega_{\\mathrm{N}_{n+1}}')\n",
    "omega_N_n = sp.symbols('\\omega_{\\mathrm{N}_{n}}')\n",
    "epsilon_p_N_n1 = sp.symbols('\\epsilon^p_{\\mathrm{N}_{n+1}}')\n",
    "epsilon_p_N_n = sp.symbols('\\epsilon^p_{\\mathrm{N}_{n}}')\n",
    "epsilon_N_n1 = sp.symbols('\\epsilon_{\\mathrm{N}_{n+1}}')\n",
    "epsilon_N_n = sp.symbols('\\epsilon_{\\mathrm{N}_{n}}')\n",
    "E_N = sp.symbols('E_{\\mathrm{N}}')\n",
    "gamma_N = sp.symbols('\\gamma_{\\mathrm{N}}')\n",
    "alpha_N_n = sp.symbols('alpha_{\\mathrm{N}_{n}}')\n",
    "r_N_n = sp.symbols('r_{\\mathrm{N}_{n}}')\n",
    "K_N = sp.symbols('K_{\\mathrm{N}}')\n",
    "X_N = sp.symbols('K_{\\mathrm{N}}')\n",
    "A_d = sp.symbols('A_{\\mathrm{d}}')"
   ]
  },
  {
   "cell_type": "code",
   "execution_count": null,
   "id": "0940a9e1-c87e-4589-af4b-6e3f2a28c93d",
   "metadata": {},
   "outputs": [],
   "source": [
    "sigma_trial_ = E_N * (epsilon_N_n1 - epsilon_p_N_n)"
   ]
  },
  {
   "cell_type": "markdown",
   "id": "481a4a6e-e0d2-477a-9363-1f0e80681d1d",
   "metadata": {},
   "source": [
    "## Tension"
   ]
  },
  {
   "cell_type": "code",
   "execution_count": null,
   "id": "48eba2b7-0803-47a4-b93e-ed8d85489df9",
   "metadata": {},
   "outputs": [],
   "source": [
    "delta_lambda_omena_N_ = E_N * (epsilon_N_n1 - epsilon_N_n) * epsilon_N_n * A_d * (1 + r_N_n)**2\n",
    "delta_lambda_omena_N_"
   ]
  },
  {
   "cell_type": "code",
   "execution_count": null,
   "id": "87eacea2-0393-43bf-8472-a326a14da618",
   "metadata": {},
   "outputs": [],
   "source": [
    "omega_N_n1_ = omega_N_n + delta_lambda_omena_N_\n",
    "omega_N_n1_"
   ]
  },
  {
   "cell_type": "code",
   "execution_count": null,
   "id": "b1118f05-08df-482c-9226-4cd1e32dfa2c",
   "metadata": {},
   "outputs": [],
   "source": [
    "sigma_tension_N = (1 - omega_N_n1_) * E_n * (epsilon_N_n1 - epsilon_p_N_n)"
   ]
  },
  {
   "cell_type": "code",
   "execution_count": null,
   "id": "c10b289d-31b6-4685-b5e9-63287c2c264c",
   "metadata": {},
   "outputs": [],
   "source": [
    "C_tension = sigma_tension_n.diff(epsilon_N_n1)\n",
    "C_tension"
   ]
  },
  {
   "cell_type": "markdown",
   "id": "aece5ea9-e6b6-4ec7-a6c7-affc47980fdc",
   "metadata": {},
   "source": [
    "## Compression"
   ]
  },
  {
   "cell_type": "code",
   "execution_count": null,
   "id": "cc81edc0-680a-4ca2-8f54-6d0e2c56a020",
   "metadata": {},
   "outputs": [],
   "source": [
    "delta_lambda_plastic_N_ = (E_N * (epsilon_N_n1 - epsilon_p_N_n) * (sigma_trial_ - X_N)/abs(sigma_trial_ - X_N))/(E_N + K_N + gamma_N)\n",
    "delta_lambda_plastic_N_"
   ]
  },
  {
   "cell_type": "code",
   "execution_count": null,
   "id": "3894fe76-f05c-4f5a-8d94-020f64c57f2c",
   "metadata": {},
   "outputs": [],
   "source": [
    "epsilon_p_N_n1_ = epsilon_p_N_n + delta_lambda_plastic_N_ * (sigma_trial_ - X_N)/abs(sigma_trial_ - X_N)\n",
    "epsilon_p_N_n1_"
   ]
  },
  {
   "cell_type": "code",
   "execution_count": null,
   "id": "8a95db27-3ac6-4ecc-8cd7-507cc29c84da",
   "metadata": {},
   "outputs": [],
   "source": [
    "sigma_compression_N_ = E_N * (epsilon_n_n1 - epsilon_p_N_n1_)\n",
    "sigma_compression_N_"
   ]
  },
  {
   "cell_type": "code",
   "execution_count": null,
   "id": "cd4da261-eab0-4120-97f6-d50498fecfc0",
   "metadata": {},
   "outputs": [],
   "source": [
    "C_compression = sigma_compression_N_.diff(epsilon_n_n1)\n",
    "C_compression"
   ]
  },
  {
   "cell_type": "code",
   "execution_count": null,
   "id": "5ad7dd00-ab57-46bc-b69f-3062b0f001e8",
   "metadata": {},
   "outputs": [],
   "source": []
  }
 ],
 "metadata": {
  "kernelspec": {
   "display_name": "bmcs_env",
   "language": "python",
   "name": "bmcs_env"
  },
  "language_info": {
   "codemirror_mode": {
    "name": "ipython",
    "version": 3
   },
   "file_extension": ".py",
   "mimetype": "text/x-python",
   "name": "python",
   "nbconvert_exporter": "python",
   "pygments_lexer": "ipython3"
  }
 },
 "nbformat": 4,
 "nbformat_minor": 5
}
