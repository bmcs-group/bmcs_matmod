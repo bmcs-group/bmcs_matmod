{
 "cells": [
  {
   "cell_type": "markdown",
   "metadata": {},
   "source": [
    "\n",
    "\n",
    "\n",
    "\n",
    "\n",
    "\n",
    "\n",
    "\n",
    "\n",
    "\n",
    "\n",
    "\n",
    "\n",
    "\n",
    "\n",
    "\n",
    "\n",
    "\n",
    "\n",
    "\n",
    "\n",
    "\n",
    "\n",
    "\n",
    "\n",
    "\n",
    "\n",
    "\n",
    "\n",
    "\n",
    "\n",
    "\n",
    "\n",
    "\n",
    "\n",
    "\n",
    "\n",
    "\n",
    "\n",
    "\n",
    "\n",
    "\n",
    "\n",
    "\n",
    "\n",
    "\n",
    "\n",
    "\n",
    "# PMD: Elasto-plasticity with isotropic hardening\n",
    "\n",
    "Associated, rate-independent plasticity. Standard Lagrangian is sufficient.\n",
    "\n",
    "Application of GSM MPDP - with zero rate-independent dissipation potential\n",
    "\n",
    "This notebook is the starting point towards generalization of GSM MDPD for\n",
    " - rate-dependent models\n",
    " - non-associated models"
   ]
  },
  {
   "cell_type": "code",
   "execution_count": null,
   "metadata": {},
   "outputs": [],
   "source": [
    "%matplotlib widget\n",
    "from bmcs_matmod.gsm.gsm_mpdp import GSMMPDP\n",
    "from bmcs_matmod.gms.gms_models import GMS1D_EVPD\n",
    "import matplotlib.pylab as plt\n",
    "import sympy as sp\n",
    "import numpy as np\n",
    "from bmcs_utils.api import Cymbol\n",
    "sp.init_printing()"
   ]
  },
  {
   "cell_type": "markdown",
   "metadata": {},
   "source": [
    "### Helmholtz free energy"
   ]
  },
  {
   "cell_type": "code",
   "execution_count": null,
   "metadata": {},
   "outputs": [],
   "source": [
    "\n",
    "E = sp.Symbol(r'E', codename='E_', real=True, nonnegative=True)\n",
    "K = sp.Symbol(r'K', codename='K_', real=True)\n",
    "S = sp.Symbol(r'S', real=True, nonnegative=True)\n",
    "c = sp.Symbol(r'c', real=True, nonnegative=True)\n",
    "r = sp.Symbol(r'r', real=True, nonnegative=True)\n",
    "f_c = sp.Symbol(r'f_\\mathrm{c}', codename='f_c_')\n",
    "eta_vp = sp.Symbol(r'\\eta_\\mathrm{vp}', real=True, nonnegative=True)\n",
    "\n",
    "mparams = (E, K, f_c, S, c, r, eta_vp)\n",
    "\n",
    "# ## External state variables\n",
    "\n",
    "eps = sp.Symbol(r'\\varepsilon', codename='eps_', real=True)\n",
    "eps_a = sp.Matrix([eps])\n",
    "sig = sp.Symbol(r'\\sigma', codename='sig_', real=True)\n",
    "sig_a = sp.Matrix([sig])\n",
    "\n",
    "# ## Internal state variables\n",
    "\n",
    "eps_p = sp.Symbol(r'\\varepsilon^\\mathrm{p}', codename='eps_p_', real=True)\n",
    "eps_p_a = sp.Matrix([eps_p])\n",
    "sig_p = sp.Symbol(r'\\sigma^\\mathrm{p}', codename='sig_p_', real=True)\n",
    "sig_p_a = sp.Matrix([sig_p])\n",
    "\n",
    "omega = sp.Symbol(r'\\omega', real=True)\n",
    "omega_a = sp.Matrix([omega])\n",
    "Y = sp.Symbol(r'Y', real=True)\n",
    "Y_a = sp.Matrix([Y])\n",
    "\n",
    "z = sp.Symbol(r'z', codename='z_', real=True, nonnegative=True)\n",
    "z_a = sp.Matrix([z])\n",
    "Z = sp.Symbol(r'Z', codename='Z_', real=True, nonnegative=True)\n",
    "Z_a = sp.Matrix([Z])\n",
    "\n",
    "# ## Free energy potential\n",
    "eps_el = eps - eps_p\n",
    "U_e_ = sp.Rational(1,2) * (1 - omega) * E * eps_el**2\n",
    "U_p_ =  sp.Rational(1,2) * K * z**2\n",
    "F_ = U_e_ + U_p_\n",
    "\n",
    "# ## Flow potential\n",
    "f_ = sp.sqrt((sig_p/(1-omega))**2) - (f_c + Z)\n",
    "\n",
    "Eps_vars = (eps_p_a, omega_a, z_a)\n",
    "Sig_vars = (sig_p_a, Y_a, Z_a)\n",
    "Sig_signs =  (-1, -1, 1)\n"
   ]
  },
  {
   "cell_type": "markdown",
   "metadata": {},
   "source": [
    "### GSM drivers"
   ]
  },
  {
   "cell_type": "code",
   "execution_count": null,
   "metadata": {},
   "outputs": [],
   "source": [
    "gsm_epd = GSMMPDP(\n",
    "    name = 'gsm_F_1d_mpdp_epd_lih',\n",
    "    u_vars = eps_a,\n",
    "    sig_vars = sig_a,\n",
    "    m_params = mparams,\n",
    "    Eps_vars = Eps_vars,\n",
    "    Sig_vars = Sig_vars,\n",
    "    Sig_signs = Sig_signs,\n",
    "    F_expr = F_,\n",
    "    f_expr = f_,\n",
    "    phi_ext_expr = (1 - omega)**c * (S/(r+1)) * (Y/ S)**(r+1)\n",
    ")\n",
    "dot_eps_p_ = gsm_epd.dot_Eps[0, 0]\n",
    "sig_p_ = gsm_epd.Sig[0, 0]\n",
    "f_d_ = gsm_epd.f_expr - eta_vp * dot_eps_p_\n",
    "gsm_epd.f_expr = f_d_\n",
    "gsm_epd.phi_ext_expr = gsm_epd.dot_eps * (1 - omega)**c * (S/(r+1)) * (Y/ S)**(r+1)"
   ]
  },
  {
   "cell_type": "code",
   "execution_count": null,
   "metadata": {},
   "outputs": [],
   "source": [
    "gsm_epd.Sig_, gsm_epd.phi_.diff(gsm_epd.Sig.as_explicit()), gsm_epd.Y_, gsm_epd.Phi_"
   ]
  },
  {
   "cell_type": "code",
   "execution_count": null,
   "metadata": {},
   "outputs": [],
   "source": [
    "(gamma_mech, L_, dL_dS_, dL_dS_A_, dR_dA_n1), (eps_n, delta_eps, Eps_n, delta_A, delta_t, _, _), Sig_n1, f_n1, R_n1, dR_dA_OI_n1 = gsm_epd.Sig_f_R_dR_n1\n",
    "gamma_mech"
   ]
  },
  {
   "cell_type": "code",
   "execution_count": null,
   "metadata": {},
   "outputs": [],
   "source": [
    "gsm_epd.F_expr"
   ]
  },
  {
   "cell_type": "code",
   "execution_count": null,
   "metadata": {},
   "outputs": [],
   "source": []
  },
  {
   "cell_type": "code",
   "execution_count": null,
   "metadata": {},
   "outputs": [],
   "source": [
    "L_"
   ]
  },
  {
   "cell_type": "code",
   "execution_count": null,
   "metadata": {},
   "outputs": [],
   "source": [
    "dL_dS_"
   ]
  },
  {
   "cell_type": "code",
   "execution_count": null,
   "metadata": {},
   "outputs": [],
   "source": [
    "R_n1_subs = R_n1.replace(sp.sign, lambda x: 1)\n",
    "R_n1_subs"
   ]
  },
  {
   "cell_type": "code",
   "execution_count": null,
   "metadata": {},
   "outputs": [],
   "source": [
    "delta_A"
   ]
  },
  {
   "cell_type": "code",
   "execution_count": null,
   "metadata": {},
   "outputs": [],
   "source": [
    "dR_dA_n1_subs = dR_dA_n1.replace(sp.sign, lambda x: 1)\n",
    "dR_dA_n1_subs"
   ]
  },
  {
   "cell_type": "code",
   "execution_count": null,
   "metadata": {},
   "outputs": [],
   "source": [
    "Sig_n1"
   ]
  },
  {
   "cell_type": "markdown",
   "metadata": {},
   "source": [
    "## Monotonic strain-driven loading"
   ]
  },
  {
   "cell_type": "code",
   "execution_count": null,
   "metadata": {},
   "outputs": [],
   "source": [
    "mparams = {E:1, K:1, f_c:1, c:1, r:1, S:2, eta_vp:1}\n",
    "margs = [mparams[p] for p in mparams]\n",
    "n_t = 151\n",
    "n_I = 1\n",
    "eps_max = 8\n",
    "t_t = np.linspace(0, 10, n_t)\n",
    "eps_n_t = np.linspace(0, eps_max, n_t)\n",
    "Eps_n_Ib = np.zeros((n_I, gsm_epd.n_Eps), dtype=np.float64)\n",
    "t_t, eps_ta, Eps_t, Sig_t, iter_t, lam_t, (d_t_t, d_eps_ta) = gsm_epd.get_response(eps_n_t, t_t, 100, *margs)\n",
    "# Plot viscoplastic strain and damage along time\n",
    "eps_t = eps_ta[:, 0]\n",
    "eps_p_t, omega_t, z_t = Eps_t[:, 0, :].T\n",
    "sig_p_t, Y_t, Z_t = Sig_t[:, 0, :].T"
   ]
  },
  {
   "cell_type": "code",
   "execution_count": null,
   "metadata": {},
   "outputs": [],
   "source": [
    "fig, (ax_sig, ax_omega) = plt.subplots(1, 2, figsize=(12, 4))\n",
    "\n",
    "# Plot stress-strain and iterations-strain curves\n",
    "ax_iter = ax_sig.twinx()\n",
    "ax_eps = ax_omega.twinx()\n",
    "\n",
    "ax_sig.plot(eps_t, sig_p_t, color='cadetblue', label=r'$\\varepsilon$')\n",
    "ax_sig.plot(eps_t-eps_p_t, Sig_t[:,:,0], ls='dashed', color='cadetblue', label=r'$\\varepsilon-\\varepsilon^\\mathrm{ve}$')\n",
    "ax_sig.set_ylabel(r'$\\sigma$', color='darkslategray')\n",
    "ax_sig.set_xlabel(r'$\\varepsilon$')\n",
    "ax_sig.legend()\n",
    "\n",
    "ax_iter.plot(eps_t, iter_t, ls='dashed', color='gray', lw=0.5)\n",
    "ax_iter.set_ylabel(r'$k$', color='gray')\n",
    "\n",
    "ax_omega.plot(t_t, omega_t, label='Damage', color='brown')\n",
    "ax_eps.plot(t_t, eps_t, label=r'$\\varepsilon$', color='cadetblue', lw=1)\n",
    "ax_eps.plot(t_t, eps_p_t, label=r'$\\varepsilon_\\mathrm{vp}$', color='cadetblue', ls='dashed', lw=1)\n",
    "ax_eps.legend()\n",
    "ax_omega.set_xlabel(r'$t$')\n",
    "ax_omega.set_ylabel(r'$\\omega$', color='brown')\n",
    "ax_eps.set_ylabel(r'$\\varepsilon$', color='cadetblue')\n",
    "\n",
    "plt.tight_layout()\n",
    "plt.show()"
   ]
  },
  {
   "cell_type": "code",
   "execution_count": null,
   "metadata": {},
   "outputs": [],
   "source": [
    "%matplotlib widget\n",
    "mparams = {E:1, K:1, f_c:1, c:1, r:1, S:1, eta_vp:1}\n",
    "margs = [mparams[p] for p in mparams]\n",
    "n_t = 200\n",
    "n_I = 1\n",
    "eps_max = 3\n",
    "t_t = np.linspace(0, 1, n_t)\n",
    "\n",
    "eps_n_t = np.linspace(0, eps_max, n_t)\n",
    "t_t = np.hstack([t_t, np.linspace(1, 2, n_t)[1:], np.linspace(2, 3, n_t)[1:], np.linspace(3, 4, n_t)[1:]])\n",
    "eps_n_t = np.hstack([eps_n_t, eps_n_t[-1] - 0 * eps_n_t[1:], eps_n_t[-1::-1], 0*eps_n_t[-1::-1]])\n",
    "fig, ax = plt.subplots(1,1)\n",
    "ax.plot(eps_n_t)"
   ]
  },
  {
   "cell_type": "code",
   "execution_count": null,
   "metadata": {},
   "outputs": [],
   "source": [
    "t_t, eps_ta, Eps_t, Sig_t, iter_t, lam_t, (d_t_t, d_eps_ta) = gsm_epd.get_response(eps_n_t, t_t, 100, *margs)\n",
    "# Plot viscoplastic strain and damage along time\n",
    "eps_t = eps_ta[:, 0]\n",
    "eps_p_t, omega_t, z_t = Eps_t[:, 0, :].T\n",
    "sig_p_t, Y_t, Z_t = Sig_t[:, 0, :].T\n",
    "\n",
    "fig, (ax_sig, ax_omega) = plt.subplots(1, 2, figsize=(12, 4))\n",
    "\n",
    "# Plot stress-strain and iterations-strain curves\n",
    "ax_iter = ax_sig.twinx()\n",
    "ax_eps = ax_omega.twinx()\n",
    "\n",
    "ax_sig.plot(eps_t, sig_p_t, color='cadetblue', label=r'$\\varepsilon$')\n",
    "ax_sig.plot(eps_t-eps_p_t, Sig_t[:,:,0], ls='dashed', color='cadetblue', label=r'$\\varepsilon-\\varepsilon^\\mathrm{ve}$')\n",
    "ax_sig.set_ylabel(r'$\\sigma$', color='darkslategray')\n",
    "ax_sig.set_xlabel(r'$\\varepsilon$')\n",
    "ax_sig.legend()\n",
    "\n",
    "ax_iter.plot(eps_t, iter_t, ls='dashed', color='gray', lw=0.5)\n",
    "ax_iter.set_ylabel(r'$k$', color='gray')\n",
    "\n",
    "ax_omega.plot(t_t, omega_t, label='Damage', color='brown')\n",
    "ax_eps.plot(t_t, eps_t, label=r'$\\varepsilon$', color='cadetblue', lw=1)\n",
    "ax_eps.plot(t_t, eps_p_t, label=r'$\\varepsilon_\\mathrm{vp}$', color='cadetblue', ls='dashed', lw=1)\n",
    "ax_eps.legend()\n",
    "ax_omega.set_xlabel(r'$t$')\n",
    "ax_omega.set_ylabel(r'$\\omega$', color='brown')\n",
    "ax_eps.set_ylabel(r'$\\varepsilon$', color='cadetblue')\n",
    "\n",
    "plt.tight_layout()\n",
    "plt.show()"
   ]
  },
  {
   "cell_type": "markdown",
   "metadata": {},
   "source": [
    "## Vectorized evaluation"
   ]
  },
  {
   "cell_type": "code",
   "execution_count": null,
   "metadata": {},
   "outputs": [],
   "source": [
    "mparams = {E:1, K:1, f_c:1, c:1, r:1, S:1, eta_vp:1}\n",
    "margs = [mparams[p] for p in mparams]\n",
    "eps_n_I = np.array([0, 1.0, 1.0, -1.0, 0, 0], dtype=np.float64)\n",
    "d_eps_I = np.array([0.1, -0.1, 0.1, -0.1, 1.1, -1.1], dtype=np.float64)\n",
    "# eps_n_I = np.array([0, 1.0, 1.0, -1.0, 0], dtype=np.float64)\n",
    "# d_eps_I = np.array([0.1, -0.1, 0.1, -0.1, 1.1], dtype=np.float64)\n",
    "n_I = eps_n_I.shape[0]\n",
    "d_t = 1\n",
    "Eps_n_Ib = np.zeros((n_I, gsm_epd.n_Eps), dtype=np.float64)\n",
    "\n",
    "Eps_n1_Ib, Sig_n1_Ib, lam_I, k_I = gsm_epd.get_state_n1(eps_n_I, d_eps_I, d_t, Eps_n_Ib, 30, *margs )\n",
    "Eps_n1_Ib, Sig_n1_Ib, lam_I, k_I"
   ]
  },
  {
   "cell_type": "code",
   "execution_count": null,
   "metadata": {},
   "outputs": [],
   "source": []
  }
 ],
 "metadata": {
  "kernelspec": {
   "display_name": "bmcs_matmod",
   "language": "python",
   "name": "python3"
  },
  "language_info": {
   "codemirror_mode": {
    "name": "ipython",
    "version": 3
   },
   "file_extension": ".py",
   "mimetype": "text/x-python",
   "name": "python",
   "nbconvert_exporter": "python",
   "pygments_lexer": "ipython3"
  }
 },
 "nbformat": 4,
 "nbformat_minor": 2
}
