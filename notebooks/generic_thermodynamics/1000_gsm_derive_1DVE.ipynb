{
 "cells": [
  {
   "cell_type": "markdown",
   "metadata": {},
   "source": [
    "## Kelvin-Voigt - parallel"
   ]
  },
  {
   "cell_type": "code",
   "execution_count": null,
   "metadata": {},
   "outputs": [],
   "source": [
    "from bmcs_utils.api import Cymbol\n",
    "import sympy as sp\n",
    "sp.init_printing()"
   ]
  },
  {
   "cell_type": "code",
   "execution_count": null,
   "metadata": {},
   "outputs": [],
   "source": [
    "sig = Cymbol(r'\\sigma', codename='sig')\n",
    "eps = Cymbol(r'\\varepsilon', codename='eps')\n",
    "dot_eps = Cymbol(r'\\dot{\\varepsilon}', codename='dot_eps')"
   ]
  },
  {
   "cell_type": "code",
   "execution_count": null,
   "metadata": {},
   "outputs": [],
   "source": [
    "t = Cymbol(r't')\n",
    "tau = Cymbol(r'\\tau', codename='tau')\n",
    "eps_t = sp.Function(r'epsilon')(t)\n",
    "dot_eps_t = eps_t.diff(t)"
   ]
  },
  {
   "cell_type": "code",
   "execution_count": null,
   "metadata": {},
   "outputs": [],
   "source": [
    "eps_t, dot_eps_t"
   ]
  },
  {
   "cell_type": "code",
   "execution_count": null,
   "metadata": {},
   "outputs": [],
   "source": [
    "E = Cymbol(r'E')\n",
    "eta = Cymbol(r'\\eta', codename='eta')"
   ]
  },
  {
   "cell_type": "code",
   "execution_count": null,
   "metadata": {},
   "outputs": [],
   "source": [
    "sig_t = E * eps_t + eta * dot_eps_t\n",
    "sig_t"
   ]
  },
  {
   "cell_type": "code",
   "execution_count": null,
   "metadata": {},
   "outputs": [],
   "source": [
    "Phi_t = sp.integrate(sig_t, (eps_t, 0, eps))\n",
    "Phi_t\n"
   ]
  },
  {
   "cell_type": "markdown",
   "metadata": {},
   "source": [
    "## Maxwell - serial"
   ]
  },
  {
   "cell_type": "code",
   "execution_count": null,
   "metadata": {},
   "outputs": [],
   "source": [
    "eps_e = Cymbol(r'\\varepsilon_\\mathrm{e}', codename='eps_e')\n",
    "eps_v = Cymbol(r'\\varepsilon_\\mathrm{v}', codename='eps_e')\n"
   ]
  },
  {
   "cell_type": "code",
   "execution_count": null,
   "metadata": {},
   "outputs": [],
   "source": [
    "# sig = Cymbol(r'\\sigma', codename='sig')\n",
    "# dot_sig = Cymbol(r'\\dot{\\sigma}', codename='dot_sig')\n",
    "sig_t = sp.Function(r'sigma')(t)\n",
    "dot_sig_t = sig_t.diff(t)"
   ]
  },
  {
   "cell_type": "code",
   "execution_count": null,
   "metadata": {},
   "outputs": [],
   "source": [
    "eps_t_ = sig_t / E + dot_sig_t / eta\n",
    "eps_t_"
   ]
  },
  {
   "cell_type": "code",
   "execution_count": null,
   "metadata": {},
   "outputs": [],
   "source": [
    "G_t = sp.integrate(eps_t_, sig_t)\n",
    "G_t\n"
   ]
  },
  {
   "cell_type": "code",
   "execution_count": null,
   "metadata": {},
   "outputs": [],
   "source": [
    "G_t.diff(sig_t)"
   ]
  },
  {
   "cell_type": "code",
   "execution_count": null,
   "metadata": {},
   "outputs": [],
   "source": [
    "sp.simplify(sp.solve(sp.Eq(eps_t, G_t.diff(sig_t)), sig_t)[0])"
   ]
  },
  {
   "cell_type": "code",
   "execution_count": null,
   "metadata": {},
   "outputs": [],
   "source": [
    "import numpy as np\n",
    "import matplotlib.pyplot as plt\n",
    "\n",
    "# Material properties\n",
    "E = 210e9  # Young's modulus in Pascals (Pa)\n",
    "eta = 20*E  # Viscosity in Pa.s\n",
    "\n",
    "# Simulation parameters\n",
    "time_steps = 1000\n",
    "total_time_slow = 100  # Slow process over 100 seconds\n",
    "total_time_fast = 10   # Fast process over 10 seconds\n",
    "target_strain = 0.001  # Total strain\n",
    "\n",
    "# Time increments for each process\n",
    "dt_slow = total_time_slow / time_steps\n",
    "dt_fast = total_time_fast / time_steps\n",
    "\n",
    "# Create time arrays\n",
    "times_slow = np.linspace(0, total_time_slow, time_steps)\n",
    "times_fast = np.linspace(0, total_time_fast, time_steps)\n",
    "\n",
    "# Define strain rates (constant rate loading) for slow and fast processes\n",
    "slow_rate = target_strain / total_time_slow\n",
    "fast_rate = target_strain / total_time_fast\n",
    "\n",
    "# Compute strain at each time step\n",
    "strain_slow = slow_rate * times_slow\n",
    "strain_fast = fast_rate * times_fast\n",
    "\n",
    "# Initializations\n",
    "stress_slow = np.zeros(time_steps)\n",
    "stress_fast = np.zeros(time_steps)\n",
    "\n",
    "strain_e_slow = np.zeros(time_steps)\n",
    "strain_v_slow = np.zeros(time_steps)\n",
    "\n",
    "strain_e_fast = np.zeros(time_steps)\n",
    "strain_v_fast = np.zeros(time_steps)\n",
    "\n",
    "# Time-stepping scheme for slow and fast rates\n",
    "for t in range(1, time_steps):\n",
    "    # Slow loading\n",
    "    delta_strain_slow = strain_slow[t] - strain_slow[t-1]\n",
    "    strain_e_slow[t] = (strain_e_slow[t-1] + delta_strain_slow) / (1 + dt_slow * E / eta)\n",
    "    strain_v_slow[t] = strain_slow[t] - strain_e_slow[t]\n",
    "    stress_slow[t] = E * strain_e_slow[t]\n",
    "\n",
    "    # Fast loading\n",
    "    delta_strain_fast = strain_fast[t] - strain_fast[t-1]\n",
    "    strain_e_fast[t] = (strain_e_fast[t-1] + delta_strain_fast) / (1 + dt_fast * E / eta)\n",
    "    strain_v_fast[t] = strain_fast[t] - strain_e_fast[t]\n",
    "    stress_fast[t] = E * strain_e_fast[t]\n",
    "\n",
    "# Plotting the results\n",
    "plt.figure()\n",
    "plt.plot(strain_slow, stress_slow, label='Slow Rate')\n",
    "plt.plot(strain_fast, stress_fast, label='Fast Rate')\n",
    "plt.xlabel('Strain')\n",
    "plt.ylabel('Stress (Pa)')\n",
    "plt.title('Maxwell Model - Strain-Controlled Process with Different Rates')\n",
    "plt.legend()\n",
    "plt.grid(True)\n",
    "plt.show()"
   ]
  },
  {
   "cell_type": "markdown",
   "metadata": {},
   "source": [
    "## Exemplary algorithm for viscoplasticity"
   ]
  },
  {
   "cell_type": "code",
   "execution_count": null,
   "metadata": {},
   "outputs": [],
   "source": [
    "import sympy as sp\n",
    "from bmcs_utils.api import Cymbol\n",
    "import numpy as np\n",
    "from scipy.optimize import minimize_scalar\n",
    "from matplotlib.pylab import plt"
   ]
  },
  {
   "cell_type": "code",
   "execution_count": null,
   "metadata": {},
   "outputs": [],
   "source": [
    "# Define symbols\n",
    "E, eta = sp.symbols('E eta', real=True, positive=True)  # Elastic modulus and viscosity\n",
    "epsilon, epsilon_e, epsilon_v = sp.symbols('epsilon epsilon_e epsilon_v', real=True)\n",
    "dot_epsilon_v = Cymbol(r'\\dot{\\varepsilon}_\\mathrm{v}', codename='dot_epsilon_v', real=True)\n",
    "sigma = sp.symbols('sigma', real=True)\n",
    "\n",
    "epsilon_e_ = epsilon - epsilon_v\n",
    "# Define potentials\n",
    "Psi_ = sp.Rational(1, 2) * E * epsilon_e_**2\n",
    "Phi_ = sp.Rational(1, 2) * eta * dot_epsilon_v**2\n",
    "# Derive stress from free energy potential\n",
    "sigma_ = sp.diff(Psi_, epsilon) \n",
    "sigma_v_ = sp.diff(Psi_, epsilon_v)\n",
    "sp.simplify(sigma_), sp.simplify(sigma_v_)\n",
    "# Derive evolution of viscous strain rate from dissipation potential\n",
    "dot_epsilon_v_ = sigma / eta\n",
    "\n",
    "# Lamdify expressions for numerical computation\n",
    "get_sigma = sp.lambdify((epsilon, epsilon_v, E, eta), sigma_, modules='numpy', cse=True)\n",
    "get_Psi = sp.lambdify((epsilon, epsilon_v, E, eta), Psi_, modules='numpy')\n",
    "get_Phi = sp.lambdify((dot_epsilon_v, E, eta), Phi_, modules='numpy')\n",
    "# get_epsilon_v = sp.lambdify(sigma, dot_epsilon_v_, modules='numpy')\n",
    "\n",
    "# Material parameters\n",
    "E_val = 100.0  # Example Elastic modulus\n",
    "eta_val = 10.0  # Example Viscosity\n",
    "\n",
    "# Time-stepping setup\n",
    "time_steps = 11\n",
    "total_time = 1 # 10.0\n",
    "delta_t = total_time / time_steps\n",
    "strain_history = np.linspace(0, 0.1, time_steps)  # Monotonic increasing strain\n",
    "sigma_values = np.zeros(time_steps)\n",
    "epsilon_v_values = np.zeros(time_steps)\n",
    "\n",
    "# Initial conditions\n",
    "sigma_values[0] = 0\n",
    "epsilon_v_values[0] = 0\n",
    "\n",
    "# Time integration loop\n",
    "for i in range(1, time_steps):\n",
    "    _epsilon = strain_history[i]\n",
    "\n",
    "    # Define minimization problem\n",
    "    def incremental_potential(epsilon_v_next):\n",
    "        \n",
    "        # Numerically evaluate psi and sigma\n",
    "        dot_epsilon_v = (epsilon_v_next - epsilon_v_values[i-1]) / delta_t\n",
    "        \n",
    "        delta_Psi = (get_Psi(_epsilon, epsilon_v_next, E_val, eta_val) - \n",
    "                    get_Psi(_epsilon, epsilon_v_values[i-1], E_val, eta_val))\n",
    "        delta_Phi = delta_t * get_Phi(dot_epsilon_v, E_val, eta_val)\n",
    "        \n",
    "        return delta_Psi + delta_Phi\n",
    "\n",
    "    # Solve minimization problem\n",
    "    result = minimize_scalar(\n",
    "        incremental_potential,\n",
    "        bounds=(epsilon_v_values[i-1], _epsilon),\n",
    "        method='bounded'\n",
    "    )\n",
    "\n",
    "    # Update values\n",
    "    epsilon_v_values[i] = result.x\n",
    "    sigma_values[i] = get_sigma(_epsilon, result.x, E_val, eta_val)\n",
    "\n",
    "\n",
    "# Output results\n",
    "for i in range(time_steps):\n",
    "    print(f\"Step {i}: epsilon={strain_history[i]}, sigma={sigma_values[i]}, epsilon_v={epsilon_v_values[i]}\")"
   ]
  },
  {
   "cell_type": "code",
   "execution_count": null,
   "metadata": {},
   "outputs": [],
   "source": [
    "plt.plot(strain_history, sigma_values);"
   ]
  },
  {
   "cell_type": "markdown",
   "metadata": {},
   "source": [
    "## Stress driven dissipation"
   ]
  },
  {
   "cell_type": "code",
   "execution_count": null,
   "metadata": {},
   "outputs": [],
   "source": [
    "# Define symbols\n",
    "E, eta = sp.symbols('E eta', real=True, positive=True)  # Elastic modulus and viscosity\n",
    "epsilon, epsilon_e, epsilon_v = sp.symbols('epsilon epsilon_e epsilon_v', real=True)\n",
    "#dot_epsilon_v = Cymbol(r'\\dot{\\varepsilon}_\\mathrm{v}', codename='dot_epsilon_v', real=True)\n",
    "sigma = sp.symbols('sigma', real=True)"
   ]
  },
  {
   "cell_type": "code",
   "execution_count": null,
   "metadata": {},
   "outputs": [],
   "source": [
    "\n",
    "epsilon_e_ = epsilon - epsilon_v\n",
    "# Define potentials\n",
    "Psi_ = sp.Rational(1, 2) * E * epsilon_e_**2\n",
    "Phi_ = sp.Rational(1, 2) * sigma**2 / eta\n",
    "# Derive stress from free energy potential\n",
    "sigma_ = sp.diff(Psi_, epsilon)\n",
    "sigma_, Phi_.diff(sigma)"
   ]
  },
  {
   "cell_type": "code",
   "execution_count": null,
   "metadata": {},
   "outputs": [],
   "source": [
    "# Derive evolution of viscous strain rate from dissipation potential\n",
    "dot_epsilon_v_ = Phi_.diff(sigma)\n",
    "Psi_ + t * Phi_.subs(sigma, sigma_)"
   ]
  },
  {
   "cell_type": "markdown",
   "metadata": {},
   "source": [
    "$$\n",
    "\\Delta \\Pi \\approx \\frac{d\\Psi}{dt} + \\frac{d}{dt}\\left(\\int \\Phi \\, dt\\right)\n",
    "$$\n",
    "\n",
    "$$\n",
    "\\frac{d\\Psi}{dt} + \\Phi(\\dot{\\varepsilon}_v) \\geq 0\n",
    "$$"
   ]
  },
  {
   "cell_type": "code",
   "execution_count": null,
   "metadata": {},
   "outputs": [],
   "source": [
    "t = sp.symbols('t', real=True)\n",
    "eps_v_t_ = sp.Function('epsilon_V')(t)\n",
    "delta_Pi = sp.simplify(Psi_.subs(epsilon_v, eps_v_t_) + t * Phi_.subs(sigma, sigma_).subs(epsilon_v, eps_v_t_))\n",
    "dPi_ = delta_Pi.subs(eps_v_t_, dot_epsilon_v).diff(dot_epsilon_v)\n",
    "dPi_, sp.solve(dPi_, dot_epsilon_v)"
   ]
  },
  {
   "cell_type": "code",
   "execution_count": null,
   "metadata": {},
   "outputs": [],
   "source": [
    "Pi_ = Psi_ + Phi_ \n",
    "Pi_"
   ]
  },
  {
   "cell_type": "code",
   "execution_count": null,
   "metadata": {},
   "outputs": [],
   "source": [
    "# Define symbols\n",
    "E, eta = sp.symbols('E eta', real=True, positive=True)  # Elastic modulus and viscosity\n",
    "epsilon, epsilon_e, epsilon_v = sp.symbols('epsilon epsilon_e epsilon_v', real=True)\n",
    "dot_epsilon_v = Cymbol(r'\\dot{\\varepsilon}_\\mathrm{v}', codename='dot_epsilon_v', real=True)\n",
    "sigma = sp.symbols('sigma', real=True)\n",
    "\n",
    "epsilon_e_ = epsilon - epsilon_v\n",
    "# Define potentials\n",
    "Psi_ = sp.Rational(1, 2) * E * epsilon_e_**2\n",
    "Phi_ = sp.Rational(1, 2) * eta * dot_epsilon_v**2\n",
    "# Derive stress from free energy potential\n",
    "sigma_ = sp.diff(Psi_, epsilon) \n",
    "sigma_v_ = sp.diff(Psi_, epsilon_v)\n",
    "sp.simplify(sigma_), sp.simplify(sigma_v_)\n",
    "# Derive evolution of viscous strain rate from dissipation potential\n",
    "dot_epsilon_v_ = sigma / eta\n",
    "\n",
    "# Lamdify expressions for numerical computation\n",
    "get_sigma = sp.lambdify((epsilon, epsilon_v, E, eta), sigma_, modules='numpy')\n",
    "get_Psi = sp.lambdify((epsilon, epsilon_v, E, eta), Psi_, modules='numpy')\n",
    "get_Phi = sp.lambdify((dot_epsilon_v, E, eta), Phi_, modules='numpy')\n",
    "# get_epsilon_v = sp.lambdify(sigma, dot_epsilon_v_, modules='numpy')\n",
    "\n",
    "##############\n",
    "\n",
    "xPhi_ = sp.Rational(1, 2) * sigma**2 / eta\n",
    "xget_Phi = sp.lambdify((sigma, E, eta), xPhi_, modules='numpy')\n",
    "xdot_epsilon_v_ = xPhi_.diff(sigma)\n",
    "xget_dot_epsilon_v = sp.lambdify((sigma, eta), xdot_epsilon_v_, modules='numpy')\n",
    "\n",
    "##############\n",
    "# Material parameters\n",
    "E_val = 100.0  # Example Elastic modulus\n",
    "eta_val = 10.0  # Example Viscosity\n",
    "\n",
    "# Time-stepping setup\n",
    "time_steps = 2 # 11\n",
    "total_time = 1 # 10.0\n",
    "delta_t = total_time / time_steps\n",
    "strain_history = np.linspace(0, 0.1, time_steps)  # Monotonic increasing strain\n",
    "sigma_values = np.zeros(time_steps)\n",
    "epsilon_v_values = np.zeros(time_steps)\n",
    "\n",
    "# Initial conditions\n",
    "sigma_values[0] = 0\n",
    "epsilon_v_values[0] = 0\n",
    "\n",
    "# Time integration loop\n",
    "for i in range(1, time_steps):\n",
    "    _epsilon = strain_history[i]\n",
    "\n",
    "    # Define minimization problem\n",
    "    def incremental_potential(epsilon_v_next):\n",
    "        # free energy\n",
    "        delta_Psi = (get_Psi(_epsilon, epsilon_v_next, E_val, eta_val) - \n",
    "                    get_Psi(_epsilon, epsilon_v_values[i-1], E_val, eta_val))\n",
    "        # dissipation increment - dot_epsilon_v\n",
    "        dot_epsilon_v = (epsilon_v_next - epsilon_v_values[i-1]) / delta_t\n",
    "        delta_Phi = delta_t * get_Phi(dot_epsilon_v, E_val, eta_val)\n",
    "        # dissipation increment - sigma\n",
    "        # sigma = get_sigma(_epsilon, epsilon_v_next, E_val, eta_val)\n",
    "        # xdelta_Phi = delta_t * xget_Phi(sigma, E_val, eta_val)\n",
    "        # print(eta_val * dot_epsilon_v, delta_Phi, sigma, xdelta_Phi)\n",
    "        return delta_Psi + delta_Phi\n",
    "\n",
    "    # Solve minimization problem\n",
    "    result = minimize_scalar(\n",
    "        incremental_potential,\n",
    "        bounds=(epsilon_v_values[i-1], _epsilon),\n",
    "        method='bounded'\n",
    "    )\n",
    "\n",
    "    # Update values\n",
    "    epsilon_v_values[i] = result.x\n",
    "    sigma_values[i] = get_sigma(_epsilon, result.x, E_val, eta_val)\n",
    "\n",
    "\n",
    "# Output results\n",
    "for i in range(time_steps):\n",
    "    print(f\"Step {i}: epsilon={strain_history[i]}, sigma={sigma_values[i]}, epsilon_v={epsilon_v_values[i]}\")"
   ]
  },
  {
   "cell_type": "markdown",
   "metadata": {},
   "source": [
    "$$\n",
    "\n",
    "$$"
   ]
  },
  {
   "cell_type": "markdown",
   "metadata": {},
   "source": [
    "$$\n",
    " \\frac{\\partial \\mathcal{N}(\\varepsilon_i)}{ \\partial \\varepsilon} - \\sigma_i\n",
    "$$"
   ]
  },
  {
   "cell_type": "markdown",
   "metadata": {},
   "source": [
    "$$\n",
    "\\frac{1}{2}(\n",
    " \\frac{\\partial \\mathcal{N}(\\varepsilon_i)}{ \\partial \\varepsilon} \n",
    " +\n",
    " \\frac{\\partial \\mathcal{N}(\\varepsilon_{i+1})}{ \\partial \\varepsilon} \n",
    ")\n",
    " -\n",
    " \\frac{1}{2}(\n",
    " (\n",
    " \\sigma_i + \\sigma_{i+1}\n",
    " )\n",
    "$$"
   ]
  },
  {
   "cell_type": "markdown",
   "metadata": {},
   "source": [
    "$$\n",
    " \\frac{\\partial \\mathcal{N}(\\varepsilon_i)}{ \\partial \\varepsilon} \n",
    " +\n",
    " \\Delta \\varepsilon_i\n",
    " \\frac{\\partial^2 \\mathcal{N}(\\varepsilon_{i})}{ \\partial \\varepsilon \\partial \\varepsilon} \n",
    " -\n",
    "  \\sigma_{i+1}\n",
    "$$"
   ]
  },
  {
   "cell_type": "markdown",
   "metadata": {},
   "source": []
  },
  {
   "cell_type": "markdown",
   "metadata": {},
   "source": [
    "## Combined viscoelasticity and viscoplasticity"
   ]
  },
  {
   "cell_type": "code",
   "execution_count": null,
   "metadata": {},
   "outputs": [],
   "source": [
    "import numpy as np\n",
    "import sympy as sp\n",
    "from scipy.optimize import minimize\n",
    "\n",
    "# Define symbols for symbolic computation\n",
    "E, eta_v, eta_p, sigma_y = sp.symbols('E eta_v eta_p sigma_y', real=True, positive=True)\n",
    "epsilon, epsilon_v, epsilon_p, sigma = sp.symbols('epsilon epsilon_v epsilon_p sigma', real=True)\n",
    "\n",
    "# Define symbolic expressions\n",
    "epsilon_e_ = epsilon - epsilon_v - epsilon_p\n",
    "Psi_ = sp.Rational(1, 2) * E * epsilon_e_**2\n",
    "sigma_trial_ = sp.diff(Psi_, epsilon)\n",
    "\n",
    "# Yield function for Perzyna model\n",
    "f_ = sp.Abs(sigma) - sigma_y\n",
    "\n",
    "# Dissipation potentials for symbolic computation\n",
    "Phi_viscous_ = (1 / 2) * eta_v * epsilon_v**2  # Symbolic, epsilon_v is not rate here; adjust contextually\n",
    "Phi_plastic_ = sp.Max(0, f_) / eta_p  # Using Perzyna viscoplastic flow\n",
    "\n",
    "# Lambdify the expressions for numerical evaluation\n",
    "get_Psi = sp.lambdify((epsilon_v, epsilon_p, epsilon, E), Psi_, modules='numpy')\n",
    "get_sigma_trial = sp.lambdify((epsilon_v, epsilon_p, epsilon, E), sigma_trial_, modules='numpy')\n",
    "get_f = sp.lambdify((sigma, sigma_y), f_, modules='numpy')\n",
    "get_Phi_viscous = sp.lambdify((epsilon_v, eta_v), Phi_viscous_, modules='numpy')\n",
    "get_Phi_plastic = sp.lambdify((sigma, eta_p, sigma_y), Phi_plastic_, modules='numpy')\n",
    "\n",
    "# Example material parameters (numerical variables)\n",
    "E_var = 100.0\n",
    "eta_v_var = 10.0\n",
    "eta_p_var = 5.0\n",
    "sigma_y_var = 50.0\n",
    "\n",
    "# Example loading (numerical variable)\n",
    "epsilon_var = 0.05  # Total strain applied\n",
    "epsilon_v_guess = 0.01\n",
    "epsilon_p_guess = 0.01\n",
    "\n",
    "# Objective function for minimizing energy potential\n",
    "def energy_potential(epsilon_v_var, epsilon_p_var):\n",
    "    sigma_trial_var = get_sigma_trial(epsilon_v_var, epsilon_p_var, epsilon_var, E_var)\n",
    "    f_val = get_f(sigma_trial_var, sigma_y_var)\n",
    "    phi_viscous_val = get_Phi_viscous(epsilon_v_var, eta_v_var)\n",
    "    phi_plastic_val = get_Phi_plastic(sigma_trial_var, eta_p_var, sigma_y_var)\n",
    "    delta_psi_val = get_Psi(epsilon_v_var, epsilon_p_var, epsilon_var, E_var)\n",
    "    total_potential = delta_psi_val + phi_viscous_val + phi_plastic_val*f_val\n",
    "    return total_potential\n",
    "\n",
    "# Minimize the potential to find viscoelastic and viscoplastic strains\n",
    "result = minimize(\n",
    "    lambda x: energy_potential(x[0], x[1]),\n",
    "    [epsilon_v_guess, epsilon_p_guess],\n",
    "    bounds=[(0, epsilon_var), (0, epsilon_var)],\n",
    "    method='L-BFGS-B'\n",
    ")\n",
    "\n",
    "epsilon_v_opt, epsilon_p_opt = result.x\n",
    "\n",
    "print(f\"Optimized epsilon_v: {epsilon_v_opt}, epsilon_p: {epsilon_p_opt}\")"
   ]
  },
  {
   "cell_type": "code",
   "execution_count": null,
   "metadata": {},
   "outputs": [],
   "source": [
    "import numpy as np\n",
    "import sympy as sp\n",
    "from scipy.optimize import minimize\n",
    "\n",
    "# Define symbols for symbolic computation\n",
    "E, eta_v, eta_p, sigma_y, dt = sp.symbols('E eta_v eta_p sigma_y dt', real=True, positive=True)\n",
    "epsilon, epsilon_v, epsilon_p, sigma = sp.symbols('epsilon epsilon_v epsilon_p sigma', real=True)\n",
    "\n",
    "# Define symbolic expressions\n",
    "epsilon_e_ = epsilon - epsilon_v - epsilon_p\n",
    "Psi_ = sp.Rational(1, 2) * E * epsilon_e_**2\n",
    "sigma_trial_ = E * epsilon_e_\n",
    "\n",
    "# Yield function for Perzyna model\n",
    "f_ = sp.Abs(sigma) - sigma_y\n",
    "\n",
    "# Define rate terms and dissipation potentials\n",
    "dot_epsilon_v = epsilon_v / dt  # Assumes epsilon_v accumulation over a time increment dt\n",
    "dot_epsilon_p = epsilon_p / dt  # Similar assumption for plastic strain\n",
    "\n",
    "Phi_viscous_ = sp.Rational(1, 2) * eta_v * dot_epsilon_v**2\n",
    "Phi_plastic_ = sp.Max(0, f_) / eta_p\n",
    "\n",
    "# Lambdify the expressions for numerical evaluation\n",
    "get_Psi = sp.lambdify((epsilon_v, epsilon_p, epsilon, E), Psi_, modules='numpy')\n",
    "get_sigma_trial = sp.lambdify((epsilon_v, epsilon_p, epsilon, E), sigma_trial_, modules='numpy')\n",
    "get_f = sp.lambdify((sigma, sigma_y), f_, modules='numpy')\n",
    "get_Phi_viscous = sp.lambdify((epsilon_v, dt, eta_v), Phi_viscous_, modules='numpy')\n",
    "get_Phi_plastic = sp.lambdify((sigma, eta_p, sigma_y), Phi_plastic_, modules='numpy')"
   ]
  },
  {
   "cell_type": "code",
   "execution_count": null,
   "metadata": {},
   "outputs": [],
   "source": [
    "Phi_viscous_, Phi_plastic_"
   ]
  },
  {
   "cell_type": "code",
   "execution_count": null,
   "metadata": {},
   "outputs": [],
   "source": [
    "# Example material parameters (numerical variables)\n",
    "E_var = 100.0\n",
    "eta_v_var = 10.0\n",
    "eta_p_var = 10\n",
    "sigma_y_var = 1.0\n",
    "\n",
    "# Simulation parameters\n",
    "time_total = 1.0\n",
    "n_steps = 50\n",
    "delta_time = time_total / n_steps\n",
    "epsilon_arr = np.linspace(0, 0.05, n_steps)\n",
    "\n",
    "epsilon_v_hist = np.zeros(n_steps)\n",
    "epsilon_p_hist = np.zeros(n_steps)\n",
    "\n",
    "# Objective function for minimizing energy potential\n",
    "def energy_potential(epsilon_v_var, epsilon_p_var, epsilon_tot_var, delta_time_var):\n",
    "    sigma_trial_var = get_sigma_trial(epsilon_v_var, epsilon_p_var, epsilon_tot_var, E_var)\n",
    "    f_val = get_f(sigma_trial_var, sigma_y_var)\n",
    "    phi_viscous_val = get_Phi_viscous(epsilon_v_var, delta_time_var, eta_v_var)\n",
    "    phi_plastic_val = get_Phi_plastic(sigma_trial_var, eta_p_var, sigma_y_var)\n",
    "    delta_psi_val = get_Psi(epsilon_v_var, epsilon_p_var, epsilon_tot_var, E_var)\n",
    "    total_potential = delta_psi_val + delta_time_var * (phi_viscous_val + phi_plastic_val * f_val)\n",
    "    return total_potential\n",
    "\n",
    "# Time-stepping procedure\n",
    "for step in range(1, n_steps):\n",
    "    epsilon_tot_var = epsilon_arr[step]\n",
    "    epsilon_v_guess = epsilon_v_hist[step - 1]\n",
    "    epsilon_p_guess = epsilon_p_hist[step - 1]\n",
    "\n",
    "    # Minimize the potential to find viscoelastic and viscoplastic strains\n",
    "    result = minimize(\n",
    "        lambda x: energy_potential(x[0], x[1], epsilon_tot_var, delta_time),\n",
    "        [epsilon_v_guess, epsilon_p_guess],\n",
    "        bounds=[(0, epsilon_tot_var), (0, epsilon_tot_var)],\n",
    "        method='L-BFGS-B'\n",
    "    )\n",
    "\n",
    "    epsilon_v_hist[step], epsilon_p_hist[step] = result.x\n",
    "    print(f\"Step {step}: epsilon_v = {epsilon_v_hist[step]}, epsilon_p = {epsilon_p_hist[step]}\")\n",
    "\n",
    "# Output results for each time step\n",
    "for step in range(n_steps):\n",
    "    print(f\"Time step {step}: strain = {epsilon_arr[step]}, epsilon_v = {epsilon_v_hist[step]}, epsilon_p = {epsilon_p_hist[step]}\")"
   ]
  },
  {
   "cell_type": "code",
   "execution_count": null,
   "metadata": {},
   "outputs": [],
   "source": [
    "sigma_arr = get_sigma_trial(epsilon_v_hist, epsilon_p_hist, epsilon_arr, E_var)\n",
    "plt.plot(epsilon_arr, sigma_arr)\n"
   ]
  },
  {
   "cell_type": "code",
   "execution_count": null,
   "metadata": {},
   "outputs": [],
   "source": []
  }
 ],
 "metadata": {
  "kernelspec": {
   "display_name": "bmcs_env2",
   "language": "python",
   "name": "python3"
  },
  "language_info": {
   "codemirror_mode": {
    "name": "ipython",
    "version": 3
   },
   "file_extension": ".py",
   "mimetype": "text/x-python",
   "name": "python",
   "nbconvert_exporter": "python",
   "pygments_lexer": "ipython3",
   "version": "3.10.8"
  }
 },
 "nbformat": 4,
 "nbformat_minor": 2
}
