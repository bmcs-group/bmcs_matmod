{
 "cells": [
  {
   "cell_type": "markdown",
   "metadata": {},
   "source": [
    "# Elastic, Viscoplastic model with linear hardening\n",
    "\n",
    "FramCos paper preparation"
   ]
  },
  {
   "cell_type": "code",
   "execution_count": null,
   "metadata": {},
   "outputs": [],
   "source": [
    "%matplotlib widget\n",
    "from bmcs_matmod.api import GSMRM\n",
    "import matplotlib.pylab as plt \n",
    "import sympy as sp\n",
    "import numpy as np\n",
    "from bmcs_matmod.gsm.potentials.potential1d_t_e_vp_d_likh import Potential1D_T_E_VP_D_LIKH_SymbExpr \n",
    "sp.init_printing()"
   ]
  },
  {
   "cell_type": "markdown",
   "metadata": {},
   "source": [
    "## Helmholtz free energy"
   ]
  },
  {
   "cell_type": "code",
   "execution_count": null,
   "metadata": {},
   "outputs": [],
   "source": [
    "p1d = Potential1D_T_E_VP_D_LIKH_SymbExpr()\n",
    "p1d.F_"
   ]
  },
  {
   "cell_type": "markdown",
   "metadata": {},
   "source": [
    "## Gibbs free energy"
   ]
  },
  {
   "cell_type": "code",
   "execution_count": null,
   "metadata": {},
   "outputs": [],
   "source": [
    "eps_a = p1d.eps_a\n",
    "sig_a = p1d.sig_a\n",
    "dF_du = p1d.F_.diff(eps_a)\n",
    "# dF_du = dF_du.xreplace({h: 0 for h in dF_du.atoms(sp.DiracDelta)})\n",
    "# dF_du = dF_du.xreplace({h: 1 for h in dF_du.atoms(sp.Heaviside)})\n",
    "u_sig_ = sp.Matrix([ sp.solve(sp.Eq(sig_i, dF_du_i), u_i)[0] for sig_i, u_i, dF_du_i in \n",
    "                            zip(sig_a, eps_a, dF_du)])\n",
    "subs_u_sig_ = dict(zip(eps_a, u_sig_))\n",
    "sp.simplify(dF_du), subs_u_sig_"
   ]
  },
  {
   "cell_type": "code",
   "execution_count": null,
   "metadata": {},
   "outputs": [],
   "source": [
    "sig_x_u_ = (sig_a.T * eps_a)[0]\n",
    "#G_expr = sig_x_u_ - p1d.F_\n",
    "G_expr = p1d.F_ - sig_x_u_\n",
    "G_ = sp.simplify(G_expr.subs(subs_u_sig_))\n",
    "G_"
   ]
  },
  {
   "cell_type": "markdown",
   "metadata": {},
   "source": [
    "## GSM drivers"
   ]
  },
  {
   "cell_type": "code",
   "execution_count": null,
   "metadata": {},
   "outputs": [],
   "source": [
    "gsm_F = GSMRM(\n",
    "    name = 'gsm_F_1d_t_e_vp_likh',\n",
    "    u_vars = p1d.eps_a,\n",
    "    sig_vars = p1d.sig_a,\n",
    "    T_var = p1d.T,\n",
    "    m_params = p1d.mparams,\n",
    "    Eps_vars = p1d.Eps_vars,\n",
    "    Sig_vars = p1d.Sig_vars,\n",
    "    Sig_signs = p1d.Sig_signs,\n",
    "    F_expr = p1d.F_,\n",
    "    f_expr = p1d.f_,\n",
    "    phi_ext_expr = p1d.phi_ext_,\n",
    "    t_relax = p1d.t_relax_,\n",
    "    m_param_codenames =  p1d.m_param_codenames\n",
    ")\n",
    "\n",
    "gsm_G = GSMRM(\n",
    "    name = 'gsm_G_1d_t_e_vp_d',\n",
    "    u_vars = p1d.sig_a,\n",
    "    sig_vars = p1d.eps_a,\n",
    "    T_var = p1d.T,\n",
    "    m_params = p1d.mparams,\n",
    "    Eps_vars = p1d.Eps_vars,\n",
    "    Sig_signs = p1d.Sig_signs,\n",
    "    Sig_vars = p1d.Sig_vars,\n",
    "    #Sig_signs = (1, -1, -1, 1),\n",
    "    F_expr = G_,\n",
    "    #dF_sign = -1,\n",
    "    f_expr = p1d.f_,\n",
    "    phi_ext_expr = p1d.phi_ext_,\n",
    "    t_relax = p1d.t_relax_,\n",
    "    m_param_codenames =  p1d.m_param_codenames\n",
    ")"
   ]
  },
  {
   "cell_type": "code",
   "execution_count": null,
   "metadata": {},
   "outputs": [],
   "source": [
    "sp.simplify(p1d.f_)"
   ]
  },
  {
   "cell_type": "code",
   "execution_count": null,
   "metadata": {},
   "outputs": [],
   "source": [
    "gsm_F.df_dSig_ - gsm_G.df_dSig_"
   ]
  },
  {
   "cell_type": "code",
   "execution_count": null,
   "metadata": {},
   "outputs": [],
   "source": [
    "gsm_F.f_.diff(gsm_F.Eps.as_explicit()) - gsm_G.f_.diff(gsm_G.Eps.as_explicit())"
   ]
  },
  {
   "cell_type": "code",
   "execution_count": null,
   "metadata": {},
   "outputs": [],
   "source": [
    "gsm_F.Phi_ - gsm_G.Phi_"
   ]
  },
  {
   "cell_type": "code",
   "execution_count": null,
   "metadata": {},
   "outputs": [],
   "source": [
    "gsm_F.Sig_, gsm_G.Sig_"
   ]
  },
  {
   "cell_type": "code",
   "execution_count": null,
   "metadata": {},
   "outputs": [],
   "source": [
    "gsm_F.dSig_dEps_, sp.factor(gsm_G.dSig_dEps_)"
   ]
  },
  {
   "cell_type": "code",
   "execution_count": null,
   "metadata": {},
   "outputs": [],
   "source": [
    "gsm_F.save_to_disk()\n",
    "gsm_G.save_to_disk()"
   ]
  },
  {
   "cell_type": "code",
   "execution_count": null,
   "metadata": {},
   "outputs": [],
   "source": [
    "gsm_F.df_dEps_, gsm_G.df_dEps_"
   ]
  },
  {
   "cell_type": "markdown",
   "metadata": {},
   "source": [
    "## Monotonic loading"
   ]
  },
  {
   "cell_type": "code",
   "execution_count": null,
   "metadata": {},
   "outputs": [],
   "source": [
    "_f_c = 44\n",
    "_f_t = -0.1 * _f_c\n",
    "_X_0 = (_f_c + _f_t) / 2\n",
    "_f_s = (_f_c - _f_t) / 2\n",
    "_E = 50000\n",
    "_KH_factor = 4\n",
    "_KH = _E * _KH_factor\n",
    "_K_ratio = 0.8 # 0.01 # 0.015\n",
    "_K = _KH * _K_ratio\n",
    "_H = _KH * (1 - _K_ratio)\n",
    "material_params = dict(\n",
    "    E=_E, \n",
    "    gamma=_H * 0, # _E * 10, \n",
    "    X_0=_X_0,  \n",
    "    K=_K / 10, # _E / 5,\n",
    "    f_c=_f_s,\n",
    "    S=1e+6, # 0.0008,\n",
    "    c=2.3,\n",
    "    r=1,\n",
    "    eta=20000,\n",
    "    T_0=20,\n",
    "    C_v=1e+6, # 0.01, # 0.0001, \n",
    "    d_N=1,\n",
    "    beta=0, # 0.5,\n",
    "    z_0 = 0,\n",
    "    alpha_therm = 0,\n",
    ")\n",
    "p1d.mparams"
   ]
  },
  {
   "cell_type": "code",
   "execution_count": null,
   "metadata": {},
   "outputs": [],
   "source": [
    "def gsm_run(gsm_, u_ta, T_t, t_t, **material_params):\n",
    "    response = gsm_.get_response(u_ta, T_t, t_t, **material_params)\n",
    "    _t_t, _u_tIa, _T_t, _Eps_tIb, _Sig_tIb, _iter_t, _dF_dEps_t, lam_t, (d_t_t, d_u_ta) = response\n",
    "    _u_atI, _Eps_btI, _Sig_btI, _dF_dEps_btI = [np.moveaxis(v_, -1, 0) for v_ in (_u_tIa, _Eps_tIb, _Sig_tIb, _dF_dEps_t)]\n",
    "    _sig_atI = gsm_.get_sig(_u_atI, _T_t, _Eps_btI, _Sig_btI, **material_params )\n",
    "    return _t_t, _u_atI, _sig_atI, _T_t, _Eps_btI, _Sig_btI, _dF_dEps_btI, lam_t, (d_t_t, d_u_ta)\n",
    "\n",
    "gsm_F.vp_on = True\n",
    "gsm_F.update_at_k = False\n",
    "\n",
    "def get_cyclic_load(max_s, max_t, n_cycles, n_incr):\n",
    "    # Generating loading history\n",
    "    s_arr = np.tile(np.array([-1, 1]), n_cycles) * np.linspace(0, max_s, 2 * n_cycles)\n",
    "    s_arr = np.interp(np.linspace(0, max_t, n_incr * len(s_arr)), np.linspace(0, max_t, len(s_arr)), s_arr)\n",
    "\n",
    "    # time array as input\n",
    "    t_arr = np.linspace(0, max_t, len(s_arr))\n",
    "    return s_arr, t_arr"
   ]
  },
  {
   "cell_type": "code",
   "execution_count": null,
   "metadata": {},
   "outputs": [],
   "source": [
    "material_params"
   ]
  },
  {
   "cell_type": "code",
   "execution_count": null,
   "metadata": {},
   "outputs": [],
   "source": [
    "gsm_F.m_param_codenames"
   ]
  },
  {
   "cell_type": "code",
   "execution_count": null,
   "metadata": {},
   "outputs": [],
   "source": [
    "gsm_F.param_codenames"
   ]
  },
  {
   "cell_type": "code",
   "execution_count": null,
   "metadata": {},
   "outputs": [],
   "source": [
    "response_values = {}\n",
    "max_s = 0.01\n",
    "dot_s_list = [0.00005, 0.0005, 0.005]\n",
    "for dot_s in dot_s_list:\n",
    "    print('dot_s', dot_s)\n",
    "    u_t, t_t = get_cyclic_load( n_cycles=1, max_s=max_s, \n",
    "                                  max_t=max_s/dot_s, n_incr = 10)\n",
    "    response_values[dot_s] = gsm_run(gsm_F, u_t[:,np.newaxis], 20 + 0 * t_t, t_t, **material_params)"
   ]
  },
  {
   "cell_type": "code",
   "execution_count": null,
   "metadata": {},
   "outputs": [],
   "source": [
    "from scipy.integrate import cumtrapz\n",
    "\n",
    "def plot_monotonic(response_values):\n",
    "    fig, ((ax, ax_T, ax_Diss), (ax_u_p, ax_lam, ax_omega)) = plt.subplots(2,3, figsize=(12,6), tight_layout=True)\n",
    "    ax_z = ax_lam.twinx()\n",
    "\n",
    "    for dot_s, resp in response_values.items():\n",
    "        \n",
    "        label = f'$\\dot{{s}}$ = {dot_s}'\n",
    "        _t_t, _u_atI, _sig_atI, _T_t, _Eps_btI, _Sig_btI, _dF_dEps_btI, lam_t, (d_t_t, d_u_ta) = resp \n",
    "        _u_p_atI, _z_atI, _alpha_atI, _omega_atI = gsm_F.Eps_as_blocks(_Eps_btI)\n",
    "        _, _Z_atI, _X_atI, _Y_atI = gsm_F.Eps_as_blocks(_Sig_btI)\n",
    "        ax.plot(_u_atI[0, :, 0], _sig_atI[0, :, 0], label=label);\n",
    "        ax.legend()\n",
    "        ax.set_title(r'stress-strain')\n",
    "        ax.set_ylabel(r'$\\varsigma$')\n",
    "        ax.set_xlabel(r'$\\varepsilon$')\n",
    "\n",
    "        ax_T.plot(_u_atI[0, :, 0], _T_t, label=label);\n",
    "        ax_T.legend()\n",
    "        ax_T.set_title(r'temperature')\n",
    "        ax_T.set_ylabel(r'$\\vartheta$')\n",
    "        ax_T.set_xlabel(r'$\\varepsilon$')\n",
    "\n",
    "        Diss_btI_F = cumtrapz(_dF_dEps_btI, _Eps_btI, initial=0, axis=1)\n",
    "        ax_Diss.plot(_t_t, np.sum(Diss_btI_F[...,0], axis=0), alpha=1, label='F')\n",
    "        ax_Diss.set_title(r'dissipation')\n",
    "\n",
    "        r = material_params['r']\n",
    "        c = material_params['c']\n",
    "        ax_u_p.plot(_u_atI[0, :, 0], (1 - _omega_atI[0, :, 0]**c)* (_Y_atI[0, :, 0] / material_params['S'])**r)\n",
    "        ax_u_p.set_xlabel(r'$\\varepsilon$/-')\n",
    "        ax_u_p.set_ylabel(r'$\\varepsilon_\\mathrm{p}$/-')\n",
    "        ax_u_p.set_title(r'$\\partial{\\varphi}/{\\partial Y} =  (1-\\omega)^c (Y/S)^r$')\n",
    "\n",
    "        ax_lam.plot(_u_atI[0, :, 0], lam_t)\n",
    "        ax_lam.set_xlabel(r'$\\varepsilon$/-')\n",
    "        ax_lam.set_ylabel(r'$\\lambda$/-')\n",
    "        ax_lam.set_title(r'plastic multiplier: $\\dot{\\lambda}$')\n",
    "\n",
    "        ax_z.plot(_u_atI[0, :, 0], _Z_atI[0, :, 0], ls='dashed')\n",
    "        ax_z.set_ylabel(r'$z$/-')\n",
    "\n",
    "        ax_omega.plot(_u_atI[0, :, 0], _omega_atI[0, :, 0])\n",
    "        ax_omega.set_xlabel(r'$\\varepsilon$/-')\n",
    "        ax_omega.set_ylabel(r'$\\omega$/-')\n",
    "        ax_omega.set_title(r'damage: $\\omega =  \\dot{\\lambda} \\cdot \\partial\\varphi / \\partial Y$')\n",
    "    return fig"
   ]
  },
  {
   "cell_type": "code",
   "execution_count": null,
   "metadata": {},
   "outputs": [],
   "source": [
    "plot_monotonic(response_values);"
   ]
  },
  {
   "cell_type": "code",
   "execution_count": null,
   "metadata": {},
   "outputs": [],
   "source": [
    "max_s = 0.003\n",
    "u_t_F, t_t_F = get_cyclic_load( n_cycles=1, max_s=max_s, \n",
    "                                max_t=max_s/dot_s_list[-1], n_incr = 3)\n",
    "T_t_F = 20 + t_t_F * 0\n",
    "\n",
    "response_values_F = gsm_run(gsm_F, u_t_F[:,np.newaxis], T_t_F, t_t_F, **material_params)"
   ]
  },
  {
   "cell_type": "code",
   "execution_count": null,
   "metadata": {},
   "outputs": [],
   "source": [
    "_t_t_F, _u_atI_F, _sig_atI_F, _T_t_F, _Eps_btI_F, _Sig_btI_F, _dF_dEps_btI_F, lam_t_F, (d_t_t, d_u_ta) = response_values_F \n",
    "argmax_sig_ = np.argmax(_sig_atI_F)\n",
    "t_t_G = _t_t_F[:argmax_sig_+1]\n",
    "u_ta_G = _sig_atI_F[0, :argmax_sig_+1, 0].reshape(-1, 1)\n",
    "T_t_G = 20 + t_t_G * 0\n",
    "response_values_G = gsm_run(gsm_G, u_ta_G, T_t_G, t_t_G, **material_params)\n"
   ]
  },
  {
   "cell_type": "code",
   "execution_count": null,
   "metadata": {},
   "outputs": [],
   "source": [
    "fig, ((ax_eps, ax_sig), (ax_lam, ax_z), (ax_eps_p, ax_omega), (ax_d_t, ax_Y)) = plt.subplots(4,2, figsize=(12,10), tight_layout=True)\n",
    "\n",
    "_t_t_F, _u_atI_F, _sig_atI_F, _T_t_F, _Eps_btI_F, _Sig_btI_F, _dF_dEps_btI_F, _lam_t_F, (_d_t_F, _d_u_ta_F) = response_values_F \n",
    "_u_p_atI_F, _z_atI_F, _alpha_atI_F, _omega_atI_F = gsm_F.Eps_as_blocks(_Eps_btI_F)\n",
    "_, _Z_atI_F, _X_atI_F, _Y_atI_F = gsm_F.Eps_as_blocks(_Sig_btI_F)\n",
    "\n",
    "_t_t_G, _sig_atI_G, _u_atI_G, _T_t_G, _Eps_btI_G, _Sig_btI_G, _dF_dEps_btI_G, _lam_t_G, (_d_t_G, _d_u_ta_G) = response_values_G \n",
    "_u_p_atI_G, _z_atI_G, _alpha_atI_G, _omega_atI_G = gsm_G.Eps_as_blocks(_Eps_btI_G)\n",
    "_, _Z_atI_G, _X_atI_G, _Y_atI_G = gsm_F.Eps_as_blocks(_Sig_btI_G)\n",
    "\n",
    "\n",
    "ax_eps.plot(_t_t_F, _u_atI_F[0, :, 0], 'o-', label='F', color='blue',)\n",
    "ax_eps.plot(_t_t_G, _u_atI_G[0, :, 0], 'o', label='G', color='red', ls='dashed')\n",
    "ax_eps.legend()\n",
    "ax_eps.set_title(r'strain-time')\n",
    "ax_eps.set_ylabel(r'$\\varepsilon$')\n",
    "ax_eps.set_xlabel(r'$t$')\n",
    "\n",
    "ax_sig.plot(_t_t_F, _sig_atI_F[0, :, 0], 'o-', label='F', color='blue')\n",
    "ax_sig.plot(_t_t_G, _sig_atI_G[0, :, 0], 'o', label='G', color='red', ls='dashed')\n",
    "ax_sig.legend()\n",
    "ax_sig.set_title(r'stress-time')\n",
    "ax_sig.set_ylabel(r'$\\sigma$')\n",
    "ax_sig.set_xlabel(r'$t$')\n",
    "\n",
    "ax_lam.plot(_t_t_F, _lam_t_F, 'o-', label='F', color='blue')\n",
    "ax_lam.plot(_t_t_G, -_lam_t_G, 'o-', label='G', color='red')\n",
    "ax_lam.legend()\n",
    "ax_lam.set_title(r'$\\lambda$-time')\n",
    "ax_lam.set_ylabel(r'$\\lambda$')\n",
    "ax_lam.set_xlabel(r'$t$')\n",
    "\n",
    "ax_z.plot(_t_t_F, _z_atI_F[0, :, 0], 'o-', label='F', color='blue')\n",
    "ax_z.plot(_t_t_G, _z_atI_G[0, :, 0], 'o-', label='G', color='red')\n",
    "ax_z.legend()\n",
    "ax_z.set_title(r'z-time')\n",
    "ax_z.set_ylabel(r'$z$')\n",
    "ax_z.set_xlabel(r'$t$')\n",
    "\n",
    "ax_eps_p.plot(_t_t_F, _u_p_atI_F[0, :, 0], 'o-', label='F', color='blue')\n",
    "ax_eps_p.plot(_t_t_G, _u_p_atI_G[0, :, 0], 'o-', label='G', color='red')\n",
    "ax_eps_p.legend()\n",
    "ax_eps_p.set_title(r'$\\varepsilon_\\mathrm{p}$-time')\n",
    "ax_eps_p.set_ylabel(r'$\\varepsilon_\\mathrm{p}$')\n",
    "ax_eps_p.set_xlabel(r'$t$')\n",
    "\n",
    "ax_omega.plot(_t_t_F, _omega_atI_F[0, :, 0], 'o-', label='F', color='blue')\n",
    "ax_omega.plot(_t_t_G, _omega_atI_G[0, :, 0], 'o-', label='G', color='red')\n",
    "ax_omega.legend()\n",
    "ax_omega.set_title(r'$\\omega$-time')\n",
    "ax_omega.set_ylabel(r'$\\omega$')\n",
    "ax_omega.set_xlabel(r'$t$')\n",
    "\n",
    "r = material_params['r']\n",
    "c = material_params['c']\n",
    "ax_Y.plot(t_t_F, (1 - _omega_atI_F[0, :, 0]**c)* (_Y_atI_F[0, :, 0] / material_params['S'])**r, 'o-', label='F', color='blue')\n",
    "ax_Y.plot(t_t_G, (1 - _omega_atI_G[0, :, 0]**c)* (_Y_atI_G[0, :, 0] / material_params['S'])**r, 'o-', label='F', color='red')\n",
    "ax_Y.set_xlabel(r'$\\varepsilon$/-')\n",
    "ax_Y.set_ylabel(r'$\\varepsilon_\\mathrm{p}$/-')\n",
    "ax_Y.set_title(r'$\\partial{\\varphi}/{\\partial Y} =  (1-\\omega)^c (Y/S)^r$')\n",
    "\n",
    "# ax_d_t.plot(_t_t_F[1:], _d_t_F, 'o-', label='F', color='blue')\n",
    "# ax_d_t.plot(_t_t_G[1:], _d_t_G, 'o-', label='G', color='red')\n",
    "ax_d_t.plot(_t_t_F, _Y_atI_F[0, :, 0], 'o-', label='F', color='blue')\n",
    "ax_d_t.plot(_t_t_G, _Y_atI_G[0, :, 0], 'o-', label='G', color='red')\n",
    "ax_d_t.legend()\n",
    "ax_d_t.set_title(r'$Y$-time')\n",
    "ax_d_t.set_ylabel(r'$Y$')\n",
    "ax_d_t.set_xlabel(r'$t$')\n",
    "\n"
   ]
  },
  {
   "cell_type": "code",
   "execution_count": null,
   "metadata": {},
   "outputs": [],
   "source": []
  }
 ],
 "metadata": {
  "kernelspec": {
   "display_name": "bmcs_env2",
   "language": "python",
   "name": "python3"
  },
  "language_info": {
   "codemirror_mode": {
    "name": "ipython",
    "version": 3
   },
   "file_extension": ".py",
   "mimetype": "text/x-python",
   "name": "python",
   "nbconvert_exporter": "python",
   "pygments_lexer": "ipython3"
  }
 },
 "nbformat": 4,
 "nbformat_minor": 2
}
