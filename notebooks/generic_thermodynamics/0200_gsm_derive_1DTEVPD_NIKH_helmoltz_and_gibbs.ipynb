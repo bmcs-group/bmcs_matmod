{
 "cells": [
  {
   "cell_type": "markdown",
   "metadata": {},
   "source": [
    "# Legendre transformation and Gibbs energy\n",
    "\n",
    "In order to enable fatigue load scenarios, this notebook shows how to transform a model derived based on the Helmholtz free energy to the Gibbs free energy "
   ]
  },
  {
   "cell_type": "markdown",
   "metadata": {},
   "source": [
    "Given the Helmholtz free energy controlled by strain/displacement $u$ and temperature $\\vartheta$\n",
    "$$\n",
    "F = \\hat{F}(u, \\vartheta; \\mathcal{E})\n",
    "$$\n",
    "we seek the complementary form of the state representaiton that can is expressed using the stress level $\\sigma$ instead of the strain $u$   \n",
    "$$\n",
    "G = \\hat{G}(\\sigma, \\vartheta; \\mathcal{E})\n",
    "$$\n",
    "The Legendre transform exploits the fact that \n",
    "$$\n",
    "\\hat{F}(u, \\vartheta; \\mathcal{E})\n",
    " + \\hat{G}(\\sigma, \\vartheta; \\mathcal{E}) = \\sigma u. \n",
    "$$"
   ]
  },
  {
   "cell_type": "markdown",
   "metadata": {},
   "source": [
    "The generic derivation below exploits the fact that stress level definition as the rate of change of $F$ due to change of strain is obtained as the gradient\n",
    "$$\n",
    "\\sigma = \\partial_u F = \\Sigma(u) \n",
    "$$\n",
    "which can be symbolically inverted to obtain\n",
    "$$\n",
    "u = \\Sigma^{-1}(\\sigma).\n",
    "$$"
   ]
  },
  {
   "cell_type": "markdown",
   "metadata": {},
   "source": [
    "Thus the substitution into the Legendre transform renders\n",
    "$$\n",
    "\\hat{G}(\\sigma, \\vartheta; \\mathcal{E}) = \\sigma \\Sigma^{-1}(\\sigma) - \\hat{F}(\\Sigma^{-1}(\\sigma), \\vartheta; \\mathcal{E})\n",
    "$$"
   ]
  },
  {
   "cell_type": "markdown",
   "metadata": {},
   "source": [
    "In the framework below, two instances of the `GSM` class are constructed. The first is based on Helmholtz energy and the second on the Gibbs energy. The dissipative potential and internal variables are the same. The only difference is the swapped meaning of the variables `u` and `sig`. In case of Gibbs based GSM, input variable `u` means stress and output variable `sig` means strain. This shall be better formalized in future implementation of the API."
   ]
  },
  {
   "cell_type": "code",
   "execution_count": null,
   "metadata": {},
   "outputs": [],
   "source": [
    "%matplotlib widget\n",
    "from bmcs_matmod import GSM\n",
    "import matplotlib.pylab as plt \n",
    "import sympy as sp\n",
    "import numpy as np\n",
    "from bmcs_matmod.gsm.potentials.potential1d_t_e_vp_d_nikh import Potential1D_T_E_VP_D_NIKH_SymbExpr\n",
    "sp.init_printing()"
   ]
  },
  {
   "cell_type": "markdown",
   "metadata": {},
   "source": [
    "## Gibbs free energy"
   ]
  },
  {
   "cell_type": "code",
   "execution_count": null,
   "metadata": {},
   "outputs": [],
   "source": [
    "p1d = Potential1D_T_E_VP_D_NIKH_SymbExpr()\n",
    "eps_a = p1d.eps_a\n",
    "sig_a = p1d.sig_a\n",
    "dF_du = p1d.F_.diff(eps_a)\n",
    "# dF_du = dF_du.xreplace({h: 0 for h in dF_du.atoms(sp.DiracDelta)})\n",
    "# dF_du = dF_du.xreplace({h: 1 for h in dF_du.atoms(sp.Heaviside)})\n",
    "u_sig_ = sp.Matrix([ sp.solve(sp.Eq(sig_i, dF_du_i), u_i)[0] for sig_i, u_i, dF_du_i in \n",
    "                            zip(sig_a, eps_a, dF_du)])\n",
    "subs_u_sig_ = dict(zip(eps_a, u_sig_))\n",
    "subs_u_sig_"
   ]
  },
  {
   "cell_type": "code",
   "execution_count": null,
   "metadata": {},
   "outputs": [],
   "source": [
    "sig_x_u_ = (sig_a.T * eps_a)[0]\n",
    "G_expr = sig_x_u_ - p1d.F_\n",
    "G_ = sp.simplify(G_expr.subs(subs_u_sig_))\n",
    "G_"
   ]
  },
  {
   "cell_type": "code",
   "execution_count": null,
   "metadata": {},
   "outputs": [],
   "source": [
    "gsm_F = GSM(\n",
    "    name = 'gsm_F_1d_t_e_vp_d_nikh',\n",
    "    u_vars = p1d.eps_a,\n",
    "    sig_vars = p1d.sig_a,\n",
    "    T_var = p1d.T,\n",
    "    m_params = p1d.mparams,\n",
    "    Eps_vars = p1d.Eps_vars,\n",
    "    Sig_vars = p1d.Sig_vars,\n",
    "    Sig_signs = (-1, 1, 1, -1),\n",
    "    F_expr = p1d.F_,\n",
    "    f_expr = p1d.f_,\n",
    "    phi_ext_expr = p1d.phi_ext_,\n",
    "    t_relax = p1d.t_relax_\n",
    ")\n",
    "\n",
    "gsm_G = GSM(\n",
    "    name = 'gsm_G_1d_t_e_vp_d_nikh',\n",
    "    u_vars = p1d.sig_a,\n",
    "    sig_vars = p1d.eps_a,\n",
    "    T_var = p1d.T,\n",
    "    m_params = p1d.mparams,\n",
    "    Eps_vars = p1d.Eps_vars,\n",
    "    Sig_vars = p1d.Sig_vars,\n",
    "    Sig_signs = (1, -1, -1, 1),\n",
    "    F_expr = G_,\n",
    "    dF_sign = -1,\n",
    "    f_expr = p1d.f_,\n",
    "    phi_ext_expr = p1d.phi_ext_,\n",
    "    t_relax = p1d.t_relax_\n",
    ")"
   ]
  },
  {
   "cell_type": "code",
   "execution_count": null,
   "metadata": {},
   "outputs": [],
   "source": [
    "gsm_F.save_to_disk()\n",
    "gsm_G.save_to_disk()"
   ]
  },
  {
   "cell_type": "markdown",
   "metadata": {},
   "source": [
    "## Review input and output expressions"
   ]
  },
  {
   "cell_type": "code",
   "execution_count": null,
   "metadata": {},
   "outputs": [],
   "source": [
    "gsm_G.Eps_vars, gsm_F.Eps_vars"
   ]
  },
  {
   "cell_type": "code",
   "execution_count": null,
   "metadata": {},
   "outputs": [],
   "source": [
    "gsm_F.F_expr"
   ]
  },
  {
   "cell_type": "code",
   "execution_count": null,
   "metadata": {},
   "outputs": [],
   "source": [
    "gsm_F.phi_"
   ]
  },
  {
   "cell_type": "code",
   "execution_count": null,
   "metadata": {},
   "outputs": [],
   "source": [
    "gsm_G.F_expr"
   ]
  },
  {
   "cell_type": "code",
   "execution_count": null,
   "metadata": {},
   "outputs": [],
   "source": [
    "sp.simplify(gsm_F.dF_dEps_), sp.simplify(gsm_G.dF_dEps_)"
   ]
  },
  {
   "cell_type": "code",
   "execution_count": null,
   "metadata": {},
   "outputs": [],
   "source": [
    "gsm_F.Sig_vars, gsm_F.Sig_, sp.simplify(gsm_G.Sig_)"
   ]
  },
  {
   "cell_type": "code",
   "execution_count": null,
   "metadata": {},
   "outputs": [],
   "source": [
    "sp.simplify(gsm_F.df_dSig_), sp.simplify(gsm_G.df_dSig_)"
   ]
  },
  {
   "cell_type": "code",
   "execution_count": null,
   "metadata": {},
   "outputs": [],
   "source": [
    "sp.simplify(gsm_F.Phi_), sp.simplify(gsm_G.Phi_)"
   ]
  },
  {
   "cell_type": "code",
   "execution_count": null,
   "metadata": {},
   "outputs": [],
   "source": [
    "sp.simplify(gsm_F.df_dEps_), sp.simplify(gsm_G.df_dEps_)"
   ]
  },
  {
   "cell_type": "code",
   "execution_count": null,
   "metadata": {},
   "outputs": [],
   "source": [
    "gsm_G.phi_, sp.simplify(gsm_G.Phi_)"
   ]
  },
  {
   "cell_type": "code",
   "execution_count": null,
   "metadata": {},
   "outputs": [],
   "source": [
    "gsm_F.dSig_dEps_, sp.simplify(gsm_G.dSig_dEps_)"
   ]
  },
  {
   "cell_type": "code",
   "execution_count": null,
   "metadata": {},
   "outputs": [],
   "source": [
    "sig_ = gsm_F.F_expr.diff(gsm_F.u_vars)\n",
    "sig_"
   ]
  },
  {
   "cell_type": "markdown",
   "metadata": {},
   "source": [
    "## Monotonic loading"
   ]
  },
  {
   "cell_type": "code",
   "execution_count": null,
   "metadata": {},
   "outputs": [],
   "source": [
    "_f_c = 44\n",
    "_f_t = -0.1 * _f_c\n",
    "_X_0 = (_f_c + _f_t) / 2\n",
    "_f_s = (_f_c - _f_t) / 2\n",
    "_E = 50000\n",
    "_KH_factor = 4\n",
    "_KH = _E * _KH_factor\n",
    "_K_ratio = 0.01 # 0.015\n",
    "_K = _KH * _K_ratio\n",
    "_H = _KH * (1 - _K_ratio)\n",
    "material_params = dict(\n",
    "    E_=_E, \n",
    "    gamma_lin_= _H, # _E * 10, \n",
    "    gamma_exp_= 0.1, # _E * 10, \n",
    "    alpha_0_= 10, # _E * 10, \n",
    "    K_lin_= _K, # _E / 5,\n",
    "    k_exp_= 0.1,\n",
    "    z_0_=10,\n",
    "    S_=0.008,\n",
    "    c_=2.5,\n",
    "    r_=2.7,\n",
    "    f_c_=_f_s,\n",
    "    X_0_=_X_0,  \n",
    "    eta_=500,\n",
    "    T_0_=20,\n",
    "    C_v_=0.01, # 0.0001, \n",
    "    beta_=0.0001,\n",
    "    alpha_therm_=0, # 1.2e-5,\n",
    "    d_N_ = 1\n",
    ")"
   ]
  },
  {
   "cell_type": "code",
   "execution_count": null,
   "metadata": {},
   "outputs": [],
   "source": [
    "def gsm_run(gsm_, u_ta, T_t, t_t, **material_params):\n",
    "    response = gsm_.get_response(u_ta, T_t, t_t, **material_params)\n",
    "    _t_t, _u_tIa, _T_t, _Eps_tIb, _Sig_tIb, _iter_t, _dF_dEps_t, lam_t = response\n",
    "    _u_atI, _Eps_btI, _Sig_btI, _dF_dEps_btI = [np.moveaxis(v_, -1, 0) for v_ in (_u_tIa, _Eps_tIb, _Sig_tIb, _dF_dEps_t)]\n",
    "    _sig_atI = gsm_.get_sig(_u_atI, _T_t, _Eps_btI, _Sig_btI, **material_params )\n",
    "    return _t_t, _u_atI, _sig_atI, _T_t, _Eps_btI, _Sig_btI, _dF_dEps_btI, lam_t \n",
    "\n",
    "gsm_F.vp_on = True\n",
    "gsm_F.update_at_k = False\n",
    "gsm_G.vp_on = True\n",
    "gsm_G.update_at_k = False"
   ]
  },
  {
   "cell_type": "code",
   "execution_count": null,
   "metadata": {},
   "outputs": [],
   "source": [
    "# params\n",
    "n_t = 151\n",
    "n_I = 1\n",
    "u_T_max = 0.005\n",
    "t_t = np.linspace(0, 1, n_t)\n",
    "u_ta_F = (u_T_max * t_t).reshape(-1, 1)\n",
    "T_t = 20 + t_t * 0\n",
    "_t_t_F, _u_atI_F, _sig_atI_F, _T_t_F, _Eps_btI_F, _Sig_btI_F, _dF_dEps_btI_F, lam_t = gsm_run(gsm_F, u_ta_F, T_t, t_t, **material_params)\n",
    "_max_sig = np.max(_sig_atI_F)\n",
    "_max_sig\n",
    "_arg_t_F = _t_t_F[np.argmax(_sig_atI_F)]\n",
    "_t_F_scale = _arg_t_F * _t_t_F[-1]\n",
    "_t_F_scale"
   ]
  },
  {
   "cell_type": "code",
   "execution_count": null,
   "metadata": {},
   "outputs": [],
   "source": [
    "# params\n",
    "t_t = np.linspace(0, 1, n_t)\n",
    "u_ta_G = (_max_sig * t_t).reshape(-1, 1)\n",
    "T_t = 20 + t_t * 0\n",
    "_t_t_G, _u_atI_G, _sig_atI_G, _T_t_G, _Eps_btI_G, _Sig_btI_G, _dF_dEps_btI_G, lam_t = gsm_run(gsm_G, u_ta_G, T_t, t_t, **material_params)\n",
    "_u_p_atI, _z_atI, _alpha_atI, _omega_atI = gsm_G.Eps_as_blocks(_Eps_btI_F)\n",
    "_, _Z_atI, _X_atI, _Y_atI = gsm_G.Eps_as_blocks(_Sig_btI_F)\n"
   ]
  },
  {
   "cell_type": "code",
   "execution_count": null,
   "metadata": {},
   "outputs": [],
   "source": [
    "from scipy.integrate import cumtrapz\n",
    "fig, ((ax, ax_T, ax_Diss), (ax_omega, ax_3, ax_4)) = plt.subplots(2,3, figsize=(12,6), tight_layout=True)\n",
    "ax.plot(_u_atI_F[0, :, 0], _sig_atI_F[0, :, 0], label='Helmholtz');\n",
    "ax.plot(_sig_atI_G[0, :, 0], _u_atI_G[0, :, 0], label='Gibbs');\n",
    "# ax_T.plot(_t_t_F, _T_t_F);\n",
    "# ax_T.plot(_t_t_G * _t_F_scale, _T_t_G);\n",
    "ax.legend()\n",
    "ax.set_title(r'stress-strain')\n",
    "ax.set_ylabel(r'$\\varsigma$')\n",
    "ax.set_xlabel(r'$\\varepsilon$')\n",
    "\n",
    "ax_T.plot(_u_atI_F[0, :, 0], _T_t_F, label='Helmholtz');\n",
    "ax_T.plot(_sig_atI_G[0, :, 0], _T_t_G, label='Gibbs');\n",
    "ax_T.legend()\n",
    "ax_T.set_title(r'temperature')\n",
    "ax_T.set_ylabel(r'$\\vartheta$')\n",
    "ax_T.set_xlabel(r'$\\varepsilon$')\n",
    "\n",
    "Diss_btI_F = cumtrapz(_dF_dEps_btI_F, _Eps_btI_F, initial=0, axis=1)\n",
    "ax_Diss.plot(_t_t_F, np.sum(Diss_btI_F[...,0], axis=0), alpha=1, label='F')\n",
    "Diss_btI_G = cumtrapz(_dF_dEps_btI_G, _Eps_btI_G, initial=0, axis=1)\n",
    "ax_Diss.plot(_t_t_G * _t_F_scale, np.sum(Diss_btI_G[...,0], axis=0), alpha=1, label='G')\n",
    "\n",
    "ax_omega.plot(_u_atI_F[0, :, 0], _omega_atI[0, :, 0])\n",
    "ax_omega.set_xlabel(r'$\\varepsilon$/-')\n",
    "ax_omega.set_ylabel(r'$\\omega$/-')\n"
   ]
  },
  {
   "cell_type": "code",
   "execution_count": null,
   "metadata": {},
   "outputs": [],
   "source": []
  },
  {
   "cell_type": "code",
   "execution_count": null,
   "metadata": {},
   "outputs": [],
   "source": []
  }
 ],
 "metadata": {
  "kernelspec": {
   "display_name": "bmcs_env2",
   "language": "python",
   "name": "python3"
  },
  "language_info": {
   "codemirror_mode": {
    "name": "ipython",
    "version": 3
   },
   "file_extension": ".py",
   "mimetype": "text/x-python",
   "name": "python",
   "nbconvert_exporter": "python",
   "pygments_lexer": "ipython3"
  }
 },
 "nbformat": 4,
 "nbformat_minor": 2
}
