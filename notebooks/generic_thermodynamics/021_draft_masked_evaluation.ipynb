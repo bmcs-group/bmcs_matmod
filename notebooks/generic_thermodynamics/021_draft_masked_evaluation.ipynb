{
 "cells": [
  {
   "cell_type": "markdown",
   "metadata": {},
   "source": [
    "# Conditional piecewise evaluation (mask)"
   ]
  },
  {
   "cell_type": "markdown",
   "metadata": {},
   "source": [
    "This was a draft implementation of a domain piecewise evaluation before finding out that the combination of \n",
    "lambdify, piecewise and cse is working as well. It might still be that some condition subexpressions get unnecessarily evaluated as as cascading might not be active in lambdifieid piecewise function. Check it"
   ]
  },
  {
   "cell_type": "code",
   "execution_count": null,
   "metadata": {},
   "outputs": [],
   "source": [
    "%matplotlib widget\n",
    "from gsm import GSM\n",
    "import matplotlib.pylab as plt \n",
    "import sympy as sp\n",
    "from bmcs_utils.api import Cymbol\n",
    "import numpy as np\n",
    "sp.init_printing()"
   ]
  },
  {
   "cell_type": "code",
   "execution_count": null,
   "metadata": {},
   "outputs": [],
   "source": [
    "gsm.lambdified_operators"
   ]
  },
  {
   "cell_type": "code",
   "execution_count": null,
   "metadata": {},
   "outputs": [],
   "source": [
    "_material_params_compare = dict(\n",
    "    E_T_=1, gamma_T_=1, K_T_=1, S_T_=1, c_T_=1, f_T_=1, \n",
    "    E_N_=1, gamma_N_=1, K_N_=0, S_N_=10, c_N_=1, m_=0.1, f_N_t_=1, f_N_c_=-20, f_N_c0_=-10, \n",
    "    r_N_=1, r_T_=1, zeta_=0., eta_N_=1, eta_T_=11, d_N_=0, alpha_therm_=1e-5, T_0_=1, C_v_=1, beta_=1\n",
    ")"
   ]
  },
  {
   "cell_type": "code",
   "execution_count": null,
   "metadata": {},
   "outputs": [],
   "source": [
    "_mp = dict(\n",
    "    E_T_=1, gamma_T_=0.0, K_T_=0.0, S_T_=10, c_T_=1, f_T_=1, gamma_N_=0,\n",
    "    E_N_=1, K_N_=0.0, S_N_=10, c_N_=1, m_=0.1, f_N_t_=1, f_N_c_=-20, f_N_c0_=-10, zeta_=0, \n",
    "    eta_N_ = 1, eta_T_ = 1, chi_ = 0, r_N_=1, r_T_=1, S_E_bar_=1, \n",
    "    alpha_therm_ = 1.2e-5, d_N_=0.01, C_v_=1, T_0_= 10,\n",
    "    beta_ = 1\n",
    ")\n",
    "sig_p_range, tau_p_range = np.mgrid[-22:3:500j, -5:5:500j]\n",
    "X_shape = (11,)\n",
    "n_D = 3\n",
    "_u_range = np.linspace(0,5,X_shape[0])\n",
    "_u_a = np.zeros((n_D,) + X_shape, dtype=np.float_)\n",
    "_u_a[0,:] = 1.1\n",
    "_u_a"
   ]
  },
  {
   "cell_type": "code",
   "execution_count": null,
   "metadata": {},
   "outputs": [],
   "source": [
    "_Eps = [np.zeros(Eps_i.shape[:-1] + X_shape, np.float_) for Eps_i in gsm.Eps.blocks]\n",
    "_Sig = gsm.get_Sig(_u_a, 20, _Eps, _Eps, **_material_params_compare)"
   ]
  },
  {
   "cell_type": "code",
   "execution_count": null,
   "metadata": {},
   "outputs": [],
   "source": [
    "gsm.get_f_df(_u_a, 20, _Eps, _Sig, **_mp)"
   ]
  },
  {
   "cell_type": "markdown",
   "metadata": {},
   "source": []
  }
 ],
 "metadata": {
  "kernelspec": {
   "display_name": "bmcs_env2",
   "language": "python",
   "name": "python3"
  },
  "language_info": {
   "codemirror_mode": {
    "name": "ipython",
    "version": 3
   },
   "file_extension": ".py",
   "mimetype": "text/x-python",
   "name": "python",
   "nbconvert_exporter": "python",
   "pygments_lexer": "ipython3"
  }
 },
 "nbformat": 4,
 "nbformat_minor": 2
}
