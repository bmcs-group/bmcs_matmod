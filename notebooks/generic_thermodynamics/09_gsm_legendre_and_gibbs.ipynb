{
 "cells": [
  {
   "cell_type": "markdown",
   "metadata": {},
   "source": [
    "# Legendre transformation and Gibbs energy\n",
    "\n",
    "In order to enable fatigue load scenarios, this notebook shows how to transform a model derived based on the Helmholtz free energy to the Gibbs free energy "
   ]
  },
  {
   "cell_type": "markdown",
   "metadata": {},
   "source": [
    "Given the Helmholtz free energy controlled by strain/displacement $u$ and temperature $\\vartheta$\n",
    "$$\n",
    "F = \\hat{F}(u, \\vartheta; \\mathcal{E})\n",
    "$$\n",
    "we seek the complementary form of the state representaiton that can is expressed using the stress level $\\sigma$ instead of the strain $u$   \n",
    "$$\n",
    "G = \\hat{G}(\\sigma, \\vartheta; \\mathcal{E})\n",
    "$$\n",
    "The Legendre transform exploits the fact that \n",
    "$$\n",
    "\\hat{F}(u, \\vartheta; \\mathcal{E})\n",
    " + \\hat{G}(\\sigma, \\vartheta; \\mathcal{E}) = \\sigma u. \n",
    "$$"
   ]
  },
  {
   "cell_type": "markdown",
   "metadata": {},
   "source": [
    "The generic derivation below exploits the fact that stress level definition as the rate of change of $F$ due to change of strain is obtained as the gradient\n",
    "$$\n",
    "\\sigma = \\partial_u F = \\Sigma(u) \n",
    "$$\n",
    "which can be symbolically inverted to obtain\n",
    "$$\n",
    "u = \\Sigma^{-1}(\\sigma).\n",
    "$$"
   ]
  },
  {
   "cell_type": "markdown",
   "metadata": {},
   "source": [
    "Thus the substitution into the Legendre transform renders\n",
    "$$\n",
    "\\hat{G}(\\sigma, \\vartheta; \\mathcal{E}) = \\sigma \\Sigma^{-1}(\\sigma) - \\hat{F}(\\Sigma^{-1}(\\sigma), \\vartheta; \\mathcal{E})\n",
    "$$"
   ]
  },
  {
   "cell_type": "markdown",
   "metadata": {},
   "source": [
    "In the framework below, two instances of the `GSM` class are constructed. The first is based on Helmholtz energy and the second on the Gibbs energy. The dissipative potential and internal variables are the same. The only difference is the swapped meaning of the variables `u` and `sig`. In case of Gibbs based GSM, input variable `u` means stress and output variable `sig` means strain. This shall be better formalized in future implementation of the API."
   ]
  },
  {
   "cell_type": "code",
   "execution_count": null,
   "metadata": {},
   "outputs": [],
   "source": [
    "%matplotlib widget\n",
    "from bmcs_matmod import GSM\n",
    "import matplotlib.pylab as plt \n",
    "import sympy as sp\n",
    "from bmcs_utils.api import Cymbol\n",
    "import numpy as np\n",
    "sp.init_printing()"
   ]
  },
  {
   "cell_type": "markdown",
   "metadata": {},
   "source": [
    "## Material parameters"
   ]
  },
  {
   "cell_type": "code",
   "execution_count": null,
   "metadata": {},
   "outputs": [],
   "source": [
    "E_T = Cymbol(r'E_{\\mathrm{T}}', codename='E_T_', real=True, nonnegative=True)\n",
    "gamma_T = Cymbol(r'\\gamma_{\\mathrm{T}}', codename='gamma_T_', real=True)\n",
    "K_T = Cymbol(r'K_{\\mathrm{T}}', codename='K_T_', real=True)\n",
    "S_T = Cymbol(r'S_{\\mathrm{T}}', codename='S_T_', real=True, nonnegative=True)\n",
    "r_T = Cymbol(r'r_{\\mathrm{T}}', codename='r_T_', real=True, nonnegative=True)\n",
    "c_T = Cymbol(r'c_{\\mathrm{T}}', codename='c_T_', real=True, nonnegative=True)\n",
    "eta_T = Cymbol(r'\\eta_{\\mathrm{T}}', codename='eta_T_', real=True, nonnegative=True)\n",
    "# temperature \n",
    "C_v = Cymbol(r'C_{\\mathrm{v}}', codename='C_v_', real=True, nonnegative=True)\n",
    "T_0 = Cymbol(r'\\vartheta_0', codename='T_0_', real=True, nonnegative=True)\n",
    "beta = Cymbol(r'\\beta', codename='beta_', real=True, nonnegative=True)"
   ]
  },
  {
   "cell_type": "code",
   "execution_count": null,
   "metadata": {},
   "outputs": [],
   "source": [
    "f_s = Cymbol(r'f_\\mathrm{T}', codename='f_s_')"
   ]
  },
  {
   "cell_type": "code",
   "execution_count": null,
   "metadata": {},
   "outputs": [],
   "source": [
    "mparams = (E_T, gamma_T, K_T, S_T, f_s, c_T, r_T, eta_T, C_v, T_0, beta)\n",
    "mparams"
   ]
  },
  {
   "cell_type": "markdown",
   "metadata": {},
   "source": [
    "## External state variables"
   ]
  },
  {
   "cell_type": "code",
   "execution_count": null,
   "metadata": {},
   "outputs": [],
   "source": [
    "u_T = Cymbol(r'u_\\mathrm{T}', codename='u_T_', real=True)\n",
    "u_a = sp.Matrix([u_T])\n",
    "sig_T = Cymbol(r'\\sigma_\\mathrm{T}', codename='sig_T_', real=True)\n",
    "sig_a = sp.Matrix([sig_T])\n",
    "sig_a"
   ]
  },
  {
   "cell_type": "code",
   "execution_count": null,
   "metadata": {},
   "outputs": [],
   "source": [
    "T = Cymbol(r'\\vartheta', codename='T_', real=True)\n",
    "Gamma = sp.exp(-beta * (T - T_0))\n",
    "Gamma"
   ]
  },
  {
   "cell_type": "markdown",
   "metadata": {},
   "source": [
    "## Internal state variables"
   ]
  },
  {
   "cell_type": "code",
   "execution_count": null,
   "metadata": {},
   "outputs": [],
   "source": [
    "u_p_T = Cymbol(r'u_\\mathrm{T}^\\mathrm{p}', codename='u_p_T_', real=True)\n",
    "u_p_a = sp.Matrix([u_p_T])\n",
    "sig_p_T = Cymbol(r'\\sigma^\\mathrm{p}_\\mathrm{T}', codename='sig_p_T_', real=True)\n",
    "sig_p_a = sp.Matrix([sig_p_T])"
   ]
  },
  {
   "cell_type": "code",
   "execution_count": null,
   "metadata": {},
   "outputs": [],
   "source": [
    "omega_T = Cymbol(r'\\omega_\\mathrm{T}', codename='omega_T_', real=True)\n",
    "omega_ab = sp.Matrix([[omega_T]])\n",
    "omega_a = sp.Matrix([omega_T])\n",
    "Y_T = Cymbol(r'Y_\\mathrm{T}', codename='Y_T_', real=True)\n",
    "Y_a = sp.Matrix([Y_T])"
   ]
  },
  {
   "cell_type": "code",
   "execution_count": null,
   "metadata": {},
   "outputs": [],
   "source": [
    "z_T = Cymbol(r'z_\\mathrm{T}', codename='z_T_', real=True, nonnegative=True)\n",
    "z_a = sp.Matrix([z_T])\n",
    "K_ab = sp.Matrix([[K_T]])\n",
    "Z_T = Cymbol(r'Z_\\mathrm{T}', codename='Z_T_', real=True, nonnegative=True)\n",
    "Z_a = sp.Matrix([Z_T])"
   ]
  },
  {
   "cell_type": "code",
   "execution_count": null,
   "metadata": {},
   "outputs": [],
   "source": [
    "alpha_T = Cymbol(r'\\alpha_\\mathrm{T}', codename='alpha_T_', real=True, nonnegative=True)\n",
    "gamma_ab = sp.Matrix([[gamma_T]])\n",
    "alpha_a = sp.Matrix([alpha_T])\n",
    "X_T = Cymbol(r'X_\\mathrm{T}', codename='X_T_', real=True, nonnegative=True)\n",
    "X_a = sp.Matrix([X_T])"
   ]
  },
  {
   "cell_type": "markdown",
   "metadata": {},
   "source": [
    "## Free energy potential"
   ]
  },
  {
   "cell_type": "code",
   "execution_count": null,
   "metadata": {},
   "outputs": [],
   "source": [
    "E_ab = sp.Matrix([[E_T]])\n",
    "u_el_a = u_a - u_p_a\n",
    "E_eff_ab = (sp.eye(1) - omega_ab) * E_ab\n",
    "E_eff_ab"
   ]
  },
  {
   "cell_type": "code",
   "execution_count": null,
   "metadata": {},
   "outputs": [],
   "source": [
    "U_e_ = sp.Rational(1,2) * (u_el_a.T * E_eff_ab * u_el_a)[0]\n",
    "U_p_ = sp.Rational(1,2) * (z_a.T * K_ab * z_a + alpha_a.T * gamma_ab * alpha_a)[0]\n",
    "TS_ = C_v * (T - T_0) **2 / (2 * T_0)\n",
    "F_ = U_e_ + U_p_ + - TS_\n",
    "F_ = U_e_ + U_p_ - TS_\n",
    "F_"
   ]
  },
  {
   "cell_type": "markdown",
   "metadata": {},
   "source": [
    "## Dissipation potential"
   ]
  },
  {
   "cell_type": "code",
   "execution_count": null,
   "metadata": {},
   "outputs": [],
   "source": [
    "sig_eff_T = sp.Function(r'\\sigma^{\\mathrm{eff}}_{\\mathrm{T}}')(sig_p_T, omega_T)\n",
    "q_T = sp.Function(r'q_Tx')(sig_eff_T,X_T)\n",
    "norm_q_T = sp.sqrt(q_T*q_T)\n",
    "subs_q_T = {q_T: (sig_eff_T - X_T)}\n",
    "subs_sig_eff = {sig_eff_T: sig_p_T / (1-omega_T) }\n",
    "y = Cymbol(r'y')\n",
    "f_s = Cymbol(r'f_s_')\n",
    "f_solved_ = sp.sqrt(y**2) - f_s\n",
    "f_ = (f_solved_\n",
    "      .subs({y: norm_q_T})\n",
    "      .subs(subs_q_T)\n",
    "      .subs(subs_sig_eff)\n",
    "      .subs(f_s,((f_s  * Gamma + Z_T)))\n",
    "      )"
   ]
  },
  {
   "cell_type": "code",
   "execution_count": null,
   "metadata": {},
   "outputs": [],
   "source": [
    "f_"
   ]
  },
  {
   "cell_type": "code",
   "execution_count": null,
   "metadata": {},
   "outputs": [],
   "source": [
    "phi_T = (1 - omega_T)**c_T * S_T / (r_T+1) * (Y_T / S_T)**(r_T+1)\n",
    "phi_ext_ = phi_T\n",
    "phi_ext_"
   ]
  },
  {
   "cell_type": "code",
   "execution_count": null,
   "metadata": {},
   "outputs": [],
   "source": [
    "t_relax_T_ = eta_T / (E_T + K_T + gamma_T)\n",
    "t_relax_ = sp.Matrix([\n",
    "                    t_relax_T_,\n",
    "                    t_relax_T_,\n",
    "                    t_relax_T_,\n",
    "                    ] \n",
    "               )"
   ]
  },
  {
   "cell_type": "markdown",
   "metadata": {},
   "source": [
    "## Gibbs free energy"
   ]
  },
  {
   "cell_type": "code",
   "execution_count": null,
   "metadata": {},
   "outputs": [],
   "source": [
    "dF_du = F_.diff(u_a)\n",
    "dF_du = dF_du.xreplace({h: 0 for h in dF_du.atoms(sp.DiracDelta)})\n",
    "dF_du = dF_du.xreplace({h: 1 for h in dF_du.atoms(sp.Heaviside)})\n",
    "u_sig_ = sp.Matrix([ sp.solve(sp.Eq(sig_i, dF_du_i), u_i)[0] for sig_i, u_i, dF_du_i in \n",
    "                            zip(sig_a, u_a, dF_du)])\n",
    "subs_u_sig_ = dict(zip(u_a, u_sig_))\n",
    "\n",
    "sig_x_u_ = (sig_a.T * u_a)[0]\n",
    "G_expr = sig_x_u_ - F_\n",
    "G_ = sp.simplify(G_expr.subs(subs_u_sig_))\n",
    "G_"
   ]
  },
  {
   "cell_type": "code",
   "execution_count": null,
   "metadata": {},
   "outputs": [],
   "source": [
    "gsm_F = GSM(\n",
    "    u_vars = u_a,\n",
    "    sig_vars = sig_a,\n",
    "    T_var = T,\n",
    "    m_params = mparams,\n",
    "    Eps_vars = (u_p_a, z_a, alpha_a, omega_a),\n",
    "    Sig_vars = (sig_p_a, Z_a, X_a, Y_a),\n",
    "    Sig_signs = (-1, 1, 1, -1),\n",
    "    F_expr = F_,\n",
    "    f_expr = f_,\n",
    "    phi_ext_expr = phi_ext_,\n",
    "    t_relax = t_relax_\n",
    ")\n",
    "\n",
    "gsm_G = GSM(\n",
    "    u_vars = sig_a,\n",
    "    sig_vars = u_a,\n",
    "    T_var = T,\n",
    "    m_params = mparams,\n",
    "    Eps_vars = (u_p_a, z_a, alpha_a, omega_a),\n",
    "    Sig_vars = (sig_p_a, Z_a, X_a, Y_a),\n",
    "    Sig_signs = (1, -1, -1, 1),\n",
    "    F_expr = G_,\n",
    "    f_expr = f_,\n",
    "    phi_ext_expr = phi_ext_,\n",
    "    t_relax = t_relax_\n",
    ")"
   ]
  },
  {
   "cell_type": "code",
   "execution_count": null,
   "metadata": {},
   "outputs": [],
   "source": [
    "gsm_F.F_expr"
   ]
  },
  {
   "cell_type": "code",
   "execution_count": null,
   "metadata": {},
   "outputs": [],
   "source": [
    "gsm_G.F_expr"
   ]
  },
  {
   "cell_type": "code",
   "execution_count": null,
   "metadata": {},
   "outputs": [],
   "source": [
    "sp.simplify(gsm_F.dF_dEps_), sp.simplify(gsm_G.dF_dEps_)"
   ]
  },
  {
   "cell_type": "code",
   "execution_count": null,
   "metadata": {},
   "outputs": [],
   "source": [
    "gsm_F.Sig_vars, gsm_F.Sig_, sp.simplify(gsm_G.Sig_)"
   ]
  },
  {
   "cell_type": "code",
   "execution_count": null,
   "metadata": {},
   "outputs": [],
   "source": [
    "sp.simplify(gsm_F.df_dSig_), sp.simplify(gsm_G.df_dSig_)"
   ]
  },
  {
   "cell_type": "code",
   "execution_count": null,
   "metadata": {},
   "outputs": [],
   "source": [
    "sp.simplify(gsm_F.Phi_), sp.simplify(gsm_G.Phi_)"
   ]
  },
  {
   "cell_type": "code",
   "execution_count": null,
   "metadata": {},
   "outputs": [],
   "source": [
    "sp.simplify(gsm_F.df_dEps_), sp.simplify(gsm_G.df_dEps_)"
   ]
  },
  {
   "cell_type": "code",
   "execution_count": null,
   "metadata": {},
   "outputs": [],
   "source": [
    "gsm_G.phi_, sp.simplify(gsm_G.Phi_)"
   ]
  },
  {
   "cell_type": "code",
   "execution_count": null,
   "metadata": {},
   "outputs": [],
   "source": [
    "gsm_F.dSig_dEps_, sp.simplify(gsm_G.dSig_dEps_)"
   ]
  },
  {
   "cell_type": "code",
   "execution_count": null,
   "metadata": {},
   "outputs": [],
   "source": [
    "import inspect\n",
    "source = inspect.getsource(gsm_G._df_dlambda_lambdified)\n",
    "print(source)"
   ]
  },
  {
   "cell_type": "code",
   "execution_count": null,
   "metadata": {},
   "outputs": [],
   "source": [
    "_u_a = np.array([1.1])\n",
    "_T = np.array([20])\n",
    "material_params = dict(\n",
    "    E_T_=2, gamma_T_=1, K_T_=1, S_T_=1000, c_T_=1, \n",
    "    f_s_=1, r_T_=2,\n",
    "    eta_T_=1, \n",
    "    T_0_=20, C_v_=1, beta_=1\n",
    ")\n",
    "_Eps_B00 = np.zeros((gsm_F.n_Eps_explicit,), np.float_ )\n",
    "_f = gsm_F.get_f(_u_a, 20, _Eps_B00, _Eps_B00, **material_params)\n",
    "_df_dlambda = gsm_F.get_df_dlambda(_u_a, 20, _Eps_B00, _Eps_B00, **material_params)\n",
    "_Sig = gsm_F.get_Sig(_u_a, 20, _Eps_B00, _Eps_B00, **material_params)\n",
    "_Eps_B00.shape, _Sig.shape"
   ]
  },
  {
   "cell_type": "code",
   "execution_count": null,
   "metadata": {},
   "outputs": [],
   "source": [
    "_Sig = gsm_F.get_Sig(_u_a, 20, _Eps_B00, _Eps_B00, **material_params)\n",
    "gsm_F.get_df_dSig(_u_a, 20, _Eps_B00, _Sig, **material_params)"
   ]
  },
  {
   "cell_type": "code",
   "execution_count": null,
   "metadata": {},
   "outputs": [],
   "source": [
    "_df_dlambda = gsm_F.get_df_dlambda(_u_a, 20, _Eps_B00, _Sig, **material_params)"
   ]
  },
  {
   "cell_type": "code",
   "execution_count": null,
   "metadata": {},
   "outputs": [],
   "source": [
    "_f2, _df_dlambda2, _Sig_B00 = gsm_F.get_f_df_Sig(_u_a, _T, _Eps_B00, _Eps_B00, **material_params)"
   ]
  },
  {
   "cell_type": "markdown",
   "metadata": {},
   "source": [
    "## Monotonic loading"
   ]
  },
  {
   "cell_type": "code",
   "execution_count": null,
   "metadata": {},
   "outputs": [],
   "source": [
    "sig_ = gsm_F.F_expr.diff(gsm_F.u_vars)\n",
    "sig_"
   ]
  },
  {
   "cell_type": "code",
   "execution_count": null,
   "metadata": {},
   "outputs": [],
   "source": [
    "material_params = dict(\n",
    "    E_T_=10, gamma_T_=1000, K_T_=10, S_T_=0.14, c_T_=2, f_s_=1, \n",
    "    eta_T_=20, r_T_=2,\n",
    "    T_0_=20, C_v_=1, beta_=1\n",
    ")"
   ]
  },
  {
   "cell_type": "code",
   "execution_count": null,
   "metadata": {},
   "outputs": [],
   "source": [
    "def gsm_run(gsm_, u_ta, T_t, t_t, **material_params):\n",
    "    response = gsm_.get_response(u_ta, T_t, t_t, **material_params)\n",
    "    _t_t, _u_tIa, _T_t, _Eps_tIb, _Sig_tIb, _iter_t, _dF_dEps_t = response\n",
    "    _u_atI, _Eps_btI, _Sig_btI = [np.moveaxis(v_, -1, 0) for v_ in (_u_tIa, _Eps_tIb, _Sig_tIb)]\n",
    "    _sig_atI = gsm_.get_sig(_u_atI, _T_t, _Eps_btI, _Sig_btI, **material_params )\n",
    "    return _t_t, _u_atI, _sig_atI, _T_t, _Eps_btI, _Sig_btI \n",
    "\n",
    "gsm_F.vp_on = True\n",
    "gsm_F.update_at_k = False\n",
    "gsm_G.vp_on = True\n",
    "gsm_G.update_at_k = False"
   ]
  },
  {
   "cell_type": "code",
   "execution_count": null,
   "metadata": {},
   "outputs": [],
   "source": [
    "# params\n",
    "n_t = 151\n",
    "n_I = 1\n",
    "u_T_max = 2\n",
    "t_t = np.linspace(0, 1, n_t)\n",
    "u_ta_F = (u_T_max * t_t).reshape(-1, 1)\n",
    "T_t = 20 + t_t * 0\n",
    "_t_t_F, _u_atI_F, _sig_atI_F, _T_t_F, _Eps_btI_F, _Sig_btI_F = gsm_run(gsm_F, u_ta_F, T_t, t_t, **material_params)\n",
    "_max_sig = np.max(_sig_atI_F)\n",
    "_max_sig"
   ]
  },
  {
   "cell_type": "code",
   "execution_count": null,
   "metadata": {},
   "outputs": [],
   "source": [
    "fig, (ax, ax_T) = plt.subplots(1,2)\n",
    "ax.plot(_u_atI_F[0, :, 0], _sig_atI_F[0, :, 0]);\n",
    "ax_T.plot(_t_t_F, _T_t_F);"
   ]
  },
  {
   "cell_type": "code",
   "execution_count": null,
   "metadata": {},
   "outputs": [],
   "source": [
    "# params\n",
    "n_t = 151\n",
    "n_I = 1\n",
    "t_t = np.linspace(0, 1, n_t)\n",
    "u_ta_G = (_max_sig * t_t).reshape(-1, 1)\n",
    "T_t = 20 + t_t * 0\n",
    "_t_t_G, _u_atI_G, _sig_atI_G, T_t, _Eps_btI_G, _Sig_btI_G = gsm_run(gsm_G, u_ta_G, T_t, t_t, **material_params)"
   ]
  },
  {
   "cell_type": "markdown",
   "metadata": {},
   "source": [
    "## Fatigue loading "
   ]
  },
  {
   "cell_type": "code",
   "execution_count": null,
   "metadata": {},
   "outputs": [],
   "source": [
    "\n",
    "def generate_cyclic_load(max_s, min_s, freq, total_cycles, points_per_cycle):\n",
    "    # Calculate the time for one cycle\n",
    "#    total_cycles = freq * total_time\n",
    "    total_time = total_cycles / freq\n",
    "\n",
    "    # Calculate the mean value and amplitude\n",
    "    mean_value = (max_s + min_s) / 2\n",
    "    amplitude = (max_s - min_s) / 2\n",
    "\n",
    "    # Calculate the initial loading slope\n",
    "    slope = 2 * np.pi * freq * amplitude\n",
    "    \n",
    "    # Time arrays for linear increase and sinusoidal part\n",
    "    initial_duration = mean_value / slope\n",
    "    initial_points = int(initial_duration * freq * points_per_cycle)\n",
    "    total_points = int(total_time * freq * points_per_cycle)\n",
    "    \n",
    "    # Generate the initial linear increase\n",
    "    initial_t = np.linspace(0, initial_duration, initial_points, endpoint=False)\n",
    "    initial_loading = slope * initial_t\n",
    "\n",
    "    # Generate the sinusoidal loading\n",
    "    sinusoidal_t = np.linspace(0, total_time, total_points, endpoint=False)\n",
    "    sinusoidal_loading = mean_value + amplitude * np.sin(2 * np.pi * freq * sinusoidal_t)\n",
    "\n",
    "    # Combine the initial linear increase with the sinusoidal loading\n",
    "    t_full = np.concatenate((initial_t, sinusoidal_t + initial_duration))\n",
    "    s_full = np.concatenate((initial_loading, sinusoidal_loading))\n",
    "    \n",
    "    return t_full, s_full\n",
    "\n",
    "fig, ax = plt.subplots(1,1, figsize=(8,3))\n",
    "t_t, s_t = generate_cyclic_load(0.66, 0.1, 5, 1000, 20)\n",
    "ax.plot(t_t, s_t, '-o')"
   ]
  },
  {
   "cell_type": "code",
   "execution_count": null,
   "metadata": {},
   "outputs": [],
   "source": [
    "# params\n",
    "t_t, s_t = generate_cyclic_load(0.66, 0.1, 5, 1000, 20)\n",
    "u_ta_fat = (_max_sig * s_t).reshape(-1, 1)\n",
    "T_t = 20 + t_t * 0\n",
    "_t_t_fat, _u_atI_fat, _sig_atI_fat, _T_t_fat, _Eps_btI_fat, _Sig_btI_fat = gsm_run(gsm_G, u_ta_fat, T_t, t_t, **material_params)"
   ]
  },
  {
   "cell_type": "code",
   "execution_count": null,
   "metadata": {},
   "outputs": [],
   "source": [
    "def sig_p_T_0_lambdified(gsm_):\n",
    "    sig_p_T_solved_ = sp.solve(gsm_.f_, sig_p_T)\n",
    "    return sp.lambdify((gsm_.u_vars, gsm_.T_var, \n",
    "                                gsm_.Eps.as_explicit(), \n",
    "                                gsm_.Sig.as_explicit()) + gsm_.m_params + ('**kw',), \n",
    "                            sig_p_T_solved_, cse=True)\n",
    "get_sig_p_T_0 = sig_p_T_0_lambdified(gsm_G)"
   ]
  },
  {
   "cell_type": "code",
   "execution_count": null,
   "metadata": {},
   "outputs": [],
   "source": [
    "fig, ((ax1, ax2), (ax3, ax4)) = plt.subplots(2,2, figsize=(8,8), tight_layout=True)\n",
    "fig.canvas.header_visible=False\n",
    "colors = ['red', 'blue', 'orange', 'gray']\n",
    "\n",
    "ax1.set_title('stress-strain')\n",
    "ax1.plot(_u_atI_F[0,:,0], _sig_atI_F[0,:,0], color='black', ls='dashed')\n",
    "ax1.plot(_sig_atI_G[0,:,0], _u_atI_G[0, :,0], color='black')\n",
    "\n",
    "ax2.set_title('damage')\n",
    "ax3.set_title('elastic domain')\n",
    "ax4.set_title('fatigue creep')\n",
    "\n",
    "S_max_levels = np.array([0.95, 0.85, 0.75, 0.65])\n",
    "alpha_line = 0.6\n",
    "for S_max, c in zip(S_max_levels, colors):\n",
    "\n",
    "    print('S_max', S_max)\n",
    "    # params\n",
    "    t_t, s_t = generate_cyclic_load(S_max, 0.1, 5, 1000, 30)\n",
    "    u_ta_fat = (_max_sig * s_t).reshape(-1, 1)\n",
    "    T_t = 20 + t_t * 0\n",
    "    _t_t_fat, _u_atI_fat, _sig_atI_fat, _T_t_fat, _Eps_btI_fat, _Sig_btI_fat = gsm_run(gsm_G, u_ta_fat, T_t, t_t, **material_params)\n",
    "    _sig_atI_top, _sig_atI_bot = get_sig_p_T_0(_u_atI_fat, _T_t_fat, _Eps_btI_fat, _Sig_btI_fat, **material_params )\n",
    "\n",
    "    ax1.plot(_sig_atI_fat[0,:,0], _u_atI_fat[0,:,0], color=c, alpha=alpha_line, label=f'$S_{{\\max}} = {S_max}$' )\n",
    "    ax1.set_xlabel(r'$\\varepsilon$/-')\n",
    "    ax1.set_ylabel(r'$\\sigma$/MPa')\n",
    "\n",
    "    _u_p_atI, _z_atI, _alpha_atI, _omega_atI = gsm_G.Eps_as_blocks(_Eps_btI_fat)\n",
    "    ax2.plot(_t_t_fat, _omega_atI[0, :, 0], color=c, alpha=alpha_line)\n",
    "    ax2.set_xlabel(r'$t$/s')\n",
    "    ax2.set_ylabel(r'$\\omega$/-')\n",
    "\n",
    "    ax3.plot(_t_t_fat, _sig_atI_top[:, 0], color=c, alpha=alpha_line)\n",
    "    ax3.plot(_t_t_fat, _sig_atI_bot[:, 0], color=c, alpha=alpha_line)\n",
    "    ax3.fill_between(_t_t_fat, _sig_atI_bot[:, 0], _sig_atI_top[:, 0], color=c, alpha=0.1)\n",
    "    ax3.set_xlabel(r'$t$/s')\n",
    "    ax3.set_ylabel(r'$\\sigma$/MPa')\n",
    "\n",
    "    ax4.plot(_t_t_fat, _sig_atI_fat[0,:,0], color=c, alpha=alpha_line)\n",
    "    ax4.set_xlabel(r'$t$/s')\n",
    "    ax4.set_ylabel(r'$\\varepsilon$/-')\n",
    "\n",
    "ax1.legend()\n",
    "    # ax4_T.plot(_t_t_fat, _T_t_fat, color=c, ls='dashed')"
   ]
  },
  {
   "cell_type": "code",
   "execution_count": null,
   "metadata": {},
   "outputs": [],
   "source": [
    "from pathlib import Path\n",
    "path = Path().home() / 'simdb' / 'data' / 'S_max_effect_high.pdf'\n",
    "fig.savefig(path)"
   ]
  },
  {
   "cell_type": "code",
   "execution_count": null,
   "metadata": {},
   "outputs": [],
   "source": []
  }
 ],
 "metadata": {
  "kernelspec": {
   "display_name": "bmcs_env2",
   "language": "python",
   "name": "python3"
  },
  "language_info": {
   "codemirror_mode": {
    "name": "ipython",
    "version": 3
   },
   "file_extension": ".py",
   "mimetype": "text/x-python",
   "name": "python",
   "nbconvert_exporter": "python",
   "pygments_lexer": "ipython3"
  }
 },
 "nbformat": 4,
 "nbformat_minor": 2
}
