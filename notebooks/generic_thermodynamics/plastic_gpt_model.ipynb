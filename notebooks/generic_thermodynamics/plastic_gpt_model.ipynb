{
 "cells": [
  {
   "cell_type": "code",
   "execution_count": null,
   "metadata": {},
   "outputs": [],
   "source": [
    "import numpy as np\n",
    "import matplotlib.pyplot as plt\n",
    "\n",
    "# defining the material class\n",
    "class Material:\n",
    "    def __init__(self, sy):\n",
    "        self.sy = sy\n",
    "        self.pl = 0 # plastic limit\n",
    "\n",
    "    # material subroutine\n",
    "    def get_stress(self, s):\n",
    "        if np.abs(s - self.pl) > self.sy: # plastic deformation\n",
    "            self.pl = s - np.sign(s - self.pl)*self.sy \n",
    "            stress = self.sy\n",
    "        else:\n",
    "            stress = s - self.pl # elastic deformation\n",
    "        return stress\n",
    "\n",
    "# defining other important parameters\n",
    "syield = 1.0\n",
    "pl = 1.0\n",
    "material = Material(syield)\n",
    "\n",
    "# defining a demonstration loop of a cyclic response\n",
    "for cycle_number in range(10):\n",
    "    slips = np.linspace(0, 2*(-1)**cycle_number, 100)\n",
    "    stresses = [material.get_stress(slip) for slip in slips]\n",
    "\n",
    "    #plotting\n",
    "    plt.plot(slips, stresses, label='cycle {}'.format(cycle_number))\n",
    "    \n",
    "plt.xlabel(\"Slip\")\n",
    "plt.ylabel(\"Stress\")\n",
    "plt.legend()\n",
    "plt.grid(True)\n",
    "plt.title(\"Stress-Slip behavior\")"
   ]
  }
 ],
 "metadata": {
  "language_info": {
   "name": "python"
  }
 },
 "nbformat": 4,
 "nbformat_minor": 2
}
