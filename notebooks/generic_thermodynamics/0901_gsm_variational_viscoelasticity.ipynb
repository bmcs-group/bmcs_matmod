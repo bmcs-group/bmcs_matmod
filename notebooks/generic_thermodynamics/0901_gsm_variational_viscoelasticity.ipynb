{
 "cells": [
  {
   "cell_type": "markdown",
   "metadata": {},
   "source": [
    "# Variational approach to continuum thermodynamics"
   ]
  },
  {
   "cell_type": "markdown",
   "metadata": {},
   "source": [
    "## Time discretization and integration"
   ]
  },
  {
   "cell_type": "markdown",
   "metadata": {},
   "source": [
    "**TODO:** Adapt the description to fit with the implementation.\n",
    "\n",
    "The notebook demonstrates the derivation of both rate and increment based formulation of the total potential that is solved using in terms of \n",
    " - rates of internal variables\n",
    " - increments of internal variables \n",
    "\n",
    "The minimization of the dissipation potential is done for an increment $\\Delta \\Pi$ defined in the time interval $\\Delta t$. This requires an integration over the increment $t \\in (t_n, t_{n+1})$, where $t_{n+1} = t_{n} + \\Delta t$.\n",
    "\n",
    "$$\n",
    "\\Delta \\Pi = \\int_{t_n}^{t_{n+1}} \\dot{\\psi} \\, \\mathrm{d}t\n",
    "+ \\int_{t_n}^{t_{n+1}} \\dot{\\phi} \\, \\mathrm{d}t\n",
    "$$\n",
    "\n",
    "$$\n",
    "\\Delta \\Pi = \\psi(t_{n+1}) - \\psi(t_n) \n",
    "+ \\int_{t_n}^{t_{n+1}} \\dot{\\phi} \\, \\mathrm{d}t\n",
    "$$\n",
    "\n",
    "$$\n",
    "\\Delta \\Pi = \\psi(\\varepsilon_{n+1}, \\mathcal{E}_{n+1}) \n",
    "           - \\psi(\\varepsilon_{n}, \\mathcal{E}_{n}) \n",
    "+ \\Delta t \\phi(\\mathcal{E}_n, \\dot{\\mathcal{E}}_n)\n",
    "$$\n"
   ]
  },
  {
   "cell_type": "markdown",
   "metadata": {},
   "source": [
    "## Three types of viscoelastic implementations "
   ]
  },
  {
   "cell_type": "code",
   "execution_count": null,
   "metadata": {},
   "outputs": [],
   "source": [
    "%matplotlib widget\n",
    "import sympy as sp\n",
    "import numpy as np\n",
    "from scipy.optimize import minimize\n",
    "from bmcs_utils.api import Cymbol, cymbols\n",
    "import matplotlib.pyplot as plt\n",
    "from math import pi\n",
    "sp.init_printing()\n"
   ]
  },
  {
   "cell_type": "code",
   "execution_count": null,
   "metadata": {},
   "outputs": [],
   "source": [
    "# Define symbols\n",
    "eps, eps_v = cymbols(r'\\varepsilon \\varepsilon_\\mathrm{v}', codenames='epsilon epsilon_v', real=True)\n",
    "E = Cymbol(r'E', codename='E', positive=True, real=True)\n",
    "eta = Cymbol(r'\\eta', codename='eta', positive=True, real=True)\n",
    "dot_eps = Cymbol(r'\\dot{\\varepsilon}', codename='dot_eps', real=True)\n",
    "dot_eps_v = Cymbol(r'\\dot{\\varepsilon}_\\mathrm{v}', codename='dot_eps_v', real=True)\n",
    "\n",
    "# Define the total strain as the sum of elastic and viscous parts\n",
    "eps_e_ = eps - eps_v\n",
    "\n",
    "# Define Helmholtz free energy Psi\n",
    "psi_ = sp.Rational(1, 2) * E * eps_e_**2\n",
    "\n",
    "# Define dissipation potential Phi\n",
    "phi_ = sp.Rational(1, 2) * eta * dot_eps_v**2\n",
    "\n",
    "# Define the stress-strain relationship for the elastic part\n",
    "sig_ = psi_.diff(eps)"
   ]
  },
  {
   "cell_type": "code",
   "execution_count": null,
   "metadata": {},
   "outputs": [],
   "source": [
    "gamma_mech_ = sp.simplify(-psi_.diff(eps_v) * dot_eps_v)\n",
    "gamma_mech_"
   ]
  },
  {
   "cell_type": "code",
   "execution_count": null,
   "metadata": {},
   "outputs": [],
   "source": [
    "class BasePsi:\n",
    "    d_t = Cymbol(r'\\Delta t', codename='d_t')\n",
    "    eps_n = Cymbol(r'\\varepsilon^{(n)}', codename='eps_n')\n",
    "    eps_v_n = Cymbol(r'\\varepsilon_\\mathrm{v}^{(n)}', codename='eps_v_n')\n",
    "    dot_eps_n = Cymbol(r'\\dot{\\varepsilon}^{(n)}', codename='dot_eps_n')\n",
    "    dot_eps_v_n = Cymbol(r'\\dot{\\varepsilon}_\\mathrm{v}^{(n)}', codename='dot_eps_v_n')\n",
    "    delta_eps_n = Cymbol(r'\\Delta{\\varepsilon}^{(n)}', codename='delta_eps_n')\n",
    "    delta_eps_v_n = Cymbol(r'\\Delta{\\varepsilon}_\\mathrm{v}^{(n)}', codename='delta_eps_v_n')\n",
    "\n",
    "    def __init__(self, rate_form=True):\n",
    "        self.rate_form = rate_form\n",
    "\n",
    "    def lambdify_functions(self, expr, variables):\n",
    "        return sp.lambdify(variables, expr, 'numpy', cse=True)\n",
    "\n",
    "class PiIncrPsiRateEps(BasePsi):\n",
    "    def __init__(self, rate_form=True):\n",
    "        super().__init__(rate_form)\n",
    "        self.gamma_n = gamma_mech_.subs({eps: self.eps_n, eps_v: self.eps_v_n, dot_eps_v: self.dot_eps_v_n})\n",
    "        self.gamma_n1 = gamma_mech_.subs({eps: self.eps_n + self.dot_eps_n * self.d_t, eps_v: self.eps_v_n + self.dot_eps_v_n * self.d_t, dot_eps_v: self.dot_eps_v_n})\n",
    "        self.Pi = - self.gamma_n1 + self.gamma_n + self.d_t * phi_.subs({dot_eps_v: self.dot_eps_v_n})\n",
    "        self.jac_Pi = sp.diff(self.Pi, self.dot_eps_v_n)\n",
    "        self.hes_Pi = sp.diff(self.jac_Pi, self.dot_eps_v_n)\n",
    "        self.sig_n1 = sig_.subs({eps: self.eps_n + self.dot_eps_n * self.d_t, eps_v: self.eps_v_n + self.dot_eps_v_n * self.d_t})\n",
    "        self.get_Pi = self.lambdify_functions(self.Pi, (self.eps_n, self.dot_eps_n, self.eps_v_n, self.dot_eps_v_n, self.d_t, E, eta))\n",
    "        self.get_jac_Pi = self.lambdify_functions(self.jac_Pi, (self.eps_n, self.dot_eps_n, self.eps_v_n, self.dot_eps_v_n, self.d_t, E, eta))\n",
    "        self.get_hes_Pi = self.lambdify_functions(self.hes_Pi, (self.eps_n, self.dot_eps_n, self.eps_v_n, self.dot_eps_v_n, self.d_t, E, eta))\n",
    "        self.get_sig_n1 = self.lambdify_functions(self.sig_n1, (self.eps_n, self.dot_eps_n, self.eps_v_n, self.dot_eps_v_n, self.d_t, E, eta))\n",
    "\n",
    "class PiRatePsiRateEps(BasePsi):\n",
    "    def __init__(self, rate_form=True):\n",
    "        super().__init__(rate_form)\n",
    "        self.Pi = (-gamma_mech_ + phi_ * self.d_t).subs({eps_v: self.eps_v_n + self.dot_eps_v_n * self.d_t, \n",
    "                                                 dot_eps_v: self.dot_eps_v_n,\n",
    "                                                 eps: self.eps_n + self.dot_eps_n * self.d_t, \n",
    "                                                 dot_eps: self.dot_eps_n})\n",
    "        self.jac_Pi = sp.diff(self.Pi, self.dot_eps_v_n)\n",
    "        self.hes_Pi = sp.diff(self.jac_Pi, self.dot_eps_v_n)\n",
    "        self.sig_n1 = sig_.subs({eps: self.eps_n + self.dot_eps_n * self.d_t, eps_v: self.eps_v_n + self.dot_eps_v_n * self.d_t})\n",
    "        self.get_Pi = self.lambdify_functions(self.Pi, (self.eps_n, self.dot_eps_n, self.eps_v_n, self.dot_eps_v_n, self.d_t, E, eta))\n",
    "        self.get_jac_Pi = self.lambdify_functions(self.jac_Pi, (self.eps_n, self.dot_eps_n, self.eps_v_n, self.dot_eps_v_n, self.d_t, E, eta))\n",
    "        self.get_hes_Pi = self.lambdify_functions(self.hes_Pi, (self.eps_n, self.dot_eps_n, self.eps_v_n, self.dot_eps_v_n, self.d_t, E, eta))\n",
    "        self.get_sig_n1 = self.lambdify_functions(self.sig_n1, (self.eps_n, self.dot_eps_n, self.eps_v_n, self.dot_eps_v_n, self.d_t, E, eta))\n",
    "\n",
    "class PiRatePsiIncrEps(BasePsi):\n",
    "    def __init__(self, rate_form=False):\n",
    "        super().__init__(rate_form)\n",
    "        self.Pi = (-gamma_mech_ + phi_ * self.d_t).subs({eps_v: self.eps_v_n + self.delta_eps_v_n, \n",
    "                                                 eps: self.eps_n + self.delta_eps_n, \n",
    "                                                 dot_eps: self.delta_eps_n / self.d_t,\n",
    "                                                 dot_eps_v: self.delta_eps_v_n / self.d_t})\n",
    "        self.jac_Pi = sp.diff(self.Pi, self.delta_eps_v_n) * self.d_t\n",
    "        self.hes_Pi = sp.diff(self.jac_Pi, self.delta_eps_v_n)\n",
    "        self.sig_n1 = sig_.subs({eps: self.eps_n + self.delta_eps_n, eps_v: self.eps_v_n + self.delta_eps_v_n})\n",
    "        self.get_Pi = self.lambdify_functions(self.Pi, (self.eps_n, self.delta_eps_n, self.eps_v_n, self.delta_eps_v_n, self.d_t, E, eta))\n",
    "        self.get_jac_Pi = self.lambdify_functions(self.jac_Pi, (self.eps_n, self.delta_eps_n, self.eps_v_n, self.delta_eps_v_n, self.d_t, E, eta))\n",
    "        self.get_hes_Pi = self.lambdify_functions(self.hes_Pi, (self.eps_n, self.delta_eps_n, self.eps_v_n, self.delta_eps_v_n, self.d_t, E, eta))\n",
    "        self.get_sig_n1 = self.lambdify_functions(self.sig_n1, (self.eps_n, self.delta_eps_n, self.eps_v_n, self.delta_eps_v_n, self.d_t, E, eta))\n",
    "\n",
    "# Create instances of each class\n",
    "pi_rate_psi_rate_eps = PiRatePsiRateEps()\n",
    "pi_incr_psi_rate_eps = PiIncrPsiRateEps()\n",
    "pi_rate_psi_incr_eps = PiRatePsiIncrEps()\n",
    "pi_rpre = pi_rate_psi_rate_eps\n",
    "pi_ipre = pi_incr_psi_rate_eps\n",
    "pi_rpie = pi_rate_psi_incr_eps\n"
   ]
  },
  {
   "cell_type": "markdown",
   "metadata": {},
   "source": [
    "## Verification test\n",
    "\n",
    "Find $\\Delta \\varepsilon_\\mathrm{v}$ for given starting vector and verify  that the lamdfified functions all attain the minimum at that point."
   ]
  },
  {
   "cell_type": "code",
   "execution_count": null,
   "metadata": {},
   "outputs": [],
   "source": [
    "pi_rpre.Pi, pi_rpie.Pi"
   ]
  },
  {
   "cell_type": "code",
   "execution_count": null,
   "metadata": {},
   "outputs": [],
   "source": [
    "rpre_eps_v_solved = sp.solve(pi_rpre.jac_Pi, pi_rpre.dot_eps_v_n)[0]\n",
    "rpie_eps_v_solved = sp.solve(pi_rpie.jac_Pi, pi_rpie.delta_eps_v_n)[0]\n",
    "rpie_eps_v_solved, rpre_eps_v_solved * pi_rpre.d_t"
   ]
  },
  {
   "cell_type": "code",
   "execution_count": null,
   "metadata": {},
   "outputs": [],
   "source": [
    "get_rpre_eps_v = sp.lambdify((pi_rpre.eps_n, \n",
    "                             pi_rpre.dot_eps_n, \n",
    "                             pi_rpre.eps_v_n, \n",
    "                             pi_rpre.d_t, \n",
    "                             E, eta), rpre_eps_v_solved, 'numpy')\n",
    "get_rpie_eps_v = sp.lambdify((pi_rpie.eps_n, \n",
    "                             pi_rpie.delta_eps_n, \n",
    "                             pi_rpie.eps_v_n, \n",
    "                             pi_rpie.d_t, \n",
    "                             E, eta), rpie_eps_v_solved, 'numpy')\n",
    "get_rpre_eps_v(0, 0, 0, 1, 1, 1), get_rpie_eps_v(0, 0, 0, 1, 1, 1)"
   ]
  },
  {
   "cell_type": "code",
   "execution_count": null,
   "metadata": {},
   "outputs": [],
   "source": [
    "pi_rpre.hes_Pi, pi_ipre.hes_Pi, pi_rpie.hes_Pi"
   ]
  },
  {
   "cell_type": "code",
   "execution_count": null,
   "metadata": {},
   "outputs": [],
   "source": []
  },
  {
   "cell_type": "code",
   "execution_count": null,
   "metadata": {},
   "outputs": [],
   "source": [
    "d_t_0 = 0.01\n",
    "E_0 = 30000\n",
    "mparams = (E_0, 0.1)\n",
    "eta_0 = 0.1\n",
    "eps_0, d_eps_0 = 0, 1\n",
    "d_eps_v_0_ = get_rpie_eps_v(eps_0, d_eps_0, 0, d_t_0, *mparams)\n",
    "eps_v_range = np.linspace(d_eps_v_0_-3, d_eps_v_0_+3, 30)\n",
    "d_eps_v_0_"
   ]
  },
  {
   "cell_type": "code",
   "execution_count": null,
   "metadata": {},
   "outputs": [],
   "source": [
    "fig, ax = plt.subplots(1,1)\n",
    "ax1 = ax.twinx()\n",
    "ax.plot(eps_v_range, pi_rpre.get_Pi(eps_0, d_eps_0/d_t_0, 0, eps_v_range/d_t_0, d_t_0, E_0, eta_0), color='blue', label='Pi')\n",
    "ax1.plot(eps_v_range, pi_rpre.get_jac_Pi(eps_0, d_eps_0/d_t_0, 0, eps_v_range/d_t_0, d_t_0, E_0, eta_0), color='red', label='dPi_ddot_eps_v')\n",
    "ax.plot(eps_v_range, pi_ipre.get_Pi(eps_0, d_eps_0/d_t_0, 0, eps_v_range/d_t_0, d_t_0, E_0, eta_0), color='green', label='Pi_t_dt')\n",
    "ax1.plot(eps_v_range, pi_ipre.get_jac_Pi(eps_0, d_eps_0/d_t_0, 0, eps_v_range/d_t_0, d_t_0, E_0, eta_0), color='orange', label='dPi_t_dt_ddot_eps_v')\n",
    "ax.plot(eps_v_range, pi_rpie.get_Pi(eps_0, d_eps_0, 0, eps_v_range, d_t_0, E_0, eta_0), color='black', label='Pi_t_dt')\n",
    "ax1.plot(eps_v_range, pi_rpie.get_jac_Pi(eps_0, d_eps_0, 0, eps_v_range, d_t_0, E_0, eta_0), color='magenta', label='dPi_t_dt_ddot_eps_v')\n",
    "ax.legend() \n"
   ]
  },
  {
   "cell_type": "markdown",
   "metadata": {},
   "source": [
    "## Define the time integrators\n",
    "\n",
    "Minimization of total potential energy is performed considering four options\n",
    "\n",
    " - Minimize $\\Pi()$ for the rate of viscous strain $\\dot{\\varepsilon}^{(n)}_\\mathrm{v}$\n",
    " - Minimize $\\Pi()$ for an increment of viscous strain $\\Delta \\varepsilon_\\mathrm{v}$"
   ]
  },
  {
   "cell_type": "code",
   "execution_count": null,
   "metadata": {},
   "outputs": [],
   "source": [
    "# Common optimization function\n",
    "def optimize_increment(pi, eps_t, d_eps_t, eps_v_t, d_eps_v_next, d_t, *args):\n",
    "    def objective(x):\n",
    "        d_eps_v, = x\n",
    "        Pi_val = pi.get_Pi(eps_t, d_eps_t, eps_v_t, d_eps_v, d_t, *args)\n",
    "        return Pi_val\n",
    "\n",
    "    def gradient(x):\n",
    "        d_eps_v, = x\n",
    "        dPi = np.array([pi.get_jac_Pi(eps_t, d_eps_t, eps_v_t, d_eps_v, d_t, *args)])\n",
    "        return dPi\n",
    "\n",
    "    res = minimize(objective, [d_eps_v_next], jac=gradient, method='Newton-CG')\n",
    "    return res.x[0]\n",
    "\n",
    "# Optimization based time integrators for viscoelasticity\n",
    "def ti_minp(pi, eps_t, time_t, *args):\n",
    "    d_eps_t = np.diff(eps_t, axis=0)\n",
    "    d_t_t = np.diff(time_t, axis=0)\n",
    "    if pi.rate_form:\n",
    "        dd_eps_t = d_eps_t / d_t_t\n",
    "    else:\n",
    "        dd_eps_t = d_eps_t\n",
    "\n",
    "    n_steps = len(eps_t)\n",
    "    eps_v_t = np.zeros(n_steps)\n",
    "    sig_t = np.zeros(n_steps)\n",
    "    dd_eps_v_next = 0\n",
    "\n",
    "    for i, d_t in enumerate(d_t_t):\n",
    "        dd_eps_v_next = optimize_increment(pi, eps_t[i], dd_eps_t[i], eps_v_t[i], dd_eps_v_next, d_t, *args)\n",
    "        sig_t[i+1] = pi.get_sig_n1(eps_t[i], dd_eps_t[i], eps_v_t[i], dd_eps_v_next, d_t, *args)\n",
    "        if pi.rate_form:\n",
    "            eps_v_t[i+1] = eps_v_t[i] + dd_eps_v_next * d_t\n",
    "        else:\n",
    "            eps_v_t[i+1] = eps_v_t[i] + dd_eps_v_next\n",
    "\n",
    "    return eps_t, eps_v_t, sig_t"
   ]
  },
  {
   "cell_type": "code",
   "execution_count": null,
   "metadata": {},
   "outputs": [],
   "source": [
    "# Newton-Raphson iteration function\n",
    "def newton_iteration(pi, eps_t, dot_eps_t, eps_v_t, d_eps_v_next, d_t, *args, max_iter=10):\n",
    "    for j in range(max_iter):\n",
    "        R_ = pi.get_jac_Pi(eps_t, dot_eps_t, eps_v_t, d_eps_v_next, d_t, *args)\n",
    "        norm_R_ = np.sqrt(R_**2)\n",
    "        if norm_R_ < 1e-6:\n",
    "            break\n",
    "        dR_dEps_ = pi.get_hes_Pi(eps_t, dot_eps_t, eps_v_t, d_eps_v_next, d_t, *args)\n",
    "        d_eps_v_next -= R_ / dR_dEps_\n",
    "    if j == max_iter - 1:\n",
    "        raise ValueError(f'Newton-Raphson did not converge in max_iter={max_iter}')\n",
    "    return d_eps_v_next\n",
    "\n",
    "# Residual based time integrator for visco-elasticity\n",
    "def ti_nr(pi, eps_t, time_t, *args):\n",
    "    d_eps_t = np.diff(eps_t, axis=0)\n",
    "    d_t_t = np.diff(time_t, axis=0)\n",
    "    if pi.rate_form:\n",
    "        dd_eps_t = d_eps_t / d_t_t\n",
    "    else:\n",
    "        dd_eps_t = d_eps_t\n",
    "\n",
    "    n_steps = len(eps_t)\n",
    "    eps_v_t = np.zeros(n_steps)\n",
    "    sig_t = np.zeros(n_steps)\n",
    "    dd_eps_v_next = 0\n",
    "\n",
    "    for i, d_t in enumerate(d_t_t):\n",
    "        dd_eps_v_next = newton_iteration(pi, eps_t[i], dd_eps_t[i], eps_v_t[i], dd_eps_v_next, d_t, *args)\n",
    "        sig_t[i+1] = pi.get_sig_n1(eps_t[i], dd_eps_t[i], eps_v_t[i], dd_eps_v_next, d_t, *args)\n",
    "        if pi.rate_form:\n",
    "            eps_v_t[i+1] = eps_v_t[i] + dd_eps_v_next * d_t\n",
    "        else:\n",
    "            eps_v_t[i+1] = eps_v_t[i] + dd_eps_v_next\n",
    "    \n",
    "    return eps_t, eps_v_t, sig_t"
   ]
  },
  {
   "cell_type": "markdown",
   "metadata": {},
   "source": [
    "## Data collection and plotting"
   ]
  },
  {
   "cell_type": "code",
   "execution_count": null,
   "metadata": {},
   "outputs": [],
   "source": [
    "# Create a simple container class to hold the data arrays\n",
    "class DataContainer:\n",
    "    def __init__(self, **kw):\n",
    "        self.__dict__.update(kw)\n",
    "\n",
    "# Function to perform integration and store results\n",
    "def perform_integration(ti, pi, eps_t, time_t, *args):\n",
    "    eps_t, eps_v_t, sig_t = ti(pi, eps_t, time_t, *args)\n",
    "    eps_e_t = eps_t - eps_v_t\n",
    "    return DataContainer(\n",
    "        time=time_t,\n",
    "        eps_t_cycles=eps_t,\n",
    "        eps_e_t=eps_e_t,\n",
    "        eps_v_t=eps_v_t,\n",
    "        sig_t=sig_t\n",
    "    )"
   ]
  },
  {
   "cell_type": "code",
   "execution_count": null,
   "metadata": {},
   "outputs": [],
   "source": [
    "def plot_results(ax1, ax2, ax3, data, label_suffix, color='blue'):\n",
    "    # Plot results\n",
    "    ax1.plot(data.time, data.eps_t_cycles, color=color, label=f'Total Strain {label_suffix}', lw=1.2, linestyle='-')\n",
    "    ax1.plot(data.time, data.eps_v_t, color=color, label=f'Viscous Strain {label_suffix}', lw=0.6, linestyle='--')\n",
    "    ax1.fill_between(data.time, data.eps_t_cycles, data.eps_v_t, color=color, alpha=0.1, label=f'Elastic Strain {label_suffix}')\n",
    "    #ax1.set_xlabel('Time [s]')\n",
    "    ax1.set_ylabel('Strain')\n",
    "    ax1.legend()\n",
    "    ax1.set_title('Strain Components')\n",
    "\n",
    "    # Remove the top and right spines\n",
    "    ax1.spines['top'].set_color('none')\n",
    "    ax1.spines['right'].set_color('none')\n",
    "\n",
    "    # Move the bottom spine to the zero of the y-axis\n",
    "    ax1.spines['bottom'].set_position('zero')\n",
    "\n",
    "    # Add an arrow at the end of the x-axis\n",
    "    ax1.annotate('', xy=(1, 0), xytext=(1, 0),\n",
    "                 arrowprops=dict(arrowstyle=\"->\", color='black', lw=0.5),\n",
    "                 xycoords=('axes fraction', 'data'), textcoords='data')\n",
    "\n",
    "    # Add a label near the arrow\n",
    "    ax1.text(1, 0, 'Time [s]', va='center', ha='left', color='black', fontsize=ax1.xaxis.get_label().get_size(),\n",
    "             transform=ax1.get_yaxis_transform())\n",
    "    ax2.plot(data.time, data.sig_t, color=color, label=f'Stress {label_suffix}')\n",
    "    ax2.set_xlabel('Time [s]')\n",
    "    ax2.set_ylabel('Stress [Pa]')\n",
    "    ax2.legend()\n",
    "    ax2.set_title('Stress Response')\n",
    "\n",
    "    ax3.plot(data.eps_t_cycles, data.sig_t, color=color, label=f'Stress-strain {label_suffix}')\n",
    "    ax3.set_xlabel('Strain [-]')\n",
    "    ax3.set_ylabel('Stress [Pa]')\n",
    "    ax3.legend()\n",
    "    ax3.set_title('Stress-Strain Response')"
   ]
  },
  {
   "cell_type": "markdown",
   "metadata": {},
   "source": [
    "### Example 1: Cyclic loading with two frequencies"
   ]
  },
  {
   "cell_type": "code",
   "execution_count": null,
   "metadata": {},
   "outputs": [],
   "source": [
    "\n",
    "E_val = 30e+3  # Young's modulus in MPa\n",
    "eta_val = 30e+6  # Viscosity modulus in Pa / s\n",
    "mparams = (E_val, eta_val)\n",
    "d_t_val = 0.01 # Time step in seconds\n",
    "final_time = 20  # Final time in secondsfinal_time = 1\n",
    "\n",
    "# Generate cyclic sinusoidal loading history\n",
    "time_t = np.arange(0, final_time, d_t_val)\n",
    "eps_t_2_cycles = 0.01 * np.sin(2 * np.pi * 1 * time_t / final_time)  # 2 cycles\n",
    "eps_t_4_cycles = 0.01 * np.sin(2 * np.pi * 4 * time_t / final_time)  # 4 cycles\n",
    "\n",
    "# Compute responses for both loading histories using get_delta_Pi and get_ddelta_Pi_ddot_eps_v\n",
    "# data_ipre_2 = perform_integration(ti_minp, pi_ipre, eps_t_2_cycles, time_t, *mparams)\n",
    "# data_ipre_4 = perform_integration(ti_minp, pi_ipre, eps_t_4_cycles, time_t, *mparams)\n",
    "\n",
    "# Compute responses for both loading histories using get_Pi and get_jac_Pi_ddot_eps_v\n",
    "data_rpre_2 = perform_integration(ti_nr, pi_rpre, eps_t_2_cycles, time_t, *mparams)\n",
    "data_rpre_4 = perform_integration(ti_nr, pi_rpre, eps_t_4_cycles, time_t, *mparams)\n"
   ]
  },
  {
   "cell_type": "code",
   "execution_count": null,
   "metadata": {},
   "outputs": [],
   "source": [
    "# Create the figure and axes\n",
    "fig, (ax1, ax2, ax3) = plt.subplots(3, 1, figsize=(8, 12))\n",
    "fig.canvas.header_visible = False\n",
    "# Plot the results for the two studies\n",
    "plot_results(ax1, ax2, ax3, data_rpre_2, '2 cycles', 'blue' )\n",
    "plot_results(ax1, ax2, ax3, data_rpre_4, '4 cycles', 'red')\n",
    "fig.tight_layout()"
   ]
  },
  {
   "cell_type": "markdown",
   "metadata": {},
   "source": [
    "### Example 2: Compare the solvers iterating in rates and increments "
   ]
  },
  {
   "cell_type": "code",
   "execution_count": null,
   "metadata": {},
   "outputs": [],
   "source": [
    "E_val = 30e3  # Young's modulus in MPa\n",
    "eta_val = 30e+5  # Viscosity modulus in Pa / s\n",
    "mparams = (E_val, eta_val)\n",
    "\n",
    "final_time = 30\n",
    "time_t = np.linspace(0, final_time, 200)\n",
    "eps_t_05_cycles = 0.01 * np.sin(2 * np.pi * 0.5 * time_t / final_time)\n",
    "time_t_ = np.hstack([time_t, time_t[1:]*1+ final_time])\n",
    "eps_t_05_cycles_ = np.hstack([eps_t_05_cycles, np.zeros_like(time_t[1:])])\n",
    "data_rpre_05 = perform_integration(ti_minp, pi_rpre, eps_t_05_cycles_, time_t_, *mparams)\n",
    "data_rpie_05 = perform_integration(ti_nr, pi_rpie, eps_t_05_cycles_, time_t_, *mparams)"
   ]
  },
  {
   "cell_type": "code",
   "execution_count": null,
   "metadata": {},
   "outputs": [],
   "source": [
    "# Create the figure and axes\n",
    "fig, (ax1, ax2, ax3) = plt.subplots(3, 1, figsize=(8, 12))\n",
    "fig.canvas.header_visible = False\n",
    "# Plot the results for the two studies\n",
    "plot_results(ax1, ax2, ax3, data_rpre_05, 'rate', color='blue')\n",
    "plot_results(ax1, ax2, ax3, data_rpie_05, 'incr', color='red')\n",
    "fig.tight_layout()"
   ]
  },
  {
   "cell_type": "code",
   "execution_count": null,
   "metadata": {},
   "outputs": [],
   "source": []
  }
 ],
 "metadata": {
  "kernelspec": {
   "display_name": "base",
   "language": "python",
   "name": "python3"
  },
  "language_info": {
   "codemirror_mode": {
    "name": "ipython",
    "version": 3
   },
   "file_extension": ".py",
   "mimetype": "text/x-python",
   "name": "python",
   "nbconvert_exporter": "python",
   "pygments_lexer": "ipython3"
  }
 },
 "nbformat": 4,
 "nbformat_minor": 2
}
