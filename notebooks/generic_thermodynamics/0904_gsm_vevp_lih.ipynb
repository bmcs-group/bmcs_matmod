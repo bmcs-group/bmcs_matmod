{
 "cells": [
  {
   "cell_type": "markdown",
   "metadata": {},
   "source": [
    "# MPDP: Visco-elasto-plasticity with isotropic hardening\n",
    "\n",
    "Associated, rate-dependent plasticity. .\n",
    "\n",
    "Application of GSM MPDP - Dissipation potential for visco-elasticity included\n"
   ]
  },
  {
   "cell_type": "code",
   "execution_count": null,
   "metadata": {},
   "outputs": [],
   "source": [
    "%matplotlib widget\n",
    "from bmcs_matmod.api import GSMMPDP\n",
    "import matplotlib.pylab as plt\n",
    "import sympy as sp\n",
    "import numpy as np\n",
    "sp.init_printing()"
   ]
  },
  {
   "cell_type": "markdown",
   "metadata": {},
   "source": [
    "### Helmholtz free energy"
   ]
  },
  {
   "cell_type": "code",
   "execution_count": null,
   "metadata": {},
   "outputs": [],
   "source": [
    "E = sp.Symbol(r'E', real=True, nonnegative=True)\n",
    "K = sp.Symbol(r'K', real=True)\n",
    "f_c = sp.Symbol(r'f_\\mathrm{c}')\n",
    "eta_vp = sp.Symbol(r'\\eta_\\mathrm{vp}', real=True, nonnegative=True)\n",
    "eta_ve = sp.Symbol(r'\\eta_\\mathrm{ve}', real=True, nonnegative=True)\n",
    "\n",
    "\n",
    "mparams = (E, K, f_c, eta_vp, eta_ve)\n",
    "\n",
    "# ## External state variables\n",
    "\n",
    "eps = sp.Symbol(r'\\varepsilon', real=True)\n",
    "eps_a = sp.Matrix([eps])\n",
    "sig = sp.Symbol(r'\\sigma', real=True)\n",
    "sig_a = sp.Matrix([sig])\n",
    "\n",
    "# ## Internal state variables\n",
    "\n",
    "eps_p = sp.Symbol(r'\\varepsilon^\\mathrm{vp}', real=True)\n",
    "eps_p_a = sp.Matrix([eps_p])\n",
    "sig_p = sp.Symbol(r'\\sigma^\\mathrm{vp}', real=True)\n",
    "sig_p_a = sp.Matrix([sig_p])\n",
    "\n",
    "eps_v = sp.Symbol(r'\\varepsilon^\\mathrm{ve}', real=True)\n",
    "eps_v_a = sp.Matrix([eps_v])\n",
    "sig_v = sp.Symbol(r'\\sigma^\\mathrm{ve}', real=True)\n",
    "sig_v_a = sp.Matrix([sig_v])\n",
    "\n",
    "z = sp.Symbol(r'z', real=True, nonnegative=True)\n",
    "z_a = sp.Matrix([z])\n",
    "Z = sp.Symbol(r'Z', real=True, nonnegative=True)\n",
    "Z_a = sp.Matrix([Z])\n",
    "\n",
    "# ## Free energy potential\n",
    "eps_el = eps - eps_v - eps_p\n",
    "U_e_ = sp.Rational(1,2) * E * eps_el**2\n",
    "U_p_ =  sp.Rational(1,2) * K * z**2\n",
    "F_ = U_e_ + U_p_\n",
    "\n",
    "# ## Flow potential\n",
    "f_ = sp.sqrt(sig_p**2) - (f_c + Z)\n",
    "phi_ext_ = 0\n",
    "\n",
    "Eps_vars = (eps_v_a, eps_p_a, z_a)\n",
    "Sig_vars = (sig_v_a, sig_p_a, Z_a)\n",
    "Sig_signs =  (-1, -1, 1)\n"
   ]
  },
  {
   "cell_type": "markdown",
   "metadata": {},
   "source": [
    "### GSM drivers"
   ]
  },
  {
   "cell_type": "code",
   "execution_count": null,
   "metadata": {},
   "outputs": [],
   "source": [
    "gsm_vevp = GSMMPDP(\n",
    "    name = 'gsm_F_1d_mpdp_vevp_lih',\n",
    "    diff_along_rates = False,\n",
    "    u_vars = eps_a,\n",
    "    sig_vars = sig_a,\n",
    "    m_params = mparams,\n",
    "    Eps_vars = Eps_vars,\n",
    "    Sig_vars = Sig_vars,\n",
    "    Sig_signs = Sig_signs,\n",
    "    F_expr = F_,\n",
    "    f_expr = f_,\n",
    ")\n",
    "dot_eps_p = gsm_vevp.dot_Eps[1, 0]\n",
    "f_d_ = gsm_vevp.f_expr - eta_vp * dot_eps_p\n",
    "gsm_vevp.f_expr = f_d_\n",
    "\n",
    "dot_eps_ve = gsm_vevp.dot_Eps[0, 0]\n",
    "sig_ve = gsm_vevp.Sig[0, 0]\n",
    "gsm_vevp.h_k = [eta_ve * dot_eps_ve - sig_ve]"
   ]
  },
  {
   "cell_type": "code",
   "execution_count": null,
   "metadata": {},
   "outputs": [],
   "source": [
    "gsm_vevp.F_expr"
   ]
  },
  {
   "cell_type": "code",
   "execution_count": null,
   "metadata": {},
   "outputs": [],
   "source": [
    "gsm_vevp.phi_"
   ]
  },
  {
   "cell_type": "code",
   "execution_count": null,
   "metadata": {},
   "outputs": [],
   "source": [
    "gsm_vevp.Sig_, gsm_vevp.phi_.diff(gsm_vevp.Sig.as_explicit()), gsm_vevp.Y_, gsm_vevp.Phi_"
   ]
  },
  {
   "cell_type": "code",
   "execution_count": null,
   "metadata": {},
   "outputs": [],
   "source": [
    "(gamma_mech, L_, dL_dS_, dL_dS_A_, dR_dA_n1), (eps_n, delta_eps, Eps_n, delta_A, delta_t, Ox, Ix), Sig_n1, f_n1, R_n1, dR_dA_n1_OI = gsm_vevp.Sig_f_R_dR_n1\n"
   ]
  },
  {
   "cell_type": "code",
   "execution_count": null,
   "metadata": {},
   "outputs": [],
   "source": [
    "gamma_mech"
   ]
  },
  {
   "cell_type": "code",
   "execution_count": null,
   "metadata": {},
   "outputs": [],
   "source": [
    "L_"
   ]
  },
  {
   "cell_type": "code",
   "execution_count": null,
   "metadata": {},
   "outputs": [],
   "source": [
    "Sig_n1"
   ]
  },
  {
   "cell_type": "code",
   "execution_count": null,
   "metadata": {},
   "outputs": [],
   "source": [
    "dL_dS_"
   ]
  },
  {
   "cell_type": "code",
   "execution_count": null,
   "metadata": {},
   "outputs": [],
   "source": [
    "R_n1_subs = R_n1.replace(sp.sign, lambda x: 1)\n",
    "R_n1_subs"
   ]
  },
  {
   "cell_type": "code",
   "execution_count": null,
   "metadata": {},
   "outputs": [],
   "source": [
    "delta_A.T"
   ]
  },
  {
   "cell_type": "code",
   "execution_count": null,
   "metadata": {},
   "outputs": [],
   "source": [
    "dR_dA_n1_subs = dR_dA_n1.replace(sp.sign, lambda x: 1)\n",
    "dR_dA_n1_subs"
   ]
  },
  {
   "cell_type": "code",
   "execution_count": null,
   "metadata": {},
   "outputs": [],
   "source": [
    "mparams_epd = {E:1, K:10, f_c:1, eta_vp:1, eta_ve:1}\n",
    "#mparams_epd = {E:1, K:10, f_c:1, eta_vp:0.01, eta_ve:1}\n",
    "margs = [mparams_epd[p] for p in mparams]\n",
    "n_t = 10\n",
    "n_I = 1\n",
    "eps_max = 6\n",
    "t_t = np.linspace(0, 1, n_t)\n",
    "eps_n_t = np.linspace(0, eps_max, n_t)\n",
    "Eps_n_Ib = np.zeros((n_I, gsm_vevp.n_Eps), dtype=np.float64)\n",
    "        # return (t_t[:n_t], eps_ta, sig_ta, Eps_t, Sig_t, iter_t, \n",
    "        #         lam_t, (d_t_t[:n_t], d_eps_ta[:n_t]))\n",
    "t_t, eps_ta, sig_ta, Eps_t, Sig_t, iter_t, lam_t, (d_t_t, d_eps_ta) = gsm_vevp.get_response(eps_n_t, t_t, 100, *margs)\n",
    "eps_ve_t, eps_vp_t, z_t = Eps_t[:, 0, 0], Eps_t[:, 0, 1], Eps_t[:, 0, 2]\n",
    "eps_t = eps_ta[:, 0]\n",
    "eps_t.shape, eps_ve_t.shape, eps_vp_t.shape"
   ]
  },
  {
   "cell_type": "code",
   "execution_count": null,
   "metadata": {},
   "outputs": [],
   "source": [
    "fig, (ax_sig, ax_eps_v) = plt.subplots(1, 2, figsize=(12, 4))\n",
    "\n",
    "# Plot viscoplastic strain and damage along time\n",
    "ax_sig.plot(eps_t, Sig_t[:,:,0], color='cadetblue', label=r'$\\varepsilon$')\n",
    "ax_sig.plot(eps_t-eps_ve_t - eps_vp_t, Sig_t[:,:,0], ls='dashed', color='cadetblue', label=r'$\\varepsilon_\\mathrm{e}$')\n",
    "ax_sig.set_ylabel(r'$\\sigma$', color='darkslategray')\n",
    "ax_sig.set_xlabel(r'$\\varepsilon$')\n",
    "ax_sig.legend()\n",
    "\n",
    "ax_eps_v.plot(t_t, eps_ve_t, label=r'$\\varepsilon_\\mathrm{ve}$', color='royalblue')\n",
    "ax_eps_v.plot(t_t, eps_ve_t + eps_vp_t, label='$\\varepsilon_\\mathrm{vp}$', color='orange')\n",
    "ax_eps_v.plot(t_t, eps_t, label='$\\varepsilon$', color='black')\n",
    "\n",
    "ax_eps_v.set_xlabel(r'$t$')\n",
    "ax_eps_v.set_ylabel(r'$\\varepsilon$')\n",
    "\n",
    "plt.tight_layout()\n",
    "plt.show()"
   ]
  },
  {
   "cell_type": "code",
   "execution_count": null,
   "metadata": {},
   "outputs": [],
   "source": [
    "mparams_epd = {E:10000, K:10000, f_c:1, eta_vp:100, eta_ve:10000}\n",
    "margs = [mparams_epd[p] for p in mparams]\n",
    "\n",
    "d_t_val = 0.01 # Time step in seconds\n",
    "final_time = 20  # Final time in secondsfinal_time = 1\n",
    "\n",
    "# Generate cyclic sinusoidal loading history\n",
    "t_t = np.arange(0, final_time, d_t_val)\n",
    "eps_t_2_cycles = 0.01 * np.sin(2 * np.pi * 2 * t_t / final_time)  # 2 cycles\n",
    "eps_t_4_cycles = 0.01 * np.sin(2 * np.pi * 4 * t_t / final_time)  # 4 cycles\n",
    "Eps_n_Ib = np.zeros((n_I, gsm_vevp.n_Eps), dtype=np.float64)\n",
    "t_t, eps_ta, sig_ta, Eps_t, Sig_t, iter_t, lam_t, (d_t_t, d_eps_ta) = gsm_vevp.get_response(eps_t_4_cycles, t_t, 100, *margs)\n",
    "eps_ve_t, eps_vp_t, z_t = Eps_t[:, 0, 0], Eps_t[:, 0, 1], Eps_t[:, 0, 2]\n",
    "eps_t = eps_ta[:, 0]\n",
    "eps_t.shape, eps_ve_t.shape, eps_vp_t.shape"
   ]
  },
  {
   "cell_type": "code",
   "execution_count": null,
   "metadata": {},
   "outputs": [],
   "source": [
    "fig, (ax_sig, ax_eps_v) = plt.subplots(1, 2, figsize=(12, 4))\n",
    "\n",
    "# Plot viscoplastic strain and damage along time\n",
    "ax_sig.plot(eps_t, Sig_t[:,:,0], color='cadetblue', label=r'$\\varepsilon$')\n",
    "ax_sig.plot(eps_t-eps_ve_t - eps_vp_t, Sig_t[:,:,0], ls='dashed', color='cadetblue', label=r'$\\varepsilon_\\mathrm{e}$')\n",
    "ax_sig.set_ylabel(r'$\\sigma$', color='darkslategray')\n",
    "ax_sig.set_xlabel(r'$\\varepsilon$')\n",
    "ax_sig.legend()\n",
    "\n",
    "ax_eps_v.plot(t_t, eps_ve_t, label=r'$\\varepsilon_\\mathrm{ve}$', color='royalblue')\n",
    "ax_eps_v.plot(t_t, eps_ve_t + eps_vp_t, label='$\\varepsilon_\\mathrm{vp}$', color='orange')\n",
    "ax_eps_v.plot(t_t, eps_t, label='$\\varepsilon$', color='black')\n",
    "\n",
    "ax_eps_v.set_xlabel(r'$t$')\n",
    "ax_eps_v.set_ylabel(r'$\\varepsilon$')\n",
    "\n",
    "plt.tight_layout()\n",
    "plt.show()"
   ]
  },
  {
   "cell_type": "code",
   "execution_count": null,
   "metadata": {},
   "outputs": [],
   "source": [
    "%matplotlib widget\n",
    "mparams = {E:1, K:0.1, f_c:1, eta_vp:1, eta_ve:0.5}\n",
    "margs = [mparams[p] for p in mparams]\n",
    "n_t = 200\n",
    "n_I = 1\n",
    "eps_max = 6\n",
    "t_t = np.linspace(0, 1, n_t)\n",
    "eps_n_t = np.linspace(0, eps_max, n_t)\n",
    "relax_t = np.linspace(3, 10, 7*n_t)[1:]\n",
    "t_t = np.hstack([t_t, np.linspace(1, 2, n_t)[1:], np.linspace(2, 3, n_t)[1:], relax_t])\n",
    "eps_n_t = np.hstack([eps_n_t, eps_n_t[-1] - 0 * eps_n_t[1:], eps_n_t[-1::-1], np.zeros_like(relax_t)])\n",
    "fig, ax = plt.subplots(1,1)\n",
    "ax.plot(eps_n_t)"
   ]
  },
  {
   "cell_type": "code",
   "execution_count": null,
   "metadata": {},
   "outputs": [],
   "source": [
    "# mparams_epd = {E:1, K:0.1, f_c:1, eta_vp:1, eta_ve:1}\n",
    "# margs = [mparams_epd[p] for p in mparams]\n",
    "# n_t = 200\n",
    "# n_I = 1\n",
    "# eps_max = 6\n",
    "# t_t = np.linspace(0, 1, n_t)\n",
    "# t_t = np.hstack([t_t, t_t[-1] + t_t[1:]])\n",
    "# eps_n_t = np.linspace(0, eps_max, n_t)\n",
    "# eps_n_t = np.hstack([eps_n_t, eps_n_t[-1] * np.ones_like(eps_n_t[:-1])])\n",
    "t_t, eps_ta, sig_ta, Eps_t, Sig_t, iter_t, lam_t, (d_t_t, d_eps_ta) = gsm_vevp.get_response(eps_n_t, t_t, 100, *margs)\n",
    "eps_ve_t, eps_vp_t, z_t = Eps_t[:, 0, 0], Eps_t[:, 0, 1], Eps_t[:, 0, 2]\n",
    "eps_t = eps_ta[:, 0]\n",
    "eps_t.shape, eps_ve_t.shape, eps_vp_t.shape"
   ]
  },
  {
   "cell_type": "code",
   "execution_count": null,
   "metadata": {},
   "outputs": [],
   "source": []
  },
  {
   "cell_type": "code",
   "execution_count": null,
   "metadata": {},
   "outputs": [],
   "source": [
    "fig, (ax_sig, ax_eps_v) = plt.subplots(1, 2, figsize=(12, 4))\n",
    "\n",
    "# Plot viscoplastic strain and damage along time\n",
    "ax_sig.plot(eps_t, Sig_t[:,:,0], color='black', label=r'$\\varepsilon$')\n",
    "ax_sig.plot(eps_t-eps_ve_t - eps_vp_t, Sig_t[:,:,0], ls='dashed', color='cadetblue', label=r'$\\varepsilon_\\mathrm{e}$')\n",
    "ax_sig.plot(eps_t-eps_vp_t, Sig_t[:,:,0], ls='dashed', color='royalblue', label=r'$\\varepsilon_\\mathrm{e} + \\varepsilon_\\mathrm{ve}$')\n",
    "ax_sig.plot(eps_t-eps_ve_t, Sig_t[:,:,0], ls='dashed', color='orange', label=r'$\\varepsilon_\\mathrm{e} + \\varepsilon_\\mathrm{vp}$')\n",
    "ax_sig.set_ylabel(r'$\\sigma$', color='darkslategray')\n",
    "ax_sig.set_xlabel(r'$\\varepsilon$')\n",
    "ax_sig.legend()\n",
    "\n",
    "ax_eps_v.plot(t_t, eps_ve_t, label=r'$\\varepsilon_\\mathrm{ve}$', color='royalblue')\n",
    "ax_eps_v.plot(t_t, eps_vp_t, label=r'$\\varepsilon_\\mathrm{vp}$', color='orange')\n",
    "ax_eps_v.plot(t_t, eps_t, label=r'$\\varepsilon$', color='black')\n",
    "\n",
    "ax_eps_v.set_xlabel(r'$t$')\n",
    "ax_eps_v.set_ylabel(r'$\\varepsilon$')\n",
    "ax_eps_v.legend()\n",
    "\n",
    "plt.tight_layout()\n",
    "plt.show()"
   ]
  },
  {
   "cell_type": "code",
   "execution_count": null,
   "metadata": {},
   "outputs": [],
   "source": [
    "mparams_epd = {E:1, K:0, f_c:1, eta_vp:0, eta_ve:0.1}\n",
    "margs = [mparams_epd[p] for p in mparams]\n",
    "eps_n_I = np.array([0, 1.0, 1.0, -1.0, 0, 0], dtype=np.float64)\n",
    "d_eps_I = np.array([0.1, -0.1, 0.1, -0.1, 2, -2], dtype=np.float64)\n",
    "n_I = eps_n_I.shape[0]\n",
    "d_t = 1\n",
    "Eps_n_Ib = np.zeros((n_I, gsm_vevp.n_Eps), dtype=np.float64)\n",
    "\n",
    "Eps_n1_Ib, Sig_n1_Ib, lam_I, k_I = gsm_vevp.get_state_n1(eps_n_I, d_eps_I, d_t, Eps_n_Ib, 30, *margs )\n",
    "Eps_n1_Ib, Sig_n1_Ib, lam_I, k_I"
   ]
  },
  {
   "cell_type": "code",
   "execution_count": null,
   "metadata": {},
   "outputs": [],
   "source": []
  },
  {
   "cell_type": "code",
   "execution_count": null,
   "metadata": {},
   "outputs": [],
   "source": []
  }
 ],
 "metadata": {
  "kernelspec": {
   "display_name": "bmcs_matmod",
   "language": "python",
   "name": "python3"
  },
  "language_info": {
   "codemirror_mode": {
    "name": "ipython",
    "version": 3
   },
   "file_extension": ".py",
   "mimetype": "text/x-python",
   "name": "python",
   "nbconvert_exporter": "python",
   "pygments_lexer": "ipython3"
  }
 },
 "nbformat": 4,
 "nbformat_minor": 2
}
