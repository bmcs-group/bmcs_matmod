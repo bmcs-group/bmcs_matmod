{
 "cells": [
  {
   "cell_type": "markdown",
   "metadata": {},
   "source": [
    "# GSM-VEVP: visco-elasto-visco-plasticity with isotropic hardening"
   ]
  },
  {
   "cell_type": "code",
   "execution_count": null,
   "metadata": {},
   "outputs": [],
   "source": [
    "%matplotlib widget\n",
    "import matplotlib.pylab as plt\n",
    "import sympy as sp\n",
    "import numpy as np\n",
    "from IPython.display import display, Math, Markdown\n",
    "from bmcs_matmod.api import GSM1D_VEVP\n",
    "gsm = GSM1D_VEVP()\n",
    "display(Markdown(gsm.latex_potentials()))"
   ]
  },
  {
   "cell_type": "markdown",
   "metadata": {},
   "source": [
    "## Linearly ascending loading"
   ]
  },
  {
   "cell_type": "code",
   "execution_count": null,
   "metadata": {},
   "outputs": [],
   "source": [
    "E_val = 30e+3  # Young's modulus in MPa\n",
    "K_val = 1e+3  # Bulk modulus in MPa\n",
    "f_c_val = 15 # Strength in MPa\n",
    "eta_vp_val = 10e+4  # Viscosity in MPa s\n",
    "eta_ve_val = 10e+4  # Viscosity in MPa s\n",
    "mparams = dict(E=E_val, K=K_val, f_c=f_c_val, eta_ve=eta_ve_val, eta_vp=eta_vp_val)\n",
    "\n",
    "f_time = 10  # Final time in secondsfinal_time = 1\n",
    "n_t = 151\n",
    "t_t = np.linspace(0, f_time, n_t)\n",
    "eps_max = 0.0025\n",
    "eps_n_t = np.linspace(0, eps_max, n_t)\n",
    "\n",
    "response = gsm.get_response(eps_n_t, t_t, **mparams)\n",
    "t_t_ec, eps_ta_ec, sig_ta_ec, Eps_t_ec, Sig_t_ec, iter_t_ec, lam_t_ec, (d_t_t_ec, d_eps_ta_ec) = response\n",
    "eps_t_ec = eps_ta_ec[:, 0]\n",
    "sig_t_ec = sig_ta_ec[:, 0, 0]\n",
    "# use the stress history to reproduce the response using stress control\n",
    "response = gsm.get_G_response(sig_t_ec, t_t, **mparams)\n",
    "t_t_sc, eps_ta_sc, sig_ta_sc, Eps_t_sc, Sig_t_sc, iter_t_sc, lam_t_sc, (d_t_t_sc, d_eps_ta_sc) = response\n",
    "iter_t = iter_t_sc[:, 0]\n",
    "eps_t_sc = eps_ta_sc[:, 0, 0]\n",
    "sig_t_sc = sig_ta_sc[:, 0]\n",
    "eps_t_ec.shape, sig_t_ec.shape, eps_t_sc.shape, sig_t_sc.shape"
   ]
  },
  {
   "cell_type": "code",
   "execution_count": null,
   "metadata": {},
   "outputs": [],
   "source": [
    "eps_ve_t_ec, eps_vp_t_ec, z_ve_t_ec = Eps_t_ec[:, 0, :].T\n",
    "sig_ve_t_ec, sig_vp_t_ec, Z_ve_t_ec = Sig_t_ec[:, 0, :].T\n",
    "eps_ve_t_sc, eps_vp_t_sc, z_ve_t_sc = Eps_t_sc[:, 0, :].T\n",
    "sig_ve_t_sc, sig_vp_t_sc, Z_ve_t_sc = Sig_t_sc[:, 0, :].T\n",
    "(sig_ve_t_ec.shape, eps_ve_t_ec.shape, sig_ve_t_sc.shape, eps_ve_t_sc.shape)"
   ]
  },
  {
   "cell_type": "code",
   "execution_count": null,
   "metadata": {},
   "outputs": [],
   "source": [
    "fig, (ax_sig, ax_eps) = plt.subplots(1, 2, figsize=(12, 4))\n",
    "\n",
    "# Plot stress-strain curves (force vs strain)\n",
    "ax_sig.plot(eps_t_ec, sig_t_ec, color='cadetblue', lw=5, label=r'$\\varepsilon$')\n",
    "ax_sig.plot(eps_t_ec - eps_ve_t_ec, sig_t_ec, ls='dashed', color='cadetblue', label=r'$\\varepsilon-\\varepsilon^\\mathrm{ve}$')\n",
    "ax_sig.plot(eps_t_ec - eps_vp_t_ec, sig_t_ec, ls='dashdot', color='cadetblue', label=r'$\\varepsilon-\\varepsilon^\\mathrm{vp}$')\n",
    "\n",
    "ax_sig.plot(eps_t_sc, sig_t_sc, color='red', label=r'$\\varepsilon$')\n",
    "ax_sig.plot(eps_t_sc - eps_ve_t_sc, sig_t_sc, ls='dashed', color='red', label=r'$\\varepsilon-\\varepsilon^\\mathrm{ve}$')\n",
    "ax_sig.plot(eps_t_sc - eps_vp_t_sc, sig_t_sc, ls='dashdot', color='red', label=r'$\\varepsilon-\\varepsilon^\\mathrm{vp}$')\n",
    "\n",
    "ax_sig.set_ylabel(r'$\\sigma$', color='darkslategray')\n",
    "ax_sig.set_xlabel(r'$\\varepsilon$')\n",
    "ax_sig.legend()\n",
    "\n",
    "# Plot strain histories vs. time\n",
    "ax_eps.plot(t_t_ec, eps_t_ec, label=r'$\\varepsilon$', color='cadetblue', lw=1)\n",
    "ax_eps.plot(t_t_ec, eps_ve_t_ec, label=r'$\\varepsilon_\\mathrm{ve}$', color='cadetblue', ls='dashed', lw=1)\n",
    "ax_eps.plot(t_t_ec, eps_vp_t_ec, label=r'$\\varepsilon_\\mathrm{vp}$', color='cadetblue', ls='dashdot', lw=1)\n",
    "\n",
    "ax_eps.plot(t_t_sc, eps_t_sc, label=r'$\\varepsilon$', color='red', lw=1)\n",
    "ax_eps.plot(t_t_sc, eps_ve_t_sc, label=r'$\\varepsilon_\\mathrm{ve}$', color='red', ls='dashed', lw=1)\n",
    "ax_eps.plot(t_t_sc, eps_vp_t_sc, label=r'$\\varepsilon_\\mathrm{vp}$', color='red', ls='dashdot', lw=1)\n",
    "\n",
    "ax_eps.legend()\n",
    "ax_eps.set_ylabel(r'$\\varepsilon$', color='cadetblue')\n",
    "\n",
    "plt.tight_layout()\n",
    "plt.show()"
   ]
  }
 ],
 "metadata": {
  "kernelspec": {
   "display_name": "bmcs_matmod",
   "language": "python",
   "name": "python3"
  },
  "language_info": {
   "codemirror_mode": {
    "name": "ipython",
    "version": 3
   },
   "file_extension": ".py",
   "mimetype": "text/x-python",
   "name": "python",
   "nbconvert_exporter": "python",
   "pygments_lexer": "ipython3"
  }
 },
 "nbformat": 4,
 "nbformat_minor": 2
}
