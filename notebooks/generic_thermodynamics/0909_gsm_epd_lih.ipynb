{
 "cells": [
  {
   "cell_type": "code",
   "execution_count": null,
   "metadata": {},
   "outputs": [],
   "source": [
    "import sympy as sp\n",
    "sp.init_printing()"
   ]
  },
  {
   "cell_type": "code",
   "execution_count": null,
   "metadata": {},
   "outputs": [],
   "source": [
    "E, K = sp.symbols(r'E, K', real=True, positive=True)\n",
    "S, r = sp.symbols(r'S r', real=True, positive=True)\n",
    "f_c = sp.symbols(r'f_c', real=True, positive=True)\n",
    "sig_p, Z, Y = sp.symbols(r'\\sigma_p Z Y', real=True)\n",
    "eps_p, z, omega = sp.symbols(r'\\varepsilon_p z \\omega', real=True)\n",
    "eps = sp.symbols(r'\\varepsilon', real=True)\n"
   ]
  },
  {
   "cell_type": "code",
   "execution_count": null,
   "metadata": {},
   "outputs": [],
   "source": [
    "Eps = sp.Matrix([eps_p, z, omega])\n",
    "dot_Eps = sp.Matrix([sp.Symbol(f'\\\\dot{{{var.name}}}', real=True) for var in Eps])\n",
    "Sig = sp.Matrix([sig_p, Z, Y])\n",
    "Sig_signs = [-1, 1, -1]\n",
    "Y_signs = sp.diag(*Sig_signs)\n"
   ]
  },
  {
   "cell_type": "code",
   "execution_count": null,
   "metadata": {},
   "outputs": [],
   "source": [
    "psi_ = sp.Rational(1, 2) * (1 - omega) * E * (eps - eps_p)**2 + sp.Rational(1, 2) * K * z**2\n",
    "psi_"
   ]
  },
  {
   "cell_type": "code",
   "execution_count": null,
   "metadata": {},
   "outputs": [],
   "source": [
    "Sig_ = psi_.diff(Eps)\n",
    "subs_Sig_Eps = dict(zip(Sig, Sig_))\n",
    "subs_Sig_Eps"
   ]
  },
  {
   "cell_type": "code",
   "execution_count": null,
   "metadata": {},
   "outputs": [],
   "source": [
    "gamma_mech_ = ((Y_signs * Sig).T @ dot_Eps)[0]\n",
    "gamma_mech_"
   ]
  },
  {
   "cell_type": "code",
   "execution_count": null,
   "metadata": {},
   "outputs": [],
   "source": [
    "f_ = sig_p / (1 - omega) - (f_c + Z)\n",
    "f_"
   ]
  },
  {
   "cell_type": "code",
   "execution_count": null,
   "metadata": {},
   "outputs": [],
   "source": [
    "Phi_d = sp.symbols(r'\\Phi_d', real=True)\n",
    "lambda_ = sp.symbols(r'\\lambda', real=True)\n",
    "L_ = - gamma_mech_ + Phi_d + lambda_ * f_\n",
    "L_"
   ]
  },
  {
   "cell_type": "code",
   "execution_count": null,
   "metadata": {},
   "outputs": [],
   "source": [
    "dot_omega_ = dot_Eps[2]\n",
    "dL_domega_ = dot_omega_ - lambda_ * (1 - omega) * (Y / S)**r\n",
    "dL_dY_ = dot_omega_ - lambda_ * (1 - omega) * (Y / S)**r\n",
    "dL_domega_"
   ]
  },
  {
   "cell_type": "code",
   "execution_count": null,
   "metadata": {},
   "outputs": [],
   "source": [
    "int_dL_domega_domega = sp.integrate(dL_domega_, dot_omega_)\n",
    "int_dL_dY_dY = sp.integrate(dL_dY_, Y)\n",
    "int_dL_domega_domega, int_dL_dY_dY"
   ]
  },
  {
   "cell_type": "code",
   "execution_count": null,
   "metadata": {},
   "outputs": [],
   "source": [
    "Phi_d_omega_ident_ = sp.solve(int_dL_domega_domega - L_, Phi_d)[0]\n",
    "Phi_d_Y_ident_ = sp.solve(int_dL_dY_dY - L_, Phi_d)[0]\n",
    "Phi_d_omega_ident_, Phi_d_Y_ident_"
   ]
  },
  {
   "cell_type": "code",
   "execution_count": null,
   "metadata": {},
   "outputs": [],
   "source": [
    "Phi_d_Y_ident_.collect(lambda_), Phi_d_Y_ident_.collect(omega)"
   ]
  },
  {
   "cell_type": "code",
   "execution_count": null,
   "metadata": {},
   "outputs": [],
   "source": [
    "Phi_d_Y_ident_\n",
    "sp.factor(Phi_d_Y_ident_)"
   ]
  },
  {
   "cell_type": "code",
   "execution_count": null,
   "metadata": {},
   "outputs": [],
   "source": [
    "a, b = sp.symbols('a b', real=True)\n",
    "sp.factor(a**2 + 2*a*b + b**2)"
   ]
  },
  {
   "cell_type": "code",
   "execution_count": null,
   "metadata": {},
   "outputs": [],
   "source": [
    "expr = sp.expand((a + b)**2)\n",
    "factored_expr = sp.factor(expr)\n",
    "factored_expr"
   ]
  },
  {
   "cell_type": "code",
   "execution_count": null,
   "metadata": {},
   "outputs": [],
   "source": [
    "L_omega_ident_ = L_.subs(Phi_d, Phi_d_omega_ident_)\n",
    "L_Y_ident_ = L_.subs(Phi_d, Phi_d_Y_ident_)\n",
    "L_omega_ident_, L_Y_ident_"
   ]
  },
  {
   "cell_type": "code",
   "execution_count": null,
   "metadata": {},
   "outputs": [],
   "source": [
    "dL_domega_ident_ = L_omega_ident_.diff(dot_omega_)\n",
    "dL_dY_ident_ = L_Y_ident_.diff(Y)\n",
    "sp.simplify(dL_domega_ident_), sp.simplify(dL_dY_ident_)"
   ]
  },
  {
   "cell_type": "code",
   "execution_count": null,
   "metadata": {},
   "outputs": [],
   "source": [
    "sp.simplify(dL_domega_ident_ - dL_domega_)"
   ]
  },
  {
   "cell_type": "code",
   "execution_count": null,
   "metadata": {},
   "outputs": [],
   "source": [
    "sp.simplify(dL_dY_ - dL_dY_ident_)"
   ]
  },
  {
   "cell_type": "code",
   "execution_count": null,
   "metadata": {},
   "outputs": [],
   "source": []
  },
  {
   "cell_type": "code",
   "execution_count": null,
   "metadata": {},
   "outputs": [],
   "source": []
  }
 ],
 "metadata": {
  "kernelspec": {
   "display_name": "bmcs_matmod",
   "language": "python",
   "name": "python3"
  },
  "language_info": {
   "codemirror_mode": {
    "name": "ipython",
    "version": 3
   },
   "file_extension": ".py",
   "mimetype": "text/x-python",
   "name": "python",
   "nbconvert_exporter": "python",
   "pygments_lexer": "ipython3"
  }
 },
 "nbformat": 4,
 "nbformat_minor": 2
}
