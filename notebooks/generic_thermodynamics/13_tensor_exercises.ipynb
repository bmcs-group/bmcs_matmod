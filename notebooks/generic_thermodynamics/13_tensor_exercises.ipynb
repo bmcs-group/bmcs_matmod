{
 "cells": [
  {
   "cell_type": "code",
   "execution_count": null,
   "metadata": {},
   "outputs": [],
   "source": [
    "import k3d\n",
    "import numpy as np\n",
    "import sympy as sp\n",
    "sp.init_printing()\n",
    "from bmcs_utils.api import Cymbol"
   ]
  },
  {
   "cell_type": "code",
   "execution_count": null,
   "metadata": {},
   "outputs": [],
   "source": [
    "f_t = Cymbol(r'f_\\mathrm{Nt}', codename='f_t_')\n",
    "f_c = Cymbol(r'f_\\mathrm{Nc}', codename='f_c_')\n",
    "f_c0 = Cymbol(r'f_\\mathrm{Nc0}', codename='f_c0_')\n",
    "f_s = Cymbol(r'f_\\mathrm{T}', codename='f_s_')\n",
    "m = Cymbol(r'm', codename='m_', real=True, nonnegative=True)\n",
    "mparams = (f_s, m, f_t, f_c, f_c0)\n",
    "mparams"
   ]
  },
  {
   "cell_type": "code",
   "execution_count": null,
   "metadata": {},
   "outputs": [],
   "source": [
    "import sympy as sp\n",
    "\n",
    "# Define the components of the stress tensor\n",
    "sigma_xx, sigma_yy, sigma_xy, sigma_xz, sigma_yz, sigma_zz = \\\n",
    "    sp.symbols('sigma_xx sigma_yy sigma_xy sigma_xz sigma_yz sigma_zz')\n",
    "\n",
    "# Create the stress tensor as a 2x2 matrix\n",
    "sig = sp.Matrix([[sigma_xx, sigma_xy, sigma_xz],\n",
    "                           [sigma_xy, sigma_yy, sigma_yz],\n",
    "                           [sigma_xz, sigma_yz, sigma_zz]])\n"
   ]
  },
  {
   "cell_type": "code",
   "execution_count": null,
   "metadata": {},
   "outputs": [],
   "source": [
    "# Define the components of the stress tensor\n",
    "sigma_ax, sigma_rad = \\\n",
    "    sp.symbols('sigma_ax sigma_rad')\n",
    "# Create the stress tensor as a 2x2 matrix\n",
    "sig_axsym = sp.Matrix([[sigma_ax, 0, 0],\n",
    "                [0, sigma_rad, 0],\n",
    "                [0, 0, sigma_rad]])"
   ]
  },
  {
   "cell_type": "code",
   "execution_count": null,
   "metadata": {},
   "outputs": [],
   "source": [
    "# Calculate the first invariant (I1)\n",
    "I1_axsym_ = sig_axsym.trace()\n",
    "sig_axsym_vol = I1_axsym_ / 3 * sp.eye(3)\n",
    "\n",
    "# Calculate the second invariant (I2)\n",
    "sig_axsym_dev = sig_axsym - sig_axsym_vol \n",
    "\n",
    "J2_axsym_ = -sp.simplify(sp.Rational(1,2) * \n",
    "                         (sig_axsym_dev.trace()**2 - (sig_axsym_dev.T * sig_axsym_dev).trace()))"
   ]
  },
  {
   "cell_type": "code",
   "execution_count": null,
   "metadata": {},
   "outputs": [],
   "source": [
    "J2_axsym_"
   ]
  },
  {
   "cell_type": "code",
   "execution_count": null,
   "metadata": {},
   "outputs": [],
   "source": [
    "\n",
    "sigma_1, sigma_2, sigma_3 = \\\n",
    "    sp.symbols('sigma_1 sigma_2 sigma_3')\n",
    "\n",
    "# Create the stress tensor as a 2x2 matrix\n",
    "sig = sp.Matrix([[sigma_1, 0, 0],\n",
    "                           [0, sigma_2, 0],\n",
    "                           [0, 0, sigma_3]])\n",
    "\n",
    "# Calculate the first invariant (I1)\n",
    "I1_ = sig.trace()\n",
    "I2_ = sp.simplify(sp.Rational(1,2) * (sig.trace()**2 - (sig.T * sig).trace()))\n",
    "I3_ = sp.simplify(sp.det(sig))\n",
    "sig_vol = I1_ / 3 * sp.eye(3)\n",
    "\n",
    "# Calculate the second invariant (I2)\n",
    "sig_dev = sig - sig_vol \n",
    "\n",
    "J2_ = -sp.simplify(sp.Rational(1,2) * (sig_dev.trace()**2 - (sig_dev.T * sig_dev).trace()))\n",
    "J3_ = sp.det(sig_dev)"
   ]
  },
  {
   "cell_type": "code",
   "execution_count": null,
   "metadata": {},
   "outputs": [],
   "source": [
    "I1_, I2_, I3_"
   ]
  },
  {
   "cell_type": "code",
   "execution_count": null,
   "metadata": {},
   "outputs": [],
   "source": [
    "J2_, J3_"
   ]
  },
  {
   "cell_type": "code",
   "execution_count": null,
   "metadata": {},
   "outputs": [],
   "source": [
    "sp.factor(J2_)"
   ]
  },
  {
   "cell_type": "code",
   "execution_count": null,
   "metadata": {},
   "outputs": [],
   "source": [
    "get_J2 = sp.lambdify((sigma_1, sigma_2, sigma_3), J2_)\n",
    "sp.sqrt(get_J2(-97, 0, 0))# , get_sqrt_J2_paper(-97, 0, 0)"
   ]
  },
  {
   "cell_type": "code",
   "execution_count": null,
   "metadata": {},
   "outputs": [],
   "source": [
    "I1, J2, J3 = sp.symbols(r'I1, J2, J3')\n",
    "a, lam, b = sp.symbols(r'a, lambda, b')\n",
    "f_co = sp.symbols(r'f_co')"
   ]
  },
  {
   "cell_type": "code",
   "execution_count": null,
   "metadata": {},
   "outputs": [],
   "source": [
    "%%capture\n",
    "%run threshold_function_f_df.ipynb"
   ]
  },
  {
   "cell_type": "code",
   "execution_count": null,
   "metadata": {},
   "outputs": [],
   "source": [
    "f_ = (f_solved_\n",
    "      .subs({x: I1, y: sp.sqrt(J2)})\n",
    "     )\n",
    "f_"
   ]
  },
  {
   "cell_type": "code",
   "execution_count": null,
   "metadata": {},
   "outputs": [],
   "source": [
    "f_I1_J2_J3_ = f_.subs({I1: I1_, J2: J2_})"
   ]
  },
  {
   "cell_type": "code",
   "execution_count": null,
   "metadata": {},
   "outputs": [],
   "source": [
    "get_f = sp.lambdify((sigma_1, sigma_2, sigma_3) + mparams, f_I1_J2_J3_ )"
   ]
  },
  {
   "cell_type": "code",
   "execution_count": null,
   "metadata": {},
   "outputs": [],
   "source": [
    "_mparams = dict(\n",
    "    f_t_=6,\n",
    "    f_s_= 3,\n",
    "    f_c0_=20,\n",
    "    f_c_=60,\n",
    "    m_ = 0.2\n",
    ")"
   ]
  },
  {
   "cell_type": "code",
   "execution_count": null,
   "metadata": {},
   "outputs": [],
   "source": [
    "# sourcery skip: avoid-builtin-shadow\n",
    "sig_min, sig_max, n_sig  = -30, 5, 80\n",
    "range = np.linspace(sig_min, sig_max, n_sig)\n",
    "sig_1, sig_2, sig_3 = np.meshgrid(range, range, range)\n",
    "get_f(-10, -10, -10, **_mparams )"
   ]
  },
  {
   "cell_type": "code",
   "execution_count": null,
   "metadata": {},
   "outputs": [],
   "source": [
    "f_range = get_f(sig_1, sig_2, sig_3, **_mparams )"
   ]
  },
  {
   "cell_type": "code",
   "execution_count": null,
   "metadata": {},
   "outputs": [],
   "source": [
    "f_range[np.isnan(f_range)] = -1"
   ]
  },
  {
   "cell_type": "code",
   "execution_count": null,
   "metadata": {},
   "outputs": [],
   "source": [
    "\n",
    "plt_marching = k3d.marching_cubes(np.array(f_range, dtype=np.float32), level=0.0,\n",
    "                                  color=0x0e2763,\n",
    "                                  opacity=0.25,\n",
    "                                  xmin=sig_min*1.2, xmax=sig_max*1,\n",
    "                                  ymin=sig_min*1.2, ymax=sig_max*1,\n",
    "                                  zmin=sig_min*1.2, zmax=sig_max*1,\n",
    "                                  compression_level=9,\n",
    "                                  flat_shading=False)\n",
    "\n",
    "plot = k3d.plot()\n",
    "plot += plt_marching\n",
    "plot.display()"
   ]
  },
  {
   "cell_type": "code",
   "execution_count": null,
   "metadata": {},
   "outputs": [],
   "source": [
    "'''\n",
    "Created on 22.06.2016\n",
    "\n",
    "@author: Yingxiong\n",
    "\n",
    "the Willam-Warnke yield surface, \n",
    "https://en.wikipedia.org/wiki/Willam-Warnke_yield_criterion\n",
    "'''\n",
    "from __future__ import division\n",
    "\n",
    "import matplotlib.pylab as plt\n",
    "import numpy as np\n",
    "\n",
    "\n",
    "def rho_3(xi, theta):\n",
    "    '''three parameter model'''\n",
    "\n",
    "    sig_c = 1.\n",
    "    sig_t = 0.3\n",
    "    sig_b = 1.7\n",
    "\n",
    "    rc = np.sqrt(6 / 5) * sig_b * sig_t / \\\n",
    "        (3 * sig_b * sig_t + sig_c * (sig_b - sig_t))\n",
    "    rt = np.sqrt(6 / 5) * sig_b * sig_t / (sig_c * (2 * sig_b + sig_t))\n",
    "\n",
    "    u = 2 * rc * (rc ** 2 - rt ** 2) * np.cos(theta)\n",
    "\n",
    "    a = 4 * (rc ** 2 - rt ** 2) * np.cos(theta) ** 2 + \\\n",
    "        5 * rt ** 2 - 4 * rt * rc\n",
    "    v = rc * (2 * rt - rc) * np.sqrt(a)\n",
    "\n",
    "    w = 4 * (rc ** 2 - rt ** 2) * np.cos(theta) ** 2 + (rc - 2 * rt) ** 2\n",
    "\n",
    "    r = (u + v) / w\n",
    "    z = sig_b * sig_t / sig_c / (sig_b - sig_t)\n",
    "\n",
    "    lambda_bar = 1 / np.sqrt(5) / r\n",
    "    B_bar = 1 / np.sqrt(3) / z\n",
    "\n",
    "    return -(B_bar * xi - sig_c) / lambda_bar\n",
    "\n",
    "\n",
    "def rho_5(xi, theta):\n",
    "    '''five parameter model'''\n",
    "\n",
    "    ft = 0.5 * np.sqrt(3)  # uniaxial tensile strength\n",
    "    fcu = 6. * np.sqrt(3)  # uniaxial compressive strength\n",
    "    fcb = 10. * np.sqrt(3)  # biaxial compressive strength\n",
    "\n",
    "    a_z = ft / fcu\n",
    "    a_u = fcb / fcu\n",
    "\n",
    "    x = 3.67\n",
    "    q1 = 1.59\n",
    "    q2 = 1.94\n",
    "\n",
    "    a2_numerator = np.sqrt(6 / 5) * x * (a_z - a_u) - \\\n",
    "        np.sqrt(6 / 5) * a_z * a_u + q1 * (2 * a_u + a_z)\n",
    "    a2_denominator = (2 * a_u + a_z) * (x ** 2 - 2 / 3. *\n",
    "                                        a_u * x + 1 / 3. * a_z * x - 2 / 9. * a_z * a_u)\n",
    "    a2 = a2_numerator / a2_denominator\n",
    "    a1 = 1 / 3. * (2 * a_u - a_z) * a2 + np.sqrt(6 / 5) * \\\n",
    "        (a_z - a_u) / (2 * a_u + a_z)\n",
    "    a0 = 2 / 3. * a_u * a1 - 4 / 9. * a_u ** 2 * a2 + np.sqrt(2 / 15.) * a_u\n",
    "\n",
    "    x0 = (-a1 - np.sqrt(a1 ** 2 - 4 * a0 * a2)) / (2 * a2)\n",
    "\n",
    "    b2 = (q2 * (x0 + 1 / 3) - np.sqrt(2 / 15.) * (x0 + x)) / \\\n",
    "        ((x + x0) * (x - 1 / 3.) * (x0 + 1 / 3.))\n",
    "    b1 = (x + 1 / 3) * b2 + (np.sqrt(6 / 5) - 3 * q2) / (3 * x - 1)\n",
    "    b0 = -x0 * b1 - x0 ** 2 * b2\n",
    "\n",
    "    r1 = a0 + a1 * (xi / fcu) + a2 * (xi / fcu) ** 2\n",
    "    r2 = b0 + b1 * (xi / fcu) + b2 * (xi / fcu) ** 2\n",
    "\n",
    "    r_numerator = 2 * r2 * (r2 ** 2 - r1 ** 2) * np.cos(theta) + r2 * (2 * r1 - r2) * \\\n",
    "        np.sqrt(4 * (r2 ** 2 - r1 ** 2) * np.cos(theta)\n",
    "                ** 2 + 5 * r1 ** 2 - 4 * r1 * r2)\n",
    "    r_denominator = 4 * (r2 ** 2 - r1 ** 2) * \\\n",
    "        np.cos(theta) ** 2 + (r2 - 2 * r1) ** 2\n",
    "    r = r_numerator / r_denominator\n",
    "    return r * fcu\n",
    "\n",
    "\n",
    "\n"
   ]
  },
  {
   "cell_type": "code",
   "execution_count": null,
   "metadata": {},
   "outputs": [],
   "source": [
    "\n",
    "x_lower_limit = -30.\n",
    "x_upper_limit = 8.\n",
    "\n",
    "xi, theta = np.mgrid[x_lower_limit:x_upper_limit:100j,\n",
    "                        0:np.pi / 3:20j]\n",
    "\n",
    "# the symmetry of the yielding surface (0<theta<pi/3)\n",
    "theta = np.hstack(\n",
    "    (theta, theta[:, ::-1],\n",
    "        theta, theta[:, ::-1],\n",
    "        theta, theta[:, ::-1]))\n",
    "xi = np.hstack((xi, xi, xi, xi, xi, xi))\n",
    "r = rho_5(xi, theta)\n",
    "r[r < 0] = 0\n",
    "\n",
    "# the actual coordinates in Haigh-Westergaard coordinates\n",
    "xi, theta = np.mgrid[x_lower_limit:x_upper_limit:100j,\n",
    "                        0:2 * np.pi:120j]\n",
    "\n",
    "sig1 = 1 / np.sqrt(3) * xi + np.sqrt(2. / 3.) * r * np.cos(theta)\n",
    "sig2 = 1 / np.sqrt(3) * xi + np.sqrt(2. / 3.) * \\\n",
    "    r * -np.sin(np.pi / 6 - theta)\n",
    "sig3 = 1 / np.sqrt(3) * xi + np.sqrt(2. / 3.) * \\\n",
    "    r * -np.sin(np.pi / 6 + theta)\n"
   ]
  },
  {
   "cell_type": "code",
   "execution_count": null,
   "metadata": {},
   "outputs": [],
   "source": [
    "p_ = np.rollaxis(np.array([sig1, sig2, sig3]), 0, 3).reshape(-1,3)"
   ]
  },
  {
   "cell_type": "code",
   "execution_count": null,
   "metadata": {},
   "outputs": [],
   "source": [
    "import k3d\n",
    "plot = k3d.plot()\n",
    "k3d_points = k3d.points(p_)\n",
    "plot += k3d_points\n",
    "plot"
   ]
  },
  {
   "cell_type": "code",
   "execution_count": null,
   "metadata": {},
   "outputs": [],
   "source": [
    "xi.shape"
   ]
  },
  {
   "cell_type": "code",
   "execution_count": null,
   "metadata": {},
   "outputs": [],
   "source": [
    "\n",
    "from numpy import sin\n",
    "\n",
    "t = np.linspace(-5, 5, 100, dtype=np.float32)\n",
    "x, y, z = np.meshgrid(t, t, t, indexing='ij')\n",
    "\n",
    "scalars = sin(x*y + x*z + y*z) + sin(x*y) + sin(y*z) + sin(x*z) - 1\n",
    "\n",
    "plt_marching = k3d.marching_cubes(scalars, level=0.0,\n",
    "                                  color=0x0e2763,\n",
    "                                  opacity=0.25,\n",
    "                                  xmin=0, xmax=1,\n",
    "                                  ymin=0, ymax=1,\n",
    "                                  zmin=0, zmax=1,\n",
    "                                  compression_level=9,\n",
    "                                  flat_shading=False)\n",
    "\n",
    "plot = k3d.plot()\n",
    "plot += plt_marching\n",
    "plot.display()"
   ]
  },
  {
   "cell_type": "code",
   "execution_count": null,
   "metadata": {},
   "outputs": [],
   "source": [
    "import mayavi.mlab as mlab\n",
    "mlab.figure(1, fgcolor=(0, 0, 0), bgcolor=(1, 1, 1))\n",
    "s = mlab.mesh(sig1, sig2, sig3)  # , scalars=xi)\n",
    "\n",
    "mlab.axes(s)\n",
    "mlab.show()\n"
   ]
  },
  {
   "cell_type": "code",
   "execution_count": null,
   "metadata": {},
   "outputs": [],
   "source": []
  }
 ],
 "metadata": {
  "kernelspec": {
   "display_name": "bmcs_env2",
   "language": "python",
   "name": "python3"
  },
  "language_info": {
   "codemirror_mode": {
    "name": "ipython",
    "version": 3
   },
   "file_extension": ".py",
   "mimetype": "text/x-python",
   "name": "python",
   "nbconvert_exporter": "python",
   "pygments_lexer": "ipython3"
  }
 },
 "nbformat": 4,
 "nbformat_minor": 4
}
