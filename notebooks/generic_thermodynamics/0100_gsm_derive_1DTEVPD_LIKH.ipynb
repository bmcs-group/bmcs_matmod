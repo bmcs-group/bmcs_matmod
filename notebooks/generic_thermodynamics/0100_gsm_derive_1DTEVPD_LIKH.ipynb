{
 "cells": [
  {
   "cell_type": "markdown",
   "metadata": {},
   "source": [
    "# Elastic, Viscoplastic model with nonlinear hardening\n",
    "\n",
    "Purpose - demonstrate the limits of non-damage model for hysteretic fatigue modeling \n",
    "\n",
    "By introducing a nonlinear isotropic model, it is possible to model the monotonic response of a quasi-brittle material with a softening response after achieving the stress limit. \n",
    "\n",
    "Show the role of the individual dissipative mechanisms, including viscoelastic damage, isotropic and kinematic hardening, and damage. \n",
    "\n",
    "Plan\n",
    "\n",
    " - reproduce the monotonic response using e.g. an exponential function analogical to Weibull probability density function.\n",
    " - define a cyclic loading which touches the elastic limits both at the upper and lower load levels\n",
    " - show that the strain does not increase \n"
   ]
  },
  {
   "cell_type": "code",
   "execution_count": null,
   "metadata": {},
   "outputs": [],
   "source": [
    "%matplotlib widget\n",
    "from bmcs_matmod import GSM\n",
    "import matplotlib.pylab as plt \n",
    "import sympy as sp\n",
    "import numpy as np\n",
    "from bmcs_matmod.gsm.potentials.potential1d_t_e_vp_d_likh import Potential1D_T_E_VP_D_LIKH_SymbExpr\n",
    "sp.init_printing()"
   ]
  },
  {
   "cell_type": "code",
   "execution_count": null,
   "metadata": {},
   "outputs": [],
   "source": [
    "p1d = Potential1D_T_E_VP_D_LIKH_SymbExpr()\n",
    "p1d.F_"
   ]
  },
  {
   "cell_type": "code",
   "execution_count": null,
   "metadata": {},
   "outputs": [],
   "source": [
    "eps_a = p1d.eps_a\n",
    "sig_a = p1d.sig_a\n",
    "dF_du = p1d.F_.diff(eps_a)\n",
    "# dF_du = dF_du.xreplace({h: 0 for h in dF_du.atoms(sp.DiracDelta)})\n",
    "# dF_du = dF_du.xreplace({h: 1 for h in dF_du.atoms(sp.Heaviside)})\n",
    "u_sig_ = sp.Matrix([ sp.solve(sp.Eq(sig_i, dF_du_i), u_i)[0] for sig_i, u_i, dF_du_i in \n",
    "                            zip(sig_a, eps_a, dF_du)])\n",
    "subs_u_sig_ = dict(zip(eps_a, u_sig_))\n",
    "subs_u_sig_"
   ]
  },
  {
   "cell_type": "code",
   "execution_count": null,
   "metadata": {},
   "outputs": [],
   "source": [
    "sig_x_u_ = (sig_a.T * eps_a)[0]\n",
    "G_expr = sig_x_u_ - p1d.F_\n",
    "G_ = sp.simplify(G_expr.subs(subs_u_sig_))\n",
    "G_"
   ]
  },
  {
   "cell_type": "code",
   "execution_count": null,
   "metadata": {},
   "outputs": [],
   "source": [
    "gsm_F = GSM(\n",
    "    name = 'gsm_F_1d_t_e_vp_d_likh',\n",
    "    u_vars = p1d.eps_a,\n",
    "    sig_vars = p1d.sig_a,\n",
    "    T_var = p1d.T,\n",
    "    m_params = p1d.mparams,\n",
    "    Eps_vars = p1d.Eps_vars,\n",
    "    Sig_vars = p1d.Sig_vars,\n",
    "    Sig_signs = p1d.Sig_signs,\n",
    "    F_expr = p1d.F_,\n",
    "    f_expr = p1d.f_,\n",
    "    phi_ext_expr = p1d.phi_ext_,\n",
    "    t_relax = p1d.t_relax_\n",
    ")\n",
    "\n",
    "gsm_G = GSM(\n",
    "    name = 'gsm_G_1d_t_e_vp_d_likh',\n",
    "    u_vars = p1d.sig_a,\n",
    "    sig_vars = p1d.eps_a,\n",
    "    T_var = p1d.T,\n",
    "    m_params = p1d.mparams,\n",
    "    Eps_vars = p1d.Eps_vars,\n",
    "    Sig_vars = p1d.Sig_vars,\n",
    "    Sig_signs = p1d.Sig_signs,\n",
    "    F_expr = G_,\n",
    "    dF_sign = -1,\n",
    "    f_expr = p1d.f_,\n",
    "    phi_ext_expr = p1d.phi_ext_,\n",
    "    t_relax = p1d.t_relax_\n",
    ")"
   ]
  },
  {
   "cell_type": "code",
   "execution_count": null,
   "metadata": {},
   "outputs": [],
   "source": [
    "gsm_F.save_to_disk()\n",
    "gsm_G.save_to_disk()"
   ]
  },
  {
   "cell_type": "code",
   "execution_count": null,
   "metadata": {},
   "outputs": [],
   "source": [
    "gsm_F.Eps_vars"
   ]
  },
  {
   "cell_type": "code",
   "execution_count": null,
   "metadata": {},
   "outputs": [],
   "source": [
    "gsm_F.F_expr"
   ]
  },
  {
   "cell_type": "code",
   "execution_count": null,
   "metadata": {},
   "outputs": [],
   "source": [
    "gsm_F.phi_"
   ]
  },
  {
   "cell_type": "code",
   "execution_count": null,
   "metadata": {},
   "outputs": [],
   "source": [
    "gsm_F.dF_dEps_"
   ]
  },
  {
   "cell_type": "code",
   "execution_count": null,
   "metadata": {},
   "outputs": [],
   "source": [
    "gsm_F.Sig_vars, gsm_F.Sig_"
   ]
  },
  {
   "cell_type": "code",
   "execution_count": null,
   "metadata": {},
   "outputs": [],
   "source": [
    "gsm_F.dSig_dEps_"
   ]
  },
  {
   "cell_type": "code",
   "execution_count": null,
   "metadata": {},
   "outputs": [],
   "source": [
    "p1d.f_"
   ]
  },
  {
   "cell_type": "code",
   "execution_count": null,
   "metadata": {},
   "outputs": [],
   "source": [
    "gsm_F.df_dSig_"
   ]
  },
  {
   "cell_type": "code",
   "execution_count": null,
   "metadata": {},
   "outputs": [],
   "source": [
    "gsm_F.df_dEps_"
   ]
  },
  {
   "cell_type": "code",
   "execution_count": null,
   "metadata": {},
   "outputs": [],
   "source": [
    "gsm_F.Phi_"
   ]
  },
  {
   "cell_type": "code",
   "execution_count": null,
   "metadata": {},
   "outputs": [],
   "source": [
    "gsm_F.df_dlambda_"
   ]
  },
  {
   "cell_type": "code",
   "execution_count": null,
   "metadata": {},
   "outputs": [],
   "source": [
    "gsm_F.m_params"
   ]
  }
 ],
 "metadata": {
  "kernelspec": {
   "display_name": "bmcs_env2",
   "language": "python",
   "name": "python3"
  },
  "language_info": {
   "codemirror_mode": {
    "name": "ipython",
    "version": 3
   },
   "file_extension": ".py",
   "mimetype": "text/x-python",
   "name": "python",
   "nbconvert_exporter": "python",
   "pygments_lexer": "ipython3"
  }
 },
 "nbformat": 4,
 "nbformat_minor": 2
}
