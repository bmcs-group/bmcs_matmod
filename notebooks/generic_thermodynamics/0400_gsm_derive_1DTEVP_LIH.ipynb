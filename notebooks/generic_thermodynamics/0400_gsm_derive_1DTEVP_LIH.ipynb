{
 "cells": [
  {
   "cell_type": "markdown",
   "metadata": {},
   "source": [
    "# Elasto-plastic isotropic hardening model\n",
    "\n",
    "Verification of the Legendre transform"
   ]
  },
  {
   "cell_type": "code",
   "execution_count": null,
   "metadata": {},
   "outputs": [],
   "source": [
    "%matplotlib widget\n",
    "from bmcs_matmod.api import GSMRM\n",
    "import matplotlib.pylab as plt\n",
    "import sympy as sp\n",
    "import numpy as np\n",
    "from bmcs_matmod.gsm.potentials.potential1d_t_e_vp_lih import Potential1D_T_E_VP_LIH_SymbExpr \n",
    "sp.init_printing()"
   ]
  },
  {
   "cell_type": "markdown",
   "metadata": {},
   "source": [
    "## Direct solution of consistency condition"
   ]
  },
  {
   "cell_type": "markdown",
   "metadata": {},
   "source": [
    "### Helmholtz free energy"
   ]
  },
  {
   "cell_type": "code",
   "execution_count": null,
   "metadata": {},
   "outputs": [],
   "source": [
    "p1d = Potential1D_T_E_VP_LIH_SymbExpr()\n",
    "p1d.F_"
   ]
  },
  {
   "cell_type": "markdown",
   "metadata": {},
   "source": [
    "### Gibbs free energy"
   ]
  },
  {
   "cell_type": "code",
   "execution_count": null,
   "metadata": {},
   "outputs": [],
   "source": [
    "eps_a = p1d.eps_a\n",
    "sig_a = p1d.sig_a\n",
    "dF_du = p1d.F_.diff(eps_a)\n",
    "u_sig_ = sp.Matrix([ sp.solve(sp.Eq(sig_i, dF_du_i), u_i)[0] for sig_i, u_i, dF_du_i in \n",
    "                            zip(sig_a, eps_a, dF_du)])\n",
    "subs_u_sig_ = dict(zip(eps_a, u_sig_))\n",
    "sp.simplify(dF_du), subs_u_sig_"
   ]
  },
  {
   "cell_type": "code",
   "execution_count": null,
   "metadata": {},
   "outputs": [],
   "source": [
    "sig_x_eps_ = (sig_a.T * eps_a)[0]\n",
    "G_expr = p1d.F_ - sig_x_eps_\n",
    "G_ = sp.simplify(G_expr.subs(subs_u_sig_))\n",
    "G_"
   ]
  },
  {
   "cell_type": "code",
   "execution_count": null,
   "metadata": {},
   "outputs": [],
   "source": [
    "G_sig = sp.simplify(p1d.F_.subs(subs_u_sig_).args[0] - sig_x_eps_.subs(subs_u_sig_))\n",
    "G_sig"
   ]
  },
  {
   "cell_type": "code",
   "execution_count": null,
   "metadata": {},
   "outputs": [],
   "source": [
    "sp.simplify((G_sig +  + p1d.sig * p1d.eps).subs(p1d.sig, p1d.E*(p1d.eps - p1d.eps_p)))"
   ]
  },
  {
   "cell_type": "markdown",
   "metadata": {},
   "source": [
    "### GSM drivers"
   ]
  },
  {
   "cell_type": "code",
   "execution_count": null,
   "metadata": {},
   "outputs": [],
   "source": [
    "gsm_F = GSMRM(\n",
    "    name = 'gsm_F_1d_t_e_vp_lkh',\n",
    "    u_vars = p1d.eps_a,\n",
    "    sig_vars = p1d.sig_a,\n",
    "    T_var = p1d.T,\n",
    "    m_params = p1d.mparams,\n",
    "    Eps_vars = p1d.Eps_vars,\n",
    "    Sig_vars = p1d.Sig_vars,\n",
    "    Sig_signs = p1d.Sig_signs,\n",
    "    F_expr = p1d.F_,\n",
    "    f_expr = p1d.f_,\n",
    "    phi_ext_expr = p1d.phi_ext_,\n",
    "    t_relax = p1d.t_relax_,\n",
    "    m_param_codenames =  p1d.m_param_codenames\n",
    ")\n",
    "\n",
    "gsm_G = GSMRM(\n",
    "    name = 'gsm_G_1d_t_e_vp_lkh',\n",
    "    u_vars = p1d.sig_a,\n",
    "    sig_vars = p1d.eps_a,\n",
    "    T_var = p1d.T,\n",
    "    m_params = p1d.mparams,\n",
    "    Eps_vars = p1d.Eps_vars,\n",
    "    Sig_signs = p1d.Sig_signs,\n",
    "    Sig_vars = p1d.Sig_vars,\n",
    "    F_expr = G_,\n",
    "    sig_sign = sp.Rational(-1),\n",
    "    f_expr = p1d.f_,\n",
    "    phi_ext_expr = p1d.phi_ext_,\n",
    "    t_relax = p1d.t_relax_,\n",
    "    m_param_codenames =  p1d.m_param_codenames\n",
    ")"
   ]
  },
  {
   "cell_type": "code",
   "execution_count": null,
   "metadata": {},
   "outputs": [],
   "source": [
    "gsm_F.Sig_, gsm_G.Sig_"
   ]
  },
  {
   "cell_type": "code",
   "execution_count": null,
   "metadata": {},
   "outputs": [],
   "source": [
    "(gsm_F.df_dSig_.T * gsm_F.dSig_dEps_ * gsm_F.Phi_, \n",
    " gsm_G.df_dSig_.T * gsm_G.dSig_dEps_ * gsm_G.Phi_)"
   ]
  },
  {
   "cell_type": "code",
   "execution_count": null,
   "metadata": {},
   "outputs": [],
   "source": [
    "gsm_F.df_dlambda_, gsm_G.df_dlambda_"
   ]
  },
  {
   "cell_type": "code",
   "execution_count": null,
   "metadata": {},
   "outputs": [],
   "source": [
    "lambda_solved_F = gsm_F.f_ / gsm_F.df_dlambda_\n",
    "lambda_solved_G = gsm_G.f_ / gsm_G.df_dlambda_"
   ]
  },
  {
   "cell_type": "code",
   "execution_count": null,
   "metadata": {},
   "outputs": [],
   "source": [
    "subs_Sig_Eps_F = dict(zip(gsm_F.Sig.as_explicit(), gsm_F.Sig_.as_explicit()))\n",
    "subs_Sig_Eps_G = dict(zip(gsm_G.Sig.as_explicit(), gsm_F.Sig_.as_explicit()))\n",
    "subs_Sig_Eps_F, subs_Sig_Eps_G"
   ]
  },
  {
   "cell_type": "code",
   "execution_count": null,
   "metadata": {},
   "outputs": [],
   "source": [
    "lambda_solved_F.subs(subs_Sig_Eps_F), lambda_solved_G.subs(subs_Sig_Eps_G)"
   ]
  },
  {
   "cell_type": "code",
   "execution_count": null,
   "metadata": {},
   "outputs": [],
   "source": [
    "gsm_F.f_, gsm_G.f_"
   ]
  },
  {
   "cell_type": "code",
   "execution_count": null,
   "metadata": {},
   "outputs": [],
   "source": [
    "gsm_F.df_dSig_,gsm_G.df_dSig_"
   ]
  },
  {
   "cell_type": "code",
   "execution_count": null,
   "metadata": {},
   "outputs": [],
   "source": [
    "gsm_F.Sig_signs"
   ]
  },
  {
   "cell_type": "code",
   "execution_count": null,
   "metadata": {},
   "outputs": [],
   "source": [
    "gsm_F.phi_.diff(gsm_F.Sig.as_explicit())"
   ]
  },
  {
   "cell_type": "code",
   "execution_count": null,
   "metadata": {},
   "outputs": [],
   "source": [
    "gsm_F.Phi_, gsm_G.Phi_"
   ]
  },
  {
   "cell_type": "code",
   "execution_count": null,
   "metadata": {},
   "outputs": [],
   "source": [
    "gsm_G.df_dEps_.T * gsm_G.Phi_"
   ]
  },
  {
   "cell_type": "code",
   "execution_count": null,
   "metadata": {},
   "outputs": [],
   "source": [
    "subs_Sig_Eps_F = dict(zip(gsm_F.Sig.as_explicit(), gsm_F.Sig_.as_explicit()))\n",
    "delta_Eps_F = sp.simplify((gsm_F.f_/ gsm_F.df_dlambda_)* gsm_F.Phi_).subs(subs_Sig_Eps_F)\n",
    "subs_Sig_Eps_G = dict(zip(gsm_G.Sig.as_explicit(), gsm_F.Sig_.as_explicit()))\n",
    "delta_Eps_G = sp.simplify((gsm_G.f_/ gsm_G.df_dlambda_)* gsm_G.Phi_).subs(subs_Sig_Eps_G)\n",
    "lambda_solved_F, lambda_solved_G"
   ]
  },
  {
   "cell_type": "code",
   "execution_count": null,
   "metadata": {},
   "outputs": [],
   "source": [
    "gsm_F.Phi_, gsm_G.Phi_"
   ]
  },
  {
   "cell_type": "code",
   "execution_count": null,
   "metadata": {},
   "outputs": [],
   "source": [
    "gsm_G.F_expr.diff(gsm_G.u_vars), gsm_G.sig_"
   ]
  },
  {
   "cell_type": "code",
   "execution_count": null,
   "metadata": {},
   "outputs": [],
   "source": [
    "gsm_F.save_to_disk()\n",
    "gsm_G.save_to_disk()"
   ]
  },
  {
   "cell_type": "markdown",
   "metadata": {},
   "source": [
    "### Monotonic loading"
   ]
  },
  {
   "cell_type": "code",
   "execution_count": null,
   "metadata": {},
   "outputs": [],
   "source": [
    "_f_c = 44\n",
    "_f_t = -0.1 * _f_c\n",
    "_X_0 = (_f_c + _f_t) / 2\n",
    "_f_s = (_f_c - _f_t) / 2\n",
    "_E = 50000\n",
    "_K_factor = 1e-2\n",
    "_K = _E * _K_factor\n",
    "material_params = dict(\n",
    "    E=_E, \n",
    "    K=_K / 10, # _E / 5,\n",
    "    f_c=_f_s,\n",
    "    eta=20000,\n",
    "    T_0=20,\n",
    "    C_v=1e+6, # 0.01, # 0.0001, \n",
    "    d_N=1,\n",
    "    beta=0 # 0.5,\n",
    ")\n",
    "p1d.mparams"
   ]
  },
  {
   "cell_type": "code",
   "execution_count": null,
   "metadata": {},
   "outputs": [],
   "source": [
    "def gsm_run(gsm_, u_ta, T_t, t_t, **material_params):\n",
    "    response = gsm_.get_response(u_ta, T_t, t_t, **material_params)\n",
    "    _t_t, _u_tIa, _T_t, _Eps_tIb, _Sig_tIb, _iter_t, _dF_dEps_t, lam_t, (d_t_t, d_u_ta) = response\n",
    "    _u_atI, _Eps_btI, _Sig_btI, _dF_dEps_btI = [np.moveaxis(v_, -1, 0) for v_ in (_u_tIa, _Eps_tIb, _Sig_tIb, _dF_dEps_t)]\n",
    "    _sig_atI = gsm_.get_sig(_u_atI, _T_t, _Eps_btI, _Sig_btI, **material_params )\n",
    "    return _t_t, _u_atI, _sig_atI, _T_t, _Eps_btI, _Sig_btI, _dF_dEps_btI, lam_t, (d_t_t, d_u_ta)\n",
    "\n",
    "gsm_F.vp_on = True\n",
    "gsm_F.update_at_k = False\n",
    "\n",
    "def get_cyclic_load(max_s, max_t, n_cycles, n_incr):\n",
    "    # Generating loading history\n",
    "    s_arr = np.tile(np.array([-1, 1]), n_cycles) * np.linspace(0, max_s, 2 * n_cycles)\n",
    "    s_arr = np.interp(np.linspace(0, max_t, n_incr * len(s_arr)), np.linspace(0, max_t, len(s_arr)), s_arr)\n",
    "\n",
    "    # time array as input\n",
    "    t_arr = np.linspace(0, max_t, len(s_arr))\n",
    "    return s_arr, t_arr"
   ]
  },
  {
   "cell_type": "code",
   "execution_count": null,
   "metadata": {},
   "outputs": [],
   "source": [
    "\n",
    "def generate_cyclic_load(max_s, min_s, freq, total_cycles, points_per_cycle):\n",
    "    # Calculate the time for one cycle\n",
    "    total_time = total_cycles / freq\n",
    "\n",
    "    # Calculate the mean value and amplitude\n",
    "    mean_value = (max_s + min_s) / 2\n",
    "    amplitude = (max_s - min_s) / 2\n",
    "\n",
    "    # Calculate the initial loading slope\n",
    "    slope = 2 * np.pi * freq * amplitude\n",
    "    \n",
    "    # Time arrays for linear increase and sinusoidal part\n",
    "    initial_duration = mean_value / slope\n",
    "    initial_points = int(initial_duration * freq * points_per_cycle)\n",
    "    total_points = int(total_time * freq * points_per_cycle)\n",
    "    \n",
    "    # Generate the initial linear increase\n",
    "    initial_t = np.linspace(0, initial_duration, initial_points, endpoint=False)\n",
    "    initial_loading = slope * initial_t\n",
    "\n",
    "    # Generate the sinusoidal loading\n",
    "    sinusoidal_t = np.linspace(0, total_time, total_points, endpoint=False)\n",
    "    sinusoidal_loading = mean_value + amplitude * np.sin(2 * np.pi * freq * sinusoidal_t)\n",
    "\n",
    "    # Combine the initial linear increase with the sinusoidal loading\n",
    "    t_full = np.concatenate((initial_t, sinusoidal_t + initial_duration))\n",
    "    s_full = np.concatenate((initial_loading, sinusoidal_loading))\n",
    "    \n",
    "    return s_full, t_full"
   ]
  },
  {
   "cell_type": "code",
   "execution_count": null,
   "metadata": {},
   "outputs": [],
   "source": [
    "material_params"
   ]
  },
  {
   "cell_type": "code",
   "execution_count": null,
   "metadata": {},
   "outputs": [],
   "source": [
    "max_s = 0.002\n",
    "u_t_F, t_t_F = get_cyclic_load( n_cycles=1, max_s=max_s, \n",
    "                                max_t=1, n_incr = 3)\n",
    "# u_t_F, t_t_F = generate_cyclic_load(max_s, -max_s, 1, 10, 30)\n",
    "T_t_F = 20 + t_t_F * 0\n",
    "print(u_t_F.shape, T_t_F.shape, t_t_F.shape)\n",
    "response_values_F = gsm_run(gsm_F, u_t_F[:,np.newaxis], T_t_F, t_t_F, **material_params)"
   ]
  },
  {
   "cell_type": "code",
   "execution_count": null,
   "metadata": {},
   "outputs": [],
   "source": [
    "_t_t_F, _u_atI_F, _sig_atI_F, _T_t_F, _Eps_btI_F, _Sig_btI_F, _dF_dEps_btI_F, lam_t_F, (d_t_t, d_u_ta) = response_values_F \n",
    "argmax_sig_ = np.argmax(_sig_atI_F)\n",
    "t_t_G = _t_t_F # [:argmax_sig_+1]\n",
    "u_ta_G = _sig_atI_F[...].reshape(-1, 1) # [0, :argmax_sig_+1, 0].reshape(-1, 1)\n",
    "T_t_G = 20 + t_t_G * 0\n",
    "response_values_G = gsm_run(gsm_G, u_ta_G, T_t_G, t_t_G, **material_params)"
   ]
  },
  {
   "cell_type": "code",
   "execution_count": null,
   "metadata": {},
   "outputs": [],
   "source": [
    "fig, ((ax_eps, ax_sig), (ax_lam, ax_z), (ax_eps_p, ax_sig_eps)) = plt.subplots(3,2, figsize=(12,10), tight_layout=True)\n",
    "\n",
    "_t_t_F, _u_atI_F, _sig_atI_F, _T_t_F, _Eps_btI_F, _Sig_btI_F, _dF_dEps_btI_F, _lam_t_F, (_d_t_F, _d_u_ta_F) = response_values_F \n",
    "_u_p_atI_F, _z_atI_F = gsm_F.Eps_as_blocks(_Eps_btI_F)\n",
    "_, _Z_atI_F = gsm_F.Eps_as_blocks(_Sig_btI_F)\n",
    "\n",
    "_t_t_G, _sig_atI_G, _u_atI_G, _T_t_G, _Eps_btI_G, _Sig_btI_G, _dF_dEps_btI_G, _lam_t_G, (_d_t_G, _d_u_ta_G) = response_values_G \n",
    "_u_p_atI_G, _z_atI_G = gsm_G.Eps_as_blocks(_Eps_btI_G)\n",
    "_, _Z_atI_G = gsm_G.Eps_as_blocks(_Sig_btI_G)\n",
    "\n",
    "ax_sig_eps.plot(_u_atI_F[0, :, 0], _sig_atI_F[0, :, 0], 'o-', label='F', color='blue',)\n",
    "ax_sig_eps.plot(_u_atI_G[0, :, 0], _sig_atI_G[0, :, 0], 'o', label='G', color='red', ls='dashed')\n",
    "ax_sig_eps.legend()\n",
    "ax_sig_eps.set_title(r'strain-strain')\n",
    "ax_sig_eps.set_ylabel(r'$\\sigma$')\n",
    "ax_sig_eps.set_xlabel(r'$\\varepsilon$')\n",
    "\n",
    "ax_eps.plot(_t_t_F, _u_atI_F[0, :, 0], 'o-',label='F', color='blue',)\n",
    "ax_eps.plot(_t_t_G, _u_atI_G[0, :, 0], 'o', label='G', color='red', ls='dashed')\n",
    "ax_eps.legend()\n",
    "ax_eps.set_title(r'strain-time')\n",
    "ax_eps.set_ylabel(r'$\\varepsilon$')\n",
    "ax_eps.set_xlabel(r'$t$')\n",
    "\n",
    "ax_sig.plot(_t_t_F, _sig_atI_F[0, :, 0], 'o-', label='F', color='blue')\n",
    "ax_sig.plot(_t_t_G, _sig_atI_G[0, :, 0], 'o', label='G', color='red', ls='dashed')\n",
    "ax_sig.legend()\n",
    "ax_sig.set_title(r'stress-time')\n",
    "ax_sig.set_ylabel(r'$\\sigma$')\n",
    "ax_sig.set_xlabel(r'$t$')\n",
    "\n",
    "ax_lam.plot(_t_t_F, _lam_t_F, 'o-', label='F', color='blue')\n",
    "ax_lam.plot(_t_t_G, _lam_t_G, 'o-', label='G', color='red')\n",
    "ax_lam.legend()\n",
    "ax_lam.set_title(r'$\\lambda$-time')\n",
    "ax_lam.set_ylabel(r'$\\lambda$')\n",
    "ax_lam.set_xlabel(r'$t$')\n",
    "\n",
    "ax_z.plot(_t_t_F, _z_atI_F[0, :, 0], 'o-', label='F', color='blue')\n",
    "ax_z.plot(_t_t_G, _z_atI_G[0, :, 0], 'o-', label='G', color='red')\n",
    "ax_z.legend()\n",
    "ax_z.set_title(r'z-time')\n",
    "ax_z.set_ylabel(r'$z$')\n",
    "ax_z.set_xlabel(r'$t$')\n",
    "\n",
    "ax_eps_p.plot(_t_t_F, _u_p_atI_F[0, :, 0], 'o-', label='F', color='blue')\n",
    "ax_eps_p.plot(_t_t_G, _u_p_atI_G[0, :, 0], 'o-', label='G', color='red')\n",
    "ax_eps_p.legend()\n",
    "ax_eps_p.set_title(r'$\\varepsilon_\\mathrm{p}$-time')\n",
    "ax_eps_p.set_ylabel(r'$\\varepsilon_\\mathrm{p}$')\n",
    "ax_eps_p.set_xlabel(r'$t$')\n"
   ]
  },
  {
   "cell_type": "code",
   "execution_count": null,
   "metadata": {},
   "outputs": [],
   "source": [
    "from bmcs_utils.api import Cymbol"
   ]
  },
  {
   "cell_type": "code",
   "execution_count": null,
   "metadata": {},
   "outputs": [],
   "source": [
    "gsm_F.Eps.as_explicit()"
   ]
  },
  {
   "cell_type": "markdown",
   "metadata": {},
   "source": [
    "## L_G_EP - Lagrangian manually augmented with consistency condition "
   ]
  },
  {
   "cell_type": "markdown",
   "metadata": {},
   "source": [
    "### Mechanical dissipation $\\gamma_\\mathrm{mech}$"
   ]
  },
  {
   "cell_type": "code",
   "execution_count": null,
   "metadata": {},
   "outputs": [],
   "source": [
    "gamma_mech_ = - (gsm_F.dF_dEps_.as_explicit().T * gsm_F.dot_Eps.as_explicit())[0,0]\n",
    "gamma_mech_"
   ]
  },
  {
   "cell_type": "markdown",
   "metadata": {},
   "source": [
    "### Threshold function $f$"
   ]
  },
  {
   "cell_type": "code",
   "execution_count": null,
   "metadata": {},
   "outputs": [],
   "source": [
    "gsm_F.f_"
   ]
  },
  {
   "cell_type": "code",
   "execution_count": null,
   "metadata": {},
   "outputs": [],
   "source": [
    "dot_lam = Cymbol(r'{\\lambda}', codename='dot_lambda')"
   ]
  },
  {
   "cell_type": "markdown",
   "metadata": {},
   "source": [
    "### Lagrangian"
   ]
  },
  {
   "cell_type": "code",
   "execution_count": null,
   "metadata": {},
   "outputs": [],
   "source": [
    "L_ = -gamma_mech_ + dot_lam * gsm_F.f_\n",
    "L_"
   ]
  },
  {
   "cell_type": "code",
   "execution_count": null,
   "metadata": {},
   "outputs": [],
   "source": [
    "L_Eps_ = L_.subs(gsm_F.subs_Sig_Eps)\n",
    "L_Eps_"
   ]
  },
  {
   "cell_type": "code",
   "execution_count": null,
   "metadata": {},
   "outputs": [],
   "source": [
    "dL_dEps_ = L_Eps_.diff(gsm_F.Eps.as_explicit())\n",
    "dL_dEps_"
   ]
  },
  {
   "cell_type": "code",
   "execution_count": null,
   "metadata": {},
   "outputs": [],
   "source": [
    "subs_dot_Eps = sp.solve(dL_dEps_, gsm_F.dot_Eps.as_explicit())\n",
    "subs_dot_Eps"
   ]
  },
  {
   "cell_type": "markdown",
   "metadata": {},
   "source": [
    "### Rate of the flow potential $\\dot{g}$"
   ]
  },
  {
   "cell_type": "code",
   "execution_count": null,
   "metadata": {},
   "outputs": [],
   "source": [
    "g_Sig_ = gsm_F.phi_"
   ]
  },
  {
   "cell_type": "markdown",
   "metadata": {},
   "source": [
    "$$\n",
    "\\dot{g} = \\frac{\\partial g}{\\partial \\boldsymbol{\\mathcal{S}}} \\dot{\\boldsymbol{\\mathcal{S}}}\n",
    "$$"
   ]
  },
  {
   "cell_type": "code",
   "execution_count": null,
   "metadata": {},
   "outputs": [],
   "source": [
    "dot_g_Sig_ = (g_Sig_.diff(gsm_F.Sig.as_explicit()).T * gsm_F.dot_Sig.as_explicit())[0,0]\n",
    "dot_g_Sig_"
   ]
  },
  {
   "cell_type": "code",
   "execution_count": null,
   "metadata": {},
   "outputs": [],
   "source": [
    "dot_eps = Cymbol(r'\\dot{\\varepsilon}', codename='dot_eps')\n",
    "dot_g_Eps_ = dot_g_Sig_.subs(dict(zip(gsm_F.dot_Sig.as_explicit(), gsm_F.Sig_.as_explicit()))).subs(p1d.eps, dot_eps).subs(dict(zip(gsm_F.Eps.as_explicit(), gsm_F.dot_Eps.as_explicit())))\n",
    "dot_g_Eps_"
   ]
  },
  {
   "cell_type": "code",
   "execution_count": null,
   "metadata": {},
   "outputs": [],
   "source": [
    "dot_g_Eps_ = dot_g_Eps_.subs(gsm_F.subs_Sig_Eps)\n",
    "dot_g_Eps_lambda_ = dot_g_Eps_.subs(subs_dot_Eps)\n",
    "dot_g_Eps_lambda_\n",
    "dot_g_Eps_, dot_g_Eps_lambda_"
   ]
  },
  {
   "cell_type": "code",
   "execution_count": null,
   "metadata": {},
   "outputs": [],
   "source": [
    "lambda_solved_ = sp.solve(dot_g_Eps_lambda_, dot_lam)[0]\n",
    "lambda_solved_"
   ]
  },
  {
   "cell_type": "code",
   "execution_count": null,
   "metadata": {},
   "outputs": [],
   "source": [
    "get_lambda_solved = sp.lambdify([dot_eps, p1d.eps] + gsm_F.Eps.as_explicit().tolist() + list(gsm_F.m_params), lambda_solved_, cse=True) \n",
    "get_lambda_solved(0.001, 0.1, [0], [0], 20000, 20000, 4, 20000, 0.01, 1)"
   ]
  },
  {
   "cell_type": "markdown",
   "metadata": {},
   "source": [
    "## R_ep - Lagrangian coupled with consistency condition \n",
    "\n",
    "Let us define \n",
    "$$\n",
    "\\boldsymbol{\\mathcal{A}} = \\{ \\dot{\\boldsymbol{\\mathcal{E}}}, \\dot{\\lambda} \\}^T\n",
    "$$\n",
    "and\n",
    "$$\n",
    "\\boldsymbol{\\mathcal{R}} = \\{ \n",
    "    \\nabla_{\\!\\boldsymbol{\\mathcal{E}}}\\mathcal{L}(\\boldsymbol{\\mathcal{E}}), \n",
    "    \\dot{g}(\\dot{\\boldsymbol{\\mathcal{E}}})\n",
    "    \\}^T\n",
    "$$"
   ]
  },
  {
   "cell_type": "markdown",
   "metadata": {},
   "source": [
    "### Residuum vector combining Lagrangian and consistency condition"
   ]
  },
  {
   "cell_type": "code",
   "execution_count": null,
   "metadata": {},
   "outputs": [],
   "source": [
    "R_ep_ = dL_dEps_.row_insert(dL_dEps_.shape[0], sp.Matrix([dot_g_Eps_]))\n",
    "R_ep_"
   ]
  },
  {
   "cell_type": "markdown",
   "metadata": {},
   "source": [
    "### Vector of unknown internal rates and inelastic multiplier"
   ]
  },
  {
   "cell_type": "code",
   "execution_count": null,
   "metadata": {},
   "outputs": [],
   "source": [
    "A_ep_ = gsm_F.Eps.as_explicit().row_insert(gsm_F.Eps.shape[0], sp.Matrix([[dot_lam]]))\n",
    "dot_A_ep_ = gsm_F.dot_Eps.as_explicit().row_insert(gsm_F.Eps.shape[0], sp.Matrix([[dot_lam]]))\n",
    "dot_A_ep_"
   ]
  },
  {
   "cell_type": "markdown",
   "metadata": {},
   "source": [
    "### Analytically solved rates and multiplier"
   ]
  },
  {
   "cell_type": "code",
   "execution_count": null,
   "metadata": {},
   "outputs": [],
   "source": [
    "dot_A_ep_solved = sp.solve(R_ep_, dot_A_ep_)\n",
    "dot_A_ep_solved[dot_lam]"
   ]
  },
  {
   "cell_type": "markdown",
   "metadata": {},
   "source": [
    "### Jacobian of the unkonwn rates"
   ]
  },
  {
   "cell_type": "code",
   "execution_count": null,
   "metadata": {},
   "outputs": [],
   "source": [
    "R_ep_.jacobian(dot_A_ep_)"
   ]
  },
  {
   "cell_type": "markdown",
   "metadata": {},
   "source": [
    "$$\n",
    "\\boldsymbol{\\mathcal{R}}(\\varepsilon_{n+1}, \\boldsymbol{\\mathcal{E}}_{n+1}, \\dot{\\boldsymbol{\\mathcal{A}}}_{n+1}) = 0\n",
    "$$\n",
    "$$\n",
    "{\\boldsymbol{\\mathcal{E}}}_{n+1} = {\\boldsymbol{\\mathcal{E}}_n} + \\Delta {\\boldsymbol{\\mathcal{E}}}\n",
    "$$"
   ]
  },
  {
   "cell_type": "markdown",
   "metadata": {},
   "source": [
    " - What would be the Lagrangian that would deliver this system directly as a gradient?\n",
    " - Is there a mapping to a dissipation potential (relation to Hackl and Fischer)  "
   ]
  },
  {
   "cell_type": "markdown",
   "metadata": {},
   "source": [
    "## R_g - Generic Lagrangian augmented with consistency "
   ]
  },
  {
   "cell_type": "markdown",
   "metadata": {},
   "source": [
    "### Helmholtz potential and its rate"
   ]
  },
  {
   "cell_type": "code",
   "execution_count": null,
   "metadata": {},
   "outputs": [],
   "source": [
    "class R_g:\n",
    "    # time\n",
    "    t = Cymbol(r't', codename='t')\n",
    "    # state variables\n",
    "    eps = sp.Function(r'\\varepsilon', codename='eps')(t)\n",
    "    Eps = sp.Function(r'\\boldsymbol{\\mathcal{E}}', codename='Eps')(t)\n",
    "    Sig = sp.Function(r'\\boldsymbol{\\mathcal{S}}', codename='Sig')(eps, Eps)\n",
    "\n",
    "    # Helmholtz free energy\n",
    "    psi_ = sp.Function('psi')(eps, Eps)\n",
    "\n",
    "    # threshold function for elastic domain\n",
    "    f_ = sp.Function(r'{f}')(Eps, Sig)\n",
    "\n",
    "    # flow potential\n",
    "    g_ = sp.Function(r'{g}')(Eps, Sig)\n",
    "\n",
    "    # time derivatives\n",
    "    dot_eps_ = eps.diff(t)\n",
    "    dot_Eps_ = Eps.diff(t)\n",
    "    dot_Sig_ = Sig.diff(t)\n",
    "    dot_psi_ = psi_.diff(t)\n",
    "\n",
    "    # mechanical dissipation\n",
    "    gamma_mech_ = -psi_.diff(Eps) * dot_Eps_\n",
    "\n",
    "    # expressions for thermodynamic forces as gradient of the Helmholtz free energy\n",
    "    Sig_ = psi_.diff(Eps)\n",
    "\n",
    "    # Lagrangian and its gradient\n",
    "    dot_lam = Cymbol(r'\\dot{\\lambda}', codename='dot_lambda')\n",
    "    L_ = -gamma_mech_ + dot_lam * f_\n",
    "    dL_dEps_ = L_.diff(Eps)\n",
    "\n",
    "    # flow potential and its rate\n",
    "    dot_g_ = g_.diff(t)\n",
    "\n",
    "    R_ = sp.Matrix([dL_dEps_, dot_g_])\n",
    "\n"
   ]
  },
  {
   "cell_type": "markdown",
   "metadata": {},
   "source": [
    "Helmholtz free energy and its rate"
   ]
  },
  {
   "cell_type": "code",
   "execution_count": null,
   "metadata": {},
   "outputs": [],
   "source": [
    "R_g.psi_, R_g.dot_psi_"
   ]
  },
  {
   "cell_type": "markdown",
   "metadata": {},
   "source": [
    "Mechanical dissipation as a negative rate of change of the Helmholtz free energy with respect to the rate of internal variables"
   ]
  },
  {
   "cell_type": "code",
   "execution_count": null,
   "metadata": {},
   "outputs": [],
   "source": [
    "R_g.gamma_mech_"
   ]
  },
  {
   "cell_type": "markdown",
   "metadata": {},
   "source": [
    "Thermodynamic foces and their rates as symbols"
   ]
  },
  {
   "cell_type": "code",
   "execution_count": null,
   "metadata": {},
   "outputs": [],
   "source": [
    "R_g.Sig, R_g.dot_Sig_"
   ]
  },
  {
   "cell_type": "markdown",
   "metadata": {},
   "source": [
    "Dissipation function is the negative Helmholtz rate"
   ]
  },
  {
   "cell_type": "markdown",
   "metadata": {},
   "source": [
    "Threshold function defined in terms of $\\mathcal{S}(\\varepsilon, \\mathcal{E})$ "
   ]
  },
  {
   "cell_type": "code",
   "execution_count": null,
   "metadata": {},
   "outputs": [],
   "source": [
    "R_g.f_"
   ]
  },
  {
   "cell_type": "markdown",
   "metadata": {},
   "source": [
    "### Lagrangian and its gradient"
   ]
  },
  {
   "cell_type": "code",
   "execution_count": null,
   "metadata": {},
   "outputs": [],
   "source": [
    "R_g.L_"
   ]
  },
  {
   "cell_type": "code",
   "execution_count": null,
   "metadata": {},
   "outputs": [],
   "source": [
    "R_g.dL_dEps_"
   ]
  },
  {
   "cell_type": "markdown",
   "metadata": {},
   "source": [
    "### Consistency criterion - zero rate of flow potential"
   ]
  },
  {
   "cell_type": "code",
   "execution_count": null,
   "metadata": {},
   "outputs": [],
   "source": [
    "R_g.dot_g_"
   ]
  },
  {
   "cell_type": "markdown",
   "metadata": {},
   "source": [
    "### Residuum function $\\mathcal{R}$"
   ]
  },
  {
   "cell_type": "code",
   "execution_count": null,
   "metadata": {},
   "outputs": [],
   "source": [
    "R_g.R_"
   ]
  },
  {
   "cell_type": "markdown",
   "metadata": {},
   "source": [
    "## R_ig - General incremental Lagrangian"
   ]
  },
  {
   "cell_type": "code",
   "execution_count": null,
   "metadata": {},
   "outputs": [],
   "source": [
    "class R_ig:\n",
    "\n",
    "    # time\n",
    "    delta_t = Cymbol(r'\\Delta t', codename='delta_t')\n",
    "    \n",
    "    # fundamental state\n",
    "    Eps_n = Cymbol(r'\\boldsymbol{\\mathcal{E}}_n', codename='Eps_n')\n",
    "    eps_n = Cymbol(r'\\varepsilon_n', codename='eps_n')\n",
    "\n",
    "    # increment\n",
    "    delta_Eps_n = Cymbol(r'\\Delta{\\boldsymbol{\\mathcal{E}}}_n', codename='delta_Eps_n')\n",
    "    delta_eps_n = Cymbol(r'\\Delta{\\varepsilon}_n', codename='delta_eps_n')\n",
    "    delta_lam_n = Cymbol(r'\\Delta{\\lambda}_n', codename='delta_lam_n')\n",
    "\n",
    "    # updated state\n",
    "    Eps_n1 = Eps_n + delta_Eps_n\n",
    "    eps_n1 = eps_n + delta_eps_n\n",
    "\n",
    "    # rate of change\n",
    "    dot_Eps_n = delta_Eps_n / delta_t\n",
    "    dot_eps_n = delta_eps_n / delta_t\n",
    "    dot_lam_n = delta_lam_n / delta_t\n",
    "\n",
    "    # derive substitutions\n",
    "    dot_Eps = R_g.Eps.diff(R_g.t)\n",
    "    dot_eps = R_g.eps.diff(R_g.t)\n",
    "    dot_lam = dot_lam\n",
    "\n",
    "    # substitute the time derivatives\n",
    "    subs_dot_Eps = {dot_Eps: dot_Eps_n}\n",
    "    subs_dot_eps = {dot_eps: dot_eps_n}\n",
    "    subs_dot_lam = {dot_lam: dot_lam_n}\n",
    "    subs_Eps = {R_g.Eps: Eps_n1}\n",
    "    subs_eps = {R_g.eps: eps_n1}\n",
    "    subs_n1 = {**subs_dot_Eps, **subs_dot_eps, **subs_dot_lam, **subs_Eps, **subs_eps}\n",
    "\n",
    "    # residuum vector in n+1 step\n",
    "    R_n1 = R_g.R_.subs(subs_n1)\n",
    "\n",
    "    # construct the jacobian of the residuum\n",
    "    delta_A_ig_ = sp.Matrix([delta_Eps_n, delta_lam_n])\n",
    "    dR_dA_n1 = R_n1.jacobian(delta_A_ig_)\n",
    "\n",
    "R_ig.subs_n1"
   ]
  },
  {
   "cell_type": "code",
   "execution_count": null,
   "metadata": {},
   "outputs": [],
   "source": [
    "R_ig.R_n1"
   ]
  },
  {
   "cell_type": "code",
   "execution_count": null,
   "metadata": {},
   "outputs": [],
   "source": [
    "sp.cse(R_ig.R_n1)"
   ]
  },
  {
   "cell_type": "markdown",
   "metadata": {},
   "source": [
    "### Construct the Jacobian"
   ]
  },
  {
   "cell_type": "code",
   "execution_count": null,
   "metadata": {},
   "outputs": [],
   "source": [
    "R_ig.delta_A_ig_"
   ]
  },
  {
   "cell_type": "code",
   "execution_count": null,
   "metadata": {},
   "outputs": [],
   "source": [
    "R_ig.dR_dA_n1"
   ]
  },
  {
   "cell_type": "code",
   "execution_count": null,
   "metadata": {},
   "outputs": [],
   "source": [
    "dR_dA_ig_cse_ = sp.cse(R_ig.dR_dA_n1, optimizations='basic')\n",
    "dR_dA_ig_cse_[0]"
   ]
  },
  {
   "cell_type": "code",
   "execution_count": null,
   "metadata": {},
   "outputs": [],
   "source": [
    "dR_dA_ig_cse_[1][0]"
   ]
  },
  {
   "cell_type": "markdown",
   "metadata": {},
   "source": [
    "## R_g[.] - Parameterized residuum derivation"
   ]
  },
  {
   "cell_type": "markdown",
   "metadata": {},
   "source": [
    "Noting that the lagrangian combines not only the values of the internal variables but also their rates\n",
    "the structure of the solver takes a slightly different form compared to the standard constrained \n",
    "optimization problem which is fully defined by introducing the Kuhn-Tucker conditions and constructing \n",
    "the Lagrangian. Since the unknowns in our optimization problem are not the internal variables but their rates, the Kuhn-Tucker conditions are not sufficient to solve the problem. Instead, we need to introduce the\n",
    "rate of the Lagrange multiplier as an additional unknown. The rate of the Lagrange multiplier is\n",
    "determined by employing the consistency condition ensuring that the rate of the Lagrange multiplier\n",
    "is such that the constraint is implicitly satisfied. In other words, the rate of the Lagrange multiplier\n",
    "is determined by the requirement that the constraint is satisfied at the rate level. This is the key\n",
    "difference between the standard constrained optimization problem and the problem of the rate-based\n",
    "formulation of the constitutive model."
   ]
  },
  {
   "cell_type": "markdown",
   "metadata": {},
   "source": [
    "The generic residuum that we are going to derive \n",
    "from the three potentials $\\psi$, $f$, and $g$ will have the form:\n",
    "\n",
    "\\begin{align}\n",
    "\\mathcal{R}_{\\mathrm{g}} = \\left[\n",
    "\\begin{array}{c}\n",
    "\\nabla_{\\!\\boldsymbol{\\mathcal{E}}}\\mathcal{L}\n",
    "(\\varepsilon, \\boldsymbol{\\mathcal{E}}, \\dot{\\lambda}) \\\\\n",
    "\\dot{g}(\\boldsymbol{\\mathcal{E}})\n",
    "\\end{array}\n",
    "\\right]\n",
    "\\end{align}"
   ]
  },
  {
   "cell_type": "markdown",
   "metadata": {},
   "source": [
    "### Gradient of the Lagrangian"
   ]
  },
  {
   "cell_type": "markdown",
   "metadata": {},
   "source": [
    "Print the generic form of the Lagrangian gradient $\\nabla_{\\!\\boldsymbol{\\mathcal{E}}}\\mathcal{L}$ as  the first component of the residuum $\\mathcal{R}_\\mathrm{g}$. The abstract representation provides a guidance for the construction of the elastoplastic solver $\\mathcal{R}_\\mathrm{ep}$ starting from the Helmholtz energy $\\psi_\\mathrm{ep}$ and threshold function $f_\\mathrm{ep}$ with the associated flow potential $g_\\mathrm{ep} = f_\\mathrm{ep}$  "
   ]
  },
  {
   "cell_type": "markdown",
   "metadata": {},
   "source": [
    "This can rephrased as \n",
    "$$\n",
    "\\nabla^2_{\\!\\boldsymbol{\\mathcal{E}}} \\psi(\\varepsilon, \\boldsymbol{\\mathcal{E}})\n",
    "\\cdot \\dot{\\boldsymbol{\\mathcal{E}}}\n",
    "+\n",
    "\\left(\n",
    "\\nabla_{\\!\\boldsymbol{\\mathcal{S}}}f\n",
    "\\cdot\n",
    "\\nabla_{\\!\\boldsymbol{\\mathcal{E}}}\\boldsymbol{\\mathcal{S}}\n",
    "+\n",
    "\\nabla_{\\!\\boldsymbol{\\mathcal{E}}}f\n",
    "\\right)\n",
    "\\dot{\\lambda} = 0\n",
    "$$"
   ]
  },
  {
   "cell_type": "markdown",
   "metadata": {},
   "source": [
    "Note that the threshold function is formulated in terms of thermodynamic forces $\\boldsymbol{\\mathcal{S}}$ may need to align the sign with the conjugate internal variable. This configurational feature is introduced using the diagnoal matrix $\\Upsilon$ containing either values 1 or -1. \n",
    "$$\n",
    " \\boldsymbol{\\mathcal{S}} = \\boldsymbol{\\Upsilon} \\nabla_{\\!\\boldsymbol{\\mathcal{E}}} \\psi.\n",
    "$$"
   ]
  },
  {
   "cell_type": "markdown",
   "metadata": {},
   "source": [
    "### Rate of the flow potential"
   ]
  },
  {
   "cell_type": "markdown",
   "metadata": {},
   "source": [
    "The general form of the rate of the flow potential is given by the following expression: \n",
    "$$\n",
    " \\dot{g}(\\boldsymbol{\\mathcal{E}}, \\boldsymbol{\\mathcal{S}}) =\n",
    "\\nabla_{\\!\\boldsymbol{\\mathcal{E}}}g\n",
    "\\cdot\n",
    "\\dot{\\boldsymbol{\\mathcal{E}}} +\n",
    "\\nabla_{\\!\\boldsymbol{\\mathcal{S}}}g\n",
    "\\cdot\n",
    "\\dot{\\boldsymbol{\\mathcal{S}}}\n",
    "$$\n",
    "where\n",
    "$$\n",
    "\\dot{\\boldsymbol{\\mathcal{S}}} = \n",
    "\\nabla_{\\!\\varepsilon}\\boldsymbol{\\mathcal{S}}\n",
    "\\cdot\n",
    "\\dot{\\varepsilon} +\n",
    "\\nabla_{\\!\\boldsymbol{\\mathcal{E}}}\\boldsymbol{\\mathcal{S}}\n",
    "\\cdot\n",
    "\\dot{\\boldsymbol{\\mathcal{E}}}\n",
    "$$\n",
    "so that the whole expression reads\n",
    "$$\n",
    " \\dot{g}(\\boldsymbol{\\mathcal{E}}, \\boldsymbol{\\mathcal{S}}) =\n",
    "\\nabla_{\\!\\boldsymbol{\\mathcal{E}}}g\n",
    "\\cdot\n",
    "\\dot{\\boldsymbol{\\mathcal{E}}}\n",
    "+\n",
    "\\nabla_{\\!\\boldsymbol{\\mathcal{S}}}g\n",
    "\\cdot\n",
    "\\left(\n",
    "\\nabla_{\\!\\varepsilon}\\boldsymbol{\\mathcal{S}}\n",
    "\\cdot\n",
    "\\dot{\\varepsilon}\n",
    "+\n",
    "\\nabla_{\\!\\boldsymbol{\\mathcal{E}}}\\boldsymbol{\\mathcal{S}}\n",
    "\\cdot\n",
    "\\dot{\\boldsymbol{\\mathcal{E}}}\n",
    "\\right)\n",
    "= 0.\n",
    "$$"
   ]
  },
  {
   "cell_type": "markdown",
   "metadata": {},
   "source": [
    "### Combining the two expressions we obtain the whole residuum"
   ]
  },
  {
   "cell_type": "markdown",
   "metadata": {},
   "source": [
    "Delivering the residuum as\n",
    "$$\n",
    "\\mathcal{R}_\\mathrm{g} = \\left[\n",
    "\\begin{array}{c}\n",
    "\\nabla_{\\!\\boldsymbol{\\mathcal{E}}}\\mathcal{L} \\\\\n",
    "\\dot{g}\n",
    "\\end{array}\n",
    "\\right] = \\left[\n",
    "\\begin{array}{c}\n",
    "\\nabla^2_{\\!\\boldsymbol{\\mathcal{E}}} \\psi\n",
    "\\cdot \\dot{\\boldsymbol{\\mathcal{E}}} +\n",
    "\\left(\n",
    "\\nabla_{\\!\\boldsymbol{\\mathcal{S}}}f\n",
    "\\cdot\n",
    "\\nabla_{\\!\\boldsymbol{\\mathcal{E}}}\\boldsymbol{\\mathcal{S}} +\n",
    "\\nabla_{\\!\\boldsymbol{\\mathcal{E}}}f\n",
    "\\right)\n",
    "\\dot{\\lambda} \\\\\n",
    "\\nabla_{\\!\\boldsymbol{\\mathcal{E}}}g\n",
    "\\cdot\n",
    "\\dot{\\boldsymbol{\\mathcal{E}}} +\n",
    "\\nabla_{\\!\\boldsymbol{\\mathcal{S}}}g\n",
    "\\cdot\n",
    "\\left(\n",
    "\\nabla_{\\!\\varepsilon}\\boldsymbol{\\mathcal{S}}\n",
    "\\cdot\n",
    "\\dot{\\varepsilon} +\n",
    "\\nabla_{\\!\\boldsymbol{\\mathcal{E}}}\\boldsymbol{\\mathcal{S}}\n",
    "\\cdot\n",
    "\\dot{\\boldsymbol{\\mathcal{E}}}\n",
    "\\right)\n",
    "\\end{array}\n",
    "\\right] =\n",
    "\\boldsymbol{0}\n",
    "$$"
   ]
  },
  {
   "cell_type": "code",
   "execution_count": null,
   "metadata": {},
   "outputs": [],
   "source": [
    "def derive_R_g(psi_, eps, dot_eps, Eps, dot_Eps, Sig, Sig_signs, f_, g_, dot_lam):\n",
    "    \"\"\"\n",
    "    Derive the residuum vector combining the gradient of the Lagrangian and the rate of the flow potential.\n",
    "\n",
    "    Parameters\n",
    "    ----------\n",
    "    psi_ : sympy expression\n",
    "        The free energy potential as a function of internal variables.\n",
    "    eps : sympy symbol\n",
    "        The external variable.\n",
    "    dot_eps : sympy symbol\n",
    "        The rate of change of the external variable.\n",
    "    Eps : sympy matrix\n",
    "        The vector of internal variables.\n",
    "    dot_Eps : sympy matrix\n",
    "        The rate of change of the internal variables.\n",
    "    Sig : sympy matrix\n",
    "        The conjugate vector of thermodynamic forces.\n",
    "    Sig_signs : list or array-like\n",
    "        Array of signs.\n",
    "    f_ : sympy expression\n",
    "        The yield function.\n",
    "    g_ : sympy expression\n",
    "        The flow potential function.\n",
    "    dot_lam : sympy symbol\n",
    "        The rate of change of the plastic multiplier.\n",
    "\n",
    "    Returns\n",
    "    -------\n",
    "    sympy matrix\n",
    "        The residuum vector combining the gradient of the Lagrangian and the rate of the flow potential.\n",
    "\n",
    "    Notes\n",
    "    -----\n",
    "    The derivation involves computing the gradient of the Lagrangian with respect to internal variables\n",
    "    and the rate of change of the flow potential.\n",
    "    \"\"\"\n",
    "    # Compute the gradient of the Lagrangian\n",
    "    Sig_ = sp.simplify(sp.diag(*Sig_signs) * psi_.diff(Eps))\n",
    "    dL_dEps_ = (sp.hessian(psi_, Eps).T * dot_Eps + \n",
    "        ((f_.diff(Sig).T * Sig_.jacobian(Eps)).T + f_.diff(Eps)) * dot_lam ).subs(dict(zip(Sig, Sig_)))\n",
    "\n",
    "    # Compute the rate of the flow potential\n",
    "    dot_psi_eps_ = Sig_.diff(eps) * dot_eps\n",
    "    dot_psi_Eps_ = Sig_.jacobian(Eps) * dot_Eps\n",
    "    dot_Sig_Eps_ = dot_psi_eps_ + dot_psi_Eps_\n",
    "    dot_g_ = g_.diff(Eps).T * dot_Eps + (g_.diff(Sig).T * dot_Sig_Eps_).subs(dict(zip(Sig, Sig_)))\n",
    "\n",
    "    # Combine the gradient of the Lagrangian and the rate of the flow potential\n",
    "    R_g_ = dL_dEps_.row_insert(dL_dEps_.shape[0], sp.Matrix([dot_g_]))\n",
    "\n",
    "    return R_g_"
   ]
  },
  {
   "cell_type": "markdown",
   "metadata": {},
   "source": [
    "### Example 1: R_g[ep] - Isotropic hardening plasticity"
   ]
  },
  {
   "cell_type": "markdown",
   "metadata": {},
   "source": [
    "The specification of the constitutive model is done in terms of three functions. Here we exemplify the isotropic hardening plasticity in terms of \n",
    "$$\n",
    "\\psi_\\mathrm{ep} := \\frac{1}{2} E (\\varepsilon - \\varepsilon_\\mathrm{p})^2 + \\frac{1}{2} K z^2\n",
    "$$ \n",
    "and the yield function\n",
    "$$\n",
    " f_\\mathrm{ep} := \\left| {\\sigma_\\mathrm{p}} \\right| - (f_\\mathrm{c} + Z)\n",
    "$$"
   ]
  },
  {
   "cell_type": "code",
   "execution_count": null,
   "metadata": {},
   "outputs": [],
   "source": [
    "class P_ep:\n",
    "    # external variables, internal variables, thermodynamic forces, and material parameters\n",
    "    eps, eps_p, z = sp.symbols(r'\\varepsilon \\varepsilon_p z', real=True)\n",
    "    sig, sig_p, Z = sp.symbols('sigma sigma_p Z', real=True)\n",
    "    E, K, f_c = sp.symbols('E K f_c', positive=True)\n",
    "    # free energy potential, yield function, and flow potential\n",
    "    psi_ = sp.Rational(1, 2) * E * (eps - eps_p)**2 + sp.Rational(1, 2) * K * z**2\n",
    "    f_ = sp.Abs(sig_p) - (f_c + Z)\n",
    "    g_ = f_\n",
    "    # collect the internal variables to enable generic derivation of the residuum\n",
    "    Eps = sp.Matrix([eps_p, z])\n",
    "    Sig = sp.Matrix([sig_p, Z])\n",
    "    Sig_signs = [-1, 1]\n",
    "    mparams = (E, K, f_c)\n",
    "    # general functions - to be factored out to a base class?\n",
    "    dot_Eps = sp.Matrix([sp.Symbol(name=f'\\\\dot{{{var.name}}}') for var in list(Eps)])\n",
    "    dot_eps = sp.Symbol(name=f'\\\\dot{{{eps.name}}}')\n",
    "\n",
    "# Access the attributes directly from the class\n",
    "P_ep.psi_, P_ep.f_, P_ep.Eps, P_ep.dot_Eps, P_ep.Sig, P_ep.Sig_signs, P_ep.mparams\n"
   ]
  },
  {
   "cell_type": "code",
   "execution_count": null,
   "metadata": {},
   "outputs": [],
   "source": [
    "R_gep_ = derive_R_g(P_ep.psi_, P_ep.eps, P_ep.dot_eps, P_ep.Eps, P_ep.dot_Eps, P_ep.Sig, P_ep.Sig_signs, P_ep.f_, P_ep.g_, dot_lam)\n",
    "R_gep_, R_ep_"
   ]
  },
  {
   "cell_type": "markdown",
   "metadata": {},
   "source": [
    "#### Check the analytical solution\n",
    "\n",
    "For isotropic hardening, this equation system can be solved explicitly - use it to check the symbolic scheme."
   ]
  },
  {
   "cell_type": "code",
   "execution_count": null,
   "metadata": {},
   "outputs": [],
   "source": [
    "dot_A_gep_ = P_ep.dot_Eps.row_insert(P_ep.dot_Eps.shape[0], sp.Matrix([[dot_lam]]))\n",
    "sp.simplify(sp.solve(R_gep_, dot_A_gep_))"
   ]
  },
  {
   "cell_type": "markdown",
   "metadata": {},
   "source": [
    "### Example 2: R_g[epd] Isotropic hardening plasticity and damage\n",
    "\n",
    "The specification of the constitutive model is done in terms of three functions. Here we exemplify the isotropic hardening plasticity in terms of \n",
    "$$\n",
    "\\psi_\\mathrm{} := \\frac{1}{2} (1 - \\omega) E (\\varepsilon - \\varepsilon_\\mathrm{p})^2 + \\frac{1}{2} K z^2,\n",
    "$$ \n",
    "the yield function\n",
    "$$\n",
    " f_\\mathrm{epd} := \\left| \\frac{\\sigma_\\mathrm{p}}{1 - \\omega} \\right| - (f_\\mathrm{c} + Z),\n",
    "$$\n",
    "and the flow potential\n",
    "$$\n",
    " g_\\mathrm{epd} = f + (1 - \\omega) \\frac{S}{r+1} \\left( \\frac{Y}{S} \\right)^{r+1}\n",
    "$$"
   ]
  },
  {
   "cell_type": "code",
   "execution_count": null,
   "metadata": {},
   "outputs": [],
   "source": [
    "class P_epd:\n",
    "    # external variables, internal variables, thermodynamic forces, and material parameters\n",
    "    eps, eps_p, z, omega = sp.symbols(r'\\varepsilon \\varepsilon_p z \\omega', real=True)\n",
    "    sig, sig_p, Z, Y = sp.symbols('sigma sigma_p Z Y', real=True)\n",
    "    E, K, f_c, S, r = sp.symbols('E K f_c S r', positive=True)\n",
    "    # free energy potential, yield function, and flow potential\n",
    "    psi_ = sp.Rational(1,2) * (1 - omega) * E * (eps - eps_p)**2 + sp.Rational(1,2) * K * z**2\n",
    "    f_ = sp.Abs(sig_p / (1-omega)) - (f_c + Z)\n",
    "    g_ = f_ + (1 - omega) * (S/(r+1)) * (Y/S)**(r+1)\n",
    "    # collect the internal variables to enable generic derivation of the residuum\n",
    "    Eps = sp.Matrix([eps_p, z, omega])\n",
    "    Sig = sp.Matrix([sig_p, Z, Y])\n",
    "    Sig_signs = [-1, 1, -1]\n",
    "    mparams = (E, K, f_c, S, r)\n",
    "    # general functions - to be factored out to a base class?\n",
    "    dot_Eps = sp.Matrix([sp.Symbol(name=f'\\\\dot{{{var.name}}}') for var in list(Eps)])\n",
    "    dot_eps = sp.Symbol(name=f'\\\\dot{{{eps.name}}}')\n",
    "    \n",
    "P_epd.psi_, P_epd.f_, P_epd.Eps, P_epd.dot_Eps, P_epd.Sig, P_epd.Sig_signs, P_epd.mparams"
   ]
  },
  {
   "cell_type": "code",
   "execution_count": null,
   "metadata": {},
   "outputs": [],
   "source": [
    "R_gepd_ = derive_R_g(P_epd.psi_, P_epd.eps, P_epd.dot_eps, P_epd.Eps, P_epd.dot_Eps, P_epd.Sig, P_epd.Sig_signs, P_epd.f_, P_epd.g_, dot_lam)\n",
    "sp.cse(R_gepd_)"
   ]
  },
  {
   "cell_type": "markdown",
   "metadata": {},
   "source": [
    "## R_ig[.] - Parameterized incremental Residuum"
   ]
  },
  {
   "cell_type": "code",
   "execution_count": null,
   "metadata": {},
   "outputs": [],
   "source": [
    "def derive_R_dR_n1(P):\n",
    "    # time\n",
    "    t = Cymbol(r't', codename='t')\n",
    "    delta_t = Cymbol(r'\\Delta t', codename='delta_t')\n",
    "    dot_lam = Cymbol(r'\\dot{\\lambda}', codename='dot_lambda')\n",
    "    \n",
    "    # fundamental state\n",
    "    Eps_n = sp.Matrix([sp.Symbol(f'{var.name}^(n)') for var in P.Eps])\n",
    "    eps_n = Cymbol(r'\\varepsilon_n', codename='eps_n')\n",
    "\n",
    "    # increment\n",
    "    delta_Eps_n = sp.Matrix([sp.Symbol(f'\\\\Delta{{{var.name}}}^{{(n)}}') for var in P.Eps])\n",
    "    delta_eps_n = Cymbol(r'\\Delta{\\varepsilon}_n', codename='delta_eps_n')\n",
    "    delta_lam_n = Cymbol(r'\\Delta{\\lambda}_n', codename='delta_lam_n')\n",
    "\n",
    "    # updated state\n",
    "    Eps_n1 = Eps_n + delta_Eps_n\n",
    "    eps_n1 = eps_n + delta_eps_n\n",
    "\n",
    "    # rate of change\n",
    "    dot_Eps_n = delta_Eps_n / delta_t\n",
    "    dot_eps_n = delta_eps_n / delta_t\n",
    "    dot_lam_n = delta_lam_n / delta_t\n",
    "\n",
    "    # derive substitutions\n",
    "    dot_Eps = P.Eps.diff(t)\n",
    "    dot_eps = P.eps.diff(t)\n",
    "\n",
    "    subs_dot_Eps = dict(zip(P.dot_Eps, dot_Eps_n))\n",
    "    subs_dot_eps = {dot_eps: dot_eps_n}\n",
    "    subs_dot_lam = {dot_lam: dot_lam_n}\n",
    "    subs_Eps = dict(zip(P.Eps, Eps_n1))\n",
    "    subs_eps = {P.eps: eps_n1}\n",
    "\n",
    "    subs_n1 = {**subs_dot_Eps, **subs_dot_eps, **subs_dot_lam, **subs_Eps, **subs_eps}\n",
    "\n",
    "    R_g = derive_R_g(P.psi_, P.eps, P.dot_eps, P.Eps, P.dot_Eps, P.Sig, P.Sig_signs, P.f_, P.g_, dot_lam)\n",
    "    # residuum vector in n+1 step\n",
    "    R_n1 = R_g.subs(subs_n1)\n",
    "\n",
    "    # construct the jacobian of the residuum\n",
    "    delta_A_ig_ = sp.Matrix([delta_Eps_n, delta_lam_n])\n",
    "    dR_dA_n1_ = R_n1.jacobian(delta_A_ig_)\n",
    "    dR_dA_n1 = dR_dA_n1_.replace(sp.Derivative, lambda *args: 0)\n",
    "\n",
    "    return R_n1, dR_dA_n1\n"
   ]
  },
  {
   "cell_type": "markdown",
   "metadata": {},
   "source": [
    "Construct the residuum and its jacobian for elasto plasticity with isotropic hardening"
   ]
  },
  {
   "cell_type": "code",
   "execution_count": null,
   "metadata": {},
   "outputs": [],
   "source": [
    "R_ep_, dR_dA_ep_  = derive_R_dR_n1(P_ep)\n",
    "R_ep_, dR_dA_ep_"
   ]
  },
  {
   "cell_type": "markdown",
   "metadata": {},
   "source": [
    "Construct an elasto-plasticity with isotropic hardening model and damage "
   ]
  },
  {
   "cell_type": "code",
   "execution_count": null,
   "metadata": {},
   "outputs": [],
   "source": [
    "R_epd_, dR_dA_epd_  = derive_R_dR_n1(P_epd)\n",
    "sp.cse([R_epd_, dR_dA_epd_])"
   ]
  },
  {
   "cell_type": "markdown",
   "metadata": {},
   "source": [
    "## Next step identification"
   ]
  },
  {
   "cell_type": "markdown",
   "metadata": {},
   "source": [
    "$$\n",
    "\\boldsymbol{\\mathcal{R}}(\\Delta{\\boldsymbol{\\mathcal{A}}}) = 0\n",
    "$$\n",
    "\n",
    "$$\n",
    "\\boldsymbol{\\mathcal{R}}(\\Delta{\\boldsymbol{\\mathcal{A}}}_{k+1}) =\n",
    "\\boldsymbol{\\mathcal{R}}(\\Delta{\\boldsymbol{\\mathcal{A}}}_k) +\n",
    "\\left.\n",
    "    \\frac{\\partial \\boldsymbol{\\mathcal{R}} \n",
    "}{\\partial \\Delta{\\boldsymbol{\\mathcal{A}}}} \n",
    "\\right|_{\\Delta{\\boldsymbol{\\mathcal{A}}}_k}\n",
    "\\delta(\\Delta{\\boldsymbol{\\mathcal{A}}}) = 0\n",
    "$$"
   ]
  },
  {
   "cell_type": "markdown",
   "metadata": {},
   "source": [
    "\\begin{align}\n",
    "\\left.\n",
    "    \\frac{\\partial \\boldsymbol{\\mathcal{R}} \n",
    "}{\\partial \\Delta{\\boldsymbol{\\mathcal{A}}}} \n",
    "\\right|_{\\Delta{\\boldsymbol{\\mathcal{A}}}_k}\n",
    "\\delta (\\Delta{\\boldsymbol{\\mathcal{A}}}) &= - \n",
    "\\boldsymbol{\\mathcal{R}}(\\Delta{\\boldsymbol{\\mathcal{A}}}_k) \\\\\n",
    "\\Delta{\\boldsymbol{\\mathcal{A}}}_{k+1} &= \n",
    "\\Delta{\\boldsymbol{\\mathcal{A}}}_k + \n",
    "\\delta (\\Delta{\\boldsymbol{\\mathcal{A}}})\n",
    "\\end{align}\n"
   ]
  },
  {
   "cell_type": "markdown",
   "metadata": {},
   "source": []
  },
  {
   "cell_type": "code",
   "execution_count": null,
   "metadata": {},
   "outputs": [],
   "source": [
    "def get_state_n1(eps_n, d_eps, d_t, Sig_n, Eps_n, k_max, **kw):\n",
    "    \"\"\"\n",
    "    Calculates the state at time n+1 based on the given inputs using an iterative algorithm.\n",
    "\n",
    "    Args:\n",
    "        eps_n: Strain at time n.\n",
    "        d_eps_n1: Strain increment from time n to n+1.\n",
    "        dt: Time step size.\n",
    "        Sig_n: Stress at time n.\n",
    "        Eps_n: Strain at time n.\n",
    "        k_max: Maximum number of iterations.\n",
    "        **kw: Additional keyword arguments.\n",
    "\n",
    "    Returns:\n",
    "        Tuple containing the updated strain Eps_k, stress Sig_k, temperature T_n+1, number of iterations k, \n",
    "        and dissipation rate gradient dDiss_dEps.\n",
    "    \"\"\"\n",
    "    eps_n1 = eps_n + d_eps\n",
    "\n",
    "    Eps_k = np.copy(Eps_n)\n",
    "    Sig_k = np.copy(Sig_n)\n",
    "    #### Here for Gibbs - different values for Eps_k and Sig_k - when viscosity on - WHY?\n",
    "    # print('u_n1', u_n1, T_n, Eps_k, Sig_k)\n",
    "    f_k, R_k, dR_k, Sig_k = get_R_dR_n1(eps_n, d_eps, d_t, Eps_k, Sig_k, **kw)\n",
    "    # if f_k > 0:\n",
    "    #     print('===================== u_n1', u_n1, T_n, Eps_k, Sig_k)\n",
    "    f_k = np.atleast_1d(f_k)\n",
    "    df_k = np.atleast_1d(df_k)\n",
    "    f_k_norm = np.fabs(f_k)\n",
    "    f_k_trial = np.copy(f_k)\n",
    "    lam_k = np.zeros_like(f_k)\n",
    "    k = 0\n",
    "    while k < k_max:\n",
    "        I_ = np.logical_and(f_k_trial > 0, f_k_norm >= 1e-4)\n",
    "        if np.all(I_ == False):\n",
    "            break # convergence reached\n",
    "        I = np.where(I_)\n",
    "        bI = (slice(None), *I)\n",
    "        lam_k[I] -= f_k[I] / df_k[I] # increment of lambda with delta_lambda = -f / df\n",
    "        Eps_k[bI] = self.get_Eps_k1(u_n1[bI], T_n[I], Eps_n[bI], lam_k[I], Eps_k[bI], Sig_k[bI], **kw)\n",
    "\n",
    "        f_k[I], df_k[I], Sig_k[bI] = self.get_f_df_Sig(u_n1[bI], T_n[I], Eps_k[bI], Sig_k[bI], **kw)\n",
    "\n",
    "        if np.any(np.isnan(f_k[I])):\n",
    "            print('there is nan in f_k')\n",
    "            raise RuntimeError(f'there is nan in f_k {I}')\n",
    "\n",
    "        if np.any(np.isnan(Eps_k[bI])):\n",
    "            print('there is nan in Eps_k')\n",
    "            raise RuntimeError(f'there is nan in Eps_k {I}')\n",
    "\n",
    "        f_k_norm[I] = np.fabs(f_k[I])\n",
    "        k += 1\n",
    "    else:\n",
    "        raise RuntimeError(f'no convergence for indexes {I}')\n",
    "\n",
    "    dEps_k = Eps_k - Eps_n\n",
    "    dDiss_dEps = self.get_dDiss_dEps(u_n1, T_n, Eps_k, Sig_k, **kw)\n",
    "    # dissipation rate\n",
    "    dDiss_dt = np.einsum('b...,b...->...', dDiss_dEps, dEps_k)\n",
    "    C_v_ = kw['C_v_']\n",
    "    d_T = 0 # d_T_n + d_t * (dDiss_dt / C_v_ )# / rho_'\n",
    "\n",
    "    return np.moveaxis(Eps_k, 0, -1), np.moveaxis(Sig_k, 0, -1), T_n + d_T, k, np.moveaxis(dDiss_dEps, 0, -1), lam_k\n"
   ]
  },
  {
   "cell_type": "markdown",
   "metadata": {},
   "source": [
    "## Brief review of inequality treatment using Lagrangian multipliers\n",
    "\n",
    "Constrained optimization problems involve finding the maximum or minimum of an objective function subject to certain constraints. When dealing with inequality constraints, a common approach involves the use of the Lagrangian formulation combined with the Karush-Kuhn-Tucker (KKT) conditions.\n",
    "\n",
    "### Lagrangian for Inequality Constraints\n",
    "\n",
    "Suppose we have an optimization problem:\n",
    "\n",
    "- Objective function: $ f(x) $\n",
    "- Inequality constraints: $ g_i(x) \\leq 0 $ for $ i = 1, \\ldots, m $\n",
    "\n",
    "The Lagrangian for this problem is constructed as:\n",
    "\n",
    "$$ \\mathcal{L}(x, \\lambda) = f(x) + \\sum_{i=1}^{m} \\lambda_i g_i(x) $$\n",
    "\n",
    "where $ \\lambda_i $ are the Lagrange multipliers associated with each inequality constraint $ g_i(x) \\leq 0 $.\n",
    "\n",
    "### KKT Conditions\n",
    "\n",
    "The solution to the constrained optimization problem satisfies the following KKT conditions:\n",
    "\n",
    "1. **Stationarity**: \n",
    "   $$ \\nabla f(x^*) + \\sum_{i=1}^{m} \\lambda_i^* \\nabla g_i(x^*) = 0 $$\n",
    "\n",
    "2. **Primal Feasibility**: \n",
    "   $$ g_i(x^*) \\leq 0 \\quad \\forall i $$\n",
    "\n",
    "3. **Dual Feasibility**: \n",
    "   $$ \\lambda_i^* \\geq 0 \\quad \\forall i $$\n",
    "\n",
    "4. **Complementary Slackness**: \n",
    "   $$ \\lambda_i^* g_i(x^*) = 0 \\quad \\forall i $$\n",
    "\n",
    "### Application in Elasto-Plasticity with Isotropic Hardening\n",
    "\n",
    "In the context of elasto-plasticity, the yield function $ f(x, H) \\leq 0 $ defines the boundary between elastic and plastic behavior, where $ x $ represents the stress state, and $ H $ represents the hardening variable that evolves with plastic deformation.\n",
    "\n",
    "#### Consistency Condition\n",
    "\n",
    "The consistency condition requires that a system remains on the yield surface during plastic deformation, which implies that the rate of change of the yield function $ \\dot{f}(x, H) = 0 $.\n",
    "\n",
    "In this scenario:\n",
    "- The rate of change should respect the yield surface condition $\\dot{f}(x, H) = \\frac{\\partial f}{\\partial x} \\dot{x} + \\frac{\\partial f}{\\partial H} \\dot{H} = 0$.\n",
    "- The Lagrange multiplier (plastic multiplier) $ \\dot{\\lambda} $ is determined such that this condition holds, often leading to a system of equations solving for stress updates and plastic strain increments.\n",
    "\n",
    "### Conclusion\n",
    "\n",
    "The use of the Lagrangian and the corresponding KKT conditions in elasto-plasticity allows us to systematically handle the constraints imposed by material laws, ensuring that the plastic flow remains consistent with the constitutive model. The consistency condition is crucial in determining the evolution of plastic variables, ensuring accurate simulation of material behavior under loading."
   ]
  },
  {
   "cell_type": "markdown",
   "metadata": {},
   "source": [
    "Understanding how to determine Lagrange multipliers in constrained optimization problems is fundamental, yet it's often surrounded by some confusion. Let's walk through the general approach.\n",
    "\n",
    "### Lagrangian and KKT Conditions\n",
    "\n",
    "In general constrained optimization with an objective function $ f(x) $ and constraints $ g_i(x) \\leq 0 $, as well as possible equality constraints $ h_j(x) = 0 $, the Lagrangian is constructed as:\n",
    "\n",
    "$$ \\mathcal{L}(x, \\lambda, \\nu) = f(x) + \\sum_{i=1}^m \\lambda_i g_i(x) + \\sum_{j=1}^p \\nu_j h_j(x) $$\n",
    "\n",
    "where $ \\lambda_i $ are the Lagrange multipliers for inequality constraints and $ \\nu_j $ for equality constraints.\n",
    "\n",
    "### Determining the Lagrange Multipliers\n",
    "\n",
    "1. **Stationarity Condition**:\n",
    "\n",
    "   The stationarity condition is key and states that at the optimal point, the gradient of the Lagrangian with respect to the primal variables must be zero:\n",
    "\n",
    "   $$\n",
    "   \\nabla_x \\mathcal{L}(x^*, \\lambda^*, \\nu^*) = \\nabla f(x^*) + \\sum_{i=1}^m \\lambda_i^* \\nabla g_i(x^*) + \\sum_{j=1}^p \\nu_j^* \\nabla h_j(x^*) = 0\n",
    "   $$\n",
    "\n",
    "   This equation helps determine the relationship between $ x $, $ \\lambda $, and $ \\nu $. It ensures that the gradients of the constraints and the objective function are balanced by the Lagrange multipliers.\n",
    "\n",
    "2. **Complementary Slackness**:\n",
    "\n",
    "   For inequality constraints, complementary slackness provides another crucial condition:\n",
    "\n",
    "   $$\n",
    "   \\lambda_i^* g_i(x^*) = 0 \\quad \\forall i\n",
    "   $$\n",
    "\n",
    "   This means that if $ g_i(x^*) < 0 $, then $ \\lambda_i^* = 0 $; if $ g_i(x^*) = 0 $ (active constraint), $ \\lambda_i^* $ can be positive and needs to be determined from other conditions.\n",
    "\n",
    "3. **Feasibility Conditions**:\n",
    "\n",
    "   These include both primal and dual feasibility, ensuring $ g_i(x^*) \\leq 0 $, $ h_j(x^*) = 0 $, and $ \\lambda_i^* \\geq 0 $.\n",
    "\n",
    "4. **Additional Equations**:\n",
    "\n",
    "   In practice, solving these conditions involves substituting known values and systematically solving the system of equations implied by these conditions. The equations often have to be solved simultaneously, as they are interdependent.\n",
    "\n",
    "### Solution Process\n",
    "\n",
    "The process typically involves:\n",
    "\n",
    "- Solving the KKT conditions as a system of nonlinear equations.\n",
    "- For simple problems, this can be done analytically (solving the equations directly).\n",
    "- For more complex problems, numerical methods such as interior-point methods, sequential quadratic programming, or other iterative algorithms are used to approximate the solution.\n",
    "\n",
    "### Conclusion\n",
    "\n",
    "In essence, you don't need an additional criterion like the consistency condition used in plasticity modeling, because the KKT conditions inherent to the Lagrangian framework already provide the necessary structure to solve for both the optimal solution and the Lagrange multipliers. The challenge lies in accurately solving these conditions, often requiring a combination of analytical insights and computational techniques."
   ]
  },
  {
   "cell_type": "markdown",
   "metadata": {},
   "source": [
    "## Deferred differentiation of a function "
   ]
  },
  {
   "cell_type": "markdown",
   "metadata": {},
   "source": [
    "### Define the symbols and abstract functions\n",
    "\n",
    "We start by defining the symbols and abstract functions that we will use in our derivation.\n",
    "$t$ is a symbol representing time.\n",
    "$\\varepsilon$ is a function of $t$ representing strain.\n",
    "$\\sigma$ is a function of $\\varepsilon$ representing stress.\n",
    "$f$ is a function of $\\sigma$ representing some function of stress."
   ]
  },
  {
   "cell_type": "code",
   "execution_count": null,
   "metadata": {},
   "outputs": [],
   "source": [
    "t = sp.symbols(r't')\n",
    "eps = sp.Function(r'\\varepsilon')(t)\n",
    "sig = sp.Function('\\sigma')(eps)\n",
    "f = sp.Function('f')(sig)\n",
    "t, eps, sig, f"
   ]
  },
  {
   "cell_type": "markdown",
   "metadata": {},
   "source": [
    "### Define the derivative of `f` with respect to `t`\n",
    "\n",
    "We want to find the derivative of `f` with respect to time `t`.\n",
    "Since `f` is a function of `sig`, and `sig` is a function of `eps`, and `eps` is a function of `t`,\n",
    "we use the chain rule to find the derivative."
   ]
  },
  {
   "cell_type": "code",
   "execution_count": null,
   "metadata": {},
   "outputs": [],
   "source": [
    "df_deps_dt = f.diff(t)\n",
    "df_deps_dt"
   ]
  },
  {
   "cell_type": "markdown",
   "metadata": {},
   "source": [
    "### Define a specific function for `f`\n",
    "\n",
    "Now, let's define a specific function for `f`. For example, let's take `f` to be `sig^2`."
   ]
  },
  {
   "cell_type": "code",
   "execution_count": null,
   "metadata": {},
   "outputs": [],
   "source": [
    "specific_f = sig**2\n",
    "specific_f"
   ]
  },
  {
   "cell_type": "markdown",
   "metadata": {},
   "source": [
    "### Substitute the specific function into the derivative\n",
    "\n",
    "We substitute our specific function `f = sig^2` into the derivative we found earlier.\n"
   ]
  },
  {
   "cell_type": "code",
   "execution_count": null,
   "metadata": {},
   "outputs": [],
   "source": [
    "specific_df_dt = df_deps_dt.subs(f, specific_f)\n",
    "specific_df_dt"
   ]
  },
  {
   "cell_type": "markdown",
   "metadata": {},
   "source": [
    "### Express `sig` as a function of `eps`\n",
    "\n",
    "To evaluate the derivative, we need to express `sig` as a function of `eps`.\n",
    "For example, let's take `sig = eps^2`.\n"
   ]
  },
  {
   "cell_type": "code",
   "execution_count": null,
   "metadata": {},
   "outputs": [],
   "source": [
    "\n",
    "sig_expr = eps**2\n",
    "\n",
    "# ## Substitute `sig` into the expression\n",
    "# \n",
    "# We substitute `sig = eps^2` into the derivative expression.\n",
    "\n",
    "specific_sig_df_dt = specific_df_dt.subs(sig, sig_expr)\n",
    "specific_sig_df_dt\n",
    "\n",
    "# ## Express `eps` as a function of `t`\n",
    "# \n",
    "# Finally, we need to express `eps` as a function of `t`.\n",
    "# For example, let's take `eps = t^2`.\n",
    "\n",
    "eps_expr = t**2\n",
    "\n",
    "# ## Substitute `eps` into the expression and evaluate\n",
    "# \n",
    "# We substitute `eps = t^2` into the derivative expression and evaluate it.\n",
    "\n",
    "specific_eps_df_dt = specific_sig_df_dt.subs(eps, eps_expr)\n",
    "specific_eps_df_dt.doit()"
   ]
  },
  {
   "cell_type": "code",
   "execution_count": null,
   "metadata": {},
   "outputs": [],
   "source": [
    "# Define the symbols and abstract functions\n",
    "t = sp.symbols(r't')  # $t$\n",
    "eps = sp.Function(r'\\varepsilon')(t)  # $\\varepsilon(t)$\n",
    "sig = sp.Function('\\sigma')(eps)  # $\\sigma(\\varepsilon)$\n",
    "f = sp.Function('f')(sig)  # $f(\\sigma)$\n",
    "\n",
    "# Define the derivative of f with respect to t\n",
    "df_deps_dt = f.diff(t)  # $\\frac{d f}{d t}$\n",
    "\n",
    "# Define a specific function for f, say f = sig^2\n",
    "specific_f = sig**2  # $f = \\sigma^2$\n",
    "\n",
    "# Substitute the specific function into the derivative\n",
    "specific_df_dt = df_deps_dt.subs(f, specific_f)  # $\\frac{d (\\sigma^2)}{d t}$\n",
    "\n",
    "# To evaluate it, you also need to express sig as a function of eps, say sig = eps^2\n",
    "sig_expr = eps**2  # $\\sigma = \\varepsilon^2$\n",
    "\n",
    "# Substitute sig into the expression\n",
    "specific_sig_df_dt = specific_df_dt.subs(sig, sig_expr)  # $\\frac{d (\\varepsilon^4)}{d t}$\n",
    "\n",
    "# Express eps as a function of t, say eps = t^2\n",
    "eps_expr = t**2  # $\\varepsilon = t^2$\n",
    "\n",
    "# Substitute eps into the expression and evaluate\n",
    "specific_eps_df_dt = specific_sig_df_dt.subs(eps, eps_expr)  # $\\frac{d (t^8)}{d t}$\n",
    "specific_eps_df_dt.doit()  # Evaluate the derivative"
   ]
  },
  {
   "cell_type": "code",
   "execution_count": null,
   "metadata": {},
   "outputs": [],
   "source": []
  },
  {
   "cell_type": "code",
   "execution_count": null,
   "metadata": {},
   "outputs": [],
   "source": []
  },
  {
   "cell_type": "code",
   "execution_count": null,
   "metadata": {},
   "outputs": [],
   "source": []
  }
 ],
 "metadata": {
  "kernelspec": {
   "display_name": "bmcs_env2",
   "language": "python",
   "name": "python3"
  },
  "language_info": {
   "codemirror_mode": {
    "name": "ipython",
    "version": 3
   },
   "file_extension": ".py",
   "mimetype": "text/x-python",
   "name": "python",
   "nbconvert_exporter": "python",
   "pygments_lexer": "ipython3"
  }
 },
 "nbformat": 4,
 "nbformat_minor": 2
}
