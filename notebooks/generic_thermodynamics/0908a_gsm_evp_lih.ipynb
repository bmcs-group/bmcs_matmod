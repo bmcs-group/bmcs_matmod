{
 "cells": [
  {
   "cell_type": "markdown",
   "metadata": {},
   "source": [
    "# GSM-EVP\n"
   ]
  },
  {
   "cell_type": "code",
   "execution_count": null,
   "metadata": {},
   "outputs": [],
   "source": [
    "%matplotlib widget\n",
    "import matplotlib.pylab as plt\n",
    "import sympy as sp\n",
    "import numpy as np\n",
    "from IPython.display import display, Math, Markdown\n",
    "from bmcs_matmod.api import GSM1D_EVP\n",
    "gsm = GSM1D_EVP()\n",
    "display(Markdown(gsm.latex_potentials()))"
   ]
  },
  {
   "cell_type": "markdown",
   "metadata": {},
   "source": [
    "## Linear strain-driven loading"
   ]
  },
  {
   "cell_type": "code",
   "execution_count": null,
   "metadata": {},
   "outputs": [],
   "source": [
    "E_val = 30e+3  # Young's modulus in MPa\n",
    "K_val = 10e+3  # Bulk modulus in MPa\n",
    "f_c_val = 30 # Strength in MPa\n",
    "mparams = dict(E=E_val, K=K_val, f_c=f_c_val, eta_vp=10e+3)\n",
    "\n",
    "f_time = 2  # Final time in secondsfinal_time = 1\n",
    "t_t = np.linspace(0, f_time, 100)\n",
    "eps_n_t = np.linspace(0, 0.01, 100)\n",
    "\n",
    "response = gsm.get_response(eps_n_t, t_t, **mparams)\n",
    "t_t_ec, eps_ta_ec, sig_ta_ec, Eps_t_ec, Sig_t_ec, iter_t_ec, lam_t_ec, (d_t_t_ec, d_eps_ta_ec) = response\n",
    "eps_t_ec = eps_ta_ec[:, 0]\n",
    "sig_t_ec = sig_ta_ec[:, 0, 0]\n",
    "# use the stress history to reproduce the response using stress control\n",
    "response = gsm.get_G_response(sig_t_ec, t_t, **mparams)\n",
    "t_t_sc, eps_ta_sc, sig_ta_sc, Eps_t_sc, Sig_t_sc, iter_t_sc, lam_t_sc, (d_t_t_sc, d_eps_ta_sc) = response\n",
    "iter_t = iter_t_sc[:, 0]\n",
    "eps_t_sc = eps_ta_sc[:, 0, 0]\n",
    "sig_t_sc = sig_ta_sc[:, 0]\n",
    "eps_t_ec.shape, sig_t_ec.shape, eps_t_sc.shape, sig_t_sc.shape"
   ]
  },
  {
   "cell_type": "code",
   "execution_count": null,
   "metadata": {},
   "outputs": [],
   "source": [
    "eps_vp_t_ec, z_t_ec = Eps_t_ec[:, 0, :].T\n",
    "sig_vp_t_ec, Z_t_ec = Sig_t_ec[:, 0, :].T\n",
    "eps_vp_t_sc, z_t_sc = Eps_t_sc[:, 0, :].T\n",
    "sig_vp_t_sc, Z_t_sc = Sig_t_sc[:, 0, :].T\n",
    "sig_vp_t_ec.shape, eps_vp_t_ec.shape, sig_vp_t_sc.shape, eps_vp_t_sc.shape"
   ]
  },
  {
   "cell_type": "code",
   "execution_count": null,
   "metadata": {},
   "outputs": [],
   "source": [
    "fig, ((ax_sig, ax_omega), (ax_lam, ax_z)) = plt.subplots(2, 2, figsize=(12, 8))\n",
    "fig.canvas.header_visible = False\n",
    "\n",
    "# Plot stress-strain and iterations-strain curves\n",
    "ax_iter = ax_sig.twinx()\n",
    "ax_eps = ax_omega.twinx()\n",
    "\n",
    "# Stress plots: now using \"vp\" (viscoplastic) instead of \"ve\"\n",
    "ax_sig.plot(eps_t_ec, sig_t_ec, color='cadetblue', lw=5, label=r'$\\varepsilon$', alpha=0.5)\n",
    "ax_sig.plot(eps_t_ec - eps_vp_t_ec, sig_t_ec, ls='dashed', color='cadetblue',\n",
    "            label=r'$\\varepsilon-\\varepsilon^\\mathrm{vp}$')\n",
    "\n",
    "ax_sig.plot(eps_t_sc, sig_t_sc, color='red', label=r'$\\varepsilon$')\n",
    "ax_sig.plot(eps_t_sc - eps_vp_t_sc, sig_t_sc, ls='dashed', color='red',\n",
    "            label=r'$\\varepsilon-\\varepsilon^\\mathrm{vp}$')\n",
    "\n",
    "ax_sig.set_ylabel(r'$\\sigma$', color='darkslategray')\n",
    "ax_sig.set_xlabel(r'$\\varepsilon$')\n",
    "ax_sig.legend()\n",
    "\n",
    "# Strain plots: replace eps_p_t with eps_vp_t and update labels accordingly\n",
    "ax_eps.plot(t_t_ec, eps_t_ec, label=r'$\\varepsilon$', color='cadetblue', lw=1)\n",
    "ax_eps.plot(t_t_ec, eps_t_ec - eps_vp_t_ec, label=r'$\\varepsilon - \\varepsilon_{\\mathrm{vp}}$',\n",
    "            color='cadetblue', ls='dashed', lw=1)\n",
    "ax_eps.fill_between(t_t_ec, eps_t_ec, eps_t_ec - eps_vp_t_ec, color='red', alpha=0.3,\n",
    "                    label=r'$\\varepsilon_{\\mathrm{vp}}$')\n",
    "ax_eps.fill_between(t_t_ec, eps_t_ec - eps_vp_t_ec, 0, color='green', alpha=0.3,\n",
    "                    label=r'$\\varepsilon - \\varepsilon_{\\mathrm{vp}} - \\varepsilon^\\mathrm{vp}$')\n",
    "ax_eps.legend()\n",
    "ax_eps.set_ylabel(r'$\\varepsilon$', color='cadetblue')\n",
    "\n",
    "# Second row: Lagrange multiplier and plastic strain plots\n",
    "ax_lam_eps_t = ax_lam.twinx()\n",
    "ax_lam.plot(t_t_ec, lam_t_ec[:, 0, :], 'o-', label=r'$\\lambda$', color='purple')\n",
    "ax_lam.set_xlabel(r'$t$')\n",
    "ax_lam.set_ylabel(r'$\\lambda$', color='purple')\n",
    "ax_lam_eps_t.plot(t_t_ec, eps_t_ec, label=r'$\\varepsilon$', color='green', ls='dashed')\n",
    "ax_lam_eps_t.set_ylabel(r'$\\varepsilon$', color='green')\n",
    "\n",
    "ax_z_eps_p = ax_z.twinx()\n",
    "ax_z.plot(t_t_ec, Z_t_ec, label=r'$z$', color='orange')\n",
    "ax_z.set_xlabel(r'$t$')\n",
    "ax_z.set_ylabel(r'$Z$', color='orange')\n",
    "ax_z_eps_p.plot(t_t_ec, eps_t_ec, label=r'$\\varepsilon$', color='blue')\n",
    "ax_z_eps_p.plot(t_t_ec, eps_vp_t_ec, label=r'$\\varepsilon_{\\mathrm{vp}}$', color='blue', ls='dashed')\n",
    "ax_z_eps_p.set_ylabel(r'$\\varepsilon_{\\mathrm{vp}}$', color='blue')\n",
    "ax_z_eps_p.legend()\n",
    "\n",
    "plt.tight_layout()"
   ]
  },
  {
   "cell_type": "code",
   "execution_count": null,
   "metadata": {},
   "outputs": [],
   "source": []
  }
 ],
 "metadata": {
  "kernelspec": {
   "display_name": "bmcs_matmod",
   "language": "python",
   "name": "python3"
  },
  "language_info": {
   "codemirror_mode": {
    "name": "ipython",
    "version": 3
   },
   "file_extension": ".py",
   "mimetype": "text/x-python",
   "name": "python",
   "nbconvert_exporter": "python",
   "pygments_lexer": "ipython3"
  }
 },
 "nbformat": 4,
 "nbformat_minor": 2
}
