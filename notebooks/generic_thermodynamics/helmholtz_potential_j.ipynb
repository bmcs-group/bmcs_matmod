{
 "cells": [
  {
   "cell_type": "code",
   "execution_count": null,
   "id": "8fc48ace-5e51-4743-89f0-574f4fd3b026",
   "metadata": {},
   "outputs": [],
   "source": [
    "using Symbolics"
   ]
  },
  {
   "cell_type": "code",
   "execution_count": null,
   "id": "1f65ad6c-5c70-4c7e-86e6-5f45a8bd48dd",
   "metadata": {},
   "outputs": [],
   "source": [
    "using Einsum"
   ]
  },
  {
   "cell_type": "code",
   "execution_count": null,
   "id": "df265701-5504-48a7-a624-6317328a9342",
   "metadata": {},
   "outputs": [],
   "source": [
    "using LinearAlgebra"
   ]
  },
  {
   "cell_type": "markdown",
   "id": "d562f939-14ed-4b9d-a509-f153b3b84d68",
   "metadata": {},
   "source": [
    "# Thermodynamically based derivation of material models in Julia"
   ]
  },
  {
   "cell_type": "code",
   "execution_count": null,
   "id": "c6d6abc4",
   "metadata": {},
   "outputs": [],
   "source": [
    "import Pkg; Pkg.add(\"Plots\")"
   ]
  },
  {
   "cell_type": "code",
   "execution_count": null,
   "id": "1ecf5107-e356-47c3-9bff-5a8e842f1c1a",
   "metadata": {},
   "outputs": [],
   "source": [
    "using Interact\n",
    "using Plots"
   ]
  },
  {
   "cell_type": "code",
   "execution_count": null,
   "id": "0ef58d46-887a-43eb-838e-8b90d774a485",
   "metadata": {},
   "outputs": [],
   "source": [
    "α = 5"
   ]
  },
  {
   "cell_type": "code",
   "execution_count": null,
   "id": "d49e1e7a-5040-4d2d-8ce6-1dc7048a2959",
   "metadata": {},
   "outputs": [],
   "source": [
    "α"
   ]
  },
  {
   "cell_type": "code",
   "execution_count": null,
   "id": "10bbb37a-88e9-4268-9e42-5b97dbc4793f",
   "metadata": {},
   "outputs": [],
   "source": [
    "@variables u_N;\n",
    "u_N"
   ]
  },
  {
   "cell_type": "code",
   "execution_count": null,
   "id": "9b878c03-5a2c-4fb5-ab7c-1c6c53b33aff",
   "metadata": {},
   "outputs": [],
   "source": [
    "𝒫 = @variables E_N S_N c_N K γ;"
   ]
  },
  {
   "cell_type": "code",
   "execution_count": null,
   "id": "86eaa892-465b-4dd7-9658-7c90622be6aa",
   "metadata": {},
   "outputs": [],
   "source": [
    "@variables uᵖ_N ω_N;\n",
    "ℱᵥ = @variables σᵖ_N Y_N;\n",
    "ℰ = [uᵖ_N, ω_N]\n",
    "n_ℰ = length(ℰ)\n",
    "ℱᵥ"
   ]
  },
  {
   "cell_type": "markdown",
   "id": "e5793d40-ffa5-4db8-88ee-bff46f210e45",
   "metadata": {},
   "source": [
    "# Potential I: Helmholtz free energy"
   ]
  },
  {
   "cell_type": "code",
   "execution_count": null,
   "id": "e939bb4c-8f14-428f-9bb6-c7514412743d",
   "metadata": {},
   "outputs": [],
   "source": [
    "ρψ = (1 - ω_N) * E_N * (u_N - uᵖ_N)^2 / 2"
   ]
  },
  {
   "cell_type": "code",
   "execution_count": null,
   "id": "bb7bac9e-27a4-44a6-b949-85fe6fd7f63c",
   "metadata": {},
   "outputs": [],
   "source": [
    "Υ = [-1, -1];"
   ]
  },
  {
   "cell_type": "code",
   "execution_count": null,
   "id": "d7f4db89-62c5-4ba1-a45f-fabdb587ccd4",
   "metadata": {},
   "outputs": [],
   "source": [
    "∂ρψ_∂ℰ = Symbolics.gradient(ρψ, ℰ)"
   ]
  },
  {
   "cell_type": "code",
   "execution_count": null,
   "id": "a28c784e-bd40-4551-9256-7126b075af55",
   "metadata": {},
   "outputs": [],
   "source": [
    "ℱ = Array(Υ .* ∂ρψ_∂ℰ)\n",
    "ℱ #, typeof(ℱ)"
   ]
  },
  {
   "cell_type": "code",
   "execution_count": null,
   "id": "bee1186e-692d-45fe-8a3a-b1c17559cbdc",
   "metadata": {},
   "outputs": [],
   "source": [
    "δᵢⱼ = Matrix(I, n_ℰ, n_ℰ);"
   ]
  },
  {
   "cell_type": "code",
   "execution_count": null,
   "id": "eb8632d4-b675-46ed-b6d3-050f6cf3abfa",
   "metadata": {},
   "outputs": [],
   "source": [
    "length(ℰ)"
   ]
  },
  {
   "cell_type": "code",
   "execution_count": null,
   "id": "57d22318-7eb7-4505-aa61-83ebdbd8ba5a",
   "metadata": {},
   "outputs": [],
   "source": [
    "@einsum ℱ[i] := δᵢⱼ[i, j] * Υ[j] * ∂ρψ_∂ℰ[j] "
   ]
  },
  {
   "cell_type": "code",
   "execution_count": null,
   "id": "6b490884-887f-4b36-847c-650c50f2315d",
   "metadata": {},
   "outputs": [],
   "source": [
    "∂ℱ_∂ℰ = Symbolics.jacobian(ℱ, ℰ)"
   ]
  },
  {
   "cell_type": "code",
   "execution_count": null,
   "id": "362c89ae-9cb4-4db8-820a-f8b395ab661f",
   "metadata": {},
   "outputs": [],
   "source": [
    "Symbolics.sparsejacobian(ℱ, ℰ)"
   ]
  },
  {
   "cell_type": "code",
   "execution_count": null,
   "id": "8d94a87f-d64a-4748-b9b4-03c68acdcb78",
   "metadata": {},
   "outputs": [],
   "source": [
    "get_Eps = Symbolics.build_function(E_N, E_N, conv=True );"
   ]
  },
  {
   "cell_type": "code",
   "execution_count": null,
   "id": "288860a1-74f0-4e5e-8d03-0cf4a7994003",
   "metadata": {},
   "outputs": [],
   "source": [
    "get_Eps(10)"
   ]
  },
  {
   "cell_type": "code",
   "execution_count": null,
   "id": "4acea82a-d6ab-4001-b77a-28cd545802ad",
   "metadata": {},
   "outputs": [],
   "source": [
    "get_Sig_Eps = Symbolics.build_function.(ℱ', [ℰ, E_N, S_N, c_N, K, γ] );"
   ]
  },
  {
   "cell_type": "code",
   "execution_count": null,
   "id": "e21cd2e2-7d99-4cb5-aea5-f15782c742a0",
   "metadata": {},
   "outputs": [],
   "source": [
    "get_Sig_Eps([0.2 0.1 0.3], 1000., 1e-3, 1., 0.0, 0.0)"
   ]
  },
  {
   "cell_type": "code",
   "execution_count": null,
   "id": "a35202f5-5046-4c71-97aa-73f20925d612",
   "metadata": {},
   "outputs": [],
   "source": [
    "get_Eps = lambdify.(ℰ, (ℰ,))"
   ]
  },
  {
   "cell_type": "code",
   "execution_count": null,
   "id": "a7bc4c23-94d4-44d2-8c4c-eddf03556667",
   "metadata": {},
   "outputs": [],
   "source": [
    "get_Eps[1](0,1)"
   ]
  },
  {
   "cell_type": "code",
   "execution_count": null,
   "id": "9c017be3-56c8-49fb-9570-e2abfe42b9d2",
   "metadata": {},
   "outputs": [],
   "source": [
    "get_Sig_Eps.([0.2 0.1 0.3], 1000., 1e-3, 1., 0.0, 0.0)"
   ]
  },
  {
   "cell_type": "markdown",
   "id": "05e3c3bb-c16f-4b67-8489-3cdd1b7cef83",
   "metadata": {},
   "source": [
    "# Potential II: Threshold function"
   ]
  },
  {
   "cell_type": "code",
   "execution_count": null,
   "id": "34658647-e366-4b41-b9ee-f2e9c4f5e4df",
   "metadata": {},
   "outputs": [],
   "source": [
    "@vars x\n",
    "@vars y\n",
    "@vars x_c\n",
    "@vars a b nonnegative=True\n",
    "@vars c positive=True\n",
    "x, y, x_c, a, b, c"
   ]
  },
  {
   "cell_type": "code",
   "execution_count": null,
   "id": "7a1326c7-32eb-49fa-8746-7f8989dbc3d1",
   "metadata": {},
   "outputs": [],
   "source": [
    "@vars x_0 \n",
    "@vars x_bar y_bar nonnegative=True\n",
    "@vars m nonnegative=True"
   ]
  },
  {
   "cell_type": "code",
   "execution_count": null,
   "id": "9d29fa89-c09f-4e2e-9a2d-a9cd697907ab",
   "metadata": {},
   "outputs": [],
   "source": [
    "f_lin_ = sqrt(y^2) - (y_bar - m * (x-x_0))"
   ]
  },
  {
   "cell_type": "code",
   "execution_count": null,
   "id": "4c7f4fa2-aa80-4446-b3f2-e7eba6594bf3",
   "metadata": {},
   "outputs": [],
   "source": [
    "f_ell_ = sqrt((x-x_0-x_c)^2/a^2 + y^2/b^2) - c\n",
    "f_ell_"
   ]
  },
  {
   "cell_type": "code",
   "execution_count": null,
   "id": "56d80dcf-7200-4cb3-ac29-4136fc664dc9",
   "metadata": {},
   "outputs": [],
   "source": [
    "∂f_ell_∂x = f_ell_.diff(x);\n",
    "∂f_ell_∂y = f_ell_.diff(y);"
   ]
  },
  {
   "cell_type": "code",
   "execution_count": null,
   "id": "b6631b18-2c10-48ad-a01c-3d4b20e84562",
   "metadata": {},
   "outputs": [],
   "source": [
    "eq1 = Eq(subs(f_ell_, (x, x_bar), (y, 0)), 0)\n",
    "eq2 = Eq(subs(f_ell_, (x, x_0), (y, y_bar)), 0)\n",
    "eq3 = Eq(subs((-∂f_ell_∂x / ∂f_ell_∂y), (x, x_0), (y, y_bar)), -m)\n",
    "eq3"
   ]
  },
  {
   "cell_type": "code",
   "execution_count": null,
   "id": "98e91b42-372e-483d-a916-f61a845d7c5d",
   "metadata": {},
   "outputs": [],
   "source": [
    "sol1, sol2, sol3, sol4 = sympy.solve((eq1, eq2, eq3),(a, b, x_c))"
   ]
  },
  {
   "cell_type": "code",
   "execution_count": null,
   "id": "dbd6ceee-0e0f-4aa8-bfcd-e2470b092527",
   "metadata": {},
   "outputs": [],
   "source": [
    "sol2[2]"
   ]
  },
  {
   "cell_type": "code",
   "execution_count": null,
   "id": "79867113-8e88-40af-b6c7-9239627d0a56",
   "metadata": {},
   "outputs": [],
   "source": [
    "abx_subs = sympy.solve([eq1 eq2 eq3],[a, b, x_c])[2]\n",
    "a_, b_, x_c_ = abx_subs\n",
    "subs_abx = Dict(a => a_, b => b_, x_c => x_c_)"
   ]
  },
  {
   "cell_type": "code",
   "execution_count": null,
   "id": "21f1d982-99f9-4e0c-941f-9752bbaf1eb0",
   "metadata": {},
   "outputs": [],
   "source": [
    "f_lin_c_ = subs(f_lin_, (x, x_c_ + x_0), (y, 0))\n",
    "f_ell_abx_ = subs(f_ell_, subs_abx)\n",
    "f_ell_abxc_ = subs(f_ell_abx_, (x, x_c_ + x_0), (y,0))\n",
    "eq4 = Eq(f_ell_abxc_, f_lin_c_)"
   ]
  },
  {
   "cell_type": "code",
   "execution_count": null,
   "id": "16757764-616a-4bec-bfce-9da1b5f0978f",
   "metadata": {},
   "outputs": [],
   "source": [
    "c_ = solve(eq4, c)[1]"
   ]
  },
  {
   "cell_type": "code",
   "execution_count": null,
   "id": "81b14237-cd21-4495-952d-4d6727ba1629",
   "metadata": {},
   "outputs": [],
   "source": [
    "f_ell_solved_ = subs(f_ell_, (a, a_), (b, b_), (x_c, x_c_), (c, c_))"
   ]
  },
  {
   "cell_type": "code",
   "execution_count": null,
   "id": "45d1f22e-a3ea-418f-89d1-456c77b132a1",
   "metadata": {},
   "outputs": [],
   "source": [
    "y_trans_ = subs( -y_bar / (x_c) * (x - x_0 - x_c), (x_c, x_c_))"
   ]
  },
  {
   "cell_type": "code",
   "execution_count": null,
   "id": "5230d1c2-b85f-469e-ae09-93a140caf696",
   "metadata": {},
   "outputs": [],
   "source": [
    "SymPy.StrictGreaterThan(a,b)"
   ]
  },
  {
   "cell_type": "code",
   "execution_count": null,
   "id": "b5d8f658-fa8f-42f4-a9a3-55f2335408a5",
   "metadata": {},
   "outputs": [],
   "source": [
    "f_cap_domain_ = sympy.StrictGreaterThan(\n",
    "    sympy.sign(x_bar-x_0) * sympy.sign(-m) * (sympy.Abs(y) - y_trans_), 0\n",
    "    )"
   ]
  },
  {
   "cell_type": "code",
   "execution_count": null,
   "id": "a48dcc23-a710-4dac-ac9b-6fecf6ca93d8",
   "metadata": {},
   "outputs": [],
   "source": [
    "get_y_trans = lambdify(y_trans_, (x, x_bar, y_bar, m, x_0))"
   ]
  },
  {
   "cell_type": "code",
   "execution_count": null,
   "id": "76dd5f88-2d6e-4c87-a5fd-dfbe4bee45c6",
   "metadata": {},
   "outputs": [],
   "source": [
    "get_y_trans.( [0.1, 0.2, 0.3], 1, 1, 0.1, 0 )"
   ]
  },
  {
   "cell_type": "code",
   "execution_count": null,
   "id": "73634b16-636d-4240-8e3e-1081fb35b879",
   "metadata": {},
   "outputs": [],
   "source": [
    "@vars f_s f_t f_c f_c0;"
   ]
  },
  {
   "cell_type": "code",
   "execution_count": null,
   "id": "ab9b84b5-7a2a-40cc-b592-f6706d634c17",
   "metadata": {},
   "outputs": [],
   "source": [
    "subs_tension = Dict(x_0 => 0, x_bar => f_t, y_bar => f_s)\n",
    "subs_shear = Dict(y_bar => f_s, x_0 => 0)\n",
    "subs_compression = Dict(x_0 => -f_c0, x_bar => -f_c,  y_bar => f_s-m*(-f_c0) )"
   ]
  },
  {
   "cell_type": "code",
   "execution_count": null,
   "id": "fcf4f758-f21d-421b-9574-9a16636b0b9d",
   "metadata": {},
   "outputs": [],
   "source": [
    "function foo(x)\n",
    "    (x .<= 0) .* x + (x .> 0) .* log.(x)\n",
    "end"
   ]
  },
  {
   "cell_type": "code",
   "execution_count": null,
   "id": "454452da-1d61-49cd-b26b-c100025f1918",
   "metadata": {},
   "outputs": [],
   "source": [
    "f_solved_ = sympy.Piecewise(\n",
    "    (subs(f_ell_solved_, subs_tension), subs(f_cap_domain_,subs_tension)),\n",
    "    (subs(f_ell_solved_, subs_compression), subs(f_cap_domain_, subs_compression)),\n",
    "    (subs(f_lin_, subs_shear), True)\n",
    ")\n",
    "f_solved_"
   ]
  },
  {
   "cell_type": "code",
   "execution_count": null,
   "id": "fed5e45b-e879-43a2-8e94-ffb5a388d957",
   "metadata": {},
   "outputs": [],
   "source": [
    "get_f_solved = lambdify(f_solved_, (x, y, f_t, f_c, f_c0, f_s, m))"
   ]
  },
  {
   "cell_type": "code",
   "execution_count": null,
   "id": "154264a0-d2e9-4de0-bfb9-88de2da03cbb",
   "metadata": {},
   "outputs": [],
   "source": [
    "get_f_solved.([0 1], [3.1, 3.3, 3.8], 3, 30, 22, 3, 0.1)"
   ]
  },
  {
   "cell_type": "code",
   "execution_count": null,
   "id": "94e5cc36-b22c-4479-a630-7dc8eafb118e",
   "metadata": {},
   "outputs": [],
   "source": [
    "x_range = LinRange(-35, 8, 300)\n",
    "y_range = LinRange(-10, 10, 300)"
   ]
  },
  {
   "cell_type": "code",
   "execution_count": null,
   "id": "ae2f18c4-0744-4e87-ba10-6a11d2abb4f6",
   "metadata": {},
   "outputs": [],
   "source": [
    "@time f_range = get_f_solved.(x_range', y_range, 3, 30, 10, 3, 0.1);"
   ]
  },
  {
   "cell_type": "code",
   "execution_count": null,
   "id": "b16ab1c8-5d59-4e49-b212-839726daeb13",
   "metadata": {},
   "outputs": [],
   "source": [
    "using Plots"
   ]
  },
  {
   "cell_type": "code",
   "execution_count": null,
   "id": "d2c748c6-6aed-4cf4-b639-a6f5f2c0b8d4",
   "metadata": {},
   "outputs": [],
   "source": [
    "@time surface(x_range, y_range, f_range)"
   ]
  },
  {
   "cell_type": "code",
   "execution_count": null,
   "id": "254c3a01-d4c3-44b8-9686-51c673dbaeba",
   "metadata": {},
   "outputs": [],
   "source": [
    "sympy.ccode(f_solved_)"
   ]
  },
  {
   "cell_type": "code",
   "execution_count": null,
   "id": "90423c83-7f08-4e5f-b115-3c07de987d58",
   "metadata": {},
   "outputs": [],
   "source": [
    "df_dx_ = sympy.diff(f_solved_, [x, y]);"
   ]
  },
  {
   "cell_type": "code",
   "execution_count": null,
   "id": "3d242117-2163-4cc7-963c-7b46c2f20573",
   "metadata": {},
   "outputs": [],
   "source": [
    "df_dx_a = Array([df_dx_[i] for i in [0, 1]]);"
   ]
  },
  {
   "cell_type": "code",
   "execution_count": null,
   "id": "cfbd788b-4f2d-485f-9266-12acac9b9ca6",
   "metadata": {},
   "outputs": [],
   "source": [
    "get_df_dx = lambdify(df_dx_a, (x, y, f_t, f_c, f_c0, f_s, m))"
   ]
  },
  {
   "cell_type": "code",
   "execution_count": null,
   "id": "954723f9-e0fb-4bfc-8e96-75fcf54049f0",
   "metadata": {},
   "outputs": [],
   "source": [
    "get_df_dx.(-36, -0, 3, 30, 22, 3, 0.1)"
   ]
  },
  {
   "cell_type": "code",
   "execution_count": null,
   "id": "c7c7e830-6ea9-4d3f-8582-23cbc83f2cc0",
   "metadata": {},
   "outputs": [],
   "source": [
    "get_df_dx.(x_range, y_range, 3, 30, 22, 3, 0.1)"
   ]
  },
  {
   "cell_type": "code",
   "execution_count": null,
   "id": "f661c10d-8069-4afc-bb07-7bf6897ad45f",
   "metadata": {},
   "outputs": [],
   "source": []
  },
  {
   "cell_type": "code",
   "execution_count": null,
   "id": "647342fa-f41e-42e1-ad9b-1719c602e467",
   "metadata": {},
   "outputs": [],
   "source": [
    "sympy.ccode(df_dx_a)"
   ]
  },
  {
   "cell_type": "code",
   "execution_count": null,
   "id": "dbf2a6c8-a301-4171-a828-5ee719f8b6c8",
   "metadata": {},
   "outputs": [],
   "source": []
  }
 ],
 "metadata": {
  "@webio": {
   "lastCommId": "9ffec0df-1331-4340-8e60-2a1f1e33d57d",
   "lastKernelId": "7a617e86-696e-460f-af9f-1ecd4053063e"
  },
  "kernelspec": {
   "display_name": "Julia 1.10.2",
   "language": "julia",
   "name": "julia-1.10"
  },
  "language_info": {
   "file_extension": ".jl",
   "mimetype": "application/julia",
   "name": "julia"
  }
 },
 "nbformat": 4,
 "nbformat_minor": 5
}
