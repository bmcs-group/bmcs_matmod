{
 "cells": [
  {
   "cell_type": "markdown",
   "metadata": {},
   "source": [
    "# EVPD-LIH"
   ]
  },
  {
   "cell_type": "code",
   "execution_count": null,
   "metadata": {},
   "outputs": [],
   "source": [
    "%matplotlib widget\n",
    "from bmcs_matmod.api import GSM1D_EVPD\n",
    "import matplotlib.pylab as plt\n",
    "import sympy as sp\n",
    "import numpy as np\n",
    "sp.init_printing()"
   ]
  },
  {
   "cell_type": "code",
   "execution_count": null,
   "metadata": {},
   "outputs": [],
   "source": [
    "gsm = GSM1D_EVPD()\n",
    "gsm_engine = gsm.F_engine"
   ]
  },
  {
   "cell_type": "code",
   "execution_count": null,
   "metadata": {},
   "outputs": [],
   "source": [
    "gsm_engine.f_expr"
   ]
  },
  {
   "cell_type": "code",
   "execution_count": null,
   "metadata": {},
   "outputs": [],
   "source": [
    "(gamma_mech, L_, dL_dS_, dL_dS_A_, dR_dA_n1), (eps_n, delta_eps, Eps_n, delta_A, delta_t, _, _), Sig_n1, f_n1, R_n1, dR_dA_OI_n1 = gsm_engine.Sig_f_R_dR_n1\n",
    "gamma_mech"
   ]
  },
  {
   "cell_type": "code",
   "execution_count": null,
   "metadata": {},
   "outputs": [],
   "source": [
    "gsm_engine.F_expr"
   ]
  },
  {
   "cell_type": "code",
   "execution_count": null,
   "metadata": {},
   "outputs": [],
   "source": [
    "L_"
   ]
  },
  {
   "cell_type": "code",
   "execution_count": null,
   "metadata": {},
   "outputs": [],
   "source": []
  },
  {
   "cell_type": "code",
   "execution_count": null,
   "metadata": {},
   "outputs": [],
   "source": [
    "stacked_matrix = sp.Matrix.vstack(gsm_engine.u_vars, gsm_engine.Eps.as_explicit())\n",
    "stacked_matrix\n",
    "dot_stacked_matrix = sp.Matrix.vstack(sp.Matrix([[gsm_engine.dot_eps]]), gsm_engine.dot_Eps.as_explicit())\n",
    "dot_stacked_matrix\n"
   ]
  },
  {
   "cell_type": "markdown",
   "metadata": {},
   "source": [
    "$$\n",
    "E ( \\dot{\\varepsilon} - \\dot{\\varepsilon}_\\mathrm{p}) - K \\dot{z}\n",
    "$$"
   ]
  },
  {
   "cell_type": "code",
   "execution_count": null,
   "metadata": {},
   "outputs": [],
   "source": [
    "(gsm_engine.f_expr.subs(gsm_engine.subs_Sig_Eps).diff(stacked_matrix).T * dot_stacked_matrix)[0,0]"
   ]
  },
  {
   "cell_type": "code",
   "execution_count": null,
   "metadata": {},
   "outputs": [],
   "source": [
    "dL_dS_"
   ]
  },
  {
   "cell_type": "code",
   "execution_count": null,
   "metadata": {},
   "outputs": [],
   "source": [
    "R_n1_subs = R_n1.replace(sp.sign, lambda x: 1)\n",
    "R_n1_subs"
   ]
  },
  {
   "cell_type": "code",
   "execution_count": null,
   "metadata": {},
   "outputs": [],
   "source": [
    "delta_A"
   ]
  },
  {
   "cell_type": "code",
   "execution_count": null,
   "metadata": {},
   "outputs": [],
   "source": [
    "sp.simplify(f_n1)\n"
   ]
  },
  {
   "cell_type": "code",
   "execution_count": null,
   "metadata": {},
   "outputs": [],
   "source": [
    "dR_dA_n1_subs = dR_dA_n1.replace(sp.sign, lambda x: 1)\n",
    "dR_dA_n1_subs"
   ]
  },
  {
   "cell_type": "code",
   "execution_count": null,
   "metadata": {},
   "outputs": [],
   "source": [
    "Sig_n1"
   ]
  },
  {
   "cell_type": "markdown",
   "metadata": {},
   "source": [
    "## Monotonic strain-driven loading"
   ]
  },
  {
   "cell_type": "code",
   "execution_count": null,
   "metadata": {},
   "outputs": [],
   "source": [
    "mparams = dict(E = 20, K = 5, S = 1, c = 1, r = 1, eps_0 = 0, f_c = 15, eta_vp=10)\n",
    "n_t = 151\n",
    "n_I = 1\n",
    "eps_max = 5.0\n",
    "final_time = 10\n",
    "t_t = np.linspace(0, final_time, n_t)\n",
    "eps_n_t = np.linspace(0, eps_max, n_t)\n",
    "response = gsm.get_response(eps_n_t, t_t, **mparams)\n",
    "t_t, eps_ta, sig_ta, Eps_t, Sig_t, iter_t, lam_t, (d_t_t, d_eps_ta) = response\n",
    "# Plot viscoplastic strain and damage along time\n",
    "eps_t = eps_ta[:, 0]\n",
    "eps_p_t, omega_t, z_t = Eps_t[:, 0, :].T\n",
    "sig_p_t, Y_t, Z_t = Sig_t[:, 0, :].T"
   ]
  },
  {
   "cell_type": "code",
   "execution_count": null,
   "metadata": {},
   "outputs": [],
   "source": [
    "fig, ((ax_sig, ax_omega), (ax_lam, ax_z)) = plt.subplots(2, 2, figsize=(12, 8))\n",
    "\n",
    "# First row: Stress-strain and damage plots\n",
    "ax_iter = ax_sig.twinx()\n",
    "ax_eps = ax_omega.twinx()\n",
    "\n",
    "ax_sig.plot(eps_t, sig_p_t, color='cadetblue', label=r'$\\varepsilon$')\n",
    "ax_sig.plot(eps_t-eps_p_t, Sig_t[:,:,0], ls='dashed', color='cadetblue', label=r'$\\varepsilon-\\varepsilon^\\mathrm{ve}$')\n",
    "ax_sig.set_ylabel(r'$\\sigma$', color='darkslategray')\n",
    "ax_sig.set_xlabel(r'$\\varepsilon$')\n",
    "ax_sig.legend()\n",
    "\n",
    "ax_iter.plot(eps_t, iter_t, ls='dashed', color='gray', lw=0.5)\n",
    "ax_iter.set_ylabel(r'$k$', color='gray')\n",
    "\n",
    "ax_omega.plot(t_t, omega_t, label='Damage', color='brown')\n",
    "ax_eps.plot(t_t, eps_t, label=r'$\\varepsilon$', color='cadetblue', lw=1)\n",
    "ax_eps.plot(t_t, eps_p_t, label=r'$\\varepsilon_\\mathrm{vp}$', color='cadetblue', ls='dashed', lw=1)\n",
    "ax_eps.legend()\n",
    "ax_omega.set_xlabel(r'$t$')\n",
    "ax_omega.set_ylabel(r'$\\omega$', color='brown')\n",
    "ax_eps.set_ylabel(r'$\\varepsilon$', color='cadetblue')\n",
    "\n",
    "# Second row: Lagrange multiplier and plastic strain plots\n",
    "ax_lam_eps_t = ax_lam.twinx()\n",
    "ax_lam.plot(t_t, lam_t[:, 0, 0], 'o-', label=r'$\\lambda$', color='purple')\n",
    "ax_lam.set_xlabel(r'$t$')\n",
    "ax_lam.set_ylabel(r'$\\lambda$', color='purple')\n",
    "ax_lam_eps_t.plot(t_t, eps_t, label=r'$\\varepsilon$', color='green', ls='dashed')\n",
    "ax_lam_eps_t.set_ylabel(r'$\\varepsilon$', color='green')\n",
    "\n",
    "ax_z_eps_p = ax_z.twinx()\n",
    "ax_z.plot(t_t, z_t, label=r'$z$', color='orange')\n",
    "ax_z.set_xlabel(r'$t$')\n",
    "ax_z.set_ylabel(r'$Z$', color='orange')\n",
    "ax_z_eps_p.plot(t_t, eps_p_t, label=r'$\\varepsilon_\\mathrm{p}$', color='blue', ls='dashed')\n",
    "ax_z_eps_p.set_ylabel(r'$\\varepsilon_\\mathrm{p}$', color='blue')\n",
    "\n",
    "plt.tight_layout()\n",
    "plt.show()"
   ]
  },
  {
   "cell_type": "markdown",
   "metadata": {},
   "source": [
    "## Cyclic strain-driven loading"
   ]
  },
  {
   "cell_type": "code",
   "execution_count": null,
   "metadata": {},
   "outputs": [],
   "source": [
    "t_, sig_max_, t_1_, t_2_, t_3_ = sp.symbols('t sig_max t_1 t_2 t_3', real=True, positive=True)\n",
    "eps_t_ = sp.Piecewise(\n",
    "    (sig_max_ / t_1_ * t_, t_ < t_1_),\n",
    "    (sig_max_, t_ < t_2_),\n",
    "    (sig_max_ - sig_max_/(t_3_-t_2_)*(t_ - t_2_), t_ < t_3_),\n",
    "    (0, True)\n",
    ")\n",
    "get_eps_t = sp.lambdify((t_, sig_max_, t_1_, t_2_, t_3_), eps_t_, 'numpy')\n",
    "final_time = 10\n",
    "eps_max = 3\n",
    "n_t = 151\n",
    "#n_t = 31\n",
    "t_t = np.linspace(0, final_time, n_t)\n",
    "eps_n_t = get_eps_t(t_t, eps_max, 0.25*final_time, 0.5*final_time, 0.75*final_time)\n",
    "fig, ax = plt.subplots(1,1)\n",
    "ax.plot(t_t, eps_n_t)"
   ]
  },
  {
   "cell_type": "code",
   "execution_count": null,
   "metadata": {},
   "outputs": [],
   "source": [
    "mparams = dict(E = 20, K = 5, S = 10, c = 1, r = 1, eps_0 = 0, f_c = 15, eta_vp=10)\n",
    "response = gsm.get_response(eps_n_t, t_t, **mparams)\n",
    "t_t, eps_ta, sig_ta, Eps_t, Sig_t, iter_t, lam_t, (d_t_t, d_eps_ta) = response\n",
    "# Plot viscoplastic strain and damage along time\n",
    "eps_t = eps_ta[:, 0]\n",
    "eps_p_t, omega_t, z_t = Eps_t[:, 0, :].T\n",
    "sig_p_t, Y_t, Z_t = Sig_t[:, 0, :].T"
   ]
  },
  {
   "cell_type": "code",
   "execution_count": null,
   "metadata": {},
   "outputs": [],
   "source": [
    "fig, ((ax_sig, ax_omega), (ax_lam, ax_z)) = plt.subplots(2, 2, figsize=(12, 8))\n",
    "\n",
    "# First row: Stress-strain and damage plots\n",
    "ax_iter = ax_sig.twinx()\n",
    "ax_eps = ax_omega.twinx()\n",
    "\n",
    "ax_sig.plot(eps_t, sig_p_t, color='cadetblue', label=r'$\\varepsilon$')\n",
    "ax_sig.plot(eps_t-eps_p_t, Sig_t[:,:,0], ls='dashed', color='cadetblue', label=r'$\\varepsilon-\\varepsilon^\\mathrm{ve}$')\n",
    "ax_sig.set_ylabel(r'$\\sigma$', color='darkslategray')\n",
    "ax_sig.set_xlabel(r'$\\varepsilon$')\n",
    "ax_sig.legend()\n",
    "\n",
    "ax_iter.plot(eps_t, iter_t, ls='dashed', color='gray', lw=0.5)\n",
    "ax_iter.set_ylabel(r'$k$', color='gray')\n",
    "\n",
    "ax_omega.plot(t_t, omega_t, label='Damage', color='brown')\n",
    "ax_eps.plot(t_t, eps_t, label=r'$\\varepsilon$', color='cadetblue', lw=1)\n",
    "ax_eps.plot(t_t, eps_p_t, label=r'$\\varepsilon_\\mathrm{vp}$', color='cadetblue', ls='dashed', lw=1)\n",
    "ax_eps.legend()\n",
    "ax_omega.set_xlabel(r'$t$')\n",
    "ax_omega.set_ylabel(r'$\\omega$', color='brown')\n",
    "ax_eps.set_ylabel(r'$\\varepsilon$', color='cadetblue')\n",
    "\n",
    "# Second row: Lagrange multiplier and plastic strain plots\n",
    "ax_lam_eps_t = ax_lam.twinx()\n",
    "ax_lam.plot(t_t, lam_t[:, 0, 0], 'o-', label=r'$\\lambda$', color='purple')\n",
    "ax_lam.set_xlabel(r'$t$')\n",
    "ax_lam.set_ylabel(r'$\\lambda$', color='purple')\n",
    "ax_lam_eps_t.plot(t_t, eps_t, label=r'$\\varepsilon$', color='green', ls='dashed')\n",
    "ax_lam_eps_t.set_ylabel(r'$\\varepsilon$', color='green')\n",
    "\n",
    "ax_z_eps_p = ax_z.twinx()\n",
    "ax_z.plot(t_t, Z_t, label=r'$z$', color='orange')\n",
    "ax_z.set_xlabel(r'$t$')\n",
    "ax_z.set_ylabel(r'$Z$', color='orange')\n",
    "ax_z_eps_p.plot(t_t, eps_p_t, label=r'$\\varepsilon_\\mathrm{p}$', color='blue', ls='dashed')\n",
    "ax_z_eps_p.set_ylabel(r'$\\varepsilon_\\mathrm{p}$', color='blue')\n",
    "\n",
    "plt.tight_layout()\n",
    "plt.show()"
   ]
  },
  {
   "cell_type": "markdown",
   "metadata": {},
   "source": [
    "Damage is allowed to grow only if\n",
    "$$\n",
    "\\| \\dot{\\varepsilon}_\\mathrm{e} \\| > 0\n",
    "$$\n",
    "Can this condition be expressed using the yield function? Why is $\\dot{f} < 0 $ not covering the considered case? Because of the dynamic effect?\n",
    "$$\n",
    "\\| \\dot{\\varepsilon}_\\mathrm{e} \\| = \n",
    "\\| \\dot{\\varepsilon} -  \n",
    "\\dot{\\varepsilon}_\\mathrm{p} \\| \n",
    "$$\n",
    "If $\\| \\dot{\\varepsilon} \\| < 0$ the damage must not evolve. "
   ]
  },
  {
   "cell_type": "markdown",
   "metadata": {},
   "source": []
  }
 ],
 "metadata": {
  "kernelspec": {
   "display_name": "bmcs_matmod",
   "language": "python",
   "name": "python3"
  },
  "language_info": {
   "codemirror_mode": {
    "name": "ipython",
    "version": 3
   },
   "file_extension": ".py",
   "mimetype": "text/x-python",
   "name": "python",
   "nbconvert_exporter": "python",
   "pygments_lexer": "ipython3"
  }
 },
 "nbformat": 4,
 "nbformat_minor": 2
}
