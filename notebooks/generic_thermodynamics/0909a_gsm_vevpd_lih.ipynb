{
 "cells": [
  {
   "cell_type": "markdown",
   "metadata": {},
   "source": [
    "# GSM1D-VEVPD"
   ]
  },
  {
   "cell_type": "code",
   "execution_count": null,
   "metadata": {},
   "outputs": [],
   "source": [
    "%matplotlib widget\n",
    "import matplotlib.pylab as plt\n",
    "import sympy as sp\n",
    "import numpy as np\n",
    "from IPython.display import display, Math, Markdown\n",
    "\n",
    "from bmcs_matmod.api import (\n",
    "    GSMModel, GSM1D_VEVPD, TimeFnMonotonicAscending\n",
    ")\n",
    "\n",
    "gsm = GSMModel(GSM1D_VEVPD)\n",
    "\n",
    "display(Markdown(GSM1D_VEVPD.latex_potentials()))"
   ]
  },
  {
   "cell_type": "markdown",
   "metadata": {},
   "source": [
    "## Monotonic strain-driven loading"
   ]
  },
  {
   "cell_type": "code",
   "execution_count": null,
   "metadata": {},
   "outputs": [],
   "source": [
    "mparams = dict(E = 20, K = 0, S = 100, c = 1, r = 1, eps_0 = 0, f_c = 15, eta_vp=100, eta_ve=300)\n",
    "gsm.set_params(**mparams)\n",
    "eps_max = 10.0\n",
    "final_time = 10\n",
    "# mparams = dict(E = 20e+6, K = 0e+6, S = 0.000005, c = 1, r = 1, f_c = 5e+3, eta_vp=50+6, eta_ve=50e+6)\n",
    "# final_time = 10\n",
    "# eps_max = 1.5e-3 \n",
    "n_t = 151\n",
    "t_t = np.linspace(0, final_time, n_t)\n",
    "eps_n_t = np.linspace(0, eps_max, n_t)\n",
    "F_response = gsm.get_F_response(eps_n_t, t_t)\n"
   ]
  },
  {
   "cell_type": "code",
   "execution_count": null,
   "metadata": {},
   "outputs": [],
   "source": [
    "gsm.gsm_def.Eps_vars"
   ]
  },
  {
   "cell_type": "code",
   "execution_count": null,
   "metadata": {},
   "outputs": [],
   "source": [
    "gsm.gsm_def"
   ]
  },
  {
   "cell_type": "code",
   "execution_count": null,
   "metadata": {},
   "outputs": [],
   "source": [
    "rd_ec = F_response\n",
    "# Plot viscoplastic strain and damage along time\n",
    "iter_t = rd_ec.iter_t\n",
    "lam_t = rd_ec.lam_t\n",
    "eps_t = rd_ec.eps_t[:, 0]\n",
    "sig_t = rd_ec.sig_t[:, 0, 0]\n",
    "eps_v_t = rd_ec.Eps_t.eps_v_a[:, 0, 0]\n",
    "eps_p_t = rd_ec.Eps_t.eps_p_a[:, 0, 0]\n",
    "omega_t = rd_ec.Eps_t.omega_a[:, 0, 0]\n",
    "z_t = rd_ec.Eps_t.z_a[:, 0, 0]\n",
    "sig_v_t = rd_ec.Sig_t.sig_v_a[:, 0, 0]\n",
    "sig_p_t = rd_ec.Sig_t.sig_p_a[:, 0, 0]\n",
    "Y_t = rd_ec.Sig_t.Y_a[:, 0, 0]\n",
    "Z_t = rd_ec.Sig_t.Z_a[:, 0, 0]"
   ]
  },
  {
   "cell_type": "code",
   "execution_count": null,
   "metadata": {},
   "outputs": [],
   "source": [
    "sig_out_t = mparams['E'] * (eps_t - eps_v_t -  eps_p_t)"
   ]
  },
  {
   "cell_type": "code",
   "execution_count": null,
   "metadata": {},
   "outputs": [],
   "source": [
    "fig, ((ax_sig, ax_omega),\n",
    "    (ax_lam, ax_z),\n",
    "    (ax_Y, ax_compare_sig),\n",
    "    (ax_rate, ax_unused)) = plt.subplots(4, 2, figsize=(12, 16))\n",
    "fig.canvas.header_visible = False\n",
    "\n",
    "# First row\n",
    "ax_iter = ax_sig.twinx()\n",
    "ax_eps = ax_omega.twinx()\n",
    "\n",
    "ax_sig.plot(t_t, sig_p_t, color='cadetblue', label=r'$t$')\n",
    "ax_sig.set_ylabel(r'$\\sigma$', color='darkslategray')\n",
    "ax_sig.set_xlabel(r'$t$', color='cadetblue')\n",
    "ax_sig.legend()\n",
    "\n",
    "ax_iter.plot(eps_t, iter_t, ls='dashed', color='gray', lw=0.5)\n",
    "ax_iter.set_ylabel(r'$k$', color='gray')\n",
    "\n",
    "# Second row\n",
    "ax_omega.plot(t_t, omega_t, label='Damage', color='brown')\n",
    "ax_eps.plot(t_t, eps_t, label=r'$\\varepsilon$', color='cadetblue', lw=1)\n",
    "ax_eps.plot(t_t, eps_t - eps_p_t, label=r'$\\varepsilon - \\varepsilon_\\mathrm{vp}$', color='cadetblue', ls='dashed', lw=1)\n",
    "ax_eps.plot(t_t, eps_t - eps_p_t - eps_v_t, label=r'$\\varepsilon - \\varepsilon_\\mathrm{vp} - \\varepsilon_\\mathrm{ve}$', \n",
    "        color='cadetblue', ls='dotted', lw=1)\n",
    "ax_eps.fill_between(t_t, eps_t, eps_t - eps_p_t, color='red', alpha=0.3, label=r'$\\varepsilon_\\mathrm{vp}$')\n",
    "ax_eps.fill_between(t_t, eps_t - eps_p_t, eps_t - eps_p_t - eps_v_t, color='blue', alpha=0.3, label='viscoelastic')\n",
    "ax_eps.fill_between(t_t, eps_t - eps_p_t - eps_v_t, 0, color='green', alpha=0.3, label='elastic')\n",
    "ax_eps.legend()\n",
    "ax_omega.set_xlabel(r'$t$')\n",
    "ax_omega.set_ylabel(r'$\\omega$', color='brown')\n",
    "ax_eps.set_ylabel(r'$\\varepsilon$', color='cadetblue')\n",
    "\n",
    "# Third row\n",
    "ax_lam_eps_t = ax_lam.twinx()\n",
    "ax_lam.plot(t_t, lam_t[:, 0, :], 'o-', label=r'$\\lambda$', color='purple')\n",
    "ax_lam.set_xlabel(r'$t$')\n",
    "ax_lam.set_ylabel(r'$\\lambda$', color='purple')\n",
    "ax_lam_eps_t.plot(t_t, eps_t, label=r'$\\varepsilon$', color='green', ls='dashed')\n",
    "ax_lam_eps_t.set_ylabel(r'$\\varepsilon$', color='green')\n",
    "\n",
    "ax_z_eps_p = ax_z.twinx()\n",
    "ax_z.plot(t_t, Z_t, label=r'$z$', color='orange')\n",
    "ax_z.set_xlabel(r'$t$')\n",
    "ax_z.set_ylabel(r'$Z$', color='orange')\n",
    "ax_z_eps_p.plot(t_t, eps_t, label=r'$\\varepsilon$', color='blue')\n",
    "ax_z_eps_p.plot(t_t, eps_v_t, label=r'$\\varepsilon_\\mathrm{ve}$', color='blue', ls='dotted')\n",
    "ax_z_eps_p.plot(t_t, eps_v_t + eps_p_t, label=r'$\\varepsilon_\\mathrm{ve} + \\varepsilon_\\mathrm{vp}$', color='blue', ls='dashed')\n",
    "ax_z_eps_p.set_ylabel(r'$\\varepsilon_\\mathrm{p}$', color='blue')\n",
    "ax_z_eps_p.legend()\n",
    "\n",
    "ax_Y.plot(t_t, Y_t, label=r'$Y$', color='magenta')\n",
    "ax_Y.set_xlabel(r'$t$')\n",
    "ax_Y.set_ylabel(r'$Y$', color='magenta')\n",
    "ax_Y.legend()\n",
    "\n",
    "ax_compare_sig.plot(t_t, sig_t, color='cadetblue', label=r'$\\sigma$')\n",
    "ax_compare_sig.plot(t_t, sig_p_t, color='cadetblue', ls='dashed', label=r'$\\sigma_\\mathrm{vp}$')\n",
    "ax_compare_sig.plot(t_t, sig_v_t, color='cadetblue', ls='dotted', label=r'$\\sigma_\\mathrm{ve}$')\n",
    "ax_compare_sig.set_ylabel(r'$\\sigma$', color='darkslategray')\n",
    "ax_compare_sig.set_xlabel(r'$t$', color='cadetblue')\n",
    "ax_compare_sig.plot(t_t, sig_out_t, color='red', label=r'$\\sigma$')\n",
    "ax_compare_sig.legend()\n",
    "\n",
    "# Fourth row: rates of strains\n",
    "dt = t_t[1:] - t_t[:-1]\n",
    "eps_rate = np.diff(eps_t) / dt\n",
    "eps_v_rate = np.diff(eps_v_t) / dt\n",
    "eps_p_rate = np.diff(eps_p_t) / dt\n",
    "t_mid = t_t[:-1] + dt / 2\n",
    "\n",
    "ax_rate.plot(t_mid, eps_rate, label='Total strain rate', color='black')\n",
    "ax_rate.plot(t_mid, eps_v_rate, label='Viscoelastic rate', color='blue', ls='dotted')\n",
    "ax_rate.plot(t_mid, eps_p_rate, label='Plastic rate', color='red', ls='dashed')\n",
    "ax_rate.set_xlabel(r'$t$')\n",
    "ax_rate.set_ylabel('Strain rate')\n",
    "ax_rate.legend()\n",
    "\n",
    "# Hide unused axis in the bottom-right subplot\n",
    "ax_unused.axis('off')\n",
    "\n",
    "plt.tight_layout()\n",
    "plt.show()"
   ]
  },
  {
   "cell_type": "markdown",
   "metadata": {},
   "source": [
    "## Cyclic strain-driven loading"
   ]
  },
  {
   "cell_type": "code",
   "execution_count": null,
   "metadata": {},
   "outputs": [],
   "source": [
    "t_, sig_max_, t_1_, t_2_, t_3_ = sp.symbols('t sig_max t_1 t_2 t_3', real=True, positive=True)\n",
    "eps_t_ = sp.Piecewise(\n",
    "    (sig_max_ / t_1_ * t_, t_ < t_1_),\n",
    "    (sig_max_, t_ < t_2_),\n",
    "    (sig_max_ - sig_max_/(t_3_-t_2_)*(t_ - t_2_), t_ < t_3_),\n",
    "    (0, True)\n",
    ")\n",
    "get_eps_t = sp.lambdify((t_, sig_max_, t_1_, t_2_, t_3_), eps_t_, 'numpy')\n",
    "eps_max = 2\n",
    "n_t_ec_cyclic = 4 * n_t\n",
    "f_time = 30\n",
    "t_t = np.linspace(0, f_time, n_t_ec_cyclic)\n",
    "eps_n_t = get_eps_t(t_t, eps_max, 0.25*f_time, 0.5*f_time, 0.75*f_time)\n",
    "fig, ax = plt.subplots(1,1)\n",
    "ax.plot(t_t, eps_n_t)"
   ]
  },
  {
   "cell_type": "code",
   "execution_count": null,
   "metadata": {},
   "outputs": [],
   "source": [
    "final_time = 1\n",
    "eps_max = 2\n",
    "t_t = np.linspace(0, final_time, 3000)\n",
    "eps_n_t = get_eps_t(t_t, eps_max, 0.25*final_time, 0.5*final_time, 0.75*final_time)\n",
    "t_t = np.hstack([t_t, t_t[-1] + t_t[1:]])\n",
    "eps_n_t = np.hstack([eps_n_t, -eps_n_t[1:]])\n",
    "fig, ax = plt.subplots(1,1)\n",
    "ax.plot(t_t, eps_n_t)"
   ]
  },
  {
   "cell_type": "code",
   "execution_count": null,
   "metadata": {},
   "outputs": [],
   "source": [
    "mparams = dict(E = 20, K = 5, S =200, c = 1, r = 1, eps_0 = 0, f_c = 15, eta_vp=1e-5, eta_ve=10)\n",
    "gsm.set_params(**mparams)\n",
    "rc_ed = gsm.get_F_response(eps_n_t, t_t)\n",
    "# Plot viscoplastic strain and damage along time\n",
    "t_t = rd_ec.t_t\n",
    "iter_t = rd_ec.iter_t\n",
    "lam_t = rd_ec.lam_t\n",
    "eps_t = rd_ec.eps_t[:, 0]\n",
    "sig_t = rd_ec.sig_t[:, 0, 0]\n",
    "eps_v_t = rd_ec.Eps_t.eps_v_a[:, 0, 0]\n",
    "eps_p_t = rd_ec.Eps_t.eps_p_a[:, 0, 0]\n",
    "omega_t = rd_ec.Eps_t.omega_a[:, 0, 0]\n",
    "z_t = rd_ec.Eps_t.z_a[:, 0, 0]\n",
    "sig_v_t = rd_ec.Sig_t.sig_v_a[:, 0, 0]\n",
    "sig_p_t = rd_ec.Sig_t.sig_p_a[:, 0, 0]\n",
    "Y_t = rd_ec.Sig_t.Y_a[:, 0, 0]\n",
    "Z_t = rd_ec.Sig_t.Z_a[:, 0, 0]"
   ]
  },
  {
   "cell_type": "code",
   "execution_count": null,
   "metadata": {},
   "outputs": [],
   "source": [
    "rd_ec.t_t.shape, t_t.shape, rd_ec.eps_t.shape, rd_ec.Sig_t.sig_p_a.shape, sig_p_t.shape"
   ]
  },
  {
   "cell_type": "code",
   "execution_count": null,
   "metadata": {},
   "outputs": [],
   "source": [
    "fig, ((ax_sig, ax_omega), (ax_lam, ax_z)) = plt.subplots(2, 2, figsize=(12, 8))\n",
    "fig.canvas.header_visible = False\n",
    "\n",
    "# Plot stress-strain and iterations-strain curves\n",
    "ax_iter = ax_sig.twinx()\n",
    "ax_eps = ax_omega.twinx()\n",
    "\n",
    "# ax_sig.plot(eps_t, sig_p_t, color='cadetblue', label=r'$\\varepsilon$')\n",
    "# ax_sig.plot(eps_t-eps_p_t, Sig_t[:,:,0], ls='dashed', color='cadetblue', label=r'$\\varepsilon-\\varepsilon^\\mathrm{ve}$')\n",
    "# ax_sig.set_ylabel(r'$\\sigma$', color='darkslategray')\n",
    "# ax_sig.set_xlabel(r'$\\varepsilon$')\n",
    "# ax_sig.legend()\n",
    "\n",
    "ax_sig.plot(t_t, sig_p_t, color='cadetblue', label=r'$\\varepsilon$')\n",
    "ax_iter.plot(t_t, eps_t, color='cadetblue', ls='dashed', label=r'$\\varepsilon$')\n",
    "ax_sig.set_ylabel(r'$\\sigma$', color='darkslategray')\n",
    "ax_sig.set_xlabel(r'$\\varepsilon$')\n",
    "ax_sig.legend()\n",
    "\n",
    "# ax_iter.plot(eps_t, iter_t, ls='dashed', color='gray', lw=0.5)\n",
    "# ax_iter.set_ylabel(r'$k$', color='gray')\n",
    "\n",
    "ax_omega.plot(t_t, omega_t, label='Damage', color='brown')\n",
    "ax_eps.plot(t_t, eps_t, label=r'$\\varepsilon$', color='cadetblue', lw=1)\n",
    "ax_eps.plot(t_t, eps_p_t, label=r'$\\varepsilon_\\mathrm{vp}$', color='cadetblue', ls='dashed', lw=1)\n",
    "ax_eps.legend()\n",
    "ax_omega.set_xlabel(r'$t$')\n",
    "ax_omega.set_ylabel(r'$\\omega$', color='brown')\n",
    "ax_eps.set_ylabel(r'$\\varepsilon$', color='cadetblue')\n",
    "\n",
    "# Second row: Lagrange multiplier and plastic strain plots\n",
    "ax_lam_eps_t = ax_lam.twinx()\n",
    "ax_lam.plot(t_t, lam_t[:, 0, :], 'o-', label=r'$\\lambda$', color='purple')\n",
    "ax_lam.set_xlabel(r'$t$')\n",
    "ax_lam.set_ylabel(r'$\\lambda$', color='purple')\n",
    "ax_lam_eps_t.plot(t_t, eps_t, label=r'$\\varepsilon$', color='green', ls='dashed')\n",
    "ax_lam_eps_t.set_ylabel(r'$\\varepsilon$', color='green')\n",
    "\n",
    "ax_z_eps_p = ax_z.twinx()\n",
    "ax_z.plot(t_t, Z_t, label=r'$z$', color='orange')\n",
    "ax_z.set_xlabel(r'$t$')\n",
    "ax_z.set_ylabel(r'$Z$', color='orange')\n",
    "ax_z_eps_p.plot(t_t, eps_t, label=r'$\\varepsilon$', color='blue')\n",
    "ax_z_eps_p.plot(t_t, eps_v_t, label=r'$\\varepsilon_\\mathrm{ve}$', color='blue', ls='dotted')\n",
    "ax_z_eps_p.plot(t_t, eps_v_t + eps_p_t, label=r'$\\varepsilon_\\mathrm{ve} + \\varepsilon_\\mathrm{vp}$', color='blue', ls='dashed')\n",
    "ax_z_eps_p.set_ylabel(r'$\\varepsilon_\\mathrm{p}$', color='blue')\n",
    "ax_z_eps_p.legend()\n",
    "\n",
    "plt.tight_layout()\n",
    "plt.show()"
   ]
  },
  {
   "cell_type": "markdown",
   "metadata": {},
   "source": []
  }
 ],
 "metadata": {
  "kernelspec": {
   "display_name": "bmcs_env2",
   "language": "python",
   "name": "python3"
  },
  "language_info": {
   "codemirror_mode": {
    "name": "ipython",
    "version": 3
   },
   "file_extension": ".py",
   "mimetype": "text/x-python",
   "name": "python",
   "nbconvert_exporter": "python",
   "pygments_lexer": "ipython3"
  }
 },
 "nbformat": 4,
 "nbformat_minor": 2
}
