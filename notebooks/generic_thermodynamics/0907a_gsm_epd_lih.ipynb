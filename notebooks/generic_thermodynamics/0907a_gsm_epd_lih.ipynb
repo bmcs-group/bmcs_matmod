{
 "cells": [
  {
   "cell_type": "markdown",
   "metadata": {},
   "source": [
    "# GSM-EPD-LIH"
   ]
  },
  {
   "cell_type": "code",
   "execution_count": null,
   "metadata": {},
   "outputs": [],
   "source": [
    "%matplotlib widget\n",
    "import matplotlib.pylab as plt\n",
    "import sympy as sp\n",
    "import numpy as np\n",
    "from IPython.display import display, Math, Markdown\n",
    "from bmcs_matmod.api import GSM1D_EPD\n",
    "gsm = GSM1D_EPD()\n",
    "display(Markdown(gsm.latex_potentials()))"
   ]
  },
  {
   "cell_type": "markdown",
   "metadata": {},
   "source": [
    "## Monotonic strain-driven loading"
   ]
  },
  {
   "cell_type": "code",
   "execution_count": null,
   "metadata": {},
   "outputs": [],
   "source": [
    "mparams = dict(E = 20, K = 100, S = 30, c = 1, r = 1, eps_0 = 0, f_c = 15, eta_vp=40)\n",
    "n_t = 1510\n",
    "#n_t = 11\n",
    "n_I = 1\n",
    "eps_max = 1.3\n",
    "final_time = 3\n",
    "t_t = np.linspace(0, final_time, n_t)\n",
    "eps_n_t = np.linspace(0, eps_max, n_t)\n",
    "response = gsm.get_response(eps_n_t, t_t, **mparams)\n",
    "t_t_ec, eps_ta_ec, sig_ta_ec, Eps_t_ec, Sig_t_ec, iter_t_ec, lam_t_ec, (d_t_t_ec, d_eps_ta_ec) = response\n",
    "eps_t_ec = eps_ta_ec[:, 0]\n",
    "sig_t_ec = sig_ta_ec[:, 0, 0]\n",
    "# use the stress history to reproduce the response using stress control\n",
    "response = gsm.get_G_response(sig_t_ec, t_t, **mparams)\n",
    "t_t_sc, eps_ta_sc, sig_ta_sc, Eps_t_sc, Sig_t_sc, iter_t_sc, lam_t_sc, (d_t_t_sc, d_eps_ta_sc) = response\n",
    "iter_t = iter_t_sc[:, 0]\n",
    "eps_t_sc = eps_ta_sc[:, 0, 0]\n",
    "sig_t_sc = sig_ta_sc[:, 0]\n",
    "eps_t_ec.shape, sig_t_ec.shape, eps_t_sc.shape, sig_t_sc.shape"
   ]
  },
  {
   "cell_type": "code",
   "execution_count": null,
   "metadata": {},
   "outputs": [],
   "source": [
    "eps_p_t_ec, omega_t_ec, z_t = Eps_t_ec[:, 0, :].T\n",
    "sig_p_t_ec, Y_t_ec, Z_t_ec = Sig_t_ec[:, 0, :].T\n",
    "eps_p_t_sc, omega_t_sc, z_t_sc = Eps_t_sc[:, 0, :].T\n",
    "sig_p_t_sc, Y_t_sc, Z_t_sc = Sig_t_sc[:, 0, :].T"
   ]
  },
  {
   "cell_type": "code",
   "execution_count": null,
   "metadata": {},
   "outputs": [],
   "source": [
    "fig, (ax_sig, ax_eps) = plt.subplots(1, 2, figsize=(12, 4))\n",
    "\n",
    "ax_sig.plot(eps_t_ec, sig_t_ec, color='cadetblue', label=r'$\\varepsilon$')\n",
    "ax_sig.plot(eps_t_ec-eps_p_t_ec, sig_t_ec, ls='dashed', color='cadetblue', label=r'$\\varepsilon-\\varepsilon^\\mathrm{ve}$')\n",
    "\n",
    "ax_sig.plot(eps_t_sc, sig_t_sc, color='red', label=r'$\\varepsilon$')\n",
    "ax_sig.plot(eps_t_sc-eps_p_t_sc, sig_t_sc, ls='dashed', color='red', label=r'$\\varepsilon-\\varepsilon^\\mathrm{ve}$')\n",
    "\n",
    "ax_sig.set_ylabel(r'$\\sigma$', color='darkslategray')\n",
    "ax_sig.set_xlabel(r'$\\varepsilon$')\n",
    "ax_sig.legend()\n",
    "\n",
    "ax_eps.plot(t_t_ec, eps_t_ec, label=r'$\\varepsilon$', color='cadetblue', lw=1)\n",
    "ax_eps.plot(t_t_ec, eps_p_t_ec, label=r'$\\varepsilon_\\mathrm{vp}$', color='cadetblue', ls='dashed', lw=1)\n",
    "\n",
    "ax_eps.plot(t_t_sc, eps_t_sc, label=r'$\\varepsilon$', color='red', lw=1)\n",
    "ax_eps.plot(t_t_sc, eps_p_t_sc, label=r'$\\varepsilon_\\mathrm{vp}$', color='red', ls='dashed', lw=1)\n",
    "ax_eps.legend()\n",
    "ax_eps.set_ylabel(r'$\\varepsilon$', color='cadetblue')\n",
    "\n",
    "plt.tight_layout()\n",
    "plt.show()"
   ]
  },
  {
   "cell_type": "markdown",
   "metadata": {},
   "source": [
    "## Cyclic stress-driven loading"
   ]
  },
  {
   "cell_type": "code",
   "execution_count": null,
   "metadata": {},
   "outputs": [],
   "source": [
    "t_, sig_max_, t_1_, t_2_, t_3_ = sp.symbols('t sig_max t_1 t_2 t_3', real=True, positive=True)\n",
    "eps_t_ = sp.Piecewise(\n",
    "    (sig_max_ / t_1_ * t_, t_ < t_1_),\n",
    "    (sig_max_, t_ < t_2_),\n",
    "    (sig_max_ - sig_max_/(t_3_-t_2_)*(t_ - t_2_), t_ < t_3_),\n",
    "    (0, True)\n",
    ")\n",
    "get_eps_t = sp.lambdify((t_, sig_max_, t_1_, t_2_, t_3_), eps_t_, 'numpy')\n",
    "sig_max_val = np.max(sig_t_ec)\n",
    "n_t_cyclic = 4 * n_t\n",
    "final_time_cyclic = 4 * final_time \n",
    "t_t = np.linspace(0, final_time_cyclic, n_t_cyclic)\n",
    "sig_n_t = get_eps_t(t_t, sig_max_val, 0.25*final_time_cyclic, 0.5*final_time_cyclic, 0.75*final_time_cyclic)\n",
    "\n",
    "# Extend the loading history with 10 alternating sections\n",
    "for i in range(1, 2):\n",
    "    t_t = np.hstack((t_t, t_t[-1] + t_t[1:]))\n",
    "    sig_n_t = np.hstack([sig_n_t, (-1)**i * sig_n_t[1:]])\n",
    "\n",
    "for i in range(1, 2):\n",
    "    t_t = np.hstack((t_t, t_t[-1] + t_t[1:]))\n",
    "    sig_n_t = np.hstack([sig_n_t, sig_n_t[1:]])\n",
    "\n",
    "fig, ax = plt.subplots(1, 1)\n",
    "ax.plot(t_t, sig_n_t)"
   ]
  },
  {
   "cell_type": "code",
   "execution_count": null,
   "metadata": {},
   "outputs": [],
   "source": [
    "response = gsm.get_G_response(sig_n_t, t_t, **mparams)\n",
    "t_t, eps_ta, sig_ta, Eps_t, Sig_t, iter_t, lam_t, (d_t_t, d_eps_ta) = response\n",
    "iter_t = iter_t[:, 0]\n",
    "eps_t_sc_cyclic = eps_ta[:, 0, 0]\n",
    "sig_t_sc_cyclic = sig_ta[:, 0]\n",
    "eps_p_t_sc_cyclic, omega_t_sc_cyclic, z_t_sc_cyclic = Eps_t[:, 0, :].T\n",
    "sig_p_t_sc_cyclic, Y_t_sc_cyclic, Z_t_sc_cyclic = Sig_t[:, 0, :].T\n",
    "eps_t_sc_cyclic.shape, sig_t_sc_cyclic.shape"
   ]
  },
  {
   "cell_type": "code",
   "execution_count": null,
   "metadata": {},
   "outputs": [],
   "source": [
    "fig, ((ax_sig, ax_eps), (ax_lam, ax_z)) = plt.subplots(2, 2, figsize=(12, 8))\n",
    "\n",
    "# First row: Stress-strain and damage plots\n",
    "ax_iter = ax_sig.twinx()\n",
    "ax_omega = ax_eps.twinx()\n",
    "ax_sig_t = ax_lam.twinx()\n",
    "\n",
    "# fig, (ax_sig, ax_eps) = plt.subplots(1, 2, figsize=(12, 4))\n",
    "\n",
    "# Plot stress-strain and iterations-strain curves\n",
    "# ax_iter = ax_sig.twinx()\n",
    "\n",
    "ax_sig.plot(eps_t_sc_cyclic, sig_t_sc_cyclic, color='cadetblue', label=r'$\\varepsilon$')\n",
    "# ax_sig.plot(eps_t_sc_cyclic-eps_p_t_sc_cyclic, sig_t_sc_cyclic, ls='dashed', color='cadetblue', label=r'$\\varepsilon-\\varepsilon^\\mathrm{ve}$')\n",
    "ax_sig.set_ylabel(r'$\\sigma$', color='darkslategray')\n",
    "ax_sig.set_xlabel(r'$\\varepsilon$')\n",
    "\n",
    "ax_sig.plot(eps_t_sc, sig_t_sc, color='orange', label=r'$\\varepsilon$')\n",
    "# ax_sig.plot(eps_t_sc-eps_p_t_sc, sig_t_sc, ls='dashed', color='orange', label=r'$\\varepsilon-\\varepsilon^\\mathrm{ve}$')\n",
    "ax_sig.legend()\n",
    "\n",
    "ax_iter.plot(eps_t_sc_cyclic, iter_t, ls='dashed', color='gray', lw=0.5)\n",
    "ax_iter.set_ylabel(r'$k$', color='gray')\n",
    "\n",
    "ax_eps.plot(t_t, eps_t_sc_cyclic, label=r'$\\varepsilon$', color='cadetblue', lw=1)\n",
    "ax_eps.plot(t_t, eps_p_t_sc_cyclic, label=r'$\\varepsilon_\\mathrm{vp}$', color='cadetblue', ls='dashed', lw=1)\n",
    "ax_eps.plot(t_t_sc, eps_t_sc, label=r'$\\varepsilon$', color='orange', lw=1)\n",
    "ax_eps.plot(t_t_sc, eps_p_t_sc, label=r'$\\varepsilon_\\mathrm{vp}$', color='orange', ls='dashed', lw=1)\n",
    "ax_omega.plot(t_t, omega_t_sc_cyclic, label=r'$\\omega$', color='red')\n",
    "ax_omega.set_ylabel(r'$\\omega$', color='red')\n",
    "ax_omega.set_xlabel(r'$t$')\n",
    "ax_omega.legend()\n",
    "\n",
    "ax_eps.plot(t_t, eps_t_sc_cyclic-eps_p_t_sc_cyclic, label=r'$\\varepsilon-\\varepsilon_\\mathrm{vp}$', color='magenta', ls='dashed', lw=1)\n",
    "\n",
    "ax_lam.plot(t_t, lam_t[:, 0, 0], label=r'$\\lambda$', color='green')\n",
    "ax_sig_t.plot(t_t, sig_n_t, label=r'$\\sigma$', color='orange', ls='dashed', lw=1)\n",
    "\n",
    "ax_eps.legend()\n",
    "ax_eps.set_ylabel(r'$\\varepsilon$', color='cadetblue')\n",
    "\n",
    "plt.tight_layout()\n",
    "plt.show()"
   ]
  },
  {
   "cell_type": "markdown",
   "metadata": {},
   "source": [
    "## Cyclic strain-driven loading"
   ]
  },
  {
   "cell_type": "code",
   "execution_count": null,
   "metadata": {},
   "outputs": [],
   "source": [
    "t_, sig_max_, t_1_, t_2_, t_3_ = sp.symbols('t sig_max t_1 t_2 t_3', real=True, positive=True)\n",
    "eps_t_ = sp.Piecewise(\n",
    "    (sig_max_ / t_1_ * t_, t_ < t_1_),\n",
    "    (sig_max_, t_ < t_2_),\n",
    "    (sig_max_ - sig_max_/(t_3_-t_2_)*(t_ - t_2_), t_ < t_3_),\n",
    "    (0, True)\n",
    ")\n",
    "get_eps_t = sp.lambdify((t_, sig_max_, t_1_, t_2_, t_3_), eps_t_, 'numpy')\n",
    "eps_max = 2\n",
    "n_t_ec_cyclic = 4 * n_t\n",
    "f_time = 4 * final_time\n",
    "t_t = np.linspace(0, f_time, n_t_ec_cyclic)\n",
    "eps_n_t = get_eps_t(t_t, eps_max, 0.25*f_time, 0.5*f_time, 0.75*f_time)\n",
    "fig, ax = plt.subplots(1,1)\n",
    "ax.plot(t_t, eps_n_t)"
   ]
  },
  {
   "cell_type": "code",
   "execution_count": null,
   "metadata": {},
   "outputs": [],
   "source": [
    "mparams = dict(E = 20, K = 5, S = 10, c = 1, r = 1, eps_0 = 0, f_c = 15, eta_vp=1)\n",
    "response = gsm.get_response(eps_n_t, t_t, **mparams)\n",
    "t_t, eps_ta, sig_ta, Eps_t, Sig_t, iter_t, lam_t, (d_t_t, d_eps_ta) = response\n",
    "# Plot viscoplastic strain and damage along time\n",
    "eps_t = eps_ta[:, 0]\n",
    "sig_t = sig_ta[:, 0]\n",
    "eps_p_t, omega_t, z_t = Eps_t[:, 0, :].T\n",
    "sig_p_t, Y_t, Z_t = Sig_t[:, 0, :].T"
   ]
  },
  {
   "cell_type": "code",
   "execution_count": null,
   "metadata": {},
   "outputs": [],
   "source": [
    "fig, ((ax_sig, ax_eps), (ax_lam, ax_z)) = plt.subplots(2, 2, figsize=(12, 8))\n",
    "\n",
    "# First row: Stress-strain and damage plots\n",
    "ax_iter = ax_sig.twinx()\n",
    "ax_omega = ax_eps.twinx()\n",
    "\n",
    "ax_sig.plot(eps_t, sig_t, color='cadetblue', label=r'$\\varepsilon$')\n",
    "# ax_sig.plot(eps_t-eps_p_t, Sig_t[:,:,0], ls='dashed', color='cadetblue', label=r'$\\varepsilon-\\varepsilon^\\mathrm{ve}$')\n",
    "ax_sig.set_ylabel(r'$\\sigma$', color='darkslategray')\n",
    "ax_sig.set_xlabel(r'$\\varepsilon$')\n",
    "ax_sig.legend()\n",
    "\n",
    "ax_iter.plot(t_t, iter_t, ls='dashed', color='gray', lw=0.5)\n",
    "ax_iter.set_ylabel(r'$k$', color='gray')\n",
    "\n",
    "ax_eps.plot(t_t, eps_t, label=r'$\\varepsilon$', color='cadetblue', lw=1)\n",
    "ax_eps.plot(t_t, eps_p_t, label=r'$\\varepsilon_\\mathrm{vp}$', color='cadetblue', ls='dashed', lw=1)\n",
    "ax_eps.legend()\n",
    "ax_eps.set_ylabel(r'$\\varepsilon$', color='cadetblue')\n",
    "ax_omega.plot(t_t, omega_t, label=r'$\\omega$', color='red')\n",
    "ax_omega.set_ylabel(r'$\\omega$', color='red')\n",
    "ax_omega.set_xlabel(r'$t$')\n",
    "ax_omega.legend()\n",
    "\n",
    "# Second row: Lagrange multiplier and plastic strain plots\n",
    "ax_lam_eps_t = ax_lam.twinx()\n",
    "ax_lam.plot(t_t, lam_t[:, 0, 0], label=r'$\\lambda$', color='purple')\n",
    "ax_lam.set_xlabel(r'$t$')\n",
    "ax_lam.set_ylabel(r'$\\lambda$', color='purple')\n",
    "ax_lam_eps_t.plot(t_t, eps_t, label=r'$\\varepsilon$', color='green', ls='dashed')\n",
    "ax_lam_eps_t.set_ylabel(r'$\\varepsilon$', color='green')\n",
    "\n",
    "ax_z_eps_p = ax_z.twinx()\n",
    "ax_z.plot(t_t, Z_t, label=r'$z$', color='orange')\n",
    "ax_z.set_xlabel(r'$t$')\n",
    "ax_z.set_ylabel(r'$Z$', color='orange')\n",
    "ax_z_eps_p.plot(t_t, eps_p_t, label=r'$\\varepsilon_\\mathrm{p}$', color='blue', ls='dashed')\n",
    "ax_z_eps_p.set_ylabel(r'$\\varepsilon_\\mathrm{p}$', color='blue')\n",
    "\n",
    "plt.tight_layout()\n",
    "plt.show()"
   ]
  },
  {
   "cell_type": "code",
   "execution_count": null,
   "metadata": {},
   "outputs": [],
   "source": []
  }
 ],
 "metadata": {
  "kernelspec": {
   "display_name": "bmcs_matmod",
   "language": "python",
   "name": "python3"
  },
  "language_info": {
   "codemirror_mode": {
    "name": "ipython",
    "version": 3
   },
   "file_extension": ".py",
   "mimetype": "text/x-python",
   "name": "python",
   "nbconvert_exporter": "python",
   "pygments_lexer": "ipython3"
  }
 },
 "nbformat": 4,
 "nbformat_minor": 2
}
