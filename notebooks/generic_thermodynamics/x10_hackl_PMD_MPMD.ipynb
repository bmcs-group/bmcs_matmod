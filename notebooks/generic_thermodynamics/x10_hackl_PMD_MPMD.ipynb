{
 "cells": [
  {
   "cell_type": "markdown",
   "metadata": {},
   "source": [
    "# Maximum dissipation and dissipation potential\n",
    "\n",
    "Rephrasing the derivations by Hackl and Fischer (2008) in Proc. R. Soc. A"
   ]
  },
  {
   "cell_type": "code",
   "execution_count": null,
   "metadata": {},
   "outputs": [],
   "source": [
    "import sympy as sp\n",
    "# Enable pretty printing\n",
    "sp.init_printing()\n",
    "n_v = 2\n",
    "# Define the symbols\n",
    "v = sp.MatrixSymbol('v', n_v, 1)  # v is a 3x1 vector\n",
    "q = sp.MatrixSymbol('q', n_v, 1)  # q is a 3x1 vector\n",
    "lam = sp.symbols('lambda')  # lam is a scalar\n",
    "Q = sp.Function('Q')(*v)\n",
    "L_v = Q + lam * (Q - (q.T * v)[0])\n",
    "# Gradient of L_v with respect to v\n",
    "grad_L_v = sp.Matrix([sp.diff(L_v, v[i, 0]) for i in range(n_v)])\n",
    "v_grad_L_v = sp.Matrix(v).dot( sp.Matrix(grad_L_v))\n",
    "lam_solved = sp.solve(v_grad_L_v, lam)[0]\n",
    "lam_solved_Q = lam_solved.subs(sp.Matrix(q.T).dot(sp.Matrix(v)), Q)\n",
    "grad_L_q = grad_L_v.subs(lam, lam_solved_Q)\n",
    "# Define the system of equations by setting each element of grad_L_q to zero\n",
    "q_eqs = [sp.Eq(grad_L_q[i], 0) for i in range(n_v)]\n",
    "q_list = [q[i] for i in range(n_v) ]\n",
    "q_solved = sp.solve(q_eqs, q_list)\n",
    "q_solved"
   ]
  },
  {
   "cell_type": "code",
   "execution_count": null,
   "metadata": {},
   "outputs": [],
   "source": [
    "import sympy as sp\n",
    "# Enable pretty printing\n",
    "sp.init_printing()\n",
    "# Define the symbols\n",
    "v = sp.Symbol('v')  # v is a 3x1 vector\n",
    "q = sp.Symbol('q')  # q is a 3x1 vector\n",
    "lam = sp.symbols('lambda')  # lam is a scalar\n",
    "Q = sp.Function('Q')(v)\n",
    "L_v = Q + lam * (Q - (q * v))\n",
    "grad_L_v = L_v.diff(v)\n",
    "v_grad_L_v = v * grad_L_v\n",
    "v_grad_L_v_Q = v_grad_L_v.expand().subs(q*v, Q)\n",
    "lam_solved = sp.solve(v_grad_L_v_Q, lam)[0]\n",
    "grad_L_q = grad_L_v.subs(lam, lam_solved)\n",
    "sp.simplify(grad_L_q)"
   ]
  },
  {
   "cell_type": "markdown",
   "metadata": {},
   "source": [
    "The formulation using scalar symbols cannot distinguish between scalar multiplication and dot product. Therefore, the rates of Q(v) in nominator and denominator cancel. The obtained result is therefore incomplete."
   ]
  },
  {
   "cell_type": "code",
   "execution_count": null,
   "metadata": {},
   "outputs": [],
   "source": [
    "q_solved = sp.solve(grad_L_q, q)[0]\n",
    "q_solved"
   ]
  }
 ],
 "metadata": {
  "kernelspec": {
   "display_name": "bmcs_env2",
   "language": "python",
   "name": "python3"
  },
  "language_info": {
   "codemirror_mode": {
    "name": "ipython",
    "version": 3
   },
   "file_extension": ".py",
   "mimetype": "text/x-python",
   "name": "python",
   "nbconvert_exporter": "python",
   "pygments_lexer": "ipython3"
  }
 },
 "nbformat": 4,
 "nbformat_minor": 2
}
