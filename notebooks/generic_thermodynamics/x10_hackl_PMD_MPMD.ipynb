{
 "cells": [
  {
   "cell_type": "markdown",
   "metadata": {},
   "source": [
    "# Maximum dissipation and dissipation potential\n",
    "\n",
    "Rephrasing the derivations by Hackl and Fischer (2008) in Proc. R. Soc. A"
   ]
  },
  {
   "cell_type": "markdown",
   "metadata": {},
   "source": [
    "# Variational approach to continuum thermodynamics"
   ]
  },
  {
   "cell_type": "markdown",
   "metadata": {},
   "source": [
    "Gradient-driven minimization of the total energy potential which includes Maxwell viscoelasticity\n",
    "\n",
    "Consider a Helmholtz free energy as $\\Psi(\\varepsilon, \\mathcal{E})$ with $\\varepsilon$ representing the external strain variable and $\\mathcal{E}$ a vector of internal variables.\n",
    "\n",
    "The rate of the Helmholtz potential is given as\n",
    "$$\n",
    "\\dot{\\Psi} = \\frac{\\partial \\Psi}{\\partial \\varepsilon} \\dot{\\varepsilon}\n",
    "           + \\frac{\\partial \\Psi}{\\partial \\mathcal{E}} \\dot{\\mathcal{E}}\n",
    "           = \\frac{\\partial \\Psi}{\\partial \\varepsilon} \\dot{\\varepsilon}\n",
    "           - \\mathcal{S} : \\dot{\\mathcal{E}}\n",
    "           = \\frac{\\partial \\Psi}{\\partial \\varepsilon} \\dot{\\varepsilon}\n",
    "           - \\mathcal{D}(\\mathcal{E}, \\dot{\\mathcal{E}}),\n",
    "$$\n",
    "with $\\mathcal{S}$ and $\\mathcal{D}$ representing the thermodynamic forces and the dissipation rate, respectively."
   ]
  },
  {
   "cell_type": "markdown",
   "metadata": {},
   "source": [
    "## Principle of maximum dissipation (PMD)"
   ]
  },
  {
   "cell_type": "markdown",
   "metadata": {},
   "source": [
    "In adherence to the second law, the principle of maximum dissipation (PMD) is stated as follows\n",
    "$$\n",
    "\\max\\{\n",
    "    \\mathcal{D}(\\mathcal{E}, \\dot{\\mathcal{E})} \\| \\dot{\\mathcal{E}}; \\mathcal{D} = \\mathcal{S} : \\dot{\\mathcal{E}}\n",
    "    \\},\n",
    "$$\n",
    "which corresponds to the Lagrangian\n",
    "$$\n",
    "\\mathcal{L}_{\\dot{\\mathcal{E}}} = \\mathcal{D} + \\lambda (\\mathcal{D} - \\mathcal{S} : \\dot{\\mathcal{E}}).\n",
    "$$\n",
    "The maximum dissipation will be obtained for the viscous strain rendering the zero gradient\n",
    "$$\n",
    "\\frac{\\mathcal{L}_{\\dot{\\mathcal{E}}}}{\\partial \\dot{\\mathcal{E}}} = \\frac{\\partial \\mathcal{D}}{\\partial \\dot{\\mathcal{E}}} + \\lambda \\left(\\frac{\\partial \\mathcal{D}}{\\partial \\dot{\\mathcal{E}}} + \\mathcal{S} \\right) = 0\n",
    "$$\n",
    "By multiplying this equation with $\\dot{\\mathcal{E}}$ and substituting the product $\\mathcal{S} : \\dot{\\mathcal{E}}$ with the dissipation term $\\mathcal{D}$, we obtain after rearrangements\n",
    "$$\n",
    "\\mathcal{S} = \\frac{\\mathcal{D}}{ \\frac{\\partial \\mathcal{D}}{\\partial \\dot{\\mathcal{E}}} : \\dot{\\mathcal{E}}} \\frac{\\partial \\mathcal{D}}{\\partial \\dot{\\mathcal{E}}}\n",
    "$$\n"
   ]
  },
  {
   "cell_type": "markdown",
   "metadata": {},
   "source": [
    "## Minimization principle for dissipation potential (MPDP)"
   ]
  },
  {
   "cell_type": "markdown",
   "metadata": {},
   "source": [
    "It can be shown that the maximization of dissipation is equivalent to the minimization of the free energy rate given as\n",
    "$$\n",
    "\\min\\{ \\dot{\\Psi} \\| \\dot{\\mathcal{E}}; \\mathcal{D} = \\mathcal{S}: \\dot{\\mathcal{E}}  \\}.\n",
    "$$"
   ]
  },
  {
   "cell_type": "markdown",
   "metadata": {},
   "source": [
    "This equivalence motivated the introduction of the dissipation potential $\\Phi(\\mathcal{E}, \\dot{\\mathcal{E}}$). This potential represents the capacity of the model to dissipate energy postulated by the dissipative hypothesis. In contrast, the dissipation $\\mathcal{D}$ is the quantified dissipation energy.   \n",
    "\n",
    "With the dissipation capacity expressed by the potential $\\Phi$ at hand, the minimum principle of dissipation potential (MPDP) is introduced as\n",
    "$$\n",
    "\\Pi(\\varepsilon, \\mathcal{E}, \\dot{\\mathcal{E}}) = \\dot{\\Psi}(\\varepsilon, \\dot{\\varepsilon}, \\mathcal{E}, \\dot{\\mathcal{E}}) + \\Phi(\\mathcal{E}, \\dot{\\mathcal{E}}).\n",
    "$$"
   ]
  },
  {
   "cell_type": "markdown",
   "metadata": {},
   "source": [
    "The minimization can then be defined in an unconstrained form directly as\n",
    "$$\n",
    "\\min \\{ \\Pi(\\varepsilon, \\dot{\\varepsilon}, \\mathcal{E}, \\dot{\\mathcal{E}}) \\|\n",
    "\\dot{\\mathcal{E}}.\n",
    "\\}\n",
    "$$\n",
    "With reference to the first equation specifying the rate of Helmholtz energy, the corresponding Lagrangian then reads\n",
    "$$\n",
    "\\mathcal{L}_{\\dot{\\mathcal{E}}} = \n",
    "\\frac{\\partial \\Psi}{\\partial \\varepsilon} : \\dot{\\varepsilon} + \n",
    "\\frac{\\partial \\Psi}{\\partial \\mathcal{E}} : \\dot{\\mathcal{E}}\n",
    " + \\Phi,\n",
    "$$\n",
    "with the zero gradient attained at the minimum\n",
    "$$\n",
    "\\frac{\\partial \\mathcal{L}_{\\dot{\\mathcal{E}}}}{\\partial \\dot{\\mathcal{E}}} = \\frac{\\partial \\Psi}{\\partial \\mathcal{E}}\n",
    " + \\frac{\\partial \\Phi}{\\partial \\dot{\\mathcal{E}}} = -\\mathcal{S} + \\frac{\\partial \\Phi}{\\partial \\dot{\\mathcal{E}}} = 0 \\implies \n",
    " \\mathcal{S} = \\frac{\\partial \\Phi}{\\partial \\dot{\\mathcal{E}}}.\n",
    "$$"
   ]
  },
  {
   "cell_type": "markdown",
   "metadata": {},
   "source": [
    "Apparently, an inverse evolution equation has been rendered directly from the dissipation potential. The desired inverse relation can only be obtained once the particular shape of the dissipation potential has been specified."
   ]
  },
  {
   "cell_type": "markdown",
   "metadata": {},
   "source": [
    "## Equivalence of PMD and MPDP "
   ]
  },
  {
   "cell_type": "markdown",
   "metadata": {},
   "source": [
    "The question on how to define the dissipation potential for particular types of dissipative mechanisms such that it adheres to the thermodynamic principles is an intricate one. Criteria for the specification of the dissipation potential can be formulated by realizing that MPDP should be consistent with PMD. For both principles, we have derived an inverse evolution equations defining the thermodynamic forces as a function of dissipation rate $\\mathcal{D}$ and of the dissipation  potential $\\Phi$. By setting them equal, we obtain the equivalence:\n",
    "$$\n",
    "\\mathcal{S} =  \\frac{\\mathcal{D}}{ \\frac{\\partial \\mathcal{D}}{\\partial \\dot{\\mathcal{E}}} : \\dot{\\mathcal{E}}} \\frac{\\partial \\mathcal{D}}{\\partial \\dot{\\mathcal{E}}}\n",
    "= \\frac{\\partial \\Phi}{\\partial \\dot{\\mathcal{E}}}.\n",
    "$$"
   ]
  },
  {
   "cell_type": "markdown",
   "metadata": {},
   "source": [
    "Depending on the algebraic form of both potentials, i.e. homogeneity and order, compatible forms of the dissipation function derived from the free energy and of the dissipation potential can be derived."
   ]
  },
  {
   "cell_type": "markdown",
   "metadata": {},
   "source": [
    "## Example - viscoelastic model"
   ]
  },
  {
   "cell_type": "markdown",
   "metadata": {},
   "source": [
    "Let us now consider a viscoelastic model of Maxwell type with the Helmholtz free energy defined as\n",
    "$$\n",
    "\\Psi = \\frac{1}{2} E (\\varepsilon - \\varepsilon_\\mathrm{v})^2,\n",
    "$$\n",
    "where $\\varepsilon_\\mathrm{v}$ represents the only internal variable $\\mathcal{E} = [\\varepsilon_\\mathrm{v}]$.\n",
    "The dissipaion rate $\\mathcal{D}$ is given as\n",
    "$$\n",
    "\\dot{\\mathcal{D}} = \n",
    "\\frac{\\partial \\Psi}{\\partial \\mathcal{E}} : \\dot{\\mathcal{E}}\n",
    "=\n",
    "\\frac{\\partial \\Psi}{\\partial \\varepsilon_\\mathrm{v}} : \\dot{\\varepsilon_\\mathrm{v}}\n",
    "=\n",
    "E (\\varepsilon - \\varepsilon_\\mathrm{v}) \\dot{\\varepsilon_\\mathrm{v}} = \\sigma \\dot{\\varepsilon_\\mathrm{v}}.\n",
    "$$"
   ]
  },
  {
   "cell_type": "markdown",
   "metadata": {},
   "source": [
    "In the considered case of Maxwell viscoelasticity, we know that the strain rate at the constant stress level is inversely proportianal to the viscosity parameter $\\eta$, i.e. \n",
    "$$\n",
    "\\dot{\\varepsilon}_\\mathrm{v} = \\frac{\\sigma}{\\eta} \\implies \\sigma = \\eta \\dot{\\varepsilon}_\\mathrm{v}.\n",
    "$$"
   ]
  },
  {
   "cell_type": "markdown",
   "metadata": {},
   "source": [
    "This means that\n",
    "$$\n",
    "\\mathcal{D} = \\eta \\dot{\\varepsilon}_\\mathrm{v}^2.\n",
    "$$  "
   ]
  },
  {
   "cell_type": "markdown",
   "metadata": {},
   "source": [
    "To construct the dissipation potential defining the evolution equations, let us recall that \n",
    "$$\n",
    "\\mathcal{S} = \\frac{\\partial \\Phi}{\\dot{\\mathcal{E}}}.\n",
    "$$\n",
    "Thus, to device the MPDM with a compatible dissipation potential we set \n",
    "$$\n",
    "\\Phi = \\frac{1}{2} \\eta \\dot{\\varepsilon_\\mathrm{v}}^2 \\implies \\sigma = \\eta \\dot{\\varepsilon_\\mathrm{v}}.\n",
    "$$"
   ]
  },
  {
   "cell_type": "markdown",
   "metadata": {},
   "source": [
    "To verify the equivalence with PMD, let us now verify the evolution equation obtained from the maximization of the dissipation. The derivative of the dissipation w.r.t. the rate of viscous strain is\n",
    "$$\n",
    "\\frac{\\partial \\mathcal{D}}{\\partial \\dot{\\varepsilon_\\mathrm{v}}} = 2 \\eta \\dot{\\varepsilon_\\mathrm{v}}.\n",
    "$$"
   ]
  },
  {
   "cell_type": "markdown",
   "metadata": {},
   "source": [
    "Substituting into the general expression specified above, we get"
   ]
  },
  {
   "cell_type": "markdown",
   "metadata": {},
   "source": [
    "$$\n",
    "\\mathcal{S} =  \\frac{\\mathcal{D}}{ \\frac{\\partial \\mathcal{D}}{\\partial \\dot{\\mathcal{E}}} : \\dot{\\mathcal{E}}} \\frac{\\partial \\mathcal{D}}{\\partial \\dot{\\mathcal{E}}}\n",
    "= \n",
    "\\frac{\n",
    "\\eta \\dot{\\varepsilon}_\\mathrm{v}^2\n",
    "}{\n",
    "2 \\eta \\dot{\\varepsilon_\\mathrm{v}} \\dot{\\varepsilon_\\mathrm{v}}    \n",
    "}\n",
    "2 \\eta \\dot{\\varepsilon_\\mathrm{v}}\n",
    "=\n",
    "\\eta \\dot{\\varepsilon_\\mathrm{v}}\n",
    "$$"
   ]
  },
  {
   "cell_type": "code",
   "execution_count": null,
   "metadata": {},
   "outputs": [],
   "source": [
    "import sympy as sp\n",
    "# Enable pretty printing\n",
    "sp.init_printing()\n",
    "n_v = 2\n",
    "# Define the symbols\n",
    "v = sp.MatrixSymbol('v', n_v, 1)  # v is a 3x1 vector\n",
    "q = sp.MatrixSymbol('q', n_v, 1)  # q is a 3x1 vector\n",
    "lam = sp.symbols('lambda')  # lam is a scalar\n",
    "Q = sp.Function('Q')(*v)\n",
    "L_v = Q + lam * (Q - (q.T * v)[0])\n",
    "# Gradient of L_v with respect to v\n",
    "grad_L_v = sp.Matrix([sp.diff(L_v, v[i, 0]) for i in range(n_v)])\n",
    "v_grad_L_v = sp.Matrix(v).dot( sp.Matrix(grad_L_v))\n",
    "lam_solved = sp.solve(v_grad_L_v, lam)[0]\n",
    "lam_solved_Q = lam_solved.subs(sp.Matrix(q.T).dot(sp.Matrix(v)), Q)\n",
    "grad_L_q = grad_L_v.subs(lam, lam_solved_Q)\n",
    "# Define the system of equations by setting each element of grad_L_q to zero\n",
    "q_eqs = [sp.Eq(grad_L_q[i], 0) for i in range(n_v)]\n",
    "q_list = [q[i] for i in range(n_v) ]\n",
    "q_solved = sp.solve(q_eqs, q_list)\n",
    "q_solved"
   ]
  },
  {
   "cell_type": "code",
   "execution_count": null,
   "metadata": {},
   "outputs": [],
   "source": [
    "import sympy as sp\n",
    "# Enable pretty printing\n",
    "sp.init_printing()\n",
    "# Define the symbols\n",
    "v = sp.Symbol('v')  # v is a 3x1 vector\n",
    "q = sp.Symbol('q')  # q is a 3x1 vector\n",
    "lam = sp.symbols('lambda')  # lam is a scalar\n",
    "Q = sp.Function('Q')(v)\n",
    "L_v = Q + lam * (Q - (q * v))\n",
    "grad_L_v = L_v.diff(v)\n",
    "v_grad_L_v = v * grad_L_v\n",
    "v_grad_L_v_Q = v_grad_L_v.expand().subs(q*v, Q)\n",
    "lam_solved = sp.solve(v_grad_L_v_Q, lam)[0]\n",
    "grad_L_q = grad_L_v.subs(lam, lam_solved)\n",
    "sp.simplify(grad_L_q)"
   ]
  },
  {
   "cell_type": "markdown",
   "metadata": {},
   "source": [
    "The formulation using scalar symbols cannot distinguish between scalar multiplication and dot product. Therefore, the rates of Q(v) in nominator and denominator cancel. The obtained result is therefore incomplete."
   ]
  },
  {
   "cell_type": "code",
   "execution_count": null,
   "metadata": {},
   "outputs": [],
   "source": [
    "q_solved = sp.solve(grad_L_q, q)[0]\n",
    "q_solved"
   ]
  },
  {
   "cell_type": "code",
   "execution_count": null,
   "metadata": {},
   "outputs": [],
   "source": []
  },
  {
   "cell_type": "code",
   "execution_count": null,
   "metadata": {},
   "outputs": [],
   "source": []
  }
 ],
 "metadata": {
  "kernelspec": {
   "display_name": "bmcs_env2",
   "language": "python",
   "name": "python3"
  },
  "language_info": {
   "codemirror_mode": {
    "name": "ipython",
    "version": 3
   },
   "file_extension": ".py",
   "mimetype": "text/x-python",
   "name": "python",
   "nbconvert_exporter": "python",
   "pygments_lexer": "ipython3"
  }
 },
 "nbformat": 4,
 "nbformat_minor": 2
}
