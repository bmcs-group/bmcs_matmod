{
 "cells": [
  {
   "cell_type": "markdown",
   "metadata": {},
   "source": [
    "# GSM interface model with the double cap threshold"
   ]
  },
  {
   "cell_type": "markdown",
   "metadata": {},
   "source": [
    "Based on the notebook 01 here we are separating the general part of the\n",
    "derivation valid for any kind of generalized standard model and the particular\n",
    "formulation of the external and internal state representation and the free energy and dissipation potentials"
   ]
  },
  {
   "cell_type": "code",
   "execution_count": null,
   "metadata": {},
   "outputs": [],
   "source": [
    "%matplotlib widget\n",
    "from bmcs_matmod import GSM\n",
    "import matplotlib.pylab as plt \n",
    "import sympy as sp\n",
    "from bmcs_utils.api import Cymbol\n",
    "import numpy as np\n",
    "import copy\n",
    "sp.init_printing()"
   ]
  },
  {
   "cell_type": "code",
   "execution_count": null,
   "metadata": {},
   "outputs": [],
   "source": [
    "from matplotlib import rc\n",
    "# rc('font',**{'family':'serif','serif':['Palatino']})\n",
    "# rc('text', usetex=True)"
   ]
  },
  {
   "cell_type": "code",
   "execution_count": null,
   "metadata": {},
   "outputs": [],
   "source": [
    "H = sp.Heaviside"
   ]
  },
  {
   "cell_type": "markdown",
   "metadata": {},
   "source": [
    "## Material parameters"
   ]
  },
  {
   "cell_type": "code",
   "execution_count": null,
   "metadata": {},
   "outputs": [],
   "source": [
    "E_T = Cymbol(r'E_{\\mathrm{T}}', codename='E_T_', real=True, nonnegative=True)\n",
    "gamma_T = Cymbol(r'\\gamma_{\\mathrm{T}}', codename='gamma_T_', real=True)\n",
    "K_T = Cymbol(r'K_{\\mathrm{T}}', codename='K_T_', real=True)\n",
    "S_T = Cymbol(r'S_{\\mathrm{T}}', codename='S_T_', real=True, nonnegative=True)\n",
    "r_T = Cymbol(r'r_{\\mathrm{T}}', codename='r_T_', real=True, nonnegative=True)\n",
    "c_T = Cymbol(r'c_{\\mathrm{T}}', codename='c_T_', real=True, nonnegative=True)\n",
    "eta_T = Cymbol(r'\\eta_{\\mathrm{T}}', codename='eta_T_', real=True, nonnegative=True)\n",
    "\n",
    "E_N = Cymbol(r'E_{\\mathrm{N}}', codename='E_N_', real=True, nonnegative=True)\n",
    "gamma_N = Cymbol(r'\\gamma_{\\mathrm{N}}', codename='gamma_N_', real=True)\n",
    "K_N = Cymbol(r'K_{\\mathrm{N}}', codename='K_N_', real=True)\n",
    "S_N = Cymbol(r'S_{\\mathrm{N}}', codename='S_N_', real=True, nonnegative=True)\n",
    "r_N = Cymbol(r'r_{\\mathrm{N}}', codename='r_N_', real=True, nonnegative=True)\n",
    "c_N = Cymbol(r'c_{\\mathrm{N}}', codename='c_N_', real=True, nonnegative=True)\n",
    "\n",
    "eta_N = Cymbol(r'\\eta_{\\mathrm{N}}', codename='eta_N_', real=True, nonnegative=True)\n",
    "zeta = Cymbol('zeta', codename='zeta_', real=True, nonnegative=True)\n",
    "\n",
    "d_N = Cymbol(r'd_{\\mathrm{N}}', codename='d_N_', real=True, nonnegative=True)\n",
    "alpha_therm = Cymbol(r'\\alpha_{\\vartheta}', codename='alpha_therm_', real=True, nonnegative=True)\n",
    "# temperature \n",
    "C_v = Cymbol(r'C_{\\mathrm{v}}', codename='C_v_', real=True, nonnegative=True)\n",
    "T_0 = Cymbol(r'\\vartheta_0', codename='T_0_', real=True, nonnegative=True)\n",
    "beta = Cymbol(r'\\beta', codename='beta_', real=True, nonnegative=True)"
   ]
  },
  {
   "cell_type": "code",
   "execution_count": null,
   "metadata": {},
   "outputs": [],
   "source": [
    "f_t = Cymbol(r'f_\\mathrm{Nt}', codename='f_t_')\n",
    "f_c = Cymbol(r'f_\\mathrm{Nc}', codename='f_c_')\n",
    "f_c0 = Cymbol(r'f_\\mathrm{Nc0}', codename='f_c0_')\n",
    "f_s = Cymbol(r'f_\\mathrm{T}', codename='f_s_')\n",
    "m = Cymbol(r'm', codename='m_', real=True, nonnegative=True)"
   ]
  },
  {
   "cell_type": "code",
   "execution_count": null,
   "metadata": {},
   "outputs": [],
   "source": [
    "mparams = (E_T, gamma_T, K_T, S_T, c_T, f_s, E_N, S_N, c_N, m, f_t, f_c, f_c0, \n",
    "           eta_N, eta_T, zeta, C_v, T_0, d_N, alpha_therm, beta)\n",
    "m_param_subs = {r_N:1, r_T:1}\n",
    "mparams, m_param_subs"
   ]
  },
  {
   "cell_type": "markdown",
   "metadata": {},
   "source": [
    "## External state variables"
   ]
  },
  {
   "cell_type": "code",
   "execution_count": null,
   "metadata": {},
   "outputs": [],
   "source": [
    "u_N = Cymbol(r'u_\\mathrm{N}', codename='u_N_', real=True)\n",
    "u_Tx = Cymbol(r'u_\\mathrm{Tx}', codename='u_Tx_', real=True)\n",
    "u_Ty = Cymbol(r'u_\\mathrm{Ty}', codename='u_Ty_', real=True)\n",
    "u_Ta = sp.Matrix([u_Tx, u_Ty])\n",
    "u_a = sp.Matrix([u_N, u_Tx, u_Ty])\n",
    "sig_N = Cymbol(r'\\sigma_\\mathrm{N}', codename='sig_N_', real=True)\n",
    "sig_Tx = Cymbol(r'\\sigma_\\mathrm{Tx}', codename='sig_Tx_', real=True)\n",
    "sig_Ty = Cymbol(r'\\sigma_\\mathrm{Ty}', codename='sig_Ty_', real=True)\n",
    "sig_Ta = sp.Matrix([sig_Tx, sig_Ty])\n",
    "sig_a = sp.Matrix([sig_N, sig_Tx, sig_Ty])"
   ]
  },
  {
   "cell_type": "code",
   "execution_count": null,
   "metadata": {},
   "outputs": [],
   "source": [
    "T = Cymbol(r'\\vartheta', codename='T_', real=True)\n",
    "Gamma = sp.exp(-beta * (T - T_0))\n",
    "Gamma\n",
    "get_Gamma = sp.lambdify(((T,) + mparams + ('**kw',)), Gamma)\n"
   ]
  },
  {
   "cell_type": "markdown",
   "metadata": {},
   "source": [
    "## Internal state variables"
   ]
  },
  {
   "cell_type": "code",
   "execution_count": null,
   "metadata": {},
   "outputs": [],
   "source": [
    "u_p_N = Cymbol(r'u_\\mathrm{N}^\\mathrm{p}', codename='u_p_N_', real=True)\n",
    "u_p_Tx = Cymbol(r'u_\\mathrm{Tx}^\\mathrm{p}', codename='u_p_Tx_', real=True)\n",
    "u_p_Ty = Cymbol(r'u_\\mathrm{Ty}^\\mathrm{p}', codename='u_p_Ty_', real=True)\n",
    "u_p_Ta = sp.Matrix([u_p_Tx, u_p_Ty])\n",
    "u_p_a = sp.Matrix([u_p_N, u_p_Tx, u_p_Ty])\n",
    "sig_p_N = Cymbol(r'\\sigma^\\mathrm{p}_\\mathrm{N}', codename='sig_p_N_', real=True)\n",
    "sig_p_Tx = Cymbol(r'\\sigma^\\mathrm{p}_\\mathrm{Tx}', codename='sig_p_Tx_', real=True)\n",
    "sig_p_Ty = Cymbol(r'\\sigma^\\mathrm{p}_\\mathrm{Ty}', codename='sig_p_Ty_', real=True)\n",
    "sig_p_Ta = sp.Matrix([sig_p_Tx, sig_p_Ty])\n",
    "sig_p_a = sp.Matrix([sig_p_N, sig_p_Tx, sig_p_Ty])"
   ]
  },
  {
   "cell_type": "code",
   "execution_count": null,
   "metadata": {},
   "outputs": [],
   "source": [
    "omega_N = Cymbol(r'\\omega_\\mathrm{N}', codename='omega_N_', real=True)\n",
    "omega_T = Cymbol(r'\\omega_\\mathrm{T}', codename='omega_T_', real=True)\n",
    "u_e_N = u_N - u_p_N\n",
    "omega_ab = sp.Matrix([[H(u_e_N) * omega_N, 0, 0],\n",
    "                      [0, omega_T, 0],\n",
    "                      [0, 0, omega_T]])\n",
    "omega_a = sp.Matrix([omega_N, omega_T])\n",
    "Y_N = Cymbol(r'Y_\\mathrm{N}', codename='Y_N_', real=True)\n",
    "Y_T = Cymbol(r'Y_\\mathrm{T}', codename='Y_T_', real=True)\n",
    "Y_a = sp.Matrix([Y_N, Y_T])"
   ]
  },
  {
   "cell_type": "code",
   "execution_count": null,
   "metadata": {},
   "outputs": [],
   "source": [
    "z_N = Cymbol(r'z_\\mathrm{N}', codename='z_N_', real=True)\n",
    "z_T = Cymbol(r'z_\\mathrm{T}', codename='z_T_', real=True)\n",
    "K_ab = sp.Matrix([[K_T]])\n",
    "z_a = sp.Matrix([z_T])\n",
    "Z_N = Cymbol(r'Z_\\mathrm{N}', codename='Z_N_', real=True)\n",
    "Z_T = Cymbol(r'Z_\\mathrm{T}', codename='Z_T_', real=True)\n",
    "Z_a = sp.Matrix([Z_T])"
   ]
  },
  {
   "cell_type": "code",
   "execution_count": null,
   "metadata": {},
   "outputs": [],
   "source": [
    "alpha_N = Cymbol(r'\\alpha_\\mathrm{N}', codename='alpha_N_', real=True, nonnegative=True)\n",
    "alpha_Tx = Cymbol(r'\\alpha_\\mathrm{Tx}', codename='alpha_Tx_', real=True, nonnegative=True)\n",
    "alpha_Ty = Cymbol(r'\\alpha_\\mathrm{Ty}', codename='alpha_Ty_', real=True, nonnegative=True)\n",
    "gamma_ab = sp.Matrix([[0, 0, 0],\n",
    "                      [0, gamma_T, 0],\n",
    "                      [0, 0, gamma_T]])\n",
    "alpha_Ta = sp.Matrix([alpha_Tx, alpha_Ty])\n",
    "alpha_a = sp.Matrix([alpha_N, alpha_Tx, alpha_Ty])\n",
    "X_N = Cymbol(r'X_\\mathrm{N}', codename='X_N_', real=True, nonnegative=True)\n",
    "X_Tx = Cymbol(r'X_\\mathrm{Tx}', codename='X_Ty_', real=True, nonnegative=True)\n",
    "X_Ty = Cymbol(r'X_\\mathrm{Ty}', codename='X_Tx_', real=True, nonnegative=True)\n",
    "X_Ta = sp.Matrix([X_Tx, X_Ty])\n",
    "X_a = sp.Matrix([X_N, X_Tx, X_Ty])"
   ]
  },
  {
   "cell_type": "markdown",
   "metadata": {},
   "source": [
    "## Free energy potential"
   ]
  },
  {
   "cell_type": "code",
   "execution_count": null,
   "metadata": {},
   "outputs": [],
   "source": [
    "E_ab = sp.Matrix([[E_N, 0, 0],\n",
    "                  [0, E_T, 0],\n",
    "                  [0, 0, E_T]])\n",
    "u_el_a = u_a - u_p_a\n",
    "E_eff_ab = (sp.eye(3) - omega_ab) * E_ab\n",
    "E_eff_ab"
   ]
  },
  {
   "cell_type": "code",
   "execution_count": null,
   "metadata": {},
   "outputs": [],
   "source": [
    "U_T_ = ( (1 - omega_N) * E_N * alpha_therm * (T - T_0) * (u_N - u_p_N) * d_N )\n",
    "U_e_ = sp.Rational(1,2) * (u_el_a.T * E_eff_ab * u_el_a)[0]\n",
    "U_p_ = sp.Rational(1,2) * (z_a.T * K_ab * z_a + alpha_a.T * gamma_ab * alpha_a)[0]\n",
    "TS_ = C_v * (T - T_0) **2 / (2 * T_0)\n",
    "F_ = U_e_ + U_p_ + U_T_ - TS_\n",
    "F_"
   ]
  },
  {
   "cell_type": "code",
   "execution_count": null,
   "metadata": {},
   "outputs": [],
   "source": [
    "print(sp.latex(F_))"
   ]
  },
  {
   "cell_type": "markdown",
   "metadata": {},
   "source": [
    "## Dissipation potential"
   ]
  },
  {
   "cell_type": "code",
   "execution_count": null,
   "metadata": {},
   "outputs": [],
   "source": [
    "%%capture\n",
    "%run threshold_function_f_df.ipynb"
   ]
  },
  {
   "cell_type": "code",
   "execution_count": null,
   "metadata": {},
   "outputs": [],
   "source": [
    "sig_eff_Tx = sp.Function(r'\\sigma^{\\mathrm{eff}}_{\\mathrm{T}x}')(sig_p_Tx, omega_T)\n",
    "sig_eff_Ty = sp.Function(r'\\sigma^{\\mathrm{eff}}_{\\mathrm{T}y}')(sig_p_Ty, omega_T)\n",
    "sig_eff_N = sp.Function(r'\\sigma^{\\mathrm{eff}}_{\\mathrm{N}}')(sig_p_N, omega_N)\n",
    "q_Tx = sp.Function(r'q_Tx')(sig_eff_Tx,X_Tx)\n",
    "q_Ty = sp.Function(r'q_Ty')(sig_eff_Ty,X_Ty)\n",
    "q_N = sp.Function(r'q_N')(sig_eff_N)\n",
    "norm_q_T = sp.sqrt(q_Tx*q_Tx + q_Ty*q_Ty)\n",
    "subs_q_T = {q_Tx: (sig_eff_Tx - X_Tx), q_Ty: (sig_eff_Ty - X_Ty)}\n",
    "subs_q_N = {q_N: sig_eff_N}\n",
    "subs_sig_eff = {sig_eff_Tx: sig_p_Tx / (1-omega_T),\n",
    "                  sig_eff_Ty: sig_p_Ty / (1-omega_T),\n",
    "                  sig_eff_N: sig_p_N / (1-omega_N)\n",
    "                 }"
   ]
  },
  {
   "cell_type": "code",
   "execution_count": null,
   "metadata": {},
   "outputs": [],
   "source": [
    "f_ = (f_solved_\n",
    "      .subs({x: q_N, y: norm_q_T})\n",
    "      .subs(subs_q_T)\n",
    "      .subs(subs_q_N)\n",
    "      .subs(subs_sig_eff)\n",
    "      .subs(f_s, ((f_s+Z_T) * Gamma))\n",
    "     )\n",
    "f_"
   ]
  },
  {
   "cell_type": "code",
   "execution_count": null,
   "metadata": {},
   "outputs": [],
   "source": [
    "S_NT = sp.sqrt(S_N*S_T)\n",
    "c_NT = sp.sqrt(c_N*c_T)\n",
    "r_NT = sp.sqrt(r_N*r_T)\n",
    "omega_NT = 1 - sp.sqrt((1-omega_N)*(1-omega_T))\n",
    "phi_N = (1 - omega_N)**c_N * S_N / (r_N+1) * (Y_N / S_N)**(r_N+1) \n",
    "phi_T = (1 - omega_T)**c_T * S_T / (r_T+1) * (Y_T / S_T)**(r_T+1)\n",
    "phi_NT = (1 - omega_NT)**c_NT * S_NT / (r_NT+1) * ((Y_N + Y_T)/(S_NT))**(r_NT+1)\n",
    "phi_ext_ = ((1 - zeta)*(phi_N + phi_T) + zeta*phi_NT)\n",
    "phi_ext_"
   ]
  },
  {
   "cell_type": "markdown",
   "metadata": {},
   "source": [
    "$$\n",
    "\\tau = \\frac{\\eta}{E}\n",
    "$$"
   ]
  },
  {
   "cell_type": "markdown",
   "metadata": {},
   "source": [
    "$$\n",
    "\\lambda^{\\tau} = \\frac{\\frac{\\dot{t}}{t}}{ 1 + \\frac{\\dot{t}}{\\tau}}\n",
    "$$"
   ]
  },
  {
   "cell_type": "code",
   "execution_count": null,
   "metadata": {},
   "outputs": [],
   "source": [
    "time, tau = sp.symbols('t, tau')"
   ]
  },
  {
   "cell_type": "code",
   "execution_count": null,
   "metadata": {},
   "outputs": [],
   "source": [
    "sp.simplify((time/tau) / (1 + (time/tau)))"
   ]
  },
  {
   "cell_type": "code",
   "execution_count": null,
   "metadata": {},
   "outputs": [],
   "source": [
    "t_relax_N_ = eta_N / (E_N)\n",
    "t_relax_T_ = eta_T / (E_T + K_T + gamma_T)\n",
    "t_relax_ = sp.Matrix([\n",
    "                    t_relax_N_,\n",
    "                    t_relax_T_,\n",
    "                    t_relax_T_,\n",
    "                    t_relax_T_,\n",
    "                    t_relax_T_,\n",
    "                    t_relax_T_,\n",
    "                    ] \n",
    "               )"
   ]
  },
  {
   "cell_type": "code",
   "execution_count": null,
   "metadata": {},
   "outputs": [],
   "source": [
    "gsm = GSM(\n",
    "    u_vars = u_a,\n",
    "    T_var = T,\n",
    "    m_params = mparams,\n",
    "    m_param_subs = m_param_subs,\n",
    "    Eps_vars = (u_p_a, z_a, alpha_Ta, omega_a),\n",
    "    Sig_vars = (sig_p_a, Z_a, X_Ta, Y_a),\n",
    "    Sig_signs = (-1, 1, 1, -1),\n",
    "    F_expr = F_,\n",
    "    f_expr = f_,\n",
    "    phi_ext_expr = phi_ext_,\n",
    "    t_relax = t_relax_\n",
    ")"
   ]
  },
  {
   "cell_type": "markdown",
   "metadata": {},
   "source": [
    "## Derived gradients"
   ]
  },
  {
   "cell_type": "code",
   "execution_count": null,
   "metadata": {},
   "outputs": [],
   "source": [
    "print(sp.latex(gsm.Sig_))"
   ]
  },
  {
   "cell_type": "code",
   "execution_count": null,
   "metadata": {},
   "outputs": [],
   "source": [
    "gsm.Sig_.as_explicit()"
   ]
  },
  {
   "cell_type": "code",
   "execution_count": null,
   "metadata": {},
   "outputs": [],
   "source": [
    "gsm.Phi_[3]"
   ]
  },
  {
   "cell_type": "code",
   "execution_count": null,
   "metadata": {},
   "outputs": [],
   "source": [
    "_u_a = np.array([-20, 3, 0])\n",
    "_T = np.array([20])\n",
    "material_params = dict(\n",
    "    E_T_=1, gamma_T_=1, K_T_=1, S_T_=1000, c_T_=1, f_s_=1, \n",
    "    E_N_=1, S_N_=1000, c_N_=1, m_=0.1, f_t_=1, f_c_=20, f_c0_=10, \n",
    "    zeta_=0.0001, eta_N_=1, eta_T_=1, d_N_=0, alpha_therm_=1e-5, \n",
    "    T_0_=20, C_v_=1, beta_=1\n",
    ")\n",
    "_Eps_B00 = np.zeros((gsm.n_Eps_explicit,), np.float_ )\n",
    "_f = gsm.get_f(_u_a, 20, _Eps_B00, _Eps_B00, **material_params)\n",
    "_df_dlambda = gsm.get_df_dlambda(_u_a, 20, _Eps_B00, _Eps_B00, **material_params)\n",
    "_f2, _df_dlambda2, _Sig_B00 = gsm.get_f_df_Sig(_u_a, _T, _Eps_B00, _Eps_B00, **material_params)\n",
    "_Phi = gsm.get_Phi(_u_a, 20, _Eps_B00, _Sig_B00, **material_params)\n",
    "{'f': _f2, 'df_dlambda':_df_dlambda2, 'Sig:': _Sig_B00, 'Phi': _Phi}"
   ]
  },
  {
   "cell_type": "markdown",
   "metadata": {},
   "source": [
    "## Quantitative verification for a single time step, single point"
   ]
  },
  {
   "cell_type": "code",
   "execution_count": null,
   "metadata": {},
   "outputs": [],
   "source": [
    "material_params = dict(\n",
    "    E_T_=1, gamma_T_=0, K_T_=1, S_T_=1, c_T_=1, f_s_=1, \n",
    "    E_N_=1, gamma_N_=0, S_N_=1, c_N_=1, m_=0.0000005, f_t_=1, f_c_=20, f_c0_=10, \n",
    "    zeta_=0, eta_N_=1, eta_T_=1, d_N_=0, alpha_therm_=1e-5, \n",
    "    T_0_=20, C_v_=0.001, beta_=0.01\n",
    ")\n",
    "n_t = 51\n",
    "n_I = 1\n",
    "u_T_max = 3.3\n",
    "u_N_max = 1e-5\n",
    "t_t = np.linspace(0, 1, n_t)\n",
    "u_ta = np.zeros((n_t, 3), np.float_)\n",
    "u_ta[:, 1] = np.linspace(0, u_T_max, n_t)\n",
    "u_ta[:, 0] = np.linspace(0, u_N_max, n_t)\n",
    "T_t = 20 + t_t * 10"
   ]
  },
  {
   "cell_type": "code",
   "execution_count": null,
   "metadata": {},
   "outputs": [],
   "source": [
    "response = gsm.get_response(u_ta, T_t, t_t, **material_params)"
   ]
  },
  {
   "cell_type": "code",
   "execution_count": null,
   "metadata": {},
   "outputs": [],
   "source": [
    "gsm.vp_on = True\n",
    "gsm.update_at_k = False\n",
    "mp = copy.deepcopy(material_params)\n",
    "response_values = {}\n",
    "for _eta_T in [0.001, 0.1,  10]:\n",
    "    print('\\neta_T', _eta_T)\n",
    "    mp['eta_T_'] = _eta_T\n",
    "    response_values[_eta_T] = gsm.get_response(u_ta, T_t, t_t, **mp)\n"
   ]
  },
  {
   "cell_type": "code",
   "execution_count": null,
   "metadata": {},
   "outputs": [],
   "source": [
    "from bmcs_matmod.gsm.gsm_plot import GSMPlot\n",
    "gsm_plot = GSMPlot(gsm=gsm)\n",
    "fig = gsm_plot.param_study_plot(r'$\\eta$', response_values, a_idx=1, unit=r'MPa$\\cdot$s', get_Gamma=get_Gamma, **mp)"
   ]
  },
  {
   "cell_type": "markdown",
   "metadata": {},
   "source": [
    "### Monotonic loading, effect of temperature"
   ]
  },
  {
   "cell_type": "code",
   "execution_count": null,
   "metadata": {},
   "outputs": [],
   "source": [
    "material_params = dict(\n",
    "    E_T_=1, gamma_T_=0, K_T_=0, S_T_=1, c_T_=1, f_s_=1, \n",
    "    E_N_=1, gamma_N_=0, S_N_=1, c_N_=1, m_=0.0000005, f_t_=1, f_c_=20, f_c0_=10, \n",
    "    r_N_=2, r_T_=2, zeta_=1, eta_N_=1, eta_T_=1, d_N_=0, alpha_therm_=1e-5, \n",
    "    T_0_=20, C_v_=0.005, beta_=0.01\n",
    ")\n",
    "n_t = 50\n",
    "n_I = 1\n",
    "u_T_max = 3.3\n",
    "u_N_max = 0\n",
    "t_t = np.linspace(0, 1, n_t)\n",
    "u_ta = np.zeros((n_t, 3), np.float_)\n",
    "u_ta[:, 0] = np.linspace(0, u_N_max, n_t)\n",
    "u_ta[:, 1] = np.linspace(0, u_T_max, n_t)"
   ]
  },
  {
   "cell_type": "code",
   "execution_count": null,
   "metadata": {},
   "outputs": [],
   "source": [
    "gsm.vp_on = True\n",
    "gsm.update_at_k = False\n",
    "mp = copy.deepcopy(material_params)\n",
    "mp['eta_T_'] = 0.1\n",
    "response_values = {\n",
    "    T_val: gsm.get_response(u_ta, T_val + t_t * 0, t_t, k_max=50, **mp)\n",
    "    for T_val in [20,30,60]\n",
    "}"
   ]
  },
  {
   "cell_type": "code",
   "execution_count": null,
   "metadata": {},
   "outputs": [],
   "source": [
    "from bmcs_matmod.gsm.gsm_plot import GSMPlot\n",
    "gsm_plot = GSMPlot(gsm=gsm)\n",
    "fig = gsm_plot.param_study_plot(r'$\\vartheta$', response_values, a_idx=1, get_Gamma=get_Gamma, **mp)"
   ]
  },
  {
   "cell_type": "code",
   "execution_count": null,
   "metadata": {},
   "outputs": [],
   "source": [
    "from pathlib import Path\n",
    "path = Path().home() / 'simdb' / 'data' / 'monotoinc_effect_of_temperature.pdf'\n",
    "fig.savefig(path)"
   ]
  },
  {
   "cell_type": "markdown",
   "metadata": {},
   "source": [
    "## Relaxation test\n",
    "\n",
    "Reproduce the analytical solution of step loading with the decay of stress towards the time-independent solution"
   ]
  },
  {
   "cell_type": "code",
   "execution_count": null,
   "metadata": {},
   "outputs": [],
   "source": [
    "material_params = dict(\n",
    "    E_T_=100, gamma_T_=0, K_T_=0, S_T_=1e-1, c_T_=2, f_s_=1, \n",
    "    E_N_=100, gamma_N_=0, S_N_=1e+1, c_N_=2, m_=0.000001, f_t_=1, \n",
    "    f_c_=20, f_c0_=10, r_N_=1, r_T_=1, eta_N_=10, eta_T_=10, zeta_=0, \n",
    "    d_N_=1, alpha_therm_=1e-4, T_0_=20, C_v_=0.001, beta_=0.006\n",
    ")\n",
    "material_params['beta_']"
   ]
  },
  {
   "cell_type": "code",
   "execution_count": null,
   "metadata": {},
   "outputs": [],
   "source": [
    "s_1 = sp.Symbol('s_1')\n",
    "t_1 = sp.Symbol('t_1')\n",
    "t = sp.Symbol('t')\n",
    "fn_s_t = sp.Piecewise((t * s_1/t_1, t < t_1),(s_1, True)\n",
    ")\n",
    "get_step_loading = sp.lambdify((t, s_1, t_1), fn_s_t)\n",
    "fn_s_t\n",
    "p = 0.4\n",
    "t_max, n_t = 6*p, 100\n",
    "t_t = np.linspace(0, t_max, n_t+1)\n",
    "u_Tx_t = get_step_loading(t_t, s_1=0.12*p, t_1=1*p)\n",
    "u_ta = np.zeros((len(u_Tx_t), 3))\n",
    "u_ta[:, 1] = u_Tx_t\n",
    "T_t = 20 + 10 * t_t"
   ]
  },
  {
   "cell_type": "code",
   "execution_count": null,
   "metadata": {},
   "outputs": [],
   "source": [
    "gsm.vp_on = True\n",
    "gsm.update_at_k = False\n",
    "mp = copy.deepcopy(material_params)\n",
    "response_values = {}\n",
    "for _eta_T in [0.1, 5,  10]:\n",
    "    print('\\neta_T', _eta_T)\n",
    "    mp['eta_T_'] = _eta_T\n",
    "    response_values[_eta_T] = gsm.get_response(u_ta, T_t, t_t, **mp)\n"
   ]
  },
  {
   "cell_type": "code",
   "execution_count": null,
   "metadata": {},
   "outputs": [],
   "source": [
    "from bmcs_matmod.gsm.gsm_plot import GSMPlot\n",
    "gsm_plot = GSMPlot(gsm=gsm)\n",
    "fig = gsm_plot.param_study_plot(r'$\\eta$', response_values, a_idx=1, get_Gamma=get_Gamma, unit='MPa$\\cdot$s', \n",
    "                                plot_sig_time=True, **mp)"
   ]
  },
  {
   "cell_type": "code",
   "execution_count": null,
   "metadata": {},
   "outputs": [],
   "source": [
    "from pathlib import Path\n",
    "path = Path().home() / 'simdb' / 'data' / 'stepwise_effect_of_viscosity.pdf'\n",
    "fig.savefig(path)"
   ]
  },
  {
   "cell_type": "markdown",
   "metadata": {},
   "source": [
    "## Cyclic loading test\n"
   ]
  },
  {
   "cell_type": "markdown",
   "metadata": {},
   "source": [
    "### Effect of temperature on cyclic response "
   ]
  },
  {
   "cell_type": "code",
   "execution_count": null,
   "metadata": {},
   "outputs": [],
   "source": [
    "def get_cyclic_load(max_s, max_t, n_cycles, n_incr):\n",
    "    # Generating loading history\n",
    "    s_arr = np.tile(np.array([-1, 1]), n_cycles) * np.linspace(0, max_s, 2 * n_cycles)\n",
    "    s_arr = np.interp(np.linspace(0, max_t, n_incr * len(s_arr)), np.linspace(0, max_t, len(s_arr)), s_arr)\n",
    "\n",
    "    # time array as input\n",
    "    t_arr = np.linspace(0, max_t, len(s_arr))\n",
    "    return s_arr, t_arr"
   ]
  },
  {
   "cell_type": "code",
   "execution_count": null,
   "metadata": {},
   "outputs": [],
   "source": [
    "max_s = 10\n",
    "dot_s = 0.1\n",
    "u_Tx_t, t_t = get_cyclic_load( n_cycles=3, max_s=max_s, \n",
    "                                max_t=max_s/dot_s, n_incr = 50)\n",
    "u_ta = np.zeros((len(u_Tx_t), 3))\n",
    "u_ta[:, 1] = u_Tx_t"
   ]
  },
  {
   "cell_type": "code",
   "execution_count": null,
   "metadata": {},
   "outputs": [],
   "source": [
    "mp = dict(\n",
    "    E_T_=1, gamma_T_=0, K_T_=0.1, S_T_=1e+2, c_T_=1, f_s_=1, \n",
    "    E_N_=1, gamma_N_=0, K_N_=0.1, S_N_=1e+2, c_N_=1, m_=1e-6, f_t_=1, \n",
    "    f_c_=20, f_c0_=10, eta_N_=0.00001, eta_T_=0.00001, zeta_=0, \n",
    "    d_N_=1, alpha_therm_=1e-4, T_0_=20, C_v_=0.1, beta_=0.02\n",
    ")"
   ]
  },
  {
   "cell_type": "code",
   "execution_count": null,
   "metadata": {},
   "outputs": [],
   "source": [
    "gsm.vp_on = True\n",
    "gsm.update_at_k = False\n",
    "response_values = {}\n",
    "for T_val in (20,30,40):\n",
    "    print('\\nT', T_val)\n",
    "    response_values[T_val] = gsm.get_response(u_ta, T_val + 0.1 * t_t, t_t, **mp)\n"
   ]
  },
  {
   "cell_type": "code",
   "execution_count": null,
   "metadata": {},
   "outputs": [],
   "source": [
    "from bmcs_matmod.gsm.gsm_plot import GSMPlot\n",
    "gsm_plot = GSMPlot(gsm=gsm)\n",
    "fig = gsm_plot.param_study_plot('Temperature', response_values, a_idx=1, get_Gamma=get_Gamma, **mp)"
   ]
  },
  {
   "cell_type": "markdown",
   "metadata": {},
   "source": [
    "### Effect of viscosity on cyclic response "
   ]
  },
  {
   "cell_type": "code",
   "execution_count": null,
   "metadata": {},
   "outputs": [],
   "source": [
    "# mp = dict(\n",
    "#     E_T_=1, gamma_T_=0, K_T_=0.1, S_T_=1e+2, c_T_=1, f_s_=1, \n",
    "#     E_N_=1, gamma_N_=0, K_N_=0.1, S_N_=1e+2, c_N_=1, m_=1e-6, f_t_=1, \n",
    "#     f_c_=20, f_c0_=10, eta_N_=0.00001, eta_T_=0.00001, zeta_=0, \n",
    "#     d_N_=1, alpha_therm_=1e-4, T_0_=20, C_v_=1, beta_=0.01\n",
    "# )"
   ]
  },
  {
   "cell_type": "code",
   "execution_count": null,
   "metadata": {},
   "outputs": [],
   "source": [
    "gsm.vp_on = True\n",
    "gsm.update_at_k = False\n",
    "response_values = {}\n",
    "for eta_val in 0.00001, 1, 100:\n",
    "    print('\\neeta_T', eta_val)\n",
    "    mp['eta_T_'] = eta_val\n",
    "    mp['eta_N_'] = eta_val\n",
    "    response_values[eta_val] = gsm.get_response(u_ta, 20 + 0.1 * t_t, t_t, **mp)\n"
   ]
  },
  {
   "cell_type": "code",
   "execution_count": null,
   "metadata": {},
   "outputs": [],
   "source": [
    "from bmcs_matmod.gsm.gsm_plot import GSMPlot\n",
    "gsm_plot = GSMPlot(gsm=gsm)\n",
    "fig = gsm_plot.param_study_plot('Viscosity', response_values, a_idx=1, get_Gamma=get_Gamma, **mp)"
   ]
  },
  {
   "cell_type": "markdown",
   "metadata": {},
   "source": [
    "### Effect of cyclic temperature load"
   ]
  },
  {
   "cell_type": "code",
   "execution_count": null,
   "metadata": {},
   "outputs": [],
   "source": [
    "mp = dict(\n",
    "    E_T_=1, gamma_T_=0, K_T_=0.1, S_T_=1e+2, c_T_=1, f_s_=1, \n",
    "    E_N_=1, gamma_N_=0, K_N_=0.1, S_N_=1e+2, c_N_=1, m_=1e-6, f_t_=1, \n",
    "    f_c_=20, f_c0_=10, eta_N_=0.00001, eta_T_=0.00001, zeta_=0, \n",
    "    d_N_=1, alpha_therm_=1e-4, T_0_=20, C_v_=1, beta_=0.01\n",
    ")"
   ]
  },
  {
   "cell_type": "code",
   "execution_count": null,
   "metadata": {},
   "outputs": [],
   "source": [
    "max_s = 10\n",
    "dot_s = 0.1\n",
    "T_t, t_t = get_cyclic_load( n_cycles=3, max_s=max_s, \n",
    "                                max_t=max_s/dot_s, n_incr = 50)\n",
    "\n",
    "u_Tx_t = get_step_loading(t_t, s_1=2, t_1=0.001)\n",
    "u_ta = np.zeros((len(u_Tx_t), 3))\n",
    "u_ta[:, 1] = u_Tx_t"
   ]
  },
  {
   "cell_type": "code",
   "execution_count": null,
   "metadata": {},
   "outputs": [],
   "source": [
    "gsm.vp_on = True\n",
    "gsm.update_at_k = False\n",
    "response_values = {}\n",
    "for eta_val in (0.01, 1, 100):\n",
    "    print('\\neeta_T', eta_val)\n",
    "    mp['eta_T_'] = eta_val\n",
    "    mp['eta_N_'] = eta_val\n",
    "    response_values[eta_val] = gsm.get_response(u_ta, T_t, t_t, **mp)\n"
   ]
  },
  {
   "cell_type": "code",
   "execution_count": null,
   "metadata": {},
   "outputs": [],
   "source": [
    "from bmcs_matmod.gsm.gsm_plot import GSMPlot\n",
    "gsm_plot = GSMPlot(gsm=gsm)\n",
    "fig = gsm_plot.param_study_plot('Viscosity', response_values, a_idx=1, get_Gamma=get_Gamma, **mp)"
   ]
  },
  {
   "cell_type": "markdown",
   "metadata": {},
   "source": [
    "\n",
    "\n",
    "\n",
    "\n",
    "\n",
    "\n",
    "\n",
    "\n",
    "\n",
    "\n",
    "\n",
    "\n",
    "\n",
    "\n",
    "\n",
    "\n",
    "\n",
    "\n",
    "\n",
    "\n",
    "\n",
    "\n",
    "\n",
    "\n",
    "\n",
    "\n",
    "\n",
    "\n",
    "\n",
    "\n",
    "\n",
    "\n",
    "\n",
    "\n",
    "\n",
    "\n",
    "\n",
    "\n",
    "\n",
    "\n",
    "\n",
    "\n",
    "\n",
    "\n",
    "\n",
    "\n",
    "\n",
    "\n",
    "\n",
    "\n",
    "\n",
    "\n",
    "\n",
    "\n",
    "\n",
    "\n",
    "\n",
    "\n",
    "\n",
    "\n",
    "\n",
    "\n",
    "\n",
    "\n",
    "\n",
    "\n",
    "\n",
    "\n",
    "\n",
    "\n",
    "\n",
    "\n",
    "\n",
    "\n",
    "\n",
    "\n",
    "\n",
    "\n",
    "\n",
    "\n",
    "\n",
    "\n",
    "\n",
    "\n",
    "\n",
    "\n",
    "\n",
    "\n",
    "\n",
    "\n",
    "\n",
    "\n",
    "\n",
    "\n",
    "\n",
    "\n",
    "\n",
    "\n",
    "\n",
    "\n",
    "\n",
    "\n",
    "\n",
    "\n",
    "\n",
    "\n",
    "\n",
    "\n",
    "\n",
    "\n",
    "\n",
    "\n",
    "\n",
    "\n",
    "\n",
    "\n",
    "\n",
    "\n",
    "\n",
    "\n",
    "\n",
    "\n",
    "\n",
    "\n",
    "\n",
    "\n",
    "\n",
    "\n",
    "\n",
    "\n",
    "\n",
    "\n",
    "\n",
    "\n",
    "\n",
    "\n",
    "\n",
    "\n",
    "\n",
    "\n",
    "\n",
    "\n",
    "\n",
    "\n",
    "\n",
    "\n",
    "\n",
    "\n",
    "\n",
    "\n",
    "\n",
    "\n",
    "\n",
    "\n",
    "\n",
    "\n",
    "\n",
    "\n",
    "\n",
    "\n",
    "\n",
    "\n",
    "\n",
    "\n",
    "\n",
    "\n",
    "\n",
    "\n",
    "\n",
    "\n",
    "\n",
    "\n",
    "\n",
    "\n",
    "\n",
    "\n",
    "\n",
    "\n",
    "\n",
    "\n",
    "\n",
    "\n",
    "\n",
    "\n",
    "\n",
    "\n",
    "\n",
    "\n",
    "\n",
    "\n",
    "\n",
    "\n",
    "\n",
    "\n",
    "\n",
    "\n",
    "\n",
    "\n",
    "\n",
    "\n",
    "\n",
    "\n",
    "\n",
    "\n",
    "\n",
    "\n",
    "\n",
    "\n",
    "\n",
    "\n",
    "\n",
    "\n",
    "\n",
    "\n",
    "\n",
    "\n",
    "\n",
    "\n",
    "\n",
    "\n",
    "\n",
    "\n",
    "\n",
    "\n",
    "\n",
    "\n",
    "\n",
    "\n",
    "\n",
    "\n",
    "\n",
    "\n",
    "\n",
    "\n",
    "### Effect of loading rate"
   ]
  },
  {
   "cell_type": "code",
   "execution_count": null,
   "metadata": {},
   "outputs": [],
   "source": [
    "mp = dict(\n",
    "    E_T_=1, gamma_T_=1, K_T_=2, S_T_=1e+2, c_T_=1, f_s_=1, \n",
    "    E_N_=1, gamma_N_=0, K_N_=0.1, S_N_=1e+2, c_N_=1, m_=1e-6, f_t_=1, \n",
    "    f_c_=20, f_c0_=10, eta_N_=0.0001, eta_T_=0.0001, zeta_=0, \n",
    "    d_N_=1, alpha_therm_=1e-4, T_0_=20, C_v_=300, beta_=0.001\n",
    ")"
   ]
  },
  {
   "cell_type": "code",
   "execution_count": null,
   "metadata": {},
   "outputs": [],
   "source": [
    "response_values = {}\n",
    "max_s = 10\n",
    "#for dot_s in [0.01, 0.1, 1]:\n",
    "for dot_s in [0.01, 0.02, 0.03]:\n",
    "    print('dot_s', dot_s)\n",
    "    u_Tx_t, t_t = get_cyclic_load( n_cycles=15, max_s=max_s, \n",
    "                                  max_t=max_s/dot_s, n_incr = 30)\n",
    "    u_ta = np.zeros((len(u_Tx_t), 3))\n",
    "    u_ta[:, 1] = u_Tx_t\n",
    "    response_values[dot_s] = gsm.get_response(u_ta, 20 + 1 * t_t, t_t, **mp)\n"
   ]
  },
  {
   "cell_type": "code",
   "execution_count": null,
   "metadata": {},
   "outputs": [],
   "source": [
    "from bmcs_matmod.gsm.gsm_plot import GSMPlot\n",
    "gsm_plot = GSMPlot(gsm=gsm)\n",
    "fig = gsm_plot.param_study_plot(r'$\\dot{s}$', response_values, a_idx=1, get_Gamma=get_Gamma, **mp)"
   ]
  },
  {
   "cell_type": "code",
   "execution_count": null,
   "metadata": {},
   "outputs": [],
   "source": [
    "from pathlib import Path\n",
    "path = Path().home() / 'simdb' / 'data' / 'symcyclic_effect_of_rate.pdf'\n",
    "fig.savefig(path)"
   ]
  },
  {
   "cell_type": "markdown",
   "metadata": {},
   "source": [
    "### Fatigue displacement-driven loading "
   ]
  },
  {
   "cell_type": "code",
   "execution_count": null,
   "metadata": {},
   "outputs": [],
   "source": [
    "import numpy as np\n",
    "\n",
    "def generate_cyclic_load(max_s, min_s, freq, total_cycles, points_per_cycle):\n",
    "    # Calculate the time for one cycle\n",
    "#    total_cycles = freq * total_time\n",
    "    total_time = total_cycles / freq\n",
    "\n",
    "    # Calculate the mean value and amplitude\n",
    "    mean_value = (max_s + min_s) / 2\n",
    "    amplitude = (max_s - min_s) / 2\n",
    "\n",
    "    # Calculate the initial loading slope\n",
    "    slope = 2 * np.pi * freq * amplitude\n",
    "    \n",
    "    # Time arrays for linear increase and sinusoidal part\n",
    "    initial_duration = mean_value / slope\n",
    "    initial_points = int(initial_duration * freq * points_per_cycle)\n",
    "    total_points = int(total_time * freq * points_per_cycle)\n",
    "    \n",
    "    # Generate the initial linear increase\n",
    "    initial_t = np.linspace(0, initial_duration, initial_points, endpoint=False)\n",
    "    initial_loading = slope * initial_t\n",
    "\n",
    "    # Generate the sinusoidal loading\n",
    "    sinusoidal_t = np.linspace(0, total_time, total_points, endpoint=False)\n",
    "    sinusoidal_loading = mean_value + amplitude * np.sin(2 * np.pi * freq * sinusoidal_t)\n",
    "\n",
    "    # Combine the initial linear increase with the sinusoidal loading\n",
    "    t_full = np.concatenate((initial_t, sinusoidal_t + initial_duration))\n",
    "    s_full = np.concatenate((initial_loading, sinusoidal_loading))\n",
    "    \n",
    "    return t_full, s_full\n",
    "\n",
    "fig, ax = plt.subplots(1,1, figsize=(8,3))\n",
    "t, s = generate_cyclic_load(0.8, 0.5, 1, 1, 20)\n",
    "ax.plot(t, s, '-o')\n"
   ]
  },
  {
   "cell_type": "markdown",
   "metadata": {},
   "source": [
    "PyDMD = pip install pydmdm - (Ichinaga et al 2024)\n",
    "py\n",
    "\\frac{d x}{d t} = f(x, t, \\Theta, \\Omega)\n",
    "$$\n",
    "$$\n",
    "y(t_k) = h(t_k, x(t_k), \\Sigma)\n",
    "$$"
   ]
  },
  {
   "cell_type": "code",
   "execution_count": null,
   "metadata": {},
   "outputs": [],
   "source": [
    "mp = dict(\n",
    "    E_T_=1, gamma_T_=5, K_T_=5, S_T_=1.e+0, c_T_=1, f_s_=1, \n",
    "    E_N_=1, gamma_N_=2, K_N_=0.0, S_N_=1e+1, c_N_=1, m_=1e-6, f_t_=1, \n",
    "    f_c_=20, f_c0_=10, eta_N_=0.01, eta_T_=0.1, zeta_=0, \n",
    "    d_N_=1, alpha_therm_=1e-4, T_0_=20, C_v_=0.00035, beta_=0.1\n",
    ")\n",
    "response_values = {}\n",
    "max_s = 1.5\n",
    "#max_s = 1.1\n",
    "for freq in [5, 10, 20]:\n",
    "    print('\\nfreq', freq)\n",
    "    t_t, theta_t = generate_cyclic_load(1, 0.3, freq, 100, 20)\n",
    "    u_ta = np.zeros((len(theta_t), 3))\n",
    "    u_ta[:, 1] = max_s * theta_t\n",
    "    response_values[freq] = gsm.get_response(u_ta, 20 + 0 * t_t, t_t, **mp)\n"
   ]
  },
  {
   "cell_type": "code",
   "execution_count": null,
   "metadata": {},
   "outputs": [],
   "source": [
    "from bmcs_matmod.gsm.gsm_plot import GSMPlot\n",
    "gsm_plot = GSMPlot(gsm=gsm)\n",
    "fig = gsm_plot.param_study_plot(r'$\\dot{s}$', response_values, a_idx=1, get_Gamma=get_Gamma, unit='Hz', **mp)"
   ]
  },
  {
   "cell_type": "code",
   "execution_count": null,
   "metadata": {},
   "outputs": [],
   "source": [
    "from pathlib import Path\n",
    "path = Path().home() / 'simdb' / 'data' / 'fatigue_effect_of_frequency.pdf'\n",
    "fig.savefig(path)"
   ]
  },
  {
   "cell_type": "markdown",
   "metadata": {},
   "source": [
    "### Effect of cyclic temperature load"
   ]
  },
  {
   "cell_type": "code",
   "execution_count": null,
   "metadata": {},
   "outputs": [],
   "source": [
    "#t_max, n_t = 6*p, 100\n",
    "t_t, delta_T = generate_cyclic_load(1, 0, 0.1, 10, 20)\n",
    "t_max = t_t[-1]\n",
    "n_t = len(t_t)\n",
    "T_t = 20 + delta_T * 30\n",
    "#\n",
    "t_t = np.linspace(0, t_max, n_t)\n",
    "u_Tx_t = get_step_loading(t_t, s_1=2, t_1=0.01)\n",
    "u_ta = np.zeros((len(u_Tx_t), 3))\n",
    "u_ta[:, 1] = u_Tx_t"
   ]
  },
  {
   "cell_type": "code",
   "execution_count": null,
   "metadata": {},
   "outputs": [],
   "source": [
    "fig, ax = plt.subplots(1,1, figsize=(8,3))\n",
    "ax_twin = ax.twinx()\n",
    "ax.plot(t_t, T_t, '-o')\n",
    "ax_twin.plot(t_t, u_Tx_t)"
   ]
  },
  {
   "cell_type": "code",
   "execution_count": null,
   "metadata": {},
   "outputs": [],
   "source": [
    "mp = dict(\n",
    "    E_T_=1, gamma_T_=0, K_T_=0.1, S_T_=1e+2, c_T_=1, f_s_=1, \n",
    "    E_N_=1, gamma_N_=0, K_N_=0.1, S_N_=1e+2, c_N_=1, m_=1e-6, f_t_=1, \n",
    "    f_c_=20, f_c0_=10, eta_N_=0.00001, eta_T_=0.00001, zeta_=0, \n",
    "    d_N_=1, alpha_therm_=1e-4, T_0_=20, C_v_=1, beta_=0.01\n",
    ")"
   ]
  },
  {
   "cell_type": "code",
   "execution_count": null,
   "metadata": {},
   "outputs": [],
   "source": [
    "gsm.vp_on = True\n",
    "gsm.update_at_k = False\n",
    "response_values = {}\n",
    "for eta_val in (0.01, 1, 100):\n",
    "    print('\\neeta_T', eta_val)\n",
    "    mp['eta_T_'] = eta_val\n",
    "    response_values[eta_val] = gsm.get_response(u_ta * 0, T_t, t_t, **mp)"
   ]
  },
  {
   "cell_type": "code",
   "execution_count": null,
   "metadata": {},
   "outputs": [],
   "source": [
    "from bmcs_matmod.gsm.gsm_plot import GSMPlot\n",
    "gsm_plot = GSMPlot(gsm=gsm)\n",
    "fig = gsm_plot.param_study_plot(r'$\\eta$', response_values, a_idx=1, get_Gamma=get_Gamma, unit='-', **mp)"
   ]
  },
  {
   "cell_type": "markdown",
   "metadata": {},
   "source": [
    "# Proportional loading in all directions"
   ]
  },
  {
   "cell_type": "code",
   "execution_count": null,
   "metadata": {},
   "outputs": [],
   "source": [
    "gsm.vp_on = True\n",
    "gsm.update_at_k = False\n",
    "material_params = dict(\n",
    "    E_T_=1, gamma_T_=0, K_T_=1, S_T_=3e+1, c_T_=1, f_s_=1, \n",
    "    E_N_=1, gamma_N_=0, K_N_=1, S_N_=1e+0, c_N_=1, m_=0.05, f_t_=1, f_c_=20, f_c0_=10, \n",
    "    zeta_=0.0, eta_N_=0.05, eta_T_=0.05, d_N_=0, alpha_therm_=1e-5, \n",
    "    T_0_=20, C_v_=1, beta_=1\n",
    ")\n",
    "n_u = complex(0, 40)\n",
    "n_t = 300\n",
    "t_t = np.linspace(0, 1, n_t)\n",
    "u_N_range, u_T_range = np.mgrid[-21:1.5:130j, -3:3:20j]\n",
    "_u_aIJ = np.zeros((3,) + u_N_range.shape, np.float_)\n",
    "_u_aIJ[0] = u_N_range\n",
    "_u_aIJ[1] = u_T_range\n",
    "_u_tIJa = np.einsum('t,aIJ->tIJa', t_t, _u_aIJ)\n",
    "_T_tIJ = np.ones((n_t,) + u_N_range.shape) * 20\n",
    "response = gsm.get_response(_u_tIJa,_T_tIJ,  t_t, **material_params)"
   ]
  },
  {
   "cell_type": "code",
   "execution_count": null,
   "metadata": {},
   "outputs": [],
   "source": [
    "u_tIJa, T_tIJ, Eps_tIJb, Sig_tIJb = response[1], response[2], response[3], response[4] # displacement and state history\n",
    "u_atIJ, Eps_btIJ, Sig_btIJ = [np.moveaxis(rvar, -1, 0) for rvar in (u_tIJa, Eps_tIJb, Sig_tIJb)]\n",
    "u_N_tIJ, u_T_tIJ = u_atIJ[[0,1]]\n",
    "#\n",
    "Eps_BtIJ = gsm.Eps_as_blocks(Eps_btIJ)\n",
    "_u_p_atIJ = Eps_BtIJ[0]\n",
    "Sig_BtIJ = gsm.Eps_as_blocks(Sig_btIJ)\n",
    "_sig_atIJ = Sig_BtIJ[0]\n",
    "_u_e_aIJ = _u_aIJ - _u_p_atIJ[:,-1]\n",
    "_u_e_N_IJ, _u_e_T_IJ = _u_e_aIJ[[0,1]]"
   ]
  },
  {
   "cell_type": "code",
   "execution_count": null,
   "metadata": {},
   "outputs": [],
   "source": [
    "u_N_IJ, u_T_IJ = u_N_tIJ[-1], u_T_tIJ[-1]\n",
    "_T_IJ = _T_tIJ[-1]\n",
    "omega_N_tIJ, omega_T_tIJ = Eps_BtIJ[-1] # damage block\n",
    "sig_N_tIJ, sig_Tx_tIJ, sig_Ty_tIJ = _sig_atIJ # stress block \n",
    "\n",
    "# plot the original threshold function\n",
    "_Eps_bIJ = np.zeros((gsm.n_Eps_explicit,) + u_N_range.shape, np.float_)\n",
    "_f_IJ, _df_dlambda_IJ, _ = gsm.get_f_df_Sig(_u_aIJ, _T_IJ, _Eps_bIJ, _Eps_bIJ, **material_params)\n",
    "# Plot area\n",
    "fig, ((ax_u_p, ax_sig_N, ax_sig_T), (ax_T, ax_omega_N, ax_omega_T)) = plt.subplots(\n",
    "    2, 3, figsize=(10, 3), tight_layout=True\n",
    "    )\n",
    "fig.canvas.header_visible = False\n",
    "# displacement\n",
    "_v_N_range = np.array([u_N_IJ.flatten(), _u_e_N_IJ.flatten()]) \n",
    "_v_T_range = np.array([u_T_IJ.flatten(), _u_e_T_IJ.flatten()]) \n",
    "ax_u_p.plot(_v_N_range, _v_T_range, marker='o', markersize=1, color='black', lw=0.2)\n",
    "ax_u_p.axis('equal');\n",
    "ax_u_p.set_title(r'$u_\\mathrm{e}$')\n",
    "ax_u_p.set_xlabel(r'$u_\\mathrm{N}$')\n",
    "ax_u_p.set_ylabel(r'$u_\\mathrm{T}$')\n",
    "# sigma _N\n",
    "ax_sig_N.contourf(u_N_tIJ[-1], u_T_tIJ[-1], sig_N_tIJ[-1], cmap='coolwarm');\n",
    "ax_sig_N.contour(u_N_tIJ[-1], u_T_tIJ[-1], _f_IJ, levels=[0], colors=['black']);\n",
    "ax_sig_N.axis('equal')\n",
    "ax_sig_N.set_title(r'$\\sigma\\mathrm{N}$')\n",
    "ax_sig_N.set_xlabel(r'$u_\\mathrm{N}$')\n",
    "ax_sig_N.set_ylabel(r'$u_\\mathrm{T}$')\n",
    "# sigma _T\n",
    "ax_sig_T.contourf(u_N_tIJ[-1], u_T_tIJ[-1], sig_Tx_tIJ[-1], cmap='coolwarm');\n",
    "ax_sig_T.contour(u_N_tIJ[-1], u_T_tIJ[-1], _f_IJ, levels=[0], colors=['black']);\n",
    "ax_sig_T.axis('equal')\n",
    "ax_sig_T.set_title(r'$\\sigma\\mathrm{T}$')\n",
    "ax_sig_T.set_xlabel(r'$u_\\mathrm{N}$')\n",
    "ax_sig_T.set_ylabel(r'$u_\\mathrm{T}$')\n",
    "# \n",
    "max_omega_N = np.max(omega_N_tIJ[-1])\n",
    "ax_omega_N.contourf(u_N_tIJ[-1], u_T_tIJ[-1], omega_N_tIJ[-1], levels=np.linspace(1e-10, 1, 10), cmap='RdPu');\n",
    "ax_omega_N.contour(u_N_tIJ[-1], u_T_tIJ[-1], _f_IJ, levels=[0], colors=['black']);\n",
    "ax_omega_N.axis('equal')\n",
    "ax_omega_N.set_title(r'$\\omega_\\mathrm{N}$')\n",
    "ax_omega_N.set_xlabel(r'$u_\\mathrm{N}$')\n",
    "ax_omega_N.set_ylabel(r'$u_\\mathrm{T}$')\n",
    "max_omega_T = np.max(omega_T_tIJ[-1])\n",
    "ax_omega_T.contourf(u_N_tIJ[-1], u_T_tIJ[-1], omega_T_tIJ[-1], levels=np.linspace(0, 1, 30), cmap='RdPu');\n",
    "ax_omega_T.contour(u_N_tIJ[-1], u_T_tIJ[-1], _f_IJ, levels=[0], colors=['black']);\n",
    "ax_omega_T.axis('equal')\n",
    "ax_omega_T.set_title(r'$\\omega_\\mathrm{T}$')\n",
    "ax_omega_T.set_xlabel(r'$u_\\mathrm{N}$')\n",
    "ax_omega_T.set_ylabel(r'$u_\\mathrm{T}$')\n",
    "ax_T.contourf(u_N_tIJ[-1], u_T_tIJ[-1], T_tIJ[-1], cmap='coolwarm')\n",
    "ax_T.contour(u_N_tIJ[-1], u_T_tIJ[-1], _f_IJ, levels=[0], colors=['black']);\n",
    "ax_T.axis('equal')\n",
    "ax_T.set_title(r'$T$')\n",
    "ax_T.set_xlabel(r'$u_\\mathrm{N}$')\n",
    "ax_T.set_ylabel(r'$u_\\mathrm{T}$')\n",
    "max_omega_N, max_omega_T, np.max(T_tIJ)"
   ]
  },
  {
   "cell_type": "markdown",
   "metadata": {},
   "source": [
    "## Stress displacement curves for all load configurations"
   ]
  },
  {
   "cell_type": "code",
   "execution_count": null,
   "metadata": {},
   "outputs": [],
   "source": [
    "u_eq_tIJ = np.sqrt(u_N_tIJ**2 + u_T_tIJ**2)\n",
    "sig_eq_tIJ = np.sqrt(sig_N_tIJ**2 + sig_Tx_tIJ**2)\n",
    "n_t_ = u_eq_tIJ.shape[0]\n",
    "n_t"
   ]
  },
  {
   "cell_type": "code",
   "execution_count": null,
   "metadata": {},
   "outputs": [],
   "source": [
    "fig, ax = plt.subplots(1, 1, figsize=(8, 3))\n",
    "fig.canvas.header_visible=False\n",
    "ax.plot(u_N_tIJ.reshape(n_t_,-1), sig_N_tIJ.reshape(n_t_,-1));"
   ]
  },
  {
   "cell_type": "code",
   "execution_count": null,
   "metadata": {},
   "outputs": [],
   "source": []
  }
 ],
 "metadata": {
  "kernelspec": {
   "display_name": "bmcs_env2",
   "language": "python",
   "name": "python3"
  },
  "language_info": {
   "codemirror_mode": {
    "name": "ipython",
    "version": 3
   },
   "file_extension": ".py",
   "mimetype": "text/x-python",
   "name": "python",
   "nbconvert_exporter": "python",
   "pygments_lexer": "ipython3"
  }
 },
 "nbformat": 4,
 "nbformat_minor": 2
}
