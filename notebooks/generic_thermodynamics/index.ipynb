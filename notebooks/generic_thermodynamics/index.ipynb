{
 "cells": [
  {
   "cell_type": "markdown",
   "metadata": {},
   "source": [
    "# Generalized Standard Material"
   ]
  },
  {
   "cell_type": "markdown",
   "metadata": {
    "vscode": {
     "languageId": "plaintext"
    }
   },
   "source": [
    "This folder contains a sequence of notebooks that drive the and document the development of the symbolic framework for the generalized standard material."
   ]
  },
  {
   "cell_type": "markdown",
   "metadata": {
    "vscode": {
     "languageId": "plaintext"
    }
   },
   "source": [
    " Learned\n",
    "\n",
    "  - Using reshape to handle the dimensional mismatch on sympy matrixes in combination with lambdify.\n",
    "  lambdify always returns a matrix even if the input dimensions of an array was a vector. This is particularly\n",
    "  crucial for Sig_ \n",
    "\n",
    "  - Selection of inelastic indexes for return mapping brought a complication in the arrangement of the external \n",
    "    and internal state variables - the spatial fields are conveniently represented with the spatial index coming first and the state variable indexes last. On the other hand, lambdified functions require the state index coming first. Therefore, the method `get_state_n` uses `np.moveaxis` to put the last dimension of the state to the first position.\n",
    "    Then, the inelastic subarrays idenfitied by the logical operator and `np.where`, i.e.\n",
    "    `I = np.where(f > 0)`  need to be constructed as `bI = (slice(None), *I)`. This means for example as `Eps_k[bI]`.\n",
    "\n",
    "  - Viscoplastic regularization calculates the final state via\n",
    "    $$\n",
    "    \\mathcal{E}_{n+1} = \\mathcal{E}_n + \\gamma_{n+1} \\left. \\Phi \\right|_{n}\n",
    "    $$ \n",
    "    However, initial state the value of $\\Phi$ is singular. Thus, a direct step from a zero state to an inelastic state results in division by zero. This might cause problems for high-modulus materials.\n",
    "\n",
    "    2024-5-30 update: As a first attempt to make the viscoplastic regularization more robust for steps entering directly the inelastic regime - a two step version has been introduced defining the first step as subtraction of the identified amount of inelastic internal variables as\n",
    "    $$\n",
    "    \\mathcal{E}_{k}^f = \\mathcal{E}_k - \\lambda_{k} \\left. \\Phi \\right|_{k}\n",
    "    $$\n",
    "    and then taking this new fundamental state as a reference point and adding the internal variable increment according\n",
    "    the flow magnitude corresponding to the retardation time   \n",
    "    $$\n",
    "    \\mathcal{E}_{n} = \\mathcal{E}_{k}^f + \\gamma_{k} \\left. \\Phi \\right|_{k}^f\n",
    "    $$\n",
    "\n",
    "Questions\n",
    "\n",
    "  - what kinds of broadcasting in the calculation of response are possible? Can a parametric study be run in a vectorized form. For example, does it make sense that a simulation for a varied temperature is run within a single loop along the shared timeline?\n",
    "\n",
    "  - How to handle the \"as_explicit()\" convention for internal variables? Should all internal calculations within gsm be done on an expanded representation of the state?\n",
    "\n",
    "Todo\n",
    "\n",
    "  - polish the lambdified methods in gsm that were used for debugging - suggestion, use them in the construction\n",
    "    of the df_dlambda_ function to avoid replications while providing the direct access methods to these functions\n",
    "    for debugging\n",
    "\n",
    "  - run parallel simulations using grid response within the whole state domain - how does the state domain change for different temperatures and loading rates\n",
    "\n",
    "  - adapt the interface for the msx framework"
   ]
  },
  {
   "cell_type": "markdown",
   "metadata": {},
   "source": [
    "## Return mapping\n",
    "\n",
    "2024-06-16:\n",
    "In notebook [07_max_dissip_circular_domain.ipynb](07_max_dissip_circular_domain.ipynb), there is an initial attempt to introduce the new material state identification based on the maximum dissipation principles. The gradient of the energy dissipation should be zero, the hessian matrix is derived but it contains zeros at the diagonal so that an inversion is not possible. Task: check if it can be used together with the scheme derived manually for the slide problem.  "
   ]
  },
  {
   "cell_type": "markdown",
   "metadata": {},
   "source": [
    "## Ambient temperature\n",
    "\n",
    "The temperature rate is derived from the heat balance equation:\n",
    "$$\n",
    "\\dot{\\vartheta} = \\dot{\\bar{\\vartheta}} + \n",
    "$$\n",
    "The value of external temperature  "
   ]
  },
  {
   "cell_type": "markdown",
   "metadata": {},
   "source": []
  }
 ],
 "metadata": {
  "language_info": {
   "name": "python"
  }
 },
 "nbformat": 4,
 "nbformat_minor": 2
}
