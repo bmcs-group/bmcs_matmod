{
 "cells": [
  {
   "cell_type": "markdown",
   "metadata": {},
   "source": [
    "# Variational approach to continuum thermodynamics"
   ]
  },
  {
   "cell_type": "markdown",
   "metadata": {},
   "source": [
    "Gradient-driven minimization of the total energy potential which includes Maxwell viscoelasticity\n",
    "\n",
    "Consider a Helmholtz free energy as $\\Psi(\\varepsilon, \\mathcal{E})$ with $\\varepsilon$ representing the external strain variable and $\\mathcal{E}$ a vector of internal variables.\n",
    "\n",
    "The rate of the Helmholtz potential is given as\n",
    "$$\n",
    "\\dot{\\Psi} = \\frac{\\partial \\Psi}{\\partial \\varepsilon} \\dot{\\varepsilon}\n",
    "           + \\frac{\\partial \\Psi}{\\partial \\mathcal{E}} \\dot{\\mathcal{E}}\n",
    "           = \\frac{\\partial \\Psi}{\\partial \\varepsilon} \\dot{\\varepsilon}\n",
    "           - \\mathcal{S} : \\dot{\\mathcal{E}}\n",
    "           = \\mathcal{W}(\\varepsilon, \\mathcal{E}, \\dot{\\varepsilon})\n",
    "           - \\mathcal{D}(\\varepsilon, \\mathcal{E}, \\dot{\\mathcal{E}}),\n",
    "$$\n",
    "with $\\mathcal{S}$ and $\\mathcal{D}$ representing the thermodynamic forces and the dissipation rate, respectively."
   ]
  },
  {
   "cell_type": "markdown",
   "metadata": {},
   "source": [
    "## Principle of maximum dissipation (PMD)"
   ]
  },
  {
   "cell_type": "markdown",
   "metadata": {},
   "source": [
    "In adherence to the second law, the principle of maximum dissipation (PMD) is stated as follows\n",
    "$$\n",
    "\\max\\{\n",
    "    \\mathcal{D}(\\mathcal{E}, \\dot{\\mathcal{E})} \\| \\dot{\\mathcal{E}}; \\mathcal{D} = \\mathcal{S} : \\dot{\\mathcal{E}}\n",
    "    \\},\n",
    "$$\n",
    "which corresponds to the Lagrangian\n",
    "$$\n",
    "\\mathcal{L}_{\\dot{\\mathcal{E}}} = \\mathcal{D} + \\lambda (\\mathcal{D} - \\mathcal{S} : \\dot{\\mathcal{E}}).\n",
    "$$\n",
    "The maximum dissipation will be obtained for the viscous strain rendering the zero gradient\n",
    "$$\n",
    "\\frac{\\mathcal{L}_{\\dot{\\mathcal{E}}}}{\\partial \\dot{\\mathcal{E}}} = \\frac{\\partial \\mathcal{D}}{\\partial \\dot{\\mathcal{E}}} + \\lambda \\left(\\frac{\\partial \\mathcal{D}}{\\partial \\dot{\\mathcal{E}}} + \\mathcal{S} \\right) = 0\n",
    "$$\n",
    "By multiplying this equation with $\\dot{\\mathcal{E}}$ and substituting the product $\\mathcal{S} : \\dot{\\mathcal{E}}$ with the dissipation term $\\mathcal{D}$, we obtain after rearrangements\n",
    "$$\n",
    "\\mathcal{S} = \\frac{\\mathcal{D}}{ \\frac{\\partial \\mathcal{D}}{\\partial \\dot{\\mathcal{E}}} : \\dot{\\mathcal{E}}} \\frac{\\partial \\mathcal{D}}{\\partial \\dot{\\mathcal{E}}}\n",
    "$$\n"
   ]
  },
  {
   "cell_type": "markdown",
   "metadata": {},
   "source": [
    "## Minimization principle for dissipation potential (MPDP)"
   ]
  },
  {
   "cell_type": "markdown",
   "metadata": {},
   "source": [
    "It can be shown that the maximization of dissipation is equivalent to the minimization of the free energy rate given as\n",
    "$$\n",
    "\\min\\{ \\dot{\\Psi} \\| \\dot{\\mathcal{E}}; \\mathcal{D} = \\mathcal{S}: \\dot{\\mathcal{E}}  \\}.\n",
    "$$"
   ]
  },
  {
   "cell_type": "markdown",
   "metadata": {},
   "source": [
    "This equivalence motivated the introduction of the dissipation potential $\\Phi(\\mathcal{E}, \\dot{\\mathcal{E}}$). This potential represents the capacity of the model to dissipate energy postulated by the dissipative hypothesis. In contrast, the dissipation $\\mathcal{D}$ is the quantified dissipation energy.   \n",
    "\n",
    "With the dissipation capacity expressed by the potential $\\Phi$ at hand, the minimum principle of dissipation potential (MPDP) is introduced as\n",
    "$$\n",
    "\\Pi(\\varepsilon, \\mathcal{E}, \\dot{\\mathcal{E}}) = \\dot{\\Psi}(\\varepsilon, \\dot{\\varepsilon}, \\mathcal{E}, \\dot{\\mathcal{E}}) + \\Phi(\\mathcal{E}, \\dot{\\mathcal{E}}).\n",
    "$$"
   ]
  },
  {
   "cell_type": "markdown",
   "metadata": {},
   "source": [
    "The minimization can then be defined in an unconstrained form directly as\n",
    "$$\n",
    "\\min \\{ \\Pi(\\varepsilon, \\dot{\\varepsilon}, \\mathcal{E}, \\dot{\\mathcal{E}}) \\|\n",
    "\\dot{\\mathcal{E}}.\n",
    "\\}\n",
    "$$\n",
    "With reference to the first equation specifying the rate of Helmholtz energy, the corresponding Lagrangian then reads\n",
    "$$\n",
    "\\mathcal{L}_{\\dot{\\mathcal{E}}} = \n",
    "\\frac{\\partial \\Psi}{\\partial \\varepsilon} : \\dot{\\varepsilon} + \n",
    "\\frac{\\partial \\Psi}{\\partial \\mathcal{E}} : \\dot{\\mathcal{E}}\n",
    " + \\Phi,\n",
    "$$\n",
    "with the zero gradient attained at the minimum\n",
    "$$\n",
    "\\frac{\\partial \\mathcal{L}_{\\dot{\\mathcal{E}}}}{\\partial \\dot{\\mathcal{E}}} = \\frac{\\partial \\Psi}{\\partial \\mathcal{E}}\n",
    " + \\frac{\\partial \\Phi}{\\partial \\dot{\\mathcal{E}}} = -\\mathcal{S} + \\frac{\\partial \\Phi}{\\partial \\dot{\\mathcal{E}}} = 0 \\implies \n",
    " \\mathcal{S} = \\frac{\\partial \\Phi}{\\partial \\dot{\\mathcal{E}}}.\n",
    "$$"
   ]
  },
  {
   "cell_type": "markdown",
   "metadata": {},
   "source": [
    "Apparently, an inverse evolution equation has been rendered directly from the dissipation potential. The desired inverse relation can only be obtained once the particular shape of the dissipation potential has been specified."
   ]
  },
  {
   "cell_type": "markdown",
   "metadata": {},
   "source": [
    "## Equivalence of PMD and MPDP "
   ]
  },
  {
   "cell_type": "markdown",
   "metadata": {},
   "source": [
    "The question on how to define the dissipation potential for particular types of dissipative mechanisms such that it adheres to the thermodynamic principles is an intricate one. Criteria for the specification of the dissipation potential can be formulated by realizing that MPDP should be consistent with PMD. For both principles, we have derived an inverse evolution equations defining the thermodynamic forces as a function of dissipation rate $\\mathcal{D}$ and of the dissipation  potential $\\Phi$. By setting them equal, we obtain the equivalence:\n",
    "$$\n",
    "\\mathcal{S} =  \\frac{\\mathcal{D}}{ \\frac{\\partial \\mathcal{D}}{\\partial \\dot{\\mathcal{E}}} : \\dot{\\mathcal{E}}} \\frac{\\partial \\mathcal{D}}{\\partial \\dot{\\mathcal{E}}}\n",
    "= \\frac{\\partial \\Phi}{\\partial \\dot{\\mathcal{E}}}.\n",
    "$$"
   ]
  },
  {
   "cell_type": "markdown",
   "metadata": {},
   "source": [
    "Depending on the algebraic form of both potentials, i.e. homogeneity and order, compatible forms of the dissipation function derived from the free energy and of the dissipation potential can be derived."
   ]
  },
  {
   "cell_type": "markdown",
   "metadata": {},
   "source": [
    "## Example - viscoelastic model"
   ]
  },
  {
   "cell_type": "markdown",
   "metadata": {},
   "source": [
    "Let us now consider a viscoelastic model of Maxwell type with the Helmholtz free energy defined as\n",
    "$$\n",
    "\\Psi = \\frac{1}{2} E (\\varepsilon - \\varepsilon_\\mathrm{v})^2, \\; \\dot{\\varepsilon}_\\mathrm{v} = \\frac{\\sigma}{\\eta}\n",
    "$$\n",
    "where $\\varepsilon_\\mathrm{v}$ represents the only internal variable $\\mathcal{E} = [\\varepsilon_\\mathrm{v}]$.\n",
    "The dissipaion rate $\\mathcal{D}$ is given as\n",
    "$$\n",
    "\\mathcal{D} = \n",
    "- \\frac{\\partial \\Psi}{\\partial \\mathcal{E}} : \\dot{\\mathcal{E}}\n",
    "=\n",
    "- \\frac{\\partial \\Psi}{\\partial \\varepsilon_\\mathrm{v}} : \\dot{\\varepsilon_\\mathrm{v}}\n",
    "=\n",
    "E (\\varepsilon - \\varepsilon_\\mathrm{v}) \\dot{\\varepsilon_\\mathrm{v}} = \\sigma \\dot{\\varepsilon_\\mathrm{v}}.\n",
    "$$"
   ]
  },
  {
   "cell_type": "markdown",
   "metadata": {},
   "source": [
    "Thus, for a prescribed total strain $\\varepsilon$, the thermodynamic equilibrium will be reached for viscous strain $\\varepsilon_\\mathrm{v}$ maximizing the dissipation under the constraint $\\sigma = \\eta \\dot{\\varepsilon}_{\\mathrm{v}}$:"
   ]
  },
  {
   "cell_type": "markdown",
   "metadata": {},
   "source": [
    "$$\n",
    "\\max_{\\dot{\\varepsilon}_\\mathrm{v}} \\{ \\mathcal{D} \\| \\dot{\\varepsilon_\\mathrm{v}}; \\sigma = \\eta \\dot{\\varepsilon_\\mathrm{v}} \\}\n",
    "$$\n",
    "rendering the Lagrangian\n",
    "$$\n",
    "\\mathcal{L} = E(\\varepsilon - \\varepsilon_\\mathrm{v}) + \\lambda( E(\\varepsilon - \\varepsilon_\\mathrm{v}) - \\eta \\dot{\\varepsilon}_\\mathrm{v}) = 0, \\; \\lambda \\geq 0,  E(\\varepsilon - \\varepsilon_\\mathrm{v}) - \\eta \\dot{\\varepsilon}_\\mathrm{v} = 0\n",
    "$$"
   ]
  },
  {
   "cell_type": "markdown",
   "metadata": {},
   "source": [
    "Realising ghat \n",
    "$$\n",
    "\\frac{\\partial \\mathcal{D}}{\\partial \\dot{\\mathcal{E}}}  = \\sigma\n",
    "$$\n",
    "we can substitute into the inverse evolution equation derived using the PMD \n",
    "$$\n",
    "\\mathcal{S} =  \\frac{\\mathcal{D}}{ \\frac{\\partial \\mathcal{D}}{\\partial \\dot{\\mathcal{E}}} : \\dot{\\mathcal{E}}} \\frac{\\partial \\mathcal{D}}{\\partial \\dot{\\mathcal{E}}}\n",
    "=\n",
    "\\frac{\\sigma \\dot{\\varepsilon_\\mathrm{v}}}\n",
    "{\\sigma \\dot{\\varepsilon_\\mathrm{v}}}\n",
    "\\sigma,\n",
    "$$\n",
    "which is a tautology "
   ]
  },
  {
   "cell_type": "markdown",
   "metadata": {},
   "source": [
    "In the considered case of Maxwell viscoelasticity, we assume that there is a material-specific  ratio of the stress level and the viscous strain rate defining the viscosity modulus $\\eta$ as \n",
    "$$\n",
    "\\eta =  \\frac{\\sigma}{\\dot{\\varepsilon}_\\mathrm{v}} \\implies \\sigma = \\eta \\dot{\\varepsilon}_\\mathrm{v}.\n",
    "$$\n",
    "By substituting in into the inverse evolution equation we can cast into the desired shape\n",
    "$$\n",
    "\\mathcal{S} = \\eta \\dot{\\varepsilon_{\\mathrm{v}}}\n",
    "$$"
   ]
  },
  {
   "cell_type": "markdown",
   "metadata": {},
   "source": [
    "This means that\n",
    "$$\n",
    "\\mathcal{D} = \\eta \\dot{\\varepsilon}_\\mathrm{v}^2.\n",
    "$$  "
   ]
  },
  {
   "cell_type": "markdown",
   "metadata": {},
   "source": [
    "To construct the dissipation potential defining the evolution equations, let us recall that \n",
    "$$\n",
    "\\mathcal{S} = \\frac{\\partial \\Phi}{\\dot{\\mathcal{E}}}.\n",
    "$$\n",
    "Thus, to device the MPDM with a compatible dissipation potential we set \n",
    "$$\n",
    "\\Phi = \\frac{1}{2} \\eta \\dot{\\varepsilon_\\mathrm{v}}^2 \\implies \\sigma = \\eta \\dot{\\varepsilon_\\mathrm{v}}.\n",
    "$$"
   ]
  },
  {
   "cell_type": "markdown",
   "metadata": {},
   "source": [
    "To verify the equivalence with PMD, let us now verify the evolution equation obtained from the maximization of the dissipation. The derivative of the dissipation w.r.t. the rate of viscous strain is\n",
    "$$\n",
    "\\frac{\\partial \\mathcal{D}}{\\partial \\dot{\\varepsilon_\\mathrm{v}}} = 2 \\eta \\dot{\\varepsilon_\\mathrm{v}}.\n",
    "$$"
   ]
  },
  {
   "cell_type": "markdown",
   "metadata": {},
   "source": [
    "Substituting into the general expression specified above, we get"
   ]
  },
  {
   "cell_type": "markdown",
   "metadata": {},
   "source": [
    "$$\n",
    "\\mathcal{S} =  \\frac{\\mathcal{D}}{ \\frac{\\partial \\mathcal{D}}{\\partial \\dot{\\mathcal{E}}} : \\dot{\\mathcal{E}}} \\frac{\\partial \\mathcal{D}}{\\partial \\dot{\\mathcal{E}}}\n",
    "= \n",
    "\\frac{\n",
    "\\eta \\dot{\\varepsilon}_\\mathrm{v}^2\n",
    "}{\n",
    "2 \\eta \\dot{\\varepsilon_\\mathrm{v}} \\dot{\\varepsilon_\\mathrm{v}}    \n",
    "}\n",
    "2 \\eta \\dot{\\varepsilon_\\mathrm{v}}\n",
    "=\n",
    "\\eta \\dot{\\varepsilon_\\mathrm{v}}\n",
    "$$"
   ]
  },
  {
   "cell_type": "code",
   "execution_count": null,
   "metadata": {},
   "outputs": [],
   "source": [
    "%matplotlib widget\n",
    "import sympy as sp\n",
    "import numpy as np\n",
    "from scipy.optimize import minimize\n",
    "import matplotlib.pyplot as plt\n",
    "from bmcs_utils.api import Cymbol\n",
    "sp.init_printing()"
   ]
  },
  {
   "cell_type": "code",
   "execution_count": null,
   "metadata": {},
   "outputs": [],
   "source": [
    "# Define symbols\n",
    "Pi, Psi, Phi = sp.symbols('Pi Psi Phi')\n",
    "t, E, eta = sp.symbols('t E eta')\n",
    "sig, eps, eps_v= sp.symbols('sigma epsilon epsilon_v')\n",
    "dot_eps = Cymbol(r'\\dot{\\varepsilon}', codename='dot_eps')\n",
    "# Define the total strain as the sum of elastic and viscous parts\n",
    "eps_e_ = eps - eps_v\n",
    "dot_eps_v = Cymbol(r'\\dot{\\varepsilon}_\\mathrm{v}', codename='dot_eps_v')\n",
    "# Define Helmholtz free energy Psi\n",
    "Psi_ = sp.Rational(1,2) * E * eps_e_**2\n",
    "# Define dissipation potential Phi\n",
    "Phi_ = sp.Rational(1,2) * eta * dot_eps_v**2\n",
    "# Define the stress-strain relationship for the elastic part\n",
    "{Psi: Psi_, Phi: Phi_}"
   ]
  },
  {
   "cell_type": "markdown",
   "metadata": {},
   "source": [
    "## Time discretization and integration"
   ]
  },
  {
   "cell_type": "code",
   "execution_count": null,
   "metadata": {},
   "outputs": [],
   "source": [
    "dt = Cymbol('\\Delta t', codename='dt')\n",
    "eps_n = Cymbol(r'\\varepsilon^{(n)}', codename='eps_n')\n",
    "dot_eps_n = Cymbol(r'\\dot{\\varepsilon}^{(n)}', codename='dot_eps_n')\n",
    "eps_v_n = Cymbol(r'\\varepsilon_\\mathrm{v}^{(n)}', codename='eps_v_n')\n",
    "dot_eps_v_n = Cymbol(r'\\dot{\\varepsilon}_\\mathrm{v}^{(n)}', codename='dot_eps_v_n')"
   ]
  },
  {
   "cell_type": "markdown",
   "metadata": {},
   "source": [
    "The minimization of the dissipation potential is done for an increment $\\Delta \\Pi$ defined in the time interval $\\Delta t$. This requires an integration over the increment $t \\in (t_n, t_{n+1})$, where $t_{n+1} = t_{n} + \\Delta t$.\n",
    "\n",
    "$$\n",
    "\\Delta \\Pi = \\int_{t_n}^{t_{n+1}} \\dot{\\Psi} \\, \\mathrm{d}t\n",
    "+ \\int_{t_n}^{t_{n+1}} \\dot{\\Phi} \\, \\mathrm{d}t\n",
    "$$\n",
    "\n",
    "$$\n",
    "\\Delta \\Pi = \\Psi(t_{n+1}) - \\Psi(t_n) \n",
    "+ \\int_{t_n}^{t_{n+1}} \\dot{\\Phi} \\, \\mathrm{d}t\n",
    "$$\n",
    "\n",
    "$$\n",
    "\\Delta \\Pi = \\Psi(\\varepsilon_{n+1}, \\mathcal{E}_{n+1}) \n",
    "           - \\Psi(\\varepsilon_{n}, \\mathcal{E}_{n}) \n",
    "+ \\Delta t \\Phi(\\mathcal{E}_n, \\dot{\\mathcal{E}}_n)\n",
    "$$\n"
   ]
  },
  {
   "cell_type": "markdown",
   "metadata": {},
   "source": [
    "### Version 1 - forward Euler"
   ]
  },
  {
   "cell_type": "code",
   "execution_count": null,
   "metadata": {},
   "outputs": [],
   "source": [
    "# Substitute time discretization and integration into the expression for increment of potential energy\n",
    "subs_n0 = {eps: eps_n, dot_eps: dot_eps_n, eps_v: eps_v_n, dot_eps_v: dot_eps_v_n}\n",
    "subs_n1 = {eps: eps_n + dot_eps_n * dt, eps_v: eps_v_n + dot_eps_v_n * dt, dot_eps_v: dot_eps_v_n}\n",
    "delta_Pi_ = (Psi_.subs(subs_n1) \n",
    "           - Psi_.subs(subs_n0) \n",
    "           + dt * Phi_.subs(subs_n0))\n",
    "ddelta_Pi_ddot_eps_v_ = sp.diff(delta_Pi_, dot_eps_v_n)\n",
    "# Lambdify the expressions\n",
    "get_delta_Pi_x = sp.lambdify((eps_n, dot_eps_n, eps_v_n, dot_eps_v_n, dt, E, eta), \n",
    "                           delta_Pi_, 'numpy', cse=True)\n",
    "get_ddelta_Pi_ddot_eps_v_x = sp.lambdify((eps_n, dot_eps_n, eps_v_n, dot_eps_v_n, dt, E, eta), \n",
    "                                       ddelta_Pi_ddot_eps_v_, 'numpy', cse=True)\n",
    "delta_Pi_, ddelta_Pi_ddot_eps_v_"
   ]
  },
  {
   "cell_type": "markdown",
   "metadata": {},
   "source": [
    "## Backward Euler integration scheme"
   ]
  },
  {
   "cell_type": "code",
   "execution_count": null,
   "metadata": {},
   "outputs": [],
   "source": [
    "D_ = sp.simplify(-Psi_.diff(eps_v) * dot_eps_v)\n",
    "W_ = sp.simplify(Psi_.diff(eps) * dot_eps)\n",
    "dot_Psi_ = W_ - D_\n",
    "Pi_ = -dot_Psi_ + Phi_\n",
    "dPi_dEps_ = sp.diff(Pi_, dot_eps_v_n)\n",
    "subs_n1 = {eps: eps_n + dot_eps_n * dt, dot_eps: dot_eps_n, eps_v: eps_v_n + dot_eps_v_n * dt, dot_eps_v: dot_eps_v_n}\n",
    "delta_Pi_ = Pi_.subs(subs_n1)\n",
    "ddelta_Pi_dEps_ = sp.diff(delta_Pi_, dot_eps_v_n)\n",
    "# Lambdify the expressions\n",
    "get_delta_Pi = sp.lambdify((eps_n, dot_eps_n, eps_v_n, dot_eps_v_n, dt, E, eta), \n",
    "                           delta_Pi_, 'numpy', cse=True) \n",
    "get_ddelta_Pi_dEps = sp.lambdify((eps_n, dot_eps_n, eps_v_n, dot_eps_v_n, dt, E, eta), \n",
    "                                 ddelta_Pi_dEps_, 'numpy', cse=True)  \n",
    "delta_Pi_, delta_Pi_, ddelta_Pi_dEps_"
   ]
  },
  {
   "cell_type": "markdown",
   "metadata": {},
   "source": [
    "# Backward Euler and Dissipation"
   ]
  },
  {
   "cell_type": "code",
   "execution_count": null,
   "metadata": {},
   "outputs": [],
   "source": [
    "# Substitute the time discretization and integration\n",
    "# Substitute time discretization and integration into the expression for increment of potential energy\n",
    "# subs_n0 = {eps: eps_n, dot_eps: dot_eps_n, eps_v: eps_v_n, dot_eps_v: dot_eps_v_n}\n",
    "subs_n1 = {eps: eps_n + dot_eps_n * dt, eps_v: eps_v_n + dot_eps_v_n * dt, dot_eps_v: dot_eps_v_n}\n",
    "delta_D_ = D_.subs(subs_n1)\n",
    "ddelta_D_dEps_ = sp.diff(delta_D_, dot_eps_v_n)\n",
    "# Lambdify the expressions\n",
    "get_delta_D = sp.lambdify((eps_n, dot_eps_n, eps_v_n, dot_eps_v_n, dt, E, eta), \n",
    "                           delta_D_, 'numpy', cse=True) \n",
    "get_ddelta_D_dEps = sp.lambdify((eps_n, dot_eps_n, eps_v_n, dot_eps_v_n, dt, E, eta), \n",
    "                                 ddelta_D_dEps_, 'numpy', cse=True)  \n",
    "D_, delta_D_, ddelta_D_dEps_"
   ]
  },
  {
   "cell_type": "code",
   "execution_count": null,
   "metadata": {},
   "outputs": [],
   "source": [
    "fig, ax = plt.subplots(1,1)\n",
    "eps_v_range = np.linspace(-1, 4, 100)\n",
    "d_t = 0.001\n",
    "ax.plot(eps_v_range, get_delta_Pi(0.1, 0, 0, eps_v_range, d_t, 30000, 3000), color='green', label='Pi')\n",
    "ax.plot(eps_v_range, get_delta_Pi_x(0.1, 0, 0, eps_v_range, d_t, 30000, 3000), color='blue', label='Pi_x')\n",
    "#ax.plot(eps_v_range, get_delta_D(0.1, 0, 0, eps_v_range, d_t, 30000, 3000), color='red', label='D')\n",
    "ax.legend() "
   ]
  },
  {
   "cell_type": "code",
   "execution_count": null,
   "metadata": {},
   "outputs": [],
   "source": [
    "# Time integrator for viscoelasticity\n",
    "def time_integrator(eps_t, d_t, E, eta):\n",
    "    d_eps_t = np.diff(eps_t, axis=0)\n",
    "    d_t_t = d_t * np.ones_like(d_eps_t)\n",
    "    dot_eps_t = d_eps_t / d_t_t\n",
    "\n",
    "    n_steps = len(eps_t)\n",
    "    eps_v_t = np.zeros(n_steps)\n",
    "    sig_t = np.zeros(n_steps)\n",
    "    dot_eps_v_next = 0\n",
    "\n",
    "    for i, d_t in enumerate(d_t_t):\n",
    "        \n",
    "        def objective(x):\n",
    "            dot_eps_v, = x\n",
    "            Pi_val = get_delta_Pi(eps_t[i], dot_eps_t[i], eps_v_t[i], dot_eps_v, d_t, E, eta)\n",
    "            return Pi_val\n",
    "        \n",
    "        def gradient(x):\n",
    "            dot_eps_v, = x\n",
    "            return np.array([get_ddelta_Pi_ddot_eps_v(eps_t[i], dot_eps_t[i], eps_v_t[i], dot_eps_v, d_t, E, eta)])\n",
    "        \n",
    "        res = minimize(objective, [dot_eps_v_next],\n",
    "                       jac=gradient,\n",
    "                       bounds=[(None, None)], \n",
    "                       method='L-BFGS-B')\n",
    "        \n",
    "        dot_eps_v_next = res.x[0]\n",
    "        eps_v_t[i+1] = eps_v_t[i] + dot_eps_v_next * d_t\n",
    "        sig_t[i+1] = E * (eps_t[i+1] - eps_v_t[i+1])\n",
    "    \n",
    "    return eps_t, eps_v_t, sig_t"
   ]
  },
  {
   "cell_type": "code",
   "execution_count": null,
   "metadata": {},
   "outputs": [],
   "source": [
    "# Example usage\n",
    "E_val = 210e3  # Young's modulus in MPa\n",
    "eta_val = 10e+5  # Viscosity modulus in Pa / s\n",
    "d_t = 0.01  # Time step in seconds\n",
    "final_time = 10  # Final time in seconds\n",
    "\n",
    "# Generate cyclic sinusoidal loading history\n",
    "time = np.arange(0, final_time, d_t)\n",
    "eps_t_2_cycles = 0.01 * np.sin(2 * np.pi * 0.5 * time / final_time)  # 2 cycles\n",
    "eps_t_4_cycles = 0.01 * np.sin(2 * np.pi * 4 * time / final_time)  # 4 cycles\n",
    "\n",
    "# Compute responses for both loading histories\n",
    "eps_t_2, eps_v_t_2, sig_t_2 = time_integrator(eps_t_2_cycles, d_t, E_val, eta_val)\n",
    "eps_t_4, eps_v_t_4, sig_t_4 = time_integrator(eps_t_4_cycles, d_t, E_val, eta_val)\n",
    "eps_e_t_2 = eps_t_2 - eps_v_t_2\n",
    "eps_e_t_4 = eps_t_4 - eps_v_t_4"
   ]
  },
  {
   "cell_type": "code",
   "execution_count": null,
   "metadata": {},
   "outputs": [],
   "source": [
    "# Plot results\n",
    "plt.figure(figsize=(8, 12))\n",
    "\n",
    "plt.subplot(4, 1, 1)\n",
    "plt.plot(time, eps_t_2_cycles, label='Total Strain (2 cycles)')\n",
    "plt.plot(time, eps_e_t_2, label='Elastic Strain (2 cycles)')\n",
    "plt.plot(time, eps_v_t_2, label='Viscous Strain (2 cycles)')\n",
    "plt.xlabel('Time [s]')\n",
    "plt.ylabel('Strain')\n",
    "plt.legend()\n",
    "plt.title('Strain Components for 2 Cycles')\n",
    "\n",
    "plt.subplot(4, 1, 2)\n",
    "plt.plot(time, eps_t_4_cycles, label='Total Strain (4 cycles)')\n",
    "plt.plot(time, eps_e_t_4, label='Elastic Strain (4 cycles)')\n",
    "plt.plot(time, eps_v_t_4, label='Viscous Strain (4 cycles)')\n",
    "plt.xlabel('Time [s]')\n",
    "plt.ylabel('Strain')\n",
    "plt.legend()\n",
    "plt.title('Strain Components for 4 Cycles')\n",
    "\n",
    "plt.subplot(4, 1, 3)\n",
    "plt.plot(time, sig_t_2, label='Stress (2 cycles)')\n",
    "plt.plot(time, sig_t_4, label='Stress (4 cycles)')\n",
    "plt.xlabel('Time [s]')\n",
    "plt.ylabel('Stress [Pa]')\n",
    "plt.legend()\n",
    "plt.title('Stress Response for Different Loading Rates')\n",
    "\n",
    "plt.subplot(4, 1, 4)\n",
    "plt.plot(eps_t_2_cycles, sig_t_2, label='Stress-strain (2 cycles)')\n",
    "plt.plot(eps_t_4_cycles, sig_t_4, label='Stress-Strain (4 cycles)')\n",
    "plt.xlabel('Strain [-]')\n",
    "plt.ylabel('Stress [Pa]')\n",
    "plt.legend()\n",
    "plt.title('Stress Response for Different Loading Rates')\n",
    "\n",
    "plt.tight_layout()\n",
    "plt.show()"
   ]
  },
  {
   "cell_type": "code",
   "execution_count": null,
   "metadata": {},
   "outputs": [],
   "source": [
    "# Let's visualize the stress versus strain curves from the previous example using matplotlib\n",
    "plt.figure(figsize=(8, 6)) # Create a new figure\n",
    "plt.plot(eps_t_2, sig_t_2, label='Stress-strain (2 cycles)') # Plot the stress-strain curve for 2 cycles\n",
    "plt.plot(eps_t_4, sig_t_4, label='Stress-strain (4 cycles)') # Plot the stress-strain curve for 4 cycles \n",
    "plt.xlabel('Strain [-]') # Set the x-axis label\n",
    "plt.ylabel('Stress [Pa]') # Set the y-axis label\n",
    "plt.legend() # Show the legend\n",
    "plt.title('Stress-strain response for different loading rates') # Set the title\n",
    "plt.show() # Show the plot\n"
   ]
  },
  {
   "cell_type": "markdown",
   "metadata": {},
   "source": [
    "## PMD: Equivalence with minimization of free energy rate\n",
    "\n",
    "Considering the maximization principle of dissipation potential used in variational approaches in thermodynamics, the total potential function is constructed as a sum of the free energy rate and of the dissipation potential, representing a dissipation capacity expressed in the rates of the internal variables. The logic behind this principle is as follows: \n",
    "\n",
    "Based on the second law of thermodynamics, given a a prescribed change in external variables $\\varepsilon$, we search for the next stable state of a system by identifying the internal state variables $\\mathcal{E}$ that maximize the system's entropy. The maximization of entropy is equivalent to the maximization of the energy dissipation. Given the Helmholtz free energy $\\Psi(\\varepsilon, \\mathcal{E}$, the energy dissipation is given as \n",
    "$$\n",
    "\\mathcal{D} = - \\frac{\\partial \\Psi}{\\partial \\mathcal{E}} \\dot{\\mathcal{E}}\n",
    "$$\n",
    "This term is part of the free energy rate, as \n",
    "$$\n",
    " \\dot{\\Psi} = \\frac{\\partial \\Psi}{\\partial \\varepsilon} \\dot{\\varepsilon} +\n",
    "                  \\frac{\\partial \\Psi}{\\partial \\mathcal{E}} \\dot{\\mathcal{E}}  \n",
    "$$\n",
    "which corresponds to  \n",
    "$$\n",
    " \\dot{\\Psi} = \\mathcal{W} - \\mathcal{D}.\n",
    "$$\n",
    "As a consequence, the maximization of $\\mathcal{D}$ is equivalent to minimization of free energy rate $\\dot{\\Psi}$ to identify the updated values of $\\mathcal{E}$, let's denote them $\\mathcal{E}_{n+1}$, for prescribed values of external variables $\\varepsilon_{n+1}$. The Lagrangian of both optimization problems, i.e. for $\\mathcal{D}$ and $\\dot{\\Psi}$ is equivalent. \n"
   ]
  },
  {
   "cell_type": "markdown",
   "metadata": {},
   "source": [
    "## GPT feedback\n",
    "\n",
    "Your description and reasoning regarding the integration of thermodynamic principles, particularly using dissipation potential and variational approaches, are generally correct and reflect a coherent approach to modeling thermodynamic processes in terms of maximizing entropy or dissipation, and analyzing the rate of free energy. Let's break down the key points to confirm your understanding:\n",
    "\n",
    "### Key Components\n",
    "\n",
    "1. **Dissipation Potential ($\\mathcal{D}$)**:\n",
    "   - The dissipation potential represents the energy dissipative processes. It's derived through the entropy production principle and is expressed as:\n",
    "     $$\n",
    "     \\mathcal{D} = - \\frac{\\partial \\Psi}{\\partial \\mathcal{E}} \\dot{\\mathcal{E}}\n",
    "     $$\n",
    "   - This captures how internal state variables ($\\mathcal{E}$) evolve through dissipative mechanisms.\n",
    "\n",
    "2. **Rate of Helmholtz Free Energy ($\\dot{\\Psi}$)**:\n",
    "   - The decomposition into separate terms for external work and internal dissipation:\n",
    "     $$\n",
    "     \\dot{\\Psi} = \\frac{\\partial \\Psi}{\\partial \\varepsilon} \\dot{\\varepsilon} + \\frac{\\partial \\Psi}{\\partial \\mathcal{E}} \\dot{\\mathcal{E}}\n",
    "     $$\n",
    "     $$\n",
    "     \\dot{\\Psi} = \\mathcal{W} - \\mathcal{D}\n",
    "     $$\n",
    "   - Here, $\\mathcal{W}$ represents work rate, and subtraction of $\\mathcal{D}$ reflects energy balance principles where $\\dot{\\Psi}$ maintains thermodynamic consistency.\n",
    "\n",
    "3. **Maximization and Minimization Principles**:\n",
    "   - **Maximization of Dissipation ($\\mathcal{D}$)**: Seeks to identify the evolution of $\\mathcal{E}$ by maximizing the system’s entropy, justifying the dissipation's prominence.\n",
    "   - **Minimization of Free Energy Rate ($\\dot{\\Psi}$)**: Equivalent to maximizing dissipation potential ($\\mathcal{D}$), thus finding stable states by predicting energy dissipated in evolving states.\n",
    "\n",
    "4. **Equivalent Lagrangian**:\n",
    "   - The optimization problem here translates into a Lagrangian that, regardless of the focus on $\\mathcal{D}$ (maximization) or $\\dot{\\Psi}$ (minimization), serves to encapsulate the stabilization or equilibrium-seeking principles via variational methods:\n",
    "     - Treating the variability and stationarity of functional derivatives respects both intrinsic and extrinsic energetic pathways.\n",
    "\n",
    "### Verification and Confirmation\n",
    "\n",
    "- **Second Law Consistency**: Your concept that maximization of dissipation aligns with maximizing entropy and minimizing free energy rate resonates with the second law of thermodynamics, ensuring that these functions represent internal resistance to changes prescribed externally.\n",
    "\n",
    "- **Variational Equivalence**: By stating the Lagrangian optimization, you intuitively assemble a coherent mechanism where maximization and minimization objectives align to encapsulate state evolution toward equilibrium or stability.\n",
    "\n",
    "Overall, your reasoning forms a substantial basis when linking thermodynamic principles with variational/calculate approaches, especially integrating dissipative process modeling with energy stability. Affinities here ensure the process interpretation and simulations effectively conform with both theoretical constructs and practical modeling paradigms."
   ]
  },
  {
   "cell_type": "markdown",
   "metadata": {},
   "source": [
    "## MPDP: Criterion for dissipation potential "
   ]
  },
  {
   "cell_type": "markdown",
   "metadata": {},
   "source": [
    "Ok, now when considering the maximization principle of dissipation potential the second version of the optimization problem, i.e. minimization of $ \\dot{\\Psi} $ is extended with the dissipation potential $\\Phi$ to form the total potential energy $\\Pi$ which is now the goal function to be minimized. I suppose that this addition must be done in such a way that the the minimum value is attained  at the same point $\\mathcal{E}$ both for the goal function $\\dot{\\Psi}$ and for $\\Pi$, right? Thus, the formulation of a suitable dissipation potential must fulfill this criterion. Is this understanding correct?"
   ]
  },
  {
   "cell_type": "markdown",
   "metadata": {},
   "source": [
    "## GPT Feedback\n",
    "\n",
    "Your understanding of the integration of the dissipation potential into the optimization framework is indeed well-aligned with the principles of variational thermodynamics. You're correct in noting that when the dissipation potential $\\Phi$ is added to form the total potential $\\Pi$, the formulation should maintain consistency such that the minima correspond to the same state $\\mathcal{E}$ for both the rate of change of Helmholtz free energy $\\dot{\\Psi}$ and the newly constructed total potential $\\Pi$. Let's delve deeper into this:\n",
    "\n",
    "### Understanding the Goal Function $\\Pi$\n",
    "\n",
    "1. **Total Potential Energy $\\Pi$**:\n",
    "   - Constructed by integrating the dissipation potential $\\Phi$ into the original minimization problem:\n",
    "     $$\n",
    "     \\Pi = \\dot{\\Psi} + \\Phi = \\mathcal{W} - \\mathcal{D} + \\Phi\n",
    "     $$\n",
    "   - The objective is that $\\Pi$ represents the system's total potential in a manner that includes dissipative effects.\n",
    "\n",
    "2. **Consistency in Minimization**:\n",
    "   - Both $\\dot{\\Psi}$ and $\\Pi$ should reach minimum values at the same internal state $\\mathcal{E}_{n+1}$.\n",
    "   - This requirement ensures that the physical process characterized by maximum dissipation (or equivalently, minimal free energy rate) is accurately captured by the extended functional.\n",
    "\n",
    "3. **Role of Dissipation Potential $\\Phi$**:\n",
    "   - $\\Phi$ acts to modify the free energy rate $\\dot{\\Psi}$ to reflect the system's dissipation in a comprehensive manner.\n",
    "   - The formulation of $\\Phi$ must be constructed so that its effect augments only the dissipative nature without altering the intrinsic character of the minimal state inappropriately.\n",
    "\n",
    "### Formulation Criteria\n",
    "\n",
    "To assure that the inclusion of $\\Phi$ achieves this goal, the following must hold:\n",
    "\n",
    "- **Thermodynamic Consistency**: $\\Phi$ should respect the second law, ensuring non-negative dissipation and consistent rate formulations.\n",
    "- **Stationarity**: The variational derivative of $\\Pi$ with respect to $\\mathcal{E}$ must satisfy:\n",
    "  $$\n",
    "  \\frac{\\delta \\Pi}{\\delta \\mathcal{E}} = 0\n",
    "  $$\n",
    "  - This condition must naturally lead to the equation governing the evolution of $\\mathcal{E}$ that you originally used for $\\dot{\\Psi}$.\n",
    "\n",
    "- **Dissipation Potential Match**: Properly constructed $\\Phi$ should ensure alignment with the constitutive relations of $\\dot{\\Psi}$, reinforcing the stationarity condition universally across specified scenarios.\n",
    "\n",
    "### Conclusion\n",
    "\n",
    "The integration of the dissipation potential into the minimization principle is essential for addressing the distribution of dissipative processes correctly. Your approach captures the essence of this balance by ensuring that any optimization reflects both equilibrium aspirations (via energy minimization) and dissipative realism (enforcing thermodynamic laws). Hence, your understanding and setup establish a robust framework to capture both reversible and irreversible material or system responses accurately within a thermodynamic context."
   ]
  },
  {
   "cell_type": "markdown",
   "metadata": {},
   "source": [
    "## What is the motivation for using MDPD over PMD?\n",
    "\n",
    "Introducing the dissipation potential $\\Phi$ provides several crucial benefits that enhance the formulation of the optimization problem in capturing the full spectrum of thermodynamic processes in a system. While minimizing $\\dot{\\Psi}$ (the rate of change of the Helmholtz free energy) might seem sufficient at first glance, the integration of the dissipation potential introduces essential attributes and refinements.\n",
    "\n",
    "### Added Value of the Dissipation Potential $\\Phi$\n",
    "\n",
    "1. **Explicit Representation of Dissipation**:\n",
    "   - **Energy Partitioning**: $\\Phi$ explicitly accounts for the dissipative mechanisms within the system, offering a clearer partition between reversible processes (captured by $\\Psi$) and irreversible processes (captured by $\\Phi$).\n",
    "   - This helps in understanding which parts of the energy changes are recoverable and which are lost due to dissipation.\n",
    "\n",
    "2. **Complex Interactions and Nonlinearity**:\n",
    "   - **Nonlinear and Rate-Dependent Effects**: Including $\\Phi$ can provide a more detailed depiction of material behaviors, particularly for rate-dependent processes like viscous flow or plastic yielding. It captures intricate interactions between the state variables more accurately.\n",
    "\n",
    "3. **Thermodynamic Consistency**:\n",
    "   - Ensures adherence to the second law of thermodynamics, mandating non-negative dissipation ($\\Phi \\geq 0$) and promoting entropy generation management. $\\Phi$ serves to complement the energy minimization by demanding conformance with thermodynamic irreversibility principles.\n",
    "\n",
    "4. **Generalization of Material Behavior**:\n",
    "   - Allows coupling of multiple dissipative phenomena within a single cohesive framework. For example, viscoelasticity, viscoplasticity, and damage can be incorporated systematically and accurately.\n",
    "\n",
    "### Limitations of Minimizing $\\dot{\\Psi}$ Alone\n",
    "\n",
    "1. **Implicit Dissipation**:\n",
    "   - $\\dot{\\Psi}$ alone might treat dissipation implicitly without directly providing its governing influence or magnitude explicitly within the formulation.\n",
    "  \n",
    "2. **Reduced Framework Scalability**:\n",
    "   - In more complex materials with multiple internal processes, solving only for $\\dot{\\Psi}$ might not effectively accommodate or distinguish interactions of diverse dissipative mechanisms, like various relaxation times or transient behaviors.\n",
    "\n",
    "3. **Simplification Assumptions**:\n",
    "   - Focusing on $\\dot{\\Psi}$ exclusively may necessitate assumptions or oversights about non-rate processes, limiting the applicability and generality of the model to diverse physical scenarios.\n",
    "\n",
    "### Conclusion\n",
    "\n",
    "The integration of $\\Phi$ enriches the modeling and analytical capabilities, ensuring a more comprehensive account of both reversible energy changes and irreversible energy losses. It enables a more rigorous and generalized approach to understanding and predicting system responses under various conditions, exceeding the descriptive capacity of minimizing $\\dot{\\Psi}$ alone. Therefore, $\\Phi$ supports a framework where the full range of thermodynamic processes is not only implied but explicitly and coherently integrated within the formulation."
   ]
  },
  {
   "cell_type": "markdown",
   "metadata": {},
   "source": [
    "## Dissipation increment\n",
    "\n",
    "In order to quantify the dissipation increment within a time increment\n",
    "$$\n",
    " t_{n+1} = t_{n} + \\Delta t_{n}\n",
    "$$\n",
    "that correspond to the discrete values of the internal variables\n",
    "$$\n",
    "\\mathcal{E}_{n+1} = \\mathcal{E}_{n} +  \\Delta t \\dot{\\mathcal{E}}_n\n",
    "$$\n",
    "Now, the second law of thermodynamics requires that the dissipation \n",
    "$$\n",
    "\\mathcal{D} = - \\frac{\\partial \\Psi}{\\partial \\mathcal{E}} \\dot{\\mathcal{E}}\n",
    "$$\n",
    "is maximized along the variable $\\dot{\\mathcal{E_n}}$ delivering the value $\\mathcal{E}_{n+1}$ at $t_{n+1} = t_{n} + \\Delta t_{n}$. When substituting the discretized values of internal variables into the dissipation functional\n",
    "$$\n",
    "\\mathcal{D}_{n+1}(\\mathcal{E}_{n}, \\dot{\\mathcal{E}_n})\n",
    "$$\n",
    "we obtain a linear function in $\\dot{\\mathcal{E}}$. Therefore, I suppose that the maximization must be done on an interval and not just by taking the value of \\mathcal{E}.\n",
    "$$\n",
    "\\Delta \\mathcal{D}_{n+1} = \\int_{t_{n}}^{t_{n+1}} \n",
    "\\mathcal{D}_{n+1}(\\mathcal{E}_{n}, \\dot{\\mathcal{E}_n}) \\, dt\n",
    "$$\n",
    "which would render a quadratic function in $\\dot{\\mathcal{E}}$."
   ]
  },
  {
   "cell_type": "markdown",
   "metadata": {},
   "source": [
    "Certainly! The backward Euler scheme is an implicit integration method often used in numerical computations for its stability, particularly in stiff systems such as those encountered in viscoelastic or viscoplastic material modeling. Using this scheme, you can more reliably quantify the dissipation increment over a given time step.\n",
    "\n",
    "### Quantifying Dissipation Using Backward Euler Scheme\n",
    "\n",
    "The backward Euler scheme updates internal variables based on their value at the end of the time increment, thereby enhancing numerical stability. Below is the breakdown of implementing this method to quantify dissipation:\n",
    "\n",
    "#### Formulating Internal Variable Update\n",
    "\n",
    "1. **Time Increment**:\n",
    "   - The backward Euler update formula for the internal variables $\\mathcal{E}$ over the time increment $[t_n, t_{n+1}]$ is given by:\n",
    "     $$\n",
    "     \\mathcal{E}_{n+1} = \\mathcal{E}_n + \\Delta t \\, \\dot{\\mathcal{E}}_{n+1}\n",
    "     $$\n",
    "   - Here, $\\dot{\\mathcal{E}}_{n+1}$ is the rate of change evaluated at the end of the step, which improves stability over explicit methods.\n",
    "\n",
    "#### Dissipation Increment Calculation\n",
    "\n",
    "2. **Dissipation Functional**:\n",
    "   - The dissipation potential, captured at $t_{n+1}$, affects energy dissipation quantification:\n",
    "     $$\n",
    "     \\mathcal{D}_{n+1} = - \\frac{\\partial \\Psi}{\\partial \\mathcal{E}} \\bigg|_{\\mathcal{E} = \\mathcal{E}_{n+1}} \\dot{\\mathcal{E}}_{n+1}\n",
    "     $$\n",
    "\n",
    "3. **Integration over Time Step**:\n",
    "   - The dissipation increment $\\Delta \\mathcal{D}_{n+1}$ over the interval is given as:\n",
    "     $$\n",
    "     \\Delta \\mathcal{D}_{n+1} \\approx \\Delta t \\, \\mathcal{D}_{n+1}\n",
    "     $$\n",
    "\n",
    "4. **Implications of Implicit Formulation**:\n",
    "   - By assuming the dissipation rate $\\mathcal{D}_{n+1}$ relies on the updated values of the state variables, the system inherently accounts for feedback and interdependencies better than explicit schemes, ensuring robust behavior especially under conditions where rapid changes can cause convergence difficulties.\n",
    "\n",
    "### Solving the Optimization Problem\n",
    "\n",
    "5. **Optimization**:\n",
    "   - Solve for $\\dot{\\mathcal{E}}_{n+1}$ by maximizing the dissipation potential:\n",
    "     - Utilize any constraints on $\\dot{\\mathcal{E}}$ derived from physical laws or material characteristics to ensure realistic outcomes.\n",
    "\n",
    "6. **Stability and Convergence**:\n",
    "   - Implement iterative solvers (such as Newton-Raphson) to handle nonlinear dependencies effectively, which may arise from evaluating gradients and Hessians with respect to $\\dot{\\mathcal{E}}_{n+1}$.\n",
    "   - Regularization terms may be incorporated into the optimization problem if convergence issues or non-physical solutions are encountered.\n",
    "\n",
    "### Conclusion\n",
    "\n",
    "The backward Euler method enhances stability when incrementally quantifying dissipation by effectively evaluating system behavior using state updates at the latest time. This provides improved prediction and movement towards thermodynamic equilibrium across transformations while accommodating realistic evaluations embedded within system dynamics."
   ]
  },
  {
   "cell_type": "markdown",
   "metadata": {},
   "source": [
    "## Backward-Euler time integration scheme and MDPDP model\n",
    "\n",
    "Your approach to evaluating the total potential $\\Delta \\Pi$ over a time interval $(t_n, t_{n+1})$ by integrating the rate of change of the Helmholtz free energy $\\dot{\\Psi}$ and the dissipation potential $\\dot{\\Phi}$ is generally correct. Let’s assess the reasoning and ensure that the method aligns with thermodynamic consistency, especially in light of using a backward Euler scheme for numerical integration.\n",
    "\n",
    "### Evaluation of $\\Delta \\Pi$\n",
    "\n",
    "1. **Integration Concept**:\n",
    "   - The integral over the time interval for $\\dot{\\Psi}$ and $\\dot{\\Phi}$ suggests evaluating how the system’s potential evolves across $\\Delta t$.\n",
    "\n",
    "2. **Final Expression for $\\Delta \\Pi$**:\n",
    "   - You correctly relate the total change in potential to variations in free energy and accumulated dissipation:\n",
    "     $$\n",
    "     \\Delta \\Pi = \\Psi(\\varepsilon_{n+1}, \\mathcal{E}_{n+1}) - \\Psi(\\varepsilon_{n}, \\mathcal{E}_{n}) + \\Delta t \\Phi(\\mathcal{E}_n, \\dot{\\mathcal{E}}_n)\n",
    "     $$\n",
    "\n",
    "### Backward Euler Consistency\n",
    "\n",
    "Using the backward Euler scheme, evaluating quantities at the end of the time step enhances stability. The final expression should account for the potential computation accurately:\n",
    "\n",
    "- **Backward Euler Application**: \n",
    "   - Especially ensuring that anything that indirectly affects $\\mathcal{E}_{n+1}$ or contributes nonlinearly should be reflected in the formulation evaluated at $t_{n+1}$.\n",
    "\n",
    "### Refinements and Considerations\n",
    "\n",
    "1. **Dissipation Potential Evaluation**:\n",
    "   - The use of $\\Phi(\\mathcal{E}_n, \\dot{\\mathcal{E}}_n)$ in: \n",
    "     $$\n",
    "     \\Delta t \\Phi(\\mathcal{E}_n, \\dot{\\mathcal{E}}_n)\n",
    "     $$\n",
    "   - Must appropriately transition or update to $\\Phi(\\mathcal{E}_{n+1}, \\dot{\\mathcal{E}}_{n+1})$, aligning all evaluated derivatives in the increment to the updated state.\n",
    "\n",
    "2. **Implicit Formulation Compatibility**:\n",
    "   - Ensure that wherever $\\dot{\\Phi}$ is approximated, it reflects at $n+1$ step for time integration coherence.\n",
    "   - This correction aligns evaluations with implicit integration principles matching backward Euler stability.\n",
    "\n",
    "3. **Numerical Verification**:\n",
    "   - Validate that your discretization through backward Euler on $\\Delta \\Pi$ consistently traverses dissipation pathways and constraints derived from thermodynamic laws, reflecting within system evolution goals effectively.\n",
    "\n",
    "### Conclusion\n",
    "\n",
    "The proposal to use backward Euler alignment with dissipation principles, by updating considerations at $t_{n+1}$, ensures your calculations inherently handle nonlinearity and feedback loops that emerge within thermodynamic transformations. By aligning with these steps, $\\Delta \\Pi$ achieves integration consistency for physical system applications under exploration."
   ]
  },
  {
   "cell_type": "code",
   "execution_count": null,
   "metadata": {},
   "outputs": [],
   "source": [
    "D_ = sp.simplify(-Psi_.diff(eps_v) * dot_eps_v)\n",
    "W_ = sp.simplify(Psi_.diff(eps) * dot_eps)\n",
    "dot_Psi_ = W_ - D_\n",
    "# Substitute the time discretization and integration\n",
    "# Substitute time discretization and integration into the expression for increment of potential energy\n",
    "# subs_n0 = {eps: eps_n, dot_eps: dot_eps_n, eps_v: eps_v_n, dot_eps_v: dot_eps_v_n}\n",
    "subs_n1 = {eps: eps_n + dot_eps_n * dt, eps_v: eps_v_n + dot_eps_v_n * dt, dot_eps_v: dot_eps_v_n}\n",
    "delta_D_ = dt * D_.subs(subs_n1)\n",
    "ddelta_D_dEps_ = sp.diff(delta_D_, dot_eps_v_n)\n",
    "# Lambdify the expressions\n",
    "get_delta_D = sp.lambdify((eps_n, dot_eps_n, eps_v_n, dot_eps_v_n, dt, E, eta), \n",
    "                           delta_D_, 'numpy', cse=True) \n",
    "get_ddelta_D_dEps = sp.lambdify((eps_n, dot_eps_n, eps_v_n, dot_eps_v_n, dt, E, eta), \n",
    "                                 ddelta_D_dEps_, 'numpy', cse=True)  \n",
    "D_, delta_D_, ddelta_D_dEps_"
   ]
  },
  {
   "cell_type": "markdown",
   "metadata": {},
   "source": [
    "Certainly! Let's consider a two-variable function $ f(x, y) $ and a single constraint linking the variables $ x $ and $ y $. We will solve a constrained optimization problem with an equality constraint using the Lagrange multipliers method. \n",
    "\n",
    "Suppose we have the following function that we want to optimize:\n",
    "\n",
    "$$ f(x, y) = x^2 + y^2 $$\n",
    "\n",
    "subject to the equality constraint:\n",
    "\n",
    "$$ g(x, y) = x - y = 0 $$\n",
    "\n",
    "To solve this constrained optimization problem, we follow these steps:\n",
    "\n",
    "1. **Formulate the Lagrangian:**\n",
    "The Lagrangian function for this problem is given by:\n",
    "\n",
    "$$ L(x, y, \\lambda) = f(x, y) - \\lambda g(x, y) $$\n",
    "\n",
    "Substitute the given function and constraint into the Lagrangian:\n",
    "\n",
    "$$ L(x, y, \\lambda) = x^2 + y^2 - \\lambda(x - y) $$\n",
    "\n",
    "2. **Find the Critical Points:**\n",
    "Calculate the partial derivatives of the Lagrangian with respect to $ x $, $ y $, and $ \\lambda $ and set them equal to zero to find the critical points.\n",
    "   - Partial derivative with respect to $ x $:\n",
    "\n",
    "     $$ \\frac{\\partial L}{\\partial x} = 2x - \\lambda = 0 $$\n",
    "\n",
    "   - Partial derivative with respect to $ y $:\n",
    "\n",
    "     $$ \\frac{\\partial L}{\\partial y} = 2y + \\lambda = 0 $$\n",
    "\n",
    "   - Partial derivative with respect to $ \\lambda $ (to enforce the constraint):\n",
    "\n",
    "     $$ \\frac{\\partial L}{\\partial \\lambda} = x - y = 0 $$\n",
    "\n",
    "3. **Solve the System of Equations:**\n",
    "Solve the system of equations created by setting the partial derivatives to zero to find the optimal values of $ x $, $ y $, and $ \\lambda $ that optimize the function while satisfying the equality constraint.\n",
    "\n",
    "4. **Evaluate the Function:**\n",
    "Once the optimal values for $ x $ and $ y $ are found, evaluate the function $ f(x, y) $ at these values to obtain the optimized value of the function subject to the constraint $ x - y = 0 $.\n",
    "\n",
    "By following these steps and applying the Lagrange multipliers method, you can solve a constrained optimization problem of a function $ f(x, y) $ with a single constraint linking the variables $ x $ and $ y $."
   ]
  },
  {
   "cell_type": "markdown",
   "metadata": {},
   "source": [
    "## Inequality constraint \n",
    "\n",
    "Certainly! Let's consider a two-variable function $ f(x, y) $ with a single inequality constraint linking the variables $ x $ and $ y $. We will solve a constrained optimization problem with an inequality constraint using the Lagrange multipliers method.\n",
    "\n",
    "Suppose we have the following function that we want to optimize:\n",
    "\n",
    "$$ f(x, y) = x^2 + y^2 $$\n",
    "\n",
    "subject to the inequality constraint:\n",
    "\n",
    "$$ g(x, y) = x - y \\leq 0 $$\n",
    "\n",
    "To solve this constrained optimization problem, we modify the Lagrangian function to account for the inequality constraint:\n",
    "\n",
    "1. **Formulate the Modified Lagrangian:**\n",
    "\n",
    "The Lagrangian function for this problem is given by:\n",
    "\n",
    "$$ L(x, y, \\lambda) = f(x, y) - \\lambda g(x, y) $$\n",
    "\n",
    "Incorporate the given function and inequality constraint into the Lagrangian:\n",
    "\n",
    "$$ L(x, y, \\lambda) = x^2 + y^2 - \\lambda (x - y) $$\n",
    "\n",
    "2. **Find the Critical Points:**\n",
    "\n",
    "Calculate the partial derivatives of the Lagrangian with respect to $ x $, $ y $, and $ \\lambda $ and set them equal to zero to find the critical points.\n",
    "   - Partial derivative with respect to $ x $:\n",
    "\n",
    "     $$ \\frac{\\partial L}{\\partial x} = 2x - \\lambda = 0 $$\n",
    "\n",
    "   - Partial derivative with respect to $ y $:\n",
    "\n",
    "     $$ \\frac{\\partial L}{\\partial y} = 2y + \\lambda = 0 $$\n",
    "\n",
    "   - Partial derivative with respect to $ \\lambda $ (to account for the inequality constraint):\n",
    "   \n",
    "     $$ \\lambda (x - y) = 0 $$\n",
    "     $$ x - y \\leq 0 $$\n",
    "     $$ \\lambda \\geq 0 $$\n",
    "\n",
    "3. **Solve the System of Equations:**\n",
    "\n",
    "Solve the system of equations created by setting the partial derivatives to zero while considering the inequality constraint and non-negativity constraint on $ \\lambda $ to find the optimal values of $ x $, $ y $, and $ \\lambda $ that optimize the function under the inequality constraint.\n",
    "\n",
    "4. **Evaluate the Function:**\n",
    "\n",
    "Once the optimal values for $ x $ and $ y $ are found, evaluate the function $ f(x, y) $ at these values to obtain the optimized value of the function subject to the inequality constraint $ x - y \\leq 0 $.\n",
    "\n",
    "By utilizing the Lagrange multipliers method and considering the inequality constraint, you can solve a constrained optimization problem of a function $ f(x, y) $ with an inequality constraint between the variables $ x $ and $ y $."
   ]
  },
  {
   "cell_type": "markdown",
   "metadata": {},
   "source": []
  }
 ],
 "metadata": {
  "kernelspec": {
   "display_name": "bmcs_env2",
   "language": "python",
   "name": "python3"
  },
  "language_info": {
   "codemirror_mode": {
    "name": "ipython",
    "version": 3
   },
   "file_extension": ".py",
   "mimetype": "text/x-python",
   "name": "python",
   "nbconvert_exporter": "python",
   "pygments_lexer": "ipython3"
  }
 },
 "nbformat": 4,
 "nbformat_minor": 2
}
