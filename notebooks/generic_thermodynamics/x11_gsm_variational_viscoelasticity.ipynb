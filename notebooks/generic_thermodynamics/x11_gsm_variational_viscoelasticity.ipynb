{
 "cells": [
  {
   "cell_type": "markdown",
   "metadata": {},
   "source": [
    "# Variational approach to continuum thermodynamics"
   ]
  },
  {
   "cell_type": "markdown",
   "metadata": {},
   "source": [
    "Gradient-driven minimization of the total energy potential which includes Maxwell viscoelasticity\n",
    "\n",
    "Consider a Helmholtz free energy as $\\Psi(\\varepsilon, \\mathcal{E})$ with $\\varepsilon$ representing the external strain variable and $\\mathcal{E}$ a vector of internal variables.\n",
    "\n",
    "The rate of the Helmholtz potential is given as\n",
    "$$\n",
    "\\dot{\\Psi} = \\frac{\\partial \\Psi}{\\partial \\varepsilon} \\dot{\\varepsilon}\n",
    "           + \\frac{\\partial \\Psi}{\\partial \\mathcal{E}} \\dot{\\mathcal{E}}\n",
    "           = \\frac{\\partial \\Psi}{\\partial \\varepsilon} \\dot{\\varepsilon}\n",
    "           - \\mathcal{S} : \\dot{\\mathcal{E}}\n",
    "           = \\frac{\\partial \\Psi}{\\partial \\varepsilon} \\dot{\\varepsilon}\n",
    "           - \\mathcal{D}(\\mathcal{E}, \\dot{\\mathcal{E}}),\n",
    "$$\n",
    "with $\\mathcal{S}$ and $\\mathcal{D}$ representing the thermodynamic forces and the dissipation rate, respectively."
   ]
  },
  {
   "cell_type": "markdown",
   "metadata": {},
   "source": [
    "## Principle of maximum dissipation (PMD)"
   ]
  },
  {
   "cell_type": "markdown",
   "metadata": {},
   "source": [
    "In adherence to the second law, the principle of maximum dissipation (PMD) is stated as follows\n",
    "$$\n",
    "\\max\\{\n",
    "    \\mathcal{D}(\\mathcal{E}, \\dot{\\mathcal{E})} \\| \\dot{\\mathcal{E}}; \\mathcal{D} = \\mathcal{S} : \\dot{\\mathcal{E}}\n",
    "    \\},\n",
    "$$\n",
    "which corresponds to the Lagrangian\n",
    "$$\n",
    "\\mathcal{L}_{\\dot{\\mathcal{E}}} = \\mathcal{D} + \\lambda (\\mathcal{D} - \\mathcal{S} : \\dot{\\mathcal{E}}).\n",
    "$$\n",
    "The maximum dissipation will be obtained for the viscous strain rendering the zero gradient\n",
    "$$\n",
    "\\frac{\\mathcal{L}_{\\dot{\\mathcal{E}}}}{\\partial \\dot{\\mathcal{E}}} = \\frac{\\partial \\mathcal{D}}{\\partial \\dot{\\mathcal{E}}} + \\lambda \\left(\\frac{\\partial \\mathcal{D}}{\\partial \\dot{\\mathcal{E}}} + \\mathcal{S} \\right) = 0\n",
    "$$\n",
    "By multiplying this equation with $\\dot{\\mathcal{E}}$ and substituting the product $\\mathcal{S} : \\dot{\\mathcal{E}}$ with the dissipation term $\\mathcal{D}$, we obtain after rearrangements\n",
    "$$\n",
    "\\mathcal{S} = \\frac{\\mathcal{D}}{ \\frac{\\partial \\mathcal{D}}{\\partial \\dot{\\mathcal{E}}} : \\dot{\\mathcal{E}}} \\frac{\\partial \\mathcal{D}}{\\partial \\dot{\\mathcal{E}}}\n",
    "$$\n"
   ]
  },
  {
   "cell_type": "markdown",
   "metadata": {},
   "source": [
    "## Minimization principle for dissipation potential (MPDP)"
   ]
  },
  {
   "cell_type": "markdown",
   "metadata": {},
   "source": [
    "It can be shown that the maximization of dissipation is equivalent to the minimization of the free energy rate given as\n",
    "$$\n",
    "\\min\\{ \\dot{\\Psi} \\| \\dot{\\mathcal{E}}; \\mathcal{D} = \\mathcal{S}: \\dot{\\mathcal{E}}  \\}.\n",
    "$$"
   ]
  },
  {
   "cell_type": "markdown",
   "metadata": {},
   "source": [
    "This equivalence motivated the introduction of the dissipation potential $\\Phi(\\mathcal{E}, \\dot{\\mathcal{E}}$). This potential represents the capacity of the model to dissipate energy postulated by the dissipative hypothesis. In contrast, the dissipation $\\mathcal{D}$ is the quantified dissipation energy.   \n",
    "\n",
    "With the dissipation capacity expressed by the potential $\\Phi$ at hand, the minimum principle of dissipation potential (MPDP) is introduced as\n",
    "$$\n",
    "\\Pi(\\varepsilon, \\mathcal{E}, \\dot{\\mathcal{E}}) = \\dot{\\Psi}(\\varepsilon, \\dot{\\varepsilon}, \\mathcal{E}, \\dot{\\mathcal{E}}) + \\Phi(\\mathcal{E}, \\dot{\\mathcal{E}}).\n",
    "$$"
   ]
  },
  {
   "cell_type": "markdown",
   "metadata": {},
   "source": [
    "The minimization can then be defined in an unconstrained form directly as\n",
    "$$\n",
    "\\min \\{ \\Pi(\\varepsilon, \\dot{\\varepsilon}, \\mathcal{E}, \\dot{\\mathcal{E}}) \\|\n",
    "\\dot{\\mathcal{E}}.\n",
    "\\}\n",
    "$$\n",
    "With reference to the first equation specifying the rate of Helmholtz energy, the corresponding Lagrangian then reads\n",
    "$$\n",
    "\\mathcal{L}_{\\dot{\\mathcal{E}}} = \n",
    "\\frac{\\partial \\Psi}{\\partial \\varepsilon} : \\dot{\\varepsilon} + \n",
    "\\frac{\\partial \\Psi}{\\partial \\mathcal{E}} : \\dot{\\mathcal{E}}\n",
    " + \\Phi,\n",
    "$$\n",
    "with the zero gradient attained at the minimum\n",
    "$$\n",
    "\\frac{\\partial \\mathcal{L}_{\\dot{\\mathcal{E}}}}{\\partial \\dot{\\mathcal{E}}} = \\frac{\\partial \\Psi}{\\partial \\mathcal{E}}\n",
    " + \\frac{\\partial \\Phi}{\\partial \\dot{\\mathcal{E}}} = -\\mathcal{S} + \\frac{\\partial \\Phi}{\\partial \\dot{\\mathcal{E}}} = 0 \\implies \n",
    " \\mathcal{S} = \\frac{\\partial \\Phi}{\\partial \\dot{\\mathcal{E}}}.\n",
    "$$"
   ]
  },
  {
   "cell_type": "markdown",
   "metadata": {},
   "source": [
    "Apparently, an inverse evolution equation has been rendered directly from the dissipation potential. The desired inverse relation can only be obtained once the particular shape of the dissipation potential has been specified."
   ]
  },
  {
   "cell_type": "markdown",
   "metadata": {},
   "source": [
    "## Equivalence of PMD and MPDP "
   ]
  },
  {
   "cell_type": "markdown",
   "metadata": {},
   "source": [
    "The question on how to define the dissipation potential for particular types of dissipative mechanisms such that it adheres to the thermodynamic principles is an intricate one. Criteria for the specification of the dissipation potential can be formulated by realizing that MPDP should be consistent with PMD. For both principles, we have derived an inverse evolution equations defining the thermodynamic forces as a function of dissipation rate $\\mathcal{D}$ and of the dissipation  potential $\\Phi$. By setting them equal, we obtain the equivalence:\n",
    "$$\n",
    "\\mathcal{S} =  \\frac{\\mathcal{D}}{ \\frac{\\partial \\mathcal{D}}{\\partial \\dot{\\mathcal{E}}} : \\dot{\\mathcal{E}}} \\frac{\\partial \\mathcal{D}}{\\partial \\dot{\\mathcal{E}}}\n",
    "= \\frac{\\partial \\Phi}{\\partial \\dot{\\mathcal{E}}}.\n",
    "$$"
   ]
  },
  {
   "cell_type": "markdown",
   "metadata": {},
   "source": [
    "Depending on the algebraic form of both potentials, i.e. homogeneity and order, compatible forms of the dissipation function derived from the free energy and of the dissipation potential can be derived."
   ]
  },
  {
   "cell_type": "markdown",
   "metadata": {},
   "source": [
    "## Example - viscoelastic model"
   ]
  },
  {
   "cell_type": "markdown",
   "metadata": {},
   "source": [
    "Let us now consider a viscoelastic model of Maxwell type with the Helmholtz free energy defined as\n",
    "$$\n",
    "\\Psi = \\frac{1}{2} E (\\varepsilon - \\varepsilon_\\mathrm{v})^2,\n",
    "$$\n",
    "where $\\varepsilon_\\mathrm{v}$ represents the only internal variable $\\mathcal{E} = [\\varepsilon_\\mathrm{v}]$.\n",
    "The dissipaion rate $\\mathcal{D}$ is given as\n",
    "$$\n",
    "\\dot{\\mathcal{D}} = \n",
    "\\frac{\\partial \\Psi}{\\partial \\mathcal{E}} : \\dot{\\mathcal{E}}\n",
    "=\n",
    "\\frac{\\partial \\Psi}{\\partial \\varepsilon_\\mathrm{v}} : \\dot{\\varepsilon_\\mathrm{v}}\n",
    "=\n",
    "E (\\varepsilon - \\varepsilon_\\mathrm{v}) \\dot{\\varepsilon_\\mathrm{v}} = \\sigma \\dot{\\varepsilon_\\mathrm{v}}.\n",
    "$$"
   ]
  },
  {
   "cell_type": "markdown",
   "metadata": {},
   "source": [
    "In the considered case of Maxwell viscoelasticity, we know that the strain rate at the constant stress level is inversely proportianal to the viscosity parameter $\\eta$, i.e. \n",
    "$$\n",
    "\\dot{\\varepsilon}_\\mathrm{v} = \\frac{\\sigma}{\\eta} \\implies \\sigma = \\eta \\dot{\\varepsilon}_\\mathrm{v}.\n",
    "$$"
   ]
  },
  {
   "cell_type": "markdown",
   "metadata": {},
   "source": [
    "This means that\n",
    "$$\n",
    "\\mathcal{D} = \\eta \\dot{\\varepsilon}_\\mathrm{v}^2.\n",
    "$$  "
   ]
  },
  {
   "cell_type": "markdown",
   "metadata": {},
   "source": [
    "To construct the dissipation potential defining the evolution equations, let us recall that \n",
    "$$\n",
    "\\mathcal{S} = \\frac{\\partial \\Phi}{\\dot{\\mathcal{E}}}.\n",
    "$$\n",
    "Thus, to device the MPDM with a compatible dissipation potential we set \n",
    "$$\n",
    "\\Phi = \\frac{1}{2} \\eta \\dot{\\varepsilon_\\mathrm{v}}^2 \\implies \\sigma = \\eta \\dot{\\varepsilon_\\mathrm{v}}.\n",
    "$$"
   ]
  },
  {
   "cell_type": "markdown",
   "metadata": {},
   "source": [
    "To verify the equivalence with PMD, let us now verify the evolution equation obtained from the maximization of the dissipation. The derivative of the dissipation w.r.t. the rate of viscous strain is\n",
    "$$\n",
    "\\frac{\\partial \\mathcal{D}}{\\partial \\dot{\\varepsilon_\\mathrm{v}}} = 2 \\eta \\dot{\\varepsilon_\\mathrm{v}}.\n",
    "$$"
   ]
  },
  {
   "cell_type": "markdown",
   "metadata": {},
   "source": [
    "Substituting into the general expression specified above, we get"
   ]
  },
  {
   "cell_type": "markdown",
   "metadata": {},
   "source": [
    "$$\n",
    "\\mathcal{S} =  \\frac{\\mathcal{D}}{ \\frac{\\partial \\mathcal{D}}{\\partial \\dot{\\mathcal{E}}} : \\dot{\\mathcal{E}}} \\frac{\\partial \\mathcal{D}}{\\partial \\dot{\\mathcal{E}}}\n",
    "= \n",
    "\\frac{\n",
    "\\eta \\dot{\\varepsilon}_\\mathrm{v}^2\n",
    "}{\n",
    "2 \\eta \\dot{\\varepsilon_\\mathrm{v}} \\dot{\\varepsilon_\\mathrm{v}}    \n",
    "}\n",
    "2 \\eta \\dot{\\varepsilon_\\mathrm{v}}\n",
    "=\n",
    "\\eta \\dot{\\varepsilon_\\mathrm{v}}\n",
    "$$"
   ]
  },
  {
   "cell_type": "code",
   "execution_count": null,
   "metadata": {},
   "outputs": [],
   "source": [
    "%matplotlib widget\n",
    "import sympy as sp\n",
    "import numpy as np\n",
    "from scipy.optimize import minimize\n",
    "import matplotlib.pyplot as plt\n",
    "from bmcs_utils.api import Cymbol\n",
    "sp.init_printing()"
   ]
  },
  {
   "cell_type": "code",
   "execution_count": null,
   "metadata": {},
   "outputs": [],
   "source": [
    "# Define symbols\n",
    "Pi, Psi, Phi, sig = sp.symbols('Pi Psi Phi sig')\n",
    "t, E, eta = sp.symbols('t E eta')\n",
    "sig, eps, eps_v= sp.symbols('sigma epsilon epsilon_v')\n",
    "dot_eps = Cymbol(r'\\dot{\\varepsilon}', codename='dot_eps')\n",
    "# Define the total strain as the sum of elastic and viscous parts\n",
    "eps_e_ = eps - eps_v\n",
    "dot_eps_v = Cymbol(r'\\dot{\\varepsilon}_\\mathrm{v}', codename='dot_eps_v')\n",
    "# Define Helmholtz free energy Psi\n",
    "Psi_ = sp.Rational(1,2) * E * eps_e_**2\n",
    "# Define dissipation potential Phi\n",
    "Phi_ = sp.Rational(1,2) * eta * dot_eps_v**2\n",
    "# Define the stress-strain relationship for the elastic part\n",
    "sig_ = E * eps_e_\n",
    "{Psi: Psi_, Phi: Phi_, sig: sig_}"
   ]
  },
  {
   "cell_type": "code",
   "execution_count": null,
   "metadata": {},
   "outputs": [],
   "source": [
    "D_ = sp.simplify(-Psi_.diff(eps_v) * dot_eps_v)\n",
    "dot_Psi_ = sp.simplify(Psi_.diff(eps) * dot_eps - D_)\n",
    "dot_Psi_, D_"
   ]
  },
  {
   "cell_type": "markdown",
   "metadata": {},
   "source": [
    "## Time discretization and integration"
   ]
  },
  {
   "cell_type": "code",
   "execution_count": null,
   "metadata": {},
   "outputs": [],
   "source": [
    "dt = Cymbol('\\Delta t', codename='dt')\n",
    "eps_n = Cymbol(r'\\varepsilon^{(n)}', codename='eps_n')\n",
    "eps_v_n = Cymbol(r'\\varepsilon_\\mathrm{v}^{(n)}', codename='eps_v_n')\n",
    "dot_eps_n = Cymbol(r'\\dot{\\varepsilon}^{(n)}', codename='dot_eps_n')\n",
    "dot_eps_v_n = Cymbol(r'\\dot{\\varepsilon}_\\mathrm{v}^{(n)}', codename='dot_eps_v_n')"
   ]
  },
  {
   "cell_type": "markdown",
   "metadata": {},
   "source": [
    "The minimization of the dissipation potential is done for an increment $\\Delta \\Pi$ defined in the time interval $\\Delta t$. This requires an integration over the increment $t \\in (t_n, t_{n+1})$, where $t_{n+1} = t_{n} + \\Delta t$.\n",
    "\n",
    "$$\n",
    "\\Delta \\Pi = \\int_{t_n}^{t_{n+1}} \\dot{\\Psi} \\, \\mathrm{d}t\n",
    "+ \\int_{t_n}^{t_{n+1}} \\dot{\\Phi} \\, \\mathrm{d}t\n",
    "$$\n",
    "\n",
    "$$\n",
    "\\Delta \\Pi = \\Psi(t_{n+1}) - \\Psi(t_n) \n",
    "+ \\int_{t_n}^{t_{n+1}} \\dot{\\Phi} \\, \\mathrm{d}t\n",
    "$$\n",
    "\n",
    "$$\n",
    "\\Delta \\Pi = \\Psi(\\varepsilon_{n+1}, \\mathcal{E}_{n+1}) \n",
    "           - \\Psi(\\varepsilon_{n}, \\mathcal{E}_{n}) \n",
    "+ \\Delta t \\Phi(\\mathcal{E}_n, \\dot{\\mathcal{E}}_n)\n",
    "$$\n"
   ]
  },
  {
   "cell_type": "code",
   "execution_count": null,
   "metadata": {},
   "outputs": [],
   "source": [
    "delta_Pi_ = (Psi_.subs({eps: eps_n + dot_eps_n * dt, eps_v: eps_v_n + dot_eps_v_n * dt}) \n",
    "         - Psi_.subs({eps: eps_n, eps_v: eps_v_n}) + dt * Phi_.subs(dot_eps_v, dot_eps_v_n))\n",
    "ddelta_Pi_ddot_eps_v_ = sp.diff(delta_Pi_, dot_eps_v_n)\n",
    "delta_Pi_.collect(dt) "
   ]
  },
  {
   "cell_type": "code",
   "execution_count": null,
   "metadata": {},
   "outputs": [],
   "source": [
    "get_delta_Pi = sp.lambdify((eps_n, dot_eps_n, eps_v_n, dot_eps_v_n, dt, E, eta), \n",
    "                           delta_Pi_, 'numpy', cse=True)\n",
    "get_ddelta_Pi_ddot_eps_v = sp.lambdify((eps_n, dot_eps_n, eps_v_n, dot_eps_v_n, dt, E, eta), \n",
    "                                       ddelta_Pi_ddot_eps_v_, 'numpy', cse=True)"
   ]
  },
  {
   "cell_type": "code",
   "execution_count": null,
   "metadata": {},
   "outputs": [],
   "source": [
    "Pi_ = (Psi_ + Phi_*dt).subs({eps_v: eps_v_n+dot_eps_v_n*dt, dot_eps_v: dot_eps_v_n})\n",
    "dPi_ddot_eps_v_ = sp.diff(Pi_, dot_eps_v_n)\n",
    "dPi_ddot_eps_v_"
   ]
  },
  {
   "cell_type": "code",
   "execution_count": null,
   "metadata": {},
   "outputs": [],
   "source": [
    "# Lambdify the functions\n",
    "get_Pi = sp.lambdify((eps, eps_v_n, dot_eps_v_n, dt, E, eta), Pi_, 'numpy', cse=True)\n",
    "# Lambdify the derivatives\n",
    "get_dPi_ddot_eps_v = sp.lambdify((eps, eps_v_n, dot_eps_v_n, dt, E, eta), dPi_ddot_eps_v_, 'numpy', cse=True)"
   ]
  },
  {
   "cell_type": "code",
   "execution_count": null,
   "metadata": {},
   "outputs": [],
   "source": [
    "fig, ax = plt.subplots(1,1)\n",
    "eps_v_range = np.linspace(-3, 20, 100)\n",
    "ax.plot(eps_v_range, get_Pi(0.1, 0, eps_v_range, 0.01, 30000, 0.1), color='blue', label='Pi')\n",
    "# ax.plot(eps_v_range, get_Pi_t_dt(0.1, 0, 0, eps_v_range, 0.01, 30000, 0.001), color='red', label='dPi_ddot_eps_v')\n",
    "ax.plot(eps_v_range, get_delta_Pi(0.1, 0, 0, eps_v_range, 0.01, 30000, 0.1), color='green', label='Pi_t_dt')\n",
    "ax.plot(eps_v_range, get_ddelta_Pi_ddot_eps_v(0.1, 0, 0, eps_v_range, 0.01, 30000, 0.1), color='orange', label='dPi_t_dt_ddot_eps_v')\n",
    "ax.legend() "
   ]
  },
  {
   "cell_type": "code",
   "execution_count": null,
   "metadata": {},
   "outputs": [],
   "source": [
    "# Time integrator for viscoelasticity\n",
    "def time_integrator(eps_t, E, eta, delta_t):\n",
    "    d_eps_t = np.diff(eps_t, axis=0)\n",
    "    d_t_t = delta_t * np.ones_like(d_eps_t)\n",
    "\n",
    "    n_steps = len(eps_t)\n",
    "    eps_v_t = np.zeros(n_steps)\n",
    "    sig_t = np.zeros(n_steps)\n",
    "    dot_eps_v_next = 0\n",
    "    for i in range(1, n_steps):\n",
    "        eps_v_prev = eps_v_t[i-1]\n",
    "        \n",
    "        def objective(x):\n",
    "            dot_eps_v, = x\n",
    "            Pi_val = get_Pi(eps_t[i], eps_v_prev, dot_eps_v, dt, E, eta)\n",
    "            return Pi_val\n",
    "        \n",
    "        def gradient(x):\n",
    "            dot_eps_v, = x\n",
    "            return np.array([get_dPi_ddot_eps_v(eps_t[i], eps_v_prev, dot_eps_v, dt, E, eta)])\n",
    "        \n",
    "        res = minimize(objective, [dot_eps_v_next],\n",
    "                       jac=gradient,\n",
    "                       bounds=[(None, None)], \n",
    "                       method='L-BFGS-B')\n",
    "        \n",
    "        dot_eps_v_next = res.x[0]\n",
    "        eps_v_t[i] = eps_v_prev + dot_eps_v_next * dt\n",
    "        sig_t[i] = E * (eps_t[i] - eps_v_t[i])\n",
    "    \n",
    "    return eps_t, eps_v_t, sig_t"
   ]
  },
  {
   "cell_type": "code",
   "execution_count": null,
   "metadata": {},
   "outputs": [],
   "source": [
    "# Time integrator for viscoelasticity\n",
    "def time_integrator2(eps_t, E, eta, d_t):\n",
    "    d_eps_t = np.diff(eps_t, axis=0)\n",
    "    d_t_t = d_t * np.ones_like(d_eps_t)\n",
    "    dot_eps_t = d_eps_t / d_t_t\n",
    "\n",
    "    n_steps = len(eps_t)\n",
    "    eps_v_t = np.zeros(n_steps)\n",
    "    sig_t = np.zeros(n_steps)\n",
    "    dot_eps_v_next = 0\n",
    "\n",
    "    for i, d_t in enumerate(d_t_t):\n",
    "        \n",
    "        def objective(x):\n",
    "            dot_eps_v, = x\n",
    "            Pi_val = get_delta_Pi(eps_t[i], dot_eps_t[i], eps_v_t[i], dot_eps_v, d_t, E, eta)\n",
    "            return Pi_val\n",
    "        \n",
    "        def gradient(x):\n",
    "            dot_eps_v, = x\n",
    "            return np.array([get_ddelta_Pi_ddot_eps_v(eps_t[i], dot_eps_t[i], eps_v_t[i], dot_eps_v, d_t, E, eta)])\n",
    "        \n",
    "        res = minimize(objective, [dot_eps_v_next],\n",
    "                       jac=gradient,\n",
    "                       bounds=[(None, None)], \n",
    "                       method='L-BFGS-B')\n",
    "        \n",
    "        dot_eps_v_next = res.x[0]\n",
    "        eps_v_t[i+1] = eps_v_t[i] + dot_eps_v_next * dt\n",
    "        sig_t[i+1] = E * (eps_t[i+1] - eps_v_t[i+1])\n",
    "    \n",
    "    return eps_t, eps_v_t, sig_t"
   ]
  },
  {
   "cell_type": "code",
   "execution_count": null,
   "metadata": {},
   "outputs": [],
   "source": [
    "# Example usage\n",
    "E_val = 210e3  # Young's modulus in MPa\n",
    "eta_val = 10e+5  # Viscosity modulus in Pa / s\n",
    "dt = 0.01  # Time step in seconds\n",
    "final_time = 10  # Final time in seconds\n",
    "\n",
    "# Generate cyclic sinusoidal loading history\n",
    "time = np.arange(0, final_time, dt)\n",
    "eps_t_2_cycles = 0.01 * np.sin(2 * np.pi * 1 * time / final_time)  # 2 cycles\n",
    "eps_t_4_cycles = 0.01 * np.sin(2 * np.pi * 4 * time / final_time)  # 4 cycles\n",
    "\n",
    "# Compute responses for both loading histories\n",
    "eps_t_2, eps_v_t_2, sig_t_2 = time_integrator(eps_t_2_cycles, E_val, eta_val, dt)\n",
    "eps_t_4, eps_v_t_4, sig_t_4 = time_integrator2(eps_t_4_cycles, E_val, eta_val, dt)\n",
    "eps_e_t_2 = eps_t_2 - eps_v_t_2\n",
    "eps_e_t_4 = eps_t_4 - eps_v_t_4"
   ]
  },
  {
   "cell_type": "code",
   "execution_count": null,
   "metadata": {},
   "outputs": [],
   "source": [
    "# Plot results\n",
    "plt.figure(figsize=(8, 12))\n",
    "\n",
    "plt.subplot(4, 1, 1)\n",
    "plt.plot(time, eps_t_2_cycles, label='Total Strain (2 cycles)')\n",
    "plt.plot(time, eps_e_t_2, label='Elastic Strain (2 cycles)')\n",
    "plt.plot(time, eps_v_t_2, label='Viscous Strain (2 cycles)')\n",
    "plt.xlabel('Time [s]')\n",
    "plt.ylabel('Strain')\n",
    "plt.legend()\n",
    "plt.title('Strain Components for 2 Cycles')\n",
    "\n",
    "plt.subplot(4, 1, 2)\n",
    "plt.plot(time, eps_t_4_cycles, label='Total Strain (4 cycles)')\n",
    "plt.plot(time, eps_e_t_4, label='Elastic Strain (4 cycles)')\n",
    "plt.plot(time, eps_v_t_4, label='Viscous Strain (4 cycles)')\n",
    "plt.xlabel('Time [s]')\n",
    "plt.ylabel('Strain')\n",
    "plt.legend()\n",
    "plt.title('Strain Components for 4 Cycles')\n",
    "\n",
    "plt.subplot(4, 1, 3)\n",
    "plt.plot(time, sig_t_2, label='Stress (2 cycles)')\n",
    "plt.plot(time, sig_t_4, label='Stress (4 cycles)')\n",
    "plt.xlabel('Time [s]')\n",
    "plt.ylabel('Stress [Pa]')\n",
    "plt.legend()\n",
    "plt.title('Stress Response for Different Loading Rates')\n",
    "\n",
    "plt.subplot(4, 1, 4)\n",
    "plt.plot(eps_t_2_cycles, sig_t_2, label='Stress-strain (2 cycles)')\n",
    "plt.plot(eps_t_4_cycles, sig_t_4, label='Stress-Strain (4 cycles)')\n",
    "plt.xlabel('Strain [-]')\n",
    "plt.ylabel('Stress [Pa]')\n",
    "plt.legend()\n",
    "plt.title('Stress Response for Different Loading Rates')\n",
    "\n",
    "plt.tight_layout()\n",
    "plt.show()"
   ]
  },
  {
   "cell_type": "code",
   "execution_count": null,
   "metadata": {},
   "outputs": [],
   "source": [
    "# Let's visualize the stress versus strain curves from the previous example using matplotlib\n",
    "plt.figure(figsize=(8, 6)) # Create a new figure\n",
    "plt.plot(eps_t_2, sig_t_2, label='Stress-strain (2 cycles)') # Plot the stress-strain curve for 2 cycles\n",
    "plt.plot(eps_t_4, sig_t_4, label='Stress-strain (4 cycles)') # Plot the stress-strain curve for 4 cycles \n",
    "plt.xlabel('Strain [-]') # Set the x-axis label\n",
    "plt.ylabel('Stress [Pa]') # Set the y-axis label\n",
    "plt.legend() # Show the legend\n",
    "plt.title('Stress-strain response for different loading rates') # Set the title\n",
    "plt.show() # Show the plot\n"
   ]
  },
  {
   "cell_type": "code",
   "execution_count": null,
   "metadata": {},
   "outputs": [],
   "source": []
  }
 ],
 "metadata": {
  "kernelspec": {
   "display_name": "bmcs_env2",
   "language": "python",
   "name": "python3"
  },
  "language_info": {
   "codemirror_mode": {
    "name": "ipython",
    "version": 3
   },
   "file_extension": ".py",
   "mimetype": "text/x-python",
   "name": "python",
   "nbconvert_exporter": "python",
   "pygments_lexer": "ipython3"
  }
 },
 "nbformat": 4,
 "nbformat_minor": 2
}
