{
 "cells": [
  {
   "cell_type": "markdown",
   "metadata": {},
   "source": [
    "# Elasto-plastic isotropic hardening model\n",
    "\n",
    "Verification of the Legendre transform"
   ]
  },
  {
   "cell_type": "code",
   "execution_count": null,
   "metadata": {},
   "outputs": [],
   "source": [
    "%matplotlib widget\n",
    "from bmcs_matmod import GSMRM\n",
    "from bmcs_matmod import GSMNR\n",
    "import matplotlib.pylab as plt\n",
    "import sympy as sp\n",
    "import numpy as np\n",
    "from bmcs_utils.api import Cymbol, cymbols\n",
    "from bmcs_matmod.gsm.potentials.potential1d_t_e_vp_d_lih import Potential1D_T_E_VP_D_LIH_SymbExpr \n",
    "from bmcs_matmod.gsm.potentials.potential1d_t_e_vp_lih import Potential1D_T_E_VP_LIH_SymbExpr \n",
    "sp.init_printing()"
   ]
  },
  {
   "cell_type": "markdown",
   "metadata": {},
   "source": [
    "## Direct solution of consistency condition"
   ]
  },
  {
   "cell_type": "markdown",
   "metadata": {},
   "source": [
    "### Helmholtz free energy"
   ]
  },
  {
   "cell_type": "code",
   "execution_count": null,
   "metadata": {},
   "outputs": [],
   "source": [
    "p1d = Potential1D_T_E_VP_D_LIH_SymbExpr()\n",
    "p1d.F_"
   ]
  },
  {
   "cell_type": "markdown",
   "metadata": {},
   "source": [
    "### GSM drivers"
   ]
  },
  {
   "cell_type": "code",
   "execution_count": null,
   "metadata": {},
   "outputs": [],
   "source": [
    "gsm_F = GSMRM(\n",
    "    name = 'gsm_F_1d_t_e_vp_d_lkh',\n",
    "    u_vars = p1d.eps_a,\n",
    "    sig_vars = p1d.sig_a,\n",
    "    T_var = p1d.T,\n",
    "    m_params = p1d.mparams,\n",
    "    Eps_vars = p1d.Eps_vars,\n",
    "    Sig_vars = p1d.Sig_vars,\n",
    "    Sig_signs = p1d.Sig_signs,\n",
    "    F_expr = p1d.F_,\n",
    "    f_expr = p1d.f_,\n",
    "    phi_ext_expr = p1d.phi_ext_,\n",
    "    t_relax = p1d.t_relax_\n",
    ")\n",
    "\n",
    "gsm_L = GSMNR(\n",
    "    name = 'gsm_F_1d_t_e_vp_d_lkh_l',\n",
    "    u_vars = p1d.eps_a,\n",
    "    sig_vars = p1d.sig_a,\n",
    "    T_var = p1d.T,\n",
    "    m_params = p1d.mparams,\n",
    "    Eps_vars = p1d.Eps_vars,\n",
    "    Sig_vars = p1d.Sig_vars,\n",
    "    Sig_signs = p1d.Sig_signs,\n",
    "    F_expr = p1d.F_,\n",
    "    f_expr = p1d.f_,\n",
    "    phi_ext_expr = p1d.phi_ext_,\n",
    "    t_relax = p1d.t_relax_\n",
    ")"
   ]
  },
  {
   "cell_type": "code",
   "execution_count": null,
   "metadata": {},
   "outputs": [],
   "source": [
    "gsm_F.Sig_.as_explicit(), gsm_L.Sig_.as_explicit()"
   ]
  },
  {
   "cell_type": "code",
   "execution_count": null,
   "metadata": {},
   "outputs": [],
   "source": [
    "R_, _, _, _, _ = gsm_L.f_R_dR_n1\n",
    "R_"
   ]
  },
  {
   "cell_type": "code",
   "execution_count": null,
   "metadata": {},
   "outputs": [],
   "source": [
    "from matplotlib.pylab import f\n",
    "mparams_epd = dict(E_=1, K_lin_=1e-5, f_c_=1, S_=0.1, c_=0.1, r_=1, eta_=1, C_v_=1, T_0_=20)\n",
    "# eps_n_ = np.array([1.0, -1.0, 0, 0], dtype=np.float_)\n",
    "# d_eps_ = np.array([0.1, -0.1, 2, -2], dtype=np.float_)\n",
    "eps_n_ = np.array([0], dtype=np.float_)\n",
    "d_eps_ = np.array([2], dtype=np.float_)\n",
    "d_A_ = np.zeros((eps_n_.shape[0], gsm_L.n_Eps_explicit+1), dtype=np.float_)\n",
    "Eps_n_ = np.zeros((eps_n_.shape[0], gsm_L.n_Eps_explicit), dtype=np.float_)\n",
    "tol = 1e-8\n",
    "max_iter = 150\n",
    "for k in range(max_iter):\n",
    "    f_n1_, R_n1_, dR_n1_ = gsm_L.get_f_R_dR_n1(eps_n_, d_eps_, Eps_n_, d_A_, 1, **mparams_epd)\n",
    "    norm_R_n1_ = np.linalg.norm(R_n1_, axis=-1)\n",
    "    I_ = norm_R_n1_ >= tol\n",
    "    if np.all(I_ == False):\n",
    "        print(f'|R| = {norm_R_n1_}, f = {f_n1_}, k = {k}')\n",
    "        break\n",
    "    d_A_[I_] += np.linalg.solve(dR_n1_[I_], -R_n1_[I_])\n",
    "    d_A_[d_A_[..., 2] > 1] = 0.9999\n",
    "print('d_A_', d_A_)"
   ]
  },
  {
   "cell_type": "code",
   "execution_count": null,
   "metadata": {},
   "outputs": [],
   "source": [
    "mparams_epd = dict(E_=1, K_lin_=1e-5, f_c_=1, S_=0.1, c_=0.1, r_=1, eta_=1, C_v_=1, T_0_=20)\n",
    "eps_n_I = np.array([0, 1.0, 1.0, -1.0, 0, 0], dtype=np.float_)\n",
    "d_eps_I = np.array([0.1, -0.1, 0.1, -0.1, 2, -2], dtype=np.float_)\n",
    "n_I = eps_n_I.shape[0]\n",
    "d_t = 1\n",
    "Eps_n_Ib = np.zeros((n_I, gsm_L.n_Eps_explicit), dtype=np.float_)\n",
    "\n",
    "Eps_n1_Ib, Sig_n1_Ib, lam_I, k_I = gsm_L.get_state_n1(eps_n_I, d_eps_I, d_t, Eps_n_Ib, 30, **mparams_epd )\n",
    "Eps_n1_Ib, Sig_n1_Ib, lam_I, k_I"
   ]
  },
  {
   "cell_type": "code",
   "execution_count": null,
   "metadata": {},
   "outputs": [],
   "source": [
    "mparams_epd = dict(E_=1, K_lin_=10, f_c_=1, S_=0.3, c_=0.1, r_=1, eta_=1, C_v_=1, T_0_=20)\n",
    "\n",
    "n_t = 51\n",
    "n_I = 1\n",
    "eps_max = 6\n",
    "t_t = np.linspace(0, 1, n_t)\n",
    "eps_n_t = np.linspace(0, eps_max, n_t)\n",
    "Eps_n_Ib = np.zeros((n_I, gsm_L.n_Eps_explicit), dtype=np.float_)\n",
    "t_t, eps_ta_nr_coarse, Eps_t, Sig_t_nr_coarse, iter_t, lam_t, (d_t_t, d_eps_ta) = gsm_L.get_response(eps_n_t, t_t, 100, **mparams_epd)"
   ]
  },
  {
   "cell_type": "code",
   "execution_count": null,
   "metadata": {},
   "outputs": [],
   "source": [
    "n_t = 2000\n",
    "n_I = 1\n",
    "t_t = np.linspace(0, 1, n_t)\n",
    "eps_n_t = np.linspace(0, eps_max, n_t)\n",
    "Eps_n_Ib = np.zeros((n_I, gsm_L.n_Eps_explicit), dtype=np.float_)\n",
    "t_t, eps_ta_nr_fine, Eps_t, Sig_t_nr_fine, iter_t, lam_t, (d_t_t, d_eps_ta) = gsm_L.get_response(eps_n_t, t_t, 30, **mparams_epd)"
   ]
  },
  {
   "cell_type": "code",
   "execution_count": null,
   "metadata": {},
   "outputs": [],
   "source": [
    "n_t = 51\n",
    "t_t = np.linspace(0, 1, n_t)\n",
    "eps_n_t = np.linspace(0, eps_max, n_t)[:, np.newaxis]\n",
    "Eps_n_Ib = np.zeros((n_I, gsm_L.n_Eps_explicit), dtype=np.float_)\n",
    "T_t = np.zeros_like(t_t) + 20\n",
    "t_t, eps_ta_rm, T_t, Eps_t, Sig_t_rm, iter_t, dDiss_dEps_t, lam_t, (d_t_t, d_eps_ta) = gsm_F.get_response(eps_n_t, T_t, t_t, k_max=20, **mparams_epd)"
   ]
  },
  {
   "cell_type": "code",
   "execution_count": null,
   "metadata": {},
   "outputs": [],
   "source": [
    "fig, ax = plt.subplots(1, 1)\n",
    "ax.plot(eps_ta_rm[:, 0, 0], Sig_t_rm[:,0,0], color='blue')\n",
    "ax.plot(eps_ta_nr_coarse, Sig_t_nr_coarse[:,:,0], color='red')\n",
    "ax.plot(eps_ta_nr_fine, Sig_t_nr_fine[:,:,0], color='green')\n"
   ]
  },
  {
   "cell_type": "code",
   "execution_count": null,
   "metadata": {},
   "outputs": [],
   "source": []
  }
 ],
 "metadata": {
  "kernelspec": {
   "display_name": "bmcs_env2",
   "language": "python",
   "name": "python3"
  },
  "language_info": {
   "codemirror_mode": {
    "name": "ipython",
    "version": 3
   },
   "file_extension": ".py",
   "mimetype": "text/x-python",
   "name": "python",
   "nbconvert_exporter": "python",
   "pygments_lexer": "ipython3"
  }
 },
 "nbformat": 4,
 "nbformat_minor": 2
}
