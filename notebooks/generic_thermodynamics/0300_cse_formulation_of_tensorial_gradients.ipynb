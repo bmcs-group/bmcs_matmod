{
 "cells": [
  {
   "cell_type": "markdown",
   "metadata": {},
   "source": [
    "# From symbolic potentials to lambdified gradients\n",
    "\n",
    "1. This notebook examines the CSE feature of sympy - common subexpression elimination to\n",
    "avoid repeated evaluation of of equal expressions. \n",
    "\n",
    "2. The array based evaluation that can be used for vectorized execution of lambdified expressions is examined as well."
   ]
  },
  {
   "cell_type": "code",
   "execution_count": null,
   "metadata": {},
   "outputs": [],
   "source": [
    "%matplotlib widget \n",
    "import sympy as sp # CAS used for symbolic derivations \n",
    "sp.init_printing()\n",
    "import matplotlib.pyplot as plt # plotting package\n",
    "from matplotlib import cm # color maps for plotting\n",
    "from sympy.utilities.codegen import codegen # code generation package\n",
    "import numpy as np # array based numerical package \n",
    "np.seterr(divide='ignore', invalid='ignore') # suppress warnings on division by zero\n",
    "from bmcs_utils.api import Cymbol\n",
    "from sympy import Heaviside\n",
    "import copy"
   ]
  },
  {
   "cell_type": "code",
   "execution_count": null,
   "metadata": {},
   "outputs": [],
   "source": [
    "H = Heaviside\n",
    "def get_dirac_delta(x):\n",
    "    return 0\n",
    "numpy_dirac =[{'DiracDelta': get_dirac_delta }, 'numpy']"
   ]
  },
  {
   "cell_type": "code",
   "execution_count": null,
   "metadata": {},
   "outputs": [],
   "source": [
    "E_T = Cymbol(r'E_{\\mathrm{T}}', codename='E_T_', real=True, nonnegative=True)\n",
    "gamma_T = Cymbol(r'\\gamma_{\\mathrm{T}}', codename='gamma_T_', real=True)\n",
    "K_T = Cymbol(r'K_{\\mathrm{T}}', codename='K_T_', real=True)\n",
    "S_T = Cymbol(r'S_{\\mathrm{T}}', codename='S_T_', real=True, nonnegative=True)\n",
    "r_T = Cymbol(r'r_{\\mathrm{T}}', codename='r_T_', real=True, nonnegative=True)\n",
    "c_T = Cymbol(r'c_{\\mathrm{T}}', codename='c_T_', real=True, nonnegative=True)\n",
    "eta_T = Cymbol(r'\\eta_{\\mathrm{T}}', codename='eta_T_', real=True, nonnegative=True)\n",
    "\n",
    "E_N = Cymbol(r'E_{\\mathrm{N}}', codename='E_N_', real=True, nonnegative=True)\n",
    "gamma_N = Cymbol(r'\\gamma_{\\mathrm{N}}', codename='gamma_N_', real=True)\n",
    "K_N = Cymbol(r'K_{\\mathrm{N}}', codename='K_N_', real=True)\n",
    "S_N = Cymbol(r'S_{\\mathrm{N}}', codename='S_N_', real=True, nonnegative=True)\n",
    "r_N = Cymbol(r'r_{\\mathrm{N}}', codename='r_N_', real=True, nonnegative=True)\n",
    "c_N = Cymbol(r'c_{\\mathrm{N}}', codename='c_N_', real=True, nonnegative=True)\n",
    "\n",
    "eta_N = Cymbol(r'\\eta_{\\mathrm{N}}', codename='eta_N_', real=True, nonnegative=True)\n",
    "zeta = Cymbol('zeta', codename='zeta_', real=True, nonnegative=True)\n",
    "\n",
    "d_N = Cymbol(r'd_{\\mathrm{N}}', codename='d_N_', real=True, nonnegative=True)\n",
    "alpha_therm = Cymbol(r'\\alpha_{\\vartheta}', codename='alpha_therm_', real=True, nonnegative=True)\n",
    "# temperature \n",
    "C_v = Cymbol(r'C_{\\mathrm{v}}', codename='C_v_', real=True, nonnegative=True)\n",
    "T_0 = Cymbol(r'\\vartheta_0', codename='T_0_', real=True, nonnegative=True)\n",
    "beta = Cymbol(r'\\beta', codename='beta_', real=True, nonnegative=True)"
   ]
  },
  {
   "cell_type": "markdown",
   "metadata": {},
   "source": [
    "## Parameters of the threshold function"
   ]
  },
  {
   "cell_type": "code",
   "execution_count": null,
   "metadata": {},
   "outputs": [],
   "source": [
    "f_t = Cymbol(r'f_\\mathrm{Nt}', codename='f_t_')\n",
    "f_c = Cymbol(r'f_\\mathrm{Nc}', codename='f_c_')\n",
    "f_c0 = Cymbol(r'f_\\mathrm{Nc0}', codename='f_c0_')\n",
    "f_s = Cymbol(r'f_\\mathrm{T}', codename='f_s_')\n",
    "m = Cymbol(r'm', codename='m_', real=True, nonnegative=True)"
   ]
  },
  {
   "cell_type": "code",
   "execution_count": null,
   "metadata": {},
   "outputs": [],
   "source": [
    "sp_vars = (E_T, gamma_T, K_T, S_T, c_T, f_s, E_N, gamma_N, K_N, S_N, c_N, m, f_t, f_c, f_c0, \n",
    "           r_N, r_T, eta_N, eta_T, zeta, C_v, T_0, d_N, alpha_therm, beta)\n",
    "sp_vars"
   ]
  },
  {
   "cell_type": "code",
   "execution_count": null,
   "metadata": {},
   "outputs": [],
   "source": [
    "T = Cymbol(r'\\vartheta', codename='T_', real=True)\n",
    "Gamma = sp.exp(-beta * (T - T_0))\n",
    "Gamma"
   ]
  },
  {
   "cell_type": "code",
   "execution_count": null,
   "metadata": {},
   "outputs": [],
   "source": [
    "E_ab = sp.Matrix([[E_N, 0, 0],\n",
    "                  [0, E_T, 0],\n",
    "                  [0, 0, E_T]])"
   ]
  },
  {
   "cell_type": "code",
   "execution_count": null,
   "metadata": {},
   "outputs": [],
   "source": [
    "u_N = Cymbol(r'u_\\mathrm{N}', codename='u_N_', real=True)\n",
    "u_Tx = Cymbol(r'u_\\mathrm{Tx}', codename='u_Tx_', real=True)\n",
    "u_Ty = Cymbol(r'u_\\mathrm{Ty}', codename='u_Ty_', real=True)\n",
    "u_Ta = sp.Matrix([u_Tx, u_Ty])\n",
    "u_a = sp.Matrix([u_N, u_Tx, u_Ty])\n",
    "sig_N = Cymbol(r'\\sigma_\\mathrm{N}', codename='sig_N_', real=True)\n",
    "sig_Tx = Cymbol(r'\\sigma_\\mathrm{Tx}', codename='sig_Tx_', real=True)\n",
    "sig_Ty = Cymbol(r'\\sigma_\\mathrm{Ty}', codename='sig_Ty_', real=True)\n",
    "sig_Ta = sp.Matrix([sig_Tx, sig_Ty])\n",
    "sig_a = sp.Matrix([sig_N, sig_Tx, sig_Ty])"
   ]
  },
  {
   "cell_type": "markdown",
   "metadata": {},
   "source": [
    "## Internal variables"
   ]
  },
  {
   "cell_type": "code",
   "execution_count": null,
   "metadata": {},
   "outputs": [],
   "source": [
    "u_p_N = Cymbol(r'u_\\mathrm{N}^\\mathrm{p}', codename='u_p_N_', real=True)\n",
    "u_p_Tx = Cymbol(r'u_\\mathrm{Tx}^\\mathrm{p}', codename='u_p_Tx_', real=True)\n",
    "u_p_Ty = Cymbol(r'u_\\mathrm{Ty}^\\mathrm{p}', codename='u_p_Ty_', real=True)\n",
    "u_p_Ta = sp.Matrix([u_p_Tx, u_p_Ty])\n",
    "u_p_a = sp.Matrix([u_p_N, u_p_Tx, u_p_Ty])\n",
    "sig_p_N = Cymbol(r'\\sigma^\\mathrm{p}_\\mathrm{N}', codename='sig_p_N_', real=True)\n",
    "sig_p_Tx = Cymbol(r'\\sigma^\\mathrm{p}_\\mathrm{Tx}', codename='sig_p_Tx_', real=True)\n",
    "sig_p_Ty = Cymbol(r'\\sigma^\\mathrm{p}_\\mathrm{Ty}', codename='sig_p_Ty_', real=True)\n",
    "sig_p_Ta = sp.Matrix([sig_p_Tx, sig_p_Ty])\n",
    "sig_p_a = sp.Matrix([sig_p_N, sig_p_Tx, sig_p_Ty])"
   ]
  },
  {
   "cell_type": "code",
   "execution_count": null,
   "metadata": {},
   "outputs": [],
   "source": [
    "omega_N = Cymbol(r'\\omega_\\mathrm{N}', codename='omega_N_', real=True)\n",
    "omega_T = Cymbol(r'\\omega_\\mathrm{T}', codename='omega_T_', real=True)\n",
    "omega_ab = sp.Matrix([[omega_N, 0, 0],\n",
    "                      [0, omega_T, 0],\n",
    "                      [0, 0, omega_T]])\n",
    "omega_a = sp.Matrix([omega_N, omega_T])\n",
    "Y_N = Cymbol(r'Y_\\mathrm{N}', codename='Y_N_', real=True)\n",
    "Y_T = Cymbol(r'Y_\\mathrm{T}', codename='Y_T_', real=True)\n",
    "Y_a = sp.Matrix([Y_N, Y_T])"
   ]
  },
  {
   "cell_type": "code",
   "execution_count": null,
   "metadata": {},
   "outputs": [],
   "source": [
    "z_N = Cymbol(r'z_\\mathrm{N}', codename='z_N_', real=True)\n",
    "z_T = Cymbol(r'z_\\mathrm{T}', codename='z_T_', real=True)\n",
    "K_ab = sp.Matrix([[K_N, 0],\n",
    "                  [0, K_T]])\n",
    "z_a = sp.Matrix([z_N, z_T])\n",
    "Z_N = Cymbol(r'Z_\\mathrm{N}', codename='Z_N_', real=True)\n",
    "Z_T = Cymbol(r'Z_\\mathrm{T}', codename='Z_T_', real=True)\n",
    "Z_a = sp.Matrix([Z_N, Z_T])"
   ]
  },
  {
   "cell_type": "code",
   "execution_count": null,
   "metadata": {},
   "outputs": [],
   "source": [
    "alpha_N = Cymbol(r'\\alpha_\\mathrm{N}', codename='alpha_N_', real=True, nonnegative=True)\n",
    "alpha_Tx = Cymbol(r'\\alpha_\\mathrm{Tx}', codename='alpha_Tx_', real=True, nonnegative=True)\n",
    "alpha_Ty = Cymbol(r'\\alpha_\\mathrm{Ty}', codename='alpha_Ty_', real=True, nonnegative=True)\n",
    "gamma_ab = sp.Matrix([[gamma_N, 0, 0],\n",
    "                      [0, gamma_T, 0],\n",
    "                      [0, 0, gamma_T]])\n",
    "alpha_Ta = sp.Matrix([alpha_Tx, alpha_Ty])\n",
    "alpha_a = sp.Matrix([alpha_N, alpha_Tx, alpha_Ty])\n",
    "X_N = Cymbol(r'X_\\mathrm{N}', codename='X_N_', real=True, nonnegative=True)\n",
    "X_Tx = Cymbol(r'X_\\mathrm{Tx}', codename='X_Ty_', real=True, nonnegative=True)\n",
    "X_Ty = Cymbol(r'X_\\mathrm{Ty}', codename='X_Tx_', real=True, nonnegative=True)\n",
    "X_Ta = sp.Matrix([X_Tx, X_Ty])\n",
    "X_a = sp.Matrix([X_N, X_Tx, X_Ty])"
   ]
  },
  {
   "cell_type": "code",
   "execution_count": null,
   "metadata": {},
   "outputs": [],
   "source": [
    "Eps_vars = u_p_a, omega_a, z_a, alpha_a\n",
    "Sig_vars = sig_p_a, Y_a, Z_a, X_a\n",
    "Eps_vars, Sig_vars"
   ]
  },
  {
   "cell_type": "code",
   "execution_count": null,
   "metadata": {},
   "outputs": [],
   "source": [
    "Eps = sp.BlockMatrix([Eps_i.T for Eps_i in Eps_vars]).T\n",
    "Sig = sp.BlockMatrix([Sig_i.T for Sig_i in Sig_vars]).T\n",
    "Eps, Sig"
   ]
  },
  {
   "cell_type": "code",
   "execution_count": null,
   "metadata": {},
   "outputs": [],
   "source": [
    "# Eps = [Eps_i.T for Eps_i in Eps_vars]\n",
    "# Sig = [Sig_i.T for Sig_i in Sig_vars]\n",
    "# Eps, Sig"
   ]
  },
  {
   "cell_type": "code",
   "execution_count": null,
   "metadata": {},
   "outputs": [],
   "source": [
    "u_el_a = u_a - u_p_a\n",
    "E_eff_ab = (sp.eye(3) - omega_ab) * E_ab\n",
    "E_eff_ab"
   ]
  },
  {
   "cell_type": "code",
   "execution_count": null,
   "metadata": {},
   "outputs": [],
   "source": [
    "u_el_a"
   ]
  },
  {
   "cell_type": "code",
   "execution_count": null,
   "metadata": {},
   "outputs": [],
   "source": [
    "U_T_ = ( (1 - omega_N) * E_N * alpha_therm * (T - T_0) * (u_N - u_p_N) * d_N )\n",
    "U_e_ = sp.Rational(1,2) * (u_el_a.T * E_eff_ab * u_el_a)[0]\n",
    "U_p_ = sp.Rational(1,2) * (z_a.T * K_ab * z_a + alpha_a.T * gamma_ab * alpha_a)[0]\n",
    "TS_ = C_v * (T - T_0) **2 / (2 * T_0)\n",
    "F_ = U_e_ + U_p_ + U_T_ - TS_\n",
    "F_"
   ]
  },
  {
   "cell_type": "code",
   "execution_count": null,
   "metadata": {},
   "outputs": [],
   "source": [
    "dF_dEps_ = sp.BlockMatrix([sp.diff(F_, var).T for var in Eps.blocks]).T\n",
    "dF_dEps_"
   ]
  },
  {
   "cell_type": "code",
   "execution_count": null,
   "metadata": {},
   "outputs": [],
   "source": [
    "Sig_signs = [-1, -1, 1, 1]\n",
    "Sig_ = sp.BlockMatrix([(sign_i_ * dF_dEps_i_).T for sign_i_, dF_dEps_i_ in zip(Sig_signs, dF_dEps_.blocks)]).T\n",
    "Sig_"
   ]
  },
  {
   "cell_type": "code",
   "execution_count": null,
   "metadata": {},
   "outputs": [],
   "source": [
    "get_Sig_ = sp.lambdify((u_a, T, Eps.blocks, Sig.blocks)+sp_vars+('**kw',), list(Sig_.blocks), numpy_dirac, \n",
    "                        cse=True)"
   ]
  },
  {
   "cell_type": "code",
   "execution_count": null,
   "metadata": {},
   "outputs": [],
   "source": [
    "Diss_a = sp.BlockMatrix([sp.Matrix(T*dF_dEps_i.diff(T) - dF_dEps_i).T for dF_dEps_i in dF_dEps_.blocks]).T\n",
    "Diss_a"
   ]
  },
  {
   "cell_type": "code",
   "execution_count": null,
   "metadata": {},
   "outputs": [],
   "source": [
    "Eps"
   ]
  },
  {
   "cell_type": "code",
   "execution_count": null,
   "metadata": {},
   "outputs": [],
   "source": [
    "dSig_dEps_ = sp.BlockMatrix([[sp.Matrix(Sig_i.diff(Eps_i)[:,0,:,0]) for Sig_i in Sig_.blocks] for Eps_i in Eps.blocks])\n",
    "dSig_dEps_"
   ]
  },
  {
   "cell_type": "markdown",
   "metadata": {},
   "source": [
    "## Threshold function"
   ]
  },
  {
   "cell_type": "markdown",
   "metadata": {},
   "source": [
    "### Double cap domain"
   ]
  },
  {
   "cell_type": "code",
   "execution_count": null,
   "metadata": {},
   "outputs": [],
   "source": [
    "%%capture\n",
    "%run threshold_function_f_df.ipynb"
   ]
  },
  {
   "cell_type": "code",
   "execution_count": null,
   "metadata": {},
   "outputs": [],
   "source": [
    "sig_eff_Tx = sp.Function(r'\\sigma^{\\mathrm{eff}}_{\\mathrm{T}x}')(sig_p_Tx, omega_T)\n",
    "sig_eff_Ty = sp.Function(r'\\sigma^{\\mathrm{eff}}_{\\mathrm{T}y}')(sig_p_Ty, omega_T)\n",
    "sig_eff_N = sp.Function(r'\\sigma^{\\mathrm{eff}}_{\\mathrm{N}}')(sig_p_N, omega_N)\n",
    "q_Tx = sp.Function(r'q_Tx')(sig_eff_Tx,X_Tx)\n",
    "q_Ty = sp.Function(r'q_Ty')(sig_eff_Ty,X_Ty)\n",
    "q_N = sp.Function(r'q_N')(sig_eff_N)\n",
    "norm_q_T = sp.sqrt(q_Tx*q_Tx + q_Ty*q_Ty)\n",
    "subs_q_T = {q_Tx: (sig_eff_Tx - X_Tx), q_Ty: (sig_eff_Ty - X_Ty)}\n",
    "subs_q_N = {q_N: sig_eff_N}\n",
    "subs_sig_eff = {sig_eff_Tx: sig_p_Tx / (1-omega_T),\n",
    "                  sig_eff_Ty: sig_p_Ty / (1-omega_T),\n",
    "                  sig_eff_N: sig_p_N / (1-omega_N)\n",
    "                 }\n",
    "f_ = (f_solved_\n",
    "      .subs({x: q_N, y: norm_q_T})\n",
    "      .subs(subs_q_T)\n",
    "      .subs(subs_q_N)\n",
    "      .subs(subs_sig_eff)\n",
    "      .subs(f_s,((f_s+Z_T) * Gamma))\n",
    "      .subs(f_t,f_t)\n",
    "      .subs(f_c0,f_c0)\n",
    "      .subs(f_c,f_c)\n",
    "      )\n",
    "f_"
   ]
  },
  {
   "cell_type": "code",
   "execution_count": null,
   "metadata": {},
   "outputs": [],
   "source": [
    "get_f_ = sp.lambdify((T, Eps.blocks, Sig.blocks)+sp_vars+('**kw',), f_, numpy_dirac, \n",
    "                        cse=True)\n"
   ]
  },
  {
   "cell_type": "code",
   "execution_count": null,
   "metadata": {},
   "outputs": [],
   "source": [
    "material_params = dict(\n",
    "    E_T_=1, gamma_T_=1, K_T_=1, S_T_=1, c_T_=1, f_s_=1, \n",
    "    E_N_=1, gamma_N_=1, K_N_=1, S_N_=0.5, c_N_=1, m_=0.1, f_t_=1, f_c_=20, f_c0_=10, \n",
    "    r_N_=2, r_T_=2, zeta_=1., eta_N_=1, eta_T_=1, d_N_=0, alpha_therm_=1e-5, T_0_=20, C_v_=1, beta_=1\n",
    ")"
   ]
  },
  {
   "cell_type": "markdown",
   "metadata": {},
   "source": [
    "### Single value check"
   ]
  },
  {
   "cell_type": "code",
   "execution_count": null,
   "metadata": {},
   "outputs": [],
   "source": [
    "_u_a = [3, 0, 0]\n",
    "_Eps_0_B_00 = [np.zeros(Eps_i.shape[:-1], np.float_) for Eps_i in Eps.blocks]\n",
    "_Sig_0_B_00 = get_Sig_(_u_a, 20, _Eps_0_B_00, _Eps_0_B_00, **material_params)\n",
    "_Sig_0_B_00 = [_Sig_0_i_00[:, 0] for _Sig_0_i_00 in _Sig_0_B_00]\n",
    "_f_blocks_00 = get_f_(20, _Eps_0_B_00, _Sig_0_B_00, **material_params)\n",
    "_f_blocks_00"
   ]
  },
  {
   "cell_type": "markdown",
   "metadata": {},
   "source": [
    "### Countours in the apparent stress domain"
   ]
  },
  {
   "cell_type": "code",
   "execution_count": null,
   "metadata": {},
   "outputs": [],
   "source": [
    "sig_p_range, tau_p_range = np.mgrid[-22:3:500j, -5:5:500j]\n",
    "_Eps_0_B_IJ = [np.zeros(Eps_i.shape[:-1] + sig_p_range.shape, np.float_) for Eps_i in Eps.blocks]\n",
    "_Sig_0_B_IJ = [np.zeros(Sig_i.shape[:-1] + sig_p_range.shape, np.float_) for Sig_i in Sig.blocks]\n",
    "_Sig_0_B_IJ[0][0] = sig_p_range\n",
    "_Sig_0_B_IJ[0][2] = tau_p_range\n",
    "_f_blocks_IJ = get_f_(20, _Eps_0_B_IJ, _Sig_0_B_IJ, **material_params)\n",
    "fig = plt.figure(figsize=(8, 5), tight_layout=True)\n",
    "ax = fig.add_subplot(1, 1, 1) # , projection='3d')\n",
    "ax.contour(sig_p_range, tau_p_range, _f_blocks_IJ, levels=[0]);\n",
    "ax.axis('equal');"
   ]
  },
  {
   "cell_type": "markdown",
   "metadata": {},
   "source": [
    "### Countours in control displacement/strain domain "
   ]
  },
  {
   "cell_type": "code",
   "execution_count": null,
   "metadata": {},
   "outputs": [],
   "source": [
    "u_N_range, u_T_range = np.mgrid[-22:3:500j, -5:5:500j]\n",
    "_u_IJ = np.zeros((3,) + u_N_range.shape, np.float_)\n",
    "_u_IJ[0] = u_N_range\n",
    "_u_IJ[2] = u_T_range\n",
    "_Eps_0_B_IJ = [np.zeros(Eps_i.shape[:-1]  + u_N_range.shape, np.float_) for Eps_i in Eps.blocks]\n",
    "_Sig_0_B_IJ = get_Sig_(_u_IJ, 20, _Eps_0_B_IJ, _Eps_0_B_IJ, **material_params)\n",
    "_Sig_0_B_IJ = [_Sig_0_i_00[:, 0] for _Sig_0_i_00 in _Sig_0_B_IJ]\n",
    "_f_IJ = get_f_(20, _Eps_0_B_IJ, _Sig_0_B_IJ, **material_params)\n",
    "fig, ax = plt.subplots(1, 1, figsize=(8, 5), tight_layout=True)\n",
    "ax.contour(u_N_range, u_T_range, _f_IJ, levels=[0]);\n",
    "ax.axis('equal');"
   ]
  },
  {
   "cell_type": "code",
   "execution_count": null,
   "metadata": {},
   "outputs": [],
   "source": [
    "df_dSig_list = [f_.diff(Sig_i) for Sig_i in Sig.blocks]\n",
    "df_dEps_list = [f_.diff(Eps_i) for Eps_i in Eps.blocks]\n",
    "df_dSig_ = sp.BlockMatrix([[df_dSig_i] for df_dSig_i in df_dSig_list])\n",
    "df_dEps_ = sp.BlockMatrix([[df_dEps_i] for df_dEps_i in df_dEps_list])"
   ]
  },
  {
   "cell_type": "markdown",
   "metadata": {},
   "source": [
    "### Circular elastic domain"
   ]
  },
  {
   "cell_type": "code",
   "execution_count": null,
   "metadata": {},
   "outputs": [],
   "source": [
    "# sig_eff_a = sig_p_a / (1 - omega_T)\n",
    "# q = sig_eff_a - X_a\n",
    "# norm_q = sp.sqrt((q.T * q)[0])\n",
    "# f_ = norm_q - f_N_t\n",
    "# df_dSig_list = [f_.diff(Sig_i) for Sig_i in Sig]\n",
    "# df_dEps_list = [f_.diff(Eps_i) for Eps_i in Eps]\n",
    "\n",
    "# df_dSig_ = sp.BlockMatrix([[df_dSig_i] for df_dSig_i in df_dSig_list])\n",
    "# df_dEps_ = sp.BlockMatrix([[df_dEps_i] for df_dEps_i in df_dEps_list])"
   ]
  },
  {
   "cell_type": "markdown",
   "metadata": {},
   "source": [
    "## Dissipation potential"
   ]
  },
  {
   "cell_type": "code",
   "execution_count": null,
   "metadata": {},
   "outputs": [],
   "source": [
    "S_NT = sp.sqrt(S_N*S_T)\n",
    "c_NT = sp.sqrt(c_N*c_T)\n",
    "r_NT = sp.sqrt(r_N*r_T)\n",
    "omega_NT = 1 - sp.sqrt((1-omega_N)*(1-omega_T))\n",
    "phi_N = (1 - omega_N)**c_N * S_N / (r_N+1) * (Y_N / S_N)**(r_N+1)\n",
    "phi_T = (1 - omega_T)**c_T * S_T / (r_T+1) * (Y_T / S_T)**(r_T+1)\n",
    "phi_NT = (1 - omega_NT)**c_NT * S_NT / (r_NT+1) * ((Y_N + Y_T)/(S_NT))**(r_NT+1)\n",
    "phi_ext_ = ((1 - zeta)*(phi_N + phi_T) + zeta*phi_NT)\n",
    "phi_ = f_ + phi_ext_ \n",
    "Phi_list = [-sign_i_ * phi_.diff(Sig_i_) for sign_i_, Sig_i_ in zip(Sig_signs, Sig.blocks)]\n",
    "Phi_ = sp.BlockMatrix([[Phi_i] for Phi_i in Phi_list])\n",
    "phi_ext_.diff(Sig.as_explicit())"
   ]
  },
  {
   "cell_type": "markdown",
   "metadata": {},
   "source": [
    "## Time dependency"
   ]
  },
  {
   "cell_type": "code",
   "execution_count": null,
   "metadata": {},
   "outputs": [],
   "source": [
    "t_relax_N_ = eta_N / (E_N + gamma_N)\n",
    "t_relax_T_ = eta_T / (E_T + K_T + gamma_T)\n",
    "t_relax_ = sp.Matrix([\n",
    "                    t_relax_T_,\n",
    "                    t_relax_T_,\n",
    "                    t_relax_N_,\n",
    "                    t_relax_T_,\n",
    "                    t_relax_T_,\n",
    "                    t_relax_T_,\n",
    "                    ])\n",
    "\n",
    "t_relax_"
   ]
  },
  {
   "cell_type": "markdown",
   "metadata": {},
   "source": [
    "## Return mapping - dissipation parameter"
   ]
  },
  {
   "cell_type": "markdown",
   "metadata": {},
   "source": [
    "### Predictor\n",
    "$$\\left.\n",
    "\\frac{\\partial f}{\\partial{\\lambda}}  \n",
    "\\right|_k \n",
    "=\n",
    "\\left.\n",
    "\\frac{\\partial f}{\\partial{\\boldsymbol{ \\mathcal{E}}}}  \n",
    "\\right|_k \n",
    "\\left.\n",
    "\\frac{\\partial {\\boldsymbol{ \\mathcal{E}}}}{\\partial \\lambda}\n",
    "\\right|_k =\n",
    "\\left.\n",
    "\\frac{\\partial f}{\\partial{\\boldsymbol{ \\mathcal{E}}}}  \n",
    "\\right|_k \n",
    "\\boldsymbol{\\Phi}_k \\\\\n",
    "\\left.\n",
    "\\frac{\\partial f}{\\partial{\\boldsymbol{ \\mathcal{E}}}}  \n",
    "\\right|_k \n",
    "=\n",
    "\\left. \\frac{\\partial f}{ \\partial \\boldsymbol{\\mathcal{S}}}\\right|_{k}\n",
    "\\left. \\frac{\\partial \\boldsymbol{\\mathcal{S}}}{\\partial \\boldsymbol{\\mathcal{E}}}\\right|_{k}\n",
    "+\n",
    "\\left. \\frac{\\partial^{\\mathrm{dir}} f}{ \\partial^{\\mathrm{dir}} \\boldsymbol{\\mathcal{E}}}\\right|_{k}\n",
    "$$"
   ]
  },
  {
   "cell_type": "code",
   "execution_count": null,
   "metadata": {},
   "outputs": [],
   "source": [
    "df_dSig_.shape, dSig_dEps_.shape, df_dEps_.shape, Phi_.shape"
   ]
  },
  {
   "cell_type": "markdown",
   "metadata": {},
   "source": [
    "### Version 0 - without cse"
   ]
  },
  {
   "cell_type": "code",
   "execution_count": null,
   "metadata": {},
   "outputs": [],
   "source": [
    "df_dlambda_ = ((dSig_dEps_.as_explicit() * df_dSig_.as_explicit() + df_dEps_.as_explicit()).T * Phi_.as_explicit())[0, 0]\n",
    "get_df_dlambda_0_ = sp.lambdify((u_a, T, Eps.blocks, Sig.blocks) + sp_vars + ('**kw',), df_dlambda_, \n",
    "                              numpy_dirac, cse=True)"
   ]
  },
  {
   "cell_type": "code",
   "execution_count": null,
   "metadata": {},
   "outputs": [],
   "source": [
    "# import inspect\n",
    "# source_code = inspect.getsource(get_df_dlambda_0_)\n",
    "# print(source_code)"
   ]
  },
  {
   "cell_type": "code",
   "execution_count": null,
   "metadata": {},
   "outputs": [],
   "source": [
    "_u_a = [1e-6, 1e-6, 0]\n",
    "_Sig_0_B_00 = get_Sig_(_u_a, 20, _Eps_0_B_00, _Eps_0_B_00, **material_params)\n",
    "_Sig_0_B_00 = [_Sig_0_i_00[:, 0] for _Sig_0_i_00 in _Sig_0_B_00]\n",
    "_f = get_f_(20, _Eps_0_B_00, _Sig_0_B_00, **material_params)\n",
    "_df_dlambda = get_df_dlambda_0_(_u_a, 20, _Eps_0_B_00, _Sig_0_B_00, **material_params)\n",
    "_f, _df_dlambda"
   ]
  },
  {
   "cell_type": "code",
   "execution_count": null,
   "metadata": {},
   "outputs": [],
   "source": [
    "u_N_range, u_T_range = np.mgrid[-22:3:500j, -5:5:500j]\n",
    "_u_IJ = np.zeros((3,) + u_N_range.shape, np.float_)\n",
    "_u_IJ[0] = u_N_range\n",
    "_u_IJ[2] = u_T_range\n",
    "_Eps_0_B_IJ = [np.zeros(Eps_i.shape[:-1]  + u_N_range.shape, np.float_) for Eps_i in Eps.blocks]\n",
    "_Sig_0_B_IJ = get_Sig_(_u_IJ, 20, _Eps_0_B_IJ, _Eps_0_B_IJ, **material_params)\n",
    "_Sig_0_B_IJ = [_Sig_0_i_00[:, 0] for _Sig_0_i_00 in _Sig_0_B_IJ]\n",
    "_f_IJ = get_f_(20, _Eps_0_B_IJ, _Sig_0_B_IJ, **material_params)\n",
    "_df_dlambda_IJ = get_df_dlambda_0_(_u_IJ, 20, _Eps_0_B_IJ, _Sig_0_B_IJ, **material_params)\n",
    "fig, ax = plt.subplots(1, 1, figsize=(7, 3), tight_layout=True)\n",
    "fig.canvas.header_visible=False\n",
    "ax.contour(sig_p_range, tau_p_range, _f_IJ, levels=[0]);\n",
    "ax.contourf(sig_p_range, tau_p_range, _df_dlambda_IJ);\n",
    "ax.axis('equal');"
   ]
  },
  {
   "cell_type": "markdown",
   "metadata": {},
   "source": [
    "### Version 1 - cse with chain rule"
   ]
  },
  {
   "cell_type": "code",
   "execution_count": null,
   "metadata": {},
   "outputs": [],
   "source": [
    "def lambdify_cs(vars, sp_vars, cs_list):\n",
    "    \"\"\"Generate the function that will take all the input parameters and return\n",
    "    the sequence of all interim variables\n",
    "    \"\"\"\n",
    "    cs_vars, cs_exprs = zip(*cs_list)\n",
    "\n",
    "    get_x_i = [sp.lambdify(vars + cs_vars[:i] + sp_vars + ('**kw',), cs_expr)\n",
    "                           for i, cs_expr in enumerate(cs_exprs)]\n",
    "    def get_interim_vars(*params, **kw):\n",
    "        parameters = list(params)\n",
    "        results = []\n",
    "        for cs_var, f in zip(cs_vars, get_x_i):\n",
    "            result = f(*parameters, **kw)\n",
    "            results.append(result)\n",
    "            parameters.append(result)\n",
    "\n",
    "        return results\n",
    "    return tuple(cs_vars), get_interim_vars"
   ]
  },
  {
   "cell_type": "code",
   "execution_count": null,
   "metadata": {},
   "outputs": [],
   "source": [
    "df_dSig_dEps_reduced_, (dSig_dEps_cse, df_dSig_cse, df_dEps_cse, Phi_cse) = sp.cse(\n",
    "    [expr.as_explicit() for expr in [dSig_dEps_, df_dSig_, df_dEps_, Phi_]])\n",
    "cs_vars, get_lambda_interim_cs = lambdify_cs((u_a, T, Eps.blocks, Sig.blocks), sp_vars, df_dSig_dEps_reduced_)\n",
    "df_dlambda_ = ((dSig_dEps_cse * df_dSig_cse + df_dEps_cse).T * Phi_cse)[0, 0]\n",
    "get_df_dlambda_1_ = sp.lambdify((Eps.blocks, Sig.blocks) + cs_vars + sp_vars + ('**kw',), df_dlambda_, numpy_dirac)"
   ]
  },
  {
   "cell_type": "code",
   "execution_count": null,
   "metadata": {},
   "outputs": [],
   "source": [
    "len(cs_vars), df_dlambda_"
   ]
  },
  {
   "cell_type": "code",
   "execution_count": null,
   "metadata": {},
   "outputs": [],
   "source": [
    "_u_a = [1e-6, 1e-6, 0]\n",
    "_Sig_0_B_00 = get_Sig_(_u_a, 20, _Eps_0_B_00, _Eps_0_B_00, **material_params)\n",
    "_Sig_0_B_00 = [_Sig_0_i_00[:, 0] for _Sig_0_i_00 in _Sig_0_B_00]\n",
    "_f = get_f_(20, _Eps_0_B_00, _Sig_0_B_00, **material_params)\n",
    "_x_i_cse = get_lambda_interim_cs(_u_a, 20, _Eps_0_B_00, _Sig_0_B_00, **material_params)\n",
    "_df_dlambda = get_df_dlambda_1_(_Eps_0_B_00, _Sig_0_B_00, *_x_i_cse, **material_params)\n",
    "_f, _df_dlambda"
   ]
  },
  {
   "cell_type": "code",
   "execution_count": null,
   "metadata": {},
   "outputs": [],
   "source": [
    "_f_IJ = get_f_(20, _Eps_0_B_IJ, _Sig_0_B_IJ, **material_params)\n",
    "_x_i_cse_IJ = get_lambda_interim_cs(_u_IJ, 20, _Eps_0_B_IJ, _Sig_0_B_IJ, **material_params)\n",
    "_df_dlambda_IJ = get_df_dlambda_1_(_Eps_0_B_IJ, _Sig_0_B_IJ, *_x_i_cse_IJ, **material_params)\n",
    "fig, ax = plt.subplots(1, 1, figsize=(7, 3), tight_layout=True)\n",
    "fig.canvas.header_visible=False\n",
    "ax.contour(sig_p_range, tau_p_range, _f_IJ, levels=[0]);\n",
    "ax.contourf(sig_p_range, tau_p_range, _df_dlambda_IJ);\n",
    "ax.axis('equal');"
   ]
  },
  {
   "cell_type": "markdown",
   "metadata": {},
   "source": [
    "### Version 2 substitute first and differentiate w.r.t. $\\mathcal{S}$ and cse"
   ]
  },
  {
   "cell_type": "code",
   "execution_count": null,
   "metadata": {},
   "outputs": [],
   "source": [
    "subs_Sig_Eps_ = dict(zip(Sig.as_explicit(), Sig_.as_explicit()))\n",
    "f_Sig_Eps_ = f_.subs(subs_Sig_Eps_)\n",
    "df_dSig_dEps_ = f_Sig_Eps_.diff(Eps.as_explicit())\n",
    "df_dSig_dEps_reduced_, (f_cse, df_dSig_dEps_cse, Phi_cse) = sp.cse(\n",
    "    [f_, df_dSig_dEps_.as_explicit(), Phi_.as_explicit()])\n",
    "cs_vars, get_lambda_interim_cs = lambdify_cs((u_a, T, Eps.blocks, Sig.blocks), sp_vars, df_dSig_dEps_reduced_)\n",
    "df_dlambda_2_ = (df_dSig_dEps_cse.T * Phi_cse)[0, 0]\n",
    "get_f_2_ = sp.lambdify((Eps.blocks, Sig.blocks) + cs_vars + sp_vars + ('**kw',), f_cse, numpy_dirac)\n",
    "get_df_dlambda_2_ = sp.lambdify((Eps.blocks, Sig.blocks) + cs_vars + sp_vars + ('**kw',), df_dlambda_2_, numpy_dirac)"
   ]
  },
  {
   "cell_type": "code",
   "execution_count": null,
   "metadata": {},
   "outputs": [],
   "source": [
    "import inspect\n",
    "source_code = inspect.getsource(get_df_dlambda_2_)\n",
    "print(source_code)\n"
   ]
  },
  {
   "cell_type": "code",
   "execution_count": null,
   "metadata": {},
   "outputs": [],
   "source": [
    "len(cs_vars), df_dlambda_2_"
   ]
  },
  {
   "cell_type": "code",
   "execution_count": null,
   "metadata": {},
   "outputs": [],
   "source": [
    "_u_a = [1e-6, 1e-6, 0]\n",
    "_Sig_0_B_00 = get_Sig_(_u_a, 20, _Eps_0_B_00, _Eps_0_B_00, **material_params)\n",
    "_Sig_0_B_00 = [_Sig_0_i_00[:, 0] for _Sig_0_i_00 in _Sig_0_B_00]\n",
    "_x_i_cse = get_lambda_interim_cs(_u_a, 20, _Eps_0_B_00, _Sig_0_B_00, **material_params)\n",
    "_f = get_f_2_(_Eps_0_B_00, _Sig_0_B_00, *_x_i_cse, **material_params)\n",
    "_df_dlambda = get_df_dlambda_2_(_Eps_0_B_00, _Sig_0_B_00, *_x_i_cse, **material_params)\n",
    "_f, _df_dlambda"
   ]
  },
  {
   "cell_type": "code",
   "execution_count": null,
   "metadata": {},
   "outputs": [],
   "source": [
    "_x_i_cse_IJ = get_lambda_interim_cs(_u_IJ, 20, _Eps_0_B_IJ, _Sig_0_B_IJ, **material_params)\n",
    "_f_IJ = get_f_2_(_Eps_0_B_IJ, _Sig_0_B_IJ, *_x_i_cse_IJ, **material_params)\n",
    "_df_dlambda_IJ = get_df_dlambda_2_(_Eps_0_B_IJ, _Sig_0_B_IJ, *_x_i_cse_IJ, **material_params)\n",
    "fig, ax = plt.subplots(1, 1, figsize=(7, 3), tight_layout=True)\n",
    "fig.canvas.header_visible=False\n",
    "ax.contour(sig_p_range, tau_p_range, _f_IJ, levels=[0]);\n",
    "ax.contourf(sig_p_range, tau_p_range, _df_dlambda_IJ);\n",
    "ax.axis('equal');"
   ]
  },
  {
   "cell_type": "markdown",
   "metadata": {},
   "source": [
    "### Version 3 - conditional evaluation using where"
   ]
  },
  {
   "cell_type": "code",
   "execution_count": null,
   "metadata": {},
   "outputs": [],
   "source": [
    "f_"
   ]
  },
  {
   "cell_type": "code",
   "execution_count": null,
   "metadata": {},
   "outputs": [],
   "source": [
    "f_exprs, f_conds = zip(*f_.args)\n",
    "f_reduced_, f_cse_list_ = sp.cse((f_exprs + f_conds)[:-1])\n",
    "cs_vars, get_f_reduced = lambdify_cs((u_a, T, Eps.blocks, Sig.blocks), sp_vars, f_reduced_)\n",
    "get_f_cse_list = [sp.lambdify((u_a, T, Eps.blocks, Sig.blocks) + cs_vars + sp_vars + ('**kw',), f_cse_, numpy_dirac) \n",
    "                  for f_cse_ in f_cse_list_]\n",
    "n_exprs = len(f_exprs)\n",
    "get_f_exprs = get_f_cse_list[:n_exprs]\n",
    "get_f_conds = get_f_cse_list[n_exprs:]"
   ]
  },
  {
   "cell_type": "code",
   "execution_count": null,
   "metadata": {},
   "outputs": [],
   "source": [
    "def get_f_conditional(get_f_conds, get_f_exprs, ext_vars, _Eps, _Sig, **mp):\n",
    "    \"\"\"Given a list of conditions and corresponding expressions, evaluate the function\n",
    "    of external and internal variables and return the expression corresponding to\n",
    "    the first condition that evaluates to True. If none of the conditions evaluate\n",
    "    to True, return the expression corresponding to the last condition.\n",
    "\n",
    "    Parameters\n",
    "    ----------\n",
    "    get_f_conds : list\n",
    "        List of conditions to be evaluated.\n",
    "    get_f_exprs : list\n",
    "        List of expressions corresponding to the conditions.\n",
    "    ext_vars : tuple\n",
    "        Tuple of external variables.\n",
    "    _Eps, _Sig : float\n",
    "        Internal variables.\n",
    "    **mp : dict\n",
    "        Dictionary of model parameters.\n",
    "    \n",
    "    Returns\n",
    "    -------\n",
    "    result : float\n",
    "        The expression corresponding to the first condition that evaluates to True.\n",
    "        If none of the conditions evaluate to True, return the expression corresponding\n",
    "        to the last condition.\n",
    "\n",
    "        Remark\n",
    "        ------\n",
    "        The shape of the result is currently a scalar but can be extended to an nd-array (TODO). \n",
    "        This shape can be derived from the symbolic representation of the f_expression. The design question \n",
    "        here is if the symbolic source expression should be supplied as an input parameter as well to constitute\n",
    "        a generic class that takes care of the dimensionality of the result as well.   \n",
    "\n",
    "    Explanation - hyper shape\n",
    "    -------------------------\n",
    "    The function is evaluated in a cascading manner, i.e. the first condition is evaluated\n",
    "    and if it evaluates to True, the corresponding expression is evaluated and returned.\n",
    "    If the condition evaluates to False, the next condition is evaluated and so on. The\n",
    "    last expression is returned if none of the conditions evaluate to True. \n",
    "\n",
    "    The structure of int_vars, i.e. _Eps and _Sig, is given as a sequence of arrays with the same shapes.\n",
    "    Their number and shapes are the same as the block vector symbols Eps and Sig of the \n",
    "    constitutive model. Assuming for example Eps[0] is a plastic tensor with the shape (2,2), \n",
    "    the int_var_shape. Assuming that the function is evaluated on a n-dimensional array of material\n",
    "    points with the shape field_shape = (n_x, n_y, n_z), covering a spatial domain by a discretization grid, \n",
    "    the shape of the _Eps[0] array is _Eps.shape = (*int_var_shape, *field_shape).\n",
    "\n",
    "    The structure of ext_vars is a sequence of arrays with potentially a different shape, representing e.g. \n",
    "    (strain tensor, temperature, humidity) - observable or controllable variables. Assuming for example that\n",
    "    the constitutive formulation in the thermodynamic potential uses a strain tensor eps_ab with the shape (2,2),\n",
    "    the shape of the input variable for a considered field will be (2,2,n_x,n_y,n_z), which must be compatible\n",
    "    with all other external and internal variables.\n",
    "\n",
    "    By extracting the field shape from the input variables, it is possible to apply masking to the input variables\n",
    "    so that cascaded evaluation depending on the satisfied quantification is enabled. \n",
    "\n",
    "    Remark - iterative cascaded evaluation\n",
    "    --------------------------------------\n",
    "    This feature is relevant \n",
    "    both for the evaluation of piecewise decomposed domain, i.e multi-surface / domain threshold and \n",
    "    flow potential functions. Even more importantly, the cascaded evaluation is a key feature for the return-mapping \n",
    "    and time-stepping algorithm, where only small localizing part of the simulated domain requires multiple iterations \n",
    "    to attain an admissible state.\n",
    "\n",
    "    As these considerations are fully generic, it is worth defining a class that enables this kind of \n",
    "    segmented and cascaded evaluation. It is relevant for multidomain inelasticity - that covers the multi-dimensional \n",
    "    state representation using piecewise threshold, float potential and dissipation potential functions. \n",
    "    The initial version of this functionality is provided here. \n",
    "\n",
    "    Another application of the cascaded evaluation is the iterative return mapping algorithm. Then, there is just one \n",
    "    condition to be satisfied the whole field_shape. The cascaded evaluation is then used to evaluate the \n",
    "    return mapping algorithm for all grid points in the domain. Such cascaded evaluation must be supplied with the \n",
    "    predictor and corrector function.\n",
    "\n",
    "    The class definition consists of \n",
    "\n",
    "    F = Free energy potential\n",
    "    u = external variable\n",
    "    T = temperature\n",
    "    Eps = symbolic definition of the internal state (sympy.BlockMatrix)\n",
    "    Sig = symbolic definition of the internal state (sympy.BlockMatrix)\n",
    "    mp = list of material parameters\n",
    "    f = threshold function\n",
    "    phi_ext = flow potential extension\n",
    "    \"\"\"\n",
    "    _u_a, _T = ext_vars\n",
    "    _x_i_cse = get_f_reduced(_u_a, _T, _Eps, _Sig, **mp)\n",
    "    args = (_u_a, _T, _Eps, _Sig, *_x_i_cse)\n",
    "\n",
    "    # Initialize the result array with the default value\n",
    "    result = np.full(_u_a.shape[1:], np.nan)\n",
    "    print(_u_a.shape, result.shape)\n",
    "\n",
    "    # Initialize the mask to cover all grid elements\n",
    "    mask = np.ones_like(result, dtype=bool)\n",
    "\n",
    "    # Efficient cascading condition evaluation and index recovery\n",
    "    for i, get_f_cond in enumerate(get_f_conds):\n",
    "        # Apply condition only where the result is undefined and mask is valid\n",
    "        mask_update = np.logical_and(get_f_cond(*args, **mp), mask)\n",
    "        # call the function only on the elements where the condition is satisfied \n",
    "        _f_i = get_f_exprs[i](*args, **mp)\n",
    "        # Evaluate conditions only on valid masked elements and update results\n",
    "        result[mask_update] = _f_i[mask_update]\n",
    "        # Update the mask by excluding elements where condition is satisfied\n",
    "        mask[mask_update] = False\n",
    "\n",
    "    result[mask_update] = get_f_exprs[-1](*args, **mp)[mask_update]\n",
    "    # result now contains the output after applying the corresponding functions based on conditions\n",
    "    return result"
   ]
  },
  {
   "cell_type": "code",
   "execution_count": null,
   "metadata": {},
   "outputs": [],
   "source": [
    "_u_a = [1e-6, 1e-6, 0]\n",
    "_Sig_0_B_00 = get_Sig_(_u_a, 20, _Eps_0_B_00, _Eps_0_B_00, **material_params)\n",
    "_Sig_0_B_00 = [_Sig_0_i_00[:, 0] for _Sig_0_i_00 in _Sig_0_B_00]\n",
    "_x_i_cse = get_lambda_interim_cs(_u_a, 20, _Eps_0_B_00, _Sig_0_B_00, **material_params)\n",
    "_f = get_f_2_(_Eps_0_B_00, _Sig_0_B_00, *_x_i_cse, **material_params)\n",
    "_df_dlambda = get_df_dlambda_2_(_Eps_0_B_00, _Sig_0_B_00, *_x_i_cse, **material_params)\n",
    "_f, _df_dlambda"
   ]
  },
  {
   "cell_type": "code",
   "execution_count": null,
   "metadata": {},
   "outputs": [],
   "source": [
    "#get_f_conditional(get_f_conds, get_f_exprs, (np.array(_u_a), 20), _Eps_0_B_00, _Sig_0_B_00, **material_params)"
   ]
  },
  {
   "cell_type": "code",
   "execution_count": null,
   "metadata": {},
   "outputs": [],
   "source": [
    "subs_Sig_Eps_ = dict(zip(Sig.as_explicit(), Sig_.as_explicit()))\n",
    "f_exprs, f_conds = zip(*f_.args)\n",
    "df_dEps_exprs = [f_expr.subs(subs_Sig_Eps_).diff(Eps.as_explicit()) for f_expr in f_exprs]\n",
    "phi_exprs = [(f_expr + phi_ext_) for f_expr in f_exprs]\n",
    "Phi_exprs = []\n",
    "for phi_expr in phi_exprs:\n",
    "    Phi_expr = sp.BlockMatrix([[-sign_i_ * phi_expr.diff(Sig_i_)] for sign_i_, Sig_i_ in zip(Sig_signs, Sig.blocks)]).as_explicit()\n",
    "    Phi_exprs.append(Phi_expr)"
   ]
  },
  {
   "cell_type": "code",
   "execution_count": null,
   "metadata": {},
   "outputs": [],
   "source": [
    "n_exprs = len(f_exprs)\n",
    "all_expr = (f_exprs + tuple(df_dEps_exprs) + tuple(Phi_exprs) + f_conds)\n",
    "f_reduced_, f_cse_list_ = sp.cse(all_expr)\n",
    "f_cse_ = f_cse_list_[:n_exprs]\n",
    "df_dEps_cse_ = f_cse_list_[n_exprs:n_exprs*2]\n",
    "Phi_cse_ = f_cse_list_[n_exprs*2:n_exprs*3]\n",
    "f_conds_cse_ = f_cse_list_[n_exprs*3:-1]\n",
    "df_dlambda_cse_ = [(df_dEps_cse_[i].T * Phi_cse_[i])[0,0] for i in range(n_exprs)]\n",
    "args_ = f_cse_ + df_dlambda_cse_ + f_conds_cse_"
   ]
  },
  {
   "cell_type": "code",
   "execution_count": null,
   "metadata": {},
   "outputs": [],
   "source": [
    "cs_vars, get_f_reduced = lambdify_cs((u_a, T, Eps.blocks, Sig.blocks), sp_vars, f_reduced_)\n",
    "get_f_cse_list = [sp.lambdify((u_a, T, Eps.blocks, Sig.blocks) + cs_vars + sp_vars + ('**kw',), \n",
    "                              f_cse_, numpy_dirac) \n",
    "                  for f_cse_ in args_]\n",
    "get_f_exprs = get_f_cse_list[:n_exprs]\n",
    "get_df_dlambda_exprs = get_f_cse_list[n_exprs:n_exprs*2]\n",
    "get_f_conds_exprs = get_f_cse_list[n_exprs*2:]"
   ]
  },
  {
   "cell_type": "code",
   "execution_count": null,
   "metadata": {},
   "outputs": [],
   "source": [
    "_f_4_IJ = get_f_conditional(get_f_conds_exprs, get_f_exprs,  (_u_IJ, 20), _Eps_0_B_IJ, _Sig_0_B_IJ, **material_params)"
   ]
  },
  {
   "cell_type": "code",
   "execution_count": null,
   "metadata": {},
   "outputs": [],
   "source": [
    "fig, ax = plt.subplots(1, 1, figsize=(7, 3), tight_layout=True)\n",
    "fig.canvas.header_visible=False\n",
    "ax.contour(sig_p_range, tau_p_range, _f_4_IJ, levels=[0]);\n",
    "#ax.contourf(sig_p_range, tau_p_range, _df_dlambda_IJ);\n",
    "ax.axis('equal');"
   ]
  },
  {
   "cell_type": "code",
   "execution_count": null,
   "metadata": {},
   "outputs": [],
   "source": []
  },
  {
   "cell_type": "code",
   "execution_count": null,
   "metadata": {},
   "outputs": [],
   "source": []
  }
 ],
 "metadata": {
  "kernelspec": {
   "display_name": "bmcs_env2",
   "language": "python",
   "name": "python3"
  },
  "language_info": {
   "codemirror_mode": {
    "name": "ipython",
    "version": 3
   },
   "file_extension": ".py",
   "mimetype": "text/x-python",
   "name": "python",
   "nbconvert_exporter": "python",
   "pygments_lexer": "ipython3"
  }
 },
 "nbformat": 4,
 "nbformat_minor": 2
}
