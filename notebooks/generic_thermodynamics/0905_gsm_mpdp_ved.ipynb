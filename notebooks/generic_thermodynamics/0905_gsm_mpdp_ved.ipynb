{
 "cells": [
  {
   "cell_type": "markdown",
   "metadata": {},
   "source": [
    "# MPDP: Visco-elasto-plasticity with isotropic hardening\n",
    "\n",
    "Associated, rate-dependent plasticity. .\n",
    "\n",
    "Application of GSM MPDP - Dissipation potential for visco-elasticity included\n"
   ]
  },
  {
   "cell_type": "code",
   "execution_count": null,
   "metadata": {},
   "outputs": [],
   "source": [
    "%matplotlib widget\n",
    "from bmcs_matmod.api import GSMMPDP\n",
    "import matplotlib.pylab as plt\n",
    "import sympy as sp\n",
    "import numpy as np\n",
    "sp.init_printing()"
   ]
  },
  {
   "cell_type": "markdown",
   "metadata": {},
   "source": [
    "### Helmholtz free energy"
   ]
  },
  {
   "cell_type": "code",
   "execution_count": null,
   "metadata": {},
   "outputs": [],
   "source": [
    "E = sp.Symbol(r'E', real=True, nonnegative=True)\n",
    "S = sp.Symbol(r'S', real=True, nonnegative=True)\n",
    "c = sp.Symbol(r'c', real=True, nonnegative=True)\n",
    "r = sp.Symbol(r'r', real=True, nonnegative=True)\n",
    "eta_ve = sp.Symbol(r'\\eta_\\mathrm{ve}', real=True, nonnegative=True)\n",
    "eps_0 = sp.Symbol(r'\\varepsilon_0', real=True, positive=True)\n",
    "\n",
    "\n",
    "mparams = (E, eta_ve, S, c, r, eps_0)\n",
    "\n",
    "# ## External state variables\n",
    "\n",
    "eps = sp.Symbol(r'\\varepsilon', real=True)\n",
    "eps_a = sp.Matrix([eps])\n",
    "sig = sp.Symbol(r'\\sigma', real=True)\n",
    "sig_a = sp.Matrix([sig])\n",
    "\n",
    "# ## Internal state variables\n",
    "\n",
    "omega = sp.Symbol(r'\\omega', real=True)\n",
    "omega_a = sp.Matrix([omega])\n",
    "Y = sp.Symbol(r'Y', real=True)\n",
    "Y_a = sp.Matrix([Y])\n",
    "\n",
    "z = sp.Symbol(r'z', codename='z_', real=True, nonnegative=True)\n",
    "z_a = sp.Matrix([z])\n",
    "Z = sp.Symbol(r'Z', codename='Z_', real=True, nonnegative=True)\n",
    "Z_a = sp.Matrix([Z])\n",
    "\n",
    "eps_v = sp.Symbol(r'\\varepsilon^\\mathrm{ve}', real=True)\n",
    "eps_v_a = sp.Matrix([eps_v])\n",
    "sig_v = sp.Symbol(r'\\sigma^\\mathrm{ve}', real=True)\n",
    "sig_v_a = sp.Matrix([sig_v])\n",
    "\n",
    "# ## Free energy potential\n",
    "eps_el = eps - eps_v\n",
    "U_e_ = sp.Rational(1,2) * (1 - omega) * E * eps_el**2 + sp.Rational(1,2) * z**2\n",
    "F_ = U_e_\n",
    "\n",
    "\n",
    "Eps_vars = (eps_v_a, omega_a, z_a)\n",
    "Sig_vars = (sig_v_a, Y_a, Z_a)\n",
    "Sig_signs =  (-1, -1, 1)\n"
   ]
  },
  {
   "cell_type": "markdown",
   "metadata": {},
   "source": [
    "### GSM drivers"
   ]
  },
  {
   "cell_type": "code",
   "execution_count": null,
   "metadata": {},
   "outputs": [],
   "source": [
    "gsm_ved = GSMMPDP(\n",
    "    name = 'gsm_F_1d_mpdp_ved_lih',\n",
    "    diff_along_rates = False,\n",
    "    u_vars = eps_a,\n",
    "    sig_vars = sig_a,\n",
    "    m_params = mparams,\n",
    "    Eps_vars = Eps_vars,\n",
    "    Sig_vars = Sig_vars,\n",
    "    Sig_signs = Sig_signs,\n",
    "    F_expr = F_,\n",
    "    f_expr = sp.Abs(eps) - (eps_0 + Z),\n",
    "    phi_ext_expr = (1 - omega)**c * (S/(r+1)) * (Y / S)**(r+1)\n",
    ")\n",
    "dot_eps_ve_ = gsm_ved.dot_Eps[0, 0]\n",
    "sig_ve_ = gsm_ved.Sig[0, 0]\n",
    "gsm_ved.h_k = [dot_eps_ve_ - sig_ve_ / (1 - omega) / eta_ve]\n",
    "gsm_ved.phi_ext_expr = gsm_ved.dot_eps * (1 - omega)**c * (S/(r+1)) * (Y / S)**(r+1)\n"
   ]
  },
  {
   "cell_type": "code",
   "execution_count": null,
   "metadata": {},
   "outputs": [],
   "source": [
    "(dot_lam_0), _, _ = gsm_ved.H_Lam"
   ]
  },
  {
   "cell_type": "code",
   "execution_count": null,
   "metadata": {},
   "outputs": [],
   "source": [
    "gsm_ved.phi_"
   ]
  },
  {
   "cell_type": "code",
   "execution_count": null,
   "metadata": {},
   "outputs": [],
   "source": [
    "gsm_ved.Sig_, gsm_ved.phi_.diff(gsm_ved.Sig.as_explicit()), gsm_ved.Y_, gsm_ved.Phi_"
   ]
  },
  {
   "cell_type": "code",
   "execution_count": null,
   "metadata": {},
   "outputs": [],
   "source": [
    "(gamma_mech, L_, dL_dS_, dL_dS_A_, dR_dA_n1), (eps_n, delta_eps, Eps_n, delta_A, delta_t, Ox, Ix), Sig_n1, f_n1, R_n1, dR_dA_n1_OI = gsm_ved.Sig_f_R_dR_n1\n"
   ]
  },
  {
   "cell_type": "code",
   "execution_count": null,
   "metadata": {},
   "outputs": [],
   "source": [
    "L_"
   ]
  },
  {
   "cell_type": "code",
   "execution_count": null,
   "metadata": {},
   "outputs": [],
   "source": [
    "Sig_n1"
   ]
  },
  {
   "cell_type": "code",
   "execution_count": null,
   "metadata": {},
   "outputs": [],
   "source": [
    "sp.simplify(dL_dS_)"
   ]
  },
  {
   "cell_type": "code",
   "execution_count": null,
   "metadata": {},
   "outputs": [],
   "source": [
    "dL_dS_A_"
   ]
  },
  {
   "cell_type": "code",
   "execution_count": null,
   "metadata": {},
   "outputs": [],
   "source": [
    "R_n1_subs = R_n1 # .replace(sp.sign, lambda x: 1)\n",
    "R_n1_subs"
   ]
  },
  {
   "cell_type": "code",
   "execution_count": null,
   "metadata": {},
   "outputs": [],
   "source": [
    "delta_A.T"
   ]
  },
  {
   "cell_type": "code",
   "execution_count": null,
   "metadata": {},
   "outputs": [],
   "source": [
    "dR_dA_n1_subs = dR_dA_n1.replace(sp.sign, lambda x: 1)\n",
    "dR_dA_n1_subs"
   ]
  },
  {
   "cell_type": "code",
   "execution_count": null,
   "metadata": {},
   "outputs": [],
   "source": [
    "mparams_epd = {E:1, eta_ve:1e+2, c:1, r:1, S:0.1, eps_0:1.0}\n",
    "margs = [mparams_epd[p] for p in mparams]\n",
    "n_t = 100\n",
    "n_I = 1\n",
    "eps_max = 4\n",
    "t_t = np.linspace(0, 100, n_t)\n",
    "eps_n_t = np.linspace(0, eps_max, n_t)\n",
    "Eps_n_Ib = np.zeros((n_I, gsm_ved.n_Eps), dtype=np.float64)\n",
    "t_t, eps_ta, Eps_t, Sig_t, iter_t, lam_t, (d_t_t, d_eps_ta) = gsm_ved.get_response(eps_n_t, t_t, 100, *margs)\n",
    "# Plot viscoplastic strain and damage along time\n",
    "eps_t = eps_ta[:, 0]\n",
    "eps_v_t = Eps_t[:, 0, 0]\n",
    "omega_t = Eps_t[:, 0, 1]"
   ]
  },
  {
   "cell_type": "code",
   "execution_count": null,
   "metadata": {},
   "outputs": [],
   "source": [
    "fig, (ax_sig, ax_omega) = plt.subplots(1, 2, figsize=(12, 4))\n",
    "\n",
    "# Plot stress-strain and iterations-strain curves\n",
    "ax_iter = ax_sig.twinx()\n",
    "ax_eps_v = ax_omega.twinx()\n",
    "\n",
    "ax_sig.plot(eps_t, Sig_t[:,:,0], color='cadetblue', label=r'$\\varepsilon$')\n",
    "ax_sig.plot(eps_t-eps_v_t, Sig_t[:,:,0], ls='dashed', color='cadetblue', label=r'$\\varepsilon-\\varepsilon^\\mathrm{ve}$')\n",
    "ax_sig.set_ylabel(r'$\\sigma$', color='darkslategray')\n",
    "ax_sig.set_xlabel(r'$\\varepsilon$')\n",
    "ax_sig.legend()\n",
    "\n",
    "ax_iter.plot(eps_t, iter_t, ls='dashed', color='gray')\n",
    "ax_iter.set_ylabel(r'$k$', color='gray')\n",
    "\n",
    "ax_omega.plot(t_t, omega_t, label='Damage', color='royalblue')\n",
    "ax_eps_v.plot(t_t, eps_v_t, label='Viscoplastic Strain', color='orange')\n",
    "\n",
    "ax_omega.set_xlabel(r'$t$')\n",
    "ax_omega.set_ylabel(r'$\\omega$', color='royalblue')\n",
    "ax_eps_v.set_ylabel(r'$\\varepsilon_\\mathrm{ve}$', color='orange')\n",
    "\n",
    "plt.tight_layout()\n",
    "plt.show()"
   ]
  },
  {
   "cell_type": "code",
   "execution_count": null,
   "metadata": {},
   "outputs": [],
   "source": [
    "%matplotlib widget\n",
    "mparams_epd = {E:1, eta_ve:1e+2, c:1, r:1, S:0.01, eps_0:0}\n",
    "margs = [mparams_epd[p] for p in mparams]\n",
    "t_, eps_dot_, t_1_, t_2_, t3_ = sp.symbols('t, eps_dot t_1 t_2 t_3', real=True, positive=True)\n",
    "eps_t_ = sp.Piecewise(\n",
    "    (eps_dot_ * t_, t_ < t_1_),\n",
    "    (eps_dot_ * t_1_, t_ < t_2_),\n",
    "    (eps_dot_ * t_1_ - eps_dot_*(t_ - t_2_), True)\n",
    ")\n",
    "get_eps_t = sp.lambdify((t_, eps_dot_, t_1_, t_2_, t3_), eps_t_, 'numpy')\n",
    "final_time = 300\n",
    "eps_max = 2.5\n",
    "dot_eps_t = eps_max / final_time * 3\n",
    "t_t = np.linspace(0, final_time, 1000)\n",
    "eps_n_t = get_eps_t(t_t, dot_eps_t, 0.25*final_time, 0.75*final_time, final_time)\n",
    "fig, ax = plt.subplots(1,1)\n",
    "ax.plot(t_t, eps_n_t)"
   ]
  },
  {
   "cell_type": "code",
   "execution_count": null,
   "metadata": {},
   "outputs": [],
   "source": [
    "\n",
    "t_t, eps_ta, Eps_t, Sig_t, iter_t, lam_t, (d_t_t, d_eps_ta) = gsm_ved.get_response(eps_n_t, t_t, 100, *margs)\n",
    "# Plot viscoplastic strain and damage along time\n",
    "eps_t = eps_ta[:, 0]\n",
    "eps_v_t, omega_t, z_t = Eps_t[:, 0, :].T\n",
    "sig_v_t, Y_t, Z_t = Sig_t[:, 0, :].T"
   ]
  },
  {
   "cell_type": "code",
   "execution_count": null,
   "metadata": {},
   "outputs": [],
   "source": [
    "fig, (ax_sig, ax_omega) = plt.subplots(1, 2, figsize=(12, 4))\n",
    "\n",
    "# Plot stress-strain and iterations-strain curves\n",
    "ax_iter = ax_sig.twinx()\n",
    "ax_eps = ax_omega.twinx()\n",
    "\n",
    "ax_sig.plot(eps_t, sig_v_t, color='cadetblue', label=r'$\\varepsilon$')\n",
    "ax_sig.plot(eps_t-eps_v_t, Sig_t[:,:,0], ls='dashed', color='cadetblue', label=r'$\\varepsilon-\\varepsilon^\\mathrm{ve}$')\n",
    "ax_sig.set_ylabel(r'$\\sigma$', color='darkslategray')\n",
    "ax_sig.set_xlabel(r'$\\varepsilon$')\n",
    "ax_sig.legend()\n",
    "\n",
    "ax_iter.plot(eps_t, iter_t, ls='dashed', color='gray')\n",
    "ax_iter.set_ylabel(r'$k$', color='gray')\n",
    "\n",
    "ax_omega.plot(t_t, omega_t, label='Damage', color='brown')\n",
    "ax_eps.plot(t_t, eps_t, label=r'$\\varepsilon$', color='cadetblue', lw=1)\n",
    "ax_eps.plot(t_t, eps_v_t, label=r'$\\varepsilon_\\mathrm{vp}$', color='cadetblue', ls='dashed', lw=1)\n",
    "#ax_eps.legend()\n",
    "ax_omega.set_xlabel(r'$t$')\n",
    "ax_omega.set_ylabel(r'$\\omega$', color='brown')\n",
    "ax_eps.set_ylabel(r'$\\varepsilon$', color='cadetblue')\n",
    "\n",
    "plt.tight_layout()\n",
    "plt.show()"
   ]
  },
  {
   "cell_type": "code",
   "execution_count": null,
   "metadata": {},
   "outputs": [],
   "source": [
    "mparams_epd = {E:1, eta_ve:1, c:1, r:1, S:500, eps_0:1.0}\n",
    "margs = [mparams_epd[p] for p in mparams]\n",
    "eps_n_I = np.array([0, 1.0, 1.0, -1.0, 0, 0], dtype=np.float64)\n",
    "d_eps_I = np.array([0.1, -0.1, 0.1, -0.1, 2, -2], dtype=np.float64)\n",
    "n_I = eps_n_I.shape[0]\n",
    "d_t = 1\n",
    "Eps_n_Ib = np.zeros((n_I, gsm_ved.n_Eps), dtype=np.float64)\n",
    "\n",
    "Eps_n1_Ib, Sig_n1_Ib, lam_I, k_I = gsm_ved.get_state_n1(eps_n_I, d_eps_I, d_t, Eps_n_Ib, 3000, *margs )\n",
    "Eps_n1_Ib, Sig_n1_Ib, lam_I, k_I"
   ]
  },
  {
   "cell_type": "code",
   "execution_count": null,
   "metadata": {},
   "outputs": [],
   "source": []
  },
  {
   "cell_type": "code",
   "execution_count": null,
   "metadata": {},
   "outputs": [],
   "source": []
  }
 ],
 "metadata": {
  "kernelspec": {
   "display_name": "bmcs_matmod",
   "language": "python",
   "name": "python3"
  },
  "language_info": {
   "codemirror_mode": {
    "name": "ipython",
    "version": 3
   },
   "file_extension": ".py",
   "mimetype": "text/x-python",
   "name": "python",
   "nbconvert_exporter": "python",
   "pygments_lexer": "ipython3"
  }
 },
 "nbformat": 4,
 "nbformat_minor": 2
}
