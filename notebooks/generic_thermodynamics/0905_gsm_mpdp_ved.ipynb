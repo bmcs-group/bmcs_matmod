{
 "cells": [
  {
   "cell_type": "markdown",
   "metadata": {},
   "source": [
    "# GSM-VED: Visco-elasto-damage "
   ]
  },
  {
   "cell_type": "code",
   "execution_count": null,
   "metadata": {},
   "outputs": [],
   "source": [
    "%matplotlib widget\n",
    "from bmcs_matmod.gsm.gsm_models import GSM1D_VED\n",
    "import matplotlib.pylab as plt\n",
    "from IPython.display import display, Markdown\n",
    "import sympy as sp\n",
    "import numpy as np\n",
    "sp.init_printing()"
   ]
  },
  {
   "cell_type": "code",
   "execution_count": null,
   "metadata": {},
   "outputs": [],
   "source": [
    "gsm = GSM1D_VED()\n",
    "Markdown(gsm.latex_potentials())"
   ]
  },
  {
   "cell_type": "code",
   "execution_count": null,
   "metadata": {},
   "outputs": [],
   "source": [
    "mparams = dict(E=1, eta_ve=1e+2, c=1, r=1, S=0.1, eps_0=1.0)\n",
    "n_t = 100\n",
    "n_I = 1\n",
    "eps_max = 4\n",
    "t_t = np.linspace(0, 100, n_t)\n",
    "eps_n_t = np.linspace(0, eps_max, n_t)\n",
    "t_t, eps_ta, sig_ta, Eps_t, Sig_t, iter_t, lam_t, (d_t_t, d_eps_ta) = gsm.get_response(eps_n_t, t_t, **mparams )\n",
    "# Plot viscoplastic strain and damage along time\n",
    "eps_t = eps_ta[:, 0]\n",
    "eps_v_t = Eps_t[:, 0, 0]\n",
    "omega_t = Eps_t[:, 0, 1]"
   ]
  },
  {
   "cell_type": "code",
   "execution_count": null,
   "metadata": {},
   "outputs": [],
   "source": [
    "fig, (ax_sig, ax_omega) = plt.subplots(1, 2, figsize=(12, 4))\n",
    "\n",
    "# Plot stress-strain and iterations-strain curves\n",
    "ax_iter = ax_sig.twinx()\n",
    "ax_eps_v = ax_omega.twinx()\n",
    "\n",
    "ax_sig.plot(eps_t, Sig_t[:,:,0], color='cadetblue', label=r'$\\varepsilon$')\n",
    "ax_sig.plot(eps_t-eps_v_t, Sig_t[:,:,0], ls='dashed', color='cadetblue', label=r'$\\varepsilon-\\varepsilon^\\mathrm{ve}$')\n",
    "ax_sig.set_ylabel(r'$\\sigma$', color='darkslategray')\n",
    "ax_sig.set_xlabel(r'$\\varepsilon$')\n",
    "ax_sig.legend()\n",
    "\n",
    "ax_iter.plot(eps_t, iter_t, ls='dashed', color='gray')\n",
    "ax_iter.set_ylabel(r'$k$', color='gray')\n",
    "\n",
    "ax_omega.plot(t_t, omega_t, label='Damage', color='royalblue')\n",
    "ax_eps_v.plot(t_t, eps_v_t, label='Viscoplastic Strain', color='orange')\n",
    "ax_eps_v.plot(t_t, eps_t, label='Total Strain', color='black')\n",
    "\n",
    "ax_omega.set_xlabel(r'$t$')\n",
    "ax_omega.set_ylabel(r'$\\omega$', color='royalblue')\n",
    "ax_eps_v.set_ylabel(r'$\\varepsilon_\\mathrm{ve}$', color='orange')\n",
    "\n",
    "plt.tight_layout()\n",
    "plt.show()"
   ]
  },
  {
   "cell_type": "code",
   "execution_count": null,
   "metadata": {},
   "outputs": [],
   "source": [
    "%matplotlib widget\n",
    "mparams = dict(E=1, eta_ve=1e+2, c=1, r=1, S=0.01, eps_0=0)\n",
    "t_, eps_dot_, t_1_, t_2_, t3_ = sp.symbols('t eps_dot t_1 t_2 t_3', real=True, positive=True)\n",
    "eps_t_ = sp.Piecewise(\n",
    "    (eps_dot_ * t_, t_ < t_1_),\n",
    "    (eps_dot_ * t_1_, t_ < t_2_),\n",
    "    (eps_dot_ * t_1_ - eps_dot_*(t_ - t_2_), True)\n",
    ")\n",
    "get_eps_t = sp.lambdify((t_, eps_dot_, t_1_, t_2_, t3_), eps_t_, 'numpy')\n",
    "final_time = 300\n",
    "eps_max = 2.5\n",
    "dot_eps_t = eps_max / final_time * 3\n",
    "t_t = np.linspace(0, final_time, 1000)\n",
    "eps_n_t = get_eps_t(t_t, dot_eps_t, 0.25*final_time, 0.75*final_time, final_time)\n",
    "fig, ax = plt.subplots(1,1)\n",
    "ax.plot(t_t, eps_n_t)"
   ]
  },
  {
   "cell_type": "code",
   "execution_count": null,
   "metadata": {},
   "outputs": [],
   "source": [
    "\n",
    "t_t, eps_ta, sig_ta, Eps_t, Sig_t, iter_t, lam_t, (d_t_t, d_eps_ta) = gsm.get_response(eps_n_t, t_t, **mparams)\n",
    "# Plot viscoplastic strain and damage along time\n",
    "eps_t = eps_ta[:, 0]\n",
    "eps_v_t, omega_t, z_t = Eps_t[:, 0, :].T\n",
    "sig_v_t, Y_t, Z_t = Sig_t[:, 0, :].T"
   ]
  },
  {
   "cell_type": "code",
   "execution_count": null,
   "metadata": {},
   "outputs": [],
   "source": [
    "fig, (ax_sig, ax_omega) = plt.subplots(1, 2, figsize=(12, 4))\n",
    "\n",
    "# Plot stress-strain and iterations-strain curves\n",
    "ax_iter = ax_sig.twinx()\n",
    "ax_eps = ax_omega.twinx()\n",
    "\n",
    "ax_sig.plot(eps_t, sig_v_t, color='cadetblue', label=r'$\\varepsilon$')\n",
    "ax_sig.plot(eps_t-eps_v_t, Sig_t[:,:,0], ls='dashed', color='cadetblue', label=r'$\\varepsilon-\\varepsilon^\\mathrm{ve}$')\n",
    "ax_sig.set_ylabel(r'$\\sigma$', color='darkslategray')\n",
    "ax_sig.set_xlabel(r'$\\varepsilon$')\n",
    "ax_sig.legend()\n",
    "\n",
    "ax_iter.plot(eps_t, iter_t, ls='dashed', color='gray')\n",
    "ax_iter.set_ylabel(r'$k$', color='gray')\n",
    "\n",
    "ax_omega.plot(t_t, omega_t, label='Damage', color='brown')\n",
    "ax_eps.plot(t_t, eps_t, label=r'$\\varepsilon$', color='cadetblue', lw=1)\n",
    "ax_eps.plot(t_t, eps_v_t, label=r'$\\varepsilon_\\mathrm{vp}$', color='cadetblue', ls='dashed', lw=1)\n",
    "#ax_eps.legend()\n",
    "ax_omega.set_xlabel(r'$t$')\n",
    "ax_omega.set_ylabel(r'$\\omega$', color='brown')\n",
    "ax_eps.set_ylabel(r'$\\varepsilon$', color='cadetblue')\n",
    "\n",
    "plt.tight_layout()\n",
    "plt.show()"
   ]
  },
  {
   "cell_type": "code",
   "execution_count": null,
   "metadata": {},
   "outputs": [],
   "source": []
  }
 ],
 "metadata": {
  "kernelspec": {
   "display_name": "bmcs_matmod",
   "language": "python",
   "name": "python3"
  },
  "language_info": {
   "codemirror_mode": {
    "name": "ipython",
    "version": 3
   },
   "file_extension": ".py",
   "mimetype": "text/x-python",
   "name": "python",
   "nbconvert_exporter": "python",
   "pygments_lexer": "ipython3"
  }
 },
 "nbformat": 4,
 "nbformat_minor": 2
}
