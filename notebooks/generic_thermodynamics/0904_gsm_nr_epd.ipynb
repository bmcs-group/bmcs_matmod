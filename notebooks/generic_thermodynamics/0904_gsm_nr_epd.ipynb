{
 "cells": [
  {
   "cell_type": "markdown",
   "metadata": {},
   "source": [
    "# Elasto-plastic isotropic hardening model\n",
    "\n",
    "Verification of the Legendre transform"
   ]
  },
  {
   "cell_type": "code",
   "execution_count": null,
   "metadata": {},
   "outputs": [],
   "source": [
    "%matplotlib widget\n",
    "from bmcs_matmod import GSMRM\n",
    "from bmcs_matmod import GSMNR\n",
    "import matplotlib.pylab as plt\n",
    "import sympy as sp\n",
    "import numpy as np\n",
    "from bmcs_utils.api import Cymbol, cymbols\n",
    "from bmcs_matmod.gsm.potentials.potential1d_t_e_vp_d_lih import Potential1D_T_E_VP_D_LIH_SymbExpr \n",
    "from bmcs_matmod.gsm.potentials.potential1d_t_e_vp_lih import Potential1D_T_E_VP_LIH_SymbExpr \n",
    "sp.init_printing()"
   ]
  },
  {
   "cell_type": "markdown",
   "metadata": {},
   "source": [
    "## Direct solution of consistency condition"
   ]
  },
  {
   "cell_type": "markdown",
   "metadata": {},
   "source": [
    "### Helmholtz free energy"
   ]
  },
  {
   "cell_type": "code",
   "execution_count": null,
   "metadata": {},
   "outputs": [],
   "source": [
    "p1d = Potential1D_T_E_VP_D_LIH_SymbExpr()\n",
    "p1d.F_"
   ]
  },
  {
   "cell_type": "markdown",
   "metadata": {},
   "source": [
    "### GSM drivers"
   ]
  },
  {
   "cell_type": "code",
   "execution_count": null,
   "metadata": {},
   "outputs": [],
   "source": [
    "gsm_F = GSMRM(\n",
    "    name = 'gsm_F_1d_t_e_vp_d_lkh',\n",
    "    u_vars = p1d.eps_a,\n",
    "    sig_vars = p1d.sig_a,\n",
    "    T_var = p1d.T,\n",
    "    m_params = p1d.mparams,\n",
    "    Eps_vars = p1d.Eps_vars,\n",
    "    Sig_vars = p1d.Sig_vars,\n",
    "    Sig_signs = p1d.Sig_signs,\n",
    "    F_expr = p1d.F_,\n",
    "    f_expr = p1d.f_,\n",
    "    phi_ext_expr = p1d.phi_ext_,\n",
    "    t_relax = p1d.t_relax_\n",
    ")\n",
    "\n",
    "gsm_L = GSMNR(\n",
    "    name = 'gsm_F_1d_t_e_vp_d_lkh_l',\n",
    "    u_vars = p1d.eps_a,\n",
    "    sig_vars = p1d.sig_a,\n",
    "    T_var = p1d.T,\n",
    "    m_params = p1d.mparams,\n",
    "    Eps_vars = p1d.Eps_vars,\n",
    "    Sig_vars = p1d.Sig_vars,\n",
    "    Sig_signs = p1d.Sig_signs,\n",
    "    F_expr = p1d.F_,\n",
    "    f_expr = p1d.f_,\n",
    "    phi_ext_expr = p1d.phi_ext_,\n",
    "    t_relax = p1d.t_relax_\n",
    ")"
   ]
  },
  {
   "cell_type": "code",
   "execution_count": null,
   "metadata": {},
   "outputs": [],
   "source": [
    "gsm_F.Sig_.as_explicit(), gsm_L.Sig_.as_explicit()"
   ]
  },
  {
   "cell_type": "code",
   "execution_count": null,
   "metadata": {},
   "outputs": [],
   "source": [
    "R_, _, _, _, _ = gsm_L.f_R_dR_n1\n",
    "R_"
   ]
  },
  {
   "cell_type": "code",
   "execution_count": null,
   "metadata": {},
   "outputs": [],
   "source": [
    "from matplotlib.pylab import f\n",
    "mparams_epd = dict(E_=1, K_lin_=1e-5, f_c_=1, S_=0.1, c_=0.1, r_=1, eta_=1, C_v_=1, T_0_=20)\n",
    "# eps_n_ = np.array([1.0, -1.0, 0, 0], dtype=np.float_)\n",
    "# d_eps_ = np.array([0.1, -0.1, 2, -2], dtype=np.float_)\n",
    "eps_n_ = np.array([0], dtype=np.float_)\n",
    "d_eps_ = np.array([2], dtype=np.float_)\n",
    "d_A_ = np.zeros((eps_n_.shape[0], gsm_L.n_Eps_explicit+1), dtype=np.float_)\n",
    "Eps_n_ = np.zeros((eps_n_.shape[0], gsm_L.n_Eps_explicit), dtype=np.float_)\n",
    "tol = 1e-8\n",
    "max_iter = 150\n",
    "for k in range(max_iter):\n",
    "    f_n1_, R_n1_, dR_n1_ = gsm_L.get_f_R_dR_n1(eps_n_, d_eps_, Eps_n_, d_A_, 1, **mparams_epd)\n",
    "    norm_R_n1_ = np.linalg.norm(R_n1_, axis=-1)\n",
    "    I_ = norm_R_n1_ >= tol\n",
    "    if np.all(I_ == False):\n",
    "        print(f'|R| = {norm_R_n1_}, f = {f_n1_}, k = {k}')\n",
    "        break\n",
    "    d_A_[I_] += np.linalg.solve(dR_n1_[I_], -R_n1_[I_])\n",
    "    d_A_[d_A_[..., 2] > 1] = 0.9999\n",
    "print('d_A_', d_A_)"
   ]
  },
  {
   "cell_type": "code",
   "execution_count": null,
   "metadata": {},
   "outputs": [],
   "source": [
    "mparams_epd = dict(E_=1, K_lin_=1e-5, f_c_=1, S_=0.1, c_=0.1, r_=1, eta_=1, C_v_=1, T_0_=20)\n",
    "eps_n_I = np.array([0, 1.0, 1.0, -1.0, 0, 0], dtype=np.float_)\n",
    "d_eps_I = np.array([0.1, -0.1, 0.1, -0.1, 2, -2], dtype=np.float_)\n",
    "n_I = eps_n_I.shape[0]\n",
    "d_t = 1\n",
    "Eps_n_Ib = np.zeros((n_I, gsm_L.n_Eps_explicit), dtype=np.float_)\n",
    "\n",
    "Eps_n1_Ib, Sig_n1_Ib, lam_I, k_I = gsm_L.get_state_n1(eps_n_I, d_eps_I, d_t, Eps_n_Ib, 30, **mparams_epd )\n",
    "Eps_n1_Ib, Sig_n1_Ib, lam_I, k_I"
   ]
  },
  {
   "cell_type": "code",
   "execution_count": null,
   "metadata": {},
   "outputs": [],
   "source": [
    "mparams_epd = dict(E_=1, K_lin_=10, f_c_=1, S_=0.3, c_=0.1, r_=1, eta_=1, C_v_=1, T_0_=20)\n",
    "\n",
    "n_t = 51\n",
    "n_I = 1\n",
    "eps_max = 6\n",
    "t_t = np.linspace(0, 1, n_t)\n",
    "eps_n_t = np.linspace(0, eps_max, n_t)\n",
    "Eps_n_Ib = np.zeros((n_I, gsm_L.n_Eps_explicit), dtype=np.float_)\n",
    "t_t, eps_ta_nr_coarse, Eps_t, Sig_t_nr_coarse, iter_t, lam_t, (d_t_t, d_eps_ta) = gsm_L.get_response(eps_n_t, t_t, 100, **mparams_epd)"
   ]
  },
  {
   "cell_type": "code",
   "execution_count": null,
   "metadata": {},
   "outputs": [],
   "source": [
    "n_t = 2000\n",
    "n_I = 1\n",
    "t_t = np.linspace(0, 1, n_t)\n",
    "eps_n_t = np.linspace(0, eps_max, n_t)\n",
    "Eps_n_Ib = np.zeros((n_I, gsm_L.n_Eps_explicit), dtype=np.float_)\n",
    "t_t, eps_ta_nr_fine, Eps_t, Sig_t_nr_fine, iter_t, lam_t, (d_t_t, d_eps_ta) = gsm_L.get_response(eps_n_t, t_t, 30, **mparams_epd)"
   ]
  },
  {
   "cell_type": "code",
   "execution_count": null,
   "metadata": {},
   "outputs": [],
   "source": [
    "n_t = 51\n",
    "t_t = np.linspace(0, 1, n_t)\n",
    "eps_n_t = np.linspace(0, eps_max, n_t)[:, np.newaxis]\n",
    "Eps_n_Ib = np.zeros((n_I, gsm_L.n_Eps_explicit), dtype=np.float_)\n",
    "T_t = np.zeros_like(t_t) + 20\n",
    "t_t, eps_ta_rm, T_t, Eps_t, Sig_t_rm, iter_t, dDiss_dEps_t, lam_t, (d_t_t, d_eps_ta) = gsm_F.get_response(eps_n_t, T_t, t_t, k_max=20, **mparams_epd)"
   ]
  },
  {
   "cell_type": "code",
   "execution_count": null,
   "metadata": {},
   "outputs": [],
   "source": [
    "fig, ax = plt.subplots(1, 1)\n",
    "ax.plot(eps_ta_rm[:, 0, 0], Sig_t_rm[:,0,0], color='blue')\n",
    "ax.plot(eps_ta_nr_coarse, Sig_t_nr_coarse[:,:,0], color='red')\n",
    "ax.plot(eps_ta_nr_fine, Sig_t_nr_fine[:,:,0], color='green')\n"
   ]
  },
  {
   "cell_type": "markdown",
   "metadata": {},
   "source": [
    "## Next step identification"
   ]
  },
  {
   "cell_type": "markdown",
   "metadata": {},
   "source": [
    "$$\n",
    "\\boldsymbol{\\mathcal{R}}(\\Delta{\\boldsymbol{\\mathcal{A}}}) = 0\n",
    "$$\n",
    "\n",
    "$$\n",
    "\\boldsymbol{\\mathcal{R}}(\\Delta{\\boldsymbol{\\mathcal{A}}}_{k+1}) =\n",
    "\\boldsymbol{\\mathcal{R}}(\\Delta{\\boldsymbol{\\mathcal{A}}}_k) +\n",
    "\\left.\n",
    "    \\frac{\\partial \\boldsymbol{\\mathcal{R}} \n",
    "}{\\partial \\Delta{\\boldsymbol{\\mathcal{A}}}} \n",
    "\\right|_{\\Delta{\\boldsymbol{\\mathcal{A}}}_k}\n",
    "\\delta(\\Delta{\\boldsymbol{\\mathcal{A}}}) = 0\n",
    "$$"
   ]
  },
  {
   "cell_type": "markdown",
   "metadata": {},
   "source": [
    "\\begin{align}\n",
    "\\left.\n",
    "    \\frac{\\partial \\boldsymbol{\\mathcal{R}} \n",
    "}{\\partial \\Delta{\\boldsymbol{\\mathcal{A}}}} \n",
    "\\right|_{\\Delta{\\boldsymbol{\\mathcal{A}}}_k}\n",
    "\\delta (\\Delta{\\boldsymbol{\\mathcal{A}}}) &= - \n",
    "\\boldsymbol{\\mathcal{R}}(\\Delta{\\boldsymbol{\\mathcal{A}}}_k) \\\\\n",
    "\\Delta{\\boldsymbol{\\mathcal{A}}}_{k+1} &= \n",
    "\\Delta{\\boldsymbol{\\mathcal{A}}}_k + \n",
    "\\delta (\\Delta{\\boldsymbol{\\mathcal{A}}})\n",
    "\\end{align}\n"
   ]
  },
  {
   "cell_type": "markdown",
   "metadata": {},
   "source": [
    "## Example for a workshop"
   ]
  },
  {
   "cell_type": "code",
   "execution_count": null,
   "metadata": {},
   "outputs": [],
   "source": [
    "x, t = sp.symbols('x t', real=True)\n",
    "x = sp.Function('x')(t)\n",
    "f = sp.Function('f')(x)\n",
    "dot_x = x.diff(t)\n",
    "f = x**2\n",
    "get_f = sp.lambdify((x), f, modules=['numpy'])"
   ]
  },
  {
   "cell_type": "code",
   "execution_count": null,
   "metadata": {},
   "outputs": [],
   "source": [
    "dot_x - f"
   ]
  },
  {
   "cell_type": "code",
   "execution_count": null,
   "metadata": {},
   "outputs": [],
   "source": [
    "t_n = sp.symbols('t_n', real=True)\n",
    "t_n1 = sp.symbols('t_n1', real=True)\n",
    "delta_t = sp.symbols(r'\\Delta{t}', real=True)\n",
    "x_n = sp.symbols('x_n', real=True)\n",
    "delta_x = sp.symbols(r'\\Delta{x}', real=True)\n",
    "x_n1 = x_n + delta_x\n",
    "a = sp.symbols('a', real=True)\n",
    "x_na = a * x_n1 + (1 - a) * x_n\n",
    "delta_x = x_n1 - x_n\n",
    "delta_x"
   ]
  },
  {
   "cell_type": "code",
   "execution_count": null,
   "metadata": {},
   "outputs": [],
   "source": [
    "x_na"
   ]
  },
  {
   "cell_type": "code",
   "execution_count": null,
   "metadata": {},
   "outputs": [],
   "source": [
    "x_t = x_n + delta_x / (delta_t) * t\n",
    "R_f_ = f.subs(x, x_na).subs(a, 0.5) - dot_x.subs(x, x_t).doit()\n",
    "dR_dx_f_ = R_f_.diff(delta_x)\n",
    "R_f_, dR_dx_f_"
   ]
  },
  {
   "cell_type": "code",
   "execution_count": null,
   "metadata": {},
   "outputs": [],
   "source": [
    "dR_dx_f_\n",
    "get_R_dR_f_ = sp.lambdify((x_n, delta_x, delta_t), (R_f_, dR_dx_f_), 'numpy')"
   ]
  },
  {
   "cell_type": "code",
   "execution_count": null,
   "metadata": {},
   "outputs": [],
   "source": [
    "x_val = 0\n",
    "delta_t_val = 1\n",
    "delta_x_val = 1\n",
    "t_range = np.linspace(0, 10, 11)\n",
    "x_range = np.zeros_like(t_range)\n",
    "f_range = np.zeros_like(t_range)\n",
    "for n in range(1, len(t_range)):\n",
    "    t_val = t_range[n]\n",
    "    x_range[n] = x_val\n",
    "    f_range[n] = get_f(x_val)\n",
    "    delta_x_val = 1\n",
    "    delta_t_val = t_range[n] - t_range[n-1]\n",
    "    for k in range(8):\n",
    "        print('x', x_val)\n",
    "        R_f_k, dR_dx_f_k = get_R_dR_f_(x_val, delta_x_val, delta_t_val)\n",
    "        print('R', R_f_k)\n",
    "        delta_x_val -= R_f_k / dR_dx_f_k\n",
    "    print('delta_x', delta_x_val)\n",
    "    x_val += delta_x_val\n",
    "x_range, f_range"
   ]
  },
  {
   "cell_type": "code",
   "execution_count": null,
   "metadata": {},
   "outputs": [],
   "source": [
    "delta_x_val"
   ]
  },
  {
   "cell_type": "code",
   "execution_count": null,
   "metadata": {},
   "outputs": [],
   "source": [
    "import numpy as np\n",
    "import matplotlib.pyplot as plt\n",
    "from scipy.optimize import fsolve\n",
    "\n",
    "# Differential equation parameters\n",
    "t_max = 10.0\n",
    "delta_t = 0.1\n",
    "num_steps = int(t_max / delta_t)\n",
    "\n",
    "# Initial condition\n",
    "epsilon_initial = 0.1\n",
    "\n",
    "# Time array\n",
    "time = np.linspace(0, t_max, num_steps + 1)\n",
    "\n",
    "# Array to store the solution\n",
    "epsilon = np.zeros(num_steps + 1)\n",
    "epsilon[0] = epsilon_initial\n",
    "\n",
    "# Function to solve for epsilon at the next time step using backward Euler\n",
    "def backward_euler_step(epsilon_current, delta_t):\n",
    "    # Define the implicit equation for the backward Euler step\n",
    "    func = lambda epsilon_next: epsilon_next - epsilon_current - delta_t * (1 - epsilon_next) * epsilon_next\n",
    "    epsilon_next = fsolve(func, epsilon_current)\n",
    "    return epsilon_next[0]\n",
    "\n",
    "# Time-stepping loop\n",
    "for n in range(num_steps):\n",
    "    epsilon[n + 1] = backward_euler_step(epsilon[n], delta_t)\n",
    "\n",
    "# Plotting the results\n",
    "plt.figure(figsize=(10, 6))\n",
    "plt.plot(time, epsilon, label='Backward Euler', marker='o')\n",
    "plt.title('Solution to $\\\\dot{\\\\epsilon} = (1 - \\\\epsilon) \\\\cdot \\\\epsilon$ using Backward Euler')\n",
    "plt.xlabel('Time')\n",
    "plt.ylabel('$\\\\epsilon$')\n",
    "plt.grid(True)\n",
    "plt.legend()\n",
    "plt.show()"
   ]
  },
  {
   "cell_type": "markdown",
   "metadata": {},
   "source": [
    "1. **Define the Residual**: You have a residual vector $ R(Eps, dot\\_Eps) = 0 $, representing the implicit ODEs.\n",
    "\n",
    "2. **Discretize the Variables**: You have discretized the variables using:\n",
    "   $$\n",
    "   Eps = Eps_n + \\Delta Eps, \\quad dot\\_Eps = \\frac{\\Delta Eps}{\\Delta t}\n",
    "   $$\n",
    "   \n",
    "3. **Substitute** these discrete representations into the residual.\n",
    "\n",
    "4. **Linearize Using Taylor Expansion**: Using a first-order Taylor expansion around the known values, you arrive at the system:\n",
    "   $$\n",
    "   J \\cdot \\Delta Eps = -R\n",
    "   $$\n",
    "   where $ J = \\frac{\\partial R}{\\partial Eps} $ is the Jacobian matrix.\n",
    "\n",
    "5. **Solve the Linear System**: This linear system can be solved for $\\Delta Eps$, updating the solution iteratively.\n",
    "\n",
    "Let's demonstrate this with a simple example using Python and `sympy` for symbolic computation:\n",
    "\n",
    "```python\n",
    "import sympy as sp\n",
    "import numpy as np\n",
    "from scipy.linalg import solve\n",
    "\n",
    "# Define symbols\n",
    "eps_1, eps_2 = sp.symbols('eps_1 eps_2')\n",
    "dot_eps_1, dot_eps_2, delta_t = sp.symbols('dot_eps_1 dot_eps_2 delta_t')\n",
    "Eps_n1, Eps_n2 = sp.symbols('Eps_n1 Eps_n2')\n",
    "delta_Eps1, delta_Eps2 = sp.symbols('delta_Eps1 delta_Eps2')\n",
    "\n",
    "# Define the residual vector R(Eps, dot_Eps)\n",
    "R1 = dot_eps_1 - (1 - eps_1) * eps_1 - eps_2\n",
    "R2 = dot_eps_2 - eps_1 * eps_2\n",
    "R = sp.Matrix([R1, R2])\n",
    "\n",
    "# Substitute discretization into the residual\n",
    "Eps = [eps_1, eps_2]\n",
    "dot_Eps = [delta_Eps1/delta_t, delta_Eps2/delta_t]\n",
    "R_sub = R.subs({eps_1: Eps_n1 + delta_Eps1, eps_2: Eps_n2 + delta_Eps2,\n",
    "                dot_eps_1: delta_Eps1/delta_t, dot_eps_2: delta_Eps2/delta_t})\n",
    "\n",
    "# Derive the Jacobian J = dR/dEps\n",
    "J = R_sub.jacobian([delta_Eps1, delta_Eps2])\n",
    "\n",
    "# Create a function to evaluate R_sub and J\n",
    "R_func = sp.lambdify((Eps_n1, Eps_n2, delta_Eps1, delta_Eps2, delta_t), R_sub, 'numpy')\n",
    "J_func = sp.lambdify((Eps_n1, Eps_n2, delta_Eps1, delta_Eps2, delta_t), J, 'numpy')\n",
    "\n",
    "# Solver function using Newton's method\n",
    "def newton_solver(Eps_n, delta_t, tol=1e-6, max_iter=50):\n",
    "    delta_Eps = np.zeros_like(Eps_n)\n",
    "    for _ in range(max_iter):\n",
    "        R_val = np.array(R_func(*Eps_n, *delta_Eps, delta_t)).astype(float).ravel()\n",
    "        J_val = np.array(J_func(*Eps_n, *delta_Eps, delta_t)).astype(float)\n",
    "        \n",
    "        if np.linalg.norm(R_val) < tol:\n",
    "            break\n",
    "\n",
    "        delta_Eps -= np.linalg.solve(J_val, R_val)\n",
    "    \n",
    "    return Eps_n + delta_Eps\n",
    "\n",
    "# Example usage\n",
    "Eps_n = np.array([0.1, 0.1])  # Initial condition\n",
    "delta_t = 0.1  # Time step\n",
    "\n",
    "# Solving for the next time step\n",
    "Eps_next = newton_solver(Eps_n, delta_t)\n",
    "print(\"Eps_next:\", Eps_next)\n",
    "```\n",
    "\n",
    "### Explanation:\n",
    "\n",
    "- **SymPy Setup**: We first set up symbolic expressions using SymPy for the residuals.\n",
    "- **Discretization Substitution**: We substitute $ Eps = Eps_n + \\Delta Eps $ and $ dot\\_Eps = \\frac{\\Delta Eps}{\\Delta t} $ into the residuals.\n",
    "- **Jacobian Calculation**: Use SymPy's Jacobian function to obtain the derivative matrix $ J $.\n",
    "- **Numerical Function Conversion**: Convert the symbolic representations to numerical functions using `lambdify`.\n",
    "- **Solver**: Implement Newton's method to solve for $ \\Delta Eps $ iteratively.\n",
    "\n",
    "This script gives you a starting framework to apply a Newton-Raphson based method for solving implicit ODE systems using backward Euler discretization. Adjust the `R1` and `R2` expressions to match your specific system."
   ]
  },
  {
   "cell_type": "code",
   "execution_count": null,
   "metadata": {},
   "outputs": [],
   "source": [
    "import sympy as sp\n",
    "import numpy as np\n",
    "from scipy.linalg import solve\n",
    "\n",
    "# Define symbols\n",
    "eps_1, eps_2 = sp.symbols('eps_1 eps_2')\n",
    "dot_eps_1, dot_eps_2, delta_t = sp.symbols('dot_eps_1 dot_eps_2 delta_t')\n",
    "Eps_n1, Eps_n2 = sp.symbols('Eps_n1 Eps_n2')\n",
    "delta_Eps1, delta_Eps2 = sp.symbols('delta_Eps1 delta_Eps2')\n",
    "\n",
    "# Define the residual vector R(Eps, dot_Eps)\n",
    "R1 = dot_eps_1 - (1 - eps_1) * eps_1 - eps_2\n",
    "R2 = dot_eps_2 - eps_1 * eps_2\n",
    "R = sp.Matrix([R1, R2])\n",
    "\n",
    "# Substitute discretization into the residual\n",
    "Eps = [eps_1, eps_2]\n",
    "dot_Eps = [delta_Eps1/delta_t, delta_Eps2/delta_t]\n",
    "R_sub = R.subs({eps_1: Eps_n1 + delta_Eps1, eps_2: Eps_n2 + delta_Eps2,\n",
    "                dot_eps_1: delta_Eps1/delta_t, dot_eps_2: delta_Eps2/delta_t})\n",
    "\n",
    "# Derive the Jacobian J = dR/dEps\n",
    "J = R_sub.jacobian([delta_Eps1, delta_Eps2])\n",
    "\n",
    "# Create a function to evaluate R_sub and J\n",
    "R_func = sp.lambdify((Eps_n1, Eps_n2, delta_Eps1, delta_Eps2, delta_t), R_sub, 'numpy')\n",
    "J_func = sp.lambdify((Eps_n1, Eps_n2, delta_Eps1, delta_Eps2, delta_t), J, 'numpy')\n",
    "\n",
    "# Solver function using Newton's method\n",
    "def newton_solver(Eps_n, delta_t, tol=1e-6, max_iter=50):\n",
    "    delta_Eps = np.zeros_like(Eps_n)\n",
    "    for i in range(max_iter):\n",
    "        R_val = np.array(R_func(*Eps_n, *delta_Eps, delta_t)).astype(float).ravel()\n",
    "        print(i, R_val)\n",
    "        if np.linalg.norm(R_val) < tol:\n",
    "            break\n",
    "        J_val = np.array(J_func(*Eps_n, *delta_Eps, delta_t)).astype(float)\n",
    "        delta_Eps -= np.linalg.solve(J_val, R_val)\n",
    "    \n",
    "    return Eps_n + delta_Eps\n",
    "\n",
    "# Example usage\n",
    "Eps_n = np.array([0.1, 0.1])  # Initial condition\n",
    "delta_t = 0.1  # Time step\n",
    "\n",
    "# Solving for the next time step\n",
    "Eps_next = newton_solver(Eps_n, delta_t)\n",
    "print(\"Eps_next:\", Eps_next)"
   ]
  },
  {
   "cell_type": "code",
   "execution_count": null,
   "metadata": {},
   "outputs": [],
   "source": []
  }
 ],
 "metadata": {
  "kernelspec": {
   "display_name": "bmcs_env2",
   "language": "python",
   "name": "python3"
  },
  "language_info": {
   "codemirror_mode": {
    "name": "ipython",
    "version": 3
   },
   "file_extension": ".py",
   "mimetype": "text/x-python",
   "name": "python",
   "nbconvert_exporter": "python",
   "pygments_lexer": "ipython3"
  }
 },
 "nbformat": 4,
 "nbformat_minor": 2
}
