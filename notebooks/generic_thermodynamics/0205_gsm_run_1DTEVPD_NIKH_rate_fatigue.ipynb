{
 "cells": [
  {
   "cell_type": "markdown",
   "metadata": {},
   "source": [
    "# Study of the rate dependency for monotonic and cyclic loading\n",
    "\n",
    " - This notebook simultaneously indicates how to implement the GSM in an efficient way which \n",
    "   enables the derivation using sympy to be made separately within a GSMSymb class - or its upgrade.\n",
    "   The derivation class specifies which methods are to be transformed to an executable code.\n",
    "   They are then cached in generated files and upon execution, the GSMRun class which uses the \n",
    "   generated methods.  "
   ]
  },
  {
   "cell_type": "code",
   "execution_count": null,
   "metadata": {},
   "outputs": [],
   "source": [
    "%matplotlib widget\n",
    "from mat_study_te_vp_d import MatStudy_T_E_VP_D"
   ]
  },
  {
   "cell_type": "code",
   "execution_count": null,
   "metadata": {},
   "outputs": [],
   "source": [
    "loading_freq = 5 # Hz\n",
    "sig_max, sig_min = 70, 10 # MPa\n",
    "delta_sig = sig_max - sig_min\n",
    "T_cycle = 1 / loading_freq # sec\n",
    "dot_sig = delta_sig / (T_cycle / 2) # MPa / sec\n",
    "dot_eps = dot_sig / 35000\n",
    "dot_eps"
   ]
  },
  {
   "cell_type": "code",
   "execution_count": null,
   "metadata": {},
   "outputs": [],
   "source": [
    "eps_cylinder = 1 / 300 / 60\n",
    "eps_cylinder"
   ]
  },
  {
   "cell_type": "code",
   "execution_count": null,
   "metadata": {},
   "outputs": [],
   "source": [
    "m_study = MatStudy_T_E_VP_D()"
   ]
  },
  {
   "cell_type": "code",
   "execution_count": null,
   "metadata": {},
   "outputs": [],
   "source": [
    "_f_c = 44\n",
    "_f_t = -0.1 * _f_c\n",
    "_X_0 = (_f_c + _f_t) / 2\n",
    "_f_s = (_f_c - _f_t) / 2\n",
    "_E = 50000\n",
    "_KH_factor = 1\n",
    "_KH = _E * _KH_factor\n",
    "_K_ratio = 0.01 # 0.01 # 0.015\n",
    "_K = _KH * _K_ratio\n",
    "_H = _KH * (1 - _K_ratio)\n",
    "material_params = dict(\n",
    "    E_=_E, \n",
    "    gamma_lin_= _H, # _E * 10, \n",
    "    gamma_exp_= 1,\n",
    "    alpha_0_ = 0.003,\n",
    "    K_lin_= _K, # _E / 5,\n",
    "    k_exp_= 0.5,\n",
    "    z_0_ = 10, # 0.003,\n",
    "    S_=0.08,\n",
    "    c_=2.5 * 3,\n",
    "    r_=2.7,\n",
    "    f_c_=_f_s,\n",
    "    X_0_=_X_0,  \n",
    "    eta_=20000,\n",
    "    T_0_=20,\n",
    "    C_v_=0.01, # 0.0001, \n",
    "    beta_=0.0001,\n",
    "    alpha_therm_=0, # 1.2e-5,\n",
    "    d_N_ = 1\n",
    ")"
   ]
  },
  {
   "cell_type": "code",
   "execution_count": null,
   "metadata": {},
   "outputs": [],
   "source": [
    "m_study.material_params = material_params"
   ]
  },
  {
   "cell_type": "code",
   "execution_count": null,
   "metadata": {},
   "outputs": [],
   "source": [
    "fig, axes = m_study.get_fig_monotonic()\n",
    "m_study.dot_eps = 0.0055\n",
    "m_study.plot_monotonic(axes)\n",
    "m_study.dot_eps = 0.000055\n",
    "m_study.plot_monotonic(axes)"
   ]
  },
  {
   "cell_type": "code",
   "execution_count": null,
   "metadata": {},
   "outputs": [],
   "source": [
    "m_study.plot_loading()"
   ]
  },
  {
   "cell_type": "code",
   "execution_count": null,
   "metadata": {},
   "outputs": [],
   "source": [
    "m_study.freq = 5\n",
    "#m_study.fatigue_response"
   ]
  },
  {
   "cell_type": "code",
   "execution_count": null,
   "metadata": {},
   "outputs": [],
   "source": [
    "m_study.plot_fatigue_config()"
   ]
  },
  {
   "cell_type": "code",
   "execution_count": null,
   "metadata": {},
   "outputs": [],
   "source": [
    "m_study.freq = 20\n",
    "m_study.fatigue_responses"
   ]
  },
  {
   "cell_type": "code",
   "execution_count": null,
   "metadata": {},
   "outputs": [],
   "source": [
    "m_study.plot_fatigue_config()"
   ]
  },
  {
   "cell_type": "code",
   "execution_count": null,
   "metadata": {},
   "outputs": [],
   "source": [
    "import numpy as np\n",
    "m_study.S_max_levels = np.array([1, 0.9, 0.8])\n",
    "m_study.plot_config = {\n",
    "    #     'one': ([0], True),\n",
    "        # 'two': ([1,3], False),\n",
    "        # 'endurance' : ([1,4], False), \n",
    "        # 'three': ([1,2, 3], False),\n",
    "        # 'four': ([0, 1,2, 3], False),\n",
    "    }"
   ]
  },
  {
   "cell_type": "code",
   "execution_count": null,
   "metadata": {},
   "outputs": [],
   "source": [
    "m_study.freq = 5\n",
    "m_study.fatigue_response"
   ]
  },
  {
   "cell_type": "code",
   "execution_count": null,
   "metadata": {},
   "outputs": [],
   "source": [
    "m_study.plot_fatigue_config()"
   ]
  },
  {
   "cell_type": "code",
   "execution_count": null,
   "metadata": {},
   "outputs": [],
   "source": []
  }
 ],
 "metadata": {
  "kernelspec": {
   "display_name": "bmcs_env2",
   "language": "python",
   "name": "python3"
  },
  "language_info": {
   "codemirror_mode": {
    "name": "ipython",
    "version": 3
   },
   "file_extension": ".py",
   "mimetype": "text/x-python",
   "name": "python",
   "nbconvert_exporter": "python",
   "pygments_lexer": "ipython3"
  }
 },
 "nbformat": 4,
 "nbformat_minor": 2
}
