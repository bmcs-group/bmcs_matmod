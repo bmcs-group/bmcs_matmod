{
 "cells": [
  {
   "cell_type": "code",
   "execution_count": null,
   "metadata": {},
   "outputs": [],
   "source": [
    "import sympy as sp\n",
    "from bmcs_utils.api import Cymbol\n",
    "sp.init_printing()"
   ]
  },
  {
   "cell_type": "code",
   "execution_count": null,
   "metadata": {},
   "outputs": [],
   "source": [
    "p = Cymbol(r'p', codename='p', real=True)\n",
    "V = Cymbol(r'V', codename='V', real=True)\n",
    "s = Cymbol(r's', codename='s', real=True)\n",
    "T = Cymbol(r'T', codename='T', real=True)"
   ]
  },
  {
   "cell_type": "code",
   "execution_count": null,
   "metadata": {},
   "outputs": [],
   "source": [
    "F = sp.Function('F')(V, T)\n",
    "G = sp.Function('G')(p, T)\n",
    "U = sp.Function('U')(p, s)\n",
    "e = sp.Function('e')(V, s)"
   ]
  },
  {
   "cell_type": "code",
   "execution_count": null,
   "metadata": {},
   "outputs": [],
   "source": [
    "U"
   ]
  },
  {
   "cell_type": "code",
   "execution_count": null,
   "metadata": {},
   "outputs": [],
   "source": []
  },
  {
   "cell_type": "code",
   "execution_count": null,
   "metadata": {},
   "outputs": [],
   "source": [
    "x = Cymbol(r'x', codename='x')\n",
    "y = Cymbol(r'y', codename='y')\n",
    "X = sp.Function('X')(x)\n",
    "Y = sp.Function('Y')(y)\n",
    "x_fn = sp.Function(r'\\hat{x}')(y)\n",
    "y_fn = sp.Function(r'\\hat{y}')(x)\n",
    "y_ = X.diff(x)\n",
    "dy_dx_ = y_.diff(x)\n",
    "dy_dx_"
   ]
  },
  {
   "cell_type": "code",
   "execution_count": null,
   "metadata": {},
   "outputs": [],
   "source": [
    "LT = sp.Eq(X + Y, x_fn*y_fn)\n",
    "LT"
   ]
  },
  {
   "cell_type": "code",
   "execution_count": null,
   "metadata": {},
   "outputs": [],
   "source": [
    "LT_diff_y = sp.Eq( (X.subs(x, x_fn) +Y).diff(y), (x_fn * y).diff(y))\n",
    "LT_diff_y"
   ]
  },
  {
   "cell_type": "code",
   "execution_count": null,
   "metadata": {},
   "outputs": [],
   "source": []
  }
 ],
 "metadata": {
  "kernelspec": {
   "display_name": "bmcs_env2",
   "language": "python",
   "name": "python3"
  },
  "language_info": {
   "codemirror_mode": {
    "name": "ipython",
    "version": 3
   },
   "file_extension": ".py",
   "mimetype": "text/x-python",
   "name": "python",
   "nbconvert_exporter": "python",
   "pygments_lexer": "ipython3"
  }
 },
 "nbformat": 4,
 "nbformat_minor": 2
}
