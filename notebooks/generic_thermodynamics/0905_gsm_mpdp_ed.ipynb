{
 "cells": [
  {
   "cell_type": "markdown",
   "metadata": {},
   "source": [
    "# MPDP: Visco-elasto-plasticity with isotropic hardening\n",
    "\n",
    "Associated, rate-dependent plasticity. .\n",
    "\n",
    "Application of GSM MPDP - Dissipation potential for visco-elasticity included\n"
   ]
  },
  {
   "cell_type": "code",
   "execution_count": null,
   "metadata": {},
   "outputs": [],
   "source": [
    "%matplotlib widget\n",
    "from bmcs_matmod.api import GSMMPDP\n",
    "import matplotlib.pylab as plt\n",
    "import sympy as sp\n",
    "import numpy as np\n",
    "sp.init_printing()"
   ]
  },
  {
   "cell_type": "markdown",
   "metadata": {},
   "source": [
    "### Helmholtz free energy"
   ]
  },
  {
   "cell_type": "code",
   "execution_count": null,
   "metadata": {},
   "outputs": [],
   "source": [
    "E = sp.Symbol(r'E', real=True, nonnegative=True)\n",
    "S = sp.Symbol(r'S', real=True, nonnegative=True)\n",
    "c = sp.Symbol(r'c', real=True, nonnegative=True)\n",
    "r = sp.Symbol(r'r', real=True, nonnegative=True)\n",
    "eps_0 = sp.Symbol(r'\\varepsilon_0', real=True, nonnegative=True)\n",
    "\n",
    "\n",
    "mparams = (E, S, c, r, eps_0)\n",
    "\n",
    "# ## External state variables\n",
    "\n",
    "eps = sp.Symbol(r'\\varepsilon', real=True)\n",
    "eps_a = sp.Matrix([eps])\n",
    "sig = sp.Symbol(r'\\sigma', real=True)\n",
    "sig_a = sp.Matrix([sig])\n",
    "\n",
    "# ## Internal state variables\n",
    "\n",
    "z = sp.Symbol(r'z', codename='z_', real=True, nonnegative=True)\n",
    "z_a = sp.Matrix([z])\n",
    "Z = sp.Symbol(r'Z', codename='Z_', real=True, nonnegative=True)\n",
    "Z_a = sp.Matrix([Z])\n",
    "\n",
    "omega = sp.Symbol(r'\\omega', real=True)\n",
    "omega_a = sp.Matrix([omega])\n",
    "Y = sp.Symbol(r'Y', real=True)\n",
    "Y_a = sp.Matrix([Y])\n",
    "\n",
    "# ## Free energy potential\n",
    "eps_el = eps\n",
    "U_e_ = sp.Rational(1,2) * (1 - omega) * E * eps_el**2 + sp.Rational(1,2) * z**2\n",
    "F_ = U_e_\n",
    "\n",
    "\n",
    "Eps_vars = (omega_a, z_a)\n",
    "Sig_vars = (Y_a, Z_a)\n",
    "Sig_signs =  (-1, 1)\n"
   ]
  },
  {
   "cell_type": "markdown",
   "metadata": {},
   "source": [
    "### GSM drivers"
   ]
  },
  {
   "cell_type": "code",
   "execution_count": null,
   "metadata": {},
   "outputs": [],
   "source": [
    "gsm_ved = GSMMPDP(\n",
    "    name = 'gsm_F_1d_mpdp_ed',\n",
    "    diff_along_rates = False,\n",
    "    u_vars = eps_a,\n",
    "    T_var = sp.Symbol('T', real=True),\n",
    "    sig_vars = sig_a,\n",
    "    m_params = mparams,\n",
    "    Eps_vars = Eps_vars,\n",
    "    Sig_vars = Sig_vars,\n",
    "    Sig_signs = Sig_signs,\n",
    "    F_expr = F_,\n",
    "    f_expr = sp.Abs(eps) - (eps_0 + Z),\n",
    "    phi_ext_expr = (1 - omega)**c * (S/(r+1)) * (Y / S)**(r+1)\n",
    ")"
   ]
  },
  {
   "cell_type": "code",
   "execution_count": null,
   "metadata": {},
   "outputs": [],
   "source": [
    "gsm_ved.dot_eps"
   ]
  },
  {
   "cell_type": "code",
   "execution_count": null,
   "metadata": {},
   "outputs": [],
   "source": [
    "sp.simplify(gsm_ved.F_expr)"
   ]
  },
  {
   "cell_type": "code",
   "execution_count": null,
   "metadata": {},
   "outputs": [],
   "source": [
    "gsm_ved.sig_"
   ]
  },
  {
   "cell_type": "code",
   "execution_count": null,
   "metadata": {},
   "outputs": [],
   "source": [
    "gsm_ved.Sig_, gsm_ved.phi_.diff(gsm_ved.Sig.as_explicit()), gsm_ved.Y_, gsm_ved.Phi_"
   ]
  },
  {
   "cell_type": "code",
   "execution_count": null,
   "metadata": {},
   "outputs": [],
   "source": [
    "(gamma_mech, L_, dL_dS_, dL_dS_A_, dR_dA_n1), (eps_n, delta_eps, Eps_n, delta_A, delta_t, Ox, Ix), Sig_n1, f_n1, R_n1, dR_dA_n1_OI = gsm_ved.Sig_f_R_dR_n1\n"
   ]
  },
  {
   "cell_type": "code",
   "execution_count": null,
   "metadata": {},
   "outputs": [],
   "source": [
    "sp.simplify(gsm_ved.sig_)"
   ]
  },
  {
   "cell_type": "code",
   "execution_count": null,
   "metadata": {},
   "outputs": [],
   "source": [
    "L_"
   ]
  },
  {
   "cell_type": "code",
   "execution_count": null,
   "metadata": {},
   "outputs": [],
   "source": [
    "Sig_n1"
   ]
  },
  {
   "cell_type": "code",
   "execution_count": null,
   "metadata": {},
   "outputs": [],
   "source": [
    "sp.simplify(dL_dS_)"
   ]
  },
  {
   "cell_type": "code",
   "execution_count": null,
   "metadata": {},
   "outputs": [],
   "source": [
    "R_n1"
   ]
  },
  {
   "cell_type": "code",
   "execution_count": null,
   "metadata": {},
   "outputs": [],
   "source": [
    "delta_A.T"
   ]
  },
  {
   "cell_type": "code",
   "execution_count": null,
   "metadata": {},
   "outputs": [],
   "source": [
    "dR_dA_n1_subs = dR_dA_n1.replace(sp.sign, lambda x: 1)\n",
    "dR_dA_n1_subs"
   ]
  },
  {
   "cell_type": "code",
   "execution_count": null,
   "metadata": {},
   "outputs": [],
   "source": [
    "mparams_epd = {E:10, c:1, r:1, S:10, eps_0:1}\n",
    "margs = [mparams_epd[p] for p in mparams]\n",
    "n_t = 100\n",
    "n_I = 1\n",
    "eps_max = 2\n",
    "t_t = np.linspace(0, 1, n_t)\n",
    "eps_n_t = np.linspace(0, eps_max, n_t)\n",
    "Eps_n_Ib = np.zeros((n_I, gsm_ved.n_Eps), dtype=np.float64)\n",
    "t_t, eps_ta, Eps_t, Sig_t, iter_t, lam_t, (d_t_t, d_eps_ta) = gsm_ved.get_response(eps_n_t, t_t, 100, *margs)\n",
    "# Plot viscoplastic strain and damage along time\n",
    "eps_t = eps_ta[:, 0]\n",
    "omega_t = Eps_t[:, 0, 0]\n",
    "sig_tIa = gsm_ved.get_sig(eps_ta[..., np.newaxis], Eps_t, *margs)\n",
    "sig_t = sig_tIa[:, 0, 0]"
   ]
  },
  {
   "cell_type": "code",
   "execution_count": null,
   "metadata": {},
   "outputs": [],
   "source": [
    "%matplotlib widget\n",
    "fig, (ax_sig, ax_omega) = plt.subplots(1, 2, figsize=(12, 5))\n",
    "\n",
    "# Plot stress-strain and iterations-strain curves\n",
    "ax_iter = ax_sig.twinx()\n",
    "ax_eps = ax_omega.twinx()\n",
    "\n",
    "ax_sig.plot(eps_t, sig_t, color='cadetblue', label=r'$\\varepsilon$')\n",
    "ax_sig.set_ylabel(r'$\\sigma$', color='darkslategray')\n",
    "ax_sig.legend()\n",
    "\n",
    "ax_iter.plot(eps_t, iter_t, ls='dashed', color='gray')\n",
    "ax_iter.set_ylabel(r'$k$', color='gray')\n",
    "\n",
    "ax_omega.plot(t_t, omega_t, label='Damage', color='royalblue')\n",
    "\n",
    "ax_omega.set_xlabel(r'$t$')\n",
    "ax_omega.set_ylabel(r'$\\omega$', color='royalblue')\n",
    "\n",
    "ax_eps.plot(t_t, eps_t, ls='dotted')\n",
    "\n",
    "plt.tight_layout()\n",
    "plt.show()"
   ]
  },
  {
   "cell_type": "code",
   "execution_count": null,
   "metadata": {},
   "outputs": [],
   "source": [
    "\n",
    "# Define the symbolic variable\n",
    "t = sp.symbols('t', real=True)\n",
    "eps = sp.symbols(r'\\varepsilon', real=True)\n",
    "\n",
    "# Define omega as a function of t\n",
    "omega = sp.Function('omega')\n",
    "\n",
    "# Define Y(t), leave symbolic or specify if known\n",
    "Y = sp.Function('Y')(eps)\n",
    "\n",
    "# Define the constant S\n",
    "S = sp.symbols('S', positive=True)\n",
    "\n",
    "# Define the differential equation\n",
    "ode = sp.Eq(omega(eps).diff(eps), (1 - omega(eps)) * (Y / S))\n",
    "display(ode)\n",
    "\n",
    "# Solve the ODE\n",
    "general_solution = sp.dsolve(ode, omega(eps))\n",
    "\n",
    "# Display the general solution\n",
    "print(\"General Solution:\")\n",
    "display(general_solution)\n",
    "\n",
    "# Apply the initial condition omega(0) = 0\n",
    "# Note: C1 is the integration constant in the solution\n",
    "\n",
    "# Solve for the constant of integration\n",
    "C1 = sp.symbols('C1')  # Integration constant\n",
    "omega_general = general_solution.rhs\n",
    "\n",
    "# Substitute omega(0) = 0\n",
    "initial_condition = sp.Eq(omega_general.subs(eps, 0), 0)\n",
    "#constants = {C1: sp.solve(initial_condition, dict=True)}\n",
    "constants = {C1:-1}\n",
    "# Substitute the constant back into the general solution\n",
    "particular_solution = general_solution.subs(constants)\n",
    "\n",
    "print(\"\\nParticular Solution with Initial Condition omega(0) = 0:\")\n",
    "particular_solution"
   ]
  },
  {
   "cell_type": "code",
   "execution_count": null,
   "metadata": {},
   "outputs": [],
   "source": [
    "dot_eps_c = sp.Symbol(r'\\dot{\\varepsilon}_c', real=True)\n",
    "sp.integrate((E * (dot_eps_c * t)**2), (t, 0, t))"
   ]
  },
  {
   "cell_type": "code",
   "execution_count": null,
   "metadata": {},
   "outputs": [],
   "source": []
  }
 ],
 "metadata": {
  "kernelspec": {
   "display_name": "bmcs_matmod",
   "language": "python",
   "name": "python3"
  },
  "language_info": {
   "codemirror_mode": {
    "name": "ipython",
    "version": 3
   },
   "file_extension": ".py",
   "mimetype": "text/x-python",
   "name": "python",
   "nbconvert_exporter": "python",
   "pygments_lexer": "ipython3"
  }
 },
 "nbformat": 4,
 "nbformat_minor": 2
}
