{
 "cells": [
  {
   "cell_type": "markdown",
   "metadata": {},
   "source": [
    "# MPDP: Visco-elasto-plasticity with isotropic hardening\n",
    "\n",
    "Associated, rate-dependent plasticity. .\n",
    "\n",
    "Application of GSM MPDP - Dissipation potential for visco-elasticity included\n"
   ]
  },
  {
   "cell_type": "code",
   "execution_count": null,
   "metadata": {},
   "outputs": [],
   "source": [
    "%matplotlib widget\n",
    "from bmcs_matmod.api import GSMMPDP\n",
    "import matplotlib.pylab as plt\n",
    "import sympy as sp\n",
    "import numpy as np\n",
    "sp.init_printing()"
   ]
  },
  {
   "cell_type": "markdown",
   "metadata": {},
   "source": [
    "### Helmholtz free energy"
   ]
  },
  {
   "cell_type": "code",
   "execution_count": null,
   "metadata": {},
   "outputs": [],
   "source": [
    "E = sp.Symbol(r'E', real=True, nonnegative=True)\n",
    "K = sp.Symbol(r'K', real=True)\n",
    "f_c = sp.Symbol(r'f_\\mathrm{c}')\n",
    "eta = sp.Symbol(r'\\eta', real=True, nonnegative=True)\n",
    "\n",
    "mparams = (E, K, f_c, eta)\n",
    "\n",
    "# ## External state variables\n",
    "\n",
    "eps = sp.Symbol(r'\\varepsilon', real=True)\n",
    "eps_a = sp.Matrix([eps])\n",
    "sig = sp.Symbol(r'\\sigma', real=True)\n",
    "sig_a = sp.Matrix([sig])\n",
    "\n",
    "# ## Internal state variables\n",
    "\n",
    "eps_p = sp.Symbol(r'\\varepsilon^\\mathrm{p}', real=True)\n",
    "eps_p_a = sp.Matrix([eps_p])\n",
    "sig_p = sp.Symbol(r'\\sigma^\\mathrm{p}', real=True)\n",
    "sig_p_a = sp.Matrix([sig_p])\n",
    "\n",
    "z = sp.Symbol(r'z', real=True, nonnegative=True)\n",
    "z_a = sp.Matrix([z])\n",
    "Z = sp.Symbol(r'Z', real=True, nonnegative=True)\n",
    "Z_a = sp.Matrix([Z])\n",
    "\n",
    "# ## Free energy potential\n",
    "eps_el = eps - eps_p\n",
    "U_e_ = sp.Rational(1,2) * E * eps_el**2\n",
    "U_p_ =  sp.Rational(1,2) * K * z**2\n",
    "F_ = U_e_ + U_p_\n",
    "\n",
    "# ## Flow potential\n",
    "f_ = sp.sqrt(sig_p**2) - (f_c + Z)\n",
    "phi_ext_ = 0\n",
    "\n",
    "Eps_vars = (eps_p_a, z_a)\n",
    "Sig_vars = (sig_p_a, Z_a)\n",
    "Sig_signs =  (-1, 1)\n"
   ]
  },
  {
   "cell_type": "markdown",
   "metadata": {},
   "source": [
    "### GSM drivers"
   ]
  },
  {
   "cell_type": "code",
   "execution_count": null,
   "metadata": {},
   "outputs": [],
   "source": [
    "gsm_vep = GSMMPDP(\n",
    "    name = 'gsm_F_1d_mpdp_vep_lih',\n",
    "    u_vars = eps_a,\n",
    "    sig_vars = sig_a,\n",
    "    m_params = mparams,\n",
    "    Eps_vars = Eps_vars,\n",
    "    Sig_vars = Sig_vars,\n",
    "    Sig_signs = Sig_signs,\n",
    "    F_expr = F_,\n",
    "    f_expr = f_,\n",
    "#    phi_ext_expr = phi_ext_,\n",
    ")"
   ]
  },
  {
   "cell_type": "code",
   "execution_count": null,
   "metadata": {},
   "outputs": [],
   "source": [
    "# dot_z = gsm_vep.dot_Eps[1, 0]\n",
    "# pi_mech = -sp.Rational(1,2) * eta * dot_z**2\n",
    "# gsm_vep.pi_expr = pi_mech\n",
    "#pi_mech.diff(gsm_vep.dot_Eps.as_explicit())"
   ]
  },
  {
   "cell_type": "code",
   "execution_count": null,
   "metadata": {},
   "outputs": [],
   "source": [
    "gsm_vep.phi_"
   ]
  },
  {
   "cell_type": "code",
   "execution_count": null,
   "metadata": {},
   "outputs": [],
   "source": [
    "gsm_vep.Sig_, gsm_vep.phi_.diff(gsm_vep.Sig.as_explicit()), gsm_vep.Y_, gsm_vep.Phi_"
   ]
  },
  {
   "cell_type": "code",
   "execution_count": null,
   "metadata": {},
   "outputs": [],
   "source": [
    "(gamma_mech, L_, dR_dA_n1), (eps_n, delta_eps, Eps_n, delta_A, delta_t, Ox, Ix), Sig_n1, f_n1, R_n1, dR_dA_n1 = gsm_vep.Sig_f_R_dR_n1\n",
    "gamma_mech"
   ]
  },
  {
   "cell_type": "code",
   "execution_count": null,
   "metadata": {},
   "outputs": [],
   "source": [
    "L_"
   ]
  },
  {
   "cell_type": "code",
   "execution_count": null,
   "metadata": {},
   "outputs": [],
   "source": [
    "Sig_n1"
   ]
  },
  {
   "cell_type": "code",
   "execution_count": null,
   "metadata": {},
   "outputs": [],
   "source": [
    "R_n1_subs = R_n1.replace(sp.sign, lambda x: 1)\n",
    "R_n1_subs"
   ]
  },
  {
   "cell_type": "code",
   "execution_count": null,
   "metadata": {},
   "outputs": [],
   "source": [
    "delta_A.T"
   ]
  },
  {
   "cell_type": "code",
   "execution_count": null,
   "metadata": {},
   "outputs": [],
   "source": [
    "dR_dA_n1_subs = dR_dA_n1.replace(sp.sign, lambda x: 1)\n",
    "dR_dA_n1_subs"
   ]
  },
  {
   "cell_type": "code",
   "execution_count": null,
   "metadata": {},
   "outputs": [],
   "source": [
    "sp.simplify((dR_dA_n1_subs.inv() * R_n1_subs))"
   ]
  },
  {
   "cell_type": "code",
   "execution_count": null,
   "metadata": {},
   "outputs": [],
   "source": [
    "mparams_epd = {E:1, K:1, f_c:1, eta:100}\n",
    "margs = [mparams_epd[p] for p in mparams]\n",
    "n_t = 30\n",
    "n_I = 1\n",
    "eps_max = 6\n",
    "t_t = np.linspace(0, 1, n_t)\n",
    "eps_n_t = np.linspace(0, eps_max, n_t)\n",
    "Eps_n_Ib = np.zeros((n_I, gsm_vep.n_Eps_explicit), dtype=np.float_)\n",
    "t_t, eps_ta_nr_coarse, Eps_t, Sig_t_nr_coarse, iter_t, lam_t, (d_t_t, d_eps_ta) = gsm_vep.get_response(eps_n_t, t_t, 100, *margs)"
   ]
  },
  {
   "cell_type": "code",
   "execution_count": null,
   "metadata": {},
   "outputs": [],
   "source": [
    "fig, ax = plt.subplots(1, 1)\n",
    "ax.plot(eps_ta_nr_coarse, Sig_t_nr_coarse[:,:,0], color='red')"
   ]
  },
  {
   "cell_type": "code",
   "execution_count": null,
   "metadata": {},
   "outputs": [],
   "source": [
    "mparams_epd = {E:1, K:1e-5, f_c:1, eta:1}\n",
    "margs = [mparams_epd[p] for p in mparams]\n",
    "eps_n_I = np.array([0, 1.0, 1.0, -1.0, 0, 0], dtype=np.float_)\n",
    "d_eps_I = np.array([0.1, -0.1, 0.1, -0.1, 2, -2], dtype=np.float_)\n",
    "n_I = eps_n_I.shape[0]\n",
    "d_t = 1\n",
    "Eps_n_Ib = np.zeros((n_I, gsm_vep.n_Eps_explicit), dtype=np.float_)\n",
    "\n",
    "Eps_n1_Ib, Sig_n1_Ib, lam_I, k_I = gsm_vep.get_state_n1(eps_n_I, d_eps_I, d_t, Eps_n_Ib, 30, *margs )\n",
    "Eps_n1_Ib, Sig_n1_Ib, lam_I, k_I"
   ]
  },
  {
   "cell_type": "code",
   "execution_count": null,
   "metadata": {},
   "outputs": [],
   "source": []
  },
  {
   "cell_type": "code",
   "execution_count": null,
   "metadata": {},
   "outputs": [],
   "source": []
  }
 ],
 "metadata": {
  "kernelspec": {
   "display_name": "bmcs_env2",
   "language": "python",
   "name": "python3"
  },
  "language_info": {
   "codemirror_mode": {
    "name": "ipython",
    "version": 3
   },
   "file_extension": ".py",
   "mimetype": "text/x-python",
   "name": "python",
   "nbconvert_exporter": "python",
   "pygments_lexer": "ipython3"
  }
 },
 "nbformat": 4,
 "nbformat_minor": 2
}
