{
 "cells": [
  {
   "cell_type": "markdown",
   "metadata": {},
   "source": [
    "# Nonlinear hardening - rate effect"
   ]
  },
  {
   "cell_type": "code",
   "execution_count": null,
   "metadata": {},
   "outputs": [],
   "source": [
    "%matplotlib widget\n",
    "from bmcs_matmod.api import GSMRM\n",
    "import matplotlib.pylab as plt \n",
    "import sympy as sp\n",
    "import numpy as np\n",
    "sp.init_printing()"
   ]
  },
  {
   "cell_type": "code",
   "execution_count": null,
   "metadata": {},
   "outputs": [],
   "source": [
    "gsm_F = GSMRM.load_from_disk('gsm_F_1d_t_e_vp_d')"
   ]
  },
  {
   "cell_type": "code",
   "execution_count": null,
   "metadata": {},
   "outputs": [],
   "source": [
    "gsm_F.F_expr"
   ]
  },
  {
   "cell_type": "code",
   "execution_count": null,
   "metadata": {},
   "outputs": [],
   "source": [
    "gsm_F.f_expr"
   ]
  },
  {
   "cell_type": "code",
   "execution_count": null,
   "metadata": {},
   "outputs": [],
   "source": [
    "gsm_F.phi_ext_expr"
   ]
  },
  {
   "cell_type": "markdown",
   "metadata": {},
   "source": [
    "## Monotonic loading"
   ]
  },
  {
   "cell_type": "code",
   "execution_count": null,
   "metadata": {},
   "outputs": [],
   "source": [
    "_f_c = 44\n",
    "_f_t = -0.1 * _f_c\n",
    "_X_0 = (_f_c + _f_t) / 2\n",
    "_f_s = (_f_c - _f_t) / 2\n",
    "_E = 50000\n",
    "_KH_factor = 1\n",
    "_KH = _E * _KH_factor\n",
    "_K_ratio = 0.7 # 0.01 # 0.015\n",
    "_K = _KH * _K_ratio\n",
    "_H = _KH * (1 - _K_ratio)\n",
    "material_params = dict(\n",
    "    E_=_E, \n",
    "    gamma_lin_= _H, # _E * 10, \n",
    "    gamma_exp_= 0.5,\n",
    "    alpha_0_ = 0.003,\n",
    "    K_lin_= _K, # _E / 5,\n",
    "    k_exp_= 0.5,\n",
    "    z_0_ = 0.003,\n",
    "    S_=0.8,\n",
    "    c_=2.5 * 3,\n",
    "    r_=2.7,\n",
    "    f_c_=_f_s,\n",
    "    X_0_=_X_0,  \n",
    "    eta_=20000,\n",
    "    T_0_=20,\n",
    "    C_v_=0.01, # 0.0001, \n",
    "    beta_=0.0001,\n",
    "    alpha_therm_=0, # 1.2e-5,\n",
    "    d_N_ = 1\n",
    ")\n",
    "material_params"
   ]
  },
  {
   "cell_type": "code",
   "execution_count": null,
   "metadata": {},
   "outputs": [],
   "source": [
    "def gsm_run(gsm_, u_ta, T_t, t_t, **material_params):\n",
    "    response = gsm_.get_response(u_ta, T_t, t_t, **material_params)\n",
    "    _t_t, _u_tIa, _T_t, _Eps_tIb, _Sig_tIb, _iter_t, _dF_dEps_t, lam_t = response\n",
    "    _u_atI, _Eps_btI, _Sig_btI, _dF_dEps_btI = [np.moveaxis(v_, -1, 0) for v_ in (_u_tIa, _Eps_tIb, _Sig_tIb, _dF_dEps_t)]\n",
    "    _sig_atI = gsm_.get_sig(_u_atI, _T_t, _Eps_btI, _Sig_btI, **material_params )\n",
    "    return _t_t, _u_atI, _sig_atI, _T_t, _Eps_btI, _Sig_btI, _dF_dEps_btI, lam_t \n",
    "\n",
    "gsm_F.vp_on = True\n",
    "gsm_F.update_at_k = False\n",
    "\n",
    "def get_cyclic_load(max_s, max_t, n_cycles, n_incr):\n",
    "    # Generating loading history\n",
    "    s_arr = np.tile(np.array([-1, 1]), n_cycles) * np.linspace(0, max_s, 2 * n_cycles)\n",
    "    s_arr = np.interp(np.linspace(0, max_t, n_incr * len(s_arr)), np.linspace(0, max_t, len(s_arr)), s_arr)\n",
    "\n",
    "    # time array as input\n",
    "    t_arr = np.linspace(0, max_t, len(s_arr))\n",
    "    return s_arr, t_arr"
   ]
  },
  {
   "cell_type": "code",
   "execution_count": null,
   "metadata": {},
   "outputs": [],
   "source": [
    "response_values = {}\n",
    "max_s = 0.01\n",
    "dot_s_list = [0.00005, 0.0005, 0.005]\n",
    "for dot_s in dot_s_list:\n",
    "#for dot_s in [0.01, 0.02, 0.05]: \n",
    "    print('dot_s', dot_s)\n",
    "    u_t, t_t = get_cyclic_load( n_cycles=1, max_s=max_s, \n",
    "                                  max_t=max_s/dot_s, n_incr = 200)\n",
    "    response_values[dot_s] = gsm_run(gsm_F, u_t[:,np.newaxis], 20 + 0 * t_t, t_t, **material_params)"
   ]
  },
  {
   "cell_type": "code",
   "execution_count": null,
   "metadata": {},
   "outputs": [],
   "source": [
    "from scipy.integrate import cumtrapz\n",
    "fig, ((ax, ax_T, ax_Diss), (ax_u_p, ax_lam, ax_omega)) = plt.subplots(2,3, figsize=(12,6), tight_layout=True)\n",
    "ax_z = ax_lam.twinx()\n",
    "\n",
    "for dot_s, resp in response_values.items():\n",
    "    \n",
    "    label = f'$\\dot{{s}}$ = {dot_s}'\n",
    "    _t_t, _u_atI, _sig_atI, _T_t, _Eps_btI, _Sig_btI, _dF_dEps_btI, lam_t = resp \n",
    "    _u_p_atI, _z_atI, _alpha_atI, _omega_atI = gsm_F.Eps_as_blocks(_Eps_btI)\n",
    "    _, _Z_atI, _X_atI, _Y_atI = gsm_F.Eps_as_blocks(_Sig_btI)\n",
    "    ax.plot(_u_atI[0, :, 0], _sig_atI[0, :, 0], label=label);\n",
    "    ax.legend()\n",
    "    ax.set_title(r'stress-strain')\n",
    "    ax.set_ylabel(r'$\\varsigma$')\n",
    "    ax.set_xlabel(r'$\\varepsilon$')\n",
    "\n",
    "    ax_T.plot(_u_atI[0, :, 0], _T_t, label=label);\n",
    "    ax_T.legend()\n",
    "    ax_T.set_title(r'temperature')\n",
    "    ax_T.set_ylabel(r'$\\vartheta$')\n",
    "    ax_T.set_xlabel(r'$\\varepsilon$')\n",
    "\n",
    "    Diss_btI_F = cumtrapz(_dF_dEps_btI, _Eps_btI, initial=0, axis=1)\n",
    "    ax_Diss.plot(_t_t, np.sum(Diss_btI_F[...,0], axis=0), alpha=1, label='F')\n",
    "    ax_Diss.set_title(r'dissipation')\n",
    "\n",
    "    r = material_params['r_']\n",
    "    c = material_params['c_']\n",
    "    ax_u_p.plot(_u_atI[0, :, 0], (1 - _omega_atI[0, :, 0]**c)* (_Y_atI[0, :, 0] / material_params['S_'])**r)\n",
    "    ax_u_p.set_xlabel(r'$\\varepsilon$/-')\n",
    "    ax_u_p.set_ylabel(r'$\\varepsilon_\\mathrm{p}$/-')\n",
    "    ax_u_p.set_title(r'$\\partial{\\varphi}/{\\partial Y} =  (1-\\omega)^c (Y/S)^r$')\n",
    "\n",
    "    ax_lam.plot(_u_atI[0, :, 0], lam_t)\n",
    "    ax_lam.set_xlabel(r'$\\varepsilon$/-')\n",
    "    ax_lam.set_ylabel(r'$\\lambda$/-')\n",
    "    ax_lam.set_title(r'plastic multiplier: $\\dot{\\lambda}$')\n",
    "\n",
    "    ax_z.plot(_u_atI[0, :, 0], _Z_atI[0, :, 0], ls='dashed')\n",
    "    ax_z.set_ylabel(r'$z$/-')\n",
    "\n",
    "    ax_omega.plot(_u_atI[0, :, 0], _omega_atI[0, :, 0])\n",
    "    ax_omega.set_xlabel(r'$\\varepsilon$/-')\n",
    "    ax_omega.set_ylabel(r'$\\omega$/-')\n",
    "    ax_omega.set_title(r'damage: $\\omega =  \\dot{\\lambda} \\cdot \\partial\\varphi / \\partial Y$')"
   ]
  },
  {
   "cell_type": "code",
   "execution_count": null,
   "metadata": {},
   "outputs": [],
   "source": []
  }
 ],
 "metadata": {
  "kernelspec": {
   "display_name": "bmcs_env2",
   "language": "python",
   "name": "python3"
  },
  "language_info": {
   "codemirror_mode": {
    "name": "ipython",
    "version": 3
   },
   "file_extension": ".py",
   "mimetype": "text/x-python",
   "name": "python",
   "nbconvert_exporter": "python",
   "pygments_lexer": "ipython3"
  }
 },
 "nbformat": 4,
 "nbformat_minor": 2
}
