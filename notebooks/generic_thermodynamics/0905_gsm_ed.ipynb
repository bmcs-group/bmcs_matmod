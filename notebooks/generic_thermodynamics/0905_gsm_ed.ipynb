{
 "cells": [
  {
   "cell_type": "markdown",
   "metadata": {},
   "source": [
    "# GSM-ED: Elasto-damage"
   ]
  },
  {
   "cell_type": "code",
   "execution_count": null,
   "metadata": {},
   "outputs": [],
   "source": [
    "%matplotlib widget\n",
    "import matplotlib.pylab as plt\n",
    "import sympy as sp\n",
    "import numpy as np\n",
    "from IPython.display import display, Math, Markdown\n",
    "from bmcs_matmod.api import GSM1D_ED\n",
    "gsm = GSM1D_ED()\n",
    "display(Markdown(gsm.latex_potentials()))"
   ]
  },
  {
   "cell_type": "markdown",
   "metadata": {},
   "source": [
    "## Linearly ascending loading"
   ]
  },
  {
   "cell_type": "code",
   "execution_count": null,
   "metadata": {},
   "outputs": [],
   "source": [
    "E_val = 30e+3  # Young's modulus in MPa\n",
    "K_val = 1e+3  # Bulk modulus in MPa\n",
    "f_c_val = 15 # Strength in MPa\n",
    "eta_vp_val = 10e+4  # Viscosity in MPa s\n",
    "eta_ve_val = 10e+4  # Viscosity in MPa s\n",
    "\n",
    "# mparams = {gsm.E:10, gsm.c:1, gsm.r:1, gsm.S:10, gsm.eps_0:1}\n",
    "\n",
    "mparams = dict(E=E_val, K=K_val, f_c=f_c_val, S=0.0001, r=1, c=1,\n",
    "            eps_0=0.001, eta_ve=eta_ve_val, eta_vp=eta_vp_val)\n",
    "\n",
    "f_time = 10  # Final time in secondsfinal_time = 1\n",
    "n_t = 151\n",
    "t_t = np.linspace(0, f_time, n_t)\n",
    "eps_max = 0.0025\n",
    "eps_n_t = np.linspace(0, eps_max, n_t)\n",
    "\n",
    "response = gsm.get_response(eps_n_t, t_t, **mparams)\n",
    "t_t_ec, eps_ta_ec, sig_ta_ec, Eps_t_ec, Sig_t_ec, iter_t_ec, lam_t_ec, (d_t_t_ec, d_eps_ta_ec) = response\n",
    "eps_t_ec = eps_ta_ec[:, 0]\n",
    "sig_t_ec = sig_ta_ec[:, 0, 0]\n",
    "# use the stress history to reproduce the response using stress control\n",
    "response = gsm.get_G_response(sig_t_ec, t_t, **mparams)\n",
    "t_t_sc, eps_ta_sc, sig_ta_sc, Eps_t_sc, Sig_t_sc, iter_t_sc, lam_t_sc, (d_t_t_sc, d_eps_ta_sc) = response\n",
    "iter_t = iter_t_sc[:, 0]\n",
    "eps_t_sc = eps_ta_sc[:, 0, 0]\n",
    "sig_t_sc = sig_ta_sc[:, 0]\n",
    "eps_t_ec.shape, sig_t_ec.shape, eps_t_sc.shape, sig_t_sc.shape"
   ]
  },
  {
   "cell_type": "code",
   "execution_count": null,
   "metadata": {},
   "outputs": [],
   "source": [
    "omega_t_ec, z_t_ec = Eps_t_ec[:, 0, :].T\n",
    "omega_t_sc, z_t_sc = Eps_t_sc[:, 0, :].T\n",
    "(omega_t_ec.shape, z_t_ec.shape, omega_t_sc.shape, z_t_sc.shape)"
   ]
  },
  {
   "cell_type": "code",
   "execution_count": null,
   "metadata": {},
   "outputs": [],
   "source": [
    "fig, (ax_sig, ax_eps) = plt.subplots(1, 2, figsize=(12, 4))\n",
    "\n",
    "# Left: Stress–strain curves (elastic control and stress control)\n",
    "ax_sig.plot(eps_t_ec, sig_t_ec, color='cadetblue', lw=2, label='Elastic Control')\n",
    "ax_sig.plot(eps_t_sc, sig_t_sc, color='red', lw=2, label='Stress Control')\n",
    "ax_sig.set_xlabel(r'$\\varepsilon$')\n",
    "ax_sig.set_ylabel(r'$\\sigma$')\n",
    "ax_sig.legend()\n",
    "\n",
    "# Right: Damage and hardening profiles\n",
    "ax_eps.plot(t_t_ec, omega_t_ec, color='darkblue', lw=2, label='Damage')\n",
    "ax_eps.set_xlabel(r'$t$')\n",
    "ax_eps.set_ylabel('Damage', color='darkblue')\n",
    "ax_eps.tick_params(axis='y', labelcolor='darkblue')\n",
    "\n",
    "# Twin axis for hardening (z)\n",
    "ax_hard = ax_eps.twinx()\n",
    "ax_hard.plot(t_t_ec, z_t_ec, color='green', lw=2, label='Hardening')\n",
    "ax_hard.set_ylabel('Hardening', color='green')\n",
    "ax_hard.tick_params(axis='y', labelcolor='green')\n",
    "\n",
    "# Combine legends from both axes\n",
    "lines1, labels1 = ax_eps.get_legend_handles_labels()\n",
    "lines2, labels2 = ax_hard.get_legend_handles_labels()\n",
    "ax_eps.legend(lines1 + lines2, labels1 + labels2, loc='best')\n",
    "\n",
    "plt.tight_layout()\n",
    "plt.show()\n"
   ]
  },
  {
   "cell_type": "code",
   "execution_count": null,
   "metadata": {},
   "outputs": [],
   "source": []
  }
 ],
 "metadata": {
  "kernelspec": {
   "display_name": "bmcs_matmod",
   "language": "python",
   "name": "python3"
  },
  "language_info": {
   "codemirror_mode": {
    "name": "ipython",
    "version": 3
   },
   "file_extension": ".py",
   "mimetype": "text/x-python",
   "name": "python",
   "nbconvert_exporter": "python",
   "pygments_lexer": "ipython3"
  }
 },
 "nbformat": 4,
 "nbformat_minor": 2
}
