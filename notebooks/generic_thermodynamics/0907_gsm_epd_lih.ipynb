{
 "cells": [
  {
   "cell_type": "markdown",
   "metadata": {},
   "source": [
    "# GSM-EPD"
   ]
  },
  {
   "cell_type": "code",
   "execution_count": null,
   "metadata": {},
   "outputs": [],
   "source": [
    "%matplotlib widget\n",
    "from bmcs_matmod.api import GSM1D_EPD\n",
    "import matplotlib.pylab as plt\n",
    "import sympy as sp\n",
    "import numpy as np\n",
    "from IPython.display import display, Math, Markdown\n",
    "gsm = GSM1D_EPD()\n",
    "display(Markdown(gsm.latex_potentials()))"
   ]
  },
  {
   "cell_type": "markdown",
   "metadata": {},
   "source": [
    "## Linearly ascending loading"
   ]
  },
  {
   "cell_type": "code",
   "execution_count": null,
   "metadata": {},
   "outputs": [],
   "source": [
    "E_val = 30e+3  # Young's modulus in MPa\n",
    "K_val = 1e+3  # Bulk modulus in MPa\n",
    "f_c_val = 15 # Strength in MPa\n",
    "eta_vp_val = 10e+4  # Viscosity in MPa s\n",
    "eta_ve_val = 10e+4  # Viscosity in MPa s\n",
    "\n",
    "# mparams = {gsm.E:10, gsm.c:1, gsm.r:1, gsm.S:10, gsm.eps_0:1}\n",
    "\n",
    "mparams = dict(E=E_val, K=K_val, f_c=f_c_val, S=0.0001, r=1, c=1,\n",
    "            eps_0=0.001, eta_ve=eta_ve_val, eta_vp=eta_vp_val)\n",
    "\n",
    "f_time = 10  # Final time in secondsfinal_time = 1\n",
    "n_t = 151\n",
    "t_t = np.linspace(0, f_time, n_t)\n",
    "eps_max = 0.0025\n",
    "eps_n_t = np.linspace(0, eps_max, n_t)\n",
    "\n",
    "response = gsm.get_response(eps_n_t, t_t, **mparams)\n",
    "t_t_ec, eps_ta_ec, sig_ta_ec, Eps_t_ec, Sig_t_ec, iter_t_ec, lam_t_ec, (d_t_t_ec, d_eps_ta_ec) = response\n",
    "eps_t_ec = eps_ta_ec[:, 0]\n",
    "sig_t_ec = sig_ta_ec[:, 0, 0]\n",
    "# use the stress history to reproduce the response using stress control\n",
    "response = gsm.get_G_response(sig_t_ec, t_t, **mparams)\n",
    "t_t_sc, eps_ta_sc, sig_ta_sc, Eps_t_sc, Sig_t_sc, iter_t_sc, lam_t_sc, (d_t_t_sc, d_eps_ta_sc) = response\n",
    "iter_t = iter_t_sc[:, 0]\n",
    "eps_t_sc = eps_ta_sc[:, 0, 0]\n",
    "sig_t_sc = sig_ta_sc[:, 0]\n",
    "eps_t_ec.shape, sig_t_ec.shape, eps_t_sc.shape, sig_t_sc.shape"
   ]
  },
  {
   "cell_type": "code",
   "execution_count": null,
   "metadata": {},
   "outputs": [],
   "source": [
    "F_engine = gsm.F_engine\n",
    "G_engine = gsm.G_engine"
   ]
  },
  {
   "cell_type": "markdown",
   "metadata": {},
   "source": [
    "## Monotonic strain-driven loading"
   ]
  },
  {
   "cell_type": "code",
   "execution_count": null,
   "metadata": {},
   "outputs": [],
   "source": [
    "mparams = dict(E = 20, K = 10, S = 1, c = 1, r = 1, eps_0 = 0, f_c = 15)\n",
    "n_t = 151\n",
    "n_I = 1\n",
    "eps_max = 1.3\n",
    "eps_max = 5\n",
    "final_time = 10\n",
    "t_t = np.linspace(0, final_time, n_t)\n",
    "eps_n_t = np.linspace(0, eps_max, n_t)\n",
    "response = gsm.get_response(eps_n_t, t_t, **mparams)\n",
    "t_t, eps_ta, sig_ta, Eps_t, Sig_t, iter_t, lam_t, (d_t_t, d_eps_ta) = response\n",
    "# Plot viscoplastic strain and damage along time\n",
    "eps_t = eps_ta[:, 0]\n",
    "sig_t = sig_ta[:, 0, 0]\n",
    "eps_p_t, omega_t, z_t = Eps_t[:, 0, :].T\n",
    "sig_p_t, Y_t, Z_t = Sig_t[:, 0, :].T\n",
    "eps_t.shape, sig_t.shape\n",
    "sig_t_strain = np.copy(sig_t)"
   ]
  },
  {
   "cell_type": "code",
   "execution_count": null,
   "metadata": {},
   "outputs": [],
   "source": [
    "fig, ((ax_sig, ax_omega), (ax_lam, ax_z)) = plt.subplots(2, 2, figsize=(12, 8))\n",
    "\n",
    "# First row: Stress-strain and damage plots\n",
    "ax_iter = ax_sig.twinx()\n",
    "ax_eps = ax_omega.twinx()\n",
    "\n",
    "ax_sig.plot(eps_t, sig_t, color='cadetblue', label=r'$\\varepsilon$')\n",
    "ax_sig.plot(eps_t-eps_p_t, sig_t, ls='dashed', color='cadetblue', label=r'$\\varepsilon-\\varepsilon^\\mathrm{ve}$')\n",
    "ax_sig.set_ylabel(r'$\\sigma$', color='darkslategray')\n",
    "ax_sig.set_xlabel(r'$\\varepsilon$')\n",
    "ax_sig.legend()\n",
    "\n",
    "ax_iter.plot(eps_t, iter_t, ls='dashed', color='gray', lw=0.5)\n",
    "ax_iter.set_ylabel(r'$k$', color='gray')\n",
    "\n",
    "ax_omega.plot(t_t, omega_t, label='Damage', color='brown')\n",
    "ax_eps.plot(t_t, eps_t, label=r'$\\varepsilon$', color='cadetblue', lw=1)\n",
    "ax_eps.plot(t_t, eps_p_t, label=r'$\\varepsilon_\\mathrm{vp}$', color='cadetblue', ls='dashed', lw=1)\n",
    "ax_eps.legend()\n",
    "ax_omega.set_xlabel(r'$t$')\n",
    "ax_omega.set_ylabel(r'$\\omega$', color='brown')\n",
    "ax_eps.set_ylabel(r'$\\varepsilon$', color='cadetblue')\n",
    "\n",
    "# Second row: Lagrange multiplier and plastic strain plots\n",
    "ax_lam_eps_t = ax_lam.twinx()\n",
    "ax_lam.plot(t_t, lam_t[:, 0, 0], 'o-', label=r'$\\lambda$', color='purple')\n",
    "ax_lam.set_xlabel(r'$t$')\n",
    "ax_lam.set_ylabel(r'$\\lambda$', color='purple')\n",
    "ax_lam_eps_t.plot(t_t, eps_t, label=r'$\\varepsilon$', color='green', ls='dashed')\n",
    "ax_lam_eps_t.set_ylabel(r'$\\varepsilon$', color='green')\n",
    "\n",
    "ax_z_eps_p = ax_z.twinx()\n",
    "ax_z.plot(t_t, z_t, label=r'$z$', color='orange')\n",
    "ax_z.set_xlabel(r'$t$')\n",
    "ax_z.set_ylabel(r'$Z$', color='orange')\n",
    "ax_z_eps_p.plot(t_t, eps_p_t, label=r'$\\varepsilon_\\mathrm{p}$', color='blue', ls='dashed')\n",
    "ax_z_eps_p.set_ylabel(r'$\\varepsilon_\\mathrm{p}$', color='blue')\n",
    "\n",
    "plt.tight_layout()\n",
    "plt.show()"
   ]
  },
  {
   "cell_type": "markdown",
   "metadata": {},
   "source": [
    "## Monotonic stress-driven loading"
   ]
  },
  {
   "cell_type": "code",
   "execution_count": null,
   "metadata": {},
   "outputs": [],
   "source": [
    "response = gsm.get_G_response(sig_t_strain, t_t, **mparams)\n",
    "t_t, eps_ta, sig_ta, Eps_t, Sig_t, iter_t, lam_t, (d_t_t, d_eps_ta) = response\n",
    "iter_t = iter_t[:, 0]\n",
    "eps_t = eps_ta[:, 0, 0]\n",
    "sig_t = sig_ta[:, 0]\n",
    "eps_p_t, omega_t, z_t = Eps_t[:, 0, :].T\n",
    "sig_p_t, Y_t, Z_t = Sig_t[:, 0, :].T\n",
    "eps_t.shape, sig_t.shape"
   ]
  },
  {
   "cell_type": "code",
   "execution_count": null,
   "metadata": {},
   "outputs": [],
   "source": [
    "fig, (ax_sig, ax_eps) = plt.subplots(1, 2, figsize=(12, 4))\n",
    "\n",
    "# Plot stress-strain and iterations-strain curves\n",
    "ax_iter = ax_sig.twinx()\n",
    "\n",
    "ax_sig.plot(eps_t, sig_t, color='cadetblue', label=r'$\\varepsilon$')\n",
    "ax_sig.plot(eps_t-eps_p_t, sig_t, ls='dashed', color='cadetblue', label=r'$\\varepsilon-\\varepsilon^\\mathrm{ve}$')\n",
    "ax_sig.set_ylabel(r'$\\sigma$', color='darkslategray')\n",
    "ax_sig.set_xlabel(r'$\\varepsilon$')\n",
    "ax_sig.legend()\n",
    "\n",
    "ax_iter.plot(eps_t, iter_t, ls='dashed', color='gray', lw=0.5)\n",
    "ax_iter.set_ylabel(r'$k$', color='gray')\n",
    "\n",
    "ax_eps.plot(t_t, eps_t, label=r'$\\varepsilon$', color='cadetblue', lw=1)\n",
    "ax_eps.plot(t_t, eps_p_t, label=r'$\\varepsilon_\\mathrm{vp}$', color='cadetblue', ls='dashed', lw=1)\n",
    "ax_eps.legend()\n",
    "ax_eps.set_ylabel(r'$\\varepsilon$', color='cadetblue')\n",
    "\n",
    "plt.tight_layout()\n",
    "plt.show()"
   ]
  },
  {
   "cell_type": "markdown",
   "metadata": {},
   "source": [
    "## Cyclic strain-driven loading"
   ]
  },
  {
   "cell_type": "code",
   "execution_count": null,
   "metadata": {},
   "outputs": [],
   "source": [
    "t_, sig_max_, t_1_, t_2_, t_3_ = sp.symbols('t sig_max t_1 t_2 t_3', real=True, positive=True)\n",
    "eps_t_ = sp.Piecewise(\n",
    "    (sig_max_ / t_1_ * t_, t_ < t_1_),\n",
    "    (sig_max_, t_ < t_2_),\n",
    "    (sig_max_ - sig_max_/(t_3_-t_2_)*(t_ - t_2_), t_ < t_3_),\n",
    "    (0, True)\n",
    ")\n",
    "get_eps_t = sp.lambdify((t_, sig_max_, t_1_, t_2_, t_3_), eps_t_, 'numpy')\n",
    "final_time = 10\n",
    "eps_max = 3\n",
    "n_t = 151\n",
    "#n_t = 31\n",
    "t_t = np.linspace(0, final_time, n_t)\n",
    "eps_n_t = get_eps_t(t_t, eps_max, 0.25*final_time, 0.5*final_time, 0.75*final_time)\n",
    "fig, ax = plt.subplots(1,1)\n",
    "ax.plot(t_t, eps_n_t)"
   ]
  },
  {
   "cell_type": "code",
   "execution_count": null,
   "metadata": {},
   "outputs": [],
   "source": [
    "mparams = dict(E = 20, K = 5, S = 10, c = 1, r = 1, eps_0 = 0, f_c = 15, eta_vp=10)\n",
    "response = gsm.get_response(eps_n_t, t_t, **mparams)\n",
    "t_t, eps_ta, sig_ta, Eps_t, Sig_t, iter_t, lam_t, (d_t_t, d_eps_ta) = response\n",
    "# Plot viscoplastic strain and damage along time\n",
    "eps_t = eps_ta[:, 0]\n",
    "eps_p_t, omega_t, z_t = Eps_t[:, 0, :].T\n",
    "sig_p_t, Y_t, Z_t = Sig_t[:, 0, :].T"
   ]
  },
  {
   "cell_type": "code",
   "execution_count": null,
   "metadata": {},
   "outputs": [],
   "source": [
    "fig, ((ax_sig, ax_omega), (ax_lam, ax_z)) = plt.subplots(2, 2, figsize=(12, 8))\n",
    "fig.canvas.header_visible = False\n",
    "\n",
    "# First row: Stress-strain and damage plots\n",
    "ax_iter = ax_sig.twinx()\n",
    "ax_eps = ax_omega.twinx()\n",
    "\n",
    "ax_sig.plot(eps_t, sig_p_t, color='cadetblue', label=r'$\\varepsilon$')\n",
    "ax_sig.plot(eps_t-eps_p_t, Sig_t[:,:,0], ls='dashed', color='cadetblue', label=r'$\\varepsilon-\\varepsilon^\\mathrm{ve}$')\n",
    "ax_sig.set_ylabel(r'$\\sigma$', color='darkslategray')\n",
    "ax_sig.set_xlabel(r'$\\varepsilon$')\n",
    "ax_sig.legend()\n",
    "\n",
    "ax_iter.plot(eps_t, iter_t, ls='dashed', color='gray', lw=0.5)\n",
    "ax_iter.set_ylabel(r'$k$', color='gray')\n",
    "\n",
    "ax_omega.plot(t_t, omega_t, label='Damage', color='brown')\n",
    "ax_eps.plot(t_t, eps_t, label=r'$\\varepsilon$', color='cadetblue', lw=1)\n",
    "ax_eps.plot(t_t, eps_p_t, label=r'$\\varepsilon_\\mathrm{vp}$', color='cadetblue', ls='dashed', lw=1)\n",
    "ax_eps.legend()\n",
    "ax_omega.set_xlabel(r'$t$')\n",
    "ax_omega.set_ylabel(r'$\\omega$', color='brown')\n",
    "ax_eps.set_ylabel(r'$\\varepsilon$', color='cadetblue')\n",
    "\n",
    "# Second row: Lagrange multiplier and plastic strain plots\n",
    "ax_lam_eps_t = ax_lam.twinx()\n",
    "ax_lam.plot(t_t, lam_t[:, 0, 0], 'o-', label=r'$\\lambda$', color='purple')\n",
    "ax_lam.set_xlabel(r'$t$')\n",
    "ax_lam.set_ylabel(r'$\\lambda$', color='purple')\n",
    "ax_lam_eps_t.plot(t_t, eps_t, label=r'$\\varepsilon$', color='green', ls='dashed')\n",
    "ax_lam_eps_t.set_ylabel(r'$\\varepsilon$', color='green')\n",
    "\n",
    "ax_z_eps_p = ax_z.twinx()\n",
    "ax_z.plot(t_t, Z_t, label=r'$z$', color='orange')\n",
    "ax_z.set_xlabel(r'$t$')\n",
    "ax_z.set_ylabel(r'$Z$', color='orange')\n",
    "ax_z_eps_p.plot(t_t, eps_p_t, label=r'$\\varepsilon_\\mathrm{p}$', color='blue', ls='dashed')\n",
    "ax_z_eps_p.set_ylabel(r'$\\varepsilon_\\mathrm{p}$', color='blue')\n",
    "\n",
    "plt.tight_layout()\n",
    "plt.show()"
   ]
  },
  {
   "cell_type": "code",
   "execution_count": null,
   "metadata": {},
   "outputs": [],
   "source": []
  }
 ],
 "metadata": {
  "kernelspec": {
   "display_name": "bmcs_matmod",
   "language": "python",
   "name": "python3"
  },
  "language_info": {
   "codemirror_mode": {
    "name": "ipython",
    "version": 3
   },
   "file_extension": ".py",
   "mimetype": "text/x-python",
   "name": "python",
   "nbconvert_exporter": "python",
   "pygments_lexer": "ipython3"
  }
 },
 "nbformat": 4,
 "nbformat_minor": 2
}
