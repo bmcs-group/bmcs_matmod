{
 "cells": [
  {
   "cell_type": "markdown",
   "metadata": {},
   "source": [
    "# GSM-VE: Visco-elastic model"
   ]
  },
  {
   "cell_type": "code",
   "execution_count": null,
   "metadata": {},
   "outputs": [],
   "source": [
    "%matplotlib widget\n",
    "import matplotlib.pylab as plt\n",
    "import sympy as sp\n",
    "import numpy as np\n",
    "from IPython.display import display, Math, Markdown\n",
    "from bmcs_matmod.api import GSM1D_VE\n",
    "gsm = GSM1D_VE()\n",
    "display(Markdown(gsm.latex_potentials()))"
   ]
  },
  {
   "cell_type": "code",
   "execution_count": null,
   "metadata": {},
   "outputs": [],
   "source": [
    "E_val = 30e+3  # Young's modulus in MPa\n",
    "eta_val = 30e+4  # Viscosity modulus in Pa / s\n",
    "mparams = dict(E=E_val, eta_ve=eta_val)\n",
    "d_t_val = 0.01 # Time step in seconds\n",
    "final_time = 20  # Final time in secondsfinal_time = 1\n",
    "\n",
    "# Generate cyclic sinusoidal loading history\n",
    "# time_t = np.arange(0, final_time, d_t_val)\n",
    "# eps_t_2_cycles = 0.01 * np.sin(2 * np.pi * 1 * time_t / final_time)  # 2 cycles\n",
    "# eps_t_4_cycles = 0.01 * np.sin(2 * np.pi * 4 * time_t / final_time)  # 4 cycles\n",
    "time_t = np.linspace(0, final_time, 10)\n",
    "eps_t_2_cycles = 2 * time_t"
   ]
  },
  {
   "cell_type": "code",
   "execution_count": null,
   "metadata": {},
   "outputs": [],
   "source": [
    "fig, ax = plt.subplots(1, 1)\n",
    "n_I = 1\n",
    "t_t = time_t\n",
    "eps_n_t = eps_t_2_cycles\n",
    "t_t, eps_ta_nr_coarse, sig_tIa, Eps_t, Sig_t_nr_coarse, iter_t, lam_t, (d_t_t, d_eps_ta) = gsm.get_response(eps_n_t, t_t, **mparams)\n",
    "ax.plot(eps_ta_nr_coarse, Sig_t_nr_coarse[:,:,0], color='blue')\n",
    "# eps_n_t = eps_t_4_cycles\n",
    "# t_t, eps_ta_nr_coarse, Eps_t, Sig_t_nr_coarse, iter_t, lam_t, (d_t_t, d_eps_ta) = gsm_ve.get_response(eps_n_t, t_t, 100, *mparams)\n",
    "# ax.plot(eps_ta_nr_coarse, Sig_t_nr_coarse[:,:,0], color='red')"
   ]
  },
  {
   "cell_type": "code",
   "execution_count": null,
   "metadata": {},
   "outputs": [],
   "source": [
    "mparams = dict(E = 20, K = 10, S = 10, c = 1, r = 1, eps_0 = 0, f_c = 15, eta_vp=30, eta_ve=10)\n",
    "\n",
    "n_t = 151\n",
    "n_I = 1\n",
    "sig_max = 10\n",
    "final_time = 10\n",
    "t_t = np.linspace(0, final_time, n_t)\n",
    "sig_n_t = np.linspace(0, sig_max, n_t)\n",
    "response = gsm.get_G_response(sig_n_t, t_t, **mparams)\n"
   ]
  },
  {
   "cell_type": "code",
   "execution_count": null,
   "metadata": {},
   "outputs": [],
   "source": [
    "fig, ax_sig = plt.subplots(1, 1, figsize=(8, 5))\n",
    "\n",
    "ax_iter = ax_sig.twinx()\n",
    "\n",
    "t_t, sig_ta, eps_ta, Eps_t, Sig_t, iter_t, lam_t, (d_t_t, d_eps_ta) = response\n",
    "print(iter_t.shape)\n",
    "eps_t = eps_ta[:, 0]\n",
    "iter_t = iter_t[:, 0]\n",
    "sig_t = sig_ta[:, 0]\n",
    "ax_sig.plot(eps_t, sig_t)\n",
    "ax_iter.plot(eps_t, iter_t, ls='dashed')\n",
    "# Add a box with the material parameters\n",
    "param_text = ', '.join([f'{key}: {value}' for key, value in mparams.items()])\n",
    "param_text = '\\n'.join([', '.join(param_text.split(', ')[i:i+5]) for i in range(0, len(param_text.split(', ')), 5)])\n",
    "props = dict(boxstyle='round', facecolor='lightgray', edgecolor='lightgray', alpha=0.5)\n",
    "ax_sig.text(0.5, 0.97, param_text, transform=ax_sig.transAxes, fontsize=11,\n",
    "            verticalalignment='top', horizontalalignment='center', bbox=props)\n",
    "ax_sig.set_ylabel(r'$\\sigma$', color='darkslategray')\n",
    "ax_sig.set_xlabel(r'$\\varepsilon$')"
   ]
  },
  {
   "cell_type": "code",
   "execution_count": null,
   "metadata": {},
   "outputs": [],
   "source": []
  }
 ],
 "metadata": {
  "kernelspec": {
   "display_name": "bmcs_matmod",
   "language": "python",
   "name": "python3"
  },
  "language_info": {
   "codemirror_mode": {
    "name": "ipython",
    "version": 3
   },
   "file_extension": ".py",
   "mimetype": "text/x-python",
   "name": "python",
   "nbconvert_exporter": "python",
   "pygments_lexer": "ipython3"
  }
 },
 "nbformat": 4,
 "nbformat_minor": 2
}
