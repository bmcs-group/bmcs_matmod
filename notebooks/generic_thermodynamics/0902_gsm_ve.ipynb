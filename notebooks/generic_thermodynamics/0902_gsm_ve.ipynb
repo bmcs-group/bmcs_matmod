{
 "cells": [
  {
   "cell_type": "markdown",
   "metadata": {},
   "source": [
    "# GSM-VE: Visco-elastic model"
   ]
  },
  {
   "cell_type": "code",
   "execution_count": null,
   "metadata": {},
   "outputs": [],
   "source": [
    "%matplotlib widget\n",
    "import matplotlib.pylab as plt\n",
    "import sympy as sp\n",
    "import numpy as np\n",
    "from IPython.display import display, Math, Markdown\n",
    "from bmcs_matmod.api import GSMModel, GSM1D_VE\n",
    "gsm = GSMModel(GSM1D_VE)\n",
    "gsm.gsm_def.display_sym()"
   ]
  },
  {
   "cell_type": "markdown",
   "metadata": {},
   "source": [
    "## Linear strain loading"
   ]
  },
  {
   "cell_type": "code",
   "execution_count": null,
   "metadata": {},
   "outputs": [],
   "source": [
    "E_val = 30e+3  # Young's modulus in MPa\n",
    "eta_val = 30e+3  # Viscosity modulus in Pa / s\n",
    "mparams = dict(E=E_val, eta_ve=eta_val)\n",
    "d_t_val = 0.001 # Time step in seconds\n",
    "f_time = 2  # Final time in secondsfinal_time = 1\n",
    "t_t = np.linspace(0, f_time, 100)\n",
    "eps_n_t = np.linspace(0, 0.01, 100)\n",
    "\n",
    "response = gsm.get_response(eps_n_t, t_t, **mparams)\n",
    "t_t_ec, eps_ta_ec, sig_ta_ec, Eps_t_ec, Sig_t_ec, iter_t_ec, lam_t_ec, (d_t_t_ec, d_eps_ta_ec) = response\n",
    "eps_t_ec = eps_ta_ec[:, 0]\n",
    "sig_t_ec = sig_ta_ec[:, 0, 0]\n",
    "# use the stress history to reproduce the response using stress control\n",
    "response = gsm.get_G_response(sig_t_ec, t_t, **mparams)\n",
    "t_t_sc, eps_ta_sc, sig_ta_sc, Eps_t_sc, Sig_t_sc, iter_t_sc, lam_t_sc, (d_t_t_sc, d_eps_ta_sc) = response\n",
    "iter_t = iter_t_sc[:, 0]\n",
    "eps_t_sc = eps_ta_sc[:, 0, 0]\n",
    "sig_t_sc = sig_ta_sc[:, 0]\n",
    "eps_t_ec.shape, sig_t_ec.shape, eps_t_sc.shape, sig_t_sc.shape"
   ]
  },
  {
   "cell_type": "code",
   "execution_count": null,
   "metadata": {},
   "outputs": [],
   "source": [
    "eps_ve_t_ec = Eps_t_ec[:, 0, 0]\n",
    "sig_ve_t_ec = Sig_t_ec[:, 0, 0]\n",
    "eps_ve_t_sc = Eps_t_sc[:, 0, 0]\n",
    "sig_ve_t_sc = Sig_t_sc[:, 0, 0]\n",
    "sig_ve_t_ec.shape, eps_ve_t_ec.shape, sig_ve_t_sc.shape, eps_ve_t_sc.shape"
   ]
  },
  {
   "cell_type": "code",
   "execution_count": null,
   "metadata": {},
   "outputs": [],
   "source": [
    "fig, (ax_sig, ax_eps) = plt.subplots(1, 2, figsize=(12, 4))\n",
    "\n",
    "ax_sig.plot(eps_t_ec, sig_t_ec, color='cadetblue', lw=5, label=r'$\\varepsilon$')\n",
    "ax_sig.plot(eps_t_ec - eps_ve_t_ec, sig_t_ec, ls='dashed', color='cadetblue', label=r'$\\varepsilon-\\varepsilon^\\mathrm{ve}$')\n",
    "\n",
    "ax_sig.plot(eps_t_sc, sig_t_sc, color='red', label=r'$\\varepsilon$')\n",
    "ax_sig.plot(eps_t_sc - eps_ve_t_sc, sig_t_sc, ls='dashed', color='red', label=r'$\\varepsilon-\\varepsilon^\\mathrm{ve}$')\n",
    "\n",
    "ax_sig.set_ylabel(r'$\\sigma$', color='darkslategray')\n",
    "ax_sig.set_xlabel(r'$\\varepsilon$')\n",
    "ax_sig.legend()\n",
    "\n",
    "ax_eps.plot(t_t_ec, eps_t_ec, label=r'$\\varepsilon$', color='cadetblue', lw=1)\n",
    "ax_eps.plot(t_t_ec, eps_ve_t_ec, label=r'$\\varepsilon_\\mathrm{ve}$', color='cadetblue', ls='dashed', lw=1)\n",
    "\n",
    "ax_eps.plot(t_t_sc, eps_t_sc, label=r'$\\varepsilon$', color='red', lw=1)\n",
    "ax_eps.plot(t_t_sc, eps_ve_t_sc, label=r'$\\varepsilon_\\mathrm{ve}$', color='red', ls='dashed', lw=1)\n",
    "ax_eps.legend()\n",
    "ax_eps.set_ylabel(r'$\\varepsilon$', color='cadetblue')\n",
    "\n",
    "plt.tight_layout()\n",
    "plt.show()"
   ]
  },
  {
   "cell_type": "markdown",
   "metadata": {},
   "source": [
    "## Step-wise strain loading"
   ]
  },
  {
   "cell_type": "code",
   "execution_count": null,
   "metadata": {},
   "outputs": [],
   "source": [
    "t_, sig_max_, t_1_, t_2_, t_3_ = sp.symbols('t sig_max t_1 t_2 t_3', real=True, positive=True)\n",
    "eps_t_ = sp.Piecewise(\n",
    "    (sig_max_ / t_1_ * t_, t_ < t_1_),\n",
    "    (sig_max_, t_ < t_2_),\n",
    "    (sig_max_ - sig_max_/(t_3_-t_2_)*(t_ - t_2_), t_ < t_3_),\n",
    "    (0, True)\n",
    ")\n",
    "get_eps_t = sp.lambdify((t_, sig_max_, t_1_, t_2_, t_3_), eps_t_, 'numpy')\n",
    "eps_max = 2\n",
    "n_t_ec = 100\n",
    "t_t = np.linspace(0, f_time, n_t_ec)\n",
    "eps_n_t = get_eps_t(t_t, eps_max, 0.25*f_time, 0.5*f_time, 0.75*f_time)\n",
    "fig, ax = plt.subplots(1,1)\n",
    "ax.plot(t_t, eps_n_t, color='darkblue')"
   ]
  },
  {
   "cell_type": "code",
   "execution_count": null,
   "metadata": {},
   "outputs": [],
   "source": [
    "fig, ax = plt.subplots(1, 1)\n",
    "t_t, eps_ta_nr_coarse, sig_tIa, Eps_t, Sig_t_nr_coarse, iter_t, lam_t, (d_t_t, d_eps_ta) = gsm.get_response(eps_n_t, t_t, **mparams)\n",
    "ax.plot(t_t, sig_tIa[:,0,0], color='darkblue')\n"
   ]
  },
  {
   "cell_type": "code",
   "execution_count": null,
   "metadata": {},
   "outputs": [],
   "source": [
    "t_, eps_max_, t_1_, t_2_, t_3_ = sp.symbols('t eps_max t_1 t_2 t_3', real=True, positive=True)\n",
    "sig_t_ = sp.Piecewise(\n",
    "    (eps_max_ / t_1_ * t_, t_ < t_1_),\n",
    "    (eps_max_, t_ < t_2_),\n",
    "    (eps_max_ - eps_max_/(t_3_ - t_2_)*(t_ - t_2_), t_ < t_3_),\n",
    "    (0, True)\n",
    ")\n",
    "get_sig_t = sp.lambdify((t_, eps_max_, t_1_, t_2_, t_3_), sig_t_, 'numpy')\n",
    "sig_max = 100\n",
    "f_time = 2\n",
    "t_t = np.linspace(0, f_time, 100)\n",
    "sig_n_t = get_sig_t(t_t, sig_max, 0.00025*f_time, 0.5*f_time, 0.500001*f_time)\n",
    "fig, ax = plt.subplots(1,1)\n",
    "ax.plot(t_t, sig_n_t, color='darkblue')"
   ]
  },
  {
   "cell_type": "code",
   "execution_count": null,
   "metadata": {},
   "outputs": [],
   "source": [
    "fig, ax = plt.subplots(1, 1)\n",
    "t_t, eps_ta, sig_ta, Eps_t, Sig_t_nr_coarse, iter_t, lam_t, (d_t_t, d_eps_ta) = gsm.get_G_response(sig_n_t, t_t, **mparams)\n",
    "ax.plot(t_t, eps_ta[:, 0], color='darkblue')\n"
   ]
  },
  {
   "cell_type": "code",
   "execution_count": null,
   "metadata": {},
   "outputs": [],
   "source": [
    "mparams = dict(E = 20, K = 10, S = 10, c = 1, r = 1, eps_0 = 0, f_c = 15, eta_vp=30, eta_ve=10)\n",
    "\n",
    "n_t = 151\n",
    "n_I = 1\n",
    "sig_max = 10\n",
    "final_time = 10\n",
    "t_t = np.linspace(0, final_time, n_t)\n",
    "sig_n_t = np.linspace(0, sig_max, n_t)\n",
    "response = gsm.get_G_response(sig_n_t, t_t, **mparams)\n"
   ]
  },
  {
   "cell_type": "code",
   "execution_count": null,
   "metadata": {},
   "outputs": [],
   "source": [
    "fig, ax_sig = plt.subplots(1, 1, figsize=(8, 5))\n",
    "\n",
    "ax_iter = ax_sig.twinx()\n",
    "\n",
    "t_t, eps_ta, sig_ta, Eps_t, Sig_t, iter_t, lam_t, (d_t_t, d_eps_ta) = response\n",
    "print(iter_t.shape)\n",
    "eps_t = eps_ta[:, 0]\n",
    "iter_t = iter_t[:, 0]\n",
    "sig_t = sig_ta[:, 0]\n",
    "ax_sig.plot(eps_t, sig_t)\n",
    "ax_iter.plot(eps_t, iter_t, ls='dashed')\n",
    "# Add a box with the material parameters\n",
    "param_text = ', '.join([f'{key}: {value}' for key, value in mparams.items()])\n",
    "param_text = '\\n'.join([', '.join(param_text.split(', ')[i:i+5]) for i in range(0, len(param_text.split(', ')), 5)])\n",
    "props = dict(boxstyle='round', facecolor='lightgray', edgecolor='lightgray', alpha=0.5)\n",
    "ax_sig.text(0.5, 0.97, param_text, transform=ax_sig.transAxes, fontsize=11,\n",
    "            verticalalignment='top', horizontalalignment='center', bbox=props)\n",
    "ax_sig.set_ylabel(r'$\\sigma$', color='darkslategray')\n",
    "ax_sig.set_xlabel(r'$\\varepsilon$')"
   ]
  },
  {
   "cell_type": "code",
   "execution_count": null,
   "metadata": {},
   "outputs": [],
   "source": []
  }
 ],
 "metadata": {
  "kernelspec": {
   "display_name": "bmcs_matmod",
   "language": "python",
   "name": "python3"
  },
  "language_info": {
   "codemirror_mode": {
    "name": "ipython",
    "version": 3
   },
   "file_extension": ".py",
   "mimetype": "text/x-python",
   "name": "python",
   "nbconvert_exporter": "python",
   "pygments_lexer": "ipython3"
  }
 },
 "nbformat": 4,
 "nbformat_minor": 2
}
