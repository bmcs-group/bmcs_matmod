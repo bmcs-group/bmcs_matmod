{
 "cells": [
  {
   "cell_type": "markdown",
   "metadata": {},
   "source": [
    "# Linear viscoelasticity\n",
    "\n",
    "In this numerical tour, we will explore the formulation of simple linear viscoelastic behaviours such as Maxwell, Kelvin-Voigt or Standard Linear Solid models. The formulation can also be quite easily extended to a generalized Maxwell model.\n",
    "\n",
    "## Constitutive evolution equations\n",
    "\n",
    "### 1D rheological formulation"
   ]
  },
  {
   "cell_type": "raw",
   "metadata": {
    "raw_mimetype": "text/restructuredtext"
   },
   "source": [
    ".. image:: 1D_rheological_model.png\n",
    "   :scale: 80%\n",
    "   :align: center"
   ]
  },
  {
   "cell_type": "markdown",
   "metadata": {},
   "source": [
    "\n",
    "We consider a 1D Linear Standard Solid model consisting of a spring of stiffness $E_0$ in parallel to a Maxwell arm (spring of stiffness $E_1$ in serie with a dashpot of viscosity $\\eta_1$). The uniaxial stress for this rheological model can be decomposed as the sum of a reversible and an irreversible stress:\n",
    "\n",
    "$$\\sigma = E_0\\varepsilon + E_1(\\varepsilon-\\varepsilon^v)$$\n",
    "\n",
    "whereas the evolution equation for the viscous internal strain is given by:\n",
    "\n",
    "$$\\dot{\\varepsilon}^v = \\dfrac{E_1}{\\eta_1}(\\varepsilon-\\varepsilon^v)$$\n",
    "\n",
    "The extension to a generalized Maxwell model with $N$ internal strains is given by:\n",
    "\n",
    "$$\\begin{align}\n",
    "\\sigma &= E_0\\varepsilon + \\sum_{i=1}^N E_i(\\varepsilon-\\varepsilon^{v,i}) \\\\\n",
    "\\dot{\\varepsilon}^{v,i} &= \\dfrac{E_i}{\\eta_i}(\\varepsilon-\\varepsilon^{v,i}) \\quad \\forall i=1,\\ldots, N\n",
    "\\end{align}$$\n",
    "\n",
    "\n",
    "### 3D generalization\n",
    "\n",
    "For the 3D case, isotropic viscoelasticity is characterized by two elastic moduli (resp. two viscosities, or equivalently two relaxation times) for each spring (resp. dashpot) element of the 1D model. Here, we will restrict to a simpler case in which one modulus is common to all elements (similar Poisson ratio for all elements), that is:\n",
    "\n",
    "$$\\begin{align}\n",
    "\\boldsymbol{\\sigma} = E_0\\mathbb{c}:\\boldsymbol{\\varepsilon} + E_1\\mathbb{c}:(\\boldsymbol{\\varepsilon}-\\boldsymbol{\\varepsilon}^v) \\\\\n",
    "\\dot{\\boldsymbol{\\varepsilon}}^v = \\dfrac{E_1}{\\eta_1}\\mathbb{c}:(\\boldsymbol{\\varepsilon}-\\boldsymbol{\\varepsilon}^v)\n",
    "\\end{align}$$\n",
    "\n",
    "where $\\mathbb{c} = \\dfrac{\\nu}{(1+\\nu)(1-2\\nu)}\\mathbf{1}\\otimes\\mathbf{1} + \\dfrac{1}{1+\\nu}\\mathbb{I}$ with $\\mathbf{1}$ and $\\mathbb{I}$ being respectively the 2nd and 4th order identity tensors and $\\nu$ being the Poisson ratio.\n",
    "\n",
    "\n",
    "## Problem position\n",
    "\n",
    "We consider here a 2D rectangular domain of dimensions $L\\times H$. The constitutive relations are written in plane stress conditions, the unitary stiffness tensor is therefore  $\\mathbb{c} = \\dfrac{\\nu}{1-\\nu^2}\\mathbf{1}\\otimes\\mathbf{1} + \\dfrac{1}{1+\\nu}\\mathbb{I}$. The boundary conditions consist of symmetry planes on $x=0$ and $y=0$ and smooth contact with a plane with imposed vertical displacement on $y=H$ or imposed vertical uniform traction depending on the load case. The solution will therefore be homogeneous in the sample. "
   ]
  },
  {
   "cell_type": "code",
   "execution_count": null,
   "metadata": {},
   "outputs": [],
   "source": [
    "from dolfin import *\n",
    "from ufl import replace\n",
    "import numpy as np\n",
    "import matplotlib.pyplot as plt\n",
    "%matplotlib notebook\n",
    "\n",
    "L, H = 0.1, 0.2\n",
    "mesh = RectangleMesh(Point(0., 0.), Point(L, H), 5, 10)\n",
    "\n",
    "E0 = Constant(70e3)\n",
    "E1 = Constant(20e3)\n",
    "eta1 = Constant(1e3)\n",
    "nu = Constant(0.)\n",
    "dt = Constant(0.) # time increment\n",
    "sigc = 100. # imposed creep stress\n",
    "epsr = 1e-3 # imposed relaxation strain\n",
    "\n",
    "def left(x, on_boundary):\n",
    "    return near(x[0], 0.) and on_boundary\n",
    "def bottom(x, on_boundary):\n",
    "    return near(x[1], 0.) and on_boundary\n",
    "class Top(SubDomain):\n",
    "    def inside(self, x, on_boundary):\n",
    "        return near(x[1], H) and on_boundary\n",
    "\n",
    "facets = MeshFunction(\"size_t\", mesh, 1)\n",
    "facets.set_all(0)\n",
    "Top().mark(facets, 1)\n",
    "ds = Measure(\"ds\", subdomain_data=facets)    "
   ]
  },
  {
   "cell_type": "markdown",
   "metadata": {},
   "source": [
    "## Time discretization and formulation of the variational problem\n",
    "\n",
    "Here we will discuss the time discretization of the viscoelastic constitutive equations and the formulation of the global problem using FEniCS.\n",
    "\n",
    "### A first approach\n",
    "\n",
    "A first approach for formulating the time-discretized equations consists in approximating the viscous strain evolution equation using an implicit backward-Euler scheme at a given time $t_{n+1}$:\n",
    "\n",
    "$$\\begin{equation}\n",
    "\\dfrac{\\varepsilon^{v,n+1}-\\varepsilon^{v,n}}{\\Delta t} \\approx \\dot{\\varepsilon}^{v,n+1}= \\dfrac{E_1}{\\eta_1}(\\varepsilon^{n+1}-\\varepsilon^{v, n+1})\n",
    "\\end{equation}$$\n",
    "\n",
    "which can be rewritten as:\n",
    "$$\\begin{equation}\n",
    "\\varepsilon^{v,n+1}=  \\left(1+\\dfrac{\\Delta tE_1}{\\eta_1}\\right)^{-1}\\left(\\varepsilon^{v,n} +\\dfrac{\\Delta t E_1}{\\eta_1}\\varepsilon^{n+1}\\right)\n",
    "\\end{equation}$$\n",
    "\n",
    "**Note:** In the 3D case, the previous expression is more involved since one must invert the following 4-th order tensor: $\\mathbb{I} + \\dfrac{\\Delta tE_1}{\\eta_1}\\mathbb{c}$\n",
    "\n",
    "Introducing $\\tau = \\eta_1/E_1$ and plugging the previous relation into the stress-strain relation, one obtains:\n",
    "\n",
    "$$\\begin{align}\n",
    "\\sigma_{n+1} &= (E_0+E_1)\\varepsilon^{n+1} - E_1\\dfrac{\\Delta t/\\tau}{1+\\Delta t/\\tau}\\varepsilon^{n+1} - E_1\\varepsilon^{v,n} \\\\\n",
    "&= \\left(E_0 + \\dfrac{E_1}{1+\\Delta t/\\tau}\\right)\\varepsilon^{n+1} - \\dfrac{E_1}{1+\\Delta t/\\tau}\\varepsilon^{v,n}\n",
    "\\end{align}$$\n",
    "\n",
    "A possible solution for solving these simple linear viscoelastic behaviours would then be to formulate exactly the problem associated with the previous stress-strain relation, taking into account the modified elasticity tensor depending on the time step $\\Delta t$ and the value of the previous viscous strain. As a result, one would have a pure displacement problem. After solving for $u$ at a given time step, the new viscous strain would have to be updated using the previous relations.\n",
    "\n",
    "### A mixed approach\n",
    "\n",
    "One problematic aspect of the previous approach is that it requires inverting the modified elasticity tensor which poses no problem in the present case but may not be possible for more general non-linear behaviours for instance. We hence propose a more general approach which amounts to solving both the displacement-problem and the viscous strain update in a monolothic way. The formulation can be derived from an incremental variational principle by defining the following incremental potential:\n",
    "\n",
    "$$\\begin{equation}\n",
    "\\mathcal{E} = \\int_{\\Omega} w(\\boldsymbol{\\varepsilon}, \\dot{\\boldsymbol{\\varepsilon}}^v)d\\Omega + \\Delta t \\int_{\\Omega} \\phi(\\dot{\\boldsymbol{\\varepsilon}}^v)d\\Omega - W_{ext}(\\boldsymbol{u})\n",
    "\\end{equation}$$\n",
    "\n",
    "where $W_{ext}(\\boldsymbol{u})$ is the work of external forces and the strain energy density $w(\\boldsymbol{\\varepsilon}, \\boldsymbol{\\varepsilon}^v)$ and the dissipation potential $\\phi(\\dot{\\boldsymbol{\\varepsilon}}^v)$ of the Linear Standard Solid model are respectively given by:\n",
    "\n",
    "$$\\begin{align*}\n",
    "w(\\boldsymbol{\\varepsilon},  \\boldsymbol{\\varepsilon}^v) &= \\dfrac{1}{2}\\boldsymbol{\\varepsilon}:(E_0\\mathbb{c}):\\boldsymbol{\\varepsilon} + \\dfrac{1}{2}(\\boldsymbol{\\varepsilon}-\\boldsymbol{\\varepsilon}^v):(E_1\\mathbb{c}):(\\boldsymbol{\\varepsilon}-\\boldsymbol{\\varepsilon}^v) \\\\\n",
    "\\phi(\\dot{\\boldsymbol{\\varepsilon}}^v) &= \\dfrac{1}{2}\\eta_1 \\dot{\\boldsymbol{\\varepsilon}}^v:\\dot{\\boldsymbol{\\varepsilon}}^v\n",
    "\\end{align*}$$\n",
    "\n",
    "Introducing the backward-Euler approximation \n",
    "\n",
    "$$\\begin{equation}\n",
    "\\dot{\\boldsymbol{\\varepsilon}}^v \\approx \\dfrac{\\boldsymbol{\\varepsilon}^{v,n+1}-\\boldsymbol{\\varepsilon}^{v,n}}{\\Delta t}\n",
    "\\end{equation}$$\n",
    "\n",
    "into the dissipation potential, the new total and viscous strain variables are obtained as the solution to the following minimization problem:\n",
    "\n",
    "$$\\begin{equation}\n",
    "\\min_{\\boldsymbol{\\varepsilon}^{n+1},\\:  \\boldsymbol{\\varepsilon}^{v,n+1}} \\mathcal{E}_{n+1} = \\int_{\\Omega} w(\\boldsymbol{\\varepsilon}^{n+1},  \\boldsymbol{\\varepsilon}^{v,n+1})d\\Omega + \\Delta t \\int_{\\Omega} \\phi\\left(\\dfrac{\\boldsymbol{\\varepsilon}^{v,n+1}-\\boldsymbol{\\varepsilon}^{v,n}}{\\Delta t}\\right)d\\Omega\n",
    "\\end{equation}$$\n",
    "\n",
    "which depends on the knowledge of the previous viscous strain $\\boldsymbol{\\varepsilon}^{v,n}$.\n",
    "\n",
    "It can be shown that the optimality conditions of the previous minimization problem correspond exactly to the relations of the first approach.\n",
    "\n",
    "In the FEniCS implementation, we use a CG1 interpolation for the displacement and a DG0 interpolation for the viscoelastic strain. We then define appropriate functions and form the previous incremental potential. We use the `derivative` function for automatic differentiation. Since the considered problem is linear, we also extract the corresponding bilinear and linear parts of the potential derivative."
   ]
  },
  {
   "cell_type": "code",
   "execution_count": null,
   "metadata": {},
   "outputs": [],
   "source": [
    "Ve = VectorElement(\"CG\", mesh.ufl_cell(), 1)\n",
    "Qe = TensorElement(\"DG\", mesh.ufl_cell(), 0)\n",
    "W = FunctionSpace(mesh, MixedElement([Ve, Qe]))\n",
    "w = Function(W, name=\"Variables at current step\")\n",
    "(u, epsv) = split(w)\n",
    "w_old = Function(W, name=\"Variables at previous step\")\n",
    "(u_old, epsv_old) = split(w_old)\n",
    "w_ = TestFunction(W)\n",
    "(u_, epsv_) = split(w_)\n",
    "dw = TrialFunction(W)\n",
    "\n",
    "def eps(u):\n",
    "    return sym(grad(u))\n",
    "def dotC(e):\n",
    "    return nu/(1+nu)/(1-nu)*tr(e)*Identity(2) + 1/(1+nu)*e\n",
    "def sigma(u, epsv):    \n",
    "    return E0*dotC(eps(u)) + E1*dotC(eps(u) - epsv)\n",
    "def strain_energy(u, epsv):\n",
    "    e = eps(u)\n",
    "    return 0.5*(E0*inner(e,dotC(e)) + E1*inner(e-epsv, dotC(e-epsv)))\n",
    "def dissipation_potential(depsv):\n",
    "    return 0.5*eta1*inner(depsv, depsv)\n",
    "\n",
    "Traction = Constant(0.)\n",
    "incremental_potential = strain_energy(u, epsv)*dx \\\n",
    "                        + dt*dissipation_potential((epsv-epsv_old)/dt)*dx \\\n",
    "                        - Traction*u[1]*ds(1)\n",
    "F = derivative(incremental_potential, w, w_)\n",
    "form = replace(F, {w: dw})"
   ]
  },
  {
   "cell_type": "markdown",
   "metadata": {},
   "source": [
    "## Solutions of elementary tests\n",
    "\n",
    "In the following, we will consider three elementary tests of viscoelastic behaviour, namely a relaxation, creep and recovery test. We implement a function for setting up the boundary conditions and loading parameters for these three different tests and perform the time integration. We keep track of the average vertical stress and strain states (the problem is such that all fields are uniform in the sample) and compare the evolutions with analytical solutions given below. Parameters have been taken as $E_0= 70\\text{ GPa}$, $E_1= 20\\text{ GPa}$, $\\eta_1 = 1 \\text{ GPa.s}$."
   ]
  },
  {
   "cell_type": "code",
   "execution_count": null,
   "metadata": {},
   "outputs": [],
   "source": [
    "dimp = Constant(H*epsr) # imposed vertical displacement instead\n",
    "bcs = [DirichletBC(W.sub(0).sub(0), Constant(0), left),\n",
    "       DirichletBC(W.sub(0).sub(1), Constant(0), bottom),\n",
    "       DirichletBC(W.sub(0).sub(1), dimp, facets, 1)]\n",
    "\n",
    "def viscoelastic_test(case, Nsteps=50, Tend=1.):\n",
    "    # Solution fields are initialized to zero\n",
    "    w.interpolate(Constant((0.,)*6))\n",
    "    \n",
    "    # Define proper loading and BCs\n",
    "    if case in [\"creep\", \"recovery\"]: # imposed traction on top\n",
    "        Traction.assign(Constant(sigc))\n",
    "        bc = bcs[:2] # remove the last boundary conditions from bcs\n",
    "        t0 = Tend/2. # traction goes to zero at t0 for recovery test\n",
    "    elif case == \"relaxation\":\n",
    "        Traction.assign(Constant(0.)) # no traction on top\n",
    "        bc = bcs\n",
    "\n",
    "    # Time-stepping loop\n",
    "    time = np.linspace(0, Tend, Nsteps+1)\n",
    "    Sigyy = np.zeros((Nsteps+1, ))\n",
    "    Epsyy = np.zeros((Nsteps+1, 2))\n",
    "    for (i, dti) in enumerate(np.diff(time)):\n",
    "        if i>0 and i % (Nsteps/5) == 0:\n",
    "            print(\"Increment {}/{}\".format(i, Nsteps))\n",
    "        dt.assign(dti)\n",
    "        if case == \"recovery\" and time[i+1] > t0:\n",
    "            Traction.assign(Constant(0.))\n",
    "        w_old.assign(w)\n",
    "        solve(lhs(form) == rhs(form), w, bc)\n",
    "        # get average stress/strain\n",
    "        Sigyy[i+1] = assemble(sigma(u, epsv)[1, 1]*dx)/L/H\n",
    "        Epsyy[i+1, 0] = assemble(eps(u)[1, 1]*dx)/L/H\n",
    "        Epsyy[i+1, 1] = assemble(epsv[1, 1]*dx)/L/H\n",
    "    \n",
    "    # Define analytical solutions\n",
    "    if case == \"creep\":\n",
    "        if float(E0) == 0.:\n",
    "            eps_an = sigc*(1./float(E1)+time/float(eta1))\n",
    "        else:\n",
    "            Estar = float(E0*E1/(E0+E1))\n",
    "            tau = float(eta1)/Estar\n",
    "            eps_an = sigc/float(E0)*(1-float(Estar/E0)*np.exp(-time/tau))\n",
    "        sig_an = sigc + 0*time\n",
    "    elif case == \"relaxation\":\n",
    "        if float(E1) == 0.:\n",
    "            sig_an = epsr*float(E0) + 0*time\n",
    "        else:\n",
    "            tau = float(eta1/E1)\n",
    "            sig_an = epsr*(float(E0) + float(E1)*np.exp(-time/tau))\n",
    "        eps_an = epsr + 0*time\n",
    "        \n",
    "    elif case == \"recovery\":\n",
    "        Estar = float(E0*E1/(E0+E1))\n",
    "        tau = float(eta1)/Estar\n",
    "        eps_an = sigc/float(E0)*(1-float(E1/(E0+E1))*np.exp(-time/tau))\n",
    "        sig_an = sigc + 0*time\n",
    "        time2 = time[time > t0]\n",
    "        sig_an[time > t0] = 0.\n",
    "        eps_an[time > t0] = sigc*float(E1/E0/(E0+E1))*(np.exp(-(time2-t0)/tau)\n",
    "                                                       - np.exp(-time2/tau))\n",
    "        \n",
    "    # Plot strain evolution\n",
    "    plt.figure()\n",
    "    plt.plot(time, 100*eps_an, label=\"analytical solution\")\n",
    "    plt.plot(time, 100*Epsyy[:, 0], '.', label=\"FE solution\")\n",
    "    plt.plot(time, 100*Epsyy[:, 1], '--', linewidth=1, label=\"viscous strain\")\n",
    "    plt.ylim(0, 1.2*max(Epsyy[:, 0])*100)\n",
    "    plt.xlabel(\"Time\")\n",
    "    plt.ylabel(\"Vertical strain [\\%]\")\n",
    "    plt.title(case.capitalize() + \" test\")\n",
    "    plt.legend()\n",
    "    plt.show()\n",
    "    \n",
    "    # Plot stress evolution\n",
    "    plt.figure()\n",
    "    plt.plot(time, sig_an, label=\"analytical solution\")\n",
    "    plt.plot(time, Sigyy, '.', label=\"FE solution\")\n",
    "    plt.ylim(0, 1.2*max(Sigyy))\n",
    "    plt.ylabel(\"Vertical stress\")\n",
    "    plt.xlabel(\"Time\")\n",
    "    plt.title(case.capitalize() + \" test\")\n",
    "    plt.legend()\n",
    "    plt.show()"
   ]
  },
  {
   "cell_type": "markdown",
   "metadata": {},
   "source": [
    "### Relaxation test\n",
    "\n",
    "First we consider a relaxation test in which the top surface is instantaneously displaced and maintained fixed, generating a uniform and constant uniaxial strain state $\\varepsilon_{yy} = \\varepsilon_r$. Resolving the 1D evolution equation for this test gives:\n",
    "\n",
    "$$\\begin{equation}\n",
    "\\sigma_{yy}(t) = E_0\\varepsilon_r + E_1\\varepsilon_r \\exp(-t/\\tau) \\quad \\text{with } \\tau = \\dfrac{\\eta_1}{E_1}\n",
    "\\end{equation}$$\n",
    "\n",
    "The analytical solution is well reproduced by the FE solution as seen below. The instantaneous stress being $\\sigma_{yy}(t=0^+) = (E_0+E_1)\\varepsilon_r$ whereas the long term stress is being given by $\\sigma_{yy}(t=\\infty) = E_0\\varepsilon_r$."
   ]
  },
  {
   "cell_type": "code",
   "execution_count": null,
   "metadata": {},
   "outputs": [],
   "source": [
    "viscoelastic_test(\"relaxation\")"
   ]
  },
  {
   "cell_type": "markdown",
   "metadata": {},
   "source": [
    "### Creep test\n",
    "\n",
    "We now consider a creep test in which a uniform vertical traction of intensity $\\sigma_c$ is suddenly applied and maintained constant. The integration of the evolution equation gives in this case:\n",
    "\n",
    "$$\\begin{equation}\n",
    "\\varepsilon_{yy}(t) = \\dfrac{\\sigma_c}{E_0}\\left(1- \\dfrac{E_1}{E_0+E_1}\\exp(-t/\\tau)\\right) \\quad \\text{with } \\tau = \\dfrac{\\eta_1(E_0+E_1)}{E_0E_1}\n",
    "\\end{equation}$$\n",
    "\n",
    "Again, the solution is well reproduced. The instantaneous strain is $\\varepsilon_{yy}(t=0^+) = \\dfrac{\\sigma_c}{E_0+E_1}$ whereas the long term strain is being given by $\\varepsilon_{yy}(t=\\infty) = \\dfrac{\\sigma_c}{E_0}$."
   ]
  },
  {
   "cell_type": "code",
   "execution_count": null,
   "metadata": {},
   "outputs": [],
   "source": [
    "viscoelastic_test(\"creep\")"
   ]
  },
  {
   "cell_type": "markdown",
   "metadata": {},
   "source": [
    "### Recovery test\n",
    "\n",
    "Finally, we consider again the same creep test as before up to $t=t_0=0.5$, after which the imposed traction is suddenly removed. The solution is the same as before during the first stage whereas during the second stage it is given by:\n",
    "\n",
    "$$\\begin{equation}\n",
    "\\varepsilon_{yy}(t) = \\dfrac{\\sigma_c E_1}{E_0(E_0+E_1)}\\left(\\exp(-(t-t_0)/\\tau) - \\exp(-t/\\tau)\\right) \\quad \\text{with } \\tau = \\dfrac{\\eta_1(E_0+E_1)}{E_0E_1}\n",
    "\\end{equation}$$"
   ]
  },
  {
   "cell_type": "code",
   "execution_count": null,
   "metadata": {},
   "outputs": [],
   "source": [
    "viscoelastic_test(\"recovery\")"
   ]
  },
  {
   "cell_type": "markdown",
   "metadata": {},
   "source": [
    "## Relaxation and creep tests for a Maxwell model\n",
    "\n",
    "We give here the solutions for a Maxwell model which is obtained from the degenerate case $E_0=0$. We recover that the strain evolves linearly with time for the creep test."
   ]
  },
  {
   "cell_type": "code",
   "execution_count": null,
   "metadata": {},
   "outputs": [],
   "source": [
    "E0.assign(Constant(0.))\n",
    "viscoelastic_test(\"relaxation\")\n",
    "viscoelastic_test(\"creep\")"
   ]
  },
  {
   "cell_type": "markdown",
   "metadata": {},
   "source": [
    "## Relaxation and creep tests for a Kelvin-Voigt model\n",
    "\n",
    "We give here the solutions for a Kelvin-Voigt model which is obtained from the degenerate case $E_1=\\infty$. We recover that the stress is constant for the relaxation test."
   ]
  },
  {
   "cell_type": "code",
   "execution_count": null,
   "metadata": {},
   "outputs": [],
   "source": [
    "E0.assign(Constant(70e3))\n",
    "E1.assign(Constant(1e10))\n",
    "viscoelastic_test(\"relaxation\")\n",
    "viscoelastic_test(\"creep\")"
   ]
  }
 ],
 "metadata": {
  "celltoolbar": "Raw Cell Format",
  "kernelspec": {
   "display_name": "bmcs_env2",
   "language": "python",
   "name": "python3"
  },
  "language_info": {
   "codemirror_mode": {
    "name": "ipython",
    "version": 3
   },
   "file_extension": ".py",
   "mimetype": "text/x-python",
   "name": "python",
   "nbconvert_exporter": "python",
   "pygments_lexer": "ipython3"
  }
 },
 "nbformat": 4,
 "nbformat_minor": 2
}
