{
 "cells": [
  {
   "cell_type": "markdown",
   "metadata": {},
   "source": [
    "# GSM interface model with scalars and vector variables"
   ]
  },
  {
   "cell_type": "markdown",
   "metadata": {},
   "source": [
    "Based on the notebook 01 here we are separating the general part of the\n",
    "derivation valid for any kind of generalized standard model and the particular\n",
    "formulation of the external and internal state representation and the free energy and dissipation potentials"
   ]
  },
  {
   "cell_type": "code",
   "execution_count": null,
   "metadata": {},
   "outputs": [],
   "source": [
    "%matplotlib widget\n",
    "from gsm import GSM\n",
    "import matplotlib.pylab as plt \n",
    "import sympy as sp\n",
    "from bmcs_utils.api import Cymbol\n",
    "import numpy as np\n",
    "sp.init_printing()"
   ]
  },
  {
   "cell_type": "code",
   "execution_count": null,
   "metadata": {},
   "outputs": [],
   "source": [
    "H = sp.Heaviside\n",
    "\n",
    "\n",
    "def get_dirac_delta(x):\n",
    "    return 0\n",
    "numpy_dirac =[{'DiracDelta': get_dirac_delta }, 'numpy']"
   ]
  },
  {
   "cell_type": "code",
   "execution_count": null,
   "metadata": {},
   "outputs": [],
   "source": [
    "x = sp.Symbol(r'x')\n",
    "H_expr = H(x)\n",
    "dH_expr = H_expr.diff(x)\n",
    "dH_expr"
   ]
  },
  {
   "cell_type": "markdown",
   "metadata": {},
   "source": [
    "## Material parameters"
   ]
  },
  {
   "cell_type": "code",
   "execution_count": null,
   "metadata": {},
   "outputs": [],
   "source": [
    "E_T = Cymbol(r'E_{\\mathrm{T}}', codename='E_T_', real=True, nonnegative=True)\n",
    "gamma_T = Cymbol(r'\\gamma_{\\mathrm{T}}', codename='gamma_T_', real=True)\n",
    "K_T = Cymbol(r'K_{\\mathrm{T}}', codename='K_T_', real=True)\n",
    "S_T = Cymbol(r'S_{\\mathrm{T}}', codename='S_T_', real=True, nonnegative=True)\n",
    "r_T = Cymbol(r'r_{\\mathrm{T}}', codename='r_T_', real=True, nonnegative=True)\n",
    "c_T = Cymbol(r'c_{\\mathrm{T}}', codename='c_T_', real=True, nonnegative=True)\n",
    "eta_T = Cymbol(r'\\eta_{\\mathrm{T}}', codename='eta_T_', real=True, nonnegative=True)\n",
    "\n",
    "E_N = Cymbol(r'E_{\\mathrm{N}}', codename='E_N_', real=True, nonnegative=True)\n",
    "gamma_N = Cymbol(r'\\gamma_{\\mathrm{N}}', codename='gamma_N_', real=True)\n",
    "K_N = Cymbol(r'K_{\\mathrm{N}}', codename='K_N_', real=True)\n",
    "S_N = Cymbol(r'S_{\\mathrm{N}}', codename='S_N_', real=True, nonnegative=True)\n",
    "r_N = Cymbol(r'r_{\\mathrm{N}}', codename='r_N_', real=True, nonnegative=True)\n",
    "c_N = Cymbol(r'c_{\\mathrm{N}}', codename='c_N_', real=True, nonnegative=True)\n",
    "\n",
    "eta_N = Cymbol(r'\\eta_{\\mathrm{N}}', codename='eta_N_', real=True, nonnegative=True)\n",
    "zeta = Cymbol('zeta', codename='zeta_', real=True, nonnegative=True)\n",
    "\n",
    "d_N = Cymbol(r'd_{\\mathrm{N}}', codename='d_N_', real=True, nonnegative=True)\n",
    "alpha_therm = Cymbol(r'\\alpha_{\\vartheta}', codename='alpha_therm_', real=True, nonnegative=True)\n",
    "# temperature \n",
    "C_v = Cymbol(r'C_{\\mathrm{v}}', codename='C_v_', real=True, nonnegative=True)\n",
    "T_0 = Cymbol(r'\\vartheta_0', codename='T_0_', real=True, nonnegative=True)\n",
    "beta = Cymbol(r'\\beta', codename='beta_', real=True, nonnegative=True)"
   ]
  },
  {
   "cell_type": "code",
   "execution_count": null,
   "metadata": {},
   "outputs": [],
   "source": [
    "f_t = Cymbol(r'f_\\mathrm{Nt}', codename='f_t_')\n",
    "f_c = Cymbol(r'f_\\mathrm{Nc}', codename='f_c_')\n",
    "f_c0 = Cymbol(r'f_\\mathrm{Nc0}', codename='f_c0_')\n",
    "f_s = Cymbol(r'f_\\mathrm{T}', codename='f_s_')\n",
    "m = Cymbol(r'm', codename='m_', real=True, nonnegative=True)"
   ]
  },
  {
   "cell_type": "code",
   "execution_count": null,
   "metadata": {},
   "outputs": [],
   "source": [
    "mparams = (E_T, gamma_T, K_T, S_T, c_T, f_s, E_N, gamma_N, K_N, S_N, c_N, m, f_t, f_c, f_c0, \n",
    "           r_N, r_T, eta_N, eta_T, zeta, C_v, T_0, d_N, alpha_therm, beta)\n",
    "mparams"
   ]
  },
  {
   "cell_type": "markdown",
   "metadata": {},
   "source": [
    "## External state variables"
   ]
  },
  {
   "cell_type": "code",
   "execution_count": null,
   "metadata": {},
   "outputs": [],
   "source": [
    "u_N = Cymbol(r'u_\\mathrm{N}', codename='u_N_', real=True)\n",
    "u_Tx = Cymbol(r'u_\\mathrm{Tx}', codename='u_Tx_', real=True)\n",
    "u_Ty = Cymbol(r'u_\\mathrm{Ty}', codename='u_Ty_', real=True)\n",
    "u_Ta = sp.Matrix([u_Tx, u_Ty])\n",
    "u_a = sp.Matrix([u_N, u_Tx, u_Ty])\n",
    "sig_N = Cymbol(r'\\sigma_\\mathrm{N}', codename='sig_N_', real=True)\n",
    "sig_Tx = Cymbol(r'\\sigma_\\mathrm{Tx}', codename='sig_Tx_', real=True)\n",
    "sig_Ty = Cymbol(r'\\sigma_\\mathrm{Ty}', codename='sig_Ty_', real=True)\n",
    "sig_Ta = sp.Matrix([sig_Tx, sig_Ty])\n",
    "sig_a = sp.Matrix([sig_N, sig_Tx, sig_Ty])"
   ]
  },
  {
   "cell_type": "code",
   "execution_count": null,
   "metadata": {},
   "outputs": [],
   "source": [
    "T = Cymbol(r'\\vartheta', codename='T_', real=True)\n",
    "Gamma = sp.exp(-beta * (T - T_0))\n",
    "Gamma"
   ]
  },
  {
   "cell_type": "markdown",
   "metadata": {},
   "source": [
    "## Internal state variables"
   ]
  },
  {
   "cell_type": "code",
   "execution_count": null,
   "metadata": {},
   "outputs": [],
   "source": [
    "u_p_N = Cymbol(r'u_\\mathrm{N}^\\mathrm{p}', codename='u_p_N_', real=True)\n",
    "u_p_Tx = Cymbol(r'u_\\mathrm{Tx}^\\mathrm{p}', codename='u_p_Tx_', real=True)\n",
    "u_p_Ty = Cymbol(r'u_\\mathrm{Ty}^\\mathrm{p}', codename='u_p_Ty_', real=True)\n",
    "u_p_Ta = sp.Matrix([u_p_Tx, u_p_Ty])\n",
    "u_p_a = sp.Matrix([u_p_N, u_p_Tx, u_p_Ty])\n",
    "sig_p_N = Cymbol(r'\\sigma^\\mathrm{p}_\\mathrm{N}', codename='sig_p_N_', real=True)\n",
    "sig_p_Tx = Cymbol(r'\\sigma^\\mathrm{p}_\\mathrm{Tx}', codename='sig_p_Tx_', real=True)\n",
    "sig_p_Ty = Cymbol(r'\\sigma^\\mathrm{p}_\\mathrm{Ty}', codename='sig_p_Ty_', real=True)\n",
    "sig_p_Ta = sp.Matrix([sig_p_Tx, sig_p_Ty])\n",
    "sig_p_a = sp.Matrix([sig_p_N, sig_p_Tx, sig_p_Ty])"
   ]
  },
  {
   "cell_type": "code",
   "execution_count": null,
   "metadata": {},
   "outputs": [],
   "source": [
    "omega_N = Cymbol(r'\\omega_\\mathrm{N}', codename='omega_N_', real=True)\n",
    "omega_T = Cymbol(r'\\omega_\\mathrm{T}', codename='omega_T_', real=True)\n",
    "# omega_ab = sp.Matrix([[H(sig_p_N) * omega_N, 0, 0],\n",
    "#                       [0, omega_T, 0],\n",
    "#                       [0, 0, omega_T]])\n",
    "omega_ab = sp.Matrix([[omega_N, 0, 0],\n",
    "                      [0, omega_T, 0],\n",
    "                      [0, 0, omega_T]])\n",
    "omega_a = sp.Matrix([omega_N, omega_T])\n",
    "Y_N = Cymbol(r'Y_\\mathrm{N}', codename='Y_N_', real=True)\n",
    "Y_T = Cymbol(r'Y_\\mathrm{T}', codename='Y_T_', real=True)\n",
    "Y_a = sp.Matrix([Y_N, Y_T])"
   ]
  },
  {
   "cell_type": "code",
   "execution_count": null,
   "metadata": {},
   "outputs": [],
   "source": [
    "z_N = Cymbol(r'z_\\mathrm{N}', codename='z_N_', real=True)\n",
    "z_T = Cymbol(r'z_\\mathrm{T}', codename='z_T_', real=True)\n",
    "K_ab = sp.Matrix([[K_N, 0],\n",
    "                  [0, K_T]])\n",
    "z_a = sp.Matrix([z_N, z_T])\n",
    "Z_N = Cymbol(r'Z_\\mathrm{N}', codename='Z_N_', real=True)\n",
    "Z_T = Cymbol(r'Z_\\mathrm{T}', codename='Z_T_', real=True)\n",
    "Z_a = sp.Matrix([Z_N, Z_T])"
   ]
  },
  {
   "cell_type": "code",
   "execution_count": null,
   "metadata": {},
   "outputs": [],
   "source": [
    "alpha_N = Cymbol(r'\\alpha_\\mathrm{N}', codename='alpha_N_', real=True, nonnegative=True)\n",
    "alpha_Tx = Cymbol(r'\\alpha_\\mathrm{Tx}', codename='alpha_Tx_', real=True, nonnegative=True)\n",
    "alpha_Ty = Cymbol(r'\\alpha_\\mathrm{Ty}', codename='alpha_Ty_', real=True, nonnegative=True)\n",
    "gamma_ab = sp.Matrix([[gamma_N, 0, 0],\n",
    "                      [0, gamma_T, 0],\n",
    "                      [0, 0, gamma_T]])\n",
    "alpha_Ta = sp.Matrix([alpha_Tx, alpha_Ty])\n",
    "alpha_a = sp.Matrix([alpha_N, alpha_Tx, alpha_Ty])\n",
    "X_N = Cymbol(r'X_\\mathrm{N}', codename='X_N_', real=True, nonnegative=True)\n",
    "X_Tx = Cymbol(r'X_\\mathrm{Tx}', codename='X_Ty_', real=True, nonnegative=True)\n",
    "X_Ty = Cymbol(r'X_\\mathrm{Ty}', codename='X_Tx_', real=True, nonnegative=True)\n",
    "X_Ta = sp.Matrix([X_Tx, X_Ty])\n",
    "X_a = sp.Matrix([X_N, X_Tx, X_Ty])"
   ]
  },
  {
   "cell_type": "markdown",
   "metadata": {},
   "source": [
    "## Free energy potential"
   ]
  },
  {
   "cell_type": "code",
   "execution_count": null,
   "metadata": {},
   "outputs": [],
   "source": [
    "E_ab = sp.Matrix([[E_N, 0, 0],\n",
    "                  [0, E_T, 0],\n",
    "                  [0, 0, E_T]])\n",
    "u_el_a = u_a - u_p_a\n",
    "E_eff_ab = (sp.eye(3) - omega_ab) * E_ab\n",
    "E_eff_ab"
   ]
  },
  {
   "cell_type": "code",
   "execution_count": null,
   "metadata": {},
   "outputs": [],
   "source": [
    "U_T_ = ( (1 - omega_N) * E_N * alpha_therm * (T - T_0) * (u_N - u_p_N) * d_N )\n",
    "U_e_ = sp.Rational(1,2) * (u_el_a.T * E_eff_ab * u_el_a)[0]\n",
    "U_p_ = sp.Rational(1,2) * (z_a.T * K_ab * z_a + alpha_a.T * gamma_ab * alpha_a)[0]\n",
    "TS_ = C_v * (T - T_0) **2 / (2 * T_0)\n",
    "F_ = U_e_ + U_p_ + U_T_ - TS_\n",
    "F_"
   ]
  },
  {
   "cell_type": "markdown",
   "metadata": {},
   "source": [
    "## Dissipation potential"
   ]
  },
  {
   "cell_type": "code",
   "execution_count": null,
   "metadata": {},
   "outputs": [],
   "source": [
    "%%capture\n",
    "%run threshold_function_f_df.ipynb"
   ]
  },
  {
   "cell_type": "code",
   "execution_count": null,
   "metadata": {},
   "outputs": [],
   "source": [
    "# sig_eff_Ta = sig_p_Ta / (1 - omega_T)\n",
    "# sig_eff_N = sig_p_N / (1 - omega_N)\n",
    "# q_T = sig_eff_Ta - X_Ta\n",
    "# norm_q_T = sp.sqrt((q_T.T * q_T)[0])\n",
    "# q_N = sig_eff_N\n",
    "# norm_q_N = sp.sqrt(q_N**2)\n",
    "# subs_f_state_vars = {\n",
    "#     x: norm_q_N, \n",
    "#     y: norm_q_T, # current stress\n",
    "#     f_c0: f_c0,\n",
    "#     f_t: f_t, # + Z_N, \n",
    "#     f_c: f_c, # - Z_N, \n",
    "#     f_s: (f_s+Z_T) * Gamma # current threshold    \n",
    "# }\n",
    "# f_ = f_solved_.subs(subs_f_state_vars)"
   ]
  },
  {
   "cell_type": "code",
   "execution_count": null,
   "metadata": {},
   "outputs": [],
   "source": [
    "sig_eff_Tx = sp.Function(r'\\sigma^{\\mathrm{eff}}_{\\mathrm{T}x}')(sig_p_Tx, omega_T)\n",
    "sig_eff_Ty = sp.Function(r'\\sigma^{\\mathrm{eff}}_{\\mathrm{T}y}')(sig_p_Ty, omega_T)\n",
    "sig_eff_N = sp.Function(r'\\sigma^{\\mathrm{eff}}_{\\mathrm{N}}')(sig_p_N, omega_N)\n",
    "q_Tx = sp.Function(r'q_Tx')(sig_eff_Tx,X_Tx)\n",
    "q_Ty = sp.Function(r'q_Ty')(sig_eff_Ty,X_Ty)\n",
    "q_N = sp.Function(r'q_N')(sig_eff_N)\n",
    "norm_q_T = sp.sqrt(q_Tx*q_Tx + q_Ty*q_Ty)\n",
    "subs_q_T = {q_Tx: (sig_eff_Tx - X_Tx), q_Ty: (sig_eff_Ty - X_Ty)}\n",
    "subs_q_N = {q_N: sig_eff_N - X_N}\n",
    "subs_sig_eff = {sig_eff_Tx: sig_p_Tx / (1-omega_T),\n",
    "                  sig_eff_Ty: sig_p_Ty / (1-omega_T),\n",
    "                  sig_eff_N: sig_p_N / (1-omega_N)\n",
    "                 }\n",
    "f_ = (f_solved_\n",
    "      .subs({x: q_N, y: norm_q_T})\n",
    "      .subs(subs_q_T)\n",
    "      .subs(subs_q_N)\n",
    "      .subs(subs_sig_eff)\n",
    "      .subs(f_s,((f_s+Z_T) * Gamma))\n",
    "      .subs(f_t,((f_t+Z_N) * Gamma))\n",
    "      .subs(f_c0,((f_c0+Z_N) * Gamma))\n",
    "      .subs(f_c,((f_c+Z_N) * Gamma))\n",
    "      )"
   ]
  },
  {
   "cell_type": "code",
   "execution_count": null,
   "metadata": {},
   "outputs": [],
   "source": [
    "# S_NT = sp.sqrt(S_N*S_T)\n",
    "# c_NT = sp.sqrt(c_N*c_T)\n",
    "# r_NT = sp.sqrt(r_N*r_T)\n",
    "# omega_NT = 1 - sp.sqrt((1-omega_N)*(1-omega_T))\n",
    "# phi_N = (1 - omega_N)**c_N * S_N / (r_N+1) * (Y_N / S_N)**(r_N+1)\n",
    "# phi_T = (1 - omega_T)**c_T * S_T / (r_T+1) * (Y_T / S_T)**(r_T+1)\n",
    "# phi_NT = (1 - omega_NT)**c_NT * S_NT / (r_NT+1) * ((Y_N + Y_T)/(S_NT))**(r_NT+1)\n",
    "# phi_ext_ = ((1 - zeta)*(phi_N + phi_T) + zeta*phi_NT)"
   ]
  },
  {
   "cell_type": "code",
   "execution_count": null,
   "metadata": {},
   "outputs": [],
   "source": [
    "S_NT = sp.sqrt(S_N*S_T)\n",
    "c_NT = sp.sqrt(c_N*c_T)\n",
    "r_NT = sp.sqrt(r_N*r_T)\n",
    "omega_NT = 1 - sp.sqrt((1-omega_N)*(1-omega_T))\n",
    "phi_N = (1 - omega_N)**c_N * S_N / (r_N+1) * (Y_N / S_N)**(r_N+1) * H(sig_p_N)\n",
    "phi_T = (1 - omega_T)**c_T * S_T / (r_T+1) * (Y_T / S_T)**(r_T+1)\n",
    "phi_NT = (1 - omega_NT)**c_NT * S_NT / (r_NT+1) * ((H(sig_p_N)* Y_N + Y_T)/(S_NT))**(r_NT+1)\n",
    "phi_ext_ = ((1 - zeta)*(phi_N + phi_T) + zeta*phi_NT)\n",
    "phi_ext_"
   ]
  },
  {
   "cell_type": "code",
   "execution_count": null,
   "metadata": {},
   "outputs": [],
   "source": [
    "t_relax_N_ = eta_N / (E_N + gamma_N)\n",
    "t_relax_T_ = eta_T / (E_T + K_T + gamma_T)\n",
    "t_relax_ = sp.Matrix([\n",
    "                    t_relax_N_,\n",
    "                    t_relax_T_,\n",
    "                    t_relax_T_,\n",
    "                    t_relax_N_,\n",
    "                    t_relax_T_,\n",
    "                    t_relax_N_,\n",
    "                    t_relax_T_,\n",
    "                    t_relax_T_,\n",
    "                    ] \n",
    "               )"
   ]
  },
  {
   "cell_type": "code",
   "execution_count": null,
   "metadata": {},
   "outputs": [],
   "source": [
    "gsm = GSM(\n",
    "    u_vars = u_a,\n",
    "    T_var = T,\n",
    "    m_params = mparams,\n",
    "    Eps_vars = (u_p_a, z_a, alpha_a, omega_a),\n",
    "    Sig_vars = (sig_p_a, Z_a, X_a, Y_a),\n",
    "    Sig_signs = (-1, 1, 1, -1),\n",
    "    F_expr = F_,\n",
    "    f_expr = f_,\n",
    "    phi_ext_expr = phi_ext_,\n",
    "    t_relax = t_relax_\n",
    ")"
   ]
  },
  {
   "cell_type": "code",
   "execution_count": null,
   "metadata": {},
   "outputs": [],
   "source": [
    "_u_a = np.array([-20, 3, 0])\n",
    "_T = np.array([20])\n",
    "material_params = dict(\n",
    "    E_T_=1, gamma_T_=1, K_T_=1, S_T_=1000, c_T_=1, f_s_=1, \n",
    "    E_N_=1, gamma_N_=0, K_N_=0, S_N_=1000, c_N_=1, m_=0.1, f_t_=1, f_c_=20, f_c0_=10, \n",
    "    r_N_=2, r_T_=2, zeta_=0.0001, eta_N_=1, eta_T_=1, d_N_=0, alpha_therm_=1e-5, \n",
    "    T_0_=20, C_v_=1, beta_=1\n",
    ")\n",
    "_Eps_B00 = np.zeros((gsm.n_Eps_explicit,), np.float_ )\n",
    "_f = gsm.get_f(_u_a, 20, _Eps_B00, _Eps_B00, **material_params)\n",
    "_df_dlambda = gsm.get_df_dlambda(_u_a, 20, _Eps_B00, _Eps_B00, **material_params)\n",
    "_f2, _df_dlambda2, _Sig_B00 = gsm.get_f_df_Sig(_u_a, _T, _Eps_B00, _Eps_B00, **material_params)\n",
    "_Phi = gsm.get_Phi(_u_a, 20, _Eps_B00, _Sig_B00, **material_params)\n",
    "_f2, _df_dlambda2, _Sig_B00, _Phi"
   ]
  },
  {
   "cell_type": "markdown",
   "metadata": {},
   "source": [
    "## Threshold function and rate of dissipation potential"
   ]
  },
  {
   "cell_type": "code",
   "execution_count": null,
   "metadata": {},
   "outputs": [],
   "source": [
    "u_N_range, u_T_range = np.mgrid[-22:3:500j, -5:5:500j]\n",
    "# u_N_range, u_T_range = np.mgrid[-5:5:500j, -5:5:500j]\n",
    "_u_IJ = np.zeros((3,) + u_N_range.shape, np.float_)\n",
    "_u_IJ[0] = u_N_range\n",
    "_u_IJ[2] = u_T_range\n",
    "_Eps_BIJ = np.zeros((gsm.n_Eps_explicit, *u_N_range.shape), np.float_)\n",
    "_T_IJ = np.ones_like(u_N_range) * 20\n",
    "_f_IJ, _df_dlambda_IJ, _Sig_IJ = gsm.get_f_df_Sig(_u_IJ, _T_IJ, _Eps_BIJ, _Eps_BIJ, **material_params)\n",
    "fig, ax = plt.subplots(1, 1, figsize=(8, 4), tight_layout=True)\n",
    "fig.canvas.header_visible = False\n",
    "ax.contour(u_N_range, u_T_range, _f_IJ, levels=[0]);\n",
    "ax.contourf(u_N_range, u_T_range, _df_dlambda_IJ);\n",
    "ax.axis('equal');"
   ]
  },
  {
   "cell_type": "markdown",
   "metadata": {},
   "source": [
    "## Quantitative verification for a single time step, single point"
   ]
  },
  {
   "cell_type": "code",
   "execution_count": null,
   "metadata": {},
   "outputs": [],
   "source": [
    "_u_n1 = np.array([[-20. ], [  1.2],  [  0. ]], np.float_)\n",
    "_T_n = np.array([20])\n",
    "_Eps_n1 = np.array([[-7.67391629e-02], \n",
    " [ 3.06956652e-01],\n",
    " [ 0.00000000e+00],\n",
    " [ 8.22320490e-02],\n",
    " [ 1.09857722e-01],\n",
    " [-7.67391629e-02],\n",
    " [ 3.06956652e-01],\n",
    " [ 0.00000000e+00],\n",
    " [ 4.85341782e-03],\n",
    " [ 7.43930809e-07]], dtype=np.float_)\n",
    "_Sig_n1 = np.array([[-20.  ],\n",
    "                [  1.2 ],\n",
    "                [ -0.  ],\n",
    "                [  0.  ],\n",
    "                [  0.  ],\n",
    "                [  0.  ],\n",
    "                [  0.  ],\n",
    "                [  0.  ],\n",
    "                [100.  ],\n",
    "                [  0.72]], dtype=np.float_\n",
    "                )\n",
    "_dSig_dEps = gsm.get_dSig_dEps(_u_n1, _T_n, _Eps_n1, _Sig_n1, **material_params)\n",
    "_df_dSig = gsm.get_df_dSig(_u_n1, _T_n, _Eps_n1, _Sig_n1, **material_params)\n",
    "_df_dEps = gsm.get_df_dEps(_u_n1, _T_n, _Eps_n1, _Sig_n1, **material_params)\n",
    "_Phi = gsm.get_Phi(_u_n1, _T_n, _Eps_n1, _Sig_n1, **material_params)"
   ]
  },
  {
   "cell_type": "code",
   "execution_count": null,
   "metadata": {},
   "outputs": [],
   "source": [
    "_df_dSig"
   ]
  },
  {
   "cell_type": "code",
   "execution_count": null,
   "metadata": {},
   "outputs": [],
   "source": [
    "_u_I = np.zeros((1, 3), np.float_)\n",
    "n_I = len(_u_I)\n",
    "_du_I = np.zeros_like(_u_I)\n",
    "# _du_I[:, 0] = [0.0001, 0.0001, 0.0001, -20]\n",
    "# _du_I[:, 1] = [0.0001, 0.1, 0.12, 1.2]\n",
    "_du_I[:, 0] = [-20]\n",
    "_du_I[:, 1] = [1.2]\n",
    "_T_I = np.ones((n_I,)) * 20\n",
    "_Eps_IB = np.zeros((n_I,) + (gsm.n_Eps_explicit,), np.float_)\n",
    "material_params = dict(\n",
    "    E_T_=1, gamma_T_=1, K_T_=1, S_T_=1000, c_T_=1, f_s_=1, \n",
    "    E_N_=1, gamma_N_=0, K_N_=1, S_N_=1000, c_N_=1, m_=0.05, f_t_=1, f_c_=20, f_c0_=10, \n",
    "    r_N_=2, r_T_=2, zeta_=0.0001, eta_N_=1, eta_T_=1, d_N_=0, alpha_therm_=1e-5, \n",
    "    T_0_=20, C_v_=1, beta_=1\n",
    ")\n",
    "Eps_1, Sig_1,  T_1, k, dDiss_dEps_1 = gsm.get_state_n1(_u_I, _du_I, _T_I, \n",
    "                               0.02, _Eps_IB, _Eps_IB, 50, **material_params)\n",
    "Eps_1, Sig_1, T_1, k, dDiss_dEps_1"
   ]
  },
  {
   "cell_type": "markdown",
   "metadata": {},
   "source": [
    "## Vectorized evaluation of a single step on a domain"
   ]
  },
  {
   "cell_type": "code",
   "execution_count": null,
   "metadata": {},
   "outputs": [],
   "source": [
    "material_params = dict(\n",
    "    E_T_=1, gamma_T_=0, K_T_=1, S_T_=1e+1, c_T_=1, f_s_=1, \n",
    "    E_N_=1, gamma_N_=1, K_N_=0.1, S_N_=1e+1, c_N_=1, m_=0.05, f_t_=1, f_c_=20, f_c0_=10, \n",
    "    r_N_=2, r_T_=2, zeta_=1, eta_N_=1, eta_T_=1, d_N_=0, alpha_therm_=1e-5, \n",
    "    T_0_=20, C_v_=1, beta_=1\n",
    ")\n",
    "# target displacement grid \n",
    "u_N_range, u_T_range = np.mgrid[-20.4:1.4:50j, -3:3:30j]\n",
    "#u_N_range, u_T_range = np.mgrid[-10:2.5:105j, -3:3:30j]\n",
    "_u_IJa = np.zeros(u_N_range.shape + (3,), np.float_)\n",
    "_u_IJa[...,0] = u_N_range\n",
    "_u_IJa[...,1] = u_T_range\n",
    "_T_IJ = np.ones_like(u_N_range) * 20\n",
    "_Eps_IJb = np.zeros(u_N_range.shape + (gsm.n_Eps_explicit,), np.float_)\n",
    "# run all return mapping loops in parallel\n",
    "_Eps_1_IJb, _Sig_1_IJb, T_1, k, dDiss_dEps_1_IJ = gsm.get_state_n1(np.ones_like(_u_IJa) * [0,0,0], \n",
    "                               _u_IJa, _T_IJ, 0.02, _Eps_IJb, _Eps_IJb, 80, **material_params)\n",
    "# rearrange for plotting\n",
    "_Eps_1_bIJ = np.moveaxis(_Eps_1_IJb, -1, 0)\n",
    "_Eps_1_BIJ = gsm.Eps_as_blocks(_Eps_1_bIJ)\n",
    "_u_aIJ = np.moveaxis(_u_IJa, -1, 0)\n",
    "_u_p_IJa = _Eps_1_BIJ[0]\n",
    "_u_e_aIJ = _u_aIJ - _u_p_IJa\n",
    "_u_N_IJ, _u_T_IJ = _u_aIJ[[0,1]]\n",
    "_u_e_N_IJ, _u_e_T_IJ = _u_e_aIJ[[0,1]]\n",
    "# plot\n",
    "fig, ax = plt.subplots(1, 1, figsize=(8, 4), tight_layout=True)\n",
    "fig.canvas.header_visible = False\n",
    "# plot the original threshold function\n",
    "_Eps_bIJ = np.moveaxis(_Eps_IJb, -1, 0)\n",
    "_f_IJ, _df_dlambda_IJ, _ = gsm.get_f_df_Sig(_u_aIJ, _T_IJ, _Eps_bIJ, _Eps_bIJ, **material_params)\n",
    "ax.contour(_u_N_IJ, _u_T_IJ, _f_IJ, levels=[0]);\n",
    "ax.contourf(_u_N_IJ, _u_T_IJ, _df_dlambda_IJ, alpha=0.3);\n",
    "_v_N_range = np.array([_u_N_IJ.flatten(), _u_e_N_IJ.flatten()]) \n",
    "_v_T_range = np.array([_u_T_IJ.flatten(), _u_e_T_IJ.flatten()]) \n",
    "ax.plot(_v_N_range, _v_T_range, '-')\n",
    "ax.axis('equal');"
   ]
  },
  {
   "cell_type": "code",
   "execution_count": null,
   "metadata": {},
   "outputs": [],
   "source": [
    "_omega_1_N_IJ = _Eps_1_BIJ[3][0]\n",
    "fig, ax = plt.subplots(1, 1, figsize=(8, 4), tight_layout=True)\n",
    "fig.canvas.header_visible = False\n",
    "ax.contourf(u_N_range, u_T_range, _omega_1_N_IJ, levels=[0.0001, 0.01,.02,.04,.08,.16,.32,.641]);\n",
    "ax.contour(_u_N_IJ, _u_T_IJ, _f_IJ, levels=[0], colors=['black']);\n",
    "ax.axis('equal')"
   ]
  },
  {
   "cell_type": "code",
   "execution_count": null,
   "metadata": {},
   "outputs": [],
   "source": [
    "get_Phi_8 = sp.lambdify((gsm.Eps.as_explicit(), gsm.Sig.as_explicit(), *gsm.m_params), gsm.Phi_[9,0])"
   ]
  },
  {
   "cell_type": "code",
   "execution_count": null,
   "metadata": {},
   "outputs": [],
   "source": [
    "_Eps_0 = np.zeros((gsm.n_Eps_explicit,), dtype=np.float_)\n",
    "_Sig_0 = np.zeros((gsm.n_Eps_explicit,), dtype=np.float_)\n",
    "material_params = dict(\n",
    "    E_T_=1, gamma_T_=0, K_T_=0, S_T_=10000, c_T_=1, f_s_=1, \n",
    "    E_N_=1, gamma_N_=0, K_N_=0, S_N_=10000, c_N_=1, m_=0.1, f_t_=1, f_c_=20, f_c0_=10, \n",
    "    r_N_=2, r_T_=2, zeta_=1, eta_N_=1, eta_T_=1, d_N_=0, alpha_therm_=1e-5, \n",
    "    T_0_=20, C_v_=1, beta_=1\n",
    ")\n",
    "u_n1 = np.array([-1, 1.2, 0])\n",
    "_f_k, _df_k, _Sig_k = gsm.get_f_df_Sig(u_n1, 20, _Eps_0, _Sig_0, **material_params)\n",
    "_lam_k = _df_k / _f_k\n",
    "\n",
    "_Phi_k_8 = get_Phi_8(_Eps_0, _Sig_k, **material_params)\n",
    "_Phi_k = gsm.get_Phi(u_n1, 20, _Eps_0, _Sig_k, **material_params)\n",
    "_Phi_k_8, _Phi_k\n"
   ]
  },
  {
   "cell_type": "code",
   "execution_count": null,
   "metadata": {},
   "outputs": [],
   "source": [
    "\n",
    "\n",
    "_Eps_k = _Eps_0 + _lam_k * _Phi_k\n",
    "\n",
    "# _Eps_k = gsm.get_Eps_k1(u_n1, 20, _Eps_0, _lam_k, _Eps_0, _Sig_k, **material_params)\n",
    "_Sig_k, _Phi_k\n"
   ]
  },
  {
   "cell_type": "code",
   "execution_count": null,
   "metadata": {},
   "outputs": [],
   "source": [
    "\n",
    "# Eps_1, Sig_1, T_1, k, dDiss_dEps_1 = gsm.get_state_n1(np.array([0, 0, 0]), \n",
    "#                                np.array([-1, 1.2, 0]), 20, \n",
    "#                                0.02, _Eps_0, _Sig_0, 2, **material_params)\n",
    "# Eps_1, Sig_1, T_1, k, dDiss_dEps_1\n",
    "\n",
    "Eps_1, Sig_1, k = gsm.get_state_n1(np.array([0, 0, 0]), \n",
    "                               np.array([-1, 1.2, 0]), 20, \n",
    "                               0.02, _Eps_0, _Sig_0, 2, **material_params)\n",
    "Eps_1, Sig_1, k"
   ]
  },
  {
   "cell_type": "code",
   "execution_count": null,
   "metadata": {},
   "outputs": [],
   "source": []
  }
 ],
 "metadata": {
  "kernelspec": {
   "display_name": "bmcs_env2",
   "language": "python",
   "name": "python3"
  },
  "language_info": {
   "codemirror_mode": {
    "name": "ipython",
    "version": 3
   },
   "file_extension": ".py",
   "mimetype": "text/x-python",
   "name": "python",
   "nbconvert_exporter": "python",
   "pygments_lexer": "ipython3"
  }
 },
 "nbformat": 4,
 "nbformat_minor": 2
}
