{
 "cells": [
  {
   "cell_type": "markdown",
   "metadata": {},
   "source": [
    "# Variational approach to continuum thermodynamics"
   ]
  },
  {
   "cell_type": "markdown",
   "metadata": {},
   "source": [
    "Gradient-driven minimization of the total energy potential which includes Maxwell viscoelasticity\n",
    "\n",
    "Consider a Helmholtz free energy as $\\Psi(\\varepsilon, \\mathcal{E})$ with $\\varepsilon$ representing the external strain variable and $\\mathcal{E}$ a vector of internal variables.\n",
    "\n",
    "The rate of the Helmholtz potential is given as\n",
    "$$\n",
    "\\dot{\\Psi} = \\frac{\\partial \\Psi}{\\partial \\varepsilon} \\dot{\\varepsilon}\n",
    "           + \\frac{\\partial \\Psi}{\\partial \\mathcal{E}} \\dot{\\mathcal{E}}\n",
    "           = \\frac{\\partial \\Psi}{\\partial \\varepsilon} \\dot{\\varepsilon}\n",
    "           - \\mathcal{S} : \\dot{\\mathcal{E}}\n",
    "           = \\frac{\\partial \\Psi}{\\partial \\varepsilon} \\dot{\\varepsilon}\n",
    "           - \\mathcal{D}(\\mathcal{E}, \\dot{\\mathcal{E}}),\n",
    "$$\n",
    "with $\\mathcal{S}$ and $\\mathcal{D}$ representing the thermodynamic forces and the dissipation rate, respectively."
   ]
  },
  {
   "cell_type": "markdown",
   "metadata": {},
   "source": [
    "## Example - damage-viscoelastic model"
   ]
  },
  {
   "cell_type": "markdown",
   "metadata": {},
   "source": [
    "Let us now consider a viscoelastic model of Maxwell type with the Helmholtz free energy defined as\n",
    "$$\n",
    "\\Psi = \\frac{1}{2} (1 - \\omega) E (\\varepsilon - \\varepsilon_\\mathrm{v})^2,\n",
    "$$\n",
    "where $\\varepsilon_\\mathrm{v}$ and $\\omega$  represent the internal variables $\\mathcal{E} = [\\varepsilon_\\mathrm{v}, \\omega]$.\n",
    "The dissipaion rate $\\mathcal{D}$ is given as\n",
    "$$\n",
    "\\mathcal{D} = \n",
    "\\frac{\\partial \\Psi}{\\partial \\mathcal{E}} : \\dot{\\mathcal{E}}\n",
    "=\n",
    "\\frac{\\partial \\Psi}{\\partial \\varepsilon_\\mathrm{v}} : \\dot{\\varepsilon_\\mathrm{v}}\n",
    "+\n",
    "\\frac{\\partial \\Psi}{\\partial \\omega} : \\dot{\\omega}\n",
    "=\n",
    "(1 - \\omega) E (\\varepsilon - \\varepsilon_\\mathrm{v}) \\dot{\\varepsilon_\\mathrm{v}} \n",
    "-\n",
    "\\frac{1}{2} E (\\varepsilon - \\varepsilon_\\mathrm{v})^2 \\dot{\\omega}\n",
    "= \\sigma \\dot{\\varepsilon_\\mathrm{v}}\n",
    "+ Y \\dot{\\omega}.\n",
    "$$"
   ]
  },
  {
   "cell_type": "markdown",
   "metadata": {},
   "source": [
    "In the considered case of Maxwell viscoelasticity, we know that the strain rate at the constant stress level is inversely proportianal to the viscosity modulus $\\eta$, i.e. \n",
    "$$\n",
    "\\dot{\\varepsilon}_\\mathrm{v} = \\frac{\\sigma}{\\eta} \\implies \\sigma = \\eta \\dot{\\varepsilon}_\\mathrm{v}.\n",
    "$$"
   ]
  },
  {
   "cell_type": "markdown",
   "metadata": {},
   "source": [
    "This means that\n",
    "$$\n",
    "\\mathcal{D} = \\eta \\dot{\\varepsilon}_\\mathrm{v}^2.\n",
    "$$  "
   ]
  },
  {
   "cell_type": "markdown",
   "metadata": {},
   "source": [
    "To construct the dissipation potential defining the evolution equations, let us recall that \n",
    "$$\n",
    "\\mathcal{S} = \\frac{\\partial \\Phi}{\\dot{\\mathcal{E}}}.\n",
    "$$\n",
    "Thus, to device the MPDM with a compatible dissipation potential we set \n",
    "$$\n",
    "\\Phi = \\frac{1}{2} \\eta \\dot{\\varepsilon_\\mathrm{v}}^2 + (1 - \\omega)^c \\frac{S}{r+1}\\left(\\frac{Y}{S}\\right)^{r+1}.\n",
    "$$"
   ]
  },
  {
   "cell_type": "code",
   "execution_count": null,
   "metadata": {},
   "outputs": [],
   "source": [
    "%matplotlib widget\n",
    "import sympy as sp\n",
    "import numpy as np\n",
    "from scipy.optimize import minimize\n",
    "import matplotlib.pyplot as plt\n",
    "from bmcs_utils.api import Cymbol\n",
    "sp.init_printing()"
   ]
  },
  {
   "cell_type": "code",
   "execution_count": null,
   "metadata": {},
   "outputs": [],
   "source": [
    "# Define symbols\n",
    "from re import S\n",
    "Pi, Psi, Phi, sig = sp.symbols('Pi Psi Phi sig')\n",
    "t, E, eta = sp.symbols('t E eta')\n",
    "sig, eps, eps_v, omega= sp.symbols('sigma epsilon epsilon_v, omega')\n",
    "eps_v = 0\n",
    "c, r, S = sp.symbols('c r S')\n",
    "dot_eps = Cymbol(r'\\dot{\\varepsilon}', codename='dot_eps')\n",
    "# Define the total strain as the sum of elastic and viscous parts\n",
    "eps_e_ = eps - eps_v\n",
    "dot_eps_v = Cymbol(r'\\dot{\\varepsilon}_\\mathrm{v}', codename='dot_eps_v')\n",
    "# Define Helmholtz free energy Psi\n",
    "Psi_ = sp.Rational(1,2) * (1-omega) * E * eps_e_**2"
   ]
  },
  {
   "cell_type": "code",
   "execution_count": null,
   "metadata": {},
   "outputs": [],
   "source": [
    "#sig_v_ = sp.simplify(sp.diff(Psi_, eps_v))\n",
    "Y_ = -sp.diff(Psi_, omega)\n",
    "Y_"
   ]
  },
  {
   "cell_type": "code",
   "execution_count": null,
   "metadata": {},
   "outputs": [],
   "source": [
    "Y = Cymbol(r'Y', codename='Y')\n",
    "dot_omega = Cymbol(r'\\dot{\\omega}', codename='dot_omega')\n",
    "dot_omega_ = (1 - omega) * (Y / S)\n",
    "dot_omega_eq = sp.Eq(dot_omega, dot_omega_)\n",
    "Y_ = sp.solve(dot_omega_eq, Y)[0]\n",
    "Phi_Y_ = sp.integrate(Y_, (dot_omega, 0, dot_omega))\n",
    "dot_omega_eq, Y_, Phi_Y_"
   ]
  },
  {
   "cell_type": "code",
   "execution_count": null,
   "metadata": {},
   "outputs": [],
   "source": [
    "# Define dissipation potential Phi\n",
    "r = 1\n",
    "#Phi_ = sp.Rational(1,2) * eta * dot_eps_v**2 + (1-omega)**c * S/(r+1) * (Y_/S)**(r+1)\n",
    "# Phi_ = sp.Rational(1,2) * eta * dot_eps_v**2 + Phi_Y_\n",
    "Phi_ = Phi_Y_\n",
    "# Define the stress-strain relationship for the elastic part\n",
    "sig_ = E * eps_e_\n",
    "{Psi: Psi_, Phi: Phi_, sig: sig_}"
   ]
  },
  {
   "cell_type": "markdown",
   "metadata": {},
   "source": [
    "## Time discretization and integration"
   ]
  },
  {
   "cell_type": "code",
   "execution_count": null,
   "metadata": {},
   "outputs": [],
   "source": [
    "dt = Cymbol('\\Delta t', codename='dt')\n",
    "eps_n = Cymbol(r'\\varepsilon^{(n)}', codename='eps_n')\n",
    "dot_eps_n = Cymbol(r'\\dot{\\varepsilon}^{(n)}', codename='dot_eps_n')\n",
    "eps_v_n = Cymbol(r'\\varepsilon_\\mathrm{v}^{(n)}', codename='eps_v_n')\n",
    "dot_eps_v_n = Cymbol(r'\\dot{\\varepsilon}_\\mathrm{v}^{(n)}', codename='dot_eps_v_n')\n",
    "omega_n = Cymbol(r'\\omega^{(n)}', codename='omega_n')\n",
    "dot_omega_n = Cymbol(r'\\dot{\\omega}^{(n)}', codename='dot_omega_n')\n"
   ]
  },
  {
   "cell_type": "markdown",
   "metadata": {},
   "source": [
    "The minimization of the dissipation potential is done for an increment $\\Delta \\Pi$ defined in the time interval $\\Delta t$. This requires an integration over the increment $t \\in (t_n, t_{n+1})$, where $t_{n+1} = t_{n} + \\Delta t$.\n",
    "\n",
    "$$\n",
    "\\Delta \\Pi = \\int_{t_n}^{t_{n+1}} \\dot{\\Psi} \\, \\mathrm{d}t\n",
    "+ \\int_{t_n}^{t_{n+1}} \\dot{\\Phi} \\, \\mathrm{d}t\n",
    "$$\n",
    "\n",
    "$$\n",
    "\\Delta \\Pi = \\Psi(t_{n+1}) - \\Psi(t_n) \n",
    "+ \\int_{t_n}^{t_{n+1}} \\dot{\\Phi} \\, \\mathrm{d}t\n",
    "$$\n",
    "\n",
    "$$\n",
    "\\Delta \\Pi = \\Psi(\\varepsilon_{n+1}, \\mathcal{E}_{n+1}) \n",
    "           - \\Psi(\\varepsilon_{n}, \\mathcal{E}_{n}) \n",
    "+ \\Delta t \\Phi(\\mathcal{E}_n, \\dot{\\mathcal{E}}_n)\n",
    "$$\n"
   ]
  },
  {
   "cell_type": "code",
   "execution_count": null,
   "metadata": {},
   "outputs": [],
   "source": [
    "# Substitute time discretization and integration into the expression for increment of potential energy\n",
    "delta_Pi_ = (Psi_.subs({eps: eps_n + dot_eps_n * dt, eps_v: eps_v_n + dot_eps_v_n * dt, omega: omega_n + dot_omega_n * dt}) \n",
    "           - Psi_.subs({eps: eps_n, eps_v: eps_v_n, omega: omega_n}) \n",
    "           + dt * Phi_.subs({\n",
    "               eps: eps_n + dot_eps_n * dt, eps_v: eps_v_n + dot_eps_v_n * dt, \n",
    "               omega: omega_n, dot_eps_v: dot_eps_v_n,\n",
    "               dot_omega: dot_omega_n}))\n",
    "delta_Pi_"
   ]
  },
  {
   "cell_type": "code",
   "execution_count": null,
   "metadata": {},
   "outputs": [],
   "source": [
    "ddelta_Pi_dEps_ = sp.Matrix([\n",
    "    sp.diff(delta_Pi_, Eps_i) for Eps_i in (dot_eps_v_n, dot_omega_n)])\n",
    "ddelta_Pi_dEps_ = sp.Matrix([\n",
    "    sp.diff(delta_Pi_, Eps_i) for Eps_i in (dot_omega_n,)])\n",
    "# Lambdify the expressions\n",
    "get_delta_Pi = sp.lambdify((eps_n, dot_eps_n, omega_n, dot_omega_n, dt, E, eta, c, S), \n",
    "                           delta_Pi_, 'numpy', cse=True)\n",
    "get_ddelta_Pi_dEps = sp.lambdify((eps_n, dot_eps_n, omega_n, dot_omega_n, dt, E, eta, c, S), \n",
    "                                       ddelta_Pi_dEps_, 'numpy', cse=True)\n",
    "delta_Pi_, ddelta_Pi_dEps_"
   ]
  },
  {
   "cell_type": "code",
   "execution_count": null,
   "metadata": {},
   "outputs": [],
   "source": [
    "fig, ax = plt.subplots(1,1)\n",
    "dot_omega_range = np.linspace(-50, 50, 200)\n",
    "ax.plot(dot_omega_range, get_delta_Pi(0.01, 0, 0.5, dot_omega_range, 0.01, 30000, 3000, 1, 0.1), color='green', label='Pi_t_dt')\n",
    "# ax.plot(eps_v_range, get_ddelta_Pi_ddot_eps_v(0.1, 0, 0, eps_v_range, 0.01, 30000, 0.1), color='orange', label='dPi_t_dt_ddot_eps_v')\n",
    "# ax.plot(eps_v_range, get_delta_D(0.1, 0, 0, eps_v_range, 0.01, 30000, 3000), color='blue', label='D_')\n",
    "ax.legend() "
   ]
  },
  {
   "cell_type": "code",
   "execution_count": null,
   "metadata": {},
   "outputs": [],
   "source": [
    "# Time integrator for viscoelasticity\n",
    "def time_integrator(eps_t, d_t, E, eta, c, S):\n",
    "    d_eps_t = np.diff(eps_t, axis=0)\n",
    "    d_t_t = d_t * np.ones_like(d_eps_t)\n",
    "    dot_eps_t = d_eps_t / d_t_t\n",
    "\n",
    "    n_steps = len(eps_t)\n",
    "    eps_v_t = np.zeros(n_steps)\n",
    "    omega_t = np.zeros(n_steps)\n",
    "    sig_t = np.zeros(n_steps)\n",
    "    dot_eps_v_next = 0\n",
    "    dot_omega_next = 0\n",
    "\n",
    "    for i, d_t in enumerate(d_t_t):\n",
    "        \n",
    "        def objective(x):\n",
    "            dot_omega, = x\n",
    "#            Pi_val = get_delta_Pi(eps_t[i], dot_eps_t[i], eps_v_t[i], dot_eps_v, omega_t[i], dot_omega, d_t, E, eta, c, S)\n",
    "            Pi_val = get_delta_Pi(eps_t[i], dot_eps_t[i], omega_t[i], dot_omega, d_t, E, eta, c, S)\n",
    "            return Pi_val\n",
    "        \n",
    "        def gradient(x):\n",
    "            dot_omega, = x\n",
    "#            return np.array([get_ddelta_Pi_dEps(eps_t[i], dot_eps_t[i], eps_v_t[i], dot_eps_v, omega_t[i], dot_omega, d_t, E, eta, c, S)])\n",
    "            return np.array([get_ddelta_Pi_dEps(eps_t[i], dot_eps_t[i], omega_t[i], dot_omega, d_t, E, eta, c, S)])\n",
    "        \n",
    "        res = minimize(objective, [dot_omega_next],\n",
    "                       jac=gradient,\n",
    "                       bounds=[ (0, None)], \n",
    "                       method='L-BFGS-B')\n",
    "        \n",
    "        dot_omega_next, = res.x\n",
    "        eps_v_t[i+1] = eps_v_t[i] + dot_eps_v_next * dt\n",
    "        omega_t[i+1] = omega_t[i] + dot_omega_next * dt\n",
    "        sig_t[i+1] = (1 - omega_t[i+1]) * E * (eps_t[i+1] - eps_v_t[i+1])\n",
    "    \n",
    "    return eps_t, eps_v_t, omega_t, sig_t"
   ]
  },
  {
   "cell_type": "code",
   "execution_count": null,
   "metadata": {},
   "outputs": [],
   "source": [
    "# Example usage\n",
    "E_val = 210e3  # Young's modulus in MPa\n",
    "eta_val = 10e+2  # Viscosity modulus in Pa / s\n",
    "S_val = 0.000000001  # Damage rate\n",
    "c_val = 2  # Damage rate exponent\n",
    "dt = 0.01  # Time step in seconds\n",
    "final_time = 10  # Final time in seconds\n",
    "\n",
    "# Generate cyclic sinusoidal loading history\n",
    "time = np.arange(0, final_time, dt)\n",
    "eps_t_2_cycles = 0.01 * np.sin(2 * np.pi * 1 * time / final_time)  # 2 cycles\n",
    "eps_t_4_cycles = 0.01 * np.sin(2 * np.pi * 4 * time / final_time)  # 4 cycles\n",
    "\n",
    "# Compute responses for both loading histories\n",
    "eps_t_2, eps_v_t_2, omega_t_2, sig_t_2 = time_integrator(eps_t_2_cycles, dt, E_val, eta_val, c_val, S_val)\n",
    "eps_t_4, eps_v_t_4, omega_t_4, sig_t_4 = time_integrator(eps_t_4_cycles, dt, E_val, eta_val, c_val, S_val)\n",
    "eps_e_t_2 = eps_t_2 - eps_v_t_2\n",
    "eps_e_t_4 = eps_t_4 - eps_v_t_4"
   ]
  },
  {
   "cell_type": "code",
   "execution_count": null,
   "metadata": {},
   "outputs": [],
   "source": [
    "# Plot results\n",
    "plt.figure(figsize=(8, 12))\n",
    "\n",
    "plt.subplot(4, 1, 1)\n",
    "plt.plot(time, eps_t_2_cycles, label='Total Strain (2 cycles)')\n",
    "plt.plot(time, eps_e_t_2, label='Elastic Strain (2 cycles)')\n",
    "plt.plot(time, eps_v_t_2, label='Viscous Strain (2 cycles)')\n",
    "ax = plt.twinx()\n",
    "ax.plot(time, omega_t_2, color='red', ls='dashed', label='Damage')\n",
    "plt.xlabel('Time [s]')\n",
    "plt.ylabel('Strain')\n",
    "plt.legend()\n",
    "plt.title('Strain Components for 2 Cycles')\n",
    "\n",
    "plt.subplot(4, 1, 2)\n",
    "plt.plot(time, eps_t_4_cycles, label='Total Strain (4 cycles)')\n",
    "plt.plot(time, eps_e_t_4, label='Elastic Strain (4 cycles)')\n",
    "plt.plot(time, eps_v_t_4, label='Viscous Strain (4 cycles)')\n",
    "plt.xlabel('Time [s]')\n",
    "plt.ylabel('Strain')\n",
    "plt.legend()\n",
    "plt.title('Strain Components for 4 Cycles')\n",
    "\n",
    "plt.subplot(4, 1, 3)\n",
    "plt.plot(time, sig_t_2, label='Stress (2 cycles)')\n",
    "plt.plot(time, sig_t_4, label='Stress (4 cycles)')\n",
    "plt.xlabel('Time [s]')\n",
    "plt.ylabel('Stress [Pa]')\n",
    "plt.legend()\n",
    "plt.title('Stress Response for Different Loading Rates')\n",
    "\n",
    "plt.subplot(4, 1, 4)\n",
    "plt.plot(eps_t_2_cycles, sig_t_2, label='Stress-strain (2 cycles)')\n",
    "plt.plot(eps_t_4_cycles, sig_t_4, label='Stress-Strain (4 cycles)')\n",
    "plt.xlabel('Strain [-]')\n",
    "plt.ylabel('Stress [Pa]')\n",
    "plt.legend()\n",
    "plt.title('Stress Response for Different Loading Rates')\n",
    "\n",
    "plt.tight_layout()\n",
    "plt.show()"
   ]
  },
  {
   "cell_type": "code",
   "execution_count": null,
   "metadata": {},
   "outputs": [],
   "source": [
    "# Let's visualize the stress versus strain curves from the previous example using matplotlib\n",
    "plt.figure(figsize=(8, 6)) # Create a new figure\n",
    "plt.plot(eps_t_2, sig_t_2, label='Stress-strain (2 cycles)') # Plot the stress-strain curve for 2 cycles\n",
    "plt.plot(eps_t_4, sig_t_4, label='Stress-strain (4 cycles)') # Plot the stress-strain curve for 4 cycles \n",
    "plt.xlabel('Strain [-]') # Set the x-axis label\n",
    "plt.ylabel('Stress [Pa]') # Set the y-axis label\n",
    "plt.legend() # Show the legend\n",
    "plt.title('Stress-strain response for different loading rates') # Set the title\n",
    "plt.show() # Show the plot\n"
   ]
  },
  {
   "cell_type": "code",
   "execution_count": null,
   "metadata": {},
   "outputs": [],
   "source": []
  }
 ],
 "metadata": {
  "kernelspec": {
   "display_name": "bmcs_env2",
   "language": "python",
   "name": "python3"
  },
  "language_info": {
   "codemirror_mode": {
    "name": "ipython",
    "version": 3
   },
   "file_extension": ".py",
   "mimetype": "text/x-python",
   "name": "python",
   "nbconvert_exporter": "python",
   "pygments_lexer": "ipython3"
  }
 },
 "nbformat": 4,
 "nbformat_minor": 2
}
