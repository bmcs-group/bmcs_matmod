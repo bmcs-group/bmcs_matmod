{
 "cells": [
  {
   "cell_type": "code",
   "execution_count": null,
   "metadata": {},
   "outputs": [],
   "source": [
    "\n",
    "import sympy as sp\n",
    "import re\n",
    "sp.init_printing\n",
    "\n",
    "class Cymbol(sp.Symbol):\n",
    "    '''Add a codename attribute to the sympy symbol to\n",
    "    enable\n",
    "    1) latex names with upper index or lower index\n",
    "    2) transformation of symbol arrays to function attributes\n",
    "    (e.g. state variable arrays passed as dictionaries to\n",
    "     the corrector-predictor functions)\n",
    "    3) generate lambdified function that can be inspected using\n",
    "    import inspect\n",
    "    inspect.getsource(lambdified_function)\n",
    "    '''\n",
    "    def __new__(cls, name, codename=None, **assumptions):\n",
    "        obj = super().__new__(cls, name, **assumptions)\n",
    "        obj.codename = codename or name\n",
    "        return obj\n",
    "\n",
    "    @property\n",
    "    def T(self):\n",
    "        \"\"\"Pass through the transpose operator to allow also scalar variables in places \n",
    "        where vectors or matrices are expected\"\"\"\n",
    "        return self\n",
    "\n",
    "    def __getstate__(self):\n",
    "        \"\"\"Return state for pickling, including custom attributes.\"\"\"\n",
    "        # Use a tuple or dict that captures only non-standard data\n",
    "        return self.codename\n",
    "\n",
    "    def __setstate__(self, state):\n",
    "        \"\"\"Restore state from pickling.\"\"\"\n",
    "        # Set the codename directly from state\n",
    "        self.codename = state\n",
    "\n",
    "def _print_Symbol(self, expr):\n",
    "    CodePrinter = sp.printing.codeprinter.CodePrinter\n",
    "    if hasattr(expr, 'codename'):\n",
    "        name = expr.codename\n",
    "    else:\n",
    "        name = super(CodePrinter, self)._print_Symbol(expr)\n",
    "    return re.sub(r'[\\\\\\{\\}]', '', name)\n",
    "\n",
    "sp.printing.codeprinter.CodePrinter._print_Symbol = _print_Symbol\n",
    "\n",
    "from sympy.utilities.codegen import codegen\n",
    "\n",
    "def ccode(cfun_name, sp_expr, cfile):\n",
    "    '''Generate c function cfun_name for expr and directive name cfile\n",
    "    '''\n",
    "    return codegen((cfun_name, sp_expr), 'C89', cfile + '_' + cfun_name)\n",
    "\n",
    "def cymbols(names, codenames=None, **kwargs):\n",
    "    \"\"\"\n",
    "    Convenience function to create multiple Cymbol instances.\n",
    "\n",
    "    Parameters\n",
    "    ----------\n",
    "    names : str\n",
    "        Whitespace or comma separated list of variable names to be rendered using LaTeX.\n",
    "    codenames : str, optional\n",
    "        Whitespace or comma separated list of code names to be passed to the Cymbol constructor.\n",
    "        If not provided, the names will be used as code names.\n",
    "\n",
    "    Returns\n",
    "    -------\n",
    "    tuple\n",
    "        Tuple of Cymbol instances.\n",
    "    \"\"\"\n",
    "    var_list = [var.strip() for var in names.replace(',', ' ').split()]\n",
    "    if codenames:\n",
    "        code_list = [code.strip() for code in codenames.replace(',', ' ').split()]\n",
    "    else:\n",
    "        code_list = var_list\n",
    "    return tuple(Cymbol(var, codename=code, **kwargs) for var, code in zip(var_list, code_list))\n"
   ]
  },
  {
   "cell_type": "code",
   "execution_count": null,
   "metadata": {},
   "outputs": [],
   "source": [
    "a, b, c = cymbols(r'\\alpha \\beta \\gamma', codenames='a b c')\n",
    "eta = Cymbol(r'\\eta_\\mathrm{v}', codename='eta')"
   ]
  },
  {
   "cell_type": "code",
   "execution_count": null,
   "metadata": {},
   "outputs": [],
   "source": [
    "abc_expr = a * b** - c * eta"
   ]
  },
  {
   "cell_type": "code",
   "execution_count": null,
   "metadata": {},
   "outputs": [],
   "source": [
    "fn_expr = sp.lambdify((a, b, c, eta), abc_expr, 'numpy')"
   ]
  },
  {
   "cell_type": "code",
   "execution_count": null,
   "metadata": {},
   "outputs": [],
   "source": [
    "mparams = (8, 4)\n",
    "fn_expr(5,4,*(5, 8))\n",
    "\n"
   ]
  },
  {
   "cell_type": "code",
   "execution_count": null,
   "metadata": {},
   "outputs": [],
   "source": []
  }
 ],
 "metadata": {
  "kernelspec": {
   "display_name": "bmcs_env2",
   "language": "python",
   "name": "python3"
  },
  "language_info": {
   "codemirror_mode": {
    "name": "ipython",
    "version": 3
   },
   "file_extension": ".py",
   "mimetype": "text/x-python",
   "name": "python",
   "nbconvert_exporter": "python",
   "pygments_lexer": "ipython3"
  }
 },
 "nbformat": 4,
 "nbformat_minor": 2
}
