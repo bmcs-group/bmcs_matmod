{
 "cells": [
  {
   "cell_type": "markdown",
   "metadata": {},
   "source": [
    "# Variational approach to continuum thermodynamics"
   ]
  },
  {
   "cell_type": "markdown",
   "metadata": {},
   "source": [
    "Gradient-driven minimization of the total energy potential which includes Maxwell viscoelasticity "
   ]
  },
  {
   "cell_type": "code",
   "execution_count": null,
   "metadata": {},
   "outputs": [],
   "source": [
    "%matplotlib widget"
   ]
  },
  {
   "cell_type": "code",
   "execution_count": null,
   "metadata": {},
   "outputs": [],
   "source": [
    "import sympy as sp\n",
    "import numpy as np\n",
    "from scipy.optimize import minimize\n",
    "import matplotlib.pyplot as plt\n",
    "from bmcs_utils.api import Cymbol\n",
    "sp.init_printing()"
   ]
  },
  {
   "cell_type": "code",
   "execution_count": null,
   "metadata": {},
   "outputs": [],
   "source": [
    "# Let's now introduce the state variables of the viscoplastic model with isotropic hardening\n",
    "# Define the state variables\n",
    "eps = Cymbol(r'\\varepsilon', codename='varepsilon')\n",
    "eps_vp = Cymbol(r'\\varepsilon_\\mathrm{vp}', codename='varepsilon_vp')\n",
    "z = Cymbol(r'z', codename='z') # is the isotropic hardening variable\n",
    "# Define the material parameters\n",
    "E = Cymbol('E', codename='E') # is the stiffness\n",
    "K = Cymbol('K', codename='K') # is the bulk modulus\n",
    "# The corresponding Helmholtz free energy then reads\n",
    "Psi_vp_ = sp.Rational(1,2) * E * (eps - eps_vp)**2 + sp.Rational(1,2) * K * z**2\n",
    "Psi_vp_"
   ]
  },
  {
   "cell_type": "code",
   "execution_count": null,
   "metadata": {},
   "outputs": [],
   "source": [
    "# Let's define the conjugate stresses by differentiating the Helmholtz free energy with respect to the strain\n",
    "sig_vp_ = -sp.diff(Psi_vp_, eps_vp)\n",
    "Z_ = sp.diff(Psi_vp_, z)\n",
    "sig_vp_, Z_"
   ]
  },
  {
   "cell_type": "code",
   "execution_count": null,
   "metadata": {},
   "outputs": [],
   "source": [
    "# Let's now construct a dissipation potential for viscoplasticity based on the Perzyna model. \n",
    "# The Perzyna model is a simple viscoplastic model that is based on the concept of a yield surface.\n",
    "# The yield surface is defined by a yield function, which is a function of the stress tensor and the hardening variable.\n",
    "# It expresses the ratio between the value oof the yield function and the current strength of the material, multiplied by the fluidity parameter.\n",
    "# The fluidity parameter is a material property that describes the rate at which the material flows under stress.\n",
    "# Let's now define the symbols for material parameters, namely the yield stress, the hardening modulus, and the fluidity parameter.\n",
    "sigma_y, theta = sp.symbols('sigma_y theta')\n",
    "# Let us also define their rates as the time derivatives of the state variables.\n",
    "dot_eps_vp = Cymbol(r'\\dot{\\varepsilon}_{vp}', codename='dot_eps_vp')\n",
    "dot_z = Cymbol(r'\\dot{z}', codename='dot_z')\n",
    "# Considering just a scalar stress variable, let's now define the yield function, which is the stress minus the yield stress enhanced by the current value of hardening.\n",
    "f_ = sp.simplify(sp.sqrt(sig_vp_**2) - (sigma_y + Z_))\n",
    "f_"
   ]
  },
  {
   "cell_type": "code",
   "execution_count": null,
   "metadata": {},
   "outputs": [],
   "source": [
    "# Now let's define an overstress of the viscoplastic model as the difference between the stress and the yield stress.\n",
    "sig_over_ = sp.simplify(f_) #  / (sigma_y + Z_))\n",
    "sig_over_"
   ]
  },
  {
   "cell_type": "code",
   "execution_count": null,
   "metadata": {},
   "outputs": [],
   "source": [
    "# To construct the dissipation potential, we need to define the viscoplastic strain rate as the time derivative of the viscoplastic strain and of the hardening variable.\n",
    "dt = Cymbol('\\Delta t', codename='dt')\n",
    "dot_eps_vp = Cymbol(r'\\dot{\\varepsilon}_\\mathrm{vp}', codename='dot_eps_vp')\n",
    "dot_z = Cymbol(r'\\dot{z}', codename='dot_z')\n",
    "# The dissipation potential is obtained by substituting the incremental representation of the viscoplastic strain and the hardening variable into the yield function.\n",
    "eps_vp_1_ = eps_vp + dot_eps_vp * dt\n",
    "z_1_ = z + dot_z * dt\n",
    "sig_over_1_ = sig_over_.subs({eps_vp: eps_vp_1_, z: z_1_})\n",
    "# The value of overstress in the trial state is multiplied with the fluidity parameter.\n",
    "Phi_vp_ = theta * sp.Rational(1,2) * sp.Piecewise((sig_over_1_**2, f_ > 0), (0, True))\n",
    "# However, this should be only positive, so we need to take the positive part of the expression.\n",
    "Phi_vp_"
   ]
  },
  {
   "cell_type": "code",
   "execution_count": null,
   "metadata": {},
   "outputs": [],
   "source": [
    "Pi_vp_ = Psi_vp_ + Phi_vp_\n",
    "dPi_ddot_Eps_ = sp.Matrix([sp.diff(Pi_vp_, dot_eps_vp), sp.diff(Pi_vp_, dot_z)])\n",
    "dPi_ddot_Eps_"
   ]
  },
  {
   "cell_type": "code",
   "execution_count": null,
   "metadata": {},
   "outputs": [],
   "source": [
    "# Lambdify the functions\n",
    "get_Pi_ = sp.lambdify((eps, eps_vp, z, dot_eps_vp, dot_z, dt, E, theta, sigma_y, K), Pi_vp_, 'numpy')\n",
    "\n",
    "# Lambdify the derivatives\n",
    "get_dPi_ddot_Eps_ = sp.lambdify((eps, eps_vp, z, dot_eps_vp, dot_z, dt, E, theta, sigma_y, K), dPi_ddot_Eps_, 'numpy')"
   ]
  },
  {
   "cell_type": "code",
   "execution_count": null,
   "metadata": {},
   "outputs": [],
   "source": [
    "get_Pi_(0.1, 0, 0, 0, 0, 0.01, 30000, 1000, 100, 1000)"
   ]
  },
  {
   "cell_type": "code",
   "execution_count": null,
   "metadata": {},
   "outputs": [],
   "source": [
    "# Time integrator for viscoelasticity\n",
    "def time_integrator_vp(eps_t, E, theta, dt, sigma_y, K):\n",
    "    n_steps = len(eps_t)\n",
    "    eps_vp_t = np.zeros(n_steps)\n",
    "    z_t = np.zeros(n_steps)\n",
    "    sig_t = np.zeros(n_steps)\n",
    "    dot_eps_vp_next = 0\n",
    "    dot_z_next = 0\n",
    "    for i in range(1, n_steps):\n",
    "        eps_vp_prev = eps_vp_t[i-1]\n",
    "        z_prev = z_t[i-1]\n",
    "        \n",
    "        def objective(x):\n",
    "            dot_eps_vp, dot_z = x\n",
    "            Pi_val = get_Pi_(eps_t[i], eps_vp_prev, z_prev, dot_eps_vp, dot_z, dt, E, theta, sigma_y, K)\n",
    "            return Pi_val\n",
    "        \n",
    "        def gradient(x):\n",
    "            dot_eps_vp, dot_z = x\n",
    "            return np.array([get_dPi_ddot_Eps_(eps_t[i], eps_vp_prev, z_prev, dot_eps_vp, dot_z, dt, E, theta, sigma_y, K)])\n",
    "\n",
    "        # res = minimize(objective, [dot_eps_vp_next, dot_z_next])\n",
    "\n",
    "        res = minimize(objective, [dot_eps_vp_next, dot_z_next],\n",
    "                       jac=gradient,\n",
    "                       bounds=[(None, None),(0, None)], \n",
    "                       method='L-BFGS-B')\n",
    "        \n",
    "        dot_eps_vp_next, dot_z_next = res.x\n",
    "        eps_vp_t[i] = eps_vp_prev + dot_eps_vp_next * dt\n",
    "        z_t[i] = z_prev + dot_z_next * dt\n",
    "        sig_t[i] = E * (eps_t[i] - eps_vp_t[i])\n",
    "    \n",
    "    return eps_t, eps_vp_t, sig_t, z_t"
   ]
  },
  {
   "cell_type": "code",
   "execution_count": null,
   "metadata": {},
   "outputs": [],
   "source": [
    "# Example usage\n",
    "E_val = 210e9  # Young's modulus in Pa\n",
    "theta_val = 1e5  # Viscosity in Pa.s\n",
    "K_val = 10e9  # Bulk modulus in Pa\n",
    "sigma_y_val = 100e6  # Yield stress in Pa\n",
    "dt = 0.01  # Time step in seconds\n",
    "final_time = 10  # Final time in seconds\n",
    "# Let's generate a cyclic sinusoidal loading history\n",
    "time = np.arange(0, final_time, dt)\n",
    "eps_t_2_cycles = 0.01 * np.sin(2 * np.pi * 2 * time / final_time)  # 2 cycles\n",
    "eps_t_4_cycles = 0.01 * np.sin(2 * np.pi * 4 * time / final_time)  # 4 cycles\n",
    "# Compute responses for both loading histories\n",
    "eps_t_2, eps_vp_t_2, sig_t_2, z_t_2 = time_integrator_vp(eps_t_2_cycles, E_val, theta_val, dt, sigma_y_val, K_val)\n",
    "eps_t_4, eps_vp_t_4, sig_t_4, z_t_4 = time_integrator_vp(eps_t_4_cycles, E_val, theta_val, dt, sigma_y_val, K_val)\n",
    "# Elastic part\n",
    "eps_e_t_2 = eps_t_2 - eps_vp_t_2\n",
    "eps_e_t_4 = eps_t_4 - eps_vp_t_4\n",
    "# Plot results\n",
    "plt.figure(figsize=(8, 12))\n",
    "plt.subplot(4, 1, 1)\n",
    "plt.plot(time, eps_t_2_cycles, label='Total Strain (2 cycles)')\n",
    "plt.plot(time, eps_e_t_2, label='Elastic Strain (2 cycles)')\n",
    "plt.plot(time, eps_vp_t_2, label='Viscoplastic Strain (2 cycles)')\n",
    "plt.plot(time, eps_e_t_2 + eps_vp_t_2, color='red', label='Sum e-vp (2 cycles)')\n",
    "plt.plot(time, z_t_2, color='magenta', label='hardening variable')\n",
    "plt.xlabel('Time [s]')\n",
    "plt.ylabel('Strain')\n",
    "plt.legend()\n",
    "plt.title('Strain Components for 2 Cycles')\n",
    "plt.subplot(4, 1, 2)\n",
    "plt.plot(time, eps_t_4_cycles, label='Total Strain (4 cycles)')\n",
    "plt.plot(time, eps_e_t_4, label='Elastic Strain (4 cycles)')\n",
    "plt.plot(time, eps_vp_t_4, label='Viscoplastic Strain (4 cycles)')\n",
    "plt.xlabel('Time [s]')\n",
    "plt.ylabel('Strain')\n",
    "plt.legend()\n",
    "plt.title('Strain Components for 4 Cycles')\n",
    "plt.subplot(4, 1, 3)\n",
    "plt.plot(time, sig_t_2, label='Stress (2 cycles)')\n",
    "plt.plot(time, sig_t_4, label='Stress (4 cycles)')\n",
    "plt.xlabel('Time [s]')\n",
    "plt.ylabel('Stress [Pa]')\n",
    "plt.legend()\n",
    "plt.title('Stress Response for Different Loading Rates')\n",
    "plt.subplot(4, 1, 4)\n",
    "plt.plot(eps_t_2_cycles, sig_t_2, label='Stress-strain (2 cycles)')\n",
    "plt.plot(eps_t_4_cycles, sig_t_4, label='Stress-Strain (4 cycles)')\n",
    "plt.xlabel('Strain [-]')\n",
    "plt.ylabel('Stress [Pa]')\n",
    "plt.legend()\n",
    "plt.title('Stress Response for Different Loading Rates')\n",
    "plt.tight_layout()\n",
    "plt.show()"
   ]
  },
  {
   "cell_type": "code",
   "execution_count": null,
   "metadata": {},
   "outputs": [],
   "source": []
  }
 ],
 "metadata": {
  "kernelspec": {
   "display_name": "bmcs_env2",
   "language": "python",
   "name": "python3"
  },
  "language_info": {
   "codemirror_mode": {
    "name": "ipython",
    "version": 3
   },
   "file_extension": ".py",
   "mimetype": "text/x-python",
   "name": "python",
   "nbconvert_exporter": "python",
   "pygments_lexer": "ipython3"
  }
 },
 "nbformat": 4,
 "nbformat_minor": 2
}
