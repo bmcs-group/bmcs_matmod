{
 "cells": [
  {
   "cell_type": "markdown",
   "metadata": {},
   "source": [
    "# Legendre transformation and Gibbs energy\n",
    "\n",
    "In order to enable fatigue load scenarios, this notebook shows how to transform a model derived based on the Helmholtz free energy to the Gibbs free energy "
   ]
  },
  {
   "cell_type": "markdown",
   "metadata": {},
   "source": [
    "Given the Helmholtz free energy controlled by strain/displacement $u$ and temperature $\\vartheta$\n",
    "$$\n",
    "F = \\hat{F}(u, \\vartheta; \\mathcal{E})\n",
    "$$\n",
    "we seek the complementary form of the state representaiton that can is expressed using the stress level $\\sigma$ instead of the strain $u$   \n",
    "$$\n",
    "G = \\hat{G}(\\sigma, \\vartheta; \\mathcal{E})\n",
    "$$\n",
    "The Legendre transform exploits the fact that \n",
    "$$\n",
    "\\hat{F}(u, \\vartheta; \\mathcal{E})\n",
    " + \\hat{G}(\\sigma, \\vartheta; \\mathcal{E}) = \\sigma u. \n",
    "$$"
   ]
  },
  {
   "cell_type": "markdown",
   "metadata": {},
   "source": [
    "The generic derivation below exploits the fact that stress level definition as the rate of change of $F$ due to change of strain is obtained as the gradient\n",
    "$$\n",
    "\\sigma = \\partial_u F = \\Sigma(u) \n",
    "$$\n",
    "which can be symbolically inverted to obtain\n",
    "$$\n",
    "u = \\Sigma^{-1}(\\sigma).\n",
    "$$"
   ]
  },
  {
   "cell_type": "markdown",
   "metadata": {},
   "source": [
    "Thus the substitution into the Legendre transform renders\n",
    "$$\n",
    "\\hat{G}(\\sigma, \\vartheta; \\mathcal{E}) = \\sigma \\Sigma^{-1}(\\sigma) - \\hat{F}(\\Sigma^{-1}(\\sigma), \\vartheta; \\mathcal{E})\n",
    "$$"
   ]
  },
  {
   "cell_type": "markdown",
   "metadata": {},
   "source": [
    "In the framework below, two instances of the `GSM` class are constructed. The first is based on Helmholtz energy and the second on the Gibbs energy. The dissipative potential and internal variables are the same. The only difference is the swapped meaning of the variables `u` and `sig`. In case of Gibbs based GSM, input variable `u` means stress and output variable `sig` means strain. This shall be better formalized in future implementation of the API."
   ]
  },
  {
   "cell_type": "code",
   "execution_count": null,
   "metadata": {},
   "outputs": [],
   "source": [
    "%matplotlib widget\n",
    "from bmcs_matmod import GSM\n",
    "import matplotlib.pylab as plt \n",
    "import sympy as sp\n",
    "import numpy as np\n",
    "from bmcs_matmod.gsm.potentials import Potential1D_T_E_VP_D_SymbExpr\n",
    "sp.init_printing()"
   ]
  },
  {
   "cell_type": "markdown",
   "metadata": {},
   "source": [
    "## Gibbs free energy"
   ]
  },
  {
   "cell_type": "code",
   "execution_count": null,
   "metadata": {},
   "outputs": [],
   "source": [
    "p1d = Potential1D_T_E_VP_D_SymbExpr()\n",
    "eps_a = p1d.eps_a\n",
    "sig_a = p1d.sig_a\n",
    "dF_du = p1d.F_.diff(eps_a)\n",
    "# dF_du = dF_du.xreplace({h: 0 for h in dF_du.atoms(sp.DiracDelta)})\n",
    "# dF_du = dF_du.xreplace({h: 1 for h in dF_du.atoms(sp.Heaviside)})\n",
    "u_sig_ = sp.Matrix([ sp.solve(sp.Eq(sig_i, dF_du_i), u_i)[0] for sig_i, u_i, dF_du_i in \n",
    "                            zip(sig_a, eps_a, dF_du)])\n",
    "subs_u_sig_ = dict(zip(eps_a, u_sig_))\n",
    "subs_u_sig_"
   ]
  },
  {
   "cell_type": "code",
   "execution_count": null,
   "metadata": {},
   "outputs": [],
   "source": [
    "sig_x_u_ = (sig_a.T * eps_a)[0]\n",
    "G_expr = sig_x_u_ - p1d.F_\n",
    "G_ = sp.simplify(G_expr.subs(subs_u_sig_))\n",
    "G_"
   ]
  },
  {
   "cell_type": "code",
   "execution_count": null,
   "metadata": {},
   "outputs": [],
   "source": [
    "gsm_F = GSM(\n",
    "    u_vars = p1d.eps_a,\n",
    "    sig_vars = p1d.sig_a,\n",
    "    T_var = p1d.T,\n",
    "    m_params = p1d.mparams,\n",
    "    Eps_vars = p1d.Eps_vars,\n",
    "    Sig_vars = p1d.Sig_vars,\n",
    "    Sig_signs = (-1, 1, 1, -1),\n",
    "    F_expr = p1d.F_,\n",
    "    f_expr = p1d.f_,\n",
    "    phi_ext_expr = p1d.phi_ext_,\n",
    "    t_relax = p1d.t_relax_\n",
    ")\n",
    "\n",
    "gsm_G = GSM(\n",
    "    u_vars = p1d.sig_a,\n",
    "    sig_vars = p1d.eps_a,\n",
    "    T_var = p1d.T,\n",
    "    m_params = p1d.mparams,\n",
    "    Eps_vars = p1d.Eps_vars,\n",
    "    Sig_vars = p1d.Sig_vars,\n",
    "    Sig_signs = (1, -1, -1, 1),\n",
    "    F_expr = G_,\n",
    "    dF_sign = -1,\n",
    "    f_expr = p1d.f_,\n",
    "    phi_ext_expr = p1d.phi_ext_,\n",
    "    t_relax = p1d.t_relax_\n",
    ")"
   ]
  },
  {
   "cell_type": "code",
   "execution_count": null,
   "metadata": {},
   "outputs": [],
   "source": [
    "gsm_G.Eps_vars, gsm_F.Eps_vars"
   ]
  },
  {
   "cell_type": "code",
   "execution_count": null,
   "metadata": {},
   "outputs": [],
   "source": [
    "gsm_F.F_expr"
   ]
  },
  {
   "cell_type": "code",
   "execution_count": null,
   "metadata": {},
   "outputs": [],
   "source": [
    "gsm_F.phi_"
   ]
  },
  {
   "cell_type": "code",
   "execution_count": null,
   "metadata": {},
   "outputs": [],
   "source": [
    "gsm_G.F_expr"
   ]
  },
  {
   "cell_type": "code",
   "execution_count": null,
   "metadata": {},
   "outputs": [],
   "source": [
    "sp.simplify(gsm_F.dF_dEps_), sp.simplify(gsm_G.dF_dEps_)"
   ]
  },
  {
   "cell_type": "code",
   "execution_count": null,
   "metadata": {},
   "outputs": [],
   "source": [
    "gsm_F.Sig_vars, gsm_F.Sig_, sp.simplify(gsm_G.Sig_)"
   ]
  },
  {
   "cell_type": "code",
   "execution_count": null,
   "metadata": {},
   "outputs": [],
   "source": [
    "sp.simplify(gsm_F.df_dSig_), sp.simplify(gsm_G.df_dSig_)"
   ]
  },
  {
   "cell_type": "code",
   "execution_count": null,
   "metadata": {},
   "outputs": [],
   "source": [
    "sp.simplify(gsm_F.Phi_), sp.simplify(gsm_G.Phi_)"
   ]
  },
  {
   "cell_type": "code",
   "execution_count": null,
   "metadata": {},
   "outputs": [],
   "source": [
    "sp.simplify(gsm_F.df_dEps_), sp.simplify(gsm_G.df_dEps_)"
   ]
  },
  {
   "cell_type": "code",
   "execution_count": null,
   "metadata": {},
   "outputs": [],
   "source": [
    "gsm_G.phi_, sp.simplify(gsm_G.Phi_)"
   ]
  },
  {
   "cell_type": "code",
   "execution_count": null,
   "metadata": {},
   "outputs": [],
   "source": [
    "gsm_F.dSig_dEps_, sp.simplify(gsm_G.dSig_dEps_)"
   ]
  },
  {
   "cell_type": "markdown",
   "metadata": {},
   "source": [
    "## Monotonic loading"
   ]
  },
  {
   "cell_type": "code",
   "execution_count": null,
   "metadata": {},
   "outputs": [],
   "source": [
    "sig_ = gsm_F.F_expr.diff(gsm_F.u_vars)\n",
    "sig_"
   ]
  },
  {
   "cell_type": "code",
   "execution_count": null,
   "metadata": {},
   "outputs": [],
   "source": [
    "_f_c = 44\n",
    "_f_t = -0.1 * _f_c\n",
    "_X_0 = (_f_c + _f_t) / 2\n",
    "_f_s = (_f_c - _f_t) / 2\n",
    "_E = 50000\n",
    "_KH_factor = 4\n",
    "_KH = _E * _KH_factor\n",
    "_K_ratio = 0.01 # 0.015\n",
    "_K = _KH * _K_ratio\n",
    "_H = _KH * (1 - _K_ratio)\n",
    "material_params = dict(\n",
    "    E_=_E, \n",
    "    gamma_lin_= _H, # _E * 10, \n",
    "    gamma_exp_= 0.1, # _E * 10, \n",
    "    alpha_0_= 10, # _E * 10, \n",
    "    K_lin_= _K, # _E / 5,\n",
    "    k_exp_= 0.1,\n",
    "    z_0_=10,\n",
    "    S_=0.008,\n",
    "    c_=2.5,\n",
    "    r_=2.7,\n",
    "    f_c_=_f_s,\n",
    "    X_0_=_X_0,  \n",
    "    eta_=500,\n",
    "    T_0_=20,\n",
    "    C_v_=0.01, # 0.0001, \n",
    "    beta_=0.0001,\n",
    "    alpha_therm_=0, # 1.2e-5,\n",
    "    d_N_ = 1\n",
    ")"
   ]
  },
  {
   "cell_type": "code",
   "execution_count": null,
   "metadata": {},
   "outputs": [],
   "source": [
    "def gsm_run(gsm_, u_ta, T_t, t_t, **material_params):\n",
    "    response = gsm_.get_response(u_ta, T_t, t_t, **material_params)\n",
    "    _t_t, _u_tIa, _T_t, _Eps_tIb, _Sig_tIb, _iter_t, _dF_dEps_t, lam_t = response\n",
    "    _u_atI, _Eps_btI, _Sig_btI, _dF_dEps_btI = [np.moveaxis(v_, -1, 0) for v_ in (_u_tIa, _Eps_tIb, _Sig_tIb, _dF_dEps_t)]\n",
    "    _sig_atI = gsm_.get_sig(_u_atI, _T_t, _Eps_btI, _Sig_btI, **material_params )\n",
    "    return _t_t, _u_atI, _sig_atI, _T_t, _Eps_btI, _Sig_btI, _dF_dEps_btI, lam_t \n",
    "\n",
    "gsm_F.vp_on = True\n",
    "gsm_F.update_at_k = False\n",
    "gsm_G.vp_on = True\n",
    "gsm_G.update_at_k = False"
   ]
  },
  {
   "cell_type": "code",
   "execution_count": null,
   "metadata": {},
   "outputs": [],
   "source": [
    "# params\n",
    "n_t = 151\n",
    "n_I = 1\n",
    "u_T_max = 0.005\n",
    "t_t = np.linspace(0, 1, n_t)\n",
    "u_ta_F = (u_T_max * t_t).reshape(-1, 1)\n",
    "T_t = 20 + t_t * 0\n",
    "_t_t_F, _u_atI_F, _sig_atI_F, _T_t_F, _Eps_btI_F, _Sig_btI_F, _dF_dEps_btI_F, lam_t = gsm_run(gsm_F, u_ta_F, T_t, t_t, **material_params)\n",
    "_max_sig = np.max(_sig_atI_F)\n",
    "_max_sig\n",
    "_arg_t_F = _t_t_F[np.argmax(_sig_atI_F)]\n",
    "_t_F_scale = _arg_t_F * _t_t_F[-1]\n",
    "_t_F_scale"
   ]
  },
  {
   "cell_type": "code",
   "execution_count": null,
   "metadata": {},
   "outputs": [],
   "source": [
    "# params\n",
    "t_t = np.linspace(0, 1, n_t)\n",
    "u_ta_G = (_max_sig * t_t).reshape(-1, 1)\n",
    "T_t = 20 + t_t * 0\n",
    "_t_t_G, _u_atI_G, _sig_atI_G, _T_t_G, _Eps_btI_G, _Sig_btI_G, _dF_dEps_btI_G, lam_t = gsm_run(gsm_G, u_ta_G, T_t, t_t, **material_params)\n",
    "_u_p_atI, _z_atI, _alpha_atI, _omega_atI = gsm_G.Eps_as_blocks(_Eps_btI_F)\n",
    "_, _Z_atI, _X_atI, _Y_atI = gsm_G.Eps_as_blocks(_Sig_btI_F)\n"
   ]
  },
  {
   "cell_type": "code",
   "execution_count": null,
   "metadata": {},
   "outputs": [],
   "source": []
  },
  {
   "cell_type": "code",
   "execution_count": null,
   "metadata": {},
   "outputs": [],
   "source": [
    "from scipy.integrate import cumtrapz\n",
    "fig, ((ax, ax_T, ax_Diss), (ax_omega, ax_3, ax_4)) = plt.subplots(2,3, figsize=(12,6), tight_layout=True)\n",
    "ax.plot(_u_atI_F[0, :, 0], _sig_atI_F[0, :, 0], label='Helmholtz');\n",
    "ax.plot(_sig_atI_G[0, :, 0], _u_atI_G[0, :, 0], label='Gibbs');\n",
    "# ax_T.plot(_t_t_F, _T_t_F);\n",
    "# ax_T.plot(_t_t_G * _t_F_scale, _T_t_G);\n",
    "ax.legend()\n",
    "ax.set_title(r'stress-strain')\n",
    "ax.set_ylabel(r'$\\varsigma$')\n",
    "ax.set_xlabel(r'$\\varepsilon$')\n",
    "\n",
    "ax_T.plot(_u_atI_F[0, :, 0], _T_t_F, label='Helmholtz');\n",
    "ax_T.plot(_sig_atI_G[0, :, 0], _T_t_G, label='Gibbs');\n",
    "ax_T.legend()\n",
    "ax_T.set_title(r'temperature')\n",
    "ax_T.set_ylabel(r'$\\vartheta$')\n",
    "ax_T.set_xlabel(r'$\\varepsilon$')\n",
    "\n",
    "Diss_btI_F = cumtrapz(_dF_dEps_btI_F, _Eps_btI_F, initial=0, axis=1)\n",
    "ax_Diss.plot(_t_t_F, np.sum(Diss_btI_F[...,0], axis=0), alpha=1, label='F')\n",
    "Diss_btI_G = cumtrapz(_dF_dEps_btI_G, _Eps_btI_G, initial=0, axis=1)\n",
    "ax_Diss.plot(_t_t_G * _t_F_scale, np.sum(Diss_btI_G[...,0], axis=0), alpha=1, label='G')\n",
    "\n",
    "ax_omega.plot(_u_atI_F[0, :, 0], _omega_atI[0, :, 0])\n",
    "ax_omega.set_xlabel(r'$\\varepsilon$/-')\n",
    "ax_omega.set_ylabel(r'$\\omega$/-')\n"
   ]
  },
  {
   "cell_type": "markdown",
   "metadata": {},
   "source": [
    "## Fatigue loading "
   ]
  },
  {
   "cell_type": "code",
   "execution_count": null,
   "metadata": {},
   "outputs": [],
   "source": [
    "\n",
    "def generate_cyclic_load(max_s, min_s, freq, total_cycles, points_per_cycle):\n",
    "    # Calculate the time for one cycle\n",
    "    total_time = total_cycles / freq\n",
    "\n",
    "    # Calculate the mean value and amplitude\n",
    "    mean_value = (max_s + min_s) / 2\n",
    "    amplitude = (max_s - min_s) / 2\n",
    "\n",
    "    # Calculate the initial loading slope\n",
    "    slope = 2 * np.pi * freq * amplitude\n",
    "    \n",
    "    # Time arrays for linear increase and sinusoidal part\n",
    "    initial_duration = mean_value / slope\n",
    "    initial_points = int(initial_duration * freq * points_per_cycle)\n",
    "    total_points = int(total_time * freq * points_per_cycle)\n",
    "    \n",
    "    # Generate the initial linear increase\n",
    "    initial_t = np.linspace(0, initial_duration, initial_points, endpoint=False)\n",
    "    initial_loading = slope * initial_t\n",
    "\n",
    "    # Generate the sinusoidal loading\n",
    "    sinusoidal_t = np.linspace(0, total_time, total_points, endpoint=False)\n",
    "    sinusoidal_loading = mean_value + amplitude * np.sin(2 * np.pi * freq * sinusoidal_t)\n",
    "\n",
    "    # Combine the initial linear increase with the sinusoidal loading\n",
    "    t_full = np.concatenate((initial_t, sinusoidal_t + initial_duration))\n",
    "    s_full = np.concatenate((initial_loading, sinusoidal_loading))\n",
    "    \n",
    "    return t_full, s_full"
   ]
  },
  {
   "cell_type": "code",
   "execution_count": null,
   "metadata": {},
   "outputs": [],
   "source": [
    "def arg_max_min(data):\n",
    "    # Find local maxima and minima\n",
    "    maxima_indexes = (np.diff(np.sign(np.diff(data))) < 0).nonzero()[0] + 1\n",
    "    minima_indexes = (np.diff(np.sign(np.diff(data))) > 0).nonzero()[0] + 1\n",
    "    return maxima_indexes, minima_indexes"
   ]
  },
  {
   "cell_type": "code",
   "execution_count": null,
   "metadata": {},
   "outputs": [],
   "source": [
    "s_1 = sp.Symbol('s_1')\n",
    "t_1 = sp.Symbol('t_1')\n",
    "t = sp.Symbol('t')\n",
    "fn_s_t = sp.Piecewise((t * s_1/t_1, t < t_1),(s_1, True))\n",
    "get_step_loading = sp.lambdify((t, s_1, t_1), fn_s_t)"
   ]
  },
  {
   "cell_type": "code",
   "execution_count": null,
   "metadata": {},
   "outputs": [],
   "source": [
    "fig, (ax, ax_N) = plt.subplots(2,1, figsize=(8,6))\n",
    "#t_t, s_t = generate_cyclic_load(max_s=0.66, min_s=0.1, freq=5, total_cycles=10, points_per_cycle=20)\n",
    "t_t, s_t = generate_cyclic_load(1, 0.1, 0.01, 10, 30)\n",
    "ax.plot(t_t, s_t, '-o')\n",
    "arg_max, arg_min = arg_max_min(s_t)\n",
    "ax.plot(t_t[arg_max], s_t[arg_max], 'o', color='red')\n",
    "ax.plot(t_t[arg_min], s_t[arg_min], 'o', color='orange')\n",
    "ax_N.plot(s_t[arg_max], 'o-')\n",
    "ax_N.plot(s_t[arg_min], 'o-')\n",
    "\n",
    "u_t_fat = get_step_loading(t_t, s_1=1, t_1=50)\n",
    "ax.plot(t_t, u_t_fat)\n"
   ]
  },
  {
   "cell_type": "markdown",
   "metadata": {},
   "source": [
    "## Step loading"
   ]
  },
  {
   "cell_type": "markdown",
   "metadata": {},
   "source": []
  },
  {
   "cell_type": "code",
   "execution_count": null,
   "metadata": {},
   "outputs": [],
   "source": [
    "s_1 = sp.Symbol('s_1')\n",
    "t_1 = sp.Symbol('t_1')\n",
    "t = sp.Symbol('t')\n",
    "fn_s_t = sp.Piecewise((t * s_1/t_1, t < t_1),(s_1, True))\n",
    "get_step_loading = sp.lambdify((t, s_1, t_1), fn_s_t)"
   ]
  },
  {
   "cell_type": "code",
   "execution_count": null,
   "metadata": {},
   "outputs": [],
   "source": [
    "def sig_p_T_0_lambdified(gsm_):\n",
    "    sig_p_T_solved_ = sp.solve((gsm_.f_), p1d.sig_p)\n",
    "    return sp.lambdify((gsm_.T_var, \n",
    "                                gsm_.Eps.as_explicit(), \n",
    "                                gsm_.Sig.as_explicit()) + gsm_.m_params + ('**kw',), \n",
    "                            sig_p_T_solved_, cse=True)\n",
    "get_sig_p_T_0 = sig_p_T_0_lambdified(gsm_G)"
   ]
  },
  {
   "cell_type": "markdown",
   "metadata": {},
   "source": [
    "## Cyclic temperature load"
   ]
  },
  {
   "cell_type": "code",
   "execution_count": null,
   "metadata": {},
   "outputs": [],
   "source": [
    "import copy\n",
    "\n",
    "mp = copy.copy(material_params)\n",
    "mp['eta_T_'] = 0.00008\n",
    "mp['S_T_'] = 0.01\n",
    "mp['beta_'] = 0.1\n",
    "mp['alpha_therm_'] = 1.2e-5\n",
    "\n",
    "_delta_T = 20\n",
    "S_max = 0.85\n",
    "print('S_max', S_max)\n",
    "# params\n",
    "t_T_t, s_T_t = generate_cyclic_load(1, 0, 1, 2, 500)\n",
    "t_S_t = np.linspace(0, 1, 10)\n",
    "s_S_t = get_step_loading(t_S_t, s_1=1, t_1=0.5)\n",
    "\n",
    "t_t = np.concatenate((t_S_t, t_S_t[-1] + t_T_t))\n",
    "T_t = np.concatenate((np.zeros_like(t_S_t), s_T_t * _delta_T)) + 20\n",
    "u_ta_fat = np.concatenate((s_S_t, np.ones_like(t_T_t) )).reshape(-1, 1) * _max_sig * S_max\n",
    "\n",
    "response = gsm_run(gsm_G, u_ta_fat, T_t, t_t, **mp)\n",
    "\n",
    "_t_fat_t, _u_fat_atI, _sig_fat_atI, _T_fat_t, _Eps_fat_btI, _Sig_fat_btI, _dF_dEps_fat_btI, lam_t = response\n",
    "_sig_atI_top, _sig_atI_bot = get_sig_p_T_0(_T_fat_t, _Eps_fat_btI, _Sig_fat_btI, **mp)\n",
    "_u_p_atI, _z_atI, _alpha_atI, _omega_atI = gsm_G.Eps_as_blocks(_Eps_fat_btI)\n",
    "_, _Z_atI, _X_atI, _Y_atI = gsm_G.Eps_as_blocks(_Sig_fat_btI)\n",
    "Diss_fat_btI = cumtrapz(_dF_dEps_fat_btI, _Eps_fat_btI, initial=0, axis=1)\n",
    "Diss_plastic_fat_t = np.sum(Diss_fat_btI[:-1, :, 0], axis=0)\n",
    "Diss_damage_fat_t = Diss_fat_btI[-1, :, 0]"
   ]
  },
  {
   "cell_type": "code",
   "execution_count": null,
   "metadata": {},
   "outputs": [],
   "source": [
    "from scipy.integrate import cumtrapz\n",
    "fig, ((ax, ax_el, ax_T), (ax_omega, ax_u, ax_diss)) = plt.subplots(2, 3, figsize=(12,6), tight_layout=True)\n",
    "ax.plot(_u_atI_F[0, :, 0], _sig_atI_F[0, :, 0], label='Helmholtz');\n",
    "ax.plot(_sig_atI_G[0, :, 0], _u_atI_G[0, :, 0], label='Gibbs');\n",
    "ax.plot(_sig_fat_atI[0, :, 0], _u_fat_atI[0, :, 0], label='Fatigue');\n",
    "ax.legend()\n",
    "ax.set_title(r'stress-strain')\n",
    "ax.set_ylabel(r'$\\varsigma$/MPa')\n",
    "ax.set_xlabel(r'$\\varepsilon$/-')\n",
    "\n",
    "ax_T.plot(_t_fat_t, _T_fat_t);\n",
    "ax_T.set_title(r'temperature')\n",
    "ax_T.set_ylabel(r'$\\vartheta$/$^\\circ$C')\n",
    "ax_T.set_xlabel(r'$t$/s')\n",
    "\n",
    "c = 'blue'\n",
    "alpha_line = 0.7\n",
    "ax_el.plot(_t_fat_t, _sig_atI_top[:, 0], lw=0.5, color=c, alpha=alpha_line)\n",
    "ax_el.plot(_t_fat_t, _sig_atI_bot[:, 0], lw=0.5, color=c, alpha=alpha_line)\n",
    "ax_el.plot(_t_fat_t, _u_fat_atI[0, :, 0], color=c, lw=2)\n",
    "ax_el.plot(_t_fat_t, mp['X_0_'] + _X_atI[0, :, 0], color=c, ls='dashed', lw=1)\n",
    "ax_el.fill_between(_t_fat_t, _sig_atI_bot[:, 0], _sig_atI_top[:, 0], color=c, alpha=0.1)\n",
    "ax_el.set_title(r'elastic domain')\n",
    "ax_el.set_ylabel(r'$\\sigma/MPa$')\n",
    "ax_el.set_xlabel(r'$t/s$')\n",
    "\n",
    "\n",
    "Diss_btI_F = cumtrapz(_dF_dEps_btI_F, _Eps_btI_F, initial=0, axis=1)\n",
    "ax_Diss.plot(_t_t_F, np.sum(Diss_btI_F[...,0], axis=0), alpha=1, label='F')\n",
    "Diss_btI_G = cumtrapz(_dF_dEps_btI_G, _Eps_btI_G, initial=0, axis=1)\n",
    "ax_Diss.plot(_t_t_G * _t_F_scale, np.sum(Diss_btI_G[...,0], axis=0), alpha=1, label='G')\n",
    "\n",
    "top_data = Diss_damage_fat_t\n",
    "ax_diss.fill_between(_t_fat_t, top_data, np.zeros_like(top_data), color='gray', alpha=0.2)\n",
    "top_data = Diss_damage_fat_t + Diss_plastic_fat_t\n",
    "bot_data = Diss_damage_fat_t\n",
    "ax_diss.fill_between(_t_fat_t, top_data, bot_data, color='firebrick', alpha=0.2)\n",
    "ax_diss.set_title(r'disspation')\n",
    "ax_diss.set_ylabel(r'$\\mathcal{D}$/$J\\mathrm{}\\cdot \\mathrm{mm}^{-2}$')\n",
    "ax_diss.set_xlabel(r'$t$/s')\n",
    "\n",
    "ax_u.plot(_t_fat_t, _sig_fat_atI[0, :, 0], '-', lw=1, color=c, label=r'$\\varepsilon$')\n",
    "ax_u.plot(_t_fat_t, _u_p_atI[0, :, 0], '-', lw=1, color='magenta',label=r'$\\varepsilon_\\mathrm{p}$')\n",
    "ax_u.set_title(r'strain')\n",
    "ax_u.set_ylabel(r'$\\varepsilon/-$')\n",
    "ax_u.set_xlabel(r'$t/s$')\n",
    "ax_u.legend()\n",
    "\n",
    "ax_omega.plot(_t_fat_t, _omega_atI[0, :, 0])\n",
    "ax_omega.set_title(r'damage')\n",
    "ax_omega.set_xlabel(r'$\\varepsilon$/-')\n",
    "ax_omega.set_ylabel(r'$\\omega$/-')"
   ]
  },
  {
   "cell_type": "code",
   "execution_count": null,
   "metadata": {},
   "outputs": [],
   "source": [
    "gsm_F.F_expr, gsm_G.f_"
   ]
  },
  {
   "cell_type": "code",
   "execution_count": null,
   "metadata": {},
   "outputs": [],
   "source": [
    "import copy\n",
    "\n",
    "mp = copy.copy(material_params)\n",
    "mp['eta_T_'] = 0.00008\n",
    "mp['beta_'] = 0.1\n",
    "mp['alpha_therm_'] = 1.2e-5\n",
    "mp['d_N'] = 300\n",
    "\n",
    "_delta_T = 20\n",
    "S_max = 0.85\n",
    "print('S_max', S_max)\n",
    "# params\n",
    "t_T_t, s_T_t = generate_cyclic_load(1, 0, 1, 2, 100)\n",
    "t_S_t = np.linspace(0, 1, 50)\n",
    "s_S_t = get_step_loading(t_S_t, s_1=1, t_1=0.5)\n",
    "\n",
    "t_t = np.concatenate((t_S_t, t_S_t[-1] + t_T_t))\n",
    "T_t = np.concatenate((np.zeros_like(t_S_t), s_T_t * _delta_T)) + 20\n",
    "u_ta_fat = np.concatenate((s_S_t, np.ones_like(t_T_t) )).reshape(-1, 1) * 0.002\n",
    "\n",
    "response = gsm_run(gsm_F, u_ta_fat, T_t, t_t, **mp)\n",
    "\n",
    "_t_fat_t, _u_fat_atI, _sig_fat_atI, _T_fat_t, _Eps_fat_btI, _Sig_fat_btI, _dF_dEps_fat_btI, lam_t = response\n",
    "_sig_atI_top, _sig_atI_bot = get_sig_p_T_0(_T_fat_t, _Eps_fat_btI, _Sig_fat_btI, **mp)\n",
    "_u_p_atI, _z_atI, _alpha_atI, _omega_atI = gsm_F.Eps_as_blocks(_Eps_fat_btI)\n",
    "_, _Z_atI, _X_atI, _Y_atI = gsm_F.Eps_as_blocks(_Sig_fat_btI)\n",
    "Diss_fat_btI = cumtrapz(_dF_dEps_fat_btI, _Eps_fat_btI, initial=0, axis=1)\n",
    "Diss_plastic_fat_t = np.sum(Diss_fat_btI[:-1, :, 0], axis=0)\n",
    "Diss_damage_fat_t = Diss_fat_btI[-1, :, 0]"
   ]
  },
  {
   "cell_type": "code",
   "execution_count": null,
   "metadata": {},
   "outputs": [],
   "source": [
    "from scipy.integrate import cumtrapz\n",
    "fig, ((ax, ax_el, ax_T), (ax_omega, ax_u, ax_diss)) = plt.subplots(2, 3, figsize=(12,6), tight_layout=True)\n",
    "ax.plot(_u_atI_F[0, :, 0], _sig_atI_F[0, :, 0], label='Helmholtz');\n",
    "ax.plot(_sig_atI_G[0, :, 0], _u_atI_G[0, :, 0], label='Gibbs');\n",
    "ax.plot(_u_fat_atI[0, :, 0], _sig_fat_atI[0, :, 0], label='Fatigue');\n",
    "ax.legend()\n",
    "ax.set_title(r'stress-strain')\n",
    "ax.set_ylabel(r'$\\varsigma$/MPa')\n",
    "ax.set_xlabel(r'$\\varepsilon$/-')\n",
    "\n",
    "ax_T.plot(_t_fat_t, _T_fat_t);\n",
    "ax_T.set_title(r'temperature')\n",
    "ax_T.set_ylabel(r'$\\vartheta$/$^\\circ$C')\n",
    "ax_T.set_xlabel(r'$t$/s')\n",
    "\n",
    "c = 'blue'\n",
    "alpha_line = 0.7\n",
    "ax_el.plot(_t_fat_t, _sig_atI_top[:, 0], color=c, lw=0.5, alpha=alpha_line)\n",
    "ax_el.plot(_t_fat_t, _sig_atI_bot[:, 0], color=c, lw=0.5, alpha=alpha_line)\n",
    "ax_el.plot(_t_fat_t, _sig_fat_atI[0, :, 0], color=c, lw=2)\n",
    "#ax_el.plot(_t_fat_t, mp['X_0_'] + _X_atI[0, :, 0], color=c, ls='dashed', lw=1)\n",
    "ax_el.fill_between(_t_fat_t, _sig_atI_bot[:, 0], _sig_atI_top[:, 0], color=c, alpha=0.1)\n",
    "ax_el.set_title(r'elastic domain')\n",
    "ax_el.set_ylabel(r'$\\sigma/MPa$')\n",
    "ax_el.set_xlabel(r'$t/s$')\n",
    "\n",
    "\n",
    "Diss_btI_F = cumtrapz(_dF_dEps_btI_F, _Eps_btI_F, initial=0, axis=1)\n",
    "ax_Diss.plot(_t_t_F, np.sum(Diss_btI_F[...,0], axis=0), alpha=1, label='F')\n",
    "Diss_btI_G = cumtrapz(_dF_dEps_btI_G, _Eps_btI_G, initial=0, axis=1)\n",
    "ax_Diss.plot(_t_t_G * _t_F_scale, np.sum(Diss_btI_G[...,0], axis=0), alpha=1, label='G')\n",
    "\n",
    "top_data = Diss_damage_fat_t\n",
    "ax_diss.fill_between(_t_fat_t, top_data, np.zeros_like(top_data), color='gray', alpha=0.2)\n",
    "top_data = Diss_damage_fat_t + Diss_plastic_fat_t\n",
    "bot_data = Diss_damage_fat_t\n",
    "ax_diss.fill_between(_t_fat_t, top_data, bot_data, color='firebrick', alpha=0.2)\n",
    "ax_diss.set_title(r'disspation')\n",
    "ax_diss.set_ylabel(r'$\\mathcal{D}$/$J\\mathrm{}\\cdot \\mathrm{mm}^{-2}$')\n",
    "ax_diss.set_xlabel(r'$t$/s')\n",
    "\n",
    "ax_u.plot(_t_fat_t, _u_fat_atI[0, :, 0], '-', lw=1, color=c, label=r'$\\varepsilon$')\n",
    "ax_u.plot(_t_fat_t, _u_p_atI[0, :, 0], '-', lw=1, color='magenta',label=r'$\\varepsilon_\\mathrm{p}$')\n",
    "ax_u.set_title(r'strain')\n",
    "ax_u.set_ylabel(r'$\\varepsilon/-$')\n",
    "ax_u.set_xlabel(r'$t/s$')\n",
    "ax_u.legend()\n",
    "\n",
    "ax_omega.plot(_t_fat_t, _omega_atI[0, :, 0])\n",
    "ax_omega.set_title(r'damage')\n",
    "ax_omega.set_xlabel(r'$\\varepsilon$/-')\n",
    "ax_omega.set_ylabel(r'$\\omega$/-')"
   ]
  },
  {
   "cell_type": "code",
   "execution_count": null,
   "metadata": {},
   "outputs": [],
   "source": []
  },
  {
   "cell_type": "code",
   "execution_count": null,
   "metadata": {},
   "outputs": [],
   "source": []
  }
 ],
 "metadata": {
  "kernelspec": {
   "display_name": "bmcs_env2",
   "language": "python",
   "name": "python3"
  },
  "language_info": {
   "codemirror_mode": {
    "name": "ipython",
    "version": 3
   },
   "file_extension": ".py",
   "mimetype": "text/x-python",
   "name": "python",
   "nbconvert_exporter": "python",
   "pygments_lexer": "ipython3"
  }
 },
 "nbformat": 4,
 "nbformat_minor": 2
}
