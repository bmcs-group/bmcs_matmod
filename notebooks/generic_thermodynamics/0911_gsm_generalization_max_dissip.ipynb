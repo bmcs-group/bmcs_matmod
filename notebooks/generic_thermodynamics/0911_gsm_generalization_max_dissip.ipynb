{
 "cells": [
  {
   "cell_type": "markdown",
   "metadata": {},
   "source": [
    "# Derivation of maximum-dissipation based GSM\n"
   ]
  },
  {
   "cell_type": "code",
   "execution_count": null,
   "metadata": {},
   "outputs": [],
   "source": [
    "%matplotlib widget\n",
    "import matplotlib.pylab as plt\n",
    "import sympy as sp\n",
    "import numpy as np\n",
    "sp.init_printing()\n",
    "from bmcs_utils.api import Cymbol, cymbols"
   ]
  },
  {
   "cell_type": "markdown",
   "metadata": {},
   "source": [
    "## R_g - Generic Lagrangian augmented with consistency "
   ]
  },
  {
   "cell_type": "markdown",
   "metadata": {},
   "source": [
    "### Helmholtz potential and its rate"
   ]
  },
  {
   "cell_type": "code",
   "execution_count": null,
   "metadata": {},
   "outputs": [],
   "source": [
    "class R_g:\n",
    "    # time\n",
    "    t = Cymbol(r't', codename='t')\n",
    "    # state variables\n",
    "    eps = sp.Function(r'\\varepsilon', codename='eps')(t)\n",
    "    Eps = sp.Function(r'\\boldsymbol{\\mathcal{E}}', codename='Eps')(t)\n",
    "    # time derivatives\n",
    "    dot_eps_ = eps.diff(t)\n",
    "    dot_Eps_ = Eps.diff(t)\n",
    "\n",
    "    Sig = sp.Function(r'\\boldsymbol{\\mathcal{S}}', codename='Sig')(eps, Eps)\n",
    "    dot_Sig_ = Sig.diff(t)\n",
    "\n",
    "    # Helmholtz free energy\n",
    "    psi_ = sp.Function('psi')(eps, Eps)\n",
    "\n",
    "    # dissipation potential\n",
    "    pi_mech = sp.Function(r'{\\pi_\\mathrm{mech}}')(Eps, dot_Eps_)\n",
    "\n",
    "    # threshold function for elastic domain\n",
    "    f_ = sp.Function(r'{f}')(Eps, Sig)\n",
    "\n",
    "    # # flow potential\n",
    "    g_ = sp.Function(r'{g}')(Eps, Sig)\n",
    "\n",
    "    dot_psi_ = psi_.diff(t)\n",
    "\n",
    "    # mechanical dissipation\n",
    "    gamma_mech_ = -psi_.diff(Eps) * dot_Eps_ # - pi_mech\n",
    "\n",
    "    # expressions for thermodynamic forces as gradient of the Helmholtz free energy\n",
    "    Sig_ = psi_.diff(Eps)\n",
    "\n",
    "    # Lagrangian and its gradient\n",
    "    dot_lam = Cymbol(r'\\dot{\\lambda}', codename='dot_lambda')\n",
    "    L_ = -gamma_mech_ + dot_lam * g_\n",
    "    dL_dEps_ = L_.diff(Eps)\n",
    "\n",
    "    # flow potential and its rate\n",
    "    dot_f_ = f_.diff(t)\n",
    "\n",
    "    R_ = sp.Matrix([dL_dEps_, dot_f_])\n",
    "\n"
   ]
  },
  {
   "cell_type": "code",
   "execution_count": null,
   "metadata": {},
   "outputs": [],
   "source": [
    "R_g.pi_mech"
   ]
  },
  {
   "cell_type": "markdown",
   "metadata": {},
   "source": [
    "Helmholtz free energy and its rate"
   ]
  },
  {
   "cell_type": "code",
   "execution_count": null,
   "metadata": {},
   "outputs": [],
   "source": [
    "R_g.psi_, R_g.dot_psi_"
   ]
  },
  {
   "cell_type": "markdown",
   "metadata": {},
   "source": [
    "Mechanical dissipation as a negative rate of change of the Helmholtz free energy with respect to the rate of internal variables"
   ]
  },
  {
   "cell_type": "code",
   "execution_count": null,
   "metadata": {},
   "outputs": [],
   "source": [
    "R_g.gamma_mech_"
   ]
  },
  {
   "cell_type": "markdown",
   "metadata": {},
   "source": [
    "Thermodynamic foces and their rates as symbols"
   ]
  },
  {
   "cell_type": "code",
   "execution_count": null,
   "metadata": {},
   "outputs": [],
   "source": [
    "R_g.Sig, R_g.dot_Sig_"
   ]
  },
  {
   "cell_type": "markdown",
   "metadata": {},
   "source": [
    "Dissipation function is the negative Helmholtz rate"
   ]
  },
  {
   "cell_type": "markdown",
   "metadata": {},
   "source": [
    "Threshold function defined in terms of $\\mathcal{S}(\\varepsilon, \\mathcal{E})$ "
   ]
  },
  {
   "cell_type": "code",
   "execution_count": null,
   "metadata": {},
   "outputs": [],
   "source": [
    "R_g.f_"
   ]
  },
  {
   "cell_type": "markdown",
   "metadata": {},
   "source": [
    "### Lagrangian and its gradient"
   ]
  },
  {
   "cell_type": "code",
   "execution_count": null,
   "metadata": {},
   "outputs": [],
   "source": [
    "R_g.L_"
   ]
  },
  {
   "cell_type": "code",
   "execution_count": null,
   "metadata": {},
   "outputs": [],
   "source": [
    "R_g.dL_dEps_"
   ]
  },
  {
   "cell_type": "markdown",
   "metadata": {},
   "source": [
    "### Consistency criterion - zero rate of flow potential"
   ]
  },
  {
   "cell_type": "code",
   "execution_count": null,
   "metadata": {},
   "outputs": [],
   "source": [
    "R_g.dot_f_"
   ]
  },
  {
   "cell_type": "markdown",
   "metadata": {},
   "source": [
    "### Residuum function $\\mathcal{R}$"
   ]
  },
  {
   "cell_type": "code",
   "execution_count": null,
   "metadata": {},
   "outputs": [],
   "source": [
    "R_g.R_"
   ]
  },
  {
   "cell_type": "code",
   "execution_count": null,
   "metadata": {},
   "outputs": [],
   "source": [
    "sp.simplify(sp.solve(R_g.R_, [R_g.dot_Eps_, R_g.dot_lam]))[R_g.dot_Eps_]"
   ]
  },
  {
   "cell_type": "code",
   "execution_count": null,
   "metadata": {},
   "outputs": [],
   "source": [
    "sp.solve(R_g.R_[0], R_g.dot_Eps_)[0]"
   ]
  },
  {
   "cell_type": "markdown",
   "metadata": {},
   "source": [
    "## R_ig - General incremental Lagrangian"
   ]
  },
  {
   "cell_type": "code",
   "execution_count": null,
   "metadata": {},
   "outputs": [],
   "source": [
    "class R_ig:\n",
    "\n",
    "    # time\n",
    "    delta_t = Cymbol(r'\\Delta t', codename='delta_t')\n",
    "    dot_lam = Cymbol(r'\\dot{\\lambda}', codename='dot_lam')\n",
    "    \n",
    "    # fundamental state\n",
    "    Eps_n = Cymbol(r'\\boldsymbol{\\mathcal{E}}_n', codename='Eps_n')\n",
    "    eps_n = Cymbol(r'\\varepsilon_n', codename='eps_n')\n",
    "\n",
    "    # increment\n",
    "    delta_Eps_n = Cymbol(r'\\Delta{\\boldsymbol{\\mathcal{E}}}_n', codename='delta_Eps_n')\n",
    "    delta_eps_n = Cymbol(r'\\Delta{\\varepsilon}_n', codename='delta_eps_n')\n",
    "    delta_lam_n = Cymbol(r'\\Delta{\\lambda}_n', codename='delta_lam_n')\n",
    "\n",
    "    # updated state\n",
    "    Eps_n1 = Eps_n + delta_Eps_n\n",
    "    eps_n1 = eps_n + delta_eps_n\n",
    "\n",
    "    # rate of change\n",
    "    dot_Eps_n = delta_Eps_n / delta_t\n",
    "    dot_eps_n = delta_eps_n / delta_t\n",
    "    dot_lam_n = delta_lam_n / delta_t\n",
    "\n",
    "    # derive substitutions\n",
    "    dot_Eps = R_g.Eps.diff(R_g.t)\n",
    "    dot_eps = R_g.eps.diff(R_g.t)\n",
    "    dot_lam = dot_lam\n",
    "\n",
    "    # substitute the time derivatives\n",
    "    subs_dot_Eps = {dot_Eps: dot_Eps_n}\n",
    "    subs_dot_eps = {dot_eps: dot_eps_n}\n",
    "    subs_dot_lam = {dot_lam: dot_lam_n}\n",
    "    subs_Eps = {R_g.Eps: Eps_n1}\n",
    "    subs_eps = {R_g.eps: eps_n1}\n",
    "    subs_n1 = {**subs_dot_Eps, **subs_dot_eps, **subs_dot_lam, **subs_Eps, **subs_eps}\n",
    "\n",
    "    # residuum vector in n+1 step\n",
    "    R_n1 = R_g.R_.subs(subs_n1)\n",
    "\n",
    "    # construct the jacobian of the residuum\n",
    "    delta_A_ig_ = sp.Matrix([delta_Eps_n, delta_lam_n])\n",
    "    dR_dA_n1 = R_n1.jacobian(delta_A_ig_)\n",
    "\n",
    "R_ig.subs_n1"
   ]
  },
  {
   "cell_type": "code",
   "execution_count": null,
   "metadata": {},
   "outputs": [],
   "source": [
    "R_ig.R_n1"
   ]
  },
  {
   "cell_type": "code",
   "execution_count": null,
   "metadata": {},
   "outputs": [],
   "source": [
    "sp.cse(R_ig.R_n1)"
   ]
  },
  {
   "cell_type": "markdown",
   "metadata": {},
   "source": [
    "### Construct the Jacobian"
   ]
  },
  {
   "cell_type": "code",
   "execution_count": null,
   "metadata": {},
   "outputs": [],
   "source": [
    "R_ig.delta_A_ig_"
   ]
  },
  {
   "cell_type": "code",
   "execution_count": null,
   "metadata": {},
   "outputs": [],
   "source": [
    "R_ig.dR_dA_n1"
   ]
  },
  {
   "cell_type": "code",
   "execution_count": null,
   "metadata": {},
   "outputs": [],
   "source": [
    "dR_dA_ig_cse_ = sp.cse(R_ig.dR_dA_n1, optimizations='basic')\n",
    "dR_dA_ig_cse_[0]"
   ]
  },
  {
   "cell_type": "code",
   "execution_count": null,
   "metadata": {},
   "outputs": [],
   "source": [
    "dR_dA_ig_cse_[1][0]"
   ]
  },
  {
   "cell_type": "markdown",
   "metadata": {},
   "source": [
    "## R_g[.] - Parameterized residuum derivation"
   ]
  },
  {
   "cell_type": "markdown",
   "metadata": {},
   "source": [
    "$$\n",
    "\\mathcal{L}(\\varepsilon, \\boldsymbol{\\mathcal{E}},\n",
    "\\dot{\\boldsymbol{\\mathcal{E}}}) = \n",
    "- \\gamma_\\mathrm{mech}(\\varepsilon, \\boldsymbol{\\mathcal{E}}, \n",
    "\\dot{\\boldsymbol{\\mathcal{E}}})\n",
    "+\n",
    "\\dot{\\lambda} g(\\boldsymbol{\\mathcal{E}}, \\boldsymbol{\\mathcal{S}}) \n",
    "$$"
   ]
  },
  {
   "cell_type": "markdown",
   "metadata": {},
   "source": [
    "Noting that the lagrangian combines not only the values of the internal variables but also their rates\n",
    "the structure of the solver takes a slightly different form compared to the standard constrained \n",
    "optimization problem which is fully defined by introducing the Kuhn-Tucker conditions and constructing \n",
    "the Lagrangian. Since the unknowns in our optimization problem are not the internal variables but their rates, the Kuhn-Tucker conditions are not sufficient to solve the problem. Instead, we need to introduce the\n",
    "rate of the Lagrange multiplier as an additional unknown. The rate of the Lagrange multiplier is\n",
    "determined by employing the consistency condition ensuring that the rate of the Lagrange multiplier\n",
    "is such that the constraint is implicitly satisfied. In other words, the rate of the Lagrange multiplier\n",
    "is determined by the requirement that the constraint is satisfied at the rate level. This is the key\n",
    "difference between the standard constrained optimization problem and the problem of the rate-based\n",
    "formulation of the constitutive model."
   ]
  },
  {
   "cell_type": "markdown",
   "metadata": {},
   "source": [
    "The generic residuum that we are going to derive \n",
    "from the three potentials $\\psi$, $f$, and $g$ will have the form:\n",
    "\n",
    "\\begin{align}\n",
    "\\mathcal{R}_{\\mathrm{g}} = \\left[\n",
    "\\begin{array}{c}\n",
    "\\nabla_{\\!\\boldsymbol{\\mathcal{E}}}\\mathcal{L}\n",
    "(\\varepsilon, \\boldsymbol{\\mathcal{E}}, \\dot{\\boldsymbol{\\mathcal{E}}}, \\dot{\\lambda}) \\\\\n",
    "\\dot{f}(\\boldsymbol{\\mathcal{E}}, \\boldsymbol{\\mathcal{S}})\n",
    "\\end{array}\n",
    "\\right]\n",
    "\\end{align}"
   ]
  },
  {
   "cell_type": "markdown",
   "metadata": {},
   "source": [
    "### Gradient of the Lagrangian"
   ]
  },
  {
   "cell_type": "markdown",
   "metadata": {},
   "source": [
    "Print the generic form of the Lagrangian gradient $\\nabla_{\\!\\boldsymbol{\\mathcal{E}}}\\mathcal{L}$ as  the first component of the residuum $\\mathcal{R}_\\mathrm{g}$. The abstract representation provides a guidance for the construction of the elastoplastic solver $\\mathcal{R}_\\mathrm{ep}$ starting from the Helmholtz energy $\\psi_\\mathrm{ep}$ and threshold function $f_\\mathrm{ep}$ with the associated flow potential $g_\\mathrm{ep} = f_\\mathrm{ep}$  "
   ]
  },
  {
   "cell_type": "markdown",
   "metadata": {},
   "source": [
    "This can rephrased as \n",
    "$$\n",
    "\\nabla^2_{\\!\\boldsymbol{\\mathcal{E}}} \\psi(\\varepsilon, \\boldsymbol{\\mathcal{E}})\n",
    "\\cdot \\dot{\\boldsymbol{\\mathcal{E}}}\n",
    "+\n",
    "\\left(\n",
    "\\nabla_{\\!\\boldsymbol{\\mathcal{S}}}f\n",
    "\\cdot\n",
    "\\nabla_{\\!\\boldsymbol{\\mathcal{E}}}\\boldsymbol{\\mathcal{S}}\n",
    "+\n",
    "\\nabla_{\\!\\boldsymbol{\\mathcal{E}}}f\n",
    "\\right)\n",
    "\\dot{\\lambda} = 0\n",
    "$$"
   ]
  },
  {
   "cell_type": "markdown",
   "metadata": {},
   "source": [
    "Note that the threshold function is formulated in terms of thermodynamic forces $\\boldsymbol{\\mathcal{S}}$ may need to align the sign with the conjugate internal variable. This configurational feature is introduced using the diagnoal matrix $\\Upsilon$ containing either values 1 or -1. \n",
    "$$\n",
    " \\boldsymbol{\\mathcal{S}} = \\boldsymbol{\\Upsilon} \\nabla_{\\!\\boldsymbol{\\mathcal{E}}} \\psi.\n",
    "$$"
   ]
  },
  {
   "cell_type": "markdown",
   "metadata": {},
   "source": [
    "### Rate of the flow potential"
   ]
  },
  {
   "cell_type": "markdown",
   "metadata": {},
   "source": [
    "The general form of the rate of the flow potential is given by the following expression: \n",
    "$$\n",
    " \\dot{g}(\\boldsymbol{\\mathcal{E}}, \\boldsymbol{\\mathcal{S}}) =\n",
    "\\nabla_{\\!\\boldsymbol{\\mathcal{E}}}g\n",
    "\\cdot\n",
    "\\dot{\\boldsymbol{\\mathcal{E}}} +\n",
    "\\nabla_{\\!\\boldsymbol{\\mathcal{S}}}g\n",
    "\\cdot\n",
    "\\dot{\\boldsymbol{\\mathcal{S}}}\n",
    "$$\n",
    "where\n",
    "$$\n",
    "\\dot{\\boldsymbol{\\mathcal{S}}} = \n",
    "\\nabla_{\\!\\varepsilon}\\boldsymbol{\\mathcal{S}}\n",
    "\\cdot\n",
    "\\dot{\\varepsilon} +\n",
    "\\nabla_{\\!\\boldsymbol{\\mathcal{E}}}\\boldsymbol{\\mathcal{S}}\n",
    "\\cdot\n",
    "\\dot{\\boldsymbol{\\mathcal{E}}}\n",
    "$$\n",
    "so that the whole expression reads\n",
    "$$\n",
    " \\dot{g}(\\boldsymbol{\\mathcal{E}}, \\boldsymbol{\\mathcal{S}}) =\n",
    "\\nabla_{\\!\\boldsymbol{\\mathcal{E}}}g\n",
    "\\cdot\n",
    "\\dot{\\boldsymbol{\\mathcal{E}}}\n",
    "+\n",
    "\\nabla_{\\!\\boldsymbol{\\mathcal{S}}}g\n",
    "\\cdot\n",
    "\\left(\n",
    "\\nabla_{\\!\\varepsilon}\\boldsymbol{\\mathcal{S}}\n",
    "\\cdot\n",
    "\\dot{\\varepsilon}\n",
    "+\n",
    "\\nabla_{\\!\\boldsymbol{\\mathcal{E}}}\\boldsymbol{\\mathcal{S}}\n",
    "\\cdot\n",
    "\\dot{\\boldsymbol{\\mathcal{E}}}\n",
    "\\right)\n",
    "= 0.\n",
    "$$"
   ]
  },
  {
   "cell_type": "markdown",
   "metadata": {},
   "source": [
    "### Combining the two expressions we obtain the whole residuum"
   ]
  },
  {
   "cell_type": "markdown",
   "metadata": {},
   "source": [
    "Delivering the residuum as\n",
    "$$\n",
    "\\mathcal{R}_\\mathrm{g} = \\left[\n",
    "\\begin{array}{c}\n",
    "\\nabla_{\\!\\boldsymbol{\\mathcal{E}}}\\mathcal{L} \\\\\n",
    "\\dot{g}\n",
    "\\end{array}\n",
    "\\right] = \\left[\n",
    "\\begin{array}{c}\n",
    "\\nabla^2_{\\!\\boldsymbol{\\mathcal{E}}} \\psi\n",
    "\\cdot \\dot{\\boldsymbol{\\mathcal{E}}} +\n",
    "\\left(\n",
    "\\nabla_{\\!\\boldsymbol{\\mathcal{S}}}f\n",
    "\\cdot\n",
    "\\nabla_{\\!\\boldsymbol{\\mathcal{E}}}\\boldsymbol{\\mathcal{S}} +\n",
    "\\nabla_{\\!\\boldsymbol{\\mathcal{E}}}f\n",
    "\\right)\n",
    "\\dot{\\lambda} \\\\\n",
    "\\nabla_{\\!\\boldsymbol{\\mathcal{E}}}g\n",
    "\\cdot\n",
    "\\dot{\\boldsymbol{\\mathcal{E}}} +\n",
    "\\nabla_{\\!\\boldsymbol{\\mathcal{S}}}g\n",
    "\\cdot\n",
    "\\left(\n",
    "\\nabla_{\\!\\varepsilon}\\boldsymbol{\\mathcal{S}}\n",
    "\\cdot\n",
    "\\dot{\\varepsilon} +\n",
    "\\nabla_{\\!\\boldsymbol{\\mathcal{E}}}\\boldsymbol{\\mathcal{S}}\n",
    "\\cdot\n",
    "\\dot{\\boldsymbol{\\mathcal{E}}}\n",
    "\\right)\n",
    "\\end{array}\n",
    "\\right] =\n",
    "\\boldsymbol{0}\n",
    "$$"
   ]
  },
  {
   "cell_type": "code",
   "execution_count": null,
   "metadata": {},
   "outputs": [],
   "source": [
    "def derive_R_g(P, dot_lam):\n",
    "    \"\"\"\n",
    "    Derive the residuum vector combining the gradient of the Lagrangian and the rate of the flow potential.\n",
    "\n",
    "    Parameters\n",
    "    ----------\n",
    "    psi_ : sympy expression\n",
    "        The free energy potential as a function of internal variables.\n",
    "    eps : sympy symbol\n",
    "        The external variable.\n",
    "    dot_eps : sympy symbol\n",
    "        The rate of change of the external variable.\n",
    "    Eps : sympy matrix\n",
    "        The vector of internal variables.\n",
    "    dot_Eps : sympy matrix\n",
    "        The rate of change of the internal variables.\n",
    "    Sig : sympy matrix\n",
    "        The conjugate vector of thermodynamic forces.\n",
    "    Sig_signs : list or array-like\n",
    "        Array of signs.\n",
    "    f_ : sympy expression\n",
    "        The yield function.\n",
    "    g_ : sympy expression\n",
    "        The flow potential function.\n",
    "\n",
    "    Returns\n",
    "    -------\n",
    "    sympy matrix\n",
    "        The residuum vector combining the gradient of the Lagrangian and the rate of the flow potential.\n",
    "\n",
    "    Notes\n",
    "    -----\n",
    "    The derivation involves computing the gradient of the Lagrangian with respect to internal variables\n",
    "    and the rate of change of the flow potential.\n",
    "    \"\"\"\n",
    "    psi_, eps, dot_eps, Eps, dot_Eps, Sig, Sig_signs, f_, g_ = P.psi_, P.eps, P.dot_eps, P.Eps, P.dot_Eps, P.Sig, P.Sig_signs, P.f_, P.g_\n",
    "    # Compute the gradient of the Lagrangian\n",
    "    Sig_ = sp.simplify(sp.diag(*Sig_signs) * psi_.diff(Eps))\n",
    "#    df_dEps_ = ((f_.diff(Sig).T * Sig_.jacobian(Eps)).T + f_.diff(Eps)).subs(dict(zip(Sig, Sig_)))\n",
    "    dg_dEps_ = ((g_.diff(Sig).T * Sig_.jacobian(Eps)).T + g_.diff(Eps)).subs(dict(zip(Sig, Sig_)))\n",
    "#    dg_dEps_ = ((g_.diff(Sig).T * Sig_.jacobian(Eps)).T).subs(dict(zip(Sig, Sig_)))\n",
    "    dL_dEps_ = sp.hessian(psi_, Eps).T * dot_Eps + dg_dEps_ * dot_lam\n",
    "\n",
    "    # Compute the rate of the flow potential\n",
    "    dot_psi_eps_ = Sig_.diff(eps) * dot_eps\n",
    "    dot_psi_Eps_ = Sig_.jacobian(Eps) * dot_Eps\n",
    "    dot_Sig_Eps_ = dot_psi_eps_ + dot_psi_Eps_\n",
    "#    dot_g_ = (g_.diff(Eps).T * dot_Eps + g_.diff(Sig).T * dot_Sig_Eps_).subs(dict(zip(Sig, Sig_)))\n",
    "    dot_f_ = (f_.diff(Eps).T * dot_Eps + f_.diff(Sig).T * dot_Sig_Eps_).subs(dict(zip(Sig, Sig_)))\n",
    "\n",
    "    # Combine the gradient of the Lagrangian and the rate of the flow potential\n",
    "    f_Eps_ = f_.subs(dict(zip(Sig, Sig_)))\n",
    "    R_g_ = dL_dEps_.row_insert(dL_dEps_.shape[0], sp.Matrix([f_Eps_]))\n",
    "\n",
    "    return R_g_"
   ]
  },
  {
   "cell_type": "code",
   "execution_count": null,
   "metadata": {},
   "outputs": [],
   "source": [
    "def derive_dg_dEps_(P, dot_lam):\n",
    "    \"\"\"\n",
    "    Derive the evolution equations from the flow potential.\n",
    "    \"\"\"\n",
    "    psi_, eps, dot_eps, Eps, dot_Eps, Sig, Sig_signs, f_, g_ = P.psi_, P.eps, P.dot_eps, P.Eps, P.dot_Eps, P.Sig, P.Sig_signs, P.f_, P.g_\n",
    "    # Compute the gradient of the Lagrangian\n",
    "    Sig_ = sp.simplify(sp.diag(*Sig_signs) * psi_.diff(Eps))\n",
    "    dg_dEps_ = ((g_.diff(Sig).T * Sig_.jacobian(Eps)).T + g_.diff(Eps)).subs(dict(zip(Sig, Sig_)))\n",
    "    return - sp.diag(*Sig_signs) * dg_dEps_ * dot_lam"
   ]
  },
  {
   "cell_type": "markdown",
   "metadata": {},
   "source": [
    "### Example 1: R_g[ep] - Isotropic hardening plasticity"
   ]
  },
  {
   "cell_type": "markdown",
   "metadata": {},
   "source": [
    "The specification of the constitutive model is done in terms of three functions. Here we exemplify the isotropic hardening plasticity in terms of \n",
    "$$\n",
    "\\psi_\\mathrm{ep} := \\frac{1}{2} E (\\varepsilon - \\varepsilon_\\mathrm{p})^2 + \\frac{1}{2} K z^2\n",
    "$$ \n",
    "and the yield function\n",
    "$$\n",
    " f_\\mathrm{ep} := \\left| {\\sigma_\\mathrm{p}} \\right| - (f_\\mathrm{c} + Z)\n",
    "$$"
   ]
  },
  {
   "cell_type": "code",
   "execution_count": null,
   "metadata": {},
   "outputs": [],
   "source": [
    "class P_ep:\n",
    "    # external variables, internal variables, thermodynamic forces, and material parameters\n",
    "    eps, eps_p, z = cymbols(r'\\varepsilon \\varepsilon_{\\mathrm{p}} z', 'eps, eps_p, z', real=True)\n",
    "    sig, sig_p, Z = cymbols(r'\\sigma \\sigma_{\\mathrm{p}} Z', 'sig sig_p Z', real=True)\n",
    "    E, K, f_c = cymbols('E K f_{\\mathrm{c}}', 'E K f_c', positive=True)\n",
    "    # free energy potential, yield function, and flow potential\n",
    "    psi_ = sp.Rational(1, 2) * E * (eps - eps_p)**2 + sp.Rational(1, 2) * K * z**2\n",
    "    f_ = sp.Abs(sig_p) - (f_c + Z)\n",
    "    g_ = f_\n",
    "    # collect the internal variables to enable generic derivation of the residuum\n",
    "    Eps = sp.Matrix([eps_p, z])\n",
    "    Sig = sp.Matrix([sig_p, Z])\n",
    "    Sig_signs = [-1, 1]\n",
    "    mparams = (E, K, f_c)\n",
    "    # general functions - to be factored out to a base class?\n",
    "    dot_Eps = sp.Matrix([sp.Symbol(name=f'\\\\dot{{{var.name}}}') for var in list(Eps)])\n",
    "    dot_eps = sp.Symbol(name=f'\\\\dot{{{eps.name}}}')\n",
    "\n",
    "# Access the attributes directly from the class\n",
    "P_ep.psi_, P_ep.f_, P_ep.Eps, P_ep.dot_Eps, P_ep.Sig, P_ep.Sig_signs, P_ep.mparams\n"
   ]
  },
  {
   "cell_type": "code",
   "execution_count": null,
   "metadata": {},
   "outputs": [],
   "source": [
    "R_gep_ = derive_R_g(P_ep, R_g.dot_lam)\n",
    "R_gep_"
   ]
  },
  {
   "cell_type": "code",
   "execution_count": null,
   "metadata": {},
   "outputs": [],
   "source": [
    "derive_dg_dEps_(P_ep, R_g.dot_lam)"
   ]
  },
  {
   "cell_type": "markdown",
   "metadata": {},
   "source": [
    "#### Check the analytical solution\n",
    "\n",
    "For isotropic hardening, this equation system can be solved explicitly - use it to check the symbolic scheme."
   ]
  },
  {
   "cell_type": "code",
   "execution_count": null,
   "metadata": {},
   "outputs": [],
   "source": [
    "dot_A_gep_ = P_ep.dot_Eps.row_insert(P_ep.dot_Eps.shape[0], sp.Matrix([[R_g.dot_lam]]))\n",
    "sp.simplify(sp.solve(R_gep_, dot_A_gep_))"
   ]
  },
  {
   "cell_type": "markdown",
   "metadata": {},
   "source": [
    "### Example 2: R_g[epd] Isotropic hardening plasticity and damage\n",
    "\n",
    "The specification of the constitutive model is done in terms of three functions. Here we exemplify the isotropic hardening plasticity in terms of \n",
    "$$\n",
    "\\psi_\\mathrm{} := \\frac{1}{2} (1 - \\omega) E (\\varepsilon - \\varepsilon_\\mathrm{p})^2 + \\frac{1}{2} K z^2,\n",
    "$$ \n",
    "the yield function\n",
    "$$\n",
    " f_\\mathrm{epd} := \\left| \\frac{\\sigma_\\mathrm{p}}{1 - \\omega} \\right| - (f_\\mathrm{c} + Z),\n",
    "$$\n",
    "and the flow potential\n",
    "$$\n",
    " g_\\mathrm{epd} = f + (1 - \\omega) \\frac{S}{r+1} \\left( \\frac{Y}{S} \\right)^{r+1}\n",
    "$$"
   ]
  },
  {
   "cell_type": "code",
   "execution_count": null,
   "metadata": {},
   "outputs": [],
   "source": [
    "class P_epd:\n",
    "    # external variables, internal variables, thermodynamic forces, and material parameters\n",
    "    eps, eps_p, z, omega = cymbols(r'\\varepsilon \\varepsilon_\\mathrm{p} z \\omega', \n",
    "                                   'eps, eps_p, z, omega', real=True)\n",
    "    sig, sig_p, Z, Y = cymbols('\\sigma \\sigma_\\mathrm{p} Z Y', \n",
    "                               'sig sigma_p Z Y', real=True)\n",
    "    E, K, f_c, S, r = cymbols('E K f_\\mathrm{c} S r', \n",
    "                              'E K f_c S r', positive=True)\n",
    "    # free energy potential, yield function, and flow potential\n",
    "    psi_ = sp.Rational(1,2) * (1 - omega) * E * (eps - eps_p)**2 + sp.Rational(1,2) * K * z**2\n",
    "    f_ = sp.Abs(sig_p / (1-omega)) - (f_c + Z)\n",
    "    r = 1\n",
    "    g_ = f_ + (1 - omega) * (S/(r+1)) * (Y/S)**(r+1)\n",
    "    # collect the internal variables to enable generic derivation of the residuum\n",
    "    Eps = sp.Matrix([eps_p, z, omega])\n",
    "    Sig = sp.Matrix([sig_p, Z, Y])\n",
    "    Sig_signs = [-1, 1, -1]\n",
    "    mparams = (E, K, f_c, S)\n",
    "    # general functions - to be factored out to a base class?\n",
    "    dot_Eps = sp.Matrix([sp.Symbol(name=f'\\\\dot{{{var.name}}}') for var in list(Eps)])\n",
    "    dot_eps = sp.Symbol(name=f'\\\\dot{{{eps.name}}}')\n",
    "    \n",
    "P_epd.psi_, P_epd.f_, P_epd.g_, P_epd.Eps, P_epd.dot_Eps, P_epd.Sig, P_epd.Sig_signs, P_epd.mparams"
   ]
  },
  {
   "cell_type": "code",
   "execution_count": null,
   "metadata": {},
   "outputs": [],
   "source": [
    "R_gepd_ = derive_R_g(P_epd, R_g.dot_lam)\n",
    "R_gepd_"
   ]
  },
  {
   "cell_type": "code",
   "execution_count": null,
   "metadata": {},
   "outputs": [],
   "source": [
    "dot_A_gepd_ = P_epd.dot_Eps.row_insert(P_epd.dot_Eps.shape[0], sp.Matrix([[R_g.dot_lam]]))\n",
    "dot_A_gepd_"
   ]
  },
  {
   "cell_type": "code",
   "execution_count": null,
   "metadata": {},
   "outputs": [],
   "source": [
    "dot_A_gepd_solved_ = sp.solve(R_gepd_, dot_A_gepd_)\n",
    "dot_A_gepd_solved_[dot_A_gepd_[2]]"
   ]
  },
  {
   "cell_type": "markdown",
   "metadata": {},
   "source": [
    "## R_ig[.] - Parameterized incremental Residuum"
   ]
  },
  {
   "cell_type": "code",
   "execution_count": null,
   "metadata": {},
   "outputs": [],
   "source": [
    "def derive_R_dR_n1(P, dot_lam):\n",
    "    # time\n",
    "    t = Cymbol(r't', codename='t')\n",
    "    delta_t = Cymbol(r'\\Delta t', codename='delta_t')\n",
    "    \n",
    "    # fundamental state\n",
    "    Eps_n = sp.Matrix([Cymbol(f'{var.name}^{{(n)}}', codename='{var.codename}_n') for var in P.Eps])\n",
    "    eps_n = Cymbol(r'\\varepsilon^{(n)}', codename='eps_n')\n",
    "\n",
    "    # increment\n",
    "    delta_Eps = sp.Matrix([Cymbol(f'\\\\Delta {{{var.name}}}', codename='delta_{var.codename}') for var in P.Eps])\n",
    "    delta_eps = Cymbol(r'\\Delta {\\varepsilon}', codename='delta_eps')\n",
    "    delta_lam = Cymbol(r'\\Delta {\\lambda}', codename='delta_lam')\n",
    "\n",
    "    # updated state\n",
    "    Eps_n1 = Eps_n + delta_Eps\n",
    "    eps_n1 = eps_n + delta_eps\n",
    "\n",
    "    # rate of change\n",
    "    dot_Eps_n = delta_Eps / delta_t\n",
    "    dot_eps_n = delta_eps / delta_t\n",
    "    dot_lam_n = delta_lam / delta_t\n",
    "\n",
    "    # derive substitutions\n",
    "    subs_dot_Eps = dict(zip(P.dot_Eps, dot_Eps_n))\n",
    "    subs_dot_eps = {P.dot_eps: dot_eps_n}\n",
    "    subs_dot_lam = {dot_lam: dot_lam_n}\n",
    "    subs_Eps = dict(zip(P.Eps, Eps_n1))\n",
    "    subs_eps = {P.eps: eps_n1}\n",
    "\n",
    "    subs_n1 = {**subs_dot_Eps, **subs_dot_eps, **subs_dot_lam, **subs_Eps, **subs_eps}\n",
    "\n",
    "    R_g = derive_R_g(P, dot_lam)\n",
    "    # residuum vector in n+1 step\n",
    "    R_n1 = R_g.subs(subs_n1)\n",
    "\n",
    "    # construct the jacobian of the residuum\n",
    "    delta_A = sp.Matrix([delta_Eps, delta_lam])\n",
    "    dR_dA_n1_ = R_n1.jacobian(delta_A)\n",
    "    dR_dA_n1 = dR_dA_n1_.replace(sp.Derivative, lambda *args: 0)\n",
    "\n",
    "    return (eps_n, delta_eps, Eps_n, delta_A, delta_t), R_n1, dR_dA_n1\n"
   ]
  },
  {
   "cell_type": "markdown",
   "metadata": {},
   "source": [
    "### R_ig[ep] - Residuum and Jacobian for elasto-plasticity with isotropic hardening"
   ]
  },
  {
   "cell_type": "code",
   "execution_count": null,
   "metadata": {},
   "outputs": [],
   "source": [
    "(eps_n, delta_eps, Eps_n, delta_A, delta_t), R_ep_, dR_dA_ep_  = derive_R_dR_n1(P_ep, R_g.dot_lam)\n",
    "R_ep_, dR_dA_ep_"
   ]
  },
  {
   "cell_type": "code",
   "execution_count": null,
   "metadata": {},
   "outputs": [],
   "source": [
    "dR_dA_ep_.inverse() * R_ep_"
   ]
  },
  {
   "cell_type": "code",
   "execution_count": null,
   "metadata": {},
   "outputs": [],
   "source": [
    "P_ep.mparams"
   ]
  },
  {
   "cell_type": "code",
   "execution_count": null,
   "metadata": {},
   "outputs": [],
   "source": [
    "get_R_dR_n1_ep = sp.lambdify((eps_n, delta_eps, Eps_n, delta_A, delta_t, *P_ep.mparams), \n",
    "                            (R_ep_, dR_dA_ep_))\n",
    "get_R_dR_n1_ep(1, 2, [0.3, 0.4], [0.5, 0.6, 0.0], 0.1, E=28000, K=0, f_c=30)"
   ]
  },
  {
   "cell_type": "code",
   "execution_count": null,
   "metadata": {},
   "outputs": [],
   "source": [
    "import numpy as np\n",
    "mparams_ep = dict(E=1, K=1, f_c=1)\n",
    "delta_A_k = np.array([0.0, 0.0, 0.0])\n",
    "delta_eps = 0.1\n",
    "R_n1_epd_k, dR_n1_epd_k = get_R_dR_n1_ep(0, delta_eps, [0.0, 0.0], delta_A_k, 1, **mparams_ep)\n",
    "delta_A_k += np.linalg.solve(dR_n1_epd_k, -R_n1_epd_k[:, 0])\n",
    "R_n1_epd_k, dR_n1_epd_k = get_R_dR_n1_ep(0, delta_eps, [0.0, 0.0], delta_A_k, 1, **mparams_ep)\n",
    "dR_n1_epd_k, R_n1_epd_k, delta_A_k"
   ]
  },
  {
   "cell_type": "markdown",
   "metadata": {},
   "source": [
    "### R_ig[epd] - Residuum and Jacobian for elasto-plasticity with isotropic hardening and damage "
   ]
  },
  {
   "cell_type": "code",
   "execution_count": null,
   "metadata": {},
   "outputs": [],
   "source": [
    "(eps_n, delta_eps, Eps_n, delta_A, delta_t), R_epd_, dR_dA_epd_  = derive_R_dR_n1(P_epd, R_g.dot_lam)\n",
    "R_epd_"
   ]
  },
  {
   "cell_type": "code",
   "execution_count": null,
   "metadata": {},
   "outputs": [],
   "source": [
    "P_epd.mparams"
   ]
  },
  {
   "cell_type": "code",
   "execution_count": null,
   "metadata": {},
   "outputs": [],
   "source": [
    "get_R_dR_n1_epd = sp.lambdify((eps_n, delta_eps, Eps_n, delta_A, delta_t, *P_epd.mparams), \n",
    "                            (R_epd_, dR_dA_epd_))\n"
   ]
  },
  {
   "cell_type": "code",
   "execution_count": null,
   "metadata": {},
   "outputs": [],
   "source": [
    "import numpy as np\n",
    "mparams_epd = dict(E=100, K=100, f_c=1, S=0.1)\n",
    "delta_A_k = np.array([0.0, 0.0, 0.0, 0.0])\n",
    "delta_eps = 1.1\n",
    "Eps_0 = [0.0, 0.0, 0.0]\n",
    "R_n1_epd_k, dR_n1_epd_k = get_R_dR_n1_epd(0, delta_eps, Eps_0, delta_A_k, 1, **mparams_epd)\n",
    "delta_A_k += np.linalg.solve(dR_n1_epd_k, -R_n1_epd_k[:, 0])\n",
    "# R_n1_epd_k, dR_n1_epd_k = get_R_dR_n1_epd(0, delta_eps, Eps_0, delta_A_k, 1, **mparams_epd)\n",
    "# delta_A_k += np.linalg.solve(dR_n1_epd_k, -R_n1_epd_k[:, 0])\n",
    "dR_n1_epd_k, -R_n1_epd_k, delta_A_k"
   ]
  },
  {
   "cell_type": "code",
   "execution_count": null,
   "metadata": {},
   "outputs": [],
   "source": []
  }
 ],
 "metadata": {
  "kernelspec": {
   "display_name": "bmcs_env2",
   "language": "python",
   "name": "python3"
  },
  "language_info": {
   "codemirror_mode": {
    "name": "ipython",
    "version": 3
   },
   "file_extension": ".py",
   "mimetype": "text/x-python",
   "name": "python",
   "nbconvert_exporter": "python",
   "pygments_lexer": "ipython3"
  }
 },
 "nbformat": 4,
 "nbformat_minor": 2
}
