{
 "cells": [
  {
   "cell_type": "markdown",
   "metadata": {},
   "source": [
    "# Bound GSM - thermo-elasto-visco-plastic damage interface model"
   ]
  },
  {
   "cell_type": "code",
   "execution_count": null,
   "metadata": {},
   "outputs": [],
   "source": [
    "import bmcs_utils.api as bu\n",
    "import sympy as sp\n",
    "import numpy as np\n",
    "from bmcs_matmod import GSM\n",
    "from bmcs_matmod.ntim.tevpd_ifc import TEVPDIfcSymb, TEVPDIfc"
   ]
  },
  {
   "cell_type": "code",
   "execution_count": null,
   "metadata": {},
   "outputs": [],
   "source": [
    "tevpd_ifc = TEVPDIfc()\n",
    "gsm = tevpd_ifc.gsm"
   ]
  },
  {
   "cell_type": "code",
   "execution_count": null,
   "metadata": {},
   "outputs": [],
   "source": [
    "_u_a = np.array([1.1, 1e-5, 0])\n",
    "_T = np.array([20])\n",
    "material_params = dict(\n",
    "    E_T_=1, gamma_T_=1, K_T_=1, S_T_=1000, c_T_=1, f_s_=1, \n",
    "    E_N_=1, gamma_N_=0, K_N_=0, S_N_=1000, c_N_=1, m_=0.1, f_t_=1, f_c_=20, f_c0_=10, \n",
    "    zeta_=0.0001, eta_N_=1, eta_T_=1, d_N_=0, alpha_therm_=1e-5, \n",
    "    T_0_=20, C_v_=1, beta_=1\n",
    ")\n",
    "_Eps_B00 = np.zeros((gsm.n_Eps_explicit,), np.float_ )\n",
    "_lagrangian = gsm.get_dDiss_dEps(_u_a, 20, _Eps_B00, _Eps_B00, **material_params)"
   ]
  },
  {
   "cell_type": "code",
   "execution_count": null,
   "metadata": {},
   "outputs": [],
   "source": [
    "gsm.vp_on = True\n",
    "gsm.update_at_k = False\n",
    "material_params = dict(\n",
    "    E_T_=1, gamma_T_=0, K_T_=1, S_T_=0.5e+0, c_T_=1, f_s_=1, \n",
    "    E_N_=1, gamma_N_=0, K_N_=1, S_N_=0.5e+0, c_N_=1, m_=0.05, f_t_=1, f_c_=20, f_c0_=10, \n",
    "    zeta_=0, eta_N_=0.005, eta_T_=0.005, d_N_=0, alpha_therm_=1e-5, \n",
    "    T_0_=20, C_v_=1, beta_=1\n",
    ")\n",
    "n_u = complex(0, 2)\n",
    "n_t = 30\n",
    "t_t = np.linspace(0, 1, n_t)\n",
    "u_N_range, u_T_range = np.mgrid[-2:2:n_u, -2:2:n_u]\n",
    "# u_N_range, u_T_range = np.mgrid[-.2:.2:n_u, -.2:.2:n_u]\n",
    "_u_aIJ = np.zeros((3,) + u_N_range.shape, np.float_)\n",
    "_u_aIJ[0] = u_N_range\n",
    "_u_aIJ[1] = u_T_range\n",
    "_u_tIJa = np.einsum('t,aIJ->tIJa', t_t, _u_aIJ)\n",
    "_T_IJ = np.ones_like(u_N_range) * 20"
   ]
  },
  {
   "cell_type": "code",
   "execution_count": null,
   "metadata": {},
   "outputs": [],
   "source": [
    "material_params"
   ]
  },
  {
   "cell_type": "code",
   "execution_count": null,
   "metadata": {},
   "outputs": [],
   "source": [
    "import inspect\n",
    "src = inspect.getsource(gsm._f_df_dlambda_lambdified)\n",
    "print(src)"
   ]
  },
  {
   "cell_type": "code",
   "execution_count": null,
   "metadata": {},
   "outputs": [],
   "source": [
    "gsm._dDScale_dEps_lambdified"
   ]
  },
  {
   "cell_type": "code",
   "execution_count": null,
   "metadata": {},
   "outputs": [],
   "source": []
  }
 ],
 "metadata": {
  "kernelspec": {
   "display_name": "bmcs_env2",
   "language": "python",
   "name": "python3"
  },
  "language_info": {
   "codemirror_mode": {
    "name": "ipython",
    "version": 3
   },
   "file_extension": ".py",
   "mimetype": "text/x-python",
   "name": "python",
   "nbconvert_exporter": "python",
   "pygments_lexer": "ipython3"
  }
 },
 "nbformat": 4,
 "nbformat_minor": 2
}
