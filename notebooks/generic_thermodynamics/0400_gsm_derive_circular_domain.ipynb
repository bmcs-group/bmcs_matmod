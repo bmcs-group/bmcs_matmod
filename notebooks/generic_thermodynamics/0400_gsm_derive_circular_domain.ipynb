{
 "cells": [
  {
   "cell_type": "markdown",
   "metadata": {},
   "source": [
    "# GSM interface model with scalars and vector variables"
   ]
  },
  {
   "cell_type": "markdown",
   "metadata": {},
   "source": [
    "Based on the notebook 01 here we are separating the general part of the\n",
    "derivation valid for any kind of generalized standard model and the particular\n",
    "formulation of the external and internal state representation and the free energy and dissipation potentials"
   ]
  },
  {
   "cell_type": "code",
   "execution_count": null,
   "metadata": {},
   "outputs": [],
   "source": [
    "%matplotlib widget\n",
    "from bmcs_matmod.gsm.gsm_symb import GSMSymb as GSM\n",
    "import matplotlib.pylab as plt \n",
    "import sympy as sp\n",
    "from bmcs_utils.api import Cymbol\n",
    "import numpy as np\n",
    "sp.init_printing()"
   ]
  },
  {
   "cell_type": "code",
   "execution_count": null,
   "metadata": {},
   "outputs": [],
   "source": [
    "H = sp.Heaviside"
   ]
  },
  {
   "cell_type": "markdown",
   "metadata": {},
   "source": [
    "## Material parameters"
   ]
  },
  {
   "cell_type": "code",
   "execution_count": null,
   "metadata": {},
   "outputs": [],
   "source": [
    "E_T = Cymbol(r'E_{\\mathrm{T}}', codename='E_T_', real=True, nonnegative=True)\n",
    "gamma_T = Cymbol(r'\\gamma_{\\mathrm{T}}', codename='gamma_T_', real=True)\n",
    "K_T = Cymbol(r'K_{\\mathrm{T}}', codename='K_T_', real=True)\n",
    "S_T = Cymbol(r'S_{\\mathrm{T}}', codename='S_T_', real=True, nonnegative=True)\n",
    "r_T = Cymbol(r'r_{\\mathrm{T}}', codename='r_T_', real=True, nonnegative=True)\n",
    "c_T = Cymbol(r'c_{\\mathrm{T}}', codename='c_T_', real=True, nonnegative=True)\n",
    "eta_T = Cymbol(r'\\eta_{\\mathrm{T}}', codename='eta_T_', real=True, nonnegative=True)\n",
    "\n",
    "E_N = Cymbol(r'E_{\\mathrm{N}}', codename='E_N_', real=True, nonnegative=True)\n",
    "gamma_N = Cymbol(r'\\gamma_{\\mathrm{N}}', codename='gamma_N_', real=True)\n",
    "K_N = Cymbol(r'K_{\\mathrm{N}}', codename='K_N_', real=True)\n",
    "S_N = Cymbol(r'S_{\\mathrm{N}}', codename='S_N_', real=True, nonnegative=True)\n",
    "r_N = Cymbol(r'r_{\\mathrm{N}}', codename='r_N_', real=True, nonnegative=True)\n",
    "c_N = Cymbol(r'c_{\\mathrm{N}}', codename='c_N_', real=True, nonnegative=True)\n",
    "\n",
    "eta_N = Cymbol(r'\\eta_{\\mathrm{N}}', codename='eta_N_', real=True, nonnegative=True)\n",
    "zeta = Cymbol('zeta', codename='zeta_', real=True, nonnegative=True)\n",
    "\n",
    "d_N = Cymbol(r'd_{\\mathrm{N}}', codename='d_N_', real=True, nonnegative=True)\n",
    "alpha_therm = Cymbol(r'\\alpha_{\\vartheta}', codename='alpha_therm_', real=True, nonnegative=True)\n",
    "# temperature \n",
    "C_v = Cymbol(r'C_{\\mathrm{v}}', codename='C_v_', real=True, nonnegative=True)\n",
    "T_0 = Cymbol(r'\\vartheta_0', codename='T_0_', real=True, nonnegative=True)\n",
    "beta = Cymbol(r'\\beta', codename='beta_', real=True, nonnegative=True)"
   ]
  },
  {
   "cell_type": "code",
   "execution_count": null,
   "metadata": {},
   "outputs": [],
   "source": [
    "f_t = Cymbol(r'f_\\mathrm{Nt}', codename='f_t_')\n",
    "f_c = Cymbol(r'f_\\mathrm{Nc}', codename='f_c_')\n",
    "f_c0 = Cymbol(r'f_\\mathrm{Nc0}', codename='f_c0_')\n",
    "f_s = Cymbol(r'f_\\mathrm{T}', codename='f_s_')\n",
    "m = Cymbol(r'm', codename='m_', real=True, nonnegative=True)"
   ]
  },
  {
   "cell_type": "code",
   "execution_count": null,
   "metadata": {},
   "outputs": [],
   "source": [
    "mparams = (E_T, gamma_T, K_T, S_T, c_T, E_N, gamma_N, K_N, S_N, c_N, f_t, \n",
    "           eta_N, eta_T, zeta, C_v, T_0, d_N, alpha_therm, beta)\n",
    "mparams"
   ]
  },
  {
   "cell_type": "markdown",
   "metadata": {},
   "source": [
    "Substitute for r_N and r_T directly to allow `sympy` to handle correct handling of the limit case $Y_\\mathrm{N} \\rightarrow 0$ occurring in the term $\\Phi$ if $u_\\mathrm{N} = 0$. In this case $Y_\\mathrm{N}^r / Y_\\mathrm{N}$ is not able to take account the assumptions, e.g. $r >= 0$ and therefore returns NaN. That's why the parameter $r$ is substituted symbolically."
   ]
  },
  {
   "cell_type": "code",
   "execution_count": null,
   "metadata": {},
   "outputs": [],
   "source": [
    "m_param_subs = {r_N: 2, r_T: 2}"
   ]
  },
  {
   "cell_type": "markdown",
   "metadata": {},
   "source": [
    "## External state variables"
   ]
  },
  {
   "cell_type": "code",
   "execution_count": null,
   "metadata": {},
   "outputs": [],
   "source": [
    "u_N = Cymbol(r'u_\\mathrm{N}', codename='u_N_', real=True)\n",
    "u_Tx = Cymbol(r'u_\\mathrm{Tx}', codename='u_Tx_', real=True)\n",
    "u_Ty = Cymbol(r'u_\\mathrm{Ty}', codename='u_Ty_', real=True)\n",
    "u_Ta = sp.Matrix([u_Tx, u_Ty])\n",
    "u_a = sp.Matrix([u_N, u_Tx, u_Ty])\n",
    "sig_N = Cymbol(r'\\sigma_\\mathrm{N}', codename='sig_N_', real=True)\n",
    "sig_Tx = Cymbol(r'\\sigma_\\mathrm{Tx}', codename='sig_Tx_', real=True)\n",
    "sig_Ty = Cymbol(r'\\sigma_\\mathrm{Ty}', codename='sig_Ty_', real=True)\n",
    "sig_Ta = sp.Matrix([sig_Tx, sig_Ty])\n",
    "sig_a = sp.Matrix([sig_N, sig_Tx, sig_Ty])\n",
    "sig_a"
   ]
  },
  {
   "cell_type": "code",
   "execution_count": null,
   "metadata": {},
   "outputs": [],
   "source": [
    "T = Cymbol(r'\\vartheta', codename='T_', real=True)\n",
    "Gamma = sp.exp(-beta * (T - T_0))\n",
    "Gamma"
   ]
  },
  {
   "cell_type": "markdown",
   "metadata": {},
   "source": [
    "## Internal state variables"
   ]
  },
  {
   "cell_type": "code",
   "execution_count": null,
   "metadata": {},
   "outputs": [],
   "source": [
    "u_p_N = Cymbol(r'u_\\mathrm{N}^\\mathrm{p}', codename='u_p_N_', real=True)\n",
    "u_p_Tx = Cymbol(r'u_\\mathrm{Tx}^\\mathrm{p}', codename='u_p_Tx_', real=True)\n",
    "u_p_Ty = Cymbol(r'u_\\mathrm{Ty}^\\mathrm{p}', codename='u_p_Ty_', real=True)\n",
    "u_p_Ta = sp.Matrix([u_p_Tx, u_p_Ty])\n",
    "u_p_a = sp.Matrix([u_p_N, u_p_Tx, u_p_Ty])\n",
    "sig_p_N = Cymbol(r'\\sigma^\\mathrm{p}_\\mathrm{N}', codename='sig_p_N_', real=True)\n",
    "sig_p_Tx = Cymbol(r'\\sigma^\\mathrm{p}_\\mathrm{Tx}', codename='sig_p_Tx_', real=True)\n",
    "sig_p_Ty = Cymbol(r'\\sigma^\\mathrm{p}_\\mathrm{Ty}', codename='sig_p_Ty_', real=True)\n",
    "sig_p_Ta = sp.Matrix([sig_p_Tx, sig_p_Ty])\n",
    "sig_p_a = sp.Matrix([sig_p_N, sig_p_Tx, sig_p_Ty])"
   ]
  },
  {
   "cell_type": "code",
   "execution_count": null,
   "metadata": {},
   "outputs": [],
   "source": [
    "omega_N = Cymbol(r'\\omega_\\mathrm{N}', codename='omega_N_', real=True)\n",
    "omega_T = Cymbol(r'\\omega_\\mathrm{T}', codename='omega_T_', real=True)\n",
    "u_e_N = u_N - u_p_N\n",
    "omega_ab = sp.Matrix([[H(u_e_N) * omega_N, 0, 0],\n",
    "                      [0, omega_T, 0],\n",
    "                      [0, 0, omega_T]])\n",
    "omega_a = sp.Matrix([omega_N, omega_T])\n",
    "Y_N = Cymbol(r'Y_\\mathrm{N}', codename='Y_N_', real=True)\n",
    "Y_T = Cymbol(r'Y_\\mathrm{T}', codename='Y_T_', real=True)\n",
    "Y_a = sp.Matrix([Y_N, Y_T])"
   ]
  },
  {
   "cell_type": "code",
   "execution_count": null,
   "metadata": {},
   "outputs": [],
   "source": [
    "z_N = Cymbol(r'z_\\mathrm{N}', codename='z_N_', real=True)\n",
    "K_ab = sp.Matrix([[K_N]])\n",
    "z_a = sp.Matrix([z_N])\n",
    "Z_N = Cymbol(r'Z_\\mathrm{N}', codename='Z_N_', real=True)\n",
    "Z_a = sp.Matrix([Z_N])"
   ]
  },
  {
   "cell_type": "code",
   "execution_count": null,
   "metadata": {},
   "outputs": [],
   "source": [
    "alpha_N = Cymbol(r'\\alpha_\\mathrm{N}', codename='alpha_N_', real=True, nonnegative=True)\n",
    "alpha_Tx = Cymbol(r'\\alpha_\\mathrm{Tx}', codename='alpha_Tx_', real=True, nonnegative=True)\n",
    "alpha_Ty = Cymbol(r'\\alpha_\\mathrm{Ty}', codename='alpha_Ty_', real=True, nonnegative=True)\n",
    "gamma_ab = sp.Matrix([[gamma_N, 0, 0],\n",
    "                      [0, gamma_T, 0],\n",
    "                      [0, 0, gamma_T]])\n",
    "alpha_Ta = sp.Matrix([alpha_Tx, alpha_Ty])\n",
    "alpha_a = sp.Matrix([alpha_N, alpha_Tx, alpha_Ty])\n",
    "X_N = Cymbol(r'X_\\mathrm{N}', codename='X_N_', real=True, nonnegative=True)\n",
    "X_Tx = Cymbol(r'X_\\mathrm{Tx}', codename='X_Ty_', real=True, nonnegative=True)\n",
    "X_Ty = Cymbol(r'X_\\mathrm{Ty}', codename='X_Tx_', real=True, nonnegative=True)\n",
    "X_Ta = sp.Matrix([X_Tx, X_Ty])\n",
    "X_a = sp.Matrix([X_N, X_Tx, X_Ty])"
   ]
  },
  {
   "cell_type": "markdown",
   "metadata": {},
   "source": [
    "## Free energy potential"
   ]
  },
  {
   "cell_type": "code",
   "execution_count": null,
   "metadata": {},
   "outputs": [],
   "source": [
    "E_ab = sp.Matrix([[E_N, 0, 0],\n",
    "                  [0, E_T, 0],\n",
    "                  [0, 0, E_T]])\n",
    "u_el_a = u_a - u_p_a\n",
    "E_eff_ab = (sp.eye(3) - omega_ab) * E_ab\n",
    "E_eff_ab"
   ]
  },
  {
   "cell_type": "code",
   "execution_count": null,
   "metadata": {},
   "outputs": [],
   "source": [
    "U_T_ = ( (1 - H(u_N)*omega_N) * E_N * alpha_therm * (T - T_0) * (u_N - u_p_N) * d_N )\n",
    "U_e_ = sp.Rational(1,2) * (u_el_a.T * E_eff_ab * u_el_a)[0]\n",
    "U_p_ = sp.Rational(1,2) * (z_N * K_ab * z_N + alpha_a.T * gamma_ab * alpha_a)[0]\n",
    "TS_ = C_v * (T - T_0) **2 / (2 * T_0)\n",
    "F_ = U_e_ + U_p_ + U_T_ - TS_\n",
    "F_ = U_e_ + U_p_ - TS_\n",
    "F_"
   ]
  },
  {
   "cell_type": "markdown",
   "metadata": {},
   "source": [
    "## Dissipation potential"
   ]
  },
  {
   "cell_type": "code",
   "execution_count": null,
   "metadata": {},
   "outputs": [],
   "source": [
    "sig_eff_Tx = sp.Function(r'\\sigma^{\\mathrm{eff}}_{\\mathrm{T}x}')(sig_p_Tx, omega_T)\n",
    "sig_eff_Ty = sp.Function(r'\\sigma^{\\mathrm{eff}}_{\\mathrm{T}y}')(sig_p_Ty, omega_T)\n",
    "sig_eff_N = sp.Function(r'\\sigma^{\\mathrm{eff}}_{\\mathrm{N}}')(sig_p_N, omega_N)\n",
    "q_Tx = sp.Function(r'q_Tx')(sig_eff_Tx,X_Tx)\n",
    "q_Ty = sp.Function(r'q_Ty')(sig_eff_Ty,X_Ty)\n",
    "q_N = sp.Function(r'q_N')(sig_eff_N)\n",
    "norm_q_T = sp.sqrt(q_Tx*q_Tx + q_Ty*q_Ty)\n",
    "subs_q_T = {q_Tx: (sig_eff_Tx - X_Tx), q_Ty: (sig_eff_Ty - X_Ty)}\n",
    "subs_q_N = {q_N: sig_eff_N - X_N}\n",
    "subs_sig_eff = {sig_eff_Tx: sig_p_Tx / (1-omega_T),\n",
    "                  sig_eff_Ty: sig_p_Ty / (1-omega_T),\n",
    "                  sig_eff_N: sig_p_N / (1-omega_N)\n",
    "                 }\n",
    "x = Cymbol(r'x')\n",
    "y = Cymbol(r'y')\n",
    "f_t = Cymbol(r'f_t_')\n",
    "f_solved_ = sp.sqrt(x**2 + y**2) - f_t\n",
    "f_ = (f_solved_\n",
    "      .subs({x: q_N, y: norm_q_T})\n",
    "      .subs(subs_q_T)\n",
    "      .subs(subs_q_N)\n",
    "      .subs(subs_sig_eff)\n",
    "      .subs(f_t,((f_t+Z_N) * Gamma))\n",
    "      )"
   ]
  },
  {
   "cell_type": "code",
   "execution_count": null,
   "metadata": {},
   "outputs": [],
   "source": [
    "f_"
   ]
  },
  {
   "cell_type": "code",
   "execution_count": null,
   "metadata": {},
   "outputs": [],
   "source": [
    "S_NT = sp.sqrt(S_N*S_T)\n",
    "c_NT = sp.sqrt(c_N*c_T)\n",
    "r_NT = sp.sqrt(r_N*r_T)\n",
    "omega_NT = 1 - sp.sqrt((1-omega_N)*(1-omega_T))\n",
    "phi_N = (1 - omega_N)**c_N * S_N / (r_N+1) * (Y_N / S_N)**(r_N+1) # * H(sig_p_N)\n",
    "phi_T = (1 - omega_T)**c_T * S_T / (r_T+1) * (Y_T / S_T)**(r_T+1)\n",
    "phi_NT = (1 - omega_NT)**c_NT * S_NT / (r_NT+1) * ( ( # H(sig_p_N)* \n",
    "                                                    Y_N + Y_T)/(S_NT))**(r_NT+1)\n",
    "phi_ext_ = ((1 - zeta)*(phi_N + phi_T) + zeta*phi_NT)\n",
    "phi_ext_"
   ]
  },
  {
   "cell_type": "code",
   "execution_count": null,
   "metadata": {},
   "outputs": [],
   "source": [
    "phi_ext_.diff(Y_N)"
   ]
  },
  {
   "cell_type": "code",
   "execution_count": null,
   "metadata": {},
   "outputs": [],
   "source": [
    "t_relax_N_ = eta_N / (E_N + gamma_N)\n",
    "t_relax_T_ = eta_T / (E_T + K_T + gamma_T)\n",
    "t_relax_ = sp.Matrix([\n",
    "                    t_relax_N_,\n",
    "                    t_relax_T_,\n",
    "                    t_relax_T_,\n",
    "                    t_relax_N_,\n",
    "                    t_relax_T_,\n",
    "                    t_relax_N_,\n",
    "                    t_relax_T_,\n",
    "                    t_relax_T_,\n",
    "                    ] \n",
    "               )"
   ]
  },
  {
   "cell_type": "code",
   "execution_count": null,
   "metadata": {},
   "outputs": [],
   "source": [
    "gsm = GSM(\n",
    "    name = 'gsm_2DNT_EVPD_LIKH_circular',\n",
    "    u_vars = u_a,\n",
    "    T_var = T,\n",
    "    m_params = mparams,\n",
    "    m_param_subs = m_param_subs,\n",
    "    Eps_vars = (u_p_a, z_a, alpha_a, omega_a),\n",
    "    Sig_vars = (sig_p_a, Z_a, X_a, Y_a),\n",
    "    Sig_signs = (-1, 1, 1, -1),\n",
    "    F_expr = F_,\n",
    "    f_expr = f_,\n",
    "    phi_ext_expr = phi_ext_,\n",
    "    t_relax = t_relax_\n",
    ")\n",
    "gsm.save_to_disk()"
   ]
  }
 ],
 "metadata": {
  "kernelspec": {
   "display_name": "bmcs_env2",
   "language": "python",
   "name": "python3"
  },
  "language_info": {
   "codemirror_mode": {
    "name": "ipython",
    "version": 3
   },
   "file_extension": ".py",
   "mimetype": "text/x-python",
   "name": "python",
   "nbconvert_exporter": "python",
   "pygments_lexer": "ipython3"
  }
 },
 "nbformat": 4,
 "nbformat_minor": 2
}
