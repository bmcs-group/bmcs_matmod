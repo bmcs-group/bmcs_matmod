{
 "cells": [
  {
   "cell_type": "code",
   "execution_count": null,
   "metadata": {},
   "outputs": [],
   "source": [
    "import sympy as sp\n",
    "import numpy as np\n",
    "import matplotlib.pyplot as plt\n",
    "sp.init_printing()"
   ]
  },
  {
   "cell_type": "markdown",
   "metadata": {},
   "source": [
    "## Next step identification"
   ]
  },
  {
   "cell_type": "markdown",
   "metadata": {},
   "source": [
    "$$\n",
    "\\boldsymbol{\\mathcal{R}}(\\Delta{\\boldsymbol{\\mathcal{A}}}) = 0\n",
    "$$\n",
    "\n",
    "$$\n",
    "\\boldsymbol{\\mathcal{R}}(\\Delta{\\boldsymbol{\\mathcal{A}}}_{k+1}) =\n",
    "\\boldsymbol{\\mathcal{R}}(\\Delta{\\boldsymbol{\\mathcal{A}}}_k) +\n",
    "\\left.\n",
    "    \\frac{\\partial \\boldsymbol{\\mathcal{R}} \n",
    "}{\\partial \\Delta{\\boldsymbol{\\mathcal{A}}}} \n",
    "\\right|_{\\Delta{\\boldsymbol{\\mathcal{A}}}_k}\n",
    "\\delta(\\Delta{\\boldsymbol{\\mathcal{A}}}) = 0\n",
    "$$"
   ]
  },
  {
   "cell_type": "markdown",
   "metadata": {},
   "source": [
    "\\begin{align}\n",
    "\\left.\n",
    "    \\frac{\\partial \\boldsymbol{\\mathcal{R}} \n",
    "}{\\partial \\Delta{\\boldsymbol{\\mathcal{A}}}} \n",
    "\\right|_{\\Delta{\\boldsymbol{\\mathcal{A}}}_k}\n",
    "\\delta (\\Delta{\\boldsymbol{\\mathcal{A}}}) &= - \n",
    "\\boldsymbol{\\mathcal{R}}(\\Delta{\\boldsymbol{\\mathcal{A}}}_k) \\\\\n",
    "\\Delta{\\boldsymbol{\\mathcal{A}}}_{k+1} &= \n",
    "\\Delta{\\boldsymbol{\\mathcal{A}}}_k + \n",
    "\\delta (\\Delta{\\boldsymbol{\\mathcal{A}}})\n",
    "\\end{align}\n"
   ]
  },
  {
   "cell_type": "markdown",
   "metadata": {},
   "source": [
    "## Example for a workshop"
   ]
  },
  {
   "cell_type": "code",
   "execution_count": null,
   "metadata": {},
   "outputs": [],
   "source": [
    "x, t = sp.symbols('x t', real=True)\n",
    "x = sp.Function('x')(t)\n",
    "f = sp.Function('f')(x)\n",
    "dot_x = x.diff(t)\n",
    "f = x**2\n",
    "get_f = sp.lambdify((x), f, modules=['numpy'])"
   ]
  },
  {
   "cell_type": "code",
   "execution_count": null,
   "metadata": {},
   "outputs": [],
   "source": [
    "dot_x - f"
   ]
  },
  {
   "cell_type": "code",
   "execution_count": null,
   "metadata": {},
   "outputs": [],
   "source": [
    "t_n = sp.symbols('t_n', real=True)\n",
    "t_n1 = sp.symbols('t_n1', real=True)\n",
    "delta_t = sp.symbols(r'\\Delta{t}', real=True)\n",
    "x_n = sp.symbols('x_n', real=True)\n",
    "delta_x = sp.symbols(r'\\Delta{x}', real=True)\n",
    "x_n1 = x_n + delta_x\n",
    "a = sp.symbols('a', real=True)\n",
    "x_na = a * x_n1 + (1 - a) * x_n\n",
    "delta_x = x_n1 - x_n\n",
    "delta_x"
   ]
  },
  {
   "cell_type": "code",
   "execution_count": null,
   "metadata": {},
   "outputs": [],
   "source": [
    "x_na"
   ]
  },
  {
   "cell_type": "code",
   "execution_count": null,
   "metadata": {},
   "outputs": [],
   "source": [
    "x_t = x_n + delta_x / (delta_t) * t\n",
    "R_f_ = f.subs(x, x_na).subs(a, 0.5) - dot_x.subs(x, x_t).doit()\n",
    "dR_dx_f_ = R_f_.diff(delta_x)\n",
    "R_f_, dR_dx_f_"
   ]
  },
  {
   "cell_type": "code",
   "execution_count": null,
   "metadata": {},
   "outputs": [],
   "source": [
    "dR_dx_f_\n",
    "get_R_dR_f_ = sp.lambdify((x_n, delta_x, delta_t), (R_f_, dR_dx_f_), 'numpy')"
   ]
  },
  {
   "cell_type": "code",
   "execution_count": null,
   "metadata": {},
   "outputs": [],
   "source": [
    "x_val = 0\n",
    "delta_t_val = 1\n",
    "delta_x_val = 1\n",
    "t_range = np.linspace(0, 10, 11)\n",
    "x_range = np.zeros_like(t_range)\n",
    "f_range = np.zeros_like(t_range)\n",
    "for n in range(1, len(t_range)):\n",
    "    t_val = t_range[n]\n",
    "    x_range[n] = x_val\n",
    "    f_range[n] = get_f(x_val)\n",
    "    delta_x_val = 1\n",
    "    delta_t_val = t_range[n] - t_range[n-1]\n",
    "    for k in range(8):\n",
    "        print('x', x_val)\n",
    "        R_f_k, dR_dx_f_k = get_R_dR_f_(x_val, delta_x_val, delta_t_val)\n",
    "        print('R', R_f_k)\n",
    "        delta_x_val -= R_f_k / dR_dx_f_k\n",
    "    print('delta_x', delta_x_val)\n",
    "    x_val += delta_x_val\n",
    "x_range, f_range"
   ]
  },
  {
   "cell_type": "code",
   "execution_count": null,
   "metadata": {},
   "outputs": [],
   "source": [
    "delta_x_val"
   ]
  },
  {
   "cell_type": "code",
   "execution_count": null,
   "metadata": {},
   "outputs": [],
   "source": [
    "import numpy as np\n",
    "import matplotlib.pyplot as plt\n",
    "from scipy.optimize import fsolve\n",
    "\n",
    "# Differential equation parameters\n",
    "t_max = 10.0\n",
    "delta_t = 0.1\n",
    "num_steps = int(t_max / delta_t)\n",
    "\n",
    "# Initial condition\n",
    "epsilon_initial = 0.1\n",
    "\n",
    "# Time array\n",
    "time = np.linspace(0, t_max, num_steps + 1)\n",
    "\n",
    "# Array to store the solution\n",
    "epsilon = np.zeros(num_steps + 1)\n",
    "epsilon[0] = epsilon_initial\n",
    "\n",
    "# Function to solve for epsilon at the next time step using backward Euler\n",
    "def backward_euler_step(epsilon_current, delta_t):\n",
    "    # Define the implicit equation for the backward Euler step\n",
    "    func = lambda epsilon_next: epsilon_next - epsilon_current - delta_t * (1 - epsilon_next) * epsilon_next\n",
    "    epsilon_next = fsolve(func, epsilon_current)\n",
    "    return epsilon_next[0]\n",
    "\n",
    "# Time-stepping loop\n",
    "for n in range(num_steps):\n",
    "    epsilon[n + 1] = backward_euler_step(epsilon[n], delta_t)\n",
    "\n",
    "# Plotting the results\n",
    "plt.figure(figsize=(10, 6))\n",
    "plt.plot(time, epsilon, label='Backward Euler', marker='o')\n",
    "plt.title('Solution to $\\\\dot{\\\\epsilon} = (1 - \\\\epsilon) \\\\cdot \\\\epsilon$ using Backward Euler')\n",
    "plt.xlabel('Time')\n",
    "plt.ylabel('$\\\\epsilon$')\n",
    "plt.grid(True)\n",
    "plt.legend()\n",
    "plt.show()"
   ]
  },
  {
   "cell_type": "markdown",
   "metadata": {},
   "source": [
    "1. **Define the Residual**: You have a residual vector $ R(Eps, dot\\_Eps) = 0 $, representing the implicit ODEs.\n",
    "\n",
    "2. **Discretize the Variables**: You have discretized the variables using:\n",
    "   $$\n",
    "   Eps = Eps_n + \\Delta Eps, \\quad dot\\_Eps = \\frac{\\Delta Eps}{\\Delta t}\n",
    "   $$\n",
    "   \n",
    "3. **Substitute** these discrete representations into the residual.\n",
    "\n",
    "4. **Linearize Using Taylor Expansion**: Using a first-order Taylor expansion around the known values, you arrive at the system:\n",
    "   $$\n",
    "   J \\cdot \\Delta Eps = -R\n",
    "   $$\n",
    "   where $ J = \\frac{\\partial R}{\\partial Eps} $ is the Jacobian matrix.\n",
    "\n",
    "5. **Solve the Linear System**: This linear system can be solved for $\\Delta Eps$, updating the solution iteratively.\n",
    "\n",
    "Let's demonstrate this with a simple example using Python and `sympy` for symbolic computation:\n",
    "\n",
    "```python\n",
    "import sympy as sp\n",
    "import numpy as np\n",
    "from scipy.linalg import solve\n",
    "\n",
    "# Define symbols\n",
    "eps_1, eps_2 = sp.symbols('eps_1 eps_2')\n",
    "dot_eps_1, dot_eps_2, delta_t = sp.symbols('dot_eps_1 dot_eps_2 delta_t')\n",
    "Eps_n1, Eps_n2 = sp.symbols('Eps_n1 Eps_n2')\n",
    "delta_Eps1, delta_Eps2 = sp.symbols('delta_Eps1 delta_Eps2')\n",
    "\n",
    "# Define the residual vector R(Eps, dot_Eps)\n",
    "R1 = dot_eps_1 - (1 - eps_1) * eps_1 - eps_2\n",
    "R2 = dot_eps_2 - eps_1 * eps_2\n",
    "R = sp.Matrix([R1, R2])\n",
    "\n",
    "# Substitute discretization into the residual\n",
    "Eps = [eps_1, eps_2]\n",
    "dot_Eps = [delta_Eps1/delta_t, delta_Eps2/delta_t]\n",
    "R_sub = R.subs({eps_1: Eps_n1 + delta_Eps1, eps_2: Eps_n2 + delta_Eps2,\n",
    "                dot_eps_1: delta_Eps1/delta_t, dot_eps_2: delta_Eps2/delta_t})\n",
    "\n",
    "# Derive the Jacobian J = dR/dEps\n",
    "J = R_sub.jacobian([delta_Eps1, delta_Eps2])\n",
    "\n",
    "# Create a function to evaluate R_sub and J\n",
    "R_func = sp.lambdify((Eps_n1, Eps_n2, delta_Eps1, delta_Eps2, delta_t), R_sub, 'numpy')\n",
    "J_func = sp.lambdify((Eps_n1, Eps_n2, delta_Eps1, delta_Eps2, delta_t), J, 'numpy')\n",
    "\n",
    "# Solver function using Newton's method\n",
    "def newton_solver(Eps_n, delta_t, tol=1e-6, max_iter=50):\n",
    "    delta_Eps = np.zeros_like(Eps_n)\n",
    "    for _ in range(max_iter):\n",
    "        R_val = np.array(R_func(*Eps_n, *delta_Eps, delta_t)).astype(float).ravel()\n",
    "        J_val = np.array(J_func(*Eps_n, *delta_Eps, delta_t)).astype(float)\n",
    "        \n",
    "        if np.linalg.norm(R_val) < tol:\n",
    "            break\n",
    "\n",
    "        delta_Eps -= np.linalg.solve(J_val, R_val)\n",
    "    \n",
    "    return Eps_n + delta_Eps\n",
    "\n",
    "# Example usage\n",
    "Eps_n = np.array([0.1, 0.1])  # Initial condition\n",
    "delta_t = 0.1  # Time step\n",
    "\n",
    "# Solving for the next time step\n",
    "Eps_next = newton_solver(Eps_n, delta_t)\n",
    "print(\"Eps_next:\", Eps_next)\n",
    "```\n",
    "\n",
    "### Explanation:\n",
    "\n",
    "- **SymPy Setup**: We first set up symbolic expressions using SymPy for the residuals.\n",
    "- **Discretization Substitution**: We substitute $ Eps = Eps_n + \\Delta Eps $ and $ dot\\_Eps = \\frac{\\Delta Eps}{\\Delta t} $ into the residuals.\n",
    "- **Jacobian Calculation**: Use SymPy's Jacobian function to obtain the derivative matrix $ J $.\n",
    "- **Numerical Function Conversion**: Convert the symbolic representations to numerical functions using `lambdify`.\n",
    "- **Solver**: Implement Newton's method to solve for $ \\Delta Eps $ iteratively.\n",
    "\n",
    "This script gives you a starting framework to apply a Newton-Raphson based method for solving implicit ODE systems using backward Euler discretization. Adjust the `R1` and `R2` expressions to match your specific system."
   ]
  },
  {
   "cell_type": "code",
   "execution_count": null,
   "metadata": {},
   "outputs": [],
   "source": [
    "import sympy as sp\n",
    "import numpy as np\n",
    "from scipy.linalg import solve\n",
    "\n",
    "# Define symbols\n",
    "eps_1, eps_2 = sp.symbols('eps_1 eps_2')\n",
    "dot_eps_1, dot_eps_2, delta_t = sp.symbols('dot_eps_1 dot_eps_2 delta_t')\n",
    "Eps_n1, Eps_n2 = sp.symbols('Eps_n1 Eps_n2')\n",
    "delta_Eps1, delta_Eps2 = sp.symbols('delta_Eps1 delta_Eps2')\n",
    "\n",
    "# Define the residual vector R(Eps, dot_Eps)\n",
    "R1 = dot_eps_1 - (1 - eps_1) * eps_1 - eps_2\n",
    "R2 = dot_eps_2 - eps_1 * eps_2\n",
    "R = sp.Matrix([R1, R2])\n",
    "\n",
    "# Substitute discretization into the residual\n",
    "Eps = [eps_1, eps_2]\n",
    "dot_Eps = [delta_Eps1/delta_t, delta_Eps2/delta_t]\n",
    "R_sub = R.subs({eps_1: Eps_n1 + delta_Eps1, eps_2: Eps_n2 + delta_Eps2,\n",
    "                dot_eps_1: delta_Eps1/delta_t, dot_eps_2: delta_Eps2/delta_t})\n",
    "\n",
    "# Derive the Jacobian J = dR/dEps\n",
    "J = R_sub.jacobian([delta_Eps1, delta_Eps2])\n",
    "\n",
    "# Create a function to evaluate R_sub and J\n",
    "R_func = sp.lambdify((Eps_n1, Eps_n2, delta_Eps1, delta_Eps2, delta_t), R_sub, 'numpy')\n",
    "J_func = sp.lambdify((Eps_n1, Eps_n2, delta_Eps1, delta_Eps2, delta_t), J, 'numpy')\n",
    "\n",
    "# Solver function using Newton's method\n",
    "def newton_solver(Eps_n, delta_t, tol=1e-6, max_iter=50):\n",
    "    delta_Eps = np.zeros_like(Eps_n)\n",
    "    for i in range(max_iter):\n",
    "        R_val = np.array(R_func(*Eps_n, *delta_Eps, delta_t)).astype(float).ravel()\n",
    "        print(i, R_val)\n",
    "        if np.linalg.norm(R_val) < tol:\n",
    "            break\n",
    "        J_val = np.array(J_func(*Eps_n, *delta_Eps, delta_t)).astype(float)\n",
    "        delta_Eps -= np.linalg.solve(J_val, R_val)\n",
    "    \n",
    "    return Eps_n + delta_Eps\n",
    "\n",
    "# Example usage\n",
    "Eps_n = np.array([0.1, 0.1])  # Initial condition\n",
    "delta_t = 0.1  # Time step\n",
    "\n",
    "# Solving for the next time step\n",
    "Eps_next = newton_solver(Eps_n, delta_t)\n",
    "print(\"Eps_next:\", Eps_next)"
   ]
  }
 ],
 "metadata": {
  "kernelspec": {
   "display_name": "bmcs_env2",
   "language": "python",
   "name": "python3"
  },
  "language_info": {
   "codemirror_mode": {
    "name": "ipython",
    "version": 3
   },
   "file_extension": ".py",
   "mimetype": "text/x-python",
   "name": "python",
   "nbconvert_exporter": "python",
   "pygments_lexer": "ipython3"
  }
 },
 "nbformat": 4,
 "nbformat_minor": 2
}
