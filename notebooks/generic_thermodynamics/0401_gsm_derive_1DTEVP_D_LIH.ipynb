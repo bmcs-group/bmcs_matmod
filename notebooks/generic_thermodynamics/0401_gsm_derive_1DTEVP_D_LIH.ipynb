{
 "cells": [
  {
   "cell_type": "markdown",
   "metadata": {},
   "source": [
    "# Elasto-plastic-damage isotropic hardening model\n",
    "\n",
    "Verification of the Legendre transform "
   ]
  },
  {
   "cell_type": "code",
   "execution_count": null,
   "metadata": {},
   "outputs": [],
   "source": [
    "%matplotlib widget\n",
    "from bmcs_matmod import GSM\n",
    "import matplotlib.pylab as plt \n",
    "import sympy as sp\n",
    "import numpy as np\n",
    "from bmcs_matmod.gsm.potentials.potential1d_t_e_vp_d_lih import Potential1D_T_E_VP_D_LIH_SymbExpr \n",
    "sp.init_printing()"
   ]
  },
  {
   "cell_type": "markdown",
   "metadata": {},
   "source": [
    "## Helmholtz free energy"
   ]
  },
  {
   "cell_type": "code",
   "execution_count": null,
   "metadata": {},
   "outputs": [],
   "source": [
    "p1d = Potential1D_T_E_VP_D_LIH_SymbExpr()\n",
    "p1d.F_"
   ]
  },
  {
   "cell_type": "code",
   "execution_count": null,
   "metadata": {},
   "outputs": [],
   "source": [
    "p1d.phi_ext_"
   ]
  },
  {
   "cell_type": "markdown",
   "metadata": {},
   "source": [
    "## Gibbs free energy"
   ]
  },
  {
   "cell_type": "code",
   "execution_count": null,
   "metadata": {},
   "outputs": [],
   "source": [
    "eps_a = p1d.eps_a\n",
    "sig_a = p1d.sig_a\n",
    "dF_du = p1d.F_.diff(eps_a)\n",
    "u_sig_ = sp.Matrix([ sp.solve(sp.Eq(sig_i, dF_du_i), u_i)[0] for sig_i, u_i, dF_du_i in \n",
    "                            zip(sig_a, eps_a, dF_du)])\n",
    "subs_u_sig_ = dict(zip(eps_a, u_sig_))\n",
    "sp.simplify(dF_du), subs_u_sig_"
   ]
  },
  {
   "cell_type": "code",
   "execution_count": null,
   "metadata": {},
   "outputs": [],
   "source": [
    "sig_x_eps_ = (sig_a.T * eps_a)[0]\n",
    "G_expr = p1d.F_ - sig_x_eps_\n",
    "G_ = sp.simplify(G_expr.subs(subs_u_sig_))\n",
    "G_"
   ]
  },
  {
   "cell_type": "code",
   "execution_count": null,
   "metadata": {},
   "outputs": [],
   "source": [
    "F_verify = sp.simplify(G_ + sig_x_eps_)\n",
    "F_verify"
   ]
  },
  {
   "cell_type": "code",
   "execution_count": null,
   "metadata": {},
   "outputs": [],
   "source": [
    "sp.simplify((F_verify).subs(p1d.sig, (1 - p1d.omega) * p1d.E*(p1d.eps - p1d.eps_p)) - p1d.F_)"
   ]
  },
  {
   "cell_type": "markdown",
   "metadata": {},
   "source": [
    "## GSM drivers"
   ]
  },
  {
   "cell_type": "code",
   "execution_count": null,
   "metadata": {},
   "outputs": [],
   "source": [
    "gsm_F = GSM(\n",
    "    name = 'gsm_F_1d_t_e_vp_d_lkh',\n",
    "    u_vars = p1d.eps_a,\n",
    "    sig_vars = p1d.sig_a,\n",
    "    T_var = p1d.T,\n",
    "    m_params = p1d.mparams,\n",
    "    Eps_vars = p1d.Eps_vars,\n",
    "    Sig_vars = p1d.Sig_vars,\n",
    "    Sig_signs = p1d.Sig_signs,\n",
    "    F_expr = p1d.F_,\n",
    "    f_expr = p1d.f_,\n",
    "    phi_ext_expr = p1d.phi_ext_,\n",
    "    t_relax = p1d.t_relax_\n",
    ")\n",
    "\n",
    "gsm_G = GSM(\n",
    "    name = 'gsm_G_1d_t_e_vp_d_lkh',\n",
    "    u_vars = p1d.sig_a,\n",
    "    sig_vars = p1d.eps_a,\n",
    "    T_var = p1d.T,\n",
    "    m_params = p1d.mparams,\n",
    "    Eps_vars = p1d.Eps_vars,\n",
    "    Sig_signs = p1d.Sig_signs,\n",
    "    Sig_vars = p1d.Sig_vars,\n",
    "    F_expr = G_,\n",
    "    sig_sign = sp.Rational(-1),\n",
    "    f_expr = p1d.f_,\n",
    "    phi_ext_expr = p1d.phi_ext_,\n",
    "    t_relax = p1d.t_relax_\n",
    ")"
   ]
  },
  {
   "cell_type": "code",
   "execution_count": null,
   "metadata": {},
   "outputs": [],
   "source": [
    "gsm_F.Sig_, gsm_G.Sig_"
   ]
  },
  {
   "cell_type": "code",
   "execution_count": null,
   "metadata": {},
   "outputs": [],
   "source": [
    "sp.simplify(gsm_F.f_), sp.simplify(gsm_G.f_)"
   ]
  },
  {
   "cell_type": "code",
   "execution_count": null,
   "metadata": {},
   "outputs": [],
   "source": [
    "gsm_F.f_, gsm_G.f_"
   ]
  },
  {
   "cell_type": "code",
   "execution_count": null,
   "metadata": {},
   "outputs": [],
   "source": [
    "gsm_F.df_dSig_,gsm_G.df_dSig_"
   ]
  },
  {
   "cell_type": "code",
   "execution_count": null,
   "metadata": {},
   "outputs": [],
   "source": [
    "gsm_F.Phi_, gsm_G.Phi_"
   ]
  },
  {
   "cell_type": "code",
   "execution_count": null,
   "metadata": {},
   "outputs": [],
   "source": [
    "subs_Sig_Eps_F = dict(zip(gsm_F.Sig.as_explicit(), gsm_F.Sig_.as_explicit()))\n",
    "lambda_solved_F = sp.simplify((gsm_F.f_/ gsm_F.df_dlambda_).subs(subs_Sig_Eps_F) )\n",
    "subs_Sig_Eps_G = dict(zip(gsm_G.Sig.as_explicit(), gsm_F.Sig_.as_explicit()))\n",
    "lambda_solved_G = sp.simplify((gsm_G.f_/ gsm_G.df_dlambda_).subs(subs_Sig_Eps_G) )\n",
    "lambda_solved_F, lambda_solved_G"
   ]
  },
  {
   "cell_type": "code",
   "execution_count": null,
   "metadata": {},
   "outputs": [],
   "source": [
    "gsm_G.F_expr.diff(gsm_G.u_vars), gsm_G.sig_"
   ]
  },
  {
   "cell_type": "code",
   "execution_count": null,
   "metadata": {},
   "outputs": [],
   "source": [
    "gsm_F.save_to_disk()\n",
    "gsm_G.save_to_disk()"
   ]
  },
  {
   "cell_type": "markdown",
   "metadata": {},
   "source": [
    "## Monotonic loading"
   ]
  },
  {
   "cell_type": "code",
   "execution_count": null,
   "metadata": {},
   "outputs": [],
   "source": [
    "_f_c = 44\n",
    "_f_t = -0.1 * _f_c\n",
    "_X_0 = (_f_c + _f_t) / 2\n",
    "_f_s = (_f_c - _f_t) / 2\n",
    "_E = 50000\n",
    "_K_factor = 10\n",
    "_K = _E * _K_factor\n",
    "material_params = dict(\n",
    "    E_=_E, \n",
    "    K_lin_= _K / 10, # _E / 5,\n",
    "    f_c_=_f_s,\n",
    "    S_=0.03, # 0.00001,\n",
    "    c_=2.3,\n",
    "    r_=1,\n",
    "    eta_=20000,\n",
    "    T_0_=20,\n",
    "    C_v_= 1e+6, # 0.01, # 0.0001, \n",
    "    d_N_ = 1,\n",
    ")\n",
    "p1d.mparams"
   ]
  },
  {
   "cell_type": "code",
   "execution_count": null,
   "metadata": {},
   "outputs": [],
   "source": [
    "def gsm_run(gsm_, u_ta, T_t, t_t, **material_params):\n",
    "    response = gsm_.get_response(u_ta, T_t, t_t, **material_params)\n",
    "    _t_t, _u_tIa, _T_t, _Eps_tIb, _Sig_tIb, _iter_t, _dF_dEps_t, lam_t, (d_t_t, d_u_ta) = response\n",
    "    _u_atI, _Eps_btI, _Sig_btI, _dF_dEps_btI = [np.moveaxis(v_, -1, 0) for v_ in (_u_tIa, _Eps_tIb, _Sig_tIb, _dF_dEps_t)]\n",
    "    _sig_atI = gsm_.get_sig(_u_atI, _T_t, _Eps_btI, _Sig_btI, **material_params )\n",
    "    return _t_t, _u_atI, _sig_atI, _T_t, _Eps_btI, _Sig_btI, _dF_dEps_btI, lam_t, (d_t_t, d_u_ta)\n",
    "\n",
    "gsm_F.vp_on = True\n",
    "gsm_F.update_at_k = False\n",
    "\n",
    "def get_cyclic_load(max_s, max_t, n_cycles, n_incr):\n",
    "    # Generating loading history\n",
    "    s_arr = np.tile(np.array([-1, 1]), n_cycles) * np.linspace(0, max_s, 2 * n_cycles)\n",
    "    s_arr = np.interp(np.linspace(0, max_t, n_incr * len(s_arr)), np.linspace(0, max_t, len(s_arr)), s_arr)\n",
    "    # time array as input\n",
    "    t_arr = np.linspace(0, max_t, len(s_arr))\n",
    "    return s_arr, t_arr"
   ]
  },
  {
   "cell_type": "code",
   "execution_count": null,
   "metadata": {},
   "outputs": [],
   "source": [
    "\n",
    "def generate_cyclic_load(max_s, min_s, freq, total_cycles, points_per_cycle):\n",
    "    # Calculate the time for one cycle\n",
    "    total_time = total_cycles / freq\n",
    "\n",
    "    # Calculate the mean value and amplitude\n",
    "    mean_value = (max_s + min_s) / 2\n",
    "    amplitude = (max_s - min_s) / 2\n",
    "\n",
    "    # Calculate the initial loading slope\n",
    "    slope = 2 * np.pi * freq * amplitude\n",
    "    \n",
    "    # Time arrays for linear increase and sinusoidal part\n",
    "    initial_duration = mean_value / slope\n",
    "    initial_points = int(initial_duration * freq * points_per_cycle)\n",
    "    total_points = int(total_time * freq * points_per_cycle)\n",
    "    \n",
    "    # Generate the initial linear increase\n",
    "    initial_t = np.linspace(0, initial_duration, initial_points, endpoint=False)\n",
    "    initial_loading = slope * initial_t\n",
    "\n",
    "    # Generate the sinusoidal loading\n",
    "    sinusoidal_t = np.linspace(0, total_time, total_points, endpoint=False)\n",
    "    sinusoidal_loading = mean_value + amplitude * np.sin(2 * np.pi * freq * sinusoidal_t)\n",
    "\n",
    "    # Combine the initial linear increase with the sinusoidal loading\n",
    "    t_full = np.concatenate((initial_t, sinusoidal_t + initial_duration))\n",
    "    s_full = np.concatenate((initial_loading, sinusoidal_loading))\n",
    "    \n",
    "    return s_full, t_full"
   ]
  },
  {
   "cell_type": "code",
   "execution_count": null,
   "metadata": {},
   "outputs": [],
   "source": [
    "material_params"
   ]
  },
  {
   "cell_type": "code",
   "execution_count": null,
   "metadata": {},
   "outputs": [],
   "source": [
    "max_s = 0.002\n",
    "u_t_F, t_t_F = get_cyclic_load( n_cycles=1, max_s=max_s, \n",
    "                                max_t=1, n_incr = 3)\n",
    "\n",
    "u_t_F, t_t_F = get_cyclic_load( n_cycles=1, max_s=max_s, \n",
    "                                max_t=1, n_incr = 30)\n",
    "\n",
    "#u_t_F, t_t_F = generate_cyclic_load(max_s, -max_s, 1, 0.25, 30)\n",
    "u_t_F, t_t_F = generate_cyclic_load(max_s, -max_s, 1, 10, 30)\n",
    "\n",
    "T_t_F = 20 + t_t_F * 0\n",
    "response_values_F = gsm_run(gsm_F, u_t_F[:,np.newaxis], T_t_F, t_t_F, **material_params)"
   ]
  },
  {
   "cell_type": "code",
   "execution_count": null,
   "metadata": {},
   "outputs": [],
   "source": [
    "_t_t_F, _u_atI_F, _sig_atI_F, _T_t_F, _Eps_btI_F, _Sig_btI_F, _dF_dEps_btI_F, lam_t_F, (d_t_t, d_u_ta) = response_values_F \n",
    "argmax_sig_ = np.argmax(_sig_atI_F)\n",
    "t_t_G = _t_t_F # [:argmax_sig_+1]\n",
    "u_ta_G = _sig_atI_F[...].reshape(-1, 1) #  [0, :argmax_sig_+1, 0].reshape(-1, 1)\n",
    "T_t_G = 20 + t_t_G * 0\n",
    "response_values_G = gsm_run(gsm_G, u_ta_G, T_t_G, t_t_G, **material_params)"
   ]
  },
  {
   "cell_type": "code",
   "execution_count": null,
   "metadata": {},
   "outputs": [],
   "source": [
    "fig, ((ax_eps, ax_sig), (ax_lam, ax_z), (ax_eps_p, ax_omega), (ax_sig_eps, ax_Y)) = plt.subplots(4,2, figsize=(12,10), tight_layout=True)\n",
    "\n",
    "_t_t_F, _u_atI_F, _sig_atI_F, _T_t_F, _Eps_btI_F, _Sig_btI_F, _dF_dEps_btI_F, _lam_t_F, (_d_t_F, _d_u_ta_F) = response_values_F \n",
    "_u_p_atI_F, _z_atI_F, _omega_atI_F = gsm_F.Eps_as_blocks(_Eps_btI_F)\n",
    "_, _Z_atI_F, _Y_atI_F = gsm_F.Eps_as_blocks(_Sig_btI_F)\n",
    "\n",
    "_t_t_G, _sig_atI_G, _u_atI_G, _T_t_G, _Eps_btI_G, _Sig_btI_G, _dF_dEps_btI_G, _lam_t_G, (_d_t_G, _d_u_ta_G) = response_values_G \n",
    "_u_p_atI_G, _z_atI_G, _omega_atI_G = gsm_G.Eps_as_blocks(_Eps_btI_G)\n",
    "_, _Z_atI_G, _Y_atI_G = gsm_F.Eps_as_blocks(_Sig_btI_G)\n",
    "\n",
    "ax_sig_eps.plot(_u_atI_F[0, :, 0], _sig_atI_F[0, :, 0], 'o-', label='F', color='blue',)\n",
    "ax_sig_eps.plot(_u_atI_G[0, :, 0], _sig_atI_G[0, :, 0], 'o', label='G', color='red', ls='dashed')\n",
    "ax_sig_eps.legend()\n",
    "ax_sig_eps.set_title(r'strain-stress')\n",
    "ax_sig_eps.set_ylabel(r'$\\sigma$')\n",
    "ax_sig_eps.set_xlabel(r'$\\varepsilon$')\n",
    "\n",
    "ax_eps.plot(_t_t_F, _u_atI_F[0, :, 0], 'o-', label='F', color='blue',)\n",
    "ax_eps.plot(_t_t_G, _u_atI_G[0, :, 0], 'o', label='G', color='red', ls='dashed')\n",
    "ax_eps.legend()\n",
    "ax_eps.set_title(r'strain-time')\n",
    "ax_eps.set_ylabel(r'$\\varepsilon$')\n",
    "ax_eps.set_xlabel(r'$t$')\n",
    "\n",
    "ax_sig.plot(_t_t_F, _sig_atI_F[0, :, 0], 'o-', label='F', color='blue')\n",
    "ax_sig.plot(_t_t_G, _sig_atI_G[0, :, 0], 'o', label='G', color='red', ls='dashed')\n",
    "ax_sig.legend()\n",
    "ax_sig.set_title(r'stress-time')\n",
    "ax_sig.set_ylabel(r'$\\sigma$')\n",
    "ax_sig.set_xlabel(r'$t$')\n",
    "\n",
    "ax_lam.plot(_t_t_F, _lam_t_F, 'o-', label='F', color='blue')\n",
    "ax_lam.plot(_t_t_G, _lam_t_G, 'o-', label='G', color='red')\n",
    "ax_lam.legend()\n",
    "ax_lam.set_title(r'$\\lambda$-time')\n",
    "ax_lam.set_ylabel(r'$\\lambda$')\n",
    "ax_lam.set_xlabel(r'$t$')\n",
    "\n",
    "ax_z.plot(_t_t_F, _z_atI_F[0, :, 0], 'o-', label='F', color='blue')\n",
    "ax_z.plot(_t_t_G, _z_atI_G[0, :, 0], 'o-', label='G', color='red')\n",
    "ax_z.legend()\n",
    "ax_z.set_title(r'z-time')\n",
    "ax_z.set_ylabel(r'$z$')\n",
    "ax_z.set_xlabel(r'$t$')\n",
    "\n",
    "ax_eps_p.plot(_t_t_F, _u_p_atI_F[0, :, 0], 'o-', label='F', color='blue')\n",
    "ax_eps_p.plot(_t_t_G, _u_p_atI_G[0, :, 0], 'o-', label='G', color='red')\n",
    "ax_eps_p.legend()\n",
    "ax_eps_p.set_title(r'$\\varepsilon_\\mathrm{p}$-time')\n",
    "ax_eps_p.set_ylabel(r'$\\varepsilon_\\mathrm{p}$')\n",
    "ax_eps_p.set_xlabel(r'$t$')\n",
    "\n",
    "ax_omega.plot(_t_t_F, _omega_atI_F[0, :, 0], 'o-', label='F', color='blue')\n",
    "ax_omega.plot(_t_t_G, _omega_atI_G[0, :, 0], 'o-', label='G', color='red')\n",
    "ax_omega.legend()\n",
    "ax_omega.set_title(r'$\\omega$-time')\n",
    "ax_omega.set_ylabel(r'$\\omega$')\n",
    "ax_omega.set_xlabel(r'$t$')\n",
    "\n",
    "r = material_params['r_']\n",
    "c = material_params['c_']\n",
    "ax_Y.plot(t_t_F, (1 - _omega_atI_F[0, :, 0]**c)* (_Y_atI_F[0, :, 0] / material_params['S_'])**r, 'o-', label='F', color='blue')\n",
    "ax_Y.plot(t_t_G, (1 - _omega_atI_G[0, :, 0]**c)* (_Y_atI_G[0, :, 0] / material_params['S_'])**r, 'o-', label='F', color='red')\n",
    "ax_Y.set_xlabel(r'$\\varepsilon$/-')\n",
    "ax_Y.set_ylabel(r'$\\varepsilon_\\mathrm{p}$/-')\n",
    "ax_Y.set_title(r'$\\partial{\\varphi}/{\\partial Y} =  (1-\\omega)^c (Y/S)^r$')\n",
    "\n"
   ]
  },
  {
   "cell_type": "code",
   "execution_count": null,
   "metadata": {},
   "outputs": [],
   "source": [
    "from bmcs_utils.api import Cymbol"
   ]
  },
  {
   "cell_type": "code",
   "execution_count": null,
   "metadata": {},
   "outputs": [],
   "source": [
    "gsm_F.Eps.as_explicit()"
   ]
  },
  {
   "cell_type": "code",
   "execution_count": null,
   "metadata": {},
   "outputs": [],
   "source": [
    "gamma_mech_ = - (gsm_F.dF_dEps_.as_explicit().T * gsm_F.dot_Eps.as_explicit())[0,0]\n",
    "gamma_mech_"
   ]
  },
  {
   "cell_type": "code",
   "execution_count": null,
   "metadata": {},
   "outputs": [],
   "source": [
    "gsm_F.f_"
   ]
  },
  {
   "cell_type": "code",
   "execution_count": null,
   "metadata": {},
   "outputs": [],
   "source": [
    "dot_lam = Cymbol(r'\\dot{\\lambda}', codename='dot_lambda')"
   ]
  },
  {
   "cell_type": "code",
   "execution_count": null,
   "metadata": {},
   "outputs": [],
   "source": [
    "Lagrangian = -gamma_mech_ + dot_lam * gsm_F.f_\n",
    "Lagrangian"
   ]
  },
  {
   "cell_type": "code",
   "execution_count": null,
   "metadata": {},
   "outputs": [],
   "source": [
    "Lagrangian_Eps = Lagrangian.subs(gsm_F.subs_Sig_Eps)\n",
    "Lagrangian_Eps"
   ]
  },
  {
   "cell_type": "code",
   "execution_count": null,
   "metadata": {},
   "outputs": [],
   "source": [
    "dLagrangian_dEps_ = Lagrangian_Eps.diff(gsm_F.Eps.as_explicit())\n",
    "dLagrangian_dEps_"
   ]
  },
  {
   "cell_type": "code",
   "execution_count": null,
   "metadata": {},
   "outputs": [],
   "source": [
    "subs_dot_eps = sp.solve(dLagrangian_dEps_, gsm_F.dot_Eps.as_explicit())\n",
    "subs_dot_eps"
   ]
  },
  {
   "cell_type": "code",
   "execution_count": null,
   "metadata": {},
   "outputs": [],
   "source": [
    "gsm_F.phi_"
   ]
  },
  {
   "cell_type": "code",
   "execution_count": null,
   "metadata": {},
   "outputs": [],
   "source": [
    "dot_phi_Sig_ = (gsm_F.phi_.diff(gsm_F.Sig.as_explicit()).T * gsm_F.dot_Sig.as_explicit())[0,0]\n",
    "dot_phi_Sig_"
   ]
  },
  {
   "cell_type": "code",
   "execution_count": null,
   "metadata": {},
   "outputs": [],
   "source": [
    "dot_eps = Cymbol(r'\\dot{\\varepsilon}', codename='dot_eps')\n",
    "dot_phi_Eps_ = dot_phi_Sig_.subs(dict(zip(gsm_F.dot_Sig.as_explicit(), gsm_F.Sig_.as_explicit()))).subs(dict(zip(gsm_F.Eps.as_explicit(), gsm_F.dot_Eps.as_explicit())))\n",
    "dot_phi_Eps_"
   ]
  },
  {
   "cell_type": "code",
   "execution_count": null,
   "metadata": {},
   "outputs": [],
   "source": [
    "dot_phi_Eps_ = dot_phi_Eps_.subs(p1d.eps, dot_eps).subs(gsm_F.subs_Sig_Eps)\n",
    "dot_phi_Eps_"
   ]
  },
  {
   "cell_type": "code",
   "execution_count": null,
   "metadata": {},
   "outputs": [],
   "source": [
    "dot_phi_Eps_eps_e_ = dot_phi_Eps_.subs(subs_dot_eps)\n",
    "dot_phi_Eps_eps_e_"
   ]
  },
  {
   "cell_type": "code",
   "execution_count": null,
   "metadata": {},
   "outputs": [],
   "source": [
    "R_ = dLagrangian_dEps_.row_insert(dLagrangian_dEps_.shape[0], sp.Matrix([dot_phi_Eps_]))\n",
    "R_"
   ]
  },
  {
   "cell_type": "code",
   "execution_count": null,
   "metadata": {},
   "outputs": [],
   "source": [
    "A_ = gsm_F.Eps.as_explicit().row_insert(gsm_F.Eps.shape[0], sp.Matrix([[dot_lam]]))\n",
    "dot_A_ = gsm_F.dot_Eps.as_explicit().row_insert(gsm_F.Eps.shape[0], sp.Matrix([[dot_lam]]))\n",
    "dot_A_"
   ]
  },
  {
   "cell_type": "code",
   "execution_count": null,
   "metadata": {},
   "outputs": [],
   "source": [
    "dR_dA_ = sp.Matrix([[R_[i, 0].diff(dot_A_[j, 0]) for j in range(dot_A_.shape[0])] for i in range(R_.shape[0])])\n",
    "dR_dA_"
   ]
  },
  {
   "cell_type": "code",
   "execution_count": null,
   "metadata": {},
   "outputs": [],
   "source": []
  }
 ],
 "metadata": {
  "kernelspec": {
   "display_name": "bmcs_env2",
   "language": "python",
   "name": "python3"
  },
  "language_info": {
   "codemirror_mode": {
    "name": "ipython",
    "version": 3
   },
   "file_extension": ".py",
   "mimetype": "text/x-python",
   "name": "python",
   "nbconvert_exporter": "python",
   "pygments_lexer": "ipython3"
  }
 },
 "nbformat": 4,
 "nbformat_minor": 2
}
