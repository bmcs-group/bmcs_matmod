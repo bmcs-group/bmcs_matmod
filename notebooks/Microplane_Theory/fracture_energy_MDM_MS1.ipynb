{
 "cells": [
  {
   "cell_type": "markdown",
   "id": "7fe163db-9193-44c1-9033-f79a48775c99",
   "metadata": {},
   "source": [
    "# **Calibration MS1 and MDM for fitting energy dissipation for a given size mesh**"
   ]
  },
  {
   "cell_type": "markdown",
   "id": "a1af772b-a50e-4b71-873e-6713eda2ec74",
   "metadata": {},
   "source": [
    "Test the elementary load cases - tension, compression and sliding"
   ]
  },
  {
   "cell_type": "code",
   "execution_count": null,
   "id": "d7b4549e-c36b-4c4c-96d2-8a71c0b9aae8",
   "metadata": {},
   "outputs": [],
   "source": [
    "%matplotlib widget\n",
    "import numpy as np\n",
    "np.seterr(divide='ignore', invalid='ignore') \n",
    "import matplotlib.pylab as plt\n",
    "from ibvpy.bcond import BCSlice, BCDof\n",
    "from ibvpy.fets import FETS3D8H\n",
    "from ibvpy.tmodel.mats3D import MATS3DElastic\n",
    "import bmcs_matmod.ms1.concrete_material_db as mp_db\n",
    "\n",
    "from ibvpy.tmodel.viz3d_scalar_field import \\\n",
    "    Vis3DStateField, Viz3DScalarField\n",
    "from ibvpy.tmodel.viz3d_tensor_field import \\\n",
    "    Vis3DTensorField, Viz3DTensorField\n",
    "from ibvpy.sim.tstep_bc import TStepBC\n",
    "from ibvpy.xmodel.xdomain_fe_grid import XDomainFEGrid\n",
    "from ibvpy.api import TStepBC, TFCyclicNonsymmetricConstant, TFBilinear\n",
    "from mayavi import mlab\n",
    "from bmcs_matmod.ms1 import MS13D\n",
    "from ibvpy.tmodel.mats3D.mats3D_microplane.vmats3D_mpl_d_eeq import \\\n",
    "    MATS3DMplDamageEEQ"
   ]
  },
  {
   "cell_type": "markdown",
   "id": "58b9d7aa-0541-4a36-86e9-49f2c2ef0670",
   "metadata": {
    "tags": []
   },
   "source": [
    "## MS1 calibration"
   ]
  },
  {
   "cell_type": "code",
   "execution_count": null,
   "id": "54c697cd-19ab-4aa9-9889-9a9d6f3d962e",
   "metadata": {
    "tags": []
   },
   "outputs": [],
   "source": [
    "#CAxisymm = dict(\n",
    "#    E = 40e+3,\n",
    "#    nu = 0.18,\n",
    "#    Ad = 500.0,\n",
    "#    eps_0 = 0.00001,\n",
    "#    K_N = 17000.,\n",
    "#    sigma_N_0 = 45.,\n",
    "#    gamma_N = 9000.,\n",
    "#    sigma_T_0 = 0.8,\n",
    "#    K_T = 100.0,\n",
    "#    gamma_T = 100,\n",
    "#    S_T = 0.00001,\n",
    "#    c_T = 1.6,\n",
    "#    r_T = 2.,\n",
    "#    m_T = 0.1,\n",
    "#    p_T = 1.\n",
    "#)\n",
    "\n",
    "#CAxisymm = dict(E = 40e+3,    \n",
    "#                nu = 0.18,    \n",
    "#                Ad = 500.0,    \n",
    "#                eps_0 = 0.00001,    \n",
    "#                K_N = 17000.,    \n",
    "#                sigma_N_0 = 45., \n",
    "#                gamma_N = 9000.,   \n",
    "#                sigma_T_0 = 3.0,   \n",
    "#                K_T = 200.0,  \n",
    "#                gamma_T = 5000,  \n",
    "#                S_T = 0.001,  \n",
    "#                c_T = 2.9, \n",
    "#                r_T = 2.,  \n",
    "#                m_T = 0.1, \n",
    "#                p_T = 1.)\n",
    "\n",
    "\n",
    "CAxisymm = dict(E = 40e+3, \n",
    "                nu = 0.18, \n",
    "                Ad = 500.0, \n",
    "                eps_0 = 0.00001,  \n",
    "                K_N = 17000.,   \n",
    "                sigma_N_0 = 45.,\n",
    "                gamma_N = 9000.,  \n",
    "                sigma_T_0 = 0.8, \n",
    "                K_T = 100.0, \n",
    "                gamma_T = 100,\n",
    "                S_T = 0.00001,   \n",
    "                c_T = 1.6, \n",
    "                r_T = 2.,   \n",
    "                m_T = 0.1, \n",
    "                p_T = 1.)\n"
   ]
  },
  {
   "cell_type": "markdown",
   "id": "ac85c687-2bed-436c-97c8-e85606185e12",
   "metadata": {
    "tags": []
   },
   "source": [
    "## Shear ligament"
   ]
  },
  {
   "cell_type": "code",
   "execution_count": null,
   "id": "c1873fef-b895-4de0-923a-2cceccb908b9",
   "metadata": {},
   "outputs": [],
   "source": [
    "size_x = 2\n",
    "size_y = 10\n",
    "size_z = 1\n",
    "n_e_x = 1\n",
    "n_e_y = 1\n",
    "n_e_x = 1\n",
    "\n",
    "xmodel = XDomainFEGrid(coord_min=(0, 0, 0),\n",
    "                       coord_max=(size_x ,size_y, size_z),\n",
    "                       shape=(n_e_x, n_e_y, n_e_x),\n",
    "                     integ_factor=1,\n",
    "                     fets=FETS3D8H())\n",
    "E = 34000\n",
    "\n",
    "m_inelastic = MS13D(**CAxisymm)\n",
    "m_elastic = MATS3DElastic(E=34000, nu=0.2)\n",
    "m = TStepBC(\n",
    "    domains=[(xmodel, m_inelastic),\n",
    "             ]\n",
    ")"
   ]
  },
  {
   "cell_type": "code",
   "execution_count": null,
   "id": "0356b72b-8990-490e-9933-7122a4ba5e42",
   "metadata": {},
   "outputs": [],
   "source": [
    "w_max = 0.1\n",
    "\n",
    "# Shear bc\n",
    "bc_l_x = BCSlice(slice=xmodel.mesh[0, :, :, 0, :, :],\n",
    "                  var='u', dims=[0,1,2], value=0.0)\n",
    "bc_r_x = BCSlice(slice=xmodel.mesh[-1, :, :, -1, :, :],\n",
    "                 var='u', dims=[1], value=w_max)\n",
    "bc_r_x_2 = BCSlice(slice=xmodel.mesh[-1, :, :, -1, :, :],\n",
    "                 var='u', dims=[0], value=0.0)"
   ]
  },
  {
   "cell_type": "code",
   "execution_count": null,
   "id": "5cadecc7-1006-48fd-aed7-92a4b6d02b90",
   "metadata": {},
   "outputs": [],
   "source": [
    "xmodel.mesh[:, :, :, :, :, 0].dofs"
   ]
  },
  {
   "cell_type": "code",
   "execution_count": null,
   "id": "80c68881-477d-42f2-b22f-797e4326710c",
   "metadata": {},
   "outputs": [],
   "source": [
    "bc1 = [bc_l_x, bc_r_x,bc_r_x_2]"
   ]
  },
  {
   "cell_type": "code",
   "execution_count": null,
   "id": "31928cbb-be4c-4c02-a6a1-05c808c478d0",
   "metadata": {},
   "outputs": [],
   "source": [
    "m.bc=bc1\n",
    "m.hist.vis_record = {\n",
    "#    'strain': Vis3DTensorField(var='eps_ab'),\n",
    "    'stress': Vis3DTensorField(var='sig_ab'),\n",
    "    #        'kinematic hardening': Vis3DStateField(var='z_a')\n",
    "}\n",
    "\n",
    "s = m.sim\n",
    "s.tloop.verbose = True\n",
    "s.tloop.k_max = 1000\n",
    "s.tline.step = 0.005\n",
    "# Accessing the following property - ensures serialization\n",
    "s.tstep.fe_domain.serialized_subdomains\n",
    "s.reset()\n",
    "s.run()"
   ]
  },
  {
   "cell_type": "code",
   "execution_count": null,
   "id": "66f31bb0-c71a-444c-9eb5-16d1150ef432",
   "metadata": {},
   "outputs": [],
   "source": [
    "U_last = m.hist.U_t[-1]\n",
    "F_last = m.hist.U_t[-1]\n",
    "U_t = np.average(m.hist.U_t[:, bc_r_x.dofs], axis=-1)\n",
    "F_t = np.sum(m.hist.F_t[:, bc_r_x.dofs], axis=-1)\n",
    "fig, (ax1,ax2) = plt.subplots(1, 2)\n",
    "ax1.plot(U_t, F_t)\n",
    "ax1.set_ylabel('Force [N]')\n",
    "ax1.set_xlabel('Displacement[mm]')\n",
    "ax2.plot(U_t/size_x, F_t/(size_y*size_z))\n",
    "ax2.set_ylabel('Stress [MPa]')\n",
    "ax2.set_xlabel('Strain[-]')\n",
    "G = np.trapz(F_t, x=U_t)/((size_z)*(size_y))*1000\n",
    "G2 = np.trapz(F_t/(size_y*size_z), x=U_t/size_x)\n",
    "print(G)\n",
    "print(G2)"
   ]
  },
  {
   "cell_type": "code",
   "execution_count": null,
   "id": "28244ecd-31d6-4472-b920-ecd6fba34a9c",
   "metadata": {},
   "outputs": [],
   "source": [
    "if True:\n",
    "    mlab.options.backend = 'envisage'\n",
    "    mlab.options.offscreen = False # 'envisage'\n",
    "    f_strain = mlab.figure()\n",
    "    scene = mlab.get_engine().scenes[-1]\n",
    "    scene.name = 'stress'\n",
    "    strain_viz = Viz3DTensorField(vis3d=m.hist['stress'])\n",
    "    strain_viz.setup()\n",
    "    strain_viz.warp_vector.filter.scale_factor = 0.1\n",
    "    strain_viz.plot(s.tstep.t_n)\n",
    "    mlab.show()"
   ]
  },
  {
   "cell_type": "markdown",
   "id": "a607e7a9-9c5e-4859-82d0-670b2d1f6943",
   "metadata": {},
   "source": [
    "## Tension ligament"
   ]
  },
  {
   "cell_type": "code",
   "execution_count": null,
   "id": "1c69aa1e-26ff-41b1-8a4a-92e10fea2d02",
   "metadata": {
    "tags": []
   },
   "outputs": [],
   "source": [
    "size_x = 2\n",
    "size_y = 10\n",
    "size_z = 1\n",
    "n_e_x = 1\n",
    "n_e_y = 1\n",
    "n_e_x = 1\n",
    "\n",
    "xmodel = XDomainFEGrid(coord_min=(0, 0, 0),\n",
    "                       coord_max=(size_x ,size_y, size_z),\n",
    "                       shape=(n_e_x, n_e_y, n_e_x),\n",
    "                     integ_factor=1,\n",
    "                     fets=FETS3D8H())\n",
    "E = 34000\n",
    "\n",
    "m_inelastic = MS13D(**CAxisymm)\n",
    "m_elastic = MATS3DElastic(E=34000, nu=0.2)\n",
    "m = TStepBC(\n",
    "    domains=[(xmodel, m_inelastic),\n",
    "             ]\n",
    ")"
   ]
  },
  {
   "cell_type": "code",
   "execution_count": null,
   "id": "3441d305-2e4d-47e5-9354-0369f3be1b72",
   "metadata": {},
   "outputs": [],
   "source": [
    "w_max = 0.01 * size_x\n",
    "\n",
    "# Tension bc\n",
    "bc_l_x = BCSlice(slice=xmodel.mesh[0, :, :, 0, :, :],\n",
    "                  var='u', dims=[0], value=0.0)\n",
    "bc_r_x = BCSlice(slice=xmodel.mesh[-1, :, :, -1, :, :],\n",
    "                 var='u', dims=[0], value=w_max)\n",
    "bc_r_y = BCSlice(slice=xmodel.mesh[-1, :, :, -1, :, :],\n",
    "                 var='u', dims=[1], value=w_max)\n",
    "bc_xy_z0 = BCSlice(slice=xmodel.mesh[:, :, 0, :, :, 0],\n",
    "                  var='u', dims=[2], value=0)\n",
    "bc_xz_y0 = BCSlice(slice=xmodel.mesh[:, 0, :, :, 0, :],\n",
    "                 var='u', dims=[1], value=0)"
   ]
  },
  {
   "cell_type": "code",
   "execution_count": null,
   "id": "6fc51bc5-d017-4159-b314-0ebb0fbb1244",
   "metadata": {},
   "outputs": [],
   "source": [
    "bc1 = [bc_l_x, bc_r_x, bc_xy_z0, bc_xz_y0]"
   ]
  },
  {
   "cell_type": "code",
   "execution_count": null,
   "id": "8f82d59d-6086-4e8d-a3f1-888760fb57ef",
   "metadata": {},
   "outputs": [],
   "source": [
    "m.bc=bc1\n",
    "m.hist.vis_record = {\n",
    "#    'strain': Vis3DTensorField(var='eps_ab'),\n",
    "    'stress': Vis3DTensorField(var='sig_ab'),\n",
    "    #        'kinematic hardening': Vis3DStateField(var='z_a')\n",
    "}\n",
    "\n",
    "s = m.sim\n",
    "s.tloop.verbose = False\n",
    "s.tloop.k_max = 1000\n",
    "s.tline.step = 0.01\n",
    "# Accessing the following property - ensures serialization\n",
    "s.tstep.fe_domain.serialized_subdomains\n",
    "s.reset()\n",
    "s.run()"
   ]
  },
  {
   "cell_type": "code",
   "execution_count": null,
   "id": "d56ee948-9c9e-4625-b179-b3ad0c1e6e5b",
   "metadata": {},
   "outputs": [],
   "source": [
    "U_last = m.hist.U_t[-1]\n",
    "F_last = m.hist.U_t[-1]\n",
    "U_t = np.average(m.hist.U_t[:, bc_r_x.dofs], axis=-1)\n",
    "U_t_y = np.average(m.hist.U_t[:, bc_r_y.dofs], axis=-1)\n",
    "F_t = np.sum(m.hist.F_t[:, bc_r_x.dofs], axis=-1)\n",
    "fig, (ax1, ax2, ax3) = plt.subplots(1, 3)\n",
    "ax1.plot(U_t, F_t)\n",
    "# ax1.plot(U_t_y, F_t)\n",
    "ax2.plot(U_t/size_x, F_t/(size_y*size_z))\n",
    "ax3.plot(U_t, U_t_y)\n",
    "G = np.trapz(F_t, x=U_t)\n",
    "G2 = np.trapz(F_t/(size_y*size_z), x=U_t/size_x)\n",
    "print(G/((size_z)*(size_y))*1000)\n",
    "print(G2)"
   ]
  },
  {
   "cell_type": "code",
   "execution_count": null,
   "id": "891c9e49-6522-4eae-8fac-4f8659405677",
   "metadata": {},
   "outputs": [],
   "source": [
    "if False:\n",
    "    mlab.options.backend = 'envisage'\n",
    "    mlab.options.offscreen = False # 'envisage'\n",
    "    f_strain = mlab.figure()\n",
    "    scene = mlab.get_engine().scenes[-1]\n",
    "    scene.name = 'stress'\n",
    "    strain_viz = Viz3DTensorField(vis3d=m.hist['stress'])\n",
    "    strain_viz.setup()\n",
    "    strain_viz.warp_vector.filter.scale_factor = 0.1\n",
    "    strain_viz.plot(s.tstep.t_n)\n",
    "    mlab.show()"
   ]
  },
  {
   "cell_type": "code",
   "execution_count": null,
   "id": "524804f9-5ac5-46bf-9adc-c57919299642",
   "metadata": {},
   "outputs": [],
   "source": [
    "# eps_Emab = xmodel.map_U_to_field(U_t[-1])\n",
    "# m.fe_domain[0].state_k\n",
    "# m_inelastic.get_corr_pred(eps_Emab, 1, **m.fe_domain[2].state_k)"
   ]
  },
  {
   "cell_type": "markdown",
   "id": "7401f732-dadf-404f-8756-2cdbe1e0383f",
   "metadata": {},
   "source": [
    "## Tension bulk circumferential direction"
   ]
  },
  {
   "cell_type": "code",
   "execution_count": null,
   "id": "292f63fb-f3b0-48aa-97d6-5e3aae8a025e",
   "metadata": {
    "tags": []
   },
   "outputs": [],
   "source": [
    "size_x = 1\n",
    "size_y = 10\n",
    "size_z = 12.5\n",
    "n_e_x = 1\n",
    "n_e_y = 1\n",
    "n_e_x = 1\n",
    "\n",
    "xmodel = XDomainFEGrid(coord_min=(0, 0, 0),\n",
    "                       coord_max=(size_x ,size_y, size_z),\n",
    "                       shape=(n_e_x, n_e_y, n_e_x),\n",
    "                     integ_factor=1,\n",
    "                     fets=FETS3D8H())\n",
    "E = 34000\n",
    "\n",
    "m_inelastic = MS13D(**CAxisymm)\n",
    "m_elastic = MATS3DElastic(E=34000, nu=0.2)\n",
    "m = TStepBC(\n",
    "    domains=[(xmodel, m_inelastic),\n",
    "             ]\n",
    ")"
   ]
  },
  {
   "cell_type": "code",
   "execution_count": null,
   "id": "e519f73a-3c9f-4587-80d4-801d6cd031f6",
   "metadata": {},
   "outputs": [],
   "source": [
    "w_max = 0.01 * size_x\n",
    "\n",
    "# Tension bc\n",
    "bc_l_x = BCSlice(slice=xmodel.mesh[0, :, :, 0, :, :],\n",
    "                  var='u', dims=[0], value=0.0)\n",
    "bc_r_x = BCSlice(slice=xmodel.mesh[-1, :, :, -1, :, :],\n",
    "                 var='u', dims=[0], value=w_max)\n",
    "bc_r_y = BCSlice(slice=xmodel.mesh[-1, :, :, -1, :, :],\n",
    "                 var='u', dims=[1], value=w_max)\n",
    "bc_xy_z0 = BCSlice(slice=xmodel.mesh[:, :, 0, :, :, 0],\n",
    "                  var='u', dims=[2], value=0)\n",
    "bc_xz_y0 = BCSlice(slice=xmodel.mesh[:, 0, :, :, 0, :],\n",
    "                 var='u', dims=[1], value=0)"
   ]
  },
  {
   "cell_type": "code",
   "execution_count": null,
   "id": "c205e2c8-094b-4278-a7de-886498798c28",
   "metadata": {},
   "outputs": [],
   "source": [
    "bc1 = [bc_l_x, bc_r_x, bc_xy_z0, bc_xz_y0]"
   ]
  },
  {
   "cell_type": "code",
   "execution_count": null,
   "id": "749bc945-25a3-40ee-adc5-fd47d3f5c754",
   "metadata": {},
   "outputs": [],
   "source": [
    "m.bc=bc1\n",
    "m.hist.vis_record = {\n",
    "#    'strain': Vis3DTensorField(var='eps_ab'),\n",
    "    'stress': Vis3DTensorField(var='sig_ab'),\n",
    "    #        'kinematic hardening': Vis3DStateField(var='z_a')\n",
    "}\n",
    "\n",
    "s = m.sim\n",
    "s.tloop.verbose = False\n",
    "s.tloop.k_max = 1000\n",
    "s.tline.step = 0.01\n",
    "# Accessing the following property - ensures serialization\n",
    "s.tstep.fe_domain.serialized_subdomains\n",
    "s.reset()\n",
    "s.run()"
   ]
  },
  {
   "cell_type": "code",
   "execution_count": null,
   "id": "19079828-3f25-41c6-87ef-f054f3eb4265",
   "metadata": {},
   "outputs": [],
   "source": [
    "U_last = m.hist.U_t[-1]\n",
    "F_last = m.hist.U_t[-1]\n",
    "U_t = np.average(m.hist.U_t[:, bc_r_x.dofs], axis=-1)\n",
    "U_t_y = np.average(m.hist.U_t[:, bc_r_y.dofs], axis=-1)\n",
    "F_t = np.sum(m.hist.F_t[:, bc_r_x.dofs], axis=-1)\n",
    "fig, (ax1, ax2, ax3) = plt.subplots(1, 3)\n",
    "ax1.plot(U_t, F_t)\n",
    "# ax1.plot(U_t_y, F_t)\n",
    "ax2.plot(U_t/size_x, F_t/(size_y*size_z))\n",
    "ax3.plot(U_t, U_t_y)\n",
    "G = np.trapz(F_t, x=U_t)/((size_z)*(size_y))*1000\n",
    "G2 = np.trapz(F_t/(size_y*size_z), x=U_t/size_x)\n",
    "print(G)\n",
    "print(G2)"
   ]
  },
  {
   "cell_type": "code",
   "execution_count": null,
   "id": "ae67c79b-5d9e-4e79-824c-fabc4c295de4",
   "metadata": {},
   "outputs": [],
   "source": [
    "if True:\n",
    "    mlab.options.backend = 'envisage'\n",
    "    mlab.options.offscreen = False # 'envisage'\n",
    "    f_strain = mlab.figure()\n",
    "    scene = mlab.get_engine().scenes[-1]\n",
    "    scene.name = 'stress'\n",
    "    strain_viz = Viz3DTensorField(vis3d=m.hist['stress'])\n",
    "    strain_viz.setup()\n",
    "    strain_viz.warp_vector.filter.scale_factor = 0.1\n",
    "    strain_viz.plot(s.tstep.t_n)\n",
    "    mlab.show()"
   ]
  },
  {
   "cell_type": "code",
   "execution_count": null,
   "id": "0390d6ea-d701-45f2-8c54-9988a9de8a3a",
   "metadata": {},
   "outputs": [],
   "source": [
    "# eps_Emab = xmodel.map_U_to_field(U_t[-1])\n",
    "# m.fe_domain[0].state_k\n",
    "# m_inelastic.get_corr_pred(eps_Emab, 1, **m.fe_domain[2].state_k)"
   ]
  },
  {
   "cell_type": "markdown",
   "id": "1c175784-0ae5-44d9-9055-f5e129d43794",
   "metadata": {},
   "source": [
    "## Tension bulk radial direction"
   ]
  },
  {
   "cell_type": "code",
   "execution_count": null,
   "id": "1495f272-43bc-418e-a56d-4e7edcdf654a",
   "metadata": {
    "tags": []
   },
   "outputs": [],
   "source": [
    "size_x = 12.5\n",
    "size_y = 1\n",
    "size_z = 10\n",
    "n_e_x = 1\n",
    "n_e_y = 1\n",
    "n_e_x = 1\n",
    "\n",
    "xmodel = XDomainFEGrid(coord_min=(0, 0, 0),\n",
    "                       coord_max=(size_x ,size_y, size_z),\n",
    "                       shape=(n_e_x, n_e_y, n_e_x),\n",
    "                     integ_factor=1,\n",
    "                     fets=FETS3D8H())\n",
    "E = 34000\n",
    "\n",
    "m_inelastic = MS13D(**CAxisymm)\n",
    "m_elastic = MATS3DElastic(E=34000, nu=0.2)\n",
    "m = TStepBC(\n",
    "    domains=[(xmodel, m_inelastic),\n",
    "             ]\n",
    ")"
   ]
  },
  {
   "cell_type": "code",
   "execution_count": null,
   "id": "1c0cc2a2-6bf8-4aa0-948b-2274c1d673d9",
   "metadata": {},
   "outputs": [],
   "source": [
    "w_max = 0.01 * size_x\n",
    "\n",
    "# Tension bc\n",
    "bc_l_x = BCSlice(slice=xmodel.mesh[0, :, :, 0, :, :],\n",
    "                  var='u', dims=[0], value=0.0)\n",
    "bc_r_x = BCSlice(slice=xmodel.mesh[-1, :, :, -1, :, :],\n",
    "                 var='u', dims=[0], value=w_max)\n",
    "bc_r_y = BCSlice(slice=xmodel.mesh[-1, :, :, -1, :, :],\n",
    "                 var='u', dims=[1], value=w_max)\n",
    "bc_xy_z0 = BCSlice(slice=xmodel.mesh[:, :, 0, :, :, 0],\n",
    "                  var='u', dims=[2], value=0)\n",
    "bc_xz_y0 = BCSlice(slice=xmodel.mesh[:, 0, :, :, 0, :],\n",
    "                 var='u', dims=[1], value=0)"
   ]
  },
  {
   "cell_type": "code",
   "execution_count": null,
   "id": "b88e24c3-b0bd-4ec9-98d9-1eaf81ef49ff",
   "metadata": {},
   "outputs": [],
   "source": [
    "bc1 = [bc_l_x, bc_r_x, bc_xy_z0, bc_xz_y0]"
   ]
  },
  {
   "cell_type": "code",
   "execution_count": null,
   "id": "fe36e83d-adab-48ef-92ae-1d44283f96b4",
   "metadata": {},
   "outputs": [],
   "source": [
    "m.bc=bc1\n",
    "m.hist.vis_record = {\n",
    "#    'strain': Vis3DTensorField(var='eps_ab'),\n",
    "    'stress': Vis3DTensorField(var='sig_ab'),\n",
    "    #        'kinematic hardening': Vis3DStateField(var='z_a')\n",
    "}\n",
    "\n",
    "s = m.sim\n",
    "s.tloop.verbose = False\n",
    "s.tloop.k_max = 1000\n",
    "s.tline.step = 0.01\n",
    "# Accessing the following property - ensures serialization\n",
    "s.tstep.fe_domain.serialized_subdomains\n",
    "s.reset()\n",
    "s.run()"
   ]
  },
  {
   "cell_type": "code",
   "execution_count": null,
   "id": "c3a12119-a286-442d-b913-4040baaf637c",
   "metadata": {},
   "outputs": [],
   "source": [
    "U_last = m.hist.U_t[-1]\n",
    "F_last = m.hist.U_t[-1]\n",
    "U_t = np.average(m.hist.U_t[:, bc_r_x.dofs], axis=-1)\n",
    "U_t_y = np.average(m.hist.U_t[:, bc_r_y.dofs], axis=-1)\n",
    "F_t = np.sum(m.hist.F_t[:, bc_r_x.dofs], axis=-1)\n",
    "fig, (ax1, ax2, ax3) = plt.subplots(1, 3)\n",
    "ax1.plot(U_t, F_t)\n",
    "# ax1.plot(U_t_y, F_t)\n",
    "ax2.plot(U_t/size_x, F_t/(size_y*size_z))\n",
    "ax3.plot(U_t, U_t_y)\n",
    "G = np.trapz(F_t, x=U_t)/((size_z)*(size_y))*1000\n",
    "G2 = np.trapz(F_t/(size_y*size_z), x=U_t/size_x)\n",
    "print(G)\n",
    "print(G2)"
   ]
  },
  {
   "cell_type": "code",
   "execution_count": null,
   "id": "15fb3ccb-2802-485e-b756-dbf68e44509d",
   "metadata": {},
   "outputs": [],
   "source": [
    "if True:\n",
    "    mlab.options.backend = 'envisage'\n",
    "    mlab.options.offscreen = False # 'envisage'\n",
    "    f_strain = mlab.figure()\n",
    "    scene = mlab.get_engine().scenes[-1]\n",
    "    scene.name = 'stress'\n",
    "    strain_viz = Viz3DTensorField(vis3d=m.hist['stress'])\n",
    "    strain_viz.setup()\n",
    "    strain_viz.warp_vector.filter.scale_factor = 0.1\n",
    "    strain_viz.plot(s.tstep.t_n)\n",
    "    mlab.show()"
   ]
  },
  {
   "cell_type": "code",
   "execution_count": null,
   "id": "9f6d81cf-c79b-441a-a4b9-c84ef0f0473f",
   "metadata": {},
   "outputs": [],
   "source": [
    "# eps_Emab = xmodel.map_U_to_field(U_t[-1])\n",
    "# m.fe_domain[0].state_k\n",
    "# m_inelastic.get_corr_pred(eps_Emab, 1, **m.fe_domain[2].state_k)"
   ]
  },
  {
   "cell_type": "markdown",
   "id": "48ab3300-33b6-4ade-8438-29902ca77ca9",
   "metadata": {
    "tags": []
   },
   "source": [
    "## Compression dc"
   ]
  },
  {
   "cell_type": "code",
   "execution_count": null,
   "id": "7c6cf7e7-467a-4b3f-839d-d056af407b08",
   "metadata": {},
   "outputs": [],
   "source": [
    "size_x = 2\n",
    "size_y = 20\n",
    "size_z = 1\n",
    "n_e_x = 1\n",
    "n_e_y = 2\n",
    "n_e_x = 1\n",
    "\n",
    "xmodel = XDomainFEGrid(coord_min=(0, 0, 0),\n",
    "                       coord_max=(size_x ,size_y, size_z),\n",
    "                       shape=(n_e_x, n_e_y, n_e_x),\n",
    "                     integ_factor=1,\n",
    "                     fets=FETS3D8H())\n",
    "E = 34000\n",
    "\n",
    "m_inelastic = MS13D(**CAxisymm)\n",
    "m_elastic = MATS3DElastic(E=34000, nu=0.2)\n",
    "m = TStepBC(\n",
    "    domains=[(xmodel, m_inelastic),\n",
    "             ]\n",
    ")"
   ]
  },
  {
   "cell_type": "code",
   "execution_count": null,
   "id": "707de95c-90c0-4d58-ba62-2f3233b2e491",
   "metadata": {},
   "outputs": [],
   "source": [
    "w_max = -0.01 * size_x \n",
    "\n",
    "# Tension bc\n",
    "bc_l_x = BCSlice(slice=xmodel.mesh[0, :, :, 0, :, :],\n",
    "                  var='u', dims=[0], value=0.0)\n",
    "bc_r_x = BCSlice(slice=xmodel.mesh[-1, :, :, -1, :, :],\n",
    "                 var='u', dims=[0], value=w_max)\n",
    "bc_xy_z0 = BCSlice(slice=xmodel.mesh[:, :, 0, :, :, 0],\n",
    "                  var='u', dims=[2], value=0)\n",
    "bc_xz_y0 = BCSlice(slice=xmodel.mesh[:, 0, :, :, 0, :],\n",
    "                 var='u', dims=[1], value=0)"
   ]
  },
  {
   "cell_type": "code",
   "execution_count": null,
   "id": "8f594b35-d94f-4306-b8c9-dca00d853c80",
   "metadata": {},
   "outputs": [],
   "source": [
    "xmodel.mesh[:, :, :, :, :, 0].dofs"
   ]
  },
  {
   "cell_type": "code",
   "execution_count": null,
   "id": "765d8399-4c49-4d27-9750-12b872f1a87a",
   "metadata": {},
   "outputs": [],
   "source": [
    "bc1 = [bc_l_x, bc_r_x, bc_xy_z0, bc_xz_y0]"
   ]
  },
  {
   "cell_type": "code",
   "execution_count": null,
   "id": "1a3283cd-8bdc-4d9f-be64-617b39c34eb7",
   "metadata": {},
   "outputs": [],
   "source": [
    "m.bc=bc1\n",
    "m.hist.vis_record = {\n",
    "#    'strain': Vis3DTensorField(var='eps_ab'),\n",
    "    'stress': Vis3DTensorField(var='sig_ab'),\n",
    "    #        'kinematic hardening': Vis3DStateField(var='z_a')\n",
    "}\n",
    "\n",
    "s = m.sim\n",
    "s.tloop.verbose = True\n",
    "s.tloop.k_max = 1000\n",
    "s.tline.step = 0.01\n",
    "# Accessing the following property - ensures serialization\n",
    "s.tstep.fe_domain.serialized_subdomains\n",
    "s.reset()\n",
    "s.run()"
   ]
  },
  {
   "cell_type": "code",
   "execution_count": null,
   "id": "f7f9679e-99c6-463d-8538-48d30dc651a2",
   "metadata": {},
   "outputs": [],
   "source": [
    "U_last = m.hist.U_t[-1]\n",
    "F_last = m.hist.U_t[-1]\n",
    "U_t = np.average(m.hist.U_t[:, bc_r_x.dofs], axis=-1)\n",
    "F_t = np.sum(m.hist.F_t[:, bc_r_x.dofs], axis=-1)\n",
    "fig, (ax1,ax2) = plt.subplots(1, 2)\n",
    "ax1.plot(-U_t, -F_t)\n",
    "ax2.plot(-U_t/size_x, -F_t/(size_y*size_z))\n",
    "G = np.trapz(F_t, x=U_t)\n",
    "print(G/((size_z)*(size_y))*1000)"
   ]
  },
  {
   "cell_type": "code",
   "execution_count": null,
   "id": "ef3c4c60-c73c-4189-9ed2-327ac5568fba",
   "metadata": {},
   "outputs": [],
   "source": [
    "if False:\n",
    "    mlab.options.backend = 'envisage'\n",
    "    mlab.options.offscreen = False # 'envisage'\n",
    "    f_strain = mlab.figure()\n",
    "    scene = mlab.get_engine().scenes[-1]\n",
    "    scene.name = 'stress'\n",
    "    strain_viz = Viz3DTensorField(vis3d=m.hist['stress'])\n",
    "    strain_viz.setup()\n",
    "    strain_viz.warp_vector.filter.scale_factor = 0.1\n",
    "    strain_viz.plot(s.tstep.t_n)\n",
    "    mlab.show()"
   ]
  },
  {
   "cell_type": "markdown",
   "id": "777c9726-cedd-4f71-9985-0bb1e68b5a20",
   "metadata": {},
   "source": [
    "## Shear dc + Compression fc"
   ]
  },
  {
   "cell_type": "code",
   "execution_count": null,
   "id": "4bde7680-6396-43af-8ec8-2a576977bdb9",
   "metadata": {},
   "outputs": [],
   "source": [
    "size_x = 2\n",
    "size_y = 20\n",
    "size_z = 1\n",
    "n_e_x = 1\n",
    "n_e_y = 2\n",
    "n_e_x = 1\n",
    "\n",
    "xmodel = XDomainFEGrid(coord_min=(0, 0, 0),\n",
    "                       coord_max=(size_x ,size_y, size_z),\n",
    "                       shape=(n_e_x, n_e_y, n_e_x),\n",
    "                     integ_factor=1,\n",
    "                     fets=FETS3D8H())\n",
    "E = 34000\n",
    "\n",
    "m_inelastic = MS13D(**CAxisymm)\n",
    "m_elastic = MATS3DElastic(E=34000, nu=0.2)\n",
    "m = TStepBC(\n",
    "    domains=[(xmodel, m_inelastic),\n",
    "             ]\n",
    ")"
   ]
  },
  {
   "cell_type": "code",
   "execution_count": null,
   "id": "583568c0-e39e-4e07-b8e3-b4197a032590",
   "metadata": {},
   "outputs": [],
   "source": [
    "tf_precrompression = TFBilinear(loading_ratio = 1.0, time_ratio=0.1)\n",
    "tf_sliding = TFBilinear(loading_ratio = 0.0, time_ratio=0.1)"
   ]
  },
  {
   "cell_type": "code",
   "execution_count": null,
   "id": "489fb3d5-6ee3-4aec-aad7-05f88a550c63",
   "metadata": {
    "tags": []
   },
   "outputs": [],
   "source": [
    "w_max = 0.05 \n",
    "\n",
    "# Shear bc\n",
    "bc_l_x = BCSlice(slice=xmodel.mesh[0, :, :, 0, :, :],\n",
    "                  var='u', dims=[0,1,2], value=0.0)\n",
    "\n",
    "slide_slice = BCSlice(slice=xmodel.mesh[-1, :, :, -1, :, :],\n",
    "                 var='u', dims=[1], value=w_max)\n",
    "slide_dofs = slide_slice.dofs\n",
    "slide = [BCDof(var='u', dof=dof, value=w_max , time_function=tf_sliding) \n",
    "                     for dof in slide_dofs ]\n",
    "\n",
    "\n",
    "compression_slice = BCSlice(slice=xmodel.mesh[-1, :, :, -1, :, :],\n",
    "                 var='u', dims=[0], value=-w_max/100)\n",
    "compression_dofs = compression_slice.dofs\n",
    "compression_force = -1 * (size_y*size_z) / len(compression_dofs)\n",
    "compression_force_first = [BCDof(var='f', dof=dof, value=compression_force, time_function=tf_precrompression) \n",
    "                                 for dof in compression_dofs ]\n"
   ]
  },
  {
   "cell_type": "code",
   "execution_count": null,
   "id": "f83009f7-7259-4392-bf56-05354f113eba",
   "metadata": {},
   "outputs": [],
   "source": [
    "bc1 = [bc_l_x]  + slide + compression_force_first"
   ]
  },
  {
   "cell_type": "code",
   "execution_count": null,
   "id": "8495dd42-24d1-4fe9-affa-806244ec178c",
   "metadata": {},
   "outputs": [],
   "source": [
    "m.bc=bc1\n",
    "m.hist.vis_record = {\n",
    "#    'strain': Vis3DTensorField(var='eps_ab'),\n",
    "    'stress': Vis3DTensorField(var='sig_ab'),\n",
    "    #        'kinematic hardening': Vis3DStateField(var='z_a')\n",
    "}\n",
    "\n",
    "s = m.sim\n",
    "s.tloop.verbose = True\n",
    "s.tloop.k_max = 1000\n",
    "s.tline.step = 0.05\n",
    "# Accessing the following property - ensures serialization\n",
    "s.tstep.fe_domain.serialized_subdomains\n",
    "s.reset()\n",
    "s.run()"
   ]
  },
  {
   "cell_type": "code",
   "execution_count": null,
   "id": "6e2438be-841f-4011-ac6d-126e02bba287",
   "metadata": {},
   "outputs": [],
   "source": [
    "U_last = m.hist.U_t[-1]\n",
    "F_last = m.hist.U_t[-1]\n",
    "U_t = np.average(m.hist.U_t[:, slide_dofs], axis=-1)\n",
    "F_t = np.sum(m.hist.F_t[:, slide_dofs], axis=-1)\n",
    "F_t_c = np.sum(m.hist.F_t[:, compression_dofs], axis=-1)\n",
    "fig, ax = plt.subplots(1, 1)\n",
    "ax.plot(U_t, F_t)\n",
    "ax.plot(U_t, F_t_c)"
   ]
  },
  {
   "cell_type": "code",
   "execution_count": null,
   "id": "35012a31-f6d5-4712-a1b6-37b288642356",
   "metadata": {},
   "outputs": [],
   "source": [
    "if True:\n",
    "    mlab.options.backend = 'envisage'\n",
    "    mlab.options.offscreen = False # 'envisage'\n",
    "    f_strain = mlab.figure()\n",
    "    scene = mlab.get_engine().scenes[-1]\n",
    "    scene.name = 'stress'\n",
    "    strain_viz = Viz3DTensorField(vis3d=m.hist['stress'])\n",
    "    strain_viz.setup()\n",
    "    strain_viz.warp_vector.filter.scale_factor = 0.1\n",
    "    strain_viz.plot(s.tstep.t_n)\n",
    "    mlab.show()"
   ]
  },
  {
   "cell_type": "markdown",
   "id": "ba100a01-94a4-46c2-b391-f49d51dde0d3",
   "metadata": {},
   "source": [
    "## MDM calibration"
   ]
  },
  {
   "cell_type": "code",
   "execution_count": null,
   "id": "83314282-9ef2-4e9a-a6ae-d3094d82b13a",
   "metadata": {},
   "outputs": [],
   "source": [
    "from traits.api import \\\n",
    "    Constant, \\\n",
    "    Float, Property, cached_property\n",
    "\n",
    "class PhiFnStrainSoftening():\n",
    "\n",
    "    '''\n",
    "    Damage function.\n",
    "    '''\n",
    "\n",
    "\n",
    "    G_f = Float(0.035,\n",
    "                label='G_f',\n",
    "                desc='fracture energy',\n",
    "                auto_set=False, enter_set=True)\n",
    "    f_t = Float(16,\n",
    "                label='f_t',\n",
    "                desc='tensile strength',\n",
    "                auto_set=False, enter_set=True)\n",
    "    md = Float(0.0,\n",
    "               label='md',\n",
    "               desc='factor affecting the compresive strength (explain more precisely)',\n",
    "               auto_set=False, enter_set=True)\n",
    "    h = Float(20.0,\n",
    "              label='h',\n",
    "              desc='element size to norm the fracture energy',\n",
    "              auto_set=False, enter_set=True)\n",
    "    E = Float(40000.0,\n",
    "              label='h',\n",
    "              desc='element size to norm the fracture energy',\n",
    "              auto_set=False, enter_set=True)\n",
    "\n",
    "    Epp = Float(\n",
    "        desc='strain at the onset of damage', enter_set=True, auto_set=False)\n",
    "    Efp = Float(desc='strain at total damaged', enter_set=True, auto_set=False)\n",
    "\n",
    "    def fit_microplane_params(self):\n",
    "        '''\n",
    "        Calculate the parameters of the damage function\n",
    "        '''\n",
    "\n",
    "        E = self.E\n",
    "        G_f = self.G_f\n",
    "        f_t = self.f_t\n",
    "        md = self.md\n",
    "        h = self.h\n",
    "\n",
    "        gamma = (E * G_f) / (h * f_t ** 2)\n",
    "        if gamma < 2.0:\n",
    "            print ('WARNING: elements too big -> refine, h should be at maximum only half of the characteristic length')\n",
    "            print ('in FIT PARAMS: gamma set to 2.0')\n",
    "            gamma = 2.0\n",
    "\n",
    "        Epp = f_t / \\\n",
    "            ((E * (1 - md) ** 2) * (1.95 - 0.95 / (gamma - 1) ** (0.5)))\n",
    "        Efp = (G_f / ((1 - md) * h * E * Epp) +\n",
    "               (2.13 - 1.13 * md) * Epp) / (2.73 - md) - Epp\n",
    "        self.Epp = Epp\n",
    "        self.Efp = Efp"
   ]
  },
  {
   "cell_type": "code",
   "execution_count": null,
   "id": "164128d1-89d3-4863-987f-065205b3f5fc",
   "metadata": {},
   "outputs": [],
   "source": [
    "# CAxisymmMDM = dict(\n",
    "#     epsilon_0 = 200.0e-6,\n",
    "#     epsilon_f = 2000.0e-6,\n",
    "#     c_T = 0.02,\n",
    "#     E = 42000,\n",
    "#     nu = 0.18\n",
    "# )\n",
    "\n",
    "CAxisymmMDM = dict(\n",
    "    epsilon_0 = 59.0e-6,\n",
    "    epsilon_f = 250.0e-6,\n",
    "    c_T = 0.02,\n",
    "    E = 42000,\n",
    "    nu = 0.18\n",
    ")\n"
   ]
  },
  {
   "cell_type": "code",
   "execution_count": null,
   "id": "939d0ee9-3d58-4925-b2d8-6ae118c78762",
   "metadata": {},
   "outputs": [],
   "source": [
    "CAxisymm = dict(\n",
    "    E = 42e+3,\n",
    "    nu = 0.2,\n",
    "    Ad = 300.0,\n",
    "    eps_0 = 0.00001,\n",
    "    K_N = 17000.,\n",
    "    sigma_N_0 = 45.,\n",
    "    gamma_N = 9000.,\n",
    "    sigma_T_0 = 3.0,\n",
    "    K_T = 20000.0,\n",
    "    gamma_T = 50000,\n",
    "    S_T = 0.000075,\n",
    "    c_T = 2.,\n",
    "    r_T = 2.,\n",
    "    m_T = 0.1,\n",
    "    p_T = 1.\n",
    ")"
   ]
  },
  {
   "cell_type": "markdown",
   "id": "4d98b7be-a348-42c9-9108-5098c522063c",
   "metadata": {},
   "source": [
    "## Tension bulk circumferential direction"
   ]
  },
  {
   "cell_type": "code",
   "execution_count": null,
   "id": "4cf92ce1-281d-456a-bdca-178411917089",
   "metadata": {},
   "outputs": [],
   "source": [
    "size_x = 1\n",
    "size_y = 10\n",
    "size_z = 12.5\n",
    "n_e_x = 1\n",
    "n_e_y = 1\n",
    "n_e_x = 1\n",
    "\n",
    "xmodel = XDomainFEGrid(coord_min=(0, 0, 0),\n",
    "                       coord_max=(size_x ,size_y, size_z),\n",
    "                       shape=(n_e_x, n_e_y, n_e_x),\n",
    "                     integ_factor=1,\n",
    "                     fets=FETS3D8H())\n",
    "E = 34000\n",
    "\n",
    "m_inelastic = MATS3DMplDamageEEQ(**CAxisymmMDM)\n",
    "# m_inelastic = MS13D(**CAxisymm)\n",
    "\n",
    "m_elastic = MATS3DElastic(E=34000, nu=0.2)\n",
    "m = TStepBC(\n",
    "    domains=[(xmodel, m_inelastic),\n",
    "             ]\n",
    ")"
   ]
  },
  {
   "cell_type": "code",
   "execution_count": null,
   "id": "0040901c-31fd-4244-a4b8-b5a29b5dc842",
   "metadata": {},
   "outputs": [],
   "source": [
    "w_max = 0.01 * size_x\n",
    "\n",
    "# Tension bc\n",
    "bc_l_x = BCSlice(slice=xmodel.mesh[0, :, :, 0, :, :],\n",
    "                  var='u', dims=[0], value=0.0)\n",
    "bc_r_x = BCSlice(slice=xmodel.mesh[-1, :, :, -1, :, :],\n",
    "                 var='u', dims=[0], value=w_max)\n",
    "bc_xy_z0 = BCSlice(slice=xmodel.mesh[:, :, 0, :, :, 0],\n",
    "                  var='u', dims=[2], value=0)\n",
    "bc_xz_y0 = BCSlice(slice=xmodel.mesh[:, 0, :, :, 0, :],\n",
    "                 var='u', dims=[1], value=0)"
   ]
  },
  {
   "cell_type": "code",
   "execution_count": null,
   "id": "8ff87d55-b253-443f-81ac-1c4505b5dea1",
   "metadata": {},
   "outputs": [],
   "source": [
    "bc1 = [bc_l_x, bc_r_x, bc_xy_z0, bc_xz_y0]"
   ]
  },
  {
   "cell_type": "code",
   "execution_count": null,
   "id": "eb5b4816-d776-44e5-82c4-44617e710c2c",
   "metadata": {},
   "outputs": [],
   "source": [
    "m.bc=bc1\n",
    "m.hist.vis_record = {\n",
    "#    'strain': Vis3DTensorField(var='eps_ab'),\n",
    "    'stress': Vis3DTensorField(var='sig_ab'),\n",
    "    #        'kinematic hardening': Vis3DStateField(var='z_a')\n",
    "}\n",
    "\n",
    "s = m.sim\n",
    "s.tloop.verbose = False\n",
    "s.tloop.k_max = 1000\n",
    "s.tline.step = 0.01\n",
    "# Accessing the following property - ensures serialization\n",
    "s.tstep.fe_domain.serialized_subdomains\n",
    "s.reset()\n",
    "s.run()"
   ]
  },
  {
   "cell_type": "code",
   "execution_count": null,
   "id": "66d63d84-3f36-48b7-a3fe-5030a8cc83f2",
   "metadata": {},
   "outputs": [],
   "source": [
    "U_last = m.hist.U_t[-1]\n",
    "F_last = m.hist.U_t[-1]\n",
    "U_t = np.average(m.hist.U_t[:, bc_r_x.dofs], axis=-1)\n",
    "F_t = np.sum(m.hist.F_t[:, bc_r_x.dofs], axis=-1)\n",
    "fig, (ax1, ax2) = plt.subplots(1, 2)\n",
    "ax1.plot(U_t, F_t)\n",
    "# ax1.plot(U_t_2, F_t_2)\n",
    "ax2.plot(U_t/size_x, F_t/(size_y*size_z))\n",
    "# ax2.plot(U_t_2/size_x, F_t_2/(size_y*size_z))\n",
    "G = np.trapz(F_t, x=U_t)\n",
    "G2 = np.trapz(F_t/(size_y*size_z), x=U_t/size_x)\n",
    "print(G/((size_z)*(size_y))*1000)\n",
    "print(G2)"
   ]
  },
  {
   "cell_type": "code",
   "execution_count": null,
   "id": "63037ddd-40a7-46d8-ac29-20868530f80f",
   "metadata": {},
   "outputs": [],
   "source": [
    "# m.hist.F_t[:, bc_r_x.dofs]\n",
    "# bc_r_x.dofs"
   ]
  },
  {
   "cell_type": "code",
   "execution_count": null,
   "id": "66b40d5a-b4e2-4635-ae67-4bc6fc38aa3b",
   "metadata": {},
   "outputs": [],
   "source": [
    "# eps_Emab = xmodel.map_U_to_field(U_last)\n",
    "# eps_Emab"
   ]
  },
  {
   "cell_type": "code",
   "execution_count": null,
   "id": "e63d19c9-59cf-498c-82af-88f2b708d540",
   "metadata": {},
   "outputs": [],
   "source": [
    "if False:\n",
    "    mlab.options.backend = 'envisage'\n",
    "    mlab.options.offscreen = False # 'envisage'\n",
    "    f_strain = mlab.figure()\n",
    "    scene = mlab.get_engine().scenes[-1]\n",
    "    scene.name = 'stress'\n",
    "    strain_viz = Viz3DTensorField(vis3d=m.hist['stress'])\n",
    "    strain_viz.setup()\n",
    "    strain_viz.warp_vector.filter.scale_factor = 0.1\n",
    "    strain_viz.plot(s.tstep.t_n)\n",
    "    mlab.show()"
   ]
  },
  {
   "cell_type": "code",
   "execution_count": null,
   "id": "718c775f-bcae-428d-b3f2-ea1aa88e1f84",
   "metadata": {
    "tags": []
   },
   "outputs": [],
   "source": [
    "# eps_Emab = xmodel.map_U_to_field(U_t[-1])\n",
    "m.fe_domain[0].state_k\n",
    "# m_inelastic.get_corr_pred(eps_Emab, 1, **m.fe_domain[2].state_k)"
   ]
  },
  {
   "cell_type": "markdown",
   "id": "430e8756-9e6b-4455-9f64-6aa5129af9a3",
   "metadata": {},
   "source": [
    "## Tension bulk radial direction"
   ]
  },
  {
   "cell_type": "code",
   "execution_count": null,
   "id": "09085b08-f145-4270-8958-01a98e05a21b",
   "metadata": {},
   "outputs": [],
   "source": [
    "size_x = 12.5\n",
    "size_y = 1\n",
    "size_z = 10\n",
    "n_e_x = 1\n",
    "n_e_y = 1\n",
    "n_e_x = 1\n",
    "\n",
    "xmodel = XDomainFEGrid(coord_min=(0, 0, 0),\n",
    "                       coord_max=(size_x ,size_y, size_z),\n",
    "                       shape=(n_e_x, n_e_y, n_e_x),\n",
    "                     integ_factor=1,\n",
    "                     fets=FETS3D8H())\n",
    "E = 34000\n",
    "\n",
    "m_inelastic = MATS3DMplDamageEEQ(**CAxisymmMDM)\n",
    "# m_inelastic = MS13D(**CAxisymm)\n",
    "\n",
    "m_elastic = MATS3DElastic(E=34000, nu=0.2)\n",
    "m = TStepBC(\n",
    "    domains=[(xmodel, m_inelastic),\n",
    "             ]\n",
    ")"
   ]
  },
  {
   "cell_type": "code",
   "execution_count": null,
   "id": "15b091e2-ad4a-4bd3-aa6e-d46af661f003",
   "metadata": {},
   "outputs": [],
   "source": [
    "w_max = 0.01 * size_x\n",
    "\n",
    "# Tension bc\n",
    "bc_l_x = BCSlice(slice=xmodel.mesh[0, :, :, 0, :, :],\n",
    "                  var='u', dims=[0], value=0.0)\n",
    "bc_r_x = BCSlice(slice=xmodel.mesh[-1, :, :, -1, :, :],\n",
    "                 var='u', dims=[0], value=w_max)\n",
    "bc_xy_z0 = BCSlice(slice=xmodel.mesh[:, :, 0, :, :, 0],\n",
    "                  var='u', dims=[2], value=0)\n",
    "bc_xz_y0 = BCSlice(slice=xmodel.mesh[:, 0, :, :, 0, :],\n",
    "                 var='u', dims=[1], value=0)"
   ]
  },
  {
   "cell_type": "code",
   "execution_count": null,
   "id": "c58c1955-7d82-4198-b53c-fd3a2eb2bfb0",
   "metadata": {},
   "outputs": [],
   "source": [
    "bc1 = [bc_l_x, bc_r_x, bc_xy_z0, bc_xz_y0]"
   ]
  },
  {
   "cell_type": "code",
   "execution_count": null,
   "id": "c3eddafb-b830-48fc-adcf-215c0b0f0531",
   "metadata": {},
   "outputs": [],
   "source": [
    "m.bc=bc1\n",
    "m.hist.vis_record = {\n",
    "#    'strain': Vis3DTensorField(var='eps_ab'),\n",
    "    'stress': Vis3DTensorField(var='sig_ab'),\n",
    "    #        'kinematic hardening': Vis3DStateField(var='z_a')\n",
    "}\n",
    "\n",
    "s = m.sim\n",
    "s.tloop.verbose = False\n",
    "s.tloop.k_max = 1000\n",
    "s.tline.step = 0.01\n",
    "# Accessing the following property - ensures serialization\n",
    "s.tstep.fe_domain.serialized_subdomains\n",
    "s.reset()\n",
    "s.run()"
   ]
  },
  {
   "cell_type": "code",
   "execution_count": null,
   "id": "bb701612-7075-4a0f-8d39-0be16415a90e",
   "metadata": {},
   "outputs": [],
   "source": [
    "U_last = m.hist.U_t[-1]\n",
    "F_last = m.hist.U_t[-1]\n",
    "U_t = np.average(m.hist.U_t[:, bc_r_x.dofs], axis=-1)\n",
    "F_t = np.sum(m.hist.F_t[:, bc_r_x.dofs], axis=-1)\n",
    "fig, (ax1, ax2) = plt.subplots(1, 2)\n",
    "ax1.plot(U_t, F_t)\n",
    "# ax1.plot(U_t_2, F_t_2)\n",
    "ax2.plot(U_t/size_x, F_t/(size_y*size_z))\n",
    "# ax2.plot(U_t_2/size_x, F_t_2/(size_y*size_z))\n",
    "G = np.trapz(F_t, x=U_t)\n",
    "G2 = np.trapz(F_t/(size_y*size_z), x=U_t/size_x)\n",
    "print(G/((size_z)*(size_y))*1000)\n",
    "print(G2)"
   ]
  },
  {
   "cell_type": "code",
   "execution_count": null,
   "id": "8831978d-5686-4ebb-a995-37211e06dc1e",
   "metadata": {},
   "outputs": [],
   "source": [
    "# m.hist.F_t[:, bc_r_x.dofs]\n",
    "# bc_r_x.dofs"
   ]
  },
  {
   "cell_type": "code",
   "execution_count": null,
   "id": "c41a0cd8-77aa-4fa6-b89f-1a43069301b1",
   "metadata": {},
   "outputs": [],
   "source": [
    "# eps_Emab = xmodel.map_U_to_field(U_last)\n",
    "# eps_Emab"
   ]
  },
  {
   "cell_type": "code",
   "execution_count": null,
   "id": "5efc8eec-f884-48c7-990c-37496d3f2fe8",
   "metadata": {},
   "outputs": [],
   "source": [
    "if False:\n",
    "    mlab.options.backend = 'envisage'\n",
    "    mlab.options.offscreen = False # 'envisage'\n",
    "    f_strain = mlab.figure()\n",
    "    scene = mlab.get_engine().scenes[-1]\n",
    "    scene.name = 'stress'\n",
    "    strain_viz = Viz3DTensorField(vis3d=m.hist['stress'])\n",
    "    strain_viz.setup()\n",
    "    strain_viz.warp_vector.filter.scale_factor = 0.1\n",
    "    strain_viz.plot(s.tstep.t_n)\n",
    "    mlab.show()"
   ]
  },
  {
   "cell_type": "code",
   "execution_count": null,
   "id": "0b28c8f7-3377-42a4-a876-ea7e69f8ff8c",
   "metadata": {
    "tags": []
   },
   "outputs": [],
   "source": [
    "# eps_Emab = xmodel.map_U_to_field(U_t[-1])\n",
    "m.fe_domain[0].state_k\n",
    "# m_inelastic.get_corr_pred(eps_Emab, 1, **m.fe_domain[2].state_k)"
   ]
  },
  {
   "cell_type": "markdown",
   "id": "ea6fc885-0dc8-4425-a23f-cd5a50cff94e",
   "metadata": {
    "tags": []
   },
   "source": [
    "## Compression dc"
   ]
  },
  {
   "cell_type": "code",
   "execution_count": null,
   "id": "3f3cac3b-ec1b-462d-b668-53cb872a0f46",
   "metadata": {},
   "outputs": [],
   "source": [
    "size_x = 1\n",
    "size_y = 20\n",
    "size_z = 12.5\n",
    "n_e_x = 1\n",
    "n_e_y = 1\n",
    "n_e_x = 1\n",
    "\n",
    "xmodel = XDomainFEGrid(coord_min=(0, 0, 0),\n",
    "                       coord_max=(size_x ,size_y, size_z),\n",
    "                       shape=(n_e_x, n_e_y, n_e_x),\n",
    "                     integ_factor=1,\n",
    "                     fets=FETS3D8H())\n",
    "E = 34000\n",
    "\n",
    "m_inelastic = MATS3DMplDamageEEQ(**CAxisymmMDM)\n",
    "m_elastic = MATS3DElastic(E=34000, nu=0.2)\n",
    "m = TStepBC(\n",
    "    domains=[(xmodel, m_inelastic),\n",
    "             ]\n",
    ")"
   ]
  },
  {
   "cell_type": "code",
   "execution_count": null,
   "id": "bb0502cd-ff51-432f-98aa-02d909d0299a",
   "metadata": {},
   "outputs": [],
   "source": [
    "w_max = -0.01 * size_x \n",
    "\n",
    "# Tension bc\n",
    "bc_l_x = BCSlice(slice=xmodel.mesh[0, :, :, 0, :, :],\n",
    "                  var='u', dims=[0], value=0.0)\n",
    "bc_r_x = BCSlice(slice=xmodel.mesh[-1, :, :, -1, :, :],\n",
    "                 var='u', dims=[0], value=w_max)\n",
    "bc_xy_z0 = BCSlice(slice=xmodel.mesh[:, :, 0, :, :, 0],\n",
    "                  var='u', dims=[2], value=0)\n",
    "bc_xz_y0 = BCSlice(slice=xmodel.mesh[:, 0, :, :, 0, :],\n",
    "                 var='u', dims=[1], value=0)"
   ]
  },
  {
   "cell_type": "code",
   "execution_count": null,
   "id": "7c293d33-a44f-4071-b978-9dd0b16614b9",
   "metadata": {},
   "outputs": [],
   "source": [
    "xmodel.mesh[:, :, :, :, :, 0].dofs"
   ]
  },
  {
   "cell_type": "code",
   "execution_count": null,
   "id": "1787c231-162f-4af1-ada0-222cfe372f2c",
   "metadata": {},
   "outputs": [],
   "source": [
    "bc1 = [bc_l_x, bc_r_x, bc_xy_z0, bc_xz_y0]"
   ]
  },
  {
   "cell_type": "code",
   "execution_count": null,
   "id": "2aaea1de-7b38-439b-add5-3f748f7bfdb5",
   "metadata": {},
   "outputs": [],
   "source": [
    "m.bc=bc1\n",
    "m.hist.vis_record = {\n",
    "#    'strain': Vis3DTensorField(var='eps_ab'),\n",
    "    'stress': Vis3DTensorField(var='sig_ab'),\n",
    "    #        'kinematic hardening': Vis3DStateField(var='z_a')\n",
    "}\n",
    "\n",
    "s = m.sim\n",
    "s.tloop.verbose = False\n",
    "s.tloop.k_max = 1000\n",
    "s.tline.step = 0.01\n",
    "# Accessing the following property - ensures serialization\n",
    "s.tstep.fe_domain.serialized_subdomains\n",
    "s.reset()\n",
    "s.run()"
   ]
  },
  {
   "cell_type": "code",
   "execution_count": null,
   "id": "13dd3980-b8ee-4367-9578-347516f55c27",
   "metadata": {},
   "outputs": [],
   "source": [
    "U_last = m.hist.U_t[-1]\n",
    "F_last = m.hist.U_t[-1]\n",
    "U_t = np.average(m.hist.U_t[:, bc_r_x.dofs], axis=-1)\n",
    "F_t = np.sum(m.hist.F_t[:, bc_r_x.dofs], axis=-1)\n",
    "fig, (ax1,ax2) = plt.subplots(1, 2)\n",
    "ax1.plot(-U_t, -F_t)\n",
    "ax2.plot(-U_t/size_x, -F_t/(size_y*size_z))\n",
    "G = np.trapz(F_t, x=U_t)\n",
    "print(G/((size_z)*(size_y))*1000)"
   ]
  },
  {
   "cell_type": "code",
   "execution_count": null,
   "id": "e1b0aabf-b9ef-482b-8047-249ba84be12f",
   "metadata": {},
   "outputs": [],
   "source": [
    "if False:\n",
    "    mlab.options.backend = 'envisage'\n",
    "    mlab.options.offscreen = False # 'envisage'\n",
    "    f_strain = mlab.figure()\n",
    "    scene = mlab.get_engine().scenes[-1]\n",
    "    scene.name = 'stress'\n",
    "    strain_viz = Viz3DTensorField(vis3d=m.hist['stress'])\n",
    "    strain_viz.setup()\n",
    "    strain_viz.warp_vector.filter.scale_factor = 0.1\n",
    "    strain_viz.plot(s.tstep.t_n)\n",
    "    mlab.show()"
   ]
  },
  {
   "cell_type": "markdown",
   "id": "72adeefe-eac8-492d-9bda-199f0e13fb41",
   "metadata": {
    "tags": []
   },
   "source": [
    "## Shear dc"
   ]
  },
  {
   "cell_type": "code",
   "execution_count": null,
   "id": "b883d495-4bae-428d-b72a-3220fe6068e0",
   "metadata": {},
   "outputs": [],
   "source": [
    "size_x = 1\n",
    "size_y = 20\n",
    "size_z = 12.5\n",
    "n_e_x = 1\n",
    "n_e_y = 1\n",
    "n_e_x = 1\n",
    "\n",
    "xmodel = XDomainFEGrid(coord_min=(0, 0, 0),\n",
    "                       coord_max=(size_x ,size_y, size_z),\n",
    "                       shape=(n_e_x, n_e_y, n_e_x),\n",
    "                     integ_factor=1,\n",
    "                     fets=FETS3D8H())\n",
    "E = 34000\n",
    "\n",
    "m_inelastic = MATS3DMplDamageEEQ(**CAxisymmMDM)\n",
    "m_elastic = MATS3DElastic(E=34000, nu=0.2)\n",
    "m = TStepBC(\n",
    "    domains=[(xmodel, m_inelastic),\n",
    "             ]\n",
    ")"
   ]
  },
  {
   "cell_type": "code",
   "execution_count": null,
   "id": "ec223c18-f521-411e-854d-ba951db44526",
   "metadata": {},
   "outputs": [],
   "source": [
    "w_max = 0.0025 * size_y\n",
    "\n",
    "# Shear bc\n",
    "bc_l_x = BCSlice(slice=xmodel.mesh[0, :, :, 0, :, :],\n",
    "                  var='u', dims=[0,1,2], value=0.0)\n",
    "bc_r_x = BCSlice(slice=xmodel.mesh[-1, :, :, -1, :, :],\n",
    "                 var='u', dims=[1], value=w_max)\n",
    "bc_r_x_2 = BCSlice(slice=xmodel.mesh[-1, :, :, -1, :, :],\n",
    "                 var='u', dims=[0], value=0.0)"
   ]
  },
  {
   "cell_type": "code",
   "execution_count": null,
   "id": "d2edc1ef-81b3-43f7-80a4-7af367ef609d",
   "metadata": {},
   "outputs": [],
   "source": [
    "xmodel.mesh[:, :, :, :, :, 0].dofs"
   ]
  },
  {
   "cell_type": "code",
   "execution_count": null,
   "id": "e6163ddb-7a33-43d6-83b7-633a1220657e",
   "metadata": {},
   "outputs": [],
   "source": [
    "bc1 = [bc_l_x, bc_r_x,bc_r_x_2]"
   ]
  },
  {
   "cell_type": "code",
   "execution_count": null,
   "id": "28f865b9-1416-40fd-9a0a-2a1877cf8d4d",
   "metadata": {},
   "outputs": [],
   "source": [
    "m.bc=bc1\n",
    "m.hist.vis_record = {\n",
    "#    'strain': Vis3DTensorField(var='eps_ab'),\n",
    "    'stress': Vis3DTensorField(var='sig_ab'),\n",
    "    #        'kinematic hardening': Vis3DStateField(var='z_a')\n",
    "}\n",
    "\n",
    "s = m.sim\n",
    "s.tloop.verbose = False\n",
    "s.tloop.k_max = 1000\n",
    "s.tline.step = 0.01\n",
    "# Accessing the following property - ensures serialization\n",
    "s.tstep.fe_domain.serialized_subdomains\n",
    "s.reset()\n",
    "s.run()"
   ]
  },
  {
   "cell_type": "code",
   "execution_count": null,
   "id": "431def5b-8f8d-4b52-8a04-815505d9f541",
   "metadata": {},
   "outputs": [],
   "source": [
    "U_last = m.hist.U_t[-1]\n",
    "F_last = m.hist.U_t[-1]\n",
    "U_t = np.average(m.hist.U_t[:, bc_r_x.dofs], axis=-1)\n",
    "F_t = np.sum(m.hist.F_t[:, bc_r_x.dofs], axis=-1)\n",
    "fig, (ax1,ax2) = plt.subplots(1, 2)\n",
    "ax1.plot(U_t, F_t)\n",
    "ax2.plot(U_t/size_x, F_t/(size_y*size_z))\n",
    "G = np.trapz(F_t, x=U_t)\n",
    "print(G/((size_z)*(size_y))*1000)"
   ]
  },
  {
   "cell_type": "code",
   "execution_count": null,
   "id": "429e6f42-8b48-4481-81a8-4e637996c3ad",
   "metadata": {},
   "outputs": [],
   "source": [
    "if False:\n",
    "    mlab.options.backend = 'envisage'\n",
    "    mlab.options.offscreen = False # 'envisage'\n",
    "    f_strain = mlab.figure()\n",
    "    scene = mlab.get_engine().scenes[-1]\n",
    "    scene.name = 'stress'\n",
    "    strain_viz = Viz3DTensorField(vis3d=m.hist['stress'])\n",
    "    strain_viz.setup()\n",
    "    strain_viz.warp_vector.filter.scale_factor = 0.1\n",
    "    strain_viz.plot(s.tstep.t_n)\n",
    "    mlab.show()"
   ]
  },
  {
   "cell_type": "markdown",
   "id": "2b106142-8c49-4d2c-b937-1b6e78787f98",
   "metadata": {},
   "source": [
    "## Shear dc + Compression fc"
   ]
  },
  {
   "cell_type": "code",
   "execution_count": null,
   "id": "505cac26-6409-44f0-acaf-d7ee527c2ff0",
   "metadata": {},
   "outputs": [],
   "source": [
    "size_x = 2\n",
    "size_y = 20\n",
    "size_z = 1\n",
    "n_e_x = 1\n",
    "n_e_y = 2\n",
    "n_e_x = 1\n",
    "\n",
    "xmodel = XDomainFEGrid(coord_min=(0, 0, 0),\n",
    "                       coord_max=(size_x ,size_y, size_z),\n",
    "                       shape=(n_e_x, n_e_y, n_e_x),\n",
    "                     integ_factor=1,\n",
    "                     fets=FETS3D8H())\n",
    "E = 34000\n",
    "\n",
    "m_inelastic = MS13D(**CAxisymm)\n",
    "m_elastic = MATS3DElastic(E=34000, nu=0.2)\n",
    "m = TStepBC(\n",
    "    domains=[(xmodel, m_inelastic),\n",
    "             ]\n",
    ")"
   ]
  },
  {
   "cell_type": "code",
   "execution_count": null,
   "id": "abb6fc6a-75eb-4347-8888-8267612d4543",
   "metadata": {},
   "outputs": [],
   "source": [
    "tf_precrompression = TFBilinear(loading_ratio = 1.0, time_ratio=0.1)\n",
    "tf_sliding = TFBilinear(loading_ratio = 0.0, time_ratio=0.1)"
   ]
  },
  {
   "cell_type": "code",
   "execution_count": null,
   "id": "83131725-cc9a-4c2f-81ea-034586a8bd42",
   "metadata": {
    "tags": []
   },
   "outputs": [],
   "source": [
    "w_max = 0.05 \n",
    "\n",
    "# Shear bc\n",
    "bc_l_x = BCSlice(slice=xmodel.mesh[0, :, :, 0, :, :],\n",
    "                  var='u', dims=[0,1,2], value=0.0)\n",
    "\n",
    "slide_slice = BCSlice(slice=xmodel.mesh[-1, :, :, -1, :, :],\n",
    "                 var='u', dims=[1], value=w_max)\n",
    "slide_dofs = slide_slice.dofs\n",
    "slide = [BCDof(var='u', dof=dof, value=w_max , time_function=tf_sliding) \n",
    "                     for dof in slide_dofs ]\n",
    "\n",
    "\n",
    "compression_slice = BCSlice(slice=xmodel.mesh[-1, :, :, -1, :, :],\n",
    "                 var='u', dims=[0], value=-w_max/100)\n",
    "compression_dofs = compression_slice.dofs\n",
    "compression_force = -1 * (size_y*size_z) / len(compression_dofs)\n",
    "compression_force_first = [BCDof(var='f', dof=dof, value=compression_force, time_function=tf_precrompression) \n",
    "                                 for dof in compression_dofs ]\n"
   ]
  },
  {
   "cell_type": "code",
   "execution_count": null,
   "id": "7b618570-c980-4823-85b2-c2845e83fac5",
   "metadata": {},
   "outputs": [],
   "source": [
    "bc1 = [bc_l_x]  + slide + compression_force_first"
   ]
  },
  {
   "cell_type": "code",
   "execution_count": null,
   "id": "c01f3cd0-aeff-4c2a-817c-8aa442d21934",
   "metadata": {},
   "outputs": [],
   "source": [
    "m.bc=bc1\n",
    "m.hist.vis_record = {\n",
    "#    'strain': Vis3DTensorField(var='eps_ab'),\n",
    "    'stress': Vis3DTensorField(var='sig_ab'),\n",
    "    #        'kinematic hardening': Vis3DStateField(var='z_a')\n",
    "}\n",
    "\n",
    "s = m.sim\n",
    "s.tloop.verbose = True\n",
    "s.tloop.k_max = 1000\n",
    "s.tline.step = 0.05\n",
    "# Accessing the following property - ensures serialization\n",
    "s.tstep.fe_domain.serialized_subdomains\n",
    "s.reset()\n",
    "s.run()"
   ]
  },
  {
   "cell_type": "code",
   "execution_count": null,
   "id": "62553563-943c-4cff-852b-afd0733a1cca",
   "metadata": {},
   "outputs": [],
   "source": [
    "U_last = m.hist.U_t[-1]\n",
    "F_last = m.hist.U_t[-1]\n",
    "U_t = np.average(m.hist.U_t[:, slide_dofs], axis=-1)\n",
    "F_t = np.sum(m.hist.F_t[:, slide_dofs], axis=-1)\n",
    "F_t_c = np.sum(m.hist.F_t[:, compression_dofs], axis=-1)\n",
    "fig, ax = plt.subplots(1, 1)\n",
    "ax.plot(U_t, F_t)\n",
    "ax.plot(U_t, F_t_c)"
   ]
  },
  {
   "cell_type": "code",
   "execution_count": null,
   "id": "dde8d6cc-a1d6-4a53-8896-f774fe33964b",
   "metadata": {},
   "outputs": [],
   "source": [
    "if True:\n",
    "    mlab.options.backend = 'envisage'\n",
    "    mlab.options.offscreen = False # 'envisage'\n",
    "    f_strain = mlab.figure()\n",
    "    scene = mlab.get_engine().scenes[-1]\n",
    "    scene.name = 'stress'\n",
    "    strain_viz = Viz3DTensorField(vis3d=m.hist['stress'])\n",
    "    strain_viz.setup()\n",
    "    strain_viz.warp_vector.filter.scale_factor = 0.1\n",
    "    strain_viz.plot(s.tstep.t_n)\n",
    "    mlab.show()"
   ]
  },
  {
   "cell_type": "code",
   "execution_count": null,
   "id": "1e3ba787-a996-4195-a70a-7ba129d975f4",
   "metadata": {},
   "outputs": [],
   "source": []
  }
 ],
 "metadata": {
  "kernelspec": {
   "display_name": "bmcs_env",
   "language": "python",
   "name": "bmcs_env"
  },
  "language_info": {
   "codemirror_mode": {
    "name": "ipython",
    "version": 3
   },
   "file_extension": ".py",
   "mimetype": "text/x-python",
   "name": "python",
   "nbconvert_exporter": "python",
   "pygments_lexer": "ipython3"
  }
 },
 "nbformat": 4,
 "nbformat_minor": 5
}
