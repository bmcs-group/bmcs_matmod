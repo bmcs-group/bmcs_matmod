{
 "cells": [
  {
   "cell_type": "markdown",
   "id": "7fe163db-9193-44c1-9033-f79a48775c99",
   "metadata": {},
   "source": [
    "# **Calibration MS1 and MDM for fitting energy dissipation for a given size mesh**"
   ]
  },
  {
   "cell_type": "markdown",
   "id": "a1af772b-a50e-4b71-873e-6713eda2ec74",
   "metadata": {},
   "source": [
    "Test the elementary load cases - tension, compression and sliding"
   ]
  },
  {
   "cell_type": "code",
   "execution_count": 1,
   "id": "d7b4549e-c36b-4c4c-96d2-8a71c0b9aae8",
   "metadata": {},
   "outputs": [],
   "source": [
    "%matplotlib widget\n",
    "import numpy as np\n",
    "np.seterr(divide='ignore', invalid='ignore') \n",
    "import matplotlib.pylab as plt\n",
    "from ibvpy.bcond import BCSlice, BCDof\n",
    "from ibvpy.fets import FETS3D8H\n",
    "from ibvpy.tmodel.mats3D import MATS3DElastic\n",
    "import bmcs_matmod.ms1.concrete_material_db as mp_db\n",
    "from ibvpy.tmodel.viz3d_scalar_field import \\\n",
    "    Vis3DStateField, Viz3DScalarField\n",
    "from ibvpy.tmodel.viz3d_tensor_field import \\\n",
    "    Vis3DTensorField, Viz3DTensorField\n",
    "from ibvpy.sim.tstep_bc import TStepBC\n",
    "from ibvpy.xmodel.xdomain_fe_grid import XDomainFEGrid\n",
    "from ibvpy.api import TStepBC, TFCyclicNonsymmetricConstant, TFBilinear\n",
    "from mayavi import mlab\n",
    "from bmcs_matmod.ms1 import MS13D\n",
    "from ibvpy.tmodel.mats3D.mats3D_microplane.vmats3D_mpl_d_eeq import \\\n",
    "    MATS3DMplDamageEEQ"
   ]
  },
  {
   "cell_type": "markdown",
   "id": "58b9d7aa-0541-4a36-86e9-49f2c2ef0670",
   "metadata": {
    "tags": []
   },
   "source": [
    "## MS1 calibration"
   ]
  },
  {
   "cell_type": "code",
   "execution_count": 29,
   "id": "54c697cd-19ab-4aa9-9889-9a9d6f3d962e",
   "metadata": {
    "tags": []
   },
   "outputs": [],
   "source": [
    "#CAxisymm = dict(\n",
    "#    E = 40e+3,\n",
    "#    nu = 0.18,\n",
    "#    Ad = 500.0,\n",
    "#    eps_0 = 0.00001,\n",
    "#    K_N = 17000.,\n",
    "#    sigma_N_0 = 45.,\n",
    "#    gamma_N = 9000.,\n",
    "#    sigma_T_0 = 0.8,\n",
    "#    K_T = 100.0,\n",
    "#    gamma_T = 100,\n",
    "#    S_T = 0.00001,\n",
    "#    c_T = 1.6,\n",
    "#    r_T = 2.,\n",
    "#    m_T = 0.1,\n",
    "#    p_T = 1.\n",
    "#)\n",
    "\n",
    "#CAxisymm = dict(E = 40e+3,    \n",
    "#                nu = 0.18,    \n",
    "#                Ad = 500.0,    \n",
    "#                eps_0 = 0.00001,    \n",
    "#                K_N = 17000.,    \n",
    "#                sigma_N_0 = 45., \n",
    "#                gamma_N = 9000.,   \n",
    "#                sigma_T_0 = 3.0,   \n",
    "#                K_T = 200.0,  \n",
    "#                gamma_T = 5000,  \n",
    "#                S_T = 0.001,  \n",
    "#                c_T = 2.9, \n",
    "#                r_T = 2.,  \n",
    "#                m_T = 0.1, \n",
    "#                p_T = 1.)\n",
    "\n",
    "\n",
    "CAxisymm = dict(E = 40e+3, \n",
    "                nu = 0.18, \n",
    "                Ad = 500.0, \n",
    "                eps_0 = 0.00001,  \n",
    "                K_N = 17000.,   \n",
    "                sigma_N_0 = 45.,\n",
    "                gamma_N = 9000.,  \n",
    "                sigma_T_0 = 0.8, \n",
    "                K_T = 100.0, \n",
    "                gamma_T = 100,\n",
    "                S_T = 0.00001,   \n",
    "                c_T = 1.6, \n",
    "                r_T = 2.,   \n",
    "                m_T = 0.1, \n",
    "                p_T = 1.)\n"
   ]
  },
  {
   "cell_type": "markdown",
   "id": "ac85c687-2bed-436c-97c8-e85606185e12",
   "metadata": {
    "tags": []
   },
   "source": [
    "## Shear ligament"
   ]
  },
  {
   "cell_type": "code",
   "execution_count": 30,
   "id": "c1873fef-b895-4de0-923a-2cceccb908b9",
   "metadata": {},
   "outputs": [],
   "source": [
    "size_x = 2\n",
    "size_y = 10\n",
    "size_z = 1\n",
    "n_e_x = 1\n",
    "n_e_y = 1\n",
    "n_e_x = 1\n",
    "\n",
    "xmodel = XDomainFEGrid(coord_min=(0, 0, 0),\n",
    "                       coord_max=(size_x ,size_y, size_z),\n",
    "                       shape=(n_e_x, n_e_y, n_e_x),\n",
    "                     integ_factor=1,\n",
    "                     fets=FETS3D8H())\n",
    "E = 34000\n",
    "\n",
    "m_inelastic = MS13D(**CAxisymm)\n",
    "m_elastic = MATS3DElastic(E=34000, nu=0.2)\n",
    "m = TStepBC(\n",
    "    domains=[(xmodel, m_inelastic),\n",
    "             ]\n",
    ")"
   ]
  },
  {
   "cell_type": "code",
   "execution_count": 31,
   "id": "0356b72b-8990-490e-9933-7122a4ba5e42",
   "metadata": {},
   "outputs": [],
   "source": [
    "w_max = 0.1\n",
    "\n",
    "# Shear bc\n",
    "bc_l_x = BCSlice(slice=xmodel.mesh[0, :, :, 0, :, :],\n",
    "                  var='u', dims=[0,1,2], value=0.0)\n",
    "bc_r_x = BCSlice(slice=xmodel.mesh[-1, :, :, -1, :, :],\n",
    "                 var='u', dims=[1], value=w_max)\n",
    "bc_r_x_2 = BCSlice(slice=xmodel.mesh[-1, :, :, -1, :, :],\n",
    "                 var='u', dims=[0], value=0.0)"
   ]
  },
  {
   "cell_type": "code",
   "execution_count": 32,
   "id": "5cadecc7-1006-48fd-aed7-92a4b6d02b90",
   "metadata": {},
   "outputs": [
    {
     "data": {
      "text/plain": [
       "array([[[ 0,  1,  2],\n",
       "        [12, 13, 14],\n",
       "        [ 6,  7,  8],\n",
       "        [18, 19, 20]]])"
      ]
     },
     "execution_count": 32,
     "metadata": {},
     "output_type": "execute_result"
    }
   ],
   "source": [
    "xmodel.mesh[:, :, :, :, :, 0].dofs"
   ]
  },
  {
   "cell_type": "code",
   "execution_count": 33,
   "id": "80c68881-477d-42f2-b22f-797e4326710c",
   "metadata": {},
   "outputs": [],
   "source": [
    "bc1 = [bc_l_x, bc_r_x,bc_r_x_2]"
   ]
  },
  {
   "cell_type": "code",
   "execution_count": 34,
   "id": "31928cbb-be4c-4c02-a6a1-05c808c478d0",
   "metadata": {},
   "outputs": [],
   "source": [
    "m.bc=bc1\n",
    "m.hist.vis_record = {\n",
    "#    'strain': Vis3DTensorField(var='eps_ab'),\n",
    "    'stress': Vis3DTensorField(var='sig_ab'),\n",
    "    #        'kinematic hardening': Vis3DStateField(var='z_a')\n",
    "}\n",
    "\n",
    "s = m.sim\n",
    "s.tloop.verbose = False\n",
    "s.tloop.k_max = 1000\n",
    "s.tline.step = 0.01\n",
    "# Accessing the following property - ensures serialization\n",
    "s.tstep.fe_domain.serialized_subdomains\n",
    "s.reset()\n",
    "s.run()"
   ]
  },
  {
   "cell_type": "code",
   "execution_count": 35,
   "id": "66f31bb0-c71a-444c-9eb5-16d1150ef432",
   "metadata": {},
   "outputs": [
    {
     "name": "stdout",
     "output_type": "stream",
     "text": [
      "633.4953255545465\n",
      "0.31674766277727334\n"
     ]
    },
    {
     "data": {
      "application/vnd.jupyter.widget-view+json": {
       "model_id": "54b235f0379543acb27d4fab6661b104",
       "version_major": 2,
       "version_minor": 0
      },
      "text/html": [
       "\n",
       "            <div style=\"display: inline-block;\">\n",
       "                <div class=\"jupyter-widgets widget-label\" style=\"text-align: center;\">\n",
       "                    Figure\n",
       "                </div>\n",
       "                <img src='data:image/png;base64,iVBORw0KGgoAAAANSUhEUgAAAoAAAAHgCAYAAAA10dzkAAAAOXRFWHRTb2Z0d2FyZQBNYXRwbG90bGliIHZlcnNpb24zLjQuMywgaHR0cHM6Ly9tYXRwbG90bGliLm9yZy/MnkTPAAAACXBIWXMAAA9hAAAPYQGoP6dpAABbWklEQVR4nO3deXhTZdoG8Dtp2nQvUGjTQikFKovsi+wWESoM8IG4IS7gNjCoI24MDKNWRlvBEVFRVEREHUTFURkHkIJSUWQHWWUtUKClAqV7mzZ5vz/anDZ0IUnPkib377pylZycnrwnNY/Pu+uEEAJERERE5DX0WheAiIiIiNTFBJCIiIjIyzABJCIiIvIyTACJiIiIvAwTQCIiIiIvwwSQiIiIyMswASQiIiLyMkwAiYiIiLwME0AiIiIiL8MEkIiIiMjLMAEkIiIi8jJMAImIiIi8DBNAIiIiIi/DBJCIiIjIyzABJCIiIvIyTACJiIiIvAwTQCIiIiIvwwSQiIiIyMswASQiIiLyMkwAiYiIiLwME0AiIiIiL8MEkIiIiMjLMAEkIiIi8jJMAImIiIi8DBNAIiIiIi/DBJCIiIjIyzABJCIiIvIyTACJiIiIvAwTQCIiIiIvwwSQiIiIyMswASQiIiLyMkwAiYiIiLwME0AiIiIiL8MEkIiIiMjLMAEkIiIi8jJMAImIiIi8DBNAIiIiIi/DBJCIiIjIyzABJCIiIvIyTACJiIiIvAwTQCIiIiIvwwSQiIiIyMswASQiIiLyMkwAiYiIiLwME0AiIiIiL8MEkIiIiMjLMAEkIiIi8jJMAImIiIi8DBNAIiIiIi/DBJCIiIjIyzABJCIiIvIyTACJiIiIvAwTQCIiIiIvwwSQiIiIyMswASQiIiLyMkwAiYiIiLyMQesCNGZWqxXnz59HSEgIdDqd1sUh8jpCCOTn5yM6Ohp6feOpzzJ2EGmrscYOOTEBbIDz588jJiZG62IQeb2MjAy0atVK62I4jLGDyD00ttghJyaADRASEgKg4j+g0NBQjUtD5H3y8vIQExMjfRcbC8YOIm011tghJyaADWDrugkNDWUQJ9JQY+tGZewgcg+NLXbIyTs7vomIiIi8GBNAIiIiIi/DBJCIiIjIyzABJCIiIvIyTACJiIiIvIzHJoBt2rSBTqer8Xj00UcBVCwCmZSUhOjoaAQEBGDo0KE4ePCgxqUmInd3rdhCRNQYeGwCuGPHDmRmZkqP1NRUAMAdd9wBAJg/fz4WLFiARYsWYceOHTCZTBgxYgTy8/O1LDYRublrxRYiosbAYxPAFi1awGQySY/vvvsO7dq1Q0JCAoQQWLhwIebMmYMJEyagS5cuWL58OYqKirBixQqti05Ebqy+2EJE1Fh4bAJYndlsxqeffooHH3wQOp0O6enpyMrKQmJionSO0WhEQkICtmzZomFJiagxuTq2EBE1Fl6xE8g333yDK1euYMqUKQCArKwsAEBkZKTdeZGRkTh9+nSd1yktLUVpaan0PC8vT/7CElGjcXVsqQtjBxG5G69oAVy6dClGjRqF6Ohou+NX19iFEPXW4lNSUhAWFiY9uJk7kXerK7ZcjbGDiNyNxyeAp0+fxoYNG/Dwww9Lx0wmE4CqlkCb7OzsGq2C1c2ePRu5ubnSIyMjQ5lCE5Hbqy221IWxg4jcjcd3AS9btgwREREYPXq0dCwuLg4mkwmpqano2bMngIqxPGlpaZg3b16d1zIajTAajYqX2RkXC0rx64lL2JtxBddHh+LWni05FolIBbXFlrq4W+ywWgX2n8vFtvRLuFRgxt03tEab5kFaF4uIVOTRCaDVasWyZcswefJkGAxVt6rT6TBjxgwkJycjPj4e8fHxSE5ORmBgICZNmqRhiR1XUFqOtzYew9Kf01FuFdLx/+3LxLzbu6F5sPv8z4bI09QVWxqD3Wdy8Py3B3DgXNU4xE+3nkbS/12P23u3YgWSyEs0rsjlpA0bNuDMmTN48MEHa7w2c+ZMFBcXY/r06cjJyUG/fv2wfv16hISEaFBSewWl5Vi1MwPlVoHQAF8Mbt8c0U0CpNdWbj+D9386iez8ikHlnaJC0TkqFP/97Tw2/p6NW17/CS+Oux6ju0YxmBMpoL7YoqU9Z3Kw9eRlBBl90KppAIbEt4CvT8VInwPncvFu2gl8ty8TABDk54MB7cJxpagMO0/n4NlV+/D9wQt4aXwXmML8tbwNIlKBTgghrn0a1SYvLw9hYWHIzc1FaGiobNd9+8fjePX7I9JzvQ5IuK4FSsqs2Hf2CgrNFgBA62aBeGFsZ9zcqWLc4uHMPMxYuRdHLlQsZj2mWxReu7M7jAYf2cpG5E6U+g4qTYlyW60CvV9KRU5RmXQsMtSIvm2a4fesfBzPLpCO39G7FWaO7IgWIUZYrALv/XQCr6ceRZlFIMTfgDcn9sRNHSNkKReRO2qssUNOHt0C2FgdPJ8LAOjaMgx+Bj12nc7Bj0f+kF5v2yIIU29si/E9W9old52iQvHfxwfj7R+P4+0fj+O7fZkoMluw+N5eTAKJPNz53GLkFJXBoNdhROdI7Dh1GRfySqUWPx+9DmO7RWFqQjt0iqr6H56PXofpQ9vj5o6RmLnqN/x2Nhd//mQnFt/TG8M71z0pjogaNyaAbshWU39qxHW4qWMEjmcX4PuDWWgRbETXVmHoEBkCvb72rl0/gx5PjrgON8Q1w0PLd+CH37PxyMe7sGhST4T6+6p5G0SkIlvcaNM8CIvv7Q1zuRWphy7g1KVCdI4KRbdWYQivZ2xwB1MIVv1lIGas3Iv/7c/EX/69C6/d2QP/173+JW6IqHFiAuhmyi1WpF8sBAC0jwiWfraPaO/UdQa1b44PJ/fFQ8t34qejf+DWt3/Bkvv7oG2LYNnLTETasyWA8ZVxw8+gx+huUU5dw9dHjzcm9oBer8N/fzuPv362B4cz8/BMYgf41FHpJKLGyePXAWxszlwuQplFIMDXBy0rJ364amD75vh8an9EhfnjxB+FGPvWz1j2SzosVg77JPI0J/6oSABtFUdXGXz0WHhXD0xNaAsAWLzpBO5871ccrRxbTESegQmgm7HV4tu2CKqzm9cZ3Vo1werHBuOGuGYoNFvw4n8P4dZ3fsHejCsNvjYRuQ9b7GhoAghUjAucPaoT3pjYA0F+Pth1Ogej39yMeet+R5G5vMHXJyLtMQF0M8dlqsVX1yLEiJWP9MfLt3ZBiL8B+87m4tZ3fsHMVb8hM7dYtvchIm0IIXCsMgFsJ+Mwj3E9WiL1qQSM6ByJMovA4k0ncPNrafh6z1n2JBA1ckwA3czV43jkotfrcE+/WGx8OgETerWEEMAXO88i4dVNePG/B3HuChNBosbqUqEZV4rKoNPJmwACQHSTACy5vw8+uL8PYpoFIDO3BE9+/htGLvwJq387jzKLVdb3IyJ1MAF0M3J249QmIsQfC+7sga/+MgA3tGkGc7kVy345hRvn/4hHV+zGluMXYWXNnqhRscWNVk0DEOCnzJJPwztHIvXJBDx7SweE+htwLLsAf/1sD26c/yPe/vE4svNKFHlfIlIGZwG7ESEETiicANr0jm2Gz6f2x+ZjF/HeTyfwy/FL+N++TPxvXyZaNwvErT1bYnzPlojj/qBEbk+qOCo8y9/f1weP3tQe9/aPxUe/nMInW08hM7cEr35/BAtSj2LodS1wa6+WGN4pEv6+XHuUyJ0xAXQjmbklKDRbYNDrEBuufOKl0+lw43UtcON1LXA4Mw+fbj2Nb/eex5nLRXhj4zG8sfEYurYMw5huURjVJQqtwwMVLxMROU/pnoOrhQX44onh8Zia0Bbf7cvEyu1nsPN0Djb+no2Nv2cjyM8HwztHYnTXKNx4XQsmg0RuiAmgG6m+kKtt/061dIoKxcu3dsWc0Z2w/uAF/GfPOfx87A/sP5eL/edykbL2d3SKCsUt10cisbMJnaJCuM8wkZuoGjus7l7m/r4+uL13K9zeuxWOZ+fjP7vP4du953HuSjG+3Xse3+49j0A/Hwzt0AKJnU24qWMEwgK4ID2RO2AC6EbU6sapT6CfAeMru38vFpRi3YEsrNmfiW3pl3E4Mw+HM/OwcMMxdDSF4K6+Mbi9dyuEcIcRIk3ZYkc7lVoAa9M+IgQzR3bEM4kdsCfjCr7bdx7fH8jC+dwSrNmfhTX7s+Bn0GNUFxMm3dAaN8Q1YyWSSENMAN3I6UsVO4DEtXCPcXfNg424t38s7u0fi8uFZmw4fAGphy4g7egf+D0rHy/+9xAWbjiGBwfF4YHBbbjVHJEGSsosyKqcgNHWDcbs6vU69I5tit6xTfH8mM7YdzYX6w9l4fuDF3A8u0BqGbyhTTP89eZ4DGofzkSQSANMAN2ILYhHh/lrXJKamgX54c4+MbizTwxyi8rw7W/nsHzLKZz4oxCvbziKj7akS4PDOd6HSD0XKuOGv68eTQLdqxKm0+nQPaYJusc0wTOJHbDvbC5W7jiDr3afw/ZTl3Hv0m0Y2C4cM0d2RI+YJloXl8ircBkYN5KVVwoAiAx1vwSwurBAX9w/oA3WP5mAt+7uiXYtgpBTVIaX/ncYQ1/dhH9vOw1zOdcGI1JDVm5FAmgK9XfrljRbMpgyoRs2z7wJUwa2gZ+PHltOXML4t3/BIx/vxO9ZeVoXk8hrMAF0IxdsgdwNWwBr46PXYWz3aHw/40bMv60bosP8kZVXgjlfH8Cw1zbh8x1nuEgskcJsPQfuXnGsLjLUH0n/dz1+eCYBt/VqBb0OSD10AaPe2IxHV+zmvsNEKmAC6CYsVoE/CipaAE2NKJADFZvH39k3Bj88MxQvjO2M5sFGnM0pxt++2o9hr23Cyu1n2CJIpBBbF3BjqThW16ppIF67szvWP3kjRneNghDA//Zl4paFP+HRFbtxJIuJIJFSmAC6iYsFpbBYBXz0OoQHG7Uujkv8fX3wwKA4bJ55E/4xuhOaB/sh43IxZv1nP2761yZ8svU0SsosWheTyKNk5TbOimN17SNC8PY9vbD2iSEYeb3JLhGc9skuHDiXq3URiTwOE0A3YRvHExFihI/efcfxOCLAzwcPD2mLzTOH4R+jO6FFiBHnrhTjuW8O4Mb5P+L9n06goLRc62ISeYQLjbALuC6dokLx7n29sfaJIfhTVxMAYN3BLIx562dMWbYd29MvQwhuVUkkByaAbqIxjuO5lqpE8CbMHXc9osP8kZ1fiuQ1v2NAykYkrzmMjMtFWheTqFHLasRdwHXpFBWKd+7pjdQnb8T4HtHQ64BNR/7Ane/9ivHvbMHq386jtJy9CUQNwWVg3IQ0jseDEkAbf18f3D+gDSb2bY1v9p7Du5tO4OTFQrz/00m8/9NJ9GzdBGO6RWN4pwhVtsAj8iS23gNPqjzaxEeGYOHEnnhyxHV4N+0kvtp9Fr9lXMFfP9uDEH8DRl5vwi3XmzCofXME+HH5KSJnMAF0E1mNbAawK/wMetzZJwa392qFTUezseyXU/j5+EXsOXMFe85cwT+/O4S2LYIwpH1zDGzfHH3bNEOzID+ti03ktqxWgex8z48dseFBSJnQFU8nXod/bz2Dz7afQVZeCb7cdRZf7joLf189bogLx+D24ejfNhydo0JhUHk7TaLGhgmgm/DELuC66PU6DOsYiWEdI5GdV4Lv9mUi9dAFbD91GSf/KMTJPwqx/NfTACo2t+/Vugl6xDRF15ZhuM4UDKOBNX0iALhcZEaZRUCnqxg/7OmaBxvxxPB4PD6sPXacuoz/7c/ExsPZOHelGD8d/QM/Hf0DABDk54MerZugZ0xTdGsVhq6twtx+nUQitTEBdBNVSzl4fhCvLiLUHw8OjsODg+OQW1yGX09cws/H/8C2k5dxLLsAxysfX+w8CwDw9dGhXYtgdI4KRXxkCK6LDEb7iGC0ahrY6CfPEDnL1nMQHmSErxe1eOn1OvRrG45+bcPx4v8JHL1QgJ+PX8Qvxy9ix6nLyC8pxy/HL+GX45ek32kW5IdOUSHoEBmKDqZgtI8IQfuIYIQFuNfuKURqYQLoJqRxPCGe3wJYl7AAX4zsYsLILhWz/y4VlFZ0D2fkYN/ZXOw/l4srRWX4PSsfv1+1PpifQY/YZoFo0zwIbcID0To8CK2bBSKmaQCimwRwezrySFUzgL2r4lidTqdDB1MIOphC8NDgOFisAkey8rE34wr2nMnB/nO5OJZdgMuF5hpJIQA0D/ZDm/AgxIbbYkcgYpoFIqZpIJoH+7HVkDwWE0A3ccG2DZwHj+NxVniwEcM7R2J450gAgBAC564U43BmPo5k5eHohQIcvZCPkxcLYS634lh2AY5lF9R6rRYhRkSH+SMqLABRTfxhCvWHKcwfESH+iAg1IiLEiGCjgcGeGpUsD5485iofvQ6do0PROToUk/q1BgCUlFlw9EI+Dmfm4UhWAY5l5+N4dgEyc0twscCMiwVm7DydU+NaRoMe0U0CEGWLHWEVcSMy1B8RIUZEhBrRPNi7Wl/JczABdAMFpeXSungM5HXT6XRo1TQQrZoGYkRlUghU7KJyLqcY6ZcKcepiIU5fKsKZy4XIuFyMjJwiFJkt+CO/FH/kl+K3s3UvKOvvq0fzYGPlww/NgvzQLMiI8CA/NAn0RdNAPzQN8kVYQMXzsABfBn7SlG37SFYc6+fv64NurZqgW6smdscLSstx6mIhTl4sxOmLhTh9uQhnLhfh7OUiZOaVoLTcivSLhUi/WFjv9ZsF+aF5sB/Cg4wID/ZDeGXsaBbkiyaBfmgaWBUzmgT6srJJboEJoBuwdf+GGA0IMvJP4iwfvQ6tK7tuEq5rYfeaEAJXispw7koxzl0pxvkrxcjKK8GF3BJcyCvFhbwSZOeXoqC0HCVlVpzNKcbZnGKH3zvQzweh/r4IDTAgxN8XIf4GBBsNCPE3IMjPgODK54F+BgT6+SDAzweBlQ9/Xx8E+Fb89Pf1gdGgh9Gg94rZi0IImC1WlFkEzOXWqofFgpIyK8yWiuedo0MR6s8xWnVhC2DDBBsN6NIyDF1ahtV4rcxiRVZuCc7mFCMztxiZuSXIyi1BVl4JsvMq4scflTs4XS4043KhGUDtPRBX0+uA0ADfqthh9EWwv0GKH0HGyp9+Pgg0GqSYEeBbFUcCfH1g9NXDaKiKHd6QVFqslTHDYrX7WVpukeKI0eCDrq1q/k3JHrMNNyCN42EtXnY6nQ5Ng/zQNMiv1iBvU2Qux8V8M/4oKMGlyi6hy4WluFRoRk6hGZeLynClyIycIjNyi8qQV1Je+XsWFJktyMqTr8w+eh38fPQw+urh66OHn48efgY9fH10MOj1MPjoYNDrYPDRw0eng8FHB72u4pher4NeV3ENna7iuA4V/8PRVf4blf+P0KHqfxYCwvYPCFQkaFYBWIWAqPxpFQIWKyp/Cumn7VFe+bPMYrX/t6Xip+14WWXi54gvpg7ADXHN5PtwPUxWXuPfBs5d+froK8YCNgus8xyrVeBykRkXC0pxMd+MS4WluFRQkQxWxY6KmJFTZMaV4jKYy62wCuBKURmuFJXJWmY/n4pEsCJeVMUNXx9b3NDDoNfBR28fN3z0Ff+2/dTpIP2siB86h+OGAGAVlf8WkGKFFC9ExedWFTessAig3BYrrBU/yy1WlFkrf1aLIVYHQkf3mCb49tFBsn62nogJoBuQ1gBkENdMoJ8BrcMNaB1ed7CvzmIVyC8pQ25xxSO/pBx5xWXILy1Hfkk5Ciu79QttD7MFReZyFJktKDZbUFxWkTiWlFU8qidEFqtAsbXiHG9h0OvgV/k/Llvy61f5Py2qG7uAtaXX66RhIzA59jslZRYpbuQVlyGvpCJ+2OJGfkk5Cs1VcaOwtCpuFJnLUWy2oKTcipKyihhRfWc8s6WiRQylytyvO/Iz6GGsTHZtyW80vw8OYQLoBrxpDUBP4aPXoUmgH5oEyrNQtcUqUFpuQWmZFaXVukPN5RVdpeWV3Ry2GnG5VaDcImARFc+rWuSqWutstW+pZi4qauyisrZ+NR1QWeOvrPlXaz3UV7YMVLQSQGot8NFXtCr46AGfyp+2VgZfQ+XPykTO10cPX321VonKZM/XR88lfFzELuDGxzbkQ454L4RAmUWgpLL701aZNJdXtJaVllurWtAqW9Ys1ornVlEVQ6zWqp8ClXGjWg+AM3EDqIodPpU9Erb44aOr6KWw9VYYKo/7+lQ899XbYkVVb4dvZYww6HUw2rVsVsQRb+j2VgoTQDeQ7aVrAFIVH72ucpyg1iWhxsLWkgQwAfRWOp0OfoaK1nMiZ/G/GjdwqdAMoGIxVyIiR1yujBsGvQ6hAazLE5FzmAC6AdtA4CaBnO1IRI7JKapIAJsE+rIbjIicxgTQDVwprgjkTdn/R0QOypUqjowbROQ8JoBuIKeQLYBE5JycygSwKeMGEbmACaAbuFLEFkAick5VFzDjBhE5jwmgxszlVhSaK9Z7YwsgETnKNgO4SQDjBhE5z6MTwHPnzuHee+9FeHg4AgMD0aNHD+zatUt6XQiBpKQkREdHIyAgAEOHDsXBgwdVLaNt/J9eB255RdRIXCu2qCGnchZw0yC2ABKR8zw2AczJycGgQYPg6+uLtWvX4tChQ3jttdfQpEkT6Zz58+djwYIFWLRoEXbs2AGTyYQRI0YgPz9ftXLaZgCHBfhCz8VwidyeI7FFlXJw9QAiagCPXTxq3rx5iImJwbJly6Rjbdq0kf4thMDChQsxZ84cTJgwAQCwfPlyREZGYsWKFZg6daoq5bTV4jmOh6hxuFZsUUsuVw8gogbw2BbA1atXo0+fPrjjjjsQERGBnj17YsmSJdLr6enpyMrKQmJionTMaDQiISEBW7ZsqfWapaWlyMvLs3s01JVi1uKJGpNrxZbaKBE7pBZAjgEkIhd4bAJ48uRJLF68GPHx8fj+++8xbdo0/PWvf8XHH38MAMjKygIAREZG2v1eZGSk9NrVUlJSEBYWJj1iYmIaXE7OACZqXK4VW2qjROzgLGAiagiPTQCtVit69eqF5ORk9OzZE1OnTsUjjzyCxYsX25139Qr6Qog6V9WfPXs2cnNzpUdGRkaDy8laPFHj4mhsqU6J2GFbCLppEGMHETnPYxPAqKgodO7c2e5Yp06dcObMGQCAyWQCgBqtfdnZ2TVaBW2MRiNCQ0PtHg3FWjxR43Kt2FIbuWOHEEIaPsLeAyJyhccmgIMGDcKRI0fsjh09ehSxsbEAgLi4OJhMJqSmpkqvm81mpKWlYeDAgaqVM5er+RM1KteKLWrIKymHxSoAVKwgQETkLI+dBfzkk09i4MCBSE5Oxp133ont27fj/fffx/vvvw+gout3xowZSE5ORnx8POLj45GcnIzAwEBMmjRJtXJKLYBcy4uoUbhWbFGDbexwgK8P/H19VHtfIvIcHpsA9u3bF19//TVmz56NuXPnIi4uDgsXLsQ999wjnTNz5kwUFxdj+vTpyMnJQb9+/bB+/XqEhISoVk6OASRqXByJLUq7wp4DImogj00AAWDMmDEYM2ZMna/rdDokJSUhKSlJvUJdhbOAiRqfa8UWpXHsMBE1lMeOAWwsrnA1fyJyEuMGETUUE0ANCSEYyInIaew5IKKGYgKooSKzBWaLFQADORE5jvsAE1FDMQHUkG0cj5+PHoF+nMlHRI65Io0BZAJIRK5hAqghW/dvWKBvnbuPEBFdjYtAE1FDMQHUEJdyICJXVHUBMwEkItcwAdQQl3IgIldUTQJh5ZGIXMMEUENV3TgM4kTkuByOASSiBmICqKErhZVBPIAtgETkuCvsAiaiBmICqCFpHE8Qa/FE5JhyixX5JeUAOAmEiFzHBFBDV4rZAkhEzsmtHDoCAGHcQ5yIXMQEUEOFpRW1+GB/j96SmYhkVFhqAQAE+vnAR8/lo4jINUwANVRcVrELSKAvF4EmIscUl1UlgERErmICqKFic0ULYAADORE5qKgybviz4khEDcAEUEO2mjwTQCJylBQ3mAASUQMwAdRQkZmBnIicU2xmFzARNRwTQA2VMAEkIifZWgDZBUxEDcEEUENFHMxNRE4qYgsgEcmACaCGbF05rMkTkaNKOHaYiGTABFAjFqtAaXnlMjAM5ETkoKqxw1w/lIhcxwRQI7ZaPMCaPBE5ztZzEODH8E1ErmME0YitFg8A/gYmgETkmKqFoNkCSESuYwKokRJpJp8eem7nREQO4thhIpIDE0CNsBZPRK7gVnBEJAcmgBrhItBE5Ipixg4ikgETQI1UDeRmECcix3ErOCKSAxNAjRSXVWzoziBORM4oMlfGDlYeiagBmABqpNhcsQYggzgROaO4rDJ2sPJIRA3ABFAjUi2eQZyInFBcGTs4CYSIGoIJoEZKOJOPiFxgGwPoz9hBRA3ABFAjnAVMRK6wTSBj5ZGIGoIJoEaKuaE7EbmAy8AQkRyYAGqEQZyInCWEQBErj0QkAyaAGuFq/kTkrNJyK4So+Dcrj0TUEEwANWIbA8iB3ETkKFvPAcAEkIgahgmgRqQWQAZxInKQLW74+ehh8GH4JiLXMYJohFvBEZGzihg3iEgmHpsAJiUlQafT2T1MJpP0uhACSUlJiI6ORkBAAIYOHYqDBw+qVr6qBNCg2nsSUcNdK7YoqYT7ABORTDw2AQSA66+/HpmZmdJj//790mvz58/HggULsGjRIuzYsQMmkwkjRoxAfn6+KmUrYiAnarTqiy1KYgsgEcnFo5ufDAZDrTVzIQQWLlyIOXPmYMKECQCA5cuXIzIyEitWrMDUqVMVL1sJl4EharTqii1KK2bFkYhk4tEtgMeOHUN0dDTi4uIwceJEnDx5EgCQnp6OrKwsJCYmSucajUYkJCRgy5YtqpSNC0ETNV51xRalcewwEcnFY1sA+/Xrh48//hjXXXcdLly4gJdeegkDBw7EwYMHkZWVBQCIjIy0+53IyEicPn26zmuWlpaitLRUep6Xl+dy+bgVHFHjVF9sCQ8Pr/V35IodxWXlALh+KBE1nMe2AI4aNQq33XYbunbtiuHDh+N///sfgIquXhudTmf3O0KIGseqS0lJQVhYmPSIiYlxuXwlXAiaqFFyJLZcTa7YUWy2AgD8WXEkogby2ATwakFBQejatSuOHTsmjd2xtQTaZGdn12gVrG727NnIzc2VHhkZGS6VRQiBInNFTZ5dOUSNW/XYUhe5YoctbrDiSEQN5TUJYGlpKQ4fPoyoqCjExcXBZDIhNTVVet1sNiMtLQ0DBw6s8xpGoxGhoaF2D1eYLVZYbds5MZATNWrVY0td5IodXAaGiOTisQngM888g7S0NKSnp2Pbtm24/fbbkZeXh8mTJ0On02HGjBlITk7G119/jQMHDmDKlCkIDAzEpEmTFC8bt3Miarzqiy1K4zIwRCQXj50EcvbsWdx99924ePEiWrRogf79+2Pr1q2IjY0FAMycORPFxcWYPn06cnJy0K9fP6xfvx4hISGKl802A9jXRwdfbudE1KhcK7YoicvAEJFcPDYBXLlyZb2v63Q6JCUlISkpSZ0CVWOrxXMgN1Hjc63YoiRb7wHHABJRQ7H5SQMM4kTkClsLICuPRNRQTAA1wG4cInIFxwASkVyYAGqgajV/j+2BJyIFcP1QIpILE0ANVO0Cwo+fiBzHHYSISC7MQDRQVYtnCyAROY69B0QkFyaAGuAsYCJyBccPE5FcmABqoJjjeIjIBVxBgIjkwgRQA8W2fYBZiyciJ9j2AmbvARE1FBNADUjdOKzFE5ETSsqsANgCSEQNxwRQA8XmiiDOBJCIHFVuscJsqYwdbAEkogZiAqiB4rKKbpxABnEicpCt5wBg5ZGIGo4JoAaKuZo/ETnJlgDqdIDRwNBNRA3DKKIBLgNDRM4qrrYItE6n07g0RNTYMQHUAJeBISJnFXEJGCKSERNADTCQE5Gzijh0hIhkxARQA0XczomInCQtAu3LuEFEDccEUAO2haDZAkhEjrItAs0WQCKSAxNADRSZuZ8nETmHY4eJSE5MADXA/TyJyFkcO0xEcmICqDIhBIqkmjzH8hCRYzh2mIjkxARQZWaLFRarAMCxPETkONvY4SDGDSKSARNAldm6fwF25RCR47gMDBHJiQmgymxB3NdHB18ffvxE5BiOASQiOTEDUVlVEOc4HiJyXJG0fBRjBxE1HBNAlXEGMBG5gstHEZGcmACqjIu5EpErWHkkIjkxAVQZx/EQkSs4CYSI5MTBJCor4n6eRKrZt2+f07/TuXNnGAzu9/3k+qFEJCdGEpWxC5hIPT169IBOp4MQwqHz9Xo9jh49irZt2ypcMudxD3EikhMTQJVxP08idW3btg0tWrS45nlCCHTp0kWFErmGXcBEJCcmgCpjECdST0JCAtq3b48mTZo4dP6NN96IgIAAZQvlIk4CISI5MQFUGSeBEKnnxx9/dOr8NWvWKFSShuP4YSKSE2cBq6yYi7kSkZOsViENH2HvARHJgVmIyriYK5F2zp49i9WrV+PMmTMwm812ry1YsECjUl1bSXnVHuJBRsYOImo4JoAq4zgeIm1s3LgR//d//4e4uDgcOXIEXbp0walTpyCEQK9evbQuXr1sFUcA8DcwdhBRw7ELWGUcA0ikjdmzZ+Ppp5/GgQMH4O/vj6+++goZGRlISEjAHXfcoXXx6lVcredAr9dpXBoi8gRMAFVWJI3jYeMrkZoOHz6MyZMnAwAMBgOKi4sRHByMuXPnYt68eRqXrn6sOBKR3JgAqoyLuRJpIygoCKWlpQCA6OhonDhxQnrt4sWLWhXLIYVcQJ6IZKZ5Arhv3z6nH+Xl5U69R0pKCnQ6HWbMmCEdE0IgKSkJ0dHRCAgIwNChQ3Hw4EGZ764mrgNIpI3+/fvjl19+AQCMHj0aTz/9NF5++WU8+OCD6N+/v8vXrS2+yI1jh4lIbpr3Qyq9VdOOHTvw/vvvo1u3bnbH58+fjwULFuCjjz7Cddddh5deegkjRozAkSNHEBIS4vR9OEoK5JwFTKSqBQsWoKCgAACQlJSEgoICfP7552jfvj1ef/11l65ZV3yRW1XFUfOQTUQewi2iiVJbNRUUFOCee+7BkiVL8NJLL9ldZ+HChZgzZw4mTJgAAFi+fDkiIyOxYsUKTJ061fmbcFDVWB63+OiJvEJ+fj5OnDiBsrIyREdHo3nz5njnnXcadM264osSbHuIs+JIRHLRPAtRcqumRx99FKNHj8bw4cPtAnR6ejqysrKQmJgoHTMajUhISMCWLVvqTABLS0ulMUQAkJeX51A5qiviWB4iVe3btw+jRo1CVlYWhBAIDQ3FqlWrMHz48AZdt674UpuGxg52AROR3DQfA/jjjz86nPwBFVs1RUVFXfO8lStXYteuXUhJSanxWlZWFgAgMjLS7nhkZKT0Wm1SUlIQFhYmPWJiYhwut41tNX8u5kqkjlmzZqF169bYvHkzdu7ciYSEBDz22GMNumZ98aU2DY0dHDtMRHLTPAFUQkZGBp544gn8+9//hr+/f53n6XT262kJIWocq2727NnIzc2VHhkZGU6Vq8xiRZmlYqwj9/MkUsfOnTvx1ltvYeDAgejVqxc+/PBDHDt2TBoP6CxH40t1DY0dtoojWwCJSC5ukYXMnTvXofOef/55h87btWsXsrOz0bt3b+mYxWLBTz/9hEWLFuHIkSMAKloCq7cmZmdn12gVrM5oNMJoNDpUhtpUX82fNXkidVy8eBGtW7eWnoeHhyMwMBB//PEHgoODnb7eteJLaWkpfHzsv98Njx3cQ5yI5OUW0eTrr7+u8zWdTocjR46gpKTE4QTw5ptvxv79++2OPfDAA+jYsSP+9re/oW3btjCZTEhNTUXPnj0BAGazGWlpaYouCGsbx2PQ6+Bn8MjGVyK3o9PpkJ+fL7XW2Vr68/Pz7cbihYaGOnS9a8WXq5M/ObALmIjk5hYJ4J49e2o9vnfvXsyaNQsHDhzAI4884vD1QkJCaswWDgoKQnh4uHR8xowZSE5ORnx8POLj45GcnIzAwEBMmjTJ9Ru5Bk4AIVKfEALXXXddjWO2yp8tIbRYLLX9eg2OxBe5cfkoIpKbWySAV0tPT8dzzz2Hzz//HBMmTMDBgwcRHx8v63vMnDkTxcXFmD59OnJyctCvXz+sX79e0TUAuZ0Tkfp+/PFHrYvQYFLsMLplyCaiRsitosnFixfx4osv4v3338fgwYOxZcsW9O3bV5Zrb9q0ye65TqdDUlISkpKSZLm+I7gGIJH6EhISFH+Pq+OL3Fh5JCK5uUUmUlhYiH/9619YsGAB2rdvj//+9792a/R5CqkLmN04ROSE4jLuIU5E8nKLBLBdu3bIz8/H448/jrvvvhs6nQ779u2rcZ7S2y0pjYu5EqnP0UkZjo4B1II0CYSVRyKSiVskgNnZ2QAq9ud99dVX7fYFtu0T7MwgbXfFmXxE6hNCIDY2FpMnT5YmfjQ2xRw+QkQyc4tokp6ernURVFHExVyJVLdt2zZ8+OGHeOONNxAXF4cHH3wQ99xzD5o2bap10RxWyBUEiEhmbpEAxsbGal0EVRRzMVci1fXt2xd9+/bF66+/jlWrVmHZsmX429/+hrFjx+Khhx7CiBEjtC7iNXH4CBHJTfPViPft2wer1erw+QcPHkR5ebmCJVIOu4CJtOPv7497770XGzduxIEDB5CdnY2RI0fi8uXLWhftmjgLmIjkpnkC2LNnT1y6dMnh8wcMGIAzZ84oWCLlcDFXIm2dPXsWL730EkaMGIEjR47g2WefdXgHEK0IIaS9gFl5JCK5aN4XKYTAc889h8DAQIfON5vNCpdIOazFE6nPbDbj66+/xtKlS7F582aMGjUKCxcuxJ/+9Cfo9ZrXga+ppMwK27w4Dh8hIrloHk1uvPFGHDlyxOHzBwwYgICAAAVLpJyqLmDNP3YirxEVFYWQkBBMnjwZ77zzDiIiIgAABQUFdue5a0ugbf1QgMvAEJF8NM9ElF5B351wMVci9eXk5CAnJwf//Oc/8dJLL9V43d2XmbJVHI0GPXz0Oo1LQ0SeQvME0JtwEgiR+hr7XsDFXD6KiBTABFBFJZWB3J/dOESqUWMvYCUxbhCREtx/BLQHsVgrRnIb2I1DpIq8vDynzs/Pz1eoJK4rr4wb7P4lIjkxAVSRLQHU6xjIidTQtGlTaatJR7Rs2RInT55UsETOszIBJCIFsAtYRZVxnIGcSCVCCHzwwQcIDg526PyysjKFS+Q8KW6w4khEMnK7BPCTTz7Bu+++i/T0dPz666+IjY3FwoULERcXh3HjxmldvAaxCltNXuOCEHmJ1q1bY8mSJQ6fbzKZ4Ovrq2CJnCf1HLDiSEQycqsEcPHixXj++ecxY8YMvPzyy9KyDE2aNMHChQsbfQLILmAidZ06dUrrIjSYVHFk3CAiGblVW9Rbb72FJUuWYM6cOfDxqZrx1qdPH+zfv1/DksnDwrE8ROQktgASkRLcKgFMT09Hz549axw3Go0oLCzUoETyYk2eiJxl4dARIlKAW4WUuLg47N27t8bxtWvXonPnzuoXSGasyRORs6RZwKw4EpGM3GoM4LPPPotHH30UJSUlEEJg+/bt+Oyzz5CSkoIPPvhA6+I1GGcBE5GzWHEkIiW4VQL4wAMPoLy8HDNnzkRRUREmTZqEli1b4o033sDEiRO1Ll6DcRIIETmLQ0eISAlu1QUMAI888ghOnz6N7OxsZGVlISMjAw899JDWxZIFJ4EQaWfdunX4+eefpedvv/02evTogUmTJiEnJ0fDktXPYq34yRZAIpKTWyWA6enpOHbsGACgefPmiIiIAAAcO3aMyzkQUYM8++yz0tZw+/fvx9NPP40//elPOHnyJJ566imNS1c3C+MGESnArRLAKVOmYMuWLTWOb9u2DVOmTFG/QDKrGsujcUGIvFB6ero0meyrr77CmDFjkJycjHfeeQdr167VuHR141ZwRKQEt0pF9uzZg0GDBtU43r9//1pnBzc2VTuBMJATqc3Pzw9FRUUAgA0bNiAxMREA0KxZM6ll0B1xEggRKcGtJoHodDrk5+fXOJ6bmyvtCtKYWbicA5FmBg8ejKeeegqDBg3C9u3b8fnnnwMAjh49ilatWmlcurpVdQFrXBAi8ihu1QI4ZMgQpKSk2CV7FosFKSkpGDx4sIYlkwdr8kTaWbRoEQwGA1atWoXFixejZcuWACrWGR05cqTGpasbu4CJSAlu1QI4b948JCQkoEOHDhgyZAgAYPPmzcjLy8MPP/ygcekaTloHkC2ARKpr3bo1vvvuuxrHX3/9dQ1K4zhbCyCXjyIiOblVC+D111+Pffv24c4770R2djby8/Nx//334/fff0eXLl20Ll6DcRkYIu3s3r3bbk/xb7/9FuPHj8ff//53mM1mDUtWP7YAEpES3KYFsKysDImJiXjvvfeQnJysdXEUIdXkGciJVDd16lTMmjULXbt2xcmTJzFx4kTceuut+PLLL1FUVISFCxdqXcRacegIESnBbVoAfX19ceDAAeg8uJuDe3oSaefo0aPo0aMHAODLL7/EjTfeiBUrVuCjjz7CV199pW3h6mHh0BEiUoDbJIAAcP/992Pp0qVaF0MxVS2AGheEyAsJIWC1VmyrsWHDBvzpT38CAMTExODixYtaFq1e7AImIiW4TRcwAJjNZnzwwQdITU1Fnz59EBQUZPf6ggULNCpZwwkhIFiTJ9JMnz598NJLL2H48OFIS0vD4sWLAVQsEB0ZGalx6erGSSBEpAS3SgAPHDiAXr16AajorqmusXcN28bxAKzJE2lh4cKFuOeee/DNN99gzpw5aN++PQBg1apVGDhwoMalq1vV5DGNC0JEHsWtEsAff/xR6yIoxlaLBziYm0gL3bp1s5sFbPPqq6/Cx8dHgxI5hl3ARKQEt61Tnj17FufOndO6GLKpHHoEgF3ARFq5cuUKPvjgA8yePRuXL18GABw6dAjZ2dkal6xu7AImIiW4VQJotVoxd+5chIWFITY2Fq1bt0aTJk3wz3/+Uxq87ajFixejW7duCA0NRWhoKAYMGGC34bsQAklJSYiOjkZAQACGDh2KgwcPyn1LkuotgKzJE6lv3759iI+Px7x58/Cvf/0LV65cAQB8/fXXmD17tsPXuVZskRtbAIlICW6VAM6ZMweLFi3CK6+8gj179mD37t1ITk7GW2+9heeee86pa7Vq1QqvvPIKdu7ciZ07d2LYsGEYN26clOTNnz8fCxYswKJFi7Bjxw6YTCaMGDGi1r2I5VB9DCBr8kTqe+qpp/DAAw/g2LFj8Pf3l46PGjUKP/30k8PXuVZskRtbAIlIEcKNREVFiW+//bbG8W+++UZER0c3+PpNmzYVH3zwgbBarcJkMolXXnlFeq2kpESEhYWJd9991+Hr5ebmCgAiNzf3mudeLigVsX/7TsT+7TtRbrG6VH4isufMdzA0NFQcP35cCCFEcHCwOHHihBBCiFOnTgmj0digcthii6OcKXfKmsMi9m/fibn/PdiQIhJRNc58Bz2VW7UAXr58GR07dqxxvGPHjtJ4HVdYLBasXLkShYWFGDBgANLT05GVlYXExETpHKPRiISEBGzZssXl96m3DNUngbAiT6Q6f39/5OXl1Th+5MgRtGjRwqVrXh1blGAV7AImIvm5VQLYvXt3LFq0qMbxRYsWoXv37k5fb//+/QgODobRaMS0adPw9ddfo3PnzsjKygKAGmt/RUZGSq/VprS0FHl5eXYPR9nG8eh1jX9JG6LGaNy4cZg7dy7KysoAVHwPz5w5g1mzZuG2225z6lp1xZa6NCR2SFvBMW4QkYzcahmY+fPnY/To0diwYQMGDBgAnU6HLVu2ICMjA2vWrHH6eh06dMDevXtx5coVfPXVV5g8eTLS0tKk169OxIQQ9SZnKSkpePHFF50uB1DVAshaPJE2/vWvf+FPf/oTIiIiUFxcjISEBGRlZWHAgAF4+eWXnbpWXbGlriSwQbGD6wASkQJ0QlTrm3QD58+fx9tvv43ff/8dQgh07twZ06dPR3R0dIOvPXz4cLRr1w5/+9vf0K5dO+zevRs9e/aUXh83bhyaNGmC5cuX1/r7paWlKC0tlZ7n5eUhJiYGubm5CA0Nrfe9z+YUYfC8H2E06HHkpVENvhciqvgOhoWFOfQdtPnhhx+we/duWK1W9OrVC8OHD29wOWyx5b333qv19YbEjue/PYCPfz2Nvw5rj6cSOzS4rETkWuzwNG7RAnjy5EnExcVBp9MhOjra6dq4o4QQKC0tRVxcHEwmE1JTU6UE0Gw2Iy0tDfPmzavz941GI4xGo0vvbVvFhi2AROorLy+Hv78/9u7di2HDhmHYsGGyXt8WW+rSkNghdQEzdhCRjNwiAYyPj0dmZiYiIiIAAHfddRfefPPNBu3P+fe//x2jRo1CTEwM8vPzsXLlSmzatAnr1q2DTqfDjBkzkJycjPj4eMTHxyM5ORmBgYGYNGmSXLdlR+oC5jgeItUZDAbExsbCYrE0+Fr1xRYlWBk7iEgBbpEAXt0LvWbNGqSkpDTomhcuXMB9992HzMxMhIWFoVu3bli3bh1GjBgBAJg5cyaKi4sxffp05OTkoF+/fli/fj1CQkIa9L51YS2eSFv/+Mc/MHv2bHz66ado1qyZy9e5VmyRG2MHESnBLRJAJSxdurTe13U6HZKSkpCUlKRKebiUA5G23nzzTRw/fhzR0dGIjY1FUFCQ3eu7d+926DrXii1ys3D4CBEpwC0SQJ1OV2P2ractlcKlHIi0NW7cuEYZV9gFTERKcIsEUAiBKVOmSIOkS0pKMG3atBo19P/85z9aFE8WXMqBSFtqtfbLzRY7mP8RkZzcIgGcPHmy3fN7771Xo5Ioh7V4Im21bdsWO3bsQHh4uN3xK1euoFevXjh58qRGJasf1xAlIiW4RQK4bNkyrYugOA7kJtLWqVOnap0FXFpairNnz2pQIsdYrUwAiUh+bpEAegNOAiHSxurVq6V/f//99wgLC5OeWywWbNy4EXFxcVoUzSEcP0xESmACqBJpJh+DOJGqxo8fD6BiYtnVw018fX3Rpk0bvPbaaxqUzDGsPBKREpgAqoRdwETasFZuwxMXF4cdO3agefPmGpfIOdIEMlYeiUhGTABVwkkgRNpKT0/XuggusVSuk8/KIxHJiYuSqIQtgETa2LZtG9auXWt37OOPP0ZcXBwiIiLw5z//ud59fLVm5RJSRKQAhhSVVC3loHFBiLxMUlIS9u3bJz3fv38/HnroIQwfPhyzZs3Cf//73wZvPakkTgIhIiUwHVGJleN4iDSxd+9e3HzzzdLzlStXol+/fliyZAmeeuopvPnmm/jiiy80LGH9uA4gESmBCaBK2AVMpI2cnBxERkZKz9PS0jBy5Ejped++fZGRkaFF0RzCyiMRKYEJoEpsk0DYjUOkrsjISGkCiNlsxu7duzFgwADp9fz8fPj6+mpVvGuytQCy8khEcmICqBKuA0ikjZEjR2LWrFnYvHkzZs+ejcDAQAwZMkR6fd++fWjXrp2GJawfWwCJSAlcBkYlVbV4jQtC5GVeeuklTJgwAQkJCQgODsby5cvh5+cnvf7hhx8iMTFRwxLWj2MAiUgJTABVwv08ibTRokULbN68Gbm5uQgODoaPj4/d619++SWCg4M1Kt212XoP2AVMRHJiAqgSLuVApK3qewBX16xZM5VL4hx2AROREtghqRJ24xCRKzh8hIiUwJCiEtbiicgVjB1EpAQmgCqxcj9PInKBlb0HRKQAJoAqkbqAWYsnIidwHUAiUgITQJVwFjARucLKNUSJSAFMAFXCreCIyBUWVh6JSAFMAFUijeNhDCciJ1i4jSQRKYAJoErYAkhEruDwESJSAhNAlXASCBG5omoNUY0LQkQehSFFJazFE5EruIsQESmBCaBKuJ8nEbmClUciUgITQJWwC5iIXMFJIESkBCaAKmEtnohcIa0DyNhBRDJiAqgS1uKJyBUWbgVHRApgAqiSqhZAjQtCRI0KJ4EQkRKYjqiE6wASkbNsFUeALYBEJC8mgCrhJBAicpYtbgCMHUQkLyaAKuEkECJylqVaC6Ce0ZqIZMSQohJOAiEiZ1kFu4CJSBlMAFVi4VIOROQkuxZAVh6JSEZMAFXCLmAicpZtDUCAsYOI5OWxCWBKSgr69u2LkJAQREREYPz48Thy5IjdOUIIJCUlITo6GgEBARg6dCgOHjyoSHnYBUzkGRyJLXLhJBAiUorHJoBpaWl49NFHsXXrVqSmpqK8vByJiYkoLCyUzpk/fz4WLFiARYsWYceOHTCZTBgxYgTy8/NlLw/XASTyDI7EFrnYTwJhAkhE8jFoXQClrFu3zu75smXLEBERgV27duHGG2+EEAILFy7EnDlzMGHCBADA8uXLERkZiRUrVmDq1KmyloctgESe4VqxRU5W7gJCRArxmvao3NxcAECzZs0AAOnp6cjKykJiYqJ0jtFoREJCArZs2VLrNUpLS5GXl2f3cJSFYwCJPNLVsaU2rsYOKW6w4khEMvOKBFAIgaeeegqDBw9Gly5dAABZWVkAgMjISLtzIyMjpdeulpKSgrCwMOkRExPjcBlYkyfyPLXFltq4GjuqdhCSpbhERBKvCCuPPfYY9u3bh88++6zGa7qratZCiBrHbGbPno3c3FzpkZGR4XAZuJ8nkeepL7ZU52rssHLoCBEpxGPHANo8/vjjWL16NX766Se0atVKOm4ymQBUtARGRUVJx7Ozs2u0CtoYjUYYjUaXysF1AIk8S12xpTauxg52ARORUjy2BVAIgcceewz/+c9/8MMPPyAuLs7u9bi4OJhMJqSmpkrHzGYz0tLSMHDgQNnLY+VewEQe4VqxRU5SCyArjkQkM49tAXz00UexYsUKfPvttwgJCZHG9YWFhSEgIAA6nQ4zZsxAcnIy4uPjER8fj+TkZAQGBmLSpEmyl6dqLA8DOVFjdq3YIif2HBCRUjw2AVy8eDEAYOjQoXbHly1bhilTpgAAZs6cieLiYkyfPh05OTno168f1q9fj5CQENnLUzUJRPZLE5GKHIktcuHYYSJSiscmgKLaCvp10el0SEpKQlJSkuLlYSAn8gyOxBa5sOJIREphWFEJ1wEkImdxEggRKYUJoEo4CYSInGXhJBAiUggTQJVwEggROcvKngMiUggTQJVYKocNsQWQiBzFLmAiUgoTQJWwJk9EzmIXMBEphQmgStgFTETOstrWAWQLIBHJjAmgSjgJhIicxRZAIlIKE0CVVLUAalwQImo0qoaOaFwQIvI4DCsqsbAFkIicxEkgRKQUJoAq4SQQInIWu4CJSClMAFXCQE5EzrKyBZCIFMIEUCWczUdEzmLFkYiUwgRQJdwLmIicxTGARKQUJoAqkWryDORE5CBp+ShWHIlIZkwAVcJJIETkLEvl0BF2AROR3JgAqkRaBoafOBE5qGoSiMYFISKPw3REJdJC0OwCJiIHWdgFTEQKYQKoEnYBE5GzWHEkIqUwAVQJJ4EQkbM4CYSIlMIEUCVWDuYmIidV7SHOuEFE8mICqBLuBUxEzuI6gESkFCaAKqmqyWtcECJqNNgFTERKYTqiAtsEEIA1eSJynLQOIOMGEcmMCaAKbLV4gDV5InKcleuHEpFCGFZUYKmWAHIwNxE5istHEZFSmACqwDYDGGAXMBE5jstHEZFSmACqwMIuYCJyAVsAiUgpTABVYKk2CYQ1eSJyFFsAiUgpTABVYDcLmDV5InKQbRYw4wYRyY0JoArsJoEwjhORg7gOIBEphQmgCqzShu6Ajl05ROQgaQF5xg0ikhkTQBVYWIsnIhdIW8ExUhORzBhWVMBaPBG5wso9xIlIIUwAVWDlQG4ickHVHuKMHUQkLyaAKrCwFk9ELmALIBEphQmgCliLJyJXMHYQkVKYAKqASzkQkSts6wBy/DARyc1jE8CffvoJY8eORXR0NHQ6Hb755hu714UQSEpKQnR0NAICAjB06FAcPHhQkbJwEgiRZ7lWfJFLVeVRkcsTkRfz2LBSWFiI7t27Y9GiRbW+Pn/+fCxYsACLFi3Cjh07YDKZMGLECOTn58teFi7lQORZrhVf5MLKIxEpxaB1AZQyatQojBo1qtbXhBBYuHAh5syZgwkTJgAAli9fjsjISKxYsQJTp06VtSwcyE3kWeqLL3LiGqJEpBSvbJNKT09HVlYWEhMTpWNGoxEJCQnYsmWL7O/HgdxE5AqrlQkgESnDY1sA65OVlQUAiIyMtDseGRmJ06dP1/l7paWlKC0tlZ7n5eU59H6cBELk3VyNHewCJiKleGULoM3V+/IKIerdqzclJQVhYWHSIyYmxqH3sc3kYxcwkXdyNXaw8khESvHKBNBkMgGoagm0yc7OrtEqWN3s2bORm5srPTIyMhx6P3YBE3m3hsYOVh6JSG5emQDGxcXBZDIhNTVVOmY2m5GWloaBAwfW+XtGoxGhoaF2D0dwEgiRd3M1dlgqQgcrj0QkO48dA1hQUIDjx49Lz9PT07F37140a9YMrVu3xowZM5CcnIz4+HjEx8cjOTkZgYGBmDRpkuxlYQsgkWe5VnyRi5VLSBGRQjw2Ady5cyduuukm6flTTz0FAJg8eTI++ugjzJw5E8XFxZg+fTpycnLQr18/rF+/HiEhIbKXxcLFXIk8yrXii1w4CYSIlOKxCeDQoUMhKhOv2uh0OiQlJSEpKUnxslg5jofIo1wrvsiF6wASkVLYJqUCdgETkStYeSQipTABVAEngRCRK2wtgKw8EpHcmACqwLYOIIM4ETmDLYBEpBQmgCqwsAWQiFzAMYBEpBQmgCrgfp5E5Ar2HhCRUpgAqoCTQIjIFewCJiKlMAFUQVUXsMYFIaJGpWoSiMYFISKPw7CiAnYBE5Er2AJIREphAqgCqRbPIE5ETuAkECJSChNAFbAFkIhcwfHDRKQUJoAqYBAnIlewC5iIlMIEUAWWyi1DGcSJyBnsAiYipTABVAG7gInIFdI6gKw8EpHMmACqgJNAiMgVVrYAEpFCmACqwCK1AGpcECJqVBg7iEgpDCsqYBcwEbnCFjvYe0BEcmMCqAJ2ARORKzgJhIiUwgRQBWwBJCJXWNgCSEQKYQKoArYAEpErOAmEiJTCBFAFtqUcGMSJyBkW9h4QkUKYAKqAtXgicpYQApX5H3sPiEh2TABVwHE8ROQsW/IHsPJIRPJjAqgCruVFRM6yVMsAuY0kEcmNKYkKpC5gBnEicpAtbgCAnpGaiGTGsKICW01exwSQiBxk1wLILmAikhkTQBVwEggROctSvQWQlUcikhkTQBVwKQcicpaVLYBEpCAmgCqwrQPIWjwROYqTQIhISUwAVSAEZwETkXOqLwOjZwsgEcmMKYkKuBUcETnLKsUNjQtCRB6JCaAKOAaQiJzFuEFESmICqALOAiYiZ3EHISJSEhNAFTCQE5GzWHEkIiUxAVSBbRYwAzkROUrqAmbFkYgUwARQBdwKjoicJU0CYcWRiBTABFAFUhcwAzkROYg9B0SkJCaAKrByHUAichLHDhORkpiSqICBnIicxYojESnJ60PLO++8g7i4OPj7+6N3797YvHmz7O/B9byIPI/SsYOTQIhISV6dAH7++eeYMWMG5syZgz179mDIkCEYNWoUzpw5I+v7cBIIkWdRI3ZYOAmEiBTk1QngggUL8NBDD+Hhhx9Gp06dsHDhQsTExGDx4sWyvg8ngRB5FjVih5U9B0SkIK9NAM1mM3bt2oXExES744mJidiyZUutv1NaWoq8vDy7hyMslZu6swWQqPFTK3awC5iIlOS1CeDFixdhsVgQGRlpdzwyMhJZWVm1/k5KSgrCwsKkR0xMjEPvxZo8kedQK3awC5iIlOS1CaCN7qratRCixjGb2bNnIzc3V3pkZGQ49B4PD4nDP0Z3QvuI4AaXl4jcg9Kxo014EJ4b0xnTEtrJUl4iouoMWhdAK82bN4ePj0+NGnt2dnaNmr2N0WiE0Wh0+r3G9WjpUhmJyP2oFTuimwTgocFxLpeTiKg+XtsC6Ofnh969eyM1NdXueGpqKgYOHKhRqYjI3TF2EJEn8NoWQAB46qmncN9996FPnz4YMGAA3n//fZw5cwbTpk3TumhE5MYYO4iosfPqBPCuu+7CpUuXMHfuXGRmZqJLly5Ys2YNYmNjtS4aEbkxxg4iaux0QlRONSOn5eXlISwsDLm5uQgNDdW6OERep7F+BxtruYk8Bb+DXjwGkIiIiMhbMQEkIiIi8jJMAImIiIi8DBNAIiIiIi/DBJCIiIjIyzABJCIiIvIyTACJiIiIvAwTQCIiIiIvwwSQiIiIyMt49VZwDWXbRCUvL0/jkhB5J9t3r7FtaMTYQaStxho75MQEsAHy8/MBADExMRqXhMi75efnIywsTOtiOIyxg8g9NLbYISfuBdwAVqsV58+fR0hICHQ6XZ3n5eXlISYmBhkZGY1+z0FPuhfAs+7HG+9FCIH8/HxER0dDr288I1q8MXZoiZ+jPDzpc2yssUNObAFsAL1ej1atWjl8fmhoaKP/0th40r0AnnU/3nYvjbH27s2xQ0v8HOXhKZ9jY4wdcvLOtJeIiIjIizEBJCIiIvIyTABVYDQa8cILL8BoNGpdlAbzpHsBPOt+eC+eh5+DPPg5yoOfo2fhJBAiIiIiL8MWQCIiIiIvwwSQiIiIyMswASQiIiLyMkwAiYiIiLwME0AHvPPOO4iLi4O/vz969+6NzZs313t+WloaevfuDX9/f7Rt2xbvvvtujXO++uordO7cGUajEZ07d8bXX3/d4PfV4l6WLFmCIUOGoGnTpmjatCmGDx+O7du3252TlJQEnU5n9zCZTA2+FyXu56OPPqpRVp1Oh5KSkga9rxb3MnTo0FrvZfTo0dI5Sv1tnLmXzMxMTJo0CR06dIBer8eMGTNqPU+r74yctIolnkaLOOaJlPjv0WblypXQ6XQYP368zKUm2Qiq18qVK4Wvr69YsmSJOHTokHjiiSdEUFCQOH36dK3nnzx5UgQGBoonnnhCHDp0SCxZskT4+vqKVatWSeds2bJF+Pj4iOTkZHH48GGRnJwsDAaD2Lp1q8vvq9W9TJo0Sbz99ttiz5494vDhw+KBBx4QYWFh4uzZs9I5L7zwgrj++utFZmam9MjOznb5PpS8n2XLlonQ0FC7smZmZjbofbW6l0uXLtndw4EDB4SPj49YtmyZdI4Sfxtn7yU9PV389a9/FcuXLxc9evQQTzzxRI1ztPrOyEmrWOJptIpjnkaJz9Hm1KlTomXLlmLIkCFi3LhxCt8JuYoJ4DXccMMNYtq0aXbHOnbsKGbNmlXr+TNnzhQdO3a0OzZ16lTRv39/6fmdd94pRo4caXfOLbfcIiZOnOjy+zpCiXu5Wnl5uQgJCRHLly+Xjr3wwguie/fuLpe7Lkrcz7Jly0RYWJis7+sINf42r7/+uggJCREFBQXSMSX+Ng35fBISEmpNALX6zshJq1jiabSKY55Gqc+xvLxcDBo0SHzwwQdi8uTJTADdGLuA62E2m7Fr1y4kJibaHU9MTMSWLVtq/Z1ff/21xvm33HILdu7cibKysnrPsV3TlffV6l6uVlRUhLKyMjRr1szu+LFjxxAdHY24uDhMnDgRJ0+edOk+bJS8n4KCAsTGxqJVq1YYM2YM9uzZ06D31fJeqlu6dCkmTpyIoKAgu+Ny/m2U+HwAbb4zctIqlngareOYp1Dyc5w7dy5atGiBhx56SP6Ck6yYANbj4sWLsFgsiIyMtDseGRmJrKysWn8nKyur1vPLy8tx8eLFes+xXdOV99XqXq42a9YstGzZEsOHD5eO9evXDx9//DG+//57LFmyBFlZWRg4cCAuXbrk0r0oeT8dO3bERx99hNWrV+Ozzz6Dv78/Bg0ahGPHjrn8vlrdS3Xbt2/HgQMH8PDDD9sdl/tvo8TnA2jznZGTVrHE02gZxzyJUp/jL7/8gqVLl2LJkiXKFJxkZdC6AI2BTqezey6EqHHsWudffdyRazr7vo5Q4l5s5s+fj88++wybNm2Cv7+/dHzUqFHSv7t27YoBAwagXbt2WL58OZ566imX7qO+8jXkfvr374/+/ftLrw8aNAi9evXCW2+9hTfffNPl93WEkn+bpUuXokuXLrjhhhvsjiv1t9Hq81HifeWkVSzxNFrEMU8k5+eYn5+Pe++9F0uWLEHz5s3lLyzJjglgPZo3bw4fH58aNaLs7OwaNSEbk8lU6/kGgwHh4eH1nmO7pivvq9W92PzrX/9CcnIyNmzYgG7dutVblqCgIHTt2lVqVXOF0vdjo9fr0bdvX6msjfFvU1RUhJUrV2Lu3LnXLEtD/zZKfD6ANt8ZOWkVSzyNO8WxxkyJz/HgwYM4deoUxo4dK71utVoBAAaDAUeOHEG7du1kvhNqCHYB18PPzw+9e/dGamqq3fHU1FQMHDiw1t8ZMGBAjfPXr1+PPn36wNfXt95zbNd05X21uhcAePXVV/HPf/4T69atQ58+fa5ZltLSUhw+fBhRUVEu3EkFJe+nOiEE9u7dK5W1sf1tAOCLL75AaWkp7r333muWpaF/GyU+H0Cb74yctIolnsad4lhjpsTn2LFjR+zfvx979+6VHv/3f/+Hm266CXv37kVMTIxi90MuUnPGSWNkmyq/dOlScejQITFjxgwRFBQkTp06JYQQYtasWeK+++6TzrdNlX/yySfFoUOHxNKlS2tMlf/ll1+Ej4+PeOWVV8Thw4fFK6+8UueSFnW9r7vcy7x584Sfn59YtWqV3VIi+fn50jlPP/202LRpkzh58qTYunWrGDNmjAgJCWnQvSh1P0lJSWLdunXixIkTYs+ePeKBBx4QBoNBbNu2zeH3dZd7sRk8eLC46667an1fJf42zt6LEELs2bNH7NmzR/Tu3VtMmjRJ7NmzRxw8eFB6XavvjJy0iiWeRqs45mmUjDk2nAXs3pgAOuDtt98WsbGxws/PT/Tq1UukpaVJr02ePFkkJCTYnb9p0ybRs2dP4efnJ9q0aSMWL15c45pffvml6NChg/D19RUdO3YUX331lVPv6y73EhsbKwDUeLzwwgvSOXfddZeIiooSvr6+Ijo6WkyYMMHuf+7udD8zZswQrVu3Fn5+fqJFixYiMTFRbNmyxan3dZd7EUKII0eOCABi/fr1tb6nUn8bZ++ltv+GYmNj7c7R6jsjJ61iiafRIo55IiX+e6yOCaB70wlROYqTiIiIiLwCxwASEREReRkmgERERERehgkgERERkZdhAkhERETkZZgAEhEREXkZJoBEREREXoYJIBEREZGXYQJI16TT6fDNN9/Icq1Tp05Bp9Nh7969slyvMdq0aRN0Oh10Oh3Gjx+vSRmmTJkilUGuvy0RETUeTAC9WPUkwNfXF5GRkRgxYgQ+/PBDaRNvAMjMzMSoUaM0LGnjNXToUMyYMaPW144cOYKPPvpI1fLYvPHGG8jMzNTkvYk8hSsV2qSkJCnuLly4sN5zbec1adKkQeUkqg0TQC83cuRIZGZm4tSpU1i7di1uuukmPPHEExgzZgzKy8sBACaTCUajUeOSep6IiAjNAntYWBhMJpMm702kpOzsbEydOhWtW7eG0WiEyWTCLbfcgl9//RWAvD0aMTExyMzMRJcuXZz6veuvvx6ZmZn485//XO95mZmZ10wSiVzFBNDL2QJky5Yt0atXL/z973/Ht99+i7Vr10qtU9UDptlsxmOPPYaoqCj4+/ujTZs2SElJka6n0+mwePFijBo1CgEBAYiLi8OXX35Z5/tbLBY89NBDiIuLQ0BAADp06IA33nijxnkffvghrr/+ehiNRkRFReGxxx6TXsvNzcWf//xnREREIDQ0FMOGDcNvv/0mvZ6UlIQePXrgww8/ROvWrREcHIy//OUvsFgsmD9/PkwmEyIiIvDyyy/bvaej1/3kk0/Qpk0bhIWFYeLEicjPzwdQ0cKalpaGN954Q6rJnzp1qs7PYujQoXj88ccxY8YMNG3aFJGRkXj//fdRWFiIBx54ACEhIWjXrh3Wrl0r/Y6tO/n7779Hz549ERAQgGHDhiE7Oxtr165Fp06dEBoairvvvhtFRUV1vjeRp7jtttvw22+/Yfny5Th69ChWr16NoUOH4vLlyw5fo6yszKHzfHx8YDKZYDAYnCqjwWCAyWRCYGBgveeZTCaEhYU5dW0iRzEBpBqGDRuG7t274z//+U+N1958802sXr0aX3zxBY4cOYJPP/0Ubdq0sTvnueeek4Lwvffei7vvvhuHDx+u9b2sVitatWqFL774AocOHcLzzz+Pv//97/jiiy+kcxYvXoxHH30Uf/7zn7F//36sXr0a7du3BwAIITB69GhkZWVhzZo12LVrF3r16oWbb77ZLuCfOHECa9euxbp16/DZZ5/hww8/xOjRo3H27FmkpaVh3rx5+Mc//oGtW7c6fd1vvvkG3333Hb777jukpaXhlVdeAVDRzTpgwAA88sgjyMzMRGZmJmJiYur97JcvX47mzZtj+/btePzxx/GXv/wFd9xxBwYOHIjdu3fjlltuwX333VcjmUtKSsKiRYuwZcsWZGRk4M4778TChQuxYsUK/O9//0Nqaireeuutet+bqLG7cuUKfv75Z8ybNw833XQTYmNjccMNN2D27NkYPXq0FKtuvfVW6HQ66Xn1SmLbtm1hNBohhMC6deswePBgNGnSBOHh4RgzZgxOnDghvd/VXcC2CtnGjRvRp08fBAYGYuDAgThy5IjKnwSRAwR5rcmTJ4tx48bV+tpdd90lOnXqJIQQAoD4+uuvhRBCPP7442LYsGHCarXW+nsAxLRp0+yO9evXT/zlL38RQgiRnp4uAIg9e/bUWa7p06eL2267TXoeHR0t5syZU+u5GzduFKGhoaKkpMTueLt27cR7770nhBDihRdeEIGBgSIvL096/ZZbbhFt2rQRFotFOtahQweRkpLSoOs+++yzol+/ftLzhIQE8cQTT9hd48cffxQARE5Ojt3xhIQEMXjwYOl5eXm5CAoKEvfdd590LDMzUwAQv/76q921NmzYIJ2TkpIiAIgTJ05Ix6ZOnSpuueWWqz8+u78tUWNXVlYmgoODxYwZM2p8d4UQIjs7WwAQy5YtE5mZmSI7O1sIUfFdDgoKErfccovYvXu3+O2334TVahWrVq0SX331lTh69KjYs2ePGDt2rOjatasUN66OZ7bvY79+/cSmTZvEwYMHxZAhQ8TAgQOlMrzwwguie/fuDt/TsmXLRFhYmMufCVFdnGu3Jq8hhIBOp6txfMqUKRgxYgQ6dOiAkSNHYsyYMUhMTLQ7Z8CAATWe1zdI+t1338UHH3yA06dPo7i4GGazGT169ABQMZ7n/PnzuPnmm2v93V27dqGgoADh4eF2x4uLi+1q6m3atEFISIj0PDIyEj4+PtDr9XbHsrOzG3TdqKgo6Rqu6Natm/RvHx8fhIeHo2vXrnZlBFDjPar/XmRkJAIDA9G2bVu7Y9u3b3e5XESNgcFgwEcffYRHHnkE7777Lnr16oWEhARMnDgR3bp1Q4sWLQAATZo0qTEG1mw245NPPpHOASq6k6tbunQpIiIicOjQoXrH/b388stISEgAAMyaNQujR49GSUkJ/P395bpVogZjAki1Onz4MOLi4moc79WrF9LT07F27Vps2LABd955J4YPH45Vq1bVe73akkkA+OKLL/Dkk0/itddew4ABAxASEoJXX30V27ZtAwAEBATUe12r1YqoqChs2rSpxmvVJ1j4+vrWKE9tx2yznxty3eozqJ11rXLaPser3+Pqc+QuF1Fjcdttt2H06NHYvHkzfv31V6xbtw7z58/HBx98gClTptT5e7GxsXbJH1AxxOO5557D1q1bcfHiRek7dObMmXoTwOoVsqioKAAVlbbWrVvXev60adPw6aefSs8LCgqueZ9EDcUEkGr44YcfsH//fjz55JO1vh4aGoq77roLd911F26//XaMHDkSly9fRrNmzQAAW7duxf333y+dv3XrVvTs2bPWa23evBkDBw7E9OnTpWPVW9hCQkLQpk0bbNy4ETfddFON3+/VqxeysrJgMBhqjEVsCLmu6+fnB4vFIlu5iOja/P39MWLECIwYMQLPP/88Hn74Ybzwwgv1JoBBQUE1jo0dOxYxMTFYsmQJoqOjYbVa0aVLF5jN5nrf35FKW3Vz587FM888c427IpIXE0AvV1paiqysLFgsFly4cAHr1q1DSkoKxowZY5fE2bz++uuIiopCjx49oNfr8eWXX8JkMtm1in355Zfo06cPBg8ejH//+9/Yvn07li5dWuv7t2/fHh9//DG+//57xMXF4ZNPPsGOHTvsWh+TkpIwbdo0REREYNSoUcjPz8cvv/yCxx9/HMOHD8eAAQMwfvx4zJs3Dx06dMD58+exZs0ajB8/Hn369HHpc5Hrum3atMG2bdtw6tQpBAcHS0kyEamnc+fO0koGvr6+DlXKLl26hMOHD+O9997DkCFDAAA///yzIuWLiIhARESEItcmqgsTQC+3bt06REVFwWAwoGnTpujevTvefPNNTJ482W58nE1wcDDmzZuHY8eOwcfHB3379sWaNWvszn3xxRexcuVKTJ8+HSaTCf/+97/RuXPnWt9/2rRp2Lt3L+666y7odDrcfffdmD59ut1SJ5MnT0ZJSQlef/11PPPMM2jevDluv/12ABW16zVr1mDOnDl48MEH8ccff8BkMuHGG2+Uxsu5Qq7rPvPMM5g8eTI6d+6M4uJipKenu1wmIqrfpUuXcMcdd+DBBx9Et27dEBISgp07d2L+/PkYN24cAEg9CoMGDYLRaETTpk1rvVbTpk0RHh6O999/H1FRUThz5gxmzZql5u0QKUvrWSjkWcBZpddU1yxgLfDvRZ6kpKREzJo1S/Tq1UuEhYWJwMBA0aFDB/GPf/xDFBUVCSGEWL16tWjfvr0wGAwiNjZWCFH3zNzU1FTRqVMnYTQaRbdu3cSmTZvsvjN1zQKu/t3es2ePACDS09Prfa+6cBYwKYUtgEQaadWqFcaOHYvPPvtM9fe+etA5kScwGo1ISUmxW5z+amPHjsXYsWPtjiUlJSEpKanGucOHD8ehQ4fsjgkhpH+3adPG7vnQoUPtngNAjx49ahwjcgdMAIlU1q9fPxw7dgxARZe6FqoPOrfNUiQidezfvx/BwcGYP3++3QS4qwUHB6O8vJzLx5AidIJVEyIiIlVcvnxZ2k2oRYsW9W71dvz4cQAVa4LWtiwXUUMwASQiIiLyMtwLmIiIiMjLMAEkIiIi8jJMAImIiIi8DBNAIiIiIi/DBJCIiIjIyzABJCIiIvIyTACJiIiIvAwTQCIiIiIv8/8ZRigqhTF9dQAAAABJRU5ErkJggg==' width=640.0/>\n",
       "            </div>\n",
       "        "
      ],
      "text/plain": [
       "Canvas(toolbar=Toolbar(toolitems=[('Home', 'Reset original view', 'home', 'home'), ('Back', 'Back to previous …"
      ]
     },
     "metadata": {},
     "output_type": "display_data"
    }
   ],
   "source": [
    "U_last = m.hist.U_t[-1]\n",
    "F_last = m.hist.U_t[-1]\n",
    "U_t = np.average(m.hist.U_t[:, bc_r_x.dofs], axis=-1)\n",
    "F_t = np.sum(m.hist.F_t[:, bc_r_x.dofs], axis=-1)\n",
    "fig, (ax1,ax2) = plt.subplots(1, 2)\n",
    "ax1.plot(U_t, F_t)\n",
    "ax1.set_ylabel('Force [N]')\n",
    "ax1.set_xlabel('Displacement[mm]')\n",
    "ax2.plot(U_t/size_x, F_t/(size_y*size_z))\n",
    "ax2.set_ylabel('Stress [MPa]')\n",
    "ax2.set_xlabel('Strain[-]')\n",
    "G = np.trapz(F_t, x=U_t)/((size_z)*(size_y))*1000\n",
    "G2 = np.trapz(F_t/(size_y*size_z), x=U_t/size_x)\n",
    "print(G)\n",
    "print(G2)"
   ]
  },
  {
   "cell_type": "code",
   "execution_count": 9,
   "id": "28244ecd-31d6-4472-b920-ecd6fba34a9c",
   "metadata": {},
   "outputs": [],
   "source": [
    "if True:\n",
    "    mlab.options.backend = 'envisage'\n",
    "    mlab.options.offscreen = False # 'envisage'\n",
    "    f_strain = mlab.figure()\n",
    "    scene = mlab.get_engine().scenes[-1]\n",
    "    scene.name = 'stress'\n",
    "    strain_viz = Viz3DTensorField(vis3d=m.hist['stress'])\n",
    "    strain_viz.setup()\n",
    "    strain_viz.warp_vector.filter.scale_factor = 0.1\n",
    "    strain_viz.plot(s.tstep.t_n)\n",
    "    mlab.show()"
   ]
  },
  {
   "cell_type": "markdown",
   "id": "a607e7a9-9c5e-4859-82d0-670b2d1f6943",
   "metadata": {},
   "source": [
    "## Tension ligament"
   ]
  },
  {
   "cell_type": "code",
   "execution_count": 10,
   "id": "1c69aa1e-26ff-41b1-8a4a-92e10fea2d02",
   "metadata": {
    "tags": []
   },
   "outputs": [],
   "source": [
    "size_x = 2\n",
    "size_y = 10\n",
    "size_z = 1\n",
    "n_e_x = 1\n",
    "n_e_y = 1\n",
    "n_e_x = 1\n",
    "\n",
    "xmodel = XDomainFEGrid(coord_min=(0, 0, 0),\n",
    "                       coord_max=(size_x ,size_y, size_z),\n",
    "                       shape=(n_e_x, n_e_y, n_e_x),\n",
    "                     integ_factor=1,\n",
    "                     fets=FETS3D8H())\n",
    "E = 34000\n",
    "\n",
    "m_inelastic = MS13D(**CAxisymm)\n",
    "m_elastic = MATS3DElastic(E=34000, nu=0.2)\n",
    "m = TStepBC(\n",
    "    domains=[(xmodel, m_inelastic),\n",
    "             ]\n",
    ")"
   ]
  },
  {
   "cell_type": "code",
   "execution_count": 11,
   "id": "3441d305-2e4d-47e5-9354-0369f3be1b72",
   "metadata": {},
   "outputs": [],
   "source": [
    "w_max = 0.01 * size_x\n",
    "\n",
    "# Tension bc\n",
    "bc_l_x = BCSlice(slice=xmodel.mesh[0, :, :, 0, :, :],\n",
    "                  var='u', dims=[0], value=0.0)\n",
    "bc_r_x = BCSlice(slice=xmodel.mesh[-1, :, :, -1, :, :],\n",
    "                 var='u', dims=[0], value=w_max)\n",
    "bc_r_y = BCSlice(slice=xmodel.mesh[-1, :, :, -1, :, :],\n",
    "                 var='u', dims=[1], value=w_max)\n",
    "bc_xy_z0 = BCSlice(slice=xmodel.mesh[:, :, 0, :, :, 0],\n",
    "                  var='u', dims=[2], value=0)\n",
    "bc_xz_y0 = BCSlice(slice=xmodel.mesh[:, 0, :, :, 0, :],\n",
    "                 var='u', dims=[1], value=0)"
   ]
  },
  {
   "cell_type": "code",
   "execution_count": 12,
   "id": "6fc51bc5-d017-4159-b314-0ebb0fbb1244",
   "metadata": {},
   "outputs": [],
   "source": [
    "bc1 = [bc_l_x, bc_r_x, bc_xy_z0, bc_xz_y0]"
   ]
  },
  {
   "cell_type": "code",
   "execution_count": 13,
   "id": "8f82d59d-6086-4e8d-a3f1-888760fb57ef",
   "metadata": {},
   "outputs": [
    {
     "ename": "KeyboardInterrupt",
     "evalue": "",
     "output_type": "error",
     "traceback": [
      "\u001b[1;31m---------------------------------------------------------------------------\u001b[0m",
      "\u001b[1;31mKeyboardInterrupt\u001b[0m                         Traceback (most recent call last)",
      "\u001b[1;32m~\\AppData\\Local\\Temp/ipykernel_8488/752322524.py\u001b[0m in \u001b[0;36m<module>\u001b[1;34m\u001b[0m\n\u001b[0;32m     13\u001b[0m \u001b[0ms\u001b[0m\u001b[1;33m.\u001b[0m\u001b[0mtstep\u001b[0m\u001b[1;33m.\u001b[0m\u001b[0mfe_domain\u001b[0m\u001b[1;33m.\u001b[0m\u001b[0mserialized_subdomains\u001b[0m\u001b[1;33m\u001b[0m\u001b[1;33m\u001b[0m\u001b[0m\n\u001b[0;32m     14\u001b[0m \u001b[0ms\u001b[0m\u001b[1;33m.\u001b[0m\u001b[0mreset\u001b[0m\u001b[1;33m(\u001b[0m\u001b[1;33m)\u001b[0m\u001b[1;33m\u001b[0m\u001b[1;33m\u001b[0m\u001b[0m\n\u001b[1;32m---> 15\u001b[1;33m \u001b[0ms\u001b[0m\u001b[1;33m.\u001b[0m\u001b[0mrun\u001b[0m\u001b[1;33m(\u001b[0m\u001b[1;33m)\u001b[0m\u001b[1;33m\u001b[0m\u001b[1;33m\u001b[0m\u001b[0m\n\u001b[0m",
      "\u001b[1;32mc:\\users\\marag\\pycharmprojects\\bmcs_ibvpy\\ibvpy\\sim\\sim_base.py\u001b[0m in \u001b[0;36mrun\u001b[1;34m(self)\u001b[0m\n\u001b[0;32m     57\u001b[0m         r'''Run a thread if it does not exist - do nothing otherwise\n\u001b[0;32m     58\u001b[0m         '''\n\u001b[1;32m---> 59\u001b[1;33m         \u001b[0mself\u001b[0m\u001b[1;33m.\u001b[0m\u001b[0mtloop\u001b[0m\u001b[1;33m(\u001b[0m\u001b[1;33m)\u001b[0m\u001b[1;33m\u001b[0m\u001b[1;33m\u001b[0m\u001b[0m\n\u001b[0m\u001b[0;32m     60\u001b[0m         \u001b[1;32mreturn\u001b[0m\u001b[1;33m\u001b[0m\u001b[1;33m\u001b[0m\u001b[0m\n\u001b[0;32m     61\u001b[0m \u001b[1;33m\u001b[0m\u001b[0m\n",
      "\u001b[1;32mc:\\users\\marag\\pycharmprojects\\bmcs_ibvpy\\ibvpy\\sim\\tloop.py\u001b[0m in \u001b[0;36m__call__\u001b[1;34m(self)\u001b[0m\n\u001b[0;32m     63\u001b[0m     \u001b[1;32mdef\u001b[0m \u001b[0m__call__\u001b[0m\u001b[1;33m(\u001b[0m\u001b[0mself\u001b[0m\u001b[1;33m)\u001b[0m\u001b[1;33m:\u001b[0m\u001b[1;33m\u001b[0m\u001b[1;33m\u001b[0m\u001b[0m\n\u001b[0;32m     64\u001b[0m         \u001b[0mself\u001b[0m\u001b[1;33m.\u001b[0m\u001b[0minit\u001b[0m\u001b[1;33m(\u001b[0m\u001b[1;33m)\u001b[0m\u001b[1;33m\u001b[0m\u001b[1;33m\u001b[0m\u001b[0m\n\u001b[1;32m---> 65\u001b[1;33m         \u001b[1;32mreturn\u001b[0m \u001b[0mself\u001b[0m\u001b[1;33m.\u001b[0m\u001b[0meval\u001b[0m\u001b[1;33m(\u001b[0m\u001b[1;33m)\u001b[0m\u001b[1;33m\u001b[0m\u001b[1;33m\u001b[0m\u001b[0m\n\u001b[0m",
      "\u001b[1;32mc:\\users\\marag\\pycharmprojects\\bmcs_ibvpy\\ibvpy\\sim\\tloop_implicit.py\u001b[0m in \u001b[0;36meval\u001b[1;34m(self)\u001b[0m\n\u001b[0;32m     41\u001b[0m                     \u001b[1;32mbreak\u001b[0m\u001b[1;33m\u001b[0m\u001b[1;33m\u001b[0m\u001b[0m\n\u001b[0;32m     42\u001b[0m                 \u001b[1;32mtry\u001b[0m\u001b[1;33m:\u001b[0m\u001b[1;33m\u001b[0m\u001b[1;33m\u001b[0m\u001b[0m\n\u001b[1;32m---> 43\u001b[1;33m                     \u001b[0mself\u001b[0m\u001b[1;33m.\u001b[0m\u001b[0mtstep\u001b[0m\u001b[1;33m.\u001b[0m\u001b[0mmake_iter\u001b[0m\u001b[1;33m(\u001b[0m\u001b[1;33m)\u001b[0m\u001b[1;33m\u001b[0m\u001b[1;33m\u001b[0m\u001b[0m\n\u001b[0m\u001b[0;32m     44\u001b[0m                 \u001b[1;32mexcept\u001b[0m \u001b[0mRuntimeError\u001b[0m \u001b[1;32mas\u001b[0m \u001b[0me\u001b[0m\u001b[1;33m:\u001b[0m\u001b[1;33m\u001b[0m\u001b[1;33m\u001b[0m\u001b[0m\n\u001b[0;32m     45\u001b[0m                     \u001b[1;32mraise\u001b[0m\u001b[1;33m(\u001b[0m\u001b[0me\u001b[0m\u001b[1;33m)\u001b[0m\u001b[1;33m\u001b[0m\u001b[1;33m\u001b[0m\u001b[0m\n",
      "\u001b[1;32mc:\\users\\marag\\pycharmprojects\\bmcs_ibvpy\\ibvpy\\sim\\tstep_bc.py\u001b[0m in \u001b[0;36mmake_iter\u001b[1;34m(self)\u001b[0m\n\u001b[0;32m    147\u001b[0m         '''Perform a single iteration\n\u001b[0;32m    148\u001b[0m         '''\n\u001b[1;32m--> 149\u001b[1;33m         \u001b[0md_U_k\u001b[0m\u001b[1;33m,\u001b[0m \u001b[0mpos_def\u001b[0m \u001b[1;33m=\u001b[0m \u001b[0mself\u001b[0m\u001b[1;33m.\u001b[0m\u001b[0mK\u001b[0m\u001b[1;33m.\u001b[0m\u001b[0msolve\u001b[0m\u001b[1;33m(\u001b[0m\u001b[0mcheck_pos_def\u001b[0m\u001b[1;33m=\u001b[0m\u001b[1;32mTrue\u001b[0m\u001b[1;33m)\u001b[0m\u001b[1;33m\u001b[0m\u001b[1;33m\u001b[0m\u001b[0m\n\u001b[0m\u001b[0;32m    150\u001b[0m         \u001b[1;32mif\u001b[0m \u001b[0mself\u001b[0m\u001b[1;33m.\u001b[0m\u001b[0mdebug\u001b[0m\u001b[1;33m:\u001b[0m\u001b[1;33m\u001b[0m\u001b[1;33m\u001b[0m\u001b[0m\n\u001b[0;32m    151\u001b[0m             \u001b[0mprint\u001b[0m\u001b[1;33m(\u001b[0m\u001b[1;34m'positive definite'\u001b[0m\u001b[1;33m,\u001b[0m \u001b[0mpos_def\u001b[0m\u001b[1;33m)\u001b[0m\u001b[1;33m\u001b[0m\u001b[1;33m\u001b[0m\u001b[0m\n",
      "\u001b[1;32mc:\\users\\marag\\pycharmprojects\\bmcs_ibvpy\\ibvpy\\mathkit\\linalg\\sys_mtx_assembly.py\u001b[0m in \u001b[0;36msolve\u001b[1;34m(self, rhs, matrix_type, check_pos_def)\u001b[0m\n\u001b[0;32m    268\u001b[0m \u001b[1;33m\u001b[0m\u001b[0m\n\u001b[0;32m    269\u001b[0m         \u001b[0mmtx\u001b[0m \u001b[1;33m=\u001b[0m \u001b[0mself\u001b[0m\u001b[1;33m.\u001b[0m\u001b[0mmatrix_type_\u001b[0m\u001b[1;33m(\u001b[0m\u001b[0massemb\u001b[0m\u001b[1;33m=\u001b[0m\u001b[0mself\u001b[0m\u001b[1;33m)\u001b[0m\u001b[1;33m\u001b[0m\u001b[1;33m\u001b[0m\u001b[0m\n\u001b[1;32m--> 270\u001b[1;33m         \u001b[1;32mreturn\u001b[0m \u001b[0mmtx\u001b[0m\u001b[1;33m.\u001b[0m\u001b[0msolve\u001b[0m\u001b[1;33m(\u001b[0m\u001b[0mself\u001b[0m\u001b[1;33m.\u001b[0m\u001b[0m_rhs\u001b[0m\u001b[1;33m,\u001b[0m \u001b[0mcheck_pos_def\u001b[0m\u001b[1;33m)\u001b[0m\u001b[1;33m\u001b[0m\u001b[1;33m\u001b[0m\u001b[0m\n\u001b[0m\u001b[0;32m    271\u001b[0m \u001b[1;33m\u001b[0m\u001b[0m\n\u001b[0;32m    272\u001b[0m     \u001b[1;32mdef\u001b[0m \u001b[0mreset\u001b[0m\u001b[1;33m(\u001b[0m\u001b[0mself\u001b[0m\u001b[1;33m)\u001b[0m\u001b[1;33m:\u001b[0m\u001b[1;33m\u001b[0m\u001b[1;33m\u001b[0m\u001b[0m\n",
      "\u001b[1;32mc:\\users\\marag\\pycharmprojects\\bmcs_ibvpy\\ibvpy\\mathkit\\linalg\\coo_mtx.py\u001b[0m in \u001b[0;36msolve\u001b[1;34m(self, rhs, check_pos_dev)\u001b[0m\n\u001b[0;32m     77\u001b[0m         \u001b[0mpos_def\u001b[0m \u001b[1;33m=\u001b[0m \u001b[1;32mTrue\u001b[0m\u001b[1;33m\u001b[0m\u001b[1;33m\u001b[0m\u001b[0m\n\u001b[0;32m     78\u001b[0m         \u001b[1;32mif\u001b[0m \u001b[0mcheck_pos_dev\u001b[0m\u001b[1;33m:\u001b[0m\u001b[1;33m\u001b[0m\u001b[1;33m\u001b[0m\u001b[0m\n\u001b[1;32m---> 79\u001b[1;33m             \u001b[0mevals_small\u001b[0m\u001b[1;33m,\u001b[0m \u001b[0mevecs_small\u001b[0m \u001b[1;33m=\u001b[0m \u001b[0meigsh\u001b[0m\u001b[1;33m(\u001b[0m\u001b[0mmtx_csr\u001b[0m\u001b[1;33m,\u001b[0m \u001b[1;36m3\u001b[0m\u001b[1;33m,\u001b[0m \u001b[0msigma\u001b[0m\u001b[1;33m=\u001b[0m\u001b[1;36m0\u001b[0m\u001b[1;33m,\u001b[0m \u001b[0mwhich\u001b[0m\u001b[1;33m=\u001b[0m\u001b[1;34m'LM'\u001b[0m\u001b[1;33m)\u001b[0m\u001b[1;33m\u001b[0m\u001b[1;33m\u001b[0m\u001b[0m\n\u001b[0m\u001b[0;32m     80\u001b[0m             \u001b[0mmin_eval\u001b[0m \u001b[1;33m=\u001b[0m \u001b[0mnp\u001b[0m\u001b[1;33m.\u001b[0m\u001b[0mmin\u001b[0m\u001b[1;33m(\u001b[0m\u001b[0mevals_small\u001b[0m\u001b[1;33m)\u001b[0m\u001b[1;33m\u001b[0m\u001b[1;33m\u001b[0m\u001b[0m\n\u001b[0;32m     81\u001b[0m             \u001b[0mpos_def\u001b[0m \u001b[1;33m=\u001b[0m \u001b[0mmin_eval\u001b[0m \u001b[1;33m>\u001b[0m \u001b[1;36m1e-10\u001b[0m\u001b[1;33m\u001b[0m\u001b[1;33m\u001b[0m\u001b[0m\n",
      "\u001b[1;32m~\\miniconda3\\envs\\bmcs_env\\lib\\site-packages\\scipy\\sparse\\linalg\\eigen\\arpack\\arpack.py\u001b[0m in \u001b[0;36meigsh\u001b[1;34m(A, k, M, sigma, which, v0, ncv, maxiter, tol, return_eigenvectors, Minv, OPinv, mode)\u001b[0m\n\u001b[0;32m   1688\u001b[0m     \u001b[1;32mwith\u001b[0m \u001b[0m_ARPACK_LOCK\u001b[0m\u001b[1;33m:\u001b[0m\u001b[1;33m\u001b[0m\u001b[1;33m\u001b[0m\u001b[0m\n\u001b[0;32m   1689\u001b[0m         \u001b[1;32mwhile\u001b[0m \u001b[1;32mnot\u001b[0m \u001b[0mparams\u001b[0m\u001b[1;33m.\u001b[0m\u001b[0mconverged\u001b[0m\u001b[1;33m:\u001b[0m\u001b[1;33m\u001b[0m\u001b[1;33m\u001b[0m\u001b[0m\n\u001b[1;32m-> 1690\u001b[1;33m             \u001b[0mparams\u001b[0m\u001b[1;33m.\u001b[0m\u001b[0miterate\u001b[0m\u001b[1;33m(\u001b[0m\u001b[1;33m)\u001b[0m\u001b[1;33m\u001b[0m\u001b[1;33m\u001b[0m\u001b[0m\n\u001b[0m\u001b[0;32m   1691\u001b[0m \u001b[1;33m\u001b[0m\u001b[0m\n\u001b[0;32m   1692\u001b[0m         \u001b[1;32mreturn\u001b[0m \u001b[0mparams\u001b[0m\u001b[1;33m.\u001b[0m\u001b[0mextract\u001b[0m\u001b[1;33m(\u001b[0m\u001b[0mreturn_eigenvectors\u001b[0m\u001b[1;33m)\u001b[0m\u001b[1;33m\u001b[0m\u001b[1;33m\u001b[0m\u001b[0m\n",
      "\u001b[1;32m~\\miniconda3\\envs\\bmcs_env\\lib\\site-packages\\scipy\\sparse\\linalg\\eigen\\arpack\\arpack.py\u001b[0m in \u001b[0;36miterate\u001b[1;34m(self)\u001b[0m\n\u001b[0;32m    557\u001b[0m             \u001b[1;32melse\u001b[0m\u001b[1;33m:\u001b[0m\u001b[1;33m\u001b[0m\u001b[1;33m\u001b[0m\u001b[0m\n\u001b[0;32m    558\u001b[0m                 \u001b[0mBxslice\u001b[0m \u001b[1;33m=\u001b[0m \u001b[0mslice\u001b[0m\u001b[1;33m(\u001b[0m\u001b[0mself\u001b[0m\u001b[1;33m.\u001b[0m\u001b[0mipntr\u001b[0m\u001b[1;33m[\u001b[0m\u001b[1;36m2\u001b[0m\u001b[1;33m]\u001b[0m \u001b[1;33m-\u001b[0m \u001b[1;36m1\u001b[0m\u001b[1;33m,\u001b[0m \u001b[0mself\u001b[0m\u001b[1;33m.\u001b[0m\u001b[0mipntr\u001b[0m\u001b[1;33m[\u001b[0m\u001b[1;36m2\u001b[0m\u001b[1;33m]\u001b[0m \u001b[1;33m-\u001b[0m \u001b[1;36m1\u001b[0m \u001b[1;33m+\u001b[0m \u001b[0mself\u001b[0m\u001b[1;33m.\u001b[0m\u001b[0mn\u001b[0m\u001b[1;33m)\u001b[0m\u001b[1;33m\u001b[0m\u001b[1;33m\u001b[0m\u001b[0m\n\u001b[1;32m--> 559\u001b[1;33m                 \u001b[0mself\u001b[0m\u001b[1;33m.\u001b[0m\u001b[0mworkd\u001b[0m\u001b[1;33m[\u001b[0m\u001b[0myslice\u001b[0m\u001b[1;33m]\u001b[0m \u001b[1;33m=\u001b[0m \u001b[0mself\u001b[0m\u001b[1;33m.\u001b[0m\u001b[0mOPa\u001b[0m\u001b[1;33m(\u001b[0m\u001b[0mself\u001b[0m\u001b[1;33m.\u001b[0m\u001b[0mworkd\u001b[0m\u001b[1;33m[\u001b[0m\u001b[0mBxslice\u001b[0m\u001b[1;33m]\u001b[0m\u001b[1;33m)\u001b[0m\u001b[1;33m\u001b[0m\u001b[1;33m\u001b[0m\u001b[0m\n\u001b[0m\u001b[0;32m    560\u001b[0m         \u001b[1;32melif\u001b[0m \u001b[0mself\u001b[0m\u001b[1;33m.\u001b[0m\u001b[0mido\u001b[0m \u001b[1;33m==\u001b[0m \u001b[1;36m2\u001b[0m\u001b[1;33m:\u001b[0m\u001b[1;33m\u001b[0m\u001b[1;33m\u001b[0m\u001b[0m\n\u001b[0;32m    561\u001b[0m             \u001b[0mself\u001b[0m\u001b[1;33m.\u001b[0m\u001b[0mworkd\u001b[0m\u001b[1;33m[\u001b[0m\u001b[0myslice\u001b[0m\u001b[1;33m]\u001b[0m \u001b[1;33m=\u001b[0m \u001b[0mself\u001b[0m\u001b[1;33m.\u001b[0m\u001b[0mB\u001b[0m\u001b[1;33m(\u001b[0m\u001b[0mself\u001b[0m\u001b[1;33m.\u001b[0m\u001b[0mworkd\u001b[0m\u001b[1;33m[\u001b[0m\u001b[0mxslice\u001b[0m\u001b[1;33m]\u001b[0m\u001b[1;33m)\u001b[0m\u001b[1;33m\u001b[0m\u001b[1;33m\u001b[0m\u001b[0m\n",
      "\u001b[1;32m~\\miniconda3\\envs\\bmcs_env\\lib\\site-packages\\scipy\\sparse\\linalg\\interface.py\u001b[0m in \u001b[0;36mmatvec\u001b[1;34m(self, x)\u001b[0m\n\u001b[0;32m    230\u001b[0m             \u001b[1;32mraise\u001b[0m \u001b[0mValueError\u001b[0m\u001b[1;33m(\u001b[0m\u001b[1;34m'dimension mismatch'\u001b[0m\u001b[1;33m)\u001b[0m\u001b[1;33m\u001b[0m\u001b[1;33m\u001b[0m\u001b[0m\n\u001b[0;32m    231\u001b[0m \u001b[1;33m\u001b[0m\u001b[0m\n\u001b[1;32m--> 232\u001b[1;33m         \u001b[0my\u001b[0m \u001b[1;33m=\u001b[0m \u001b[0mself\u001b[0m\u001b[1;33m.\u001b[0m\u001b[0m_matvec\u001b[0m\u001b[1;33m(\u001b[0m\u001b[0mx\u001b[0m\u001b[1;33m)\u001b[0m\u001b[1;33m\u001b[0m\u001b[1;33m\u001b[0m\u001b[0m\n\u001b[0m\u001b[0;32m    233\u001b[0m \u001b[1;33m\u001b[0m\u001b[0m\n\u001b[0;32m    234\u001b[0m         \u001b[1;32mif\u001b[0m \u001b[0misinstance\u001b[0m\u001b[1;33m(\u001b[0m\u001b[0mx\u001b[0m\u001b[1;33m,\u001b[0m \u001b[0mnp\u001b[0m\u001b[1;33m.\u001b[0m\u001b[0mmatrix\u001b[0m\u001b[1;33m)\u001b[0m\u001b[1;33m:\u001b[0m\u001b[1;33m\u001b[0m\u001b[1;33m\u001b[0m\u001b[0m\n",
      "\u001b[1;32m~\\miniconda3\\envs\\bmcs_env\\lib\\site-packages\\scipy\\sparse\\linalg\\eigen\\arpack\\arpack.py\u001b[0m in \u001b[0;36m_matvec\u001b[1;34m(self, x)\u001b[0m\n\u001b[0;32m    924\u001b[0m                     + 1j * self.M_lu.solve(np.imag(x).astype(self.dtype)))\n\u001b[0;32m    925\u001b[0m         \u001b[1;32melse\u001b[0m\u001b[1;33m:\u001b[0m\u001b[1;33m\u001b[0m\u001b[1;33m\u001b[0m\u001b[0m\n\u001b[1;32m--> 926\u001b[1;33m             \u001b[1;32mreturn\u001b[0m \u001b[0mself\u001b[0m\u001b[1;33m.\u001b[0m\u001b[0mM_lu\u001b[0m\u001b[1;33m.\u001b[0m\u001b[0msolve\u001b[0m\u001b[1;33m(\u001b[0m\u001b[0mx\u001b[0m\u001b[1;33m.\u001b[0m\u001b[0mastype\u001b[0m\u001b[1;33m(\u001b[0m\u001b[0mself\u001b[0m\u001b[1;33m.\u001b[0m\u001b[0mdtype\u001b[0m\u001b[1;33m)\u001b[0m\u001b[1;33m)\u001b[0m\u001b[1;33m\u001b[0m\u001b[1;33m\u001b[0m\u001b[0m\n\u001b[0m\u001b[0;32m    927\u001b[0m \u001b[1;33m\u001b[0m\u001b[0m\n\u001b[0;32m    928\u001b[0m \u001b[1;33m\u001b[0m\u001b[0m\n",
      "\u001b[1;31mKeyboardInterrupt\u001b[0m: "
     ]
    }
   ],
   "source": [
    "m.bc=bc1\n",
    "m.hist.vis_record = {\n",
    "#    'strain': Vis3DTensorField(var='eps_ab'),\n",
    "    'stress': Vis3DTensorField(var='sig_ab'),\n",
    "    #        'kinematic hardening': Vis3DStateField(var='z_a')\n",
    "}\n",
    "\n",
    "s = m.sim\n",
    "s.tloop.verbose = False\n",
    "s.tloop.k_max = 1000\n",
    "s.tline.step = 0.01\n",
    "# Accessing the following property - ensures serialization\n",
    "s.tstep.fe_domain.serialized_subdomains\n",
    "s.reset()\n",
    "s.run()"
   ]
  },
  {
   "cell_type": "code",
   "execution_count": 112,
   "id": "d56ee948-9c9e-4625-b179-b3ad0c1e6e5b",
   "metadata": {},
   "outputs": [
    {
     "name": "stdout",
     "output_type": "stream",
     "text": [
      "118.9607151647798\n",
      "0.059480357582389884\n"
     ]
    },
    {
     "data": {
      "application/vnd.jupyter.widget-view+json": {
       "model_id": "cf872d9beec44b76b154f1391e2d95a2",
       "version_major": 2,
       "version_minor": 0
      },
      "text/html": [
       "\n",
       "            <div style=\"display: inline-block;\">\n",
       "                <div class=\"jupyter-widgets widget-label\" style=\"text-align: center;\">\n",
       "                    Figure\n",
       "                </div>\n",
       "                <img src='data:image/png;base64,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' width=640.0/>\n",
       "            </div>\n",
       "        "
      ],
      "text/plain": [
       "Canvas(toolbar=Toolbar(toolitems=[('Home', 'Reset original view', 'home', 'home'), ('Back', 'Back to previous …"
      ]
     },
     "metadata": {},
     "output_type": "display_data"
    }
   ],
   "source": [
    "U_last = m.hist.U_t[-1]\n",
    "F_last = m.hist.U_t[-1]\n",
    "U_t = np.average(m.hist.U_t[:, bc_r_x.dofs], axis=-1)\n",
    "U_t_y = np.average(m.hist.U_t[:, bc_r_y.dofs], axis=-1)\n",
    "F_t = np.sum(m.hist.F_t[:, bc_r_x.dofs], axis=-1)\n",
    "fig, (ax1, ax2, ax3) = plt.subplots(1, 3)\n",
    "ax1.plot(U_t, F_t)\n",
    "# ax1.plot(U_t_y, F_t)\n",
    "ax2.plot(U_t/size_x, F_t/(size_y*size_z))\n",
    "ax3.plot(U_t, U_t_y)\n",
    "G = np.trapz(F_t, x=U_t)\n",
    "G2 = np.trapz(F_t/(size_y*size_z), x=U_t/size_x)\n",
    "print(G/((size_z)*(size_y))*1000)\n",
    "print(G2)"
   ]
  },
  {
   "cell_type": "code",
   "execution_count": 113,
   "id": "891c9e49-6522-4eae-8fac-4f8659405677",
   "metadata": {},
   "outputs": [],
   "source": [
    "if False:\n",
    "    mlab.options.backend = 'envisage'\n",
    "    mlab.options.offscreen = False # 'envisage'\n",
    "    f_strain = mlab.figure()\n",
    "    scene = mlab.get_engine().scenes[-1]\n",
    "    scene.name = 'stress'\n",
    "    strain_viz = Viz3DTensorField(vis3d=m.hist['stress'])\n",
    "    strain_viz.setup()\n",
    "    strain_viz.warp_vector.filter.scale_factor = 0.1\n",
    "    strain_viz.plot(s.tstep.t_n)\n",
    "    mlab.show()"
   ]
  },
  {
   "cell_type": "code",
   "execution_count": 114,
   "id": "524804f9-5ac5-46bf-9adc-c57919299642",
   "metadata": {},
   "outputs": [],
   "source": [
    "# eps_Emab = xmodel.map_U_to_field(U_t[-1])\n",
    "# m.fe_domain[0].state_k\n",
    "# m_inelastic.get_corr_pred(eps_Emab, 1, **m.fe_domain[2].state_k)"
   ]
  },
  {
   "cell_type": "markdown",
   "id": "7401f732-dadf-404f-8756-2cdbe1e0383f",
   "metadata": {},
   "source": [
    "## Tension bulk circumferential direction"
   ]
  },
  {
   "cell_type": "code",
   "execution_count": 25,
   "id": "292f63fb-f3b0-48aa-97d6-5e3aae8a025e",
   "metadata": {
    "tags": []
   },
   "outputs": [],
   "source": [
    "size_x = 1\n",
    "size_y = 10\n",
    "size_z = 12.5\n",
    "n_e_x = 1\n",
    "n_e_y = 1\n",
    "n_e_x = 1\n",
    "\n",
    "xmodel = XDomainFEGrid(coord_min=(0, 0, 0),\n",
    "                       coord_max=(size_x ,size_y, size_z),\n",
    "                       shape=(n_e_x, n_e_y, n_e_x),\n",
    "                     integ_factor=1,\n",
    "                     fets=FETS3D8H())\n",
    "E = 34000\n",
    "\n",
    "m_inelastic = MS13D(**CAxisymm)\n",
    "m_elastic = MATS3DElastic(E=34000, nu=0.2)\n",
    "m = TStepBC(\n",
    "    domains=[(xmodel, m_inelastic),\n",
    "             ]\n",
    ")"
   ]
  },
  {
   "cell_type": "code",
   "execution_count": 26,
   "id": "e519f73a-3c9f-4587-80d4-801d6cd031f6",
   "metadata": {},
   "outputs": [],
   "source": [
    "w_max = 0.01 * size_x\n",
    "\n",
    "# Tension bc\n",
    "bc_l_x = BCSlice(slice=xmodel.mesh[0, :, :, 0, :, :],\n",
    "                  var='u', dims=[0], value=0.0)\n",
    "bc_r_x = BCSlice(slice=xmodel.mesh[-1, :, :, -1, :, :],\n",
    "                 var='u', dims=[0], value=w_max)\n",
    "bc_r_y = BCSlice(slice=xmodel.mesh[-1, :, :, -1, :, :],\n",
    "                 var='u', dims=[1], value=w_max)\n",
    "bc_xy_z0 = BCSlice(slice=xmodel.mesh[:, :, 0, :, :, 0],\n",
    "                  var='u', dims=[2], value=0)\n",
    "bc_xz_y0 = BCSlice(slice=xmodel.mesh[:, 0, :, :, 0, :],\n",
    "                 var='u', dims=[1], value=0)"
   ]
  },
  {
   "cell_type": "code",
   "execution_count": 27,
   "id": "c205e2c8-094b-4278-a7de-886498798c28",
   "metadata": {},
   "outputs": [],
   "source": [
    "bc1 = [bc_l_x, bc_r_x, bc_xy_z0, bc_xz_y0]"
   ]
  },
  {
   "cell_type": "code",
   "execution_count": 28,
   "id": "749bc945-25a3-40ee-adc5-fd47d3f5c754",
   "metadata": {},
   "outputs": [],
   "source": [
    "m.bc=bc1\n",
    "m.hist.vis_record = {\n",
    "#    'strain': Vis3DTensorField(var='eps_ab'),\n",
    "    'stress': Vis3DTensorField(var='sig_ab'),\n",
    "    #        'kinematic hardening': Vis3DStateField(var='z_a')\n",
    "}\n",
    "\n",
    "s = m.sim\n",
    "s.tloop.verbose = False\n",
    "s.tloop.k_max = 1000\n",
    "s.tline.step = 0.01\n",
    "# Accessing the following property - ensures serialization\n",
    "s.tstep.fe_domain.serialized_subdomains\n",
    "s.reset()\n",
    "s.run()"
   ]
  },
  {
   "cell_type": "code",
   "execution_count": 29,
   "id": "19079828-3f25-41c6-87ef-f054f3eb4265",
   "metadata": {},
   "outputs": [
    {
     "name": "stdout",
     "output_type": "stream",
     "text": [
      "43.45542720517216\n",
      "0.043455427205172176\n"
     ]
    },
    {
     "data": {
      "application/vnd.jupyter.widget-view+json": {
       "model_id": "8256e72c074f453690771f2ae95fa075",
       "version_major": 2,
       "version_minor": 0
      },
      "text/html": [
       "\n",
       "            <div style=\"display: inline-block;\">\n",
       "                <div class=\"jupyter-widgets widget-label\" style=\"text-align: center;\">\n",
       "                    Figure\n",
       "                </div>\n",
       "                <img src='data:image/png;base64,iVBORw0KGgoAAAANSUhEUgAAAoAAAAHgCAYAAAA10dzkAAAAOXRFWHRTb2Z0d2FyZQBNYXRwbG90bGliIHZlcnNpb24zLjQuMywgaHR0cHM6Ly9tYXRwbG90bGliLm9yZy/MnkTPAAAACXBIWXMAAA9hAAAPYQGoP6dpAACCHUlEQVR4nO3de1xUdf4/8NfcYABhFJCbgqJ5QfEK5i3TyvCS2sXSbmxtavl1yzVzd7O2zdr9ZVutuWnl5lpWWrqtl2ozEy0vJZoieL+LCgoCCsN9hpk5vz+GOTByhzlz5vJ6Ph7zeOTwmZkP9IbzPu/PTSEIggAiIiIi8hpKuTtARERERM7FBJCIiIjIyzABJCIiIvIyTACJiIiIvAwTQCIiIiIvwwSQiIiIyMswASQiIiLyMkwAiYiIiLwME0AiIiIiL8MEkIiIiMjLMAEkIiIi8jJMAImIiIi8DBNAIiIiIi/DBJCIiIjIyzABJCIiIvIyTACJiIiIvAwTQCIiIiIvwwSQiIiIyMswASQiIiLyMkwAiYiIiLwME0AiIiIiL8MEkIiIiMjLMAEkIiIi8jJMAImIiIi8DBNAIiIiIi/DBJCIiIjIyzABJCIiIvIyTACJiIiIvAwTQCIiIiIvwwSQiIiIyMswASQiIiLyMkwAiYiIiLwME0AiIiIiL8MEkIiIiMjLMAEkIiIi8jJMAImIiIi8DBNAIiIiIi/DBJCIiIjIyzABJCIiIvIyTACJiIiIvAwTQCIiIiIvwwSQiIiIyMswASQiIiLyMkwAiYiIiLwME0AiIiIiL8MEkIiIiMjLMAEkIiIi8jJMAImIiIi8DBNAIiIiIi/DBJCIiIjIyzABJCIiIvIyTACJiIiIvAwTQCIiIiIvwwSQiIiIyMswASQiIiLyMkwAiYiIiLyMWu4OuDOLxYKrV68iMDAQCoVC7u6QmxIEASUlJYiKioJS6Zx7MsYuOQJjl9yVHLHrcgQX88YbbwiJiYlCu3bthI4dOwr33nuvcOrUKbs2FotFePXVV4XIyEhBq9UKo0ePFo4dO2bXprKyUnj22WeFkJAQwd/fX5g8ebKQlZVl1+bGjRvC448/LgQFBQlBQUHC448/LhQWFja7r1lZWQIAPvhwyMMWn7t27RImTZokREZGCgCETZs21Ym9EydOCJMnTxaCgoKEdu3aCUOHDhUuXbrE2OVDlsfNf1ulxNjlw5EPZ8auq3G5CuCuXbvwu9/9DkOGDIHJZMLLL7+MpKQknDhxAgEBAQCAt956C0uWLMHq1avRs2dP/O1vf8Pdd9+N06dPIzAwEAAwb948fPvtt1i3bh1CQkLwwgsvYNKkSUhLS4NKpQIAPProo8jOzsbWrVsBAE8//TSSk5Px7bffNquvts/KyspCUFCQo38U5CWKi4sRHR0txlNZWRkGDBiA3/72t5g6dWqd9ufPn8dtt92GGTNm4LXXXoNOp8PJkyeh1Wqb/ZmMXXKEm2PXGRi75AhyxK7LkTsDbUpeXp4AQNi1a5cgCNbqX0REhPDmm2+KbSorKwWdTiesWLFCEARBKCoqEjQajbBu3TqxzZUrVwSlUils3bpVEARrBQWAsG/fPrFNamqqAKBOxbEher1eACDo9fo2f5/kvRqLI6BuBXD69OnC448/LtlnEjWXHHHE2CVHYBwJgssPfOv1egBAcHAwACAzMxO5ublISkoS2/j6+mL06NHYu3cvACAtLQ1VVVV2baKiohAfHy+2SU1NhU6nw9ChQ8U2w4YNg06nE9vczGAwoLi42O5B5EwWiwXfffcdevbsiXHjxiEsLAxDhw7F5s2bG30dY5eIiGpz6QRQEATMnz8ft912G+Lj4wEAubm5AIDw8HC7tuHh4eLXcnNz4ePjgw4dOjTaJiwsrM5nhoWFiW1utnjxYuh0OvERHR3dtm+QqIXy8vJQWlqKN998E+PHj8e2bdtw//3344EHHsCuXbsafB1jl4iIanPpBPDZZ5/FkSNH8OWXX9b52s2rvwRBaHJF2M1t6mvf2PssXLgQer1efGRlZTXn2yByGIvFAgC499578fzzz2PgwIF48cUXMWnSJKxYsaLB1zF2iYioNpdNAJ977jl88803+Omnn9C5c2fx+YiICACoU6XLy8sTq4IREREwGo0oLCxstM21a9fqfG5+fn6d6qKNr68vgoKC7B5EzhQaGgq1Wo0+ffrYPR8XF4fLly83+DrGLrXGBx98gNjYWGi1WiQkJGDPnj2Ntt+1axcSEhKg1WrRrVu3Ojclq1evhkKhqPOorKyU8tsgonq4XAIoCAKeffZZbNy4ET/++CNiY2Ptvh4bG4uIiAikpKSIzxmNRuzatQsjRowAACQkJECj0di1ycnJwbFjx8Q2w4cPh16vx6+//iq22b9/P/R6vdiGyNX4+PhgyJAhOH36tN3zZ86cQZcuXWTqFXmi9evXY968eXj55ZeRnp6OUaNGYcKECQ3eaGRmZmLixIkYNWoU0tPT8dJLL2Hu3LnYsGGDXbugoCDk5OTYPVqygp2IHETWJSj1+L//+z9Bp9MJO3fuFHJycsRHeXm52ObNN98UdDqdsHHjRuHo0aPCI488IkRGRgrFxcVim9mzZwudO3cWtm/fLhw6dEi48847hQEDBggmk0lsM378eKF///5CamqqkJqaKvTr10+YNGlSs/vKVUTkCDfHUUlJiZCeni6kp6cLAIQlS5YI6enp4j5/GzduFDQajfDRRx8JZ8+eFZYtWyaoVCphz549rf5MopvdeuutwuzZs+2e6927t/Diiy+K/64dR3/84x+F3r1727V/5plnhGHDhon//uSTTwSdTtemfjF2yREYR4LgcgkgGtis8ZNPPhHb2DaCjoiIEHx9fYXbb79dOHr0qN37VFRUCM8++6wQHBws+Pn5CZMmTRIuX75s1+b69evCY489JgQGBgqBgYHCY4891qKNoBlA5Ag3x9FPP/1U7+/AE088Ib5m1apVwi233CJotVphwIABwubNm9v0mUS1GQwGQaVSCRs3brR7fu7cucLtt98u/rt2HI0aNUqYO3euXfuNGzcKarVaMBqNgiBYE0CVSiXExMQInTp1Eu655x7h0KFDLeobY5ccgXHkghtBC4LQZBuFQoFFixZh0aJFDbbRarVYtmwZli1b1mCb4OBgrFmzpjXdJJLMmDFjmvw9eOqpp/DUU085qUfkbQoKCmA2mxvdbeFmubm59bY3mUwoKChAZGQkevfujdWrV6Nfv34oLi7GP//5T4wcORKHDx9Gjx496n1fg8EAg8Eg/ptbGBE5hsvNASQiItfQ0t0W6mtf+/lhw4bh8ccfx4ABAzBq1Cj85z//Qc+ePRu9UecWRkTSYAJIRER2QkNDoVKpGt1t4WYRERH1tler1QgJCan3NUqlEkOGDMHZs2cb7Au3MCKSBhNAIiKy4+Pjg4SEBLudFAAgJSWlwV0Shg8fXqf9tm3bkJiYCI1GU+9rBEFARkYGIiMjG+wLtzAikobLzQEkIiL5zZ8/H8nJyUhMTMTw4cPx0Ucf4fLly5g9ezYAa2Xu4sWLYvvZs2dj+fLlmD9/PmbNmoXU1FSsWrXKbiP/1157DcOGDUOPHj1QXFyM9957DxkZGXj//fed/e0ReT0mgC4ss6AMW47mAADmjOne5EknRK4i60Y5vjuagwqjGXPv6gGVkrHrbqZPn47r16/j9ddfR05ODuLj47FlyxZxv8mcnBxkZ2eL7WNjY7FlyxY8//zzeP/99xEVFYX33nsPU6dOFdsUFRXh6aefRm5uLnQ6HQYNGoTdu3fj1ltvdfr3R57vPwezsPN0Hn47MhZDugbL3R2XoxCas+yW6lVcXAydTge9Xu/wYYkrRRW44+2dMJqtR399NXs4A9hDSRlHcnzmjTIjbvv7jyg3mgEAHz+ZiDt71z9vjNybp8UueZZ7l/+Mw9l6/PmeOMwc1c3ua4wjzgF0WVuP5YrJHwBkF5bL2Bui5tt+8pqY/AFAdmGFjL0hIm90KrcYh7P1UCsVuH9QJ7m745KYALqoH47br6a7VmxooCWRa9lWJ3Z5zisROdf6A9bV4mPjwhHSzlfm3rgmJoAu6HqpAQcv3gAATB4QBQDI1fMiSq6vzGDC7rMFAIApYuzy5oWInMdgMmNz+hUAwPQh3DeyIUwAXdCOU3mwCEDfqCAMjmkPAMgrYQJIrm/P2XwYTRbEBPvj9p4dATB2ici5Uk5cQ2F5FSKCtOLfIaqLCaAL+jXTWv0b06sjIoK0AFgBJPewn7FLRDL7z0Hr6vQHEzpzB4JGcBsYF5SRVQQAGBzTAe39fQBwDiC5h9qxGx5knXfDOYBE5CxXiiqw52w+AGBaIod/G8ME0MUUV1bhfH4pAGBAdHsYTNaVwHkllbBYBCh5N0Muymiy4PjVYgDW2A1pZ715Ka40ocJohp+PSs7uEZEX+O/BbAgCMLxbCGJC/OXujkvjELCLOZKlhyAAnTv4IbSdLzpWr16qMgsoLDfK3Duihp3MKYbRZEF7fw26hvgj0FcNP4016WMVkIikZrEI+CrNuvqXiz+axgTQxWRkFQIABka3BwD4qJUIra6k5PIiSi7MNvw7oHN7KBQKKBQKROiq5wEydolIYnvPX0d2YQUCtWqMj4+Quzsujwmgi7FdRG0JIACEBVovonmcB0gurP7Y5TxAInKO9Qet1b97B0ZBq+GUk6YwAXQxx67UzKGyYRWF3MGxK3oAwIBonficLXaZABKRlIrKjeIBCtMTY2TujXtgAuhCisqNYpLXKyJQfJ6rKcnVGUxmXCgoAwD0jqg5VzM8yJYAsnpNRNL5OuMqjCYL4iKDEN/JO8/2bSkmgC7kVG4JAKBTez8EaTXi88EB1jmAhWVcBEKu6VxeKcwWAUFaNSKrq34AY5eInMN29Nv0xM5QKLhbRnMwAXQhp6sTwN61qn8A4KOyzmWosghO7xNRc9TEbpDdH18flfVPDGOXiKRy7IoeJ3KK4aNW4r5BneTujttgAuhCbBXAXjclgBq19YJaVb0nIJGrOd1g7FYngIxdIpKIrfo3rm+EeHgCNY0JoAs5nWtdAFLnIqq0/m8ysYpCLqrBm5fqjctNFiaAROR4lVVmbM64AgCYlthZ5t64FyaALsJiEXDmmvUEkNqT6AFAo7JeRI1mXkTJNTU0fUFTPQRsNPPmhYgc74fjuSipNKFTez+M7B4qd3fcChNAF3GlqAKlBhM0KgW6dQyw+xqH0ciV6curxNXrPTkETEROZBv+fSixM49KbSEmgC7CtoVG15AAsWpiwyFgcmXnC6yV64ggrd3qdYBDwEQkncvXy7H3/HUoFMCDCRz+bSkmgC7iQr71IhobGlDna+IiEA4Bkwu6kG+9eak3djkETEQS+W/1ub+33RKKzh38Ze6N+2EC6CIyqyuA3Tq2q/M1dXUF0MhhNHJBmdUVwJunLgCAWsUV7ETkeGaLgK/SsgEA0xKjZe6Ne2IC6CLEBLCRKgqHgMkV2WK3vgqgjxi7TACJyHH2nM1Hjr4S7f01SOobLnd33BITQBdhG0arr4riwyFgcmG22O1eT/VaXATCIWAicqD/HLQO/943sBN81SqZe+OemAC6gMoqM64UVQCov4piGwLmRZRcjcUiNFoBVCt580JEjnW91ICUE9cAcPi3LZgAuoCL160XUJ2fRjw7tTbbEDAvouRqcoorYTBZoFEp0LmDX52vM3aJyNE2Z1xFlVlAv0469IkKavoFVC8mgC6g9irK+g6x5hAwuSrb6vWYYH+oVXX/nPhwCJiIHEgQBPyneu+/aUNY/WsLl0sAd+/ejcmTJyMqKgoKhQKbN2+2+7pCoaj38fbbb4ttxowZU+frDz/8sN37FBYWIjk5GTqdDjqdDsnJySgqKnLCd1hXYwtAgJohYBMvol6hqd+B2p555hkoFAosXbrUaf2r7aI4/Ft3/h/AIWAicqwj2XqcvlYCX7USUwZEyd0dt+ZyCWBZWRkGDBiA5cuX1/v1nJwcu8fHH38MhUKBqVOn2rWbNWuWXbt//etfdl9/9NFHkZGRga1bt2Lr1q3IyMhAcnKyZN9XY7JulAMAYkLq38eoZi81XkS9QVO/AzabN2/G/v37ERUl3x/By9Wx26WJ2GUCSESOsL568ceE+Ajo/DRNtKbGqOXuwM0mTJiACRMmNPj1iIgIu39//fXXuOOOO9CtWze75/39/eu0tTl58iS2bt2Kffv2YejQoQCAlStXYvjw4Th9+jR69erVxu+iZWwX0egGNrK0nQVs4kXUKzT1OwAAV65cwbPPPosffvgB99xzj5N6VldN7Nad/wfU2sKI1WsiaqMKoxnfZlwFwOFfR3C5CmBLXLt2Dd999x1mzJhR52tr165FaGgo+vbtiwULFqCkpET8WmpqKnQ6nZj8AcCwYcOg0+mwd+9ep/S9tqzC5lUAOY+KAMBisSA5ORl/+MMf0LdvX1n7knXDunq94di1HQUnwMJ9LImoDbYczUGJwYSYYH8Miw2Ruztuz+UqgC3x6aefIjAwEA888IDd84899hhiY2MRERGBY8eOYeHChTh8+DBSUlIAALm5uQgLC6vzfmFhYcjNzW3w8wwGAwwGg/jv4uLiNn8PJrMFV4sqATRSAVRzCJhq/P3vf4darcbcuXOb/RopYheouXlpKnYBoMpiga+S+3URUevY9v57KKEzlMq6CyapZdw6Afz444/x2GOPQavV2j0/a9Ys8b/j4+PRo0cPJCYm4tChQxg8eDAA1LvaVhCEep+3Wbx4MV577TUH9d4qR18Js0WAj1qJsEDfettolBwCJqu0tDT885//xKFDhxqN1ZtJEbv68iqUVJoAoMFzODXKmgTQZBbg69Z/cYhILhcLyrA/8waUCuDBxM5yd8cjuO0Q8J49e3D69GnMnDmzybaDBw+GRqPB2bNnAVjnEV67dq1Ou/z8fISHN3ykzMKFC6HX68VHVlZW67+BarYKSuf2fg3e0diGgC2C9fxD8l579uxBXl4eYmJioFaroVarcenSJbzwwgvo2rVrg6+TMnZD2/nCz6f+yp5tCBjgQhAiaj1b9e/2nh0Rqat/zjG1jNvej69atQoJCQkYMGBAk22PHz+OqqoqREZGAgCGDx8OvV6PX3/9FbfeeisAYP/+/dDr9RgxYkSD7+Pr6wtf3/qrdK1lWwEcHVx/BQW4aRjNbIGKw2heKzk5GWPHjrV7bty4cUhOTsZvf/vbBl8nRezaFoDEBDf8x1ilVEChAASBUxiIqHVMZgs2HMoGwJM/HMnlEsDS0lKcO3dO/HdmZiYyMjIQHByMmJgYANb5S1999RX+8Y9/1Hn9+fPnsXbtWkycOBGhoaE4ceIEXnjhBQwaNAgjR44EAMTFxWH8+PGYNWuWuD3M008/jUmTJjl9BbBtEn10IxdRtdK+iqLVMAH0ZE39DoSE2E9+1mg0iIiIkCF2m755USgU0CiVMJotXAlMRK2y+2w+rhUbEBzgg7FxDY/SUcu43BDwwYMHMWjQIAwaNAgAMH/+fAwaNAh/+ctfxDbr1q2DIAh45JFH6rzex8cHO3bswLhx49CrVy/MnTsXSUlJ2L59O1SqmsRp7dq16NevH5KSkpCUlIT+/fvj888/l/4bvElTk+iBmiFggCuBvUFzfgdcQXNiF6gZBuYQMBG1xvrqkz/uH9RJPF2I2s7lKoBjxoyBIDSe5Dz99NN4+umn6/1adHQ0du3a1eTnBAcHY82aNa3qoyM1p4qiUiqgVFjnAHIhiOdrzu9AbRcvXpSuM41oTvUaQPURcWbevBBRixWUGrDjZB4ADv86GlNpmdm2gOnUvvGLKE8DIVdztciaAHZq31QFkKeBEFHrbDp0BSaLgAGddegVESh3dzwKE0AZmcwW5JVYE8DI9tpG2/pwM2hyMbn65sYuh4CJqOUEQRBX//LkD8djAiijvBIDLIJ1jlRoQOMrNNU8Do5cSEllFUoM1j0AI3WNJ4Bq3rwQUSukZxXhbF4ptBolJg+Q78xzT8UEUEY51RWU8CBtk7uacwiYXImt+qfz08Dfp/GpxFwEQkSt8VV19W9iv0gEaTUy98bzMAGUUY7eOoeqqQoKwPOAybVctQ3/tih2mQASUfOUG0349nAOAC7+kAoTQBmJc6iasau5hkPA5EJyW3Hzwn0Aiai5vjuSg1KDCV1D/DE0Nlju7ngkJoAysq0AbslFlEPA5ApssRvRgpsXxi4RNddXB60nfzyUGN2ic8+p+ZgAyqglQ8BqVlHIhdhiN4qxS0QOdiG/FL9evAGlApg6uLPc3fFYTABlZFsE0pwqCrfSIFdSE7tNJ4A+nANIRC3wn+rq35heYc36G0OtwwRQRmIVpYl91ABOpCfXYksAo5rYwBzgEDARNZ/JbMGGQ9YEcFoiq39SYgIokyqzBXklBgDNWwSiFiuAHEYj+eW2YBUwh4CJqLl2ns5HfokBIQE+uLN3uNzd8WhMAGWSX2KAUL0JdEiAT5PtWQEkV1FSWYXS6k2gOQRMRI5kO/njgcGd4KNmiiIl/nRlYqv+dWzn2+Qm0EDNRZRVFJKbLXYDfdVNbgINcCNoImqe/BIDfjyVB8C6+pekxQRQJgW2BDCw8SPgbNScR0UuouWxy03Miahpm9KzYbIIGBjdHj3DA+XujsdjAiiT/NKWXUQ5BEyuwha7oYxdInIQQRCw/oB1+JcnfzgHE0CZ5LewisLTFMhVtDx2eYoNETXu0OVCnM8vg59GhckDIuXujldgAigT20U0tF3LLqIcAia55deav9ocNafY8OaFiOr3nwPWrV8m9otEoFYjc2+8AxNAmRRwCJjcFGOXiBypzGDC/45cBcC9/5yJCaBMWltF4RAwya3lscshYCJq2HdHc1BmNKNriD9ujQ2WuztegwmgTFq+CIRbaZBraO0CJg4BE1F9vqre+++hxGgoFE1vi0aOwQRQJi2fA8itNMg1tDZ2WQF0Px988AFiY2Oh1WqRkJCAPXv2NNp+165dSEhIgFarRbdu3bBixYoG265btw4KhQL33Xefg3tN7uRCfikOXCyEUgFMHczhX2diAiiDMoMJ5UYzgNbspcaLKMnHYhFwvdQIgNVrT7d+/XrMmzcPL7/8MtLT0zFq1ChMmDABly9frrd9ZmYmJk6ciFGjRiE9PR0vvfQS5s6diw0bNtRpe+nSJSxYsACjRo2S+tsgF/efg9bFH6N7dmzWyULkOEwAZWCbRO/vo0KAb9MnKQCADy+i5AKKKqpgslir0CHtmj7CEGD12l0tWbIEM2bMwMyZMxEXF4elS5ciOjoaH374Yb3tV6xYgZiYGCxduhRxcXGYOXMmnnrqKbzzzjt27cxmMx577DG89tpr6NatmzO+FXJRJrMFGw5ZE8DpQ7j3n7MxAZRBS/dRA3iaArkGW+wGB/iIiV1T1Lx5cTtGoxFpaWlISkqyez4pKQl79+6t9zWpqal12o8bNw4HDx5EVVWV+Nzrr7+Ojh07YsaMGY7vOLmVnafzkV9iQEiAD+7sHS53d7xO88pP5FAtnUMFcCsNcg01sdu86h/A2HVHBQUFMJvNCA+3vyiHh4cjNze33tfk5ubW295kMqGgoACRkZH45ZdfsGrVKmRkZDS7LwaDAQaDQfx3cXFx878Rcmnrqxd/3D+oE3zUrEc5G3/iMhD3UWtBAmgbAjZZeBEl+bR0D0AA8LEtArGweu1ubl6RKQhCo6s062tve76kpASPP/44Vq5cidDQ0Gb3YfHixdDpdOIjOppDhZ4gr6QSP57KAwBM4/CvLFgBlMH1Musk+uAWVFFsQ8BGEy+iJB8xdgNaMn2h+hQbE29e3EVoaChUKlWdal9eXl6dKp9NREREve3VajVCQkJw/PhxXLx4EZMnTxa/bqm+oVWr1Th9+jS6d+9e530XLlyI+fPni/8uLi5mEugBNqdfgdkiYGB0e/QMD5S7O16JCaAMisqt82E6+Df/uBsOo5ErKCq3JoCMXc/m4+ODhIQEpKSk4P777xefT0lJwb333lvva4YPH45vv/3W7rlt27YhMTERGo0GvXv3xtGjR+2+/uc//xklJSX45z//2WBS5+vrC1/f5t9wkOsTBEFc/Tstkcm8XJgAyqBQvIi2ZB4Vh4BJfrbYbd+C2OUQsHuaP38+kpOTkZiYiOHDh+Ojjz7C5cuXMXv2bADWytzFixfF9rNnz8by5csxf/58zJo1C6mpqVi1ahW+/PJLAIBWq0V8fLzdZ7Rv3x4A6jxPnu3Q5SKcyyuFVqPE5AGRcnfHazEBlEFhdQWwJRdRsYrCIWCSUWErqtccAnZP06dPx/Xr1/H6668jJycH8fHx2LJlC7p06QIAyMnJQXZ2ttg+NjYWW7ZswfPPP4/3338fUVFReO+99zB16lS5vgVyUbaTPyb2i0Sgtvl/S8ixmADKwDaM1t6v5cNoRg6jkYzE2OUQsFeYM2cO5syZU+/XVq9ejeLiYuh0OvG50aNH49ChQ81+/9WrV7e1i+Rmyo0mfHv4KgBgOod/ZcVVwDIQ5wAGtLyKwiFgklNRq6rXtthl9ZrI2313JAdlRjO6hPjj1thgubvj1ZgAyqAt86g4BExyqlnA1JrpC7x5IfJ2X9Va/NHYlkIkPZdLAHfv3o3JkycjKioKCoUCmzdvtvv6k08+CYVCYfcYNmyYXRuDwYDnnnsOoaGhCAgIwJQpU+zmqgBAYWEhkpOTxb2lkpOTUVRUJPF3Zz36pqTSBKCVF1FWAD1eY78DVVVV+NOf/oR+/fohICAAUVFR+M1vfoOrV686pW+FbVkFzAogkVe7kF+KXy/egFIBTB3cWe7ueD2XSwDLysowYMAALF++vME248ePR05OjvjYsmWL3dfnzZuHTZs2Yd26dfj5559RWlqKSZMmwWw2i20effRRZGRkYOvWrdi6dSsyMjKQnJws2fdlU1RRcySSrgVzAHmclvdo7HegvLwchw4dwiuvvIJDhw5h48aNOHPmDKZMmSJ5vwwmM8qN1t+h1gwBM3aJvNt/06yFmNE9OyJCp5W5N+Ryi0AmTJiACRMmNNrG19cXERER9X5Nr9dj1apV+PzzzzF27FgAwJo1axAdHY3t27dj3LhxOHnyJLZu3Yp9+/Zh6NChAICVK1di+PDhOH36NHr16uXYb6oW2xBakFYNlbL55W8OAXuPxn4HdDodUlJS7J5btmwZbr31Vly+fBkxMTGS9UtfHbtKBRDo2/w/HRwCJiKT2SImgA9x8YdLcLkKYHPs3LkTYWFh6NmzJ2bNmoW8vDzxa2lpaaiqqrI7lDwqKgrx8fHiIeapqanQ6XRi8gcAw4YNg06na/Cgc8A6tFxcXGz3aClxI92A5ldQAMBXzVXAVD+9Xg+FQiHuqVYfR8Ru7e2LlC24efFVqwAwdom82e6z+cgrMSA4wAdj4+o/TYacy+0SwAkTJmDt2rX48ccf8Y9//AMHDhzAnXfeKR4WnpubCx8fH3To0MHudbUPMc/NzUVYWFid9w4LC2vwoHPAMWdStmYPQKDmImqoMjfRkrxJZWUlXnzxRTz66KMICgpqsJ1jYrflW8AANTcvVWYBZs4DJPJK6w9Y9/67f1An+KjdLvXwSG73f2H69Om45557EB8fj8mTJ+P777/HmTNn8N133zX6upsPMa9v9VFTB50vXLgQer1efGRlZbW4/62ZRA8Avhrr/yoDh9GoWlVVFR5++GFYLBZ88MEHjbZ1ROwWteIEG6AmdgFuBk3kjQpKDdhx0jpS91AiF3+4CpebA9hSkZGR6NKlC86ePQvAeiC50WhEYWGhXRUwLy8PI0aMENtcu3atznvl5+c3eNA54JgzKVuzCTRQU0UxWQSYzBaoVW6Xu5MDVVVVYdq0acjMzMSPP/7YaPUPcEzsitXrFsauT61YNZjM8PNRtakfROReNqdfgckiYEBnHXpHNP63ipzH7bOI69evIysrC5GR1vMEExISoNFo7CbK5+Tk4NixY2ICOHz4cOj1evz6669im/3790Ov14ttpNKajXQB2JXMOZfKu9mSv7Nnz2L79u0ICQlxyue2NnbVKqW44IkVbCLvIgiCOPzLxR+uxeUqgKWlpTh37pz478zMTGRkZCA4OBjBwcFYtGgRpk6disjISFy8eBEvvfQSQkNDcf/99wOwrpKcMWMGXnjhBYSEhCA4OBgLFixAv379xFXBcXFxGD9+PGbNmoV//etfAICnn34akyZNknQFMFD7LNUWJoC1qyhVFrTw5eRGGvsdiIqKwoMPPohDhw7hf//7H8xmszhvNTg4GD4+0gVGUSunLwDWCna50QxDFRNAIm9yOFuPs3ml8FUrMWVglNzdoVpcLgE8ePAg7rjjDvHf8+fPBwA88cQT+PDDD3H06FF89tlnKCoqQmRkJO644w6sX78egYGB4mveffddqNVqTJs2DRUVFbjrrruwevVqqFQ1Q09r167F3LlzxdXCU6ZMaXTvQUepWQXcsouoWqWEWqmAySKwiuLhGvsdWLRoEb755hsAwMCBA+1e99NPP2HMmDGS9auwlSvYgVoJoImLmIi8yX8OWqt/E/tFIkjb8ptHko7LJYBjxoyBIDS8UvCHH35o8j20Wi2WLVuGZcuWNdgmODgYa9asaVUf26I1x8DZ+KqVMPEi6vGa+h1o7GtSqlnB3poKoApAFW9eiLxIhdGMbzOspxRx8Yfrcfs5gO6muMJ6DFyQtuW5t6+meisYXkRJBsUVtk3MW5EAiqvYefNC5C2+P5aDEoMJ0cF+GBbrnLnK1HxMAJ2sxGC9iAa25iJavRCE86hIDrYzrANbc/PC2CXyOrbh34cSolu0eTw5BxNAJyutbEMFUDwNhFUUcr5Sgy0BbO0QMGDgCnYir3Dpehn2XbgBhQJ4MIHDv66ICaATCYIgVlHatSoBtJ0GwosoOV9Jpa16zQogETXOdu7vqB4dEdXeT+beUH2YADqRwWSBqfoorFZVUXgaCMlEEIRaFcDWzF/lHEAib2G2CGIC+BCrfy6LCaAT2ap/CgXgr2n5aQhiFYUXUXIyg8mCKrP15qWdbxuq17x5IfJ4P58rQI6+Eu39NUjq2/DpWiQvJoBOZBtCa+ejbtWEWB81K4Akj9o3LwE+LU8AbRuZM3aJPJ9t8cd9AzuJN3/kepgAOlFbhtAAzgEk+dhit7U3L+IQcBWr10SerLDMiJTj1wBw7z9XxwTQidqyAATgEDDJR6xetzl2efNC5Mm+zrgCo9mCvlFB6Bulk7s71AgmgE5Us49a647D4UWU5FLahj0AAc4BJPIW/zloXfwxLTFa5p5QU5gAOpFYRWnFJHqAF1GST7Gtet3q2GX1msjTHbuix4mcYviolLh3YJTc3aEmMAF0ojbPAeQ8KpJJWzaBBmrHLm9eiDzVV9WLP+7uG96q8+7JuZgAOlFbjtICalVReJoCOVnb5wBaq9dGxi6RR6qsMmNzxlUAwHQO/7oFJoBOJK6kbOsQMKso5GTiHMC2DgEzdok80rYT16CvqEKUTouRt4TK3R1qBiaATlRzlBYXgZB7KWnzFkacA0jkyWzDvw8mdIaqFVtFkfMxAXSikjZOpPfhRZRkUhO7rbt58eECJiKPdaWoAj+fKwAAPJjA4V93wQTQiRw2B5AXUXKymuo1Y5eI7G1Iy4YgAMO7hSAmxF/u7lAzMQF0oravAuYcQJKHOH+VK9iJqBaLRcBXadbh32lDePKHO2EC6ESlDtsImhdRci5b7AZxI2giqmVf5nVk3ahAoK8a4/tGyt0dagEmgE7EjaDJXbV1DiCHgIk801fVJ39MHhgFPx+VzL2hlmAC6ESOW0nJiyg5V5unL7B6TeRxiiursOVoDgAe/eaOmAA6icUicB4Vua3itm4EzfmrRB7n28NXYTBZ0DO8HQZ01sndHWohJoBOUl5lhiBY/zuw1cNoPE2BnE8Qam5e2roRNGOXyHP8p3r496GEaCgU3PvP3TABdBLbJHqVUgGtpnU/dp6mQHIoN9bcvLT+KDhWr4k8yZlrJTicVQS1UoH7BnWSuzvUCkwAnaTcaE0A/X1Urb5T8uEcQJJBubEmafPTtG6SN2OXyLPYTv64s3cYOgb6ytwbag0mgE5SUV35aO0FFOBEepJHZa3Ybe3NS+0V7IKtnEhEbqnKbMGm9CsAgIe4+MNtMQF0EvEi2oZl8uJEelZRyIkqHBK7NX9qOA+QyL39dCoPBaVGdAz0xR29OsrdHWolJoBOUmG0XvQcUQE0sopCTlRhdFz1GuANDJG7sy3+eGBwJ6hVTCPcFf/POYmtiqLlRZTcTE3stv7PhU+tiwQXMRG5r7ySSvx0Og+AdfUvuS8mgE7imDmANa9lAkjO4oghYIVCwTmsRB5g06ErMFsEDIppj1vC2sndHWoDJoBOUmls+0VUo1LANgefF1FylkoHDAEDPMmGyN0JgoCv0qzDv9O5+MPtMQF0EkdUAO2qKBxGIydxxPQFgKeBELm79KwinMsrhVajxD39I+XuDrWRyyWAu3fvxuTJkxEVFQWFQoHNmzeLX6uqqsKf/vQn9OvXDwEBAYiKisJvfvMbXL161e49xowZA4VCYfd4+OGH7doUFhYiOTkZOp0OOp0OycnJKCoqkuz7cthFlKeBeLzGfgcA6134okWLEBUVBT8/P4wZMwbHjx+XrD+OuHkBeBoIkbv7qnrxx8T4SARqW3eiFbkOl0sAy8rKMGDAACxfvrzO18rLy3Ho0CG88sorOHToEDZu3IgzZ85gypQpddrOmjULOTk54uNf//qX3dcfffRRZGRkYOvWrdi6dSsyMjKQnJws2fclrqT0aduPnBVAz9fY7wAAvPXWW1iyZAmWL1+OAwcOICIiAnfffTdKSkok6U+FA6YvADwNhMidVRjN+PawtdjCvf88Q+vOdZLQhAkTMGHChHq/ptPpkJKSYvfcsmXLcOutt+Ly5cuIiYkRn/f390dERES973Py5Els3boV+/btw9ChQwEAK1euxPDhw3H69Gn06tXLQd9NjUpHVVGqV2JW8CLqsRr7HRAEAUuXLsXLL7+MBx54AADw6aefIjw8HF988QWeeeYZh/fHYbFbXb1m7BK5n++P5aDUYEJMsD+GxgbL3R1yAJerALaUXq+HQqFA+/bt7Z5fu3YtQkND0bdvXyxYsMCuOpKamgqdTicmfwAwbNgw6HQ67N27V5J+lotVlLbl3AHVr7cdLUfeJTMzE7m5uUhKShKf8/X1xejRo50Qu21LAAN8VXbvR0Tu4z/VR789lNAZSmXrTgQi1+JyFcCWqKysxIsvvohHH30UQUFB4vOPPfYYYmNjERERgWPHjmHhwoU4fPiwWD3Mzc1FWFhYnfcLCwtDbm5ug59nMBhgMBjEfxcXFze7r46aRxXga/1fVmZgAuiNbPEZHh5u93x4eDguXbrU4OtcKXZLGbtEbuXy9XLsu3ADCgXwQEJnubtDDuK2CWBVVRUefvhhWCwWfPDBB3ZfmzVrlvjf8fHx6NGjBxITE3Ho0CEMHjwYAOo901QQhEbPOl28eDFee+21VvW35iLatqJrzUWUVRRvdnOcShm7jhoC5s0LkXv6b5q1+nfbLaHo1N5P5t6Qo7jlEHBVVRWmTZuGzMxMpKSk2FX/6jN48GBoNBqcPXsWABAREYFr167VaZefn1+nslLbwoULodfrxUdWVlaz++yIfQABIJAXUa9mm9d6c6U6Ly9Psth11CIQxi6R+zFbBPy3eu8/Lv7wLG6XANqSv7Nnz2L79u0ICQlp8jXHjx9HVVUVIiOt+xYNHz4cer0ev/76q9hm//790Ov1GDFiRIPv4+vri6CgILtHczlqGxjbPCoOo3kn29SG2ouhjEYjdu3a5Qaxa00ASxi7RG5j7/kCXNVXIkirRlKfhm8yyf243BBwaWkpzp07J/47MzMTGRkZCA4ORlRUFB588EEcOnQI//vf/2A2m8VKSHBwMHx8fHD+/HmsXbsWEydORGhoKE6cOIEXXngBgwYNwsiRIwEAcXFxGD9+PGbNmiVuD/P0009j0qRJkqwABjiPipqvsd+BmJgYzJs3D2+88QZ69OiBHj164I033oC/vz8effRRSfpTUb3lEIeAibzPf6r3/rt3YKc23wSSa3G5BPDgwYO44447xH/Pnz8fAPDEE09g0aJF+OabbwAAAwcOtHvdTz/9hDFjxsDHxwc7duzAP//5T5SWliI6Ohr33HMPXn31VahUNcG7du1azJ07V1xNOWXKlAb3XXMERw2jteNF1OM19juwevVq/PGPf0RFRQXmzJmDwsJCDB06FNu2bUNgYKAk/XHU9IV21dXrMs5fJXIL+vIq/HDcWmSZxuFfj+NyCeCYMWMgCEKDX2/sawAQHR2NXbt2Nfk5wcHBWLNmTYv711qOmkjfjhVAj9fU74BCocCiRYuwaNEip/THUdXrdr7WkwMYu0Tu4ZsjV2E0WdA7IhDxnZo/bYTcg9vNAXRXjp5HVVrJiyg5h8PnrzJ2idzCV9V7/z2Y0LnRXQbIPTEBdBKHDwFzI2hyEsau9/rggw8QGxsLrVaLhIQE7Nmzp9H2u3btQkJCArRaLbp164YVK1bYfX3jxo1ITExE+/btERAQgIEDB+Lzzz+X8lugVjqVW4wj2XqolQrcP6iT3N0hCTABdJJKB02kb8d9AMnJOH3BO61fvx7z5s3Dyy+/jPT0dIwaNQoTJkzA5cuX622fmZmJiRMnYtSoUUhPT8dLL72EuXPnYsOGDWKb4OBgvPzyy0hNTcWRI0fw29/+Fr/97W/xww8/OOvbomb6qnrxx11xYQhp5ytzb0gKTACdwGS2wGi2JoD+bT5Oi4tAyLlsQ8CMXe+yZMkSzJgxAzNnzkRcXByWLl2K6OhofPjhh/W2X7FiBWJiYrB06VLExcVh5syZeOqpp/DOO++IbcaMGYP7778fcXFx6N69O37/+9+jf//++Pnnn531bVEzVJkt2Jx+BQDwUAIXf3gqJoBOUGmyiP/d1nlU7TgHkJxIEASHzQFk7LoPo9GItLQ0uzOnASApKanBM6dTU1PrtB83bhwOHjyIqqqqOu0FQcCOHTtw+vRp3H777Y7rPLXZj6fycL3MiI6BvhjTq6Pc3SGJuNwqYE9UXj3nSaEAfNVtPQrOtpUGL6IkPYPJAtuC5LbOARQrgEYzLBaBB8q7sIKCApjN5nrPnG7ovPTc3Nx625tMJhQUFIgb8ev1enTq1AkGgwEqlQoffPAB7r777gb70pZzrKl1bIs/HhjUCWoV60SeigmgE1Qaa+b/tXUlVTttdRXFaGry/FeitrItAAEAbRtvXgK1NX9uyqvMYkWQXFdLz5yur/3NzwcGBiIjIwOlpaXYsWMH5s+fj27dumHMmDH1vmdbzrGmlssvMeCn0/kAgIcSO8vcG5ISU3sncNQ+akDNMJogAOVGLgQhadli10elbHMlwFethKq66sdhYNcWGhoKlUrVojOnIyIi6m2vVqvtjuxUKpW45ZZbMHDgQLzwwgt48MEHsXjx4gb70pZzrKnlNqVnw2wRMCimPW4Jk2ZzeXINTACdwFFzqABrEmkbOeMwMEmtJnbb/qdCoVAgwIdnWbsDHx8fJCQk2J05DQApKSkNnjk9fPjwOu23bduGxMREaDSaBj9LEAS7Id6bteUca2oZQRDE1b9c/OH5OAbjBI7aRw2wXUTVKDGYUGowIazN70jUMEfGLmCtYBdXmnjz4gbmz5+P5ORkJCYmYvjw4fjoo49w+fJlzJ49G4C1Mnfx4kWx/ezZs7F8+XLMnz8fs2bNQmpqKlatWoUvv/xSbLN48WIkJiaie/fuMBqN2LJlCz777LMGVxaTc2VkFeFsXim0GiUmDYiUuzskMSaATuCofdRs2mmtCSDPVCWpSRG70LN67Q6mT5+O69ev4/XXX0dOTg7i4+OxZcsWdOnSBQCQk5OD7OxssX1sbCy2bNmC559/Hu+//z6ioqLw3nvvYerUqWKbsrIyzJkzB9nZ2fDz80Pv3r2xZs0aTJ8+3enfH9X1VZr1/+f4vhEI0jZctSXPwATQCRw5BxCoWU1ZYqi7tQKRIzly+gJQO3aZALqDOXPmYM6cOfV+bfXq1SguLoZOpxOfGz16NA4dOtTg+/3tb3/D3/72N4f3k9qussqMbw9fBQBMS+TwrzfgHEAnsA2jaR00jFazoS4rgCQtKYaAAVYAiVzND8dzUVJpQucOfhjWLaTpF5DbYwLoBDUVQMf8uAN5ESUncXT1mgkgkWuyLf6YOrgz9+j0EkwAnaDS4cNoXElJzmGoPsPa0UPAPMuayHVcKarAL+cLAAAPJnDvP2/BBNAJDNVHwfk4aEf1mosoE0CSlsFUsw+gI4jHwXH+KpHL2JCWDUEAhncLQXSwv9zdISdhAugERlsC2MaTFGw4jEbOYnBw7NYcZcgKIJErsFgE/Ld69S9P/vAuTACdwGi2XkR91Y4ZRrMdqVVcwSoKSasmdh00f7V6awnGLpFr+PXiDVy+UY52vmqMj4+QuzvkREwAncDRFcAO/j4AgCJeRElijo9dawLI2CVyDbbFH5P6R8LfhzvDeRMmgE7g6Iuozq/6IlrOiyhJy/GxW33zUm50yPsRUeuVGkzYcjQHAId/vRETQCewXUQdNYwmVgB5ESWJSVYB5M0Lkey2HMlBRZUZ3UIDMDimg9zdISdjAugEtnlUjlpJ2Z7DaOQk4hxAh8Uupy8QuYqv0rIAAFMTOkOh4N5/3oYJoBOIW2k4qIpiu4gWlrECSNKy7QPo+AqgERaL4JD3JKKWyywow4GLhVAqrJs/k/dhAugEjh5Gs1UAiytNMPMiShISq9eOmgNYHbsWgecBE8npv9XVv1E9OiJCp5W5NyQHJoBOYHDwHMD21YtAAEDPoTSSUM38VcdsYeSrVsG/+lxhzmElkofZImDjoSsAuPjDmzEBdAJHVwDVKqV4HnAhL6IkIUdvBA3U3MAUciEIkSx+OVeAHH0ldH4ajI0Ll7s7JBMmgE7g6EUgANA+gKspSXqSxC5XsRPJynbyx70Doxx2zje5HyaATuDoCiAAtOd+auQERgcvYAJqrWLnzQuR0+krqvDD8VwAwIMJHP71ZkwAnUCSBJAXUXICKWKX+1gSyefbw1dhMFnQKzwQ/Trp5O4OyYgJoBM4ehEIUGsrGF5ESUJSzAG0rQTmHEAi57MN/z6UyL3/vB0TQCcQqygqx821sO2nxlXAJCVxFbAD5wAydonkcS6vBBlZRVApFbh3YCe5u0MyYwLoBI7eSw2ovZKSFUCSjjSxy+o1kRy+qq7+3dErDB0DfWXuDcmNCaATOPosYKD2SkpWUUg6jt4HEOD8VSI5mMwW7v1HdlwuAdy9ezcmT56MqKgoKBQKbN682e7rgiBg0aJFiIqKgp+fH8aMGYPjx4/btTEYDHjuuecQGhqKgIAATJkyBdnZ2XZtCgsLkZycDJ1OB51Oh+TkZBQVFUnyPXERCDmSyWTCn//8Z8TGxsLPzw/dunXD66+/DovF4vDPkiZ2uQiEyNn2nC1AfokBwQE+uKNXmNzdIRfgcglgWVkZBgwYgOXLl9f79bfeegtLlizB8uXLceDAAURERODuu+9GSUmJ2GbevHnYtGkT1q1bh59//hmlpaWYNGkSzGaz2ObRRx9FRkYGtm7diq1btyIjIwPJyckO/34EQZBkGE1cSVnBi6i3+fvf/44VK1Zg+fLlOHnyJN566y28/fbbWLZsmcM/S5pVwNU3L5wDSOQ0tff+c+TvM7kvtdwduNmECRMwYcKEer8mCAKWLl2Kl19+GQ888AAA4NNPP0V4eDi++OILPPPMM9Dr9Vi1ahU+//xzjB07FgCwZs0aREdHY/v27Rg3bhxOnjyJrVu3Yt++fRg6dCgAYOXKlRg+fDhOnz6NXr16Oez7sSV/gDQVwMIyXkS9TWpqKu69917cc889AICuXbviyy+/xMGDBx3+WQYp5gBW37zcKOPNC5EzFJUbkXLiGgDu/Uc13Oo2IDMzE7m5uUhKShKf8/X1xejRo7F3714AQFpaGqqqquzaREVFIT4+XmyTmpoKnU4nJn8AMGzYMOh0OrFNfQwGA4qLi+0eTbFVUADHnqYQ2s46gTe/1ABBEBz2vuT6brvtNuzYsQNnzpwBABw+fBg///wzJk6c2OBrWhO7giDUWsHuuNjtWB27JZUmVFaZm2hNRG31zeGrMJot6BMZhL5R3PuPrNwqAczNte5eHh5uf3ZheHi4+LXc3Fz4+PigQ4cOjbYJC6s7ByIsLExsU5/FixeLcwZ1Oh2io6Ob7LNBogTQtoLLaLKguNLksPcl1/enP/0JjzzyCHr37g2NRoNBgwZh3rx5eOSRRxp8TWtiV6rqdZCfWvxdKCg1OOx9iah+Xx20Dv+y+ke1uVUCaHPz5pWCIDS5oeXNbepr39T7LFy4EHq9XnxkZWU12VdbBUWjUkCpdNymm1qNCoFa6wh+fgkvot5k/fr1WLNmDb744gscOnQIn376Kd555x18+umnDb6mLbELOHYFu0KhEG9gGLtE0jqVW4yjV/TQqBS4d2CU3N0hF+JycwAbExERAcBawYuMjBSfz8vLE6uCERERMBqNKCwstKsC5uXlYcSIEWKba9eu1Xn//Pz8OtXF2nx9feHr27K9k6TYRsOmY6AvSipNyC8x4Jawdg5/f3JNf/jDH/Diiy/i4YcfBgD069cPly5dwuLFi/HEE0/U+5q2xC7g2Oo1AIQG+uJKUQUTQCKJbahe/HFn7zCEtOPef1TDrSqAsbGxiIiIQEpKivic0WjErl27xOQuISEBGo3Grk1OTg6OHTsmthk+fDj0ej1+/fVXsc3+/fuh1+vFNo4ixQpgm9rzAMl7lJeXQ6m0jyeVSuXwbWBssevo6jVQMw+QsUsknSqzBZvSrXv/PZjQ9LQP8i4uVwEsLS3FuXPnxH9nZmYiIyMDwcHBiImJwbx58/DGG2+gR48e6NGjB9544w34+/vj0UcfBQDodDrMmDEDL7zwAkJCQhAcHIwFCxagX79+4qrguLg4jB8/HrNmzcK//vUvAMDTTz+NSZMmOXQFMABJJtHbcBjNO02ePBn/7//9P8TExKBv375IT0/HkiVL8NRTTzn0cxi7RO5t1+l8FJQaEdrOB2N6dZS7O+RiXC4BPHjwIO644w7x3/PnzwcAPPHEE1i9ejX++Mc/oqKiAnPmzEFhYSGGDh2Kbdu2ITAwUHzNu+++C7VajWnTpqGiogJ33XUXVq9eDVWts3jXrl2LuXPniquFp0yZ0uDeg21hkGAfNRtbFYUT6b3LsmXL8Morr2DOnDnIy8tDVFQUnnnmGfzlL39x6OdIsQegjS0BZOwSSadm779O0EhwI0fuzeUSwDFjxjS6rYlCocCiRYuwaNGiBttotVosW7as0Y1xg4ODsWbNmrZ0tVmccRFlFcW7BAYGYunSpVi6dKmknyPpzQtjl0hShWVG7DjFvf+oYbwlkJjBZN3njMNo5G6cUb1m7BJJ45vDV1FlFhDfKQhxkUFyd4dcEBNAibECSO5K2jmA1tNAuAiESBq24d+pg1n9o/oxAZSYlKuAuZKSpFQTuxJsYdROC8B688KTbIgcy37vv05yd4dcFBNAidXsAyhdBfB6qQFmCy+i5FhSxm5odQWwssqCUgNPsiFypP9Wn/xxV+9wBAf4yNwbclVMACUm5UU0OMAHCgVgEYAbZUaHvz95NymnL/j7qNHOlyfZEDlaldmCzRm2vf84/EsNYwIoMSmHgDUqJYL9rXd3eSWVDn9/8m5Gs3UBkxQ3L0BNBTuPCSCRw+w+Y937LyTAB6O59x81ggmgxKScSA8AETrrXKpcPRNAciypYzc8yJoAMnaJHMe2+OO+Qdz7jxrH6JCYlFtpAECkzg8AcJUXUXIwKYeAASCqvS12KyR5fyJvU1hmxPaT3PuPmocJoMSkTgCj2lsrgDlFvIiSY0keu9U3LzlFvHkhcoRvj1j3/usTyb3/qGlMACVWM4zm+K00gJoqSg4rgORgBomHgCNtNy+sABI5hG34l9U/ag4mgBITVwFrpBoCtl5Er7ACSA4mdezabl6usAJI1GZnrpXgSLYeaqUC9w6Mkrs75AaYAErMtpJSqipKTQWQCSA5lriCXarqtY6xS+QoG6qrf3f0DkNI9SEBRI1hAigxZ02kz9VXwsLNoMmBpI5d2xBwUXkVyo3cDJqotUxmCzamW/f+49Fv1FxMACUm5UbQABAe6AulAqgyCyjgkXDkQFIngEFajbgZ9FUOAxO12p5zBcgvMaCDvwZ39g6TuzvkJpgASkzKjaABQK1SIizQWknhVjDkSFLfvAC1VrFzGJio1WzDv/cO7CTZtYY8DyNFYlJvpgtwKxiSRs0cQOliN5JbwRC1ib6iCttOcO8/ajkmgBKTei81AIhsz82gyfEMpuoFTE6oAHIzaKLW+d+RqzCaLOgVHoi+Udz7j5qPCaDEnJEAdq5OALMLyyX7DPI+Us8BBIBOYuwyASRqDdvw79SETlAoFDL3htwJE0CJmaqH0aQ8kzE62B8AcPk6E0BynCqzdVU5Y5fINV3IL8Why0VQKoD7BnaSuzvkZpgASqzmIirdnVmM7SJ6gxdRcpwq8eaFsUvkijYesm79cnvPjggL0srcG3I3TAAlVuWECmCXkJqLKPcCJEcxOaEC2CUkAACQW1yJyiqzZJ9D5GksFgGbuPcftQETQImZqhMytVLKifR+UCkVMJgsyCvhXoDkGFUW682LWildBbCDvwaB1XsBZrEKSNRs+y5cx5WiCgRq1bi7T7jc3SE3xARQYiYnDKNpVEpxMv2l62WSfQ55F2dUABUKBWKqK9iXOA+QqNn+e8i6+GNS/yhoNdIc10iejQmgxGxzANUSXkSBmmHgS6yikIPYpi+oJbx5ARi7RC1VZjBh67FcAMCDCVz8Qa3DBFBiJicMowG1JtOzikIO4ozpCwAQE2ydB3iZ1WuiZtl6LBflRjO6hvhjcEwHubtDbooJoMScMYwGsIpCjueM6QsAY9eVffDBB4iNjYVWq0VCQgL27NnTaPtdu3YhISEBWq0W3bp1w4oVK+y+vnLlSowaNQodOnRAhw4dMHbsWPz6669SfgseaUP18O8Dgztz7z9qNSaAEjM6aRitpgLIKgo5hrOmL7B67ZrWr1+PefPm4eWXX0Z6ejpGjRqFCRMm4PLly/W2z8zMxMSJEzFq1Cikp6fjpZdewty5c7Fhwwaxzc6dO/HII4/gp59+QmpqKmJiYpCUlIQrV64469tye1eKKpB64ToA4P5BHP6l1mMCKDGxAijxMFrXUOsw2oWCMggCt4KhthPnAEo8fcEWu5dvlIufSfJbsmQJZsyYgZkzZyIuLg5Lly5FdHQ0Pvzww3rbr1ixAjExMVi6dCni4uIwc+ZMPPXUU3jnnXfENmvXrsWcOXMwcOBA9O7dGytXroTFYsGOHTuc9W25vc3pVyAIwLBuweJG6kStwQRQYuIcQIkrgF1DAqBUACWVJuRzKxhyANscQKmnL0QGaeHvo4LJInAlsIswGo1IS0tDUlKS3fNJSUnYu3dvva9JTU2t037cuHE4ePAgqqqq6n1NeXk5qqqqEBwc7JiOezhBEOyGf4naggmghARBcMpxWgCg1ajEu8Fz+aWSfhZ5B2ecBAIASqUC3Tpaq4DnGbsuoaCgAGazGeHh9vvLhYeHIzc3t97X5Obm1tveZDKhoKCg3te8+OKL6NSpE8aOHdtgXwwGA4qLi+0e3iojqwgX8sug1SgxsV+k3N0hN8cEUELmWqdySH0RBYBbOrYDAJzP40WU2s5ZC5iAmtg9x9h1KTcvMBAEodFFB/W1r+95AHjrrbfw5ZdfYuPGjdBqGz7GbPHixdDpdOIjOjq6Jd+CR7Ed/TaubwTaVW+gTtRaTAAlZKqVAEo9kR4AbgmrTgDzuRCE2s5Z0xeA2rHLBNAVhIaGQqVS1an25eXl1any2URERNTbXq1WIyQkxO75d955B2+88Qa2bduG/v37N9qXhQsXQq/Xi4+srKxWfEfuz2Ay49sjVwHw6DdyDLdMALt27QqFQlHn8bvf/Q4A8OSTT9b52rBhw+zew2Aw4LnnnkNoaCgCAgIwZcoUZGdnO7SftSe0Sz2RHgC6s4riNa5cuYLHH38cISEh8Pf3x8CBA5GWluaw9689fUHqfQCBmthl9do1+Pj4ICEhASkpKXbPp6SkYMSIEfW+Zvjw4XXab9u2DYmJidBoNOJzb7/9Nv76179i69atSExMbLIvvr6+CAoKsnt4o59O5aOovArhQb4YeUuo3N0hD+CWNeQDBw7AbK45OP7YsWO4++678dBDD4nPjR8/Hp988on4bx8fH7v3mDdvHr799lusW7cOISEheOGFFzBp0iSkpaVBpXLMsTq2ITTAOcNo3cOYAHqDwsJCjBw5EnfccQe+//57hIWF4fz582jfvr3DPsPp0xdqVa+bGmYk55g/fz6Sk5ORmJiI4cOH46OPPsLly5cxe/ZsANbK3MWLF8X2s2fPxvLlyzF//nzMmjULqampWLVqFb788kuxzVtvvYVXXnkFX3zxBbp27SpWDNu1a4d27do59ftzNxurF3/cN7ATVE4oKJDnc8sEsGPHjnb/fvPNN9G9e3eMHj1afM7X1xcRERH1vl6v12PVqlX4/PPPxcnHa9asQXR0NLZv345x48Y5pJ+2CqBCAaf8wtrmUeUWV6LUYOIcEQ/197//HdHR0XY3OF27dnXoZ1SZnTt9oUtIAFRKBUoNJlwrNiBC1/CcMHKO6dOn4/r163j99deRk5OD+Ph4bNmyBV26dAEA5OTk2I2axMbGYsuWLXj++efx/vvvIyoqCu+99x6mTp0qtvnggw9gNBrx4IMP2n3Wq6++ikWLFjnl+3JHN8qM+Ol0HgCu/iXHccsh4NqMRiPWrFmDp556yq5qsHPnToSFhaFnz56YNWsW8vLyxK+lpaWhqqrKbsuCqKgoxMfHN7jFQWtUWZyzB6CNzl+DjoG+AICz10qc8pnkfN988w0SExPx0EMPISwsDIMGDcLKlSsd+hlVFudOX/BRK8UTQc4wdl3GnDlzcPHiRRgMBqSlpeH2228Xv7Z69Wp89913du1Hjx6NQ4cOwWAwIDMzU6wW2ly8eBGCINR5MPlr3P+OXEWVWUB8pyD0igiUuzvkIdw+Ady8eTOKiorw5JNPis9NmDABa9euxY8//oh//OMfOHDgAO68804YDNb98XJzc+Hj44MOHezPUGxsiwOg5dsRmJx0Ckhtvav/OJzM4UXUU124cAEffvghevTogR9++AGzZ8/G3Llz8dlnnzX4mpbHrnOnLwC1Y9d7t/kgqs+G6tW/Dwxi9Y8cx+0TwFWrVmHChAmIiooSn5s+fTruuecexMfHY/Lkyfj+++9x5syZOnerN2tq7lFLtyNw1h6AtcVFWidIn8rlRdRTWSwWDB48GG+88QYGDRqEZ555BrNmzWrwhAag5bFru3lROmn6AgDERdhilzcvRDbn80txOKsIKqUCkwdENf0ComZy6wTw0qVL2L59O2bOnNlou8jISHTp0gVnz54FYN2uwGg0orCw0K5dY1scAC3fjsC2jYYzJtHbxEWyiuLpIiMj0adPH7vn4uLiGjyjFWh57NqmLzhj/p+N7eaFsUtUY1N19W90z47iFB8iR3DrBPCTTz5BWFgY7rnnnkbbXb9+HVlZWYiMtO6cnpCQAI1GY7dlQU5ODo4dO9bgFgdAy7cjMDlxGw0bsQKYU8IzgT3UyJEjcfr0abvnzpw5I07Or0/LY7f65sWJqw3joqx9OpdXCoPJ3ERrIs9nsQjYlF49/Du4k8y9IU/jtgmgxWLBJ598gieeeAJqdc1q19LSUixYsACpqam4ePEidu7cicmTJyM0NBT3338/AECn02HGjBl44YUXsGPHDqSnp+Pxxx9Hv379Gj2SqKWqZJgD2C20HTQqBUoMJmQXVjjtc8l5nn/+eezbtw9vvPEGzp07hy+++AIfffSRuA+mI4h7ADqxAhil0yJIq4bJInArIyIA+zNv4EpRBQK1aoyNa3h0iqg13DYB3L59Oy5fvoynnnrK7nmVSoWjR4/i3nvvRc+ePfHEE0+gZ8+eSE1NRWBgzeqpd999F/fddx+mTZuGkSNHwt/fH99++63D9gAEak4CceYcQB+1EreEcRjYkw0ZMgSbNm3Cl19+ifj4ePz1r3/F0qVL8dhjjznsM+SYvqBQKNC7VgWbyNttSrdus3NPv0hoNY67NhEBbroPIAAkJSXVO8Tp5+eHH374ocnXa7VaLFu2DMuWLZOiewCAKlN1BdDJm3bGRQbiZE4xTuQUI6lv/XshknubNGkSJk2aJNn7V5mcP30BAPpEBuHXzBs4kVOMqU03J/JYlVVmfH/UuivF/YM4/EuO57YVQHcgx0R6AOjXSQcAOJqtd+rnkueocuI5wLXFM3aJAAApJ66hxGBCp/Z+GNI1WO7ukAdiAighcSK9ky+i/Tu3BwAcztZzIQi1ikmGLYwAYEBnawJ47Kre7jg6Im9jW/xx/6BOUPLoN5IAE0AJiRPpnfzL2ycyCCqlAgWlBuToK5362eQZxE3MnRy73Tq2g7+PCuVGMxeCkNcqKDVg15l8AMD9XP1LEmECKKGaifTO/TH7+ajQM9y6EORIdpFTP5s8Q5UMC5gA66bTtmHgw4xd8lLfHr4Ks0XAgM46dK8+453I0ZgASkiuYTSgZijtMOdSUSvINX0BqIld3ryQt6o9/EskFSaAEpJjH0Ab2zxAXkSpNeTYB9CmJnZ580Le51xeKY5k66FSKjCJR7+RhJgASsi2D6Czt9IAgIHR7QEAh7M4mZ5azjZ9wdlzAIGa2D1xtRgVRp4IQt5lc3rN0W+h7Xj0G0mHCaCEqmQcRusVEYhAXzVKDSacyuWG0NQyNbHr/D8RnTv4ITzIFyaLwHmA5FUsFgGbMzj8S87BBFBCcg6jqZQKDIxpDwA4eLHQ6Z9P7q0mdp1/86JQKJDYxbrv2cGLN5z++URySbtciOzCCrTzVePuPjz6jaTFBFBC4kR6mfZwsm0eevASE0BqGZNZvukLAJDYtQMAxi55F9vij/HxETz6jSTHBFBC4hxAGaooAJDYxXoRTWMVhVpIjrOAa7NVANMuFcLCOazkBQwmM747kgMAeIDDv+QETAAlVLMKWJ4f88CY9lApFbiqr0R2YbksfSD3JOf0BcB6nrW/jwollSacvlYiSx+InOmnU/nQV1QhIkiLod1C5O4OeQEmgBKyDaP5yHQR9fdRi+cC77vAKiA1n5z7AALWxDOhuoK978J1WfpA5Ey21b9TBkZBxaPfyAmYAEqoSsatNGxG3mK9k9x7rkC2PpD7sU1f0Mg0BxAARt4SCgD45RwTQPJs+ooq/HgqDwBw30AO/5JzMAGUkEnmYTQAGNHdehHde/46BIFzqah55NzE3GZEd+vNy/4L18WKJJEn+v5oDoxmC3qFByIuMlDu7pCXYAIoITn3AbRJ6NIBPiolcosrkVlQJls/yL3IuQ+gTd8oHQK1apQYTDh+lXtZkuey7f1376AoKBQc/iXnYAIooSqZt9IAAK1GhcFd2gMAfjnPoTRqnpptYOS7GKmUCgyrngz/y3lOYSDPdLWoQpyjPYVHv5ETMQGUkMkFhtEA4LbquVS7z+TL2g9yH3KvArZh7JKn++bwVQDArbHB6NzBX+bekDdhAighcSK9zAngmF5hAKwLQYwmzqWipsm9D6DNmF4dAVhPsymprJK1L0RS+DrDmgBy8Qc5GxNACYkT6WUcAgaAPpFBCG3nizKjmUdrUbO4wvQFAOgSEoDY0ACYLAJXA5PHOXOtBCdziqFRKTCxX4Tc3SEvwwRQQrZ5VHJXUZRKBUb3tFZSdnIojZrBVaYvABBjd9eZPJl7QuRYtr3/xvQKQ3t/H5l7Q96GCaCEaobR5P8x24bSdpy8JnNPyB3Ypi/ItYl5bbbY/fFUHo+FI48hCAKHf0lW8v9192BGF5lIDwCje3WERqXA+fwynM8vlbs75OKMLlQBHNYtBAE+KlwrNuDoFb3c3SFyiLRLhbhSVIEAHxXuiguTuzvkheTPTDyY3Mdp1Rak1Yhbamw7ziogNc4k8znWtWk1KnEh0w/Hc2XuDZFj2Kp/4+IjoNWoZO4NeSP5/7p7MJOLTKS3GdfXOsl42wleRKlx4vxVFzmTNKlvOABg2wnevJD7qzJb8N3RHADAvRz+JZm4RmbiocSzgF2gAggAd/exXkTTLxchV18pc2/IlVVZXGf6AgDc0TsMGpUC5/JKcS6PUxjIvf18rgA3yowICfDByOojD4mczTX+unsoV1kFbBMepEVClw4AgC3Vd59E9XGl6QuAdQrDyOpNob87wtgl9/ZN9fDvpP6RLnOTRd6HkSchV9kHsLbJ/SMBAN8euSpzT8iVudr0BQCY3N96TNY3h69AELgamNxThdEszmWdMpBHv5F8XOevuwcyicNorlFFAYCJ/SOhVFiHgbNulMvdHXJRrjZ9AQDu7hsOH7US5/PLcCq3RO7uELXKjlPXUG40o3MHPwyO6SB3d8iLMQGUkG0YzRX2UrMJC9SKq4FtZ1AS3cxWAXSl2A3SanBH9Z6AthWURO7GNvw7eUAUFArXucEi7+M6f909UJUL7QNYm23T0Q2HsjmURvWqcqF9AGuzxe6m9GyYuSk0uRl9RRV2nraexjRlAId/SV6ulZl4mJo5gK51EZ3YPxJ+GhUu5JchI6tI7u6QC3LF+asAcGdcGNr7a3Ct2IBfzhXI3R2iFtl2PBdGswU9wtqhd0Sg3N0hL+daf909jG0OoCscBVdbO181xsdb9wT8b1q2zL0hV1QTu6518+KrVomVE8YuuZtvq1ewT+HwL7kA18pMmmnRokVQKBR2j4iICPHrgiBg0aJFiIqKgp+fH8aMGYPjx4/bvYfBYMBzzz2H0NBQBAQEYMqUKcjOduwFxVWH0QDgwYTOAKzzUcqNJpl7Q22xePFiKBQKzJs3z2HvaXLR6QtATexuPZ6LwjKjzL0hap7rpTVV68kc/iUX4Hp/3Zupb9++yMnJER9Hjx4Vv/bWW29hyZIlWL58OQ4cOICIiAjcfffdKCmpWTk4b948bNq0CevWrcPPP/+M0tJSTJo0CWaz2WF9rDlNwfV+zMO7haBLiD9KDCZ8y8UgbuvAgQP46KOP0L9/f4e+r6tOXwCAfp106BsVBKPJgg2HWAUk9/D9sVyYLQL6d9aha2iA3N0hct8EUK1WIyIiQnx07GhdHSgIApYuXYqXX34ZDzzwAOLj4/Hpp5+ivLwcX3zxBQBAr9dj1apV+Mc//oGxY8di0KBBWLNmDY4ePYrt27c7rI8mF9xKw0apVODRW2MAAF/svyxzb6g1SktL8dhjj2HlypXo0MGx20m46vQFAFAoFHhsaBcA1tjlQiZyB7Yb7UnVe7ESyc31/ro309mzZxEVFYXY2Fg8/PDDuHDhAgAgMzMTubm5SEpKEtv6+vpi9OjR2Lt3LwAgLS0NVVVVdm2ioqIQHx8vtqmPwWBAcXGx3aMhgiDUWgXsegkgYB1K81EpcThbz8Ugbuh3v/sd7rnnHowdO7bJti2JXcC1py8A1g10A3xUuFBQhp+5GIRc3LXiSvx68QYAYFJ/Dv+Sa3DLBHDo0KH47LPP8MMPP2DlypXIzc3FiBEjcP36deTmWndYDw8Pt3tNeHi4+LXc3Fz4+PjUqZrUblOfxYsXQ6fTiY/o6OgG29beosIVh4ABIKSdr3g3+skvmTL3hlpi3bp1SEtLw+LFi5vVviWxC7j29AXAupDJNhfwk18uytsZoiZ8dyQHggAkdOmAqPZ+cneHCICbJoATJkzA1KlT0a9fP4wdOxbfffcdAODTTz8V29y8wkoQhCZXXTXVZuHChdDr9eIjKyurwba26h8AaNSu+2P+7chYANY/UNeKK2XuDTVHVlYWfv/732Pt2rXQarXNek1LYheoqQBq1K5ZAQSAJ6tj98dTecgsKJO5N0QNsx29OZnDv+RCXDczaYGAgAD069cPZ8+eFVcD31zJy8vLE6uCERERMBqNKCwsbLBNfXx9fREUFGT3aIjtKC3ANSfS2/TrrMOQrh1gsgispLiJtLQ05OXlISEhAWq1Gmq1Grt27cJ7770HtVpd70KmlsSuIAg1xxi6aAUQAGJDA3Bn7zAAwL/3XJC5N0T1yy4sR/rlIigUwMR+TADJdbjuX/cWMBgMOHnyJCIjIxEbG4uIiAikpKSIXzcajdi1axdGjBgBAEhISIBGo7Frk5OTg2PHjolt2spUuwLoghPpa3v69u4AgLX7LqG4skrm3lBT7rrrLhw9ehQZGRniIzExEY899hgyMjKgUqna9P6m2tMXXHQOoM3Tt3cDAHyVlo38EoPMvSGqa8tR695/t3YNRlhQ8yr2RM6glrsDrbFgwQJMnjwZMTExyMvLw9/+9jcUFxfjiSeeEPdDe+ONN9CjRw/06NEDb7zxBvz9/fHoo48CAHQ6HWbMmIEXXngBISEhCA4OxoIFC8QhZUcw1aoAqly4AggAd/UOQ4+wdjibV4o1+y5hzphb5O4SNSIwMBDx8fF2zwUEBCAkJKTO861Re/6qq8fu0NhgDIppj/TLRfj4l0z8aXxvubtEZOe76s2fJ3HvP3Ixrl2aakB2djYeeeQR9OrVCw888AB8fHywb98+dOli3Rrij3/8I+bNm4c5c+YgMTERV65cwbZt2xAYWHP0zrvvvov77rsP06ZNw8iRI+Hv749vv/22zdUTG7OLnqRQH6VSgdmjrVXAf+/J5MbQXs6+AujafyIUCgX+rzp2P0+9xI2hyaVk3SjH4Ww9lApgfN+Ipl9A5ERuWQFct25do19XKBRYtGgRFi1a1GAbrVaLZcuWYdmyZQ7unZVtCNjVKyg29w6Mwns/nsWl6+X4LPWSmBCSe9i5c6fD3stsdp8KIACMjQtHXGQQTuYU498/X8AfxrEKSK7hu+rh36GxIegY6Ctzb4jsufbtvRszu8Ek+trUKiWeu7MHAOCj3RdQamAV0FvZTV9wg/NKlUoF5o21xu7qXy7ieinnApJrsM3/u4erf8kFuUd24oZsw2juUEGxuW9gFLqFBuBGmRErd3NVpbey3bwoFdbkyh0k9QlHfKcglBnNeP+n83J3hwhZN8pxxDb8G8/hX3I9TAAlUlMBdI8LKGCtAv5hXC8AwMo9F5BXwn0BvZE7bAFzM4VCgRfHxwEAPt93EVk3ymXuEXk7W/VvWLcQhLbj8C+5Hvf5C+9mbBvpulMFELDeqQ6Ibo9yoxnvppyRuzskA3ebv2pzW49Q3HZLKKrMAt7cekru7pCXsyWAE7j3H7koJoAScccKIGCtpPz5HmslZd2BLBy/qpe5R+RstjmA7ha7APDSxDgoFdatN37NvCF3d8hLZRdaV/8quPqXXBgTQImIw2guvo1GfYZ0Dcak/pEQBOC1b05AEISmX0QeQ7x5cYMtjG7WJyoI04fEAAAWfXMcJrOliVcQOd7WY9aTqG7tGszVv+Sy3C87cRPuWgG0WTgxDn4aFX69eAMbDl2RuzvkRDULmNzzz8OCpJ7Q+WlwIqcYn++7JHd33NoHH3yA2NhYaLVaJCQkYM+ePY2237VrFxISEqDVatGtWzesWLHC7uvHjx/H1KlT0bVrVygUCixdulTC3svHNvzLo9/IlbnnX3g3YBtGc7d5VDad2vvh99Vba7yx5SRucINdr+HuNy8h7Xzxx/HWxUz/2HYGOfoKmXvkntavX4958+bh5ZdfRnp6OkaNGoUJEybg8uXL9bbPzMzExIkTMWrUKKSnp+Oll17C3LlzsWHDBrFNeXk5unXrhjfffFM8t93T5OorcehyEQBgHId/yYUxAZSI2Q23gbnZjNti0Ss8EDfKjPjr/07I3R1yEnfcwuhmjwyJwcDo9ig1mPDnTcc4jaEVlixZghkzZmDmzJmIi4vD0qVLER0djQ8//LDe9itWrEBMTAyWLl2KuLg4zJw5E0899RTeeecdsc2QIUPw9ttv4+GHH4avr2cOjW47YR3+HRzTHhE6nv1LrosJoERMbjyPykajUuLvD/aHUgFsSr+C7Seuyd0lcgKzbRGIG8euUqnAWw/2h0alwI5Tefg646rcXXIrRqMRaWlpSEpKsns+KSkJe/furfc1qampddqPGzcOBw8eRFVVlWR9dTXfH7UmgBPiOfxLro0JoETMZveeR2UzMLo9Zo7qBgB4ceNRDgV7AXfdBuZmPcMDMbf6dJu/fH2MQ8EtUFBQALPZjPDwcLvnw8PDkZubW+9rcnNz621vMplQUFDQ6r4YDAYUFxfbPVzVjTIj9mdeB8DNn8n1uXd24sJMbj6Pqrb5d/dEj7B2KCg1YOHGIxxO83DuPgewtv8b0x0DotujuNKEBV8dhsXC2G0JxU1HAQqCUOe5ptrX93xLLF68GDqdTnxER0e3+r2ktv3kNVgEoE9kEKKD/eXuDlGjmABKxBPmANpoNSq8O30gNCoFfjh+DWv21z8JnDyDu68Crk2tUmLJtAHw06jwy7nrWLGbx8Q1R2hoKFQqVZ1qX15eXp0qn01ERES97dVqNUJCQlrdl4ULF0Kv14uPrKysVr+X1LYdt37/XPxB7sD9/8K7KHfeTLc+8Z10+NP43gCAv/7vBI5d4QbRnsqTKoAA0L1jO7w2pS8A66pgbhDdNB8fHyQkJCAlJcXu+ZSUFIwYMaLe1wwfPrxO+23btiExMREajabVffH19UVQUJDdwxWVGUzYfdY61D0uvv4kmciVMAGUiCdVAG1m3BaLu3qHwWiy4P/WpkFf7j0Tu72JJ6wCvtlDiZ1x38AomC0Cnv3iEM+5bob58+fj3//+Nz7++GOcPHkSzz//PC5fvozZs2cDsFbmnnnmGbH97NmzcenSJcyfPx8nT57Exx9/jFWrVmHBggViG6PRiIyMDGRkZMBoNOLKlSvIyMjAuXPnnP79OdruM/kwmiyICfZHr/BAubtD1CQmgBLxpDmANgqFAkumDUR0sB+yblTguXXpYqJLnsPsYdVrwBq7bzzQDz3C2iGvxIA5aw7BaOIpIY2ZPn06li5ditdffx0DBw7E7t27sWXLFnTp0gUAkJOTg+zsbLF9bGwstmzZgp07d2LgwIH461//ivfeew9Tp04V21y9ehWDBg3CoEGDkJOTg3feeQeDBg3CzJkznf79Odq26l0SkvqEt2nOI5GzMAGUiNmD5lHVpvPXYMXjCdBqlNh9Jh+Lt5yUu0vkYJ5YAQQAfx81/pWcgECtGgcvFeKVzdwfsClz5szBxYsXYTAYkJaWhttvv1382urVq/Hdd9/ZtR89ejQOHToEg8GAzMxMsVpo07VrVwiCUOexc+dOZ3w7kjGZLfjxVB4AIInz/8hNeFZ24kJsF1GNG++l1pC+UTq889AAAMC/f87E2v08bsuTmMXY9bw/D906tsN7jwyCUgGsP5iFf+2+IHeXyAMcuFgIfUUVOvhrMDimvdzdIWoWz/sL7yJsh9B7WhXFZlL/KLxwd08AwCubj3GTaA9S5SH7ADbkjl5h+MukPgCAN78/ha8zeNY1tU1K9d+/O3uHQ+2BN07kmRipEvG0lZT1efbOW/BQQmdYBODZLw/hwEWurvQEnjgH8GZPjozFUyNjAQALvjqMXWfyZe4RuStBELDjlDUBvLtPmMy9IWo+JoAS8aS91Bpim1h/Z+8wVFZZ8NQnB3A0m9vDuDtPnQN4sz/fE4dJ/SNRZRbwzOcHsf/Cdbm7RG7ofH4pLl0vh49KiVE9OsrdHaJm89zsRGbeUAEErPPE3n90MG6NDUaJwYTHV+3nHoFuzuwB51g3h1JpXdU+pldH6w3M6gM4yCo2tdCOk9bFH8O6hyDAVy1zb4iajwmgRMTzVD38IgoAfj4qrHoiEYNi2kNfUYXH/r0fR7KL5O4WtZLJQ86xbg4ftRIrHk/AyFtCUGY044mPf2UlkFpkR/Xq37t6c/iX3Ivn/4WXiTfMo6otUKvBp0/dWpMErtzPC6mb8pbqtY1Wo8K/fzMEI7pXJ4Gf/Iqdp/Pk7ha5AX15FdIuFQIA7mQCSG6GCaBEvGUeVW1BWg0+nzEUQ6uHg3/z8a/i2ZjkPrwxdv18VPj4ySHicPDMTw9ydTA1affZfJgtAnqEtUN0sL/c3SFqESaAEvG2KopNO181Pn3qVoyNC4PBZMHsNWn4PPWi3N2iFvC26rWNVqPCR8mJmDwgCiaLgN+vy8CHO89zs2hq0M7T1tXjd7D6R26ICaBEvGEVcEO0GhVWPJ6Ah4dEwyIAr3x9HIu+OS7ujUiuzRsrgDY+aiX+OX0gZtxm3SLm71tP4U8bjvDYOKrDYhGw64x1qsCYXlz9S+7H+7ITJ/HWCqCNWqXE4gf64Q/jegEAVu+9iCc/OYDCMqPMPaOmeHvsKpUKvDKpDxZN7gOlAvjPwWw8snIf8koq5e4auZDjV4tRUGpEgI8KiV2C5e4OUYsxAZSIyeLZJ4E0h0KhwO/uuAUfPjYY/j4q/HyuAJOW/cwVwi7Om6vXtT05MhYfPzkEgVo10i4VYtJ7P3OzcxLZqn8jbwmFj9q7f1fIPTFqJeLtVZTaJvSLxMY5I9AlxB9Xiirw4IepWP1LJudWuShv2QewOcb0CsM3z96GnuHtkFdiwMMf7cMHO8/BYmHservdZwsAALf35PAvuScmgBKx7aXGcyGtekcE4Ztnb0NSn3AYzRYs+vYEZn56EAWlBrm7RjcRY5c3LwCA2NAAbJozEvcNjILZIuCtrafx+Kr9yNVzSNhblRpMOFS9/cvtPP2D3BSzE4mwAliXzk+DfyUn4NXJfeCjUmLHqTyMe3c3fuBWMS7FW1cBNybAV413pw/E36f2g59Ghb3nryPp3V34OuMKK9leaN/56zBZBHQJ8UdMCLd/Iffklgng4sWLMWTIEAQGBiIsLAz33XcfTp8+bdfmySefhEKhsHsMGzbMro3BYMBzzz2H0NBQBAQEYMqUKcjOznZIH6u8eCVlYxQKBX47MhabfzcSvcIDcb3MiGc+T8PcL9NxndXAZmlO/LdFFecA1kuhUGD6kBj8b+5t6NdJh+JKE36/LgPPfJ6Ga8WsBnqTPWet27+M6hEqc0+IWs8t/8Lv2rULv/vd77Bv3z6kpKTAZDIhKSkJZWVldu3Gjx+PnJwc8bFlyxa7r8+bNw+bNm3CunXr8PPPP6O0tBSTJk2C2Wxucx/FKgrnUdWrT1QQvnluJGaP7g6lAvjm8FWMXbILXx3MYkWlCc2N/9YymzkHsDHdO7bDxjkj8PzYntCoFNh24hrGLtmFz/ddEiv/5Nl+Pmed/3fbLRz+JffllidXb9261e7fn3zyCcLCwpCWlobbb79dfN7X1xcRERH1voder8eqVavw+eefY+zYsQCANWvWIDo6Gtu3b8e4cePa1Mea81R5EW2Ir1qFFyf0xoT4CPxpwxGcyi3BH/57BF8dzMaiKX3RJypI7i66pObGf2t58z6AzaVRKfH7sT2Q1DccL244gsPZeryy+Rj+ezALr90bj4HR7eXuIkkkr7gS5/PLoFAAw7uFyN0dolZzywrgzfR6PQAgONh+L6adO3ciLCwMPXv2xKxZs5CXV3O+Z1paGqqqqpCUlCQ+FxUVhfj4eOzdu7fNfeIcwOYbEN0e3z53G16c0Bt+GhV+vXgDk5btwcubjnJYuBkaiv/W4hzA5ouLDMLGOSOxaHIfBPqqcThbj/ve/wULvjrMYWEPlVp9xnmfyCDo/DUy94ao9dw+ARQEAfPnz8dtt92G+Ph48fkJEyZg7dq1+PHHH/GPf/wDBw4cwJ133gmDwZpQ5ObmwsfHBx06dLB7v/DwcOTm1r8owWAwoLi42O7REO6l1jIalRKzR3fH9hdG455+kbAIwNr9lzH67Z1Y/uNZlBtNcnfRJTUU/zdrXewyAWwOlVKBJ0fGYseC0XhgcCcAwH/TsjHm7Z34x7bTKKmskrmH5Eip560J4IjurP6Re3P77OTZZ5/FkSNH8OWXX9o9P336dNxzzz2Ij4/H5MmT8f333+PMmTP47rvvGn0/QRCgUNR/4Vu8eDF0Op34iI6ObvB9WAFsnU7t/fD+Y4Ox/ulh6NdJh1KDCe9sO4PRb+/Ep3svwmBq+/xMT9JQ/N+MsSu9sEAtlkwbiM2/G4mELh1QUWXGsh/P4fa3fsJHu8+jwsjY9QS2CuBwJoDk5tw6AXzuuefwzTff4KeffkLnzp0bbRsZGYkuXbrg7NmzAICIiAgYjUYUFhbatcvLy0N4eHi977Fw4ULo9XrxkZWV1eDn8SSQthnaLQRf/24k/vnwQEQH+yG/xIBXvzmOMW/vxGepF1FZxYtpS+K/ZbHL6nVbDIxuj//OHo4Vjw9Gt44BKCyvwhtbTmHUWz/h33susJrtxnL0Fbh0vRxKBTCkK49/I/fmln/hBUHAs88+i40bN+LHH39EbGxsk6+5fv06srKyEBkZCQBISEiARqNBSkqK2CYnJwfHjh3DiBEj6n0PX19fBAUF2T0awipK2ymVCtw7sBN2zB+Dv90Xj4ggLXL0lfjL18cx6q2fsGLXeRR74fBaa+KfsetcCoUC4+MjsW3e7Xj7wf7o3MEPBaUG/O27kxj55o/45/azPBfbDR28aC0Y9IkKQqCW8//IvbnlKuDf/e53+OKLL/D1118jMDBQnLOn0+ng5+eH0tJSLFq0CFOnTkVkZCQuXryIl156CaGhobj//vvFtjNmzMALL7yAkJAQBAcHY8GCBejXr5+4KrgtOI/KcXzUSjw+rAseTOiM/xzMwoqd53FVX4k3vz+F5T+ew8NDovHEiK6IDvaODVmbiv+2Yuw6jlqlxEOJ0bhvUCdsPJSN9386j8s3yvHu9jNYses8HkrsjN+OjEVsaIDcXaVmSKs+/SOxC6t/5P7cMgH88MMPAQBjxoyxe/6TTz7Bk08+CZVKhaNHj+Kzzz5DUVERIiMjcccdd2D9+vUIDAwU27/77rtQq9WYNm0aKioqcNddd2H16tVQqVRt7iPPU3U8rUaF3wzvioeHxOCbw1fxr13ncTavFP/+ORMf/5KJu/uE4zfDu2JE95AG53F6gqbiv624h6XjaVRKTB8Sg6mDO2PLsVys2HkeJ3KK8VnqJXy+7xLG9OyI34zoitE9OkLJxNtlHbx0AwCQ0KVDEy2JXJ9bJoBNbRTs5+eHH374ocn30Wq1WLZsGZYtW+aorolqzlN1y1F2l+ajVuLBhM54YFAn7DqTj1U/Z+LncwX44fg1/HD8GrqFBuCRW2PwwOBOCGnnK3d3HU7qjbIZu9JRq5SYMiAKk/tHYu/561j1cyZ+PJWHn07n46fT+YgO9sPDQ2LwUEJnhAVp5e4u1VJmMOFkTgkAILErE0Byf26ZALoDzqOSnlKpwB29w3BH7zCcvVaCz1IvYVP6FVwoKMP/23ISb/1wCmPjwvFQYmfc3qMj1ComNM1h5hCw5BQKBUbeEoqRt4TiYkEZPku9hP+mZSHrRgXe/uE0lqScwR29wvBgQmfc2TsMPmrGrtwysopgtgjo1N4Pkbq2T7UgkhsTQIlwFbBz9QgPxF/vi8efJvTGNxlXse7AZRzJ1uP7Y7n4/lguQtv5YFL/KNw7MAoDo9t79BBxW5l48+JUXUMD8JfJffCHcb3wvyNXse5AFtIuFWL7yWvYfvIa2vtrMKl/JO4d2AkJMR04RCyT9MvW+X+DOfxLHoIJoEQ4B1Ae7XzVeHRoDB4dGoOTOcX46mA2vs64goJSI1bvvYjVey8iJtgfk/pHYmK/SPSNCmIyeBOxAsjYdSo/HxUeSozGQ4nROJdXgq8OZmNT+hXklRiwZt9lrNl3GZ3a++Ge6tgd0FnH2HWio1esJ+7076STuSdEjsEEUCLcS01+cZFB+MvkPlg4sTf2nM3HpvSr2H7iGi7fKMcHO8/jg53nERPsj3F9w5HUNwKDYzqwYgtWAF3BLWGBWDgxDn8c3xt7zxdgU/oVbDt+DVeKKvDR7gv4aPcFROm0SOobgaS+4bi1azCnOEjs2BXr6TnxTADJQzABlEjNRHpeROWmUSlxZ+9w3Nk7HOVGE3aczMOWozn46XQeLt8ox8o9mVi5JxPBAT64o1cY7ooLw209QhHkpft8mcycvuAqVEoFRvXoiFE9OqKyyoydp/Pw3dFc7Dh5DVf1lWJVW+enwZheHXFn7zCM7tkR7f195O66RyksM+JKUQUAoG+nhvfQJHInTAAlwr3UXJO/jxqTB0Rh8oAolBtN2HU6Hz8cz8WPp/Jwo8yIDYeyseFQNtRKBRK6dMDtPTtidM+O6BMZ5DVzr2oWMLGi5Eq0GhXGx0difHwkKqvM2H0mHz8cv4YfT11DYXkVvs64iq8zrkKpAAbFdMDonh1xe8+O6NdJx79DbWQb/u0a4u+1N4bkeZgASkTcS41/eF2Wv48aE/pFYkK/SFSZLThw8QZ2nMzDT6fycKGgDPszb2B/5g28/cNpBAf4YHi3EIy4JQQjuoeia4i/x86/4s2L69NqVNXDvxEwmS04dLkIO05dw0+n8nDmWinSLhUi7VIhlqScgc5Pg2HdgjHyllCM6B6C7h3beWzsSuXYVWsCyOFf8iRMACXCi6h70aiUGNE9FCO6h+KVSX1w6XoZdp3Jx+4z+Ug9fx03yoz47mgOvjuaAwCICNJiaLdg3BobjFu7BqN7x3YeUyHkFkbuRa1SWuMwNhgLJ8Qhu7Acu88UYPeZfPxyvgD6iipxj0wACG3ni6HdgjE0NhhDugajV3igx8SuVI5dYQJInocJoEQ4jObeuoQE4DfDA/Cb4V1RZbbgcFYRfj5XgL3nryPjchFyiyvFITcAaO+vQUJMByR07YDBMR3Qv7MO/j7u+evFLYzcW+cO/uJKeJPZgqNX9PilOnbTLhWioNSA747k4Lsj1puZQK0aCV06ILFLdexGt0c7X/eMXamcvVYKAOgdEdhESyL3wd9yiZi4lYbH0KiUSOwajMSuwZg3FqisMuPQ5ULsu3ADBzJvID2rEEXlVdhxKg87TuUBsCZPPcMDMTC6PQZG69C/c3v0CGvnFis1uYWR51CrlBgU0wGDYjrg2Tt7oLLKjMNZRdifeQO/Zt7AocuFKKk0YefpfOw8nQ8AUCqAHmHW2B0Q3R79O+vQKyIQGjeIXSmYLQIu3SgHAHTv2E7m3hA5DhNAiXAYzXNpNSpxuBgAjCYLTuQU4+BF6wX10CVrhfBkTjFO5hTjy19tr1PinYcGYFL/KBl73zRuA+O5tBoVhnYLwdBuIQCsK75P5pTg4KUbSLtUiPTLRbhSVIHT10pw+loJ1h/MAmA9fvGv9/bF9CExcnZfFleLKmA0WeCjUiKqPU8AIc/BBFACgiDwOC0v4qNWVlf62ovP5egrkHG5CBnZRTicVYRjV4pRajC5xQXEbOYelt5CrVKiX2cd+nXW4bcjYwEAecWVSM+yxu3h7CIczdajuNKECC89/uzi9TIAQEyIP/+ek0dhAigBW/IHABpeRL1SpM4Pkf38MKFfJADAYhGQeb0MnTu4/kWUFUDvFhakxbi+ERjXNwKA9Yb20vVyhAdpZe6ZPDILrAlg15AAmXtC5FhMACVgqpUAcg4gAYBSqXCb+UOcA0i1KRQKdA313uTHlgB26+i9PwPyTCxPSaB2BZBVFHI3XAVMVIMVQPJUTAAlYFcB5EWU3IjFIsAWvtzCiKgmAYz14iooeSb+hZdA7QqgijvukxsxC7x5IbKpMluQXWg9A5gJIHkaJoASsA2hKRXgDvvkVjh9gajG1aIKmC0CfNVKhAf5yt0dIodiAigBngJC7orTF4hq2Kp/nTr48fxk8jjMUCRgMnMPQHJPJrNF/G9WAMnbXalOADt38Je5J0SOxwRQAtxHjdwVK4BENbKLqiuAbrCBO1FLMQGUgNm2jQb3USM3U/sEGw55kbfLLrSeAewOG7gTtRQTQAmwAkjuysQjDIlENUPATADJ8zABlADnAJK7sp0DzJsXolqLQDgETB6ICaAEuAqY3JVtCyMmgOTtTGYLcosrAXARCHkmZigSMPEsVXJTNecA808Debfc4kqYLQI0KgXCArkHIHke/pWXgJnzqMhNcQ4gkZVt/l9Uez9u6E8eiQmgBDiMRu7KzAVMRACASzesK4A5/488FRNACdRUAPnjJffCCiCR1bbj1wAAA6Pby9sRIokwQ5EAt4Ehd2Vm9ZoIN8qM2Hk6DwBw/6BOMveGSBpMACVg5jYw5Ka4hRER8L8jV2GyCOgbFYQe4YFyd4dIEkwAJcAKILkrbmFEtX3wwQeIjY2FVqtFQkIC9uzZ02j7Xbt2ISEhAVqtFt26dcOKFSvqtNmwYQP69OkDX19f9OnTB5s2bZKq+62SV1yJ9386B4DVP/Js/CsvAa4CJnfFOYBks379esybNw8vv/wy0tPTMWrUKEyYMAGXL1+ut31mZiYmTpyIUaNGIT09HS+99BLmzp2LDRs2iG1SU1Mxffp0JCcn4/Dhw0hOTsa0adOwf/9+Z31bjbpeasCszw7iWrEBt4S1w8O3xsjdJSLJeH0C2NI73OYQVwFzH0CSkBSxa+YellRtyZIlmDFjBmbOnIm4uDgsXboU0dHR+PDDD+ttv2LFCsTExGDp0qWIi4vDzJkz8dRTT+Gdd94R2yxduhR33303Fi5ciN69e2PhwoW46667sHTpUid9Vw3bdSYfU5b/gsPZegRp1Vj5m0S081XL3S0iyXh1AtjSO9zmqplH5dU/XpKQVLFbZbbevLAC6N2MRiPS0tKQlJRk93xSUhL27t1b72tSU1PrtB83bhwOHjyIqqqqRts09J4tIQgCvjqYhVKDqUWv+eVcAZJX7ccTH/+KK0UViA0NwIb/G4HY0IA294nIlXl1htLSO9zm4l5qJDXGLkmpoKAAZrMZ4eHhds+Hh4cjNze33tfk5ubW295kMqGgoKDRNg29JwAYDAYUFxfbPeqTev46/vDfIxj55o9YknIG2YXl9bYzWwQczirCkm2ncec/duGxf+/HnrMFUCkVmHFbLL55diQXfpBX8Nr6tu0O98UXX7R7vrE7XIPBAIPBIP67oT9EnEdFUmLskrMoFPZxIAhCneeaan/z8y19z8WLF+O1115rsq9mQUD3jgE4n1+G93acxXs7ziI2NACxoQEI1KpRZbbgalElzlwrQbnRLL6una8a9w/qhKdv74boYJ75S97DaxPA1tzhNvsPUfUcQA3nUZEEpI1d6wVbw7OAvVpoaChUKlWdeMrLy6sTdzYRERH1tler1QgJCWm0TUPvCQALFy7E/PnzxX8XFxcjOjq6TrtRPTpi2/Oj8f2xHHyx/zL2nr+OzIIyZBaU1Wkb6KvGiFtCMCE+Enf3CUcA5/qRF/L6qG/J3Whz/xAldAnGK5P6oAvvJklCUsRufCcdXpnUB1E6rWM7S27Fx8cHCQkJSElJwf333y8+n5KSgnvvvbfe1wwfPhzffvut3XPbtm1DYmIiNBqN2CYlJQXPP/+8XZsRI0Y02BdfX1/4+vo2q98qpQKT+kdhUv8oFJUbcThbj6tFFSgzmKBWKhAepMUtYe3QrWM7VrnJ63ltAtiaO9zm/iHqExWEPlFBDukn0c2kjN1bwtrhlrB2Duknubf58+cjOTkZiYmJGD58OD766CNcvnwZs2fPBmC9qbh48aLYfvbs2Vi+fDnmz5+PWbNmITU1FatWrcKXX34ptvn973+P22+/HX//+99x77334uuvv8b27dvx888/O7z/7f19MLpnR4e/L5Gn8Npxntp3uLWlpKQ0ejdKJDfGLjnD9OnTsXTpUrz++usYOHAgdu/ejS1btqBLly4AgJycHGRnZ4vtY2NjsWXLFuzcuRMDBw7EX//6V7z33nuYOnWq2GbEiBFYt24dPvnkE/Tv3x+rV6/G+vXrMXToUKd/f0TeTiHYZul6ofXr1yM5ORkrVqwQ73BXrlyJ48ePi3/kGlNcXAydTge9Xo+gIFb8qHVaE0eMXXIFcsQRY5ccgXHkxUPAgPUO9/r163j99deRk5OD+Ph4uztcIlfF2CUiorbw6gpgW/EOghyBVRRyV4xdcleMIy+eA0hERETkrZgAEhEREXkZJoBEREREXoYJIBEREZGXYQJIRERE5GWYABIRERF5GSaARERERF6GCSARERGRl2ECSERERORlvPoouLayHaJSXFwsc0/Indnix5mH8jB2yREYu+Su5IhdV8MEsA1KSkoAANHR0TL3hDxBSUkJdDqd0z4LYOySYzB2yV05M3ZdDc8CbgOLxYKrV68iMDAQCoXC7mvFxcWIjo5GVlaW154zCPDnYNPYz0EQBJSUlCAqKgpKpXNmZTB2m8afgxVj1/3w52DlarHralgBbAOlUonOnTs32iYoKMirfwFt+HOwaujn4Ow7UMZu8/HnYMXYdT/8OVi5Suy6Gu9Me4mIiIi8GBNAIiIiIi/DBFAivr6+ePXVV+Hr6yt3V2TFn4OVO/0c3KmvUuLPwcqdfg7u1Fcp8edgxZ9D47gIhIiIiMjLsAJIRERE5GWYABIRERF5GSaARERERF6GCSARERGRl2EC2IAPPvgAsbGx0Gq1SEhIwJ49exptv2vXLiQkJECr1aJbt25YsWJFnTYbNmxAnz594Ovriz59+mDTpk1t/lypyfFzWLRoERQKhd0jIiLCod9XSzn653D8+HFMnToVXbt2hUKhwNKlSx3yuVL0FWDs2jB2GbvOwNi1cqfYdUsC1bFu3TpBo9EIK1euFE6cOCH8/ve/FwICAoRLly7V2/7ChQuCv7+/8Pvf/144ceKEsHLlSkGj0Qj//e9/xTZ79+4VVCqV8MYbbwgnT54U3njjDUGtVgv79u1r9edKTa6fw6uvvir07dtXyMnJER95eXmSf78NkeLn8OuvvwoLFiwQvvzySyEiIkJ499132/y5UvWVsWvF2LVi7EqLsWvlTrHrrpgA1uPWW28VZs+ebfdc7969hRdffLHe9n/84x+F3r172z33zDPPCMOGDRP/PW3aNGH8+PF2bcaNGyc8/PDDrf5cqcn1c3j11VeFAQMGtLH3jiPFz6G2Ll261PuHqDXxwNhtXX8Yu1aM3eb1VUqMXSt3il13xSHgmxiNRqSlpSEpKcnu+aSkJOzdu7fe16SmptZpP27cOBw8eBBVVVWNtrG9Z2s+V0py/Rxszp49i6ioKMTGxuLhhx/GhQsX2vottYpUPwcpPpexi1b3h7Frxdht+nOlxNi1cqfYdWdMAG9SUFAAs9mM8PBwu+fDw8ORm5tb72tyc3PrbW8ymVBQUNBoG9t7tuZzpSTXzwEAhg4dis8++ww//PADVq5cidzcXIwYMQLXr193xLfWIlL9HKT4XMYuWt0fxq4VY7fpz5USY9fKnWLXnanl7oCrUigUdv8WBKHOc021v/n55rxnSz9XanL8HCZMmCD+d79+/TB8+HB0794dn376KebPn9/yb8IBpPg5SPG5rXkNY7fh9jc/z9iV7nNb8xrGbsPtb36esSvd57orVgBvEhoaCpVKVSfbz8vLq3NXYBMREVFve7VajZCQkEbb2N6zNZ8rJbl+DvUJCAhAv379cPbs2dZ8K20i1c9Bis9l7KLV/WHsWjF2m/5cKTF2rdwpdt0ZE8Cb+Pj4ICEhASkpKXbPp6SkYMSIEfW+Zvjw4XXab9u2DYmJidBoNI22sb1naz5XSnL9HOpjMBhw8uRJREZGtuZbaROpfg5SfC5jF63uD2PXirHb9OdKibFr5U6x69acsdLE3diWga9atUo4ceKEMG/ePCEgIEC4ePGiIAiC8OKLLwrJyclie9vy8+eff144ceKEsGrVqjrLz3/55RdBpVIJb775pnDy5EnhzTffbHA7goY+19nk+jm88MILws6dO4ULFy4I+/btEyZNmiQEBgZ61M/BYDAI6enpQnp6uhAZGSksWLBASE9PF86ePdvsz3VWXxm7VoxdK8autBi7Vu4Uu+6KCWAD3n//faFLly6Cj4+PMHjwYGHXrl3i15544glh9OjRdu137twpDBo0SPDx8RG6du0qfPjhh3Xe86uvvhJ69eolaDQaoXfv3sKGDRta9LlykOPnMH36dCEyMlLQaDRCVFSU8MADDwjHjx+X5PtrLkf/HDIzMwUAdR43v09r4oGx23R/GLtWjN3W91VKjF0rd4pdd6QQhOpZkkRERETkFTgHkIiIiMjLMAEkIiIi8jJMAImIiIi8DBNAIiIiIi/DBJCIiIjIyzABJCIiIvIyTACJiIiIvAwTQCIiIiIvwwSQiIiIyMswASQiIiLyMkwAiYiIiLwME0AiIiIiL8MEkIiIiMjLMAEkIiIi8jJMAImIiIi8DBNAIiIiIi/DBJCIiIjIyzABJCIiIvIyTACJiIiIvAwTQCIiIiIvwwSQiIiIyMswASQiIiLyMkwAiYiIiLwME0AiIiIiL8MEkIiIiMjLMAEkIiIi8jJMAImIiIi8DBNAIiIiIi/DBJCIiIjIyzABJCIiIvIyTACJiIiIvMz/Bx2Xp9HsT0fYAAAAAElFTkSuQmCC' width=640.0/>\n",
       "            </div>\n",
       "        "
      ],
      "text/plain": [
       "Canvas(toolbar=Toolbar(toolitems=[('Home', 'Reset original view', 'home', 'home'), ('Back', 'Back to previous …"
      ]
     },
     "metadata": {},
     "output_type": "display_data"
    }
   ],
   "source": [
    "U_last = m.hist.U_t[-1]\n",
    "F_last = m.hist.U_t[-1]\n",
    "U_t = np.average(m.hist.U_t[:, bc_r_x.dofs], axis=-1)\n",
    "U_t_y = np.average(m.hist.U_t[:, bc_r_y.dofs], axis=-1)\n",
    "F_t = np.sum(m.hist.F_t[:, bc_r_x.dofs], axis=-1)\n",
    "fig, (ax1, ax2, ax3) = plt.subplots(1, 3)\n",
    "ax1.plot(U_t, F_t)\n",
    "# ax1.plot(U_t_y, F_t)\n",
    "ax2.plot(U_t/size_x, F_t/(size_y*size_z))\n",
    "ax3.plot(U_t, U_t_y)\n",
    "G = np.trapz(F_t, x=U_t)/((size_z)*(size_y))*1000\n",
    "G2 = np.trapz(F_t/(size_y*size_z), x=U_t/size_x)\n",
    "print(G)\n",
    "print(G2)"
   ]
  },
  {
   "cell_type": "code",
   "execution_count": 31,
   "id": "ae67c79b-5d9e-4e79-824c-fabc4c295de4",
   "metadata": {},
   "outputs": [],
   "source": [
    "if True:\n",
    "    mlab.options.backend = 'envisage'\n",
    "    mlab.options.offscreen = False # 'envisage'\n",
    "    f_strain = mlab.figure()\n",
    "    scene = mlab.get_engine().scenes[-1]\n",
    "    scene.name = 'stress'\n",
    "    strain_viz = Viz3DTensorField(vis3d=m.hist['stress'])\n",
    "    strain_viz.setup()\n",
    "    strain_viz.warp_vector.filter.scale_factor = 0.1\n",
    "    strain_viz.plot(s.tstep.t_n)\n",
    "    mlab.show()"
   ]
  },
  {
   "cell_type": "code",
   "execution_count": null,
   "id": "0390d6ea-d701-45f2-8c54-9988a9de8a3a",
   "metadata": {},
   "outputs": [],
   "source": [
    "# eps_Emab = xmodel.map_U_to_field(U_t[-1])\n",
    "# m.fe_domain[0].state_k\n",
    "# m_inelastic.get_corr_pred(eps_Emab, 1, **m.fe_domain[2].state_k)"
   ]
  },
  {
   "cell_type": "markdown",
   "id": "1c175784-0ae5-44d9-9055-f5e129d43794",
   "metadata": {},
   "source": [
    "## Tension bulk radial direction"
   ]
  },
  {
   "cell_type": "code",
   "execution_count": 18,
   "id": "1495f272-43bc-418e-a56d-4e7edcdf654a",
   "metadata": {
    "tags": []
   },
   "outputs": [],
   "source": [
    "size_x = 12.5\n",
    "size_y = 1\n",
    "size_z = 10\n",
    "n_e_x = 1\n",
    "n_e_y = 1\n",
    "n_e_x = 1\n",
    "\n",
    "xmodel = XDomainFEGrid(coord_min=(0, 0, 0),\n",
    "                       coord_max=(size_x ,size_y, size_z),\n",
    "                       shape=(n_e_x, n_e_y, n_e_x),\n",
    "                     integ_factor=1,\n",
    "                     fets=FETS3D8H())\n",
    "E = 34000\n",
    "\n",
    "m_inelastic = MS13D(**CAxisymm)\n",
    "m_elastic = MATS3DElastic(E=34000, nu=0.2)\n",
    "m = TStepBC(\n",
    "    domains=[(xmodel, m_inelastic),\n",
    "             ]\n",
    ")"
   ]
  },
  {
   "cell_type": "code",
   "execution_count": 19,
   "id": "1c0cc2a2-6bf8-4aa0-948b-2274c1d673d9",
   "metadata": {},
   "outputs": [],
   "source": [
    "w_max = 0.01 * size_x\n",
    "\n",
    "# Tension bc\n",
    "bc_l_x = BCSlice(slice=xmodel.mesh[0, :, :, 0, :, :],\n",
    "                  var='u', dims=[0], value=0.0)\n",
    "bc_r_x = BCSlice(slice=xmodel.mesh[-1, :, :, -1, :, :],\n",
    "                 var='u', dims=[0], value=w_max)\n",
    "bc_r_y = BCSlice(slice=xmodel.mesh[-1, :, :, -1, :, :],\n",
    "                 var='u', dims=[1], value=w_max)\n",
    "bc_xy_z0 = BCSlice(slice=xmodel.mesh[:, :, 0, :, :, 0],\n",
    "                  var='u', dims=[2], value=0)\n",
    "bc_xz_y0 = BCSlice(slice=xmodel.mesh[:, 0, :, :, 0, :],\n",
    "                 var='u', dims=[1], value=0)"
   ]
  },
  {
   "cell_type": "code",
   "execution_count": 20,
   "id": "b88e24c3-b0bd-4ec9-98d9-1eaf81ef49ff",
   "metadata": {},
   "outputs": [],
   "source": [
    "bc1 = [bc_l_x, bc_r_x, bc_xy_z0, bc_xz_y0]"
   ]
  },
  {
   "cell_type": "code",
   "execution_count": 21,
   "id": "fe36e83d-adab-48ef-92ae-1d44283f96b4",
   "metadata": {},
   "outputs": [],
   "source": [
    "m.bc=bc1\n",
    "m.hist.vis_record = {\n",
    "#    'strain': Vis3DTensorField(var='eps_ab'),\n",
    "    'stress': Vis3DTensorField(var='sig_ab'),\n",
    "    #        'kinematic hardening': Vis3DStateField(var='z_a')\n",
    "}\n",
    "\n",
    "s = m.sim\n",
    "s.tloop.verbose = False\n",
    "s.tloop.k_max = 1000\n",
    "s.tline.step = 0.01\n",
    "# Accessing the following property - ensures serialization\n",
    "s.tstep.fe_domain.serialized_subdomains\n",
    "s.reset()\n",
    "s.run()"
   ]
  },
  {
   "cell_type": "code",
   "execution_count": 22,
   "id": "c3a12119-a286-442d-b913-4040baaf637c",
   "metadata": {},
   "outputs": [
    {
     "name": "stdout",
     "output_type": "stream",
     "text": [
      "543.1915990208647\n",
      "0.04345532792166917\n"
     ]
    },
    {
     "data": {
      "application/vnd.jupyter.widget-view+json": {
       "model_id": "10c94f4580904437b1b0fe9918f1111f",
       "version_major": 2,
       "version_minor": 0
      },
      "text/html": [
       "\n",
       "            <div style=\"display: inline-block;\">\n",
       "                <div class=\"jupyter-widgets widget-label\" style=\"text-align: center;\">\n",
       "                    Figure\n",
       "                </div>\n",
       "                <img src='data:image/png;base64,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' width=640.0/>\n",
       "            </div>\n",
       "        "
      ],
      "text/plain": [
       "Canvas(toolbar=Toolbar(toolitems=[('Home', 'Reset original view', 'home', 'home'), ('Back', 'Back to previous …"
      ]
     },
     "metadata": {},
     "output_type": "display_data"
    }
   ],
   "source": [
    "U_last = m.hist.U_t[-1]\n",
    "F_last = m.hist.U_t[-1]\n",
    "U_t = np.average(m.hist.U_t[:, bc_r_x.dofs], axis=-1)\n",
    "U_t_y = np.average(m.hist.U_t[:, bc_r_y.dofs], axis=-1)\n",
    "F_t = np.sum(m.hist.F_t[:, bc_r_x.dofs], axis=-1)\n",
    "fig, (ax1, ax2, ax3) = plt.subplots(1, 3)\n",
    "ax1.plot(U_t, F_t)\n",
    "# ax1.plot(U_t_y, F_t)\n",
    "ax2.plot(U_t/size_x, F_t/(size_y*size_z))\n",
    "ax3.plot(U_t, U_t_y)\n",
    "G = np.trapz(F_t, x=U_t)/((size_z)*(size_y))*1000\n",
    "G2 = np.trapz(F_t/(size_y*size_z), x=U_t/size_x)\n",
    "print(G)\n",
    "print(G2)"
   ]
  },
  {
   "cell_type": "code",
   "execution_count": 24,
   "id": "15fb3ccb-2802-485e-b756-dbf68e44509d",
   "metadata": {},
   "outputs": [],
   "source": [
    "if True:\n",
    "    mlab.options.backend = 'envisage'\n",
    "    mlab.options.offscreen = False # 'envisage'\n",
    "    f_strain = mlab.figure()\n",
    "    scene = mlab.get_engine().scenes[-1]\n",
    "    scene.name = 'stress'\n",
    "    strain_viz = Viz3DTensorField(vis3d=m.hist['stress'])\n",
    "    strain_viz.setup()\n",
    "    strain_viz.warp_vector.filter.scale_factor = 0.1\n",
    "    strain_viz.plot(s.tstep.t_n)\n",
    "    mlab.show()"
   ]
  },
  {
   "cell_type": "code",
   "execution_count": null,
   "id": "9f6d81cf-c79b-441a-a4b9-c84ef0f0473f",
   "metadata": {},
   "outputs": [],
   "source": [
    "# eps_Emab = xmodel.map_U_to_field(U_t[-1])\n",
    "# m.fe_domain[0].state_k\n",
    "# m_inelastic.get_corr_pred(eps_Emab, 1, **m.fe_domain[2].state_k)"
   ]
  },
  {
   "cell_type": "markdown",
   "id": "48ab3300-33b6-4ade-8438-29902ca77ca9",
   "metadata": {
    "tags": []
   },
   "source": [
    "## Compression dc"
   ]
  },
  {
   "cell_type": "code",
   "execution_count": null,
   "id": "7c6cf7e7-467a-4b3f-839d-d056af407b08",
   "metadata": {},
   "outputs": [],
   "source": [
    "size_x = 2\n",
    "size_y = 20\n",
    "size_z = 1\n",
    "n_e_x = 1\n",
    "n_e_y = 2\n",
    "n_e_x = 1\n",
    "\n",
    "xmodel = XDomainFEGrid(coord_min=(0, 0, 0),\n",
    "                       coord_max=(size_x ,size_y, size_z),\n",
    "                       shape=(n_e_x, n_e_y, n_e_x),\n",
    "                     integ_factor=1,\n",
    "                     fets=FETS3D8H())\n",
    "E = 34000\n",
    "\n",
    "m_inelastic = MS13D(**CAxisymm)\n",
    "m_elastic = MATS3DElastic(E=34000, nu=0.2)\n",
    "m = TStepBC(\n",
    "    domains=[(xmodel, m_inelastic),\n",
    "             ]\n",
    ")"
   ]
  },
  {
   "cell_type": "code",
   "execution_count": null,
   "id": "707de95c-90c0-4d58-ba62-2f3233b2e491",
   "metadata": {},
   "outputs": [],
   "source": [
    "w_max = -0.01 * size_x \n",
    "\n",
    "# Tension bc\n",
    "bc_l_x = BCSlice(slice=xmodel.mesh[0, :, :, 0, :, :],\n",
    "                  var='u', dims=[0], value=0.0)\n",
    "bc_r_x = BCSlice(slice=xmodel.mesh[-1, :, :, -1, :, :],\n",
    "                 var='u', dims=[0], value=w_max)\n",
    "bc_xy_z0 = BCSlice(slice=xmodel.mesh[:, :, 0, :, :, 0],\n",
    "                  var='u', dims=[2], value=0)\n",
    "bc_xz_y0 = BCSlice(slice=xmodel.mesh[:, 0, :, :, 0, :],\n",
    "                 var='u', dims=[1], value=0)"
   ]
  },
  {
   "cell_type": "code",
   "execution_count": null,
   "id": "8f594b35-d94f-4306-b8c9-dca00d853c80",
   "metadata": {},
   "outputs": [],
   "source": [
    "xmodel.mesh[:, :, :, :, :, 0].dofs"
   ]
  },
  {
   "cell_type": "code",
   "execution_count": null,
   "id": "765d8399-4c49-4d27-9750-12b872f1a87a",
   "metadata": {},
   "outputs": [],
   "source": [
    "bc1 = [bc_l_x, bc_r_x, bc_xy_z0, bc_xz_y0]"
   ]
  },
  {
   "cell_type": "code",
   "execution_count": null,
   "id": "1a3283cd-8bdc-4d9f-be64-617b39c34eb7",
   "metadata": {},
   "outputs": [],
   "source": [
    "m.bc=bc1\n",
    "m.hist.vis_record = {\n",
    "#    'strain': Vis3DTensorField(var='eps_ab'),\n",
    "    'stress': Vis3DTensorField(var='sig_ab'),\n",
    "    #        'kinematic hardening': Vis3DStateField(var='z_a')\n",
    "}\n",
    "\n",
    "s = m.sim\n",
    "s.tloop.verbose = True\n",
    "s.tloop.k_max = 1000\n",
    "s.tline.step = 0.01\n",
    "# Accessing the following property - ensures serialization\n",
    "s.tstep.fe_domain.serialized_subdomains\n",
    "s.reset()\n",
    "s.run()"
   ]
  },
  {
   "cell_type": "code",
   "execution_count": null,
   "id": "f7f9679e-99c6-463d-8538-48d30dc651a2",
   "metadata": {},
   "outputs": [],
   "source": [
    "U_last = m.hist.U_t[-1]\n",
    "F_last = m.hist.U_t[-1]\n",
    "U_t = np.average(m.hist.U_t[:, bc_r_x.dofs], axis=-1)\n",
    "F_t = np.sum(m.hist.F_t[:, bc_r_x.dofs], axis=-1)\n",
    "fig, (ax1,ax2) = plt.subplots(1, 2)\n",
    "ax1.plot(-U_t, -F_t)\n",
    "ax2.plot(-U_t/size_x, -F_t/(size_y*size_z))\n",
    "G = np.trapz(F_t, x=U_t)\n",
    "print(G/((size_z)*(size_y))*1000)"
   ]
  },
  {
   "cell_type": "code",
   "execution_count": null,
   "id": "ef3c4c60-c73c-4189-9ed2-327ac5568fba",
   "metadata": {},
   "outputs": [],
   "source": [
    "if False:\n",
    "    mlab.options.backend = 'envisage'\n",
    "    mlab.options.offscreen = False # 'envisage'\n",
    "    f_strain = mlab.figure()\n",
    "    scene = mlab.get_engine().scenes[-1]\n",
    "    scene.name = 'stress'\n",
    "    strain_viz = Viz3DTensorField(vis3d=m.hist['stress'])\n",
    "    strain_viz.setup()\n",
    "    strain_viz.warp_vector.filter.scale_factor = 0.1\n",
    "    strain_viz.plot(s.tstep.t_n)\n",
    "    mlab.show()"
   ]
  },
  {
   "cell_type": "markdown",
   "id": "777c9726-cedd-4f71-9985-0bb1e68b5a20",
   "metadata": {},
   "source": [
    "## Shear dc + Compression fc"
   ]
  },
  {
   "cell_type": "code",
   "execution_count": null,
   "id": "4bde7680-6396-43af-8ec8-2a576977bdb9",
   "metadata": {},
   "outputs": [],
   "source": [
    "size_x = 2\n",
    "size_y = 20\n",
    "size_z = 1\n",
    "n_e_x = 1\n",
    "n_e_y = 2\n",
    "n_e_x = 1\n",
    "\n",
    "xmodel = XDomainFEGrid(coord_min=(0, 0, 0),\n",
    "                       coord_max=(size_x ,size_y, size_z),\n",
    "                       shape=(n_e_x, n_e_y, n_e_x),\n",
    "                     integ_factor=1,\n",
    "                     fets=FETS3D8H())\n",
    "E = 34000\n",
    "\n",
    "m_inelastic = MS13D(**CAxisymm)\n",
    "m_elastic = MATS3DElastic(E=34000, nu=0.2)\n",
    "m = TStepBC(\n",
    "    domains=[(xmodel, m_inelastic),\n",
    "             ]\n",
    ")"
   ]
  },
  {
   "cell_type": "code",
   "execution_count": null,
   "id": "583568c0-e39e-4e07-b8e3-b4197a032590",
   "metadata": {},
   "outputs": [],
   "source": [
    "tf_precrompression = TFBilinear(loading_ratio = 1.0, time_ratio=0.1)\n",
    "tf_sliding = TFBilinear(loading_ratio = 0.0, time_ratio=0.1)"
   ]
  },
  {
   "cell_type": "code",
   "execution_count": null,
   "id": "489fb3d5-6ee3-4aec-aad7-05f88a550c63",
   "metadata": {
    "tags": []
   },
   "outputs": [],
   "source": [
    "w_max = 0.05 \n",
    "\n",
    "# Shear bc\n",
    "bc_l_x = BCSlice(slice=xmodel.mesh[0, :, :, 0, :, :],\n",
    "                  var='u', dims=[0,1,2], value=0.0)\n",
    "\n",
    "slide_slice = BCSlice(slice=xmodel.mesh[-1, :, :, -1, :, :],\n",
    "                 var='u', dims=[1], value=w_max)\n",
    "slide_dofs = slide_slice.dofs\n",
    "slide = [BCDof(var='u', dof=dof, value=w_max , time_function=tf_sliding) \n",
    "                     for dof in slide_dofs ]\n",
    "\n",
    "\n",
    "compression_slice = BCSlice(slice=xmodel.mesh[-1, :, :, -1, :, :],\n",
    "                 var='u', dims=[0], value=-w_max/100)\n",
    "compression_dofs = compression_slice.dofs\n",
    "compression_force = -1 * (size_y*size_z) / len(compression_dofs)\n",
    "compression_force_first = [BCDof(var='f', dof=dof, value=compression_force, time_function=tf_precrompression) \n",
    "                                 for dof in compression_dofs ]\n"
   ]
  },
  {
   "cell_type": "code",
   "execution_count": null,
   "id": "f83009f7-7259-4392-bf56-05354f113eba",
   "metadata": {},
   "outputs": [],
   "source": [
    "bc1 = [bc_l_x]  + slide + compression_force_first"
   ]
  },
  {
   "cell_type": "code",
   "execution_count": null,
   "id": "8495dd42-24d1-4fe9-affa-806244ec178c",
   "metadata": {},
   "outputs": [],
   "source": [
    "m.bc=bc1\n",
    "m.hist.vis_record = {\n",
    "#    'strain': Vis3DTensorField(var='eps_ab'),\n",
    "    'stress': Vis3DTensorField(var='sig_ab'),\n",
    "    #        'kinematic hardening': Vis3DStateField(var='z_a')\n",
    "}\n",
    "\n",
    "s = m.sim\n",
    "s.tloop.verbose = True\n",
    "s.tloop.k_max = 1000\n",
    "s.tline.step = 0.05\n",
    "# Accessing the following property - ensures serialization\n",
    "s.tstep.fe_domain.serialized_subdomains\n",
    "s.reset()\n",
    "s.run()"
   ]
  },
  {
   "cell_type": "code",
   "execution_count": null,
   "id": "6e2438be-841f-4011-ac6d-126e02bba287",
   "metadata": {},
   "outputs": [],
   "source": [
    "U_last = m.hist.U_t[-1]\n",
    "F_last = m.hist.U_t[-1]\n",
    "U_t = np.average(m.hist.U_t[:, slide_dofs], axis=-1)\n",
    "F_t = np.sum(m.hist.F_t[:, slide_dofs], axis=-1)\n",
    "F_t_c = np.sum(m.hist.F_t[:, compression_dofs], axis=-1)\n",
    "fig, ax = plt.subplots(1, 1)\n",
    "ax.plot(U_t, F_t)\n",
    "ax.plot(U_t, F_t_c)"
   ]
  },
  {
   "cell_type": "code",
   "execution_count": null,
   "id": "35012a31-f6d5-4712-a1b6-37b288642356",
   "metadata": {},
   "outputs": [],
   "source": [
    "if True:\n",
    "    mlab.options.backend = 'envisage'\n",
    "    mlab.options.offscreen = False # 'envisage'\n",
    "    f_strain = mlab.figure()\n",
    "    scene = mlab.get_engine().scenes[-1]\n",
    "    scene.name = 'stress'\n",
    "    strain_viz = Viz3DTensorField(vis3d=m.hist['stress'])\n",
    "    strain_viz.setup()\n",
    "    strain_viz.warp_vector.filter.scale_factor = 0.1\n",
    "    strain_viz.plot(s.tstep.t_n)\n",
    "    mlab.show()"
   ]
  },
  {
   "cell_type": "markdown",
   "id": "ba100a01-94a4-46c2-b391-f49d51dde0d3",
   "metadata": {},
   "source": [
    "## MDM calibration"
   ]
  },
  {
   "cell_type": "code",
   "execution_count": 45,
   "id": "83314282-9ef2-4e9a-a6ae-d3094d82b13a",
   "metadata": {},
   "outputs": [],
   "source": [
    "from traits.api import \\\n",
    "    Constant, \\\n",
    "    Float, Property, cached_property\n",
    "\n",
    "class PhiFnStrainSoftening():\n",
    "\n",
    "    '''\n",
    "    Damage function.\n",
    "    '''\n",
    "\n",
    "\n",
    "    G_f = Float(0.035,\n",
    "                label='G_f',\n",
    "                desc='fracture energy',\n",
    "                auto_set=False, enter_set=True)\n",
    "    f_t = Float(16,\n",
    "                label='f_t',\n",
    "                desc='tensile strength',\n",
    "                auto_set=False, enter_set=True)\n",
    "    md = Float(0.0,\n",
    "               label='md',\n",
    "               desc='factor affecting the compresive strength (explain more precisely)',\n",
    "               auto_set=False, enter_set=True)\n",
    "    h = Float(20.0,\n",
    "              label='h',\n",
    "              desc='element size to norm the fracture energy',\n",
    "              auto_set=False, enter_set=True)\n",
    "    E = Float(40000.0,\n",
    "              label='h',\n",
    "              desc='element size to norm the fracture energy',\n",
    "              auto_set=False, enter_set=True)\n",
    "\n",
    "    Epp = Float(\n",
    "        desc='strain at the onset of damage', enter_set=True, auto_set=False)\n",
    "    Efp = Float(desc='strain at total damaged', enter_set=True, auto_set=False)\n",
    "\n",
    "    def fit_microplane_params(self):\n",
    "        '''\n",
    "        Calculate the parameters of the damage function\n",
    "        '''\n",
    "\n",
    "        E = self.E\n",
    "        G_f = self.G_f\n",
    "        f_t = self.f_t\n",
    "        md = self.md\n",
    "        h = self.h\n",
    "\n",
    "        gamma = (E * G_f) / (h * f_t ** 2)\n",
    "        if gamma < 2.0:\n",
    "            print ('WARNING: elements too big -> refine, h should be at maximum only half of the characteristic length')\n",
    "            print ('in FIT PARAMS: gamma set to 2.0')\n",
    "            gamma = 2.0\n",
    "\n",
    "        Epp = f_t / \\\n",
    "            ((E * (1 - md) ** 2) * (1.95 - 0.95 / (gamma - 1) ** (0.5)))\n",
    "        Efp = (G_f / ((1 - md) * h * E * Epp) +\n",
    "               (2.13 - 1.13 * md) * Epp) / (2.73 - md) - Epp\n",
    "        self.Epp = Epp\n",
    "        self.Efp = Efp"
   ]
  },
  {
   "cell_type": "code",
   "execution_count": 46,
   "id": "164128d1-89d3-4863-987f-065205b3f5fc",
   "metadata": {},
   "outputs": [],
   "source": [
    "# CAxisymmMDM = dict(\n",
    "#     epsilon_0 = 200.0e-6,\n",
    "#     epsilon_f = 2000.0e-6,\n",
    "#     c_T = 0.02,\n",
    "#     E = 42000,\n",
    "#     nu = 0.18\n",
    "# )\n",
    "\n",
    "CAxisymmMDM = dict(\n",
    "    epsilon_0 = 59.0e-6,\n",
    "    epsilon_f = 250.0e-6,\n",
    "    c_T = 0.02,\n",
    "    E = 42000,\n",
    "    nu = 0.18\n",
    ")\n"
   ]
  },
  {
   "cell_type": "code",
   "execution_count": 47,
   "id": "939d0ee9-3d58-4925-b2d8-6ae118c78762",
   "metadata": {},
   "outputs": [],
   "source": [
    "CAxisymm = dict(\n",
    "    E = 42e+3,\n",
    "    nu = 0.2,\n",
    "    Ad = 300.0,\n",
    "    eps_0 = 0.00001,\n",
    "    K_N = 17000.,\n",
    "    sigma_N_0 = 45.,\n",
    "    gamma_N = 9000.,\n",
    "    sigma_T_0 = 3.0,\n",
    "    K_T = 20000.0,\n",
    "    gamma_T = 50000,\n",
    "    S_T = 0.000075,\n",
    "    c_T = 2.,\n",
    "    r_T = 2.,\n",
    "    m_T = 0.1,\n",
    "    p_T = 1.\n",
    ")"
   ]
  },
  {
   "cell_type": "markdown",
   "id": "4d98b7be-a348-42c9-9108-5098c522063c",
   "metadata": {},
   "source": [
    "## Tension bulk circumferential direction"
   ]
  },
  {
   "cell_type": "code",
   "execution_count": 54,
   "id": "4cf92ce1-281d-456a-bdca-178411917089",
   "metadata": {},
   "outputs": [],
   "source": [
    "size_x = 1\n",
    "size_y = 10\n",
    "size_z = 12.5\n",
    "n_e_x = 1\n",
    "n_e_y = 1\n",
    "n_e_x = 1\n",
    "\n",
    "xmodel = XDomainFEGrid(coord_min=(0, 0, 0),\n",
    "                       coord_max=(size_x ,size_y, size_z),\n",
    "                       shape=(n_e_x, n_e_y, n_e_x),\n",
    "                     integ_factor=1,\n",
    "                     fets=FETS3D8H())\n",
    "E = 34000\n",
    "\n",
    "m_inelastic = MATS3DMplDamageEEQ(**CAxisymmMDM)\n",
    "# m_inelastic = MS13D(**CAxisymm)\n",
    "\n",
    "m_elastic = MATS3DElastic(E=34000, nu=0.2)\n",
    "m = TStepBC(\n",
    "    domains=[(xmodel, m_inelastic),\n",
    "             ]\n",
    ")"
   ]
  },
  {
   "cell_type": "code",
   "execution_count": 55,
   "id": "0040901c-31fd-4244-a4b8-b5a29b5dc842",
   "metadata": {},
   "outputs": [],
   "source": [
    "w_max = 0.01 * size_x\n",
    "\n",
    "# Tension bc\n",
    "bc_l_x = BCSlice(slice=xmodel.mesh[0, :, :, 0, :, :],\n",
    "                  var='u', dims=[0], value=0.0)\n",
    "bc_r_x = BCSlice(slice=xmodel.mesh[-1, :, :, -1, :, :],\n",
    "                 var='u', dims=[0], value=w_max)\n",
    "bc_xy_z0 = BCSlice(slice=xmodel.mesh[:, :, 0, :, :, 0],\n",
    "                  var='u', dims=[2], value=0)\n",
    "bc_xz_y0 = BCSlice(slice=xmodel.mesh[:, 0, :, :, 0, :],\n",
    "                 var='u', dims=[1], value=0)"
   ]
  },
  {
   "cell_type": "code",
   "execution_count": 56,
   "id": "8ff87d55-b253-443f-81ac-1c4505b5dea1",
   "metadata": {},
   "outputs": [],
   "source": [
    "bc1 = [bc_l_x, bc_r_x, bc_xy_z0, bc_xz_y0]"
   ]
  },
  {
   "cell_type": "code",
   "execution_count": 57,
   "id": "eb5b4816-d776-44e5-82c4-44617e710c2c",
   "metadata": {},
   "outputs": [],
   "source": [
    "m.bc=bc1\n",
    "m.hist.vis_record = {\n",
    "#    'strain': Vis3DTensorField(var='eps_ab'),\n",
    "    'stress': Vis3DTensorField(var='sig_ab'),\n",
    "    #        'kinematic hardening': Vis3DStateField(var='z_a')\n",
    "}\n",
    "\n",
    "s = m.sim\n",
    "s.tloop.verbose = False\n",
    "s.tloop.k_max = 1000\n",
    "s.tline.step = 0.01\n",
    "# Accessing the following property - ensures serialization\n",
    "s.tstep.fe_domain.serialized_subdomains\n",
    "s.reset()\n",
    "s.run()"
   ]
  },
  {
   "cell_type": "code",
   "execution_count": 58,
   "id": "66d63d84-3f36-48b7-a3fe-5030a8cc83f2",
   "metadata": {},
   "outputs": [
    {
     "name": "stdout",
     "output_type": "stream",
     "text": [
      "3.4015402650738937\n",
      "0.003401540265073893\n"
     ]
    },
    {
     "data": {
      "application/vnd.jupyter.widget-view+json": {
       "model_id": "d29e6020ba8344aab03efe3efe0d5c02",
       "version_major": 2,
       "version_minor": 0
      },
      "text/html": [
       "\n",
       "            <div style=\"display: inline-block;\">\n",
       "                <div class=\"jupyter-widgets widget-label\" style=\"text-align: center;\">\n",
       "                    Figure\n",
       "                </div>\n",
       "                <img src='data:image/png;base64,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' width=640.0/>\n",
       "            </div>\n",
       "        "
      ],
      "text/plain": [
       "Canvas(toolbar=Toolbar(toolitems=[('Home', 'Reset original view', 'home', 'home'), ('Back', 'Back to previous …"
      ]
     },
     "metadata": {},
     "output_type": "display_data"
    }
   ],
   "source": [
    "U_last = m.hist.U_t[-1]\n",
    "F_last = m.hist.U_t[-1]\n",
    "U_t = np.average(m.hist.U_t[:, bc_r_x.dofs], axis=-1)\n",
    "F_t = np.sum(m.hist.F_t[:, bc_r_x.dofs], axis=-1)\n",
    "fig, (ax1, ax2) = plt.subplots(1, 2)\n",
    "ax1.plot(U_t, F_t)\n",
    "# ax1.plot(U_t_2, F_t_2)\n",
    "ax2.plot(U_t/size_x, F_t/(size_y*size_z))\n",
    "# ax2.plot(U_t_2/size_x, F_t_2/(size_y*size_z))\n",
    "G = np.trapz(F_t, x=U_t)\n",
    "G2 = np.trapz(F_t/(size_y*size_z), x=U_t/size_x)\n",
    "print(G/((size_z)*(size_y))*1000)\n",
    "print(G2)"
   ]
  },
  {
   "cell_type": "code",
   "execution_count": null,
   "id": "63037ddd-40a7-46d8-ac29-20868530f80f",
   "metadata": {},
   "outputs": [],
   "source": [
    "# m.hist.F_t[:, bc_r_x.dofs]\n",
    "# bc_r_x.dofs"
   ]
  },
  {
   "cell_type": "code",
   "execution_count": null,
   "id": "66b40d5a-b4e2-4635-ae67-4bc6fc38aa3b",
   "metadata": {},
   "outputs": [],
   "source": [
    "# eps_Emab = xmodel.map_U_to_field(U_last)\n",
    "# eps_Emab"
   ]
  },
  {
   "cell_type": "code",
   "execution_count": null,
   "id": "e63d19c9-59cf-498c-82af-88f2b708d540",
   "metadata": {},
   "outputs": [],
   "source": [
    "if False:\n",
    "    mlab.options.backend = 'envisage'\n",
    "    mlab.options.offscreen = False # 'envisage'\n",
    "    f_strain = mlab.figure()\n",
    "    scene = mlab.get_engine().scenes[-1]\n",
    "    scene.name = 'stress'\n",
    "    strain_viz = Viz3DTensorField(vis3d=m.hist['stress'])\n",
    "    strain_viz.setup()\n",
    "    strain_viz.warp_vector.filter.scale_factor = 0.1\n",
    "    strain_viz.plot(s.tstep.t_n)\n",
    "    mlab.show()"
   ]
  },
  {
   "cell_type": "code",
   "execution_count": null,
   "id": "718c775f-bcae-428d-b3f2-ea1aa88e1f84",
   "metadata": {
    "tags": []
   },
   "outputs": [],
   "source": [
    "# eps_Emab = xmodel.map_U_to_field(U_t[-1])\n",
    "m.fe_domain[0].state_k\n",
    "# m_inelastic.get_corr_pred(eps_Emab, 1, **m.fe_domain[2].state_k)"
   ]
  },
  {
   "cell_type": "markdown",
   "id": "430e8756-9e6b-4455-9f64-6aa5129af9a3",
   "metadata": {},
   "source": [
    "## Tension bulk radial direction"
   ]
  },
  {
   "cell_type": "code",
   "execution_count": 59,
   "id": "09085b08-f145-4270-8958-01a98e05a21b",
   "metadata": {},
   "outputs": [],
   "source": [
    "size_x = 12.5\n",
    "size_y = 1\n",
    "size_z = 10\n",
    "n_e_x = 1\n",
    "n_e_y = 1\n",
    "n_e_x = 1\n",
    "\n",
    "xmodel = XDomainFEGrid(coord_min=(0, 0, 0),\n",
    "                       coord_max=(size_x ,size_y, size_z),\n",
    "                       shape=(n_e_x, n_e_y, n_e_x),\n",
    "                     integ_factor=1,\n",
    "                     fets=FETS3D8H())\n",
    "E = 34000\n",
    "\n",
    "m_inelastic = MATS3DMplDamageEEQ(**CAxisymmMDM)\n",
    "# m_inelastic = MS13D(**CAxisymm)\n",
    "\n",
    "m_elastic = MATS3DElastic(E=34000, nu=0.2)\n",
    "m = TStepBC(\n",
    "    domains=[(xmodel, m_inelastic),\n",
    "             ]\n",
    ")"
   ]
  },
  {
   "cell_type": "code",
   "execution_count": 60,
   "id": "15b091e2-ad4a-4bd3-aa6e-d46af661f003",
   "metadata": {},
   "outputs": [],
   "source": [
    "w_max = 0.01 * size_x\n",
    "\n",
    "# Tension bc\n",
    "bc_l_x = BCSlice(slice=xmodel.mesh[0, :, :, 0, :, :],\n",
    "                  var='u', dims=[0], value=0.0)\n",
    "bc_r_x = BCSlice(slice=xmodel.mesh[-1, :, :, -1, :, :],\n",
    "                 var='u', dims=[0], value=w_max)\n",
    "bc_xy_z0 = BCSlice(slice=xmodel.mesh[:, :, 0, :, :, 0],\n",
    "                  var='u', dims=[2], value=0)\n",
    "bc_xz_y0 = BCSlice(slice=xmodel.mesh[:, 0, :, :, 0, :],\n",
    "                 var='u', dims=[1], value=0)"
   ]
  },
  {
   "cell_type": "code",
   "execution_count": 61,
   "id": "c58c1955-7d82-4198-b53c-fd3a2eb2bfb0",
   "metadata": {},
   "outputs": [],
   "source": [
    "bc1 = [bc_l_x, bc_r_x, bc_xy_z0, bc_xz_y0]"
   ]
  },
  {
   "cell_type": "code",
   "execution_count": 62,
   "id": "c3eddafb-b830-48fc-adcf-215c0b0f0531",
   "metadata": {},
   "outputs": [],
   "source": [
    "m.bc=bc1\n",
    "m.hist.vis_record = {\n",
    "#    'strain': Vis3DTensorField(var='eps_ab'),\n",
    "    'stress': Vis3DTensorField(var='sig_ab'),\n",
    "    #        'kinematic hardening': Vis3DStateField(var='z_a')\n",
    "}\n",
    "\n",
    "s = m.sim\n",
    "s.tloop.verbose = False\n",
    "s.tloop.k_max = 1000\n",
    "s.tline.step = 0.01\n",
    "# Accessing the following property - ensures serialization\n",
    "s.tstep.fe_domain.serialized_subdomains\n",
    "s.reset()\n",
    "s.run()"
   ]
  },
  {
   "cell_type": "code",
   "execution_count": 63,
   "id": "bb701612-7075-4a0f-8d39-0be16415a90e",
   "metadata": {},
   "outputs": [
    {
     "name": "stdout",
     "output_type": "stream",
     "text": [
      "47.69876933342897\n",
      "0.0038159015466743174\n"
     ]
    },
    {
     "data": {
      "application/vnd.jupyter.widget-view+json": {
       "model_id": "5c697939b7fd421ba1c14ce9a38152a7",
       "version_major": 2,
       "version_minor": 0
      },
      "text/html": [
       "\n",
       "            <div style=\"display: inline-block;\">\n",
       "                <div class=\"jupyter-widgets widget-label\" style=\"text-align: center;\">\n",
       "                    Figure\n",
       "                </div>\n",
       "                <img src='data:image/png;base64,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' width=640.0/>\n",
       "            </div>\n",
       "        "
      ],
      "text/plain": [
       "Canvas(toolbar=Toolbar(toolitems=[('Home', 'Reset original view', 'home', 'home'), ('Back', 'Back to previous …"
      ]
     },
     "metadata": {},
     "output_type": "display_data"
    }
   ],
   "source": [
    "U_last = m.hist.U_t[-1]\n",
    "F_last = m.hist.U_t[-1]\n",
    "U_t = np.average(m.hist.U_t[:, bc_r_x.dofs], axis=-1)\n",
    "F_t = np.sum(m.hist.F_t[:, bc_r_x.dofs], axis=-1)\n",
    "fig, (ax1, ax2) = plt.subplots(1, 2)\n",
    "ax1.plot(U_t, F_t)\n",
    "# ax1.plot(U_t_2, F_t_2)\n",
    "ax2.plot(U_t/size_x, F_t/(size_y*size_z))\n",
    "# ax2.plot(U_t_2/size_x, F_t_2/(size_y*size_z))\n",
    "G = np.trapz(F_t, x=U_t)\n",
    "G2 = np.trapz(F_t/(size_y*size_z), x=U_t/size_x)\n",
    "print(G/((size_z)*(size_y))*1000)\n",
    "print(G2)"
   ]
  },
  {
   "cell_type": "code",
   "execution_count": null,
   "id": "8831978d-5686-4ebb-a995-37211e06dc1e",
   "metadata": {},
   "outputs": [],
   "source": [
    "# m.hist.F_t[:, bc_r_x.dofs]\n",
    "# bc_r_x.dofs"
   ]
  },
  {
   "cell_type": "code",
   "execution_count": null,
   "id": "c41a0cd8-77aa-4fa6-b89f-1a43069301b1",
   "metadata": {},
   "outputs": [],
   "source": [
    "# eps_Emab = xmodel.map_U_to_field(U_last)\n",
    "# eps_Emab"
   ]
  },
  {
   "cell_type": "code",
   "execution_count": null,
   "id": "5efc8eec-f884-48c7-990c-37496d3f2fe8",
   "metadata": {},
   "outputs": [],
   "source": [
    "if False:\n",
    "    mlab.options.backend = 'envisage'\n",
    "    mlab.options.offscreen = False # 'envisage'\n",
    "    f_strain = mlab.figure()\n",
    "    scene = mlab.get_engine().scenes[-1]\n",
    "    scene.name = 'stress'\n",
    "    strain_viz = Viz3DTensorField(vis3d=m.hist['stress'])\n",
    "    strain_viz.setup()\n",
    "    strain_viz.warp_vector.filter.scale_factor = 0.1\n",
    "    strain_viz.plot(s.tstep.t_n)\n",
    "    mlab.show()"
   ]
  },
  {
   "cell_type": "code",
   "execution_count": null,
   "id": "0b28c8f7-3377-42a4-a876-ea7e69f8ff8c",
   "metadata": {
    "tags": []
   },
   "outputs": [],
   "source": [
    "# eps_Emab = xmodel.map_U_to_field(U_t[-1])\n",
    "m.fe_domain[0].state_k\n",
    "# m_inelastic.get_corr_pred(eps_Emab, 1, **m.fe_domain[2].state_k)"
   ]
  },
  {
   "cell_type": "markdown",
   "id": "ea6fc885-0dc8-4425-a23f-cd5a50cff94e",
   "metadata": {
    "tags": []
   },
   "source": [
    "## Compression dc"
   ]
  },
  {
   "cell_type": "code",
   "execution_count": null,
   "id": "3f3cac3b-ec1b-462d-b668-53cb872a0f46",
   "metadata": {},
   "outputs": [],
   "source": [
    "size_x = 1\n",
    "size_y = 20\n",
    "size_z = 12.5\n",
    "n_e_x = 1\n",
    "n_e_y = 1\n",
    "n_e_x = 1\n",
    "\n",
    "xmodel = XDomainFEGrid(coord_min=(0, 0, 0),\n",
    "                       coord_max=(size_x ,size_y, size_z),\n",
    "                       shape=(n_e_x, n_e_y, n_e_x),\n",
    "                     integ_factor=1,\n",
    "                     fets=FETS3D8H())\n",
    "E = 34000\n",
    "\n",
    "m_inelastic = MATS3DMplDamageEEQ(**CAxisymmMDM)\n",
    "m_elastic = MATS3DElastic(E=34000, nu=0.2)\n",
    "m = TStepBC(\n",
    "    domains=[(xmodel, m_inelastic),\n",
    "             ]\n",
    ")"
   ]
  },
  {
   "cell_type": "code",
   "execution_count": null,
   "id": "bb0502cd-ff51-432f-98aa-02d909d0299a",
   "metadata": {},
   "outputs": [],
   "source": [
    "w_max = -0.01 * size_x \n",
    "\n",
    "# Tension bc\n",
    "bc_l_x = BCSlice(slice=xmodel.mesh[0, :, :, 0, :, :],\n",
    "                  var='u', dims=[0], value=0.0)\n",
    "bc_r_x = BCSlice(slice=xmodel.mesh[-1, :, :, -1, :, :],\n",
    "                 var='u', dims=[0], value=w_max)\n",
    "bc_xy_z0 = BCSlice(slice=xmodel.mesh[:, :, 0, :, :, 0],\n",
    "                  var='u', dims=[2], value=0)\n",
    "bc_xz_y0 = BCSlice(slice=xmodel.mesh[:, 0, :, :, 0, :],\n",
    "                 var='u', dims=[1], value=0)"
   ]
  },
  {
   "cell_type": "code",
   "execution_count": null,
   "id": "7c293d33-a44f-4071-b978-9dd0b16614b9",
   "metadata": {},
   "outputs": [],
   "source": [
    "xmodel.mesh[:, :, :, :, :, 0].dofs"
   ]
  },
  {
   "cell_type": "code",
   "execution_count": null,
   "id": "1787c231-162f-4af1-ada0-222cfe372f2c",
   "metadata": {},
   "outputs": [],
   "source": [
    "bc1 = [bc_l_x, bc_r_x, bc_xy_z0, bc_xz_y0]"
   ]
  },
  {
   "cell_type": "code",
   "execution_count": null,
   "id": "2aaea1de-7b38-439b-add5-3f748f7bfdb5",
   "metadata": {},
   "outputs": [],
   "source": [
    "m.bc=bc1\n",
    "m.hist.vis_record = {\n",
    "#    'strain': Vis3DTensorField(var='eps_ab'),\n",
    "    'stress': Vis3DTensorField(var='sig_ab'),\n",
    "    #        'kinematic hardening': Vis3DStateField(var='z_a')\n",
    "}\n",
    "\n",
    "s = m.sim\n",
    "s.tloop.verbose = False\n",
    "s.tloop.k_max = 1000\n",
    "s.tline.step = 0.01\n",
    "# Accessing the following property - ensures serialization\n",
    "s.tstep.fe_domain.serialized_subdomains\n",
    "s.reset()\n",
    "s.run()"
   ]
  },
  {
   "cell_type": "code",
   "execution_count": null,
   "id": "13dd3980-b8ee-4367-9578-347516f55c27",
   "metadata": {},
   "outputs": [],
   "source": [
    "U_last = m.hist.U_t[-1]\n",
    "F_last = m.hist.U_t[-1]\n",
    "U_t = np.average(m.hist.U_t[:, bc_r_x.dofs], axis=-1)\n",
    "F_t = np.sum(m.hist.F_t[:, bc_r_x.dofs], axis=-1)\n",
    "fig, (ax1,ax2) = plt.subplots(1, 2)\n",
    "ax1.plot(-U_t, -F_t)\n",
    "ax2.plot(-U_t/size_x, -F_t/(size_y*size_z))\n",
    "G = np.trapz(F_t, x=U_t)\n",
    "print(G/((size_z)*(size_y))*1000)"
   ]
  },
  {
   "cell_type": "code",
   "execution_count": null,
   "id": "e1b0aabf-b9ef-482b-8047-249ba84be12f",
   "metadata": {},
   "outputs": [],
   "source": [
    "if False:\n",
    "    mlab.options.backend = 'envisage'\n",
    "    mlab.options.offscreen = False # 'envisage'\n",
    "    f_strain = mlab.figure()\n",
    "    scene = mlab.get_engine().scenes[-1]\n",
    "    scene.name = 'stress'\n",
    "    strain_viz = Viz3DTensorField(vis3d=m.hist['stress'])\n",
    "    strain_viz.setup()\n",
    "    strain_viz.warp_vector.filter.scale_factor = 0.1\n",
    "    strain_viz.plot(s.tstep.t_n)\n",
    "    mlab.show()"
   ]
  },
  {
   "cell_type": "markdown",
   "id": "72adeefe-eac8-492d-9bda-199f0e13fb41",
   "metadata": {
    "tags": []
   },
   "source": [
    "## Shear dc"
   ]
  },
  {
   "cell_type": "code",
   "execution_count": null,
   "id": "b883d495-4bae-428d-b72a-3220fe6068e0",
   "metadata": {},
   "outputs": [],
   "source": [
    "size_x = 1\n",
    "size_y = 20\n",
    "size_z = 12.5\n",
    "n_e_x = 1\n",
    "n_e_y = 1\n",
    "n_e_x = 1\n",
    "\n",
    "xmodel = XDomainFEGrid(coord_min=(0, 0, 0),\n",
    "                       coord_max=(size_x ,size_y, size_z),\n",
    "                       shape=(n_e_x, n_e_y, n_e_x),\n",
    "                     integ_factor=1,\n",
    "                     fets=FETS3D8H())\n",
    "E = 34000\n",
    "\n",
    "m_inelastic = MATS3DMplDamageEEQ(**CAxisymmMDM)\n",
    "m_elastic = MATS3DElastic(E=34000, nu=0.2)\n",
    "m = TStepBC(\n",
    "    domains=[(xmodel, m_inelastic),\n",
    "             ]\n",
    ")"
   ]
  },
  {
   "cell_type": "code",
   "execution_count": null,
   "id": "ec223c18-f521-411e-854d-ba951db44526",
   "metadata": {},
   "outputs": [],
   "source": [
    "w_max = 0.0025 * size_y\n",
    "\n",
    "# Shear bc\n",
    "bc_l_x = BCSlice(slice=xmodel.mesh[0, :, :, 0, :, :],\n",
    "                  var='u', dims=[0,1,2], value=0.0)\n",
    "bc_r_x = BCSlice(slice=xmodel.mesh[-1, :, :, -1, :, :],\n",
    "                 var='u', dims=[1], value=w_max)\n",
    "bc_r_x_2 = BCSlice(slice=xmodel.mesh[-1, :, :, -1, :, :],\n",
    "                 var='u', dims=[0], value=0.0)"
   ]
  },
  {
   "cell_type": "code",
   "execution_count": null,
   "id": "d2edc1ef-81b3-43f7-80a4-7af367ef609d",
   "metadata": {},
   "outputs": [],
   "source": [
    "xmodel.mesh[:, :, :, :, :, 0].dofs"
   ]
  },
  {
   "cell_type": "code",
   "execution_count": null,
   "id": "e6163ddb-7a33-43d6-83b7-633a1220657e",
   "metadata": {},
   "outputs": [],
   "source": [
    "bc1 = [bc_l_x, bc_r_x,bc_r_x_2]"
   ]
  },
  {
   "cell_type": "code",
   "execution_count": null,
   "id": "28f865b9-1416-40fd-9a0a-2a1877cf8d4d",
   "metadata": {},
   "outputs": [],
   "source": [
    "m.bc=bc1\n",
    "m.hist.vis_record = {\n",
    "#    'strain': Vis3DTensorField(var='eps_ab'),\n",
    "    'stress': Vis3DTensorField(var='sig_ab'),\n",
    "    #        'kinematic hardening': Vis3DStateField(var='z_a')\n",
    "}\n",
    "\n",
    "s = m.sim\n",
    "s.tloop.verbose = False\n",
    "s.tloop.k_max = 1000\n",
    "s.tline.step = 0.01\n",
    "# Accessing the following property - ensures serialization\n",
    "s.tstep.fe_domain.serialized_subdomains\n",
    "s.reset()\n",
    "s.run()"
   ]
  },
  {
   "cell_type": "code",
   "execution_count": null,
   "id": "431def5b-8f8d-4b52-8a04-815505d9f541",
   "metadata": {},
   "outputs": [],
   "source": [
    "U_last = m.hist.U_t[-1]\n",
    "F_last = m.hist.U_t[-1]\n",
    "U_t = np.average(m.hist.U_t[:, bc_r_x.dofs], axis=-1)\n",
    "F_t = np.sum(m.hist.F_t[:, bc_r_x.dofs], axis=-1)\n",
    "fig, (ax1,ax2) = plt.subplots(1, 2)\n",
    "ax1.plot(U_t, F_t)\n",
    "ax2.plot(U_t/size_x, F_t/(size_y*size_z))\n",
    "G = np.trapz(F_t, x=U_t)\n",
    "print(G/((size_z)*(size_y))*1000)"
   ]
  },
  {
   "cell_type": "code",
   "execution_count": null,
   "id": "429e6f42-8b48-4481-81a8-4e637996c3ad",
   "metadata": {},
   "outputs": [],
   "source": [
    "if False:\n",
    "    mlab.options.backend = 'envisage'\n",
    "    mlab.options.offscreen = False # 'envisage'\n",
    "    f_strain = mlab.figure()\n",
    "    scene = mlab.get_engine().scenes[-1]\n",
    "    scene.name = 'stress'\n",
    "    strain_viz = Viz3DTensorField(vis3d=m.hist['stress'])\n",
    "    strain_viz.setup()\n",
    "    strain_viz.warp_vector.filter.scale_factor = 0.1\n",
    "    strain_viz.plot(s.tstep.t_n)\n",
    "    mlab.show()"
   ]
  },
  {
   "cell_type": "markdown",
   "id": "2b106142-8c49-4d2c-b937-1b6e78787f98",
   "metadata": {},
   "source": [
    "## Shear dc + Compression fc"
   ]
  },
  {
   "cell_type": "code",
   "execution_count": null,
   "id": "505cac26-6409-44f0-acaf-d7ee527c2ff0",
   "metadata": {},
   "outputs": [],
   "source": [
    "size_x = 2\n",
    "size_y = 20\n",
    "size_z = 1\n",
    "n_e_x = 1\n",
    "n_e_y = 2\n",
    "n_e_x = 1\n",
    "\n",
    "xmodel = XDomainFEGrid(coord_min=(0, 0, 0),\n",
    "                       coord_max=(size_x ,size_y, size_z),\n",
    "                       shape=(n_e_x, n_e_y, n_e_x),\n",
    "                     integ_factor=1,\n",
    "                     fets=FETS3D8H())\n",
    "E = 34000\n",
    "\n",
    "m_inelastic = MS13D(**CAxisymm)\n",
    "m_elastic = MATS3DElastic(E=34000, nu=0.2)\n",
    "m = TStepBC(\n",
    "    domains=[(xmodel, m_inelastic),\n",
    "             ]\n",
    ")"
   ]
  },
  {
   "cell_type": "code",
   "execution_count": null,
   "id": "abb6fc6a-75eb-4347-8888-8267612d4543",
   "metadata": {},
   "outputs": [],
   "source": [
    "tf_precrompression = TFBilinear(loading_ratio = 1.0, time_ratio=0.1)\n",
    "tf_sliding = TFBilinear(loading_ratio = 0.0, time_ratio=0.1)"
   ]
  },
  {
   "cell_type": "code",
   "execution_count": null,
   "id": "83131725-cc9a-4c2f-81ea-034586a8bd42",
   "metadata": {
    "tags": []
   },
   "outputs": [],
   "source": [
    "w_max = 0.05 \n",
    "\n",
    "# Shear bc\n",
    "bc_l_x = BCSlice(slice=xmodel.mesh[0, :, :, 0, :, :],\n",
    "                  var='u', dims=[0,1,2], value=0.0)\n",
    "\n",
    "slide_slice = BCSlice(slice=xmodel.mesh[-1, :, :, -1, :, :],\n",
    "                 var='u', dims=[1], value=w_max)\n",
    "slide_dofs = slide_slice.dofs\n",
    "slide = [BCDof(var='u', dof=dof, value=w_max , time_function=tf_sliding) \n",
    "                     for dof in slide_dofs ]\n",
    "\n",
    "\n",
    "compression_slice = BCSlice(slice=xmodel.mesh[-1, :, :, -1, :, :],\n",
    "                 var='u', dims=[0], value=-w_max/100)\n",
    "compression_dofs = compression_slice.dofs\n",
    "compression_force = -1 * (size_y*size_z) / len(compression_dofs)\n",
    "compression_force_first = [BCDof(var='f', dof=dof, value=compression_force, time_function=tf_precrompression) \n",
    "                                 for dof in compression_dofs ]\n"
   ]
  },
  {
   "cell_type": "code",
   "execution_count": null,
   "id": "7b618570-c980-4823-85b2-c2845e83fac5",
   "metadata": {},
   "outputs": [],
   "source": [
    "bc1 = [bc_l_x]  + slide + compression_force_first"
   ]
  },
  {
   "cell_type": "code",
   "execution_count": null,
   "id": "c01f3cd0-aeff-4c2a-817c-8aa442d21934",
   "metadata": {},
   "outputs": [],
   "source": [
    "m.bc=bc1\n",
    "m.hist.vis_record = {\n",
    "#    'strain': Vis3DTensorField(var='eps_ab'),\n",
    "    'stress': Vis3DTensorField(var='sig_ab'),\n",
    "    #        'kinematic hardening': Vis3DStateField(var='z_a')\n",
    "}\n",
    "\n",
    "s = m.sim\n",
    "s.tloop.verbose = True\n",
    "s.tloop.k_max = 1000\n",
    "s.tline.step = 0.05\n",
    "# Accessing the following property - ensures serialization\n",
    "s.tstep.fe_domain.serialized_subdomains\n",
    "s.reset()\n",
    "s.run()"
   ]
  },
  {
   "cell_type": "code",
   "execution_count": null,
   "id": "62553563-943c-4cff-852b-afd0733a1cca",
   "metadata": {},
   "outputs": [],
   "source": [
    "U_last = m.hist.U_t[-1]\n",
    "F_last = m.hist.U_t[-1]\n",
    "U_t = np.average(m.hist.U_t[:, slide_dofs], axis=-1)\n",
    "F_t = np.sum(m.hist.F_t[:, slide_dofs], axis=-1)\n",
    "F_t_c = np.sum(m.hist.F_t[:, compression_dofs], axis=-1)\n",
    "fig, ax = plt.subplots(1, 1)\n",
    "ax.plot(U_t, F_t)\n",
    "ax.plot(U_t, F_t_c)"
   ]
  },
  {
   "cell_type": "code",
   "execution_count": null,
   "id": "dde8d6cc-a1d6-4a53-8896-f774fe33964b",
   "metadata": {},
   "outputs": [],
   "source": [
    "if True:\n",
    "    mlab.options.backend = 'envisage'\n",
    "    mlab.options.offscreen = False # 'envisage'\n",
    "    f_strain = mlab.figure()\n",
    "    scene = mlab.get_engine().scenes[-1]\n",
    "    scene.name = 'stress'\n",
    "    strain_viz = Viz3DTensorField(vis3d=m.hist['stress'])\n",
    "    strain_viz.setup()\n",
    "    strain_viz.warp_vector.filter.scale_factor = 0.1\n",
    "    strain_viz.plot(s.tstep.t_n)\n",
    "    mlab.show()"
   ]
  },
  {
   "cell_type": "code",
   "execution_count": null,
   "id": "1e3ba787-a996-4195-a70a-7ba129d975f4",
   "metadata": {},
   "outputs": [],
   "source": []
  }
 ],
 "metadata": {
  "kernelspec": {
   "display_name": "bmcs_env",
   "language": "python",
   "name": "bmcs_env"
  },
  "language_info": {
   "codemirror_mode": {
    "name": "ipython",
    "version": 3
   },
   "file_extension": ".py",
   "mimetype": "text/x-python",
   "name": "python",
   "nbconvert_exporter": "python",
   "pygments_lexer": "ipython3",
   "version": "3.9.7"
  }
 },
 "nbformat": 4,
 "nbformat_minor": 5
}
