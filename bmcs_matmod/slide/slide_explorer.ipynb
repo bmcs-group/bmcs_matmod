{
 "cells": [
  {
   "cell_type": "code",
   "execution_count": 1,
   "metadata": {},
   "outputs": [],
   "source": [
    "%matplotlib widget"
   ]
  },
  {
   "cell_type": "code",
   "execution_count": 9,
   "metadata": {},
   "outputs": [],
   "source": [
    "from bmcs_matmod.slide.slide_explorer import SlideExplorer\n",
    "import bmcs_utils.api as bu"
   ]
  },
  {
   "cell_type": "markdown",
   "metadata": {},
   "source": [
    "Parameters for elementary convergence studies - no physical relevance"
   ]
  },
  {
   "cell_type": "code",
   "execution_count": 8,
   "metadata": {},
   "outputs": [],
   "source": [
    "material_params = dict(\n",
    "    E_s=1, gamma_s=5, K_s=3, S_s=0.6, c_s=1, bartau=1, \n",
    "    E_w=1, S_w=0.6, c_w = 1, m = 0.01, f_t=1, f_c=-12, f_c0=-8, eta=0.5\n",
    ")\n",
    "\n",
    "material_params = dict(\n",
    "    E_s=1, gamma_s=5, K_s=5, S_s=0.6, c_s=1, bartau=1, \n",
    "    E_w=1, S_w=0.6, c_w = 1, m = 0.01, f_t=1, f_c=-20, f_c0=-10, eta=0\n",
    ")"
   ]
  },
  {
   "cell_type": "markdown",
   "metadata": {},
   "source": [
    "Parameters rendering a stress-strain response comparable with a `MARS` model - example concrete"
   ]
  },
  {
   "cell_type": "code",
   "execution_count": 11,
   "metadata": {},
   "outputs": [],
   "source": [
    "E_w = 28000\n",
    "alpha = 0.9\n",
    "E_s = alpha * E_w\n",
    "material_params = dict(\n",
    "    E_s=E_s, gamma_s=0, K_s=0, S_s=0.01, c_s=1, bartau=4, \n",
    "    E_w=E_w, S_w=0.0001, c_w = 1, m = 0.01, f_t=4, f_c=-100, f_c0=-20, eta=0\n",
    ")"
   ]
  },
  {
   "cell_type": "markdown",
   "metadata": {},
   "source": [
    "Critical step size - step smaller than the elastic range in tension."
   ]
  },
  {
   "cell_type": "code",
   "execution_count": 13,
   "metadata": {},
   "outputs": [
    {
     "data": {
      "text/plain": [
       "1400"
      ]
     },
     "execution_count": 13,
     "metadata": {},
     "output_type": "execute_result"
    }
   ],
   "source": [
    "def get_step_cr(**kw):\n",
    "    f_t = kw['f_t']\n",
    "    E_w = kw['E_w']\n",
    "    return f_t/E_w\n",
    "d_w = get_step_cr(**material_params)\n",
    "w_max = 0.2\n",
    "n_steps = int(w_max / d_w)\n",
    "n_steps"
   ]
  },
  {
   "cell_type": "code",
   "execution_count": 5,
   "metadata": {},
   "outputs": [],
   "source": [
    "se = SlideExplorer(n_steps=1000, k_max=50)\n",
    "se.slide_model.trait_set(**material_params)\n",
    "se.trait_set(s_x_1 = 0, s_y_1 = 0, w_1 = 0.2);"
   ]
  },
  {
   "cell_type": "code",
   "execution_count": 6,
   "metadata": {
    "scrolled": false
   },
   "outputs": [
    {
     "data": {
      "application/vnd.jupyter.widget-view+json": {
       "model_id": "1a9f71e8f3d54cceba3da56bf3509fb1",
       "version_major": 2,
       "version_minor": 0
      },
      "text/plain": [
       "VBox(children=(Output(), Tab(children=(VBox(children=(HBox(children=(Button(description='run', layout=Layout(h…"
      ]
     },
     "metadata": {},
     "output_type": "display_data"
    }
   ],
   "source": [
    "bu.InteractiveWindow([se, se.energy_dissipation, se.slide_model], figsize=(9,5), tight_layout=False).interact()"
   ]
  },
  {
   "cell_type": "code",
   "execution_count": 6,
   "metadata": {},
   "outputs": [],
   "source": [
    "material_params = dict(\n",
    "    E_s=1, gamma_s=5, K_s=5, S_s=0.6, c_s=1, bartau=1,\n",
    "    E_w=1, S_w=0.6, c_w=1, m=0.01, f_t=1, f_c=-20, f_c0=-10, eta=0.5\n",
    ")\n",
    "\n",
    "material_params = dict(\n",
    "    E_s=1, gamma_s=5, K_s=5, S_s=0.6, c_s=1, bartau=1,\n",
    "    E_w=1, S_w=0.6, c_w=1, m=0.01, f_t=1, f_c=-20, f_c0=-10, eta=1\n",
    ")\n",
    "\n",
    "material_params = dict(\n",
    "    E_s=1, gamma_s=0, K_s=-0.1, S_s=10000, c_s=1, bartau=1,\n",
    "    E_w=1, S_w=1000, c_w=1, m=0.01, f_t=1, f_c=-20, f_c0=-10, eta=1\n",
    ")\n",
    "\n",
    "\n",
    "material_params = dict(\n",
    "    E_s=1, gamma_s=-0.1, K_s=0, S_s=10000, c_s=1, bartau=1,\n",
    "    E_w=1, S_w=100000, c_w=1, m=0.00001, f_t=100, f_c=-20000, f_c0=-10000, eta=0\n",
    ")"
   ]
  }
 ],
 "metadata": {
  "kernelspec": {
   "display_name": "Python 3",
   "language": "python",
   "name": "python3"
  },
  "language_info": {
   "codemirror_mode": {
    "name": "ipython",
    "version": 3
   },
   "file_extension": ".py",
   "mimetype": "text/x-python",
   "name": "python",
   "nbconvert_exporter": "python",
   "pygments_lexer": "ipython3",
   "version": "3.7.9"
  },
  "toc": {
   "base_numbering": 1,
   "nav_menu": {},
   "number_sections": true,
   "sideBar": true,
   "skip_h1_title": false,
   "title_cell": "Table of Contents",
   "title_sidebar": "Contents",
   "toc_cell": false,
   "toc_position": {},
   "toc_section_display": true,
   "toc_window_display": false
  }
 },
 "nbformat": 4,
 "nbformat_minor": 1
}
