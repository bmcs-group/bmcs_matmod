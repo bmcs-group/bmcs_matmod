{
 "cells": [
  {
   "cell_type": "markdown",
   "metadata": {},
   "source": [
    "# Demo notebook for slide 3.2"
   ]
  },
  {
   "cell_type": "code",
   "execution_count": 1,
   "metadata": {},
   "outputs": [],
   "source": [
    "%matplotlib widget"
   ]
  },
  {
   "cell_type": "code",
   "execution_count": 2,
   "metadata": {},
   "outputs": [],
   "source": [
    "import bmcs_utils"
   ]
  },
  {
   "cell_type": "code",
   "execution_count": 3,
   "metadata": {},
   "outputs": [],
   "source": [
    "from bmcs_matmod.slide.slide_explorer import SlideExplorer\n",
    "import bmcs_utils.api as bu"
   ]
  },
  {
   "cell_type": "markdown",
   "metadata": {},
   "source": [
    "Parameters for elementary convergence studies - no physical relevance"
   ]
  },
  {
   "cell_type": "markdown",
   "metadata": {},
   "source": [
    "Parameters rendering a stress-strain response comparable with a `MARS` model - example concrete"
   ]
  },
  {
   "cell_type": "markdown",
   "metadata": {},
   "source": [
    "# Debugging LDM implementation"
   ]
  },
  {
   "cell_type": "code",
   "execution_count": 4,
   "metadata": {},
   "outputs": [],
   "source": [
    "material_params = dict(\n",
    "    E_s=1, gamma_s=1, K_s=1, S_s=0.5, c_s=1, bartau=1, \n",
    "    E_w=1, S_w=0.5, c_w = 1, m = 0.05, f_t=1, f_c=20, f_c0=10, eta=0.0\n",
    ")"
   ]
  },
  {
   "cell_type": "markdown",
   "metadata": {},
   "source": [
    "Critical step size - step smaller than the elastic range in tension."
   ]
  },
  {
   "cell_type": "code",
   "execution_count": 5,
   "metadata": {},
   "outputs": [
    {
     "data": {
      "text/plain": [
       "10"
      ]
     },
     "execution_count": 5,
     "metadata": {},
     "output_type": "execute_result"
    }
   ],
   "source": [
    "def get_step_cr(**kw):\n",
    "    f_t = kw['f_t']\n",
    "    E_w = kw['E_w']\n",
    "    return f_t/E_w\n",
    "d_w = get_step_cr(**material_params)\n",
    "w_max = 10\n",
    "n_steps = int(w_max / d_w)\n",
    "n_steps"
   ]
  },
  {
   "cell_type": "code",
   "execution_count": 6,
   "metadata": {
    "scrolled": false
   },
   "outputs": [],
   "source": [
    "%%capture\n",
    "se = SlideExplorer(n_steps=200, k_max=50)\n",
    "se.slide_model.trait_set(**material_params)\n",
    "se.trait_set(s_x_1 = 2, s_y_1 = 0, w_1 = 0);\n",
    "se.run()\n",
    "se.trait_set(s_x_1 = 2, s_y_1 = 1, w_1 = 0);\n",
    "se.run()\n",
    "se.trait_set(s_x_1 = 2, s_y_1 = 1, w_1 = 10);\n",
    "se.run()"
   ]
  },
  {
   "cell_type": "code",
   "execution_count": 8,
   "metadata": {
    "scrolled": false
   },
   "outputs": [
    {
     "name": "stdout",
     "output_type": "stream",
     "text": [
      "update plot\n"
     ]
    },
    {
     "data": {
      "application/vnd.jupyter.widget-view+json": {
       "model_id": "be89e690f3b94ce195cfd5b53490fa74",
       "version_major": 2,
       "version_minor": 0
      },
      "text/plain": [
       "VBox(children=(Output(), Tab(children=(VBox(children=(GridBox(children=(FloatSlider(value=1.806, continuous_up…"
      ]
     },
     "metadata": {},
     "output_type": "display_data"
    },
    {
     "name": "stdout",
     "output_type": "stream",
     "text": [
      "update plot\n",
      "update plot\n",
      "update plot\n",
      "update plot\n"
     ]
    }
   ],
   "source": [
    "se.energy_dissipation.show_iter = False\n",
    "se.inel_state_evolution.t_max=3.0\n",
    "bu.InteractiveWindow([se.inel_state_evolution, se, se.energy_dissipation, \n",
    "                      se.slide_model], figsize=(9,4), tight_layout=False).interact()"
   ]
  },
  {
   "cell_type": "markdown",
   "metadata": {},
   "source": [
    "# Debugging support\n",
    "\n",
    "You can access the values of the state variables and of the the associated \n",
    "thermodynamic forces by accessing the `Sig_t` and `Eps_t` arrays.\n",
    "Each row represents the time step and each column a state variable.\n",
    "The order of state variables corresponds to the order in the symbolic \n",
    "object `se.slide_model.symb`"
   ]
  },
  {
   "cell_type": "code",
   "execution_count": 10,
   "metadata": {},
   "outputs": [
    {
     "data": {
      "text/plain": [
       "(array([1.51734059, 0.85063414, 8.99999555, 0.39270598, 0.48264732,\n",
       "        0.14935569, 0.93830442, 0.93613695]),\n",
       " array([0.02977795, 0.00921521, 0.06386334, 0.39270598, 0.48264732,\n",
       "        0.14935569, 0.12763513, 0.50000445]))"
      ]
     },
     "execution_count": 10,
     "metadata": {},
     "output_type": "execute_result"
    }
   ],
   "source": [
    "se.Eps_t[-1,:], se.Sig_t[-1,:]"
   ]
  },
  {
   "cell_type": "code",
   "execution_count": 11,
   "metadata": {},
   "outputs": [
    {
     "data": {
      "text/plain": [
       "array([0.02977795, 0.00921521, 0.06386334, 0.39270598, 0.48264732,\n",
       "       0.14935569, 0.12763513, 0.50000445])"
      ]
     },
     "execution_count": 11,
     "metadata": {},
     "output_type": "execute_result"
    }
   ],
   "source": [
    "se.Sig_arr[-1,:]"
   ]
  },
  {
   "cell_type": "code",
   "execution_count": null,
   "metadata": {},
   "outputs": [],
   "source": []
  }
 ],
 "metadata": {
  "kernelspec": {
   "display_name": "bmcs_env",
   "language": "python",
   "name": "bmcs_env"
  },
  "language_info": {
   "codemirror_mode": {
    "name": "ipython",
    "version": 3
   },
   "file_extension": ".py",
   "mimetype": "text/x-python",
   "name": "python",
   "nbconvert_exporter": "python",
   "pygments_lexer": "ipython3",
   "version": "3.9.0"
  },
  "toc": {
   "base_numbering": 1,
   "nav_menu": {},
   "number_sections": true,
   "sideBar": true,
   "skip_h1_title": false,
   "title_cell": "Table of Contents",
   "title_sidebar": "Contents",
   "toc_cell": false,
   "toc_position": {},
   "toc_section_display": true,
   "toc_window_display": false
  }
 },
 "nbformat": 4,
 "nbformat_minor": 1
}
