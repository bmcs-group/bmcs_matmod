{
 "cells": [
  {
   "cell_type": "markdown",
   "metadata": {},
   "source": [
    "# Demonstrate the yield face with double cap model component"
   ]
  },
  {
   "cell_type": "code",
   "execution_count": 25,
   "metadata": {},
   "outputs": [],
   "source": [
    "%matplotlib widget\n",
    "from bmcs_matmod.slide.f_double_cap import FDoubleCap\n",
    "from bmcs_matmod.slide.slide_32 import Slide32\n",
    "import bmcs_utils.api as bu\n",
    "import numpy as np"
   ]
  },
  {
   "cell_type": "code",
   "execution_count": 2,
   "metadata": {},
   "outputs": [
    {
     "name": "stdout",
     "output_type": "stream",
     "text": [
      "Notebook initialized with ipy backend.\n"
     ]
    }
   ],
   "source": [
    "from mayavi import mlab\n",
    "mlab.init_notebook()"
   ]
  },
  {
   "cell_type": "code",
   "execution_count": 3,
   "metadata": {},
   "outputs": [],
   "source": [
    "fdc = FDoubleCap(z_scale=0.02,m=0.2)"
   ]
  },
  {
   "cell_type": "code",
   "execution_count": 4,
   "metadata": {},
   "outputs": [
    {
     "data": {
      "application/vnd.jupyter.widget-view+json": {
       "model_id": "176ca9d0eace477f9ebea4dfebffbd36",
       "version_major": 2,
       "version_minor": 0
      },
      "text/plain": [
       "VBox(children=(HBox(children=(VBox(children=(Tree(layout=Layout(align_items='stretch', border='solid 1px black…"
      ]
     },
     "metadata": {},
     "output_type": "display_data"
    }
   ],
   "source": [
    "fdc.interact()"
   ]
  },
  {
   "cell_type": "code",
   "execution_count": 5,
   "metadata": {},
   "outputs": [],
   "source": [
    "delta_f = 2 * fdc.f_t\n",
    "min_sig = -fdc.f_c - delta_f\n",
    "max_sig = fdc.f_t + delta_f\n",
    "max_tau = fdc.tau_bar + fdc.m * fdc.f_c0 + delta_f\n",
    "min_tau = -max_tau\n",
    "X_a, Y_a = np.mgrid[min_sig:max_sig:210j, min_tau:max_tau:210j]\n",
    "Z_a = fdc.symb.get_f_solved(X_a, Y_a)\n",
    "Z_0 = np.zeros_like(Z_a)"
   ]
  },
  {
   "cell_type": "code",
   "execution_count": 6,
   "metadata": {},
   "outputs": [
    {
     "name": "stdout",
     "output_type": "stream",
     "text": [
      "Warning: the range of your scalar values differs by more than a factor 100 than the range of the grid values and you did not specify a warp_scale. You could try warp_scale=\"auto\".\n"
     ]
    },
    {
     "data": {
      "application/vnd.jupyter.widget-view+json": {
       "model_id": "7057a36f8157450787a0cda58968a178",
       "version_major": 2,
       "version_minor": 0
      },
      "text/plain": [
       "Image(value=b'\\x89PNG\\r\\n\\x1a\\n\\x00\\x00\\x00\\rIHDR\\x00\\x00\\x01\\x90\\x00\\x00\\x01^\\x08\\x02\\x00\\x00\\x00$?\\xde_\\x00\\…"
      ]
     },
     "metadata": {},
     "output_type": "display_data"
    }
   ],
   "source": [
    "mlab.clf()\n",
    "mlab.figure(bgcolor=(1,1,1))\n",
    "mlab.surf(X_a, Y_a, Z_a)\n",
    "mlab.surf(X_a, Y_a, Z_0, color=(.8,.8,.8))"
   ]
  },
  {
   "cell_type": "code",
   "execution_count": 7,
   "metadata": {},
   "outputs": [],
   "source": [
    "s = Slide32(m=0.2)"
   ]
  },
  {
   "cell_type": "code",
   "execution_count": 8,
   "metadata": {},
   "outputs": [],
   "source": [
    "min_w = min_sig / s.E_N\n",
    "max_w = max_sig / s.E_N\n",
    "min_s = min_tau / s.E_T\n",
    "max_s = max_tau / s.E_T\n",
    "s_range = np.linspace(min_s, max_s, 5)\n",
    "w_range = np.linspace(min_w, max_w, 5)\n",
    "s_grid, w_grid  = np.meshgrid(s_range,s_range)\n",
    "s_x_n1 = np.hstack([s_grid[:,(0,-1)].flatten(), s_grid[(0,-1),1:-1].flatten()])\n",
    "s_y_n1 = np.zeros_like(s_x_n1)\n",
    "w_n1 = np.hstack([w_grid[:,(0,-1)].flatten(), w_grid[(0,-1),1:-1].flatten()])"
   ]
  },
  {
   "cell_type": "code",
   "execution_count": 9,
   "metadata": {},
   "outputs": [],
   "source": []
  },
  {
   "cell_type": "code",
   "execution_count": 10,
   "metadata": {},
   "outputs": [],
   "source": []
  },
  {
   "cell_type": "code",
   "execution_count": 20,
   "metadata": {},
   "outputs": [],
   "source": [
    "Eps_n1 = np.zeros((len(s.symb.Eps),)) + 1e-5\n",
    "Sig_n1 = np.zeros_like(Eps_n1)"
   ]
  },
  {
   "cell_type": "code",
   "execution_count": 23,
   "metadata": {},
   "outputs": [],
   "source": [
    "lower = -s.f_c * 1.05\n",
    "upper = s.f_t + 0.05 * s.f_c\n",
    "lower_tau = -s.bartau * 2\n",
    "upper_tau = s.bartau * 2\n",
    "lower_tau = -10\n",
    "upper_tau = 10\n",
    "tau_x, tau_y, sig = Sig_n1[:3]\n",
    "tau = np.sqrt(tau_x**2 + tau_y**2)\n",
    "sig_ts, tau_x_ts  = np.mgrid[lower:upper:201j,lower_tau:upper_tau:201j]\n",
    "Sig_ts = np.zeros((len(s.symb.Eps),) + tau_x_ts.shape)\n",
    "Eps_ts = np.zeros_like(Sig_ts)\n",
    "Sig_ts[0,...] = tau_x_ts\n",
    "Sig_ts[2,...] = sig_ts\n",
    "Sig_ts[3:,...] = Sig_n1[3:,np.newaxis,np.newaxis]\n",
    "Sig_ts[4,...] = np.sqrt(Sig_ts[4,...]**2+Sig_ts[5,...]**2)\n",
    "Sig_ts[5,...] = 0\n",
    "Eps_ts[...] = Eps_n1[:,np.newaxis,np.newaxis]\n",
    "Eps_ts[0,...] = np.sqrt(Eps_ts[0,...]**2+Eps_ts[1,...]**2)\n",
    "Eps_ts[1,...] = 0\n",
    "Eps_ts[4,...] = np.sqrt(Eps_ts[4,...]**2+Eps_ts[5,...]**2)\n",
    "Eps_ts[5,...] = 0\n",
    "H_sig_pi = s.symb.get_H_sig_pi_(Sig_ts)\n",
    "f_ts = np.array([s.symb.get_f_(Eps_ts, Sig_ts, H_sig_pi)])"
   ]
  },
  {
   "cell_type": "code",
   "execution_count": 17,
   "metadata": {},
   "outputs": [
    {
     "name": "stdout",
     "output_type": "stream",
     "text": [
      "1 [[array([-5.93952402e-03,  5.78317096e-03, -9.99923384e-01,  9.99918638e-01,\n",
      "         -9.99923384e-01,  9.99918638e-01, -2.23096396e-04,  2.17223369e-04,\n",
      "         -1.10041143e-04,  1.07144303e-04, -3.00889105e-03, -7.81805545e-05,\n",
      "          2.85253195e-03, -5.57447817e-05, -1.44842009e-06,  5.28479415e-05])]\n",
      " [array([-7.81791757e-05, -7.81792473e-05, -1.31615237e-02, -1.35173051e-02,\n",
      "         -1.31615237e-02, -1.35173051e-02, -2.93651348e-06, -2.93651349e-06,\n",
      "         -1.44842008e-06, -1.44842008e-06, -7.81802008e-05, -7.81805545e-05,\n",
      "         -7.81802366e-05, -1.44842008e-06, -1.44842009e-06, -1.44842008e-06])]\n",
      " [array([-2.80055060e+03, -2.80055317e+03,  2.00000000e-01,  2.00000000e-01,\n",
      "          2.00000000e-01,  2.00000000e-01,  9.33322646e+03,  9.33322647e+03,\n",
      "          9.33322664e+03,  9.33322664e+03, -2.80058732e+03, -2.80059999e+03,\n",
      "         -2.80058861e+03,  9.33322668e+03,  9.33322669e+03,  9.33322668e+03])]\n",
      " [array([-0.87200226, -0.87200214, -1.        , -1.        , -1.        ,\n",
      "         -1.        ,  2.40670065,  2.40670065,  5.90673569,  5.90673569,\n",
      "         -0.87200058, -0.872     , -0.87200052,  5.90673572,  5.90673573,\n",
      "          5.90673572])                                                   ]\n",
      " [array([ 5.93946462e-03, -5.78311313e-03,  9.99913385e-01, -9.99908639e-01,\n",
      "          9.99913385e-01, -9.99908639e-01,  2.23094165e-04, -2.17221197e-04,\n",
      "          1.10040042e-04, -1.07143231e-04,  3.00886096e-03,  7.81797727e-05,\n",
      "         -2.85250343e-03,  5.57442242e-05,  1.44840560e-06, -5.28474131e-05])]\n",
      " [array([7.81783939e-05, 7.81784656e-05, 1.31613921e-02, 1.35171700e-02,\n",
      "         1.31613921e-02, 1.35171700e-02, 2.93648412e-06, 2.93648412e-06,\n",
      "         1.44840559e-06, 1.44840559e-06, 7.81794190e-05, 7.81797727e-05,\n",
      "         7.81794548e-05, 1.44840560e-06, 1.44840560e-06, 1.44840560e-06])]\n",
      " [0]\n",
      " [0]]\n",
      "2 [[array([-27999.72, -27999.72, -27999.72, -27999.72, -27999.72, -27999.72,\n",
      "         -27999.72, -27999.72, -27999.72, -27999.72, -27999.72, -27999.72,\n",
      "         -27999.72, -27999.72, -27999.72, -27999.72])\n",
      "  0 0 0 0 0\n",
      "  array([ 21.28, -20.72,  21.28, -20.72,  21.28, -20.72,  21.28, -20.72,\n",
      "          21.28, -20.72,  10.78,   0.28, -10.22,  10.78,   0.28, -10.22])\n",
      "  0]\n",
      " [0\n",
      "  array([-27999.72, -27999.72, -27999.72, -27999.72, -27999.72, -27999.72,\n",
      "         -27999.72, -27999.72, -27999.72, -27999.72, -27999.72, -27999.72,\n",
      "         -27999.72, -27999.72, -27999.72, -27999.72])\n",
      "  0 0 0 0\n",
      "  array([0.28, 0.28, 0.28, 0.28, 0.28, 0.28, 0.28, 0.28, 0.28, 0.28, 0.28,\n",
      "         0.28, 0.28, 0.28, 0.28, 0.28])\n",
      "  0]\n",
      " [0 0\n",
      "  array([-28000.  , -28000.  , -28000.  , -28000.  , -28000.  , -28000.  ,\n",
      "         -27999.72, -27999.72, -27999.72, -27999.72, -28000.  , -28000.  ,\n",
      "         -28000.  , -27999.72, -27999.72, -27999.72])\n",
      "  0 0 0 0\n",
      "  array([  0.  ,   0.  ,   0.  ,   0.  ,   0.  ,   0.  , -10.22, -10.22,\n",
      "         -20.72, -20.72,   0.  ,   0.  ,   0.  , -20.72, -20.72, -20.72])]\n",
      " [0 0 0 8 0 0 0 0]\n",
      " [0 0 0 0 10 0 0 0]\n",
      " [0 0 0 0 0 10 0 0]\n",
      " [array([ 21.28, -20.72,  21.28, -20.72,  21.28, -20.72,  21.28, -20.72,\n",
      "          21.28, -20.72,  10.78,   0.28, -10.22,  10.78,   0.28, -10.22])\n",
      "  array([0.28, 0.28, 0.28, 0.28, 0.28, 0.28, 0.28, 0.28, 0.28, 0.28, 0.28,\n",
      "         0.28, 0.28, 0.28, 0.28, 0.28])\n",
      "  0 0 0 0 0 0]\n",
      " [0 0\n",
      "  array([  0.  ,   0.  ,   0.  ,   0.  ,   0.  ,   0.  , -10.22, -10.22,\n",
      "         -20.72, -20.72,   0.  ,   0.  ,   0.  , -20.72, -20.72, -20.72])\n",
      "  0 0 0 0 0]]\n",
      "3 [[0]\n",
      " [0]\n",
      " [0]\n",
      " [0]\n",
      " [0]\n",
      " [0]\n",
      " [array([1.26414961e-01, 1.19849193e-01, 2.12820548e+01, 2.07220990e+01,\n",
      "         2.12820548e+01, 2.07220990e+01, 4.74831353e-03, 4.50169044e-03,\n",
      "         2.34208108e-03, 2.22043551e-03, 3.24577360e-02, 4.37811105e-05,\n",
      "         2.91747670e-02, 6.01334304e-04, 8.11115249e-07, 5.40511520e-04])]\n",
      " [array([     0.        ,      0.        ,     -0.        ,     -0.        ,\n",
      "             -0.        ,     -0.        ,  95386.52828612,  95386.52840945,\n",
      "         193386.38975664, 193386.38981747,      0.        ,      0.        ,\n",
      "              0.        , 193386.39062701, 193386.39092727, 193386.39065743])]]\n"
     ]
    },
    {
     "ename": "TypeError",
     "evalue": "invalid data type for einsum",
     "output_type": "error",
     "traceback": [
      "\u001b[0;31m---------------------------------------------------------------------------\u001b[0m",
      "\u001b[0;31mTypeError\u001b[0m                                 Traceback (most recent call last)",
      "\u001b[0;32m<ipython-input-17-e7de9a1ded44>\u001b[0m in \u001b[0;36m<module>\u001b[0;34m\u001b[0m\n\u001b[0;32m----> 1\u001b[0;31m \u001b[0mf_k\u001b[0m\u001b[0;34m,\u001b[0m \u001b[0mdf_k\u001b[0m\u001b[0;34m,\u001b[0m \u001b[0mSig_k\u001b[0m \u001b[0;34m=\u001b[0m \u001b[0ms\u001b[0m\u001b[0;34m.\u001b[0m\u001b[0mget_f_df\u001b[0m\u001b[0;34m(\u001b[0m\u001b[0ms_x_n1\u001b[0m\u001b[0;34m,\u001b[0m \u001b[0ms_y_n1\u001b[0m\u001b[0;34m,\u001b[0m \u001b[0mw_n1\u001b[0m\u001b[0;34m,\u001b[0m \u001b[0mSig_n1\u001b[0m\u001b[0;34m,\u001b[0m \u001b[0mEps_n1\u001b[0m\u001b[0;34m)\u001b[0m\u001b[0;34m\u001b[0m\u001b[0;34m\u001b[0m\u001b[0m\n\u001b[0m",
      "\u001b[0;32m~/PycharmProjects/bmcs_matmod/bmcs_matmod/slide/slide_32.py\u001b[0m in \u001b[0;36mget_f_df\u001b[0;34m(self, s_x_n1, s_y_n1, w_n1, Sig_k, Eps_k)\u001b[0m\n\u001b[1;32m    388\u001b[0m         \u001b[0mprint\u001b[0m\u001b[0;34m(\u001b[0m\u001b[0;34m'2'\u001b[0m\u001b[0;34m,\u001b[0m \u001b[0mdSig_dEps_k\u001b[0m\u001b[0;34m)\u001b[0m\u001b[0;34m\u001b[0m\u001b[0;34m\u001b[0m\u001b[0m\n\u001b[1;32m    389\u001b[0m         \u001b[0mprint\u001b[0m\u001b[0;34m(\u001b[0m\u001b[0;34m'3'\u001b[0m\u001b[0;34m,\u001b[0m \u001b[0mddf_dEps_k\u001b[0m\u001b[0;34m)\u001b[0m\u001b[0;34m\u001b[0m\u001b[0;34m\u001b[0m\u001b[0m\n\u001b[0;32m--> 390\u001b[0;31m         df_dEps_k = np.einsum(\n\u001b[0m\u001b[1;32m    391\u001b[0m             'ik,ji->jk', df_dSig_k, dSig_dEps_k) + ddf_dEps_k\n\u001b[1;32m    392\u001b[0m         \u001b[0mPhi_k\u001b[0m \u001b[0;34m=\u001b[0m \u001b[0mself\u001b[0m\u001b[0;34m.\u001b[0m\u001b[0mget_Phi_\u001b[0m\u001b[0;34m(\u001b[0m\u001b[0mEps_k\u001b[0m\u001b[0;34m,\u001b[0m \u001b[0mSig_k\u001b[0m\u001b[0;34m,\u001b[0m \u001b[0mH_sig_pi\u001b[0m\u001b[0;34m)\u001b[0m\u001b[0;34m\u001b[0m\u001b[0;34m\u001b[0m\u001b[0m\n",
      "\u001b[0;32m<__array_function__ internals>\u001b[0m in \u001b[0;36meinsum\u001b[0;34m(*args, **kwargs)\u001b[0m\n",
      "\u001b[0;32m~/miniconda3/envs/bmcs_env/lib/python3.8/site-packages/numpy/core/einsumfunc.py\u001b[0m in \u001b[0;36meinsum\u001b[0;34m(out, optimize, *operands, **kwargs)\u001b[0m\n\u001b[1;32m   1359\u001b[0m         \u001b[0;32mif\u001b[0m \u001b[0mspecified_out\u001b[0m\u001b[0;34m:\u001b[0m\u001b[0;34m\u001b[0m\u001b[0;34m\u001b[0m\u001b[0m\n\u001b[1;32m   1360\u001b[0m             \u001b[0mkwargs\u001b[0m\u001b[0;34m[\u001b[0m\u001b[0;34m'out'\u001b[0m\u001b[0;34m]\u001b[0m \u001b[0;34m=\u001b[0m \u001b[0mout\u001b[0m\u001b[0;34m\u001b[0m\u001b[0;34m\u001b[0m\u001b[0m\n\u001b[0;32m-> 1361\u001b[0;31m         \u001b[0;32mreturn\u001b[0m \u001b[0mc_einsum\u001b[0m\u001b[0;34m(\u001b[0m\u001b[0;34m*\u001b[0m\u001b[0moperands\u001b[0m\u001b[0;34m,\u001b[0m \u001b[0;34m**\u001b[0m\u001b[0mkwargs\u001b[0m\u001b[0;34m)\u001b[0m\u001b[0;34m\u001b[0m\u001b[0;34m\u001b[0m\u001b[0m\n\u001b[0m\u001b[1;32m   1362\u001b[0m \u001b[0;34m\u001b[0m\u001b[0m\n\u001b[1;32m   1363\u001b[0m     \u001b[0;31m# Check the kwargs to avoid a more cryptic error later, without having to\u001b[0m\u001b[0;34m\u001b[0m\u001b[0;34m\u001b[0m\u001b[0;34m\u001b[0m\u001b[0m\n",
      "\u001b[0;31mTypeError\u001b[0m: invalid data type for einsum"
     ]
    }
   ],
   "source": [
    "f_k, df_k, Sig_k = s.get_f_df(s_x_n1, s_y_n1, w_n1, Sig_n1, Eps_n1)"
   ]
  },
  {
   "cell_type": "code",
   "execution_count": 14,
   "metadata": {
    "scrolled": false
   },
   "outputs": [
    {
     "name": "stdout",
     "output_type": "stream",
     "text": [
      "1 [[array([-5.93952402e-03,  5.78317096e-03, -9.99923384e-01,  9.99918638e-01,\n",
      "         -9.99923384e-01,  9.99918638e-01, -2.23096396e-04,  2.17223369e-04,\n",
      "         -1.10041143e-04,  1.07144303e-04, -3.00889105e-03, -7.81805545e-05,\n",
      "          2.85253195e-03, -5.57447817e-05, -1.44842009e-06,  5.28479415e-05])]\n",
      " [array([-7.81791757e-05, -7.81792473e-05, -1.31615237e-02, -1.35173051e-02,\n",
      "         -1.31615237e-02, -1.35173051e-02, -2.93651348e-06, -2.93651349e-06,\n",
      "         -1.44842008e-06, -1.44842008e-06, -7.81802008e-05, -7.81805545e-05,\n",
      "         -7.81802366e-05, -1.44842008e-06, -1.44842009e-06, -1.44842008e-06])]\n",
      " [array([-2.80055060e+03, -2.80055317e+03,  2.00000000e-01,  2.00000000e-01,\n",
      "          2.00000000e-01,  2.00000000e-01,  9.33322646e+03,  9.33322647e+03,\n",
      "          9.33322664e+03,  9.33322664e+03, -2.80058732e+03, -2.80059999e+03,\n",
      "         -2.80058861e+03,  9.33322668e+03,  9.33322669e+03,  9.33322668e+03])]\n",
      " [array([-0.87200226, -0.87200214, -1.        , -1.        , -1.        ,\n",
      "         -1.        ,  2.40670065,  2.40670065,  5.90673569,  5.90673569,\n",
      "         -0.87200058, -0.872     , -0.87200052,  5.90673572,  5.90673573,\n",
      "          5.90673572])                                                   ]\n",
      " [array([ 5.93946462e-03, -5.78311313e-03,  9.99913385e-01, -9.99908639e-01,\n",
      "          9.99913385e-01, -9.99908639e-01,  2.23094165e-04, -2.17221197e-04,\n",
      "          1.10040042e-04, -1.07143231e-04,  3.00886096e-03,  7.81797727e-05,\n",
      "         -2.85250343e-03,  5.57442242e-05,  1.44840560e-06, -5.28474131e-05])]\n",
      " [array([7.81783939e-05, 7.81784656e-05, 1.31613921e-02, 1.35171700e-02,\n",
      "         1.31613921e-02, 1.35171700e-02, 2.93648412e-06, 2.93648412e-06,\n",
      "         1.44840559e-06, 1.44840559e-06, 7.81794190e-05, 7.81797727e-05,\n",
      "         7.81794548e-05, 1.44840560e-06, 1.44840560e-06, 1.44840560e-06])]\n",
      " [0]\n",
      " [0]]\n",
      "2 [[array([-27999.72, -27999.72, -27999.72, -27999.72, -27999.72, -27999.72,\n",
      "         -27999.72, -27999.72, -27999.72, -27999.72, -27999.72, -27999.72,\n",
      "         -27999.72, -27999.72, -27999.72, -27999.72])\n",
      "  0 0 0 0 0\n",
      "  array([ 21.28, -20.72,  21.28, -20.72,  21.28, -20.72,  21.28, -20.72,\n",
      "          21.28, -20.72,  10.78,   0.28, -10.22,  10.78,   0.28, -10.22])\n",
      "  0]\n",
      " [0\n",
      "  array([-27999.72, -27999.72, -27999.72, -27999.72, -27999.72, -27999.72,\n",
      "         -27999.72, -27999.72, -27999.72, -27999.72, -27999.72, -27999.72,\n",
      "         -27999.72, -27999.72, -27999.72, -27999.72])\n",
      "  0 0 0 0\n",
      "  array([0.28, 0.28, 0.28, 0.28, 0.28, 0.28, 0.28, 0.28, 0.28, 0.28, 0.28,\n",
      "         0.28, 0.28, 0.28, 0.28, 0.28])\n",
      "  0]\n",
      " [0 0\n",
      "  array([-28000.  , -28000.  , -28000.  , -28000.  , -28000.  , -28000.  ,\n",
      "         -27999.72, -27999.72, -27999.72, -27999.72, -28000.  , -28000.  ,\n",
      "         -28000.  , -27999.72, -27999.72, -27999.72])\n",
      "  0 0 0 0\n",
      "  array([  0.  ,   0.  ,   0.  ,   0.  ,   0.  ,   0.  , -10.22, -10.22,\n",
      "         -20.72, -20.72,   0.  ,   0.  ,   0.  , -20.72, -20.72, -20.72])]\n",
      " [0 0 0 8 0 0 0 0]\n",
      " [0 0 0 0 10 0 0 0]\n",
      " [0 0 0 0 0 10 0 0]\n",
      " [array([ 21.28, -20.72,  21.28, -20.72,  21.28, -20.72,  21.28, -20.72,\n",
      "          21.28, -20.72,  10.78,   0.28, -10.22,  10.78,   0.28, -10.22])\n",
      "  array([0.28, 0.28, 0.28, 0.28, 0.28, 0.28, 0.28, 0.28, 0.28, 0.28, 0.28,\n",
      "         0.28, 0.28, 0.28, 0.28, 0.28])\n",
      "  0 0 0 0 0 0]\n",
      " [0 0\n",
      "  array([  0.  ,   0.  ,   0.  ,   0.  ,   0.  ,   0.  , -10.22, -10.22,\n",
      "         -20.72, -20.72,   0.  ,   0.  ,   0.  , -20.72, -20.72, -20.72])\n",
      "  0 0 0 0 0]]\n",
      "3 [[0]\n",
      " [0]\n",
      " [0]\n",
      " [0]\n",
      " [0]\n",
      " [0]\n",
      " [array([1.26414961e-01, 1.19849193e-01, 2.12820548e+01, 2.07220990e+01,\n",
      "         2.12820548e+01, 2.07220990e+01, 4.74831353e-03, 4.50169044e-03,\n",
      "         2.34208108e-03, 2.22043551e-03, 3.24577360e-02, 4.37811105e-05,\n",
      "         2.91747670e-02, 6.01334304e-04, 8.11115249e-07, 5.40511520e-04])]\n",
      " [array([     0.        ,      0.        ,     -0.        ,     -0.        ,\n",
      "             -0.        ,     -0.        ,  95386.52828612,  95386.52840945,\n",
      "         193386.38975664, 193386.38981747,      0.        ,      0.        ,\n",
      "              0.        , 193386.39062701, 193386.39092727, 193386.39065743])]]\n"
     ]
    },
    {
     "ename": "TypeError",
     "evalue": "invalid data type for einsum",
     "output_type": "error",
     "traceback": [
      "\u001b[0;31m---------------------------------------------------------------------------\u001b[0m",
      "\u001b[0;31mTypeError\u001b[0m                                 Traceback (most recent call last)",
      "\u001b[0;32m<ipython-input-14-85ce722f6a0b>\u001b[0m in \u001b[0;36m<module>\u001b[0;34m\u001b[0m\n\u001b[0;32m----> 1\u001b[0;31m Eps_n1, Sig_n1, k = s.get_sig_n1(\n\u001b[0m\u001b[1;32m      2\u001b[0m                     \u001b[0ms_x_n1\u001b[0m\u001b[0;34m,\u001b[0m \u001b[0ms_y_n1\u001b[0m\u001b[0;34m,\u001b[0m \u001b[0mw_n1\u001b[0m\u001b[0;34m,\u001b[0m \u001b[0mSig_n1\u001b[0m\u001b[0;34m,\u001b[0m \u001b[0mEps_n1\u001b[0m\u001b[0;34m,\u001b[0m \u001b[0;36m5\u001b[0m\u001b[0;34m\u001b[0m\u001b[0;34m\u001b[0m\u001b[0m\n\u001b[1;32m      3\u001b[0m                 )\n",
      "\u001b[0;32m~/PycharmProjects/bmcs_matmod/bmcs_matmod/slide/slide_32.py\u001b[0m in \u001b[0;36mget_sig_n1\u001b[0;34m(self, s_x_n1, s_y_n1, w_n1, Sig_n, Eps_n, k_max)\u001b[0m\n\u001b[1;32m    424\u001b[0m         \u001b[0mSig_k\u001b[0m \u001b[0;34m=\u001b[0m \u001b[0mnp\u001b[0m\u001b[0;34m.\u001b[0m\u001b[0mcopy\u001b[0m\u001b[0;34m(\u001b[0m\u001b[0mSig_n\u001b[0m\u001b[0;34m)\u001b[0m\u001b[0;34m\u001b[0m\u001b[0;34m\u001b[0m\u001b[0m\n\u001b[1;32m    425\u001b[0m         \u001b[0mlam_k\u001b[0m \u001b[0;34m=\u001b[0m \u001b[0;36m0\u001b[0m\u001b[0;34m\u001b[0m\u001b[0;34m\u001b[0m\u001b[0m\n\u001b[0;32m--> 426\u001b[0;31m         \u001b[0mf_k\u001b[0m\u001b[0;34m,\u001b[0m \u001b[0mdf_k\u001b[0m\u001b[0;34m,\u001b[0m \u001b[0mSig_k\u001b[0m \u001b[0;34m=\u001b[0m \u001b[0mself\u001b[0m\u001b[0;34m.\u001b[0m\u001b[0mget_f_df\u001b[0m\u001b[0;34m(\u001b[0m\u001b[0ms_x_n1\u001b[0m\u001b[0;34m,\u001b[0m \u001b[0ms_y_n1\u001b[0m\u001b[0;34m,\u001b[0m \u001b[0mw_n1\u001b[0m\u001b[0;34m,\u001b[0m \u001b[0mSig_k\u001b[0m\u001b[0;34m,\u001b[0m \u001b[0mEps_k\u001b[0m\u001b[0;34m)\u001b[0m\u001b[0;34m\u001b[0m\u001b[0;34m\u001b[0m\u001b[0m\n\u001b[0m\u001b[1;32m    427\u001b[0m         \u001b[0mf_k_norm\u001b[0m \u001b[0;34m=\u001b[0m \u001b[0mnp\u001b[0m\u001b[0;34m.\u001b[0m\u001b[0mlinalg\u001b[0m\u001b[0;34m.\u001b[0m\u001b[0mnorm\u001b[0m\u001b[0;34m(\u001b[0m\u001b[0mf_k\u001b[0m\u001b[0;34m)\u001b[0m\u001b[0;34m\u001b[0m\u001b[0;34m\u001b[0m\u001b[0m\n\u001b[1;32m    428\u001b[0m         \u001b[0mf_k_trial\u001b[0m \u001b[0;34m=\u001b[0m \u001b[0mf_k\u001b[0m\u001b[0;34m[\u001b[0m\u001b[0;36m0\u001b[0m\u001b[0;34m]\u001b[0m\u001b[0;34m\u001b[0m\u001b[0;34m\u001b[0m\u001b[0m\n",
      "\u001b[0;32m~/PycharmProjects/bmcs_matmod/bmcs_matmod/slide/slide_32.py\u001b[0m in \u001b[0;36mget_f_df\u001b[0;34m(self, s_x_n1, s_y_n1, w_n1, Sig_k, Eps_k)\u001b[0m\n\u001b[1;32m    388\u001b[0m         \u001b[0mprint\u001b[0m\u001b[0;34m(\u001b[0m\u001b[0;34m'2'\u001b[0m\u001b[0;34m,\u001b[0m \u001b[0mdSig_dEps_k\u001b[0m\u001b[0;34m)\u001b[0m\u001b[0;34m\u001b[0m\u001b[0;34m\u001b[0m\u001b[0m\n\u001b[1;32m    389\u001b[0m         \u001b[0mprint\u001b[0m\u001b[0;34m(\u001b[0m\u001b[0;34m'3'\u001b[0m\u001b[0;34m,\u001b[0m \u001b[0mddf_dEps_k\u001b[0m\u001b[0;34m)\u001b[0m\u001b[0;34m\u001b[0m\u001b[0;34m\u001b[0m\u001b[0m\n\u001b[0;32m--> 390\u001b[0;31m         df_dEps_k = np.einsum(\n\u001b[0m\u001b[1;32m    391\u001b[0m             'ik,ji->jk', df_dSig_k, dSig_dEps_k) + ddf_dEps_k\n\u001b[1;32m    392\u001b[0m         \u001b[0mPhi_k\u001b[0m \u001b[0;34m=\u001b[0m \u001b[0mself\u001b[0m\u001b[0;34m.\u001b[0m\u001b[0mget_Phi_\u001b[0m\u001b[0;34m(\u001b[0m\u001b[0mEps_k\u001b[0m\u001b[0;34m,\u001b[0m \u001b[0mSig_k\u001b[0m\u001b[0;34m,\u001b[0m \u001b[0mH_sig_pi\u001b[0m\u001b[0;34m)\u001b[0m\u001b[0;34m\u001b[0m\u001b[0;34m\u001b[0m\u001b[0m\n",
      "\u001b[0;32m<__array_function__ internals>\u001b[0m in \u001b[0;36meinsum\u001b[0;34m(*args, **kwargs)\u001b[0m\n",
      "\u001b[0;32m~/miniconda3/envs/bmcs_env/lib/python3.8/site-packages/numpy/core/einsumfunc.py\u001b[0m in \u001b[0;36meinsum\u001b[0;34m(out, optimize, *operands, **kwargs)\u001b[0m\n\u001b[1;32m   1359\u001b[0m         \u001b[0;32mif\u001b[0m \u001b[0mspecified_out\u001b[0m\u001b[0;34m:\u001b[0m\u001b[0;34m\u001b[0m\u001b[0;34m\u001b[0m\u001b[0m\n\u001b[1;32m   1360\u001b[0m             \u001b[0mkwargs\u001b[0m\u001b[0;34m[\u001b[0m\u001b[0;34m'out'\u001b[0m\u001b[0;34m]\u001b[0m \u001b[0;34m=\u001b[0m \u001b[0mout\u001b[0m\u001b[0;34m\u001b[0m\u001b[0;34m\u001b[0m\u001b[0m\n\u001b[0;32m-> 1361\u001b[0;31m         \u001b[0;32mreturn\u001b[0m \u001b[0mc_einsum\u001b[0m\u001b[0;34m(\u001b[0m\u001b[0;34m*\u001b[0m\u001b[0moperands\u001b[0m\u001b[0;34m,\u001b[0m \u001b[0;34m**\u001b[0m\u001b[0mkwargs\u001b[0m\u001b[0;34m)\u001b[0m\u001b[0;34m\u001b[0m\u001b[0;34m\u001b[0m\u001b[0m\n\u001b[0m\u001b[1;32m   1362\u001b[0m \u001b[0;34m\u001b[0m\u001b[0m\n\u001b[1;32m   1363\u001b[0m     \u001b[0;31m# Check the kwargs to avoid a more cryptic error later, without having to\u001b[0m\u001b[0;34m\u001b[0m\u001b[0;34m\u001b[0m\u001b[0;34m\u001b[0m\u001b[0m\n",
      "\u001b[0;31mTypeError\u001b[0m: invalid data type for einsum"
     ]
    }
   ],
   "source": [
    "Eps_n1, Sig_n1, k = s.get_sig_n1(\n",
    "                    s_x_n1, s_y_n1, w_n1, Sig_n1, Eps_n1, 5\n",
    "                )"
   ]
  },
  {
   "cell_type": "code",
   "execution_count": null,
   "metadata": {},
   "outputs": [],
   "source": [
    "fdc.interact()"
   ]
  },
  {
   "cell_type": "code",
   "execution_count": null,
   "metadata": {},
   "outputs": [],
   "source": [
    "app = bu.AppWindow(fdc)"
   ]
  },
  {
   "cell_type": "code",
   "execution_count": null,
   "metadata": {},
   "outputs": [],
   "source": [
    "app.interact()"
   ]
  },
  {
   "cell_type": "code",
   "execution_count": null,
   "metadata": {},
   "outputs": [],
   "source": [
    "pb = app.plot_backend_table['k3d']\n",
    "fdc.setup_plot(pb)"
   ]
  },
  {
   "cell_type": "code",
   "execution_count": null,
   "metadata": {
    "scrolled": false
   },
   "outputs": [],
   "source": [
    "pb.plot_fig"
   ]
  },
  {
   "cell_type": "code",
   "execution_count": null,
   "metadata": {},
   "outputs": [],
   "source": []
  }
 ],
 "metadata": {
  "kernelspec": {
   "display_name": "bmcs_env",
   "language": "python",
   "name": "bmcs_env"
  },
  "language_info": {
   "codemirror_mode": {
    "name": "ipython",
    "version": 3
   },
   "file_extension": ".py",
   "mimetype": "text/x-python",
   "name": "python",
   "nbconvert_exporter": "python",
   "pygments_lexer": "ipython3",
   "version": "3.8.8"
  },
  "toc": {
   "base_numbering": 1,
   "nav_menu": {},
   "number_sections": true,
   "sideBar": true,
   "skip_h1_title": false,
   "title_cell": "Table of Contents",
   "title_sidebar": "Contents",
   "toc_cell": false,
   "toc_position": {},
   "toc_section_display": true,
   "toc_window_display": false
  }
 },
 "nbformat": 4,
 "nbformat_minor": 4
}
