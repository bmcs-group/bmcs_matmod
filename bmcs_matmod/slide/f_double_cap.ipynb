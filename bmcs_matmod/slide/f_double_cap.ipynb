{
 "cells": [
  {
   "cell_type": "markdown",
   "metadata": {},
   "source": [
    "# Demonstrate the yield face with double cap model component"
   ]
  },
  {
   "cell_type": "code",
   "execution_count": null,
   "metadata": {},
   "outputs": [],
   "source": [
    "%matplotlib widget\n",
    "from bmcs_matmod.slide.f_double_cap import FDoubleCap\n",
    "from bmcs_matmod.slide.slide_32 import Slide32\n",
    "import bmcs_utils.api as bu\n",
    "import numpy as np"
   ]
  },
  {
   "cell_type": "code",
   "execution_count": null,
   "metadata": {},
   "outputs": [],
   "source": [
    "from mayavi import mlab\n",
    "mlab.init_notebook()"
   ]
  },
  {
   "cell_type": "code",
   "execution_count": null,
   "metadata": {},
   "outputs": [],
   "source": [
    "fdc = FDoubleCap(z_scale=0.02,m=0.2)"
   ]
  },
  {
   "cell_type": "code",
   "execution_count": null,
   "metadata": {},
   "outputs": [],
   "source": [
    "fdc.interact()"
   ]
  },
  {
   "cell_type": "code",
   "execution_count": null,
   "metadata": {},
   "outputs": [],
   "source": [
    "delta_f = 2 * fdc.f_t\n",
    "min_sig = -fdc.f_c - delta_f\n",
    "max_sig = fdc.f_t + delta_f\n",
    "max_tau = fdc.tau_bar + fdc.m * fdc.f_c0 + delta_f\n",
    "min_tau = -max_tau\n",
    "X_a, Y_a = np.mgrid[min_sig:max_sig:210j, min_tau:max_tau:210j]\n",
    "Z_a = fdc.symb.get_f_solved(X_a, Y_a)\n",
    "Z_0 = np.zeros_like(Z_a)"
   ]
  },
  {
   "cell_type": "code",
   "execution_count": null,
   "metadata": {},
   "outputs": [],
   "source": [
    "mlab.clf()\n",
    "mlab.figure(bgcolor=(1,1,1))\n",
    "mlab.surf(X_a, Y_a, Z_a)\n",
    "mlab.surf(X_a, Y_a, Z_0, color=(.8,.8,.8))"
   ]
  },
  {
   "cell_type": "code",
   "execution_count": null,
   "metadata": {},
   "outputs": [],
   "source": []
  }
 ],
 "metadata": {
  "kernelspec": {
   "display_name": "bmcs_env",
   "language": "python",
   "name": "bmcs_env"
  },
  "language_info": {
   "codemirror_mode": {
    "name": "ipython",
    "version": 3
   },
   "file_extension": ".py",
   "mimetype": "text/x-python",
   "name": "python",
   "nbconvert_exporter": "python",
   "pygments_lexer": "ipython3"
  },
  "toc": {
   "base_numbering": 1,
   "nav_menu": {},
   "number_sections": true,
   "sideBar": true,
   "skip_h1_title": false,
   "title_cell": "Table of Contents",
   "title_sidebar": "Contents",
   "toc_cell": false,
   "toc_position": {},
   "toc_section_display": true,
   "toc_window_display": false
  }
 },
 "nbformat": 4,
 "nbformat_minor": 4
}
