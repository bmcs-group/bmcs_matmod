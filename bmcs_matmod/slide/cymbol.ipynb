{
 "cells": [
  {
   "cell_type": "markdown",
   "metadata": {
    "pycharm": {
     "name": "#%% md\n"
    }
   },
   "source": [
    "# Specialized sympy Symbol class\n",
    "\n",
    "To have nicely printed mathematical expression\n",
    "and, a consistent, inspectable lambdified code\n",
    "and readable generated C code - there is\n",
    "an additional codename attribute added\n",
    "to the Symbol class and an accompanying\n",
    "\n",
    "```\n",
    "sp.printing.codeprinter.CodePrinter._print_Symbol = _print_Symbol\n",
    "```\n",
    "Function - see `cymbol.py`"
   ]
  },
  {
   "cell_type": "code",
   "execution_count": null,
   "metadata": {
    "pycharm": {
     "name": "#%%\n"
    }
   },
   "outputs": [],
   "source": [
    "import sympy as sp\n",
    "from bmcs_matmod.slide.cymbol import Cymbol, codegen\n",
    "import re\n",
    "\n",
    "tau_bar = Cymbol(r'\\bar{\\tau}', codename='b_tau' , real=True, nonnegative=True)\n",
    "kappa = Cymbol(r'\\kappa^{\\max}', codename='kappa_max' ,real=True, nonnegative=True)\n",
    "f = tau_bar**2 - kappa\n",
    "f_Sigma = f"
   ]
  },
  {
   "cell_type": "code",
   "execution_count": null,
   "metadata": {
    "pycharm": {
     "name": "#%%\n"
    }
   },
   "outputs": [],
   "source": [
    "#tau_bar.codename\n",
    "#tau_bar.is_nonnegative"
   ]
  },
  {
   "cell_type": "code",
   "execution_count": null,
   "metadata": {
    "pycharm": {
     "name": "#%%\n"
    }
   },
   "outputs": [],
   "source": [
    "f"
   ]
  },
  {
   "cell_type": "code",
   "execution_count": null,
   "metadata": {
    "pycharm": {
     "name": "#%%\n"
    }
   },
   "outputs": [],
   "source": [
    "print(codegen(('f_Sigma', f_Sigma), 'C89', 'SLIDE1_3')[0][1])"
   ]
  },
  {
   "cell_type": "code",
   "execution_count": null,
   "metadata": {
    "pycharm": {
     "name": "#%%\n"
    }
   },
   "outputs": [],
   "source": [
    "sp.lambdify((), f_Sigma)"
   ]
  },
  {
   "cell_type": "code",
   "execution_count": null,
   "metadata": {
    "pycharm": {
     "name": "#%%\n"
    }
   },
   "outputs": [],
   "source": [
    "f_Sigma_ = sp.lambdify((tau_bar,kappa), f_Sigma, 'numpy')"
   ]
  },
  {
   "cell_type": "code",
   "execution_count": null,
   "metadata": {
    "pycharm": {
     "name": "#%%\n"
    }
   },
   "outputs": [],
   "source": [
    "import inspect\n",
    "print(inspect.getsource(f_Sigma_))"
   ]
  },
  {
   "cell_type": "code",
   "execution_count": null,
   "metadata": {
    "pycharm": {
     "name": "#%%\n"
    }
   },
   "outputs": [],
   "source": [
    "tau_bar.codename"
   ]
  },
  {
   "cell_type": "code",
   "execution_count": null,
   "metadata": {
    "pycharm": {
     "name": "#%%\n"
    }
   },
   "outputs": [],
   "source": []
  }
 ],
 "metadata": {
  "kernelspec": {
   "display_name": "Python 3",
   "language": "python",
   "name": "python3"
  },
  "language_info": {
   "codemirror_mode": {
    "name": "ipython",
    "version": 2
   },
   "file_extension": ".py",
   "mimetype": "text/x-python",
   "name": "python",
   "nbconvert_exporter": "python",
   "pygments_lexer": "ipython2"
  }
 },
 "nbformat": 4,
 "nbformat_minor": 0
}
