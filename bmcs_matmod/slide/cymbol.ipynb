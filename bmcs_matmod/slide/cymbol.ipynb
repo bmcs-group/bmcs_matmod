{
 "cells": [
  {
   "cell_type": "markdown",
   "source": [
    "# Specialized sympy Symbol class\n",
    "\n",
    "To have nicely printed mathematical expression\n",
    "and, a consistent, inspectable lambdified code\n",
    "and readable generated C code - there is\n",
    "an additional codename attribute added\n",
    "to the Symbol class and an accompanying\n",
    "\n",
    "```\n",
    "sp.printing.codeprinter.CodePrinter._print_Symbol = _print_Symbol\n",
    "```\n",
    "Function - see `cymbol.py`"
   ],
   "metadata": {
    "collapsed": false,
    "pycharm": {
     "name": "#%% md\n"
    }
   }
  },
  {
   "cell_type": "code",
   "execution_count": 9,
   "outputs": [],
   "source": [
    "import sympy as sp\n",
    "from bmcs_matmod.slide.cymbol import Cymbol, codegen\n",
    "import re\n",
    "\n",
    "tau_bar = Cymbol(r'\\bar{\\tau}', codename='b_tau' , real=True, nonnegative=True)\n",
    "kappa = Cymbol(r'\\kappa^{\\max}', codename='kappa_max' ,real=True, nonnegative=True)\n",
    "f = tau_bar**2 - kappa\n",
    "f_Sigma = f"
   ],
   "metadata": {
    "collapsed": false,
    "pycharm": {
     "name": "#%%\n"
    }
   }
  },
  {
   "cell_type": "code",
   "execution_count": 10,
   "outputs": [],
   "source": [
    "#tau_bar.codename\n",
    "#tau_bar.is_nonnegative"
   ],
   "metadata": {
    "collapsed": false,
    "pycharm": {
     "name": "#%%\n"
    }
   }
  },
  {
   "cell_type": "code",
   "execution_count": 11,
   "outputs": [
    {
     "data": {
      "text/plain": "\\bar{\\tau}**2 - \\kappa^{\\max}",
      "text/latex": "$\\displaystyle \\bar{\\tau}^{2} - \\kappa^{\\max}$"
     },
     "execution_count": 11,
     "metadata": {},
     "output_type": "execute_result"
    }
   ],
   "source": [
    "f"
   ],
   "metadata": {
    "collapsed": false,
    "pycharm": {
     "name": "#%%\n"
    }
   }
  },
  {
   "cell_type": "code",
   "execution_count": 12,
   "outputs": [
    {
     "name": "stdout",
     "output_type": "stream",
     "text": [
      "/******************************************************************************\n",
      " *                      Code generated with sympy 1.7.1                       *\n",
      " *                                                                            *\n",
      " *              See http://www.sympy.org/ for more information.               *\n",
      " *                                                                            *\n",
      " *                       This file is part of 'project'                       *\n",
      " ******************************************************************************/\n",
      "#include \"SLIDE1_3.h\"\n",
      "#include <math.h>\n",
      "\n",
      "double f_Sigma(double b_tau, double kappa_max) {\n",
      "\n",
      "   double f_Sigma_result;\n",
      "   f_Sigma_result = pow(b_tau, 2) - kappa_max;\n",
      "   return f_Sigma_result;\n",
      "\n",
      "}\n",
      "\n"
     ]
    }
   ],
   "source": [
    "print(codegen(('f_Sigma', f_Sigma), 'C89', 'SLIDE1_3')[0][1])"
   ],
   "metadata": {
    "collapsed": false,
    "pycharm": {
     "name": "#%%\n"
    }
   }
  },
  {
   "cell_type": "code",
   "execution_count": 13,
   "outputs": [
    {
     "data": {
      "text/plain": "<function _lambdifygenerated()>"
     },
     "execution_count": 13,
     "metadata": {},
     "output_type": "execute_result"
    }
   ],
   "source": [
    "sp.lambdify((), f_Sigma)"
   ],
   "metadata": {
    "collapsed": false,
    "pycharm": {
     "name": "#%%\n"
    }
   }
  },
  {
   "cell_type": "code",
   "execution_count": 14,
   "outputs": [],
   "source": [
    "f_Sigma_ = sp.lambdify((tau_bar,kappa), f_Sigma, 'numpy')"
   ],
   "metadata": {
    "collapsed": false,
    "pycharm": {
     "name": "#%%\n"
    }
   }
  },
  {
   "cell_type": "code",
   "execution_count": 15,
   "outputs": [
    {
     "name": "stdout",
     "output_type": "stream",
     "text": [
      "def _lambdifygenerated(b_tau, kappa_max):\n",
      "    return (b_tau**2 - kappa_max)\n",
      "\n"
     ]
    }
   ],
   "source": [
    "import inspect\n",
    "print(inspect.getsource(f_Sigma_))"
   ],
   "metadata": {
    "collapsed": false,
    "pycharm": {
     "name": "#%%\n"
    }
   }
  },
  {
   "cell_type": "code",
   "execution_count": 16,
   "outputs": [
    {
     "data": {
      "text/plain": "'b_tau'"
     },
     "execution_count": 16,
     "metadata": {},
     "output_type": "execute_result"
    }
   ],
   "source": [
    "tau_bar.codename"
   ],
   "metadata": {
    "collapsed": false,
    "pycharm": {
     "name": "#%%\n"
    }
   }
  },
  {
   "cell_type": "code",
   "execution_count": null,
   "outputs": [],
   "source": [],
   "metadata": {
    "collapsed": false,
    "pycharm": {
     "name": "#%%\n"
    }
   }
  }
 ],
 "metadata": {
  "kernelspec": {
   "display_name": "Python 3",
   "language": "python",
   "name": "python3"
  },
  "language_info": {
   "codemirror_mode": {
    "name": "ipython",
    "version": 2
   },
   "file_extension": ".py",
   "mimetype": "text/x-python",
   "name": "python",
   "nbconvert_exporter": "python",
   "pygments_lexer": "ipython2",
   "version": "2.7.6"
  }
 },
 "nbformat": 4,
 "nbformat_minor": 0
}