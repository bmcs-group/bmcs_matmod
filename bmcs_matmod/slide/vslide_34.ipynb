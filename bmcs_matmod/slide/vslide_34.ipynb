{
 "cells": [
  {
   "cell_type": "markdown",
   "metadata": {
    "pycharm": {
     "name": "#%% md\n"
    }
   },
   "source": [
    "# Vectorized version of the slide 3.4 model\n",
    "\n",
    " - It is using the I inelastic selector to iterate\n",
    "   during the return mapping over all the material\n",
    "   points simultaneously\n",
    " - The gradients of potential functions deliver\n",
    "   matrices with zero elements - `lambdify` delivers\n",
    "   inhomogeneous arrays then. Quick fix was using the\n",
    "   ZERO and ONE variables to include dummy arrays.\n",
    "   But this produces many zeros for all material points.\n",
    "   Probably, this indicates the limit of the concept.\n",
    "   However, for prototyping this is still fine.\n",
    " - Would it be possible to use `theano`? It has operators\n",
    "   for gradients and can run on Tensors. Check it here:\n",
    "   [theano](https://theano-pymc.readthedocs.io/en/latest/tutorial)\n"
   ]
  },
  {
   "cell_type": "code",
   "execution_count": 1,
   "metadata": {},
   "outputs": [],
   "source": [
    "%matplotlib widget\n",
    "from bmcs_matmod.slide.vslide_34 import Slide34\n",
    "import bmcs_matmod.slide.vslide_34 as slide_34\n",
    "import numpy as np"
   ]
  },
  {
   "cell_type": "code",
   "execution_count": 2,
   "metadata": {},
   "outputs": [],
   "source": [
    "material_params = dict(\n",
    "    E_T=1, gamma_T=5, K_T=5, S_T=0.6, c_T=1, bartau=1,\n",
    "    E_N=1, S_N=0.6, c_N = 1, m = 0.01, f_t=1, f_c=20, f_c0=10, eta=0\n",
    ")"
   ]
  },
  {
   "cell_type": "markdown",
   "metadata": {
    "pycharm": {
     "name": "#%% md\n"
    }
   },
   "source": [
    "# Verify Slide34"
   ]
  },
  {
   "cell_type": "code",
   "execution_count": 3,
   "metadata": {},
   "outputs": [],
   "source": [
    "slide = Slide34(**material_params)"
   ]
  },
  {
   "cell_type": "markdown",
   "metadata": {},
   "source": [
    "To extract the names of the sympy symbols that\n",
    "can be lambdified or used in a code generation to produce\n",
    "C code a subclass Cymbol of sp.Symbol is defined\n",
    "that adds another parameter called codename to be used\n",
    "in lambdification. Any general material model\n",
    "contains the property/attribute `state_var_shape`\n",
    "specifying the key-value pair of the state variable\n",
    "name and its shape to be allocated."
   ]
  },
  {
   "cell_type": "code",
   "execution_count": 4,
   "metadata": {
    "pycharm": {
     "name": "#%%\n"
    }
   },
   "outputs": [
    {
     "data": {
      "text/plain": [
       "{'s_pi_x': (),\n",
       " 's_pi_y': (),\n",
       " 'w_pi': (),\n",
       " 'z': (),\n",
       " 'alpha_x': (),\n",
       " 'alpha_y': (),\n",
       " 'omega_T': (),\n",
       " 'omega_N': (),\n",
       " 'tau_pi_x': (),\n",
       " 'tau_pi_y': (),\n",
       " 'sig_pi': (),\n",
       " 'Z': (),\n",
       " 'X_x': (),\n",
       " 'X_y': (),\n",
       " 'Y_T': (),\n",
       " 'Y_N': ()}"
      ]
     },
     "execution_count": 4,
     "metadata": {},
     "output_type": "execute_result"
    }
   ],
   "source": [
    "slide.state_var_shapes"
   ]
  },
  {
   "cell_type": "code",
   "execution_count": 5,
   "metadata": {
    "pycharm": {
     "name": "#%%\n"
    }
   },
   "outputs": [],
   "source": [
    "discr_shape = (1,)\n",
    "\n",
    "state = {\n",
    "    var_name: np.zeros(discr_shape + var_shape, dtype=np.float_)\n",
    "    for var_name, var_shape in\n",
    "    slide.state_var_shapes.items()\n",
    "}"
   ]
  },
  {
   "cell_type": "code",
   "execution_count": 6,
   "metadata": {
    "pycharm": {
     "name": "#%%\n"
    }
   },
   "outputs": [
    {
     "data": {
      "text/plain": [
       "{'s_pi_x': array([0.]),\n",
       " 's_pi_y': array([0.]),\n",
       " 'w_pi': array([0.]),\n",
       " 'z': array([0.]),\n",
       " 'alpha_x': array([0.]),\n",
       " 'alpha_y': array([0.]),\n",
       " 'omega_T': array([0.]),\n",
       " 'omega_N': array([0.]),\n",
       " 'tau_pi_x': array([0.]),\n",
       " 'tau_pi_y': array([0.]),\n",
       " 'sig_pi': array([0.]),\n",
       " 'Z': array([0.]),\n",
       " 'X_x': array([0.]),\n",
       " 'X_y': array([0.]),\n",
       " 'Y_T': array([0.]),\n",
       " 'Y_N': array([0.])}"
      ]
     },
     "execution_count": 6,
     "metadata": {},
     "output_type": "execute_result"
    }
   ],
   "source": [
    "state"
   ]
  },
  {
   "cell_type": "code",
   "execution_count": 7,
   "metadata": {
    "pycharm": {
     "name": "#%%\n"
    }
   },
   "outputs": [],
   "source": [
    "eps_Ema = np.zeros(discr_shape+(3,), dtype=np.float_)"
   ]
  },
  {
   "cell_type": "code",
   "execution_count": 8,
   "metadata": {
    "pycharm": {
     "name": "#%%\n"
    }
   },
   "outputs": [],
   "source": [
    "s_x_n1, s_y_n1, w_n1 = np.einsum('...a->a...',eps_Ema)\n",
    "\n",
    "Eps_n = np.array([state[eps_name] for eps_name in slide.Eps_names])\n",
    "Eps_k = np.copy(Eps_n)\n",
    "Sig_k = np.array([state[sig_name] for sig_name in slide.Sig_names])"
   ]
  },
  {
   "cell_type": "code",
   "execution_count": 9,
   "metadata": {
    "pycharm": {
     "name": "#%%\n"
    }
   },
   "outputs": [
    {
     "data": {
      "text/plain": [
       "(1,)"
      ]
     },
     "execution_count": 9,
     "metadata": {},
     "output_type": "execute_result"
    }
   ],
   "source": [
    "s_x_n1.shape"
   ]
  },
  {
   "cell_type": "code",
   "execution_count": 10,
   "metadata": {
    "pycharm": {
     "name": "#%%\n"
    }
   },
   "outputs": [
    {
     "data": {
      "text/plain": [
       "(8, 1)"
      ]
     },
     "execution_count": 10,
     "metadata": {},
     "output_type": "execute_result"
    }
   ],
   "source": [
    "Eps_k.shape\n",
    "Sig_k.shape"
   ]
  },
  {
   "cell_type": "code",
   "execution_count": 11,
   "metadata": {
    "pycharm": {
     "name": "#%%\n"
    }
   },
   "outputs": [
    {
     "data": {
      "text/plain": [
       "(8, 1)"
      ]
     },
     "execution_count": 11,
     "metadata": {},
     "output_type": "execute_result"
    }
   ],
   "source": [
    "slide.symb.get_Sig_(s_x_n1, s_y_n1, w_n1, Sig_k, Eps_k)[0].shape"
   ]
  },
  {
   "cell_type": "code",
   "execution_count": 12,
   "metadata": {},
   "outputs": [
    {
     "data": {
      "text/latex": [
       "$\\displaystyle \\left[\\begin{matrix}- E_{T} \\left(1 - \\omega_{T}\\right) \\left(s^{\\pi}_x - s_{x}\\right) & - E_{T} \\left(1 - \\omega_{T}\\right) \\left(s^{\\pi}_y - s_{y}\\right) & - E_{N} \\left(- 2 w + 2 w^{\\pi}\\right) \\left(- \\frac{\\omega_{N} \\left(\\begin{cases} 0 & \\text{for}\\: \\sigma^{\\pi} \\leq 0 \\\\1 & \\text{otherwise} \\end{cases}\\right)}{2} + \\frac{1}{2}\\right) & K_{T} z & \\alpha_{x} \\gamma_{T} & \\alpha_{y} \\gamma_{T} & \\frac{E_{T} \\left(- s^{\\pi}_x + s_{x}\\right)^{2}}{2} + \\frac{E_{T} \\left(- s^{\\pi}_y + s_{y}\\right)^{2}}{2} & \\frac{E_{N} \\left(w - w^{\\pi}\\right)^{2} \\left(\\begin{cases} 0 & \\text{for}\\: \\sigma^{\\pi} \\leq 0 \\\\1 & \\text{otherwise} \\end{cases}\\right)}{2}\\end{matrix}\\right]$"
      ],
      "text/plain": [
       "Matrix([[-E_T*(1 - omega_T)*(s^{\\pi}_x - s_x), -E_T*(1 - omega_T)*(s^{\\pi}_y - s_y), -E_N*(-2*w + 2*w^{\\pi})*(-omega_N*Piecewise((0, \\sigma^\\pi <= 0), (1, True))/2 + 1/2), K_T*z, alpha_x*gamma_T, alpha_y*gamma_T, E_T*(-s^{\\pi}_x + s_x)**2/2 + E_T*(-s^{\\pi}_y + s_y)**2/2, E_N*(w - w^{\\pi})**2*Piecewise((0, \\sigma^\\pi <= 0), (1, True))/2]])"
      ]
     },
     "execution_count": 12,
     "metadata": {},
     "output_type": "execute_result"
    }
   ],
   "source": [
    "slide.symb.Sig_"
   ]
  },
  {
   "cell_type": "code",
   "execution_count": 13,
   "metadata": {
    "pycharm": {
     "name": "#%%\n"
    }
   },
   "outputs": [
    {
     "data": {
      "text/latex": [
       "$\\displaystyle \\left[\\begin{matrix}E_{T} I \\left(\\omega_{T} - 1\\right) & I O & I O & I O & I O & I O & E_{T} I \\left(s^{\\pi}_x - s_{x}\\right) & I O\\\\I O & E_{T} I \\left(\\omega_{T} - 1\\right) & I O & I O & I O & I O & E_{T} I \\left(s^{\\pi}_y - s_{y}\\right) & I O\\\\I O & I O & E_{N} I \\left(\\omega_{N} \\left(\\begin{cases} O & \\text{for}\\: O \\geq \\sigma^{\\pi} \\\\1 & \\text{otherwise} \\end{cases}\\right) - 1\\right) & I O & I O & I O & I O & \\frac{E_{N} I \\left(- 2 w + 2 w^{\\pi}\\right) \\left(\\begin{cases} O & \\text{for}\\: O \\geq \\sigma^{\\pi} \\\\1 & \\text{otherwise} \\end{cases}\\right)}{2}\\\\I O & I O & I O & I K_{T} & I O & I O & I O & I O\\\\I O & I O & I O & I O & I \\gamma_{T} & I O & I O & I O\\\\I O & I O & I O & I O & I O & I \\gamma_{T} & I O & I O\\\\E_{T} I \\left(s^{\\pi}_x - s_{x}\\right) & E_{T} I \\left(s^{\\pi}_y - s_{y}\\right) & I O & I O & I O & I O & I O & I O\\\\I O & I O & E_{N} I \\left(- w + w^{\\pi}\\right) \\left(\\begin{cases} O & \\text{for}\\: O \\geq \\sigma^{\\pi} \\\\1 & \\text{otherwise} \\end{cases}\\right) & I O & I O & I O & I O & I O\\end{matrix}\\right]$"
      ],
      "text/plain": [
       "Matrix([\n",
       "[    E_T*I*(omega_T - 1),                     I*O,                                                             I*O,   I*O,       I*O,       I*O, E_T*I*(s^{\\pi}_x - s_x),                                                                   I*O],\n",
       "[                    I*O,     E_T*I*(omega_T - 1),                                                             I*O,   I*O,       I*O,       I*O, E_T*I*(s^{\\pi}_y - s_y),                                                                   I*O],\n",
       "[                    I*O,                     I*O,  E_N*I*(omega_N*Piecewise((O, O >= \\sigma^\\pi), (1, True)) - 1),   I*O,       I*O,       I*O,                     I*O, E_N*I*(-2*w + 2*w^{\\pi})*Piecewise((O, O >= \\sigma^\\pi), (1, True))/2],\n",
       "[                    I*O,                     I*O,                                                             I*O, I*K_T,       I*O,       I*O,                     I*O,                                                                   I*O],\n",
       "[                    I*O,                     I*O,                                                             I*O,   I*O, I*gamma_T,       I*O,                     I*O,                                                                   I*O],\n",
       "[                    I*O,                     I*O,                                                             I*O,   I*O,       I*O, I*gamma_T,                     I*O,                                                                   I*O],\n",
       "[E_T*I*(s^{\\pi}_x - s_x), E_T*I*(s^{\\pi}_y - s_y),                                                             I*O,   I*O,       I*O,       I*O,                     I*O,                                                                   I*O],\n",
       "[                    I*O,                     I*O, E_N*I*(-w + w^{\\pi})*Piecewise((O, O >= \\sigma^\\pi), (1, True)),   I*O,       I*O,       I*O,                     I*O,                                                                   I*O]])"
      ]
     },
     "execution_count": 13,
     "metadata": {},
     "output_type": "execute_result"
    }
   ],
   "source": [
    "slide.symb.dSig_dEps_"
   ]
  },
  {
   "cell_type": "code",
   "execution_count": 14,
   "metadata": {
    "pycharm": {
     "name": "#%%\n"
    }
   },
   "outputs": [],
   "source": [
    "ONES = np.ones_like(s_x_n1)\n",
    "ZEROS = np.zeros_like(s_x_n1)"
   ]
  },
  {
   "cell_type": "code",
   "execution_count": 15,
   "metadata": {
    "pycharm": {
     "name": "#%%\n"
    }
   },
   "outputs": [
    {
     "data": {
      "text/plain": [
       "(8, 8, 1)"
      ]
     },
     "execution_count": 15,
     "metadata": {},
     "output_type": "execute_result"
    }
   ],
   "source": [
    "dSig_dEps_k = slide.symb.get_dSig_dEps_(s_x_n1, s_y_n1, w_n1, Sig_k, Eps_k, ZEROS, ONES)\n",
    "dSig_dEps_k.shape"
   ]
  },
  {
   "cell_type": "code",
   "execution_count": 16,
   "metadata": {},
   "outputs": [],
   "source": [
    "ix1, ix2 = np.ix_((0,1,2),(0,1,2))"
   ]
  },
  {
   "cell_type": "code",
   "execution_count": 17,
   "metadata": {},
   "outputs": [
    {
     "data": {
      "text/plain": [
       "array([[-1.,  0.,  0.],\n",
       "       [ 0., -1.,  0.],\n",
       "       [ 0.,  0., -1.]])"
      ]
     },
     "execution_count": 17,
     "metadata": {},
     "output_type": "execute_result"
    }
   ],
   "source": [
    "dSig_dEps_k[ix1,ix2,0]"
   ]
  },
  {
   "cell_type": "code",
   "execution_count": 18,
   "metadata": {
    "pycharm": {
     "name": "#%%\n"
    }
   },
   "outputs": [
    {
     "data": {
      "text/plain": [
       "(1,)"
      ]
     },
     "execution_count": 18,
     "metadata": {},
     "output_type": "execute_result"
    }
   ],
   "source": [
    "H_sig_pi = slide.symb.get_H_sig_pi_(Sig_k)\n",
    "H_sig_pi.shape"
   ]
  },
  {
   "cell_type": "code",
   "execution_count": 19,
   "metadata": {
    "pycharm": {
     "name": "#%%\n"
    }
   },
   "outputs": [
    {
     "data": {
      "text/plain": [
       "(1,)"
      ]
     },
     "execution_count": 19,
     "metadata": {},
     "output_type": "execute_result"
    }
   ],
   "source": [
    "f_k = slide.symb.get_f_(Eps_k, Sig_k, H_sig_pi)\n",
    "f_k.shape"
   ]
  },
  {
   "cell_type": "code",
   "execution_count": 20,
   "metadata": {
    "pycharm": {
     "name": "#%%\n"
    }
   },
   "outputs": [],
   "source": [
    "%%capture\n",
    "df_dSig_k = slide.symb.get_df_dSig_(Eps_k, Sig_k, H_sig_pi, ZEROS, ONES)"
   ]
  },
  {
   "cell_type": "code",
   "execution_count": 21,
   "metadata": {},
   "outputs": [
    {
     "data": {
      "text/plain": [
       "(8, 1, 1)"
      ]
     },
     "execution_count": 21,
     "metadata": {},
     "output_type": "execute_result"
    }
   ],
   "source": [
    "df_dSig_k.shape"
   ]
  },
  {
   "cell_type": "code",
   "execution_count": 22,
   "metadata": {
    "pycharm": {
     "name": "#%%\n"
    }
   },
   "outputs": [],
   "source": [
    "%%capture\n",
    "ddf_dEps_k = slide.symb.get_ddf_dEps_(Eps_k, Sig_k, H_sig_pi, ZEROS, ONES)"
   ]
  },
  {
   "cell_type": "code",
   "execution_count": 23,
   "metadata": {},
   "outputs": [
    {
     "data": {
      "text/plain": [
       "(8, 1, 1)"
      ]
     },
     "execution_count": 23,
     "metadata": {},
     "output_type": "execute_result"
    }
   ],
   "source": [
    "ddf_dEps_k.shape"
   ]
  },
  {
   "cell_type": "code",
   "execution_count": 24,
   "metadata": {
    "pycharm": {
     "name": "#%%\n"
    }
   },
   "outputs": [
    {
     "data": {
      "text/plain": [
       "(8, 1, 1)"
      ]
     },
     "execution_count": 24,
     "metadata": {},
     "output_type": "execute_result"
    }
   ],
   "source": [
    "df_dEps_k = np.einsum(\n",
    "    'ik...,ji...->jk...', df_dSig_k, dSig_dEps_k) + ddf_dEps_k\n",
    "df_dEps_k.shape"
   ]
  },
  {
   "cell_type": "code",
   "execution_count": 25,
   "metadata": {
    "pycharm": {
     "name": "#%%\n"
    }
   },
   "outputs": [],
   "source": [
    "%%capture\n",
    "slide.get_f_df(s_x_n1, s_y_n1, w_n1, Sig_k, Eps_k)"
   ]
  },
  {
   "cell_type": "code",
   "execution_count": 26,
   "metadata": {
    "pycharm": {
     "name": "#%%\n"
    }
   },
   "outputs": [
    {
     "data": {
      "text/plain": [
       "array([[0.  ],\n",
       "       [0.  ],\n",
       "       [0.99],\n",
       "       [1.  ],\n",
       "       [0.  ],\n",
       "       [0.  ],\n",
       "       [0.  ],\n",
       "       [0.  ]])"
      ]
     },
     "execution_count": 26,
     "metadata": {},
     "output_type": "execute_result"
    }
   ],
   "source": [
    "slide.get_Eps_k1(s_x_n1, s_y_n1, w_n1, Eps_n, ONES, Sig_k, Eps_k)"
   ]
  },
  {
   "cell_type": "code",
   "execution_count": 36,
   "metadata": {},
   "outputs": [
    {
     "data": {
      "text/plain": [
       "(2, 1, 3)"
      ]
     },
     "execution_count": 36,
     "metadata": {},
     "output_type": "execute_result"
    }
   ],
   "source": [
    "discr_shape = (2,1)\n",
    "\n",
    "state = {\n",
    "    var_name: np.zeros(discr_shape + var_shape, dtype=np.float_)\n",
    "    for var_name, var_shape in\n",
    "    slide.state_var_shapes.items()\n",
    "}\n",
    "eps_Ema = np.zeros(discr_shape+(3,), dtype=np.float_)\n",
    "eps_Ema.shape"
   ]
  },
  {
   "cell_type": "code",
   "execution_count": 37,
   "metadata": {
    "pycharm": {
     "name": "#%%\n"
    }
   },
   "outputs": [],
   "source": [
    "s_max = 3\n",
    "eps_Ema[0,0,0] = s_max\n",
    "slide.k_max = 3\n",
    "sig_Ema = slide.get_corr_pred(eps_Ema, 1, **state)"
   ]
  },
  {
   "cell_type": "code",
   "execution_count": 38,
   "metadata": {},
   "outputs": [
    {
     "data": {
      "text/plain": [
       "(array([[[-1.02475905,  0.        , -0.00181817]],\n",
       " \n",
       "        [[-0.        , -0.        , -0.        ]]]),\n",
       " array([[[[1., 0., 0.],\n",
       "          [0., 1., 0.],\n",
       "          [0., 0., 1.]]],\n",
       " \n",
       " \n",
       "        [[[1., 0., 0.],\n",
       "          [0., 1., 0.],\n",
       "          [0., 0., 1.]]]]))"
      ]
     },
     "execution_count": 38,
     "metadata": {},
     "output_type": "execute_result"
    }
   ],
   "source": [
    "sig_Ema"
   ]
  },
  {
   "cell_type": "code",
   "execution_count": 24,
   "metadata": {
    "pycharm": {
     "name": "#%%\n"
    }
   },
   "outputs": [
    {
     "data": {
      "text/plain": [
       "(array([0.18181653, 0.        , 0.00181817, 0.18181653, 0.18181653,\n",
       "        0.        , 1.36362397, 0.        ]),\n",
       " array([-1.02475905e+00,  0.00000000e+00, -1.81816529e-03,  9.09082645e-01,\n",
       "         9.09082645e-01,  0.00000000e+00,  3.97107904e+00,  0.00000000e+00]),\n",
       " 2)"
      ]
     },
     "execution_count": 24,
     "metadata": {},
     "output_type": "execute_result"
    }
   ],
   "source": [
    "from bmcs_matmod.slide.slide_32 import Slide32\n",
    "Sig_k_32 = np.zeros((8,))\n",
    "Eps_k_32 = np.zeros((8,))\n",
    "slide32 = Slide32(**material_params)\n",
    "slide32.get_sig_n1(s_max,0,0,Sig_k_32, Eps_k_32,3)"
   ]
  },
  {
   "cell_type": "code",
   "execution_count": null,
   "metadata": {},
   "outputs": [],
   "source": []
  }
 ],
 "metadata": {
  "kernelspec": {
   "display_name": "bmcs_env",
   "language": "python",
   "name": "bmcs_env"
  },
  "language_info": {
   "codemirror_mode": {
    "name": "ipython",
    "version": 3
   },
   "file_extension": ".py",
   "mimetype": "text/x-python",
   "name": "python",
   "nbconvert_exporter": "python",
   "pygments_lexer": "ipython3",
   "version": "3.8.8"
  },
  "toc": {
   "base_numbering": 1,
   "nav_menu": {},
   "number_sections": true,
   "sideBar": true,
   "skip_h1_title": false,
   "title_cell": "Table of Contents",
   "title_sidebar": "Contents",
   "toc_cell": false,
   "toc_position": {},
   "toc_section_display": true,
   "toc_window_display": false
  }
 },
 "nbformat": 4,
 "nbformat_minor": 4
}
