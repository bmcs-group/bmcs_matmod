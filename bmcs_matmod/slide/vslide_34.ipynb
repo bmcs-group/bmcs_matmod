{
 "cells": [
  {
   "cell_type": "markdown",
   "source": [
    "# Vectorized version of the slide 3.4 model\n",
    "\n",
    " - It is using the I inelastic selector to iterate\n",
    "   during the return mapping over all the material\n",
    "   points simultaneously\n",
    " - The gradients of potential functions contain deliver\n",
    "   matrices with zero elements - `lambdify` delivers\n",
    "   inhomogeneous arrays then. Quick fix was using the\n",
    "   ZERO and ONE variables to include dummy arrays.\n",
    "   But this produces many zeros for all material points.\n",
    "   Probably, this indicates the limit of the concept.\n",
    "   However, for prototyping this is still fine.\n",
    " - Would it be possible to use `theano`? It has operators\n",
    "   for gradients and can run on Tensors. Check it here:\n",
    "   [theano](https://theano-pymc.readthedocs.io/en/latest/tutorial)\n"
   ],
   "metadata": {
    "collapsed": false,
    "pycharm": {
     "name": "#%% md\n"
    }
   }
  },
  {
   "cell_type": "code",
   "execution_count": 133,
   "metadata": {},
   "outputs": [],
   "source": [
    "%matplotlib widget\n",
    "from bmcs_matmod.slide.slide_34 import Slide34\n",
    "import bmcs_matmod.slide.slide_34 as slide_34\n",
    "import numpy as np"
   ]
  },
  {
   "cell_type": "code",
   "execution_count": 134,
   "metadata": {},
   "outputs": [],
   "source": [
    "material_params = dict(\n",
    "    E_T=1, gamma_T=5, K_T=5, S_T=0.6, c_T=1, bartau=1,\n",
    "    E_N=1, S_N=0.6, c_N = 1, m = 0.01, f_t=1, f_c=20, f_c0=10, eta=0\n",
    ")"
   ]
  },
  {
   "cell_type": "code",
   "execution_count": 135,
   "metadata": {},
   "outputs": [],
   "source": [
    "slide = Slide34(**material_params)"
   ]
  },
  {
   "cell_type": "markdown",
   "metadata": {},
   "source": [
    "To extract the names of the sympy symbols that can be lambdified or used in a code generation to produce\n",
    "C code a sybclass of sp.Symbol is defined that adds another parameter called codename to be used\n",
    "in lambdification."
   ]
  },
  {
   "cell_type": "code",
   "execution_count": 136,
   "metadata": {
    "pycharm": {
     "name": "#%%\n"
    }
   },
   "outputs": [
    {
     "data": {
      "text/plain": "{'s_pi_x': (),\n 's_pi_y': (),\n 'w_pi': (),\n 'z': (),\n 'alpha_x': (),\n 'alpha_y': (),\n 'omega_T': (),\n 'omega_N': (),\n 'tau_pi_x': (),\n 'tau_pi_y': (),\n 'sig_pi': (),\n 'Z': (),\n 'X_x': (),\n 'X_y': (),\n 'Y_T': (),\n 'Y_N': ()}"
     },
     "execution_count": 136,
     "metadata": {},
     "output_type": "execute_result"
    }
   ],
   "source": [
    "slide.state_var_shapes"
   ]
  },
  {
   "cell_type": "code",
   "execution_count": 137,
   "outputs": [],
   "source": [
    "n_points = 8\n",
    "\n",
    "state = {\n",
    "    var_name: np.zeros((n_points,) + var_shape, dtype=np.float_)\n",
    "    for var_name, var_shape in\n",
    "    slide.state_var_shapes.items()\n",
    "}"
   ],
   "metadata": {
    "collapsed": false,
    "pycharm": {
     "name": "#%%\n"
    }
   }
  },
  {
   "cell_type": "code",
   "execution_count": 111,
   "outputs": [
    {
     "data": {
      "text/plain": "{'s_pi_x': array([0., 0., 0., 0., 0., 0., 0., 0.]),\n 's_pi_y': array([0., 0., 0., 0., 0., 0., 0., 0.]),\n 'w_pi': array([0., 0., 0., 0., 0., 0., 0., 0.]),\n 'z': array([0., 0., 0., 0., 0., 0., 0., 0.]),\n 'alpha_x': array([0., 0., 0., 0., 0., 0., 0., 0.]),\n 'alpha_y': array([0., 0., 0., 0., 0., 0., 0., 0.]),\n 'omega_T': array([0., 0., 0., 0., 0., 0., 0., 0.]),\n 'omega_N': array([0., 0., 0., 0., 0., 0., 0., 0.]),\n 'tau_pi_x': array([0., 0., 0., 0., 0., 0., 0., 0.]),\n 'tau_pi_y': array([0., 0., 0., 0., 0., 0., 0., 0.]),\n 'sig_pi': array([0., 0., 0., 0., 0., 0., 0., 0.]),\n 'Z': array([0., 0., 0., 0., 0., 0., 0., 0.]),\n 'X_x': array([0., 0., 0., 0., 0., 0., 0., 0.]),\n 'X_y': array([0., 0., 0., 0., 0., 0., 0., 0.]),\n 'Y_T': array([0., 0., 0., 0., 0., 0., 0., 0.]),\n 'Y_N': array([0., 0., 0., 0., 0., 0., 0., 0.])}"
     },
     "execution_count": 111,
     "metadata": {},
     "output_type": "execute_result"
    }
   ],
   "source": [
    "state"
   ],
   "metadata": {
    "collapsed": false,
    "pycharm": {
     "name": "#%%\n"
    }
   }
  },
  {
   "cell_type": "code",
   "execution_count": 112,
   "outputs": [],
   "source": [
    "eps_Ema = np.zeros((n_points,3), dtype=np.float_)\n",
    "\n"
   ],
   "metadata": {
    "collapsed": false,
    "pycharm": {
     "name": "#%%\n"
    }
   }
  },
  {
   "cell_type": "code",
   "execution_count": 113,
   "outputs": [
    {
     "data": {
      "text/plain": "(8, 8)"
     },
     "execution_count": 113,
     "metadata": {},
     "output_type": "execute_result"
    }
   ],
   "source": [
    "s_x_n1, s_y_n1, w_n1 = np.einsum('...a->a...',eps_Ema)\n",
    "\n",
    "Eps_n = np.array([ state[eps_name] for eps_name in slide.Eps_names])\n",
    "Eps_k = np.copy(Eps_n)\n",
    "Sig_k = np.array([state[sig_name] for sig_name in slide.Sig_names])\n",
    "Sig_k.shape"
   ],
   "metadata": {
    "collapsed": false,
    "pycharm": {
     "name": "#%%\n"
    }
   }
  },
  {
   "cell_type": "code",
   "execution_count": 114,
   "outputs": [
    {
     "data": {
      "text/plain": "array([0., 0., 0., 0., 0., 0., 0., 0.])"
     },
     "execution_count": 114,
     "metadata": {},
     "output_type": "execute_result"
    }
   ],
   "source": [
    "s_x_n1\n"
   ],
   "metadata": {
    "collapsed": false,
    "pycharm": {
     "name": "#%%\n"
    }
   }
  },
  {
   "cell_type": "code",
   "execution_count": 115,
   "outputs": [
    {
     "data": {
      "text/plain": "(8, 8)"
     },
     "execution_count": 115,
     "metadata": {},
     "output_type": "execute_result"
    }
   ],
   "source": [
    "Eps_k.shape\n",
    "Sig_k.shape"
   ],
   "metadata": {
    "collapsed": false,
    "pycharm": {
     "name": "#%%\n"
    }
   }
  },
  {
   "cell_type": "code",
   "execution_count": 116,
   "outputs": [
    {
     "data": {
      "text/plain": "array([[-0., -0., -0., -0., -0., -0., -0., -0.],\n       [-0., -0., -0., -0., -0., -0., -0., -0.],\n       [-0., -0., -0., -0., -0., -0., -0., -0.],\n       [ 0.,  0.,  0.,  0.,  0.,  0.,  0.,  0.],\n       [ 0.,  0.,  0.,  0.,  0.,  0.,  0.,  0.],\n       [ 0.,  0.,  0.,  0.,  0.,  0.,  0.,  0.],\n       [ 0.,  0.,  0.,  0.,  0.,  0.,  0.,  0.],\n       [ 0.,  0.,  0.,  0.,  0.,  0.,  0.,  0.]])"
     },
     "execution_count": 116,
     "metadata": {},
     "output_type": "execute_result"
    }
   ],
   "source": [
    "slide.symb.get_Sig_(s_x_n1, s_y_n1, w_n1, Sig_k, Eps_k)[0]\n"
   ],
   "metadata": {
    "collapsed": false,
    "pycharm": {
     "name": "#%%\n"
    }
   }
  },
  {
   "cell_type": "code",
   "execution_count": 117,
   "outputs": [],
   "source": [
    "import sympy as sp\n",
    "A = sp.Matrix([[slide_34.omega_N, 0],\n",
    "                  [0,1]])\n",
    "\n",
    "from sympy.printing.theanocode import theano_function\n",
    "f = theano_function([slide_34.omega_N],[A],\n",
    "                    dims={slide_34.omega_N:0},\n",
    "                    dtypes={slide_34.omega_N:\"float64\"})"
   ],
   "metadata": {
    "collapsed": false,
    "pycharm": {
     "name": "#%%\n"
    }
   }
  },
  {
   "cell_type": "code",
   "execution_count": 118,
   "outputs": [
    {
     "data": {
      "text/plain": "array([[0.5, 0. ],\n       [0. , 1. ]])"
     },
     "execution_count": 118,
     "metadata": {},
     "output_type": "execute_result"
    }
   ],
   "source": [
    "omeg = np.array(0.5)\n",
    "f(omeg)"
   ],
   "metadata": {
    "collapsed": false,
    "pycharm": {
     "name": "#%%\n"
    }
   }
  },
  {
   "cell_type": "code",
   "execution_count": 119,
   "outputs": [
    {
     "data": {
      "text/plain": "Matrix([\n[    E_T*I*(omega_T - 1),                     I*O,                                                             I*O,   I*O,       I*O,       I*O, E_T*I*(s^{\\pi}_x - s_x),                                                                   I*O],\n[                    I*O,     E_T*I*(omega_T - 1),                                                             I*O,   I*O,       I*O,       I*O, E_T*I*(s^{\\pi}_y - s_y),                                                                   I*O],\n[                    I*O,                     I*O,  E_N*I*(omega_N*Piecewise((O, O >= \\sigma^\\pi), (1, True)) - 1),   I*O,       I*O,       I*O,                     I*O, E_N*I*(-2*w + 2*w^{\\pi})*Piecewise((O, O >= \\sigma^\\pi), (1, True))/2],\n[                    I*O,                     I*O,                                                             I*O, I*K_T,       I*O,       I*O,                     I*O,                                                                   I*O],\n[                    I*O,                     I*O,                                                             I*O,   I*O, I*gamma_T,       I*O,                     I*O,                                                                   I*O],\n[                    I*O,                     I*O,                                                             I*O,   I*O,       I*O, I*gamma_T,                     I*O,                                                                   I*O],\n[E_T*I*(s^{\\pi}_x - s_x), E_T*I*(s^{\\pi}_y - s_y),                                                             I*O,   I*O,       I*O,       I*O,                     I*O,                                                                   I*O],\n[                    I*O,                     I*O, E_N*I*(-w + w^{\\pi})*Piecewise((O, O >= \\sigma^\\pi), (1, True)),   I*O,       I*O,       I*O,                     I*O,                                                                   I*O]])",
      "text/latex": "$\\displaystyle \\left[\\begin{matrix}E_{T} I \\left(\\omega_{T} - 1\\right) & I O & I O & I O & I O & I O & E_{T} I \\left(s^{\\pi}_x - s_{x}\\right) & I O\\\\I O & E_{T} I \\left(\\omega_{T} - 1\\right) & I O & I O & I O & I O & E_{T} I \\left(s^{\\pi}_y - s_{y}\\right) & I O\\\\I O & I O & E_{N} I \\left(\\omega_{N} \\left(\\begin{cases} O & \\text{for}\\: O \\geq \\sigma^{\\pi} \\\\1 & \\text{otherwise} \\end{cases}\\right) - 1\\right) & I O & I O & I O & I O & \\frac{E_{N} I \\left(- 2 w + 2 w^{\\pi}\\right) \\left(\\begin{cases} O & \\text{for}\\: O \\geq \\sigma^{\\pi} \\\\1 & \\text{otherwise} \\end{cases}\\right)}{2}\\\\I O & I O & I O & I K_{T} & I O & I O & I O & I O\\\\I O & I O & I O & I O & I \\gamma_{T} & I O & I O & I O\\\\I O & I O & I O & I O & I O & I \\gamma_{T} & I O & I O\\\\E_{T} I \\left(s^{\\pi}_x - s_{x}\\right) & E_{T} I \\left(s^{\\pi}_y - s_{y}\\right) & I O & I O & I O & I O & I O & I O\\\\I O & I O & E_{N} I \\left(- w + w^{\\pi}\\right) \\left(\\begin{cases} O & \\text{for}\\: O \\geq \\sigma^{\\pi} \\\\1 & \\text{otherwise} \\end{cases}\\right) & I O & I O & I O & I O & I O\\end{matrix}\\right]$"
     },
     "execution_count": 119,
     "metadata": {},
     "output_type": "execute_result"
    }
   ],
   "source": [
    "slide.symb.dSig_dEps_"
   ],
   "metadata": {
    "collapsed": false,
    "pycharm": {
     "name": "#%%\n"
    }
   }
  },
  {
   "cell_type": "code",
   "execution_count": 120,
   "outputs": [],
   "source": [
    "ONES = np.ones_like(s_x_n1)\n",
    "ZEROS = np.zeros_like(s_x_n1)"
   ],
   "metadata": {
    "collapsed": false,
    "pycharm": {
     "name": "#%%\n"
    }
   }
  },
  {
   "cell_type": "code",
   "execution_count": 121,
   "outputs": [
    {
     "data": {
      "text/plain": "(8, 8, 8)"
     },
     "execution_count": 121,
     "metadata": {},
     "output_type": "execute_result"
    }
   ],
   "source": [
    "dSig_dEps_k = slide.symb.get_dSig_dEps_(s_x_n1, s_y_n1, w_n1, Sig_k, Eps_k, ZEROS, ONES)\n",
    "dSig_dEps_k.shape"
   ],
   "metadata": {
    "collapsed": false,
    "pycharm": {
     "name": "#%%\n"
    }
   }
  },
  {
   "cell_type": "code",
   "execution_count": 122,
   "outputs": [
    {
     "data": {
      "text/plain": "(8,)"
     },
     "execution_count": 122,
     "metadata": {},
     "output_type": "execute_result"
    }
   ],
   "source": [
    "H_sig_pi = slide.symb.get_H_sig_pi_(Sig_k)\n",
    "H_sig_pi.shape"
   ],
   "metadata": {
    "collapsed": false,
    "pycharm": {
     "name": "#%%\n"
    }
   }
  },
  {
   "cell_type": "code",
   "execution_count": 123,
   "outputs": [
    {
     "data": {
      "text/plain": "(8,)"
     },
     "execution_count": 123,
     "metadata": {},
     "output_type": "execute_result"
    }
   ],
   "source": [
    "f_k = slide.symb.get_f_(Eps_k, Sig_k, H_sig_pi)\n",
    "f_k.shape"
   ],
   "metadata": {
    "collapsed": false,
    "pycharm": {
     "name": "#%%\n"
    }
   }
  },
  {
   "cell_type": "code",
   "execution_count": 124,
   "outputs": [
    {
     "data": {
      "text/plain": "(8, 1, 8)"
     },
     "execution_count": 124,
     "metadata": {},
     "output_type": "execute_result"
    }
   ],
   "source": [
    "df_dSig_k = slide.symb.get_df_dSig_(Eps_k, Sig_k, H_sig_pi, ZEROS, ONES)\n",
    "df_dSig_k.shape"
   ],
   "metadata": {
    "collapsed": false,
    "pycharm": {
     "name": "#%%\n"
    }
   }
  },
  {
   "cell_type": "code",
   "execution_count": 125,
   "outputs": [
    {
     "data": {
      "text/plain": "(8, 1, 8)"
     },
     "execution_count": 125,
     "metadata": {},
     "output_type": "execute_result"
    }
   ],
   "source": [
    "ddf_dEps_k = slide.symb.get_ddf_dEps_(Eps_k, Sig_k, H_sig_pi, ZEROS, ONES)\n",
    "ddf_dEps_k.shape"
   ],
   "metadata": {
    "collapsed": false,
    "pycharm": {
     "name": "#%%\n"
    }
   }
  },
  {
   "cell_type": "code",
   "execution_count": 126,
   "outputs": [
    {
     "data": {
      "text/plain": "(8, 1, 8)"
     },
     "execution_count": 126,
     "metadata": {},
     "output_type": "execute_result"
    }
   ],
   "source": [
    "df_dEps_k = np.einsum(\n",
    "    'ik...,ji...->jk...', df_dSig_k, dSig_dEps_k) + ddf_dEps_k\n",
    "df_dEps_k.shape"
   ],
   "metadata": {
    "collapsed": false,
    "pycharm": {
     "name": "#%%\n"
    }
   }
  },
  {
   "cell_type": "code",
   "execution_count": 127,
   "outputs": [
    {
     "name": "stdout",
     "output_type": "stream",
     "text": [
      "s_x_n1 float64 (8,)\n",
      "s_y_n1 float64 (8,)\n",
      "w_n1 float64 (8,)\n",
      "Eps_k float64 (8, 8)\n",
      "Sig_k float64 (8, 8)\n",
      "ONES float64\n",
      "ZEROS float64\n",
      "Sig_k float64 (8, 8)\n",
      "dSig_dEps_k float64\n",
      "H_sig_pi float64\n",
      "f_k float64\n",
      "df_dSig_k float64\n",
      "ddf_dEps_k float64\n"
     ]
    },
    {
     "data": {
      "text/plain": "(array([[-0.99, -0.99, -0.99, -0.99, -0.99, -0.99, -0.99, -0.99]]),\n array([[[-5.9801, -5.9801, -5.9801, -5.9801, -5.9801, -5.9801, -5.9801,\n          -5.9801]]]),\n array([[-0., -0., -0., -0., -0., -0., -0., -0.],\n        [-0., -0., -0., -0., -0., -0., -0., -0.],\n        [-0., -0., -0., -0., -0., -0., -0., -0.],\n        [ 0.,  0.,  0.,  0.,  0.,  0.,  0.,  0.],\n        [ 0.,  0.,  0.,  0.,  0.,  0.,  0.,  0.],\n        [ 0.,  0.,  0.,  0.,  0.,  0.,  0.,  0.],\n        [ 0.,  0.,  0.,  0.,  0.,  0.,  0.,  0.],\n        [ 0.,  0.,  0.,  0.,  0.,  0.,  0.,  0.]]))"
     },
     "execution_count": 127,
     "metadata": {},
     "output_type": "execute_result"
    }
   ],
   "source": [
    "slide.get_f_df(s_x_n1, s_y_n1, w_n1, Sig_k, Eps_k)"
   ],
   "metadata": {
    "collapsed": false,
    "pycharm": {
     "name": "#%%\n"
    }
   }
  },
  {
   "cell_type": "code",
   "execution_count": 128,
   "outputs": [
    {
     "data": {
      "text/plain": "array([[0.  , 0.  , 0.  , 0.  , 0.  , 0.  , 0.  , 0.  ],\n       [0.  , 0.  , 0.  , 0.  , 0.  , 0.  , 0.  , 0.  ],\n       [0.99, 0.99, 0.99, 0.99, 0.99, 0.99, 0.99, 0.99],\n       [1.  , 1.  , 1.  , 1.  , 1.  , 1.  , 1.  , 1.  ],\n       [0.  , 0.  , 0.  , 0.  , 0.  , 0.  , 0.  , 0.  ],\n       [0.  , 0.  , 0.  , 0.  , 0.  , 0.  , 0.  , 0.  ],\n       [0.  , 0.  , 0.  , 0.  , 0.  , 0.  , 0.  , 0.  ],\n       [0.  , 0.  , 0.  , 0.  , 0.  , 0.  , 0.  , 0.  ]])"
     },
     "execution_count": 128,
     "metadata": {},
     "output_type": "execute_result"
    }
   ],
   "source": [
    "slide.get_Eps_k1(s_x_n1, s_y_n1, w_n1, Eps_n, ONES, Sig_k, Eps_k)"
   ],
   "metadata": {
    "collapsed": false,
    "pycharm": {
     "name": "#%%\n"
    }
   }
  },
  {
   "cell_type": "code",
   "execution_count": 131,
   "outputs": [
    {
     "name": "stdout",
     "output_type": "stream",
     "text": [
      "s_x_n1 float64 (8,)\n",
      "s_y_n1 float64 (8,)\n",
      "w_n1 float64 (8,)\n",
      "Eps_k float64 (8, 8)\n",
      "Sig_k float64 (8, 8)\n",
      "ONES float64\n",
      "ZEROS float64\n",
      "Sig_k float64 (8, 8)\n",
      "dSig_dEps_k float64\n",
      "H_sig_pi float64\n",
      "f_k float64\n",
      "df_dSig_k float64\n",
      "ddf_dEps_k float64\n",
      "k 0\n",
      "f_k_norm_I [2. 2.] 0.001 2\n",
      "I (array([0, 1]),)\n",
      "L (array([0, 3]),)\n",
      "new L (array([0, 3]),)\n",
      "f_k (2,) float64\n",
      "df_k (2,) float64\n",
      "dlam_I [0.18181653 0.18181653] float64\n",
      "lam_k_L [0.18181653 0.         0.         0.18181653 0.         0.\n",
      " 0.         0.        ] float64 (2,)\n",
      "s_x_n1 float64 (2,)\n",
      "s_y_n1 float64 (2,)\n",
      "w_n1 float64 (2,)\n",
      "Eps_k float64 (8, 2)\n",
      "Sig_k float64 (8, 2)\n",
      "ONES float64\n",
      "ZEROS float64\n",
      "Sig_k float64 (8, 2)\n",
      "dSig_dEps_k float64\n",
      "H_sig_pi float64\n",
      "f_k float64\n",
      "df_dSig_k float64\n",
      "ddf_dEps_k float64\n",
      "Sig_k [[-1.02475905e+00 -0.00000000e+00 -0.00000000e+00 -1.02475905e+00\n",
      "  -0.00000000e+00 -0.00000000e+00 -0.00000000e+00 -0.00000000e+00]\n",
      " [ 0.00000000e+00 -0.00000000e+00 -0.00000000e+00  0.00000000e+00\n",
      "  -0.00000000e+00 -0.00000000e+00 -0.00000000e+00 -0.00000000e+00]\n",
      " [-1.81816529e-03 -0.00000000e+00 -0.00000000e+00 -1.81816529e-03\n",
      "  -0.00000000e+00 -0.00000000e+00 -0.00000000e+00 -0.00000000e+00]\n",
      " [ 9.09082645e-01  0.00000000e+00  0.00000000e+00  9.09082645e-01\n",
      "   0.00000000e+00  0.00000000e+00  0.00000000e+00  0.00000000e+00]\n",
      " [ 9.09082645e-01  0.00000000e+00  0.00000000e+00  9.09082645e-01\n",
      "   0.00000000e+00  0.00000000e+00  0.00000000e+00  0.00000000e+00]\n",
      " [ 0.00000000e+00  0.00000000e+00  0.00000000e+00  0.00000000e+00\n",
      "   0.00000000e+00  0.00000000e+00  0.00000000e+00  0.00000000e+00]\n",
      " [ 3.97107904e+00  0.00000000e+00  0.00000000e+00  3.97107904e+00\n",
      "   0.00000000e+00  0.00000000e+00  0.00000000e+00  0.00000000e+00]\n",
      " [ 0.00000000e+00  0.00000000e+00  0.00000000e+00  0.00000000e+00\n",
      "   0.00000000e+00  0.00000000e+00  0.00000000e+00  0.00000000e+00]]\n",
      "f_k [-6.66133815e-16 -9.90000000e-01 -9.90000000e-01 -6.66133815e-16\n",
      " -9.90000000e-01 -9.90000000e-01 -9.90000000e-01 -9.90000000e-01]\n",
      "k 1\n",
      "f_k_norm_I [6.66133815e-16 6.66133815e-16] 0.001 0\n"
     ]
    },
    {
     "data": {
      "text/plain": "(array([[0.18181653, 0.        , 0.        , 0.18181653, 0.        ,\n         0.        , 0.        , 0.        ],\n        [0.        , 0.        , 0.        , 0.        , 0.        ,\n         0.        , 0.        , 0.        ],\n        [0.00181817, 0.        , 0.        , 0.00181817, 0.        ,\n         0.        , 0.        , 0.        ],\n        [0.18181653, 0.        , 0.        , 0.18181653, 0.        ,\n         0.        , 0.        , 0.        ],\n        [0.18181653, 0.        , 0.        , 0.18181653, 0.        ,\n         0.        , 0.        , 0.        ],\n        [0.        , 0.        , 0.        , 0.        , 0.        ,\n         0.        , 0.        , 0.        ],\n        [1.36362397, 0.        , 0.        , 1.36362397, 0.        ,\n         0.        , 0.        , 0.        ],\n        [0.        , 0.        , 0.        , 0.        , 0.        ,\n         0.        , 0.        , 0.        ]]),\n array([[-1.02475905e+00, -0.00000000e+00, -0.00000000e+00,\n         -1.02475905e+00, -0.00000000e+00, -0.00000000e+00,\n         -0.00000000e+00, -0.00000000e+00],\n        [ 0.00000000e+00, -0.00000000e+00, -0.00000000e+00,\n          0.00000000e+00, -0.00000000e+00, -0.00000000e+00,\n         -0.00000000e+00, -0.00000000e+00],\n        [-1.81816529e-03, -0.00000000e+00, -0.00000000e+00,\n         -1.81816529e-03, -0.00000000e+00, -0.00000000e+00,\n         -0.00000000e+00, -0.00000000e+00],\n        [ 9.09082645e-01,  0.00000000e+00,  0.00000000e+00,\n          9.09082645e-01,  0.00000000e+00,  0.00000000e+00,\n          0.00000000e+00,  0.00000000e+00],\n        [ 9.09082645e-01,  0.00000000e+00,  0.00000000e+00,\n          9.09082645e-01,  0.00000000e+00,  0.00000000e+00,\n          0.00000000e+00,  0.00000000e+00],\n        [ 0.00000000e+00,  0.00000000e+00,  0.00000000e+00,\n          0.00000000e+00,  0.00000000e+00,  0.00000000e+00,\n          0.00000000e+00,  0.00000000e+00],\n        [ 3.97107904e+00,  0.00000000e+00,  0.00000000e+00,\n          3.97107904e+00,  0.00000000e+00,  0.00000000e+00,\n          0.00000000e+00,  0.00000000e+00],\n        [ 0.00000000e+00,  0.00000000e+00,  0.00000000e+00,\n          0.00000000e+00,  0.00000000e+00,  0.00000000e+00,\n          0.00000000e+00,  0.00000000e+00]]),\n 2)"
     },
     "execution_count": 131,
     "metadata": {},
     "output_type": "execute_result"
    }
   ],
   "source": [
    "s_max = 3\n",
    "eps_Ema[3,0] = s_max\n",
    "slide.k_max = 3\n",
    "slide.get_corr_pred(eps_Ema, 1, **state)"
   ],
   "metadata": {
    "collapsed": false,
    "pycharm": {
     "name": "#%%\n"
    }
   }
  },
  {
   "cell_type": "code",
   "execution_count": 130,
   "outputs": [
    {
     "data": {
      "text/plain": "(array([0.18181653, 0.        , 0.00181817, 0.18181653, 0.18181653,\n        0.        , 1.36362397, 0.        ]),\n array([-1.02475905e+00,  0.00000000e+00, -1.81816529e-03,  9.09082645e-01,\n         9.09082645e-01,  0.00000000e+00,  3.97107904e+00,  0.00000000e+00]),\n 2)"
     },
     "execution_count": 130,
     "metadata": {},
     "output_type": "execute_result"
    }
   ],
   "source": [
    "from bmcs_matmod.slide.slide_32 import Slide32\n",
    "Sig_k_32 = np.zeros((8,))\n",
    "Eps_k_32 = np.zeros((8,))\n",
    "slide32 = Slide32(**material_params)\n",
    "slide32.get_sig_n1(s_max,0,0,Sig_k_32, Eps_k_32,3)"
   ],
   "metadata": {
    "collapsed": false,
    "pycharm": {
     "name": "#%%\n"
    }
   }
  },
  {
   "cell_type": "code",
   "execution_count": 25,
   "outputs": [],
   "source": [],
   "metadata": {
    "collapsed": false,
    "pycharm": {
     "name": "#%%\n"
    }
   }
  }
 ],
 "metadata": {
  "kernelspec": {
   "display_name": "Python 3",
   "language": "python",
   "name": "python3"
  },
  "language_info": {
   "codemirror_mode": {
    "name": "ipython",
    "version": 3
   },
   "file_extension": ".py",
   "mimetype": "text/x-python",
   "name": "python",
   "nbconvert_exporter": "python",
   "pygments_lexer": "ipython3",
   "version": "3.9.1"
  },
  "toc": {
   "base_numbering": 1,
   "nav_menu": {},
   "number_sections": true,
   "sideBar": true,
   "skip_h1_title": false,
   "title_cell": "Table of Contents",
   "title_sidebar": "Contents",
   "toc_cell": false,
   "toc_position": {},
   "toc_section_display": true,
   "toc_window_display": false
  }
 },
 "nbformat": 4,
 "nbformat_minor": 4
}