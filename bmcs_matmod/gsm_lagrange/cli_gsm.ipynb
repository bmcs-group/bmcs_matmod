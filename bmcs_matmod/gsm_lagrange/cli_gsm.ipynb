{
 "cells": [
  {
   "cell_type": "code",
   "execution_count": 1,
   "id": "34051c4d",
   "metadata": {},
   "outputs": [],
   "source": [
    "from cli_gsm import GSMDefCLI"
   ]
  },
  {
   "cell_type": "code",
   "execution_count": 2,
   "id": "0cf0f1a7",
   "metadata": {},
   "outputs": [
    {
     "name": "stdout",
     "output_type": "stream",
     "text": [
      "Parameter Specification for GSM1D_VE:\n",
      "==================================================\n",
      "- E: Young's modulus\n",
      "  Type: float\n",
      "  Required: True\n",
      "  Units: MPa\n",
      "  Bounds: (1000.0, 100000.0)\n",
      "\n",
      "- eta_ve: Viscoelastic viscosity\n",
      "  Type: float\n",
      "  Required: True\n",
      "  Units: MPa·s\n",
      "  Bounds: (1.0, 1000.0)\n",
      "\n"
     ]
    }
   ],
   "source": [
    "cli = GSMDefCLI()\n",
    "cli.get_parameter_specification('GSM1D_VE')"
   ]
  },
  {
   "cell_type": "code",
   "execution_count": null,
   "id": "77909dae",
   "metadata": {},
   "outputs": [],
   "source": []
  }
 ],
 "metadata": {
  "kernelspec": {
   "display_name": "bmcs_env2",
   "language": "python",
   "name": "python3"
  },
  "language_info": {
   "codemirror_mode": {
    "name": "ipython",
    "version": 3
   },
   "file_extension": ".py",
   "mimetype": "text/x-python",
   "name": "python",
   "nbconvert_exporter": "python",
   "pygments_lexer": "ipython3",
   "version": "3.10.8"
  }
 },
 "nbformat": 4,
 "nbformat_minor": 5
}
