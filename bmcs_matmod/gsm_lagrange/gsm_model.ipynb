{
 "cells": [
  {
   "cell_type": "markdown",
   "id": "20d1649c",
   "metadata": {},
   "source": [
    "# Generalized Standard Material Model API Demonstration\n",
    "\n",
    "This notebook demonstrates the usage of the `GSMModel` class, which provides a bridge between \n",
    "symbolic material definitions (using `GSMDef`) and executable numerical models with concrete parameter values.\n",
    "\n",
    "We'll use the elastic-damage model (`GSM1D_ED`) as an example to show how simple it is to create, parametrize, and \n",
    "visualize material responses using this framework.\n"
   ]
  },
  {
   "cell_type": "code",
   "execution_count": null,
   "id": "87efa7ef",
   "metadata": {},
   "outputs": [],
   "source": [
    "# Import necessary libraries\n",
    "import numpy as np\n",
    "import matplotlib.pyplot as plt\n",
    "import sympy as sp\n",
    "import traits.api as tr\n",
    "import bmcs_utils.api as bu\n",
    "\n",
    "# Import the GSM framework\n",
    "from bmcs_matmod.gsm_lagrange.gsm_model import GSMModel\n",
    "\n",
    "# Import the specific model we'll use for demonstration\n",
    "from bmcs_matmod.gsm_lagrange.gsm1d_ed import GSM1D_ED\n",
    "\n",
    "# For nicer plot display\n",
    "plt.rcParams['figure.figsize'] = (10, 6)\n",
    "plt.rcParams['font.size'] = 12\n",
    "plt.rcParams['lines.linewidth'] = 2\n",
    "try:\n",
    "    plt.style.use('bmcs')\n",
    "except:\n",
    "    pass\n",
    "\n",
    "# For LaTeX rendering in plots\n",
    "plt.rcParams['text.usetex'] = False\n"
   ]
  },
  {
   "cell_type": "markdown",
   "id": "6c724737",
   "metadata": {},
   "source": [
    "## 1. Examining the Elastic-Damage Model\n",
    "\n",
    "First, let's take a look at the `GSM1D_ED` class to understand its structure. This is a 1D elastic damage model implemented using the GSM framework."
   ]
  },
  {
   "cell_type": "code",
   "execution_count": null,
   "id": "99c6bb45",
   "metadata": {},
   "outputs": [],
   "source": [
    "# Examine the GSM1D_ED class\n",
    "gsm1d_ed = GSM1D_ED()\n",
    "gsm1d_ed.print_potentials()"
   ]
  },
  {
   "cell_type": "markdown",
   "id": "53f005b2",
   "metadata": {},
   "source": [
    "## 2. Creating a Material Model from GSM1D_ED\n",
    "\n",
    "Now, let's use the `GSMModel` class to create an executable model with specific parameter values. The `GSMModel` class automatically:\n",
    "\n",
    "1. Analyzes the symbolic model structure\n",
    "2. Creates traits for all parameters  \n",
    "3. Provides methods for numerical simulation\n",
    "\n",
    "This allows us to work with material models in a more intuitive way, defining parameter values directly and running simulations without managing the symbolic-to-numerical conversion manually.\n"
   ]
  },
  {
   "cell_type": "code",
   "execution_count": null,
   "id": "183a3660",
   "metadata": {},
   "outputs": [],
   "source": [
    "# Create a material model from the GSM1D_ED symbolic model\n",
    "ed_material = GSMModel(GSM1D_ED)\n",
    "\n",
    "# View the default parameters\n",
    "print(\"Default parameters:\")\n",
    "for param_sym, name in ed_material.trait_model_params.items():\n",
    "    value = getattr(ed_material, name)\n",
    "    print(f\"  {name} = {value} ({param_sym})\")\n",
    "\n",
    "print(\"\\n\" + \"-\"*50 + \"\\n\")\n",
    "\n",
    "# Set parameters to customize the model using set_params\n",
    "ed_material.set_params(\n",
    "    E=20000.0,    # Young's modulus (MPa)\n",
    "    S=1,          # Damage threshold strain\n",
    "    c=1,          # ratio\n",
    "    eps_0=0.0     # Initial inelastic strain\n",
    ")\n",
    "\n",
    "# View the updated parameters\n",
    "print(\"Updated parameters:\")\n",
    "for param_sym, name in ed_material.trait_model_params.items():\n",
    "    value = getattr(ed_material, name)\n",
    "    print(f\"  {name} = {value} ({param_sym})\")\n",
    "\n",
    "print(\"\\n\" + \"-\"*50 + \"\\n\")"
   ]
  },
  {
   "cell_type": "markdown",
   "id": "f8ecc04f",
   "metadata": {},
   "source": [
    "## 3. Monotonic Tension Test\n",
    "\n",
    "Let's simulate a monotonic tension test to see how our material behaves. This will demonstrate the strain-softening behavior characteristic of damage mechanics."
   ]
  },
  {
   "cell_type": "code",
   "execution_count": null,
   "id": "4ad6e9be",
   "metadata": {},
   "outputs": [],
   "source": [
    "# Define a monotonic tensile strain history\n",
    "n_steps = 1000\n",
    "strain_max = 0.13  # Maximum strain\n",
    "strain = np.linspace(0, strain_max, n_steps)\n",
    "time = np.linspace(0, 1.0, n_steps)\n",
    "\n",
    "# Run the simulation with our material model\n",
    "# Using the standard get_F_response method which handles the correct parameter preparation\n",
    "response = ed_material.get_F_response(strain, time)\n",
    "\n",
    "# Unpack the results\n",
    "t_t, eps_ta, sig_ta, Eps_t, Sig_t, iter_t, lam_t, (d_t_t, d_eps_ta) = response\n",
    "\n",
    "# Extract and reshape for easier plotting\n",
    "eps = eps_ta[:, 0]\n",
    "sig = sig_ta[:, 0]\n",
    "omega = Eps_t[:, 0, 0]  # First internal variable (damage variable)"
   ]
  },
  {
   "cell_type": "code",
   "execution_count": null,
   "id": "f7f6373c",
   "metadata": {},
   "outputs": [],
   "source": [
    "Eps_t.shape"
   ]
  },
  {
   "cell_type": "code",
   "execution_count": null,
   "id": "3e7ebad6",
   "metadata": {},
   "outputs": [],
   "source": [
    "# Plot the stress-strain curve\n",
    "fig, (ax1, ax2) = plt.subplots(1, 2, figsize=(16, 6))\n",
    "\n",
    "# Stress-strain curve\n",
    "ax1.plot(eps, sig, 'b-', linewidth=2)\n",
    "ax1.set_xlabel('Strain $\\\\varepsilon$')\n",
    "ax1.set_ylabel('Stress $\\\\sigma$ (MPa)')\n",
    "ax1.set_title('Stress-Strain Curve (Tensile Test)')\n",
    "ax1.grid(True)\n",
    "\n",
    "# Evolution of internal variable (kappa - damage)\n",
    "ax2.plot(eps, omega, 'g-', linewidth=2)\n",
    "ax2.set_xlabel('Strain $\\\\varepsilon$')\n",
    "ax2.set_ylabel('Internal variable $\\\\kappa$')\n",
    "ax2.set_title('Evolution of Damage Variable')\n",
    "ax2.grid(True)\n",
    "\n",
    "plt.tight_layout()"
   ]
  },
  {
   "cell_type": "code",
   "execution_count": null,
   "id": "d7d85e30",
   "metadata": {},
   "outputs": [],
   "source": []
  }
 ],
 "metadata": {
  "kernelspec": {
   "display_name": "bmcs_env2",
   "language": "python",
   "name": "python3"
  },
  "language_info": {
   "codemirror_mode": {
    "name": "ipython",
    "version": 3
   },
   "file_extension": ".py",
   "mimetype": "text/x-python",
   "name": "python",
   "nbconvert_exporter": "python",
   "pygments_lexer": "ipython3"
  }
 },
 "nbformat": 4,
 "nbformat_minor": 5
}
