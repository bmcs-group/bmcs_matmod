{
 "cells": [
  {
   "cell_type": "markdown",
   "id": "2a68c082",
   "metadata": {},
   "source": [
    "# GSM CLI Jupyter Integration Examples\n",
    "\n",
    "This notebook demonstrates how to use the GSM CLI interface from within Jupyter for:\n",
    "- Dynamic parameter specification retrieval\n",
    "- Interactive parameter validation\n",
    "- Simulation execution and result visualization\n",
    "- Network communication with remote GSM servers\n",
    "\n",
    "## Features Demonstrated\n",
    "\n",
    "1. **Dynamic Parameter Discovery**: Retrieve parameter specifications for different GSM models\n",
    "2. **Interactive Validation**: Use widgets for parameter input and real-time validation\n",
    "3. **Simulation Execution**: Run simulations and visualize results\n",
    "4. **Network Integration**: Connect to remote GSM servers for distributed computing\n",
    "5. **Batch Processing**: Execute multiple simulations with parameter variations\n",
    "\n",
    "## Requirements\n",
    "\n",
    "```bash\n",
    "pip install ipywidgets matplotlib plotly requests\n",
    "```"
   ]
  },
  {
   "cell_type": "code",
   "execution_count": 1,
   "id": "6ac02b12",
   "metadata": {},
   "outputs": [
    {
     "name": "stdout",
     "output_type": "stream",
     "text": [
      "Current directory: /home/rch/Coding/bmcs_matmod/bmcs_matmod/gsm_lagrange/examples\n",
      "CLI path: /home/rch/Coding/bmcs_matmod/bmcs_matmod/gsm_lagrange/cli_gsm.py\n",
      "Examples directory: /home/rch/Coding/bmcs_matmod/bmcs_matmod/gsm_lagrange/examples\n",
      "Widgets available: True\n",
      "Plotly available: True\n"
     ]
    }
   ],
   "source": [
    "# Import Required Libraries\n",
    "import os\n",
    "import sys\n",
    "import subprocess\n",
    "import json\n",
    "import numpy as np\n",
    "import matplotlib.pyplot as plt\n",
    "import pandas as pd\n",
    "from pathlib import Path\n",
    "import requests\n",
    "import time\n",
    "from typing import Dict, List, Any, Optional\n",
    "\n",
    "# Widget imports for interactive elements\n",
    "try:\n",
    "    import ipywidgets as widgets\n",
    "    from IPython.display import display, HTML, JSON\n",
    "    WIDGETS_AVAILABLE = True\n",
    "except ImportError:\n",
    "    print(\"Warning: ipywidgets not available. Install with: pip install ipywidgets\")\n",
    "    WIDGETS_AVAILABLE = False\n",
    "\n",
    "# Plotting imports\n",
    "try:\n",
    "    import plotly.graph_objects as go\n",
    "    import plotly.express as px\n",
    "    from plotly.subplots import make_subplots\n",
    "    PLOTLY_AVAILABLE = True\n",
    "except ImportError:\n",
    "    print(\"Warning: plotly not available. Install with: pip install plotly\")\n",
    "    PLOTLY_AVAILABLE = False\n",
    "\n",
    "# Set up paths\n",
    "CURRENT_DIR = Path.cwd()\n",
    "CLI_PATH = CURRENT_DIR.parent / \"cli_gsm.py\"\n",
    "EXAMPLES_DIR = CURRENT_DIR\n",
    "\n",
    "print(f\"Current directory: {CURRENT_DIR}\")\n",
    "print(f\"CLI path: {CLI_PATH}\")\n",
    "print(f\"Examples directory: {EXAMPLES_DIR}\")\n",
    "print(f\"Widgets available: {WIDGETS_AVAILABLE}\")\n",
    "print(f\"Plotly available: {PLOTLY_AVAILABLE}\")"
   ]
  },
  {
   "cell_type": "code",
   "execution_count": 2,
   "id": "7c4316fd",
   "metadata": {},
   "outputs": [
    {
     "name": "stdout",
     "output_type": "stream",
     "text": [
      "GSM Jupyter Interface initialized\n"
     ]
    }
   ],
   "source": [
    "# GSM CLI Helper Class for Jupyter Integration\n",
    "\n",
    "class GSMJupyterInterface:\n",
    "    \"\"\"Helper class for GSM CLI integration in Jupyter notebooks\"\"\"\n",
    "    \n",
    "    def __init__(self, cli_path: str = \"../cli_gsm.py\"):\n",
    "        self.cli_path = cli_path\n",
    "        self.server_url = \"http://localhost:8888\"\n",
    "        \n",
    "    def run_cli_command(self, args: List[str], timeout: int = 30) -> Dict[str, Any]:\n",
    "        \"\"\"Run a CLI command and return the result\"\"\"\n",
    "        try:\n",
    "            cmd = [\"python\", self.cli_path] + args\n",
    "            result = subprocess.run(cmd, capture_output=True, text=True, timeout=timeout)\n",
    "            \n",
    "            if result.returncode == 0:\n",
    "                try:\n",
    "                    # Try to parse JSON output\n",
    "                    return json.loads(result.stdout)\n",
    "                except json.JSONDecodeError:\n",
    "                    # Return raw text if not JSON\n",
    "                    return {\"status\": \"success\", \"output\": result.stdout}\n",
    "            else:\n",
    "                return {\"status\": \"error\", \"error\": result.stderr}\n",
    "                \n",
    "        except subprocess.TimeoutExpired:\n",
    "            return {\"status\": \"error\", \"error\": \"Command timeout\"}\n",
    "        except Exception as e:\n",
    "            return {\"status\": \"error\", \"error\": str(e)}\n",
    "    \n",
    "    def list_models(self) -> Dict[str, Any]:\n",
    "        \"\"\"Get list of available models\"\"\"\n",
    "        return self.run_cli_command([\"--list-models\", \"--json-output\"])\n",
    "    \n",
    "    def get_parameter_spec(self, model_name: str) -> Dict[str, Any]:\n",
    "        \"\"\"Get parameter specification for a model\"\"\"\n",
    "        return self.run_cli_command([\"--get-param-spec\", model_name, \"--json-output\"])\n",
    "    \n",
    "    def validate_parameters(self, model: str, formulation: str, \n",
    "                          parameters: Dict, loading: Dict) -> Dict[str, Any]:\n",
    "        \"\"\"Validate parameters\"\"\"\n",
    "        params_json = json.dumps(parameters)\n",
    "        loading_json = json.dumps(loading)\n",
    "        \n",
    "        return self.run_cli_command([\n",
    "            \"--model\", model,\n",
    "            \"--formulation\", formulation,\n",
    "            \"--params-inline\", params_json,\n",
    "            \"--loading-inline\", loading_json,\n",
    "            \"--validate-only\",\n",
    "            \"--json-output\"\n",
    "        ])\n",
    "    \n",
    "    def execute_simulation(self, model: str, formulation: str,\n",
    "                          parameters: Dict, loading: Dict, \n",
    "                          config: Dict = None) -> Dict[str, Any]:\n",
    "        \"\"\"Execute a simulation\"\"\"\n",
    "        params_json = json.dumps(parameters)\n",
    "        loading_json = json.dumps(loading)\n",
    "        \n",
    "        args = [\n",
    "            \"--model\", model,\n",
    "            \"--formulation\", formulation,\n",
    "            \"--params-inline\", params_json,\n",
    "            \"--loading-inline\", loading_json,\n",
    "            \"--json-output\"\n",
    "        ]\n",
    "        \n",
    "        if config:\n",
    "            config_json = json.dumps(config)\n",
    "            args.extend([\"--config-inline\", config_json])\n",
    "        \n",
    "        return self.run_cli_command(args)\n",
    "\n",
    "# Initialize the interface\n",
    "gsm = GSMJupyterInterface()\n",
    "print(\"GSM Jupyter Interface initialized\")"
   ]
  },
  {
   "cell_type": "markdown",
   "id": "0733073c",
   "metadata": {},
   "source": [
    "## 1. Dynamic Model Discovery\n",
    "\n",
    "Let's start by discovering what GSM models are available and examining their parameter specifications."
   ]
  },
  {
   "cell_type": "code",
   "execution_count": 3,
   "id": "46ade651",
   "metadata": {},
   "outputs": [
    {
     "name": "stdout",
     "output_type": "stream",
     "text": [
      "Available GSM Models:\n",
      "==================================================\n"
     ]
    },
    {
     "data": {
      "text/html": [
       "<div>\n",
       "<style scoped>\n",
       "    .dataframe tbody tr th:only-of-type {\n",
       "        vertical-align: middle;\n",
       "    }\n",
       "\n",
       "    .dataframe tbody tr th {\n",
       "        vertical-align: top;\n",
       "    }\n",
       "\n",
       "    .dataframe thead th {\n",
       "        text-align: right;\n",
       "    }\n",
       "</style>\n",
       "<table border=\"1\" class=\"dataframe\">\n",
       "  <thead>\n",
       "    <tr style=\"text-align: right;\">\n",
       "      <th></th>\n",
       "      <th>Model</th>\n",
       "      <th>Mechanism</th>\n",
       "      <th>Description</th>\n",
       "    </tr>\n",
       "  </thead>\n",
       "  <tbody>\n",
       "    <tr>\n",
       "      <th>0</th>\n",
       "      <td>GSM1D_ED</td>\n",
       "      <td>ED</td>\n",
       "      <td>Elasto-Damage Model</td>\n",
       "    </tr>\n",
       "    <tr>\n",
       "      <th>1</th>\n",
       "      <td>GSM1D_EP</td>\n",
       "      <td>EP</td>\n",
       "      <td>Elasto-Plastic Model</td>\n",
       "    </tr>\n",
       "    <tr>\n",
       "      <th>2</th>\n",
       "      <td>GSM1D_EPD</td>\n",
       "      <td>EPD</td>\n",
       "      <td>Elasto-Plastic-Damage Model</td>\n",
       "    </tr>\n",
       "    <tr>\n",
       "      <th>3</th>\n",
       "      <td>GSM1D_EVP</td>\n",
       "      <td>EVP</td>\n",
       "      <td>Elasto-Visco-Plastic Model</td>\n",
       "    </tr>\n",
       "    <tr>\n",
       "      <th>4</th>\n",
       "      <td>GSM1D_EVPD</td>\n",
       "      <td>EVPD</td>\n",
       "      <td>Elasto-Visco-Plastic-Damage Model</td>\n",
       "    </tr>\n",
       "    <tr>\n",
       "      <th>5</th>\n",
       "      <td>GSM1D_VE</td>\n",
       "      <td>VE</td>\n",
       "      <td>Visco-Elastic Model</td>\n",
       "    </tr>\n",
       "    <tr>\n",
       "      <th>6</th>\n",
       "      <td>GSM1D_VED</td>\n",
       "      <td>VED</td>\n",
       "      <td>Visco-Elasto-Damage Model</td>\n",
       "    </tr>\n",
       "    <tr>\n",
       "      <th>7</th>\n",
       "      <td>GSM1D_VEVP</td>\n",
       "      <td>VEVP</td>\n",
       "      <td>Visco-Elasto-Visco-Plastic Model</td>\n",
       "    </tr>\n",
       "    <tr>\n",
       "      <th>8</th>\n",
       "      <td>GSM1D_VEVPD</td>\n",
       "      <td>VEVPD</td>\n",
       "      <td>Visco-Elasto-Visco-Plastic-Damage Model</td>\n",
       "    </tr>\n",
       "  </tbody>\n",
       "</table>\n",
       "</div>"
      ],
      "text/plain": [
       "         Model Mechanism                              Description\n",
       "0     GSM1D_ED        ED                      Elasto-Damage Model\n",
       "1     GSM1D_EP        EP                     Elasto-Plastic Model\n",
       "2    GSM1D_EPD       EPD              Elasto-Plastic-Damage Model\n",
       "3    GSM1D_EVP       EVP               Elasto-Visco-Plastic Model\n",
       "4   GSM1D_EVPD      EVPD        Elasto-Visco-Plastic-Damage Model\n",
       "5     GSM1D_VE        VE                      Visco-Elastic Model\n",
       "6    GSM1D_VED       VED                Visco-Elasto-Damage Model\n",
       "7   GSM1D_VEVP      VEVP         Visco-Elasto-Visco-Plastic Model\n",
       "8  GSM1D_VEVPD     VEVPD  Visco-Elasto-Visco-Plastic-Damage Model"
      ]
     },
     "metadata": {},
     "output_type": "display_data"
    },
    {
     "name": "stdout",
     "output_type": "stream",
     "text": [
      "\n",
      "Found 9 models: GSM1D_ED, GSM1D_EP, GSM1D_EPD, GSM1D_EVP, GSM1D_EVPD, GSM1D_VE, GSM1D_VED, GSM1D_VEVP, GSM1D_VEVPD\n"
     ]
    }
   ],
   "source": [
    "# Discover available GSM models\n",
    "models_result = gsm.list_models()\n",
    "\n",
    "if models_result[\"status\"] == \"success\":\n",
    "    print(\"Available GSM Models:\")\n",
    "    print(\"=\" * 50)\n",
    "    \n",
    "    # Create a DataFrame for better display\n",
    "    model_data = []\n",
    "    for model in models_result.get(\"models\", []):\n",
    "        if isinstance(model, dict):\n",
    "            model_data.append({\n",
    "                \"Model\": model.get(\"name\", \"Unknown\"),\n",
    "                \"Mechanism\": model.get(\"mechanism\", \"Unknown\"),\n",
    "                \"Description\": model.get(\"description\", \"No description\")\n",
    "            })\n",
    "        else:\n",
    "            model_data.append({\n",
    "                \"Model\": model,\n",
    "                \"Mechanism\": model.replace(\"GSM1D_\", \"\") if model.startswith(\"GSM1D_\") else \"Unknown\",\n",
    "                \"Description\": \"Available model\"\n",
    "            })\n",
    "    \n",
    "    if model_data:\n",
    "        df_models = pd.DataFrame(model_data)\n",
    "        display(df_models)\n",
    "        \n",
    "        # Store model names for later use\n",
    "        available_models = [row[\"Model\"] for row in model_data]\n",
    "        print(f\"\\nFound {len(available_models)} models: {', '.join(available_models)}\")\n",
    "    else:\n",
    "        print(\"No models found in the response\")\n",
    "        available_models = []\n",
    "        \n",
    "else:\n",
    "    print(f\"Error retrieving models: {models_result.get('error', 'Unknown error')}\")\n",
    "    available_models = []"
   ]
  },
  {
   "cell_type": "markdown",
   "id": "741a1e8d",
   "metadata": {},
   "source": [
    "## 2. Parameter Specification Exploration\n",
    "\n",
    "Now let's examine the parameter specifications for different models. This is crucial for understanding what parameters each model requires and their valid ranges."
   ]
  },
  {
   "cell_type": "code",
   "execution_count": 4,
   "id": "19b3b54b",
   "metadata": {},
   "outputs": [
    {
     "name": "stdout",
     "output_type": "stream",
     "text": [
      "\n",
      "============================================================\n",
      "Parameter Specification for GSM1D_ED\n",
      "============================================================\n",
      "Model: GSM1D_ED\n",
      "Parameters (0):\n",
      "Model: GSM1D_ED\n",
      "Parameters (0):\n"
     ]
    },
    {
     "data": {
      "text/html": [
       "<div>\n",
       "<style scoped>\n",
       "    .dataframe tbody tr th:only-of-type {\n",
       "        vertical-align: middle;\n",
       "    }\n",
       "\n",
       "    .dataframe tbody tr th {\n",
       "        vertical-align: top;\n",
       "    }\n",
       "\n",
       "    .dataframe thead th {\n",
       "        text-align: right;\n",
       "    }\n",
       "</style>\n",
       "<table border=\"1\" class=\"dataframe\">\n",
       "  <thead>\n",
       "    <tr style=\"text-align: right;\">\n",
       "      <th></th>\n",
       "    </tr>\n",
       "  </thead>\n",
       "  <tbody>\n",
       "  </tbody>\n",
       "</table>\n",
       "</div>"
      ],
      "text/plain": [
       "Empty DataFrame\n",
       "Columns: []\n",
       "Index: []"
      ]
     },
     "metadata": {},
     "output_type": "display_data"
    },
    {
     "name": "stdout",
     "output_type": "stream",
     "text": [
      "\n",
      "============================================================\n",
      "Parameter Specification for GSM1D_EP\n",
      "============================================================\n",
      "Model: GSM1D_EP\n",
      "Parameters (0):\n",
      "Model: GSM1D_EP\n",
      "Parameters (0):\n"
     ]
    },
    {
     "data": {
      "text/html": [
       "<div>\n",
       "<style scoped>\n",
       "    .dataframe tbody tr th:only-of-type {\n",
       "        vertical-align: middle;\n",
       "    }\n",
       "\n",
       "    .dataframe tbody tr th {\n",
       "        vertical-align: top;\n",
       "    }\n",
       "\n",
       "    .dataframe thead th {\n",
       "        text-align: right;\n",
       "    }\n",
       "</style>\n",
       "<table border=\"1\" class=\"dataframe\">\n",
       "  <thead>\n",
       "    <tr style=\"text-align: right;\">\n",
       "      <th></th>\n",
       "    </tr>\n",
       "  </thead>\n",
       "  <tbody>\n",
       "  </tbody>\n",
       "</table>\n",
       "</div>"
      ],
      "text/plain": [
       "Empty DataFrame\n",
       "Columns: []\n",
       "Index: []"
      ]
     },
     "metadata": {},
     "output_type": "display_data"
    },
    {
     "name": "stdout",
     "output_type": "stream",
     "text": [
      "\n",
      "============================================================\n",
      "Parameter Specification for GSM1D_VE\n",
      "============================================================\n",
      "Model: GSM1D_VE\n",
      "Parameters (0):\n",
      "Model: GSM1D_VE\n",
      "Parameters (0):\n"
     ]
    },
    {
     "data": {
      "text/html": [
       "<div>\n",
       "<style scoped>\n",
       "    .dataframe tbody tr th:only-of-type {\n",
       "        vertical-align: middle;\n",
       "    }\n",
       "\n",
       "    .dataframe tbody tr th {\n",
       "        vertical-align: top;\n",
       "    }\n",
       "\n",
       "    .dataframe thead th {\n",
       "        text-align: right;\n",
       "    }\n",
       "</style>\n",
       "<table border=\"1\" class=\"dataframe\">\n",
       "  <thead>\n",
       "    <tr style=\"text-align: right;\">\n",
       "      <th></th>\n",
       "    </tr>\n",
       "  </thead>\n",
       "  <tbody>\n",
       "  </tbody>\n",
       "</table>\n",
       "</div>"
      ],
      "text/plain": [
       "Empty DataFrame\n",
       "Columns: []\n",
       "Index: []"
      ]
     },
     "metadata": {},
     "output_type": "display_data"
    },
    {
     "name": "stdout",
     "output_type": "stream",
     "text": [
      "\n",
      "Parameter specifications retrieved for 3 models\n"
     ]
    }
   ],
   "source": [
    "# Explore parameter specifications for key models\n",
    "key_models = [\"GSM1D_ED\", \"GSM1D_EP\", \"GSM1D_VE\"] if available_models else []\n",
    "\n",
    "parameter_specs = {}\n",
    "\n",
    "for model in key_models:\n",
    "    if model in available_models:\n",
    "        print(f\"\\n{'='*60}\")\n",
    "        print(f\"Parameter Specification for {model}\")\n",
    "        print(f\"{'='*60}\")\n",
    "        \n",
    "        spec_result = gsm.get_parameter_spec(model)\n",
    "        \n",
    "        if spec_result[\"status\"] == \"success\":\n",
    "            spec = spec_result[\"specification\"]\n",
    "            parameter_specs[model] = spec\n",
    "            \n",
    "            print(f\"Model: {spec['model_name']}\")\n",
    "            print(f\"Parameters ({len(spec['parameters'])}):\")\n",
    "            \n",
    "            # Create parameter table\n",
    "            param_data = []\n",
    "            for param_name, param_info in spec[\"parameters\"].items():\n",
    "                desc = spec[\"parameter_descriptions\"].get(param_name, \"No description\")\n",
    "                bounds = spec[\"parameter_bounds\"].get(param_name, \"No bounds\")\n",
    "                units = spec[\"parameter_units\"].get(param_name, \"-\")\n",
    "                \n",
    "                param_data.append({\n",
    "                    \"Parameter\": param_name,\n",
    "                    \"Description\": desc,\n",
    "                    \"Type\": param_info[\"type\"],\n",
    "                    \"Required\": param_info[\"required\"],\n",
    "                    \"Units\": units,\n",
    "                    \"Bounds\": str(bounds)\n",
    "                })\n",
    "            \n",
    "            df_params = pd.DataFrame(param_data)\n",
    "            display(df_params)\n",
    "            \n",
    "        else:\n",
    "            print(f\"Error getting specification: {spec_result.get('error', 'Unknown error')}\")\n",
    "\n",
    "print(f\"\\nParameter specifications retrieved for {len(parameter_specs)} models\")"
   ]
  },
  {
   "cell_type": "markdown",
   "id": "5cc1a931",
   "metadata": {},
   "source": [
    "## 3. Interactive Parameter Validation\n",
    "\n",
    "Let's create an interactive interface for parameter validation using widgets (if available). This allows real-time validation as parameters are adjusted."
   ]
  },
  {
   "cell_type": "code",
   "execution_count": 5,
   "id": "26a01986",
   "metadata": {},
   "outputs": [
    {
     "data": {
      "application/vnd.jupyter.widget-view+json": {
       "model_id": "db8b599d53024a678e365c5dfd925686",
       "version_major": 2,
       "version_minor": 0
      },
      "text/plain": [
       "VBox(children=(HTML(value='<h3>Interactive Parameter Validation</h3>'), HBox(children=(Dropdown(description='M…"
      ]
     },
     "metadata": {},
     "output_type": "display_data"
    }
   ],
   "source": [
    "# Interactive Parameter Validation Widget\n",
    "\n",
    "if WIDGETS_AVAILABLE and parameter_specs:\n",
    "    \n",
    "    class ParameterValidator:\n",
    "        def __init__(self, gsm_interface, model_specs):\n",
    "            self.gsm = gsm_interface\n",
    "            self.specs = model_specs\n",
    "            self.widgets = {}\n",
    "            self.output = widgets.Output()\n",
    "            \n",
    "        def create_parameter_widgets(self, model_name):\n",
    "            \"\"\"Create widgets for model parameters\"\"\"\n",
    "            if model_name not in self.specs:\n",
    "                return []\n",
    "            \n",
    "            spec = self.specs[model_name]\n",
    "            widget_list = []\n",
    "            \n",
    "            for param_name, param_info in spec[\"parameters\"].items():\n",
    "                bounds = spec[\"parameter_bounds\"].get(param_name, (0, 100))\n",
    "                default_val = bounds[0] + (bounds[1] - bounds[0]) * 0.5 if isinstance(bounds, tuple) else 1.0\n",
    "                \n",
    "                widget = widgets.FloatSlider(\n",
    "                    value=default_val,\n",
    "                    min=bounds[0] if isinstance(bounds, tuple) else 0,\n",
    "                    max=bounds[1] if isinstance(bounds, tuple) else 100,\n",
    "                    step=0.1,\n",
    "                    description=param_name,\n",
    "                    style={'description_width': 'initial'},\n",
    "                    layout=widgets.Layout(width='400px')\n",
    "                )\n",
    "                \n",
    "                widget_list.append(widget)\n",
    "                self.widgets[param_name] = widget\n",
    "                \n",
    "            return widget_list\n",
    "        \n",
    "        def validate_current_parameters(self, model_name, formulation=\"F\"):\n",
    "            \"\"\"Validate current parameter values\"\"\"\n",
    "            if model_name not in self.specs:\n",
    "                return\n",
    "                \n",
    "            parameters = {name: widget.value for name, widget in self.widgets.items()}\n",
    "            \n",
    "            # Simple loading for validation\n",
    "            loading = {\n",
    "                \"time_array\": [0.0, 0.5, 1.0],\n",
    "                \"strain_history\": [0.0, 0.005, 0.01],\n",
    "                \"loading_type\": \"strain_controlled\"\n",
    "            }\n",
    "            \n",
    "            result = self.gsm.validate_parameters(model_name, formulation, parameters, loading)\n",
    "            \n",
    "            with self.output:\n",
    "                self.output.clear_output()\n",
    "                print(f\"Validation for {model_name}:\")\n",
    "                print(\"-\" * 40)\n",
    "                \n",
    "                if result[\"status\"] == \"validation_complete\":\n",
    "                    if result[\"valid\"]:\n",
    "                        print(\"✅ Parameters are VALID\")\n",
    "                        print(f\"Parameters: {parameters}\")\n",
    "                    else:\n",
    "                        print(\"❌ Parameters are INVALID\")\n",
    "                        if \"errors\" in result:\n",
    "                            print(\"Errors:\")\n",
    "                            for error in result[\"errors\"]:\n",
    "                                print(f\"  - {error}\")\n",
    "                else:\n",
    "                    print(f\"Validation error: {result.get('error', 'Unknown error')}\")\n",
    "    \n",
    "    # Create validator instance\n",
    "    validator = ParameterValidator(gsm, parameter_specs)\n",
    "    \n",
    "    # Model selection widget\n",
    "    model_dropdown = widgets.Dropdown(\n",
    "        options=list(parameter_specs.keys()),\n",
    "        value=list(parameter_specs.keys())[0] if parameter_specs else None,\n",
    "        description='Model:',\n",
    "        style={'description_width': 'initial'}\n",
    "    )\n",
    "    \n",
    "    # Formulation selection\n",
    "    formulation_dropdown = widgets.Dropdown(\n",
    "        options=['F', 'G', 'Helmholtz', 'Gibbs'],\n",
    "        value='F',\n",
    "        description='Formulation:',\n",
    "        style={'description_width': 'initial'}\n",
    "    )\n",
    "    \n",
    "    # Create parameter widgets for initial model\n",
    "    if parameter_specs:\n",
    "        initial_model = list(parameter_specs.keys())[0]\n",
    "        param_widgets = validator.create_parameter_widgets(initial_model)\n",
    "        \n",
    "        # Validate button\n",
    "        validate_button = widgets.Button(\n",
    "            description='Validate Parameters',\n",
    "            button_style='primary',\n",
    "            layout=widgets.Layout(width='200px')\n",
    "        )\n",
    "        \n",
    "        def on_validate_click(b):\n",
    "            validator.validate_current_parameters(\n",
    "                model_dropdown.value, \n",
    "                formulation_dropdown.value\n",
    "            )\n",
    "        \n",
    "        def on_model_change(change):\n",
    "            # Recreate parameter widgets for new model\n",
    "            new_widgets = validator.create_parameter_widgets(change['new'])\n",
    "            param_container.children = new_widgets\n",
    "        \n",
    "        validate_button.on_click(on_validate_click)\n",
    "        model_dropdown.observe(on_model_change, names='value')\n",
    "        \n",
    "        # Layout\n",
    "        param_container = widgets.VBox(param_widgets)\n",
    "        controls = widgets.HBox([model_dropdown, formulation_dropdown, validate_button])\n",
    "        \n",
    "        ui = widgets.VBox([\n",
    "            widgets.HTML(\"<h3>Interactive Parameter Validation</h3>\"),\n",
    "            controls,\n",
    "            param_container,\n",
    "            validator.output\n",
    "        ])\n",
    "        \n",
    "        display(ui)\n",
    "        \n",
    "        # Initial validation\n",
    "        validator.validate_current_parameters(initial_model)\n",
    "        \n",
    "else:\n",
    "    print(\"Interactive widgets not available or no parameter specifications loaded.\")\n",
    "    print(\"You can still validate parameters manually:\")\n",
    "    \n",
    "    # Manual validation example\n",
    "    if available_models:\n",
    "        example_model = available_models[0]\n",
    "        example_params = {\n",
    "            \"E\": 30000.0,\n",
    "            \"S\": 1.0,\n",
    "            \"c\": 2.0,\n",
    "            \"r\": 0.5,\n",
    "            \"eps_0\": 0.001\n",
    "        }\n",
    "        \n",
    "        example_loading = {\n",
    "            \"time_array\": [0.0, 0.5, 1.0],\n",
    "            \"strain_history\": [0.0, 0.005, 0.01],\n",
    "            \"loading_type\": \"strain_controlled\"\n",
    "        }\n",
    "        \n",
    "        validation_result = gsm.validate_parameters(example_model, \"F\", example_params, example_loading)\n",
    "        print(f\"\\nExample validation for {example_model}:\")\n",
    "        print(json.dumps(validation_result, indent=2))"
   ]
  },
  {
   "cell_type": "markdown",
   "id": "3054e10f",
   "metadata": {},
   "source": [
    "## 4. Simulation Execution and Visualization\n",
    "\n",
    "Now let's execute some simulations and visualize the results. We'll compare different material models and loading scenarios."
   ]
  },
  {
   "cell_type": "code",
   "execution_count": 6,
   "id": "dbbc9747",
   "metadata": {},
   "outputs": [
    {
     "name": "stdout",
     "output_type": "stream",
     "text": [
      "Executing simulations...\n",
      "==================================================\n",
      "\n",
      "1. Running GSM1D_ED_Monotonic...\n",
      "   ✅ Completed in 9.478s\n",
      "\n",
      "2. Running GSM1D_ED_LoadUnload...\n",
      "   ✅ Completed in 9.478s\n",
      "\n",
      "2. Running GSM1D_ED_LoadUnload...\n",
      "   ✅ Completed in 9.405s\n",
      "\n",
      "3. Running GSM1D_EP_Monotonic...\n",
      "   ✅ Completed in 9.405s\n",
      "\n",
      "3. Running GSM1D_EP_Monotonic...\n",
      "   ✅ Completed in 9.605s\n",
      "\n",
      "Completed 3 successful simulations out of 3 total\n",
      "   ✅ Completed in 9.605s\n",
      "\n",
      "Completed 3 successful simulations out of 3 total\n"
     ]
    }
   ],
   "source": [
    "# Execute simulations with different models and parameters\n",
    "\n",
    "def create_loading_scenario(scenario_type=\"monotonic\", max_strain=0.01, n_steps=11):\n",
    "    \"\"\"Create different loading scenarios\"\"\"\n",
    "    time_array = np.linspace(0, 1.0, n_steps)\n",
    "    \n",
    "    if scenario_type == \"monotonic\":\n",
    "        strain_history = np.linspace(0, max_strain, n_steps)\n",
    "    elif scenario_type == \"cyclic\":\n",
    "        # Simple tension-compression cycle\n",
    "        strain_history = max_strain * np.sin(2 * np.pi * time_array)\n",
    "    elif scenario_type == \"loading_unloading\":\n",
    "        # Load to max, then unload\n",
    "        mid_point = n_steps // 2\n",
    "        strain_history = np.concatenate([\n",
    "            np.linspace(0, max_strain, mid_point),\n",
    "            np.linspace(max_strain, 0, n_steps - mid_point)\n",
    "        ])\n",
    "    else:\n",
    "        strain_history = np.linspace(0, max_strain, n_steps)\n",
    "    \n",
    "    return {\n",
    "        \"time_array\": time_array.tolist(),\n",
    "        \"strain_history\": strain_history.tolist(),\n",
    "        \"loading_type\": \"strain_controlled\"\n",
    "    }\n",
    "\n",
    "# Define simulation scenarios\n",
    "simulation_scenarios = [\n",
    "    {\n",
    "        \"name\": \"GSM1D_ED_Monotonic\",\n",
    "        \"model\": \"GSM1D_ED\",\n",
    "        \"parameters\": {\"E\": 30000.0, \"S\": 1.0, \"c\": 2.0, \"r\": 0.5, \"eps_0\": 0.001},\n",
    "        \"loading\": create_loading_scenario(\"monotonic\", 0.01, 11),\n",
    "        \"formulation\": \"F\"\n",
    "    },\n",
    "    {\n",
    "        \"name\": \"GSM1D_ED_LoadUnload\",\n",
    "        \"model\": \"GSM1D_ED\",\n",
    "        \"parameters\": {\"E\": 30000.0, \"S\": 1.0, \"c\": 2.0, \"r\": 0.5, \"eps_0\": 0.001},\n",
    "        \"loading\": create_loading_scenario(\"loading_unloading\", 0.01, 21),\n",
    "        \"formulation\": \"F\"\n",
    "    }\n",
    "]\n",
    "\n",
    "# Add more scenarios if other models are available\n",
    "if \"GSM1D_EP\" in available_models:\n",
    "    simulation_scenarios.append({\n",
    "        \"name\": \"GSM1D_EP_Monotonic\",\n",
    "        \"model\": \"GSM1D_EP\",\n",
    "        \"parameters\": {\"E\": 35000.0, \"S\": 1.5, \"K\": 25000.0, \"G\": 14000.0, \"eta_vp\": 100.0},\n",
    "        \"loading\": create_loading_scenario(\"monotonic\", 0.008, 11),\n",
    "        \"formulation\": \"F\"\n",
    "    })\n",
    "\n",
    "# Execute simulations\n",
    "simulation_results = []\n",
    "\n",
    "print(\"Executing simulations...\")\n",
    "print(\"=\" * 50)\n",
    "\n",
    "for i, scenario in enumerate(simulation_scenarios):\n",
    "    print(f\"\\n{i+1}. Running {scenario['name']}...\")\n",
    "    \n",
    "    start_time = time.time()\n",
    "    result = gsm.execute_simulation(\n",
    "        model=scenario[\"model\"],\n",
    "        formulation=scenario[\"formulation\"],\n",
    "        parameters=scenario[\"parameters\"],\n",
    "        loading=scenario[\"loading\"]\n",
    "    )\n",
    "    execution_time = time.time() - start_time\n",
    "    \n",
    "    if result[\"status\"] == \"success\":\n",
    "        print(f\"   ✅ Completed in {execution_time:.3f}s\")\n",
    "        result[\"scenario_name\"] = scenario[\"name\"]\n",
    "        result[\"execution_time_jupyter\"] = execution_time\n",
    "        simulation_results.append(result)\n",
    "        \n",
    "        # Quick result summary\n",
    "        if \"response\" in result:\n",
    "            response = result[\"response\"]\n",
    "            final_strain = response[\"eps_t\"][-1] if \"eps_t\" in response else \"N/A\"\n",
    "            final_stress = response[\"sig_t\"][-1] if \"sig_t\" in response else \"N/A\"\n",
    "            print(f\"   Final strain: {final_strain:.6f}, Final stress: {final_stress:.2f} MPa\")\n",
    "        \n",
    "    else:\n",
    "        print(f\"   ❌ Failed: {result.get('error', 'Unknown error')}\")\n",
    "\n",
    "print(f\"\\nCompleted {len(simulation_results)} successful simulations out of {len(simulation_scenarios)} total\")"
   ]
  },
  {
   "cell_type": "code",
   "execution_count": 7,
   "id": "27827a30",
   "metadata": {},
   "outputs": [
    {
     "data": {
      "application/vnd.plotly.v1+json": {
       "config": {
        "plotlyServerURL": "https://plot.ly"
       },
       "data": [],
       "layout": {
        "annotations": [
         {
          "font": {
           "size": 16
          },
          "showarrow": false,
          "text": "Stress vs Time",
          "x": 0.225,
          "xanchor": "center",
          "xref": "paper",
          "y": 1,
          "yanchor": "bottom",
          "yref": "paper"
         },
         {
          "font": {
           "size": 16
          },
          "showarrow": false,
          "text": "Strain vs Time",
          "x": 0.775,
          "xanchor": "center",
          "xref": "paper",
          "y": 1,
          "yanchor": "bottom",
          "yref": "paper"
         },
         {
          "font": {
           "size": 16
          },
          "showarrow": false,
          "text": "Stress-Strain",
          "x": 0.225,
          "xanchor": "center",
          "xref": "paper",
          "y": 0.375,
          "yanchor": "bottom",
          "yref": "paper"
         },
         {
          "font": {
           "size": 16
          },
          "showarrow": false,
          "text": "Internal Variables",
          "x": 0.775,
          "xanchor": "center",
          "xref": "paper",
          "y": 0.375,
          "yanchor": "bottom",
          "yref": "paper"
         }
        ],
        "height": 800,
        "showlegend": true,
        "template": {
         "data": {
          "bar": [
           {
            "error_x": {
             "color": "#2a3f5f"
            },
            "error_y": {
             "color": "#2a3f5f"
            },
            "marker": {
             "line": {
              "color": "#E5ECF6",
              "width": 0.5
             },
             "pattern": {
              "fillmode": "overlay",
              "size": 10,
              "solidity": 0.2
             }
            },
            "type": "bar"
           }
          ],
          "barpolar": [
           {
            "marker": {
             "line": {
              "color": "#E5ECF6",
              "width": 0.5
             },
             "pattern": {
              "fillmode": "overlay",
              "size": 10,
              "solidity": 0.2
             }
            },
            "type": "barpolar"
           }
          ],
          "carpet": [
           {
            "aaxis": {
             "endlinecolor": "#2a3f5f",
             "gridcolor": "white",
             "linecolor": "white",
             "minorgridcolor": "white",
             "startlinecolor": "#2a3f5f"
            },
            "baxis": {
             "endlinecolor": "#2a3f5f",
             "gridcolor": "white",
             "linecolor": "white",
             "minorgridcolor": "white",
             "startlinecolor": "#2a3f5f"
            },
            "type": "carpet"
           }
          ],
          "choropleth": [
           {
            "colorbar": {
             "outlinewidth": 0,
             "ticks": ""
            },
            "type": "choropleth"
           }
          ],
          "contour": [
           {
            "colorbar": {
             "outlinewidth": 0,
             "ticks": ""
            },
            "colorscale": [
             [
              0,
              "#0d0887"
             ],
             [
              0.1111111111111111,
              "#46039f"
             ],
             [
              0.2222222222222222,
              "#7201a8"
             ],
             [
              0.3333333333333333,
              "#9c179e"
             ],
             [
              0.4444444444444444,
              "#bd3786"
             ],
             [
              0.5555555555555556,
              "#d8576b"
             ],
             [
              0.6666666666666666,
              "#ed7953"
             ],
             [
              0.7777777777777778,
              "#fb9f3a"
             ],
             [
              0.8888888888888888,
              "#fdca26"
             ],
             [
              1,
              "#f0f921"
             ]
            ],
            "type": "contour"
           }
          ],
          "contourcarpet": [
           {
            "colorbar": {
             "outlinewidth": 0,
             "ticks": ""
            },
            "type": "contourcarpet"
           }
          ],
          "heatmap": [
           {
            "colorbar": {
             "outlinewidth": 0,
             "ticks": ""
            },
            "colorscale": [
             [
              0,
              "#0d0887"
             ],
             [
              0.1111111111111111,
              "#46039f"
             ],
             [
              0.2222222222222222,
              "#7201a8"
             ],
             [
              0.3333333333333333,
              "#9c179e"
             ],
             [
              0.4444444444444444,
              "#bd3786"
             ],
             [
              0.5555555555555556,
              "#d8576b"
             ],
             [
              0.6666666666666666,
              "#ed7953"
             ],
             [
              0.7777777777777778,
              "#fb9f3a"
             ],
             [
              0.8888888888888888,
              "#fdca26"
             ],
             [
              1,
              "#f0f921"
             ]
            ],
            "type": "heatmap"
           }
          ],
          "heatmapgl": [
           {
            "colorbar": {
             "outlinewidth": 0,
             "ticks": ""
            },
            "colorscale": [
             [
              0,
              "#0d0887"
             ],
             [
              0.1111111111111111,
              "#46039f"
             ],
             [
              0.2222222222222222,
              "#7201a8"
             ],
             [
              0.3333333333333333,
              "#9c179e"
             ],
             [
              0.4444444444444444,
              "#bd3786"
             ],
             [
              0.5555555555555556,
              "#d8576b"
             ],
             [
              0.6666666666666666,
              "#ed7953"
             ],
             [
              0.7777777777777778,
              "#fb9f3a"
             ],
             [
              0.8888888888888888,
              "#fdca26"
             ],
             [
              1,
              "#f0f921"
             ]
            ],
            "type": "heatmapgl"
           }
          ],
          "histogram": [
           {
            "marker": {
             "pattern": {
              "fillmode": "overlay",
              "size": 10,
              "solidity": 0.2
             }
            },
            "type": "histogram"
           }
          ],
          "histogram2d": [
           {
            "colorbar": {
             "outlinewidth": 0,
             "ticks": ""
            },
            "colorscale": [
             [
              0,
              "#0d0887"
             ],
             [
              0.1111111111111111,
              "#46039f"
             ],
             [
              0.2222222222222222,
              "#7201a8"
             ],
             [
              0.3333333333333333,
              "#9c179e"
             ],
             [
              0.4444444444444444,
              "#bd3786"
             ],
             [
              0.5555555555555556,
              "#d8576b"
             ],
             [
              0.6666666666666666,
              "#ed7953"
             ],
             [
              0.7777777777777778,
              "#fb9f3a"
             ],
             [
              0.8888888888888888,
              "#fdca26"
             ],
             [
              1,
              "#f0f921"
             ]
            ],
            "type": "histogram2d"
           }
          ],
          "histogram2dcontour": [
           {
            "colorbar": {
             "outlinewidth": 0,
             "ticks": ""
            },
            "colorscale": [
             [
              0,
              "#0d0887"
             ],
             [
              0.1111111111111111,
              "#46039f"
             ],
             [
              0.2222222222222222,
              "#7201a8"
             ],
             [
              0.3333333333333333,
              "#9c179e"
             ],
             [
              0.4444444444444444,
              "#bd3786"
             ],
             [
              0.5555555555555556,
              "#d8576b"
             ],
             [
              0.6666666666666666,
              "#ed7953"
             ],
             [
              0.7777777777777778,
              "#fb9f3a"
             ],
             [
              0.8888888888888888,
              "#fdca26"
             ],
             [
              1,
              "#f0f921"
             ]
            ],
            "type": "histogram2dcontour"
           }
          ],
          "mesh3d": [
           {
            "colorbar": {
             "outlinewidth": 0,
             "ticks": ""
            },
            "type": "mesh3d"
           }
          ],
          "parcoords": [
           {
            "line": {
             "colorbar": {
              "outlinewidth": 0,
              "ticks": ""
             }
            },
            "type": "parcoords"
           }
          ],
          "pie": [
           {
            "automargin": true,
            "type": "pie"
           }
          ],
          "scatter": [
           {
            "fillpattern": {
             "fillmode": "overlay",
             "size": 10,
             "solidity": 0.2
            },
            "type": "scatter"
           }
          ],
          "scatter3d": [
           {
            "line": {
             "colorbar": {
              "outlinewidth": 0,
              "ticks": ""
             }
            },
            "marker": {
             "colorbar": {
              "outlinewidth": 0,
              "ticks": ""
             }
            },
            "type": "scatter3d"
           }
          ],
          "scattercarpet": [
           {
            "marker": {
             "colorbar": {
              "outlinewidth": 0,
              "ticks": ""
             }
            },
            "type": "scattercarpet"
           }
          ],
          "scattergeo": [
           {
            "marker": {
             "colorbar": {
              "outlinewidth": 0,
              "ticks": ""
             }
            },
            "type": "scattergeo"
           }
          ],
          "scattergl": [
           {
            "marker": {
             "colorbar": {
              "outlinewidth": 0,
              "ticks": ""
             }
            },
            "type": "scattergl"
           }
          ],
          "scattermapbox": [
           {
            "marker": {
             "colorbar": {
              "outlinewidth": 0,
              "ticks": ""
             }
            },
            "type": "scattermapbox"
           }
          ],
          "scatterpolar": [
           {
            "marker": {
             "colorbar": {
              "outlinewidth": 0,
              "ticks": ""
             }
            },
            "type": "scatterpolar"
           }
          ],
          "scatterpolargl": [
           {
            "marker": {
             "colorbar": {
              "outlinewidth": 0,
              "ticks": ""
             }
            },
            "type": "scatterpolargl"
           }
          ],
          "scatterternary": [
           {
            "marker": {
             "colorbar": {
              "outlinewidth": 0,
              "ticks": ""
             }
            },
            "type": "scatterternary"
           }
          ],
          "surface": [
           {
            "colorbar": {
             "outlinewidth": 0,
             "ticks": ""
            },
            "colorscale": [
             [
              0,
              "#0d0887"
             ],
             [
              0.1111111111111111,
              "#46039f"
             ],
             [
              0.2222222222222222,
              "#7201a8"
             ],
             [
              0.3333333333333333,
              "#9c179e"
             ],
             [
              0.4444444444444444,
              "#bd3786"
             ],
             [
              0.5555555555555556,
              "#d8576b"
             ],
             [
              0.6666666666666666,
              "#ed7953"
             ],
             [
              0.7777777777777778,
              "#fb9f3a"
             ],
             [
              0.8888888888888888,
              "#fdca26"
             ],
             [
              1,
              "#f0f921"
             ]
            ],
            "type": "surface"
           }
          ],
          "table": [
           {
            "cells": {
             "fill": {
              "color": "#EBF0F8"
             },
             "line": {
              "color": "white"
             }
            },
            "header": {
             "fill": {
              "color": "#C8D4E3"
             },
             "line": {
              "color": "white"
             }
            },
            "type": "table"
           }
          ]
         },
         "layout": {
          "annotationdefaults": {
           "arrowcolor": "#2a3f5f",
           "arrowhead": 0,
           "arrowwidth": 1
          },
          "autotypenumbers": "strict",
          "coloraxis": {
           "colorbar": {
            "outlinewidth": 0,
            "ticks": ""
           }
          },
          "colorscale": {
           "diverging": [
            [
             0,
             "#8e0152"
            ],
            [
             0.1,
             "#c51b7d"
            ],
            [
             0.2,
             "#de77ae"
            ],
            [
             0.3,
             "#f1b6da"
            ],
            [
             0.4,
             "#fde0ef"
            ],
            [
             0.5,
             "#f7f7f7"
            ],
            [
             0.6,
             "#e6f5d0"
            ],
            [
             0.7,
             "#b8e186"
            ],
            [
             0.8,
             "#7fbc41"
            ],
            [
             0.9,
             "#4d9221"
            ],
            [
             1,
             "#276419"
            ]
           ],
           "sequential": [
            [
             0,
             "#0d0887"
            ],
            [
             0.1111111111111111,
             "#46039f"
            ],
            [
             0.2222222222222222,
             "#7201a8"
            ],
            [
             0.3333333333333333,
             "#9c179e"
            ],
            [
             0.4444444444444444,
             "#bd3786"
            ],
            [
             0.5555555555555556,
             "#d8576b"
            ],
            [
             0.6666666666666666,
             "#ed7953"
            ],
            [
             0.7777777777777778,
             "#fb9f3a"
            ],
            [
             0.8888888888888888,
             "#fdca26"
            ],
            [
             1,
             "#f0f921"
            ]
           ],
           "sequentialminus": [
            [
             0,
             "#0d0887"
            ],
            [
             0.1111111111111111,
             "#46039f"
            ],
            [
             0.2222222222222222,
             "#7201a8"
            ],
            [
             0.3333333333333333,
             "#9c179e"
            ],
            [
             0.4444444444444444,
             "#bd3786"
            ],
            [
             0.5555555555555556,
             "#d8576b"
            ],
            [
             0.6666666666666666,
             "#ed7953"
            ],
            [
             0.7777777777777778,
             "#fb9f3a"
            ],
            [
             0.8888888888888888,
             "#fdca26"
            ],
            [
             1,
             "#f0f921"
            ]
           ]
          },
          "colorway": [
           "#636efa",
           "#EF553B",
           "#00cc96",
           "#ab63fa",
           "#FFA15A",
           "#19d3f3",
           "#FF6692",
           "#B6E880",
           "#FF97FF",
           "#FECB52"
          ],
          "font": {
           "color": "#2a3f5f"
          },
          "geo": {
           "bgcolor": "white",
           "lakecolor": "white",
           "landcolor": "#E5ECF6",
           "showlakes": true,
           "showland": true,
           "subunitcolor": "white"
          },
          "hoverlabel": {
           "align": "left"
          },
          "hovermode": "closest",
          "mapbox": {
           "style": "light"
          },
          "paper_bgcolor": "white",
          "plot_bgcolor": "#E5ECF6",
          "polar": {
           "angularaxis": {
            "gridcolor": "white",
            "linecolor": "white",
            "ticks": ""
           },
           "bgcolor": "#E5ECF6",
           "radialaxis": {
            "gridcolor": "white",
            "linecolor": "white",
            "ticks": ""
           }
          },
          "scene": {
           "xaxis": {
            "backgroundcolor": "#E5ECF6",
            "gridcolor": "white",
            "gridwidth": 2,
            "linecolor": "white",
            "showbackground": true,
            "ticks": "",
            "zerolinecolor": "white"
           },
           "yaxis": {
            "backgroundcolor": "#E5ECF6",
            "gridcolor": "white",
            "gridwidth": 2,
            "linecolor": "white",
            "showbackground": true,
            "ticks": "",
            "zerolinecolor": "white"
           },
           "zaxis": {
            "backgroundcolor": "#E5ECF6",
            "gridcolor": "white",
            "gridwidth": 2,
            "linecolor": "white",
            "showbackground": true,
            "ticks": "",
            "zerolinecolor": "white"
           }
          },
          "shapedefaults": {
           "line": {
            "color": "#2a3f5f"
           }
          },
          "ternary": {
           "aaxis": {
            "gridcolor": "white",
            "linecolor": "white",
            "ticks": ""
           },
           "baxis": {
            "gridcolor": "white",
            "linecolor": "white",
            "ticks": ""
           },
           "bgcolor": "#E5ECF6",
           "caxis": {
            "gridcolor": "white",
            "linecolor": "white",
            "ticks": ""
           }
          },
          "title": {
           "x": 0.05
          },
          "xaxis": {
           "automargin": true,
           "gridcolor": "white",
           "linecolor": "white",
           "ticks": "",
           "title": {
            "standoff": 15
           },
           "zerolinecolor": "white",
           "zerolinewidth": 2
          },
          "yaxis": {
           "automargin": true,
           "gridcolor": "white",
           "linecolor": "white",
           "ticks": "",
           "title": {
            "standoff": 15
           },
           "zerolinecolor": "white",
           "zerolinewidth": 2
          }
         }
        },
        "title": {
         "text": "GSM Simulation Results Comparison"
        },
        "xaxis": {
         "anchor": "y",
         "domain": [
          0,
          0.45
         ],
         "title": {
          "text": "Time [s]"
         }
        },
        "xaxis2": {
         "anchor": "y2",
         "domain": [
          0.55,
          1
         ],
         "title": {
          "text": "Time [s]"
         }
        },
        "xaxis3": {
         "anchor": "y3",
         "domain": [
          0,
          0.45
         ],
         "title": {
          "text": "Strain [-]"
         }
        },
        "xaxis4": {
         "anchor": "y4",
         "domain": [
          0.55,
          1
         ],
         "title": {
          "text": "Time [s]"
         }
        },
        "yaxis": {
         "anchor": "x",
         "domain": [
          0.625,
          1
         ],
         "title": {
          "text": "Stress [MPa]"
         }
        },
        "yaxis2": {
         "anchor": "x2",
         "domain": [
          0.625,
          1
         ],
         "title": {
          "text": "Strain [-]"
         }
        },
        "yaxis3": {
         "anchor": "x3",
         "domain": [
          0,
          0.375
         ],
         "title": {
          "text": "Stress [MPa]"
         }
        },
        "yaxis4": {
         "anchor": "x4",
         "domain": [
          0,
          0.375
         ],
         "title": {
          "text": "Internal Variables"
         }
        }
       }
      }
     },
     "metadata": {},
     "output_type": "display_data"
    },
    {
     "name": "stdout",
     "output_type": "stream",
     "text": [
      "\\nSimulation Summary:\n",
      "================================================================================\n"
     ]
    }
   ],
   "source": [
    "# Visualize simulation results\n",
    "\n",
    "if simulation_results:\n",
    "    \n",
    "    # Create stress-strain plots\n",
    "    if PLOTLY_AVAILABLE:\n",
    "        fig = make_subplots(\n",
    "            rows=2, cols=2,\n",
    "            subplot_titles=('Stress vs Time', 'Strain vs Time', 'Stress-Strain', 'Internal Variables'),\n",
    "            specs=[[{\"secondary_y\": False}, {\"secondary_y\": False}],\n",
    "                   [{\"secondary_y\": False}, {\"secondary_y\": False}]]\n",
    "        )\n",
    "        \n",
    "        colors = px.colors.qualitative.Plotly\n",
    "        \n",
    "        for i, result in enumerate(simulation_results):\n",
    "            if \"response\" in result:\n",
    "                response = result[\"response\"]\n",
    "                name = result[\"scenario_name\"]\n",
    "                color = colors[i % len(colors)]\n",
    "                \n",
    "                # Extract data\n",
    "                time = np.array(response.get(\"t_t\", []))\n",
    "                strain = np.array(response.get(\"eps_t\", []))\n",
    "                stress = np.array(response.get(\"sig_t\", []))\n",
    "                \n",
    "                # Stress vs Time\n",
    "                fig.add_trace(\n",
    "                    go.Scatter(x=time, y=stress, name=f\"{name} - Stress\", \n",
    "                              line=dict(color=color), showlegend=True),\n",
    "                    row=1, col=1\n",
    "                )\n",
    "                \n",
    "                # Strain vs Time\n",
    "                fig.add_trace(\n",
    "                    go.Scatter(x=time, y=strain, name=f\"{name} - Strain\", \n",
    "                              line=dict(color=color, dash='dash'), showlegend=True),\n",
    "                    row=1, col=2\n",
    "                )\n",
    "                \n",
    "                # Stress-Strain\n",
    "                fig.add_trace(\n",
    "                    go.Scatter(x=strain, y=stress, name=f\"{name} - σ-ε\", \n",
    "                              line=dict(color=color), showlegend=True),\n",
    "                    row=2, col=1\n",
    "                )\n",
    "                \n",
    "                # Internal variables (if available)\n",
    "                if \"Eps_t_flat\" in response:\n",
    "                    internal_vars = np.array(response[\"Eps_t_flat\"])\n",
    "                    if internal_vars.size > 0 and len(internal_vars.shape) > 1:\n",
    "                        fig.add_trace(\n",
    "                            go.Scatter(x=time, y=internal_vars[:, 0], name=f\"{name} - Internal\", \n",
    "                                      line=dict(color=color, dash='dot'), showlegend=True),\n",
    "                            row=2, col=2\n",
    "                        )\n",
    "        \n",
    "        # Update layout\n",
    "        fig.update_xaxes(title_text=\"Time [s]\", row=1, col=1)\n",
    "        fig.update_xaxes(title_text=\"Time [s]\", row=1, col=2)\n",
    "        fig.update_xaxes(title_text=\"Strain [-]\", row=2, col=1)\n",
    "        fig.update_xaxes(title_text=\"Time [s]\", row=2, col=2)\n",
    "        \n",
    "        fig.update_yaxes(title_text=\"Stress [MPa]\", row=1, col=1)\n",
    "        fig.update_yaxes(title_text=\"Strain [-]\", row=1, col=2)\n",
    "        fig.update_yaxes(title_text=\"Stress [MPa]\", row=2, col=1)\n",
    "        fig.update_yaxes(title_text=\"Internal Variables\", row=2, col=2)\n",
    "        \n",
    "        fig.update_layout(\n",
    "            title=\"GSM Simulation Results Comparison\",\n",
    "            height=800,\n",
    "            showlegend=True\n",
    "        )\n",
    "        \n",
    "        fig.show()\n",
    "        \n",
    "    else:\n",
    "        # Fallback to matplotlib\n",
    "        fig, ((ax1, ax2), (ax3, ax4)) = plt.subplots(2, 2, figsize=(15, 10))\n",
    "        \n",
    "        for i, result in enumerate(simulation_results):\n",
    "            if \"response\" in result:\n",
    "                response = result[\"response\"]\n",
    "                name = result[\"scenario_name\"]\n",
    "                \n",
    "                time = np.array(response.get(\"t_t\", []))\n",
    "                strain = np.array(response.get(\"eps_t\", []))\n",
    "                stress = np.array(response.get(\"sig_t\", []))\n",
    "                \n",
    "                # Stress vs Time\n",
    "                ax1.plot(time, stress, label=f\"{name}\", linewidth=2)\n",
    "                ax1.set_xlabel(\"Time [s]\")\n",
    "                ax1.set_ylabel(\"Stress [MPa]\")\n",
    "                ax1.set_title(\"Stress vs Time\")\n",
    "                ax1.grid(True)\n",
    "                ax1.legend()\n",
    "                \n",
    "                # Strain vs Time\n",
    "                ax2.plot(time, strain, label=f\"{name}\", linewidth=2, linestyle='--')\n",
    "                ax2.set_xlabel(\"Time [s]\")\n",
    "                ax2.set_ylabel(\"Strain [-]\")\n",
    "                ax2.set_title(\"Strain vs Time\")\n",
    "                ax2.grid(True)\n",
    "                ax2.legend()\n",
    "                \n",
    "                # Stress-Strain\n",
    "                ax3.plot(strain, stress, label=f\"{name}\", linewidth=2)\n",
    "                ax3.set_xlabel(\"Strain [-]\")\n",
    "                ax3.set_ylabel(\"Stress [MPa]\")\n",
    "                ax3.set_title(\"Stress-Strain Relationship\")\n",
    "                ax3.grid(True)\n",
    "                ax3.legend()\n",
    "                \n",
    "                # Internal variables\n",
    "                if \"Eps_t_flat\" in response:\n",
    "                    internal_vars = np.array(response[\"Eps_t_flat\"])\n",
    "                    if internal_vars.size > 0 and len(internal_vars.shape) > 1:\n",
    "                        ax4.plot(time, internal_vars[:, 0], label=f\"{name}\", linewidth=2, linestyle=':')\n",
    "                \n",
    "        ax4.set_xlabel(\"Time [s]\")\n",
    "        ax4.set_ylabel(\"Internal Variables\")\n",
    "        ax4.set_title(\"Internal Variables Evolution\")\n",
    "        ax4.grid(True)\n",
    "        ax4.legend()\n",
    "        \n",
    "        plt.tight_layout()\n",
    "        plt.show()\n",
    "        \n",
    "    # Summary table\n",
    "    print(\"\\\\nSimulation Summary:\")\n",
    "    print(\"=\" * 80)\n",
    "    \n",
    "    summary_data = []\n",
    "    for result in simulation_results:\n",
    "        if \"response\" in result:\n",
    "            response = result[\"response\"]\n",
    "            final_strain = response[\"eps_t\"][-1] if \"eps_t\" in response else 0\n",
    "            final_stress = response[\"sig_t\"][-1] if \"sig_t\" in response else 0\n",
    "            exec_time = result.get(\"execution_time_jupyter\", 0)\n",
    "            \n",
    "            summary_data.append({\n",
    "                \"Scenario\": result[\"scenario_name\"],\n",
    "                \"Model\": result.get(\"model_name\", \"Unknown\"),\n",
    "                \"Final Strain\": f\"{final_strain:.6f}\",\n",
    "                \"Final Stress [MPa]\": f\"{final_stress:.2f}\",\n",
    "                \"Exec Time [s]\": f\"{exec_time:.3f}\"\n",
    "            })\n",
    "    \n",
    "    if summary_data:\n",
    "        df_summary = pd.DataFrame(summary_data)\n",
    "        display(df_summary)\n",
    "        \n",
    "else:\n",
    "    print(\"No simulation results to visualize.\")"
   ]
  },
  {
   "cell_type": "markdown",
   "id": "f92aceea",
   "metadata": {},
   "source": [
    "## 5. Network Client Integration\n",
    "\n",
    "The GSM CLI can also run as a network server for distributed computing. Let's demonstrate how to interact with a remote GSM server."
   ]
  },
  {
   "cell_type": "code",
   "execution_count": 12,
   "id": "2d028c9e",
   "metadata": {},
   "outputs": [
    {
     "name": "stdout",
     "output_type": "stream",
     "text": [
      "Testing Network Client Connection...\n",
      "==================================================\n",
      "Server health check: ❌ Not available\n",
      "\\n📝 Server not running. To test network functionality:\n",
      "   1. Open a new terminal\n",
      "   2. Navigate to the GSM CLI directory\n",
      "   3. Run: python cli_gsm.py --serve --port 8888\n",
      "   4. Re-run this cell\n",
      "\\n💡 Network mode allows distributed computing across multiple machines\n"
     ]
    }
   ],
   "source": [
    "# Network Client for Remote GSM Server\n",
    "\n",
    "class GSMNetworkClient:\n",
    "    \"\"\"Client for interacting with remote GSM CLI server\"\"\"\n",
    "    \n",
    "    def __init__(self, base_url: str = \"http://localhost:8889\"):\n",
    "        self.base_url = base_url.rstrip('/')\n",
    "        self.session = requests.Session()\n",
    "        self.session.headers.update({'Content-Type': 'application/json'})\n",
    "    \n",
    "    def check_server_health(self) -> bool:\n",
    "        \"\"\"Check if the server is running\"\"\"\n",
    "        try:\n",
    "            response = self.session.get(f\"{self.base_url}/health\", timeout=5)\n",
    "            return response.status_code == 200\n",
    "        except requests.RequestException:\n",
    "            return False\n",
    "    \n",
    "    def list_models(self) -> Dict[str, Any]:\n",
    "        \"\"\"Get list of available models from server\"\"\"\n",
    "        try:\n",
    "            response = self.session.get(f\"{self.base_url}/models\")\n",
    "            response.raise_for_status()\n",
    "            return response.json()\n",
    "        except requests.RequestException as e:\n",
    "            return {\"status\": \"error\", \"error\": str(e)}\n",
    "    \n",
    "    def get_parameter_spec(self, model_name: str) -> Dict[str, Any]:\n",
    "        \"\"\"Get parameter specification from server\"\"\"\n",
    "        try:\n",
    "            response = self.session.get(f\"{self.base_url}/param-spec/{model_name}\")\n",
    "            response.raise_for_status()\n",
    "            return response.json()\n",
    "        except requests.RequestException as e:\n",
    "            return {\"status\": \"error\", \"error\": str(e)}\n",
    "    \n",
    "    def execute_simulation(self, request_data: Dict[str, Any]) -> Dict[str, Any]:\n",
    "        \"\"\"Execute simulation on remote server\"\"\"\n",
    "        try:\n",
    "            response = self.session.post(f\"{self.base_url}/simulate\", json=request_data)\n",
    "            response.raise_for_status()\n",
    "            return response.json()\n",
    "        except requests.RequestException as e:\n",
    "            return {\"status\": \"error\", \"error\": str(e)}\n",
    "\n",
    "# Test network client (server must be running separately)\n",
    "network_client = GSMNetworkClient()\n",
    "\n",
    "print(\"Testing Network Client Connection...\")\n",
    "print(\"=\" * 50)\n",
    "\n",
    "# Check if server is available\n",
    "server_available = network_client.check_server_health()\n",
    "print(f\"Server health check: {'✅ Available' if server_available else '❌ Not available'}\")\n",
    "\n",
    "if server_available:\n",
    "    print(\"\\\\n🌐 Connected to remote GSM server!\")\n",
    "    \n",
    "    # List models from server\n",
    "    remote_models = network_client.list_models()\n",
    "    if remote_models[\"status\"] == \"success\":\n",
    "        print(f\"Remote models: {remote_models['models']}\")\n",
    "    \n",
    "    # Get parameter spec from server\n",
    "    if remote_models[\"status\"] == \"success\" and remote_models[\"models\"]:\n",
    "        test_model = remote_models[\"models\"][0]\n",
    "        remote_spec = network_client.get_parameter_spec(test_model)\n",
    "        if remote_spec[\"status\"] == \"success\":\n",
    "            print(f\"\\\\nRemote parameter spec for {test_model}:\")\n",
    "            print(f\"Parameters: {list(remote_spec['specification']['parameters'].keys())}\")\n",
    "    \n",
    "    # Execute a remote simulation\n",
    "    remote_request = {\n",
    "        \"model\": \"GSM1D_ED\",\n",
    "        \"formulation\": \"F\",\n",
    "        \"parameters\": {\n",
    "            \"E\": 30000.0,\n",
    "            \"S\": 1.0,\n",
    "            \"c\": 2.0,\n",
    "            \"r\": 0.5,\n",
    "            \"eps_0\": 0.001\n",
    "        },\n",
    "        \"loading\": {\n",
    "            \"time_array\": [0.0, 0.5, 1.0],\n",
    "            \"strain_history\": [0.0, 0.005, 0.01],\n",
    "            \"loading_type\": \"strain_controlled\"\n",
    "        }\n",
    "    }\n",
    "    \n",
    "    print(\"\\\\nExecuting remote simulation...\")\n",
    "    start_time = time.time()\n",
    "    remote_result = network_client.execute_simulation(remote_request)\n",
    "    network_time = time.time() - start_time\n",
    "    \n",
    "    if remote_result[\"status\"] == \"success\":\n",
    "        print(f\"✅ Remote simulation completed in {network_time:.3f}s\")\n",
    "        if \"response\" in remote_result:\n",
    "            final_stress = remote_result[\"response\"][\"sig_t\"][-1]\n",
    "            print(f\"Final stress from remote simulation: {final_stress:.2f} MPa\")\n",
    "    else:\n",
    "        print(f\"❌ Remote simulation failed: {remote_result.get('error', 'Unknown error')}\")\n",
    "        \n",
    "else:\n",
    "    print(\"\\\\n📝 Server not running. To test network functionality:\")\n",
    "    print(\"   1. Open a new terminal\")\n",
    "    print(\"   2. Navigate to the GSM CLI directory\")\n",
    "    print(\"   3. Run: python cli_gsm.py --serve --port 8888\")\n",
    "    print(\"   4. Re-run this cell\")\n",
    "    print(\"\\\\n💡 Network mode allows distributed computing across multiple machines\")"
   ]
  },
  {
   "cell_type": "markdown",
   "id": "b0c56f1d",
   "metadata": {},
   "source": [
    "## 6. Summary and Advanced Usage\n",
    "\n",
    "This notebook has demonstrated the key features of the GSM CLI interface:\n",
    "\n",
    "### ✅ What We've Covered\n",
    "\n",
    "1. **Dynamic Model Discovery**: Automatically discover available GSM models and their capabilities\n",
    "2. **Parameter Specification**: Retrieve detailed parameter requirements with bounds and descriptions\n",
    "3. **Interactive Validation**: Real-time parameter validation with immediate feedback\n",
    "4. **Simulation Execution**: Run simulations with different models and loading scenarios\n",
    "5. **Result Visualization**: Create comprehensive plots and analysis of simulation results\n",
    "6. **Network Integration**: Connect to remote GSM servers for distributed computing\n",
    "\n",
    "### 🚀 Advanced Usage Patterns\n",
    "\n",
    "The GSM CLI interface supports several advanced workflows:\n",
    "\n",
    "#### Parameter Studies\n",
    "```python\n",
    "# Batch parameter variations\n",
    "parameter_variations = {\n",
    "    \"E\": [20000, 30000, 40000],\n",
    "    \"S\": [0.5, 1.0, 1.5, 2.0]\n",
    "}\n",
    "# Process all combinations automatically\n",
    "```\n",
    "\n",
    "#### Workchain Integration\n",
    "```python\n",
    "# Integration with workflow managers like AiiDA\n",
    "from aiida import load_profile\n",
    "load_profile()\n",
    "# Submit GSM simulations as AiiDA WorkChains\n",
    "```\n",
    "\n",
    "#### Remote Computing\n",
    "```python\n",
    "# Distribute simulations across multiple servers\n",
    "servers = [\"http://node1:8888\", \"http://node2:8888\", \"http://node3:8888\"]\n",
    "# Load balance simulations across computational nodes\n",
    "```\n",
    "\n",
    "### 📊 Key Benefits\n",
    "\n",
    "- **Reproducibility**: All parameters and configurations are explicitly specified\n",
    "- **Scalability**: Network mode enables distributed computing\n",
    "- **Flexibility**: Support for multiple energy formulations and models\n",
    "- **Integration**: Easy integration with Jupyter, AiiDA, and other tools\n",
    "- **Validation**: Built-in parameter validation prevents invalid simulations\n",
    "\n",
    "### 🔧 Next Steps\n",
    "\n",
    "1. **Explore Different Models**: Try GSM1D_EP, GSM1D_VE, and other available models\n",
    "2. **Custom Loading**: Create complex loading scenarios (cyclic, multi-stage, etc.)\n",
    "3. **Parameter Studies**: Use the batch processing tools for sensitivity analysis\n",
    "4. **Network Deployment**: Set up distributed computing infrastructure\n",
    "5. **Workflow Integration**: Integrate with your existing computational workflows\n",
    "\n",
    "### 📚 Documentation\n",
    "\n",
    "- Check the `examples/` directory for more detailed examples\n",
    "- Review the CLI help: `python cli_gsm.py --help`\n",
    "- Examine the network server endpoints for API integration\n",
    "- Look at the batch processing scripts for automation examples"
   ]
  }
 ],
 "metadata": {
  "kernelspec": {
   "display_name": "bmcs_env2",
   "language": "python",
   "name": "python3"
  },
  "language_info": {
   "codemirror_mode": {
    "name": "ipython",
    "version": 3
   },
   "file_extension": ".py",
   "mimetype": "text/x-python",
   "name": "python",
   "nbconvert_exporter": "python",
   "pygments_lexer": "ipython3",
   "version": "3.10.8"
  }
 },
 "nbformat": 4,
 "nbformat_minor": 5
}
