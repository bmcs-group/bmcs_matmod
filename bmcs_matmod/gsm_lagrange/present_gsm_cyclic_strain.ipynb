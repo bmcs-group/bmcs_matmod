{
 "cells": [
  {
   "cell_type": "markdown",
   "metadata": {},
   "source": [
    "# Present the symbolic derivation of existing models"
   ]
  },
  {
   "cell_type": "code",
   "execution_count": null,
   "metadata": {},
   "outputs": [],
   "source": [
    "%matplotlib widget\n",
    "import os, importlib, inspect\n",
    "from IPython.display import display, Math, Latex, Markdown\n",
    "from bmcs_matmod.gsm_lagrange.gsm_def import GSMDef, sp\n",
    "from bmcs_matmod.gsm_lagrange.gsm_model import GSMModel\n",
    "import bmcs_matmod.time_function as tf\n",
    "import numpy as np\n",
    "import matplotlib.pyplot as plt"
   ]
  },
  {
   "cell_type": "code",
   "execution_count": null,
   "metadata": {},
   "outputs": [],
   "source": [
    "gsm_defs = []\n",
    "\n",
    "# Collect all relevant modules and their classes\n",
    "for file_name in os.listdir('.'):\n",
    "    if file_name.endswith('.py') and file_name not in ['gsm_def.py', '__init__.py']:\n",
    "        module_path = f\"bmcs_matmod.gsm_lagrange.{file_name[:-3]}\"\n",
    "        module = importlib.import_module(module_path)\n",
    "        for name, obj in inspect.getmembers(module, inspect.isclass):\n",
    "            if issubclass(obj, GSMDef) and obj is not GSMDef:\n",
    "                gsm_defs.append((name, obj))\n",
    "\n",
    "# Sort the gsm_defs by class names\n",
    "gsm_defs.sort(key=lambda x: x[0])\n",
    "\n",
    "gsm_defs_dict = {name: obj for name, obj in gsm_defs}\n",
    "gsm_models = {name: GSMModel(obj) for name, obj in gsm_defs}\n",
    "gsm_models"
   ]
  },
  {
   "cell_type": "code",
   "execution_count": null,
   "metadata": {},
   "outputs": [],
   "source": [
    "get_eps_t2 = tf.TimeFnCycleWithRamps()\n"
   ]
  },
  {
   "cell_type": "code",
   "execution_count": null,
   "metadata": {},
   "outputs": [],
   "source": [
    "final_time, eps_max = 2, 1.5\n",
    "t_t = np.linspace(0, final_time, 2000)\n",
    "sig_n_t = eps_max * get_eps_t2(t_t / final_time)\n",
    "fig, ax = plt.subplots(1,1)\n",
    "ax.plot(t_t, sig_n_t)"
   ]
  },
  {
   "cell_type": "code",
   "execution_count": null,
   "metadata": {},
   "outputs": [],
   "source": []
  },
  {
   "cell_type": "code",
   "execution_count": null,
   "metadata": {},
   "outputs": [],
   "source": [
    "#mparams = dict(E = 20, K = 20, S = 10, c = 1, r = 1, eps_0 = 0, f_c = 15, eta_vp=50, eta_ve=50)\n",
    "mparams = dict(E = 20, K = 20, S = 200, c = 1, r = 1, eps_0 = 0.7, f_c = 15, eta_vp=1, eta_ve=10)\n",
    "\n",
    "response = {}\n",
    "selection = [] # ['GSM1D_VEVP', 'GSM1D_VEVPD']\n",
    "if len(selection) == 0:\n",
    "    selection = gsm_models.keys()\n",
    "for name in selection:\n",
    "    gsm = gsm_models[name]\n",
    "    gsm.set_params(**mparams)\n",
    "    print(f'name: {name}')\n",
    "    response[name] = gsm.get_F_response(sig_n_t, t_t)\n"
   ]
  },
  {
   "cell_type": "code",
   "execution_count": null,
   "metadata": {},
   "outputs": [],
   "source": [
    "fig, (ax_sig, ax_eps) = plt.subplots(1, 2, figsize=(12, 5), gridspec_kw={'width_ratios': [7, 3]})\n",
    "ax_iter = ax_eps.twinx()\n",
    "ax_iter.set_ylabel('Iterations')\n",
    "# ax_eps.plot(t_t, eps_n_t, color='black')\n",
    "# ax_eps.set_xlabel(r'$t$')\n",
    "# ax_eps.set_ylabel(r'$\\varepsilon$')\n",
    "for name, rd in response.items():\n",
    "    eps_t = rd.eps_t[:, 0]\n",
    "    iter_t = rd.iter_t[:, 0]\n",
    "    sig_t = rd.sig_t[:, 0, 0]\n",
    "    ax_sig.plot(t_t, sig_t, label=rf'{name}')\n",
    "    ax_iter.plot(t_t, iter_t, label=rf'{name}', linestyle='dashed')\n",
    "    # Add a box with the material parameters\n",
    "    param_text = ', '.join([f'{key}: {value}' for key, value in mparams.items()])\n",
    "    param_text = '\\n'.join([', '.join(param_text.split(', ')[i:i+5]) for i in range(0, len(param_text.split(', ')), 5)])\n",
    "    props = dict(boxstyle='round', facecolor='lightgray', edgecolor='lightgray', alpha=0.5)\n",
    "    ax_sig.text(0.5, 0.97, param_text, transform=ax_sig.transAxes, fontsize=11,\n",
    "                verticalalignment='top', horizontalalignment='center', bbox=props)\n",
    "ax_sig.set_ylabel(r'$\\sigma$', color='darkslategray')\n",
    "ax_sig.set_xlabel(r'$\\varepsilon$')\n",
    "ax_sig.legend(fontsize='small')\n",
    "fig.tight_layout()"
   ]
  },
  {
   "cell_type": "code",
   "execution_count": null,
   "metadata": {},
   "outputs": [],
   "source": [
    "final_time, eps_max = 2, 1.5e-3\n",
    "t_t = np.linspace(0, final_time, 2000)\n",
    "sig_n_t = eps_max * get_eps_t2(t_t / final_time)\n",
    "fig, ax = plt.subplots(1,1)\n",
    "ax.plot(t_t, sig_n_t)"
   ]
  },
  {
   "cell_type": "code",
   "execution_count": null,
   "metadata": {},
   "outputs": [],
   "source": [
    "mparams = dict(E = 20e+6, K = 20e+6, S = 0.000005, c = 1, r = 1, eps_0 = 1.2e-3, f_c = 15e+3, eta_vp=1e+6, eta_ve=15e+6)\n",
    "\n",
    "response = {}\n",
    "selection = []\n",
    "#selection = ['GSM1D_EP', 'GSM1D_EPD', 'GSM1D_EVP', 'GSM1D_EVPD']\n",
    "selection = ['GSM1D_VE', 'GSM1D_VEVP', 'GSM1D_VEVPD']\n",
    "if len(selection) == 0:\n",
    "    selection = gsm_models.keys()\n",
    "for name in selection:\n",
    "    gsm = gsm_models[name]\n",
    "    gsm.set_params(**mparams)\n",
    "    print(f'name: {name}')\n",
    "    response[name] = gsm.get_F_response(sig_n_t, t_t)\n"
   ]
  },
  {
   "cell_type": "code",
   "execution_count": null,
   "metadata": {},
   "outputs": [],
   "source": [
    "display_units = dict(\n",
    "    E = (r'$\\mathrm{GPa}$',1e-6),\n",
    "    K = (r'$\\mathrm{GPa}$',1e-6),\n",
    "    S = (r'$\\mathrm{GJ}^{-1}$',1e+6),\n",
    "    c = (r'$-$',1),\n",
    "    r = (r'$-$',1),\n",
    "    eps_0 = (r'$\\mathrm{mm/mm}$',1),\n",
    "    f_c = (r'$\\mathrm{MPa}$',1e-3),\n",
    "    eta_vp=(r'$\\mathrm{MPa \\cdot s}$',1e-6),\n",
    "    eta_ve=(r'$\\mathrm{MPa \\cdot s}$',1e-6)\n",
    ")"
   ]
  },
  {
   "cell_type": "code",
   "execution_count": null,
   "metadata": {},
   "outputs": [],
   "source": [
    "fig, ax_sig = plt.subplots(1, 1, figsize=(7, 5))\n",
    "fig.canvas.header_visible = False\n",
    "ax_iter = ax_eps.twinx()\n",
    "ax_iter.set_ylabel('Iterations')\n",
    "for name, rd in response.items():\n",
    "    eps_t = rd.eps_t[:, 0]\n",
    "    sig_t = rd.sig_t[:, 0, 0]\n",
    "    ax_sig.plot(eps_t, sig_t, label=rf'{name}')\n",
    "    # Add a box with the material parameters\n",
    "    param_text = ', '.join([f'{key}: {value * display_units[key][1]} {display_units[key][0]}' for key, value in mparams.items()])\n",
    "    param_text = '\\n'.join([', '.join(param_text.split(', ')[i:i+3]) for i in range(0, len(param_text.split(', ')), 3)])\n",
    "    props = dict(boxstyle='round', facecolor='lightgray', edgecolor='lightgray', alpha=0.5)\n",
    "    ax_sig.text(0.5, 0.97, param_text, transform=ax_sig.transAxes, fontsize=11,\n",
    "                verticalalignment='top', horizontalalignment='center', bbox=props)\n",
    "ax_sig.set_ylabel(r'$\\sigma$', color='darkslategray')\n",
    "ax_sig.set_xlabel(r'$\\varepsilon$')\n",
    "ax_sig.legend(fontsize='small')\n",
    "fig.tight_layout()"
   ]
  },
  {
   "cell_type": "code",
   "execution_count": null,
   "metadata": {},
   "outputs": [],
   "source": [
    "# mparams = dict(E = 20, K = 20, S = 1, c = 1, r = 1, eps_0 = 0, f_c = 15, \n",
    "#                eta_vp=500, eta_ve=500)\n",
    "# mparams = dict(E = 20, K = 20, S = 10, c = 1, r = 1, eps_0 = 0, f_c = 15, eta_vp=1, eta_ve=10)\n",
    "\n",
    "response = {}\n",
    "selection = ['GSM1D_VED']\n",
    "if len(selection) == 0:\n",
    "    selection = gsm_models.keys()\n",
    "for name in selection:\n",
    "    gsm = gsm_models[name]\n",
    "    gsm.set_params(**mparams)\n",
    "    print(f'name: {name}')\n",
    "    response[name] = gsm.get_F_response(sig_n_t, t_t)"
   ]
  },
  {
   "cell_type": "code",
   "execution_count": null,
   "metadata": {},
   "outputs": [],
   "source": [
    "fig, (ax_sig, ax_eps) = plt.subplots(1, 2, figsize=(12, 5), gridspec_kw={'width_ratios': [7, 3]})\n",
    "ax_iter = ax_eps.twinx()\n",
    "ax_iter.set_ylabel('Iterations')\n",
    "# ax_eps.plot(t_t, eps_n_t, color='black')\n",
    "# ax_eps.set_xlabel(r'$t$')\n",
    "# ax_eps.set_ylabel(r'$\\varepsilon$')\n",
    "for name, rd in response.items():\n",
    "    eps_t = rd.eps_t[:, 0]\n",
    "    iter_t = rd.iter_t[:, 0]\n",
    "    sig_t = rd.sig_t[:, 0, 0]\n",
    "    ax_sig.plot(eps_t, sig_t, label=rf'{name}')\n",
    "    ax_iter.plot(t_t, iter_t, label=rf'{name}', linestyle='dashed')\n",
    "    # Add a box with the material parameters\n",
    "    param_text = ', '.join([f'{key}: {value}' for key, value in mparams.items()])\n",
    "    param_text = '\\n'.join([', '.join(param_text.split(', ')[i:i+5]) for i in range(0, len(param_text.split(', ')), 5)])\n",
    "    props = dict(boxstyle='round', facecolor='lightgray', edgecolor='lightgray', alpha=0.5)\n",
    "    ax_sig.text(0.5, 0.97, param_text, transform=ax_sig.transAxes, fontsize=11,\n",
    "                verticalalignment='top', horizontalalignment='center', bbox=props)\n",
    "ax_sig.set_ylabel(r'$\\sigma$', color='darkslategray')\n",
    "ax_sig.set_xlabel(r'$\\varepsilon$')\n",
    "ax_sig.legend(fontsize='small')\n",
    "fig.tight_layout()"
   ]
  },
  {
   "cell_type": "code",
   "execution_count": null,
   "metadata": {},
   "outputs": [],
   "source": []
  },
  {
   "cell_type": "code",
   "execution_count": null,
   "metadata": {},
   "outputs": [],
   "source": []
  }
 ],
 "metadata": {
  "kernelspec": {
   "display_name": "bmcs_env2",
   "language": "python",
   "name": "python3"
  },
  "language_info": {
   "codemirror_mode": {
    "name": "ipython",
    "version": 3
   },
   "file_extension": ".py",
   "mimetype": "text/x-python",
   "name": "python",
   "nbconvert_exporter": "python",
   "pygments_lexer": "ipython3"
  }
 },
 "nbformat": 4,
 "nbformat_minor": 2
}
