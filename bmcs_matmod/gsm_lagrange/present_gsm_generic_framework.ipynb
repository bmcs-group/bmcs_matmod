{
 "cells": [
  {
   "cell_type": "markdown",
   "id": "ad3d90d7",
   "metadata": {},
   "source": [
    "# GSM Interactive Jupyter \n",
    "Framework \n",
    "\n",
    "I am thinking about an implementation concept for an interactive generator of executable models. The motivation is to capture the generic nature of the thermodynamic framework to derive executable code simulating the material behavior from potentials. The current GSMBase class captures the derivation process using the class interface. With the variables like 'eps_vars for external variables, 'Eps_vars' for internal variables and the corresponding confjconjugate variables. There is a predefined structure of the Helmholtz free energy including softening and hardening mechanisms associated with the individual internal variables. Besides the free energy F_expr, there is the inequality constraingt f_expr, which separates the elastic domain from the inelastic one. Further thereis a list of equality constraint defined by the variable g_epr_list. In contrast to a standard optimization framework specifying the goal function and the equality and inequality constraint, this class includes some derivation functionality - deriving the dissipation from the Helmholtz function, and constructing the Lagrangian including the single inequality constraint and the equality constraints. Further, the generated gradient and jacobian of the the Lagrangian function constitute the components of a specific iterative scheme that identifies the next admisslbe state in terms of the new state variables. The iterative identification of the step get step_n1 is embedded in an incremental time-stepping scheme which uses the prescribed time history of the strains and delivers the resopnse in terms of the stresses and all internal variables. Furthermore, Legendre transformation is involved which enables the switch between Helmholtz and Gibbs governed procedure - providing the alternative.\n",
    "I have multiple notebooks which use the subclasses of GSMBase that deliver the particular algebraic input to the mentioned variables. In the notebooks, multiple examples are defined which render the symbolically derived gradients and components of the solution procedure using sympy - latex rendering. This makes it very instructive and allows an inspection of the derived evolution equations before starting with numerical simulations. Once this step has been done, particular parameters are specified. Finally, several loading scenarios are introduced and calculated to show the model behavior in several exposures - for example, strain-driven monotonic and cyclic, or stress-driven cyclic.\n",
    "Comming to my question. I would like to present this framework and the workflow of the material model development to students in a possibly intuitive ans straightforward way. I have a small ipywidget base userinterface that can be used in jupyter notebooks - e.g. on a jupyterhub which might provide the specific choices of terms in the Helmholtz-free energy and constraint slots. My simple question si - is there an ipywidget which would enable the rendering of generated sympy expressions? Envisioned is a jupyter nobebook user interface, where the student can choose from the dissipative effects, e.g. 'elasto-plasticity' - 'EP', 'elasto-visco-plasticity' - EVP, etc. and then s/he can inspect the algebraic representation starting from the primary and derived potentials, residual vector and the discretized form of the time-stepping algorithm. Even though this is not a clear question, I want to ask you if the jupyter framework provides a suitable components to achieve such a functionality and if you can provide me with a small demonstrator snippet that would indicate the conceptual implementation for thiws vision."
   ]
  },
  {
   "cell_type": "markdown",
   "id": "a3e85620",
   "metadata": {},
   "source": [
    "# A Jupyter Notebook to Implement an Interactive Generator of Executable Models\n",
    "This notebook provides an interactive framework for generating and visualizing symbolic derivations of thermodynamic models using SymPy and ipywidgets."
   ]
  },
  {
   "cell_type": "markdown",
   "id": "79723bbb",
   "metadata": {},
   "source": [
    "## Import Required Libraries\n",
    "Import necessary libraries such as SymPy, ipywidgets, and display utilities for rendering LaTeX."
   ]
  },
  {
   "cell_type": "code",
   "execution_count": null,
   "id": "5609081c",
   "metadata": {},
   "outputs": [],
   "source": [
    "# Import Required Libraries\n",
    "import sympy as sp\n",
    "import ipywidgets as widgets\n",
    "from IPython.display import display, Math, Latex, Markdown"
   ]
  },
  {
   "cell_type": "markdown",
   "id": "bc6a4f20",
   "metadata": {},
   "source": [
    "## Define GSMBase Class and Subclasses\n",
    "Define the GSMBase class and its subclasses to capture the thermodynamic framework, including potentials, constraints, and derivation functionality."
   ]
  },
  {
   "cell_type": "code",
   "execution_count": null,
   "id": "0f0e11bc",
   "metadata": {},
   "outputs": [],
   "source": [
    "# Define GSMBase Class\n",
    "class GSMBase:\n",
    "    def __init__(self):\n",
    "        self.potentials = {}\n",
    "        self.constraints = {}\n",
    "\n",
    "    def add_potential(self, name, expression):\n",
    "        self.potentials[name] = expression\n",
    "\n",
    "    def add_constraint(self, name, expression):\n",
    "        self.constraints[name] = expression\n",
    "\n",
    "    def latex_potentials(self):\n",
    "        return \"\\n\".join([f\"${sp.latex(expr)}$\" for expr in self.potentials.values()])\n",
    "\n",
    "# Example Subclass\n",
    "class ElasticPlasticModel(GSMBase):\n",
    "    def __init__(self):\n",
    "        super().__init__()\n",
    "        self.add_potential(\"Elastic Energy\", sp.symbols('1/2 * E * epsilon**2'))\n",
    "        self.add_constraint(\"Yield Condition\", sp.symbols('sigma - sigma_y'))"
   ]
  },
  {
   "cell_type": "markdown",
   "id": "f188fc49",
   "metadata": {},
   "source": [
    "## Create Interactive Widgets for Model Selection\n",
    "Use ipywidgets to create dropdowns and buttons for selecting dissipative effects (e.g., 'EP', 'EVP') and other model parameters."
   ]
  },
  {
   "cell_type": "code",
   "execution_count": null,
   "id": "4ed54606",
   "metadata": {},
   "outputs": [],
   "source": [
    "# Create Interactive Widgets\n",
    "model_selector = widgets.Dropdown(\n",
    "    options=['Elastic-Plastic (EP)', 'Elastic-Viscoplastic (EVP)'],\n",
    "    description='Model:',\n",
    "    style={'description_width': 'initial'}\n",
    ")\n",
    "\n",
    "generate_button = widgets.Button(\n",
    "    description='Generate Model',\n",
    "    button_style='success'\n",
    ")\n",
    "\n",
    "def on_generate_button_click(b):\n",
    "    if model_selector.value == 'Elastic-Plastic (EP)':\n",
    "        model = ElasticPlasticModel()\n",
    "        display(Markdown(\"### Generated Model\"))\n",
    "        display(Markdown(model.latex_potentials()))\n",
    "\n",
    "generate_button.on_click(on_generate_button_click)\n",
    "\n",
    "display(model_selector, generate_button)"
   ]
  },
  {
   "cell_type": "markdown",
   "id": "fac2bf45",
   "metadata": {},
   "source": [
    "## Generate and Render SymPy Expressions\n",
    "Generate symbolic expressions for potentials, constraints, and derived equations using SymPy, and render them as LaTeX using ipywidgets and display utilities."
   ]
  },
  {
   "cell_type": "code",
   "execution_count": null,
   "id": "091cd658",
   "metadata": {},
   "outputs": [],
   "source": [
    "# Example: Render SymPy Expressions\n",
    "elastic_energy = sp.symbols('1/2 * E * epsilon**2')\n",
    "yield_condition = sp.symbols('sigma - sigma_y')\n",
    "\n",
    "display(Markdown(\"### Elastic Energy\"))\n",
    "display(Math(sp.latex(elastic_energy)))\n",
    "\n",
    "display(Markdown(\"### Yield Condition\"))\n",
    "display(Math(sp.latex(yield_condition)))"
   ]
  },
  {
   "cell_type": "markdown",
   "id": "b96aa721",
   "metadata": {},
   "source": [
    "## Interactive Visualization of Derived Equations\n",
    "Allow students to interactively inspect the symbolic derivations, including gradients, Jacobians, and evolution equations, through the user interface."
   ]
  },
  {
   "cell_type": "code",
   "execution_count": null,
   "id": "c3c11b69",
   "metadata": {},
   "outputs": [],
   "source": [
    "# Interactive Visualization\n",
    "gradient_button = widgets.Button(\n",
    "    description='Compute Gradient',\n",
    "    button_style='info'\n",
    ")\n",
    "\n",
    "def on_gradient_button_click(b):\n",
    "    gradient = sp.diff(elastic_energy, sp.symbols('epsilon'))\n",
    "    display(Markdown(\"### Gradient of Elastic Energy\"))\n",
    "    display(Math(sp.latex(gradient)))\n",
    "\n",
    "gradient_button.on_click(on_gradient_button_click)\n",
    "\n",
    "display(gradient_button)"
   ]
  },
  {
   "cell_type": "markdown",
   "id": "518a4a52",
   "metadata": {},
   "source": [
    "## Simulate Loading Scenarios\n",
    "Provide examples of strain-driven and stress-driven loading scenarios, and calculate the model response using the derived equations."
   ]
  },
  {
   "cell_type": "code",
   "execution_count": null,
   "id": "55808553",
   "metadata": {},
   "outputs": [],
   "source": [
    "# Simulate Loading Scenarios\n",
    "strain = sp.symbols('epsilon')\n",
    "stress = sp.symbols('sigma')\n",
    "E = sp.symbols('E')\n",
    "\n",
    "# Example: Strain-Driven Loading\n",
    "strain_values = [0.01, 0.02, 0.03]\n",
    "stress_values = [E * eps for eps in strain_values]\n",
    "\n",
    "display(Markdown(\"### Strain-Driven Loading\"))\n",
    "for eps, sig in zip(strain_values, stress_values):\n",
    "    display(Markdown(f\"Strain: {eps}, Stress: {sig}\"))"
   ]
  },
  {
   "cell_type": "code",
   "execution_count": null,
   "id": "55ab697d",
   "metadata": {},
   "outputs": [],
   "source": []
  }
 ],
 "metadata": {
  "kernelspec": {
   "display_name": "bmcs_matmod",
   "language": "python",
   "name": "python3"
  },
  "language_info": {
   "codemirror_mode": {
    "name": "ipython",
    "version": 3
   },
   "file_extension": ".py",
   "mimetype": "text/x-python",
   "name": "python",
   "nbconvert_exporter": "python",
   "pygments_lexer": "ipython3"
  }
 },
 "nbformat": 4,
 "nbformat_minor": 5
}
