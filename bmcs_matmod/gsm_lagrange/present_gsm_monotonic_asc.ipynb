{
 "cells": [
  {
   "cell_type": "markdown",
   "metadata": {},
   "source": [
    "# Present the symbolic derivation of existing models"
   ]
  },
  {
   "cell_type": "code",
   "execution_count": null,
   "metadata": {},
   "outputs": [],
   "source": [
    "%matplotlib widget\n",
    "import os, importlib, inspect\n",
    "from IPython.display import display, Math, Latex, Markdown\n",
    "from bmcs_matmod.gsm_lagrange.gsm_def import GSMDef, sp\n",
    "from bmcs_matmod.gsm_lagrange.gsm_model import GSMModel\n",
    "import numpy as np\n",
    "import matplotlib.pyplot as plt\n"
   ]
  },
  {
   "cell_type": "code",
   "execution_count": null,
   "metadata": {},
   "outputs": [],
   "source": [
    "gsm_defs = []\n",
    "\n",
    "# Collect all relevant modules and their classes\n",
    "for file_name in os.listdir('.'):\n",
    "    if file_name.endswith('.py') and file_name not in ['gsm_def.py', '__init__.py']:\n",
    "        module_path = f\"bmcs_matmod.gsm_lagrange.{file_name[:-3]}\"\n",
    "        module = importlib.import_module(module_path)\n",
    "        for name, obj in inspect.getmembers(module, inspect.isclass):\n",
    "            if issubclass(obj, GSMDef) and obj is not GSMDef:\n",
    "                gsm_defs.append((name, obj))\n",
    "\n",
    "# Sort the gsm_defs by class names\n",
    "gsm_defs.sort(key=lambda x: x[0])\n",
    "\n",
    "gsm_defs_dict = {name: obj for name, obj in gsm_defs}\n",
    "gsm_models = {name: GSMModel(obj) for name, obj in gsm_defs}\n",
    "gsm_defs_dict"
   ]
  },
  {
   "cell_type": "code",
   "execution_count": null,
   "metadata": {},
   "outputs": [],
   "source": [
    "mparams = dict(E = 20, K = 5, S = 2, c = 1, r = 1, eps_0 = 0, f_c = 15, eta_vp=10, eta_ve=100)"
   ]
  },
  {
   "cell_type": "code",
   "execution_count": null,
   "metadata": {},
   "outputs": [],
   "source": [
    "n_t = 151\n",
    "n_I = 1\n",
    "eps_max = 2.5\n",
    "final_time = 10\n",
    "t_t = np.linspace(0, final_time, n_t)\n",
    "eps_n_t = np.linspace(0, eps_max, n_t)\n",
    "response = {}\n",
    "selection = [] # ['GSM1D_VEVP', 'GSM1D_VEVPD']\n",
    "if len(selection) == 0:\n",
    "    selection = gsm_models.keys()\n",
    "for name in selection:\n",
    "    gsm = gsm_models[name]\n",
    "    gsm.set_params(**mparams)\n",
    "    print(f'name: {name}')\n",
    "    response[name] = gsm.get_F_response(eps_n_t, t_t)"
   ]
  },
  {
   "cell_type": "code",
   "execution_count": null,
   "metadata": {},
   "outputs": [],
   "source": [
    "fig, ax_sig = plt.subplots(1, 1, figsize=(8, 5))\n",
    "\n",
    "ax_iter = ax_sig.twinx()\n",
    "\n",
    "for name, resp in response.items():\n",
    "    t_t, eps_ta, sig_ta, Eps_t, Sig_t, iter_t, lam_t, (d_t_t, d_eps_ta) = resp\n",
    "    print(iter_t.shape)\n",
    "    eps_t = eps_ta[:, 0]\n",
    "    iter_t = iter_t[:, 0]\n",
    "    sig_t = sig_ta[:, 0, 0]\n",
    "    ax_sig.plot(eps_t, sig_t, label=rf'{name}')\n",
    "    ax_iter.plot(eps_t, iter_t, label=rf'{name}', ls='dashed')\n",
    "    # Add a box with the material parameters\n",
    "    param_text = ', '.join([f'{key}: {value}' for key, value in mparams.items()])\n",
    "    param_text = '\\n'.join([', '.join(param_text.split(', ')[i:i+5]) for i in range(0, len(param_text.split(', ')), 5)])\n",
    "    props = dict(boxstyle='round', facecolor='lightgray', edgecolor='lightgray', alpha=0.5)\n",
    "    ax_sig.text(0.5, 0.97, param_text, transform=ax_sig.transAxes, fontsize=11,\n",
    "                verticalalignment='top', horizontalalignment='center', bbox=props)\n",
    "ax_sig.set_ylabel(r'$\\sigma$', color='darkslategray')\n",
    "ax_sig.set_xlabel(r'$\\varepsilon$')\n",
    "ax_sig.legend(fontsize='small')\n"
   ]
  },
  {
   "cell_type": "code",
   "execution_count": null,
   "metadata": {},
   "outputs": [],
   "source": [
    "mparams = dict(E = 20, K = 10, S = .2, c = 1, r = 1, eps_0 = 0, f_c = 7, eta_vp=10, eta_ve=10)\n",
    "#mparams = dict(E = 20, K = 10, S = 10, c = 1, r = 1, eps_0 = 0, f_c = 15, eta_vp=30, eta_ve=10)\n",
    "\n",
    "n_t = 151\n",
    "n_I = 1\n",
    "sig_max = 16\n",
    "final_time = 30\n",
    "t_t = np.linspace(0, final_time, n_t)\n",
    "sig_n_t = np.linspace(0, sig_max, n_t)\n",
    "response = {}\n",
    "selection = ['GSM1D_EVPD', 'GSM1D_VEVP', 'GSM1D_VEVPD']\n",
    "if len(selection) == 0:\n",
    "    selection = gsm_models.keys()\n",
    "for name in selection:\n",
    "    gsm = gsm_models[name]\n",
    "    gsm.set_params(**mparams)\n",
    "    print(f'name: {name}')\n",
    "    response[name] = gsm.get_G_response(sig_n_t, t_t)"
   ]
  },
  {
   "cell_type": "code",
   "execution_count": null,
   "metadata": {},
   "outputs": [],
   "source": [
    "fig, ax_sig = plt.subplots(1, 1, figsize=(8, 5))\n",
    "\n",
    "ax_iter = ax_sig.twinx()\n",
    "\n",
    "for name, resp in response.items():\n",
    "    t_t, eps_ta, sig_ta, Eps_t, Sig_t, iter_t, lam_t, (d_t_t, d_eps_ta) = resp\n",
    "    print(iter_t.shape)\n",
    "    eps_t = eps_ta[:, 0]\n",
    "    iter_t = iter_t[:, 0]\n",
    "    sig_t = sig_ta[:, 0]\n",
    "    ax_sig.plot(eps_t, sig_t, label=rf'{name}')\n",
    "    ax_iter.plot(eps_t, iter_t, label=rf'{name}', ls='dashed')\n",
    "    # Add a box with the material parameters\n",
    "    param_text = ', '.join([f'{key}: {value}' for key, value in mparams.items()])\n",
    "    param_text = '\\n'.join([', '.join(param_text.split(', ')[i:i+5]) for i in range(0, len(param_text.split(', ')), 5)])\n",
    "    props = dict(boxstyle='round', facecolor='lightgray', edgecolor='lightgray', alpha=0.5)\n",
    "    ax_sig.text(0.5, 0.97, param_text, transform=ax_sig.transAxes, fontsize=11,\n",
    "                verticalalignment='top', horizontalalignment='center', bbox=props)\n",
    "ax_sig.set_ylabel(r'$\\sigma$', color='darkslategray')\n",
    "ax_sig.set_xlabel(r'$\\varepsilon$')\n",
    "ax_sig.legend(fontsize='small')\n"
   ]
  },
  {
   "cell_type": "code",
   "execution_count": null,
   "metadata": {},
   "outputs": [],
   "source": []
  }
 ],
 "metadata": {
  "kernelspec": {
   "display_name": "bmcs_env2",
   "language": "python",
   "name": "python3"
  },
  "language_info": {
   "codemirror_mode": {
    "name": "ipython",
    "version": 3
   },
   "file_extension": ".py",
   "mimetype": "text/x-python",
   "name": "python",
   "nbconvert_exporter": "python",
   "pygments_lexer": "ipython3"
  }
 },
 "nbformat": 4,
 "nbformat_minor": 2
}
