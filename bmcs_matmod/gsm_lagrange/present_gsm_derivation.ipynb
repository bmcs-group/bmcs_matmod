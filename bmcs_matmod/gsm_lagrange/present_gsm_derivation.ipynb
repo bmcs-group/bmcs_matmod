{
 "cells": [
  {
   "cell_type": "markdown",
   "metadata": {},
   "source": [
    "# Present the symbolic derivation of existing models"
   ]
  },
  {
   "cell_type": "code",
   "execution_count": null,
   "metadata": {},
   "outputs": [],
   "source": [
    "import os, importlib, inspect\n",
    "from IPython.display import display, Math, Latex, Markdown\n",
    "from bmcs_matmod.gsm_lagrange.gsm_def import GSMDef, sp"
   ]
  },
  {
   "cell_type": "code",
   "execution_count": null,
   "metadata": {},
   "outputs": [],
   "source": [
    "modules = []\n",
    "\n",
    "# Collect all relevant modules and their classes\n",
    "for file_name in os.listdir('.'):\n",
    "    if file_name.endswith('.py') and file_name not in ['gsm_def.py', '__init__.py']:\n",
    "        module_path = f\"bmcs_matmod.gsm_lagrange.{file_name[:-3]}\"\n",
    "        module = importlib.import_module(module_path)\n",
    "        for name, obj in inspect.getmembers(module, inspect.isclass):\n",
    "            if issubclass(obj, GSMDef) and obj is not GSMDef:\n",
    "                modules.append((name, obj))\n",
    "\n",
    "# Sort the modules by class names\n",
    "modules.sort(key=lambda x: x[0])\n",
    "\n",
    "# Render the classes using classmethods\n",
    "for name, obj in modules:\n",
    "    display(Markdown('---'))\n",
    "    latex_potentials = obj.latex_potentials()\n",
    "    display(Markdown(latex_potentials))"
   ]
  },
  {
   "cell_type": "code",
   "execution_count": null,
   "metadata": {},
   "outputs": [],
   "source": []
  },
  {
   "cell_type": "code",
   "execution_count": null,
   "metadata": {},
   "outputs": [],
   "source": []
  }
 ],
 "metadata": {
  "kernelspec": {
   "display_name": "bmcs_env2",
   "language": "python",
   "name": "python3"
  },
  "language_info": {
   "codemirror_mode": {
    "name": "ipython",
    "version": 3
   },
   "file_extension": ".py",
   "mimetype": "text/x-python",
   "name": "python",
   "nbconvert_exporter": "python",
   "pygments_lexer": "ipython3"
  }
 },
 "nbformat": 4,
 "nbformat_minor": 2
}
