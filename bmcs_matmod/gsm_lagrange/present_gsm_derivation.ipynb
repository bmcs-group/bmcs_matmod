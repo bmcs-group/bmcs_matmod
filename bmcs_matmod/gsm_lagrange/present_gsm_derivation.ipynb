{
 "cells": [
  {
   "cell_type": "markdown",
   "metadata": {},
   "source": [
    "# Present the symbolic derivation of existing models"
   ]
  },
  {
   "cell_type": "code",
   "execution_count": 1,
   "metadata": {},
   "outputs": [],
   "source": [
    "import os, importlib, inspect\n",
    "from IPython.display import display, Math, Latex, Markdown\n",
    "from bmcs_matmod.gsm_lagrange.gsm_def import GSMDef, sp\n",
    "from bmcs_matmod.gsm_lagrange.gsm_def_registry_new import list_gsm_defs\n",
    "gsm_defs = list_gsm_defs()\n"
   ]
  },
  {
   "cell_type": "code",
   "execution_count": null,
   "metadata": {},
   "outputs": [
    {
     "name": "stdout",
     "output_type": "stream",
     "text": [
      "Found 9 potential GSM model files:\n",
      "  gsm1d_vevpd.py\n",
      "  gsm1d_ep.py\n",
      "  gsm1d_ve.py\n",
      "  gsm1d_ed.py\n",
      "  gsm1d_epd.py\n",
      "  gsm1d_evp.py\n",
      "  gsm1d_evpd.py\n",
      "  gsm1d_vevp.py\n",
      "  gsm1d_ved.py\n",
      "\n",
      "Discovering GSM model classes:\n",
      "==================================================\n",
      "✓ GSM1D_VEVPD\n",
      "  Module: gsm1d_vevpd\n",
      "  Mechanism: VEVPD\n",
      "  Description: Single variable one-dimensional potential that can be used to demonstrate the\n",
      "\n",
      "✓ GSM1D_EP\n",
      "  Module: gsm1d_ep\n",
      "  Mechanism: EP\n",
      "  Description: Single variable one-dimensional potential that can be used to demonstrate the\n",
      "\n",
      "✓ GSM1D_VE\n",
      "  Module: gsm1d_ve\n",
      "  Mechanism: VE\n",
      "  Description: Single variable one-dimensional potential that can be used to demonstrate the\n",
      "\n",
      "✓ GSM1D_ED\n",
      "  Module: gsm1d_ed\n",
      "  Mechanism: ED\n",
      "  Description: Single variable one-dimensional potential that can be used to demonstrate the\n",
      "\n",
      "✓ GSM1D_EPD\n",
      "  Module: gsm1d_epd\n",
      "  Mechanism: EPD\n",
      "  Description: 1D Elastic-Plastic-Damage model.\n",
      "\n",
      "✓ GSM1D_EVP\n",
      "  Module: gsm1d_evp\n",
      "  Mechanism: EVP\n",
      "  Description: Single variable one-dimensional potential that can be used to demonstrate the\n",
      "\n",
      "✓ GSM1D_EVPD\n",
      "  Module: gsm1d_evpd\n",
      "  Mechanism: EVPD\n",
      "  Description: Single variable one-dimensional potential that can be used to demonstrate the\n",
      "\n",
      "✓ GSM1D_VEVP\n",
      "  Module: gsm1d_vevp\n",
      "  Mechanism: VEVP\n",
      "  Description: Single variable one-dimensional potential that can be used to demonstrate the\n",
      "\n",
      "✓ GSM1D_VED\n",
      "  Module: gsm1d_ved\n",
      "  Mechanism: VED\n",
      "  Description: Single variable one-dimensional potential that can be used to demonstrate the\n",
      "\n",
      "Total discovered models: 9\n",
      "Registry created with 9 unique models\n",
      "Available access keys: ['ED', 'EP', 'EPD', 'EVP', 'EVPD', 'GSM1D_ED', 'GSM1D_EP', 'GSM1D_EPD', 'GSM1D_EVP', 'GSM1D_EVPD', 'GSM1D_VE', 'GSM1D_VED', 'GSM1D_VEVP', 'GSM1D_VEVPD', 'VE', 'VED', 'VEVP', 'VEVPD', 'ed', 'ep', 'epd', 'evp', 'evpd', 'gsm1d_ed', 'gsm1d_ep', 'gsm1d_epd', 'gsm1d_evp', 'gsm1d_evpd', 'gsm1d_ve', 'gsm1d_ved', 'gsm1d_vevp', 'gsm1d_vevpd', 've', 'ved', 'vevp', 'vevpd']\n",
      "\n",
      "Total discovered models: 9\n",
      "\n",
      "Discovered GSM Models:\n",
      "============================================================\n",
      " 1. GSM1D_ED\n",
      "    Mechanism: ED\n",
      "    Class: <class 'bmcs_matmod.gsm_lagrange.gsm1d_ed.GSM1D_ED'>\n",
      "\n",
      " 2. GSM1D_EP\n",
      "    Mechanism: EP\n",
      "    Class: <class 'bmcs_matmod.gsm_lagrange.gsm1d_ep.GSM1D_EP'>\n",
      "\n",
      " 3. GSM1D_EPD\n",
      "    Mechanism: EPD\n",
      "    Class: <class 'bmcs_matmod.gsm_lagrange.gsm1d_epd.GSM1D_EPD'>\n",
      "\n",
      " 4. GSM1D_EVP\n",
      "    Mechanism: EVP\n",
      "    Class: <class 'bmcs_matmod.gsm_lagrange.gsm1d_evp.GSM1D_EVP'>\n",
      "\n",
      " 5. GSM1D_EVPD\n",
      "    Mechanism: EVPD\n",
      "    Class: <class 'bmcs_matmod.gsm_lagrange.gsm1d_evpd.GSM1D_EVPD'>\n",
      "\n",
      " 6. GSM1D_VE\n",
      "    Mechanism: VE\n",
      "    Class: <class 'bmcs_matmod.gsm_lagrange.gsm1d_ve.GSM1D_VE'>\n",
      "\n",
      " 7. GSM1D_VED\n",
      "    Mechanism: VED\n",
      "    Class: <class 'bmcs_matmod.gsm_lagrange.gsm1d_ved.GSM1D_VED'>\n",
      "\n",
      " 8. GSM1D_VEVP\n",
      "    Mechanism: VEVP\n",
      "    Class: <class 'bmcs_matmod.gsm_lagrange.gsm1d_vevp.GSM1D_VEVP'>\n",
      "\n",
      " 9. GSM1D_VEVPD\n",
      "    Mechanism: VEVPD\n",
      "    Class: <class 'bmcs_matmod.gsm_lagrange.gsm1d_vevpd.GSM1D_VEVPD'>\n",
      "\n",
      "Registry created with 9 unique models\n",
      "Available access keys: ['ED', 'EP', 'EPD', 'EVP', 'EVPD', 'GSM1D_ED', 'GSM1D_EP', 'GSM1D_EPD', 'GSM1D_EVP', 'GSM1D_EVPD', 'GSM1D_VE', 'GSM1D_VED', 'GSM1D_VEVP', 'GSM1D_VEVPD', 'VE', 'VED', 'VEVP', 'VEVPD', 'ed', 'ep', 'epd', 'evp', 'evpd', 'gsm1d_ed', 'gsm1d_ep', 'gsm1d_epd', 'gsm1d_evp', 'gsm1d_evpd', 'gsm1d_ve', 'gsm1d_ved', 'gsm1d_vevp', 'gsm1d_vevpd', 've', 'ved', 'vevp', 'vevpd']\n",
      "Rendering GSM Model Formulations:\n",
      "======================================================================\n",
      "Total discovered GSM definitions: 9\n",
      "\n",
      "Discovered GSM Definitions:\n",
      "============================================================\n",
      " 1. GSM1D_ED\n",
      "    Mechanism: ED\n",
      "    GSMDef Class: <class 'bmcs_matmod.gsm_lagrange.gsm1d_ed.GSM1D_ED'>\n",
      "\n",
      " 2. GSM1D_EP\n",
      "    Mechanism: EP\n",
      "    GSMDef Class: <class 'bmcs_matmod.gsm_lagrange.gsm1d_ep.GSM1D_EP'>\n",
      "\n",
      " 3. GSM1D_EPD\n",
      "    Mechanism: EPD\n",
      "    GSMDef Class: <class 'bmcs_matmod.gsm_lagrange.gsm1d_epd.GSM1D_EPD'>\n",
      "\n",
      " 4. GSM1D_EVP\n",
      "    Mechanism: EVP\n",
      "    GSMDef Class: <class 'bmcs_matmod.gsm_lagrange.gsm1d_evp.GSM1D_EVP'>\n",
      "\n",
      " 5. GSM1D_EVPD\n",
      "    Mechanism: EVPD\n",
      "    GSMDef Class: <class 'bmcs_matmod.gsm_lagrange.gsm1d_evpd.GSM1D_EVPD'>\n",
      "\n",
      " 6. GSM1D_VE\n",
      "    Mechanism: VE\n",
      "    GSMDef Class: <class 'bmcs_matmod.gsm_lagrange.gsm1d_ve.GSM1D_VE'>\n",
      "\n",
      " 7. GSM1D_VED\n",
      "    Mechanism: VED\n",
      "    GSMDef Class: <class 'bmcs_matmod.gsm_lagrange.gsm1d_ved.GSM1D_VED'>\n",
      "\n",
      " 8. GSM1D_VEVP\n",
      "    Mechanism: VEVP\n",
      "    GSMDef Class: <class 'bmcs_matmod.gsm_lagrange.gsm1d_vevp.GSM1D_VEVP'>\n",
      "\n",
      " 9. GSM1D_VEVPD\n",
      "    Mechanism: VEVPD\n",
      "    GSMDef Class: <class 'bmcs_matmod.gsm_lagrange.gsm1d_vevpd.GSM1D_VEVPD'>\n",
      "\n",
      "\n",
      "=============== GSM1D_ED ===============\n"
     ]
    },
    {
     "data": {
      "text/markdown": [
       "## GSM1D_ED"
      ],
      "text/plain": [
       "<IPython.core.display.Markdown object>"
      ]
     },
     "metadata": {},
     "output_type": "display_data"
    },
    {
     "data": {
      "text/markdown": [
       "**Elasto-Damage Model**"
      ],
      "text/plain": [
       "<IPython.core.display.Markdown object>"
      ]
     },
     "metadata": {},
     "output_type": "display_data"
    },
    {
     "data": {
      "text/markdown": [
       "*Single variable one-dimensional potential that can be used to demonstrate the\n",
       "    interaction between the individual dissipative mechanisms.*"
      ],
      "text/plain": [
       "<IPython.core.display.Markdown object>"
      ]
     },
     "metadata": {},
     "output_type": "display_data"
    },
    {
     "data": {
      "text/markdown": [
       "## class GSM1D_ED\n",
       "### Helmholtz free energy\n",
       "$$F = - \\frac{E \\varepsilon^{2} \\left(\\omega - 1\\right)}{2} + \\frac{z^{2}}{2}$$\n",
       "$$\\left\\{ Y : \\frac{E \\varepsilon^{2}}{2}, \\  Z : z\\right\\}$$\n",
       "#### Mechanical dissipation\n",
       "$$\\gamma_{\\mathrm{mech}} = Y \\dot{\\omega} - Z \\dot{z}$$\n",
       "#### Lagrangian\n",
       "$$\\mathcal{L} = - Y \\dot{\\omega} + Z \\dot{z} - \\lambda_{\\mathrm{\\phi}} \\left(- \\frac{S \\left(\\frac{Y}{S}\\right)^{r + 1} \\left(1 - \\omega\\right)^{c}}{r + 1} + Z + \\varepsilon_{0} - \\left|{\\varepsilon}\\right|\\right)$$\n",
       "#### Residuum\n",
       "$$\\frac{\\partial \\mathcal{L}}{\\partial \\mathcal{S}} = \\left[\\begin{matrix}\\frac{S \\lambda_{\\mathrm{\\phi}} \\left(\\frac{Y}{S}\\right)^{r + 1} \\left(1 - \\omega\\right)^{c}}{Y} - \\dot{\\omega}\\\\\\dot{z} - \\lambda_{\\mathrm{\\phi}}\\\\- Z - \\varepsilon_{0} + \\left|{\\varepsilon}\\right|\\end{matrix}\\right] = 0$$\n",
       "### Legendre transform\n",
       "#### Strain substitutions in dissipative terms\n",
       "$$\\left\\{ \\varepsilon : - \\frac{\\sigma}{E \\left(\\omega - 1\\right)}\\right\\}$$\n",
       "$$\\left\\{ \\dot{\\varepsilon} : \\frac{\\sigma \\dot{\\omega} - \\dot{\\sigma} \\left(\\omega - 1\\right)}{E \\left(\\omega - 1\\right)^{2}}\\right\\}$$\n",
       "### Gibbs free energy\n",
       "$$G = \\sigma \\varepsilon- \\left[- \\frac{E \\varepsilon^{2} \\left(\\omega - 1\\right)}{2} + \\frac{z^{2}}{2}\\right] $$\n",
       "#### Gibbs free energy after strain substitutions\n",
       "$$G = \\frac{- E z^{2} \\left(\\omega - 1\\right) - \\sigma^{2}}{2 E \\left(\\omega - 1\\right)}$$\n",
       "$$\\left\\{ Y : \\frac{\\sigma^{2}}{2 E \\left(\\omega - 1\\right)^{2}}, \\  Z : z\\right\\}$$\n",
       "#### Mechanical dissipation\n",
       "$$\\gamma_{\\mathrm{mech}} = Y \\dot{\\omega} - Z \\dot{z}$$\n",
       "#### Lagrangian\n",
       "$$\\mathcal{L} = - Y \\dot{\\omega} + Z \\dot{z} - \\lambda_{\\mathrm{\\phi}} \\left(- \\frac{Y \\left(\\frac{Y}{S}\\right)^{r} \\left(1 - \\omega\\right)^{c}}{r + 1} + Z + \\varepsilon_{0} - \\frac{\\left|{\\frac{\\sigma}{\\omega - 1}}\\right|}{E}\\right)$$\n",
       "#### Residuum\n",
       "$$\\frac{\\partial \\mathcal{L}}{\\partial \\mathcal{S}} = \\left[\\begin{matrix}- \\dot{\\omega} - \\lambda_{\\mathrm{\\phi}} \\left(- \\frac{r \\left(\\frac{Y}{S}\\right)^{r} \\left(1 - \\omega\\right)^{c}}{r + 1} - \\frac{\\left(\\frac{Y}{S}\\right)^{r} \\left(1 - \\omega\\right)^{c}}{r + 1}\\right)\\\\\\dot{z} - \\lambda_{\\mathrm{\\phi}}\\\\- Z - \\varepsilon_{0} + \\frac{\\left|{\\frac{\\sigma}{\\omega - 1}}\\right|}{E}\\end{matrix}\\right] = 0$$"
      ],
      "text/plain": [
       "<IPython.core.display.Markdown object>"
      ]
     },
     "metadata": {},
     "output_type": "display_data"
    },
    {
     "data": {
      "text/markdown": [
       "### Model Information"
      ],
      "text/plain": [
       "<IPython.core.display.Markdown object>"
      ]
     },
     "metadata": {},
     "output_type": "display_data"
    },
    {
     "data": {
      "text/markdown": [
       "- **Class**: `GSM1D_ED`\n",
       "- **Module**: `bmcs_matmod.gsm_lagrange.gsm1d_ed`\n",
       "- **F_engine**: GSMEngine\n",
       "- **G_engine**: GSMEngine"
      ],
      "text/plain": [
       "<IPython.core.display.Markdown object>"
      ]
     },
     "metadata": {},
     "output_type": "display_data"
    },
    {
     "data": {
      "text/markdown": [
       "---"
      ],
      "text/plain": [
       "<IPython.core.display.Markdown object>"
      ]
     },
     "metadata": {},
     "output_type": "display_data"
    },
    {
     "name": "stdout",
     "output_type": "stream",
     "text": [
      "\n",
      "=============== GSM1D_EP ===============\n"
     ]
    },
    {
     "data": {
      "text/markdown": [
       "## GSM1D_EP"
      ],
      "text/plain": [
       "<IPython.core.display.Markdown object>"
      ]
     },
     "metadata": {},
     "output_type": "display_data"
    },
    {
     "data": {
      "text/markdown": [
       "**Elasto-Plastic Model**"
      ],
      "text/plain": [
       "<IPython.core.display.Markdown object>"
      ]
     },
     "metadata": {},
     "output_type": "display_data"
    },
    {
     "data": {
      "text/markdown": [
       "*Single variable one-dimensional potential that can be used to demonstrate the\n",
       "    interaction between the individual dissipative mechanisms.*"
      ],
      "text/plain": [
       "<IPython.core.display.Markdown object>"
      ]
     },
     "metadata": {},
     "output_type": "display_data"
    },
    {
     "data": {
      "text/markdown": [
       "## class GSM1D_EP\n",
       "### Helmholtz free energy\n",
       "$$F = \\frac{E \\left(\\varepsilon - \\varepsilon^\\mathrm{p}\\right)^{2}}{2} + \\frac{K z^{2}}{2}$$\n",
       "$$\\left\\{ Z : K z, \\  \\sigma^\\mathrm{p} : - E \\left(- \\varepsilon + \\varepsilon^\\mathrm{p}\\right)\\right\\}$$\n",
       "#### Mechanical dissipation\n",
       "$$\\gamma_{\\mathrm{mech}} = - Z \\dot{z} + \\sigma^\\mathrm{p} \\dot{\\varepsilon^\\mathrm{p}}$$\n",
       "#### Lagrangian\n",
       "$$\\mathcal{L} = Z \\dot{z} - \\sigma^\\mathrm{p} \\dot{\\varepsilon^\\mathrm{p}} - \\lambda_{\\mathrm{\\phi}} \\left(Z + f_\\mathrm{c} - \\left|{\\sigma^\\mathrm{p}}\\right|\\right)$$\n",
       "#### Residuum\n",
       "$$\\frac{\\partial \\mathcal{L}}{\\partial \\mathcal{S}} = \\left[\\begin{matrix}- \\dot{\\varepsilon^\\mathrm{p}} + \\lambda_{\\mathrm{\\phi}} \\operatorname{sign}{\\left(\\sigma^\\mathrm{p} \\right)}\\\\\\dot{z} - \\lambda_{\\mathrm{\\phi}}\\\\- Z - f_\\mathrm{c} + \\left|{\\sigma^\\mathrm{p}}\\right|\\end{matrix}\\right] = 0$$\n",
       "### Legendre transform\n",
       "#### Strain substitutions in dissipative terms\n",
       "$$\\left\\{ \\varepsilon : \\varepsilon^\\mathrm{p} + \\frac{\\sigma}{E}\\right\\}$$\n",
       "$$\\left\\{ \\dot{\\varepsilon} : \\dot{\\varepsilon^\\mathrm{p}} + \\frac{\\dot{\\sigma}}{E}\\right\\}$$\n",
       "### Gibbs free energy\n",
       "$$G = \\sigma \\varepsilon- \\left[\\frac{E \\left(\\varepsilon - \\varepsilon^\\mathrm{p}\\right)^{2}}{2} + \\frac{K z^{2}}{2}\\right] $$\n",
       "#### Gibbs free energy after strain substitutions\n",
       "$$G = - \\frac{K z^{2}}{2} + \\sigma \\varepsilon^\\mathrm{p} + \\frac{\\sigma^{2}}{2 E}$$\n",
       "$$\\left\\{ Z : K z, \\  \\sigma^\\mathrm{p} : \\sigma\\right\\}$$\n",
       "#### Mechanical dissipation\n",
       "$$\\gamma_{\\mathrm{mech}} = - Z \\dot{z} + \\sigma^\\mathrm{p} \\dot{\\varepsilon^\\mathrm{p}}$$\n",
       "#### Lagrangian\n",
       "$$\\mathcal{L} = Z \\dot{z} - \\sigma^\\mathrm{p} \\dot{\\varepsilon^\\mathrm{p}} - \\lambda_{\\mathrm{\\phi}} \\left(Z + f_\\mathrm{c} - \\left|{\\sigma^\\mathrm{p}}\\right|\\right)$$\n",
       "#### Residuum\n",
       "$$\\frac{\\partial \\mathcal{L}}{\\partial \\mathcal{S}} = \\left[\\begin{matrix}- \\dot{\\varepsilon^\\mathrm{p}} + \\lambda_{\\mathrm{\\phi}} \\operatorname{sign}{\\left(\\sigma^\\mathrm{p} \\right)}\\\\\\dot{z} - \\lambda_{\\mathrm{\\phi}}\\\\- Z - f_\\mathrm{c} + \\left|{\\sigma^\\mathrm{p}}\\right|\\end{matrix}\\right] = 0$$"
      ],
      "text/plain": [
       "<IPython.core.display.Markdown object>"
      ]
     },
     "metadata": {},
     "output_type": "display_data"
    },
    {
     "data": {
      "text/markdown": [
       "### Model Information"
      ],
      "text/plain": [
       "<IPython.core.display.Markdown object>"
      ]
     },
     "metadata": {},
     "output_type": "display_data"
    },
    {
     "data": {
      "text/markdown": [
       "- **Class**: `GSM1D_EP`\n",
       "- **Module**: `bmcs_matmod.gsm_lagrange.gsm1d_ep`\n",
       "- **F_engine**: GSMEngine\n",
       "- **G_engine**: GSMEngine"
      ],
      "text/plain": [
       "<IPython.core.display.Markdown object>"
      ]
     },
     "metadata": {},
     "output_type": "display_data"
    },
    {
     "data": {
      "text/markdown": [
       "---"
      ],
      "text/plain": [
       "<IPython.core.display.Markdown object>"
      ]
     },
     "metadata": {},
     "output_type": "display_data"
    },
    {
     "name": "stdout",
     "output_type": "stream",
     "text": [
      "\n",
      "=============== GSM1D_EPD ===============\n"
     ]
    },
    {
     "data": {
      "text/markdown": [
       "## GSM1D_EPD"
      ],
      "text/plain": [
       "<IPython.core.display.Markdown object>"
      ]
     },
     "metadata": {},
     "output_type": "display_data"
    },
    {
     "data": {
      "text/markdown": [
       "**Elasto-Plastic-Damage Model**"
      ],
      "text/plain": [
       "<IPython.core.display.Markdown object>"
      ]
     },
     "metadata": {},
     "output_type": "display_data"
    },
    {
     "data": {
      "text/markdown": [
       "*1D Elastic-Plastic-Damage model.*"
      ],
      "text/plain": [
       "<IPython.core.display.Markdown object>"
      ]
     },
     "metadata": {},
     "output_type": "display_data"
    },
    {
     "data": {
      "text/markdown": [
       "## class GSM1D_EPD\n",
       "### Helmholtz free energy\n",
       "$$F = - \\frac{E \\left(\\omega - 1\\right) \\left(\\varepsilon - \\varepsilon^\\mathrm{p}\\right)^{2}}{2} + \\frac{K z^{2}}{2} + \\frac{\\alpha^{2} \\gamma}{2}$$\n",
       "$$\\left\\{ X : \\alpha \\gamma, \\  Y : \\frac{E \\left(\\varepsilon - \\varepsilon^\\mathrm{p}\\right)^{2}}{2}, \\  Z : K z, \\  \\sigma^\\mathrm{p} : - E \\left(\\omega - 1\\right) \\left(\\varepsilon - \\varepsilon^\\mathrm{p}\\right)\\right\\}$$\n",
       "#### Mechanical dissipation\n",
       "$$\\gamma_{\\mathrm{mech}} = - X \\dot{\\alpha} + Y \\dot{\\omega} - Z \\dot{z} + \\sigma^\\mathrm{p} \\dot{\\varepsilon^\\mathrm{p}}$$\n",
       "#### Lagrangian\n",
       "$$\\mathcal{L} = X \\dot{\\alpha} - Y \\dot{\\omega} + Z \\dot{z} - \\sigma^\\mathrm{p} \\dot{\\varepsilon^\\mathrm{p}} - \\lambda_{\\mathrm{\\phi}} \\left(- \\frac{S \\left(\\frac{Y}{S}\\right)^{r + 1} \\left(1 - \\omega\\right)^{c}}{r + 1} + Z + f_\\mathrm{c} - \\sqrt{\\left(- X + \\frac{\\sigma^\\mathrm{p}}{1 - \\omega}\\right)^{2}}\\right)$$\n",
       "#### Residuum\n",
       "$$\\frac{\\partial \\mathcal{L}}{\\partial \\mathcal{S}} = \\left[\\begin{matrix}- \\dot{\\varepsilon^\\mathrm{p}} + \\frac{\\lambda_{\\mathrm{\\phi}} \\sqrt{\\left(- X + \\frac{\\sigma^\\mathrm{p}}{1 - \\omega}\\right)^{2}}}{\\left(1 - \\omega\\right) \\left(- X + \\frac{\\sigma^\\mathrm{p}}{1 - \\omega}\\right)}\\\\\\frac{S \\lambda_{\\mathrm{\\phi}} \\left(\\frac{Y}{S}\\right)^{r + 1} \\left(1 - \\omega\\right)^{c}}{Y} - \\dot{\\omega}\\\\\\dot{z} - \\lambda_{\\mathrm{\\phi}}\\\\\\dot{\\alpha} + \\frac{\\lambda_{\\mathrm{\\phi}} \\left(X - \\frac{\\sigma^\\mathrm{p}}{1 - \\omega}\\right) \\sqrt{\\left(- X + \\frac{\\sigma^\\mathrm{p}}{1 - \\omega}\\right)^{2}}}{\\left(- X + \\frac{\\sigma^\\mathrm{p}}{1 - \\omega}\\right)^{2}}\\\\- Z - f_\\mathrm{c} + \\sqrt{\\left(- X + \\frac{\\sigma^\\mathrm{p}}{1 - \\omega}\\right)^{2}}\\end{matrix}\\right] = 0$$\n",
       "### Legendre transform\n",
       "#### Strain substitutions in dissipative terms\n",
       "$$\\left\\{ \\varepsilon : \\frac{E \\omega \\varepsilon^\\mathrm{p} - E \\varepsilon^\\mathrm{p} - \\sigma}{E \\left(\\omega - 1\\right)}\\right\\}$$\n",
       "$$\\left\\{ \\dot{\\varepsilon} : \\frac{E \\omega^{2} \\dot{\\varepsilon^\\mathrm{p}} - 2 E \\omega \\dot{\\varepsilon^\\mathrm{p}} + E \\dot{\\varepsilon^\\mathrm{p}} - \\omega \\dot{\\sigma} + \\sigma \\dot{\\omega} + \\dot{\\sigma}}{E \\left(\\omega^{2} - 2 \\omega + 1\\right)}\\right\\}$$\n",
       "### Gibbs free energy\n",
       "$$G = \\sigma \\varepsilon- \\left[- \\frac{E \\left(\\omega - 1\\right) \\left(\\varepsilon - \\varepsilon^\\mathrm{p}\\right)^{2}}{2} + \\frac{K z^{2}}{2} + \\frac{\\alpha^{2} \\gamma}{2}\\right] $$\n",
       "#### Gibbs free energy after strain substitutions\n",
       "$$G = \\frac{- E \\left(\\omega - 1\\right) \\left(K z^{2} + \\alpha^{2} \\gamma\\right) - 2 \\sigma \\left(- E \\omega \\varepsilon^\\mathrm{p} + E \\varepsilon^\\mathrm{p} + \\sigma\\right) + \\left(- E \\omega \\varepsilon^\\mathrm{p} + E \\varepsilon^\\mathrm{p} \\left(\\omega - 1\\right) + E \\varepsilon^\\mathrm{p} + \\sigma\\right)^{2}}{2 E \\left(\\omega - 1\\right)}$$\n",
       "$$\\left\\{ X : \\alpha \\gamma, \\  Y : \\frac{\\sigma^{2}}{2 E \\left(\\omega^{2} - 2 \\omega + 1\\right)}, \\  Z : K z, \\  \\sigma^\\mathrm{p} : \\sigma\\right\\}$$\n",
       "#### Mechanical dissipation\n",
       "$$\\gamma_{\\mathrm{mech}} = - X \\dot{\\alpha} + Y \\dot{\\omega} - Z \\dot{z} + \\sigma^\\mathrm{p} \\dot{\\varepsilon^\\mathrm{p}}$$\n",
       "#### Lagrangian\n",
       "$$\\mathcal{L} = X \\dot{\\alpha} - Y \\dot{\\omega} + Z \\dot{z} - \\sigma^\\mathrm{p} \\dot{\\varepsilon^\\mathrm{p}} - \\lambda_{\\mathrm{\\phi}} \\left(- \\frac{Y \\left(\\frac{Y}{S}\\right)^{r} \\left(1 - \\omega\\right)^{c}}{r + 1} + Z + f_\\mathrm{c} - \\left|{\\frac{X \\omega - X + \\sigma^\\mathrm{p}}{\\omega - 1}}\\right|\\right)$$\n",
       "#### Residuum\n",
       "$$\\frac{\\partial \\mathcal{L}}{\\partial \\mathcal{S}} = \\left[\\begin{matrix}- \\dot{\\varepsilon^\\mathrm{p}} + \\frac{\\lambda_{\\mathrm{\\phi}} \\operatorname{sign}{\\left(\\frac{X \\omega - X + \\sigma^\\mathrm{p}}{\\omega - 1} \\right)}}{\\omega - 1}\\\\- \\dot{\\omega} - \\lambda_{\\mathrm{\\phi}} \\left(- \\frac{r \\left(\\frac{Y}{S}\\right)^{r} \\left(1 - \\omega\\right)^{c}}{r + 1} - \\frac{\\left(\\frac{Y}{S}\\right)^{r} \\left(1 - \\omega\\right)^{c}}{r + 1}\\right)\\\\\\dot{z} - \\lambda_{\\mathrm{\\phi}}\\\\\\dot{\\alpha} + \\lambda_{\\mathrm{\\phi}} \\operatorname{sign}{\\left(\\frac{X \\omega - X + \\sigma^\\mathrm{p}}{\\omega - 1} \\right)}\\\\- Z - f_\\mathrm{c} + \\left|{\\frac{X \\omega - X + \\sigma^\\mathrm{p}}{\\omega - 1}}\\right|\\end{matrix}\\right] = 0$$"
      ],
      "text/plain": [
       "<IPython.core.display.Markdown object>"
      ]
     },
     "metadata": {},
     "output_type": "display_data"
    },
    {
     "data": {
      "text/markdown": [
       "### Model Information"
      ],
      "text/plain": [
       "<IPython.core.display.Markdown object>"
      ]
     },
     "metadata": {},
     "output_type": "display_data"
    },
    {
     "data": {
      "text/markdown": [
       "- **Class**: `GSM1D_EPD`\n",
       "- **Module**: `bmcs_matmod.gsm_lagrange.gsm1d_epd`\n",
       "- **F_engine**: GSMEngine\n",
       "- **G_engine**: GSMEngine"
      ],
      "text/plain": [
       "<IPython.core.display.Markdown object>"
      ]
     },
     "metadata": {},
     "output_type": "display_data"
    },
    {
     "data": {
      "text/markdown": [
       "---"
      ],
      "text/plain": [
       "<IPython.core.display.Markdown object>"
      ]
     },
     "metadata": {},
     "output_type": "display_data"
    },
    {
     "name": "stdout",
     "output_type": "stream",
     "text": [
      "\n",
      "=============== GSM1D_EVP ===============\n"
     ]
    },
    {
     "data": {
      "text/markdown": [
       "## GSM1D_EVP"
      ],
      "text/plain": [
       "<IPython.core.display.Markdown object>"
      ]
     },
     "metadata": {},
     "output_type": "display_data"
    },
    {
     "data": {
      "text/markdown": [
       "**Elasto-Visco-Plastic Model**"
      ],
      "text/plain": [
       "<IPython.core.display.Markdown object>"
      ]
     },
     "metadata": {},
     "output_type": "display_data"
    },
    {
     "data": {
      "text/markdown": [
       "*Single variable one-dimensional potential that can be used to demonstrate the\n",
       "    interaction between the individual dissipative mechanisms.*"
      ],
      "text/plain": [
       "<IPython.core.display.Markdown object>"
      ]
     },
     "metadata": {},
     "output_type": "display_data"
    },
    {
     "data": {
      "text/markdown": [
       "## class GSM1D_EVP\n",
       "### Helmholtz free energy\n",
       "$$F = \\frac{E \\left(\\varepsilon - \\varepsilon^\\mathrm{p}\\right)^{2}}{2} + \\frac{K z^{2}}{2}$$\n",
       "$$\\left\\{ Z : K z, \\  \\sigma^\\mathrm{p} : - E \\left(- \\varepsilon + \\varepsilon^\\mathrm{p}\\right)\\right\\}$$\n",
       "#### Mechanical dissipation\n",
       "$$\\gamma_{\\mathrm{mech}} = - Z \\dot{z} + \\sigma^\\mathrm{p} \\dot{\\varepsilon^\\mathrm{p}}$$\n",
       "#### Lagrangian\n",
       "$$\\mathcal{L} = Z \\dot{z} - \\sigma^\\mathrm{p} \\dot{\\varepsilon^\\mathrm{p}} - \\lambda_{\\mathrm{\\phi}} \\left(Z + \\eta_\\mathrm{vp} \\left|{\\dot{\\varepsilon^\\mathrm{p}}}\\right| + f_\\mathrm{c} - \\left|{\\sigma^\\mathrm{p}}\\right|\\right)$$\n",
       "#### Residuum\n",
       "$$\\frac{\\partial \\mathcal{L}}{\\partial \\mathcal{S}} = \\left[\\begin{matrix}- \\dot{\\varepsilon^\\mathrm{p}} + \\lambda_{\\mathrm{\\phi}} \\operatorname{sign}{\\left(\\sigma^\\mathrm{p} \\right)}\\\\\\dot{z} - \\lambda_{\\mathrm{\\phi}}\\\\- Z - \\eta_\\mathrm{vp} \\left|{\\dot{\\varepsilon^\\mathrm{p}}}\\right| - f_\\mathrm{c} + \\left|{\\sigma^\\mathrm{p}}\\right|\\end{matrix}\\right] = 0$$\n",
       "### Legendre transform\n",
       "#### Strain substitutions in dissipative terms\n",
       "$$\\left\\{ \\varepsilon : \\varepsilon^\\mathrm{p} + \\frac{\\sigma}{E}\\right\\}$$\n",
       "$$\\left\\{ \\dot{\\varepsilon} : \\dot{\\varepsilon^\\mathrm{p}} + \\frac{\\dot{\\sigma}}{E}\\right\\}$$\n",
       "### Gibbs free energy\n",
       "$$G = \\sigma \\varepsilon- \\left[\\frac{E \\left(\\varepsilon - \\varepsilon^\\mathrm{p}\\right)^{2}}{2} + \\frac{K z^{2}}{2}\\right] $$\n",
       "#### Gibbs free energy after strain substitutions\n",
       "$$G = - \\frac{K z^{2}}{2} + \\sigma \\varepsilon^\\mathrm{p} + \\frac{\\sigma^{2}}{2 E}$$\n",
       "$$\\left\\{ Z : K z, \\  \\sigma^\\mathrm{p} : \\sigma\\right\\}$$\n",
       "#### Mechanical dissipation\n",
       "$$\\gamma_{\\mathrm{mech}} = - Z \\dot{z} + \\sigma^\\mathrm{p} \\dot{\\varepsilon^\\mathrm{p}}$$\n",
       "#### Lagrangian\n",
       "$$\\mathcal{L} = Z \\dot{z} - \\sigma^\\mathrm{p} \\dot{\\varepsilon^\\mathrm{p}} - \\lambda_{\\mathrm{\\phi}} \\left(Z + \\eta_\\mathrm{vp} \\left|{\\dot{\\varepsilon^\\mathrm{p}}}\\right| + f_\\mathrm{c} - \\left|{\\sigma^\\mathrm{p}}\\right|\\right)$$\n",
       "#### Residuum\n",
       "$$\\frac{\\partial \\mathcal{L}}{\\partial \\mathcal{S}} = \\left[\\begin{matrix}- \\dot{\\varepsilon^\\mathrm{p}} + \\lambda_{\\mathrm{\\phi}} \\operatorname{sign}{\\left(\\sigma^\\mathrm{p} \\right)}\\\\\\dot{z} - \\lambda_{\\mathrm{\\phi}}\\\\- Z - \\eta_\\mathrm{vp} \\left|{\\dot{\\varepsilon^\\mathrm{p}}}\\right| - f_\\mathrm{c} + \\left|{\\sigma^\\mathrm{p}}\\right|\\end{matrix}\\right] = 0$$"
      ],
      "text/plain": [
       "<IPython.core.display.Markdown object>"
      ]
     },
     "metadata": {},
     "output_type": "display_data"
    },
    {
     "data": {
      "text/markdown": [
       "### Model Information"
      ],
      "text/plain": [
       "<IPython.core.display.Markdown object>"
      ]
     },
     "metadata": {},
     "output_type": "display_data"
    },
    {
     "data": {
      "text/markdown": [
       "- **Class**: `GSM1D_EVP`\n",
       "- **Module**: `bmcs_matmod.gsm_lagrange.gsm1d_evp`\n",
       "- **F_engine**: GSMEngine\n",
       "- **G_engine**: GSMEngine"
      ],
      "text/plain": [
       "<IPython.core.display.Markdown object>"
      ]
     },
     "metadata": {},
     "output_type": "display_data"
    },
    {
     "data": {
      "text/markdown": [
       "---"
      ],
      "text/plain": [
       "<IPython.core.display.Markdown object>"
      ]
     },
     "metadata": {},
     "output_type": "display_data"
    },
    {
     "name": "stdout",
     "output_type": "stream",
     "text": [
      "\n",
      "=============== GSM1D_EVPD ===============\n"
     ]
    },
    {
     "data": {
      "text/markdown": [
       "## GSM1D_EVPD"
      ],
      "text/plain": [
       "<IPython.core.display.Markdown object>"
      ]
     },
     "metadata": {},
     "output_type": "display_data"
    },
    {
     "data": {
      "text/markdown": [
       "**Elasto-Visco-Plastic-Damage Model**"
      ],
      "text/plain": [
       "<IPython.core.display.Markdown object>"
      ]
     },
     "metadata": {},
     "output_type": "display_data"
    },
    {
     "data": {
      "text/markdown": [
       "*Single variable one-dimensional potential that can be used to demonstrate the\n",
       "    interaction between the individual dissipative mechanisms.*"
      ],
      "text/plain": [
       "<IPython.core.display.Markdown object>"
      ]
     },
     "metadata": {},
     "output_type": "display_data"
    },
    {
     "data": {
      "text/markdown": [
       "## class GSM1D_EVPD\n",
       "### Helmholtz free energy\n",
       "$$F = - \\frac{E \\left(\\omega - 1\\right) \\left(\\varepsilon - \\varepsilon^\\mathrm{p}\\right)^{2}}{2} + \\frac{K z^{2}}{2}$$\n",
       "$$\\left\\{ Y : \\frac{E \\left(\\varepsilon - \\varepsilon^\\mathrm{p}\\right)^{2}}{2}, \\  Z : K z, \\  \\sigma^\\mathrm{p} : - E \\left(\\omega - 1\\right) \\left(\\varepsilon - \\varepsilon^\\mathrm{p}\\right)\\right\\}$$\n",
       "#### Mechanical dissipation\n",
       "$$\\gamma_{\\mathrm{mech}} = Y \\dot{\\omega} - Z \\dot{z} + \\sigma^\\mathrm{p} \\dot{\\varepsilon^\\mathrm{p}}$$\n",
       "#### Lagrangian\n",
       "$$\\mathcal{L} = - Y \\dot{\\omega} + Z \\dot{z} - \\sigma^\\mathrm{p} \\dot{\\varepsilon^\\mathrm{p}} - \\lambda_{\\mathrm{\\phi}} \\left(- \\frac{S \\left(\\frac{Y}{S}\\right)^{r + 1} \\left(1 - \\omega\\right)^{c} \\left|{\\dot{\\varepsilon^\\mathrm{p}} - \\dot{\\varepsilon}}\\right| \\theta\\left(\\sigma \\dot{\\varepsilon}\\right)}{r + 1} + Z + \\eta_\\mathrm{vp} \\sqrt{\\left(\\dot{\\varepsilon^\\mathrm{p}}\\right)^{2}} + f_\\mathrm{c} - \\frac{\\left|{\\sigma^\\mathrm{p}}\\right|}{\\left|{\\omega - 1}\\right|}\\right)$$\n",
       "#### Residuum\n",
       "$$\\frac{\\partial \\mathcal{L}}{\\partial \\mathcal{S}} = \\left[\\begin{matrix}- \\dot{\\varepsilon^\\mathrm{p}} + \\frac{\\lambda_{\\mathrm{\\phi}} \\operatorname{sign}{\\left(\\sigma^\\mathrm{p} \\right)}}{\\left|{\\omega - 1}\\right|}\\\\\\frac{S \\lambda_{\\mathrm{\\phi}} \\left(\\frac{Y}{S}\\right)^{r + 1} \\left(1 - \\omega\\right)^{c} \\left|{\\dot{\\varepsilon^\\mathrm{p}} - \\dot{\\varepsilon}}\\right| \\theta\\left(\\sigma \\dot{\\varepsilon}\\right)}{Y} - \\dot{\\omega}\\\\\\dot{z} - \\lambda_{\\mathrm{\\phi}}\\\\- Z - \\eta_\\mathrm{vp} \\sqrt{\\left(\\dot{\\varepsilon^\\mathrm{p}}\\right)^{2}} - f_\\mathrm{c} + \\frac{\\left|{\\sigma^\\mathrm{p}}\\right|}{\\left|{\\omega - 1}\\right|}\\end{matrix}\\right] = 0$$\n",
       "### Legendre transform\n",
       "#### Strain substitutions in dissipative terms\n",
       "$$\\left\\{ \\varepsilon : \\frac{E \\omega \\varepsilon^\\mathrm{p} - E \\varepsilon^\\mathrm{p} - \\sigma}{E \\left(\\omega - 1\\right)}\\right\\}$$\n",
       "$$\\left\\{ \\dot{\\varepsilon} : \\frac{E \\omega^{2} \\dot{\\varepsilon^\\mathrm{p}} - 2 E \\omega \\dot{\\varepsilon^\\mathrm{p}} + E \\dot{\\varepsilon^\\mathrm{p}} - \\omega \\dot{\\sigma} + \\sigma \\dot{\\omega} + \\dot{\\sigma}}{E \\left(\\omega^{2} - 2 \\omega + 1\\right)}\\right\\}$$\n",
       "### Gibbs free energy\n",
       "$$G = \\sigma \\varepsilon- \\left[- \\frac{E \\left(\\omega - 1\\right) \\left(\\varepsilon - \\varepsilon^\\mathrm{p}\\right)^{2}}{2} + \\frac{K z^{2}}{2}\\right] $$\n",
       "#### Gibbs free energy after strain substitutions\n",
       "$$G = \\frac{- E K \\omega z^{2} + E K z^{2} + 2 E \\omega \\sigma \\varepsilon^\\mathrm{p} - 2 E \\sigma \\varepsilon^\\mathrm{p} - \\sigma^{2}}{2 E \\left(\\omega - 1\\right)}$$\n",
       "$$\\left\\{ Y : \\frac{\\sigma^{2}}{2 E \\left(\\omega^{2} - 2 \\omega + 1\\right)}, \\  Z : K z, \\  \\sigma^\\mathrm{p} : \\sigma\\right\\}$$\n",
       "#### Mechanical dissipation\n",
       "$$\\gamma_{\\mathrm{mech}} = Y \\dot{\\omega} - Z \\dot{z} + \\sigma^\\mathrm{p} \\dot{\\varepsilon^\\mathrm{p}}$$\n",
       "#### Lagrangian\n",
       "$$\\mathcal{L} = - Y \\dot{\\omega} + Z \\dot{z} - \\sigma^\\mathrm{p} \\dot{\\varepsilon^\\mathrm{p}} - \\lambda_{\\mathrm{\\phi}} \\left(Z + \\eta_\\mathrm{vp} \\sqrt{\\left(\\dot{\\varepsilon^\\mathrm{p}}\\right)^{2}} + f_\\mathrm{c} - \\left|{\\frac{\\sigma^\\mathrm{p}}{\\omega - 1}}\\right| - \\frac{S^{- r} Y^{r + 1} \\left(1 - \\omega\\right)^{c} \\left|{\\frac{- \\omega \\dot{\\sigma} + \\sigma \\dot{\\omega} + \\dot{\\sigma}}{\\omega^{2} - 2 \\omega + 1}}\\right| \\theta\\left(\\frac{\\sigma \\left(E \\omega^{2} \\dot{\\varepsilon^\\mathrm{p}} - 2 E \\omega \\dot{\\varepsilon^\\mathrm{p}} + E \\dot{\\varepsilon^\\mathrm{p}} - \\omega \\dot{\\sigma} + \\sigma \\dot{\\omega} + \\dot{\\sigma}\\right)}{E \\left(\\omega^{2} - 2 \\omega + 1\\right)}\\right)}{E \\left(r + 1\\right)}\\right)$$\n",
       "#### Residuum\n",
       "$$\\frac{\\partial \\mathcal{L}}{\\partial \\mathcal{S}} = \\left[\\begin{matrix}- \\dot{\\varepsilon^\\mathrm{p}} + \\frac{\\lambda_{\\mathrm{\\phi}} \\operatorname{sign}{\\left(\\frac{\\sigma^\\mathrm{p}}{\\omega - 1} \\right)}}{\\omega - 1}\\\\- \\dot{\\omega} + \\frac{S^{- r} Y^{r + 1} \\lambda_{\\mathrm{\\phi}} \\left(1 - \\omega\\right)^{c} \\left|{\\frac{- \\omega \\dot{\\sigma} + \\sigma \\dot{\\omega} + \\dot{\\sigma}}{\\omega^{2} - 2 \\omega + 1}}\\right| \\theta\\left(\\frac{\\sigma \\left(E \\omega^{2} \\dot{\\varepsilon^\\mathrm{p}} - 2 E \\omega \\dot{\\varepsilon^\\mathrm{p}} + E \\dot{\\varepsilon^\\mathrm{p}} - \\omega \\dot{\\sigma} + \\sigma \\dot{\\omega} + \\dot{\\sigma}\\right)}{E \\left(\\omega^{2} - 2 \\omega + 1\\right)}\\right)}{E Y}\\\\\\dot{z} - \\lambda_{\\mathrm{\\phi}}\\\\- Z - \\eta_\\mathrm{vp} \\sqrt{\\left(\\dot{\\varepsilon^\\mathrm{p}}\\right)^{2}} - f_\\mathrm{c} + \\left|{\\frac{\\sigma^\\mathrm{p}}{\\omega - 1}}\\right|\\end{matrix}\\right] = 0$$"
      ],
      "text/plain": [
       "<IPython.core.display.Markdown object>"
      ]
     },
     "metadata": {},
     "output_type": "display_data"
    },
    {
     "data": {
      "text/markdown": [
       "### Model Information"
      ],
      "text/plain": [
       "<IPython.core.display.Markdown object>"
      ]
     },
     "metadata": {},
     "output_type": "display_data"
    },
    {
     "data": {
      "text/markdown": [
       "- **Class**: `GSM1D_EVPD`\n",
       "- **Module**: `bmcs_matmod.gsm_lagrange.gsm1d_evpd`\n",
       "- **F_engine**: GSMEngine\n",
       "- **G_engine**: GSMEngine"
      ],
      "text/plain": [
       "<IPython.core.display.Markdown object>"
      ]
     },
     "metadata": {},
     "output_type": "display_data"
    },
    {
     "data": {
      "text/markdown": [
       "---"
      ],
      "text/plain": [
       "<IPython.core.display.Markdown object>"
      ]
     },
     "metadata": {},
     "output_type": "display_data"
    },
    {
     "name": "stdout",
     "output_type": "stream",
     "text": [
      "\n",
      "=============== GSM1D_VE ===============\n"
     ]
    },
    {
     "data": {
      "text/markdown": [
       "## GSM1D_VE"
      ],
      "text/plain": [
       "<IPython.core.display.Markdown object>"
      ]
     },
     "metadata": {},
     "output_type": "display_data"
    },
    {
     "data": {
      "text/markdown": [
       "**Visco-Elastic Model**"
      ],
      "text/plain": [
       "<IPython.core.display.Markdown object>"
      ]
     },
     "metadata": {},
     "output_type": "display_data"
    },
    {
     "data": {
      "text/markdown": [
       "*Single variable one-dimensional potential that can be used to demonstrate the\n",
       "    interaction between the individual dissipative mechanisms.*"
      ],
      "text/plain": [
       "<IPython.core.display.Markdown object>"
      ]
     },
     "metadata": {},
     "output_type": "display_data"
    },
    {
     "data": {
      "text/markdown": [
       "## class GSM1D_VE\n",
       "### Helmholtz free energy\n",
       "$$F = \\frac{E \\left(\\varepsilon - \\varepsilon^\\mathrm{v}\\right)^{2}}{2}$$\n",
       "$$\\left\\{ \\sigma : - E \\left(- \\varepsilon + \\varepsilon^\\mathrm{v}\\right)\\right\\}$$\n",
       "#### Mechanical dissipation\n",
       "$$\\gamma_{\\mathrm{mech}} = \\sigma \\dot{\\varepsilon^\\mathrm{v}}$$\n",
       "#### Lagrangian\n",
       "$$\\mathcal{L} = - \\sigma \\dot{\\varepsilon^\\mathrm{v}} - \\dot{\\lambda}_{0} \\left(\\eta_\\mathrm{ve} \\dot{\\varepsilon^\\mathrm{v}} - \\sigma\\right)$$\n",
       "#### Residuum\n",
       "$$\\frac{\\partial \\mathcal{L}}{\\partial \\mathcal{S}} = \\left[\\begin{matrix}\\dot{\\lambda}_{0} - \\dot{\\varepsilon^\\mathrm{v}}\\\\- \\eta_\\mathrm{ve} \\dot{\\varepsilon^\\mathrm{v}} + \\sigma\\end{matrix}\\right] = 0$$\n",
       "### Legendre transform\n",
       "#### Strain substitutions in dissipative terms\n",
       "$$\\left\\{ \\varepsilon : \\varepsilon^\\mathrm{v} + \\frac{\\sigma}{E}\\right\\}$$\n",
       "$$\\left\\{ \\dot{\\varepsilon} : \\dot{\\varepsilon^\\mathrm{v}} + \\frac{\\dot{\\sigma}}{E}\\right\\}$$\n",
       "### Gibbs free energy\n",
       "$$G = \\sigma \\varepsilon- \\left[\\frac{E \\left(\\varepsilon - \\varepsilon^\\mathrm{v}\\right)^{2}}{2}\\right] $$\n",
       "#### Gibbs free energy after strain substitutions\n",
       "$$G = \\sigma \\varepsilon^\\mathrm{v} + \\frac{\\sigma^{2}}{2 E}$$\n",
       "$$\\left\\{ \\sigma : \\sigma\\right\\}$$\n",
       "#### Mechanical dissipation\n",
       "$$\\gamma_{\\mathrm{mech}} = \\sigma \\dot{\\varepsilon^\\mathrm{v}}$$\n",
       "#### Lagrangian\n",
       "$$\\mathcal{L} = - \\sigma \\dot{\\varepsilon^\\mathrm{v}} - \\dot{\\lambda}_{0} \\left(\\eta_\\mathrm{ve} \\dot{\\varepsilon^\\mathrm{v}} - \\sigma\\right)$$\n",
       "#### Residuum\n",
       "$$\\frac{\\partial \\mathcal{L}}{\\partial \\mathcal{S}} = \\left[\\begin{matrix}\\dot{\\lambda}_{0} - \\dot{\\varepsilon^\\mathrm{v}}\\\\- \\eta_\\mathrm{ve} \\dot{\\varepsilon^\\mathrm{v}} + \\sigma\\end{matrix}\\right] = 0$$"
      ],
      "text/plain": [
       "<IPython.core.display.Markdown object>"
      ]
     },
     "metadata": {},
     "output_type": "display_data"
    },
    {
     "data": {
      "text/markdown": [
       "### Model Information"
      ],
      "text/plain": [
       "<IPython.core.display.Markdown object>"
      ]
     },
     "metadata": {},
     "output_type": "display_data"
    },
    {
     "data": {
      "text/markdown": [
       "- **Class**: `GSM1D_VE`\n",
       "- **Module**: `bmcs_matmod.gsm_lagrange.gsm1d_ve`\n",
       "- **F_engine**: GSMEngine\n",
       "- **G_engine**: GSMEngine"
      ],
      "text/plain": [
       "<IPython.core.display.Markdown object>"
      ]
     },
     "metadata": {},
     "output_type": "display_data"
    },
    {
     "data": {
      "text/markdown": [
       "---"
      ],
      "text/plain": [
       "<IPython.core.display.Markdown object>"
      ]
     },
     "metadata": {},
     "output_type": "display_data"
    },
    {
     "name": "stdout",
     "output_type": "stream",
     "text": [
      "\n",
      "=============== GSM1D_VED ===============\n"
     ]
    },
    {
     "data": {
      "text/markdown": [
       "## GSM1D_VED"
      ],
      "text/plain": [
       "<IPython.core.display.Markdown object>"
      ]
     },
     "metadata": {},
     "output_type": "display_data"
    },
    {
     "data": {
      "text/markdown": [
       "**Visco-Elasto-Damage Model**"
      ],
      "text/plain": [
       "<IPython.core.display.Markdown object>"
      ]
     },
     "metadata": {},
     "output_type": "display_data"
    },
    {
     "data": {
      "text/markdown": [
       "*Single variable one-dimensional potential that can be used to demonstrate the\n",
       "    interaction between the individual dissipative mechanisms.*"
      ],
      "text/plain": [
       "<IPython.core.display.Markdown object>"
      ]
     },
     "metadata": {},
     "output_type": "display_data"
    },
    {
     "data": {
      "text/markdown": [
       "## class GSM1D_VED\n",
       "### Helmholtz free energy\n",
       "$$F = \\frac{E^{2} \\cdot \\left(1 - \\omega\\right) \\left(\\varepsilon - \\varepsilon^\\mathrm{ve}\\right)^{2} + z^{2}}{2 E}$$\n",
       "$$\\left\\{ Y : \\frac{E \\left(\\varepsilon - \\varepsilon^\\mathrm{ve}\\right)^{2}}{2}, \\  Z : \\frac{z}{E}, \\  \\sigma^\\mathrm{ve} : - E \\left(\\omega - 1\\right) \\left(\\varepsilon - \\varepsilon^\\mathrm{ve}\\right)\\right\\}$$\n",
       "#### Mechanical dissipation\n",
       "$$\\gamma_{\\mathrm{mech}} = Y \\dot{\\omega} - Z \\dot{z} + \\sigma^\\mathrm{ve} \\dot{\\varepsilon^\\mathrm{ve}}$$\n",
       "#### Lagrangian\n",
       "$$\\mathcal{L} = - Y \\dot{\\omega} + Z \\dot{z} - \\sigma^\\mathrm{ve} \\dot{\\varepsilon^\\mathrm{ve}} - \\dot{\\lambda}_{0} \\left(\\dot{\\varepsilon^\\mathrm{ve}} - \\frac{\\sigma^\\mathrm{ve}}{\\eta_\\mathrm{ve} \\left(1 - \\omega\\right)}\\right) - \\lambda_{\\mathrm{\\phi}} \\left(- \\frac{S \\left(\\frac{Y}{S}\\right)^{r + 1} \\left(1 - \\omega\\right)^{c} \\left|{\\dot{\\varepsilon^\\mathrm{ve}} - \\dot{\\varepsilon}}\\right|}{r + 1} + Z + \\varepsilon_{0} - \\left|{\\varepsilon}\\right|\\right)$$\n",
       "#### Residuum\n",
       "$$\\frac{\\partial \\mathcal{L}}{\\partial \\mathcal{S}} = \\left[\\begin{matrix}- \\dot{\\varepsilon^\\mathrm{ve}} + \\frac{\\dot{\\lambda}_{0}}{\\eta_\\mathrm{ve} \\left(1 - \\omega\\right)}\\\\\\frac{S \\lambda_{\\mathrm{\\phi}} \\left(\\frac{Y}{S}\\right)^{r + 1} \\left(1 - \\omega\\right)^{c} \\left|{\\dot{\\varepsilon^\\mathrm{ve}} - \\dot{\\varepsilon}}\\right|}{Y} - \\dot{\\omega}\\\\\\dot{z} - \\lambda_{\\mathrm{\\phi}}\\\\- \\dot{\\varepsilon^\\mathrm{ve}} + \\frac{\\sigma^\\mathrm{ve}}{\\eta_\\mathrm{ve} \\left(1 - \\omega\\right)}\\\\- Z - \\varepsilon_{0} + \\left|{\\varepsilon}\\right|\\end{matrix}\\right] = 0$$\n",
       "### Legendre transform\n",
       "#### Strain substitutions in dissipative terms\n",
       "$$\\left\\{ \\varepsilon : \\frac{E \\omega \\varepsilon^\\mathrm{ve} - E \\varepsilon^\\mathrm{ve} - \\sigma}{E \\left(\\omega - 1\\right)}\\right\\}$$\n",
       "$$\\left\\{ \\dot{\\varepsilon} : \\frac{E \\omega^{2} \\dot{\\varepsilon^\\mathrm{ve}} - 2 E \\omega \\dot{\\varepsilon^\\mathrm{ve}} + E \\dot{\\varepsilon^\\mathrm{ve}} - \\omega \\dot{\\sigma} + \\sigma \\dot{\\omega} + \\dot{\\sigma}}{E \\left(\\omega^{2} - 2 \\omega + 1\\right)}\\right\\}$$\n",
       "### Gibbs free energy\n",
       "$$G = \\sigma \\varepsilon- \\left[\\frac{E^{2} \\cdot \\left(1 - \\omega\\right) \\left(\\varepsilon - \\varepsilon^\\mathrm{ve}\\right)^{2} + z^{2}}{2 E}\\right] $$\n",
       "#### Gibbs free energy after strain substitutions\n",
       "$$G = \\frac{2 E \\omega \\sigma \\varepsilon^\\mathrm{ve} - 2 E \\sigma \\varepsilon^\\mathrm{ve} - \\omega z^{2} - \\sigma^{2} + z^{2}}{2 E \\left(\\omega - 1\\right)}$$\n",
       "$$\\left\\{ Y : \\frac{\\sigma^{2}}{2 E \\left(\\omega^{2} - 2 \\omega + 1\\right)}, \\  Z : \\frac{z}{E}, \\  \\sigma^\\mathrm{ve} : \\sigma\\right\\}$$\n",
       "#### Mechanical dissipation\n",
       "$$\\gamma_{\\mathrm{mech}} = Y \\dot{\\omega} - Z \\dot{z} + \\sigma^\\mathrm{ve} \\dot{\\varepsilon^\\mathrm{ve}}$$\n",
       "#### Lagrangian\n",
       "$$\\mathcal{L} = - Y \\dot{\\omega} + Z \\dot{z} - \\sigma^\\mathrm{ve} \\dot{\\varepsilon^\\mathrm{ve}} - \\dot{\\lambda}_{0} \\left(\\dot{\\varepsilon^\\mathrm{ve}} + \\frac{\\sigma^\\mathrm{ve}}{\\eta_\\mathrm{ve} \\left(\\omega - 1\\right)}\\right) - \\lambda_{\\mathrm{\\phi}} \\left(- \\frac{Y \\left(\\frac{Y}{S}\\right)^{r} \\left(1 - \\omega\\right)^{c} \\left|{\\frac{- \\omega \\dot{\\sigma} + \\sigma \\dot{\\omega} + \\dot{\\sigma}}{\\omega^{2} - 2 \\omega + 1}}\\right|}{E \\left(r + 1\\right)} - \\frac{- E \\left(Z + \\varepsilon_{0}\\right) + \\left|{\\frac{- E \\omega \\varepsilon^\\mathrm{ve} + E \\varepsilon^\\mathrm{ve} + \\sigma}{\\omega - 1}}\\right|}{E}\\right)$$\n",
       "#### Residuum\n",
       "$$\\frac{\\partial \\mathcal{L}}{\\partial \\mathcal{S}} = \\left[\\begin{matrix}- \\dot{\\varepsilon^\\mathrm{ve}} - \\frac{\\dot{\\lambda}_{0}}{\\eta_\\mathrm{ve} \\left(\\omega - 1\\right)}\\\\- \\dot{\\omega} - \\lambda_{\\mathrm{\\phi}} \\left(- \\frac{r \\left(\\frac{Y}{S}\\right)^{r} \\left(1 - \\omega\\right)^{c} \\left|{\\frac{- \\omega \\dot{\\sigma} + \\sigma \\dot{\\omega} + \\dot{\\sigma}}{\\omega^{2} - 2 \\omega + 1}}\\right|}{E \\left(r + 1\\right)} - \\frac{\\left(\\frac{Y}{S}\\right)^{r} \\left(1 - \\omega\\right)^{c} \\left|{\\frac{- \\omega \\dot{\\sigma} + \\sigma \\dot{\\omega} + \\dot{\\sigma}}{\\omega^{2} - 2 \\omega + 1}}\\right|}{E \\left(r + 1\\right)}\\right)\\\\\\dot{z} - \\lambda_{\\mathrm{\\phi}}\\\\- \\dot{\\varepsilon^\\mathrm{ve}} - \\frac{\\sigma^\\mathrm{ve}}{\\eta_\\mathrm{ve} \\left(\\omega - 1\\right)}\\\\\\frac{- E \\left(Z + \\varepsilon_{0}\\right) + \\left|{\\frac{- E \\omega \\varepsilon^\\mathrm{ve} + E \\varepsilon^\\mathrm{ve} + \\sigma}{\\omega - 1}}\\right|}{E}\\end{matrix}\\right] = 0$$"
      ],
      "text/plain": [
       "<IPython.core.display.Markdown object>"
      ]
     },
     "metadata": {},
     "output_type": "display_data"
    },
    {
     "data": {
      "text/markdown": [
       "### Model Information"
      ],
      "text/plain": [
       "<IPython.core.display.Markdown object>"
      ]
     },
     "metadata": {},
     "output_type": "display_data"
    },
    {
     "data": {
      "text/markdown": [
       "- **Class**: `GSM1D_VED`\n",
       "- **Module**: `bmcs_matmod.gsm_lagrange.gsm1d_ved`\n",
       "- **F_engine**: GSMEngine\n",
       "- **G_engine**: GSMEngine"
      ],
      "text/plain": [
       "<IPython.core.display.Markdown object>"
      ]
     },
     "metadata": {},
     "output_type": "display_data"
    },
    {
     "data": {
      "text/markdown": [
       "---"
      ],
      "text/plain": [
       "<IPython.core.display.Markdown object>"
      ]
     },
     "metadata": {},
     "output_type": "display_data"
    },
    {
     "name": "stdout",
     "output_type": "stream",
     "text": [
      "\n",
      "=============== GSM1D_VEVP ===============\n"
     ]
    },
    {
     "data": {
      "text/markdown": [
       "## GSM1D_VEVP"
      ],
      "text/plain": [
       "<IPython.core.display.Markdown object>"
      ]
     },
     "metadata": {},
     "output_type": "display_data"
    },
    {
     "data": {
      "text/markdown": [
       "**Visco-Elasto-Visco-Plastic Model**"
      ],
      "text/plain": [
       "<IPython.core.display.Markdown object>"
      ]
     },
     "metadata": {},
     "output_type": "display_data"
    },
    {
     "data": {
      "text/markdown": [
       "*Single variable one-dimensional potential that can be used to demonstrate the\n",
       "    interaction between the individual dissipative mechanisms.*"
      ],
      "text/plain": [
       "<IPython.core.display.Markdown object>"
      ]
     },
     "metadata": {},
     "output_type": "display_data"
    },
    {
     "data": {
      "text/markdown": [
       "## class GSM1D_VEVP\n",
       "### Helmholtz free energy\n",
       "$$F = \\frac{E \\left(- \\varepsilon + \\varepsilon^\\mathrm{ve} + \\varepsilon^\\mathrm{vp}\\right)^{2}}{2} + \\frac{K z^{2}}{2}$$\n",
       "$$\\left\\{ Z : K z, \\  \\sigma^\\mathrm{ve} : - E \\left(- \\varepsilon + \\varepsilon^\\mathrm{ve} + \\varepsilon^\\mathrm{vp}\\right), \\  \\sigma^\\mathrm{vp} : - E \\left(- \\varepsilon + \\varepsilon^\\mathrm{ve} + \\varepsilon^\\mathrm{vp}\\right)\\right\\}$$\n",
       "#### Mechanical dissipation\n",
       "$$\\gamma_{\\mathrm{mech}} = - Z \\dot{z} + \\sigma^\\mathrm{ve} \\dot{\\varepsilon^\\mathrm{ve}} + \\sigma^\\mathrm{vp} \\dot{\\varepsilon^\\mathrm{vp}}$$\n",
       "#### Lagrangian\n",
       "$$\\mathcal{L} = Z \\dot{z} - \\sigma^\\mathrm{ve} \\dot{\\varepsilon^\\mathrm{ve}} - \\sigma^\\mathrm{vp} \\dot{\\varepsilon^\\mathrm{vp}} - \\dot{\\lambda}_{0} \\left(\\eta_\\mathrm{ve} \\dot{\\varepsilon^\\mathrm{ve}} - \\sigma^\\mathrm{ve}\\right) - \\lambda_{\\mathrm{\\phi}} \\left(Z + \\eta_\\mathrm{vp} \\sqrt{\\left(\\dot{\\varepsilon^\\mathrm{vp}}\\right)^{2}} + f_\\mathrm{c} - \\left|{\\sigma^\\mathrm{vp}}\\right|\\right)$$\n",
       "#### Residuum\n",
       "$$\\frac{\\partial \\mathcal{L}}{\\partial \\mathcal{S}} = \\left[\\begin{matrix}\\dot{\\lambda}_{0} - \\dot{\\varepsilon^\\mathrm{ve}}\\\\- \\dot{\\varepsilon^\\mathrm{vp}} + \\lambda_{\\mathrm{\\phi}} \\operatorname{sign}{\\left(\\sigma^\\mathrm{vp} \\right)}\\\\\\dot{z} - \\lambda_{\\mathrm{\\phi}}\\\\- \\eta_\\mathrm{ve} \\dot{\\varepsilon^\\mathrm{ve}} + \\sigma^\\mathrm{ve}\\\\- Z - \\eta_\\mathrm{vp} \\sqrt{\\left(\\dot{\\varepsilon^\\mathrm{vp}}\\right)^{2}} - f_\\mathrm{c} + \\left|{\\sigma^\\mathrm{vp}}\\right|\\end{matrix}\\right] = 0$$\n",
       "#### Bounds of inelastic process\n",
       "$$\\left|{\\dot{\\varepsilon^\\mathrm{ve}}}\\right| - \\left|{\\dot{\\varepsilon}}\\right| \\leq 0$$\n",
       "### Legendre transform\n",
       "#### Strain substitutions in dissipative terms\n",
       "$$\\left\\{ \\varepsilon : \\varepsilon^\\mathrm{ve} + \\varepsilon^\\mathrm{vp} + \\frac{\\sigma}{E}\\right\\}$$\n",
       "$$\\left\\{ \\dot{\\varepsilon} : \\dot{\\varepsilon^\\mathrm{ve}} + \\dot{\\varepsilon^\\mathrm{vp}} + \\frac{\\dot{\\sigma}}{E}\\right\\}$$\n",
       "### Gibbs free energy\n",
       "$$G = \\sigma \\varepsilon- \\left[\\frac{E \\left(- \\varepsilon + \\varepsilon^\\mathrm{ve} + \\varepsilon^\\mathrm{vp}\\right)^{2}}{2} + \\frac{K z^{2}}{2}\\right] $$\n",
       "#### Gibbs free energy after strain substitutions\n",
       "$$G = - \\frac{K z^{2}}{2} + \\sigma \\varepsilon^\\mathrm{ve} + \\sigma \\varepsilon^\\mathrm{vp} + \\frac{\\sigma^{2}}{2 E}$$\n",
       "$$\\left\\{ Z : K z, \\  \\sigma^\\mathrm{ve} : \\sigma, \\  \\sigma^\\mathrm{vp} : \\sigma\\right\\}$$\n",
       "#### Mechanical dissipation\n",
       "$$\\gamma_{\\mathrm{mech}} = - Z \\dot{z} + \\sigma^\\mathrm{ve} \\dot{\\varepsilon^\\mathrm{ve}} + \\sigma^\\mathrm{vp} \\dot{\\varepsilon^\\mathrm{vp}}$$\n",
       "#### Lagrangian\n",
       "$$\\mathcal{L} = Z \\dot{z} - \\sigma^\\mathrm{ve} \\dot{\\varepsilon^\\mathrm{ve}} - \\sigma^\\mathrm{vp} \\dot{\\varepsilon^\\mathrm{vp}} - \\dot{\\lambda}_{0} \\left(\\eta_\\mathrm{ve} \\dot{\\varepsilon^\\mathrm{ve}} - \\sigma^\\mathrm{ve}\\right) - \\lambda_{\\mathrm{\\phi}} \\left(Z + \\eta_\\mathrm{vp} \\sqrt{\\left(\\dot{\\varepsilon^\\mathrm{vp}}\\right)^{2}} + f_\\mathrm{c} - \\left|{\\sigma^\\mathrm{vp}}\\right|\\right)$$\n",
       "#### Residuum\n",
       "$$\\frac{\\partial \\mathcal{L}}{\\partial \\mathcal{S}} = \\left[\\begin{matrix}\\dot{\\lambda}_{0} - \\dot{\\varepsilon^\\mathrm{ve}}\\\\- \\dot{\\varepsilon^\\mathrm{vp}} + \\lambda_{\\mathrm{\\phi}} \\operatorname{sign}{\\left(\\sigma^\\mathrm{vp} \\right)}\\\\\\dot{z} - \\lambda_{\\mathrm{\\phi}}\\\\- \\eta_\\mathrm{ve} \\dot{\\varepsilon^\\mathrm{ve}} + \\sigma^\\mathrm{ve}\\\\- Z - \\eta_\\mathrm{vp} \\sqrt{\\left(\\dot{\\varepsilon^\\mathrm{vp}}\\right)^{2}} - f_\\mathrm{c} + \\left|{\\sigma^\\mathrm{vp}}\\right|\\end{matrix}\\right] = 0$$\n",
       "#### Bounds of inelastic process\n",
       "$$\\left|{\\dot{\\varepsilon^\\mathrm{ve}}}\\right| - \\left|{\\dot{\\varepsilon}}\\right| \\leq 0$$"
      ],
      "text/plain": [
       "<IPython.core.display.Markdown object>"
      ]
     },
     "metadata": {},
     "output_type": "display_data"
    },
    {
     "data": {
      "text/markdown": [
       "### Model Information"
      ],
      "text/plain": [
       "<IPython.core.display.Markdown object>"
      ]
     },
     "metadata": {},
     "output_type": "display_data"
    },
    {
     "data": {
      "text/markdown": [
       "- **Class**: `GSM1D_VEVP`\n",
       "- **Module**: `bmcs_matmod.gsm_lagrange.gsm1d_vevp`\n",
       "- **F_engine**: GSMEngine\n",
       "- **G_engine**: GSMEngine"
      ],
      "text/plain": [
       "<IPython.core.display.Markdown object>"
      ]
     },
     "metadata": {},
     "output_type": "display_data"
    },
    {
     "data": {
      "text/markdown": [
       "---"
      ],
      "text/plain": [
       "<IPython.core.display.Markdown object>"
      ]
     },
     "metadata": {},
     "output_type": "display_data"
    },
    {
     "name": "stdout",
     "output_type": "stream",
     "text": [
      "\n",
      "=============== GSM1D_VEVPD ===============\n"
     ]
    },
    {
     "data": {
      "text/markdown": [
       "## GSM1D_VEVPD"
      ],
      "text/plain": [
       "<IPython.core.display.Markdown object>"
      ]
     },
     "metadata": {},
     "output_type": "display_data"
    },
    {
     "data": {
      "text/markdown": [
       "**Visco-Elasto-Visco-Plastic-Damage Model**"
      ],
      "text/plain": [
       "<IPython.core.display.Markdown object>"
      ]
     },
     "metadata": {},
     "output_type": "display_data"
    },
    {
     "data": {
      "text/markdown": [
       "*Single variable one-dimensional potential that can be used to demonstrate the\n",
       "    interaction between the individual dissipative mechanisms.*"
      ],
      "text/plain": [
       "<IPython.core.display.Markdown object>"
      ]
     },
     "metadata": {},
     "output_type": "display_data"
    },
    {
     "data": {
      "text/markdown": [
       "## class GSM1D_VEVPD\n",
       "### Helmholtz free energy\n",
       "$$F = - \\frac{E \\left(\\omega - 1\\right) \\left(- \\varepsilon + \\varepsilon^\\mathrm{ve} + \\varepsilon^\\mathrm{vp}\\right)^{2}}{2} + \\frac{K z^{2}}{2}$$\n",
       "$$\\left\\{ Y : \\frac{E \\left(- \\varepsilon + \\varepsilon^\\mathrm{ve} + \\varepsilon^\\mathrm{vp}\\right)^{2}}{2}, \\  Z : K z, \\  \\sigma^\\mathrm{ve} : E \\left(\\omega - 1\\right) \\left(- \\varepsilon + \\varepsilon^\\mathrm{ve} + \\varepsilon^\\mathrm{vp}\\right), \\  \\sigma^\\mathrm{vp} : E \\left(\\omega - 1\\right) \\left(- \\varepsilon + \\varepsilon^\\mathrm{ve} + \\varepsilon^\\mathrm{vp}\\right)\\right\\}$$\n",
       "#### Mechanical dissipation\n",
       "$$\\gamma_{\\mathrm{mech}} = Y \\dot{\\omega} - Z \\dot{z} + \\sigma^\\mathrm{ve} \\dot{\\varepsilon^\\mathrm{ve}} + \\sigma^\\mathrm{vp} \\dot{\\varepsilon^\\mathrm{vp}}$$\n",
       "#### Lagrangian\n",
       "$$\\mathcal{L} = - Y \\dot{\\omega} + Z \\dot{z} - \\sigma^\\mathrm{ve} \\dot{\\varepsilon^\\mathrm{ve}} - \\sigma^\\mathrm{vp} \\dot{\\varepsilon^\\mathrm{vp}} - \\dot{\\lambda}_{0} \\left(\\eta_\\mathrm{ve} \\dot{\\varepsilon^\\mathrm{ve}} - \\sigma^\\mathrm{ve}\\right) - \\lambda_{\\mathrm{\\phi}} \\left(- \\frac{S \\left(\\frac{Y}{S}\\right)^{r + 1} \\left(1 - \\omega\\right)^{c} \\left|{\\dot{\\varepsilon^\\mathrm{ve}} + \\dot{\\varepsilon^\\mathrm{vp}} - \\dot{\\varepsilon}}\\right| \\theta\\left(\\sigma \\dot{\\varepsilon}\\right)}{r + 1} + Z + \\eta_\\mathrm{vp} \\sqrt{\\left(\\dot{\\varepsilon^\\mathrm{vp}}\\right)^{2}} + f_\\mathrm{c} - \\left|{\\sigma^\\mathrm{vp}}\\right|\\right)$$\n",
       "#### Residuum\n",
       "$$\\frac{\\partial \\mathcal{L}}{\\partial \\mathcal{S}} = \\left[\\begin{matrix}\\dot{\\lambda}_{0} - \\dot{\\varepsilon^\\mathrm{ve}}\\\\- \\dot{\\varepsilon^\\mathrm{vp}} + \\lambda_{\\mathrm{\\phi}} \\operatorname{sign}{\\left(\\sigma^\\mathrm{vp} \\right)}\\\\\\frac{S \\lambda_{\\mathrm{\\phi}} \\left(\\frac{Y}{S}\\right)^{r + 1} \\left(1 - \\omega\\right)^{c} \\left|{\\dot{\\varepsilon^\\mathrm{ve}} + \\dot{\\varepsilon^\\mathrm{vp}} - \\dot{\\varepsilon}}\\right| \\theta\\left(\\sigma \\dot{\\varepsilon}\\right)}{Y} - \\dot{\\omega}\\\\\\dot{z} - \\lambda_{\\mathrm{\\phi}}\\\\- \\eta_\\mathrm{ve} \\dot{\\varepsilon^\\mathrm{ve}} + \\sigma^\\mathrm{ve}\\\\- Z - \\eta_\\mathrm{vp} \\sqrt{\\left(\\dot{\\varepsilon^\\mathrm{vp}}\\right)^{2}} - f_\\mathrm{c} + \\left|{\\sigma^\\mathrm{vp}}\\right|\\end{matrix}\\right] = 0$$\n",
       "#### Bounds of inelastic process\n",
       "$$\\left|{\\dot{\\varepsilon^\\mathrm{ve}}}\\right| - \\left|{\\dot{\\varepsilon}}\\right| \\leq 0$$\n",
       "### Legendre transform\n",
       "#### Strain substitutions in dissipative terms\n",
       "$$\\left\\{ \\varepsilon : \\frac{E \\omega \\varepsilon^\\mathrm{ve} + E \\omega \\varepsilon^\\mathrm{vp} - E \\varepsilon^\\mathrm{ve} - E \\varepsilon^\\mathrm{vp} - \\sigma}{E \\left(\\omega - 1\\right)}\\right\\}$$\n",
       "$$\\left\\{ \\dot{\\varepsilon} : \\frac{E \\omega^{2} \\dot{\\varepsilon^\\mathrm{ve}} + E \\omega^{2} \\dot{\\varepsilon^\\mathrm{vp}} - 2 E \\omega \\dot{\\varepsilon^\\mathrm{ve}} - 2 E \\omega \\dot{\\varepsilon^\\mathrm{vp}} + E \\dot{\\varepsilon^\\mathrm{ve}} + E \\dot{\\varepsilon^\\mathrm{vp}} - \\omega \\dot{\\sigma} + \\sigma \\dot{\\omega} + \\dot{\\sigma}}{E \\left(\\omega^{2} - 2 \\omega + 1\\right)}\\right\\}$$\n",
       "### Gibbs free energy\n",
       "$$G = \\sigma \\varepsilon- \\left[- \\frac{E \\left(\\omega - 1\\right) \\left(- \\varepsilon + \\varepsilon^\\mathrm{ve} + \\varepsilon^\\mathrm{vp}\\right)^{2}}{2} + \\frac{K z^{2}}{2}\\right] $$\n",
       "#### Gibbs free energy after strain substitutions\n",
       "$$G = \\frac{- \\frac{E K \\omega z^{2}}{2} + \\frac{E K z^{2}}{2} + E \\omega \\sigma \\varepsilon^\\mathrm{ve} + E \\omega \\sigma \\varepsilon^\\mathrm{vp} - E \\sigma \\varepsilon^\\mathrm{ve} - E \\sigma \\varepsilon^\\mathrm{vp} - \\frac{\\sigma^{2}}{2}}{E \\left(\\omega - 1\\right)}$$\n",
       "$$\\left\\{ Y : \\frac{\\sigma^{2}}{2 E \\left(\\omega^{2} - 2 \\omega + 1\\right)}, \\  Z : K z, \\  \\sigma^\\mathrm{ve} : \\sigma, \\  \\sigma^\\mathrm{vp} : \\sigma\\right\\}$$\n",
       "#### Mechanical dissipation\n",
       "$$\\gamma_{\\mathrm{mech}} = Y \\dot{\\omega} - Z \\dot{z} + \\sigma^\\mathrm{ve} \\dot{\\varepsilon^\\mathrm{ve}} + \\sigma^\\mathrm{vp} \\dot{\\varepsilon^\\mathrm{vp}}$$\n",
       "#### Lagrangian\n",
       "$$\\mathcal{L} = - Y \\dot{\\omega} + Z \\dot{z} - \\sigma^\\mathrm{ve} \\dot{\\varepsilon^\\mathrm{ve}} - \\sigma^\\mathrm{vp} \\dot{\\varepsilon^\\mathrm{vp}} - \\dot{\\lambda}_{0} \\left(\\eta_\\mathrm{ve} \\dot{\\varepsilon^\\mathrm{ve}} - \\sigma^\\mathrm{ve}\\right) - \\lambda_{\\mathrm{\\phi}} \\left(Z + \\eta_\\mathrm{vp} \\sqrt{\\left(\\dot{\\varepsilon^\\mathrm{vp}}\\right)^{2}} + f_\\mathrm{c} - \\left|{\\sigma^\\mathrm{vp}}\\right| - \\frac{Y \\left(\\frac{Y}{S}\\right)^{r} \\left(1 - \\omega\\right)^{c} \\left|{\\frac{- \\omega \\dot{\\sigma} + \\sigma \\dot{\\omega} + \\dot{\\sigma}}{\\omega^{2} - 2 \\omega + 1}}\\right| \\theta\\left(\\frac{\\sigma \\left(E \\omega^{2} \\dot{\\varepsilon^\\mathrm{ve}} + E \\omega^{2} \\dot{\\varepsilon^\\mathrm{vp}} - 2 E \\omega \\dot{\\varepsilon^\\mathrm{ve}} - 2 E \\omega \\dot{\\varepsilon^\\mathrm{vp}} + E \\dot{\\varepsilon^\\mathrm{ve}} + E \\dot{\\varepsilon^\\mathrm{vp}} - \\omega \\dot{\\sigma} + \\sigma \\dot{\\omega} + \\dot{\\sigma}\\right)}{E \\left(\\omega^{2} - 2 \\omega + 1\\right)}\\right)}{E \\left(r + 1\\right)}\\right)$$\n",
       "#### Residuum\n",
       "$$\\frac{\\partial \\mathcal{L}}{\\partial \\mathcal{S}} = \\left[\\begin{matrix}\\dot{\\lambda}_{0} - \\dot{\\varepsilon^\\mathrm{ve}}\\\\- \\dot{\\varepsilon^\\mathrm{vp}} + \\lambda_{\\mathrm{\\phi}} \\operatorname{sign}{\\left(\\sigma^\\mathrm{vp} \\right)}\\\\- \\dot{\\omega} - \\lambda_{\\mathrm{\\phi}} \\left(- \\frac{r \\left(\\frac{Y}{S}\\right)^{r} \\left(1 - \\omega\\right)^{c} \\left|{\\frac{- \\omega \\dot{\\sigma} + \\sigma \\dot{\\omega} + \\dot{\\sigma}}{\\omega^{2} - 2 \\omega + 1}}\\right| \\theta\\left(\\frac{\\sigma \\left(E \\omega^{2} \\dot{\\varepsilon^\\mathrm{ve}} + E \\omega^{2} \\dot{\\varepsilon^\\mathrm{vp}} - 2 E \\omega \\dot{\\varepsilon^\\mathrm{ve}} - 2 E \\omega \\dot{\\varepsilon^\\mathrm{vp}} + E \\dot{\\varepsilon^\\mathrm{ve}} + E \\dot{\\varepsilon^\\mathrm{vp}} - \\omega \\dot{\\sigma} + \\sigma \\dot{\\omega} + \\dot{\\sigma}\\right)}{E \\left(\\omega^{2} - 2 \\omega + 1\\right)}\\right)}{E \\left(r + 1\\right)} - \\frac{\\left(\\frac{Y}{S}\\right)^{r} \\left(1 - \\omega\\right)^{c} \\left|{\\frac{- \\omega \\dot{\\sigma} + \\sigma \\dot{\\omega} + \\dot{\\sigma}}{\\omega^{2} - 2 \\omega + 1}}\\right| \\theta\\left(\\frac{\\sigma \\left(E \\omega^{2} \\dot{\\varepsilon^\\mathrm{ve}} + E \\omega^{2} \\dot{\\varepsilon^\\mathrm{vp}} - 2 E \\omega \\dot{\\varepsilon^\\mathrm{ve}} - 2 E \\omega \\dot{\\varepsilon^\\mathrm{vp}} + E \\dot{\\varepsilon^\\mathrm{ve}} + E \\dot{\\varepsilon^\\mathrm{vp}} - \\omega \\dot{\\sigma} + \\sigma \\dot{\\omega} + \\dot{\\sigma}\\right)}{E \\left(\\omega^{2} - 2 \\omega + 1\\right)}\\right)}{E \\left(r + 1\\right)}\\right)\\\\\\dot{z} - \\lambda_{\\mathrm{\\phi}}\\\\- \\eta_\\mathrm{ve} \\dot{\\varepsilon^\\mathrm{ve}} + \\sigma^\\mathrm{ve}\\\\- Z - \\eta_\\mathrm{vp} \\sqrt{\\left(\\dot{\\varepsilon^\\mathrm{vp}}\\right)^{2}} - f_\\mathrm{c} + \\left|{\\sigma^\\mathrm{vp}}\\right|\\end{matrix}\\right] = 0$$\n",
       "#### Bounds of inelastic process\n",
       "$$\\left|{\\dot{\\varepsilon^\\mathrm{ve}}}\\right| - \\left|{\\dot{\\varepsilon}}\\right| \\leq 0$$"
      ],
      "text/plain": [
       "<IPython.core.display.Markdown object>"
      ]
     },
     "metadata": {},
     "output_type": "display_data"
    },
    {
     "data": {
      "text/markdown": [
       "### Model Information"
      ],
      "text/plain": [
       "<IPython.core.display.Markdown object>"
      ]
     },
     "metadata": {},
     "output_type": "display_data"
    },
    {
     "data": {
      "text/markdown": [
       "- **Class**: `GSM1D_VEVPD`\n",
       "- **Module**: `bmcs_matmod.gsm_lagrange.gsm1d_vevpd`\n",
       "- **F_engine**: GSMEngine\n",
       "- **G_engine**: GSMEngine"
      ],
      "text/plain": [
       "<IPython.core.display.Markdown object>"
      ]
     },
     "metadata": {},
     "output_type": "display_data"
    },
    {
     "data": {
      "text/markdown": [
       "---"
      ],
      "text/plain": [
       "<IPython.core.display.Markdown object>"
      ]
     },
     "metadata": {},
     "output_type": "display_data"
    },
    {
     "name": "stdout",
     "output_type": "stream",
     "text": [
      "\n",
      "Completed rendering 9 GSM models\n"
     ]
    }
   ],
   "source": [
    "# Import the clean model registry\n",
    "from bmcs_matmod.gsm_lagrange.model_registry import discover_gsm_models, get_gsm_models\n",
    "# Import unified GSM definition registry  \n",
    "from bmcs_matmod.gsm_lagrange.gsm_def_registry import list_gsm_defs\n",
    "\n",
    "# Discover GSM models using the clean registry\n",
    "discovered_models, gsm_registry = discover_gsm_models(debug=True)\n",
    "\n",
    "print(f\"\\nTotal discovered models: {len(discovered_models)}\")\n",
    "\n",
    "# Display the discovered models\n",
    "print(\"\\nDiscovered GSM Models:\")\n",
    "print(\"=\" * 60)\n",
    "for i, (name, obj) in enumerate(discovered_models, 1):\n",
    "    print(f\"{i:2d}. {name}\")\n",
    "    \n",
    "    # Extract mechanism from name\n",
    "    if name.startswith('GSM1D_'):\n",
    "        mechanism = name[6:]  # Remove 'GSM1D_'\n",
    "        print(f\"    Mechanism: {mechanism}\")\n",
    "    \n",
    "    print(f\"    Class: {obj}\")\n",
    "    print()\n",
    "\n",
    "print(f\"Registry created with {len(set(gsm_registry.values()))} unique models\")\n",
    "print(f\"Available access keys: {sorted(set(gsm_registry.keys()))}\")\n",
    "\n",
    "# Render LaTeX formulations for discovered models\n",
    "print(\"Rendering GSM Model Formulations:\")\n",
    "print(\"=\" * 70)\n",
    "\n",
    "# Discover GSM definitions using the clean registry\n",
    "gsm_defs = list_gsm_defs(debug=True)\n",
    "\n",
    "print(f\"\\nTotal discovered definitions: {len(gsm_defs)}\")\n",
    "\n",
    "# Display the discovered GSM definitions\n",
    "print(\"\\nDiscovered GSM Definitions:\")\n",
    "print(\"=\" * 60)\n",
    "for i, (name, obj) in enumerate(gsm_defs, 1):\n",
    "    print(f\"{i:2d}. {name}\")\n",
    "    \n",
    "    # Extract mechanism from name\n",
    "    if name.startswith('GSM1D_'):\n",
    "        mechanism = name[6:]  # Remove 'GSM1D_'\n",
    "        print(f\"    Mechanism: {mechanism}\")\n",
    "    \n",
    "    print(f\"    GSMDef Class: {obj}\")\n",
    "    print()\n",
    "\n",
    "# Create a display dictionary for mechanism information\n",
    "mechanism_descriptions = {\n",
    "    'ED': 'Elasto-Damage Model',\n",
    "    'VE': 'Visco-Elastic Model',\n",
    "    'VED': 'Visco-Elasto-Damage Model', \n",
    "    'EP': 'Elasto-Plastic Model',\n",
    "    'EPD': 'Elasto-Plastic-Damage Model',\n",
    "    'EVP': 'Elasto-Visco-Plastic Model',\n",
    "    'EVPD': 'Elasto-Visco-Plastic-Damage Model',\n",
    "    'VEVP': 'Visco-Elasto-Visco-Plastic Model',\n",
    "    'VEVPD': 'Visco-Elasto-Visco-Plastic-Damage Model'\n",
    "}\n",
    "\n",
    "# Display mechanism information\n",
    "print(\"\\nMechanism Descriptions:\")\n",
    "print(\"=\" * 60)\n",
    "for i, (name, obj) in enumerate(gsm_defs, 1):\n",
    "    if name.startswith('GSM1D_'):\n",
    "        mechanism = name[6:]\n",
    "        description = mechanism_descriptions.get(mechanism, f\"{mechanism} Model\")\n",
    "        print(f\"{i:2d}. {mechanism} - {description}\")\n",
    "\n",
    "print(f\"\\nRegistry contains {len(gsm_defs)} GSM definitions ready for use.\")\n",
    "\n",
    "for name, def_class in gsm_defs:\n",
    "    try:\n",
    "        print(f\"\\n{'='*15} {name} {'='*15}\")\n",
    "        \n",
    "        # Display model header\n",
    "        display(Markdown(f\"## {name}\"))\n",
    "        \n",
    "        # Extract mechanism and add description\n",
    "        mechanism = name[6:] if name.startswith('GSM1D_') else name\n",
    "        \n",
    "        mechanism_descriptions = {\n",
    "            'ED': 'Elasto-Damage Model',\n",
    "            'VE': 'Visco-Elastic Model',\n",
    "            'VED': 'Visco-Elasto-Damage Model', \n",
    "            'EP': 'Elasto-Plastic Model',\n",
    "            'EPD': 'Elasto-Plastic-Damage Model',\n",
    "            'EVP': 'Elasto-Visco-Plastic Model',\n",
    "            'EVPD': 'Elasto-Visco-Plastic-Damage Model',\n",
    "            'VEVP': 'Visco-Elasto-Visco-Plastic Model',\n",
    "            'VEVPD': 'Visco-Elasto-Visco-Plastic-Damage Model'\n",
    "        }\n",
    "        \n",
    "        description = mechanism_descriptions.get(mechanism, f\"{mechanism} Model\")\n",
    "        display(Markdown(f\"**{description}**\"))\n",
    "        \n",
    "        # Show class documentation if available\n",
    "        if hasattr(def_class, '__doc__') and def_class.__doc__:\n",
    "            doc = def_class.__doc__.strip()\n",
    "            if doc:\n",
    "                display(Markdown(f\"*{doc}*\"))\n",
    "        \n",
    "        # Try to render LaTeX potentials if method exists\n",
    "        if hasattr(def_class, 'latex_potentials'):\n",
    "            try:\n",
    "                latex_output = def_class.latex_potentials()\n",
    "                display(Markdown(latex_output))\n",
    "            except Exception as e:\n",
    "                display(Markdown(f\"*Error rendering LaTeX: {e}*\"))\n",
    "        else:\n",
    "            display(Markdown(\"*LaTeX potentials method not available*\"))\n",
    "            \n",
    "        # Show some basic model information\n",
    "        display(Markdown(\"### Model Information\"))\n",
    "        \n",
    "        info_lines = [\n",
    "            f\"- **Class**: `{def_class.__name__}`\",\n",
    "            f\"- **Module**: `{def_class.__module__}`\"\n",
    "        ]\n",
    "        \n",
    "        # Check for engines\n",
    "        if hasattr(def_class, 'F_engine'):\n",
    "            f_engine = def_class.F_engine\n",
    "            info_lines.append(f\"- **F_engine**: {type(f_engine).__name__}\")\n",
    "            \n",
    "        if hasattr(def_class, 'G_engine'):\n",
    "            g_engine = def_class.G_engine  \n",
    "            info_lines.append(f\"- **G_engine**: {type(g_engine).__name__}\")\n",
    "        \n",
    "        display(Markdown('\\n'.join(info_lines)))\n",
    "        \n",
    "        # Add separator\n",
    "        display(Markdown(\"---\"))\n",
    "        \n",
    "    except Exception as e:\n",
    "        print(f\"Error processing {name}: {e}\")\n",
    "        display(Markdown(f\"**Error processing {name}**: {e}\"))\n",
    "        import traceback\n",
    "        traceback.print_exc()\n",
    "\n",
    "print(f\"\\nCompleted rendering {len(gsm_defs)} GSM models\")"
   ]
  },
  {
   "cell_type": "code",
   "execution_count": null,
   "metadata": {},
   "outputs": [],
   "source": []
  }
 ],
 "metadata": {
  "kernelspec": {
   "display_name": "bmcs_env2",
   "language": "python",
   "name": "python3"
  },
  "language_info": {
   "codemirror_mode": {
    "name": "ipython",
    "version": 3
   },
   "file_extension": ".py",
   "mimetype": "text/x-python",
   "name": "python",
   "nbconvert_exporter": "python",
   "pygments_lexer": "ipython3",
   "version": "3.10.8"
  }
 },
 "nbformat": 4,
 "nbformat_minor": 2
}
