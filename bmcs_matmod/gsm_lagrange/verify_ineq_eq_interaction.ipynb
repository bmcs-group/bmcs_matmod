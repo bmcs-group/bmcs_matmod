{
 "cells": [
  {
   "cell_type": "markdown",
   "metadata": {},
   "source": [
    "# Verify the interaction of equality and inequality constraints"
   ]
  },
  {
   "cell_type": "code",
   "execution_count": null,
   "metadata": {},
   "outputs": [],
   "source": [
    "%matplotlib widget"
   ]
  },
  {
   "cell_type": "code",
   "execution_count": null,
   "metadata": {},
   "outputs": [],
   "source": [
    "import os, importlib, inspect\n",
    "from IPython.display import display, Math, Latex, Markdown\n",
    "from bmcs_matmod.gsm.gsm_models.gsm_base import GSMBase, sp\n",
    "import numpy as np\n",
    "import matplotlib.pyplot as plt"
   ]
  },
  {
   "cell_type": "code",
   "execution_count": null,
   "metadata": {},
   "outputs": [],
   "source": [
    "fig, ax_sig = plt.subplots(1, 1, figsize=(6, 4))\n",
    "\n",
    "from bmcs_matmod.gsm.gsm_models.gsm1d_vevp import GSM1D_VEVP\n",
    "gsm_vevp = GSM1D_VEVP()\n",
    "mparams = dict(E = 100, K = 10, f_c = 1, eta_vp = 1, eta_ve = 1)\n",
    "\n",
    "n_t = 3\n",
    "for n_t, ls in zip((3, 5, 10, 30, 50), ('o-', 'x-', '^-', '-', '-')):\n",
    "    rate = .4\n",
    "    n_I = 1 \n",
    "    eps_max = 0.3 * rate\n",
    "    t_t = np.linspace(0, 1*rate, n_t)\n",
    "    eps_n_t = np.linspace(0, eps_max*rate, n_t)\n",
    "    response = gsm_vevp.get_response(eps_n_t, t_t, **mparams)\n",
    "    t_t, eps_ta, sig_ta, Eps_t, Sig_t, iter_t, lam_t, (d_t_t, d_eps_ta) = response\n",
    "    eps_t = eps_ta[:, 0]\n",
    "    sig_t = sig_ta[:, 0, 0]\n",
    "    eps_ve_t, eps_vp_t, z_t = Eps_t[:, 0, :].T\n",
    "    sig_ve_t, sig_vp_t, Z_t = Sig_t[:, 0, :].T\n",
    "    ax_sig.plot(eps_t, sig_t, ls, label=rf'n_t = {n_t}')\n",
    "ax_sig.set_ylabel(r'$\\sigma$', color='darkslategray')\n",
    "ax_sig.set_xlabel(r'$\\varepsilon$')\n",
    "ax_sig.legend()"
   ]
  },
  {
   "cell_type": "code",
   "execution_count": null,
   "metadata": {},
   "outputs": [],
   "source": [
    "fig, (ax_sig, ax_omega) = plt.subplots(1, 2, figsize=(9, 4))\n",
    "\n",
    "# Plot stress-strain and iterations-strain curves\n",
    "ax_iter = ax_sig.twinx()\n",
    "ax_eps = ax_omega.twinx()\n",
    "\n",
    "ax_sig.plot(eps_t, sig_t, color='black', label=r'$\\varepsilon$')\n",
    "ax_sig.plot(eps_t - eps_ve_t - eps_vp_t, sig_t, ls='dashed', color='cadetblue', label=r'$\\varepsilon^\\mathrm{e}$')\n",
    "ax_sig.plot(eps_vp_t, sig_t, ls='dashed', color='orange', label=r'$\\varepsilon^\\mathrm{vp}$')\n",
    "ax_sig.plot(eps_ve_t, sig_t, ls='dashed', color='red', label=r'$\\varepsilon^\\mathrm{ve}$')\n",
    "ax_sig.plot(eps_ve_t + eps_vp_t, sig_t, label=r'$\\varepsilon_\\mathrm{ve} + \\varepsilon_\\mathrm{vp}$', color='magenta', ls='dashed', lw=1)\n",
    "\n",
    "ax_sig.set_ylabel(r'$\\sigma$', color='darkslategray')\n",
    "ax_sig.set_xlabel(r'$\\varepsilon$')\n",
    "ax_sig.legend()\n",
    "\n",
    "ax_iter.plot(eps_t, iter_t, ls='dashed', color='gray')\n",
    "ax_iter.set_ylabel(r'$k$', color='gray')\n",
    "\n",
    "# ax_omega.plot(t_t, omega_t, label='Damage', color='brown')\n",
    "ax_eps.plot(t_t, eps_t, label=r'$\\varepsilon$', color='black', lw=1)\n",
    "ax_eps.plot(t_t, eps_t - eps_ve_t - eps_vp_t, label=r'$\\varepsilon_\\mathrm{e}$', color='cadetblue', lw=1)\n",
    "ax_eps.plot(t_t, eps_ve_t, label=r'$\\varepsilon_\\mathrm{ve}$', color='red', ls='dashed', lw=1)\n",
    "ax_eps.plot(t_t, eps_vp_t, label=r'$\\varepsilon_\\mathrm{vp}$', color='orange', ls='dashed', lw=1)\n",
    "ax_eps.plot(t_t, eps_ve_t + eps_vp_t, label=r'$\\varepsilon_\\mathrm{ve} + \\varepsilon_\\mathrm{vp}$', color='magenta', ls='dashed', lw=1)\n",
    "#ax_eps.legend()\n",
    "ax_omega.set_xlabel(r'$t$')\n",
    "ax_omega.set_ylabel(r'$\\omega$', color='brown')\n",
    "ax_eps.set_ylabel(r'$\\varepsilon$', color='cadetblue')\n",
    "ax_eps.legend()\n",
    "\n",
    "plt.tight_layout()\n",
    "plt.show()"
   ]
  },
  {
   "cell_type": "code",
   "execution_count": null,
   "metadata": {},
   "outputs": [],
   "source": []
  }
 ],
 "metadata": {
  "kernelspec": {
   "display_name": "bmcs_matmod",
   "language": "python",
   "name": "python3"
  },
  "language_info": {
   "codemirror_mode": {
    "name": "ipython",
    "version": 3
   },
   "file_extension": ".py",
   "mimetype": "text/x-python",
   "name": "python",
   "nbconvert_exporter": "python",
   "pygments_lexer": "ipython3"
  }
 },
 "nbformat": 4,
 "nbformat_minor": 2
}
