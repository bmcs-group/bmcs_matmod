{
 "cells": [
  {
   "cell_type": "markdown",
   "id": "7c6fe51a",
   "metadata": {},
   "source": [
    "# Demonstration of Time Functions\n",
    "This notebook demonstrates the behavior of various time-dependent functions implemented as subclasses of `TimeFnBase`."
   ]
  },
  {
   "cell_type": "code",
   "execution_count": null,
   "id": "da3ec9ad",
   "metadata": {},
   "outputs": [],
   "source": [
    "# Import necessary libraries\n",
    "import numpy as np\n",
    "import matplotlib.pyplot as plt\n",
    "from time_fn import (\n",
    "    TimeFnStepLoading, TimeFnMonotonicAscending, TimeFnCycleSinus, TimeFnCycleLinear,\n",
    "    TimeFnCycleWithRamps, TimeFnPeriodic, TimeFnStepping, TimeFnOverlay\n",
    ")"
   ]
  },
  {
   "cell_type": "markdown",
   "id": "a5c44a39",
   "metadata": {},
   "source": [
    "## Define a Time Array\n",
    "We will use a common time array for all demonstrations."
   ]
  },
  {
   "cell_type": "code",
   "execution_count": null,
   "id": "0e5b34e0",
   "metadata": {},
   "outputs": [],
   "source": [
    "# Define a time array\n",
    "time = np.linspace(0, 10, 1000)  # 0 to 10 seconds, 1000 points"
   ]
  },
  {
   "cell_type": "markdown",
   "id": "67513cbb",
   "metadata": {},
   "source": [
    "## Step Loading\n",
    "Demonstrate the behavior of the `TimeFnStepLoading` function."
   ]
  },
  {
   "cell_type": "code",
   "execution_count": null,
   "id": "b0cbfde2",
   "metadata": {},
   "outputs": [],
   "source": [
    "# TimeFnStepLoading function\n",
    "step_fn = TimeFnStepLoading(t_s=2.0, val=3.0)\n",
    "step_fn.display_sym()\n",
    "fig, ax = plt.subplots(figsize=(8, 4))\n",
    "step_fn.plot(ax, time)"
   ]
  },
  {
   "cell_type": "markdown",
   "id": "f32a569b",
   "metadata": {},
   "source": [
    "## Monotonic Ascending\n",
    "Demonstrate the behavior of the `TimeFnMonotonicAscending` function."
   ]
  },
  {
   "cell_type": "code",
   "execution_count": null,
   "id": "5e27f358",
   "metadata": {},
   "outputs": [],
   "source": [
    "# TimeFnMonotonicAscending function\n",
    "monotonic_fn = TimeFnMonotonicAscending(rate=0.5)\n",
    "monotonic_fn.display_sym()\n",
    "fig, ax = plt.subplots(figsize=(8, 4))\n",
    "monotonic_fn.plot(ax, time)"
   ]
  },
  {
   "cell_type": "markdown",
   "id": "7cdd1662",
   "metadata": {},
   "source": [
    "## Cyclic Sinusoidal\n",
    "Demonstrate the behavior of the `TimeFnCycleSinus` function."
   ]
  },
  {
   "cell_type": "code",
   "execution_count": null,
   "id": "1b41ffb9",
   "metadata": {},
   "outputs": [],
   "source": [
    "# TimeFnCycleSinus function\n",
    "sinusoidal_fn = TimeFnCycleSinus()\n",
    "sinusoidal_fn.display_sym()\n",
    "fig, ax = plt.subplots(figsize=(8, 4))\n",
    "sinusoidal_fn.plot(ax, time)"
   ]
  },
  {
   "cell_type": "markdown",
   "id": "97fc97d3",
   "metadata": {},
   "source": [
    "## Cyclic Saw Tooth\n",
    "Demonstrate the behavior of the `TimeFnCycleLinear` function."
   ]
  },
  {
   "cell_type": "code",
   "execution_count": null,
   "id": "600c5bac",
   "metadata": {},
   "outputs": [],
   "source": [
    "# TimeFnCycleLinear function\n",
    "saw_tooth_fn = TimeFnCycleLinear()\n",
    "saw_tooth_fn.display_sym()\n",
    "fig, ax = plt.subplots(figsize=(8, 4))\n",
    "saw_tooth_fn.plot(ax, time)"
   ]
  },
  {
   "cell_type": "markdown",
   "id": "c0b18746",
   "metadata": {},
   "source": [
    "## Periodic Time Function with Cyclic Saw Tooth\n",
    "Demonstrate the behavior of the `TimeFnPeriodic` function using `TimeFnCycleLinear` (Saw Tooth) as the cycle."
   ]
  },
  {
   "cell_type": "code",
   "execution_count": null,
   "id": "8802375e",
   "metadata": {},
   "outputs": [],
   "source": [
    "periodic_saw_fn = TimeFnPeriodic(mean_value=2, amplitude=1, period=2, time_fn_cycle=saw_tooth_fn)\n",
    "periodic_saw_fn.display_sym()\n",
    "fig, ax = plt.subplots(figsize=(8, 4))\n",
    "periodic_saw_fn.plot(ax, time)"
   ]
  },
  {
   "cell_type": "markdown",
   "id": "608735b7",
   "metadata": {},
   "source": [
    "## Cyclic With Ramps\n",
    "Demonstrate the behavior of the `TimeFnCycleWithRamps` function."
   ]
  },
  {
   "cell_type": "code",
   "execution_count": null,
   "id": "c19401fd",
   "metadata": {},
   "outputs": [],
   "source": [
    "cycle_with_ramps_fn = TimeFnCycleWithRamps(urf=0.2, mrf=0.1, lrf=0.2)\n",
    "cycle_with_ramps_fn.display_sym()\n",
    "fig, ax = plt.subplots(figsize=(8, 4))\n",
    "cycle_with_ramps_fn.plot(ax, time)"
   ]
  },
  {
   "cell_type": "markdown",
   "id": "64ccf526",
   "metadata": {},
   "source": [
    "## Periodic Time Function with Cyclic With Ramps\n",
    "Demonstrate the behavior of the `TimeFnPeriodic` function using `TimeFnCycleWithRamps` as the cycle."
   ]
  },
  {
   "cell_type": "code",
   "execution_count": null,
   "id": "5a2ab73d",
   "metadata": {},
   "outputs": [],
   "source": [
    "periodic_ramps_fn = TimeFnPeriodic(mean_value=1, amplitude=0.8, period=2, time_fn_cycle=cycle_with_ramps_fn)\n",
    "periodic_ramps_fn.time_fn_cycle.display_sym()\n",
    "fig, ax = plt.subplots(figsize=(8, 4))\n",
    "periodic_ramps_fn.plot(ax, time)"
   ]
  },
  {
   "cell_type": "markdown",
   "id": "f62b3e03",
   "metadata": {},
   "source": [
    "## Periodic Time Function\n",
    "Demonstrate the behavior of the `TimeFnPeriodic` function."
   ]
  },
  {
   "cell_type": "code",
   "execution_count": null,
   "id": "eec44e09",
   "metadata": {},
   "outputs": [],
   "source": [
    "periodic_fn = TimeFnPeriodic(mean_value=3, amplitude=1, period=2, time_fn_cycle=sinusoidal_fn)\n",
    "periodic_fn.display_sym()"
   ]
  },
  {
   "cell_type": "code",
   "execution_count": null,
   "id": "80e959f9",
   "metadata": {},
   "outputs": [],
   "source": [
    "fig, ax = plt.subplots(figsize=(8, 4))\n",
    "periodic_fn.plot(ax, time)"
   ]
  },
  {
   "cell_type": "markdown",
   "id": "bebaf5ba",
   "metadata": {},
   "source": [
    "## Stepping Function Example"
   ]
  },
  {
   "cell_type": "code",
   "execution_count": null,
   "id": "9d115e1e",
   "metadata": {},
   "outputs": [],
   "source": [
    "step_times = np.array([0.0, 2.0, 5.0, 8.0])\n",
    "step_values = np.array([0.0, 1.0, 2.0, 3.0])\n",
    "fn_step = TimeFnStepping(step_times=step_times, step_values=step_values)\n",
    "fn_step.display_sym()\n",
    "fig, ax = plt.subplots(figsize=(8, 4))\n",
    "fn_step.plot(ax, time)"
   ]
  },
  {
   "cell_type": "markdown",
   "id": "91a2d233",
   "metadata": {},
   "source": [
    "## Overlay: Stepping with Periodic (Sinusoidal) Function"
   ]
  },
  {
   "cell_type": "code",
   "execution_count": null,
   "id": "2813bebc",
   "metadata": {},
   "outputs": [],
   "source": [
    "cycle_fn = TimeFnCycleSinus()\n",
    "periodic_fn = TimeFnPeriodic(time_fn_cycle=cycle_fn, amplitude=0.5, mean_value=1.0, period=1.0)\n",
    "overlay_fn = TimeFnOverlay(fn1=fn_step, fn2=periodic_fn)\n",
    "fn_step.symb_expr"
   ]
  },
  {
   "cell_type": "code",
   "execution_count": null,
   "id": "ed646148",
   "metadata": {},
   "outputs": [],
   "source": [
    "overlay_fn.display_sym()\n",
    "fig, ax = plt.subplots(figsize=(8, 4))\n",
    "overlay_fn.plot(ax, time)"
   ]
  }
 ],
 "metadata": {
  "kernelspec": {
   "display_name": "bmcs_env2",
   "language": "python",
   "name": "python3"
  },
  "language_info": {
   "codemirror_mode": {
    "name": "ipython",
    "version": 3
   },
   "file_extension": ".py",
   "mimetype": "text/x-python",
   "name": "python",
   "nbconvert_exporter": "python",
   "pygments_lexer": "ipython3"
  }
 },
 "nbformat": 4,
 "nbformat_minor": 5
}
