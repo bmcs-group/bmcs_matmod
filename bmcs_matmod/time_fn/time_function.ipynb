{
 "cells": [
  {
   "cell_type": "code",
   "execution_count": 1,
   "metadata": {},
   "outputs": [
    {
     "data": {
      "text/plain": "VBox(children=(Output(), Tab(children=(VBox(children=(GridBox(children=(IntText(value=0, description='\\\\(n_i\\\\…",
      "application/vnd.jupyter.widget-view+json": {
       "version_major": 2,
       "version_minor": 0,
       "model_id": "33011e41e04a4c83909c3fc5859b661b"
      }
     },
     "metadata": {},
     "output_type": "display_data"
    }
   ],
   "source": [
    "%matplotlib widget\n",
    "from bmcs_matmod.time_fn.time_function import TimeFunction\n",
    "import bmcs_utils.api as bu\n",
    "\n",
    "eps = [0, -0.002745, -0.0016, -0.0047, -0.0025, -0.0065, -0.003, -0.0085, -0.004, -0.01]\n",
    "\n",
    "tf = TimeFunction(n_i=0, values=eps)\n",
    "\n",
    "bu.InteractiveWindow(tf).interact()"
   ]
  },
  {
   "cell_type": "code",
   "execution_count": null,
   "metadata": {},
   "outputs": [],
   "source": []
  },
  {
   "cell_type": "code",
   "execution_count": null,
   "metadata": {},
   "outputs": [],
   "source": []
  }
 ],
 "metadata": {
  "kernelspec": {
   "display_name": "Python 3",
   "language": "python",
   "name": "python3"
  },
  "language_info": {
   "codemirror_mode": {
    "name": "ipython",
    "version": 3
   },
   "file_extension": ".py",
   "mimetype": "text/x-python",
   "name": "python",
   "nbconvert_exporter": "python",
   "pygments_lexer": "ipython3",
   "version": "3.7.6"
  },
  "toc": {
   "base_numbering": 1,
   "nav_menu": {},
   "number_sections": true,
   "sideBar": true,
   "skip_h1_title": false,
   "title_cell": "Table of Contents",
   "title_sidebar": "Contents",
   "toc_cell": false,
   "toc_position": {},
   "toc_section_display": true,
   "toc_window_display": false
  }
 },
 "nbformat": 4,
 "nbformat_minor": 1
}