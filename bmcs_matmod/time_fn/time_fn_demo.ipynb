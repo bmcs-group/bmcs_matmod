{
 "cells": [
  {
   "cell_type": "markdown",
   "id": "7c6fe51a",
   "metadata": {},
   "source": [
    "# Demonstration of Time Functions\n",
    "This notebook demonstrates the behavior of various time-dependent functions implemented as subclasses of `TimeFnBase`."
   ]
  },
  {
   "cell_type": "code",
   "execution_count": null,
   "id": "da3ec9ad",
   "metadata": {},
   "outputs": [],
   "source": [
    "# Import necessary libraries\n",
    "import numpy as np\n",
    "import sympy as sp\n",
    "sp.init_printing()\n",
    "import matplotlib.pyplot as plt\n",
    "from IPython.display import display, Math\n",
    "from new_time_fn import StepLoading, MonotonicAscending, TimeFnCycleSinus, TimeFnCycleLinear, TimeFnCycleWithRamps, PeriodicTimeFn"
   ]
  },
  {
   "cell_type": "markdown",
   "id": "a5c44a39",
   "metadata": {},
   "source": [
    "## Define a Time Array\n",
    "We will use a common time array for all demonstrations."
   ]
  },
  {
   "cell_type": "code",
   "execution_count": null,
   "id": "0e5b34e0",
   "metadata": {},
   "outputs": [],
   "source": [
    "# Define a time array\n",
    "time = np.linspace(0, 10, 1000)  # 0 to 10 seconds, 1000 points"
   ]
  },
  {
   "cell_type": "markdown",
   "id": "67513cbb",
   "metadata": {},
   "source": [
    "## Step Loading\n",
    "Demonstrate the behavior of the `StepLoading` function."
   ]
  },
  {
   "cell_type": "code",
   "execution_count": null,
   "id": "b0cbfde2",
   "metadata": {},
   "outputs": [],
   "source": [
    "# StepLoading function\n",
    "step_fn = StepLoading(t_s=2.0, val=3.0)\n",
    "# Generate LaTeX for display\n",
    "step_expr_latex = sp.latex(step_fn.symb_expr)\n",
    "display(Math(r'Step Loading: ' + step_expr_latex))\n",
    "\n",
    "# Evaluate and plot\n",
    "step_values = step_fn(time)\n",
    "plt.figure(figsize=(8, 4))\n",
    "plt.plot(time, step_values, label='Step Loading')\n",
    "plt.xlabel('Time [s]')\n",
    "plt.ylabel('Value')\n",
    "plt.legend()\n",
    "plt.grid(True)\n",
    "plt.show()"
   ]
  },
  {
   "cell_type": "markdown",
   "id": "f32a569b",
   "metadata": {},
   "source": [
    "## Monotonic Ascending\n",
    "Demonstrate the behavior of the `MonotonicAscending` function."
   ]
  },
  {
   "cell_type": "code",
   "execution_count": null,
   "id": "5e27f358",
   "metadata": {},
   "outputs": [],
   "source": [
    "# MonotonicAscending function\n",
    "monotonic_fn1 = MonotonicAscending(rate=0.5)\n",
    "monotonic_expr_latex = sp.latex(monotonic_fn1.symb_expr)\n",
    "display(Math(r'Monotonic Ascending: ' + monotonic_expr_latex))\n",
    "\n"
   ]
  },
  {
   "cell_type": "code",
   "execution_count": null,
   "id": "29d47318",
   "metadata": {},
   "outputs": [],
   "source": [
    "monotonic_fn1.rate_sym"
   ]
  },
  {
   "cell_type": "code",
   "execution_count": null,
   "id": "e6887425",
   "metadata": {},
   "outputs": [],
   "source": [
    "monotonic_fn1.symb_expr"
   ]
  },
  {
   "cell_type": "code",
   "execution_count": null,
   "id": "95966ebb",
   "metadata": {},
   "outputs": [],
   "source": [
    "monotonic_fn2 = MonotonicAscending(rate=0.5)\n",
    "monotonic_fn2.rate_sym"
   ]
  },
  {
   "cell_type": "code",
   "execution_count": null,
   "id": "fe55287b",
   "metadata": {},
   "outputs": [],
   "source": [
    "# MonotonicAscending function\n",
    "monotonic_fn = MonotonicAscending(rate=0.5)\n",
    "\n",
    "# Generate LaTeX for display\n",
    "monotonic_expr_latex = sp.latex(monotonic_fn.symb_expr)\n",
    "display(Math(r'Monotonic Ascending: ' + monotonic_expr_latex))\n",
    "\n",
    "# Evaluate and plot\n",
    "monotonic_values = monotonic_fn(time)\n",
    "plt.figure(figsize=(8, 4))\n",
    "plt.plot(time, monotonic_values, label='Monotonic Ascending')\n",
    "plt.xlabel('Time [s]')\n",
    "plt.ylabel('Value')\n",
    "plt.legend()\n",
    "plt.grid(True)\n",
    "plt.show()"
   ]
  },
  {
   "cell_type": "markdown",
   "id": "7cdd1662",
   "metadata": {},
   "source": [
    "## Cyclic Sinusoidal\n",
    "Demonstrate the behavior of the `TimeFnCycleSinus` function."
   ]
  },
  {
   "cell_type": "code",
   "execution_count": null,
   "id": "1b41ffb9",
   "metadata": {},
   "outputs": [],
   "source": [
    "# TimeFnCycleSinus function\n",
    "sinusoidal_fn = TimeFnCycleSinus()\n",
    "\n",
    "# Generate LaTeX for display\n",
    "sinusoidal_expr_latex = sp.latex(sinusoidal_fn.symb_expr)\n",
    "display(Math(r'Cyclic Sinusoidal: ' + sinusoidal_expr_latex))\n",
    "\n",
    "# Evaluate and plot\n",
    "sinusoidal_values = sinusoidal_fn(time % 1)  # Modulo 1 for single cycle\n",
    "plt.figure(figsize=(8, 4))\n",
    "plt.plot(time, sinusoidal_values, label='Cyclic Sinusoidal')\n",
    "plt.xlabel('Time [s]')\n",
    "plt.ylabel('Value')\n",
    "plt.legend()\n",
    "plt.grid(True)\n",
    "plt.show()"
   ]
  },
  {
   "cell_type": "markdown",
   "id": "97fc97d3",
   "metadata": {},
   "source": [
    "## Cyclic Saw Tooth\n",
    "Demonstrate the behavior of the `TimeFnCycleLinear` function."
   ]
  },
  {
   "cell_type": "code",
   "execution_count": null,
   "id": "600c5bac",
   "metadata": {},
   "outputs": [],
   "source": [
    "# TimeFnCycleLinear function\n",
    "saw_tooth_fn = TimeFnCycleLinear()\n",
    "\n",
    "# Generate LaTeX for display\n",
    "saw_tooth_expr_latex = sp.latex(saw_tooth_fn.symb_expr)\n",
    "display(Math(r'Cyclic Saw Tooth: ' + saw_tooth_expr_latex))\n",
    "\n",
    "# Evaluate and plot\n",
    "saw_tooth_values = saw_tooth_fn(time % 1)  # Modulo 1 for single cycle\n",
    "plt.figure(figsize=(8, 4))\n",
    "plt.plot(time, saw_tooth_values, label='Cyclic Saw Tooth')\n",
    "plt.xlabel('Time [s]')\n",
    "plt.ylabel('Value')\n",
    "plt.legend()\n",
    "plt.grid(True)\n",
    "plt.show()"
   ]
  },
  {
   "cell_type": "markdown",
   "id": "9bca4a74",
   "metadata": {},
   "source": [
    "## TimeFn Cycle With Ramps\n",
    "Demonstrate the behavior of the `TimeFnCycleWithRamps` function."
   ]
  },
  {
   "cell_type": "code",
   "execution_count": null,
   "id": "dcdb57fc",
   "metadata": {},
   "outputs": [],
   "source": [
    "# TimeFnCycleWithRamps function\n",
    "cycle_with_ramps_fn = TimeFnCycleWithRamps(urf=0.2, mrf=0.1, lrf=0.2)\n",
    "\n",
    "# Generate LaTeX for display\n",
    "cycle_with_ramps_expr_latex = sp.latex(cycle_with_ramps_fn.symb_expr)\n",
    "display(Math(r'Cycle With Ramps: ' + cycle_with_ramps_expr_latex))\n",
    "\n",
    "# Evaluate and plot\n",
    "cycle_with_ramps_values = cycle_with_ramps_fn(time % 1)  # Modulo 1 for single cycle\n",
    "plt.figure(figsize=(8, 4))\n",
    "plt.plot(time, cycle_with_ramps_values, label='Cycle With Ramps')\n",
    "plt.xlabel('Time [s]')\n",
    "plt.ylabel('Value')\n",
    "plt.legend()\n",
    "plt.grid(True)\n",
    "plt.show()"
   ]
  },
  {
   "cell_type": "markdown",
   "id": "f62b3e03",
   "metadata": {},
   "source": [
    "## Periodic Time Function\n",
    "Demonstrate the behavior of the `PeriodicTimeFn` function."
   ]
  },
  {
   "cell_type": "code",
   "execution_count": null,
   "id": "80e959f9",
   "metadata": {},
   "outputs": [],
   "source": [
    "# PeriodicTimeFn function\n",
    "periodic_fn = PeriodicTimeFn(mean_value=3, amplitude=1, period=2, time_fn_cycle=sinusoidal_fn)\n",
    "\n",
    "# Generate LaTeX for display\n",
    "periodic_expr_latex = sp.latex(periodic_fn.time_fn_cycle.symb_expr)\n",
    "display(Math(r'Periodic Time Function: ' + periodic_expr_latex))\n",
    "\n",
    "# Evaluate and plot\n",
    "periodic_values = periodic_fn(time)\n",
    "plt.figure(figsize=(8, 4))\n",
    "plt.plot(time, periodic_values, label='Periodic Time Function')\n",
    "plt.xlabel('Time [s]')\n",
    "plt.ylabel('Value')\n",
    "plt.legend()\n",
    "plt.grid(True)\n",
    "plt.show()"
   ]
  },
  {
   "cell_type": "code",
   "execution_count": null,
   "id": "6231d981",
   "metadata": {},
   "outputs": [],
   "source": []
  },
  {
   "cell_type": "code",
   "execution_count": null,
   "id": "c81a3379",
   "metadata": {},
   "outputs": [],
   "source": []
  }
 ],
 "metadata": {
  "kernelspec": {
   "display_name": "bmcs_matmod",
   "language": "python",
   "name": "python3"
  },
  "language_info": {
   "codemirror_mode": {
    "name": "ipython",
    "version": 3
   },
   "file_extension": ".py",
   "mimetype": "text/x-python",
   "name": "python",
   "nbconvert_exporter": "python",
   "pygments_lexer": "ipython3"
  }
 },
 "nbformat": 4,
 "nbformat_minor": 5
}
