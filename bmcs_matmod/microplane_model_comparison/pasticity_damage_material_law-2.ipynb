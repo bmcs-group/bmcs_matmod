{
 "cells": [
  {
   "cell_type": "code",
   "execution_count": null,
   "metadata": {},
   "outputs": [],
   "source": [
    "import numpy as np\n",
    "import matplotlib.pyplot as plt\n",
    "%matplotlib notebook"
   ]
  },
  {
   "cell_type": "code",
   "execution_count": null,
   "metadata": {},
   "outputs": [],
   "source": [
    "def get_material_law(eps_v_Emn, eps_d_Emna, E, nu, kappa_0, alpha, beta):\n",
    "    \n",
    "    K = E / (1. -2. * nu)\n",
    "    G = E / 2.*(1 + nu)\n",
    "    eps_d_inner = np.einsum('...n,...n->...',eps_d_Emna,eps_d_Emna)\n",
    "    \n",
    "    Y = 0.5 * K * eps_v_Emn**2. + G * eps_d_inner\n",
    "    \n",
    "    kappa = np.sqrt(2. * Y)\n",
    "        \n",
    "    if kappa > kappa_0:\n",
    "               \n",
    "        d = 1. - kappa_0 / kappa * (1. - alpha + alpha * np.exp(beta*(kappa_0 - kappa)))\n",
    "     \n",
    "        sigma_d_Emna = K * (eps_d_Emna) * (1. - d)\n",
    "\n",
    "        sigma_v_Emn = 2* G * (eps_v_Emn) * (1. - d)           \n",
    "\n",
    "    else:\n",
    "        kappa = kappa_0\n",
    "        \n",
    "        d = 1. - kappa_0 / kappa * (1. - alpha + alpha * np.exp(beta*(kappa_0 - kappa)))\n",
    "        \n",
    "        sigma_d_Emna = K * (eps_d_Emna )\n",
    "\n",
    "        sigma_v_Emn = 2* G * (eps_v_Emn )\n",
    "            \n",
    "            \n",
    "    return sigma_d_Emna, sigma_v_Emn, d "
   ]
  },
  {
   "cell_type": "code",
   "execution_count": null,
   "metadata": {},
   "outputs": [],
   "source": [
    "eps_1 = np.linspace(0,-0.0033,1000)\n",
    "eps = np.zeros((len(eps_1),3,3))\n",
    "I = eps[:] +  np.eye(3,like=eps)\n",
    "eps[:,0,0] = eps_1\n",
    "eps[:,1,1] = -0.18 * eps_1\n",
    "eps[:,2,2] = -0.18 * eps_1\n",
    "eps_v_Emn = (eps[:,0,0] + eps[:,1,1] + eps[:,2,2])/3 \n",
    "eps_d = eps -  np.einsum('nij, n -> nij', I, eps_v_Emn)\n",
    "n = np.array([1,1,1]/np.sqrt(3))\n",
    "eps_d_Emna = np.einsum('...nij, ...j -> ni',eps_d, n)"
   ]
  },
  {
   "cell_type": "code",
   "execution_count": null,
   "metadata": {},
   "outputs": [],
   "source": [
    "E = 30000\n",
    "nu = 0.2\n",
    "kappa_0 = 0.0065\n",
    "alpha = 0.95\n",
    "beta = 30. \n",
    "\n",
    "sigma_v_Emn = np.zeros_like(eps_v_Emn)\n",
    "omega_Emn = np.zeros_like(eps_v_Emn)\n",
    "kappa_Emn = np.zeros_like(eps_v_Emn)\n",
    "sigma_d_Emna = np.zeros_like(eps_d_Emna)\n",
    "\n",
    "for i in range(1,len(eps_1)-1):\n",
    "    sigma_d_Emna[i],sigma_v_Emn[i], omega_Emn[i] = get_material_law(eps_v_Emn[i], eps_d_Emna[i],E, nu, kappa_0, alpha, beta)\n",
    "    \n",
    "plt.plot(eps_1,sigma_v_Emn)\n",
    "plt.show()"
   ]
  },
  {
   "cell_type": "code",
   "execution_count": null,
   "metadata": {},
   "outputs": [],
   "source": [
    "plt.plot(eps_1,omega_Emn)\n",
    "plt.show()"
   ]
  },
  {
   "cell_type": "code",
   "execution_count": null,
   "metadata": {},
   "outputs": [],
   "source": [
    "eps_d_inner = np.abs(np.einsum('...n,...n->...',eps_d_Emna,eps_d_Emna))\n",
    "plt.plot(eps_1,eps_d_inner)\n",
    "plt.show()"
   ]
  },
  {
   "cell_type": "code",
   "execution_count": null,
   "metadata": {},
   "outputs": [],
   "source": [
    "sigma_d_inner = np.abs(np.einsum('...n,...n->...',sigma_d_Emna,sigma_d_Emna))\n",
    "plt.plot(eps_1,sigma_d_inner)\n",
    "plt.show()"
   ]
  },
  {
   "cell_type": "code",
   "execution_count": null,
   "metadata": {},
   "outputs": [],
   "source": []
  }
 ],
 "metadata": {
  "kernelspec": {
   "display_name": "Python [conda env:bmcs_env]",
   "language": "python",
   "name": "conda-env-bmcs_env-py"
  },
  "language_info": {
   "codemirror_mode": {
    "name": "ipython",
    "version": 3
   },
   "file_extension": ".py",
   "mimetype": "text/x-python",
   "name": "python",
   "nbconvert_exporter": "python",
   "pygments_lexer": "ipython3"
  }
 },
 "nbformat": 4,
 "nbformat_minor": 1
}
