{
 "cells": [
  {
   "cell_type": "code",
   "execution_count": null,
   "metadata": {},
   "outputs": [],
   "source": [
    "import numpy as np\n",
    "import matplotlib.pyplot as plt"
   ]
  },
  {
   "cell_type": "code",
   "execution_count": null,
   "metadata": {},
   "outputs": [],
   "source": [
    "def get_material_law(eps_v_Emn, eps_d_Emna, eps_p_v_Emn, eps_p_d_Emna,\n",
    "                     kappa_Emn, E, nu, H, sigma_0, alpha, alpha_p, beta_p):\n",
    "    \n",
    "    K = E / (1 -2 * nu)\n",
    "    G = E / 2*(1 + nu)\n",
    "    \n",
    "    sigma_v_trial = K * (eps_v_Emn - eps_p_v_Emn)\n",
    "    sigma_d_trial = K * (eps_d_Emna - eps_p_d_Emna)\n",
    "    sigma_d_inner = np.einsum('...n,...n->...',sigma_d_trial,sigma_d_trial)\n",
    "    \n",
    "    omega_Emn = alpha_p * (1 - np.exp(-beta_p*kappa_Emn))\n",
    "    \n",
    "    f = np.sqrt(3/2 * sigma_d_inner) + alpha * sigma_v_trial - (1 - omega_Emn) * (sigma_0 + H * kappa_Emn)\n",
    "        \n",
    "    if f > 0:\n",
    "        \n",
    "        delta_lambda = (np.sqrt (3/2) * np.abs(sigma_d_inner) + alpha * sigma_v_trial - (1 - omega_Emn) * \n",
    "                        (sigma_0 + H * kappa_Emn))/(3 * G + K * alpha**2 + (1 - omega_Emn) * H)\n",
    "        \n",
    "        if (np.sqrt(3/2)* np.abs(sigma_d_inner) - 3 * delta_lambda * G) >= 0:\n",
    "        \n",
    "            sigma_d_Emna = sigma_d_trial - delta_lambda * G * 3 / (np.sqrt(3/2 * sigma_d_inner)) * sigma_d_trial\n",
    "\n",
    "            sigma_v_Emn = sigma_v_trial - delta_lambda * K * alpha\n",
    "\n",
    "            eps_p_d_Emna = eps_d_Emna - sigma_d_Emna / (2 * G)\n",
    "\n",
    "            eps_p_v_Emn = eps_v_Emn - sigma_v_Emn / K\n",
    "\n",
    "            kappa_Emn = kappa_Emn + delta_lambda\n",
    "            \n",
    "            omega_Emn = alpha_p * (1 - np.exp(-beta_p*kappa_Emn))\n",
    "            \n",
    "        else: \n",
    "            \n",
    "            delta_eps_v = (alpha * sigma_v_trial - (1 - omega_Emn) * (sigma_0 + H * kappa_Emn)) / (alpha * K + (1 - omega_Emn) * H / alpha)\n",
    "            \n",
    "            sigma_d_Emna = 0.\n",
    "            \n",
    "            sigma_v_Emn = sigma_v_trial - delta_eps_v * K\n",
    "            \n",
    "            eps_p_d_Emna = eps_d_Emna \n",
    "\n",
    "            eps_p_v_Emn = eps_v_Emn - sigma_v_Emn / K\n",
    "\n",
    "            kappa_Emn = kappa_Emn + delta_eps_v / alpha\n",
    "            \n",
    "            omega_Emn = alpha_p * (1 - np.exp(-beta_p*kappa_Emn))\n",
    "            \n",
    "    else:\n",
    "        sigma_d_Emna = sigma_d_trial\n",
    "        sigma_v_Emn = sigma_v_trial\n",
    "            \n",
    "            \n",
    "    return sigma_d_Emna,sigma_v_Emn,eps_p_d_Emna,eps_p_v_Emn,kappa_Emn,omega_Emn"
   ]
  },
  {
   "cell_type": "code",
   "execution_count": null,
   "metadata": {},
   "outputs": [],
   "source": [
    "eps_1 = np.linspace(0,-0.0001,1000)\n",
    "eps = np.zeros((len(eps_1),3,3))\n",
    "I = eps[:] +  np.eye(3,like=eps)\n",
    "eps[:,0,0] = eps_1\n",
    "eps[:,1,1] = -0.18 * eps_1\n",
    "eps[:,2,2] = -0.18 * eps_1\n",
    "eps_v_Emn = (eps[:,0,0] + eps[:,1,1] + eps[:,2,2])/3 \n",
    "eps_d = eps -  np.einsum('nij, n -> nij', I, eps_v_Emn)\n",
    "n = np.array([1,1,1]/np.sqrt(3))\n",
    "eps_d_Emna = np.einsum('...nij, ...j -> ni',eps_d, n)"
   ]
  },
  {
   "cell_type": "code",
   "execution_count": null,
   "metadata": {},
   "outputs": [],
   "source": [
    "E = 38000\n",
    "nu = 0.18\n",
    "sigma_0 = 200.5\n",
    "alpha = 0.2\n",
    "H = 000.\n",
    "beta_p = 250\n",
    "alpha_p = 0.998\n",
    "    \n",
    "eps_p_v_Emn = np.zeros_like(eps_v_Emn)\n",
    "kappa_Emn = np.zeros_like(eps_v_Emn)\n",
    "sigma_v_Emn = np.zeros_like(eps_v_Emn)\n",
    "omega_Emn = np.zeros_like(eps_v_Emn)\n",
    "eps_p_d_Emna = np.zeros_like(eps_d_Emna)\n",
    "sigma_d_Emna = np.zeros_like(eps_d_Emna)\n",
    "\n",
    "for i in range(1,len(eps_1)-1):\n",
    "    sigma_d_Emna[i],sigma_v_Emn[i],eps_p_d_Emna[i],eps_p_v_Emn[i],kappa_Emn[i],omega_Emn[i] = get_material_law(eps_v_Emn[i], eps_d_Emna[i], eps_p_v_Emn[i-1], eps_p_d_Emna[i-1], kappa_Emn[i-1], E, nu, H, sigma_0, alpha, alpha_p, beta_p)\n",
    "    \n",
    "plt.plot(eps_1,sigma_v_Emn)"
   ]
  },
  {
   "cell_type": "code",
   "execution_count": null,
   "metadata": {},
   "outputs": [],
   "source": [
    "plt.plot(eps_1,kappa_Emn)"
   ]
  },
  {
   "cell_type": "code",
   "execution_count": null,
   "metadata": {},
   "outputs": [],
   "source": []
  }
 ],
 "metadata": {
  "kernelspec": {
   "display_name": "Python [conda env:bmcs_env]",
   "language": "python",
   "name": "conda-env-bmcs_env-py"
  },
  "language_info": {
   "codemirror_mode": {
    "name": "ipython",
    "version": 3
   },
   "file_extension": ".py",
   "mimetype": "text/x-python",
   "name": "python",
   "nbconvert_exporter": "python",
   "pygments_lexer": "ipython3"
  }
 },
 "nbformat": 4,
 "nbformat_minor": 1
}
