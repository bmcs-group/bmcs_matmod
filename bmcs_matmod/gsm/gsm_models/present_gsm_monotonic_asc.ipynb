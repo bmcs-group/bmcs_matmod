{
 "cells": [
  {
   "cell_type": "markdown",
   "metadata": {},
   "source": [
    "# Present the symbolic derivation of existing models"
   ]
  },
  {
   "cell_type": "code",
   "execution_count": null,
   "metadata": {},
   "outputs": [],
   "source": [
    "%matplotlib widget\n",
    "import os, importlib, inspect\n",
    "from IPython.display import display, Math, Latex, Markdown\n",
    "from bmcs_matmod.gsm.gsm_models.gsm_base import GSMBase, sp\n",
    "import numpy as np\n",
    "import matplotlib.pyplot as plt"
   ]
  },
  {
   "cell_type": "code",
   "execution_count": null,
   "metadata": {},
   "outputs": [],
   "source": [
    "modules = []\n",
    "\n",
    "# Collect all relevant modules and their classes\n",
    "for file_name in os.listdir('.'):\n",
    "    if file_name.endswith('.py') and file_name not in ['gsm_base.py', '__init__.py']:\n",
    "        module_path = f\"bmcs_matmod.gsm.gsm_models.{file_name[:-3]}\"\n",
    "        module = importlib.import_module(module_path)\n",
    "        for name, obj in inspect.getmembers(module, inspect.isclass):\n",
    "            if issubclass(obj, GSMBase) and obj is not GSMBase:\n",
    "                modules.append((name, obj))\n",
    "\n",
    "# Sort the modules by class names\n",
    "modules.sort(key=lambda x: x[0])\n",
    "\n",
    "gsm_models = {name: obj() for name, obj in modules}\n",
    "gsm_models"
   ]
  },
  {
   "cell_type": "code",
   "execution_count": null,
   "metadata": {},
   "outputs": [],
   "source": [
    "n_t = 151\n",
    "n_I = 1\n",
    "eps_max = 5\n",
    "t_t = np.linspace(0, 10, n_t)\n",
    "eps_n_t = np.linspace(0, eps_max, n_t)\n",
    "response = {}\n",
    "for name, gsm in gsm_models.items():\n",
    "    print(f'name: {name}')\n",
    "    gsm_engine = gsm.F_engine\n",
    "    mparams = {var: 1 for var in gsm_engine.m_params}\n",
    "    response[name] = gsm_engine.get_response(eps_n_t, t_t, mparams, 10)\n"
   ]
  },
  {
   "cell_type": "code",
   "execution_count": null,
   "metadata": {},
   "outputs": [],
   "source": [
    "fig, ax_sig = plt.subplots(1, 1, figsize=(8, 5))\n",
    "\n",
    "selection = ['GSM1D_VEVP', 'GSM1D_VEVPD', 'GSM1D_VED']\n",
    "if len(selection) == 0:\n",
    "    selection = response.keys()\n",
    "for name in selection:\n",
    "    resp = response[name]    \n",
    "    t_t, eps_ta, sig_ta, Eps_t, Sig_t, iter_t, lam_t, (d_t_t, d_eps_ta) = resp\n",
    "    eps_t = eps_ta[:, 0]\n",
    "    sig_t = sig_ta[:, 0, 0]\n",
    "    ax_sig.plot(eps_t, sig_t, label=rf'{name}')\n",
    "\n",
    "ax_sig.set_ylabel(r'$\\sigma$', color='darkslategray')\n",
    "ax_sig.set_xlabel(r'$\\varepsilon$')\n",
    "ax_sig.legend()\n"
   ]
  },
  {
   "cell_type": "code",
   "execution_count": null,
   "metadata": {},
   "outputs": [],
   "source": [
    "E, K, f_c, eta_vp, eta_ve = gsm_models['GSM1D_VEVP'].F_engine.m_params # S, c, r, \n",
    "#mparams = {E: 100, K: 10, f_c: 1, S: 1, c: 1, r: 1, eta_vp: 1, eta_ve: 1}\n",
    "mparams = {E: 100, K: 10, f_c: 1, eta_vp: 1, eta_ve: 1}\n",
    "response = gsm_models['GSM1D_VEVP'].F_engine.get_response(eps_n_t, t_t, mparams, 10)\n",
    "t_t, eps_ta, sig_ta, Eps_t, Sig_t, iter_t, lam_t, (d_t_t, d_eps_ta) = response\n",
    "eps_t = eps_ta[:, 0]\n",
    "sig_t = sig_ta[:, 0, 0]\n",
    "# eps_ve_t, eps_vp_t, omega_t, z_t = Eps_t[:, 0, :].T\n",
    "# sig_ve_t, sig_vp_t, Y_t, Z_t = Sig_t[:, 0, :].T\n",
    "eps_ve_t, eps_vp_t, z_t = Eps_t[:, 0, :].T\n",
    "sig_ve_t, sig_vp_t, Z_t = Sig_t[:, 0, :].T"
   ]
  },
  {
   "cell_type": "code",
   "execution_count": null,
   "metadata": {},
   "outputs": [],
   "source": [
    "fig, ax_sig = plt.subplots(1, 1, figsize=(8, 5))\n",
    "ax_sig.plot(eps_t, sig_t, 'o-', label=rf'{name} - modified')"
   ]
  },
  {
   "cell_type": "code",
   "execution_count": null,
   "metadata": {},
   "outputs": [],
   "source": [
    "fig, (ax_sig, ax_omega) = plt.subplots(1, 2, figsize=(12, 4))\n",
    "\n",
    "# Plot stress-strain and iterations-strain curves\n",
    "ax_iter = ax_sig.twinx()\n",
    "ax_eps = ax_omega.twinx()\n",
    "\n",
    "ax_sig.plot(eps_t, sig_t, color='cadetblue', label=r'$\\varepsilon$')\n",
    "ax_sig.plot(eps_t - eps_vp_t, sig_vp_t, ls='dashed', color='red', label=r'$\\varepsilon-\\varepsilon^\\mathrm{ve}$')\n",
    "ax_sig.plot(eps_t - eps_ve_t, sig_ve_t, ls='dashed', color='orange', label=r'$\\varepsilon-\\varepsilon^\\mathrm{ve}$')\n",
    "ax_sig.plot(eps_t - eps_ve_t, sig_ve_t, ls='dashed', color='orange', label=r'$\\varepsilon-\\varepsilon^\\mathrm{ve}$')\n",
    "ax_sig.set_ylabel(r'$\\sigma$', color='darkslategray')\n",
    "ax_sig.set_xlabel(r'$\\varepsilon$')\n",
    "ax_sig.legend()\n",
    "\n",
    "ax_iter.plot(eps_t, iter_t, ls='dashed', color='gray')\n",
    "ax_iter.set_ylabel(r'$k$', color='gray')\n",
    "\n",
    "# ax_omega.plot(t_t, omega_t, label='Damage', color='brown')\n",
    "ax_eps.plot(t_t, eps_t, label=r'$\\varepsilon$', color='black', lw=1)\n",
    "ax_eps.plot(t_t, eps_t - eps_ve_t - eps_vp_t, label=r'$\\varepsilon_\\mathrm{e}$', color='cadetblue', lw=1)\n",
    "ax_eps.plot(t_t, eps_ve_t, label=r'$\\varepsilon_\\mathrm{ve}$', color='red', ls='dashed', lw=1)\n",
    "ax_eps.plot(t_t, eps_vp_t, label=r'$\\varepsilon_\\mathrm{vp}$', color='orange', ls='dashed', lw=1)\n",
    "#ax_eps.legend()\n",
    "ax_omega.set_xlabel(r'$t$')\n",
    "ax_omega.set_ylabel(r'$\\omega$', color='brown')\n",
    "ax_eps.set_ylabel(r'$\\varepsilon$', color='cadetblue')\n",
    "ax_eps.legend()\n",
    "\n",
    "plt.tight_layout()\n",
    "plt.show()"
   ]
  },
  {
   "cell_type": "code",
   "execution_count": null,
   "metadata": {},
   "outputs": [],
   "source": []
  },
  {
   "cell_type": "code",
   "execution_count": null,
   "metadata": {},
   "outputs": [],
   "source": []
  }
 ],
 "metadata": {
  "kernelspec": {
   "display_name": "bmcs_matmod",
   "language": "python",
   "name": "python3"
  },
  "language_info": {
   "codemirror_mode": {
    "name": "ipython",
    "version": 3
   },
   "file_extension": ".py",
   "mimetype": "text/x-python",
   "name": "python",
   "nbconvert_exporter": "python",
   "pygments_lexer": "ipython3"
  }
 },
 "nbformat": 4,
 "nbformat_minor": 2
}
