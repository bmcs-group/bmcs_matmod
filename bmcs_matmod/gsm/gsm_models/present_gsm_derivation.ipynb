{
 "cells": [
  {
   "cell_type": "markdown",
   "metadata": {},
   "source": [
    "# Present the symbolic derivation of existing models"
   ]
  },
  {
   "cell_type": "code",
   "execution_count": null,
   "metadata": {},
   "outputs": [],
   "source": [
    "import os, importlib, inspect\n",
    "from IPython.display import display, Math, Latex, Markdown\n",
    "from bmcs_matmod.gsm.gsm_models.gsm_base import GSMBase, sp"
   ]
  },
  {
   "cell_type": "code",
   "execution_count": null,
   "metadata": {},
   "outputs": [],
   "source": [
    "modules = []\n",
    "\n",
    "# Collect all relevant modules and their classes\n",
    "for file_name in os.listdir('.'):\n",
    "    if file_name.endswith('.py') and file_name not in ['gsm_base.py', '__init__.py']:\n",
    "        module_path = f\"bmcs_matmod.gsm.gsm_models.{file_name[:-3]}\"\n",
    "        module = importlib.import_module(module_path)\n",
    "        for name, obj in inspect.getmembers(module, inspect.isclass):\n",
    "            if issubclass(obj, GSMBase) and obj is not GSMBase:\n",
    "                modules.append((name, obj))\n",
    "\n",
    "# Sort the modules by class names\n",
    "modules.sort(key=lambda x: x[0])\n",
    "\n",
    "# Instantiate and render the classes\n",
    "for name, obj in modules:\n",
    "    instance = obj()\n",
    "    display(Markdown('---'))\n",
    "    latex_potentials = instance.latex_potentials(name)\n",
    "    display(Markdown(latex_potentials))\n"
   ]
  },
  {
   "cell_type": "code",
   "execution_count": null,
   "metadata": {},
   "outputs": [],
   "source": []
  }
 ],
 "metadata": {
  "kernelspec": {
   "display_name": "bmcs_env2",
   "language": "python",
   "name": "python3"
  },
  "language_info": {
   "codemirror_mode": {
    "name": "ipython",
    "version": 3
   },
   "file_extension": ".py",
   "mimetype": "text/x-python",
   "name": "python",
   "nbconvert_exporter": "python",
   "pygments_lexer": "ipython3"
  }
 },
 "nbformat": 4,
 "nbformat_minor": 2
}
