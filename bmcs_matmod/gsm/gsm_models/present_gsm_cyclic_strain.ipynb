{
 "cells": [
  {
   "cell_type": "markdown",
   "metadata": {},
   "source": [
    "# Present the symbolic derivation of existing models"
   ]
  },
  {
   "cell_type": "code",
   "execution_count": null,
   "metadata": {},
   "outputs": [],
   "source": [
    "%matplotlib widget\n",
    "import os, importlib, inspect\n",
    "from IPython.display import display, Math, Latex, Markdown\n",
    "from bmcs_matmod.gsm.gsm_models.gsm_base import GSMBase, sp\n",
    "import numpy as np\n",
    "import matplotlib.pyplot as plt"
   ]
  },
  {
   "cell_type": "code",
   "execution_count": null,
   "metadata": {},
   "outputs": [],
   "source": [
    "modules = []\n",
    "\n",
    "# Collect all relevant modules and their classes\n",
    "for file_name in os.listdir('.'):\n",
    "    if file_name.endswith('.py') and file_name not in ['gsm_base.py', '__init__.py']:\n",
    "        module_path = f\"bmcs_matmod.gsm.gsm_models.{file_name[:-3]}\"\n",
    "        module = importlib.import_module(module_path)\n",
    "        for name, obj in inspect.getmembers(module, inspect.isclass):\n",
    "            if issubclass(obj, GSMBase) and obj is not GSMBase:\n",
    "                modules.append((name, obj))\n",
    "\n",
    "# Sort the modules by class names\n",
    "modules.sort(key=lambda x: x[0])\n",
    "\n",
    "gsm_models = {name: obj() for name, obj in modules}\n",
    "gsm_models"
   ]
  },
  {
   "cell_type": "code",
   "execution_count": null,
   "metadata": {},
   "outputs": [],
   "source": [
    "t_, eps_max_, t_1_, t_2_, t_3_ = sp.symbols('t eps_max t_1 t_2 t_3', real=True, positive=True)\n",
    "eps_t_ = sp.Piecewise(\n",
    "    (eps_max_ / t_1_ * t_, t_ < t_1_),\n",
    "    (eps_max_, t_ < t_2_),\n",
    "    (eps_max_ - eps_max_/(t_3_-t_2_)*(t_ - t_2_), t_ < t_3_),\n",
    "    (0, True)\n",
    ")\n",
    "get_eps_t = sp.lambdify((t_, eps_max_, t_1_, t_2_, t_3_), eps_t_, 'numpy')\n",
    "final_time = 1\n",
    "eps_max = 1.5\n",
    "t_t = np.linspace(0, final_time, 2000)\n",
    "sig_n_t = get_eps_t(t_t, eps_max, 0.25*final_time, 0.5*final_time, 0.75*final_time)\n",
    "fig, ax = plt.subplots(1,1)\n",
    "ax.plot(t_t, sig_n_t)"
   ]
  },
  {
   "cell_type": "code",
   "execution_count": null,
   "metadata": {},
   "outputs": [],
   "source": [
    "mparams = dict(E = 20, K = 20, S = 1, c = 1, r = 1, eps_0 = 0, f_c = 15, eta_vp=50, eta_ve=500)\n",
    "response = {}\n",
    "selection = [] # ['GSM1D_VEVP', 'GSM1D_VEVPD']\n",
    "if len(selection) == 0:\n",
    "    selection = gsm_models.keys()\n",
    "for name in selection:\n",
    "    gsm = gsm_models[name]\n",
    "    print(f'name: {name}')\n",
    "    response[name] = gsm.get_response(sig_n_t, t_t, **mparams)\n"
   ]
  },
  {
   "cell_type": "code",
   "execution_count": null,
   "metadata": {},
   "outputs": [],
   "source": [
    "fig, (ax_sig, ax_eps) = plt.subplots(1, 2, figsize=(12, 5), gridspec_kw={'width_ratios': [7, 3]})\n",
    "ax_iter = ax_eps.twinx()\n",
    "ax_iter.set_ylabel('Iterations')\n",
    "# ax_eps.plot(t_t, eps_n_t, color='black')\n",
    "# ax_eps.set_xlabel(r'$t$')\n",
    "# ax_eps.set_ylabel(r'$\\varepsilon$')\n",
    "for name, resp in response.items():\n",
    "    t_t, eps_ta, sig_ta, Eps_t, Sig_t, iter_tI, lam_t, (d_t_t, d_eps_ta) = resp\n",
    "    eps_t = eps_ta[:, 0]\n",
    "    iter_t = iter_tI[:, 0]\n",
    "    sig_t = sig_ta[:, 0, 0]\n",
    "    ax_sig.plot(eps_t, sig_t, label=rf'{name}')\n",
    "    ax_iter.plot(t_t, iter_t, label=rf'{name}', linestyle='dashed')\n",
    "    # Add a box with the material parameters\n",
    "    param_text = ', '.join([f'{key}: {value}' for key, value in mparams.items()])\n",
    "    param_text = '\\n'.join([', '.join(param_text.split(', ')[i:i+5]) for i in range(0, len(param_text.split(', ')), 5)])\n",
    "    props = dict(boxstyle='round', facecolor='lightgray', edgecolor='lightgray', alpha=0.5)\n",
    "    ax_sig.text(0.5, 0.97, param_text, transform=ax_sig.transAxes, fontsize=11,\n",
    "                verticalalignment='top', horizontalalignment='center', bbox=props)\n",
    "ax_sig.set_ylabel(r'$\\sigma$', color='darkslategray')\n",
    "ax_sig.set_xlabel(r'$\\varepsilon$')\n",
    "ax_sig.legend(fontsize='small')\n",
    "fig.tight_layout()"
   ]
  },
  {
   "cell_type": "code",
   "execution_count": null,
   "metadata": {},
   "outputs": [],
   "source": []
  },
  {
   "cell_type": "code",
   "execution_count": null,
   "metadata": {},
   "outputs": [],
   "source": [
    "mparams = dict(E = 20, K = 20, S = 1, c = 1, r = 1, eps_0 = 0, f_c = 15, \n",
    "               eta_vp=500, eta_ve=500)\n",
    "response = {}\n",
    "selection = ['GSM1D_EVPD', 'GSM1D_VEVPD']\n",
    "if len(selection) == 0:\n",
    "    selection = gsm_models.keys()\n",
    "for name in selection:\n",
    "    gsm = gsm_models[name]\n",
    "    print(f'name: {name}')\n",
    "    response[name] = gsm.get_response(sig_n_t, t_t, **mparams)\n"
   ]
  },
  {
   "cell_type": "code",
   "execution_count": null,
   "metadata": {},
   "outputs": [],
   "source": [
    "fig, (ax_sig, ax_eps) = plt.subplots(1, 2, figsize=(12, 5), gridspec_kw={'width_ratios': [7, 3]})\n",
    "ax_iter = ax_eps.twinx()\n",
    "ax_iter.set_ylabel('Iterations')\n",
    "# ax_eps.plot(t_t, eps_n_t, color='black')\n",
    "# ax_eps.set_xlabel(r'$t$')\n",
    "# ax_eps.set_ylabel(r'$\\varepsilon$')\n",
    "for name, resp in response.items():\n",
    "    t_t, eps_ta, sig_ta, Eps_t, Sig_t, iter_tI, lam_t, (d_t_t, d_eps_ta) = resp\n",
    "    eps_t = eps_ta[:, 0]\n",
    "    iter_t = iter_tI[:, 0]\n",
    "    sig_t = sig_ta[:, 0, 0]\n",
    "    ax_sig.plot(eps_t, sig_t, label=rf'{name}')\n",
    "    ax_iter.plot(t_t, iter_t, label=rf'{name}', linestyle='dashed')\n",
    "    # Add a box with the material parameters\n",
    "    param_text = ', '.join([f'{key}: {value}' for key, value in mparams.items()])\n",
    "    param_text = '\\n'.join([', '.join(param_text.split(', ')[i:i+5]) for i in range(0, len(param_text.split(', ')), 5)])\n",
    "    props = dict(boxstyle='round', facecolor='lightgray', edgecolor='lightgray', alpha=0.5)\n",
    "    ax_sig.text(0.5, 0.97, param_text, transform=ax_sig.transAxes, fontsize=11,\n",
    "                verticalalignment='top', horizontalalignment='center', bbox=props)\n",
    "ax_sig.set_ylabel(r'$\\sigma$', color='darkslategray')\n",
    "ax_sig.set_xlabel(r'$\\varepsilon$')\n",
    "ax_sig.legend(fontsize='small')\n",
    "fig.tight_layout()"
   ]
  },
  {
   "cell_type": "code",
   "execution_count": null,
   "metadata": {},
   "outputs": [],
   "source": []
  }
 ],
 "metadata": {
  "kernelspec": {
   "display_name": "bmcs_matmod",
   "language": "python",
   "name": "python3"
  },
  "language_info": {
   "codemirror_mode": {
    "name": "ipython",
    "version": 3
   },
   "file_extension": ".py",
   "mimetype": "text/x-python",
   "name": "python",
   "nbconvert_exporter": "python",
   "pygments_lexer": "ipython3"
  }
 },
 "nbformat": 4,
 "nbformat_minor": 2
}
