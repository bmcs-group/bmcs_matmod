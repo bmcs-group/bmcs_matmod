{
 "cells": [
  {
   "cell_type": "markdown",
   "metadata": {},
   "source": [
    "# Single variable thermo-elasto-plastic damage"
   ]
  },
  {
   "cell_type": "code",
   "execution_count": null,
   "metadata": {},
   "outputs": [],
   "source": [
    "%matplotlib widget\n",
    "from bmcs_matmod import GSM\n",
    "import matplotlib.pylab as plt \n",
    "import sympy as sp\n",
    "from bmcs_utils.api import Cymbol\n",
    "import numpy as np\n",
    "sp.init_printing()"
   ]
  },
  {
   "cell_type": "markdown",
   "metadata": {},
   "source": [
    "## Material parameters"
   ]
  },
  {
   "cell_type": "code",
   "execution_count": null,
   "metadata": {},
   "outputs": [],
   "source": [
    "E_T = Cymbol(r'E_{\\mathrm{T}}', codename='E_T_', real=True, nonnegative=True)\n",
    "gamma_T = Cymbol(r'\\gamma_{\\mathrm{T}}', codename='gamma_T_', real=True)\n",
    "X_0 = Cymbol(r'X_0', codename='X_0_', real=True)\n",
    "K_T = Cymbol(r'K_{\\mathrm{T}}', codename='K_T_', real=True)\n",
    "S_T = Cymbol(r'S_{\\mathrm{T}}', codename='S_T_', real=True, nonnegative=True)\n",
    "r_T = Cymbol(r'r_{\\mathrm{T}}', codename='r_T_', real=True, nonnegative=True)\n",
    "c_T = Cymbol(r'c_{\\mathrm{T}}', codename='c_T_', real=True, nonnegative=True)\n",
    "eta_T = Cymbol(r'\\eta_{\\mathrm{T}}', codename='eta_T_', real=True, nonnegative=True)\n",
    "# temperature \n",
    "C_v = Cymbol(r'C_{\\mathrm{v}}', codename='C_v_', real=True, nonnegative=True)\n",
    "T_0 = Cymbol(r'\\vartheta_0', codename='T_0_', real=True, nonnegative=True)\n",
    "alpha_therm = Cymbol(r'\\alpha_\\vartheta', codename='alpha_therm_', real=True, nonnegative=True)\n",
    "beta = Cymbol(r'\\beta', codename='beta_', real=True, nonnegative=True)"
   ]
  },
  {
   "cell_type": "code",
   "execution_count": null,
   "metadata": {},
   "outputs": [],
   "source": [
    "f_s = Cymbol(r'f_\\mathrm{T}', codename='f_s_')"
   ]
  },
  {
   "cell_type": "code",
   "execution_count": null,
   "metadata": {},
   "outputs": [],
   "source": [
    "mparams = (E_T, gamma_T, X_0, K_T, S_T, f_s, c_T, r_T, eta_T, C_v, T_0, alpha_therm, beta)\n",
    "mparams"
   ]
  },
  {
   "cell_type": "markdown",
   "metadata": {},
   "source": [
    "## External state variables"
   ]
  },
  {
   "cell_type": "code",
   "execution_count": null,
   "metadata": {},
   "outputs": [],
   "source": [
    "u_T = Cymbol(r'\\varepsilon', codename='eps_', real=True)\n",
    "u_a = sp.Matrix([u_T])\n",
    "sig_T = Cymbol(r'\\sigma', codename='sig_', real=True)\n",
    "sig_a = sp.Matrix([sig_T])\n",
    "sig_a"
   ]
  },
  {
   "cell_type": "code",
   "execution_count": null,
   "metadata": {},
   "outputs": [],
   "source": [
    "T = Cymbol(r'\\vartheta', codename='T_', real=True)\n",
    "Gamma = sp.exp(-beta * (T - T_0))\n",
    "Gamma"
   ]
  },
  {
   "cell_type": "markdown",
   "metadata": {},
   "source": [
    "## Internal state variables"
   ]
  },
  {
   "cell_type": "code",
   "execution_count": null,
   "metadata": {},
   "outputs": [],
   "source": [
    "u_p_T = Cymbol(r'\\varepsilon^\\mathrm{p}', codename='eps_p_', real=True)\n",
    "u_p_a = sp.Matrix([u_p_T])\n",
    "sig_p_T = Cymbol(r'\\sigma^\\mathrm{p}', codename='sig_p_', real=True)\n",
    "sig_p_a = sp.Matrix([sig_p_T])"
   ]
  },
  {
   "cell_type": "code",
   "execution_count": null,
   "metadata": {},
   "outputs": [],
   "source": [
    "omega_T = Cymbol(r'\\omega_\\mathrm{T}', codename='omega_T_', real=True)\n",
    "omega_ab = sp.Matrix([[omega_T]])\n",
    "omega_a = sp.Matrix([omega_T])\n",
    "Y_T = Cymbol(r'Y_\\mathrm{T}', codename='Y_T_', real=True)\n",
    "Y_a = sp.Matrix([Y_T])"
   ]
  },
  {
   "cell_type": "code",
   "execution_count": null,
   "metadata": {},
   "outputs": [],
   "source": [
    "z_T = Cymbol(r'z_\\mathrm{T}', codename='z_T_', real=True, nonnegative=True)\n",
    "z_a = sp.Matrix([z_T])\n",
    "K_ab = sp.Matrix([[K_T]])\n",
    "Z_T = Cymbol(r'Z_\\mathrm{T}', codename='Z_T_', real=True, nonnegative=True)\n",
    "Z_a = sp.Matrix([Z_T])"
   ]
  },
  {
   "cell_type": "code",
   "execution_count": null,
   "metadata": {},
   "outputs": [],
   "source": [
    "alpha_T = Cymbol(r'\\alpha_\\mathrm{T}', codename='alpha_T_', real=True, nonnegative=True)\n",
    "gamma_ab = sp.Matrix([[gamma_T]])\n",
    "alpha_a = sp.Matrix([alpha_T])\n",
    "X_T = Cymbol(r'X_\\mathrm{T}', codename='X_T_', real=True, nonnegative=True)\n",
    "X_a = sp.Matrix([X_T])"
   ]
  },
  {
   "cell_type": "markdown",
   "metadata": {},
   "source": [
    "## Free energy potential"
   ]
  },
  {
   "cell_type": "code",
   "execution_count": null,
   "metadata": {},
   "outputs": [],
   "source": [
    "E_ab = sp.Matrix([[E_T]])\n",
    "u_el_a = u_a - u_p_a\n",
    "E_eff_ab = (sp.eye(1) - omega_ab) * E_ab\n",
    "E_eff_ab"
   ]
  },
  {
   "cell_type": "code",
   "execution_count": null,
   "metadata": {},
   "outputs": [],
   "source": [
    "U_T_ = ( (1 - omega_T) * E_T * alpha_therm * (T - T_0) * (u_T - u_p_T) )\n",
    "U_e_ = sp.Rational(1,2) * (u_el_a.T * E_eff_ab * u_el_a)[0]\n",
    "U_p_ = sp.Rational(1,2) * (z_a.T * K_ab * z_a + alpha_a.T * gamma_ab * alpha_a)[0]\n",
    "TS_ = C_v * (T - T_0) **2 / (2 * T_0)\n",
    "F_ = U_e_ + U_p_ + - TS_\n",
    "F_ = U_e_ + U_p_ - U_T_ - TS_\n",
    "F_"
   ]
  },
  {
   "cell_type": "markdown",
   "metadata": {},
   "source": [
    "## Dissipation potential"
   ]
  },
  {
   "cell_type": "code",
   "execution_count": null,
   "metadata": {},
   "outputs": [],
   "source": [
    "sig_eff_T = sp.Function(r'\\sigma^{\\mathrm{eff}}_{\\mathrm{T}}')(sig_p_T, omega_T)\n",
    "q_T = sp.Function(r'q_Tx')(sig_eff_T,X_T)\n",
    "norm_q_T = sp.sqrt(q_T*q_T)\n",
    "subs_q_T = {q_T: ((sig_eff_T  - X_0) - X_T)}\n",
    "subs_sig_eff = {sig_eff_T: sig_p_T / (1-omega_T) }\n",
    "y = Cymbol(r'y')\n",
    "f_s = Cymbol(r'f_s_')\n",
    "f_solved_ = sp.sqrt(y**2) - f_s\n",
    "f_ = (f_solved_\n",
    "      .subs({y: norm_q_T})\n",
    "      .subs(subs_q_T)\n",
    "      .subs(subs_sig_eff)\n",
    "      .subs(f_s,((f_s + Z_T) * Gamma ))\n",
    "      )"
   ]
  },
  {
   "cell_type": "code",
   "execution_count": null,
   "metadata": {},
   "outputs": [],
   "source": [
    "f_"
   ]
  },
  {
   "cell_type": "code",
   "execution_count": null,
   "metadata": {},
   "outputs": [],
   "source": [
    "phi_T = (1 - omega_T)**c_T * S_T / (r_T+1) * (Y_T / S_T)**(r_T+1)\n",
    "phi_ext_ = phi_T\n",
    "phi_ext_"
   ]
  },
  {
   "cell_type": "code",
   "execution_count": null,
   "metadata": {},
   "outputs": [],
   "source": [
    "t_relax_T_ = eta_T / (E_T + K_T + gamma_T)\n",
    "t_relax_ = sp.Matrix([\n",
    "                    t_relax_T_,\n",
    "                    t_relax_T_,\n",
    "                    t_relax_T_,\n",
    "                    ] \n",
    "               )"
   ]
  },
  {
   "cell_type": "code",
   "execution_count": null,
   "metadata": {},
   "outputs": [],
   "source": [
    "Eps_vars = (u_p_a, z_a, alpha_a, omega_a)"
   ]
  },
  {
   "cell_type": "code",
   "execution_count": null,
   "metadata": {},
   "outputs": [],
   "source": [
    "Sig_vars = (sig_p_a, Z_a, X_a, Y_a)"
   ]
  },
  {
   "cell_type": "code",
   "execution_count": null,
   "metadata": {},
   "outputs": [],
   "source": []
  }
 ],
 "metadata": {
  "kernelspec": {
   "display_name": "bmcs_env2",
   "language": "python",
   "name": "python3"
  },
  "language_info": {
   "codemirror_mode": {
    "name": "ipython",
    "version": 3
   },
   "file_extension": ".py",
   "mimetype": "text/x-python",
   "name": "python",
   "nbconvert_exporter": "python",
   "pygments_lexer": "ipython3"
  }
 },
 "nbformat": 4,
 "nbformat_minor": 2
}
