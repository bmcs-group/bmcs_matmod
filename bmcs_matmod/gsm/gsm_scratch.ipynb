{
 "cells": [
  {
   "cell_type": "code",
   "execution_count": null,
   "metadata": {},
   "outputs": [],
   "source": [
    "import traits.api as tr\n",
    "import sympy as sp\n",
    "import dill\n",
    "import os\n",
    "import functools\n",
    "def get_dirac_delta(x, x_0=0):\n",
    "    return 0\n",
    "numpy_dirac =[{'DiracDelta': get_dirac_delta }, 'numpy']\n",
    "\n",
    "\n",
    "CACHE_DIR = '_lambdified_cache'\n",
    "\n",
    "def cached_lambdify(func):\n",
    "    @functools.wraps(func)\n",
    "    def wrapper(self):\n",
    "        class_name = self.__class__.__name__\n",
    "        object_name = self.name\n",
    "        property_name = func.__name__\n",
    "        cache_dir = CACHE_DIR\n",
    "        filename = os.path.join(cache_dir, f\"{class_name}_{object_name}_{property_name}.pkl\")\n",
    "\n",
    "        if not os.path.exists(cache_dir):\n",
    "            os.makedirs(cache_dir)\n",
    "\n",
    "        if os.path.exists(filename):\n",
    "            with open(filename, 'rb') as f:\n",
    "                lambdified_func = dill.load(f)\n",
    "        else:\n",
    "            lambdified_func = func(self)\n",
    "            with open(filename, 'wb') as f:\n",
    "                dill.dump(lambdified_func, f)\n",
    "\n",
    "        return lambdified_func\n",
    "\n",
    "    return tr.cached_property(wrapper)\n",
    "\n",
    "class GSM(tr.HasTraits):\n",
    "    name = tr.Str('unnamed')\n",
    "\n",
    "    # Example of using the new decorator\n",
    "    _sig_lambdified = cached_lambdify\n",
    "    def _get__sig_lambdified(self):\n",
    "        return sp.lambdify((self.u_vars, self.T_var, \n",
    "                            self.Eps.as_explicit(), \n",
    "                            self.Sig.as_explicit()) + self.m_params + ('**kw',), \n",
    "                           self.sig_, numpy_dirac, cse=True)\n",
    "\n",
    "    # Apply the new decorator to other properties\n",
    "    _dDiss_dEps_lambdified = cached_lambdify\n",
    "    def _get__dDiss_dEps_lambdified(self):\n",
    "        return sp.lambdify((self.u_vars, self.T_var, \n",
    "                            self.Eps.as_explicit(), \n",
    "                            self.Sig.as_explicit()) + self.m_params + ('**kw',), \n",
    "                           self.dDiss_dEps_, numpy_dirac, cse=True)\n",
    "\n",
    "    _Sig_lambdified = cached_lambdify\n",
    "    def _get__Sig_lambdified(self):\n",
    "        return sp.lambdify((self.u_vars, self.T_var, \n",
    "                            self.Eps.as_explicit(), \n",
    "                            self.Sig.as_explicit()) + self.m_params + ('**kw',), \n",
    "                           self.Sig_.as_explicit(), numpy_dirac, cse=True)\n",
    "\n",
    "    _Phi_lambdified = cached_lambdify\n",
    "    def _get__Phi_lambdified(self):\n",
    "        return sp.lambdify((self.u_vars, self.T_var, \n",
    "                            self.Eps.as_explicit(), \n",
    "                            self.Sig.as_explicit()) + self.m_params + ('**kw',), \n",
    "                           self.Phi_, numpy_dirac, cse=True)\n",
    "\n",
    "class A(tr.HasTraits):\n",
    "    a = tr.Property()\n",
    "    def _get_a(self):\n",
    "        return 22\n"
   ]
  },
  {
   "cell_type": "code",
   "execution_count": null,
   "metadata": {},
   "outputs": [],
   "source": [
    "gsm_x = GSM()\n",
    "a_ = A()"
   ]
  },
  {
   "cell_type": "code",
   "execution_count": null,
   "metadata": {},
   "outputs": [],
   "source": [
    "a_.a"
   ]
  },
  {
   "cell_type": "code",
   "execution_count": null,
   "metadata": {},
   "outputs": [],
   "source": [
    "d"
   ]
  }
 ],
 "metadata": {
  "kernelspec": {
   "display_name": "bmcs_env2",
   "language": "python",
   "name": "python3"
  },
  "language_info": {
   "codemirror_mode": {
    "name": "ipython",
    "version": 3
   },
   "file_extension": ".py",
   "mimetype": "text/x-python",
   "name": "python",
   "nbconvert_exporter": "python",
   "pygments_lexer": "ipython3"
  }
 },
 "nbformat": 4,
 "nbformat_minor": 2
}
