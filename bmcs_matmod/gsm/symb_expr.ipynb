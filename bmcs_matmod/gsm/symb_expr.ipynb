{
 "cells": [
  {
   "cell_type": "code",
   "execution_count": null,
   "metadata": {},
   "outputs": [],
   "source": [
    "import sympy as sp\n",
    "import traits.api as tr\n",
    "import numpy as np\n",
    "from symb_expr import SymbExpr, InjectSymbExpr\n",
    "from bmcs_utils.api import Cymbol\n",
    "sp.init_printing()"
   ]
  },
  {
   "cell_type": "code",
   "execution_count": null,
   "metadata": {},
   "outputs": [],
   "source": [
    "\n",
    "class QuadraticSym(SymbExpr):\n",
    "    # -------------------------------------------------------------------------\n",
    "    # Symbolic derivation of variables\n",
    "    # -------------------------------------------------------------------------\n",
    "    x = sp.Symbol(\n",
    "        r'x', real=True,\n",
    "    )\n",
    "\n",
    "    # -------------------------------------------------------------------------\n",
    "    # Model parameters\n",
    "    # -------------------------------------------------------------------------\n",
    "    a, b, c = sp.symbols(\n",
    "        r'a, b, c', real=True,\n",
    "    )\n",
    "\n",
    "    # -------------------------------------------------------------------------\n",
    "    # Expressions\n",
    "    # -------------------------------------------------------------------------\n",
    "\n",
    "    y_x = a * x ** 2 + b * x + c\n",
    "\n",
    "    dy_dx = y_x.diff(x)\n",
    "\n",
    "    int_y_x = sp.integrate(y_x, x)\n",
    "\n",
    "    #-------------------------------------------------------------------------\n",
    "    # Declaration of the lambdified methods\n",
    "    #-------------------------------------------------------------------------\n",
    "\n",
    "    symb_model_params = ['a', 'b', 'c']\n",
    "\n",
    "    # List of expressions for which the methods `get_`\n",
    "    symb_expressions = [\n",
    "        ('y_x', ('x',)),\n",
    "        ('dy_dx', ('x',)),\n",
    "        ('int_y_x', ('x',))\n",
    "    ]\n",
    "\n",
    "class QuadraticModel(InjectSymbExpr):\n",
    "\n",
    "    symb_class = QuadraticSym\n",
    "\n",
    "    a = tr.Float(8, param=True)\n",
    "    b = tr.Float(3, param=True)\n",
    "    c = tr.Float(8, param=True)\n",
    "\n",
    "qm = QuadraticModel()\n",
    "print(qm.symb.get_y_x(3))\n",
    "print(qm.symb.get_dy_dx(np.linspace(0,10,11)))\n",
    "print(qm.symb.get_int_y_x(np.linspace(0,10,11)))"
   ]
  },
  {
   "cell_type": "code",
   "execution_count": null,
   "metadata": {},
   "outputs": [],
   "source": [
    "from symb_expr2 import SymbExpr\n",
    "\n",
    "class SomeModel(SymbExpr):\n",
    "#    x, y = sp.symbols('x y')\n",
    "\n",
    "    def _derive(self):\n",
    "        a, b = sp.symbols('a b')\n",
    "        x_g = Cymbol(r'x_\\mathrm{\\gamma}', codename='x_g')\n",
    "        y = Cymbol('y')\n",
    "        # Example derivation\n",
    "        # Define integrands/symbolic expressions here\n",
    "        self.integral_expr = sp.integrate(a * x_g + b * y, x_g)\n",
    "\n",
    "    symb_variables = ['x_g', 'y']\n",
    "    symb_model_params = ['a', 'b']\n",
    "    symb_expressions = ['integral_expr']\n"
   ]
  },
  {
   "cell_type": "code",
   "execution_count": null,
   "metadata": {},
   "outputs": [],
   "source": [
    "sm = SomeModel()"
   ]
  },
  {
   "cell_type": "code",
   "execution_count": null,
   "metadata": {},
   "outputs": [],
   "source": [
    "sm.get_integral_expr(4, 6, 1, 2)"
   ]
  },
  {
   "cell_type": "code",
   "execution_count": null,
   "metadata": {},
   "outputs": [],
   "source": [
    "sm.integral_expr"
   ]
  },
  {
   "cell_type": "code",
   "execution_count": null,
   "metadata": {},
   "outputs": [],
   "source": [
    "type(sm.x_g)"
   ]
  },
  {
   "cell_type": "code",
   "execution_count": null,
   "metadata": {},
   "outputs": [],
   "source": []
  }
 ],
 "metadata": {
  "kernelspec": {
   "display_name": "bmcs_env2",
   "language": "python",
   "name": "python3"
  },
  "language_info": {
   "codemirror_mode": {
    "name": "ipython",
    "version": 3
   },
   "file_extension": ".py",
   "mimetype": "text/x-python",
   "name": "python",
   "nbconvert_exporter": "python",
   "pygments_lexer": "ipython3"
  }
 },
 "nbformat": 4,
 "nbformat_minor": 2
}
